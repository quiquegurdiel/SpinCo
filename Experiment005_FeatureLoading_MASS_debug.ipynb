{
 "cells": [
  {
   "cell_type": "code",
   "execution_count": 1,
   "metadata": {},
   "outputs": [],
   "source": [
    "#external libraries\n",
    "import numpy as np\n",
    "import os\n",
    "import matplotlib.pyplot as plt\n",
    "import matplotlib.colors as clt\n",
    "import plotly\n",
    "import plotly.subplots as sb\n",
    "import plotly.express as px\n",
    "import plotly.graph_objects as go\n",
    "import dotenv\n",
    "import pandas as pd\n",
    "import scipy.fft as fft\n",
    "import scipy.signal as sg\n",
    "import scipy.io as sio\n",
    "import pickle as pkl\n",
    "import xgboost as xgb\n",
    "import time\n",
    "\n",
    "#project library\n",
    "from spinco import *\n",
    "\n",
    "#environment variables\n",
    "dotenv.load_dotenv('lab.env')\n",
    "\n",
    "#project variables\n",
    "datapath=os.environ['DATAPATH']\n",
    "cognipath=datapath+\"\\\\COGNITION\"\n",
    "dreamspath=datapath+\"\\\\DREAMS\"\n",
    "masspath=datapath+\"\\\\MASS\"\n"
   ]
  },
  {
   "cell_type": "markdown",
   "metadata": {},
   "source": [
    "## define a fixed samplerate"
   ]
  },
  {
   "cell_type": "code",
   "execution_count": 2,
   "metadata": {},
   "outputs": [],
   "source": [
    "samplerate=200\n",
    "window=2"
   ]
  },
  {
   "cell_type": "markdown",
   "metadata": {},
   "source": [
    "## load mass"
   ]
  },
  {
   "cell_type": "code",
   "execution_count": 3,
   "metadata": {},
   "outputs": [],
   "source": [
    "annotations, signalsMetadata = loadMASSSpindles(masspath,forceSamplerate=samplerate)"
   ]
  },
  {
   "cell_type": "code",
   "execution_count": 4,
   "metadata": {},
   "outputs": [
    {
     "data": {
      "text/html": [
       "<div>\n",
       "<style scoped>\n",
       "    .dataframe tbody tr th:only-of-type {\n",
       "        vertical-align: middle;\n",
       "    }\n",
       "\n",
       "    .dataframe tbody tr th {\n",
       "        vertical-align: top;\n",
       "    }\n",
       "\n",
       "    .dataframe thead th {\n",
       "        text-align: right;\n",
       "    }\n",
       "</style>\n",
       "<table border=\"1\" class=\"dataframe\">\n",
       "  <thead>\n",
       "    <tr style=\"text-align: right;\">\n",
       "      <th></th>\n",
       "      <th>type</th>\n",
       "      <th>subjectId</th>\n",
       "      <th>startTime</th>\n",
       "      <th>duration</th>\n",
       "      <th>expert</th>\n",
       "      <th>comment</th>\n",
       "      <th>labelerId</th>\n",
       "      <th>samplerate</th>\n",
       "      <th>stopTime</th>\n",
       "      <th>startInd</th>\n",
       "      <th>stopInd</th>\n",
       "    </tr>\n",
       "  </thead>\n",
       "  <tbody>\n",
       "    <tr>\n",
       "      <th>0</th>\n",
       "      <td>spindle</td>\n",
       "      <td>0001</td>\n",
       "      <td>888.569501</td>\n",
       "      <td>0.640579</td>\n",
       "      <td>E1</td>\n",
       "      <td>&lt;Event channel=\"EEG C3-LER\" groupName=\"spindle...</td>\n",
       "      <td>0001</td>\n",
       "      <td>200</td>\n",
       "      <td>889.210080</td>\n",
       "      <td>177714</td>\n",
       "      <td>177842</td>\n",
       "    </tr>\n",
       "    <tr>\n",
       "      <th>1</th>\n",
       "      <td>spindle</td>\n",
       "      <td>0001</td>\n",
       "      <td>905.999757</td>\n",
       "      <td>0.578094</td>\n",
       "      <td>E1</td>\n",
       "      <td>&lt;Event channel=\"EEG C3-LER\" groupName=\"spindle...</td>\n",
       "      <td>0001</td>\n",
       "      <td>200</td>\n",
       "      <td>906.577851</td>\n",
       "      <td>181200</td>\n",
       "      <td>181316</td>\n",
       "    </tr>\n",
       "    <tr>\n",
       "      <th>2</th>\n",
       "      <td>spindle</td>\n",
       "      <td>0001</td>\n",
       "      <td>917.973270</td>\n",
       "      <td>0.847603</td>\n",
       "      <td>E1</td>\n",
       "      <td>&lt;Event channel=\"EEG C3-LER\" groupName=\"spindle...</td>\n",
       "      <td>0001</td>\n",
       "      <td>200</td>\n",
       "      <td>918.820873</td>\n",
       "      <td>183595</td>\n",
       "      <td>183764</td>\n",
       "    </tr>\n",
       "    <tr>\n",
       "      <th>3</th>\n",
       "      <td>spindle</td>\n",
       "      <td>0001</td>\n",
       "      <td>922.319885</td>\n",
       "      <td>0.878845</td>\n",
       "      <td>E1</td>\n",
       "      <td>&lt;Event channel=\"EEG C3-LER\" groupName=\"spindle...</td>\n",
       "      <td>0001</td>\n",
       "      <td>200</td>\n",
       "      <td>923.198730</td>\n",
       "      <td>184464</td>\n",
       "      <td>184640</td>\n",
       "    </tr>\n",
       "    <tr>\n",
       "      <th>4</th>\n",
       "      <td>spindle</td>\n",
       "      <td>0001</td>\n",
       "      <td>939.297141</td>\n",
       "      <td>0.757767</td>\n",
       "      <td>E1</td>\n",
       "      <td>&lt;Event channel=\"EEG C3-LER\" groupName=\"spindle...</td>\n",
       "      <td>0001</td>\n",
       "      <td>200</td>\n",
       "      <td>940.054908</td>\n",
       "      <td>187859</td>\n",
       "      <td>188011</td>\n",
       "    </tr>\n",
       "  </tbody>\n",
       "</table>\n",
       "</div>"
      ],
      "text/plain": [
       "      type subjectId   startTime  duration expert  \\\n",
       "0  spindle      0001  888.569501  0.640579     E1   \n",
       "1  spindle      0001  905.999757  0.578094     E1   \n",
       "2  spindle      0001  917.973270  0.847603     E1   \n",
       "3  spindle      0001  922.319885  0.878845     E1   \n",
       "4  spindle      0001  939.297141  0.757767     E1   \n",
       "\n",
       "                                             comment labelerId  samplerate  \\\n",
       "0  <Event channel=\"EEG C3-LER\" groupName=\"spindle...      0001         200   \n",
       "1  <Event channel=\"EEG C3-LER\" groupName=\"spindle...      0001         200   \n",
       "2  <Event channel=\"EEG C3-LER\" groupName=\"spindle...      0001         200   \n",
       "3  <Event channel=\"EEG C3-LER\" groupName=\"spindle...      0001         200   \n",
       "4  <Event channel=\"EEG C3-LER\" groupName=\"spindle...      0001         200   \n",
       "\n",
       "     stopTime  startInd  stopInd  \n",
       "0  889.210080    177714   177842  \n",
       "1  906.577851    181200   181316  \n",
       "2  918.820873    183595   183764  \n",
       "3  923.198730    184464   184640  \n",
       "4  940.054908    187859   188011  "
      ]
     },
     "execution_count": 4,
     "metadata": {},
     "output_type": "execute_result"
    }
   ],
   "source": [
    "annotations.head()"
   ]
  },
  {
   "cell_type": "code",
   "execution_count": 5,
   "metadata": {},
   "outputs": [
    {
     "data": {
      "text/html": [
       "<div>\n",
       "<style scoped>\n",
       "    .dataframe tbody tr th:only-of-type {\n",
       "        vertical-align: middle;\n",
       "    }\n",
       "\n",
       "    .dataframe tbody tr th {\n",
       "        vertical-align: top;\n",
       "    }\n",
       "\n",
       "    .dataframe thead th {\n",
       "        text-align: right;\n",
       "    }\n",
       "</style>\n",
       "<table border=\"1\" class=\"dataframe\">\n",
       "  <thead>\n",
       "    <tr style=\"text-align: right;\">\n",
       "      <th></th>\n",
       "      <th>subjectId</th>\n",
       "      <th>file</th>\n",
       "      <th>channel</th>\n",
       "      <th>duration</th>\n",
       "      <th>samplerate</th>\n",
       "      <th>isOriginalSamplerate</th>\n",
       "      <th>database</th>\n",
       "    </tr>\n",
       "  </thead>\n",
       "  <tbody>\n",
       "    <tr>\n",
       "      <th>0</th>\n",
       "      <td>0001</td>\n",
       "      <td>MASS_0001.pkl</td>\n",
       "      <td>C3-CLE</td>\n",
       "      <td>28956.0</td>\n",
       "      <td>200</td>\n",
       "      <td>False</td>\n",
       "      <td>MASS</td>\n",
       "    </tr>\n",
       "    <tr>\n",
       "      <th>1</th>\n",
       "      <td>0002</td>\n",
       "      <td>MASS_0002.pkl</td>\n",
       "      <td>C3-CLE</td>\n",
       "      <td>35016.0</td>\n",
       "      <td>200</td>\n",
       "      <td>False</td>\n",
       "      <td>MASS</td>\n",
       "    </tr>\n",
       "    <tr>\n",
       "      <th>2</th>\n",
       "      <td>0003</td>\n",
       "      <td>MASS_0003.pkl</td>\n",
       "      <td>C3-CLE</td>\n",
       "      <td>36760.0</td>\n",
       "      <td>200</td>\n",
       "      <td>False</td>\n",
       "      <td>MASS</td>\n",
       "    </tr>\n",
       "    <tr>\n",
       "      <th>3</th>\n",
       "      <td>0004</td>\n",
       "      <td>MASS_0004.pkl</td>\n",
       "      <td>C3-CLE</td>\n",
       "      <td>28004.0</td>\n",
       "      <td>200</td>\n",
       "      <td>False</td>\n",
       "      <td>MASS</td>\n",
       "    </tr>\n",
       "    <tr>\n",
       "      <th>4</th>\n",
       "      <td>0005</td>\n",
       "      <td>MASS_0005.pkl</td>\n",
       "      <td>C3-CLE</td>\n",
       "      <td>31244.0</td>\n",
       "      <td>200</td>\n",
       "      <td>False</td>\n",
       "      <td>MASS</td>\n",
       "    </tr>\n",
       "  </tbody>\n",
       "</table>\n",
       "</div>"
      ],
      "text/plain": [
       "  subjectId           file channel  duration  samplerate  \\\n",
       "0      0001  MASS_0001.pkl  C3-CLE   28956.0         200   \n",
       "1      0002  MASS_0002.pkl  C3-CLE   35016.0         200   \n",
       "2      0003  MASS_0003.pkl  C3-CLE   36760.0         200   \n",
       "3      0004  MASS_0004.pkl  C3-CLE   28004.0         200   \n",
       "4      0005  MASS_0005.pkl  C3-CLE   31244.0         200   \n",
       "\n",
       "   isOriginalSamplerate database  \n",
       "0                 False     MASS  \n",
       "1                 False     MASS  \n",
       "2                 False     MASS  \n",
       "3                 False     MASS  \n",
       "4                 False     MASS  "
      ]
     },
     "execution_count": 5,
     "metadata": {},
     "output_type": "execute_result"
    }
   ],
   "source": [
    "signalsMetadata.head()"
   ]
  },
  {
   "cell_type": "markdown",
   "metadata": {},
   "source": [
    "## define a fixed feature selection to use"
   ]
  },
  {
   "cell_type": "code",
   "execution_count": 6,
   "metadata": {},
   "outputs": [
    {
     "data": {
      "text/html": [
       "<div>\n",
       "<style scoped>\n",
       "    .dataframe tbody tr th:only-of-type {\n",
       "        vertical-align: middle;\n",
       "    }\n",
       "\n",
       "    .dataframe tbody tr th {\n",
       "        vertical-align: top;\n",
       "    }\n",
       "\n",
       "    .dataframe thead th {\n",
       "        text-align: right;\n",
       "    }\n",
       "</style>\n",
       "<table border=\"1\" class=\"dataframe\">\n",
       "  <thead>\n",
       "    <tr style=\"text-align: right;\">\n",
       "      <th></th>\n",
       "      <th>characteristic</th>\n",
       "      <th>bandName</th>\n",
       "      <th>window</th>\n",
       "    </tr>\n",
       "  </thead>\n",
       "  <tbody>\n",
       "    <tr>\n",
       "      <th>21</th>\n",
       "      <td>hjortActivity</td>\n",
       "      <td>sigma</td>\n",
       "      <td>2</td>\n",
       "    </tr>\n",
       "    <tr>\n",
       "      <th>66</th>\n",
       "      <td>petrosian</td>\n",
       "      <td>broadband</td>\n",
       "      <td>2</td>\n",
       "    </tr>\n",
       "    <tr>\n",
       "      <th>22</th>\n",
       "      <td>hjortActivity</td>\n",
       "      <td>theta</td>\n",
       "      <td>2</td>\n",
       "    </tr>\n",
       "    <tr>\n",
       "      <th>79</th>\n",
       "      <td>relativePower</td>\n",
       "      <td>beta1</td>\n",
       "      <td>2</td>\n",
       "    </tr>\n",
       "    <tr>\n",
       "      <th>29</th>\n",
       "      <td>hjortComplexity</td>\n",
       "      <td>sigma</td>\n",
       "      <td>2</td>\n",
       "    </tr>\n",
       "  </tbody>\n",
       "</table>\n",
       "</div>"
      ],
      "text/plain": [
       "     characteristic   bandName  window\n",
       "21    hjortActivity      sigma       2\n",
       "66        petrosian  broadband       2\n",
       "22    hjortActivity      theta       2\n",
       "79    relativePower      beta1       2\n",
       "29  hjortComplexity      sigma       2"
      ]
     },
     "execution_count": 6,
     "metadata": {},
     "output_type": "execute_result"
    }
   ],
   "source": [
    "featureSelection=loadPickle(\"EXT_F1_iteration_7.pkl\")\n",
    "featureSelection.window=window\n",
    "featureSelection"
   ]
  },
  {
   "cell_type": "code",
   "execution_count": 7,
   "metadata": {},
   "outputs": [
    {
     "data": {
      "text/html": [
       "<div>\n",
       "<style scoped>\n",
       "    .dataframe tbody tr th:only-of-type {\n",
       "        vertical-align: middle;\n",
       "    }\n",
       "\n",
       "    .dataframe tbody tr th {\n",
       "        vertical-align: top;\n",
       "    }\n",
       "\n",
       "    .dataframe thead th {\n",
       "        text-align: right;\n",
       "    }\n",
       "</style>\n",
       "<table border=\"1\" class=\"dataframe\">\n",
       "  <thead>\n",
       "    <tr style=\"text-align: right;\">\n",
       "      <th></th>\n",
       "      <th>characteristic</th>\n",
       "      <th>bandName</th>\n",
       "      <th>window</th>\n",
       "    </tr>\n",
       "  </thead>\n",
       "  <tbody>\n",
       "    <tr>\n",
       "      <th>0</th>\n",
       "      <td>sigmaIndex</td>\n",
       "      <td>broadband</td>\n",
       "      <td>2</td>\n",
       "    </tr>\n",
       "  </tbody>\n",
       "</table>\n",
       "</div>"
      ],
      "text/plain": [
       "  characteristic   bandName  window\n",
       "0     sigmaIndex  broadband       2"
      ]
     },
     "execution_count": 7,
     "metadata": {},
     "output_type": "execute_result"
    }
   ],
   "source": [
    "pd.DataFrame({\n",
    "    'characteristic':['sigmaIndex'],\n",
    "    'bandName':['broadband'],\n",
    "    'window':[2]\n",
    "})"
   ]
  },
  {
   "cell_type": "code",
   "execution_count": 8,
   "metadata": {},
   "outputs": [
    {
     "data": {
      "text/html": [
       "<div>\n",
       "<style scoped>\n",
       "    .dataframe tbody tr th:only-of-type {\n",
       "        vertical-align: middle;\n",
       "    }\n",
       "\n",
       "    .dataframe tbody tr th {\n",
       "        vertical-align: top;\n",
       "    }\n",
       "\n",
       "    .dataframe thead th {\n",
       "        text-align: right;\n",
       "    }\n",
       "</style>\n",
       "<table border=\"1\" class=\"dataframe\">\n",
       "  <thead>\n",
       "    <tr style=\"text-align: right;\">\n",
       "      <th></th>\n",
       "      <th>characteristic</th>\n",
       "      <th>bandName</th>\n",
       "      <th>window</th>\n",
       "    </tr>\n",
       "  </thead>\n",
       "  <tbody>\n",
       "    <tr>\n",
       "      <th>0</th>\n",
       "      <td>hjortActivity</td>\n",
       "      <td>sigma</td>\n",
       "      <td>2</td>\n",
       "    </tr>\n",
       "    <tr>\n",
       "      <th>1</th>\n",
       "      <td>petrosian</td>\n",
       "      <td>broadband</td>\n",
       "      <td>2</td>\n",
       "    </tr>\n",
       "    <tr>\n",
       "      <th>2</th>\n",
       "      <td>hjortActivity</td>\n",
       "      <td>theta</td>\n",
       "      <td>2</td>\n",
       "    </tr>\n",
       "    <tr>\n",
       "      <th>3</th>\n",
       "      <td>relativePower</td>\n",
       "      <td>beta1</td>\n",
       "      <td>2</td>\n",
       "    </tr>\n",
       "    <tr>\n",
       "      <th>4</th>\n",
       "      <td>hjortComplexity</td>\n",
       "      <td>sigma</td>\n",
       "      <td>2</td>\n",
       "    </tr>\n",
       "    <tr>\n",
       "      <th>5</th>\n",
       "      <td>sigmaIndex</td>\n",
       "      <td>broadband</td>\n",
       "      <td>2</td>\n",
       "    </tr>\n",
       "  </tbody>\n",
       "</table>\n",
       "</div>"
      ],
      "text/plain": [
       "    characteristic   bandName  window\n",
       "0    hjortActivity      sigma       2\n",
       "1        petrosian  broadband       2\n",
       "2    hjortActivity      theta       2\n",
       "3    relativePower      beta1       2\n",
       "4  hjortComplexity      sigma       2\n",
       "5       sigmaIndex  broadband       2"
      ]
     },
     "execution_count": 8,
     "metadata": {},
     "output_type": "execute_result"
    }
   ],
   "source": [
    "featureSelection = pd.concat((featureSelection,pd.DataFrame({\n",
    "    'characteristic':['sigmaIndex'],\n",
    "    'bandName':['broadband'],\n",
    "    'window':[2]\n",
    "}))).reset_index(drop=True)\n",
    "featureSelection"
   ]
  },
  {
   "cell_type": "markdown",
   "metadata": {},
   "source": [
    "## load data split\n",
    "leave-one-subject-out CROSS VALIDATION, two subjects for validation"
   ]
  },
  {
   "cell_type": "code",
   "execution_count": 9,
   "metadata": {},
   "outputs": [
    {
     "data": {
      "text/html": [
       "<div>\n",
       "<style scoped>\n",
       "    .dataframe tbody tr th:only-of-type {\n",
       "        vertical-align: middle;\n",
       "    }\n",
       "\n",
       "    .dataframe tbody tr th {\n",
       "        vertical-align: top;\n",
       "    }\n",
       "\n",
       "    .dataframe thead th {\n",
       "        text-align: right;\n",
       "    }\n",
       "</style>\n",
       "<table border=\"1\" class=\"dataframe\">\n",
       "  <thead>\n",
       "    <tr style=\"text-align: right;\">\n",
       "      <th></th>\n",
       "      <th>train</th>\n",
       "      <th>val</th>\n",
       "      <th>test</th>\n",
       "    </tr>\n",
       "  </thead>\n",
       "  <tbody>\n",
       "    <tr>\n",
       "      <th>0</th>\n",
       "      <td>[0002, 0003, 0004, 0005, 0007, 0008, 0009, 001...</td>\n",
       "      <td>[0006, 0014]</td>\n",
       "      <td>[0001]</td>\n",
       "    </tr>\n",
       "    <tr>\n",
       "      <th>1</th>\n",
       "      <td>[0001, 0003, 0004, 0005, 0006, 0007, 0008, 000...</td>\n",
       "      <td>[0012, 0010]</td>\n",
       "      <td>[0002]</td>\n",
       "    </tr>\n",
       "    <tr>\n",
       "      <th>2</th>\n",
       "      <td>[0002, 0004, 0005, 0006, 0007, 0008, 0009, 001...</td>\n",
       "      <td>[0001, 0012]</td>\n",
       "      <td>[0003]</td>\n",
       "    </tr>\n",
       "    <tr>\n",
       "      <th>3</th>\n",
       "      <td>[0001, 0003, 0005, 0006, 0008, 0009, 0010, 001...</td>\n",
       "      <td>[0002, 0007]</td>\n",
       "      <td>[0004]</td>\n",
       "    </tr>\n",
       "    <tr>\n",
       "      <th>4</th>\n",
       "      <td>[0001, 0002, 0003, 0004, 0006, 0007, 0008, 000...</td>\n",
       "      <td>[0011, 0016]</td>\n",
       "      <td>[0005]</td>\n",
       "    </tr>\n",
       "    <tr>\n",
       "      <th>5</th>\n",
       "      <td>[0001, 0002, 0003, 0004, 0005, 0007, 0008, 000...</td>\n",
       "      <td>[0011, 0016]</td>\n",
       "      <td>[0006]</td>\n",
       "    </tr>\n",
       "    <tr>\n",
       "      <th>6</th>\n",
       "      <td>[0001, 0002, 0003, 0004, 0005, 0006, 0008, 000...</td>\n",
       "      <td>[0010, 0018]</td>\n",
       "      <td>[0007]</td>\n",
       "    </tr>\n",
       "    <tr>\n",
       "      <th>7</th>\n",
       "      <td>[0001, 0002, 0003, 0004, 0005, 0007, 0009, 001...</td>\n",
       "      <td>[0015, 0006]</td>\n",
       "      <td>[0008]</td>\n",
       "    </tr>\n",
       "    <tr>\n",
       "      <th>8</th>\n",
       "      <td>[0001, 0002, 0003, 0004, 0006, 0008, 0010, 001...</td>\n",
       "      <td>[0005, 0007]</td>\n",
       "      <td>[0009]</td>\n",
       "    </tr>\n",
       "    <tr>\n",
       "      <th>9</th>\n",
       "      <td>[0001, 0002, 0003, 0004, 0005, 0006, 0007, 000...</td>\n",
       "      <td>[0011, 0009]</td>\n",
       "      <td>[0010]</td>\n",
       "    </tr>\n",
       "    <tr>\n",
       "      <th>10</th>\n",
       "      <td>[0001, 0002, 0003, 0004, 0005, 0006, 0007, 000...</td>\n",
       "      <td>[0009, 0012]</td>\n",
       "      <td>[0011]</td>\n",
       "    </tr>\n",
       "    <tr>\n",
       "      <th>11</th>\n",
       "      <td>[0001, 0002, 0003, 0005, 0006, 0007, 0008, 001...</td>\n",
       "      <td>[0004, 0009]</td>\n",
       "      <td>[0012]</td>\n",
       "    </tr>\n",
       "    <tr>\n",
       "      <th>12</th>\n",
       "      <td>[0001, 0002, 0003, 0004, 0005, 0006, 0007, 000...</td>\n",
       "      <td>[0012, 0017]</td>\n",
       "      <td>[0013]</td>\n",
       "    </tr>\n",
       "    <tr>\n",
       "      <th>13</th>\n",
       "      <td>[0002, 0003, 0004, 0005, 0006, 0007, 0008, 000...</td>\n",
       "      <td>[0018, 0001]</td>\n",
       "      <td>[0014]</td>\n",
       "    </tr>\n",
       "    <tr>\n",
       "      <th>14</th>\n",
       "      <td>[0001, 0002, 0003, 0004, 0005, 0006, 0007, 000...</td>\n",
       "      <td>[0009, 0011]</td>\n",
       "      <td>[0015]</td>\n",
       "    </tr>\n",
       "    <tr>\n",
       "      <th>15</th>\n",
       "      <td>[0002, 0003, 0004, 0005, 0006, 0007, 0008, 000...</td>\n",
       "      <td>[0001, 0011]</td>\n",
       "      <td>[0016]</td>\n",
       "    </tr>\n",
       "    <tr>\n",
       "      <th>16</th>\n",
       "      <td>[0001, 0002, 0003, 0004, 0005, 0006, 0007, 000...</td>\n",
       "      <td>[0014, 0011]</td>\n",
       "      <td>[0017]</td>\n",
       "    </tr>\n",
       "    <tr>\n",
       "      <th>17</th>\n",
       "      <td>[0001, 0002, 0003, 0004, 0006, 0007, 0008, 000...</td>\n",
       "      <td>[0015, 0005]</td>\n",
       "      <td>[0018]</td>\n",
       "    </tr>\n",
       "    <tr>\n",
       "      <th>18</th>\n",
       "      <td>[0001, 0002, 0003, 0004, 0005, 0006, 0007, 000...</td>\n",
       "      <td>[0009, 0010]</td>\n",
       "      <td>[0019]</td>\n",
       "    </tr>\n",
       "  </tbody>\n",
       "</table>\n",
       "</div>"
      ],
      "text/plain": [
       "                                                train           val    test\n",
       "0   [0002, 0003, 0004, 0005, 0007, 0008, 0009, 001...  [0006, 0014]  [0001]\n",
       "1   [0001, 0003, 0004, 0005, 0006, 0007, 0008, 000...  [0012, 0010]  [0002]\n",
       "2   [0002, 0004, 0005, 0006, 0007, 0008, 0009, 001...  [0001, 0012]  [0003]\n",
       "3   [0001, 0003, 0005, 0006, 0008, 0009, 0010, 001...  [0002, 0007]  [0004]\n",
       "4   [0001, 0002, 0003, 0004, 0006, 0007, 0008, 000...  [0011, 0016]  [0005]\n",
       "5   [0001, 0002, 0003, 0004, 0005, 0007, 0008, 000...  [0011, 0016]  [0006]\n",
       "6   [0001, 0002, 0003, 0004, 0005, 0006, 0008, 000...  [0010, 0018]  [0007]\n",
       "7   [0001, 0002, 0003, 0004, 0005, 0007, 0009, 001...  [0015, 0006]  [0008]\n",
       "8   [0001, 0002, 0003, 0004, 0006, 0008, 0010, 001...  [0005, 0007]  [0009]\n",
       "9   [0001, 0002, 0003, 0004, 0005, 0006, 0007, 000...  [0011, 0009]  [0010]\n",
       "10  [0001, 0002, 0003, 0004, 0005, 0006, 0007, 000...  [0009, 0012]  [0011]\n",
       "11  [0001, 0002, 0003, 0005, 0006, 0007, 0008, 001...  [0004, 0009]  [0012]\n",
       "12  [0001, 0002, 0003, 0004, 0005, 0006, 0007, 000...  [0012, 0017]  [0013]\n",
       "13  [0002, 0003, 0004, 0005, 0006, 0007, 0008, 000...  [0018, 0001]  [0014]\n",
       "14  [0001, 0002, 0003, 0004, 0005, 0006, 0007, 000...  [0009, 0011]  [0015]\n",
       "15  [0002, 0003, 0004, 0005, 0006, 0007, 0008, 000...  [0001, 0011]  [0016]\n",
       "16  [0001, 0002, 0003, 0004, 0005, 0006, 0007, 000...  [0014, 0011]  [0017]\n",
       "17  [0001, 0002, 0003, 0004, 0006, 0007, 0008, 000...  [0015, 0005]  [0018]\n",
       "18  [0001, 0002, 0003, 0004, 0005, 0006, 0007, 000...  [0009, 0010]  [0019]"
      ]
     },
     "execution_count": 9,
     "metadata": {},
     "output_type": "execute_result"
    }
   ],
   "source": [
    "dataSplits=loadPickle(\"dataSplits_MASS_debug\")\n",
    "dataSplits"
   ]
  },
  {
   "cell_type": "markdown",
   "metadata": {},
   "source": [
    "## choose the first data split for debugging purposes"
   ]
  },
  {
   "cell_type": "code",
   "execution_count": 10,
   "metadata": {},
   "outputs": [],
   "source": [
    "trainSplit=dataSplits.train[0]\n",
    "valSplit=dataSplits.val[0]\n",
    "testSplit=dataSplits.test[0]"
   ]
  },
  {
   "cell_type": "code",
   "execution_count": 11,
   "metadata": {},
   "outputs": [
    {
     "data": {
      "text/plain": [
       "array(['0002', '0003', '0004', '0005', '0007', '0008', '0009', '0010',\n",
       "       '0011', '0012', '0013', '0015', '0016', '0017', '0018', '0019'],\n",
       "      dtype=object)"
      ]
     },
     "execution_count": 11,
     "metadata": {},
     "output_type": "execute_result"
    }
   ],
   "source": [
    "trainSplit"
   ]
  },
  {
   "cell_type": "code",
   "execution_count": 12,
   "metadata": {},
   "outputs": [
    {
     "data": {
      "text/plain": [
       "array(['0006', '0014'], dtype=object)"
      ]
     },
     "execution_count": 12,
     "metadata": {},
     "output_type": "execute_result"
    }
   ],
   "source": [
    "valSplit"
   ]
  },
  {
   "cell_type": "code",
   "execution_count": 13,
   "metadata": {},
   "outputs": [
    {
     "data": {
      "text/plain": [
       "['0001']"
      ]
     },
     "execution_count": 13,
     "metadata": {},
     "output_type": "execute_result"
    }
   ],
   "source": [
    "testSplit"
   ]
  },
  {
   "cell_type": "markdown",
   "metadata": {},
   "source": [
    "## define annotation criterium\n",
    "by now we keep the labeler that went trough all the signals"
   ]
  },
  {
   "cell_type": "code",
   "execution_count": 14,
   "metadata": {},
   "outputs": [],
   "source": [
    "usedAnnotations=annotations[(annotations['type']=='spindle')&(annotations['labelerId']=='0001')]\n"
   ]
  },
  {
   "cell_type": "code",
   "execution_count": 15,
   "metadata": {},
   "outputs": [
    {
     "data": {
      "text/html": [
       "<div>\n",
       "<style scoped>\n",
       "    .dataframe tbody tr th:only-of-type {\n",
       "        vertical-align: middle;\n",
       "    }\n",
       "\n",
       "    .dataframe tbody tr th {\n",
       "        vertical-align: top;\n",
       "    }\n",
       "\n",
       "    .dataframe thead tr th {\n",
       "        text-align: left;\n",
       "    }\n",
       "\n",
       "    .dataframe thead tr:last-of-type th {\n",
       "        text-align: right;\n",
       "    }\n",
       "</style>\n",
       "<table border=\"1\" class=\"dataframe\">\n",
       "  <thead>\n",
       "    <tr>\n",
       "      <th></th>\n",
       "      <th></th>\n",
       "      <th colspan=\"8\" halign=\"left\">duration</th>\n",
       "    </tr>\n",
       "    <tr>\n",
       "      <th></th>\n",
       "      <th></th>\n",
       "      <th>count</th>\n",
       "      <th>mean</th>\n",
       "      <th>std</th>\n",
       "      <th>min</th>\n",
       "      <th>25%</th>\n",
       "      <th>50%</th>\n",
       "      <th>75%</th>\n",
       "      <th>max</th>\n",
       "    </tr>\n",
       "    <tr>\n",
       "      <th>subjectId</th>\n",
       "      <th>labelerId</th>\n",
       "      <th></th>\n",
       "      <th></th>\n",
       "      <th></th>\n",
       "      <th></th>\n",
       "      <th></th>\n",
       "      <th></th>\n",
       "      <th></th>\n",
       "      <th></th>\n",
       "    </tr>\n",
       "  </thead>\n",
       "  <tbody>\n",
       "    <tr>\n",
       "      <th>0001</th>\n",
       "      <th>0001</th>\n",
       "      <td>1044.0</td>\n",
       "      <td>0.822037</td>\n",
       "      <td>0.202792</td>\n",
       "      <td>0.390602</td>\n",
       "      <td>0.675735</td>\n",
       "      <td>0.796822</td>\n",
       "      <td>0.945251</td>\n",
       "      <td>1.839722</td>\n",
       "    </tr>\n",
       "    <tr>\n",
       "      <th>0002</th>\n",
       "      <th>0001</th>\n",
       "      <td>1143.0</td>\n",
       "      <td>0.834582</td>\n",
       "      <td>0.195713</td>\n",
       "      <td>0.414040</td>\n",
       "      <td>0.699173</td>\n",
       "      <td>0.816353</td>\n",
       "      <td>0.937439</td>\n",
       "      <td>1.820198</td>\n",
       "    </tr>\n",
       "    <tr>\n",
       "      <th>0003</th>\n",
       "      <th>0001</th>\n",
       "      <td>143.0</td>\n",
       "      <td>0.690269</td>\n",
       "      <td>0.149652</td>\n",
       "      <td>0.460907</td>\n",
       "      <td>0.585900</td>\n",
       "      <td>0.648399</td>\n",
       "      <td>0.775341</td>\n",
       "      <td>1.160080</td>\n",
       "    </tr>\n",
       "    <tr>\n",
       "      <th>0004</th>\n",
       "      <th>0001</th>\n",
       "      <td>253.0</td>\n",
       "      <td>0.829708</td>\n",
       "      <td>0.224842</td>\n",
       "      <td>0.492157</td>\n",
       "      <td>0.667923</td>\n",
       "      <td>0.785103</td>\n",
       "      <td>0.945251</td>\n",
       "      <td>1.675674</td>\n",
       "    </tr>\n",
       "    <tr>\n",
       "      <th>0005</th>\n",
       "      <th>0001</th>\n",
       "      <td>341.0</td>\n",
       "      <td>0.706104</td>\n",
       "      <td>0.131805</td>\n",
       "      <td>0.425751</td>\n",
       "      <td>0.613243</td>\n",
       "      <td>0.699173</td>\n",
       "      <td>0.781197</td>\n",
       "      <td>1.195236</td>\n",
       "    </tr>\n",
       "    <tr>\n",
       "      <th>0006</th>\n",
       "      <th>0001</th>\n",
       "      <td>150.0</td>\n",
       "      <td>0.761306</td>\n",
       "      <td>0.143614</td>\n",
       "      <td>0.492157</td>\n",
       "      <td>0.679642</td>\n",
       "      <td>0.749954</td>\n",
       "      <td>0.847603</td>\n",
       "      <td>1.480377</td>\n",
       "    </tr>\n",
       "    <tr>\n",
       "      <th>0007</th>\n",
       "      <th>0001</th>\n",
       "      <td>912.0</td>\n",
       "      <td>0.892692</td>\n",
       "      <td>0.226504</td>\n",
       "      <td>0.425751</td>\n",
       "      <td>0.730423</td>\n",
       "      <td>0.867134</td>\n",
       "      <td>1.003845</td>\n",
       "      <td>2.042839</td>\n",
       "    </tr>\n",
       "    <tr>\n",
       "      <th>0008</th>\n",
       "      <th>0001</th>\n",
       "      <td>385.0</td>\n",
       "      <td>0.846882</td>\n",
       "      <td>0.227884</td>\n",
       "      <td>0.441376</td>\n",
       "      <td>0.695267</td>\n",
       "      <td>0.800728</td>\n",
       "      <td>0.937439</td>\n",
       "      <td>1.925659</td>\n",
       "    </tr>\n",
       "    <tr>\n",
       "      <th>0009</th>\n",
       "      <th>0001</th>\n",
       "      <td>814.0</td>\n",
       "      <td>0.923970</td>\n",
       "      <td>0.216783</td>\n",
       "      <td>0.468719</td>\n",
       "      <td>0.773392</td>\n",
       "      <td>0.890568</td>\n",
       "      <td>1.027275</td>\n",
       "      <td>1.882690</td>\n",
       "    </tr>\n",
       "    <tr>\n",
       "      <th>0010</th>\n",
       "      <th>0001</th>\n",
       "      <td>795.0</td>\n",
       "      <td>0.815081</td>\n",
       "      <td>0.190663</td>\n",
       "      <td>0.402321</td>\n",
       "      <td>0.687454</td>\n",
       "      <td>0.773392</td>\n",
       "      <td>0.921814</td>\n",
       "      <td>1.847542</td>\n",
       "    </tr>\n",
       "    <tr>\n",
       "      <th>0011</th>\n",
       "      <th>0001</th>\n",
       "      <td>606.0</td>\n",
       "      <td>0.923982</td>\n",
       "      <td>0.222469</td>\n",
       "      <td>0.503876</td>\n",
       "      <td>0.773384</td>\n",
       "      <td>0.890564</td>\n",
       "      <td>1.042900</td>\n",
       "      <td>2.015495</td>\n",
       "    </tr>\n",
       "    <tr>\n",
       "      <th>0012</th>\n",
       "      <th>0001</th>\n",
       "      <td>709.0</td>\n",
       "      <td>0.836528</td>\n",
       "      <td>0.180787</td>\n",
       "      <td>0.437469</td>\n",
       "      <td>0.706985</td>\n",
       "      <td>0.808548</td>\n",
       "      <td>0.956970</td>\n",
       "      <td>1.495995</td>\n",
       "    </tr>\n",
       "    <tr>\n",
       "      <th>0013</th>\n",
       "      <th>0001</th>\n",
       "      <td>698.0</td>\n",
       "      <td>0.910960</td>\n",
       "      <td>0.245084</td>\n",
       "      <td>0.437477</td>\n",
       "      <td>0.742142</td>\n",
       "      <td>0.871036</td>\n",
       "      <td>1.026300</td>\n",
       "      <td>2.117058</td>\n",
       "    </tr>\n",
       "    <tr>\n",
       "      <th>0014</th>\n",
       "      <th>0001</th>\n",
       "      <td>713.0</td>\n",
       "      <td>0.805534</td>\n",
       "      <td>0.205166</td>\n",
       "      <td>0.406227</td>\n",
       "      <td>0.671829</td>\n",
       "      <td>0.773392</td>\n",
       "      <td>0.906197</td>\n",
       "      <td>2.218605</td>\n",
       "    </tr>\n",
       "    <tr>\n",
       "      <th>0015</th>\n",
       "      <th>0001</th>\n",
       "      <td>97.0</td>\n",
       "      <td>0.739281</td>\n",
       "      <td>0.106173</td>\n",
       "      <td>0.519501</td>\n",
       "      <td>0.671829</td>\n",
       "      <td>0.722610</td>\n",
       "      <td>0.808540</td>\n",
       "      <td>1.011650</td>\n",
       "    </tr>\n",
       "    <tr>\n",
       "      <th>0016</th>\n",
       "      <th>0001</th>\n",
       "      <td>452.0</td>\n",
       "      <td>0.806943</td>\n",
       "      <td>0.210937</td>\n",
       "      <td>0.335915</td>\n",
       "      <td>0.640587</td>\n",
       "      <td>0.773384</td>\n",
       "      <td>0.925720</td>\n",
       "      <td>1.679581</td>\n",
       "    </tr>\n",
       "    <tr>\n",
       "      <th>0017</th>\n",
       "      <th>0001</th>\n",
       "      <td>470.0</td>\n",
       "      <td>0.802766</td>\n",
       "      <td>0.155081</td>\n",
       "      <td>0.437469</td>\n",
       "      <td>0.694296</td>\n",
       "      <td>0.781200</td>\n",
       "      <td>0.890570</td>\n",
       "      <td>1.644424</td>\n",
       "    </tr>\n",
       "    <tr>\n",
       "      <th>0018</th>\n",
       "      <th>0001</th>\n",
       "      <td>1164.0</td>\n",
       "      <td>0.844465</td>\n",
       "      <td>0.185415</td>\n",
       "      <td>0.421852</td>\n",
       "      <td>0.722610</td>\n",
       "      <td>0.824165</td>\n",
       "      <td>0.941345</td>\n",
       "      <td>1.882690</td>\n",
       "    </tr>\n",
       "    <tr>\n",
       "      <th>0019</th>\n",
       "      <th>0001</th>\n",
       "      <td>315.0</td>\n",
       "      <td>0.770511</td>\n",
       "      <td>0.129903</td>\n",
       "      <td>0.453094</td>\n",
       "      <td>0.687454</td>\n",
       "      <td>0.757767</td>\n",
       "      <td>0.839790</td>\n",
       "      <td>1.359291</td>\n",
       "    </tr>\n",
       "  </tbody>\n",
       "</table>\n",
       "</div>"
      ],
      "text/plain": [
       "                    duration                                          \\\n",
       "                       count      mean       std       min       25%   \n",
       "subjectId labelerId                                                    \n",
       "0001      0001        1044.0  0.822037  0.202792  0.390602  0.675735   \n",
       "0002      0001        1143.0  0.834582  0.195713  0.414040  0.699173   \n",
       "0003      0001         143.0  0.690269  0.149652  0.460907  0.585900   \n",
       "0004      0001         253.0  0.829708  0.224842  0.492157  0.667923   \n",
       "0005      0001         341.0  0.706104  0.131805  0.425751  0.613243   \n",
       "0006      0001         150.0  0.761306  0.143614  0.492157  0.679642   \n",
       "0007      0001         912.0  0.892692  0.226504  0.425751  0.730423   \n",
       "0008      0001         385.0  0.846882  0.227884  0.441376  0.695267   \n",
       "0009      0001         814.0  0.923970  0.216783  0.468719  0.773392   \n",
       "0010      0001         795.0  0.815081  0.190663  0.402321  0.687454   \n",
       "0011      0001         606.0  0.923982  0.222469  0.503876  0.773384   \n",
       "0012      0001         709.0  0.836528  0.180787  0.437469  0.706985   \n",
       "0013      0001         698.0  0.910960  0.245084  0.437477  0.742142   \n",
       "0014      0001         713.0  0.805534  0.205166  0.406227  0.671829   \n",
       "0015      0001          97.0  0.739281  0.106173  0.519501  0.671829   \n",
       "0016      0001         452.0  0.806943  0.210937  0.335915  0.640587   \n",
       "0017      0001         470.0  0.802766  0.155081  0.437469  0.694296   \n",
       "0018      0001        1164.0  0.844465  0.185415  0.421852  0.722610   \n",
       "0019      0001         315.0  0.770511  0.129903  0.453094  0.687454   \n",
       "\n",
       "                                                   \n",
       "                          50%       75%       max  \n",
       "subjectId labelerId                                \n",
       "0001      0001       0.796822  0.945251  1.839722  \n",
       "0002      0001       0.816353  0.937439  1.820198  \n",
       "0003      0001       0.648399  0.775341  1.160080  \n",
       "0004      0001       0.785103  0.945251  1.675674  \n",
       "0005      0001       0.699173  0.781197  1.195236  \n",
       "0006      0001       0.749954  0.847603  1.480377  \n",
       "0007      0001       0.867134  1.003845  2.042839  \n",
       "0008      0001       0.800728  0.937439  1.925659  \n",
       "0009      0001       0.890568  1.027275  1.882690  \n",
       "0010      0001       0.773392  0.921814  1.847542  \n",
       "0011      0001       0.890564  1.042900  2.015495  \n",
       "0012      0001       0.808548  0.956970  1.495995  \n",
       "0013      0001       0.871036  1.026300  2.117058  \n",
       "0014      0001       0.773392  0.906197  2.218605  \n",
       "0015      0001       0.722610  0.808540  1.011650  \n",
       "0016      0001       0.773384  0.925720  1.679581  \n",
       "0017      0001       0.781200  0.890570  1.644424  \n",
       "0018      0001       0.824165  0.941345  1.882690  \n",
       "0019      0001       0.757767  0.839790  1.359291  "
      ]
     },
     "execution_count": 15,
     "metadata": {},
     "output_type": "execute_result"
    }
   ],
   "source": [
    "usedAnnotations[['subjectId','labelerId','duration']].groupby(['subjectId','labelerId']).describe()"
   ]
  },
  {
   "cell_type": "markdown",
   "metadata": {},
   "source": [
    "## model fitting"
   ]
  },
  {
   "cell_type": "code",
   "execution_count": 16,
   "metadata": {},
   "outputs": [],
   "source": [
    "def eval_F1(preds, y):\n",
    "    y = y.get_label()\n",
    "    score=F1(y,preds)\n",
    "    return 'anti-F1', 1-score"
   ]
  },
  {
   "cell_type": "code",
   "execution_count": 17,
   "metadata": {},
   "outputs": [
    {
     "data": {
      "text/html": [
       "<div>\n",
       "<style scoped>\n",
       "    .dataframe tbody tr th:only-of-type {\n",
       "        vertical-align: middle;\n",
       "    }\n",
       "\n",
       "    .dataframe tbody tr th {\n",
       "        vertical-align: top;\n",
       "    }\n",
       "\n",
       "    .dataframe thead th {\n",
       "        text-align: right;\n",
       "    }\n",
       "</style>\n",
       "<table border=\"1\" class=\"dataframe\">\n",
       "  <thead>\n",
       "    <tr style=\"text-align: right;\">\n",
       "      <th></th>\n",
       "      <th>subjectId</th>\n",
       "      <th>file</th>\n",
       "      <th>channel</th>\n",
       "      <th>duration</th>\n",
       "      <th>samplerate</th>\n",
       "      <th>isOriginalSamplerate</th>\n",
       "      <th>database</th>\n",
       "    </tr>\n",
       "  </thead>\n",
       "  <tbody>\n",
       "    <tr>\n",
       "      <th>0</th>\n",
       "      <td>0001</td>\n",
       "      <td>MASS_0001.pkl</td>\n",
       "      <td>C3-CLE</td>\n",
       "      <td>28956.0</td>\n",
       "      <td>200</td>\n",
       "      <td>False</td>\n",
       "      <td>MASS</td>\n",
       "    </tr>\n",
       "    <tr>\n",
       "      <th>1</th>\n",
       "      <td>0002</td>\n",
       "      <td>MASS_0002.pkl</td>\n",
       "      <td>C3-CLE</td>\n",
       "      <td>35016.0</td>\n",
       "      <td>200</td>\n",
       "      <td>False</td>\n",
       "      <td>MASS</td>\n",
       "    </tr>\n",
       "    <tr>\n",
       "      <th>2</th>\n",
       "      <td>0003</td>\n",
       "      <td>MASS_0003.pkl</td>\n",
       "      <td>C3-CLE</td>\n",
       "      <td>36760.0</td>\n",
       "      <td>200</td>\n",
       "      <td>False</td>\n",
       "      <td>MASS</td>\n",
       "    </tr>\n",
       "    <tr>\n",
       "      <th>3</th>\n",
       "      <td>0004</td>\n",
       "      <td>MASS_0004.pkl</td>\n",
       "      <td>C3-CLE</td>\n",
       "      <td>28004.0</td>\n",
       "      <td>200</td>\n",
       "      <td>False</td>\n",
       "      <td>MASS</td>\n",
       "    </tr>\n",
       "    <tr>\n",
       "      <th>4</th>\n",
       "      <td>0005</td>\n",
       "      <td>MASS_0005.pkl</td>\n",
       "      <td>C3-CLE</td>\n",
       "      <td>31244.0</td>\n",
       "      <td>200</td>\n",
       "      <td>False</td>\n",
       "      <td>MASS</td>\n",
       "    </tr>\n",
       "    <tr>\n",
       "      <th>5</th>\n",
       "      <td>0006</td>\n",
       "      <td>MASS_0006.pkl</td>\n",
       "      <td>C3-CLE</td>\n",
       "      <td>28990.0</td>\n",
       "      <td>200</td>\n",
       "      <td>False</td>\n",
       "      <td>MASS</td>\n",
       "    </tr>\n",
       "    <tr>\n",
       "      <th>6</th>\n",
       "      <td>0007</td>\n",
       "      <td>MASS_0007.pkl</td>\n",
       "      <td>C3-CLE</td>\n",
       "      <td>28302.0</td>\n",
       "      <td>200</td>\n",
       "      <td>False</td>\n",
       "      <td>MASS</td>\n",
       "    </tr>\n",
       "    <tr>\n",
       "      <th>7</th>\n",
       "      <td>0008</td>\n",
       "      <td>MASS_0008.pkl</td>\n",
       "      <td>C3-CLE</td>\n",
       "      <td>26846.0</td>\n",
       "      <td>200</td>\n",
       "      <td>False</td>\n",
       "      <td>MASS</td>\n",
       "    </tr>\n",
       "    <tr>\n",
       "      <th>8</th>\n",
       "      <td>0009</td>\n",
       "      <td>MASS_0009.pkl</td>\n",
       "      <td>C3-CLE</td>\n",
       "      <td>29834.0</td>\n",
       "      <td>200</td>\n",
       "      <td>False</td>\n",
       "      <td>MASS</td>\n",
       "    </tr>\n",
       "    <tr>\n",
       "      <th>9</th>\n",
       "      <td>0010</td>\n",
       "      <td>MASS_0010.pkl</td>\n",
       "      <td>C3-CLE</td>\n",
       "      <td>25930.0</td>\n",
       "      <td>200</td>\n",
       "      <td>False</td>\n",
       "      <td>MASS</td>\n",
       "    </tr>\n",
       "    <tr>\n",
       "      <th>10</th>\n",
       "      <td>0011</td>\n",
       "      <td>MASS_0011.pkl</td>\n",
       "      <td>C3-CLE</td>\n",
       "      <td>25434.0</td>\n",
       "      <td>200</td>\n",
       "      <td>False</td>\n",
       "      <td>MASS</td>\n",
       "    </tr>\n",
       "    <tr>\n",
       "      <th>11</th>\n",
       "      <td>0012</td>\n",
       "      <td>MASS_0012.pkl</td>\n",
       "      <td>C3-CLE</td>\n",
       "      <td>31530.0</td>\n",
       "      <td>200</td>\n",
       "      <td>False</td>\n",
       "      <td>MASS</td>\n",
       "    </tr>\n",
       "    <tr>\n",
       "      <th>12</th>\n",
       "      <td>0013</td>\n",
       "      <td>MASS_0013.pkl</td>\n",
       "      <td>C3-CLE</td>\n",
       "      <td>36372.0</td>\n",
       "      <td>200</td>\n",
       "      <td>False</td>\n",
       "      <td>MASS</td>\n",
       "    </tr>\n",
       "    <tr>\n",
       "      <th>13</th>\n",
       "      <td>0014</td>\n",
       "      <td>MASS_0014.pkl</td>\n",
       "      <td>C3-CLE</td>\n",
       "      <td>28176.0</td>\n",
       "      <td>200</td>\n",
       "      <td>False</td>\n",
       "      <td>MASS</td>\n",
       "    </tr>\n",
       "    <tr>\n",
       "      <th>14</th>\n",
       "      <td>0015</td>\n",
       "      <td>MASS_0015.pkl</td>\n",
       "      <td>C3-CLE</td>\n",
       "      <td>29114.0</td>\n",
       "      <td>200</td>\n",
       "      <td>False</td>\n",
       "      <td>MASS</td>\n",
       "    </tr>\n",
       "    <tr>\n",
       "      <th>15</th>\n",
       "      <td>0016</td>\n",
       "      <td>MASS_0016.pkl</td>\n",
       "      <td>C3-CLE</td>\n",
       "      <td>28340.0</td>\n",
       "      <td>200</td>\n",
       "      <td>False</td>\n",
       "      <td>MASS</td>\n",
       "    </tr>\n",
       "    <tr>\n",
       "      <th>16</th>\n",
       "      <td>0017</td>\n",
       "      <td>MASS_0017.pkl</td>\n",
       "      <td>C3-CLE</td>\n",
       "      <td>28342.0</td>\n",
       "      <td>200</td>\n",
       "      <td>False</td>\n",
       "      <td>MASS</td>\n",
       "    </tr>\n",
       "    <tr>\n",
       "      <th>17</th>\n",
       "      <td>0018</td>\n",
       "      <td>MASS_0018.pkl</td>\n",
       "      <td>C3-CLE</td>\n",
       "      <td>29554.0</td>\n",
       "      <td>200</td>\n",
       "      <td>False</td>\n",
       "      <td>MASS</td>\n",
       "    </tr>\n",
       "    <tr>\n",
       "      <th>18</th>\n",
       "      <td>0019</td>\n",
       "      <td>MASS_0019.pkl</td>\n",
       "      <td>C3-CLE</td>\n",
       "      <td>26392.0</td>\n",
       "      <td>200</td>\n",
       "      <td>False</td>\n",
       "      <td>MASS</td>\n",
       "    </tr>\n",
       "  </tbody>\n",
       "</table>\n",
       "</div>"
      ],
      "text/plain": [
       "   subjectId           file channel  duration  samplerate  \\\n",
       "0       0001  MASS_0001.pkl  C3-CLE   28956.0         200   \n",
       "1       0002  MASS_0002.pkl  C3-CLE   35016.0         200   \n",
       "2       0003  MASS_0003.pkl  C3-CLE   36760.0         200   \n",
       "3       0004  MASS_0004.pkl  C3-CLE   28004.0         200   \n",
       "4       0005  MASS_0005.pkl  C3-CLE   31244.0         200   \n",
       "5       0006  MASS_0006.pkl  C3-CLE   28990.0         200   \n",
       "6       0007  MASS_0007.pkl  C3-CLE   28302.0         200   \n",
       "7       0008  MASS_0008.pkl  C3-CLE   26846.0         200   \n",
       "8       0009  MASS_0009.pkl  C3-CLE   29834.0         200   \n",
       "9       0010  MASS_0010.pkl  C3-CLE   25930.0         200   \n",
       "10      0011  MASS_0011.pkl  C3-CLE   25434.0         200   \n",
       "11      0012  MASS_0012.pkl  C3-CLE   31530.0         200   \n",
       "12      0013  MASS_0013.pkl  C3-CLE   36372.0         200   \n",
       "13      0014  MASS_0014.pkl  C3-CLE   28176.0         200   \n",
       "14      0015  MASS_0015.pkl  C3-CLE   29114.0         200   \n",
       "15      0016  MASS_0016.pkl  C3-CLE   28340.0         200   \n",
       "16      0017  MASS_0017.pkl  C3-CLE   28342.0         200   \n",
       "17      0018  MASS_0018.pkl  C3-CLE   29554.0         200   \n",
       "18      0019  MASS_0019.pkl  C3-CLE   26392.0         200   \n",
       "\n",
       "    isOriginalSamplerate database  \n",
       "0                  False     MASS  \n",
       "1                  False     MASS  \n",
       "2                  False     MASS  \n",
       "3                  False     MASS  \n",
       "4                  False     MASS  \n",
       "5                  False     MASS  \n",
       "6                  False     MASS  \n",
       "7                  False     MASS  \n",
       "8                  False     MASS  \n",
       "9                  False     MASS  \n",
       "10                 False     MASS  \n",
       "11                 False     MASS  \n",
       "12                 False     MASS  \n",
       "13                 False     MASS  \n",
       "14                 False     MASS  \n",
       "15                 False     MASS  \n",
       "16                 False     MASS  \n",
       "17                 False     MASS  \n",
       "18                 False     MASS  "
      ]
     },
     "execution_count": 17,
     "metadata": {},
     "output_type": "execute_result"
    }
   ],
   "source": [
    "signalsMetadata"
   ]
  },
  {
   "cell_type": "code",
   "execution_count": 18,
   "metadata": {},
   "outputs": [],
   "source": [
    "#Features\n",
    "trainFeatures=loadFeatureMatrix(trainSplit,featureSelection,signalsMetadata,samplerate,datapath)\n",
    "valFeatures=loadFeatureMatrix(valSplit,featureSelection,signalsMetadata,samplerate,datapath)\n",
    "#Labels\n",
    "trainLabels=loadLabelsVector(trainSplit,usedAnnotations,signalsMetadata,samplerate)\n",
    "valLabels=loadLabelsVector(valSplit,usedAnnotations,signalsMetadata,samplerate)\n"
   ]
  },
  {
   "cell_type": "code",
   "execution_count": 19,
   "metadata": {},
   "outputs": [
    {
     "data": {
      "text/plain": [
       "(95402800, 6)"
      ]
     },
     "execution_count": 19,
     "metadata": {},
     "output_type": "execute_result"
    }
   ],
   "source": [
    "trainFeatures.shape"
   ]
  },
  {
   "cell_type": "code",
   "execution_count": 20,
   "metadata": {},
   "outputs": [
    {
     "data": {
      "text/plain": [
       "array(['0002', '0003', '0004', '0005', '0007', '0008', '0009', '0010',\n",
       "       '0011', '0012', '0013', '0015', '0016', '0017', '0018', '0019'],\n",
       "      dtype=object)"
      ]
     },
     "execution_count": 20,
     "metadata": {},
     "output_type": "execute_result"
    }
   ],
   "source": [
    "trainSplit"
   ]
  },
  {
   "cell_type": "code",
   "execution_count": 21,
   "metadata": {},
   "outputs": [],
   "source": [
    "aux=np.array([])\n",
    "for trainSample in trainSplit:\n",
    "    aux=np.append(aux,loadFeature(window,trainSample,\"petrosian\",\"broadband\",str(200),datapath+'/MASS/features'))"
   ]
  },
  {
   "cell_type": "code",
   "execution_count": 22,
   "metadata": {},
   "outputs": [
    {
     "data": {
      "text/plain": [
       "95402800"
      ]
     },
     "execution_count": 22,
     "metadata": {},
     "output_type": "execute_result"
    }
   ],
   "source": [
    "len(aux)"
   ]
  },
  {
   "cell_type": "code",
   "execution_count": 23,
   "metadata": {},
   "outputs": [
    {
     "data": {
      "text/plain": [
       "95402800"
      ]
     },
     "execution_count": 23,
     "metadata": {},
     "output_type": "execute_result"
    }
   ],
   "source": [
    "sum(trainFeatures[:,1]==aux)"
   ]
  },
  {
   "cell_type": "code",
   "execution_count": 24,
   "metadata": {},
   "outputs": [],
   "source": [
    "aux=np.array([])\n",
    "for trainSample in trainSplit:\n",
    "    thisDuration=signalsMetadata[signalsMetadata.subjectId==trainSample].duration.iloc[0]\n",
    "    thisLabels=excerptAnnotationsToLabels(usedAnnotations[usedAnnotations.subjectId==trainSample],int(thisDuration*200)) # process all annotations of a given subject\n",
    "    aux=np.append(aux,thisLabels)"
   ]
  },
  {
   "cell_type": "code",
   "execution_count": 25,
   "metadata": {},
   "outputs": [
    {
     "data": {
      "text/plain": [
       "95402800"
      ]
     },
     "execution_count": 25,
     "metadata": {},
     "output_type": "execute_result"
    }
   ],
   "source": [
    "len(aux)"
   ]
  },
  {
   "cell_type": "code",
   "execution_count": 26,
   "metadata": {},
   "outputs": [
    {
     "data": {
      "text/plain": [
       "95402800"
      ]
     },
     "execution_count": 26,
     "metadata": {},
     "output_type": "execute_result"
    }
   ],
   "source": [
    "len(trainLabels)"
   ]
  },
  {
   "cell_type": "code",
   "execution_count": 27,
   "metadata": {},
   "outputs": [
    {
     "data": {
      "text/plain": [
       "95402800"
      ]
     },
     "execution_count": 27,
     "metadata": {},
     "output_type": "execute_result"
    }
   ],
   "source": [
    "sum(trainLabels==aux)"
   ]
  },
  {
   "cell_type": "code",
   "execution_count": 28,
   "metadata": {},
   "outputs": [
    {
     "data": {
      "text/html": [
       "<div>\n",
       "<style scoped>\n",
       "    .dataframe tbody tr th:only-of-type {\n",
       "        vertical-align: middle;\n",
       "    }\n",
       "\n",
       "    .dataframe tbody tr th {\n",
       "        vertical-align: top;\n",
       "    }\n",
       "\n",
       "    .dataframe thead th {\n",
       "        text-align: right;\n",
       "    }\n",
       "</style>\n",
       "<table border=\"1\" class=\"dataframe\">\n",
       "  <thead>\n",
       "    <tr style=\"text-align: right;\">\n",
       "      <th></th>\n",
       "      <th>type</th>\n",
       "      <th>subjectId</th>\n",
       "      <th>startTime</th>\n",
       "      <th>duration</th>\n",
       "      <th>expert</th>\n",
       "      <th>comment</th>\n",
       "      <th>labelerId</th>\n",
       "      <th>samplerate</th>\n",
       "      <th>stopTime</th>\n",
       "      <th>startInd</th>\n",
       "      <th>stopInd</th>\n",
       "    </tr>\n",
       "  </thead>\n",
       "  <tbody>\n",
       "    <tr>\n",
       "      <th>0</th>\n",
       "      <td>spindle</td>\n",
       "      <td>0001</td>\n",
       "      <td>888.569501</td>\n",
       "      <td>0.640579</td>\n",
       "      <td>E1</td>\n",
       "      <td>&lt;Event channel=\"EEG C3-LER\" groupName=\"spindle...</td>\n",
       "      <td>0001</td>\n",
       "      <td>200</td>\n",
       "      <td>889.210080</td>\n",
       "      <td>177714</td>\n",
       "      <td>177842</td>\n",
       "    </tr>\n",
       "    <tr>\n",
       "      <th>1</th>\n",
       "      <td>spindle</td>\n",
       "      <td>0001</td>\n",
       "      <td>905.999757</td>\n",
       "      <td>0.578094</td>\n",
       "      <td>E1</td>\n",
       "      <td>&lt;Event channel=\"EEG C3-LER\" groupName=\"spindle...</td>\n",
       "      <td>0001</td>\n",
       "      <td>200</td>\n",
       "      <td>906.577851</td>\n",
       "      <td>181200</td>\n",
       "      <td>181316</td>\n",
       "    </tr>\n",
       "    <tr>\n",
       "      <th>2</th>\n",
       "      <td>spindle</td>\n",
       "      <td>0001</td>\n",
       "      <td>917.973270</td>\n",
       "      <td>0.847603</td>\n",
       "      <td>E1</td>\n",
       "      <td>&lt;Event channel=\"EEG C3-LER\" groupName=\"spindle...</td>\n",
       "      <td>0001</td>\n",
       "      <td>200</td>\n",
       "      <td>918.820873</td>\n",
       "      <td>183595</td>\n",
       "      <td>183764</td>\n",
       "    </tr>\n",
       "    <tr>\n",
       "      <th>3</th>\n",
       "      <td>spindle</td>\n",
       "      <td>0001</td>\n",
       "      <td>922.319885</td>\n",
       "      <td>0.878845</td>\n",
       "      <td>E1</td>\n",
       "      <td>&lt;Event channel=\"EEG C3-LER\" groupName=\"spindle...</td>\n",
       "      <td>0001</td>\n",
       "      <td>200</td>\n",
       "      <td>923.198730</td>\n",
       "      <td>184464</td>\n",
       "      <td>184640</td>\n",
       "    </tr>\n",
       "    <tr>\n",
       "      <th>4</th>\n",
       "      <td>spindle</td>\n",
       "      <td>0001</td>\n",
       "      <td>939.297141</td>\n",
       "      <td>0.757767</td>\n",
       "      <td>E1</td>\n",
       "      <td>&lt;Event channel=\"EEG C3-LER\" groupName=\"spindle...</td>\n",
       "      <td>0001</td>\n",
       "      <td>200</td>\n",
       "      <td>940.054908</td>\n",
       "      <td>187859</td>\n",
       "      <td>188011</td>\n",
       "    </tr>\n",
       "    <tr>\n",
       "      <th>5</th>\n",
       "      <td>spindle</td>\n",
       "      <td>0001</td>\n",
       "      <td>949.820501</td>\n",
       "      <td>0.574181</td>\n",
       "      <td>E1</td>\n",
       "      <td>&lt;Event channel=\"EEG C3-LER\" groupName=\"spindle...</td>\n",
       "      <td>0001</td>\n",
       "      <td>200</td>\n",
       "      <td>950.394682</td>\n",
       "      <td>189964</td>\n",
       "      <td>190079</td>\n",
       "    </tr>\n",
       "    <tr>\n",
       "      <th>6</th>\n",
       "      <td>spindle</td>\n",
       "      <td>0001</td>\n",
       "      <td>969.057502</td>\n",
       "      <td>0.828079</td>\n",
       "      <td>E1</td>\n",
       "      <td>&lt;Event channel=\"EEG C3-LER\" groupName=\"spindle...</td>\n",
       "      <td>0001</td>\n",
       "      <td>200</td>\n",
       "      <td>969.885581</td>\n",
       "      <td>193812</td>\n",
       "      <td>193977</td>\n",
       "    </tr>\n",
       "    <tr>\n",
       "      <th>7</th>\n",
       "      <td>spindle</td>\n",
       "      <td>0001</td>\n",
       "      <td>978.938143</td>\n",
       "      <td>0.472626</td>\n",
       "      <td>E1</td>\n",
       "      <td>&lt;Event channel=\"EEG C3-LER\" groupName=\"spindle...</td>\n",
       "      <td>0001</td>\n",
       "      <td>200</td>\n",
       "      <td>979.410769</td>\n",
       "      <td>195788</td>\n",
       "      <td>195882</td>\n",
       "    </tr>\n",
       "    <tr>\n",
       "      <th>8</th>\n",
       "      <td>spindle</td>\n",
       "      <td>0001</td>\n",
       "      <td>981.660014</td>\n",
       "      <td>0.710892</td>\n",
       "      <td>E1</td>\n",
       "      <td>&lt;Event channel=\"EEG C3-LER\" groupName=\"spindle...</td>\n",
       "      <td>0001</td>\n",
       "      <td>200</td>\n",
       "      <td>982.370906</td>\n",
       "      <td>196332</td>\n",
       "      <td>196474</td>\n",
       "    </tr>\n",
       "    <tr>\n",
       "      <th>9</th>\n",
       "      <td>spindle</td>\n",
       "      <td>0001</td>\n",
       "      <td>993.992526</td>\n",
       "      <td>0.980408</td>\n",
       "      <td>E1</td>\n",
       "      <td>&lt;Event channel=\"EEG C3-LER\" groupName=\"spindle...</td>\n",
       "      <td>0001</td>\n",
       "      <td>200</td>\n",
       "      <td>994.972934</td>\n",
       "      <td>198799</td>\n",
       "      <td>198995</td>\n",
       "    </tr>\n",
       "  </tbody>\n",
       "</table>\n",
       "</div>"
      ],
      "text/plain": [
       "      type subjectId   startTime  duration expert  \\\n",
       "0  spindle      0001  888.569501  0.640579     E1   \n",
       "1  spindle      0001  905.999757  0.578094     E1   \n",
       "2  spindle      0001  917.973270  0.847603     E1   \n",
       "3  spindle      0001  922.319885  0.878845     E1   \n",
       "4  spindle      0001  939.297141  0.757767     E1   \n",
       "5  spindle      0001  949.820501  0.574181     E1   \n",
       "6  spindle      0001  969.057502  0.828079     E1   \n",
       "7  spindle      0001  978.938143  0.472626     E1   \n",
       "8  spindle      0001  981.660014  0.710892     E1   \n",
       "9  spindle      0001  993.992526  0.980408     E1   \n",
       "\n",
       "                                             comment labelerId  samplerate  \\\n",
       "0  <Event channel=\"EEG C3-LER\" groupName=\"spindle...      0001         200   \n",
       "1  <Event channel=\"EEG C3-LER\" groupName=\"spindle...      0001         200   \n",
       "2  <Event channel=\"EEG C3-LER\" groupName=\"spindle...      0001         200   \n",
       "3  <Event channel=\"EEG C3-LER\" groupName=\"spindle...      0001         200   \n",
       "4  <Event channel=\"EEG C3-LER\" groupName=\"spindle...      0001         200   \n",
       "5  <Event channel=\"EEG C3-LER\" groupName=\"spindle...      0001         200   \n",
       "6  <Event channel=\"EEG C3-LER\" groupName=\"spindle...      0001         200   \n",
       "7  <Event channel=\"EEG C3-LER\" groupName=\"spindle...      0001         200   \n",
       "8  <Event channel=\"EEG C3-LER\" groupName=\"spindle...      0001         200   \n",
       "9  <Event channel=\"EEG C3-LER\" groupName=\"spindle...      0001         200   \n",
       "\n",
       "     stopTime  startInd  stopInd  \n",
       "0  889.210080    177714   177842  \n",
       "1  906.577851    181200   181316  \n",
       "2  918.820873    183595   183764  \n",
       "3  923.198730    184464   184640  \n",
       "4  940.054908    187859   188011  \n",
       "5  950.394682    189964   190079  \n",
       "6  969.885581    193812   193977  \n",
       "7  979.410769    195788   195882  \n",
       "8  982.370906    196332   196474  \n",
       "9  994.972934    198799   198995  "
      ]
     },
     "execution_count": 28,
     "metadata": {},
     "output_type": "execute_result"
    }
   ],
   "source": [
    "usedAnnotations.head(10)"
   ]
  },
  {
   "cell_type": "code",
   "execution_count": 29,
   "metadata": {},
   "outputs": [
    {
     "name": "stdout",
     "output_type": "stream",
     "text": [
      "59.600178238060245\n"
     ]
    },
    {
     "name": "stderr",
     "output_type": "stream",
     "text": [
      "c:\\Users\\Gurdiel\\Code\\SpinCo\\venv\\lib\\site-packages\\xgboost\\sklearn.py:861: UserWarning: `eval_metric` in `fit` method is deprecated for better compatibility with scikit-learn, use `eval_metric` in constructor or`set_params` instead.\n",
      "  warnings.warn(\n",
      "c:\\Users\\Gurdiel\\Code\\SpinCo\\venv\\lib\\site-packages\\xgboost\\sklearn.py:861: UserWarning: `early_stopping_rounds` in `fit` method is deprecated for better compatibility with scikit-learn, use `early_stopping_rounds` in constructor or`set_params` instead.\n",
      "  warnings.warn(\n"
     ]
    },
    {
     "name": "stdout",
     "output_type": "stream",
     "text": [
      "[0]\tvalidation_0-logloss:0.45744\tvalidation_0-anti-F1:0.96980\n",
      "[1]\tvalidation_0-logloss:0.32628\tvalidation_0-anti-F1:0.96175\n",
      "[2]\tvalidation_0-logloss:0.24346\tvalidation_0-anti-F1:0.95211\n",
      "[3]\tvalidation_0-logloss:0.18801\tvalidation_0-anti-F1:0.94069\n",
      "[4]\tvalidation_0-logloss:0.14977\tvalidation_0-anti-F1:0.92800\n",
      "[5]\tvalidation_0-logloss:0.12277\tvalidation_0-anti-F1:0.91419\n",
      "[6]\tvalidation_0-logloss:0.10344\tvalidation_0-anti-F1:0.89977\n",
      "[7]\tvalidation_0-logloss:0.08954\tvalidation_0-anti-F1:0.88536\n",
      "[8]\tvalidation_0-logloss:0.07946\tvalidation_0-anti-F1:0.87198\n",
      "[9]\tvalidation_0-logloss:0.07209\tvalidation_0-anti-F1:0.85956\n",
      "[10]\tvalidation_0-logloss:0.06676\tvalidation_0-anti-F1:0.84817\n",
      "[11]\tvalidation_0-logloss:0.06287\tvalidation_0-anti-F1:0.83878\n",
      "[12]\tvalidation_0-logloss:0.06007\tvalidation_0-anti-F1:0.83191\n",
      "[13]\tvalidation_0-logloss:0.05795\tvalidation_0-anti-F1:0.82541\n",
      "[14]\tvalidation_0-logloss:0.05644\tvalidation_0-anti-F1:0.82007\n",
      "[15]\tvalidation_0-logloss:0.05536\tvalidation_0-anti-F1:0.81663\n",
      "[16]\tvalidation_0-logloss:0.05460\tvalidation_0-anti-F1:0.81433\n",
      "[17]\tvalidation_0-logloss:0.05402\tvalidation_0-anti-F1:0.81188\n",
      "[18]\tvalidation_0-logloss:0.05362\tvalidation_0-anti-F1:0.81060\n",
      "[19]\tvalidation_0-logloss:0.05334\tvalidation_0-anti-F1:0.80890\n",
      "[20]\tvalidation_0-logloss:0.05308\tvalidation_0-anti-F1:0.80837\n",
      "[21]\tvalidation_0-logloss:0.05294\tvalidation_0-anti-F1:0.80763\n",
      "[22]\tvalidation_0-logloss:0.05286\tvalidation_0-anti-F1:0.80706\n",
      "[23]\tvalidation_0-logloss:0.05278\tvalidation_0-anti-F1:0.80593\n",
      "[24]\tvalidation_0-logloss:0.05273\tvalidation_0-anti-F1:0.80609\n",
      "[25]\tvalidation_0-logloss:0.05264\tvalidation_0-anti-F1:0.80527\n",
      "[26]\tvalidation_0-logloss:0.05263\tvalidation_0-anti-F1:0.80537\n",
      "[27]\tvalidation_0-logloss:0.05260\tvalidation_0-anti-F1:0.80526\n",
      "[28]\tvalidation_0-logloss:0.05260\tvalidation_0-anti-F1:0.80486\n",
      "[29]\tvalidation_0-logloss:0.05266\tvalidation_0-anti-F1:0.80497\n",
      "[30]\tvalidation_0-logloss:0.05269\tvalidation_0-anti-F1:0.80492\n",
      "[31]\tvalidation_0-logloss:0.05272\tvalidation_0-anti-F1:0.80473\n",
      "[32]\tvalidation_0-logloss:0.05270\tvalidation_0-anti-F1:0.80455\n",
      "[33]\tvalidation_0-logloss:0.05271\tvalidation_0-anti-F1:0.80463\n",
      "[34]\tvalidation_0-logloss:0.05269\tvalidation_0-anti-F1:0.80449\n",
      "[35]\tvalidation_0-logloss:0.05270\tvalidation_0-anti-F1:0.80427\n",
      "[36]\tvalidation_0-logloss:0.05275\tvalidation_0-anti-F1:0.80424\n",
      "[37]\tvalidation_0-logloss:0.05282\tvalidation_0-anti-F1:0.80438\n",
      "[38]\tvalidation_0-logloss:0.05281\tvalidation_0-anti-F1:0.80428\n",
      "[39]\tvalidation_0-logloss:0.05281\tvalidation_0-anti-F1:0.80395\n",
      "[40]\tvalidation_0-logloss:0.05283\tvalidation_0-anti-F1:0.80393\n",
      "[41]\tvalidation_0-logloss:0.05283\tvalidation_0-anti-F1:0.80395\n",
      "[42]\tvalidation_0-logloss:0.05283\tvalidation_0-anti-F1:0.80415\n",
      "[43]\tvalidation_0-logloss:0.05287\tvalidation_0-anti-F1:0.80403\n"
     ]
    },
    {
     "name": "stderr",
     "output_type": "stream",
     "text": [
      "c:\\Users\\Gurdiel\\Code\\SpinCo\\venv\\lib\\site-packages\\xgboost\\core.py:122: UserWarning: ntree_limit is deprecated, use `iteration_range` or model slicing instead.\n",
      "  warnings.warn(\n"
     ]
    }
   ],
   "source": [
    "n_jobs=8 # paralelization parameter for xgboost (keep it 8 as maximum)\n",
    "learning_rate=0.3\n",
    "subsample=0.7\n",
    "compensate=2\n",
    "\n",
    "#Train the models\n",
    "print(sum(1-trainLabels)/sum(trainLabels))\n",
    "xgb_model = xgb.XGBClassifier(n_jobs=n_jobs,scale_pos_weight=compensate, subsample=subsample).fit(trainFeatures, trainLabels, early_stopping_rounds=3, eval_metric=eval_F1,eval_set=[(valFeatures,valLabels)])\n",
    "\n",
    "#val predictions and objective function definition\n",
    "valPredictions=xgb_model.predict(valFeatures, ntree_limit=xgb_model.best_ntree_limit)\n",
    "valF1=F1(valLabels,valPredictions)\n"
   ]
  },
  {
   "cell_type": "code",
   "execution_count": 30,
   "metadata": {},
   "outputs": [
    {
     "data": {
      "text/plain": [
       "0.3185766726951426"
      ]
     },
     "execution_count": 30,
     "metadata": {},
     "output_type": "execute_result"
    }
   ],
   "source": [
    "F1(valLabels,valPredictions)"
   ]
  },
  {
   "cell_type": "code",
   "execution_count": 31,
   "metadata": {},
   "outputs": [
    {
     "data": {
      "text/plain": [
       "[<matplotlib.lines.Line2D at 0x26941454d30>]"
      ]
     },
     "execution_count": 31,
     "metadata": {},
     "output_type": "execute_result"
    },
    {
     "data": {
      "image/png": "[encoded data removed]",
      "text/plain": [
       "<Figure size 640x480 with 1 Axes>"
      ]
     },
     "metadata": {},
     "output_type": "display_data"
    }
   ],
   "source": [
    "plt.plot(valLabels[int(2*10**6):int(2.2*10**6)])\n",
    "plt.plot(valPredictions[int(2*10**6):int(2.2*10**6)])"
   ]
  },
  {
   "cell_type": "code",
   "execution_count": 32,
   "metadata": {},
   "outputs": [
    {
     "data": {
      "text/plain": [
       "[<matplotlib.lines.Line2D at 0x2696430a9b0>]"
      ]
     },
     "execution_count": 32,
     "metadata": {},
     "output_type": "execute_result"
    },
    {
     "data": {
      "image/png": "[encoded data removed]",
      "text/plain": [
       "<Figure size 640x480 with 1 Axes>"
      ]
     },
     "metadata": {},
     "output_type": "display_data"
    }
   ],
   "source": [
    "trainPredictions=xgb_model.predict(trainFeatures)\n",
    "plt.plot(trainPredictions)\n"
   ]
  },
  {
   "cell_type": "code",
   "execution_count": 33,
   "metadata": {},
   "outputs": [
    {
     "name": "stdout",
     "output_type": "stream",
     "text": [
      "Number of raw candidates: 2432\n",
      "Number of detections: 467\n"
     ]
    }
   ],
   "source": [
    "valProcessed=labelingProcess(valPredictions,0.3,0.3,200,verbose=1)"
   ]
  },
  {
   "cell_type": "code",
   "execution_count": 34,
   "metadata": {},
   "outputs": [
    {
     "data": {
      "text/plain": [
       "[<matplotlib.lines.Line2D at 0x26963fe4190>]"
      ]
     },
     "execution_count": 34,
     "metadata": {},
     "output_type": "execute_result"
    },
    {
     "data": {
      "image/png": "[encoded data removed]",
      "text/plain": [
       "<Figure size 640x480 with 1 Axes>"
      ]
     },
     "metadata": {},
     "output_type": "display_data"
    }
   ],
   "source": [
    "plt.plot(valLabels)\n",
    "plt.plot(valProcessed)"
   ]
  },
  {
   "cell_type": "code",
   "execution_count": 35,
   "metadata": {},
   "outputs": [
    {
     "data": {
      "text/plain": [
       "0.33268715593043574"
      ]
     },
     "execution_count": 35,
     "metadata": {},
     "output_type": "execute_result"
    }
   ],
   "source": [
    "F1(valLabels,valProcessed)"
   ]
  },
  {
   "cell_type": "code",
   "execution_count": 36,
   "metadata": {},
   "outputs": [
    {
     "name": "stdout",
     "output_type": "stream",
     "text": [
      "Number of raw candidates: 10839\n",
      "Number of detections: 1819\n"
     ]
    }
   ],
   "source": [
    "trainProcessed=labelingProcess(trainPredictions,0.1,0.3,200,verbose=1)"
   ]
  },
  {
   "cell_type": "code",
   "execution_count": 37,
   "metadata": {},
   "outputs": [
    {
     "data": {
      "text/plain": [
       "[<matplotlib.lines.Line2D at 0x26963b31b40>]"
      ]
     },
     "execution_count": 37,
     "metadata": {},
     "output_type": "execute_result"
    },
    {
     "data": {
      "image/png": "[encoded data removed]",
      "text/plain": [
       "<Figure size 640x480 with 1 Axes>"
      ]
     },
     "metadata": {},
     "output_type": "display_data"
    }
   ],
   "source": [
    "plt.plot(trainProcessed)"
   ]
  },
  {
   "cell_type": "code",
   "execution_count": 38,
   "metadata": {},
   "outputs": [
    {
     "data": {
      "text/plain": [
       "0.1470447948749795"
      ]
     },
     "execution_count": 38,
     "metadata": {},
     "output_type": "execute_result"
    }
   ],
   "source": [
    "F1(trainLabels,trainProcessed)"
   ]
  },
  {
   "cell_type": "code",
   "execution_count": 39,
   "metadata": {},
   "outputs": [
    {
     "data": {
      "text/plain": [
       "0.14856440964225395"
      ]
     },
     "execution_count": 39,
     "metadata": {},
     "output_type": "execute_result"
    }
   ],
   "source": [
    "F1(trainLabels,trainPredictions)"
   ]
  },
  {
   "cell_type": "code",
   "execution_count": 40,
   "metadata": {},
   "outputs": [
    {
     "data": {
      "text/plain": [
       "0.00363758715677108"
      ]
     },
     "execution_count": 40,
     "metadata": {},
     "output_type": "execute_result"
    }
   ],
   "source": [
    "np.sum(trainPredictions)/len(trainPredictions)"
   ]
  },
  {
   "cell_type": "code",
   "execution_count": 41,
   "metadata": {},
   "outputs": [
    {
     "data": {
      "text/plain": [
       "0.016501601630140833"
      ]
     },
     "execution_count": 41,
     "metadata": {},
     "output_type": "execute_result"
    }
   ],
   "source": [
    "np.sum(trainLabels)/len(trainLabels)"
   ]
  },
  {
   "cell_type": "code",
   "execution_count": 42,
   "metadata": {},
   "outputs": [
    {
     "name": "stdout",
     "output_type": "stream",
     "text": [
      "number of validation labels\n"
     ]
    },
    {
     "data": {
      "text/plain": [
       "863"
      ]
     },
     "execution_count": 42,
     "metadata": {},
     "output_type": "execute_result"
    }
   ],
   "source": [
    "print(\"number of validation labels\")\n",
    "len(usedAnnotations[usedAnnotations.subjectId.isin(valSplit)])"
   ]
  }
 ],
 "metadata": {
  "kernelspec": {
   "display_name": "Python 3.10.6 ('venv': venv)",
   "language": "python",
   "name": "python3"
  },
  "language_info": {
   "codemirror_mode": {
    "name": "ipython",
    "version": 3
   },
   "file_extension": ".py",
   "mimetype": "text/x-python",
   "name": "python",
   "nbconvert_exporter": "python",
   "pygments_lexer": "ipython3",
   "version": "3.10.6"
  },
  "orig_nbformat": 4,
  "vscode": {
   "interpreter": {
    "hash": "69eb08d3e713eff25484e90b18c01e15df779e80a0db295f9ddc53faed0455be"
   }
  }
 },
 "nbformat": 4,
 "nbformat_minor": 2
}
