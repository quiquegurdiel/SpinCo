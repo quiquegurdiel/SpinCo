{
 "cells": [
  {
   "cell_type": "code",
   "execution_count": 74,
   "metadata": {},
   "outputs": [],
   "source": [
    "#external libraries\n",
    "import numpy as np\n",
    "import os\n",
    "import matplotlib.pyplot as plt\n",
    "import matplotlib.colors as clt\n",
    "import plotly\n",
    "import plotly.subplots as sb\n",
    "import plotly.express as px\n",
    "import plotly.graph_objects as go\n",
    "import dotenv\n",
    "import pandas as pd\n",
    "import scipy.fft as fft\n",
    "import scipy.signal as sg\n",
    "import scipy.io as sio\n",
    "import pickle as pkl\n",
    "import xgboost as xgb\n",
    "import time\n",
    "\n",
    "#project library\n",
    "from spinco import *\n",
    "\n",
    "#environment variables\n",
    "dotenv.load_dotenv('lab.env')\n",
    "\n",
    "#project variables\n",
    "datapath=os.environ['DATAPATH']\n",
    "cognipath=datapath+\"\\\\COGNITION\"\n",
    "dreamspath=datapath+\"\\\\DREAMS\"\n",
    "masspath=datapath+\"\\\\MASS\"\n"
   ]
  },
  {
   "cell_type": "markdown",
   "metadata": {},
   "source": [
    "## define a fixed samplerate"
   ]
  },
  {
   "cell_type": "code",
   "execution_count": 75,
   "metadata": {},
   "outputs": [],
   "source": [
    "samplerate=200\n",
    "window=2"
   ]
  },
  {
   "cell_type": "markdown",
   "metadata": {},
   "source": [
    "## load mass"
   ]
  },
  {
   "cell_type": "code",
   "execution_count": 76,
   "metadata": {},
   "outputs": [
    {
     "ename": "KeyboardInterrupt",
     "evalue": "",
     "output_type": "error",
     "traceback": [
      "\u001b[1;31m---------------------------------------------------------------------------\u001b[0m",
      "\u001b[1;31mKeyboardInterrupt\u001b[0m                         Traceback (most recent call last)",
      "Cell \u001b[1;32mIn [76], line 1\u001b[0m\n\u001b[1;32m----> 1\u001b[0m annotations, signalsMetadata \u001b[39m=\u001b[39m loadMASSSpindles(masspath,forceSamplerate\u001b[39m=\u001b[39;49msamplerate)\n",
      "File \u001b[1;32m~\\Code\\SpinCo\\src\\spinco.py:610\u001b[0m, in \u001b[0;36mloadMASSSpindles\u001b[1;34m(path, returnSignals, forceSamplerate)\u001b[0m\n\u001b[0;32m    606\u001b[0m annotations[\u001b[39m'\u001b[39m\u001b[39mstopTime\u001b[39m\u001b[39m'\u001b[39m]\u001b[39m=\u001b[39mannotations\u001b[39m.\u001b[39mapply(\n\u001b[0;32m    607\u001b[0m     \u001b[39mlambda\u001b[39;00m row: row\u001b[39m.\u001b[39mstartTime\u001b[39m+\u001b[39mrow\u001b[39m.\u001b[39mduration , axis\u001b[39m=\u001b[39m\u001b[39m1\u001b[39m)\n\u001b[0;32m    608\u001b[0m annotations[\u001b[39m'\u001b[39m\u001b[39mstartInd\u001b[39m\u001b[39m'\u001b[39m]\u001b[39m=\u001b[39mannotations\u001b[39m.\u001b[39mapply(\n\u001b[0;32m    609\u001b[0m     \u001b[39mlambda\u001b[39;00m row: seconds2index(row\u001b[39m.\u001b[39mstartTime,row\u001b[39m.\u001b[39msamplerate) , axis\u001b[39m=\u001b[39m\u001b[39m1\u001b[39m)\n\u001b[1;32m--> 610\u001b[0m annotations[\u001b[39m'\u001b[39m\u001b[39mstopInd\u001b[39m\u001b[39m'\u001b[39m]\u001b[39m=\u001b[39mannotations\u001b[39m.\u001b[39;49mapply(\n\u001b[0;32m    611\u001b[0m     \u001b[39mlambda\u001b[39;49;00m row: seconds2index(row\u001b[39m.\u001b[39;49mstopTime,row\u001b[39m.\u001b[39;49msamplerate) , axis\u001b[39m=\u001b[39;49m\u001b[39m1\u001b[39;49m)\n\u001b[0;32m    613\u001b[0m \u001b[39mif\u001b[39;00m returnSignals:\n\u001b[0;32m    614\u001b[0m     \u001b[39m#load signals from pickle\u001b[39;00m\n\u001b[0;32m    615\u001b[0m     signals\u001b[39m=\u001b[39m{}\n",
      "File \u001b[1;32mc:\\Users\\Gurdiel\\Code\\SpinCo\\venv\\lib\\site-packages\\pandas\\core\\frame.py:9565\u001b[0m, in \u001b[0;36mDataFrame.apply\u001b[1;34m(self, func, axis, raw, result_type, args, **kwargs)\u001b[0m\n\u001b[0;32m   9554\u001b[0m \u001b[39mfrom\u001b[39;00m \u001b[39mpandas\u001b[39;00m\u001b[39m.\u001b[39;00m\u001b[39mcore\u001b[39;00m\u001b[39m.\u001b[39;00m\u001b[39mapply\u001b[39;00m \u001b[39mimport\u001b[39;00m frame_apply\n\u001b[0;32m   9556\u001b[0m op \u001b[39m=\u001b[39m frame_apply(\n\u001b[0;32m   9557\u001b[0m     \u001b[39mself\u001b[39m,\n\u001b[0;32m   9558\u001b[0m     func\u001b[39m=\u001b[39mfunc,\n\u001b[1;32m   (...)\u001b[0m\n\u001b[0;32m   9563\u001b[0m     kwargs\u001b[39m=\u001b[39mkwargs,\n\u001b[0;32m   9564\u001b[0m )\n\u001b[1;32m-> 9565\u001b[0m \u001b[39mreturn\u001b[39;00m op\u001b[39m.\u001b[39;49mapply()\u001b[39m.\u001b[39m__finalize__(\u001b[39mself\u001b[39m, method\u001b[39m=\u001b[39m\u001b[39m\"\u001b[39m\u001b[39mapply\u001b[39m\u001b[39m\"\u001b[39m)\n",
      "File \u001b[1;32mc:\\Users\\Gurdiel\\Code\\SpinCo\\venv\\lib\\site-packages\\pandas\\core\\apply.py:746\u001b[0m, in \u001b[0;36mFrameApply.apply\u001b[1;34m(self)\u001b[0m\n\u001b[0;32m    743\u001b[0m \u001b[39melif\u001b[39;00m \u001b[39mself\u001b[39m\u001b[39m.\u001b[39mraw:\n\u001b[0;32m    744\u001b[0m     \u001b[39mreturn\u001b[39;00m \u001b[39mself\u001b[39m\u001b[39m.\u001b[39mapply_raw()\n\u001b[1;32m--> 746\u001b[0m \u001b[39mreturn\u001b[39;00m \u001b[39mself\u001b[39;49m\u001b[39m.\u001b[39;49mapply_standard()\n",
      "File \u001b[1;32mc:\\Users\\Gurdiel\\Code\\SpinCo\\venv\\lib\\site-packages\\pandas\\core\\apply.py:873\u001b[0m, in \u001b[0;36mFrameApply.apply_standard\u001b[1;34m(self)\u001b[0m\n\u001b[0;32m    872\u001b[0m \u001b[39mdef\u001b[39;00m \u001b[39mapply_standard\u001b[39m(\u001b[39mself\u001b[39m):\n\u001b[1;32m--> 873\u001b[0m     results, res_index \u001b[39m=\u001b[39m \u001b[39mself\u001b[39;49m\u001b[39m.\u001b[39;49mapply_series_generator()\n\u001b[0;32m    875\u001b[0m     \u001b[39m# wrap results\u001b[39;00m\n\u001b[0;32m    876\u001b[0m     \u001b[39mreturn\u001b[39;00m \u001b[39mself\u001b[39m\u001b[39m.\u001b[39mwrap_results(results, res_index)\n",
      "File \u001b[1;32mc:\\Users\\Gurdiel\\Code\\SpinCo\\venv\\lib\\site-packages\\pandas\\core\\apply.py:889\u001b[0m, in \u001b[0;36mFrameApply.apply_series_generator\u001b[1;34m(self)\u001b[0m\n\u001b[0;32m    886\u001b[0m \u001b[39mwith\u001b[39;00m option_context(\u001b[39m\"\u001b[39m\u001b[39mmode.chained_assignment\u001b[39m\u001b[39m\"\u001b[39m, \u001b[39mNone\u001b[39;00m):\n\u001b[0;32m    887\u001b[0m     \u001b[39mfor\u001b[39;00m i, v \u001b[39min\u001b[39;00m \u001b[39menumerate\u001b[39m(series_gen):\n\u001b[0;32m    888\u001b[0m         \u001b[39m# ignore SettingWithCopy here in case the user mutates\u001b[39;00m\n\u001b[1;32m--> 889\u001b[0m         results[i] \u001b[39m=\u001b[39m \u001b[39mself\u001b[39;49m\u001b[39m.\u001b[39;49mf(v)\n\u001b[0;32m    890\u001b[0m         \u001b[39mif\u001b[39;00m \u001b[39misinstance\u001b[39m(results[i], ABCSeries):\n\u001b[0;32m    891\u001b[0m             \u001b[39m# If we have a view on v, we need to make a copy because\u001b[39;00m\n\u001b[0;32m    892\u001b[0m             \u001b[39m#  series_generator will swap out the underlying data\u001b[39;00m\n\u001b[0;32m    893\u001b[0m             results[i] \u001b[39m=\u001b[39m results[i]\u001b[39m.\u001b[39mcopy(deep\u001b[39m=\u001b[39m\u001b[39mFalse\u001b[39;00m)\n",
      "File \u001b[1;32m~\\Code\\SpinCo\\src\\spinco.py:611\u001b[0m, in \u001b[0;36mloadMASSSpindles.<locals>.<lambda>\u001b[1;34m(row)\u001b[0m\n\u001b[0;32m    606\u001b[0m annotations[\u001b[39m'\u001b[39m\u001b[39mstopTime\u001b[39m\u001b[39m'\u001b[39m]\u001b[39m=\u001b[39mannotations\u001b[39m.\u001b[39mapply(\n\u001b[0;32m    607\u001b[0m     \u001b[39mlambda\u001b[39;00m row: row\u001b[39m.\u001b[39mstartTime\u001b[39m+\u001b[39mrow\u001b[39m.\u001b[39mduration , axis\u001b[39m=\u001b[39m\u001b[39m1\u001b[39m)\n\u001b[0;32m    608\u001b[0m annotations[\u001b[39m'\u001b[39m\u001b[39mstartInd\u001b[39m\u001b[39m'\u001b[39m]\u001b[39m=\u001b[39mannotations\u001b[39m.\u001b[39mapply(\n\u001b[0;32m    609\u001b[0m     \u001b[39mlambda\u001b[39;00m row: seconds2index(row\u001b[39m.\u001b[39mstartTime,row\u001b[39m.\u001b[39msamplerate) , axis\u001b[39m=\u001b[39m\u001b[39m1\u001b[39m)\n\u001b[0;32m    610\u001b[0m annotations[\u001b[39m'\u001b[39m\u001b[39mstopInd\u001b[39m\u001b[39m'\u001b[39m]\u001b[39m=\u001b[39mannotations\u001b[39m.\u001b[39mapply(\n\u001b[1;32m--> 611\u001b[0m     \u001b[39mlambda\u001b[39;00m row: seconds2index(row\u001b[39m.\u001b[39;49mstopTime,row\u001b[39m.\u001b[39;49msamplerate) , axis\u001b[39m=\u001b[39m\u001b[39m1\u001b[39m)\n\u001b[0;32m    613\u001b[0m \u001b[39mif\u001b[39;00m returnSignals:\n\u001b[0;32m    614\u001b[0m     \u001b[39m#load signals from pickle\u001b[39;00m\n\u001b[0;32m    615\u001b[0m     signals\u001b[39m=\u001b[39m{}\n",
      "File \u001b[1;32m~\\Code\\SpinCo\\src\\spinco.py:17\u001b[0m, in \u001b[0;36mseconds2index\u001b[1;34m(input, sr)\u001b[0m\n\u001b[0;32m     16\u001b[0m \u001b[39mdef\u001b[39;00m \u001b[39mseconds2index\u001b[39m(\u001b[39minput\u001b[39m,sr):\n\u001b[1;32m---> 17\u001b[0m     \u001b[39mreturn\u001b[39;00m(np\u001b[39m.\u001b[39;49mround(\u001b[39minput\u001b[39;49m\u001b[39m*\u001b[39;49msr)\u001b[39m.\u001b[39mastype(\u001b[39mint\u001b[39m))\n",
      "File \u001b[1;32m<__array_function__ internals>:180\u001b[0m, in \u001b[0;36mround_\u001b[1;34m(*args, **kwargs)\u001b[0m\n",
      "\u001b[1;31mKeyboardInterrupt\u001b[0m: "
     ]
    }
   ],
   "source": [
    "annotations, signalsMetadata = loadMASSSpindles(masspath,forceSamplerate=samplerate)"
   ]
  },
  {
   "cell_type": "code",
   "execution_count": null,
   "metadata": {},
   "outputs": [
    {
     "data": {
      "text/html": [
       "<div>\n",
       "<style scoped>\n",
       "    .dataframe tbody tr th:only-of-type {\n",
       "        vertical-align: middle;\n",
       "    }\n",
       "\n",
       "    .dataframe tbody tr th {\n",
       "        vertical-align: top;\n",
       "    }\n",
       "\n",
       "    .dataframe thead th {\n",
       "        text-align: right;\n",
       "    }\n",
       "</style>\n",
       "<table border=\"1\" class=\"dataframe\">\n",
       "  <thead>\n",
       "    <tr style=\"text-align: right;\">\n",
       "      <th></th>\n",
       "      <th>type</th>\n",
       "      <th>expert</th>\n",
       "      <th>subjectId</th>\n",
       "      <th>labelerId</th>\n",
       "      <th>startTime</th>\n",
       "      <th>duration</th>\n",
       "      <th>samplerate</th>\n",
       "      <th>stopTime</th>\n",
       "      <th>startInd</th>\n",
       "      <th>stopInd</th>\n",
       "    </tr>\n",
       "  </thead>\n",
       "  <tbody>\n",
       "    <tr>\n",
       "      <th>0</th>\n",
       "      <td>kcomplex</td>\n",
       "      <td>E1</td>\n",
       "      <td>0001</td>\n",
       "      <td>0001</td>\n",
       "      <td>830.596676</td>\n",
       "      <td>0.699174</td>\n",
       "      <td>200</td>\n",
       "      <td>831.295850</td>\n",
       "      <td>166119</td>\n",
       "      <td>166259</td>\n",
       "    </tr>\n",
       "    <tr>\n",
       "      <th>1</th>\n",
       "      <td>kcomplex</td>\n",
       "      <td>E1</td>\n",
       "      <td>0001</td>\n",
       "      <td>0001</td>\n",
       "      <td>840.981316</td>\n",
       "      <td>0.492156</td>\n",
       "      <td>200</td>\n",
       "      <td>841.473472</td>\n",
       "      <td>168196</td>\n",
       "      <td>168295</td>\n",
       "    </tr>\n",
       "    <tr>\n",
       "      <th>2</th>\n",
       "      <td>kcomplex</td>\n",
       "      <td>E1</td>\n",
       "      <td>0001</td>\n",
       "      <td>0001</td>\n",
       "      <td>970.596678</td>\n",
       "      <td>0.578088</td>\n",
       "      <td>200</td>\n",
       "      <td>971.174766</td>\n",
       "      <td>194119</td>\n",
       "      <td>194235</td>\n",
       "    </tr>\n",
       "    <tr>\n",
       "      <th>3</th>\n",
       "      <td>kcomplex</td>\n",
       "      <td>E1</td>\n",
       "      <td>0001</td>\n",
       "      <td>0001</td>\n",
       "      <td>1049.772807</td>\n",
       "      <td>0.695268</td>\n",
       "      <td>200</td>\n",
       "      <td>1050.468075</td>\n",
       "      <td>209955</td>\n",
       "      <td>210094</td>\n",
       "    </tr>\n",
       "    <tr>\n",
       "      <th>4</th>\n",
       "      <td>kcomplex</td>\n",
       "      <td>E1</td>\n",
       "      <td>0001</td>\n",
       "      <td>0001</td>\n",
       "      <td>1077.231575</td>\n",
       "      <td>0.648396</td>\n",
       "      <td>200</td>\n",
       "      <td>1077.879971</td>\n",
       "      <td>215446</td>\n",
       "      <td>215576</td>\n",
       "    </tr>\n",
       "  </tbody>\n",
       "</table>\n",
       "</div>"
      ],
      "text/plain": [
       "       type expert subjectId labelerId    startTime  duration  samplerate  \\\n",
       "0  kcomplex     E1      0001      0001   830.596676  0.699174         200   \n",
       "1  kcomplex     E1      0001      0001   840.981316  0.492156         200   \n",
       "2  kcomplex     E1      0001      0001   970.596678  0.578088         200   \n",
       "3  kcomplex     E1      0001      0001  1049.772807  0.695268         200   \n",
       "4  kcomplex     E1      0001      0001  1077.231575  0.648396         200   \n",
       "\n",
       "      stopTime  startInd  stopInd  \n",
       "0   831.295850    166119   166259  \n",
       "1   841.473472    168196   168295  \n",
       "2   971.174766    194119   194235  \n",
       "3  1050.468075    209955   210094  \n",
       "4  1077.879971    215446   215576  "
      ]
     },
     "execution_count": 46,
     "metadata": {},
     "output_type": "execute_result"
    }
   ],
   "source": [
    "annotations.head()"
   ]
  },
  {
   "cell_type": "code",
   "execution_count": null,
   "metadata": {},
   "outputs": [
    {
     "data": {
      "text/html": [
       "<div>\n",
       "<style scoped>\n",
       "    .dataframe tbody tr th:only-of-type {\n",
       "        vertical-align: middle;\n",
       "    }\n",
       "\n",
       "    .dataframe tbody tr th {\n",
       "        vertical-align: top;\n",
       "    }\n",
       "\n",
       "    .dataframe thead th {\n",
       "        text-align: right;\n",
       "    }\n",
       "</style>\n",
       "<table border=\"1\" class=\"dataframe\">\n",
       "  <thead>\n",
       "    <tr style=\"text-align: right;\">\n",
       "      <th></th>\n",
       "      <th>subjectId</th>\n",
       "      <th>file</th>\n",
       "      <th>channel</th>\n",
       "      <th>duration</th>\n",
       "      <th>samplerate</th>\n",
       "      <th>isOriginalSamplerate</th>\n",
       "      <th>database</th>\n",
       "    </tr>\n",
       "  </thead>\n",
       "  <tbody>\n",
       "    <tr>\n",
       "      <th>0</th>\n",
       "      <td>0001</td>\n",
       "      <td>MASS_0001.pkl</td>\n",
       "      <td>C3-CLE</td>\n",
       "      <td>28956.0</td>\n",
       "      <td>200</td>\n",
       "      <td>False</td>\n",
       "      <td>MASS</td>\n",
       "    </tr>\n",
       "    <tr>\n",
       "      <th>1</th>\n",
       "      <td>0002</td>\n",
       "      <td>MASS_0002.pkl</td>\n",
       "      <td>C3-CLE</td>\n",
       "      <td>35016.0</td>\n",
       "      <td>200</td>\n",
       "      <td>False</td>\n",
       "      <td>MASS</td>\n",
       "    </tr>\n",
       "    <tr>\n",
       "      <th>2</th>\n",
       "      <td>0003</td>\n",
       "      <td>MASS_0003.pkl</td>\n",
       "      <td>C3-CLE</td>\n",
       "      <td>36760.0</td>\n",
       "      <td>200</td>\n",
       "      <td>False</td>\n",
       "      <td>MASS</td>\n",
       "    </tr>\n",
       "    <tr>\n",
       "      <th>3</th>\n",
       "      <td>0004</td>\n",
       "      <td>MASS_0004.pkl</td>\n",
       "      <td>C3-CLE</td>\n",
       "      <td>28004.0</td>\n",
       "      <td>200</td>\n",
       "      <td>False</td>\n",
       "      <td>MASS</td>\n",
       "    </tr>\n",
       "    <tr>\n",
       "      <th>4</th>\n",
       "      <td>0005</td>\n",
       "      <td>MASS_0005.pkl</td>\n",
       "      <td>C3-CLE</td>\n",
       "      <td>31244.0</td>\n",
       "      <td>200</td>\n",
       "      <td>False</td>\n",
       "      <td>MASS</td>\n",
       "    </tr>\n",
       "  </tbody>\n",
       "</table>\n",
       "</div>"
      ],
      "text/plain": [
       "  subjectId           file channel  duration  samplerate  \\\n",
       "0      0001  MASS_0001.pkl  C3-CLE   28956.0         200   \n",
       "1      0002  MASS_0002.pkl  C3-CLE   35016.0         200   \n",
       "2      0003  MASS_0003.pkl  C3-CLE   36760.0         200   \n",
       "3      0004  MASS_0004.pkl  C3-CLE   28004.0         200   \n",
       "4      0005  MASS_0005.pkl  C3-CLE   31244.0         200   \n",
       "\n",
       "   isOriginalSamplerate database  \n",
       "0                 False     MASS  \n",
       "1                 False     MASS  \n",
       "2                 False     MASS  \n",
       "3                 False     MASS  \n",
       "4                 False     MASS  "
      ]
     },
     "execution_count": 47,
     "metadata": {},
     "output_type": "execute_result"
    }
   ],
   "source": [
    "signalsMetadata.head()"
   ]
  },
  {
   "cell_type": "markdown",
   "metadata": {},
   "source": [
    "## define a fixed feature selection to use"
   ]
  },
  {
   "cell_type": "code",
   "execution_count": null,
   "metadata": {},
   "outputs": [
    {
     "data": {
      "text/html": [
       "<div>\n",
       "<style scoped>\n",
       "    .dataframe tbody tr th:only-of-type {\n",
       "        vertical-align: middle;\n",
       "    }\n",
       "\n",
       "    .dataframe tbody tr th {\n",
       "        vertical-align: top;\n",
       "    }\n",
       "\n",
       "    .dataframe thead th {\n",
       "        text-align: right;\n",
       "    }\n",
       "</style>\n",
       "<table border=\"1\" class=\"dataframe\">\n",
       "  <thead>\n",
       "    <tr style=\"text-align: right;\">\n",
       "      <th></th>\n",
       "      <th>characteristic</th>\n",
       "      <th>bandName</th>\n",
       "      <th>window</th>\n",
       "    </tr>\n",
       "  </thead>\n",
       "  <tbody>\n",
       "    <tr>\n",
       "      <th>21</th>\n",
       "      <td>hjortActivity</td>\n",
       "      <td>sigma</td>\n",
       "      <td>2</td>\n",
       "    </tr>\n",
       "    <tr>\n",
       "      <th>66</th>\n",
       "      <td>petrosian</td>\n",
       "      <td>broadband</td>\n",
       "      <td>2</td>\n",
       "    </tr>\n",
       "    <tr>\n",
       "      <th>22</th>\n",
       "      <td>hjortActivity</td>\n",
       "      <td>theta</td>\n",
       "      <td>2</td>\n",
       "    </tr>\n",
       "    <tr>\n",
       "      <th>79</th>\n",
       "      <td>relativePower</td>\n",
       "      <td>beta1</td>\n",
       "      <td>2</td>\n",
       "    </tr>\n",
       "    <tr>\n",
       "      <th>29</th>\n",
       "      <td>hjortComplexity</td>\n",
       "      <td>sigma</td>\n",
       "      <td>2</td>\n",
       "    </tr>\n",
       "  </tbody>\n",
       "</table>\n",
       "</div>"
      ],
      "text/plain": [
       "     characteristic   bandName  window\n",
       "21    hjortActivity      sigma       2\n",
       "66        petrosian  broadband       2\n",
       "22    hjortActivity      theta       2\n",
       "79    relativePower      beta1       2\n",
       "29  hjortComplexity      sigma       2"
      ]
     },
     "execution_count": 48,
     "metadata": {},
     "output_type": "execute_result"
    }
   ],
   "source": [
    "featureSelection=loadPickle(\"EXT_F1_iteration_7.pkl\")\n",
    "featureSelection.window=window\n",
    "featureSelection"
   ]
  },
  {
   "cell_type": "code",
   "execution_count": null,
   "metadata": {},
   "outputs": [
    {
     "data": {
      "text/html": [
       "<div>\n",
       "<style scoped>\n",
       "    .dataframe tbody tr th:only-of-type {\n",
       "        vertical-align: middle;\n",
       "    }\n",
       "\n",
       "    .dataframe tbody tr th {\n",
       "        vertical-align: top;\n",
       "    }\n",
       "\n",
       "    .dataframe thead th {\n",
       "        text-align: right;\n",
       "    }\n",
       "</style>\n",
       "<table border=\"1\" class=\"dataframe\">\n",
       "  <thead>\n",
       "    <tr style=\"text-align: right;\">\n",
       "      <th></th>\n",
       "      <th>characteristic</th>\n",
       "      <th>bandName</th>\n",
       "      <th>window</th>\n",
       "    </tr>\n",
       "  </thead>\n",
       "  <tbody>\n",
       "    <tr>\n",
       "      <th>0</th>\n",
       "      <td>sigmaIndex</td>\n",
       "      <td>broadband</td>\n",
       "      <td>2</td>\n",
       "    </tr>\n",
       "  </tbody>\n",
       "</table>\n",
       "</div>"
      ],
      "text/plain": [
       "  characteristic   bandName  window\n",
       "0     sigmaIndex  broadband       2"
      ]
     },
     "execution_count": 49,
     "metadata": {},
     "output_type": "execute_result"
    }
   ],
   "source": [
    "pd.DataFrame({\n",
    "    'characteristic':['sigmaIndex'],\n",
    "    'bandName':['broadband'],\n",
    "    'window':[2]\n",
    "})"
   ]
  },
  {
   "cell_type": "code",
   "execution_count": null,
   "metadata": {},
   "outputs": [
    {
     "data": {
      "text/html": [
       "<div>\n",
       "<style scoped>\n",
       "    .dataframe tbody tr th:only-of-type {\n",
       "        vertical-align: middle;\n",
       "    }\n",
       "\n",
       "    .dataframe tbody tr th {\n",
       "        vertical-align: top;\n",
       "    }\n",
       "\n",
       "    .dataframe thead th {\n",
       "        text-align: right;\n",
       "    }\n",
       "</style>\n",
       "<table border=\"1\" class=\"dataframe\">\n",
       "  <thead>\n",
       "    <tr style=\"text-align: right;\">\n",
       "      <th></th>\n",
       "      <th>characteristic</th>\n",
       "      <th>bandName</th>\n",
       "      <th>window</th>\n",
       "    </tr>\n",
       "  </thead>\n",
       "  <tbody>\n",
       "    <tr>\n",
       "      <th>0</th>\n",
       "      <td>hjortActivity</td>\n",
       "      <td>sigma</td>\n",
       "      <td>2</td>\n",
       "    </tr>\n",
       "    <tr>\n",
       "      <th>1</th>\n",
       "      <td>petrosian</td>\n",
       "      <td>broadband</td>\n",
       "      <td>2</td>\n",
       "    </tr>\n",
       "    <tr>\n",
       "      <th>2</th>\n",
       "      <td>hjortActivity</td>\n",
       "      <td>theta</td>\n",
       "      <td>2</td>\n",
       "    </tr>\n",
       "    <tr>\n",
       "      <th>3</th>\n",
       "      <td>relativePower</td>\n",
       "      <td>beta1</td>\n",
       "      <td>2</td>\n",
       "    </tr>\n",
       "    <tr>\n",
       "      <th>4</th>\n",
       "      <td>hjortComplexity</td>\n",
       "      <td>sigma</td>\n",
       "      <td>2</td>\n",
       "    </tr>\n",
       "    <tr>\n",
       "      <th>5</th>\n",
       "      <td>sigmaIndex</td>\n",
       "      <td>broadband</td>\n",
       "      <td>2</td>\n",
       "    </tr>\n",
       "  </tbody>\n",
       "</table>\n",
       "</div>"
      ],
      "text/plain": [
       "    characteristic   bandName  window\n",
       "0    hjortActivity      sigma       2\n",
       "1        petrosian  broadband       2\n",
       "2    hjortActivity      theta       2\n",
       "3    relativePower      beta1       2\n",
       "4  hjortComplexity      sigma       2\n",
       "5       sigmaIndex  broadband       2"
      ]
     },
     "execution_count": 50,
     "metadata": {},
     "output_type": "execute_result"
    }
   ],
   "source": [
    "featureSelection = pd.concat((featureSelection,pd.DataFrame({\n",
    "    'characteristic':['sigmaIndex'],\n",
    "    'bandName':['broadband'],\n",
    "    'window':[2]\n",
    "}))).reset_index(drop=True)\n",
    "featureSelection"
   ]
  },
  {
   "cell_type": "markdown",
   "metadata": {},
   "source": [
    "## load data split\n",
    "leave-one-subject-out CROSS VALIDATION, two subjects for validation"
   ]
  },
  {
   "cell_type": "code",
   "execution_count": null,
   "metadata": {},
   "outputs": [
    {
     "data": {
      "text/html": [
       "<div>\n",
       "<style scoped>\n",
       "    .dataframe tbody tr th:only-of-type {\n",
       "        vertical-align: middle;\n",
       "    }\n",
       "\n",
       "    .dataframe tbody tr th {\n",
       "        vertical-align: top;\n",
       "    }\n",
       "\n",
       "    .dataframe thead th {\n",
       "        text-align: right;\n",
       "    }\n",
       "</style>\n",
       "<table border=\"1\" class=\"dataframe\">\n",
       "  <thead>\n",
       "    <tr style=\"text-align: right;\">\n",
       "      <th></th>\n",
       "      <th>train</th>\n",
       "      <th>val</th>\n",
       "      <th>test</th>\n",
       "    </tr>\n",
       "  </thead>\n",
       "  <tbody>\n",
       "    <tr>\n",
       "      <th>0</th>\n",
       "      <td>[0002, 0003, 0004, 0005, 0007, 0008, 0009, 001...</td>\n",
       "      <td>[0006, 0014]</td>\n",
       "      <td>[0001]</td>\n",
       "    </tr>\n",
       "    <tr>\n",
       "      <th>1</th>\n",
       "      <td>[0001, 0003, 0004, 0005, 0006, 0007, 0008, 000...</td>\n",
       "      <td>[0012, 0010]</td>\n",
       "      <td>[0002]</td>\n",
       "    </tr>\n",
       "    <tr>\n",
       "      <th>2</th>\n",
       "      <td>[0002, 0004, 0005, 0006, 0007, 0008, 0009, 001...</td>\n",
       "      <td>[0001, 0012]</td>\n",
       "      <td>[0003]</td>\n",
       "    </tr>\n",
       "    <tr>\n",
       "      <th>3</th>\n",
       "      <td>[0001, 0003, 0005, 0006, 0008, 0009, 0010, 001...</td>\n",
       "      <td>[0002, 0007]</td>\n",
       "      <td>[0004]</td>\n",
       "    </tr>\n",
       "    <tr>\n",
       "      <th>4</th>\n",
       "      <td>[0001, 0002, 0003, 0004, 0006, 0007, 0008, 000...</td>\n",
       "      <td>[0011, 0016]</td>\n",
       "      <td>[0005]</td>\n",
       "    </tr>\n",
       "    <tr>\n",
       "      <th>5</th>\n",
       "      <td>[0001, 0002, 0003, 0004, 0005, 0007, 0008, 000...</td>\n",
       "      <td>[0011, 0016]</td>\n",
       "      <td>[0006]</td>\n",
       "    </tr>\n",
       "    <tr>\n",
       "      <th>6</th>\n",
       "      <td>[0001, 0002, 0003, 0004, 0005, 0006, 0008, 000...</td>\n",
       "      <td>[0010, 0018]</td>\n",
       "      <td>[0007]</td>\n",
       "    </tr>\n",
       "    <tr>\n",
       "      <th>7</th>\n",
       "      <td>[0001, 0002, 0003, 0004, 0005, 0007, 0009, 001...</td>\n",
       "      <td>[0015, 0006]</td>\n",
       "      <td>[0008]</td>\n",
       "    </tr>\n",
       "    <tr>\n",
       "      <th>8</th>\n",
       "      <td>[0001, 0002, 0003, 0004, 0006, 0008, 0010, 001...</td>\n",
       "      <td>[0005, 0007]</td>\n",
       "      <td>[0009]</td>\n",
       "    </tr>\n",
       "    <tr>\n",
       "      <th>9</th>\n",
       "      <td>[0001, 0002, 0003, 0004, 0005, 0006, 0007, 000...</td>\n",
       "      <td>[0011, 0009]</td>\n",
       "      <td>[0010]</td>\n",
       "    </tr>\n",
       "    <tr>\n",
       "      <th>10</th>\n",
       "      <td>[0001, 0002, 0003, 0004, 0005, 0006, 0007, 000...</td>\n",
       "      <td>[0009, 0012]</td>\n",
       "      <td>[0011]</td>\n",
       "    </tr>\n",
       "    <tr>\n",
       "      <th>11</th>\n",
       "      <td>[0001, 0002, 0003, 0005, 0006, 0007, 0008, 001...</td>\n",
       "      <td>[0004, 0009]</td>\n",
       "      <td>[0012]</td>\n",
       "    </tr>\n",
       "    <tr>\n",
       "      <th>12</th>\n",
       "      <td>[0001, 0002, 0003, 0004, 0005, 0006, 0007, 000...</td>\n",
       "      <td>[0012, 0017]</td>\n",
       "      <td>[0013]</td>\n",
       "    </tr>\n",
       "    <tr>\n",
       "      <th>13</th>\n",
       "      <td>[0002, 0003, 0004, 0005, 0006, 0007, 0008, 000...</td>\n",
       "      <td>[0018, 0001]</td>\n",
       "      <td>[0014]</td>\n",
       "    </tr>\n",
       "    <tr>\n",
       "      <th>14</th>\n",
       "      <td>[0001, 0002, 0003, 0004, 0005, 0006, 0007, 000...</td>\n",
       "      <td>[0009, 0011]</td>\n",
       "      <td>[0015]</td>\n",
       "    </tr>\n",
       "    <tr>\n",
       "      <th>15</th>\n",
       "      <td>[0002, 0003, 0004, 0005, 0006, 0007, 0008, 000...</td>\n",
       "      <td>[0001, 0011]</td>\n",
       "      <td>[0016]</td>\n",
       "    </tr>\n",
       "    <tr>\n",
       "      <th>16</th>\n",
       "      <td>[0001, 0002, 0003, 0004, 0005, 0006, 0007, 000...</td>\n",
       "      <td>[0014, 0011]</td>\n",
       "      <td>[0017]</td>\n",
       "    </tr>\n",
       "    <tr>\n",
       "      <th>17</th>\n",
       "      <td>[0001, 0002, 0003, 0004, 0006, 0007, 0008, 000...</td>\n",
       "      <td>[0015, 0005]</td>\n",
       "      <td>[0018]</td>\n",
       "    </tr>\n",
       "    <tr>\n",
       "      <th>18</th>\n",
       "      <td>[0001, 0002, 0003, 0004, 0005, 0006, 0007, 000...</td>\n",
       "      <td>[0009, 0010]</td>\n",
       "      <td>[0019]</td>\n",
       "    </tr>\n",
       "  </tbody>\n",
       "</table>\n",
       "</div>"
      ],
      "text/plain": [
       "                                                train           val    test\n",
       "0   [0002, 0003, 0004, 0005, 0007, 0008, 0009, 001...  [0006, 0014]  [0001]\n",
       "1   [0001, 0003, 0004, 0005, 0006, 0007, 0008, 000...  [0012, 0010]  [0002]\n",
       "2   [0002, 0004, 0005, 0006, 0007, 0008, 0009, 001...  [0001, 0012]  [0003]\n",
       "3   [0001, 0003, 0005, 0006, 0008, 0009, 0010, 001...  [0002, 0007]  [0004]\n",
       "4   [0001, 0002, 0003, 0004, 0006, 0007, 0008, 000...  [0011, 0016]  [0005]\n",
       "5   [0001, 0002, 0003, 0004, 0005, 0007, 0008, 000...  [0011, 0016]  [0006]\n",
       "6   [0001, 0002, 0003, 0004, 0005, 0006, 0008, 000...  [0010, 0018]  [0007]\n",
       "7   [0001, 0002, 0003, 0004, 0005, 0007, 0009, 001...  [0015, 0006]  [0008]\n",
       "8   [0001, 0002, 0003, 0004, 0006, 0008, 0010, 001...  [0005, 0007]  [0009]\n",
       "9   [0001, 0002, 0003, 0004, 0005, 0006, 0007, 000...  [0011, 0009]  [0010]\n",
       "10  [0001, 0002, 0003, 0004, 0005, 0006, 0007, 000...  [0009, 0012]  [0011]\n",
       "11  [0001, 0002, 0003, 0005, 0006, 0007, 0008, 001...  [0004, 0009]  [0012]\n",
       "12  [0001, 0002, 0003, 0004, 0005, 0006, 0007, 000...  [0012, 0017]  [0013]\n",
       "13  [0002, 0003, 0004, 0005, 0006, 0007, 0008, 000...  [0018, 0001]  [0014]\n",
       "14  [0001, 0002, 0003, 0004, 0005, 0006, 0007, 000...  [0009, 0011]  [0015]\n",
       "15  [0002, 0003, 0004, 0005, 0006, 0007, 0008, 000...  [0001, 0011]  [0016]\n",
       "16  [0001, 0002, 0003, 0004, 0005, 0006, 0007, 000...  [0014, 0011]  [0017]\n",
       "17  [0001, 0002, 0003, 0004, 0006, 0007, 0008, 000...  [0015, 0005]  [0018]\n",
       "18  [0001, 0002, 0003, 0004, 0005, 0006, 0007, 000...  [0009, 0010]  [0019]"
      ]
     },
     "execution_count": 51,
     "metadata": {},
     "output_type": "execute_result"
    }
   ],
   "source": [
    "dataSplits=loadPickle(\"dataSplits_MASS_debug\")\n",
    "dataSplits"
   ]
  },
  {
   "cell_type": "markdown",
   "metadata": {},
   "source": [
    "## choose the first data split for debugging purposes"
   ]
  },
  {
   "cell_type": "code",
   "execution_count": null,
   "metadata": {},
   "outputs": [],
   "source": [
    "trainSplit=dataSplits.train[0]\n",
    "valSplit=dataSplits.val[0]\n",
    "testSplit=dataSplits.test[0]"
   ]
  },
  {
   "cell_type": "code",
   "execution_count": null,
   "metadata": {},
   "outputs": [
    {
     "data": {
      "text/plain": [
       "array(['0002', '0003', '0004', '0005', '0007', '0008', '0009', '0010',\n",
       "       '0011', '0012', '0013', '0015', '0016', '0017', '0018', '0019'],\n",
       "      dtype=object)"
      ]
     },
     "execution_count": 53,
     "metadata": {},
     "output_type": "execute_result"
    }
   ],
   "source": [
    "trainSplit"
   ]
  },
  {
   "cell_type": "code",
   "execution_count": null,
   "metadata": {},
   "outputs": [
    {
     "data": {
      "text/plain": [
       "array(['0006', '0014'], dtype=object)"
      ]
     },
     "execution_count": 54,
     "metadata": {},
     "output_type": "execute_result"
    }
   ],
   "source": [
    "valSplit"
   ]
  },
  {
   "cell_type": "code",
   "execution_count": null,
   "metadata": {},
   "outputs": [
    {
     "data": {
      "text/plain": [
       "['0001']"
      ]
     },
     "execution_count": 55,
     "metadata": {},
     "output_type": "execute_result"
    }
   ],
   "source": [
    "testSplit"
   ]
  },
  {
   "cell_type": "markdown",
   "metadata": {},
   "source": [
    "## define annotation criterium\n",
    "by now we keep the labeler that went trough all the signals"
   ]
  },
  {
   "cell_type": "code",
   "execution_count": null,
   "metadata": {},
   "outputs": [],
   "source": [
    "usedAnnotations=annotations[(annotations['type']=='spindle')&(annotations['labelerId']=='0001')]\n"
   ]
  },
  {
   "cell_type": "code",
   "execution_count": null,
   "metadata": {},
   "outputs": [
    {
     "data": {
      "text/html": [
       "<div>\n",
       "<style scoped>\n",
       "    .dataframe tbody tr th:only-of-type {\n",
       "        vertical-align: middle;\n",
       "    }\n",
       "\n",
       "    .dataframe tbody tr th {\n",
       "        vertical-align: top;\n",
       "    }\n",
       "\n",
       "    .dataframe thead tr th {\n",
       "        text-align: left;\n",
       "    }\n",
       "\n",
       "    .dataframe thead tr:last-of-type th {\n",
       "        text-align: right;\n",
       "    }\n",
       "</style>\n",
       "<table border=\"1\" class=\"dataframe\">\n",
       "  <thead>\n",
       "    <tr>\n",
       "      <th></th>\n",
       "      <th></th>\n",
       "      <th colspan=\"8\" halign=\"left\">duration</th>\n",
       "    </tr>\n",
       "    <tr>\n",
       "      <th></th>\n",
       "      <th></th>\n",
       "      <th>count</th>\n",
       "      <th>mean</th>\n",
       "      <th>std</th>\n",
       "      <th>min</th>\n",
       "      <th>25%</th>\n",
       "      <th>50%</th>\n",
       "      <th>75%</th>\n",
       "      <th>max</th>\n",
       "    </tr>\n",
       "    <tr>\n",
       "      <th>subjectId</th>\n",
       "      <th>labelerId</th>\n",
       "      <th></th>\n",
       "      <th></th>\n",
       "      <th></th>\n",
       "      <th></th>\n",
       "      <th></th>\n",
       "      <th></th>\n",
       "      <th></th>\n",
       "      <th></th>\n",
       "    </tr>\n",
       "  </thead>\n",
       "  <tbody>\n",
       "    <tr>\n",
       "      <th>0001</th>\n",
       "      <th>0001</th>\n",
       "      <td>1044.0</td>\n",
       "      <td>0.822037</td>\n",
       "      <td>0.202792</td>\n",
       "      <td>0.390602</td>\n",
       "      <td>0.675735</td>\n",
       "      <td>0.796822</td>\n",
       "      <td>0.945251</td>\n",
       "      <td>1.839722</td>\n",
       "    </tr>\n",
       "    <tr>\n",
       "      <th>0002</th>\n",
       "      <th>0001</th>\n",
       "      <td>1143.0</td>\n",
       "      <td>0.834582</td>\n",
       "      <td>0.195713</td>\n",
       "      <td>0.414040</td>\n",
       "      <td>0.699173</td>\n",
       "      <td>0.816353</td>\n",
       "      <td>0.937439</td>\n",
       "      <td>1.820198</td>\n",
       "    </tr>\n",
       "    <tr>\n",
       "      <th>0003</th>\n",
       "      <th>0001</th>\n",
       "      <td>143.0</td>\n",
       "      <td>0.690269</td>\n",
       "      <td>0.149652</td>\n",
       "      <td>0.460907</td>\n",
       "      <td>0.585900</td>\n",
       "      <td>0.648399</td>\n",
       "      <td>0.775341</td>\n",
       "      <td>1.160080</td>\n",
       "    </tr>\n",
       "    <tr>\n",
       "      <th>0004</th>\n",
       "      <th>0001</th>\n",
       "      <td>253.0</td>\n",
       "      <td>0.829708</td>\n",
       "      <td>0.224842</td>\n",
       "      <td>0.492157</td>\n",
       "      <td>0.667923</td>\n",
       "      <td>0.785103</td>\n",
       "      <td>0.945251</td>\n",
       "      <td>1.675674</td>\n",
       "    </tr>\n",
       "    <tr>\n",
       "      <th>0005</th>\n",
       "      <th>0001</th>\n",
       "      <td>341.0</td>\n",
       "      <td>0.706104</td>\n",
       "      <td>0.131805</td>\n",
       "      <td>0.425751</td>\n",
       "      <td>0.613243</td>\n",
       "      <td>0.699173</td>\n",
       "      <td>0.781197</td>\n",
       "      <td>1.195236</td>\n",
       "    </tr>\n",
       "    <tr>\n",
       "      <th>0006</th>\n",
       "      <th>0001</th>\n",
       "      <td>150.0</td>\n",
       "      <td>0.761306</td>\n",
       "      <td>0.143614</td>\n",
       "      <td>0.492157</td>\n",
       "      <td>0.679642</td>\n",
       "      <td>0.749954</td>\n",
       "      <td>0.847603</td>\n",
       "      <td>1.480377</td>\n",
       "    </tr>\n",
       "    <tr>\n",
       "      <th>0007</th>\n",
       "      <th>0001</th>\n",
       "      <td>912.0</td>\n",
       "      <td>0.892692</td>\n",
       "      <td>0.226504</td>\n",
       "      <td>0.425751</td>\n",
       "      <td>0.730423</td>\n",
       "      <td>0.867134</td>\n",
       "      <td>1.003845</td>\n",
       "      <td>2.042839</td>\n",
       "    </tr>\n",
       "    <tr>\n",
       "      <th>0008</th>\n",
       "      <th>0001</th>\n",
       "      <td>385.0</td>\n",
       "      <td>0.846882</td>\n",
       "      <td>0.227884</td>\n",
       "      <td>0.441376</td>\n",
       "      <td>0.695267</td>\n",
       "      <td>0.800728</td>\n",
       "      <td>0.937439</td>\n",
       "      <td>1.925659</td>\n",
       "    </tr>\n",
       "    <tr>\n",
       "      <th>0009</th>\n",
       "      <th>0001</th>\n",
       "      <td>814.0</td>\n",
       "      <td>0.923970</td>\n",
       "      <td>0.216783</td>\n",
       "      <td>0.468719</td>\n",
       "      <td>0.773392</td>\n",
       "      <td>0.890568</td>\n",
       "      <td>1.027275</td>\n",
       "      <td>1.882690</td>\n",
       "    </tr>\n",
       "    <tr>\n",
       "      <th>0010</th>\n",
       "      <th>0001</th>\n",
       "      <td>795.0</td>\n",
       "      <td>0.815081</td>\n",
       "      <td>0.190663</td>\n",
       "      <td>0.402321</td>\n",
       "      <td>0.687454</td>\n",
       "      <td>0.773392</td>\n",
       "      <td>0.921814</td>\n",
       "      <td>1.847542</td>\n",
       "    </tr>\n",
       "    <tr>\n",
       "      <th>0011</th>\n",
       "      <th>0001</th>\n",
       "      <td>606.0</td>\n",
       "      <td>0.923982</td>\n",
       "      <td>0.222469</td>\n",
       "      <td>0.503876</td>\n",
       "      <td>0.773384</td>\n",
       "      <td>0.890564</td>\n",
       "      <td>1.042900</td>\n",
       "      <td>2.015495</td>\n",
       "    </tr>\n",
       "    <tr>\n",
       "      <th>0012</th>\n",
       "      <th>0001</th>\n",
       "      <td>709.0</td>\n",
       "      <td>0.836528</td>\n",
       "      <td>0.180787</td>\n",
       "      <td>0.437469</td>\n",
       "      <td>0.706985</td>\n",
       "      <td>0.808548</td>\n",
       "      <td>0.956970</td>\n",
       "      <td>1.495995</td>\n",
       "    </tr>\n",
       "    <tr>\n",
       "      <th>0013</th>\n",
       "      <th>0001</th>\n",
       "      <td>698.0</td>\n",
       "      <td>0.910960</td>\n",
       "      <td>0.245084</td>\n",
       "      <td>0.437477</td>\n",
       "      <td>0.742142</td>\n",
       "      <td>0.871036</td>\n",
       "      <td>1.026300</td>\n",
       "      <td>2.117058</td>\n",
       "    </tr>\n",
       "    <tr>\n",
       "      <th>0014</th>\n",
       "      <th>0001</th>\n",
       "      <td>713.0</td>\n",
       "      <td>0.805534</td>\n",
       "      <td>0.205166</td>\n",
       "      <td>0.406227</td>\n",
       "      <td>0.671829</td>\n",
       "      <td>0.773392</td>\n",
       "      <td>0.906197</td>\n",
       "      <td>2.218605</td>\n",
       "    </tr>\n",
       "    <tr>\n",
       "      <th>0015</th>\n",
       "      <th>0001</th>\n",
       "      <td>97.0</td>\n",
       "      <td>0.739281</td>\n",
       "      <td>0.106173</td>\n",
       "      <td>0.519501</td>\n",
       "      <td>0.671829</td>\n",
       "      <td>0.722610</td>\n",
       "      <td>0.808540</td>\n",
       "      <td>1.011650</td>\n",
       "    </tr>\n",
       "    <tr>\n",
       "      <th>0016</th>\n",
       "      <th>0001</th>\n",
       "      <td>452.0</td>\n",
       "      <td>0.806943</td>\n",
       "      <td>0.210937</td>\n",
       "      <td>0.335915</td>\n",
       "      <td>0.640587</td>\n",
       "      <td>0.773384</td>\n",
       "      <td>0.925720</td>\n",
       "      <td>1.679581</td>\n",
       "    </tr>\n",
       "    <tr>\n",
       "      <th>0017</th>\n",
       "      <th>0001</th>\n",
       "      <td>470.0</td>\n",
       "      <td>0.802766</td>\n",
       "      <td>0.155081</td>\n",
       "      <td>0.437469</td>\n",
       "      <td>0.694296</td>\n",
       "      <td>0.781200</td>\n",
       "      <td>0.890570</td>\n",
       "      <td>1.644424</td>\n",
       "    </tr>\n",
       "    <tr>\n",
       "      <th>0018</th>\n",
       "      <th>0001</th>\n",
       "      <td>1164.0</td>\n",
       "      <td>0.844465</td>\n",
       "      <td>0.185415</td>\n",
       "      <td>0.421852</td>\n",
       "      <td>0.722610</td>\n",
       "      <td>0.824165</td>\n",
       "      <td>0.941345</td>\n",
       "      <td>1.882690</td>\n",
       "    </tr>\n",
       "    <tr>\n",
       "      <th>0019</th>\n",
       "      <th>0001</th>\n",
       "      <td>315.0</td>\n",
       "      <td>0.770511</td>\n",
       "      <td>0.129903</td>\n",
       "      <td>0.453094</td>\n",
       "      <td>0.687454</td>\n",
       "      <td>0.757767</td>\n",
       "      <td>0.839790</td>\n",
       "      <td>1.359291</td>\n",
       "    </tr>\n",
       "  </tbody>\n",
       "</table>\n",
       "</div>"
      ],
      "text/plain": [
       "                    duration                                          \\\n",
       "                       count      mean       std       min       25%   \n",
       "subjectId labelerId                                                    \n",
       "0001      0001        1044.0  0.822037  0.202792  0.390602  0.675735   \n",
       "0002      0001        1143.0  0.834582  0.195713  0.414040  0.699173   \n",
       "0003      0001         143.0  0.690269  0.149652  0.460907  0.585900   \n",
       "0004      0001         253.0  0.829708  0.224842  0.492157  0.667923   \n",
       "0005      0001         341.0  0.706104  0.131805  0.425751  0.613243   \n",
       "0006      0001         150.0  0.761306  0.143614  0.492157  0.679642   \n",
       "0007      0001         912.0  0.892692  0.226504  0.425751  0.730423   \n",
       "0008      0001         385.0  0.846882  0.227884  0.441376  0.695267   \n",
       "0009      0001         814.0  0.923970  0.216783  0.468719  0.773392   \n",
       "0010      0001         795.0  0.815081  0.190663  0.402321  0.687454   \n",
       "0011      0001         606.0  0.923982  0.222469  0.503876  0.773384   \n",
       "0012      0001         709.0  0.836528  0.180787  0.437469  0.706985   \n",
       "0013      0001         698.0  0.910960  0.245084  0.437477  0.742142   \n",
       "0014      0001         713.0  0.805534  0.205166  0.406227  0.671829   \n",
       "0015      0001          97.0  0.739281  0.106173  0.519501  0.671829   \n",
       "0016      0001         452.0  0.806943  0.210937  0.335915  0.640587   \n",
       "0017      0001         470.0  0.802766  0.155081  0.437469  0.694296   \n",
       "0018      0001        1164.0  0.844465  0.185415  0.421852  0.722610   \n",
       "0019      0001         315.0  0.770511  0.129903  0.453094  0.687454   \n",
       "\n",
       "                                                   \n",
       "                          50%       75%       max  \n",
       "subjectId labelerId                                \n",
       "0001      0001       0.796822  0.945251  1.839722  \n",
       "0002      0001       0.816353  0.937439  1.820198  \n",
       "0003      0001       0.648399  0.775341  1.160080  \n",
       "0004      0001       0.785103  0.945251  1.675674  \n",
       "0005      0001       0.699173  0.781197  1.195236  \n",
       "0006      0001       0.749954  0.847603  1.480377  \n",
       "0007      0001       0.867134  1.003845  2.042839  \n",
       "0008      0001       0.800728  0.937439  1.925659  \n",
       "0009      0001       0.890568  1.027275  1.882690  \n",
       "0010      0001       0.773392  0.921814  1.847542  \n",
       "0011      0001       0.890564  1.042900  2.015495  \n",
       "0012      0001       0.808548  0.956970  1.495995  \n",
       "0013      0001       0.871036  1.026300  2.117058  \n",
       "0014      0001       0.773392  0.906197  2.218605  \n",
       "0015      0001       0.722610  0.808540  1.011650  \n",
       "0016      0001       0.773384  0.925720  1.679581  \n",
       "0017      0001       0.781200  0.890570  1.644424  \n",
       "0018      0001       0.824165  0.941345  1.882690  \n",
       "0019      0001       0.757767  0.839790  1.359291  "
      ]
     },
     "execution_count": 57,
     "metadata": {},
     "output_type": "execute_result"
    }
   ],
   "source": [
    "usedAnnotations[['subjectId','labelerId','duration']].groupby(['subjectId','labelerId']).describe()"
   ]
  },
  {
   "cell_type": "markdown",
   "metadata": {},
   "source": [
    "## model fitting"
   ]
  },
  {
   "cell_type": "code",
   "execution_count": null,
   "metadata": {},
   "outputs": [],
   "source": [
    "def eval_F1(preds, y):\n",
    "    y = y.get_label()\n",
    "    score=F1(y,preds)\n",
    "    return 'anti-F1', 1-score"
   ]
  },
  {
   "cell_type": "code",
   "execution_count": null,
   "metadata": {},
   "outputs": [
    {
     "data": {
      "text/html": [
       "<div>\n",
       "<style scoped>\n",
       "    .dataframe tbody tr th:only-of-type {\n",
       "        vertical-align: middle;\n",
       "    }\n",
       "\n",
       "    .dataframe tbody tr th {\n",
       "        vertical-align: top;\n",
       "    }\n",
       "\n",
       "    .dataframe thead th {\n",
       "        text-align: right;\n",
       "    }\n",
       "</style>\n",
       "<table border=\"1\" class=\"dataframe\">\n",
       "  <thead>\n",
       "    <tr style=\"text-align: right;\">\n",
       "      <th></th>\n",
       "      <th>subjectId</th>\n",
       "      <th>file</th>\n",
       "      <th>channel</th>\n",
       "      <th>duration</th>\n",
       "      <th>samplerate</th>\n",
       "      <th>isOriginalSamplerate</th>\n",
       "      <th>database</th>\n",
       "    </tr>\n",
       "  </thead>\n",
       "  <tbody>\n",
       "    <tr>\n",
       "      <th>0</th>\n",
       "      <td>0001</td>\n",
       "      <td>MASS_0001.pkl</td>\n",
       "      <td>C3-CLE</td>\n",
       "      <td>28956.0</td>\n",
       "      <td>200</td>\n",
       "      <td>False</td>\n",
       "      <td>MASS</td>\n",
       "    </tr>\n",
       "    <tr>\n",
       "      <th>1</th>\n",
       "      <td>0002</td>\n",
       "      <td>MASS_0002.pkl</td>\n",
       "      <td>C3-CLE</td>\n",
       "      <td>35016.0</td>\n",
       "      <td>200</td>\n",
       "      <td>False</td>\n",
       "      <td>MASS</td>\n",
       "    </tr>\n",
       "    <tr>\n",
       "      <th>2</th>\n",
       "      <td>0003</td>\n",
       "      <td>MASS_0003.pkl</td>\n",
       "      <td>C3-CLE</td>\n",
       "      <td>36760.0</td>\n",
       "      <td>200</td>\n",
       "      <td>False</td>\n",
       "      <td>MASS</td>\n",
       "    </tr>\n",
       "    <tr>\n",
       "      <th>3</th>\n",
       "      <td>0004</td>\n",
       "      <td>MASS_0004.pkl</td>\n",
       "      <td>C3-CLE</td>\n",
       "      <td>28004.0</td>\n",
       "      <td>200</td>\n",
       "      <td>False</td>\n",
       "      <td>MASS</td>\n",
       "    </tr>\n",
       "    <tr>\n",
       "      <th>4</th>\n",
       "      <td>0005</td>\n",
       "      <td>MASS_0005.pkl</td>\n",
       "      <td>C3-CLE</td>\n",
       "      <td>31244.0</td>\n",
       "      <td>200</td>\n",
       "      <td>False</td>\n",
       "      <td>MASS</td>\n",
       "    </tr>\n",
       "    <tr>\n",
       "      <th>5</th>\n",
       "      <td>0006</td>\n",
       "      <td>MASS_0006.pkl</td>\n",
       "      <td>C3-CLE</td>\n",
       "      <td>28990.0</td>\n",
       "      <td>200</td>\n",
       "      <td>False</td>\n",
       "      <td>MASS</td>\n",
       "    </tr>\n",
       "    <tr>\n",
       "      <th>6</th>\n",
       "      <td>0007</td>\n",
       "      <td>MASS_0007.pkl</td>\n",
       "      <td>C3-CLE</td>\n",
       "      <td>28302.0</td>\n",
       "      <td>200</td>\n",
       "      <td>False</td>\n",
       "      <td>MASS</td>\n",
       "    </tr>\n",
       "    <tr>\n",
       "      <th>7</th>\n",
       "      <td>0008</td>\n",
       "      <td>MASS_0008.pkl</td>\n",
       "      <td>C3-CLE</td>\n",
       "      <td>26846.0</td>\n",
       "      <td>200</td>\n",
       "      <td>False</td>\n",
       "      <td>MASS</td>\n",
       "    </tr>\n",
       "    <tr>\n",
       "      <th>8</th>\n",
       "      <td>0009</td>\n",
       "      <td>MASS_0009.pkl</td>\n",
       "      <td>C3-CLE</td>\n",
       "      <td>29834.0</td>\n",
       "      <td>200</td>\n",
       "      <td>False</td>\n",
       "      <td>MASS</td>\n",
       "    </tr>\n",
       "    <tr>\n",
       "      <th>9</th>\n",
       "      <td>0010</td>\n",
       "      <td>MASS_0010.pkl</td>\n",
       "      <td>C3-CLE</td>\n",
       "      <td>25930.0</td>\n",
       "      <td>200</td>\n",
       "      <td>False</td>\n",
       "      <td>MASS</td>\n",
       "    </tr>\n",
       "    <tr>\n",
       "      <th>10</th>\n",
       "      <td>0011</td>\n",
       "      <td>MASS_0011.pkl</td>\n",
       "      <td>C3-CLE</td>\n",
       "      <td>25434.0</td>\n",
       "      <td>200</td>\n",
       "      <td>False</td>\n",
       "      <td>MASS</td>\n",
       "    </tr>\n",
       "    <tr>\n",
       "      <th>11</th>\n",
       "      <td>0012</td>\n",
       "      <td>MASS_0012.pkl</td>\n",
       "      <td>C3-CLE</td>\n",
       "      <td>31530.0</td>\n",
       "      <td>200</td>\n",
       "      <td>False</td>\n",
       "      <td>MASS</td>\n",
       "    </tr>\n",
       "    <tr>\n",
       "      <th>12</th>\n",
       "      <td>0013</td>\n",
       "      <td>MASS_0013.pkl</td>\n",
       "      <td>C3-CLE</td>\n",
       "      <td>36372.0</td>\n",
       "      <td>200</td>\n",
       "      <td>False</td>\n",
       "      <td>MASS</td>\n",
       "    </tr>\n",
       "    <tr>\n",
       "      <th>13</th>\n",
       "      <td>0014</td>\n",
       "      <td>MASS_0014.pkl</td>\n",
       "      <td>C3-CLE</td>\n",
       "      <td>28176.0</td>\n",
       "      <td>200</td>\n",
       "      <td>False</td>\n",
       "      <td>MASS</td>\n",
       "    </tr>\n",
       "    <tr>\n",
       "      <th>14</th>\n",
       "      <td>0015</td>\n",
       "      <td>MASS_0015.pkl</td>\n",
       "      <td>C3-CLE</td>\n",
       "      <td>29114.0</td>\n",
       "      <td>200</td>\n",
       "      <td>False</td>\n",
       "      <td>MASS</td>\n",
       "    </tr>\n",
       "    <tr>\n",
       "      <th>15</th>\n",
       "      <td>0016</td>\n",
       "      <td>MASS_0016.pkl</td>\n",
       "      <td>C3-CLE</td>\n",
       "      <td>28340.0</td>\n",
       "      <td>200</td>\n",
       "      <td>False</td>\n",
       "      <td>MASS</td>\n",
       "    </tr>\n",
       "    <tr>\n",
       "      <th>16</th>\n",
       "      <td>0017</td>\n",
       "      <td>MASS_0017.pkl</td>\n",
       "      <td>C3-CLE</td>\n",
       "      <td>28342.0</td>\n",
       "      <td>200</td>\n",
       "      <td>False</td>\n",
       "      <td>MASS</td>\n",
       "    </tr>\n",
       "    <tr>\n",
       "      <th>17</th>\n",
       "      <td>0018</td>\n",
       "      <td>MASS_0018.pkl</td>\n",
       "      <td>C3-CLE</td>\n",
       "      <td>29554.0</td>\n",
       "      <td>200</td>\n",
       "      <td>False</td>\n",
       "      <td>MASS</td>\n",
       "    </tr>\n",
       "    <tr>\n",
       "      <th>18</th>\n",
       "      <td>0019</td>\n",
       "      <td>MASS_0019.pkl</td>\n",
       "      <td>C3-CLE</td>\n",
       "      <td>26392.0</td>\n",
       "      <td>200</td>\n",
       "      <td>False</td>\n",
       "      <td>MASS</td>\n",
       "    </tr>\n",
       "  </tbody>\n",
       "</table>\n",
       "</div>"
      ],
      "text/plain": [
       "   subjectId           file channel  duration  samplerate  \\\n",
       "0       0001  MASS_0001.pkl  C3-CLE   28956.0         200   \n",
       "1       0002  MASS_0002.pkl  C3-CLE   35016.0         200   \n",
       "2       0003  MASS_0003.pkl  C3-CLE   36760.0         200   \n",
       "3       0004  MASS_0004.pkl  C3-CLE   28004.0         200   \n",
       "4       0005  MASS_0005.pkl  C3-CLE   31244.0         200   \n",
       "5       0006  MASS_0006.pkl  C3-CLE   28990.0         200   \n",
       "6       0007  MASS_0007.pkl  C3-CLE   28302.0         200   \n",
       "7       0008  MASS_0008.pkl  C3-CLE   26846.0         200   \n",
       "8       0009  MASS_0009.pkl  C3-CLE   29834.0         200   \n",
       "9       0010  MASS_0010.pkl  C3-CLE   25930.0         200   \n",
       "10      0011  MASS_0011.pkl  C3-CLE   25434.0         200   \n",
       "11      0012  MASS_0012.pkl  C3-CLE   31530.0         200   \n",
       "12      0013  MASS_0013.pkl  C3-CLE   36372.0         200   \n",
       "13      0014  MASS_0014.pkl  C3-CLE   28176.0         200   \n",
       "14      0015  MASS_0015.pkl  C3-CLE   29114.0         200   \n",
       "15      0016  MASS_0016.pkl  C3-CLE   28340.0         200   \n",
       "16      0017  MASS_0017.pkl  C3-CLE   28342.0         200   \n",
       "17      0018  MASS_0018.pkl  C3-CLE   29554.0         200   \n",
       "18      0019  MASS_0019.pkl  C3-CLE   26392.0         200   \n",
       "\n",
       "    isOriginalSamplerate database  \n",
       "0                  False     MASS  \n",
       "1                  False     MASS  \n",
       "2                  False     MASS  \n",
       "3                  False     MASS  \n",
       "4                  False     MASS  \n",
       "5                  False     MASS  \n",
       "6                  False     MASS  \n",
       "7                  False     MASS  \n",
       "8                  False     MASS  \n",
       "9                  False     MASS  \n",
       "10                 False     MASS  \n",
       "11                 False     MASS  \n",
       "12                 False     MASS  \n",
       "13                 False     MASS  \n",
       "14                 False     MASS  \n",
       "15                 False     MASS  \n",
       "16                 False     MASS  \n",
       "17                 False     MASS  \n",
       "18                 False     MASS  "
      ]
     },
     "execution_count": 59,
     "metadata": {},
     "output_type": "execute_result"
    }
   ],
   "source": [
    "signalsMetadata"
   ]
  },
  {
   "cell_type": "code",
   "execution_count": null,
   "metadata": {},
   "outputs": [],
   "source": [
    "#Features\n",
    "trainFeatures=loadFeatureMatrix(trainSplit,featureSelection,signalsMetadata,samplerate,datapath)\n",
    "valFeatures=loadFeatureMatrix(valSplit,featureSelection,signalsMetadata,samplerate,datapath)\n",
    "#Labels\n",
    "trainLabels=loadLabelsVector(trainSplit,usedAnnotations,signalsMetadata,samplerate)\n",
    "valLabels=loadLabelsVector(valSplit,usedAnnotations,signalsMetadata,samplerate)\n"
   ]
  },
  {
   "cell_type": "code",
   "execution_count": null,
   "metadata": {},
   "outputs": [
    {
     "data": {
      "text/plain": [
       "(95402800, 6)"
      ]
     },
     "execution_count": 61,
     "metadata": {},
     "output_type": "execute_result"
    }
   ],
   "source": [
    "trainFeatures.shape"
   ]
  },
  {
   "cell_type": "code",
   "execution_count": null,
   "metadata": {},
   "outputs": [
    {
     "data": {
      "text/plain": [
       "array(['0002', '0003', '0004', '0005', '0007', '0008', '0009', '0010',\n",
       "       '0011', '0012', '0013', '0015', '0016', '0017', '0018', '0019'],\n",
       "      dtype=object)"
      ]
     },
     "execution_count": 62,
     "metadata": {},
     "output_type": "execute_result"
    }
   ],
   "source": [
    "trainSplit"
   ]
  },
  {
   "cell_type": "code",
   "execution_count": null,
   "metadata": {},
   "outputs": [],
   "source": [
    "aux=np.array([])\n",
    "for trainSample in trainSplit:\n",
    "    aux=np.append(aux,loadFeature(window,trainSample,\"petrosian\",\"broadband\",str(200),datapath+'/MASS/features'))"
   ]
  },
  {
   "cell_type": "code",
   "execution_count": null,
   "metadata": {},
   "outputs": [
    {
     "data": {
      "text/plain": [
       "95402800"
      ]
     },
     "execution_count": 64,
     "metadata": {},
     "output_type": "execute_result"
    }
   ],
   "source": [
    "len(aux)"
   ]
  },
  {
   "cell_type": "code",
   "execution_count": null,
   "metadata": {},
   "outputs": [
    {
     "data": {
      "text/plain": [
       "95402800"
      ]
     },
     "execution_count": 65,
     "metadata": {},
     "output_type": "execute_result"
    }
   ],
   "source": [
    "sum(trainFeatures[:,1]==aux)"
   ]
  },
  {
   "cell_type": "code",
   "execution_count": null,
   "metadata": {},
   "outputs": [],
   "source": [
    "aux=np.array([])\n",
    "for trainSample in trainSplit:\n",
    "    thisDuration=signalsMetadata[signalsMetadata.subjectId==trainSample].duration.iloc[0]\n",
    "    thisLabels=excerptAnnotationsToLabels(usedAnnotations[usedAnnotations.subjectId==trainSample],int(thisDuration*200)) # process all annotations of a given subject\n",
    "    aux=np.append(aux,thisLabels)"
   ]
  },
  {
   "cell_type": "code",
   "execution_count": null,
   "metadata": {},
   "outputs": [
    {
     "data": {
      "text/plain": [
       "95402800"
      ]
     },
     "execution_count": 67,
     "metadata": {},
     "output_type": "execute_result"
    }
   ],
   "source": [
    "len(aux)"
   ]
  },
  {
   "cell_type": "code",
   "execution_count": null,
   "metadata": {},
   "outputs": [
    {
     "data": {
      "text/plain": [
       "95402800"
      ]
     },
     "execution_count": 68,
     "metadata": {},
     "output_type": "execute_result"
    }
   ],
   "source": [
    "len(trainLabels)"
   ]
  },
  {
   "cell_type": "code",
   "execution_count": null,
   "metadata": {},
   "outputs": [
    {
     "data": {
      "text/plain": [
       "95402800"
      ]
     },
     "execution_count": 69,
     "metadata": {},
     "output_type": "execute_result"
    }
   ],
   "source": [
    "sum(trainLabels==aux)"
   ]
  },
  {
   "cell_type": "code",
   "execution_count": null,
   "metadata": {},
   "outputs": [
    {
     "data": {
      "text/html": [
       "<div>\n",
       "<style scoped>\n",
       "    .dataframe tbody tr th:only-of-type {\n",
       "        vertical-align: middle;\n",
       "    }\n",
       "\n",
       "    .dataframe tbody tr th {\n",
       "        vertical-align: top;\n",
       "    }\n",
       "\n",
       "    .dataframe thead th {\n",
       "        text-align: right;\n",
       "    }\n",
       "</style>\n",
       "<table border=\"1\" class=\"dataframe\">\n",
       "  <thead>\n",
       "    <tr style=\"text-align: right;\">\n",
       "      <th></th>\n",
       "      <th>type</th>\n",
       "      <th>expert</th>\n",
       "      <th>subjectId</th>\n",
       "      <th>labelerId</th>\n",
       "      <th>startTime</th>\n",
       "      <th>duration</th>\n",
       "      <th>samplerate</th>\n",
       "      <th>stopTime</th>\n",
       "      <th>startInd</th>\n",
       "      <th>stopInd</th>\n",
       "    </tr>\n",
       "  </thead>\n",
       "  <tbody>\n",
       "    <tr>\n",
       "      <th>409</th>\n",
       "      <td>spindle</td>\n",
       "      <td>E1</td>\n",
       "      <td>0001</td>\n",
       "      <td>0001</td>\n",
       "      <td>888.327805</td>\n",
       "      <td>0.640579</td>\n",
       "      <td>200</td>\n",
       "      <td>888.968384</td>\n",
       "      <td>177666</td>\n",
       "      <td>177794</td>\n",
       "    </tr>\n",
       "    <tr>\n",
       "      <th>410</th>\n",
       "      <td>spindle</td>\n",
       "      <td>E1</td>\n",
       "      <td>0001</td>\n",
       "      <td>0001</td>\n",
       "      <td>905.758061</td>\n",
       "      <td>0.578094</td>\n",
       "      <td>200</td>\n",
       "      <td>906.336155</td>\n",
       "      <td>181152</td>\n",
       "      <td>181267</td>\n",
       "    </tr>\n",
       "    <tr>\n",
       "      <th>411</th>\n",
       "      <td>spindle</td>\n",
       "      <td>E1</td>\n",
       "      <td>0001</td>\n",
       "      <td>0001</td>\n",
       "      <td>917.731574</td>\n",
       "      <td>0.847603</td>\n",
       "      <td>200</td>\n",
       "      <td>918.579177</td>\n",
       "      <td>183546</td>\n",
       "      <td>183716</td>\n",
       "    </tr>\n",
       "    <tr>\n",
       "      <th>412</th>\n",
       "      <td>spindle</td>\n",
       "      <td>E1</td>\n",
       "      <td>0001</td>\n",
       "      <td>0001</td>\n",
       "      <td>922.078189</td>\n",
       "      <td>0.878845</td>\n",
       "      <td>200</td>\n",
       "      <td>922.957034</td>\n",
       "      <td>184416</td>\n",
       "      <td>184591</td>\n",
       "    </tr>\n",
       "    <tr>\n",
       "      <th>413</th>\n",
       "      <td>spindle</td>\n",
       "      <td>E1</td>\n",
       "      <td>0001</td>\n",
       "      <td>0001</td>\n",
       "      <td>939.055445</td>\n",
       "      <td>0.757767</td>\n",
       "      <td>200</td>\n",
       "      <td>939.813212</td>\n",
       "      <td>187811</td>\n",
       "      <td>187963</td>\n",
       "    </tr>\n",
       "    <tr>\n",
       "      <th>414</th>\n",
       "      <td>spindle</td>\n",
       "      <td>E1</td>\n",
       "      <td>0001</td>\n",
       "      <td>0001</td>\n",
       "      <td>949.578805</td>\n",
       "      <td>0.574181</td>\n",
       "      <td>200</td>\n",
       "      <td>950.152986</td>\n",
       "      <td>189916</td>\n",
       "      <td>190031</td>\n",
       "    </tr>\n",
       "    <tr>\n",
       "      <th>415</th>\n",
       "      <td>spindle</td>\n",
       "      <td>E1</td>\n",
       "      <td>0001</td>\n",
       "      <td>0001</td>\n",
       "      <td>968.815806</td>\n",
       "      <td>0.828079</td>\n",
       "      <td>200</td>\n",
       "      <td>969.643885</td>\n",
       "      <td>193763</td>\n",
       "      <td>193929</td>\n",
       "    </tr>\n",
       "    <tr>\n",
       "      <th>416</th>\n",
       "      <td>spindle</td>\n",
       "      <td>E1</td>\n",
       "      <td>0001</td>\n",
       "      <td>0001</td>\n",
       "      <td>978.696447</td>\n",
       "      <td>0.472626</td>\n",
       "      <td>200</td>\n",
       "      <td>979.169073</td>\n",
       "      <td>195739</td>\n",
       "      <td>195834</td>\n",
       "    </tr>\n",
       "    <tr>\n",
       "      <th>417</th>\n",
       "      <td>spindle</td>\n",
       "      <td>E1</td>\n",
       "      <td>0001</td>\n",
       "      <td>0001</td>\n",
       "      <td>981.418318</td>\n",
       "      <td>0.710892</td>\n",
       "      <td>200</td>\n",
       "      <td>982.129210</td>\n",
       "      <td>196284</td>\n",
       "      <td>196426</td>\n",
       "    </tr>\n",
       "    <tr>\n",
       "      <th>418</th>\n",
       "      <td>spindle</td>\n",
       "      <td>E1</td>\n",
       "      <td>0001</td>\n",
       "      <td>0001</td>\n",
       "      <td>993.750830</td>\n",
       "      <td>0.980408</td>\n",
       "      <td>200</td>\n",
       "      <td>994.731238</td>\n",
       "      <td>198750</td>\n",
       "      <td>198946</td>\n",
       "    </tr>\n",
       "  </tbody>\n",
       "</table>\n",
       "</div>"
      ],
      "text/plain": [
       "        type expert subjectId labelerId   startTime  duration  samplerate  \\\n",
       "409  spindle     E1      0001      0001  888.327805  0.640579         200   \n",
       "410  spindle     E1      0001      0001  905.758061  0.578094         200   \n",
       "411  spindle     E1      0001      0001  917.731574  0.847603         200   \n",
       "412  spindle     E1      0001      0001  922.078189  0.878845         200   \n",
       "413  spindle     E1      0001      0001  939.055445  0.757767         200   \n",
       "414  spindle     E1      0001      0001  949.578805  0.574181         200   \n",
       "415  spindle     E1      0001      0001  968.815806  0.828079         200   \n",
       "416  spindle     E1      0001      0001  978.696447  0.472626         200   \n",
       "417  spindle     E1      0001      0001  981.418318  0.710892         200   \n",
       "418  spindle     E1      0001      0001  993.750830  0.980408         200   \n",
       "\n",
       "       stopTime  startInd  stopInd  \n",
       "409  888.968384    177666   177794  \n",
       "410  906.336155    181152   181267  \n",
       "411  918.579177    183546   183716  \n",
       "412  922.957034    184416   184591  \n",
       "413  939.813212    187811   187963  \n",
       "414  950.152986    189916   190031  \n",
       "415  969.643885    193763   193929  \n",
       "416  979.169073    195739   195834  \n",
       "417  982.129210    196284   196426  \n",
       "418  994.731238    198750   198946  "
      ]
     },
     "execution_count": 70,
     "metadata": {},
     "output_type": "execute_result"
    }
   ],
   "source": [
    "usedAnnotations.head(10)"
   ]
  },
  {
   "cell_type": "code",
   "execution_count": 83,
   "metadata": {},
   "outputs": [],
   "source": [
    "#reduce training time\n",
    "reduceIndex=np.arange(len(trainLabels))\n",
    "reduceIndex=np.random.choice(reduceIndex,size=1*10**7,replace=False)\n"
   ]
  },
  {
   "cell_type": "code",
   "execution_count": 84,
   "metadata": {},
   "outputs": [
    {
     "name": "stdout",
     "output_type": "stream",
     "text": [
      "59.59794570100682\n",
      "[0]\tvalidation_0-logloss:0.44906\tvalidation_0-anti-F1:0.96771\n",
      "[1]\tvalidation_0-logloss:0.31398\tvalidation_0-anti-F1:0.95680\n",
      "[2]\tvalidation_0-logloss:0.22872\tvalidation_0-anti-F1:0.94288\n",
      "[3]\tvalidation_0-logloss:0.17188\tvalidation_0-anti-F1:0.92651\n",
      "[4]\tvalidation_0-logloss:0.13252\tvalidation_0-anti-F1:0.90619\n",
      "[5]\tvalidation_0-logloss:0.10488\tvalidation_0-anti-F1:0.88303\n",
      "[6]\tvalidation_0-logloss:0.08499\tvalidation_0-anti-F1:0.85756\n",
      "[7]\tvalidation_0-logloss:0.07064\tvalidation_0-anti-F1:0.83027\n",
      "[8]\tvalidation_0-logloss:0.06032\tvalidation_0-anti-F1:0.80302\n",
      "[9]\tvalidation_0-logloss:0.05273\tvalidation_0-anti-F1:0.77595\n",
      "[10]\tvalidation_0-logloss:0.04717\tvalidation_0-anti-F1:0.75009\n",
      "[11]\tvalidation_0-logloss:0.04314\tvalidation_0-anti-F1:0.72815\n",
      "[12]\tvalidation_0-logloss:0.04014\tvalidation_0-anti-F1:0.70826\n",
      "[13]\tvalidation_0-logloss:0.03797\tvalidation_0-anti-F1:0.69184\n",
      "[14]\tvalidation_0-logloss:0.03635\tvalidation_0-anti-F1:0.67888\n",
      "[15]\tvalidation_0-logloss:0.03512\tvalidation_0-anti-F1:0.66858\n",
      "[16]\tvalidation_0-logloss:0.03425\tvalidation_0-anti-F1:0.65956\n",
      "[17]\tvalidation_0-logloss:0.03366\tvalidation_0-anti-F1:0.65214\n",
      "[18]\tvalidation_0-logloss:0.03318\tvalidation_0-anti-F1:0.64697\n",
      "[19]\tvalidation_0-logloss:0.03276\tvalidation_0-anti-F1:0.64190\n",
      "[20]\tvalidation_0-logloss:0.03249\tvalidation_0-anti-F1:0.63884\n",
      "[21]\tvalidation_0-logloss:0.03232\tvalidation_0-anti-F1:0.63568\n",
      "[22]\tvalidation_0-logloss:0.03217\tvalidation_0-anti-F1:0.63376\n",
      "[23]\tvalidation_0-logloss:0.03206\tvalidation_0-anti-F1:0.63189\n",
      "[24]\tvalidation_0-logloss:0.03187\tvalidation_0-anti-F1:0.62975\n",
      "[25]\tvalidation_0-logloss:0.03182\tvalidation_0-anti-F1:0.62888\n",
      "[26]\tvalidation_0-logloss:0.03174\tvalidation_0-anti-F1:0.62741\n",
      "[27]\tvalidation_0-logloss:0.03170\tvalidation_0-anti-F1:0.62618\n",
      "[28]\tvalidation_0-logloss:0.03165\tvalidation_0-anti-F1:0.62457\n",
      "[29]\tvalidation_0-logloss:0.03161\tvalidation_0-anti-F1:0.62368\n",
      "[30]\tvalidation_0-logloss:0.03158\tvalidation_0-anti-F1:0.62239\n",
      "[31]\tvalidation_0-logloss:0.03157\tvalidation_0-anti-F1:0.62220\n",
      "[32]\tvalidation_0-logloss:0.03159\tvalidation_0-anti-F1:0.62161\n",
      "[33]\tvalidation_0-logloss:0.03155\tvalidation_0-anti-F1:0.62116\n",
      "[34]\tvalidation_0-logloss:0.03152\tvalidation_0-anti-F1:0.62049\n",
      "[35]\tvalidation_0-logloss:0.03149\tvalidation_0-anti-F1:0.61989\n",
      "[36]\tvalidation_0-logloss:0.03143\tvalidation_0-anti-F1:0.61988\n",
      "[37]\tvalidation_0-logloss:0.03142\tvalidation_0-anti-F1:0.61913\n",
      "[38]\tvalidation_0-logloss:0.03140\tvalidation_0-anti-F1:0.61857\n",
      "[39]\tvalidation_0-logloss:0.03142\tvalidation_0-anti-F1:0.61825\n",
      "[40]\tvalidation_0-logloss:0.03138\tvalidation_0-anti-F1:0.61750\n",
      "[41]\tvalidation_0-logloss:0.03136\tvalidation_0-anti-F1:0.61735\n",
      "[42]\tvalidation_0-logloss:0.03135\tvalidation_0-anti-F1:0.61724\n",
      "[43]\tvalidation_0-logloss:0.03135\tvalidation_0-anti-F1:0.61756\n",
      "[44]\tvalidation_0-logloss:0.03134\tvalidation_0-anti-F1:0.61721\n",
      "[45]\tvalidation_0-logloss:0.03127\tvalidation_0-anti-F1:0.61670\n",
      "[46]\tvalidation_0-logloss:0.03127\tvalidation_0-anti-F1:0.61658\n",
      "[47]\tvalidation_0-logloss:0.03127\tvalidation_0-anti-F1:0.61627\n",
      "[48]\tvalidation_0-logloss:0.03130\tvalidation_0-anti-F1:0.61616\n",
      "[49]\tvalidation_0-logloss:0.03131\tvalidation_0-anti-F1:0.61591\n",
      "[50]\tvalidation_0-logloss:0.03131\tvalidation_0-anti-F1:0.61572\n",
      "[51]\tvalidation_0-logloss:0.03131\tvalidation_0-anti-F1:0.61570\n",
      "[52]\tvalidation_0-logloss:0.03133\tvalidation_0-anti-F1:0.61564\n",
      "[53]\tvalidation_0-logloss:0.03132\tvalidation_0-anti-F1:0.61545\n",
      "[54]\tvalidation_0-logloss:0.03134\tvalidation_0-anti-F1:0.61547\n",
      "[55]\tvalidation_0-logloss:0.03133\tvalidation_0-anti-F1:0.61505\n",
      "[56]\tvalidation_0-logloss:0.03133\tvalidation_0-anti-F1:0.61509\n",
      "[57]\tvalidation_0-logloss:0.03135\tvalidation_0-anti-F1:0.61495\n",
      "[58]\tvalidation_0-logloss:0.03134\tvalidation_0-anti-F1:0.61518\n",
      "[59]\tvalidation_0-logloss:0.03129\tvalidation_0-anti-F1:0.61498\n",
      "[60]\tvalidation_0-logloss:0.03129\tvalidation_0-anti-F1:0.61464\n",
      "[61]\tvalidation_0-logloss:0.03129\tvalidation_0-anti-F1:0.61457\n",
      "[62]\tvalidation_0-logloss:0.03128\tvalidation_0-anti-F1:0.61449\n",
      "[63]\tvalidation_0-logloss:0.03129\tvalidation_0-anti-F1:0.61472\n",
      "[64]\tvalidation_0-logloss:0.03131\tvalidation_0-anti-F1:0.61469\n"
     ]
    }
   ],
   "source": [
    "n_jobs=4 # paralelization parameter for xgboost (keep it 8 as maximum)\n",
    "learning_rate=0.6\n",
    "\n",
    "#Train the models\n",
    "print(sum(1-trainLabels)/sum(trainLabels))\n",
    "xgb_model = xgb.XGBClassifier(n_jobs=n_jobs).fit(trainFeatures[reduceIndex,:], trainLabels[reduceIndex], early_stopping_rounds=3, eval_metric=eval_F1,eval_set=[(valFeatures,valLabels)])\n",
    "\n",
    "#val predictions and objective function definition\n",
    "valPredictions=xgb_model.predict(valFeatures, ntree_limit=xgb_model.best_ntree_limit)\n",
    "valF1=F1(valLabels,valPredictions)\n"
   ]
  },
  {
   "cell_type": "code",
   "execution_count": 85,
   "metadata": {},
   "outputs": [
    {
     "data": {
      "text/plain": [
       "0.5420954346009194"
      ]
     },
     "execution_count": 85,
     "metadata": {},
     "output_type": "execute_result"
    }
   ],
   "source": [
    "F1(valLabels,valPredictions)"
   ]
  },
  {
   "cell_type": "code",
   "execution_count": 97,
   "metadata": {},
   "outputs": [
    {
     "name": "stderr",
     "output_type": "stream",
     "text": [
      "c:\\Users\\Gurdiel\\Code\\SpinCo\\venv\\lib\\site-packages\\xgboost\\core.py:122: UserWarning: ntree_limit is deprecated, use `iteration_range` or model slicing instead.\n",
      "  warnings.warn(\n"
     ]
    }
   ],
   "source": [
    "valPredictions=xgb_model.predict(valFeatures, ntree_limit=xgb_model.best_ntree_limit)\n",
    "\n",
    "valPredictions_proba=xgb_model.predict_proba(valFeatures, ntree_limit=xgb_model.best_ntree_limit)\n"
   ]
  },
  {
   "cell_type": "code",
   "execution_count": 107,
   "metadata": {},
   "outputs": [
    {
     "data": {
      "image/png": "[encoded data removed]",
      "text/plain": [
       "<Figure size 640x480 with 1 Axes>"
      ]
     },
     "metadata": {},
     "output_type": "display_data"
    }
   ],
   "source": [
    "plt.plot(valPredictions_proba[:,1])\n",
    "plt.plot(valPredictions/3)\n",
    "plt.plot(valLabels/4)\n",
    "plt.hlines(y=0.5,xmin=0,xmax=len(valPredictions),linestyles=\":\",color=\"black\")\n",
    "plt.show()"
   ]
  },
  {
   "cell_type": "code",
   "execution_count": 110,
   "metadata": {},
   "outputs": [
    {
     "data": {
      "image/png": "[encoded data removed]",
      "text/plain": [
       "<Figure size 640x480 with 1 Axes>"
      ]
     },
     "metadata": {},
     "output_type": "display_data"
    }
   ],
   "source": [
    "thres=0.3\n",
    "plt.plot(valPredictions_proba[:,1])\n",
    "plt.plot((valPredictions_proba[:,1]>thres)/3)\n",
    "plt.plot(valLabels/4)\n",
    "plt.hlines(y=thres,xmin=0,xmax=len(valPredictions),linestyles=\":\",color=\"black\")\n",
    "plt.show()"
   ]
  },
  {
   "cell_type": "code",
   "execution_count": null,
   "metadata": {},
   "outputs": [],
   "source": [
    "4/0"
   ]
  },
  {
   "cell_type": "code",
   "execution_count": null,
   "metadata": {},
   "outputs": [
    {
     "data": {
      "text/plain": [
       "[<matplotlib.lines.Line2D at 0x26941454d30>]"
      ]
     },
     "execution_count": 31,
     "metadata": {},
     "output_type": "execute_result"
    },
    {
     "data": {
      "image/png": "[encoded data removed]",
      "text/plain": [
       "<Figure size 640x480 with 1 Axes>"
      ]
     },
     "metadata": {},
     "output_type": "display_data"
    }
   ],
   "source": [
    "plt.plot(valLabels[int(2*10**6):int(2.2*10**6)])\n",
    "plt.plot(valPredictions[int(2*10**6):int(2.2*10**6)])"
   ]
  },
  {
   "cell_type": "code",
   "execution_count": null,
   "metadata": {},
   "outputs": [
    {
     "data": {
      "text/plain": [
       "[<matplotlib.lines.Line2D at 0x2696430a9b0>]"
      ]
     },
     "execution_count": 32,
     "metadata": {},
     "output_type": "execute_result"
    },
    {
     "data": {
      "image/png": "[encoded data removed]",
      "text/plain": [
       "<Figure size 640x480 with 1 Axes>"
      ]
     },
     "metadata": {},
     "output_type": "display_data"
    }
   ],
   "source": [
    "trainPredictions=xgb_model.predict(trainFeatures)\n",
    "plt.plot(trainPredictions)\n"
   ]
  },
  {
   "cell_type": "code",
   "execution_count": null,
   "metadata": {},
   "outputs": [
    {
     "name": "stdout",
     "output_type": "stream",
     "text": [
      "Number of raw candidates: 2432\n",
      "Number of detections: 467\n"
     ]
    }
   ],
   "source": [
    "valProcessed=labelingProcess(valPredictions,0.3,0.3,200,verbose=1)"
   ]
  },
  {
   "cell_type": "code",
   "execution_count": null,
   "metadata": {},
   "outputs": [
    {
     "data": {
      "text/plain": [
       "[<matplotlib.lines.Line2D at 0x26963fe4190>]"
      ]
     },
     "execution_count": 34,
     "metadata": {},
     "output_type": "execute_result"
    },
    {
     "data": {
      "image/png": "[encoded data removed]",
      "text/plain": [
       "<Figure size 640x480 with 1 Axes>"
      ]
     },
     "metadata": {},
     "output_type": "display_data"
    }
   ],
   "source": [
    "plt.plot(valLabels)\n",
    "plt.plot(valProcessed)"
   ]
  },
  {
   "cell_type": "code",
   "execution_count": null,
   "metadata": {},
   "outputs": [
    {
     "data": {
      "text/plain": [
       "0.33268715593043574"
      ]
     },
     "execution_count": 35,
     "metadata": {},
     "output_type": "execute_result"
    }
   ],
   "source": [
    "F1(valLabels,valProcessed)"
   ]
  },
  {
   "cell_type": "code",
   "execution_count": null,
   "metadata": {},
   "outputs": [
    {
     "name": "stdout",
     "output_type": "stream",
     "text": [
      "Number of raw candidates: 10839\n",
      "Number of detections: 1819\n"
     ]
    }
   ],
   "source": [
    "trainProcessed=labelingProcess(trainPredictions,0.1,0.3,200,verbose=1)"
   ]
  },
  {
   "cell_type": "code",
   "execution_count": null,
   "metadata": {},
   "outputs": [
    {
     "data": {
      "text/plain": [
       "[<matplotlib.lines.Line2D at 0x26963b31b40>]"
      ]
     },
     "execution_count": 37,
     "metadata": {},
     "output_type": "execute_result"
    },
    {
     "data": {
      "image/png": "[encoded data removed]",
      "text/plain": [
       "<Figure size 640x480 with 1 Axes>"
      ]
     },
     "metadata": {},
     "output_type": "display_data"
    }
   ],
   "source": [
    "plt.plot(trainProcessed)"
   ]
  },
  {
   "cell_type": "code",
   "execution_count": null,
   "metadata": {},
   "outputs": [
    {
     "data": {
      "text/plain": [
       "0.1470447948749795"
      ]
     },
     "execution_count": 38,
     "metadata": {},
     "output_type": "execute_result"
    }
   ],
   "source": [
    "F1(trainLabels,trainProcessed)"
   ]
  },
  {
   "cell_type": "code",
   "execution_count": null,
   "metadata": {},
   "outputs": [
    {
     "data": {
      "text/plain": [
       "0.14856440964225395"
      ]
     },
     "execution_count": 39,
     "metadata": {},
     "output_type": "execute_result"
    }
   ],
   "source": [
    "F1(trainLabels,trainPredictions)"
   ]
  },
  {
   "cell_type": "code",
   "execution_count": null,
   "metadata": {},
   "outputs": [
    {
     "data": {
      "text/plain": [
       "0.00363758715677108"
      ]
     },
     "execution_count": 40,
     "metadata": {},
     "output_type": "execute_result"
    }
   ],
   "source": [
    "np.sum(trainPredictions)/len(trainPredictions)"
   ]
  },
  {
   "cell_type": "code",
   "execution_count": null,
   "metadata": {},
   "outputs": [
    {
     "data": {
      "text/plain": [
       "0.016501601630140833"
      ]
     },
     "execution_count": 41,
     "metadata": {},
     "output_type": "execute_result"
    }
   ],
   "source": [
    "np.sum(trainLabels)/len(trainLabels)"
   ]
  },
  {
   "cell_type": "code",
   "execution_count": null,
   "metadata": {},
   "outputs": [
    {
     "name": "stdout",
     "output_type": "stream",
     "text": [
      "number of validation labels\n"
     ]
    },
    {
     "data": {
      "text/plain": [
       "863"
      ]
     },
     "execution_count": 42,
     "metadata": {},
     "output_type": "execute_result"
    }
   ],
   "source": [
    "print(\"number of validation labels\")\n",
    "len(usedAnnotations[usedAnnotations.subjectId.isin(valSplit)])"
   ]
  }
 ],
 "metadata": {
  "kernelspec": {
   "display_name": "Python 3.10.6 ('venv': venv)",
   "language": "python",
   "name": "python3"
  },
  "language_info": {
   "codemirror_mode": {
    "name": "ipython",
    "version": 3
   },
   "file_extension": ".py",
   "mimetype": "text/x-python",
   "name": "python",
   "nbconvert_exporter": "python",
   "pygments_lexer": "ipython3",
   "version": "3.10.6"
  },
  "orig_nbformat": 4,
  "vscode": {
   "interpreter": {
    "hash": "69eb08d3e713eff25484e90b18c01e15df779e80a0db295f9ddc53faed0455be"
   }
  }
 },
 "nbformat": 4,
 "nbformat_minor": 2
}
