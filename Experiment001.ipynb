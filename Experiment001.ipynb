{
 "cells": [
  {
   "cell_type": "code",
   "execution_count": 1,
   "metadata": {},
   "outputs": [],
   "source": [
    "%matplotlib inline"
   ]
  },
  {
   "cell_type": "code",
   "execution_count": 2,
   "metadata": {},
   "outputs": [],
   "source": [
    "import os\n",
    "import pandas as pd\n",
    "import dotenv\n",
    "import scipy.io as sio\n",
    "import numpy as np\n",
    "import matplotlib.pyplot as plt\n",
    "import plotly.express as px\n",
    "import plotly.graph_objects as go\n",
    "import scipy.stats as sta\n",
    "\n",
    "#environment variables\n",
    "dotenv.load_dotenv('spinco.env')\n",
    "\n",
    "#project variables\n",
    "datapath= '\\\\'+os.environ['DATAPATH']\n",
    "testInfo=pd.read_csv(datapath+'\\Pacientes_COGNITION_codigos.csv')\n",
    "patientInfo=pd.read_csv(datapath+'\\Pacientes_COGNITION_testCognitivos.csv')"
   ]
  },
  {
   "cell_type": "markdown",
   "metadata": {},
   "source": [
    "### some useful views of the data"
   ]
  },
  {
   "cell_type": "code",
   "execution_count": 3,
   "metadata": {},
   "outputs": [
    {
     "data": {
      "text/html": [
       "<div>\n",
       "<style scoped>\n",
       "    .dataframe tbody tr th:only-of-type {\n",
       "        vertical-align: middle;\n",
       "    }\n",
       "\n",
       "    .dataframe tbody tr th {\n",
       "        vertical-align: top;\n",
       "    }\n",
       "\n",
       "    .dataframe thead th {\n",
       "        text-align: right;\n",
       "    }\n",
       "</style>\n",
       "<table border=\"1\" class=\"dataframe\">\n",
       "  <thead>\n",
       "    <tr style=\"text-align: right;\">\n",
       "      <th></th>\n",
       "      <th>Codigo</th>\n",
       "      <th>Edad</th>\n",
       "      <th>Peso</th>\n",
       "      <th>Talla</th>\n",
       "      <th>IMC</th>\n",
       "      <th>Fecha_PSG</th>\n",
       "      <th>IAH</th>\n",
       "      <th>Chervin</th>\n",
       "      <th>Chervin_SAHS</th>\n",
       "      <th>BAS-II</th>\n",
       "      <th>PPVT-III</th>\n",
       "      <th>ENFEN - F1</th>\n",
       "      <th>ENFEN - F2</th>\n",
       "      <th>ENFEN - S1</th>\n",
       "      <th>ENFEN - S2</th>\n",
       "      <th>ENFEN - A</th>\n",
       "      <th>ENFEN - I</th>\n",
       "    </tr>\n",
       "  </thead>\n",
       "  <tbody>\n",
       "    <tr>\n",
       "      <th>0</th>\n",
       "      <td>COG001</td>\n",
       "      <td>6.7</td>\n",
       "      <td>28.0</td>\n",
       "      <td>124.0</td>\n",
       "      <td>18.2</td>\n",
       "      <td>28/01/2020</td>\n",
       "      <td>28.4</td>\n",
       "      <td>18.0</td>\n",
       "      <td>1.0</td>\n",
       "      <td>87</td>\n",
       "      <td>100</td>\n",
       "      <td>6</td>\n",
       "      <td>3</td>\n",
       "      <td>4</td>\n",
       "      <td>1</td>\n",
       "      <td>2</td>\n",
       "      <td>5</td>\n",
       "    </tr>\n",
       "    <tr>\n",
       "      <th>1</th>\n",
       "      <td>COG002</td>\n",
       "      <td>7.3</td>\n",
       "      <td>31.0</td>\n",
       "      <td>130.0</td>\n",
       "      <td>18.3</td>\n",
       "      <td>04/02/2020</td>\n",
       "      <td>25.2</td>\n",
       "      <td>6.0</td>\n",
       "      <td>0.0</td>\n",
       "      <td>121</td>\n",
       "      <td>98</td>\n",
       "      <td>5</td>\n",
       "      <td>9</td>\n",
       "      <td>6</td>\n",
       "      <td>8</td>\n",
       "      <td>5</td>\n",
       "      <td>7</td>\n",
       "    </tr>\n",
       "    <tr>\n",
       "      <th>2</th>\n",
       "      <td>COG003</td>\n",
       "      <td>8.7</td>\n",
       "      <td>40.5</td>\n",
       "      <td>132.0</td>\n",
       "      <td>23.2</td>\n",
       "      <td>25/02/2020</td>\n",
       "      <td>3.0</td>\n",
       "      <td>15.0</td>\n",
       "      <td>1.0</td>\n",
       "      <td>87</td>\n",
       "      <td>103</td>\n",
       "      <td>7</td>\n",
       "      <td>3</td>\n",
       "      <td>3</td>\n",
       "      <td>7</td>\n",
       "      <td>6</td>\n",
       "      <td>7</td>\n",
       "    </tr>\n",
       "    <tr>\n",
       "      <th>3</th>\n",
       "      <td>COG004</td>\n",
       "      <td>8.1</td>\n",
       "      <td>36.0</td>\n",
       "      <td>138.0</td>\n",
       "      <td>18.9</td>\n",
       "      <td>26/02/2020</td>\n",
       "      <td>1.6</td>\n",
       "      <td>7.0</td>\n",
       "      <td>0.0</td>\n",
       "      <td>102</td>\n",
       "      <td>108</td>\n",
       "      <td>4</td>\n",
       "      <td>7</td>\n",
       "      <td>5</td>\n",
       "      <td>6</td>\n",
       "      <td>4</td>\n",
       "      <td>4</td>\n",
       "    </tr>\n",
       "    <tr>\n",
       "      <th>4</th>\n",
       "      <td>COG005</td>\n",
       "      <td>9.6</td>\n",
       "      <td>33.8</td>\n",
       "      <td>138.0</td>\n",
       "      <td>17.7</td>\n",
       "      <td>04/03/2020</td>\n",
       "      <td>6.6</td>\n",
       "      <td>5.0</td>\n",
       "      <td>0.0</td>\n",
       "      <td>55</td>\n",
       "      <td>89</td>\n",
       "      <td>1</td>\n",
       "      <td>5</td>\n",
       "      <td>7</td>\n",
       "      <td>5</td>\n",
       "      <td>2</td>\n",
       "      <td>6</td>\n",
       "    </tr>\n",
       "    <tr>\n",
       "      <th>5</th>\n",
       "      <td>COG006</td>\n",
       "      <td>7.6</td>\n",
       "      <td>28.0</td>\n",
       "      <td>125.0</td>\n",
       "      <td>17.9</td>\n",
       "      <td>05/03/2020</td>\n",
       "      <td>10.9</td>\n",
       "      <td>9.0</td>\n",
       "      <td>1.0</td>\n",
       "      <td>109</td>\n",
       "      <td>96</td>\n",
       "      <td>5</td>\n",
       "      <td>8</td>\n",
       "      <td>7</td>\n",
       "      <td>5</td>\n",
       "      <td>4</td>\n",
       "      <td>10</td>\n",
       "    </tr>\n",
       "    <tr>\n",
       "      <th>6</th>\n",
       "      <td>COG007</td>\n",
       "      <td>7.5</td>\n",
       "      <td>32.0</td>\n",
       "      <td>135.0</td>\n",
       "      <td>17.6</td>\n",
       "      <td>10/03/2020</td>\n",
       "      <td>3.0</td>\n",
       "      <td>15.0</td>\n",
       "      <td>1.0</td>\n",
       "      <td>95</td>\n",
       "      <td>101</td>\n",
       "      <td>3</td>\n",
       "      <td>6</td>\n",
       "      <td>3</td>\n",
       "      <td>1</td>\n",
       "      <td>3</td>\n",
       "      <td>7</td>\n",
       "    </tr>\n",
       "    <tr>\n",
       "      <th>7</th>\n",
       "      <td>COG008</td>\n",
       "      <td>6.4</td>\n",
       "      <td>17.0</td>\n",
       "      <td>113.0</td>\n",
       "      <td>13.3</td>\n",
       "      <td>11/03/2020</td>\n",
       "      <td>3.7</td>\n",
       "      <td>11.0</td>\n",
       "      <td>1.0</td>\n",
       "      <td>109</td>\n",
       "      <td>112</td>\n",
       "      <td>6</td>\n",
       "      <td>5</td>\n",
       "      <td>8</td>\n",
       "      <td>5</td>\n",
       "      <td>3</td>\n",
       "      <td>7</td>\n",
       "    </tr>\n",
       "    <tr>\n",
       "      <th>8</th>\n",
       "      <td>COG009</td>\n",
       "      <td>6.6</td>\n",
       "      <td>23.0</td>\n",
       "      <td>127.0</td>\n",
       "      <td>14.3</td>\n",
       "      <td>12/03/2020</td>\n",
       "      <td>27.4</td>\n",
       "      <td>15.0</td>\n",
       "      <td>1.0</td>\n",
       "      <td>98</td>\n",
       "      <td>107</td>\n",
       "      <td>5</td>\n",
       "      <td>5</td>\n",
       "      <td>6</td>\n",
       "      <td>1</td>\n",
       "      <td>5</td>\n",
       "      <td>7</td>\n",
       "    </tr>\n",
       "    <tr>\n",
       "      <th>9</th>\n",
       "      <td>COG010</td>\n",
       "      <td>9.8</td>\n",
       "      <td>55.5</td>\n",
       "      <td>146.0</td>\n",
       "      <td>26.0</td>\n",
       "      <td>23/06/2020</td>\n",
       "      <td>1.0</td>\n",
       "      <td>12.0</td>\n",
       "      <td>1.0</td>\n",
       "      <td>91</td>\n",
       "      <td>102</td>\n",
       "      <td>3</td>\n",
       "      <td>5</td>\n",
       "      <td>3</td>\n",
       "      <td>5</td>\n",
       "      <td>4</td>\n",
       "      <td>2</td>\n",
       "    </tr>\n",
       "    <tr>\n",
       "      <th>10</th>\n",
       "      <td>COG011</td>\n",
       "      <td>7.5</td>\n",
       "      <td>27.0</td>\n",
       "      <td>130.0</td>\n",
       "      <td>16.0</td>\n",
       "      <td>24/06/2020</td>\n",
       "      <td>3.7</td>\n",
       "      <td>5.0</td>\n",
       "      <td>0.0</td>\n",
       "      <td>137</td>\n",
       "      <td>118</td>\n",
       "      <td>4</td>\n",
       "      <td>9</td>\n",
       "      <td>5</td>\n",
       "      <td>6</td>\n",
       "      <td>5</td>\n",
       "      <td>10</td>\n",
       "    </tr>\n",
       "    <tr>\n",
       "      <th>11</th>\n",
       "      <td>COG012</td>\n",
       "      <td>7.0</td>\n",
       "      <td>24.0</td>\n",
       "      <td>122.0</td>\n",
       "      <td>16.1</td>\n",
       "      <td>21/10/2020</td>\n",
       "      <td>4.9</td>\n",
       "      <td>11.0</td>\n",
       "      <td>1.0</td>\n",
       "      <td>92</td>\n",
       "      <td>121</td>\n",
       "      <td>2</td>\n",
       "      <td>3</td>\n",
       "      <td>4</td>\n",
       "      <td>2</td>\n",
       "      <td>1</td>\n",
       "      <td>7</td>\n",
       "    </tr>\n",
       "    <tr>\n",
       "      <th>12</th>\n",
       "      <td>COG013</td>\n",
       "      <td>7.0</td>\n",
       "      <td>20.0</td>\n",
       "      <td>119.0</td>\n",
       "      <td>14.1</td>\n",
       "      <td>04/11/2020</td>\n",
       "      <td>4.3</td>\n",
       "      <td>4.0</td>\n",
       "      <td>0.0</td>\n",
       "      <td>101</td>\n",
       "      <td>109</td>\n",
       "      <td>2</td>\n",
       "      <td>4</td>\n",
       "      <td>4</td>\n",
       "      <td>2</td>\n",
       "      <td>6</td>\n",
       "      <td>9</td>\n",
       "    </tr>\n",
       "    <tr>\n",
       "      <th>13</th>\n",
       "      <td>COG014</td>\n",
       "      <td>7.1</td>\n",
       "      <td>16.3</td>\n",
       "      <td>130.0</td>\n",
       "      <td>9.6</td>\n",
       "      <td>16/12/2020</td>\n",
       "      <td>7.2</td>\n",
       "      <td>14.0</td>\n",
       "      <td>1.0</td>\n",
       "      <td>73</td>\n",
       "      <td>81</td>\n",
       "      <td>2</td>\n",
       "      <td>5</td>\n",
       "      <td>1</td>\n",
       "      <td>1</td>\n",
       "      <td>4</td>\n",
       "      <td>4</td>\n",
       "    </tr>\n",
       "    <tr>\n",
       "      <th>14</th>\n",
       "      <td>COG015</td>\n",
       "      <td>10.4</td>\n",
       "      <td>30.8</td>\n",
       "      <td>132.0</td>\n",
       "      <td>17.7</td>\n",
       "      <td>28/01/2021</td>\n",
       "      <td>2.7</td>\n",
       "      <td>11.0</td>\n",
       "      <td>1.0</td>\n",
       "      <td>133</td>\n",
       "      <td>133</td>\n",
       "      <td>5</td>\n",
       "      <td>6</td>\n",
       "      <td>8</td>\n",
       "      <td>5</td>\n",
       "      <td>6</td>\n",
       "      <td>8</td>\n",
       "    </tr>\n",
       "    <tr>\n",
       "      <th>15</th>\n",
       "      <td>COG016</td>\n",
       "      <td>7.5</td>\n",
       "      <td>NaN</td>\n",
       "      <td>NaN</td>\n",
       "      <td>NaN</td>\n",
       "      <td>10/02/2021</td>\n",
       "      <td>4.0</td>\n",
       "      <td>4.0</td>\n",
       "      <td>0.0</td>\n",
       "      <td>69</td>\n",
       "      <td>105</td>\n",
       "      <td>4</td>\n",
       "      <td>5</td>\n",
       "      <td>4</td>\n",
       "      <td>1</td>\n",
       "      <td>2</td>\n",
       "      <td>5</td>\n",
       "    </tr>\n",
       "    <tr>\n",
       "      <th>16</th>\n",
       "      <td>COG017</td>\n",
       "      <td>7.7</td>\n",
       "      <td>27.2</td>\n",
       "      <td>127.0</td>\n",
       "      <td>16.9</td>\n",
       "      <td>11/03/2021</td>\n",
       "      <td>2.8</td>\n",
       "      <td>7.0</td>\n",
       "      <td>0.0</td>\n",
       "      <td>92</td>\n",
       "      <td>111</td>\n",
       "      <td>6</td>\n",
       "      <td>7</td>\n",
       "      <td>6</td>\n",
       "      <td>3</td>\n",
       "      <td>2</td>\n",
       "      <td>2</td>\n",
       "    </tr>\n",
       "    <tr>\n",
       "      <th>17</th>\n",
       "      <td>COG018</td>\n",
       "      <td>8.3</td>\n",
       "      <td>18.0</td>\n",
       "      <td>110.0</td>\n",
       "      <td>14.9</td>\n",
       "      <td>15/04/2021</td>\n",
       "      <td>1.3</td>\n",
       "      <td>10.0</td>\n",
       "      <td>1.0</td>\n",
       "      <td>80</td>\n",
       "      <td>76</td>\n",
       "      <td>4</td>\n",
       "      <td>1</td>\n",
       "      <td>5</td>\n",
       "      <td>4</td>\n",
       "      <td>4</td>\n",
       "      <td>3</td>\n",
       "    </tr>\n",
       "    <tr>\n",
       "      <th>18</th>\n",
       "      <td>COG019</td>\n",
       "      <td>6.8</td>\n",
       "      <td>25.0</td>\n",
       "      <td>128.0</td>\n",
       "      <td>15.3</td>\n",
       "      <td>03/07/2021</td>\n",
       "      <td>9.0</td>\n",
       "      <td>NaN</td>\n",
       "      <td>NaN</td>\n",
       "      <td>99</td>\n",
       "      <td>107</td>\n",
       "      <td>7</td>\n",
       "      <td>6</td>\n",
       "      <td>7</td>\n",
       "      <td>4</td>\n",
       "      <td>2</td>\n",
       "      <td>7</td>\n",
       "    </tr>\n",
       "  </tbody>\n",
       "</table>\n",
       "</div>"
      ],
      "text/plain": [
       "    Codigo  Edad  Peso  Talla   IMC   Fecha_PSG   IAH  Chervin  Chervin_SAHS  \\\n",
       "0   COG001   6.7  28.0  124.0  18.2  28/01/2020  28.4     18.0           1.0   \n",
       "1   COG002   7.3  31.0  130.0  18.3  04/02/2020  25.2      6.0           0.0   \n",
       "2   COG003   8.7  40.5  132.0  23.2  25/02/2020   3.0     15.0           1.0   \n",
       "3   COG004   8.1  36.0  138.0  18.9  26/02/2020   1.6      7.0           0.0   \n",
       "4   COG005   9.6  33.8  138.0  17.7  04/03/2020   6.6      5.0           0.0   \n",
       "5   COG006   7.6  28.0  125.0  17.9  05/03/2020  10.9      9.0           1.0   \n",
       "6   COG007   7.5  32.0  135.0  17.6  10/03/2020   3.0     15.0           1.0   \n",
       "7   COG008   6.4  17.0  113.0  13.3  11/03/2020   3.7     11.0           1.0   \n",
       "8   COG009   6.6  23.0  127.0  14.3  12/03/2020  27.4     15.0           1.0   \n",
       "9   COG010   9.8  55.5  146.0  26.0  23/06/2020   1.0     12.0           1.0   \n",
       "10  COG011   7.5  27.0  130.0  16.0  24/06/2020   3.7      5.0           0.0   \n",
       "11  COG012   7.0  24.0  122.0  16.1  21/10/2020   4.9     11.0           1.0   \n",
       "12  COG013   7.0  20.0  119.0  14.1  04/11/2020   4.3      4.0           0.0   \n",
       "13  COG014   7.1  16.3  130.0   9.6  16/12/2020   7.2     14.0           1.0   \n",
       "14  COG015  10.4  30.8  132.0  17.7  28/01/2021   2.7     11.0           1.0   \n",
       "15  COG016   7.5   NaN    NaN   NaN  10/02/2021   4.0      4.0           0.0   \n",
       "16  COG017   7.7  27.2  127.0  16.9  11/03/2021   2.8      7.0           0.0   \n",
       "17  COG018   8.3  18.0  110.0  14.9  15/04/2021   1.3     10.0           1.0   \n",
       "18  COG019   6.8  25.0  128.0  15.3  03/07/2021   9.0      NaN           NaN   \n",
       "\n",
       "    BAS-II  PPVT-III  ENFEN - F1  ENFEN - F2  ENFEN - S1  ENFEN - S2  \\\n",
       "0       87       100           6           3           4           1   \n",
       "1      121        98           5           9           6           8   \n",
       "2       87       103           7           3           3           7   \n",
       "3      102       108           4           7           5           6   \n",
       "4       55        89           1           5           7           5   \n",
       "5      109        96           5           8           7           5   \n",
       "6       95       101           3           6           3           1   \n",
       "7      109       112           6           5           8           5   \n",
       "8       98       107           5           5           6           1   \n",
       "9       91       102           3           5           3           5   \n",
       "10     137       118           4           9           5           6   \n",
       "11      92       121           2           3           4           2   \n",
       "12     101       109           2           4           4           2   \n",
       "13      73        81           2           5           1           1   \n",
       "14     133       133           5           6           8           5   \n",
       "15      69       105           4           5           4           1   \n",
       "16      92       111           6           7           6           3   \n",
       "17      80        76           4           1           5           4   \n",
       "18      99       107           7           6           7           4   \n",
       "\n",
       "    ENFEN - A  ENFEN - I  \n",
       "0           2          5  \n",
       "1           5          7  \n",
       "2           6          7  \n",
       "3           4          4  \n",
       "4           2          6  \n",
       "5           4         10  \n",
       "6           3          7  \n",
       "7           3          7  \n",
       "8           5          7  \n",
       "9           4          2  \n",
       "10          5         10  \n",
       "11          1          7  \n",
       "12          6          9  \n",
       "13          4          4  \n",
       "14          6          8  \n",
       "15          2          5  \n",
       "16          2          2  \n",
       "17          4          3  \n",
       "18          2          7  "
      ]
     },
     "execution_count": 3,
     "metadata": {},
     "output_type": "execute_result"
    }
   ],
   "source": [
    "patientInfo"
   ]
  },
  {
   "cell_type": "code",
   "execution_count": 4,
   "metadata": {},
   "outputs": [
    {
     "data": {
      "text/html": [
       "<div>\n",
       "<style scoped>\n",
       "    .dataframe tbody tr th:only-of-type {\n",
       "        vertical-align: middle;\n",
       "    }\n",
       "\n",
       "    .dataframe tbody tr th {\n",
       "        vertical-align: top;\n",
       "    }\n",
       "\n",
       "    .dataframe thead th {\n",
       "        text-align: right;\n",
       "    }\n",
       "</style>\n",
       "<table border=\"1\" class=\"dataframe\">\n",
       "  <thead>\n",
       "    <tr style=\"text-align: right;\">\n",
       "      <th></th>\n",
       "      <th>Edad</th>\n",
       "      <th>Peso</th>\n",
       "      <th>Talla</th>\n",
       "      <th>IMC</th>\n",
       "      <th>IAH</th>\n",
       "      <th>Chervin</th>\n",
       "      <th>Chervin_SAHS</th>\n",
       "      <th>BAS-II</th>\n",
       "      <th>PPVT-III</th>\n",
       "      <th>ENFEN - F1</th>\n",
       "      <th>ENFEN - F2</th>\n",
       "      <th>ENFEN - S1</th>\n",
       "      <th>ENFEN - S2</th>\n",
       "      <th>ENFEN - A</th>\n",
       "      <th>ENFEN - I</th>\n",
       "    </tr>\n",
       "  </thead>\n",
       "  <tbody>\n",
       "    <tr>\n",
       "      <th>count</th>\n",
       "      <td>19.000000</td>\n",
       "      <td>18.000000</td>\n",
       "      <td>18.000000</td>\n",
       "      <td>18.000000</td>\n",
       "      <td>19.000000</td>\n",
       "      <td>18.000000</td>\n",
       "      <td>18.000000</td>\n",
       "      <td>19.000000</td>\n",
       "      <td>19.000000</td>\n",
       "      <td>19.000000</td>\n",
       "      <td>19.000000</td>\n",
       "      <td>19.000000</td>\n",
       "      <td>19.000000</td>\n",
       "      <td>19.000000</td>\n",
       "      <td>19.000000</td>\n",
       "    </tr>\n",
       "    <tr>\n",
       "      <th>mean</th>\n",
       "      <td>7.768421</td>\n",
       "      <td>28.505556</td>\n",
       "      <td>128.111111</td>\n",
       "      <td>17.000000</td>\n",
       "      <td>7.931579</td>\n",
       "      <td>9.944444</td>\n",
       "      <td>0.611111</td>\n",
       "      <td>96.315789</td>\n",
       "      <td>104.052632</td>\n",
       "      <td>4.263158</td>\n",
       "      <td>5.368421</td>\n",
       "      <td>5.052632</td>\n",
       "      <td>3.789474</td>\n",
       "      <td>3.684211</td>\n",
       "      <td>6.157895</td>\n",
       "    </tr>\n",
       "    <tr>\n",
       "      <th>std</th>\n",
       "      <td>1.132378</td>\n",
       "      <td>9.430581</td>\n",
       "      <td>8.777571</td>\n",
       "      <td>3.610442</td>\n",
       "      <td>8.871117</td>\n",
       "      <td>4.331448</td>\n",
       "      <td>0.501631</td>\n",
       "      <td>20.412558</td>\n",
       "      <td>13.264295</td>\n",
       "      <td>1.758854</td>\n",
       "      <td>2.087277</td>\n",
       "      <td>1.899523</td>\n",
       "      <td>2.250406</td>\n",
       "      <td>1.565341</td>\n",
       "      <td>2.386610</td>\n",
       "    </tr>\n",
       "    <tr>\n",
       "      <th>min</th>\n",
       "      <td>6.400000</td>\n",
       "      <td>16.300000</td>\n",
       "      <td>110.000000</td>\n",
       "      <td>9.600000</td>\n",
       "      <td>1.000000</td>\n",
       "      <td>4.000000</td>\n",
       "      <td>0.000000</td>\n",
       "      <td>55.000000</td>\n",
       "      <td>76.000000</td>\n",
       "      <td>1.000000</td>\n",
       "      <td>1.000000</td>\n",
       "      <td>1.000000</td>\n",
       "      <td>1.000000</td>\n",
       "      <td>1.000000</td>\n",
       "      <td>2.000000</td>\n",
       "    </tr>\n",
       "    <tr>\n",
       "      <th>25%</th>\n",
       "      <td>7.000000</td>\n",
       "      <td>23.250000</td>\n",
       "      <td>124.250000</td>\n",
       "      <td>15.000000</td>\n",
       "      <td>2.900000</td>\n",
       "      <td>6.250000</td>\n",
       "      <td>0.000000</td>\n",
       "      <td>87.000000</td>\n",
       "      <td>99.000000</td>\n",
       "      <td>3.000000</td>\n",
       "      <td>4.500000</td>\n",
       "      <td>4.000000</td>\n",
       "      <td>1.500000</td>\n",
       "      <td>2.000000</td>\n",
       "      <td>4.500000</td>\n",
       "    </tr>\n",
       "    <tr>\n",
       "      <th>50%</th>\n",
       "      <td>7.500000</td>\n",
       "      <td>27.600000</td>\n",
       "      <td>129.000000</td>\n",
       "      <td>17.250000</td>\n",
       "      <td>4.000000</td>\n",
       "      <td>10.500000</td>\n",
       "      <td>1.000000</td>\n",
       "      <td>95.000000</td>\n",
       "      <td>105.000000</td>\n",
       "      <td>4.000000</td>\n",
       "      <td>5.000000</td>\n",
       "      <td>5.000000</td>\n",
       "      <td>4.000000</td>\n",
       "      <td>4.000000</td>\n",
       "      <td>7.000000</td>\n",
       "    </tr>\n",
       "    <tr>\n",
       "      <th>75%</th>\n",
       "      <td>8.200000</td>\n",
       "      <td>31.750000</td>\n",
       "      <td>132.000000</td>\n",
       "      <td>18.125000</td>\n",
       "      <td>8.100000</td>\n",
       "      <td>13.500000</td>\n",
       "      <td>1.000000</td>\n",
       "      <td>105.500000</td>\n",
       "      <td>110.000000</td>\n",
       "      <td>5.500000</td>\n",
       "      <td>6.500000</td>\n",
       "      <td>6.500000</td>\n",
       "      <td>5.000000</td>\n",
       "      <td>5.000000</td>\n",
       "      <td>7.000000</td>\n",
       "    </tr>\n",
       "    <tr>\n",
       "      <th>max</th>\n",
       "      <td>10.400000</td>\n",
       "      <td>55.500000</td>\n",
       "      <td>146.000000</td>\n",
       "      <td>26.000000</td>\n",
       "      <td>28.400000</td>\n",
       "      <td>18.000000</td>\n",
       "      <td>1.000000</td>\n",
       "      <td>137.000000</td>\n",
       "      <td>133.000000</td>\n",
       "      <td>7.000000</td>\n",
       "      <td>9.000000</td>\n",
       "      <td>8.000000</td>\n",
       "      <td>8.000000</td>\n",
       "      <td>6.000000</td>\n",
       "      <td>10.000000</td>\n",
       "    </tr>\n",
       "  </tbody>\n",
       "</table>\n",
       "</div>"
      ],
      "text/plain": [
       "            Edad       Peso       Talla        IMC        IAH    Chervin  \\\n",
       "count  19.000000  18.000000   18.000000  18.000000  19.000000  18.000000   \n",
       "mean    7.768421  28.505556  128.111111  17.000000   7.931579   9.944444   \n",
       "std     1.132378   9.430581    8.777571   3.610442   8.871117   4.331448   \n",
       "min     6.400000  16.300000  110.000000   9.600000   1.000000   4.000000   \n",
       "25%     7.000000  23.250000  124.250000  15.000000   2.900000   6.250000   \n",
       "50%     7.500000  27.600000  129.000000  17.250000   4.000000  10.500000   \n",
       "75%     8.200000  31.750000  132.000000  18.125000   8.100000  13.500000   \n",
       "max    10.400000  55.500000  146.000000  26.000000  28.400000  18.000000   \n",
       "\n",
       "       Chervin_SAHS      BAS-II    PPVT-III  ENFEN - F1  ENFEN - F2  \\\n",
       "count     18.000000   19.000000   19.000000   19.000000   19.000000   \n",
       "mean       0.611111   96.315789  104.052632    4.263158    5.368421   \n",
       "std        0.501631   20.412558   13.264295    1.758854    2.087277   \n",
       "min        0.000000   55.000000   76.000000    1.000000    1.000000   \n",
       "25%        0.000000   87.000000   99.000000    3.000000    4.500000   \n",
       "50%        1.000000   95.000000  105.000000    4.000000    5.000000   \n",
       "75%        1.000000  105.500000  110.000000    5.500000    6.500000   \n",
       "max        1.000000  137.000000  133.000000    7.000000    9.000000   \n",
       "\n",
       "       ENFEN - S1  ENFEN - S2  ENFEN - A  ENFEN - I  \n",
       "count   19.000000   19.000000  19.000000  19.000000  \n",
       "mean     5.052632    3.789474   3.684211   6.157895  \n",
       "std      1.899523    2.250406   1.565341   2.386610  \n",
       "min      1.000000    1.000000   1.000000   2.000000  \n",
       "25%      4.000000    1.500000   2.000000   4.500000  \n",
       "50%      5.000000    4.000000   4.000000   7.000000  \n",
       "75%      6.500000    5.000000   5.000000   7.000000  \n",
       "max      8.000000    8.000000   6.000000  10.000000  "
      ]
     },
     "execution_count": 4,
     "metadata": {},
     "output_type": "execute_result"
    }
   ],
   "source": [
    "patientInfo.describe()"
   ]
  },
  {
   "cell_type": "code",
   "execution_count": 5,
   "metadata": {},
   "outputs": [
    {
     "data": {
      "text/html": [
       "<div>\n",
       "<style scoped>\n",
       "    .dataframe tbody tr th:only-of-type {\n",
       "        vertical-align: middle;\n",
       "    }\n",
       "\n",
       "    .dataframe tbody tr th {\n",
       "        vertical-align: top;\n",
       "    }\n",
       "\n",
       "    .dataframe thead th {\n",
       "        text-align: right;\n",
       "    }\n",
       "</style>\n",
       "<table border=\"1\" class=\"dataframe\">\n",
       "  <thead>\n",
       "    <tr style=\"text-align: right;\">\n",
       "      <th></th>\n",
       "      <th>Código</th>\n",
       "      <th>Descripcion</th>\n",
       "    </tr>\n",
       "  </thead>\n",
       "  <tbody>\n",
       "    <tr>\n",
       "      <th>0</th>\n",
       "      <td>F1</td>\n",
       "      <td>Fluidez fonológica</td>\n",
       "    </tr>\n",
       "    <tr>\n",
       "      <th>1</th>\n",
       "      <td>F2</td>\n",
       "      <td>Fluidez semántica</td>\n",
       "    </tr>\n",
       "    <tr>\n",
       "      <th>2</th>\n",
       "      <td>S1</td>\n",
       "      <td>Sendero gris</td>\n",
       "    </tr>\n",
       "    <tr>\n",
       "      <th>3</th>\n",
       "      <td>S2</td>\n",
       "      <td>Sendero a color</td>\n",
       "    </tr>\n",
       "    <tr>\n",
       "      <th>4</th>\n",
       "      <td>A</td>\n",
       "      <td>Anillas</td>\n",
       "    </tr>\n",
       "    <tr>\n",
       "      <th>5</th>\n",
       "      <td>I</td>\n",
       "      <td>Interferencia</td>\n",
       "    </tr>\n",
       "  </tbody>\n",
       "</table>\n",
       "</div>"
      ],
      "text/plain": [
       "  Código          Descripcion\n",
       "0     F1  Fluidez fonológica \n",
       "1     F2   Fluidez semántica \n",
       "2     S1        Sendero gris \n",
       "3     S2     Sendero a color \n",
       "4      A             Anillas \n",
       "5      I       Interferencia "
      ]
     },
     "execution_count": 5,
     "metadata": {},
     "output_type": "execute_result"
    }
   ],
   "source": [
    "testInfo"
   ]
  },
  {
   "cell_type": "markdown",
   "metadata": {},
   "source": [
    "### load C3 channels in a dictionary"
   ]
  },
  {
   "cell_type": "code",
   "execution_count": 6,
   "metadata": {},
   "outputs": [],
   "source": [
    "samplerate=500\n",
    "signalpaths=os.listdir(datapath+'\\\\Archivos canales')\n",
    "signalpaths=[a for a in signalpaths if a.endswith(\".mat\") ]\n",
    "signalpaths=[datapath+'\\\\Archivos canales\\\\'+a for a in signalpaths]"
   ]
  },
  {
   "cell_type": "code",
   "execution_count": 7,
   "metadata": {},
   "outputs": [],
   "source": [
    "signals=dict()"
   ]
  },
  {
   "cell_type": "code",
   "execution_count": 8,
   "metadata": {},
   "outputs": [
    {
     "data": {
      "text/plain": [
       "\" #this is not needed at this point but is the data structure I want to follow\\n#in the case of multiple channels each object would be a dictionary with the channel names\\nfor i in range(len(signalpaths)):\\n    key=signalpaths[i][-19:-13]\\n    signals[key]=sio.loadmat(signalpaths[i])['C3_analogico'].flatten() \""
      ]
     },
     "execution_count": 8,
     "metadata": {},
     "output_type": "execute_result"
    }
   ],
   "source": [
    "\"\"\" #this is not needed at this point but is the data structure I want to follow\n",
    "#in the case of multiple channels each object would be a dictionary with the channel names\n",
    "for i in range(len(signalpaths)):\n",
    "    key=signalpaths[i][-19:-13]\n",
    "    signals[key]=sio.loadmat(signalpaths[i])['C3_analogico'].flatten() \"\"\""
   ]
  },
  {
   "cell_type": "code",
   "execution_count": 9,
   "metadata": {},
   "outputs": [
    {
     "data": {
      "text/plain": [
       "' print(signals.keys()) '"
      ]
     },
     "execution_count": 9,
     "metadata": {},
     "output_type": "execute_result"
    }
   ],
   "source": [
    "\"\"\" print(signals.keys()) \"\"\""
   ]
  },
  {
   "cell_type": "code",
   "execution_count": 10,
   "metadata": {},
   "outputs": [
    {
     "data": {
      "text/plain": [
       "\" timepoints=np.linspace(0,len(signals[key])/samplerate,len(signals[key]))\\nfor signal in signals.values():\\n   plt.plot(timepoints,signal)\\nplt.legend(signals.keys(),loc='upper right')\\nplt.show() \""
      ]
     },
     "execution_count": 10,
     "metadata": {},
     "output_type": "execute_result"
    }
   ],
   "source": [
    "\"\"\" timepoints=np.linspace(0,len(signals[key])/samplerate,len(signals[key]))\n",
    "for signal in signals.values():\n",
    "   plt.plot(timepoints,signal)\n",
    "plt.legend(signals.keys(),loc='upper right')\n",
    "plt.show() \"\"\""
   ]
  },
  {
   "cell_type": "markdown",
   "metadata": {},
   "source": [
    "### load spindles annotations\n",
    "this is what we actually need"
   ]
  },
  {
   "cell_type": "code",
   "execution_count": 11,
   "metadata": {},
   "outputs": [],
   "source": [
    "annopaths=os.listdir(datapath+'\\\\Labels')\n",
    "annopaths=[a for a in annopaths if a.endswith(\".csv\") ]\n",
    "annopaths=[datapath+'\\\\Labels\\\\'+a for a in annopaths]"
   ]
  },
  {
   "cell_type": "code",
   "execution_count": 12,
   "metadata": {},
   "outputs": [
    {
     "data": {
      "text/plain": [
       "['\\\\\\\\10.0.106.125\\\\gib\\\\Usuarios\\\\Enrique\\\\DB Labeled COGNITION\\\\Labels\\\\COG001_spindle_c3.csv',\n",
       " '\\\\\\\\10.0.106.125\\\\gib\\\\Usuarios\\\\Enrique\\\\DB Labeled COGNITION\\\\Labels\\\\COG002_spindle_c3.csv',\n",
       " '\\\\\\\\10.0.106.125\\\\gib\\\\Usuarios\\\\Enrique\\\\DB Labeled COGNITION\\\\Labels\\\\COG003_spindle_c3.csv',\n",
       " '\\\\\\\\10.0.106.125\\\\gib\\\\Usuarios\\\\Enrique\\\\DB Labeled COGNITION\\\\Labels\\\\COG004_spindle_c3.csv',\n",
       " '\\\\\\\\10.0.106.125\\\\gib\\\\Usuarios\\\\Enrique\\\\DB Labeled COGNITION\\\\Labels\\\\COG005_spindle_c3.csv',\n",
       " '\\\\\\\\10.0.106.125\\\\gib\\\\Usuarios\\\\Enrique\\\\DB Labeled COGNITION\\\\Labels\\\\COG006_spindle_c3.csv',\n",
       " '\\\\\\\\10.0.106.125\\\\gib\\\\Usuarios\\\\Enrique\\\\DB Labeled COGNITION\\\\Labels\\\\COG007_spindle_c3.csv',\n",
       " '\\\\\\\\10.0.106.125\\\\gib\\\\Usuarios\\\\Enrique\\\\DB Labeled COGNITION\\\\Labels\\\\COG008_spindle_c3.csv',\n",
       " '\\\\\\\\10.0.106.125\\\\gib\\\\Usuarios\\\\Enrique\\\\DB Labeled COGNITION\\\\Labels\\\\COG009_spindle_c3.csv']"
      ]
     },
     "execution_count": 12,
     "metadata": {},
     "output_type": "execute_result"
    }
   ],
   "source": [
    "annopaths"
   ]
  },
  {
   "cell_type": "markdown",
   "metadata": {},
   "source": [
    "read one"
   ]
  },
  {
   "cell_type": "code",
   "execution_count": 13,
   "metadata": {},
   "outputs": [],
   "source": [
    "annotations=pd.read_csv(annopaths[0])\n",
    "annotations['Codigo']='COG001'"
   ]
  },
  {
   "cell_type": "code",
   "execution_count": 14,
   "metadata": {},
   "outputs": [
    {
     "data": {
      "text/html": [
       "<div>\n",
       "<style scoped>\n",
       "    .dataframe tbody tr th:only-of-type {\n",
       "        vertical-align: middle;\n",
       "    }\n",
       "\n",
       "    .dataframe tbody tr th {\n",
       "        vertical-align: top;\n",
       "    }\n",
       "\n",
       "    .dataframe thead th {\n",
       "        text-align: right;\n",
       "    }\n",
       "</style>\n",
       "<table border=\"1\" class=\"dataframe\">\n",
       "  <thead>\n",
       "    <tr style=\"text-align: right;\">\n",
       "      <th></th>\n",
       "      <th>Canal</th>\n",
       "      <th>Inicio</th>\n",
       "      <th>Fin</th>\n",
       "      <th>Duracion</th>\n",
       "      <th>Fase</th>\n",
       "      <th>Codigo</th>\n",
       "    </tr>\n",
       "  </thead>\n",
       "  <tbody>\n",
       "    <tr>\n",
       "      <th>0</th>\n",
       "      <td>C3</td>\n",
       "      <td>1938.132297</td>\n",
       "      <td>1939.202326</td>\n",
       "      <td>1.070029</td>\n",
       "      <td>2</td>\n",
       "      <td>COG001</td>\n",
       "    </tr>\n",
       "    <tr>\n",
       "      <th>1</th>\n",
       "      <td>C3</td>\n",
       "      <td>2047.217898</td>\n",
       "      <td>2048.112834</td>\n",
       "      <td>0.894936</td>\n",
       "      <td>2</td>\n",
       "      <td>COG001</td>\n",
       "    </tr>\n",
       "    <tr>\n",
       "      <th>2</th>\n",
       "      <td>C3</td>\n",
       "      <td>2170.856032</td>\n",
       "      <td>2171.634237</td>\n",
       "      <td>0.778205</td>\n",
       "      <td>3</td>\n",
       "      <td>COG001</td>\n",
       "    </tr>\n",
       "    <tr>\n",
       "      <th>3</th>\n",
       "      <td>C3</td>\n",
       "      <td>2219.766538</td>\n",
       "      <td>2220.894943</td>\n",
       "      <td>1.128405</td>\n",
       "      <td>3</td>\n",
       "      <td>COG001</td>\n",
       "    </tr>\n",
       "    <tr>\n",
       "      <th>4</th>\n",
       "      <td>C3</td>\n",
       "      <td>2263.482492</td>\n",
       "      <td>2264.357974</td>\n",
       "      <td>0.875482</td>\n",
       "      <td>3</td>\n",
       "      <td>COG001</td>\n",
       "    </tr>\n",
       "    <tr>\n",
       "      <th>...</th>\n",
       "      <td>...</td>\n",
       "      <td>...</td>\n",
       "      <td>...</td>\n",
       "      <td>...</td>\n",
       "      <td>...</td>\n",
       "      <td>...</td>\n",
       "    </tr>\n",
       "    <tr>\n",
       "      <th>209</th>\n",
       "      <td>C3</td>\n",
       "      <td>36247.743185</td>\n",
       "      <td>36248.618671</td>\n",
       "      <td>0.875486</td>\n",
       "      <td>3</td>\n",
       "      <td>COG001</td>\n",
       "    </tr>\n",
       "    <tr>\n",
       "      <th>210</th>\n",
       "      <td>C3</td>\n",
       "      <td>36289.066139</td>\n",
       "      <td>36289.883251</td>\n",
       "      <td>0.817112</td>\n",
       "      <td>3</td>\n",
       "      <td>COG001</td>\n",
       "    </tr>\n",
       "    <tr>\n",
       "      <th>211</th>\n",
       "      <td>C3</td>\n",
       "      <td>36376.147851</td>\n",
       "      <td>36377.062241</td>\n",
       "      <td>0.914390</td>\n",
       "      <td>3</td>\n",
       "      <td>COG001</td>\n",
       "    </tr>\n",
       "    <tr>\n",
       "      <th>212</th>\n",
       "      <td>C3</td>\n",
       "      <td>36481.906609</td>\n",
       "      <td>36483.035009</td>\n",
       "      <td>1.128400</td>\n",
       "      <td>3</td>\n",
       "      <td>COG001</td>\n",
       "    </tr>\n",
       "    <tr>\n",
       "      <th>213</th>\n",
       "      <td>C3</td>\n",
       "      <td>36866.984430</td>\n",
       "      <td>36868.112833</td>\n",
       "      <td>1.128403</td>\n",
       "      <td>3</td>\n",
       "      <td>COG001</td>\n",
       "    </tr>\n",
       "  </tbody>\n",
       "</table>\n",
       "<p>214 rows × 6 columns</p>\n",
       "</div>"
      ],
      "text/plain": [
       "    Canal        Inicio           Fin  Duracion  Fase  Codigo\n",
       "0      C3   1938.132297   1939.202326  1.070029     2  COG001\n",
       "1      C3   2047.217898   2048.112834  0.894936     2  COG001\n",
       "2      C3   2170.856032   2171.634237  0.778205     3  COG001\n",
       "3      C3   2219.766538   2220.894943  1.128405     3  COG001\n",
       "4      C3   2263.482492   2264.357974  0.875482     3  COG001\n",
       "..    ...           ...           ...       ...   ...     ...\n",
       "209    C3  36247.743185  36248.618671  0.875486     3  COG001\n",
       "210    C3  36289.066139  36289.883251  0.817112     3  COG001\n",
       "211    C3  36376.147851  36377.062241  0.914390     3  COG001\n",
       "212    C3  36481.906609  36483.035009  1.128400     3  COG001\n",
       "213    C3  36866.984430  36868.112833  1.128403     3  COG001\n",
       "\n",
       "[214 rows x 6 columns]"
      ]
     },
     "execution_count": 14,
     "metadata": {},
     "output_type": "execute_result"
    }
   ],
   "source": [
    "annotations"
   ]
  },
  {
   "cell_type": "markdown",
   "metadata": {},
   "source": [
    "iterate over all"
   ]
  },
  {
   "cell_type": "code",
   "execution_count": 15,
   "metadata": {},
   "outputs": [],
   "source": [
    "annotations=pd.DataFrame(columns=annotations.columns)\n",
    "for i in range(len(annopaths)):\n",
    "    aux=pd.read_csv(annopaths[i])\n",
    "    aux['Codigo'] = 'COG00'+str(i+1)\n",
    "    annotations=pd.concat([annotations,aux])"
   ]
  },
  {
   "cell_type": "code",
   "execution_count": 16,
   "metadata": {},
   "outputs": [
    {
     "data": {
      "text/plain": [
       "Index(['Canal', 'Inicio', 'Fin', 'Duracion', 'Fase', 'Codigo'], dtype='object')"
      ]
     },
     "execution_count": 16,
     "metadata": {},
     "output_type": "execute_result"
    }
   ],
   "source": [
    "annotations.columns"
   ]
  },
  {
   "cell_type": "code",
   "execution_count": 17,
   "metadata": {},
   "outputs": [
    {
     "data": {
      "text/html": [
       "<div>\n",
       "<style scoped>\n",
       "    .dataframe tbody tr th:only-of-type {\n",
       "        vertical-align: middle;\n",
       "    }\n",
       "\n",
       "    .dataframe tbody tr th {\n",
       "        vertical-align: top;\n",
       "    }\n",
       "\n",
       "    .dataframe thead th {\n",
       "        text-align: right;\n",
       "    }\n",
       "</style>\n",
       "<table border=\"1\" class=\"dataframe\">\n",
       "  <thead>\n",
       "    <tr style=\"text-align: right;\">\n",
       "      <th></th>\n",
       "      <th>count</th>\n",
       "      <th>mean</th>\n",
       "      <th>std</th>\n",
       "      <th>min</th>\n",
       "      <th>25%</th>\n",
       "      <th>50%</th>\n",
       "      <th>75%</th>\n",
       "      <th>max</th>\n",
       "    </tr>\n",
       "    <tr>\n",
       "      <th>Codigo</th>\n",
       "      <th></th>\n",
       "      <th></th>\n",
       "      <th></th>\n",
       "      <th></th>\n",
       "      <th></th>\n",
       "      <th></th>\n",
       "      <th></th>\n",
       "      <th></th>\n",
       "    </tr>\n",
       "  </thead>\n",
       "  <tbody>\n",
       "    <tr>\n",
       "      <th>COG001</th>\n",
       "      <td>214.0</td>\n",
       "      <td>1.090127</td>\n",
       "      <td>0.293535</td>\n",
       "      <td>0.564196</td>\n",
       "      <td>0.914391</td>\n",
       "      <td>1.031127</td>\n",
       "      <td>1.206218</td>\n",
       "      <td>2.412450</td>\n",
       "    </tr>\n",
       "    <tr>\n",
       "      <th>COG002</th>\n",
       "      <td>240.0</td>\n",
       "      <td>1.075386</td>\n",
       "      <td>0.407359</td>\n",
       "      <td>0.525285</td>\n",
       "      <td>0.778205</td>\n",
       "      <td>0.992220</td>\n",
       "      <td>1.269453</td>\n",
       "      <td>2.684830</td>\n",
       "    </tr>\n",
       "    <tr>\n",
       "      <th>COG003</th>\n",
       "      <td>849.0</td>\n",
       "      <td>1.197951</td>\n",
       "      <td>0.372185</td>\n",
       "      <td>0.564196</td>\n",
       "      <td>0.914395</td>\n",
       "      <td>1.147861</td>\n",
       "      <td>1.420231</td>\n",
       "      <td>2.957205</td>\n",
       "    </tr>\n",
       "    <tr>\n",
       "      <th>COG004</th>\n",
       "      <td>419.0</td>\n",
       "      <td>1.089027</td>\n",
       "      <td>0.365776</td>\n",
       "      <td>0.505830</td>\n",
       "      <td>0.817117</td>\n",
       "      <td>1.011669</td>\n",
       "      <td>1.303499</td>\n",
       "      <td>2.879367</td>\n",
       "    </tr>\n",
       "    <tr>\n",
       "      <th>COG005</th>\n",
       "      <td>316.0</td>\n",
       "      <td>0.966787</td>\n",
       "      <td>0.325363</td>\n",
       "      <td>0.505831</td>\n",
       "      <td>0.739296</td>\n",
       "      <td>0.894938</td>\n",
       "      <td>1.128402</td>\n",
       "      <td>2.354084</td>\n",
       "    </tr>\n",
       "    <tr>\n",
       "      <th>COG006</th>\n",
       "      <td>226.0</td>\n",
       "      <td>0.846988</td>\n",
       "      <td>0.236961</td>\n",
       "      <td>0.505830</td>\n",
       "      <td>0.661475</td>\n",
       "      <td>0.797663</td>\n",
       "      <td>0.992216</td>\n",
       "      <td>1.906614</td>\n",
       "    </tr>\n",
       "    <tr>\n",
       "      <th>COG007</th>\n",
       "      <td>372.0</td>\n",
       "      <td>0.875535</td>\n",
       "      <td>0.252842</td>\n",
       "      <td>0.505830</td>\n",
       "      <td>0.695522</td>\n",
       "      <td>0.836571</td>\n",
       "      <td>1.031121</td>\n",
       "      <td>2.256809</td>\n",
       "    </tr>\n",
       "    <tr>\n",
       "      <th>COG008</th>\n",
       "      <td>47.0</td>\n",
       "      <td>0.788554</td>\n",
       "      <td>0.225206</td>\n",
       "      <td>0.486379</td>\n",
       "      <td>0.622564</td>\n",
       "      <td>0.758750</td>\n",
       "      <td>0.885208</td>\n",
       "      <td>1.575874</td>\n",
       "    </tr>\n",
       "    <tr>\n",
       "      <th>COG009</th>\n",
       "      <td>102.0</td>\n",
       "      <td>0.818261</td>\n",
       "      <td>0.248860</td>\n",
       "      <td>0.525289</td>\n",
       "      <td>0.646883</td>\n",
       "      <td>0.758752</td>\n",
       "      <td>0.904666</td>\n",
       "      <td>1.809328</td>\n",
       "    </tr>\n",
       "  </tbody>\n",
       "</table>\n",
       "</div>"
      ],
      "text/plain": [
       "        count      mean       std       min       25%       50%       75%  \\\n",
       "Codigo                                                                      \n",
       "COG001  214.0  1.090127  0.293535  0.564196  0.914391  1.031127  1.206218   \n",
       "COG002  240.0  1.075386  0.407359  0.525285  0.778205  0.992220  1.269453   \n",
       "COG003  849.0  1.197951  0.372185  0.564196  0.914395  1.147861  1.420231   \n",
       "COG004  419.0  1.089027  0.365776  0.505830  0.817117  1.011669  1.303499   \n",
       "COG005  316.0  0.966787  0.325363  0.505831  0.739296  0.894938  1.128402   \n",
       "COG006  226.0  0.846988  0.236961  0.505830  0.661475  0.797663  0.992216   \n",
       "COG007  372.0  0.875535  0.252842  0.505830  0.695522  0.836571  1.031121   \n",
       "COG008   47.0  0.788554  0.225206  0.486379  0.622564  0.758750  0.885208   \n",
       "COG009  102.0  0.818261  0.248860  0.525289  0.646883  0.758752  0.904666   \n",
       "\n",
       "             max  \n",
       "Codigo            \n",
       "COG001  2.412450  \n",
       "COG002  2.684830  \n",
       "COG003  2.957205  \n",
       "COG004  2.879367  \n",
       "COG005  2.354084  \n",
       "COG006  1.906614  \n",
       "COG007  2.256809  \n",
       "COG008  1.575874  \n",
       "COG009  1.809328  "
      ]
     },
     "execution_count": 17,
     "metadata": {},
     "output_type": "execute_result"
    }
   ],
   "source": [
    "annotations.groupby('Codigo').Duracion.describe()"
   ]
  },
  {
   "cell_type": "code",
   "execution_count": 18,
   "metadata": {},
   "outputs": [
    {
     "data": {
      "text/html": [
       "<div>\n",
       "<style scoped>\n",
       "    .dataframe tbody tr th:only-of-type {\n",
       "        vertical-align: middle;\n",
       "    }\n",
       "\n",
       "    .dataframe tbody tr th {\n",
       "        vertical-align: top;\n",
       "    }\n",
       "\n",
       "    .dataframe thead th {\n",
       "        text-align: right;\n",
       "    }\n",
       "</style>\n",
       "<table border=\"1\" class=\"dataframe\">\n",
       "  <thead>\n",
       "    <tr style=\"text-align: right;\">\n",
       "      <th></th>\n",
       "      <th></th>\n",
       "      <th>count</th>\n",
       "      <th>mean</th>\n",
       "      <th>std</th>\n",
       "      <th>min</th>\n",
       "      <th>25%</th>\n",
       "      <th>50%</th>\n",
       "      <th>75%</th>\n",
       "      <th>max</th>\n",
       "    </tr>\n",
       "    <tr>\n",
       "      <th>Codigo</th>\n",
       "      <th>Fase</th>\n",
       "      <th></th>\n",
       "      <th></th>\n",
       "      <th></th>\n",
       "      <th></th>\n",
       "      <th></th>\n",
       "      <th></th>\n",
       "      <th></th>\n",
       "      <th></th>\n",
       "    </tr>\n",
       "  </thead>\n",
       "  <tbody>\n",
       "    <tr>\n",
       "      <th rowspan=\"2\" valign=\"top\">COG001</th>\n",
       "      <th>2</th>\n",
       "      <td>190.0</td>\n",
       "      <td>1.091334</td>\n",
       "      <td>0.287944</td>\n",
       "      <td>0.564196</td>\n",
       "      <td>0.933847</td>\n",
       "      <td>1.031127</td>\n",
       "      <td>1.206218</td>\n",
       "      <td>2.412450</td>\n",
       "    </tr>\n",
       "    <tr>\n",
       "      <th>3</th>\n",
       "      <td>24.0</td>\n",
       "      <td>1.080574</td>\n",
       "      <td>0.341343</td>\n",
       "      <td>0.583654</td>\n",
       "      <td>0.817117</td>\n",
       "      <td>1.021396</td>\n",
       "      <td>1.186767</td>\n",
       "      <td>1.887158</td>\n",
       "    </tr>\n",
       "    <tr>\n",
       "      <th rowspan=\"3\" valign=\"top\">COG002</th>\n",
       "      <th>1</th>\n",
       "      <td>1.0</td>\n",
       "      <td>0.719843</td>\n",
       "      <td>NaN</td>\n",
       "      <td>0.719843</td>\n",
       "      <td>0.719843</td>\n",
       "      <td>0.719843</td>\n",
       "      <td>0.719843</td>\n",
       "      <td>0.719843</td>\n",
       "    </tr>\n",
       "    <tr>\n",
       "      <th>2</th>\n",
       "      <td>136.0</td>\n",
       "      <td>1.174036</td>\n",
       "      <td>0.464630</td>\n",
       "      <td>0.525287</td>\n",
       "      <td>0.797662</td>\n",
       "      <td>1.089488</td>\n",
       "      <td>1.429958</td>\n",
       "      <td>2.684830</td>\n",
       "    </tr>\n",
       "    <tr>\n",
       "      <th>3</th>\n",
       "      <td>103.0</td>\n",
       "      <td>0.948582</td>\n",
       "      <td>0.269532</td>\n",
       "      <td>0.525285</td>\n",
       "      <td>0.739296</td>\n",
       "      <td>0.914399</td>\n",
       "      <td>1.070039</td>\n",
       "      <td>1.731522</td>\n",
       "    </tr>\n",
       "    <tr>\n",
       "      <th rowspan=\"5\" valign=\"top\">COG003</th>\n",
       "      <th>0</th>\n",
       "      <td>1.0</td>\n",
       "      <td>0.778209</td>\n",
       "      <td>NaN</td>\n",
       "      <td>0.778209</td>\n",
       "      <td>0.778209</td>\n",
       "      <td>0.778209</td>\n",
       "      <td>0.778209</td>\n",
       "      <td>0.778209</td>\n",
       "    </tr>\n",
       "    <tr>\n",
       "      <th>1</th>\n",
       "      <td>7.0</td>\n",
       "      <td>1.325735</td>\n",
       "      <td>0.381480</td>\n",
       "      <td>0.836572</td>\n",
       "      <td>1.099220</td>\n",
       "      <td>1.147856</td>\n",
       "      <td>1.614788</td>\n",
       "      <td>1.867698</td>\n",
       "    </tr>\n",
       "    <tr>\n",
       "      <th>2</th>\n",
       "      <td>786.0</td>\n",
       "      <td>1.210704</td>\n",
       "      <td>0.373036</td>\n",
       "      <td>0.564196</td>\n",
       "      <td>0.933847</td>\n",
       "      <td>1.167312</td>\n",
       "      <td>1.434821</td>\n",
       "      <td>2.957205</td>\n",
       "    </tr>\n",
       "    <tr>\n",
       "      <th>3</th>\n",
       "      <td>54.0</td>\n",
       "      <td>1.002663</td>\n",
       "      <td>0.303307</td>\n",
       "      <td>0.583654</td>\n",
       "      <td>0.778207</td>\n",
       "      <td>0.972758</td>\n",
       "      <td>1.167312</td>\n",
       "      <td>2.101172</td>\n",
       "    </tr>\n",
       "    <tr>\n",
       "      <th>4</th>\n",
       "      <td>1.0</td>\n",
       "      <td>1.245134</td>\n",
       "      <td>NaN</td>\n",
       "      <td>1.245134</td>\n",
       "      <td>1.245134</td>\n",
       "      <td>1.245134</td>\n",
       "      <td>1.245134</td>\n",
       "      <td>1.245134</td>\n",
       "    </tr>\n",
       "    <tr>\n",
       "      <th rowspan=\"3\" valign=\"top\">COG004</th>\n",
       "      <th>1</th>\n",
       "      <td>3.0</td>\n",
       "      <td>0.836575</td>\n",
       "      <td>0.146885</td>\n",
       "      <td>0.680931</td>\n",
       "      <td>0.768482</td>\n",
       "      <td>0.856034</td>\n",
       "      <td>0.914397</td>\n",
       "      <td>0.972761</td>\n",
       "    </tr>\n",
       "    <tr>\n",
       "      <th>2</th>\n",
       "      <td>387.0</td>\n",
       "      <td>1.094368</td>\n",
       "      <td>0.365331</td>\n",
       "      <td>0.505830</td>\n",
       "      <td>0.817117</td>\n",
       "      <td>1.011673</td>\n",
       "      <td>1.303500</td>\n",
       "      <td>2.879367</td>\n",
       "    </tr>\n",
       "    <tr>\n",
       "      <th>3</th>\n",
       "      <td>29.0</td>\n",
       "      <td>1.043873</td>\n",
       "      <td>0.382775</td>\n",
       "      <td>0.603108</td>\n",
       "      <td>0.817120</td>\n",
       "      <td>0.914390</td>\n",
       "      <td>1.206224</td>\n",
       "      <td>2.431907</td>\n",
       "    </tr>\n",
       "    <tr>\n",
       "      <th rowspan=\"3\" valign=\"top\">COG005</th>\n",
       "      <th>1</th>\n",
       "      <td>1.0</td>\n",
       "      <td>1.031124</td>\n",
       "      <td>NaN</td>\n",
       "      <td>1.031124</td>\n",
       "      <td>1.031124</td>\n",
       "      <td>1.031124</td>\n",
       "      <td>1.031124</td>\n",
       "      <td>1.031124</td>\n",
       "    </tr>\n",
       "    <tr>\n",
       "      <th>2</th>\n",
       "      <td>274.0</td>\n",
       "      <td>0.976594</td>\n",
       "      <td>0.324438</td>\n",
       "      <td>0.505831</td>\n",
       "      <td>0.744161</td>\n",
       "      <td>0.904666</td>\n",
       "      <td>1.147855</td>\n",
       "      <td>2.354084</td>\n",
       "    </tr>\n",
       "    <tr>\n",
       "      <th>3</th>\n",
       "      <td>41.0</td>\n",
       "      <td>0.899683</td>\n",
       "      <td>0.331477</td>\n",
       "      <td>0.525290</td>\n",
       "      <td>0.680928</td>\n",
       "      <td>0.778207</td>\n",
       "      <td>1.070034</td>\n",
       "      <td>2.081713</td>\n",
       "    </tr>\n",
       "    <tr>\n",
       "      <th rowspan=\"3\" valign=\"top\">COG006</th>\n",
       "      <th>1</th>\n",
       "      <td>8.0</td>\n",
       "      <td>0.921690</td>\n",
       "      <td>0.356915</td>\n",
       "      <td>0.525286</td>\n",
       "      <td>0.593383</td>\n",
       "      <td>0.904670</td>\n",
       "      <td>1.147856</td>\n",
       "      <td>1.420226</td>\n",
       "    </tr>\n",
       "    <tr>\n",
       "      <th>2</th>\n",
       "      <td>152.0</td>\n",
       "      <td>0.855643</td>\n",
       "      <td>0.239949</td>\n",
       "      <td>0.505830</td>\n",
       "      <td>0.680929</td>\n",
       "      <td>0.797664</td>\n",
       "      <td>0.992215</td>\n",
       "      <td>1.906614</td>\n",
       "    </tr>\n",
       "    <tr>\n",
       "      <th>3</th>\n",
       "      <td>66.0</td>\n",
       "      <td>0.818001</td>\n",
       "      <td>0.212559</td>\n",
       "      <td>0.505832</td>\n",
       "      <td>0.642019</td>\n",
       "      <td>0.797659</td>\n",
       "      <td>0.953301</td>\n",
       "      <td>1.459142</td>\n",
       "    </tr>\n",
       "    <tr>\n",
       "      <th rowspan=\"3\" valign=\"top\">COG007</th>\n",
       "      <th>1</th>\n",
       "      <td>4.0</td>\n",
       "      <td>0.943576</td>\n",
       "      <td>0.231563</td>\n",
       "      <td>0.680931</td>\n",
       "      <td>0.797661</td>\n",
       "      <td>0.943578</td>\n",
       "      <td>1.089493</td>\n",
       "      <td>1.206217</td>\n",
       "    </tr>\n",
       "    <tr>\n",
       "      <th>2</th>\n",
       "      <td>319.0</td>\n",
       "      <td>0.872799</td>\n",
       "      <td>0.247500</td>\n",
       "      <td>0.505830</td>\n",
       "      <td>0.700383</td>\n",
       "      <td>0.836570</td>\n",
       "      <td>0.992216</td>\n",
       "      <td>2.256809</td>\n",
       "    </tr>\n",
       "    <tr>\n",
       "      <th>3</th>\n",
       "      <td>49.0</td>\n",
       "      <td>0.887791</td>\n",
       "      <td>0.290439</td>\n",
       "      <td>0.505835</td>\n",
       "      <td>0.680938</td>\n",
       "      <td>0.856028</td>\n",
       "      <td>1.031121</td>\n",
       "      <td>2.062259</td>\n",
       "    </tr>\n",
       "    <tr>\n",
       "      <th rowspan=\"3\" valign=\"top\">COG008</th>\n",
       "      <th>1</th>\n",
       "      <td>4.0</td>\n",
       "      <td>0.904666</td>\n",
       "      <td>0.403590</td>\n",
       "      <td>0.564199</td>\n",
       "      <td>0.593380</td>\n",
       "      <td>0.817117</td>\n",
       "      <td>1.128403</td>\n",
       "      <td>1.420230</td>\n",
       "    </tr>\n",
       "    <tr>\n",
       "      <th>2</th>\n",
       "      <td>13.0</td>\n",
       "      <td>0.809634</td>\n",
       "      <td>0.271508</td>\n",
       "      <td>0.486379</td>\n",
       "      <td>0.622564</td>\n",
       "      <td>0.778205</td>\n",
       "      <td>0.875483</td>\n",
       "      <td>1.575874</td>\n",
       "    </tr>\n",
       "    <tr>\n",
       "      <th>3</th>\n",
       "      <td>30.0</td>\n",
       "      <td>0.763938</td>\n",
       "      <td>0.174383</td>\n",
       "      <td>0.525287</td>\n",
       "      <td>0.622564</td>\n",
       "      <td>0.700384</td>\n",
       "      <td>0.875479</td>\n",
       "      <td>1.147855</td>\n",
       "    </tr>\n",
       "    <tr>\n",
       "      <th rowspan=\"3\" valign=\"top\">COG009</th>\n",
       "      <th>0</th>\n",
       "      <td>2.0</td>\n",
       "      <td>1.313223</td>\n",
       "      <td>0.701598</td>\n",
       "      <td>0.817118</td>\n",
       "      <td>1.065171</td>\n",
       "      <td>1.313223</td>\n",
       "      <td>1.561276</td>\n",
       "      <td>1.809328</td>\n",
       "    </tr>\n",
       "    <tr>\n",
       "      <th>2</th>\n",
       "      <td>9.0</td>\n",
       "      <td>0.782529</td>\n",
       "      <td>0.192790</td>\n",
       "      <td>0.544741</td>\n",
       "      <td>0.661471</td>\n",
       "      <td>0.719843</td>\n",
       "      <td>0.836571</td>\n",
       "      <td>1.108950</td>\n",
       "    </tr>\n",
       "    <tr>\n",
       "      <th>3</th>\n",
       "      <td>91.0</td>\n",
       "      <td>0.810916</td>\n",
       "      <td>0.234737</td>\n",
       "      <td>0.525289</td>\n",
       "      <td>0.642019</td>\n",
       "      <td>0.758750</td>\n",
       "      <td>0.894939</td>\n",
       "      <td>1.614783</td>\n",
       "    </tr>\n",
       "  </tbody>\n",
       "</table>\n",
       "</div>"
      ],
      "text/plain": [
       "             count      mean       std       min       25%       50%  \\\n",
       "Codigo Fase                                                            \n",
       "COG001 2     190.0  1.091334  0.287944  0.564196  0.933847  1.031127   \n",
       "       3      24.0  1.080574  0.341343  0.583654  0.817117  1.021396   \n",
       "COG002 1       1.0  0.719843       NaN  0.719843  0.719843  0.719843   \n",
       "       2     136.0  1.174036  0.464630  0.525287  0.797662  1.089488   \n",
       "       3     103.0  0.948582  0.269532  0.525285  0.739296  0.914399   \n",
       "COG003 0       1.0  0.778209       NaN  0.778209  0.778209  0.778209   \n",
       "       1       7.0  1.325735  0.381480  0.836572  1.099220  1.147856   \n",
       "       2     786.0  1.210704  0.373036  0.564196  0.933847  1.167312   \n",
       "       3      54.0  1.002663  0.303307  0.583654  0.778207  0.972758   \n",
       "       4       1.0  1.245134       NaN  1.245134  1.245134  1.245134   \n",
       "COG004 1       3.0  0.836575  0.146885  0.680931  0.768482  0.856034   \n",
       "       2     387.0  1.094368  0.365331  0.505830  0.817117  1.011673   \n",
       "       3      29.0  1.043873  0.382775  0.603108  0.817120  0.914390   \n",
       "COG005 1       1.0  1.031124       NaN  1.031124  1.031124  1.031124   \n",
       "       2     274.0  0.976594  0.324438  0.505831  0.744161  0.904666   \n",
       "       3      41.0  0.899683  0.331477  0.525290  0.680928  0.778207   \n",
       "COG006 1       8.0  0.921690  0.356915  0.525286  0.593383  0.904670   \n",
       "       2     152.0  0.855643  0.239949  0.505830  0.680929  0.797664   \n",
       "       3      66.0  0.818001  0.212559  0.505832  0.642019  0.797659   \n",
       "COG007 1       4.0  0.943576  0.231563  0.680931  0.797661  0.943578   \n",
       "       2     319.0  0.872799  0.247500  0.505830  0.700383  0.836570   \n",
       "       3      49.0  0.887791  0.290439  0.505835  0.680938  0.856028   \n",
       "COG008 1       4.0  0.904666  0.403590  0.564199  0.593380  0.817117   \n",
       "       2      13.0  0.809634  0.271508  0.486379  0.622564  0.778205   \n",
       "       3      30.0  0.763938  0.174383  0.525287  0.622564  0.700384   \n",
       "COG009 0       2.0  1.313223  0.701598  0.817118  1.065171  1.313223   \n",
       "       2       9.0  0.782529  0.192790  0.544741  0.661471  0.719843   \n",
       "       3      91.0  0.810916  0.234737  0.525289  0.642019  0.758750   \n",
       "\n",
       "                  75%       max  \n",
       "Codigo Fase                      \n",
       "COG001 2     1.206218  2.412450  \n",
       "       3     1.186767  1.887158  \n",
       "COG002 1     0.719843  0.719843  \n",
       "       2     1.429958  2.684830  \n",
       "       3     1.070039  1.731522  \n",
       "COG003 0     0.778209  0.778209  \n",
       "       1     1.614788  1.867698  \n",
       "       2     1.434821  2.957205  \n",
       "       3     1.167312  2.101172  \n",
       "       4     1.245134  1.245134  \n",
       "COG004 1     0.914397  0.972761  \n",
       "       2     1.303500  2.879367  \n",
       "       3     1.206224  2.431907  \n",
       "COG005 1     1.031124  1.031124  \n",
       "       2     1.147855  2.354084  \n",
       "       3     1.070034  2.081713  \n",
       "COG006 1     1.147856  1.420226  \n",
       "       2     0.992215  1.906614  \n",
       "       3     0.953301  1.459142  \n",
       "COG007 1     1.089493  1.206217  \n",
       "       2     0.992216  2.256809  \n",
       "       3     1.031121  2.062259  \n",
       "COG008 1     1.128403  1.420230  \n",
       "       2     0.875483  1.575874  \n",
       "       3     0.875479  1.147855  \n",
       "COG009 0     1.561276  1.809328  \n",
       "       2     0.836571  1.108950  \n",
       "       3     0.894939  1.614783  "
      ]
     },
     "execution_count": 18,
     "metadata": {},
     "output_type": "execute_result"
    }
   ],
   "source": [
    "annotations.groupby(['Codigo','Fase']).Duracion.describe()"
   ]
  },
  {
   "cell_type": "code",
   "execution_count": 19,
   "metadata": {},
   "outputs": [],
   "source": [
    "aux=annotations\n",
    "aux['count']=0\n",
    "aux=aux.groupby(['Codigo','Fase']).count().reset_index()"
   ]
  },
  {
   "cell_type": "code",
   "execution_count": 20,
   "metadata": {},
   "outputs": [
    {
     "data": {
      "text/html": [
       "<div>\n",
       "<style scoped>\n",
       "    .dataframe tbody tr th:only-of-type {\n",
       "        vertical-align: middle;\n",
       "    }\n",
       "\n",
       "    .dataframe tbody tr th {\n",
       "        vertical-align: top;\n",
       "    }\n",
       "\n",
       "    .dataframe thead th {\n",
       "        text-align: right;\n",
       "    }\n",
       "</style>\n",
       "<table border=\"1\" class=\"dataframe\">\n",
       "  <thead>\n",
       "    <tr style=\"text-align: right;\">\n",
       "      <th></th>\n",
       "      <th>Codigo</th>\n",
       "      <th>Fase</th>\n",
       "      <th>Canal</th>\n",
       "      <th>Inicio</th>\n",
       "      <th>Fin</th>\n",
       "      <th>Duracion</th>\n",
       "      <th>count</th>\n",
       "    </tr>\n",
       "  </thead>\n",
       "  <tbody>\n",
       "    <tr>\n",
       "      <th>0</th>\n",
       "      <td>COG001</td>\n",
       "      <td>2</td>\n",
       "      <td>190</td>\n",
       "      <td>190</td>\n",
       "      <td>190</td>\n",
       "      <td>190</td>\n",
       "      <td>190</td>\n",
       "    </tr>\n",
       "    <tr>\n",
       "      <th>1</th>\n",
       "      <td>COG001</td>\n",
       "      <td>3</td>\n",
       "      <td>24</td>\n",
       "      <td>24</td>\n",
       "      <td>24</td>\n",
       "      <td>24</td>\n",
       "      <td>24</td>\n",
       "    </tr>\n",
       "    <tr>\n",
       "      <th>2</th>\n",
       "      <td>COG002</td>\n",
       "      <td>1</td>\n",
       "      <td>1</td>\n",
       "      <td>1</td>\n",
       "      <td>1</td>\n",
       "      <td>1</td>\n",
       "      <td>1</td>\n",
       "    </tr>\n",
       "    <tr>\n",
       "      <th>3</th>\n",
       "      <td>COG002</td>\n",
       "      <td>2</td>\n",
       "      <td>136</td>\n",
       "      <td>136</td>\n",
       "      <td>136</td>\n",
       "      <td>136</td>\n",
       "      <td>136</td>\n",
       "    </tr>\n",
       "    <tr>\n",
       "      <th>4</th>\n",
       "      <td>COG002</td>\n",
       "      <td>3</td>\n",
       "      <td>103</td>\n",
       "      <td>103</td>\n",
       "      <td>103</td>\n",
       "      <td>103</td>\n",
       "      <td>103</td>\n",
       "    </tr>\n",
       "    <tr>\n",
       "      <th>5</th>\n",
       "      <td>COG003</td>\n",
       "      <td>0</td>\n",
       "      <td>1</td>\n",
       "      <td>1</td>\n",
       "      <td>1</td>\n",
       "      <td>1</td>\n",
       "      <td>1</td>\n",
       "    </tr>\n",
       "    <tr>\n",
       "      <th>6</th>\n",
       "      <td>COG003</td>\n",
       "      <td>1</td>\n",
       "      <td>7</td>\n",
       "      <td>7</td>\n",
       "      <td>7</td>\n",
       "      <td>7</td>\n",
       "      <td>7</td>\n",
       "    </tr>\n",
       "    <tr>\n",
       "      <th>7</th>\n",
       "      <td>COG003</td>\n",
       "      <td>2</td>\n",
       "      <td>786</td>\n",
       "      <td>786</td>\n",
       "      <td>786</td>\n",
       "      <td>786</td>\n",
       "      <td>786</td>\n",
       "    </tr>\n",
       "    <tr>\n",
       "      <th>8</th>\n",
       "      <td>COG003</td>\n",
       "      <td>3</td>\n",
       "      <td>54</td>\n",
       "      <td>54</td>\n",
       "      <td>54</td>\n",
       "      <td>54</td>\n",
       "      <td>54</td>\n",
       "    </tr>\n",
       "    <tr>\n",
       "      <th>9</th>\n",
       "      <td>COG003</td>\n",
       "      <td>4</td>\n",
       "      <td>1</td>\n",
       "      <td>1</td>\n",
       "      <td>1</td>\n",
       "      <td>1</td>\n",
       "      <td>1</td>\n",
       "    </tr>\n",
       "    <tr>\n",
       "      <th>10</th>\n",
       "      <td>COG004</td>\n",
       "      <td>1</td>\n",
       "      <td>3</td>\n",
       "      <td>3</td>\n",
       "      <td>3</td>\n",
       "      <td>3</td>\n",
       "      <td>3</td>\n",
       "    </tr>\n",
       "    <tr>\n",
       "      <th>11</th>\n",
       "      <td>COG004</td>\n",
       "      <td>2</td>\n",
       "      <td>387</td>\n",
       "      <td>387</td>\n",
       "      <td>387</td>\n",
       "      <td>387</td>\n",
       "      <td>387</td>\n",
       "    </tr>\n",
       "    <tr>\n",
       "      <th>12</th>\n",
       "      <td>COG004</td>\n",
       "      <td>3</td>\n",
       "      <td>29</td>\n",
       "      <td>29</td>\n",
       "      <td>29</td>\n",
       "      <td>29</td>\n",
       "      <td>29</td>\n",
       "    </tr>\n",
       "    <tr>\n",
       "      <th>13</th>\n",
       "      <td>COG005</td>\n",
       "      <td>1</td>\n",
       "      <td>1</td>\n",
       "      <td>1</td>\n",
       "      <td>1</td>\n",
       "      <td>1</td>\n",
       "      <td>1</td>\n",
       "    </tr>\n",
       "    <tr>\n",
       "      <th>14</th>\n",
       "      <td>COG005</td>\n",
       "      <td>2</td>\n",
       "      <td>274</td>\n",
       "      <td>274</td>\n",
       "      <td>274</td>\n",
       "      <td>274</td>\n",
       "      <td>274</td>\n",
       "    </tr>\n",
       "    <tr>\n",
       "      <th>15</th>\n",
       "      <td>COG005</td>\n",
       "      <td>3</td>\n",
       "      <td>41</td>\n",
       "      <td>41</td>\n",
       "      <td>41</td>\n",
       "      <td>41</td>\n",
       "      <td>41</td>\n",
       "    </tr>\n",
       "    <tr>\n",
       "      <th>16</th>\n",
       "      <td>COG006</td>\n",
       "      <td>1</td>\n",
       "      <td>8</td>\n",
       "      <td>8</td>\n",
       "      <td>8</td>\n",
       "      <td>8</td>\n",
       "      <td>8</td>\n",
       "    </tr>\n",
       "    <tr>\n",
       "      <th>17</th>\n",
       "      <td>COG006</td>\n",
       "      <td>2</td>\n",
       "      <td>152</td>\n",
       "      <td>152</td>\n",
       "      <td>152</td>\n",
       "      <td>152</td>\n",
       "      <td>152</td>\n",
       "    </tr>\n",
       "    <tr>\n",
       "      <th>18</th>\n",
       "      <td>COG006</td>\n",
       "      <td>3</td>\n",
       "      <td>66</td>\n",
       "      <td>66</td>\n",
       "      <td>66</td>\n",
       "      <td>66</td>\n",
       "      <td>66</td>\n",
       "    </tr>\n",
       "    <tr>\n",
       "      <th>19</th>\n",
       "      <td>COG007</td>\n",
       "      <td>1</td>\n",
       "      <td>4</td>\n",
       "      <td>4</td>\n",
       "      <td>4</td>\n",
       "      <td>4</td>\n",
       "      <td>4</td>\n",
       "    </tr>\n",
       "    <tr>\n",
       "      <th>20</th>\n",
       "      <td>COG007</td>\n",
       "      <td>2</td>\n",
       "      <td>319</td>\n",
       "      <td>319</td>\n",
       "      <td>319</td>\n",
       "      <td>319</td>\n",
       "      <td>319</td>\n",
       "    </tr>\n",
       "    <tr>\n",
       "      <th>21</th>\n",
       "      <td>COG007</td>\n",
       "      <td>3</td>\n",
       "      <td>49</td>\n",
       "      <td>49</td>\n",
       "      <td>49</td>\n",
       "      <td>49</td>\n",
       "      <td>49</td>\n",
       "    </tr>\n",
       "    <tr>\n",
       "      <th>22</th>\n",
       "      <td>COG008</td>\n",
       "      <td>1</td>\n",
       "      <td>4</td>\n",
       "      <td>4</td>\n",
       "      <td>4</td>\n",
       "      <td>4</td>\n",
       "      <td>4</td>\n",
       "    </tr>\n",
       "    <tr>\n",
       "      <th>23</th>\n",
       "      <td>COG008</td>\n",
       "      <td>2</td>\n",
       "      <td>13</td>\n",
       "      <td>13</td>\n",
       "      <td>13</td>\n",
       "      <td>13</td>\n",
       "      <td>13</td>\n",
       "    </tr>\n",
       "    <tr>\n",
       "      <th>24</th>\n",
       "      <td>COG008</td>\n",
       "      <td>3</td>\n",
       "      <td>30</td>\n",
       "      <td>30</td>\n",
       "      <td>30</td>\n",
       "      <td>30</td>\n",
       "      <td>30</td>\n",
       "    </tr>\n",
       "    <tr>\n",
       "      <th>25</th>\n",
       "      <td>COG009</td>\n",
       "      <td>0</td>\n",
       "      <td>2</td>\n",
       "      <td>2</td>\n",
       "      <td>2</td>\n",
       "      <td>2</td>\n",
       "      <td>2</td>\n",
       "    </tr>\n",
       "    <tr>\n",
       "      <th>26</th>\n",
       "      <td>COG009</td>\n",
       "      <td>2</td>\n",
       "      <td>9</td>\n",
       "      <td>9</td>\n",
       "      <td>9</td>\n",
       "      <td>9</td>\n",
       "      <td>9</td>\n",
       "    </tr>\n",
       "    <tr>\n",
       "      <th>27</th>\n",
       "      <td>COG009</td>\n",
       "      <td>3</td>\n",
       "      <td>91</td>\n",
       "      <td>91</td>\n",
       "      <td>91</td>\n",
       "      <td>91</td>\n",
       "      <td>91</td>\n",
       "    </tr>\n",
       "  </tbody>\n",
       "</table>\n",
       "</div>"
      ],
      "text/plain": [
       "    Codigo  Fase  Canal  Inicio  Fin  Duracion  count\n",
       "0   COG001     2    190     190  190       190    190\n",
       "1   COG001     3     24      24   24        24     24\n",
       "2   COG002     1      1       1    1         1      1\n",
       "3   COG002     2    136     136  136       136    136\n",
       "4   COG002     3    103     103  103       103    103\n",
       "5   COG003     0      1       1    1         1      1\n",
       "6   COG003     1      7       7    7         7      7\n",
       "7   COG003     2    786     786  786       786    786\n",
       "8   COG003     3     54      54   54        54     54\n",
       "9   COG003     4      1       1    1         1      1\n",
       "10  COG004     1      3       3    3         3      3\n",
       "11  COG004     2    387     387  387       387    387\n",
       "12  COG004     3     29      29   29        29     29\n",
       "13  COG005     1      1       1    1         1      1\n",
       "14  COG005     2    274     274  274       274    274\n",
       "15  COG005     3     41      41   41        41     41\n",
       "16  COG006     1      8       8    8         8      8\n",
       "17  COG006     2    152     152  152       152    152\n",
       "18  COG006     3     66      66   66        66     66\n",
       "19  COG007     1      4       4    4         4      4\n",
       "20  COG007     2    319     319  319       319    319\n",
       "21  COG007     3     49      49   49        49     49\n",
       "22  COG008     1      4       4    4         4      4\n",
       "23  COG008     2     13      13   13        13     13\n",
       "24  COG008     3     30      30   30        30     30\n",
       "25  COG009     0      2       2    2         2      2\n",
       "26  COG009     2      9       9    9         9      9\n",
       "27  COG009     3     91      91   91        91     91"
      ]
     },
     "execution_count": 20,
     "metadata": {},
     "output_type": "execute_result"
    }
   ],
   "source": [
    "aux"
   ]
  },
  {
   "cell_type": "code",
   "execution_count": 21,
   "metadata": {},
   "outputs": [
    {
     "data": {
      "application/vnd.plotly.v1+json": {
       "config": {
        "plotlyServerURL": "https://plot.ly"
       },
       "data": [
        {
         "alignmentgroup": "True",
         "hovertemplate": "Codigo=%{x}<br>count=%{y}<br>Fase=%{marker.color}<extra></extra>",
         "legendgroup": "",
         "marker": {
          "color": [
           2,
           3,
           1,
           2,
           3,
           0,
           1,
           2,
           3,
           4,
           1,
           2,
           3,
           1,
           2,
           3,
           1,
           2,
           3,
           1,
           2,
           3,
           1,
           2,
           3,
           0,
           2,
           3
          ],
          "coloraxis": "coloraxis",
          "pattern": {
           "shape": ""
          }
         },
         "name": "",
         "offsetgroup": "",
         "orientation": "v",
         "showlegend": false,
         "textposition": "auto",
         "type": "bar",
         "x": [
          "COG001",
          "COG001",
          "COG002",
          "COG002",
          "COG002",
          "COG003",
          "COG003",
          "COG003",
          "COG003",
          "COG003",
          "COG004",
          "COG004",
          "COG004",
          "COG005",
          "COG005",
          "COG005",
          "COG006",
          "COG006",
          "COG006",
          "COG007",
          "COG007",
          "COG007",
          "COG008",
          "COG008",
          "COG008",
          "COG009",
          "COG009",
          "COG009"
         ],
         "xaxis": "x",
         "y": [
          190,
          24,
          1,
          136,
          103,
          1,
          7,
          786,
          54,
          1,
          3,
          387,
          29,
          1,
          274,
          41,
          8,
          152,
          66,
          4,
          319,
          49,
          4,
          13,
          30,
          2,
          9,
          91
         ],
         "yaxis": "y"
        }
       ],
       "layout": {
        "barmode": "group",
        "coloraxis": {
         "colorbar": {
          "title": {
           "text": "Fase"
          }
         },
         "colorscale": [
          [
           0,
           "#0d0887"
          ],
          [
           0.1111111111111111,
           "#46039f"
          ],
          [
           0.2222222222222222,
           "#7201a8"
          ],
          [
           0.3333333333333333,
           "#9c179e"
          ],
          [
           0.4444444444444444,
           "#bd3786"
          ],
          [
           0.5555555555555556,
           "#d8576b"
          ],
          [
           0.6666666666666666,
           "#ed7953"
          ],
          [
           0.7777777777777778,
           "#fb9f3a"
          ],
          [
           0.8888888888888888,
           "#fdca26"
          ],
          [
           1,
           "#f0f921"
          ]
         ]
        },
        "legend": {
         "tracegroupgap": 0
        },
        "margin": {
         "t": 60
        },
        "template": {
         "data": {
          "bar": [
           {
            "error_x": {
             "color": "#2a3f5f"
            },
            "error_y": {
             "color": "#2a3f5f"
            },
            "marker": {
             "line": {
              "color": "#E5ECF6",
              "width": 0.5
             },
             "pattern": {
              "fillmode": "overlay",
              "size": 10,
              "solidity": 0.2
             }
            },
            "type": "bar"
           }
          ],
          "barpolar": [
           {
            "marker": {
             "line": {
              "color": "#E5ECF6",
              "width": 0.5
             },
             "pattern": {
              "fillmode": "overlay",
              "size": 10,
              "solidity": 0.2
             }
            },
            "type": "barpolar"
           }
          ],
          "carpet": [
           {
            "aaxis": {
             "endlinecolor": "#2a3f5f",
             "gridcolor": "white",
             "linecolor": "white",
             "minorgridcolor": "white",
             "startlinecolor": "#2a3f5f"
            },
            "baxis": {
             "endlinecolor": "#2a3f5f",
             "gridcolor": "white",
             "linecolor": "white",
             "minorgridcolor": "white",
             "startlinecolor": "#2a3f5f"
            },
            "type": "carpet"
           }
          ],
          "choropleth": [
           {
            "colorbar": {
             "outlinewidth": 0,
             "ticks": ""
            },
            "type": "choropleth"
           }
          ],
          "contour": [
           {
            "colorbar": {
             "outlinewidth": 0,
             "ticks": ""
            },
            "colorscale": [
             [
              0,
              "#0d0887"
             ],
             [
              0.1111111111111111,
              "#46039f"
             ],
             [
              0.2222222222222222,
              "#7201a8"
             ],
             [
              0.3333333333333333,
              "#9c179e"
             ],
             [
              0.4444444444444444,
              "#bd3786"
             ],
             [
              0.5555555555555556,
              "#d8576b"
             ],
             [
              0.6666666666666666,
              "#ed7953"
             ],
             [
              0.7777777777777778,
              "#fb9f3a"
             ],
             [
              0.8888888888888888,
              "#fdca26"
             ],
             [
              1,
              "#f0f921"
             ]
            ],
            "type": "contour"
           }
          ],
          "contourcarpet": [
           {
            "colorbar": {
             "outlinewidth": 0,
             "ticks": ""
            },
            "type": "contourcarpet"
           }
          ],
          "heatmap": [
           {
            "colorbar": {
             "outlinewidth": 0,
             "ticks": ""
            },
            "colorscale": [
             [
              0,
              "#0d0887"
             ],
             [
              0.1111111111111111,
              "#46039f"
             ],
             [
              0.2222222222222222,
              "#7201a8"
             ],
             [
              0.3333333333333333,
              "#9c179e"
             ],
             [
              0.4444444444444444,
              "#bd3786"
             ],
             [
              0.5555555555555556,
              "#d8576b"
             ],
             [
              0.6666666666666666,
              "#ed7953"
             ],
             [
              0.7777777777777778,
              "#fb9f3a"
             ],
             [
              0.8888888888888888,
              "#fdca26"
             ],
             [
              1,
              "#f0f921"
             ]
            ],
            "type": "heatmap"
           }
          ],
          "heatmapgl": [
           {
            "colorbar": {
             "outlinewidth": 0,
             "ticks": ""
            },
            "colorscale": [
             [
              0,
              "#0d0887"
             ],
             [
              0.1111111111111111,
              "#46039f"
             ],
             [
              0.2222222222222222,
              "#7201a8"
             ],
             [
              0.3333333333333333,
              "#9c179e"
             ],
             [
              0.4444444444444444,
              "#bd3786"
             ],
             [
              0.5555555555555556,
              "#d8576b"
             ],
             [
              0.6666666666666666,
              "#ed7953"
             ],
             [
              0.7777777777777778,
              "#fb9f3a"
             ],
             [
              0.8888888888888888,
              "#fdca26"
             ],
             [
              1,
              "#f0f921"
             ]
            ],
            "type": "heatmapgl"
           }
          ],
          "histogram": [
           {
            "marker": {
             "pattern": {
              "fillmode": "overlay",
              "size": 10,
              "solidity": 0.2
             }
            },
            "type": "histogram"
           }
          ],
          "histogram2d": [
           {
            "colorbar": {
             "outlinewidth": 0,
             "ticks": ""
            },
            "colorscale": [
             [
              0,
              "#0d0887"
             ],
             [
              0.1111111111111111,
              "#46039f"
             ],
             [
              0.2222222222222222,
              "#7201a8"
             ],
             [
              0.3333333333333333,
              "#9c179e"
             ],
             [
              0.4444444444444444,
              "#bd3786"
             ],
             [
              0.5555555555555556,
              "#d8576b"
             ],
             [
              0.6666666666666666,
              "#ed7953"
             ],
             [
              0.7777777777777778,
              "#fb9f3a"
             ],
             [
              0.8888888888888888,
              "#fdca26"
             ],
             [
              1,
              "#f0f921"
             ]
            ],
            "type": "histogram2d"
           }
          ],
          "histogram2dcontour": [
           {
            "colorbar": {
             "outlinewidth": 0,
             "ticks": ""
            },
            "colorscale": [
             [
              0,
              "#0d0887"
             ],
             [
              0.1111111111111111,
              "#46039f"
             ],
             [
              0.2222222222222222,
              "#7201a8"
             ],
             [
              0.3333333333333333,
              "#9c179e"
             ],
             [
              0.4444444444444444,
              "#bd3786"
             ],
             [
              0.5555555555555556,
              "#d8576b"
             ],
             [
              0.6666666666666666,
              "#ed7953"
             ],
             [
              0.7777777777777778,
              "#fb9f3a"
             ],
             [
              0.8888888888888888,
              "#fdca26"
             ],
             [
              1,
              "#f0f921"
             ]
            ],
            "type": "histogram2dcontour"
           }
          ],
          "mesh3d": [
           {
            "colorbar": {
             "outlinewidth": 0,
             "ticks": ""
            },
            "type": "mesh3d"
           }
          ],
          "parcoords": [
           {
            "line": {
             "colorbar": {
              "outlinewidth": 0,
              "ticks": ""
             }
            },
            "type": "parcoords"
           }
          ],
          "pie": [
           {
            "automargin": true,
            "type": "pie"
           }
          ],
          "scatter": [
           {
            "fillpattern": {
             "fillmode": "overlay",
             "size": 10,
             "solidity": 0.2
            },
            "type": "scatter"
           }
          ],
          "scatter3d": [
           {
            "line": {
             "colorbar": {
              "outlinewidth": 0,
              "ticks": ""
             }
            },
            "marker": {
             "colorbar": {
              "outlinewidth": 0,
              "ticks": ""
             }
            },
            "type": "scatter3d"
           }
          ],
          "scattercarpet": [
           {
            "marker": {
             "colorbar": {
              "outlinewidth": 0,
              "ticks": ""
             }
            },
            "type": "scattercarpet"
           }
          ],
          "scattergeo": [
           {
            "marker": {
             "colorbar": {
              "outlinewidth": 0,
              "ticks": ""
             }
            },
            "type": "scattergeo"
           }
          ],
          "scattergl": [
           {
            "marker": {
             "colorbar": {
              "outlinewidth": 0,
              "ticks": ""
             }
            },
            "type": "scattergl"
           }
          ],
          "scattermapbox": [
           {
            "marker": {
             "colorbar": {
              "outlinewidth": 0,
              "ticks": ""
             }
            },
            "type": "scattermapbox"
           }
          ],
          "scatterpolar": [
           {
            "marker": {
             "colorbar": {
              "outlinewidth": 0,
              "ticks": ""
             }
            },
            "type": "scatterpolar"
           }
          ],
          "scatterpolargl": [
           {
            "marker": {
             "colorbar": {
              "outlinewidth": 0,
              "ticks": ""
             }
            },
            "type": "scatterpolargl"
           }
          ],
          "scatterternary": [
           {
            "marker": {
             "colorbar": {
              "outlinewidth": 0,
              "ticks": ""
             }
            },
            "type": "scatterternary"
           }
          ],
          "surface": [
           {
            "colorbar": {
             "outlinewidth": 0,
             "ticks": ""
            },
            "colorscale": [
             [
              0,
              "#0d0887"
             ],
             [
              0.1111111111111111,
              "#46039f"
             ],
             [
              0.2222222222222222,
              "#7201a8"
             ],
             [
              0.3333333333333333,
              "#9c179e"
             ],
             [
              0.4444444444444444,
              "#bd3786"
             ],
             [
              0.5555555555555556,
              "#d8576b"
             ],
             [
              0.6666666666666666,
              "#ed7953"
             ],
             [
              0.7777777777777778,
              "#fb9f3a"
             ],
             [
              0.8888888888888888,
              "#fdca26"
             ],
             [
              1,
              "#f0f921"
             ]
            ],
            "type": "surface"
           }
          ],
          "table": [
           {
            "cells": {
             "fill": {
              "color": "#EBF0F8"
             },
             "line": {
              "color": "white"
             }
            },
            "header": {
             "fill": {
              "color": "#C8D4E3"
             },
             "line": {
              "color": "white"
             }
            },
            "type": "table"
           }
          ]
         },
         "layout": {
          "annotationdefaults": {
           "arrowcolor": "#2a3f5f",
           "arrowhead": 0,
           "arrowwidth": 1
          },
          "autotypenumbers": "strict",
          "coloraxis": {
           "colorbar": {
            "outlinewidth": 0,
            "ticks": ""
           }
          },
          "colorscale": {
           "diverging": [
            [
             0,
             "#8e0152"
            ],
            [
             0.1,
             "#c51b7d"
            ],
            [
             0.2,
             "#de77ae"
            ],
            [
             0.3,
             "#f1b6da"
            ],
            [
             0.4,
             "#fde0ef"
            ],
            [
             0.5,
             "#f7f7f7"
            ],
            [
             0.6,
             "#e6f5d0"
            ],
            [
             0.7,
             "#b8e186"
            ],
            [
             0.8,
             "#7fbc41"
            ],
            [
             0.9,
             "#4d9221"
            ],
            [
             1,
             "#276419"
            ]
           ],
           "sequential": [
            [
             0,
             "#0d0887"
            ],
            [
             0.1111111111111111,
             "#46039f"
            ],
            [
             0.2222222222222222,
             "#7201a8"
            ],
            [
             0.3333333333333333,
             "#9c179e"
            ],
            [
             0.4444444444444444,
             "#bd3786"
            ],
            [
             0.5555555555555556,
             "#d8576b"
            ],
            [
             0.6666666666666666,
             "#ed7953"
            ],
            [
             0.7777777777777778,
             "#fb9f3a"
            ],
            [
             0.8888888888888888,
             "#fdca26"
            ],
            [
             1,
             "#f0f921"
            ]
           ],
           "sequentialminus": [
            [
             0,
             "#0d0887"
            ],
            [
             0.1111111111111111,
             "#46039f"
            ],
            [
             0.2222222222222222,
             "#7201a8"
            ],
            [
             0.3333333333333333,
             "#9c179e"
            ],
            [
             0.4444444444444444,
             "#bd3786"
            ],
            [
             0.5555555555555556,
             "#d8576b"
            ],
            [
             0.6666666666666666,
             "#ed7953"
            ],
            [
             0.7777777777777778,
             "#fb9f3a"
            ],
            [
             0.8888888888888888,
             "#fdca26"
            ],
            [
             1,
             "#f0f921"
            ]
           ]
          },
          "colorway": [
           "#636efa",
           "#EF553B",
           "#00cc96",
           "#ab63fa",
           "#FFA15A",
           "#19d3f3",
           "#FF6692",
           "#B6E880",
           "#FF97FF",
           "#FECB52"
          ],
          "font": {
           "color": "#2a3f5f"
          },
          "geo": {
           "bgcolor": "white",
           "lakecolor": "white",
           "landcolor": "#E5ECF6",
           "showlakes": true,
           "showland": true,
           "subunitcolor": "white"
          },
          "hoverlabel": {
           "align": "left"
          },
          "hovermode": "closest",
          "mapbox": {
           "style": "light"
          },
          "paper_bgcolor": "white",
          "plot_bgcolor": "#E5ECF6",
          "polar": {
           "angularaxis": {
            "gridcolor": "white",
            "linecolor": "white",
            "ticks": ""
           },
           "bgcolor": "#E5ECF6",
           "radialaxis": {
            "gridcolor": "white",
            "linecolor": "white",
            "ticks": ""
           }
          },
          "scene": {
           "xaxis": {
            "backgroundcolor": "#E5ECF6",
            "gridcolor": "white",
            "gridwidth": 2,
            "linecolor": "white",
            "showbackground": true,
            "ticks": "",
            "zerolinecolor": "white"
           },
           "yaxis": {
            "backgroundcolor": "#E5ECF6",
            "gridcolor": "white",
            "gridwidth": 2,
            "linecolor": "white",
            "showbackground": true,
            "ticks": "",
            "zerolinecolor": "white"
           },
           "zaxis": {
            "backgroundcolor": "#E5ECF6",
            "gridcolor": "white",
            "gridwidth": 2,
            "linecolor": "white",
            "showbackground": true,
            "ticks": "",
            "zerolinecolor": "white"
           }
          },
          "shapedefaults": {
           "line": {
            "color": "#2a3f5f"
           }
          },
          "ternary": {
           "aaxis": {
            "gridcolor": "white",
            "linecolor": "white",
            "ticks": ""
           },
           "baxis": {
            "gridcolor": "white",
            "linecolor": "white",
            "ticks": ""
           },
           "bgcolor": "#E5ECF6",
           "caxis": {
            "gridcolor": "white",
            "linecolor": "white",
            "ticks": ""
           }
          },
          "title": {
           "x": 0.05
          },
          "xaxis": {
           "automargin": true,
           "gridcolor": "white",
           "linecolor": "white",
           "ticks": "",
           "title": {
            "standoff": 15
           },
           "zerolinecolor": "white",
           "zerolinewidth": 2
          },
          "yaxis": {
           "automargin": true,
           "gridcolor": "white",
           "linecolor": "white",
           "ticks": "",
           "title": {
            "standoff": 15
           },
           "zerolinecolor": "white",
           "zerolinewidth": 2
          }
         }
        },
        "title": {
         "text": "#spindles for each patient, colored by sleep stage",
         "x": 0.5
        },
        "xaxis": {
         "anchor": "y",
         "domain": [
          0,
          1
         ],
         "title": {
          "text": "Codigo"
         }
        },
        "yaxis": {
         "anchor": "x",
         "domain": [
          0,
          1
         ],
         "title": {
          "text": "count"
         }
        }
       }
      }
     },
     "metadata": {},
     "output_type": "display_data"
    }
   ],
   "source": [
    "fig=px.bar(aux,x='Codigo',y='count',color='Fase',barmode='group')\n",
    "fig.update_layout(title_text='#spindles for each patient, colored by sleep stage', title_x=0.5)\n",
    "fig.show()"
   ]
  },
  {
   "cell_type": "markdown",
   "metadata": {},
   "source": [
    "### correlations"
   ]
  },
  {
   "cell_type": "code",
   "execution_count": 30,
   "metadata": {},
   "outputs": [
    {
     "data": {
      "text/html": [
       "<div>\n",
       "<style scoped>\n",
       "    .dataframe tbody tr th:only-of-type {\n",
       "        vertical-align: middle;\n",
       "    }\n",
       "\n",
       "    .dataframe tbody tr th {\n",
       "        vertical-align: top;\n",
       "    }\n",
       "\n",
       "    .dataframe thead th {\n",
       "        text-align: right;\n",
       "    }\n",
       "</style>\n",
       "<table border=\"1\" class=\"dataframe\">\n",
       "  <thead>\n",
       "    <tr style=\"text-align: right;\">\n",
       "      <th></th>\n",
       "      <th>spindleCount</th>\n",
       "    </tr>\n",
       "    <tr>\n",
       "      <th>Codigo</th>\n",
       "      <th></th>\n",
       "    </tr>\n",
       "  </thead>\n",
       "  <tbody>\n",
       "    <tr>\n",
       "      <th>COG001</th>\n",
       "      <td>214</td>\n",
       "    </tr>\n",
       "    <tr>\n",
       "      <th>COG002</th>\n",
       "      <td>240</td>\n",
       "    </tr>\n",
       "    <tr>\n",
       "      <th>COG003</th>\n",
       "      <td>849</td>\n",
       "    </tr>\n",
       "    <tr>\n",
       "      <th>COG004</th>\n",
       "      <td>419</td>\n",
       "    </tr>\n",
       "    <tr>\n",
       "      <th>COG005</th>\n",
       "      <td>316</td>\n",
       "    </tr>\n",
       "    <tr>\n",
       "      <th>COG006</th>\n",
       "      <td>226</td>\n",
       "    </tr>\n",
       "    <tr>\n",
       "      <th>COG007</th>\n",
       "      <td>372</td>\n",
       "    </tr>\n",
       "    <tr>\n",
       "      <th>COG008</th>\n",
       "      <td>47</td>\n",
       "    </tr>\n",
       "    <tr>\n",
       "      <th>COG009</th>\n",
       "      <td>102</td>\n",
       "    </tr>\n",
       "  </tbody>\n",
       "</table>\n",
       "</div>"
      ],
      "text/plain": [
       "        spindleCount\n",
       "Codigo              \n",
       "COG001           214\n",
       "COG002           240\n",
       "COG003           849\n",
       "COG004           419\n",
       "COG005           316\n",
       "COG006           226\n",
       "COG007           372\n",
       "COG008            47\n",
       "COG009           102"
      ]
     },
     "execution_count": 30,
     "metadata": {},
     "output_type": "execute_result"
    }
   ],
   "source": [
    "aux=annotations\n",
    "aux['spindleCount']=0\n",
    "aux=aux.groupby(['Codigo']).count().reset_index().set_index('Codigo')\n",
    "aux=aux[['spindleCount']]\n",
    "aux"
   ]
  },
  {
   "cell_type": "code",
   "execution_count": 32,
   "metadata": {},
   "outputs": [],
   "source": [
    "merged=aux.join(patientInfo.set_index('Codigo'),on='Codigo')"
   ]
  },
  {
   "cell_type": "code",
   "execution_count": 42,
   "metadata": {},
   "outputs": [
    {
     "data": {
      "text/html": [
       "<div>\n",
       "<style scoped>\n",
       "    .dataframe tbody tr th:only-of-type {\n",
       "        vertical-align: middle;\n",
       "    }\n",
       "\n",
       "    .dataframe tbody tr th {\n",
       "        vertical-align: top;\n",
       "    }\n",
       "\n",
       "    .dataframe thead th {\n",
       "        text-align: right;\n",
       "    }\n",
       "</style>\n",
       "<table border=\"1\" class=\"dataframe\">\n",
       "  <thead>\n",
       "    <tr style=\"text-align: right;\">\n",
       "      <th></th>\n",
       "      <th>spindleCount</th>\n",
       "      <th>Edad</th>\n",
       "      <th>Peso</th>\n",
       "      <th>Talla</th>\n",
       "      <th>IMC</th>\n",
       "      <th>Fecha_PSG</th>\n",
       "      <th>IAH</th>\n",
       "      <th>Chervin</th>\n",
       "      <th>Chervin_SAHS</th>\n",
       "      <th>BAS-II</th>\n",
       "      <th>PPVT-III</th>\n",
       "      <th>ENFEN - F1</th>\n",
       "      <th>ENFEN - F2</th>\n",
       "      <th>ENFEN - S1</th>\n",
       "      <th>ENFEN - S2</th>\n",
       "      <th>ENFEN - A</th>\n",
       "      <th>ENFEN - I</th>\n",
       "    </tr>\n",
       "    <tr>\n",
       "      <th>Codigo</th>\n",
       "      <th></th>\n",
       "      <th></th>\n",
       "      <th></th>\n",
       "      <th></th>\n",
       "      <th></th>\n",
       "      <th></th>\n",
       "      <th></th>\n",
       "      <th></th>\n",
       "      <th></th>\n",
       "      <th></th>\n",
       "      <th></th>\n",
       "      <th></th>\n",
       "      <th></th>\n",
       "      <th></th>\n",
       "      <th></th>\n",
       "      <th></th>\n",
       "      <th></th>\n",
       "    </tr>\n",
       "  </thead>\n",
       "  <tbody>\n",
       "    <tr>\n",
       "      <th>COG001</th>\n",
       "      <td>214</td>\n",
       "      <td>6.7</td>\n",
       "      <td>28.0</td>\n",
       "      <td>124.0</td>\n",
       "      <td>18.2</td>\n",
       "      <td>28/01/2020</td>\n",
       "      <td>28.4</td>\n",
       "      <td>18.0</td>\n",
       "      <td>1.0</td>\n",
       "      <td>87</td>\n",
       "      <td>100</td>\n",
       "      <td>6</td>\n",
       "      <td>3</td>\n",
       "      <td>4</td>\n",
       "      <td>1</td>\n",
       "      <td>2</td>\n",
       "      <td>5</td>\n",
       "    </tr>\n",
       "    <tr>\n",
       "      <th>COG002</th>\n",
       "      <td>240</td>\n",
       "      <td>7.3</td>\n",
       "      <td>31.0</td>\n",
       "      <td>130.0</td>\n",
       "      <td>18.3</td>\n",
       "      <td>04/02/2020</td>\n",
       "      <td>25.2</td>\n",
       "      <td>6.0</td>\n",
       "      <td>0.0</td>\n",
       "      <td>121</td>\n",
       "      <td>98</td>\n",
       "      <td>5</td>\n",
       "      <td>9</td>\n",
       "      <td>6</td>\n",
       "      <td>8</td>\n",
       "      <td>5</td>\n",
       "      <td>7</td>\n",
       "    </tr>\n",
       "    <tr>\n",
       "      <th>COG003</th>\n",
       "      <td>849</td>\n",
       "      <td>8.7</td>\n",
       "      <td>40.5</td>\n",
       "      <td>132.0</td>\n",
       "      <td>23.2</td>\n",
       "      <td>25/02/2020</td>\n",
       "      <td>3.0</td>\n",
       "      <td>15.0</td>\n",
       "      <td>1.0</td>\n",
       "      <td>87</td>\n",
       "      <td>103</td>\n",
       "      <td>7</td>\n",
       "      <td>3</td>\n",
       "      <td>3</td>\n",
       "      <td>7</td>\n",
       "      <td>6</td>\n",
       "      <td>7</td>\n",
       "    </tr>\n",
       "    <tr>\n",
       "      <th>COG004</th>\n",
       "      <td>419</td>\n",
       "      <td>8.1</td>\n",
       "      <td>36.0</td>\n",
       "      <td>138.0</td>\n",
       "      <td>18.9</td>\n",
       "      <td>26/02/2020</td>\n",
       "      <td>1.6</td>\n",
       "      <td>7.0</td>\n",
       "      <td>0.0</td>\n",
       "      <td>102</td>\n",
       "      <td>108</td>\n",
       "      <td>4</td>\n",
       "      <td>7</td>\n",
       "      <td>5</td>\n",
       "      <td>6</td>\n",
       "      <td>4</td>\n",
       "      <td>4</td>\n",
       "    </tr>\n",
       "    <tr>\n",
       "      <th>COG005</th>\n",
       "      <td>316</td>\n",
       "      <td>9.6</td>\n",
       "      <td>33.8</td>\n",
       "      <td>138.0</td>\n",
       "      <td>17.7</td>\n",
       "      <td>04/03/2020</td>\n",
       "      <td>6.6</td>\n",
       "      <td>5.0</td>\n",
       "      <td>0.0</td>\n",
       "      <td>55</td>\n",
       "      <td>89</td>\n",
       "      <td>1</td>\n",
       "      <td>5</td>\n",
       "      <td>7</td>\n",
       "      <td>5</td>\n",
       "      <td>2</td>\n",
       "      <td>6</td>\n",
       "    </tr>\n",
       "    <tr>\n",
       "      <th>COG006</th>\n",
       "      <td>226</td>\n",
       "      <td>7.6</td>\n",
       "      <td>28.0</td>\n",
       "      <td>125.0</td>\n",
       "      <td>17.9</td>\n",
       "      <td>05/03/2020</td>\n",
       "      <td>10.9</td>\n",
       "      <td>9.0</td>\n",
       "      <td>1.0</td>\n",
       "      <td>109</td>\n",
       "      <td>96</td>\n",
       "      <td>5</td>\n",
       "      <td>8</td>\n",
       "      <td>7</td>\n",
       "      <td>5</td>\n",
       "      <td>4</td>\n",
       "      <td>10</td>\n",
       "    </tr>\n",
       "    <tr>\n",
       "      <th>COG007</th>\n",
       "      <td>372</td>\n",
       "      <td>7.5</td>\n",
       "      <td>32.0</td>\n",
       "      <td>135.0</td>\n",
       "      <td>17.6</td>\n",
       "      <td>10/03/2020</td>\n",
       "      <td>3.0</td>\n",
       "      <td>15.0</td>\n",
       "      <td>1.0</td>\n",
       "      <td>95</td>\n",
       "      <td>101</td>\n",
       "      <td>3</td>\n",
       "      <td>6</td>\n",
       "      <td>3</td>\n",
       "      <td>1</td>\n",
       "      <td>3</td>\n",
       "      <td>7</td>\n",
       "    </tr>\n",
       "    <tr>\n",
       "      <th>COG008</th>\n",
       "      <td>47</td>\n",
       "      <td>6.4</td>\n",
       "      <td>17.0</td>\n",
       "      <td>113.0</td>\n",
       "      <td>13.3</td>\n",
       "      <td>11/03/2020</td>\n",
       "      <td>3.7</td>\n",
       "      <td>11.0</td>\n",
       "      <td>1.0</td>\n",
       "      <td>109</td>\n",
       "      <td>112</td>\n",
       "      <td>6</td>\n",
       "      <td>5</td>\n",
       "      <td>8</td>\n",
       "      <td>5</td>\n",
       "      <td>3</td>\n",
       "      <td>7</td>\n",
       "    </tr>\n",
       "    <tr>\n",
       "      <th>COG009</th>\n",
       "      <td>102</td>\n",
       "      <td>6.6</td>\n",
       "      <td>23.0</td>\n",
       "      <td>127.0</td>\n",
       "      <td>14.3</td>\n",
       "      <td>12/03/2020</td>\n",
       "      <td>27.4</td>\n",
       "      <td>15.0</td>\n",
       "      <td>1.0</td>\n",
       "      <td>98</td>\n",
       "      <td>107</td>\n",
       "      <td>5</td>\n",
       "      <td>5</td>\n",
       "      <td>6</td>\n",
       "      <td>1</td>\n",
       "      <td>5</td>\n",
       "      <td>7</td>\n",
       "    </tr>\n",
       "  </tbody>\n",
       "</table>\n",
       "</div>"
      ],
      "text/plain": [
       "        spindleCount  Edad  Peso  Talla   IMC   Fecha_PSG   IAH  Chervin  \\\n",
       "Codigo                                                                     \n",
       "COG001           214   6.7  28.0  124.0  18.2  28/01/2020  28.4     18.0   \n",
       "COG002           240   7.3  31.0  130.0  18.3  04/02/2020  25.2      6.0   \n",
       "COG003           849   8.7  40.5  132.0  23.2  25/02/2020   3.0     15.0   \n",
       "COG004           419   8.1  36.0  138.0  18.9  26/02/2020   1.6      7.0   \n",
       "COG005           316   9.6  33.8  138.0  17.7  04/03/2020   6.6      5.0   \n",
       "COG006           226   7.6  28.0  125.0  17.9  05/03/2020  10.9      9.0   \n",
       "COG007           372   7.5  32.0  135.0  17.6  10/03/2020   3.0     15.0   \n",
       "COG008            47   6.4  17.0  113.0  13.3  11/03/2020   3.7     11.0   \n",
       "COG009           102   6.6  23.0  127.0  14.3  12/03/2020  27.4     15.0   \n",
       "\n",
       "        Chervin_SAHS  BAS-II  PPVT-III  ENFEN - F1  ENFEN - F2  ENFEN - S1  \\\n",
       "Codigo                                                                       \n",
       "COG001           1.0      87       100           6           3           4   \n",
       "COG002           0.0     121        98           5           9           6   \n",
       "COG003           1.0      87       103           7           3           3   \n",
       "COG004           0.0     102       108           4           7           5   \n",
       "COG005           0.0      55        89           1           5           7   \n",
       "COG006           1.0     109        96           5           8           7   \n",
       "COG007           1.0      95       101           3           6           3   \n",
       "COG008           1.0     109       112           6           5           8   \n",
       "COG009           1.0      98       107           5           5           6   \n",
       "\n",
       "        ENFEN - S2  ENFEN - A  ENFEN - I  \n",
       "Codigo                                    \n",
       "COG001           1          2          5  \n",
       "COG002           8          5          7  \n",
       "COG003           7          6          7  \n",
       "COG004           6          4          4  \n",
       "COG005           5          2          6  \n",
       "COG006           5          4         10  \n",
       "COG007           1          3          7  \n",
       "COG008           5          3          7  \n",
       "COG009           1          5          7  "
      ]
     },
     "execution_count": 42,
     "metadata": {},
     "output_type": "execute_result"
    }
   ],
   "source": [
    "merged"
   ]
  },
  {
   "cell_type": "code",
   "execution_count": 33,
   "metadata": {},
   "outputs": [],
   "source": [
    "r=merged.corr(method='spearman')"
   ]
  },
  {
   "cell_type": "code",
   "execution_count": 44,
   "metadata": {},
   "outputs": [],
   "source": [
    "from scipy.stats import spearmanr\n",
    "def spearmanr_pval(x,y):\n",
    "        return spearmanr(x,y)[1]\n",
    "\n",
    "def spearmanr_r(x,y):\n",
    "        return spearmanr(x,y)[0]\n",
    "\n",
    "r_scipy=merged.corr(method=spearmanr_r)"
   ]
  },
  {
   "cell_type": "code",
   "execution_count": 36,
   "metadata": {},
   "outputs": [],
   "source": [
    "pval=merged.corr(method=spearmanr_pval)"
   ]
  },
  {
   "cell_type": "code",
   "execution_count": 37,
   "metadata": {},
   "outputs": [
    {
     "data": {
      "text/html": [
       "<div>\n",
       "<style scoped>\n",
       "    .dataframe tbody tr th:only-of-type {\n",
       "        vertical-align: middle;\n",
       "    }\n",
       "\n",
       "    .dataframe tbody tr th {\n",
       "        vertical-align: top;\n",
       "    }\n",
       "\n",
       "    .dataframe thead th {\n",
       "        text-align: right;\n",
       "    }\n",
       "</style>\n",
       "<table border=\"1\" class=\"dataframe\">\n",
       "  <thead>\n",
       "    <tr style=\"text-align: right;\">\n",
       "      <th></th>\n",
       "      <th>spindleCount</th>\n",
       "      <th>Edad</th>\n",
       "      <th>Peso</th>\n",
       "      <th>Talla</th>\n",
       "      <th>IMC</th>\n",
       "      <th>IAH</th>\n",
       "      <th>Chervin</th>\n",
       "      <th>Chervin_SAHS</th>\n",
       "      <th>BAS-II</th>\n",
       "      <th>PPVT-III</th>\n",
       "      <th>ENFEN - F1</th>\n",
       "      <th>ENFEN - F2</th>\n",
       "      <th>ENFEN - S1</th>\n",
       "      <th>ENFEN - S2</th>\n",
       "      <th>ENFEN - A</th>\n",
       "      <th>ENFEN - I</th>\n",
       "    </tr>\n",
       "  </thead>\n",
       "  <tbody>\n",
       "    <tr>\n",
       "      <th>spindleCount</th>\n",
       "      <td>1.000000</td>\n",
       "      <td>0.005266</td>\n",
       "      <td>0.000004</td>\n",
       "      <td>0.006788</td>\n",
       "      <td>0.029818</td>\n",
       "      <td>0.041242</td>\n",
       "      <td>0.630967</td>\n",
       "      <td>0.333899</td>\n",
       "      <td>0.363871</td>\n",
       "      <td>0.732368</td>\n",
       "      <td>0.507201</td>\n",
       "      <td>0.861802</td>\n",
       "      <td>0.067296</td>\n",
       "      <td>0.206349</td>\n",
       "      <td>0.480225</td>\n",
       "      <td>0.538609</td>\n",
       "    </tr>\n",
       "    <tr>\n",
       "      <th>Edad</th>\n",
       "      <td>0.005266</td>\n",
       "      <td>1.000000</td>\n",
       "      <td>0.001816</td>\n",
       "      <td>0.011909</td>\n",
       "      <td>0.099186</td>\n",
       "      <td>0.176760</td>\n",
       "      <td>0.235069</td>\n",
       "      <td>0.216838</td>\n",
       "      <td>0.201070</td>\n",
       "      <td>0.205386</td>\n",
       "      <td>0.297311</td>\n",
       "      <td>0.913423</td>\n",
       "      <td>0.540444</td>\n",
       "      <td>0.267920</td>\n",
       "      <td>0.913795</td>\n",
       "      <td>0.604372</td>\n",
       "    </tr>\n",
       "    <tr>\n",
       "      <th>Peso</th>\n",
       "      <td>0.000004</td>\n",
       "      <td>0.001816</td>\n",
       "      <td>1.000000</td>\n",
       "      <td>0.004564</td>\n",
       "      <td>0.021320</td>\n",
       "      <td>0.073778</td>\n",
       "      <td>0.521999</td>\n",
       "      <td>0.214669</td>\n",
       "      <td>0.237353</td>\n",
       "      <td>0.635383</td>\n",
       "      <td>0.512727</td>\n",
       "      <td>0.956481</td>\n",
       "      <td>0.107512</td>\n",
       "      <td>0.176755</td>\n",
       "      <td>0.598060</td>\n",
       "      <td>0.344864</td>\n",
       "    </tr>\n",
       "    <tr>\n",
       "      <th>Talla</th>\n",
       "      <td>0.006788</td>\n",
       "      <td>0.011909</td>\n",
       "      <td>0.004564</td>\n",
       "      <td>1.000000</td>\n",
       "      <td>0.306299</td>\n",
       "      <td>0.101727</td>\n",
       "      <td>0.213246</td>\n",
       "      <td>0.062465</td>\n",
       "      <td>0.313421</td>\n",
       "      <td>0.619806</td>\n",
       "      <td>0.038717</td>\n",
       "      <td>0.612148</td>\n",
       "      <td>0.353315</td>\n",
       "      <td>0.470241</td>\n",
       "      <td>0.878984</td>\n",
       "      <td>0.281713</td>\n",
       "    </tr>\n",
       "    <tr>\n",
       "      <th>IMC</th>\n",
       "      <td>0.029818</td>\n",
       "      <td>0.099186</td>\n",
       "      <td>0.021320</td>\n",
       "      <td>0.306299</td>\n",
       "      <td>1.000000</td>\n",
       "      <td>0.543967</td>\n",
       "      <td>0.794577</td>\n",
       "      <td>0.333899</td>\n",
       "      <td>0.813018</td>\n",
       "      <td>0.668231</td>\n",
       "      <td>0.582489</td>\n",
       "      <td>0.913423</td>\n",
       "      <td>0.148292</td>\n",
       "      <td>0.055246</td>\n",
       "      <td>0.277170</td>\n",
       "      <td>0.445610</td>\n",
       "    </tr>\n",
       "    <tr>\n",
       "      <th>IAH</th>\n",
       "      <td>0.041242</td>\n",
       "      <td>0.176760</td>\n",
       "      <td>0.073778</td>\n",
       "      <td>0.101727</td>\n",
       "      <td>0.543967</td>\n",
       "      <td>1.000000</td>\n",
       "      <td>0.567177</td>\n",
       "      <td>0.636808</td>\n",
       "      <td>0.905616</td>\n",
       "      <td>0.294990</td>\n",
       "      <td>0.565453</td>\n",
       "      <td>0.767499</td>\n",
       "      <td>0.523841</td>\n",
       "      <td>0.335818</td>\n",
       "      <td>0.735111</td>\n",
       "      <td>0.742114</td>\n",
       "    </tr>\n",
       "    <tr>\n",
       "      <th>Chervin</th>\n",
       "      <td>0.630967</td>\n",
       "      <td>0.235069</td>\n",
       "      <td>0.521999</td>\n",
       "      <td>0.213246</td>\n",
       "      <td>0.794577</td>\n",
       "      <td>0.567177</td>\n",
       "      <td>1.000000</td>\n",
       "      <td>0.005028</td>\n",
       "      <td>0.434204</td>\n",
       "      <td>0.347080</td>\n",
       "      <td>0.121596</td>\n",
       "      <td>0.072861</td>\n",
       "      <td>0.111740</td>\n",
       "      <td>0.089922</td>\n",
       "      <td>0.964885</td>\n",
       "      <td>0.886804</td>\n",
       "    </tr>\n",
       "    <tr>\n",
       "      <th>Chervin_SAHS</th>\n",
       "      <td>0.333899</td>\n",
       "      <td>0.216838</td>\n",
       "      <td>0.214669</td>\n",
       "      <td>0.062465</td>\n",
       "      <td>0.333899</td>\n",
       "      <td>0.636808</td>\n",
       "      <td>0.005028</td>\n",
       "      <td>1.000000</td>\n",
       "      <td>0.813781</td>\n",
       "      <td>0.475797</td>\n",
       "      <td>0.117258</td>\n",
       "      <td>0.205843</td>\n",
       "      <td>0.633892</td>\n",
       "      <td>0.111416</td>\n",
       "      <td>0.905596</td>\n",
       "      <td>0.170471</td>\n",
       "    </tr>\n",
       "    <tr>\n",
       "      <th>BAS-II</th>\n",
       "      <td>0.363871</td>\n",
       "      <td>0.201070</td>\n",
       "      <td>0.237353</td>\n",
       "      <td>0.313421</td>\n",
       "      <td>0.813018</td>\n",
       "      <td>0.905616</td>\n",
       "      <td>0.434204</td>\n",
       "      <td>0.813781</td>\n",
       "      <td>1.000000</td>\n",
       "      <td>0.557140</td>\n",
       "      <td>0.758096</td>\n",
       "      <td>0.020767</td>\n",
       "      <td>0.264133</td>\n",
       "      <td>0.333624</td>\n",
       "      <td>0.312586</td>\n",
       "      <td>0.222967</td>\n",
       "    </tr>\n",
       "    <tr>\n",
       "      <th>PPVT-III</th>\n",
       "      <td>0.732368</td>\n",
       "      <td>0.205386</td>\n",
       "      <td>0.635383</td>\n",
       "      <td>0.619806</td>\n",
       "      <td>0.668231</td>\n",
       "      <td>0.294990</td>\n",
       "      <td>0.347080</td>\n",
       "      <td>0.475797</td>\n",
       "      <td>0.557140</td>\n",
       "      <td>1.000000</td>\n",
       "      <td>0.332630</td>\n",
       "      <td>0.567119</td>\n",
       "      <td>0.795442</td>\n",
       "      <td>0.929780</td>\n",
       "      <td>0.494577</td>\n",
       "      <td>0.707689</td>\n",
       "    </tr>\n",
       "    <tr>\n",
       "      <th>ENFEN - F1</th>\n",
       "      <td>0.507201</td>\n",
       "      <td>0.297311</td>\n",
       "      <td>0.512727</td>\n",
       "      <td>0.038717</td>\n",
       "      <td>0.582489</td>\n",
       "      <td>0.565453</td>\n",
       "      <td>0.121596</td>\n",
       "      <td>0.117258</td>\n",
       "      <td>0.758096</td>\n",
       "      <td>0.332630</td>\n",
       "      <td>1.000000</td>\n",
       "      <td>0.179225</td>\n",
       "      <td>0.774063</td>\n",
       "      <td>0.666810</td>\n",
       "      <td>0.336052</td>\n",
       "      <td>0.562680</td>\n",
       "    </tr>\n",
       "    <tr>\n",
       "      <th>ENFEN - F2</th>\n",
       "      <td>0.861802</td>\n",
       "      <td>0.913423</td>\n",
       "      <td>0.956481</td>\n",
       "      <td>0.612148</td>\n",
       "      <td>0.913423</td>\n",
       "      <td>0.767499</td>\n",
       "      <td>0.072861</td>\n",
       "      <td>0.205843</td>\n",
       "      <td>0.020767</td>\n",
       "      <td>0.567119</td>\n",
       "      <td>0.179225</td>\n",
       "      <td>1.000000</td>\n",
       "      <td>0.465250</td>\n",
       "      <td>0.352223</td>\n",
       "      <td>0.599539</td>\n",
       "      <td>0.435421</td>\n",
       "    </tr>\n",
       "    <tr>\n",
       "      <th>ENFEN - S1</th>\n",
       "      <td>0.067296</td>\n",
       "      <td>0.540444</td>\n",
       "      <td>0.107512</td>\n",
       "      <td>0.353315</td>\n",
       "      <td>0.148292</td>\n",
       "      <td>0.523841</td>\n",
       "      <td>0.111740</td>\n",
       "      <td>0.633892</td>\n",
       "      <td>0.264133</td>\n",
       "      <td>0.795442</td>\n",
       "      <td>0.774063</td>\n",
       "      <td>0.465250</td>\n",
       "      <td>1.000000</td>\n",
       "      <td>0.840657</td>\n",
       "      <td>0.556121</td>\n",
       "      <td>0.533290</td>\n",
       "    </tr>\n",
       "    <tr>\n",
       "      <th>ENFEN - S2</th>\n",
       "      <td>0.206349</td>\n",
       "      <td>0.267920</td>\n",
       "      <td>0.176755</td>\n",
       "      <td>0.470241</td>\n",
       "      <td>0.055246</td>\n",
       "      <td>0.335818</td>\n",
       "      <td>0.089922</td>\n",
       "      <td>0.111416</td>\n",
       "      <td>0.333624</td>\n",
       "      <td>0.929780</td>\n",
       "      <td>0.666810</td>\n",
       "      <td>0.352223</td>\n",
       "      <td>0.840657</td>\n",
       "      <td>1.000000</td>\n",
       "      <td>0.137612</td>\n",
       "      <td>0.923093</td>\n",
       "    </tr>\n",
       "    <tr>\n",
       "      <th>ENFEN - A</th>\n",
       "      <td>0.480225</td>\n",
       "      <td>0.913795</td>\n",
       "      <td>0.598060</td>\n",
       "      <td>0.878984</td>\n",
       "      <td>0.277170</td>\n",
       "      <td>0.735111</td>\n",
       "      <td>0.964885</td>\n",
       "      <td>0.905596</td>\n",
       "      <td>0.312586</td>\n",
       "      <td>0.494577</td>\n",
       "      <td>0.336052</td>\n",
       "      <td>0.599539</td>\n",
       "      <td>0.556121</td>\n",
       "      <td>0.137612</td>\n",
       "      <td>1.000000</td>\n",
       "      <td>0.240272</td>\n",
       "    </tr>\n",
       "    <tr>\n",
       "      <th>ENFEN - I</th>\n",
       "      <td>0.538609</td>\n",
       "      <td>0.604372</td>\n",
       "      <td>0.344864</td>\n",
       "      <td>0.281713</td>\n",
       "      <td>0.445610</td>\n",
       "      <td>0.742114</td>\n",
       "      <td>0.886804</td>\n",
       "      <td>0.170471</td>\n",
       "      <td>0.222967</td>\n",
       "      <td>0.707689</td>\n",
       "      <td>0.562680</td>\n",
       "      <td>0.435421</td>\n",
       "      <td>0.533290</td>\n",
       "      <td>0.923093</td>\n",
       "      <td>0.240272</td>\n",
       "      <td>1.000000</td>\n",
       "    </tr>\n",
       "  </tbody>\n",
       "</table>\n",
       "</div>"
      ],
      "text/plain": [
       "              spindleCount      Edad      Peso     Talla       IMC       IAH  \\\n",
       "spindleCount      1.000000  0.005266  0.000004  0.006788  0.029818  0.041242   \n",
       "Edad              0.005266  1.000000  0.001816  0.011909  0.099186  0.176760   \n",
       "Peso              0.000004  0.001816  1.000000  0.004564  0.021320  0.073778   \n",
       "Talla             0.006788  0.011909  0.004564  1.000000  0.306299  0.101727   \n",
       "IMC               0.029818  0.099186  0.021320  0.306299  1.000000  0.543967   \n",
       "IAH               0.041242  0.176760  0.073778  0.101727  0.543967  1.000000   \n",
       "Chervin           0.630967  0.235069  0.521999  0.213246  0.794577  0.567177   \n",
       "Chervin_SAHS      0.333899  0.216838  0.214669  0.062465  0.333899  0.636808   \n",
       "BAS-II            0.363871  0.201070  0.237353  0.313421  0.813018  0.905616   \n",
       "PPVT-III          0.732368  0.205386  0.635383  0.619806  0.668231  0.294990   \n",
       "ENFEN - F1        0.507201  0.297311  0.512727  0.038717  0.582489  0.565453   \n",
       "ENFEN - F2        0.861802  0.913423  0.956481  0.612148  0.913423  0.767499   \n",
       "ENFEN - S1        0.067296  0.540444  0.107512  0.353315  0.148292  0.523841   \n",
       "ENFEN - S2        0.206349  0.267920  0.176755  0.470241  0.055246  0.335818   \n",
       "ENFEN - A         0.480225  0.913795  0.598060  0.878984  0.277170  0.735111   \n",
       "ENFEN - I         0.538609  0.604372  0.344864  0.281713  0.445610  0.742114   \n",
       "\n",
       "               Chervin  Chervin_SAHS    BAS-II  PPVT-III  ENFEN - F1  \\\n",
       "spindleCount  0.630967      0.333899  0.363871  0.732368    0.507201   \n",
       "Edad          0.235069      0.216838  0.201070  0.205386    0.297311   \n",
       "Peso          0.521999      0.214669  0.237353  0.635383    0.512727   \n",
       "Talla         0.213246      0.062465  0.313421  0.619806    0.038717   \n",
       "IMC           0.794577      0.333899  0.813018  0.668231    0.582489   \n",
       "IAH           0.567177      0.636808  0.905616  0.294990    0.565453   \n",
       "Chervin       1.000000      0.005028  0.434204  0.347080    0.121596   \n",
       "Chervin_SAHS  0.005028      1.000000  0.813781  0.475797    0.117258   \n",
       "BAS-II        0.434204      0.813781  1.000000  0.557140    0.758096   \n",
       "PPVT-III      0.347080      0.475797  0.557140  1.000000    0.332630   \n",
       "ENFEN - F1    0.121596      0.117258  0.758096  0.332630    1.000000   \n",
       "ENFEN - F2    0.072861      0.205843  0.020767  0.567119    0.179225   \n",
       "ENFEN - S1    0.111740      0.633892  0.264133  0.795442    0.774063   \n",
       "ENFEN - S2    0.089922      0.111416  0.333624  0.929780    0.666810   \n",
       "ENFEN - A     0.964885      0.905596  0.312586  0.494577    0.336052   \n",
       "ENFEN - I     0.886804      0.170471  0.222967  0.707689    0.562680   \n",
       "\n",
       "              ENFEN - F2  ENFEN - S1  ENFEN - S2  ENFEN - A  ENFEN - I  \n",
       "spindleCount    0.861802    0.067296    0.206349   0.480225   0.538609  \n",
       "Edad            0.913423    0.540444    0.267920   0.913795   0.604372  \n",
       "Peso            0.956481    0.107512    0.176755   0.598060   0.344864  \n",
       "Talla           0.612148    0.353315    0.470241   0.878984   0.281713  \n",
       "IMC             0.913423    0.148292    0.055246   0.277170   0.445610  \n",
       "IAH             0.767499    0.523841    0.335818   0.735111   0.742114  \n",
       "Chervin         0.072861    0.111740    0.089922   0.964885   0.886804  \n",
       "Chervin_SAHS    0.205843    0.633892    0.111416   0.905596   0.170471  \n",
       "BAS-II          0.020767    0.264133    0.333624   0.312586   0.222967  \n",
       "PPVT-III        0.567119    0.795442    0.929780   0.494577   0.707689  \n",
       "ENFEN - F1      0.179225    0.774063    0.666810   0.336052   0.562680  \n",
       "ENFEN - F2      1.000000    0.465250    0.352223   0.599539   0.435421  \n",
       "ENFEN - S1      0.465250    1.000000    0.840657   0.556121   0.533290  \n",
       "ENFEN - S2      0.352223    0.840657    1.000000   0.137612   0.923093  \n",
       "ENFEN - A       0.599539    0.556121    0.137612   1.000000   0.240272  \n",
       "ENFEN - I       0.435421    0.533290    0.923093   0.240272   1.000000  "
      ]
     },
     "execution_count": 37,
     "metadata": {},
     "output_type": "execute_result"
    }
   ],
   "source": [
    "pval"
   ]
  },
  {
   "cell_type": "code",
   "execution_count": 40,
   "metadata": {},
   "outputs": [
    {
     "data": {
      "text/plain": [
       "Text(0.5, 1.0, 'Spearman Correlation')"
      ]
     },
     "execution_count": 40,
     "metadata": {},
     "output_type": "execute_result"
    },
    {
     "data": {
      "image/png": "[encoded data removed]",
      "text/plain": [
       "<Figure size 1080x576 with 2 Axes>"
      ]
     },
     "metadata": {
      "needs_background": "light"
     },
     "output_type": "display_data"
    }
   ],
   "source": [
    "import seaborn as sns # For pairplots and heatmaps\n",
    "plt.figure(figsize=(15,8))\n",
    "heatmap = sns.heatmap(r, vmin=-1, vmax=1, annot=True)\n",
    "plt.title(\"Spearman Correlation\")"
   ]
  },
  {
   "cell_type": "code",
   "execution_count": 45,
   "metadata": {},
   "outputs": [
    {
     "data": {
      "text/plain": [
       "Text(0.5, 1.0, 'Spearman Correlation using scipy')"
      ]
     },
     "execution_count": 45,
     "metadata": {},
     "output_type": "execute_result"
    },
    {
     "data": {
      "image/png": "[encoded data removed]",
      "text/plain": [
       "<Figure size 1080x576 with 2 Axes>"
      ]
     },
     "metadata": {
      "needs_background": "light"
     },
     "output_type": "display_data"
    }
   ],
   "source": [
    "# double check\n",
    "plt.figure(figsize=(15,8))\n",
    "heatmap = sns.heatmap(r, vmin=-1, vmax=1, annot=True)\n",
    "plt.title(\"Spearman Correlation using scipy\")"
   ]
  },
  {
   "cell_type": "code",
   "execution_count": 41,
   "metadata": {},
   "outputs": [
    {
     "data": {
      "text/plain": [
       "Text(0.5, 1.0, 'Spearman Correlation p-values')"
      ]
     },
     "execution_count": 41,
     "metadata": {},
     "output_type": "execute_result"
    },
    {
     "data": {
      "image/png": "[encoded data removed]",
      "text/plain": [
       "<Figure size 1080x576 with 2 Axes>"
      ]
     },
     "metadata": {
      "needs_background": "light"
     },
     "output_type": "display_data"
    }
   ],
   "source": [
    "plt.figure(figsize=(15,8))\n",
    "heatmap = sns.heatmap(pval, vmin=-1, vmax=1, annot=True)\n",
    "plt.title(\"Spearman Correlation p-values\")"
   ]
  },
  {
   "cell_type": "code",
   "execution_count": 65,
   "metadata": {},
   "outputs": [],
   "source": [
    "merged['Codigo']=merged.index"
   ]
  },
  {
   "cell_type": "code",
   "execution_count": 66,
   "metadata": {},
   "outputs": [
    {
     "data": {
      "application/vnd.plotly.v1+json": {
       "config": {
        "plotlyServerURL": "https://plot.ly"
       },
       "data": [
        {
         "hovertemplate": "Peso=%{x}<br>spindleCount=%{y}<br>Codigo=%{text}<extra></extra>",
         "legendgroup": "",
         "marker": {
          "color": "#636efa",
          "symbol": "circle"
         },
         "mode": "markers+text",
         "name": "",
         "orientation": "v",
         "showlegend": false,
         "text": [
          "COG001",
          "COG002",
          "COG003",
          "COG004",
          "COG005",
          "COG006",
          "COG007",
          "COG008",
          "COG009"
         ],
         "type": "scatter",
         "x": [
          28,
          31,
          40.5,
          36,
          33.8,
          28,
          32,
          17,
          23
         ],
         "xaxis": "x",
         "y": [
          214,
          240,
          849,
          419,
          316,
          226,
          372,
          47,
          102
         ],
         "yaxis": "y"
        }
       ],
       "layout": {
        "legend": {
         "tracegroupgap": 0
        },
        "margin": {
         "t": 60
        },
        "template": {
         "data": {
          "bar": [
           {
            "error_x": {
             "color": "#2a3f5f"
            },
            "error_y": {
             "color": "#2a3f5f"
            },
            "marker": {
             "line": {
              "color": "#E5ECF6",
              "width": 0.5
             },
             "pattern": {
              "fillmode": "overlay",
              "size": 10,
              "solidity": 0.2
             }
            },
            "type": "bar"
           }
          ],
          "barpolar": [
           {
            "marker": {
             "line": {
              "color": "#E5ECF6",
              "width": 0.5
             },
             "pattern": {
              "fillmode": "overlay",
              "size": 10,
              "solidity": 0.2
             }
            },
            "type": "barpolar"
           }
          ],
          "carpet": [
           {
            "aaxis": {
             "endlinecolor": "#2a3f5f",
             "gridcolor": "white",
             "linecolor": "white",
             "minorgridcolor": "white",
             "startlinecolor": "#2a3f5f"
            },
            "baxis": {
             "endlinecolor": "#2a3f5f",
             "gridcolor": "white",
             "linecolor": "white",
             "minorgridcolor": "white",
             "startlinecolor": "#2a3f5f"
            },
            "type": "carpet"
           }
          ],
          "choropleth": [
           {
            "colorbar": {
             "outlinewidth": 0,
             "ticks": ""
            },
            "type": "choropleth"
           }
          ],
          "contour": [
           {
            "colorbar": {
             "outlinewidth": 0,
             "ticks": ""
            },
            "colorscale": [
             [
              0,
              "#0d0887"
             ],
             [
              0.1111111111111111,
              "#46039f"
             ],
             [
              0.2222222222222222,
              "#7201a8"
             ],
             [
              0.3333333333333333,
              "#9c179e"
             ],
             [
              0.4444444444444444,
              "#bd3786"
             ],
             [
              0.5555555555555556,
              "#d8576b"
             ],
             [
              0.6666666666666666,
              "#ed7953"
             ],
             [
              0.7777777777777778,
              "#fb9f3a"
             ],
             [
              0.8888888888888888,
              "#fdca26"
             ],
             [
              1,
              "#f0f921"
             ]
            ],
            "type": "contour"
           }
          ],
          "contourcarpet": [
           {
            "colorbar": {
             "outlinewidth": 0,
             "ticks": ""
            },
            "type": "contourcarpet"
           }
          ],
          "heatmap": [
           {
            "colorbar": {
             "outlinewidth": 0,
             "ticks": ""
            },
            "colorscale": [
             [
              0,
              "#0d0887"
             ],
             [
              0.1111111111111111,
              "#46039f"
             ],
             [
              0.2222222222222222,
              "#7201a8"
             ],
             [
              0.3333333333333333,
              "#9c179e"
             ],
             [
              0.4444444444444444,
              "#bd3786"
             ],
             [
              0.5555555555555556,
              "#d8576b"
             ],
             [
              0.6666666666666666,
              "#ed7953"
             ],
             [
              0.7777777777777778,
              "#fb9f3a"
             ],
             [
              0.8888888888888888,
              "#fdca26"
             ],
             [
              1,
              "#f0f921"
             ]
            ],
            "type": "heatmap"
           }
          ],
          "heatmapgl": [
           {
            "colorbar": {
             "outlinewidth": 0,
             "ticks": ""
            },
            "colorscale": [
             [
              0,
              "#0d0887"
             ],
             [
              0.1111111111111111,
              "#46039f"
             ],
             [
              0.2222222222222222,
              "#7201a8"
             ],
             [
              0.3333333333333333,
              "#9c179e"
             ],
             [
              0.4444444444444444,
              "#bd3786"
             ],
             [
              0.5555555555555556,
              "#d8576b"
             ],
             [
              0.6666666666666666,
              "#ed7953"
             ],
             [
              0.7777777777777778,
              "#fb9f3a"
             ],
             [
              0.8888888888888888,
              "#fdca26"
             ],
             [
              1,
              "#f0f921"
             ]
            ],
            "type": "heatmapgl"
           }
          ],
          "histogram": [
           {
            "marker": {
             "pattern": {
              "fillmode": "overlay",
              "size": 10,
              "solidity": 0.2
             }
            },
            "type": "histogram"
           }
          ],
          "histogram2d": [
           {
            "colorbar": {
             "outlinewidth": 0,
             "ticks": ""
            },
            "colorscale": [
             [
              0,
              "#0d0887"
             ],
             [
              0.1111111111111111,
              "#46039f"
             ],
             [
              0.2222222222222222,
              "#7201a8"
             ],
             [
              0.3333333333333333,
              "#9c179e"
             ],
             [
              0.4444444444444444,
              "#bd3786"
             ],
             [
              0.5555555555555556,
              "#d8576b"
             ],
             [
              0.6666666666666666,
              "#ed7953"
             ],
             [
              0.7777777777777778,
              "#fb9f3a"
             ],
             [
              0.8888888888888888,
              "#fdca26"
             ],
             [
              1,
              "#f0f921"
             ]
            ],
            "type": "histogram2d"
           }
          ],
          "histogram2dcontour": [
           {
            "colorbar": {
             "outlinewidth": 0,
             "ticks": ""
            },
            "colorscale": [
             [
              0,
              "#0d0887"
             ],
             [
              0.1111111111111111,
              "#46039f"
             ],
             [
              0.2222222222222222,
              "#7201a8"
             ],
             [
              0.3333333333333333,
              "#9c179e"
             ],
             [
              0.4444444444444444,
              "#bd3786"
             ],
             [
              0.5555555555555556,
              "#d8576b"
             ],
             [
              0.6666666666666666,
              "#ed7953"
             ],
             [
              0.7777777777777778,
              "#fb9f3a"
             ],
             [
              0.8888888888888888,
              "#fdca26"
             ],
             [
              1,
              "#f0f921"
             ]
            ],
            "type": "histogram2dcontour"
           }
          ],
          "mesh3d": [
           {
            "colorbar": {
             "outlinewidth": 0,
             "ticks": ""
            },
            "type": "mesh3d"
           }
          ],
          "parcoords": [
           {
            "line": {
             "colorbar": {
              "outlinewidth": 0,
              "ticks": ""
             }
            },
            "type": "parcoords"
           }
          ],
          "pie": [
           {
            "automargin": true,
            "type": "pie"
           }
          ],
          "scatter": [
           {
            "fillpattern": {
             "fillmode": "overlay",
             "size": 10,
             "solidity": 0.2
            },
            "type": "scatter"
           }
          ],
          "scatter3d": [
           {
            "line": {
             "colorbar": {
              "outlinewidth": 0,
              "ticks": ""
             }
            },
            "marker": {
             "colorbar": {
              "outlinewidth": 0,
              "ticks": ""
             }
            },
            "type": "scatter3d"
           }
          ],
          "scattercarpet": [
           {
            "marker": {
             "colorbar": {
              "outlinewidth": 0,
              "ticks": ""
             }
            },
            "type": "scattercarpet"
           }
          ],
          "scattergeo": [
           {
            "marker": {
             "colorbar": {
              "outlinewidth": 0,
              "ticks": ""
             }
            },
            "type": "scattergeo"
           }
          ],
          "scattergl": [
           {
            "marker": {
             "colorbar": {
              "outlinewidth": 0,
              "ticks": ""
             }
            },
            "type": "scattergl"
           }
          ],
          "scattermapbox": [
           {
            "marker": {
             "colorbar": {
              "outlinewidth": 0,
              "ticks": ""
             }
            },
            "type": "scattermapbox"
           }
          ],
          "scatterpolar": [
           {
            "marker": {
             "colorbar": {
              "outlinewidth": 0,
              "ticks": ""
             }
            },
            "type": "scatterpolar"
           }
          ],
          "scatterpolargl": [
           {
            "marker": {
             "colorbar": {
              "outlinewidth": 0,
              "ticks": ""
             }
            },
            "type": "scatterpolargl"
           }
          ],
          "scatterternary": [
           {
            "marker": {
             "colorbar": {
              "outlinewidth": 0,
              "ticks": ""
             }
            },
            "type": "scatterternary"
           }
          ],
          "surface": [
           {
            "colorbar": {
             "outlinewidth": 0,
             "ticks": ""
            },
            "colorscale": [
             [
              0,
              "#0d0887"
             ],
             [
              0.1111111111111111,
              "#46039f"
             ],
             [
              0.2222222222222222,
              "#7201a8"
             ],
             [
              0.3333333333333333,
              "#9c179e"
             ],
             [
              0.4444444444444444,
              "#bd3786"
             ],
             [
              0.5555555555555556,
              "#d8576b"
             ],
             [
              0.6666666666666666,
              "#ed7953"
             ],
             [
              0.7777777777777778,
              "#fb9f3a"
             ],
             [
              0.8888888888888888,
              "#fdca26"
             ],
             [
              1,
              "#f0f921"
             ]
            ],
            "type": "surface"
           }
          ],
          "table": [
           {
            "cells": {
             "fill": {
              "color": "#EBF0F8"
             },
             "line": {
              "color": "white"
             }
            },
            "header": {
             "fill": {
              "color": "#C8D4E3"
             },
             "line": {
              "color": "white"
             }
            },
            "type": "table"
           }
          ]
         },
         "layout": {
          "annotationdefaults": {
           "arrowcolor": "#2a3f5f",
           "arrowhead": 0,
           "arrowwidth": 1
          },
          "autotypenumbers": "strict",
          "coloraxis": {
           "colorbar": {
            "outlinewidth": 0,
            "ticks": ""
           }
          },
          "colorscale": {
           "diverging": [
            [
             0,
             "#8e0152"
            ],
            [
             0.1,
             "#c51b7d"
            ],
            [
             0.2,
             "#de77ae"
            ],
            [
             0.3,
             "#f1b6da"
            ],
            [
             0.4,
             "#fde0ef"
            ],
            [
             0.5,
             "#f7f7f7"
            ],
            [
             0.6,
             "#e6f5d0"
            ],
            [
             0.7,
             "#b8e186"
            ],
            [
             0.8,
             "#7fbc41"
            ],
            [
             0.9,
             "#4d9221"
            ],
            [
             1,
             "#276419"
            ]
           ],
           "sequential": [
            [
             0,
             "#0d0887"
            ],
            [
             0.1111111111111111,
             "#46039f"
            ],
            [
             0.2222222222222222,
             "#7201a8"
            ],
            [
             0.3333333333333333,
             "#9c179e"
            ],
            [
             0.4444444444444444,
             "#bd3786"
            ],
            [
             0.5555555555555556,
             "#d8576b"
            ],
            [
             0.6666666666666666,
             "#ed7953"
            ],
            [
             0.7777777777777778,
             "#fb9f3a"
            ],
            [
             0.8888888888888888,
             "#fdca26"
            ],
            [
             1,
             "#f0f921"
            ]
           ],
           "sequentialminus": [
            [
             0,
             "#0d0887"
            ],
            [
             0.1111111111111111,
             "#46039f"
            ],
            [
             0.2222222222222222,
             "#7201a8"
            ],
            [
             0.3333333333333333,
             "#9c179e"
            ],
            [
             0.4444444444444444,
             "#bd3786"
            ],
            [
             0.5555555555555556,
             "#d8576b"
            ],
            [
             0.6666666666666666,
             "#ed7953"
            ],
            [
             0.7777777777777778,
             "#fb9f3a"
            ],
            [
             0.8888888888888888,
             "#fdca26"
            ],
            [
             1,
             "#f0f921"
            ]
           ]
          },
          "colorway": [
           "#636efa",
           "#EF553B",
           "#00cc96",
           "#ab63fa",
           "#FFA15A",
           "#19d3f3",
           "#FF6692",
           "#B6E880",
           "#FF97FF",
           "#FECB52"
          ],
          "font": {
           "color": "#2a3f5f"
          },
          "geo": {
           "bgcolor": "white",
           "lakecolor": "white",
           "landcolor": "#E5ECF6",
           "showlakes": true,
           "showland": true,
           "subunitcolor": "white"
          },
          "hoverlabel": {
           "align": "left"
          },
          "hovermode": "closest",
          "mapbox": {
           "style": "light"
          },
          "paper_bgcolor": "white",
          "plot_bgcolor": "#E5ECF6",
          "polar": {
           "angularaxis": {
            "gridcolor": "white",
            "linecolor": "white",
            "ticks": ""
           },
           "bgcolor": "#E5ECF6",
           "radialaxis": {
            "gridcolor": "white",
            "linecolor": "white",
            "ticks": ""
           }
          },
          "scene": {
           "xaxis": {
            "backgroundcolor": "#E5ECF6",
            "gridcolor": "white",
            "gridwidth": 2,
            "linecolor": "white",
            "showbackground": true,
            "ticks": "",
            "zerolinecolor": "white"
           },
           "yaxis": {
            "backgroundcolor": "#E5ECF6",
            "gridcolor": "white",
            "gridwidth": 2,
            "linecolor": "white",
            "showbackground": true,
            "ticks": "",
            "zerolinecolor": "white"
           },
           "zaxis": {
            "backgroundcolor": "#E5ECF6",
            "gridcolor": "white",
            "gridwidth": 2,
            "linecolor": "white",
            "showbackground": true,
            "ticks": "",
            "zerolinecolor": "white"
           }
          },
          "shapedefaults": {
           "line": {
            "color": "#2a3f5f"
           }
          },
          "ternary": {
           "aaxis": {
            "gridcolor": "white",
            "linecolor": "white",
            "ticks": ""
           },
           "baxis": {
            "gridcolor": "white",
            "linecolor": "white",
            "ticks": ""
           },
           "bgcolor": "#E5ECF6",
           "caxis": {
            "gridcolor": "white",
            "linecolor": "white",
            "ticks": ""
           }
          },
          "title": {
           "x": 0.05
          },
          "xaxis": {
           "automargin": true,
           "gridcolor": "white",
           "linecolor": "white",
           "ticks": "",
           "title": {
            "standoff": 15
           },
           "zerolinecolor": "white",
           "zerolinewidth": 2
          },
          "yaxis": {
           "automargin": true,
           "gridcolor": "white",
           "linecolor": "white",
           "ticks": "",
           "title": {
            "standoff": 15
           },
           "zerolinecolor": "white",
           "zerolinewidth": 2
          }
         }
        },
        "xaxis": {
         "anchor": "y",
         "domain": [
          0,
          1
         ],
         "title": {
          "text": "Peso"
         }
        },
        "yaxis": {
         "anchor": "x",
         "domain": [
          0,
          1
         ],
         "title": {
          "text": "spindleCount"
         }
        }
       }
      }
     },
     "metadata": {},
     "output_type": "display_data"
    }
   ],
   "source": [
    "#px.scatter(merged,x='Peso',y='spindleCount',trendline='lowess',trendline_options=dict(frac=0.8), trendline_color_override=\"green\")\n",
    "px.scatter(merged,x='Peso',y='spindleCount',text='Codigo')"
   ]
  },
  {
   "cell_type": "code",
   "execution_count": 69,
   "metadata": {},
   "outputs": [
    {
     "data": {
      "text/plain": [
       "Text(0.5, 1.0, 'Pearson Correlation')"
      ]
     },
     "execution_count": 69,
     "metadata": {},
     "output_type": "execute_result"
    },
    {
     "data": {
      "image/png": "[encoded data removed]",
      "text/plain": [
       "<Figure size 1080x576 with 2 Axes>"
      ]
     },
     "metadata": {
      "needs_background": "light"
     },
     "output_type": "display_data"
    }
   ],
   "source": [
    "#tripple check, pearson's correlations should be even worse\n",
    "r_pear=merged.corr(method='pearson')\n",
    "plt.figure(figsize=(15,8))\n",
    "heatmap = sns.heatmap(r_pear, vmin=-1, vmax=1, annot=True)\n",
    "plt.title(\"Pearson Correlation\")"
   ]
  },
  {
   "cell_type": "code",
   "execution_count": 70,
   "metadata": {},
   "outputs": [
    {
     "data": {
      "text/plain": [
       "Text(0.5, 1.0, 'Spearman Correlation using scipy')"
      ]
     },
     "execution_count": 70,
     "metadata": {},
     "output_type": "execute_result"
    },
    {
     "data": {
      "image/png": "[encoded data removed]",
      "text/plain": [
       "<Figure size 1080x576 with 2 Axes>"
      ]
     },
     "metadata": {
      "needs_background": "light"
     },
     "output_type": "display_data"
    }
   ],
   "source": [
    "plt.figure(figsize=(15,8))\n",
    "heatmap = sns.heatmap(r, vmin=-1, vmax=1, annot=True)\n",
    "plt.title(\"Spearman Correlation using scipy\")"
   ]
  }
 ],
 "metadata": {
  "kernelspec": {
   "display_name": "Python 3.10.5 ('venv': venv)",
   "language": "python",
   "name": "python3"
  },
  "language_info": {
   "codemirror_mode": {
    "name": "ipython",
    "version": 3
   },
   "file_extension": ".py",
   "mimetype": "text/x-python",
   "name": "python",
   "nbconvert_exporter": "python",
   "pygments_lexer": "ipython3",
   "version": "3.10.5"
  },
  "orig_nbformat": 4,
  "vscode": {
   "interpreter": {
    "hash": "9edc0b7c25622f7e9196a907986d328814f48b88d995367b9d9fd7869a261515"
   }
  }
 },
 "nbformat": 4,
 "nbformat_minor": 2
}
