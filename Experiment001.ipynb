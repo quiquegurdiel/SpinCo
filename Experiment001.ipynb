{
 "cells": [
  {
   "cell_type": "code",
   "execution_count": null,
   "metadata": {},
   "outputs": [],
   "source": [
    "%matplotlib inline"
   ]
  },
  {
   "cell_type": "code",
   "execution_count": null,
   "metadata": {},
   "outputs": [],
   "source": [
    "import os\n",
    "import pandas as pd\n",
    "import dotenv\n",
    "import scipy.io as sio\n",
    "import numpy as np\n",
    "import matplotlib.pyplot as plt\n",
    "import plotly.express as px\n",
    "import plotly.graph_objects as go\n",
    "import scipy.stats as sta\n",
    "\n",
    "#environment variables\n",
    "dotenv.load_dotenv('spinco.env')\n",
    "\n",
    "#project variables\n",
    "datapath= '\\\\'+os.environ['DATAPATH']\n",
    "testInfo=pd.read_csv(datapath+'\\Pacientes_COGNITION_codigos.csv')\n",
    "patientInfo=pd.read_csv(datapath+'\\Pacientes_COGNITION_testCognitivos.csv')"
   ]
  },
  {
   "cell_type": "markdown",
   "metadata": {},
   "source": [
    "### some useful views of the data"
   ]
  },
  {
   "cell_type": "code",
   "execution_count": null,
   "metadata": {},
   "outputs": [],
   "source": [
    "patientInfo"
   ]
  },
  {
   "cell_type": "code",
   "execution_count": null,
   "metadata": {},
   "outputs": [],
   "source": [
    "patientInfo.describe()"
   ]
  },
  {
   "cell_type": "code",
   "execution_count": null,
   "metadata": {},
   "outputs": [],
   "source": [
    "testInfo"
   ]
  },
  {
   "cell_type": "markdown",
   "metadata": {},
   "source": [
    "### load C3 channels in a dictionary"
   ]
  },
  {
   "cell_type": "code",
   "execution_count": null,
   "metadata": {},
   "outputs": [],
   "source": [
    "samplerate=500\n",
    "signalpaths=os.listdir(datapath+'\\\\Archivos canales')\n",
    "signalpaths=[a for a in signalpaths if a.endswith(\".mat\") ]\n",
    "signalpaths=[datapath+'\\\\Archivos canales\\\\'+a for a in signalpaths]"
   ]
  },
  {
   "cell_type": "code",
   "execution_count": null,
   "metadata": {},
   "outputs": [],
   "source": [
    "signals=dict()"
   ]
  },
  {
   "cell_type": "code",
   "execution_count": null,
   "metadata": {},
   "outputs": [],
   "source": [
    "#this is not needed at this point but is the data structure I want to follow\n",
    "#in the case of multiple channels each object would be a nested dictionary with the channel names\n",
    "\"\"\" for i in range(len(signalpaths)):\n",
    "    key=signalpaths[i][-19:-13]\n",
    "    signals[key]=sio.loadmat(signalpaths[i])['C3_analogico'].flatten() \"\"\""
   ]
  },
  {
   "cell_type": "code",
   "execution_count": null,
   "metadata": {},
   "outputs": [],
   "source": [
    "\"\"\" print(signals.keys()) \"\"\""
   ]
  },
  {
   "cell_type": "code",
   "execution_count": null,
   "metadata": {},
   "outputs": [],
   "source": [
    "\"\"\" timepoints=np.linspace(0,len(signals[key])/samplerate,len(signals[key]))\n",
    "for signal in signals.values():\n",
    "   plt.plot(timepoints,signal)\n",
    "plt.legend(signals.keys(),loc='upper right')\n",
    "plt.show() \"\"\""
   ]
  },
  {
   "cell_type": "markdown",
   "metadata": {},
   "source": [
    "### load spindles annotations\n",
    "this is what we actually need"
   ]
  },
  {
   "cell_type": "code",
   "execution_count": null,
   "metadata": {},
   "outputs": [],
   "source": [
    "annopaths=os.listdir(datapath+'\\\\Labels')\n",
    "annopaths=[a for a in annopaths if a.endswith(\".csv\") ]\n",
    "annopaths=[datapath+'\\\\Labels\\\\'+a for a in annopaths]"
   ]
  },
  {
   "cell_type": "code",
   "execution_count": null,
   "metadata": {},
   "outputs": [],
   "source": [
    "annopaths"
   ]
  },
  {
   "cell_type": "markdown",
   "metadata": {},
   "source": [
    "read one"
   ]
  },
  {
   "cell_type": "code",
   "execution_count": null,
   "metadata": {},
   "outputs": [],
   "source": [
    "annotations=pd.read_csv(annopaths[0])\n",
    "annotations['Codigo']='COG001'"
   ]
  },
  {
   "cell_type": "code",
   "execution_count": null,
   "metadata": {},
   "outputs": [],
   "source": [
    "annotations"
   ]
  },
  {
   "cell_type": "markdown",
   "metadata": {},
   "source": [
    "iterate over all"
   ]
  },
  {
   "cell_type": "code",
   "execution_count": null,
   "metadata": {},
   "outputs": [],
   "source": [
    "annotations=pd.DataFrame(columns=annotations.columns)\n",
    "for i in range(len(annopaths)):\n",
    "    aux=pd.read_csv(annopaths[i])\n",
    "    #aux['Codigo'] = 'COG00'+str(i+1)   #<- it works but is risky\n",
    "    aux['Codigo'] = annopaths[i][-21:-15]   #-< better to get it from the file name\n",
    "    annotations=pd.concat([annotations,aux])"
   ]
  },
  {
   "cell_type": "code",
   "execution_count": null,
   "metadata": {},
   "outputs": [],
   "source": [
    "annotations.columns"
   ]
  },
  {
   "cell_type": "code",
   "execution_count": null,
   "metadata": {},
   "outputs": [],
   "source": [
    "annotations.groupby('Codigo').Duracion.describe()"
   ]
  },
  {
   "cell_type": "code",
   "execution_count": null,
   "metadata": {},
   "outputs": [],
   "source": [
    "annotations.groupby(['Codigo','Fase']).Duracion.describe()"
   ]
  },
  {
   "cell_type": "code",
   "execution_count": null,
   "metadata": {},
   "outputs": [],
   "source": [
    "aux=annotations\n",
    "aux['count']=0\n",
    "aux=aux.groupby(['Codigo','Fase']).count().reset_index()"
   ]
  },
  {
   "cell_type": "code",
   "execution_count": null,
   "metadata": {},
   "outputs": [],
   "source": [
    "aux"
   ]
  },
  {
   "cell_type": "code",
   "execution_count": null,
   "metadata": {},
   "outputs": [],
   "source": [
    "fig=px.bar(aux,x='Codigo',y='count',color='Fase',barmode='group')\n",
    "fig.update_layout(title_text='#spindles for each patient, colored by sleep stage', title_x=0.5)\n",
    "fig.show()"
   ]
  },
  {
   "cell_type": "markdown",
   "metadata": {},
   "source": [
    "### correlations"
   ]
  },
  {
   "cell_type": "code",
   "execution_count": null,
   "metadata": {},
   "outputs": [],
   "source": [
    "aux=annotations\n",
    "# there's probably a better way to do this ---------------->\n",
    "aux['spindleCount']=0\n",
    "aux=aux.groupby(['Codigo']).count().reset_index().set_index('Codigo')\n",
    "aux=aux[['spindleCount']]\n",
    "# <---------------------------------------------------------\n",
    "aux\n"
   ]
  },
  {
   "cell_type": "code",
   "execution_count": null,
   "metadata": {},
   "outputs": [],
   "source": [
    "merged=aux.join(patientInfo.set_index('Codigo'),on='Codigo')"
   ]
  },
  {
   "cell_type": "code",
   "execution_count": null,
   "metadata": {},
   "outputs": [],
   "source": [
    "merged"
   ]
  },
  {
   "cell_type": "code",
   "execution_count": null,
   "metadata": {},
   "outputs": [],
   "source": [
    "r=merged.corr(method='spearman')"
   ]
  },
  {
   "cell_type": "code",
   "execution_count": null,
   "metadata": {},
   "outputs": [],
   "source": [
    "from scipy.stats import spearmanr\n",
    "def spearmanr_pval(x,y):\n",
    "        return spearmanr(x,y)[1]\n",
    "\n",
    "def spearmanr_r(x,y):\n",
    "        return spearmanr(x,y)[0]\n",
    "\n",
    "r_scipy=merged.corr(method=spearmanr_r)"
   ]
  },
  {
   "cell_type": "code",
   "execution_count": null,
   "metadata": {},
   "outputs": [],
   "source": [
    "pval=merged.corr(method=spearmanr_pval)"
   ]
  },
  {
   "cell_type": "code",
   "execution_count": null,
   "metadata": {},
   "outputs": [],
   "source": [
    "pval"
   ]
  },
  {
   "cell_type": "code",
   "execution_count": null,
   "metadata": {},
   "outputs": [],
   "source": [
    "import seaborn as sns # For pairplots and heatmaps\n",
    "plt.figure(figsize=(15,8))\n",
    "heatmap = sns.heatmap(r, vmin=-1, vmax=1, annot=True)\n",
    "plt.title(\"Spearman Correlation\")"
   ]
  },
  {
   "cell_type": "code",
   "execution_count": null,
   "metadata": {},
   "outputs": [],
   "source": [
    "# double check\n",
    "plt.figure(figsize=(15,8))\n",
    "heatmap = sns.heatmap(r, vmin=-1, vmax=1, annot=True)\n",
    "plt.title(\"Spearman Correlation using scipy\")"
   ]
  },
  {
   "cell_type": "code",
   "execution_count": null,
   "metadata": {},
   "outputs": [],
   "source": [
    "plt.figure(figsize=(15,8))\n",
    "heatmap = sns.heatmap(pval, vmin=-1, vmax=1, annot=True)\n",
    "plt.title(\"Spearman Correlation p-values\")"
   ]
  },
  {
   "cell_type": "code",
   "execution_count": null,
   "metadata": {},
   "outputs": [],
   "source": [
    "merged['Codigo']=merged.index"
   ]
  },
  {
   "cell_type": "code",
   "execution_count": null,
   "metadata": {},
   "outputs": [],
   "source": [
    "#px.scatter(merged,x='Peso',y='spindleCount',trendline='lowess',trendline_options=dict(frac=0.8), trendline_color_override=\"green\")\n",
    "px.scatter(merged,x='Peso',y='spindleCount',text='Codigo')"
   ]
  },
  {
   "cell_type": "code",
   "execution_count": null,
   "metadata": {},
   "outputs": [],
   "source": [
    "#tripple check, pearson's correlations should be even worse\n",
    "r_pear=merged.corr(method='pearson')\n",
    "plt.figure(figsize=(15,8))\n",
    "heatmap = sns.heatmap(r_pear, vmin=-1, vmax=1, annot=True)\n",
    "plt.title(\"Pearson Correlation\")"
   ]
  },
  {
   "cell_type": "code",
   "execution_count": null,
   "metadata": {},
   "outputs": [],
   "source": [
    "plt.figure(figsize=(15,8))\n",
    "heatmap = sns.heatmap(r, vmin=-1, vmax=1, annot=True)\n",
    "plt.title(\"Spearman Correlation using scipy\")"
   ]
  }
 ],
 "metadata": {
  "kernelspec": {
   "display_name": "Python 3.7.9 ('venv': venv)",
   "language": "python",
   "name": "python3"
  },
  "language_info": {
   "codemirror_mode": {
    "name": "ipython",
    "version": 3
   },
   "file_extension": ".py",
   "mimetype": "text/x-python",
   "name": "python",
   "nbconvert_exporter": "python",
   "pygments_lexer": "ipython3",
   "version": "3.7.9"
  },
  "orig_nbformat": 4,
  "vscode": {
   "interpreter": {
    "hash": "3b45861d4f25025e34efc4290b6d320b8db475ff214c69abe4e352ba6ea5c7dd"
   }
  }
 },
 "nbformat": 4,
 "nbformat_minor": 2
}
