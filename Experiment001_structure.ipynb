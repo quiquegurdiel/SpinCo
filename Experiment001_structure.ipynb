{
 "cells": [
  {
   "cell_type": "code",
   "execution_count": 1,
   "metadata": {},
   "outputs": [],
   "source": [
    "#external libraries\n",
    "import numpy as np\n",
    "import os\n",
    "import matplotlib.pyplot as plt\n",
    "import matplotlib.colors as clt\n",
    "import plotly\n",
    "import plotly.subplots as sb\n",
    "import plotly.express as px\n",
    "import plotly.graph_objects as go\n",
    "import dotenv\n",
    "import pandas as pd\n",
    "import scipy.fft as fft\n",
    "import scipy.signal as sg\n",
    "import scipy.io as sio\n",
    "import pickle as pkl\n",
    "import xgboost as xgb\n",
    "import time\n",
    "\n",
    "#project library\n",
    "from spinco import *\n",
    "\n",
    "#environment variables\n",
    "dotenv.load_dotenv('lab.env')\n",
    "\n",
    "#project variables\n",
    "datapath=os.environ['DATAPATH']\n",
    "cognipath=datapath+\"\\\\COGNITION\"\n",
    "dreamspath=datapath+\"\\\\DREAMS\"\n",
    "masspath=datapath+\"\\\\MASS\"\n"
   ]
  },
  {
   "cell_type": "markdown",
   "metadata": {},
   "source": [
    "## load mass"
   ]
  },
  {
   "cell_type": "code",
   "execution_count": 15,
   "metadata": {},
   "outputs": [],
   "source": [
    "annotations, signalsMetadata = loadMASSSpindles(masspath,forceSamplerate=200)"
   ]
  },
  {
   "cell_type": "code",
   "execution_count": 16,
   "metadata": {},
   "outputs": [
    {
     "data": {
      "text/html": [
       "<div>\n",
       "<style scoped>\n",
       "    .dataframe tbody tr th:only-of-type {\n",
       "        vertical-align: middle;\n",
       "    }\n",
       "\n",
       "    .dataframe tbody tr th {\n",
       "        vertical-align: top;\n",
       "    }\n",
       "\n",
       "    .dataframe thead th {\n",
       "        text-align: right;\n",
       "    }\n",
       "</style>\n",
       "<table border=\"1\" class=\"dataframe\">\n",
       "  <thead>\n",
       "    <tr style=\"text-align: right;\">\n",
       "      <th></th>\n",
       "      <th>type</th>\n",
       "      <th>subjectId</th>\n",
       "      <th>startTime</th>\n",
       "      <th>duration</th>\n",
       "      <th>expert</th>\n",
       "      <th>comment</th>\n",
       "      <th>labelerId</th>\n",
       "      <th>samplerate</th>\n",
       "      <th>stopTime</th>\n",
       "      <th>startInd</th>\n",
       "      <th>stopInd</th>\n",
       "    </tr>\n",
       "  </thead>\n",
       "  <tbody>\n",
       "    <tr>\n",
       "      <th>0</th>\n",
       "      <td>spindle</td>\n",
       "      <td>0001</td>\n",
       "      <td>888.569501</td>\n",
       "      <td>0.640579</td>\n",
       "      <td>E1</td>\n",
       "      <td>&lt;Event channel=\"EEG C3-LER\" groupName=\"spindle...</td>\n",
       "      <td>0001</td>\n",
       "      <td>200</td>\n",
       "      <td>889.210080</td>\n",
       "      <td>177714</td>\n",
       "      <td>177842</td>\n",
       "    </tr>\n",
       "    <tr>\n",
       "      <th>1</th>\n",
       "      <td>spindle</td>\n",
       "      <td>0001</td>\n",
       "      <td>905.999757</td>\n",
       "      <td>0.578094</td>\n",
       "      <td>E1</td>\n",
       "      <td>&lt;Event channel=\"EEG C3-LER\" groupName=\"spindle...</td>\n",
       "      <td>0001</td>\n",
       "      <td>200</td>\n",
       "      <td>906.577851</td>\n",
       "      <td>181200</td>\n",
       "      <td>181316</td>\n",
       "    </tr>\n",
       "    <tr>\n",
       "      <th>2</th>\n",
       "      <td>spindle</td>\n",
       "      <td>0001</td>\n",
       "      <td>917.973270</td>\n",
       "      <td>0.847603</td>\n",
       "      <td>E1</td>\n",
       "      <td>&lt;Event channel=\"EEG C3-LER\" groupName=\"spindle...</td>\n",
       "      <td>0001</td>\n",
       "      <td>200</td>\n",
       "      <td>918.820873</td>\n",
       "      <td>183595</td>\n",
       "      <td>183764</td>\n",
       "    </tr>\n",
       "    <tr>\n",
       "      <th>3</th>\n",
       "      <td>spindle</td>\n",
       "      <td>0001</td>\n",
       "      <td>922.319885</td>\n",
       "      <td>0.878845</td>\n",
       "      <td>E1</td>\n",
       "      <td>&lt;Event channel=\"EEG C3-LER\" groupName=\"spindle...</td>\n",
       "      <td>0001</td>\n",
       "      <td>200</td>\n",
       "      <td>923.198730</td>\n",
       "      <td>184464</td>\n",
       "      <td>184640</td>\n",
       "    </tr>\n",
       "    <tr>\n",
       "      <th>4</th>\n",
       "      <td>spindle</td>\n",
       "      <td>0001</td>\n",
       "      <td>939.297141</td>\n",
       "      <td>0.757767</td>\n",
       "      <td>E1</td>\n",
       "      <td>&lt;Event channel=\"EEG C3-LER\" groupName=\"spindle...</td>\n",
       "      <td>0001</td>\n",
       "      <td>200</td>\n",
       "      <td>940.054908</td>\n",
       "      <td>187859</td>\n",
       "      <td>188011</td>\n",
       "    </tr>\n",
       "  </tbody>\n",
       "</table>\n",
       "</div>"
      ],
      "text/plain": [
       "      type subjectId   startTime  duration expert  \\\n",
       "0  spindle      0001  888.569501  0.640579     E1   \n",
       "1  spindle      0001  905.999757  0.578094     E1   \n",
       "2  spindle      0001  917.973270  0.847603     E1   \n",
       "3  spindle      0001  922.319885  0.878845     E1   \n",
       "4  spindle      0001  939.297141  0.757767     E1   \n",
       "\n",
       "                                             comment labelerId  samplerate  \\\n",
       "0  <Event channel=\"EEG C3-LER\" groupName=\"spindle...      0001         200   \n",
       "1  <Event channel=\"EEG C3-LER\" groupName=\"spindle...      0001         200   \n",
       "2  <Event channel=\"EEG C3-LER\" groupName=\"spindle...      0001         200   \n",
       "3  <Event channel=\"EEG C3-LER\" groupName=\"spindle...      0001         200   \n",
       "4  <Event channel=\"EEG C3-LER\" groupName=\"spindle...      0001         200   \n",
       "\n",
       "     stopTime  startInd  stopInd  \n",
       "0  889.210080    177714   177842  \n",
       "1  906.577851    181200   181316  \n",
       "2  918.820873    183595   183764  \n",
       "3  923.198730    184464   184640  \n",
       "4  940.054908    187859   188011  "
      ]
     },
     "execution_count": 16,
     "metadata": {},
     "output_type": "execute_result"
    }
   ],
   "source": [
    "annotations.head()"
   ]
  },
  {
   "cell_type": "code",
   "execution_count": 17,
   "metadata": {},
   "outputs": [
    {
     "data": {
      "text/html": [
       "<div>\n",
       "<style scoped>\n",
       "    .dataframe tbody tr th:only-of-type {\n",
       "        vertical-align: middle;\n",
       "    }\n",
       "\n",
       "    .dataframe tbody tr th {\n",
       "        vertical-align: top;\n",
       "    }\n",
       "\n",
       "    .dataframe thead th {\n",
       "        text-align: right;\n",
       "    }\n",
       "</style>\n",
       "<table border=\"1\" class=\"dataframe\">\n",
       "  <thead>\n",
       "    <tr style=\"text-align: right;\">\n",
       "      <th></th>\n",
       "      <th>subjectId</th>\n",
       "      <th>file</th>\n",
       "      <th>channel</th>\n",
       "      <th>duration</th>\n",
       "      <th>samplerate</th>\n",
       "      <th>isOriginalSamplerate</th>\n",
       "    </tr>\n",
       "  </thead>\n",
       "  <tbody>\n",
       "    <tr>\n",
       "      <th>0</th>\n",
       "      <td>0001</td>\n",
       "      <td>MASS_0001.pkl</td>\n",
       "      <td>C3-CLE</td>\n",
       "      <td>28956.0</td>\n",
       "      <td>200</td>\n",
       "      <td>False</td>\n",
       "    </tr>\n",
       "    <tr>\n",
       "      <th>1</th>\n",
       "      <td>0002</td>\n",
       "      <td>MASS_0002.pkl</td>\n",
       "      <td>C3-CLE</td>\n",
       "      <td>35016.0</td>\n",
       "      <td>200</td>\n",
       "      <td>False</td>\n",
       "    </tr>\n",
       "    <tr>\n",
       "      <th>2</th>\n",
       "      <td>0003</td>\n",
       "      <td>MASS_0003.pkl</td>\n",
       "      <td>C3-CLE</td>\n",
       "      <td>36760.0</td>\n",
       "      <td>200</td>\n",
       "      <td>False</td>\n",
       "    </tr>\n",
       "    <tr>\n",
       "      <th>3</th>\n",
       "      <td>0004</td>\n",
       "      <td>MASS_0004.pkl</td>\n",
       "      <td>C3-CLE</td>\n",
       "      <td>28004.0</td>\n",
       "      <td>200</td>\n",
       "      <td>False</td>\n",
       "    </tr>\n",
       "    <tr>\n",
       "      <th>4</th>\n",
       "      <td>0005</td>\n",
       "      <td>MASS_0005.pkl</td>\n",
       "      <td>C3-CLE</td>\n",
       "      <td>31244.0</td>\n",
       "      <td>200</td>\n",
       "      <td>False</td>\n",
       "    </tr>\n",
       "  </tbody>\n",
       "</table>\n",
       "</div>"
      ],
      "text/plain": [
       "  subjectId           file channel  duration  samplerate  isOriginalSamplerate\n",
       "0      0001  MASS_0001.pkl  C3-CLE   28956.0         200                 False\n",
       "1      0002  MASS_0002.pkl  C3-CLE   35016.0         200                 False\n",
       "2      0003  MASS_0003.pkl  C3-CLE   36760.0         200                 False\n",
       "3      0004  MASS_0004.pkl  C3-CLE   28004.0         200                 False\n",
       "4      0005  MASS_0005.pkl  C3-CLE   31244.0         200                 False"
      ]
     },
     "execution_count": 17,
     "metadata": {},
     "output_type": "execute_result"
    }
   ],
   "source": [
    "signalsMetadata.head()"
   ]
  },
  {
   "cell_type": "markdown",
   "metadata": {},
   "source": [
    "## TBD - access DREAMS and COGNITION in the same way"
   ]
  },
  {
   "cell_type": "markdown",
   "metadata": {},
   "source": [
    "## load cognition"
   ]
  },
  {
   "cell_type": "code",
   "execution_count": 3,
   "metadata": {},
   "outputs": [],
   "source": [
    "def loadCOGNITIONSpindles(path):\n",
    "    #signalsMetadata\n",
    "    signalsMetadata=pd.read_csv(path+'\\\\signals\\\\signalsMetadata.csv')\n",
    "    signalsMetadata['subjectId']=signalsMetadata.apply(\n",
    "        lambda row: str(row.subjectId).zfill(4),axis=1)\n",
    "\n",
    "    #subjectsMetadata\n",
    "    subjectsMetadata=pd.read_csv(path+'\\\\signals\\\\subjectsMetadata.csv')\n",
    "    subjectsMetadata['subjectId']=subjectsMetadata.apply(\n",
    "        lambda row: str(row.subjectId).zfill(4),axis=1)\n",
    "\n",
    "    #load signals from .txt\n",
    "    signals={}\n",
    "    for index, row in signalsMetadata.iterrows():\n",
    "        signals[row.subjectId]=np.loadtxt(path+'\\\\signals\\\\'+row.filename)\n",
    "\n",
    "    #spindle annotations\n",
    "    annotationsMetadata=pd.read_csv(path+'\\\\annotations\\\\annotationsMetadata.csv')\n",
    "    annotationsMetadata['subjectId']=annotationsMetadata.apply(\n",
    "        lambda row: str(row.subjectId).zfill(4),axis=1)\n",
    "    annotationsMetadata['labelerId']=annotationsMetadata.apply(\n",
    "        lambda row: str(row.labelerId).zfill(4),axis=1)\n",
    "\n",
    "    #populate annotations metadata\n",
    "    annotations=pd.DataFrame(columns=['startTime','duration','channel','subjectId','labelerId','type'])\n",
    "    for index,row in annotationsMetadata.iterrows():\n",
    "        aux=pd.read_csv(path+'\\\\annotations\\\\'+row.filename,index_col=False)\n",
    "        aux['channel']=row.channel\n",
    "        aux['subjectId']=row.subjectId\n",
    "        aux['labelerId']=row.labelerId\n",
    "        aux['type']='spindle'\n",
    "        annotations=pd.concat((annotations,aux))\n",
    "\n",
    "    #add stop and index colums\n",
    "    annotations=annotations.merge(signalsMetadata[['subjectId','samplerate']],how='left',on='subjectId')\n",
    "    annotations['stopTime']=annotations.apply(\n",
    "        lambda row: row.startTime+row.duration , axis=1)\n",
    "    annotations['startInd']=annotations.apply(\n",
    "        lambda row: seconds2index(row.startTime,row.samplerate) , axis=1)\n",
    "    annotations['stopInd']=annotations.apply(\n",
    "        lambda row: seconds2index(row.stopTime,row.samplerate) , axis=1)\n",
    "    annotations=annotations.reset_index()\n",
    "\n",
    "    return signals, annotations, signalsMetadata, subjectsMetadata, annotationsMetadata"
   ]
  },
  {
   "cell_type": "code",
   "execution_count": 4,
   "metadata": {},
   "outputs": [],
   "source": [
    "signals, annotations, signalsMetadata, subjectsMetadata, annotationsMetadata = loadCOGNITIONSpindles(cognipath)"
   ]
  },
  {
   "cell_type": "code",
   "execution_count": 10,
   "metadata": {},
   "outputs": [
    {
     "data": {
      "image/png": "[encoded data removed]",
      "text/plain": [
       "<Figure size 640x480 with 1 Axes>"
      ]
     },
     "metadata": {},
     "output_type": "display_data"
    }
   ],
   "source": [
    "names=[]\n",
    "for subject,signal in signals.items():\n",
    "    plt.plot(signal[20000:50000])\n",
    "    names.append(subject)\n",
    "plt.legend(names)\n",
    "plt.show()"
   ]
  },
  {
   "cell_type": "code",
   "execution_count": 11,
   "metadata": {},
   "outputs": [
    {
     "data": {
      "text/plain": [
       "[<matplotlib.lines.Line2D at 0x2f56ca4d300>]"
      ]
     },
     "execution_count": 11,
     "metadata": {},
     "output_type": "execute_result"
    },
    {
     "data": {
      "image/png": "[encoded data removed]",
      "text/plain": [
       "<Figure size 640x480 with 1 Axes>"
      ]
     },
     "metadata": {},
     "output_type": "display_data"
    }
   ],
   "source": [
    "plt.plot(sg.periodogram(signals['0001'])[0],sg.periodogram(signals['0001'])[1])"
   ]
  },
  {
   "cell_type": "markdown",
   "metadata": {},
   "source": [
    "TBD: you need to correct this below!"
   ]
  },
  {
   "cell_type": "code",
   "execution_count": 11,
   "metadata": {},
   "outputs": [
    {
     "data": {
      "text/html": [
       "<div>\n",
       "<style scoped>\n",
       "    .dataframe tbody tr th:only-of-type {\n",
       "        vertical-align: middle;\n",
       "    }\n",
       "\n",
       "    .dataframe tbody tr th {\n",
       "        vertical-align: top;\n",
       "    }\n",
       "\n",
       "    .dataframe thead th {\n",
       "        text-align: right;\n",
       "    }\n",
       "</style>\n",
       "<table border=\"1\" class=\"dataframe\">\n",
       "  <thead>\n",
       "    <tr style=\"text-align: right;\">\n",
       "      <th></th>\n",
       "      <th>index</th>\n",
       "      <th>startTime</th>\n",
       "      <th>duration</th>\n",
       "      <th>channel</th>\n",
       "      <th>subjectId</th>\n",
       "      <th>labelerId</th>\n",
       "      <th>type</th>\n",
       "      <th>Canal</th>\n",
       "      <th>Inicio</th>\n",
       "      <th>Fin</th>\n",
       "      <th>Duracion</th>\n",
       "      <th>Fase</th>\n",
       "      <th>samplerate</th>\n",
       "      <th>stopTime</th>\n",
       "      <th>startInd</th>\n",
       "      <th>stopInd</th>\n",
       "    </tr>\n",
       "  </thead>\n",
       "  <tbody>\n",
       "    <tr>\n",
       "      <th>0</th>\n",
       "      <td>0</td>\n",
       "      <td>NaN</td>\n",
       "      <td>NaN</td>\n",
       "      <td>C3-M2</td>\n",
       "      <td>0001</td>\n",
       "      <td>0001</td>\n",
       "      <td>spindle</td>\n",
       "      <td>C3</td>\n",
       "      <td>1938.132297</td>\n",
       "      <td>1939.202326</td>\n",
       "      <td>1.070029</td>\n",
       "      <td>2.0</td>\n",
       "      <td>500</td>\n",
       "      <td>NaN</td>\n",
       "      <td>-2147483648</td>\n",
       "      <td>-2147483648</td>\n",
       "    </tr>\n",
       "    <tr>\n",
       "      <th>1</th>\n",
       "      <td>1</td>\n",
       "      <td>NaN</td>\n",
       "      <td>NaN</td>\n",
       "      <td>C3-M2</td>\n",
       "      <td>0001</td>\n",
       "      <td>0001</td>\n",
       "      <td>spindle</td>\n",
       "      <td>C3</td>\n",
       "      <td>2047.217898</td>\n",
       "      <td>2048.112834</td>\n",
       "      <td>0.894936</td>\n",
       "      <td>2.0</td>\n",
       "      <td>500</td>\n",
       "      <td>NaN</td>\n",
       "      <td>-2147483648</td>\n",
       "      <td>-2147483648</td>\n",
       "    </tr>\n",
       "    <tr>\n",
       "      <th>2</th>\n",
       "      <td>2</td>\n",
       "      <td>NaN</td>\n",
       "      <td>NaN</td>\n",
       "      <td>C3-M2</td>\n",
       "      <td>0001</td>\n",
       "      <td>0001</td>\n",
       "      <td>spindle</td>\n",
       "      <td>C3</td>\n",
       "      <td>2170.856032</td>\n",
       "      <td>2171.634237</td>\n",
       "      <td>0.778205</td>\n",
       "      <td>3.0</td>\n",
       "      <td>500</td>\n",
       "      <td>NaN</td>\n",
       "      <td>-2147483648</td>\n",
       "      <td>-2147483648</td>\n",
       "    </tr>\n",
       "    <tr>\n",
       "      <th>3</th>\n",
       "      <td>3</td>\n",
       "      <td>NaN</td>\n",
       "      <td>NaN</td>\n",
       "      <td>C3-M2</td>\n",
       "      <td>0001</td>\n",
       "      <td>0001</td>\n",
       "      <td>spindle</td>\n",
       "      <td>C3</td>\n",
       "      <td>2219.766538</td>\n",
       "      <td>2220.894943</td>\n",
       "      <td>1.128405</td>\n",
       "      <td>3.0</td>\n",
       "      <td>500</td>\n",
       "      <td>NaN</td>\n",
       "      <td>-2147483648</td>\n",
       "      <td>-2147483648</td>\n",
       "    </tr>\n",
       "    <tr>\n",
       "      <th>4</th>\n",
       "      <td>4</td>\n",
       "      <td>NaN</td>\n",
       "      <td>NaN</td>\n",
       "      <td>C3-M2</td>\n",
       "      <td>0001</td>\n",
       "      <td>0001</td>\n",
       "      <td>spindle</td>\n",
       "      <td>C3</td>\n",
       "      <td>2263.482492</td>\n",
       "      <td>2264.357974</td>\n",
       "      <td>0.875482</td>\n",
       "      <td>3.0</td>\n",
       "      <td>500</td>\n",
       "      <td>NaN</td>\n",
       "      <td>-2147483648</td>\n",
       "      <td>-2147483648</td>\n",
       "    </tr>\n",
       "    <tr>\n",
       "      <th>...</th>\n",
       "      <td>...</td>\n",
       "      <td>...</td>\n",
       "      <td>...</td>\n",
       "      <td>...</td>\n",
       "      <td>...</td>\n",
       "      <td>...</td>\n",
       "      <td>...</td>\n",
       "      <td>...</td>\n",
       "      <td>...</td>\n",
       "      <td>...</td>\n",
       "      <td>...</td>\n",
       "      <td>...</td>\n",
       "      <td>...</td>\n",
       "      <td>...</td>\n",
       "      <td>...</td>\n",
       "      <td>...</td>\n",
       "    </tr>\n",
       "    <tr>\n",
       "      <th>2780</th>\n",
       "      <td>2780</td>\n",
       "      <td>NaN</td>\n",
       "      <td>NaN</td>\n",
       "      <td>C3-M2</td>\n",
       "      <td>0009</td>\n",
       "      <td>0001</td>\n",
       "      <td>spindle</td>\n",
       "      <td>C3</td>\n",
       "      <td>39234.883269</td>\n",
       "      <td>39235.680928</td>\n",
       "      <td>0.797659</td>\n",
       "      <td>3.0</td>\n",
       "      <td>500</td>\n",
       "      <td>NaN</td>\n",
       "      <td>-2147483648</td>\n",
       "      <td>-2147483648</td>\n",
       "    </tr>\n",
       "    <tr>\n",
       "      <th>2781</th>\n",
       "      <td>2781</td>\n",
       "      <td>NaN</td>\n",
       "      <td>NaN</td>\n",
       "      <td>C3-M2</td>\n",
       "      <td>0009</td>\n",
       "      <td>0001</td>\n",
       "      <td>spindle</td>\n",
       "      <td>C3</td>\n",
       "      <td>39287.062257</td>\n",
       "      <td>39287.801552</td>\n",
       "      <td>0.739295</td>\n",
       "      <td>3.0</td>\n",
       "      <td>500</td>\n",
       "      <td>NaN</td>\n",
       "      <td>-2147483648</td>\n",
       "      <td>-2147483648</td>\n",
       "    </tr>\n",
       "    <tr>\n",
       "      <th>2782</th>\n",
       "      <td>2782</td>\n",
       "      <td>NaN</td>\n",
       "      <td>NaN</td>\n",
       "      <td>C3-M2</td>\n",
       "      <td>0009</td>\n",
       "      <td>0001</td>\n",
       "      <td>spindle</td>\n",
       "      <td>C3</td>\n",
       "      <td>39381.653696</td>\n",
       "      <td>39383.463024</td>\n",
       "      <td>1.809328</td>\n",
       "      <td>0.0</td>\n",
       "      <td>500</td>\n",
       "      <td>NaN</td>\n",
       "      <td>-2147483648</td>\n",
       "      <td>-2147483648</td>\n",
       "    </tr>\n",
       "    <tr>\n",
       "      <th>2783</th>\n",
       "      <td>2783</td>\n",
       "      <td>NaN</td>\n",
       "      <td>NaN</td>\n",
       "      <td>C3-M2</td>\n",
       "      <td>0009</td>\n",
       "      <td>0001</td>\n",
       "      <td>spindle</td>\n",
       "      <td>C3</td>\n",
       "      <td>39401.459144</td>\n",
       "      <td>39402.276262</td>\n",
       "      <td>0.817118</td>\n",
       "      <td>0.0</td>\n",
       "      <td>500</td>\n",
       "      <td>NaN</td>\n",
       "      <td>-2147483648</td>\n",
       "      <td>-2147483648</td>\n",
       "    </tr>\n",
       "    <tr>\n",
       "      <th>2784</th>\n",
       "      <td>2784</td>\n",
       "      <td>NaN</td>\n",
       "      <td>NaN</td>\n",
       "      <td>C3-M2</td>\n",
       "      <td>0009</td>\n",
       "      <td>0001</td>\n",
       "      <td>spindle</td>\n",
       "      <td>C3</td>\n",
       "      <td>39551.322957</td>\n",
       "      <td>39552.120616</td>\n",
       "      <td>0.797659</td>\n",
       "      <td>3.0</td>\n",
       "      <td>500</td>\n",
       "      <td>NaN</td>\n",
       "      <td>-2147483648</td>\n",
       "      <td>-2147483648</td>\n",
       "    </tr>\n",
       "  </tbody>\n",
       "</table>\n",
       "<p>2785 rows × 16 columns</p>\n",
       "</div>"
      ],
      "text/plain": [
       "      index startTime duration channel subjectId labelerId     type Canal  \\\n",
       "0         0       NaN      NaN   C3-M2      0001      0001  spindle    C3   \n",
       "1         1       NaN      NaN   C3-M2      0001      0001  spindle    C3   \n",
       "2         2       NaN      NaN   C3-M2      0001      0001  spindle    C3   \n",
       "3         3       NaN      NaN   C3-M2      0001      0001  spindle    C3   \n",
       "4         4       NaN      NaN   C3-M2      0001      0001  spindle    C3   \n",
       "...     ...       ...      ...     ...       ...       ...      ...   ...   \n",
       "2780   2780       NaN      NaN   C3-M2      0009      0001  spindle    C3   \n",
       "2781   2781       NaN      NaN   C3-M2      0009      0001  spindle    C3   \n",
       "2782   2782       NaN      NaN   C3-M2      0009      0001  spindle    C3   \n",
       "2783   2783       NaN      NaN   C3-M2      0009      0001  spindle    C3   \n",
       "2784   2784       NaN      NaN   C3-M2      0009      0001  spindle    C3   \n",
       "\n",
       "            Inicio           Fin  Duracion  Fase  samplerate  stopTime  \\\n",
       "0      1938.132297   1939.202326  1.070029   2.0         500       NaN   \n",
       "1      2047.217898   2048.112834  0.894936   2.0         500       NaN   \n",
       "2      2170.856032   2171.634237  0.778205   3.0         500       NaN   \n",
       "3      2219.766538   2220.894943  1.128405   3.0         500       NaN   \n",
       "4      2263.482492   2264.357974  0.875482   3.0         500       NaN   \n",
       "...            ...           ...       ...   ...         ...       ...   \n",
       "2780  39234.883269  39235.680928  0.797659   3.0         500       NaN   \n",
       "2781  39287.062257  39287.801552  0.739295   3.0         500       NaN   \n",
       "2782  39381.653696  39383.463024  1.809328   0.0         500       NaN   \n",
       "2783  39401.459144  39402.276262  0.817118   0.0         500       NaN   \n",
       "2784  39551.322957  39552.120616  0.797659   3.0         500       NaN   \n",
       "\n",
       "        startInd     stopInd  \n",
       "0    -2147483648 -2147483648  \n",
       "1    -2147483648 -2147483648  \n",
       "2    -2147483648 -2147483648  \n",
       "3    -2147483648 -2147483648  \n",
       "4    -2147483648 -2147483648  \n",
       "...          ...         ...  \n",
       "2780 -2147483648 -2147483648  \n",
       "2781 -2147483648 -2147483648  \n",
       "2782 -2147483648 -2147483648  \n",
       "2783 -2147483648 -2147483648  \n",
       "2784 -2147483648 -2147483648  \n",
       "\n",
       "[2785 rows x 16 columns]"
      ]
     },
     "execution_count": 11,
     "metadata": {},
     "output_type": "execute_result"
    }
   ],
   "source": [
    "annotations"
   ]
  },
  {
   "cell_type": "code",
   "execution_count": 12,
   "metadata": {},
   "outputs": [
    {
     "data": {
      "text/html": [
       "<div>\n",
       "<style scoped>\n",
       "    .dataframe tbody tr th:only-of-type {\n",
       "        vertical-align: middle;\n",
       "    }\n",
       "\n",
       "    .dataframe tbody tr th {\n",
       "        vertical-align: top;\n",
       "    }\n",
       "\n",
       "    .dataframe thead th {\n",
       "        text-align: right;\n",
       "    }\n",
       "</style>\n",
       "<table border=\"1\" class=\"dataframe\">\n",
       "  <thead>\n",
       "    <tr style=\"text-align: right;\">\n",
       "      <th></th>\n",
       "      <th>filename</th>\n",
       "      <th>channel</th>\n",
       "      <th>subjectId</th>\n",
       "      <th>duration</th>\n",
       "      <th>samplerate</th>\n",
       "    </tr>\n",
       "  </thead>\n",
       "  <tbody>\n",
       "    <tr>\n",
       "      <th>0</th>\n",
       "      <td>COG001_canal_C3.txt</td>\n",
       "      <td>C3-M2</td>\n",
       "      <td>0001</td>\n",
       "      <td>39600</td>\n",
       "      <td>500</td>\n",
       "    </tr>\n",
       "    <tr>\n",
       "      <th>1</th>\n",
       "      <td>COG002_canal_C3.txt</td>\n",
       "      <td>C3-M2</td>\n",
       "      <td>0002</td>\n",
       "      <td>39600</td>\n",
       "      <td>500</td>\n",
       "    </tr>\n",
       "    <tr>\n",
       "      <th>2</th>\n",
       "      <td>COG003_canal_C3.txt</td>\n",
       "      <td>C3-M2</td>\n",
       "      <td>0003</td>\n",
       "      <td>39600</td>\n",
       "      <td>500</td>\n",
       "    </tr>\n",
       "    <tr>\n",
       "      <th>3</th>\n",
       "      <td>COG004_canal_C3.txt</td>\n",
       "      <td>C3-M2</td>\n",
       "      <td>0004</td>\n",
       "      <td>39600</td>\n",
       "      <td>500</td>\n",
       "    </tr>\n",
       "    <tr>\n",
       "      <th>4</th>\n",
       "      <td>COG005_canal_C3.txt</td>\n",
       "      <td>C3-M2</td>\n",
       "      <td>0005</td>\n",
       "      <td>39600</td>\n",
       "      <td>500</td>\n",
       "    </tr>\n",
       "    <tr>\n",
       "      <th>5</th>\n",
       "      <td>COG006_canal_C3.txt</td>\n",
       "      <td>C3-M2</td>\n",
       "      <td>0006</td>\n",
       "      <td>39600</td>\n",
       "      <td>500</td>\n",
       "    </tr>\n",
       "    <tr>\n",
       "      <th>6</th>\n",
       "      <td>COG007_canal_C3.txt</td>\n",
       "      <td>C3-M2</td>\n",
       "      <td>0007</td>\n",
       "      <td>39600</td>\n",
       "      <td>500</td>\n",
       "    </tr>\n",
       "    <tr>\n",
       "      <th>7</th>\n",
       "      <td>COG008_canal_C3.txt</td>\n",
       "      <td>C3-M2</td>\n",
       "      <td>0008</td>\n",
       "      <td>39600</td>\n",
       "      <td>500</td>\n",
       "    </tr>\n",
       "    <tr>\n",
       "      <th>8</th>\n",
       "      <td>COG009_canal_C3.txt</td>\n",
       "      <td>C3-M2</td>\n",
       "      <td>0009</td>\n",
       "      <td>39600</td>\n",
       "      <td>500</td>\n",
       "    </tr>\n",
       "  </tbody>\n",
       "</table>\n",
       "</div>"
      ],
      "text/plain": [
       "              filename channel subjectId  duration  samplerate\n",
       "0  COG001_canal_C3.txt   C3-M2      0001     39600         500\n",
       "1  COG002_canal_C3.txt   C3-M2      0002     39600         500\n",
       "2  COG003_canal_C3.txt   C3-M2      0003     39600         500\n",
       "3  COG004_canal_C3.txt   C3-M2      0004     39600         500\n",
       "4  COG005_canal_C3.txt   C3-M2      0005     39600         500\n",
       "5  COG006_canal_C3.txt   C3-M2      0006     39600         500\n",
       "6  COG007_canal_C3.txt   C3-M2      0007     39600         500\n",
       "7  COG008_canal_C3.txt   C3-M2      0008     39600         500\n",
       "8  COG009_canal_C3.txt   C3-M2      0009     39600         500"
      ]
     },
     "execution_count": 12,
     "metadata": {},
     "output_type": "execute_result"
    }
   ],
   "source": [
    "signalsMetadata"
   ]
  },
  {
   "cell_type": "code",
   "execution_count": 13,
   "metadata": {},
   "outputs": [
    {
     "data": {
      "text/html": [
       "<div>\n",
       "<style scoped>\n",
       "    .dataframe tbody tr th:only-of-type {\n",
       "        vertical-align: middle;\n",
       "    }\n",
       "\n",
       "    .dataframe tbody tr th {\n",
       "        vertical-align: top;\n",
       "    }\n",
       "\n",
       "    .dataframe thead th {\n",
       "        text-align: right;\n",
       "    }\n",
       "</style>\n",
       "<table border=\"1\" class=\"dataframe\">\n",
       "  <thead>\n",
       "    <tr style=\"text-align: right;\">\n",
       "      <th></th>\n",
       "      <th>subjectId</th>\n",
       "      <th>age</th>\n",
       "      <th>weight</th>\n",
       "      <th>size</th>\n",
       "      <th>IMC</th>\n",
       "      <th>date</th>\n",
       "      <th>IAH</th>\n",
       "      <th>Chervin</th>\n",
       "      <th>Chervin_SAHS</th>\n",
       "      <th>BAS-II</th>\n",
       "      <th>PPVT-III</th>\n",
       "      <th>ENFEN-F1</th>\n",
       "      <th>ENFEN-F2</th>\n",
       "      <th>ENFEN-S1</th>\n",
       "      <th>ENFEN-S2</th>\n",
       "      <th>ENFEN-A</th>\n",
       "      <th>ENFEN-I</th>\n",
       "    </tr>\n",
       "  </thead>\n",
       "  <tbody>\n",
       "    <tr>\n",
       "      <th>0</th>\n",
       "      <td>0001</td>\n",
       "      <td>6.7</td>\n",
       "      <td>28.0</td>\n",
       "      <td>124</td>\n",
       "      <td>18.2</td>\n",
       "      <td>28/01/2020</td>\n",
       "      <td>28.4</td>\n",
       "      <td>18</td>\n",
       "      <td>1</td>\n",
       "      <td>87</td>\n",
       "      <td>100</td>\n",
       "      <td>6</td>\n",
       "      <td>3</td>\n",
       "      <td>4</td>\n",
       "      <td>1</td>\n",
       "      <td>2</td>\n",
       "      <td>5</td>\n",
       "    </tr>\n",
       "    <tr>\n",
       "      <th>1</th>\n",
       "      <td>0002</td>\n",
       "      <td>7.3</td>\n",
       "      <td>31.0</td>\n",
       "      <td>130</td>\n",
       "      <td>18.3</td>\n",
       "      <td>04/02/2020</td>\n",
       "      <td>25.2</td>\n",
       "      <td>6</td>\n",
       "      <td>0</td>\n",
       "      <td>121</td>\n",
       "      <td>98</td>\n",
       "      <td>5</td>\n",
       "      <td>9</td>\n",
       "      <td>6</td>\n",
       "      <td>8</td>\n",
       "      <td>5</td>\n",
       "      <td>7</td>\n",
       "    </tr>\n",
       "    <tr>\n",
       "      <th>2</th>\n",
       "      <td>0003</td>\n",
       "      <td>8.7</td>\n",
       "      <td>40.5</td>\n",
       "      <td>132</td>\n",
       "      <td>23.2</td>\n",
       "      <td>25/02/2020</td>\n",
       "      <td>3.0</td>\n",
       "      <td>15</td>\n",
       "      <td>1</td>\n",
       "      <td>87</td>\n",
       "      <td>103</td>\n",
       "      <td>7</td>\n",
       "      <td>3</td>\n",
       "      <td>3</td>\n",
       "      <td>7</td>\n",
       "      <td>6</td>\n",
       "      <td>7</td>\n",
       "    </tr>\n",
       "    <tr>\n",
       "      <th>3</th>\n",
       "      <td>0004</td>\n",
       "      <td>8.1</td>\n",
       "      <td>36.0</td>\n",
       "      <td>138</td>\n",
       "      <td>18.9</td>\n",
       "      <td>26/02/2020</td>\n",
       "      <td>1.6</td>\n",
       "      <td>7</td>\n",
       "      <td>0</td>\n",
       "      <td>102</td>\n",
       "      <td>108</td>\n",
       "      <td>4</td>\n",
       "      <td>7</td>\n",
       "      <td>5</td>\n",
       "      <td>6</td>\n",
       "      <td>4</td>\n",
       "      <td>4</td>\n",
       "    </tr>\n",
       "    <tr>\n",
       "      <th>4</th>\n",
       "      <td>0005</td>\n",
       "      <td>9.6</td>\n",
       "      <td>33.8</td>\n",
       "      <td>138</td>\n",
       "      <td>17.7</td>\n",
       "      <td>04/03/2020</td>\n",
       "      <td>6.6</td>\n",
       "      <td>5</td>\n",
       "      <td>0</td>\n",
       "      <td>55</td>\n",
       "      <td>89</td>\n",
       "      <td>1</td>\n",
       "      <td>5</td>\n",
       "      <td>7</td>\n",
       "      <td>5</td>\n",
       "      <td>2</td>\n",
       "      <td>6</td>\n",
       "    </tr>\n",
       "    <tr>\n",
       "      <th>5</th>\n",
       "      <td>0006</td>\n",
       "      <td>7.6</td>\n",
       "      <td>28.0</td>\n",
       "      <td>125</td>\n",
       "      <td>17.9</td>\n",
       "      <td>05/03/2020</td>\n",
       "      <td>10.9</td>\n",
       "      <td>9</td>\n",
       "      <td>1</td>\n",
       "      <td>109</td>\n",
       "      <td>96</td>\n",
       "      <td>5</td>\n",
       "      <td>8</td>\n",
       "      <td>7</td>\n",
       "      <td>5</td>\n",
       "      <td>4</td>\n",
       "      <td>10</td>\n",
       "    </tr>\n",
       "    <tr>\n",
       "      <th>6</th>\n",
       "      <td>0007</td>\n",
       "      <td>7.5</td>\n",
       "      <td>32.0</td>\n",
       "      <td>135</td>\n",
       "      <td>17.6</td>\n",
       "      <td>10/03/2020</td>\n",
       "      <td>3.0</td>\n",
       "      <td>15</td>\n",
       "      <td>1</td>\n",
       "      <td>95</td>\n",
       "      <td>101</td>\n",
       "      <td>3</td>\n",
       "      <td>6</td>\n",
       "      <td>3</td>\n",
       "      <td>1</td>\n",
       "      <td>3</td>\n",
       "      <td>7</td>\n",
       "    </tr>\n",
       "    <tr>\n",
       "      <th>7</th>\n",
       "      <td>0008</td>\n",
       "      <td>6.4</td>\n",
       "      <td>17.0</td>\n",
       "      <td>113</td>\n",
       "      <td>13.3</td>\n",
       "      <td>11/03/2020</td>\n",
       "      <td>3.7</td>\n",
       "      <td>11</td>\n",
       "      <td>1</td>\n",
       "      <td>109</td>\n",
       "      <td>112</td>\n",
       "      <td>6</td>\n",
       "      <td>5</td>\n",
       "      <td>8</td>\n",
       "      <td>5</td>\n",
       "      <td>3</td>\n",
       "      <td>7</td>\n",
       "    </tr>\n",
       "    <tr>\n",
       "      <th>8</th>\n",
       "      <td>0009</td>\n",
       "      <td>6.6</td>\n",
       "      <td>23.0</td>\n",
       "      <td>127</td>\n",
       "      <td>14.3</td>\n",
       "      <td>12/03/2020</td>\n",
       "      <td>27.4</td>\n",
       "      <td>15</td>\n",
       "      <td>1</td>\n",
       "      <td>98</td>\n",
       "      <td>107</td>\n",
       "      <td>5</td>\n",
       "      <td>5</td>\n",
       "      <td>6</td>\n",
       "      <td>1</td>\n",
       "      <td>5</td>\n",
       "      <td>7</td>\n",
       "    </tr>\n",
       "  </tbody>\n",
       "</table>\n",
       "</div>"
      ],
      "text/plain": [
       "  subjectId  age  weight  size   IMC        date   IAH  Chervin  Chervin_SAHS  \\\n",
       "0      0001  6.7    28.0   124  18.2  28/01/2020  28.4       18             1   \n",
       "1      0002  7.3    31.0   130  18.3  04/02/2020  25.2        6             0   \n",
       "2      0003  8.7    40.5   132  23.2  25/02/2020   3.0       15             1   \n",
       "3      0004  8.1    36.0   138  18.9  26/02/2020   1.6        7             0   \n",
       "4      0005  9.6    33.8   138  17.7  04/03/2020   6.6        5             0   \n",
       "5      0006  7.6    28.0   125  17.9  05/03/2020  10.9        9             1   \n",
       "6      0007  7.5    32.0   135  17.6  10/03/2020   3.0       15             1   \n",
       "7      0008  6.4    17.0   113  13.3  11/03/2020   3.7       11             1   \n",
       "8      0009  6.6    23.0   127  14.3  12/03/2020  27.4       15             1   \n",
       "\n",
       "   BAS-II  PPVT-III  ENFEN-F1  ENFEN-F2  ENFEN-S1  ENFEN-S2  ENFEN-A  ENFEN-I  \n",
       "0      87       100         6         3         4         1        2        5  \n",
       "1     121        98         5         9         6         8        5        7  \n",
       "2      87       103         7         3         3         7        6        7  \n",
       "3     102       108         4         7         5         6        4        4  \n",
       "4      55        89         1         5         7         5        2        6  \n",
       "5     109        96         5         8         7         5        4       10  \n",
       "6      95       101         3         6         3         1        3        7  \n",
       "7     109       112         6         5         8         5        3        7  \n",
       "8      98       107         5         5         6         1        5        7  "
      ]
     },
     "execution_count": 13,
     "metadata": {},
     "output_type": "execute_result"
    }
   ],
   "source": [
    "subjectsMetadata"
   ]
  },
  {
   "cell_type": "code",
   "execution_count": 14,
   "metadata": {},
   "outputs": [
    {
     "data": {
      "text/html": [
       "<div>\n",
       "<style scoped>\n",
       "    .dataframe tbody tr th:only-of-type {\n",
       "        vertical-align: middle;\n",
       "    }\n",
       "\n",
       "    .dataframe tbody tr th {\n",
       "        vertical-align: top;\n",
       "    }\n",
       "\n",
       "    .dataframe thead th {\n",
       "        text-align: right;\n",
       "    }\n",
       "</style>\n",
       "<table border=\"1\" class=\"dataframe\">\n",
       "  <thead>\n",
       "    <tr style=\"text-align: right;\">\n",
       "      <th></th>\n",
       "      <th>filename</th>\n",
       "      <th>channel</th>\n",
       "      <th>subjectId</th>\n",
       "      <th>labelerId</th>\n",
       "    </tr>\n",
       "  </thead>\n",
       "  <tbody>\n",
       "    <tr>\n",
       "      <th>0</th>\n",
       "      <td>COG001_spindle_c3.csv</td>\n",
       "      <td>C3-M2</td>\n",
       "      <td>0001</td>\n",
       "      <td>0001</td>\n",
       "    </tr>\n",
       "    <tr>\n",
       "      <th>1</th>\n",
       "      <td>COG002_spindle_c3.csv</td>\n",
       "      <td>C3-M2</td>\n",
       "      <td>0002</td>\n",
       "      <td>0001</td>\n",
       "    </tr>\n",
       "    <tr>\n",
       "      <th>2</th>\n",
       "      <td>COG003_spindle_c3.csv</td>\n",
       "      <td>C3-M2</td>\n",
       "      <td>0003</td>\n",
       "      <td>0001</td>\n",
       "    </tr>\n",
       "    <tr>\n",
       "      <th>3</th>\n",
       "      <td>COG004_spindle_c3.csv</td>\n",
       "      <td>C3-M2</td>\n",
       "      <td>0004</td>\n",
       "      <td>0001</td>\n",
       "    </tr>\n",
       "    <tr>\n",
       "      <th>4</th>\n",
       "      <td>COG005_spindle_c3.csv</td>\n",
       "      <td>C3-M2</td>\n",
       "      <td>0005</td>\n",
       "      <td>0001</td>\n",
       "    </tr>\n",
       "    <tr>\n",
       "      <th>5</th>\n",
       "      <td>COG006_spindle_c3.csv</td>\n",
       "      <td>C3-M2</td>\n",
       "      <td>0006</td>\n",
       "      <td>0001</td>\n",
       "    </tr>\n",
       "    <tr>\n",
       "      <th>6</th>\n",
       "      <td>COG007_spindle_c3.csv</td>\n",
       "      <td>C3-M2</td>\n",
       "      <td>0007</td>\n",
       "      <td>0001</td>\n",
       "    </tr>\n",
       "    <tr>\n",
       "      <th>7</th>\n",
       "      <td>COG008_spindle_c3.csv</td>\n",
       "      <td>C3-M2</td>\n",
       "      <td>0008</td>\n",
       "      <td>0001</td>\n",
       "    </tr>\n",
       "    <tr>\n",
       "      <th>8</th>\n",
       "      <td>COG009_spindle_c3.csv</td>\n",
       "      <td>C3-M2</td>\n",
       "      <td>0009</td>\n",
       "      <td>0001</td>\n",
       "    </tr>\n",
       "  </tbody>\n",
       "</table>\n",
       "</div>"
      ],
      "text/plain": [
       "                filename channel subjectId labelerId\n",
       "0  COG001_spindle_c3.csv   C3-M2      0001      0001\n",
       "1  COG002_spindle_c3.csv   C3-M2      0002      0001\n",
       "2  COG003_spindle_c3.csv   C3-M2      0003      0001\n",
       "3  COG004_spindle_c3.csv   C3-M2      0004      0001\n",
       "4  COG005_spindle_c3.csv   C3-M2      0005      0001\n",
       "5  COG006_spindle_c3.csv   C3-M2      0006      0001\n",
       "6  COG007_spindle_c3.csv   C3-M2      0007      0001\n",
       "7  COG008_spindle_c3.csv   C3-M2      0008      0001\n",
       "8  COG009_spindle_c3.csv   C3-M2      0009      0001"
      ]
     },
     "execution_count": 14,
     "metadata": {},
     "output_type": "execute_result"
    }
   ],
   "source": [
    "annotationsMetadata"
   ]
  },
  {
   "cell_type": "markdown",
   "metadata": {},
   "source": [
    "## create a dataframe with the features available"
   ]
  },
  {
   "cell_type": "code",
   "execution_count": 3,
   "metadata": {},
   "outputs": [],
   "source": [
    "#general parameters\n",
    "samplerates=[200]\n",
    "windowDurations=[0.5,0.25,1.5,3]\n",
    "bands={\n",
    "    'spindle':[10,16],\n",
    "    'delta':[0,4],\n",
    "    'theta':[4,8],\n",
    "    'alpha':[8,12],\n",
    "    'sigma':[12.5,15],\n",
    "    'beta':[12,30]\n",
    "    }\n",
    "subjectIds=list(subjectsMetadata.subjectId)"
   ]
  },
  {
   "cell_type": "code",
   "execution_count": 4,
   "metadata": {},
   "outputs": [],
   "source": [
    "allSamplerates=[]\n",
    "allWindows=[]\n",
    "allSubjectIds=[]\n",
    "allCharacteristics=[]\n",
    "allBandNames=[]\n",
    "\n",
    "for samplerate in samplerates:\n",
    "    for window in windowDurations:\n",
    "        for subject in subjectIds:\n",
    "            thisPath=featurespath+'/'+str(samplerate)+'fs/'+str(window)+'win/'+subject\n",
    "            fullfileList=os.listdir(thisPath)\n",
    "            for fullfile in fullfileList:\n",
    "                #remove extension\n",
    "                namefile=fullfile[:-3]\n",
    "                #separate fields\n",
    "                characteristic,band=namefile.split('_')[2:4]\n",
    "                allSamplerates.append(samplerate)\n",
    "                allWindows.append(window)\n",
    "                allSubjectIds.append(subject)\n",
    "                allCharacteristics.append(characteristic)\n",
    "                allBandNames.append(band)\n",
    "\n",
    "fullFeaturesDf=pd.DataFrame({\n",
    "    'samplerate':allSamplerates,\n",
    "    'window':allWindows,\n",
    "    'subjectId':allSubjectIds,\n",
    "    'characteristic':allCharacteristics,\n",
    "    'bandName':allBandNames\n",
    "})\n",
    "\n",
    "#we need this to load the features in a fixed order\n",
    "simpleFeatureDf=fullFeaturesDf[['characteristic','bandName']].drop_duplicates()"
   ]
  },
  {
   "cell_type": "code",
   "execution_count": 5,
   "metadata": {},
   "outputs": [
    {
     "data": {
      "text/html": [
       "<div>\n",
       "<style scoped>\n",
       "    .dataframe tbody tr th:only-of-type {\n",
       "        vertical-align: middle;\n",
       "    }\n",
       "\n",
       "    .dataframe tbody tr th {\n",
       "        vertical-align: top;\n",
       "    }\n",
       "\n",
       "    .dataframe thead th {\n",
       "        text-align: right;\n",
       "    }\n",
       "</style>\n",
       "<table border=\"1\" class=\"dataframe\">\n",
       "  <thead>\n",
       "    <tr style=\"text-align: right;\">\n",
       "      <th></th>\n",
       "      <th>characteristic</th>\n",
       "      <th>bandName</th>\n",
       "    </tr>\n",
       "  </thead>\n",
       "  <tbody>\n",
       "    <tr>\n",
       "      <th>0</th>\n",
       "      <td>CTM</td>\n",
       "      <td>alpha</td>\n",
       "    </tr>\n",
       "    <tr>\n",
       "      <th>1</th>\n",
       "      <td>CTM</td>\n",
       "      <td>beta1</td>\n",
       "    </tr>\n",
       "    <tr>\n",
       "      <th>2</th>\n",
       "      <td>CTM</td>\n",
       "      <td>beta2</td>\n",
       "    </tr>\n",
       "    <tr>\n",
       "      <th>3</th>\n",
       "      <td>CTM</td>\n",
       "      <td>broadband</td>\n",
       "    </tr>\n",
       "    <tr>\n",
       "      <th>4</th>\n",
       "      <td>CTM</td>\n",
       "      <td>delta1</td>\n",
       "    </tr>\n",
       "    <tr>\n",
       "      <th>...</th>\n",
       "      <td>...</td>\n",
       "      <td>...</td>\n",
       "    </tr>\n",
       "    <tr>\n",
       "      <th>121</th>\n",
       "      <td>symmetry</td>\n",
       "      <td>broadband</td>\n",
       "    </tr>\n",
       "    <tr>\n",
       "      <th>122</th>\n",
       "      <td>symmetry</td>\n",
       "      <td>delta1</td>\n",
       "    </tr>\n",
       "    <tr>\n",
       "      <th>123</th>\n",
       "      <td>symmetry</td>\n",
       "      <td>delta2</td>\n",
       "    </tr>\n",
       "    <tr>\n",
       "      <th>124</th>\n",
       "      <td>symmetry</td>\n",
       "      <td>sigma</td>\n",
       "    </tr>\n",
       "    <tr>\n",
       "      <th>125</th>\n",
       "      <td>symmetry</td>\n",
       "      <td>theta</td>\n",
       "    </tr>\n",
       "  </tbody>\n",
       "</table>\n",
       "<p>126 rows × 2 columns</p>\n",
       "</div>"
      ],
      "text/plain": [
       "    characteristic   bandName\n",
       "0              CTM      alpha\n",
       "1              CTM      beta1\n",
       "2              CTM      beta2\n",
       "3              CTM  broadband\n",
       "4              CTM     delta1\n",
       "..             ...        ...\n",
       "121       symmetry  broadband\n",
       "122       symmetry     delta1\n",
       "123       symmetry     delta2\n",
       "124       symmetry      sigma\n",
       "125       symmetry      theta\n",
       "\n",
       "[126 rows x 2 columns]"
      ]
     },
     "execution_count": 5,
     "metadata": {},
     "output_type": "execute_result"
    }
   ],
   "source": [
    "simpleFeatureDf"
   ]
  },
  {
   "cell_type": "code",
   "execution_count": 6,
   "metadata": {},
   "outputs": [
    {
     "data": {
      "text/plain": [
       "126"
      ]
     },
     "execution_count": 6,
     "metadata": {},
     "output_type": "execute_result"
    }
   ],
   "source": [
    "#126 features\n",
    "len(simpleFeatureDf)"
   ]
  },
  {
   "cell_type": "code",
   "execution_count": 7,
   "metadata": {},
   "outputs": [
    {
     "data": {
      "text/plain": [
       "True"
      ]
     },
     "execution_count": 7,
     "metadata": {},
     "output_type": "execute_result"
    }
   ],
   "source": [
    "#126 feature by 8 subjects by 4 window\n",
    "len(fullFeaturesDf)==126*8*4"
   ]
  },
  {
   "cell_type": "markdown",
   "metadata": {},
   "source": [
    "## samplerate and excerpDimension\n",
    "needs improvements"
   ]
  },
  {
   "cell_type": "code",
   "execution_count": 8,
   "metadata": {},
   "outputs": [],
   "source": [
    "samplerate=200\n",
    "\n",
    "#You need a way to extend this to data that is not so regular ---------------------->\n",
    "excerptDimension=len(signals['0001'])\n",
    "#<-----------------------------------------------------------------------------------"
   ]
  },
  {
   "cell_type": "markdown",
   "metadata": {},
   "source": [
    "## data splits definition"
   ]
  },
  {
   "cell_type": "code",
   "execution_count": 9,
   "metadata": {},
   "outputs": [],
   "source": [
    "usedSubjects=np.array([\"0001\",\"0002\",\"0003\",\"0005\",\"0006\"])"
   ]
  },
  {
   "cell_type": "code",
   "execution_count": 10,
   "metadata": {},
   "outputs": [],
   "source": [
    "valCount=1\n",
    "trainSplits=[]\n",
    "valSplits=[]\n",
    "testSplits=[]\n",
    "for i in range(len(usedSubjects)):\n",
    "    thisTest=usedSubjects[i]\n",
    "    thisNoTest=np.setdiff1d(usedSubjects,thisTest)\n",
    "    thisVal=np.random.choice(thisNoTest,size=valCount,replace=False)\n",
    "    thisTrain=np.setdiff1d(thisNoTest,thisVal)\n",
    "    trainSplits.append(thisTrain)\n",
    "    valSplits.append(thisVal)\n",
    "    testSplits.append(thisTest)\n",
    "\n",
    "dataSplits=pd.DataFrame({\n",
    "    'train':trainSplits,\n",
    "    'val':valSplits,\n",
    "    'test':testSplits\n",
    "})"
   ]
  },
  {
   "cell_type": "code",
   "execution_count": 11,
   "metadata": {},
   "outputs": [
    {
     "data": {
      "text/html": [
       "<div>\n",
       "<style scoped>\n",
       "    .dataframe tbody tr th:only-of-type {\n",
       "        vertical-align: middle;\n",
       "    }\n",
       "\n",
       "    .dataframe tbody tr th {\n",
       "        vertical-align: top;\n",
       "    }\n",
       "\n",
       "    .dataframe thead th {\n",
       "        text-align: right;\n",
       "    }\n",
       "</style>\n",
       "<table border=\"1\" class=\"dataframe\">\n",
       "  <thead>\n",
       "    <tr style=\"text-align: right;\">\n",
       "      <th></th>\n",
       "      <th>train</th>\n",
       "      <th>val</th>\n",
       "      <th>test</th>\n",
       "    </tr>\n",
       "  </thead>\n",
       "  <tbody>\n",
       "    <tr>\n",
       "      <th>0</th>\n",
       "      <td>[0002, 0003, 0006]</td>\n",
       "      <td>[0005]</td>\n",
       "      <td>0001</td>\n",
       "    </tr>\n",
       "    <tr>\n",
       "      <th>1</th>\n",
       "      <td>[0001, 0003, 0005]</td>\n",
       "      <td>[0006]</td>\n",
       "      <td>0002</td>\n",
       "    </tr>\n",
       "    <tr>\n",
       "      <th>2</th>\n",
       "      <td>[0001, 0002, 0006]</td>\n",
       "      <td>[0005]</td>\n",
       "      <td>0003</td>\n",
       "    </tr>\n",
       "    <tr>\n",
       "      <th>3</th>\n",
       "      <td>[0001, 0003, 0006]</td>\n",
       "      <td>[0002]</td>\n",
       "      <td>0005</td>\n",
       "    </tr>\n",
       "    <tr>\n",
       "      <th>4</th>\n",
       "      <td>[0001, 0002, 0005]</td>\n",
       "      <td>[0003]</td>\n",
       "      <td>0006</td>\n",
       "    </tr>\n",
       "  </tbody>\n",
       "</table>\n",
       "</div>"
      ],
      "text/plain": [
       "                train     val  test\n",
       "0  [0002, 0003, 0006]  [0005]  0001\n",
       "1  [0001, 0003, 0005]  [0006]  0002\n",
       "2  [0001, 0002, 0006]  [0005]  0003\n",
       "3  [0001, 0003, 0006]  [0002]  0005\n",
       "4  [0001, 0002, 0005]  [0003]  0006"
      ]
     },
     "execution_count": 11,
     "metadata": {},
     "output_type": "execute_result"
    }
   ],
   "source": [
    "dataSplits"
   ]
  },
  {
   "cell_type": "code",
   "execution_count": 12,
   "metadata": {},
   "outputs": [],
   "source": [
    "#Using a feature proposal defined\n",
    "iteration=7\n",
    "cFile = open(\"EXT_F1_iteration_\"+str(iteration)+\".pkl\", 'rb')\n",
    "selectedFeatureDf = pkl.load(cFile)\n",
    "cFile.close()"
   ]
  },
  {
   "cell_type": "code",
   "execution_count": 13,
   "metadata": {},
   "outputs": [
    {
     "data": {
      "text/html": [
       "<div>\n",
       "<style scoped>\n",
       "    .dataframe tbody tr th:only-of-type {\n",
       "        vertical-align: middle;\n",
       "    }\n",
       "\n",
       "    .dataframe tbody tr th {\n",
       "        vertical-align: top;\n",
       "    }\n",
       "\n",
       "    .dataframe thead th {\n",
       "        text-align: right;\n",
       "    }\n",
       "</style>\n",
       "<table border=\"1\" class=\"dataframe\">\n",
       "  <thead>\n",
       "    <tr style=\"text-align: right;\">\n",
       "      <th></th>\n",
       "      <th>characteristic</th>\n",
       "      <th>bandName</th>\n",
       "      <th>window</th>\n",
       "    </tr>\n",
       "  </thead>\n",
       "  <tbody>\n",
       "    <tr>\n",
       "      <th>0</th>\n",
       "      <td>hjortActivity</td>\n",
       "      <td>sigma</td>\n",
       "      <td>0.5</td>\n",
       "    </tr>\n",
       "    <tr>\n",
       "      <th>1</th>\n",
       "      <td>petrosian</td>\n",
       "      <td>broadband</td>\n",
       "      <td>0.5</td>\n",
       "    </tr>\n",
       "    <tr>\n",
       "      <th>2</th>\n",
       "      <td>hjortActivity</td>\n",
       "      <td>theta</td>\n",
       "      <td>0.5</td>\n",
       "    </tr>\n",
       "    <tr>\n",
       "      <th>3</th>\n",
       "      <td>relativePower</td>\n",
       "      <td>beta1</td>\n",
       "      <td>0.5</td>\n",
       "    </tr>\n",
       "    <tr>\n",
       "      <th>4</th>\n",
       "      <td>hjortComplexity</td>\n",
       "      <td>sigma</td>\n",
       "      <td>0.5</td>\n",
       "    </tr>\n",
       "  </tbody>\n",
       "</table>\n",
       "</div>"
      ],
      "text/plain": [
       "    characteristic   bandName  window\n",
       "0    hjortActivity      sigma     0.5\n",
       "1        petrosian  broadband     0.5\n",
       "2    hjortActivity      theta     0.5\n",
       "3    relativePower      beta1     0.5\n",
       "4  hjortComplexity      sigma     0.5"
      ]
     },
     "execution_count": 13,
     "metadata": {},
     "output_type": "execute_result"
    }
   ],
   "source": [
    "selectedFeatureDf=selectedFeatureDf.reset_index(drop=True)\n",
    "selectedFeatureDf"
   ]
  },
  {
   "cell_type": "code",
   "execution_count": 14,
   "metadata": {},
   "outputs": [],
   "source": [
    "window=0.5    #must change this"
   ]
  },
  {
   "cell_type": "code",
   "execution_count": 15,
   "metadata": {},
   "outputs": [
    {
     "name": "stderr",
     "output_type": "stream",
     "text": [
      "\\\\desktop-447dqph\\Users\\Gurdiel\\Code\\Testing\\venv\\lib\\site-packages\\xgboost\\sklearn.py:793: UserWarning: `eval_metric` in `fit` method is deprecated for better compatibility with scikit-learn, use `eval_metric` in constructor or`set_params` instead.\n",
      "  warnings.warn(\n",
      "\\\\desktop-447dqph\\Users\\Gurdiel\\Code\\Testing\\venv\\lib\\site-packages\\xgboost\\sklearn.py:793: UserWarning: `early_stopping_rounds` in `fit` method is deprecated for better compatibility with scikit-learn, use `early_stopping_rounds` in constructor or`set_params` instead.\n",
      "  warnings.warn(\n",
      "\\\\desktop-447dqph\\Users\\Gurdiel\\Code\\Testing\\venv\\lib\\site-packages\\xgboost\\core.py:91: UserWarning: ntree_limit is deprecated, use `iteration_range` or model slicing instead.\n",
      "  warnings.warn(\n",
      "\\\\desktop-447dqph\\Users\\Gurdiel\\Code\\Testing\\venv\\lib\\site-packages\\xgboost\\sklearn.py:793: UserWarning: `eval_metric` in `fit` method is deprecated for better compatibility with scikit-learn, use `eval_metric` in constructor or`set_params` instead.\n",
      "  warnings.warn(\n",
      "\\\\desktop-447dqph\\Users\\Gurdiel\\Code\\Testing\\venv\\lib\\site-packages\\xgboost\\sklearn.py:793: UserWarning: `early_stopping_rounds` in `fit` method is deprecated for better compatibility with scikit-learn, use `early_stopping_rounds` in constructor or`set_params` instead.\n",
      "  warnings.warn(\n",
      "\\\\desktop-447dqph\\Users\\Gurdiel\\Code\\Testing\\venv\\lib\\site-packages\\xgboost\\core.py:91: UserWarning: ntree_limit is deprecated, use `iteration_range` or model slicing instead.\n",
      "  warnings.warn(\n",
      "\\\\desktop-447dqph\\Users\\Gurdiel\\Code\\Testing\\venv\\lib\\site-packages\\xgboost\\sklearn.py:793: UserWarning: `eval_metric` in `fit` method is deprecated for better compatibility with scikit-learn, use `eval_metric` in constructor or`set_params` instead.\n",
      "  warnings.warn(\n",
      "\\\\desktop-447dqph\\Users\\Gurdiel\\Code\\Testing\\venv\\lib\\site-packages\\xgboost\\sklearn.py:793: UserWarning: `early_stopping_rounds` in `fit` method is deprecated for better compatibility with scikit-learn, use `early_stopping_rounds` in constructor or`set_params` instead.\n",
      "  warnings.warn(\n",
      "\\\\desktop-447dqph\\Users\\Gurdiel\\Code\\Testing\\venv\\lib\\site-packages\\xgboost\\core.py:91: UserWarning: ntree_limit is deprecated, use `iteration_range` or model slicing instead.\n",
      "  warnings.warn(\n",
      "\\\\desktop-447dqph\\Users\\Gurdiel\\Code\\Testing\\venv\\lib\\site-packages\\xgboost\\sklearn.py:793: UserWarning: `eval_metric` in `fit` method is deprecated for better compatibility with scikit-learn, use `eval_metric` in constructor or`set_params` instead.\n",
      "  warnings.warn(\n",
      "\\\\desktop-447dqph\\Users\\Gurdiel\\Code\\Testing\\venv\\lib\\site-packages\\xgboost\\sklearn.py:793: UserWarning: `early_stopping_rounds` in `fit` method is deprecated for better compatibility with scikit-learn, use `early_stopping_rounds` in constructor or`set_params` instead.\n",
      "  warnings.warn(\n",
      "\\\\desktop-447dqph\\Users\\Gurdiel\\Code\\Testing\\venv\\lib\\site-packages\\xgboost\\core.py:91: UserWarning: ntree_limit is deprecated, use `iteration_range` or model slicing instead.\n",
      "  warnings.warn(\n",
      "\\\\desktop-447dqph\\Users\\Gurdiel\\Code\\Testing\\venv\\lib\\site-packages\\xgboost\\sklearn.py:793: UserWarning: `eval_metric` in `fit` method is deprecated for better compatibility with scikit-learn, use `eval_metric` in constructor or`set_params` instead.\n",
      "  warnings.warn(\n",
      "\\\\desktop-447dqph\\Users\\Gurdiel\\Code\\Testing\\venv\\lib\\site-packages\\xgboost\\sklearn.py:793: UserWarning: `early_stopping_rounds` in `fit` method is deprecated for better compatibility with scikit-learn, use `early_stopping_rounds` in constructor or`set_params` instead.\n",
      "  warnings.warn(\n",
      "\\\\desktop-447dqph\\Users\\Gurdiel\\Code\\Testing\\venv\\lib\\site-packages\\xgboost\\core.py:91: UserWarning: ntree_limit is deprecated, use `iteration_range` or model slicing instead.\n",
      "  warnings.warn(\n"
     ]
    }
   ],
   "source": [
    "models=[]\n",
    "treeLimits=[]\n",
    "valF1s=[]\n",
    "for index, row in dataSplits.iterrows():\n",
    "    #Features\n",
    "    trainFeatures=loadFeatureMatrix(row.train,selectedFeatureDf,excerptDimension,window,samplerate,featurespath)\n",
    "    valFeatures=loadFeatureMatrix(row.val,selectedFeatureDf,excerptDimension,window,samplerate,featurespath)    #<-Warning! we are appending the validation signals one after the other!!!\n",
    "    #Labels\n",
    "    trainLabels=loadLabelsVector(row.train,annotations,excerptDimension)\n",
    "    valLabels=loadLabelsVector(row.val,annotations,excerptDimension)\n",
    "    #Train the models\n",
    "    xgb_model = xgb.XGBClassifier(n_jobs=8).fit(trainFeatures, trainLabels, early_stopping_rounds=3, eval_metric=\"logloss\",eval_set=[(valFeatures,valLabels)],verbose=0)\n",
    "    models.append(xgb_model)\n",
    "    treeLimits.append(xgb_model.best_ntree_limit)\n",
    "    #val predictions and objective function definition\n",
    "    valPredictions=xgb_model.predict(valFeatures, ntree_limit=xgb_model.best_ntree_limit)\n",
    "    valF1s.append(F1(valLabels,valPredictions))\n",
    "\n",
    "dataSplits[\"model\"]=models\n",
    "dataSplits[\"treeLimit\"]=treeLimits\n",
    "dataSplits[\"valF1\"]=valF1s\n"
   ]
  },
  {
   "cell_type": "code",
   "execution_count": 16,
   "metadata": {},
   "outputs": [],
   "source": [
    "del models, treeLimits, valF1s, trainFeatures, valFeatures, trainLabels, valLabels, xgb_model"
   ]
  },
  {
   "cell_type": "code",
   "execution_count": 17,
   "metadata": {},
   "outputs": [],
   "source": [
    "with open(\"CVOut_\"+str(time.time())+\".pkl\", 'wb') as file:\n",
    "    pkl.dump({\"features\":selectedFeatureDf,\"results\":dataSplits}, file)"
   ]
  },
  {
   "cell_type": "code",
   "execution_count": 18,
   "metadata": {},
   "outputs": [
    {
     "data": {
      "text/html": [
       "<div>\n",
       "<style scoped>\n",
       "    .dataframe tbody tr th:only-of-type {\n",
       "        vertical-align: middle;\n",
       "    }\n",
       "\n",
       "    .dataframe tbody tr th {\n",
       "        vertical-align: top;\n",
       "    }\n",
       "\n",
       "    .dataframe thead th {\n",
       "        text-align: right;\n",
       "    }\n",
       "</style>\n",
       "<table border=\"1\" class=\"dataframe\">\n",
       "  <thead>\n",
       "    <tr style=\"text-align: right;\">\n",
       "      <th></th>\n",
       "      <th>train</th>\n",
       "      <th>val</th>\n",
       "      <th>test</th>\n",
       "      <th>model</th>\n",
       "      <th>treeLimit</th>\n",
       "      <th>valF1</th>\n",
       "    </tr>\n",
       "  </thead>\n",
       "  <tbody>\n",
       "    <tr>\n",
       "      <th>0</th>\n",
       "      <td>[0002, 0003, 0006]</td>\n",
       "      <td>[0005]</td>\n",
       "      <td>0001</td>\n",
       "      <td>XGBClassifier(base_score=0.5, booster='gbtree'...</td>\n",
       "      <td>20</td>\n",
       "      <td>0.594912</td>\n",
       "    </tr>\n",
       "    <tr>\n",
       "      <th>1</th>\n",
       "      <td>[0001, 0003, 0005]</td>\n",
       "      <td>[0006]</td>\n",
       "      <td>0002</td>\n",
       "      <td>XGBClassifier(base_score=0.5, booster='gbtree'...</td>\n",
       "      <td>19</td>\n",
       "      <td>0.633560</td>\n",
       "    </tr>\n",
       "    <tr>\n",
       "      <th>2</th>\n",
       "      <td>[0001, 0002, 0006]</td>\n",
       "      <td>[0005]</td>\n",
       "      <td>0003</td>\n",
       "      <td>XGBClassifier(base_score=0.5, booster='gbtree'...</td>\n",
       "      <td>21</td>\n",
       "      <td>0.584836</td>\n",
       "    </tr>\n",
       "    <tr>\n",
       "      <th>3</th>\n",
       "      <td>[0001, 0003, 0006]</td>\n",
       "      <td>[0002]</td>\n",
       "      <td>0005</td>\n",
       "      <td>XGBClassifier(base_score=0.5, booster='gbtree'...</td>\n",
       "      <td>26</td>\n",
       "      <td>0.630363</td>\n",
       "    </tr>\n",
       "    <tr>\n",
       "      <th>4</th>\n",
       "      <td>[0001, 0002, 0005]</td>\n",
       "      <td>[0003]</td>\n",
       "      <td>0006</td>\n",
       "      <td>XGBClassifier(base_score=0.5, booster='gbtree'...</td>\n",
       "      <td>29</td>\n",
       "      <td>0.522570</td>\n",
       "    </tr>\n",
       "  </tbody>\n",
       "</table>\n",
       "</div>"
      ],
      "text/plain": [
       "                train     val  test  \\\n",
       "0  [0002, 0003, 0006]  [0005]  0001   \n",
       "1  [0001, 0003, 0005]  [0006]  0002   \n",
       "2  [0001, 0002, 0006]  [0005]  0003   \n",
       "3  [0001, 0003, 0006]  [0002]  0005   \n",
       "4  [0001, 0002, 0005]  [0003]  0006   \n",
       "\n",
       "                                               model  treeLimit     valF1  \n",
       "0  XGBClassifier(base_score=0.5, booster='gbtree'...         20  0.594912  \n",
       "1  XGBClassifier(base_score=0.5, booster='gbtree'...         19  0.633560  \n",
       "2  XGBClassifier(base_score=0.5, booster='gbtree'...         21  0.584836  \n",
       "3  XGBClassifier(base_score=0.5, booster='gbtree'...         26  0.630363  \n",
       "4  XGBClassifier(base_score=0.5, booster='gbtree'...         29  0.522570  "
      ]
     },
     "execution_count": 18,
     "metadata": {},
     "output_type": "execute_result"
    }
   ],
   "source": [
    "dataSplits"
   ]
  },
  {
   "cell_type": "markdown",
   "metadata": {},
   "source": [
    "## Prepare for testing"
   ]
  },
  {
   "cell_type": "code",
   "execution_count": 19,
   "metadata": {},
   "outputs": [],
   "source": [
    "def labelingProcess(labelVector,maxTimeClose,minDuration,samplerate):\n",
    "    aux=ndi.label(labelVector)\n",
    "    preCandidates=ndi.find_objects(aux[0])\n",
    "    if len(preCandidates)>0:    #consider the case of no precandidates at all\n",
    "        #1. Join candidates separated by less than the threshold\n",
    "        kernelLength=int(maxTimeClose*samplerate)\n",
    "        if kernelLength>0:\n",
    "            kernel=np.ones((kernelLength,))\n",
    "            labelVector=ndi.binary_closing(labelVector,kernel)\n",
    "        #2. Discard candidates under minimum duration\n",
    "        aux=ndi.label(labelVector)\n",
    "        candidates=ndi.find_objects(aux[0])\n",
    "        labelVector=np.zeros_like(labelVector)\n",
    "        if len(candidates)>0:\n",
    "            durations=np.apply_along_axis(lambda x: (x[0].stop-x[0].start)/samplerate,1,candidates)\n",
    "            detections=[candidates[i] for i in np.where(durations>minDuration)[0]]\n",
    "            for detection in detections:\n",
    "                labelVector[detection]=1\n",
    "    return labelVector\n",
    "    \n",
    "def fullLabelingScore(groundTruth,predictions,maxTimeClose,minDuration,samplerate):\n",
    "    cleanedPredictions=labelingProcess(predictions,maxTimeClose,minDuration,samplerate)\n",
    "    return F1(groundTruth,cleanedPredictions)\n",
    "\n",
    "def labelIntersectionIoU(label,annotations):\n",
    "    isIntersect=annotations.apply(\n",
    "        lambda row: ((label.startInd>=row.startInd)&(label.startInd<row.stopInd)) | ((row.startInd>=label.startInd)&(row.startInd<label.stopInd))\n",
    "        ,axis=1)\n",
    "\n",
    "    labelIntersect=None\n",
    "\n",
    "    #output lenght should be equal 1 or 0 (at least now)\n",
    "    aux=np.sum(isIntersect)\n",
    "    if aux==0:\n",
    "        IoU=0\n",
    "    else:\n",
    "        if aux>1:   #<----------- beware of labels with more than 1 intersecting detection\n",
    "            print(\"Warning: multiple overlap\")\n",
    "            print(aux)\n",
    "        labelIndexes=np.arange(label.startInd,label.stopInd)\n",
    "        allIntersections=np.where(isIntersect)[0]\n",
    "        intersectingIndexes=np.array([])\n",
    "        for i in allIntersections:\n",
    "            intersecting=annotations.loc[i]\n",
    "            tempIndexes=np.arange(intersecting.startInd,intersecting.stopInd)\n",
    "            overlap=np.intersect1d(labelIndexes,tempIndexes)\n",
    "            if (len(overlap)>len(intersectingIndexes)): #select only maximal overlap\n",
    "                intersectingIndexes=tempIndexes\n",
    "                labelIntersect=i\n",
    "        IoU=len(np.intersect1d(labelIndexes,intersectingIndexes))/len(np.union1d(labelIndexes,intersectingIndexes))\n",
    "    return IoU, labelIntersect\n",
    "\n",
    "def byEventF1(unionAnnotations,predictedAnnotations):\n",
    "    #by event metrics\n",
    "    unionAnnotations[['IoU','intersectsWith']]=unionAnnotations.apply(\n",
    "    lambda row: labelIntersectionIoU(row,predictedAnnotations)\n",
    "    ,axis=1, result_type ='expand')\n",
    "\n",
    "    annotationsNoOverlap=np.array(unionAnnotations[unionAnnotations.intersectsWith.isna()].index)\n",
    "    unionAnnotationsOverlap=unionAnnotations.iloc[np.setdiff1d(np.array(unionAnnotations.index),annotationsNoOverlap)]\n",
    "    detectionsOverThreshold=np.array(unionAnnotationsOverlap[unionAnnotationsOverlap.IoU>0.2].intersectsWith)\n",
    "    detectionsBelowThreshold=np.array(unionAnnotationsOverlap[unionAnnotationsOverlap.IoU<0.2].intersectsWith)\n",
    "    detectionsConsidered=np.union1d(detectionsOverThreshold,detectionsBelowThreshold)\n",
    "    detecionsNotConsidered=np.setdiff1d(\n",
    "        np.array(predictedAnnotations.index),\n",
    "        detectionsConsidered\n",
    "    )\n",
    "\n",
    "    tp=len(detectionsOverThreshold)\n",
    "    fp=len(detecionsNotConsidered)+len(detectionsBelowThreshold)\n",
    "    fn=len(annotationsNoOverlap)+len(detectionsBelowThreshold)\n",
    "    f1_event=2*tp/(2*tp+fp+fn)\n",
    "\n",
    "    return f1_event"
   ]
  },
  {
   "cell_type": "code",
   "execution_count": 20,
   "metadata": {},
   "outputs": [],
   "source": [
    "n=10\n",
    "\"\"\" t0=np.linspace(0.1,0.75,n)\n",
    "t1=np.linspace(0.1,0.75,n) \"\"\"\n",
    "t0=np.linspace(0.1,0.55,10)\n",
    "t1=np.linspace(0.1,0.55,10)\n",
    "t0=np.repeat(t0[:,np.newaxis],n,1)\n",
    "t1=np.transpose(np.repeat(t1[:,np.newaxis],n,1))\n",
    "t0=t0.flatten()\n",
    "t1=t1.flatten()"
   ]
  },
  {
   "cell_type": "code",
   "execution_count": 21,
   "metadata": {},
   "outputs": [
    {
     "name": "stderr",
     "output_type": "stream",
     "text": [
      "\\\\desktop-447dqph\\Users\\Gurdiel\\Code\\Testing\\venv\\lib\\site-packages\\xgboost\\core.py:91: UserWarning: ntree_limit is deprecated, use `iteration_range` or model slicing instead.\n",
      "  warnings.warn(\n"
     ]
    },
    {
     "name": "stdout",
     "output_type": "stream",
     "text": [
      "Warning: multiple overlap\n",
      "2\n",
      "Warning: multiple overlap\n",
      "2\n",
      "Warning: multiple overlap\n",
      "2\n",
      "Warning: multiple overlap\n",
      "2\n",
      "Warning: multiple overlap\n",
      "2\n",
      "Warning: multiple overlap\n",
      "2\n",
      "Warning: multiple overlap\n",
      "2\n",
      "Warning: multiple overlap\n",
      "2\n",
      "Warning: multiple overlap\n",
      "2\n",
      "Warning: multiple overlap\n",
      "2\n",
      "Warning: multiple overlap\n",
      "2\n",
      "Warning: multiple overlap\n",
      "2\n",
      "Warning: multiple overlap\n",
      "2\n",
      "Warning: multiple overlap\n",
      "2\n",
      "Warning: multiple overlap\n",
      "2\n",
      "Warning: multiple overlap\n",
      "2\n",
      "Warning: multiple overlap\n",
      "2\n",
      "Warning: multiple overlap\n",
      "2\n",
      "Warning: multiple overlap\n",
      "2\n",
      "Warning: multiple overlap\n",
      "2\n",
      "Warning: multiple overlap\n",
      "2\n",
      "Warning: multiple overlap\n",
      "2\n",
      "Warning: multiple overlap\n",
      "2\n",
      "Warning: multiple overlap\n",
      "2\n",
      "Warning: multiple overlap\n",
      "2\n",
      "Warning: multiple overlap\n",
      "2\n",
      "Warning: multiple overlap\n",
      "2\n",
      "Warning: multiple overlap\n",
      "2\n",
      "Warning: multiple overlap\n",
      "2\n",
      "Warning: multiple overlap\n",
      "2\n",
      "Warning: multiple overlap\n",
      "2\n",
      "Warning: multiple overlap\n",
      "2\n"
     ]
    },
    {
     "name": "stderr",
     "output_type": "stream",
     "text": [
      "\\\\desktop-447dqph\\Users\\Gurdiel\\Code\\Testing\\venv\\lib\\site-packages\\xgboost\\core.py:91: UserWarning: ntree_limit is deprecated, use `iteration_range` or model slicing instead.\n",
      "  warnings.warn(\n"
     ]
    },
    {
     "name": "stdout",
     "output_type": "stream",
     "text": [
      "Warning: multiple overlap\n",
      "2\n",
      "Warning: multiple overlap\n",
      "2\n",
      "Warning: multiple overlap\n",
      "2\n",
      "Warning: multiple overlap\n",
      "2\n",
      "Warning: multiple overlap\n",
      "2\n",
      "Warning: multiple overlap\n",
      "2\n",
      "Warning: multiple overlap\n",
      "2\n",
      "Warning: multiple overlap\n",
      "2\n",
      "Warning: multiple overlap\n",
      "2\n",
      "Warning: multiple overlap\n",
      "2\n",
      "Warning: multiple overlap\n",
      "2\n",
      "Warning: multiple overlap\n",
      "2\n",
      "Warning: multiple overlap\n",
      "2\n",
      "Warning: multiple overlap\n",
      "2\n",
      "Warning: multiple overlap\n",
      "2\n",
      "Warning: multiple overlap\n",
      "2\n",
      "Warning: multiple overlap\n",
      "2\n",
      "Warning: multiple overlap\n",
      "2\n",
      "Warning: multiple overlap\n",
      "2\n",
      "Warning: multiple overlap\n",
      "2\n",
      "Warning: multiple overlap\n",
      "2\n",
      "Warning: multiple overlap\n",
      "2\n",
      "Warning: multiple overlap\n",
      "2\n"
     ]
    },
    {
     "name": "stderr",
     "output_type": "stream",
     "text": [
      "\\\\desktop-447dqph\\Users\\Gurdiel\\Code\\Testing\\venv\\lib\\site-packages\\xgboost\\core.py:91: UserWarning: ntree_limit is deprecated, use `iteration_range` or model slicing instead.\n",
      "  warnings.warn(\n"
     ]
    },
    {
     "name": "stdout",
     "output_type": "stream",
     "text": [
      "Warning: multiple overlap\n",
      "2\n",
      "Warning: multiple overlap\n",
      "2\n",
      "Warning: multiple overlap\n",
      "2\n",
      "Warning: multiple overlap\n",
      "2\n",
      "Warning: multiple overlap\n",
      "2\n",
      "Warning: multiple overlap\n",
      "2\n",
      "Warning: multiple overlap\n",
      "2\n",
      "Warning: multiple overlap\n",
      "2\n",
      "Warning: multiple overlap\n",
      "2\n",
      "Warning: multiple overlap\n",
      "2\n",
      "Warning: multiple overlap\n",
      "2\n"
     ]
    },
    {
     "name": "stderr",
     "output_type": "stream",
     "text": [
      "\\\\desktop-447dqph\\Users\\Gurdiel\\Code\\Testing\\venv\\lib\\site-packages\\xgboost\\core.py:91: UserWarning: ntree_limit is deprecated, use `iteration_range` or model slicing instead.\n",
      "  warnings.warn(\n"
     ]
    },
    {
     "name": "stdout",
     "output_type": "stream",
     "text": [
      "Warning: multiple overlap\n",
      "2\n",
      "Warning: multiple overlap\n",
      "2\n",
      "Warning: multiple overlap\n",
      "2\n",
      "Warning: multiple overlap\n",
      "2\n",
      "Warning: multiple overlap\n",
      "2\n"
     ]
    },
    {
     "name": "stderr",
     "output_type": "stream",
     "text": [
      "\\\\desktop-447dqph\\Users\\Gurdiel\\Code\\Testing\\venv\\lib\\site-packages\\xgboost\\core.py:91: UserWarning: ntree_limit is deprecated, use `iteration_range` or model slicing instead.\n",
      "  warnings.warn(\n"
     ]
    },
    {
     "name": "stdout",
     "output_type": "stream",
     "text": [
      "Warning: multiple overlap\n",
      "2\n",
      "Warning: multiple overlap\n",
      "2\n",
      "Warning: multiple overlap\n",
      "2\n",
      "Warning: multiple overlap\n",
      "2\n",
      "Warning: multiple overlap\n",
      "2\n",
      "Warning: multiple overlap\n",
      "2\n",
      "Warning: multiple overlap\n",
      "2\n",
      "Warning: multiple overlap\n",
      "2\n",
      "Warning: multiple overlap\n",
      "2\n",
      "Warning: multiple overlap\n",
      "2\n",
      "Warning: multiple overlap\n",
      "2\n",
      "Warning: multiple overlap\n",
      "2\n",
      "Warning: multiple overlap\n",
      "2\n",
      "Warning: multiple overlap\n",
      "2\n",
      "Warning: multiple overlap\n",
      "2\n",
      "Warning: multiple overlap\n",
      "2\n",
      "Warning: multiple overlap\n",
      "2\n",
      "Warning: multiple overlap\n",
      "2\n",
      "Warning: multiple overlap\n",
      "2\n",
      "Warning: multiple overlap\n",
      "2\n",
      "Warning: multiple overlap\n",
      "2\n",
      "Warning: multiple overlap\n",
      "2\n",
      "Warning: multiple overlap\n",
      "2\n"
     ]
    }
   ],
   "source": [
    "testF1s=[]\n",
    "imgs=[]\n",
    "regs=[]\n",
    "for index, row in dataSplits.iterrows():\n",
    "    #Features\n",
    "    testFeatures=loadFeatureMatrix([row.test],selectedFeatureDf,excerptDimension,window,samplerate,featurespath)\n",
    "    #Labels\n",
    "    testLabels=loadLabelsVector([row.test],annotations,excerptDimension)\n",
    "    #Model\n",
    "    xgb_model=row.model\n",
    "    #Predict\n",
    "    #val predictions and objective function definition\n",
    "    testPredictions=xgb_model.predict(testFeatures, ntree_limit=row.treeLimit)\n",
    "    testF1s.append(F1(testLabels,testPredictions))\n",
    "\n",
    "    unionAnnotations=labelVectorToAnnotations(testLabels,samplerate)\n",
    "\n",
    "    img=[]\n",
    "    reg=[]\n",
    "    for t in zip(t0,t1):\n",
    "        processedTestPredictions=labelingProcess(testPredictions,t[0],t[1],samplerate)\n",
    "        predictedAnnotations=labelVectorToAnnotations(processedTestPredictions,samplerate)\n",
    "        img.append(byEventF1(unionAnnotations,predictedAnnotations))\n",
    "        reg.append(t[0]**2+t[1]**2)\n",
    "    img=np.array(img)\n",
    "    img=img.reshape((n,n))\n",
    "    reg=np.array(reg)\n",
    "    reg=reg.reshape((n,n))\n",
    "\n",
    "    imgs.append(img)\n",
    "    regs.append(reg)"
   ]
  },
  {
   "cell_type": "code",
   "execution_count": 22,
   "metadata": {},
   "outputs": [
    {
     "data": {
      "text/html": [
       "<div>\n",
       "<style scoped>\n",
       "    .dataframe tbody tr th:only-of-type {\n",
       "        vertical-align: middle;\n",
       "    }\n",
       "\n",
       "    .dataframe tbody tr th {\n",
       "        vertical-align: top;\n",
       "    }\n",
       "\n",
       "    .dataframe thead th {\n",
       "        text-align: right;\n",
       "    }\n",
       "</style>\n",
       "<table border=\"1\" class=\"dataframe\">\n",
       "  <thead>\n",
       "    <tr style=\"text-align: right;\">\n",
       "      <th></th>\n",
       "      <th>train</th>\n",
       "      <th>val</th>\n",
       "      <th>test</th>\n",
       "      <th>model</th>\n",
       "      <th>treeLimit</th>\n",
       "      <th>valF1</th>\n",
       "      <th>testRawF1</th>\n",
       "      <th>img</th>\n",
       "      <th>reg</th>\n",
       "    </tr>\n",
       "  </thead>\n",
       "  <tbody>\n",
       "    <tr>\n",
       "      <th>0</th>\n",
       "      <td>[0003, 0005, 0006]</td>\n",
       "      <td>[0002]</td>\n",
       "      <td>0001</td>\n",
       "      <td>XGBClassifier(base_score=0.5, booster='gbtree'...</td>\n",
       "      <td>25</td>\n",
       "      <td>0.584318</td>\n",
       "      <td>0.581108</td>\n",
       "      <td>[[0.6842105263157895, 0.7147766323024055, 0.74...</td>\n",
       "      <td>[[0.020000000000000004, 0.03250000000000001, 0...</td>\n",
       "    </tr>\n",
       "    <tr>\n",
       "      <th>1</th>\n",
       "      <td>[0001, 0005, 0006]</td>\n",
       "      <td>[0003]</td>\n",
       "      <td>0002</td>\n",
       "      <td>XGBClassifier(base_score=0.5, booster='gbtree'...</td>\n",
       "      <td>27</td>\n",
       "      <td>0.528931</td>\n",
       "      <td>0.612993</td>\n",
       "      <td>[[0.6341463414634146, 0.6701570680628273, 0.70...</td>\n",
       "      <td>[[0.020000000000000004, 0.03250000000000001, 0...</td>\n",
       "    </tr>\n",
       "    <tr>\n",
       "      <th>2</th>\n",
       "      <td>[0002, 0005, 0006]</td>\n",
       "      <td>[0001]</td>\n",
       "      <td>0003</td>\n",
       "      <td>XGBClassifier(base_score=0.5, booster='gbtree'...</td>\n",
       "      <td>17</td>\n",
       "      <td>0.578722</td>\n",
       "      <td>0.514032</td>\n",
       "      <td>[[0.6136363636363636, 0.6506024096385542, 0.66...</td>\n",
       "      <td>[[0.020000000000000004, 0.03250000000000001, 0...</td>\n",
       "    </tr>\n",
       "    <tr>\n",
       "      <th>3</th>\n",
       "      <td>[0001, 0002, 0003]</td>\n",
       "      <td>[0006]</td>\n",
       "      <td>0005</td>\n",
       "      <td>XGBClassifier(base_score=0.5, booster='gbtree'...</td>\n",
       "      <td>16</td>\n",
       "      <td>0.629171</td>\n",
       "      <td>0.572690</td>\n",
       "      <td>[[0.6474820143884892, 0.6592592592592592, 0.70...</td>\n",
       "      <td>[[0.020000000000000004, 0.03250000000000001, 0...</td>\n",
       "    </tr>\n",
       "    <tr>\n",
       "      <th>4</th>\n",
       "      <td>[0002, 0003, 0005]</td>\n",
       "      <td>[0001]</td>\n",
       "      <td>0006</td>\n",
       "      <td>XGBClassifier(base_score=0.5, booster='gbtree'...</td>\n",
       "      <td>17</td>\n",
       "      <td>0.567843</td>\n",
       "      <td>0.628491</td>\n",
       "      <td>[[0.7473309608540926, 0.7518248175182481, 0.77...</td>\n",
       "      <td>[[0.020000000000000004, 0.03250000000000001, 0...</td>\n",
       "    </tr>\n",
       "  </tbody>\n",
       "</table>\n",
       "</div>"
      ],
      "text/plain": [
       "                train     val  test  \\\n",
       "0  [0003, 0005, 0006]  [0002]  0001   \n",
       "1  [0001, 0005, 0006]  [0003]  0002   \n",
       "2  [0002, 0005, 0006]  [0001]  0003   \n",
       "3  [0001, 0002, 0003]  [0006]  0005   \n",
       "4  [0002, 0003, 0005]  [0001]  0006   \n",
       "\n",
       "                                               model  treeLimit     valF1  \\\n",
       "0  XGBClassifier(base_score=0.5, booster='gbtree'...         25  0.584318   \n",
       "1  XGBClassifier(base_score=0.5, booster='gbtree'...         27  0.528931   \n",
       "2  XGBClassifier(base_score=0.5, booster='gbtree'...         17  0.578722   \n",
       "3  XGBClassifier(base_score=0.5, booster='gbtree'...         16  0.629171   \n",
       "4  XGBClassifier(base_score=0.5, booster='gbtree'...         17  0.567843   \n",
       "\n",
       "   testRawF1                                                img  \\\n",
       "0   0.581108  [[0.6842105263157895, 0.7147766323024055, 0.74...   \n",
       "1   0.612993  [[0.6341463414634146, 0.6701570680628273, 0.70...   \n",
       "2   0.514032  [[0.6136363636363636, 0.6506024096385542, 0.66...   \n",
       "3   0.572690  [[0.6474820143884892, 0.6592592592592592, 0.70...   \n",
       "4   0.628491  [[0.7473309608540926, 0.7518248175182481, 0.77...   \n",
       "\n",
       "                                                 reg  \n",
       "0  [[0.020000000000000004, 0.03250000000000001, 0...  \n",
       "1  [[0.020000000000000004, 0.03250000000000001, 0...  \n",
       "2  [[0.020000000000000004, 0.03250000000000001, 0...  \n",
       "3  [[0.020000000000000004, 0.03250000000000001, 0...  \n",
       "4  [[0.020000000000000004, 0.03250000000000001, 0...  "
      ]
     },
     "execution_count": 22,
     "metadata": {},
     "output_type": "execute_result"
    }
   ],
   "source": [
    "dataSplits[\"testRawF1\"]=testF1s\n",
    "dataSplits[\"img\"]=imgs\n",
    "dataSplits[\"reg\"]=regs\n",
    "dataSplits"
   ]
  },
  {
   "cell_type": "code",
   "execution_count": 23,
   "metadata": {},
   "outputs": [],
   "source": [
    "avg=np.zeros((n,n))\n",
    "opt=np.zeros((n,n))\n",
    "count=0\n",
    "for index, row in dataSplits.iterrows():\n",
    "    avg=avg+row.img\n",
    "    reg=row.reg\n",
    "    count=count+1\n",
    "avg=avg/count\n"
   ]
  },
  {
   "cell_type": "code",
   "execution_count": 24,
   "metadata": {},
   "outputs": [
    {
     "data": {
      "application/vnd.plotly.v1+json": {
       "config": {
        "plotlyServerURL": "https://plot.ly"
       },
       "data": [
        {
         "coloraxis": "coloraxis",
         "hovertemplate": "x: %{x}<br>y: %{y}<br>color: %{z}<extra></extra>",
         "name": "0",
         "type": "heatmap",
         "xaxis": "x",
         "yaxis": "y",
         "z": [
          [
           0.6653612413316299,
           0.6893240373562588,
           0.7174487210275651,
           0.7323879074747058,
           0.7328508465048502,
           0.7321748181380487,
           0.7324369507139202,
           0.7225376783277204,
           0.7067121178160611,
           0.6738962655054996
          ],
          [
           0.6737264985754359,
           0.6934088092693079,
           0.7217701395045731,
           0.7320911842288289,
           0.7328472115601119,
           0.7363151040983503,
           0.7392962703264767,
           0.7344173931977109,
           0.7183456593783528,
           0.6896167638949043
          ],
          [
           0.679977239248431,
           0.6947972533794127,
           0.7223092222430789,
           0.7347484776060698,
           0.7331788295123083,
           0.7387414491283774,
           0.7366115205664684,
           0.7346711276259237,
           0.719284264997003,
           0.6884132832269768
          ],
          [
           0.6871201936870468,
           0.6981919542439036,
           0.7237231761669228,
           0.7364469375044047,
           0.734329119349834,
           0.7360334711067704,
           0.7338303829678144,
           0.731894129546093,
           0.7151996218310478,
           0.6849092847971867
          ],
          [
           0.688527961720399,
           0.6995027790984838,
           0.7237347821383147,
           0.7361677421846338,
           0.7342255934104279,
           0.7365779274199179,
           0.7349847305068373,
           0.7339731494342024,
           0.7164868975885924,
           0.6863227654584854
          ],
          [
           0.695236071361352,
           0.7057699804340672,
           0.7266316044170715,
           0.7377607115175026,
           0.73516670231277,
           0.7375330522870052,
           0.7360666459901795,
           0.7351906916635997,
           0.7196165344470901,
           0.6897733436675876
          ],
          [
           0.6966439276849405,
           0.707246356357246,
           0.7270930261730056,
           0.738218706285188,
           0.7356591752757276,
           0.7381218582639111,
           0.7357762767877094,
           0.7347005875524716,
           0.7180426252039865,
           0.6881623987300473
          ],
          [
           0.6995849484957272,
           0.7103019614187555,
           0.7302922365941943,
           0.7409574546128964,
           0.738969975960073,
           0.7416035898073554,
           0.7393701729753013,
           0.7384772267302023,
           0.7209632726205429,
           0.6913394286700123
          ],
          [
           0.7015710350509279,
           0.7118523490156548,
           0.7313765380716286,
           0.7416444558398039,
           0.7396281836229351,
           0.7404557312809189,
           0.7382014192484081,
           0.7365924804362667,
           0.7190098172627705,
           0.6934746510941902
          ],
          [
           0.7032040696724636,
           0.7135663109452005,
           0.733213369462924,
           0.7435373495159368,
           0.7424772709004066,
           0.7429041100670858,
           0.7407374553746656,
           0.7392247122016943,
           0.7200823633840483,
           0.6928775051672127
          ]
         ]
        }
       ],
       "layout": {
        "coloraxis": {
         "colorscale": [
          [
           0,
           "#0d0887"
          ],
          [
           0.1111111111111111,
           "#46039f"
          ],
          [
           0.2222222222222222,
           "#7201a8"
          ],
          [
           0.3333333333333333,
           "#9c179e"
          ],
          [
           0.4444444444444444,
           "#bd3786"
          ],
          [
           0.5555555555555556,
           "#d8576b"
          ],
          [
           0.6666666666666666,
           "#ed7953"
          ],
          [
           0.7777777777777778,
           "#fb9f3a"
          ],
          [
           0.8888888888888888,
           "#fdca26"
          ],
          [
           1,
           "#f0f921"
          ]
         ]
        },
        "margin": {
         "t": 60
        },
        "template": {
         "data": {
          "bar": [
           {
            "error_x": {
             "color": "#2a3f5f"
            },
            "error_y": {
             "color": "#2a3f5f"
            },
            "marker": {
             "line": {
              "color": "#E5ECF6",
              "width": 0.5
             },
             "pattern": {
              "fillmode": "overlay",
              "size": 10,
              "solidity": 0.2
             }
            },
            "type": "bar"
           }
          ],
          "barpolar": [
           {
            "marker": {
             "line": {
              "color": "#E5ECF6",
              "width": 0.5
             },
             "pattern": {
              "fillmode": "overlay",
              "size": 10,
              "solidity": 0.2
             }
            },
            "type": "barpolar"
           }
          ],
          "carpet": [
           {
            "aaxis": {
             "endlinecolor": "#2a3f5f",
             "gridcolor": "white",
             "linecolor": "white",
             "minorgridcolor": "white",
             "startlinecolor": "#2a3f5f"
            },
            "baxis": {
             "endlinecolor": "#2a3f5f",
             "gridcolor": "white",
             "linecolor": "white",
             "minorgridcolor": "white",
             "startlinecolor": "#2a3f5f"
            },
            "type": "carpet"
           }
          ],
          "choropleth": [
           {
            "colorbar": {
             "outlinewidth": 0,
             "ticks": ""
            },
            "type": "choropleth"
           }
          ],
          "contour": [
           {
            "colorbar": {
             "outlinewidth": 0,
             "ticks": ""
            },
            "colorscale": [
             [
              0,
              "#0d0887"
             ],
             [
              0.1111111111111111,
              "#46039f"
             ],
             [
              0.2222222222222222,
              "#7201a8"
             ],
             [
              0.3333333333333333,
              "#9c179e"
             ],
             [
              0.4444444444444444,
              "#bd3786"
             ],
             [
              0.5555555555555556,
              "#d8576b"
             ],
             [
              0.6666666666666666,
              "#ed7953"
             ],
             [
              0.7777777777777778,
              "#fb9f3a"
             ],
             [
              0.8888888888888888,
              "#fdca26"
             ],
             [
              1,
              "#f0f921"
             ]
            ],
            "type": "contour"
           }
          ],
          "contourcarpet": [
           {
            "colorbar": {
             "outlinewidth": 0,
             "ticks": ""
            },
            "type": "contourcarpet"
           }
          ],
          "heatmap": [
           {
            "colorbar": {
             "outlinewidth": 0,
             "ticks": ""
            },
            "colorscale": [
             [
              0,
              "#0d0887"
             ],
             [
              0.1111111111111111,
              "#46039f"
             ],
             [
              0.2222222222222222,
              "#7201a8"
             ],
             [
              0.3333333333333333,
              "#9c179e"
             ],
             [
              0.4444444444444444,
              "#bd3786"
             ],
             [
              0.5555555555555556,
              "#d8576b"
             ],
             [
              0.6666666666666666,
              "#ed7953"
             ],
             [
              0.7777777777777778,
              "#fb9f3a"
             ],
             [
              0.8888888888888888,
              "#fdca26"
             ],
             [
              1,
              "#f0f921"
             ]
            ],
            "type": "heatmap"
           }
          ],
          "heatmapgl": [
           {
            "colorbar": {
             "outlinewidth": 0,
             "ticks": ""
            },
            "colorscale": [
             [
              0,
              "#0d0887"
             ],
             [
              0.1111111111111111,
              "#46039f"
             ],
             [
              0.2222222222222222,
              "#7201a8"
             ],
             [
              0.3333333333333333,
              "#9c179e"
             ],
             [
              0.4444444444444444,
              "#bd3786"
             ],
             [
              0.5555555555555556,
              "#d8576b"
             ],
             [
              0.6666666666666666,
              "#ed7953"
             ],
             [
              0.7777777777777778,
              "#fb9f3a"
             ],
             [
              0.8888888888888888,
              "#fdca26"
             ],
             [
              1,
              "#f0f921"
             ]
            ],
            "type": "heatmapgl"
           }
          ],
          "histogram": [
           {
            "marker": {
             "pattern": {
              "fillmode": "overlay",
              "size": 10,
              "solidity": 0.2
             }
            },
            "type": "histogram"
           }
          ],
          "histogram2d": [
           {
            "colorbar": {
             "outlinewidth": 0,
             "ticks": ""
            },
            "colorscale": [
             [
              0,
              "#0d0887"
             ],
             [
              0.1111111111111111,
              "#46039f"
             ],
             [
              0.2222222222222222,
              "#7201a8"
             ],
             [
              0.3333333333333333,
              "#9c179e"
             ],
             [
              0.4444444444444444,
              "#bd3786"
             ],
             [
              0.5555555555555556,
              "#d8576b"
             ],
             [
              0.6666666666666666,
              "#ed7953"
             ],
             [
              0.7777777777777778,
              "#fb9f3a"
             ],
             [
              0.8888888888888888,
              "#fdca26"
             ],
             [
              1,
              "#f0f921"
             ]
            ],
            "type": "histogram2d"
           }
          ],
          "histogram2dcontour": [
           {
            "colorbar": {
             "outlinewidth": 0,
             "ticks": ""
            },
            "colorscale": [
             [
              0,
              "#0d0887"
             ],
             [
              0.1111111111111111,
              "#46039f"
             ],
             [
              0.2222222222222222,
              "#7201a8"
             ],
             [
              0.3333333333333333,
              "#9c179e"
             ],
             [
              0.4444444444444444,
              "#bd3786"
             ],
             [
              0.5555555555555556,
              "#d8576b"
             ],
             [
              0.6666666666666666,
              "#ed7953"
             ],
             [
              0.7777777777777778,
              "#fb9f3a"
             ],
             [
              0.8888888888888888,
              "#fdca26"
             ],
             [
              1,
              "#f0f921"
             ]
            ],
            "type": "histogram2dcontour"
           }
          ],
          "mesh3d": [
           {
            "colorbar": {
             "outlinewidth": 0,
             "ticks": ""
            },
            "type": "mesh3d"
           }
          ],
          "parcoords": [
           {
            "line": {
             "colorbar": {
              "outlinewidth": 0,
              "ticks": ""
             }
            },
            "type": "parcoords"
           }
          ],
          "pie": [
           {
            "automargin": true,
            "type": "pie"
           }
          ],
          "scatter": [
           {
            "fillpattern": {
             "fillmode": "overlay",
             "size": 10,
             "solidity": 0.2
            },
            "type": "scatter"
           }
          ],
          "scatter3d": [
           {
            "line": {
             "colorbar": {
              "outlinewidth": 0,
              "ticks": ""
             }
            },
            "marker": {
             "colorbar": {
              "outlinewidth": 0,
              "ticks": ""
             }
            },
            "type": "scatter3d"
           }
          ],
          "scattercarpet": [
           {
            "marker": {
             "colorbar": {
              "outlinewidth": 0,
              "ticks": ""
             }
            },
            "type": "scattercarpet"
           }
          ],
          "scattergeo": [
           {
            "marker": {
             "colorbar": {
              "outlinewidth": 0,
              "ticks": ""
             }
            },
            "type": "scattergeo"
           }
          ],
          "scattergl": [
           {
            "marker": {
             "colorbar": {
              "outlinewidth": 0,
              "ticks": ""
             }
            },
            "type": "scattergl"
           }
          ],
          "scattermapbox": [
           {
            "marker": {
             "colorbar": {
              "outlinewidth": 0,
              "ticks": ""
             }
            },
            "type": "scattermapbox"
           }
          ],
          "scatterpolar": [
           {
            "marker": {
             "colorbar": {
              "outlinewidth": 0,
              "ticks": ""
             }
            },
            "type": "scatterpolar"
           }
          ],
          "scatterpolargl": [
           {
            "marker": {
             "colorbar": {
              "outlinewidth": 0,
              "ticks": ""
             }
            },
            "type": "scatterpolargl"
           }
          ],
          "scatterternary": [
           {
            "marker": {
             "colorbar": {
              "outlinewidth": 0,
              "ticks": ""
             }
            },
            "type": "scatterternary"
           }
          ],
          "surface": [
           {
            "colorbar": {
             "outlinewidth": 0,
             "ticks": ""
            },
            "colorscale": [
             [
              0,
              "#0d0887"
             ],
             [
              0.1111111111111111,
              "#46039f"
             ],
             [
              0.2222222222222222,
              "#7201a8"
             ],
             [
              0.3333333333333333,
              "#9c179e"
             ],
             [
              0.4444444444444444,
              "#bd3786"
             ],
             [
              0.5555555555555556,
              "#d8576b"
             ],
             [
              0.6666666666666666,
              "#ed7953"
             ],
             [
              0.7777777777777778,
              "#fb9f3a"
             ],
             [
              0.8888888888888888,
              "#fdca26"
             ],
             [
              1,
              "#f0f921"
             ]
            ],
            "type": "surface"
           }
          ],
          "table": [
           {
            "cells": {
             "fill": {
              "color": "#EBF0F8"
             },
             "line": {
              "color": "white"
             }
            },
            "header": {
             "fill": {
              "color": "#C8D4E3"
             },
             "line": {
              "color": "white"
             }
            },
            "type": "table"
           }
          ]
         },
         "layout": {
          "annotationdefaults": {
           "arrowcolor": "#2a3f5f",
           "arrowhead": 0,
           "arrowwidth": 1
          },
          "autotypenumbers": "strict",
          "coloraxis": {
           "colorbar": {
            "outlinewidth": 0,
            "ticks": ""
           }
          },
          "colorscale": {
           "diverging": [
            [
             0,
             "#8e0152"
            ],
            [
             0.1,
             "#c51b7d"
            ],
            [
             0.2,
             "#de77ae"
            ],
            [
             0.3,
             "#f1b6da"
            ],
            [
             0.4,
             "#fde0ef"
            ],
            [
             0.5,
             "#f7f7f7"
            ],
            [
             0.6,
             "#e6f5d0"
            ],
            [
             0.7,
             "#b8e186"
            ],
            [
             0.8,
             "#7fbc41"
            ],
            [
             0.9,
             "#4d9221"
            ],
            [
             1,
             "#276419"
            ]
           ],
           "sequential": [
            [
             0,
             "#0d0887"
            ],
            [
             0.1111111111111111,
             "#46039f"
            ],
            [
             0.2222222222222222,
             "#7201a8"
            ],
            [
             0.3333333333333333,
             "#9c179e"
            ],
            [
             0.4444444444444444,
             "#bd3786"
            ],
            [
             0.5555555555555556,
             "#d8576b"
            ],
            [
             0.6666666666666666,
             "#ed7953"
            ],
            [
             0.7777777777777778,
             "#fb9f3a"
            ],
            [
             0.8888888888888888,
             "#fdca26"
            ],
            [
             1,
             "#f0f921"
            ]
           ],
           "sequentialminus": [
            [
             0,
             "#0d0887"
            ],
            [
             0.1111111111111111,
             "#46039f"
            ],
            [
             0.2222222222222222,
             "#7201a8"
            ],
            [
             0.3333333333333333,
             "#9c179e"
            ],
            [
             0.4444444444444444,
             "#bd3786"
            ],
            [
             0.5555555555555556,
             "#d8576b"
            ],
            [
             0.6666666666666666,
             "#ed7953"
            ],
            [
             0.7777777777777778,
             "#fb9f3a"
            ],
            [
             0.8888888888888888,
             "#fdca26"
            ],
            [
             1,
             "#f0f921"
            ]
           ]
          },
          "colorway": [
           "#636efa",
           "#EF553B",
           "#00cc96",
           "#ab63fa",
           "#FFA15A",
           "#19d3f3",
           "#FF6692",
           "#B6E880",
           "#FF97FF",
           "#FECB52"
          ],
          "font": {
           "color": "#2a3f5f"
          },
          "geo": {
           "bgcolor": "white",
           "lakecolor": "white",
           "landcolor": "#E5ECF6",
           "showlakes": true,
           "showland": true,
           "subunitcolor": "white"
          },
          "hoverlabel": {
           "align": "left"
          },
          "hovermode": "closest",
          "mapbox": {
           "style": "light"
          },
          "paper_bgcolor": "white",
          "plot_bgcolor": "#E5ECF6",
          "polar": {
           "angularaxis": {
            "gridcolor": "white",
            "linecolor": "white",
            "ticks": ""
           },
           "bgcolor": "#E5ECF6",
           "radialaxis": {
            "gridcolor": "white",
            "linecolor": "white",
            "ticks": ""
           }
          },
          "scene": {
           "xaxis": {
            "backgroundcolor": "#E5ECF6",
            "gridcolor": "white",
            "gridwidth": 2,
            "linecolor": "white",
            "showbackground": true,
            "ticks": "",
            "zerolinecolor": "white"
           },
           "yaxis": {
            "backgroundcolor": "#E5ECF6",
            "gridcolor": "white",
            "gridwidth": 2,
            "linecolor": "white",
            "showbackground": true,
            "ticks": "",
            "zerolinecolor": "white"
           },
           "zaxis": {
            "backgroundcolor": "#E5ECF6",
            "gridcolor": "white",
            "gridwidth": 2,
            "linecolor": "white",
            "showbackground": true,
            "ticks": "",
            "zerolinecolor": "white"
           }
          },
          "shapedefaults": {
           "line": {
            "color": "#2a3f5f"
           }
          },
          "ternary": {
           "aaxis": {
            "gridcolor": "white",
            "linecolor": "white",
            "ticks": ""
           },
           "baxis": {
            "gridcolor": "white",
            "linecolor": "white",
            "ticks": ""
           },
           "bgcolor": "#E5ECF6",
           "caxis": {
            "gridcolor": "white",
            "linecolor": "white",
            "ticks": ""
           }
          },
          "title": {
           "x": 0.05
          },
          "xaxis": {
           "automargin": true,
           "gridcolor": "white",
           "linecolor": "white",
           "ticks": "",
           "title": {
            "standoff": 15
           },
           "zerolinecolor": "white",
           "zerolinewidth": 2
          },
          "yaxis": {
           "automargin": true,
           "gridcolor": "white",
           "linecolor": "white",
           "ticks": "",
           "title": {
            "standoff": 15
           },
           "zerolinecolor": "white",
           "zerolinewidth": 2
          }
         }
        },
        "xaxis": {
         "anchor": "y",
         "constrain": "domain",
         "domain": [
          0,
          1
         ],
         "scaleanchor": "y"
        },
        "yaxis": {
         "anchor": "x",
         "autorange": "reversed",
         "constrain": "domain",
         "domain": [
          0,
          1
         ]
        }
       }
      }
     },
     "metadata": {},
     "output_type": "display_data"
    }
   ],
   "source": [
    "px.imshow(avg)"
   ]
  },
  {
   "cell_type": "code",
   "execution_count": 25,
   "metadata": {},
   "outputs": [
    {
     "name": "stdout",
     "output_type": "stream",
     "text": [
      "Optimal closing, average: 0.55\n",
      "Optimal duration thres, average: 0.25\n"
     ]
    }
   ],
   "source": [
    "avgClose=t0[np.argmax(avg.flatten())]\n",
    "avgDuration=t1[np.argmax(avg.flatten())]\n",
    "print(\"Optimal closing, average: \"+str(avgClose))\n",
    "print(\"Optimal duration thres, average: \"+str(avgDuration))"
   ]
  },
  {
   "cell_type": "code",
   "execution_count": 26,
   "metadata": {},
   "outputs": [],
   "source": [
    "opt=avg-reg/20"
   ]
  },
  {
   "cell_type": "code",
   "execution_count": 27,
   "metadata": {},
   "outputs": [
    {
     "data": {
      "application/vnd.plotly.v1+json": {
       "config": {
        "plotlyServerURL": "https://plot.ly"
       },
       "data": [
        {
         "coloraxis": "coloraxis",
         "hovertemplate": "x: %{x}<br>y: %{y}<br>color: %{z}<extra></extra>",
         "name": "0",
         "type": "heatmap",
         "xaxis": "x",
         "yaxis": "y",
         "z": [
          [
           0.0010000000000000002,
           0.0016250000000000004,
           0.0025000000000000005,
           0.0036250000000000006,
           0.005000000000000002,
           0.006625000000000003,
           0.008500000000000002,
           0.010625000000000004,
           0.013000000000000006,
           0.015625000000000003
          ],
          [
           0.0016250000000000004,
           0.0022500000000000007,
           0.0031250000000000006,
           0.00425,
           0.0056250000000000015,
           0.007250000000000004,
           0.009125000000000003,
           0.011250000000000005,
           0.013625000000000007,
           0.016250000000000004
          ],
          [
           0.0025000000000000005,
           0.0031250000000000006,
           0.004000000000000001,
           0.005125,
           0.0065000000000000014,
           0.008125000000000004,
           0.010000000000000002,
           0.012125000000000004,
           0.014500000000000008,
           0.017125
          ],
          [
           0.0036250000000000006,
           0.00425,
           0.005125,
           0.00625,
           0.007625000000000002,
           0.009250000000000003,
           0.011125000000000001,
           0.013250000000000003,
           0.015625000000000007,
           0.018250000000000002
          ],
          [
           0.005000000000000002,
           0.0056250000000000015,
           0.0065000000000000014,
           0.007625000000000002,
           0.009000000000000003,
           0.010625000000000004,
           0.012500000000000002,
           0.014625000000000004,
           0.017000000000000008,
           0.019625000000000004
          ],
          [
           0.006625000000000003,
           0.007250000000000004,
           0.008125000000000004,
           0.009250000000000003,
           0.010625000000000004,
           0.012250000000000007,
           0.014125000000000004,
           0.016250000000000007,
           0.01862500000000001,
           0.021250000000000005
          ],
          [
           0.008500000000000002,
           0.009125000000000003,
           0.010000000000000002,
           0.011125000000000001,
           0.012500000000000002,
           0.014125000000000004,
           0.016000000000000004,
           0.018125000000000006,
           0.020500000000000008,
           0.023125000000000003
          ],
          [
           0.010625000000000004,
           0.011250000000000005,
           0.012125000000000004,
           0.013250000000000003,
           0.014625000000000004,
           0.016250000000000007,
           0.018125000000000006,
           0.020250000000000008,
           0.02262500000000001,
           0.025250000000000005
          ],
          [
           0.013000000000000006,
           0.013625000000000007,
           0.014500000000000008,
           0.015625000000000007,
           0.017000000000000008,
           0.01862500000000001,
           0.020500000000000008,
           0.02262500000000001,
           0.025000000000000012,
           0.02762500000000001
          ],
          [
           0.015625000000000003,
           0.016250000000000004,
           0.017125,
           0.018250000000000002,
           0.019625000000000004,
           0.021250000000000005,
           0.023125000000000003,
           0.025250000000000005,
           0.02762500000000001,
           0.030250000000000006
          ]
         ]
        }
       ],
       "layout": {
        "coloraxis": {
         "colorscale": [
          [
           0,
           "#0d0887"
          ],
          [
           0.1111111111111111,
           "#46039f"
          ],
          [
           0.2222222222222222,
           "#7201a8"
          ],
          [
           0.3333333333333333,
           "#9c179e"
          ],
          [
           0.4444444444444444,
           "#bd3786"
          ],
          [
           0.5555555555555556,
           "#d8576b"
          ],
          [
           0.6666666666666666,
           "#ed7953"
          ],
          [
           0.7777777777777778,
           "#fb9f3a"
          ],
          [
           0.8888888888888888,
           "#fdca26"
          ],
          [
           1,
           "#f0f921"
          ]
         ]
        },
        "margin": {
         "t": 60
        },
        "template": {
         "data": {
          "bar": [
           {
            "error_x": {
             "color": "#2a3f5f"
            },
            "error_y": {
             "color": "#2a3f5f"
            },
            "marker": {
             "line": {
              "color": "#E5ECF6",
              "width": 0.5
             },
             "pattern": {
              "fillmode": "overlay",
              "size": 10,
              "solidity": 0.2
             }
            },
            "type": "bar"
           }
          ],
          "barpolar": [
           {
            "marker": {
             "line": {
              "color": "#E5ECF6",
              "width": 0.5
             },
             "pattern": {
              "fillmode": "overlay",
              "size": 10,
              "solidity": 0.2
             }
            },
            "type": "barpolar"
           }
          ],
          "carpet": [
           {
            "aaxis": {
             "endlinecolor": "#2a3f5f",
             "gridcolor": "white",
             "linecolor": "white",
             "minorgridcolor": "white",
             "startlinecolor": "#2a3f5f"
            },
            "baxis": {
             "endlinecolor": "#2a3f5f",
             "gridcolor": "white",
             "linecolor": "white",
             "minorgridcolor": "white",
             "startlinecolor": "#2a3f5f"
            },
            "type": "carpet"
           }
          ],
          "choropleth": [
           {
            "colorbar": {
             "outlinewidth": 0,
             "ticks": ""
            },
            "type": "choropleth"
           }
          ],
          "contour": [
           {
            "colorbar": {
             "outlinewidth": 0,
             "ticks": ""
            },
            "colorscale": [
             [
              0,
              "#0d0887"
             ],
             [
              0.1111111111111111,
              "#46039f"
             ],
             [
              0.2222222222222222,
              "#7201a8"
             ],
             [
              0.3333333333333333,
              "#9c179e"
             ],
             [
              0.4444444444444444,
              "#bd3786"
             ],
             [
              0.5555555555555556,
              "#d8576b"
             ],
             [
              0.6666666666666666,
              "#ed7953"
             ],
             [
              0.7777777777777778,
              "#fb9f3a"
             ],
             [
              0.8888888888888888,
              "#fdca26"
             ],
             [
              1,
              "#f0f921"
             ]
            ],
            "type": "contour"
           }
          ],
          "contourcarpet": [
           {
            "colorbar": {
             "outlinewidth": 0,
             "ticks": ""
            },
            "type": "contourcarpet"
           }
          ],
          "heatmap": [
           {
            "colorbar": {
             "outlinewidth": 0,
             "ticks": ""
            },
            "colorscale": [
             [
              0,
              "#0d0887"
             ],
             [
              0.1111111111111111,
              "#46039f"
             ],
             [
              0.2222222222222222,
              "#7201a8"
             ],
             [
              0.3333333333333333,
              "#9c179e"
             ],
             [
              0.4444444444444444,
              "#bd3786"
             ],
             [
              0.5555555555555556,
              "#d8576b"
             ],
             [
              0.6666666666666666,
              "#ed7953"
             ],
             [
              0.7777777777777778,
              "#fb9f3a"
             ],
             [
              0.8888888888888888,
              "#fdca26"
             ],
             [
              1,
              "#f0f921"
             ]
            ],
            "type": "heatmap"
           }
          ],
          "heatmapgl": [
           {
            "colorbar": {
             "outlinewidth": 0,
             "ticks": ""
            },
            "colorscale": [
             [
              0,
              "#0d0887"
             ],
             [
              0.1111111111111111,
              "#46039f"
             ],
             [
              0.2222222222222222,
              "#7201a8"
             ],
             [
              0.3333333333333333,
              "#9c179e"
             ],
             [
              0.4444444444444444,
              "#bd3786"
             ],
             [
              0.5555555555555556,
              "#d8576b"
             ],
             [
              0.6666666666666666,
              "#ed7953"
             ],
             [
              0.7777777777777778,
              "#fb9f3a"
             ],
             [
              0.8888888888888888,
              "#fdca26"
             ],
             [
              1,
              "#f0f921"
             ]
            ],
            "type": "heatmapgl"
           }
          ],
          "histogram": [
           {
            "marker": {
             "pattern": {
              "fillmode": "overlay",
              "size": 10,
              "solidity": 0.2
             }
            },
            "type": "histogram"
           }
          ],
          "histogram2d": [
           {
            "colorbar": {
             "outlinewidth": 0,
             "ticks": ""
            },
            "colorscale": [
             [
              0,
              "#0d0887"
             ],
             [
              0.1111111111111111,
              "#46039f"
             ],
             [
              0.2222222222222222,
              "#7201a8"
             ],
             [
              0.3333333333333333,
              "#9c179e"
             ],
             [
              0.4444444444444444,
              "#bd3786"
             ],
             [
              0.5555555555555556,
              "#d8576b"
             ],
             [
              0.6666666666666666,
              "#ed7953"
             ],
             [
              0.7777777777777778,
              "#fb9f3a"
             ],
             [
              0.8888888888888888,
              "#fdca26"
             ],
             [
              1,
              "#f0f921"
             ]
            ],
            "type": "histogram2d"
           }
          ],
          "histogram2dcontour": [
           {
            "colorbar": {
             "outlinewidth": 0,
             "ticks": ""
            },
            "colorscale": [
             [
              0,
              "#0d0887"
             ],
             [
              0.1111111111111111,
              "#46039f"
             ],
             [
              0.2222222222222222,
              "#7201a8"
             ],
             [
              0.3333333333333333,
              "#9c179e"
             ],
             [
              0.4444444444444444,
              "#bd3786"
             ],
             [
              0.5555555555555556,
              "#d8576b"
             ],
             [
              0.6666666666666666,
              "#ed7953"
             ],
             [
              0.7777777777777778,
              "#fb9f3a"
             ],
             [
              0.8888888888888888,
              "#fdca26"
             ],
             [
              1,
              "#f0f921"
             ]
            ],
            "type": "histogram2dcontour"
           }
          ],
          "mesh3d": [
           {
            "colorbar": {
             "outlinewidth": 0,
             "ticks": ""
            },
            "type": "mesh3d"
           }
          ],
          "parcoords": [
           {
            "line": {
             "colorbar": {
              "outlinewidth": 0,
              "ticks": ""
             }
            },
            "type": "parcoords"
           }
          ],
          "pie": [
           {
            "automargin": true,
            "type": "pie"
           }
          ],
          "scatter": [
           {
            "fillpattern": {
             "fillmode": "overlay",
             "size": 10,
             "solidity": 0.2
            },
            "type": "scatter"
           }
          ],
          "scatter3d": [
           {
            "line": {
             "colorbar": {
              "outlinewidth": 0,
              "ticks": ""
             }
            },
            "marker": {
             "colorbar": {
              "outlinewidth": 0,
              "ticks": ""
             }
            },
            "type": "scatter3d"
           }
          ],
          "scattercarpet": [
           {
            "marker": {
             "colorbar": {
              "outlinewidth": 0,
              "ticks": ""
             }
            },
            "type": "scattercarpet"
           }
          ],
          "scattergeo": [
           {
            "marker": {
             "colorbar": {
              "outlinewidth": 0,
              "ticks": ""
             }
            },
            "type": "scattergeo"
           }
          ],
          "scattergl": [
           {
            "marker": {
             "colorbar": {
              "outlinewidth": 0,
              "ticks": ""
             }
            },
            "type": "scattergl"
           }
          ],
          "scattermapbox": [
           {
            "marker": {
             "colorbar": {
              "outlinewidth": 0,
              "ticks": ""
             }
            },
            "type": "scattermapbox"
           }
          ],
          "scatterpolar": [
           {
            "marker": {
             "colorbar": {
              "outlinewidth": 0,
              "ticks": ""
             }
            },
            "type": "scatterpolar"
           }
          ],
          "scatterpolargl": [
           {
            "marker": {
             "colorbar": {
              "outlinewidth": 0,
              "ticks": ""
             }
            },
            "type": "scatterpolargl"
           }
          ],
          "scatterternary": [
           {
            "marker": {
             "colorbar": {
              "outlinewidth": 0,
              "ticks": ""
             }
            },
            "type": "scatterternary"
           }
          ],
          "surface": [
           {
            "colorbar": {
             "outlinewidth": 0,
             "ticks": ""
            },
            "colorscale": [
             [
              0,
              "#0d0887"
             ],
             [
              0.1111111111111111,
              "#46039f"
             ],
             [
              0.2222222222222222,
              "#7201a8"
             ],
             [
              0.3333333333333333,
              "#9c179e"
             ],
             [
              0.4444444444444444,
              "#bd3786"
             ],
             [
              0.5555555555555556,
              "#d8576b"
             ],
             [
              0.6666666666666666,
              "#ed7953"
             ],
             [
              0.7777777777777778,
              "#fb9f3a"
             ],
             [
              0.8888888888888888,
              "#fdca26"
             ],
             [
              1,
              "#f0f921"
             ]
            ],
            "type": "surface"
           }
          ],
          "table": [
           {
            "cells": {
             "fill": {
              "color": "#EBF0F8"
             },
             "line": {
              "color": "white"
             }
            },
            "header": {
             "fill": {
              "color": "#C8D4E3"
             },
             "line": {
              "color": "white"
             }
            },
            "type": "table"
           }
          ]
         },
         "layout": {
          "annotationdefaults": {
           "arrowcolor": "#2a3f5f",
           "arrowhead": 0,
           "arrowwidth": 1
          },
          "autotypenumbers": "strict",
          "coloraxis": {
           "colorbar": {
            "outlinewidth": 0,
            "ticks": ""
           }
          },
          "colorscale": {
           "diverging": [
            [
             0,
             "#8e0152"
            ],
            [
             0.1,
             "#c51b7d"
            ],
            [
             0.2,
             "#de77ae"
            ],
            [
             0.3,
             "#f1b6da"
            ],
            [
             0.4,
             "#fde0ef"
            ],
            [
             0.5,
             "#f7f7f7"
            ],
            [
             0.6,
             "#e6f5d0"
            ],
            [
             0.7,
             "#b8e186"
            ],
            [
             0.8,
             "#7fbc41"
            ],
            [
             0.9,
             "#4d9221"
            ],
            [
             1,
             "#276419"
            ]
           ],
           "sequential": [
            [
             0,
             "#0d0887"
            ],
            [
             0.1111111111111111,
             "#46039f"
            ],
            [
             0.2222222222222222,
             "#7201a8"
            ],
            [
             0.3333333333333333,
             "#9c179e"
            ],
            [
             0.4444444444444444,
             "#bd3786"
            ],
            [
             0.5555555555555556,
             "#d8576b"
            ],
            [
             0.6666666666666666,
             "#ed7953"
            ],
            [
             0.7777777777777778,
             "#fb9f3a"
            ],
            [
             0.8888888888888888,
             "#fdca26"
            ],
            [
             1,
             "#f0f921"
            ]
           ],
           "sequentialminus": [
            [
             0,
             "#0d0887"
            ],
            [
             0.1111111111111111,
             "#46039f"
            ],
            [
             0.2222222222222222,
             "#7201a8"
            ],
            [
             0.3333333333333333,
             "#9c179e"
            ],
            [
             0.4444444444444444,
             "#bd3786"
            ],
            [
             0.5555555555555556,
             "#d8576b"
            ],
            [
             0.6666666666666666,
             "#ed7953"
            ],
            [
             0.7777777777777778,
             "#fb9f3a"
            ],
            [
             0.8888888888888888,
             "#fdca26"
            ],
            [
             1,
             "#f0f921"
            ]
           ]
          },
          "colorway": [
           "#636efa",
           "#EF553B",
           "#00cc96",
           "#ab63fa",
           "#FFA15A",
           "#19d3f3",
           "#FF6692",
           "#B6E880",
           "#FF97FF",
           "#FECB52"
          ],
          "font": {
           "color": "#2a3f5f"
          },
          "geo": {
           "bgcolor": "white",
           "lakecolor": "white",
           "landcolor": "#E5ECF6",
           "showlakes": true,
           "showland": true,
           "subunitcolor": "white"
          },
          "hoverlabel": {
           "align": "left"
          },
          "hovermode": "closest",
          "mapbox": {
           "style": "light"
          },
          "paper_bgcolor": "white",
          "plot_bgcolor": "#E5ECF6",
          "polar": {
           "angularaxis": {
            "gridcolor": "white",
            "linecolor": "white",
            "ticks": ""
           },
           "bgcolor": "#E5ECF6",
           "radialaxis": {
            "gridcolor": "white",
            "linecolor": "white",
            "ticks": ""
           }
          },
          "scene": {
           "xaxis": {
            "backgroundcolor": "#E5ECF6",
            "gridcolor": "white",
            "gridwidth": 2,
            "linecolor": "white",
            "showbackground": true,
            "ticks": "",
            "zerolinecolor": "white"
           },
           "yaxis": {
            "backgroundcolor": "#E5ECF6",
            "gridcolor": "white",
            "gridwidth": 2,
            "linecolor": "white",
            "showbackground": true,
            "ticks": "",
            "zerolinecolor": "white"
           },
           "zaxis": {
            "backgroundcolor": "#E5ECF6",
            "gridcolor": "white",
            "gridwidth": 2,
            "linecolor": "white",
            "showbackground": true,
            "ticks": "",
            "zerolinecolor": "white"
           }
          },
          "shapedefaults": {
           "line": {
            "color": "#2a3f5f"
           }
          },
          "ternary": {
           "aaxis": {
            "gridcolor": "white",
            "linecolor": "white",
            "ticks": ""
           },
           "baxis": {
            "gridcolor": "white",
            "linecolor": "white",
            "ticks": ""
           },
           "bgcolor": "#E5ECF6",
           "caxis": {
            "gridcolor": "white",
            "linecolor": "white",
            "ticks": ""
           }
          },
          "title": {
           "x": 0.05
          },
          "xaxis": {
           "automargin": true,
           "gridcolor": "white",
           "linecolor": "white",
           "ticks": "",
           "title": {
            "standoff": 15
           },
           "zerolinecolor": "white",
           "zerolinewidth": 2
          },
          "yaxis": {
           "automargin": true,
           "gridcolor": "white",
           "linecolor": "white",
           "ticks": "",
           "title": {
            "standoff": 15
           },
           "zerolinecolor": "white",
           "zerolinewidth": 2
          }
         }
        },
        "xaxis": {
         "anchor": "y",
         "constrain": "domain",
         "domain": [
          0,
          1
         ],
         "scaleanchor": "y"
        },
        "yaxis": {
         "anchor": "x",
         "autorange": "reversed",
         "constrain": "domain",
         "domain": [
          0,
          1
         ]
        }
       }
      }
     },
     "metadata": {},
     "output_type": "display_data"
    }
   ],
   "source": [
    "px.imshow(reg/20)"
   ]
  },
  {
   "cell_type": "code",
   "execution_count": 28,
   "metadata": {},
   "outputs": [
    {
     "data": {
      "application/vnd.plotly.v1+json": {
       "config": {
        "plotlyServerURL": "https://plot.ly"
       },
       "data": [
        {
         "coloraxis": "coloraxis",
         "hovertemplate": "x: %{x}<br>y: %{y}<br>color: %{z}<extra></extra>",
         "name": "0",
         "type": "heatmap",
         "xaxis": "x",
         "yaxis": "y",
         "z": [
          [
           0.6643612413316299,
           0.6876990373562588,
           0.7149487210275651,
           0.7287629074747058,
           0.7278508465048502,
           0.7255498181380488,
           0.7239369507139203,
           0.7119126783277204,
           0.6937121178160611,
           0.6582712655054996
          ],
          [
           0.6721014985754359,
           0.691158809269308,
           0.7186451395045731,
           0.7278411842288289,
           0.7272222115601119,
           0.7290651040983503,
           0.7301712703264767,
           0.723167393197711,
           0.7047206593783528,
           0.6733667638949044
          ],
          [
           0.6774772392484311,
           0.6916722533794126,
           0.7183092222430789,
           0.7296234776060697,
           0.7266788295123083,
           0.7306164491283773,
           0.7266115205664684,
           0.7225461276259236,
           0.7047842649970031,
           0.6712882832269769
          ],
          [
           0.6834951936870468,
           0.6939419542439036,
           0.7185981761669228,
           0.7301969375044047,
           0.726704119349834,
           0.7267834711067704,
           0.7227053829678144,
           0.718644129546093,
           0.6995746218310478,
           0.6666592847971867
          ],
          [
           0.683527961720399,
           0.6938777790984838,
           0.7172347821383147,
           0.7285427421846338,
           0.7252255934104279,
           0.7259529274199179,
           0.7224847305068374,
           0.7193481494342024,
           0.6994868975885924,
           0.6666977654584854
          ],
          [
           0.688611071361352,
           0.6985199804340673,
           0.7185066044170715,
           0.7285107115175026,
           0.72454170231277,
           0.7252830522870052,
           0.7219416459901794,
           0.7189406916635998,
           0.7009915344470901,
           0.6685233436675876
          ],
          [
           0.6881439276849406,
           0.6981213563572459,
           0.7170930261730056,
           0.727093706285188,
           0.7231591752757276,
           0.723996858263911,
           0.7197762767877094,
           0.7165755875524715,
           0.6975426252039866,
           0.6650373987300473
          ],
          [
           0.6889599484957272,
           0.6990519614187555,
           0.7181672365941942,
           0.7277074546128964,
           0.724344975960073,
           0.7253535898073554,
           0.7212451729753012,
           0.7182272267302023,
           0.6983382726205429,
           0.6660894286700123
          ],
          [
           0.6885710350509279,
           0.6982273490156548,
           0.7168765380716287,
           0.7260194558398039,
           0.7226281836229351,
           0.7218307312809189,
           0.7177014192484081,
           0.7139674804362667,
           0.6940098172627704,
           0.6658496510941901
          ],
          [
           0.6875790696724636,
           0.6973163109452005,
           0.7160883694629241,
           0.7252873495159368,
           0.7228522709004066,
           0.7216541100670858,
           0.7176124553746657,
           0.7139747122016943,
           0.6924573633840483,
           0.6626275051672127
          ]
         ]
        }
       ],
       "layout": {
        "coloraxis": {
         "colorscale": [
          [
           0,
           "#0d0887"
          ],
          [
           0.1111111111111111,
           "#46039f"
          ],
          [
           0.2222222222222222,
           "#7201a8"
          ],
          [
           0.3333333333333333,
           "#9c179e"
          ],
          [
           0.4444444444444444,
           "#bd3786"
          ],
          [
           0.5555555555555556,
           "#d8576b"
          ],
          [
           0.6666666666666666,
           "#ed7953"
          ],
          [
           0.7777777777777778,
           "#fb9f3a"
          ],
          [
           0.8888888888888888,
           "#fdca26"
          ],
          [
           1,
           "#f0f921"
          ]
         ]
        },
        "margin": {
         "t": 60
        },
        "template": {
         "data": {
          "bar": [
           {
            "error_x": {
             "color": "#2a3f5f"
            },
            "error_y": {
             "color": "#2a3f5f"
            },
            "marker": {
             "line": {
              "color": "#E5ECF6",
              "width": 0.5
             },
             "pattern": {
              "fillmode": "overlay",
              "size": 10,
              "solidity": 0.2
             }
            },
            "type": "bar"
           }
          ],
          "barpolar": [
           {
            "marker": {
             "line": {
              "color": "#E5ECF6",
              "width": 0.5
             },
             "pattern": {
              "fillmode": "overlay",
              "size": 10,
              "solidity": 0.2
             }
            },
            "type": "barpolar"
           }
          ],
          "carpet": [
           {
            "aaxis": {
             "endlinecolor": "#2a3f5f",
             "gridcolor": "white",
             "linecolor": "white",
             "minorgridcolor": "white",
             "startlinecolor": "#2a3f5f"
            },
            "baxis": {
             "endlinecolor": "#2a3f5f",
             "gridcolor": "white",
             "linecolor": "white",
             "minorgridcolor": "white",
             "startlinecolor": "#2a3f5f"
            },
            "type": "carpet"
           }
          ],
          "choropleth": [
           {
            "colorbar": {
             "outlinewidth": 0,
             "ticks": ""
            },
            "type": "choropleth"
           }
          ],
          "contour": [
           {
            "colorbar": {
             "outlinewidth": 0,
             "ticks": ""
            },
            "colorscale": [
             [
              0,
              "#0d0887"
             ],
             [
              0.1111111111111111,
              "#46039f"
             ],
             [
              0.2222222222222222,
              "#7201a8"
             ],
             [
              0.3333333333333333,
              "#9c179e"
             ],
             [
              0.4444444444444444,
              "#bd3786"
             ],
             [
              0.5555555555555556,
              "#d8576b"
             ],
             [
              0.6666666666666666,
              "#ed7953"
             ],
             [
              0.7777777777777778,
              "#fb9f3a"
             ],
             [
              0.8888888888888888,
              "#fdca26"
             ],
             [
              1,
              "#f0f921"
             ]
            ],
            "type": "contour"
           }
          ],
          "contourcarpet": [
           {
            "colorbar": {
             "outlinewidth": 0,
             "ticks": ""
            },
            "type": "contourcarpet"
           }
          ],
          "heatmap": [
           {
            "colorbar": {
             "outlinewidth": 0,
             "ticks": ""
            },
            "colorscale": [
             [
              0,
              "#0d0887"
             ],
             [
              0.1111111111111111,
              "#46039f"
             ],
             [
              0.2222222222222222,
              "#7201a8"
             ],
             [
              0.3333333333333333,
              "#9c179e"
             ],
             [
              0.4444444444444444,
              "#bd3786"
             ],
             [
              0.5555555555555556,
              "#d8576b"
             ],
             [
              0.6666666666666666,
              "#ed7953"
             ],
             [
              0.7777777777777778,
              "#fb9f3a"
             ],
             [
              0.8888888888888888,
              "#fdca26"
             ],
             [
              1,
              "#f0f921"
             ]
            ],
            "type": "heatmap"
           }
          ],
          "heatmapgl": [
           {
            "colorbar": {
             "outlinewidth": 0,
             "ticks": ""
            },
            "colorscale": [
             [
              0,
              "#0d0887"
             ],
             [
              0.1111111111111111,
              "#46039f"
             ],
             [
              0.2222222222222222,
              "#7201a8"
             ],
             [
              0.3333333333333333,
              "#9c179e"
             ],
             [
              0.4444444444444444,
              "#bd3786"
             ],
             [
              0.5555555555555556,
              "#d8576b"
             ],
             [
              0.6666666666666666,
              "#ed7953"
             ],
             [
              0.7777777777777778,
              "#fb9f3a"
             ],
             [
              0.8888888888888888,
              "#fdca26"
             ],
             [
              1,
              "#f0f921"
             ]
            ],
            "type": "heatmapgl"
           }
          ],
          "histogram": [
           {
            "marker": {
             "pattern": {
              "fillmode": "overlay",
              "size": 10,
              "solidity": 0.2
             }
            },
            "type": "histogram"
           }
          ],
          "histogram2d": [
           {
            "colorbar": {
             "outlinewidth": 0,
             "ticks": ""
            },
            "colorscale": [
             [
              0,
              "#0d0887"
             ],
             [
              0.1111111111111111,
              "#46039f"
             ],
             [
              0.2222222222222222,
              "#7201a8"
             ],
             [
              0.3333333333333333,
              "#9c179e"
             ],
             [
              0.4444444444444444,
              "#bd3786"
             ],
             [
              0.5555555555555556,
              "#d8576b"
             ],
             [
              0.6666666666666666,
              "#ed7953"
             ],
             [
              0.7777777777777778,
              "#fb9f3a"
             ],
             [
              0.8888888888888888,
              "#fdca26"
             ],
             [
              1,
              "#f0f921"
             ]
            ],
            "type": "histogram2d"
           }
          ],
          "histogram2dcontour": [
           {
            "colorbar": {
             "outlinewidth": 0,
             "ticks": ""
            },
            "colorscale": [
             [
              0,
              "#0d0887"
             ],
             [
              0.1111111111111111,
              "#46039f"
             ],
             [
              0.2222222222222222,
              "#7201a8"
             ],
             [
              0.3333333333333333,
              "#9c179e"
             ],
             [
              0.4444444444444444,
              "#bd3786"
             ],
             [
              0.5555555555555556,
              "#d8576b"
             ],
             [
              0.6666666666666666,
              "#ed7953"
             ],
             [
              0.7777777777777778,
              "#fb9f3a"
             ],
             [
              0.8888888888888888,
              "#fdca26"
             ],
             [
              1,
              "#f0f921"
             ]
            ],
            "type": "histogram2dcontour"
           }
          ],
          "mesh3d": [
           {
            "colorbar": {
             "outlinewidth": 0,
             "ticks": ""
            },
            "type": "mesh3d"
           }
          ],
          "parcoords": [
           {
            "line": {
             "colorbar": {
              "outlinewidth": 0,
              "ticks": ""
             }
            },
            "type": "parcoords"
           }
          ],
          "pie": [
           {
            "automargin": true,
            "type": "pie"
           }
          ],
          "scatter": [
           {
            "fillpattern": {
             "fillmode": "overlay",
             "size": 10,
             "solidity": 0.2
            },
            "type": "scatter"
           }
          ],
          "scatter3d": [
           {
            "line": {
             "colorbar": {
              "outlinewidth": 0,
              "ticks": ""
             }
            },
            "marker": {
             "colorbar": {
              "outlinewidth": 0,
              "ticks": ""
             }
            },
            "type": "scatter3d"
           }
          ],
          "scattercarpet": [
           {
            "marker": {
             "colorbar": {
              "outlinewidth": 0,
              "ticks": ""
             }
            },
            "type": "scattercarpet"
           }
          ],
          "scattergeo": [
           {
            "marker": {
             "colorbar": {
              "outlinewidth": 0,
              "ticks": ""
             }
            },
            "type": "scattergeo"
           }
          ],
          "scattergl": [
           {
            "marker": {
             "colorbar": {
              "outlinewidth": 0,
              "ticks": ""
             }
            },
            "type": "scattergl"
           }
          ],
          "scattermapbox": [
           {
            "marker": {
             "colorbar": {
              "outlinewidth": 0,
              "ticks": ""
             }
            },
            "type": "scattermapbox"
           }
          ],
          "scatterpolar": [
           {
            "marker": {
             "colorbar": {
              "outlinewidth": 0,
              "ticks": ""
             }
            },
            "type": "scatterpolar"
           }
          ],
          "scatterpolargl": [
           {
            "marker": {
             "colorbar": {
              "outlinewidth": 0,
              "ticks": ""
             }
            },
            "type": "scatterpolargl"
           }
          ],
          "scatterternary": [
           {
            "marker": {
             "colorbar": {
              "outlinewidth": 0,
              "ticks": ""
             }
            },
            "type": "scatterternary"
           }
          ],
          "surface": [
           {
            "colorbar": {
             "outlinewidth": 0,
             "ticks": ""
            },
            "colorscale": [
             [
              0,
              "#0d0887"
             ],
             [
              0.1111111111111111,
              "#46039f"
             ],
             [
              0.2222222222222222,
              "#7201a8"
             ],
             [
              0.3333333333333333,
              "#9c179e"
             ],
             [
              0.4444444444444444,
              "#bd3786"
             ],
             [
              0.5555555555555556,
              "#d8576b"
             ],
             [
              0.6666666666666666,
              "#ed7953"
             ],
             [
              0.7777777777777778,
              "#fb9f3a"
             ],
             [
              0.8888888888888888,
              "#fdca26"
             ],
             [
              1,
              "#f0f921"
             ]
            ],
            "type": "surface"
           }
          ],
          "table": [
           {
            "cells": {
             "fill": {
              "color": "#EBF0F8"
             },
             "line": {
              "color": "white"
             }
            },
            "header": {
             "fill": {
              "color": "#C8D4E3"
             },
             "line": {
              "color": "white"
             }
            },
            "type": "table"
           }
          ]
         },
         "layout": {
          "annotationdefaults": {
           "arrowcolor": "#2a3f5f",
           "arrowhead": 0,
           "arrowwidth": 1
          },
          "autotypenumbers": "strict",
          "coloraxis": {
           "colorbar": {
            "outlinewidth": 0,
            "ticks": ""
           }
          },
          "colorscale": {
           "diverging": [
            [
             0,
             "#8e0152"
            ],
            [
             0.1,
             "#c51b7d"
            ],
            [
             0.2,
             "#de77ae"
            ],
            [
             0.3,
             "#f1b6da"
            ],
            [
             0.4,
             "#fde0ef"
            ],
            [
             0.5,
             "#f7f7f7"
            ],
            [
             0.6,
             "#e6f5d0"
            ],
            [
             0.7,
             "#b8e186"
            ],
            [
             0.8,
             "#7fbc41"
            ],
            [
             0.9,
             "#4d9221"
            ],
            [
             1,
             "#276419"
            ]
           ],
           "sequential": [
            [
             0,
             "#0d0887"
            ],
            [
             0.1111111111111111,
             "#46039f"
            ],
            [
             0.2222222222222222,
             "#7201a8"
            ],
            [
             0.3333333333333333,
             "#9c179e"
            ],
            [
             0.4444444444444444,
             "#bd3786"
            ],
            [
             0.5555555555555556,
             "#d8576b"
            ],
            [
             0.6666666666666666,
             "#ed7953"
            ],
            [
             0.7777777777777778,
             "#fb9f3a"
            ],
            [
             0.8888888888888888,
             "#fdca26"
            ],
            [
             1,
             "#f0f921"
            ]
           ],
           "sequentialminus": [
            [
             0,
             "#0d0887"
            ],
            [
             0.1111111111111111,
             "#46039f"
            ],
            [
             0.2222222222222222,
             "#7201a8"
            ],
            [
             0.3333333333333333,
             "#9c179e"
            ],
            [
             0.4444444444444444,
             "#bd3786"
            ],
            [
             0.5555555555555556,
             "#d8576b"
            ],
            [
             0.6666666666666666,
             "#ed7953"
            ],
            [
             0.7777777777777778,
             "#fb9f3a"
            ],
            [
             0.8888888888888888,
             "#fdca26"
            ],
            [
             1,
             "#f0f921"
            ]
           ]
          },
          "colorway": [
           "#636efa",
           "#EF553B",
           "#00cc96",
           "#ab63fa",
           "#FFA15A",
           "#19d3f3",
           "#FF6692",
           "#B6E880",
           "#FF97FF",
           "#FECB52"
          ],
          "font": {
           "color": "#2a3f5f"
          },
          "geo": {
           "bgcolor": "white",
           "lakecolor": "white",
           "landcolor": "#E5ECF6",
           "showlakes": true,
           "showland": true,
           "subunitcolor": "white"
          },
          "hoverlabel": {
           "align": "left"
          },
          "hovermode": "closest",
          "mapbox": {
           "style": "light"
          },
          "paper_bgcolor": "white",
          "plot_bgcolor": "#E5ECF6",
          "polar": {
           "angularaxis": {
            "gridcolor": "white",
            "linecolor": "white",
            "ticks": ""
           },
           "bgcolor": "#E5ECF6",
           "radialaxis": {
            "gridcolor": "white",
            "linecolor": "white",
            "ticks": ""
           }
          },
          "scene": {
           "xaxis": {
            "backgroundcolor": "#E5ECF6",
            "gridcolor": "white",
            "gridwidth": 2,
            "linecolor": "white",
            "showbackground": true,
            "ticks": "",
            "zerolinecolor": "white"
           },
           "yaxis": {
            "backgroundcolor": "#E5ECF6",
            "gridcolor": "white",
            "gridwidth": 2,
            "linecolor": "white",
            "showbackground": true,
            "ticks": "",
            "zerolinecolor": "white"
           },
           "zaxis": {
            "backgroundcolor": "#E5ECF6",
            "gridcolor": "white",
            "gridwidth": 2,
            "linecolor": "white",
            "showbackground": true,
            "ticks": "",
            "zerolinecolor": "white"
           }
          },
          "shapedefaults": {
           "line": {
            "color": "#2a3f5f"
           }
          },
          "ternary": {
           "aaxis": {
            "gridcolor": "white",
            "linecolor": "white",
            "ticks": ""
           },
           "baxis": {
            "gridcolor": "white",
            "linecolor": "white",
            "ticks": ""
           },
           "bgcolor": "#E5ECF6",
           "caxis": {
            "gridcolor": "white",
            "linecolor": "white",
            "ticks": ""
           }
          },
          "title": {
           "x": 0.05
          },
          "xaxis": {
           "automargin": true,
           "gridcolor": "white",
           "linecolor": "white",
           "ticks": "",
           "title": {
            "standoff": 15
           },
           "zerolinecolor": "white",
           "zerolinewidth": 2
          },
          "yaxis": {
           "automargin": true,
           "gridcolor": "white",
           "linecolor": "white",
           "ticks": "",
           "title": {
            "standoff": 15
           },
           "zerolinecolor": "white",
           "zerolinewidth": 2
          }
         }
        },
        "xaxis": {
         "anchor": "y",
         "constrain": "domain",
         "domain": [
          0,
          1
         ],
         "scaleanchor": "y"
        },
        "yaxis": {
         "anchor": "x",
         "autorange": "reversed",
         "constrain": "domain",
         "domain": [
          0,
          1
         ]
        }
       }
      }
     },
     "metadata": {},
     "output_type": "display_data"
    }
   ],
   "source": [
    "px.imshow(opt)"
   ]
  },
  {
   "cell_type": "code",
   "execution_count": 29,
   "metadata": {},
   "outputs": [
    {
     "name": "stdout",
     "output_type": "stream",
     "text": [
      "Optimal closing, regularization: 0.2\n",
      "Optimal duration thres, regularization: 0.3500000000000001\n"
     ]
    }
   ],
   "source": [
    "optClose=t0[np.argmax(opt.flatten())]\n",
    "optDuration=t1[np.argmax(opt.flatten())]\n",
    "print(\"Optimal closing, regularization: \"+str(optClose))\n",
    "print(\"Optimal duration thres, regularization: \"+str(optDuration))"
   ]
  },
  {
   "cell_type": "code",
   "execution_count": 30,
   "metadata": {},
   "outputs": [],
   "source": [
    "f1_byEvent_CV=avg.flatten()[np.argmax(opt.flatten())]"
   ]
  },
  {
   "cell_type": "code",
   "execution_count": 31,
   "metadata": {},
   "outputs": [
    {
     "data": {
      "text/plain": [
       "0.7387414491283774"
      ]
     },
     "execution_count": 31,
     "metadata": {},
     "output_type": "execute_result"
    }
   ],
   "source": [
    "f1_byEvent_CV"
   ]
  },
  {
   "cell_type": "code",
   "execution_count": 32,
   "metadata": {},
   "outputs": [
    {
     "data": {
      "text/html": [
       "<div>\n",
       "<style scoped>\n",
       "    .dataframe tbody tr th:only-of-type {\n",
       "        vertical-align: middle;\n",
       "    }\n",
       "\n",
       "    .dataframe tbody tr th {\n",
       "        vertical-align: top;\n",
       "    }\n",
       "\n",
       "    .dataframe thead th {\n",
       "        text-align: right;\n",
       "    }\n",
       "</style>\n",
       "<table border=\"1\" class=\"dataframe\">\n",
       "  <thead>\n",
       "    <tr style=\"text-align: right;\">\n",
       "      <th></th>\n",
       "      <th>train</th>\n",
       "      <th>val</th>\n",
       "      <th>test</th>\n",
       "      <th>model</th>\n",
       "      <th>treeLimit</th>\n",
       "      <th>valF1</th>\n",
       "      <th>testRawF1</th>\n",
       "      <th>img</th>\n",
       "      <th>reg</th>\n",
       "    </tr>\n",
       "  </thead>\n",
       "  <tbody>\n",
       "    <tr>\n",
       "      <th>0</th>\n",
       "      <td>[0003, 0005, 0006]</td>\n",
       "      <td>[0002]</td>\n",
       "      <td>0001</td>\n",
       "      <td>XGBClassifier(base_score=0.5, booster='gbtree'...</td>\n",
       "      <td>25</td>\n",
       "      <td>0.584318</td>\n",
       "      <td>0.581108</td>\n",
       "      <td>[[0.6842105263157895, 0.7147766323024055, 0.74...</td>\n",
       "      <td>[[0.020000000000000004, 0.03250000000000001, 0...</td>\n",
       "    </tr>\n",
       "    <tr>\n",
       "      <th>1</th>\n",
       "      <td>[0001, 0005, 0006]</td>\n",
       "      <td>[0003]</td>\n",
       "      <td>0002</td>\n",
       "      <td>XGBClassifier(base_score=0.5, booster='gbtree'...</td>\n",
       "      <td>27</td>\n",
       "      <td>0.528931</td>\n",
       "      <td>0.612993</td>\n",
       "      <td>[[0.6341463414634146, 0.6701570680628273, 0.70...</td>\n",
       "      <td>[[0.020000000000000004, 0.03250000000000001, 0...</td>\n",
       "    </tr>\n",
       "    <tr>\n",
       "      <th>2</th>\n",
       "      <td>[0002, 0005, 0006]</td>\n",
       "      <td>[0001]</td>\n",
       "      <td>0003</td>\n",
       "      <td>XGBClassifier(base_score=0.5, booster='gbtree'...</td>\n",
       "      <td>17</td>\n",
       "      <td>0.578722</td>\n",
       "      <td>0.514032</td>\n",
       "      <td>[[0.6136363636363636, 0.6506024096385542, 0.66...</td>\n",
       "      <td>[[0.020000000000000004, 0.03250000000000001, 0...</td>\n",
       "    </tr>\n",
       "    <tr>\n",
       "      <th>3</th>\n",
       "      <td>[0001, 0002, 0003]</td>\n",
       "      <td>[0006]</td>\n",
       "      <td>0005</td>\n",
       "      <td>XGBClassifier(base_score=0.5, booster='gbtree'...</td>\n",
       "      <td>16</td>\n",
       "      <td>0.629171</td>\n",
       "      <td>0.572690</td>\n",
       "      <td>[[0.6474820143884892, 0.6592592592592592, 0.70...</td>\n",
       "      <td>[[0.020000000000000004, 0.03250000000000001, 0...</td>\n",
       "    </tr>\n",
       "    <tr>\n",
       "      <th>4</th>\n",
       "      <td>[0002, 0003, 0005]</td>\n",
       "      <td>[0001]</td>\n",
       "      <td>0006</td>\n",
       "      <td>XGBClassifier(base_score=0.5, booster='gbtree'...</td>\n",
       "      <td>17</td>\n",
       "      <td>0.567843</td>\n",
       "      <td>0.628491</td>\n",
       "      <td>[[0.7473309608540926, 0.7518248175182481, 0.77...</td>\n",
       "      <td>[[0.020000000000000004, 0.03250000000000001, 0...</td>\n",
       "    </tr>\n",
       "  </tbody>\n",
       "</table>\n",
       "</div>"
      ],
      "text/plain": [
       "                train     val  test  \\\n",
       "0  [0003, 0005, 0006]  [0002]  0001   \n",
       "1  [0001, 0005, 0006]  [0003]  0002   \n",
       "2  [0002, 0005, 0006]  [0001]  0003   \n",
       "3  [0001, 0002, 0003]  [0006]  0005   \n",
       "4  [0002, 0003, 0005]  [0001]  0006   \n",
       "\n",
       "                                               model  treeLimit     valF1  \\\n",
       "0  XGBClassifier(base_score=0.5, booster='gbtree'...         25  0.584318   \n",
       "1  XGBClassifier(base_score=0.5, booster='gbtree'...         27  0.528931   \n",
       "2  XGBClassifier(base_score=0.5, booster='gbtree'...         17  0.578722   \n",
       "3  XGBClassifier(base_score=0.5, booster='gbtree'...         16  0.629171   \n",
       "4  XGBClassifier(base_score=0.5, booster='gbtree'...         17  0.567843   \n",
       "\n",
       "   testRawF1                                                img  \\\n",
       "0   0.581108  [[0.6842105263157895, 0.7147766323024055, 0.74...   \n",
       "1   0.612993  [[0.6341463414634146, 0.6701570680628273, 0.70...   \n",
       "2   0.514032  [[0.6136363636363636, 0.6506024096385542, 0.66...   \n",
       "3   0.572690  [[0.6474820143884892, 0.6592592592592592, 0.70...   \n",
       "4   0.628491  [[0.7473309608540926, 0.7518248175182481, 0.77...   \n",
       "\n",
       "                                                 reg  \n",
       "0  [[0.020000000000000004, 0.03250000000000001, 0...  \n",
       "1  [[0.020000000000000004, 0.03250000000000001, 0...  \n",
       "2  [[0.020000000000000004, 0.03250000000000001, 0...  \n",
       "3  [[0.020000000000000004, 0.03250000000000001, 0...  \n",
       "4  [[0.020000000000000004, 0.03250000000000001, 0...  "
      ]
     },
     "execution_count": 32,
     "metadata": {},
     "output_type": "execute_result"
    }
   ],
   "source": [
    "dataSplits"
   ]
  },
  {
   "cell_type": "markdown",
   "metadata": {},
   "source": [
    "### Add F1 by sample and by event"
   ]
  },
  {
   "cell_type": "code",
   "execution_count": 33,
   "metadata": {},
   "outputs": [
    {
     "name": "stderr",
     "output_type": "stream",
     "text": [
      "\\\\desktop-447dqph\\Users\\Gurdiel\\Code\\Testing\\venv\\lib\\site-packages\\xgboost\\core.py:91: UserWarning:\n",
      "\n",
      "ntree_limit is deprecated, use `iteration_range` or model slicing instead.\n",
      "\n",
      "\\\\desktop-447dqph\\Users\\Gurdiel\\Code\\Testing\\venv\\lib\\site-packages\\xgboost\\core.py:91: UserWarning:\n",
      "\n",
      "ntree_limit is deprecated, use `iteration_range` or model slicing instead.\n",
      "\n",
      "\\\\desktop-447dqph\\Users\\Gurdiel\\Code\\Testing\\venv\\lib\\site-packages\\xgboost\\core.py:91: UserWarning:\n",
      "\n",
      "ntree_limit is deprecated, use `iteration_range` or model slicing instead.\n",
      "\n",
      "\\\\desktop-447dqph\\Users\\Gurdiel\\Code\\Testing\\venv\\lib\\site-packages\\xgboost\\core.py:91: UserWarning:\n",
      "\n",
      "ntree_limit is deprecated, use `iteration_range` or model slicing instead.\n",
      "\n",
      "\\\\desktop-447dqph\\Users\\Gurdiel\\Code\\Testing\\venv\\lib\\site-packages\\xgboost\\core.py:91: UserWarning:\n",
      "\n",
      "ntree_limit is deprecated, use `iteration_range` or model slicing instead.\n",
      "\n"
     ]
    }
   ],
   "source": [
    "testSampleF1s=[]\n",
    "testEventF1s=[]\n",
    "\n",
    "for index, row in dataSplits.iterrows():\n",
    "    testEventF1s.append(row.img.flatten()[np.argmax(opt.flatten())])\n",
    "\n",
    "    #Features\n",
    "    testFeatures=loadFeatureMatrix([row.test],selectedFeatureDf,excerptDimension,window,samplerate,featurespath)\n",
    "    #Labels\n",
    "    testLabels=loadLabelsVector([row.test],annotations,excerptDimension)\n",
    "    #Model\n",
    "    xgb_model=row.model\n",
    "    #Predict\n",
    "    testPredictions=xgb_model.predict(testFeatures, ntree_limit=row.treeLimit)\n",
    "    processedTestPredictions=labelingProcess(testPredictions,optClose,optDuration,samplerate)\n",
    "    testSampleF1s.append(F1(testLabels,processedTestPredictions))\n",
    "\n",
    "\n",
    "    \n",
    "dataSplits[\"testEventF1\"]=testEventF1s\n",
    "dataSplits[\"testSampleF1\"]=testSampleF1s"
   ]
  },
  {
   "cell_type": "code",
   "execution_count": 34,
   "metadata": {},
   "outputs": [
    {
     "data": {
      "text/html": [
       "<div>\n",
       "<style scoped>\n",
       "    .dataframe tbody tr th:only-of-type {\n",
       "        vertical-align: middle;\n",
       "    }\n",
       "\n",
       "    .dataframe tbody tr th {\n",
       "        vertical-align: top;\n",
       "    }\n",
       "\n",
       "    .dataframe thead th {\n",
       "        text-align: right;\n",
       "    }\n",
       "</style>\n",
       "<table border=\"1\" class=\"dataframe\">\n",
       "  <thead>\n",
       "    <tr style=\"text-align: right;\">\n",
       "      <th></th>\n",
       "      <th>train</th>\n",
       "      <th>val</th>\n",
       "      <th>test</th>\n",
       "      <th>model</th>\n",
       "      <th>treeLimit</th>\n",
       "      <th>valF1</th>\n",
       "      <th>testRawF1</th>\n",
       "      <th>img</th>\n",
       "      <th>reg</th>\n",
       "      <th>testEventF1</th>\n",
       "      <th>testSampleF1</th>\n",
       "    </tr>\n",
       "  </thead>\n",
       "  <tbody>\n",
       "    <tr>\n",
       "      <th>0</th>\n",
       "      <td>[0003, 0005, 0006]</td>\n",
       "      <td>[0002]</td>\n",
       "      <td>0001</td>\n",
       "      <td>XGBClassifier(base_score=0.5, booster='gbtree'...</td>\n",
       "      <td>25</td>\n",
       "      <td>0.584318</td>\n",
       "      <td>0.581108</td>\n",
       "      <td>[[0.6842105263157895, 0.7147766323024055, 0.74...</td>\n",
       "      <td>[[0.020000000000000004, 0.03250000000000001, 0...</td>\n",
       "      <td>0.746032</td>\n",
       "      <td>0.622279</td>\n",
       "    </tr>\n",
       "    <tr>\n",
       "      <th>1</th>\n",
       "      <td>[0001, 0005, 0006]</td>\n",
       "      <td>[0003]</td>\n",
       "      <td>0002</td>\n",
       "      <td>XGBClassifier(base_score=0.5, booster='gbtree'...</td>\n",
       "      <td>27</td>\n",
       "      <td>0.528931</td>\n",
       "      <td>0.612993</td>\n",
       "      <td>[[0.6341463414634146, 0.6701570680628273, 0.70...</td>\n",
       "      <td>[[0.020000000000000004, 0.03250000000000001, 0...</td>\n",
       "      <td>0.725000</td>\n",
       "      <td>0.646556</td>\n",
       "    </tr>\n",
       "    <tr>\n",
       "      <th>2</th>\n",
       "      <td>[0002, 0005, 0006]</td>\n",
       "      <td>[0001]</td>\n",
       "      <td>0003</td>\n",
       "      <td>XGBClassifier(base_score=0.5, booster='gbtree'...</td>\n",
       "      <td>17</td>\n",
       "      <td>0.578722</td>\n",
       "      <td>0.514032</td>\n",
       "      <td>[[0.6136363636363636, 0.6506024096385542, 0.66...</td>\n",
       "      <td>[[0.020000000000000004, 0.03250000000000001, 0...</td>\n",
       "      <td>0.702703</td>\n",
       "      <td>0.553329</td>\n",
       "    </tr>\n",
       "    <tr>\n",
       "      <th>3</th>\n",
       "      <td>[0001, 0002, 0003]</td>\n",
       "      <td>[0006]</td>\n",
       "      <td>0005</td>\n",
       "      <td>XGBClassifier(base_score=0.5, booster='gbtree'...</td>\n",
       "      <td>16</td>\n",
       "      <td>0.629171</td>\n",
       "      <td>0.572690</td>\n",
       "      <td>[[0.6474820143884892, 0.6592592592592592, 0.70...</td>\n",
       "      <td>[[0.020000000000000004, 0.03250000000000001, 0...</td>\n",
       "      <td>0.724891</td>\n",
       "      <td>0.599886</td>\n",
       "    </tr>\n",
       "    <tr>\n",
       "      <th>4</th>\n",
       "      <td>[0002, 0003, 0005]</td>\n",
       "      <td>[0001]</td>\n",
       "      <td>0006</td>\n",
       "      <td>XGBClassifier(base_score=0.5, booster='gbtree'...</td>\n",
       "      <td>17</td>\n",
       "      <td>0.567843</td>\n",
       "      <td>0.628491</td>\n",
       "      <td>[[0.7473309608540926, 0.7518248175182481, 0.77...</td>\n",
       "      <td>[[0.020000000000000004, 0.03250000000000001, 0...</td>\n",
       "      <td>0.795082</td>\n",
       "      <td>0.670757</td>\n",
       "    </tr>\n",
       "  </tbody>\n",
       "</table>\n",
       "</div>"
      ],
      "text/plain": [
       "                train     val  test  \\\n",
       "0  [0003, 0005, 0006]  [0002]  0001   \n",
       "1  [0001, 0005, 0006]  [0003]  0002   \n",
       "2  [0002, 0005, 0006]  [0001]  0003   \n",
       "3  [0001, 0002, 0003]  [0006]  0005   \n",
       "4  [0002, 0003, 0005]  [0001]  0006   \n",
       "\n",
       "                                               model  treeLimit     valF1  \\\n",
       "0  XGBClassifier(base_score=0.5, booster='gbtree'...         25  0.584318   \n",
       "1  XGBClassifier(base_score=0.5, booster='gbtree'...         27  0.528931   \n",
       "2  XGBClassifier(base_score=0.5, booster='gbtree'...         17  0.578722   \n",
       "3  XGBClassifier(base_score=0.5, booster='gbtree'...         16  0.629171   \n",
       "4  XGBClassifier(base_score=0.5, booster='gbtree'...         17  0.567843   \n",
       "\n",
       "   testRawF1                                                img  \\\n",
       "0   0.581108  [[0.6842105263157895, 0.7147766323024055, 0.74...   \n",
       "1   0.612993  [[0.6341463414634146, 0.6701570680628273, 0.70...   \n",
       "2   0.514032  [[0.6136363636363636, 0.6506024096385542, 0.66...   \n",
       "3   0.572690  [[0.6474820143884892, 0.6592592592592592, 0.70...   \n",
       "4   0.628491  [[0.7473309608540926, 0.7518248175182481, 0.77...   \n",
       "\n",
       "                                                 reg  testEventF1  \\\n",
       "0  [[0.020000000000000004, 0.03250000000000001, 0...     0.746032   \n",
       "1  [[0.020000000000000004, 0.03250000000000001, 0...     0.725000   \n",
       "2  [[0.020000000000000004, 0.03250000000000001, 0...     0.702703   \n",
       "3  [[0.020000000000000004, 0.03250000000000001, 0...     0.724891   \n",
       "4  [[0.020000000000000004, 0.03250000000000001, 0...     0.795082   \n",
       "\n",
       "   testSampleF1  \n",
       "0      0.622279  \n",
       "1      0.646556  \n",
       "2      0.553329  \n",
       "3      0.599886  \n",
       "4      0.670757  "
      ]
     },
     "execution_count": 34,
     "metadata": {},
     "output_type": "execute_result"
    }
   ],
   "source": [
    "dataSplits"
   ]
  },
  {
   "cell_type": "code",
   "execution_count": 35,
   "metadata": {},
   "outputs": [
    {
     "data": {
      "text/plain": [
       "0.7387414491283774"
      ]
     },
     "execution_count": 35,
     "metadata": {},
     "output_type": "execute_result"
    }
   ],
   "source": [
    "np.mean(dataSplits.testEventF1)"
   ]
  },
  {
   "cell_type": "code",
   "execution_count": 36,
   "metadata": {},
   "outputs": [
    {
     "data": {
      "text/plain": [
       "0.03132685982917773"
      ]
     },
     "execution_count": 36,
     "metadata": {},
     "output_type": "execute_result"
    }
   ],
   "source": [
    "np.std(dataSplits.testEventF1)"
   ]
  },
  {
   "cell_type": "code",
   "execution_count": 37,
   "metadata": {},
   "outputs": [
    {
     "data": {
      "text/plain": [
       "0.6185615223400218"
      ]
     },
     "execution_count": 37,
     "metadata": {},
     "output_type": "execute_result"
    }
   ],
   "source": [
    "np.mean(dataSplits.testSampleF1)"
   ]
  },
  {
   "cell_type": "code",
   "execution_count": 38,
   "metadata": {},
   "outputs": [
    {
     "data": {
      "text/plain": [
       "0.040313586299957745"
      ]
     },
     "execution_count": 38,
     "metadata": {},
     "output_type": "execute_result"
    }
   ],
   "source": [
    "np.std(dataSplits.testSampleF1)"
   ]
  }
 ],
 "metadata": {
  "kernelspec": {
   "display_name": "Python 3.10.6 ('venv': venv)",
   "language": "python",
   "name": "python3"
  },
  "language_info": {
   "codemirror_mode": {
    "name": "ipython",
    "version": 3
   },
   "file_extension": ".py",
   "mimetype": "text/x-python",
   "name": "python",
   "nbconvert_exporter": "python",
   "pygments_lexer": "ipython3",
   "version": "3.10.6"
  },
  "orig_nbformat": 4,
  "vscode": {
   "interpreter": {
    "hash": "69eb08d3e713eff25484e90b18c01e15df779e80a0db295f9ddc53faed0455be"
   }
  }
 },
 "nbformat": 4,
 "nbformat_minor": 2
}
