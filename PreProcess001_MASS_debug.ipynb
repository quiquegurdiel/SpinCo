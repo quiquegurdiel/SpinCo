{
 "cells": [
  {
   "cell_type": "markdown",
   "metadata": {},
   "source": [
    "# Check annotations sinchronization"
   ]
  },
  {
   "cell_type": "code",
   "execution_count": 88,
   "metadata": {},
   "outputs": [],
   "source": [
    "from spinco import *\n",
    "\n",
    "import os\n",
    "import pandas as pd\n",
    "import numpy as np\n",
    "import pyedflib\n",
    "import pickle as pkl\n",
    "from plotly import express as px\n",
    "from matplotlib import pyplot as plt\n",
    "import datetime"
   ]
  },
  {
   "cell_type": "code",
   "execution_count": 73,
   "metadata": {},
   "outputs": [],
   "source": [
    "edfpath=\"D:\\SpinCo\\MASS\\edfs\"\n",
    "annopath=\"D:\\SpinCo\\MASS\\\\annotations\"\n",
    "signalspath=\"D:\\SpinCo\\MASS\\signals\""
   ]
  },
  {
   "cell_type": "code",
   "execution_count": 74,
   "metadata": {},
   "outputs": [],
   "source": [
    "checkfiles={\n",
    "    'psgbase':edfpath+\"/01-02-0006 Base.edf\",\n",
    "    'psgpath':edfpath+\"/01-02-0006 PSG.edf\",\n",
    "    'annobase':annopath+\"/01-02-0006 Base.edf\",\n",
    "    'e1path':annopath+\"/01-02-0006 Spindles_E1.edf\",\n",
    "    'e2path':annopath+\"/01-02-0006 Spindles_E2.edf\"\n",
    "}"
   ]
  },
  {
   "cell_type": "code",
   "execution_count": 75,
   "metadata": {},
   "outputs": [
    {
     "name": "stdout",
     "output_type": "stream",
     "text": [
      "*********************\n",
      "psgbase\n",
      "2000-01-01 00:02:19\n",
      "-139.0\n",
      "*********************\n",
      "*********************\n",
      "psgpath\n",
      "2000-01-01 00:02:19.008462\n",
      "-139.008462\n",
      "*********************\n",
      "*********************\n",
      "annobase\n",
      "2000-01-01 00:02:19\n",
      "-139.0\n",
      "*********************\n",
      "*********************\n",
      "e1path\n",
      "2000-01-01 00:02:19\n",
      "-139.0\n",
      "*********************\n",
      "*********************\n",
      "e2path\n",
      "2000-01-01 00:02:19\n",
      "-139.0\n",
      "*********************\n"
     ]
    }
   ],
   "source": [
    "for name, edffile in checkfiles.items():\n",
    "    print(\"*********************\")\n",
    "    print(name)\n",
    "    signals, signal_headers, header = pyedflib.highlevel.read_edf(edffile)\n",
    "    print(header['startdate'])\n",
    "    reference=datetime.datetime(header['startdate'].year,header['startdate'].month,header['startdate'].day,0,0,0)\n",
    "    print((reference-header['startdate']).total_seconds())\n",
    "    print(\"*********************\")"
   ]
  },
  {
   "cell_type": "code",
   "execution_count": 89,
   "metadata": {},
   "outputs": [],
   "source": [
    "signals, annotations, signalsMetadata =loadMASSSpindles(\"D:\\SpinCo\\MASS\",returnSignals=True)"
   ]
  },
  {
   "cell_type": "code",
   "execution_count": 93,
   "metadata": {},
   "outputs": [
    {
     "data": {
      "text/html": [
       "<div>\n",
       "<style scoped>\n",
       "    .dataframe tbody tr th:only-of-type {\n",
       "        vertical-align: middle;\n",
       "    }\n",
       "\n",
       "    .dataframe tbody tr th {\n",
       "        vertical-align: top;\n",
       "    }\n",
       "\n",
       "    .dataframe thead th {\n",
       "        text-align: right;\n",
       "    }\n",
       "</style>\n",
       "<table border=\"1\" class=\"dataframe\">\n",
       "  <thead>\n",
       "    <tr style=\"text-align: right;\">\n",
       "      <th></th>\n",
       "      <th>type</th>\n",
       "      <th>subjectId</th>\n",
       "      <th>startTime</th>\n",
       "      <th>duration</th>\n",
       "      <th>expert</th>\n",
       "      <th>comment</th>\n",
       "      <th>labelerId</th>\n",
       "      <th>samplerate</th>\n",
       "      <th>stopTime</th>\n",
       "      <th>startInd</th>\n",
       "      <th>stopInd</th>\n",
       "    </tr>\n",
       "  </thead>\n",
       "  <tbody>\n",
       "    <tr>\n",
       "      <th>10027</th>\n",
       "      <td>spindle</td>\n",
       "      <td>0006</td>\n",
       "      <td>18638.413916</td>\n",
       "      <td>20.764296</td>\n",
       "      <td>E2</td>\n",
       "      <td>&lt;Event channel=\"EEG C3-LER\" groupName=\"spindle...</td>\n",
       "      <td>0002</td>\n",
       "      <td>256</td>\n",
       "      <td>18659.178212</td>\n",
       "      <td>4771434</td>\n",
       "      <td>4776750</td>\n",
       "    </tr>\n",
       "  </tbody>\n",
       "</table>\n",
       "</div>"
      ],
      "text/plain": [
       "          type subjectId     startTime   duration expert  \\\n",
       "10027  spindle      0006  18638.413916  20.764296     E2   \n",
       "\n",
       "                                                 comment labelerId  \\\n",
       "10027  <Event channel=\"EEG C3-LER\" groupName=\"spindle...      0002   \n",
       "\n",
       "       samplerate      stopTime  startInd  stopInd  \n",
       "10027         256  18659.178212   4771434  4776750  "
      ]
     },
     "execution_count": 93,
     "metadata": {},
     "output_type": "execute_result"
    }
   ],
   "source": [
    "aux=annotations[annotations.duration==np.max(annotations.duration)]\n",
    "aux"
   ]
  },
  {
   "cell_type": "code",
   "execution_count": 90,
   "metadata": {},
   "outputs": [
    {
     "data": {
      "text/plain": [
       "array([-0.75716793,  1.22311742,  2.55742733, ...,  7.89466697,\n",
       "        5.90379187,  5.71317617])"
      ]
     },
     "execution_count": 90,
     "metadata": {},
     "output_type": "execute_result"
    }
   ],
   "source": [
    "signals['0006']"
   ]
  },
  {
   "cell_type": "code",
   "execution_count": 99,
   "metadata": {},
   "outputs": [
    {
     "data": {
      "text/plain": [
       "4771434"
      ]
     },
     "execution_count": 99,
     "metadata": {},
     "output_type": "execute_result"
    }
   ],
   "source": [
    "aux.iloc[0].startInd"
   ]
  },
  {
   "cell_type": "code",
   "execution_count": 115,
   "metadata": {},
   "outputs": [
    {
     "data": {
      "text/plain": [
       "<matplotlib.collections.LineCollection at 0x1c99d6aff10>"
      ]
     },
     "execution_count": 115,
     "metadata": {},
     "output_type": "execute_result"
    },
    {
     "data": {
      "image/png": "[encoded data removed]",
      "text/plain": [
       "<Figure size 640x480 with 1 Axes>"
      ]
     },
     "metadata": {},
     "output_type": "display_data"
    }
   ],
   "source": [
    "plt.plot(np.arange(aux.iloc[0].startInd,aux.iloc[0].stopInd),signals['0006'][aux.iloc[0].startInd:aux.iloc[0].stopInd])\n",
    "plt.vlines([4774041,4774268],ymin=-100,ymax=100,linestyles=\":\",color='black')\n",
    "plt.vlines([4774951,4775202],ymin=-100,ymax=100,linestyles=\":\",color='green')"
   ]
  },
  {
   "cell_type": "code",
   "execution_count": null,
   "metadata": {},
   "outputs": [],
   "source": []
  }
 ],
 "metadata": {
  "kernelspec": {
   "display_name": "Python 3.10.6 ('venv': venv)",
   "language": "python",
   "name": "python3"
  },
  "language_info": {
   "codemirror_mode": {
    "name": "ipython",
    "version": 3
   },
   "file_extension": ".py",
   "mimetype": "text/x-python",
   "name": "python",
   "nbconvert_exporter": "python",
   "pygments_lexer": "ipython3",
   "version": "3.10.6"
  },
  "orig_nbformat": 4,
  "vscode": {
   "interpreter": {
    "hash": "69eb08d3e713eff25484e90b18c01e15df779e80a0db295f9ddc53faed0455be"
   }
  }
 },
 "nbformat": 4,
 "nbformat_minor": 2
}
