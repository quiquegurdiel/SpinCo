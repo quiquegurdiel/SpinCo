{
 "cells": [
  {
   "attachments": {},
   "cell_type": "markdown",
   "metadata": {},
   "source": [
    "# MODEL TRAINING - testing the full approach - COGNITION\n",
    "saving models in a different folder using pickle, saving them in the dataframe causes xgboost to crash\n",
    "\n",
    "**DO NOT RUN AGAIN**"
   ]
  },
  {
   "cell_type": "code",
   "metadata": {
    "ExecuteTime": {
     "end_time": "2024-12-11T09:01:27.907440Z",
     "start_time": "2024-12-11T09:01:27.893486Z"
    }
   },
   "source": [
    "#external libraries\n",
    "import numpy as np\n",
    "import os\n",
    "import matplotlib.pyplot as plt\n",
    "import matplotlib.colors as clt\n",
    "import plotly\n",
    "import plotly.subplots as sb\n",
    "import plotly.express as px\n",
    "import plotly.graph_objects as go\n",
    "import dotenv\n",
    "import pandas as pd\n",
    "import scipy.fft as fft\n",
    "import scipy.signal as sg\n",
    "import scipy.io as sio\n",
    "import pickle as pkl\n",
    "import xgboost as xgb\n",
    "import time\n",
    "import uuid\n",
    "\n",
    "#project library\n",
    "from spinco import *\n",
    "\n",
    "#environment variables\n",
    "dotenv.load_dotenv('lab.env')\n",
    "\n",
    "#project variables\n",
    "datapath=os.environ['DATAPATH']\n",
    "cognipath=datapath+\"/COGNITION\"\n",
    "dreamspath=datapath+\"/DREAMS\"\n",
    "masspath=datapath+\"/MASS\"\n"
   ],
   "outputs": [],
   "execution_count": 9
  },
  {
   "cell_type": "markdown",
   "metadata": {},
   "source": [
    "## experiment id\n",
    "we'll use it to create a folder at the end of the script"
   ]
  },
  {
   "cell_type": "code",
   "metadata": {
    "ExecuteTime": {
     "end_time": "2024-12-11T09:01:27.922390Z",
     "start_time": "2024-12-11T09:01:27.910430Z"
    }
   },
   "source": [
    "experimentId=str(uuid.uuid4())"
   ],
   "outputs": [],
   "execution_count": 10
  },
  {
   "cell_type": "markdown",
   "metadata": {},
   "source": [
    "## define a fixed samplerate"
   ]
  },
  {
   "cell_type": "code",
   "metadata": {
    "ExecuteTime": {
     "end_time": "2024-12-11T09:01:27.953288Z",
     "start_time": "2024-12-11T09:01:27.938336Z"
    }
   },
   "source": [
    "samplerate=200"
   ],
   "outputs": [],
   "execution_count": 11
  },
  {
   "attachments": {},
   "cell_type": "markdown",
   "metadata": {},
   "source": [
    "## load cognition"
   ]
  },
  {
   "cell_type": "code",
   "metadata": {
    "ExecuteTime": {
     "end_time": "2024-12-11T09:01:28.078210Z",
     "start_time": "2024-12-11T09:01:27.969741Z"
    }
   },
   "source": [
    "annotations, signalsMetadata = loadCOGNITIONSpindles(cognipath)"
   ],
   "outputs": [],
   "execution_count": 12
  },
  {
   "cell_type": "code",
   "metadata": {
    "ExecuteTime": {
     "end_time": "2024-12-11T09:01:28.109529Z",
     "start_time": "2024-12-11T09:01:28.094579Z"
    }
   },
   "source": [
    "annotations=annotations[annotations.type=='spindle'].reset_index(drop=True)\n",
    "len(annotations)"
   ],
   "outputs": [
    {
     "data": {
      "text/plain": [
       "2785"
      ]
     },
     "execution_count": 13,
     "metadata": {},
     "output_type": "execute_result"
    }
   ],
   "execution_count": 13
  },
  {
   "cell_type": "code",
   "metadata": {
    "ExecuteTime": {
     "end_time": "2024-12-11T09:01:28.141422Z",
     "start_time": "2024-12-11T09:01:28.126472Z"
    }
   },
   "source": [
    "annotations.head()"
   ],
   "outputs": [
    {
     "data": {
      "text/plain": [
       "  subjectId channel    startTime     stopTime  duration  phase labelerId  \\\n",
       "0      0001      C3  1938.132297  1939.202326  1.070029      2      0001   \n",
       "1      0001      C3  2047.217898  2048.112834  0.894936      2      0001   \n",
       "2      0001      C3  2170.856032  2171.634237  0.778205      3      0001   \n",
       "3      0001      C3  2219.766538  2220.894943  1.128405      3      0001   \n",
       "4      0001      C3  2263.482492  2264.357974  0.875482      3      0001   \n",
       "\n",
       "      type  samplerate  startInd  stopInd  \n",
       "0  spindle         200    387626   387840  \n",
       "1  spindle         200    409444   409623  \n",
       "2  spindle         200    434171   434327  \n",
       "3  spindle         200    443953   444179  \n",
       "4  spindle         200    452696   452872  "
      ],
      "text/html": [
       "<div>\n",
       "<style scoped>\n",
       "    .dataframe tbody tr th:only-of-type {\n",
       "        vertical-align: middle;\n",
       "    }\n",
       "\n",
       "    .dataframe tbody tr th {\n",
       "        vertical-align: top;\n",
       "    }\n",
       "\n",
       "    .dataframe thead th {\n",
       "        text-align: right;\n",
       "    }\n",
       "</style>\n",
       "<table border=\"1\" class=\"dataframe\">\n",
       "  <thead>\n",
       "    <tr style=\"text-align: right;\">\n",
       "      <th></th>\n",
       "      <th>subjectId</th>\n",
       "      <th>channel</th>\n",
       "      <th>startTime</th>\n",
       "      <th>stopTime</th>\n",
       "      <th>duration</th>\n",
       "      <th>phase</th>\n",
       "      <th>labelerId</th>\n",
       "      <th>type</th>\n",
       "      <th>samplerate</th>\n",
       "      <th>startInd</th>\n",
       "      <th>stopInd</th>\n",
       "    </tr>\n",
       "  </thead>\n",
       "  <tbody>\n",
       "    <tr>\n",
       "      <th>0</th>\n",
       "      <td>0001</td>\n",
       "      <td>C3</td>\n",
       "      <td>1938.132297</td>\n",
       "      <td>1939.202326</td>\n",
       "      <td>1.070029</td>\n",
       "      <td>2</td>\n",
       "      <td>0001</td>\n",
       "      <td>spindle</td>\n",
       "      <td>200</td>\n",
       "      <td>387626</td>\n",
       "      <td>387840</td>\n",
       "    </tr>\n",
       "    <tr>\n",
       "      <th>1</th>\n",
       "      <td>0001</td>\n",
       "      <td>C3</td>\n",
       "      <td>2047.217898</td>\n",
       "      <td>2048.112834</td>\n",
       "      <td>0.894936</td>\n",
       "      <td>2</td>\n",
       "      <td>0001</td>\n",
       "      <td>spindle</td>\n",
       "      <td>200</td>\n",
       "      <td>409444</td>\n",
       "      <td>409623</td>\n",
       "    </tr>\n",
       "    <tr>\n",
       "      <th>2</th>\n",
       "      <td>0001</td>\n",
       "      <td>C3</td>\n",
       "      <td>2170.856032</td>\n",
       "      <td>2171.634237</td>\n",
       "      <td>0.778205</td>\n",
       "      <td>3</td>\n",
       "      <td>0001</td>\n",
       "      <td>spindle</td>\n",
       "      <td>200</td>\n",
       "      <td>434171</td>\n",
       "      <td>434327</td>\n",
       "    </tr>\n",
       "    <tr>\n",
       "      <th>3</th>\n",
       "      <td>0001</td>\n",
       "      <td>C3</td>\n",
       "      <td>2219.766538</td>\n",
       "      <td>2220.894943</td>\n",
       "      <td>1.128405</td>\n",
       "      <td>3</td>\n",
       "      <td>0001</td>\n",
       "      <td>spindle</td>\n",
       "      <td>200</td>\n",
       "      <td>443953</td>\n",
       "      <td>444179</td>\n",
       "    </tr>\n",
       "    <tr>\n",
       "      <th>4</th>\n",
       "      <td>0001</td>\n",
       "      <td>C3</td>\n",
       "      <td>2263.482492</td>\n",
       "      <td>2264.357974</td>\n",
       "      <td>0.875482</td>\n",
       "      <td>3</td>\n",
       "      <td>0001</td>\n",
       "      <td>spindle</td>\n",
       "      <td>200</td>\n",
       "      <td>452696</td>\n",
       "      <td>452872</td>\n",
       "    </tr>\n",
       "  </tbody>\n",
       "</table>\n",
       "</div>"
      ]
     },
     "execution_count": 14,
     "metadata": {},
     "output_type": "execute_result"
    }
   ],
   "execution_count": 14
  },
  {
   "cell_type": "code",
   "metadata": {
    "ExecuteTime": {
     "end_time": "2024-12-11T09:01:28.203724Z",
     "start_time": "2024-12-11T09:01:28.188774Z"
    }
   },
   "source": [
    "signalsMetadata.head()"
   ],
   "outputs": [
    {
     "data": {
      "text/plain": [
       "              filename channel subjectId  duration  samplerate  \\\n",
       "0  COG001_canal_C3.txt   C3-M2      0001     39600         200   \n",
       "1  COG002_canal_C3.txt   C3-M2      0002     39600         200   \n",
       "2  COG003_canal_C3.txt   C3-M2      0003     39600         200   \n",
       "3  COG004_canal_C3.txt   C3-M2      0004     39600         200   \n",
       "4  COG005_canal_C3.txt   C3-M2      0005     39600         200   \n",
       "\n",
       "   isOriginalSamplerate   database  \n",
       "0                 False  COGNITION  \n",
       "1                 False  COGNITION  \n",
       "2                 False  COGNITION  \n",
       "3                 False  COGNITION  \n",
       "4                 False  COGNITION  "
      ],
      "text/html": [
       "<div>\n",
       "<style scoped>\n",
       "    .dataframe tbody tr th:only-of-type {\n",
       "        vertical-align: middle;\n",
       "    }\n",
       "\n",
       "    .dataframe tbody tr th {\n",
       "        vertical-align: top;\n",
       "    }\n",
       "\n",
       "    .dataframe thead th {\n",
       "        text-align: right;\n",
       "    }\n",
       "</style>\n",
       "<table border=\"1\" class=\"dataframe\">\n",
       "  <thead>\n",
       "    <tr style=\"text-align: right;\">\n",
       "      <th></th>\n",
       "      <th>filename</th>\n",
       "      <th>channel</th>\n",
       "      <th>subjectId</th>\n",
       "      <th>duration</th>\n",
       "      <th>samplerate</th>\n",
       "      <th>isOriginalSamplerate</th>\n",
       "      <th>database</th>\n",
       "    </tr>\n",
       "  </thead>\n",
       "  <tbody>\n",
       "    <tr>\n",
       "      <th>0</th>\n",
       "      <td>COG001_canal_C3.txt</td>\n",
       "      <td>C3-M2</td>\n",
       "      <td>0001</td>\n",
       "      <td>39600</td>\n",
       "      <td>200</td>\n",
       "      <td>False</td>\n",
       "      <td>COGNITION</td>\n",
       "    </tr>\n",
       "    <tr>\n",
       "      <th>1</th>\n",
       "      <td>COG002_canal_C3.txt</td>\n",
       "      <td>C3-M2</td>\n",
       "      <td>0002</td>\n",
       "      <td>39600</td>\n",
       "      <td>200</td>\n",
       "      <td>False</td>\n",
       "      <td>COGNITION</td>\n",
       "    </tr>\n",
       "    <tr>\n",
       "      <th>2</th>\n",
       "      <td>COG003_canal_C3.txt</td>\n",
       "      <td>C3-M2</td>\n",
       "      <td>0003</td>\n",
       "      <td>39600</td>\n",
       "      <td>200</td>\n",
       "      <td>False</td>\n",
       "      <td>COGNITION</td>\n",
       "    </tr>\n",
       "    <tr>\n",
       "      <th>3</th>\n",
       "      <td>COG004_canal_C3.txt</td>\n",
       "      <td>C3-M2</td>\n",
       "      <td>0004</td>\n",
       "      <td>39600</td>\n",
       "      <td>200</td>\n",
       "      <td>False</td>\n",
       "      <td>COGNITION</td>\n",
       "    </tr>\n",
       "    <tr>\n",
       "      <th>4</th>\n",
       "      <td>COG005_canal_C3.txt</td>\n",
       "      <td>C3-M2</td>\n",
       "      <td>0005</td>\n",
       "      <td>39600</td>\n",
       "      <td>200</td>\n",
       "      <td>False</td>\n",
       "      <td>COGNITION</td>\n",
       "    </tr>\n",
       "  </tbody>\n",
       "</table>\n",
       "</div>"
      ]
     },
     "execution_count": 15,
     "metadata": {},
     "output_type": "execute_result"
    }
   ],
   "execution_count": 15
  },
  {
   "cell_type": "markdown",
   "metadata": {},
   "source": [
    "## define a fixed feature selection to use"
   ]
  },
  {
   "cell_type": "code",
   "metadata": {
    "ExecuteTime": {
     "end_time": "2024-12-11T09:01:28.266024Z",
     "start_time": "2024-12-11T09:01:28.250568Z"
    }
   },
   "source": [
    "featureSelection=loadPickle(\"featureSelection_750bootstraping_iterations.pkl\")\n",
    "featureSelection"
   ],
   "outputs": [
    {
     "data": {
      "text/plain": [
       "   window characteristic   bandName  Times_selected\n",
       "0       2     sigmaIndex  broadband          1000.0\n",
       "1       2  hjortActivity      sigma          1000.0\n",
       "2     1.5     sigmaIndex  broadband          1000.0\n",
       "3       1  hjortActivity      sigma          1000.0\n",
       "4       1     sigmaIndex  broadband          1000.0\n",
       "5       2  hjortActivity      beta1          1000.0\n",
       "6       2  hjortActivity      beta2          1000.0\n",
       "7     1.5  hjortActivity      sigma           999.0\n",
       "8       2  hjortMobility      beta1           994.0\n",
       "9       2  hjortActivity     delta2           986.0\n",
       "10      2  hjortActivity  broadband           985.0\n",
       "11      2  hjortMobility      sigma           975.0\n",
       "12      2  hjortActivity      alpha           971.0\n",
       "13    1.5  hjortActivity      beta2           918.0\n",
       "14    0.5     sigmaIndex  broadband           899.0\n",
       "15      2  hjortMobility      beta2           897.0\n",
       "16      2  hjortMobility      alpha           893.0\n",
       "17      2  hjortMobility     delta1           838.0\n",
       "18    1.5  hjortMobility      beta1           824.0"
      ],
      "text/html": [
       "<div>\n",
       "<style scoped>\n",
       "    .dataframe tbody tr th:only-of-type {\n",
       "        vertical-align: middle;\n",
       "    }\n",
       "\n",
       "    .dataframe tbody tr th {\n",
       "        vertical-align: top;\n",
       "    }\n",
       "\n",
       "    .dataframe thead th {\n",
       "        text-align: right;\n",
       "    }\n",
       "</style>\n",
       "<table border=\"1\" class=\"dataframe\">\n",
       "  <thead>\n",
       "    <tr style=\"text-align: right;\">\n",
       "      <th></th>\n",
       "      <th>window</th>\n",
       "      <th>characteristic</th>\n",
       "      <th>bandName</th>\n",
       "      <th>Times_selected</th>\n",
       "    </tr>\n",
       "  </thead>\n",
       "  <tbody>\n",
       "    <tr>\n",
       "      <th>0</th>\n",
       "      <td>2</td>\n",
       "      <td>sigmaIndex</td>\n",
       "      <td>broadband</td>\n",
       "      <td>1000.0</td>\n",
       "    </tr>\n",
       "    <tr>\n",
       "      <th>1</th>\n",
       "      <td>2</td>\n",
       "      <td>hjortActivity</td>\n",
       "      <td>sigma</td>\n",
       "      <td>1000.0</td>\n",
       "    </tr>\n",
       "    <tr>\n",
       "      <th>2</th>\n",
       "      <td>1.5</td>\n",
       "      <td>sigmaIndex</td>\n",
       "      <td>broadband</td>\n",
       "      <td>1000.0</td>\n",
       "    </tr>\n",
       "    <tr>\n",
       "      <th>3</th>\n",
       "      <td>1</td>\n",
       "      <td>hjortActivity</td>\n",
       "      <td>sigma</td>\n",
       "      <td>1000.0</td>\n",
       "    </tr>\n",
       "    <tr>\n",
       "      <th>4</th>\n",
       "      <td>1</td>\n",
       "      <td>sigmaIndex</td>\n",
       "      <td>broadband</td>\n",
       "      <td>1000.0</td>\n",
       "    </tr>\n",
       "    <tr>\n",
       "      <th>5</th>\n",
       "      <td>2</td>\n",
       "      <td>hjortActivity</td>\n",
       "      <td>beta1</td>\n",
       "      <td>1000.0</td>\n",
       "    </tr>\n",
       "    <tr>\n",
       "      <th>6</th>\n",
       "      <td>2</td>\n",
       "      <td>hjortActivity</td>\n",
       "      <td>beta2</td>\n",
       "      <td>1000.0</td>\n",
       "    </tr>\n",
       "    <tr>\n",
       "      <th>7</th>\n",
       "      <td>1.5</td>\n",
       "      <td>hjortActivity</td>\n",
       "      <td>sigma</td>\n",
       "      <td>999.0</td>\n",
       "    </tr>\n",
       "    <tr>\n",
       "      <th>8</th>\n",
       "      <td>2</td>\n",
       "      <td>hjortMobility</td>\n",
       "      <td>beta1</td>\n",
       "      <td>994.0</td>\n",
       "    </tr>\n",
       "    <tr>\n",
       "      <th>9</th>\n",
       "      <td>2</td>\n",
       "      <td>hjortActivity</td>\n",
       "      <td>delta2</td>\n",
       "      <td>986.0</td>\n",
       "    </tr>\n",
       "    <tr>\n",
       "      <th>10</th>\n",
       "      <td>2</td>\n",
       "      <td>hjortActivity</td>\n",
       "      <td>broadband</td>\n",
       "      <td>985.0</td>\n",
       "    </tr>\n",
       "    <tr>\n",
       "      <th>11</th>\n",
       "      <td>2</td>\n",
       "      <td>hjortMobility</td>\n",
       "      <td>sigma</td>\n",
       "      <td>975.0</td>\n",
       "    </tr>\n",
       "    <tr>\n",
       "      <th>12</th>\n",
       "      <td>2</td>\n",
       "      <td>hjortActivity</td>\n",
       "      <td>alpha</td>\n",
       "      <td>971.0</td>\n",
       "    </tr>\n",
       "    <tr>\n",
       "      <th>13</th>\n",
       "      <td>1.5</td>\n",
       "      <td>hjortActivity</td>\n",
       "      <td>beta2</td>\n",
       "      <td>918.0</td>\n",
       "    </tr>\n",
       "    <tr>\n",
       "      <th>14</th>\n",
       "      <td>0.5</td>\n",
       "      <td>sigmaIndex</td>\n",
       "      <td>broadband</td>\n",
       "      <td>899.0</td>\n",
       "    </tr>\n",
       "    <tr>\n",
       "      <th>15</th>\n",
       "      <td>2</td>\n",
       "      <td>hjortMobility</td>\n",
       "      <td>beta2</td>\n",
       "      <td>897.0</td>\n",
       "    </tr>\n",
       "    <tr>\n",
       "      <th>16</th>\n",
       "      <td>2</td>\n",
       "      <td>hjortMobility</td>\n",
       "      <td>alpha</td>\n",
       "      <td>893.0</td>\n",
       "    </tr>\n",
       "    <tr>\n",
       "      <th>17</th>\n",
       "      <td>2</td>\n",
       "      <td>hjortMobility</td>\n",
       "      <td>delta1</td>\n",
       "      <td>838.0</td>\n",
       "    </tr>\n",
       "    <tr>\n",
       "      <th>18</th>\n",
       "      <td>1.5</td>\n",
       "      <td>hjortMobility</td>\n",
       "      <td>beta1</td>\n",
       "      <td>824.0</td>\n",
       "    </tr>\n",
       "  </tbody>\n",
       "</table>\n",
       "</div>"
      ]
     },
     "execution_count": 16,
     "metadata": {},
     "output_type": "execute_result"
    }
   ],
   "execution_count": 16
  },
  {
   "attachments": {},
   "cell_type": "markdown",
   "metadata": {},
   "source": [
    "## load data split\n",
    "LOOCV with 7 subjects"
   ]
  },
  {
   "cell_type": "code",
   "metadata": {
    "ExecuteTime": {
     "end_time": "2024-12-11T09:01:28.345856Z",
     "start_time": "2024-12-11T09:01:28.329907Z"
    }
   },
   "source": [
    "#by now we used fixed CV data splits instead\n",
    "dataSplits=loadPickle(\"dataSplits_LOOCV.pkl\")\n",
    "dataSplits"
   ],
   "outputs": [
    {
     "data": {
      "text/plain": [
       "                      train           val  test\n",
       "0  [0004, 0005, 0006, 0007]  [0003, 0008]  0002\n",
       "1  [0002, 0005, 0006, 0008]  [0007, 0004]  0003\n",
       "2  [0002, 0003, 0005, 0007]  [0006, 0008]  0004\n",
       "3  [0002, 0003, 0007, 0008]  [0006, 0004]  0005\n",
       "4  [0002, 0003, 0007, 0008]  [0004, 0005]  0006\n",
       "5  [0002, 0004, 0005, 0008]  [0003, 0006]  0007\n",
       "6  [0002, 0005, 0006, 0007]  [0003, 0004]  0008"
      ],
      "text/html": [
       "<div>\n",
       "<style scoped>\n",
       "    .dataframe tbody tr th:only-of-type {\n",
       "        vertical-align: middle;\n",
       "    }\n",
       "\n",
       "    .dataframe tbody tr th {\n",
       "        vertical-align: top;\n",
       "    }\n",
       "\n",
       "    .dataframe thead th {\n",
       "        text-align: right;\n",
       "    }\n",
       "</style>\n",
       "<table border=\"1\" class=\"dataframe\">\n",
       "  <thead>\n",
       "    <tr style=\"text-align: right;\">\n",
       "      <th></th>\n",
       "      <th>train</th>\n",
       "      <th>val</th>\n",
       "      <th>test</th>\n",
       "    </tr>\n",
       "  </thead>\n",
       "  <tbody>\n",
       "    <tr>\n",
       "      <th>0</th>\n",
       "      <td>[0004, 0005, 0006, 0007]</td>\n",
       "      <td>[0003, 0008]</td>\n",
       "      <td>0002</td>\n",
       "    </tr>\n",
       "    <tr>\n",
       "      <th>1</th>\n",
       "      <td>[0002, 0005, 0006, 0008]</td>\n",
       "      <td>[0007, 0004]</td>\n",
       "      <td>0003</td>\n",
       "    </tr>\n",
       "    <tr>\n",
       "      <th>2</th>\n",
       "      <td>[0002, 0003, 0005, 0007]</td>\n",
       "      <td>[0006, 0008]</td>\n",
       "      <td>0004</td>\n",
       "    </tr>\n",
       "    <tr>\n",
       "      <th>3</th>\n",
       "      <td>[0002, 0003, 0007, 0008]</td>\n",
       "      <td>[0006, 0004]</td>\n",
       "      <td>0005</td>\n",
       "    </tr>\n",
       "    <tr>\n",
       "      <th>4</th>\n",
       "      <td>[0002, 0003, 0007, 0008]</td>\n",
       "      <td>[0004, 0005]</td>\n",
       "      <td>0006</td>\n",
       "    </tr>\n",
       "    <tr>\n",
       "      <th>5</th>\n",
       "      <td>[0002, 0004, 0005, 0008]</td>\n",
       "      <td>[0003, 0006]</td>\n",
       "      <td>0007</td>\n",
       "    </tr>\n",
       "    <tr>\n",
       "      <th>6</th>\n",
       "      <td>[0002, 0005, 0006, 0007]</td>\n",
       "      <td>[0003, 0004]</td>\n",
       "      <td>0008</td>\n",
       "    </tr>\n",
       "  </tbody>\n",
       "</table>\n",
       "</div>"
      ]
     },
     "execution_count": 17,
     "metadata": {},
     "output_type": "execute_result"
    }
   ],
   "execution_count": 17
  },
  {
   "attachments": {},
   "cell_type": "markdown",
   "metadata": {},
   "source": [
    "## define annotation criteria"
   ]
  },
  {
   "cell_type": "code",
   "metadata": {
    "ExecuteTime": {
     "end_time": "2024-12-11T09:01:28.407759Z",
     "start_time": "2024-12-11T09:01:28.393208Z"
    }
   },
   "source": [
    "np.unique(annotations.labelerId)"
   ],
   "outputs": [
    {
     "data": {
      "text/plain": [
       "array(['0001'], dtype=object)"
      ]
     },
     "execution_count": 18,
     "metadata": {},
     "output_type": "execute_result"
    }
   ],
   "execution_count": 18
  },
  {
   "cell_type": "code",
   "metadata": {
    "ExecuteTime": {
     "end_time": "2024-12-11T09:01:28.517745Z",
     "start_time": "2024-12-11T09:01:28.502795Z"
    }
   },
   "source": [
    "annotationCriteria=pd.DataFrame({\n",
    "    'criteriumId':['0001'],\n",
    "    'criteriumName':['E1'],\n",
    "    'labelerIdList':[['0001']]\n",
    "})"
   ],
   "outputs": [],
   "execution_count": 19
  },
  {
   "cell_type": "code",
   "metadata": {
    "ExecuteTime": {
     "end_time": "2024-12-11T09:01:28.563806Z",
     "start_time": "2024-12-11T09:01:28.549348Z"
    }
   },
   "source": [
    "annotationCriteria"
   ],
   "outputs": [
    {
     "data": {
      "text/plain": [
       "  criteriumId criteriumName labelerIdList\n",
       "0        0001            E1        [0001]"
      ],
      "text/html": [
       "<div>\n",
       "<style scoped>\n",
       "    .dataframe tbody tr th:only-of-type {\n",
       "        vertical-align: middle;\n",
       "    }\n",
       "\n",
       "    .dataframe tbody tr th {\n",
       "        vertical-align: top;\n",
       "    }\n",
       "\n",
       "    .dataframe thead th {\n",
       "        text-align: right;\n",
       "    }\n",
       "</style>\n",
       "<table border=\"1\" class=\"dataframe\">\n",
       "  <thead>\n",
       "    <tr style=\"text-align: right;\">\n",
       "      <th></th>\n",
       "      <th>criteriumId</th>\n",
       "      <th>criteriumName</th>\n",
       "      <th>labelerIdList</th>\n",
       "    </tr>\n",
       "  </thead>\n",
       "  <tbody>\n",
       "    <tr>\n",
       "      <th>0</th>\n",
       "      <td>0001</td>\n",
       "      <td>E1</td>\n",
       "      <td>[0001]</td>\n",
       "    </tr>\n",
       "  </tbody>\n",
       "</table>\n",
       "</div>"
      ]
     },
     "execution_count": 20,
     "metadata": {},
     "output_type": "execute_result"
    }
   ],
   "execution_count": 20
  },
  {
   "cell_type": "code",
   "metadata": {
    "ExecuteTime": {
     "end_time": "2024-12-11T09:01:28.609802Z",
     "start_time": "2024-12-11T09:01:28.594467Z"
    }
   },
   "source": [
    "experimentModels=pd.merge(annotationCriteria,dataSplits,how='cross')"
   ],
   "outputs": [],
   "execution_count": 21
  },
  {
   "cell_type": "code",
   "metadata": {
    "ExecuteTime": {
     "end_time": "2024-12-11T09:01:28.657229Z",
     "start_time": "2024-12-11T09:01:28.642694Z"
    }
   },
   "source": [
    "experimentModels"
   ],
   "outputs": [
    {
     "data": {
      "text/plain": [
       "  criteriumId criteriumName labelerIdList                     train  \\\n",
       "0        0001            E1        [0001]  [0004, 0005, 0006, 0007]   \n",
       "1        0001            E1        [0001]  [0002, 0005, 0006, 0008]   \n",
       "2        0001            E1        [0001]  [0002, 0003, 0005, 0007]   \n",
       "3        0001            E1        [0001]  [0002, 0003, 0007, 0008]   \n",
       "4        0001            E1        [0001]  [0002, 0003, 0007, 0008]   \n",
       "5        0001            E1        [0001]  [0002, 0004, 0005, 0008]   \n",
       "6        0001            E1        [0001]  [0002, 0005, 0006, 0007]   \n",
       "\n",
       "            val  test  \n",
       "0  [0003, 0008]  0002  \n",
       "1  [0007, 0004]  0003  \n",
       "2  [0006, 0008]  0004  \n",
       "3  [0006, 0004]  0005  \n",
       "4  [0004, 0005]  0006  \n",
       "5  [0003, 0006]  0007  \n",
       "6  [0003, 0004]  0008  "
      ],
      "text/html": [
       "<div>\n",
       "<style scoped>\n",
       "    .dataframe tbody tr th:only-of-type {\n",
       "        vertical-align: middle;\n",
       "    }\n",
       "\n",
       "    .dataframe tbody tr th {\n",
       "        vertical-align: top;\n",
       "    }\n",
       "\n",
       "    .dataframe thead th {\n",
       "        text-align: right;\n",
       "    }\n",
       "</style>\n",
       "<table border=\"1\" class=\"dataframe\">\n",
       "  <thead>\n",
       "    <tr style=\"text-align: right;\">\n",
       "      <th></th>\n",
       "      <th>criteriumId</th>\n",
       "      <th>criteriumName</th>\n",
       "      <th>labelerIdList</th>\n",
       "      <th>train</th>\n",
       "      <th>val</th>\n",
       "      <th>test</th>\n",
       "    </tr>\n",
       "  </thead>\n",
       "  <tbody>\n",
       "    <tr>\n",
       "      <th>0</th>\n",
       "      <td>0001</td>\n",
       "      <td>E1</td>\n",
       "      <td>[0001]</td>\n",
       "      <td>[0004, 0005, 0006, 0007]</td>\n",
       "      <td>[0003, 0008]</td>\n",
       "      <td>0002</td>\n",
       "    </tr>\n",
       "    <tr>\n",
       "      <th>1</th>\n",
       "      <td>0001</td>\n",
       "      <td>E1</td>\n",
       "      <td>[0001]</td>\n",
       "      <td>[0002, 0005, 0006, 0008]</td>\n",
       "      <td>[0007, 0004]</td>\n",
       "      <td>0003</td>\n",
       "    </tr>\n",
       "    <tr>\n",
       "      <th>2</th>\n",
       "      <td>0001</td>\n",
       "      <td>E1</td>\n",
       "      <td>[0001]</td>\n",
       "      <td>[0002, 0003, 0005, 0007]</td>\n",
       "      <td>[0006, 0008]</td>\n",
       "      <td>0004</td>\n",
       "    </tr>\n",
       "    <tr>\n",
       "      <th>3</th>\n",
       "      <td>0001</td>\n",
       "      <td>E1</td>\n",
       "      <td>[0001]</td>\n",
       "      <td>[0002, 0003, 0007, 0008]</td>\n",
       "      <td>[0006, 0004]</td>\n",
       "      <td>0005</td>\n",
       "    </tr>\n",
       "    <tr>\n",
       "      <th>4</th>\n",
       "      <td>0001</td>\n",
       "      <td>E1</td>\n",
       "      <td>[0001]</td>\n",
       "      <td>[0002, 0003, 0007, 0008]</td>\n",
       "      <td>[0004, 0005]</td>\n",
       "      <td>0006</td>\n",
       "    </tr>\n",
       "    <tr>\n",
       "      <th>5</th>\n",
       "      <td>0001</td>\n",
       "      <td>E1</td>\n",
       "      <td>[0001]</td>\n",
       "      <td>[0002, 0004, 0005, 0008]</td>\n",
       "      <td>[0003, 0006]</td>\n",
       "      <td>0007</td>\n",
       "    </tr>\n",
       "    <tr>\n",
       "      <th>6</th>\n",
       "      <td>0001</td>\n",
       "      <td>E1</td>\n",
       "      <td>[0001]</td>\n",
       "      <td>[0002, 0005, 0006, 0007]</td>\n",
       "      <td>[0003, 0004]</td>\n",
       "      <td>0008</td>\n",
       "    </tr>\n",
       "  </tbody>\n",
       "</table>\n",
       "</div>"
      ]
     },
     "execution_count": 22,
     "metadata": {},
     "output_type": "execute_result"
    }
   ],
   "execution_count": 22
  },
  {
   "cell_type": "markdown",
   "metadata": {},
   "source": [
    "## model fitting"
   ]
  },
  {
   "cell_type": "code",
   "metadata": {
    "ExecuteTime": {
     "end_time": "2024-12-11T09:33:59.307283Z",
     "start_time": "2024-12-11T09:01:28.688639Z"
    }
   },
   "source": [
    "n_jobs=4 # paralelization parameter for xgboost (keep it 8 as maximum)\n",
    "learning_rate=0.4\n",
    "subsample=0.6\n",
    "\n",
    "num_boost_round=60  #number of boosting rounds per model\n",
    "\n",
    "models=[]\n",
    "modelIds=[]\n",
    "valF1s=[]\n",
    "spindleTimeRates=[]\n",
    "for index, row in experimentModels.iterrows():\n",
    "    print('**********************')\n",
    "    print(str(index+1)+' of '+str(len(experimentModels)))\n",
    "    #Define annotations criterium\n",
    "    usedAnnotations=annotations[annotations.labelerId.isin(row.labelerIdList)].reset_index(drop=True)\n",
    "    #Features\n",
    "    trainFeatures=loadFeatureMatrix(row.train,featureSelection,signalsMetadata,samplerate,datapath)\n",
    "    #Labels\n",
    "    trainLabels=loadLabelsVector(row.train,usedAnnotations,signalsMetadata,samplerate)\n",
    "    \n",
    "    #Train the models\n",
    "    params={\n",
    "        'n_jobs':n_jobs,\n",
    "        'learning_rate':learning_rate,\n",
    "        'subsample':subsample,\n",
    "        'objective':'binary:logistic'\n",
    "    }\n",
    "    trainDMatrix=xgb.DMatrix(data=trainFeatures,label=trainLabels)\n",
    "    xgb_model = xgb.train(params,trainDMatrix,num_boost_round=num_boost_round)\n",
    "    spindleTimeRates.append(sum(trainLabels)/len(trainLabels))\n",
    "    models.append(xgb_model)\n",
    "    modelIds.append(str(uuid.uuid4()))\n",
    "    del trainFeatures, trainLabels, usedAnnotations, xgb_model, trainDMatrix\n"
   ],
   "outputs": [
    {
     "name": "stdout",
     "output_type": "stream",
     "text": [
      "**********************\n",
      "1 of 7\n",
      "**********************\n",
      "2 of 7\n",
      "**********************\n",
      "3 of 7\n",
      "**********************\n",
      "4 of 7\n",
      "**********************\n",
      "5 of 7\n",
      "**********************\n",
      "6 of 7\n",
      "**********************\n",
      "7 of 7\n"
     ]
    }
   ],
   "execution_count": 23
  },
  {
   "cell_type": "code",
   "metadata": {
    "ExecuteTime": {
     "end_time": "2024-12-11T09:33:59.418657Z",
     "start_time": "2024-12-11T09:33:59.403201Z"
    }
   },
   "source": [
    "experimentModels[\"modelId\"]=modelIds\n",
    "experimentModels[\"spindleTimeRate\"]=spindleTimeRates"
   ],
   "outputs": [],
   "execution_count": 24
  },
  {
   "cell_type": "code",
   "metadata": {
    "ExecuteTime": {
     "end_time": "2024-12-11T09:33:59.450552Z",
     "start_time": "2024-12-11T09:33:59.434605Z"
    }
   },
   "source": [
    "experimentModels"
   ],
   "outputs": [
    {
     "data": {
      "text/plain": [
       "  criteriumId criteriumName labelerIdList                     train  \\\n",
       "0        0001            E1        [0001]  [0004, 0005, 0006, 0007]   \n",
       "1        0001            E1        [0001]  [0002, 0005, 0006, 0008]   \n",
       "2        0001            E1        [0001]  [0002, 0003, 0005, 0007]   \n",
       "3        0001            E1        [0001]  [0002, 0003, 0007, 0008]   \n",
       "4        0001            E1        [0001]  [0002, 0003, 0007, 0008]   \n",
       "5        0001            E1        [0001]  [0002, 0004, 0005, 0008]   \n",
       "6        0001            E1        [0001]  [0002, 0005, 0006, 0007]   \n",
       "\n",
       "            val  test                               modelId  spindleTimeRate  \n",
       "0  [0003, 0008]  0002  b0ed8bb9-b3bf-4d59-8361-56de157c048b         0.008075  \n",
       "1  [0007, 0004]  0003  5c7c5d06-9c29-4375-9085-4db6407b6ede         0.005000  \n",
       "2  [0006, 0008]  0004  e02e37e5-a7eb-4403-8ee9-5bb236b7f1c9         0.012035  \n",
       "3  [0006, 0004]  0005  67828471-f46c-4119-9b51-1d3f6fda27ad         0.010340  \n",
       "4  [0004, 0005]  0006  02771e0f-b0c7-41bd-b964-dd9d89bdf637         0.010340  \n",
       "5  [0003, 0006]  0007  e3e1c4f9-e3e7-4dca-9972-b4391e5b100a         0.006673  \n",
       "6  [0003, 0004]  0008  1181576e-e39c-4aee-97b9-bceed05cead5         0.006822  "
      ],
      "text/html": [
       "<div>\n",
       "<style scoped>\n",
       "    .dataframe tbody tr th:only-of-type {\n",
       "        vertical-align: middle;\n",
       "    }\n",
       "\n",
       "    .dataframe tbody tr th {\n",
       "        vertical-align: top;\n",
       "    }\n",
       "\n",
       "    .dataframe thead th {\n",
       "        text-align: right;\n",
       "    }\n",
       "</style>\n",
       "<table border=\"1\" class=\"dataframe\">\n",
       "  <thead>\n",
       "    <tr style=\"text-align: right;\">\n",
       "      <th></th>\n",
       "      <th>criteriumId</th>\n",
       "      <th>criteriumName</th>\n",
       "      <th>labelerIdList</th>\n",
       "      <th>train</th>\n",
       "      <th>val</th>\n",
       "      <th>test</th>\n",
       "      <th>modelId</th>\n",
       "      <th>spindleTimeRate</th>\n",
       "    </tr>\n",
       "  </thead>\n",
       "  <tbody>\n",
       "    <tr>\n",
       "      <th>0</th>\n",
       "      <td>0001</td>\n",
       "      <td>E1</td>\n",
       "      <td>[0001]</td>\n",
       "      <td>[0004, 0005, 0006, 0007]</td>\n",
       "      <td>[0003, 0008]</td>\n",
       "      <td>0002</td>\n",
       "      <td>b0ed8bb9-b3bf-4d59-8361-56de157c048b</td>\n",
       "      <td>0.008075</td>\n",
       "    </tr>\n",
       "    <tr>\n",
       "      <th>1</th>\n",
       "      <td>0001</td>\n",
       "      <td>E1</td>\n",
       "      <td>[0001]</td>\n",
       "      <td>[0002, 0005, 0006, 0008]</td>\n",
       "      <td>[0007, 0004]</td>\n",
       "      <td>0003</td>\n",
       "      <td>5c7c5d06-9c29-4375-9085-4db6407b6ede</td>\n",
       "      <td>0.005000</td>\n",
       "    </tr>\n",
       "    <tr>\n",
       "      <th>2</th>\n",
       "      <td>0001</td>\n",
       "      <td>E1</td>\n",
       "      <td>[0001]</td>\n",
       "      <td>[0002, 0003, 0005, 0007]</td>\n",
       "      <td>[0006, 0008]</td>\n",
       "      <td>0004</td>\n",
       "      <td>e02e37e5-a7eb-4403-8ee9-5bb236b7f1c9</td>\n",
       "      <td>0.012035</td>\n",
       "    </tr>\n",
       "    <tr>\n",
       "      <th>3</th>\n",
       "      <td>0001</td>\n",
       "      <td>E1</td>\n",
       "      <td>[0001]</td>\n",
       "      <td>[0002, 0003, 0007, 0008]</td>\n",
       "      <td>[0006, 0004]</td>\n",
       "      <td>0005</td>\n",
       "      <td>67828471-f46c-4119-9b51-1d3f6fda27ad</td>\n",
       "      <td>0.010340</td>\n",
       "    </tr>\n",
       "    <tr>\n",
       "      <th>4</th>\n",
       "      <td>0001</td>\n",
       "      <td>E1</td>\n",
       "      <td>[0001]</td>\n",
       "      <td>[0002, 0003, 0007, 0008]</td>\n",
       "      <td>[0004, 0005]</td>\n",
       "      <td>0006</td>\n",
       "      <td>02771e0f-b0c7-41bd-b964-dd9d89bdf637</td>\n",
       "      <td>0.010340</td>\n",
       "    </tr>\n",
       "    <tr>\n",
       "      <th>5</th>\n",
       "      <td>0001</td>\n",
       "      <td>E1</td>\n",
       "      <td>[0001]</td>\n",
       "      <td>[0002, 0004, 0005, 0008]</td>\n",
       "      <td>[0003, 0006]</td>\n",
       "      <td>0007</td>\n",
       "      <td>e3e1c4f9-e3e7-4dca-9972-b4391e5b100a</td>\n",
       "      <td>0.006673</td>\n",
       "    </tr>\n",
       "    <tr>\n",
       "      <th>6</th>\n",
       "      <td>0001</td>\n",
       "      <td>E1</td>\n",
       "      <td>[0001]</td>\n",
       "      <td>[0002, 0005, 0006, 0007]</td>\n",
       "      <td>[0003, 0004]</td>\n",
       "      <td>0008</td>\n",
       "      <td>1181576e-e39c-4aee-97b9-bceed05cead5</td>\n",
       "      <td>0.006822</td>\n",
       "    </tr>\n",
       "  </tbody>\n",
       "</table>\n",
       "</div>"
      ]
     },
     "execution_count": 25,
     "metadata": {},
     "output_type": "execute_result"
    }
   ],
   "execution_count": 25
  },
  {
   "cell_type": "markdown",
   "metadata": {},
   "source": [
    "## save results"
   ]
  },
  {
   "cell_type": "code",
   "metadata": {
    "ExecuteTime": {
     "end_time": "2024-12-11T09:33:59.588598Z",
     "start_time": "2024-12-11T09:33:59.496697Z"
    }
   },
   "source": [
    "#create parent folder\n",
    "experimentpath=datapath+\"/experiments/\"+experimentId\n",
    "os.mkdir(experimentpath)\n",
    "#save each of the models\n",
    "for id, model in zip(modelIds,models):\n",
    "    model.save_model(experimentpath+\"/\"+id+\".json\")\n",
    "#save experiment information\n",
    "dumpPickle(experimentpath+\"/experimentModels.pkl\",experimentModels)\n",
    "dumpPickle(experimentpath+\"/featureSelection.pkl\",featureSelection)"
   ],
   "outputs": [],
   "execution_count": 26
  },
  {
   "cell_type": "code",
   "metadata": {
    "ExecuteTime": {
     "end_time": "2024-12-11T09:33:59.635155Z",
     "start_time": "2024-12-11T09:33:59.620195Z"
    }
   },
   "source": [
    "#you need to use this in the following parts of the experiment\n",
    "print(experimentId)"
   ],
   "outputs": [
    {
     "name": "stdout",
     "output_type": "stream",
     "text": [
      "49c36cde-5b49-4268-8ea9-78d361fad245\n"
     ]
    }
   ],
   "execution_count": 27
  },
  {
   "cell_type": "code",
   "metadata": {
    "ExecuteTime": {
     "end_time": "2024-12-11T09:33:59.650715Z",
     "start_time": "2024-12-11T09:33:59.641241Z"
    }
   },
   "source": [],
   "outputs": [],
   "execution_count": null
  }
 ],
 "metadata": {
  "kernelspec": {
   "display_name": "Python 3.10.6 ('venv': venv)",
   "language": "python",
   "name": "python3"
  },
  "language_info": {
   "codemirror_mode": {
    "name": "ipython",
    "version": 3
   },
   "file_extension": ".py",
   "mimetype": "text/x-python",
   "name": "python",
   "nbconvert_exporter": "python",
   "pygments_lexer": "ipython3",
   "version": "3.10.6"
  },
  "orig_nbformat": 4,
  "vscode": {
   "interpreter": {
    "hash": "69eb08d3e713eff25484e90b18c01e15df779e80a0db295f9ddc53faed0455be"
   }
  }
 },
 "nbformat": 4,
 "nbformat_minor": 2
}
