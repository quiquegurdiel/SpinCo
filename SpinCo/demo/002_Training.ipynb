{
 "cells": [
  {
   "attachments": {},
   "cell_type": "markdown",
   "metadata": {},
   "source": [
    "# MODEL TRAINING - DEMO"
   ]
  },
  {
   "cell_type": "code",
   "metadata": {
    "ExecuteTime": {
     "end_time": "2025-01-09T18:01:13.142854Z",
     "start_time": "2025-01-09T18:01:11.341549Z"
    }
   },
   "source": [
    "#external libraries\n",
    "import numpy as np\n",
    "import os\n",
    "import matplotlib.pyplot as plt\n",
    "import matplotlib.colors as clt\n",
    "import plotly\n",
    "import plotly.subplots as sb\n",
    "import plotly.express as px\n",
    "import plotly.graph_objects as go\n",
    "import dotenv\n",
    "import pandas as pd\n",
    "import scipy.fft as fft\n",
    "import scipy.signal as sg\n",
    "import scipy.io as sio\n",
    "import pickle as pkl\n",
    "import xgboost as xgb\n",
    "import time\n",
    "import uuid\n",
    "\n",
    "#project library\n",
    "from spinco import *\n",
    "\n",
    "#environment variables\n",
    "dotenv.load_dotenv('lab.env')\n",
    "\n",
    "#project variables\n",
    "demopath=os.getcwd()\n"
   ],
   "outputs": [],
   "execution_count": 1
  },
  {
   "cell_type": "markdown",
   "metadata": {},
   "source": [
    "## experiment id\n",
    "we'll use it to create a folder at the end of the script"
   ]
  },
  {
   "cell_type": "code",
   "metadata": {
    "ExecuteTime": {
     "end_time": "2025-01-09T18:01:13.158425Z",
     "start_time": "2025-01-09T18:01:13.146524Z"
    }
   },
   "source": [
    "experimentId=str(uuid.uuid4())"
   ],
   "outputs": [],
   "execution_count": 2
  },
  {
   "cell_type": "markdown",
   "metadata": {},
   "source": [
    "## define a fixed samplerate"
   ]
  },
  {
   "cell_type": "code",
   "metadata": {
    "ExecuteTime": {
     "end_time": "2025-01-09T18:01:13.220882Z",
     "start_time": "2025-01-09T18:01:13.206592Z"
    }
   },
   "source": [
    "samplerate=200"
   ],
   "outputs": [],
   "execution_count": 3
  },
  {
   "attachments": {},
   "cell_type": "markdown",
   "metadata": {},
   "source": [
    "## load dreams"
   ]
  },
  {
   "cell_type": "code",
   "metadata": {
    "ExecuteTime": {
     "end_time": "2025-01-09T18:01:13.518879Z",
     "start_time": "2025-01-09T18:01:13.238332Z"
    }
   },
   "source": [
    "signals, annotations, signalsMetadata = loadDREAMSSpindlesDemo(demopath)"
   ],
   "outputs": [
    {
     "name": "stdout",
     "output_type": "stream",
     "text": [
      "SubjectId: 0001--------------\n",
      "resampling from 100 to 200\n",
      "SubjectId: 0003--------------\n",
      "resampling from 50 to 200\n",
      "SubjectId: 0006--------------\n",
      "duration discrepancy, removing last 0.7 seconds\n"
     ]
    }
   ],
   "execution_count": 4
  },
  {
   "cell_type": "code",
   "metadata": {
    "ExecuteTime": {
     "end_time": "2025-01-09T18:01:13.550904Z",
     "start_time": "2025-01-09T18:01:13.542098Z"
    }
   },
   "source": [
    "annotations=annotations[annotations.type=='spindle'].reset_index(drop=True)\n",
    "len(annotations)"
   ],
   "outputs": [
    {
     "data": {
      "text/plain": [
       "764"
      ]
     },
     "execution_count": 5,
     "metadata": {},
     "output_type": "execute_result"
    }
   ],
   "execution_count": 5
  },
  {
   "cell_type": "code",
   "metadata": {
    "ExecuteTime": {
     "end_time": "2025-01-09T18:01:13.582946Z",
     "start_time": "2025-01-09T18:01:13.567899Z"
    }
   },
   "source": [
    "minDuration=0.3\n",
    "maxDuration=5\n",
    "annotations=annotations[annotations.duration>minDuration].reset_index(drop=True)\n",
    "annotations=annotations[annotations.duration<maxDuration].reset_index(drop=True)\n",
    "len(annotations)"
   ],
   "outputs": [
    {
     "data": {
      "text/plain": [
       "764"
      ]
     },
     "execution_count": 6,
     "metadata": {},
     "output_type": "execute_result"
    }
   ],
   "execution_count": 6
  },
  {
   "cell_type": "code",
   "metadata": {
    "ExecuteTime": {
     "end_time": "2025-01-09T18:01:13.613015Z",
     "start_time": "2025-01-09T18:01:13.598047Z"
    }
   },
   "source": [
    "annotations.head()"
   ],
   "outputs": [
    {
     "data": {
      "text/plain": [
       "   index  startTime  duration channel subjectId labelerId     type  \\\n",
       "0      0     282.24      0.72   C3-A1      0001      0001  spindle   \n",
       "1      1     311.72      1.54   C3-A1      0001      0001  spindle   \n",
       "2      2     340.28      0.72   C3-A1      0001      0001  spindle   \n",
       "3      3     366.83      0.65   C3-A1      0001      0001  spindle   \n",
       "4      4     373.74      0.50   C3-A1      0001      0001  spindle   \n",
       "\n",
       "   samplerate  stopTime  startInd  stopInd  \n",
       "0         200    282.96     56448    56592  \n",
       "1         200    313.26     62344    62652  \n",
       "2         200    341.00     68056    68200  \n",
       "3         200    367.48     73366    73496  \n",
       "4         200    374.24     74748    74848  "
      ],
      "text/html": [
       "<div>\n",
       "<style scoped>\n",
       "    .dataframe tbody tr th:only-of-type {\n",
       "        vertical-align: middle;\n",
       "    }\n",
       "\n",
       "    .dataframe tbody tr th {\n",
       "        vertical-align: top;\n",
       "    }\n",
       "\n",
       "    .dataframe thead th {\n",
       "        text-align: right;\n",
       "    }\n",
       "</style>\n",
       "<table border=\"1\" class=\"dataframe\">\n",
       "  <thead>\n",
       "    <tr style=\"text-align: right;\">\n",
       "      <th></th>\n",
       "      <th>index</th>\n",
       "      <th>startTime</th>\n",
       "      <th>duration</th>\n",
       "      <th>channel</th>\n",
       "      <th>subjectId</th>\n",
       "      <th>labelerId</th>\n",
       "      <th>type</th>\n",
       "      <th>samplerate</th>\n",
       "      <th>stopTime</th>\n",
       "      <th>startInd</th>\n",
       "      <th>stopInd</th>\n",
       "    </tr>\n",
       "  </thead>\n",
       "  <tbody>\n",
       "    <tr>\n",
       "      <th>0</th>\n",
       "      <td>0</td>\n",
       "      <td>282.24</td>\n",
       "      <td>0.72</td>\n",
       "      <td>C3-A1</td>\n",
       "      <td>0001</td>\n",
       "      <td>0001</td>\n",
       "      <td>spindle</td>\n",
       "      <td>200</td>\n",
       "      <td>282.96</td>\n",
       "      <td>56448</td>\n",
       "      <td>56592</td>\n",
       "    </tr>\n",
       "    <tr>\n",
       "      <th>1</th>\n",
       "      <td>1</td>\n",
       "      <td>311.72</td>\n",
       "      <td>1.54</td>\n",
       "      <td>C3-A1</td>\n",
       "      <td>0001</td>\n",
       "      <td>0001</td>\n",
       "      <td>spindle</td>\n",
       "      <td>200</td>\n",
       "      <td>313.26</td>\n",
       "      <td>62344</td>\n",
       "      <td>62652</td>\n",
       "    </tr>\n",
       "    <tr>\n",
       "      <th>2</th>\n",
       "      <td>2</td>\n",
       "      <td>340.28</td>\n",
       "      <td>0.72</td>\n",
       "      <td>C3-A1</td>\n",
       "      <td>0001</td>\n",
       "      <td>0001</td>\n",
       "      <td>spindle</td>\n",
       "      <td>200</td>\n",
       "      <td>341.00</td>\n",
       "      <td>68056</td>\n",
       "      <td>68200</td>\n",
       "    </tr>\n",
       "    <tr>\n",
       "      <th>3</th>\n",
       "      <td>3</td>\n",
       "      <td>366.83</td>\n",
       "      <td>0.65</td>\n",
       "      <td>C3-A1</td>\n",
       "      <td>0001</td>\n",
       "      <td>0001</td>\n",
       "      <td>spindle</td>\n",
       "      <td>200</td>\n",
       "      <td>367.48</td>\n",
       "      <td>73366</td>\n",
       "      <td>73496</td>\n",
       "    </tr>\n",
       "    <tr>\n",
       "      <th>4</th>\n",
       "      <td>4</td>\n",
       "      <td>373.74</td>\n",
       "      <td>0.50</td>\n",
       "      <td>C3-A1</td>\n",
       "      <td>0001</td>\n",
       "      <td>0001</td>\n",
       "      <td>spindle</td>\n",
       "      <td>200</td>\n",
       "      <td>374.24</td>\n",
       "      <td>74748</td>\n",
       "      <td>74848</td>\n",
       "    </tr>\n",
       "  </tbody>\n",
       "</table>\n",
       "</div>"
      ]
     },
     "execution_count": 7,
     "metadata": {},
     "output_type": "execute_result"
    }
   ],
   "execution_count": 7
  },
  {
   "cell_type": "code",
   "metadata": {
    "ExecuteTime": {
     "end_time": "2025-01-09T18:01:13.643769Z",
     "start_time": "2025-01-09T18:01:13.629187Z"
    }
   },
   "source": [
    "signalsMetadata.head()"
   ],
   "outputs": [
    {
     "data": {
      "text/plain": [
       "       filename channel subjectId  duration  samplerate database\n",
       "0  excerpt1.txt   C3-A1      0001      1800         200   DREAMS\n",
       "1  excerpt2.txt   CZ-A1      0002      1800         200   DREAMS\n",
       "2  excerpt3.txt   C3-A1      0003      1800         200   DREAMS\n",
       "3  excerpt4.txt   CZ-A1      0004      1800         200   DREAMS\n",
       "4  excerpt5.txt   CZ-A1      0005      1800         200   DREAMS"
      ],
      "text/html": [
       "<div>\n",
       "<style scoped>\n",
       "    .dataframe tbody tr th:only-of-type {\n",
       "        vertical-align: middle;\n",
       "    }\n",
       "\n",
       "    .dataframe tbody tr th {\n",
       "        vertical-align: top;\n",
       "    }\n",
       "\n",
       "    .dataframe thead th {\n",
       "        text-align: right;\n",
       "    }\n",
       "</style>\n",
       "<table border=\"1\" class=\"dataframe\">\n",
       "  <thead>\n",
       "    <tr style=\"text-align: right;\">\n",
       "      <th></th>\n",
       "      <th>filename</th>\n",
       "      <th>channel</th>\n",
       "      <th>subjectId</th>\n",
       "      <th>duration</th>\n",
       "      <th>samplerate</th>\n",
       "      <th>database</th>\n",
       "    </tr>\n",
       "  </thead>\n",
       "  <tbody>\n",
       "    <tr>\n",
       "      <th>0</th>\n",
       "      <td>excerpt1.txt</td>\n",
       "      <td>C3-A1</td>\n",
       "      <td>0001</td>\n",
       "      <td>1800</td>\n",
       "      <td>200</td>\n",
       "      <td>DREAMS</td>\n",
       "    </tr>\n",
       "    <tr>\n",
       "      <th>1</th>\n",
       "      <td>excerpt2.txt</td>\n",
       "      <td>CZ-A1</td>\n",
       "      <td>0002</td>\n",
       "      <td>1800</td>\n",
       "      <td>200</td>\n",
       "      <td>DREAMS</td>\n",
       "    </tr>\n",
       "    <tr>\n",
       "      <th>2</th>\n",
       "      <td>excerpt3.txt</td>\n",
       "      <td>C3-A1</td>\n",
       "      <td>0003</td>\n",
       "      <td>1800</td>\n",
       "      <td>200</td>\n",
       "      <td>DREAMS</td>\n",
       "    </tr>\n",
       "    <tr>\n",
       "      <th>3</th>\n",
       "      <td>excerpt4.txt</td>\n",
       "      <td>CZ-A1</td>\n",
       "      <td>0004</td>\n",
       "      <td>1800</td>\n",
       "      <td>200</td>\n",
       "      <td>DREAMS</td>\n",
       "    </tr>\n",
       "    <tr>\n",
       "      <th>4</th>\n",
       "      <td>excerpt5.txt</td>\n",
       "      <td>CZ-A1</td>\n",
       "      <td>0005</td>\n",
       "      <td>1800</td>\n",
       "      <td>200</td>\n",
       "      <td>DREAMS</td>\n",
       "    </tr>\n",
       "  </tbody>\n",
       "</table>\n",
       "</div>"
      ]
     },
     "execution_count": 8,
     "metadata": {},
     "output_type": "execute_result"
    }
   ],
   "execution_count": 8
  },
  {
   "cell_type": "markdown",
   "metadata": {},
   "source": [
    "## define a fixed feature selection to use\n",
    "36 is the number of features in the article, but it can be changed for additional tests"
   ]
  },
  {
   "cell_type": "code",
   "metadata": {
    "ExecuteTime": {
     "end_time": "2025-01-09T18:01:13.752731Z",
     "start_time": "2025-01-09T18:01:13.730859Z"
    }
   },
   "source": [
    "featureSelectionx=loadPickle(\"featureSelectionComplete_bootstrapppingR2.pkl\")\n",
    "featureSelection=featureSelectionx.sort_values('Times_selected',ascending=False).head(36).copy().reset_index(drop=True)\n",
    "featureSelection"
   ],
   "outputs": [
    {
     "data": {
      "text/plain": [
       "   window   characteristic   bandName  Times_selected\n",
       "0       2       sigmaIndex  broadband          1000.0\n",
       "1       2    hjortActivity      sigma          1000.0\n",
       "2     1.5       sigmaIndex  broadband          1000.0\n",
       "3       1    hjortActivity      sigma          1000.0\n",
       "4       1       sigmaIndex  broadband          1000.0\n",
       "5       2    hjortActivity      beta1          1000.0\n",
       "6       2    hjortActivity      beta2          1000.0\n",
       "7     1.5    hjortActivity      sigma           999.0\n",
       "8       2    hjortMobility      beta1           994.0\n",
       "9       2    hjortActivity     delta2           986.0\n",
       "10      2    hjortActivity  broadband           985.0\n",
       "11      2    hjortMobility      sigma           975.0\n",
       "12      2    hjortActivity      alpha           971.0\n",
       "13    1.5    hjortActivity      beta2           918.0\n",
       "14    0.5       sigmaIndex  broadband           899.0\n",
       "15      2    hjortMobility      beta2           897.0\n",
       "16      2    hjortMobility      alpha           893.0\n",
       "17      2    hjortMobility     delta1           838.0\n",
       "18    1.5    hjortMobility      beta1           824.0\n",
       "19    1.5    hjortActivity      beta1           725.0\n",
       "20      2        petrosian  broadband           715.0\n",
       "21      1    hjortActivity  broadband           680.0\n",
       "22      2    hjortActivity      theta           652.0\n",
       "23    0.5    hjortActivity      sigma           650.0\n",
       "24      2    hjortMobility      theta           597.0\n",
       "25    0.5    hjortActivity      alpha           547.0\n",
       "26    0.5    hjortActivity     delta2           486.0\n",
       "27      1    hjortActivity      beta1           466.0\n",
       "28      1    hjortActivity      alpha           389.0\n",
       "29    1.5    hjortActivity      alpha           383.0\n",
       "30      2    hjortMobility     delta2           356.0\n",
       "31      2    hjortActivity     delta1           354.0\n",
       "32      1    hjortActivity      theta           351.0\n",
       "33    0.5  hjortComplexity  broadband           335.0\n",
       "34    1.5    hjortMobility      sigma           275.0\n",
       "35      1    hjortMobility      beta2           260.0"
      ],
      "text/html": [
       "<div>\n",
       "<style scoped>\n",
       "    .dataframe tbody tr th:only-of-type {\n",
       "        vertical-align: middle;\n",
       "    }\n",
       "\n",
       "    .dataframe tbody tr th {\n",
       "        vertical-align: top;\n",
       "    }\n",
       "\n",
       "    .dataframe thead th {\n",
       "        text-align: right;\n",
       "    }\n",
       "</style>\n",
       "<table border=\"1\" class=\"dataframe\">\n",
       "  <thead>\n",
       "    <tr style=\"text-align: right;\">\n",
       "      <th></th>\n",
       "      <th>window</th>\n",
       "      <th>characteristic</th>\n",
       "      <th>bandName</th>\n",
       "      <th>Times_selected</th>\n",
       "    </tr>\n",
       "  </thead>\n",
       "  <tbody>\n",
       "    <tr>\n",
       "      <th>0</th>\n",
       "      <td>2</td>\n",
       "      <td>sigmaIndex</td>\n",
       "      <td>broadband</td>\n",
       "      <td>1000.0</td>\n",
       "    </tr>\n",
       "    <tr>\n",
       "      <th>1</th>\n",
       "      <td>2</td>\n",
       "      <td>hjortActivity</td>\n",
       "      <td>sigma</td>\n",
       "      <td>1000.0</td>\n",
       "    </tr>\n",
       "    <tr>\n",
       "      <th>2</th>\n",
       "      <td>1.5</td>\n",
       "      <td>sigmaIndex</td>\n",
       "      <td>broadband</td>\n",
       "      <td>1000.0</td>\n",
       "    </tr>\n",
       "    <tr>\n",
       "      <th>3</th>\n",
       "      <td>1</td>\n",
       "      <td>hjortActivity</td>\n",
       "      <td>sigma</td>\n",
       "      <td>1000.0</td>\n",
       "    </tr>\n",
       "    <tr>\n",
       "      <th>4</th>\n",
       "      <td>1</td>\n",
       "      <td>sigmaIndex</td>\n",
       "      <td>broadband</td>\n",
       "      <td>1000.0</td>\n",
       "    </tr>\n",
       "    <tr>\n",
       "      <th>5</th>\n",
       "      <td>2</td>\n",
       "      <td>hjortActivity</td>\n",
       "      <td>beta1</td>\n",
       "      <td>1000.0</td>\n",
       "    </tr>\n",
       "    <tr>\n",
       "      <th>6</th>\n",
       "      <td>2</td>\n",
       "      <td>hjortActivity</td>\n",
       "      <td>beta2</td>\n",
       "      <td>1000.0</td>\n",
       "    </tr>\n",
       "    <tr>\n",
       "      <th>7</th>\n",
       "      <td>1.5</td>\n",
       "      <td>hjortActivity</td>\n",
       "      <td>sigma</td>\n",
       "      <td>999.0</td>\n",
       "    </tr>\n",
       "    <tr>\n",
       "      <th>8</th>\n",
       "      <td>2</td>\n",
       "      <td>hjortMobility</td>\n",
       "      <td>beta1</td>\n",
       "      <td>994.0</td>\n",
       "    </tr>\n",
       "    <tr>\n",
       "      <th>9</th>\n",
       "      <td>2</td>\n",
       "      <td>hjortActivity</td>\n",
       "      <td>delta2</td>\n",
       "      <td>986.0</td>\n",
       "    </tr>\n",
       "    <tr>\n",
       "      <th>10</th>\n",
       "      <td>2</td>\n",
       "      <td>hjortActivity</td>\n",
       "      <td>broadband</td>\n",
       "      <td>985.0</td>\n",
       "    </tr>\n",
       "    <tr>\n",
       "      <th>11</th>\n",
       "      <td>2</td>\n",
       "      <td>hjortMobility</td>\n",
       "      <td>sigma</td>\n",
       "      <td>975.0</td>\n",
       "    </tr>\n",
       "    <tr>\n",
       "      <th>12</th>\n",
       "      <td>2</td>\n",
       "      <td>hjortActivity</td>\n",
       "      <td>alpha</td>\n",
       "      <td>971.0</td>\n",
       "    </tr>\n",
       "    <tr>\n",
       "      <th>13</th>\n",
       "      <td>1.5</td>\n",
       "      <td>hjortActivity</td>\n",
       "      <td>beta2</td>\n",
       "      <td>918.0</td>\n",
       "    </tr>\n",
       "    <tr>\n",
       "      <th>14</th>\n",
       "      <td>0.5</td>\n",
       "      <td>sigmaIndex</td>\n",
       "      <td>broadband</td>\n",
       "      <td>899.0</td>\n",
       "    </tr>\n",
       "    <tr>\n",
       "      <th>15</th>\n",
       "      <td>2</td>\n",
       "      <td>hjortMobility</td>\n",
       "      <td>beta2</td>\n",
       "      <td>897.0</td>\n",
       "    </tr>\n",
       "    <tr>\n",
       "      <th>16</th>\n",
       "      <td>2</td>\n",
       "      <td>hjortMobility</td>\n",
       "      <td>alpha</td>\n",
       "      <td>893.0</td>\n",
       "    </tr>\n",
       "    <tr>\n",
       "      <th>17</th>\n",
       "      <td>2</td>\n",
       "      <td>hjortMobility</td>\n",
       "      <td>delta1</td>\n",
       "      <td>838.0</td>\n",
       "    </tr>\n",
       "    <tr>\n",
       "      <th>18</th>\n",
       "      <td>1.5</td>\n",
       "      <td>hjortMobility</td>\n",
       "      <td>beta1</td>\n",
       "      <td>824.0</td>\n",
       "    </tr>\n",
       "    <tr>\n",
       "      <th>19</th>\n",
       "      <td>1.5</td>\n",
       "      <td>hjortActivity</td>\n",
       "      <td>beta1</td>\n",
       "      <td>725.0</td>\n",
       "    </tr>\n",
       "    <tr>\n",
       "      <th>20</th>\n",
       "      <td>2</td>\n",
       "      <td>petrosian</td>\n",
       "      <td>broadband</td>\n",
       "      <td>715.0</td>\n",
       "    </tr>\n",
       "    <tr>\n",
       "      <th>21</th>\n",
       "      <td>1</td>\n",
       "      <td>hjortActivity</td>\n",
       "      <td>broadband</td>\n",
       "      <td>680.0</td>\n",
       "    </tr>\n",
       "    <tr>\n",
       "      <th>22</th>\n",
       "      <td>2</td>\n",
       "      <td>hjortActivity</td>\n",
       "      <td>theta</td>\n",
       "      <td>652.0</td>\n",
       "    </tr>\n",
       "    <tr>\n",
       "      <th>23</th>\n",
       "      <td>0.5</td>\n",
       "      <td>hjortActivity</td>\n",
       "      <td>sigma</td>\n",
       "      <td>650.0</td>\n",
       "    </tr>\n",
       "    <tr>\n",
       "      <th>24</th>\n",
       "      <td>2</td>\n",
       "      <td>hjortMobility</td>\n",
       "      <td>theta</td>\n",
       "      <td>597.0</td>\n",
       "    </tr>\n",
       "    <tr>\n",
       "      <th>25</th>\n",
       "      <td>0.5</td>\n",
       "      <td>hjortActivity</td>\n",
       "      <td>alpha</td>\n",
       "      <td>547.0</td>\n",
       "    </tr>\n",
       "    <tr>\n",
       "      <th>26</th>\n",
       "      <td>0.5</td>\n",
       "      <td>hjortActivity</td>\n",
       "      <td>delta2</td>\n",
       "      <td>486.0</td>\n",
       "    </tr>\n",
       "    <tr>\n",
       "      <th>27</th>\n",
       "      <td>1</td>\n",
       "      <td>hjortActivity</td>\n",
       "      <td>beta1</td>\n",
       "      <td>466.0</td>\n",
       "    </tr>\n",
       "    <tr>\n",
       "      <th>28</th>\n",
       "      <td>1</td>\n",
       "      <td>hjortActivity</td>\n",
       "      <td>alpha</td>\n",
       "      <td>389.0</td>\n",
       "    </tr>\n",
       "    <tr>\n",
       "      <th>29</th>\n",
       "      <td>1.5</td>\n",
       "      <td>hjortActivity</td>\n",
       "      <td>alpha</td>\n",
       "      <td>383.0</td>\n",
       "    </tr>\n",
       "    <tr>\n",
       "      <th>30</th>\n",
       "      <td>2</td>\n",
       "      <td>hjortMobility</td>\n",
       "      <td>delta2</td>\n",
       "      <td>356.0</td>\n",
       "    </tr>\n",
       "    <tr>\n",
       "      <th>31</th>\n",
       "      <td>2</td>\n",
       "      <td>hjortActivity</td>\n",
       "      <td>delta1</td>\n",
       "      <td>354.0</td>\n",
       "    </tr>\n",
       "    <tr>\n",
       "      <th>32</th>\n",
       "      <td>1</td>\n",
       "      <td>hjortActivity</td>\n",
       "      <td>theta</td>\n",
       "      <td>351.0</td>\n",
       "    </tr>\n",
       "    <tr>\n",
       "      <th>33</th>\n",
       "      <td>0.5</td>\n",
       "      <td>hjortComplexity</td>\n",
       "      <td>broadband</td>\n",
       "      <td>335.0</td>\n",
       "    </tr>\n",
       "    <tr>\n",
       "      <th>34</th>\n",
       "      <td>1.5</td>\n",
       "      <td>hjortMobility</td>\n",
       "      <td>sigma</td>\n",
       "      <td>275.0</td>\n",
       "    </tr>\n",
       "    <tr>\n",
       "      <th>35</th>\n",
       "      <td>1</td>\n",
       "      <td>hjortMobility</td>\n",
       "      <td>beta2</td>\n",
       "      <td>260.0</td>\n",
       "    </tr>\n",
       "  </tbody>\n",
       "</table>\n",
       "</div>"
      ]
     },
     "execution_count": 9,
     "metadata": {},
     "output_type": "execute_result"
    }
   ],
   "execution_count": 9
  },
  {
   "attachments": {},
   "cell_type": "markdown",
   "metadata": {},
   "source": [
    "## load data split\n",
    "LOOCV using 5 subjects, 1 for validation"
   ]
  },
  {
   "cell_type": "code",
   "metadata": {
    "ExecuteTime": {
     "end_time": "2025-01-09T18:01:22.688596Z",
     "start_time": "2025-01-09T18:01:22.681820Z"
    }
   },
   "source": [
    "#by now we used fixed CV data splits instead\n",
    "dataSplits=loadPickle(\"dataSplits_LOOCV_5S.pkl\")\n",
    "dataSplits"
   ],
   "outputs": [
    {
     "data": {
      "text/plain": [
       "                train     val  test\n",
       "0  [0002, 0003, 0006]  [0005]  0001\n",
       "1  [0001, 0003, 0005]  [0006]  0002\n",
       "2  [0001, 0002, 0006]  [0005]  0003\n",
       "3  [0001, 0002, 0006]  [0003]  0005\n",
       "4  [0002, 0003, 0005]  [0001]  0006"
      ],
      "text/html": [
       "<div>\n",
       "<style scoped>\n",
       "    .dataframe tbody tr th:only-of-type {\n",
       "        vertical-align: middle;\n",
       "    }\n",
       "\n",
       "    .dataframe tbody tr th {\n",
       "        vertical-align: top;\n",
       "    }\n",
       "\n",
       "    .dataframe thead th {\n",
       "        text-align: right;\n",
       "    }\n",
       "</style>\n",
       "<table border=\"1\" class=\"dataframe\">\n",
       "  <thead>\n",
       "    <tr style=\"text-align: right;\">\n",
       "      <th></th>\n",
       "      <th>train</th>\n",
       "      <th>val</th>\n",
       "      <th>test</th>\n",
       "    </tr>\n",
       "  </thead>\n",
       "  <tbody>\n",
       "    <tr>\n",
       "      <th>0</th>\n",
       "      <td>[0002, 0003, 0006]</td>\n",
       "      <td>[0005]</td>\n",
       "      <td>0001</td>\n",
       "    </tr>\n",
       "    <tr>\n",
       "      <th>1</th>\n",
       "      <td>[0001, 0003, 0005]</td>\n",
       "      <td>[0006]</td>\n",
       "      <td>0002</td>\n",
       "    </tr>\n",
       "    <tr>\n",
       "      <th>2</th>\n",
       "      <td>[0001, 0002, 0006]</td>\n",
       "      <td>[0005]</td>\n",
       "      <td>0003</td>\n",
       "    </tr>\n",
       "    <tr>\n",
       "      <th>3</th>\n",
       "      <td>[0001, 0002, 0006]</td>\n",
       "      <td>[0003]</td>\n",
       "      <td>0005</td>\n",
       "    </tr>\n",
       "    <tr>\n",
       "      <th>4</th>\n",
       "      <td>[0002, 0003, 0005]</td>\n",
       "      <td>[0001]</td>\n",
       "      <td>0006</td>\n",
       "    </tr>\n",
       "  </tbody>\n",
       "</table>\n",
       "</div>"
      ]
     },
     "execution_count": 10,
     "metadata": {},
     "output_type": "execute_result"
    }
   ],
   "execution_count": 10
  },
  {
   "attachments": {},
   "cell_type": "markdown",
   "metadata": {},
   "source": [
    "## define annotation criteria"
   ]
  },
  {
   "cell_type": "code",
   "metadata": {
    "ExecuteTime": {
     "end_time": "2025-01-09T18:01:25.128811Z",
     "start_time": "2025-01-09T18:01:25.115639Z"
    }
   },
   "source": [
    "annotationCriteria=pd.DataFrame({\n",
    "    'criteriumId':['0001'],\n",
    "    'criteriumName':['union'],\n",
    "    'labelerIdList':[['0001','0002']]\n",
    "})"
   ],
   "outputs": [],
   "execution_count": 11
  },
  {
   "cell_type": "code",
   "metadata": {
    "ExecuteTime": {
     "end_time": "2025-01-09T18:01:27.985424Z",
     "start_time": "2025-01-09T18:01:27.968538Z"
    }
   },
   "source": [
    "annotationCriteria"
   ],
   "outputs": [
    {
     "data": {
      "text/plain": [
       "  criteriumId criteriumName labelerIdList\n",
       "0        0001         union  [0001, 0002]"
      ],
      "text/html": [
       "<div>\n",
       "<style scoped>\n",
       "    .dataframe tbody tr th:only-of-type {\n",
       "        vertical-align: middle;\n",
       "    }\n",
       "\n",
       "    .dataframe tbody tr th {\n",
       "        vertical-align: top;\n",
       "    }\n",
       "\n",
       "    .dataframe thead th {\n",
       "        text-align: right;\n",
       "    }\n",
       "</style>\n",
       "<table border=\"1\" class=\"dataframe\">\n",
       "  <thead>\n",
       "    <tr style=\"text-align: right;\">\n",
       "      <th></th>\n",
       "      <th>criteriumId</th>\n",
       "      <th>criteriumName</th>\n",
       "      <th>labelerIdList</th>\n",
       "    </tr>\n",
       "  </thead>\n",
       "  <tbody>\n",
       "    <tr>\n",
       "      <th>0</th>\n",
       "      <td>0001</td>\n",
       "      <td>union</td>\n",
       "      <td>[0001, 0002]</td>\n",
       "    </tr>\n",
       "  </tbody>\n",
       "</table>\n",
       "</div>"
      ]
     },
     "execution_count": 12,
     "metadata": {},
     "output_type": "execute_result"
    }
   ],
   "execution_count": 12
  },
  {
   "cell_type": "code",
   "metadata": {
    "ExecuteTime": {
     "end_time": "2025-01-09T18:01:33.601689Z",
     "start_time": "2025-01-09T18:01:33.585853Z"
    }
   },
   "source": [
    "experimentModels=pd.merge(annotationCriteria,dataSplits,how='cross')"
   ],
   "outputs": [],
   "execution_count": 13
  },
  {
   "cell_type": "code",
   "metadata": {
    "ExecuteTime": {
     "end_time": "2025-01-09T18:01:34.969911Z",
     "start_time": "2025-01-09T18:01:34.948975Z"
    }
   },
   "source": [
    "experimentModels"
   ],
   "outputs": [
    {
     "data": {
      "text/plain": [
       "  criteriumId criteriumName labelerIdList               train     val  test\n",
       "0        0001         union  [0001, 0002]  [0002, 0003, 0006]  [0005]  0001\n",
       "1        0001         union  [0001, 0002]  [0001, 0003, 0005]  [0006]  0002\n",
       "2        0001         union  [0001, 0002]  [0001, 0002, 0006]  [0005]  0003\n",
       "3        0001         union  [0001, 0002]  [0001, 0002, 0006]  [0003]  0005\n",
       "4        0001         union  [0001, 0002]  [0002, 0003, 0005]  [0001]  0006"
      ],
      "text/html": [
       "<div>\n",
       "<style scoped>\n",
       "    .dataframe tbody tr th:only-of-type {\n",
       "        vertical-align: middle;\n",
       "    }\n",
       "\n",
       "    .dataframe tbody tr th {\n",
       "        vertical-align: top;\n",
       "    }\n",
       "\n",
       "    .dataframe thead th {\n",
       "        text-align: right;\n",
       "    }\n",
       "</style>\n",
       "<table border=\"1\" class=\"dataframe\">\n",
       "  <thead>\n",
       "    <tr style=\"text-align: right;\">\n",
       "      <th></th>\n",
       "      <th>criteriumId</th>\n",
       "      <th>criteriumName</th>\n",
       "      <th>labelerIdList</th>\n",
       "      <th>train</th>\n",
       "      <th>val</th>\n",
       "      <th>test</th>\n",
       "    </tr>\n",
       "  </thead>\n",
       "  <tbody>\n",
       "    <tr>\n",
       "      <th>0</th>\n",
       "      <td>0001</td>\n",
       "      <td>union</td>\n",
       "      <td>[0001, 0002]</td>\n",
       "      <td>[0002, 0003, 0006]</td>\n",
       "      <td>[0005]</td>\n",
       "      <td>0001</td>\n",
       "    </tr>\n",
       "    <tr>\n",
       "      <th>1</th>\n",
       "      <td>0001</td>\n",
       "      <td>union</td>\n",
       "      <td>[0001, 0002]</td>\n",
       "      <td>[0001, 0003, 0005]</td>\n",
       "      <td>[0006]</td>\n",
       "      <td>0002</td>\n",
       "    </tr>\n",
       "    <tr>\n",
       "      <th>2</th>\n",
       "      <td>0001</td>\n",
       "      <td>union</td>\n",
       "      <td>[0001, 0002]</td>\n",
       "      <td>[0001, 0002, 0006]</td>\n",
       "      <td>[0005]</td>\n",
       "      <td>0003</td>\n",
       "    </tr>\n",
       "    <tr>\n",
       "      <th>3</th>\n",
       "      <td>0001</td>\n",
       "      <td>union</td>\n",
       "      <td>[0001, 0002]</td>\n",
       "      <td>[0001, 0002, 0006]</td>\n",
       "      <td>[0003]</td>\n",
       "      <td>0005</td>\n",
       "    </tr>\n",
       "    <tr>\n",
       "      <th>4</th>\n",
       "      <td>0001</td>\n",
       "      <td>union</td>\n",
       "      <td>[0001, 0002]</td>\n",
       "      <td>[0002, 0003, 0005]</td>\n",
       "      <td>[0001]</td>\n",
       "      <td>0006</td>\n",
       "    </tr>\n",
       "  </tbody>\n",
       "</table>\n",
       "</div>"
      ]
     },
     "execution_count": 14,
     "metadata": {},
     "output_type": "execute_result"
    }
   ],
   "execution_count": 14
  },
  {
   "cell_type": "markdown",
   "metadata": {},
   "source": [
    "## model fitting"
   ]
  },
  {
   "cell_type": "code",
   "metadata": {
    "ExecuteTime": {
     "end_time": "2025-01-09T18:06:26.104509Z",
     "start_time": "2025-01-09T18:01:52.574636Z"
    }
   },
   "source": [
    "n_jobs=4 # paralelization parameter for xgboost (keep it 8 as maximum)\n",
    "learning_rate=0.4\n",
    "subsample=0.6\n",
    "\n",
    "num_boost_round=60  #number of boosting rounds per model\n",
    "\n",
    "models=[]\n",
    "modelIds=[]\n",
    "valF1s=[]\n",
    "spindleTimeRates=[]\n",
    "for index, row in experimentModels.iterrows():\n",
    "    print('**********************')\n",
    "    print(str(index+1)+' of '+str(len(experimentModels)))\n",
    "    #Define annotations criterium\n",
    "    usedAnnotations=annotations[annotations.labelerId.isin(row.labelerIdList)].reset_index(drop=True)\n",
    "    #Features\n",
    "    trainFeatures=loadFeatureMatrix(row.train,featureSelection,signalsMetadata,samplerate,demopath)\n",
    "    #Labels\n",
    "    trainLabels=loadLabelsVector(row.train,usedAnnotations,signalsMetadata,samplerate)\n",
    "    \n",
    "    #Train the models\n",
    "    params={\n",
    "        'n_jobs':n_jobs,\n",
    "        'learning_rate':learning_rate,\n",
    "        'subsample':subsample,\n",
    "        'objective':'binary:logistic'\n",
    "    }\n",
    "    trainDMatrix=xgb.DMatrix(data=trainFeatures,label=trainLabels)\n",
    "    xgb_model = xgb.train(params,trainDMatrix,num_boost_round=num_boost_round)\n",
    "    spindleTimeRates.append(sum(trainLabels)/len(trainLabels))\n",
    "    models.append(xgb_model)\n",
    "    modelIds.append(str(uuid.uuid4()))\n",
    "    "
   ],
   "outputs": [
    {
     "name": "stdout",
     "output_type": "stream",
     "text": [
      "**********************\n",
      "1 of 5\n",
      "**********************\n",
      "2 of 5\n",
      "**********************\n",
      "3 of 5\n",
      "**********************\n",
      "4 of 5\n",
      "**********************\n",
      "5 of 5\n"
     ]
    }
   ],
   "execution_count": 15
  },
  {
   "cell_type": "code",
   "metadata": {
    "ExecuteTime": {
     "end_time": "2025-01-09T18:06:58.942610Z",
     "start_time": "2025-01-09T18:06:58.931498Z"
    }
   },
   "source": [
    "experimentModels[\"modelId\"]=modelIds\n",
    "experimentModels[\"spindleTimeRate\"]=spindleTimeRates"
   ],
   "outputs": [],
   "execution_count": 16
  },
  {
   "cell_type": "code",
   "metadata": {
    "ExecuteTime": {
     "end_time": "2025-01-09T18:07:00.680945Z",
     "start_time": "2025-01-09T18:07:00.664394Z"
    }
   },
   "source": [
    "experimentModels"
   ],
   "outputs": [
    {
     "data": {
      "text/plain": [
       "  criteriumId criteriumName labelerIdList               train     val  test  \\\n",
       "0        0001         union  [0001, 0002]  [0002, 0003, 0006]  [0005]  0001   \n",
       "1        0001         union  [0001, 0002]  [0001, 0003, 0005]  [0006]  0002   \n",
       "2        0001         union  [0001, 0002]  [0001, 0002, 0006]  [0005]  0003   \n",
       "3        0001         union  [0001, 0002]  [0001, 0002, 0006]  [0003]  0005   \n",
       "4        0001         union  [0001, 0002]  [0002, 0003, 0005]  [0001]  0006   \n",
       "\n",
       "                                modelId  spindleTimeRate  \n",
       "0  63acdb2a-2cda-4182-a04e-39cea4f2891e         0.042294  \n",
       "1  ec0c0a53-857b-437e-906c-57e9027ea72b         0.051389  \n",
       "2  09017763-6741-4a9b-996c-84c37fd0e52f         0.058704  \n",
       "3  6e7273c0-5925-42d9-9eaf-bcbc5e1b5bd8         0.058704  \n",
       "4  1f55c1c2-7355-43c3-9ff5-55b71f796218         0.040015  "
      ],
      "text/html": [
       "<div>\n",
       "<style scoped>\n",
       "    .dataframe tbody tr th:only-of-type {\n",
       "        vertical-align: middle;\n",
       "    }\n",
       "\n",
       "    .dataframe tbody tr th {\n",
       "        vertical-align: top;\n",
       "    }\n",
       "\n",
       "    .dataframe thead th {\n",
       "        text-align: right;\n",
       "    }\n",
       "</style>\n",
       "<table border=\"1\" class=\"dataframe\">\n",
       "  <thead>\n",
       "    <tr style=\"text-align: right;\">\n",
       "      <th></th>\n",
       "      <th>criteriumId</th>\n",
       "      <th>criteriumName</th>\n",
       "      <th>labelerIdList</th>\n",
       "      <th>train</th>\n",
       "      <th>val</th>\n",
       "      <th>test</th>\n",
       "      <th>modelId</th>\n",
       "      <th>spindleTimeRate</th>\n",
       "    </tr>\n",
       "  </thead>\n",
       "  <tbody>\n",
       "    <tr>\n",
       "      <th>0</th>\n",
       "      <td>0001</td>\n",
       "      <td>union</td>\n",
       "      <td>[0001, 0002]</td>\n",
       "      <td>[0002, 0003, 0006]</td>\n",
       "      <td>[0005]</td>\n",
       "      <td>0001</td>\n",
       "      <td>63acdb2a-2cda-4182-a04e-39cea4f2891e</td>\n",
       "      <td>0.042294</td>\n",
       "    </tr>\n",
       "    <tr>\n",
       "      <th>1</th>\n",
       "      <td>0001</td>\n",
       "      <td>union</td>\n",
       "      <td>[0001, 0002]</td>\n",
       "      <td>[0001, 0003, 0005]</td>\n",
       "      <td>[0006]</td>\n",
       "      <td>0002</td>\n",
       "      <td>ec0c0a53-857b-437e-906c-57e9027ea72b</td>\n",
       "      <td>0.051389</td>\n",
       "    </tr>\n",
       "    <tr>\n",
       "      <th>2</th>\n",
       "      <td>0001</td>\n",
       "      <td>union</td>\n",
       "      <td>[0001, 0002]</td>\n",
       "      <td>[0001, 0002, 0006]</td>\n",
       "      <td>[0005]</td>\n",
       "      <td>0003</td>\n",
       "      <td>09017763-6741-4a9b-996c-84c37fd0e52f</td>\n",
       "      <td>0.058704</td>\n",
       "    </tr>\n",
       "    <tr>\n",
       "      <th>3</th>\n",
       "      <td>0001</td>\n",
       "      <td>union</td>\n",
       "      <td>[0001, 0002]</td>\n",
       "      <td>[0001, 0002, 0006]</td>\n",
       "      <td>[0003]</td>\n",
       "      <td>0005</td>\n",
       "      <td>6e7273c0-5925-42d9-9eaf-bcbc5e1b5bd8</td>\n",
       "      <td>0.058704</td>\n",
       "    </tr>\n",
       "    <tr>\n",
       "      <th>4</th>\n",
       "      <td>0001</td>\n",
       "      <td>union</td>\n",
       "      <td>[0001, 0002]</td>\n",
       "      <td>[0002, 0003, 0005]</td>\n",
       "      <td>[0001]</td>\n",
       "      <td>0006</td>\n",
       "      <td>1f55c1c2-7355-43c3-9ff5-55b71f796218</td>\n",
       "      <td>0.040015</td>\n",
       "    </tr>\n",
       "  </tbody>\n",
       "</table>\n",
       "</div>"
      ]
     },
     "execution_count": 17,
     "metadata": {},
     "output_type": "execute_result"
    }
   ],
   "execution_count": 17
  },
  {
   "cell_type": "markdown",
   "metadata": {},
   "source": [
    "## save results"
   ]
  },
  {
   "cell_type": "code",
   "metadata": {
    "ExecuteTime": {
     "end_time": "2025-01-09T18:07:47.594724Z",
     "start_time": "2025-01-09T18:07:47.556368Z"
    }
   },
   "source": [
    "#create parent folder\n",
    "if not os.path.isdir(demopath+\"/DREAMS/experiments/\"):\n",
    "    os.mkdir(demopath+\"/DREAMS/experiments/\")\n",
    "experimentpath=demopath+\"/DREAMS/experiments/\"+experimentId\n",
    "os.mkdir(experimentpath)\n",
    "#save each of the models\n",
    "for id, model in zip(modelIds,models):\n",
    "    model.save_model(experimentpath+\"/\"+id+\".json\")\n",
    "#save experiment information\n",
    "dumpPickle(experimentpath+\"/experimentModels.pkl\",experimentModels)\n",
    "dumpPickle(experimentpath+\"/featureSelection.pkl\",featureSelection)"
   ],
   "outputs": [],
   "execution_count": 18
  },
  {
   "cell_type": "markdown",
   "metadata": {},
   "source": [
    "# COPY THE UUID BELOW TO THE NEXT NOTEBOOK"
   ]
  },
  {
   "cell_type": "code",
   "metadata": {
    "ExecuteTime": {
     "end_time": "2025-01-09T18:07:54.276387Z",
     "start_time": "2025-01-09T18:07:54.266928Z"
    }
   },
   "source": [
    "print(experimentId)"
   ],
   "outputs": [
    {
     "name": "stdout",
     "output_type": "stream",
     "text": [
      "310d725f-07ef-4d0d-8d3a-779b06df7546\n"
     ]
    }
   ],
   "execution_count": 19
  },
  {
   "cell_type": "code",
   "execution_count": null,
   "metadata": {},
   "outputs": [],
   "source": []
  }
 ],
 "metadata": {
  "kernelspec": {
   "display_name": "Python 3.10.6 ('venv': venv)",
   "language": "python",
   "name": "python3"
  },
  "language_info": {
   "codemirror_mode": {
    "name": "ipython",
    "version": 3
   },
   "file_extension": ".py",
   "mimetype": "text/x-python",
   "name": "python",
   "nbconvert_exporter": "python",
   "pygments_lexer": "ipython3",
   "version": "3.10.6"
  },
  "orig_nbformat": 4,
  "vscode": {
   "interpreter": {
    "hash": "69eb08d3e713eff25484e90b18c01e15df779e80a0db295f9ddc53faed0455be"
   }
  }
 },
 "nbformat": 4,
 "nbformat_minor": 2
}
