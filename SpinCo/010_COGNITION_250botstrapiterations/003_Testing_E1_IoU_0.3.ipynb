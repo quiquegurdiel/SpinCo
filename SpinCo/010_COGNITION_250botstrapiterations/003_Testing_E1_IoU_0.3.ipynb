{
 "cells": [
  {
   "attachments": {},
   "cell_type": "markdown",
   "metadata": {},
   "source": [
    "# Testing for E1 - COGNITION 7Subjects\n",
    "fistly define the UUID of the experiment to use"
   ]
  },
  {
   "cell_type": "code",
   "metadata": {
    "ExecuteTime": {
     "end_time": "2024-12-12T12:14:14.524558Z",
     "start_time": "2024-12-12T12:14:14.510527Z"
    }
   },
   "source": "experimentId=\"ee715b34-ba07-49f0-9102-9652bb173c6c\"",
   "outputs": [],
   "execution_count": 44
  },
  {
   "cell_type": "markdown",
   "metadata": {},
   "source": [
    "-------------------------------------------------------"
   ]
  },
  {
   "cell_type": "code",
   "metadata": {
    "ExecuteTime": {
     "end_time": "2024-12-12T12:14:14.602406Z",
     "start_time": "2024-12-12T12:14:14.595406Z"
    }
   },
   "source": [
    "#external libraries\n",
    "import numpy as np\n",
    "import os\n",
    "import matplotlib.pyplot as plt\n",
    "import matplotlib.colors as clt\n",
    "import plotly\n",
    "import plotly.subplots as sb\n",
    "import plotly.express as px\n",
    "import plotly.graph_objects as go\n",
    "import dotenv\n",
    "import pandas as pd\n",
    "import scipy.fft as fft\n",
    "import scipy.signal as sg\n",
    "import scipy.io as sio\n",
    "import pickle as pkl\n",
    "import xgboost as xgb\n",
    "import time\n",
    "import sklearn.metrics as skm\n",
    "\n",
    "#project library\n",
    "from spinco import *\n",
    "\n",
    "#environment variables\n",
    "dotenv.load_dotenv('lab.env')\n",
    "\n",
    "#project variables\n",
    "datapath=os.environ['DATAPATH']\n",
    "cognipath=datapath+\"\\\\COGNITION\"\n",
    "dreamspath=datapath+\"\\\\DREAMS\"\n",
    "masspath=datapath+\"\\\\MASS\"\n"
   ],
   "outputs": [],
   "execution_count": 45
  },
  {
   "attachments": {},
   "cell_type": "markdown",
   "metadata": {},
   "source": [
    "## load cognition"
   ]
  },
  {
   "cell_type": "code",
   "metadata": {
    "ExecuteTime": {
     "end_time": "2024-12-12T12:14:14.648891Z",
     "start_time": "2024-12-12T12:14:14.633890Z"
    }
   },
   "source": [
    "samplerate=200  #Should rethink this"
   ],
   "outputs": [],
   "execution_count": 46
  },
  {
   "cell_type": "code",
   "metadata": {
    "ExecuteTime": {
     "end_time": "2024-12-12T12:14:14.791903Z",
     "start_time": "2024-12-12T12:14:14.681891Z"
    }
   },
   "source": [
    "annotations, signalsMetadata = loadCOGNITIONSpindles(cognipath)"
   ],
   "outputs": [],
   "execution_count": 47
  },
  {
   "cell_type": "code",
   "metadata": {
    "ExecuteTime": {
     "end_time": "2024-12-12T12:14:14.839903Z",
     "start_time": "2024-12-12T12:14:14.824903Z"
    }
   },
   "source": [
    "annotations.head()"
   ],
   "outputs": [
    {
     "data": {
      "text/plain": [
       "  subjectId channel    startTime     stopTime  duration  phase labelerId  \\\n",
       "0      0001      C3  1938.132297  1939.202326  1.070029      2      0001   \n",
       "1      0001      C3  2047.217898  2048.112834  0.894936      2      0001   \n",
       "2      0001      C3  2170.856032  2171.634237  0.778205      3      0001   \n",
       "3      0001      C3  2219.766538  2220.894943  1.128405      3      0001   \n",
       "4      0001      C3  2263.482492  2264.357974  0.875482      3      0001   \n",
       "\n",
       "      type  samplerate  startInd  stopInd  \n",
       "0  spindle         200    387626   387840  \n",
       "1  spindle         200    409444   409623  \n",
       "2  spindle         200    434171   434327  \n",
       "3  spindle         200    443953   444179  \n",
       "4  spindle         200    452696   452872  "
      ],
      "text/html": [
       "<div>\n",
       "<style scoped>\n",
       "    .dataframe tbody tr th:only-of-type {\n",
       "        vertical-align: middle;\n",
       "    }\n",
       "\n",
       "    .dataframe tbody tr th {\n",
       "        vertical-align: top;\n",
       "    }\n",
       "\n",
       "    .dataframe thead th {\n",
       "        text-align: right;\n",
       "    }\n",
       "</style>\n",
       "<table border=\"1\" class=\"dataframe\">\n",
       "  <thead>\n",
       "    <tr style=\"text-align: right;\">\n",
       "      <th></th>\n",
       "      <th>subjectId</th>\n",
       "      <th>channel</th>\n",
       "      <th>startTime</th>\n",
       "      <th>stopTime</th>\n",
       "      <th>duration</th>\n",
       "      <th>phase</th>\n",
       "      <th>labelerId</th>\n",
       "      <th>type</th>\n",
       "      <th>samplerate</th>\n",
       "      <th>startInd</th>\n",
       "      <th>stopInd</th>\n",
       "    </tr>\n",
       "  </thead>\n",
       "  <tbody>\n",
       "    <tr>\n",
       "      <th>0</th>\n",
       "      <td>0001</td>\n",
       "      <td>C3</td>\n",
       "      <td>1938.132297</td>\n",
       "      <td>1939.202326</td>\n",
       "      <td>1.070029</td>\n",
       "      <td>2</td>\n",
       "      <td>0001</td>\n",
       "      <td>spindle</td>\n",
       "      <td>200</td>\n",
       "      <td>387626</td>\n",
       "      <td>387840</td>\n",
       "    </tr>\n",
       "    <tr>\n",
       "      <th>1</th>\n",
       "      <td>0001</td>\n",
       "      <td>C3</td>\n",
       "      <td>2047.217898</td>\n",
       "      <td>2048.112834</td>\n",
       "      <td>0.894936</td>\n",
       "      <td>2</td>\n",
       "      <td>0001</td>\n",
       "      <td>spindle</td>\n",
       "      <td>200</td>\n",
       "      <td>409444</td>\n",
       "      <td>409623</td>\n",
       "    </tr>\n",
       "    <tr>\n",
       "      <th>2</th>\n",
       "      <td>0001</td>\n",
       "      <td>C3</td>\n",
       "      <td>2170.856032</td>\n",
       "      <td>2171.634237</td>\n",
       "      <td>0.778205</td>\n",
       "      <td>3</td>\n",
       "      <td>0001</td>\n",
       "      <td>spindle</td>\n",
       "      <td>200</td>\n",
       "      <td>434171</td>\n",
       "      <td>434327</td>\n",
       "    </tr>\n",
       "    <tr>\n",
       "      <th>3</th>\n",
       "      <td>0001</td>\n",
       "      <td>C3</td>\n",
       "      <td>2219.766538</td>\n",
       "      <td>2220.894943</td>\n",
       "      <td>1.128405</td>\n",
       "      <td>3</td>\n",
       "      <td>0001</td>\n",
       "      <td>spindle</td>\n",
       "      <td>200</td>\n",
       "      <td>443953</td>\n",
       "      <td>444179</td>\n",
       "    </tr>\n",
       "    <tr>\n",
       "      <th>4</th>\n",
       "      <td>0001</td>\n",
       "      <td>C3</td>\n",
       "      <td>2263.482492</td>\n",
       "      <td>2264.357974</td>\n",
       "      <td>0.875482</td>\n",
       "      <td>3</td>\n",
       "      <td>0001</td>\n",
       "      <td>spindle</td>\n",
       "      <td>200</td>\n",
       "      <td>452696</td>\n",
       "      <td>452872</td>\n",
       "    </tr>\n",
       "  </tbody>\n",
       "</table>\n",
       "</div>"
      ]
     },
     "execution_count": 48,
     "metadata": {},
     "output_type": "execute_result"
    }
   ],
   "execution_count": 48
  },
  {
   "cell_type": "code",
   "metadata": {
    "ExecuteTime": {
     "end_time": "2024-12-12T12:14:14.918409Z",
     "start_time": "2024-12-12T12:14:14.902409Z"
    }
   },
   "source": [
    "signalsMetadata.head()"
   ],
   "outputs": [
    {
     "data": {
      "text/plain": [
       "              filename channel subjectId  duration  samplerate  \\\n",
       "0  COG001_canal_C3.txt   C3-M2      0001     39600         200   \n",
       "1  COG002_canal_C3.txt   C3-M2      0002     39600         200   \n",
       "2  COG003_canal_C3.txt   C3-M2      0003     39600         200   \n",
       "3  COG004_canal_C3.txt   C3-M2      0004     39600         200   \n",
       "4  COG005_canal_C3.txt   C3-M2      0005     39600         200   \n",
       "\n",
       "   isOriginalSamplerate   database  \n",
       "0                 False  COGNITION  \n",
       "1                 False  COGNITION  \n",
       "2                 False  COGNITION  \n",
       "3                 False  COGNITION  \n",
       "4                 False  COGNITION  "
      ],
      "text/html": [
       "<div>\n",
       "<style scoped>\n",
       "    .dataframe tbody tr th:only-of-type {\n",
       "        vertical-align: middle;\n",
       "    }\n",
       "\n",
       "    .dataframe tbody tr th {\n",
       "        vertical-align: top;\n",
       "    }\n",
       "\n",
       "    .dataframe thead th {\n",
       "        text-align: right;\n",
       "    }\n",
       "</style>\n",
       "<table border=\"1\" class=\"dataframe\">\n",
       "  <thead>\n",
       "    <tr style=\"text-align: right;\">\n",
       "      <th></th>\n",
       "      <th>filename</th>\n",
       "      <th>channel</th>\n",
       "      <th>subjectId</th>\n",
       "      <th>duration</th>\n",
       "      <th>samplerate</th>\n",
       "      <th>isOriginalSamplerate</th>\n",
       "      <th>database</th>\n",
       "    </tr>\n",
       "  </thead>\n",
       "  <tbody>\n",
       "    <tr>\n",
       "      <th>0</th>\n",
       "      <td>COG001_canal_C3.txt</td>\n",
       "      <td>C3-M2</td>\n",
       "      <td>0001</td>\n",
       "      <td>39600</td>\n",
       "      <td>200</td>\n",
       "      <td>False</td>\n",
       "      <td>COGNITION</td>\n",
       "    </tr>\n",
       "    <tr>\n",
       "      <th>1</th>\n",
       "      <td>COG002_canal_C3.txt</td>\n",
       "      <td>C3-M2</td>\n",
       "      <td>0002</td>\n",
       "      <td>39600</td>\n",
       "      <td>200</td>\n",
       "      <td>False</td>\n",
       "      <td>COGNITION</td>\n",
       "    </tr>\n",
       "    <tr>\n",
       "      <th>2</th>\n",
       "      <td>COG003_canal_C3.txt</td>\n",
       "      <td>C3-M2</td>\n",
       "      <td>0003</td>\n",
       "      <td>39600</td>\n",
       "      <td>200</td>\n",
       "      <td>False</td>\n",
       "      <td>COGNITION</td>\n",
       "    </tr>\n",
       "    <tr>\n",
       "      <th>3</th>\n",
       "      <td>COG004_canal_C3.txt</td>\n",
       "      <td>C3-M2</td>\n",
       "      <td>0004</td>\n",
       "      <td>39600</td>\n",
       "      <td>200</td>\n",
       "      <td>False</td>\n",
       "      <td>COGNITION</td>\n",
       "    </tr>\n",
       "    <tr>\n",
       "      <th>4</th>\n",
       "      <td>COG005_canal_C3.txt</td>\n",
       "      <td>C3-M2</td>\n",
       "      <td>0005</td>\n",
       "      <td>39600</td>\n",
       "      <td>200</td>\n",
       "      <td>False</td>\n",
       "      <td>COGNITION</td>\n",
       "    </tr>\n",
       "  </tbody>\n",
       "</table>\n",
       "</div>"
      ]
     },
     "execution_count": 49,
     "metadata": {},
     "output_type": "execute_result"
    }
   ],
   "execution_count": 49
  },
  {
   "cell_type": "markdown",
   "metadata": {},
   "source": [
    "## Load experiment results"
   ]
  },
  {
   "cell_type": "code",
   "metadata": {
    "ExecuteTime": {
     "end_time": "2024-12-12T12:14:15.045915Z",
     "start_time": "2024-12-12T12:14:15.034915Z"
    }
   },
   "source": [
    "experimentModels, featureSelection = loadExperiment(experimentId,datapath)"
   ],
   "outputs": [],
   "execution_count": 50
  },
  {
   "cell_type": "code",
   "metadata": {
    "ExecuteTime": {
     "end_time": "2024-12-12T12:14:15.093329Z",
     "start_time": "2024-12-12T12:14:15.082451Z"
    }
   },
   "source": [
    "experimentModels"
   ],
   "outputs": [
    {
     "data": {
      "text/plain": [
       "  criteriumId criteriumName labelerIdList                     train  \\\n",
       "0        0001            E1        [0001]  [0004, 0005, 0006, 0007]   \n",
       "1        0001            E1        [0001]  [0002, 0005, 0006, 0008]   \n",
       "2        0001            E1        [0001]  [0002, 0003, 0005, 0007]   \n",
       "3        0001            E1        [0001]  [0002, 0003, 0007, 0008]   \n",
       "4        0001            E1        [0001]  [0002, 0003, 0007, 0008]   \n",
       "5        0001            E1        [0001]  [0002, 0004, 0005, 0008]   \n",
       "6        0001            E1        [0001]  [0002, 0005, 0006, 0007]   \n",
       "\n",
       "            val  test                               modelId  spindleTimeRate  \n",
       "0  [0003, 0008]  0002  a4659423-83e4-4da3-91b5-177fa8bc17fe         0.008075  \n",
       "1  [0007, 0004]  0003  ad3be387-5be4-4e8e-b57d-072003b617d3         0.005000  \n",
       "2  [0006, 0008]  0004  8bcbbc8b-b83e-4b97-8f7c-0dd0760680e7         0.012035  \n",
       "3  [0006, 0004]  0005  f88ed731-de3a-4c9a-90d5-04d1fcd93d45         0.010340  \n",
       "4  [0004, 0005]  0006  16a691da-d735-4ad2-953c-db2678980107         0.010340  \n",
       "5  [0003, 0006]  0007  d91f41ff-0308-46df-9bcd-67d46f377777         0.006673  \n",
       "6  [0003, 0004]  0008  a1eacac2-9e31-437a-9350-110d2ef2f1a5         0.006822  "
      ],
      "text/html": [
       "<div>\n",
       "<style scoped>\n",
       "    .dataframe tbody tr th:only-of-type {\n",
       "        vertical-align: middle;\n",
       "    }\n",
       "\n",
       "    .dataframe tbody tr th {\n",
       "        vertical-align: top;\n",
       "    }\n",
       "\n",
       "    .dataframe thead th {\n",
       "        text-align: right;\n",
       "    }\n",
       "</style>\n",
       "<table border=\"1\" class=\"dataframe\">\n",
       "  <thead>\n",
       "    <tr style=\"text-align: right;\">\n",
       "      <th></th>\n",
       "      <th>criteriumId</th>\n",
       "      <th>criteriumName</th>\n",
       "      <th>labelerIdList</th>\n",
       "      <th>train</th>\n",
       "      <th>val</th>\n",
       "      <th>test</th>\n",
       "      <th>modelId</th>\n",
       "      <th>spindleTimeRate</th>\n",
       "    </tr>\n",
       "  </thead>\n",
       "  <tbody>\n",
       "    <tr>\n",
       "      <th>0</th>\n",
       "      <td>0001</td>\n",
       "      <td>E1</td>\n",
       "      <td>[0001]</td>\n",
       "      <td>[0004, 0005, 0006, 0007]</td>\n",
       "      <td>[0003, 0008]</td>\n",
       "      <td>0002</td>\n",
       "      <td>a4659423-83e4-4da3-91b5-177fa8bc17fe</td>\n",
       "      <td>0.008075</td>\n",
       "    </tr>\n",
       "    <tr>\n",
       "      <th>1</th>\n",
       "      <td>0001</td>\n",
       "      <td>E1</td>\n",
       "      <td>[0001]</td>\n",
       "      <td>[0002, 0005, 0006, 0008]</td>\n",
       "      <td>[0007, 0004]</td>\n",
       "      <td>0003</td>\n",
       "      <td>ad3be387-5be4-4e8e-b57d-072003b617d3</td>\n",
       "      <td>0.005000</td>\n",
       "    </tr>\n",
       "    <tr>\n",
       "      <th>2</th>\n",
       "      <td>0001</td>\n",
       "      <td>E1</td>\n",
       "      <td>[0001]</td>\n",
       "      <td>[0002, 0003, 0005, 0007]</td>\n",
       "      <td>[0006, 0008]</td>\n",
       "      <td>0004</td>\n",
       "      <td>8bcbbc8b-b83e-4b97-8f7c-0dd0760680e7</td>\n",
       "      <td>0.012035</td>\n",
       "    </tr>\n",
       "    <tr>\n",
       "      <th>3</th>\n",
       "      <td>0001</td>\n",
       "      <td>E1</td>\n",
       "      <td>[0001]</td>\n",
       "      <td>[0002, 0003, 0007, 0008]</td>\n",
       "      <td>[0006, 0004]</td>\n",
       "      <td>0005</td>\n",
       "      <td>f88ed731-de3a-4c9a-90d5-04d1fcd93d45</td>\n",
       "      <td>0.010340</td>\n",
       "    </tr>\n",
       "    <tr>\n",
       "      <th>4</th>\n",
       "      <td>0001</td>\n",
       "      <td>E1</td>\n",
       "      <td>[0001]</td>\n",
       "      <td>[0002, 0003, 0007, 0008]</td>\n",
       "      <td>[0004, 0005]</td>\n",
       "      <td>0006</td>\n",
       "      <td>16a691da-d735-4ad2-953c-db2678980107</td>\n",
       "      <td>0.010340</td>\n",
       "    </tr>\n",
       "    <tr>\n",
       "      <th>5</th>\n",
       "      <td>0001</td>\n",
       "      <td>E1</td>\n",
       "      <td>[0001]</td>\n",
       "      <td>[0002, 0004, 0005, 0008]</td>\n",
       "      <td>[0003, 0006]</td>\n",
       "      <td>0007</td>\n",
       "      <td>d91f41ff-0308-46df-9bcd-67d46f377777</td>\n",
       "      <td>0.006673</td>\n",
       "    </tr>\n",
       "    <tr>\n",
       "      <th>6</th>\n",
       "      <td>0001</td>\n",
       "      <td>E1</td>\n",
       "      <td>[0001]</td>\n",
       "      <td>[0002, 0005, 0006, 0007]</td>\n",
       "      <td>[0003, 0004]</td>\n",
       "      <td>0008</td>\n",
       "      <td>a1eacac2-9e31-437a-9350-110d2ef2f1a5</td>\n",
       "      <td>0.006822</td>\n",
       "    </tr>\n",
       "  </tbody>\n",
       "</table>\n",
       "</div>"
      ]
     },
     "execution_count": 51,
     "metadata": {},
     "output_type": "execute_result"
    }
   ],
   "execution_count": 51
  },
  {
   "cell_type": "code",
   "metadata": {
    "ExecuteTime": {
     "end_time": "2024-12-12T12:14:15.249106Z",
     "start_time": "2024-12-12T12:14:15.234349Z"
    }
   },
   "source": [
    "#we show the difference in class inbalance for the annotation criteria considered\n",
    "experimentModels[['criteriumName','spindleTimeRate']].groupby('criteriumName').describe()"
   ],
   "outputs": [
    {
     "data": {
      "text/plain": [
       "              spindleTimeRate                                                 \\\n",
       "                        count      mean       std    min       25%       50%   \n",
       "criteriumName                                                                  \n",
       "E1                        7.0  0.008469  0.002511  0.005  0.006748  0.008075   \n",
       "\n",
       "                                  \n",
       "                   75%       max  \n",
       "criteriumName                     \n",
       "E1             0.01034  0.012035  "
      ],
      "text/html": [
       "<div>\n",
       "<style scoped>\n",
       "    .dataframe tbody tr th:only-of-type {\n",
       "        vertical-align: middle;\n",
       "    }\n",
       "\n",
       "    .dataframe tbody tr th {\n",
       "        vertical-align: top;\n",
       "    }\n",
       "\n",
       "    .dataframe thead tr th {\n",
       "        text-align: left;\n",
       "    }\n",
       "\n",
       "    .dataframe thead tr:last-of-type th {\n",
       "        text-align: right;\n",
       "    }\n",
       "</style>\n",
       "<table border=\"1\" class=\"dataframe\">\n",
       "  <thead>\n",
       "    <tr>\n",
       "      <th></th>\n",
       "      <th colspan=\"8\" halign=\"left\">spindleTimeRate</th>\n",
       "    </tr>\n",
       "    <tr>\n",
       "      <th></th>\n",
       "      <th>count</th>\n",
       "      <th>mean</th>\n",
       "      <th>std</th>\n",
       "      <th>min</th>\n",
       "      <th>25%</th>\n",
       "      <th>50%</th>\n",
       "      <th>75%</th>\n",
       "      <th>max</th>\n",
       "    </tr>\n",
       "    <tr>\n",
       "      <th>criteriumName</th>\n",
       "      <th></th>\n",
       "      <th></th>\n",
       "      <th></th>\n",
       "      <th></th>\n",
       "      <th></th>\n",
       "      <th></th>\n",
       "      <th></th>\n",
       "      <th></th>\n",
       "    </tr>\n",
       "  </thead>\n",
       "  <tbody>\n",
       "    <tr>\n",
       "      <th>E1</th>\n",
       "      <td>7.0</td>\n",
       "      <td>0.008469</td>\n",
       "      <td>0.002511</td>\n",
       "      <td>0.005</td>\n",
       "      <td>0.006748</td>\n",
       "      <td>0.008075</td>\n",
       "      <td>0.01034</td>\n",
       "      <td>0.012035</td>\n",
       "    </tr>\n",
       "  </tbody>\n",
       "</table>\n",
       "</div>"
      ]
     },
     "execution_count": 52,
     "metadata": {},
     "output_type": "execute_result"
    }
   ],
   "execution_count": 52
  },
  {
   "cell_type": "code",
   "metadata": {
    "ExecuteTime": {
     "end_time": "2024-12-12T12:14:15.312131Z",
     "start_time": "2024-12-12T12:14:15.305131Z"
    }
   },
   "source": [
    "featureSelection"
   ],
   "outputs": [
    {
     "data": {
      "text/plain": [
       "   window   characteristic   bandName  Times_selected\n",
       "0       2       sigmaIndex  broadband          1000.0\n",
       "1       2    hjortActivity      sigma          1000.0\n",
       "2     1.5       sigmaIndex  broadband          1000.0\n",
       "3       1    hjortActivity      sigma          1000.0\n",
       "4       1       sigmaIndex  broadband          1000.0\n",
       "5       2    hjortActivity      beta1          1000.0\n",
       "6       2    hjortActivity      beta2          1000.0\n",
       "7     1.5    hjortActivity      sigma           999.0\n",
       "8       2    hjortMobility      beta1           994.0\n",
       "9       2    hjortActivity     delta2           986.0\n",
       "10      2    hjortActivity  broadband           985.0\n",
       "11      2    hjortMobility      sigma           975.0\n",
       "12      2    hjortActivity      alpha           971.0\n",
       "13    1.5    hjortActivity      beta2           918.0\n",
       "14    0.5       sigmaIndex  broadband           899.0\n",
       "15      2    hjortMobility      beta2           897.0\n",
       "16      2    hjortMobility      alpha           893.0\n",
       "17      2    hjortMobility     delta1           838.0\n",
       "18    1.5    hjortMobility      beta1           824.0\n",
       "19    1.5    hjortActivity      beta1           725.0\n",
       "20      2        petrosian  broadband           715.0\n",
       "21      1    hjortActivity  broadband           680.0\n",
       "22      2    hjortActivity      theta           652.0\n",
       "23    0.5    hjortActivity      sigma           650.0\n",
       "24      2    hjortMobility      theta           597.0\n",
       "25    0.5    hjortActivity      alpha           547.0\n",
       "26    0.5    hjortActivity     delta2           486.0\n",
       "27      1    hjortActivity      beta1           466.0\n",
       "28      1    hjortActivity      alpha           389.0\n",
       "29    1.5    hjortActivity      alpha           383.0\n",
       "30      2    hjortMobility     delta2           356.0\n",
       "31      2    hjortActivity     delta1           354.0\n",
       "32      1    hjortActivity      theta           351.0\n",
       "33    0.5  hjortComplexity  broadband           335.0\n",
       "34    1.5    hjortMobility      sigma           275.0\n",
       "35      1    hjortMobility      beta2           260.0"
      ],
      "text/html": [
       "<div>\n",
       "<style scoped>\n",
       "    .dataframe tbody tr th:only-of-type {\n",
       "        vertical-align: middle;\n",
       "    }\n",
       "\n",
       "    .dataframe tbody tr th {\n",
       "        vertical-align: top;\n",
       "    }\n",
       "\n",
       "    .dataframe thead th {\n",
       "        text-align: right;\n",
       "    }\n",
       "</style>\n",
       "<table border=\"1\" class=\"dataframe\">\n",
       "  <thead>\n",
       "    <tr style=\"text-align: right;\">\n",
       "      <th></th>\n",
       "      <th>window</th>\n",
       "      <th>characteristic</th>\n",
       "      <th>bandName</th>\n",
       "      <th>Times_selected</th>\n",
       "    </tr>\n",
       "  </thead>\n",
       "  <tbody>\n",
       "    <tr>\n",
       "      <th>0</th>\n",
       "      <td>2</td>\n",
       "      <td>sigmaIndex</td>\n",
       "      <td>broadband</td>\n",
       "      <td>1000.0</td>\n",
       "    </tr>\n",
       "    <tr>\n",
       "      <th>1</th>\n",
       "      <td>2</td>\n",
       "      <td>hjortActivity</td>\n",
       "      <td>sigma</td>\n",
       "      <td>1000.0</td>\n",
       "    </tr>\n",
       "    <tr>\n",
       "      <th>2</th>\n",
       "      <td>1.5</td>\n",
       "      <td>sigmaIndex</td>\n",
       "      <td>broadband</td>\n",
       "      <td>1000.0</td>\n",
       "    </tr>\n",
       "    <tr>\n",
       "      <th>3</th>\n",
       "      <td>1</td>\n",
       "      <td>hjortActivity</td>\n",
       "      <td>sigma</td>\n",
       "      <td>1000.0</td>\n",
       "    </tr>\n",
       "    <tr>\n",
       "      <th>4</th>\n",
       "      <td>1</td>\n",
       "      <td>sigmaIndex</td>\n",
       "      <td>broadband</td>\n",
       "      <td>1000.0</td>\n",
       "    </tr>\n",
       "    <tr>\n",
       "      <th>5</th>\n",
       "      <td>2</td>\n",
       "      <td>hjortActivity</td>\n",
       "      <td>beta1</td>\n",
       "      <td>1000.0</td>\n",
       "    </tr>\n",
       "    <tr>\n",
       "      <th>6</th>\n",
       "      <td>2</td>\n",
       "      <td>hjortActivity</td>\n",
       "      <td>beta2</td>\n",
       "      <td>1000.0</td>\n",
       "    </tr>\n",
       "    <tr>\n",
       "      <th>7</th>\n",
       "      <td>1.5</td>\n",
       "      <td>hjortActivity</td>\n",
       "      <td>sigma</td>\n",
       "      <td>999.0</td>\n",
       "    </tr>\n",
       "    <tr>\n",
       "      <th>8</th>\n",
       "      <td>2</td>\n",
       "      <td>hjortMobility</td>\n",
       "      <td>beta1</td>\n",
       "      <td>994.0</td>\n",
       "    </tr>\n",
       "    <tr>\n",
       "      <th>9</th>\n",
       "      <td>2</td>\n",
       "      <td>hjortActivity</td>\n",
       "      <td>delta2</td>\n",
       "      <td>986.0</td>\n",
       "    </tr>\n",
       "    <tr>\n",
       "      <th>10</th>\n",
       "      <td>2</td>\n",
       "      <td>hjortActivity</td>\n",
       "      <td>broadband</td>\n",
       "      <td>985.0</td>\n",
       "    </tr>\n",
       "    <tr>\n",
       "      <th>11</th>\n",
       "      <td>2</td>\n",
       "      <td>hjortMobility</td>\n",
       "      <td>sigma</td>\n",
       "      <td>975.0</td>\n",
       "    </tr>\n",
       "    <tr>\n",
       "      <th>12</th>\n",
       "      <td>2</td>\n",
       "      <td>hjortActivity</td>\n",
       "      <td>alpha</td>\n",
       "      <td>971.0</td>\n",
       "    </tr>\n",
       "    <tr>\n",
       "      <th>13</th>\n",
       "      <td>1.5</td>\n",
       "      <td>hjortActivity</td>\n",
       "      <td>beta2</td>\n",
       "      <td>918.0</td>\n",
       "    </tr>\n",
       "    <tr>\n",
       "      <th>14</th>\n",
       "      <td>0.5</td>\n",
       "      <td>sigmaIndex</td>\n",
       "      <td>broadband</td>\n",
       "      <td>899.0</td>\n",
       "    </tr>\n",
       "    <tr>\n",
       "      <th>15</th>\n",
       "      <td>2</td>\n",
       "      <td>hjortMobility</td>\n",
       "      <td>beta2</td>\n",
       "      <td>897.0</td>\n",
       "    </tr>\n",
       "    <tr>\n",
       "      <th>16</th>\n",
       "      <td>2</td>\n",
       "      <td>hjortMobility</td>\n",
       "      <td>alpha</td>\n",
       "      <td>893.0</td>\n",
       "    </tr>\n",
       "    <tr>\n",
       "      <th>17</th>\n",
       "      <td>2</td>\n",
       "      <td>hjortMobility</td>\n",
       "      <td>delta1</td>\n",
       "      <td>838.0</td>\n",
       "    </tr>\n",
       "    <tr>\n",
       "      <th>18</th>\n",
       "      <td>1.5</td>\n",
       "      <td>hjortMobility</td>\n",
       "      <td>beta1</td>\n",
       "      <td>824.0</td>\n",
       "    </tr>\n",
       "    <tr>\n",
       "      <th>19</th>\n",
       "      <td>1.5</td>\n",
       "      <td>hjortActivity</td>\n",
       "      <td>beta1</td>\n",
       "      <td>725.0</td>\n",
       "    </tr>\n",
       "    <tr>\n",
       "      <th>20</th>\n",
       "      <td>2</td>\n",
       "      <td>petrosian</td>\n",
       "      <td>broadband</td>\n",
       "      <td>715.0</td>\n",
       "    </tr>\n",
       "    <tr>\n",
       "      <th>21</th>\n",
       "      <td>1</td>\n",
       "      <td>hjortActivity</td>\n",
       "      <td>broadband</td>\n",
       "      <td>680.0</td>\n",
       "    </tr>\n",
       "    <tr>\n",
       "      <th>22</th>\n",
       "      <td>2</td>\n",
       "      <td>hjortActivity</td>\n",
       "      <td>theta</td>\n",
       "      <td>652.0</td>\n",
       "    </tr>\n",
       "    <tr>\n",
       "      <th>23</th>\n",
       "      <td>0.5</td>\n",
       "      <td>hjortActivity</td>\n",
       "      <td>sigma</td>\n",
       "      <td>650.0</td>\n",
       "    </tr>\n",
       "    <tr>\n",
       "      <th>24</th>\n",
       "      <td>2</td>\n",
       "      <td>hjortMobility</td>\n",
       "      <td>theta</td>\n",
       "      <td>597.0</td>\n",
       "    </tr>\n",
       "    <tr>\n",
       "      <th>25</th>\n",
       "      <td>0.5</td>\n",
       "      <td>hjortActivity</td>\n",
       "      <td>alpha</td>\n",
       "      <td>547.0</td>\n",
       "    </tr>\n",
       "    <tr>\n",
       "      <th>26</th>\n",
       "      <td>0.5</td>\n",
       "      <td>hjortActivity</td>\n",
       "      <td>delta2</td>\n",
       "      <td>486.0</td>\n",
       "    </tr>\n",
       "    <tr>\n",
       "      <th>27</th>\n",
       "      <td>1</td>\n",
       "      <td>hjortActivity</td>\n",
       "      <td>beta1</td>\n",
       "      <td>466.0</td>\n",
       "    </tr>\n",
       "    <tr>\n",
       "      <th>28</th>\n",
       "      <td>1</td>\n",
       "      <td>hjortActivity</td>\n",
       "      <td>alpha</td>\n",
       "      <td>389.0</td>\n",
       "    </tr>\n",
       "    <tr>\n",
       "      <th>29</th>\n",
       "      <td>1.5</td>\n",
       "      <td>hjortActivity</td>\n",
       "      <td>alpha</td>\n",
       "      <td>383.0</td>\n",
       "    </tr>\n",
       "    <tr>\n",
       "      <th>30</th>\n",
       "      <td>2</td>\n",
       "      <td>hjortMobility</td>\n",
       "      <td>delta2</td>\n",
       "      <td>356.0</td>\n",
       "    </tr>\n",
       "    <tr>\n",
       "      <th>31</th>\n",
       "      <td>2</td>\n",
       "      <td>hjortActivity</td>\n",
       "      <td>delta1</td>\n",
       "      <td>354.0</td>\n",
       "    </tr>\n",
       "    <tr>\n",
       "      <th>32</th>\n",
       "      <td>1</td>\n",
       "      <td>hjortActivity</td>\n",
       "      <td>theta</td>\n",
       "      <td>351.0</td>\n",
       "    </tr>\n",
       "    <tr>\n",
       "      <th>33</th>\n",
       "      <td>0.5</td>\n",
       "      <td>hjortComplexity</td>\n",
       "      <td>broadband</td>\n",
       "      <td>335.0</td>\n",
       "    </tr>\n",
       "    <tr>\n",
       "      <th>34</th>\n",
       "      <td>1.5</td>\n",
       "      <td>hjortMobility</td>\n",
       "      <td>sigma</td>\n",
       "      <td>275.0</td>\n",
       "    </tr>\n",
       "    <tr>\n",
       "      <th>35</th>\n",
       "      <td>1</td>\n",
       "      <td>hjortMobility</td>\n",
       "      <td>beta2</td>\n",
       "      <td>260.0</td>\n",
       "    </tr>\n",
       "  </tbody>\n",
       "</table>\n",
       "</div>"
      ]
     },
     "execution_count": 53,
     "metadata": {},
     "output_type": "execute_result"
    }
   ],
   "execution_count": 53
  },
  {
   "attachments": {},
   "cell_type": "markdown",
   "metadata": {},
   "source": [
    "## Hyperparameter definition\n",
    "this should come from a previous evaluation notebook"
   ]
  },
  {
   "cell_type": "code",
   "metadata": {
    "ExecuteTime": {
     "end_time": "2024-12-12T12:14:15.470824Z",
     "start_time": "2024-12-12T12:14:15.455823Z"
    }
   },
   "source": [
    "hyperClose=0.1\n",
    "hyperDuration=0.3\n",
    "hyperThres=0.3\n",
    "hyperDepth=10"
   ],
   "outputs": [],
   "execution_count": 54
  },
  {
   "attachments": {},
   "cell_type": "markdown",
   "metadata": {},
   "source": [
    "## Testing with E1 criterium\n",
    "we test the optimal points for the prediction threshold and number of boost iterations in the different validation groups"
   ]
  },
  {
   "cell_type": "code",
   "metadata": {
    "ExecuteTime": {
     "end_time": "2024-12-12T12:14:15.644462Z",
     "start_time": "2024-12-12T12:14:15.633139Z"
    }
   },
   "source": [
    "experimentModels=experimentModels[experimentModels.criteriumName=='E1'].reset_index(drop=True)\n",
    "experimentModels"
   ],
   "outputs": [
    {
     "data": {
      "text/plain": [
       "  criteriumId criteriumName labelerIdList                     train  \\\n",
       "0        0001            E1        [0001]  [0004, 0005, 0006, 0007]   \n",
       "1        0001            E1        [0001]  [0002, 0005, 0006, 0008]   \n",
       "2        0001            E1        [0001]  [0002, 0003, 0005, 0007]   \n",
       "3        0001            E1        [0001]  [0002, 0003, 0007, 0008]   \n",
       "4        0001            E1        [0001]  [0002, 0003, 0007, 0008]   \n",
       "5        0001            E1        [0001]  [0002, 0004, 0005, 0008]   \n",
       "6        0001            E1        [0001]  [0002, 0005, 0006, 0007]   \n",
       "\n",
       "            val  test                               modelId  spindleTimeRate  \n",
       "0  [0003, 0008]  0002  a4659423-83e4-4da3-91b5-177fa8bc17fe         0.008075  \n",
       "1  [0007, 0004]  0003  ad3be387-5be4-4e8e-b57d-072003b617d3         0.005000  \n",
       "2  [0006, 0008]  0004  8bcbbc8b-b83e-4b97-8f7c-0dd0760680e7         0.012035  \n",
       "3  [0006, 0004]  0005  f88ed731-de3a-4c9a-90d5-04d1fcd93d45         0.010340  \n",
       "4  [0004, 0005]  0006  16a691da-d735-4ad2-953c-db2678980107         0.010340  \n",
       "5  [0003, 0006]  0007  d91f41ff-0308-46df-9bcd-67d46f377777         0.006673  \n",
       "6  [0003, 0004]  0008  a1eacac2-9e31-437a-9350-110d2ef2f1a5         0.006822  "
      ],
      "text/html": [
       "<div>\n",
       "<style scoped>\n",
       "    .dataframe tbody tr th:only-of-type {\n",
       "        vertical-align: middle;\n",
       "    }\n",
       "\n",
       "    .dataframe tbody tr th {\n",
       "        vertical-align: top;\n",
       "    }\n",
       "\n",
       "    .dataframe thead th {\n",
       "        text-align: right;\n",
       "    }\n",
       "</style>\n",
       "<table border=\"1\" class=\"dataframe\">\n",
       "  <thead>\n",
       "    <tr style=\"text-align: right;\">\n",
       "      <th></th>\n",
       "      <th>criteriumId</th>\n",
       "      <th>criteriumName</th>\n",
       "      <th>labelerIdList</th>\n",
       "      <th>train</th>\n",
       "      <th>val</th>\n",
       "      <th>test</th>\n",
       "      <th>modelId</th>\n",
       "      <th>spindleTimeRate</th>\n",
       "    </tr>\n",
       "  </thead>\n",
       "  <tbody>\n",
       "    <tr>\n",
       "      <th>0</th>\n",
       "      <td>0001</td>\n",
       "      <td>E1</td>\n",
       "      <td>[0001]</td>\n",
       "      <td>[0004, 0005, 0006, 0007]</td>\n",
       "      <td>[0003, 0008]</td>\n",
       "      <td>0002</td>\n",
       "      <td>a4659423-83e4-4da3-91b5-177fa8bc17fe</td>\n",
       "      <td>0.008075</td>\n",
       "    </tr>\n",
       "    <tr>\n",
       "      <th>1</th>\n",
       "      <td>0001</td>\n",
       "      <td>E1</td>\n",
       "      <td>[0001]</td>\n",
       "      <td>[0002, 0005, 0006, 0008]</td>\n",
       "      <td>[0007, 0004]</td>\n",
       "      <td>0003</td>\n",
       "      <td>ad3be387-5be4-4e8e-b57d-072003b617d3</td>\n",
       "      <td>0.005000</td>\n",
       "    </tr>\n",
       "    <tr>\n",
       "      <th>2</th>\n",
       "      <td>0001</td>\n",
       "      <td>E1</td>\n",
       "      <td>[0001]</td>\n",
       "      <td>[0002, 0003, 0005, 0007]</td>\n",
       "      <td>[0006, 0008]</td>\n",
       "      <td>0004</td>\n",
       "      <td>8bcbbc8b-b83e-4b97-8f7c-0dd0760680e7</td>\n",
       "      <td>0.012035</td>\n",
       "    </tr>\n",
       "    <tr>\n",
       "      <th>3</th>\n",
       "      <td>0001</td>\n",
       "      <td>E1</td>\n",
       "      <td>[0001]</td>\n",
       "      <td>[0002, 0003, 0007, 0008]</td>\n",
       "      <td>[0006, 0004]</td>\n",
       "      <td>0005</td>\n",
       "      <td>f88ed731-de3a-4c9a-90d5-04d1fcd93d45</td>\n",
       "      <td>0.010340</td>\n",
       "    </tr>\n",
       "    <tr>\n",
       "      <th>4</th>\n",
       "      <td>0001</td>\n",
       "      <td>E1</td>\n",
       "      <td>[0001]</td>\n",
       "      <td>[0002, 0003, 0007, 0008]</td>\n",
       "      <td>[0004, 0005]</td>\n",
       "      <td>0006</td>\n",
       "      <td>16a691da-d735-4ad2-953c-db2678980107</td>\n",
       "      <td>0.010340</td>\n",
       "    </tr>\n",
       "    <tr>\n",
       "      <th>5</th>\n",
       "      <td>0001</td>\n",
       "      <td>E1</td>\n",
       "      <td>[0001]</td>\n",
       "      <td>[0002, 0004, 0005, 0008]</td>\n",
       "      <td>[0003, 0006]</td>\n",
       "      <td>0007</td>\n",
       "      <td>d91f41ff-0308-46df-9bcd-67d46f377777</td>\n",
       "      <td>0.006673</td>\n",
       "    </tr>\n",
       "    <tr>\n",
       "      <th>6</th>\n",
       "      <td>0001</td>\n",
       "      <td>E1</td>\n",
       "      <td>[0001]</td>\n",
       "      <td>[0002, 0005, 0006, 0007]</td>\n",
       "      <td>[0003, 0004]</td>\n",
       "      <td>0008</td>\n",
       "      <td>a1eacac2-9e31-437a-9350-110d2ef2f1a5</td>\n",
       "      <td>0.006822</td>\n",
       "    </tr>\n",
       "  </tbody>\n",
       "</table>\n",
       "</div>"
      ]
     },
     "execution_count": 55,
     "metadata": {},
     "output_type": "execute_result"
    }
   ],
   "execution_count": 55
  },
  {
   "cell_type": "code",
   "metadata": {
    "ExecuteTime": {
     "end_time": "2024-12-12T12:14:59.004261Z",
     "start_time": "2024-12-12T12:14:15.882145Z"
    }
   },
   "source": [
    "rawF1s=[]\n",
    "rawPrecisions=[]\n",
    "rawRecalls=[]\n",
    "\n",
    "f1s=[]\n",
    "precisions=[]\n",
    "recalls=[]\n",
    "\n",
    "eventF1s=[]\n",
    "eventPrecisions=[]\n",
    "eventRecalls=[]\n",
    "\n",
    "checks=[]\n",
    "\n",
    "for ind,row in experimentModels.iterrows():\n",
    "    print('*************************')\n",
    "    print(str(ind+1)+' of '+str(len(experimentModels)) )\n",
    "    #load model\n",
    "    model=loadBooster(row.modelId,experimentId,datapath)\n",
    "\n",
    "    testSubjectId=row.test\n",
    "    #Define annotations criterium\n",
    "    usedAnnotations=annotations[annotations.labelerId.isin(row.labelerIdList)].reset_index(drop=True)\n",
    "    #Load features and labels\n",
    "    testFeatures=loadFeatureMatrix([testSubjectId],featureSelection,signalsMetadata,samplerate,datapath)\n",
    "    testLabels=loadLabelsVector([testSubjectId],usedAnnotations,signalsMetadata,samplerate)\n",
    "\n",
    "    #Predict\n",
    "    testDMatrix=xgb.DMatrix(data=testFeatures)\n",
    "    probabilities=model.predict(testDMatrix,iteration_range=(0,hyperDepth))\n",
    "    rawLabels=probabilities>=hyperThres\n",
    "    #Raw Metrics\n",
    "    rawTp=np.sum(rawLabels*testLabels)\n",
    "    rawFp=np.sum(rawLabels*(1-testLabels))\n",
    "    rawTn=np.sum((1-rawLabels)*(1-testLabels))\n",
    "    rawFn=np.sum((1-rawLabels)*testLabels)\n",
    "    #Raw appends\n",
    "    rawF1s.append(2*rawTp/(2*rawTp+rawFp+rawFn))\n",
    "    rawPrecisions.append(rawTp/(rawTp+rawFp) )\n",
    "    rawRecalls.append(rawTp/(rawTp+rawFn))\n",
    "    #Process\n",
    "    processedLabels=labelingProcess(rawLabels,hyperClose,hyperDuration,samplerate)\n",
    "    #Processed metrics\n",
    "    tp=np.sum(processedLabels*testLabels)\n",
    "    fp=np.sum(processedLabels*(1-testLabels))\n",
    "    tn=np.sum((1-processedLabels)*(1-testLabels))\n",
    "    fn=np.sum((1-processedLabels)*testLabels)\n",
    "    #Processed appends\n",
    "    f1s.append(2*tp/(2*tp+fp+fn))\n",
    "    precisions.append(tp/(tp+fp))\n",
    "    recalls.append(tp/(tp+fn))\n",
    "\n",
    "    #By-event metrics\n",
    "    processedAnnotations=labelVectorToAnnotations(processedLabels,samplerate)\n",
    "    processedAnnotations=processedAnnotations[processedAnnotations.duration<5]\n",
    "    gtAnnotations=labelVectorToAnnotations(testLabels,samplerate)   #<- or just filter the annotations\n",
    "    f,r,p=annotationPairToMetrics(gtAnnotations,processedAnnotations, thresIoU=0.3)\n",
    "    \n",
    "    #calculate metrics\n",
    "    eventF1s.append(f)\n",
    "    eventPrecisions.append(p)\n",
    "    eventRecalls.append(r)\n",
    "\n",
    "#include metrics in the dataframe\n",
    "experimentModels['rawF1']=rawF1s\n",
    "experimentModels['rawPrecision']=rawPrecisions\n",
    "experimentModels['rawRecall']=rawRecalls\n",
    "\n",
    "experimentModels['f1']=f1s\n",
    "experimentModels['precision']=precisions\n",
    "experimentModels['recall']=recalls\n",
    "\n",
    "experimentModels['eventF1']=eventF1s\n",
    "experimentModels['eventPrecision']=eventPrecisions\n",
    "experimentModels['eventRecall']=eventRecalls\n"
   ],
   "outputs": [
    {
     "name": "stdout",
     "output_type": "stream",
     "text": [
      "*************************\n",
      "1 of 7\n",
      "*************************\n",
      "2 of 7\n",
      "*************************\n",
      "3 of 7\n",
      "*************************\n",
      "4 of 7\n",
      "*************************\n",
      "5 of 7\n",
      "*************************\n",
      "6 of 7\n",
      "*************************\n",
      "7 of 7\n"
     ]
    }
   ],
   "execution_count": 56
  },
  {
   "cell_type": "code",
   "metadata": {
    "ExecuteTime": {
     "end_time": "2024-12-12T12:14:59.050867Z",
     "start_time": "2024-12-12T12:14:59.036723Z"
    }
   },
   "source": [
    "dumpPickle('experimentModelsTest_E1_temp.pkl',experimentModels)"
   ],
   "outputs": [],
   "execution_count": 57
  },
  {
   "cell_type": "code",
   "metadata": {
    "ExecuteTime": {
     "end_time": "2024-12-12T12:14:59.081823Z",
     "start_time": "2024-12-12T12:14:59.064498Z"
    }
   },
   "source": [
    "experimentModels.columns"
   ],
   "outputs": [
    {
     "data": {
      "text/plain": [
       "Index(['criteriumId', 'criteriumName', 'labelerIdList', 'train', 'val', 'test',\n",
       "       'modelId', 'spindleTimeRate', 'rawF1', 'rawPrecision', 'rawRecall',\n",
       "       'f1', 'precision', 'recall', 'eventF1', 'eventPrecision',\n",
       "       'eventRecall'],\n",
       "      dtype='object')"
      ]
     },
     "execution_count": 58,
     "metadata": {},
     "output_type": "execute_result"
    }
   ],
   "execution_count": 58
  },
  {
   "metadata": {
    "ExecuteTime": {
     "end_time": "2024-12-12T12:14:59.158906Z",
     "start_time": "2024-12-12T12:14:59.114276Z"
    }
   },
   "cell_type": "code",
   "source": [
    "fig=px.scatter(experimentModels,x='f1',y='eventF1',color='test',hover_name='modelId', marginal_y=\"histogram\")\n",
    "fig.add_trace(\n",
    "    go.Scatter(x=experimentModels['f1'], y=experimentModels['f1'], name=\"identity\", mode='lines',fill=\"toself\")\n",
    ")\n",
    "fig.show()"
   ],
   "outputs": [
    {
     "data": {
      "application/vnd.plotly.v1+json": {
       "data": [
        {
         "hovertemplate": "<b>%{hovertext}</b><br><br>test=0002<br>f1=%{x}<br>eventF1=%{y}<extra></extra>",
         "hovertext": [
          "a4659423-83e4-4da3-91b5-177fa8bc17fe"
         ],
         "legendgroup": "0002",
         "marker": {
          "color": "#636efa",
          "symbol": "circle"
         },
         "mode": "markers",
         "name": "0002",
         "orientation": "v",
         "showlegend": true,
         "x": [
          0.5671273833565003
         ],
         "xaxis": "x",
         "y": [
          0.6370757180156658
         ],
         "yaxis": "y",
         "type": "scatter"
        },
        {
         "alignmentgroup": "True",
         "bingroup": "y",
         "hovertemplate": "test=0002<br>eventF1=%{y}<br>count=%{x}<extra></extra>",
         "legendgroup": "0002",
         "marker": {
          "color": "#636efa"
         },
         "name": "0002",
         "offsetgroup": "0002",
         "opacity": 0.5,
         "showlegend": false,
         "xaxis": "x2",
         "y": [
          0.6370757180156658
         ],
         "yaxis": "y2",
         "type": "histogram"
        },
        {
         "hovertemplate": "<b>%{hovertext}</b><br><br>test=0003<br>f1=%{x}<br>eventF1=%{y}<extra></extra>",
         "hovertext": [
          "ad3be387-5be4-4e8e-b57d-072003b617d3"
         ],
         "legendgroup": "0003",
         "marker": {
          "color": "#EF553B",
          "symbol": "circle"
         },
         "mode": "markers",
         "name": "0003",
         "orientation": "v",
         "showlegend": true,
         "x": [
          0.7790010184492533
         ],
         "xaxis": "x",
         "y": [
          0.8481081081081081
         ],
         "yaxis": "y",
         "type": "scatter"
        },
        {
         "alignmentgroup": "True",
         "bingroup": "y",
         "hovertemplate": "test=0003<br>eventF1=%{y}<br>count=%{x}<extra></extra>",
         "legendgroup": "0003",
         "marker": {
          "color": "#EF553B"
         },
         "name": "0003",
         "offsetgroup": "0003",
         "opacity": 0.5,
         "showlegend": false,
         "xaxis": "x2",
         "y": [
          0.8481081081081081
         ],
         "yaxis": "y2",
         "type": "histogram"
        },
        {
         "hovertemplate": "<b>%{hovertext}</b><br><br>test=0004<br>f1=%{x}<br>eventF1=%{y}<extra></extra>",
         "hovertext": [
          "8bcbbc8b-b83e-4b97-8f7c-0dd0760680e7"
         ],
         "legendgroup": "0004",
         "marker": {
          "color": "#00cc96",
          "symbol": "circle"
         },
         "mode": "markers",
         "name": "0004",
         "orientation": "v",
         "showlegend": true,
         "x": [
          0.7137028201260734
         ],
         "xaxis": "x",
         "y": [
          0.7785888077858881
         ],
         "yaxis": "y",
         "type": "scatter"
        },
        {
         "alignmentgroup": "True",
         "bingroup": "y",
         "hovertemplate": "test=0004<br>eventF1=%{y}<br>count=%{x}<extra></extra>",
         "legendgroup": "0004",
         "marker": {
          "color": "#00cc96"
         },
         "name": "0004",
         "offsetgroup": "0004",
         "opacity": 0.5,
         "showlegend": false,
         "xaxis": "x2",
         "y": [
          0.7785888077858881
         ],
         "yaxis": "y2",
         "type": "histogram"
        },
        {
         "hovertemplate": "<b>%{hovertext}</b><br><br>test=0005<br>f1=%{x}<br>eventF1=%{y}<extra></extra>",
         "hovertext": [
          "f88ed731-de3a-4c9a-90d5-04d1fcd93d45"
         ],
         "legendgroup": "0005",
         "marker": {
          "color": "#ab63fa",
          "symbol": "circle"
         },
         "mode": "markers",
         "name": "0005",
         "orientation": "v",
         "showlegend": true,
         "x": [
          0.6328084589383022
         ],
         "xaxis": "x",
         "y": [
          0.6525054466230937
         ],
         "yaxis": "y",
         "type": "scatter"
        },
        {
         "alignmentgroup": "True",
         "bingroup": "y",
         "hovertemplate": "test=0005<br>eventF1=%{y}<br>count=%{x}<extra></extra>",
         "legendgroup": "0005",
         "marker": {
          "color": "#ab63fa"
         },
         "name": "0005",
         "offsetgroup": "0005",
         "opacity": 0.5,
         "showlegend": false,
         "xaxis": "x2",
         "y": [
          0.6525054466230937
         ],
         "yaxis": "y2",
         "type": "histogram"
        },
        {
         "hovertemplate": "<b>%{hovertext}</b><br><br>test=0006<br>f1=%{x}<br>eventF1=%{y}<extra></extra>",
         "hovertext": [
          "16a691da-d735-4ad2-953c-db2678980107"
         ],
         "legendgroup": "0006",
         "marker": {
          "color": "#FFA15A",
          "symbol": "circle"
         },
         "mode": "markers",
         "name": "0006",
         "orientation": "v",
         "showlegend": true,
         "x": [
          0.6513842149080121
         ],
         "xaxis": "x",
         "y": [
          0.6848030018761726
         ],
         "yaxis": "y",
         "type": "scatter"
        },
        {
         "alignmentgroup": "True",
         "bingroup": "y",
         "hovertemplate": "test=0006<br>eventF1=%{y}<br>count=%{x}<extra></extra>",
         "legendgroup": "0006",
         "marker": {
          "color": "#FFA15A"
         },
         "name": "0006",
         "offsetgroup": "0006",
         "opacity": 0.5,
         "showlegend": false,
         "xaxis": "x2",
         "y": [
          0.6848030018761726
         ],
         "yaxis": "y2",
         "type": "histogram"
        },
        {
         "hovertemplate": "<b>%{hovertext}</b><br><br>test=0007<br>f1=%{x}<br>eventF1=%{y}<extra></extra>",
         "hovertext": [
          "d91f41ff-0308-46df-9bcd-67d46f377777"
         ],
         "legendgroup": "0007",
         "marker": {
          "color": "#19d3f3",
          "symbol": "circle"
         },
         "mode": "markers",
         "name": "0007",
         "orientation": "v",
         "showlegend": true,
         "x": [
          0.5932963339150734
         ],
         "xaxis": "x",
         "y": [
          0.6557539682539683
         ],
         "yaxis": "y",
         "type": "scatter"
        },
        {
         "alignmentgroup": "True",
         "bingroup": "y",
         "hovertemplate": "test=0007<br>eventF1=%{y}<br>count=%{x}<extra></extra>",
         "legendgroup": "0007",
         "marker": {
          "color": "#19d3f3"
         },
         "name": "0007",
         "offsetgroup": "0007",
         "opacity": 0.5,
         "showlegend": false,
         "xaxis": "x2",
         "y": [
          0.6557539682539683
         ],
         "yaxis": "y2",
         "type": "histogram"
        },
        {
         "hovertemplate": "<b>%{hovertext}</b><br><br>test=0008<br>f1=%{x}<br>eventF1=%{y}<extra></extra>",
         "hovertext": [
          "a1eacac2-9e31-437a-9350-110d2ef2f1a5"
         ],
         "legendgroup": "0008",
         "marker": {
          "color": "#FF6692",
          "symbol": "circle"
         },
         "mode": "markers",
         "name": "0008",
         "orientation": "v",
         "showlegend": true,
         "x": [
          0.42967054645886765
         ],
         "xaxis": "x",
         "y": [
          0.45454545454545453
         ],
         "yaxis": "y",
         "type": "scatter"
        },
        {
         "alignmentgroup": "True",
         "bingroup": "y",
         "hovertemplate": "test=0008<br>eventF1=%{y}<br>count=%{x}<extra></extra>",
         "legendgroup": "0008",
         "marker": {
          "color": "#FF6692"
         },
         "name": "0008",
         "offsetgroup": "0008",
         "opacity": 0.5,
         "showlegend": false,
         "xaxis": "x2",
         "y": [
          0.45454545454545453
         ],
         "yaxis": "y2",
         "type": "histogram"
        },
        {
         "fill": "toself",
         "mode": "lines",
         "name": "identity",
         "x": [
          0.5671273833565003,
          0.7790010184492533,
          0.7137028201260734,
          0.6328084589383022,
          0.6513842149080121,
          0.5932963339150734,
          0.42967054645886765
         ],
         "y": [
          0.5671273833565003,
          0.7790010184492533,
          0.7137028201260734,
          0.6328084589383022,
          0.6513842149080121,
          0.5932963339150734,
          0.42967054645886765
         ],
         "type": "scatter"
        }
       ],
       "layout": {
        "template": {
         "data": {
          "histogram2dcontour": [
           {
            "type": "histogram2dcontour",
            "colorbar": {
             "outlinewidth": 0,
             "ticks": ""
            },
            "colorscale": [
             [
              0.0,
              "#0d0887"
             ],
             [
              0.1111111111111111,
              "#46039f"
             ],
             [
              0.2222222222222222,
              "#7201a8"
             ],
             [
              0.3333333333333333,
              "#9c179e"
             ],
             [
              0.4444444444444444,
              "#bd3786"
             ],
             [
              0.5555555555555556,
              "#d8576b"
             ],
             [
              0.6666666666666666,
              "#ed7953"
             ],
             [
              0.7777777777777778,
              "#fb9f3a"
             ],
             [
              0.8888888888888888,
              "#fdca26"
             ],
             [
              1.0,
              "#f0f921"
             ]
            ]
           }
          ],
          "choropleth": [
           {
            "type": "choropleth",
            "colorbar": {
             "outlinewidth": 0,
             "ticks": ""
            }
           }
          ],
          "histogram2d": [
           {
            "type": "histogram2d",
            "colorbar": {
             "outlinewidth": 0,
             "ticks": ""
            },
            "colorscale": [
             [
              0.0,
              "#0d0887"
             ],
             [
              0.1111111111111111,
              "#46039f"
             ],
             [
              0.2222222222222222,
              "#7201a8"
             ],
             [
              0.3333333333333333,
              "#9c179e"
             ],
             [
              0.4444444444444444,
              "#bd3786"
             ],
             [
              0.5555555555555556,
              "#d8576b"
             ],
             [
              0.6666666666666666,
              "#ed7953"
             ],
             [
              0.7777777777777778,
              "#fb9f3a"
             ],
             [
              0.8888888888888888,
              "#fdca26"
             ],
             [
              1.0,
              "#f0f921"
             ]
            ]
           }
          ],
          "heatmap": [
           {
            "type": "heatmap",
            "colorbar": {
             "outlinewidth": 0,
             "ticks": ""
            },
            "colorscale": [
             [
              0.0,
              "#0d0887"
             ],
             [
              0.1111111111111111,
              "#46039f"
             ],
             [
              0.2222222222222222,
              "#7201a8"
             ],
             [
              0.3333333333333333,
              "#9c179e"
             ],
             [
              0.4444444444444444,
              "#bd3786"
             ],
             [
              0.5555555555555556,
              "#d8576b"
             ],
             [
              0.6666666666666666,
              "#ed7953"
             ],
             [
              0.7777777777777778,
              "#fb9f3a"
             ],
             [
              0.8888888888888888,
              "#fdca26"
             ],
             [
              1.0,
              "#f0f921"
             ]
            ]
           }
          ],
          "heatmapgl": [
           {
            "type": "heatmapgl",
            "colorbar": {
             "outlinewidth": 0,
             "ticks": ""
            },
            "colorscale": [
             [
              0.0,
              "#0d0887"
             ],
             [
              0.1111111111111111,
              "#46039f"
             ],
             [
              0.2222222222222222,
              "#7201a8"
             ],
             [
              0.3333333333333333,
              "#9c179e"
             ],
             [
              0.4444444444444444,
              "#bd3786"
             ],
             [
              0.5555555555555556,
              "#d8576b"
             ],
             [
              0.6666666666666666,
              "#ed7953"
             ],
             [
              0.7777777777777778,
              "#fb9f3a"
             ],
             [
              0.8888888888888888,
              "#fdca26"
             ],
             [
              1.0,
              "#f0f921"
             ]
            ]
           }
          ],
          "contourcarpet": [
           {
            "type": "contourcarpet",
            "colorbar": {
             "outlinewidth": 0,
             "ticks": ""
            }
           }
          ],
          "contour": [
           {
            "type": "contour",
            "colorbar": {
             "outlinewidth": 0,
             "ticks": ""
            },
            "colorscale": [
             [
              0.0,
              "#0d0887"
             ],
             [
              0.1111111111111111,
              "#46039f"
             ],
             [
              0.2222222222222222,
              "#7201a8"
             ],
             [
              0.3333333333333333,
              "#9c179e"
             ],
             [
              0.4444444444444444,
              "#bd3786"
             ],
             [
              0.5555555555555556,
              "#d8576b"
             ],
             [
              0.6666666666666666,
              "#ed7953"
             ],
             [
              0.7777777777777778,
              "#fb9f3a"
             ],
             [
              0.8888888888888888,
              "#fdca26"
             ],
             [
              1.0,
              "#f0f921"
             ]
            ]
           }
          ],
          "surface": [
           {
            "type": "surface",
            "colorbar": {
             "outlinewidth": 0,
             "ticks": ""
            },
            "colorscale": [
             [
              0.0,
              "#0d0887"
             ],
             [
              0.1111111111111111,
              "#46039f"
             ],
             [
              0.2222222222222222,
              "#7201a8"
             ],
             [
              0.3333333333333333,
              "#9c179e"
             ],
             [
              0.4444444444444444,
              "#bd3786"
             ],
             [
              0.5555555555555556,
              "#d8576b"
             ],
             [
              0.6666666666666666,
              "#ed7953"
             ],
             [
              0.7777777777777778,
              "#fb9f3a"
             ],
             [
              0.8888888888888888,
              "#fdca26"
             ],
             [
              1.0,
              "#f0f921"
             ]
            ]
           }
          ],
          "mesh3d": [
           {
            "type": "mesh3d",
            "colorbar": {
             "outlinewidth": 0,
             "ticks": ""
            }
           }
          ],
          "scatter": [
           {
            "marker": {
             "line": {
              "color": "#283442"
             }
            },
            "type": "scatter"
           }
          ],
          "parcoords": [
           {
            "type": "parcoords",
            "line": {
             "colorbar": {
              "outlinewidth": 0,
              "ticks": ""
             }
            }
           }
          ],
          "scatterpolargl": [
           {
            "type": "scatterpolargl",
            "marker": {
             "colorbar": {
              "outlinewidth": 0,
              "ticks": ""
             }
            }
           }
          ],
          "bar": [
           {
            "error_x": {
             "color": "#f2f5fa"
            },
            "error_y": {
             "color": "#f2f5fa"
            },
            "marker": {
             "line": {
              "color": "rgb(17,17,17)",
              "width": 0.5
             },
             "pattern": {
              "fillmode": "overlay",
              "size": 10,
              "solidity": 0.2
             }
            },
            "type": "bar"
           }
          ],
          "scattergeo": [
           {
            "type": "scattergeo",
            "marker": {
             "colorbar": {
              "outlinewidth": 0,
              "ticks": ""
             }
            }
           }
          ],
          "scatterpolar": [
           {
            "type": "scatterpolar",
            "marker": {
             "colorbar": {
              "outlinewidth": 0,
              "ticks": ""
             }
            }
           }
          ],
          "histogram": [
           {
            "marker": {
             "pattern": {
              "fillmode": "overlay",
              "size": 10,
              "solidity": 0.2
             }
            },
            "type": "histogram"
           }
          ],
          "scattergl": [
           {
            "marker": {
             "line": {
              "color": "#283442"
             }
            },
            "type": "scattergl"
           }
          ],
          "scatter3d": [
           {
            "type": "scatter3d",
            "line": {
             "colorbar": {
              "outlinewidth": 0,
              "ticks": ""
             }
            },
            "marker": {
             "colorbar": {
              "outlinewidth": 0,
              "ticks": ""
             }
            }
           }
          ],
          "scattermapbox": [
           {
            "type": "scattermapbox",
            "marker": {
             "colorbar": {
              "outlinewidth": 0,
              "ticks": ""
             }
            }
           }
          ],
          "scatterternary": [
           {
            "type": "scatterternary",
            "marker": {
             "colorbar": {
              "outlinewidth": 0,
              "ticks": ""
             }
            }
           }
          ],
          "scattercarpet": [
           {
            "type": "scattercarpet",
            "marker": {
             "colorbar": {
              "outlinewidth": 0,
              "ticks": ""
             }
            }
           }
          ],
          "carpet": [
           {
            "aaxis": {
             "endlinecolor": "#A2B1C6",
             "gridcolor": "#506784",
             "linecolor": "#506784",
             "minorgridcolor": "#506784",
             "startlinecolor": "#A2B1C6"
            },
            "baxis": {
             "endlinecolor": "#A2B1C6",
             "gridcolor": "#506784",
             "linecolor": "#506784",
             "minorgridcolor": "#506784",
             "startlinecolor": "#A2B1C6"
            },
            "type": "carpet"
           }
          ],
          "table": [
           {
            "cells": {
             "fill": {
              "color": "#506784"
             },
             "line": {
              "color": "rgb(17,17,17)"
             }
            },
            "header": {
             "fill": {
              "color": "#2a3f5f"
             },
             "line": {
              "color": "rgb(17,17,17)"
             }
            },
            "type": "table"
           }
          ],
          "barpolar": [
           {
            "marker": {
             "line": {
              "color": "rgb(17,17,17)",
              "width": 0.5
             },
             "pattern": {
              "fillmode": "overlay",
              "size": 10,
              "solidity": 0.2
             }
            },
            "type": "barpolar"
           }
          ],
          "pie": [
           {
            "automargin": true,
            "type": "pie"
           }
          ]
         },
         "layout": {
          "autotypenumbers": "strict",
          "colorway": [
           "#636efa",
           "#EF553B",
           "#00cc96",
           "#ab63fa",
           "#FFA15A",
           "#19d3f3",
           "#FF6692",
           "#B6E880",
           "#FF97FF",
           "#FECB52"
          ],
          "font": {
           "color": "#f2f5fa"
          },
          "hovermode": "closest",
          "hoverlabel": {
           "align": "left"
          },
          "paper_bgcolor": "rgb(17,17,17)",
          "plot_bgcolor": "rgb(17,17,17)",
          "polar": {
           "bgcolor": "rgb(17,17,17)",
           "angularaxis": {
            "gridcolor": "#506784",
            "linecolor": "#506784",
            "ticks": ""
           },
           "radialaxis": {
            "gridcolor": "#506784",
            "linecolor": "#506784",
            "ticks": ""
           }
          },
          "ternary": {
           "bgcolor": "rgb(17,17,17)",
           "aaxis": {
            "gridcolor": "#506784",
            "linecolor": "#506784",
            "ticks": ""
           },
           "baxis": {
            "gridcolor": "#506784",
            "linecolor": "#506784",
            "ticks": ""
           },
           "caxis": {
            "gridcolor": "#506784",
            "linecolor": "#506784",
            "ticks": ""
           }
          },
          "coloraxis": {
           "colorbar": {
            "outlinewidth": 0,
            "ticks": ""
           }
          },
          "colorscale": {
           "sequential": [
            [
             0.0,
             "#0d0887"
            ],
            [
             0.1111111111111111,
             "#46039f"
            ],
            [
             0.2222222222222222,
             "#7201a8"
            ],
            [
             0.3333333333333333,
             "#9c179e"
            ],
            [
             0.4444444444444444,
             "#bd3786"
            ],
            [
             0.5555555555555556,
             "#d8576b"
            ],
            [
             0.6666666666666666,
             "#ed7953"
            ],
            [
             0.7777777777777778,
             "#fb9f3a"
            ],
            [
             0.8888888888888888,
             "#fdca26"
            ],
            [
             1.0,
             "#f0f921"
            ]
           ],
           "sequentialminus": [
            [
             0.0,
             "#0d0887"
            ],
            [
             0.1111111111111111,
             "#46039f"
            ],
            [
             0.2222222222222222,
             "#7201a8"
            ],
            [
             0.3333333333333333,
             "#9c179e"
            ],
            [
             0.4444444444444444,
             "#bd3786"
            ],
            [
             0.5555555555555556,
             "#d8576b"
            ],
            [
             0.6666666666666666,
             "#ed7953"
            ],
            [
             0.7777777777777778,
             "#fb9f3a"
            ],
            [
             0.8888888888888888,
             "#fdca26"
            ],
            [
             1.0,
             "#f0f921"
            ]
           ],
           "diverging": [
            [
             0,
             "#8e0152"
            ],
            [
             0.1,
             "#c51b7d"
            ],
            [
             0.2,
             "#de77ae"
            ],
            [
             0.3,
             "#f1b6da"
            ],
            [
             0.4,
             "#fde0ef"
            ],
            [
             0.5,
             "#f7f7f7"
            ],
            [
             0.6,
             "#e6f5d0"
            ],
            [
             0.7,
             "#b8e186"
            ],
            [
             0.8,
             "#7fbc41"
            ],
            [
             0.9,
             "#4d9221"
            ],
            [
             1,
             "#276419"
            ]
           ]
          },
          "xaxis": {
           "gridcolor": "#283442",
           "linecolor": "#506784",
           "ticks": "",
           "title": {
            "standoff": 15
           },
           "zerolinecolor": "#283442",
           "automargin": true,
           "zerolinewidth": 2
          },
          "yaxis": {
           "gridcolor": "#283442",
           "linecolor": "#506784",
           "ticks": "",
           "title": {
            "standoff": 15
           },
           "zerolinecolor": "#283442",
           "automargin": true,
           "zerolinewidth": 2
          },
          "scene": {
           "xaxis": {
            "backgroundcolor": "rgb(17,17,17)",
            "gridcolor": "#506784",
            "linecolor": "#506784",
            "showbackground": true,
            "ticks": "",
            "zerolinecolor": "#C8D4E3",
            "gridwidth": 2
           },
           "yaxis": {
            "backgroundcolor": "rgb(17,17,17)",
            "gridcolor": "#506784",
            "linecolor": "#506784",
            "showbackground": true,
            "ticks": "",
            "zerolinecolor": "#C8D4E3",
            "gridwidth": 2
           },
           "zaxis": {
            "backgroundcolor": "rgb(17,17,17)",
            "gridcolor": "#506784",
            "linecolor": "#506784",
            "showbackground": true,
            "ticks": "",
            "zerolinecolor": "#C8D4E3",
            "gridwidth": 2
           }
          },
          "shapedefaults": {
           "line": {
            "color": "#f2f5fa"
           }
          },
          "annotationdefaults": {
           "arrowcolor": "#f2f5fa",
           "arrowhead": 0,
           "arrowwidth": 1
          },
          "geo": {
           "bgcolor": "rgb(17,17,17)",
           "landcolor": "rgb(17,17,17)",
           "subunitcolor": "#506784",
           "showland": true,
           "showlakes": true,
           "lakecolor": "rgb(17,17,17)"
          },
          "title": {
           "x": 0.05
          },
          "updatemenudefaults": {
           "bgcolor": "#506784",
           "borderwidth": 0
          },
          "sliderdefaults": {
           "bgcolor": "#C8D4E3",
           "borderwidth": 1,
           "bordercolor": "rgb(17,17,17)",
           "tickwidth": 0
          },
          "mapbox": {
           "style": "dark"
          }
         }
        },
        "xaxis": {
         "anchor": "y",
         "domain": [
          0.0,
          0.7363
         ],
         "title": {
          "text": "f1"
         }
        },
        "yaxis": {
         "anchor": "x",
         "domain": [
          0.0,
          1.0
         ],
         "title": {
          "text": "eventF1"
         }
        },
        "xaxis2": {
         "anchor": "y2",
         "domain": [
          0.7413,
          1.0
         ],
         "matches": "x2",
         "showticklabels": false,
         "showline": false,
         "ticks": "",
         "showgrid": true
        },
        "yaxis2": {
         "anchor": "x2",
         "domain": [
          0.0,
          1.0
         ],
         "matches": "y",
         "showticklabels": false,
         "showgrid": true
        },
        "legend": {
         "title": {
          "text": "test"
         },
         "tracegroupgap": 0
        },
        "margin": {
         "t": 60
        },
        "barmode": "overlay"
       },
       "config": {
        "plotlyServerURL": "https://plot.ly"
       }
      },
      "text/html": [
       "<div>                            <div id=\"911ea16e-24f1-4685-b608-280fc9d09c8b\" class=\"plotly-graph-div\" style=\"height:525px; width:100%;\"></div>            <script type=\"text/javascript\">                require([\"plotly\"], function(Plotly) {                    window.PLOTLYENV=window.PLOTLYENV || {};                                    if (document.getElementById(\"911ea16e-24f1-4685-b608-280fc9d09c8b\")) {                    Plotly.newPlot(                        \"911ea16e-24f1-4685-b608-280fc9d09c8b\",                        [{\"hovertemplate\":\"<b>%{hovertext}</b><br><br>test=0002<br>f1=%{x}<br>eventF1=%{y}<extra></extra>\",\"hovertext\":[\"a4659423-83e4-4da3-91b5-177fa8bc17fe\"],\"legendgroup\":\"0002\",\"marker\":{\"color\":\"#636efa\",\"symbol\":\"circle\"},\"mode\":\"markers\",\"name\":\"0002\",\"orientation\":\"v\",\"showlegend\":true,\"x\":[0.5671273833565003],\"xaxis\":\"x\",\"y\":[0.6370757180156658],\"yaxis\":\"y\",\"type\":\"scatter\"},{\"alignmentgroup\":\"True\",\"bingroup\":\"y\",\"hovertemplate\":\"test=0002<br>eventF1=%{y}<br>count=%{x}<extra></extra>\",\"legendgroup\":\"0002\",\"marker\":{\"color\":\"#636efa\"},\"name\":\"0002\",\"offsetgroup\":\"0002\",\"opacity\":0.5,\"showlegend\":false,\"xaxis\":\"x2\",\"y\":[0.6370757180156658],\"yaxis\":\"y2\",\"type\":\"histogram\"},{\"hovertemplate\":\"<b>%{hovertext}</b><br><br>test=0003<br>f1=%{x}<br>eventF1=%{y}<extra></extra>\",\"hovertext\":[\"ad3be387-5be4-4e8e-b57d-072003b617d3\"],\"legendgroup\":\"0003\",\"marker\":{\"color\":\"#EF553B\",\"symbol\":\"circle\"},\"mode\":\"markers\",\"name\":\"0003\",\"orientation\":\"v\",\"showlegend\":true,\"x\":[0.7790010184492533],\"xaxis\":\"x\",\"y\":[0.8481081081081081],\"yaxis\":\"y\",\"type\":\"scatter\"},{\"alignmentgroup\":\"True\",\"bingroup\":\"y\",\"hovertemplate\":\"test=0003<br>eventF1=%{y}<br>count=%{x}<extra></extra>\",\"legendgroup\":\"0003\",\"marker\":{\"color\":\"#EF553B\"},\"name\":\"0003\",\"offsetgroup\":\"0003\",\"opacity\":0.5,\"showlegend\":false,\"xaxis\":\"x2\",\"y\":[0.8481081081081081],\"yaxis\":\"y2\",\"type\":\"histogram\"},{\"hovertemplate\":\"<b>%{hovertext}</b><br><br>test=0004<br>f1=%{x}<br>eventF1=%{y}<extra></extra>\",\"hovertext\":[\"8bcbbc8b-b83e-4b97-8f7c-0dd0760680e7\"],\"legendgroup\":\"0004\",\"marker\":{\"color\":\"#00cc96\",\"symbol\":\"circle\"},\"mode\":\"markers\",\"name\":\"0004\",\"orientation\":\"v\",\"showlegend\":true,\"x\":[0.7137028201260734],\"xaxis\":\"x\",\"y\":[0.7785888077858881],\"yaxis\":\"y\",\"type\":\"scatter\"},{\"alignmentgroup\":\"True\",\"bingroup\":\"y\",\"hovertemplate\":\"test=0004<br>eventF1=%{y}<br>count=%{x}<extra></extra>\",\"legendgroup\":\"0004\",\"marker\":{\"color\":\"#00cc96\"},\"name\":\"0004\",\"offsetgroup\":\"0004\",\"opacity\":0.5,\"showlegend\":false,\"xaxis\":\"x2\",\"y\":[0.7785888077858881],\"yaxis\":\"y2\",\"type\":\"histogram\"},{\"hovertemplate\":\"<b>%{hovertext}</b><br><br>test=0005<br>f1=%{x}<br>eventF1=%{y}<extra></extra>\",\"hovertext\":[\"f88ed731-de3a-4c9a-90d5-04d1fcd93d45\"],\"legendgroup\":\"0005\",\"marker\":{\"color\":\"#ab63fa\",\"symbol\":\"circle\"},\"mode\":\"markers\",\"name\":\"0005\",\"orientation\":\"v\",\"showlegend\":true,\"x\":[0.6328084589383022],\"xaxis\":\"x\",\"y\":[0.6525054466230937],\"yaxis\":\"y\",\"type\":\"scatter\"},{\"alignmentgroup\":\"True\",\"bingroup\":\"y\",\"hovertemplate\":\"test=0005<br>eventF1=%{y}<br>count=%{x}<extra></extra>\",\"legendgroup\":\"0005\",\"marker\":{\"color\":\"#ab63fa\"},\"name\":\"0005\",\"offsetgroup\":\"0005\",\"opacity\":0.5,\"showlegend\":false,\"xaxis\":\"x2\",\"y\":[0.6525054466230937],\"yaxis\":\"y2\",\"type\":\"histogram\"},{\"hovertemplate\":\"<b>%{hovertext}</b><br><br>test=0006<br>f1=%{x}<br>eventF1=%{y}<extra></extra>\",\"hovertext\":[\"16a691da-d735-4ad2-953c-db2678980107\"],\"legendgroup\":\"0006\",\"marker\":{\"color\":\"#FFA15A\",\"symbol\":\"circle\"},\"mode\":\"markers\",\"name\":\"0006\",\"orientation\":\"v\",\"showlegend\":true,\"x\":[0.6513842149080121],\"xaxis\":\"x\",\"y\":[0.6848030018761726],\"yaxis\":\"y\",\"type\":\"scatter\"},{\"alignmentgroup\":\"True\",\"bingroup\":\"y\",\"hovertemplate\":\"test=0006<br>eventF1=%{y}<br>count=%{x}<extra></extra>\",\"legendgroup\":\"0006\",\"marker\":{\"color\":\"#FFA15A\"},\"name\":\"0006\",\"offsetgroup\":\"0006\",\"opacity\":0.5,\"showlegend\":false,\"xaxis\":\"x2\",\"y\":[0.6848030018761726],\"yaxis\":\"y2\",\"type\":\"histogram\"},{\"hovertemplate\":\"<b>%{hovertext}</b><br><br>test=0007<br>f1=%{x}<br>eventF1=%{y}<extra></extra>\",\"hovertext\":[\"d91f41ff-0308-46df-9bcd-67d46f377777\"],\"legendgroup\":\"0007\",\"marker\":{\"color\":\"#19d3f3\",\"symbol\":\"circle\"},\"mode\":\"markers\",\"name\":\"0007\",\"orientation\":\"v\",\"showlegend\":true,\"x\":[0.5932963339150734],\"xaxis\":\"x\",\"y\":[0.6557539682539683],\"yaxis\":\"y\",\"type\":\"scatter\"},{\"alignmentgroup\":\"True\",\"bingroup\":\"y\",\"hovertemplate\":\"test=0007<br>eventF1=%{y}<br>count=%{x}<extra></extra>\",\"legendgroup\":\"0007\",\"marker\":{\"color\":\"#19d3f3\"},\"name\":\"0007\",\"offsetgroup\":\"0007\",\"opacity\":0.5,\"showlegend\":false,\"xaxis\":\"x2\",\"y\":[0.6557539682539683],\"yaxis\":\"y2\",\"type\":\"histogram\"},{\"hovertemplate\":\"<b>%{hovertext}</b><br><br>test=0008<br>f1=%{x}<br>eventF1=%{y}<extra></extra>\",\"hovertext\":[\"a1eacac2-9e31-437a-9350-110d2ef2f1a5\"],\"legendgroup\":\"0008\",\"marker\":{\"color\":\"#FF6692\",\"symbol\":\"circle\"},\"mode\":\"markers\",\"name\":\"0008\",\"orientation\":\"v\",\"showlegend\":true,\"x\":[0.42967054645886765],\"xaxis\":\"x\",\"y\":[0.45454545454545453],\"yaxis\":\"y\",\"type\":\"scatter\"},{\"alignmentgroup\":\"True\",\"bingroup\":\"y\",\"hovertemplate\":\"test=0008<br>eventF1=%{y}<br>count=%{x}<extra></extra>\",\"legendgroup\":\"0008\",\"marker\":{\"color\":\"#FF6692\"},\"name\":\"0008\",\"offsetgroup\":\"0008\",\"opacity\":0.5,\"showlegend\":false,\"xaxis\":\"x2\",\"y\":[0.45454545454545453],\"yaxis\":\"y2\",\"type\":\"histogram\"},{\"fill\":\"toself\",\"mode\":\"lines\",\"name\":\"identity\",\"x\":[0.5671273833565003,0.7790010184492533,0.7137028201260734,0.6328084589383022,0.6513842149080121,0.5932963339150734,0.42967054645886765],\"y\":[0.5671273833565003,0.7790010184492533,0.7137028201260734,0.6328084589383022,0.6513842149080121,0.5932963339150734,0.42967054645886765],\"type\":\"scatter\"}],                        {\"template\":{\"data\":{\"histogram2dcontour\":[{\"type\":\"histogram2dcontour\",\"colorbar\":{\"outlinewidth\":0,\"ticks\":\"\"},\"colorscale\":[[0.0,\"#0d0887\"],[0.1111111111111111,\"#46039f\"],[0.2222222222222222,\"#7201a8\"],[0.3333333333333333,\"#9c179e\"],[0.4444444444444444,\"#bd3786\"],[0.5555555555555556,\"#d8576b\"],[0.6666666666666666,\"#ed7953\"],[0.7777777777777778,\"#fb9f3a\"],[0.8888888888888888,\"#fdca26\"],[1.0,\"#f0f921\"]]}],\"choropleth\":[{\"type\":\"choropleth\",\"colorbar\":{\"outlinewidth\":0,\"ticks\":\"\"}}],\"histogram2d\":[{\"type\":\"histogram2d\",\"colorbar\":{\"outlinewidth\":0,\"ticks\":\"\"},\"colorscale\":[[0.0,\"#0d0887\"],[0.1111111111111111,\"#46039f\"],[0.2222222222222222,\"#7201a8\"],[0.3333333333333333,\"#9c179e\"],[0.4444444444444444,\"#bd3786\"],[0.5555555555555556,\"#d8576b\"],[0.6666666666666666,\"#ed7953\"],[0.7777777777777778,\"#fb9f3a\"],[0.8888888888888888,\"#fdca26\"],[1.0,\"#f0f921\"]]}],\"heatmap\":[{\"type\":\"heatmap\",\"colorbar\":{\"outlinewidth\":0,\"ticks\":\"\"},\"colorscale\":[[0.0,\"#0d0887\"],[0.1111111111111111,\"#46039f\"],[0.2222222222222222,\"#7201a8\"],[0.3333333333333333,\"#9c179e\"],[0.4444444444444444,\"#bd3786\"],[0.5555555555555556,\"#d8576b\"],[0.6666666666666666,\"#ed7953\"],[0.7777777777777778,\"#fb9f3a\"],[0.8888888888888888,\"#fdca26\"],[1.0,\"#f0f921\"]]}],\"heatmapgl\":[{\"type\":\"heatmapgl\",\"colorbar\":{\"outlinewidth\":0,\"ticks\":\"\"},\"colorscale\":[[0.0,\"#0d0887\"],[0.1111111111111111,\"#46039f\"],[0.2222222222222222,\"#7201a8\"],[0.3333333333333333,\"#9c179e\"],[0.4444444444444444,\"#bd3786\"],[0.5555555555555556,\"#d8576b\"],[0.6666666666666666,\"#ed7953\"],[0.7777777777777778,\"#fb9f3a\"],[0.8888888888888888,\"#fdca26\"],[1.0,\"#f0f921\"]]}],\"contourcarpet\":[{\"type\":\"contourcarpet\",\"colorbar\":{\"outlinewidth\":0,\"ticks\":\"\"}}],\"contour\":[{\"type\":\"contour\",\"colorbar\":{\"outlinewidth\":0,\"ticks\":\"\"},\"colorscale\":[[0.0,\"#0d0887\"],[0.1111111111111111,\"#46039f\"],[0.2222222222222222,\"#7201a8\"],[0.3333333333333333,\"#9c179e\"],[0.4444444444444444,\"#bd3786\"],[0.5555555555555556,\"#d8576b\"],[0.6666666666666666,\"#ed7953\"],[0.7777777777777778,\"#fb9f3a\"],[0.8888888888888888,\"#fdca26\"],[1.0,\"#f0f921\"]]}],\"surface\":[{\"type\":\"surface\",\"colorbar\":{\"outlinewidth\":0,\"ticks\":\"\"},\"colorscale\":[[0.0,\"#0d0887\"],[0.1111111111111111,\"#46039f\"],[0.2222222222222222,\"#7201a8\"],[0.3333333333333333,\"#9c179e\"],[0.4444444444444444,\"#bd3786\"],[0.5555555555555556,\"#d8576b\"],[0.6666666666666666,\"#ed7953\"],[0.7777777777777778,\"#fb9f3a\"],[0.8888888888888888,\"#fdca26\"],[1.0,\"#f0f921\"]]}],\"mesh3d\":[{\"type\":\"mesh3d\",\"colorbar\":{\"outlinewidth\":0,\"ticks\":\"\"}}],\"scatter\":[{\"marker\":{\"line\":{\"color\":\"#283442\"}},\"type\":\"scatter\"}],\"parcoords\":[{\"type\":\"parcoords\",\"line\":{\"colorbar\":{\"outlinewidth\":0,\"ticks\":\"\"}}}],\"scatterpolargl\":[{\"type\":\"scatterpolargl\",\"marker\":{\"colorbar\":{\"outlinewidth\":0,\"ticks\":\"\"}}}],\"bar\":[{\"error_x\":{\"color\":\"#f2f5fa\"},\"error_y\":{\"color\":\"#f2f5fa\"},\"marker\":{\"line\":{\"color\":\"rgb(17,17,17)\",\"width\":0.5},\"pattern\":{\"fillmode\":\"overlay\",\"size\":10,\"solidity\":0.2}},\"type\":\"bar\"}],\"scattergeo\":[{\"type\":\"scattergeo\",\"marker\":{\"colorbar\":{\"outlinewidth\":0,\"ticks\":\"\"}}}],\"scatterpolar\":[{\"type\":\"scatterpolar\",\"marker\":{\"colorbar\":{\"outlinewidth\":0,\"ticks\":\"\"}}}],\"histogram\":[{\"marker\":{\"pattern\":{\"fillmode\":\"overlay\",\"size\":10,\"solidity\":0.2}},\"type\":\"histogram\"}],\"scattergl\":[{\"marker\":{\"line\":{\"color\":\"#283442\"}},\"type\":\"scattergl\"}],\"scatter3d\":[{\"type\":\"scatter3d\",\"line\":{\"colorbar\":{\"outlinewidth\":0,\"ticks\":\"\"}},\"marker\":{\"colorbar\":{\"outlinewidth\":0,\"ticks\":\"\"}}}],\"scattermapbox\":[{\"type\":\"scattermapbox\",\"marker\":{\"colorbar\":{\"outlinewidth\":0,\"ticks\":\"\"}}}],\"scatterternary\":[{\"type\":\"scatterternary\",\"marker\":{\"colorbar\":{\"outlinewidth\":0,\"ticks\":\"\"}}}],\"scattercarpet\":[{\"type\":\"scattercarpet\",\"marker\":{\"colorbar\":{\"outlinewidth\":0,\"ticks\":\"\"}}}],\"carpet\":[{\"aaxis\":{\"endlinecolor\":\"#A2B1C6\",\"gridcolor\":\"#506784\",\"linecolor\":\"#506784\",\"minorgridcolor\":\"#506784\",\"startlinecolor\":\"#A2B1C6\"},\"baxis\":{\"endlinecolor\":\"#A2B1C6\",\"gridcolor\":\"#506784\",\"linecolor\":\"#506784\",\"minorgridcolor\":\"#506784\",\"startlinecolor\":\"#A2B1C6\"},\"type\":\"carpet\"}],\"table\":[{\"cells\":{\"fill\":{\"color\":\"#506784\"},\"line\":{\"color\":\"rgb(17,17,17)\"}},\"header\":{\"fill\":{\"color\":\"#2a3f5f\"},\"line\":{\"color\":\"rgb(17,17,17)\"}},\"type\":\"table\"}],\"barpolar\":[{\"marker\":{\"line\":{\"color\":\"rgb(17,17,17)\",\"width\":0.5},\"pattern\":{\"fillmode\":\"overlay\",\"size\":10,\"solidity\":0.2}},\"type\":\"barpolar\"}],\"pie\":[{\"automargin\":true,\"type\":\"pie\"}]},\"layout\":{\"autotypenumbers\":\"strict\",\"colorway\":[\"#636efa\",\"#EF553B\",\"#00cc96\",\"#ab63fa\",\"#FFA15A\",\"#19d3f3\",\"#FF6692\",\"#B6E880\",\"#FF97FF\",\"#FECB52\"],\"font\":{\"color\":\"#f2f5fa\"},\"hovermode\":\"closest\",\"hoverlabel\":{\"align\":\"left\"},\"paper_bgcolor\":\"rgb(17,17,17)\",\"plot_bgcolor\":\"rgb(17,17,17)\",\"polar\":{\"bgcolor\":\"rgb(17,17,17)\",\"angularaxis\":{\"gridcolor\":\"#506784\",\"linecolor\":\"#506784\",\"ticks\":\"\"},\"radialaxis\":{\"gridcolor\":\"#506784\",\"linecolor\":\"#506784\",\"ticks\":\"\"}},\"ternary\":{\"bgcolor\":\"rgb(17,17,17)\",\"aaxis\":{\"gridcolor\":\"#506784\",\"linecolor\":\"#506784\",\"ticks\":\"\"},\"baxis\":{\"gridcolor\":\"#506784\",\"linecolor\":\"#506784\",\"ticks\":\"\"},\"caxis\":{\"gridcolor\":\"#506784\",\"linecolor\":\"#506784\",\"ticks\":\"\"}},\"coloraxis\":{\"colorbar\":{\"outlinewidth\":0,\"ticks\":\"\"}},\"colorscale\":{\"sequential\":[[0.0,\"#0d0887\"],[0.1111111111111111,\"#46039f\"],[0.2222222222222222,\"#7201a8\"],[0.3333333333333333,\"#9c179e\"],[0.4444444444444444,\"#bd3786\"],[0.5555555555555556,\"#d8576b\"],[0.6666666666666666,\"#ed7953\"],[0.7777777777777778,\"#fb9f3a\"],[0.8888888888888888,\"#fdca26\"],[1.0,\"#f0f921\"]],\"sequentialminus\":[[0.0,\"#0d0887\"],[0.1111111111111111,\"#46039f\"],[0.2222222222222222,\"#7201a8\"],[0.3333333333333333,\"#9c179e\"],[0.4444444444444444,\"#bd3786\"],[0.5555555555555556,\"#d8576b\"],[0.6666666666666666,\"#ed7953\"],[0.7777777777777778,\"#fb9f3a\"],[0.8888888888888888,\"#fdca26\"],[1.0,\"#f0f921\"]],\"diverging\":[[0,\"#8e0152\"],[0.1,\"#c51b7d\"],[0.2,\"#de77ae\"],[0.3,\"#f1b6da\"],[0.4,\"#fde0ef\"],[0.5,\"#f7f7f7\"],[0.6,\"#e6f5d0\"],[0.7,\"#b8e186\"],[0.8,\"#7fbc41\"],[0.9,\"#4d9221\"],[1,\"#276419\"]]},\"xaxis\":{\"gridcolor\":\"#283442\",\"linecolor\":\"#506784\",\"ticks\":\"\",\"title\":{\"standoff\":15},\"zerolinecolor\":\"#283442\",\"automargin\":true,\"zerolinewidth\":2},\"yaxis\":{\"gridcolor\":\"#283442\",\"linecolor\":\"#506784\",\"ticks\":\"\",\"title\":{\"standoff\":15},\"zerolinecolor\":\"#283442\",\"automargin\":true,\"zerolinewidth\":2},\"scene\":{\"xaxis\":{\"backgroundcolor\":\"rgb(17,17,17)\",\"gridcolor\":\"#506784\",\"linecolor\":\"#506784\",\"showbackground\":true,\"ticks\":\"\",\"zerolinecolor\":\"#C8D4E3\",\"gridwidth\":2},\"yaxis\":{\"backgroundcolor\":\"rgb(17,17,17)\",\"gridcolor\":\"#506784\",\"linecolor\":\"#506784\",\"showbackground\":true,\"ticks\":\"\",\"zerolinecolor\":\"#C8D4E3\",\"gridwidth\":2},\"zaxis\":{\"backgroundcolor\":\"rgb(17,17,17)\",\"gridcolor\":\"#506784\",\"linecolor\":\"#506784\",\"showbackground\":true,\"ticks\":\"\",\"zerolinecolor\":\"#C8D4E3\",\"gridwidth\":2}},\"shapedefaults\":{\"line\":{\"color\":\"#f2f5fa\"}},\"annotationdefaults\":{\"arrowcolor\":\"#f2f5fa\",\"arrowhead\":0,\"arrowwidth\":1},\"geo\":{\"bgcolor\":\"rgb(17,17,17)\",\"landcolor\":\"rgb(17,17,17)\",\"subunitcolor\":\"#506784\",\"showland\":true,\"showlakes\":true,\"lakecolor\":\"rgb(17,17,17)\"},\"title\":{\"x\":0.05},\"updatemenudefaults\":{\"bgcolor\":\"#506784\",\"borderwidth\":0},\"sliderdefaults\":{\"bgcolor\":\"#C8D4E3\",\"borderwidth\":1,\"bordercolor\":\"rgb(17,17,17)\",\"tickwidth\":0},\"mapbox\":{\"style\":\"dark\"}}},\"xaxis\":{\"anchor\":\"y\",\"domain\":[0.0,0.7363],\"title\":{\"text\":\"f1\"}},\"yaxis\":{\"anchor\":\"x\",\"domain\":[0.0,1.0],\"title\":{\"text\":\"eventF1\"}},\"xaxis2\":{\"anchor\":\"y2\",\"domain\":[0.7413,1.0],\"matches\":\"x2\",\"showticklabels\":false,\"showline\":false,\"ticks\":\"\",\"showgrid\":true},\"yaxis2\":{\"anchor\":\"x2\",\"domain\":[0.0,1.0],\"matches\":\"y\",\"showticklabels\":false,\"showgrid\":true},\"legend\":{\"title\":{\"text\":\"test\"},\"tracegroupgap\":0},\"margin\":{\"t\":60},\"barmode\":\"overlay\"},                        {\"responsive\": true}                    ).then(function(){\n",
       "                            \n",
       "var gd = document.getElementById('911ea16e-24f1-4685-b608-280fc9d09c8b');\n",
       "var x = new MutationObserver(function (mutations, observer) {{\n",
       "        var display = window.getComputedStyle(gd).display;\n",
       "        if (!display || display === 'none') {{\n",
       "            console.log([gd, 'removed!']);\n",
       "            Plotly.purge(gd);\n",
       "            observer.disconnect();\n",
       "        }}\n",
       "}});\n",
       "\n",
       "// Listen for the removal of the full notebook cells\n",
       "var notebookContainer = gd.closest('#notebook-container');\n",
       "if (notebookContainer) {{\n",
       "    x.observe(notebookContainer, {childList: true});\n",
       "}}\n",
       "\n",
       "// Listen for the clearing of the current output cell\n",
       "var outputEl = gd.closest('.output');\n",
       "if (outputEl) {{\n",
       "    x.observe(outputEl, {childList: true});\n",
       "}}\n",
       "\n",
       "                        })                };                });            </script>        </div>"
      ]
     },
     "metadata": {},
     "output_type": "display_data"
    }
   ],
   "execution_count": 59
  },
  {
   "cell_type": "code",
   "metadata": {
    "ExecuteTime": {
     "end_time": "2024-12-12T12:14:59.236887Z",
     "start_time": "2024-12-12T12:14:59.190845Z"
    }
   },
   "source": [
    "fig=px.scatter(experimentModels,x='rawF1',y='f1',color='test',hover_name='modelId', marginal_y=\"histogram\")\n",
    "fig.add_trace(\n",
    "    go.Scatter(x=experimentModels['rawF1'], y=experimentModels['rawF1'], name=\"identity\", mode='lines',fill=\"toself\")\n",
    ")\n",
    "fig.show()"
   ],
   "outputs": [
    {
     "data": {
      "application/vnd.plotly.v1+json": {
       "data": [
        {
         "hovertemplate": "<b>%{hovertext}</b><br><br>test=0002<br>rawF1=%{x}<br>f1=%{y}<extra></extra>",
         "hovertext": [
          "a4659423-83e4-4da3-91b5-177fa8bc17fe"
         ],
         "legendgroup": "0002",
         "marker": {
          "color": "#636efa",
          "symbol": "circle"
         },
         "mode": "markers",
         "name": "0002",
         "orientation": "v",
         "showlegend": true,
         "x": [
          0.5671680700748195
         ],
         "xaxis": "x",
         "y": [
          0.5671273833565003
         ],
         "yaxis": "y",
         "type": "scatter"
        },
        {
         "alignmentgroup": "True",
         "bingroup": "y",
         "hovertemplate": "test=0002<br>f1=%{y}<br>count=%{x}<extra></extra>",
         "legendgroup": "0002",
         "marker": {
          "color": "#636efa"
         },
         "name": "0002",
         "offsetgroup": "0002",
         "opacity": 0.5,
         "showlegend": false,
         "xaxis": "x2",
         "y": [
          0.5671273833565003
         ],
         "yaxis": "y2",
         "type": "histogram"
        },
        {
         "hovertemplate": "<b>%{hovertext}</b><br><br>test=0003<br>rawF1=%{x}<br>f1=%{y}<extra></extra>",
         "hovertext": [
          "ad3be387-5be4-4e8e-b57d-072003b617d3"
         ],
         "legendgroup": "0003",
         "marker": {
          "color": "#EF553B",
          "symbol": "circle"
         },
         "mode": "markers",
         "name": "0003",
         "orientation": "v",
         "showlegend": true,
         "x": [
          0.7772184246408351
         ],
         "xaxis": "x",
         "y": [
          0.7790010184492533
         ],
         "yaxis": "y",
         "type": "scatter"
        },
        {
         "alignmentgroup": "True",
         "bingroup": "y",
         "hovertemplate": "test=0003<br>f1=%{y}<br>count=%{x}<extra></extra>",
         "legendgroup": "0003",
         "marker": {
          "color": "#EF553B"
         },
         "name": "0003",
         "offsetgroup": "0003",
         "opacity": 0.5,
         "showlegend": false,
         "xaxis": "x2",
         "y": [
          0.7790010184492533
         ],
         "yaxis": "y2",
         "type": "histogram"
        },
        {
         "hovertemplate": "<b>%{hovertext}</b><br><br>test=0004<br>rawF1=%{x}<br>f1=%{y}<extra></extra>",
         "hovertext": [
          "8bcbbc8b-b83e-4b97-8f7c-0dd0760680e7"
         ],
         "legendgroup": "0004",
         "marker": {
          "color": "#00cc96",
          "symbol": "circle"
         },
         "mode": "markers",
         "name": "0004",
         "orientation": "v",
         "showlegend": true,
         "x": [
          0.7034290620665637
         ],
         "xaxis": "x",
         "y": [
          0.7137028201260734
         ],
         "yaxis": "y",
         "type": "scatter"
        },
        {
         "alignmentgroup": "True",
         "bingroup": "y",
         "hovertemplate": "test=0004<br>f1=%{y}<br>count=%{x}<extra></extra>",
         "legendgroup": "0004",
         "marker": {
          "color": "#00cc96"
         },
         "name": "0004",
         "offsetgroup": "0004",
         "opacity": 0.5,
         "showlegend": false,
         "xaxis": "x2",
         "y": [
          0.7137028201260734
         ],
         "yaxis": "y2",
         "type": "histogram"
        },
        {
         "hovertemplate": "<b>%{hovertext}</b><br><br>test=0005<br>rawF1=%{x}<br>f1=%{y}<extra></extra>",
         "hovertext": [
          "f88ed731-de3a-4c9a-90d5-04d1fcd93d45"
         ],
         "legendgroup": "0005",
         "marker": {
          "color": "#ab63fa",
          "symbol": "circle"
         },
         "mode": "markers",
         "name": "0005",
         "orientation": "v",
         "showlegend": true,
         "x": [
          0.6244751443912869
         ],
         "xaxis": "x",
         "y": [
          0.6328084589383022
         ],
         "yaxis": "y",
         "type": "scatter"
        },
        {
         "alignmentgroup": "True",
         "bingroup": "y",
         "hovertemplate": "test=0005<br>f1=%{y}<br>count=%{x}<extra></extra>",
         "legendgroup": "0005",
         "marker": {
          "color": "#ab63fa"
         },
         "name": "0005",
         "offsetgroup": "0005",
         "opacity": 0.5,
         "showlegend": false,
         "xaxis": "x2",
         "y": [
          0.6328084589383022
         ],
         "yaxis": "y2",
         "type": "histogram"
        },
        {
         "hovertemplate": "<b>%{hovertext}</b><br><br>test=0006<br>rawF1=%{x}<br>f1=%{y}<extra></extra>",
         "hovertext": [
          "16a691da-d735-4ad2-953c-db2678980107"
         ],
         "legendgroup": "0006",
         "marker": {
          "color": "#FFA15A",
          "symbol": "circle"
         },
         "mode": "markers",
         "name": "0006",
         "orientation": "v",
         "showlegend": true,
         "x": [
          0.6343285281592311
         ],
         "xaxis": "x",
         "y": [
          0.6513842149080121
         ],
         "yaxis": "y",
         "type": "scatter"
        },
        {
         "alignmentgroup": "True",
         "bingroup": "y",
         "hovertemplate": "test=0006<br>f1=%{y}<br>count=%{x}<extra></extra>",
         "legendgroup": "0006",
         "marker": {
          "color": "#FFA15A"
         },
         "name": "0006",
         "offsetgroup": "0006",
         "opacity": 0.5,
         "showlegend": false,
         "xaxis": "x2",
         "y": [
          0.6513842149080121
         ],
         "yaxis": "y2",
         "type": "histogram"
        },
        {
         "hovertemplate": "<b>%{hovertext}</b><br><br>test=0007<br>rawF1=%{x}<br>f1=%{y}<extra></extra>",
         "hovertext": [
          "d91f41ff-0308-46df-9bcd-67d46f377777"
         ],
         "legendgroup": "0007",
         "marker": {
          "color": "#19d3f3",
          "symbol": "circle"
         },
         "mode": "markers",
         "name": "0007",
         "orientation": "v",
         "showlegend": true,
         "x": [
          0.5852889197109684
         ],
         "xaxis": "x",
         "y": [
          0.5932963339150734
         ],
         "yaxis": "y",
         "type": "scatter"
        },
        {
         "alignmentgroup": "True",
         "bingroup": "y",
         "hovertemplate": "test=0007<br>f1=%{y}<br>count=%{x}<extra></extra>",
         "legendgroup": "0007",
         "marker": {
          "color": "#19d3f3"
         },
         "name": "0007",
         "offsetgroup": "0007",
         "opacity": 0.5,
         "showlegend": false,
         "xaxis": "x2",
         "y": [
          0.5932963339150734
         ],
         "yaxis": "y2",
         "type": "histogram"
        },
        {
         "hovertemplate": "<b>%{hovertext}</b><br><br>test=0008<br>rawF1=%{x}<br>f1=%{y}<extra></extra>",
         "hovertext": [
          "a1eacac2-9e31-437a-9350-110d2ef2f1a5"
         ],
         "legendgroup": "0008",
         "marker": {
          "color": "#FF6692",
          "symbol": "circle"
         },
         "mode": "markers",
         "name": "0008",
         "orientation": "v",
         "showlegend": true,
         "x": [
          0.44045332308874374
         ],
         "xaxis": "x",
         "y": [
          0.42967054645886765
         ],
         "yaxis": "y",
         "type": "scatter"
        },
        {
         "alignmentgroup": "True",
         "bingroup": "y",
         "hovertemplate": "test=0008<br>f1=%{y}<br>count=%{x}<extra></extra>",
         "legendgroup": "0008",
         "marker": {
          "color": "#FF6692"
         },
         "name": "0008",
         "offsetgroup": "0008",
         "opacity": 0.5,
         "showlegend": false,
         "xaxis": "x2",
         "y": [
          0.42967054645886765
         ],
         "yaxis": "y2",
         "type": "histogram"
        },
        {
         "fill": "toself",
         "mode": "lines",
         "name": "identity",
         "x": [
          0.5671680700748195,
          0.7772184246408351,
          0.7034290620665637,
          0.6244751443912869,
          0.6343285281592311,
          0.5852889197109684,
          0.44045332308874374
         ],
         "y": [
          0.5671680700748195,
          0.7772184246408351,
          0.7034290620665637,
          0.6244751443912869,
          0.6343285281592311,
          0.5852889197109684,
          0.44045332308874374
         ],
         "type": "scatter"
        }
       ],
       "layout": {
        "template": {
         "data": {
          "histogram2dcontour": [
           {
            "type": "histogram2dcontour",
            "colorbar": {
             "outlinewidth": 0,
             "ticks": ""
            },
            "colorscale": [
             [
              0.0,
              "#0d0887"
             ],
             [
              0.1111111111111111,
              "#46039f"
             ],
             [
              0.2222222222222222,
              "#7201a8"
             ],
             [
              0.3333333333333333,
              "#9c179e"
             ],
             [
              0.4444444444444444,
              "#bd3786"
             ],
             [
              0.5555555555555556,
              "#d8576b"
             ],
             [
              0.6666666666666666,
              "#ed7953"
             ],
             [
              0.7777777777777778,
              "#fb9f3a"
             ],
             [
              0.8888888888888888,
              "#fdca26"
             ],
             [
              1.0,
              "#f0f921"
             ]
            ]
           }
          ],
          "choropleth": [
           {
            "type": "choropleth",
            "colorbar": {
             "outlinewidth": 0,
             "ticks": ""
            }
           }
          ],
          "histogram2d": [
           {
            "type": "histogram2d",
            "colorbar": {
             "outlinewidth": 0,
             "ticks": ""
            },
            "colorscale": [
             [
              0.0,
              "#0d0887"
             ],
             [
              0.1111111111111111,
              "#46039f"
             ],
             [
              0.2222222222222222,
              "#7201a8"
             ],
             [
              0.3333333333333333,
              "#9c179e"
             ],
             [
              0.4444444444444444,
              "#bd3786"
             ],
             [
              0.5555555555555556,
              "#d8576b"
             ],
             [
              0.6666666666666666,
              "#ed7953"
             ],
             [
              0.7777777777777778,
              "#fb9f3a"
             ],
             [
              0.8888888888888888,
              "#fdca26"
             ],
             [
              1.0,
              "#f0f921"
             ]
            ]
           }
          ],
          "heatmap": [
           {
            "type": "heatmap",
            "colorbar": {
             "outlinewidth": 0,
             "ticks": ""
            },
            "colorscale": [
             [
              0.0,
              "#0d0887"
             ],
             [
              0.1111111111111111,
              "#46039f"
             ],
             [
              0.2222222222222222,
              "#7201a8"
             ],
             [
              0.3333333333333333,
              "#9c179e"
             ],
             [
              0.4444444444444444,
              "#bd3786"
             ],
             [
              0.5555555555555556,
              "#d8576b"
             ],
             [
              0.6666666666666666,
              "#ed7953"
             ],
             [
              0.7777777777777778,
              "#fb9f3a"
             ],
             [
              0.8888888888888888,
              "#fdca26"
             ],
             [
              1.0,
              "#f0f921"
             ]
            ]
           }
          ],
          "heatmapgl": [
           {
            "type": "heatmapgl",
            "colorbar": {
             "outlinewidth": 0,
             "ticks": ""
            },
            "colorscale": [
             [
              0.0,
              "#0d0887"
             ],
             [
              0.1111111111111111,
              "#46039f"
             ],
             [
              0.2222222222222222,
              "#7201a8"
             ],
             [
              0.3333333333333333,
              "#9c179e"
             ],
             [
              0.4444444444444444,
              "#bd3786"
             ],
             [
              0.5555555555555556,
              "#d8576b"
             ],
             [
              0.6666666666666666,
              "#ed7953"
             ],
             [
              0.7777777777777778,
              "#fb9f3a"
             ],
             [
              0.8888888888888888,
              "#fdca26"
             ],
             [
              1.0,
              "#f0f921"
             ]
            ]
           }
          ],
          "contourcarpet": [
           {
            "type": "contourcarpet",
            "colorbar": {
             "outlinewidth": 0,
             "ticks": ""
            }
           }
          ],
          "contour": [
           {
            "type": "contour",
            "colorbar": {
             "outlinewidth": 0,
             "ticks": ""
            },
            "colorscale": [
             [
              0.0,
              "#0d0887"
             ],
             [
              0.1111111111111111,
              "#46039f"
             ],
             [
              0.2222222222222222,
              "#7201a8"
             ],
             [
              0.3333333333333333,
              "#9c179e"
             ],
             [
              0.4444444444444444,
              "#bd3786"
             ],
             [
              0.5555555555555556,
              "#d8576b"
             ],
             [
              0.6666666666666666,
              "#ed7953"
             ],
             [
              0.7777777777777778,
              "#fb9f3a"
             ],
             [
              0.8888888888888888,
              "#fdca26"
             ],
             [
              1.0,
              "#f0f921"
             ]
            ]
           }
          ],
          "surface": [
           {
            "type": "surface",
            "colorbar": {
             "outlinewidth": 0,
             "ticks": ""
            },
            "colorscale": [
             [
              0.0,
              "#0d0887"
             ],
             [
              0.1111111111111111,
              "#46039f"
             ],
             [
              0.2222222222222222,
              "#7201a8"
             ],
             [
              0.3333333333333333,
              "#9c179e"
             ],
             [
              0.4444444444444444,
              "#bd3786"
             ],
             [
              0.5555555555555556,
              "#d8576b"
             ],
             [
              0.6666666666666666,
              "#ed7953"
             ],
             [
              0.7777777777777778,
              "#fb9f3a"
             ],
             [
              0.8888888888888888,
              "#fdca26"
             ],
             [
              1.0,
              "#f0f921"
             ]
            ]
           }
          ],
          "mesh3d": [
           {
            "type": "mesh3d",
            "colorbar": {
             "outlinewidth": 0,
             "ticks": ""
            }
           }
          ],
          "scatter": [
           {
            "marker": {
             "line": {
              "color": "#283442"
             }
            },
            "type": "scatter"
           }
          ],
          "parcoords": [
           {
            "type": "parcoords",
            "line": {
             "colorbar": {
              "outlinewidth": 0,
              "ticks": ""
             }
            }
           }
          ],
          "scatterpolargl": [
           {
            "type": "scatterpolargl",
            "marker": {
             "colorbar": {
              "outlinewidth": 0,
              "ticks": ""
             }
            }
           }
          ],
          "bar": [
           {
            "error_x": {
             "color": "#f2f5fa"
            },
            "error_y": {
             "color": "#f2f5fa"
            },
            "marker": {
             "line": {
              "color": "rgb(17,17,17)",
              "width": 0.5
             },
             "pattern": {
              "fillmode": "overlay",
              "size": 10,
              "solidity": 0.2
             }
            },
            "type": "bar"
           }
          ],
          "scattergeo": [
           {
            "type": "scattergeo",
            "marker": {
             "colorbar": {
              "outlinewidth": 0,
              "ticks": ""
             }
            }
           }
          ],
          "scatterpolar": [
           {
            "type": "scatterpolar",
            "marker": {
             "colorbar": {
              "outlinewidth": 0,
              "ticks": ""
             }
            }
           }
          ],
          "histogram": [
           {
            "marker": {
             "pattern": {
              "fillmode": "overlay",
              "size": 10,
              "solidity": 0.2
             }
            },
            "type": "histogram"
           }
          ],
          "scattergl": [
           {
            "marker": {
             "line": {
              "color": "#283442"
             }
            },
            "type": "scattergl"
           }
          ],
          "scatter3d": [
           {
            "type": "scatter3d",
            "line": {
             "colorbar": {
              "outlinewidth": 0,
              "ticks": ""
             }
            },
            "marker": {
             "colorbar": {
              "outlinewidth": 0,
              "ticks": ""
             }
            }
           }
          ],
          "scattermapbox": [
           {
            "type": "scattermapbox",
            "marker": {
             "colorbar": {
              "outlinewidth": 0,
              "ticks": ""
             }
            }
           }
          ],
          "scatterternary": [
           {
            "type": "scatterternary",
            "marker": {
             "colorbar": {
              "outlinewidth": 0,
              "ticks": ""
             }
            }
           }
          ],
          "scattercarpet": [
           {
            "type": "scattercarpet",
            "marker": {
             "colorbar": {
              "outlinewidth": 0,
              "ticks": ""
             }
            }
           }
          ],
          "carpet": [
           {
            "aaxis": {
             "endlinecolor": "#A2B1C6",
             "gridcolor": "#506784",
             "linecolor": "#506784",
             "minorgridcolor": "#506784",
             "startlinecolor": "#A2B1C6"
            },
            "baxis": {
             "endlinecolor": "#A2B1C6",
             "gridcolor": "#506784",
             "linecolor": "#506784",
             "minorgridcolor": "#506784",
             "startlinecolor": "#A2B1C6"
            },
            "type": "carpet"
           }
          ],
          "table": [
           {
            "cells": {
             "fill": {
              "color": "#506784"
             },
             "line": {
              "color": "rgb(17,17,17)"
             }
            },
            "header": {
             "fill": {
              "color": "#2a3f5f"
             },
             "line": {
              "color": "rgb(17,17,17)"
             }
            },
            "type": "table"
           }
          ],
          "barpolar": [
           {
            "marker": {
             "line": {
              "color": "rgb(17,17,17)",
              "width": 0.5
             },
             "pattern": {
              "fillmode": "overlay",
              "size": 10,
              "solidity": 0.2
             }
            },
            "type": "barpolar"
           }
          ],
          "pie": [
           {
            "automargin": true,
            "type": "pie"
           }
          ]
         },
         "layout": {
          "autotypenumbers": "strict",
          "colorway": [
           "#636efa",
           "#EF553B",
           "#00cc96",
           "#ab63fa",
           "#FFA15A",
           "#19d3f3",
           "#FF6692",
           "#B6E880",
           "#FF97FF",
           "#FECB52"
          ],
          "font": {
           "color": "#f2f5fa"
          },
          "hovermode": "closest",
          "hoverlabel": {
           "align": "left"
          },
          "paper_bgcolor": "rgb(17,17,17)",
          "plot_bgcolor": "rgb(17,17,17)",
          "polar": {
           "bgcolor": "rgb(17,17,17)",
           "angularaxis": {
            "gridcolor": "#506784",
            "linecolor": "#506784",
            "ticks": ""
           },
           "radialaxis": {
            "gridcolor": "#506784",
            "linecolor": "#506784",
            "ticks": ""
           }
          },
          "ternary": {
           "bgcolor": "rgb(17,17,17)",
           "aaxis": {
            "gridcolor": "#506784",
            "linecolor": "#506784",
            "ticks": ""
           },
           "baxis": {
            "gridcolor": "#506784",
            "linecolor": "#506784",
            "ticks": ""
           },
           "caxis": {
            "gridcolor": "#506784",
            "linecolor": "#506784",
            "ticks": ""
           }
          },
          "coloraxis": {
           "colorbar": {
            "outlinewidth": 0,
            "ticks": ""
           }
          },
          "colorscale": {
           "sequential": [
            [
             0.0,
             "#0d0887"
            ],
            [
             0.1111111111111111,
             "#46039f"
            ],
            [
             0.2222222222222222,
             "#7201a8"
            ],
            [
             0.3333333333333333,
             "#9c179e"
            ],
            [
             0.4444444444444444,
             "#bd3786"
            ],
            [
             0.5555555555555556,
             "#d8576b"
            ],
            [
             0.6666666666666666,
             "#ed7953"
            ],
            [
             0.7777777777777778,
             "#fb9f3a"
            ],
            [
             0.8888888888888888,
             "#fdca26"
            ],
            [
             1.0,
             "#f0f921"
            ]
           ],
           "sequentialminus": [
            [
             0.0,
             "#0d0887"
            ],
            [
             0.1111111111111111,
             "#46039f"
            ],
            [
             0.2222222222222222,
             "#7201a8"
            ],
            [
             0.3333333333333333,
             "#9c179e"
            ],
            [
             0.4444444444444444,
             "#bd3786"
            ],
            [
             0.5555555555555556,
             "#d8576b"
            ],
            [
             0.6666666666666666,
             "#ed7953"
            ],
            [
             0.7777777777777778,
             "#fb9f3a"
            ],
            [
             0.8888888888888888,
             "#fdca26"
            ],
            [
             1.0,
             "#f0f921"
            ]
           ],
           "diverging": [
            [
             0,
             "#8e0152"
            ],
            [
             0.1,
             "#c51b7d"
            ],
            [
             0.2,
             "#de77ae"
            ],
            [
             0.3,
             "#f1b6da"
            ],
            [
             0.4,
             "#fde0ef"
            ],
            [
             0.5,
             "#f7f7f7"
            ],
            [
             0.6,
             "#e6f5d0"
            ],
            [
             0.7,
             "#b8e186"
            ],
            [
             0.8,
             "#7fbc41"
            ],
            [
             0.9,
             "#4d9221"
            ],
            [
             1,
             "#276419"
            ]
           ]
          },
          "xaxis": {
           "gridcolor": "#283442",
           "linecolor": "#506784",
           "ticks": "",
           "title": {
            "standoff": 15
           },
           "zerolinecolor": "#283442",
           "automargin": true,
           "zerolinewidth": 2
          },
          "yaxis": {
           "gridcolor": "#283442",
           "linecolor": "#506784",
           "ticks": "",
           "title": {
            "standoff": 15
           },
           "zerolinecolor": "#283442",
           "automargin": true,
           "zerolinewidth": 2
          },
          "scene": {
           "xaxis": {
            "backgroundcolor": "rgb(17,17,17)",
            "gridcolor": "#506784",
            "linecolor": "#506784",
            "showbackground": true,
            "ticks": "",
            "zerolinecolor": "#C8D4E3",
            "gridwidth": 2
           },
           "yaxis": {
            "backgroundcolor": "rgb(17,17,17)",
            "gridcolor": "#506784",
            "linecolor": "#506784",
            "showbackground": true,
            "ticks": "",
            "zerolinecolor": "#C8D4E3",
            "gridwidth": 2
           },
           "zaxis": {
            "backgroundcolor": "rgb(17,17,17)",
            "gridcolor": "#506784",
            "linecolor": "#506784",
            "showbackground": true,
            "ticks": "",
            "zerolinecolor": "#C8D4E3",
            "gridwidth": 2
           }
          },
          "shapedefaults": {
           "line": {
            "color": "#f2f5fa"
           }
          },
          "annotationdefaults": {
           "arrowcolor": "#f2f5fa",
           "arrowhead": 0,
           "arrowwidth": 1
          },
          "geo": {
           "bgcolor": "rgb(17,17,17)",
           "landcolor": "rgb(17,17,17)",
           "subunitcolor": "#506784",
           "showland": true,
           "showlakes": true,
           "lakecolor": "rgb(17,17,17)"
          },
          "title": {
           "x": 0.05
          },
          "updatemenudefaults": {
           "bgcolor": "#506784",
           "borderwidth": 0
          },
          "sliderdefaults": {
           "bgcolor": "#C8D4E3",
           "borderwidth": 1,
           "bordercolor": "rgb(17,17,17)",
           "tickwidth": 0
          },
          "mapbox": {
           "style": "dark"
          }
         }
        },
        "xaxis": {
         "anchor": "y",
         "domain": [
          0.0,
          0.7363
         ],
         "title": {
          "text": "rawF1"
         }
        },
        "yaxis": {
         "anchor": "x",
         "domain": [
          0.0,
          1.0
         ],
         "title": {
          "text": "f1"
         }
        },
        "xaxis2": {
         "anchor": "y2",
         "domain": [
          0.7413,
          1.0
         ],
         "matches": "x2",
         "showticklabels": false,
         "showline": false,
         "ticks": "",
         "showgrid": true
        },
        "yaxis2": {
         "anchor": "x2",
         "domain": [
          0.0,
          1.0
         ],
         "matches": "y",
         "showticklabels": false,
         "showgrid": true
        },
        "legend": {
         "title": {
          "text": "test"
         },
         "tracegroupgap": 0
        },
        "margin": {
         "t": 60
        },
        "barmode": "overlay"
       },
       "config": {
        "plotlyServerURL": "https://plot.ly"
       }
      },
      "text/html": [
       "<div>                            <div id=\"3a1ae197-9f16-499a-b63f-08794e7012be\" class=\"plotly-graph-div\" style=\"height:525px; width:100%;\"></div>            <script type=\"text/javascript\">                require([\"plotly\"], function(Plotly) {                    window.PLOTLYENV=window.PLOTLYENV || {};                                    if (document.getElementById(\"3a1ae197-9f16-499a-b63f-08794e7012be\")) {                    Plotly.newPlot(                        \"3a1ae197-9f16-499a-b63f-08794e7012be\",                        [{\"hovertemplate\":\"<b>%{hovertext}</b><br><br>test=0002<br>rawF1=%{x}<br>f1=%{y}<extra></extra>\",\"hovertext\":[\"a4659423-83e4-4da3-91b5-177fa8bc17fe\"],\"legendgroup\":\"0002\",\"marker\":{\"color\":\"#636efa\",\"symbol\":\"circle\"},\"mode\":\"markers\",\"name\":\"0002\",\"orientation\":\"v\",\"showlegend\":true,\"x\":[0.5671680700748195],\"xaxis\":\"x\",\"y\":[0.5671273833565003],\"yaxis\":\"y\",\"type\":\"scatter\"},{\"alignmentgroup\":\"True\",\"bingroup\":\"y\",\"hovertemplate\":\"test=0002<br>f1=%{y}<br>count=%{x}<extra></extra>\",\"legendgroup\":\"0002\",\"marker\":{\"color\":\"#636efa\"},\"name\":\"0002\",\"offsetgroup\":\"0002\",\"opacity\":0.5,\"showlegend\":false,\"xaxis\":\"x2\",\"y\":[0.5671273833565003],\"yaxis\":\"y2\",\"type\":\"histogram\"},{\"hovertemplate\":\"<b>%{hovertext}</b><br><br>test=0003<br>rawF1=%{x}<br>f1=%{y}<extra></extra>\",\"hovertext\":[\"ad3be387-5be4-4e8e-b57d-072003b617d3\"],\"legendgroup\":\"0003\",\"marker\":{\"color\":\"#EF553B\",\"symbol\":\"circle\"},\"mode\":\"markers\",\"name\":\"0003\",\"orientation\":\"v\",\"showlegend\":true,\"x\":[0.7772184246408351],\"xaxis\":\"x\",\"y\":[0.7790010184492533],\"yaxis\":\"y\",\"type\":\"scatter\"},{\"alignmentgroup\":\"True\",\"bingroup\":\"y\",\"hovertemplate\":\"test=0003<br>f1=%{y}<br>count=%{x}<extra></extra>\",\"legendgroup\":\"0003\",\"marker\":{\"color\":\"#EF553B\"},\"name\":\"0003\",\"offsetgroup\":\"0003\",\"opacity\":0.5,\"showlegend\":false,\"xaxis\":\"x2\",\"y\":[0.7790010184492533],\"yaxis\":\"y2\",\"type\":\"histogram\"},{\"hovertemplate\":\"<b>%{hovertext}</b><br><br>test=0004<br>rawF1=%{x}<br>f1=%{y}<extra></extra>\",\"hovertext\":[\"8bcbbc8b-b83e-4b97-8f7c-0dd0760680e7\"],\"legendgroup\":\"0004\",\"marker\":{\"color\":\"#00cc96\",\"symbol\":\"circle\"},\"mode\":\"markers\",\"name\":\"0004\",\"orientation\":\"v\",\"showlegend\":true,\"x\":[0.7034290620665637],\"xaxis\":\"x\",\"y\":[0.7137028201260734],\"yaxis\":\"y\",\"type\":\"scatter\"},{\"alignmentgroup\":\"True\",\"bingroup\":\"y\",\"hovertemplate\":\"test=0004<br>f1=%{y}<br>count=%{x}<extra></extra>\",\"legendgroup\":\"0004\",\"marker\":{\"color\":\"#00cc96\"},\"name\":\"0004\",\"offsetgroup\":\"0004\",\"opacity\":0.5,\"showlegend\":false,\"xaxis\":\"x2\",\"y\":[0.7137028201260734],\"yaxis\":\"y2\",\"type\":\"histogram\"},{\"hovertemplate\":\"<b>%{hovertext}</b><br><br>test=0005<br>rawF1=%{x}<br>f1=%{y}<extra></extra>\",\"hovertext\":[\"f88ed731-de3a-4c9a-90d5-04d1fcd93d45\"],\"legendgroup\":\"0005\",\"marker\":{\"color\":\"#ab63fa\",\"symbol\":\"circle\"},\"mode\":\"markers\",\"name\":\"0005\",\"orientation\":\"v\",\"showlegend\":true,\"x\":[0.6244751443912869],\"xaxis\":\"x\",\"y\":[0.6328084589383022],\"yaxis\":\"y\",\"type\":\"scatter\"},{\"alignmentgroup\":\"True\",\"bingroup\":\"y\",\"hovertemplate\":\"test=0005<br>f1=%{y}<br>count=%{x}<extra></extra>\",\"legendgroup\":\"0005\",\"marker\":{\"color\":\"#ab63fa\"},\"name\":\"0005\",\"offsetgroup\":\"0005\",\"opacity\":0.5,\"showlegend\":false,\"xaxis\":\"x2\",\"y\":[0.6328084589383022],\"yaxis\":\"y2\",\"type\":\"histogram\"},{\"hovertemplate\":\"<b>%{hovertext}</b><br><br>test=0006<br>rawF1=%{x}<br>f1=%{y}<extra></extra>\",\"hovertext\":[\"16a691da-d735-4ad2-953c-db2678980107\"],\"legendgroup\":\"0006\",\"marker\":{\"color\":\"#FFA15A\",\"symbol\":\"circle\"},\"mode\":\"markers\",\"name\":\"0006\",\"orientation\":\"v\",\"showlegend\":true,\"x\":[0.6343285281592311],\"xaxis\":\"x\",\"y\":[0.6513842149080121],\"yaxis\":\"y\",\"type\":\"scatter\"},{\"alignmentgroup\":\"True\",\"bingroup\":\"y\",\"hovertemplate\":\"test=0006<br>f1=%{y}<br>count=%{x}<extra></extra>\",\"legendgroup\":\"0006\",\"marker\":{\"color\":\"#FFA15A\"},\"name\":\"0006\",\"offsetgroup\":\"0006\",\"opacity\":0.5,\"showlegend\":false,\"xaxis\":\"x2\",\"y\":[0.6513842149080121],\"yaxis\":\"y2\",\"type\":\"histogram\"},{\"hovertemplate\":\"<b>%{hovertext}</b><br><br>test=0007<br>rawF1=%{x}<br>f1=%{y}<extra></extra>\",\"hovertext\":[\"d91f41ff-0308-46df-9bcd-67d46f377777\"],\"legendgroup\":\"0007\",\"marker\":{\"color\":\"#19d3f3\",\"symbol\":\"circle\"},\"mode\":\"markers\",\"name\":\"0007\",\"orientation\":\"v\",\"showlegend\":true,\"x\":[0.5852889197109684],\"xaxis\":\"x\",\"y\":[0.5932963339150734],\"yaxis\":\"y\",\"type\":\"scatter\"},{\"alignmentgroup\":\"True\",\"bingroup\":\"y\",\"hovertemplate\":\"test=0007<br>f1=%{y}<br>count=%{x}<extra></extra>\",\"legendgroup\":\"0007\",\"marker\":{\"color\":\"#19d3f3\"},\"name\":\"0007\",\"offsetgroup\":\"0007\",\"opacity\":0.5,\"showlegend\":false,\"xaxis\":\"x2\",\"y\":[0.5932963339150734],\"yaxis\":\"y2\",\"type\":\"histogram\"},{\"hovertemplate\":\"<b>%{hovertext}</b><br><br>test=0008<br>rawF1=%{x}<br>f1=%{y}<extra></extra>\",\"hovertext\":[\"a1eacac2-9e31-437a-9350-110d2ef2f1a5\"],\"legendgroup\":\"0008\",\"marker\":{\"color\":\"#FF6692\",\"symbol\":\"circle\"},\"mode\":\"markers\",\"name\":\"0008\",\"orientation\":\"v\",\"showlegend\":true,\"x\":[0.44045332308874374],\"xaxis\":\"x\",\"y\":[0.42967054645886765],\"yaxis\":\"y\",\"type\":\"scatter\"},{\"alignmentgroup\":\"True\",\"bingroup\":\"y\",\"hovertemplate\":\"test=0008<br>f1=%{y}<br>count=%{x}<extra></extra>\",\"legendgroup\":\"0008\",\"marker\":{\"color\":\"#FF6692\"},\"name\":\"0008\",\"offsetgroup\":\"0008\",\"opacity\":0.5,\"showlegend\":false,\"xaxis\":\"x2\",\"y\":[0.42967054645886765],\"yaxis\":\"y2\",\"type\":\"histogram\"},{\"fill\":\"toself\",\"mode\":\"lines\",\"name\":\"identity\",\"x\":[0.5671680700748195,0.7772184246408351,0.7034290620665637,0.6244751443912869,0.6343285281592311,0.5852889197109684,0.44045332308874374],\"y\":[0.5671680700748195,0.7772184246408351,0.7034290620665637,0.6244751443912869,0.6343285281592311,0.5852889197109684,0.44045332308874374],\"type\":\"scatter\"}],                        {\"template\":{\"data\":{\"histogram2dcontour\":[{\"type\":\"histogram2dcontour\",\"colorbar\":{\"outlinewidth\":0,\"ticks\":\"\"},\"colorscale\":[[0.0,\"#0d0887\"],[0.1111111111111111,\"#46039f\"],[0.2222222222222222,\"#7201a8\"],[0.3333333333333333,\"#9c179e\"],[0.4444444444444444,\"#bd3786\"],[0.5555555555555556,\"#d8576b\"],[0.6666666666666666,\"#ed7953\"],[0.7777777777777778,\"#fb9f3a\"],[0.8888888888888888,\"#fdca26\"],[1.0,\"#f0f921\"]]}],\"choropleth\":[{\"type\":\"choropleth\",\"colorbar\":{\"outlinewidth\":0,\"ticks\":\"\"}}],\"histogram2d\":[{\"type\":\"histogram2d\",\"colorbar\":{\"outlinewidth\":0,\"ticks\":\"\"},\"colorscale\":[[0.0,\"#0d0887\"],[0.1111111111111111,\"#46039f\"],[0.2222222222222222,\"#7201a8\"],[0.3333333333333333,\"#9c179e\"],[0.4444444444444444,\"#bd3786\"],[0.5555555555555556,\"#d8576b\"],[0.6666666666666666,\"#ed7953\"],[0.7777777777777778,\"#fb9f3a\"],[0.8888888888888888,\"#fdca26\"],[1.0,\"#f0f921\"]]}],\"heatmap\":[{\"type\":\"heatmap\",\"colorbar\":{\"outlinewidth\":0,\"ticks\":\"\"},\"colorscale\":[[0.0,\"#0d0887\"],[0.1111111111111111,\"#46039f\"],[0.2222222222222222,\"#7201a8\"],[0.3333333333333333,\"#9c179e\"],[0.4444444444444444,\"#bd3786\"],[0.5555555555555556,\"#d8576b\"],[0.6666666666666666,\"#ed7953\"],[0.7777777777777778,\"#fb9f3a\"],[0.8888888888888888,\"#fdca26\"],[1.0,\"#f0f921\"]]}],\"heatmapgl\":[{\"type\":\"heatmapgl\",\"colorbar\":{\"outlinewidth\":0,\"ticks\":\"\"},\"colorscale\":[[0.0,\"#0d0887\"],[0.1111111111111111,\"#46039f\"],[0.2222222222222222,\"#7201a8\"],[0.3333333333333333,\"#9c179e\"],[0.4444444444444444,\"#bd3786\"],[0.5555555555555556,\"#d8576b\"],[0.6666666666666666,\"#ed7953\"],[0.7777777777777778,\"#fb9f3a\"],[0.8888888888888888,\"#fdca26\"],[1.0,\"#f0f921\"]]}],\"contourcarpet\":[{\"type\":\"contourcarpet\",\"colorbar\":{\"outlinewidth\":0,\"ticks\":\"\"}}],\"contour\":[{\"type\":\"contour\",\"colorbar\":{\"outlinewidth\":0,\"ticks\":\"\"},\"colorscale\":[[0.0,\"#0d0887\"],[0.1111111111111111,\"#46039f\"],[0.2222222222222222,\"#7201a8\"],[0.3333333333333333,\"#9c179e\"],[0.4444444444444444,\"#bd3786\"],[0.5555555555555556,\"#d8576b\"],[0.6666666666666666,\"#ed7953\"],[0.7777777777777778,\"#fb9f3a\"],[0.8888888888888888,\"#fdca26\"],[1.0,\"#f0f921\"]]}],\"surface\":[{\"type\":\"surface\",\"colorbar\":{\"outlinewidth\":0,\"ticks\":\"\"},\"colorscale\":[[0.0,\"#0d0887\"],[0.1111111111111111,\"#46039f\"],[0.2222222222222222,\"#7201a8\"],[0.3333333333333333,\"#9c179e\"],[0.4444444444444444,\"#bd3786\"],[0.5555555555555556,\"#d8576b\"],[0.6666666666666666,\"#ed7953\"],[0.7777777777777778,\"#fb9f3a\"],[0.8888888888888888,\"#fdca26\"],[1.0,\"#f0f921\"]]}],\"mesh3d\":[{\"type\":\"mesh3d\",\"colorbar\":{\"outlinewidth\":0,\"ticks\":\"\"}}],\"scatter\":[{\"marker\":{\"line\":{\"color\":\"#283442\"}},\"type\":\"scatter\"}],\"parcoords\":[{\"type\":\"parcoords\",\"line\":{\"colorbar\":{\"outlinewidth\":0,\"ticks\":\"\"}}}],\"scatterpolargl\":[{\"type\":\"scatterpolargl\",\"marker\":{\"colorbar\":{\"outlinewidth\":0,\"ticks\":\"\"}}}],\"bar\":[{\"error_x\":{\"color\":\"#f2f5fa\"},\"error_y\":{\"color\":\"#f2f5fa\"},\"marker\":{\"line\":{\"color\":\"rgb(17,17,17)\",\"width\":0.5},\"pattern\":{\"fillmode\":\"overlay\",\"size\":10,\"solidity\":0.2}},\"type\":\"bar\"}],\"scattergeo\":[{\"type\":\"scattergeo\",\"marker\":{\"colorbar\":{\"outlinewidth\":0,\"ticks\":\"\"}}}],\"scatterpolar\":[{\"type\":\"scatterpolar\",\"marker\":{\"colorbar\":{\"outlinewidth\":0,\"ticks\":\"\"}}}],\"histogram\":[{\"marker\":{\"pattern\":{\"fillmode\":\"overlay\",\"size\":10,\"solidity\":0.2}},\"type\":\"histogram\"}],\"scattergl\":[{\"marker\":{\"line\":{\"color\":\"#283442\"}},\"type\":\"scattergl\"}],\"scatter3d\":[{\"type\":\"scatter3d\",\"line\":{\"colorbar\":{\"outlinewidth\":0,\"ticks\":\"\"}},\"marker\":{\"colorbar\":{\"outlinewidth\":0,\"ticks\":\"\"}}}],\"scattermapbox\":[{\"type\":\"scattermapbox\",\"marker\":{\"colorbar\":{\"outlinewidth\":0,\"ticks\":\"\"}}}],\"scatterternary\":[{\"type\":\"scatterternary\",\"marker\":{\"colorbar\":{\"outlinewidth\":0,\"ticks\":\"\"}}}],\"scattercarpet\":[{\"type\":\"scattercarpet\",\"marker\":{\"colorbar\":{\"outlinewidth\":0,\"ticks\":\"\"}}}],\"carpet\":[{\"aaxis\":{\"endlinecolor\":\"#A2B1C6\",\"gridcolor\":\"#506784\",\"linecolor\":\"#506784\",\"minorgridcolor\":\"#506784\",\"startlinecolor\":\"#A2B1C6\"},\"baxis\":{\"endlinecolor\":\"#A2B1C6\",\"gridcolor\":\"#506784\",\"linecolor\":\"#506784\",\"minorgridcolor\":\"#506784\",\"startlinecolor\":\"#A2B1C6\"},\"type\":\"carpet\"}],\"table\":[{\"cells\":{\"fill\":{\"color\":\"#506784\"},\"line\":{\"color\":\"rgb(17,17,17)\"}},\"header\":{\"fill\":{\"color\":\"#2a3f5f\"},\"line\":{\"color\":\"rgb(17,17,17)\"}},\"type\":\"table\"}],\"barpolar\":[{\"marker\":{\"line\":{\"color\":\"rgb(17,17,17)\",\"width\":0.5},\"pattern\":{\"fillmode\":\"overlay\",\"size\":10,\"solidity\":0.2}},\"type\":\"barpolar\"}],\"pie\":[{\"automargin\":true,\"type\":\"pie\"}]},\"layout\":{\"autotypenumbers\":\"strict\",\"colorway\":[\"#636efa\",\"#EF553B\",\"#00cc96\",\"#ab63fa\",\"#FFA15A\",\"#19d3f3\",\"#FF6692\",\"#B6E880\",\"#FF97FF\",\"#FECB52\"],\"font\":{\"color\":\"#f2f5fa\"},\"hovermode\":\"closest\",\"hoverlabel\":{\"align\":\"left\"},\"paper_bgcolor\":\"rgb(17,17,17)\",\"plot_bgcolor\":\"rgb(17,17,17)\",\"polar\":{\"bgcolor\":\"rgb(17,17,17)\",\"angularaxis\":{\"gridcolor\":\"#506784\",\"linecolor\":\"#506784\",\"ticks\":\"\"},\"radialaxis\":{\"gridcolor\":\"#506784\",\"linecolor\":\"#506784\",\"ticks\":\"\"}},\"ternary\":{\"bgcolor\":\"rgb(17,17,17)\",\"aaxis\":{\"gridcolor\":\"#506784\",\"linecolor\":\"#506784\",\"ticks\":\"\"},\"baxis\":{\"gridcolor\":\"#506784\",\"linecolor\":\"#506784\",\"ticks\":\"\"},\"caxis\":{\"gridcolor\":\"#506784\",\"linecolor\":\"#506784\",\"ticks\":\"\"}},\"coloraxis\":{\"colorbar\":{\"outlinewidth\":0,\"ticks\":\"\"}},\"colorscale\":{\"sequential\":[[0.0,\"#0d0887\"],[0.1111111111111111,\"#46039f\"],[0.2222222222222222,\"#7201a8\"],[0.3333333333333333,\"#9c179e\"],[0.4444444444444444,\"#bd3786\"],[0.5555555555555556,\"#d8576b\"],[0.6666666666666666,\"#ed7953\"],[0.7777777777777778,\"#fb9f3a\"],[0.8888888888888888,\"#fdca26\"],[1.0,\"#f0f921\"]],\"sequentialminus\":[[0.0,\"#0d0887\"],[0.1111111111111111,\"#46039f\"],[0.2222222222222222,\"#7201a8\"],[0.3333333333333333,\"#9c179e\"],[0.4444444444444444,\"#bd3786\"],[0.5555555555555556,\"#d8576b\"],[0.6666666666666666,\"#ed7953\"],[0.7777777777777778,\"#fb9f3a\"],[0.8888888888888888,\"#fdca26\"],[1.0,\"#f0f921\"]],\"diverging\":[[0,\"#8e0152\"],[0.1,\"#c51b7d\"],[0.2,\"#de77ae\"],[0.3,\"#f1b6da\"],[0.4,\"#fde0ef\"],[0.5,\"#f7f7f7\"],[0.6,\"#e6f5d0\"],[0.7,\"#b8e186\"],[0.8,\"#7fbc41\"],[0.9,\"#4d9221\"],[1,\"#276419\"]]},\"xaxis\":{\"gridcolor\":\"#283442\",\"linecolor\":\"#506784\",\"ticks\":\"\",\"title\":{\"standoff\":15},\"zerolinecolor\":\"#283442\",\"automargin\":true,\"zerolinewidth\":2},\"yaxis\":{\"gridcolor\":\"#283442\",\"linecolor\":\"#506784\",\"ticks\":\"\",\"title\":{\"standoff\":15},\"zerolinecolor\":\"#283442\",\"automargin\":true,\"zerolinewidth\":2},\"scene\":{\"xaxis\":{\"backgroundcolor\":\"rgb(17,17,17)\",\"gridcolor\":\"#506784\",\"linecolor\":\"#506784\",\"showbackground\":true,\"ticks\":\"\",\"zerolinecolor\":\"#C8D4E3\",\"gridwidth\":2},\"yaxis\":{\"backgroundcolor\":\"rgb(17,17,17)\",\"gridcolor\":\"#506784\",\"linecolor\":\"#506784\",\"showbackground\":true,\"ticks\":\"\",\"zerolinecolor\":\"#C8D4E3\",\"gridwidth\":2},\"zaxis\":{\"backgroundcolor\":\"rgb(17,17,17)\",\"gridcolor\":\"#506784\",\"linecolor\":\"#506784\",\"showbackground\":true,\"ticks\":\"\",\"zerolinecolor\":\"#C8D4E3\",\"gridwidth\":2}},\"shapedefaults\":{\"line\":{\"color\":\"#f2f5fa\"}},\"annotationdefaults\":{\"arrowcolor\":\"#f2f5fa\",\"arrowhead\":0,\"arrowwidth\":1},\"geo\":{\"bgcolor\":\"rgb(17,17,17)\",\"landcolor\":\"rgb(17,17,17)\",\"subunitcolor\":\"#506784\",\"showland\":true,\"showlakes\":true,\"lakecolor\":\"rgb(17,17,17)\"},\"title\":{\"x\":0.05},\"updatemenudefaults\":{\"bgcolor\":\"#506784\",\"borderwidth\":0},\"sliderdefaults\":{\"bgcolor\":\"#C8D4E3\",\"borderwidth\":1,\"bordercolor\":\"rgb(17,17,17)\",\"tickwidth\":0},\"mapbox\":{\"style\":\"dark\"}}},\"xaxis\":{\"anchor\":\"y\",\"domain\":[0.0,0.7363],\"title\":{\"text\":\"rawF1\"}},\"yaxis\":{\"anchor\":\"x\",\"domain\":[0.0,1.0],\"title\":{\"text\":\"f1\"}},\"xaxis2\":{\"anchor\":\"y2\",\"domain\":[0.7413,1.0],\"matches\":\"x2\",\"showticklabels\":false,\"showline\":false,\"ticks\":\"\",\"showgrid\":true},\"yaxis2\":{\"anchor\":\"x2\",\"domain\":[0.0,1.0],\"matches\":\"y\",\"showticklabels\":false,\"showgrid\":true},\"legend\":{\"title\":{\"text\":\"test\"},\"tracegroupgap\":0},\"margin\":{\"t\":60},\"barmode\":\"overlay\"},                        {\"responsive\": true}                    ).then(function(){\n",
       "                            \n",
       "var gd = document.getElementById('3a1ae197-9f16-499a-b63f-08794e7012be');\n",
       "var x = new MutationObserver(function (mutations, observer) {{\n",
       "        var display = window.getComputedStyle(gd).display;\n",
       "        if (!display || display === 'none') {{\n",
       "            console.log([gd, 'removed!']);\n",
       "            Plotly.purge(gd);\n",
       "            observer.disconnect();\n",
       "        }}\n",
       "}});\n",
       "\n",
       "// Listen for the removal of the full notebook cells\n",
       "var notebookContainer = gd.closest('#notebook-container');\n",
       "if (notebookContainer) {{\n",
       "    x.observe(notebookContainer, {childList: true});\n",
       "}}\n",
       "\n",
       "// Listen for the clearing of the current output cell\n",
       "var outputEl = gd.closest('.output');\n",
       "if (outputEl) {{\n",
       "    x.observe(outputEl, {childList: true});\n",
       "}}\n",
       "\n",
       "                        })                };                });            </script>        </div>"
      ]
     },
     "metadata": {},
     "output_type": "display_data"
    }
   ],
   "execution_count": 60
  },
  {
   "cell_type": "code",
   "metadata": {
    "ExecuteTime": {
     "end_time": "2024-12-12T12:14:59.316023Z",
     "start_time": "2024-12-12T12:14:59.268090Z"
    }
   },
   "source": [
    "fig=px.scatter(experimentModels,x='rawF1',y='eventF1',color='test',hover_name='modelId', marginal_y=\"histogram\")\n",
    "fig.add_trace(\n",
    "    go.Scatter(x=experimentModels['rawF1'], y=experimentModels['rawF1'], name=\"identity\", mode='lines',fill=\"toself\")\n",
    ")\n",
    "fig.show()"
   ],
   "outputs": [
    {
     "data": {
      "application/vnd.plotly.v1+json": {
       "data": [
        {
         "hovertemplate": "<b>%{hovertext}</b><br><br>test=0002<br>rawF1=%{x}<br>eventF1=%{y}<extra></extra>",
         "hovertext": [
          "a4659423-83e4-4da3-91b5-177fa8bc17fe"
         ],
         "legendgroup": "0002",
         "marker": {
          "color": "#636efa",
          "symbol": "circle"
         },
         "mode": "markers",
         "name": "0002",
         "orientation": "v",
         "showlegend": true,
         "x": [
          0.5671680700748195
         ],
         "xaxis": "x",
         "y": [
          0.6370757180156658
         ],
         "yaxis": "y",
         "type": "scatter"
        },
        {
         "alignmentgroup": "True",
         "bingroup": "y",
         "hovertemplate": "test=0002<br>eventF1=%{y}<br>count=%{x}<extra></extra>",
         "legendgroup": "0002",
         "marker": {
          "color": "#636efa"
         },
         "name": "0002",
         "offsetgroup": "0002",
         "opacity": 0.5,
         "showlegend": false,
         "xaxis": "x2",
         "y": [
          0.6370757180156658
         ],
         "yaxis": "y2",
         "type": "histogram"
        },
        {
         "hovertemplate": "<b>%{hovertext}</b><br><br>test=0003<br>rawF1=%{x}<br>eventF1=%{y}<extra></extra>",
         "hovertext": [
          "ad3be387-5be4-4e8e-b57d-072003b617d3"
         ],
         "legendgroup": "0003",
         "marker": {
          "color": "#EF553B",
          "symbol": "circle"
         },
         "mode": "markers",
         "name": "0003",
         "orientation": "v",
         "showlegend": true,
         "x": [
          0.7772184246408351
         ],
         "xaxis": "x",
         "y": [
          0.8481081081081081
         ],
         "yaxis": "y",
         "type": "scatter"
        },
        {
         "alignmentgroup": "True",
         "bingroup": "y",
         "hovertemplate": "test=0003<br>eventF1=%{y}<br>count=%{x}<extra></extra>",
         "legendgroup": "0003",
         "marker": {
          "color": "#EF553B"
         },
         "name": "0003",
         "offsetgroup": "0003",
         "opacity": 0.5,
         "showlegend": false,
         "xaxis": "x2",
         "y": [
          0.8481081081081081
         ],
         "yaxis": "y2",
         "type": "histogram"
        },
        {
         "hovertemplate": "<b>%{hovertext}</b><br><br>test=0004<br>rawF1=%{x}<br>eventF1=%{y}<extra></extra>",
         "hovertext": [
          "8bcbbc8b-b83e-4b97-8f7c-0dd0760680e7"
         ],
         "legendgroup": "0004",
         "marker": {
          "color": "#00cc96",
          "symbol": "circle"
         },
         "mode": "markers",
         "name": "0004",
         "orientation": "v",
         "showlegend": true,
         "x": [
          0.7034290620665637
         ],
         "xaxis": "x",
         "y": [
          0.7785888077858881
         ],
         "yaxis": "y",
         "type": "scatter"
        },
        {
         "alignmentgroup": "True",
         "bingroup": "y",
         "hovertemplate": "test=0004<br>eventF1=%{y}<br>count=%{x}<extra></extra>",
         "legendgroup": "0004",
         "marker": {
          "color": "#00cc96"
         },
         "name": "0004",
         "offsetgroup": "0004",
         "opacity": 0.5,
         "showlegend": false,
         "xaxis": "x2",
         "y": [
          0.7785888077858881
         ],
         "yaxis": "y2",
         "type": "histogram"
        },
        {
         "hovertemplate": "<b>%{hovertext}</b><br><br>test=0005<br>rawF1=%{x}<br>eventF1=%{y}<extra></extra>",
         "hovertext": [
          "f88ed731-de3a-4c9a-90d5-04d1fcd93d45"
         ],
         "legendgroup": "0005",
         "marker": {
          "color": "#ab63fa",
          "symbol": "circle"
         },
         "mode": "markers",
         "name": "0005",
         "orientation": "v",
         "showlegend": true,
         "x": [
          0.6244751443912869
         ],
         "xaxis": "x",
         "y": [
          0.6525054466230937
         ],
         "yaxis": "y",
         "type": "scatter"
        },
        {
         "alignmentgroup": "True",
         "bingroup": "y",
         "hovertemplate": "test=0005<br>eventF1=%{y}<br>count=%{x}<extra></extra>",
         "legendgroup": "0005",
         "marker": {
          "color": "#ab63fa"
         },
         "name": "0005",
         "offsetgroup": "0005",
         "opacity": 0.5,
         "showlegend": false,
         "xaxis": "x2",
         "y": [
          0.6525054466230937
         ],
         "yaxis": "y2",
         "type": "histogram"
        },
        {
         "hovertemplate": "<b>%{hovertext}</b><br><br>test=0006<br>rawF1=%{x}<br>eventF1=%{y}<extra></extra>",
         "hovertext": [
          "16a691da-d735-4ad2-953c-db2678980107"
         ],
         "legendgroup": "0006",
         "marker": {
          "color": "#FFA15A",
          "symbol": "circle"
         },
         "mode": "markers",
         "name": "0006",
         "orientation": "v",
         "showlegend": true,
         "x": [
          0.6343285281592311
         ],
         "xaxis": "x",
         "y": [
          0.6848030018761726
         ],
         "yaxis": "y",
         "type": "scatter"
        },
        {
         "alignmentgroup": "True",
         "bingroup": "y",
         "hovertemplate": "test=0006<br>eventF1=%{y}<br>count=%{x}<extra></extra>",
         "legendgroup": "0006",
         "marker": {
          "color": "#FFA15A"
         },
         "name": "0006",
         "offsetgroup": "0006",
         "opacity": 0.5,
         "showlegend": false,
         "xaxis": "x2",
         "y": [
          0.6848030018761726
         ],
         "yaxis": "y2",
         "type": "histogram"
        },
        {
         "hovertemplate": "<b>%{hovertext}</b><br><br>test=0007<br>rawF1=%{x}<br>eventF1=%{y}<extra></extra>",
         "hovertext": [
          "d91f41ff-0308-46df-9bcd-67d46f377777"
         ],
         "legendgroup": "0007",
         "marker": {
          "color": "#19d3f3",
          "symbol": "circle"
         },
         "mode": "markers",
         "name": "0007",
         "orientation": "v",
         "showlegend": true,
         "x": [
          0.5852889197109684
         ],
         "xaxis": "x",
         "y": [
          0.6557539682539683
         ],
         "yaxis": "y",
         "type": "scatter"
        },
        {
         "alignmentgroup": "True",
         "bingroup": "y",
         "hovertemplate": "test=0007<br>eventF1=%{y}<br>count=%{x}<extra></extra>",
         "legendgroup": "0007",
         "marker": {
          "color": "#19d3f3"
         },
         "name": "0007",
         "offsetgroup": "0007",
         "opacity": 0.5,
         "showlegend": false,
         "xaxis": "x2",
         "y": [
          0.6557539682539683
         ],
         "yaxis": "y2",
         "type": "histogram"
        },
        {
         "hovertemplate": "<b>%{hovertext}</b><br><br>test=0008<br>rawF1=%{x}<br>eventF1=%{y}<extra></extra>",
         "hovertext": [
          "a1eacac2-9e31-437a-9350-110d2ef2f1a5"
         ],
         "legendgroup": "0008",
         "marker": {
          "color": "#FF6692",
          "symbol": "circle"
         },
         "mode": "markers",
         "name": "0008",
         "orientation": "v",
         "showlegend": true,
         "x": [
          0.44045332308874374
         ],
         "xaxis": "x",
         "y": [
          0.45454545454545453
         ],
         "yaxis": "y",
         "type": "scatter"
        },
        {
         "alignmentgroup": "True",
         "bingroup": "y",
         "hovertemplate": "test=0008<br>eventF1=%{y}<br>count=%{x}<extra></extra>",
         "legendgroup": "0008",
         "marker": {
          "color": "#FF6692"
         },
         "name": "0008",
         "offsetgroup": "0008",
         "opacity": 0.5,
         "showlegend": false,
         "xaxis": "x2",
         "y": [
          0.45454545454545453
         ],
         "yaxis": "y2",
         "type": "histogram"
        },
        {
         "fill": "toself",
         "mode": "lines",
         "name": "identity",
         "x": [
          0.5671680700748195,
          0.7772184246408351,
          0.7034290620665637,
          0.6244751443912869,
          0.6343285281592311,
          0.5852889197109684,
          0.44045332308874374
         ],
         "y": [
          0.5671680700748195,
          0.7772184246408351,
          0.7034290620665637,
          0.6244751443912869,
          0.6343285281592311,
          0.5852889197109684,
          0.44045332308874374
         ],
         "type": "scatter"
        }
       ],
       "layout": {
        "template": {
         "data": {
          "histogram2dcontour": [
           {
            "type": "histogram2dcontour",
            "colorbar": {
             "outlinewidth": 0,
             "ticks": ""
            },
            "colorscale": [
             [
              0.0,
              "#0d0887"
             ],
             [
              0.1111111111111111,
              "#46039f"
             ],
             [
              0.2222222222222222,
              "#7201a8"
             ],
             [
              0.3333333333333333,
              "#9c179e"
             ],
             [
              0.4444444444444444,
              "#bd3786"
             ],
             [
              0.5555555555555556,
              "#d8576b"
             ],
             [
              0.6666666666666666,
              "#ed7953"
             ],
             [
              0.7777777777777778,
              "#fb9f3a"
             ],
             [
              0.8888888888888888,
              "#fdca26"
             ],
             [
              1.0,
              "#f0f921"
             ]
            ]
           }
          ],
          "choropleth": [
           {
            "type": "choropleth",
            "colorbar": {
             "outlinewidth": 0,
             "ticks": ""
            }
           }
          ],
          "histogram2d": [
           {
            "type": "histogram2d",
            "colorbar": {
             "outlinewidth": 0,
             "ticks": ""
            },
            "colorscale": [
             [
              0.0,
              "#0d0887"
             ],
             [
              0.1111111111111111,
              "#46039f"
             ],
             [
              0.2222222222222222,
              "#7201a8"
             ],
             [
              0.3333333333333333,
              "#9c179e"
             ],
             [
              0.4444444444444444,
              "#bd3786"
             ],
             [
              0.5555555555555556,
              "#d8576b"
             ],
             [
              0.6666666666666666,
              "#ed7953"
             ],
             [
              0.7777777777777778,
              "#fb9f3a"
             ],
             [
              0.8888888888888888,
              "#fdca26"
             ],
             [
              1.0,
              "#f0f921"
             ]
            ]
           }
          ],
          "heatmap": [
           {
            "type": "heatmap",
            "colorbar": {
             "outlinewidth": 0,
             "ticks": ""
            },
            "colorscale": [
             [
              0.0,
              "#0d0887"
             ],
             [
              0.1111111111111111,
              "#46039f"
             ],
             [
              0.2222222222222222,
              "#7201a8"
             ],
             [
              0.3333333333333333,
              "#9c179e"
             ],
             [
              0.4444444444444444,
              "#bd3786"
             ],
             [
              0.5555555555555556,
              "#d8576b"
             ],
             [
              0.6666666666666666,
              "#ed7953"
             ],
             [
              0.7777777777777778,
              "#fb9f3a"
             ],
             [
              0.8888888888888888,
              "#fdca26"
             ],
             [
              1.0,
              "#f0f921"
             ]
            ]
           }
          ],
          "heatmapgl": [
           {
            "type": "heatmapgl",
            "colorbar": {
             "outlinewidth": 0,
             "ticks": ""
            },
            "colorscale": [
             [
              0.0,
              "#0d0887"
             ],
             [
              0.1111111111111111,
              "#46039f"
             ],
             [
              0.2222222222222222,
              "#7201a8"
             ],
             [
              0.3333333333333333,
              "#9c179e"
             ],
             [
              0.4444444444444444,
              "#bd3786"
             ],
             [
              0.5555555555555556,
              "#d8576b"
             ],
             [
              0.6666666666666666,
              "#ed7953"
             ],
             [
              0.7777777777777778,
              "#fb9f3a"
             ],
             [
              0.8888888888888888,
              "#fdca26"
             ],
             [
              1.0,
              "#f0f921"
             ]
            ]
           }
          ],
          "contourcarpet": [
           {
            "type": "contourcarpet",
            "colorbar": {
             "outlinewidth": 0,
             "ticks": ""
            }
           }
          ],
          "contour": [
           {
            "type": "contour",
            "colorbar": {
             "outlinewidth": 0,
             "ticks": ""
            },
            "colorscale": [
             [
              0.0,
              "#0d0887"
             ],
             [
              0.1111111111111111,
              "#46039f"
             ],
             [
              0.2222222222222222,
              "#7201a8"
             ],
             [
              0.3333333333333333,
              "#9c179e"
             ],
             [
              0.4444444444444444,
              "#bd3786"
             ],
             [
              0.5555555555555556,
              "#d8576b"
             ],
             [
              0.6666666666666666,
              "#ed7953"
             ],
             [
              0.7777777777777778,
              "#fb9f3a"
             ],
             [
              0.8888888888888888,
              "#fdca26"
             ],
             [
              1.0,
              "#f0f921"
             ]
            ]
           }
          ],
          "surface": [
           {
            "type": "surface",
            "colorbar": {
             "outlinewidth": 0,
             "ticks": ""
            },
            "colorscale": [
             [
              0.0,
              "#0d0887"
             ],
             [
              0.1111111111111111,
              "#46039f"
             ],
             [
              0.2222222222222222,
              "#7201a8"
             ],
             [
              0.3333333333333333,
              "#9c179e"
             ],
             [
              0.4444444444444444,
              "#bd3786"
             ],
             [
              0.5555555555555556,
              "#d8576b"
             ],
             [
              0.6666666666666666,
              "#ed7953"
             ],
             [
              0.7777777777777778,
              "#fb9f3a"
             ],
             [
              0.8888888888888888,
              "#fdca26"
             ],
             [
              1.0,
              "#f0f921"
             ]
            ]
           }
          ],
          "mesh3d": [
           {
            "type": "mesh3d",
            "colorbar": {
             "outlinewidth": 0,
             "ticks": ""
            }
           }
          ],
          "scatter": [
           {
            "marker": {
             "line": {
              "color": "#283442"
             }
            },
            "type": "scatter"
           }
          ],
          "parcoords": [
           {
            "type": "parcoords",
            "line": {
             "colorbar": {
              "outlinewidth": 0,
              "ticks": ""
             }
            }
           }
          ],
          "scatterpolargl": [
           {
            "type": "scatterpolargl",
            "marker": {
             "colorbar": {
              "outlinewidth": 0,
              "ticks": ""
             }
            }
           }
          ],
          "bar": [
           {
            "error_x": {
             "color": "#f2f5fa"
            },
            "error_y": {
             "color": "#f2f5fa"
            },
            "marker": {
             "line": {
              "color": "rgb(17,17,17)",
              "width": 0.5
             },
             "pattern": {
              "fillmode": "overlay",
              "size": 10,
              "solidity": 0.2
             }
            },
            "type": "bar"
           }
          ],
          "scattergeo": [
           {
            "type": "scattergeo",
            "marker": {
             "colorbar": {
              "outlinewidth": 0,
              "ticks": ""
             }
            }
           }
          ],
          "scatterpolar": [
           {
            "type": "scatterpolar",
            "marker": {
             "colorbar": {
              "outlinewidth": 0,
              "ticks": ""
             }
            }
           }
          ],
          "histogram": [
           {
            "marker": {
             "pattern": {
              "fillmode": "overlay",
              "size": 10,
              "solidity": 0.2
             }
            },
            "type": "histogram"
           }
          ],
          "scattergl": [
           {
            "marker": {
             "line": {
              "color": "#283442"
             }
            },
            "type": "scattergl"
           }
          ],
          "scatter3d": [
           {
            "type": "scatter3d",
            "line": {
             "colorbar": {
              "outlinewidth": 0,
              "ticks": ""
             }
            },
            "marker": {
             "colorbar": {
              "outlinewidth": 0,
              "ticks": ""
             }
            }
           }
          ],
          "scattermapbox": [
           {
            "type": "scattermapbox",
            "marker": {
             "colorbar": {
              "outlinewidth": 0,
              "ticks": ""
             }
            }
           }
          ],
          "scatterternary": [
           {
            "type": "scatterternary",
            "marker": {
             "colorbar": {
              "outlinewidth": 0,
              "ticks": ""
             }
            }
           }
          ],
          "scattercarpet": [
           {
            "type": "scattercarpet",
            "marker": {
             "colorbar": {
              "outlinewidth": 0,
              "ticks": ""
             }
            }
           }
          ],
          "carpet": [
           {
            "aaxis": {
             "endlinecolor": "#A2B1C6",
             "gridcolor": "#506784",
             "linecolor": "#506784",
             "minorgridcolor": "#506784",
             "startlinecolor": "#A2B1C6"
            },
            "baxis": {
             "endlinecolor": "#A2B1C6",
             "gridcolor": "#506784",
             "linecolor": "#506784",
             "minorgridcolor": "#506784",
             "startlinecolor": "#A2B1C6"
            },
            "type": "carpet"
           }
          ],
          "table": [
           {
            "cells": {
             "fill": {
              "color": "#506784"
             },
             "line": {
              "color": "rgb(17,17,17)"
             }
            },
            "header": {
             "fill": {
              "color": "#2a3f5f"
             },
             "line": {
              "color": "rgb(17,17,17)"
             }
            },
            "type": "table"
           }
          ],
          "barpolar": [
           {
            "marker": {
             "line": {
              "color": "rgb(17,17,17)",
              "width": 0.5
             },
             "pattern": {
              "fillmode": "overlay",
              "size": 10,
              "solidity": 0.2
             }
            },
            "type": "barpolar"
           }
          ],
          "pie": [
           {
            "automargin": true,
            "type": "pie"
           }
          ]
         },
         "layout": {
          "autotypenumbers": "strict",
          "colorway": [
           "#636efa",
           "#EF553B",
           "#00cc96",
           "#ab63fa",
           "#FFA15A",
           "#19d3f3",
           "#FF6692",
           "#B6E880",
           "#FF97FF",
           "#FECB52"
          ],
          "font": {
           "color": "#f2f5fa"
          },
          "hovermode": "closest",
          "hoverlabel": {
           "align": "left"
          },
          "paper_bgcolor": "rgb(17,17,17)",
          "plot_bgcolor": "rgb(17,17,17)",
          "polar": {
           "bgcolor": "rgb(17,17,17)",
           "angularaxis": {
            "gridcolor": "#506784",
            "linecolor": "#506784",
            "ticks": ""
           },
           "radialaxis": {
            "gridcolor": "#506784",
            "linecolor": "#506784",
            "ticks": ""
           }
          },
          "ternary": {
           "bgcolor": "rgb(17,17,17)",
           "aaxis": {
            "gridcolor": "#506784",
            "linecolor": "#506784",
            "ticks": ""
           },
           "baxis": {
            "gridcolor": "#506784",
            "linecolor": "#506784",
            "ticks": ""
           },
           "caxis": {
            "gridcolor": "#506784",
            "linecolor": "#506784",
            "ticks": ""
           }
          },
          "coloraxis": {
           "colorbar": {
            "outlinewidth": 0,
            "ticks": ""
           }
          },
          "colorscale": {
           "sequential": [
            [
             0.0,
             "#0d0887"
            ],
            [
             0.1111111111111111,
             "#46039f"
            ],
            [
             0.2222222222222222,
             "#7201a8"
            ],
            [
             0.3333333333333333,
             "#9c179e"
            ],
            [
             0.4444444444444444,
             "#bd3786"
            ],
            [
             0.5555555555555556,
             "#d8576b"
            ],
            [
             0.6666666666666666,
             "#ed7953"
            ],
            [
             0.7777777777777778,
             "#fb9f3a"
            ],
            [
             0.8888888888888888,
             "#fdca26"
            ],
            [
             1.0,
             "#f0f921"
            ]
           ],
           "sequentialminus": [
            [
             0.0,
             "#0d0887"
            ],
            [
             0.1111111111111111,
             "#46039f"
            ],
            [
             0.2222222222222222,
             "#7201a8"
            ],
            [
             0.3333333333333333,
             "#9c179e"
            ],
            [
             0.4444444444444444,
             "#bd3786"
            ],
            [
             0.5555555555555556,
             "#d8576b"
            ],
            [
             0.6666666666666666,
             "#ed7953"
            ],
            [
             0.7777777777777778,
             "#fb9f3a"
            ],
            [
             0.8888888888888888,
             "#fdca26"
            ],
            [
             1.0,
             "#f0f921"
            ]
           ],
           "diverging": [
            [
             0,
             "#8e0152"
            ],
            [
             0.1,
             "#c51b7d"
            ],
            [
             0.2,
             "#de77ae"
            ],
            [
             0.3,
             "#f1b6da"
            ],
            [
             0.4,
             "#fde0ef"
            ],
            [
             0.5,
             "#f7f7f7"
            ],
            [
             0.6,
             "#e6f5d0"
            ],
            [
             0.7,
             "#b8e186"
            ],
            [
             0.8,
             "#7fbc41"
            ],
            [
             0.9,
             "#4d9221"
            ],
            [
             1,
             "#276419"
            ]
           ]
          },
          "xaxis": {
           "gridcolor": "#283442",
           "linecolor": "#506784",
           "ticks": "",
           "title": {
            "standoff": 15
           },
           "zerolinecolor": "#283442",
           "automargin": true,
           "zerolinewidth": 2
          },
          "yaxis": {
           "gridcolor": "#283442",
           "linecolor": "#506784",
           "ticks": "",
           "title": {
            "standoff": 15
           },
           "zerolinecolor": "#283442",
           "automargin": true,
           "zerolinewidth": 2
          },
          "scene": {
           "xaxis": {
            "backgroundcolor": "rgb(17,17,17)",
            "gridcolor": "#506784",
            "linecolor": "#506784",
            "showbackground": true,
            "ticks": "",
            "zerolinecolor": "#C8D4E3",
            "gridwidth": 2
           },
           "yaxis": {
            "backgroundcolor": "rgb(17,17,17)",
            "gridcolor": "#506784",
            "linecolor": "#506784",
            "showbackground": true,
            "ticks": "",
            "zerolinecolor": "#C8D4E3",
            "gridwidth": 2
           },
           "zaxis": {
            "backgroundcolor": "rgb(17,17,17)",
            "gridcolor": "#506784",
            "linecolor": "#506784",
            "showbackground": true,
            "ticks": "",
            "zerolinecolor": "#C8D4E3",
            "gridwidth": 2
           }
          },
          "shapedefaults": {
           "line": {
            "color": "#f2f5fa"
           }
          },
          "annotationdefaults": {
           "arrowcolor": "#f2f5fa",
           "arrowhead": 0,
           "arrowwidth": 1
          },
          "geo": {
           "bgcolor": "rgb(17,17,17)",
           "landcolor": "rgb(17,17,17)",
           "subunitcolor": "#506784",
           "showland": true,
           "showlakes": true,
           "lakecolor": "rgb(17,17,17)"
          },
          "title": {
           "x": 0.05
          },
          "updatemenudefaults": {
           "bgcolor": "#506784",
           "borderwidth": 0
          },
          "sliderdefaults": {
           "bgcolor": "#C8D4E3",
           "borderwidth": 1,
           "bordercolor": "rgb(17,17,17)",
           "tickwidth": 0
          },
          "mapbox": {
           "style": "dark"
          }
         }
        },
        "xaxis": {
         "anchor": "y",
         "domain": [
          0.0,
          0.7363
         ],
         "title": {
          "text": "rawF1"
         }
        },
        "yaxis": {
         "anchor": "x",
         "domain": [
          0.0,
          1.0
         ],
         "title": {
          "text": "eventF1"
         }
        },
        "xaxis2": {
         "anchor": "y2",
         "domain": [
          0.7413,
          1.0
         ],
         "matches": "x2",
         "showticklabels": false,
         "showline": false,
         "ticks": "",
         "showgrid": true
        },
        "yaxis2": {
         "anchor": "x2",
         "domain": [
          0.0,
          1.0
         ],
         "matches": "y",
         "showticklabels": false,
         "showgrid": true
        },
        "legend": {
         "title": {
          "text": "test"
         },
         "tracegroupgap": 0
        },
        "margin": {
         "t": 60
        },
        "barmode": "overlay"
       },
       "config": {
        "plotlyServerURL": "https://plot.ly"
       }
      },
      "text/html": [
       "<div>                            <div id=\"bca1549c-a4b1-46eb-8d63-802f8bb5e490\" class=\"plotly-graph-div\" style=\"height:525px; width:100%;\"></div>            <script type=\"text/javascript\">                require([\"plotly\"], function(Plotly) {                    window.PLOTLYENV=window.PLOTLYENV || {};                                    if (document.getElementById(\"bca1549c-a4b1-46eb-8d63-802f8bb5e490\")) {                    Plotly.newPlot(                        \"bca1549c-a4b1-46eb-8d63-802f8bb5e490\",                        [{\"hovertemplate\":\"<b>%{hovertext}</b><br><br>test=0002<br>rawF1=%{x}<br>eventF1=%{y}<extra></extra>\",\"hovertext\":[\"a4659423-83e4-4da3-91b5-177fa8bc17fe\"],\"legendgroup\":\"0002\",\"marker\":{\"color\":\"#636efa\",\"symbol\":\"circle\"},\"mode\":\"markers\",\"name\":\"0002\",\"orientation\":\"v\",\"showlegend\":true,\"x\":[0.5671680700748195],\"xaxis\":\"x\",\"y\":[0.6370757180156658],\"yaxis\":\"y\",\"type\":\"scatter\"},{\"alignmentgroup\":\"True\",\"bingroup\":\"y\",\"hovertemplate\":\"test=0002<br>eventF1=%{y}<br>count=%{x}<extra></extra>\",\"legendgroup\":\"0002\",\"marker\":{\"color\":\"#636efa\"},\"name\":\"0002\",\"offsetgroup\":\"0002\",\"opacity\":0.5,\"showlegend\":false,\"xaxis\":\"x2\",\"y\":[0.6370757180156658],\"yaxis\":\"y2\",\"type\":\"histogram\"},{\"hovertemplate\":\"<b>%{hovertext}</b><br><br>test=0003<br>rawF1=%{x}<br>eventF1=%{y}<extra></extra>\",\"hovertext\":[\"ad3be387-5be4-4e8e-b57d-072003b617d3\"],\"legendgroup\":\"0003\",\"marker\":{\"color\":\"#EF553B\",\"symbol\":\"circle\"},\"mode\":\"markers\",\"name\":\"0003\",\"orientation\":\"v\",\"showlegend\":true,\"x\":[0.7772184246408351],\"xaxis\":\"x\",\"y\":[0.8481081081081081],\"yaxis\":\"y\",\"type\":\"scatter\"},{\"alignmentgroup\":\"True\",\"bingroup\":\"y\",\"hovertemplate\":\"test=0003<br>eventF1=%{y}<br>count=%{x}<extra></extra>\",\"legendgroup\":\"0003\",\"marker\":{\"color\":\"#EF553B\"},\"name\":\"0003\",\"offsetgroup\":\"0003\",\"opacity\":0.5,\"showlegend\":false,\"xaxis\":\"x2\",\"y\":[0.8481081081081081],\"yaxis\":\"y2\",\"type\":\"histogram\"},{\"hovertemplate\":\"<b>%{hovertext}</b><br><br>test=0004<br>rawF1=%{x}<br>eventF1=%{y}<extra></extra>\",\"hovertext\":[\"8bcbbc8b-b83e-4b97-8f7c-0dd0760680e7\"],\"legendgroup\":\"0004\",\"marker\":{\"color\":\"#00cc96\",\"symbol\":\"circle\"},\"mode\":\"markers\",\"name\":\"0004\",\"orientation\":\"v\",\"showlegend\":true,\"x\":[0.7034290620665637],\"xaxis\":\"x\",\"y\":[0.7785888077858881],\"yaxis\":\"y\",\"type\":\"scatter\"},{\"alignmentgroup\":\"True\",\"bingroup\":\"y\",\"hovertemplate\":\"test=0004<br>eventF1=%{y}<br>count=%{x}<extra></extra>\",\"legendgroup\":\"0004\",\"marker\":{\"color\":\"#00cc96\"},\"name\":\"0004\",\"offsetgroup\":\"0004\",\"opacity\":0.5,\"showlegend\":false,\"xaxis\":\"x2\",\"y\":[0.7785888077858881],\"yaxis\":\"y2\",\"type\":\"histogram\"},{\"hovertemplate\":\"<b>%{hovertext}</b><br><br>test=0005<br>rawF1=%{x}<br>eventF1=%{y}<extra></extra>\",\"hovertext\":[\"f88ed731-de3a-4c9a-90d5-04d1fcd93d45\"],\"legendgroup\":\"0005\",\"marker\":{\"color\":\"#ab63fa\",\"symbol\":\"circle\"},\"mode\":\"markers\",\"name\":\"0005\",\"orientation\":\"v\",\"showlegend\":true,\"x\":[0.6244751443912869],\"xaxis\":\"x\",\"y\":[0.6525054466230937],\"yaxis\":\"y\",\"type\":\"scatter\"},{\"alignmentgroup\":\"True\",\"bingroup\":\"y\",\"hovertemplate\":\"test=0005<br>eventF1=%{y}<br>count=%{x}<extra></extra>\",\"legendgroup\":\"0005\",\"marker\":{\"color\":\"#ab63fa\"},\"name\":\"0005\",\"offsetgroup\":\"0005\",\"opacity\":0.5,\"showlegend\":false,\"xaxis\":\"x2\",\"y\":[0.6525054466230937],\"yaxis\":\"y2\",\"type\":\"histogram\"},{\"hovertemplate\":\"<b>%{hovertext}</b><br><br>test=0006<br>rawF1=%{x}<br>eventF1=%{y}<extra></extra>\",\"hovertext\":[\"16a691da-d735-4ad2-953c-db2678980107\"],\"legendgroup\":\"0006\",\"marker\":{\"color\":\"#FFA15A\",\"symbol\":\"circle\"},\"mode\":\"markers\",\"name\":\"0006\",\"orientation\":\"v\",\"showlegend\":true,\"x\":[0.6343285281592311],\"xaxis\":\"x\",\"y\":[0.6848030018761726],\"yaxis\":\"y\",\"type\":\"scatter\"},{\"alignmentgroup\":\"True\",\"bingroup\":\"y\",\"hovertemplate\":\"test=0006<br>eventF1=%{y}<br>count=%{x}<extra></extra>\",\"legendgroup\":\"0006\",\"marker\":{\"color\":\"#FFA15A\"},\"name\":\"0006\",\"offsetgroup\":\"0006\",\"opacity\":0.5,\"showlegend\":false,\"xaxis\":\"x2\",\"y\":[0.6848030018761726],\"yaxis\":\"y2\",\"type\":\"histogram\"},{\"hovertemplate\":\"<b>%{hovertext}</b><br><br>test=0007<br>rawF1=%{x}<br>eventF1=%{y}<extra></extra>\",\"hovertext\":[\"d91f41ff-0308-46df-9bcd-67d46f377777\"],\"legendgroup\":\"0007\",\"marker\":{\"color\":\"#19d3f3\",\"symbol\":\"circle\"},\"mode\":\"markers\",\"name\":\"0007\",\"orientation\":\"v\",\"showlegend\":true,\"x\":[0.5852889197109684],\"xaxis\":\"x\",\"y\":[0.6557539682539683],\"yaxis\":\"y\",\"type\":\"scatter\"},{\"alignmentgroup\":\"True\",\"bingroup\":\"y\",\"hovertemplate\":\"test=0007<br>eventF1=%{y}<br>count=%{x}<extra></extra>\",\"legendgroup\":\"0007\",\"marker\":{\"color\":\"#19d3f3\"},\"name\":\"0007\",\"offsetgroup\":\"0007\",\"opacity\":0.5,\"showlegend\":false,\"xaxis\":\"x2\",\"y\":[0.6557539682539683],\"yaxis\":\"y2\",\"type\":\"histogram\"},{\"hovertemplate\":\"<b>%{hovertext}</b><br><br>test=0008<br>rawF1=%{x}<br>eventF1=%{y}<extra></extra>\",\"hovertext\":[\"a1eacac2-9e31-437a-9350-110d2ef2f1a5\"],\"legendgroup\":\"0008\",\"marker\":{\"color\":\"#FF6692\",\"symbol\":\"circle\"},\"mode\":\"markers\",\"name\":\"0008\",\"orientation\":\"v\",\"showlegend\":true,\"x\":[0.44045332308874374],\"xaxis\":\"x\",\"y\":[0.45454545454545453],\"yaxis\":\"y\",\"type\":\"scatter\"},{\"alignmentgroup\":\"True\",\"bingroup\":\"y\",\"hovertemplate\":\"test=0008<br>eventF1=%{y}<br>count=%{x}<extra></extra>\",\"legendgroup\":\"0008\",\"marker\":{\"color\":\"#FF6692\"},\"name\":\"0008\",\"offsetgroup\":\"0008\",\"opacity\":0.5,\"showlegend\":false,\"xaxis\":\"x2\",\"y\":[0.45454545454545453],\"yaxis\":\"y2\",\"type\":\"histogram\"},{\"fill\":\"toself\",\"mode\":\"lines\",\"name\":\"identity\",\"x\":[0.5671680700748195,0.7772184246408351,0.7034290620665637,0.6244751443912869,0.6343285281592311,0.5852889197109684,0.44045332308874374],\"y\":[0.5671680700748195,0.7772184246408351,0.7034290620665637,0.6244751443912869,0.6343285281592311,0.5852889197109684,0.44045332308874374],\"type\":\"scatter\"}],                        {\"template\":{\"data\":{\"histogram2dcontour\":[{\"type\":\"histogram2dcontour\",\"colorbar\":{\"outlinewidth\":0,\"ticks\":\"\"},\"colorscale\":[[0.0,\"#0d0887\"],[0.1111111111111111,\"#46039f\"],[0.2222222222222222,\"#7201a8\"],[0.3333333333333333,\"#9c179e\"],[0.4444444444444444,\"#bd3786\"],[0.5555555555555556,\"#d8576b\"],[0.6666666666666666,\"#ed7953\"],[0.7777777777777778,\"#fb9f3a\"],[0.8888888888888888,\"#fdca26\"],[1.0,\"#f0f921\"]]}],\"choropleth\":[{\"type\":\"choropleth\",\"colorbar\":{\"outlinewidth\":0,\"ticks\":\"\"}}],\"histogram2d\":[{\"type\":\"histogram2d\",\"colorbar\":{\"outlinewidth\":0,\"ticks\":\"\"},\"colorscale\":[[0.0,\"#0d0887\"],[0.1111111111111111,\"#46039f\"],[0.2222222222222222,\"#7201a8\"],[0.3333333333333333,\"#9c179e\"],[0.4444444444444444,\"#bd3786\"],[0.5555555555555556,\"#d8576b\"],[0.6666666666666666,\"#ed7953\"],[0.7777777777777778,\"#fb9f3a\"],[0.8888888888888888,\"#fdca26\"],[1.0,\"#f0f921\"]]}],\"heatmap\":[{\"type\":\"heatmap\",\"colorbar\":{\"outlinewidth\":0,\"ticks\":\"\"},\"colorscale\":[[0.0,\"#0d0887\"],[0.1111111111111111,\"#46039f\"],[0.2222222222222222,\"#7201a8\"],[0.3333333333333333,\"#9c179e\"],[0.4444444444444444,\"#bd3786\"],[0.5555555555555556,\"#d8576b\"],[0.6666666666666666,\"#ed7953\"],[0.7777777777777778,\"#fb9f3a\"],[0.8888888888888888,\"#fdca26\"],[1.0,\"#f0f921\"]]}],\"heatmapgl\":[{\"type\":\"heatmapgl\",\"colorbar\":{\"outlinewidth\":0,\"ticks\":\"\"},\"colorscale\":[[0.0,\"#0d0887\"],[0.1111111111111111,\"#46039f\"],[0.2222222222222222,\"#7201a8\"],[0.3333333333333333,\"#9c179e\"],[0.4444444444444444,\"#bd3786\"],[0.5555555555555556,\"#d8576b\"],[0.6666666666666666,\"#ed7953\"],[0.7777777777777778,\"#fb9f3a\"],[0.8888888888888888,\"#fdca26\"],[1.0,\"#f0f921\"]]}],\"contourcarpet\":[{\"type\":\"contourcarpet\",\"colorbar\":{\"outlinewidth\":0,\"ticks\":\"\"}}],\"contour\":[{\"type\":\"contour\",\"colorbar\":{\"outlinewidth\":0,\"ticks\":\"\"},\"colorscale\":[[0.0,\"#0d0887\"],[0.1111111111111111,\"#46039f\"],[0.2222222222222222,\"#7201a8\"],[0.3333333333333333,\"#9c179e\"],[0.4444444444444444,\"#bd3786\"],[0.5555555555555556,\"#d8576b\"],[0.6666666666666666,\"#ed7953\"],[0.7777777777777778,\"#fb9f3a\"],[0.8888888888888888,\"#fdca26\"],[1.0,\"#f0f921\"]]}],\"surface\":[{\"type\":\"surface\",\"colorbar\":{\"outlinewidth\":0,\"ticks\":\"\"},\"colorscale\":[[0.0,\"#0d0887\"],[0.1111111111111111,\"#46039f\"],[0.2222222222222222,\"#7201a8\"],[0.3333333333333333,\"#9c179e\"],[0.4444444444444444,\"#bd3786\"],[0.5555555555555556,\"#d8576b\"],[0.6666666666666666,\"#ed7953\"],[0.7777777777777778,\"#fb9f3a\"],[0.8888888888888888,\"#fdca26\"],[1.0,\"#f0f921\"]]}],\"mesh3d\":[{\"type\":\"mesh3d\",\"colorbar\":{\"outlinewidth\":0,\"ticks\":\"\"}}],\"scatter\":[{\"marker\":{\"line\":{\"color\":\"#283442\"}},\"type\":\"scatter\"}],\"parcoords\":[{\"type\":\"parcoords\",\"line\":{\"colorbar\":{\"outlinewidth\":0,\"ticks\":\"\"}}}],\"scatterpolargl\":[{\"type\":\"scatterpolargl\",\"marker\":{\"colorbar\":{\"outlinewidth\":0,\"ticks\":\"\"}}}],\"bar\":[{\"error_x\":{\"color\":\"#f2f5fa\"},\"error_y\":{\"color\":\"#f2f5fa\"},\"marker\":{\"line\":{\"color\":\"rgb(17,17,17)\",\"width\":0.5},\"pattern\":{\"fillmode\":\"overlay\",\"size\":10,\"solidity\":0.2}},\"type\":\"bar\"}],\"scattergeo\":[{\"type\":\"scattergeo\",\"marker\":{\"colorbar\":{\"outlinewidth\":0,\"ticks\":\"\"}}}],\"scatterpolar\":[{\"type\":\"scatterpolar\",\"marker\":{\"colorbar\":{\"outlinewidth\":0,\"ticks\":\"\"}}}],\"histogram\":[{\"marker\":{\"pattern\":{\"fillmode\":\"overlay\",\"size\":10,\"solidity\":0.2}},\"type\":\"histogram\"}],\"scattergl\":[{\"marker\":{\"line\":{\"color\":\"#283442\"}},\"type\":\"scattergl\"}],\"scatter3d\":[{\"type\":\"scatter3d\",\"line\":{\"colorbar\":{\"outlinewidth\":0,\"ticks\":\"\"}},\"marker\":{\"colorbar\":{\"outlinewidth\":0,\"ticks\":\"\"}}}],\"scattermapbox\":[{\"type\":\"scattermapbox\",\"marker\":{\"colorbar\":{\"outlinewidth\":0,\"ticks\":\"\"}}}],\"scatterternary\":[{\"type\":\"scatterternary\",\"marker\":{\"colorbar\":{\"outlinewidth\":0,\"ticks\":\"\"}}}],\"scattercarpet\":[{\"type\":\"scattercarpet\",\"marker\":{\"colorbar\":{\"outlinewidth\":0,\"ticks\":\"\"}}}],\"carpet\":[{\"aaxis\":{\"endlinecolor\":\"#A2B1C6\",\"gridcolor\":\"#506784\",\"linecolor\":\"#506784\",\"minorgridcolor\":\"#506784\",\"startlinecolor\":\"#A2B1C6\"},\"baxis\":{\"endlinecolor\":\"#A2B1C6\",\"gridcolor\":\"#506784\",\"linecolor\":\"#506784\",\"minorgridcolor\":\"#506784\",\"startlinecolor\":\"#A2B1C6\"},\"type\":\"carpet\"}],\"table\":[{\"cells\":{\"fill\":{\"color\":\"#506784\"},\"line\":{\"color\":\"rgb(17,17,17)\"}},\"header\":{\"fill\":{\"color\":\"#2a3f5f\"},\"line\":{\"color\":\"rgb(17,17,17)\"}},\"type\":\"table\"}],\"barpolar\":[{\"marker\":{\"line\":{\"color\":\"rgb(17,17,17)\",\"width\":0.5},\"pattern\":{\"fillmode\":\"overlay\",\"size\":10,\"solidity\":0.2}},\"type\":\"barpolar\"}],\"pie\":[{\"automargin\":true,\"type\":\"pie\"}]},\"layout\":{\"autotypenumbers\":\"strict\",\"colorway\":[\"#636efa\",\"#EF553B\",\"#00cc96\",\"#ab63fa\",\"#FFA15A\",\"#19d3f3\",\"#FF6692\",\"#B6E880\",\"#FF97FF\",\"#FECB52\"],\"font\":{\"color\":\"#f2f5fa\"},\"hovermode\":\"closest\",\"hoverlabel\":{\"align\":\"left\"},\"paper_bgcolor\":\"rgb(17,17,17)\",\"plot_bgcolor\":\"rgb(17,17,17)\",\"polar\":{\"bgcolor\":\"rgb(17,17,17)\",\"angularaxis\":{\"gridcolor\":\"#506784\",\"linecolor\":\"#506784\",\"ticks\":\"\"},\"radialaxis\":{\"gridcolor\":\"#506784\",\"linecolor\":\"#506784\",\"ticks\":\"\"}},\"ternary\":{\"bgcolor\":\"rgb(17,17,17)\",\"aaxis\":{\"gridcolor\":\"#506784\",\"linecolor\":\"#506784\",\"ticks\":\"\"},\"baxis\":{\"gridcolor\":\"#506784\",\"linecolor\":\"#506784\",\"ticks\":\"\"},\"caxis\":{\"gridcolor\":\"#506784\",\"linecolor\":\"#506784\",\"ticks\":\"\"}},\"coloraxis\":{\"colorbar\":{\"outlinewidth\":0,\"ticks\":\"\"}},\"colorscale\":{\"sequential\":[[0.0,\"#0d0887\"],[0.1111111111111111,\"#46039f\"],[0.2222222222222222,\"#7201a8\"],[0.3333333333333333,\"#9c179e\"],[0.4444444444444444,\"#bd3786\"],[0.5555555555555556,\"#d8576b\"],[0.6666666666666666,\"#ed7953\"],[0.7777777777777778,\"#fb9f3a\"],[0.8888888888888888,\"#fdca26\"],[1.0,\"#f0f921\"]],\"sequentialminus\":[[0.0,\"#0d0887\"],[0.1111111111111111,\"#46039f\"],[0.2222222222222222,\"#7201a8\"],[0.3333333333333333,\"#9c179e\"],[0.4444444444444444,\"#bd3786\"],[0.5555555555555556,\"#d8576b\"],[0.6666666666666666,\"#ed7953\"],[0.7777777777777778,\"#fb9f3a\"],[0.8888888888888888,\"#fdca26\"],[1.0,\"#f0f921\"]],\"diverging\":[[0,\"#8e0152\"],[0.1,\"#c51b7d\"],[0.2,\"#de77ae\"],[0.3,\"#f1b6da\"],[0.4,\"#fde0ef\"],[0.5,\"#f7f7f7\"],[0.6,\"#e6f5d0\"],[0.7,\"#b8e186\"],[0.8,\"#7fbc41\"],[0.9,\"#4d9221\"],[1,\"#276419\"]]},\"xaxis\":{\"gridcolor\":\"#283442\",\"linecolor\":\"#506784\",\"ticks\":\"\",\"title\":{\"standoff\":15},\"zerolinecolor\":\"#283442\",\"automargin\":true,\"zerolinewidth\":2},\"yaxis\":{\"gridcolor\":\"#283442\",\"linecolor\":\"#506784\",\"ticks\":\"\",\"title\":{\"standoff\":15},\"zerolinecolor\":\"#283442\",\"automargin\":true,\"zerolinewidth\":2},\"scene\":{\"xaxis\":{\"backgroundcolor\":\"rgb(17,17,17)\",\"gridcolor\":\"#506784\",\"linecolor\":\"#506784\",\"showbackground\":true,\"ticks\":\"\",\"zerolinecolor\":\"#C8D4E3\",\"gridwidth\":2},\"yaxis\":{\"backgroundcolor\":\"rgb(17,17,17)\",\"gridcolor\":\"#506784\",\"linecolor\":\"#506784\",\"showbackground\":true,\"ticks\":\"\",\"zerolinecolor\":\"#C8D4E3\",\"gridwidth\":2},\"zaxis\":{\"backgroundcolor\":\"rgb(17,17,17)\",\"gridcolor\":\"#506784\",\"linecolor\":\"#506784\",\"showbackground\":true,\"ticks\":\"\",\"zerolinecolor\":\"#C8D4E3\",\"gridwidth\":2}},\"shapedefaults\":{\"line\":{\"color\":\"#f2f5fa\"}},\"annotationdefaults\":{\"arrowcolor\":\"#f2f5fa\",\"arrowhead\":0,\"arrowwidth\":1},\"geo\":{\"bgcolor\":\"rgb(17,17,17)\",\"landcolor\":\"rgb(17,17,17)\",\"subunitcolor\":\"#506784\",\"showland\":true,\"showlakes\":true,\"lakecolor\":\"rgb(17,17,17)\"},\"title\":{\"x\":0.05},\"updatemenudefaults\":{\"bgcolor\":\"#506784\",\"borderwidth\":0},\"sliderdefaults\":{\"bgcolor\":\"#C8D4E3\",\"borderwidth\":1,\"bordercolor\":\"rgb(17,17,17)\",\"tickwidth\":0},\"mapbox\":{\"style\":\"dark\"}}},\"xaxis\":{\"anchor\":\"y\",\"domain\":[0.0,0.7363],\"title\":{\"text\":\"rawF1\"}},\"yaxis\":{\"anchor\":\"x\",\"domain\":[0.0,1.0],\"title\":{\"text\":\"eventF1\"}},\"xaxis2\":{\"anchor\":\"y2\",\"domain\":[0.7413,1.0],\"matches\":\"x2\",\"showticklabels\":false,\"showline\":false,\"ticks\":\"\",\"showgrid\":true},\"yaxis2\":{\"anchor\":\"x2\",\"domain\":[0.0,1.0],\"matches\":\"y\",\"showticklabels\":false,\"showgrid\":true},\"legend\":{\"title\":{\"text\":\"test\"},\"tracegroupgap\":0},\"margin\":{\"t\":60},\"barmode\":\"overlay\"},                        {\"responsive\": true}                    ).then(function(){\n",
       "                            \n",
       "var gd = document.getElementById('bca1549c-a4b1-46eb-8d63-802f8bb5e490');\n",
       "var x = new MutationObserver(function (mutations, observer) {{\n",
       "        var display = window.getComputedStyle(gd).display;\n",
       "        if (!display || display === 'none') {{\n",
       "            console.log([gd, 'removed!']);\n",
       "            Plotly.purge(gd);\n",
       "            observer.disconnect();\n",
       "        }}\n",
       "}});\n",
       "\n",
       "// Listen for the removal of the full notebook cells\n",
       "var notebookContainer = gd.closest('#notebook-container');\n",
       "if (notebookContainer) {{\n",
       "    x.observe(notebookContainer, {childList: true});\n",
       "}}\n",
       "\n",
       "// Listen for the clearing of the current output cell\n",
       "var outputEl = gd.closest('.output');\n",
       "if (outputEl) {{\n",
       "    x.observe(outputEl, {childList: true});\n",
       "}}\n",
       "\n",
       "                        })                };                });            </script>        </div>"
      ]
     },
     "metadata": {},
     "output_type": "display_data"
    }
   ],
   "execution_count": 61
  },
  {
   "cell_type": "code",
   "metadata": {
    "ExecuteTime": {
     "end_time": "2024-12-12T12:14:59.393093Z",
     "start_time": "2024-12-12T12:14:59.348096Z"
    }
   },
   "source": [
    "fig=px.scatter(experimentModels,x='eventF1',y='eventPrecision',color='test',hover_name='modelId', marginal_y=\"histogram\")\n",
    "fig.add_trace(\n",
    "    go.Scatter(x=experimentModels['eventF1'], y=experimentModels['eventF1'], name=\"identity\", mode='lines',fill=\"toself\")\n",
    ")\n",
    "fig.show()"
   ],
   "outputs": [
    {
     "data": {
      "application/vnd.plotly.v1+json": {
       "data": [
        {
         "hovertemplate": "<b>%{hovertext}</b><br><br>test=0002<br>eventF1=%{x}<br>eventPrecision=%{y}<extra></extra>",
         "hovertext": [
          "a4659423-83e4-4da3-91b5-177fa8bc17fe"
         ],
         "legendgroup": "0002",
         "marker": {
          "color": "#636efa",
          "symbol": "circle"
         },
         "mode": "markers",
         "name": "0002",
         "orientation": "v",
         "showlegend": true,
         "x": [
          0.6370757180156658
         ],
         "xaxis": "x",
         "y": [
          0.8531468531468531
         ],
         "yaxis": "y",
         "type": "scatter"
        },
        {
         "alignmentgroup": "True",
         "bingroup": "y",
         "hovertemplate": "test=0002<br>eventPrecision=%{y}<br>count=%{x}<extra></extra>",
         "legendgroup": "0002",
         "marker": {
          "color": "#636efa"
         },
         "name": "0002",
         "offsetgroup": "0002",
         "opacity": 0.5,
         "showlegend": false,
         "xaxis": "x2",
         "y": [
          0.8531468531468531
         ],
         "yaxis": "y2",
         "type": "histogram"
        },
        {
         "hovertemplate": "<b>%{hovertext}</b><br><br>test=0003<br>eventF1=%{x}<br>eventPrecision=%{y}<extra></extra>",
         "hovertext": [
          "ad3be387-5be4-4e8e-b57d-072003b617d3"
         ],
         "legendgroup": "0003",
         "marker": {
          "color": "#EF553B",
          "symbol": "circle"
         },
         "mode": "markers",
         "name": "0003",
         "orientation": "v",
         "showlegend": true,
         "x": [
          0.8481081081081081
         ],
         "xaxis": "x",
         "y": [
          0.7842157842157842
         ],
         "yaxis": "y",
         "type": "scatter"
        },
        {
         "alignmentgroup": "True",
         "bingroup": "y",
         "hovertemplate": "test=0003<br>eventPrecision=%{y}<br>count=%{x}<extra></extra>",
         "legendgroup": "0003",
         "marker": {
          "color": "#EF553B"
         },
         "name": "0003",
         "offsetgroup": "0003",
         "opacity": 0.5,
         "showlegend": false,
         "xaxis": "x2",
         "y": [
          0.7842157842157842
         ],
         "yaxis": "y2",
         "type": "histogram"
        },
        {
         "hovertemplate": "<b>%{hovertext}</b><br><br>test=0004<br>eventF1=%{x}<br>eventPrecision=%{y}<extra></extra>",
         "hovertext": [
          "8bcbbc8b-b83e-4b97-8f7c-0dd0760680e7"
         ],
         "legendgroup": "0004",
         "marker": {
          "color": "#00cc96",
          "symbol": "circle"
         },
         "mode": "markers",
         "name": "0004",
         "orientation": "v",
         "showlegend": true,
         "x": [
          0.7785888077858881
         ],
         "xaxis": "x",
         "y": [
          0.794044665012407
         ],
         "yaxis": "y",
         "type": "scatter"
        },
        {
         "alignmentgroup": "True",
         "bingroup": "y",
         "hovertemplate": "test=0004<br>eventPrecision=%{y}<br>count=%{x}<extra></extra>",
         "legendgroup": "0004",
         "marker": {
          "color": "#00cc96"
         },
         "name": "0004",
         "offsetgroup": "0004",
         "opacity": 0.5,
         "showlegend": false,
         "xaxis": "x2",
         "y": [
          0.794044665012407
         ],
         "yaxis": "y2",
         "type": "histogram"
        },
        {
         "hovertemplate": "<b>%{hovertext}</b><br><br>test=0005<br>eventF1=%{x}<br>eventPrecision=%{y}<extra></extra>",
         "hovertext": [
          "f88ed731-de3a-4c9a-90d5-04d1fcd93d45"
         ],
         "legendgroup": "0005",
         "marker": {
          "color": "#ab63fa",
          "symbol": "circle"
         },
         "mode": "markers",
         "name": "0005",
         "orientation": "v",
         "showlegend": true,
         "x": [
          0.6525054466230937
         ],
         "xaxis": "x",
         "y": [
          0.4983388704318937
         ],
         "yaxis": "y",
         "type": "scatter"
        },
        {
         "alignmentgroup": "True",
         "bingroup": "y",
         "hovertemplate": "test=0005<br>eventPrecision=%{y}<br>count=%{x}<extra></extra>",
         "legendgroup": "0005",
         "marker": {
          "color": "#ab63fa"
         },
         "name": "0005",
         "offsetgroup": "0005",
         "opacity": 0.5,
         "showlegend": false,
         "xaxis": "x2",
         "y": [
          0.4983388704318937
         ],
         "yaxis": "y2",
         "type": "histogram"
        },
        {
         "hovertemplate": "<b>%{hovertext}</b><br><br>test=0006<br>eventF1=%{x}<br>eventPrecision=%{y}<extra></extra>",
         "hovertext": [
          "16a691da-d735-4ad2-953c-db2678980107"
         ],
         "legendgroup": "0006",
         "marker": {
          "color": "#FFA15A",
          "symbol": "circle"
         },
         "mode": "markers",
         "name": "0006",
         "orientation": "v",
         "showlegend": true,
         "x": [
          0.6848030018761726
         ],
         "xaxis": "x",
         "y": [
          0.5960912052117264
         ],
         "yaxis": "y",
         "type": "scatter"
        },
        {
         "alignmentgroup": "True",
         "bingroup": "y",
         "hovertemplate": "test=0006<br>eventPrecision=%{y}<br>count=%{x}<extra></extra>",
         "legendgroup": "0006",
         "marker": {
          "color": "#FFA15A"
         },
         "name": "0006",
         "offsetgroup": "0006",
         "opacity": 0.5,
         "showlegend": false,
         "xaxis": "x2",
         "y": [
          0.5960912052117264
         ],
         "yaxis": "y2",
         "type": "histogram"
        },
        {
         "hovertemplate": "<b>%{hovertext}</b><br><br>test=0007<br>eventF1=%{x}<br>eventPrecision=%{y}<extra></extra>",
         "hovertext": [
          "d91f41ff-0308-46df-9bcd-67d46f377777"
         ],
         "legendgroup": "0007",
         "marker": {
          "color": "#19d3f3",
          "symbol": "circle"
         },
         "mode": "markers",
         "name": "0007",
         "orientation": "v",
         "showlegend": true,
         "x": [
          0.6557539682539683
         ],
         "xaxis": "x",
         "y": [
          0.5204402515723271
         ],
         "yaxis": "y",
         "type": "scatter"
        },
        {
         "alignmentgroup": "True",
         "bingroup": "y",
         "hovertemplate": "test=0007<br>eventPrecision=%{y}<br>count=%{x}<extra></extra>",
         "legendgroup": "0007",
         "marker": {
          "color": "#19d3f3"
         },
         "name": "0007",
         "offsetgroup": "0007",
         "opacity": 0.5,
         "showlegend": false,
         "xaxis": "x2",
         "y": [
          0.5204402515723271
         ],
         "yaxis": "y2",
         "type": "histogram"
        },
        {
         "hovertemplate": "<b>%{hovertext}</b><br><br>test=0008<br>eventF1=%{x}<br>eventPrecision=%{y}<extra></extra>",
         "hovertext": [
          "a1eacac2-9e31-437a-9350-110d2ef2f1a5"
         ],
         "legendgroup": "0008",
         "marker": {
          "color": "#FF6692",
          "symbol": "circle"
         },
         "mode": "markers",
         "name": "0008",
         "orientation": "v",
         "showlegend": true,
         "x": [
          0.45454545454545453
         ],
         "xaxis": "x",
         "y": [
          0.7894736842105263
         ],
         "yaxis": "y",
         "type": "scatter"
        },
        {
         "alignmentgroup": "True",
         "bingroup": "y",
         "hovertemplate": "test=0008<br>eventPrecision=%{y}<br>count=%{x}<extra></extra>",
         "legendgroup": "0008",
         "marker": {
          "color": "#FF6692"
         },
         "name": "0008",
         "offsetgroup": "0008",
         "opacity": 0.5,
         "showlegend": false,
         "xaxis": "x2",
         "y": [
          0.7894736842105263
         ],
         "yaxis": "y2",
         "type": "histogram"
        },
        {
         "fill": "toself",
         "mode": "lines",
         "name": "identity",
         "x": [
          0.6370757180156658,
          0.8481081081081081,
          0.7785888077858881,
          0.6525054466230937,
          0.6848030018761726,
          0.6557539682539683,
          0.45454545454545453
         ],
         "y": [
          0.6370757180156658,
          0.8481081081081081,
          0.7785888077858881,
          0.6525054466230937,
          0.6848030018761726,
          0.6557539682539683,
          0.45454545454545453
         ],
         "type": "scatter"
        }
       ],
       "layout": {
        "template": {
         "data": {
          "histogram2dcontour": [
           {
            "type": "histogram2dcontour",
            "colorbar": {
             "outlinewidth": 0,
             "ticks": ""
            },
            "colorscale": [
             [
              0.0,
              "#0d0887"
             ],
             [
              0.1111111111111111,
              "#46039f"
             ],
             [
              0.2222222222222222,
              "#7201a8"
             ],
             [
              0.3333333333333333,
              "#9c179e"
             ],
             [
              0.4444444444444444,
              "#bd3786"
             ],
             [
              0.5555555555555556,
              "#d8576b"
             ],
             [
              0.6666666666666666,
              "#ed7953"
             ],
             [
              0.7777777777777778,
              "#fb9f3a"
             ],
             [
              0.8888888888888888,
              "#fdca26"
             ],
             [
              1.0,
              "#f0f921"
             ]
            ]
           }
          ],
          "choropleth": [
           {
            "type": "choropleth",
            "colorbar": {
             "outlinewidth": 0,
             "ticks": ""
            }
           }
          ],
          "histogram2d": [
           {
            "type": "histogram2d",
            "colorbar": {
             "outlinewidth": 0,
             "ticks": ""
            },
            "colorscale": [
             [
              0.0,
              "#0d0887"
             ],
             [
              0.1111111111111111,
              "#46039f"
             ],
             [
              0.2222222222222222,
              "#7201a8"
             ],
             [
              0.3333333333333333,
              "#9c179e"
             ],
             [
              0.4444444444444444,
              "#bd3786"
             ],
             [
              0.5555555555555556,
              "#d8576b"
             ],
             [
              0.6666666666666666,
              "#ed7953"
             ],
             [
              0.7777777777777778,
              "#fb9f3a"
             ],
             [
              0.8888888888888888,
              "#fdca26"
             ],
             [
              1.0,
              "#f0f921"
             ]
            ]
           }
          ],
          "heatmap": [
           {
            "type": "heatmap",
            "colorbar": {
             "outlinewidth": 0,
             "ticks": ""
            },
            "colorscale": [
             [
              0.0,
              "#0d0887"
             ],
             [
              0.1111111111111111,
              "#46039f"
             ],
             [
              0.2222222222222222,
              "#7201a8"
             ],
             [
              0.3333333333333333,
              "#9c179e"
             ],
             [
              0.4444444444444444,
              "#bd3786"
             ],
             [
              0.5555555555555556,
              "#d8576b"
             ],
             [
              0.6666666666666666,
              "#ed7953"
             ],
             [
              0.7777777777777778,
              "#fb9f3a"
             ],
             [
              0.8888888888888888,
              "#fdca26"
             ],
             [
              1.0,
              "#f0f921"
             ]
            ]
           }
          ],
          "heatmapgl": [
           {
            "type": "heatmapgl",
            "colorbar": {
             "outlinewidth": 0,
             "ticks": ""
            },
            "colorscale": [
             [
              0.0,
              "#0d0887"
             ],
             [
              0.1111111111111111,
              "#46039f"
             ],
             [
              0.2222222222222222,
              "#7201a8"
             ],
             [
              0.3333333333333333,
              "#9c179e"
             ],
             [
              0.4444444444444444,
              "#bd3786"
             ],
             [
              0.5555555555555556,
              "#d8576b"
             ],
             [
              0.6666666666666666,
              "#ed7953"
             ],
             [
              0.7777777777777778,
              "#fb9f3a"
             ],
             [
              0.8888888888888888,
              "#fdca26"
             ],
             [
              1.0,
              "#f0f921"
             ]
            ]
           }
          ],
          "contourcarpet": [
           {
            "type": "contourcarpet",
            "colorbar": {
             "outlinewidth": 0,
             "ticks": ""
            }
           }
          ],
          "contour": [
           {
            "type": "contour",
            "colorbar": {
             "outlinewidth": 0,
             "ticks": ""
            },
            "colorscale": [
             [
              0.0,
              "#0d0887"
             ],
             [
              0.1111111111111111,
              "#46039f"
             ],
             [
              0.2222222222222222,
              "#7201a8"
             ],
             [
              0.3333333333333333,
              "#9c179e"
             ],
             [
              0.4444444444444444,
              "#bd3786"
             ],
             [
              0.5555555555555556,
              "#d8576b"
             ],
             [
              0.6666666666666666,
              "#ed7953"
             ],
             [
              0.7777777777777778,
              "#fb9f3a"
             ],
             [
              0.8888888888888888,
              "#fdca26"
             ],
             [
              1.0,
              "#f0f921"
             ]
            ]
           }
          ],
          "surface": [
           {
            "type": "surface",
            "colorbar": {
             "outlinewidth": 0,
             "ticks": ""
            },
            "colorscale": [
             [
              0.0,
              "#0d0887"
             ],
             [
              0.1111111111111111,
              "#46039f"
             ],
             [
              0.2222222222222222,
              "#7201a8"
             ],
             [
              0.3333333333333333,
              "#9c179e"
             ],
             [
              0.4444444444444444,
              "#bd3786"
             ],
             [
              0.5555555555555556,
              "#d8576b"
             ],
             [
              0.6666666666666666,
              "#ed7953"
             ],
             [
              0.7777777777777778,
              "#fb9f3a"
             ],
             [
              0.8888888888888888,
              "#fdca26"
             ],
             [
              1.0,
              "#f0f921"
             ]
            ]
           }
          ],
          "mesh3d": [
           {
            "type": "mesh3d",
            "colorbar": {
             "outlinewidth": 0,
             "ticks": ""
            }
           }
          ],
          "scatter": [
           {
            "marker": {
             "line": {
              "color": "#283442"
             }
            },
            "type": "scatter"
           }
          ],
          "parcoords": [
           {
            "type": "parcoords",
            "line": {
             "colorbar": {
              "outlinewidth": 0,
              "ticks": ""
             }
            }
           }
          ],
          "scatterpolargl": [
           {
            "type": "scatterpolargl",
            "marker": {
             "colorbar": {
              "outlinewidth": 0,
              "ticks": ""
             }
            }
           }
          ],
          "bar": [
           {
            "error_x": {
             "color": "#f2f5fa"
            },
            "error_y": {
             "color": "#f2f5fa"
            },
            "marker": {
             "line": {
              "color": "rgb(17,17,17)",
              "width": 0.5
             },
             "pattern": {
              "fillmode": "overlay",
              "size": 10,
              "solidity": 0.2
             }
            },
            "type": "bar"
           }
          ],
          "scattergeo": [
           {
            "type": "scattergeo",
            "marker": {
             "colorbar": {
              "outlinewidth": 0,
              "ticks": ""
             }
            }
           }
          ],
          "scatterpolar": [
           {
            "type": "scatterpolar",
            "marker": {
             "colorbar": {
              "outlinewidth": 0,
              "ticks": ""
             }
            }
           }
          ],
          "histogram": [
           {
            "marker": {
             "pattern": {
              "fillmode": "overlay",
              "size": 10,
              "solidity": 0.2
             }
            },
            "type": "histogram"
           }
          ],
          "scattergl": [
           {
            "marker": {
             "line": {
              "color": "#283442"
             }
            },
            "type": "scattergl"
           }
          ],
          "scatter3d": [
           {
            "type": "scatter3d",
            "line": {
             "colorbar": {
              "outlinewidth": 0,
              "ticks": ""
             }
            },
            "marker": {
             "colorbar": {
              "outlinewidth": 0,
              "ticks": ""
             }
            }
           }
          ],
          "scattermapbox": [
           {
            "type": "scattermapbox",
            "marker": {
             "colorbar": {
              "outlinewidth": 0,
              "ticks": ""
             }
            }
           }
          ],
          "scatterternary": [
           {
            "type": "scatterternary",
            "marker": {
             "colorbar": {
              "outlinewidth": 0,
              "ticks": ""
             }
            }
           }
          ],
          "scattercarpet": [
           {
            "type": "scattercarpet",
            "marker": {
             "colorbar": {
              "outlinewidth": 0,
              "ticks": ""
             }
            }
           }
          ],
          "carpet": [
           {
            "aaxis": {
             "endlinecolor": "#A2B1C6",
             "gridcolor": "#506784",
             "linecolor": "#506784",
             "minorgridcolor": "#506784",
             "startlinecolor": "#A2B1C6"
            },
            "baxis": {
             "endlinecolor": "#A2B1C6",
             "gridcolor": "#506784",
             "linecolor": "#506784",
             "minorgridcolor": "#506784",
             "startlinecolor": "#A2B1C6"
            },
            "type": "carpet"
           }
          ],
          "table": [
           {
            "cells": {
             "fill": {
              "color": "#506784"
             },
             "line": {
              "color": "rgb(17,17,17)"
             }
            },
            "header": {
             "fill": {
              "color": "#2a3f5f"
             },
             "line": {
              "color": "rgb(17,17,17)"
             }
            },
            "type": "table"
           }
          ],
          "barpolar": [
           {
            "marker": {
             "line": {
              "color": "rgb(17,17,17)",
              "width": 0.5
             },
             "pattern": {
              "fillmode": "overlay",
              "size": 10,
              "solidity": 0.2
             }
            },
            "type": "barpolar"
           }
          ],
          "pie": [
           {
            "automargin": true,
            "type": "pie"
           }
          ]
         },
         "layout": {
          "autotypenumbers": "strict",
          "colorway": [
           "#636efa",
           "#EF553B",
           "#00cc96",
           "#ab63fa",
           "#FFA15A",
           "#19d3f3",
           "#FF6692",
           "#B6E880",
           "#FF97FF",
           "#FECB52"
          ],
          "font": {
           "color": "#f2f5fa"
          },
          "hovermode": "closest",
          "hoverlabel": {
           "align": "left"
          },
          "paper_bgcolor": "rgb(17,17,17)",
          "plot_bgcolor": "rgb(17,17,17)",
          "polar": {
           "bgcolor": "rgb(17,17,17)",
           "angularaxis": {
            "gridcolor": "#506784",
            "linecolor": "#506784",
            "ticks": ""
           },
           "radialaxis": {
            "gridcolor": "#506784",
            "linecolor": "#506784",
            "ticks": ""
           }
          },
          "ternary": {
           "bgcolor": "rgb(17,17,17)",
           "aaxis": {
            "gridcolor": "#506784",
            "linecolor": "#506784",
            "ticks": ""
           },
           "baxis": {
            "gridcolor": "#506784",
            "linecolor": "#506784",
            "ticks": ""
           },
           "caxis": {
            "gridcolor": "#506784",
            "linecolor": "#506784",
            "ticks": ""
           }
          },
          "coloraxis": {
           "colorbar": {
            "outlinewidth": 0,
            "ticks": ""
           }
          },
          "colorscale": {
           "sequential": [
            [
             0.0,
             "#0d0887"
            ],
            [
             0.1111111111111111,
             "#46039f"
            ],
            [
             0.2222222222222222,
             "#7201a8"
            ],
            [
             0.3333333333333333,
             "#9c179e"
            ],
            [
             0.4444444444444444,
             "#bd3786"
            ],
            [
             0.5555555555555556,
             "#d8576b"
            ],
            [
             0.6666666666666666,
             "#ed7953"
            ],
            [
             0.7777777777777778,
             "#fb9f3a"
            ],
            [
             0.8888888888888888,
             "#fdca26"
            ],
            [
             1.0,
             "#f0f921"
            ]
           ],
           "sequentialminus": [
            [
             0.0,
             "#0d0887"
            ],
            [
             0.1111111111111111,
             "#46039f"
            ],
            [
             0.2222222222222222,
             "#7201a8"
            ],
            [
             0.3333333333333333,
             "#9c179e"
            ],
            [
             0.4444444444444444,
             "#bd3786"
            ],
            [
             0.5555555555555556,
             "#d8576b"
            ],
            [
             0.6666666666666666,
             "#ed7953"
            ],
            [
             0.7777777777777778,
             "#fb9f3a"
            ],
            [
             0.8888888888888888,
             "#fdca26"
            ],
            [
             1.0,
             "#f0f921"
            ]
           ],
           "diverging": [
            [
             0,
             "#8e0152"
            ],
            [
             0.1,
             "#c51b7d"
            ],
            [
             0.2,
             "#de77ae"
            ],
            [
             0.3,
             "#f1b6da"
            ],
            [
             0.4,
             "#fde0ef"
            ],
            [
             0.5,
             "#f7f7f7"
            ],
            [
             0.6,
             "#e6f5d0"
            ],
            [
             0.7,
             "#b8e186"
            ],
            [
             0.8,
             "#7fbc41"
            ],
            [
             0.9,
             "#4d9221"
            ],
            [
             1,
             "#276419"
            ]
           ]
          },
          "xaxis": {
           "gridcolor": "#283442",
           "linecolor": "#506784",
           "ticks": "",
           "title": {
            "standoff": 15
           },
           "zerolinecolor": "#283442",
           "automargin": true,
           "zerolinewidth": 2
          },
          "yaxis": {
           "gridcolor": "#283442",
           "linecolor": "#506784",
           "ticks": "",
           "title": {
            "standoff": 15
           },
           "zerolinecolor": "#283442",
           "automargin": true,
           "zerolinewidth": 2
          },
          "scene": {
           "xaxis": {
            "backgroundcolor": "rgb(17,17,17)",
            "gridcolor": "#506784",
            "linecolor": "#506784",
            "showbackground": true,
            "ticks": "",
            "zerolinecolor": "#C8D4E3",
            "gridwidth": 2
           },
           "yaxis": {
            "backgroundcolor": "rgb(17,17,17)",
            "gridcolor": "#506784",
            "linecolor": "#506784",
            "showbackground": true,
            "ticks": "",
            "zerolinecolor": "#C8D4E3",
            "gridwidth": 2
           },
           "zaxis": {
            "backgroundcolor": "rgb(17,17,17)",
            "gridcolor": "#506784",
            "linecolor": "#506784",
            "showbackground": true,
            "ticks": "",
            "zerolinecolor": "#C8D4E3",
            "gridwidth": 2
           }
          },
          "shapedefaults": {
           "line": {
            "color": "#f2f5fa"
           }
          },
          "annotationdefaults": {
           "arrowcolor": "#f2f5fa",
           "arrowhead": 0,
           "arrowwidth": 1
          },
          "geo": {
           "bgcolor": "rgb(17,17,17)",
           "landcolor": "rgb(17,17,17)",
           "subunitcolor": "#506784",
           "showland": true,
           "showlakes": true,
           "lakecolor": "rgb(17,17,17)"
          },
          "title": {
           "x": 0.05
          },
          "updatemenudefaults": {
           "bgcolor": "#506784",
           "borderwidth": 0
          },
          "sliderdefaults": {
           "bgcolor": "#C8D4E3",
           "borderwidth": 1,
           "bordercolor": "rgb(17,17,17)",
           "tickwidth": 0
          },
          "mapbox": {
           "style": "dark"
          }
         }
        },
        "xaxis": {
         "anchor": "y",
         "domain": [
          0.0,
          0.7363
         ],
         "title": {
          "text": "eventF1"
         }
        },
        "yaxis": {
         "anchor": "x",
         "domain": [
          0.0,
          1.0
         ],
         "title": {
          "text": "eventPrecision"
         }
        },
        "xaxis2": {
         "anchor": "y2",
         "domain": [
          0.7413,
          1.0
         ],
         "matches": "x2",
         "showticklabels": false,
         "showline": false,
         "ticks": "",
         "showgrid": true
        },
        "yaxis2": {
         "anchor": "x2",
         "domain": [
          0.0,
          1.0
         ],
         "matches": "y",
         "showticklabels": false,
         "showgrid": true
        },
        "legend": {
         "title": {
          "text": "test"
         },
         "tracegroupgap": 0
        },
        "margin": {
         "t": 60
        },
        "barmode": "overlay"
       },
       "config": {
        "plotlyServerURL": "https://plot.ly"
       }
      },
      "text/html": [
       "<div>                            <div id=\"57e72d61-708d-40ce-af2a-43c35d0f3c01\" class=\"plotly-graph-div\" style=\"height:525px; width:100%;\"></div>            <script type=\"text/javascript\">                require([\"plotly\"], function(Plotly) {                    window.PLOTLYENV=window.PLOTLYENV || {};                                    if (document.getElementById(\"57e72d61-708d-40ce-af2a-43c35d0f3c01\")) {                    Plotly.newPlot(                        \"57e72d61-708d-40ce-af2a-43c35d0f3c01\",                        [{\"hovertemplate\":\"<b>%{hovertext}</b><br><br>test=0002<br>eventF1=%{x}<br>eventPrecision=%{y}<extra></extra>\",\"hovertext\":[\"a4659423-83e4-4da3-91b5-177fa8bc17fe\"],\"legendgroup\":\"0002\",\"marker\":{\"color\":\"#636efa\",\"symbol\":\"circle\"},\"mode\":\"markers\",\"name\":\"0002\",\"orientation\":\"v\",\"showlegend\":true,\"x\":[0.6370757180156658],\"xaxis\":\"x\",\"y\":[0.8531468531468531],\"yaxis\":\"y\",\"type\":\"scatter\"},{\"alignmentgroup\":\"True\",\"bingroup\":\"y\",\"hovertemplate\":\"test=0002<br>eventPrecision=%{y}<br>count=%{x}<extra></extra>\",\"legendgroup\":\"0002\",\"marker\":{\"color\":\"#636efa\"},\"name\":\"0002\",\"offsetgroup\":\"0002\",\"opacity\":0.5,\"showlegend\":false,\"xaxis\":\"x2\",\"y\":[0.8531468531468531],\"yaxis\":\"y2\",\"type\":\"histogram\"},{\"hovertemplate\":\"<b>%{hovertext}</b><br><br>test=0003<br>eventF1=%{x}<br>eventPrecision=%{y}<extra></extra>\",\"hovertext\":[\"ad3be387-5be4-4e8e-b57d-072003b617d3\"],\"legendgroup\":\"0003\",\"marker\":{\"color\":\"#EF553B\",\"symbol\":\"circle\"},\"mode\":\"markers\",\"name\":\"0003\",\"orientation\":\"v\",\"showlegend\":true,\"x\":[0.8481081081081081],\"xaxis\":\"x\",\"y\":[0.7842157842157842],\"yaxis\":\"y\",\"type\":\"scatter\"},{\"alignmentgroup\":\"True\",\"bingroup\":\"y\",\"hovertemplate\":\"test=0003<br>eventPrecision=%{y}<br>count=%{x}<extra></extra>\",\"legendgroup\":\"0003\",\"marker\":{\"color\":\"#EF553B\"},\"name\":\"0003\",\"offsetgroup\":\"0003\",\"opacity\":0.5,\"showlegend\":false,\"xaxis\":\"x2\",\"y\":[0.7842157842157842],\"yaxis\":\"y2\",\"type\":\"histogram\"},{\"hovertemplate\":\"<b>%{hovertext}</b><br><br>test=0004<br>eventF1=%{x}<br>eventPrecision=%{y}<extra></extra>\",\"hovertext\":[\"8bcbbc8b-b83e-4b97-8f7c-0dd0760680e7\"],\"legendgroup\":\"0004\",\"marker\":{\"color\":\"#00cc96\",\"symbol\":\"circle\"},\"mode\":\"markers\",\"name\":\"0004\",\"orientation\":\"v\",\"showlegend\":true,\"x\":[0.7785888077858881],\"xaxis\":\"x\",\"y\":[0.794044665012407],\"yaxis\":\"y\",\"type\":\"scatter\"},{\"alignmentgroup\":\"True\",\"bingroup\":\"y\",\"hovertemplate\":\"test=0004<br>eventPrecision=%{y}<br>count=%{x}<extra></extra>\",\"legendgroup\":\"0004\",\"marker\":{\"color\":\"#00cc96\"},\"name\":\"0004\",\"offsetgroup\":\"0004\",\"opacity\":0.5,\"showlegend\":false,\"xaxis\":\"x2\",\"y\":[0.794044665012407],\"yaxis\":\"y2\",\"type\":\"histogram\"},{\"hovertemplate\":\"<b>%{hovertext}</b><br><br>test=0005<br>eventF1=%{x}<br>eventPrecision=%{y}<extra></extra>\",\"hovertext\":[\"f88ed731-de3a-4c9a-90d5-04d1fcd93d45\"],\"legendgroup\":\"0005\",\"marker\":{\"color\":\"#ab63fa\",\"symbol\":\"circle\"},\"mode\":\"markers\",\"name\":\"0005\",\"orientation\":\"v\",\"showlegend\":true,\"x\":[0.6525054466230937],\"xaxis\":\"x\",\"y\":[0.4983388704318937],\"yaxis\":\"y\",\"type\":\"scatter\"},{\"alignmentgroup\":\"True\",\"bingroup\":\"y\",\"hovertemplate\":\"test=0005<br>eventPrecision=%{y}<br>count=%{x}<extra></extra>\",\"legendgroup\":\"0005\",\"marker\":{\"color\":\"#ab63fa\"},\"name\":\"0005\",\"offsetgroup\":\"0005\",\"opacity\":0.5,\"showlegend\":false,\"xaxis\":\"x2\",\"y\":[0.4983388704318937],\"yaxis\":\"y2\",\"type\":\"histogram\"},{\"hovertemplate\":\"<b>%{hovertext}</b><br><br>test=0006<br>eventF1=%{x}<br>eventPrecision=%{y}<extra></extra>\",\"hovertext\":[\"16a691da-d735-4ad2-953c-db2678980107\"],\"legendgroup\":\"0006\",\"marker\":{\"color\":\"#FFA15A\",\"symbol\":\"circle\"},\"mode\":\"markers\",\"name\":\"0006\",\"orientation\":\"v\",\"showlegend\":true,\"x\":[0.6848030018761726],\"xaxis\":\"x\",\"y\":[0.5960912052117264],\"yaxis\":\"y\",\"type\":\"scatter\"},{\"alignmentgroup\":\"True\",\"bingroup\":\"y\",\"hovertemplate\":\"test=0006<br>eventPrecision=%{y}<br>count=%{x}<extra></extra>\",\"legendgroup\":\"0006\",\"marker\":{\"color\":\"#FFA15A\"},\"name\":\"0006\",\"offsetgroup\":\"0006\",\"opacity\":0.5,\"showlegend\":false,\"xaxis\":\"x2\",\"y\":[0.5960912052117264],\"yaxis\":\"y2\",\"type\":\"histogram\"},{\"hovertemplate\":\"<b>%{hovertext}</b><br><br>test=0007<br>eventF1=%{x}<br>eventPrecision=%{y}<extra></extra>\",\"hovertext\":[\"d91f41ff-0308-46df-9bcd-67d46f377777\"],\"legendgroup\":\"0007\",\"marker\":{\"color\":\"#19d3f3\",\"symbol\":\"circle\"},\"mode\":\"markers\",\"name\":\"0007\",\"orientation\":\"v\",\"showlegend\":true,\"x\":[0.6557539682539683],\"xaxis\":\"x\",\"y\":[0.5204402515723271],\"yaxis\":\"y\",\"type\":\"scatter\"},{\"alignmentgroup\":\"True\",\"bingroup\":\"y\",\"hovertemplate\":\"test=0007<br>eventPrecision=%{y}<br>count=%{x}<extra></extra>\",\"legendgroup\":\"0007\",\"marker\":{\"color\":\"#19d3f3\"},\"name\":\"0007\",\"offsetgroup\":\"0007\",\"opacity\":0.5,\"showlegend\":false,\"xaxis\":\"x2\",\"y\":[0.5204402515723271],\"yaxis\":\"y2\",\"type\":\"histogram\"},{\"hovertemplate\":\"<b>%{hovertext}</b><br><br>test=0008<br>eventF1=%{x}<br>eventPrecision=%{y}<extra></extra>\",\"hovertext\":[\"a1eacac2-9e31-437a-9350-110d2ef2f1a5\"],\"legendgroup\":\"0008\",\"marker\":{\"color\":\"#FF6692\",\"symbol\":\"circle\"},\"mode\":\"markers\",\"name\":\"0008\",\"orientation\":\"v\",\"showlegend\":true,\"x\":[0.45454545454545453],\"xaxis\":\"x\",\"y\":[0.7894736842105263],\"yaxis\":\"y\",\"type\":\"scatter\"},{\"alignmentgroup\":\"True\",\"bingroup\":\"y\",\"hovertemplate\":\"test=0008<br>eventPrecision=%{y}<br>count=%{x}<extra></extra>\",\"legendgroup\":\"0008\",\"marker\":{\"color\":\"#FF6692\"},\"name\":\"0008\",\"offsetgroup\":\"0008\",\"opacity\":0.5,\"showlegend\":false,\"xaxis\":\"x2\",\"y\":[0.7894736842105263],\"yaxis\":\"y2\",\"type\":\"histogram\"},{\"fill\":\"toself\",\"mode\":\"lines\",\"name\":\"identity\",\"x\":[0.6370757180156658,0.8481081081081081,0.7785888077858881,0.6525054466230937,0.6848030018761726,0.6557539682539683,0.45454545454545453],\"y\":[0.6370757180156658,0.8481081081081081,0.7785888077858881,0.6525054466230937,0.6848030018761726,0.6557539682539683,0.45454545454545453],\"type\":\"scatter\"}],                        {\"template\":{\"data\":{\"histogram2dcontour\":[{\"type\":\"histogram2dcontour\",\"colorbar\":{\"outlinewidth\":0,\"ticks\":\"\"},\"colorscale\":[[0.0,\"#0d0887\"],[0.1111111111111111,\"#46039f\"],[0.2222222222222222,\"#7201a8\"],[0.3333333333333333,\"#9c179e\"],[0.4444444444444444,\"#bd3786\"],[0.5555555555555556,\"#d8576b\"],[0.6666666666666666,\"#ed7953\"],[0.7777777777777778,\"#fb9f3a\"],[0.8888888888888888,\"#fdca26\"],[1.0,\"#f0f921\"]]}],\"choropleth\":[{\"type\":\"choropleth\",\"colorbar\":{\"outlinewidth\":0,\"ticks\":\"\"}}],\"histogram2d\":[{\"type\":\"histogram2d\",\"colorbar\":{\"outlinewidth\":0,\"ticks\":\"\"},\"colorscale\":[[0.0,\"#0d0887\"],[0.1111111111111111,\"#46039f\"],[0.2222222222222222,\"#7201a8\"],[0.3333333333333333,\"#9c179e\"],[0.4444444444444444,\"#bd3786\"],[0.5555555555555556,\"#d8576b\"],[0.6666666666666666,\"#ed7953\"],[0.7777777777777778,\"#fb9f3a\"],[0.8888888888888888,\"#fdca26\"],[1.0,\"#f0f921\"]]}],\"heatmap\":[{\"type\":\"heatmap\",\"colorbar\":{\"outlinewidth\":0,\"ticks\":\"\"},\"colorscale\":[[0.0,\"#0d0887\"],[0.1111111111111111,\"#46039f\"],[0.2222222222222222,\"#7201a8\"],[0.3333333333333333,\"#9c179e\"],[0.4444444444444444,\"#bd3786\"],[0.5555555555555556,\"#d8576b\"],[0.6666666666666666,\"#ed7953\"],[0.7777777777777778,\"#fb9f3a\"],[0.8888888888888888,\"#fdca26\"],[1.0,\"#f0f921\"]]}],\"heatmapgl\":[{\"type\":\"heatmapgl\",\"colorbar\":{\"outlinewidth\":0,\"ticks\":\"\"},\"colorscale\":[[0.0,\"#0d0887\"],[0.1111111111111111,\"#46039f\"],[0.2222222222222222,\"#7201a8\"],[0.3333333333333333,\"#9c179e\"],[0.4444444444444444,\"#bd3786\"],[0.5555555555555556,\"#d8576b\"],[0.6666666666666666,\"#ed7953\"],[0.7777777777777778,\"#fb9f3a\"],[0.8888888888888888,\"#fdca26\"],[1.0,\"#f0f921\"]]}],\"contourcarpet\":[{\"type\":\"contourcarpet\",\"colorbar\":{\"outlinewidth\":0,\"ticks\":\"\"}}],\"contour\":[{\"type\":\"contour\",\"colorbar\":{\"outlinewidth\":0,\"ticks\":\"\"},\"colorscale\":[[0.0,\"#0d0887\"],[0.1111111111111111,\"#46039f\"],[0.2222222222222222,\"#7201a8\"],[0.3333333333333333,\"#9c179e\"],[0.4444444444444444,\"#bd3786\"],[0.5555555555555556,\"#d8576b\"],[0.6666666666666666,\"#ed7953\"],[0.7777777777777778,\"#fb9f3a\"],[0.8888888888888888,\"#fdca26\"],[1.0,\"#f0f921\"]]}],\"surface\":[{\"type\":\"surface\",\"colorbar\":{\"outlinewidth\":0,\"ticks\":\"\"},\"colorscale\":[[0.0,\"#0d0887\"],[0.1111111111111111,\"#46039f\"],[0.2222222222222222,\"#7201a8\"],[0.3333333333333333,\"#9c179e\"],[0.4444444444444444,\"#bd3786\"],[0.5555555555555556,\"#d8576b\"],[0.6666666666666666,\"#ed7953\"],[0.7777777777777778,\"#fb9f3a\"],[0.8888888888888888,\"#fdca26\"],[1.0,\"#f0f921\"]]}],\"mesh3d\":[{\"type\":\"mesh3d\",\"colorbar\":{\"outlinewidth\":0,\"ticks\":\"\"}}],\"scatter\":[{\"marker\":{\"line\":{\"color\":\"#283442\"}},\"type\":\"scatter\"}],\"parcoords\":[{\"type\":\"parcoords\",\"line\":{\"colorbar\":{\"outlinewidth\":0,\"ticks\":\"\"}}}],\"scatterpolargl\":[{\"type\":\"scatterpolargl\",\"marker\":{\"colorbar\":{\"outlinewidth\":0,\"ticks\":\"\"}}}],\"bar\":[{\"error_x\":{\"color\":\"#f2f5fa\"},\"error_y\":{\"color\":\"#f2f5fa\"},\"marker\":{\"line\":{\"color\":\"rgb(17,17,17)\",\"width\":0.5},\"pattern\":{\"fillmode\":\"overlay\",\"size\":10,\"solidity\":0.2}},\"type\":\"bar\"}],\"scattergeo\":[{\"type\":\"scattergeo\",\"marker\":{\"colorbar\":{\"outlinewidth\":0,\"ticks\":\"\"}}}],\"scatterpolar\":[{\"type\":\"scatterpolar\",\"marker\":{\"colorbar\":{\"outlinewidth\":0,\"ticks\":\"\"}}}],\"histogram\":[{\"marker\":{\"pattern\":{\"fillmode\":\"overlay\",\"size\":10,\"solidity\":0.2}},\"type\":\"histogram\"}],\"scattergl\":[{\"marker\":{\"line\":{\"color\":\"#283442\"}},\"type\":\"scattergl\"}],\"scatter3d\":[{\"type\":\"scatter3d\",\"line\":{\"colorbar\":{\"outlinewidth\":0,\"ticks\":\"\"}},\"marker\":{\"colorbar\":{\"outlinewidth\":0,\"ticks\":\"\"}}}],\"scattermapbox\":[{\"type\":\"scattermapbox\",\"marker\":{\"colorbar\":{\"outlinewidth\":0,\"ticks\":\"\"}}}],\"scatterternary\":[{\"type\":\"scatterternary\",\"marker\":{\"colorbar\":{\"outlinewidth\":0,\"ticks\":\"\"}}}],\"scattercarpet\":[{\"type\":\"scattercarpet\",\"marker\":{\"colorbar\":{\"outlinewidth\":0,\"ticks\":\"\"}}}],\"carpet\":[{\"aaxis\":{\"endlinecolor\":\"#A2B1C6\",\"gridcolor\":\"#506784\",\"linecolor\":\"#506784\",\"minorgridcolor\":\"#506784\",\"startlinecolor\":\"#A2B1C6\"},\"baxis\":{\"endlinecolor\":\"#A2B1C6\",\"gridcolor\":\"#506784\",\"linecolor\":\"#506784\",\"minorgridcolor\":\"#506784\",\"startlinecolor\":\"#A2B1C6\"},\"type\":\"carpet\"}],\"table\":[{\"cells\":{\"fill\":{\"color\":\"#506784\"},\"line\":{\"color\":\"rgb(17,17,17)\"}},\"header\":{\"fill\":{\"color\":\"#2a3f5f\"},\"line\":{\"color\":\"rgb(17,17,17)\"}},\"type\":\"table\"}],\"barpolar\":[{\"marker\":{\"line\":{\"color\":\"rgb(17,17,17)\",\"width\":0.5},\"pattern\":{\"fillmode\":\"overlay\",\"size\":10,\"solidity\":0.2}},\"type\":\"barpolar\"}],\"pie\":[{\"automargin\":true,\"type\":\"pie\"}]},\"layout\":{\"autotypenumbers\":\"strict\",\"colorway\":[\"#636efa\",\"#EF553B\",\"#00cc96\",\"#ab63fa\",\"#FFA15A\",\"#19d3f3\",\"#FF6692\",\"#B6E880\",\"#FF97FF\",\"#FECB52\"],\"font\":{\"color\":\"#f2f5fa\"},\"hovermode\":\"closest\",\"hoverlabel\":{\"align\":\"left\"},\"paper_bgcolor\":\"rgb(17,17,17)\",\"plot_bgcolor\":\"rgb(17,17,17)\",\"polar\":{\"bgcolor\":\"rgb(17,17,17)\",\"angularaxis\":{\"gridcolor\":\"#506784\",\"linecolor\":\"#506784\",\"ticks\":\"\"},\"radialaxis\":{\"gridcolor\":\"#506784\",\"linecolor\":\"#506784\",\"ticks\":\"\"}},\"ternary\":{\"bgcolor\":\"rgb(17,17,17)\",\"aaxis\":{\"gridcolor\":\"#506784\",\"linecolor\":\"#506784\",\"ticks\":\"\"},\"baxis\":{\"gridcolor\":\"#506784\",\"linecolor\":\"#506784\",\"ticks\":\"\"},\"caxis\":{\"gridcolor\":\"#506784\",\"linecolor\":\"#506784\",\"ticks\":\"\"}},\"coloraxis\":{\"colorbar\":{\"outlinewidth\":0,\"ticks\":\"\"}},\"colorscale\":{\"sequential\":[[0.0,\"#0d0887\"],[0.1111111111111111,\"#46039f\"],[0.2222222222222222,\"#7201a8\"],[0.3333333333333333,\"#9c179e\"],[0.4444444444444444,\"#bd3786\"],[0.5555555555555556,\"#d8576b\"],[0.6666666666666666,\"#ed7953\"],[0.7777777777777778,\"#fb9f3a\"],[0.8888888888888888,\"#fdca26\"],[1.0,\"#f0f921\"]],\"sequentialminus\":[[0.0,\"#0d0887\"],[0.1111111111111111,\"#46039f\"],[0.2222222222222222,\"#7201a8\"],[0.3333333333333333,\"#9c179e\"],[0.4444444444444444,\"#bd3786\"],[0.5555555555555556,\"#d8576b\"],[0.6666666666666666,\"#ed7953\"],[0.7777777777777778,\"#fb9f3a\"],[0.8888888888888888,\"#fdca26\"],[1.0,\"#f0f921\"]],\"diverging\":[[0,\"#8e0152\"],[0.1,\"#c51b7d\"],[0.2,\"#de77ae\"],[0.3,\"#f1b6da\"],[0.4,\"#fde0ef\"],[0.5,\"#f7f7f7\"],[0.6,\"#e6f5d0\"],[0.7,\"#b8e186\"],[0.8,\"#7fbc41\"],[0.9,\"#4d9221\"],[1,\"#276419\"]]},\"xaxis\":{\"gridcolor\":\"#283442\",\"linecolor\":\"#506784\",\"ticks\":\"\",\"title\":{\"standoff\":15},\"zerolinecolor\":\"#283442\",\"automargin\":true,\"zerolinewidth\":2},\"yaxis\":{\"gridcolor\":\"#283442\",\"linecolor\":\"#506784\",\"ticks\":\"\",\"title\":{\"standoff\":15},\"zerolinecolor\":\"#283442\",\"automargin\":true,\"zerolinewidth\":2},\"scene\":{\"xaxis\":{\"backgroundcolor\":\"rgb(17,17,17)\",\"gridcolor\":\"#506784\",\"linecolor\":\"#506784\",\"showbackground\":true,\"ticks\":\"\",\"zerolinecolor\":\"#C8D4E3\",\"gridwidth\":2},\"yaxis\":{\"backgroundcolor\":\"rgb(17,17,17)\",\"gridcolor\":\"#506784\",\"linecolor\":\"#506784\",\"showbackground\":true,\"ticks\":\"\",\"zerolinecolor\":\"#C8D4E3\",\"gridwidth\":2},\"zaxis\":{\"backgroundcolor\":\"rgb(17,17,17)\",\"gridcolor\":\"#506784\",\"linecolor\":\"#506784\",\"showbackground\":true,\"ticks\":\"\",\"zerolinecolor\":\"#C8D4E3\",\"gridwidth\":2}},\"shapedefaults\":{\"line\":{\"color\":\"#f2f5fa\"}},\"annotationdefaults\":{\"arrowcolor\":\"#f2f5fa\",\"arrowhead\":0,\"arrowwidth\":1},\"geo\":{\"bgcolor\":\"rgb(17,17,17)\",\"landcolor\":\"rgb(17,17,17)\",\"subunitcolor\":\"#506784\",\"showland\":true,\"showlakes\":true,\"lakecolor\":\"rgb(17,17,17)\"},\"title\":{\"x\":0.05},\"updatemenudefaults\":{\"bgcolor\":\"#506784\",\"borderwidth\":0},\"sliderdefaults\":{\"bgcolor\":\"#C8D4E3\",\"borderwidth\":1,\"bordercolor\":\"rgb(17,17,17)\",\"tickwidth\":0},\"mapbox\":{\"style\":\"dark\"}}},\"xaxis\":{\"anchor\":\"y\",\"domain\":[0.0,0.7363],\"title\":{\"text\":\"eventF1\"}},\"yaxis\":{\"anchor\":\"x\",\"domain\":[0.0,1.0],\"title\":{\"text\":\"eventPrecision\"}},\"xaxis2\":{\"anchor\":\"y2\",\"domain\":[0.7413,1.0],\"matches\":\"x2\",\"showticklabels\":false,\"showline\":false,\"ticks\":\"\",\"showgrid\":true},\"yaxis2\":{\"anchor\":\"x2\",\"domain\":[0.0,1.0],\"matches\":\"y\",\"showticklabels\":false,\"showgrid\":true},\"legend\":{\"title\":{\"text\":\"test\"},\"tracegroupgap\":0},\"margin\":{\"t\":60},\"barmode\":\"overlay\"},                        {\"responsive\": true}                    ).then(function(){\n",
       "                            \n",
       "var gd = document.getElementById('57e72d61-708d-40ce-af2a-43c35d0f3c01');\n",
       "var x = new MutationObserver(function (mutations, observer) {{\n",
       "        var display = window.getComputedStyle(gd).display;\n",
       "        if (!display || display === 'none') {{\n",
       "            console.log([gd, 'removed!']);\n",
       "            Plotly.purge(gd);\n",
       "            observer.disconnect();\n",
       "        }}\n",
       "}});\n",
       "\n",
       "// Listen for the removal of the full notebook cells\n",
       "var notebookContainer = gd.closest('#notebook-container');\n",
       "if (notebookContainer) {{\n",
       "    x.observe(notebookContainer, {childList: true});\n",
       "}}\n",
       "\n",
       "// Listen for the clearing of the current output cell\n",
       "var outputEl = gd.closest('.output');\n",
       "if (outputEl) {{\n",
       "    x.observe(outputEl, {childList: true});\n",
       "}}\n",
       "\n",
       "                        })                };                });            </script>        </div>"
      ]
     },
     "metadata": {},
     "output_type": "display_data"
    }
   ],
   "execution_count": 62
  },
  {
   "cell_type": "code",
   "metadata": {
    "ExecuteTime": {
     "end_time": "2024-12-12T12:14:59.471651Z",
     "start_time": "2024-12-12T12:14:59.425024Z"
    }
   },
   "source": [
    "fig=px.scatter(experimentModels,x='eventF1',y='eventRecall',color='test',hover_name='modelId', marginal_y=\"histogram\")\n",
    "fig.add_trace(\n",
    "    go.Scatter(x=experimentModels['eventF1'], y=experimentModels['eventF1'], name=\"identity\", mode='lines',fill=\"toself\")\n",
    ")\n",
    "fig.show()"
   ],
   "outputs": [
    {
     "data": {
      "application/vnd.plotly.v1+json": {
       "data": [
        {
         "hovertemplate": "<b>%{hovertext}</b><br><br>test=0002<br>eventF1=%{x}<br>eventRecall=%{y}<extra></extra>",
         "hovertext": [
          "a4659423-83e4-4da3-91b5-177fa8bc17fe"
         ],
         "legendgroup": "0002",
         "marker": {
          "color": "#636efa",
          "symbol": "circle"
         },
         "mode": "markers",
         "name": "0002",
         "orientation": "v",
         "showlegend": true,
         "x": [
          0.6370757180156658
         ],
         "xaxis": "x",
         "y": [
          0.5083333333333333
         ],
         "yaxis": "y",
         "type": "scatter"
        },
        {
         "alignmentgroup": "True",
         "bingroup": "y",
         "hovertemplate": "test=0002<br>eventRecall=%{y}<br>count=%{x}<extra></extra>",
         "legendgroup": "0002",
         "marker": {
          "color": "#636efa"
         },
         "name": "0002",
         "offsetgroup": "0002",
         "opacity": 0.5,
         "showlegend": false,
         "xaxis": "x2",
         "y": [
          0.5083333333333333
         ],
         "yaxis": "y2",
         "type": "histogram"
        },
        {
         "hovertemplate": "<b>%{hovertext}</b><br><br>test=0003<br>eventF1=%{x}<br>eventRecall=%{y}<extra></extra>",
         "hovertext": [
          "ad3be387-5be4-4e8e-b57d-072003b617d3"
         ],
         "legendgroup": "0003",
         "marker": {
          "color": "#EF553B",
          "symbol": "circle"
         },
         "mode": "markers",
         "name": "0003",
         "orientation": "v",
         "showlegend": true,
         "x": [
          0.8481081081081081
         ],
         "xaxis": "x",
         "y": [
          0.9234393404004712
         ],
         "yaxis": "y",
         "type": "scatter"
        },
        {
         "alignmentgroup": "True",
         "bingroup": "y",
         "hovertemplate": "test=0003<br>eventRecall=%{y}<br>count=%{x}<extra></extra>",
         "legendgroup": "0003",
         "marker": {
          "color": "#EF553B"
         },
         "name": "0003",
         "offsetgroup": "0003",
         "opacity": 0.5,
         "showlegend": false,
         "xaxis": "x2",
         "y": [
          0.9234393404004712
         ],
         "yaxis": "y2",
         "type": "histogram"
        },
        {
         "hovertemplate": "<b>%{hovertext}</b><br><br>test=0004<br>eventF1=%{x}<br>eventRecall=%{y}<extra></extra>",
         "hovertext": [
          "8bcbbc8b-b83e-4b97-8f7c-0dd0760680e7"
         ],
         "legendgroup": "0004",
         "marker": {
          "color": "#00cc96",
          "symbol": "circle"
         },
         "mode": "markers",
         "name": "0004",
         "orientation": "v",
         "showlegend": true,
         "x": [
          0.7785888077858881
         ],
         "xaxis": "x",
         "y": [
          0.7637231503579952
         ],
         "yaxis": "y",
         "type": "scatter"
        },
        {
         "alignmentgroup": "True",
         "bingroup": "y",
         "hovertemplate": "test=0004<br>eventRecall=%{y}<br>count=%{x}<extra></extra>",
         "legendgroup": "0004",
         "marker": {
          "color": "#00cc96"
         },
         "name": "0004",
         "offsetgroup": "0004",
         "opacity": 0.5,
         "showlegend": false,
         "xaxis": "x2",
         "y": [
          0.7637231503579952
         ],
         "yaxis": "y2",
         "type": "histogram"
        },
        {
         "hovertemplate": "<b>%{hovertext}</b><br><br>test=0005<br>eventF1=%{x}<br>eventRecall=%{y}<extra></extra>",
         "hovertext": [
          "f88ed731-de3a-4c9a-90d5-04d1fcd93d45"
         ],
         "legendgroup": "0005",
         "marker": {
          "color": "#ab63fa",
          "symbol": "circle"
         },
         "mode": "markers",
         "name": "0005",
         "orientation": "v",
         "showlegend": true,
         "x": [
          0.6525054466230937
         ],
         "xaxis": "x",
         "y": [
          0.9462025316455697
         ],
         "yaxis": "y",
         "type": "scatter"
        },
        {
         "alignmentgroup": "True",
         "bingroup": "y",
         "hovertemplate": "test=0005<br>eventRecall=%{y}<br>count=%{x}<extra></extra>",
         "legendgroup": "0005",
         "marker": {
          "color": "#ab63fa"
         },
         "name": "0005",
         "offsetgroup": "0005",
         "opacity": 0.5,
         "showlegend": false,
         "xaxis": "x2",
         "y": [
          0.9462025316455697
         ],
         "yaxis": "y2",
         "type": "histogram"
        },
        {
         "hovertemplate": "<b>%{hovertext}</b><br><br>test=0006<br>eventF1=%{x}<br>eventRecall=%{y}<extra></extra>",
         "hovertext": [
          "16a691da-d735-4ad2-953c-db2678980107"
         ],
         "legendgroup": "0006",
         "marker": {
          "color": "#FFA15A",
          "symbol": "circle"
         },
         "mode": "markers",
         "name": "0006",
         "orientation": "v",
         "showlegend": true,
         "x": [
          0.6848030018761726
         ],
         "xaxis": "x",
         "y": [
          0.8053097345132744
         ],
         "yaxis": "y",
         "type": "scatter"
        },
        {
         "alignmentgroup": "True",
         "bingroup": "y",
         "hovertemplate": "test=0006<br>eventRecall=%{y}<br>count=%{x}<extra></extra>",
         "legendgroup": "0006",
         "marker": {
          "color": "#FFA15A"
         },
         "name": "0006",
         "offsetgroup": "0006",
         "opacity": 0.5,
         "showlegend": false,
         "xaxis": "x2",
         "y": [
          0.8053097345132744
         ],
         "yaxis": "y2",
         "type": "histogram"
        },
        {
         "hovertemplate": "<b>%{hovertext}</b><br><br>test=0007<br>eventF1=%{x}<br>eventRecall=%{y}<extra></extra>",
         "hovertext": [
          "d91f41ff-0308-46df-9bcd-67d46f377777"
         ],
         "legendgroup": "0007",
         "marker": {
          "color": "#19d3f3",
          "symbol": "circle"
         },
         "mode": "markers",
         "name": "0007",
         "orientation": "v",
         "showlegend": true,
         "x": [
          0.6557539682539683
         ],
         "xaxis": "x",
         "y": [
          0.8870967741935484
         ],
         "yaxis": "y",
         "type": "scatter"
        },
        {
         "alignmentgroup": "True",
         "bingroup": "y",
         "hovertemplate": "test=0007<br>eventRecall=%{y}<br>count=%{x}<extra></extra>",
         "legendgroup": "0007",
         "marker": {
          "color": "#19d3f3"
         },
         "name": "0007",
         "offsetgroup": "0007",
         "opacity": 0.5,
         "showlegend": false,
         "xaxis": "x2",
         "y": [
          0.8870967741935484
         ],
         "yaxis": "y2",
         "type": "histogram"
        },
        {
         "hovertemplate": "<b>%{hovertext}</b><br><br>test=0008<br>eventF1=%{x}<br>eventRecall=%{y}<extra></extra>",
         "hovertext": [
          "a1eacac2-9e31-437a-9350-110d2ef2f1a5"
         ],
         "legendgroup": "0008",
         "marker": {
          "color": "#FF6692",
          "symbol": "circle"
         },
         "mode": "markers",
         "name": "0008",
         "orientation": "v",
         "showlegend": true,
         "x": [
          0.45454545454545453
         ],
         "xaxis": "x",
         "y": [
          0.3191489361702128
         ],
         "yaxis": "y",
         "type": "scatter"
        },
        {
         "alignmentgroup": "True",
         "bingroup": "y",
         "hovertemplate": "test=0008<br>eventRecall=%{y}<br>count=%{x}<extra></extra>",
         "legendgroup": "0008",
         "marker": {
          "color": "#FF6692"
         },
         "name": "0008",
         "offsetgroup": "0008",
         "opacity": 0.5,
         "showlegend": false,
         "xaxis": "x2",
         "y": [
          0.3191489361702128
         ],
         "yaxis": "y2",
         "type": "histogram"
        },
        {
         "fill": "toself",
         "mode": "lines",
         "name": "identity",
         "x": [
          0.6370757180156658,
          0.8481081081081081,
          0.7785888077858881,
          0.6525054466230937,
          0.6848030018761726,
          0.6557539682539683,
          0.45454545454545453
         ],
         "y": [
          0.6370757180156658,
          0.8481081081081081,
          0.7785888077858881,
          0.6525054466230937,
          0.6848030018761726,
          0.6557539682539683,
          0.45454545454545453
         ],
         "type": "scatter"
        }
       ],
       "layout": {
        "template": {
         "data": {
          "histogram2dcontour": [
           {
            "type": "histogram2dcontour",
            "colorbar": {
             "outlinewidth": 0,
             "ticks": ""
            },
            "colorscale": [
             [
              0.0,
              "#0d0887"
             ],
             [
              0.1111111111111111,
              "#46039f"
             ],
             [
              0.2222222222222222,
              "#7201a8"
             ],
             [
              0.3333333333333333,
              "#9c179e"
             ],
             [
              0.4444444444444444,
              "#bd3786"
             ],
             [
              0.5555555555555556,
              "#d8576b"
             ],
             [
              0.6666666666666666,
              "#ed7953"
             ],
             [
              0.7777777777777778,
              "#fb9f3a"
             ],
             [
              0.8888888888888888,
              "#fdca26"
             ],
             [
              1.0,
              "#f0f921"
             ]
            ]
           }
          ],
          "choropleth": [
           {
            "type": "choropleth",
            "colorbar": {
             "outlinewidth": 0,
             "ticks": ""
            }
           }
          ],
          "histogram2d": [
           {
            "type": "histogram2d",
            "colorbar": {
             "outlinewidth": 0,
             "ticks": ""
            },
            "colorscale": [
             [
              0.0,
              "#0d0887"
             ],
             [
              0.1111111111111111,
              "#46039f"
             ],
             [
              0.2222222222222222,
              "#7201a8"
             ],
             [
              0.3333333333333333,
              "#9c179e"
             ],
             [
              0.4444444444444444,
              "#bd3786"
             ],
             [
              0.5555555555555556,
              "#d8576b"
             ],
             [
              0.6666666666666666,
              "#ed7953"
             ],
             [
              0.7777777777777778,
              "#fb9f3a"
             ],
             [
              0.8888888888888888,
              "#fdca26"
             ],
             [
              1.0,
              "#f0f921"
             ]
            ]
           }
          ],
          "heatmap": [
           {
            "type": "heatmap",
            "colorbar": {
             "outlinewidth": 0,
             "ticks": ""
            },
            "colorscale": [
             [
              0.0,
              "#0d0887"
             ],
             [
              0.1111111111111111,
              "#46039f"
             ],
             [
              0.2222222222222222,
              "#7201a8"
             ],
             [
              0.3333333333333333,
              "#9c179e"
             ],
             [
              0.4444444444444444,
              "#bd3786"
             ],
             [
              0.5555555555555556,
              "#d8576b"
             ],
             [
              0.6666666666666666,
              "#ed7953"
             ],
             [
              0.7777777777777778,
              "#fb9f3a"
             ],
             [
              0.8888888888888888,
              "#fdca26"
             ],
             [
              1.0,
              "#f0f921"
             ]
            ]
           }
          ],
          "heatmapgl": [
           {
            "type": "heatmapgl",
            "colorbar": {
             "outlinewidth": 0,
             "ticks": ""
            },
            "colorscale": [
             [
              0.0,
              "#0d0887"
             ],
             [
              0.1111111111111111,
              "#46039f"
             ],
             [
              0.2222222222222222,
              "#7201a8"
             ],
             [
              0.3333333333333333,
              "#9c179e"
             ],
             [
              0.4444444444444444,
              "#bd3786"
             ],
             [
              0.5555555555555556,
              "#d8576b"
             ],
             [
              0.6666666666666666,
              "#ed7953"
             ],
             [
              0.7777777777777778,
              "#fb9f3a"
             ],
             [
              0.8888888888888888,
              "#fdca26"
             ],
             [
              1.0,
              "#f0f921"
             ]
            ]
           }
          ],
          "contourcarpet": [
           {
            "type": "contourcarpet",
            "colorbar": {
             "outlinewidth": 0,
             "ticks": ""
            }
           }
          ],
          "contour": [
           {
            "type": "contour",
            "colorbar": {
             "outlinewidth": 0,
             "ticks": ""
            },
            "colorscale": [
             [
              0.0,
              "#0d0887"
             ],
             [
              0.1111111111111111,
              "#46039f"
             ],
             [
              0.2222222222222222,
              "#7201a8"
             ],
             [
              0.3333333333333333,
              "#9c179e"
             ],
             [
              0.4444444444444444,
              "#bd3786"
             ],
             [
              0.5555555555555556,
              "#d8576b"
             ],
             [
              0.6666666666666666,
              "#ed7953"
             ],
             [
              0.7777777777777778,
              "#fb9f3a"
             ],
             [
              0.8888888888888888,
              "#fdca26"
             ],
             [
              1.0,
              "#f0f921"
             ]
            ]
           }
          ],
          "surface": [
           {
            "type": "surface",
            "colorbar": {
             "outlinewidth": 0,
             "ticks": ""
            },
            "colorscale": [
             [
              0.0,
              "#0d0887"
             ],
             [
              0.1111111111111111,
              "#46039f"
             ],
             [
              0.2222222222222222,
              "#7201a8"
             ],
             [
              0.3333333333333333,
              "#9c179e"
             ],
             [
              0.4444444444444444,
              "#bd3786"
             ],
             [
              0.5555555555555556,
              "#d8576b"
             ],
             [
              0.6666666666666666,
              "#ed7953"
             ],
             [
              0.7777777777777778,
              "#fb9f3a"
             ],
             [
              0.8888888888888888,
              "#fdca26"
             ],
             [
              1.0,
              "#f0f921"
             ]
            ]
           }
          ],
          "mesh3d": [
           {
            "type": "mesh3d",
            "colorbar": {
             "outlinewidth": 0,
             "ticks": ""
            }
           }
          ],
          "scatter": [
           {
            "marker": {
             "line": {
              "color": "#283442"
             }
            },
            "type": "scatter"
           }
          ],
          "parcoords": [
           {
            "type": "parcoords",
            "line": {
             "colorbar": {
              "outlinewidth": 0,
              "ticks": ""
             }
            }
           }
          ],
          "scatterpolargl": [
           {
            "type": "scatterpolargl",
            "marker": {
             "colorbar": {
              "outlinewidth": 0,
              "ticks": ""
             }
            }
           }
          ],
          "bar": [
           {
            "error_x": {
             "color": "#f2f5fa"
            },
            "error_y": {
             "color": "#f2f5fa"
            },
            "marker": {
             "line": {
              "color": "rgb(17,17,17)",
              "width": 0.5
             },
             "pattern": {
              "fillmode": "overlay",
              "size": 10,
              "solidity": 0.2
             }
            },
            "type": "bar"
           }
          ],
          "scattergeo": [
           {
            "type": "scattergeo",
            "marker": {
             "colorbar": {
              "outlinewidth": 0,
              "ticks": ""
             }
            }
           }
          ],
          "scatterpolar": [
           {
            "type": "scatterpolar",
            "marker": {
             "colorbar": {
              "outlinewidth": 0,
              "ticks": ""
             }
            }
           }
          ],
          "histogram": [
           {
            "marker": {
             "pattern": {
              "fillmode": "overlay",
              "size": 10,
              "solidity": 0.2
             }
            },
            "type": "histogram"
           }
          ],
          "scattergl": [
           {
            "marker": {
             "line": {
              "color": "#283442"
             }
            },
            "type": "scattergl"
           }
          ],
          "scatter3d": [
           {
            "type": "scatter3d",
            "line": {
             "colorbar": {
              "outlinewidth": 0,
              "ticks": ""
             }
            },
            "marker": {
             "colorbar": {
              "outlinewidth": 0,
              "ticks": ""
             }
            }
           }
          ],
          "scattermapbox": [
           {
            "type": "scattermapbox",
            "marker": {
             "colorbar": {
              "outlinewidth": 0,
              "ticks": ""
             }
            }
           }
          ],
          "scatterternary": [
           {
            "type": "scatterternary",
            "marker": {
             "colorbar": {
              "outlinewidth": 0,
              "ticks": ""
             }
            }
           }
          ],
          "scattercarpet": [
           {
            "type": "scattercarpet",
            "marker": {
             "colorbar": {
              "outlinewidth": 0,
              "ticks": ""
             }
            }
           }
          ],
          "carpet": [
           {
            "aaxis": {
             "endlinecolor": "#A2B1C6",
             "gridcolor": "#506784",
             "linecolor": "#506784",
             "minorgridcolor": "#506784",
             "startlinecolor": "#A2B1C6"
            },
            "baxis": {
             "endlinecolor": "#A2B1C6",
             "gridcolor": "#506784",
             "linecolor": "#506784",
             "minorgridcolor": "#506784",
             "startlinecolor": "#A2B1C6"
            },
            "type": "carpet"
           }
          ],
          "table": [
           {
            "cells": {
             "fill": {
              "color": "#506784"
             },
             "line": {
              "color": "rgb(17,17,17)"
             }
            },
            "header": {
             "fill": {
              "color": "#2a3f5f"
             },
             "line": {
              "color": "rgb(17,17,17)"
             }
            },
            "type": "table"
           }
          ],
          "barpolar": [
           {
            "marker": {
             "line": {
              "color": "rgb(17,17,17)",
              "width": 0.5
             },
             "pattern": {
              "fillmode": "overlay",
              "size": 10,
              "solidity": 0.2
             }
            },
            "type": "barpolar"
           }
          ],
          "pie": [
           {
            "automargin": true,
            "type": "pie"
           }
          ]
         },
         "layout": {
          "autotypenumbers": "strict",
          "colorway": [
           "#636efa",
           "#EF553B",
           "#00cc96",
           "#ab63fa",
           "#FFA15A",
           "#19d3f3",
           "#FF6692",
           "#B6E880",
           "#FF97FF",
           "#FECB52"
          ],
          "font": {
           "color": "#f2f5fa"
          },
          "hovermode": "closest",
          "hoverlabel": {
           "align": "left"
          },
          "paper_bgcolor": "rgb(17,17,17)",
          "plot_bgcolor": "rgb(17,17,17)",
          "polar": {
           "bgcolor": "rgb(17,17,17)",
           "angularaxis": {
            "gridcolor": "#506784",
            "linecolor": "#506784",
            "ticks": ""
           },
           "radialaxis": {
            "gridcolor": "#506784",
            "linecolor": "#506784",
            "ticks": ""
           }
          },
          "ternary": {
           "bgcolor": "rgb(17,17,17)",
           "aaxis": {
            "gridcolor": "#506784",
            "linecolor": "#506784",
            "ticks": ""
           },
           "baxis": {
            "gridcolor": "#506784",
            "linecolor": "#506784",
            "ticks": ""
           },
           "caxis": {
            "gridcolor": "#506784",
            "linecolor": "#506784",
            "ticks": ""
           }
          },
          "coloraxis": {
           "colorbar": {
            "outlinewidth": 0,
            "ticks": ""
           }
          },
          "colorscale": {
           "sequential": [
            [
             0.0,
             "#0d0887"
            ],
            [
             0.1111111111111111,
             "#46039f"
            ],
            [
             0.2222222222222222,
             "#7201a8"
            ],
            [
             0.3333333333333333,
             "#9c179e"
            ],
            [
             0.4444444444444444,
             "#bd3786"
            ],
            [
             0.5555555555555556,
             "#d8576b"
            ],
            [
             0.6666666666666666,
             "#ed7953"
            ],
            [
             0.7777777777777778,
             "#fb9f3a"
            ],
            [
             0.8888888888888888,
             "#fdca26"
            ],
            [
             1.0,
             "#f0f921"
            ]
           ],
           "sequentialminus": [
            [
             0.0,
             "#0d0887"
            ],
            [
             0.1111111111111111,
             "#46039f"
            ],
            [
             0.2222222222222222,
             "#7201a8"
            ],
            [
             0.3333333333333333,
             "#9c179e"
            ],
            [
             0.4444444444444444,
             "#bd3786"
            ],
            [
             0.5555555555555556,
             "#d8576b"
            ],
            [
             0.6666666666666666,
             "#ed7953"
            ],
            [
             0.7777777777777778,
             "#fb9f3a"
            ],
            [
             0.8888888888888888,
             "#fdca26"
            ],
            [
             1.0,
             "#f0f921"
            ]
           ],
           "diverging": [
            [
             0,
             "#8e0152"
            ],
            [
             0.1,
             "#c51b7d"
            ],
            [
             0.2,
             "#de77ae"
            ],
            [
             0.3,
             "#f1b6da"
            ],
            [
             0.4,
             "#fde0ef"
            ],
            [
             0.5,
             "#f7f7f7"
            ],
            [
             0.6,
             "#e6f5d0"
            ],
            [
             0.7,
             "#b8e186"
            ],
            [
             0.8,
             "#7fbc41"
            ],
            [
             0.9,
             "#4d9221"
            ],
            [
             1,
             "#276419"
            ]
           ]
          },
          "xaxis": {
           "gridcolor": "#283442",
           "linecolor": "#506784",
           "ticks": "",
           "title": {
            "standoff": 15
           },
           "zerolinecolor": "#283442",
           "automargin": true,
           "zerolinewidth": 2
          },
          "yaxis": {
           "gridcolor": "#283442",
           "linecolor": "#506784",
           "ticks": "",
           "title": {
            "standoff": 15
           },
           "zerolinecolor": "#283442",
           "automargin": true,
           "zerolinewidth": 2
          },
          "scene": {
           "xaxis": {
            "backgroundcolor": "rgb(17,17,17)",
            "gridcolor": "#506784",
            "linecolor": "#506784",
            "showbackground": true,
            "ticks": "",
            "zerolinecolor": "#C8D4E3",
            "gridwidth": 2
           },
           "yaxis": {
            "backgroundcolor": "rgb(17,17,17)",
            "gridcolor": "#506784",
            "linecolor": "#506784",
            "showbackground": true,
            "ticks": "",
            "zerolinecolor": "#C8D4E3",
            "gridwidth": 2
           },
           "zaxis": {
            "backgroundcolor": "rgb(17,17,17)",
            "gridcolor": "#506784",
            "linecolor": "#506784",
            "showbackground": true,
            "ticks": "",
            "zerolinecolor": "#C8D4E3",
            "gridwidth": 2
           }
          },
          "shapedefaults": {
           "line": {
            "color": "#f2f5fa"
           }
          },
          "annotationdefaults": {
           "arrowcolor": "#f2f5fa",
           "arrowhead": 0,
           "arrowwidth": 1
          },
          "geo": {
           "bgcolor": "rgb(17,17,17)",
           "landcolor": "rgb(17,17,17)",
           "subunitcolor": "#506784",
           "showland": true,
           "showlakes": true,
           "lakecolor": "rgb(17,17,17)"
          },
          "title": {
           "x": 0.05
          },
          "updatemenudefaults": {
           "bgcolor": "#506784",
           "borderwidth": 0
          },
          "sliderdefaults": {
           "bgcolor": "#C8D4E3",
           "borderwidth": 1,
           "bordercolor": "rgb(17,17,17)",
           "tickwidth": 0
          },
          "mapbox": {
           "style": "dark"
          }
         }
        },
        "xaxis": {
         "anchor": "y",
         "domain": [
          0.0,
          0.7363
         ],
         "title": {
          "text": "eventF1"
         }
        },
        "yaxis": {
         "anchor": "x",
         "domain": [
          0.0,
          1.0
         ],
         "title": {
          "text": "eventRecall"
         }
        },
        "xaxis2": {
         "anchor": "y2",
         "domain": [
          0.7413,
          1.0
         ],
         "matches": "x2",
         "showticklabels": false,
         "showline": false,
         "ticks": "",
         "showgrid": true
        },
        "yaxis2": {
         "anchor": "x2",
         "domain": [
          0.0,
          1.0
         ],
         "matches": "y",
         "showticklabels": false,
         "showgrid": true
        },
        "legend": {
         "title": {
          "text": "test"
         },
         "tracegroupgap": 0
        },
        "margin": {
         "t": 60
        },
        "barmode": "overlay"
       },
       "config": {
        "plotlyServerURL": "https://plot.ly"
       }
      },
      "text/html": [
       "<div>                            <div id=\"e1b2f5b2-a3c8-437d-8647-3dc65627ff45\" class=\"plotly-graph-div\" style=\"height:525px; width:100%;\"></div>            <script type=\"text/javascript\">                require([\"plotly\"], function(Plotly) {                    window.PLOTLYENV=window.PLOTLYENV || {};                                    if (document.getElementById(\"e1b2f5b2-a3c8-437d-8647-3dc65627ff45\")) {                    Plotly.newPlot(                        \"e1b2f5b2-a3c8-437d-8647-3dc65627ff45\",                        [{\"hovertemplate\":\"<b>%{hovertext}</b><br><br>test=0002<br>eventF1=%{x}<br>eventRecall=%{y}<extra></extra>\",\"hovertext\":[\"a4659423-83e4-4da3-91b5-177fa8bc17fe\"],\"legendgroup\":\"0002\",\"marker\":{\"color\":\"#636efa\",\"symbol\":\"circle\"},\"mode\":\"markers\",\"name\":\"0002\",\"orientation\":\"v\",\"showlegend\":true,\"x\":[0.6370757180156658],\"xaxis\":\"x\",\"y\":[0.5083333333333333],\"yaxis\":\"y\",\"type\":\"scatter\"},{\"alignmentgroup\":\"True\",\"bingroup\":\"y\",\"hovertemplate\":\"test=0002<br>eventRecall=%{y}<br>count=%{x}<extra></extra>\",\"legendgroup\":\"0002\",\"marker\":{\"color\":\"#636efa\"},\"name\":\"0002\",\"offsetgroup\":\"0002\",\"opacity\":0.5,\"showlegend\":false,\"xaxis\":\"x2\",\"y\":[0.5083333333333333],\"yaxis\":\"y2\",\"type\":\"histogram\"},{\"hovertemplate\":\"<b>%{hovertext}</b><br><br>test=0003<br>eventF1=%{x}<br>eventRecall=%{y}<extra></extra>\",\"hovertext\":[\"ad3be387-5be4-4e8e-b57d-072003b617d3\"],\"legendgroup\":\"0003\",\"marker\":{\"color\":\"#EF553B\",\"symbol\":\"circle\"},\"mode\":\"markers\",\"name\":\"0003\",\"orientation\":\"v\",\"showlegend\":true,\"x\":[0.8481081081081081],\"xaxis\":\"x\",\"y\":[0.9234393404004712],\"yaxis\":\"y\",\"type\":\"scatter\"},{\"alignmentgroup\":\"True\",\"bingroup\":\"y\",\"hovertemplate\":\"test=0003<br>eventRecall=%{y}<br>count=%{x}<extra></extra>\",\"legendgroup\":\"0003\",\"marker\":{\"color\":\"#EF553B\"},\"name\":\"0003\",\"offsetgroup\":\"0003\",\"opacity\":0.5,\"showlegend\":false,\"xaxis\":\"x2\",\"y\":[0.9234393404004712],\"yaxis\":\"y2\",\"type\":\"histogram\"},{\"hovertemplate\":\"<b>%{hovertext}</b><br><br>test=0004<br>eventF1=%{x}<br>eventRecall=%{y}<extra></extra>\",\"hovertext\":[\"8bcbbc8b-b83e-4b97-8f7c-0dd0760680e7\"],\"legendgroup\":\"0004\",\"marker\":{\"color\":\"#00cc96\",\"symbol\":\"circle\"},\"mode\":\"markers\",\"name\":\"0004\",\"orientation\":\"v\",\"showlegend\":true,\"x\":[0.7785888077858881],\"xaxis\":\"x\",\"y\":[0.7637231503579952],\"yaxis\":\"y\",\"type\":\"scatter\"},{\"alignmentgroup\":\"True\",\"bingroup\":\"y\",\"hovertemplate\":\"test=0004<br>eventRecall=%{y}<br>count=%{x}<extra></extra>\",\"legendgroup\":\"0004\",\"marker\":{\"color\":\"#00cc96\"},\"name\":\"0004\",\"offsetgroup\":\"0004\",\"opacity\":0.5,\"showlegend\":false,\"xaxis\":\"x2\",\"y\":[0.7637231503579952],\"yaxis\":\"y2\",\"type\":\"histogram\"},{\"hovertemplate\":\"<b>%{hovertext}</b><br><br>test=0005<br>eventF1=%{x}<br>eventRecall=%{y}<extra></extra>\",\"hovertext\":[\"f88ed731-de3a-4c9a-90d5-04d1fcd93d45\"],\"legendgroup\":\"0005\",\"marker\":{\"color\":\"#ab63fa\",\"symbol\":\"circle\"},\"mode\":\"markers\",\"name\":\"0005\",\"orientation\":\"v\",\"showlegend\":true,\"x\":[0.6525054466230937],\"xaxis\":\"x\",\"y\":[0.9462025316455697],\"yaxis\":\"y\",\"type\":\"scatter\"},{\"alignmentgroup\":\"True\",\"bingroup\":\"y\",\"hovertemplate\":\"test=0005<br>eventRecall=%{y}<br>count=%{x}<extra></extra>\",\"legendgroup\":\"0005\",\"marker\":{\"color\":\"#ab63fa\"},\"name\":\"0005\",\"offsetgroup\":\"0005\",\"opacity\":0.5,\"showlegend\":false,\"xaxis\":\"x2\",\"y\":[0.9462025316455697],\"yaxis\":\"y2\",\"type\":\"histogram\"},{\"hovertemplate\":\"<b>%{hovertext}</b><br><br>test=0006<br>eventF1=%{x}<br>eventRecall=%{y}<extra></extra>\",\"hovertext\":[\"16a691da-d735-4ad2-953c-db2678980107\"],\"legendgroup\":\"0006\",\"marker\":{\"color\":\"#FFA15A\",\"symbol\":\"circle\"},\"mode\":\"markers\",\"name\":\"0006\",\"orientation\":\"v\",\"showlegend\":true,\"x\":[0.6848030018761726],\"xaxis\":\"x\",\"y\":[0.8053097345132744],\"yaxis\":\"y\",\"type\":\"scatter\"},{\"alignmentgroup\":\"True\",\"bingroup\":\"y\",\"hovertemplate\":\"test=0006<br>eventRecall=%{y}<br>count=%{x}<extra></extra>\",\"legendgroup\":\"0006\",\"marker\":{\"color\":\"#FFA15A\"},\"name\":\"0006\",\"offsetgroup\":\"0006\",\"opacity\":0.5,\"showlegend\":false,\"xaxis\":\"x2\",\"y\":[0.8053097345132744],\"yaxis\":\"y2\",\"type\":\"histogram\"},{\"hovertemplate\":\"<b>%{hovertext}</b><br><br>test=0007<br>eventF1=%{x}<br>eventRecall=%{y}<extra></extra>\",\"hovertext\":[\"d91f41ff-0308-46df-9bcd-67d46f377777\"],\"legendgroup\":\"0007\",\"marker\":{\"color\":\"#19d3f3\",\"symbol\":\"circle\"},\"mode\":\"markers\",\"name\":\"0007\",\"orientation\":\"v\",\"showlegend\":true,\"x\":[0.6557539682539683],\"xaxis\":\"x\",\"y\":[0.8870967741935484],\"yaxis\":\"y\",\"type\":\"scatter\"},{\"alignmentgroup\":\"True\",\"bingroup\":\"y\",\"hovertemplate\":\"test=0007<br>eventRecall=%{y}<br>count=%{x}<extra></extra>\",\"legendgroup\":\"0007\",\"marker\":{\"color\":\"#19d3f3\"},\"name\":\"0007\",\"offsetgroup\":\"0007\",\"opacity\":0.5,\"showlegend\":false,\"xaxis\":\"x2\",\"y\":[0.8870967741935484],\"yaxis\":\"y2\",\"type\":\"histogram\"},{\"hovertemplate\":\"<b>%{hovertext}</b><br><br>test=0008<br>eventF1=%{x}<br>eventRecall=%{y}<extra></extra>\",\"hovertext\":[\"a1eacac2-9e31-437a-9350-110d2ef2f1a5\"],\"legendgroup\":\"0008\",\"marker\":{\"color\":\"#FF6692\",\"symbol\":\"circle\"},\"mode\":\"markers\",\"name\":\"0008\",\"orientation\":\"v\",\"showlegend\":true,\"x\":[0.45454545454545453],\"xaxis\":\"x\",\"y\":[0.3191489361702128],\"yaxis\":\"y\",\"type\":\"scatter\"},{\"alignmentgroup\":\"True\",\"bingroup\":\"y\",\"hovertemplate\":\"test=0008<br>eventRecall=%{y}<br>count=%{x}<extra></extra>\",\"legendgroup\":\"0008\",\"marker\":{\"color\":\"#FF6692\"},\"name\":\"0008\",\"offsetgroup\":\"0008\",\"opacity\":0.5,\"showlegend\":false,\"xaxis\":\"x2\",\"y\":[0.3191489361702128],\"yaxis\":\"y2\",\"type\":\"histogram\"},{\"fill\":\"toself\",\"mode\":\"lines\",\"name\":\"identity\",\"x\":[0.6370757180156658,0.8481081081081081,0.7785888077858881,0.6525054466230937,0.6848030018761726,0.6557539682539683,0.45454545454545453],\"y\":[0.6370757180156658,0.8481081081081081,0.7785888077858881,0.6525054466230937,0.6848030018761726,0.6557539682539683,0.45454545454545453],\"type\":\"scatter\"}],                        {\"template\":{\"data\":{\"histogram2dcontour\":[{\"type\":\"histogram2dcontour\",\"colorbar\":{\"outlinewidth\":0,\"ticks\":\"\"},\"colorscale\":[[0.0,\"#0d0887\"],[0.1111111111111111,\"#46039f\"],[0.2222222222222222,\"#7201a8\"],[0.3333333333333333,\"#9c179e\"],[0.4444444444444444,\"#bd3786\"],[0.5555555555555556,\"#d8576b\"],[0.6666666666666666,\"#ed7953\"],[0.7777777777777778,\"#fb9f3a\"],[0.8888888888888888,\"#fdca26\"],[1.0,\"#f0f921\"]]}],\"choropleth\":[{\"type\":\"choropleth\",\"colorbar\":{\"outlinewidth\":0,\"ticks\":\"\"}}],\"histogram2d\":[{\"type\":\"histogram2d\",\"colorbar\":{\"outlinewidth\":0,\"ticks\":\"\"},\"colorscale\":[[0.0,\"#0d0887\"],[0.1111111111111111,\"#46039f\"],[0.2222222222222222,\"#7201a8\"],[0.3333333333333333,\"#9c179e\"],[0.4444444444444444,\"#bd3786\"],[0.5555555555555556,\"#d8576b\"],[0.6666666666666666,\"#ed7953\"],[0.7777777777777778,\"#fb9f3a\"],[0.8888888888888888,\"#fdca26\"],[1.0,\"#f0f921\"]]}],\"heatmap\":[{\"type\":\"heatmap\",\"colorbar\":{\"outlinewidth\":0,\"ticks\":\"\"},\"colorscale\":[[0.0,\"#0d0887\"],[0.1111111111111111,\"#46039f\"],[0.2222222222222222,\"#7201a8\"],[0.3333333333333333,\"#9c179e\"],[0.4444444444444444,\"#bd3786\"],[0.5555555555555556,\"#d8576b\"],[0.6666666666666666,\"#ed7953\"],[0.7777777777777778,\"#fb9f3a\"],[0.8888888888888888,\"#fdca26\"],[1.0,\"#f0f921\"]]}],\"heatmapgl\":[{\"type\":\"heatmapgl\",\"colorbar\":{\"outlinewidth\":0,\"ticks\":\"\"},\"colorscale\":[[0.0,\"#0d0887\"],[0.1111111111111111,\"#46039f\"],[0.2222222222222222,\"#7201a8\"],[0.3333333333333333,\"#9c179e\"],[0.4444444444444444,\"#bd3786\"],[0.5555555555555556,\"#d8576b\"],[0.6666666666666666,\"#ed7953\"],[0.7777777777777778,\"#fb9f3a\"],[0.8888888888888888,\"#fdca26\"],[1.0,\"#f0f921\"]]}],\"contourcarpet\":[{\"type\":\"contourcarpet\",\"colorbar\":{\"outlinewidth\":0,\"ticks\":\"\"}}],\"contour\":[{\"type\":\"contour\",\"colorbar\":{\"outlinewidth\":0,\"ticks\":\"\"},\"colorscale\":[[0.0,\"#0d0887\"],[0.1111111111111111,\"#46039f\"],[0.2222222222222222,\"#7201a8\"],[0.3333333333333333,\"#9c179e\"],[0.4444444444444444,\"#bd3786\"],[0.5555555555555556,\"#d8576b\"],[0.6666666666666666,\"#ed7953\"],[0.7777777777777778,\"#fb9f3a\"],[0.8888888888888888,\"#fdca26\"],[1.0,\"#f0f921\"]]}],\"surface\":[{\"type\":\"surface\",\"colorbar\":{\"outlinewidth\":0,\"ticks\":\"\"},\"colorscale\":[[0.0,\"#0d0887\"],[0.1111111111111111,\"#46039f\"],[0.2222222222222222,\"#7201a8\"],[0.3333333333333333,\"#9c179e\"],[0.4444444444444444,\"#bd3786\"],[0.5555555555555556,\"#d8576b\"],[0.6666666666666666,\"#ed7953\"],[0.7777777777777778,\"#fb9f3a\"],[0.8888888888888888,\"#fdca26\"],[1.0,\"#f0f921\"]]}],\"mesh3d\":[{\"type\":\"mesh3d\",\"colorbar\":{\"outlinewidth\":0,\"ticks\":\"\"}}],\"scatter\":[{\"marker\":{\"line\":{\"color\":\"#283442\"}},\"type\":\"scatter\"}],\"parcoords\":[{\"type\":\"parcoords\",\"line\":{\"colorbar\":{\"outlinewidth\":0,\"ticks\":\"\"}}}],\"scatterpolargl\":[{\"type\":\"scatterpolargl\",\"marker\":{\"colorbar\":{\"outlinewidth\":0,\"ticks\":\"\"}}}],\"bar\":[{\"error_x\":{\"color\":\"#f2f5fa\"},\"error_y\":{\"color\":\"#f2f5fa\"},\"marker\":{\"line\":{\"color\":\"rgb(17,17,17)\",\"width\":0.5},\"pattern\":{\"fillmode\":\"overlay\",\"size\":10,\"solidity\":0.2}},\"type\":\"bar\"}],\"scattergeo\":[{\"type\":\"scattergeo\",\"marker\":{\"colorbar\":{\"outlinewidth\":0,\"ticks\":\"\"}}}],\"scatterpolar\":[{\"type\":\"scatterpolar\",\"marker\":{\"colorbar\":{\"outlinewidth\":0,\"ticks\":\"\"}}}],\"histogram\":[{\"marker\":{\"pattern\":{\"fillmode\":\"overlay\",\"size\":10,\"solidity\":0.2}},\"type\":\"histogram\"}],\"scattergl\":[{\"marker\":{\"line\":{\"color\":\"#283442\"}},\"type\":\"scattergl\"}],\"scatter3d\":[{\"type\":\"scatter3d\",\"line\":{\"colorbar\":{\"outlinewidth\":0,\"ticks\":\"\"}},\"marker\":{\"colorbar\":{\"outlinewidth\":0,\"ticks\":\"\"}}}],\"scattermapbox\":[{\"type\":\"scattermapbox\",\"marker\":{\"colorbar\":{\"outlinewidth\":0,\"ticks\":\"\"}}}],\"scatterternary\":[{\"type\":\"scatterternary\",\"marker\":{\"colorbar\":{\"outlinewidth\":0,\"ticks\":\"\"}}}],\"scattercarpet\":[{\"type\":\"scattercarpet\",\"marker\":{\"colorbar\":{\"outlinewidth\":0,\"ticks\":\"\"}}}],\"carpet\":[{\"aaxis\":{\"endlinecolor\":\"#A2B1C6\",\"gridcolor\":\"#506784\",\"linecolor\":\"#506784\",\"minorgridcolor\":\"#506784\",\"startlinecolor\":\"#A2B1C6\"},\"baxis\":{\"endlinecolor\":\"#A2B1C6\",\"gridcolor\":\"#506784\",\"linecolor\":\"#506784\",\"minorgridcolor\":\"#506784\",\"startlinecolor\":\"#A2B1C6\"},\"type\":\"carpet\"}],\"table\":[{\"cells\":{\"fill\":{\"color\":\"#506784\"},\"line\":{\"color\":\"rgb(17,17,17)\"}},\"header\":{\"fill\":{\"color\":\"#2a3f5f\"},\"line\":{\"color\":\"rgb(17,17,17)\"}},\"type\":\"table\"}],\"barpolar\":[{\"marker\":{\"line\":{\"color\":\"rgb(17,17,17)\",\"width\":0.5},\"pattern\":{\"fillmode\":\"overlay\",\"size\":10,\"solidity\":0.2}},\"type\":\"barpolar\"}],\"pie\":[{\"automargin\":true,\"type\":\"pie\"}]},\"layout\":{\"autotypenumbers\":\"strict\",\"colorway\":[\"#636efa\",\"#EF553B\",\"#00cc96\",\"#ab63fa\",\"#FFA15A\",\"#19d3f3\",\"#FF6692\",\"#B6E880\",\"#FF97FF\",\"#FECB52\"],\"font\":{\"color\":\"#f2f5fa\"},\"hovermode\":\"closest\",\"hoverlabel\":{\"align\":\"left\"},\"paper_bgcolor\":\"rgb(17,17,17)\",\"plot_bgcolor\":\"rgb(17,17,17)\",\"polar\":{\"bgcolor\":\"rgb(17,17,17)\",\"angularaxis\":{\"gridcolor\":\"#506784\",\"linecolor\":\"#506784\",\"ticks\":\"\"},\"radialaxis\":{\"gridcolor\":\"#506784\",\"linecolor\":\"#506784\",\"ticks\":\"\"}},\"ternary\":{\"bgcolor\":\"rgb(17,17,17)\",\"aaxis\":{\"gridcolor\":\"#506784\",\"linecolor\":\"#506784\",\"ticks\":\"\"},\"baxis\":{\"gridcolor\":\"#506784\",\"linecolor\":\"#506784\",\"ticks\":\"\"},\"caxis\":{\"gridcolor\":\"#506784\",\"linecolor\":\"#506784\",\"ticks\":\"\"}},\"coloraxis\":{\"colorbar\":{\"outlinewidth\":0,\"ticks\":\"\"}},\"colorscale\":{\"sequential\":[[0.0,\"#0d0887\"],[0.1111111111111111,\"#46039f\"],[0.2222222222222222,\"#7201a8\"],[0.3333333333333333,\"#9c179e\"],[0.4444444444444444,\"#bd3786\"],[0.5555555555555556,\"#d8576b\"],[0.6666666666666666,\"#ed7953\"],[0.7777777777777778,\"#fb9f3a\"],[0.8888888888888888,\"#fdca26\"],[1.0,\"#f0f921\"]],\"sequentialminus\":[[0.0,\"#0d0887\"],[0.1111111111111111,\"#46039f\"],[0.2222222222222222,\"#7201a8\"],[0.3333333333333333,\"#9c179e\"],[0.4444444444444444,\"#bd3786\"],[0.5555555555555556,\"#d8576b\"],[0.6666666666666666,\"#ed7953\"],[0.7777777777777778,\"#fb9f3a\"],[0.8888888888888888,\"#fdca26\"],[1.0,\"#f0f921\"]],\"diverging\":[[0,\"#8e0152\"],[0.1,\"#c51b7d\"],[0.2,\"#de77ae\"],[0.3,\"#f1b6da\"],[0.4,\"#fde0ef\"],[0.5,\"#f7f7f7\"],[0.6,\"#e6f5d0\"],[0.7,\"#b8e186\"],[0.8,\"#7fbc41\"],[0.9,\"#4d9221\"],[1,\"#276419\"]]},\"xaxis\":{\"gridcolor\":\"#283442\",\"linecolor\":\"#506784\",\"ticks\":\"\",\"title\":{\"standoff\":15},\"zerolinecolor\":\"#283442\",\"automargin\":true,\"zerolinewidth\":2},\"yaxis\":{\"gridcolor\":\"#283442\",\"linecolor\":\"#506784\",\"ticks\":\"\",\"title\":{\"standoff\":15},\"zerolinecolor\":\"#283442\",\"automargin\":true,\"zerolinewidth\":2},\"scene\":{\"xaxis\":{\"backgroundcolor\":\"rgb(17,17,17)\",\"gridcolor\":\"#506784\",\"linecolor\":\"#506784\",\"showbackground\":true,\"ticks\":\"\",\"zerolinecolor\":\"#C8D4E3\",\"gridwidth\":2},\"yaxis\":{\"backgroundcolor\":\"rgb(17,17,17)\",\"gridcolor\":\"#506784\",\"linecolor\":\"#506784\",\"showbackground\":true,\"ticks\":\"\",\"zerolinecolor\":\"#C8D4E3\",\"gridwidth\":2},\"zaxis\":{\"backgroundcolor\":\"rgb(17,17,17)\",\"gridcolor\":\"#506784\",\"linecolor\":\"#506784\",\"showbackground\":true,\"ticks\":\"\",\"zerolinecolor\":\"#C8D4E3\",\"gridwidth\":2}},\"shapedefaults\":{\"line\":{\"color\":\"#f2f5fa\"}},\"annotationdefaults\":{\"arrowcolor\":\"#f2f5fa\",\"arrowhead\":0,\"arrowwidth\":1},\"geo\":{\"bgcolor\":\"rgb(17,17,17)\",\"landcolor\":\"rgb(17,17,17)\",\"subunitcolor\":\"#506784\",\"showland\":true,\"showlakes\":true,\"lakecolor\":\"rgb(17,17,17)\"},\"title\":{\"x\":0.05},\"updatemenudefaults\":{\"bgcolor\":\"#506784\",\"borderwidth\":0},\"sliderdefaults\":{\"bgcolor\":\"#C8D4E3\",\"borderwidth\":1,\"bordercolor\":\"rgb(17,17,17)\",\"tickwidth\":0},\"mapbox\":{\"style\":\"dark\"}}},\"xaxis\":{\"anchor\":\"y\",\"domain\":[0.0,0.7363],\"title\":{\"text\":\"eventF1\"}},\"yaxis\":{\"anchor\":\"x\",\"domain\":[0.0,1.0],\"title\":{\"text\":\"eventRecall\"}},\"xaxis2\":{\"anchor\":\"y2\",\"domain\":[0.7413,1.0],\"matches\":\"x2\",\"showticklabels\":false,\"showline\":false,\"ticks\":\"\",\"showgrid\":true},\"yaxis2\":{\"anchor\":\"x2\",\"domain\":[0.0,1.0],\"matches\":\"y\",\"showticklabels\":false,\"showgrid\":true},\"legend\":{\"title\":{\"text\":\"test\"},\"tracegroupgap\":0},\"margin\":{\"t\":60},\"barmode\":\"overlay\"},                        {\"responsive\": true}                    ).then(function(){\n",
       "                            \n",
       "var gd = document.getElementById('e1b2f5b2-a3c8-437d-8647-3dc65627ff45');\n",
       "var x = new MutationObserver(function (mutations, observer) {{\n",
       "        var display = window.getComputedStyle(gd).display;\n",
       "        if (!display || display === 'none') {{\n",
       "            console.log([gd, 'removed!']);\n",
       "            Plotly.purge(gd);\n",
       "            observer.disconnect();\n",
       "        }}\n",
       "}});\n",
       "\n",
       "// Listen for the removal of the full notebook cells\n",
       "var notebookContainer = gd.closest('#notebook-container');\n",
       "if (notebookContainer) {{\n",
       "    x.observe(notebookContainer, {childList: true});\n",
       "}}\n",
       "\n",
       "// Listen for the clearing of the current output cell\n",
       "var outputEl = gd.closest('.output');\n",
       "if (outputEl) {{\n",
       "    x.observe(outputEl, {childList: true});\n",
       "}}\n",
       "\n",
       "                        })                };                });            </script>        </div>"
      ]
     },
     "metadata": {},
     "output_type": "display_data"
    }
   ],
   "execution_count": 63
  },
  {
   "cell_type": "code",
   "metadata": {
    "ExecuteTime": {
     "end_time": "2024-12-12T12:14:59.533245Z",
     "start_time": "2024-12-12T12:14:59.503481Z"
    }
   },
   "source": [
    "experimentModels[['test','eventF1','eventPrecision','eventRecall']].groupby('test').describe(percentiles=[0.5])"
   ],
   "outputs": [
    {
     "data": {
      "text/plain": [
       "     eventF1                                             eventPrecision  \\\n",
       "       count      mean std       min       50%       max          count   \n",
       "test                                                                      \n",
       "0002     1.0  0.637076 NaN  0.637076  0.637076  0.637076            1.0   \n",
       "0003     1.0  0.848108 NaN  0.848108  0.848108  0.848108            1.0   \n",
       "0004     1.0  0.778589 NaN  0.778589  0.778589  0.778589            1.0   \n",
       "0005     1.0  0.652505 NaN  0.652505  0.652505  0.652505            1.0   \n",
       "0006     1.0  0.684803 NaN  0.684803  0.684803  0.684803            1.0   \n",
       "0007     1.0  0.655754 NaN  0.655754  0.655754  0.655754            1.0   \n",
       "0008     1.0  0.454545 NaN  0.454545  0.454545  0.454545            1.0   \n",
       "\n",
       "                                                 eventRecall                \\\n",
       "          mean std       min       50%       max       count      mean std   \n",
       "test                                                                         \n",
       "0002  0.853147 NaN  0.853147  0.853147  0.853147         1.0  0.508333 NaN   \n",
       "0003  0.784216 NaN  0.784216  0.784216  0.784216         1.0  0.923439 NaN   \n",
       "0004  0.794045 NaN  0.794045  0.794045  0.794045         1.0  0.763723 NaN   \n",
       "0005  0.498339 NaN  0.498339  0.498339  0.498339         1.0  0.946203 NaN   \n",
       "0006  0.596091 NaN  0.596091  0.596091  0.596091         1.0  0.805310 NaN   \n",
       "0007  0.520440 NaN  0.520440  0.520440  0.520440         1.0  0.887097 NaN   \n",
       "0008  0.789474 NaN  0.789474  0.789474  0.789474         1.0  0.319149 NaN   \n",
       "\n",
       "                                    \n",
       "           min       50%       max  \n",
       "test                                \n",
       "0002  0.508333  0.508333  0.508333  \n",
       "0003  0.923439  0.923439  0.923439  \n",
       "0004  0.763723  0.763723  0.763723  \n",
       "0005  0.946203  0.946203  0.946203  \n",
       "0006  0.805310  0.805310  0.805310  \n",
       "0007  0.887097  0.887097  0.887097  \n",
       "0008  0.319149  0.319149  0.319149  "
      ],
      "text/html": [
       "<div>\n",
       "<style scoped>\n",
       "    .dataframe tbody tr th:only-of-type {\n",
       "        vertical-align: middle;\n",
       "    }\n",
       "\n",
       "    .dataframe tbody tr th {\n",
       "        vertical-align: top;\n",
       "    }\n",
       "\n",
       "    .dataframe thead tr th {\n",
       "        text-align: left;\n",
       "    }\n",
       "\n",
       "    .dataframe thead tr:last-of-type th {\n",
       "        text-align: right;\n",
       "    }\n",
       "</style>\n",
       "<table border=\"1\" class=\"dataframe\">\n",
       "  <thead>\n",
       "    <tr>\n",
       "      <th></th>\n",
       "      <th colspan=\"6\" halign=\"left\">eventF1</th>\n",
       "      <th colspan=\"6\" halign=\"left\">eventPrecision</th>\n",
       "      <th colspan=\"6\" halign=\"left\">eventRecall</th>\n",
       "    </tr>\n",
       "    <tr>\n",
       "      <th></th>\n",
       "      <th>count</th>\n",
       "      <th>mean</th>\n",
       "      <th>std</th>\n",
       "      <th>min</th>\n",
       "      <th>50%</th>\n",
       "      <th>max</th>\n",
       "      <th>count</th>\n",
       "      <th>mean</th>\n",
       "      <th>std</th>\n",
       "      <th>min</th>\n",
       "      <th>50%</th>\n",
       "      <th>max</th>\n",
       "      <th>count</th>\n",
       "      <th>mean</th>\n",
       "      <th>std</th>\n",
       "      <th>min</th>\n",
       "      <th>50%</th>\n",
       "      <th>max</th>\n",
       "    </tr>\n",
       "    <tr>\n",
       "      <th>test</th>\n",
       "      <th></th>\n",
       "      <th></th>\n",
       "      <th></th>\n",
       "      <th></th>\n",
       "      <th></th>\n",
       "      <th></th>\n",
       "      <th></th>\n",
       "      <th></th>\n",
       "      <th></th>\n",
       "      <th></th>\n",
       "      <th></th>\n",
       "      <th></th>\n",
       "      <th></th>\n",
       "      <th></th>\n",
       "      <th></th>\n",
       "      <th></th>\n",
       "      <th></th>\n",
       "      <th></th>\n",
       "    </tr>\n",
       "  </thead>\n",
       "  <tbody>\n",
       "    <tr>\n",
       "      <th>0002</th>\n",
       "      <td>1.0</td>\n",
       "      <td>0.637076</td>\n",
       "      <td>NaN</td>\n",
       "      <td>0.637076</td>\n",
       "      <td>0.637076</td>\n",
       "      <td>0.637076</td>\n",
       "      <td>1.0</td>\n",
       "      <td>0.853147</td>\n",
       "      <td>NaN</td>\n",
       "      <td>0.853147</td>\n",
       "      <td>0.853147</td>\n",
       "      <td>0.853147</td>\n",
       "      <td>1.0</td>\n",
       "      <td>0.508333</td>\n",
       "      <td>NaN</td>\n",
       "      <td>0.508333</td>\n",
       "      <td>0.508333</td>\n",
       "      <td>0.508333</td>\n",
       "    </tr>\n",
       "    <tr>\n",
       "      <th>0003</th>\n",
       "      <td>1.0</td>\n",
       "      <td>0.848108</td>\n",
       "      <td>NaN</td>\n",
       "      <td>0.848108</td>\n",
       "      <td>0.848108</td>\n",
       "      <td>0.848108</td>\n",
       "      <td>1.0</td>\n",
       "      <td>0.784216</td>\n",
       "      <td>NaN</td>\n",
       "      <td>0.784216</td>\n",
       "      <td>0.784216</td>\n",
       "      <td>0.784216</td>\n",
       "      <td>1.0</td>\n",
       "      <td>0.923439</td>\n",
       "      <td>NaN</td>\n",
       "      <td>0.923439</td>\n",
       "      <td>0.923439</td>\n",
       "      <td>0.923439</td>\n",
       "    </tr>\n",
       "    <tr>\n",
       "      <th>0004</th>\n",
       "      <td>1.0</td>\n",
       "      <td>0.778589</td>\n",
       "      <td>NaN</td>\n",
       "      <td>0.778589</td>\n",
       "      <td>0.778589</td>\n",
       "      <td>0.778589</td>\n",
       "      <td>1.0</td>\n",
       "      <td>0.794045</td>\n",
       "      <td>NaN</td>\n",
       "      <td>0.794045</td>\n",
       "      <td>0.794045</td>\n",
       "      <td>0.794045</td>\n",
       "      <td>1.0</td>\n",
       "      <td>0.763723</td>\n",
       "      <td>NaN</td>\n",
       "      <td>0.763723</td>\n",
       "      <td>0.763723</td>\n",
       "      <td>0.763723</td>\n",
       "    </tr>\n",
       "    <tr>\n",
       "      <th>0005</th>\n",
       "      <td>1.0</td>\n",
       "      <td>0.652505</td>\n",
       "      <td>NaN</td>\n",
       "      <td>0.652505</td>\n",
       "      <td>0.652505</td>\n",
       "      <td>0.652505</td>\n",
       "      <td>1.0</td>\n",
       "      <td>0.498339</td>\n",
       "      <td>NaN</td>\n",
       "      <td>0.498339</td>\n",
       "      <td>0.498339</td>\n",
       "      <td>0.498339</td>\n",
       "      <td>1.0</td>\n",
       "      <td>0.946203</td>\n",
       "      <td>NaN</td>\n",
       "      <td>0.946203</td>\n",
       "      <td>0.946203</td>\n",
       "      <td>0.946203</td>\n",
       "    </tr>\n",
       "    <tr>\n",
       "      <th>0006</th>\n",
       "      <td>1.0</td>\n",
       "      <td>0.684803</td>\n",
       "      <td>NaN</td>\n",
       "      <td>0.684803</td>\n",
       "      <td>0.684803</td>\n",
       "      <td>0.684803</td>\n",
       "      <td>1.0</td>\n",
       "      <td>0.596091</td>\n",
       "      <td>NaN</td>\n",
       "      <td>0.596091</td>\n",
       "      <td>0.596091</td>\n",
       "      <td>0.596091</td>\n",
       "      <td>1.0</td>\n",
       "      <td>0.805310</td>\n",
       "      <td>NaN</td>\n",
       "      <td>0.805310</td>\n",
       "      <td>0.805310</td>\n",
       "      <td>0.805310</td>\n",
       "    </tr>\n",
       "    <tr>\n",
       "      <th>0007</th>\n",
       "      <td>1.0</td>\n",
       "      <td>0.655754</td>\n",
       "      <td>NaN</td>\n",
       "      <td>0.655754</td>\n",
       "      <td>0.655754</td>\n",
       "      <td>0.655754</td>\n",
       "      <td>1.0</td>\n",
       "      <td>0.520440</td>\n",
       "      <td>NaN</td>\n",
       "      <td>0.520440</td>\n",
       "      <td>0.520440</td>\n",
       "      <td>0.520440</td>\n",
       "      <td>1.0</td>\n",
       "      <td>0.887097</td>\n",
       "      <td>NaN</td>\n",
       "      <td>0.887097</td>\n",
       "      <td>0.887097</td>\n",
       "      <td>0.887097</td>\n",
       "    </tr>\n",
       "    <tr>\n",
       "      <th>0008</th>\n",
       "      <td>1.0</td>\n",
       "      <td>0.454545</td>\n",
       "      <td>NaN</td>\n",
       "      <td>0.454545</td>\n",
       "      <td>0.454545</td>\n",
       "      <td>0.454545</td>\n",
       "      <td>1.0</td>\n",
       "      <td>0.789474</td>\n",
       "      <td>NaN</td>\n",
       "      <td>0.789474</td>\n",
       "      <td>0.789474</td>\n",
       "      <td>0.789474</td>\n",
       "      <td>1.0</td>\n",
       "      <td>0.319149</td>\n",
       "      <td>NaN</td>\n",
       "      <td>0.319149</td>\n",
       "      <td>0.319149</td>\n",
       "      <td>0.319149</td>\n",
       "    </tr>\n",
       "  </tbody>\n",
       "</table>\n",
       "</div>"
      ]
     },
     "execution_count": 64,
     "metadata": {},
     "output_type": "execute_result"
    }
   ],
   "execution_count": 64
  },
  {
   "attachments": {},
   "cell_type": "markdown",
   "metadata": {},
   "source": [
    "by-event"
   ]
  },
  {
   "cell_type": "code",
   "metadata": {
    "ExecuteTime": {
     "end_time": "2024-12-12T12:14:59.610062Z",
     "start_time": "2024-12-12T12:14:59.596272Z"
    }
   },
   "source": [
    "experimentModels[['test','eventF1','eventPrecision','eventRecall']].groupby('test',as_index=False).mean()"
   ],
   "outputs": [
    {
     "data": {
      "text/plain": [
       "   test   eventF1  eventPrecision  eventRecall\n",
       "0  0002  0.637076        0.853147     0.508333\n",
       "1  0003  0.848108        0.784216     0.923439\n",
       "2  0004  0.778589        0.794045     0.763723\n",
       "3  0005  0.652505        0.498339     0.946203\n",
       "4  0006  0.684803        0.596091     0.805310\n",
       "5  0007  0.655754        0.520440     0.887097\n",
       "6  0008  0.454545        0.789474     0.319149"
      ],
      "text/html": [
       "<div>\n",
       "<style scoped>\n",
       "    .dataframe tbody tr th:only-of-type {\n",
       "        vertical-align: middle;\n",
       "    }\n",
       "\n",
       "    .dataframe tbody tr th {\n",
       "        vertical-align: top;\n",
       "    }\n",
       "\n",
       "    .dataframe thead th {\n",
       "        text-align: right;\n",
       "    }\n",
       "</style>\n",
       "<table border=\"1\" class=\"dataframe\">\n",
       "  <thead>\n",
       "    <tr style=\"text-align: right;\">\n",
       "      <th></th>\n",
       "      <th>test</th>\n",
       "      <th>eventF1</th>\n",
       "      <th>eventPrecision</th>\n",
       "      <th>eventRecall</th>\n",
       "    </tr>\n",
       "  </thead>\n",
       "  <tbody>\n",
       "    <tr>\n",
       "      <th>0</th>\n",
       "      <td>0002</td>\n",
       "      <td>0.637076</td>\n",
       "      <td>0.853147</td>\n",
       "      <td>0.508333</td>\n",
       "    </tr>\n",
       "    <tr>\n",
       "      <th>1</th>\n",
       "      <td>0003</td>\n",
       "      <td>0.848108</td>\n",
       "      <td>0.784216</td>\n",
       "      <td>0.923439</td>\n",
       "    </tr>\n",
       "    <tr>\n",
       "      <th>2</th>\n",
       "      <td>0004</td>\n",
       "      <td>0.778589</td>\n",
       "      <td>0.794045</td>\n",
       "      <td>0.763723</td>\n",
       "    </tr>\n",
       "    <tr>\n",
       "      <th>3</th>\n",
       "      <td>0005</td>\n",
       "      <td>0.652505</td>\n",
       "      <td>0.498339</td>\n",
       "      <td>0.946203</td>\n",
       "    </tr>\n",
       "    <tr>\n",
       "      <th>4</th>\n",
       "      <td>0006</td>\n",
       "      <td>0.684803</td>\n",
       "      <td>0.596091</td>\n",
       "      <td>0.805310</td>\n",
       "    </tr>\n",
       "    <tr>\n",
       "      <th>5</th>\n",
       "      <td>0007</td>\n",
       "      <td>0.655754</td>\n",
       "      <td>0.520440</td>\n",
       "      <td>0.887097</td>\n",
       "    </tr>\n",
       "    <tr>\n",
       "      <th>6</th>\n",
       "      <td>0008</td>\n",
       "      <td>0.454545</td>\n",
       "      <td>0.789474</td>\n",
       "      <td>0.319149</td>\n",
       "    </tr>\n",
       "  </tbody>\n",
       "</table>\n",
       "</div>"
      ]
     },
     "execution_count": 65,
     "metadata": {},
     "output_type": "execute_result"
    }
   ],
   "execution_count": 65
  },
  {
   "cell_type": "code",
   "metadata": {
    "ExecuteTime": {
     "end_time": "2024-12-12T12:14:59.688213Z",
     "start_time": "2024-12-12T12:14:59.673213Z"
    }
   },
   "source": [
    "experimentModels[['test','eventF1','eventPrecision','eventRecall']].groupby('test',as_index=False).mean().mean()"
   ],
   "outputs": [
    {
     "data": {
      "text/plain": [
       "test              2.857571e+23\n",
       "eventF1           6.730544e-01\n",
       "eventPrecision    6.908216e-01\n",
       "eventRecall       7.361791e-01\n",
       "dtype: float64"
      ]
     },
     "execution_count": 66,
     "metadata": {},
     "output_type": "execute_result"
    }
   ],
   "execution_count": 66
  },
  {
   "cell_type": "code",
   "metadata": {
    "ExecuteTime": {
     "end_time": "2024-12-12T12:14:59.815588Z",
     "start_time": "2024-12-12T12:14:59.799792Z"
    }
   },
   "source": [
    "experimentModels[['test','eventF1','eventPrecision','eventRecall']].groupby('test',as_index=False).mean().std()"
   ],
   "outputs": [
    {
     "name": "stderr",
     "output_type": "stream",
     "text": [
      "C:\\Users\\GIB\\AppData\\Local\\Temp\\ipykernel_13108\\2599554826.py:1: FutureWarning:\n",
      "\n",
      "The default value of numeric_only in DataFrame.std is deprecated. In a future version, it will default to False. In addition, specifying 'numeric_only=None' is deprecated. Select only valid columns or specify the value of numeric_only to silence this warning.\n",
      "\n"
     ]
    },
    {
     "data": {
      "text/plain": [
       "eventF1           0.123613\n",
       "eventPrecision    0.147486\n",
       "eventRecall       0.235697\n",
       "dtype: float64"
      ]
     },
     "execution_count": 67,
     "metadata": {},
     "output_type": "execute_result"
    }
   ],
   "execution_count": 67
  },
  {
   "attachments": {},
   "cell_type": "markdown",
   "metadata": {},
   "source": [
    "by-sample"
   ]
  },
  {
   "cell_type": "code",
   "metadata": {
    "ExecuteTime": {
     "end_time": "2024-12-12T12:15:00.005680Z",
     "start_time": "2024-12-12T12:14:59.997679Z"
    }
   },
   "source": [
    "experimentModels[['test','f1','precision','recall']].groupby('test',as_index=False).mean().mean()"
   ],
   "outputs": [
    {
     "data": {
      "text/plain": [
       "test         2.857571e+23\n",
       "f1           6.238558e-01\n",
       "precision    6.778400e-01\n",
       "recall       6.587392e-01\n",
       "dtype: float64"
      ]
     },
     "execution_count": 68,
     "metadata": {},
     "output_type": "execute_result"
    }
   ],
   "execution_count": 68
  },
  {
   "cell_type": "code",
   "metadata": {
    "ExecuteTime": {
     "end_time": "2024-12-12T12:15:00.100922Z",
     "start_time": "2024-12-12T12:15:00.085304Z"
    }
   },
   "source": [
    "experimentModels[['test','f1','precision','recall']].groupby('test',as_index=False).mean().std()"
   ],
   "outputs": [
    {
     "name": "stderr",
     "output_type": "stream",
     "text": [
      "C:\\Users\\GIB\\AppData\\Local\\Temp\\ipykernel_13108\\319227537.py:1: FutureWarning:\n",
      "\n",
      "The default value of numeric_only in DataFrame.std is deprecated. In a future version, it will default to False. In addition, specifying 'numeric_only=None' is deprecated. Select only valid columns or specify the value of numeric_only to silence this warning.\n",
      "\n"
     ]
    },
    {
     "data": {
      "text/plain": [
       "f1           0.111684\n",
       "precision    0.159263\n",
       "recall       0.222091\n",
       "dtype: float64"
      ]
     },
     "execution_count": 69,
     "metadata": {},
     "output_type": "execute_result"
    }
   ],
   "execution_count": 69
  },
  {
   "cell_type": "code",
   "metadata": {
    "ExecuteTime": {
     "end_time": "2024-12-12T12:15:00.196247Z",
     "start_time": "2024-12-12T12:15:00.180247Z"
    }
   },
   "source": [
    "auxPrecision=pd.DataFrame({\n",
    "    'metric':'event precision',\n",
    "    'value':experimentModels.eventPrecision,\n",
    "    'event F1':experimentModels.eventF1\n",
    "})\n",
    "\n",
    "auxRecall=pd.DataFrame({\n",
    "    'metric':'event recall',\n",
    "    'value':experimentModels.eventRecall,\n",
    "    'event F1':experimentModels.eventF1\n",
    "})\n",
    "visualTradeoff=pd.concat((auxPrecision,auxRecall))"
   ],
   "outputs": [],
   "execution_count": 70
  },
  {
   "cell_type": "code",
   "metadata": {
    "ExecuteTime": {
     "end_time": "2024-12-12T12:15:00.258562Z",
     "start_time": "2024-12-12T12:15:00.227754Z"
    }
   },
   "source": [
    "fig=px.scatter(visualTradeoff,x='event F1',y='value',color='metric', marginal_y=\"histogram\")\n",
    "fig.add_trace(\n",
    "    go.Scatter(x=experimentModels['eventF1'], y=experimentModels['eventF1'], name=\"identity\", mode='lines',fill=\"toself\")\n",
    ")\n",
    "fig.show()"
   ],
   "outputs": [
    {
     "data": {
      "application/vnd.plotly.v1+json": {
       "data": [
        {
         "hovertemplate": "metric=event precision<br>event F1=%{x}<br>value=%{y}<extra></extra>",
         "legendgroup": "event precision",
         "marker": {
          "color": "#636efa",
          "symbol": "circle"
         },
         "mode": "markers",
         "name": "event precision",
         "orientation": "v",
         "showlegend": true,
         "x": [
          0.6370757180156658,
          0.8481081081081081,
          0.7785888077858881,
          0.6525054466230937,
          0.6848030018761726,
          0.6557539682539683,
          0.45454545454545453
         ],
         "xaxis": "x",
         "y": [
          0.8531468531468531,
          0.7842157842157842,
          0.794044665012407,
          0.4983388704318937,
          0.5960912052117264,
          0.5204402515723271,
          0.7894736842105263
         ],
         "yaxis": "y",
         "type": "scatter"
        },
        {
         "alignmentgroup": "True",
         "bingroup": "y",
         "hovertemplate": "metric=event precision<br>value=%{y}<br>count=%{x}<extra></extra>",
         "legendgroup": "event precision",
         "marker": {
          "color": "#636efa"
         },
         "name": "event precision",
         "offsetgroup": "event precision",
         "opacity": 0.5,
         "showlegend": false,
         "xaxis": "x2",
         "y": [
          0.8531468531468531,
          0.7842157842157842,
          0.794044665012407,
          0.4983388704318937,
          0.5960912052117264,
          0.5204402515723271,
          0.7894736842105263
         ],
         "yaxis": "y2",
         "type": "histogram"
        },
        {
         "hovertemplate": "metric=event recall<br>event F1=%{x}<br>value=%{y}<extra></extra>",
         "legendgroup": "event recall",
         "marker": {
          "color": "#EF553B",
          "symbol": "circle"
         },
         "mode": "markers",
         "name": "event recall",
         "orientation": "v",
         "showlegend": true,
         "x": [
          0.6370757180156658,
          0.8481081081081081,
          0.7785888077858881,
          0.6525054466230937,
          0.6848030018761726,
          0.6557539682539683,
          0.45454545454545453
         ],
         "xaxis": "x",
         "y": [
          0.5083333333333333,
          0.9234393404004712,
          0.7637231503579952,
          0.9462025316455697,
          0.8053097345132744,
          0.8870967741935484,
          0.3191489361702128
         ],
         "yaxis": "y",
         "type": "scatter"
        },
        {
         "alignmentgroup": "True",
         "bingroup": "y",
         "hovertemplate": "metric=event recall<br>value=%{y}<br>count=%{x}<extra></extra>",
         "legendgroup": "event recall",
         "marker": {
          "color": "#EF553B"
         },
         "name": "event recall",
         "offsetgroup": "event recall",
         "opacity": 0.5,
         "showlegend": false,
         "xaxis": "x2",
         "y": [
          0.5083333333333333,
          0.9234393404004712,
          0.7637231503579952,
          0.9462025316455697,
          0.8053097345132744,
          0.8870967741935484,
          0.3191489361702128
         ],
         "yaxis": "y2",
         "type": "histogram"
        },
        {
         "fill": "toself",
         "mode": "lines",
         "name": "identity",
         "x": [
          0.6370757180156658,
          0.8481081081081081,
          0.7785888077858881,
          0.6525054466230937,
          0.6848030018761726,
          0.6557539682539683,
          0.45454545454545453
         ],
         "y": [
          0.6370757180156658,
          0.8481081081081081,
          0.7785888077858881,
          0.6525054466230937,
          0.6848030018761726,
          0.6557539682539683,
          0.45454545454545453
         ],
         "type": "scatter"
        }
       ],
       "layout": {
        "template": {
         "data": {
          "histogram2dcontour": [
           {
            "type": "histogram2dcontour",
            "colorbar": {
             "outlinewidth": 0,
             "ticks": ""
            },
            "colorscale": [
             [
              0.0,
              "#0d0887"
             ],
             [
              0.1111111111111111,
              "#46039f"
             ],
             [
              0.2222222222222222,
              "#7201a8"
             ],
             [
              0.3333333333333333,
              "#9c179e"
             ],
             [
              0.4444444444444444,
              "#bd3786"
             ],
             [
              0.5555555555555556,
              "#d8576b"
             ],
             [
              0.6666666666666666,
              "#ed7953"
             ],
             [
              0.7777777777777778,
              "#fb9f3a"
             ],
             [
              0.8888888888888888,
              "#fdca26"
             ],
             [
              1.0,
              "#f0f921"
             ]
            ]
           }
          ],
          "choropleth": [
           {
            "type": "choropleth",
            "colorbar": {
             "outlinewidth": 0,
             "ticks": ""
            }
           }
          ],
          "histogram2d": [
           {
            "type": "histogram2d",
            "colorbar": {
             "outlinewidth": 0,
             "ticks": ""
            },
            "colorscale": [
             [
              0.0,
              "#0d0887"
             ],
             [
              0.1111111111111111,
              "#46039f"
             ],
             [
              0.2222222222222222,
              "#7201a8"
             ],
             [
              0.3333333333333333,
              "#9c179e"
             ],
             [
              0.4444444444444444,
              "#bd3786"
             ],
             [
              0.5555555555555556,
              "#d8576b"
             ],
             [
              0.6666666666666666,
              "#ed7953"
             ],
             [
              0.7777777777777778,
              "#fb9f3a"
             ],
             [
              0.8888888888888888,
              "#fdca26"
             ],
             [
              1.0,
              "#f0f921"
             ]
            ]
           }
          ],
          "heatmap": [
           {
            "type": "heatmap",
            "colorbar": {
             "outlinewidth": 0,
             "ticks": ""
            },
            "colorscale": [
             [
              0.0,
              "#0d0887"
             ],
             [
              0.1111111111111111,
              "#46039f"
             ],
             [
              0.2222222222222222,
              "#7201a8"
             ],
             [
              0.3333333333333333,
              "#9c179e"
             ],
             [
              0.4444444444444444,
              "#bd3786"
             ],
             [
              0.5555555555555556,
              "#d8576b"
             ],
             [
              0.6666666666666666,
              "#ed7953"
             ],
             [
              0.7777777777777778,
              "#fb9f3a"
             ],
             [
              0.8888888888888888,
              "#fdca26"
             ],
             [
              1.0,
              "#f0f921"
             ]
            ]
           }
          ],
          "heatmapgl": [
           {
            "type": "heatmapgl",
            "colorbar": {
             "outlinewidth": 0,
             "ticks": ""
            },
            "colorscale": [
             [
              0.0,
              "#0d0887"
             ],
             [
              0.1111111111111111,
              "#46039f"
             ],
             [
              0.2222222222222222,
              "#7201a8"
             ],
             [
              0.3333333333333333,
              "#9c179e"
             ],
             [
              0.4444444444444444,
              "#bd3786"
             ],
             [
              0.5555555555555556,
              "#d8576b"
             ],
             [
              0.6666666666666666,
              "#ed7953"
             ],
             [
              0.7777777777777778,
              "#fb9f3a"
             ],
             [
              0.8888888888888888,
              "#fdca26"
             ],
             [
              1.0,
              "#f0f921"
             ]
            ]
           }
          ],
          "contourcarpet": [
           {
            "type": "contourcarpet",
            "colorbar": {
             "outlinewidth": 0,
             "ticks": ""
            }
           }
          ],
          "contour": [
           {
            "type": "contour",
            "colorbar": {
             "outlinewidth": 0,
             "ticks": ""
            },
            "colorscale": [
             [
              0.0,
              "#0d0887"
             ],
             [
              0.1111111111111111,
              "#46039f"
             ],
             [
              0.2222222222222222,
              "#7201a8"
             ],
             [
              0.3333333333333333,
              "#9c179e"
             ],
             [
              0.4444444444444444,
              "#bd3786"
             ],
             [
              0.5555555555555556,
              "#d8576b"
             ],
             [
              0.6666666666666666,
              "#ed7953"
             ],
             [
              0.7777777777777778,
              "#fb9f3a"
             ],
             [
              0.8888888888888888,
              "#fdca26"
             ],
             [
              1.0,
              "#f0f921"
             ]
            ]
           }
          ],
          "surface": [
           {
            "type": "surface",
            "colorbar": {
             "outlinewidth": 0,
             "ticks": ""
            },
            "colorscale": [
             [
              0.0,
              "#0d0887"
             ],
             [
              0.1111111111111111,
              "#46039f"
             ],
             [
              0.2222222222222222,
              "#7201a8"
             ],
             [
              0.3333333333333333,
              "#9c179e"
             ],
             [
              0.4444444444444444,
              "#bd3786"
             ],
             [
              0.5555555555555556,
              "#d8576b"
             ],
             [
              0.6666666666666666,
              "#ed7953"
             ],
             [
              0.7777777777777778,
              "#fb9f3a"
             ],
             [
              0.8888888888888888,
              "#fdca26"
             ],
             [
              1.0,
              "#f0f921"
             ]
            ]
           }
          ],
          "mesh3d": [
           {
            "type": "mesh3d",
            "colorbar": {
             "outlinewidth": 0,
             "ticks": ""
            }
           }
          ],
          "scatter": [
           {
            "marker": {
             "line": {
              "color": "#283442"
             }
            },
            "type": "scatter"
           }
          ],
          "parcoords": [
           {
            "type": "parcoords",
            "line": {
             "colorbar": {
              "outlinewidth": 0,
              "ticks": ""
             }
            }
           }
          ],
          "scatterpolargl": [
           {
            "type": "scatterpolargl",
            "marker": {
             "colorbar": {
              "outlinewidth": 0,
              "ticks": ""
             }
            }
           }
          ],
          "bar": [
           {
            "error_x": {
             "color": "#f2f5fa"
            },
            "error_y": {
             "color": "#f2f5fa"
            },
            "marker": {
             "line": {
              "color": "rgb(17,17,17)",
              "width": 0.5
             },
             "pattern": {
              "fillmode": "overlay",
              "size": 10,
              "solidity": 0.2
             }
            },
            "type": "bar"
           }
          ],
          "scattergeo": [
           {
            "type": "scattergeo",
            "marker": {
             "colorbar": {
              "outlinewidth": 0,
              "ticks": ""
             }
            }
           }
          ],
          "scatterpolar": [
           {
            "type": "scatterpolar",
            "marker": {
             "colorbar": {
              "outlinewidth": 0,
              "ticks": ""
             }
            }
           }
          ],
          "histogram": [
           {
            "marker": {
             "pattern": {
              "fillmode": "overlay",
              "size": 10,
              "solidity": 0.2
             }
            },
            "type": "histogram"
           }
          ],
          "scattergl": [
           {
            "marker": {
             "line": {
              "color": "#283442"
             }
            },
            "type": "scattergl"
           }
          ],
          "scatter3d": [
           {
            "type": "scatter3d",
            "line": {
             "colorbar": {
              "outlinewidth": 0,
              "ticks": ""
             }
            },
            "marker": {
             "colorbar": {
              "outlinewidth": 0,
              "ticks": ""
             }
            }
           }
          ],
          "scattermapbox": [
           {
            "type": "scattermapbox",
            "marker": {
             "colorbar": {
              "outlinewidth": 0,
              "ticks": ""
             }
            }
           }
          ],
          "scatterternary": [
           {
            "type": "scatterternary",
            "marker": {
             "colorbar": {
              "outlinewidth": 0,
              "ticks": ""
             }
            }
           }
          ],
          "scattercarpet": [
           {
            "type": "scattercarpet",
            "marker": {
             "colorbar": {
              "outlinewidth": 0,
              "ticks": ""
             }
            }
           }
          ],
          "carpet": [
           {
            "aaxis": {
             "endlinecolor": "#A2B1C6",
             "gridcolor": "#506784",
             "linecolor": "#506784",
             "minorgridcolor": "#506784",
             "startlinecolor": "#A2B1C6"
            },
            "baxis": {
             "endlinecolor": "#A2B1C6",
             "gridcolor": "#506784",
             "linecolor": "#506784",
             "minorgridcolor": "#506784",
             "startlinecolor": "#A2B1C6"
            },
            "type": "carpet"
           }
          ],
          "table": [
           {
            "cells": {
             "fill": {
              "color": "#506784"
             },
             "line": {
              "color": "rgb(17,17,17)"
             }
            },
            "header": {
             "fill": {
              "color": "#2a3f5f"
             },
             "line": {
              "color": "rgb(17,17,17)"
             }
            },
            "type": "table"
           }
          ],
          "barpolar": [
           {
            "marker": {
             "line": {
              "color": "rgb(17,17,17)",
              "width": 0.5
             },
             "pattern": {
              "fillmode": "overlay",
              "size": 10,
              "solidity": 0.2
             }
            },
            "type": "barpolar"
           }
          ],
          "pie": [
           {
            "automargin": true,
            "type": "pie"
           }
          ]
         },
         "layout": {
          "autotypenumbers": "strict",
          "colorway": [
           "#636efa",
           "#EF553B",
           "#00cc96",
           "#ab63fa",
           "#FFA15A",
           "#19d3f3",
           "#FF6692",
           "#B6E880",
           "#FF97FF",
           "#FECB52"
          ],
          "font": {
           "color": "#f2f5fa"
          },
          "hovermode": "closest",
          "hoverlabel": {
           "align": "left"
          },
          "paper_bgcolor": "rgb(17,17,17)",
          "plot_bgcolor": "rgb(17,17,17)",
          "polar": {
           "bgcolor": "rgb(17,17,17)",
           "angularaxis": {
            "gridcolor": "#506784",
            "linecolor": "#506784",
            "ticks": ""
           },
           "radialaxis": {
            "gridcolor": "#506784",
            "linecolor": "#506784",
            "ticks": ""
           }
          },
          "ternary": {
           "bgcolor": "rgb(17,17,17)",
           "aaxis": {
            "gridcolor": "#506784",
            "linecolor": "#506784",
            "ticks": ""
           },
           "baxis": {
            "gridcolor": "#506784",
            "linecolor": "#506784",
            "ticks": ""
           },
           "caxis": {
            "gridcolor": "#506784",
            "linecolor": "#506784",
            "ticks": ""
           }
          },
          "coloraxis": {
           "colorbar": {
            "outlinewidth": 0,
            "ticks": ""
           }
          },
          "colorscale": {
           "sequential": [
            [
             0.0,
             "#0d0887"
            ],
            [
             0.1111111111111111,
             "#46039f"
            ],
            [
             0.2222222222222222,
             "#7201a8"
            ],
            [
             0.3333333333333333,
             "#9c179e"
            ],
            [
             0.4444444444444444,
             "#bd3786"
            ],
            [
             0.5555555555555556,
             "#d8576b"
            ],
            [
             0.6666666666666666,
             "#ed7953"
            ],
            [
             0.7777777777777778,
             "#fb9f3a"
            ],
            [
             0.8888888888888888,
             "#fdca26"
            ],
            [
             1.0,
             "#f0f921"
            ]
           ],
           "sequentialminus": [
            [
             0.0,
             "#0d0887"
            ],
            [
             0.1111111111111111,
             "#46039f"
            ],
            [
             0.2222222222222222,
             "#7201a8"
            ],
            [
             0.3333333333333333,
             "#9c179e"
            ],
            [
             0.4444444444444444,
             "#bd3786"
            ],
            [
             0.5555555555555556,
             "#d8576b"
            ],
            [
             0.6666666666666666,
             "#ed7953"
            ],
            [
             0.7777777777777778,
             "#fb9f3a"
            ],
            [
             0.8888888888888888,
             "#fdca26"
            ],
            [
             1.0,
             "#f0f921"
            ]
           ],
           "diverging": [
            [
             0,
             "#8e0152"
            ],
            [
             0.1,
             "#c51b7d"
            ],
            [
             0.2,
             "#de77ae"
            ],
            [
             0.3,
             "#f1b6da"
            ],
            [
             0.4,
             "#fde0ef"
            ],
            [
             0.5,
             "#f7f7f7"
            ],
            [
             0.6,
             "#e6f5d0"
            ],
            [
             0.7,
             "#b8e186"
            ],
            [
             0.8,
             "#7fbc41"
            ],
            [
             0.9,
             "#4d9221"
            ],
            [
             1,
             "#276419"
            ]
           ]
          },
          "xaxis": {
           "gridcolor": "#283442",
           "linecolor": "#506784",
           "ticks": "",
           "title": {
            "standoff": 15
           },
           "zerolinecolor": "#283442",
           "automargin": true,
           "zerolinewidth": 2
          },
          "yaxis": {
           "gridcolor": "#283442",
           "linecolor": "#506784",
           "ticks": "",
           "title": {
            "standoff": 15
           },
           "zerolinecolor": "#283442",
           "automargin": true,
           "zerolinewidth": 2
          },
          "scene": {
           "xaxis": {
            "backgroundcolor": "rgb(17,17,17)",
            "gridcolor": "#506784",
            "linecolor": "#506784",
            "showbackground": true,
            "ticks": "",
            "zerolinecolor": "#C8D4E3",
            "gridwidth": 2
           },
           "yaxis": {
            "backgroundcolor": "rgb(17,17,17)",
            "gridcolor": "#506784",
            "linecolor": "#506784",
            "showbackground": true,
            "ticks": "",
            "zerolinecolor": "#C8D4E3",
            "gridwidth": 2
           },
           "zaxis": {
            "backgroundcolor": "rgb(17,17,17)",
            "gridcolor": "#506784",
            "linecolor": "#506784",
            "showbackground": true,
            "ticks": "",
            "zerolinecolor": "#C8D4E3",
            "gridwidth": 2
           }
          },
          "shapedefaults": {
           "line": {
            "color": "#f2f5fa"
           }
          },
          "annotationdefaults": {
           "arrowcolor": "#f2f5fa",
           "arrowhead": 0,
           "arrowwidth": 1
          },
          "geo": {
           "bgcolor": "rgb(17,17,17)",
           "landcolor": "rgb(17,17,17)",
           "subunitcolor": "#506784",
           "showland": true,
           "showlakes": true,
           "lakecolor": "rgb(17,17,17)"
          },
          "title": {
           "x": 0.05
          },
          "updatemenudefaults": {
           "bgcolor": "#506784",
           "borderwidth": 0
          },
          "sliderdefaults": {
           "bgcolor": "#C8D4E3",
           "borderwidth": 1,
           "bordercolor": "rgb(17,17,17)",
           "tickwidth": 0
          },
          "mapbox": {
           "style": "dark"
          }
         }
        },
        "xaxis": {
         "anchor": "y",
         "domain": [
          0.0,
          0.7363
         ],
         "title": {
          "text": "event F1"
         }
        },
        "yaxis": {
         "anchor": "x",
         "domain": [
          0.0,
          1.0
         ],
         "title": {
          "text": "value"
         }
        },
        "xaxis2": {
         "anchor": "y2",
         "domain": [
          0.7413,
          1.0
         ],
         "matches": "x2",
         "showticklabels": false,
         "showline": false,
         "ticks": "",
         "showgrid": true
        },
        "yaxis2": {
         "anchor": "x2",
         "domain": [
          0.0,
          1.0
         ],
         "matches": "y",
         "showticklabels": false,
         "showgrid": true
        },
        "legend": {
         "title": {
          "text": "metric"
         },
         "tracegroupgap": 0
        },
        "margin": {
         "t": 60
        },
        "barmode": "overlay"
       },
       "config": {
        "plotlyServerURL": "https://plot.ly"
       }
      },
      "text/html": [
       "<div>                            <div id=\"e9ef074b-3a26-4d97-854a-2ad4b0bda0d4\" class=\"plotly-graph-div\" style=\"height:525px; width:100%;\"></div>            <script type=\"text/javascript\">                require([\"plotly\"], function(Plotly) {                    window.PLOTLYENV=window.PLOTLYENV || {};                                    if (document.getElementById(\"e9ef074b-3a26-4d97-854a-2ad4b0bda0d4\")) {                    Plotly.newPlot(                        \"e9ef074b-3a26-4d97-854a-2ad4b0bda0d4\",                        [{\"hovertemplate\":\"metric=event precision<br>event F1=%{x}<br>value=%{y}<extra></extra>\",\"legendgroup\":\"event precision\",\"marker\":{\"color\":\"#636efa\",\"symbol\":\"circle\"},\"mode\":\"markers\",\"name\":\"event precision\",\"orientation\":\"v\",\"showlegend\":true,\"x\":[0.6370757180156658,0.8481081081081081,0.7785888077858881,0.6525054466230937,0.6848030018761726,0.6557539682539683,0.45454545454545453],\"xaxis\":\"x\",\"y\":[0.8531468531468531,0.7842157842157842,0.794044665012407,0.4983388704318937,0.5960912052117264,0.5204402515723271,0.7894736842105263],\"yaxis\":\"y\",\"type\":\"scatter\"},{\"alignmentgroup\":\"True\",\"bingroup\":\"y\",\"hovertemplate\":\"metric=event precision<br>value=%{y}<br>count=%{x}<extra></extra>\",\"legendgroup\":\"event precision\",\"marker\":{\"color\":\"#636efa\"},\"name\":\"event precision\",\"offsetgroup\":\"event precision\",\"opacity\":0.5,\"showlegend\":false,\"xaxis\":\"x2\",\"y\":[0.8531468531468531,0.7842157842157842,0.794044665012407,0.4983388704318937,0.5960912052117264,0.5204402515723271,0.7894736842105263],\"yaxis\":\"y2\",\"type\":\"histogram\"},{\"hovertemplate\":\"metric=event recall<br>event F1=%{x}<br>value=%{y}<extra></extra>\",\"legendgroup\":\"event recall\",\"marker\":{\"color\":\"#EF553B\",\"symbol\":\"circle\"},\"mode\":\"markers\",\"name\":\"event recall\",\"orientation\":\"v\",\"showlegend\":true,\"x\":[0.6370757180156658,0.8481081081081081,0.7785888077858881,0.6525054466230937,0.6848030018761726,0.6557539682539683,0.45454545454545453],\"xaxis\":\"x\",\"y\":[0.5083333333333333,0.9234393404004712,0.7637231503579952,0.9462025316455697,0.8053097345132744,0.8870967741935484,0.3191489361702128],\"yaxis\":\"y\",\"type\":\"scatter\"},{\"alignmentgroup\":\"True\",\"bingroup\":\"y\",\"hovertemplate\":\"metric=event recall<br>value=%{y}<br>count=%{x}<extra></extra>\",\"legendgroup\":\"event recall\",\"marker\":{\"color\":\"#EF553B\"},\"name\":\"event recall\",\"offsetgroup\":\"event recall\",\"opacity\":0.5,\"showlegend\":false,\"xaxis\":\"x2\",\"y\":[0.5083333333333333,0.9234393404004712,0.7637231503579952,0.9462025316455697,0.8053097345132744,0.8870967741935484,0.3191489361702128],\"yaxis\":\"y2\",\"type\":\"histogram\"},{\"fill\":\"toself\",\"mode\":\"lines\",\"name\":\"identity\",\"x\":[0.6370757180156658,0.8481081081081081,0.7785888077858881,0.6525054466230937,0.6848030018761726,0.6557539682539683,0.45454545454545453],\"y\":[0.6370757180156658,0.8481081081081081,0.7785888077858881,0.6525054466230937,0.6848030018761726,0.6557539682539683,0.45454545454545453],\"type\":\"scatter\"}],                        {\"template\":{\"data\":{\"histogram2dcontour\":[{\"type\":\"histogram2dcontour\",\"colorbar\":{\"outlinewidth\":0,\"ticks\":\"\"},\"colorscale\":[[0.0,\"#0d0887\"],[0.1111111111111111,\"#46039f\"],[0.2222222222222222,\"#7201a8\"],[0.3333333333333333,\"#9c179e\"],[0.4444444444444444,\"#bd3786\"],[0.5555555555555556,\"#d8576b\"],[0.6666666666666666,\"#ed7953\"],[0.7777777777777778,\"#fb9f3a\"],[0.8888888888888888,\"#fdca26\"],[1.0,\"#f0f921\"]]}],\"choropleth\":[{\"type\":\"choropleth\",\"colorbar\":{\"outlinewidth\":0,\"ticks\":\"\"}}],\"histogram2d\":[{\"type\":\"histogram2d\",\"colorbar\":{\"outlinewidth\":0,\"ticks\":\"\"},\"colorscale\":[[0.0,\"#0d0887\"],[0.1111111111111111,\"#46039f\"],[0.2222222222222222,\"#7201a8\"],[0.3333333333333333,\"#9c179e\"],[0.4444444444444444,\"#bd3786\"],[0.5555555555555556,\"#d8576b\"],[0.6666666666666666,\"#ed7953\"],[0.7777777777777778,\"#fb9f3a\"],[0.8888888888888888,\"#fdca26\"],[1.0,\"#f0f921\"]]}],\"heatmap\":[{\"type\":\"heatmap\",\"colorbar\":{\"outlinewidth\":0,\"ticks\":\"\"},\"colorscale\":[[0.0,\"#0d0887\"],[0.1111111111111111,\"#46039f\"],[0.2222222222222222,\"#7201a8\"],[0.3333333333333333,\"#9c179e\"],[0.4444444444444444,\"#bd3786\"],[0.5555555555555556,\"#d8576b\"],[0.6666666666666666,\"#ed7953\"],[0.7777777777777778,\"#fb9f3a\"],[0.8888888888888888,\"#fdca26\"],[1.0,\"#f0f921\"]]}],\"heatmapgl\":[{\"type\":\"heatmapgl\",\"colorbar\":{\"outlinewidth\":0,\"ticks\":\"\"},\"colorscale\":[[0.0,\"#0d0887\"],[0.1111111111111111,\"#46039f\"],[0.2222222222222222,\"#7201a8\"],[0.3333333333333333,\"#9c179e\"],[0.4444444444444444,\"#bd3786\"],[0.5555555555555556,\"#d8576b\"],[0.6666666666666666,\"#ed7953\"],[0.7777777777777778,\"#fb9f3a\"],[0.8888888888888888,\"#fdca26\"],[1.0,\"#f0f921\"]]}],\"contourcarpet\":[{\"type\":\"contourcarpet\",\"colorbar\":{\"outlinewidth\":0,\"ticks\":\"\"}}],\"contour\":[{\"type\":\"contour\",\"colorbar\":{\"outlinewidth\":0,\"ticks\":\"\"},\"colorscale\":[[0.0,\"#0d0887\"],[0.1111111111111111,\"#46039f\"],[0.2222222222222222,\"#7201a8\"],[0.3333333333333333,\"#9c179e\"],[0.4444444444444444,\"#bd3786\"],[0.5555555555555556,\"#d8576b\"],[0.6666666666666666,\"#ed7953\"],[0.7777777777777778,\"#fb9f3a\"],[0.8888888888888888,\"#fdca26\"],[1.0,\"#f0f921\"]]}],\"surface\":[{\"type\":\"surface\",\"colorbar\":{\"outlinewidth\":0,\"ticks\":\"\"},\"colorscale\":[[0.0,\"#0d0887\"],[0.1111111111111111,\"#46039f\"],[0.2222222222222222,\"#7201a8\"],[0.3333333333333333,\"#9c179e\"],[0.4444444444444444,\"#bd3786\"],[0.5555555555555556,\"#d8576b\"],[0.6666666666666666,\"#ed7953\"],[0.7777777777777778,\"#fb9f3a\"],[0.8888888888888888,\"#fdca26\"],[1.0,\"#f0f921\"]]}],\"mesh3d\":[{\"type\":\"mesh3d\",\"colorbar\":{\"outlinewidth\":0,\"ticks\":\"\"}}],\"scatter\":[{\"marker\":{\"line\":{\"color\":\"#283442\"}},\"type\":\"scatter\"}],\"parcoords\":[{\"type\":\"parcoords\",\"line\":{\"colorbar\":{\"outlinewidth\":0,\"ticks\":\"\"}}}],\"scatterpolargl\":[{\"type\":\"scatterpolargl\",\"marker\":{\"colorbar\":{\"outlinewidth\":0,\"ticks\":\"\"}}}],\"bar\":[{\"error_x\":{\"color\":\"#f2f5fa\"},\"error_y\":{\"color\":\"#f2f5fa\"},\"marker\":{\"line\":{\"color\":\"rgb(17,17,17)\",\"width\":0.5},\"pattern\":{\"fillmode\":\"overlay\",\"size\":10,\"solidity\":0.2}},\"type\":\"bar\"}],\"scattergeo\":[{\"type\":\"scattergeo\",\"marker\":{\"colorbar\":{\"outlinewidth\":0,\"ticks\":\"\"}}}],\"scatterpolar\":[{\"type\":\"scatterpolar\",\"marker\":{\"colorbar\":{\"outlinewidth\":0,\"ticks\":\"\"}}}],\"histogram\":[{\"marker\":{\"pattern\":{\"fillmode\":\"overlay\",\"size\":10,\"solidity\":0.2}},\"type\":\"histogram\"}],\"scattergl\":[{\"marker\":{\"line\":{\"color\":\"#283442\"}},\"type\":\"scattergl\"}],\"scatter3d\":[{\"type\":\"scatter3d\",\"line\":{\"colorbar\":{\"outlinewidth\":0,\"ticks\":\"\"}},\"marker\":{\"colorbar\":{\"outlinewidth\":0,\"ticks\":\"\"}}}],\"scattermapbox\":[{\"type\":\"scattermapbox\",\"marker\":{\"colorbar\":{\"outlinewidth\":0,\"ticks\":\"\"}}}],\"scatterternary\":[{\"type\":\"scatterternary\",\"marker\":{\"colorbar\":{\"outlinewidth\":0,\"ticks\":\"\"}}}],\"scattercarpet\":[{\"type\":\"scattercarpet\",\"marker\":{\"colorbar\":{\"outlinewidth\":0,\"ticks\":\"\"}}}],\"carpet\":[{\"aaxis\":{\"endlinecolor\":\"#A2B1C6\",\"gridcolor\":\"#506784\",\"linecolor\":\"#506784\",\"minorgridcolor\":\"#506784\",\"startlinecolor\":\"#A2B1C6\"},\"baxis\":{\"endlinecolor\":\"#A2B1C6\",\"gridcolor\":\"#506784\",\"linecolor\":\"#506784\",\"minorgridcolor\":\"#506784\",\"startlinecolor\":\"#A2B1C6\"},\"type\":\"carpet\"}],\"table\":[{\"cells\":{\"fill\":{\"color\":\"#506784\"},\"line\":{\"color\":\"rgb(17,17,17)\"}},\"header\":{\"fill\":{\"color\":\"#2a3f5f\"},\"line\":{\"color\":\"rgb(17,17,17)\"}},\"type\":\"table\"}],\"barpolar\":[{\"marker\":{\"line\":{\"color\":\"rgb(17,17,17)\",\"width\":0.5},\"pattern\":{\"fillmode\":\"overlay\",\"size\":10,\"solidity\":0.2}},\"type\":\"barpolar\"}],\"pie\":[{\"automargin\":true,\"type\":\"pie\"}]},\"layout\":{\"autotypenumbers\":\"strict\",\"colorway\":[\"#636efa\",\"#EF553B\",\"#00cc96\",\"#ab63fa\",\"#FFA15A\",\"#19d3f3\",\"#FF6692\",\"#B6E880\",\"#FF97FF\",\"#FECB52\"],\"font\":{\"color\":\"#f2f5fa\"},\"hovermode\":\"closest\",\"hoverlabel\":{\"align\":\"left\"},\"paper_bgcolor\":\"rgb(17,17,17)\",\"plot_bgcolor\":\"rgb(17,17,17)\",\"polar\":{\"bgcolor\":\"rgb(17,17,17)\",\"angularaxis\":{\"gridcolor\":\"#506784\",\"linecolor\":\"#506784\",\"ticks\":\"\"},\"radialaxis\":{\"gridcolor\":\"#506784\",\"linecolor\":\"#506784\",\"ticks\":\"\"}},\"ternary\":{\"bgcolor\":\"rgb(17,17,17)\",\"aaxis\":{\"gridcolor\":\"#506784\",\"linecolor\":\"#506784\",\"ticks\":\"\"},\"baxis\":{\"gridcolor\":\"#506784\",\"linecolor\":\"#506784\",\"ticks\":\"\"},\"caxis\":{\"gridcolor\":\"#506784\",\"linecolor\":\"#506784\",\"ticks\":\"\"}},\"coloraxis\":{\"colorbar\":{\"outlinewidth\":0,\"ticks\":\"\"}},\"colorscale\":{\"sequential\":[[0.0,\"#0d0887\"],[0.1111111111111111,\"#46039f\"],[0.2222222222222222,\"#7201a8\"],[0.3333333333333333,\"#9c179e\"],[0.4444444444444444,\"#bd3786\"],[0.5555555555555556,\"#d8576b\"],[0.6666666666666666,\"#ed7953\"],[0.7777777777777778,\"#fb9f3a\"],[0.8888888888888888,\"#fdca26\"],[1.0,\"#f0f921\"]],\"sequentialminus\":[[0.0,\"#0d0887\"],[0.1111111111111111,\"#46039f\"],[0.2222222222222222,\"#7201a8\"],[0.3333333333333333,\"#9c179e\"],[0.4444444444444444,\"#bd3786\"],[0.5555555555555556,\"#d8576b\"],[0.6666666666666666,\"#ed7953\"],[0.7777777777777778,\"#fb9f3a\"],[0.8888888888888888,\"#fdca26\"],[1.0,\"#f0f921\"]],\"diverging\":[[0,\"#8e0152\"],[0.1,\"#c51b7d\"],[0.2,\"#de77ae\"],[0.3,\"#f1b6da\"],[0.4,\"#fde0ef\"],[0.5,\"#f7f7f7\"],[0.6,\"#e6f5d0\"],[0.7,\"#b8e186\"],[0.8,\"#7fbc41\"],[0.9,\"#4d9221\"],[1,\"#276419\"]]},\"xaxis\":{\"gridcolor\":\"#283442\",\"linecolor\":\"#506784\",\"ticks\":\"\",\"title\":{\"standoff\":15},\"zerolinecolor\":\"#283442\",\"automargin\":true,\"zerolinewidth\":2},\"yaxis\":{\"gridcolor\":\"#283442\",\"linecolor\":\"#506784\",\"ticks\":\"\",\"title\":{\"standoff\":15},\"zerolinecolor\":\"#283442\",\"automargin\":true,\"zerolinewidth\":2},\"scene\":{\"xaxis\":{\"backgroundcolor\":\"rgb(17,17,17)\",\"gridcolor\":\"#506784\",\"linecolor\":\"#506784\",\"showbackground\":true,\"ticks\":\"\",\"zerolinecolor\":\"#C8D4E3\",\"gridwidth\":2},\"yaxis\":{\"backgroundcolor\":\"rgb(17,17,17)\",\"gridcolor\":\"#506784\",\"linecolor\":\"#506784\",\"showbackground\":true,\"ticks\":\"\",\"zerolinecolor\":\"#C8D4E3\",\"gridwidth\":2},\"zaxis\":{\"backgroundcolor\":\"rgb(17,17,17)\",\"gridcolor\":\"#506784\",\"linecolor\":\"#506784\",\"showbackground\":true,\"ticks\":\"\",\"zerolinecolor\":\"#C8D4E3\",\"gridwidth\":2}},\"shapedefaults\":{\"line\":{\"color\":\"#f2f5fa\"}},\"annotationdefaults\":{\"arrowcolor\":\"#f2f5fa\",\"arrowhead\":0,\"arrowwidth\":1},\"geo\":{\"bgcolor\":\"rgb(17,17,17)\",\"landcolor\":\"rgb(17,17,17)\",\"subunitcolor\":\"#506784\",\"showland\":true,\"showlakes\":true,\"lakecolor\":\"rgb(17,17,17)\"},\"title\":{\"x\":0.05},\"updatemenudefaults\":{\"bgcolor\":\"#506784\",\"borderwidth\":0},\"sliderdefaults\":{\"bgcolor\":\"#C8D4E3\",\"borderwidth\":1,\"bordercolor\":\"rgb(17,17,17)\",\"tickwidth\":0},\"mapbox\":{\"style\":\"dark\"}}},\"xaxis\":{\"anchor\":\"y\",\"domain\":[0.0,0.7363],\"title\":{\"text\":\"event F1\"}},\"yaxis\":{\"anchor\":\"x\",\"domain\":[0.0,1.0],\"title\":{\"text\":\"value\"}},\"xaxis2\":{\"anchor\":\"y2\",\"domain\":[0.7413,1.0],\"matches\":\"x2\",\"showticklabels\":false,\"showline\":false,\"ticks\":\"\",\"showgrid\":true},\"yaxis2\":{\"anchor\":\"x2\",\"domain\":[0.0,1.0],\"matches\":\"y\",\"showticklabels\":false,\"showgrid\":true},\"legend\":{\"title\":{\"text\":\"metric\"},\"tracegroupgap\":0},\"margin\":{\"t\":60},\"barmode\":\"overlay\"},                        {\"responsive\": true}                    ).then(function(){\n",
       "                            \n",
       "var gd = document.getElementById('e9ef074b-3a26-4d97-854a-2ad4b0bda0d4');\n",
       "var x = new MutationObserver(function (mutations, observer) {{\n",
       "        var display = window.getComputedStyle(gd).display;\n",
       "        if (!display || display === 'none') {{\n",
       "            console.log([gd, 'removed!']);\n",
       "            Plotly.purge(gd);\n",
       "            observer.disconnect();\n",
       "        }}\n",
       "}});\n",
       "\n",
       "// Listen for the removal of the full notebook cells\n",
       "var notebookContainer = gd.closest('#notebook-container');\n",
       "if (notebookContainer) {{\n",
       "    x.observe(notebookContainer, {childList: true});\n",
       "}}\n",
       "\n",
       "// Listen for the clearing of the current output cell\n",
       "var outputEl = gd.closest('.output');\n",
       "if (outputEl) {{\n",
       "    x.observe(outputEl, {childList: true});\n",
       "}}\n",
       "\n",
       "                        })                };                });            </script>        </div>"
      ]
     },
     "metadata": {},
     "output_type": "display_data"
    }
   ],
   "execution_count": 71
  },
  {
   "cell_type": "markdown",
   "metadata": {},
   "source": [
    "### Restricted to N2"
   ]
  },
  {
   "cell_type": "code",
   "metadata": {
    "ExecuteTime": {
     "end_time": "2024-12-12T12:15:43.638180Z",
     "start_time": "2024-12-12T12:15:00.299967Z"
    }
   },
   "source": [
    "rawF1s=[]\n",
    "rawPrecisions=[]\n",
    "rawRecalls=[]\n",
    "\n",
    "f1s=[]\n",
    "precisions=[]\n",
    "recalls=[]\n",
    "\n",
    "eventF1s=[]\n",
    "eventPrecisions=[]\n",
    "eventRecalls=[]\n",
    "\n",
    "checks=[]\n",
    "\n",
    "for ind,row in experimentModels.iterrows():\n",
    "    print('*************************')\n",
    "    print(str(ind+1)+' of '+str(len(experimentModels)) )\n",
    "    #load model\n",
    "    model=loadBooster(row.modelId,experimentId,datapath)\n",
    "    testSubjectId=row.test\n",
    "   \n",
    "    #Define annotations criterium\n",
    "    usedAnnotations=annotations[annotations.labelerId.isin(row.labelerIdList)].reset_index(drop=True)\n",
    "    #Load features and labels\n",
    "    testFeatures=loadFeatureMatrix([testSubjectId],featureSelection,signalsMetadata,samplerate,datapath)\n",
    "    testLabels=loadLabelsVector([testSubjectId],usedAnnotations,signalsMetadata,samplerate)\n",
    "\n",
    "    ##################################################\n",
    "    hypnogram=loadCOGNITIONHypnogram(testSubjectId,cognipath)\n",
    "    testLabels=testLabels*(hypnogram==2)\n",
    "    ##################################################\n",
    "\n",
    "    #Predict\n",
    "    testDMatrix=xgb.DMatrix(data=testFeatures)\n",
    "    probabilities=model.predict(testDMatrix,iteration_range=(0,hyperDepth))\n",
    "    rawLabels=probabilities>=hyperThres\n",
    "\n",
    "    ##################################################\n",
    "    rawLabels=rawLabels*(hypnogram==2)\n",
    "    ##################################################\n",
    "\n",
    "    #Raw Metrics\n",
    "    rawTp=np.sum(rawLabels*testLabels)\n",
    "    rawFp=np.sum(rawLabels*(1-testLabels))\n",
    "    rawTn=np.sum((1-rawLabels)*(1-testLabels))\n",
    "    rawFn=np.sum((1-rawLabels)*testLabels)\n",
    "    #Raw appends\n",
    "    rawF1s.append(2*rawTp/(2*rawTp+rawFp+rawFn))\n",
    "    rawPrecisions.append(rawTp/(rawTp+rawFp) )\n",
    "    rawRecalls.append(rawTp/(rawTp+rawFn))\n",
    "    #Process\n",
    "    processedLabels=labelingProcess(rawLabels,hyperClose,hyperDuration,samplerate)\n",
    "    #Processed metrics\n",
    "    tp=np.sum(processedLabels*testLabels)\n",
    "    fp=np.sum(processedLabels*(1-testLabels))\n",
    "    tn=np.sum((1-processedLabels)*(1-testLabels))\n",
    "    fn=np.sum((1-processedLabels)*testLabels)\n",
    "    #Processed appends\n",
    "    f1s.append(2*tp/(2*tp+fp+fn))\n",
    "    precisions.append(tp/(tp+fp))\n",
    "    recalls.append(tp/(tp+fn))\n",
    "\n",
    "    #By-event metrics\n",
    "    processedAnnotations=labelVectorToAnnotations(processedLabels,samplerate)\n",
    "    processedAnnotations=processedAnnotations[processedAnnotations.duration<5]\n",
    "    gtAnnotations=labelVectorToAnnotations(testLabels,samplerate)   #<- or just filter the annotations\n",
    "    f,r,p=annotationPairToMetrics(gtAnnotations,processedAnnotations, thresIoU=0.3)\n",
    "    \n",
    "    #calculate metrics\n",
    "    eventF1s.append(f)\n",
    "    eventPrecisions.append(p)\n",
    "    eventRecalls.append(r)\n",
    "\n",
    "#include metrics in the dataframe\n",
    "experimentModels['rawF1']=rawF1s\n",
    "experimentModels['rawPrecision']=rawPrecisions\n",
    "experimentModels['rawRecall']=rawRecalls\n",
    "\n",
    "experimentModels['f1']=f1s\n",
    "experimentModels['precision']=precisions\n",
    "experimentModels['recall']=recalls\n",
    "\n",
    "experimentModels['eventF1']=eventF1s\n",
    "experimentModels['eventPrecision']=eventPrecisions\n",
    "experimentModels['eventRecall']=eventRecalls\n"
   ],
   "outputs": [
    {
     "name": "stdout",
     "output_type": "stream",
     "text": [
      "*************************\n",
      "1 of 7\n",
      "*************************\n",
      "2 of 7\n",
      "*************************\n",
      "3 of 7\n",
      "*************************\n",
      "4 of 7\n",
      "*************************\n",
      "5 of 7\n",
      "*************************\n",
      "6 of 7\n",
      "*************************\n",
      "7 of 7\n"
     ]
    }
   ],
   "execution_count": 72
  },
  {
   "cell_type": "code",
   "metadata": {
    "ExecuteTime": {
     "end_time": "2024-12-12T12:15:43.684569Z",
     "start_time": "2024-12-12T12:15:43.670629Z"
    }
   },
   "source": [
    "dumpPickle('experimentModelsTestN2_E1_temp.pkl',experimentModels)"
   ],
   "outputs": [],
   "execution_count": 73
  },
  {
   "cell_type": "code",
   "metadata": {
    "ExecuteTime": {
     "end_time": "2024-12-12T12:15:43.731743Z",
     "start_time": "2024-12-12T12:15:43.715994Z"
    }
   },
   "source": [
    "experimentModels.columns"
   ],
   "outputs": [
    {
     "data": {
      "text/plain": [
       "Index(['criteriumId', 'criteriumName', 'labelerIdList', 'train', 'val', 'test',\n",
       "       'modelId', 'spindleTimeRate', 'rawF1', 'rawPrecision', 'rawRecall',\n",
       "       'f1', 'precision', 'recall', 'eventF1', 'eventPrecision',\n",
       "       'eventRecall'],\n",
       "      dtype='object')"
      ]
     },
     "execution_count": 74,
     "metadata": {},
     "output_type": "execute_result"
    }
   ],
   "execution_count": 74
  },
  {
   "metadata": {},
   "cell_type": "code",
   "outputs": [],
   "execution_count": null,
   "source": [
    "fig=px.scatter(experimentModels,x='f1',y='eventF1',color='test',hover_name='modelId', marginal_y=\"histogram\")\n",
    "fig.add_trace(\n",
    "    go.Scatter(x=experimentModels['f1'], y=experimentModels['f1'], name=\"identity\", mode='lines',fill=\"toself\")\n",
    ")\n",
    "fig.show()"
   ]
  },
  {
   "cell_type": "code",
   "metadata": {
    "ExecuteTime": {
     "end_time": "2024-12-12T12:15:43.810484Z",
     "start_time": "2024-12-12T12:15:43.763360Z"
    }
   },
   "source": [
    "fig=px.scatter(experimentModels,x='rawF1',y='f1',color='test',hover_name='modelId', marginal_y=\"histogram\")\n",
    "fig.add_trace(\n",
    "    go.Scatter(x=experimentModels['rawF1'], y=experimentModels['rawF1'], name=\"identity\", mode='lines',fill=\"toself\")\n",
    ")\n",
    "fig.show()"
   ],
   "outputs": [
    {
     "data": {
      "application/vnd.plotly.v1+json": {
       "data": [
        {
         "hovertemplate": "<b>%{hovertext}</b><br><br>test=0002<br>rawF1=%{x}<br>f1=%{y}<extra></extra>",
         "hovertext": [
          "a4659423-83e4-4da3-91b5-177fa8bc17fe"
         ],
         "legendgroup": "0002",
         "marker": {
          "color": "#636efa",
          "symbol": "circle"
         },
         "mode": "markers",
         "name": "0002",
         "orientation": "v",
         "showlegend": true,
         "x": [
          0.5947482652156635
         ],
         "xaxis": "x",
         "y": [
          0.5949504692787041
         ],
         "yaxis": "y",
         "type": "scatter"
        },
        {
         "alignmentgroup": "True",
         "bingroup": "y",
         "hovertemplate": "test=0002<br>f1=%{y}<br>count=%{x}<extra></extra>",
         "legendgroup": "0002",
         "marker": {
          "color": "#636efa"
         },
         "name": "0002",
         "offsetgroup": "0002",
         "opacity": 0.5,
         "showlegend": false,
         "xaxis": "x2",
         "y": [
          0.5949504692787041
         ],
         "yaxis": "y2",
         "type": "histogram"
        },
        {
         "hovertemplate": "<b>%{hovertext}</b><br><br>test=0003<br>rawF1=%{x}<br>f1=%{y}<extra></extra>",
         "hovertext": [
          "ad3be387-5be4-4e8e-b57d-072003b617d3"
         ],
         "legendgroup": "0003",
         "marker": {
          "color": "#EF553B",
          "symbol": "circle"
         },
         "mode": "markers",
         "name": "0003",
         "orientation": "v",
         "showlegend": true,
         "x": [
          0.7855149253554978
         ],
         "xaxis": "x",
         "y": [
          0.786585667710978
         ],
         "yaxis": "y",
         "type": "scatter"
        },
        {
         "alignmentgroup": "True",
         "bingroup": "y",
         "hovertemplate": "test=0003<br>f1=%{y}<br>count=%{x}<extra></extra>",
         "legendgroup": "0003",
         "marker": {
          "color": "#EF553B"
         },
         "name": "0003",
         "offsetgroup": "0003",
         "opacity": 0.5,
         "showlegend": false,
         "xaxis": "x2",
         "y": [
          0.786585667710978
         ],
         "yaxis": "y2",
         "type": "histogram"
        },
        {
         "hovertemplate": "<b>%{hovertext}</b><br><br>test=0004<br>rawF1=%{x}<br>f1=%{y}<extra></extra>",
         "hovertext": [
          "8bcbbc8b-b83e-4b97-8f7c-0dd0760680e7"
         ],
         "legendgroup": "0004",
         "marker": {
          "color": "#00cc96",
          "symbol": "circle"
         },
         "mode": "markers",
         "name": "0004",
         "orientation": "v",
         "showlegend": true,
         "x": [
          0.7159573856192443
         ],
         "xaxis": "x",
         "y": [
          0.7259442819369755
         ],
         "yaxis": "y",
         "type": "scatter"
        },
        {
         "alignmentgroup": "True",
         "bingroup": "y",
         "hovertemplate": "test=0004<br>f1=%{y}<br>count=%{x}<extra></extra>",
         "legendgroup": "0004",
         "marker": {
          "color": "#00cc96"
         },
         "name": "0004",
         "offsetgroup": "0004",
         "opacity": 0.5,
         "showlegend": false,
         "xaxis": "x2",
         "y": [
          0.7259442819369755
         ],
         "yaxis": "y2",
         "type": "histogram"
        },
        {
         "hovertemplate": "<b>%{hovertext}</b><br><br>test=0005<br>rawF1=%{x}<br>f1=%{y}<extra></extra>",
         "hovertext": [
          "f88ed731-de3a-4c9a-90d5-04d1fcd93d45"
         ],
         "legendgroup": "0005",
         "marker": {
          "color": "#ab63fa",
          "symbol": "circle"
         },
         "mode": "markers",
         "name": "0005",
         "orientation": "v",
         "showlegend": true,
         "x": [
          0.6229249302188923
         ],
         "xaxis": "x",
         "y": [
          0.6312540050278503
         ],
         "yaxis": "y",
         "type": "scatter"
        },
        {
         "alignmentgroup": "True",
         "bingroup": "y",
         "hovertemplate": "test=0005<br>f1=%{y}<br>count=%{x}<extra></extra>",
         "legendgroup": "0005",
         "marker": {
          "color": "#ab63fa"
         },
         "name": "0005",
         "offsetgroup": "0005",
         "opacity": 0.5,
         "showlegend": false,
         "xaxis": "x2",
         "y": [
          0.6312540050278503
         ],
         "yaxis": "y2",
         "type": "histogram"
        },
        {
         "hovertemplate": "<b>%{hovertext}</b><br><br>test=0006<br>rawF1=%{x}<br>f1=%{y}<extra></extra>",
         "hovertext": [
          "16a691da-d735-4ad2-953c-db2678980107"
         ],
         "legendgroup": "0006",
         "marker": {
          "color": "#FFA15A",
          "symbol": "circle"
         },
         "mode": "markers",
         "name": "0006",
         "orientation": "v",
         "showlegend": true,
         "x": [
          0.6383993672606837
         ],
         "xaxis": "x",
         "y": [
          0.6557310187486458
         ],
         "yaxis": "y",
         "type": "scatter"
        },
        {
         "alignmentgroup": "True",
         "bingroup": "y",
         "hovertemplate": "test=0006<br>f1=%{y}<br>count=%{x}<extra></extra>",
         "legendgroup": "0006",
         "marker": {
          "color": "#FFA15A"
         },
         "name": "0006",
         "offsetgroup": "0006",
         "opacity": 0.5,
         "showlegend": false,
         "xaxis": "x2",
         "y": [
          0.6557310187486458
         ],
         "yaxis": "y2",
         "type": "histogram"
        },
        {
         "hovertemplate": "<b>%{hovertext}</b><br><br>test=0007<br>rawF1=%{x}<br>f1=%{y}<extra></extra>",
         "hovertext": [
          "d91f41ff-0308-46df-9bcd-67d46f377777"
         ],
         "legendgroup": "0007",
         "marker": {
          "color": "#19d3f3",
          "symbol": "circle"
         },
         "mode": "markers",
         "name": "0007",
         "orientation": "v",
         "showlegend": true,
         "x": [
          0.6012382051297069
         ],
         "xaxis": "x",
         "y": [
          0.609681952619231
         ],
         "yaxis": "y",
         "type": "scatter"
        },
        {
         "alignmentgroup": "True",
         "bingroup": "y",
         "hovertemplate": "test=0007<br>f1=%{y}<br>count=%{x}<extra></extra>",
         "legendgroup": "0007",
         "marker": {
          "color": "#19d3f3"
         },
         "name": "0007",
         "offsetgroup": "0007",
         "opacity": 0.5,
         "showlegend": false,
         "xaxis": "x2",
         "y": [
          0.609681952619231
         ],
         "yaxis": "y2",
         "type": "histogram"
        },
        {
         "hovertemplate": "<b>%{hovertext}</b><br><br>test=0008<br>rawF1=%{x}<br>f1=%{y}<extra></extra>",
         "hovertext": [
          "a1eacac2-9e31-437a-9350-110d2ef2f1a5"
         ],
         "legendgroup": "0008",
         "marker": {
          "color": "#FF6692",
          "symbol": "circle"
         },
         "mode": "markers",
         "name": "0008",
         "orientation": "v",
         "showlegend": true,
         "x": [
          0.4638883269269674
         ],
         "xaxis": "x",
         "y": [
          0.45280665280665283
         ],
         "yaxis": "y",
         "type": "scatter"
        },
        {
         "alignmentgroup": "True",
         "bingroup": "y",
         "hovertemplate": "test=0008<br>f1=%{y}<br>count=%{x}<extra></extra>",
         "legendgroup": "0008",
         "marker": {
          "color": "#FF6692"
         },
         "name": "0008",
         "offsetgroup": "0008",
         "opacity": 0.5,
         "showlegend": false,
         "xaxis": "x2",
         "y": [
          0.45280665280665283
         ],
         "yaxis": "y2",
         "type": "histogram"
        },
        {
         "fill": "toself",
         "mode": "lines",
         "name": "identity",
         "x": [
          0.5947482652156635,
          0.7855149253554978,
          0.7159573856192443,
          0.6229249302188923,
          0.6383993672606837,
          0.6012382051297069,
          0.4638883269269674
         ],
         "y": [
          0.5947482652156635,
          0.7855149253554978,
          0.7159573856192443,
          0.6229249302188923,
          0.6383993672606837,
          0.6012382051297069,
          0.4638883269269674
         ],
         "type": "scatter"
        }
       ],
       "layout": {
        "template": {
         "data": {
          "histogram2dcontour": [
           {
            "type": "histogram2dcontour",
            "colorbar": {
             "outlinewidth": 0,
             "ticks": ""
            },
            "colorscale": [
             [
              0.0,
              "#0d0887"
             ],
             [
              0.1111111111111111,
              "#46039f"
             ],
             [
              0.2222222222222222,
              "#7201a8"
             ],
             [
              0.3333333333333333,
              "#9c179e"
             ],
             [
              0.4444444444444444,
              "#bd3786"
             ],
             [
              0.5555555555555556,
              "#d8576b"
             ],
             [
              0.6666666666666666,
              "#ed7953"
             ],
             [
              0.7777777777777778,
              "#fb9f3a"
             ],
             [
              0.8888888888888888,
              "#fdca26"
             ],
             [
              1.0,
              "#f0f921"
             ]
            ]
           }
          ],
          "choropleth": [
           {
            "type": "choropleth",
            "colorbar": {
             "outlinewidth": 0,
             "ticks": ""
            }
           }
          ],
          "histogram2d": [
           {
            "type": "histogram2d",
            "colorbar": {
             "outlinewidth": 0,
             "ticks": ""
            },
            "colorscale": [
             [
              0.0,
              "#0d0887"
             ],
             [
              0.1111111111111111,
              "#46039f"
             ],
             [
              0.2222222222222222,
              "#7201a8"
             ],
             [
              0.3333333333333333,
              "#9c179e"
             ],
             [
              0.4444444444444444,
              "#bd3786"
             ],
             [
              0.5555555555555556,
              "#d8576b"
             ],
             [
              0.6666666666666666,
              "#ed7953"
             ],
             [
              0.7777777777777778,
              "#fb9f3a"
             ],
             [
              0.8888888888888888,
              "#fdca26"
             ],
             [
              1.0,
              "#f0f921"
             ]
            ]
           }
          ],
          "heatmap": [
           {
            "type": "heatmap",
            "colorbar": {
             "outlinewidth": 0,
             "ticks": ""
            },
            "colorscale": [
             [
              0.0,
              "#0d0887"
             ],
             [
              0.1111111111111111,
              "#46039f"
             ],
             [
              0.2222222222222222,
              "#7201a8"
             ],
             [
              0.3333333333333333,
              "#9c179e"
             ],
             [
              0.4444444444444444,
              "#bd3786"
             ],
             [
              0.5555555555555556,
              "#d8576b"
             ],
             [
              0.6666666666666666,
              "#ed7953"
             ],
             [
              0.7777777777777778,
              "#fb9f3a"
             ],
             [
              0.8888888888888888,
              "#fdca26"
             ],
             [
              1.0,
              "#f0f921"
             ]
            ]
           }
          ],
          "heatmapgl": [
           {
            "type": "heatmapgl",
            "colorbar": {
             "outlinewidth": 0,
             "ticks": ""
            },
            "colorscale": [
             [
              0.0,
              "#0d0887"
             ],
             [
              0.1111111111111111,
              "#46039f"
             ],
             [
              0.2222222222222222,
              "#7201a8"
             ],
             [
              0.3333333333333333,
              "#9c179e"
             ],
             [
              0.4444444444444444,
              "#bd3786"
             ],
             [
              0.5555555555555556,
              "#d8576b"
             ],
             [
              0.6666666666666666,
              "#ed7953"
             ],
             [
              0.7777777777777778,
              "#fb9f3a"
             ],
             [
              0.8888888888888888,
              "#fdca26"
             ],
             [
              1.0,
              "#f0f921"
             ]
            ]
           }
          ],
          "contourcarpet": [
           {
            "type": "contourcarpet",
            "colorbar": {
             "outlinewidth": 0,
             "ticks": ""
            }
           }
          ],
          "contour": [
           {
            "type": "contour",
            "colorbar": {
             "outlinewidth": 0,
             "ticks": ""
            },
            "colorscale": [
             [
              0.0,
              "#0d0887"
             ],
             [
              0.1111111111111111,
              "#46039f"
             ],
             [
              0.2222222222222222,
              "#7201a8"
             ],
             [
              0.3333333333333333,
              "#9c179e"
             ],
             [
              0.4444444444444444,
              "#bd3786"
             ],
             [
              0.5555555555555556,
              "#d8576b"
             ],
             [
              0.6666666666666666,
              "#ed7953"
             ],
             [
              0.7777777777777778,
              "#fb9f3a"
             ],
             [
              0.8888888888888888,
              "#fdca26"
             ],
             [
              1.0,
              "#f0f921"
             ]
            ]
           }
          ],
          "surface": [
           {
            "type": "surface",
            "colorbar": {
             "outlinewidth": 0,
             "ticks": ""
            },
            "colorscale": [
             [
              0.0,
              "#0d0887"
             ],
             [
              0.1111111111111111,
              "#46039f"
             ],
             [
              0.2222222222222222,
              "#7201a8"
             ],
             [
              0.3333333333333333,
              "#9c179e"
             ],
             [
              0.4444444444444444,
              "#bd3786"
             ],
             [
              0.5555555555555556,
              "#d8576b"
             ],
             [
              0.6666666666666666,
              "#ed7953"
             ],
             [
              0.7777777777777778,
              "#fb9f3a"
             ],
             [
              0.8888888888888888,
              "#fdca26"
             ],
             [
              1.0,
              "#f0f921"
             ]
            ]
           }
          ],
          "mesh3d": [
           {
            "type": "mesh3d",
            "colorbar": {
             "outlinewidth": 0,
             "ticks": ""
            }
           }
          ],
          "scatter": [
           {
            "marker": {
             "line": {
              "color": "#283442"
             }
            },
            "type": "scatter"
           }
          ],
          "parcoords": [
           {
            "type": "parcoords",
            "line": {
             "colorbar": {
              "outlinewidth": 0,
              "ticks": ""
             }
            }
           }
          ],
          "scatterpolargl": [
           {
            "type": "scatterpolargl",
            "marker": {
             "colorbar": {
              "outlinewidth": 0,
              "ticks": ""
             }
            }
           }
          ],
          "bar": [
           {
            "error_x": {
             "color": "#f2f5fa"
            },
            "error_y": {
             "color": "#f2f5fa"
            },
            "marker": {
             "line": {
              "color": "rgb(17,17,17)",
              "width": 0.5
             },
             "pattern": {
              "fillmode": "overlay",
              "size": 10,
              "solidity": 0.2
             }
            },
            "type": "bar"
           }
          ],
          "scattergeo": [
           {
            "type": "scattergeo",
            "marker": {
             "colorbar": {
              "outlinewidth": 0,
              "ticks": ""
             }
            }
           }
          ],
          "scatterpolar": [
           {
            "type": "scatterpolar",
            "marker": {
             "colorbar": {
              "outlinewidth": 0,
              "ticks": ""
             }
            }
           }
          ],
          "histogram": [
           {
            "marker": {
             "pattern": {
              "fillmode": "overlay",
              "size": 10,
              "solidity": 0.2
             }
            },
            "type": "histogram"
           }
          ],
          "scattergl": [
           {
            "marker": {
             "line": {
              "color": "#283442"
             }
            },
            "type": "scattergl"
           }
          ],
          "scatter3d": [
           {
            "type": "scatter3d",
            "line": {
             "colorbar": {
              "outlinewidth": 0,
              "ticks": ""
             }
            },
            "marker": {
             "colorbar": {
              "outlinewidth": 0,
              "ticks": ""
             }
            }
           }
          ],
          "scattermapbox": [
           {
            "type": "scattermapbox",
            "marker": {
             "colorbar": {
              "outlinewidth": 0,
              "ticks": ""
             }
            }
           }
          ],
          "scatterternary": [
           {
            "type": "scatterternary",
            "marker": {
             "colorbar": {
              "outlinewidth": 0,
              "ticks": ""
             }
            }
           }
          ],
          "scattercarpet": [
           {
            "type": "scattercarpet",
            "marker": {
             "colorbar": {
              "outlinewidth": 0,
              "ticks": ""
             }
            }
           }
          ],
          "carpet": [
           {
            "aaxis": {
             "endlinecolor": "#A2B1C6",
             "gridcolor": "#506784",
             "linecolor": "#506784",
             "minorgridcolor": "#506784",
             "startlinecolor": "#A2B1C6"
            },
            "baxis": {
             "endlinecolor": "#A2B1C6",
             "gridcolor": "#506784",
             "linecolor": "#506784",
             "minorgridcolor": "#506784",
             "startlinecolor": "#A2B1C6"
            },
            "type": "carpet"
           }
          ],
          "table": [
           {
            "cells": {
             "fill": {
              "color": "#506784"
             },
             "line": {
              "color": "rgb(17,17,17)"
             }
            },
            "header": {
             "fill": {
              "color": "#2a3f5f"
             },
             "line": {
              "color": "rgb(17,17,17)"
             }
            },
            "type": "table"
           }
          ],
          "barpolar": [
           {
            "marker": {
             "line": {
              "color": "rgb(17,17,17)",
              "width": 0.5
             },
             "pattern": {
              "fillmode": "overlay",
              "size": 10,
              "solidity": 0.2
             }
            },
            "type": "barpolar"
           }
          ],
          "pie": [
           {
            "automargin": true,
            "type": "pie"
           }
          ]
         },
         "layout": {
          "autotypenumbers": "strict",
          "colorway": [
           "#636efa",
           "#EF553B",
           "#00cc96",
           "#ab63fa",
           "#FFA15A",
           "#19d3f3",
           "#FF6692",
           "#B6E880",
           "#FF97FF",
           "#FECB52"
          ],
          "font": {
           "color": "#f2f5fa"
          },
          "hovermode": "closest",
          "hoverlabel": {
           "align": "left"
          },
          "paper_bgcolor": "rgb(17,17,17)",
          "plot_bgcolor": "rgb(17,17,17)",
          "polar": {
           "bgcolor": "rgb(17,17,17)",
           "angularaxis": {
            "gridcolor": "#506784",
            "linecolor": "#506784",
            "ticks": ""
           },
           "radialaxis": {
            "gridcolor": "#506784",
            "linecolor": "#506784",
            "ticks": ""
           }
          },
          "ternary": {
           "bgcolor": "rgb(17,17,17)",
           "aaxis": {
            "gridcolor": "#506784",
            "linecolor": "#506784",
            "ticks": ""
           },
           "baxis": {
            "gridcolor": "#506784",
            "linecolor": "#506784",
            "ticks": ""
           },
           "caxis": {
            "gridcolor": "#506784",
            "linecolor": "#506784",
            "ticks": ""
           }
          },
          "coloraxis": {
           "colorbar": {
            "outlinewidth": 0,
            "ticks": ""
           }
          },
          "colorscale": {
           "sequential": [
            [
             0.0,
             "#0d0887"
            ],
            [
             0.1111111111111111,
             "#46039f"
            ],
            [
             0.2222222222222222,
             "#7201a8"
            ],
            [
             0.3333333333333333,
             "#9c179e"
            ],
            [
             0.4444444444444444,
             "#bd3786"
            ],
            [
             0.5555555555555556,
             "#d8576b"
            ],
            [
             0.6666666666666666,
             "#ed7953"
            ],
            [
             0.7777777777777778,
             "#fb9f3a"
            ],
            [
             0.8888888888888888,
             "#fdca26"
            ],
            [
             1.0,
             "#f0f921"
            ]
           ],
           "sequentialminus": [
            [
             0.0,
             "#0d0887"
            ],
            [
             0.1111111111111111,
             "#46039f"
            ],
            [
             0.2222222222222222,
             "#7201a8"
            ],
            [
             0.3333333333333333,
             "#9c179e"
            ],
            [
             0.4444444444444444,
             "#bd3786"
            ],
            [
             0.5555555555555556,
             "#d8576b"
            ],
            [
             0.6666666666666666,
             "#ed7953"
            ],
            [
             0.7777777777777778,
             "#fb9f3a"
            ],
            [
             0.8888888888888888,
             "#fdca26"
            ],
            [
             1.0,
             "#f0f921"
            ]
           ],
           "diverging": [
            [
             0,
             "#8e0152"
            ],
            [
             0.1,
             "#c51b7d"
            ],
            [
             0.2,
             "#de77ae"
            ],
            [
             0.3,
             "#f1b6da"
            ],
            [
             0.4,
             "#fde0ef"
            ],
            [
             0.5,
             "#f7f7f7"
            ],
            [
             0.6,
             "#e6f5d0"
            ],
            [
             0.7,
             "#b8e186"
            ],
            [
             0.8,
             "#7fbc41"
            ],
            [
             0.9,
             "#4d9221"
            ],
            [
             1,
             "#276419"
            ]
           ]
          },
          "xaxis": {
           "gridcolor": "#283442",
           "linecolor": "#506784",
           "ticks": "",
           "title": {
            "standoff": 15
           },
           "zerolinecolor": "#283442",
           "automargin": true,
           "zerolinewidth": 2
          },
          "yaxis": {
           "gridcolor": "#283442",
           "linecolor": "#506784",
           "ticks": "",
           "title": {
            "standoff": 15
           },
           "zerolinecolor": "#283442",
           "automargin": true,
           "zerolinewidth": 2
          },
          "scene": {
           "xaxis": {
            "backgroundcolor": "rgb(17,17,17)",
            "gridcolor": "#506784",
            "linecolor": "#506784",
            "showbackground": true,
            "ticks": "",
            "zerolinecolor": "#C8D4E3",
            "gridwidth": 2
           },
           "yaxis": {
            "backgroundcolor": "rgb(17,17,17)",
            "gridcolor": "#506784",
            "linecolor": "#506784",
            "showbackground": true,
            "ticks": "",
            "zerolinecolor": "#C8D4E3",
            "gridwidth": 2
           },
           "zaxis": {
            "backgroundcolor": "rgb(17,17,17)",
            "gridcolor": "#506784",
            "linecolor": "#506784",
            "showbackground": true,
            "ticks": "",
            "zerolinecolor": "#C8D4E3",
            "gridwidth": 2
           }
          },
          "shapedefaults": {
           "line": {
            "color": "#f2f5fa"
           }
          },
          "annotationdefaults": {
           "arrowcolor": "#f2f5fa",
           "arrowhead": 0,
           "arrowwidth": 1
          },
          "geo": {
           "bgcolor": "rgb(17,17,17)",
           "landcolor": "rgb(17,17,17)",
           "subunitcolor": "#506784",
           "showland": true,
           "showlakes": true,
           "lakecolor": "rgb(17,17,17)"
          },
          "title": {
           "x": 0.05
          },
          "updatemenudefaults": {
           "bgcolor": "#506784",
           "borderwidth": 0
          },
          "sliderdefaults": {
           "bgcolor": "#C8D4E3",
           "borderwidth": 1,
           "bordercolor": "rgb(17,17,17)",
           "tickwidth": 0
          },
          "mapbox": {
           "style": "dark"
          }
         }
        },
        "xaxis": {
         "anchor": "y",
         "domain": [
          0.0,
          0.7363
         ],
         "title": {
          "text": "rawF1"
         }
        },
        "yaxis": {
         "anchor": "x",
         "domain": [
          0.0,
          1.0
         ],
         "title": {
          "text": "f1"
         }
        },
        "xaxis2": {
         "anchor": "y2",
         "domain": [
          0.7413,
          1.0
         ],
         "matches": "x2",
         "showticklabels": false,
         "showline": false,
         "ticks": "",
         "showgrid": true
        },
        "yaxis2": {
         "anchor": "x2",
         "domain": [
          0.0,
          1.0
         ],
         "matches": "y",
         "showticklabels": false,
         "showgrid": true
        },
        "legend": {
         "title": {
          "text": "test"
         },
         "tracegroupgap": 0
        },
        "margin": {
         "t": 60
        },
        "barmode": "overlay"
       },
       "config": {
        "plotlyServerURL": "https://plot.ly"
       }
      },
      "text/html": [
       "<div>                            <div id=\"55b50652-4ddd-4b47-8263-4326e0cc0b43\" class=\"plotly-graph-div\" style=\"height:525px; width:100%;\"></div>            <script type=\"text/javascript\">                require([\"plotly\"], function(Plotly) {                    window.PLOTLYENV=window.PLOTLYENV || {};                                    if (document.getElementById(\"55b50652-4ddd-4b47-8263-4326e0cc0b43\")) {                    Plotly.newPlot(                        \"55b50652-4ddd-4b47-8263-4326e0cc0b43\",                        [{\"hovertemplate\":\"<b>%{hovertext}</b><br><br>test=0002<br>rawF1=%{x}<br>f1=%{y}<extra></extra>\",\"hovertext\":[\"a4659423-83e4-4da3-91b5-177fa8bc17fe\"],\"legendgroup\":\"0002\",\"marker\":{\"color\":\"#636efa\",\"symbol\":\"circle\"},\"mode\":\"markers\",\"name\":\"0002\",\"orientation\":\"v\",\"showlegend\":true,\"x\":[0.5947482652156635],\"xaxis\":\"x\",\"y\":[0.5949504692787041],\"yaxis\":\"y\",\"type\":\"scatter\"},{\"alignmentgroup\":\"True\",\"bingroup\":\"y\",\"hovertemplate\":\"test=0002<br>f1=%{y}<br>count=%{x}<extra></extra>\",\"legendgroup\":\"0002\",\"marker\":{\"color\":\"#636efa\"},\"name\":\"0002\",\"offsetgroup\":\"0002\",\"opacity\":0.5,\"showlegend\":false,\"xaxis\":\"x2\",\"y\":[0.5949504692787041],\"yaxis\":\"y2\",\"type\":\"histogram\"},{\"hovertemplate\":\"<b>%{hovertext}</b><br><br>test=0003<br>rawF1=%{x}<br>f1=%{y}<extra></extra>\",\"hovertext\":[\"ad3be387-5be4-4e8e-b57d-072003b617d3\"],\"legendgroup\":\"0003\",\"marker\":{\"color\":\"#EF553B\",\"symbol\":\"circle\"},\"mode\":\"markers\",\"name\":\"0003\",\"orientation\":\"v\",\"showlegend\":true,\"x\":[0.7855149253554978],\"xaxis\":\"x\",\"y\":[0.786585667710978],\"yaxis\":\"y\",\"type\":\"scatter\"},{\"alignmentgroup\":\"True\",\"bingroup\":\"y\",\"hovertemplate\":\"test=0003<br>f1=%{y}<br>count=%{x}<extra></extra>\",\"legendgroup\":\"0003\",\"marker\":{\"color\":\"#EF553B\"},\"name\":\"0003\",\"offsetgroup\":\"0003\",\"opacity\":0.5,\"showlegend\":false,\"xaxis\":\"x2\",\"y\":[0.786585667710978],\"yaxis\":\"y2\",\"type\":\"histogram\"},{\"hovertemplate\":\"<b>%{hovertext}</b><br><br>test=0004<br>rawF1=%{x}<br>f1=%{y}<extra></extra>\",\"hovertext\":[\"8bcbbc8b-b83e-4b97-8f7c-0dd0760680e7\"],\"legendgroup\":\"0004\",\"marker\":{\"color\":\"#00cc96\",\"symbol\":\"circle\"},\"mode\":\"markers\",\"name\":\"0004\",\"orientation\":\"v\",\"showlegend\":true,\"x\":[0.7159573856192443],\"xaxis\":\"x\",\"y\":[0.7259442819369755],\"yaxis\":\"y\",\"type\":\"scatter\"},{\"alignmentgroup\":\"True\",\"bingroup\":\"y\",\"hovertemplate\":\"test=0004<br>f1=%{y}<br>count=%{x}<extra></extra>\",\"legendgroup\":\"0004\",\"marker\":{\"color\":\"#00cc96\"},\"name\":\"0004\",\"offsetgroup\":\"0004\",\"opacity\":0.5,\"showlegend\":false,\"xaxis\":\"x2\",\"y\":[0.7259442819369755],\"yaxis\":\"y2\",\"type\":\"histogram\"},{\"hovertemplate\":\"<b>%{hovertext}</b><br><br>test=0005<br>rawF1=%{x}<br>f1=%{y}<extra></extra>\",\"hovertext\":[\"f88ed731-de3a-4c9a-90d5-04d1fcd93d45\"],\"legendgroup\":\"0005\",\"marker\":{\"color\":\"#ab63fa\",\"symbol\":\"circle\"},\"mode\":\"markers\",\"name\":\"0005\",\"orientation\":\"v\",\"showlegend\":true,\"x\":[0.6229249302188923],\"xaxis\":\"x\",\"y\":[0.6312540050278503],\"yaxis\":\"y\",\"type\":\"scatter\"},{\"alignmentgroup\":\"True\",\"bingroup\":\"y\",\"hovertemplate\":\"test=0005<br>f1=%{y}<br>count=%{x}<extra></extra>\",\"legendgroup\":\"0005\",\"marker\":{\"color\":\"#ab63fa\"},\"name\":\"0005\",\"offsetgroup\":\"0005\",\"opacity\":0.5,\"showlegend\":false,\"xaxis\":\"x2\",\"y\":[0.6312540050278503],\"yaxis\":\"y2\",\"type\":\"histogram\"},{\"hovertemplate\":\"<b>%{hovertext}</b><br><br>test=0006<br>rawF1=%{x}<br>f1=%{y}<extra></extra>\",\"hovertext\":[\"16a691da-d735-4ad2-953c-db2678980107\"],\"legendgroup\":\"0006\",\"marker\":{\"color\":\"#FFA15A\",\"symbol\":\"circle\"},\"mode\":\"markers\",\"name\":\"0006\",\"orientation\":\"v\",\"showlegend\":true,\"x\":[0.6383993672606837],\"xaxis\":\"x\",\"y\":[0.6557310187486458],\"yaxis\":\"y\",\"type\":\"scatter\"},{\"alignmentgroup\":\"True\",\"bingroup\":\"y\",\"hovertemplate\":\"test=0006<br>f1=%{y}<br>count=%{x}<extra></extra>\",\"legendgroup\":\"0006\",\"marker\":{\"color\":\"#FFA15A\"},\"name\":\"0006\",\"offsetgroup\":\"0006\",\"opacity\":0.5,\"showlegend\":false,\"xaxis\":\"x2\",\"y\":[0.6557310187486458],\"yaxis\":\"y2\",\"type\":\"histogram\"},{\"hovertemplate\":\"<b>%{hovertext}</b><br><br>test=0007<br>rawF1=%{x}<br>f1=%{y}<extra></extra>\",\"hovertext\":[\"d91f41ff-0308-46df-9bcd-67d46f377777\"],\"legendgroup\":\"0007\",\"marker\":{\"color\":\"#19d3f3\",\"symbol\":\"circle\"},\"mode\":\"markers\",\"name\":\"0007\",\"orientation\":\"v\",\"showlegend\":true,\"x\":[0.6012382051297069],\"xaxis\":\"x\",\"y\":[0.609681952619231],\"yaxis\":\"y\",\"type\":\"scatter\"},{\"alignmentgroup\":\"True\",\"bingroup\":\"y\",\"hovertemplate\":\"test=0007<br>f1=%{y}<br>count=%{x}<extra></extra>\",\"legendgroup\":\"0007\",\"marker\":{\"color\":\"#19d3f3\"},\"name\":\"0007\",\"offsetgroup\":\"0007\",\"opacity\":0.5,\"showlegend\":false,\"xaxis\":\"x2\",\"y\":[0.609681952619231],\"yaxis\":\"y2\",\"type\":\"histogram\"},{\"hovertemplate\":\"<b>%{hovertext}</b><br><br>test=0008<br>rawF1=%{x}<br>f1=%{y}<extra></extra>\",\"hovertext\":[\"a1eacac2-9e31-437a-9350-110d2ef2f1a5\"],\"legendgroup\":\"0008\",\"marker\":{\"color\":\"#FF6692\",\"symbol\":\"circle\"},\"mode\":\"markers\",\"name\":\"0008\",\"orientation\":\"v\",\"showlegend\":true,\"x\":[0.4638883269269674],\"xaxis\":\"x\",\"y\":[0.45280665280665283],\"yaxis\":\"y\",\"type\":\"scatter\"},{\"alignmentgroup\":\"True\",\"bingroup\":\"y\",\"hovertemplate\":\"test=0008<br>f1=%{y}<br>count=%{x}<extra></extra>\",\"legendgroup\":\"0008\",\"marker\":{\"color\":\"#FF6692\"},\"name\":\"0008\",\"offsetgroup\":\"0008\",\"opacity\":0.5,\"showlegend\":false,\"xaxis\":\"x2\",\"y\":[0.45280665280665283],\"yaxis\":\"y2\",\"type\":\"histogram\"},{\"fill\":\"toself\",\"mode\":\"lines\",\"name\":\"identity\",\"x\":[0.5947482652156635,0.7855149253554978,0.7159573856192443,0.6229249302188923,0.6383993672606837,0.6012382051297069,0.4638883269269674],\"y\":[0.5947482652156635,0.7855149253554978,0.7159573856192443,0.6229249302188923,0.6383993672606837,0.6012382051297069,0.4638883269269674],\"type\":\"scatter\"}],                        {\"template\":{\"data\":{\"histogram2dcontour\":[{\"type\":\"histogram2dcontour\",\"colorbar\":{\"outlinewidth\":0,\"ticks\":\"\"},\"colorscale\":[[0.0,\"#0d0887\"],[0.1111111111111111,\"#46039f\"],[0.2222222222222222,\"#7201a8\"],[0.3333333333333333,\"#9c179e\"],[0.4444444444444444,\"#bd3786\"],[0.5555555555555556,\"#d8576b\"],[0.6666666666666666,\"#ed7953\"],[0.7777777777777778,\"#fb9f3a\"],[0.8888888888888888,\"#fdca26\"],[1.0,\"#f0f921\"]]}],\"choropleth\":[{\"type\":\"choropleth\",\"colorbar\":{\"outlinewidth\":0,\"ticks\":\"\"}}],\"histogram2d\":[{\"type\":\"histogram2d\",\"colorbar\":{\"outlinewidth\":0,\"ticks\":\"\"},\"colorscale\":[[0.0,\"#0d0887\"],[0.1111111111111111,\"#46039f\"],[0.2222222222222222,\"#7201a8\"],[0.3333333333333333,\"#9c179e\"],[0.4444444444444444,\"#bd3786\"],[0.5555555555555556,\"#d8576b\"],[0.6666666666666666,\"#ed7953\"],[0.7777777777777778,\"#fb9f3a\"],[0.8888888888888888,\"#fdca26\"],[1.0,\"#f0f921\"]]}],\"heatmap\":[{\"type\":\"heatmap\",\"colorbar\":{\"outlinewidth\":0,\"ticks\":\"\"},\"colorscale\":[[0.0,\"#0d0887\"],[0.1111111111111111,\"#46039f\"],[0.2222222222222222,\"#7201a8\"],[0.3333333333333333,\"#9c179e\"],[0.4444444444444444,\"#bd3786\"],[0.5555555555555556,\"#d8576b\"],[0.6666666666666666,\"#ed7953\"],[0.7777777777777778,\"#fb9f3a\"],[0.8888888888888888,\"#fdca26\"],[1.0,\"#f0f921\"]]}],\"heatmapgl\":[{\"type\":\"heatmapgl\",\"colorbar\":{\"outlinewidth\":0,\"ticks\":\"\"},\"colorscale\":[[0.0,\"#0d0887\"],[0.1111111111111111,\"#46039f\"],[0.2222222222222222,\"#7201a8\"],[0.3333333333333333,\"#9c179e\"],[0.4444444444444444,\"#bd3786\"],[0.5555555555555556,\"#d8576b\"],[0.6666666666666666,\"#ed7953\"],[0.7777777777777778,\"#fb9f3a\"],[0.8888888888888888,\"#fdca26\"],[1.0,\"#f0f921\"]]}],\"contourcarpet\":[{\"type\":\"contourcarpet\",\"colorbar\":{\"outlinewidth\":0,\"ticks\":\"\"}}],\"contour\":[{\"type\":\"contour\",\"colorbar\":{\"outlinewidth\":0,\"ticks\":\"\"},\"colorscale\":[[0.0,\"#0d0887\"],[0.1111111111111111,\"#46039f\"],[0.2222222222222222,\"#7201a8\"],[0.3333333333333333,\"#9c179e\"],[0.4444444444444444,\"#bd3786\"],[0.5555555555555556,\"#d8576b\"],[0.6666666666666666,\"#ed7953\"],[0.7777777777777778,\"#fb9f3a\"],[0.8888888888888888,\"#fdca26\"],[1.0,\"#f0f921\"]]}],\"surface\":[{\"type\":\"surface\",\"colorbar\":{\"outlinewidth\":0,\"ticks\":\"\"},\"colorscale\":[[0.0,\"#0d0887\"],[0.1111111111111111,\"#46039f\"],[0.2222222222222222,\"#7201a8\"],[0.3333333333333333,\"#9c179e\"],[0.4444444444444444,\"#bd3786\"],[0.5555555555555556,\"#d8576b\"],[0.6666666666666666,\"#ed7953\"],[0.7777777777777778,\"#fb9f3a\"],[0.8888888888888888,\"#fdca26\"],[1.0,\"#f0f921\"]]}],\"mesh3d\":[{\"type\":\"mesh3d\",\"colorbar\":{\"outlinewidth\":0,\"ticks\":\"\"}}],\"scatter\":[{\"marker\":{\"line\":{\"color\":\"#283442\"}},\"type\":\"scatter\"}],\"parcoords\":[{\"type\":\"parcoords\",\"line\":{\"colorbar\":{\"outlinewidth\":0,\"ticks\":\"\"}}}],\"scatterpolargl\":[{\"type\":\"scatterpolargl\",\"marker\":{\"colorbar\":{\"outlinewidth\":0,\"ticks\":\"\"}}}],\"bar\":[{\"error_x\":{\"color\":\"#f2f5fa\"},\"error_y\":{\"color\":\"#f2f5fa\"},\"marker\":{\"line\":{\"color\":\"rgb(17,17,17)\",\"width\":0.5},\"pattern\":{\"fillmode\":\"overlay\",\"size\":10,\"solidity\":0.2}},\"type\":\"bar\"}],\"scattergeo\":[{\"type\":\"scattergeo\",\"marker\":{\"colorbar\":{\"outlinewidth\":0,\"ticks\":\"\"}}}],\"scatterpolar\":[{\"type\":\"scatterpolar\",\"marker\":{\"colorbar\":{\"outlinewidth\":0,\"ticks\":\"\"}}}],\"histogram\":[{\"marker\":{\"pattern\":{\"fillmode\":\"overlay\",\"size\":10,\"solidity\":0.2}},\"type\":\"histogram\"}],\"scattergl\":[{\"marker\":{\"line\":{\"color\":\"#283442\"}},\"type\":\"scattergl\"}],\"scatter3d\":[{\"type\":\"scatter3d\",\"line\":{\"colorbar\":{\"outlinewidth\":0,\"ticks\":\"\"}},\"marker\":{\"colorbar\":{\"outlinewidth\":0,\"ticks\":\"\"}}}],\"scattermapbox\":[{\"type\":\"scattermapbox\",\"marker\":{\"colorbar\":{\"outlinewidth\":0,\"ticks\":\"\"}}}],\"scatterternary\":[{\"type\":\"scatterternary\",\"marker\":{\"colorbar\":{\"outlinewidth\":0,\"ticks\":\"\"}}}],\"scattercarpet\":[{\"type\":\"scattercarpet\",\"marker\":{\"colorbar\":{\"outlinewidth\":0,\"ticks\":\"\"}}}],\"carpet\":[{\"aaxis\":{\"endlinecolor\":\"#A2B1C6\",\"gridcolor\":\"#506784\",\"linecolor\":\"#506784\",\"minorgridcolor\":\"#506784\",\"startlinecolor\":\"#A2B1C6\"},\"baxis\":{\"endlinecolor\":\"#A2B1C6\",\"gridcolor\":\"#506784\",\"linecolor\":\"#506784\",\"minorgridcolor\":\"#506784\",\"startlinecolor\":\"#A2B1C6\"},\"type\":\"carpet\"}],\"table\":[{\"cells\":{\"fill\":{\"color\":\"#506784\"},\"line\":{\"color\":\"rgb(17,17,17)\"}},\"header\":{\"fill\":{\"color\":\"#2a3f5f\"},\"line\":{\"color\":\"rgb(17,17,17)\"}},\"type\":\"table\"}],\"barpolar\":[{\"marker\":{\"line\":{\"color\":\"rgb(17,17,17)\",\"width\":0.5},\"pattern\":{\"fillmode\":\"overlay\",\"size\":10,\"solidity\":0.2}},\"type\":\"barpolar\"}],\"pie\":[{\"automargin\":true,\"type\":\"pie\"}]},\"layout\":{\"autotypenumbers\":\"strict\",\"colorway\":[\"#636efa\",\"#EF553B\",\"#00cc96\",\"#ab63fa\",\"#FFA15A\",\"#19d3f3\",\"#FF6692\",\"#B6E880\",\"#FF97FF\",\"#FECB52\"],\"font\":{\"color\":\"#f2f5fa\"},\"hovermode\":\"closest\",\"hoverlabel\":{\"align\":\"left\"},\"paper_bgcolor\":\"rgb(17,17,17)\",\"plot_bgcolor\":\"rgb(17,17,17)\",\"polar\":{\"bgcolor\":\"rgb(17,17,17)\",\"angularaxis\":{\"gridcolor\":\"#506784\",\"linecolor\":\"#506784\",\"ticks\":\"\"},\"radialaxis\":{\"gridcolor\":\"#506784\",\"linecolor\":\"#506784\",\"ticks\":\"\"}},\"ternary\":{\"bgcolor\":\"rgb(17,17,17)\",\"aaxis\":{\"gridcolor\":\"#506784\",\"linecolor\":\"#506784\",\"ticks\":\"\"},\"baxis\":{\"gridcolor\":\"#506784\",\"linecolor\":\"#506784\",\"ticks\":\"\"},\"caxis\":{\"gridcolor\":\"#506784\",\"linecolor\":\"#506784\",\"ticks\":\"\"}},\"coloraxis\":{\"colorbar\":{\"outlinewidth\":0,\"ticks\":\"\"}},\"colorscale\":{\"sequential\":[[0.0,\"#0d0887\"],[0.1111111111111111,\"#46039f\"],[0.2222222222222222,\"#7201a8\"],[0.3333333333333333,\"#9c179e\"],[0.4444444444444444,\"#bd3786\"],[0.5555555555555556,\"#d8576b\"],[0.6666666666666666,\"#ed7953\"],[0.7777777777777778,\"#fb9f3a\"],[0.8888888888888888,\"#fdca26\"],[1.0,\"#f0f921\"]],\"sequentialminus\":[[0.0,\"#0d0887\"],[0.1111111111111111,\"#46039f\"],[0.2222222222222222,\"#7201a8\"],[0.3333333333333333,\"#9c179e\"],[0.4444444444444444,\"#bd3786\"],[0.5555555555555556,\"#d8576b\"],[0.6666666666666666,\"#ed7953\"],[0.7777777777777778,\"#fb9f3a\"],[0.8888888888888888,\"#fdca26\"],[1.0,\"#f0f921\"]],\"diverging\":[[0,\"#8e0152\"],[0.1,\"#c51b7d\"],[0.2,\"#de77ae\"],[0.3,\"#f1b6da\"],[0.4,\"#fde0ef\"],[0.5,\"#f7f7f7\"],[0.6,\"#e6f5d0\"],[0.7,\"#b8e186\"],[0.8,\"#7fbc41\"],[0.9,\"#4d9221\"],[1,\"#276419\"]]},\"xaxis\":{\"gridcolor\":\"#283442\",\"linecolor\":\"#506784\",\"ticks\":\"\",\"title\":{\"standoff\":15},\"zerolinecolor\":\"#283442\",\"automargin\":true,\"zerolinewidth\":2},\"yaxis\":{\"gridcolor\":\"#283442\",\"linecolor\":\"#506784\",\"ticks\":\"\",\"title\":{\"standoff\":15},\"zerolinecolor\":\"#283442\",\"automargin\":true,\"zerolinewidth\":2},\"scene\":{\"xaxis\":{\"backgroundcolor\":\"rgb(17,17,17)\",\"gridcolor\":\"#506784\",\"linecolor\":\"#506784\",\"showbackground\":true,\"ticks\":\"\",\"zerolinecolor\":\"#C8D4E3\",\"gridwidth\":2},\"yaxis\":{\"backgroundcolor\":\"rgb(17,17,17)\",\"gridcolor\":\"#506784\",\"linecolor\":\"#506784\",\"showbackground\":true,\"ticks\":\"\",\"zerolinecolor\":\"#C8D4E3\",\"gridwidth\":2},\"zaxis\":{\"backgroundcolor\":\"rgb(17,17,17)\",\"gridcolor\":\"#506784\",\"linecolor\":\"#506784\",\"showbackground\":true,\"ticks\":\"\",\"zerolinecolor\":\"#C8D4E3\",\"gridwidth\":2}},\"shapedefaults\":{\"line\":{\"color\":\"#f2f5fa\"}},\"annotationdefaults\":{\"arrowcolor\":\"#f2f5fa\",\"arrowhead\":0,\"arrowwidth\":1},\"geo\":{\"bgcolor\":\"rgb(17,17,17)\",\"landcolor\":\"rgb(17,17,17)\",\"subunitcolor\":\"#506784\",\"showland\":true,\"showlakes\":true,\"lakecolor\":\"rgb(17,17,17)\"},\"title\":{\"x\":0.05},\"updatemenudefaults\":{\"bgcolor\":\"#506784\",\"borderwidth\":0},\"sliderdefaults\":{\"bgcolor\":\"#C8D4E3\",\"borderwidth\":1,\"bordercolor\":\"rgb(17,17,17)\",\"tickwidth\":0},\"mapbox\":{\"style\":\"dark\"}}},\"xaxis\":{\"anchor\":\"y\",\"domain\":[0.0,0.7363],\"title\":{\"text\":\"rawF1\"}},\"yaxis\":{\"anchor\":\"x\",\"domain\":[0.0,1.0],\"title\":{\"text\":\"f1\"}},\"xaxis2\":{\"anchor\":\"y2\",\"domain\":[0.7413,1.0],\"matches\":\"x2\",\"showticklabels\":false,\"showline\":false,\"ticks\":\"\",\"showgrid\":true},\"yaxis2\":{\"anchor\":\"x2\",\"domain\":[0.0,1.0],\"matches\":\"y\",\"showticklabels\":false,\"showgrid\":true},\"legend\":{\"title\":{\"text\":\"test\"},\"tracegroupgap\":0},\"margin\":{\"t\":60},\"barmode\":\"overlay\"},                        {\"responsive\": true}                    ).then(function(){\n",
       "                            \n",
       "var gd = document.getElementById('55b50652-4ddd-4b47-8263-4326e0cc0b43');\n",
       "var x = new MutationObserver(function (mutations, observer) {{\n",
       "        var display = window.getComputedStyle(gd).display;\n",
       "        if (!display || display === 'none') {{\n",
       "            console.log([gd, 'removed!']);\n",
       "            Plotly.purge(gd);\n",
       "            observer.disconnect();\n",
       "        }}\n",
       "}});\n",
       "\n",
       "// Listen for the removal of the full notebook cells\n",
       "var notebookContainer = gd.closest('#notebook-container');\n",
       "if (notebookContainer) {{\n",
       "    x.observe(notebookContainer, {childList: true});\n",
       "}}\n",
       "\n",
       "// Listen for the clearing of the current output cell\n",
       "var outputEl = gd.closest('.output');\n",
       "if (outputEl) {{\n",
       "    x.observe(outputEl, {childList: true});\n",
       "}}\n",
       "\n",
       "                        })                };                });            </script>        </div>"
      ]
     },
     "metadata": {},
     "output_type": "display_data"
    }
   ],
   "execution_count": 75
  },
  {
   "cell_type": "code",
   "metadata": {
    "ExecuteTime": {
     "end_time": "2024-12-12T12:15:43.888636Z",
     "start_time": "2024-12-12T12:15:43.842769Z"
    }
   },
   "source": [
    "fig=px.scatter(experimentModels,x='rawF1',y='eventF1',color='test',hover_name='modelId', marginal_y=\"histogram\")\n",
    "fig.add_trace(\n",
    "    go.Scatter(x=experimentModels['rawF1'], y=experimentModels['rawF1'], name=\"identity\", mode='lines',fill=\"toself\")\n",
    ")\n",
    "fig.show()"
   ],
   "outputs": [
    {
     "data": {
      "application/vnd.plotly.v1+json": {
       "data": [
        {
         "hovertemplate": "<b>%{hovertext}</b><br><br>test=0002<br>rawF1=%{x}<br>eventF1=%{y}<extra></extra>",
         "hovertext": [
          "a4659423-83e4-4da3-91b5-177fa8bc17fe"
         ],
         "legendgroup": "0002",
         "marker": {
          "color": "#636efa",
          "symbol": "circle"
         },
         "mode": "markers",
         "name": "0002",
         "orientation": "v",
         "showlegend": true,
         "x": [
          0.5947482652156635
         ],
         "xaxis": "x",
         "y": [
          0.6666666666666666
         ],
         "yaxis": "y",
         "type": "scatter"
        },
        {
         "alignmentgroup": "True",
         "bingroup": "y",
         "hovertemplate": "test=0002<br>eventF1=%{y}<br>count=%{x}<extra></extra>",
         "legendgroup": "0002",
         "marker": {
          "color": "#636efa"
         },
         "name": "0002",
         "offsetgroup": "0002",
         "opacity": 0.5,
         "showlegend": false,
         "xaxis": "x2",
         "y": [
          0.6666666666666666
         ],
         "yaxis": "y2",
         "type": "histogram"
        },
        {
         "hovertemplate": "<b>%{hovertext}</b><br><br>test=0003<br>rawF1=%{x}<br>eventF1=%{y}<extra></extra>",
         "hovertext": [
          "ad3be387-5be4-4e8e-b57d-072003b617d3"
         ],
         "legendgroup": "0003",
         "marker": {
          "color": "#EF553B",
          "symbol": "circle"
         },
         "mode": "markers",
         "name": "0003",
         "orientation": "v",
         "showlegend": true,
         "x": [
          0.7855149253554978
         ],
         "xaxis": "x",
         "y": [
          0.8598398169336384
         ],
         "yaxis": "y",
         "type": "scatter"
        },
        {
         "alignmentgroup": "True",
         "bingroup": "y",
         "hovertemplate": "test=0003<br>eventF1=%{y}<br>count=%{x}<extra></extra>",
         "legendgroup": "0003",
         "marker": {
          "color": "#EF553B"
         },
         "name": "0003",
         "offsetgroup": "0003",
         "opacity": 0.5,
         "showlegend": false,
         "xaxis": "x2",
         "y": [
          0.8598398169336384
         ],
         "yaxis": "y2",
         "type": "histogram"
        },
        {
         "hovertemplate": "<b>%{hovertext}</b><br><br>test=0004<br>rawF1=%{x}<br>eventF1=%{y}<extra></extra>",
         "hovertext": [
          "8bcbbc8b-b83e-4b97-8f7c-0dd0760680e7"
         ],
         "legendgroup": "0004",
         "marker": {
          "color": "#00cc96",
          "symbol": "circle"
         },
         "mode": "markers",
         "name": "0004",
         "orientation": "v",
         "showlegend": true,
         "x": [
          0.7159573856192443
         ],
         "xaxis": "x",
         "y": [
          0.7896103896103897
         ],
         "yaxis": "y",
         "type": "scatter"
        },
        {
         "alignmentgroup": "True",
         "bingroup": "y",
         "hovertemplate": "test=0004<br>eventF1=%{y}<br>count=%{x}<extra></extra>",
         "legendgroup": "0004",
         "marker": {
          "color": "#00cc96"
         },
         "name": "0004",
         "offsetgroup": "0004",
         "opacity": 0.5,
         "showlegend": false,
         "xaxis": "x2",
         "y": [
          0.7896103896103897
         ],
         "yaxis": "y2",
         "type": "histogram"
        },
        {
         "hovertemplate": "<b>%{hovertext}</b><br><br>test=0005<br>rawF1=%{x}<br>eventF1=%{y}<extra></extra>",
         "hovertext": [
          "f88ed731-de3a-4c9a-90d5-04d1fcd93d45"
         ],
         "legendgroup": "0005",
         "marker": {
          "color": "#ab63fa",
          "symbol": "circle"
         },
         "mode": "markers",
         "name": "0005",
         "orientation": "v",
         "showlegend": true,
         "x": [
          0.6229249302188923
         ],
         "xaxis": "x",
         "y": [
          0.6521252796420581
         ],
         "yaxis": "y",
         "type": "scatter"
        },
        {
         "alignmentgroup": "True",
         "bingroup": "y",
         "hovertemplate": "test=0005<br>eventF1=%{y}<br>count=%{x}<extra></extra>",
         "legendgroup": "0005",
         "marker": {
          "color": "#ab63fa"
         },
         "name": "0005",
         "offsetgroup": "0005",
         "opacity": 0.5,
         "showlegend": false,
         "xaxis": "x2",
         "y": [
          0.6521252796420581
         ],
         "yaxis": "y2",
         "type": "histogram"
        },
        {
         "hovertemplate": "<b>%{hovertext}</b><br><br>test=0006<br>rawF1=%{x}<br>eventF1=%{y}<extra></extra>",
         "hovertext": [
          "16a691da-d735-4ad2-953c-db2678980107"
         ],
         "legendgroup": "0006",
         "marker": {
          "color": "#FFA15A",
          "symbol": "circle"
         },
         "mode": "markers",
         "name": "0006",
         "orientation": "v",
         "showlegend": true,
         "x": [
          0.6383993672606837
         ],
         "xaxis": "x",
         "y": [
          0.696969696969697
         ],
         "yaxis": "y",
         "type": "scatter"
        },
        {
         "alignmentgroup": "True",
         "bingroup": "y",
         "hovertemplate": "test=0006<br>eventF1=%{y}<br>count=%{x}<extra></extra>",
         "legendgroup": "0006",
         "marker": {
          "color": "#FFA15A"
         },
         "name": "0006",
         "offsetgroup": "0006",
         "opacity": 0.5,
         "showlegend": false,
         "xaxis": "x2",
         "y": [
          0.696969696969697
         ],
         "yaxis": "y2",
         "type": "histogram"
        },
        {
         "hovertemplate": "<b>%{hovertext}</b><br><br>test=0007<br>rawF1=%{x}<br>eventF1=%{y}<extra></extra>",
         "hovertext": [
          "d91f41ff-0308-46df-9bcd-67d46f377777"
         ],
         "legendgroup": "0007",
         "marker": {
          "color": "#19d3f3",
          "symbol": "circle"
         },
         "mode": "markers",
         "name": "0007",
         "orientation": "v",
         "showlegend": true,
         "x": [
          0.6012382051297069
         ],
         "xaxis": "x",
         "y": [
          0.6704781704781705
         ],
         "yaxis": "y",
         "type": "scatter"
        },
        {
         "alignmentgroup": "True",
         "bingroup": "y",
         "hovertemplate": "test=0007<br>eventF1=%{y}<br>count=%{x}<extra></extra>",
         "legendgroup": "0007",
         "marker": {
          "color": "#19d3f3"
         },
         "name": "0007",
         "offsetgroup": "0007",
         "opacity": 0.5,
         "showlegend": false,
         "xaxis": "x2",
         "y": [
          0.6704781704781705
         ],
         "yaxis": "y2",
         "type": "histogram"
        },
        {
         "hovertemplate": "<b>%{hovertext}</b><br><br>test=0008<br>rawF1=%{x}<br>eventF1=%{y}<extra></extra>",
         "hovertext": [
          "a1eacac2-9e31-437a-9350-110d2ef2f1a5"
         ],
         "legendgroup": "0008",
         "marker": {
          "color": "#FF6692",
          "symbol": "circle"
         },
         "mode": "markers",
         "name": "0008",
         "orientation": "v",
         "showlegend": true,
         "x": [
          0.4638883269269674
         ],
         "xaxis": "x",
         "y": [
          0.47619047619047616
         ],
         "yaxis": "y",
         "type": "scatter"
        },
        {
         "alignmentgroup": "True",
         "bingroup": "y",
         "hovertemplate": "test=0008<br>eventF1=%{y}<br>count=%{x}<extra></extra>",
         "legendgroup": "0008",
         "marker": {
          "color": "#FF6692"
         },
         "name": "0008",
         "offsetgroup": "0008",
         "opacity": 0.5,
         "showlegend": false,
         "xaxis": "x2",
         "y": [
          0.47619047619047616
         ],
         "yaxis": "y2",
         "type": "histogram"
        },
        {
         "fill": "toself",
         "mode": "lines",
         "name": "identity",
         "x": [
          0.5947482652156635,
          0.7855149253554978,
          0.7159573856192443,
          0.6229249302188923,
          0.6383993672606837,
          0.6012382051297069,
          0.4638883269269674
         ],
         "y": [
          0.5947482652156635,
          0.7855149253554978,
          0.7159573856192443,
          0.6229249302188923,
          0.6383993672606837,
          0.6012382051297069,
          0.4638883269269674
         ],
         "type": "scatter"
        }
       ],
       "layout": {
        "template": {
         "data": {
          "histogram2dcontour": [
           {
            "type": "histogram2dcontour",
            "colorbar": {
             "outlinewidth": 0,
             "ticks": ""
            },
            "colorscale": [
             [
              0.0,
              "#0d0887"
             ],
             [
              0.1111111111111111,
              "#46039f"
             ],
             [
              0.2222222222222222,
              "#7201a8"
             ],
             [
              0.3333333333333333,
              "#9c179e"
             ],
             [
              0.4444444444444444,
              "#bd3786"
             ],
             [
              0.5555555555555556,
              "#d8576b"
             ],
             [
              0.6666666666666666,
              "#ed7953"
             ],
             [
              0.7777777777777778,
              "#fb9f3a"
             ],
             [
              0.8888888888888888,
              "#fdca26"
             ],
             [
              1.0,
              "#f0f921"
             ]
            ]
           }
          ],
          "choropleth": [
           {
            "type": "choropleth",
            "colorbar": {
             "outlinewidth": 0,
             "ticks": ""
            }
           }
          ],
          "histogram2d": [
           {
            "type": "histogram2d",
            "colorbar": {
             "outlinewidth": 0,
             "ticks": ""
            },
            "colorscale": [
             [
              0.0,
              "#0d0887"
             ],
             [
              0.1111111111111111,
              "#46039f"
             ],
             [
              0.2222222222222222,
              "#7201a8"
             ],
             [
              0.3333333333333333,
              "#9c179e"
             ],
             [
              0.4444444444444444,
              "#bd3786"
             ],
             [
              0.5555555555555556,
              "#d8576b"
             ],
             [
              0.6666666666666666,
              "#ed7953"
             ],
             [
              0.7777777777777778,
              "#fb9f3a"
             ],
             [
              0.8888888888888888,
              "#fdca26"
             ],
             [
              1.0,
              "#f0f921"
             ]
            ]
           }
          ],
          "heatmap": [
           {
            "type": "heatmap",
            "colorbar": {
             "outlinewidth": 0,
             "ticks": ""
            },
            "colorscale": [
             [
              0.0,
              "#0d0887"
             ],
             [
              0.1111111111111111,
              "#46039f"
             ],
             [
              0.2222222222222222,
              "#7201a8"
             ],
             [
              0.3333333333333333,
              "#9c179e"
             ],
             [
              0.4444444444444444,
              "#bd3786"
             ],
             [
              0.5555555555555556,
              "#d8576b"
             ],
             [
              0.6666666666666666,
              "#ed7953"
             ],
             [
              0.7777777777777778,
              "#fb9f3a"
             ],
             [
              0.8888888888888888,
              "#fdca26"
             ],
             [
              1.0,
              "#f0f921"
             ]
            ]
           }
          ],
          "heatmapgl": [
           {
            "type": "heatmapgl",
            "colorbar": {
             "outlinewidth": 0,
             "ticks": ""
            },
            "colorscale": [
             [
              0.0,
              "#0d0887"
             ],
             [
              0.1111111111111111,
              "#46039f"
             ],
             [
              0.2222222222222222,
              "#7201a8"
             ],
             [
              0.3333333333333333,
              "#9c179e"
             ],
             [
              0.4444444444444444,
              "#bd3786"
             ],
             [
              0.5555555555555556,
              "#d8576b"
             ],
             [
              0.6666666666666666,
              "#ed7953"
             ],
             [
              0.7777777777777778,
              "#fb9f3a"
             ],
             [
              0.8888888888888888,
              "#fdca26"
             ],
             [
              1.0,
              "#f0f921"
             ]
            ]
           }
          ],
          "contourcarpet": [
           {
            "type": "contourcarpet",
            "colorbar": {
             "outlinewidth": 0,
             "ticks": ""
            }
           }
          ],
          "contour": [
           {
            "type": "contour",
            "colorbar": {
             "outlinewidth": 0,
             "ticks": ""
            },
            "colorscale": [
             [
              0.0,
              "#0d0887"
             ],
             [
              0.1111111111111111,
              "#46039f"
             ],
             [
              0.2222222222222222,
              "#7201a8"
             ],
             [
              0.3333333333333333,
              "#9c179e"
             ],
             [
              0.4444444444444444,
              "#bd3786"
             ],
             [
              0.5555555555555556,
              "#d8576b"
             ],
             [
              0.6666666666666666,
              "#ed7953"
             ],
             [
              0.7777777777777778,
              "#fb9f3a"
             ],
             [
              0.8888888888888888,
              "#fdca26"
             ],
             [
              1.0,
              "#f0f921"
             ]
            ]
           }
          ],
          "surface": [
           {
            "type": "surface",
            "colorbar": {
             "outlinewidth": 0,
             "ticks": ""
            },
            "colorscale": [
             [
              0.0,
              "#0d0887"
             ],
             [
              0.1111111111111111,
              "#46039f"
             ],
             [
              0.2222222222222222,
              "#7201a8"
             ],
             [
              0.3333333333333333,
              "#9c179e"
             ],
             [
              0.4444444444444444,
              "#bd3786"
             ],
             [
              0.5555555555555556,
              "#d8576b"
             ],
             [
              0.6666666666666666,
              "#ed7953"
             ],
             [
              0.7777777777777778,
              "#fb9f3a"
             ],
             [
              0.8888888888888888,
              "#fdca26"
             ],
             [
              1.0,
              "#f0f921"
             ]
            ]
           }
          ],
          "mesh3d": [
           {
            "type": "mesh3d",
            "colorbar": {
             "outlinewidth": 0,
             "ticks": ""
            }
           }
          ],
          "scatter": [
           {
            "marker": {
             "line": {
              "color": "#283442"
             }
            },
            "type": "scatter"
           }
          ],
          "parcoords": [
           {
            "type": "parcoords",
            "line": {
             "colorbar": {
              "outlinewidth": 0,
              "ticks": ""
             }
            }
           }
          ],
          "scatterpolargl": [
           {
            "type": "scatterpolargl",
            "marker": {
             "colorbar": {
              "outlinewidth": 0,
              "ticks": ""
             }
            }
           }
          ],
          "bar": [
           {
            "error_x": {
             "color": "#f2f5fa"
            },
            "error_y": {
             "color": "#f2f5fa"
            },
            "marker": {
             "line": {
              "color": "rgb(17,17,17)",
              "width": 0.5
             },
             "pattern": {
              "fillmode": "overlay",
              "size": 10,
              "solidity": 0.2
             }
            },
            "type": "bar"
           }
          ],
          "scattergeo": [
           {
            "type": "scattergeo",
            "marker": {
             "colorbar": {
              "outlinewidth": 0,
              "ticks": ""
             }
            }
           }
          ],
          "scatterpolar": [
           {
            "type": "scatterpolar",
            "marker": {
             "colorbar": {
              "outlinewidth": 0,
              "ticks": ""
             }
            }
           }
          ],
          "histogram": [
           {
            "marker": {
             "pattern": {
              "fillmode": "overlay",
              "size": 10,
              "solidity": 0.2
             }
            },
            "type": "histogram"
           }
          ],
          "scattergl": [
           {
            "marker": {
             "line": {
              "color": "#283442"
             }
            },
            "type": "scattergl"
           }
          ],
          "scatter3d": [
           {
            "type": "scatter3d",
            "line": {
             "colorbar": {
              "outlinewidth": 0,
              "ticks": ""
             }
            },
            "marker": {
             "colorbar": {
              "outlinewidth": 0,
              "ticks": ""
             }
            }
           }
          ],
          "scattermapbox": [
           {
            "type": "scattermapbox",
            "marker": {
             "colorbar": {
              "outlinewidth": 0,
              "ticks": ""
             }
            }
           }
          ],
          "scatterternary": [
           {
            "type": "scatterternary",
            "marker": {
             "colorbar": {
              "outlinewidth": 0,
              "ticks": ""
             }
            }
           }
          ],
          "scattercarpet": [
           {
            "type": "scattercarpet",
            "marker": {
             "colorbar": {
              "outlinewidth": 0,
              "ticks": ""
             }
            }
           }
          ],
          "carpet": [
           {
            "aaxis": {
             "endlinecolor": "#A2B1C6",
             "gridcolor": "#506784",
             "linecolor": "#506784",
             "minorgridcolor": "#506784",
             "startlinecolor": "#A2B1C6"
            },
            "baxis": {
             "endlinecolor": "#A2B1C6",
             "gridcolor": "#506784",
             "linecolor": "#506784",
             "minorgridcolor": "#506784",
             "startlinecolor": "#A2B1C6"
            },
            "type": "carpet"
           }
          ],
          "table": [
           {
            "cells": {
             "fill": {
              "color": "#506784"
             },
             "line": {
              "color": "rgb(17,17,17)"
             }
            },
            "header": {
             "fill": {
              "color": "#2a3f5f"
             },
             "line": {
              "color": "rgb(17,17,17)"
             }
            },
            "type": "table"
           }
          ],
          "barpolar": [
           {
            "marker": {
             "line": {
              "color": "rgb(17,17,17)",
              "width": 0.5
             },
             "pattern": {
              "fillmode": "overlay",
              "size": 10,
              "solidity": 0.2
             }
            },
            "type": "barpolar"
           }
          ],
          "pie": [
           {
            "automargin": true,
            "type": "pie"
           }
          ]
         },
         "layout": {
          "autotypenumbers": "strict",
          "colorway": [
           "#636efa",
           "#EF553B",
           "#00cc96",
           "#ab63fa",
           "#FFA15A",
           "#19d3f3",
           "#FF6692",
           "#B6E880",
           "#FF97FF",
           "#FECB52"
          ],
          "font": {
           "color": "#f2f5fa"
          },
          "hovermode": "closest",
          "hoverlabel": {
           "align": "left"
          },
          "paper_bgcolor": "rgb(17,17,17)",
          "plot_bgcolor": "rgb(17,17,17)",
          "polar": {
           "bgcolor": "rgb(17,17,17)",
           "angularaxis": {
            "gridcolor": "#506784",
            "linecolor": "#506784",
            "ticks": ""
           },
           "radialaxis": {
            "gridcolor": "#506784",
            "linecolor": "#506784",
            "ticks": ""
           }
          },
          "ternary": {
           "bgcolor": "rgb(17,17,17)",
           "aaxis": {
            "gridcolor": "#506784",
            "linecolor": "#506784",
            "ticks": ""
           },
           "baxis": {
            "gridcolor": "#506784",
            "linecolor": "#506784",
            "ticks": ""
           },
           "caxis": {
            "gridcolor": "#506784",
            "linecolor": "#506784",
            "ticks": ""
           }
          },
          "coloraxis": {
           "colorbar": {
            "outlinewidth": 0,
            "ticks": ""
           }
          },
          "colorscale": {
           "sequential": [
            [
             0.0,
             "#0d0887"
            ],
            [
             0.1111111111111111,
             "#46039f"
            ],
            [
             0.2222222222222222,
             "#7201a8"
            ],
            [
             0.3333333333333333,
             "#9c179e"
            ],
            [
             0.4444444444444444,
             "#bd3786"
            ],
            [
             0.5555555555555556,
             "#d8576b"
            ],
            [
             0.6666666666666666,
             "#ed7953"
            ],
            [
             0.7777777777777778,
             "#fb9f3a"
            ],
            [
             0.8888888888888888,
             "#fdca26"
            ],
            [
             1.0,
             "#f0f921"
            ]
           ],
           "sequentialminus": [
            [
             0.0,
             "#0d0887"
            ],
            [
             0.1111111111111111,
             "#46039f"
            ],
            [
             0.2222222222222222,
             "#7201a8"
            ],
            [
             0.3333333333333333,
             "#9c179e"
            ],
            [
             0.4444444444444444,
             "#bd3786"
            ],
            [
             0.5555555555555556,
             "#d8576b"
            ],
            [
             0.6666666666666666,
             "#ed7953"
            ],
            [
             0.7777777777777778,
             "#fb9f3a"
            ],
            [
             0.8888888888888888,
             "#fdca26"
            ],
            [
             1.0,
             "#f0f921"
            ]
           ],
           "diverging": [
            [
             0,
             "#8e0152"
            ],
            [
             0.1,
             "#c51b7d"
            ],
            [
             0.2,
             "#de77ae"
            ],
            [
             0.3,
             "#f1b6da"
            ],
            [
             0.4,
             "#fde0ef"
            ],
            [
             0.5,
             "#f7f7f7"
            ],
            [
             0.6,
             "#e6f5d0"
            ],
            [
             0.7,
             "#b8e186"
            ],
            [
             0.8,
             "#7fbc41"
            ],
            [
             0.9,
             "#4d9221"
            ],
            [
             1,
             "#276419"
            ]
           ]
          },
          "xaxis": {
           "gridcolor": "#283442",
           "linecolor": "#506784",
           "ticks": "",
           "title": {
            "standoff": 15
           },
           "zerolinecolor": "#283442",
           "automargin": true,
           "zerolinewidth": 2
          },
          "yaxis": {
           "gridcolor": "#283442",
           "linecolor": "#506784",
           "ticks": "",
           "title": {
            "standoff": 15
           },
           "zerolinecolor": "#283442",
           "automargin": true,
           "zerolinewidth": 2
          },
          "scene": {
           "xaxis": {
            "backgroundcolor": "rgb(17,17,17)",
            "gridcolor": "#506784",
            "linecolor": "#506784",
            "showbackground": true,
            "ticks": "",
            "zerolinecolor": "#C8D4E3",
            "gridwidth": 2
           },
           "yaxis": {
            "backgroundcolor": "rgb(17,17,17)",
            "gridcolor": "#506784",
            "linecolor": "#506784",
            "showbackground": true,
            "ticks": "",
            "zerolinecolor": "#C8D4E3",
            "gridwidth": 2
           },
           "zaxis": {
            "backgroundcolor": "rgb(17,17,17)",
            "gridcolor": "#506784",
            "linecolor": "#506784",
            "showbackground": true,
            "ticks": "",
            "zerolinecolor": "#C8D4E3",
            "gridwidth": 2
           }
          },
          "shapedefaults": {
           "line": {
            "color": "#f2f5fa"
           }
          },
          "annotationdefaults": {
           "arrowcolor": "#f2f5fa",
           "arrowhead": 0,
           "arrowwidth": 1
          },
          "geo": {
           "bgcolor": "rgb(17,17,17)",
           "landcolor": "rgb(17,17,17)",
           "subunitcolor": "#506784",
           "showland": true,
           "showlakes": true,
           "lakecolor": "rgb(17,17,17)"
          },
          "title": {
           "x": 0.05
          },
          "updatemenudefaults": {
           "bgcolor": "#506784",
           "borderwidth": 0
          },
          "sliderdefaults": {
           "bgcolor": "#C8D4E3",
           "borderwidth": 1,
           "bordercolor": "rgb(17,17,17)",
           "tickwidth": 0
          },
          "mapbox": {
           "style": "dark"
          }
         }
        },
        "xaxis": {
         "anchor": "y",
         "domain": [
          0.0,
          0.7363
         ],
         "title": {
          "text": "rawF1"
         }
        },
        "yaxis": {
         "anchor": "x",
         "domain": [
          0.0,
          1.0
         ],
         "title": {
          "text": "eventF1"
         }
        },
        "xaxis2": {
         "anchor": "y2",
         "domain": [
          0.7413,
          1.0
         ],
         "matches": "x2",
         "showticklabels": false,
         "showline": false,
         "ticks": "",
         "showgrid": true
        },
        "yaxis2": {
         "anchor": "x2",
         "domain": [
          0.0,
          1.0
         ],
         "matches": "y",
         "showticklabels": false,
         "showgrid": true
        },
        "legend": {
         "title": {
          "text": "test"
         },
         "tracegroupgap": 0
        },
        "margin": {
         "t": 60
        },
        "barmode": "overlay"
       },
       "config": {
        "plotlyServerURL": "https://plot.ly"
       }
      },
      "text/html": [
       "<div>                            <div id=\"dc0cc871-70fc-4978-a7d2-69912ceca87b\" class=\"plotly-graph-div\" style=\"height:525px; width:100%;\"></div>            <script type=\"text/javascript\">                require([\"plotly\"], function(Plotly) {                    window.PLOTLYENV=window.PLOTLYENV || {};                                    if (document.getElementById(\"dc0cc871-70fc-4978-a7d2-69912ceca87b\")) {                    Plotly.newPlot(                        \"dc0cc871-70fc-4978-a7d2-69912ceca87b\",                        [{\"hovertemplate\":\"<b>%{hovertext}</b><br><br>test=0002<br>rawF1=%{x}<br>eventF1=%{y}<extra></extra>\",\"hovertext\":[\"a4659423-83e4-4da3-91b5-177fa8bc17fe\"],\"legendgroup\":\"0002\",\"marker\":{\"color\":\"#636efa\",\"symbol\":\"circle\"},\"mode\":\"markers\",\"name\":\"0002\",\"orientation\":\"v\",\"showlegend\":true,\"x\":[0.5947482652156635],\"xaxis\":\"x\",\"y\":[0.6666666666666666],\"yaxis\":\"y\",\"type\":\"scatter\"},{\"alignmentgroup\":\"True\",\"bingroup\":\"y\",\"hovertemplate\":\"test=0002<br>eventF1=%{y}<br>count=%{x}<extra></extra>\",\"legendgroup\":\"0002\",\"marker\":{\"color\":\"#636efa\"},\"name\":\"0002\",\"offsetgroup\":\"0002\",\"opacity\":0.5,\"showlegend\":false,\"xaxis\":\"x2\",\"y\":[0.6666666666666666],\"yaxis\":\"y2\",\"type\":\"histogram\"},{\"hovertemplate\":\"<b>%{hovertext}</b><br><br>test=0003<br>rawF1=%{x}<br>eventF1=%{y}<extra></extra>\",\"hovertext\":[\"ad3be387-5be4-4e8e-b57d-072003b617d3\"],\"legendgroup\":\"0003\",\"marker\":{\"color\":\"#EF553B\",\"symbol\":\"circle\"},\"mode\":\"markers\",\"name\":\"0003\",\"orientation\":\"v\",\"showlegend\":true,\"x\":[0.7855149253554978],\"xaxis\":\"x\",\"y\":[0.8598398169336384],\"yaxis\":\"y\",\"type\":\"scatter\"},{\"alignmentgroup\":\"True\",\"bingroup\":\"y\",\"hovertemplate\":\"test=0003<br>eventF1=%{y}<br>count=%{x}<extra></extra>\",\"legendgroup\":\"0003\",\"marker\":{\"color\":\"#EF553B\"},\"name\":\"0003\",\"offsetgroup\":\"0003\",\"opacity\":0.5,\"showlegend\":false,\"xaxis\":\"x2\",\"y\":[0.8598398169336384],\"yaxis\":\"y2\",\"type\":\"histogram\"},{\"hovertemplate\":\"<b>%{hovertext}</b><br><br>test=0004<br>rawF1=%{x}<br>eventF1=%{y}<extra></extra>\",\"hovertext\":[\"8bcbbc8b-b83e-4b97-8f7c-0dd0760680e7\"],\"legendgroup\":\"0004\",\"marker\":{\"color\":\"#00cc96\",\"symbol\":\"circle\"},\"mode\":\"markers\",\"name\":\"0004\",\"orientation\":\"v\",\"showlegend\":true,\"x\":[0.7159573856192443],\"xaxis\":\"x\",\"y\":[0.7896103896103897],\"yaxis\":\"y\",\"type\":\"scatter\"},{\"alignmentgroup\":\"True\",\"bingroup\":\"y\",\"hovertemplate\":\"test=0004<br>eventF1=%{y}<br>count=%{x}<extra></extra>\",\"legendgroup\":\"0004\",\"marker\":{\"color\":\"#00cc96\"},\"name\":\"0004\",\"offsetgroup\":\"0004\",\"opacity\":0.5,\"showlegend\":false,\"xaxis\":\"x2\",\"y\":[0.7896103896103897],\"yaxis\":\"y2\",\"type\":\"histogram\"},{\"hovertemplate\":\"<b>%{hovertext}</b><br><br>test=0005<br>rawF1=%{x}<br>eventF1=%{y}<extra></extra>\",\"hovertext\":[\"f88ed731-de3a-4c9a-90d5-04d1fcd93d45\"],\"legendgroup\":\"0005\",\"marker\":{\"color\":\"#ab63fa\",\"symbol\":\"circle\"},\"mode\":\"markers\",\"name\":\"0005\",\"orientation\":\"v\",\"showlegend\":true,\"x\":[0.6229249302188923],\"xaxis\":\"x\",\"y\":[0.6521252796420581],\"yaxis\":\"y\",\"type\":\"scatter\"},{\"alignmentgroup\":\"True\",\"bingroup\":\"y\",\"hovertemplate\":\"test=0005<br>eventF1=%{y}<br>count=%{x}<extra></extra>\",\"legendgroup\":\"0005\",\"marker\":{\"color\":\"#ab63fa\"},\"name\":\"0005\",\"offsetgroup\":\"0005\",\"opacity\":0.5,\"showlegend\":false,\"xaxis\":\"x2\",\"y\":[0.6521252796420581],\"yaxis\":\"y2\",\"type\":\"histogram\"},{\"hovertemplate\":\"<b>%{hovertext}</b><br><br>test=0006<br>rawF1=%{x}<br>eventF1=%{y}<extra></extra>\",\"hovertext\":[\"16a691da-d735-4ad2-953c-db2678980107\"],\"legendgroup\":\"0006\",\"marker\":{\"color\":\"#FFA15A\",\"symbol\":\"circle\"},\"mode\":\"markers\",\"name\":\"0006\",\"orientation\":\"v\",\"showlegend\":true,\"x\":[0.6383993672606837],\"xaxis\":\"x\",\"y\":[0.696969696969697],\"yaxis\":\"y\",\"type\":\"scatter\"},{\"alignmentgroup\":\"True\",\"bingroup\":\"y\",\"hovertemplate\":\"test=0006<br>eventF1=%{y}<br>count=%{x}<extra></extra>\",\"legendgroup\":\"0006\",\"marker\":{\"color\":\"#FFA15A\"},\"name\":\"0006\",\"offsetgroup\":\"0006\",\"opacity\":0.5,\"showlegend\":false,\"xaxis\":\"x2\",\"y\":[0.696969696969697],\"yaxis\":\"y2\",\"type\":\"histogram\"},{\"hovertemplate\":\"<b>%{hovertext}</b><br><br>test=0007<br>rawF1=%{x}<br>eventF1=%{y}<extra></extra>\",\"hovertext\":[\"d91f41ff-0308-46df-9bcd-67d46f377777\"],\"legendgroup\":\"0007\",\"marker\":{\"color\":\"#19d3f3\",\"symbol\":\"circle\"},\"mode\":\"markers\",\"name\":\"0007\",\"orientation\":\"v\",\"showlegend\":true,\"x\":[0.6012382051297069],\"xaxis\":\"x\",\"y\":[0.6704781704781705],\"yaxis\":\"y\",\"type\":\"scatter\"},{\"alignmentgroup\":\"True\",\"bingroup\":\"y\",\"hovertemplate\":\"test=0007<br>eventF1=%{y}<br>count=%{x}<extra></extra>\",\"legendgroup\":\"0007\",\"marker\":{\"color\":\"#19d3f3\"},\"name\":\"0007\",\"offsetgroup\":\"0007\",\"opacity\":0.5,\"showlegend\":false,\"xaxis\":\"x2\",\"y\":[0.6704781704781705],\"yaxis\":\"y2\",\"type\":\"histogram\"},{\"hovertemplate\":\"<b>%{hovertext}</b><br><br>test=0008<br>rawF1=%{x}<br>eventF1=%{y}<extra></extra>\",\"hovertext\":[\"a1eacac2-9e31-437a-9350-110d2ef2f1a5\"],\"legendgroup\":\"0008\",\"marker\":{\"color\":\"#FF6692\",\"symbol\":\"circle\"},\"mode\":\"markers\",\"name\":\"0008\",\"orientation\":\"v\",\"showlegend\":true,\"x\":[0.4638883269269674],\"xaxis\":\"x\",\"y\":[0.47619047619047616],\"yaxis\":\"y\",\"type\":\"scatter\"},{\"alignmentgroup\":\"True\",\"bingroup\":\"y\",\"hovertemplate\":\"test=0008<br>eventF1=%{y}<br>count=%{x}<extra></extra>\",\"legendgroup\":\"0008\",\"marker\":{\"color\":\"#FF6692\"},\"name\":\"0008\",\"offsetgroup\":\"0008\",\"opacity\":0.5,\"showlegend\":false,\"xaxis\":\"x2\",\"y\":[0.47619047619047616],\"yaxis\":\"y2\",\"type\":\"histogram\"},{\"fill\":\"toself\",\"mode\":\"lines\",\"name\":\"identity\",\"x\":[0.5947482652156635,0.7855149253554978,0.7159573856192443,0.6229249302188923,0.6383993672606837,0.6012382051297069,0.4638883269269674],\"y\":[0.5947482652156635,0.7855149253554978,0.7159573856192443,0.6229249302188923,0.6383993672606837,0.6012382051297069,0.4638883269269674],\"type\":\"scatter\"}],                        {\"template\":{\"data\":{\"histogram2dcontour\":[{\"type\":\"histogram2dcontour\",\"colorbar\":{\"outlinewidth\":0,\"ticks\":\"\"},\"colorscale\":[[0.0,\"#0d0887\"],[0.1111111111111111,\"#46039f\"],[0.2222222222222222,\"#7201a8\"],[0.3333333333333333,\"#9c179e\"],[0.4444444444444444,\"#bd3786\"],[0.5555555555555556,\"#d8576b\"],[0.6666666666666666,\"#ed7953\"],[0.7777777777777778,\"#fb9f3a\"],[0.8888888888888888,\"#fdca26\"],[1.0,\"#f0f921\"]]}],\"choropleth\":[{\"type\":\"choropleth\",\"colorbar\":{\"outlinewidth\":0,\"ticks\":\"\"}}],\"histogram2d\":[{\"type\":\"histogram2d\",\"colorbar\":{\"outlinewidth\":0,\"ticks\":\"\"},\"colorscale\":[[0.0,\"#0d0887\"],[0.1111111111111111,\"#46039f\"],[0.2222222222222222,\"#7201a8\"],[0.3333333333333333,\"#9c179e\"],[0.4444444444444444,\"#bd3786\"],[0.5555555555555556,\"#d8576b\"],[0.6666666666666666,\"#ed7953\"],[0.7777777777777778,\"#fb9f3a\"],[0.8888888888888888,\"#fdca26\"],[1.0,\"#f0f921\"]]}],\"heatmap\":[{\"type\":\"heatmap\",\"colorbar\":{\"outlinewidth\":0,\"ticks\":\"\"},\"colorscale\":[[0.0,\"#0d0887\"],[0.1111111111111111,\"#46039f\"],[0.2222222222222222,\"#7201a8\"],[0.3333333333333333,\"#9c179e\"],[0.4444444444444444,\"#bd3786\"],[0.5555555555555556,\"#d8576b\"],[0.6666666666666666,\"#ed7953\"],[0.7777777777777778,\"#fb9f3a\"],[0.8888888888888888,\"#fdca26\"],[1.0,\"#f0f921\"]]}],\"heatmapgl\":[{\"type\":\"heatmapgl\",\"colorbar\":{\"outlinewidth\":0,\"ticks\":\"\"},\"colorscale\":[[0.0,\"#0d0887\"],[0.1111111111111111,\"#46039f\"],[0.2222222222222222,\"#7201a8\"],[0.3333333333333333,\"#9c179e\"],[0.4444444444444444,\"#bd3786\"],[0.5555555555555556,\"#d8576b\"],[0.6666666666666666,\"#ed7953\"],[0.7777777777777778,\"#fb9f3a\"],[0.8888888888888888,\"#fdca26\"],[1.0,\"#f0f921\"]]}],\"contourcarpet\":[{\"type\":\"contourcarpet\",\"colorbar\":{\"outlinewidth\":0,\"ticks\":\"\"}}],\"contour\":[{\"type\":\"contour\",\"colorbar\":{\"outlinewidth\":0,\"ticks\":\"\"},\"colorscale\":[[0.0,\"#0d0887\"],[0.1111111111111111,\"#46039f\"],[0.2222222222222222,\"#7201a8\"],[0.3333333333333333,\"#9c179e\"],[0.4444444444444444,\"#bd3786\"],[0.5555555555555556,\"#d8576b\"],[0.6666666666666666,\"#ed7953\"],[0.7777777777777778,\"#fb9f3a\"],[0.8888888888888888,\"#fdca26\"],[1.0,\"#f0f921\"]]}],\"surface\":[{\"type\":\"surface\",\"colorbar\":{\"outlinewidth\":0,\"ticks\":\"\"},\"colorscale\":[[0.0,\"#0d0887\"],[0.1111111111111111,\"#46039f\"],[0.2222222222222222,\"#7201a8\"],[0.3333333333333333,\"#9c179e\"],[0.4444444444444444,\"#bd3786\"],[0.5555555555555556,\"#d8576b\"],[0.6666666666666666,\"#ed7953\"],[0.7777777777777778,\"#fb9f3a\"],[0.8888888888888888,\"#fdca26\"],[1.0,\"#f0f921\"]]}],\"mesh3d\":[{\"type\":\"mesh3d\",\"colorbar\":{\"outlinewidth\":0,\"ticks\":\"\"}}],\"scatter\":[{\"marker\":{\"line\":{\"color\":\"#283442\"}},\"type\":\"scatter\"}],\"parcoords\":[{\"type\":\"parcoords\",\"line\":{\"colorbar\":{\"outlinewidth\":0,\"ticks\":\"\"}}}],\"scatterpolargl\":[{\"type\":\"scatterpolargl\",\"marker\":{\"colorbar\":{\"outlinewidth\":0,\"ticks\":\"\"}}}],\"bar\":[{\"error_x\":{\"color\":\"#f2f5fa\"},\"error_y\":{\"color\":\"#f2f5fa\"},\"marker\":{\"line\":{\"color\":\"rgb(17,17,17)\",\"width\":0.5},\"pattern\":{\"fillmode\":\"overlay\",\"size\":10,\"solidity\":0.2}},\"type\":\"bar\"}],\"scattergeo\":[{\"type\":\"scattergeo\",\"marker\":{\"colorbar\":{\"outlinewidth\":0,\"ticks\":\"\"}}}],\"scatterpolar\":[{\"type\":\"scatterpolar\",\"marker\":{\"colorbar\":{\"outlinewidth\":0,\"ticks\":\"\"}}}],\"histogram\":[{\"marker\":{\"pattern\":{\"fillmode\":\"overlay\",\"size\":10,\"solidity\":0.2}},\"type\":\"histogram\"}],\"scattergl\":[{\"marker\":{\"line\":{\"color\":\"#283442\"}},\"type\":\"scattergl\"}],\"scatter3d\":[{\"type\":\"scatter3d\",\"line\":{\"colorbar\":{\"outlinewidth\":0,\"ticks\":\"\"}},\"marker\":{\"colorbar\":{\"outlinewidth\":0,\"ticks\":\"\"}}}],\"scattermapbox\":[{\"type\":\"scattermapbox\",\"marker\":{\"colorbar\":{\"outlinewidth\":0,\"ticks\":\"\"}}}],\"scatterternary\":[{\"type\":\"scatterternary\",\"marker\":{\"colorbar\":{\"outlinewidth\":0,\"ticks\":\"\"}}}],\"scattercarpet\":[{\"type\":\"scattercarpet\",\"marker\":{\"colorbar\":{\"outlinewidth\":0,\"ticks\":\"\"}}}],\"carpet\":[{\"aaxis\":{\"endlinecolor\":\"#A2B1C6\",\"gridcolor\":\"#506784\",\"linecolor\":\"#506784\",\"minorgridcolor\":\"#506784\",\"startlinecolor\":\"#A2B1C6\"},\"baxis\":{\"endlinecolor\":\"#A2B1C6\",\"gridcolor\":\"#506784\",\"linecolor\":\"#506784\",\"minorgridcolor\":\"#506784\",\"startlinecolor\":\"#A2B1C6\"},\"type\":\"carpet\"}],\"table\":[{\"cells\":{\"fill\":{\"color\":\"#506784\"},\"line\":{\"color\":\"rgb(17,17,17)\"}},\"header\":{\"fill\":{\"color\":\"#2a3f5f\"},\"line\":{\"color\":\"rgb(17,17,17)\"}},\"type\":\"table\"}],\"barpolar\":[{\"marker\":{\"line\":{\"color\":\"rgb(17,17,17)\",\"width\":0.5},\"pattern\":{\"fillmode\":\"overlay\",\"size\":10,\"solidity\":0.2}},\"type\":\"barpolar\"}],\"pie\":[{\"automargin\":true,\"type\":\"pie\"}]},\"layout\":{\"autotypenumbers\":\"strict\",\"colorway\":[\"#636efa\",\"#EF553B\",\"#00cc96\",\"#ab63fa\",\"#FFA15A\",\"#19d3f3\",\"#FF6692\",\"#B6E880\",\"#FF97FF\",\"#FECB52\"],\"font\":{\"color\":\"#f2f5fa\"},\"hovermode\":\"closest\",\"hoverlabel\":{\"align\":\"left\"},\"paper_bgcolor\":\"rgb(17,17,17)\",\"plot_bgcolor\":\"rgb(17,17,17)\",\"polar\":{\"bgcolor\":\"rgb(17,17,17)\",\"angularaxis\":{\"gridcolor\":\"#506784\",\"linecolor\":\"#506784\",\"ticks\":\"\"},\"radialaxis\":{\"gridcolor\":\"#506784\",\"linecolor\":\"#506784\",\"ticks\":\"\"}},\"ternary\":{\"bgcolor\":\"rgb(17,17,17)\",\"aaxis\":{\"gridcolor\":\"#506784\",\"linecolor\":\"#506784\",\"ticks\":\"\"},\"baxis\":{\"gridcolor\":\"#506784\",\"linecolor\":\"#506784\",\"ticks\":\"\"},\"caxis\":{\"gridcolor\":\"#506784\",\"linecolor\":\"#506784\",\"ticks\":\"\"}},\"coloraxis\":{\"colorbar\":{\"outlinewidth\":0,\"ticks\":\"\"}},\"colorscale\":{\"sequential\":[[0.0,\"#0d0887\"],[0.1111111111111111,\"#46039f\"],[0.2222222222222222,\"#7201a8\"],[0.3333333333333333,\"#9c179e\"],[0.4444444444444444,\"#bd3786\"],[0.5555555555555556,\"#d8576b\"],[0.6666666666666666,\"#ed7953\"],[0.7777777777777778,\"#fb9f3a\"],[0.8888888888888888,\"#fdca26\"],[1.0,\"#f0f921\"]],\"sequentialminus\":[[0.0,\"#0d0887\"],[0.1111111111111111,\"#46039f\"],[0.2222222222222222,\"#7201a8\"],[0.3333333333333333,\"#9c179e\"],[0.4444444444444444,\"#bd3786\"],[0.5555555555555556,\"#d8576b\"],[0.6666666666666666,\"#ed7953\"],[0.7777777777777778,\"#fb9f3a\"],[0.8888888888888888,\"#fdca26\"],[1.0,\"#f0f921\"]],\"diverging\":[[0,\"#8e0152\"],[0.1,\"#c51b7d\"],[0.2,\"#de77ae\"],[0.3,\"#f1b6da\"],[0.4,\"#fde0ef\"],[0.5,\"#f7f7f7\"],[0.6,\"#e6f5d0\"],[0.7,\"#b8e186\"],[0.8,\"#7fbc41\"],[0.9,\"#4d9221\"],[1,\"#276419\"]]},\"xaxis\":{\"gridcolor\":\"#283442\",\"linecolor\":\"#506784\",\"ticks\":\"\",\"title\":{\"standoff\":15},\"zerolinecolor\":\"#283442\",\"automargin\":true,\"zerolinewidth\":2},\"yaxis\":{\"gridcolor\":\"#283442\",\"linecolor\":\"#506784\",\"ticks\":\"\",\"title\":{\"standoff\":15},\"zerolinecolor\":\"#283442\",\"automargin\":true,\"zerolinewidth\":2},\"scene\":{\"xaxis\":{\"backgroundcolor\":\"rgb(17,17,17)\",\"gridcolor\":\"#506784\",\"linecolor\":\"#506784\",\"showbackground\":true,\"ticks\":\"\",\"zerolinecolor\":\"#C8D4E3\",\"gridwidth\":2},\"yaxis\":{\"backgroundcolor\":\"rgb(17,17,17)\",\"gridcolor\":\"#506784\",\"linecolor\":\"#506784\",\"showbackground\":true,\"ticks\":\"\",\"zerolinecolor\":\"#C8D4E3\",\"gridwidth\":2},\"zaxis\":{\"backgroundcolor\":\"rgb(17,17,17)\",\"gridcolor\":\"#506784\",\"linecolor\":\"#506784\",\"showbackground\":true,\"ticks\":\"\",\"zerolinecolor\":\"#C8D4E3\",\"gridwidth\":2}},\"shapedefaults\":{\"line\":{\"color\":\"#f2f5fa\"}},\"annotationdefaults\":{\"arrowcolor\":\"#f2f5fa\",\"arrowhead\":0,\"arrowwidth\":1},\"geo\":{\"bgcolor\":\"rgb(17,17,17)\",\"landcolor\":\"rgb(17,17,17)\",\"subunitcolor\":\"#506784\",\"showland\":true,\"showlakes\":true,\"lakecolor\":\"rgb(17,17,17)\"},\"title\":{\"x\":0.05},\"updatemenudefaults\":{\"bgcolor\":\"#506784\",\"borderwidth\":0},\"sliderdefaults\":{\"bgcolor\":\"#C8D4E3\",\"borderwidth\":1,\"bordercolor\":\"rgb(17,17,17)\",\"tickwidth\":0},\"mapbox\":{\"style\":\"dark\"}}},\"xaxis\":{\"anchor\":\"y\",\"domain\":[0.0,0.7363],\"title\":{\"text\":\"rawF1\"}},\"yaxis\":{\"anchor\":\"x\",\"domain\":[0.0,1.0],\"title\":{\"text\":\"eventF1\"}},\"xaxis2\":{\"anchor\":\"y2\",\"domain\":[0.7413,1.0],\"matches\":\"x2\",\"showticklabels\":false,\"showline\":false,\"ticks\":\"\",\"showgrid\":true},\"yaxis2\":{\"anchor\":\"x2\",\"domain\":[0.0,1.0],\"matches\":\"y\",\"showticklabels\":false,\"showgrid\":true},\"legend\":{\"title\":{\"text\":\"test\"},\"tracegroupgap\":0},\"margin\":{\"t\":60},\"barmode\":\"overlay\"},                        {\"responsive\": true}                    ).then(function(){\n",
       "                            \n",
       "var gd = document.getElementById('dc0cc871-70fc-4978-a7d2-69912ceca87b');\n",
       "var x = new MutationObserver(function (mutations, observer) {{\n",
       "        var display = window.getComputedStyle(gd).display;\n",
       "        if (!display || display === 'none') {{\n",
       "            console.log([gd, 'removed!']);\n",
       "            Plotly.purge(gd);\n",
       "            observer.disconnect();\n",
       "        }}\n",
       "}});\n",
       "\n",
       "// Listen for the removal of the full notebook cells\n",
       "var notebookContainer = gd.closest('#notebook-container');\n",
       "if (notebookContainer) {{\n",
       "    x.observe(notebookContainer, {childList: true});\n",
       "}}\n",
       "\n",
       "// Listen for the clearing of the current output cell\n",
       "var outputEl = gd.closest('.output');\n",
       "if (outputEl) {{\n",
       "    x.observe(outputEl, {childList: true});\n",
       "}}\n",
       "\n",
       "                        })                };                });            </script>        </div>"
      ]
     },
     "metadata": {},
     "output_type": "display_data"
    }
   ],
   "execution_count": 76
  },
  {
   "cell_type": "code",
   "metadata": {
    "ExecuteTime": {
     "end_time": "2024-12-12T12:15:43.967329Z",
     "start_time": "2024-12-12T12:15:43.920847Z"
    }
   },
   "source": [
    "fig=px.scatter(experimentModels,x='eventF1',y='eventPrecision',color='test',hover_name='modelId', marginal_y=\"histogram\")\n",
    "fig.add_trace(\n",
    "    go.Scatter(x=experimentModels['eventF1'], y=experimentModels['eventF1'], name=\"identity\", mode='lines',fill=\"toself\")\n",
    ")\n",
    "fig.show()"
   ],
   "outputs": [
    {
     "data": {
      "application/vnd.plotly.v1+json": {
       "data": [
        {
         "hovertemplate": "<b>%{hovertext}</b><br><br>test=0002<br>eventF1=%{x}<br>eventPrecision=%{y}<extra></extra>",
         "hovertext": [
          "a4659423-83e4-4da3-91b5-177fa8bc17fe"
         ],
         "legendgroup": "0002",
         "marker": {
          "color": "#636efa",
          "symbol": "circle"
         },
         "mode": "markers",
         "name": "0002",
         "orientation": "v",
         "showlegend": true,
         "x": [
          0.6666666666666666
         ],
         "xaxis": "x",
         "y": [
          0.860655737704918
         ],
         "yaxis": "y",
         "type": "scatter"
        },
        {
         "alignmentgroup": "True",
         "bingroup": "y",
         "hovertemplate": "test=0002<br>eventPrecision=%{y}<br>count=%{x}<extra></extra>",
         "legendgroup": "0002",
         "marker": {
          "color": "#636efa"
         },
         "name": "0002",
         "offsetgroup": "0002",
         "opacity": 0.5,
         "showlegend": false,
         "xaxis": "x2",
         "y": [
          0.860655737704918
         ],
         "yaxis": "y2",
         "type": "histogram"
        },
        {
         "hovertemplate": "<b>%{hovertext}</b><br><br>test=0003<br>eventF1=%{x}<br>eventPrecision=%{y}<extra></extra>",
         "hovertext": [
          "ad3be387-5be4-4e8e-b57d-072003b617d3"
         ],
         "legendgroup": "0003",
         "marker": {
          "color": "#EF553B",
          "symbol": "circle"
         },
         "mode": "markers",
         "name": "0003",
         "orientation": "v",
         "showlegend": true,
         "x": [
          0.8598398169336384
         ],
         "xaxis": "x",
         "y": [
          0.8034188034188035
         ],
         "yaxis": "y",
         "type": "scatter"
        },
        {
         "alignmentgroup": "True",
         "bingroup": "y",
         "hovertemplate": "test=0003<br>eventPrecision=%{y}<br>count=%{x}<extra></extra>",
         "legendgroup": "0003",
         "marker": {
          "color": "#EF553B"
         },
         "name": "0003",
         "offsetgroup": "0003",
         "opacity": 0.5,
         "showlegend": false,
         "xaxis": "x2",
         "y": [
          0.8034188034188035
         ],
         "yaxis": "y2",
         "type": "histogram"
        },
        {
         "hovertemplate": "<b>%{hovertext}</b><br><br>test=0004<br>eventF1=%{x}<br>eventPrecision=%{y}<extra></extra>",
         "hovertext": [
          "8bcbbc8b-b83e-4b97-8f7c-0dd0760680e7"
         ],
         "legendgroup": "0004",
         "marker": {
          "color": "#00cc96",
          "symbol": "circle"
         },
         "mode": "markers",
         "name": "0004",
         "orientation": "v",
         "showlegend": true,
         "x": [
          0.7896103896103897
         ],
         "xaxis": "x",
         "y": [
          0.7979002624671916
         ],
         "yaxis": "y",
         "type": "scatter"
        },
        {
         "alignmentgroup": "True",
         "bingroup": "y",
         "hovertemplate": "test=0004<br>eventPrecision=%{y}<br>count=%{x}<extra></extra>",
         "legendgroup": "0004",
         "marker": {
          "color": "#00cc96"
         },
         "name": "0004",
         "offsetgroup": "0004",
         "opacity": 0.5,
         "showlegend": false,
         "xaxis": "x2",
         "y": [
          0.7979002624671916
         ],
         "yaxis": "y2",
         "type": "histogram"
        },
        {
         "hovertemplate": "<b>%{hovertext}</b><br><br>test=0005<br>eventF1=%{x}<br>eventPrecision=%{y}<extra></extra>",
         "hovertext": [
          "f88ed731-de3a-4c9a-90d5-04d1fcd93d45"
         ],
         "legendgroup": "0005",
         "marker": {
          "color": "#ab63fa",
          "symbol": "circle"
         },
         "mode": "markers",
         "name": "0005",
         "orientation": "v",
         "showlegend": true,
         "x": [
          0.6521252796420581
         ],
         "xaxis": "x",
         "y": [
          0.4965986394557823
         ],
         "yaxis": "y",
         "type": "scatter"
        },
        {
         "alignmentgroup": "True",
         "bingroup": "y",
         "hovertemplate": "test=0005<br>eventPrecision=%{y}<br>count=%{x}<extra></extra>",
         "legendgroup": "0005",
         "marker": {
          "color": "#ab63fa"
         },
         "name": "0005",
         "offsetgroup": "0005",
         "opacity": 0.5,
         "showlegend": false,
         "xaxis": "x2",
         "y": [
          0.4965986394557823
         ],
         "yaxis": "y2",
         "type": "histogram"
        },
        {
         "hovertemplate": "<b>%{hovertext}</b><br><br>test=0006<br>eventF1=%{x}<br>eventPrecision=%{y}<extra></extra>",
         "hovertext": [
          "16a691da-d735-4ad2-953c-db2678980107"
         ],
         "legendgroup": "0006",
         "marker": {
          "color": "#FFA15A",
          "symbol": "circle"
         },
         "mode": "markers",
         "name": "0006",
         "orientation": "v",
         "showlegend": true,
         "x": [
          0.696969696969697
         ],
         "xaxis": "x",
         "y": [
          0.6113074204946997
         ],
         "yaxis": "y",
         "type": "scatter"
        },
        {
         "alignmentgroup": "True",
         "bingroup": "y",
         "hovertemplate": "test=0006<br>eventPrecision=%{y}<br>count=%{x}<extra></extra>",
         "legendgroup": "0006",
         "marker": {
          "color": "#FFA15A"
         },
         "name": "0006",
         "offsetgroup": "0006",
         "opacity": 0.5,
         "showlegend": false,
         "xaxis": "x2",
         "y": [
          0.6113074204946997
         ],
         "yaxis": "y2",
         "type": "histogram"
        },
        {
         "hovertemplate": "<b>%{hovertext}</b><br><br>test=0007<br>eventF1=%{x}<br>eventPrecision=%{y}<extra></extra>",
         "hovertext": [
          "d91f41ff-0308-46df-9bcd-67d46f377777"
         ],
         "legendgroup": "0007",
         "marker": {
          "color": "#19d3f3",
          "symbol": "circle"
         },
         "mode": "markers",
         "name": "0007",
         "orientation": "v",
         "showlegend": true,
         "x": [
          0.6704781704781705
         ],
         "xaxis": "x",
         "y": [
          0.5374376039933444
         ],
         "yaxis": "y",
         "type": "scatter"
        },
        {
         "alignmentgroup": "True",
         "bingroup": "y",
         "hovertemplate": "test=0007<br>eventPrecision=%{y}<br>count=%{x}<extra></extra>",
         "legendgroup": "0007",
         "marker": {
          "color": "#19d3f3"
         },
         "name": "0007",
         "offsetgroup": "0007",
         "opacity": 0.5,
         "showlegend": false,
         "xaxis": "x2",
         "y": [
          0.5374376039933444
         ],
         "yaxis": "y2",
         "type": "histogram"
        },
        {
         "hovertemplate": "<b>%{hovertext}</b><br><br>test=0008<br>eventF1=%{x}<br>eventPrecision=%{y}<extra></extra>",
         "hovertext": [
          "a1eacac2-9e31-437a-9350-110d2ef2f1a5"
         ],
         "legendgroup": "0008",
         "marker": {
          "color": "#FF6692",
          "symbol": "circle"
         },
         "mode": "markers",
         "name": "0008",
         "orientation": "v",
         "showlegend": true,
         "x": [
          0.47619047619047616
         ],
         "xaxis": "x",
         "y": [
          0.7894736842105263
         ],
         "yaxis": "y",
         "type": "scatter"
        },
        {
         "alignmentgroup": "True",
         "bingroup": "y",
         "hovertemplate": "test=0008<br>eventPrecision=%{y}<br>count=%{x}<extra></extra>",
         "legendgroup": "0008",
         "marker": {
          "color": "#FF6692"
         },
         "name": "0008",
         "offsetgroup": "0008",
         "opacity": 0.5,
         "showlegend": false,
         "xaxis": "x2",
         "y": [
          0.7894736842105263
         ],
         "yaxis": "y2",
         "type": "histogram"
        },
        {
         "fill": "toself",
         "mode": "lines",
         "name": "identity",
         "x": [
          0.6666666666666666,
          0.8598398169336384,
          0.7896103896103897,
          0.6521252796420581,
          0.696969696969697,
          0.6704781704781705,
          0.47619047619047616
         ],
         "y": [
          0.6666666666666666,
          0.8598398169336384,
          0.7896103896103897,
          0.6521252796420581,
          0.696969696969697,
          0.6704781704781705,
          0.47619047619047616
         ],
         "type": "scatter"
        }
       ],
       "layout": {
        "template": {
         "data": {
          "histogram2dcontour": [
           {
            "type": "histogram2dcontour",
            "colorbar": {
             "outlinewidth": 0,
             "ticks": ""
            },
            "colorscale": [
             [
              0.0,
              "#0d0887"
             ],
             [
              0.1111111111111111,
              "#46039f"
             ],
             [
              0.2222222222222222,
              "#7201a8"
             ],
             [
              0.3333333333333333,
              "#9c179e"
             ],
             [
              0.4444444444444444,
              "#bd3786"
             ],
             [
              0.5555555555555556,
              "#d8576b"
             ],
             [
              0.6666666666666666,
              "#ed7953"
             ],
             [
              0.7777777777777778,
              "#fb9f3a"
             ],
             [
              0.8888888888888888,
              "#fdca26"
             ],
             [
              1.0,
              "#f0f921"
             ]
            ]
           }
          ],
          "choropleth": [
           {
            "type": "choropleth",
            "colorbar": {
             "outlinewidth": 0,
             "ticks": ""
            }
           }
          ],
          "histogram2d": [
           {
            "type": "histogram2d",
            "colorbar": {
             "outlinewidth": 0,
             "ticks": ""
            },
            "colorscale": [
             [
              0.0,
              "#0d0887"
             ],
             [
              0.1111111111111111,
              "#46039f"
             ],
             [
              0.2222222222222222,
              "#7201a8"
             ],
             [
              0.3333333333333333,
              "#9c179e"
             ],
             [
              0.4444444444444444,
              "#bd3786"
             ],
             [
              0.5555555555555556,
              "#d8576b"
             ],
             [
              0.6666666666666666,
              "#ed7953"
             ],
             [
              0.7777777777777778,
              "#fb9f3a"
             ],
             [
              0.8888888888888888,
              "#fdca26"
             ],
             [
              1.0,
              "#f0f921"
             ]
            ]
           }
          ],
          "heatmap": [
           {
            "type": "heatmap",
            "colorbar": {
             "outlinewidth": 0,
             "ticks": ""
            },
            "colorscale": [
             [
              0.0,
              "#0d0887"
             ],
             [
              0.1111111111111111,
              "#46039f"
             ],
             [
              0.2222222222222222,
              "#7201a8"
             ],
             [
              0.3333333333333333,
              "#9c179e"
             ],
             [
              0.4444444444444444,
              "#bd3786"
             ],
             [
              0.5555555555555556,
              "#d8576b"
             ],
             [
              0.6666666666666666,
              "#ed7953"
             ],
             [
              0.7777777777777778,
              "#fb9f3a"
             ],
             [
              0.8888888888888888,
              "#fdca26"
             ],
             [
              1.0,
              "#f0f921"
             ]
            ]
           }
          ],
          "heatmapgl": [
           {
            "type": "heatmapgl",
            "colorbar": {
             "outlinewidth": 0,
             "ticks": ""
            },
            "colorscale": [
             [
              0.0,
              "#0d0887"
             ],
             [
              0.1111111111111111,
              "#46039f"
             ],
             [
              0.2222222222222222,
              "#7201a8"
             ],
             [
              0.3333333333333333,
              "#9c179e"
             ],
             [
              0.4444444444444444,
              "#bd3786"
             ],
             [
              0.5555555555555556,
              "#d8576b"
             ],
             [
              0.6666666666666666,
              "#ed7953"
             ],
             [
              0.7777777777777778,
              "#fb9f3a"
             ],
             [
              0.8888888888888888,
              "#fdca26"
             ],
             [
              1.0,
              "#f0f921"
             ]
            ]
           }
          ],
          "contourcarpet": [
           {
            "type": "contourcarpet",
            "colorbar": {
             "outlinewidth": 0,
             "ticks": ""
            }
           }
          ],
          "contour": [
           {
            "type": "contour",
            "colorbar": {
             "outlinewidth": 0,
             "ticks": ""
            },
            "colorscale": [
             [
              0.0,
              "#0d0887"
             ],
             [
              0.1111111111111111,
              "#46039f"
             ],
             [
              0.2222222222222222,
              "#7201a8"
             ],
             [
              0.3333333333333333,
              "#9c179e"
             ],
             [
              0.4444444444444444,
              "#bd3786"
             ],
             [
              0.5555555555555556,
              "#d8576b"
             ],
             [
              0.6666666666666666,
              "#ed7953"
             ],
             [
              0.7777777777777778,
              "#fb9f3a"
             ],
             [
              0.8888888888888888,
              "#fdca26"
             ],
             [
              1.0,
              "#f0f921"
             ]
            ]
           }
          ],
          "surface": [
           {
            "type": "surface",
            "colorbar": {
             "outlinewidth": 0,
             "ticks": ""
            },
            "colorscale": [
             [
              0.0,
              "#0d0887"
             ],
             [
              0.1111111111111111,
              "#46039f"
             ],
             [
              0.2222222222222222,
              "#7201a8"
             ],
             [
              0.3333333333333333,
              "#9c179e"
             ],
             [
              0.4444444444444444,
              "#bd3786"
             ],
             [
              0.5555555555555556,
              "#d8576b"
             ],
             [
              0.6666666666666666,
              "#ed7953"
             ],
             [
              0.7777777777777778,
              "#fb9f3a"
             ],
             [
              0.8888888888888888,
              "#fdca26"
             ],
             [
              1.0,
              "#f0f921"
             ]
            ]
           }
          ],
          "mesh3d": [
           {
            "type": "mesh3d",
            "colorbar": {
             "outlinewidth": 0,
             "ticks": ""
            }
           }
          ],
          "scatter": [
           {
            "marker": {
             "line": {
              "color": "#283442"
             }
            },
            "type": "scatter"
           }
          ],
          "parcoords": [
           {
            "type": "parcoords",
            "line": {
             "colorbar": {
              "outlinewidth": 0,
              "ticks": ""
             }
            }
           }
          ],
          "scatterpolargl": [
           {
            "type": "scatterpolargl",
            "marker": {
             "colorbar": {
              "outlinewidth": 0,
              "ticks": ""
             }
            }
           }
          ],
          "bar": [
           {
            "error_x": {
             "color": "#f2f5fa"
            },
            "error_y": {
             "color": "#f2f5fa"
            },
            "marker": {
             "line": {
              "color": "rgb(17,17,17)",
              "width": 0.5
             },
             "pattern": {
              "fillmode": "overlay",
              "size": 10,
              "solidity": 0.2
             }
            },
            "type": "bar"
           }
          ],
          "scattergeo": [
           {
            "type": "scattergeo",
            "marker": {
             "colorbar": {
              "outlinewidth": 0,
              "ticks": ""
             }
            }
           }
          ],
          "scatterpolar": [
           {
            "type": "scatterpolar",
            "marker": {
             "colorbar": {
              "outlinewidth": 0,
              "ticks": ""
             }
            }
           }
          ],
          "histogram": [
           {
            "marker": {
             "pattern": {
              "fillmode": "overlay",
              "size": 10,
              "solidity": 0.2
             }
            },
            "type": "histogram"
           }
          ],
          "scattergl": [
           {
            "marker": {
             "line": {
              "color": "#283442"
             }
            },
            "type": "scattergl"
           }
          ],
          "scatter3d": [
           {
            "type": "scatter3d",
            "line": {
             "colorbar": {
              "outlinewidth": 0,
              "ticks": ""
             }
            },
            "marker": {
             "colorbar": {
              "outlinewidth": 0,
              "ticks": ""
             }
            }
           }
          ],
          "scattermapbox": [
           {
            "type": "scattermapbox",
            "marker": {
             "colorbar": {
              "outlinewidth": 0,
              "ticks": ""
             }
            }
           }
          ],
          "scatterternary": [
           {
            "type": "scatterternary",
            "marker": {
             "colorbar": {
              "outlinewidth": 0,
              "ticks": ""
             }
            }
           }
          ],
          "scattercarpet": [
           {
            "type": "scattercarpet",
            "marker": {
             "colorbar": {
              "outlinewidth": 0,
              "ticks": ""
             }
            }
           }
          ],
          "carpet": [
           {
            "aaxis": {
             "endlinecolor": "#A2B1C6",
             "gridcolor": "#506784",
             "linecolor": "#506784",
             "minorgridcolor": "#506784",
             "startlinecolor": "#A2B1C6"
            },
            "baxis": {
             "endlinecolor": "#A2B1C6",
             "gridcolor": "#506784",
             "linecolor": "#506784",
             "minorgridcolor": "#506784",
             "startlinecolor": "#A2B1C6"
            },
            "type": "carpet"
           }
          ],
          "table": [
           {
            "cells": {
             "fill": {
              "color": "#506784"
             },
             "line": {
              "color": "rgb(17,17,17)"
             }
            },
            "header": {
             "fill": {
              "color": "#2a3f5f"
             },
             "line": {
              "color": "rgb(17,17,17)"
             }
            },
            "type": "table"
           }
          ],
          "barpolar": [
           {
            "marker": {
             "line": {
              "color": "rgb(17,17,17)",
              "width": 0.5
             },
             "pattern": {
              "fillmode": "overlay",
              "size": 10,
              "solidity": 0.2
             }
            },
            "type": "barpolar"
           }
          ],
          "pie": [
           {
            "automargin": true,
            "type": "pie"
           }
          ]
         },
         "layout": {
          "autotypenumbers": "strict",
          "colorway": [
           "#636efa",
           "#EF553B",
           "#00cc96",
           "#ab63fa",
           "#FFA15A",
           "#19d3f3",
           "#FF6692",
           "#B6E880",
           "#FF97FF",
           "#FECB52"
          ],
          "font": {
           "color": "#f2f5fa"
          },
          "hovermode": "closest",
          "hoverlabel": {
           "align": "left"
          },
          "paper_bgcolor": "rgb(17,17,17)",
          "plot_bgcolor": "rgb(17,17,17)",
          "polar": {
           "bgcolor": "rgb(17,17,17)",
           "angularaxis": {
            "gridcolor": "#506784",
            "linecolor": "#506784",
            "ticks": ""
           },
           "radialaxis": {
            "gridcolor": "#506784",
            "linecolor": "#506784",
            "ticks": ""
           }
          },
          "ternary": {
           "bgcolor": "rgb(17,17,17)",
           "aaxis": {
            "gridcolor": "#506784",
            "linecolor": "#506784",
            "ticks": ""
           },
           "baxis": {
            "gridcolor": "#506784",
            "linecolor": "#506784",
            "ticks": ""
           },
           "caxis": {
            "gridcolor": "#506784",
            "linecolor": "#506784",
            "ticks": ""
           }
          },
          "coloraxis": {
           "colorbar": {
            "outlinewidth": 0,
            "ticks": ""
           }
          },
          "colorscale": {
           "sequential": [
            [
             0.0,
             "#0d0887"
            ],
            [
             0.1111111111111111,
             "#46039f"
            ],
            [
             0.2222222222222222,
             "#7201a8"
            ],
            [
             0.3333333333333333,
             "#9c179e"
            ],
            [
             0.4444444444444444,
             "#bd3786"
            ],
            [
             0.5555555555555556,
             "#d8576b"
            ],
            [
             0.6666666666666666,
             "#ed7953"
            ],
            [
             0.7777777777777778,
             "#fb9f3a"
            ],
            [
             0.8888888888888888,
             "#fdca26"
            ],
            [
             1.0,
             "#f0f921"
            ]
           ],
           "sequentialminus": [
            [
             0.0,
             "#0d0887"
            ],
            [
             0.1111111111111111,
             "#46039f"
            ],
            [
             0.2222222222222222,
             "#7201a8"
            ],
            [
             0.3333333333333333,
             "#9c179e"
            ],
            [
             0.4444444444444444,
             "#bd3786"
            ],
            [
             0.5555555555555556,
             "#d8576b"
            ],
            [
             0.6666666666666666,
             "#ed7953"
            ],
            [
             0.7777777777777778,
             "#fb9f3a"
            ],
            [
             0.8888888888888888,
             "#fdca26"
            ],
            [
             1.0,
             "#f0f921"
            ]
           ],
           "diverging": [
            [
             0,
             "#8e0152"
            ],
            [
             0.1,
             "#c51b7d"
            ],
            [
             0.2,
             "#de77ae"
            ],
            [
             0.3,
             "#f1b6da"
            ],
            [
             0.4,
             "#fde0ef"
            ],
            [
             0.5,
             "#f7f7f7"
            ],
            [
             0.6,
             "#e6f5d0"
            ],
            [
             0.7,
             "#b8e186"
            ],
            [
             0.8,
             "#7fbc41"
            ],
            [
             0.9,
             "#4d9221"
            ],
            [
             1,
             "#276419"
            ]
           ]
          },
          "xaxis": {
           "gridcolor": "#283442",
           "linecolor": "#506784",
           "ticks": "",
           "title": {
            "standoff": 15
           },
           "zerolinecolor": "#283442",
           "automargin": true,
           "zerolinewidth": 2
          },
          "yaxis": {
           "gridcolor": "#283442",
           "linecolor": "#506784",
           "ticks": "",
           "title": {
            "standoff": 15
           },
           "zerolinecolor": "#283442",
           "automargin": true,
           "zerolinewidth": 2
          },
          "scene": {
           "xaxis": {
            "backgroundcolor": "rgb(17,17,17)",
            "gridcolor": "#506784",
            "linecolor": "#506784",
            "showbackground": true,
            "ticks": "",
            "zerolinecolor": "#C8D4E3",
            "gridwidth": 2
           },
           "yaxis": {
            "backgroundcolor": "rgb(17,17,17)",
            "gridcolor": "#506784",
            "linecolor": "#506784",
            "showbackground": true,
            "ticks": "",
            "zerolinecolor": "#C8D4E3",
            "gridwidth": 2
           },
           "zaxis": {
            "backgroundcolor": "rgb(17,17,17)",
            "gridcolor": "#506784",
            "linecolor": "#506784",
            "showbackground": true,
            "ticks": "",
            "zerolinecolor": "#C8D4E3",
            "gridwidth": 2
           }
          },
          "shapedefaults": {
           "line": {
            "color": "#f2f5fa"
           }
          },
          "annotationdefaults": {
           "arrowcolor": "#f2f5fa",
           "arrowhead": 0,
           "arrowwidth": 1
          },
          "geo": {
           "bgcolor": "rgb(17,17,17)",
           "landcolor": "rgb(17,17,17)",
           "subunitcolor": "#506784",
           "showland": true,
           "showlakes": true,
           "lakecolor": "rgb(17,17,17)"
          },
          "title": {
           "x": 0.05
          },
          "updatemenudefaults": {
           "bgcolor": "#506784",
           "borderwidth": 0
          },
          "sliderdefaults": {
           "bgcolor": "#C8D4E3",
           "borderwidth": 1,
           "bordercolor": "rgb(17,17,17)",
           "tickwidth": 0
          },
          "mapbox": {
           "style": "dark"
          }
         }
        },
        "xaxis": {
         "anchor": "y",
         "domain": [
          0.0,
          0.7363
         ],
         "title": {
          "text": "eventF1"
         }
        },
        "yaxis": {
         "anchor": "x",
         "domain": [
          0.0,
          1.0
         ],
         "title": {
          "text": "eventPrecision"
         }
        },
        "xaxis2": {
         "anchor": "y2",
         "domain": [
          0.7413,
          1.0
         ],
         "matches": "x2",
         "showticklabels": false,
         "showline": false,
         "ticks": "",
         "showgrid": true
        },
        "yaxis2": {
         "anchor": "x2",
         "domain": [
          0.0,
          1.0
         ],
         "matches": "y",
         "showticklabels": false,
         "showgrid": true
        },
        "legend": {
         "title": {
          "text": "test"
         },
         "tracegroupgap": 0
        },
        "margin": {
         "t": 60
        },
        "barmode": "overlay"
       },
       "config": {
        "plotlyServerURL": "https://plot.ly"
       }
      },
      "text/html": [
       "<div>                            <div id=\"fcb2eb26-c9d4-47fb-ab12-a1577d8e2145\" class=\"plotly-graph-div\" style=\"height:525px; width:100%;\"></div>            <script type=\"text/javascript\">                require([\"plotly\"], function(Plotly) {                    window.PLOTLYENV=window.PLOTLYENV || {};                                    if (document.getElementById(\"fcb2eb26-c9d4-47fb-ab12-a1577d8e2145\")) {                    Plotly.newPlot(                        \"fcb2eb26-c9d4-47fb-ab12-a1577d8e2145\",                        [{\"hovertemplate\":\"<b>%{hovertext}</b><br><br>test=0002<br>eventF1=%{x}<br>eventPrecision=%{y}<extra></extra>\",\"hovertext\":[\"a4659423-83e4-4da3-91b5-177fa8bc17fe\"],\"legendgroup\":\"0002\",\"marker\":{\"color\":\"#636efa\",\"symbol\":\"circle\"},\"mode\":\"markers\",\"name\":\"0002\",\"orientation\":\"v\",\"showlegend\":true,\"x\":[0.6666666666666666],\"xaxis\":\"x\",\"y\":[0.860655737704918],\"yaxis\":\"y\",\"type\":\"scatter\"},{\"alignmentgroup\":\"True\",\"bingroup\":\"y\",\"hovertemplate\":\"test=0002<br>eventPrecision=%{y}<br>count=%{x}<extra></extra>\",\"legendgroup\":\"0002\",\"marker\":{\"color\":\"#636efa\"},\"name\":\"0002\",\"offsetgroup\":\"0002\",\"opacity\":0.5,\"showlegend\":false,\"xaxis\":\"x2\",\"y\":[0.860655737704918],\"yaxis\":\"y2\",\"type\":\"histogram\"},{\"hovertemplate\":\"<b>%{hovertext}</b><br><br>test=0003<br>eventF1=%{x}<br>eventPrecision=%{y}<extra></extra>\",\"hovertext\":[\"ad3be387-5be4-4e8e-b57d-072003b617d3\"],\"legendgroup\":\"0003\",\"marker\":{\"color\":\"#EF553B\",\"symbol\":\"circle\"},\"mode\":\"markers\",\"name\":\"0003\",\"orientation\":\"v\",\"showlegend\":true,\"x\":[0.8598398169336384],\"xaxis\":\"x\",\"y\":[0.8034188034188035],\"yaxis\":\"y\",\"type\":\"scatter\"},{\"alignmentgroup\":\"True\",\"bingroup\":\"y\",\"hovertemplate\":\"test=0003<br>eventPrecision=%{y}<br>count=%{x}<extra></extra>\",\"legendgroup\":\"0003\",\"marker\":{\"color\":\"#EF553B\"},\"name\":\"0003\",\"offsetgroup\":\"0003\",\"opacity\":0.5,\"showlegend\":false,\"xaxis\":\"x2\",\"y\":[0.8034188034188035],\"yaxis\":\"y2\",\"type\":\"histogram\"},{\"hovertemplate\":\"<b>%{hovertext}</b><br><br>test=0004<br>eventF1=%{x}<br>eventPrecision=%{y}<extra></extra>\",\"hovertext\":[\"8bcbbc8b-b83e-4b97-8f7c-0dd0760680e7\"],\"legendgroup\":\"0004\",\"marker\":{\"color\":\"#00cc96\",\"symbol\":\"circle\"},\"mode\":\"markers\",\"name\":\"0004\",\"orientation\":\"v\",\"showlegend\":true,\"x\":[0.7896103896103897],\"xaxis\":\"x\",\"y\":[0.7979002624671916],\"yaxis\":\"y\",\"type\":\"scatter\"},{\"alignmentgroup\":\"True\",\"bingroup\":\"y\",\"hovertemplate\":\"test=0004<br>eventPrecision=%{y}<br>count=%{x}<extra></extra>\",\"legendgroup\":\"0004\",\"marker\":{\"color\":\"#00cc96\"},\"name\":\"0004\",\"offsetgroup\":\"0004\",\"opacity\":0.5,\"showlegend\":false,\"xaxis\":\"x2\",\"y\":[0.7979002624671916],\"yaxis\":\"y2\",\"type\":\"histogram\"},{\"hovertemplate\":\"<b>%{hovertext}</b><br><br>test=0005<br>eventF1=%{x}<br>eventPrecision=%{y}<extra></extra>\",\"hovertext\":[\"f88ed731-de3a-4c9a-90d5-04d1fcd93d45\"],\"legendgroup\":\"0005\",\"marker\":{\"color\":\"#ab63fa\",\"symbol\":\"circle\"},\"mode\":\"markers\",\"name\":\"0005\",\"orientation\":\"v\",\"showlegend\":true,\"x\":[0.6521252796420581],\"xaxis\":\"x\",\"y\":[0.4965986394557823],\"yaxis\":\"y\",\"type\":\"scatter\"},{\"alignmentgroup\":\"True\",\"bingroup\":\"y\",\"hovertemplate\":\"test=0005<br>eventPrecision=%{y}<br>count=%{x}<extra></extra>\",\"legendgroup\":\"0005\",\"marker\":{\"color\":\"#ab63fa\"},\"name\":\"0005\",\"offsetgroup\":\"0005\",\"opacity\":0.5,\"showlegend\":false,\"xaxis\":\"x2\",\"y\":[0.4965986394557823],\"yaxis\":\"y2\",\"type\":\"histogram\"},{\"hovertemplate\":\"<b>%{hovertext}</b><br><br>test=0006<br>eventF1=%{x}<br>eventPrecision=%{y}<extra></extra>\",\"hovertext\":[\"16a691da-d735-4ad2-953c-db2678980107\"],\"legendgroup\":\"0006\",\"marker\":{\"color\":\"#FFA15A\",\"symbol\":\"circle\"},\"mode\":\"markers\",\"name\":\"0006\",\"orientation\":\"v\",\"showlegend\":true,\"x\":[0.696969696969697],\"xaxis\":\"x\",\"y\":[0.6113074204946997],\"yaxis\":\"y\",\"type\":\"scatter\"},{\"alignmentgroup\":\"True\",\"bingroup\":\"y\",\"hovertemplate\":\"test=0006<br>eventPrecision=%{y}<br>count=%{x}<extra></extra>\",\"legendgroup\":\"0006\",\"marker\":{\"color\":\"#FFA15A\"},\"name\":\"0006\",\"offsetgroup\":\"0006\",\"opacity\":0.5,\"showlegend\":false,\"xaxis\":\"x2\",\"y\":[0.6113074204946997],\"yaxis\":\"y2\",\"type\":\"histogram\"},{\"hovertemplate\":\"<b>%{hovertext}</b><br><br>test=0007<br>eventF1=%{x}<br>eventPrecision=%{y}<extra></extra>\",\"hovertext\":[\"d91f41ff-0308-46df-9bcd-67d46f377777\"],\"legendgroup\":\"0007\",\"marker\":{\"color\":\"#19d3f3\",\"symbol\":\"circle\"},\"mode\":\"markers\",\"name\":\"0007\",\"orientation\":\"v\",\"showlegend\":true,\"x\":[0.6704781704781705],\"xaxis\":\"x\",\"y\":[0.5374376039933444],\"yaxis\":\"y\",\"type\":\"scatter\"},{\"alignmentgroup\":\"True\",\"bingroup\":\"y\",\"hovertemplate\":\"test=0007<br>eventPrecision=%{y}<br>count=%{x}<extra></extra>\",\"legendgroup\":\"0007\",\"marker\":{\"color\":\"#19d3f3\"},\"name\":\"0007\",\"offsetgroup\":\"0007\",\"opacity\":0.5,\"showlegend\":false,\"xaxis\":\"x2\",\"y\":[0.5374376039933444],\"yaxis\":\"y2\",\"type\":\"histogram\"},{\"hovertemplate\":\"<b>%{hovertext}</b><br><br>test=0008<br>eventF1=%{x}<br>eventPrecision=%{y}<extra></extra>\",\"hovertext\":[\"a1eacac2-9e31-437a-9350-110d2ef2f1a5\"],\"legendgroup\":\"0008\",\"marker\":{\"color\":\"#FF6692\",\"symbol\":\"circle\"},\"mode\":\"markers\",\"name\":\"0008\",\"orientation\":\"v\",\"showlegend\":true,\"x\":[0.47619047619047616],\"xaxis\":\"x\",\"y\":[0.7894736842105263],\"yaxis\":\"y\",\"type\":\"scatter\"},{\"alignmentgroup\":\"True\",\"bingroup\":\"y\",\"hovertemplate\":\"test=0008<br>eventPrecision=%{y}<br>count=%{x}<extra></extra>\",\"legendgroup\":\"0008\",\"marker\":{\"color\":\"#FF6692\"},\"name\":\"0008\",\"offsetgroup\":\"0008\",\"opacity\":0.5,\"showlegend\":false,\"xaxis\":\"x2\",\"y\":[0.7894736842105263],\"yaxis\":\"y2\",\"type\":\"histogram\"},{\"fill\":\"toself\",\"mode\":\"lines\",\"name\":\"identity\",\"x\":[0.6666666666666666,0.8598398169336384,0.7896103896103897,0.6521252796420581,0.696969696969697,0.6704781704781705,0.47619047619047616],\"y\":[0.6666666666666666,0.8598398169336384,0.7896103896103897,0.6521252796420581,0.696969696969697,0.6704781704781705,0.47619047619047616],\"type\":\"scatter\"}],                        {\"template\":{\"data\":{\"histogram2dcontour\":[{\"type\":\"histogram2dcontour\",\"colorbar\":{\"outlinewidth\":0,\"ticks\":\"\"},\"colorscale\":[[0.0,\"#0d0887\"],[0.1111111111111111,\"#46039f\"],[0.2222222222222222,\"#7201a8\"],[0.3333333333333333,\"#9c179e\"],[0.4444444444444444,\"#bd3786\"],[0.5555555555555556,\"#d8576b\"],[0.6666666666666666,\"#ed7953\"],[0.7777777777777778,\"#fb9f3a\"],[0.8888888888888888,\"#fdca26\"],[1.0,\"#f0f921\"]]}],\"choropleth\":[{\"type\":\"choropleth\",\"colorbar\":{\"outlinewidth\":0,\"ticks\":\"\"}}],\"histogram2d\":[{\"type\":\"histogram2d\",\"colorbar\":{\"outlinewidth\":0,\"ticks\":\"\"},\"colorscale\":[[0.0,\"#0d0887\"],[0.1111111111111111,\"#46039f\"],[0.2222222222222222,\"#7201a8\"],[0.3333333333333333,\"#9c179e\"],[0.4444444444444444,\"#bd3786\"],[0.5555555555555556,\"#d8576b\"],[0.6666666666666666,\"#ed7953\"],[0.7777777777777778,\"#fb9f3a\"],[0.8888888888888888,\"#fdca26\"],[1.0,\"#f0f921\"]]}],\"heatmap\":[{\"type\":\"heatmap\",\"colorbar\":{\"outlinewidth\":0,\"ticks\":\"\"},\"colorscale\":[[0.0,\"#0d0887\"],[0.1111111111111111,\"#46039f\"],[0.2222222222222222,\"#7201a8\"],[0.3333333333333333,\"#9c179e\"],[0.4444444444444444,\"#bd3786\"],[0.5555555555555556,\"#d8576b\"],[0.6666666666666666,\"#ed7953\"],[0.7777777777777778,\"#fb9f3a\"],[0.8888888888888888,\"#fdca26\"],[1.0,\"#f0f921\"]]}],\"heatmapgl\":[{\"type\":\"heatmapgl\",\"colorbar\":{\"outlinewidth\":0,\"ticks\":\"\"},\"colorscale\":[[0.0,\"#0d0887\"],[0.1111111111111111,\"#46039f\"],[0.2222222222222222,\"#7201a8\"],[0.3333333333333333,\"#9c179e\"],[0.4444444444444444,\"#bd3786\"],[0.5555555555555556,\"#d8576b\"],[0.6666666666666666,\"#ed7953\"],[0.7777777777777778,\"#fb9f3a\"],[0.8888888888888888,\"#fdca26\"],[1.0,\"#f0f921\"]]}],\"contourcarpet\":[{\"type\":\"contourcarpet\",\"colorbar\":{\"outlinewidth\":0,\"ticks\":\"\"}}],\"contour\":[{\"type\":\"contour\",\"colorbar\":{\"outlinewidth\":0,\"ticks\":\"\"},\"colorscale\":[[0.0,\"#0d0887\"],[0.1111111111111111,\"#46039f\"],[0.2222222222222222,\"#7201a8\"],[0.3333333333333333,\"#9c179e\"],[0.4444444444444444,\"#bd3786\"],[0.5555555555555556,\"#d8576b\"],[0.6666666666666666,\"#ed7953\"],[0.7777777777777778,\"#fb9f3a\"],[0.8888888888888888,\"#fdca26\"],[1.0,\"#f0f921\"]]}],\"surface\":[{\"type\":\"surface\",\"colorbar\":{\"outlinewidth\":0,\"ticks\":\"\"},\"colorscale\":[[0.0,\"#0d0887\"],[0.1111111111111111,\"#46039f\"],[0.2222222222222222,\"#7201a8\"],[0.3333333333333333,\"#9c179e\"],[0.4444444444444444,\"#bd3786\"],[0.5555555555555556,\"#d8576b\"],[0.6666666666666666,\"#ed7953\"],[0.7777777777777778,\"#fb9f3a\"],[0.8888888888888888,\"#fdca26\"],[1.0,\"#f0f921\"]]}],\"mesh3d\":[{\"type\":\"mesh3d\",\"colorbar\":{\"outlinewidth\":0,\"ticks\":\"\"}}],\"scatter\":[{\"marker\":{\"line\":{\"color\":\"#283442\"}},\"type\":\"scatter\"}],\"parcoords\":[{\"type\":\"parcoords\",\"line\":{\"colorbar\":{\"outlinewidth\":0,\"ticks\":\"\"}}}],\"scatterpolargl\":[{\"type\":\"scatterpolargl\",\"marker\":{\"colorbar\":{\"outlinewidth\":0,\"ticks\":\"\"}}}],\"bar\":[{\"error_x\":{\"color\":\"#f2f5fa\"},\"error_y\":{\"color\":\"#f2f5fa\"},\"marker\":{\"line\":{\"color\":\"rgb(17,17,17)\",\"width\":0.5},\"pattern\":{\"fillmode\":\"overlay\",\"size\":10,\"solidity\":0.2}},\"type\":\"bar\"}],\"scattergeo\":[{\"type\":\"scattergeo\",\"marker\":{\"colorbar\":{\"outlinewidth\":0,\"ticks\":\"\"}}}],\"scatterpolar\":[{\"type\":\"scatterpolar\",\"marker\":{\"colorbar\":{\"outlinewidth\":0,\"ticks\":\"\"}}}],\"histogram\":[{\"marker\":{\"pattern\":{\"fillmode\":\"overlay\",\"size\":10,\"solidity\":0.2}},\"type\":\"histogram\"}],\"scattergl\":[{\"marker\":{\"line\":{\"color\":\"#283442\"}},\"type\":\"scattergl\"}],\"scatter3d\":[{\"type\":\"scatter3d\",\"line\":{\"colorbar\":{\"outlinewidth\":0,\"ticks\":\"\"}},\"marker\":{\"colorbar\":{\"outlinewidth\":0,\"ticks\":\"\"}}}],\"scattermapbox\":[{\"type\":\"scattermapbox\",\"marker\":{\"colorbar\":{\"outlinewidth\":0,\"ticks\":\"\"}}}],\"scatterternary\":[{\"type\":\"scatterternary\",\"marker\":{\"colorbar\":{\"outlinewidth\":0,\"ticks\":\"\"}}}],\"scattercarpet\":[{\"type\":\"scattercarpet\",\"marker\":{\"colorbar\":{\"outlinewidth\":0,\"ticks\":\"\"}}}],\"carpet\":[{\"aaxis\":{\"endlinecolor\":\"#A2B1C6\",\"gridcolor\":\"#506784\",\"linecolor\":\"#506784\",\"minorgridcolor\":\"#506784\",\"startlinecolor\":\"#A2B1C6\"},\"baxis\":{\"endlinecolor\":\"#A2B1C6\",\"gridcolor\":\"#506784\",\"linecolor\":\"#506784\",\"minorgridcolor\":\"#506784\",\"startlinecolor\":\"#A2B1C6\"},\"type\":\"carpet\"}],\"table\":[{\"cells\":{\"fill\":{\"color\":\"#506784\"},\"line\":{\"color\":\"rgb(17,17,17)\"}},\"header\":{\"fill\":{\"color\":\"#2a3f5f\"},\"line\":{\"color\":\"rgb(17,17,17)\"}},\"type\":\"table\"}],\"barpolar\":[{\"marker\":{\"line\":{\"color\":\"rgb(17,17,17)\",\"width\":0.5},\"pattern\":{\"fillmode\":\"overlay\",\"size\":10,\"solidity\":0.2}},\"type\":\"barpolar\"}],\"pie\":[{\"automargin\":true,\"type\":\"pie\"}]},\"layout\":{\"autotypenumbers\":\"strict\",\"colorway\":[\"#636efa\",\"#EF553B\",\"#00cc96\",\"#ab63fa\",\"#FFA15A\",\"#19d3f3\",\"#FF6692\",\"#B6E880\",\"#FF97FF\",\"#FECB52\"],\"font\":{\"color\":\"#f2f5fa\"},\"hovermode\":\"closest\",\"hoverlabel\":{\"align\":\"left\"},\"paper_bgcolor\":\"rgb(17,17,17)\",\"plot_bgcolor\":\"rgb(17,17,17)\",\"polar\":{\"bgcolor\":\"rgb(17,17,17)\",\"angularaxis\":{\"gridcolor\":\"#506784\",\"linecolor\":\"#506784\",\"ticks\":\"\"},\"radialaxis\":{\"gridcolor\":\"#506784\",\"linecolor\":\"#506784\",\"ticks\":\"\"}},\"ternary\":{\"bgcolor\":\"rgb(17,17,17)\",\"aaxis\":{\"gridcolor\":\"#506784\",\"linecolor\":\"#506784\",\"ticks\":\"\"},\"baxis\":{\"gridcolor\":\"#506784\",\"linecolor\":\"#506784\",\"ticks\":\"\"},\"caxis\":{\"gridcolor\":\"#506784\",\"linecolor\":\"#506784\",\"ticks\":\"\"}},\"coloraxis\":{\"colorbar\":{\"outlinewidth\":0,\"ticks\":\"\"}},\"colorscale\":{\"sequential\":[[0.0,\"#0d0887\"],[0.1111111111111111,\"#46039f\"],[0.2222222222222222,\"#7201a8\"],[0.3333333333333333,\"#9c179e\"],[0.4444444444444444,\"#bd3786\"],[0.5555555555555556,\"#d8576b\"],[0.6666666666666666,\"#ed7953\"],[0.7777777777777778,\"#fb9f3a\"],[0.8888888888888888,\"#fdca26\"],[1.0,\"#f0f921\"]],\"sequentialminus\":[[0.0,\"#0d0887\"],[0.1111111111111111,\"#46039f\"],[0.2222222222222222,\"#7201a8\"],[0.3333333333333333,\"#9c179e\"],[0.4444444444444444,\"#bd3786\"],[0.5555555555555556,\"#d8576b\"],[0.6666666666666666,\"#ed7953\"],[0.7777777777777778,\"#fb9f3a\"],[0.8888888888888888,\"#fdca26\"],[1.0,\"#f0f921\"]],\"diverging\":[[0,\"#8e0152\"],[0.1,\"#c51b7d\"],[0.2,\"#de77ae\"],[0.3,\"#f1b6da\"],[0.4,\"#fde0ef\"],[0.5,\"#f7f7f7\"],[0.6,\"#e6f5d0\"],[0.7,\"#b8e186\"],[0.8,\"#7fbc41\"],[0.9,\"#4d9221\"],[1,\"#276419\"]]},\"xaxis\":{\"gridcolor\":\"#283442\",\"linecolor\":\"#506784\",\"ticks\":\"\",\"title\":{\"standoff\":15},\"zerolinecolor\":\"#283442\",\"automargin\":true,\"zerolinewidth\":2},\"yaxis\":{\"gridcolor\":\"#283442\",\"linecolor\":\"#506784\",\"ticks\":\"\",\"title\":{\"standoff\":15},\"zerolinecolor\":\"#283442\",\"automargin\":true,\"zerolinewidth\":2},\"scene\":{\"xaxis\":{\"backgroundcolor\":\"rgb(17,17,17)\",\"gridcolor\":\"#506784\",\"linecolor\":\"#506784\",\"showbackground\":true,\"ticks\":\"\",\"zerolinecolor\":\"#C8D4E3\",\"gridwidth\":2},\"yaxis\":{\"backgroundcolor\":\"rgb(17,17,17)\",\"gridcolor\":\"#506784\",\"linecolor\":\"#506784\",\"showbackground\":true,\"ticks\":\"\",\"zerolinecolor\":\"#C8D4E3\",\"gridwidth\":2},\"zaxis\":{\"backgroundcolor\":\"rgb(17,17,17)\",\"gridcolor\":\"#506784\",\"linecolor\":\"#506784\",\"showbackground\":true,\"ticks\":\"\",\"zerolinecolor\":\"#C8D4E3\",\"gridwidth\":2}},\"shapedefaults\":{\"line\":{\"color\":\"#f2f5fa\"}},\"annotationdefaults\":{\"arrowcolor\":\"#f2f5fa\",\"arrowhead\":0,\"arrowwidth\":1},\"geo\":{\"bgcolor\":\"rgb(17,17,17)\",\"landcolor\":\"rgb(17,17,17)\",\"subunitcolor\":\"#506784\",\"showland\":true,\"showlakes\":true,\"lakecolor\":\"rgb(17,17,17)\"},\"title\":{\"x\":0.05},\"updatemenudefaults\":{\"bgcolor\":\"#506784\",\"borderwidth\":0},\"sliderdefaults\":{\"bgcolor\":\"#C8D4E3\",\"borderwidth\":1,\"bordercolor\":\"rgb(17,17,17)\",\"tickwidth\":0},\"mapbox\":{\"style\":\"dark\"}}},\"xaxis\":{\"anchor\":\"y\",\"domain\":[0.0,0.7363],\"title\":{\"text\":\"eventF1\"}},\"yaxis\":{\"anchor\":\"x\",\"domain\":[0.0,1.0],\"title\":{\"text\":\"eventPrecision\"}},\"xaxis2\":{\"anchor\":\"y2\",\"domain\":[0.7413,1.0],\"matches\":\"x2\",\"showticklabels\":false,\"showline\":false,\"ticks\":\"\",\"showgrid\":true},\"yaxis2\":{\"anchor\":\"x2\",\"domain\":[0.0,1.0],\"matches\":\"y\",\"showticklabels\":false,\"showgrid\":true},\"legend\":{\"title\":{\"text\":\"test\"},\"tracegroupgap\":0},\"margin\":{\"t\":60},\"barmode\":\"overlay\"},                        {\"responsive\": true}                    ).then(function(){\n",
       "                            \n",
       "var gd = document.getElementById('fcb2eb26-c9d4-47fb-ab12-a1577d8e2145');\n",
       "var x = new MutationObserver(function (mutations, observer) {{\n",
       "        var display = window.getComputedStyle(gd).display;\n",
       "        if (!display || display === 'none') {{\n",
       "            console.log([gd, 'removed!']);\n",
       "            Plotly.purge(gd);\n",
       "            observer.disconnect();\n",
       "        }}\n",
       "}});\n",
       "\n",
       "// Listen for the removal of the full notebook cells\n",
       "var notebookContainer = gd.closest('#notebook-container');\n",
       "if (notebookContainer) {{\n",
       "    x.observe(notebookContainer, {childList: true});\n",
       "}}\n",
       "\n",
       "// Listen for the clearing of the current output cell\n",
       "var outputEl = gd.closest('.output');\n",
       "if (outputEl) {{\n",
       "    x.observe(outputEl, {childList: true});\n",
       "}}\n",
       "\n",
       "                        })                };                });            </script>        </div>"
      ]
     },
     "metadata": {},
     "output_type": "display_data"
    }
   ],
   "execution_count": 77
  },
  {
   "cell_type": "code",
   "metadata": {
    "ExecuteTime": {
     "end_time": "2024-12-12T12:15:44.045535Z",
     "start_time": "2024-12-12T12:15:44.000139Z"
    }
   },
   "source": [
    "fig=px.scatter(experimentModels,x='eventF1',y='eventRecall',color='test',hover_name='modelId', marginal_y=\"histogram\")\n",
    "fig.add_trace(\n",
    "    go.Scatter(x=experimentModels['eventF1'], y=experimentModels['eventF1'], name=\"identity\", mode='lines',fill=\"toself\")\n",
    ")\n",
    "fig.show()"
   ],
   "outputs": [
    {
     "data": {
      "application/vnd.plotly.v1+json": {
       "data": [
        {
         "hovertemplate": "<b>%{hovertext}</b><br><br>test=0002<br>eventF1=%{x}<br>eventRecall=%{y}<extra></extra>",
         "hovertext": [
          "a4659423-83e4-4da3-91b5-177fa8bc17fe"
         ],
         "legendgroup": "0002",
         "marker": {
          "color": "#636efa",
          "symbol": "circle"
         },
         "mode": "markers",
         "name": "0002",
         "orientation": "v",
         "showlegend": true,
         "x": [
          0.6666666666666666
         ],
         "xaxis": "x",
         "y": [
          0.5440414507772021
         ],
         "yaxis": "y",
         "type": "scatter"
        },
        {
         "alignmentgroup": "True",
         "bingroup": "y",
         "hovertemplate": "test=0002<br>eventRecall=%{y}<br>count=%{x}<extra></extra>",
         "legendgroup": "0002",
         "marker": {
          "color": "#636efa"
         },
         "name": "0002",
         "offsetgroup": "0002",
         "opacity": 0.5,
         "showlegend": false,
         "xaxis": "x2",
         "y": [
          0.5440414507772021
         ],
         "yaxis": "y2",
         "type": "histogram"
        },
        {
         "hovertemplate": "<b>%{hovertext}</b><br><br>test=0003<br>eventF1=%{x}<br>eventRecall=%{y}<extra></extra>",
         "hovertext": [
          "ad3be387-5be4-4e8e-b57d-072003b617d3"
         ],
         "legendgroup": "0003",
         "marker": {
          "color": "#EF553B",
          "symbol": "circle"
         },
         "mode": "markers",
         "name": "0003",
         "orientation": "v",
         "showlegend": true,
         "x": [
          0.8598398169336384
         ],
         "xaxis": "x",
         "y": [
          0.9248768472906403
         ],
         "yaxis": "y",
         "type": "scatter"
        },
        {
         "alignmentgroup": "True",
         "bingroup": "y",
         "hovertemplate": "test=0003<br>eventRecall=%{y}<br>count=%{x}<extra></extra>",
         "legendgroup": "0003",
         "marker": {
          "color": "#EF553B"
         },
         "name": "0003",
         "offsetgroup": "0003",
         "opacity": 0.5,
         "showlegend": false,
         "xaxis": "x2",
         "y": [
          0.9248768472906403
         ],
         "yaxis": "y2",
         "type": "histogram"
        },
        {
         "hovertemplate": "<b>%{hovertext}</b><br><br>test=0004<br>eventF1=%{x}<br>eventRecall=%{y}<extra></extra>",
         "hovertext": [
          "8bcbbc8b-b83e-4b97-8f7c-0dd0760680e7"
         ],
         "legendgroup": "0004",
         "marker": {
          "color": "#00cc96",
          "symbol": "circle"
         },
         "mode": "markers",
         "name": "0004",
         "orientation": "v",
         "showlegend": true,
         "x": [
          0.7896103896103897
         ],
         "xaxis": "x",
         "y": [
          0.781491002570694
         ],
         "yaxis": "y",
         "type": "scatter"
        },
        {
         "alignmentgroup": "True",
         "bingroup": "y",
         "hovertemplate": "test=0004<br>eventRecall=%{y}<br>count=%{x}<extra></extra>",
         "legendgroup": "0004",
         "marker": {
          "color": "#00cc96"
         },
         "name": "0004",
         "offsetgroup": "0004",
         "opacity": 0.5,
         "showlegend": false,
         "xaxis": "x2",
         "y": [
          0.781491002570694
         ],
         "yaxis": "y2",
         "type": "histogram"
        },
        {
         "hovertemplate": "<b>%{hovertext}</b><br><br>test=0005<br>eventF1=%{x}<br>eventRecall=%{y}<extra></extra>",
         "hovertext": [
          "f88ed731-de3a-4c9a-90d5-04d1fcd93d45"
         ],
         "legendgroup": "0005",
         "marker": {
          "color": "#ab63fa",
          "symbol": "circle"
         },
         "mode": "markers",
         "name": "0005",
         "orientation": "v",
         "showlegend": true,
         "x": [
          0.6521252796420581
         ],
         "xaxis": "x",
         "y": [
          0.9509803921568627
         ],
         "yaxis": "y",
         "type": "scatter"
        },
        {
         "alignmentgroup": "True",
         "bingroup": "y",
         "hovertemplate": "test=0005<br>eventRecall=%{y}<br>count=%{x}<extra></extra>",
         "legendgroup": "0005",
         "marker": {
          "color": "#ab63fa"
         },
         "name": "0005",
         "offsetgroup": "0005",
         "opacity": 0.5,
         "showlegend": false,
         "xaxis": "x2",
         "y": [
          0.9509803921568627
         ],
         "yaxis": "y2",
         "type": "histogram"
        },
        {
         "hovertemplate": "<b>%{hovertext}</b><br><br>test=0006<br>eventF1=%{x}<br>eventRecall=%{y}<extra></extra>",
         "hovertext": [
          "16a691da-d735-4ad2-953c-db2678980107"
         ],
         "legendgroup": "0006",
         "marker": {
          "color": "#FFA15A",
          "symbol": "circle"
         },
         "mode": "markers",
         "name": "0006",
         "orientation": "v",
         "showlegend": true,
         "x": [
          0.696969696969697
         ],
         "xaxis": "x",
         "y": [
          0.8113207547169812
         ],
         "yaxis": "y",
         "type": "scatter"
        },
        {
         "alignmentgroup": "True",
         "bingroup": "y",
         "hovertemplate": "test=0006<br>eventRecall=%{y}<br>count=%{x}<extra></extra>",
         "legendgroup": "0006",
         "marker": {
          "color": "#FFA15A"
         },
         "name": "0006",
         "offsetgroup": "0006",
         "opacity": 0.5,
         "showlegend": false,
         "xaxis": "x2",
         "y": [
          0.8113207547169812
         ],
         "yaxis": "y2",
         "type": "histogram"
        },
        {
         "hovertemplate": "<b>%{hovertext}</b><br><br>test=0007<br>eventF1=%{x}<br>eventRecall=%{y}<extra></extra>",
         "hovertext": [
          "d91f41ff-0308-46df-9bcd-67d46f377777"
         ],
         "legendgroup": "0007",
         "marker": {
          "color": "#19d3f3",
          "symbol": "circle"
         },
         "mode": "markers",
         "name": "0007",
         "orientation": "v",
         "showlegend": true,
         "x": [
          0.6704781704781705
         ],
         "xaxis": "x",
         "y": [
          0.8919667590027701
         ],
         "yaxis": "y",
         "type": "scatter"
        },
        {
         "alignmentgroup": "True",
         "bingroup": "y",
         "hovertemplate": "test=0007<br>eventRecall=%{y}<br>count=%{x}<extra></extra>",
         "legendgroup": "0007",
         "marker": {
          "color": "#19d3f3"
         },
         "name": "0007",
         "offsetgroup": "0007",
         "opacity": 0.5,
         "showlegend": false,
         "xaxis": "x2",
         "y": [
          0.8919667590027701
         ],
         "yaxis": "y2",
         "type": "histogram"
        },
        {
         "hovertemplate": "<b>%{hovertext}</b><br><br>test=0008<br>eventF1=%{x}<br>eventRecall=%{y}<extra></extra>",
         "hovertext": [
          "a1eacac2-9e31-437a-9350-110d2ef2f1a5"
         ],
         "legendgroup": "0008",
         "marker": {
          "color": "#FF6692",
          "symbol": "circle"
         },
         "mode": "markers",
         "name": "0008",
         "orientation": "v",
         "showlegend": true,
         "x": [
          0.47619047619047616
         ],
         "xaxis": "x",
         "y": [
          0.3409090909090909
         ],
         "yaxis": "y",
         "type": "scatter"
        },
        {
         "alignmentgroup": "True",
         "bingroup": "y",
         "hovertemplate": "test=0008<br>eventRecall=%{y}<br>count=%{x}<extra></extra>",
         "legendgroup": "0008",
         "marker": {
          "color": "#FF6692"
         },
         "name": "0008",
         "offsetgroup": "0008",
         "opacity": 0.5,
         "showlegend": false,
         "xaxis": "x2",
         "y": [
          0.3409090909090909
         ],
         "yaxis": "y2",
         "type": "histogram"
        },
        {
         "fill": "toself",
         "mode": "lines",
         "name": "identity",
         "x": [
          0.6666666666666666,
          0.8598398169336384,
          0.7896103896103897,
          0.6521252796420581,
          0.696969696969697,
          0.6704781704781705,
          0.47619047619047616
         ],
         "y": [
          0.6666666666666666,
          0.8598398169336384,
          0.7896103896103897,
          0.6521252796420581,
          0.696969696969697,
          0.6704781704781705,
          0.47619047619047616
         ],
         "type": "scatter"
        }
       ],
       "layout": {
        "template": {
         "data": {
          "histogram2dcontour": [
           {
            "type": "histogram2dcontour",
            "colorbar": {
             "outlinewidth": 0,
             "ticks": ""
            },
            "colorscale": [
             [
              0.0,
              "#0d0887"
             ],
             [
              0.1111111111111111,
              "#46039f"
             ],
             [
              0.2222222222222222,
              "#7201a8"
             ],
             [
              0.3333333333333333,
              "#9c179e"
             ],
             [
              0.4444444444444444,
              "#bd3786"
             ],
             [
              0.5555555555555556,
              "#d8576b"
             ],
             [
              0.6666666666666666,
              "#ed7953"
             ],
             [
              0.7777777777777778,
              "#fb9f3a"
             ],
             [
              0.8888888888888888,
              "#fdca26"
             ],
             [
              1.0,
              "#f0f921"
             ]
            ]
           }
          ],
          "choropleth": [
           {
            "type": "choropleth",
            "colorbar": {
             "outlinewidth": 0,
             "ticks": ""
            }
           }
          ],
          "histogram2d": [
           {
            "type": "histogram2d",
            "colorbar": {
             "outlinewidth": 0,
             "ticks": ""
            },
            "colorscale": [
             [
              0.0,
              "#0d0887"
             ],
             [
              0.1111111111111111,
              "#46039f"
             ],
             [
              0.2222222222222222,
              "#7201a8"
             ],
             [
              0.3333333333333333,
              "#9c179e"
             ],
             [
              0.4444444444444444,
              "#bd3786"
             ],
             [
              0.5555555555555556,
              "#d8576b"
             ],
             [
              0.6666666666666666,
              "#ed7953"
             ],
             [
              0.7777777777777778,
              "#fb9f3a"
             ],
             [
              0.8888888888888888,
              "#fdca26"
             ],
             [
              1.0,
              "#f0f921"
             ]
            ]
           }
          ],
          "heatmap": [
           {
            "type": "heatmap",
            "colorbar": {
             "outlinewidth": 0,
             "ticks": ""
            },
            "colorscale": [
             [
              0.0,
              "#0d0887"
             ],
             [
              0.1111111111111111,
              "#46039f"
             ],
             [
              0.2222222222222222,
              "#7201a8"
             ],
             [
              0.3333333333333333,
              "#9c179e"
             ],
             [
              0.4444444444444444,
              "#bd3786"
             ],
             [
              0.5555555555555556,
              "#d8576b"
             ],
             [
              0.6666666666666666,
              "#ed7953"
             ],
             [
              0.7777777777777778,
              "#fb9f3a"
             ],
             [
              0.8888888888888888,
              "#fdca26"
             ],
             [
              1.0,
              "#f0f921"
             ]
            ]
           }
          ],
          "heatmapgl": [
           {
            "type": "heatmapgl",
            "colorbar": {
             "outlinewidth": 0,
             "ticks": ""
            },
            "colorscale": [
             [
              0.0,
              "#0d0887"
             ],
             [
              0.1111111111111111,
              "#46039f"
             ],
             [
              0.2222222222222222,
              "#7201a8"
             ],
             [
              0.3333333333333333,
              "#9c179e"
             ],
             [
              0.4444444444444444,
              "#bd3786"
             ],
             [
              0.5555555555555556,
              "#d8576b"
             ],
             [
              0.6666666666666666,
              "#ed7953"
             ],
             [
              0.7777777777777778,
              "#fb9f3a"
             ],
             [
              0.8888888888888888,
              "#fdca26"
             ],
             [
              1.0,
              "#f0f921"
             ]
            ]
           }
          ],
          "contourcarpet": [
           {
            "type": "contourcarpet",
            "colorbar": {
             "outlinewidth": 0,
             "ticks": ""
            }
           }
          ],
          "contour": [
           {
            "type": "contour",
            "colorbar": {
             "outlinewidth": 0,
             "ticks": ""
            },
            "colorscale": [
             [
              0.0,
              "#0d0887"
             ],
             [
              0.1111111111111111,
              "#46039f"
             ],
             [
              0.2222222222222222,
              "#7201a8"
             ],
             [
              0.3333333333333333,
              "#9c179e"
             ],
             [
              0.4444444444444444,
              "#bd3786"
             ],
             [
              0.5555555555555556,
              "#d8576b"
             ],
             [
              0.6666666666666666,
              "#ed7953"
             ],
             [
              0.7777777777777778,
              "#fb9f3a"
             ],
             [
              0.8888888888888888,
              "#fdca26"
             ],
             [
              1.0,
              "#f0f921"
             ]
            ]
           }
          ],
          "surface": [
           {
            "type": "surface",
            "colorbar": {
             "outlinewidth": 0,
             "ticks": ""
            },
            "colorscale": [
             [
              0.0,
              "#0d0887"
             ],
             [
              0.1111111111111111,
              "#46039f"
             ],
             [
              0.2222222222222222,
              "#7201a8"
             ],
             [
              0.3333333333333333,
              "#9c179e"
             ],
             [
              0.4444444444444444,
              "#bd3786"
             ],
             [
              0.5555555555555556,
              "#d8576b"
             ],
             [
              0.6666666666666666,
              "#ed7953"
             ],
             [
              0.7777777777777778,
              "#fb9f3a"
             ],
             [
              0.8888888888888888,
              "#fdca26"
             ],
             [
              1.0,
              "#f0f921"
             ]
            ]
           }
          ],
          "mesh3d": [
           {
            "type": "mesh3d",
            "colorbar": {
             "outlinewidth": 0,
             "ticks": ""
            }
           }
          ],
          "scatter": [
           {
            "marker": {
             "line": {
              "color": "#283442"
             }
            },
            "type": "scatter"
           }
          ],
          "parcoords": [
           {
            "type": "parcoords",
            "line": {
             "colorbar": {
              "outlinewidth": 0,
              "ticks": ""
             }
            }
           }
          ],
          "scatterpolargl": [
           {
            "type": "scatterpolargl",
            "marker": {
             "colorbar": {
              "outlinewidth": 0,
              "ticks": ""
             }
            }
           }
          ],
          "bar": [
           {
            "error_x": {
             "color": "#f2f5fa"
            },
            "error_y": {
             "color": "#f2f5fa"
            },
            "marker": {
             "line": {
              "color": "rgb(17,17,17)",
              "width": 0.5
             },
             "pattern": {
              "fillmode": "overlay",
              "size": 10,
              "solidity": 0.2
             }
            },
            "type": "bar"
           }
          ],
          "scattergeo": [
           {
            "type": "scattergeo",
            "marker": {
             "colorbar": {
              "outlinewidth": 0,
              "ticks": ""
             }
            }
           }
          ],
          "scatterpolar": [
           {
            "type": "scatterpolar",
            "marker": {
             "colorbar": {
              "outlinewidth": 0,
              "ticks": ""
             }
            }
           }
          ],
          "histogram": [
           {
            "marker": {
             "pattern": {
              "fillmode": "overlay",
              "size": 10,
              "solidity": 0.2
             }
            },
            "type": "histogram"
           }
          ],
          "scattergl": [
           {
            "marker": {
             "line": {
              "color": "#283442"
             }
            },
            "type": "scattergl"
           }
          ],
          "scatter3d": [
           {
            "type": "scatter3d",
            "line": {
             "colorbar": {
              "outlinewidth": 0,
              "ticks": ""
             }
            },
            "marker": {
             "colorbar": {
              "outlinewidth": 0,
              "ticks": ""
             }
            }
           }
          ],
          "scattermapbox": [
           {
            "type": "scattermapbox",
            "marker": {
             "colorbar": {
              "outlinewidth": 0,
              "ticks": ""
             }
            }
           }
          ],
          "scatterternary": [
           {
            "type": "scatterternary",
            "marker": {
             "colorbar": {
              "outlinewidth": 0,
              "ticks": ""
             }
            }
           }
          ],
          "scattercarpet": [
           {
            "type": "scattercarpet",
            "marker": {
             "colorbar": {
              "outlinewidth": 0,
              "ticks": ""
             }
            }
           }
          ],
          "carpet": [
           {
            "aaxis": {
             "endlinecolor": "#A2B1C6",
             "gridcolor": "#506784",
             "linecolor": "#506784",
             "minorgridcolor": "#506784",
             "startlinecolor": "#A2B1C6"
            },
            "baxis": {
             "endlinecolor": "#A2B1C6",
             "gridcolor": "#506784",
             "linecolor": "#506784",
             "minorgridcolor": "#506784",
             "startlinecolor": "#A2B1C6"
            },
            "type": "carpet"
           }
          ],
          "table": [
           {
            "cells": {
             "fill": {
              "color": "#506784"
             },
             "line": {
              "color": "rgb(17,17,17)"
             }
            },
            "header": {
             "fill": {
              "color": "#2a3f5f"
             },
             "line": {
              "color": "rgb(17,17,17)"
             }
            },
            "type": "table"
           }
          ],
          "barpolar": [
           {
            "marker": {
             "line": {
              "color": "rgb(17,17,17)",
              "width": 0.5
             },
             "pattern": {
              "fillmode": "overlay",
              "size": 10,
              "solidity": 0.2
             }
            },
            "type": "barpolar"
           }
          ],
          "pie": [
           {
            "automargin": true,
            "type": "pie"
           }
          ]
         },
         "layout": {
          "autotypenumbers": "strict",
          "colorway": [
           "#636efa",
           "#EF553B",
           "#00cc96",
           "#ab63fa",
           "#FFA15A",
           "#19d3f3",
           "#FF6692",
           "#B6E880",
           "#FF97FF",
           "#FECB52"
          ],
          "font": {
           "color": "#f2f5fa"
          },
          "hovermode": "closest",
          "hoverlabel": {
           "align": "left"
          },
          "paper_bgcolor": "rgb(17,17,17)",
          "plot_bgcolor": "rgb(17,17,17)",
          "polar": {
           "bgcolor": "rgb(17,17,17)",
           "angularaxis": {
            "gridcolor": "#506784",
            "linecolor": "#506784",
            "ticks": ""
           },
           "radialaxis": {
            "gridcolor": "#506784",
            "linecolor": "#506784",
            "ticks": ""
           }
          },
          "ternary": {
           "bgcolor": "rgb(17,17,17)",
           "aaxis": {
            "gridcolor": "#506784",
            "linecolor": "#506784",
            "ticks": ""
           },
           "baxis": {
            "gridcolor": "#506784",
            "linecolor": "#506784",
            "ticks": ""
           },
           "caxis": {
            "gridcolor": "#506784",
            "linecolor": "#506784",
            "ticks": ""
           }
          },
          "coloraxis": {
           "colorbar": {
            "outlinewidth": 0,
            "ticks": ""
           }
          },
          "colorscale": {
           "sequential": [
            [
             0.0,
             "#0d0887"
            ],
            [
             0.1111111111111111,
             "#46039f"
            ],
            [
             0.2222222222222222,
             "#7201a8"
            ],
            [
             0.3333333333333333,
             "#9c179e"
            ],
            [
             0.4444444444444444,
             "#bd3786"
            ],
            [
             0.5555555555555556,
             "#d8576b"
            ],
            [
             0.6666666666666666,
             "#ed7953"
            ],
            [
             0.7777777777777778,
             "#fb9f3a"
            ],
            [
             0.8888888888888888,
             "#fdca26"
            ],
            [
             1.0,
             "#f0f921"
            ]
           ],
           "sequentialminus": [
            [
             0.0,
             "#0d0887"
            ],
            [
             0.1111111111111111,
             "#46039f"
            ],
            [
             0.2222222222222222,
             "#7201a8"
            ],
            [
             0.3333333333333333,
             "#9c179e"
            ],
            [
             0.4444444444444444,
             "#bd3786"
            ],
            [
             0.5555555555555556,
             "#d8576b"
            ],
            [
             0.6666666666666666,
             "#ed7953"
            ],
            [
             0.7777777777777778,
             "#fb9f3a"
            ],
            [
             0.8888888888888888,
             "#fdca26"
            ],
            [
             1.0,
             "#f0f921"
            ]
           ],
           "diverging": [
            [
             0,
             "#8e0152"
            ],
            [
             0.1,
             "#c51b7d"
            ],
            [
             0.2,
             "#de77ae"
            ],
            [
             0.3,
             "#f1b6da"
            ],
            [
             0.4,
             "#fde0ef"
            ],
            [
             0.5,
             "#f7f7f7"
            ],
            [
             0.6,
             "#e6f5d0"
            ],
            [
             0.7,
             "#b8e186"
            ],
            [
             0.8,
             "#7fbc41"
            ],
            [
             0.9,
             "#4d9221"
            ],
            [
             1,
             "#276419"
            ]
           ]
          },
          "xaxis": {
           "gridcolor": "#283442",
           "linecolor": "#506784",
           "ticks": "",
           "title": {
            "standoff": 15
           },
           "zerolinecolor": "#283442",
           "automargin": true,
           "zerolinewidth": 2
          },
          "yaxis": {
           "gridcolor": "#283442",
           "linecolor": "#506784",
           "ticks": "",
           "title": {
            "standoff": 15
           },
           "zerolinecolor": "#283442",
           "automargin": true,
           "zerolinewidth": 2
          },
          "scene": {
           "xaxis": {
            "backgroundcolor": "rgb(17,17,17)",
            "gridcolor": "#506784",
            "linecolor": "#506784",
            "showbackground": true,
            "ticks": "",
            "zerolinecolor": "#C8D4E3",
            "gridwidth": 2
           },
           "yaxis": {
            "backgroundcolor": "rgb(17,17,17)",
            "gridcolor": "#506784",
            "linecolor": "#506784",
            "showbackground": true,
            "ticks": "",
            "zerolinecolor": "#C8D4E3",
            "gridwidth": 2
           },
           "zaxis": {
            "backgroundcolor": "rgb(17,17,17)",
            "gridcolor": "#506784",
            "linecolor": "#506784",
            "showbackground": true,
            "ticks": "",
            "zerolinecolor": "#C8D4E3",
            "gridwidth": 2
           }
          },
          "shapedefaults": {
           "line": {
            "color": "#f2f5fa"
           }
          },
          "annotationdefaults": {
           "arrowcolor": "#f2f5fa",
           "arrowhead": 0,
           "arrowwidth": 1
          },
          "geo": {
           "bgcolor": "rgb(17,17,17)",
           "landcolor": "rgb(17,17,17)",
           "subunitcolor": "#506784",
           "showland": true,
           "showlakes": true,
           "lakecolor": "rgb(17,17,17)"
          },
          "title": {
           "x": 0.05
          },
          "updatemenudefaults": {
           "bgcolor": "#506784",
           "borderwidth": 0
          },
          "sliderdefaults": {
           "bgcolor": "#C8D4E3",
           "borderwidth": 1,
           "bordercolor": "rgb(17,17,17)",
           "tickwidth": 0
          },
          "mapbox": {
           "style": "dark"
          }
         }
        },
        "xaxis": {
         "anchor": "y",
         "domain": [
          0.0,
          0.7363
         ],
         "title": {
          "text": "eventF1"
         }
        },
        "yaxis": {
         "anchor": "x",
         "domain": [
          0.0,
          1.0
         ],
         "title": {
          "text": "eventRecall"
         }
        },
        "xaxis2": {
         "anchor": "y2",
         "domain": [
          0.7413,
          1.0
         ],
         "matches": "x2",
         "showticklabels": false,
         "showline": false,
         "ticks": "",
         "showgrid": true
        },
        "yaxis2": {
         "anchor": "x2",
         "domain": [
          0.0,
          1.0
         ],
         "matches": "y",
         "showticklabels": false,
         "showgrid": true
        },
        "legend": {
         "title": {
          "text": "test"
         },
         "tracegroupgap": 0
        },
        "margin": {
         "t": 60
        },
        "barmode": "overlay"
       },
       "config": {
        "plotlyServerURL": "https://plot.ly"
       }
      },
      "text/html": [
       "<div>                            <div id=\"c2582545-9f9b-41d8-bdf4-518006e46ee1\" class=\"plotly-graph-div\" style=\"height:525px; width:100%;\"></div>            <script type=\"text/javascript\">                require([\"plotly\"], function(Plotly) {                    window.PLOTLYENV=window.PLOTLYENV || {};                                    if (document.getElementById(\"c2582545-9f9b-41d8-bdf4-518006e46ee1\")) {                    Plotly.newPlot(                        \"c2582545-9f9b-41d8-bdf4-518006e46ee1\",                        [{\"hovertemplate\":\"<b>%{hovertext}</b><br><br>test=0002<br>eventF1=%{x}<br>eventRecall=%{y}<extra></extra>\",\"hovertext\":[\"a4659423-83e4-4da3-91b5-177fa8bc17fe\"],\"legendgroup\":\"0002\",\"marker\":{\"color\":\"#636efa\",\"symbol\":\"circle\"},\"mode\":\"markers\",\"name\":\"0002\",\"orientation\":\"v\",\"showlegend\":true,\"x\":[0.6666666666666666],\"xaxis\":\"x\",\"y\":[0.5440414507772021],\"yaxis\":\"y\",\"type\":\"scatter\"},{\"alignmentgroup\":\"True\",\"bingroup\":\"y\",\"hovertemplate\":\"test=0002<br>eventRecall=%{y}<br>count=%{x}<extra></extra>\",\"legendgroup\":\"0002\",\"marker\":{\"color\":\"#636efa\"},\"name\":\"0002\",\"offsetgroup\":\"0002\",\"opacity\":0.5,\"showlegend\":false,\"xaxis\":\"x2\",\"y\":[0.5440414507772021],\"yaxis\":\"y2\",\"type\":\"histogram\"},{\"hovertemplate\":\"<b>%{hovertext}</b><br><br>test=0003<br>eventF1=%{x}<br>eventRecall=%{y}<extra></extra>\",\"hovertext\":[\"ad3be387-5be4-4e8e-b57d-072003b617d3\"],\"legendgroup\":\"0003\",\"marker\":{\"color\":\"#EF553B\",\"symbol\":\"circle\"},\"mode\":\"markers\",\"name\":\"0003\",\"orientation\":\"v\",\"showlegend\":true,\"x\":[0.8598398169336384],\"xaxis\":\"x\",\"y\":[0.9248768472906403],\"yaxis\":\"y\",\"type\":\"scatter\"},{\"alignmentgroup\":\"True\",\"bingroup\":\"y\",\"hovertemplate\":\"test=0003<br>eventRecall=%{y}<br>count=%{x}<extra></extra>\",\"legendgroup\":\"0003\",\"marker\":{\"color\":\"#EF553B\"},\"name\":\"0003\",\"offsetgroup\":\"0003\",\"opacity\":0.5,\"showlegend\":false,\"xaxis\":\"x2\",\"y\":[0.9248768472906403],\"yaxis\":\"y2\",\"type\":\"histogram\"},{\"hovertemplate\":\"<b>%{hovertext}</b><br><br>test=0004<br>eventF1=%{x}<br>eventRecall=%{y}<extra></extra>\",\"hovertext\":[\"8bcbbc8b-b83e-4b97-8f7c-0dd0760680e7\"],\"legendgroup\":\"0004\",\"marker\":{\"color\":\"#00cc96\",\"symbol\":\"circle\"},\"mode\":\"markers\",\"name\":\"0004\",\"orientation\":\"v\",\"showlegend\":true,\"x\":[0.7896103896103897],\"xaxis\":\"x\",\"y\":[0.781491002570694],\"yaxis\":\"y\",\"type\":\"scatter\"},{\"alignmentgroup\":\"True\",\"bingroup\":\"y\",\"hovertemplate\":\"test=0004<br>eventRecall=%{y}<br>count=%{x}<extra></extra>\",\"legendgroup\":\"0004\",\"marker\":{\"color\":\"#00cc96\"},\"name\":\"0004\",\"offsetgroup\":\"0004\",\"opacity\":0.5,\"showlegend\":false,\"xaxis\":\"x2\",\"y\":[0.781491002570694],\"yaxis\":\"y2\",\"type\":\"histogram\"},{\"hovertemplate\":\"<b>%{hovertext}</b><br><br>test=0005<br>eventF1=%{x}<br>eventRecall=%{y}<extra></extra>\",\"hovertext\":[\"f88ed731-de3a-4c9a-90d5-04d1fcd93d45\"],\"legendgroup\":\"0005\",\"marker\":{\"color\":\"#ab63fa\",\"symbol\":\"circle\"},\"mode\":\"markers\",\"name\":\"0005\",\"orientation\":\"v\",\"showlegend\":true,\"x\":[0.6521252796420581],\"xaxis\":\"x\",\"y\":[0.9509803921568627],\"yaxis\":\"y\",\"type\":\"scatter\"},{\"alignmentgroup\":\"True\",\"bingroup\":\"y\",\"hovertemplate\":\"test=0005<br>eventRecall=%{y}<br>count=%{x}<extra></extra>\",\"legendgroup\":\"0005\",\"marker\":{\"color\":\"#ab63fa\"},\"name\":\"0005\",\"offsetgroup\":\"0005\",\"opacity\":0.5,\"showlegend\":false,\"xaxis\":\"x2\",\"y\":[0.9509803921568627],\"yaxis\":\"y2\",\"type\":\"histogram\"},{\"hovertemplate\":\"<b>%{hovertext}</b><br><br>test=0006<br>eventF1=%{x}<br>eventRecall=%{y}<extra></extra>\",\"hovertext\":[\"16a691da-d735-4ad2-953c-db2678980107\"],\"legendgroup\":\"0006\",\"marker\":{\"color\":\"#FFA15A\",\"symbol\":\"circle\"},\"mode\":\"markers\",\"name\":\"0006\",\"orientation\":\"v\",\"showlegend\":true,\"x\":[0.696969696969697],\"xaxis\":\"x\",\"y\":[0.8113207547169812],\"yaxis\":\"y\",\"type\":\"scatter\"},{\"alignmentgroup\":\"True\",\"bingroup\":\"y\",\"hovertemplate\":\"test=0006<br>eventRecall=%{y}<br>count=%{x}<extra></extra>\",\"legendgroup\":\"0006\",\"marker\":{\"color\":\"#FFA15A\"},\"name\":\"0006\",\"offsetgroup\":\"0006\",\"opacity\":0.5,\"showlegend\":false,\"xaxis\":\"x2\",\"y\":[0.8113207547169812],\"yaxis\":\"y2\",\"type\":\"histogram\"},{\"hovertemplate\":\"<b>%{hovertext}</b><br><br>test=0007<br>eventF1=%{x}<br>eventRecall=%{y}<extra></extra>\",\"hovertext\":[\"d91f41ff-0308-46df-9bcd-67d46f377777\"],\"legendgroup\":\"0007\",\"marker\":{\"color\":\"#19d3f3\",\"symbol\":\"circle\"},\"mode\":\"markers\",\"name\":\"0007\",\"orientation\":\"v\",\"showlegend\":true,\"x\":[0.6704781704781705],\"xaxis\":\"x\",\"y\":[0.8919667590027701],\"yaxis\":\"y\",\"type\":\"scatter\"},{\"alignmentgroup\":\"True\",\"bingroup\":\"y\",\"hovertemplate\":\"test=0007<br>eventRecall=%{y}<br>count=%{x}<extra></extra>\",\"legendgroup\":\"0007\",\"marker\":{\"color\":\"#19d3f3\"},\"name\":\"0007\",\"offsetgroup\":\"0007\",\"opacity\":0.5,\"showlegend\":false,\"xaxis\":\"x2\",\"y\":[0.8919667590027701],\"yaxis\":\"y2\",\"type\":\"histogram\"},{\"hovertemplate\":\"<b>%{hovertext}</b><br><br>test=0008<br>eventF1=%{x}<br>eventRecall=%{y}<extra></extra>\",\"hovertext\":[\"a1eacac2-9e31-437a-9350-110d2ef2f1a5\"],\"legendgroup\":\"0008\",\"marker\":{\"color\":\"#FF6692\",\"symbol\":\"circle\"},\"mode\":\"markers\",\"name\":\"0008\",\"orientation\":\"v\",\"showlegend\":true,\"x\":[0.47619047619047616],\"xaxis\":\"x\",\"y\":[0.3409090909090909],\"yaxis\":\"y\",\"type\":\"scatter\"},{\"alignmentgroup\":\"True\",\"bingroup\":\"y\",\"hovertemplate\":\"test=0008<br>eventRecall=%{y}<br>count=%{x}<extra></extra>\",\"legendgroup\":\"0008\",\"marker\":{\"color\":\"#FF6692\"},\"name\":\"0008\",\"offsetgroup\":\"0008\",\"opacity\":0.5,\"showlegend\":false,\"xaxis\":\"x2\",\"y\":[0.3409090909090909],\"yaxis\":\"y2\",\"type\":\"histogram\"},{\"fill\":\"toself\",\"mode\":\"lines\",\"name\":\"identity\",\"x\":[0.6666666666666666,0.8598398169336384,0.7896103896103897,0.6521252796420581,0.696969696969697,0.6704781704781705,0.47619047619047616],\"y\":[0.6666666666666666,0.8598398169336384,0.7896103896103897,0.6521252796420581,0.696969696969697,0.6704781704781705,0.47619047619047616],\"type\":\"scatter\"}],                        {\"template\":{\"data\":{\"histogram2dcontour\":[{\"type\":\"histogram2dcontour\",\"colorbar\":{\"outlinewidth\":0,\"ticks\":\"\"},\"colorscale\":[[0.0,\"#0d0887\"],[0.1111111111111111,\"#46039f\"],[0.2222222222222222,\"#7201a8\"],[0.3333333333333333,\"#9c179e\"],[0.4444444444444444,\"#bd3786\"],[0.5555555555555556,\"#d8576b\"],[0.6666666666666666,\"#ed7953\"],[0.7777777777777778,\"#fb9f3a\"],[0.8888888888888888,\"#fdca26\"],[1.0,\"#f0f921\"]]}],\"choropleth\":[{\"type\":\"choropleth\",\"colorbar\":{\"outlinewidth\":0,\"ticks\":\"\"}}],\"histogram2d\":[{\"type\":\"histogram2d\",\"colorbar\":{\"outlinewidth\":0,\"ticks\":\"\"},\"colorscale\":[[0.0,\"#0d0887\"],[0.1111111111111111,\"#46039f\"],[0.2222222222222222,\"#7201a8\"],[0.3333333333333333,\"#9c179e\"],[0.4444444444444444,\"#bd3786\"],[0.5555555555555556,\"#d8576b\"],[0.6666666666666666,\"#ed7953\"],[0.7777777777777778,\"#fb9f3a\"],[0.8888888888888888,\"#fdca26\"],[1.0,\"#f0f921\"]]}],\"heatmap\":[{\"type\":\"heatmap\",\"colorbar\":{\"outlinewidth\":0,\"ticks\":\"\"},\"colorscale\":[[0.0,\"#0d0887\"],[0.1111111111111111,\"#46039f\"],[0.2222222222222222,\"#7201a8\"],[0.3333333333333333,\"#9c179e\"],[0.4444444444444444,\"#bd3786\"],[0.5555555555555556,\"#d8576b\"],[0.6666666666666666,\"#ed7953\"],[0.7777777777777778,\"#fb9f3a\"],[0.8888888888888888,\"#fdca26\"],[1.0,\"#f0f921\"]]}],\"heatmapgl\":[{\"type\":\"heatmapgl\",\"colorbar\":{\"outlinewidth\":0,\"ticks\":\"\"},\"colorscale\":[[0.0,\"#0d0887\"],[0.1111111111111111,\"#46039f\"],[0.2222222222222222,\"#7201a8\"],[0.3333333333333333,\"#9c179e\"],[0.4444444444444444,\"#bd3786\"],[0.5555555555555556,\"#d8576b\"],[0.6666666666666666,\"#ed7953\"],[0.7777777777777778,\"#fb9f3a\"],[0.8888888888888888,\"#fdca26\"],[1.0,\"#f0f921\"]]}],\"contourcarpet\":[{\"type\":\"contourcarpet\",\"colorbar\":{\"outlinewidth\":0,\"ticks\":\"\"}}],\"contour\":[{\"type\":\"contour\",\"colorbar\":{\"outlinewidth\":0,\"ticks\":\"\"},\"colorscale\":[[0.0,\"#0d0887\"],[0.1111111111111111,\"#46039f\"],[0.2222222222222222,\"#7201a8\"],[0.3333333333333333,\"#9c179e\"],[0.4444444444444444,\"#bd3786\"],[0.5555555555555556,\"#d8576b\"],[0.6666666666666666,\"#ed7953\"],[0.7777777777777778,\"#fb9f3a\"],[0.8888888888888888,\"#fdca26\"],[1.0,\"#f0f921\"]]}],\"surface\":[{\"type\":\"surface\",\"colorbar\":{\"outlinewidth\":0,\"ticks\":\"\"},\"colorscale\":[[0.0,\"#0d0887\"],[0.1111111111111111,\"#46039f\"],[0.2222222222222222,\"#7201a8\"],[0.3333333333333333,\"#9c179e\"],[0.4444444444444444,\"#bd3786\"],[0.5555555555555556,\"#d8576b\"],[0.6666666666666666,\"#ed7953\"],[0.7777777777777778,\"#fb9f3a\"],[0.8888888888888888,\"#fdca26\"],[1.0,\"#f0f921\"]]}],\"mesh3d\":[{\"type\":\"mesh3d\",\"colorbar\":{\"outlinewidth\":0,\"ticks\":\"\"}}],\"scatter\":[{\"marker\":{\"line\":{\"color\":\"#283442\"}},\"type\":\"scatter\"}],\"parcoords\":[{\"type\":\"parcoords\",\"line\":{\"colorbar\":{\"outlinewidth\":0,\"ticks\":\"\"}}}],\"scatterpolargl\":[{\"type\":\"scatterpolargl\",\"marker\":{\"colorbar\":{\"outlinewidth\":0,\"ticks\":\"\"}}}],\"bar\":[{\"error_x\":{\"color\":\"#f2f5fa\"},\"error_y\":{\"color\":\"#f2f5fa\"},\"marker\":{\"line\":{\"color\":\"rgb(17,17,17)\",\"width\":0.5},\"pattern\":{\"fillmode\":\"overlay\",\"size\":10,\"solidity\":0.2}},\"type\":\"bar\"}],\"scattergeo\":[{\"type\":\"scattergeo\",\"marker\":{\"colorbar\":{\"outlinewidth\":0,\"ticks\":\"\"}}}],\"scatterpolar\":[{\"type\":\"scatterpolar\",\"marker\":{\"colorbar\":{\"outlinewidth\":0,\"ticks\":\"\"}}}],\"histogram\":[{\"marker\":{\"pattern\":{\"fillmode\":\"overlay\",\"size\":10,\"solidity\":0.2}},\"type\":\"histogram\"}],\"scattergl\":[{\"marker\":{\"line\":{\"color\":\"#283442\"}},\"type\":\"scattergl\"}],\"scatter3d\":[{\"type\":\"scatter3d\",\"line\":{\"colorbar\":{\"outlinewidth\":0,\"ticks\":\"\"}},\"marker\":{\"colorbar\":{\"outlinewidth\":0,\"ticks\":\"\"}}}],\"scattermapbox\":[{\"type\":\"scattermapbox\",\"marker\":{\"colorbar\":{\"outlinewidth\":0,\"ticks\":\"\"}}}],\"scatterternary\":[{\"type\":\"scatterternary\",\"marker\":{\"colorbar\":{\"outlinewidth\":0,\"ticks\":\"\"}}}],\"scattercarpet\":[{\"type\":\"scattercarpet\",\"marker\":{\"colorbar\":{\"outlinewidth\":0,\"ticks\":\"\"}}}],\"carpet\":[{\"aaxis\":{\"endlinecolor\":\"#A2B1C6\",\"gridcolor\":\"#506784\",\"linecolor\":\"#506784\",\"minorgridcolor\":\"#506784\",\"startlinecolor\":\"#A2B1C6\"},\"baxis\":{\"endlinecolor\":\"#A2B1C6\",\"gridcolor\":\"#506784\",\"linecolor\":\"#506784\",\"minorgridcolor\":\"#506784\",\"startlinecolor\":\"#A2B1C6\"},\"type\":\"carpet\"}],\"table\":[{\"cells\":{\"fill\":{\"color\":\"#506784\"},\"line\":{\"color\":\"rgb(17,17,17)\"}},\"header\":{\"fill\":{\"color\":\"#2a3f5f\"},\"line\":{\"color\":\"rgb(17,17,17)\"}},\"type\":\"table\"}],\"barpolar\":[{\"marker\":{\"line\":{\"color\":\"rgb(17,17,17)\",\"width\":0.5},\"pattern\":{\"fillmode\":\"overlay\",\"size\":10,\"solidity\":0.2}},\"type\":\"barpolar\"}],\"pie\":[{\"automargin\":true,\"type\":\"pie\"}]},\"layout\":{\"autotypenumbers\":\"strict\",\"colorway\":[\"#636efa\",\"#EF553B\",\"#00cc96\",\"#ab63fa\",\"#FFA15A\",\"#19d3f3\",\"#FF6692\",\"#B6E880\",\"#FF97FF\",\"#FECB52\"],\"font\":{\"color\":\"#f2f5fa\"},\"hovermode\":\"closest\",\"hoverlabel\":{\"align\":\"left\"},\"paper_bgcolor\":\"rgb(17,17,17)\",\"plot_bgcolor\":\"rgb(17,17,17)\",\"polar\":{\"bgcolor\":\"rgb(17,17,17)\",\"angularaxis\":{\"gridcolor\":\"#506784\",\"linecolor\":\"#506784\",\"ticks\":\"\"},\"radialaxis\":{\"gridcolor\":\"#506784\",\"linecolor\":\"#506784\",\"ticks\":\"\"}},\"ternary\":{\"bgcolor\":\"rgb(17,17,17)\",\"aaxis\":{\"gridcolor\":\"#506784\",\"linecolor\":\"#506784\",\"ticks\":\"\"},\"baxis\":{\"gridcolor\":\"#506784\",\"linecolor\":\"#506784\",\"ticks\":\"\"},\"caxis\":{\"gridcolor\":\"#506784\",\"linecolor\":\"#506784\",\"ticks\":\"\"}},\"coloraxis\":{\"colorbar\":{\"outlinewidth\":0,\"ticks\":\"\"}},\"colorscale\":{\"sequential\":[[0.0,\"#0d0887\"],[0.1111111111111111,\"#46039f\"],[0.2222222222222222,\"#7201a8\"],[0.3333333333333333,\"#9c179e\"],[0.4444444444444444,\"#bd3786\"],[0.5555555555555556,\"#d8576b\"],[0.6666666666666666,\"#ed7953\"],[0.7777777777777778,\"#fb9f3a\"],[0.8888888888888888,\"#fdca26\"],[1.0,\"#f0f921\"]],\"sequentialminus\":[[0.0,\"#0d0887\"],[0.1111111111111111,\"#46039f\"],[0.2222222222222222,\"#7201a8\"],[0.3333333333333333,\"#9c179e\"],[0.4444444444444444,\"#bd3786\"],[0.5555555555555556,\"#d8576b\"],[0.6666666666666666,\"#ed7953\"],[0.7777777777777778,\"#fb9f3a\"],[0.8888888888888888,\"#fdca26\"],[1.0,\"#f0f921\"]],\"diverging\":[[0,\"#8e0152\"],[0.1,\"#c51b7d\"],[0.2,\"#de77ae\"],[0.3,\"#f1b6da\"],[0.4,\"#fde0ef\"],[0.5,\"#f7f7f7\"],[0.6,\"#e6f5d0\"],[0.7,\"#b8e186\"],[0.8,\"#7fbc41\"],[0.9,\"#4d9221\"],[1,\"#276419\"]]},\"xaxis\":{\"gridcolor\":\"#283442\",\"linecolor\":\"#506784\",\"ticks\":\"\",\"title\":{\"standoff\":15},\"zerolinecolor\":\"#283442\",\"automargin\":true,\"zerolinewidth\":2},\"yaxis\":{\"gridcolor\":\"#283442\",\"linecolor\":\"#506784\",\"ticks\":\"\",\"title\":{\"standoff\":15},\"zerolinecolor\":\"#283442\",\"automargin\":true,\"zerolinewidth\":2},\"scene\":{\"xaxis\":{\"backgroundcolor\":\"rgb(17,17,17)\",\"gridcolor\":\"#506784\",\"linecolor\":\"#506784\",\"showbackground\":true,\"ticks\":\"\",\"zerolinecolor\":\"#C8D4E3\",\"gridwidth\":2},\"yaxis\":{\"backgroundcolor\":\"rgb(17,17,17)\",\"gridcolor\":\"#506784\",\"linecolor\":\"#506784\",\"showbackground\":true,\"ticks\":\"\",\"zerolinecolor\":\"#C8D4E3\",\"gridwidth\":2},\"zaxis\":{\"backgroundcolor\":\"rgb(17,17,17)\",\"gridcolor\":\"#506784\",\"linecolor\":\"#506784\",\"showbackground\":true,\"ticks\":\"\",\"zerolinecolor\":\"#C8D4E3\",\"gridwidth\":2}},\"shapedefaults\":{\"line\":{\"color\":\"#f2f5fa\"}},\"annotationdefaults\":{\"arrowcolor\":\"#f2f5fa\",\"arrowhead\":0,\"arrowwidth\":1},\"geo\":{\"bgcolor\":\"rgb(17,17,17)\",\"landcolor\":\"rgb(17,17,17)\",\"subunitcolor\":\"#506784\",\"showland\":true,\"showlakes\":true,\"lakecolor\":\"rgb(17,17,17)\"},\"title\":{\"x\":0.05},\"updatemenudefaults\":{\"bgcolor\":\"#506784\",\"borderwidth\":0},\"sliderdefaults\":{\"bgcolor\":\"#C8D4E3\",\"borderwidth\":1,\"bordercolor\":\"rgb(17,17,17)\",\"tickwidth\":0},\"mapbox\":{\"style\":\"dark\"}}},\"xaxis\":{\"anchor\":\"y\",\"domain\":[0.0,0.7363],\"title\":{\"text\":\"eventF1\"}},\"yaxis\":{\"anchor\":\"x\",\"domain\":[0.0,1.0],\"title\":{\"text\":\"eventRecall\"}},\"xaxis2\":{\"anchor\":\"y2\",\"domain\":[0.7413,1.0],\"matches\":\"x2\",\"showticklabels\":false,\"showline\":false,\"ticks\":\"\",\"showgrid\":true},\"yaxis2\":{\"anchor\":\"x2\",\"domain\":[0.0,1.0],\"matches\":\"y\",\"showticklabels\":false,\"showgrid\":true},\"legend\":{\"title\":{\"text\":\"test\"},\"tracegroupgap\":0},\"margin\":{\"t\":60},\"barmode\":\"overlay\"},                        {\"responsive\": true}                    ).then(function(){\n",
       "                            \n",
       "var gd = document.getElementById('c2582545-9f9b-41d8-bdf4-518006e46ee1');\n",
       "var x = new MutationObserver(function (mutations, observer) {{\n",
       "        var display = window.getComputedStyle(gd).display;\n",
       "        if (!display || display === 'none') {{\n",
       "            console.log([gd, 'removed!']);\n",
       "            Plotly.purge(gd);\n",
       "            observer.disconnect();\n",
       "        }}\n",
       "}});\n",
       "\n",
       "// Listen for the removal of the full notebook cells\n",
       "var notebookContainer = gd.closest('#notebook-container');\n",
       "if (notebookContainer) {{\n",
       "    x.observe(notebookContainer, {childList: true});\n",
       "}}\n",
       "\n",
       "// Listen for the clearing of the current output cell\n",
       "var outputEl = gd.closest('.output');\n",
       "if (outputEl) {{\n",
       "    x.observe(outputEl, {childList: true});\n",
       "}}\n",
       "\n",
       "                        })                };                });            </script>        </div>"
      ]
     },
     "metadata": {},
     "output_type": "display_data"
    }
   ],
   "execution_count": 78
  },
  {
   "cell_type": "code",
   "metadata": {
    "ExecuteTime": {
     "end_time": "2024-12-12T12:15:44.108175Z",
     "start_time": "2024-12-12T12:15:44.077445Z"
    }
   },
   "source": [
    "experimentModels[['test','eventF1','eventPrecision','eventRecall']].groupby('test').describe(percentiles=[0.5])"
   ],
   "outputs": [
    {
     "data": {
      "text/plain": [
       "     eventF1                                             eventPrecision  \\\n",
       "       count      mean std       min       50%       max          count   \n",
       "test                                                                      \n",
       "0002     1.0  0.666667 NaN  0.666667  0.666667  0.666667            1.0   \n",
       "0003     1.0  0.859840 NaN  0.859840  0.859840  0.859840            1.0   \n",
       "0004     1.0  0.789610 NaN  0.789610  0.789610  0.789610            1.0   \n",
       "0005     1.0  0.652125 NaN  0.652125  0.652125  0.652125            1.0   \n",
       "0006     1.0  0.696970 NaN  0.696970  0.696970  0.696970            1.0   \n",
       "0007     1.0  0.670478 NaN  0.670478  0.670478  0.670478            1.0   \n",
       "0008     1.0  0.476190 NaN  0.476190  0.476190  0.476190            1.0   \n",
       "\n",
       "                                                 eventRecall                \\\n",
       "          mean std       min       50%       max       count      mean std   \n",
       "test                                                                         \n",
       "0002  0.860656 NaN  0.860656  0.860656  0.860656         1.0  0.544041 NaN   \n",
       "0003  0.803419 NaN  0.803419  0.803419  0.803419         1.0  0.924877 NaN   \n",
       "0004  0.797900 NaN  0.797900  0.797900  0.797900         1.0  0.781491 NaN   \n",
       "0005  0.496599 NaN  0.496599  0.496599  0.496599         1.0  0.950980 NaN   \n",
       "0006  0.611307 NaN  0.611307  0.611307  0.611307         1.0  0.811321 NaN   \n",
       "0007  0.537438 NaN  0.537438  0.537438  0.537438         1.0  0.891967 NaN   \n",
       "0008  0.789474 NaN  0.789474  0.789474  0.789474         1.0  0.340909 NaN   \n",
       "\n",
       "                                    \n",
       "           min       50%       max  \n",
       "test                                \n",
       "0002  0.544041  0.544041  0.544041  \n",
       "0003  0.924877  0.924877  0.924877  \n",
       "0004  0.781491  0.781491  0.781491  \n",
       "0005  0.950980  0.950980  0.950980  \n",
       "0006  0.811321  0.811321  0.811321  \n",
       "0007  0.891967  0.891967  0.891967  \n",
       "0008  0.340909  0.340909  0.340909  "
      ],
      "text/html": [
       "<div>\n",
       "<style scoped>\n",
       "    .dataframe tbody tr th:only-of-type {\n",
       "        vertical-align: middle;\n",
       "    }\n",
       "\n",
       "    .dataframe tbody tr th {\n",
       "        vertical-align: top;\n",
       "    }\n",
       "\n",
       "    .dataframe thead tr th {\n",
       "        text-align: left;\n",
       "    }\n",
       "\n",
       "    .dataframe thead tr:last-of-type th {\n",
       "        text-align: right;\n",
       "    }\n",
       "</style>\n",
       "<table border=\"1\" class=\"dataframe\">\n",
       "  <thead>\n",
       "    <tr>\n",
       "      <th></th>\n",
       "      <th colspan=\"6\" halign=\"left\">eventF1</th>\n",
       "      <th colspan=\"6\" halign=\"left\">eventPrecision</th>\n",
       "      <th colspan=\"6\" halign=\"left\">eventRecall</th>\n",
       "    </tr>\n",
       "    <tr>\n",
       "      <th></th>\n",
       "      <th>count</th>\n",
       "      <th>mean</th>\n",
       "      <th>std</th>\n",
       "      <th>min</th>\n",
       "      <th>50%</th>\n",
       "      <th>max</th>\n",
       "      <th>count</th>\n",
       "      <th>mean</th>\n",
       "      <th>std</th>\n",
       "      <th>min</th>\n",
       "      <th>50%</th>\n",
       "      <th>max</th>\n",
       "      <th>count</th>\n",
       "      <th>mean</th>\n",
       "      <th>std</th>\n",
       "      <th>min</th>\n",
       "      <th>50%</th>\n",
       "      <th>max</th>\n",
       "    </tr>\n",
       "    <tr>\n",
       "      <th>test</th>\n",
       "      <th></th>\n",
       "      <th></th>\n",
       "      <th></th>\n",
       "      <th></th>\n",
       "      <th></th>\n",
       "      <th></th>\n",
       "      <th></th>\n",
       "      <th></th>\n",
       "      <th></th>\n",
       "      <th></th>\n",
       "      <th></th>\n",
       "      <th></th>\n",
       "      <th></th>\n",
       "      <th></th>\n",
       "      <th></th>\n",
       "      <th></th>\n",
       "      <th></th>\n",
       "      <th></th>\n",
       "    </tr>\n",
       "  </thead>\n",
       "  <tbody>\n",
       "    <tr>\n",
       "      <th>0002</th>\n",
       "      <td>1.0</td>\n",
       "      <td>0.666667</td>\n",
       "      <td>NaN</td>\n",
       "      <td>0.666667</td>\n",
       "      <td>0.666667</td>\n",
       "      <td>0.666667</td>\n",
       "      <td>1.0</td>\n",
       "      <td>0.860656</td>\n",
       "      <td>NaN</td>\n",
       "      <td>0.860656</td>\n",
       "      <td>0.860656</td>\n",
       "      <td>0.860656</td>\n",
       "      <td>1.0</td>\n",
       "      <td>0.544041</td>\n",
       "      <td>NaN</td>\n",
       "      <td>0.544041</td>\n",
       "      <td>0.544041</td>\n",
       "      <td>0.544041</td>\n",
       "    </tr>\n",
       "    <tr>\n",
       "      <th>0003</th>\n",
       "      <td>1.0</td>\n",
       "      <td>0.859840</td>\n",
       "      <td>NaN</td>\n",
       "      <td>0.859840</td>\n",
       "      <td>0.859840</td>\n",
       "      <td>0.859840</td>\n",
       "      <td>1.0</td>\n",
       "      <td>0.803419</td>\n",
       "      <td>NaN</td>\n",
       "      <td>0.803419</td>\n",
       "      <td>0.803419</td>\n",
       "      <td>0.803419</td>\n",
       "      <td>1.0</td>\n",
       "      <td>0.924877</td>\n",
       "      <td>NaN</td>\n",
       "      <td>0.924877</td>\n",
       "      <td>0.924877</td>\n",
       "      <td>0.924877</td>\n",
       "    </tr>\n",
       "    <tr>\n",
       "      <th>0004</th>\n",
       "      <td>1.0</td>\n",
       "      <td>0.789610</td>\n",
       "      <td>NaN</td>\n",
       "      <td>0.789610</td>\n",
       "      <td>0.789610</td>\n",
       "      <td>0.789610</td>\n",
       "      <td>1.0</td>\n",
       "      <td>0.797900</td>\n",
       "      <td>NaN</td>\n",
       "      <td>0.797900</td>\n",
       "      <td>0.797900</td>\n",
       "      <td>0.797900</td>\n",
       "      <td>1.0</td>\n",
       "      <td>0.781491</td>\n",
       "      <td>NaN</td>\n",
       "      <td>0.781491</td>\n",
       "      <td>0.781491</td>\n",
       "      <td>0.781491</td>\n",
       "    </tr>\n",
       "    <tr>\n",
       "      <th>0005</th>\n",
       "      <td>1.0</td>\n",
       "      <td>0.652125</td>\n",
       "      <td>NaN</td>\n",
       "      <td>0.652125</td>\n",
       "      <td>0.652125</td>\n",
       "      <td>0.652125</td>\n",
       "      <td>1.0</td>\n",
       "      <td>0.496599</td>\n",
       "      <td>NaN</td>\n",
       "      <td>0.496599</td>\n",
       "      <td>0.496599</td>\n",
       "      <td>0.496599</td>\n",
       "      <td>1.0</td>\n",
       "      <td>0.950980</td>\n",
       "      <td>NaN</td>\n",
       "      <td>0.950980</td>\n",
       "      <td>0.950980</td>\n",
       "      <td>0.950980</td>\n",
       "    </tr>\n",
       "    <tr>\n",
       "      <th>0006</th>\n",
       "      <td>1.0</td>\n",
       "      <td>0.696970</td>\n",
       "      <td>NaN</td>\n",
       "      <td>0.696970</td>\n",
       "      <td>0.696970</td>\n",
       "      <td>0.696970</td>\n",
       "      <td>1.0</td>\n",
       "      <td>0.611307</td>\n",
       "      <td>NaN</td>\n",
       "      <td>0.611307</td>\n",
       "      <td>0.611307</td>\n",
       "      <td>0.611307</td>\n",
       "      <td>1.0</td>\n",
       "      <td>0.811321</td>\n",
       "      <td>NaN</td>\n",
       "      <td>0.811321</td>\n",
       "      <td>0.811321</td>\n",
       "      <td>0.811321</td>\n",
       "    </tr>\n",
       "    <tr>\n",
       "      <th>0007</th>\n",
       "      <td>1.0</td>\n",
       "      <td>0.670478</td>\n",
       "      <td>NaN</td>\n",
       "      <td>0.670478</td>\n",
       "      <td>0.670478</td>\n",
       "      <td>0.670478</td>\n",
       "      <td>1.0</td>\n",
       "      <td>0.537438</td>\n",
       "      <td>NaN</td>\n",
       "      <td>0.537438</td>\n",
       "      <td>0.537438</td>\n",
       "      <td>0.537438</td>\n",
       "      <td>1.0</td>\n",
       "      <td>0.891967</td>\n",
       "      <td>NaN</td>\n",
       "      <td>0.891967</td>\n",
       "      <td>0.891967</td>\n",
       "      <td>0.891967</td>\n",
       "    </tr>\n",
       "    <tr>\n",
       "      <th>0008</th>\n",
       "      <td>1.0</td>\n",
       "      <td>0.476190</td>\n",
       "      <td>NaN</td>\n",
       "      <td>0.476190</td>\n",
       "      <td>0.476190</td>\n",
       "      <td>0.476190</td>\n",
       "      <td>1.0</td>\n",
       "      <td>0.789474</td>\n",
       "      <td>NaN</td>\n",
       "      <td>0.789474</td>\n",
       "      <td>0.789474</td>\n",
       "      <td>0.789474</td>\n",
       "      <td>1.0</td>\n",
       "      <td>0.340909</td>\n",
       "      <td>NaN</td>\n",
       "      <td>0.340909</td>\n",
       "      <td>0.340909</td>\n",
       "      <td>0.340909</td>\n",
       "    </tr>\n",
       "  </tbody>\n",
       "</table>\n",
       "</div>"
      ]
     },
     "execution_count": 79,
     "metadata": {},
     "output_type": "execute_result"
    }
   ],
   "execution_count": 79
  },
  {
   "cell_type": "markdown",
   "metadata": {},
   "source": [
    "by-event"
   ]
  },
  {
   "cell_type": "code",
   "metadata": {
    "ExecuteTime": {
     "end_time": "2024-12-12T12:15:44.170351Z",
     "start_time": "2024-12-12T12:15:44.154426Z"
    }
   },
   "source": [
    "experimentModels[['test','eventF1','eventPrecision','eventRecall']].groupby('test',as_index=False).mean()"
   ],
   "outputs": [
    {
     "data": {
      "text/plain": [
       "   test   eventF1  eventPrecision  eventRecall\n",
       "0  0002  0.666667        0.860656     0.544041\n",
       "1  0003  0.859840        0.803419     0.924877\n",
       "2  0004  0.789610        0.797900     0.781491\n",
       "3  0005  0.652125        0.496599     0.950980\n",
       "4  0006  0.696970        0.611307     0.811321\n",
       "5  0007  0.670478        0.537438     0.891967\n",
       "6  0008  0.476190        0.789474     0.340909"
      ],
      "text/html": [
       "<div>\n",
       "<style scoped>\n",
       "    .dataframe tbody tr th:only-of-type {\n",
       "        vertical-align: middle;\n",
       "    }\n",
       "\n",
       "    .dataframe tbody tr th {\n",
       "        vertical-align: top;\n",
       "    }\n",
       "\n",
       "    .dataframe thead th {\n",
       "        text-align: right;\n",
       "    }\n",
       "</style>\n",
       "<table border=\"1\" class=\"dataframe\">\n",
       "  <thead>\n",
       "    <tr style=\"text-align: right;\">\n",
       "      <th></th>\n",
       "      <th>test</th>\n",
       "      <th>eventF1</th>\n",
       "      <th>eventPrecision</th>\n",
       "      <th>eventRecall</th>\n",
       "    </tr>\n",
       "  </thead>\n",
       "  <tbody>\n",
       "    <tr>\n",
       "      <th>0</th>\n",
       "      <td>0002</td>\n",
       "      <td>0.666667</td>\n",
       "      <td>0.860656</td>\n",
       "      <td>0.544041</td>\n",
       "    </tr>\n",
       "    <tr>\n",
       "      <th>1</th>\n",
       "      <td>0003</td>\n",
       "      <td>0.859840</td>\n",
       "      <td>0.803419</td>\n",
       "      <td>0.924877</td>\n",
       "    </tr>\n",
       "    <tr>\n",
       "      <th>2</th>\n",
       "      <td>0004</td>\n",
       "      <td>0.789610</td>\n",
       "      <td>0.797900</td>\n",
       "      <td>0.781491</td>\n",
       "    </tr>\n",
       "    <tr>\n",
       "      <th>3</th>\n",
       "      <td>0005</td>\n",
       "      <td>0.652125</td>\n",
       "      <td>0.496599</td>\n",
       "      <td>0.950980</td>\n",
       "    </tr>\n",
       "    <tr>\n",
       "      <th>4</th>\n",
       "      <td>0006</td>\n",
       "      <td>0.696970</td>\n",
       "      <td>0.611307</td>\n",
       "      <td>0.811321</td>\n",
       "    </tr>\n",
       "    <tr>\n",
       "      <th>5</th>\n",
       "      <td>0007</td>\n",
       "      <td>0.670478</td>\n",
       "      <td>0.537438</td>\n",
       "      <td>0.891967</td>\n",
       "    </tr>\n",
       "    <tr>\n",
       "      <th>6</th>\n",
       "      <td>0008</td>\n",
       "      <td>0.476190</td>\n",
       "      <td>0.789474</td>\n",
       "      <td>0.340909</td>\n",
       "    </tr>\n",
       "  </tbody>\n",
       "</table>\n",
       "</div>"
      ]
     },
     "execution_count": 80,
     "metadata": {},
     "output_type": "execute_result"
    }
   ],
   "execution_count": 80
  },
  {
   "cell_type": "code",
   "metadata": {
    "ExecuteTime": {
     "end_time": "2024-12-12T12:15:44.247698Z",
     "start_time": "2024-12-12T12:15:44.232527Z"
    }
   },
   "source": [
    "experimentModels[['test','eventF1','eventPrecision','eventRecall']].groupby('test',as_index=False).mean().mean()"
   ],
   "outputs": [
    {
     "data": {
      "text/plain": [
       "test              2.857571e+23\n",
       "eventF1           6.874115e-01\n",
       "eventPrecision    6.995417e-01\n",
       "eventRecall       7.493695e-01\n",
       "dtype: float64"
      ]
     },
     "execution_count": 81,
     "metadata": {},
     "output_type": "execute_result"
    }
   ],
   "execution_count": 81
  },
  {
   "cell_type": "code",
   "metadata": {
    "ExecuteTime": {
     "end_time": "2024-12-12T12:15:44.529242Z",
     "start_time": "2024-12-12T12:15:44.514065Z"
    }
   },
   "source": [
    "experimentModels[['test','eventF1','eventPrecision','eventRecall']].groupby('test',as_index=False).mean().std()"
   ],
   "outputs": [
    {
     "name": "stderr",
     "output_type": "stream",
     "text": [
      "C:\\Users\\GIB\\AppData\\Local\\Temp\\ipykernel_13108\\2599554826.py:1: FutureWarning:\n",
      "\n",
      "The default value of numeric_only in DataFrame.std is deprecated. In a future version, it will default to False. In addition, specifying 'numeric_only=None' is deprecated. Select only valid columns or specify the value of numeric_only to silence this warning.\n",
      "\n"
     ]
    },
    {
     "data": {
      "text/plain": [
       "eventF1           0.120308\n",
       "eventPrecision    0.147060\n",
       "eventRecall       0.225704\n",
       "dtype: float64"
      ]
     },
     "execution_count": 82,
     "metadata": {},
     "output_type": "execute_result"
    }
   ],
   "execution_count": 82
  },
  {
   "cell_type": "markdown",
   "metadata": {},
   "source": [
    "by-sample"
   ]
  },
  {
   "cell_type": "code",
   "metadata": {
    "ExecuteTime": {
     "end_time": "2024-12-12T12:15:44.715864Z",
     "start_time": "2024-12-12T12:15:44.700216Z"
    }
   },
   "source": [
    "experimentModels[['test','f1','precision','recall']].groupby('test',as_index=False).mean().mean()"
   ],
   "outputs": [
    {
     "data": {
      "text/plain": [
       "test         2.857571e+23\n",
       "f1           6.367077e-01\n",
       "precision    6.827891e-01\n",
       "recall       6.713402e-01\n",
       "dtype: float64"
      ]
     },
     "execution_count": 83,
     "metadata": {},
     "output_type": "execute_result"
    }
   ],
   "execution_count": 83
  },
  {
   "cell_type": "code",
   "metadata": {
    "ExecuteTime": {
     "end_time": "2024-12-12T12:15:44.778209Z",
     "start_time": "2024-12-12T12:15:44.763012Z"
    }
   },
   "source": [
    "experimentModels[['test','f1','precision','recall']].groupby('test',as_index=False).mean().std()"
   ],
   "outputs": [
    {
     "name": "stderr",
     "output_type": "stream",
     "text": [
      "C:\\Users\\GIB\\AppData\\Local\\Temp\\ipykernel_13108\\319227537.py:1: FutureWarning:\n",
      "\n",
      "The default value of numeric_only in DataFrame.std is deprecated. In a future version, it will default to False. In addition, specifying 'numeric_only=None' is deprecated. Select only valid columns or specify the value of numeric_only to silence this warning.\n",
      "\n"
     ]
    },
    {
     "data": {
      "text/plain": [
       "f1           0.105761\n",
       "precision    0.156370\n",
       "recall       0.212506\n",
       "dtype: float64"
      ]
     },
     "execution_count": 84,
     "metadata": {},
     "output_type": "execute_result"
    }
   ],
   "execution_count": 84
  },
  {
   "cell_type": "code",
   "metadata": {
    "ExecuteTime": {
     "end_time": "2024-12-12T12:15:44.857211Z",
     "start_time": "2024-12-12T12:15:44.853787Z"
    }
   },
   "source": [
    "auxPrecision=pd.DataFrame({\n",
    "    'metric':'event precision',\n",
    "    'value':experimentModels.eventPrecision,\n",
    "    'event F1':experimentModels.eventF1\n",
    "})\n",
    "\n",
    "auxRecall=pd.DataFrame({\n",
    "    'metric':'event recall',\n",
    "    'value':experimentModels.eventRecall,\n",
    "    'event F1':experimentModels.eventF1\n",
    "})\n",
    "visualTradeoff=pd.concat((auxPrecision,auxRecall))"
   ],
   "outputs": [],
   "execution_count": 85
  },
  {
   "cell_type": "code",
   "metadata": {
    "ExecuteTime": {
     "end_time": "2024-12-12T12:15:44.934724Z",
     "start_time": "2024-12-12T12:15:44.891399Z"
    }
   },
   "source": [
    "fig=px.scatter(visualTradeoff,x='event F1',y='value',color='metric', marginal_y=\"histogram\")\n",
    "fig.add_trace(\n",
    "    go.Scatter(x=experimentModels['eventF1'], y=experimentModels['eventF1'], name=\"identity\", mode='lines',fill=\"toself\")\n",
    ")\n",
    "fig.show()"
   ],
   "outputs": [
    {
     "data": {
      "application/vnd.plotly.v1+json": {
       "data": [
        {
         "hovertemplate": "metric=event precision<br>event F1=%{x}<br>value=%{y}<extra></extra>",
         "legendgroup": "event precision",
         "marker": {
          "color": "#636efa",
          "symbol": "circle"
         },
         "mode": "markers",
         "name": "event precision",
         "orientation": "v",
         "showlegend": true,
         "x": [
          0.6666666666666666,
          0.8598398169336384,
          0.7896103896103897,
          0.6521252796420581,
          0.696969696969697,
          0.6704781704781705,
          0.47619047619047616
         ],
         "xaxis": "x",
         "y": [
          0.860655737704918,
          0.8034188034188035,
          0.7979002624671916,
          0.4965986394557823,
          0.6113074204946997,
          0.5374376039933444,
          0.7894736842105263
         ],
         "yaxis": "y",
         "type": "scatter"
        },
        {
         "alignmentgroup": "True",
         "bingroup": "y",
         "hovertemplate": "metric=event precision<br>value=%{y}<br>count=%{x}<extra></extra>",
         "legendgroup": "event precision",
         "marker": {
          "color": "#636efa"
         },
         "name": "event precision",
         "offsetgroup": "event precision",
         "opacity": 0.5,
         "showlegend": false,
         "xaxis": "x2",
         "y": [
          0.860655737704918,
          0.8034188034188035,
          0.7979002624671916,
          0.4965986394557823,
          0.6113074204946997,
          0.5374376039933444,
          0.7894736842105263
         ],
         "yaxis": "y2",
         "type": "histogram"
        },
        {
         "hovertemplate": "metric=event recall<br>event F1=%{x}<br>value=%{y}<extra></extra>",
         "legendgroup": "event recall",
         "marker": {
          "color": "#EF553B",
          "symbol": "circle"
         },
         "mode": "markers",
         "name": "event recall",
         "orientation": "v",
         "showlegend": true,
         "x": [
          0.6666666666666666,
          0.8598398169336384,
          0.7896103896103897,
          0.6521252796420581,
          0.696969696969697,
          0.6704781704781705,
          0.47619047619047616
         ],
         "xaxis": "x",
         "y": [
          0.5440414507772021,
          0.9248768472906403,
          0.781491002570694,
          0.9509803921568627,
          0.8113207547169812,
          0.8919667590027701,
          0.3409090909090909
         ],
         "yaxis": "y",
         "type": "scatter"
        },
        {
         "alignmentgroup": "True",
         "bingroup": "y",
         "hovertemplate": "metric=event recall<br>value=%{y}<br>count=%{x}<extra></extra>",
         "legendgroup": "event recall",
         "marker": {
          "color": "#EF553B"
         },
         "name": "event recall",
         "offsetgroup": "event recall",
         "opacity": 0.5,
         "showlegend": false,
         "xaxis": "x2",
         "y": [
          0.5440414507772021,
          0.9248768472906403,
          0.781491002570694,
          0.9509803921568627,
          0.8113207547169812,
          0.8919667590027701,
          0.3409090909090909
         ],
         "yaxis": "y2",
         "type": "histogram"
        },
        {
         "fill": "toself",
         "mode": "lines",
         "name": "identity",
         "x": [
          0.6666666666666666,
          0.8598398169336384,
          0.7896103896103897,
          0.6521252796420581,
          0.696969696969697,
          0.6704781704781705,
          0.47619047619047616
         ],
         "y": [
          0.6666666666666666,
          0.8598398169336384,
          0.7896103896103897,
          0.6521252796420581,
          0.696969696969697,
          0.6704781704781705,
          0.47619047619047616
         ],
         "type": "scatter"
        }
       ],
       "layout": {
        "template": {
         "data": {
          "histogram2dcontour": [
           {
            "type": "histogram2dcontour",
            "colorbar": {
             "outlinewidth": 0,
             "ticks": ""
            },
            "colorscale": [
             [
              0.0,
              "#0d0887"
             ],
             [
              0.1111111111111111,
              "#46039f"
             ],
             [
              0.2222222222222222,
              "#7201a8"
             ],
             [
              0.3333333333333333,
              "#9c179e"
             ],
             [
              0.4444444444444444,
              "#bd3786"
             ],
             [
              0.5555555555555556,
              "#d8576b"
             ],
             [
              0.6666666666666666,
              "#ed7953"
             ],
             [
              0.7777777777777778,
              "#fb9f3a"
             ],
             [
              0.8888888888888888,
              "#fdca26"
             ],
             [
              1.0,
              "#f0f921"
             ]
            ]
           }
          ],
          "choropleth": [
           {
            "type": "choropleth",
            "colorbar": {
             "outlinewidth": 0,
             "ticks": ""
            }
           }
          ],
          "histogram2d": [
           {
            "type": "histogram2d",
            "colorbar": {
             "outlinewidth": 0,
             "ticks": ""
            },
            "colorscale": [
             [
              0.0,
              "#0d0887"
             ],
             [
              0.1111111111111111,
              "#46039f"
             ],
             [
              0.2222222222222222,
              "#7201a8"
             ],
             [
              0.3333333333333333,
              "#9c179e"
             ],
             [
              0.4444444444444444,
              "#bd3786"
             ],
             [
              0.5555555555555556,
              "#d8576b"
             ],
             [
              0.6666666666666666,
              "#ed7953"
             ],
             [
              0.7777777777777778,
              "#fb9f3a"
             ],
             [
              0.8888888888888888,
              "#fdca26"
             ],
             [
              1.0,
              "#f0f921"
             ]
            ]
           }
          ],
          "heatmap": [
           {
            "type": "heatmap",
            "colorbar": {
             "outlinewidth": 0,
             "ticks": ""
            },
            "colorscale": [
             [
              0.0,
              "#0d0887"
             ],
             [
              0.1111111111111111,
              "#46039f"
             ],
             [
              0.2222222222222222,
              "#7201a8"
             ],
             [
              0.3333333333333333,
              "#9c179e"
             ],
             [
              0.4444444444444444,
              "#bd3786"
             ],
             [
              0.5555555555555556,
              "#d8576b"
             ],
             [
              0.6666666666666666,
              "#ed7953"
             ],
             [
              0.7777777777777778,
              "#fb9f3a"
             ],
             [
              0.8888888888888888,
              "#fdca26"
             ],
             [
              1.0,
              "#f0f921"
             ]
            ]
           }
          ],
          "heatmapgl": [
           {
            "type": "heatmapgl",
            "colorbar": {
             "outlinewidth": 0,
             "ticks": ""
            },
            "colorscale": [
             [
              0.0,
              "#0d0887"
             ],
             [
              0.1111111111111111,
              "#46039f"
             ],
             [
              0.2222222222222222,
              "#7201a8"
             ],
             [
              0.3333333333333333,
              "#9c179e"
             ],
             [
              0.4444444444444444,
              "#bd3786"
             ],
             [
              0.5555555555555556,
              "#d8576b"
             ],
             [
              0.6666666666666666,
              "#ed7953"
             ],
             [
              0.7777777777777778,
              "#fb9f3a"
             ],
             [
              0.8888888888888888,
              "#fdca26"
             ],
             [
              1.0,
              "#f0f921"
             ]
            ]
           }
          ],
          "contourcarpet": [
           {
            "type": "contourcarpet",
            "colorbar": {
             "outlinewidth": 0,
             "ticks": ""
            }
           }
          ],
          "contour": [
           {
            "type": "contour",
            "colorbar": {
             "outlinewidth": 0,
             "ticks": ""
            },
            "colorscale": [
             [
              0.0,
              "#0d0887"
             ],
             [
              0.1111111111111111,
              "#46039f"
             ],
             [
              0.2222222222222222,
              "#7201a8"
             ],
             [
              0.3333333333333333,
              "#9c179e"
             ],
             [
              0.4444444444444444,
              "#bd3786"
             ],
             [
              0.5555555555555556,
              "#d8576b"
             ],
             [
              0.6666666666666666,
              "#ed7953"
             ],
             [
              0.7777777777777778,
              "#fb9f3a"
             ],
             [
              0.8888888888888888,
              "#fdca26"
             ],
             [
              1.0,
              "#f0f921"
             ]
            ]
           }
          ],
          "surface": [
           {
            "type": "surface",
            "colorbar": {
             "outlinewidth": 0,
             "ticks": ""
            },
            "colorscale": [
             [
              0.0,
              "#0d0887"
             ],
             [
              0.1111111111111111,
              "#46039f"
             ],
             [
              0.2222222222222222,
              "#7201a8"
             ],
             [
              0.3333333333333333,
              "#9c179e"
             ],
             [
              0.4444444444444444,
              "#bd3786"
             ],
             [
              0.5555555555555556,
              "#d8576b"
             ],
             [
              0.6666666666666666,
              "#ed7953"
             ],
             [
              0.7777777777777778,
              "#fb9f3a"
             ],
             [
              0.8888888888888888,
              "#fdca26"
             ],
             [
              1.0,
              "#f0f921"
             ]
            ]
           }
          ],
          "mesh3d": [
           {
            "type": "mesh3d",
            "colorbar": {
             "outlinewidth": 0,
             "ticks": ""
            }
           }
          ],
          "scatter": [
           {
            "marker": {
             "line": {
              "color": "#283442"
             }
            },
            "type": "scatter"
           }
          ],
          "parcoords": [
           {
            "type": "parcoords",
            "line": {
             "colorbar": {
              "outlinewidth": 0,
              "ticks": ""
             }
            }
           }
          ],
          "scatterpolargl": [
           {
            "type": "scatterpolargl",
            "marker": {
             "colorbar": {
              "outlinewidth": 0,
              "ticks": ""
             }
            }
           }
          ],
          "bar": [
           {
            "error_x": {
             "color": "#f2f5fa"
            },
            "error_y": {
             "color": "#f2f5fa"
            },
            "marker": {
             "line": {
              "color": "rgb(17,17,17)",
              "width": 0.5
             },
             "pattern": {
              "fillmode": "overlay",
              "size": 10,
              "solidity": 0.2
             }
            },
            "type": "bar"
           }
          ],
          "scattergeo": [
           {
            "type": "scattergeo",
            "marker": {
             "colorbar": {
              "outlinewidth": 0,
              "ticks": ""
             }
            }
           }
          ],
          "scatterpolar": [
           {
            "type": "scatterpolar",
            "marker": {
             "colorbar": {
              "outlinewidth": 0,
              "ticks": ""
             }
            }
           }
          ],
          "histogram": [
           {
            "marker": {
             "pattern": {
              "fillmode": "overlay",
              "size": 10,
              "solidity": 0.2
             }
            },
            "type": "histogram"
           }
          ],
          "scattergl": [
           {
            "marker": {
             "line": {
              "color": "#283442"
             }
            },
            "type": "scattergl"
           }
          ],
          "scatter3d": [
           {
            "type": "scatter3d",
            "line": {
             "colorbar": {
              "outlinewidth": 0,
              "ticks": ""
             }
            },
            "marker": {
             "colorbar": {
              "outlinewidth": 0,
              "ticks": ""
             }
            }
           }
          ],
          "scattermapbox": [
           {
            "type": "scattermapbox",
            "marker": {
             "colorbar": {
              "outlinewidth": 0,
              "ticks": ""
             }
            }
           }
          ],
          "scatterternary": [
           {
            "type": "scatterternary",
            "marker": {
             "colorbar": {
              "outlinewidth": 0,
              "ticks": ""
             }
            }
           }
          ],
          "scattercarpet": [
           {
            "type": "scattercarpet",
            "marker": {
             "colorbar": {
              "outlinewidth": 0,
              "ticks": ""
             }
            }
           }
          ],
          "carpet": [
           {
            "aaxis": {
             "endlinecolor": "#A2B1C6",
             "gridcolor": "#506784",
             "linecolor": "#506784",
             "minorgridcolor": "#506784",
             "startlinecolor": "#A2B1C6"
            },
            "baxis": {
             "endlinecolor": "#A2B1C6",
             "gridcolor": "#506784",
             "linecolor": "#506784",
             "minorgridcolor": "#506784",
             "startlinecolor": "#A2B1C6"
            },
            "type": "carpet"
           }
          ],
          "table": [
           {
            "cells": {
             "fill": {
              "color": "#506784"
             },
             "line": {
              "color": "rgb(17,17,17)"
             }
            },
            "header": {
             "fill": {
              "color": "#2a3f5f"
             },
             "line": {
              "color": "rgb(17,17,17)"
             }
            },
            "type": "table"
           }
          ],
          "barpolar": [
           {
            "marker": {
             "line": {
              "color": "rgb(17,17,17)",
              "width": 0.5
             },
             "pattern": {
              "fillmode": "overlay",
              "size": 10,
              "solidity": 0.2
             }
            },
            "type": "barpolar"
           }
          ],
          "pie": [
           {
            "automargin": true,
            "type": "pie"
           }
          ]
         },
         "layout": {
          "autotypenumbers": "strict",
          "colorway": [
           "#636efa",
           "#EF553B",
           "#00cc96",
           "#ab63fa",
           "#FFA15A",
           "#19d3f3",
           "#FF6692",
           "#B6E880",
           "#FF97FF",
           "#FECB52"
          ],
          "font": {
           "color": "#f2f5fa"
          },
          "hovermode": "closest",
          "hoverlabel": {
           "align": "left"
          },
          "paper_bgcolor": "rgb(17,17,17)",
          "plot_bgcolor": "rgb(17,17,17)",
          "polar": {
           "bgcolor": "rgb(17,17,17)",
           "angularaxis": {
            "gridcolor": "#506784",
            "linecolor": "#506784",
            "ticks": ""
           },
           "radialaxis": {
            "gridcolor": "#506784",
            "linecolor": "#506784",
            "ticks": ""
           }
          },
          "ternary": {
           "bgcolor": "rgb(17,17,17)",
           "aaxis": {
            "gridcolor": "#506784",
            "linecolor": "#506784",
            "ticks": ""
           },
           "baxis": {
            "gridcolor": "#506784",
            "linecolor": "#506784",
            "ticks": ""
           },
           "caxis": {
            "gridcolor": "#506784",
            "linecolor": "#506784",
            "ticks": ""
           }
          },
          "coloraxis": {
           "colorbar": {
            "outlinewidth": 0,
            "ticks": ""
           }
          },
          "colorscale": {
           "sequential": [
            [
             0.0,
             "#0d0887"
            ],
            [
             0.1111111111111111,
             "#46039f"
            ],
            [
             0.2222222222222222,
             "#7201a8"
            ],
            [
             0.3333333333333333,
             "#9c179e"
            ],
            [
             0.4444444444444444,
             "#bd3786"
            ],
            [
             0.5555555555555556,
             "#d8576b"
            ],
            [
             0.6666666666666666,
             "#ed7953"
            ],
            [
             0.7777777777777778,
             "#fb9f3a"
            ],
            [
             0.8888888888888888,
             "#fdca26"
            ],
            [
             1.0,
             "#f0f921"
            ]
           ],
           "sequentialminus": [
            [
             0.0,
             "#0d0887"
            ],
            [
             0.1111111111111111,
             "#46039f"
            ],
            [
             0.2222222222222222,
             "#7201a8"
            ],
            [
             0.3333333333333333,
             "#9c179e"
            ],
            [
             0.4444444444444444,
             "#bd3786"
            ],
            [
             0.5555555555555556,
             "#d8576b"
            ],
            [
             0.6666666666666666,
             "#ed7953"
            ],
            [
             0.7777777777777778,
             "#fb9f3a"
            ],
            [
             0.8888888888888888,
             "#fdca26"
            ],
            [
             1.0,
             "#f0f921"
            ]
           ],
           "diverging": [
            [
             0,
             "#8e0152"
            ],
            [
             0.1,
             "#c51b7d"
            ],
            [
             0.2,
             "#de77ae"
            ],
            [
             0.3,
             "#f1b6da"
            ],
            [
             0.4,
             "#fde0ef"
            ],
            [
             0.5,
             "#f7f7f7"
            ],
            [
             0.6,
             "#e6f5d0"
            ],
            [
             0.7,
             "#b8e186"
            ],
            [
             0.8,
             "#7fbc41"
            ],
            [
             0.9,
             "#4d9221"
            ],
            [
             1,
             "#276419"
            ]
           ]
          },
          "xaxis": {
           "gridcolor": "#283442",
           "linecolor": "#506784",
           "ticks": "",
           "title": {
            "standoff": 15
           },
           "zerolinecolor": "#283442",
           "automargin": true,
           "zerolinewidth": 2
          },
          "yaxis": {
           "gridcolor": "#283442",
           "linecolor": "#506784",
           "ticks": "",
           "title": {
            "standoff": 15
           },
           "zerolinecolor": "#283442",
           "automargin": true,
           "zerolinewidth": 2
          },
          "scene": {
           "xaxis": {
            "backgroundcolor": "rgb(17,17,17)",
            "gridcolor": "#506784",
            "linecolor": "#506784",
            "showbackground": true,
            "ticks": "",
            "zerolinecolor": "#C8D4E3",
            "gridwidth": 2
           },
           "yaxis": {
            "backgroundcolor": "rgb(17,17,17)",
            "gridcolor": "#506784",
            "linecolor": "#506784",
            "showbackground": true,
            "ticks": "",
            "zerolinecolor": "#C8D4E3",
            "gridwidth": 2
           },
           "zaxis": {
            "backgroundcolor": "rgb(17,17,17)",
            "gridcolor": "#506784",
            "linecolor": "#506784",
            "showbackground": true,
            "ticks": "",
            "zerolinecolor": "#C8D4E3",
            "gridwidth": 2
           }
          },
          "shapedefaults": {
           "line": {
            "color": "#f2f5fa"
           }
          },
          "annotationdefaults": {
           "arrowcolor": "#f2f5fa",
           "arrowhead": 0,
           "arrowwidth": 1
          },
          "geo": {
           "bgcolor": "rgb(17,17,17)",
           "landcolor": "rgb(17,17,17)",
           "subunitcolor": "#506784",
           "showland": true,
           "showlakes": true,
           "lakecolor": "rgb(17,17,17)"
          },
          "title": {
           "x": 0.05
          },
          "updatemenudefaults": {
           "bgcolor": "#506784",
           "borderwidth": 0
          },
          "sliderdefaults": {
           "bgcolor": "#C8D4E3",
           "borderwidth": 1,
           "bordercolor": "rgb(17,17,17)",
           "tickwidth": 0
          },
          "mapbox": {
           "style": "dark"
          }
         }
        },
        "xaxis": {
         "anchor": "y",
         "domain": [
          0.0,
          0.7363
         ],
         "title": {
          "text": "event F1"
         }
        },
        "yaxis": {
         "anchor": "x",
         "domain": [
          0.0,
          1.0
         ],
         "title": {
          "text": "value"
         }
        },
        "xaxis2": {
         "anchor": "y2",
         "domain": [
          0.7413,
          1.0
         ],
         "matches": "x2",
         "showticklabels": false,
         "showline": false,
         "ticks": "",
         "showgrid": true
        },
        "yaxis2": {
         "anchor": "x2",
         "domain": [
          0.0,
          1.0
         ],
         "matches": "y",
         "showticklabels": false,
         "showgrid": true
        },
        "legend": {
         "title": {
          "text": "metric"
         },
         "tracegroupgap": 0
        },
        "margin": {
         "t": 60
        },
        "barmode": "overlay"
       },
       "config": {
        "plotlyServerURL": "https://plot.ly"
       }
      },
      "text/html": [
       "<div>                            <div id=\"87574642-c662-445d-9849-46d8f8e0221e\" class=\"plotly-graph-div\" style=\"height:525px; width:100%;\"></div>            <script type=\"text/javascript\">                require([\"plotly\"], function(Plotly) {                    window.PLOTLYENV=window.PLOTLYENV || {};                                    if (document.getElementById(\"87574642-c662-445d-9849-46d8f8e0221e\")) {                    Plotly.newPlot(                        \"87574642-c662-445d-9849-46d8f8e0221e\",                        [{\"hovertemplate\":\"metric=event precision<br>event F1=%{x}<br>value=%{y}<extra></extra>\",\"legendgroup\":\"event precision\",\"marker\":{\"color\":\"#636efa\",\"symbol\":\"circle\"},\"mode\":\"markers\",\"name\":\"event precision\",\"orientation\":\"v\",\"showlegend\":true,\"x\":[0.6666666666666666,0.8598398169336384,0.7896103896103897,0.6521252796420581,0.696969696969697,0.6704781704781705,0.47619047619047616],\"xaxis\":\"x\",\"y\":[0.860655737704918,0.8034188034188035,0.7979002624671916,0.4965986394557823,0.6113074204946997,0.5374376039933444,0.7894736842105263],\"yaxis\":\"y\",\"type\":\"scatter\"},{\"alignmentgroup\":\"True\",\"bingroup\":\"y\",\"hovertemplate\":\"metric=event precision<br>value=%{y}<br>count=%{x}<extra></extra>\",\"legendgroup\":\"event precision\",\"marker\":{\"color\":\"#636efa\"},\"name\":\"event precision\",\"offsetgroup\":\"event precision\",\"opacity\":0.5,\"showlegend\":false,\"xaxis\":\"x2\",\"y\":[0.860655737704918,0.8034188034188035,0.7979002624671916,0.4965986394557823,0.6113074204946997,0.5374376039933444,0.7894736842105263],\"yaxis\":\"y2\",\"type\":\"histogram\"},{\"hovertemplate\":\"metric=event recall<br>event F1=%{x}<br>value=%{y}<extra></extra>\",\"legendgroup\":\"event recall\",\"marker\":{\"color\":\"#EF553B\",\"symbol\":\"circle\"},\"mode\":\"markers\",\"name\":\"event recall\",\"orientation\":\"v\",\"showlegend\":true,\"x\":[0.6666666666666666,0.8598398169336384,0.7896103896103897,0.6521252796420581,0.696969696969697,0.6704781704781705,0.47619047619047616],\"xaxis\":\"x\",\"y\":[0.5440414507772021,0.9248768472906403,0.781491002570694,0.9509803921568627,0.8113207547169812,0.8919667590027701,0.3409090909090909],\"yaxis\":\"y\",\"type\":\"scatter\"},{\"alignmentgroup\":\"True\",\"bingroup\":\"y\",\"hovertemplate\":\"metric=event recall<br>value=%{y}<br>count=%{x}<extra></extra>\",\"legendgroup\":\"event recall\",\"marker\":{\"color\":\"#EF553B\"},\"name\":\"event recall\",\"offsetgroup\":\"event recall\",\"opacity\":0.5,\"showlegend\":false,\"xaxis\":\"x2\",\"y\":[0.5440414507772021,0.9248768472906403,0.781491002570694,0.9509803921568627,0.8113207547169812,0.8919667590027701,0.3409090909090909],\"yaxis\":\"y2\",\"type\":\"histogram\"},{\"fill\":\"toself\",\"mode\":\"lines\",\"name\":\"identity\",\"x\":[0.6666666666666666,0.8598398169336384,0.7896103896103897,0.6521252796420581,0.696969696969697,0.6704781704781705,0.47619047619047616],\"y\":[0.6666666666666666,0.8598398169336384,0.7896103896103897,0.6521252796420581,0.696969696969697,0.6704781704781705,0.47619047619047616],\"type\":\"scatter\"}],                        {\"template\":{\"data\":{\"histogram2dcontour\":[{\"type\":\"histogram2dcontour\",\"colorbar\":{\"outlinewidth\":0,\"ticks\":\"\"},\"colorscale\":[[0.0,\"#0d0887\"],[0.1111111111111111,\"#46039f\"],[0.2222222222222222,\"#7201a8\"],[0.3333333333333333,\"#9c179e\"],[0.4444444444444444,\"#bd3786\"],[0.5555555555555556,\"#d8576b\"],[0.6666666666666666,\"#ed7953\"],[0.7777777777777778,\"#fb9f3a\"],[0.8888888888888888,\"#fdca26\"],[1.0,\"#f0f921\"]]}],\"choropleth\":[{\"type\":\"choropleth\",\"colorbar\":{\"outlinewidth\":0,\"ticks\":\"\"}}],\"histogram2d\":[{\"type\":\"histogram2d\",\"colorbar\":{\"outlinewidth\":0,\"ticks\":\"\"},\"colorscale\":[[0.0,\"#0d0887\"],[0.1111111111111111,\"#46039f\"],[0.2222222222222222,\"#7201a8\"],[0.3333333333333333,\"#9c179e\"],[0.4444444444444444,\"#bd3786\"],[0.5555555555555556,\"#d8576b\"],[0.6666666666666666,\"#ed7953\"],[0.7777777777777778,\"#fb9f3a\"],[0.8888888888888888,\"#fdca26\"],[1.0,\"#f0f921\"]]}],\"heatmap\":[{\"type\":\"heatmap\",\"colorbar\":{\"outlinewidth\":0,\"ticks\":\"\"},\"colorscale\":[[0.0,\"#0d0887\"],[0.1111111111111111,\"#46039f\"],[0.2222222222222222,\"#7201a8\"],[0.3333333333333333,\"#9c179e\"],[0.4444444444444444,\"#bd3786\"],[0.5555555555555556,\"#d8576b\"],[0.6666666666666666,\"#ed7953\"],[0.7777777777777778,\"#fb9f3a\"],[0.8888888888888888,\"#fdca26\"],[1.0,\"#f0f921\"]]}],\"heatmapgl\":[{\"type\":\"heatmapgl\",\"colorbar\":{\"outlinewidth\":0,\"ticks\":\"\"},\"colorscale\":[[0.0,\"#0d0887\"],[0.1111111111111111,\"#46039f\"],[0.2222222222222222,\"#7201a8\"],[0.3333333333333333,\"#9c179e\"],[0.4444444444444444,\"#bd3786\"],[0.5555555555555556,\"#d8576b\"],[0.6666666666666666,\"#ed7953\"],[0.7777777777777778,\"#fb9f3a\"],[0.8888888888888888,\"#fdca26\"],[1.0,\"#f0f921\"]]}],\"contourcarpet\":[{\"type\":\"contourcarpet\",\"colorbar\":{\"outlinewidth\":0,\"ticks\":\"\"}}],\"contour\":[{\"type\":\"contour\",\"colorbar\":{\"outlinewidth\":0,\"ticks\":\"\"},\"colorscale\":[[0.0,\"#0d0887\"],[0.1111111111111111,\"#46039f\"],[0.2222222222222222,\"#7201a8\"],[0.3333333333333333,\"#9c179e\"],[0.4444444444444444,\"#bd3786\"],[0.5555555555555556,\"#d8576b\"],[0.6666666666666666,\"#ed7953\"],[0.7777777777777778,\"#fb9f3a\"],[0.8888888888888888,\"#fdca26\"],[1.0,\"#f0f921\"]]}],\"surface\":[{\"type\":\"surface\",\"colorbar\":{\"outlinewidth\":0,\"ticks\":\"\"},\"colorscale\":[[0.0,\"#0d0887\"],[0.1111111111111111,\"#46039f\"],[0.2222222222222222,\"#7201a8\"],[0.3333333333333333,\"#9c179e\"],[0.4444444444444444,\"#bd3786\"],[0.5555555555555556,\"#d8576b\"],[0.6666666666666666,\"#ed7953\"],[0.7777777777777778,\"#fb9f3a\"],[0.8888888888888888,\"#fdca26\"],[1.0,\"#f0f921\"]]}],\"mesh3d\":[{\"type\":\"mesh3d\",\"colorbar\":{\"outlinewidth\":0,\"ticks\":\"\"}}],\"scatter\":[{\"marker\":{\"line\":{\"color\":\"#283442\"}},\"type\":\"scatter\"}],\"parcoords\":[{\"type\":\"parcoords\",\"line\":{\"colorbar\":{\"outlinewidth\":0,\"ticks\":\"\"}}}],\"scatterpolargl\":[{\"type\":\"scatterpolargl\",\"marker\":{\"colorbar\":{\"outlinewidth\":0,\"ticks\":\"\"}}}],\"bar\":[{\"error_x\":{\"color\":\"#f2f5fa\"},\"error_y\":{\"color\":\"#f2f5fa\"},\"marker\":{\"line\":{\"color\":\"rgb(17,17,17)\",\"width\":0.5},\"pattern\":{\"fillmode\":\"overlay\",\"size\":10,\"solidity\":0.2}},\"type\":\"bar\"}],\"scattergeo\":[{\"type\":\"scattergeo\",\"marker\":{\"colorbar\":{\"outlinewidth\":0,\"ticks\":\"\"}}}],\"scatterpolar\":[{\"type\":\"scatterpolar\",\"marker\":{\"colorbar\":{\"outlinewidth\":0,\"ticks\":\"\"}}}],\"histogram\":[{\"marker\":{\"pattern\":{\"fillmode\":\"overlay\",\"size\":10,\"solidity\":0.2}},\"type\":\"histogram\"}],\"scattergl\":[{\"marker\":{\"line\":{\"color\":\"#283442\"}},\"type\":\"scattergl\"}],\"scatter3d\":[{\"type\":\"scatter3d\",\"line\":{\"colorbar\":{\"outlinewidth\":0,\"ticks\":\"\"}},\"marker\":{\"colorbar\":{\"outlinewidth\":0,\"ticks\":\"\"}}}],\"scattermapbox\":[{\"type\":\"scattermapbox\",\"marker\":{\"colorbar\":{\"outlinewidth\":0,\"ticks\":\"\"}}}],\"scatterternary\":[{\"type\":\"scatterternary\",\"marker\":{\"colorbar\":{\"outlinewidth\":0,\"ticks\":\"\"}}}],\"scattercarpet\":[{\"type\":\"scattercarpet\",\"marker\":{\"colorbar\":{\"outlinewidth\":0,\"ticks\":\"\"}}}],\"carpet\":[{\"aaxis\":{\"endlinecolor\":\"#A2B1C6\",\"gridcolor\":\"#506784\",\"linecolor\":\"#506784\",\"minorgridcolor\":\"#506784\",\"startlinecolor\":\"#A2B1C6\"},\"baxis\":{\"endlinecolor\":\"#A2B1C6\",\"gridcolor\":\"#506784\",\"linecolor\":\"#506784\",\"minorgridcolor\":\"#506784\",\"startlinecolor\":\"#A2B1C6\"},\"type\":\"carpet\"}],\"table\":[{\"cells\":{\"fill\":{\"color\":\"#506784\"},\"line\":{\"color\":\"rgb(17,17,17)\"}},\"header\":{\"fill\":{\"color\":\"#2a3f5f\"},\"line\":{\"color\":\"rgb(17,17,17)\"}},\"type\":\"table\"}],\"barpolar\":[{\"marker\":{\"line\":{\"color\":\"rgb(17,17,17)\",\"width\":0.5},\"pattern\":{\"fillmode\":\"overlay\",\"size\":10,\"solidity\":0.2}},\"type\":\"barpolar\"}],\"pie\":[{\"automargin\":true,\"type\":\"pie\"}]},\"layout\":{\"autotypenumbers\":\"strict\",\"colorway\":[\"#636efa\",\"#EF553B\",\"#00cc96\",\"#ab63fa\",\"#FFA15A\",\"#19d3f3\",\"#FF6692\",\"#B6E880\",\"#FF97FF\",\"#FECB52\"],\"font\":{\"color\":\"#f2f5fa\"},\"hovermode\":\"closest\",\"hoverlabel\":{\"align\":\"left\"},\"paper_bgcolor\":\"rgb(17,17,17)\",\"plot_bgcolor\":\"rgb(17,17,17)\",\"polar\":{\"bgcolor\":\"rgb(17,17,17)\",\"angularaxis\":{\"gridcolor\":\"#506784\",\"linecolor\":\"#506784\",\"ticks\":\"\"},\"radialaxis\":{\"gridcolor\":\"#506784\",\"linecolor\":\"#506784\",\"ticks\":\"\"}},\"ternary\":{\"bgcolor\":\"rgb(17,17,17)\",\"aaxis\":{\"gridcolor\":\"#506784\",\"linecolor\":\"#506784\",\"ticks\":\"\"},\"baxis\":{\"gridcolor\":\"#506784\",\"linecolor\":\"#506784\",\"ticks\":\"\"},\"caxis\":{\"gridcolor\":\"#506784\",\"linecolor\":\"#506784\",\"ticks\":\"\"}},\"coloraxis\":{\"colorbar\":{\"outlinewidth\":0,\"ticks\":\"\"}},\"colorscale\":{\"sequential\":[[0.0,\"#0d0887\"],[0.1111111111111111,\"#46039f\"],[0.2222222222222222,\"#7201a8\"],[0.3333333333333333,\"#9c179e\"],[0.4444444444444444,\"#bd3786\"],[0.5555555555555556,\"#d8576b\"],[0.6666666666666666,\"#ed7953\"],[0.7777777777777778,\"#fb9f3a\"],[0.8888888888888888,\"#fdca26\"],[1.0,\"#f0f921\"]],\"sequentialminus\":[[0.0,\"#0d0887\"],[0.1111111111111111,\"#46039f\"],[0.2222222222222222,\"#7201a8\"],[0.3333333333333333,\"#9c179e\"],[0.4444444444444444,\"#bd3786\"],[0.5555555555555556,\"#d8576b\"],[0.6666666666666666,\"#ed7953\"],[0.7777777777777778,\"#fb9f3a\"],[0.8888888888888888,\"#fdca26\"],[1.0,\"#f0f921\"]],\"diverging\":[[0,\"#8e0152\"],[0.1,\"#c51b7d\"],[0.2,\"#de77ae\"],[0.3,\"#f1b6da\"],[0.4,\"#fde0ef\"],[0.5,\"#f7f7f7\"],[0.6,\"#e6f5d0\"],[0.7,\"#b8e186\"],[0.8,\"#7fbc41\"],[0.9,\"#4d9221\"],[1,\"#276419\"]]},\"xaxis\":{\"gridcolor\":\"#283442\",\"linecolor\":\"#506784\",\"ticks\":\"\",\"title\":{\"standoff\":15},\"zerolinecolor\":\"#283442\",\"automargin\":true,\"zerolinewidth\":2},\"yaxis\":{\"gridcolor\":\"#283442\",\"linecolor\":\"#506784\",\"ticks\":\"\",\"title\":{\"standoff\":15},\"zerolinecolor\":\"#283442\",\"automargin\":true,\"zerolinewidth\":2},\"scene\":{\"xaxis\":{\"backgroundcolor\":\"rgb(17,17,17)\",\"gridcolor\":\"#506784\",\"linecolor\":\"#506784\",\"showbackground\":true,\"ticks\":\"\",\"zerolinecolor\":\"#C8D4E3\",\"gridwidth\":2},\"yaxis\":{\"backgroundcolor\":\"rgb(17,17,17)\",\"gridcolor\":\"#506784\",\"linecolor\":\"#506784\",\"showbackground\":true,\"ticks\":\"\",\"zerolinecolor\":\"#C8D4E3\",\"gridwidth\":2},\"zaxis\":{\"backgroundcolor\":\"rgb(17,17,17)\",\"gridcolor\":\"#506784\",\"linecolor\":\"#506784\",\"showbackground\":true,\"ticks\":\"\",\"zerolinecolor\":\"#C8D4E3\",\"gridwidth\":2}},\"shapedefaults\":{\"line\":{\"color\":\"#f2f5fa\"}},\"annotationdefaults\":{\"arrowcolor\":\"#f2f5fa\",\"arrowhead\":0,\"arrowwidth\":1},\"geo\":{\"bgcolor\":\"rgb(17,17,17)\",\"landcolor\":\"rgb(17,17,17)\",\"subunitcolor\":\"#506784\",\"showland\":true,\"showlakes\":true,\"lakecolor\":\"rgb(17,17,17)\"},\"title\":{\"x\":0.05},\"updatemenudefaults\":{\"bgcolor\":\"#506784\",\"borderwidth\":0},\"sliderdefaults\":{\"bgcolor\":\"#C8D4E3\",\"borderwidth\":1,\"bordercolor\":\"rgb(17,17,17)\",\"tickwidth\":0},\"mapbox\":{\"style\":\"dark\"}}},\"xaxis\":{\"anchor\":\"y\",\"domain\":[0.0,0.7363],\"title\":{\"text\":\"event F1\"}},\"yaxis\":{\"anchor\":\"x\",\"domain\":[0.0,1.0],\"title\":{\"text\":\"value\"}},\"xaxis2\":{\"anchor\":\"y2\",\"domain\":[0.7413,1.0],\"matches\":\"x2\",\"showticklabels\":false,\"showline\":false,\"ticks\":\"\",\"showgrid\":true},\"yaxis2\":{\"anchor\":\"x2\",\"domain\":[0.0,1.0],\"matches\":\"y\",\"showticklabels\":false,\"showgrid\":true},\"legend\":{\"title\":{\"text\":\"metric\"},\"tracegroupgap\":0},\"margin\":{\"t\":60},\"barmode\":\"overlay\"},                        {\"responsive\": true}                    ).then(function(){\n",
       "                            \n",
       "var gd = document.getElementById('87574642-c662-445d-9849-46d8f8e0221e');\n",
       "var x = new MutationObserver(function (mutations, observer) {{\n",
       "        var display = window.getComputedStyle(gd).display;\n",
       "        if (!display || display === 'none') {{\n",
       "            console.log([gd, 'removed!']);\n",
       "            Plotly.purge(gd);\n",
       "            observer.disconnect();\n",
       "        }}\n",
       "}});\n",
       "\n",
       "// Listen for the removal of the full notebook cells\n",
       "var notebookContainer = gd.closest('#notebook-container');\n",
       "if (notebookContainer) {{\n",
       "    x.observe(notebookContainer, {childList: true});\n",
       "}}\n",
       "\n",
       "// Listen for the clearing of the current output cell\n",
       "var outputEl = gd.closest('.output');\n",
       "if (outputEl) {{\n",
       "    x.observe(outputEl, {childList: true});\n",
       "}}\n",
       "\n",
       "                        })                };                });            </script>        </div>"
      ]
     },
     "metadata": {},
     "output_type": "display_data"
    }
   ],
   "execution_count": 86
  }
 ],
 "metadata": {
  "kernelspec": {
   "display_name": "Python 3.10.6 ('venv': venv)",
   "language": "python",
   "name": "python3"
  },
  "language_info": {
   "codemirror_mode": {
    "name": "ipython",
    "version": 3
   },
   "file_extension": ".py",
   "mimetype": "text/x-python",
   "name": "python",
   "nbconvert_exporter": "python",
   "pygments_lexer": "ipython3",
   "version": "3.10.6"
  },
  "orig_nbformat": 4,
  "vscode": {
   "interpreter": {
    "hash": "69eb08d3e713eff25484e90b18c01e15df779e80a0db295f9ddc53faed0455be"
   }
  }
 },
 "nbformat": 4,
 "nbformat_minor": 2
}
