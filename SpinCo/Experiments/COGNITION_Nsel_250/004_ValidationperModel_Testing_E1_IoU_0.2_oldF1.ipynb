{
 "cells": [
  {
   "attachments": {},
   "cell_type": "markdown",
   "metadata": {},
   "source": [
    "# Evaluation of experiments - E1 COGNITION\n",
    "fistly define the UUID of the experiment to use"
   ]
  },
  {
   "cell_type": "code",
   "metadata": {
    "ExecuteTime": {
     "end_time": "2025-01-13T12:29:02.345413Z",
     "start_time": "2025-01-13T12:29:02.330414Z"
    }
   },
   "source": "experimentId=\"ee715b34-ba07-49f0-9102-9652bb173c6c\"",
   "outputs": [],
   "execution_count": 1
  },
  {
   "cell_type": "markdown",
   "metadata": {},
   "source": [
    "-------------------------------------------------------"
   ]
  },
  {
   "cell_type": "code",
   "metadata": {
    "ExecuteTime": {
     "end_time": "2025-01-13T12:29:04.642168Z",
     "start_time": "2025-01-13T12:29:02.348672Z"
    }
   },
   "source": [
    "#external libraries\n",
    "import numpy as np\n",
    "import os\n",
    "import matplotlib.pyplot as plt\n",
    "import matplotlib.colors as clt\n",
    "import plotly\n",
    "import plotly.subplots as sb\n",
    "import plotly.express as px\n",
    "import plotly.graph_objects as go\n",
    "import dotenv\n",
    "import pandas as pd\n",
    "import scipy.fft as fft\n",
    "import scipy.signal as sg\n",
    "import scipy.io as sio\n",
    "import pickle as pkl\n",
    "import xgboost as xgb\n",
    "import time\n",
    "import sklearn.metrics as skm\n",
    "\n",
    "#project library\n",
    "from spinco import *\n",
    "\n",
    "#environment variables\n",
    "dotenv.load_dotenv('lab.env')\n",
    "\n",
    "#project variables\n",
    "datapath=os.environ['DATAPATH']\n",
    "cognipath=datapath+\"\\\\COGNITION\"\n",
    "dreamspath=datapath+\"\\\\DREAMS\"\n",
    "masspath=datapath+\"\\\\MASS\"\n"
   ],
   "outputs": [],
   "execution_count": 2
  },
  {
   "metadata": {},
   "cell_type": "markdown",
   "source": "## Override metrics to do classical F1 instead of F1*"
  },
  {
   "metadata": {
    "ExecuteTime": {
     "end_time": "2025-01-13T12:29:04.705608Z",
     "start_time": "2025-01-13T12:29:04.690694Z"
    }
   },
   "cell_type": "code",
   "source": [
    "def annotationPairToMetrics(annotations,detections,thresIoU=0.3):\n",
    "    #get the coords\n",
    "    gtCoords=zip(annotations.startInd,annotations.stopInd)\n",
    "    outCoords=zip(detections.startInd,detections.stopInd)\n",
    "    #calculate the iou vector\n",
    "    iouVector=np.array(list(itt.starmap(getIou,itt.product(gtCoords,outCoords))))\n",
    "    #reshape to a matrix\n",
    "    iouMatrix=iouVector.reshape(len(annotations),len(detections))\n",
    "    #binarize\n",
    "    binarized=iouMatrix>thresIoU\n",
    "    #calculateF1 the old way\n",
    "    N=len(annotations)\n",
    "    M=len(detections)\n",
    "    TP=np.sum(np.max(binarized,axis=0))\n",
    "    FN=N-TP\n",
    "    FP=M-TP\n",
    "\n",
    "    outF1=(2*TP)/(2*TP+FN+FP)\n",
    "    recall=TP/N\n",
    "    precision=TP/M\n",
    "\n",
    "    #calculateF1*\n",
    "    \"\"\" outF1=(np.sum(np.max(binarized,axis=0))+np.sum(np.max(binarized,axis=1)))/(len(annotations)+len(detections))\n",
    "    recall=np.sum(np.max(binarized,axis=1))/len(annotations)\n",
    "    precision=np.sum(np.max(binarized,axis=0))/len(detections) \"\"\"\n",
    "    return outF1,recall,precision"
   ],
   "outputs": [],
   "execution_count": 3
  },
  {
   "attachments": {},
   "cell_type": "markdown",
   "metadata": {},
   "source": [
    "## load cognition"
   ]
  },
  {
   "cell_type": "code",
   "metadata": {
    "ExecuteTime": {
     "end_time": "2025-01-13T12:29:04.736928Z",
     "start_time": "2025-01-13T12:29:04.722575Z"
    }
   },
   "source": [
    "samplerate=200  #Should rethink this"
   ],
   "outputs": [],
   "execution_count": 4
  },
  {
   "cell_type": "code",
   "metadata": {
    "ExecuteTime": {
     "end_time": "2025-01-13T12:29:04.877992Z",
     "start_time": "2025-01-13T12:29:04.754018Z"
    }
   },
   "source": [
    "annotations, signalsMetadata = loadCOGNITIONSpindles(cognipath)"
   ],
   "outputs": [],
   "execution_count": 5
  },
  {
   "cell_type": "code",
   "metadata": {
    "ExecuteTime": {
     "end_time": "2025-01-13T12:29:04.910006Z",
     "start_time": "2025-01-13T12:29:04.894858Z"
    }
   },
   "source": [
    "annotations=annotations[annotations.type=='spindle'].reset_index(drop=True)\n",
    "len(annotations)"
   ],
   "outputs": [
    {
     "data": {
      "text/plain": [
       "2785"
      ]
     },
     "execution_count": 6,
     "metadata": {},
     "output_type": "execute_result"
    }
   ],
   "execution_count": 6
  },
  {
   "cell_type": "code",
   "metadata": {
    "ExecuteTime": {
     "end_time": "2025-01-13T12:29:04.942351Z",
     "start_time": "2025-01-13T12:29:04.927308Z"
    }
   },
   "source": [
    "durations=signalsMetadata.duration\n",
    "signalsMetadata.head()"
   ],
   "outputs": [
    {
     "data": {
      "text/plain": [
       "              filename channel subjectId  duration  samplerate  \\\n",
       "0  COG001_canal_C3.txt   C3-M2      0001     39600         200   \n",
       "1  COG002_canal_C3.txt   C3-M2      0002     39600         200   \n",
       "2  COG003_canal_C3.txt   C3-M2      0003     39600         200   \n",
       "3  COG004_canal_C3.txt   C3-M2      0004     39600         200   \n",
       "4  COG005_canal_C3.txt   C3-M2      0005     39600         200   \n",
       "\n",
       "   isOriginalSamplerate   database  \n",
       "0                 False  COGNITION  \n",
       "1                 False  COGNITION  \n",
       "2                 False  COGNITION  \n",
       "3                 False  COGNITION  \n",
       "4                 False  COGNITION  "
      ],
      "text/html": [
       "<div>\n",
       "<style scoped>\n",
       "    .dataframe tbody tr th:only-of-type {\n",
       "        vertical-align: middle;\n",
       "    }\n",
       "\n",
       "    .dataframe tbody tr th {\n",
       "        vertical-align: top;\n",
       "    }\n",
       "\n",
       "    .dataframe thead th {\n",
       "        text-align: right;\n",
       "    }\n",
       "</style>\n",
       "<table border=\"1\" class=\"dataframe\">\n",
       "  <thead>\n",
       "    <tr style=\"text-align: right;\">\n",
       "      <th></th>\n",
       "      <th>filename</th>\n",
       "      <th>channel</th>\n",
       "      <th>subjectId</th>\n",
       "      <th>duration</th>\n",
       "      <th>samplerate</th>\n",
       "      <th>isOriginalSamplerate</th>\n",
       "      <th>database</th>\n",
       "    </tr>\n",
       "  </thead>\n",
       "  <tbody>\n",
       "    <tr>\n",
       "      <th>0</th>\n",
       "      <td>COG001_canal_C3.txt</td>\n",
       "      <td>C3-M2</td>\n",
       "      <td>0001</td>\n",
       "      <td>39600</td>\n",
       "      <td>200</td>\n",
       "      <td>False</td>\n",
       "      <td>COGNITION</td>\n",
       "    </tr>\n",
       "    <tr>\n",
       "      <th>1</th>\n",
       "      <td>COG002_canal_C3.txt</td>\n",
       "      <td>C3-M2</td>\n",
       "      <td>0002</td>\n",
       "      <td>39600</td>\n",
       "      <td>200</td>\n",
       "      <td>False</td>\n",
       "      <td>COGNITION</td>\n",
       "    </tr>\n",
       "    <tr>\n",
       "      <th>2</th>\n",
       "      <td>COG003_canal_C3.txt</td>\n",
       "      <td>C3-M2</td>\n",
       "      <td>0003</td>\n",
       "      <td>39600</td>\n",
       "      <td>200</td>\n",
       "      <td>False</td>\n",
       "      <td>COGNITION</td>\n",
       "    </tr>\n",
       "    <tr>\n",
       "      <th>3</th>\n",
       "      <td>COG004_canal_C3.txt</td>\n",
       "      <td>C3-M2</td>\n",
       "      <td>0004</td>\n",
       "      <td>39600</td>\n",
       "      <td>200</td>\n",
       "      <td>False</td>\n",
       "      <td>COGNITION</td>\n",
       "    </tr>\n",
       "    <tr>\n",
       "      <th>4</th>\n",
       "      <td>COG005_canal_C3.txt</td>\n",
       "      <td>C3-M2</td>\n",
       "      <td>0005</td>\n",
       "      <td>39600</td>\n",
       "      <td>200</td>\n",
       "      <td>False</td>\n",
       "      <td>COGNITION</td>\n",
       "    </tr>\n",
       "  </tbody>\n",
       "</table>\n",
       "</div>"
      ]
     },
     "execution_count": 7,
     "metadata": {},
     "output_type": "execute_result"
    }
   ],
   "execution_count": 7
  },
  {
   "cell_type": "markdown",
   "metadata": {},
   "source": [
    "## Load experiment results"
   ]
  },
  {
   "cell_type": "code",
   "metadata": {
    "ExecuteTime": {
     "end_time": "2025-01-13T12:29:05.019592Z",
     "start_time": "2025-01-13T12:29:04.973061Z"
    }
   },
   "source": [
    "experimentModels, featureSelection = loadExperiment(experimentId,datapath)"
   ],
   "outputs": [],
   "execution_count": 8
  },
  {
   "cell_type": "code",
   "metadata": {
    "ExecuteTime": {
     "end_time": "2025-01-13T12:29:05.097864Z",
     "start_time": "2025-01-13T12:29:05.076162Z"
    }
   },
   "source": [
    "experimentModels.head()"
   ],
   "outputs": [
    {
     "data": {
      "text/plain": [
       "  criteriumId criteriumName labelerIdList                     train  \\\n",
       "0        0001            E1        [0001]  [0004, 0005, 0006, 0007]   \n",
       "1        0001            E1        [0001]  [0002, 0005, 0006, 0008]   \n",
       "2        0001            E1        [0001]  [0002, 0003, 0005, 0007]   \n",
       "3        0001            E1        [0001]  [0002, 0003, 0007, 0008]   \n",
       "4        0001            E1        [0001]  [0002, 0003, 0007, 0008]   \n",
       "\n",
       "            val  test                               modelId  spindleTimeRate  \n",
       "0  [0003, 0008]  0002  a4659423-83e4-4da3-91b5-177fa8bc17fe         0.008075  \n",
       "1  [0007, 0004]  0003  ad3be387-5be4-4e8e-b57d-072003b617d3         0.005000  \n",
       "2  [0006, 0008]  0004  8bcbbc8b-b83e-4b97-8f7c-0dd0760680e7         0.012035  \n",
       "3  [0006, 0004]  0005  f88ed731-de3a-4c9a-90d5-04d1fcd93d45         0.010340  \n",
       "4  [0004, 0005]  0006  16a691da-d735-4ad2-953c-db2678980107         0.010340  "
      ],
      "text/html": [
       "<div>\n",
       "<style scoped>\n",
       "    .dataframe tbody tr th:only-of-type {\n",
       "        vertical-align: middle;\n",
       "    }\n",
       "\n",
       "    .dataframe tbody tr th {\n",
       "        vertical-align: top;\n",
       "    }\n",
       "\n",
       "    .dataframe thead th {\n",
       "        text-align: right;\n",
       "    }\n",
       "</style>\n",
       "<table border=\"1\" class=\"dataframe\">\n",
       "  <thead>\n",
       "    <tr style=\"text-align: right;\">\n",
       "      <th></th>\n",
       "      <th>criteriumId</th>\n",
       "      <th>criteriumName</th>\n",
       "      <th>labelerIdList</th>\n",
       "      <th>train</th>\n",
       "      <th>val</th>\n",
       "      <th>test</th>\n",
       "      <th>modelId</th>\n",
       "      <th>spindleTimeRate</th>\n",
       "    </tr>\n",
       "  </thead>\n",
       "  <tbody>\n",
       "    <tr>\n",
       "      <th>0</th>\n",
       "      <td>0001</td>\n",
       "      <td>E1</td>\n",
       "      <td>[0001]</td>\n",
       "      <td>[0004, 0005, 0006, 0007]</td>\n",
       "      <td>[0003, 0008]</td>\n",
       "      <td>0002</td>\n",
       "      <td>a4659423-83e4-4da3-91b5-177fa8bc17fe</td>\n",
       "      <td>0.008075</td>\n",
       "    </tr>\n",
       "    <tr>\n",
       "      <th>1</th>\n",
       "      <td>0001</td>\n",
       "      <td>E1</td>\n",
       "      <td>[0001]</td>\n",
       "      <td>[0002, 0005, 0006, 0008]</td>\n",
       "      <td>[0007, 0004]</td>\n",
       "      <td>0003</td>\n",
       "      <td>ad3be387-5be4-4e8e-b57d-072003b617d3</td>\n",
       "      <td>0.005000</td>\n",
       "    </tr>\n",
       "    <tr>\n",
       "      <th>2</th>\n",
       "      <td>0001</td>\n",
       "      <td>E1</td>\n",
       "      <td>[0001]</td>\n",
       "      <td>[0002, 0003, 0005, 0007]</td>\n",
       "      <td>[0006, 0008]</td>\n",
       "      <td>0004</td>\n",
       "      <td>8bcbbc8b-b83e-4b97-8f7c-0dd0760680e7</td>\n",
       "      <td>0.012035</td>\n",
       "    </tr>\n",
       "    <tr>\n",
       "      <th>3</th>\n",
       "      <td>0001</td>\n",
       "      <td>E1</td>\n",
       "      <td>[0001]</td>\n",
       "      <td>[0002, 0003, 0007, 0008]</td>\n",
       "      <td>[0006, 0004]</td>\n",
       "      <td>0005</td>\n",
       "      <td>f88ed731-de3a-4c9a-90d5-04d1fcd93d45</td>\n",
       "      <td>0.010340</td>\n",
       "    </tr>\n",
       "    <tr>\n",
       "      <th>4</th>\n",
       "      <td>0001</td>\n",
       "      <td>E1</td>\n",
       "      <td>[0001]</td>\n",
       "      <td>[0002, 0003, 0007, 0008]</td>\n",
       "      <td>[0004, 0005]</td>\n",
       "      <td>0006</td>\n",
       "      <td>16a691da-d735-4ad2-953c-db2678980107</td>\n",
       "      <td>0.010340</td>\n",
       "    </tr>\n",
       "  </tbody>\n",
       "</table>\n",
       "</div>"
      ]
     },
     "execution_count": 9,
     "metadata": {},
     "output_type": "execute_result"
    }
   ],
   "execution_count": 9
  },
  {
   "cell_type": "code",
   "metadata": {
    "ExecuteTime": {
     "end_time": "2025-01-13T12:29:05.160783Z",
     "start_time": "2025-01-13T12:29:05.145909Z"
    }
   },
   "source": [
    "featureSelection"
   ],
   "outputs": [
    {
     "data": {
      "text/plain": [
       "   window   characteristic   bandName  Times_selected\n",
       "0       2       sigmaIndex  broadband          1000.0\n",
       "1       2    hjortActivity      sigma          1000.0\n",
       "2     1.5       sigmaIndex  broadband          1000.0\n",
       "3       1    hjortActivity      sigma          1000.0\n",
       "4       1       sigmaIndex  broadband          1000.0\n",
       "5       2    hjortActivity      beta1          1000.0\n",
       "6       2    hjortActivity      beta2          1000.0\n",
       "7     1.5    hjortActivity      sigma           999.0\n",
       "8       2    hjortMobility      beta1           994.0\n",
       "9       2    hjortActivity     delta2           986.0\n",
       "10      2    hjortActivity  broadband           985.0\n",
       "11      2    hjortMobility      sigma           975.0\n",
       "12      2    hjortActivity      alpha           971.0\n",
       "13    1.5    hjortActivity      beta2           918.0\n",
       "14    0.5       sigmaIndex  broadband           899.0\n",
       "15      2    hjortMobility      beta2           897.0\n",
       "16      2    hjortMobility      alpha           893.0\n",
       "17      2    hjortMobility     delta1           838.0\n",
       "18    1.5    hjortMobility      beta1           824.0\n",
       "19    1.5    hjortActivity      beta1           725.0\n",
       "20      2        petrosian  broadband           715.0\n",
       "21      1    hjortActivity  broadband           680.0\n",
       "22      2    hjortActivity      theta           652.0\n",
       "23    0.5    hjortActivity      sigma           650.0\n",
       "24      2    hjortMobility      theta           597.0\n",
       "25    0.5    hjortActivity      alpha           547.0\n",
       "26    0.5    hjortActivity     delta2           486.0\n",
       "27      1    hjortActivity      beta1           466.0\n",
       "28      1    hjortActivity      alpha           389.0\n",
       "29    1.5    hjortActivity      alpha           383.0\n",
       "30      2    hjortMobility     delta2           356.0\n",
       "31      2    hjortActivity     delta1           354.0\n",
       "32      1    hjortActivity      theta           351.0\n",
       "33    0.5  hjortComplexity  broadband           335.0\n",
       "34    1.5    hjortMobility      sigma           275.0\n",
       "35      1    hjortMobility      beta2           260.0"
      ],
      "text/html": [
       "<div>\n",
       "<style scoped>\n",
       "    .dataframe tbody tr th:only-of-type {\n",
       "        vertical-align: middle;\n",
       "    }\n",
       "\n",
       "    .dataframe tbody tr th {\n",
       "        vertical-align: top;\n",
       "    }\n",
       "\n",
       "    .dataframe thead th {\n",
       "        text-align: right;\n",
       "    }\n",
       "</style>\n",
       "<table border=\"1\" class=\"dataframe\">\n",
       "  <thead>\n",
       "    <tr style=\"text-align: right;\">\n",
       "      <th></th>\n",
       "      <th>window</th>\n",
       "      <th>characteristic</th>\n",
       "      <th>bandName</th>\n",
       "      <th>Times_selected</th>\n",
       "    </tr>\n",
       "  </thead>\n",
       "  <tbody>\n",
       "    <tr>\n",
       "      <th>0</th>\n",
       "      <td>2</td>\n",
       "      <td>sigmaIndex</td>\n",
       "      <td>broadband</td>\n",
       "      <td>1000.0</td>\n",
       "    </tr>\n",
       "    <tr>\n",
       "      <th>1</th>\n",
       "      <td>2</td>\n",
       "      <td>hjortActivity</td>\n",
       "      <td>sigma</td>\n",
       "      <td>1000.0</td>\n",
       "    </tr>\n",
       "    <tr>\n",
       "      <th>2</th>\n",
       "      <td>1.5</td>\n",
       "      <td>sigmaIndex</td>\n",
       "      <td>broadband</td>\n",
       "      <td>1000.0</td>\n",
       "    </tr>\n",
       "    <tr>\n",
       "      <th>3</th>\n",
       "      <td>1</td>\n",
       "      <td>hjortActivity</td>\n",
       "      <td>sigma</td>\n",
       "      <td>1000.0</td>\n",
       "    </tr>\n",
       "    <tr>\n",
       "      <th>4</th>\n",
       "      <td>1</td>\n",
       "      <td>sigmaIndex</td>\n",
       "      <td>broadband</td>\n",
       "      <td>1000.0</td>\n",
       "    </tr>\n",
       "    <tr>\n",
       "      <th>5</th>\n",
       "      <td>2</td>\n",
       "      <td>hjortActivity</td>\n",
       "      <td>beta1</td>\n",
       "      <td>1000.0</td>\n",
       "    </tr>\n",
       "    <tr>\n",
       "      <th>6</th>\n",
       "      <td>2</td>\n",
       "      <td>hjortActivity</td>\n",
       "      <td>beta2</td>\n",
       "      <td>1000.0</td>\n",
       "    </tr>\n",
       "    <tr>\n",
       "      <th>7</th>\n",
       "      <td>1.5</td>\n",
       "      <td>hjortActivity</td>\n",
       "      <td>sigma</td>\n",
       "      <td>999.0</td>\n",
       "    </tr>\n",
       "    <tr>\n",
       "      <th>8</th>\n",
       "      <td>2</td>\n",
       "      <td>hjortMobility</td>\n",
       "      <td>beta1</td>\n",
       "      <td>994.0</td>\n",
       "    </tr>\n",
       "    <tr>\n",
       "      <th>9</th>\n",
       "      <td>2</td>\n",
       "      <td>hjortActivity</td>\n",
       "      <td>delta2</td>\n",
       "      <td>986.0</td>\n",
       "    </tr>\n",
       "    <tr>\n",
       "      <th>10</th>\n",
       "      <td>2</td>\n",
       "      <td>hjortActivity</td>\n",
       "      <td>broadband</td>\n",
       "      <td>985.0</td>\n",
       "    </tr>\n",
       "    <tr>\n",
       "      <th>11</th>\n",
       "      <td>2</td>\n",
       "      <td>hjortMobility</td>\n",
       "      <td>sigma</td>\n",
       "      <td>975.0</td>\n",
       "    </tr>\n",
       "    <tr>\n",
       "      <th>12</th>\n",
       "      <td>2</td>\n",
       "      <td>hjortActivity</td>\n",
       "      <td>alpha</td>\n",
       "      <td>971.0</td>\n",
       "    </tr>\n",
       "    <tr>\n",
       "      <th>13</th>\n",
       "      <td>1.5</td>\n",
       "      <td>hjortActivity</td>\n",
       "      <td>beta2</td>\n",
       "      <td>918.0</td>\n",
       "    </tr>\n",
       "    <tr>\n",
       "      <th>14</th>\n",
       "      <td>0.5</td>\n",
       "      <td>sigmaIndex</td>\n",
       "      <td>broadband</td>\n",
       "      <td>899.0</td>\n",
       "    </tr>\n",
       "    <tr>\n",
       "      <th>15</th>\n",
       "      <td>2</td>\n",
       "      <td>hjortMobility</td>\n",
       "      <td>beta2</td>\n",
       "      <td>897.0</td>\n",
       "    </tr>\n",
       "    <tr>\n",
       "      <th>16</th>\n",
       "      <td>2</td>\n",
       "      <td>hjortMobility</td>\n",
       "      <td>alpha</td>\n",
       "      <td>893.0</td>\n",
       "    </tr>\n",
       "    <tr>\n",
       "      <th>17</th>\n",
       "      <td>2</td>\n",
       "      <td>hjortMobility</td>\n",
       "      <td>delta1</td>\n",
       "      <td>838.0</td>\n",
       "    </tr>\n",
       "    <tr>\n",
       "      <th>18</th>\n",
       "      <td>1.5</td>\n",
       "      <td>hjortMobility</td>\n",
       "      <td>beta1</td>\n",
       "      <td>824.0</td>\n",
       "    </tr>\n",
       "    <tr>\n",
       "      <th>19</th>\n",
       "      <td>1.5</td>\n",
       "      <td>hjortActivity</td>\n",
       "      <td>beta1</td>\n",
       "      <td>725.0</td>\n",
       "    </tr>\n",
       "    <tr>\n",
       "      <th>20</th>\n",
       "      <td>2</td>\n",
       "      <td>petrosian</td>\n",
       "      <td>broadband</td>\n",
       "      <td>715.0</td>\n",
       "    </tr>\n",
       "    <tr>\n",
       "      <th>21</th>\n",
       "      <td>1</td>\n",
       "      <td>hjortActivity</td>\n",
       "      <td>broadband</td>\n",
       "      <td>680.0</td>\n",
       "    </tr>\n",
       "    <tr>\n",
       "      <th>22</th>\n",
       "      <td>2</td>\n",
       "      <td>hjortActivity</td>\n",
       "      <td>theta</td>\n",
       "      <td>652.0</td>\n",
       "    </tr>\n",
       "    <tr>\n",
       "      <th>23</th>\n",
       "      <td>0.5</td>\n",
       "      <td>hjortActivity</td>\n",
       "      <td>sigma</td>\n",
       "      <td>650.0</td>\n",
       "    </tr>\n",
       "    <tr>\n",
       "      <th>24</th>\n",
       "      <td>2</td>\n",
       "      <td>hjortMobility</td>\n",
       "      <td>theta</td>\n",
       "      <td>597.0</td>\n",
       "    </tr>\n",
       "    <tr>\n",
       "      <th>25</th>\n",
       "      <td>0.5</td>\n",
       "      <td>hjortActivity</td>\n",
       "      <td>alpha</td>\n",
       "      <td>547.0</td>\n",
       "    </tr>\n",
       "    <tr>\n",
       "      <th>26</th>\n",
       "      <td>0.5</td>\n",
       "      <td>hjortActivity</td>\n",
       "      <td>delta2</td>\n",
       "      <td>486.0</td>\n",
       "    </tr>\n",
       "    <tr>\n",
       "      <th>27</th>\n",
       "      <td>1</td>\n",
       "      <td>hjortActivity</td>\n",
       "      <td>beta1</td>\n",
       "      <td>466.0</td>\n",
       "    </tr>\n",
       "    <tr>\n",
       "      <th>28</th>\n",
       "      <td>1</td>\n",
       "      <td>hjortActivity</td>\n",
       "      <td>alpha</td>\n",
       "      <td>389.0</td>\n",
       "    </tr>\n",
       "    <tr>\n",
       "      <th>29</th>\n",
       "      <td>1.5</td>\n",
       "      <td>hjortActivity</td>\n",
       "      <td>alpha</td>\n",
       "      <td>383.0</td>\n",
       "    </tr>\n",
       "    <tr>\n",
       "      <th>30</th>\n",
       "      <td>2</td>\n",
       "      <td>hjortMobility</td>\n",
       "      <td>delta2</td>\n",
       "      <td>356.0</td>\n",
       "    </tr>\n",
       "    <tr>\n",
       "      <th>31</th>\n",
       "      <td>2</td>\n",
       "      <td>hjortActivity</td>\n",
       "      <td>delta1</td>\n",
       "      <td>354.0</td>\n",
       "    </tr>\n",
       "    <tr>\n",
       "      <th>32</th>\n",
       "      <td>1</td>\n",
       "      <td>hjortActivity</td>\n",
       "      <td>theta</td>\n",
       "      <td>351.0</td>\n",
       "    </tr>\n",
       "    <tr>\n",
       "      <th>33</th>\n",
       "      <td>0.5</td>\n",
       "      <td>hjortComplexity</td>\n",
       "      <td>broadband</td>\n",
       "      <td>335.0</td>\n",
       "    </tr>\n",
       "    <tr>\n",
       "      <th>34</th>\n",
       "      <td>1.5</td>\n",
       "      <td>hjortMobility</td>\n",
       "      <td>sigma</td>\n",
       "      <td>275.0</td>\n",
       "    </tr>\n",
       "    <tr>\n",
       "      <th>35</th>\n",
       "      <td>1</td>\n",
       "      <td>hjortMobility</td>\n",
       "      <td>beta2</td>\n",
       "      <td>260.0</td>\n",
       "    </tr>\n",
       "  </tbody>\n",
       "</table>\n",
       "</div>"
      ]
     },
     "execution_count": 10,
     "metadata": {},
     "output_type": "execute_result"
    }
   ],
   "execution_count": 10
  },
  {
   "attachments": {},
   "cell_type": "markdown",
   "metadata": {},
   "source": [
    "## Optimal hyperparameter estimation with E1 criterium\n",
    "we test the optimal points for the prediction threshold and number of boost iterations in the different validation groups"
   ]
  },
  {
   "cell_type": "code",
   "metadata": {
    "ExecuteTime": {
     "end_time": "2025-01-13T12:29:05.237447Z",
     "start_time": "2025-01-13T12:29:05.223433Z"
    }
   },
   "source": [
    "experimentModels=experimentModels[experimentModels.criteriumName=='E1'].reset_index(drop=True)\n",
    "experimentModels"
   ],
   "outputs": [
    {
     "data": {
      "text/plain": [
       "  criteriumId criteriumName labelerIdList                     train  \\\n",
       "0        0001            E1        [0001]  [0004, 0005, 0006, 0007]   \n",
       "1        0001            E1        [0001]  [0002, 0005, 0006, 0008]   \n",
       "2        0001            E1        [0001]  [0002, 0003, 0005, 0007]   \n",
       "3        0001            E1        [0001]  [0002, 0003, 0007, 0008]   \n",
       "4        0001            E1        [0001]  [0002, 0003, 0007, 0008]   \n",
       "5        0001            E1        [0001]  [0002, 0004, 0005, 0008]   \n",
       "6        0001            E1        [0001]  [0002, 0005, 0006, 0007]   \n",
       "\n",
       "            val  test                               modelId  spindleTimeRate  \n",
       "0  [0003, 0008]  0002  a4659423-83e4-4da3-91b5-177fa8bc17fe         0.008075  \n",
       "1  [0007, 0004]  0003  ad3be387-5be4-4e8e-b57d-072003b617d3         0.005000  \n",
       "2  [0006, 0008]  0004  8bcbbc8b-b83e-4b97-8f7c-0dd0760680e7         0.012035  \n",
       "3  [0006, 0004]  0005  f88ed731-de3a-4c9a-90d5-04d1fcd93d45         0.010340  \n",
       "4  [0004, 0005]  0006  16a691da-d735-4ad2-953c-db2678980107         0.010340  \n",
       "5  [0003, 0006]  0007  d91f41ff-0308-46df-9bcd-67d46f377777         0.006673  \n",
       "6  [0003, 0004]  0008  a1eacac2-9e31-437a-9350-110d2ef2f1a5         0.006822  "
      ],
      "text/html": [
       "<div>\n",
       "<style scoped>\n",
       "    .dataframe tbody tr th:only-of-type {\n",
       "        vertical-align: middle;\n",
       "    }\n",
       "\n",
       "    .dataframe tbody tr th {\n",
       "        vertical-align: top;\n",
       "    }\n",
       "\n",
       "    .dataframe thead th {\n",
       "        text-align: right;\n",
       "    }\n",
       "</style>\n",
       "<table border=\"1\" class=\"dataframe\">\n",
       "  <thead>\n",
       "    <tr style=\"text-align: right;\">\n",
       "      <th></th>\n",
       "      <th>criteriumId</th>\n",
       "      <th>criteriumName</th>\n",
       "      <th>labelerIdList</th>\n",
       "      <th>train</th>\n",
       "      <th>val</th>\n",
       "      <th>test</th>\n",
       "      <th>modelId</th>\n",
       "      <th>spindleTimeRate</th>\n",
       "    </tr>\n",
       "  </thead>\n",
       "  <tbody>\n",
       "    <tr>\n",
       "      <th>0</th>\n",
       "      <td>0001</td>\n",
       "      <td>E1</td>\n",
       "      <td>[0001]</td>\n",
       "      <td>[0004, 0005, 0006, 0007]</td>\n",
       "      <td>[0003, 0008]</td>\n",
       "      <td>0002</td>\n",
       "      <td>a4659423-83e4-4da3-91b5-177fa8bc17fe</td>\n",
       "      <td>0.008075</td>\n",
       "    </tr>\n",
       "    <tr>\n",
       "      <th>1</th>\n",
       "      <td>0001</td>\n",
       "      <td>E1</td>\n",
       "      <td>[0001]</td>\n",
       "      <td>[0002, 0005, 0006, 0008]</td>\n",
       "      <td>[0007, 0004]</td>\n",
       "      <td>0003</td>\n",
       "      <td>ad3be387-5be4-4e8e-b57d-072003b617d3</td>\n",
       "      <td>0.005000</td>\n",
       "    </tr>\n",
       "    <tr>\n",
       "      <th>2</th>\n",
       "      <td>0001</td>\n",
       "      <td>E1</td>\n",
       "      <td>[0001]</td>\n",
       "      <td>[0002, 0003, 0005, 0007]</td>\n",
       "      <td>[0006, 0008]</td>\n",
       "      <td>0004</td>\n",
       "      <td>8bcbbc8b-b83e-4b97-8f7c-0dd0760680e7</td>\n",
       "      <td>0.012035</td>\n",
       "    </tr>\n",
       "    <tr>\n",
       "      <th>3</th>\n",
       "      <td>0001</td>\n",
       "      <td>E1</td>\n",
       "      <td>[0001]</td>\n",
       "      <td>[0002, 0003, 0007, 0008]</td>\n",
       "      <td>[0006, 0004]</td>\n",
       "      <td>0005</td>\n",
       "      <td>f88ed731-de3a-4c9a-90d5-04d1fcd93d45</td>\n",
       "      <td>0.010340</td>\n",
       "    </tr>\n",
       "    <tr>\n",
       "      <th>4</th>\n",
       "      <td>0001</td>\n",
       "      <td>E1</td>\n",
       "      <td>[0001]</td>\n",
       "      <td>[0002, 0003, 0007, 0008]</td>\n",
       "      <td>[0004, 0005]</td>\n",
       "      <td>0006</td>\n",
       "      <td>16a691da-d735-4ad2-953c-db2678980107</td>\n",
       "      <td>0.010340</td>\n",
       "    </tr>\n",
       "    <tr>\n",
       "      <th>5</th>\n",
       "      <td>0001</td>\n",
       "      <td>E1</td>\n",
       "      <td>[0001]</td>\n",
       "      <td>[0002, 0004, 0005, 0008]</td>\n",
       "      <td>[0003, 0006]</td>\n",
       "      <td>0007</td>\n",
       "      <td>d91f41ff-0308-46df-9bcd-67d46f377777</td>\n",
       "      <td>0.006673</td>\n",
       "    </tr>\n",
       "    <tr>\n",
       "      <th>6</th>\n",
       "      <td>0001</td>\n",
       "      <td>E1</td>\n",
       "      <td>[0001]</td>\n",
       "      <td>[0002, 0005, 0006, 0007]</td>\n",
       "      <td>[0003, 0004]</td>\n",
       "      <td>0008</td>\n",
       "      <td>a1eacac2-9e31-437a-9350-110d2ef2f1a5</td>\n",
       "      <td>0.006822</td>\n",
       "    </tr>\n",
       "  </tbody>\n",
       "</table>\n",
       "</div>"
      ]
     },
     "execution_count": 11,
     "metadata": {},
     "output_type": "execute_result"
    }
   ],
   "execution_count": 11
  },
  {
   "metadata": {
    "ExecuteTime": {
     "end_time": "2025-01-13T12:29:05.409021Z",
     "start_time": "2025-01-13T12:29:05.394070Z"
    }
   },
   "cell_type": "code",
   "source": [
    "experimentModels_N2 = experimentModels.copy()\n",
    "experimentModels_N2.head()"
   ],
   "outputs": [
    {
     "data": {
      "text/plain": [
       "  criteriumId criteriumName labelerIdList                     train  \\\n",
       "0        0001            E1        [0001]  [0004, 0005, 0006, 0007]   \n",
       "1        0001            E1        [0001]  [0002, 0005, 0006, 0008]   \n",
       "2        0001            E1        [0001]  [0002, 0003, 0005, 0007]   \n",
       "3        0001            E1        [0001]  [0002, 0003, 0007, 0008]   \n",
       "4        0001            E1        [0001]  [0002, 0003, 0007, 0008]   \n",
       "\n",
       "            val  test                               modelId  spindleTimeRate  \n",
       "0  [0003, 0008]  0002  a4659423-83e4-4da3-91b5-177fa8bc17fe         0.008075  \n",
       "1  [0007, 0004]  0003  ad3be387-5be4-4e8e-b57d-072003b617d3         0.005000  \n",
       "2  [0006, 0008]  0004  8bcbbc8b-b83e-4b97-8f7c-0dd0760680e7         0.012035  \n",
       "3  [0006, 0004]  0005  f88ed731-de3a-4c9a-90d5-04d1fcd93d45         0.010340  \n",
       "4  [0004, 0005]  0006  16a691da-d735-4ad2-953c-db2678980107         0.010340  "
      ],
      "text/html": [
       "<div>\n",
       "<style scoped>\n",
       "    .dataframe tbody tr th:only-of-type {\n",
       "        vertical-align: middle;\n",
       "    }\n",
       "\n",
       "    .dataframe tbody tr th {\n",
       "        vertical-align: top;\n",
       "    }\n",
       "\n",
       "    .dataframe thead th {\n",
       "        text-align: right;\n",
       "    }\n",
       "</style>\n",
       "<table border=\"1\" class=\"dataframe\">\n",
       "  <thead>\n",
       "    <tr style=\"text-align: right;\">\n",
       "      <th></th>\n",
       "      <th>criteriumId</th>\n",
       "      <th>criteriumName</th>\n",
       "      <th>labelerIdList</th>\n",
       "      <th>train</th>\n",
       "      <th>val</th>\n",
       "      <th>test</th>\n",
       "      <th>modelId</th>\n",
       "      <th>spindleTimeRate</th>\n",
       "    </tr>\n",
       "  </thead>\n",
       "  <tbody>\n",
       "    <tr>\n",
       "      <th>0</th>\n",
       "      <td>0001</td>\n",
       "      <td>E1</td>\n",
       "      <td>[0001]</td>\n",
       "      <td>[0004, 0005, 0006, 0007]</td>\n",
       "      <td>[0003, 0008]</td>\n",
       "      <td>0002</td>\n",
       "      <td>a4659423-83e4-4da3-91b5-177fa8bc17fe</td>\n",
       "      <td>0.008075</td>\n",
       "    </tr>\n",
       "    <tr>\n",
       "      <th>1</th>\n",
       "      <td>0001</td>\n",
       "      <td>E1</td>\n",
       "      <td>[0001]</td>\n",
       "      <td>[0002, 0005, 0006, 0008]</td>\n",
       "      <td>[0007, 0004]</td>\n",
       "      <td>0003</td>\n",
       "      <td>ad3be387-5be4-4e8e-b57d-072003b617d3</td>\n",
       "      <td>0.005000</td>\n",
       "    </tr>\n",
       "    <tr>\n",
       "      <th>2</th>\n",
       "      <td>0001</td>\n",
       "      <td>E1</td>\n",
       "      <td>[0001]</td>\n",
       "      <td>[0002, 0003, 0005, 0007]</td>\n",
       "      <td>[0006, 0008]</td>\n",
       "      <td>0004</td>\n",
       "      <td>8bcbbc8b-b83e-4b97-8f7c-0dd0760680e7</td>\n",
       "      <td>0.012035</td>\n",
       "    </tr>\n",
       "    <tr>\n",
       "      <th>3</th>\n",
       "      <td>0001</td>\n",
       "      <td>E1</td>\n",
       "      <td>[0001]</td>\n",
       "      <td>[0002, 0003, 0007, 0008]</td>\n",
       "      <td>[0006, 0004]</td>\n",
       "      <td>0005</td>\n",
       "      <td>f88ed731-de3a-4c9a-90d5-04d1fcd93d45</td>\n",
       "      <td>0.010340</td>\n",
       "    </tr>\n",
       "    <tr>\n",
       "      <th>4</th>\n",
       "      <td>0001</td>\n",
       "      <td>E1</td>\n",
       "      <td>[0001]</td>\n",
       "      <td>[0002, 0003, 0007, 0008]</td>\n",
       "      <td>[0004, 0005]</td>\n",
       "      <td>0006</td>\n",
       "      <td>16a691da-d735-4ad2-953c-db2678980107</td>\n",
       "      <td>0.010340</td>\n",
       "    </tr>\n",
       "  </tbody>\n",
       "</table>\n",
       "</div>"
      ]
     },
     "execution_count": 12,
     "metadata": {},
     "output_type": "execute_result"
    }
   ],
   "execution_count": 12
  },
  {
   "cell_type": "code",
   "metadata": {
    "ExecuteTime": {
     "end_time": "2025-01-13T12:29:05.516491Z",
     "start_time": "2025-01-13T12:29:05.486936Z"
    }
   },
   "source": [
    "auxThres=pd.DataFrame({\n",
    "    'hyperThres':[0.1,0.2,0.3,0.4,0.5,0.6]\n",
    "})\n",
    "auxDepth=pd.DataFrame({\n",
    "    'hyperDepth':[5,10,15,20,30,40]\n",
    "})\n",
    "auxMinDuration=pd.DataFrame({\n",
    "    'hyperMinDuration':[0.3]\n",
    "})\n",
    "auxMaxDuration=pd.DataFrame({\n",
    "    'hyperMaxDuration':[5]\n",
    "})\n",
    "auxClose=pd.DataFrame({\n",
    "    'hyperClose':[0.1]\n",
    "})\n",
    "\n",
    "\n",
    "hyperParams=pd.merge(auxThres,auxDepth,how='cross')\n",
    "hyperParams=pd.merge(hyperParams,auxMinDuration,how='cross')\n",
    "hyperParams=pd.merge(hyperParams,auxMaxDuration,how='cross')\n",
    "hyperParams=pd.merge(hyperParams,auxClose,how='cross')\n",
    "\n",
    "hyperParams"
   ],
   "outputs": [
    {
     "data": {
      "text/plain": [
       "    hyperThres  hyperDepth  hyperMinDuration  hyperMaxDuration  hyperClose\n",
       "0          0.1           5               0.3                 5         0.1\n",
       "1          0.1          10               0.3                 5         0.1\n",
       "2          0.1          15               0.3                 5         0.1\n",
       "3          0.1          20               0.3                 5         0.1\n",
       "4          0.1          30               0.3                 5         0.1\n",
       "5          0.1          40               0.3                 5         0.1\n",
       "6          0.2           5               0.3                 5         0.1\n",
       "7          0.2          10               0.3                 5         0.1\n",
       "8          0.2          15               0.3                 5         0.1\n",
       "9          0.2          20               0.3                 5         0.1\n",
       "10         0.2          30               0.3                 5         0.1\n",
       "11         0.2          40               0.3                 5         0.1\n",
       "12         0.3           5               0.3                 5         0.1\n",
       "13         0.3          10               0.3                 5         0.1\n",
       "14         0.3          15               0.3                 5         0.1\n",
       "15         0.3          20               0.3                 5         0.1\n",
       "16         0.3          30               0.3                 5         0.1\n",
       "17         0.3          40               0.3                 5         0.1\n",
       "18         0.4           5               0.3                 5         0.1\n",
       "19         0.4          10               0.3                 5         0.1\n",
       "20         0.4          15               0.3                 5         0.1\n",
       "21         0.4          20               0.3                 5         0.1\n",
       "22         0.4          30               0.3                 5         0.1\n",
       "23         0.4          40               0.3                 5         0.1\n",
       "24         0.5           5               0.3                 5         0.1\n",
       "25         0.5          10               0.3                 5         0.1\n",
       "26         0.5          15               0.3                 5         0.1\n",
       "27         0.5          20               0.3                 5         0.1\n",
       "28         0.5          30               0.3                 5         0.1\n",
       "29         0.5          40               0.3                 5         0.1\n",
       "30         0.6           5               0.3                 5         0.1\n",
       "31         0.6          10               0.3                 5         0.1\n",
       "32         0.6          15               0.3                 5         0.1\n",
       "33         0.6          20               0.3                 5         0.1\n",
       "34         0.6          30               0.3                 5         0.1\n",
       "35         0.6          40               0.3                 5         0.1"
      ],
      "text/html": [
       "<div>\n",
       "<style scoped>\n",
       "    .dataframe tbody tr th:only-of-type {\n",
       "        vertical-align: middle;\n",
       "    }\n",
       "\n",
       "    .dataframe tbody tr th {\n",
       "        vertical-align: top;\n",
       "    }\n",
       "\n",
       "    .dataframe thead th {\n",
       "        text-align: right;\n",
       "    }\n",
       "</style>\n",
       "<table border=\"1\" class=\"dataframe\">\n",
       "  <thead>\n",
       "    <tr style=\"text-align: right;\">\n",
       "      <th></th>\n",
       "      <th>hyperThres</th>\n",
       "      <th>hyperDepth</th>\n",
       "      <th>hyperMinDuration</th>\n",
       "      <th>hyperMaxDuration</th>\n",
       "      <th>hyperClose</th>\n",
       "    </tr>\n",
       "  </thead>\n",
       "  <tbody>\n",
       "    <tr>\n",
       "      <th>0</th>\n",
       "      <td>0.1</td>\n",
       "      <td>5</td>\n",
       "      <td>0.3</td>\n",
       "      <td>5</td>\n",
       "      <td>0.1</td>\n",
       "    </tr>\n",
       "    <tr>\n",
       "      <th>1</th>\n",
       "      <td>0.1</td>\n",
       "      <td>10</td>\n",
       "      <td>0.3</td>\n",
       "      <td>5</td>\n",
       "      <td>0.1</td>\n",
       "    </tr>\n",
       "    <tr>\n",
       "      <th>2</th>\n",
       "      <td>0.1</td>\n",
       "      <td>15</td>\n",
       "      <td>0.3</td>\n",
       "      <td>5</td>\n",
       "      <td>0.1</td>\n",
       "    </tr>\n",
       "    <tr>\n",
       "      <th>3</th>\n",
       "      <td>0.1</td>\n",
       "      <td>20</td>\n",
       "      <td>0.3</td>\n",
       "      <td>5</td>\n",
       "      <td>0.1</td>\n",
       "    </tr>\n",
       "    <tr>\n",
       "      <th>4</th>\n",
       "      <td>0.1</td>\n",
       "      <td>30</td>\n",
       "      <td>0.3</td>\n",
       "      <td>5</td>\n",
       "      <td>0.1</td>\n",
       "    </tr>\n",
       "    <tr>\n",
       "      <th>5</th>\n",
       "      <td>0.1</td>\n",
       "      <td>40</td>\n",
       "      <td>0.3</td>\n",
       "      <td>5</td>\n",
       "      <td>0.1</td>\n",
       "    </tr>\n",
       "    <tr>\n",
       "      <th>6</th>\n",
       "      <td>0.2</td>\n",
       "      <td>5</td>\n",
       "      <td>0.3</td>\n",
       "      <td>5</td>\n",
       "      <td>0.1</td>\n",
       "    </tr>\n",
       "    <tr>\n",
       "      <th>7</th>\n",
       "      <td>0.2</td>\n",
       "      <td>10</td>\n",
       "      <td>0.3</td>\n",
       "      <td>5</td>\n",
       "      <td>0.1</td>\n",
       "    </tr>\n",
       "    <tr>\n",
       "      <th>8</th>\n",
       "      <td>0.2</td>\n",
       "      <td>15</td>\n",
       "      <td>0.3</td>\n",
       "      <td>5</td>\n",
       "      <td>0.1</td>\n",
       "    </tr>\n",
       "    <tr>\n",
       "      <th>9</th>\n",
       "      <td>0.2</td>\n",
       "      <td>20</td>\n",
       "      <td>0.3</td>\n",
       "      <td>5</td>\n",
       "      <td>0.1</td>\n",
       "    </tr>\n",
       "    <tr>\n",
       "      <th>10</th>\n",
       "      <td>0.2</td>\n",
       "      <td>30</td>\n",
       "      <td>0.3</td>\n",
       "      <td>5</td>\n",
       "      <td>0.1</td>\n",
       "    </tr>\n",
       "    <tr>\n",
       "      <th>11</th>\n",
       "      <td>0.2</td>\n",
       "      <td>40</td>\n",
       "      <td>0.3</td>\n",
       "      <td>5</td>\n",
       "      <td>0.1</td>\n",
       "    </tr>\n",
       "    <tr>\n",
       "      <th>12</th>\n",
       "      <td>0.3</td>\n",
       "      <td>5</td>\n",
       "      <td>0.3</td>\n",
       "      <td>5</td>\n",
       "      <td>0.1</td>\n",
       "    </tr>\n",
       "    <tr>\n",
       "      <th>13</th>\n",
       "      <td>0.3</td>\n",
       "      <td>10</td>\n",
       "      <td>0.3</td>\n",
       "      <td>5</td>\n",
       "      <td>0.1</td>\n",
       "    </tr>\n",
       "    <tr>\n",
       "      <th>14</th>\n",
       "      <td>0.3</td>\n",
       "      <td>15</td>\n",
       "      <td>0.3</td>\n",
       "      <td>5</td>\n",
       "      <td>0.1</td>\n",
       "    </tr>\n",
       "    <tr>\n",
       "      <th>15</th>\n",
       "      <td>0.3</td>\n",
       "      <td>20</td>\n",
       "      <td>0.3</td>\n",
       "      <td>5</td>\n",
       "      <td>0.1</td>\n",
       "    </tr>\n",
       "    <tr>\n",
       "      <th>16</th>\n",
       "      <td>0.3</td>\n",
       "      <td>30</td>\n",
       "      <td>0.3</td>\n",
       "      <td>5</td>\n",
       "      <td>0.1</td>\n",
       "    </tr>\n",
       "    <tr>\n",
       "      <th>17</th>\n",
       "      <td>0.3</td>\n",
       "      <td>40</td>\n",
       "      <td>0.3</td>\n",
       "      <td>5</td>\n",
       "      <td>0.1</td>\n",
       "    </tr>\n",
       "    <tr>\n",
       "      <th>18</th>\n",
       "      <td>0.4</td>\n",
       "      <td>5</td>\n",
       "      <td>0.3</td>\n",
       "      <td>5</td>\n",
       "      <td>0.1</td>\n",
       "    </tr>\n",
       "    <tr>\n",
       "      <th>19</th>\n",
       "      <td>0.4</td>\n",
       "      <td>10</td>\n",
       "      <td>0.3</td>\n",
       "      <td>5</td>\n",
       "      <td>0.1</td>\n",
       "    </tr>\n",
       "    <tr>\n",
       "      <th>20</th>\n",
       "      <td>0.4</td>\n",
       "      <td>15</td>\n",
       "      <td>0.3</td>\n",
       "      <td>5</td>\n",
       "      <td>0.1</td>\n",
       "    </tr>\n",
       "    <tr>\n",
       "      <th>21</th>\n",
       "      <td>0.4</td>\n",
       "      <td>20</td>\n",
       "      <td>0.3</td>\n",
       "      <td>5</td>\n",
       "      <td>0.1</td>\n",
       "    </tr>\n",
       "    <tr>\n",
       "      <th>22</th>\n",
       "      <td>0.4</td>\n",
       "      <td>30</td>\n",
       "      <td>0.3</td>\n",
       "      <td>5</td>\n",
       "      <td>0.1</td>\n",
       "    </tr>\n",
       "    <tr>\n",
       "      <th>23</th>\n",
       "      <td>0.4</td>\n",
       "      <td>40</td>\n",
       "      <td>0.3</td>\n",
       "      <td>5</td>\n",
       "      <td>0.1</td>\n",
       "    </tr>\n",
       "    <tr>\n",
       "      <th>24</th>\n",
       "      <td>0.5</td>\n",
       "      <td>5</td>\n",
       "      <td>0.3</td>\n",
       "      <td>5</td>\n",
       "      <td>0.1</td>\n",
       "    </tr>\n",
       "    <tr>\n",
       "      <th>25</th>\n",
       "      <td>0.5</td>\n",
       "      <td>10</td>\n",
       "      <td>0.3</td>\n",
       "      <td>5</td>\n",
       "      <td>0.1</td>\n",
       "    </tr>\n",
       "    <tr>\n",
       "      <th>26</th>\n",
       "      <td>0.5</td>\n",
       "      <td>15</td>\n",
       "      <td>0.3</td>\n",
       "      <td>5</td>\n",
       "      <td>0.1</td>\n",
       "    </tr>\n",
       "    <tr>\n",
       "      <th>27</th>\n",
       "      <td>0.5</td>\n",
       "      <td>20</td>\n",
       "      <td>0.3</td>\n",
       "      <td>5</td>\n",
       "      <td>0.1</td>\n",
       "    </tr>\n",
       "    <tr>\n",
       "      <th>28</th>\n",
       "      <td>0.5</td>\n",
       "      <td>30</td>\n",
       "      <td>0.3</td>\n",
       "      <td>5</td>\n",
       "      <td>0.1</td>\n",
       "    </tr>\n",
       "    <tr>\n",
       "      <th>29</th>\n",
       "      <td>0.5</td>\n",
       "      <td>40</td>\n",
       "      <td>0.3</td>\n",
       "      <td>5</td>\n",
       "      <td>0.1</td>\n",
       "    </tr>\n",
       "    <tr>\n",
       "      <th>30</th>\n",
       "      <td>0.6</td>\n",
       "      <td>5</td>\n",
       "      <td>0.3</td>\n",
       "      <td>5</td>\n",
       "      <td>0.1</td>\n",
       "    </tr>\n",
       "    <tr>\n",
       "      <th>31</th>\n",
       "      <td>0.6</td>\n",
       "      <td>10</td>\n",
       "      <td>0.3</td>\n",
       "      <td>5</td>\n",
       "      <td>0.1</td>\n",
       "    </tr>\n",
       "    <tr>\n",
       "      <th>32</th>\n",
       "      <td>0.6</td>\n",
       "      <td>15</td>\n",
       "      <td>0.3</td>\n",
       "      <td>5</td>\n",
       "      <td>0.1</td>\n",
       "    </tr>\n",
       "    <tr>\n",
       "      <th>33</th>\n",
       "      <td>0.6</td>\n",
       "      <td>20</td>\n",
       "      <td>0.3</td>\n",
       "      <td>5</td>\n",
       "      <td>0.1</td>\n",
       "    </tr>\n",
       "    <tr>\n",
       "      <th>34</th>\n",
       "      <td>0.6</td>\n",
       "      <td>30</td>\n",
       "      <td>0.3</td>\n",
       "      <td>5</td>\n",
       "      <td>0.1</td>\n",
       "    </tr>\n",
       "    <tr>\n",
       "      <th>35</th>\n",
       "      <td>0.6</td>\n",
       "      <td>40</td>\n",
       "      <td>0.3</td>\n",
       "      <td>5</td>\n",
       "      <td>0.1</td>\n",
       "    </tr>\n",
       "  </tbody>\n",
       "</table>\n",
       "</div>"
      ]
     },
     "execution_count": 13,
     "metadata": {},
     "output_type": "execute_result"
    }
   ],
   "execution_count": 13
  },
  {
   "metadata": {
    "ExecuteTime": {
     "end_time": "2025-01-13T12:36:46.364216Z",
     "start_time": "2025-01-13T12:29:05.688777Z"
    }
   },
   "cell_type": "code",
   "source": [
    "rawF1s = []\n",
    "rawPrecisions = []\n",
    "rawRecalls = []\n",
    "\n",
    "rawThres = []\n",
    "rawDepth = []\n",
    "\n",
    "f1s = []\n",
    "precisions = []\n",
    "recalls = []\n",
    "\n",
    "eventF1s = []\n",
    "eventPrecisions = []\n",
    "eventRecalls = []\n",
    "\n",
    "checks = []\n",
    "\n",
    "rawF1s_N2 = []\n",
    "rawPrecisions_N2 = []\n",
    "rawRecalls_N2 = []\n",
    "\n",
    "f1s_N2 = []\n",
    "precisions_N2 = []\n",
    "recalls_N2 = []\n",
    "\n",
    "eventF1s_N2 = []\n",
    "eventPrecisions_N2 = []\n",
    "eventRecalls_N2 = []\n",
    "\n",
    "checks_N2 = []\n",
    "\n",
    "allDetections=[]\n",
    "allAnnotations=[]\n",
    "allDetections_N2=[]\n",
    "allAnnotations_N2=[]\n",
    "\n",
    "thisExperimentModels = experimentModels.copy()\n",
    "for ind, row in thisExperimentModels.iterrows():\n",
    "    #load model\n",
    "    print(ind)\n",
    "    model = loadBooster(row.modelId, experimentId, datapath)\n",
    "    #initialise lists\n",
    "    rawF1xs=[]\n",
    "\n",
    "    \n",
    "\n",
    "    #iterate validation subjects\n",
    "    for valSubjectId in row.val:\n",
    "        print(valSubjectId)\n",
    "        #Define annotations criterium\n",
    "        usedAnnotations=annotations[annotations.labelerId.isin(row.labelerIdList)].reset_index(drop=True)\n",
    "        #Load features and labels\n",
    "        valFeatures=loadFeatureMatrix([valSubjectId],featureSelection,signalsMetadata,samplerate,datapath)\n",
    "        valLabels=loadLabelsVector([valSubjectId],usedAnnotations,signalsMetadata,samplerate)\n",
    "        #Predict\n",
    "        valDMatrix=xgb.DMatrix(data=valFeatures)\n",
    "        probabilities=[]\n",
    "        for i_depth, j_depth in auxDepth.iterrows():\n",
    "            pred=model.predict(valDMatrix,iteration_range=(0,int(j_depth['hyperDepth'])))\n",
    "            probabilities.append(pred)\n",
    "        probabilities=np.array(probabilities)\n",
    "        f1xs=[]\n",
    "\n",
    "        \n",
    "        for ind_hyper,row_hyper in hyperParams.iterrows():\n",
    "            thisExperimentModels=experimentModels.copy()\n",
    "            hyperThres=row_hyper.hyperThres\n",
    "            hyperDepth=int(row_hyper.hyperDepth)\n",
    "            hyperMinDuration=row_hyper.hyperMinDuration\n",
    "            hyperMaxDuration=row_hyper.hyperMaxDuration\n",
    "            hyperClose=row_hyper.hyperClose\n",
    "            probs=probabilities[auxDepth['hyperDepth']==hyperDepth][0]\n",
    "            raw=probs>=hyperThres\n",
    "            #Processed labels\n",
    "            processed=labelingProcess(raw,hyperClose,hyperMinDuration,samplerate)\n",
    "            gtAnnotations=labelVectorToAnnotations(valLabels,samplerate)\n",
    "            detections=labelVectorToAnnotations(processed,samplerate)\n",
    "            detections=detections[detections.duration<hyperMaxDuration]\n",
    "            #Metrics\n",
    "            f,r,p=annotationPairToMetrics(gtAnnotations,detections, thresIoU=0.2)\n",
    "        \n",
    "            #Metric appends\n",
    "            f1xs.append(f)\n",
    "\n",
    "        rawF1xs.append(np.array(f1xs))\n",
    "\n",
    "    #statistics of the metrics over the subjects of the validation set\n",
    "    meanF1s=np.mean(np.array(rawF1xs), axis=0)\n",
    "    \n",
    "    optimalInd=hyperParams[meanF1s==np.max(meanF1s)].iloc[0]\n",
    "    hyperParams_opt=optimalInd\n",
    "    print(hyperParams_opt)\n",
    "    hyperThres=hyperParams_opt['hyperThres']\n",
    "    hyperDepth=int(hyperParams_opt['hyperDepth'])\n",
    "    hyperMinDuration=hyperParams_opt['hyperMinDuration']\n",
    "    hyperMaxDuration=hyperParams_opt['hyperMaxDuration']\n",
    "    hyperClose=hyperParams_opt['hyperClose']\n",
    "    \n",
    "    ##\n",
    "    rawThres.append(hyperThres)\n",
    "    rawDepth.append(hyperDepth)\n",
    "\n",
    "\n",
    "    testSubjectId=row.test\n",
    "    \n",
    "    #Define annotations criterium\n",
    "    usedAnnotations=annotations[annotations.labelerId.isin(row.labelerIdList)].reset_index(drop=True)\n",
    "    #Load features and labels\n",
    "    testFeatures=loadFeatureMatrix([testSubjectId],featureSelection,signalsMetadata,samplerate,datapath)\n",
    "    testLabels=loadLabelsVector([testSubjectId],usedAnnotations,signalsMetadata,samplerate)\n",
    "    \n",
    "    \n",
    "    #Predict\n",
    "    testDMatrix=xgb.DMatrix(data=testFeatures)\n",
    "    probabilities=model.predict(testDMatrix,iteration_range=(0,hyperDepth))\n",
    "    rawLabels=probabilities>=hyperThres\n",
    "    #Raw Metrics\n",
    "    rawTp=np.sum(rawLabels*testLabels)\n",
    "    rawFp=np.sum(rawLabels*(1-testLabels))\n",
    "    rawTn=np.sum((1-rawLabels)*(1-testLabels))\n",
    "    rawFn=np.sum((1-rawLabels)*testLabels)\n",
    "    #Raw appends\n",
    "    rawF1s.append(2*rawTp/(2*rawTp+rawFp+rawFn))\n",
    "    rawPrecisions.append(rawTp/(rawTp+rawFp) )\n",
    "    rawRecalls.append(rawTp/(rawTp+rawFn))\n",
    "    #Process\n",
    "    processedLabels=labelingProcess(rawLabels,hyperClose,hyperMinDuration,samplerate)\n",
    "    #Processed metrics\n",
    "    tp=np.sum(processedLabels*testLabels)\n",
    "    fp=np.sum(processedLabels*(1-testLabels))\n",
    "    tn=np.sum((1-processedLabels)*(1-testLabels))\n",
    "    fn=np.sum((1-processedLabels)*testLabels)\n",
    "    #Processed appends\n",
    "    f1s.append(2*tp/(2*tp+fp+fn))\n",
    "    precisions.append(tp/(tp+fp))\n",
    "    recalls.append(tp/(tp+fn))\n",
    "\n",
    "    #By-event metrics\n",
    "    processedAnnotations=labelVectorToAnnotations(processedLabels,samplerate)\n",
    "    processedAnnotations=processedAnnotations[processedAnnotations.duration<hyperMaxDuration]\n",
    "    gtAnnotations=labelVectorToAnnotations(testLabels,samplerate)   #<- or just filter the annotations\n",
    "    f,r,p=annotationPairToMetrics(gtAnnotations,processedAnnotations, thresIoU=0.2)\n",
    "    print('F1-score')\n",
    "    print(f)\n",
    "    #calculate metrics\n",
    "    eventF1s.append(f)\n",
    "    eventPrecisions.append(p)\n",
    "    eventRecalls.append(r)\n",
    "    \n",
    "    allDetections.append(processedAnnotations)\n",
    "    allAnnotations.append(gtAnnotations)\n",
    "    \n",
    "    #N2\n",
    "    \n",
    "    hypnogram=loadCOGNITIONHypnogram(testSubjectId,cognipath)\n",
    "\n",
    "    #Load labels\n",
    "    testLabels=loadLabelsVector([testSubjectId],usedAnnotations,signalsMetadata,samplerate)\n",
    "    \n",
    "    testLabels=testLabels*(hypnogram==2)\n",
    "\n",
    "    rawLabels=rawLabels*(hypnogram==2)\n",
    "\n",
    "\n",
    "    \n",
    "    #Raw Metrics\n",
    "    rawTp = np.sum(rawLabels * testLabels)\n",
    "    rawFp = np.sum(rawLabels * (1 - testLabels))\n",
    "    rawTn = np.sum((1 - rawLabels) * (1 - testLabels))\n",
    "    rawFn = np.sum((1 - rawLabels) * testLabels)\n",
    "    #Raw appends\n",
    "    rawF1s_N2.append(2 * rawTp / (2 * rawTp + rawFp + rawFn))\n",
    "    rawPrecisions_N2.append(rawTp / (rawTp + rawFp))\n",
    "    rawRecalls_N2.append(rawTp / (rawTp + rawFn))\n",
    "    #Process\n",
    "    processedLabels=labelingProcess(rawLabels,hyperClose,hyperMinDuration,samplerate)\n",
    "    #Processed metrics\n",
    "    tp = np.sum(processedLabels * testLabels)\n",
    "    fp = np.sum(processedLabels * (1 - testLabels))\n",
    "    tn = np.sum((1 - processedLabels) * (1 - testLabels))\n",
    "    fn = np.sum((1 - processedLabels) * testLabels)\n",
    "    #Processed appends\n",
    "    f1s_N2.append(2 * tp / (2 * tp + fp + fn))\n",
    "    precisions_N2.append(tp / (tp + fp))\n",
    "    recalls_N2.append(tp / (tp + fn))\n",
    "\n",
    "    #By-event metrics\n",
    "    processedAnnotations = labelVectorToAnnotations(processedLabels, samplerate)\n",
    "    gtAnnotations = labelVectorToAnnotations(testLabels, samplerate)  #<- or just filter the annotations\n",
    "    f, r, p = annotationPairToMetrics(gtAnnotations, processedAnnotations, thresIoU=0.2)\n",
    "    print('N2 F1-score')\n",
    "    print(f)\n",
    "    #calculate metrics\n",
    "    eventF1s_N2.append(f)\n",
    "    eventPrecisions_N2.append(p)\n",
    "    eventRecalls_N2.append(r)\n",
    "    \n",
    "    allDetections_N2.append(processedAnnotations)\n",
    "    allAnnotations_N2.append(gtAnnotations)\n",
    "\n",
    "#include metrics in the dataframe\n",
    "experimentModels['rawF1'] = rawF1s\n",
    "experimentModels['rawPrecision'] = rawPrecisions\n",
    "experimentModels['rawRecall'] = rawRecalls\n",
    "\n",
    "experimentModels['f1'] = f1s\n",
    "experimentModels['precision'] = precisions\n",
    "experimentModels['recall'] = recalls\n",
    "\n",
    "experimentModels['eventF1'] = eventF1s\n",
    "experimentModels['eventPrecision'] = eventPrecisions\n",
    "experimentModels['eventRecall'] = eventRecalls\n",
    "\n",
    "experimentModels['Binarization_Threshold'] = rawF1s\n",
    "experimentModels['Boosting_Iterations'] = rawPrecisions\n",
    "#include metrics in the N2 dataframe\n",
    "experimentModels_N2['rawF1'] = rawF1s_N2\n",
    "experimentModels_N2['rawPrecision'] = rawPrecisions_N2\n",
    "experimentModels_N2['rawRecall'] = rawRecalls_N2\n",
    "\n",
    "experimentModels_N2['f1'] = f1s_N2\n",
    "experimentModels_N2['precision'] = precisions_N2\n",
    "experimentModels_N2['recall'] = recalls_N2\n",
    "\n",
    "experimentModels_N2['eventF1'] = eventF1s_N2\n",
    "experimentModels_N2['eventPrecision'] = eventPrecisions_N2\n",
    "experimentModels_N2['eventRecall'] = eventRecalls_N2\n",
    "\n",
    "experimentModels_N2['Binarization_Threshold'] = rawF1s\n",
    "experimentModels_N2['Boosting_Iterations'] = rawPrecisions"
   ],
   "outputs": [
    {
     "name": "stdout",
     "output_type": "stream",
     "text": [
      "0\n",
      "0003\n",
      "0008\n",
      "hyperThres           0.2\n",
      "hyperDepth          10.0\n",
      "hyperMinDuration     0.3\n",
      "hyperMaxDuration     5.0\n",
      "hyperClose           0.1\n",
      "Name: 7, dtype: float64\n",
      "F1-score\n",
      "0.697560975609756\n",
      "N2 F1-score\n",
      "0.7299703264094956\n",
      "1\n",
      "0007\n",
      "0004\n",
      "hyperThres           0.4\n",
      "hyperDepth          10.0\n",
      "hyperMinDuration     0.3\n",
      "hyperMaxDuration     5.0\n",
      "hyperClose           0.1\n",
      "Name: 19, dtype: float64\n",
      "F1-score\n",
      "0.862789384528515\n",
      "N2 F1-score\n",
      "0.874329958308517\n",
      "2\n",
      "0006\n",
      "0008\n",
      "hyperThres           0.3\n",
      "hyperDepth          10.0\n",
      "hyperMinDuration     0.3\n",
      "hyperMaxDuration     5.0\n",
      "hyperClose           0.1\n",
      "Name: 13, dtype: float64\n",
      "F1-score\n",
      "0.7883211678832117\n",
      "N2 F1-score\n",
      "0.7974025974025974\n",
      "3\n",
      "0006\n",
      "0004\n",
      "hyperThres           0.4\n",
      "hyperDepth          15.0\n",
      "hyperMinDuration     0.3\n",
      "hyperMaxDuration     5.0\n",
      "hyperClose           0.1\n",
      "Name: 20, dtype: float64\n",
      "F1-score\n",
      "0.7094430992736077\n",
      "N2 F1-score\n",
      "0.7080745341614907\n",
      "4\n",
      "0004\n",
      "0005\n",
      "hyperThres           0.5\n",
      "hyperDepth          20.0\n",
      "hyperMinDuration     0.3\n",
      "hyperMaxDuration     5.0\n",
      "hyperClose           0.1\n",
      "Name: 27, dtype: float64\n",
      "F1-score\n",
      "0.7123893805309734\n",
      "N2 F1-score\n",
      "0.719047619047619\n",
      "5\n",
      "0003\n",
      "0006\n",
      "hyperThres           0.5\n",
      "hyperDepth          15.0\n",
      "hyperMinDuration     0.3\n",
      "hyperMaxDuration     5.0\n",
      "hyperClose           0.1\n",
      "Name: 26, dtype: float64\n",
      "F1-score\n",
      "0.7090694935217904\n",
      "N2 F1-score\n",
      "0.7235079171741778\n",
      "6\n",
      "0003\n",
      "0004\n",
      "hyperThres           0.2\n",
      "hyperDepth          20.0\n",
      "hyperMinDuration     0.3\n",
      "hyperMaxDuration     5.0\n",
      "hyperClose           0.1\n",
      "Name: 9, dtype: float64\n",
      "F1-score\n",
      "0.5128205128205128\n",
      "N2 F1-score\n",
      "0.5333333333333333\n"
     ]
    }
   ],
   "execution_count": 14
  },
  {
   "metadata": {},
   "cell_type": "markdown",
   "source": "### Get spindle mean duration"
  },
  {
   "metadata": {
    "ExecuteTime": {
     "end_time": "2025-01-13T12:37:07.919342Z",
     "start_time": "2025-01-13T12:37:07.912218Z"
    }
   },
   "cell_type": "code",
   "source": [
    "detectionDuration = list(map(lambda x: np.mean(x['duration']), allDetections))\n",
    "annotationDuration = list(map(lambda x: np.mean(x['duration']), allAnnotations))\n",
    "res = sst.linregress(annotationDuration, detectionDuration)\n",
    "print(res)\n",
    "\n",
    "print(np.mean(np.array(detectionDuration) - np.array(annotationDuration)))"
   ],
   "outputs": [
    {
     "name": "stdout",
     "output_type": "stream",
     "text": [
      "LinregressResult(slope=0.9625380927050098, intercept=-0.06834787310066837, rvalue=0.9527983012608808, pvalue=0.0009063098621739285, stderr=0.13716378415050065, intercept_stderr=0.13537151147739343)\n",
      "-0.10495563482402492\n"
     ]
    }
   ],
   "execution_count": 42
  },
  {
   "metadata": {},
   "cell_type": "markdown",
   "source": "### Get number and density of spindles"
  },
  {
   "metadata": {
    "ExecuteTime": {
     "end_time": "2025-01-13T12:37:07.996514Z",
     "start_time": "2025-01-13T12:37:07.993327Z"
    }
   },
   "cell_type": "code",
   "source": [
    "detectionDensity=list(map(lambda x: len(x[0])/(x[1]/60),zip(allDetections,durations)))\n",
    "annotationDensity=list(map(lambda x: len(x[0])/(x[1]/60),zip(allAnnotations,durations)))\n",
    "\n",
    "\n",
    "detectionNumber=list(map(lambda x: len(x),allDetections))\n",
    "annotationNumber=list(map(lambda x: len(x),allAnnotations))\n",
    "\n",
    "experimentModels['detectionNumber'] = detectionDensity\n",
    "experimentModels['annotationNumber'] = annotationDensity\n",
    "experimentModels['detectionDensity'] = detectionDensity\n",
    "experimentModels['annotationDensity'] = annotationDensity"
   ],
   "outputs": [],
   "execution_count": 43
  },
  {
   "metadata": {
    "ExecuteTime": {
     "end_time": "2025-01-13T12:37:08.137530Z",
     "start_time": "2025-01-13T12:37:08.045402Z"
    }
   },
   "cell_type": "code",
   "source": [
    "res = sst.linregress(annotationDensity, detectionDensity)\n",
    "print(res)\n",
    "\n",
    "print(np.mean(np.array(detectionDensity) - np.array(annotationDensity)))\n",
    "plt.plot(annotationDensity,detectionDensity,linestyle='',marker='o',color='black',alpha=0.5,label='experimental')\n",
    "plt.plot(annotationDensity, res.intercept + res.slope*np.array(annotationDensity), 'b', linestyle='--', label='fitted')\n",
    "plt.legend()\n",
    "plt.title(\"COGNITION\")\n",
    "plt.xlabel(\"expert density of spindles / events per minute\")\n",
    "plt.ylabel(\"automatic density of spindles / events per minute\")\n",
    "plt.show()"
   ],
   "outputs": [
    {
     "name": "stdout",
     "output_type": "stream",
     "text": [
      "LinregressResult(slope=1.1143835835829727, intercept=-0.002686811226484731, rvalue=0.9557418340864965, pvalue=0.0007727906340196832, stderr=0.15341279294508064, intercept_stderr=0.09804788285706686)\n",
      "0.05844155844155845\n"
     ]
    },
    {
     "data": {
      "text/plain": [
       "<Figure size 640x480 with 1 Axes>"
      ],
      "image/png": "[encoded data removed]"
     },
     "metadata": {},
     "output_type": "display_data"
    }
   ],
   "execution_count": 44
  },
  {
   "metadata": {
    "ExecuteTime": {
     "end_time": "2025-01-13T12:37:08.354283Z",
     "start_time": "2025-01-13T12:37:08.185410Z"
    }
   },
   "cell_type": "code",
   "source": [
    "timesN2=[]\n",
    "for ind, row in experimentModels.iterrows():\n",
    "    hypnogram=loadCOGNITIONHypnogram(row.test,cognipath)\n",
    "    timesN2.append(np.sum(hypnogram==2))\n",
    "timesN2=np.array(timesN2)\n",
    "timesN2=timesN2/200\n",
    "\n",
    "detectionDensity=list(map(lambda x: len(x[0])/(x[1]/60),zip(allDetections_N2,timesN2)))\n",
    "annotationDensity=list(map(lambda x: len(x[0])/(x[1]/60),zip(allAnnotations_N2,timesN2)))\n",
    "detectionNumber=list(map(lambda x: len(x),allDetections_N2))\n",
    "annotationNumber=list(map(lambda x: len(x),allAnnotations_N2))\n",
    "\n",
    "experimentModels_N2['detectionNumber'] = detectionDensity\n",
    "experimentModels_N2['annotationNumber'] = annotationDensity\n",
    "experimentModels_N2['detectionDensity'] = detectionDensity\n",
    "experimentModels_N2['annotationDensity'] = annotationDensity"
   ],
   "outputs": [],
   "execution_count": 45
  },
  {
   "metadata": {
    "ExecuteTime": {
     "end_time": "2025-01-13T12:37:08.493334Z",
     "start_time": "2025-01-13T12:37:08.418872Z"
    }
   },
   "cell_type": "code",
   "source": [
    "res=sst.linregress(annotationDensity,detectionDensity)\n",
    "print(res)\n",
    "print(res.pvalue)\n",
    "\n",
    "print(np.mean(np.array(detectionDensity) - np.array(annotationDensity)))\n",
    "\n",
    "plt.plot(annotationDensity,detectionDensity,linestyle='',marker='o',color='black',alpha=0.5,label='experimental')\n",
    "plt.plot(annotationDensity, res.intercept + res.slope*np.array(annotationDensity), 'b', linestyle='--', label='fitted')\n",
    "plt.legend()\n",
    "plt.title(\"MASS SS2 expert E2\")\n",
    "plt.xlabel(\"expert density of spindles / events per N2 minute\")\n",
    "plt.ylabel(\"automatic density of spindles / events per N2 minute\")\n",
    "plt.show()"
   ],
   "outputs": [
    {
     "name": "stdout",
     "output_type": "stream",
     "text": [
      "LinregressResult(slope=1.0427471566146842, intercept=0.05371421099283702, rvalue=0.9318111669161434, pvalue=0.00224742374208704, stderr=0.1816373121560507, intercept_stderr=0.24386160478395855)\n",
      "0.00224742374208704\n",
      "0.10340672223563108\n"
     ]
    },
    {
     "data": {
      "text/plain": [
       "<Figure size 640x480 with 1 Axes>"
      ],
      "image/png": "[encoded data removed]"
     },
     "metadata": {},
     "output_type": "display_data"
    }
   ],
   "execution_count": 46
  },
  {
   "metadata": {
    "ExecuteTime": {
     "end_time": "2025-01-13T12:37:08.555866Z",
     "start_time": "2025-01-13T12:37:08.541314Z"
    }
   },
   "cell_type": "code",
   "source": "dumpPickle('experimentModels_ValidationperModel_Testing_E1_IoU-0.2_temp_oldF1.pkl',experimentModels)",
   "outputs": [],
   "execution_count": 47
  },
  {
   "cell_type": "code",
   "metadata": {
    "ExecuteTime": {
     "end_time": "2025-01-13T12:37:08.618721Z",
     "start_time": "2025-01-13T12:37:08.603846Z"
    }
   },
   "source": "experimentModels.columns",
   "outputs": [
    {
     "data": {
      "text/plain": [
       "Index(['criteriumId', 'criteriumName', 'labelerIdList', 'train', 'val', 'test',\n",
       "       'modelId', 'spindleTimeRate', 'rawF1', 'rawPrecision', 'rawRecall',\n",
       "       'f1', 'precision', 'recall', 'eventF1', 'eventPrecision', 'eventRecall',\n",
       "       'Binarization_Threshold', 'Boosting_Iterations', 'detectionNumber',\n",
       "       'annotationNumber', 'detectionDensity', 'annotationDensity'],\n",
       "      dtype='object')"
      ]
     },
     "execution_count": 48,
     "metadata": {},
     "output_type": "execute_result"
    }
   ],
   "execution_count": 48
  },
  {
   "attachments": {},
   "cell_type": "markdown",
   "metadata": {},
   "source": "## Results all"
  },
  {
   "metadata": {
    "ExecuteTime": {
     "end_time": "2025-01-13T12:37:08.743102Z",
     "start_time": "2025-01-13T12:37:08.665963Z"
    }
   },
   "cell_type": "code",
   "source": [
    "fig=px.scatter(experimentModels,x='rawF1',y='f1',color='test',hover_name='modelId', marginal_y=\"histogram\")\n",
    "fig.add_trace(\n",
    "    go.Scatter(x=experimentModels['rawF1'], y=experimentModels['rawF1'], name=\"identity\", mode='lines',fill=\"toself\")\n",
    ")\n",
    "fig=px.scatter(experimentModels,x='eventF1',y='eventRecall',color='test',hover_name='modelId', marginal_y=\"histogram\")\n",
    "fig.add_trace(\n",
    "    go.Scatter(x=experimentModels['eventF1'], y=experimentModels['eventF1'], name=\"identity\", mode='lines',fill=\"toself\")\n",
    ")\n",
    "fig.show()"
   ],
   "outputs": [
    {
     "data": {
      "application/vnd.plotly.v1+json": {
       "data": [
        {
         "hovertemplate": "<b>%{hovertext}</b><br><br>test=0002<br>eventF1=%{x}<br>eventRecall=%{y}<extra></extra>",
         "hovertext": [
          "a4659423-83e4-4da3-91b5-177fa8bc17fe"
         ],
         "legendgroup": "0002",
         "marker": {
          "color": "#636efa",
          "symbol": "circle"
         },
         "mode": "markers",
         "name": "0002",
         "orientation": "v",
         "showlegend": true,
         "x": [
          0.697560975609756
         ],
         "xaxis": "x",
         "y": [
          0.5958333333333333
         ],
         "yaxis": "y",
         "type": "scatter"
        },
        {
         "alignmentgroup": "True",
         "bingroup": "y",
         "hovertemplate": "test=0002<br>eventRecall=%{y}<br>count=%{x}<extra></extra>",
         "legendgroup": "0002",
         "marker": {
          "color": "#636efa"
         },
         "name": "0002",
         "offsetgroup": "0002",
         "opacity": 0.5,
         "showlegend": false,
         "xaxis": "x2",
         "y": [
          0.5958333333333333
         ],
         "yaxis": "y2",
         "type": "histogram"
        },
        {
         "hovertemplate": "<b>%{hovertext}</b><br><br>test=0003<br>eventF1=%{x}<br>eventRecall=%{y}<extra></extra>",
         "hovertext": [
          "ad3be387-5be4-4e8e-b57d-072003b617d3"
         ],
         "legendgroup": "0003",
         "marker": {
          "color": "#EF553B",
          "symbol": "circle"
         },
         "mode": "markers",
         "name": "0003",
         "orientation": "v",
         "showlegend": true,
         "x": [
          0.862789384528515
         ],
         "xaxis": "x",
         "y": [
          0.8998822143698468
         ],
         "yaxis": "y",
         "type": "scatter"
        },
        {
         "alignmentgroup": "True",
         "bingroup": "y",
         "hovertemplate": "test=0003<br>eventRecall=%{y}<br>count=%{x}<extra></extra>",
         "legendgroup": "0003",
         "marker": {
          "color": "#EF553B"
         },
         "name": "0003",
         "offsetgroup": "0003",
         "opacity": 0.5,
         "showlegend": false,
         "xaxis": "x2",
         "y": [
          0.8998822143698468
         ],
         "yaxis": "y2",
         "type": "histogram"
        },
        {
         "hovertemplate": "<b>%{hovertext}</b><br><br>test=0004<br>eventF1=%{x}<br>eventRecall=%{y}<extra></extra>",
         "hovertext": [
          "8bcbbc8b-b83e-4b97-8f7c-0dd0760680e7"
         ],
         "legendgroup": "0004",
         "marker": {
          "color": "#00cc96",
          "symbol": "circle"
         },
         "mode": "markers",
         "name": "0004",
         "orientation": "v",
         "showlegend": true,
         "x": [
          0.7883211678832117
         ],
         "xaxis": "x",
         "y": [
          0.7732696897374701
         ],
         "yaxis": "y",
         "type": "scatter"
        },
        {
         "alignmentgroup": "True",
         "bingroup": "y",
         "hovertemplate": "test=0004<br>eventRecall=%{y}<br>count=%{x}<extra></extra>",
         "legendgroup": "0004",
         "marker": {
          "color": "#00cc96"
         },
         "name": "0004",
         "offsetgroup": "0004",
         "opacity": 0.5,
         "showlegend": false,
         "xaxis": "x2",
         "y": [
          0.7732696897374701
         ],
         "yaxis": "y2",
         "type": "histogram"
        },
        {
         "hovertemplate": "<b>%{hovertext}</b><br><br>test=0005<br>eventF1=%{x}<br>eventRecall=%{y}<extra></extra>",
         "hovertext": [
          "f88ed731-de3a-4c9a-90d5-04d1fcd93d45"
         ],
         "legendgroup": "0005",
         "marker": {
          "color": "#ab63fa",
          "symbol": "circle"
         },
         "mode": "markers",
         "name": "0005",
         "orientation": "v",
         "showlegend": true,
         "x": [
          0.7094430992736077
         ],
         "xaxis": "x",
         "y": [
          0.9272151898734177
         ],
         "yaxis": "y",
         "type": "scatter"
        },
        {
         "alignmentgroup": "True",
         "bingroup": "y",
         "hovertemplate": "test=0005<br>eventRecall=%{y}<br>count=%{x}<extra></extra>",
         "legendgroup": "0005",
         "marker": {
          "color": "#ab63fa"
         },
         "name": "0005",
         "offsetgroup": "0005",
         "opacity": 0.5,
         "showlegend": false,
         "xaxis": "x2",
         "y": [
          0.9272151898734177
         ],
         "yaxis": "y2",
         "type": "histogram"
        },
        {
         "hovertemplate": "<b>%{hovertext}</b><br><br>test=0006<br>eventF1=%{x}<br>eventRecall=%{y}<extra></extra>",
         "hovertext": [
          "16a691da-d735-4ad2-953c-db2678980107"
         ],
         "legendgroup": "0006",
         "marker": {
          "color": "#FFA15A",
          "symbol": "circle"
         },
         "mode": "markers",
         "name": "0006",
         "orientation": "v",
         "showlegend": true,
         "x": [
          0.7123893805309734
         ],
         "xaxis": "x",
         "y": [
          0.7123893805309734
         ],
         "yaxis": "y",
         "type": "scatter"
        },
        {
         "alignmentgroup": "True",
         "bingroup": "y",
         "hovertemplate": "test=0006<br>eventRecall=%{y}<br>count=%{x}<extra></extra>",
         "legendgroup": "0006",
         "marker": {
          "color": "#FFA15A"
         },
         "name": "0006",
         "offsetgroup": "0006",
         "opacity": 0.5,
         "showlegend": false,
         "xaxis": "x2",
         "y": [
          0.7123893805309734
         ],
         "yaxis": "y2",
         "type": "histogram"
        },
        {
         "hovertemplate": "<b>%{hovertext}</b><br><br>test=0007<br>eventF1=%{x}<br>eventRecall=%{y}<extra></extra>",
         "hovertext": [
          "d91f41ff-0308-46df-9bcd-67d46f377777"
         ],
         "legendgroup": "0007",
         "marker": {
          "color": "#19d3f3",
          "symbol": "circle"
         },
         "mode": "markers",
         "name": "0007",
         "orientation": "v",
         "showlegend": true,
         "x": [
          0.7090694935217904
         ],
         "xaxis": "x",
         "y": [
          0.8091397849462365
         ],
         "yaxis": "y",
         "type": "scatter"
        },
        {
         "alignmentgroup": "True",
         "bingroup": "y",
         "hovertemplate": "test=0007<br>eventRecall=%{y}<br>count=%{x}<extra></extra>",
         "legendgroup": "0007",
         "marker": {
          "color": "#19d3f3"
         },
         "name": "0007",
         "offsetgroup": "0007",
         "opacity": 0.5,
         "showlegend": false,
         "xaxis": "x2",
         "y": [
          0.8091397849462365
         ],
         "yaxis": "y2",
         "type": "histogram"
        },
        {
         "hovertemplate": "<b>%{hovertext}</b><br><br>test=0008<br>eventF1=%{x}<br>eventRecall=%{y}<extra></extra>",
         "hovertext": [
          "a1eacac2-9e31-437a-9350-110d2ef2f1a5"
         ],
         "legendgroup": "0008",
         "marker": {
          "color": "#FF6692",
          "symbol": "circle"
         },
         "mode": "markers",
         "name": "0008",
         "orientation": "v",
         "showlegend": true,
         "x": [
          0.5128205128205128
         ],
         "xaxis": "x",
         "y": [
          0.425531914893617
         ],
         "yaxis": "y",
         "type": "scatter"
        },
        {
         "alignmentgroup": "True",
         "bingroup": "y",
         "hovertemplate": "test=0008<br>eventRecall=%{y}<br>count=%{x}<extra></extra>",
         "legendgroup": "0008",
         "marker": {
          "color": "#FF6692"
         },
         "name": "0008",
         "offsetgroup": "0008",
         "opacity": 0.5,
         "showlegend": false,
         "xaxis": "x2",
         "y": [
          0.425531914893617
         ],
         "yaxis": "y2",
         "type": "histogram"
        },
        {
         "fill": "toself",
         "mode": "lines",
         "name": "identity",
         "x": [
          0.697560975609756,
          0.862789384528515,
          0.7883211678832117,
          0.7094430992736077,
          0.7123893805309734,
          0.7090694935217904,
          0.5128205128205128
         ],
         "y": [
          0.697560975609756,
          0.862789384528515,
          0.7883211678832117,
          0.7094430992736077,
          0.7123893805309734,
          0.7090694935217904,
          0.5128205128205128
         ],
         "type": "scatter"
        }
       ],
       "layout": {
        "template": {
         "data": {
          "histogram2dcontour": [
           {
            "type": "histogram2dcontour",
            "colorbar": {
             "outlinewidth": 0,
             "ticks": ""
            },
            "colorscale": [
             [
              0.0,
              "#0d0887"
             ],
             [
              0.1111111111111111,
              "#46039f"
             ],
             [
              0.2222222222222222,
              "#7201a8"
             ],
             [
              0.3333333333333333,
              "#9c179e"
             ],
             [
              0.4444444444444444,
              "#bd3786"
             ],
             [
              0.5555555555555556,
              "#d8576b"
             ],
             [
              0.6666666666666666,
              "#ed7953"
             ],
             [
              0.7777777777777778,
              "#fb9f3a"
             ],
             [
              0.8888888888888888,
              "#fdca26"
             ],
             [
              1.0,
              "#f0f921"
             ]
            ]
           }
          ],
          "choropleth": [
           {
            "type": "choropleth",
            "colorbar": {
             "outlinewidth": 0,
             "ticks": ""
            }
           }
          ],
          "histogram2d": [
           {
            "type": "histogram2d",
            "colorbar": {
             "outlinewidth": 0,
             "ticks": ""
            },
            "colorscale": [
             [
              0.0,
              "#0d0887"
             ],
             [
              0.1111111111111111,
              "#46039f"
             ],
             [
              0.2222222222222222,
              "#7201a8"
             ],
             [
              0.3333333333333333,
              "#9c179e"
             ],
             [
              0.4444444444444444,
              "#bd3786"
             ],
             [
              0.5555555555555556,
              "#d8576b"
             ],
             [
              0.6666666666666666,
              "#ed7953"
             ],
             [
              0.7777777777777778,
              "#fb9f3a"
             ],
             [
              0.8888888888888888,
              "#fdca26"
             ],
             [
              1.0,
              "#f0f921"
             ]
            ]
           }
          ],
          "heatmap": [
           {
            "type": "heatmap",
            "colorbar": {
             "outlinewidth": 0,
             "ticks": ""
            },
            "colorscale": [
             [
              0.0,
              "#0d0887"
             ],
             [
              0.1111111111111111,
              "#46039f"
             ],
             [
              0.2222222222222222,
              "#7201a8"
             ],
             [
              0.3333333333333333,
              "#9c179e"
             ],
             [
              0.4444444444444444,
              "#bd3786"
             ],
             [
              0.5555555555555556,
              "#d8576b"
             ],
             [
              0.6666666666666666,
              "#ed7953"
             ],
             [
              0.7777777777777778,
              "#fb9f3a"
             ],
             [
              0.8888888888888888,
              "#fdca26"
             ],
             [
              1.0,
              "#f0f921"
             ]
            ]
           }
          ],
          "heatmapgl": [
           {
            "type": "heatmapgl",
            "colorbar": {
             "outlinewidth": 0,
             "ticks": ""
            },
            "colorscale": [
             [
              0.0,
              "#0d0887"
             ],
             [
              0.1111111111111111,
              "#46039f"
             ],
             [
              0.2222222222222222,
              "#7201a8"
             ],
             [
              0.3333333333333333,
              "#9c179e"
             ],
             [
              0.4444444444444444,
              "#bd3786"
             ],
             [
              0.5555555555555556,
              "#d8576b"
             ],
             [
              0.6666666666666666,
              "#ed7953"
             ],
             [
              0.7777777777777778,
              "#fb9f3a"
             ],
             [
              0.8888888888888888,
              "#fdca26"
             ],
             [
              1.0,
              "#f0f921"
             ]
            ]
           }
          ],
          "contourcarpet": [
           {
            "type": "contourcarpet",
            "colorbar": {
             "outlinewidth": 0,
             "ticks": ""
            }
           }
          ],
          "contour": [
           {
            "type": "contour",
            "colorbar": {
             "outlinewidth": 0,
             "ticks": ""
            },
            "colorscale": [
             [
              0.0,
              "#0d0887"
             ],
             [
              0.1111111111111111,
              "#46039f"
             ],
             [
              0.2222222222222222,
              "#7201a8"
             ],
             [
              0.3333333333333333,
              "#9c179e"
             ],
             [
              0.4444444444444444,
              "#bd3786"
             ],
             [
              0.5555555555555556,
              "#d8576b"
             ],
             [
              0.6666666666666666,
              "#ed7953"
             ],
             [
              0.7777777777777778,
              "#fb9f3a"
             ],
             [
              0.8888888888888888,
              "#fdca26"
             ],
             [
              1.0,
              "#f0f921"
             ]
            ]
           }
          ],
          "surface": [
           {
            "type": "surface",
            "colorbar": {
             "outlinewidth": 0,
             "ticks": ""
            },
            "colorscale": [
             [
              0.0,
              "#0d0887"
             ],
             [
              0.1111111111111111,
              "#46039f"
             ],
             [
              0.2222222222222222,
              "#7201a8"
             ],
             [
              0.3333333333333333,
              "#9c179e"
             ],
             [
              0.4444444444444444,
              "#bd3786"
             ],
             [
              0.5555555555555556,
              "#d8576b"
             ],
             [
              0.6666666666666666,
              "#ed7953"
             ],
             [
              0.7777777777777778,
              "#fb9f3a"
             ],
             [
              0.8888888888888888,
              "#fdca26"
             ],
             [
              1.0,
              "#f0f921"
             ]
            ]
           }
          ],
          "mesh3d": [
           {
            "type": "mesh3d",
            "colorbar": {
             "outlinewidth": 0,
             "ticks": ""
            }
           }
          ],
          "scatter": [
           {
            "marker": {
             "line": {
              "color": "#283442"
             }
            },
            "type": "scatter"
           }
          ],
          "parcoords": [
           {
            "type": "parcoords",
            "line": {
             "colorbar": {
              "outlinewidth": 0,
              "ticks": ""
             }
            }
           }
          ],
          "scatterpolargl": [
           {
            "type": "scatterpolargl",
            "marker": {
             "colorbar": {
              "outlinewidth": 0,
              "ticks": ""
             }
            }
           }
          ],
          "bar": [
           {
            "error_x": {
             "color": "#f2f5fa"
            },
            "error_y": {
             "color": "#f2f5fa"
            },
            "marker": {
             "line": {
              "color": "rgb(17,17,17)",
              "width": 0.5
             },
             "pattern": {
              "fillmode": "overlay",
              "size": 10,
              "solidity": 0.2
             }
            },
            "type": "bar"
           }
          ],
          "scattergeo": [
           {
            "type": "scattergeo",
            "marker": {
             "colorbar": {
              "outlinewidth": 0,
              "ticks": ""
             }
            }
           }
          ],
          "scatterpolar": [
           {
            "type": "scatterpolar",
            "marker": {
             "colorbar": {
              "outlinewidth": 0,
              "ticks": ""
             }
            }
           }
          ],
          "histogram": [
           {
            "marker": {
             "pattern": {
              "fillmode": "overlay",
              "size": 10,
              "solidity": 0.2
             }
            },
            "type": "histogram"
           }
          ],
          "scattergl": [
           {
            "marker": {
             "line": {
              "color": "#283442"
             }
            },
            "type": "scattergl"
           }
          ],
          "scatter3d": [
           {
            "type": "scatter3d",
            "line": {
             "colorbar": {
              "outlinewidth": 0,
              "ticks": ""
             }
            },
            "marker": {
             "colorbar": {
              "outlinewidth": 0,
              "ticks": ""
             }
            }
           }
          ],
          "scattermapbox": [
           {
            "type": "scattermapbox",
            "marker": {
             "colorbar": {
              "outlinewidth": 0,
              "ticks": ""
             }
            }
           }
          ],
          "scatterternary": [
           {
            "type": "scatterternary",
            "marker": {
             "colorbar": {
              "outlinewidth": 0,
              "ticks": ""
             }
            }
           }
          ],
          "scattercarpet": [
           {
            "type": "scattercarpet",
            "marker": {
             "colorbar": {
              "outlinewidth": 0,
              "ticks": ""
             }
            }
           }
          ],
          "carpet": [
           {
            "aaxis": {
             "endlinecolor": "#A2B1C6",
             "gridcolor": "#506784",
             "linecolor": "#506784",
             "minorgridcolor": "#506784",
             "startlinecolor": "#A2B1C6"
            },
            "baxis": {
             "endlinecolor": "#A2B1C6",
             "gridcolor": "#506784",
             "linecolor": "#506784",
             "minorgridcolor": "#506784",
             "startlinecolor": "#A2B1C6"
            },
            "type": "carpet"
           }
          ],
          "table": [
           {
            "cells": {
             "fill": {
              "color": "#506784"
             },
             "line": {
              "color": "rgb(17,17,17)"
             }
            },
            "header": {
             "fill": {
              "color": "#2a3f5f"
             },
             "line": {
              "color": "rgb(17,17,17)"
             }
            },
            "type": "table"
           }
          ],
          "barpolar": [
           {
            "marker": {
             "line": {
              "color": "rgb(17,17,17)",
              "width": 0.5
             },
             "pattern": {
              "fillmode": "overlay",
              "size": 10,
              "solidity": 0.2
             }
            },
            "type": "barpolar"
           }
          ],
          "pie": [
           {
            "automargin": true,
            "type": "pie"
           }
          ]
         },
         "layout": {
          "autotypenumbers": "strict",
          "colorway": [
           "#636efa",
           "#EF553B",
           "#00cc96",
           "#ab63fa",
           "#FFA15A",
           "#19d3f3",
           "#FF6692",
           "#B6E880",
           "#FF97FF",
           "#FECB52"
          ],
          "font": {
           "color": "#f2f5fa"
          },
          "hovermode": "closest",
          "hoverlabel": {
           "align": "left"
          },
          "paper_bgcolor": "rgb(17,17,17)",
          "plot_bgcolor": "rgb(17,17,17)",
          "polar": {
           "bgcolor": "rgb(17,17,17)",
           "angularaxis": {
            "gridcolor": "#506784",
            "linecolor": "#506784",
            "ticks": ""
           },
           "radialaxis": {
            "gridcolor": "#506784",
            "linecolor": "#506784",
            "ticks": ""
           }
          },
          "ternary": {
           "bgcolor": "rgb(17,17,17)",
           "aaxis": {
            "gridcolor": "#506784",
            "linecolor": "#506784",
            "ticks": ""
           },
           "baxis": {
            "gridcolor": "#506784",
            "linecolor": "#506784",
            "ticks": ""
           },
           "caxis": {
            "gridcolor": "#506784",
            "linecolor": "#506784",
            "ticks": ""
           }
          },
          "coloraxis": {
           "colorbar": {
            "outlinewidth": 0,
            "ticks": ""
           }
          },
          "colorscale": {
           "sequential": [
            [
             0.0,
             "#0d0887"
            ],
            [
             0.1111111111111111,
             "#46039f"
            ],
            [
             0.2222222222222222,
             "#7201a8"
            ],
            [
             0.3333333333333333,
             "#9c179e"
            ],
            [
             0.4444444444444444,
             "#bd3786"
            ],
            [
             0.5555555555555556,
             "#d8576b"
            ],
            [
             0.6666666666666666,
             "#ed7953"
            ],
            [
             0.7777777777777778,
             "#fb9f3a"
            ],
            [
             0.8888888888888888,
             "#fdca26"
            ],
            [
             1.0,
             "#f0f921"
            ]
           ],
           "sequentialminus": [
            [
             0.0,
             "#0d0887"
            ],
            [
             0.1111111111111111,
             "#46039f"
            ],
            [
             0.2222222222222222,
             "#7201a8"
            ],
            [
             0.3333333333333333,
             "#9c179e"
            ],
            [
             0.4444444444444444,
             "#bd3786"
            ],
            [
             0.5555555555555556,
             "#d8576b"
            ],
            [
             0.6666666666666666,
             "#ed7953"
            ],
            [
             0.7777777777777778,
             "#fb9f3a"
            ],
            [
             0.8888888888888888,
             "#fdca26"
            ],
            [
             1.0,
             "#f0f921"
            ]
           ],
           "diverging": [
            [
             0,
             "#8e0152"
            ],
            [
             0.1,
             "#c51b7d"
            ],
            [
             0.2,
             "#de77ae"
            ],
            [
             0.3,
             "#f1b6da"
            ],
            [
             0.4,
             "#fde0ef"
            ],
            [
             0.5,
             "#f7f7f7"
            ],
            [
             0.6,
             "#e6f5d0"
            ],
            [
             0.7,
             "#b8e186"
            ],
            [
             0.8,
             "#7fbc41"
            ],
            [
             0.9,
             "#4d9221"
            ],
            [
             1,
             "#276419"
            ]
           ]
          },
          "xaxis": {
           "gridcolor": "#283442",
           "linecolor": "#506784",
           "ticks": "",
           "title": {
            "standoff": 15
           },
           "zerolinecolor": "#283442",
           "automargin": true,
           "zerolinewidth": 2
          },
          "yaxis": {
           "gridcolor": "#283442",
           "linecolor": "#506784",
           "ticks": "",
           "title": {
            "standoff": 15
           },
           "zerolinecolor": "#283442",
           "automargin": true,
           "zerolinewidth": 2
          },
          "scene": {
           "xaxis": {
            "backgroundcolor": "rgb(17,17,17)",
            "gridcolor": "#506784",
            "linecolor": "#506784",
            "showbackground": true,
            "ticks": "",
            "zerolinecolor": "#C8D4E3",
            "gridwidth": 2
           },
           "yaxis": {
            "backgroundcolor": "rgb(17,17,17)",
            "gridcolor": "#506784",
            "linecolor": "#506784",
            "showbackground": true,
            "ticks": "",
            "zerolinecolor": "#C8D4E3",
            "gridwidth": 2
           },
           "zaxis": {
            "backgroundcolor": "rgb(17,17,17)",
            "gridcolor": "#506784",
            "linecolor": "#506784",
            "showbackground": true,
            "ticks": "",
            "zerolinecolor": "#C8D4E3",
            "gridwidth": 2
           }
          },
          "shapedefaults": {
           "line": {
            "color": "#f2f5fa"
           }
          },
          "annotationdefaults": {
           "arrowcolor": "#f2f5fa",
           "arrowhead": 0,
           "arrowwidth": 1
          },
          "geo": {
           "bgcolor": "rgb(17,17,17)",
           "landcolor": "rgb(17,17,17)",
           "subunitcolor": "#506784",
           "showland": true,
           "showlakes": true,
           "lakecolor": "rgb(17,17,17)"
          },
          "title": {
           "x": 0.05
          },
          "updatemenudefaults": {
           "bgcolor": "#506784",
           "borderwidth": 0
          },
          "sliderdefaults": {
           "bgcolor": "#C8D4E3",
           "borderwidth": 1,
           "bordercolor": "rgb(17,17,17)",
           "tickwidth": 0
          },
          "mapbox": {
           "style": "dark"
          }
         }
        },
        "xaxis": {
         "anchor": "y",
         "domain": [
          0.0,
          0.7363
         ],
         "title": {
          "text": "eventF1"
         }
        },
        "yaxis": {
         "anchor": "x",
         "domain": [
          0.0,
          1.0
         ],
         "title": {
          "text": "eventRecall"
         }
        },
        "xaxis2": {
         "anchor": "y2",
         "domain": [
          0.7413,
          1.0
         ],
         "matches": "x2",
         "showticklabels": false,
         "showline": false,
         "ticks": "",
         "showgrid": true
        },
        "yaxis2": {
         "anchor": "x2",
         "domain": [
          0.0,
          1.0
         ],
         "matches": "y",
         "showticklabels": false,
         "showgrid": true
        },
        "legend": {
         "title": {
          "text": "test"
         },
         "tracegroupgap": 0
        },
        "margin": {
         "t": 60
        },
        "barmode": "overlay"
       },
       "config": {
        "plotlyServerURL": "https://plot.ly"
       }
      },
      "text/html": [
       "<div>                            <div id=\"2dfde6df-4cfb-4529-a35f-c3eb4804a8cf\" class=\"plotly-graph-div\" style=\"height:525px; width:100%;\"></div>            <script type=\"text/javascript\">                require([\"plotly\"], function(Plotly) {                    window.PLOTLYENV=window.PLOTLYENV || {};                                    if (document.getElementById(\"2dfde6df-4cfb-4529-a35f-c3eb4804a8cf\")) {                    Plotly.newPlot(                        \"2dfde6df-4cfb-4529-a35f-c3eb4804a8cf\",                        [{\"hovertemplate\":\"<b>%{hovertext}</b><br><br>test=0002<br>eventF1=%{x}<br>eventRecall=%{y}<extra></extra>\",\"hovertext\":[\"a4659423-83e4-4da3-91b5-177fa8bc17fe\"],\"legendgroup\":\"0002\",\"marker\":{\"color\":\"#636efa\",\"symbol\":\"circle\"},\"mode\":\"markers\",\"name\":\"0002\",\"orientation\":\"v\",\"showlegend\":true,\"x\":[0.697560975609756],\"xaxis\":\"x\",\"y\":[0.5958333333333333],\"yaxis\":\"y\",\"type\":\"scatter\"},{\"alignmentgroup\":\"True\",\"bingroup\":\"y\",\"hovertemplate\":\"test=0002<br>eventRecall=%{y}<br>count=%{x}<extra></extra>\",\"legendgroup\":\"0002\",\"marker\":{\"color\":\"#636efa\"},\"name\":\"0002\",\"offsetgroup\":\"0002\",\"opacity\":0.5,\"showlegend\":false,\"xaxis\":\"x2\",\"y\":[0.5958333333333333],\"yaxis\":\"y2\",\"type\":\"histogram\"},{\"hovertemplate\":\"<b>%{hovertext}</b><br><br>test=0003<br>eventF1=%{x}<br>eventRecall=%{y}<extra></extra>\",\"hovertext\":[\"ad3be387-5be4-4e8e-b57d-072003b617d3\"],\"legendgroup\":\"0003\",\"marker\":{\"color\":\"#EF553B\",\"symbol\":\"circle\"},\"mode\":\"markers\",\"name\":\"0003\",\"orientation\":\"v\",\"showlegend\":true,\"x\":[0.862789384528515],\"xaxis\":\"x\",\"y\":[0.8998822143698468],\"yaxis\":\"y\",\"type\":\"scatter\"},{\"alignmentgroup\":\"True\",\"bingroup\":\"y\",\"hovertemplate\":\"test=0003<br>eventRecall=%{y}<br>count=%{x}<extra></extra>\",\"legendgroup\":\"0003\",\"marker\":{\"color\":\"#EF553B\"},\"name\":\"0003\",\"offsetgroup\":\"0003\",\"opacity\":0.5,\"showlegend\":false,\"xaxis\":\"x2\",\"y\":[0.8998822143698468],\"yaxis\":\"y2\",\"type\":\"histogram\"},{\"hovertemplate\":\"<b>%{hovertext}</b><br><br>test=0004<br>eventF1=%{x}<br>eventRecall=%{y}<extra></extra>\",\"hovertext\":[\"8bcbbc8b-b83e-4b97-8f7c-0dd0760680e7\"],\"legendgroup\":\"0004\",\"marker\":{\"color\":\"#00cc96\",\"symbol\":\"circle\"},\"mode\":\"markers\",\"name\":\"0004\",\"orientation\":\"v\",\"showlegend\":true,\"x\":[0.7883211678832117],\"xaxis\":\"x\",\"y\":[0.7732696897374701],\"yaxis\":\"y\",\"type\":\"scatter\"},{\"alignmentgroup\":\"True\",\"bingroup\":\"y\",\"hovertemplate\":\"test=0004<br>eventRecall=%{y}<br>count=%{x}<extra></extra>\",\"legendgroup\":\"0004\",\"marker\":{\"color\":\"#00cc96\"},\"name\":\"0004\",\"offsetgroup\":\"0004\",\"opacity\":0.5,\"showlegend\":false,\"xaxis\":\"x2\",\"y\":[0.7732696897374701],\"yaxis\":\"y2\",\"type\":\"histogram\"},{\"hovertemplate\":\"<b>%{hovertext}</b><br><br>test=0005<br>eventF1=%{x}<br>eventRecall=%{y}<extra></extra>\",\"hovertext\":[\"f88ed731-de3a-4c9a-90d5-04d1fcd93d45\"],\"legendgroup\":\"0005\",\"marker\":{\"color\":\"#ab63fa\",\"symbol\":\"circle\"},\"mode\":\"markers\",\"name\":\"0005\",\"orientation\":\"v\",\"showlegend\":true,\"x\":[0.7094430992736077],\"xaxis\":\"x\",\"y\":[0.9272151898734177],\"yaxis\":\"y\",\"type\":\"scatter\"},{\"alignmentgroup\":\"True\",\"bingroup\":\"y\",\"hovertemplate\":\"test=0005<br>eventRecall=%{y}<br>count=%{x}<extra></extra>\",\"legendgroup\":\"0005\",\"marker\":{\"color\":\"#ab63fa\"},\"name\":\"0005\",\"offsetgroup\":\"0005\",\"opacity\":0.5,\"showlegend\":false,\"xaxis\":\"x2\",\"y\":[0.9272151898734177],\"yaxis\":\"y2\",\"type\":\"histogram\"},{\"hovertemplate\":\"<b>%{hovertext}</b><br><br>test=0006<br>eventF1=%{x}<br>eventRecall=%{y}<extra></extra>\",\"hovertext\":[\"16a691da-d735-4ad2-953c-db2678980107\"],\"legendgroup\":\"0006\",\"marker\":{\"color\":\"#FFA15A\",\"symbol\":\"circle\"},\"mode\":\"markers\",\"name\":\"0006\",\"orientation\":\"v\",\"showlegend\":true,\"x\":[0.7123893805309734],\"xaxis\":\"x\",\"y\":[0.7123893805309734],\"yaxis\":\"y\",\"type\":\"scatter\"},{\"alignmentgroup\":\"True\",\"bingroup\":\"y\",\"hovertemplate\":\"test=0006<br>eventRecall=%{y}<br>count=%{x}<extra></extra>\",\"legendgroup\":\"0006\",\"marker\":{\"color\":\"#FFA15A\"},\"name\":\"0006\",\"offsetgroup\":\"0006\",\"opacity\":0.5,\"showlegend\":false,\"xaxis\":\"x2\",\"y\":[0.7123893805309734],\"yaxis\":\"y2\",\"type\":\"histogram\"},{\"hovertemplate\":\"<b>%{hovertext}</b><br><br>test=0007<br>eventF1=%{x}<br>eventRecall=%{y}<extra></extra>\",\"hovertext\":[\"d91f41ff-0308-46df-9bcd-67d46f377777\"],\"legendgroup\":\"0007\",\"marker\":{\"color\":\"#19d3f3\",\"symbol\":\"circle\"},\"mode\":\"markers\",\"name\":\"0007\",\"orientation\":\"v\",\"showlegend\":true,\"x\":[0.7090694935217904],\"xaxis\":\"x\",\"y\":[0.8091397849462365],\"yaxis\":\"y\",\"type\":\"scatter\"},{\"alignmentgroup\":\"True\",\"bingroup\":\"y\",\"hovertemplate\":\"test=0007<br>eventRecall=%{y}<br>count=%{x}<extra></extra>\",\"legendgroup\":\"0007\",\"marker\":{\"color\":\"#19d3f3\"},\"name\":\"0007\",\"offsetgroup\":\"0007\",\"opacity\":0.5,\"showlegend\":false,\"xaxis\":\"x2\",\"y\":[0.8091397849462365],\"yaxis\":\"y2\",\"type\":\"histogram\"},{\"hovertemplate\":\"<b>%{hovertext}</b><br><br>test=0008<br>eventF1=%{x}<br>eventRecall=%{y}<extra></extra>\",\"hovertext\":[\"a1eacac2-9e31-437a-9350-110d2ef2f1a5\"],\"legendgroup\":\"0008\",\"marker\":{\"color\":\"#FF6692\",\"symbol\":\"circle\"},\"mode\":\"markers\",\"name\":\"0008\",\"orientation\":\"v\",\"showlegend\":true,\"x\":[0.5128205128205128],\"xaxis\":\"x\",\"y\":[0.425531914893617],\"yaxis\":\"y\",\"type\":\"scatter\"},{\"alignmentgroup\":\"True\",\"bingroup\":\"y\",\"hovertemplate\":\"test=0008<br>eventRecall=%{y}<br>count=%{x}<extra></extra>\",\"legendgroup\":\"0008\",\"marker\":{\"color\":\"#FF6692\"},\"name\":\"0008\",\"offsetgroup\":\"0008\",\"opacity\":0.5,\"showlegend\":false,\"xaxis\":\"x2\",\"y\":[0.425531914893617],\"yaxis\":\"y2\",\"type\":\"histogram\"},{\"fill\":\"toself\",\"mode\":\"lines\",\"name\":\"identity\",\"x\":[0.697560975609756,0.862789384528515,0.7883211678832117,0.7094430992736077,0.7123893805309734,0.7090694935217904,0.5128205128205128],\"y\":[0.697560975609756,0.862789384528515,0.7883211678832117,0.7094430992736077,0.7123893805309734,0.7090694935217904,0.5128205128205128],\"type\":\"scatter\"}],                        {\"template\":{\"data\":{\"histogram2dcontour\":[{\"type\":\"histogram2dcontour\",\"colorbar\":{\"outlinewidth\":0,\"ticks\":\"\"},\"colorscale\":[[0.0,\"#0d0887\"],[0.1111111111111111,\"#46039f\"],[0.2222222222222222,\"#7201a8\"],[0.3333333333333333,\"#9c179e\"],[0.4444444444444444,\"#bd3786\"],[0.5555555555555556,\"#d8576b\"],[0.6666666666666666,\"#ed7953\"],[0.7777777777777778,\"#fb9f3a\"],[0.8888888888888888,\"#fdca26\"],[1.0,\"#f0f921\"]]}],\"choropleth\":[{\"type\":\"choropleth\",\"colorbar\":{\"outlinewidth\":0,\"ticks\":\"\"}}],\"histogram2d\":[{\"type\":\"histogram2d\",\"colorbar\":{\"outlinewidth\":0,\"ticks\":\"\"},\"colorscale\":[[0.0,\"#0d0887\"],[0.1111111111111111,\"#46039f\"],[0.2222222222222222,\"#7201a8\"],[0.3333333333333333,\"#9c179e\"],[0.4444444444444444,\"#bd3786\"],[0.5555555555555556,\"#d8576b\"],[0.6666666666666666,\"#ed7953\"],[0.7777777777777778,\"#fb9f3a\"],[0.8888888888888888,\"#fdca26\"],[1.0,\"#f0f921\"]]}],\"heatmap\":[{\"type\":\"heatmap\",\"colorbar\":{\"outlinewidth\":0,\"ticks\":\"\"},\"colorscale\":[[0.0,\"#0d0887\"],[0.1111111111111111,\"#46039f\"],[0.2222222222222222,\"#7201a8\"],[0.3333333333333333,\"#9c179e\"],[0.4444444444444444,\"#bd3786\"],[0.5555555555555556,\"#d8576b\"],[0.6666666666666666,\"#ed7953\"],[0.7777777777777778,\"#fb9f3a\"],[0.8888888888888888,\"#fdca26\"],[1.0,\"#f0f921\"]]}],\"heatmapgl\":[{\"type\":\"heatmapgl\",\"colorbar\":{\"outlinewidth\":0,\"ticks\":\"\"},\"colorscale\":[[0.0,\"#0d0887\"],[0.1111111111111111,\"#46039f\"],[0.2222222222222222,\"#7201a8\"],[0.3333333333333333,\"#9c179e\"],[0.4444444444444444,\"#bd3786\"],[0.5555555555555556,\"#d8576b\"],[0.6666666666666666,\"#ed7953\"],[0.7777777777777778,\"#fb9f3a\"],[0.8888888888888888,\"#fdca26\"],[1.0,\"#f0f921\"]]}],\"contourcarpet\":[{\"type\":\"contourcarpet\",\"colorbar\":{\"outlinewidth\":0,\"ticks\":\"\"}}],\"contour\":[{\"type\":\"contour\",\"colorbar\":{\"outlinewidth\":0,\"ticks\":\"\"},\"colorscale\":[[0.0,\"#0d0887\"],[0.1111111111111111,\"#46039f\"],[0.2222222222222222,\"#7201a8\"],[0.3333333333333333,\"#9c179e\"],[0.4444444444444444,\"#bd3786\"],[0.5555555555555556,\"#d8576b\"],[0.6666666666666666,\"#ed7953\"],[0.7777777777777778,\"#fb9f3a\"],[0.8888888888888888,\"#fdca26\"],[1.0,\"#f0f921\"]]}],\"surface\":[{\"type\":\"surface\",\"colorbar\":{\"outlinewidth\":0,\"ticks\":\"\"},\"colorscale\":[[0.0,\"#0d0887\"],[0.1111111111111111,\"#46039f\"],[0.2222222222222222,\"#7201a8\"],[0.3333333333333333,\"#9c179e\"],[0.4444444444444444,\"#bd3786\"],[0.5555555555555556,\"#d8576b\"],[0.6666666666666666,\"#ed7953\"],[0.7777777777777778,\"#fb9f3a\"],[0.8888888888888888,\"#fdca26\"],[1.0,\"#f0f921\"]]}],\"mesh3d\":[{\"type\":\"mesh3d\",\"colorbar\":{\"outlinewidth\":0,\"ticks\":\"\"}}],\"scatter\":[{\"marker\":{\"line\":{\"color\":\"#283442\"}},\"type\":\"scatter\"}],\"parcoords\":[{\"type\":\"parcoords\",\"line\":{\"colorbar\":{\"outlinewidth\":0,\"ticks\":\"\"}}}],\"scatterpolargl\":[{\"type\":\"scatterpolargl\",\"marker\":{\"colorbar\":{\"outlinewidth\":0,\"ticks\":\"\"}}}],\"bar\":[{\"error_x\":{\"color\":\"#f2f5fa\"},\"error_y\":{\"color\":\"#f2f5fa\"},\"marker\":{\"line\":{\"color\":\"rgb(17,17,17)\",\"width\":0.5},\"pattern\":{\"fillmode\":\"overlay\",\"size\":10,\"solidity\":0.2}},\"type\":\"bar\"}],\"scattergeo\":[{\"type\":\"scattergeo\",\"marker\":{\"colorbar\":{\"outlinewidth\":0,\"ticks\":\"\"}}}],\"scatterpolar\":[{\"type\":\"scatterpolar\",\"marker\":{\"colorbar\":{\"outlinewidth\":0,\"ticks\":\"\"}}}],\"histogram\":[{\"marker\":{\"pattern\":{\"fillmode\":\"overlay\",\"size\":10,\"solidity\":0.2}},\"type\":\"histogram\"}],\"scattergl\":[{\"marker\":{\"line\":{\"color\":\"#283442\"}},\"type\":\"scattergl\"}],\"scatter3d\":[{\"type\":\"scatter3d\",\"line\":{\"colorbar\":{\"outlinewidth\":0,\"ticks\":\"\"}},\"marker\":{\"colorbar\":{\"outlinewidth\":0,\"ticks\":\"\"}}}],\"scattermapbox\":[{\"type\":\"scattermapbox\",\"marker\":{\"colorbar\":{\"outlinewidth\":0,\"ticks\":\"\"}}}],\"scatterternary\":[{\"type\":\"scatterternary\",\"marker\":{\"colorbar\":{\"outlinewidth\":0,\"ticks\":\"\"}}}],\"scattercarpet\":[{\"type\":\"scattercarpet\",\"marker\":{\"colorbar\":{\"outlinewidth\":0,\"ticks\":\"\"}}}],\"carpet\":[{\"aaxis\":{\"endlinecolor\":\"#A2B1C6\",\"gridcolor\":\"#506784\",\"linecolor\":\"#506784\",\"minorgridcolor\":\"#506784\",\"startlinecolor\":\"#A2B1C6\"},\"baxis\":{\"endlinecolor\":\"#A2B1C6\",\"gridcolor\":\"#506784\",\"linecolor\":\"#506784\",\"minorgridcolor\":\"#506784\",\"startlinecolor\":\"#A2B1C6\"},\"type\":\"carpet\"}],\"table\":[{\"cells\":{\"fill\":{\"color\":\"#506784\"},\"line\":{\"color\":\"rgb(17,17,17)\"}},\"header\":{\"fill\":{\"color\":\"#2a3f5f\"},\"line\":{\"color\":\"rgb(17,17,17)\"}},\"type\":\"table\"}],\"barpolar\":[{\"marker\":{\"line\":{\"color\":\"rgb(17,17,17)\",\"width\":0.5},\"pattern\":{\"fillmode\":\"overlay\",\"size\":10,\"solidity\":0.2}},\"type\":\"barpolar\"}],\"pie\":[{\"automargin\":true,\"type\":\"pie\"}]},\"layout\":{\"autotypenumbers\":\"strict\",\"colorway\":[\"#636efa\",\"#EF553B\",\"#00cc96\",\"#ab63fa\",\"#FFA15A\",\"#19d3f3\",\"#FF6692\",\"#B6E880\",\"#FF97FF\",\"#FECB52\"],\"font\":{\"color\":\"#f2f5fa\"},\"hovermode\":\"closest\",\"hoverlabel\":{\"align\":\"left\"},\"paper_bgcolor\":\"rgb(17,17,17)\",\"plot_bgcolor\":\"rgb(17,17,17)\",\"polar\":{\"bgcolor\":\"rgb(17,17,17)\",\"angularaxis\":{\"gridcolor\":\"#506784\",\"linecolor\":\"#506784\",\"ticks\":\"\"},\"radialaxis\":{\"gridcolor\":\"#506784\",\"linecolor\":\"#506784\",\"ticks\":\"\"}},\"ternary\":{\"bgcolor\":\"rgb(17,17,17)\",\"aaxis\":{\"gridcolor\":\"#506784\",\"linecolor\":\"#506784\",\"ticks\":\"\"},\"baxis\":{\"gridcolor\":\"#506784\",\"linecolor\":\"#506784\",\"ticks\":\"\"},\"caxis\":{\"gridcolor\":\"#506784\",\"linecolor\":\"#506784\",\"ticks\":\"\"}},\"coloraxis\":{\"colorbar\":{\"outlinewidth\":0,\"ticks\":\"\"}},\"colorscale\":{\"sequential\":[[0.0,\"#0d0887\"],[0.1111111111111111,\"#46039f\"],[0.2222222222222222,\"#7201a8\"],[0.3333333333333333,\"#9c179e\"],[0.4444444444444444,\"#bd3786\"],[0.5555555555555556,\"#d8576b\"],[0.6666666666666666,\"#ed7953\"],[0.7777777777777778,\"#fb9f3a\"],[0.8888888888888888,\"#fdca26\"],[1.0,\"#f0f921\"]],\"sequentialminus\":[[0.0,\"#0d0887\"],[0.1111111111111111,\"#46039f\"],[0.2222222222222222,\"#7201a8\"],[0.3333333333333333,\"#9c179e\"],[0.4444444444444444,\"#bd3786\"],[0.5555555555555556,\"#d8576b\"],[0.6666666666666666,\"#ed7953\"],[0.7777777777777778,\"#fb9f3a\"],[0.8888888888888888,\"#fdca26\"],[1.0,\"#f0f921\"]],\"diverging\":[[0,\"#8e0152\"],[0.1,\"#c51b7d\"],[0.2,\"#de77ae\"],[0.3,\"#f1b6da\"],[0.4,\"#fde0ef\"],[0.5,\"#f7f7f7\"],[0.6,\"#e6f5d0\"],[0.7,\"#b8e186\"],[0.8,\"#7fbc41\"],[0.9,\"#4d9221\"],[1,\"#276419\"]]},\"xaxis\":{\"gridcolor\":\"#283442\",\"linecolor\":\"#506784\",\"ticks\":\"\",\"title\":{\"standoff\":15},\"zerolinecolor\":\"#283442\",\"automargin\":true,\"zerolinewidth\":2},\"yaxis\":{\"gridcolor\":\"#283442\",\"linecolor\":\"#506784\",\"ticks\":\"\",\"title\":{\"standoff\":15},\"zerolinecolor\":\"#283442\",\"automargin\":true,\"zerolinewidth\":2},\"scene\":{\"xaxis\":{\"backgroundcolor\":\"rgb(17,17,17)\",\"gridcolor\":\"#506784\",\"linecolor\":\"#506784\",\"showbackground\":true,\"ticks\":\"\",\"zerolinecolor\":\"#C8D4E3\",\"gridwidth\":2},\"yaxis\":{\"backgroundcolor\":\"rgb(17,17,17)\",\"gridcolor\":\"#506784\",\"linecolor\":\"#506784\",\"showbackground\":true,\"ticks\":\"\",\"zerolinecolor\":\"#C8D4E3\",\"gridwidth\":2},\"zaxis\":{\"backgroundcolor\":\"rgb(17,17,17)\",\"gridcolor\":\"#506784\",\"linecolor\":\"#506784\",\"showbackground\":true,\"ticks\":\"\",\"zerolinecolor\":\"#C8D4E3\",\"gridwidth\":2}},\"shapedefaults\":{\"line\":{\"color\":\"#f2f5fa\"}},\"annotationdefaults\":{\"arrowcolor\":\"#f2f5fa\",\"arrowhead\":0,\"arrowwidth\":1},\"geo\":{\"bgcolor\":\"rgb(17,17,17)\",\"landcolor\":\"rgb(17,17,17)\",\"subunitcolor\":\"#506784\",\"showland\":true,\"showlakes\":true,\"lakecolor\":\"rgb(17,17,17)\"},\"title\":{\"x\":0.05},\"updatemenudefaults\":{\"bgcolor\":\"#506784\",\"borderwidth\":0},\"sliderdefaults\":{\"bgcolor\":\"#C8D4E3\",\"borderwidth\":1,\"bordercolor\":\"rgb(17,17,17)\",\"tickwidth\":0},\"mapbox\":{\"style\":\"dark\"}}},\"xaxis\":{\"anchor\":\"y\",\"domain\":[0.0,0.7363],\"title\":{\"text\":\"eventF1\"}},\"yaxis\":{\"anchor\":\"x\",\"domain\":[0.0,1.0],\"title\":{\"text\":\"eventRecall\"}},\"xaxis2\":{\"anchor\":\"y2\",\"domain\":[0.7413,1.0],\"matches\":\"x2\",\"showticklabels\":false,\"showline\":false,\"ticks\":\"\",\"showgrid\":true},\"yaxis2\":{\"anchor\":\"x2\",\"domain\":[0.0,1.0],\"matches\":\"y\",\"showticklabels\":false,\"showgrid\":true},\"legend\":{\"title\":{\"text\":\"test\"},\"tracegroupgap\":0},\"margin\":{\"t\":60},\"barmode\":\"overlay\"},                        {\"responsive\": true}                    ).then(function(){\n",
       "                            \n",
       "var gd = document.getElementById('2dfde6df-4cfb-4529-a35f-c3eb4804a8cf');\n",
       "var x = new MutationObserver(function (mutations, observer) {{\n",
       "        var display = window.getComputedStyle(gd).display;\n",
       "        if (!display || display === 'none') {{\n",
       "            console.log([gd, 'removed!']);\n",
       "            Plotly.purge(gd);\n",
       "            observer.disconnect();\n",
       "        }}\n",
       "}});\n",
       "\n",
       "// Listen for the removal of the full notebook cells\n",
       "var notebookContainer = gd.closest('#notebook-container');\n",
       "if (notebookContainer) {{\n",
       "    x.observe(notebookContainer, {childList: true});\n",
       "}}\n",
       "\n",
       "// Listen for the clearing of the current output cell\n",
       "var outputEl = gd.closest('.output');\n",
       "if (outputEl) {{\n",
       "    x.observe(outputEl, {childList: true});\n",
       "}}\n",
       "\n",
       "                        })                };                });            </script>        </div>"
      ]
     },
     "metadata": {},
     "output_type": "display_data"
    }
   ],
   "execution_count": 49
  },
  {
   "metadata": {
    "ExecuteTime": {
     "end_time": "2025-01-13T12:37:08.867644Z",
     "start_time": "2025-01-13T12:37:08.806147Z"
    }
   },
   "cell_type": "code",
   "source": [
    "ax=plt.subplot()\n",
    "\n",
    "ax.scatter(experimentModels['rawF1'].to_numpy(), experimentModels['eventF1'].to_numpy())\n",
    "ax.plot([0.5,0.9],[0.5,0.9], 'r')\n",
    "ax.set_ylabel('by-event F1*', fontsize = 18)#, fontweight= 'bold'\n",
    "ax.set_xlabel('per-sample F1', fontsize = 18)\n",
    "\n",
    "ax.set_title(\"COGNITION\", fontdict = {'fontsize' : 18, 'fontweight':'bold'})\n",
    "plt.show()\n",
    "\n",
    "plt.tight_layout()\n",
    "#plt.savefig('per-sample_vs_by-event_Cognition_IoU0-2.png',bbox_inches='tight', dpi=300, format=\"png\") # , pil_kwargs={\"compression\": \"tiff_lzw\"}\n",
    "\n"
   ],
   "outputs": [
    {
     "data": {
      "text/plain": [
       "<Figure size 640x480 with 1 Axes>"
      ],
      "image/png": "[encoded data removed]"
     },
     "metadata": {},
     "output_type": "display_data"
    },
    {
     "data": {
      "text/plain": [
       "<Figure size 640x480 with 0 Axes>"
      ]
     },
     "metadata": {},
     "output_type": "display_data"
    }
   ],
   "execution_count": 50
  },
  {
   "metadata": {
    "ExecuteTime": {
     "end_time": "2025-01-13T12:37:08.974539Z",
     "start_time": "2025-01-13T12:37:08.929919Z"
    }
   },
   "cell_type": "code",
   "source": "experimentModels[['test','eventF1','eventPrecision','eventRecall']].groupby('test').describe(percentiles=[0.5])",
   "outputs": [
    {
     "data": {
      "text/plain": [
       "     eventF1                                             eventPrecision  \\\n",
       "       count      mean std       min       50%       max          count   \n",
       "test                                                                      \n",
       "0002     1.0  0.697561 NaN  0.697561  0.697561  0.697561            1.0   \n",
       "0003     1.0  0.862789 NaN  0.862789  0.862789  0.862789            1.0   \n",
       "0004     1.0  0.788321 NaN  0.788321  0.788321  0.788321            1.0   \n",
       "0005     1.0  0.709443 NaN  0.709443  0.709443  0.709443            1.0   \n",
       "0006     1.0  0.712389 NaN  0.712389  0.712389  0.712389            1.0   \n",
       "0007     1.0  0.709069 NaN  0.709069  0.709069  0.709069            1.0   \n",
       "0008     1.0  0.512821 NaN  0.512821  0.512821  0.512821            1.0   \n",
       "\n",
       "                                                 eventRecall                \\\n",
       "          mean std       min       50%       max       count      mean std   \n",
       "test                                                                         \n",
       "0002  0.841176 NaN  0.841176  0.841176  0.841176         1.0  0.595833 NaN   \n",
       "0003  0.828633 NaN  0.828633  0.828633  0.828633         1.0  0.899882 NaN   \n",
       "0004  0.803970 NaN  0.803970  0.803970  0.803970         1.0  0.773270 NaN   \n",
       "0005  0.574510 NaN  0.574510  0.574510  0.574510         1.0  0.927215 NaN   \n",
       "0006  0.712389 NaN  0.712389  0.712389  0.712389         1.0  0.712389 NaN   \n",
       "0007  0.631027 NaN  0.631027  0.631027  0.631027         1.0  0.809140 NaN   \n",
       "0008  0.645161 NaN  0.645161  0.645161  0.645161         1.0  0.425532 NaN   \n",
       "\n",
       "                                    \n",
       "           min       50%       max  \n",
       "test                                \n",
       "0002  0.595833  0.595833  0.595833  \n",
       "0003  0.899882  0.899882  0.899882  \n",
       "0004  0.773270  0.773270  0.773270  \n",
       "0005  0.927215  0.927215  0.927215  \n",
       "0006  0.712389  0.712389  0.712389  \n",
       "0007  0.809140  0.809140  0.809140  \n",
       "0008  0.425532  0.425532  0.425532  "
      ],
      "text/html": [
       "<div>\n",
       "<style scoped>\n",
       "    .dataframe tbody tr th:only-of-type {\n",
       "        vertical-align: middle;\n",
       "    }\n",
       "\n",
       "    .dataframe tbody tr th {\n",
       "        vertical-align: top;\n",
       "    }\n",
       "\n",
       "    .dataframe thead tr th {\n",
       "        text-align: left;\n",
       "    }\n",
       "\n",
       "    .dataframe thead tr:last-of-type th {\n",
       "        text-align: right;\n",
       "    }\n",
       "</style>\n",
       "<table border=\"1\" class=\"dataframe\">\n",
       "  <thead>\n",
       "    <tr>\n",
       "      <th></th>\n",
       "      <th colspan=\"6\" halign=\"left\">eventF1</th>\n",
       "      <th colspan=\"6\" halign=\"left\">eventPrecision</th>\n",
       "      <th colspan=\"6\" halign=\"left\">eventRecall</th>\n",
       "    </tr>\n",
       "    <tr>\n",
       "      <th></th>\n",
       "      <th>count</th>\n",
       "      <th>mean</th>\n",
       "      <th>std</th>\n",
       "      <th>min</th>\n",
       "      <th>50%</th>\n",
       "      <th>max</th>\n",
       "      <th>count</th>\n",
       "      <th>mean</th>\n",
       "      <th>std</th>\n",
       "      <th>min</th>\n",
       "      <th>50%</th>\n",
       "      <th>max</th>\n",
       "      <th>count</th>\n",
       "      <th>mean</th>\n",
       "      <th>std</th>\n",
       "      <th>min</th>\n",
       "      <th>50%</th>\n",
       "      <th>max</th>\n",
       "    </tr>\n",
       "    <tr>\n",
       "      <th>test</th>\n",
       "      <th></th>\n",
       "      <th></th>\n",
       "      <th></th>\n",
       "      <th></th>\n",
       "      <th></th>\n",
       "      <th></th>\n",
       "      <th></th>\n",
       "      <th></th>\n",
       "      <th></th>\n",
       "      <th></th>\n",
       "      <th></th>\n",
       "      <th></th>\n",
       "      <th></th>\n",
       "      <th></th>\n",
       "      <th></th>\n",
       "      <th></th>\n",
       "      <th></th>\n",
       "      <th></th>\n",
       "    </tr>\n",
       "  </thead>\n",
       "  <tbody>\n",
       "    <tr>\n",
       "      <th>0002</th>\n",
       "      <td>1.0</td>\n",
       "      <td>0.697561</td>\n",
       "      <td>NaN</td>\n",
       "      <td>0.697561</td>\n",
       "      <td>0.697561</td>\n",
       "      <td>0.697561</td>\n",
       "      <td>1.0</td>\n",
       "      <td>0.841176</td>\n",
       "      <td>NaN</td>\n",
       "      <td>0.841176</td>\n",
       "      <td>0.841176</td>\n",
       "      <td>0.841176</td>\n",
       "      <td>1.0</td>\n",
       "      <td>0.595833</td>\n",
       "      <td>NaN</td>\n",
       "      <td>0.595833</td>\n",
       "      <td>0.595833</td>\n",
       "      <td>0.595833</td>\n",
       "    </tr>\n",
       "    <tr>\n",
       "      <th>0003</th>\n",
       "      <td>1.0</td>\n",
       "      <td>0.862789</td>\n",
       "      <td>NaN</td>\n",
       "      <td>0.862789</td>\n",
       "      <td>0.862789</td>\n",
       "      <td>0.862789</td>\n",
       "      <td>1.0</td>\n",
       "      <td>0.828633</td>\n",
       "      <td>NaN</td>\n",
       "      <td>0.828633</td>\n",
       "      <td>0.828633</td>\n",
       "      <td>0.828633</td>\n",
       "      <td>1.0</td>\n",
       "      <td>0.899882</td>\n",
       "      <td>NaN</td>\n",
       "      <td>0.899882</td>\n",
       "      <td>0.899882</td>\n",
       "      <td>0.899882</td>\n",
       "    </tr>\n",
       "    <tr>\n",
       "      <th>0004</th>\n",
       "      <td>1.0</td>\n",
       "      <td>0.788321</td>\n",
       "      <td>NaN</td>\n",
       "      <td>0.788321</td>\n",
       "      <td>0.788321</td>\n",
       "      <td>0.788321</td>\n",
       "      <td>1.0</td>\n",
       "      <td>0.803970</td>\n",
       "      <td>NaN</td>\n",
       "      <td>0.803970</td>\n",
       "      <td>0.803970</td>\n",
       "      <td>0.803970</td>\n",
       "      <td>1.0</td>\n",
       "      <td>0.773270</td>\n",
       "      <td>NaN</td>\n",
       "      <td>0.773270</td>\n",
       "      <td>0.773270</td>\n",
       "      <td>0.773270</td>\n",
       "    </tr>\n",
       "    <tr>\n",
       "      <th>0005</th>\n",
       "      <td>1.0</td>\n",
       "      <td>0.709443</td>\n",
       "      <td>NaN</td>\n",
       "      <td>0.709443</td>\n",
       "      <td>0.709443</td>\n",
       "      <td>0.709443</td>\n",
       "      <td>1.0</td>\n",
       "      <td>0.574510</td>\n",
       "      <td>NaN</td>\n",
       "      <td>0.574510</td>\n",
       "      <td>0.574510</td>\n",
       "      <td>0.574510</td>\n",
       "      <td>1.0</td>\n",
       "      <td>0.927215</td>\n",
       "      <td>NaN</td>\n",
       "      <td>0.927215</td>\n",
       "      <td>0.927215</td>\n",
       "      <td>0.927215</td>\n",
       "    </tr>\n",
       "    <tr>\n",
       "      <th>0006</th>\n",
       "      <td>1.0</td>\n",
       "      <td>0.712389</td>\n",
       "      <td>NaN</td>\n",
       "      <td>0.712389</td>\n",
       "      <td>0.712389</td>\n",
       "      <td>0.712389</td>\n",
       "      <td>1.0</td>\n",
       "      <td>0.712389</td>\n",
       "      <td>NaN</td>\n",
       "      <td>0.712389</td>\n",
       "      <td>0.712389</td>\n",
       "      <td>0.712389</td>\n",
       "      <td>1.0</td>\n",
       "      <td>0.712389</td>\n",
       "      <td>NaN</td>\n",
       "      <td>0.712389</td>\n",
       "      <td>0.712389</td>\n",
       "      <td>0.712389</td>\n",
       "    </tr>\n",
       "    <tr>\n",
       "      <th>0007</th>\n",
       "      <td>1.0</td>\n",
       "      <td>0.709069</td>\n",
       "      <td>NaN</td>\n",
       "      <td>0.709069</td>\n",
       "      <td>0.709069</td>\n",
       "      <td>0.709069</td>\n",
       "      <td>1.0</td>\n",
       "      <td>0.631027</td>\n",
       "      <td>NaN</td>\n",
       "      <td>0.631027</td>\n",
       "      <td>0.631027</td>\n",
       "      <td>0.631027</td>\n",
       "      <td>1.0</td>\n",
       "      <td>0.809140</td>\n",
       "      <td>NaN</td>\n",
       "      <td>0.809140</td>\n",
       "      <td>0.809140</td>\n",
       "      <td>0.809140</td>\n",
       "    </tr>\n",
       "    <tr>\n",
       "      <th>0008</th>\n",
       "      <td>1.0</td>\n",
       "      <td>0.512821</td>\n",
       "      <td>NaN</td>\n",
       "      <td>0.512821</td>\n",
       "      <td>0.512821</td>\n",
       "      <td>0.512821</td>\n",
       "      <td>1.0</td>\n",
       "      <td>0.645161</td>\n",
       "      <td>NaN</td>\n",
       "      <td>0.645161</td>\n",
       "      <td>0.645161</td>\n",
       "      <td>0.645161</td>\n",
       "      <td>1.0</td>\n",
       "      <td>0.425532</td>\n",
       "      <td>NaN</td>\n",
       "      <td>0.425532</td>\n",
       "      <td>0.425532</td>\n",
       "      <td>0.425532</td>\n",
       "    </tr>\n",
       "  </tbody>\n",
       "</table>\n",
       "</div>"
      ]
     },
     "execution_count": 51,
     "metadata": {},
     "output_type": "execute_result"
    }
   ],
   "execution_count": 51
  },
  {
   "metadata": {
    "ExecuteTime": {
     "end_time": "2025-01-13T12:37:09.147613Z",
     "start_time": "2025-01-13T12:37:09.132952Z"
    }
   },
   "cell_type": "code",
   "source": "experimentModels[['test','eventF1','eventPrecision','eventRecall']].groupby('test',as_index=False).mean()",
   "outputs": [
    {
     "data": {
      "text/plain": [
       "   test   eventF1  eventPrecision  eventRecall\n",
       "0  0002  0.697561        0.841176     0.595833\n",
       "1  0003  0.862789        0.828633     0.899882\n",
       "2  0004  0.788321        0.803970     0.773270\n",
       "3  0005  0.709443        0.574510     0.927215\n",
       "4  0006  0.712389        0.712389     0.712389\n",
       "5  0007  0.709069        0.631027     0.809140\n",
       "6  0008  0.512821        0.645161     0.425532"
      ],
      "text/html": [
       "<div>\n",
       "<style scoped>\n",
       "    .dataframe tbody tr th:only-of-type {\n",
       "        vertical-align: middle;\n",
       "    }\n",
       "\n",
       "    .dataframe tbody tr th {\n",
       "        vertical-align: top;\n",
       "    }\n",
       "\n",
       "    .dataframe thead th {\n",
       "        text-align: right;\n",
       "    }\n",
       "</style>\n",
       "<table border=\"1\" class=\"dataframe\">\n",
       "  <thead>\n",
       "    <tr style=\"text-align: right;\">\n",
       "      <th></th>\n",
       "      <th>test</th>\n",
       "      <th>eventF1</th>\n",
       "      <th>eventPrecision</th>\n",
       "      <th>eventRecall</th>\n",
       "    </tr>\n",
       "  </thead>\n",
       "  <tbody>\n",
       "    <tr>\n",
       "      <th>0</th>\n",
       "      <td>0002</td>\n",
       "      <td>0.697561</td>\n",
       "      <td>0.841176</td>\n",
       "      <td>0.595833</td>\n",
       "    </tr>\n",
       "    <tr>\n",
       "      <th>1</th>\n",
       "      <td>0003</td>\n",
       "      <td>0.862789</td>\n",
       "      <td>0.828633</td>\n",
       "      <td>0.899882</td>\n",
       "    </tr>\n",
       "    <tr>\n",
       "      <th>2</th>\n",
       "      <td>0004</td>\n",
       "      <td>0.788321</td>\n",
       "      <td>0.803970</td>\n",
       "      <td>0.773270</td>\n",
       "    </tr>\n",
       "    <tr>\n",
       "      <th>3</th>\n",
       "      <td>0005</td>\n",
       "      <td>0.709443</td>\n",
       "      <td>0.574510</td>\n",
       "      <td>0.927215</td>\n",
       "    </tr>\n",
       "    <tr>\n",
       "      <th>4</th>\n",
       "      <td>0006</td>\n",
       "      <td>0.712389</td>\n",
       "      <td>0.712389</td>\n",
       "      <td>0.712389</td>\n",
       "    </tr>\n",
       "    <tr>\n",
       "      <th>5</th>\n",
       "      <td>0007</td>\n",
       "      <td>0.709069</td>\n",
       "      <td>0.631027</td>\n",
       "      <td>0.809140</td>\n",
       "    </tr>\n",
       "    <tr>\n",
       "      <th>6</th>\n",
       "      <td>0008</td>\n",
       "      <td>0.512821</td>\n",
       "      <td>0.645161</td>\n",
       "      <td>0.425532</td>\n",
       "    </tr>\n",
       "  </tbody>\n",
       "</table>\n",
       "</div>"
      ]
     },
     "execution_count": 52,
     "metadata": {},
     "output_type": "execute_result"
    }
   ],
   "execution_count": 52
  },
  {
   "metadata": {
    "ExecuteTime": {
     "end_time": "2025-01-13T12:37:09.210799Z",
     "start_time": "2025-01-13T12:37:09.194886Z"
    }
   },
   "cell_type": "code",
   "source": "experimentModels[['test','eventF1','eventPrecision','eventRecall']].groupby('test',as_index=False).mean().mean()",
   "outputs": [
    {
     "data": {
      "text/plain": [
       "test              2.857571e+23\n",
       "eventF1           7.131991e-01\n",
       "eventPrecision    7.195525e-01\n",
       "eventRecall       7.347516e-01\n",
       "dtype: float64"
      ]
     },
     "execution_count": 53,
     "metadata": {},
     "output_type": "execute_result"
    }
   ],
   "execution_count": 53
  },
  {
   "metadata": {
    "ExecuteTime": {
     "end_time": "2025-01-13T12:37:09.366048Z",
     "start_time": "2025-01-13T12:37:09.350509Z"
    }
   },
   "cell_type": "code",
   "source": "experimentModels[['test','eventF1','eventPrecision','eventRecall']].groupby('test',as_index=False).mean().std()",
   "outputs": [
    {
     "name": "stderr",
     "output_type": "stream",
     "text": [
      "C:\\Users\\GIB\\AppData\\Local\\Temp\\ipykernel_4200\\2599554826.py:1: FutureWarning:\n",
      "\n",
      "The default value of numeric_only in DataFrame.std is deprecated. In a future version, it will default to False. In addition, specifying 'numeric_only=None' is deprecated. Select only valid columns or specify the value of numeric_only to silence this warning.\n",
      "\n"
     ]
    },
    {
     "data": {
      "text/plain": [
       "eventF1           0.106809\n",
       "eventPrecision    0.106675\n",
       "eventRecall       0.176419\n",
       "dtype: float64"
      ]
     },
     "execution_count": 54,
     "metadata": {},
     "output_type": "execute_result"
    }
   ],
   "execution_count": 54
  },
  {
   "metadata": {
    "ExecuteTime": {
     "end_time": "2025-01-13T12:37:09.584527Z",
     "start_time": "2025-01-13T12:37:09.566563Z"
    }
   },
   "cell_type": "code",
   "source": [
    "auxPrecision=pd.DataFrame({\n",
    "    'metric':'event precision',\n",
    "    'value':experimentModels.eventPrecision,\n",
    "    'event F1':experimentModels.eventF1\n",
    "})\n",
    "\n",
    "auxRecall=pd.DataFrame({\n",
    "    'metric':'event recall',\n",
    "    'value':experimentModels.eventRecall,\n",
    "    'event F1':experimentModels.eventF1\n",
    "})\n",
    "visualTradeoff=pd.concat((auxPrecision,auxRecall))"
   ],
   "outputs": [],
   "execution_count": 55
  },
  {
   "metadata": {
    "ExecuteTime": {
     "end_time": "2025-01-13T12:37:09.709559Z",
     "start_time": "2025-01-13T12:37:09.664449Z"
    }
   },
   "cell_type": "code",
   "source": [
    "fig=px.scatter(visualTradeoff,x='event F1',y='value',color='metric', marginal_y=\"histogram\")\n",
    "fig.add_trace(\n",
    "    go.Scatter(x=experimentModels['eventF1'], y=experimentModels['eventF1'], name=\"identity\", mode='lines',fill=\"toself\")\n",
    ")\n",
    "fig.show()"
   ],
   "outputs": [
    {
     "data": {
      "application/vnd.plotly.v1+json": {
       "data": [
        {
         "hovertemplate": "metric=event precision<br>event F1=%{x}<br>value=%{y}<extra></extra>",
         "legendgroup": "event precision",
         "marker": {
          "color": "#636efa",
          "symbol": "circle"
         },
         "mode": "markers",
         "name": "event precision",
         "orientation": "v",
         "showlegend": true,
         "x": [
          0.697560975609756,
          0.862789384528515,
          0.7883211678832117,
          0.7094430992736077,
          0.7123893805309734,
          0.7090694935217904,
          0.5128205128205128
         ],
         "xaxis": "x",
         "y": [
          0.8411764705882353,
          0.8286334056399133,
          0.8039702233250621,
          0.5745098039215686,
          0.7123893805309734,
          0.6310272536687631,
          0.6451612903225806
         ],
         "yaxis": "y",
         "type": "scatter"
        },
        {
         "alignmentgroup": "True",
         "bingroup": "y",
         "hovertemplate": "metric=event precision<br>value=%{y}<br>count=%{x}<extra></extra>",
         "legendgroup": "event precision",
         "marker": {
          "color": "#636efa"
         },
         "name": "event precision",
         "offsetgroup": "event precision",
         "opacity": 0.5,
         "showlegend": false,
         "xaxis": "x2",
         "y": [
          0.8411764705882353,
          0.8286334056399133,
          0.8039702233250621,
          0.5745098039215686,
          0.7123893805309734,
          0.6310272536687631,
          0.6451612903225806
         ],
         "yaxis": "y2",
         "type": "histogram"
        },
        {
         "hovertemplate": "metric=event recall<br>event F1=%{x}<br>value=%{y}<extra></extra>",
         "legendgroup": "event recall",
         "marker": {
          "color": "#EF553B",
          "symbol": "circle"
         },
         "mode": "markers",
         "name": "event recall",
         "orientation": "v",
         "showlegend": true,
         "x": [
          0.697560975609756,
          0.862789384528515,
          0.7883211678832117,
          0.7094430992736077,
          0.7123893805309734,
          0.7090694935217904,
          0.5128205128205128
         ],
         "xaxis": "x",
         "y": [
          0.5958333333333333,
          0.8998822143698468,
          0.7732696897374701,
          0.9272151898734177,
          0.7123893805309734,
          0.8091397849462365,
          0.425531914893617
         ],
         "yaxis": "y",
         "type": "scatter"
        },
        {
         "alignmentgroup": "True",
         "bingroup": "y",
         "hovertemplate": "metric=event recall<br>value=%{y}<br>count=%{x}<extra></extra>",
         "legendgroup": "event recall",
         "marker": {
          "color": "#EF553B"
         },
         "name": "event recall",
         "offsetgroup": "event recall",
         "opacity": 0.5,
         "showlegend": false,
         "xaxis": "x2",
         "y": [
          0.5958333333333333,
          0.8998822143698468,
          0.7732696897374701,
          0.9272151898734177,
          0.7123893805309734,
          0.8091397849462365,
          0.425531914893617
         ],
         "yaxis": "y2",
         "type": "histogram"
        },
        {
         "fill": "toself",
         "mode": "lines",
         "name": "identity",
         "x": [
          0.697560975609756,
          0.862789384528515,
          0.7883211678832117,
          0.7094430992736077,
          0.7123893805309734,
          0.7090694935217904,
          0.5128205128205128
         ],
         "y": [
          0.697560975609756,
          0.862789384528515,
          0.7883211678832117,
          0.7094430992736077,
          0.7123893805309734,
          0.7090694935217904,
          0.5128205128205128
         ],
         "type": "scatter"
        }
       ],
       "layout": {
        "template": {
         "data": {
          "histogram2dcontour": [
           {
            "type": "histogram2dcontour",
            "colorbar": {
             "outlinewidth": 0,
             "ticks": ""
            },
            "colorscale": [
             [
              0.0,
              "#0d0887"
             ],
             [
              0.1111111111111111,
              "#46039f"
             ],
             [
              0.2222222222222222,
              "#7201a8"
             ],
             [
              0.3333333333333333,
              "#9c179e"
             ],
             [
              0.4444444444444444,
              "#bd3786"
             ],
             [
              0.5555555555555556,
              "#d8576b"
             ],
             [
              0.6666666666666666,
              "#ed7953"
             ],
             [
              0.7777777777777778,
              "#fb9f3a"
             ],
             [
              0.8888888888888888,
              "#fdca26"
             ],
             [
              1.0,
              "#f0f921"
             ]
            ]
           }
          ],
          "choropleth": [
           {
            "type": "choropleth",
            "colorbar": {
             "outlinewidth": 0,
             "ticks": ""
            }
           }
          ],
          "histogram2d": [
           {
            "type": "histogram2d",
            "colorbar": {
             "outlinewidth": 0,
             "ticks": ""
            },
            "colorscale": [
             [
              0.0,
              "#0d0887"
             ],
             [
              0.1111111111111111,
              "#46039f"
             ],
             [
              0.2222222222222222,
              "#7201a8"
             ],
             [
              0.3333333333333333,
              "#9c179e"
             ],
             [
              0.4444444444444444,
              "#bd3786"
             ],
             [
              0.5555555555555556,
              "#d8576b"
             ],
             [
              0.6666666666666666,
              "#ed7953"
             ],
             [
              0.7777777777777778,
              "#fb9f3a"
             ],
             [
              0.8888888888888888,
              "#fdca26"
             ],
             [
              1.0,
              "#f0f921"
             ]
            ]
           }
          ],
          "heatmap": [
           {
            "type": "heatmap",
            "colorbar": {
             "outlinewidth": 0,
             "ticks": ""
            },
            "colorscale": [
             [
              0.0,
              "#0d0887"
             ],
             [
              0.1111111111111111,
              "#46039f"
             ],
             [
              0.2222222222222222,
              "#7201a8"
             ],
             [
              0.3333333333333333,
              "#9c179e"
             ],
             [
              0.4444444444444444,
              "#bd3786"
             ],
             [
              0.5555555555555556,
              "#d8576b"
             ],
             [
              0.6666666666666666,
              "#ed7953"
             ],
             [
              0.7777777777777778,
              "#fb9f3a"
             ],
             [
              0.8888888888888888,
              "#fdca26"
             ],
             [
              1.0,
              "#f0f921"
             ]
            ]
           }
          ],
          "heatmapgl": [
           {
            "type": "heatmapgl",
            "colorbar": {
             "outlinewidth": 0,
             "ticks": ""
            },
            "colorscale": [
             [
              0.0,
              "#0d0887"
             ],
             [
              0.1111111111111111,
              "#46039f"
             ],
             [
              0.2222222222222222,
              "#7201a8"
             ],
             [
              0.3333333333333333,
              "#9c179e"
             ],
             [
              0.4444444444444444,
              "#bd3786"
             ],
             [
              0.5555555555555556,
              "#d8576b"
             ],
             [
              0.6666666666666666,
              "#ed7953"
             ],
             [
              0.7777777777777778,
              "#fb9f3a"
             ],
             [
              0.8888888888888888,
              "#fdca26"
             ],
             [
              1.0,
              "#f0f921"
             ]
            ]
           }
          ],
          "contourcarpet": [
           {
            "type": "contourcarpet",
            "colorbar": {
             "outlinewidth": 0,
             "ticks": ""
            }
           }
          ],
          "contour": [
           {
            "type": "contour",
            "colorbar": {
             "outlinewidth": 0,
             "ticks": ""
            },
            "colorscale": [
             [
              0.0,
              "#0d0887"
             ],
             [
              0.1111111111111111,
              "#46039f"
             ],
             [
              0.2222222222222222,
              "#7201a8"
             ],
             [
              0.3333333333333333,
              "#9c179e"
             ],
             [
              0.4444444444444444,
              "#bd3786"
             ],
             [
              0.5555555555555556,
              "#d8576b"
             ],
             [
              0.6666666666666666,
              "#ed7953"
             ],
             [
              0.7777777777777778,
              "#fb9f3a"
             ],
             [
              0.8888888888888888,
              "#fdca26"
             ],
             [
              1.0,
              "#f0f921"
             ]
            ]
           }
          ],
          "surface": [
           {
            "type": "surface",
            "colorbar": {
             "outlinewidth": 0,
             "ticks": ""
            },
            "colorscale": [
             [
              0.0,
              "#0d0887"
             ],
             [
              0.1111111111111111,
              "#46039f"
             ],
             [
              0.2222222222222222,
              "#7201a8"
             ],
             [
              0.3333333333333333,
              "#9c179e"
             ],
             [
              0.4444444444444444,
              "#bd3786"
             ],
             [
              0.5555555555555556,
              "#d8576b"
             ],
             [
              0.6666666666666666,
              "#ed7953"
             ],
             [
              0.7777777777777778,
              "#fb9f3a"
             ],
             [
              0.8888888888888888,
              "#fdca26"
             ],
             [
              1.0,
              "#f0f921"
             ]
            ]
           }
          ],
          "mesh3d": [
           {
            "type": "mesh3d",
            "colorbar": {
             "outlinewidth": 0,
             "ticks": ""
            }
           }
          ],
          "scatter": [
           {
            "marker": {
             "line": {
              "color": "#283442"
             }
            },
            "type": "scatter"
           }
          ],
          "parcoords": [
           {
            "type": "parcoords",
            "line": {
             "colorbar": {
              "outlinewidth": 0,
              "ticks": ""
             }
            }
           }
          ],
          "scatterpolargl": [
           {
            "type": "scatterpolargl",
            "marker": {
             "colorbar": {
              "outlinewidth": 0,
              "ticks": ""
             }
            }
           }
          ],
          "bar": [
           {
            "error_x": {
             "color": "#f2f5fa"
            },
            "error_y": {
             "color": "#f2f5fa"
            },
            "marker": {
             "line": {
              "color": "rgb(17,17,17)",
              "width": 0.5
             },
             "pattern": {
              "fillmode": "overlay",
              "size": 10,
              "solidity": 0.2
             }
            },
            "type": "bar"
           }
          ],
          "scattergeo": [
           {
            "type": "scattergeo",
            "marker": {
             "colorbar": {
              "outlinewidth": 0,
              "ticks": ""
             }
            }
           }
          ],
          "scatterpolar": [
           {
            "type": "scatterpolar",
            "marker": {
             "colorbar": {
              "outlinewidth": 0,
              "ticks": ""
             }
            }
           }
          ],
          "histogram": [
           {
            "marker": {
             "pattern": {
              "fillmode": "overlay",
              "size": 10,
              "solidity": 0.2
             }
            },
            "type": "histogram"
           }
          ],
          "scattergl": [
           {
            "marker": {
             "line": {
              "color": "#283442"
             }
            },
            "type": "scattergl"
           }
          ],
          "scatter3d": [
           {
            "type": "scatter3d",
            "line": {
             "colorbar": {
              "outlinewidth": 0,
              "ticks": ""
             }
            },
            "marker": {
             "colorbar": {
              "outlinewidth": 0,
              "ticks": ""
             }
            }
           }
          ],
          "scattermapbox": [
           {
            "type": "scattermapbox",
            "marker": {
             "colorbar": {
              "outlinewidth": 0,
              "ticks": ""
             }
            }
           }
          ],
          "scatterternary": [
           {
            "type": "scatterternary",
            "marker": {
             "colorbar": {
              "outlinewidth": 0,
              "ticks": ""
             }
            }
           }
          ],
          "scattercarpet": [
           {
            "type": "scattercarpet",
            "marker": {
             "colorbar": {
              "outlinewidth": 0,
              "ticks": ""
             }
            }
           }
          ],
          "carpet": [
           {
            "aaxis": {
             "endlinecolor": "#A2B1C6",
             "gridcolor": "#506784",
             "linecolor": "#506784",
             "minorgridcolor": "#506784",
             "startlinecolor": "#A2B1C6"
            },
            "baxis": {
             "endlinecolor": "#A2B1C6",
             "gridcolor": "#506784",
             "linecolor": "#506784",
             "minorgridcolor": "#506784",
             "startlinecolor": "#A2B1C6"
            },
            "type": "carpet"
           }
          ],
          "table": [
           {
            "cells": {
             "fill": {
              "color": "#506784"
             },
             "line": {
              "color": "rgb(17,17,17)"
             }
            },
            "header": {
             "fill": {
              "color": "#2a3f5f"
             },
             "line": {
              "color": "rgb(17,17,17)"
             }
            },
            "type": "table"
           }
          ],
          "barpolar": [
           {
            "marker": {
             "line": {
              "color": "rgb(17,17,17)",
              "width": 0.5
             },
             "pattern": {
              "fillmode": "overlay",
              "size": 10,
              "solidity": 0.2
             }
            },
            "type": "barpolar"
           }
          ],
          "pie": [
           {
            "automargin": true,
            "type": "pie"
           }
          ]
         },
         "layout": {
          "autotypenumbers": "strict",
          "colorway": [
           "#636efa",
           "#EF553B",
           "#00cc96",
           "#ab63fa",
           "#FFA15A",
           "#19d3f3",
           "#FF6692",
           "#B6E880",
           "#FF97FF",
           "#FECB52"
          ],
          "font": {
           "color": "#f2f5fa"
          },
          "hovermode": "closest",
          "hoverlabel": {
           "align": "left"
          },
          "paper_bgcolor": "rgb(17,17,17)",
          "plot_bgcolor": "rgb(17,17,17)",
          "polar": {
           "bgcolor": "rgb(17,17,17)",
           "angularaxis": {
            "gridcolor": "#506784",
            "linecolor": "#506784",
            "ticks": ""
           },
           "radialaxis": {
            "gridcolor": "#506784",
            "linecolor": "#506784",
            "ticks": ""
           }
          },
          "ternary": {
           "bgcolor": "rgb(17,17,17)",
           "aaxis": {
            "gridcolor": "#506784",
            "linecolor": "#506784",
            "ticks": ""
           },
           "baxis": {
            "gridcolor": "#506784",
            "linecolor": "#506784",
            "ticks": ""
           },
           "caxis": {
            "gridcolor": "#506784",
            "linecolor": "#506784",
            "ticks": ""
           }
          },
          "coloraxis": {
           "colorbar": {
            "outlinewidth": 0,
            "ticks": ""
           }
          },
          "colorscale": {
           "sequential": [
            [
             0.0,
             "#0d0887"
            ],
            [
             0.1111111111111111,
             "#46039f"
            ],
            [
             0.2222222222222222,
             "#7201a8"
            ],
            [
             0.3333333333333333,
             "#9c179e"
            ],
            [
             0.4444444444444444,
             "#bd3786"
            ],
            [
             0.5555555555555556,
             "#d8576b"
            ],
            [
             0.6666666666666666,
             "#ed7953"
            ],
            [
             0.7777777777777778,
             "#fb9f3a"
            ],
            [
             0.8888888888888888,
             "#fdca26"
            ],
            [
             1.0,
             "#f0f921"
            ]
           ],
           "sequentialminus": [
            [
             0.0,
             "#0d0887"
            ],
            [
             0.1111111111111111,
             "#46039f"
            ],
            [
             0.2222222222222222,
             "#7201a8"
            ],
            [
             0.3333333333333333,
             "#9c179e"
            ],
            [
             0.4444444444444444,
             "#bd3786"
            ],
            [
             0.5555555555555556,
             "#d8576b"
            ],
            [
             0.6666666666666666,
             "#ed7953"
            ],
            [
             0.7777777777777778,
             "#fb9f3a"
            ],
            [
             0.8888888888888888,
             "#fdca26"
            ],
            [
             1.0,
             "#f0f921"
            ]
           ],
           "diverging": [
            [
             0,
             "#8e0152"
            ],
            [
             0.1,
             "#c51b7d"
            ],
            [
             0.2,
             "#de77ae"
            ],
            [
             0.3,
             "#f1b6da"
            ],
            [
             0.4,
             "#fde0ef"
            ],
            [
             0.5,
             "#f7f7f7"
            ],
            [
             0.6,
             "#e6f5d0"
            ],
            [
             0.7,
             "#b8e186"
            ],
            [
             0.8,
             "#7fbc41"
            ],
            [
             0.9,
             "#4d9221"
            ],
            [
             1,
             "#276419"
            ]
           ]
          },
          "xaxis": {
           "gridcolor": "#283442",
           "linecolor": "#506784",
           "ticks": "",
           "title": {
            "standoff": 15
           },
           "zerolinecolor": "#283442",
           "automargin": true,
           "zerolinewidth": 2
          },
          "yaxis": {
           "gridcolor": "#283442",
           "linecolor": "#506784",
           "ticks": "",
           "title": {
            "standoff": 15
           },
           "zerolinecolor": "#283442",
           "automargin": true,
           "zerolinewidth": 2
          },
          "scene": {
           "xaxis": {
            "backgroundcolor": "rgb(17,17,17)",
            "gridcolor": "#506784",
            "linecolor": "#506784",
            "showbackground": true,
            "ticks": "",
            "zerolinecolor": "#C8D4E3",
            "gridwidth": 2
           },
           "yaxis": {
            "backgroundcolor": "rgb(17,17,17)",
            "gridcolor": "#506784",
            "linecolor": "#506784",
            "showbackground": true,
            "ticks": "",
            "zerolinecolor": "#C8D4E3",
            "gridwidth": 2
           },
           "zaxis": {
            "backgroundcolor": "rgb(17,17,17)",
            "gridcolor": "#506784",
            "linecolor": "#506784",
            "showbackground": true,
            "ticks": "",
            "zerolinecolor": "#C8D4E3",
            "gridwidth": 2
           }
          },
          "shapedefaults": {
           "line": {
            "color": "#f2f5fa"
           }
          },
          "annotationdefaults": {
           "arrowcolor": "#f2f5fa",
           "arrowhead": 0,
           "arrowwidth": 1
          },
          "geo": {
           "bgcolor": "rgb(17,17,17)",
           "landcolor": "rgb(17,17,17)",
           "subunitcolor": "#506784",
           "showland": true,
           "showlakes": true,
           "lakecolor": "rgb(17,17,17)"
          },
          "title": {
           "x": 0.05
          },
          "updatemenudefaults": {
           "bgcolor": "#506784",
           "borderwidth": 0
          },
          "sliderdefaults": {
           "bgcolor": "#C8D4E3",
           "borderwidth": 1,
           "bordercolor": "rgb(17,17,17)",
           "tickwidth": 0
          },
          "mapbox": {
           "style": "dark"
          }
         }
        },
        "xaxis": {
         "anchor": "y",
         "domain": [
          0.0,
          0.7363
         ],
         "title": {
          "text": "event F1"
         }
        },
        "yaxis": {
         "anchor": "x",
         "domain": [
          0.0,
          1.0
         ],
         "title": {
          "text": "value"
         }
        },
        "xaxis2": {
         "anchor": "y2",
         "domain": [
          0.7413,
          1.0
         ],
         "matches": "x2",
         "showticklabels": false,
         "showline": false,
         "ticks": "",
         "showgrid": true
        },
        "yaxis2": {
         "anchor": "x2",
         "domain": [
          0.0,
          1.0
         ],
         "matches": "y",
         "showticklabels": false,
         "showgrid": true
        },
        "legend": {
         "title": {
          "text": "metric"
         },
         "tracegroupgap": 0
        },
        "margin": {
         "t": 60
        },
        "barmode": "overlay"
       },
       "config": {
        "plotlyServerURL": "https://plot.ly"
       }
      },
      "text/html": [
       "<div>                            <div id=\"f931d473-c76e-40ca-9dd6-f46a0a7464c1\" class=\"plotly-graph-div\" style=\"height:525px; width:100%;\"></div>            <script type=\"text/javascript\">                require([\"plotly\"], function(Plotly) {                    window.PLOTLYENV=window.PLOTLYENV || {};                                    if (document.getElementById(\"f931d473-c76e-40ca-9dd6-f46a0a7464c1\")) {                    Plotly.newPlot(                        \"f931d473-c76e-40ca-9dd6-f46a0a7464c1\",                        [{\"hovertemplate\":\"metric=event precision<br>event F1=%{x}<br>value=%{y}<extra></extra>\",\"legendgroup\":\"event precision\",\"marker\":{\"color\":\"#636efa\",\"symbol\":\"circle\"},\"mode\":\"markers\",\"name\":\"event precision\",\"orientation\":\"v\",\"showlegend\":true,\"x\":[0.697560975609756,0.862789384528515,0.7883211678832117,0.7094430992736077,0.7123893805309734,0.7090694935217904,0.5128205128205128],\"xaxis\":\"x\",\"y\":[0.8411764705882353,0.8286334056399133,0.8039702233250621,0.5745098039215686,0.7123893805309734,0.6310272536687631,0.6451612903225806],\"yaxis\":\"y\",\"type\":\"scatter\"},{\"alignmentgroup\":\"True\",\"bingroup\":\"y\",\"hovertemplate\":\"metric=event precision<br>value=%{y}<br>count=%{x}<extra></extra>\",\"legendgroup\":\"event precision\",\"marker\":{\"color\":\"#636efa\"},\"name\":\"event precision\",\"offsetgroup\":\"event precision\",\"opacity\":0.5,\"showlegend\":false,\"xaxis\":\"x2\",\"y\":[0.8411764705882353,0.8286334056399133,0.8039702233250621,0.5745098039215686,0.7123893805309734,0.6310272536687631,0.6451612903225806],\"yaxis\":\"y2\",\"type\":\"histogram\"},{\"hovertemplate\":\"metric=event recall<br>event F1=%{x}<br>value=%{y}<extra></extra>\",\"legendgroup\":\"event recall\",\"marker\":{\"color\":\"#EF553B\",\"symbol\":\"circle\"},\"mode\":\"markers\",\"name\":\"event recall\",\"orientation\":\"v\",\"showlegend\":true,\"x\":[0.697560975609756,0.862789384528515,0.7883211678832117,0.7094430992736077,0.7123893805309734,0.7090694935217904,0.5128205128205128],\"xaxis\":\"x\",\"y\":[0.5958333333333333,0.8998822143698468,0.7732696897374701,0.9272151898734177,0.7123893805309734,0.8091397849462365,0.425531914893617],\"yaxis\":\"y\",\"type\":\"scatter\"},{\"alignmentgroup\":\"True\",\"bingroup\":\"y\",\"hovertemplate\":\"metric=event recall<br>value=%{y}<br>count=%{x}<extra></extra>\",\"legendgroup\":\"event recall\",\"marker\":{\"color\":\"#EF553B\"},\"name\":\"event recall\",\"offsetgroup\":\"event recall\",\"opacity\":0.5,\"showlegend\":false,\"xaxis\":\"x2\",\"y\":[0.5958333333333333,0.8998822143698468,0.7732696897374701,0.9272151898734177,0.7123893805309734,0.8091397849462365,0.425531914893617],\"yaxis\":\"y2\",\"type\":\"histogram\"},{\"fill\":\"toself\",\"mode\":\"lines\",\"name\":\"identity\",\"x\":[0.697560975609756,0.862789384528515,0.7883211678832117,0.7094430992736077,0.7123893805309734,0.7090694935217904,0.5128205128205128],\"y\":[0.697560975609756,0.862789384528515,0.7883211678832117,0.7094430992736077,0.7123893805309734,0.7090694935217904,0.5128205128205128],\"type\":\"scatter\"}],                        {\"template\":{\"data\":{\"histogram2dcontour\":[{\"type\":\"histogram2dcontour\",\"colorbar\":{\"outlinewidth\":0,\"ticks\":\"\"},\"colorscale\":[[0.0,\"#0d0887\"],[0.1111111111111111,\"#46039f\"],[0.2222222222222222,\"#7201a8\"],[0.3333333333333333,\"#9c179e\"],[0.4444444444444444,\"#bd3786\"],[0.5555555555555556,\"#d8576b\"],[0.6666666666666666,\"#ed7953\"],[0.7777777777777778,\"#fb9f3a\"],[0.8888888888888888,\"#fdca26\"],[1.0,\"#f0f921\"]]}],\"choropleth\":[{\"type\":\"choropleth\",\"colorbar\":{\"outlinewidth\":0,\"ticks\":\"\"}}],\"histogram2d\":[{\"type\":\"histogram2d\",\"colorbar\":{\"outlinewidth\":0,\"ticks\":\"\"},\"colorscale\":[[0.0,\"#0d0887\"],[0.1111111111111111,\"#46039f\"],[0.2222222222222222,\"#7201a8\"],[0.3333333333333333,\"#9c179e\"],[0.4444444444444444,\"#bd3786\"],[0.5555555555555556,\"#d8576b\"],[0.6666666666666666,\"#ed7953\"],[0.7777777777777778,\"#fb9f3a\"],[0.8888888888888888,\"#fdca26\"],[1.0,\"#f0f921\"]]}],\"heatmap\":[{\"type\":\"heatmap\",\"colorbar\":{\"outlinewidth\":0,\"ticks\":\"\"},\"colorscale\":[[0.0,\"#0d0887\"],[0.1111111111111111,\"#46039f\"],[0.2222222222222222,\"#7201a8\"],[0.3333333333333333,\"#9c179e\"],[0.4444444444444444,\"#bd3786\"],[0.5555555555555556,\"#d8576b\"],[0.6666666666666666,\"#ed7953\"],[0.7777777777777778,\"#fb9f3a\"],[0.8888888888888888,\"#fdca26\"],[1.0,\"#f0f921\"]]}],\"heatmapgl\":[{\"type\":\"heatmapgl\",\"colorbar\":{\"outlinewidth\":0,\"ticks\":\"\"},\"colorscale\":[[0.0,\"#0d0887\"],[0.1111111111111111,\"#46039f\"],[0.2222222222222222,\"#7201a8\"],[0.3333333333333333,\"#9c179e\"],[0.4444444444444444,\"#bd3786\"],[0.5555555555555556,\"#d8576b\"],[0.6666666666666666,\"#ed7953\"],[0.7777777777777778,\"#fb9f3a\"],[0.8888888888888888,\"#fdca26\"],[1.0,\"#f0f921\"]]}],\"contourcarpet\":[{\"type\":\"contourcarpet\",\"colorbar\":{\"outlinewidth\":0,\"ticks\":\"\"}}],\"contour\":[{\"type\":\"contour\",\"colorbar\":{\"outlinewidth\":0,\"ticks\":\"\"},\"colorscale\":[[0.0,\"#0d0887\"],[0.1111111111111111,\"#46039f\"],[0.2222222222222222,\"#7201a8\"],[0.3333333333333333,\"#9c179e\"],[0.4444444444444444,\"#bd3786\"],[0.5555555555555556,\"#d8576b\"],[0.6666666666666666,\"#ed7953\"],[0.7777777777777778,\"#fb9f3a\"],[0.8888888888888888,\"#fdca26\"],[1.0,\"#f0f921\"]]}],\"surface\":[{\"type\":\"surface\",\"colorbar\":{\"outlinewidth\":0,\"ticks\":\"\"},\"colorscale\":[[0.0,\"#0d0887\"],[0.1111111111111111,\"#46039f\"],[0.2222222222222222,\"#7201a8\"],[0.3333333333333333,\"#9c179e\"],[0.4444444444444444,\"#bd3786\"],[0.5555555555555556,\"#d8576b\"],[0.6666666666666666,\"#ed7953\"],[0.7777777777777778,\"#fb9f3a\"],[0.8888888888888888,\"#fdca26\"],[1.0,\"#f0f921\"]]}],\"mesh3d\":[{\"type\":\"mesh3d\",\"colorbar\":{\"outlinewidth\":0,\"ticks\":\"\"}}],\"scatter\":[{\"marker\":{\"line\":{\"color\":\"#283442\"}},\"type\":\"scatter\"}],\"parcoords\":[{\"type\":\"parcoords\",\"line\":{\"colorbar\":{\"outlinewidth\":0,\"ticks\":\"\"}}}],\"scatterpolargl\":[{\"type\":\"scatterpolargl\",\"marker\":{\"colorbar\":{\"outlinewidth\":0,\"ticks\":\"\"}}}],\"bar\":[{\"error_x\":{\"color\":\"#f2f5fa\"},\"error_y\":{\"color\":\"#f2f5fa\"},\"marker\":{\"line\":{\"color\":\"rgb(17,17,17)\",\"width\":0.5},\"pattern\":{\"fillmode\":\"overlay\",\"size\":10,\"solidity\":0.2}},\"type\":\"bar\"}],\"scattergeo\":[{\"type\":\"scattergeo\",\"marker\":{\"colorbar\":{\"outlinewidth\":0,\"ticks\":\"\"}}}],\"scatterpolar\":[{\"type\":\"scatterpolar\",\"marker\":{\"colorbar\":{\"outlinewidth\":0,\"ticks\":\"\"}}}],\"histogram\":[{\"marker\":{\"pattern\":{\"fillmode\":\"overlay\",\"size\":10,\"solidity\":0.2}},\"type\":\"histogram\"}],\"scattergl\":[{\"marker\":{\"line\":{\"color\":\"#283442\"}},\"type\":\"scattergl\"}],\"scatter3d\":[{\"type\":\"scatter3d\",\"line\":{\"colorbar\":{\"outlinewidth\":0,\"ticks\":\"\"}},\"marker\":{\"colorbar\":{\"outlinewidth\":0,\"ticks\":\"\"}}}],\"scattermapbox\":[{\"type\":\"scattermapbox\",\"marker\":{\"colorbar\":{\"outlinewidth\":0,\"ticks\":\"\"}}}],\"scatterternary\":[{\"type\":\"scatterternary\",\"marker\":{\"colorbar\":{\"outlinewidth\":0,\"ticks\":\"\"}}}],\"scattercarpet\":[{\"type\":\"scattercarpet\",\"marker\":{\"colorbar\":{\"outlinewidth\":0,\"ticks\":\"\"}}}],\"carpet\":[{\"aaxis\":{\"endlinecolor\":\"#A2B1C6\",\"gridcolor\":\"#506784\",\"linecolor\":\"#506784\",\"minorgridcolor\":\"#506784\",\"startlinecolor\":\"#A2B1C6\"},\"baxis\":{\"endlinecolor\":\"#A2B1C6\",\"gridcolor\":\"#506784\",\"linecolor\":\"#506784\",\"minorgridcolor\":\"#506784\",\"startlinecolor\":\"#A2B1C6\"},\"type\":\"carpet\"}],\"table\":[{\"cells\":{\"fill\":{\"color\":\"#506784\"},\"line\":{\"color\":\"rgb(17,17,17)\"}},\"header\":{\"fill\":{\"color\":\"#2a3f5f\"},\"line\":{\"color\":\"rgb(17,17,17)\"}},\"type\":\"table\"}],\"barpolar\":[{\"marker\":{\"line\":{\"color\":\"rgb(17,17,17)\",\"width\":0.5},\"pattern\":{\"fillmode\":\"overlay\",\"size\":10,\"solidity\":0.2}},\"type\":\"barpolar\"}],\"pie\":[{\"automargin\":true,\"type\":\"pie\"}]},\"layout\":{\"autotypenumbers\":\"strict\",\"colorway\":[\"#636efa\",\"#EF553B\",\"#00cc96\",\"#ab63fa\",\"#FFA15A\",\"#19d3f3\",\"#FF6692\",\"#B6E880\",\"#FF97FF\",\"#FECB52\"],\"font\":{\"color\":\"#f2f5fa\"},\"hovermode\":\"closest\",\"hoverlabel\":{\"align\":\"left\"},\"paper_bgcolor\":\"rgb(17,17,17)\",\"plot_bgcolor\":\"rgb(17,17,17)\",\"polar\":{\"bgcolor\":\"rgb(17,17,17)\",\"angularaxis\":{\"gridcolor\":\"#506784\",\"linecolor\":\"#506784\",\"ticks\":\"\"},\"radialaxis\":{\"gridcolor\":\"#506784\",\"linecolor\":\"#506784\",\"ticks\":\"\"}},\"ternary\":{\"bgcolor\":\"rgb(17,17,17)\",\"aaxis\":{\"gridcolor\":\"#506784\",\"linecolor\":\"#506784\",\"ticks\":\"\"},\"baxis\":{\"gridcolor\":\"#506784\",\"linecolor\":\"#506784\",\"ticks\":\"\"},\"caxis\":{\"gridcolor\":\"#506784\",\"linecolor\":\"#506784\",\"ticks\":\"\"}},\"coloraxis\":{\"colorbar\":{\"outlinewidth\":0,\"ticks\":\"\"}},\"colorscale\":{\"sequential\":[[0.0,\"#0d0887\"],[0.1111111111111111,\"#46039f\"],[0.2222222222222222,\"#7201a8\"],[0.3333333333333333,\"#9c179e\"],[0.4444444444444444,\"#bd3786\"],[0.5555555555555556,\"#d8576b\"],[0.6666666666666666,\"#ed7953\"],[0.7777777777777778,\"#fb9f3a\"],[0.8888888888888888,\"#fdca26\"],[1.0,\"#f0f921\"]],\"sequentialminus\":[[0.0,\"#0d0887\"],[0.1111111111111111,\"#46039f\"],[0.2222222222222222,\"#7201a8\"],[0.3333333333333333,\"#9c179e\"],[0.4444444444444444,\"#bd3786\"],[0.5555555555555556,\"#d8576b\"],[0.6666666666666666,\"#ed7953\"],[0.7777777777777778,\"#fb9f3a\"],[0.8888888888888888,\"#fdca26\"],[1.0,\"#f0f921\"]],\"diverging\":[[0,\"#8e0152\"],[0.1,\"#c51b7d\"],[0.2,\"#de77ae\"],[0.3,\"#f1b6da\"],[0.4,\"#fde0ef\"],[0.5,\"#f7f7f7\"],[0.6,\"#e6f5d0\"],[0.7,\"#b8e186\"],[0.8,\"#7fbc41\"],[0.9,\"#4d9221\"],[1,\"#276419\"]]},\"xaxis\":{\"gridcolor\":\"#283442\",\"linecolor\":\"#506784\",\"ticks\":\"\",\"title\":{\"standoff\":15},\"zerolinecolor\":\"#283442\",\"automargin\":true,\"zerolinewidth\":2},\"yaxis\":{\"gridcolor\":\"#283442\",\"linecolor\":\"#506784\",\"ticks\":\"\",\"title\":{\"standoff\":15},\"zerolinecolor\":\"#283442\",\"automargin\":true,\"zerolinewidth\":2},\"scene\":{\"xaxis\":{\"backgroundcolor\":\"rgb(17,17,17)\",\"gridcolor\":\"#506784\",\"linecolor\":\"#506784\",\"showbackground\":true,\"ticks\":\"\",\"zerolinecolor\":\"#C8D4E3\",\"gridwidth\":2},\"yaxis\":{\"backgroundcolor\":\"rgb(17,17,17)\",\"gridcolor\":\"#506784\",\"linecolor\":\"#506784\",\"showbackground\":true,\"ticks\":\"\",\"zerolinecolor\":\"#C8D4E3\",\"gridwidth\":2},\"zaxis\":{\"backgroundcolor\":\"rgb(17,17,17)\",\"gridcolor\":\"#506784\",\"linecolor\":\"#506784\",\"showbackground\":true,\"ticks\":\"\",\"zerolinecolor\":\"#C8D4E3\",\"gridwidth\":2}},\"shapedefaults\":{\"line\":{\"color\":\"#f2f5fa\"}},\"annotationdefaults\":{\"arrowcolor\":\"#f2f5fa\",\"arrowhead\":0,\"arrowwidth\":1},\"geo\":{\"bgcolor\":\"rgb(17,17,17)\",\"landcolor\":\"rgb(17,17,17)\",\"subunitcolor\":\"#506784\",\"showland\":true,\"showlakes\":true,\"lakecolor\":\"rgb(17,17,17)\"},\"title\":{\"x\":0.05},\"updatemenudefaults\":{\"bgcolor\":\"#506784\",\"borderwidth\":0},\"sliderdefaults\":{\"bgcolor\":\"#C8D4E3\",\"borderwidth\":1,\"bordercolor\":\"rgb(17,17,17)\",\"tickwidth\":0},\"mapbox\":{\"style\":\"dark\"}}},\"xaxis\":{\"anchor\":\"y\",\"domain\":[0.0,0.7363],\"title\":{\"text\":\"event F1\"}},\"yaxis\":{\"anchor\":\"x\",\"domain\":[0.0,1.0],\"title\":{\"text\":\"value\"}},\"xaxis2\":{\"anchor\":\"y2\",\"domain\":[0.7413,1.0],\"matches\":\"x2\",\"showticklabels\":false,\"showline\":false,\"ticks\":\"\",\"showgrid\":true},\"yaxis2\":{\"anchor\":\"x2\",\"domain\":[0.0,1.0],\"matches\":\"y\",\"showticklabels\":false,\"showgrid\":true},\"legend\":{\"title\":{\"text\":\"metric\"},\"tracegroupgap\":0},\"margin\":{\"t\":60},\"barmode\":\"overlay\"},                        {\"responsive\": true}                    ).then(function(){\n",
       "                            \n",
       "var gd = document.getElementById('f931d473-c76e-40ca-9dd6-f46a0a7464c1');\n",
       "var x = new MutationObserver(function (mutations, observer) {{\n",
       "        var display = window.getComputedStyle(gd).display;\n",
       "        if (!display || display === 'none') {{\n",
       "            console.log([gd, 'removed!']);\n",
       "            Plotly.purge(gd);\n",
       "            observer.disconnect();\n",
       "        }}\n",
       "}});\n",
       "\n",
       "// Listen for the removal of the full notebook cells\n",
       "var notebookContainer = gd.closest('#notebook-container');\n",
       "if (notebookContainer) {{\n",
       "    x.observe(notebookContainer, {childList: true});\n",
       "}}\n",
       "\n",
       "// Listen for the clearing of the current output cell\n",
       "var outputEl = gd.closest('.output');\n",
       "if (outputEl) {{\n",
       "    x.observe(outputEl, {childList: true});\n",
       "}}\n",
       "\n",
       "                        })                };                });            </script>        </div>"
      ]
     },
     "metadata": {},
     "output_type": "display_data"
    }
   ],
   "execution_count": 56
  },
  {
   "metadata": {
    "ExecuteTime": {
     "end_time": "2025-01-13T12:37:09.771055Z",
     "start_time": "2025-01-13T12:37:09.722316Z"
    }
   },
   "cell_type": "code",
   "source": [
    "fig=px.scatter(experimentModels,x='rawF1',y='eventF1',color='test',hover_name='modelId', marginal_y=\"histogram\")\n",
    "fig.add_trace(\n",
    "    go.Scatter(x=experimentModels['rawF1'], y=experimentModels['rawF1'], name=\"identity\", mode='lines',fill=\"toself\")\n",
    ")\n",
    "fig.show()\n"
   ],
   "outputs": [
    {
     "data": {
      "application/vnd.plotly.v1+json": {
       "data": [
        {
         "hovertemplate": "<b>%{hovertext}</b><br><br>test=0002<br>rawF1=%{x}<br>eventF1=%{y}<extra></extra>",
         "hovertext": [
          "a4659423-83e4-4da3-91b5-177fa8bc17fe"
         ],
         "legendgroup": "0002",
         "marker": {
          "color": "#636efa",
          "symbol": "circle"
         },
         "mode": "markers",
         "name": "0002",
         "orientation": "v",
         "showlegend": true,
         "x": [
          0.624038948205635
         ],
         "xaxis": "x",
         "y": [
          0.697560975609756
         ],
         "yaxis": "y",
         "type": "scatter"
        },
        {
         "alignmentgroup": "True",
         "bingroup": "y",
         "hovertemplate": "test=0002<br>eventF1=%{y}<br>count=%{x}<extra></extra>",
         "legendgroup": "0002",
         "marker": {
          "color": "#636efa"
         },
         "name": "0002",
         "offsetgroup": "0002",
         "opacity": 0.5,
         "showlegend": false,
         "xaxis": "x2",
         "y": [
          0.697560975609756
         ],
         "yaxis": "y2",
         "type": "histogram"
        },
        {
         "hovertemplate": "<b>%{hovertext}</b><br><br>test=0003<br>rawF1=%{x}<br>eventF1=%{y}<extra></extra>",
         "hovertext": [
          "ad3be387-5be4-4e8e-b57d-072003b617d3"
         ],
         "legendgroup": "0003",
         "marker": {
          "color": "#EF553B",
          "symbol": "circle"
         },
         "mode": "markers",
         "name": "0003",
         "orientation": "v",
         "showlegend": true,
         "x": [
          0.7821341762179715
         ],
         "xaxis": "x",
         "y": [
          0.862789384528515
         ],
         "yaxis": "y",
         "type": "scatter"
        },
        {
         "alignmentgroup": "True",
         "bingroup": "y",
         "hovertemplate": "test=0003<br>eventF1=%{y}<br>count=%{x}<extra></extra>",
         "legendgroup": "0003",
         "marker": {
          "color": "#EF553B"
         },
         "name": "0003",
         "offsetgroup": "0003",
         "opacity": 0.5,
         "showlegend": false,
         "xaxis": "x2",
         "y": [
          0.862789384528515
         ],
         "yaxis": "y2",
         "type": "histogram"
        },
        {
         "hovertemplate": "<b>%{hovertext}</b><br><br>test=0004<br>rawF1=%{x}<br>eventF1=%{y}<extra></extra>",
         "hovertext": [
          "8bcbbc8b-b83e-4b97-8f7c-0dd0760680e7"
         ],
         "legendgroup": "0004",
         "marker": {
          "color": "#00cc96",
          "symbol": "circle"
         },
         "mode": "markers",
         "name": "0004",
         "orientation": "v",
         "showlegend": true,
         "x": [
          0.7034290620665637
         ],
         "xaxis": "x",
         "y": [
          0.7883211678832117
         ],
         "yaxis": "y",
         "type": "scatter"
        },
        {
         "alignmentgroup": "True",
         "bingroup": "y",
         "hovertemplate": "test=0004<br>eventF1=%{y}<br>count=%{x}<extra></extra>",
         "legendgroup": "0004",
         "marker": {
          "color": "#00cc96"
         },
         "name": "0004",
         "offsetgroup": "0004",
         "opacity": 0.5,
         "showlegend": false,
         "xaxis": "x2",
         "y": [
          0.7883211678832117
         ],
         "yaxis": "y2",
         "type": "histogram"
        },
        {
         "hovertemplate": "<b>%{hovertext}</b><br><br>test=0005<br>rawF1=%{x}<br>eventF1=%{y}<extra></extra>",
         "hovertext": [
          "f88ed731-de3a-4c9a-90d5-04d1fcd93d45"
         ],
         "legendgroup": "0005",
         "marker": {
          "color": "#ab63fa",
          "symbol": "circle"
         },
         "mode": "markers",
         "name": "0005",
         "orientation": "v",
         "showlegend": true,
         "x": [
          0.665975287752359
         ],
         "xaxis": "x",
         "y": [
          0.7094430992736077
         ],
         "yaxis": "y",
         "type": "scatter"
        },
        {
         "alignmentgroup": "True",
         "bingroup": "y",
         "hovertemplate": "test=0005<br>eventF1=%{y}<br>count=%{x}<extra></extra>",
         "legendgroup": "0005",
         "marker": {
          "color": "#ab63fa"
         },
         "name": "0005",
         "offsetgroup": "0005",
         "opacity": 0.5,
         "showlegend": false,
         "xaxis": "x2",
         "y": [
          0.7094430992736077
         ],
         "yaxis": "y2",
         "type": "histogram"
        },
        {
         "hovertemplate": "<b>%{hovertext}</b><br><br>test=0006<br>rawF1=%{x}<br>eventF1=%{y}<extra></extra>",
         "hovertext": [
          "16a691da-d735-4ad2-953c-db2678980107"
         ],
         "legendgroup": "0006",
         "marker": {
          "color": "#FFA15A",
          "symbol": "circle"
         },
         "mode": "markers",
         "name": "0006",
         "orientation": "v",
         "showlegend": true,
         "x": [
          0.6327629564837087
         ],
         "xaxis": "x",
         "y": [
          0.7123893805309734
         ],
         "yaxis": "y",
         "type": "scatter"
        },
        {
         "alignmentgroup": "True",
         "bingroup": "y",
         "hovertemplate": "test=0006<br>eventF1=%{y}<br>count=%{x}<extra></extra>",
         "legendgroup": "0006",
         "marker": {
          "color": "#FFA15A"
         },
         "name": "0006",
         "offsetgroup": "0006",
         "opacity": 0.5,
         "showlegend": false,
         "xaxis": "x2",
         "y": [
          0.7123893805309734
         ],
         "yaxis": "y2",
         "type": "histogram"
        },
        {
         "hovertemplate": "<b>%{hovertext}</b><br><br>test=0007<br>rawF1=%{x}<br>eventF1=%{y}<extra></extra>",
         "hovertext": [
          "d91f41ff-0308-46df-9bcd-67d46f377777"
         ],
         "legendgroup": "0007",
         "marker": {
          "color": "#19d3f3",
          "symbol": "circle"
         },
         "mode": "markers",
         "name": "0007",
         "orientation": "v",
         "showlegend": true,
         "x": [
          0.6202577752871953
         ],
         "xaxis": "x",
         "y": [
          0.7090694935217904
         ],
         "yaxis": "y",
         "type": "scatter"
        },
        {
         "alignmentgroup": "True",
         "bingroup": "y",
         "hovertemplate": "test=0007<br>eventF1=%{y}<br>count=%{x}<extra></extra>",
         "legendgroup": "0007",
         "marker": {
          "color": "#19d3f3"
         },
         "name": "0007",
         "offsetgroup": "0007",
         "opacity": 0.5,
         "showlegend": false,
         "xaxis": "x2",
         "y": [
          0.7090694935217904
         ],
         "yaxis": "y2",
         "type": "histogram"
        },
        {
         "hovertemplate": "<b>%{hovertext}</b><br><br>test=0008<br>rawF1=%{x}<br>eventF1=%{y}<extra></extra>",
         "hovertext": [
          "a1eacac2-9e31-437a-9350-110d2ef2f1a5"
         ],
         "legendgroup": "0008",
         "marker": {
          "color": "#FF6692",
          "symbol": "circle"
         },
         "mode": "markers",
         "name": "0008",
         "orientation": "v",
         "showlegend": true,
         "x": [
          0.4838393731635651
         ],
         "xaxis": "x",
         "y": [
          0.5128205128205128
         ],
         "yaxis": "y",
         "type": "scatter"
        },
        {
         "alignmentgroup": "True",
         "bingroup": "y",
         "hovertemplate": "test=0008<br>eventF1=%{y}<br>count=%{x}<extra></extra>",
         "legendgroup": "0008",
         "marker": {
          "color": "#FF6692"
         },
         "name": "0008",
         "offsetgroup": "0008",
         "opacity": 0.5,
         "showlegend": false,
         "xaxis": "x2",
         "y": [
          0.5128205128205128
         ],
         "yaxis": "y2",
         "type": "histogram"
        },
        {
         "fill": "toself",
         "mode": "lines",
         "name": "identity",
         "x": [
          0.624038948205635,
          0.7821341762179715,
          0.7034290620665637,
          0.665975287752359,
          0.6327629564837087,
          0.6202577752871953,
          0.4838393731635651
         ],
         "y": [
          0.624038948205635,
          0.7821341762179715,
          0.7034290620665637,
          0.665975287752359,
          0.6327629564837087,
          0.6202577752871953,
          0.4838393731635651
         ],
         "type": "scatter"
        }
       ],
       "layout": {
        "template": {
         "data": {
          "histogram2dcontour": [
           {
            "type": "histogram2dcontour",
            "colorbar": {
             "outlinewidth": 0,
             "ticks": ""
            },
            "colorscale": [
             [
              0.0,
              "#0d0887"
             ],
             [
              0.1111111111111111,
              "#46039f"
             ],
             [
              0.2222222222222222,
              "#7201a8"
             ],
             [
              0.3333333333333333,
              "#9c179e"
             ],
             [
              0.4444444444444444,
              "#bd3786"
             ],
             [
              0.5555555555555556,
              "#d8576b"
             ],
             [
              0.6666666666666666,
              "#ed7953"
             ],
             [
              0.7777777777777778,
              "#fb9f3a"
             ],
             [
              0.8888888888888888,
              "#fdca26"
             ],
             [
              1.0,
              "#f0f921"
             ]
            ]
           }
          ],
          "choropleth": [
           {
            "type": "choropleth",
            "colorbar": {
             "outlinewidth": 0,
             "ticks": ""
            }
           }
          ],
          "histogram2d": [
           {
            "type": "histogram2d",
            "colorbar": {
             "outlinewidth": 0,
             "ticks": ""
            },
            "colorscale": [
             [
              0.0,
              "#0d0887"
             ],
             [
              0.1111111111111111,
              "#46039f"
             ],
             [
              0.2222222222222222,
              "#7201a8"
             ],
             [
              0.3333333333333333,
              "#9c179e"
             ],
             [
              0.4444444444444444,
              "#bd3786"
             ],
             [
              0.5555555555555556,
              "#d8576b"
             ],
             [
              0.6666666666666666,
              "#ed7953"
             ],
             [
              0.7777777777777778,
              "#fb9f3a"
             ],
             [
              0.8888888888888888,
              "#fdca26"
             ],
             [
              1.0,
              "#f0f921"
             ]
            ]
           }
          ],
          "heatmap": [
           {
            "type": "heatmap",
            "colorbar": {
             "outlinewidth": 0,
             "ticks": ""
            },
            "colorscale": [
             [
              0.0,
              "#0d0887"
             ],
             [
              0.1111111111111111,
              "#46039f"
             ],
             [
              0.2222222222222222,
              "#7201a8"
             ],
             [
              0.3333333333333333,
              "#9c179e"
             ],
             [
              0.4444444444444444,
              "#bd3786"
             ],
             [
              0.5555555555555556,
              "#d8576b"
             ],
             [
              0.6666666666666666,
              "#ed7953"
             ],
             [
              0.7777777777777778,
              "#fb9f3a"
             ],
             [
              0.8888888888888888,
              "#fdca26"
             ],
             [
              1.0,
              "#f0f921"
             ]
            ]
           }
          ],
          "heatmapgl": [
           {
            "type": "heatmapgl",
            "colorbar": {
             "outlinewidth": 0,
             "ticks": ""
            },
            "colorscale": [
             [
              0.0,
              "#0d0887"
             ],
             [
              0.1111111111111111,
              "#46039f"
             ],
             [
              0.2222222222222222,
              "#7201a8"
             ],
             [
              0.3333333333333333,
              "#9c179e"
             ],
             [
              0.4444444444444444,
              "#bd3786"
             ],
             [
              0.5555555555555556,
              "#d8576b"
             ],
             [
              0.6666666666666666,
              "#ed7953"
             ],
             [
              0.7777777777777778,
              "#fb9f3a"
             ],
             [
              0.8888888888888888,
              "#fdca26"
             ],
             [
              1.0,
              "#f0f921"
             ]
            ]
           }
          ],
          "contourcarpet": [
           {
            "type": "contourcarpet",
            "colorbar": {
             "outlinewidth": 0,
             "ticks": ""
            }
           }
          ],
          "contour": [
           {
            "type": "contour",
            "colorbar": {
             "outlinewidth": 0,
             "ticks": ""
            },
            "colorscale": [
             [
              0.0,
              "#0d0887"
             ],
             [
              0.1111111111111111,
              "#46039f"
             ],
             [
              0.2222222222222222,
              "#7201a8"
             ],
             [
              0.3333333333333333,
              "#9c179e"
             ],
             [
              0.4444444444444444,
              "#bd3786"
             ],
             [
              0.5555555555555556,
              "#d8576b"
             ],
             [
              0.6666666666666666,
              "#ed7953"
             ],
             [
              0.7777777777777778,
              "#fb9f3a"
             ],
             [
              0.8888888888888888,
              "#fdca26"
             ],
             [
              1.0,
              "#f0f921"
             ]
            ]
           }
          ],
          "surface": [
           {
            "type": "surface",
            "colorbar": {
             "outlinewidth": 0,
             "ticks": ""
            },
            "colorscale": [
             [
              0.0,
              "#0d0887"
             ],
             [
              0.1111111111111111,
              "#46039f"
             ],
             [
              0.2222222222222222,
              "#7201a8"
             ],
             [
              0.3333333333333333,
              "#9c179e"
             ],
             [
              0.4444444444444444,
              "#bd3786"
             ],
             [
              0.5555555555555556,
              "#d8576b"
             ],
             [
              0.6666666666666666,
              "#ed7953"
             ],
             [
              0.7777777777777778,
              "#fb9f3a"
             ],
             [
              0.8888888888888888,
              "#fdca26"
             ],
             [
              1.0,
              "#f0f921"
             ]
            ]
           }
          ],
          "mesh3d": [
           {
            "type": "mesh3d",
            "colorbar": {
             "outlinewidth": 0,
             "ticks": ""
            }
           }
          ],
          "scatter": [
           {
            "marker": {
             "line": {
              "color": "#283442"
             }
            },
            "type": "scatter"
           }
          ],
          "parcoords": [
           {
            "type": "parcoords",
            "line": {
             "colorbar": {
              "outlinewidth": 0,
              "ticks": ""
             }
            }
           }
          ],
          "scatterpolargl": [
           {
            "type": "scatterpolargl",
            "marker": {
             "colorbar": {
              "outlinewidth": 0,
              "ticks": ""
             }
            }
           }
          ],
          "bar": [
           {
            "error_x": {
             "color": "#f2f5fa"
            },
            "error_y": {
             "color": "#f2f5fa"
            },
            "marker": {
             "line": {
              "color": "rgb(17,17,17)",
              "width": 0.5
             },
             "pattern": {
              "fillmode": "overlay",
              "size": 10,
              "solidity": 0.2
             }
            },
            "type": "bar"
           }
          ],
          "scattergeo": [
           {
            "type": "scattergeo",
            "marker": {
             "colorbar": {
              "outlinewidth": 0,
              "ticks": ""
             }
            }
           }
          ],
          "scatterpolar": [
           {
            "type": "scatterpolar",
            "marker": {
             "colorbar": {
              "outlinewidth": 0,
              "ticks": ""
             }
            }
           }
          ],
          "histogram": [
           {
            "marker": {
             "pattern": {
              "fillmode": "overlay",
              "size": 10,
              "solidity": 0.2
             }
            },
            "type": "histogram"
           }
          ],
          "scattergl": [
           {
            "marker": {
             "line": {
              "color": "#283442"
             }
            },
            "type": "scattergl"
           }
          ],
          "scatter3d": [
           {
            "type": "scatter3d",
            "line": {
             "colorbar": {
              "outlinewidth": 0,
              "ticks": ""
             }
            },
            "marker": {
             "colorbar": {
              "outlinewidth": 0,
              "ticks": ""
             }
            }
           }
          ],
          "scattermapbox": [
           {
            "type": "scattermapbox",
            "marker": {
             "colorbar": {
              "outlinewidth": 0,
              "ticks": ""
             }
            }
           }
          ],
          "scatterternary": [
           {
            "type": "scatterternary",
            "marker": {
             "colorbar": {
              "outlinewidth": 0,
              "ticks": ""
             }
            }
           }
          ],
          "scattercarpet": [
           {
            "type": "scattercarpet",
            "marker": {
             "colorbar": {
              "outlinewidth": 0,
              "ticks": ""
             }
            }
           }
          ],
          "carpet": [
           {
            "aaxis": {
             "endlinecolor": "#A2B1C6",
             "gridcolor": "#506784",
             "linecolor": "#506784",
             "minorgridcolor": "#506784",
             "startlinecolor": "#A2B1C6"
            },
            "baxis": {
             "endlinecolor": "#A2B1C6",
             "gridcolor": "#506784",
             "linecolor": "#506784",
             "minorgridcolor": "#506784",
             "startlinecolor": "#A2B1C6"
            },
            "type": "carpet"
           }
          ],
          "table": [
           {
            "cells": {
             "fill": {
              "color": "#506784"
             },
             "line": {
              "color": "rgb(17,17,17)"
             }
            },
            "header": {
             "fill": {
              "color": "#2a3f5f"
             },
             "line": {
              "color": "rgb(17,17,17)"
             }
            },
            "type": "table"
           }
          ],
          "barpolar": [
           {
            "marker": {
             "line": {
              "color": "rgb(17,17,17)",
              "width": 0.5
             },
             "pattern": {
              "fillmode": "overlay",
              "size": 10,
              "solidity": 0.2
             }
            },
            "type": "barpolar"
           }
          ],
          "pie": [
           {
            "automargin": true,
            "type": "pie"
           }
          ]
         },
         "layout": {
          "autotypenumbers": "strict",
          "colorway": [
           "#636efa",
           "#EF553B",
           "#00cc96",
           "#ab63fa",
           "#FFA15A",
           "#19d3f3",
           "#FF6692",
           "#B6E880",
           "#FF97FF",
           "#FECB52"
          ],
          "font": {
           "color": "#f2f5fa"
          },
          "hovermode": "closest",
          "hoverlabel": {
           "align": "left"
          },
          "paper_bgcolor": "rgb(17,17,17)",
          "plot_bgcolor": "rgb(17,17,17)",
          "polar": {
           "bgcolor": "rgb(17,17,17)",
           "angularaxis": {
            "gridcolor": "#506784",
            "linecolor": "#506784",
            "ticks": ""
           },
           "radialaxis": {
            "gridcolor": "#506784",
            "linecolor": "#506784",
            "ticks": ""
           }
          },
          "ternary": {
           "bgcolor": "rgb(17,17,17)",
           "aaxis": {
            "gridcolor": "#506784",
            "linecolor": "#506784",
            "ticks": ""
           },
           "baxis": {
            "gridcolor": "#506784",
            "linecolor": "#506784",
            "ticks": ""
           },
           "caxis": {
            "gridcolor": "#506784",
            "linecolor": "#506784",
            "ticks": ""
           }
          },
          "coloraxis": {
           "colorbar": {
            "outlinewidth": 0,
            "ticks": ""
           }
          },
          "colorscale": {
           "sequential": [
            [
             0.0,
             "#0d0887"
            ],
            [
             0.1111111111111111,
             "#46039f"
            ],
            [
             0.2222222222222222,
             "#7201a8"
            ],
            [
             0.3333333333333333,
             "#9c179e"
            ],
            [
             0.4444444444444444,
             "#bd3786"
            ],
            [
             0.5555555555555556,
             "#d8576b"
            ],
            [
             0.6666666666666666,
             "#ed7953"
            ],
            [
             0.7777777777777778,
             "#fb9f3a"
            ],
            [
             0.8888888888888888,
             "#fdca26"
            ],
            [
             1.0,
             "#f0f921"
            ]
           ],
           "sequentialminus": [
            [
             0.0,
             "#0d0887"
            ],
            [
             0.1111111111111111,
             "#46039f"
            ],
            [
             0.2222222222222222,
             "#7201a8"
            ],
            [
             0.3333333333333333,
             "#9c179e"
            ],
            [
             0.4444444444444444,
             "#bd3786"
            ],
            [
             0.5555555555555556,
             "#d8576b"
            ],
            [
             0.6666666666666666,
             "#ed7953"
            ],
            [
             0.7777777777777778,
             "#fb9f3a"
            ],
            [
             0.8888888888888888,
             "#fdca26"
            ],
            [
             1.0,
             "#f0f921"
            ]
           ],
           "diverging": [
            [
             0,
             "#8e0152"
            ],
            [
             0.1,
             "#c51b7d"
            ],
            [
             0.2,
             "#de77ae"
            ],
            [
             0.3,
             "#f1b6da"
            ],
            [
             0.4,
             "#fde0ef"
            ],
            [
             0.5,
             "#f7f7f7"
            ],
            [
             0.6,
             "#e6f5d0"
            ],
            [
             0.7,
             "#b8e186"
            ],
            [
             0.8,
             "#7fbc41"
            ],
            [
             0.9,
             "#4d9221"
            ],
            [
             1,
             "#276419"
            ]
           ]
          },
          "xaxis": {
           "gridcolor": "#283442",
           "linecolor": "#506784",
           "ticks": "",
           "title": {
            "standoff": 15
           },
           "zerolinecolor": "#283442",
           "automargin": true,
           "zerolinewidth": 2
          },
          "yaxis": {
           "gridcolor": "#283442",
           "linecolor": "#506784",
           "ticks": "",
           "title": {
            "standoff": 15
           },
           "zerolinecolor": "#283442",
           "automargin": true,
           "zerolinewidth": 2
          },
          "scene": {
           "xaxis": {
            "backgroundcolor": "rgb(17,17,17)",
            "gridcolor": "#506784",
            "linecolor": "#506784",
            "showbackground": true,
            "ticks": "",
            "zerolinecolor": "#C8D4E3",
            "gridwidth": 2
           },
           "yaxis": {
            "backgroundcolor": "rgb(17,17,17)",
            "gridcolor": "#506784",
            "linecolor": "#506784",
            "showbackground": true,
            "ticks": "",
            "zerolinecolor": "#C8D4E3",
            "gridwidth": 2
           },
           "zaxis": {
            "backgroundcolor": "rgb(17,17,17)",
            "gridcolor": "#506784",
            "linecolor": "#506784",
            "showbackground": true,
            "ticks": "",
            "zerolinecolor": "#C8D4E3",
            "gridwidth": 2
           }
          },
          "shapedefaults": {
           "line": {
            "color": "#f2f5fa"
           }
          },
          "annotationdefaults": {
           "arrowcolor": "#f2f5fa",
           "arrowhead": 0,
           "arrowwidth": 1
          },
          "geo": {
           "bgcolor": "rgb(17,17,17)",
           "landcolor": "rgb(17,17,17)",
           "subunitcolor": "#506784",
           "showland": true,
           "showlakes": true,
           "lakecolor": "rgb(17,17,17)"
          },
          "title": {
           "x": 0.05
          },
          "updatemenudefaults": {
           "bgcolor": "#506784",
           "borderwidth": 0
          },
          "sliderdefaults": {
           "bgcolor": "#C8D4E3",
           "borderwidth": 1,
           "bordercolor": "rgb(17,17,17)",
           "tickwidth": 0
          },
          "mapbox": {
           "style": "dark"
          }
         }
        },
        "xaxis": {
         "anchor": "y",
         "domain": [
          0.0,
          0.7363
         ],
         "title": {
          "text": "rawF1"
         }
        },
        "yaxis": {
         "anchor": "x",
         "domain": [
          0.0,
          1.0
         ],
         "title": {
          "text": "eventF1"
         }
        },
        "xaxis2": {
         "anchor": "y2",
         "domain": [
          0.7413,
          1.0
         ],
         "matches": "x2",
         "showticklabels": false,
         "showline": false,
         "ticks": "",
         "showgrid": true
        },
        "yaxis2": {
         "anchor": "x2",
         "domain": [
          0.0,
          1.0
         ],
         "matches": "y",
         "showticklabels": false,
         "showgrid": true
        },
        "legend": {
         "title": {
          "text": "test"
         },
         "tracegroupgap": 0
        },
        "margin": {
         "t": 60
        },
        "barmode": "overlay"
       },
       "config": {
        "plotlyServerURL": "https://plot.ly"
       }
      },
      "text/html": [
       "<div>                            <div id=\"42d0903e-e02a-47b9-87e6-b1d9e811c653\" class=\"plotly-graph-div\" style=\"height:525px; width:100%;\"></div>            <script type=\"text/javascript\">                require([\"plotly\"], function(Plotly) {                    window.PLOTLYENV=window.PLOTLYENV || {};                                    if (document.getElementById(\"42d0903e-e02a-47b9-87e6-b1d9e811c653\")) {                    Plotly.newPlot(                        \"42d0903e-e02a-47b9-87e6-b1d9e811c653\",                        [{\"hovertemplate\":\"<b>%{hovertext}</b><br><br>test=0002<br>rawF1=%{x}<br>eventF1=%{y}<extra></extra>\",\"hovertext\":[\"a4659423-83e4-4da3-91b5-177fa8bc17fe\"],\"legendgroup\":\"0002\",\"marker\":{\"color\":\"#636efa\",\"symbol\":\"circle\"},\"mode\":\"markers\",\"name\":\"0002\",\"orientation\":\"v\",\"showlegend\":true,\"x\":[0.624038948205635],\"xaxis\":\"x\",\"y\":[0.697560975609756],\"yaxis\":\"y\",\"type\":\"scatter\"},{\"alignmentgroup\":\"True\",\"bingroup\":\"y\",\"hovertemplate\":\"test=0002<br>eventF1=%{y}<br>count=%{x}<extra></extra>\",\"legendgroup\":\"0002\",\"marker\":{\"color\":\"#636efa\"},\"name\":\"0002\",\"offsetgroup\":\"0002\",\"opacity\":0.5,\"showlegend\":false,\"xaxis\":\"x2\",\"y\":[0.697560975609756],\"yaxis\":\"y2\",\"type\":\"histogram\"},{\"hovertemplate\":\"<b>%{hovertext}</b><br><br>test=0003<br>rawF1=%{x}<br>eventF1=%{y}<extra></extra>\",\"hovertext\":[\"ad3be387-5be4-4e8e-b57d-072003b617d3\"],\"legendgroup\":\"0003\",\"marker\":{\"color\":\"#EF553B\",\"symbol\":\"circle\"},\"mode\":\"markers\",\"name\":\"0003\",\"orientation\":\"v\",\"showlegend\":true,\"x\":[0.7821341762179715],\"xaxis\":\"x\",\"y\":[0.862789384528515],\"yaxis\":\"y\",\"type\":\"scatter\"},{\"alignmentgroup\":\"True\",\"bingroup\":\"y\",\"hovertemplate\":\"test=0003<br>eventF1=%{y}<br>count=%{x}<extra></extra>\",\"legendgroup\":\"0003\",\"marker\":{\"color\":\"#EF553B\"},\"name\":\"0003\",\"offsetgroup\":\"0003\",\"opacity\":0.5,\"showlegend\":false,\"xaxis\":\"x2\",\"y\":[0.862789384528515],\"yaxis\":\"y2\",\"type\":\"histogram\"},{\"hovertemplate\":\"<b>%{hovertext}</b><br><br>test=0004<br>rawF1=%{x}<br>eventF1=%{y}<extra></extra>\",\"hovertext\":[\"8bcbbc8b-b83e-4b97-8f7c-0dd0760680e7\"],\"legendgroup\":\"0004\",\"marker\":{\"color\":\"#00cc96\",\"symbol\":\"circle\"},\"mode\":\"markers\",\"name\":\"0004\",\"orientation\":\"v\",\"showlegend\":true,\"x\":[0.7034290620665637],\"xaxis\":\"x\",\"y\":[0.7883211678832117],\"yaxis\":\"y\",\"type\":\"scatter\"},{\"alignmentgroup\":\"True\",\"bingroup\":\"y\",\"hovertemplate\":\"test=0004<br>eventF1=%{y}<br>count=%{x}<extra></extra>\",\"legendgroup\":\"0004\",\"marker\":{\"color\":\"#00cc96\"},\"name\":\"0004\",\"offsetgroup\":\"0004\",\"opacity\":0.5,\"showlegend\":false,\"xaxis\":\"x2\",\"y\":[0.7883211678832117],\"yaxis\":\"y2\",\"type\":\"histogram\"},{\"hovertemplate\":\"<b>%{hovertext}</b><br><br>test=0005<br>rawF1=%{x}<br>eventF1=%{y}<extra></extra>\",\"hovertext\":[\"f88ed731-de3a-4c9a-90d5-04d1fcd93d45\"],\"legendgroup\":\"0005\",\"marker\":{\"color\":\"#ab63fa\",\"symbol\":\"circle\"},\"mode\":\"markers\",\"name\":\"0005\",\"orientation\":\"v\",\"showlegend\":true,\"x\":[0.665975287752359],\"xaxis\":\"x\",\"y\":[0.7094430992736077],\"yaxis\":\"y\",\"type\":\"scatter\"},{\"alignmentgroup\":\"True\",\"bingroup\":\"y\",\"hovertemplate\":\"test=0005<br>eventF1=%{y}<br>count=%{x}<extra></extra>\",\"legendgroup\":\"0005\",\"marker\":{\"color\":\"#ab63fa\"},\"name\":\"0005\",\"offsetgroup\":\"0005\",\"opacity\":0.5,\"showlegend\":false,\"xaxis\":\"x2\",\"y\":[0.7094430992736077],\"yaxis\":\"y2\",\"type\":\"histogram\"},{\"hovertemplate\":\"<b>%{hovertext}</b><br><br>test=0006<br>rawF1=%{x}<br>eventF1=%{y}<extra></extra>\",\"hovertext\":[\"16a691da-d735-4ad2-953c-db2678980107\"],\"legendgroup\":\"0006\",\"marker\":{\"color\":\"#FFA15A\",\"symbol\":\"circle\"},\"mode\":\"markers\",\"name\":\"0006\",\"orientation\":\"v\",\"showlegend\":true,\"x\":[0.6327629564837087],\"xaxis\":\"x\",\"y\":[0.7123893805309734],\"yaxis\":\"y\",\"type\":\"scatter\"},{\"alignmentgroup\":\"True\",\"bingroup\":\"y\",\"hovertemplate\":\"test=0006<br>eventF1=%{y}<br>count=%{x}<extra></extra>\",\"legendgroup\":\"0006\",\"marker\":{\"color\":\"#FFA15A\"},\"name\":\"0006\",\"offsetgroup\":\"0006\",\"opacity\":0.5,\"showlegend\":false,\"xaxis\":\"x2\",\"y\":[0.7123893805309734],\"yaxis\":\"y2\",\"type\":\"histogram\"},{\"hovertemplate\":\"<b>%{hovertext}</b><br><br>test=0007<br>rawF1=%{x}<br>eventF1=%{y}<extra></extra>\",\"hovertext\":[\"d91f41ff-0308-46df-9bcd-67d46f377777\"],\"legendgroup\":\"0007\",\"marker\":{\"color\":\"#19d3f3\",\"symbol\":\"circle\"},\"mode\":\"markers\",\"name\":\"0007\",\"orientation\":\"v\",\"showlegend\":true,\"x\":[0.6202577752871953],\"xaxis\":\"x\",\"y\":[0.7090694935217904],\"yaxis\":\"y\",\"type\":\"scatter\"},{\"alignmentgroup\":\"True\",\"bingroup\":\"y\",\"hovertemplate\":\"test=0007<br>eventF1=%{y}<br>count=%{x}<extra></extra>\",\"legendgroup\":\"0007\",\"marker\":{\"color\":\"#19d3f3\"},\"name\":\"0007\",\"offsetgroup\":\"0007\",\"opacity\":0.5,\"showlegend\":false,\"xaxis\":\"x2\",\"y\":[0.7090694935217904],\"yaxis\":\"y2\",\"type\":\"histogram\"},{\"hovertemplate\":\"<b>%{hovertext}</b><br><br>test=0008<br>rawF1=%{x}<br>eventF1=%{y}<extra></extra>\",\"hovertext\":[\"a1eacac2-9e31-437a-9350-110d2ef2f1a5\"],\"legendgroup\":\"0008\",\"marker\":{\"color\":\"#FF6692\",\"symbol\":\"circle\"},\"mode\":\"markers\",\"name\":\"0008\",\"orientation\":\"v\",\"showlegend\":true,\"x\":[0.4838393731635651],\"xaxis\":\"x\",\"y\":[0.5128205128205128],\"yaxis\":\"y\",\"type\":\"scatter\"},{\"alignmentgroup\":\"True\",\"bingroup\":\"y\",\"hovertemplate\":\"test=0008<br>eventF1=%{y}<br>count=%{x}<extra></extra>\",\"legendgroup\":\"0008\",\"marker\":{\"color\":\"#FF6692\"},\"name\":\"0008\",\"offsetgroup\":\"0008\",\"opacity\":0.5,\"showlegend\":false,\"xaxis\":\"x2\",\"y\":[0.5128205128205128],\"yaxis\":\"y2\",\"type\":\"histogram\"},{\"fill\":\"toself\",\"mode\":\"lines\",\"name\":\"identity\",\"x\":[0.624038948205635,0.7821341762179715,0.7034290620665637,0.665975287752359,0.6327629564837087,0.6202577752871953,0.4838393731635651],\"y\":[0.624038948205635,0.7821341762179715,0.7034290620665637,0.665975287752359,0.6327629564837087,0.6202577752871953,0.4838393731635651],\"type\":\"scatter\"}],                        {\"template\":{\"data\":{\"histogram2dcontour\":[{\"type\":\"histogram2dcontour\",\"colorbar\":{\"outlinewidth\":0,\"ticks\":\"\"},\"colorscale\":[[0.0,\"#0d0887\"],[0.1111111111111111,\"#46039f\"],[0.2222222222222222,\"#7201a8\"],[0.3333333333333333,\"#9c179e\"],[0.4444444444444444,\"#bd3786\"],[0.5555555555555556,\"#d8576b\"],[0.6666666666666666,\"#ed7953\"],[0.7777777777777778,\"#fb9f3a\"],[0.8888888888888888,\"#fdca26\"],[1.0,\"#f0f921\"]]}],\"choropleth\":[{\"type\":\"choropleth\",\"colorbar\":{\"outlinewidth\":0,\"ticks\":\"\"}}],\"histogram2d\":[{\"type\":\"histogram2d\",\"colorbar\":{\"outlinewidth\":0,\"ticks\":\"\"},\"colorscale\":[[0.0,\"#0d0887\"],[0.1111111111111111,\"#46039f\"],[0.2222222222222222,\"#7201a8\"],[0.3333333333333333,\"#9c179e\"],[0.4444444444444444,\"#bd3786\"],[0.5555555555555556,\"#d8576b\"],[0.6666666666666666,\"#ed7953\"],[0.7777777777777778,\"#fb9f3a\"],[0.8888888888888888,\"#fdca26\"],[1.0,\"#f0f921\"]]}],\"heatmap\":[{\"type\":\"heatmap\",\"colorbar\":{\"outlinewidth\":0,\"ticks\":\"\"},\"colorscale\":[[0.0,\"#0d0887\"],[0.1111111111111111,\"#46039f\"],[0.2222222222222222,\"#7201a8\"],[0.3333333333333333,\"#9c179e\"],[0.4444444444444444,\"#bd3786\"],[0.5555555555555556,\"#d8576b\"],[0.6666666666666666,\"#ed7953\"],[0.7777777777777778,\"#fb9f3a\"],[0.8888888888888888,\"#fdca26\"],[1.0,\"#f0f921\"]]}],\"heatmapgl\":[{\"type\":\"heatmapgl\",\"colorbar\":{\"outlinewidth\":0,\"ticks\":\"\"},\"colorscale\":[[0.0,\"#0d0887\"],[0.1111111111111111,\"#46039f\"],[0.2222222222222222,\"#7201a8\"],[0.3333333333333333,\"#9c179e\"],[0.4444444444444444,\"#bd3786\"],[0.5555555555555556,\"#d8576b\"],[0.6666666666666666,\"#ed7953\"],[0.7777777777777778,\"#fb9f3a\"],[0.8888888888888888,\"#fdca26\"],[1.0,\"#f0f921\"]]}],\"contourcarpet\":[{\"type\":\"contourcarpet\",\"colorbar\":{\"outlinewidth\":0,\"ticks\":\"\"}}],\"contour\":[{\"type\":\"contour\",\"colorbar\":{\"outlinewidth\":0,\"ticks\":\"\"},\"colorscale\":[[0.0,\"#0d0887\"],[0.1111111111111111,\"#46039f\"],[0.2222222222222222,\"#7201a8\"],[0.3333333333333333,\"#9c179e\"],[0.4444444444444444,\"#bd3786\"],[0.5555555555555556,\"#d8576b\"],[0.6666666666666666,\"#ed7953\"],[0.7777777777777778,\"#fb9f3a\"],[0.8888888888888888,\"#fdca26\"],[1.0,\"#f0f921\"]]}],\"surface\":[{\"type\":\"surface\",\"colorbar\":{\"outlinewidth\":0,\"ticks\":\"\"},\"colorscale\":[[0.0,\"#0d0887\"],[0.1111111111111111,\"#46039f\"],[0.2222222222222222,\"#7201a8\"],[0.3333333333333333,\"#9c179e\"],[0.4444444444444444,\"#bd3786\"],[0.5555555555555556,\"#d8576b\"],[0.6666666666666666,\"#ed7953\"],[0.7777777777777778,\"#fb9f3a\"],[0.8888888888888888,\"#fdca26\"],[1.0,\"#f0f921\"]]}],\"mesh3d\":[{\"type\":\"mesh3d\",\"colorbar\":{\"outlinewidth\":0,\"ticks\":\"\"}}],\"scatter\":[{\"marker\":{\"line\":{\"color\":\"#283442\"}},\"type\":\"scatter\"}],\"parcoords\":[{\"type\":\"parcoords\",\"line\":{\"colorbar\":{\"outlinewidth\":0,\"ticks\":\"\"}}}],\"scatterpolargl\":[{\"type\":\"scatterpolargl\",\"marker\":{\"colorbar\":{\"outlinewidth\":0,\"ticks\":\"\"}}}],\"bar\":[{\"error_x\":{\"color\":\"#f2f5fa\"},\"error_y\":{\"color\":\"#f2f5fa\"},\"marker\":{\"line\":{\"color\":\"rgb(17,17,17)\",\"width\":0.5},\"pattern\":{\"fillmode\":\"overlay\",\"size\":10,\"solidity\":0.2}},\"type\":\"bar\"}],\"scattergeo\":[{\"type\":\"scattergeo\",\"marker\":{\"colorbar\":{\"outlinewidth\":0,\"ticks\":\"\"}}}],\"scatterpolar\":[{\"type\":\"scatterpolar\",\"marker\":{\"colorbar\":{\"outlinewidth\":0,\"ticks\":\"\"}}}],\"histogram\":[{\"marker\":{\"pattern\":{\"fillmode\":\"overlay\",\"size\":10,\"solidity\":0.2}},\"type\":\"histogram\"}],\"scattergl\":[{\"marker\":{\"line\":{\"color\":\"#283442\"}},\"type\":\"scattergl\"}],\"scatter3d\":[{\"type\":\"scatter3d\",\"line\":{\"colorbar\":{\"outlinewidth\":0,\"ticks\":\"\"}},\"marker\":{\"colorbar\":{\"outlinewidth\":0,\"ticks\":\"\"}}}],\"scattermapbox\":[{\"type\":\"scattermapbox\",\"marker\":{\"colorbar\":{\"outlinewidth\":0,\"ticks\":\"\"}}}],\"scatterternary\":[{\"type\":\"scatterternary\",\"marker\":{\"colorbar\":{\"outlinewidth\":0,\"ticks\":\"\"}}}],\"scattercarpet\":[{\"type\":\"scattercarpet\",\"marker\":{\"colorbar\":{\"outlinewidth\":0,\"ticks\":\"\"}}}],\"carpet\":[{\"aaxis\":{\"endlinecolor\":\"#A2B1C6\",\"gridcolor\":\"#506784\",\"linecolor\":\"#506784\",\"minorgridcolor\":\"#506784\",\"startlinecolor\":\"#A2B1C6\"},\"baxis\":{\"endlinecolor\":\"#A2B1C6\",\"gridcolor\":\"#506784\",\"linecolor\":\"#506784\",\"minorgridcolor\":\"#506784\",\"startlinecolor\":\"#A2B1C6\"},\"type\":\"carpet\"}],\"table\":[{\"cells\":{\"fill\":{\"color\":\"#506784\"},\"line\":{\"color\":\"rgb(17,17,17)\"}},\"header\":{\"fill\":{\"color\":\"#2a3f5f\"},\"line\":{\"color\":\"rgb(17,17,17)\"}},\"type\":\"table\"}],\"barpolar\":[{\"marker\":{\"line\":{\"color\":\"rgb(17,17,17)\",\"width\":0.5},\"pattern\":{\"fillmode\":\"overlay\",\"size\":10,\"solidity\":0.2}},\"type\":\"barpolar\"}],\"pie\":[{\"automargin\":true,\"type\":\"pie\"}]},\"layout\":{\"autotypenumbers\":\"strict\",\"colorway\":[\"#636efa\",\"#EF553B\",\"#00cc96\",\"#ab63fa\",\"#FFA15A\",\"#19d3f3\",\"#FF6692\",\"#B6E880\",\"#FF97FF\",\"#FECB52\"],\"font\":{\"color\":\"#f2f5fa\"},\"hovermode\":\"closest\",\"hoverlabel\":{\"align\":\"left\"},\"paper_bgcolor\":\"rgb(17,17,17)\",\"plot_bgcolor\":\"rgb(17,17,17)\",\"polar\":{\"bgcolor\":\"rgb(17,17,17)\",\"angularaxis\":{\"gridcolor\":\"#506784\",\"linecolor\":\"#506784\",\"ticks\":\"\"},\"radialaxis\":{\"gridcolor\":\"#506784\",\"linecolor\":\"#506784\",\"ticks\":\"\"}},\"ternary\":{\"bgcolor\":\"rgb(17,17,17)\",\"aaxis\":{\"gridcolor\":\"#506784\",\"linecolor\":\"#506784\",\"ticks\":\"\"},\"baxis\":{\"gridcolor\":\"#506784\",\"linecolor\":\"#506784\",\"ticks\":\"\"},\"caxis\":{\"gridcolor\":\"#506784\",\"linecolor\":\"#506784\",\"ticks\":\"\"}},\"coloraxis\":{\"colorbar\":{\"outlinewidth\":0,\"ticks\":\"\"}},\"colorscale\":{\"sequential\":[[0.0,\"#0d0887\"],[0.1111111111111111,\"#46039f\"],[0.2222222222222222,\"#7201a8\"],[0.3333333333333333,\"#9c179e\"],[0.4444444444444444,\"#bd3786\"],[0.5555555555555556,\"#d8576b\"],[0.6666666666666666,\"#ed7953\"],[0.7777777777777778,\"#fb9f3a\"],[0.8888888888888888,\"#fdca26\"],[1.0,\"#f0f921\"]],\"sequentialminus\":[[0.0,\"#0d0887\"],[0.1111111111111111,\"#46039f\"],[0.2222222222222222,\"#7201a8\"],[0.3333333333333333,\"#9c179e\"],[0.4444444444444444,\"#bd3786\"],[0.5555555555555556,\"#d8576b\"],[0.6666666666666666,\"#ed7953\"],[0.7777777777777778,\"#fb9f3a\"],[0.8888888888888888,\"#fdca26\"],[1.0,\"#f0f921\"]],\"diverging\":[[0,\"#8e0152\"],[0.1,\"#c51b7d\"],[0.2,\"#de77ae\"],[0.3,\"#f1b6da\"],[0.4,\"#fde0ef\"],[0.5,\"#f7f7f7\"],[0.6,\"#e6f5d0\"],[0.7,\"#b8e186\"],[0.8,\"#7fbc41\"],[0.9,\"#4d9221\"],[1,\"#276419\"]]},\"xaxis\":{\"gridcolor\":\"#283442\",\"linecolor\":\"#506784\",\"ticks\":\"\",\"title\":{\"standoff\":15},\"zerolinecolor\":\"#283442\",\"automargin\":true,\"zerolinewidth\":2},\"yaxis\":{\"gridcolor\":\"#283442\",\"linecolor\":\"#506784\",\"ticks\":\"\",\"title\":{\"standoff\":15},\"zerolinecolor\":\"#283442\",\"automargin\":true,\"zerolinewidth\":2},\"scene\":{\"xaxis\":{\"backgroundcolor\":\"rgb(17,17,17)\",\"gridcolor\":\"#506784\",\"linecolor\":\"#506784\",\"showbackground\":true,\"ticks\":\"\",\"zerolinecolor\":\"#C8D4E3\",\"gridwidth\":2},\"yaxis\":{\"backgroundcolor\":\"rgb(17,17,17)\",\"gridcolor\":\"#506784\",\"linecolor\":\"#506784\",\"showbackground\":true,\"ticks\":\"\",\"zerolinecolor\":\"#C8D4E3\",\"gridwidth\":2},\"zaxis\":{\"backgroundcolor\":\"rgb(17,17,17)\",\"gridcolor\":\"#506784\",\"linecolor\":\"#506784\",\"showbackground\":true,\"ticks\":\"\",\"zerolinecolor\":\"#C8D4E3\",\"gridwidth\":2}},\"shapedefaults\":{\"line\":{\"color\":\"#f2f5fa\"}},\"annotationdefaults\":{\"arrowcolor\":\"#f2f5fa\",\"arrowhead\":0,\"arrowwidth\":1},\"geo\":{\"bgcolor\":\"rgb(17,17,17)\",\"landcolor\":\"rgb(17,17,17)\",\"subunitcolor\":\"#506784\",\"showland\":true,\"showlakes\":true,\"lakecolor\":\"rgb(17,17,17)\"},\"title\":{\"x\":0.05},\"updatemenudefaults\":{\"bgcolor\":\"#506784\",\"borderwidth\":0},\"sliderdefaults\":{\"bgcolor\":\"#C8D4E3\",\"borderwidth\":1,\"bordercolor\":\"rgb(17,17,17)\",\"tickwidth\":0},\"mapbox\":{\"style\":\"dark\"}}},\"xaxis\":{\"anchor\":\"y\",\"domain\":[0.0,0.7363],\"title\":{\"text\":\"rawF1\"}},\"yaxis\":{\"anchor\":\"x\",\"domain\":[0.0,1.0],\"title\":{\"text\":\"eventF1\"}},\"xaxis2\":{\"anchor\":\"y2\",\"domain\":[0.7413,1.0],\"matches\":\"x2\",\"showticklabels\":false,\"showline\":false,\"ticks\":\"\",\"showgrid\":true},\"yaxis2\":{\"anchor\":\"x2\",\"domain\":[0.0,1.0],\"matches\":\"y\",\"showticklabels\":false,\"showgrid\":true},\"legend\":{\"title\":{\"text\":\"test\"},\"tracegroupgap\":0},\"margin\":{\"t\":60},\"barmode\":\"overlay\"},                        {\"responsive\": true}                    ).then(function(){\n",
       "                            \n",
       "var gd = document.getElementById('42d0903e-e02a-47b9-87e6-b1d9e811c653');\n",
       "var x = new MutationObserver(function (mutations, observer) {{\n",
       "        var display = window.getComputedStyle(gd).display;\n",
       "        if (!display || display === 'none') {{\n",
       "            console.log([gd, 'removed!']);\n",
       "            Plotly.purge(gd);\n",
       "            observer.disconnect();\n",
       "        }}\n",
       "}});\n",
       "\n",
       "// Listen for the removal of the full notebook cells\n",
       "var notebookContainer = gd.closest('#notebook-container');\n",
       "if (notebookContainer) {{\n",
       "    x.observe(notebookContainer, {childList: true});\n",
       "}}\n",
       "\n",
       "// Listen for the clearing of the current output cell\n",
       "var outputEl = gd.closest('.output');\n",
       "if (outputEl) {{\n",
       "    x.observe(outputEl, {childList: true});\n",
       "}}\n",
       "\n",
       "                        })                };                });            </script>        </div>"
      ]
     },
     "metadata": {},
     "output_type": "display_data"
    }
   ],
   "execution_count": 57
  },
  {
   "metadata": {},
   "cell_type": "markdown",
   "source": "## Restrict to only N2 stage\n"
  },
  {
   "metadata": {
    "ExecuteTime": {
     "end_time": "2025-01-13T12:37:09.849222Z",
     "start_time": "2025-01-13T12:37:09.834405Z"
    }
   },
   "cell_type": "code",
   "source": "dumpPickle('experimentModelsTest_ValidationperModel_Testing_N2_E1_IoU-0.2_temp_oldF1.pkl',experimentModels_N2)",
   "outputs": [],
   "execution_count": 58
  },
  {
   "metadata": {
    "ExecuteTime": {
     "end_time": "2025-01-13T12:37:09.960100Z",
     "start_time": "2025-01-13T12:37:09.913760Z"
    }
   },
   "cell_type": "code",
   "source": [
    "fig=px.scatter(experimentModels_N2,x='rawF1',y='f1',color='test',hover_name='modelId', marginal_y=\"histogram\")\n",
    "fig.add_trace(\n",
    "    go.Scatter(x=experimentModels_N2['rawF1'], y=experimentModels_N2['rawF1'], name=\"identity\", mode='lines',fill=\"toself\")\n",
    ")\n",
    "fig.show()"
   ],
   "outputs": [
    {
     "data": {
      "application/vnd.plotly.v1+json": {
       "data": [
        {
         "hovertemplate": "<b>%{hovertext}</b><br><br>test=0002<br>rawF1=%{x}<br>f1=%{y}<extra></extra>",
         "hovertext": [
          "a4659423-83e4-4da3-91b5-177fa8bc17fe"
         ],
         "legendgroup": "0002",
         "marker": {
          "color": "#636efa",
          "symbol": "circle"
         },
         "mode": "markers",
         "name": "0002",
         "orientation": "v",
         "showlegend": true,
         "x": [
          0.6470938474624327
         ],
         "xaxis": "x",
         "y": [
          0.6485753436268347
         ],
         "yaxis": "y",
         "type": "scatter"
        },
        {
         "alignmentgroup": "True",
         "bingroup": "y",
         "hovertemplate": "test=0002<br>f1=%{y}<br>count=%{x}<extra></extra>",
         "legendgroup": "0002",
         "marker": {
          "color": "#636efa"
         },
         "name": "0002",
         "offsetgroup": "0002",
         "opacity": 0.5,
         "showlegend": false,
         "xaxis": "x2",
         "y": [
          0.6485753436268347
         ],
         "yaxis": "y2",
         "type": "histogram"
        },
        {
         "hovertemplate": "<b>%{hovertext}</b><br><br>test=0003<br>rawF1=%{x}<br>f1=%{y}<extra></extra>",
         "hovertext": [
          "ad3be387-5be4-4e8e-b57d-072003b617d3"
         ],
         "legendgroup": "0003",
         "marker": {
          "color": "#EF553B",
          "symbol": "circle"
         },
         "mode": "markers",
         "name": "0003",
         "orientation": "v",
         "showlegend": true,
         "x": [
          0.7891552980563936
         ],
         "xaxis": "x",
         "y": [
          0.7911074684970802
         ],
         "yaxis": "y",
         "type": "scatter"
        },
        {
         "alignmentgroup": "True",
         "bingroup": "y",
         "hovertemplate": "test=0003<br>f1=%{y}<br>count=%{x}<extra></extra>",
         "legendgroup": "0003",
         "marker": {
          "color": "#EF553B"
         },
         "name": "0003",
         "offsetgroup": "0003",
         "opacity": 0.5,
         "showlegend": false,
         "xaxis": "x2",
         "y": [
          0.7911074684970802
         ],
         "yaxis": "y2",
         "type": "histogram"
        },
        {
         "hovertemplate": "<b>%{hovertext}</b><br><br>test=0004<br>rawF1=%{x}<br>f1=%{y}<extra></extra>",
         "hovertext": [
          "8bcbbc8b-b83e-4b97-8f7c-0dd0760680e7"
         ],
         "legendgroup": "0004",
         "marker": {
          "color": "#00cc96",
          "symbol": "circle"
         },
         "mode": "markers",
         "name": "0004",
         "orientation": "v",
         "showlegend": true,
         "x": [
          0.7159573856192443
         ],
         "xaxis": "x",
         "y": [
          0.7259442819369755
         ],
         "yaxis": "y",
         "type": "scatter"
        },
        {
         "alignmentgroup": "True",
         "bingroup": "y",
         "hovertemplate": "test=0004<br>f1=%{y}<br>count=%{x}<extra></extra>",
         "legendgroup": "0004",
         "marker": {
          "color": "#00cc96"
         },
         "name": "0004",
         "offsetgroup": "0004",
         "opacity": 0.5,
         "showlegend": false,
         "xaxis": "x2",
         "y": [
          0.7259442819369755
         ],
         "yaxis": "y2",
         "type": "histogram"
        },
        {
         "hovertemplate": "<b>%{hovertext}</b><br><br>test=0005<br>rawF1=%{x}<br>f1=%{y}<extra></extra>",
         "hovertext": [
          "f88ed731-de3a-4c9a-90d5-04d1fcd93d45"
         ],
         "legendgroup": "0005",
         "marker": {
          "color": "#ab63fa",
          "symbol": "circle"
         },
         "mode": "markers",
         "name": "0005",
         "orientation": "v",
         "showlegend": true,
         "x": [
          0.6644760300070613
         ],
         "xaxis": "x",
         "y": [
          0.6712968473230602
         ],
         "yaxis": "y",
         "type": "scatter"
        },
        {
         "alignmentgroup": "True",
         "bingroup": "y",
         "hovertemplate": "test=0005<br>f1=%{y}<br>count=%{x}<extra></extra>",
         "legendgroup": "0005",
         "marker": {
          "color": "#ab63fa"
         },
         "name": "0005",
         "offsetgroup": "0005",
         "opacity": 0.5,
         "showlegend": false,
         "xaxis": "x2",
         "y": [
          0.6712968473230602
         ],
         "yaxis": "y2",
         "type": "histogram"
        },
        {
         "hovertemplate": "<b>%{hovertext}</b><br><br>test=0006<br>rawF1=%{x}<br>f1=%{y}<extra></extra>",
         "hovertext": [
          "16a691da-d735-4ad2-953c-db2678980107"
         ],
         "legendgroup": "0006",
         "marker": {
          "color": "#FFA15A",
          "symbol": "circle"
         },
         "mode": "markers",
         "name": "0006",
         "orientation": "v",
         "showlegend": true,
         "x": [
          0.6348426071248778
         ],
         "xaxis": "x",
         "y": [
          0.6497635272963539
         ],
         "yaxis": "y",
         "type": "scatter"
        },
        {
         "alignmentgroup": "True",
         "bingroup": "y",
         "hovertemplate": "test=0006<br>f1=%{y}<br>count=%{x}<extra></extra>",
         "legendgroup": "0006",
         "marker": {
          "color": "#FFA15A"
         },
         "name": "0006",
         "offsetgroup": "0006",
         "opacity": 0.5,
         "showlegend": false,
         "xaxis": "x2",
         "y": [
          0.6497635272963539
         ],
         "yaxis": "y2",
         "type": "histogram"
        },
        {
         "hovertemplate": "<b>%{hovertext}</b><br><br>test=0007<br>rawF1=%{x}<br>f1=%{y}<extra></extra>",
         "hovertext": [
          "d91f41ff-0308-46df-9bcd-67d46f377777"
         ],
         "legendgroup": "0007",
         "marker": {
          "color": "#19d3f3",
          "symbol": "circle"
         },
         "mode": "markers",
         "name": "0007",
         "orientation": "v",
         "showlegend": true,
         "x": [
          0.633353165677468
         ],
         "xaxis": "x",
         "y": [
          0.6431725766254208
         ],
         "yaxis": "y",
         "type": "scatter"
        },
        {
         "alignmentgroup": "True",
         "bingroup": "y",
         "hovertemplate": "test=0007<br>f1=%{y}<br>count=%{x}<extra></extra>",
         "legendgroup": "0007",
         "marker": {
          "color": "#19d3f3"
         },
         "name": "0007",
         "offsetgroup": "0007",
         "opacity": 0.5,
         "showlegend": false,
         "xaxis": "x2",
         "y": [
          0.6431725766254208
         ],
         "yaxis": "y2",
         "type": "histogram"
        },
        {
         "hovertemplate": "<b>%{hovertext}</b><br><br>test=0008<br>rawF1=%{x}<br>f1=%{y}<extra></extra>",
         "hovertext": [
          "a1eacac2-9e31-437a-9350-110d2ef2f1a5"
         ],
         "legendgroup": "0008",
         "marker": {
          "color": "#FF6692",
          "symbol": "circle"
         },
         "mode": "markers",
         "name": "0008",
         "orientation": "v",
         "showlegend": true,
         "x": [
          0.5061043285238623
         ],
         "xaxis": "x",
         "y": [
          0.5069800318077399
         ],
         "yaxis": "y",
         "type": "scatter"
        },
        {
         "alignmentgroup": "True",
         "bingroup": "y",
         "hovertemplate": "test=0008<br>f1=%{y}<br>count=%{x}<extra></extra>",
         "legendgroup": "0008",
         "marker": {
          "color": "#FF6692"
         },
         "name": "0008",
         "offsetgroup": "0008",
         "opacity": 0.5,
         "showlegend": false,
         "xaxis": "x2",
         "y": [
          0.5069800318077399
         ],
         "yaxis": "y2",
         "type": "histogram"
        },
        {
         "fill": "toself",
         "mode": "lines",
         "name": "identity",
         "x": [
          0.6470938474624327,
          0.7891552980563936,
          0.7159573856192443,
          0.6644760300070613,
          0.6348426071248778,
          0.633353165677468,
          0.5061043285238623
         ],
         "y": [
          0.6470938474624327,
          0.7891552980563936,
          0.7159573856192443,
          0.6644760300070613,
          0.6348426071248778,
          0.633353165677468,
          0.5061043285238623
         ],
         "type": "scatter"
        }
       ],
       "layout": {
        "template": {
         "data": {
          "histogram2dcontour": [
           {
            "type": "histogram2dcontour",
            "colorbar": {
             "outlinewidth": 0,
             "ticks": ""
            },
            "colorscale": [
             [
              0.0,
              "#0d0887"
             ],
             [
              0.1111111111111111,
              "#46039f"
             ],
             [
              0.2222222222222222,
              "#7201a8"
             ],
             [
              0.3333333333333333,
              "#9c179e"
             ],
             [
              0.4444444444444444,
              "#bd3786"
             ],
             [
              0.5555555555555556,
              "#d8576b"
             ],
             [
              0.6666666666666666,
              "#ed7953"
             ],
             [
              0.7777777777777778,
              "#fb9f3a"
             ],
             [
              0.8888888888888888,
              "#fdca26"
             ],
             [
              1.0,
              "#f0f921"
             ]
            ]
           }
          ],
          "choropleth": [
           {
            "type": "choropleth",
            "colorbar": {
             "outlinewidth": 0,
             "ticks": ""
            }
           }
          ],
          "histogram2d": [
           {
            "type": "histogram2d",
            "colorbar": {
             "outlinewidth": 0,
             "ticks": ""
            },
            "colorscale": [
             [
              0.0,
              "#0d0887"
             ],
             [
              0.1111111111111111,
              "#46039f"
             ],
             [
              0.2222222222222222,
              "#7201a8"
             ],
             [
              0.3333333333333333,
              "#9c179e"
             ],
             [
              0.4444444444444444,
              "#bd3786"
             ],
             [
              0.5555555555555556,
              "#d8576b"
             ],
             [
              0.6666666666666666,
              "#ed7953"
             ],
             [
              0.7777777777777778,
              "#fb9f3a"
             ],
             [
              0.8888888888888888,
              "#fdca26"
             ],
             [
              1.0,
              "#f0f921"
             ]
            ]
           }
          ],
          "heatmap": [
           {
            "type": "heatmap",
            "colorbar": {
             "outlinewidth": 0,
             "ticks": ""
            },
            "colorscale": [
             [
              0.0,
              "#0d0887"
             ],
             [
              0.1111111111111111,
              "#46039f"
             ],
             [
              0.2222222222222222,
              "#7201a8"
             ],
             [
              0.3333333333333333,
              "#9c179e"
             ],
             [
              0.4444444444444444,
              "#bd3786"
             ],
             [
              0.5555555555555556,
              "#d8576b"
             ],
             [
              0.6666666666666666,
              "#ed7953"
             ],
             [
              0.7777777777777778,
              "#fb9f3a"
             ],
             [
              0.8888888888888888,
              "#fdca26"
             ],
             [
              1.0,
              "#f0f921"
             ]
            ]
           }
          ],
          "heatmapgl": [
           {
            "type": "heatmapgl",
            "colorbar": {
             "outlinewidth": 0,
             "ticks": ""
            },
            "colorscale": [
             [
              0.0,
              "#0d0887"
             ],
             [
              0.1111111111111111,
              "#46039f"
             ],
             [
              0.2222222222222222,
              "#7201a8"
             ],
             [
              0.3333333333333333,
              "#9c179e"
             ],
             [
              0.4444444444444444,
              "#bd3786"
             ],
             [
              0.5555555555555556,
              "#d8576b"
             ],
             [
              0.6666666666666666,
              "#ed7953"
             ],
             [
              0.7777777777777778,
              "#fb9f3a"
             ],
             [
              0.8888888888888888,
              "#fdca26"
             ],
             [
              1.0,
              "#f0f921"
             ]
            ]
           }
          ],
          "contourcarpet": [
           {
            "type": "contourcarpet",
            "colorbar": {
             "outlinewidth": 0,
             "ticks": ""
            }
           }
          ],
          "contour": [
           {
            "type": "contour",
            "colorbar": {
             "outlinewidth": 0,
             "ticks": ""
            },
            "colorscale": [
             [
              0.0,
              "#0d0887"
             ],
             [
              0.1111111111111111,
              "#46039f"
             ],
             [
              0.2222222222222222,
              "#7201a8"
             ],
             [
              0.3333333333333333,
              "#9c179e"
             ],
             [
              0.4444444444444444,
              "#bd3786"
             ],
             [
              0.5555555555555556,
              "#d8576b"
             ],
             [
              0.6666666666666666,
              "#ed7953"
             ],
             [
              0.7777777777777778,
              "#fb9f3a"
             ],
             [
              0.8888888888888888,
              "#fdca26"
             ],
             [
              1.0,
              "#f0f921"
             ]
            ]
           }
          ],
          "surface": [
           {
            "type": "surface",
            "colorbar": {
             "outlinewidth": 0,
             "ticks": ""
            },
            "colorscale": [
             [
              0.0,
              "#0d0887"
             ],
             [
              0.1111111111111111,
              "#46039f"
             ],
             [
              0.2222222222222222,
              "#7201a8"
             ],
             [
              0.3333333333333333,
              "#9c179e"
             ],
             [
              0.4444444444444444,
              "#bd3786"
             ],
             [
              0.5555555555555556,
              "#d8576b"
             ],
             [
              0.6666666666666666,
              "#ed7953"
             ],
             [
              0.7777777777777778,
              "#fb9f3a"
             ],
             [
              0.8888888888888888,
              "#fdca26"
             ],
             [
              1.0,
              "#f0f921"
             ]
            ]
           }
          ],
          "mesh3d": [
           {
            "type": "mesh3d",
            "colorbar": {
             "outlinewidth": 0,
             "ticks": ""
            }
           }
          ],
          "scatter": [
           {
            "marker": {
             "line": {
              "color": "#283442"
             }
            },
            "type": "scatter"
           }
          ],
          "parcoords": [
           {
            "type": "parcoords",
            "line": {
             "colorbar": {
              "outlinewidth": 0,
              "ticks": ""
             }
            }
           }
          ],
          "scatterpolargl": [
           {
            "type": "scatterpolargl",
            "marker": {
             "colorbar": {
              "outlinewidth": 0,
              "ticks": ""
             }
            }
           }
          ],
          "bar": [
           {
            "error_x": {
             "color": "#f2f5fa"
            },
            "error_y": {
             "color": "#f2f5fa"
            },
            "marker": {
             "line": {
              "color": "rgb(17,17,17)",
              "width": 0.5
             },
             "pattern": {
              "fillmode": "overlay",
              "size": 10,
              "solidity": 0.2
             }
            },
            "type": "bar"
           }
          ],
          "scattergeo": [
           {
            "type": "scattergeo",
            "marker": {
             "colorbar": {
              "outlinewidth": 0,
              "ticks": ""
             }
            }
           }
          ],
          "scatterpolar": [
           {
            "type": "scatterpolar",
            "marker": {
             "colorbar": {
              "outlinewidth": 0,
              "ticks": ""
             }
            }
           }
          ],
          "histogram": [
           {
            "marker": {
             "pattern": {
              "fillmode": "overlay",
              "size": 10,
              "solidity": 0.2
             }
            },
            "type": "histogram"
           }
          ],
          "scattergl": [
           {
            "marker": {
             "line": {
              "color": "#283442"
             }
            },
            "type": "scattergl"
           }
          ],
          "scatter3d": [
           {
            "type": "scatter3d",
            "line": {
             "colorbar": {
              "outlinewidth": 0,
              "ticks": ""
             }
            },
            "marker": {
             "colorbar": {
              "outlinewidth": 0,
              "ticks": ""
             }
            }
           }
          ],
          "scattermapbox": [
           {
            "type": "scattermapbox",
            "marker": {
             "colorbar": {
              "outlinewidth": 0,
              "ticks": ""
             }
            }
           }
          ],
          "scatterternary": [
           {
            "type": "scatterternary",
            "marker": {
             "colorbar": {
              "outlinewidth": 0,
              "ticks": ""
             }
            }
           }
          ],
          "scattercarpet": [
           {
            "type": "scattercarpet",
            "marker": {
             "colorbar": {
              "outlinewidth": 0,
              "ticks": ""
             }
            }
           }
          ],
          "carpet": [
           {
            "aaxis": {
             "endlinecolor": "#A2B1C6",
             "gridcolor": "#506784",
             "linecolor": "#506784",
             "minorgridcolor": "#506784",
             "startlinecolor": "#A2B1C6"
            },
            "baxis": {
             "endlinecolor": "#A2B1C6",
             "gridcolor": "#506784",
             "linecolor": "#506784",
             "minorgridcolor": "#506784",
             "startlinecolor": "#A2B1C6"
            },
            "type": "carpet"
           }
          ],
          "table": [
           {
            "cells": {
             "fill": {
              "color": "#506784"
             },
             "line": {
              "color": "rgb(17,17,17)"
             }
            },
            "header": {
             "fill": {
              "color": "#2a3f5f"
             },
             "line": {
              "color": "rgb(17,17,17)"
             }
            },
            "type": "table"
           }
          ],
          "barpolar": [
           {
            "marker": {
             "line": {
              "color": "rgb(17,17,17)",
              "width": 0.5
             },
             "pattern": {
              "fillmode": "overlay",
              "size": 10,
              "solidity": 0.2
             }
            },
            "type": "barpolar"
           }
          ],
          "pie": [
           {
            "automargin": true,
            "type": "pie"
           }
          ]
         },
         "layout": {
          "autotypenumbers": "strict",
          "colorway": [
           "#636efa",
           "#EF553B",
           "#00cc96",
           "#ab63fa",
           "#FFA15A",
           "#19d3f3",
           "#FF6692",
           "#B6E880",
           "#FF97FF",
           "#FECB52"
          ],
          "font": {
           "color": "#f2f5fa"
          },
          "hovermode": "closest",
          "hoverlabel": {
           "align": "left"
          },
          "paper_bgcolor": "rgb(17,17,17)",
          "plot_bgcolor": "rgb(17,17,17)",
          "polar": {
           "bgcolor": "rgb(17,17,17)",
           "angularaxis": {
            "gridcolor": "#506784",
            "linecolor": "#506784",
            "ticks": ""
           },
           "radialaxis": {
            "gridcolor": "#506784",
            "linecolor": "#506784",
            "ticks": ""
           }
          },
          "ternary": {
           "bgcolor": "rgb(17,17,17)",
           "aaxis": {
            "gridcolor": "#506784",
            "linecolor": "#506784",
            "ticks": ""
           },
           "baxis": {
            "gridcolor": "#506784",
            "linecolor": "#506784",
            "ticks": ""
           },
           "caxis": {
            "gridcolor": "#506784",
            "linecolor": "#506784",
            "ticks": ""
           }
          },
          "coloraxis": {
           "colorbar": {
            "outlinewidth": 0,
            "ticks": ""
           }
          },
          "colorscale": {
           "sequential": [
            [
             0.0,
             "#0d0887"
            ],
            [
             0.1111111111111111,
             "#46039f"
            ],
            [
             0.2222222222222222,
             "#7201a8"
            ],
            [
             0.3333333333333333,
             "#9c179e"
            ],
            [
             0.4444444444444444,
             "#bd3786"
            ],
            [
             0.5555555555555556,
             "#d8576b"
            ],
            [
             0.6666666666666666,
             "#ed7953"
            ],
            [
             0.7777777777777778,
             "#fb9f3a"
            ],
            [
             0.8888888888888888,
             "#fdca26"
            ],
            [
             1.0,
             "#f0f921"
            ]
           ],
           "sequentialminus": [
            [
             0.0,
             "#0d0887"
            ],
            [
             0.1111111111111111,
             "#46039f"
            ],
            [
             0.2222222222222222,
             "#7201a8"
            ],
            [
             0.3333333333333333,
             "#9c179e"
            ],
            [
             0.4444444444444444,
             "#bd3786"
            ],
            [
             0.5555555555555556,
             "#d8576b"
            ],
            [
             0.6666666666666666,
             "#ed7953"
            ],
            [
             0.7777777777777778,
             "#fb9f3a"
            ],
            [
             0.8888888888888888,
             "#fdca26"
            ],
            [
             1.0,
             "#f0f921"
            ]
           ],
           "diverging": [
            [
             0,
             "#8e0152"
            ],
            [
             0.1,
             "#c51b7d"
            ],
            [
             0.2,
             "#de77ae"
            ],
            [
             0.3,
             "#f1b6da"
            ],
            [
             0.4,
             "#fde0ef"
            ],
            [
             0.5,
             "#f7f7f7"
            ],
            [
             0.6,
             "#e6f5d0"
            ],
            [
             0.7,
             "#b8e186"
            ],
            [
             0.8,
             "#7fbc41"
            ],
            [
             0.9,
             "#4d9221"
            ],
            [
             1,
             "#276419"
            ]
           ]
          },
          "xaxis": {
           "gridcolor": "#283442",
           "linecolor": "#506784",
           "ticks": "",
           "title": {
            "standoff": 15
           },
           "zerolinecolor": "#283442",
           "automargin": true,
           "zerolinewidth": 2
          },
          "yaxis": {
           "gridcolor": "#283442",
           "linecolor": "#506784",
           "ticks": "",
           "title": {
            "standoff": 15
           },
           "zerolinecolor": "#283442",
           "automargin": true,
           "zerolinewidth": 2
          },
          "scene": {
           "xaxis": {
            "backgroundcolor": "rgb(17,17,17)",
            "gridcolor": "#506784",
            "linecolor": "#506784",
            "showbackground": true,
            "ticks": "",
            "zerolinecolor": "#C8D4E3",
            "gridwidth": 2
           },
           "yaxis": {
            "backgroundcolor": "rgb(17,17,17)",
            "gridcolor": "#506784",
            "linecolor": "#506784",
            "showbackground": true,
            "ticks": "",
            "zerolinecolor": "#C8D4E3",
            "gridwidth": 2
           },
           "zaxis": {
            "backgroundcolor": "rgb(17,17,17)",
            "gridcolor": "#506784",
            "linecolor": "#506784",
            "showbackground": true,
            "ticks": "",
            "zerolinecolor": "#C8D4E3",
            "gridwidth": 2
           }
          },
          "shapedefaults": {
           "line": {
            "color": "#f2f5fa"
           }
          },
          "annotationdefaults": {
           "arrowcolor": "#f2f5fa",
           "arrowhead": 0,
           "arrowwidth": 1
          },
          "geo": {
           "bgcolor": "rgb(17,17,17)",
           "landcolor": "rgb(17,17,17)",
           "subunitcolor": "#506784",
           "showland": true,
           "showlakes": true,
           "lakecolor": "rgb(17,17,17)"
          },
          "title": {
           "x": 0.05
          },
          "updatemenudefaults": {
           "bgcolor": "#506784",
           "borderwidth": 0
          },
          "sliderdefaults": {
           "bgcolor": "#C8D4E3",
           "borderwidth": 1,
           "bordercolor": "rgb(17,17,17)",
           "tickwidth": 0
          },
          "mapbox": {
           "style": "dark"
          }
         }
        },
        "xaxis": {
         "anchor": "y",
         "domain": [
          0.0,
          0.7363
         ],
         "title": {
          "text": "rawF1"
         }
        },
        "yaxis": {
         "anchor": "x",
         "domain": [
          0.0,
          1.0
         ],
         "title": {
          "text": "f1"
         }
        },
        "xaxis2": {
         "anchor": "y2",
         "domain": [
          0.7413,
          1.0
         ],
         "matches": "x2",
         "showticklabels": false,
         "showline": false,
         "ticks": "",
         "showgrid": true
        },
        "yaxis2": {
         "anchor": "x2",
         "domain": [
          0.0,
          1.0
         ],
         "matches": "y",
         "showticklabels": false,
         "showgrid": true
        },
        "legend": {
         "title": {
          "text": "test"
         },
         "tracegroupgap": 0
        },
        "margin": {
         "t": 60
        },
        "barmode": "overlay"
       },
       "config": {
        "plotlyServerURL": "https://plot.ly"
       }
      },
      "text/html": [
       "<div>                            <div id=\"98e43d7d-f60c-439d-a9a8-b6512884782b\" class=\"plotly-graph-div\" style=\"height:525px; width:100%;\"></div>            <script type=\"text/javascript\">                require([\"plotly\"], function(Plotly) {                    window.PLOTLYENV=window.PLOTLYENV || {};                                    if (document.getElementById(\"98e43d7d-f60c-439d-a9a8-b6512884782b\")) {                    Plotly.newPlot(                        \"98e43d7d-f60c-439d-a9a8-b6512884782b\",                        [{\"hovertemplate\":\"<b>%{hovertext}</b><br><br>test=0002<br>rawF1=%{x}<br>f1=%{y}<extra></extra>\",\"hovertext\":[\"a4659423-83e4-4da3-91b5-177fa8bc17fe\"],\"legendgroup\":\"0002\",\"marker\":{\"color\":\"#636efa\",\"symbol\":\"circle\"},\"mode\":\"markers\",\"name\":\"0002\",\"orientation\":\"v\",\"showlegend\":true,\"x\":[0.6470938474624327],\"xaxis\":\"x\",\"y\":[0.6485753436268347],\"yaxis\":\"y\",\"type\":\"scatter\"},{\"alignmentgroup\":\"True\",\"bingroup\":\"y\",\"hovertemplate\":\"test=0002<br>f1=%{y}<br>count=%{x}<extra></extra>\",\"legendgroup\":\"0002\",\"marker\":{\"color\":\"#636efa\"},\"name\":\"0002\",\"offsetgroup\":\"0002\",\"opacity\":0.5,\"showlegend\":false,\"xaxis\":\"x2\",\"y\":[0.6485753436268347],\"yaxis\":\"y2\",\"type\":\"histogram\"},{\"hovertemplate\":\"<b>%{hovertext}</b><br><br>test=0003<br>rawF1=%{x}<br>f1=%{y}<extra></extra>\",\"hovertext\":[\"ad3be387-5be4-4e8e-b57d-072003b617d3\"],\"legendgroup\":\"0003\",\"marker\":{\"color\":\"#EF553B\",\"symbol\":\"circle\"},\"mode\":\"markers\",\"name\":\"0003\",\"orientation\":\"v\",\"showlegend\":true,\"x\":[0.7891552980563936],\"xaxis\":\"x\",\"y\":[0.7911074684970802],\"yaxis\":\"y\",\"type\":\"scatter\"},{\"alignmentgroup\":\"True\",\"bingroup\":\"y\",\"hovertemplate\":\"test=0003<br>f1=%{y}<br>count=%{x}<extra></extra>\",\"legendgroup\":\"0003\",\"marker\":{\"color\":\"#EF553B\"},\"name\":\"0003\",\"offsetgroup\":\"0003\",\"opacity\":0.5,\"showlegend\":false,\"xaxis\":\"x2\",\"y\":[0.7911074684970802],\"yaxis\":\"y2\",\"type\":\"histogram\"},{\"hovertemplate\":\"<b>%{hovertext}</b><br><br>test=0004<br>rawF1=%{x}<br>f1=%{y}<extra></extra>\",\"hovertext\":[\"8bcbbc8b-b83e-4b97-8f7c-0dd0760680e7\"],\"legendgroup\":\"0004\",\"marker\":{\"color\":\"#00cc96\",\"symbol\":\"circle\"},\"mode\":\"markers\",\"name\":\"0004\",\"orientation\":\"v\",\"showlegend\":true,\"x\":[0.7159573856192443],\"xaxis\":\"x\",\"y\":[0.7259442819369755],\"yaxis\":\"y\",\"type\":\"scatter\"},{\"alignmentgroup\":\"True\",\"bingroup\":\"y\",\"hovertemplate\":\"test=0004<br>f1=%{y}<br>count=%{x}<extra></extra>\",\"legendgroup\":\"0004\",\"marker\":{\"color\":\"#00cc96\"},\"name\":\"0004\",\"offsetgroup\":\"0004\",\"opacity\":0.5,\"showlegend\":false,\"xaxis\":\"x2\",\"y\":[0.7259442819369755],\"yaxis\":\"y2\",\"type\":\"histogram\"},{\"hovertemplate\":\"<b>%{hovertext}</b><br><br>test=0005<br>rawF1=%{x}<br>f1=%{y}<extra></extra>\",\"hovertext\":[\"f88ed731-de3a-4c9a-90d5-04d1fcd93d45\"],\"legendgroup\":\"0005\",\"marker\":{\"color\":\"#ab63fa\",\"symbol\":\"circle\"},\"mode\":\"markers\",\"name\":\"0005\",\"orientation\":\"v\",\"showlegend\":true,\"x\":[0.6644760300070613],\"xaxis\":\"x\",\"y\":[0.6712968473230602],\"yaxis\":\"y\",\"type\":\"scatter\"},{\"alignmentgroup\":\"True\",\"bingroup\":\"y\",\"hovertemplate\":\"test=0005<br>f1=%{y}<br>count=%{x}<extra></extra>\",\"legendgroup\":\"0005\",\"marker\":{\"color\":\"#ab63fa\"},\"name\":\"0005\",\"offsetgroup\":\"0005\",\"opacity\":0.5,\"showlegend\":false,\"xaxis\":\"x2\",\"y\":[0.6712968473230602],\"yaxis\":\"y2\",\"type\":\"histogram\"},{\"hovertemplate\":\"<b>%{hovertext}</b><br><br>test=0006<br>rawF1=%{x}<br>f1=%{y}<extra></extra>\",\"hovertext\":[\"16a691da-d735-4ad2-953c-db2678980107\"],\"legendgroup\":\"0006\",\"marker\":{\"color\":\"#FFA15A\",\"symbol\":\"circle\"},\"mode\":\"markers\",\"name\":\"0006\",\"orientation\":\"v\",\"showlegend\":true,\"x\":[0.6348426071248778],\"xaxis\":\"x\",\"y\":[0.6497635272963539],\"yaxis\":\"y\",\"type\":\"scatter\"},{\"alignmentgroup\":\"True\",\"bingroup\":\"y\",\"hovertemplate\":\"test=0006<br>f1=%{y}<br>count=%{x}<extra></extra>\",\"legendgroup\":\"0006\",\"marker\":{\"color\":\"#FFA15A\"},\"name\":\"0006\",\"offsetgroup\":\"0006\",\"opacity\":0.5,\"showlegend\":false,\"xaxis\":\"x2\",\"y\":[0.6497635272963539],\"yaxis\":\"y2\",\"type\":\"histogram\"},{\"hovertemplate\":\"<b>%{hovertext}</b><br><br>test=0007<br>rawF1=%{x}<br>f1=%{y}<extra></extra>\",\"hovertext\":[\"d91f41ff-0308-46df-9bcd-67d46f377777\"],\"legendgroup\":\"0007\",\"marker\":{\"color\":\"#19d3f3\",\"symbol\":\"circle\"},\"mode\":\"markers\",\"name\":\"0007\",\"orientation\":\"v\",\"showlegend\":true,\"x\":[0.633353165677468],\"xaxis\":\"x\",\"y\":[0.6431725766254208],\"yaxis\":\"y\",\"type\":\"scatter\"},{\"alignmentgroup\":\"True\",\"bingroup\":\"y\",\"hovertemplate\":\"test=0007<br>f1=%{y}<br>count=%{x}<extra></extra>\",\"legendgroup\":\"0007\",\"marker\":{\"color\":\"#19d3f3\"},\"name\":\"0007\",\"offsetgroup\":\"0007\",\"opacity\":0.5,\"showlegend\":false,\"xaxis\":\"x2\",\"y\":[0.6431725766254208],\"yaxis\":\"y2\",\"type\":\"histogram\"},{\"hovertemplate\":\"<b>%{hovertext}</b><br><br>test=0008<br>rawF1=%{x}<br>f1=%{y}<extra></extra>\",\"hovertext\":[\"a1eacac2-9e31-437a-9350-110d2ef2f1a5\"],\"legendgroup\":\"0008\",\"marker\":{\"color\":\"#FF6692\",\"symbol\":\"circle\"},\"mode\":\"markers\",\"name\":\"0008\",\"orientation\":\"v\",\"showlegend\":true,\"x\":[0.5061043285238623],\"xaxis\":\"x\",\"y\":[0.5069800318077399],\"yaxis\":\"y\",\"type\":\"scatter\"},{\"alignmentgroup\":\"True\",\"bingroup\":\"y\",\"hovertemplate\":\"test=0008<br>f1=%{y}<br>count=%{x}<extra></extra>\",\"legendgroup\":\"0008\",\"marker\":{\"color\":\"#FF6692\"},\"name\":\"0008\",\"offsetgroup\":\"0008\",\"opacity\":0.5,\"showlegend\":false,\"xaxis\":\"x2\",\"y\":[0.5069800318077399],\"yaxis\":\"y2\",\"type\":\"histogram\"},{\"fill\":\"toself\",\"mode\":\"lines\",\"name\":\"identity\",\"x\":[0.6470938474624327,0.7891552980563936,0.7159573856192443,0.6644760300070613,0.6348426071248778,0.633353165677468,0.5061043285238623],\"y\":[0.6470938474624327,0.7891552980563936,0.7159573856192443,0.6644760300070613,0.6348426071248778,0.633353165677468,0.5061043285238623],\"type\":\"scatter\"}],                        {\"template\":{\"data\":{\"histogram2dcontour\":[{\"type\":\"histogram2dcontour\",\"colorbar\":{\"outlinewidth\":0,\"ticks\":\"\"},\"colorscale\":[[0.0,\"#0d0887\"],[0.1111111111111111,\"#46039f\"],[0.2222222222222222,\"#7201a8\"],[0.3333333333333333,\"#9c179e\"],[0.4444444444444444,\"#bd3786\"],[0.5555555555555556,\"#d8576b\"],[0.6666666666666666,\"#ed7953\"],[0.7777777777777778,\"#fb9f3a\"],[0.8888888888888888,\"#fdca26\"],[1.0,\"#f0f921\"]]}],\"choropleth\":[{\"type\":\"choropleth\",\"colorbar\":{\"outlinewidth\":0,\"ticks\":\"\"}}],\"histogram2d\":[{\"type\":\"histogram2d\",\"colorbar\":{\"outlinewidth\":0,\"ticks\":\"\"},\"colorscale\":[[0.0,\"#0d0887\"],[0.1111111111111111,\"#46039f\"],[0.2222222222222222,\"#7201a8\"],[0.3333333333333333,\"#9c179e\"],[0.4444444444444444,\"#bd3786\"],[0.5555555555555556,\"#d8576b\"],[0.6666666666666666,\"#ed7953\"],[0.7777777777777778,\"#fb9f3a\"],[0.8888888888888888,\"#fdca26\"],[1.0,\"#f0f921\"]]}],\"heatmap\":[{\"type\":\"heatmap\",\"colorbar\":{\"outlinewidth\":0,\"ticks\":\"\"},\"colorscale\":[[0.0,\"#0d0887\"],[0.1111111111111111,\"#46039f\"],[0.2222222222222222,\"#7201a8\"],[0.3333333333333333,\"#9c179e\"],[0.4444444444444444,\"#bd3786\"],[0.5555555555555556,\"#d8576b\"],[0.6666666666666666,\"#ed7953\"],[0.7777777777777778,\"#fb9f3a\"],[0.8888888888888888,\"#fdca26\"],[1.0,\"#f0f921\"]]}],\"heatmapgl\":[{\"type\":\"heatmapgl\",\"colorbar\":{\"outlinewidth\":0,\"ticks\":\"\"},\"colorscale\":[[0.0,\"#0d0887\"],[0.1111111111111111,\"#46039f\"],[0.2222222222222222,\"#7201a8\"],[0.3333333333333333,\"#9c179e\"],[0.4444444444444444,\"#bd3786\"],[0.5555555555555556,\"#d8576b\"],[0.6666666666666666,\"#ed7953\"],[0.7777777777777778,\"#fb9f3a\"],[0.8888888888888888,\"#fdca26\"],[1.0,\"#f0f921\"]]}],\"contourcarpet\":[{\"type\":\"contourcarpet\",\"colorbar\":{\"outlinewidth\":0,\"ticks\":\"\"}}],\"contour\":[{\"type\":\"contour\",\"colorbar\":{\"outlinewidth\":0,\"ticks\":\"\"},\"colorscale\":[[0.0,\"#0d0887\"],[0.1111111111111111,\"#46039f\"],[0.2222222222222222,\"#7201a8\"],[0.3333333333333333,\"#9c179e\"],[0.4444444444444444,\"#bd3786\"],[0.5555555555555556,\"#d8576b\"],[0.6666666666666666,\"#ed7953\"],[0.7777777777777778,\"#fb9f3a\"],[0.8888888888888888,\"#fdca26\"],[1.0,\"#f0f921\"]]}],\"surface\":[{\"type\":\"surface\",\"colorbar\":{\"outlinewidth\":0,\"ticks\":\"\"},\"colorscale\":[[0.0,\"#0d0887\"],[0.1111111111111111,\"#46039f\"],[0.2222222222222222,\"#7201a8\"],[0.3333333333333333,\"#9c179e\"],[0.4444444444444444,\"#bd3786\"],[0.5555555555555556,\"#d8576b\"],[0.6666666666666666,\"#ed7953\"],[0.7777777777777778,\"#fb9f3a\"],[0.8888888888888888,\"#fdca26\"],[1.0,\"#f0f921\"]]}],\"mesh3d\":[{\"type\":\"mesh3d\",\"colorbar\":{\"outlinewidth\":0,\"ticks\":\"\"}}],\"scatter\":[{\"marker\":{\"line\":{\"color\":\"#283442\"}},\"type\":\"scatter\"}],\"parcoords\":[{\"type\":\"parcoords\",\"line\":{\"colorbar\":{\"outlinewidth\":0,\"ticks\":\"\"}}}],\"scatterpolargl\":[{\"type\":\"scatterpolargl\",\"marker\":{\"colorbar\":{\"outlinewidth\":0,\"ticks\":\"\"}}}],\"bar\":[{\"error_x\":{\"color\":\"#f2f5fa\"},\"error_y\":{\"color\":\"#f2f5fa\"},\"marker\":{\"line\":{\"color\":\"rgb(17,17,17)\",\"width\":0.5},\"pattern\":{\"fillmode\":\"overlay\",\"size\":10,\"solidity\":0.2}},\"type\":\"bar\"}],\"scattergeo\":[{\"type\":\"scattergeo\",\"marker\":{\"colorbar\":{\"outlinewidth\":0,\"ticks\":\"\"}}}],\"scatterpolar\":[{\"type\":\"scatterpolar\",\"marker\":{\"colorbar\":{\"outlinewidth\":0,\"ticks\":\"\"}}}],\"histogram\":[{\"marker\":{\"pattern\":{\"fillmode\":\"overlay\",\"size\":10,\"solidity\":0.2}},\"type\":\"histogram\"}],\"scattergl\":[{\"marker\":{\"line\":{\"color\":\"#283442\"}},\"type\":\"scattergl\"}],\"scatter3d\":[{\"type\":\"scatter3d\",\"line\":{\"colorbar\":{\"outlinewidth\":0,\"ticks\":\"\"}},\"marker\":{\"colorbar\":{\"outlinewidth\":0,\"ticks\":\"\"}}}],\"scattermapbox\":[{\"type\":\"scattermapbox\",\"marker\":{\"colorbar\":{\"outlinewidth\":0,\"ticks\":\"\"}}}],\"scatterternary\":[{\"type\":\"scatterternary\",\"marker\":{\"colorbar\":{\"outlinewidth\":0,\"ticks\":\"\"}}}],\"scattercarpet\":[{\"type\":\"scattercarpet\",\"marker\":{\"colorbar\":{\"outlinewidth\":0,\"ticks\":\"\"}}}],\"carpet\":[{\"aaxis\":{\"endlinecolor\":\"#A2B1C6\",\"gridcolor\":\"#506784\",\"linecolor\":\"#506784\",\"minorgridcolor\":\"#506784\",\"startlinecolor\":\"#A2B1C6\"},\"baxis\":{\"endlinecolor\":\"#A2B1C6\",\"gridcolor\":\"#506784\",\"linecolor\":\"#506784\",\"minorgridcolor\":\"#506784\",\"startlinecolor\":\"#A2B1C6\"},\"type\":\"carpet\"}],\"table\":[{\"cells\":{\"fill\":{\"color\":\"#506784\"},\"line\":{\"color\":\"rgb(17,17,17)\"}},\"header\":{\"fill\":{\"color\":\"#2a3f5f\"},\"line\":{\"color\":\"rgb(17,17,17)\"}},\"type\":\"table\"}],\"barpolar\":[{\"marker\":{\"line\":{\"color\":\"rgb(17,17,17)\",\"width\":0.5},\"pattern\":{\"fillmode\":\"overlay\",\"size\":10,\"solidity\":0.2}},\"type\":\"barpolar\"}],\"pie\":[{\"automargin\":true,\"type\":\"pie\"}]},\"layout\":{\"autotypenumbers\":\"strict\",\"colorway\":[\"#636efa\",\"#EF553B\",\"#00cc96\",\"#ab63fa\",\"#FFA15A\",\"#19d3f3\",\"#FF6692\",\"#B6E880\",\"#FF97FF\",\"#FECB52\"],\"font\":{\"color\":\"#f2f5fa\"},\"hovermode\":\"closest\",\"hoverlabel\":{\"align\":\"left\"},\"paper_bgcolor\":\"rgb(17,17,17)\",\"plot_bgcolor\":\"rgb(17,17,17)\",\"polar\":{\"bgcolor\":\"rgb(17,17,17)\",\"angularaxis\":{\"gridcolor\":\"#506784\",\"linecolor\":\"#506784\",\"ticks\":\"\"},\"radialaxis\":{\"gridcolor\":\"#506784\",\"linecolor\":\"#506784\",\"ticks\":\"\"}},\"ternary\":{\"bgcolor\":\"rgb(17,17,17)\",\"aaxis\":{\"gridcolor\":\"#506784\",\"linecolor\":\"#506784\",\"ticks\":\"\"},\"baxis\":{\"gridcolor\":\"#506784\",\"linecolor\":\"#506784\",\"ticks\":\"\"},\"caxis\":{\"gridcolor\":\"#506784\",\"linecolor\":\"#506784\",\"ticks\":\"\"}},\"coloraxis\":{\"colorbar\":{\"outlinewidth\":0,\"ticks\":\"\"}},\"colorscale\":{\"sequential\":[[0.0,\"#0d0887\"],[0.1111111111111111,\"#46039f\"],[0.2222222222222222,\"#7201a8\"],[0.3333333333333333,\"#9c179e\"],[0.4444444444444444,\"#bd3786\"],[0.5555555555555556,\"#d8576b\"],[0.6666666666666666,\"#ed7953\"],[0.7777777777777778,\"#fb9f3a\"],[0.8888888888888888,\"#fdca26\"],[1.0,\"#f0f921\"]],\"sequentialminus\":[[0.0,\"#0d0887\"],[0.1111111111111111,\"#46039f\"],[0.2222222222222222,\"#7201a8\"],[0.3333333333333333,\"#9c179e\"],[0.4444444444444444,\"#bd3786\"],[0.5555555555555556,\"#d8576b\"],[0.6666666666666666,\"#ed7953\"],[0.7777777777777778,\"#fb9f3a\"],[0.8888888888888888,\"#fdca26\"],[1.0,\"#f0f921\"]],\"diverging\":[[0,\"#8e0152\"],[0.1,\"#c51b7d\"],[0.2,\"#de77ae\"],[0.3,\"#f1b6da\"],[0.4,\"#fde0ef\"],[0.5,\"#f7f7f7\"],[0.6,\"#e6f5d0\"],[0.7,\"#b8e186\"],[0.8,\"#7fbc41\"],[0.9,\"#4d9221\"],[1,\"#276419\"]]},\"xaxis\":{\"gridcolor\":\"#283442\",\"linecolor\":\"#506784\",\"ticks\":\"\",\"title\":{\"standoff\":15},\"zerolinecolor\":\"#283442\",\"automargin\":true,\"zerolinewidth\":2},\"yaxis\":{\"gridcolor\":\"#283442\",\"linecolor\":\"#506784\",\"ticks\":\"\",\"title\":{\"standoff\":15},\"zerolinecolor\":\"#283442\",\"automargin\":true,\"zerolinewidth\":2},\"scene\":{\"xaxis\":{\"backgroundcolor\":\"rgb(17,17,17)\",\"gridcolor\":\"#506784\",\"linecolor\":\"#506784\",\"showbackground\":true,\"ticks\":\"\",\"zerolinecolor\":\"#C8D4E3\",\"gridwidth\":2},\"yaxis\":{\"backgroundcolor\":\"rgb(17,17,17)\",\"gridcolor\":\"#506784\",\"linecolor\":\"#506784\",\"showbackground\":true,\"ticks\":\"\",\"zerolinecolor\":\"#C8D4E3\",\"gridwidth\":2},\"zaxis\":{\"backgroundcolor\":\"rgb(17,17,17)\",\"gridcolor\":\"#506784\",\"linecolor\":\"#506784\",\"showbackground\":true,\"ticks\":\"\",\"zerolinecolor\":\"#C8D4E3\",\"gridwidth\":2}},\"shapedefaults\":{\"line\":{\"color\":\"#f2f5fa\"}},\"annotationdefaults\":{\"arrowcolor\":\"#f2f5fa\",\"arrowhead\":0,\"arrowwidth\":1},\"geo\":{\"bgcolor\":\"rgb(17,17,17)\",\"landcolor\":\"rgb(17,17,17)\",\"subunitcolor\":\"#506784\",\"showland\":true,\"showlakes\":true,\"lakecolor\":\"rgb(17,17,17)\"},\"title\":{\"x\":0.05},\"updatemenudefaults\":{\"bgcolor\":\"#506784\",\"borderwidth\":0},\"sliderdefaults\":{\"bgcolor\":\"#C8D4E3\",\"borderwidth\":1,\"bordercolor\":\"rgb(17,17,17)\",\"tickwidth\":0},\"mapbox\":{\"style\":\"dark\"}}},\"xaxis\":{\"anchor\":\"y\",\"domain\":[0.0,0.7363],\"title\":{\"text\":\"rawF1\"}},\"yaxis\":{\"anchor\":\"x\",\"domain\":[0.0,1.0],\"title\":{\"text\":\"f1\"}},\"xaxis2\":{\"anchor\":\"y2\",\"domain\":[0.7413,1.0],\"matches\":\"x2\",\"showticklabels\":false,\"showline\":false,\"ticks\":\"\",\"showgrid\":true},\"yaxis2\":{\"anchor\":\"x2\",\"domain\":[0.0,1.0],\"matches\":\"y\",\"showticklabels\":false,\"showgrid\":true},\"legend\":{\"title\":{\"text\":\"test\"},\"tracegroupgap\":0},\"margin\":{\"t\":60},\"barmode\":\"overlay\"},                        {\"responsive\": true}                    ).then(function(){\n",
       "                            \n",
       "var gd = document.getElementById('98e43d7d-f60c-439d-a9a8-b6512884782b');\n",
       "var x = new MutationObserver(function (mutations, observer) {{\n",
       "        var display = window.getComputedStyle(gd).display;\n",
       "        if (!display || display === 'none') {{\n",
       "            console.log([gd, 'removed!']);\n",
       "            Plotly.purge(gd);\n",
       "            observer.disconnect();\n",
       "        }}\n",
       "}});\n",
       "\n",
       "// Listen for the removal of the full notebook cells\n",
       "var notebookContainer = gd.closest('#notebook-container');\n",
       "if (notebookContainer) {{\n",
       "    x.observe(notebookContainer, {childList: true});\n",
       "}}\n",
       "\n",
       "// Listen for the clearing of the current output cell\n",
       "var outputEl = gd.closest('.output');\n",
       "if (outputEl) {{\n",
       "    x.observe(outputEl, {childList: true});\n",
       "}}\n",
       "\n",
       "                        })                };                });            </script>        </div>"
      ]
     },
     "metadata": {},
     "output_type": "display_data"
    }
   ],
   "execution_count": 59
  },
  {
   "metadata": {
    "ExecuteTime": {
     "end_time": "2025-01-13T12:37:10.085013Z",
     "start_time": "2025-01-13T12:37:10.008628Z"
    }
   },
   "cell_type": "code",
   "source": [
    "ax=plt.subplot()\n",
    "\n",
    "ax.scatter(experimentModels_N2['rawF1'].to_numpy(), experimentModels_N2['eventF1'].to_numpy())\n",
    "ax.plot([0.5,0.9],[0.5,0.9], 'r')\n",
    "ax.set_ylabel('by-event F1*', fontsize = 18)#, fontweight= 'bold'\n",
    "ax.set_xlabel('per-sample F1', fontsize = 18)\n",
    "\n",
    "ax.set_title(\"COGNITION\", fontdict = {'fontsize' : 18, 'fontweight':'bold'})\n",
    "plt.show()\n",
    "\n",
    "plt.tight_layout()\n",
    "#ax.savefig('per-sample_vs_by-event_Cognition_N2_IoU0-2.png',bbox_inches='tight', dpi=300, format=\"png\") # , pil_kwargs={\"compression\": \"tiff_lzw\"}"
   ],
   "outputs": [
    {
     "data": {
      "text/plain": [
       "<Figure size 640x480 with 1 Axes>"
      ],
      "image/png": "[encoded data removed]"
     },
     "metadata": {},
     "output_type": "display_data"
    },
    {
     "data": {
      "text/plain": [
       "<Figure size 640x480 with 0 Axes>"
      ]
     },
     "metadata": {},
     "output_type": "display_data"
    }
   ],
   "execution_count": 60
  },
  {
   "metadata": {
    "ExecuteTime": {
     "end_time": "2025-01-13T12:37:10.193083Z",
     "start_time": "2025-01-13T12:37:10.147886Z"
    }
   },
   "cell_type": "code",
   "source": [
    "fig=px.scatter(experimentModels_N2,x='eventF1',y='eventPrecision',color='test',hover_name='modelId', marginal_y=\"histogram\")\n",
    "fig.add_trace(\n",
    "    go.Scatter(x=experimentModels_N2['eventF1'], y=experimentModels_N2['eventF1'], name=\"identity\", mode='lines',fill=\"toself\")\n",
    ")\n",
    "fig.show()"
   ],
   "outputs": [
    {
     "data": {
      "application/vnd.plotly.v1+json": {
       "data": [
        {
         "hovertemplate": "<b>%{hovertext}</b><br><br>test=0002<br>eventF1=%{x}<br>eventPrecision=%{y}<extra></extra>",
         "hovertext": [
          "a4659423-83e4-4da3-91b5-177fa8bc17fe"
         ],
         "legendgroup": "0002",
         "marker": {
          "color": "#636efa",
          "symbol": "circle"
         },
         "mode": "markers",
         "name": "0002",
         "orientation": "v",
         "showlegend": true,
         "x": [
          0.7299703264094956
         ],
         "xaxis": "x",
         "y": [
          0.8541666666666666
         ],
         "yaxis": "y",
         "type": "scatter"
        },
        {
         "alignmentgroup": "True",
         "bingroup": "y",
         "hovertemplate": "test=0002<br>eventPrecision=%{y}<br>count=%{x}<extra></extra>",
         "legendgroup": "0002",
         "marker": {
          "color": "#636efa"
         },
         "name": "0002",
         "offsetgroup": "0002",
         "opacity": 0.5,
         "showlegend": false,
         "xaxis": "x2",
         "y": [
          0.8541666666666666
         ],
         "yaxis": "y2",
         "type": "histogram"
        },
        {
         "hovertemplate": "<b>%{hovertext}</b><br><br>test=0003<br>eventF1=%{x}<br>eventPrecision=%{y}<extra></extra>",
         "hovertext": [
          "ad3be387-5be4-4e8e-b57d-072003b617d3"
         ],
         "legendgroup": "0003",
         "marker": {
          "color": "#EF553B",
          "symbol": "circle"
         },
         "mode": "markers",
         "name": "0003",
         "orientation": "v",
         "showlegend": true,
         "x": [
          0.874329958308517
         ],
         "xaxis": "x",
         "y": [
          0.8465974625144176
         ],
         "yaxis": "y",
         "type": "scatter"
        },
        {
         "alignmentgroup": "True",
         "bingroup": "y",
         "hovertemplate": "test=0003<br>eventPrecision=%{y}<br>count=%{x}<extra></extra>",
         "legendgroup": "0003",
         "marker": {
          "color": "#EF553B"
         },
         "name": "0003",
         "offsetgroup": "0003",
         "opacity": 0.5,
         "showlegend": false,
         "xaxis": "x2",
         "y": [
          0.8465974625144176
         ],
         "yaxis": "y2",
         "type": "histogram"
        },
        {
         "hovertemplate": "<b>%{hovertext}</b><br><br>test=0004<br>eventF1=%{x}<br>eventPrecision=%{y}<extra></extra>",
         "hovertext": [
          "8bcbbc8b-b83e-4b97-8f7c-0dd0760680e7"
         ],
         "legendgroup": "0004",
         "marker": {
          "color": "#00cc96",
          "symbol": "circle"
         },
         "mode": "markers",
         "name": "0004",
         "orientation": "v",
         "showlegend": true,
         "x": [
          0.7974025974025974
         ],
         "xaxis": "x",
         "y": [
          0.8057742782152231
         ],
         "yaxis": "y",
         "type": "scatter"
        },
        {
         "alignmentgroup": "True",
         "bingroup": "y",
         "hovertemplate": "test=0004<br>eventPrecision=%{y}<br>count=%{x}<extra></extra>",
         "legendgroup": "0004",
         "marker": {
          "color": "#00cc96"
         },
         "name": "0004",
         "offsetgroup": "0004",
         "opacity": 0.5,
         "showlegend": false,
         "xaxis": "x2",
         "y": [
          0.8057742782152231
         ],
         "yaxis": "y2",
         "type": "histogram"
        },
        {
         "hovertemplate": "<b>%{hovertext}</b><br><br>test=0005<br>eventF1=%{x}<br>eventPrecision=%{y}<extra></extra>",
         "hovertext": [
          "f88ed731-de3a-4c9a-90d5-04d1fcd93d45"
         ],
         "legendgroup": "0005",
         "marker": {
          "color": "#ab63fa",
          "symbol": "circle"
         },
         "mode": "markers",
         "name": "0005",
         "orientation": "v",
         "showlegend": true,
         "x": [
          0.7080745341614907
         ],
         "xaxis": "x",
         "y": [
          0.5711422845691383
         ],
         "yaxis": "y",
         "type": "scatter"
        },
        {
         "alignmentgroup": "True",
         "bingroup": "y",
         "hovertemplate": "test=0005<br>eventPrecision=%{y}<br>count=%{x}<extra></extra>",
         "legendgroup": "0005",
         "marker": {
          "color": "#ab63fa"
         },
         "name": "0005",
         "offsetgroup": "0005",
         "opacity": 0.5,
         "showlegend": false,
         "xaxis": "x2",
         "y": [
          0.5711422845691383
         ],
         "yaxis": "y2",
         "type": "histogram"
        },
        {
         "hovertemplate": "<b>%{hovertext}</b><br><br>test=0006<br>eventF1=%{x}<br>eventPrecision=%{y}<extra></extra>",
         "hovertext": [
          "16a691da-d735-4ad2-953c-db2678980107"
         ],
         "legendgroup": "0006",
         "marker": {
          "color": "#FFA15A",
          "symbol": "circle"
         },
         "mode": "markers",
         "name": "0006",
         "orientation": "v",
         "showlegend": true,
         "x": [
          0.719047619047619
         ],
         "xaxis": "x",
         "y": [
          0.7259615384615384
         ],
         "yaxis": "y",
         "type": "scatter"
        },
        {
         "alignmentgroup": "True",
         "bingroup": "y",
         "hovertemplate": "test=0006<br>eventPrecision=%{y}<br>count=%{x}<extra></extra>",
         "legendgroup": "0006",
         "marker": {
          "color": "#FFA15A"
         },
         "name": "0006",
         "offsetgroup": "0006",
         "opacity": 0.5,
         "showlegend": false,
         "xaxis": "x2",
         "y": [
          0.7259615384615384
         ],
         "yaxis": "y2",
         "type": "histogram"
        },
        {
         "hovertemplate": "<b>%{hovertext}</b><br><br>test=0007<br>eventF1=%{x}<br>eventPrecision=%{y}<extra></extra>",
         "hovertext": [
          "d91f41ff-0308-46df-9bcd-67d46f377777"
         ],
         "legendgroup": "0007",
         "marker": {
          "color": "#19d3f3",
          "symbol": "circle"
         },
         "mode": "markers",
         "name": "0007",
         "orientation": "v",
         "showlegend": true,
         "x": [
          0.7235079171741778
         ],
         "xaxis": "x",
         "y": [
          0.6456521739130435
         ],
         "yaxis": "y",
         "type": "scatter"
        },
        {
         "alignmentgroup": "True",
         "bingroup": "y",
         "hovertemplate": "test=0007<br>eventPrecision=%{y}<br>count=%{x}<extra></extra>",
         "legendgroup": "0007",
         "marker": {
          "color": "#19d3f3"
         },
         "name": "0007",
         "offsetgroup": "0007",
         "opacity": 0.5,
         "showlegend": false,
         "xaxis": "x2",
         "y": [
          0.6456521739130435
         ],
         "yaxis": "y2",
         "type": "histogram"
        },
        {
         "hovertemplate": "<b>%{hovertext}</b><br><br>test=0008<br>eventF1=%{x}<br>eventPrecision=%{y}<extra></extra>",
         "hovertext": [
          "a1eacac2-9e31-437a-9350-110d2ef2f1a5"
         ],
         "legendgroup": "0008",
         "marker": {
          "color": "#FF6692",
          "symbol": "circle"
         },
         "mode": "markers",
         "name": "0008",
         "orientation": "v",
         "showlegend": true,
         "x": [
          0.5333333333333333
         ],
         "xaxis": "x",
         "y": [
          0.6451612903225806
         ],
         "yaxis": "y",
         "type": "scatter"
        },
        {
         "alignmentgroup": "True",
         "bingroup": "y",
         "hovertemplate": "test=0008<br>eventPrecision=%{y}<br>count=%{x}<extra></extra>",
         "legendgroup": "0008",
         "marker": {
          "color": "#FF6692"
         },
         "name": "0008",
         "offsetgroup": "0008",
         "opacity": 0.5,
         "showlegend": false,
         "xaxis": "x2",
         "y": [
          0.6451612903225806
         ],
         "yaxis": "y2",
         "type": "histogram"
        },
        {
         "fill": "toself",
         "mode": "lines",
         "name": "identity",
         "x": [
          0.7299703264094956,
          0.874329958308517,
          0.7974025974025974,
          0.7080745341614907,
          0.719047619047619,
          0.7235079171741778,
          0.5333333333333333
         ],
         "y": [
          0.7299703264094956,
          0.874329958308517,
          0.7974025974025974,
          0.7080745341614907,
          0.719047619047619,
          0.7235079171741778,
          0.5333333333333333
         ],
         "type": "scatter"
        }
       ],
       "layout": {
        "template": {
         "data": {
          "histogram2dcontour": [
           {
            "type": "histogram2dcontour",
            "colorbar": {
             "outlinewidth": 0,
             "ticks": ""
            },
            "colorscale": [
             [
              0.0,
              "#0d0887"
             ],
             [
              0.1111111111111111,
              "#46039f"
             ],
             [
              0.2222222222222222,
              "#7201a8"
             ],
             [
              0.3333333333333333,
              "#9c179e"
             ],
             [
              0.4444444444444444,
              "#bd3786"
             ],
             [
              0.5555555555555556,
              "#d8576b"
             ],
             [
              0.6666666666666666,
              "#ed7953"
             ],
             [
              0.7777777777777778,
              "#fb9f3a"
             ],
             [
              0.8888888888888888,
              "#fdca26"
             ],
             [
              1.0,
              "#f0f921"
             ]
            ]
           }
          ],
          "choropleth": [
           {
            "type": "choropleth",
            "colorbar": {
             "outlinewidth": 0,
             "ticks": ""
            }
           }
          ],
          "histogram2d": [
           {
            "type": "histogram2d",
            "colorbar": {
             "outlinewidth": 0,
             "ticks": ""
            },
            "colorscale": [
             [
              0.0,
              "#0d0887"
             ],
             [
              0.1111111111111111,
              "#46039f"
             ],
             [
              0.2222222222222222,
              "#7201a8"
             ],
             [
              0.3333333333333333,
              "#9c179e"
             ],
             [
              0.4444444444444444,
              "#bd3786"
             ],
             [
              0.5555555555555556,
              "#d8576b"
             ],
             [
              0.6666666666666666,
              "#ed7953"
             ],
             [
              0.7777777777777778,
              "#fb9f3a"
             ],
             [
              0.8888888888888888,
              "#fdca26"
             ],
             [
              1.0,
              "#f0f921"
             ]
            ]
           }
          ],
          "heatmap": [
           {
            "type": "heatmap",
            "colorbar": {
             "outlinewidth": 0,
             "ticks": ""
            },
            "colorscale": [
             [
              0.0,
              "#0d0887"
             ],
             [
              0.1111111111111111,
              "#46039f"
             ],
             [
              0.2222222222222222,
              "#7201a8"
             ],
             [
              0.3333333333333333,
              "#9c179e"
             ],
             [
              0.4444444444444444,
              "#bd3786"
             ],
             [
              0.5555555555555556,
              "#d8576b"
             ],
             [
              0.6666666666666666,
              "#ed7953"
             ],
             [
              0.7777777777777778,
              "#fb9f3a"
             ],
             [
              0.8888888888888888,
              "#fdca26"
             ],
             [
              1.0,
              "#f0f921"
             ]
            ]
           }
          ],
          "heatmapgl": [
           {
            "type": "heatmapgl",
            "colorbar": {
             "outlinewidth": 0,
             "ticks": ""
            },
            "colorscale": [
             [
              0.0,
              "#0d0887"
             ],
             [
              0.1111111111111111,
              "#46039f"
             ],
             [
              0.2222222222222222,
              "#7201a8"
             ],
             [
              0.3333333333333333,
              "#9c179e"
             ],
             [
              0.4444444444444444,
              "#bd3786"
             ],
             [
              0.5555555555555556,
              "#d8576b"
             ],
             [
              0.6666666666666666,
              "#ed7953"
             ],
             [
              0.7777777777777778,
              "#fb9f3a"
             ],
             [
              0.8888888888888888,
              "#fdca26"
             ],
             [
              1.0,
              "#f0f921"
             ]
            ]
           }
          ],
          "contourcarpet": [
           {
            "type": "contourcarpet",
            "colorbar": {
             "outlinewidth": 0,
             "ticks": ""
            }
           }
          ],
          "contour": [
           {
            "type": "contour",
            "colorbar": {
             "outlinewidth": 0,
             "ticks": ""
            },
            "colorscale": [
             [
              0.0,
              "#0d0887"
             ],
             [
              0.1111111111111111,
              "#46039f"
             ],
             [
              0.2222222222222222,
              "#7201a8"
             ],
             [
              0.3333333333333333,
              "#9c179e"
             ],
             [
              0.4444444444444444,
              "#bd3786"
             ],
             [
              0.5555555555555556,
              "#d8576b"
             ],
             [
              0.6666666666666666,
              "#ed7953"
             ],
             [
              0.7777777777777778,
              "#fb9f3a"
             ],
             [
              0.8888888888888888,
              "#fdca26"
             ],
             [
              1.0,
              "#f0f921"
             ]
            ]
           }
          ],
          "surface": [
           {
            "type": "surface",
            "colorbar": {
             "outlinewidth": 0,
             "ticks": ""
            },
            "colorscale": [
             [
              0.0,
              "#0d0887"
             ],
             [
              0.1111111111111111,
              "#46039f"
             ],
             [
              0.2222222222222222,
              "#7201a8"
             ],
             [
              0.3333333333333333,
              "#9c179e"
             ],
             [
              0.4444444444444444,
              "#bd3786"
             ],
             [
              0.5555555555555556,
              "#d8576b"
             ],
             [
              0.6666666666666666,
              "#ed7953"
             ],
             [
              0.7777777777777778,
              "#fb9f3a"
             ],
             [
              0.8888888888888888,
              "#fdca26"
             ],
             [
              1.0,
              "#f0f921"
             ]
            ]
           }
          ],
          "mesh3d": [
           {
            "type": "mesh3d",
            "colorbar": {
             "outlinewidth": 0,
             "ticks": ""
            }
           }
          ],
          "scatter": [
           {
            "marker": {
             "line": {
              "color": "#283442"
             }
            },
            "type": "scatter"
           }
          ],
          "parcoords": [
           {
            "type": "parcoords",
            "line": {
             "colorbar": {
              "outlinewidth": 0,
              "ticks": ""
             }
            }
           }
          ],
          "scatterpolargl": [
           {
            "type": "scatterpolargl",
            "marker": {
             "colorbar": {
              "outlinewidth": 0,
              "ticks": ""
             }
            }
           }
          ],
          "bar": [
           {
            "error_x": {
             "color": "#f2f5fa"
            },
            "error_y": {
             "color": "#f2f5fa"
            },
            "marker": {
             "line": {
              "color": "rgb(17,17,17)",
              "width": 0.5
             },
             "pattern": {
              "fillmode": "overlay",
              "size": 10,
              "solidity": 0.2
             }
            },
            "type": "bar"
           }
          ],
          "scattergeo": [
           {
            "type": "scattergeo",
            "marker": {
             "colorbar": {
              "outlinewidth": 0,
              "ticks": ""
             }
            }
           }
          ],
          "scatterpolar": [
           {
            "type": "scatterpolar",
            "marker": {
             "colorbar": {
              "outlinewidth": 0,
              "ticks": ""
             }
            }
           }
          ],
          "histogram": [
           {
            "marker": {
             "pattern": {
              "fillmode": "overlay",
              "size": 10,
              "solidity": 0.2
             }
            },
            "type": "histogram"
           }
          ],
          "scattergl": [
           {
            "marker": {
             "line": {
              "color": "#283442"
             }
            },
            "type": "scattergl"
           }
          ],
          "scatter3d": [
           {
            "type": "scatter3d",
            "line": {
             "colorbar": {
              "outlinewidth": 0,
              "ticks": ""
             }
            },
            "marker": {
             "colorbar": {
              "outlinewidth": 0,
              "ticks": ""
             }
            }
           }
          ],
          "scattermapbox": [
           {
            "type": "scattermapbox",
            "marker": {
             "colorbar": {
              "outlinewidth": 0,
              "ticks": ""
             }
            }
           }
          ],
          "scatterternary": [
           {
            "type": "scatterternary",
            "marker": {
             "colorbar": {
              "outlinewidth": 0,
              "ticks": ""
             }
            }
           }
          ],
          "scattercarpet": [
           {
            "type": "scattercarpet",
            "marker": {
             "colorbar": {
              "outlinewidth": 0,
              "ticks": ""
             }
            }
           }
          ],
          "carpet": [
           {
            "aaxis": {
             "endlinecolor": "#A2B1C6",
             "gridcolor": "#506784",
             "linecolor": "#506784",
             "minorgridcolor": "#506784",
             "startlinecolor": "#A2B1C6"
            },
            "baxis": {
             "endlinecolor": "#A2B1C6",
             "gridcolor": "#506784",
             "linecolor": "#506784",
             "minorgridcolor": "#506784",
             "startlinecolor": "#A2B1C6"
            },
            "type": "carpet"
           }
          ],
          "table": [
           {
            "cells": {
             "fill": {
              "color": "#506784"
             },
             "line": {
              "color": "rgb(17,17,17)"
             }
            },
            "header": {
             "fill": {
              "color": "#2a3f5f"
             },
             "line": {
              "color": "rgb(17,17,17)"
             }
            },
            "type": "table"
           }
          ],
          "barpolar": [
           {
            "marker": {
             "line": {
              "color": "rgb(17,17,17)",
              "width": 0.5
             },
             "pattern": {
              "fillmode": "overlay",
              "size": 10,
              "solidity": 0.2
             }
            },
            "type": "barpolar"
           }
          ],
          "pie": [
           {
            "automargin": true,
            "type": "pie"
           }
          ]
         },
         "layout": {
          "autotypenumbers": "strict",
          "colorway": [
           "#636efa",
           "#EF553B",
           "#00cc96",
           "#ab63fa",
           "#FFA15A",
           "#19d3f3",
           "#FF6692",
           "#B6E880",
           "#FF97FF",
           "#FECB52"
          ],
          "font": {
           "color": "#f2f5fa"
          },
          "hovermode": "closest",
          "hoverlabel": {
           "align": "left"
          },
          "paper_bgcolor": "rgb(17,17,17)",
          "plot_bgcolor": "rgb(17,17,17)",
          "polar": {
           "bgcolor": "rgb(17,17,17)",
           "angularaxis": {
            "gridcolor": "#506784",
            "linecolor": "#506784",
            "ticks": ""
           },
           "radialaxis": {
            "gridcolor": "#506784",
            "linecolor": "#506784",
            "ticks": ""
           }
          },
          "ternary": {
           "bgcolor": "rgb(17,17,17)",
           "aaxis": {
            "gridcolor": "#506784",
            "linecolor": "#506784",
            "ticks": ""
           },
           "baxis": {
            "gridcolor": "#506784",
            "linecolor": "#506784",
            "ticks": ""
           },
           "caxis": {
            "gridcolor": "#506784",
            "linecolor": "#506784",
            "ticks": ""
           }
          },
          "coloraxis": {
           "colorbar": {
            "outlinewidth": 0,
            "ticks": ""
           }
          },
          "colorscale": {
           "sequential": [
            [
             0.0,
             "#0d0887"
            ],
            [
             0.1111111111111111,
             "#46039f"
            ],
            [
             0.2222222222222222,
             "#7201a8"
            ],
            [
             0.3333333333333333,
             "#9c179e"
            ],
            [
             0.4444444444444444,
             "#bd3786"
            ],
            [
             0.5555555555555556,
             "#d8576b"
            ],
            [
             0.6666666666666666,
             "#ed7953"
            ],
            [
             0.7777777777777778,
             "#fb9f3a"
            ],
            [
             0.8888888888888888,
             "#fdca26"
            ],
            [
             1.0,
             "#f0f921"
            ]
           ],
           "sequentialminus": [
            [
             0.0,
             "#0d0887"
            ],
            [
             0.1111111111111111,
             "#46039f"
            ],
            [
             0.2222222222222222,
             "#7201a8"
            ],
            [
             0.3333333333333333,
             "#9c179e"
            ],
            [
             0.4444444444444444,
             "#bd3786"
            ],
            [
             0.5555555555555556,
             "#d8576b"
            ],
            [
             0.6666666666666666,
             "#ed7953"
            ],
            [
             0.7777777777777778,
             "#fb9f3a"
            ],
            [
             0.8888888888888888,
             "#fdca26"
            ],
            [
             1.0,
             "#f0f921"
            ]
           ],
           "diverging": [
            [
             0,
             "#8e0152"
            ],
            [
             0.1,
             "#c51b7d"
            ],
            [
             0.2,
             "#de77ae"
            ],
            [
             0.3,
             "#f1b6da"
            ],
            [
             0.4,
             "#fde0ef"
            ],
            [
             0.5,
             "#f7f7f7"
            ],
            [
             0.6,
             "#e6f5d0"
            ],
            [
             0.7,
             "#b8e186"
            ],
            [
             0.8,
             "#7fbc41"
            ],
            [
             0.9,
             "#4d9221"
            ],
            [
             1,
             "#276419"
            ]
           ]
          },
          "xaxis": {
           "gridcolor": "#283442",
           "linecolor": "#506784",
           "ticks": "",
           "title": {
            "standoff": 15
           },
           "zerolinecolor": "#283442",
           "automargin": true,
           "zerolinewidth": 2
          },
          "yaxis": {
           "gridcolor": "#283442",
           "linecolor": "#506784",
           "ticks": "",
           "title": {
            "standoff": 15
           },
           "zerolinecolor": "#283442",
           "automargin": true,
           "zerolinewidth": 2
          },
          "scene": {
           "xaxis": {
            "backgroundcolor": "rgb(17,17,17)",
            "gridcolor": "#506784",
            "linecolor": "#506784",
            "showbackground": true,
            "ticks": "",
            "zerolinecolor": "#C8D4E3",
            "gridwidth": 2
           },
           "yaxis": {
            "backgroundcolor": "rgb(17,17,17)",
            "gridcolor": "#506784",
            "linecolor": "#506784",
            "showbackground": true,
            "ticks": "",
            "zerolinecolor": "#C8D4E3",
            "gridwidth": 2
           },
           "zaxis": {
            "backgroundcolor": "rgb(17,17,17)",
            "gridcolor": "#506784",
            "linecolor": "#506784",
            "showbackground": true,
            "ticks": "",
            "zerolinecolor": "#C8D4E3",
            "gridwidth": 2
           }
          },
          "shapedefaults": {
           "line": {
            "color": "#f2f5fa"
           }
          },
          "annotationdefaults": {
           "arrowcolor": "#f2f5fa",
           "arrowhead": 0,
           "arrowwidth": 1
          },
          "geo": {
           "bgcolor": "rgb(17,17,17)",
           "landcolor": "rgb(17,17,17)",
           "subunitcolor": "#506784",
           "showland": true,
           "showlakes": true,
           "lakecolor": "rgb(17,17,17)"
          },
          "title": {
           "x": 0.05
          },
          "updatemenudefaults": {
           "bgcolor": "#506784",
           "borderwidth": 0
          },
          "sliderdefaults": {
           "bgcolor": "#C8D4E3",
           "borderwidth": 1,
           "bordercolor": "rgb(17,17,17)",
           "tickwidth": 0
          },
          "mapbox": {
           "style": "dark"
          }
         }
        },
        "xaxis": {
         "anchor": "y",
         "domain": [
          0.0,
          0.7363
         ],
         "title": {
          "text": "eventF1"
         }
        },
        "yaxis": {
         "anchor": "x",
         "domain": [
          0.0,
          1.0
         ],
         "title": {
          "text": "eventPrecision"
         }
        },
        "xaxis2": {
         "anchor": "y2",
         "domain": [
          0.7413,
          1.0
         ],
         "matches": "x2",
         "showticklabels": false,
         "showline": false,
         "ticks": "",
         "showgrid": true
        },
        "yaxis2": {
         "anchor": "x2",
         "domain": [
          0.0,
          1.0
         ],
         "matches": "y",
         "showticklabels": false,
         "showgrid": true
        },
        "legend": {
         "title": {
          "text": "test"
         },
         "tracegroupgap": 0
        },
        "margin": {
         "t": 60
        },
        "barmode": "overlay"
       },
       "config": {
        "plotlyServerURL": "https://plot.ly"
       }
      },
      "text/html": [
       "<div>                            <div id=\"82f20f48-787c-4efe-91f4-e318534ae653\" class=\"plotly-graph-div\" style=\"height:525px; width:100%;\"></div>            <script type=\"text/javascript\">                require([\"plotly\"], function(Plotly) {                    window.PLOTLYENV=window.PLOTLYENV || {};                                    if (document.getElementById(\"82f20f48-787c-4efe-91f4-e318534ae653\")) {                    Plotly.newPlot(                        \"82f20f48-787c-4efe-91f4-e318534ae653\",                        [{\"hovertemplate\":\"<b>%{hovertext}</b><br><br>test=0002<br>eventF1=%{x}<br>eventPrecision=%{y}<extra></extra>\",\"hovertext\":[\"a4659423-83e4-4da3-91b5-177fa8bc17fe\"],\"legendgroup\":\"0002\",\"marker\":{\"color\":\"#636efa\",\"symbol\":\"circle\"},\"mode\":\"markers\",\"name\":\"0002\",\"orientation\":\"v\",\"showlegend\":true,\"x\":[0.7299703264094956],\"xaxis\":\"x\",\"y\":[0.8541666666666666],\"yaxis\":\"y\",\"type\":\"scatter\"},{\"alignmentgroup\":\"True\",\"bingroup\":\"y\",\"hovertemplate\":\"test=0002<br>eventPrecision=%{y}<br>count=%{x}<extra></extra>\",\"legendgroup\":\"0002\",\"marker\":{\"color\":\"#636efa\"},\"name\":\"0002\",\"offsetgroup\":\"0002\",\"opacity\":0.5,\"showlegend\":false,\"xaxis\":\"x2\",\"y\":[0.8541666666666666],\"yaxis\":\"y2\",\"type\":\"histogram\"},{\"hovertemplate\":\"<b>%{hovertext}</b><br><br>test=0003<br>eventF1=%{x}<br>eventPrecision=%{y}<extra></extra>\",\"hovertext\":[\"ad3be387-5be4-4e8e-b57d-072003b617d3\"],\"legendgroup\":\"0003\",\"marker\":{\"color\":\"#EF553B\",\"symbol\":\"circle\"},\"mode\":\"markers\",\"name\":\"0003\",\"orientation\":\"v\",\"showlegend\":true,\"x\":[0.874329958308517],\"xaxis\":\"x\",\"y\":[0.8465974625144176],\"yaxis\":\"y\",\"type\":\"scatter\"},{\"alignmentgroup\":\"True\",\"bingroup\":\"y\",\"hovertemplate\":\"test=0003<br>eventPrecision=%{y}<br>count=%{x}<extra></extra>\",\"legendgroup\":\"0003\",\"marker\":{\"color\":\"#EF553B\"},\"name\":\"0003\",\"offsetgroup\":\"0003\",\"opacity\":0.5,\"showlegend\":false,\"xaxis\":\"x2\",\"y\":[0.8465974625144176],\"yaxis\":\"y2\",\"type\":\"histogram\"},{\"hovertemplate\":\"<b>%{hovertext}</b><br><br>test=0004<br>eventF1=%{x}<br>eventPrecision=%{y}<extra></extra>\",\"hovertext\":[\"8bcbbc8b-b83e-4b97-8f7c-0dd0760680e7\"],\"legendgroup\":\"0004\",\"marker\":{\"color\":\"#00cc96\",\"symbol\":\"circle\"},\"mode\":\"markers\",\"name\":\"0004\",\"orientation\":\"v\",\"showlegend\":true,\"x\":[0.7974025974025974],\"xaxis\":\"x\",\"y\":[0.8057742782152231],\"yaxis\":\"y\",\"type\":\"scatter\"},{\"alignmentgroup\":\"True\",\"bingroup\":\"y\",\"hovertemplate\":\"test=0004<br>eventPrecision=%{y}<br>count=%{x}<extra></extra>\",\"legendgroup\":\"0004\",\"marker\":{\"color\":\"#00cc96\"},\"name\":\"0004\",\"offsetgroup\":\"0004\",\"opacity\":0.5,\"showlegend\":false,\"xaxis\":\"x2\",\"y\":[0.8057742782152231],\"yaxis\":\"y2\",\"type\":\"histogram\"},{\"hovertemplate\":\"<b>%{hovertext}</b><br><br>test=0005<br>eventF1=%{x}<br>eventPrecision=%{y}<extra></extra>\",\"hovertext\":[\"f88ed731-de3a-4c9a-90d5-04d1fcd93d45\"],\"legendgroup\":\"0005\",\"marker\":{\"color\":\"#ab63fa\",\"symbol\":\"circle\"},\"mode\":\"markers\",\"name\":\"0005\",\"orientation\":\"v\",\"showlegend\":true,\"x\":[0.7080745341614907],\"xaxis\":\"x\",\"y\":[0.5711422845691383],\"yaxis\":\"y\",\"type\":\"scatter\"},{\"alignmentgroup\":\"True\",\"bingroup\":\"y\",\"hovertemplate\":\"test=0005<br>eventPrecision=%{y}<br>count=%{x}<extra></extra>\",\"legendgroup\":\"0005\",\"marker\":{\"color\":\"#ab63fa\"},\"name\":\"0005\",\"offsetgroup\":\"0005\",\"opacity\":0.5,\"showlegend\":false,\"xaxis\":\"x2\",\"y\":[0.5711422845691383],\"yaxis\":\"y2\",\"type\":\"histogram\"},{\"hovertemplate\":\"<b>%{hovertext}</b><br><br>test=0006<br>eventF1=%{x}<br>eventPrecision=%{y}<extra></extra>\",\"hovertext\":[\"16a691da-d735-4ad2-953c-db2678980107\"],\"legendgroup\":\"0006\",\"marker\":{\"color\":\"#FFA15A\",\"symbol\":\"circle\"},\"mode\":\"markers\",\"name\":\"0006\",\"orientation\":\"v\",\"showlegend\":true,\"x\":[0.719047619047619],\"xaxis\":\"x\",\"y\":[0.7259615384615384],\"yaxis\":\"y\",\"type\":\"scatter\"},{\"alignmentgroup\":\"True\",\"bingroup\":\"y\",\"hovertemplate\":\"test=0006<br>eventPrecision=%{y}<br>count=%{x}<extra></extra>\",\"legendgroup\":\"0006\",\"marker\":{\"color\":\"#FFA15A\"},\"name\":\"0006\",\"offsetgroup\":\"0006\",\"opacity\":0.5,\"showlegend\":false,\"xaxis\":\"x2\",\"y\":[0.7259615384615384],\"yaxis\":\"y2\",\"type\":\"histogram\"},{\"hovertemplate\":\"<b>%{hovertext}</b><br><br>test=0007<br>eventF1=%{x}<br>eventPrecision=%{y}<extra></extra>\",\"hovertext\":[\"d91f41ff-0308-46df-9bcd-67d46f377777\"],\"legendgroup\":\"0007\",\"marker\":{\"color\":\"#19d3f3\",\"symbol\":\"circle\"},\"mode\":\"markers\",\"name\":\"0007\",\"orientation\":\"v\",\"showlegend\":true,\"x\":[0.7235079171741778],\"xaxis\":\"x\",\"y\":[0.6456521739130435],\"yaxis\":\"y\",\"type\":\"scatter\"},{\"alignmentgroup\":\"True\",\"bingroup\":\"y\",\"hovertemplate\":\"test=0007<br>eventPrecision=%{y}<br>count=%{x}<extra></extra>\",\"legendgroup\":\"0007\",\"marker\":{\"color\":\"#19d3f3\"},\"name\":\"0007\",\"offsetgroup\":\"0007\",\"opacity\":0.5,\"showlegend\":false,\"xaxis\":\"x2\",\"y\":[0.6456521739130435],\"yaxis\":\"y2\",\"type\":\"histogram\"},{\"hovertemplate\":\"<b>%{hovertext}</b><br><br>test=0008<br>eventF1=%{x}<br>eventPrecision=%{y}<extra></extra>\",\"hovertext\":[\"a1eacac2-9e31-437a-9350-110d2ef2f1a5\"],\"legendgroup\":\"0008\",\"marker\":{\"color\":\"#FF6692\",\"symbol\":\"circle\"},\"mode\":\"markers\",\"name\":\"0008\",\"orientation\":\"v\",\"showlegend\":true,\"x\":[0.5333333333333333],\"xaxis\":\"x\",\"y\":[0.6451612903225806],\"yaxis\":\"y\",\"type\":\"scatter\"},{\"alignmentgroup\":\"True\",\"bingroup\":\"y\",\"hovertemplate\":\"test=0008<br>eventPrecision=%{y}<br>count=%{x}<extra></extra>\",\"legendgroup\":\"0008\",\"marker\":{\"color\":\"#FF6692\"},\"name\":\"0008\",\"offsetgroup\":\"0008\",\"opacity\":0.5,\"showlegend\":false,\"xaxis\":\"x2\",\"y\":[0.6451612903225806],\"yaxis\":\"y2\",\"type\":\"histogram\"},{\"fill\":\"toself\",\"mode\":\"lines\",\"name\":\"identity\",\"x\":[0.7299703264094956,0.874329958308517,0.7974025974025974,0.7080745341614907,0.719047619047619,0.7235079171741778,0.5333333333333333],\"y\":[0.7299703264094956,0.874329958308517,0.7974025974025974,0.7080745341614907,0.719047619047619,0.7235079171741778,0.5333333333333333],\"type\":\"scatter\"}],                        {\"template\":{\"data\":{\"histogram2dcontour\":[{\"type\":\"histogram2dcontour\",\"colorbar\":{\"outlinewidth\":0,\"ticks\":\"\"},\"colorscale\":[[0.0,\"#0d0887\"],[0.1111111111111111,\"#46039f\"],[0.2222222222222222,\"#7201a8\"],[0.3333333333333333,\"#9c179e\"],[0.4444444444444444,\"#bd3786\"],[0.5555555555555556,\"#d8576b\"],[0.6666666666666666,\"#ed7953\"],[0.7777777777777778,\"#fb9f3a\"],[0.8888888888888888,\"#fdca26\"],[1.0,\"#f0f921\"]]}],\"choropleth\":[{\"type\":\"choropleth\",\"colorbar\":{\"outlinewidth\":0,\"ticks\":\"\"}}],\"histogram2d\":[{\"type\":\"histogram2d\",\"colorbar\":{\"outlinewidth\":0,\"ticks\":\"\"},\"colorscale\":[[0.0,\"#0d0887\"],[0.1111111111111111,\"#46039f\"],[0.2222222222222222,\"#7201a8\"],[0.3333333333333333,\"#9c179e\"],[0.4444444444444444,\"#bd3786\"],[0.5555555555555556,\"#d8576b\"],[0.6666666666666666,\"#ed7953\"],[0.7777777777777778,\"#fb9f3a\"],[0.8888888888888888,\"#fdca26\"],[1.0,\"#f0f921\"]]}],\"heatmap\":[{\"type\":\"heatmap\",\"colorbar\":{\"outlinewidth\":0,\"ticks\":\"\"},\"colorscale\":[[0.0,\"#0d0887\"],[0.1111111111111111,\"#46039f\"],[0.2222222222222222,\"#7201a8\"],[0.3333333333333333,\"#9c179e\"],[0.4444444444444444,\"#bd3786\"],[0.5555555555555556,\"#d8576b\"],[0.6666666666666666,\"#ed7953\"],[0.7777777777777778,\"#fb9f3a\"],[0.8888888888888888,\"#fdca26\"],[1.0,\"#f0f921\"]]}],\"heatmapgl\":[{\"type\":\"heatmapgl\",\"colorbar\":{\"outlinewidth\":0,\"ticks\":\"\"},\"colorscale\":[[0.0,\"#0d0887\"],[0.1111111111111111,\"#46039f\"],[0.2222222222222222,\"#7201a8\"],[0.3333333333333333,\"#9c179e\"],[0.4444444444444444,\"#bd3786\"],[0.5555555555555556,\"#d8576b\"],[0.6666666666666666,\"#ed7953\"],[0.7777777777777778,\"#fb9f3a\"],[0.8888888888888888,\"#fdca26\"],[1.0,\"#f0f921\"]]}],\"contourcarpet\":[{\"type\":\"contourcarpet\",\"colorbar\":{\"outlinewidth\":0,\"ticks\":\"\"}}],\"contour\":[{\"type\":\"contour\",\"colorbar\":{\"outlinewidth\":0,\"ticks\":\"\"},\"colorscale\":[[0.0,\"#0d0887\"],[0.1111111111111111,\"#46039f\"],[0.2222222222222222,\"#7201a8\"],[0.3333333333333333,\"#9c179e\"],[0.4444444444444444,\"#bd3786\"],[0.5555555555555556,\"#d8576b\"],[0.6666666666666666,\"#ed7953\"],[0.7777777777777778,\"#fb9f3a\"],[0.8888888888888888,\"#fdca26\"],[1.0,\"#f0f921\"]]}],\"surface\":[{\"type\":\"surface\",\"colorbar\":{\"outlinewidth\":0,\"ticks\":\"\"},\"colorscale\":[[0.0,\"#0d0887\"],[0.1111111111111111,\"#46039f\"],[0.2222222222222222,\"#7201a8\"],[0.3333333333333333,\"#9c179e\"],[0.4444444444444444,\"#bd3786\"],[0.5555555555555556,\"#d8576b\"],[0.6666666666666666,\"#ed7953\"],[0.7777777777777778,\"#fb9f3a\"],[0.8888888888888888,\"#fdca26\"],[1.0,\"#f0f921\"]]}],\"mesh3d\":[{\"type\":\"mesh3d\",\"colorbar\":{\"outlinewidth\":0,\"ticks\":\"\"}}],\"scatter\":[{\"marker\":{\"line\":{\"color\":\"#283442\"}},\"type\":\"scatter\"}],\"parcoords\":[{\"type\":\"parcoords\",\"line\":{\"colorbar\":{\"outlinewidth\":0,\"ticks\":\"\"}}}],\"scatterpolargl\":[{\"type\":\"scatterpolargl\",\"marker\":{\"colorbar\":{\"outlinewidth\":0,\"ticks\":\"\"}}}],\"bar\":[{\"error_x\":{\"color\":\"#f2f5fa\"},\"error_y\":{\"color\":\"#f2f5fa\"},\"marker\":{\"line\":{\"color\":\"rgb(17,17,17)\",\"width\":0.5},\"pattern\":{\"fillmode\":\"overlay\",\"size\":10,\"solidity\":0.2}},\"type\":\"bar\"}],\"scattergeo\":[{\"type\":\"scattergeo\",\"marker\":{\"colorbar\":{\"outlinewidth\":0,\"ticks\":\"\"}}}],\"scatterpolar\":[{\"type\":\"scatterpolar\",\"marker\":{\"colorbar\":{\"outlinewidth\":0,\"ticks\":\"\"}}}],\"histogram\":[{\"marker\":{\"pattern\":{\"fillmode\":\"overlay\",\"size\":10,\"solidity\":0.2}},\"type\":\"histogram\"}],\"scattergl\":[{\"marker\":{\"line\":{\"color\":\"#283442\"}},\"type\":\"scattergl\"}],\"scatter3d\":[{\"type\":\"scatter3d\",\"line\":{\"colorbar\":{\"outlinewidth\":0,\"ticks\":\"\"}},\"marker\":{\"colorbar\":{\"outlinewidth\":0,\"ticks\":\"\"}}}],\"scattermapbox\":[{\"type\":\"scattermapbox\",\"marker\":{\"colorbar\":{\"outlinewidth\":0,\"ticks\":\"\"}}}],\"scatterternary\":[{\"type\":\"scatterternary\",\"marker\":{\"colorbar\":{\"outlinewidth\":0,\"ticks\":\"\"}}}],\"scattercarpet\":[{\"type\":\"scattercarpet\",\"marker\":{\"colorbar\":{\"outlinewidth\":0,\"ticks\":\"\"}}}],\"carpet\":[{\"aaxis\":{\"endlinecolor\":\"#A2B1C6\",\"gridcolor\":\"#506784\",\"linecolor\":\"#506784\",\"minorgridcolor\":\"#506784\",\"startlinecolor\":\"#A2B1C6\"},\"baxis\":{\"endlinecolor\":\"#A2B1C6\",\"gridcolor\":\"#506784\",\"linecolor\":\"#506784\",\"minorgridcolor\":\"#506784\",\"startlinecolor\":\"#A2B1C6\"},\"type\":\"carpet\"}],\"table\":[{\"cells\":{\"fill\":{\"color\":\"#506784\"},\"line\":{\"color\":\"rgb(17,17,17)\"}},\"header\":{\"fill\":{\"color\":\"#2a3f5f\"},\"line\":{\"color\":\"rgb(17,17,17)\"}},\"type\":\"table\"}],\"barpolar\":[{\"marker\":{\"line\":{\"color\":\"rgb(17,17,17)\",\"width\":0.5},\"pattern\":{\"fillmode\":\"overlay\",\"size\":10,\"solidity\":0.2}},\"type\":\"barpolar\"}],\"pie\":[{\"automargin\":true,\"type\":\"pie\"}]},\"layout\":{\"autotypenumbers\":\"strict\",\"colorway\":[\"#636efa\",\"#EF553B\",\"#00cc96\",\"#ab63fa\",\"#FFA15A\",\"#19d3f3\",\"#FF6692\",\"#B6E880\",\"#FF97FF\",\"#FECB52\"],\"font\":{\"color\":\"#f2f5fa\"},\"hovermode\":\"closest\",\"hoverlabel\":{\"align\":\"left\"},\"paper_bgcolor\":\"rgb(17,17,17)\",\"plot_bgcolor\":\"rgb(17,17,17)\",\"polar\":{\"bgcolor\":\"rgb(17,17,17)\",\"angularaxis\":{\"gridcolor\":\"#506784\",\"linecolor\":\"#506784\",\"ticks\":\"\"},\"radialaxis\":{\"gridcolor\":\"#506784\",\"linecolor\":\"#506784\",\"ticks\":\"\"}},\"ternary\":{\"bgcolor\":\"rgb(17,17,17)\",\"aaxis\":{\"gridcolor\":\"#506784\",\"linecolor\":\"#506784\",\"ticks\":\"\"},\"baxis\":{\"gridcolor\":\"#506784\",\"linecolor\":\"#506784\",\"ticks\":\"\"},\"caxis\":{\"gridcolor\":\"#506784\",\"linecolor\":\"#506784\",\"ticks\":\"\"}},\"coloraxis\":{\"colorbar\":{\"outlinewidth\":0,\"ticks\":\"\"}},\"colorscale\":{\"sequential\":[[0.0,\"#0d0887\"],[0.1111111111111111,\"#46039f\"],[0.2222222222222222,\"#7201a8\"],[0.3333333333333333,\"#9c179e\"],[0.4444444444444444,\"#bd3786\"],[0.5555555555555556,\"#d8576b\"],[0.6666666666666666,\"#ed7953\"],[0.7777777777777778,\"#fb9f3a\"],[0.8888888888888888,\"#fdca26\"],[1.0,\"#f0f921\"]],\"sequentialminus\":[[0.0,\"#0d0887\"],[0.1111111111111111,\"#46039f\"],[0.2222222222222222,\"#7201a8\"],[0.3333333333333333,\"#9c179e\"],[0.4444444444444444,\"#bd3786\"],[0.5555555555555556,\"#d8576b\"],[0.6666666666666666,\"#ed7953\"],[0.7777777777777778,\"#fb9f3a\"],[0.8888888888888888,\"#fdca26\"],[1.0,\"#f0f921\"]],\"diverging\":[[0,\"#8e0152\"],[0.1,\"#c51b7d\"],[0.2,\"#de77ae\"],[0.3,\"#f1b6da\"],[0.4,\"#fde0ef\"],[0.5,\"#f7f7f7\"],[0.6,\"#e6f5d0\"],[0.7,\"#b8e186\"],[0.8,\"#7fbc41\"],[0.9,\"#4d9221\"],[1,\"#276419\"]]},\"xaxis\":{\"gridcolor\":\"#283442\",\"linecolor\":\"#506784\",\"ticks\":\"\",\"title\":{\"standoff\":15},\"zerolinecolor\":\"#283442\",\"automargin\":true,\"zerolinewidth\":2},\"yaxis\":{\"gridcolor\":\"#283442\",\"linecolor\":\"#506784\",\"ticks\":\"\",\"title\":{\"standoff\":15},\"zerolinecolor\":\"#283442\",\"automargin\":true,\"zerolinewidth\":2},\"scene\":{\"xaxis\":{\"backgroundcolor\":\"rgb(17,17,17)\",\"gridcolor\":\"#506784\",\"linecolor\":\"#506784\",\"showbackground\":true,\"ticks\":\"\",\"zerolinecolor\":\"#C8D4E3\",\"gridwidth\":2},\"yaxis\":{\"backgroundcolor\":\"rgb(17,17,17)\",\"gridcolor\":\"#506784\",\"linecolor\":\"#506784\",\"showbackground\":true,\"ticks\":\"\",\"zerolinecolor\":\"#C8D4E3\",\"gridwidth\":2},\"zaxis\":{\"backgroundcolor\":\"rgb(17,17,17)\",\"gridcolor\":\"#506784\",\"linecolor\":\"#506784\",\"showbackground\":true,\"ticks\":\"\",\"zerolinecolor\":\"#C8D4E3\",\"gridwidth\":2}},\"shapedefaults\":{\"line\":{\"color\":\"#f2f5fa\"}},\"annotationdefaults\":{\"arrowcolor\":\"#f2f5fa\",\"arrowhead\":0,\"arrowwidth\":1},\"geo\":{\"bgcolor\":\"rgb(17,17,17)\",\"landcolor\":\"rgb(17,17,17)\",\"subunitcolor\":\"#506784\",\"showland\":true,\"showlakes\":true,\"lakecolor\":\"rgb(17,17,17)\"},\"title\":{\"x\":0.05},\"updatemenudefaults\":{\"bgcolor\":\"#506784\",\"borderwidth\":0},\"sliderdefaults\":{\"bgcolor\":\"#C8D4E3\",\"borderwidth\":1,\"bordercolor\":\"rgb(17,17,17)\",\"tickwidth\":0},\"mapbox\":{\"style\":\"dark\"}}},\"xaxis\":{\"anchor\":\"y\",\"domain\":[0.0,0.7363],\"title\":{\"text\":\"eventF1\"}},\"yaxis\":{\"anchor\":\"x\",\"domain\":[0.0,1.0],\"title\":{\"text\":\"eventPrecision\"}},\"xaxis2\":{\"anchor\":\"y2\",\"domain\":[0.7413,1.0],\"matches\":\"x2\",\"showticklabels\":false,\"showline\":false,\"ticks\":\"\",\"showgrid\":true},\"yaxis2\":{\"anchor\":\"x2\",\"domain\":[0.0,1.0],\"matches\":\"y\",\"showticklabels\":false,\"showgrid\":true},\"legend\":{\"title\":{\"text\":\"test\"},\"tracegroupgap\":0},\"margin\":{\"t\":60},\"barmode\":\"overlay\"},                        {\"responsive\": true}                    ).then(function(){\n",
       "                            \n",
       "var gd = document.getElementById('82f20f48-787c-4efe-91f4-e318534ae653');\n",
       "var x = new MutationObserver(function (mutations, observer) {{\n",
       "        var display = window.getComputedStyle(gd).display;\n",
       "        if (!display || display === 'none') {{\n",
       "            console.log([gd, 'removed!']);\n",
       "            Plotly.purge(gd);\n",
       "            observer.disconnect();\n",
       "        }}\n",
       "}});\n",
       "\n",
       "// Listen for the removal of the full notebook cells\n",
       "var notebookContainer = gd.closest('#notebook-container');\n",
       "if (notebookContainer) {{\n",
       "    x.observe(notebookContainer, {childList: true});\n",
       "}}\n",
       "\n",
       "// Listen for the clearing of the current output cell\n",
       "var outputEl = gd.closest('.output');\n",
       "if (outputEl) {{\n",
       "    x.observe(outputEl, {childList: true});\n",
       "}}\n",
       "\n",
       "                        })                };                });            </script>        </div>"
      ]
     },
     "metadata": {},
     "output_type": "display_data"
    }
   ],
   "execution_count": 61
  },
  {
   "metadata": {
    "ExecuteTime": {
     "end_time": "2025-01-13T12:37:10.303063Z",
     "start_time": "2025-01-13T12:37:10.257354Z"
    }
   },
   "cell_type": "code",
   "source": [
    "fig=px.scatter(experimentModels_N2,x='eventF1',y='eventRecall',color='test',hover_name='modelId', marginal_y=\"histogram\")\n",
    "fig.add_trace(\n",
    "    go.Scatter(x=experimentModels_N2['eventF1'], y=experimentModels_N2['eventF1'], name=\"identity\", mode='lines',fill=\"toself\")\n",
    ")\n",
    "fig.show()"
   ],
   "outputs": [
    {
     "data": {
      "application/vnd.plotly.v1+json": {
       "data": [
        {
         "hovertemplate": "<b>%{hovertext}</b><br><br>test=0002<br>eventF1=%{x}<br>eventRecall=%{y}<extra></extra>",
         "hovertext": [
          "a4659423-83e4-4da3-91b5-177fa8bc17fe"
         ],
         "legendgroup": "0002",
         "marker": {
          "color": "#636efa",
          "symbol": "circle"
         },
         "mode": "markers",
         "name": "0002",
         "orientation": "v",
         "showlegend": true,
         "x": [
          0.7299703264094956
         ],
         "xaxis": "x",
         "y": [
          0.6373056994818653
         ],
         "yaxis": "y",
         "type": "scatter"
        },
        {
         "alignmentgroup": "True",
         "bingroup": "y",
         "hovertemplate": "test=0002<br>eventRecall=%{y}<br>count=%{x}<extra></extra>",
         "legendgroup": "0002",
         "marker": {
          "color": "#636efa"
         },
         "name": "0002",
         "offsetgroup": "0002",
         "opacity": 0.5,
         "showlegend": false,
         "xaxis": "x2",
         "y": [
          0.6373056994818653
         ],
         "yaxis": "y2",
         "type": "histogram"
        },
        {
         "hovertemplate": "<b>%{hovertext}</b><br><br>test=0003<br>eventF1=%{x}<br>eventRecall=%{y}<extra></extra>",
         "hovertext": [
          "ad3be387-5be4-4e8e-b57d-072003b617d3"
         ],
         "legendgroup": "0003",
         "marker": {
          "color": "#EF553B",
          "symbol": "circle"
         },
         "mode": "markers",
         "name": "0003",
         "orientation": "v",
         "showlegend": true,
         "x": [
          0.874329958308517
         ],
         "xaxis": "x",
         "y": [
          0.9039408866995073
         ],
         "yaxis": "y",
         "type": "scatter"
        },
        {
         "alignmentgroup": "True",
         "bingroup": "y",
         "hovertemplate": "test=0003<br>eventRecall=%{y}<br>count=%{x}<extra></extra>",
         "legendgroup": "0003",
         "marker": {
          "color": "#EF553B"
         },
         "name": "0003",
         "offsetgroup": "0003",
         "opacity": 0.5,
         "showlegend": false,
         "xaxis": "x2",
         "y": [
          0.9039408866995073
         ],
         "yaxis": "y2",
         "type": "histogram"
        },
        {
         "hovertemplate": "<b>%{hovertext}</b><br><br>test=0004<br>eventF1=%{x}<br>eventRecall=%{y}<extra></extra>",
         "hovertext": [
          "8bcbbc8b-b83e-4b97-8f7c-0dd0760680e7"
         ],
         "legendgroup": "0004",
         "marker": {
          "color": "#00cc96",
          "symbol": "circle"
         },
         "mode": "markers",
         "name": "0004",
         "orientation": "v",
         "showlegend": true,
         "x": [
          0.7974025974025974
         ],
         "xaxis": "x",
         "y": [
          0.7892030848329049
         ],
         "yaxis": "y",
         "type": "scatter"
        },
        {
         "alignmentgroup": "True",
         "bingroup": "y",
         "hovertemplate": "test=0004<br>eventRecall=%{y}<br>count=%{x}<extra></extra>",
         "legendgroup": "0004",
         "marker": {
          "color": "#00cc96"
         },
         "name": "0004",
         "offsetgroup": "0004",
         "opacity": 0.5,
         "showlegend": false,
         "xaxis": "x2",
         "y": [
          0.7892030848329049
         ],
         "yaxis": "y2",
         "type": "histogram"
        },
        {
         "hovertemplate": "<b>%{hovertext}</b><br><br>test=0005<br>eventF1=%{x}<br>eventRecall=%{y}<extra></extra>",
         "hovertext": [
          "f88ed731-de3a-4c9a-90d5-04d1fcd93d45"
         ],
         "legendgroup": "0005",
         "marker": {
          "color": "#ab63fa",
          "symbol": "circle"
         },
         "mode": "markers",
         "name": "0005",
         "orientation": "v",
         "showlegend": true,
         "x": [
          0.7080745341614907
         ],
         "xaxis": "x",
         "y": [
          0.9313725490196079
         ],
         "yaxis": "y",
         "type": "scatter"
        },
        {
         "alignmentgroup": "True",
         "bingroup": "y",
         "hovertemplate": "test=0005<br>eventRecall=%{y}<br>count=%{x}<extra></extra>",
         "legendgroup": "0005",
         "marker": {
          "color": "#ab63fa"
         },
         "name": "0005",
         "offsetgroup": "0005",
         "opacity": 0.5,
         "showlegend": false,
         "xaxis": "x2",
         "y": [
          0.9313725490196079
         ],
         "yaxis": "y2",
         "type": "histogram"
        },
        {
         "hovertemplate": "<b>%{hovertext}</b><br><br>test=0006<br>eventF1=%{x}<br>eventRecall=%{y}<extra></extra>",
         "hovertext": [
          "16a691da-d735-4ad2-953c-db2678980107"
         ],
         "legendgroup": "0006",
         "marker": {
          "color": "#FFA15A",
          "symbol": "circle"
         },
         "mode": "markers",
         "name": "0006",
         "orientation": "v",
         "showlegend": true,
         "x": [
          0.719047619047619
         ],
         "xaxis": "x",
         "y": [
          0.7122641509433962
         ],
         "yaxis": "y",
         "type": "scatter"
        },
        {
         "alignmentgroup": "True",
         "bingroup": "y",
         "hovertemplate": "test=0006<br>eventRecall=%{y}<br>count=%{x}<extra></extra>",
         "legendgroup": "0006",
         "marker": {
          "color": "#FFA15A"
         },
         "name": "0006",
         "offsetgroup": "0006",
         "opacity": 0.5,
         "showlegend": false,
         "xaxis": "x2",
         "y": [
          0.7122641509433962
         ],
         "yaxis": "y2",
         "type": "histogram"
        },
        {
         "hovertemplate": "<b>%{hovertext}</b><br><br>test=0007<br>eventF1=%{x}<br>eventRecall=%{y}<extra></extra>",
         "hovertext": [
          "d91f41ff-0308-46df-9bcd-67d46f377777"
         ],
         "legendgroup": "0007",
         "marker": {
          "color": "#19d3f3",
          "symbol": "circle"
         },
         "mode": "markers",
         "name": "0007",
         "orientation": "v",
         "showlegend": true,
         "x": [
          0.7235079171741778
         ],
         "xaxis": "x",
         "y": [
          0.8227146814404432
         ],
         "yaxis": "y",
         "type": "scatter"
        },
        {
         "alignmentgroup": "True",
         "bingroup": "y",
         "hovertemplate": "test=0007<br>eventRecall=%{y}<br>count=%{x}<extra></extra>",
         "legendgroup": "0007",
         "marker": {
          "color": "#19d3f3"
         },
         "name": "0007",
         "offsetgroup": "0007",
         "opacity": 0.5,
         "showlegend": false,
         "xaxis": "x2",
         "y": [
          0.8227146814404432
         ],
         "yaxis": "y2",
         "type": "histogram"
        },
        {
         "hovertemplate": "<b>%{hovertext}</b><br><br>test=0008<br>eventF1=%{x}<br>eventRecall=%{y}<extra></extra>",
         "hovertext": [
          "a1eacac2-9e31-437a-9350-110d2ef2f1a5"
         ],
         "legendgroup": "0008",
         "marker": {
          "color": "#FF6692",
          "symbol": "circle"
         },
         "mode": "markers",
         "name": "0008",
         "orientation": "v",
         "showlegend": true,
         "x": [
          0.5333333333333333
         ],
         "xaxis": "x",
         "y": [
          0.45454545454545453
         ],
         "yaxis": "y",
         "type": "scatter"
        },
        {
         "alignmentgroup": "True",
         "bingroup": "y",
         "hovertemplate": "test=0008<br>eventRecall=%{y}<br>count=%{x}<extra></extra>",
         "legendgroup": "0008",
         "marker": {
          "color": "#FF6692"
         },
         "name": "0008",
         "offsetgroup": "0008",
         "opacity": 0.5,
         "showlegend": false,
         "xaxis": "x2",
         "y": [
          0.45454545454545453
         ],
         "yaxis": "y2",
         "type": "histogram"
        },
        {
         "fill": "toself",
         "mode": "lines",
         "name": "identity",
         "x": [
          0.7299703264094956,
          0.874329958308517,
          0.7974025974025974,
          0.7080745341614907,
          0.719047619047619,
          0.7235079171741778,
          0.5333333333333333
         ],
         "y": [
          0.7299703264094956,
          0.874329958308517,
          0.7974025974025974,
          0.7080745341614907,
          0.719047619047619,
          0.7235079171741778,
          0.5333333333333333
         ],
         "type": "scatter"
        }
       ],
       "layout": {
        "template": {
         "data": {
          "histogram2dcontour": [
           {
            "type": "histogram2dcontour",
            "colorbar": {
             "outlinewidth": 0,
             "ticks": ""
            },
            "colorscale": [
             [
              0.0,
              "#0d0887"
             ],
             [
              0.1111111111111111,
              "#46039f"
             ],
             [
              0.2222222222222222,
              "#7201a8"
             ],
             [
              0.3333333333333333,
              "#9c179e"
             ],
             [
              0.4444444444444444,
              "#bd3786"
             ],
             [
              0.5555555555555556,
              "#d8576b"
             ],
             [
              0.6666666666666666,
              "#ed7953"
             ],
             [
              0.7777777777777778,
              "#fb9f3a"
             ],
             [
              0.8888888888888888,
              "#fdca26"
             ],
             [
              1.0,
              "#f0f921"
             ]
            ]
           }
          ],
          "choropleth": [
           {
            "type": "choropleth",
            "colorbar": {
             "outlinewidth": 0,
             "ticks": ""
            }
           }
          ],
          "histogram2d": [
           {
            "type": "histogram2d",
            "colorbar": {
             "outlinewidth": 0,
             "ticks": ""
            },
            "colorscale": [
             [
              0.0,
              "#0d0887"
             ],
             [
              0.1111111111111111,
              "#46039f"
             ],
             [
              0.2222222222222222,
              "#7201a8"
             ],
             [
              0.3333333333333333,
              "#9c179e"
             ],
             [
              0.4444444444444444,
              "#bd3786"
             ],
             [
              0.5555555555555556,
              "#d8576b"
             ],
             [
              0.6666666666666666,
              "#ed7953"
             ],
             [
              0.7777777777777778,
              "#fb9f3a"
             ],
             [
              0.8888888888888888,
              "#fdca26"
             ],
             [
              1.0,
              "#f0f921"
             ]
            ]
           }
          ],
          "heatmap": [
           {
            "type": "heatmap",
            "colorbar": {
             "outlinewidth": 0,
             "ticks": ""
            },
            "colorscale": [
             [
              0.0,
              "#0d0887"
             ],
             [
              0.1111111111111111,
              "#46039f"
             ],
             [
              0.2222222222222222,
              "#7201a8"
             ],
             [
              0.3333333333333333,
              "#9c179e"
             ],
             [
              0.4444444444444444,
              "#bd3786"
             ],
             [
              0.5555555555555556,
              "#d8576b"
             ],
             [
              0.6666666666666666,
              "#ed7953"
             ],
             [
              0.7777777777777778,
              "#fb9f3a"
             ],
             [
              0.8888888888888888,
              "#fdca26"
             ],
             [
              1.0,
              "#f0f921"
             ]
            ]
           }
          ],
          "heatmapgl": [
           {
            "type": "heatmapgl",
            "colorbar": {
             "outlinewidth": 0,
             "ticks": ""
            },
            "colorscale": [
             [
              0.0,
              "#0d0887"
             ],
             [
              0.1111111111111111,
              "#46039f"
             ],
             [
              0.2222222222222222,
              "#7201a8"
             ],
             [
              0.3333333333333333,
              "#9c179e"
             ],
             [
              0.4444444444444444,
              "#bd3786"
             ],
             [
              0.5555555555555556,
              "#d8576b"
             ],
             [
              0.6666666666666666,
              "#ed7953"
             ],
             [
              0.7777777777777778,
              "#fb9f3a"
             ],
             [
              0.8888888888888888,
              "#fdca26"
             ],
             [
              1.0,
              "#f0f921"
             ]
            ]
           }
          ],
          "contourcarpet": [
           {
            "type": "contourcarpet",
            "colorbar": {
             "outlinewidth": 0,
             "ticks": ""
            }
           }
          ],
          "contour": [
           {
            "type": "contour",
            "colorbar": {
             "outlinewidth": 0,
             "ticks": ""
            },
            "colorscale": [
             [
              0.0,
              "#0d0887"
             ],
             [
              0.1111111111111111,
              "#46039f"
             ],
             [
              0.2222222222222222,
              "#7201a8"
             ],
             [
              0.3333333333333333,
              "#9c179e"
             ],
             [
              0.4444444444444444,
              "#bd3786"
             ],
             [
              0.5555555555555556,
              "#d8576b"
             ],
             [
              0.6666666666666666,
              "#ed7953"
             ],
             [
              0.7777777777777778,
              "#fb9f3a"
             ],
             [
              0.8888888888888888,
              "#fdca26"
             ],
             [
              1.0,
              "#f0f921"
             ]
            ]
           }
          ],
          "surface": [
           {
            "type": "surface",
            "colorbar": {
             "outlinewidth": 0,
             "ticks": ""
            },
            "colorscale": [
             [
              0.0,
              "#0d0887"
             ],
             [
              0.1111111111111111,
              "#46039f"
             ],
             [
              0.2222222222222222,
              "#7201a8"
             ],
             [
              0.3333333333333333,
              "#9c179e"
             ],
             [
              0.4444444444444444,
              "#bd3786"
             ],
             [
              0.5555555555555556,
              "#d8576b"
             ],
             [
              0.6666666666666666,
              "#ed7953"
             ],
             [
              0.7777777777777778,
              "#fb9f3a"
             ],
             [
              0.8888888888888888,
              "#fdca26"
             ],
             [
              1.0,
              "#f0f921"
             ]
            ]
           }
          ],
          "mesh3d": [
           {
            "type": "mesh3d",
            "colorbar": {
             "outlinewidth": 0,
             "ticks": ""
            }
           }
          ],
          "scatter": [
           {
            "marker": {
             "line": {
              "color": "#283442"
             }
            },
            "type": "scatter"
           }
          ],
          "parcoords": [
           {
            "type": "parcoords",
            "line": {
             "colorbar": {
              "outlinewidth": 0,
              "ticks": ""
             }
            }
           }
          ],
          "scatterpolargl": [
           {
            "type": "scatterpolargl",
            "marker": {
             "colorbar": {
              "outlinewidth": 0,
              "ticks": ""
             }
            }
           }
          ],
          "bar": [
           {
            "error_x": {
             "color": "#f2f5fa"
            },
            "error_y": {
             "color": "#f2f5fa"
            },
            "marker": {
             "line": {
              "color": "rgb(17,17,17)",
              "width": 0.5
             },
             "pattern": {
              "fillmode": "overlay",
              "size": 10,
              "solidity": 0.2
             }
            },
            "type": "bar"
           }
          ],
          "scattergeo": [
           {
            "type": "scattergeo",
            "marker": {
             "colorbar": {
              "outlinewidth": 0,
              "ticks": ""
             }
            }
           }
          ],
          "scatterpolar": [
           {
            "type": "scatterpolar",
            "marker": {
             "colorbar": {
              "outlinewidth": 0,
              "ticks": ""
             }
            }
           }
          ],
          "histogram": [
           {
            "marker": {
             "pattern": {
              "fillmode": "overlay",
              "size": 10,
              "solidity": 0.2
             }
            },
            "type": "histogram"
           }
          ],
          "scattergl": [
           {
            "marker": {
             "line": {
              "color": "#283442"
             }
            },
            "type": "scattergl"
           }
          ],
          "scatter3d": [
           {
            "type": "scatter3d",
            "line": {
             "colorbar": {
              "outlinewidth": 0,
              "ticks": ""
             }
            },
            "marker": {
             "colorbar": {
              "outlinewidth": 0,
              "ticks": ""
             }
            }
           }
          ],
          "scattermapbox": [
           {
            "type": "scattermapbox",
            "marker": {
             "colorbar": {
              "outlinewidth": 0,
              "ticks": ""
             }
            }
           }
          ],
          "scatterternary": [
           {
            "type": "scatterternary",
            "marker": {
             "colorbar": {
              "outlinewidth": 0,
              "ticks": ""
             }
            }
           }
          ],
          "scattercarpet": [
           {
            "type": "scattercarpet",
            "marker": {
             "colorbar": {
              "outlinewidth": 0,
              "ticks": ""
             }
            }
           }
          ],
          "carpet": [
           {
            "aaxis": {
             "endlinecolor": "#A2B1C6",
             "gridcolor": "#506784",
             "linecolor": "#506784",
             "minorgridcolor": "#506784",
             "startlinecolor": "#A2B1C6"
            },
            "baxis": {
             "endlinecolor": "#A2B1C6",
             "gridcolor": "#506784",
             "linecolor": "#506784",
             "minorgridcolor": "#506784",
             "startlinecolor": "#A2B1C6"
            },
            "type": "carpet"
           }
          ],
          "table": [
           {
            "cells": {
             "fill": {
              "color": "#506784"
             },
             "line": {
              "color": "rgb(17,17,17)"
             }
            },
            "header": {
             "fill": {
              "color": "#2a3f5f"
             },
             "line": {
              "color": "rgb(17,17,17)"
             }
            },
            "type": "table"
           }
          ],
          "barpolar": [
           {
            "marker": {
             "line": {
              "color": "rgb(17,17,17)",
              "width": 0.5
             },
             "pattern": {
              "fillmode": "overlay",
              "size": 10,
              "solidity": 0.2
             }
            },
            "type": "barpolar"
           }
          ],
          "pie": [
           {
            "automargin": true,
            "type": "pie"
           }
          ]
         },
         "layout": {
          "autotypenumbers": "strict",
          "colorway": [
           "#636efa",
           "#EF553B",
           "#00cc96",
           "#ab63fa",
           "#FFA15A",
           "#19d3f3",
           "#FF6692",
           "#B6E880",
           "#FF97FF",
           "#FECB52"
          ],
          "font": {
           "color": "#f2f5fa"
          },
          "hovermode": "closest",
          "hoverlabel": {
           "align": "left"
          },
          "paper_bgcolor": "rgb(17,17,17)",
          "plot_bgcolor": "rgb(17,17,17)",
          "polar": {
           "bgcolor": "rgb(17,17,17)",
           "angularaxis": {
            "gridcolor": "#506784",
            "linecolor": "#506784",
            "ticks": ""
           },
           "radialaxis": {
            "gridcolor": "#506784",
            "linecolor": "#506784",
            "ticks": ""
           }
          },
          "ternary": {
           "bgcolor": "rgb(17,17,17)",
           "aaxis": {
            "gridcolor": "#506784",
            "linecolor": "#506784",
            "ticks": ""
           },
           "baxis": {
            "gridcolor": "#506784",
            "linecolor": "#506784",
            "ticks": ""
           },
           "caxis": {
            "gridcolor": "#506784",
            "linecolor": "#506784",
            "ticks": ""
           }
          },
          "coloraxis": {
           "colorbar": {
            "outlinewidth": 0,
            "ticks": ""
           }
          },
          "colorscale": {
           "sequential": [
            [
             0.0,
             "#0d0887"
            ],
            [
             0.1111111111111111,
             "#46039f"
            ],
            [
             0.2222222222222222,
             "#7201a8"
            ],
            [
             0.3333333333333333,
             "#9c179e"
            ],
            [
             0.4444444444444444,
             "#bd3786"
            ],
            [
             0.5555555555555556,
             "#d8576b"
            ],
            [
             0.6666666666666666,
             "#ed7953"
            ],
            [
             0.7777777777777778,
             "#fb9f3a"
            ],
            [
             0.8888888888888888,
             "#fdca26"
            ],
            [
             1.0,
             "#f0f921"
            ]
           ],
           "sequentialminus": [
            [
             0.0,
             "#0d0887"
            ],
            [
             0.1111111111111111,
             "#46039f"
            ],
            [
             0.2222222222222222,
             "#7201a8"
            ],
            [
             0.3333333333333333,
             "#9c179e"
            ],
            [
             0.4444444444444444,
             "#bd3786"
            ],
            [
             0.5555555555555556,
             "#d8576b"
            ],
            [
             0.6666666666666666,
             "#ed7953"
            ],
            [
             0.7777777777777778,
             "#fb9f3a"
            ],
            [
             0.8888888888888888,
             "#fdca26"
            ],
            [
             1.0,
             "#f0f921"
            ]
           ],
           "diverging": [
            [
             0,
             "#8e0152"
            ],
            [
             0.1,
             "#c51b7d"
            ],
            [
             0.2,
             "#de77ae"
            ],
            [
             0.3,
             "#f1b6da"
            ],
            [
             0.4,
             "#fde0ef"
            ],
            [
             0.5,
             "#f7f7f7"
            ],
            [
             0.6,
             "#e6f5d0"
            ],
            [
             0.7,
             "#b8e186"
            ],
            [
             0.8,
             "#7fbc41"
            ],
            [
             0.9,
             "#4d9221"
            ],
            [
             1,
             "#276419"
            ]
           ]
          },
          "xaxis": {
           "gridcolor": "#283442",
           "linecolor": "#506784",
           "ticks": "",
           "title": {
            "standoff": 15
           },
           "zerolinecolor": "#283442",
           "automargin": true,
           "zerolinewidth": 2
          },
          "yaxis": {
           "gridcolor": "#283442",
           "linecolor": "#506784",
           "ticks": "",
           "title": {
            "standoff": 15
           },
           "zerolinecolor": "#283442",
           "automargin": true,
           "zerolinewidth": 2
          },
          "scene": {
           "xaxis": {
            "backgroundcolor": "rgb(17,17,17)",
            "gridcolor": "#506784",
            "linecolor": "#506784",
            "showbackground": true,
            "ticks": "",
            "zerolinecolor": "#C8D4E3",
            "gridwidth": 2
           },
           "yaxis": {
            "backgroundcolor": "rgb(17,17,17)",
            "gridcolor": "#506784",
            "linecolor": "#506784",
            "showbackground": true,
            "ticks": "",
            "zerolinecolor": "#C8D4E3",
            "gridwidth": 2
           },
           "zaxis": {
            "backgroundcolor": "rgb(17,17,17)",
            "gridcolor": "#506784",
            "linecolor": "#506784",
            "showbackground": true,
            "ticks": "",
            "zerolinecolor": "#C8D4E3",
            "gridwidth": 2
           }
          },
          "shapedefaults": {
           "line": {
            "color": "#f2f5fa"
           }
          },
          "annotationdefaults": {
           "arrowcolor": "#f2f5fa",
           "arrowhead": 0,
           "arrowwidth": 1
          },
          "geo": {
           "bgcolor": "rgb(17,17,17)",
           "landcolor": "rgb(17,17,17)",
           "subunitcolor": "#506784",
           "showland": true,
           "showlakes": true,
           "lakecolor": "rgb(17,17,17)"
          },
          "title": {
           "x": 0.05
          },
          "updatemenudefaults": {
           "bgcolor": "#506784",
           "borderwidth": 0
          },
          "sliderdefaults": {
           "bgcolor": "#C8D4E3",
           "borderwidth": 1,
           "bordercolor": "rgb(17,17,17)",
           "tickwidth": 0
          },
          "mapbox": {
           "style": "dark"
          }
         }
        },
        "xaxis": {
         "anchor": "y",
         "domain": [
          0.0,
          0.7363
         ],
         "title": {
          "text": "eventF1"
         }
        },
        "yaxis": {
         "anchor": "x",
         "domain": [
          0.0,
          1.0
         ],
         "title": {
          "text": "eventRecall"
         }
        },
        "xaxis2": {
         "anchor": "y2",
         "domain": [
          0.7413,
          1.0
         ],
         "matches": "x2",
         "showticklabels": false,
         "showline": false,
         "ticks": "",
         "showgrid": true
        },
        "yaxis2": {
         "anchor": "x2",
         "domain": [
          0.0,
          1.0
         ],
         "matches": "y",
         "showticklabels": false,
         "showgrid": true
        },
        "legend": {
         "title": {
          "text": "test"
         },
         "tracegroupgap": 0
        },
        "margin": {
         "t": 60
        },
        "barmode": "overlay"
       },
       "config": {
        "plotlyServerURL": "https://plot.ly"
       }
      },
      "text/html": [
       "<div>                            <div id=\"f81d6625-6275-46db-93e1-9c666577fa3b\" class=\"plotly-graph-div\" style=\"height:525px; width:100%;\"></div>            <script type=\"text/javascript\">                require([\"plotly\"], function(Plotly) {                    window.PLOTLYENV=window.PLOTLYENV || {};                                    if (document.getElementById(\"f81d6625-6275-46db-93e1-9c666577fa3b\")) {                    Plotly.newPlot(                        \"f81d6625-6275-46db-93e1-9c666577fa3b\",                        [{\"hovertemplate\":\"<b>%{hovertext}</b><br><br>test=0002<br>eventF1=%{x}<br>eventRecall=%{y}<extra></extra>\",\"hovertext\":[\"a4659423-83e4-4da3-91b5-177fa8bc17fe\"],\"legendgroup\":\"0002\",\"marker\":{\"color\":\"#636efa\",\"symbol\":\"circle\"},\"mode\":\"markers\",\"name\":\"0002\",\"orientation\":\"v\",\"showlegend\":true,\"x\":[0.7299703264094956],\"xaxis\":\"x\",\"y\":[0.6373056994818653],\"yaxis\":\"y\",\"type\":\"scatter\"},{\"alignmentgroup\":\"True\",\"bingroup\":\"y\",\"hovertemplate\":\"test=0002<br>eventRecall=%{y}<br>count=%{x}<extra></extra>\",\"legendgroup\":\"0002\",\"marker\":{\"color\":\"#636efa\"},\"name\":\"0002\",\"offsetgroup\":\"0002\",\"opacity\":0.5,\"showlegend\":false,\"xaxis\":\"x2\",\"y\":[0.6373056994818653],\"yaxis\":\"y2\",\"type\":\"histogram\"},{\"hovertemplate\":\"<b>%{hovertext}</b><br><br>test=0003<br>eventF1=%{x}<br>eventRecall=%{y}<extra></extra>\",\"hovertext\":[\"ad3be387-5be4-4e8e-b57d-072003b617d3\"],\"legendgroup\":\"0003\",\"marker\":{\"color\":\"#EF553B\",\"symbol\":\"circle\"},\"mode\":\"markers\",\"name\":\"0003\",\"orientation\":\"v\",\"showlegend\":true,\"x\":[0.874329958308517],\"xaxis\":\"x\",\"y\":[0.9039408866995073],\"yaxis\":\"y\",\"type\":\"scatter\"},{\"alignmentgroup\":\"True\",\"bingroup\":\"y\",\"hovertemplate\":\"test=0003<br>eventRecall=%{y}<br>count=%{x}<extra></extra>\",\"legendgroup\":\"0003\",\"marker\":{\"color\":\"#EF553B\"},\"name\":\"0003\",\"offsetgroup\":\"0003\",\"opacity\":0.5,\"showlegend\":false,\"xaxis\":\"x2\",\"y\":[0.9039408866995073],\"yaxis\":\"y2\",\"type\":\"histogram\"},{\"hovertemplate\":\"<b>%{hovertext}</b><br><br>test=0004<br>eventF1=%{x}<br>eventRecall=%{y}<extra></extra>\",\"hovertext\":[\"8bcbbc8b-b83e-4b97-8f7c-0dd0760680e7\"],\"legendgroup\":\"0004\",\"marker\":{\"color\":\"#00cc96\",\"symbol\":\"circle\"},\"mode\":\"markers\",\"name\":\"0004\",\"orientation\":\"v\",\"showlegend\":true,\"x\":[0.7974025974025974],\"xaxis\":\"x\",\"y\":[0.7892030848329049],\"yaxis\":\"y\",\"type\":\"scatter\"},{\"alignmentgroup\":\"True\",\"bingroup\":\"y\",\"hovertemplate\":\"test=0004<br>eventRecall=%{y}<br>count=%{x}<extra></extra>\",\"legendgroup\":\"0004\",\"marker\":{\"color\":\"#00cc96\"},\"name\":\"0004\",\"offsetgroup\":\"0004\",\"opacity\":0.5,\"showlegend\":false,\"xaxis\":\"x2\",\"y\":[0.7892030848329049],\"yaxis\":\"y2\",\"type\":\"histogram\"},{\"hovertemplate\":\"<b>%{hovertext}</b><br><br>test=0005<br>eventF1=%{x}<br>eventRecall=%{y}<extra></extra>\",\"hovertext\":[\"f88ed731-de3a-4c9a-90d5-04d1fcd93d45\"],\"legendgroup\":\"0005\",\"marker\":{\"color\":\"#ab63fa\",\"symbol\":\"circle\"},\"mode\":\"markers\",\"name\":\"0005\",\"orientation\":\"v\",\"showlegend\":true,\"x\":[0.7080745341614907],\"xaxis\":\"x\",\"y\":[0.9313725490196079],\"yaxis\":\"y\",\"type\":\"scatter\"},{\"alignmentgroup\":\"True\",\"bingroup\":\"y\",\"hovertemplate\":\"test=0005<br>eventRecall=%{y}<br>count=%{x}<extra></extra>\",\"legendgroup\":\"0005\",\"marker\":{\"color\":\"#ab63fa\"},\"name\":\"0005\",\"offsetgroup\":\"0005\",\"opacity\":0.5,\"showlegend\":false,\"xaxis\":\"x2\",\"y\":[0.9313725490196079],\"yaxis\":\"y2\",\"type\":\"histogram\"},{\"hovertemplate\":\"<b>%{hovertext}</b><br><br>test=0006<br>eventF1=%{x}<br>eventRecall=%{y}<extra></extra>\",\"hovertext\":[\"16a691da-d735-4ad2-953c-db2678980107\"],\"legendgroup\":\"0006\",\"marker\":{\"color\":\"#FFA15A\",\"symbol\":\"circle\"},\"mode\":\"markers\",\"name\":\"0006\",\"orientation\":\"v\",\"showlegend\":true,\"x\":[0.719047619047619],\"xaxis\":\"x\",\"y\":[0.7122641509433962],\"yaxis\":\"y\",\"type\":\"scatter\"},{\"alignmentgroup\":\"True\",\"bingroup\":\"y\",\"hovertemplate\":\"test=0006<br>eventRecall=%{y}<br>count=%{x}<extra></extra>\",\"legendgroup\":\"0006\",\"marker\":{\"color\":\"#FFA15A\"},\"name\":\"0006\",\"offsetgroup\":\"0006\",\"opacity\":0.5,\"showlegend\":false,\"xaxis\":\"x2\",\"y\":[0.7122641509433962],\"yaxis\":\"y2\",\"type\":\"histogram\"},{\"hovertemplate\":\"<b>%{hovertext}</b><br><br>test=0007<br>eventF1=%{x}<br>eventRecall=%{y}<extra></extra>\",\"hovertext\":[\"d91f41ff-0308-46df-9bcd-67d46f377777\"],\"legendgroup\":\"0007\",\"marker\":{\"color\":\"#19d3f3\",\"symbol\":\"circle\"},\"mode\":\"markers\",\"name\":\"0007\",\"orientation\":\"v\",\"showlegend\":true,\"x\":[0.7235079171741778],\"xaxis\":\"x\",\"y\":[0.8227146814404432],\"yaxis\":\"y\",\"type\":\"scatter\"},{\"alignmentgroup\":\"True\",\"bingroup\":\"y\",\"hovertemplate\":\"test=0007<br>eventRecall=%{y}<br>count=%{x}<extra></extra>\",\"legendgroup\":\"0007\",\"marker\":{\"color\":\"#19d3f3\"},\"name\":\"0007\",\"offsetgroup\":\"0007\",\"opacity\":0.5,\"showlegend\":false,\"xaxis\":\"x2\",\"y\":[0.8227146814404432],\"yaxis\":\"y2\",\"type\":\"histogram\"},{\"hovertemplate\":\"<b>%{hovertext}</b><br><br>test=0008<br>eventF1=%{x}<br>eventRecall=%{y}<extra></extra>\",\"hovertext\":[\"a1eacac2-9e31-437a-9350-110d2ef2f1a5\"],\"legendgroup\":\"0008\",\"marker\":{\"color\":\"#FF6692\",\"symbol\":\"circle\"},\"mode\":\"markers\",\"name\":\"0008\",\"orientation\":\"v\",\"showlegend\":true,\"x\":[0.5333333333333333],\"xaxis\":\"x\",\"y\":[0.45454545454545453],\"yaxis\":\"y\",\"type\":\"scatter\"},{\"alignmentgroup\":\"True\",\"bingroup\":\"y\",\"hovertemplate\":\"test=0008<br>eventRecall=%{y}<br>count=%{x}<extra></extra>\",\"legendgroup\":\"0008\",\"marker\":{\"color\":\"#FF6692\"},\"name\":\"0008\",\"offsetgroup\":\"0008\",\"opacity\":0.5,\"showlegend\":false,\"xaxis\":\"x2\",\"y\":[0.45454545454545453],\"yaxis\":\"y2\",\"type\":\"histogram\"},{\"fill\":\"toself\",\"mode\":\"lines\",\"name\":\"identity\",\"x\":[0.7299703264094956,0.874329958308517,0.7974025974025974,0.7080745341614907,0.719047619047619,0.7235079171741778,0.5333333333333333],\"y\":[0.7299703264094956,0.874329958308517,0.7974025974025974,0.7080745341614907,0.719047619047619,0.7235079171741778,0.5333333333333333],\"type\":\"scatter\"}],                        {\"template\":{\"data\":{\"histogram2dcontour\":[{\"type\":\"histogram2dcontour\",\"colorbar\":{\"outlinewidth\":0,\"ticks\":\"\"},\"colorscale\":[[0.0,\"#0d0887\"],[0.1111111111111111,\"#46039f\"],[0.2222222222222222,\"#7201a8\"],[0.3333333333333333,\"#9c179e\"],[0.4444444444444444,\"#bd3786\"],[0.5555555555555556,\"#d8576b\"],[0.6666666666666666,\"#ed7953\"],[0.7777777777777778,\"#fb9f3a\"],[0.8888888888888888,\"#fdca26\"],[1.0,\"#f0f921\"]]}],\"choropleth\":[{\"type\":\"choropleth\",\"colorbar\":{\"outlinewidth\":0,\"ticks\":\"\"}}],\"histogram2d\":[{\"type\":\"histogram2d\",\"colorbar\":{\"outlinewidth\":0,\"ticks\":\"\"},\"colorscale\":[[0.0,\"#0d0887\"],[0.1111111111111111,\"#46039f\"],[0.2222222222222222,\"#7201a8\"],[0.3333333333333333,\"#9c179e\"],[0.4444444444444444,\"#bd3786\"],[0.5555555555555556,\"#d8576b\"],[0.6666666666666666,\"#ed7953\"],[0.7777777777777778,\"#fb9f3a\"],[0.8888888888888888,\"#fdca26\"],[1.0,\"#f0f921\"]]}],\"heatmap\":[{\"type\":\"heatmap\",\"colorbar\":{\"outlinewidth\":0,\"ticks\":\"\"},\"colorscale\":[[0.0,\"#0d0887\"],[0.1111111111111111,\"#46039f\"],[0.2222222222222222,\"#7201a8\"],[0.3333333333333333,\"#9c179e\"],[0.4444444444444444,\"#bd3786\"],[0.5555555555555556,\"#d8576b\"],[0.6666666666666666,\"#ed7953\"],[0.7777777777777778,\"#fb9f3a\"],[0.8888888888888888,\"#fdca26\"],[1.0,\"#f0f921\"]]}],\"heatmapgl\":[{\"type\":\"heatmapgl\",\"colorbar\":{\"outlinewidth\":0,\"ticks\":\"\"},\"colorscale\":[[0.0,\"#0d0887\"],[0.1111111111111111,\"#46039f\"],[0.2222222222222222,\"#7201a8\"],[0.3333333333333333,\"#9c179e\"],[0.4444444444444444,\"#bd3786\"],[0.5555555555555556,\"#d8576b\"],[0.6666666666666666,\"#ed7953\"],[0.7777777777777778,\"#fb9f3a\"],[0.8888888888888888,\"#fdca26\"],[1.0,\"#f0f921\"]]}],\"contourcarpet\":[{\"type\":\"contourcarpet\",\"colorbar\":{\"outlinewidth\":0,\"ticks\":\"\"}}],\"contour\":[{\"type\":\"contour\",\"colorbar\":{\"outlinewidth\":0,\"ticks\":\"\"},\"colorscale\":[[0.0,\"#0d0887\"],[0.1111111111111111,\"#46039f\"],[0.2222222222222222,\"#7201a8\"],[0.3333333333333333,\"#9c179e\"],[0.4444444444444444,\"#bd3786\"],[0.5555555555555556,\"#d8576b\"],[0.6666666666666666,\"#ed7953\"],[0.7777777777777778,\"#fb9f3a\"],[0.8888888888888888,\"#fdca26\"],[1.0,\"#f0f921\"]]}],\"surface\":[{\"type\":\"surface\",\"colorbar\":{\"outlinewidth\":0,\"ticks\":\"\"},\"colorscale\":[[0.0,\"#0d0887\"],[0.1111111111111111,\"#46039f\"],[0.2222222222222222,\"#7201a8\"],[0.3333333333333333,\"#9c179e\"],[0.4444444444444444,\"#bd3786\"],[0.5555555555555556,\"#d8576b\"],[0.6666666666666666,\"#ed7953\"],[0.7777777777777778,\"#fb9f3a\"],[0.8888888888888888,\"#fdca26\"],[1.0,\"#f0f921\"]]}],\"mesh3d\":[{\"type\":\"mesh3d\",\"colorbar\":{\"outlinewidth\":0,\"ticks\":\"\"}}],\"scatter\":[{\"marker\":{\"line\":{\"color\":\"#283442\"}},\"type\":\"scatter\"}],\"parcoords\":[{\"type\":\"parcoords\",\"line\":{\"colorbar\":{\"outlinewidth\":0,\"ticks\":\"\"}}}],\"scatterpolargl\":[{\"type\":\"scatterpolargl\",\"marker\":{\"colorbar\":{\"outlinewidth\":0,\"ticks\":\"\"}}}],\"bar\":[{\"error_x\":{\"color\":\"#f2f5fa\"},\"error_y\":{\"color\":\"#f2f5fa\"},\"marker\":{\"line\":{\"color\":\"rgb(17,17,17)\",\"width\":0.5},\"pattern\":{\"fillmode\":\"overlay\",\"size\":10,\"solidity\":0.2}},\"type\":\"bar\"}],\"scattergeo\":[{\"type\":\"scattergeo\",\"marker\":{\"colorbar\":{\"outlinewidth\":0,\"ticks\":\"\"}}}],\"scatterpolar\":[{\"type\":\"scatterpolar\",\"marker\":{\"colorbar\":{\"outlinewidth\":0,\"ticks\":\"\"}}}],\"histogram\":[{\"marker\":{\"pattern\":{\"fillmode\":\"overlay\",\"size\":10,\"solidity\":0.2}},\"type\":\"histogram\"}],\"scattergl\":[{\"marker\":{\"line\":{\"color\":\"#283442\"}},\"type\":\"scattergl\"}],\"scatter3d\":[{\"type\":\"scatter3d\",\"line\":{\"colorbar\":{\"outlinewidth\":0,\"ticks\":\"\"}},\"marker\":{\"colorbar\":{\"outlinewidth\":0,\"ticks\":\"\"}}}],\"scattermapbox\":[{\"type\":\"scattermapbox\",\"marker\":{\"colorbar\":{\"outlinewidth\":0,\"ticks\":\"\"}}}],\"scatterternary\":[{\"type\":\"scatterternary\",\"marker\":{\"colorbar\":{\"outlinewidth\":0,\"ticks\":\"\"}}}],\"scattercarpet\":[{\"type\":\"scattercarpet\",\"marker\":{\"colorbar\":{\"outlinewidth\":0,\"ticks\":\"\"}}}],\"carpet\":[{\"aaxis\":{\"endlinecolor\":\"#A2B1C6\",\"gridcolor\":\"#506784\",\"linecolor\":\"#506784\",\"minorgridcolor\":\"#506784\",\"startlinecolor\":\"#A2B1C6\"},\"baxis\":{\"endlinecolor\":\"#A2B1C6\",\"gridcolor\":\"#506784\",\"linecolor\":\"#506784\",\"minorgridcolor\":\"#506784\",\"startlinecolor\":\"#A2B1C6\"},\"type\":\"carpet\"}],\"table\":[{\"cells\":{\"fill\":{\"color\":\"#506784\"},\"line\":{\"color\":\"rgb(17,17,17)\"}},\"header\":{\"fill\":{\"color\":\"#2a3f5f\"},\"line\":{\"color\":\"rgb(17,17,17)\"}},\"type\":\"table\"}],\"barpolar\":[{\"marker\":{\"line\":{\"color\":\"rgb(17,17,17)\",\"width\":0.5},\"pattern\":{\"fillmode\":\"overlay\",\"size\":10,\"solidity\":0.2}},\"type\":\"barpolar\"}],\"pie\":[{\"automargin\":true,\"type\":\"pie\"}]},\"layout\":{\"autotypenumbers\":\"strict\",\"colorway\":[\"#636efa\",\"#EF553B\",\"#00cc96\",\"#ab63fa\",\"#FFA15A\",\"#19d3f3\",\"#FF6692\",\"#B6E880\",\"#FF97FF\",\"#FECB52\"],\"font\":{\"color\":\"#f2f5fa\"},\"hovermode\":\"closest\",\"hoverlabel\":{\"align\":\"left\"},\"paper_bgcolor\":\"rgb(17,17,17)\",\"plot_bgcolor\":\"rgb(17,17,17)\",\"polar\":{\"bgcolor\":\"rgb(17,17,17)\",\"angularaxis\":{\"gridcolor\":\"#506784\",\"linecolor\":\"#506784\",\"ticks\":\"\"},\"radialaxis\":{\"gridcolor\":\"#506784\",\"linecolor\":\"#506784\",\"ticks\":\"\"}},\"ternary\":{\"bgcolor\":\"rgb(17,17,17)\",\"aaxis\":{\"gridcolor\":\"#506784\",\"linecolor\":\"#506784\",\"ticks\":\"\"},\"baxis\":{\"gridcolor\":\"#506784\",\"linecolor\":\"#506784\",\"ticks\":\"\"},\"caxis\":{\"gridcolor\":\"#506784\",\"linecolor\":\"#506784\",\"ticks\":\"\"}},\"coloraxis\":{\"colorbar\":{\"outlinewidth\":0,\"ticks\":\"\"}},\"colorscale\":{\"sequential\":[[0.0,\"#0d0887\"],[0.1111111111111111,\"#46039f\"],[0.2222222222222222,\"#7201a8\"],[0.3333333333333333,\"#9c179e\"],[0.4444444444444444,\"#bd3786\"],[0.5555555555555556,\"#d8576b\"],[0.6666666666666666,\"#ed7953\"],[0.7777777777777778,\"#fb9f3a\"],[0.8888888888888888,\"#fdca26\"],[1.0,\"#f0f921\"]],\"sequentialminus\":[[0.0,\"#0d0887\"],[0.1111111111111111,\"#46039f\"],[0.2222222222222222,\"#7201a8\"],[0.3333333333333333,\"#9c179e\"],[0.4444444444444444,\"#bd3786\"],[0.5555555555555556,\"#d8576b\"],[0.6666666666666666,\"#ed7953\"],[0.7777777777777778,\"#fb9f3a\"],[0.8888888888888888,\"#fdca26\"],[1.0,\"#f0f921\"]],\"diverging\":[[0,\"#8e0152\"],[0.1,\"#c51b7d\"],[0.2,\"#de77ae\"],[0.3,\"#f1b6da\"],[0.4,\"#fde0ef\"],[0.5,\"#f7f7f7\"],[0.6,\"#e6f5d0\"],[0.7,\"#b8e186\"],[0.8,\"#7fbc41\"],[0.9,\"#4d9221\"],[1,\"#276419\"]]},\"xaxis\":{\"gridcolor\":\"#283442\",\"linecolor\":\"#506784\",\"ticks\":\"\",\"title\":{\"standoff\":15},\"zerolinecolor\":\"#283442\",\"automargin\":true,\"zerolinewidth\":2},\"yaxis\":{\"gridcolor\":\"#283442\",\"linecolor\":\"#506784\",\"ticks\":\"\",\"title\":{\"standoff\":15},\"zerolinecolor\":\"#283442\",\"automargin\":true,\"zerolinewidth\":2},\"scene\":{\"xaxis\":{\"backgroundcolor\":\"rgb(17,17,17)\",\"gridcolor\":\"#506784\",\"linecolor\":\"#506784\",\"showbackground\":true,\"ticks\":\"\",\"zerolinecolor\":\"#C8D4E3\",\"gridwidth\":2},\"yaxis\":{\"backgroundcolor\":\"rgb(17,17,17)\",\"gridcolor\":\"#506784\",\"linecolor\":\"#506784\",\"showbackground\":true,\"ticks\":\"\",\"zerolinecolor\":\"#C8D4E3\",\"gridwidth\":2},\"zaxis\":{\"backgroundcolor\":\"rgb(17,17,17)\",\"gridcolor\":\"#506784\",\"linecolor\":\"#506784\",\"showbackground\":true,\"ticks\":\"\",\"zerolinecolor\":\"#C8D4E3\",\"gridwidth\":2}},\"shapedefaults\":{\"line\":{\"color\":\"#f2f5fa\"}},\"annotationdefaults\":{\"arrowcolor\":\"#f2f5fa\",\"arrowhead\":0,\"arrowwidth\":1},\"geo\":{\"bgcolor\":\"rgb(17,17,17)\",\"landcolor\":\"rgb(17,17,17)\",\"subunitcolor\":\"#506784\",\"showland\":true,\"showlakes\":true,\"lakecolor\":\"rgb(17,17,17)\"},\"title\":{\"x\":0.05},\"updatemenudefaults\":{\"bgcolor\":\"#506784\",\"borderwidth\":0},\"sliderdefaults\":{\"bgcolor\":\"#C8D4E3\",\"borderwidth\":1,\"bordercolor\":\"rgb(17,17,17)\",\"tickwidth\":0},\"mapbox\":{\"style\":\"dark\"}}},\"xaxis\":{\"anchor\":\"y\",\"domain\":[0.0,0.7363],\"title\":{\"text\":\"eventF1\"}},\"yaxis\":{\"anchor\":\"x\",\"domain\":[0.0,1.0],\"title\":{\"text\":\"eventRecall\"}},\"xaxis2\":{\"anchor\":\"y2\",\"domain\":[0.7413,1.0],\"matches\":\"x2\",\"showticklabels\":false,\"showline\":false,\"ticks\":\"\",\"showgrid\":true},\"yaxis2\":{\"anchor\":\"x2\",\"domain\":[0.0,1.0],\"matches\":\"y\",\"showticklabels\":false,\"showgrid\":true},\"legend\":{\"title\":{\"text\":\"test\"},\"tracegroupgap\":0},\"margin\":{\"t\":60},\"barmode\":\"overlay\"},                        {\"responsive\": true}                    ).then(function(){\n",
       "                            \n",
       "var gd = document.getElementById('f81d6625-6275-46db-93e1-9c666577fa3b');\n",
       "var x = new MutationObserver(function (mutations, observer) {{\n",
       "        var display = window.getComputedStyle(gd).display;\n",
       "        if (!display || display === 'none') {{\n",
       "            console.log([gd, 'removed!']);\n",
       "            Plotly.purge(gd);\n",
       "            observer.disconnect();\n",
       "        }}\n",
       "}});\n",
       "\n",
       "// Listen for the removal of the full notebook cells\n",
       "var notebookContainer = gd.closest('#notebook-container');\n",
       "if (notebookContainer) {{\n",
       "    x.observe(notebookContainer, {childList: true});\n",
       "}}\n",
       "\n",
       "// Listen for the clearing of the current output cell\n",
       "var outputEl = gd.closest('.output');\n",
       "if (outputEl) {{\n",
       "    x.observe(outputEl, {childList: true});\n",
       "}}\n",
       "\n",
       "                        })                };                });            </script>        </div>"
      ]
     },
     "metadata": {},
     "output_type": "display_data"
    }
   ],
   "execution_count": 62
  },
  {
   "metadata": {
    "ExecuteTime": {
     "end_time": "2025-01-13T12:37:10.395564Z",
     "start_time": "2025-01-13T12:37:10.365059Z"
    }
   },
   "cell_type": "code",
   "source": "experimentModels_N2[['test','eventF1','eventPrecision','eventRecall']].groupby('test').describe(percentiles=[0.5])",
   "outputs": [
    {
     "data": {
      "text/plain": [
       "     eventF1                                             eventPrecision  \\\n",
       "       count      mean std       min       50%       max          count   \n",
       "test                                                                      \n",
       "0002     1.0  0.729970 NaN  0.729970  0.729970  0.729970            1.0   \n",
       "0003     1.0  0.874330 NaN  0.874330  0.874330  0.874330            1.0   \n",
       "0004     1.0  0.797403 NaN  0.797403  0.797403  0.797403            1.0   \n",
       "0005     1.0  0.708075 NaN  0.708075  0.708075  0.708075            1.0   \n",
       "0006     1.0  0.719048 NaN  0.719048  0.719048  0.719048            1.0   \n",
       "0007     1.0  0.723508 NaN  0.723508  0.723508  0.723508            1.0   \n",
       "0008     1.0  0.533333 NaN  0.533333  0.533333  0.533333            1.0   \n",
       "\n",
       "                                                 eventRecall                \\\n",
       "          mean std       min       50%       max       count      mean std   \n",
       "test                                                                         \n",
       "0002  0.854167 NaN  0.854167  0.854167  0.854167         1.0  0.637306 NaN   \n",
       "0003  0.846597 NaN  0.846597  0.846597  0.846597         1.0  0.903941 NaN   \n",
       "0004  0.805774 NaN  0.805774  0.805774  0.805774         1.0  0.789203 NaN   \n",
       "0005  0.571142 NaN  0.571142  0.571142  0.571142         1.0  0.931373 NaN   \n",
       "0006  0.725962 NaN  0.725962  0.725962  0.725962         1.0  0.712264 NaN   \n",
       "0007  0.645652 NaN  0.645652  0.645652  0.645652         1.0  0.822715 NaN   \n",
       "0008  0.645161 NaN  0.645161  0.645161  0.645161         1.0  0.454545 NaN   \n",
       "\n",
       "                                    \n",
       "           min       50%       max  \n",
       "test                                \n",
       "0002  0.637306  0.637306  0.637306  \n",
       "0003  0.903941  0.903941  0.903941  \n",
       "0004  0.789203  0.789203  0.789203  \n",
       "0005  0.931373  0.931373  0.931373  \n",
       "0006  0.712264  0.712264  0.712264  \n",
       "0007  0.822715  0.822715  0.822715  \n",
       "0008  0.454545  0.454545  0.454545  "
      ],
      "text/html": [
       "<div>\n",
       "<style scoped>\n",
       "    .dataframe tbody tr th:only-of-type {\n",
       "        vertical-align: middle;\n",
       "    }\n",
       "\n",
       "    .dataframe tbody tr th {\n",
       "        vertical-align: top;\n",
       "    }\n",
       "\n",
       "    .dataframe thead tr th {\n",
       "        text-align: left;\n",
       "    }\n",
       "\n",
       "    .dataframe thead tr:last-of-type th {\n",
       "        text-align: right;\n",
       "    }\n",
       "</style>\n",
       "<table border=\"1\" class=\"dataframe\">\n",
       "  <thead>\n",
       "    <tr>\n",
       "      <th></th>\n",
       "      <th colspan=\"6\" halign=\"left\">eventF1</th>\n",
       "      <th colspan=\"6\" halign=\"left\">eventPrecision</th>\n",
       "      <th colspan=\"6\" halign=\"left\">eventRecall</th>\n",
       "    </tr>\n",
       "    <tr>\n",
       "      <th></th>\n",
       "      <th>count</th>\n",
       "      <th>mean</th>\n",
       "      <th>std</th>\n",
       "      <th>min</th>\n",
       "      <th>50%</th>\n",
       "      <th>max</th>\n",
       "      <th>count</th>\n",
       "      <th>mean</th>\n",
       "      <th>std</th>\n",
       "      <th>min</th>\n",
       "      <th>50%</th>\n",
       "      <th>max</th>\n",
       "      <th>count</th>\n",
       "      <th>mean</th>\n",
       "      <th>std</th>\n",
       "      <th>min</th>\n",
       "      <th>50%</th>\n",
       "      <th>max</th>\n",
       "    </tr>\n",
       "    <tr>\n",
       "      <th>test</th>\n",
       "      <th></th>\n",
       "      <th></th>\n",
       "      <th></th>\n",
       "      <th></th>\n",
       "      <th></th>\n",
       "      <th></th>\n",
       "      <th></th>\n",
       "      <th></th>\n",
       "      <th></th>\n",
       "      <th></th>\n",
       "      <th></th>\n",
       "      <th></th>\n",
       "      <th></th>\n",
       "      <th></th>\n",
       "      <th></th>\n",
       "      <th></th>\n",
       "      <th></th>\n",
       "      <th></th>\n",
       "    </tr>\n",
       "  </thead>\n",
       "  <tbody>\n",
       "    <tr>\n",
       "      <th>0002</th>\n",
       "      <td>1.0</td>\n",
       "      <td>0.729970</td>\n",
       "      <td>NaN</td>\n",
       "      <td>0.729970</td>\n",
       "      <td>0.729970</td>\n",
       "      <td>0.729970</td>\n",
       "      <td>1.0</td>\n",
       "      <td>0.854167</td>\n",
       "      <td>NaN</td>\n",
       "      <td>0.854167</td>\n",
       "      <td>0.854167</td>\n",
       "      <td>0.854167</td>\n",
       "      <td>1.0</td>\n",
       "      <td>0.637306</td>\n",
       "      <td>NaN</td>\n",
       "      <td>0.637306</td>\n",
       "      <td>0.637306</td>\n",
       "      <td>0.637306</td>\n",
       "    </tr>\n",
       "    <tr>\n",
       "      <th>0003</th>\n",
       "      <td>1.0</td>\n",
       "      <td>0.874330</td>\n",
       "      <td>NaN</td>\n",
       "      <td>0.874330</td>\n",
       "      <td>0.874330</td>\n",
       "      <td>0.874330</td>\n",
       "      <td>1.0</td>\n",
       "      <td>0.846597</td>\n",
       "      <td>NaN</td>\n",
       "      <td>0.846597</td>\n",
       "      <td>0.846597</td>\n",
       "      <td>0.846597</td>\n",
       "      <td>1.0</td>\n",
       "      <td>0.903941</td>\n",
       "      <td>NaN</td>\n",
       "      <td>0.903941</td>\n",
       "      <td>0.903941</td>\n",
       "      <td>0.903941</td>\n",
       "    </tr>\n",
       "    <tr>\n",
       "      <th>0004</th>\n",
       "      <td>1.0</td>\n",
       "      <td>0.797403</td>\n",
       "      <td>NaN</td>\n",
       "      <td>0.797403</td>\n",
       "      <td>0.797403</td>\n",
       "      <td>0.797403</td>\n",
       "      <td>1.0</td>\n",
       "      <td>0.805774</td>\n",
       "      <td>NaN</td>\n",
       "      <td>0.805774</td>\n",
       "      <td>0.805774</td>\n",
       "      <td>0.805774</td>\n",
       "      <td>1.0</td>\n",
       "      <td>0.789203</td>\n",
       "      <td>NaN</td>\n",
       "      <td>0.789203</td>\n",
       "      <td>0.789203</td>\n",
       "      <td>0.789203</td>\n",
       "    </tr>\n",
       "    <tr>\n",
       "      <th>0005</th>\n",
       "      <td>1.0</td>\n",
       "      <td>0.708075</td>\n",
       "      <td>NaN</td>\n",
       "      <td>0.708075</td>\n",
       "      <td>0.708075</td>\n",
       "      <td>0.708075</td>\n",
       "      <td>1.0</td>\n",
       "      <td>0.571142</td>\n",
       "      <td>NaN</td>\n",
       "      <td>0.571142</td>\n",
       "      <td>0.571142</td>\n",
       "      <td>0.571142</td>\n",
       "      <td>1.0</td>\n",
       "      <td>0.931373</td>\n",
       "      <td>NaN</td>\n",
       "      <td>0.931373</td>\n",
       "      <td>0.931373</td>\n",
       "      <td>0.931373</td>\n",
       "    </tr>\n",
       "    <tr>\n",
       "      <th>0006</th>\n",
       "      <td>1.0</td>\n",
       "      <td>0.719048</td>\n",
       "      <td>NaN</td>\n",
       "      <td>0.719048</td>\n",
       "      <td>0.719048</td>\n",
       "      <td>0.719048</td>\n",
       "      <td>1.0</td>\n",
       "      <td>0.725962</td>\n",
       "      <td>NaN</td>\n",
       "      <td>0.725962</td>\n",
       "      <td>0.725962</td>\n",
       "      <td>0.725962</td>\n",
       "      <td>1.0</td>\n",
       "      <td>0.712264</td>\n",
       "      <td>NaN</td>\n",
       "      <td>0.712264</td>\n",
       "      <td>0.712264</td>\n",
       "      <td>0.712264</td>\n",
       "    </tr>\n",
       "    <tr>\n",
       "      <th>0007</th>\n",
       "      <td>1.0</td>\n",
       "      <td>0.723508</td>\n",
       "      <td>NaN</td>\n",
       "      <td>0.723508</td>\n",
       "      <td>0.723508</td>\n",
       "      <td>0.723508</td>\n",
       "      <td>1.0</td>\n",
       "      <td>0.645652</td>\n",
       "      <td>NaN</td>\n",
       "      <td>0.645652</td>\n",
       "      <td>0.645652</td>\n",
       "      <td>0.645652</td>\n",
       "      <td>1.0</td>\n",
       "      <td>0.822715</td>\n",
       "      <td>NaN</td>\n",
       "      <td>0.822715</td>\n",
       "      <td>0.822715</td>\n",
       "      <td>0.822715</td>\n",
       "    </tr>\n",
       "    <tr>\n",
       "      <th>0008</th>\n",
       "      <td>1.0</td>\n",
       "      <td>0.533333</td>\n",
       "      <td>NaN</td>\n",
       "      <td>0.533333</td>\n",
       "      <td>0.533333</td>\n",
       "      <td>0.533333</td>\n",
       "      <td>1.0</td>\n",
       "      <td>0.645161</td>\n",
       "      <td>NaN</td>\n",
       "      <td>0.645161</td>\n",
       "      <td>0.645161</td>\n",
       "      <td>0.645161</td>\n",
       "      <td>1.0</td>\n",
       "      <td>0.454545</td>\n",
       "      <td>NaN</td>\n",
       "      <td>0.454545</td>\n",
       "      <td>0.454545</td>\n",
       "      <td>0.454545</td>\n",
       "    </tr>\n",
       "  </tbody>\n",
       "</table>\n",
       "</div>"
      ]
     },
     "execution_count": 63,
     "metadata": {},
     "output_type": "execute_result"
    }
   ],
   "execution_count": 63
  },
  {
   "metadata": {
    "ExecuteTime": {
     "end_time": "2025-01-13T12:37:10.489755Z",
     "start_time": "2025-01-13T12:37:10.475377Z"
    }
   },
   "cell_type": "code",
   "source": "experimentModels_N2[['test','eventF1','eventPrecision','eventRecall']].groupby('test',as_index=False).mean()",
   "outputs": [
    {
     "data": {
      "text/plain": [
       "   test   eventF1  eventPrecision  eventRecall\n",
       "0  0002  0.729970        0.854167     0.637306\n",
       "1  0003  0.874330        0.846597     0.903941\n",
       "2  0004  0.797403        0.805774     0.789203\n",
       "3  0005  0.708075        0.571142     0.931373\n",
       "4  0006  0.719048        0.725962     0.712264\n",
       "5  0007  0.723508        0.645652     0.822715\n",
       "6  0008  0.533333        0.645161     0.454545"
      ],
      "text/html": [
       "<div>\n",
       "<style scoped>\n",
       "    .dataframe tbody tr th:only-of-type {\n",
       "        vertical-align: middle;\n",
       "    }\n",
       "\n",
       "    .dataframe tbody tr th {\n",
       "        vertical-align: top;\n",
       "    }\n",
       "\n",
       "    .dataframe thead th {\n",
       "        text-align: right;\n",
       "    }\n",
       "</style>\n",
       "<table border=\"1\" class=\"dataframe\">\n",
       "  <thead>\n",
       "    <tr style=\"text-align: right;\">\n",
       "      <th></th>\n",
       "      <th>test</th>\n",
       "      <th>eventF1</th>\n",
       "      <th>eventPrecision</th>\n",
       "      <th>eventRecall</th>\n",
       "    </tr>\n",
       "  </thead>\n",
       "  <tbody>\n",
       "    <tr>\n",
       "      <th>0</th>\n",
       "      <td>0002</td>\n",
       "      <td>0.729970</td>\n",
       "      <td>0.854167</td>\n",
       "      <td>0.637306</td>\n",
       "    </tr>\n",
       "    <tr>\n",
       "      <th>1</th>\n",
       "      <td>0003</td>\n",
       "      <td>0.874330</td>\n",
       "      <td>0.846597</td>\n",
       "      <td>0.903941</td>\n",
       "    </tr>\n",
       "    <tr>\n",
       "      <th>2</th>\n",
       "      <td>0004</td>\n",
       "      <td>0.797403</td>\n",
       "      <td>0.805774</td>\n",
       "      <td>0.789203</td>\n",
       "    </tr>\n",
       "    <tr>\n",
       "      <th>3</th>\n",
       "      <td>0005</td>\n",
       "      <td>0.708075</td>\n",
       "      <td>0.571142</td>\n",
       "      <td>0.931373</td>\n",
       "    </tr>\n",
       "    <tr>\n",
       "      <th>4</th>\n",
       "      <td>0006</td>\n",
       "      <td>0.719048</td>\n",
       "      <td>0.725962</td>\n",
       "      <td>0.712264</td>\n",
       "    </tr>\n",
       "    <tr>\n",
       "      <th>5</th>\n",
       "      <td>0007</td>\n",
       "      <td>0.723508</td>\n",
       "      <td>0.645652</td>\n",
       "      <td>0.822715</td>\n",
       "    </tr>\n",
       "    <tr>\n",
       "      <th>6</th>\n",
       "      <td>0008</td>\n",
       "      <td>0.533333</td>\n",
       "      <td>0.645161</td>\n",
       "      <td>0.454545</td>\n",
       "    </tr>\n",
       "  </tbody>\n",
       "</table>\n",
       "</div>"
      ]
     },
     "execution_count": 64,
     "metadata": {},
     "output_type": "execute_result"
    }
   ],
   "execution_count": 64
  },
  {
   "metadata": {
    "ExecuteTime": {
     "end_time": "2025-01-13T12:37:10.566990Z",
     "start_time": "2025-01-13T12:37:10.552671Z"
    }
   },
   "cell_type": "code",
   "source": "experimentModels_N2[['test','eventF1','eventPrecision','eventRecall']].groupby('test',as_index=False).mean().mean()",
   "outputs": [
    {
     "data": {
      "text/plain": [
       "test              2.857571e+23\n",
       "eventF1           7.265238e-01\n",
       "eventPrecision    7.277794e-01\n",
       "eventRecall       7.501924e-01\n",
       "dtype: float64"
      ]
     },
     "execution_count": 65,
     "metadata": {},
     "output_type": "execute_result"
    }
   ],
   "execution_count": 65
  },
  {
   "metadata": {
    "ExecuteTime": {
     "end_time": "2025-01-13T12:37:10.690940Z",
     "start_time": "2025-01-13T12:37:10.675614Z"
    }
   },
   "cell_type": "code",
   "source": "experimentModels_N2[['test','eventF1','eventPrecision','eventRecall']].groupby('test',as_index=False).mean().std()",
   "outputs": [
    {
     "name": "stderr",
     "output_type": "stream",
     "text": [
      "C:\\Users\\GIB\\AppData\\Local\\Temp\\ipykernel_4200\\292585311.py:1: FutureWarning:\n",
      "\n",
      "The default value of numeric_only in DataFrame.std is deprecated. In a future version, it will default to False. In addition, specifying 'numeric_only=None' is deprecated. Select only valid columns or specify the value of numeric_only to silence this warning.\n",
      "\n"
     ]
    },
    {
     "data": {
      "text/plain": [
       "eventF1           0.103771\n",
       "eventPrecision    0.111268\n",
       "eventRecall       0.165748\n",
       "dtype: float64"
      ]
     },
     "execution_count": 66,
     "metadata": {},
     "output_type": "execute_result"
    }
   ],
   "execution_count": 66
  },
  {
   "metadata": {
    "ExecuteTime": {
     "end_time": "2025-01-13T12:37:10.911501Z",
     "start_time": "2025-01-13T12:37:10.896507Z"
    }
   },
   "cell_type": "code",
   "source": [
    "auxPrecision=pd.DataFrame({\n",
    "    'metric':'event precision',\n",
    "    'value':experimentModels_N2.eventPrecision,\n",
    "    'event F1':experimentModels_N2.eventF1\n",
    "})\n",
    "\n",
    "auxRecall=pd.DataFrame({\n",
    "    'metric':'event recall',\n",
    "    'value':experimentModels_N2.eventRecall,\n",
    "    'event F1':experimentModels_N2.eventF1\n",
    "})\n",
    "visualTradeoff=pd.concat((auxPrecision,auxRecall))"
   ],
   "outputs": [],
   "execution_count": 67
  },
  {
   "metadata": {
    "ExecuteTime": {
     "end_time": "2025-01-13T12:37:10.990737Z",
     "start_time": "2025-01-13T12:37:10.960493Z"
    }
   },
   "cell_type": "code",
   "source": [
    "fig=px.scatter(visualTradeoff,x='event F1',y='value',color='metric', marginal_y=\"histogram\")\n",
    "fig.add_trace(\n",
    "    go.Scatter(x=experimentModels_N2['eventF1'], y=experimentModels_N2['eventF1'], name=\"identity\", mode='lines',fill=\"toself\")\n",
    ")\n",
    "fig.show()"
   ],
   "outputs": [
    {
     "data": {
      "application/vnd.plotly.v1+json": {
       "data": [
        {
         "hovertemplate": "metric=event precision<br>event F1=%{x}<br>value=%{y}<extra></extra>",
         "legendgroup": "event precision",
         "marker": {
          "color": "#636efa",
          "symbol": "circle"
         },
         "mode": "markers",
         "name": "event precision",
         "orientation": "v",
         "showlegend": true,
         "x": [
          0.7299703264094956,
          0.874329958308517,
          0.7974025974025974,
          0.7080745341614907,
          0.719047619047619,
          0.7235079171741778,
          0.5333333333333333
         ],
         "xaxis": "x",
         "y": [
          0.8541666666666666,
          0.8465974625144176,
          0.8057742782152231,
          0.5711422845691383,
          0.7259615384615384,
          0.6456521739130435,
          0.6451612903225806
         ],
         "yaxis": "y",
         "type": "scatter"
        },
        {
         "alignmentgroup": "True",
         "bingroup": "y",
         "hovertemplate": "metric=event precision<br>value=%{y}<br>count=%{x}<extra></extra>",
         "legendgroup": "event precision",
         "marker": {
          "color": "#636efa"
         },
         "name": "event precision",
         "offsetgroup": "event precision",
         "opacity": 0.5,
         "showlegend": false,
         "xaxis": "x2",
         "y": [
          0.8541666666666666,
          0.8465974625144176,
          0.8057742782152231,
          0.5711422845691383,
          0.7259615384615384,
          0.6456521739130435,
          0.6451612903225806
         ],
         "yaxis": "y2",
         "type": "histogram"
        },
        {
         "hovertemplate": "metric=event recall<br>event F1=%{x}<br>value=%{y}<extra></extra>",
         "legendgroup": "event recall",
         "marker": {
          "color": "#EF553B",
          "symbol": "circle"
         },
         "mode": "markers",
         "name": "event recall",
         "orientation": "v",
         "showlegend": true,
         "x": [
          0.7299703264094956,
          0.874329958308517,
          0.7974025974025974,
          0.7080745341614907,
          0.719047619047619,
          0.7235079171741778,
          0.5333333333333333
         ],
         "xaxis": "x",
         "y": [
          0.6373056994818653,
          0.9039408866995073,
          0.7892030848329049,
          0.9313725490196079,
          0.7122641509433962,
          0.8227146814404432,
          0.45454545454545453
         ],
         "yaxis": "y",
         "type": "scatter"
        },
        {
         "alignmentgroup": "True",
         "bingroup": "y",
         "hovertemplate": "metric=event recall<br>value=%{y}<br>count=%{x}<extra></extra>",
         "legendgroup": "event recall",
         "marker": {
          "color": "#EF553B"
         },
         "name": "event recall",
         "offsetgroup": "event recall",
         "opacity": 0.5,
         "showlegend": false,
         "xaxis": "x2",
         "y": [
          0.6373056994818653,
          0.9039408866995073,
          0.7892030848329049,
          0.9313725490196079,
          0.7122641509433962,
          0.8227146814404432,
          0.45454545454545453
         ],
         "yaxis": "y2",
         "type": "histogram"
        },
        {
         "fill": "toself",
         "mode": "lines",
         "name": "identity",
         "x": [
          0.7299703264094956,
          0.874329958308517,
          0.7974025974025974,
          0.7080745341614907,
          0.719047619047619,
          0.7235079171741778,
          0.5333333333333333
         ],
         "y": [
          0.7299703264094956,
          0.874329958308517,
          0.7974025974025974,
          0.7080745341614907,
          0.719047619047619,
          0.7235079171741778,
          0.5333333333333333
         ],
         "type": "scatter"
        }
       ],
       "layout": {
        "template": {
         "data": {
          "histogram2dcontour": [
           {
            "type": "histogram2dcontour",
            "colorbar": {
             "outlinewidth": 0,
             "ticks": ""
            },
            "colorscale": [
             [
              0.0,
              "#0d0887"
             ],
             [
              0.1111111111111111,
              "#46039f"
             ],
             [
              0.2222222222222222,
              "#7201a8"
             ],
             [
              0.3333333333333333,
              "#9c179e"
             ],
             [
              0.4444444444444444,
              "#bd3786"
             ],
             [
              0.5555555555555556,
              "#d8576b"
             ],
             [
              0.6666666666666666,
              "#ed7953"
             ],
             [
              0.7777777777777778,
              "#fb9f3a"
             ],
             [
              0.8888888888888888,
              "#fdca26"
             ],
             [
              1.0,
              "#f0f921"
             ]
            ]
           }
          ],
          "choropleth": [
           {
            "type": "choropleth",
            "colorbar": {
             "outlinewidth": 0,
             "ticks": ""
            }
           }
          ],
          "histogram2d": [
           {
            "type": "histogram2d",
            "colorbar": {
             "outlinewidth": 0,
             "ticks": ""
            },
            "colorscale": [
             [
              0.0,
              "#0d0887"
             ],
             [
              0.1111111111111111,
              "#46039f"
             ],
             [
              0.2222222222222222,
              "#7201a8"
             ],
             [
              0.3333333333333333,
              "#9c179e"
             ],
             [
              0.4444444444444444,
              "#bd3786"
             ],
             [
              0.5555555555555556,
              "#d8576b"
             ],
             [
              0.6666666666666666,
              "#ed7953"
             ],
             [
              0.7777777777777778,
              "#fb9f3a"
             ],
             [
              0.8888888888888888,
              "#fdca26"
             ],
             [
              1.0,
              "#f0f921"
             ]
            ]
           }
          ],
          "heatmap": [
           {
            "type": "heatmap",
            "colorbar": {
             "outlinewidth": 0,
             "ticks": ""
            },
            "colorscale": [
             [
              0.0,
              "#0d0887"
             ],
             [
              0.1111111111111111,
              "#46039f"
             ],
             [
              0.2222222222222222,
              "#7201a8"
             ],
             [
              0.3333333333333333,
              "#9c179e"
             ],
             [
              0.4444444444444444,
              "#bd3786"
             ],
             [
              0.5555555555555556,
              "#d8576b"
             ],
             [
              0.6666666666666666,
              "#ed7953"
             ],
             [
              0.7777777777777778,
              "#fb9f3a"
             ],
             [
              0.8888888888888888,
              "#fdca26"
             ],
             [
              1.0,
              "#f0f921"
             ]
            ]
           }
          ],
          "heatmapgl": [
           {
            "type": "heatmapgl",
            "colorbar": {
             "outlinewidth": 0,
             "ticks": ""
            },
            "colorscale": [
             [
              0.0,
              "#0d0887"
             ],
             [
              0.1111111111111111,
              "#46039f"
             ],
             [
              0.2222222222222222,
              "#7201a8"
             ],
             [
              0.3333333333333333,
              "#9c179e"
             ],
             [
              0.4444444444444444,
              "#bd3786"
             ],
             [
              0.5555555555555556,
              "#d8576b"
             ],
             [
              0.6666666666666666,
              "#ed7953"
             ],
             [
              0.7777777777777778,
              "#fb9f3a"
             ],
             [
              0.8888888888888888,
              "#fdca26"
             ],
             [
              1.0,
              "#f0f921"
             ]
            ]
           }
          ],
          "contourcarpet": [
           {
            "type": "contourcarpet",
            "colorbar": {
             "outlinewidth": 0,
             "ticks": ""
            }
           }
          ],
          "contour": [
           {
            "type": "contour",
            "colorbar": {
             "outlinewidth": 0,
             "ticks": ""
            },
            "colorscale": [
             [
              0.0,
              "#0d0887"
             ],
             [
              0.1111111111111111,
              "#46039f"
             ],
             [
              0.2222222222222222,
              "#7201a8"
             ],
             [
              0.3333333333333333,
              "#9c179e"
             ],
             [
              0.4444444444444444,
              "#bd3786"
             ],
             [
              0.5555555555555556,
              "#d8576b"
             ],
             [
              0.6666666666666666,
              "#ed7953"
             ],
             [
              0.7777777777777778,
              "#fb9f3a"
             ],
             [
              0.8888888888888888,
              "#fdca26"
             ],
             [
              1.0,
              "#f0f921"
             ]
            ]
           }
          ],
          "surface": [
           {
            "type": "surface",
            "colorbar": {
             "outlinewidth": 0,
             "ticks": ""
            },
            "colorscale": [
             [
              0.0,
              "#0d0887"
             ],
             [
              0.1111111111111111,
              "#46039f"
             ],
             [
              0.2222222222222222,
              "#7201a8"
             ],
             [
              0.3333333333333333,
              "#9c179e"
             ],
             [
              0.4444444444444444,
              "#bd3786"
             ],
             [
              0.5555555555555556,
              "#d8576b"
             ],
             [
              0.6666666666666666,
              "#ed7953"
             ],
             [
              0.7777777777777778,
              "#fb9f3a"
             ],
             [
              0.8888888888888888,
              "#fdca26"
             ],
             [
              1.0,
              "#f0f921"
             ]
            ]
           }
          ],
          "mesh3d": [
           {
            "type": "mesh3d",
            "colorbar": {
             "outlinewidth": 0,
             "ticks": ""
            }
           }
          ],
          "scatter": [
           {
            "marker": {
             "line": {
              "color": "#283442"
             }
            },
            "type": "scatter"
           }
          ],
          "parcoords": [
           {
            "type": "parcoords",
            "line": {
             "colorbar": {
              "outlinewidth": 0,
              "ticks": ""
             }
            }
           }
          ],
          "scatterpolargl": [
           {
            "type": "scatterpolargl",
            "marker": {
             "colorbar": {
              "outlinewidth": 0,
              "ticks": ""
             }
            }
           }
          ],
          "bar": [
           {
            "error_x": {
             "color": "#f2f5fa"
            },
            "error_y": {
             "color": "#f2f5fa"
            },
            "marker": {
             "line": {
              "color": "rgb(17,17,17)",
              "width": 0.5
             },
             "pattern": {
              "fillmode": "overlay",
              "size": 10,
              "solidity": 0.2
             }
            },
            "type": "bar"
           }
          ],
          "scattergeo": [
           {
            "type": "scattergeo",
            "marker": {
             "colorbar": {
              "outlinewidth": 0,
              "ticks": ""
             }
            }
           }
          ],
          "scatterpolar": [
           {
            "type": "scatterpolar",
            "marker": {
             "colorbar": {
              "outlinewidth": 0,
              "ticks": ""
             }
            }
           }
          ],
          "histogram": [
           {
            "marker": {
             "pattern": {
              "fillmode": "overlay",
              "size": 10,
              "solidity": 0.2
             }
            },
            "type": "histogram"
           }
          ],
          "scattergl": [
           {
            "marker": {
             "line": {
              "color": "#283442"
             }
            },
            "type": "scattergl"
           }
          ],
          "scatter3d": [
           {
            "type": "scatter3d",
            "line": {
             "colorbar": {
              "outlinewidth": 0,
              "ticks": ""
             }
            },
            "marker": {
             "colorbar": {
              "outlinewidth": 0,
              "ticks": ""
             }
            }
           }
          ],
          "scattermapbox": [
           {
            "type": "scattermapbox",
            "marker": {
             "colorbar": {
              "outlinewidth": 0,
              "ticks": ""
             }
            }
           }
          ],
          "scatterternary": [
           {
            "type": "scatterternary",
            "marker": {
             "colorbar": {
              "outlinewidth": 0,
              "ticks": ""
             }
            }
           }
          ],
          "scattercarpet": [
           {
            "type": "scattercarpet",
            "marker": {
             "colorbar": {
              "outlinewidth": 0,
              "ticks": ""
             }
            }
           }
          ],
          "carpet": [
           {
            "aaxis": {
             "endlinecolor": "#A2B1C6",
             "gridcolor": "#506784",
             "linecolor": "#506784",
             "minorgridcolor": "#506784",
             "startlinecolor": "#A2B1C6"
            },
            "baxis": {
             "endlinecolor": "#A2B1C6",
             "gridcolor": "#506784",
             "linecolor": "#506784",
             "minorgridcolor": "#506784",
             "startlinecolor": "#A2B1C6"
            },
            "type": "carpet"
           }
          ],
          "table": [
           {
            "cells": {
             "fill": {
              "color": "#506784"
             },
             "line": {
              "color": "rgb(17,17,17)"
             }
            },
            "header": {
             "fill": {
              "color": "#2a3f5f"
             },
             "line": {
              "color": "rgb(17,17,17)"
             }
            },
            "type": "table"
           }
          ],
          "barpolar": [
           {
            "marker": {
             "line": {
              "color": "rgb(17,17,17)",
              "width": 0.5
             },
             "pattern": {
              "fillmode": "overlay",
              "size": 10,
              "solidity": 0.2
             }
            },
            "type": "barpolar"
           }
          ],
          "pie": [
           {
            "automargin": true,
            "type": "pie"
           }
          ]
         },
         "layout": {
          "autotypenumbers": "strict",
          "colorway": [
           "#636efa",
           "#EF553B",
           "#00cc96",
           "#ab63fa",
           "#FFA15A",
           "#19d3f3",
           "#FF6692",
           "#B6E880",
           "#FF97FF",
           "#FECB52"
          ],
          "font": {
           "color": "#f2f5fa"
          },
          "hovermode": "closest",
          "hoverlabel": {
           "align": "left"
          },
          "paper_bgcolor": "rgb(17,17,17)",
          "plot_bgcolor": "rgb(17,17,17)",
          "polar": {
           "bgcolor": "rgb(17,17,17)",
           "angularaxis": {
            "gridcolor": "#506784",
            "linecolor": "#506784",
            "ticks": ""
           },
           "radialaxis": {
            "gridcolor": "#506784",
            "linecolor": "#506784",
            "ticks": ""
           }
          },
          "ternary": {
           "bgcolor": "rgb(17,17,17)",
           "aaxis": {
            "gridcolor": "#506784",
            "linecolor": "#506784",
            "ticks": ""
           },
           "baxis": {
            "gridcolor": "#506784",
            "linecolor": "#506784",
            "ticks": ""
           },
           "caxis": {
            "gridcolor": "#506784",
            "linecolor": "#506784",
            "ticks": ""
           }
          },
          "coloraxis": {
           "colorbar": {
            "outlinewidth": 0,
            "ticks": ""
           }
          },
          "colorscale": {
           "sequential": [
            [
             0.0,
             "#0d0887"
            ],
            [
             0.1111111111111111,
             "#46039f"
            ],
            [
             0.2222222222222222,
             "#7201a8"
            ],
            [
             0.3333333333333333,
             "#9c179e"
            ],
            [
             0.4444444444444444,
             "#bd3786"
            ],
            [
             0.5555555555555556,
             "#d8576b"
            ],
            [
             0.6666666666666666,
             "#ed7953"
            ],
            [
             0.7777777777777778,
             "#fb9f3a"
            ],
            [
             0.8888888888888888,
             "#fdca26"
            ],
            [
             1.0,
             "#f0f921"
            ]
           ],
           "sequentialminus": [
            [
             0.0,
             "#0d0887"
            ],
            [
             0.1111111111111111,
             "#46039f"
            ],
            [
             0.2222222222222222,
             "#7201a8"
            ],
            [
             0.3333333333333333,
             "#9c179e"
            ],
            [
             0.4444444444444444,
             "#bd3786"
            ],
            [
             0.5555555555555556,
             "#d8576b"
            ],
            [
             0.6666666666666666,
             "#ed7953"
            ],
            [
             0.7777777777777778,
             "#fb9f3a"
            ],
            [
             0.8888888888888888,
             "#fdca26"
            ],
            [
             1.0,
             "#f0f921"
            ]
           ],
           "diverging": [
            [
             0,
             "#8e0152"
            ],
            [
             0.1,
             "#c51b7d"
            ],
            [
             0.2,
             "#de77ae"
            ],
            [
             0.3,
             "#f1b6da"
            ],
            [
             0.4,
             "#fde0ef"
            ],
            [
             0.5,
             "#f7f7f7"
            ],
            [
             0.6,
             "#e6f5d0"
            ],
            [
             0.7,
             "#b8e186"
            ],
            [
             0.8,
             "#7fbc41"
            ],
            [
             0.9,
             "#4d9221"
            ],
            [
             1,
             "#276419"
            ]
           ]
          },
          "xaxis": {
           "gridcolor": "#283442",
           "linecolor": "#506784",
           "ticks": "",
           "title": {
            "standoff": 15
           },
           "zerolinecolor": "#283442",
           "automargin": true,
           "zerolinewidth": 2
          },
          "yaxis": {
           "gridcolor": "#283442",
           "linecolor": "#506784",
           "ticks": "",
           "title": {
            "standoff": 15
           },
           "zerolinecolor": "#283442",
           "automargin": true,
           "zerolinewidth": 2
          },
          "scene": {
           "xaxis": {
            "backgroundcolor": "rgb(17,17,17)",
            "gridcolor": "#506784",
            "linecolor": "#506784",
            "showbackground": true,
            "ticks": "",
            "zerolinecolor": "#C8D4E3",
            "gridwidth": 2
           },
           "yaxis": {
            "backgroundcolor": "rgb(17,17,17)",
            "gridcolor": "#506784",
            "linecolor": "#506784",
            "showbackground": true,
            "ticks": "",
            "zerolinecolor": "#C8D4E3",
            "gridwidth": 2
           },
           "zaxis": {
            "backgroundcolor": "rgb(17,17,17)",
            "gridcolor": "#506784",
            "linecolor": "#506784",
            "showbackground": true,
            "ticks": "",
            "zerolinecolor": "#C8D4E3",
            "gridwidth": 2
           }
          },
          "shapedefaults": {
           "line": {
            "color": "#f2f5fa"
           }
          },
          "annotationdefaults": {
           "arrowcolor": "#f2f5fa",
           "arrowhead": 0,
           "arrowwidth": 1
          },
          "geo": {
           "bgcolor": "rgb(17,17,17)",
           "landcolor": "rgb(17,17,17)",
           "subunitcolor": "#506784",
           "showland": true,
           "showlakes": true,
           "lakecolor": "rgb(17,17,17)"
          },
          "title": {
           "x": 0.05
          },
          "updatemenudefaults": {
           "bgcolor": "#506784",
           "borderwidth": 0
          },
          "sliderdefaults": {
           "bgcolor": "#C8D4E3",
           "borderwidth": 1,
           "bordercolor": "rgb(17,17,17)",
           "tickwidth": 0
          },
          "mapbox": {
           "style": "dark"
          }
         }
        },
        "xaxis": {
         "anchor": "y",
         "domain": [
          0.0,
          0.7363
         ],
         "title": {
          "text": "event F1"
         }
        },
        "yaxis": {
         "anchor": "x",
         "domain": [
          0.0,
          1.0
         ],
         "title": {
          "text": "value"
         }
        },
        "xaxis2": {
         "anchor": "y2",
         "domain": [
          0.7413,
          1.0
         ],
         "matches": "x2",
         "showticklabels": false,
         "showline": false,
         "ticks": "",
         "showgrid": true
        },
        "yaxis2": {
         "anchor": "x2",
         "domain": [
          0.0,
          1.0
         ],
         "matches": "y",
         "showticklabels": false,
         "showgrid": true
        },
        "legend": {
         "title": {
          "text": "metric"
         },
         "tracegroupgap": 0
        },
        "margin": {
         "t": 60
        },
        "barmode": "overlay"
       },
       "config": {
        "plotlyServerURL": "https://plot.ly"
       }
      },
      "text/html": [
       "<div>                            <div id=\"c4ddfae2-0d2d-41b8-9bee-f91dc09f7aa0\" class=\"plotly-graph-div\" style=\"height:525px; width:100%;\"></div>            <script type=\"text/javascript\">                require([\"plotly\"], function(Plotly) {                    window.PLOTLYENV=window.PLOTLYENV || {};                                    if (document.getElementById(\"c4ddfae2-0d2d-41b8-9bee-f91dc09f7aa0\")) {                    Plotly.newPlot(                        \"c4ddfae2-0d2d-41b8-9bee-f91dc09f7aa0\",                        [{\"hovertemplate\":\"metric=event precision<br>event F1=%{x}<br>value=%{y}<extra></extra>\",\"legendgroup\":\"event precision\",\"marker\":{\"color\":\"#636efa\",\"symbol\":\"circle\"},\"mode\":\"markers\",\"name\":\"event precision\",\"orientation\":\"v\",\"showlegend\":true,\"x\":[0.7299703264094956,0.874329958308517,0.7974025974025974,0.7080745341614907,0.719047619047619,0.7235079171741778,0.5333333333333333],\"xaxis\":\"x\",\"y\":[0.8541666666666666,0.8465974625144176,0.8057742782152231,0.5711422845691383,0.7259615384615384,0.6456521739130435,0.6451612903225806],\"yaxis\":\"y\",\"type\":\"scatter\"},{\"alignmentgroup\":\"True\",\"bingroup\":\"y\",\"hovertemplate\":\"metric=event precision<br>value=%{y}<br>count=%{x}<extra></extra>\",\"legendgroup\":\"event precision\",\"marker\":{\"color\":\"#636efa\"},\"name\":\"event precision\",\"offsetgroup\":\"event precision\",\"opacity\":0.5,\"showlegend\":false,\"xaxis\":\"x2\",\"y\":[0.8541666666666666,0.8465974625144176,0.8057742782152231,0.5711422845691383,0.7259615384615384,0.6456521739130435,0.6451612903225806],\"yaxis\":\"y2\",\"type\":\"histogram\"},{\"hovertemplate\":\"metric=event recall<br>event F1=%{x}<br>value=%{y}<extra></extra>\",\"legendgroup\":\"event recall\",\"marker\":{\"color\":\"#EF553B\",\"symbol\":\"circle\"},\"mode\":\"markers\",\"name\":\"event recall\",\"orientation\":\"v\",\"showlegend\":true,\"x\":[0.7299703264094956,0.874329958308517,0.7974025974025974,0.7080745341614907,0.719047619047619,0.7235079171741778,0.5333333333333333],\"xaxis\":\"x\",\"y\":[0.6373056994818653,0.9039408866995073,0.7892030848329049,0.9313725490196079,0.7122641509433962,0.8227146814404432,0.45454545454545453],\"yaxis\":\"y\",\"type\":\"scatter\"},{\"alignmentgroup\":\"True\",\"bingroup\":\"y\",\"hovertemplate\":\"metric=event recall<br>value=%{y}<br>count=%{x}<extra></extra>\",\"legendgroup\":\"event recall\",\"marker\":{\"color\":\"#EF553B\"},\"name\":\"event recall\",\"offsetgroup\":\"event recall\",\"opacity\":0.5,\"showlegend\":false,\"xaxis\":\"x2\",\"y\":[0.6373056994818653,0.9039408866995073,0.7892030848329049,0.9313725490196079,0.7122641509433962,0.8227146814404432,0.45454545454545453],\"yaxis\":\"y2\",\"type\":\"histogram\"},{\"fill\":\"toself\",\"mode\":\"lines\",\"name\":\"identity\",\"x\":[0.7299703264094956,0.874329958308517,0.7974025974025974,0.7080745341614907,0.719047619047619,0.7235079171741778,0.5333333333333333],\"y\":[0.7299703264094956,0.874329958308517,0.7974025974025974,0.7080745341614907,0.719047619047619,0.7235079171741778,0.5333333333333333],\"type\":\"scatter\"}],                        {\"template\":{\"data\":{\"histogram2dcontour\":[{\"type\":\"histogram2dcontour\",\"colorbar\":{\"outlinewidth\":0,\"ticks\":\"\"},\"colorscale\":[[0.0,\"#0d0887\"],[0.1111111111111111,\"#46039f\"],[0.2222222222222222,\"#7201a8\"],[0.3333333333333333,\"#9c179e\"],[0.4444444444444444,\"#bd3786\"],[0.5555555555555556,\"#d8576b\"],[0.6666666666666666,\"#ed7953\"],[0.7777777777777778,\"#fb9f3a\"],[0.8888888888888888,\"#fdca26\"],[1.0,\"#f0f921\"]]}],\"choropleth\":[{\"type\":\"choropleth\",\"colorbar\":{\"outlinewidth\":0,\"ticks\":\"\"}}],\"histogram2d\":[{\"type\":\"histogram2d\",\"colorbar\":{\"outlinewidth\":0,\"ticks\":\"\"},\"colorscale\":[[0.0,\"#0d0887\"],[0.1111111111111111,\"#46039f\"],[0.2222222222222222,\"#7201a8\"],[0.3333333333333333,\"#9c179e\"],[0.4444444444444444,\"#bd3786\"],[0.5555555555555556,\"#d8576b\"],[0.6666666666666666,\"#ed7953\"],[0.7777777777777778,\"#fb9f3a\"],[0.8888888888888888,\"#fdca26\"],[1.0,\"#f0f921\"]]}],\"heatmap\":[{\"type\":\"heatmap\",\"colorbar\":{\"outlinewidth\":0,\"ticks\":\"\"},\"colorscale\":[[0.0,\"#0d0887\"],[0.1111111111111111,\"#46039f\"],[0.2222222222222222,\"#7201a8\"],[0.3333333333333333,\"#9c179e\"],[0.4444444444444444,\"#bd3786\"],[0.5555555555555556,\"#d8576b\"],[0.6666666666666666,\"#ed7953\"],[0.7777777777777778,\"#fb9f3a\"],[0.8888888888888888,\"#fdca26\"],[1.0,\"#f0f921\"]]}],\"heatmapgl\":[{\"type\":\"heatmapgl\",\"colorbar\":{\"outlinewidth\":0,\"ticks\":\"\"},\"colorscale\":[[0.0,\"#0d0887\"],[0.1111111111111111,\"#46039f\"],[0.2222222222222222,\"#7201a8\"],[0.3333333333333333,\"#9c179e\"],[0.4444444444444444,\"#bd3786\"],[0.5555555555555556,\"#d8576b\"],[0.6666666666666666,\"#ed7953\"],[0.7777777777777778,\"#fb9f3a\"],[0.8888888888888888,\"#fdca26\"],[1.0,\"#f0f921\"]]}],\"contourcarpet\":[{\"type\":\"contourcarpet\",\"colorbar\":{\"outlinewidth\":0,\"ticks\":\"\"}}],\"contour\":[{\"type\":\"contour\",\"colorbar\":{\"outlinewidth\":0,\"ticks\":\"\"},\"colorscale\":[[0.0,\"#0d0887\"],[0.1111111111111111,\"#46039f\"],[0.2222222222222222,\"#7201a8\"],[0.3333333333333333,\"#9c179e\"],[0.4444444444444444,\"#bd3786\"],[0.5555555555555556,\"#d8576b\"],[0.6666666666666666,\"#ed7953\"],[0.7777777777777778,\"#fb9f3a\"],[0.8888888888888888,\"#fdca26\"],[1.0,\"#f0f921\"]]}],\"surface\":[{\"type\":\"surface\",\"colorbar\":{\"outlinewidth\":0,\"ticks\":\"\"},\"colorscale\":[[0.0,\"#0d0887\"],[0.1111111111111111,\"#46039f\"],[0.2222222222222222,\"#7201a8\"],[0.3333333333333333,\"#9c179e\"],[0.4444444444444444,\"#bd3786\"],[0.5555555555555556,\"#d8576b\"],[0.6666666666666666,\"#ed7953\"],[0.7777777777777778,\"#fb9f3a\"],[0.8888888888888888,\"#fdca26\"],[1.0,\"#f0f921\"]]}],\"mesh3d\":[{\"type\":\"mesh3d\",\"colorbar\":{\"outlinewidth\":0,\"ticks\":\"\"}}],\"scatter\":[{\"marker\":{\"line\":{\"color\":\"#283442\"}},\"type\":\"scatter\"}],\"parcoords\":[{\"type\":\"parcoords\",\"line\":{\"colorbar\":{\"outlinewidth\":0,\"ticks\":\"\"}}}],\"scatterpolargl\":[{\"type\":\"scatterpolargl\",\"marker\":{\"colorbar\":{\"outlinewidth\":0,\"ticks\":\"\"}}}],\"bar\":[{\"error_x\":{\"color\":\"#f2f5fa\"},\"error_y\":{\"color\":\"#f2f5fa\"},\"marker\":{\"line\":{\"color\":\"rgb(17,17,17)\",\"width\":0.5},\"pattern\":{\"fillmode\":\"overlay\",\"size\":10,\"solidity\":0.2}},\"type\":\"bar\"}],\"scattergeo\":[{\"type\":\"scattergeo\",\"marker\":{\"colorbar\":{\"outlinewidth\":0,\"ticks\":\"\"}}}],\"scatterpolar\":[{\"type\":\"scatterpolar\",\"marker\":{\"colorbar\":{\"outlinewidth\":0,\"ticks\":\"\"}}}],\"histogram\":[{\"marker\":{\"pattern\":{\"fillmode\":\"overlay\",\"size\":10,\"solidity\":0.2}},\"type\":\"histogram\"}],\"scattergl\":[{\"marker\":{\"line\":{\"color\":\"#283442\"}},\"type\":\"scattergl\"}],\"scatter3d\":[{\"type\":\"scatter3d\",\"line\":{\"colorbar\":{\"outlinewidth\":0,\"ticks\":\"\"}},\"marker\":{\"colorbar\":{\"outlinewidth\":0,\"ticks\":\"\"}}}],\"scattermapbox\":[{\"type\":\"scattermapbox\",\"marker\":{\"colorbar\":{\"outlinewidth\":0,\"ticks\":\"\"}}}],\"scatterternary\":[{\"type\":\"scatterternary\",\"marker\":{\"colorbar\":{\"outlinewidth\":0,\"ticks\":\"\"}}}],\"scattercarpet\":[{\"type\":\"scattercarpet\",\"marker\":{\"colorbar\":{\"outlinewidth\":0,\"ticks\":\"\"}}}],\"carpet\":[{\"aaxis\":{\"endlinecolor\":\"#A2B1C6\",\"gridcolor\":\"#506784\",\"linecolor\":\"#506784\",\"minorgridcolor\":\"#506784\",\"startlinecolor\":\"#A2B1C6\"},\"baxis\":{\"endlinecolor\":\"#A2B1C6\",\"gridcolor\":\"#506784\",\"linecolor\":\"#506784\",\"minorgridcolor\":\"#506784\",\"startlinecolor\":\"#A2B1C6\"},\"type\":\"carpet\"}],\"table\":[{\"cells\":{\"fill\":{\"color\":\"#506784\"},\"line\":{\"color\":\"rgb(17,17,17)\"}},\"header\":{\"fill\":{\"color\":\"#2a3f5f\"},\"line\":{\"color\":\"rgb(17,17,17)\"}},\"type\":\"table\"}],\"barpolar\":[{\"marker\":{\"line\":{\"color\":\"rgb(17,17,17)\",\"width\":0.5},\"pattern\":{\"fillmode\":\"overlay\",\"size\":10,\"solidity\":0.2}},\"type\":\"barpolar\"}],\"pie\":[{\"automargin\":true,\"type\":\"pie\"}]},\"layout\":{\"autotypenumbers\":\"strict\",\"colorway\":[\"#636efa\",\"#EF553B\",\"#00cc96\",\"#ab63fa\",\"#FFA15A\",\"#19d3f3\",\"#FF6692\",\"#B6E880\",\"#FF97FF\",\"#FECB52\"],\"font\":{\"color\":\"#f2f5fa\"},\"hovermode\":\"closest\",\"hoverlabel\":{\"align\":\"left\"},\"paper_bgcolor\":\"rgb(17,17,17)\",\"plot_bgcolor\":\"rgb(17,17,17)\",\"polar\":{\"bgcolor\":\"rgb(17,17,17)\",\"angularaxis\":{\"gridcolor\":\"#506784\",\"linecolor\":\"#506784\",\"ticks\":\"\"},\"radialaxis\":{\"gridcolor\":\"#506784\",\"linecolor\":\"#506784\",\"ticks\":\"\"}},\"ternary\":{\"bgcolor\":\"rgb(17,17,17)\",\"aaxis\":{\"gridcolor\":\"#506784\",\"linecolor\":\"#506784\",\"ticks\":\"\"},\"baxis\":{\"gridcolor\":\"#506784\",\"linecolor\":\"#506784\",\"ticks\":\"\"},\"caxis\":{\"gridcolor\":\"#506784\",\"linecolor\":\"#506784\",\"ticks\":\"\"}},\"coloraxis\":{\"colorbar\":{\"outlinewidth\":0,\"ticks\":\"\"}},\"colorscale\":{\"sequential\":[[0.0,\"#0d0887\"],[0.1111111111111111,\"#46039f\"],[0.2222222222222222,\"#7201a8\"],[0.3333333333333333,\"#9c179e\"],[0.4444444444444444,\"#bd3786\"],[0.5555555555555556,\"#d8576b\"],[0.6666666666666666,\"#ed7953\"],[0.7777777777777778,\"#fb9f3a\"],[0.8888888888888888,\"#fdca26\"],[1.0,\"#f0f921\"]],\"sequentialminus\":[[0.0,\"#0d0887\"],[0.1111111111111111,\"#46039f\"],[0.2222222222222222,\"#7201a8\"],[0.3333333333333333,\"#9c179e\"],[0.4444444444444444,\"#bd3786\"],[0.5555555555555556,\"#d8576b\"],[0.6666666666666666,\"#ed7953\"],[0.7777777777777778,\"#fb9f3a\"],[0.8888888888888888,\"#fdca26\"],[1.0,\"#f0f921\"]],\"diverging\":[[0,\"#8e0152\"],[0.1,\"#c51b7d\"],[0.2,\"#de77ae\"],[0.3,\"#f1b6da\"],[0.4,\"#fde0ef\"],[0.5,\"#f7f7f7\"],[0.6,\"#e6f5d0\"],[0.7,\"#b8e186\"],[0.8,\"#7fbc41\"],[0.9,\"#4d9221\"],[1,\"#276419\"]]},\"xaxis\":{\"gridcolor\":\"#283442\",\"linecolor\":\"#506784\",\"ticks\":\"\",\"title\":{\"standoff\":15},\"zerolinecolor\":\"#283442\",\"automargin\":true,\"zerolinewidth\":2},\"yaxis\":{\"gridcolor\":\"#283442\",\"linecolor\":\"#506784\",\"ticks\":\"\",\"title\":{\"standoff\":15},\"zerolinecolor\":\"#283442\",\"automargin\":true,\"zerolinewidth\":2},\"scene\":{\"xaxis\":{\"backgroundcolor\":\"rgb(17,17,17)\",\"gridcolor\":\"#506784\",\"linecolor\":\"#506784\",\"showbackground\":true,\"ticks\":\"\",\"zerolinecolor\":\"#C8D4E3\",\"gridwidth\":2},\"yaxis\":{\"backgroundcolor\":\"rgb(17,17,17)\",\"gridcolor\":\"#506784\",\"linecolor\":\"#506784\",\"showbackground\":true,\"ticks\":\"\",\"zerolinecolor\":\"#C8D4E3\",\"gridwidth\":2},\"zaxis\":{\"backgroundcolor\":\"rgb(17,17,17)\",\"gridcolor\":\"#506784\",\"linecolor\":\"#506784\",\"showbackground\":true,\"ticks\":\"\",\"zerolinecolor\":\"#C8D4E3\",\"gridwidth\":2}},\"shapedefaults\":{\"line\":{\"color\":\"#f2f5fa\"}},\"annotationdefaults\":{\"arrowcolor\":\"#f2f5fa\",\"arrowhead\":0,\"arrowwidth\":1},\"geo\":{\"bgcolor\":\"rgb(17,17,17)\",\"landcolor\":\"rgb(17,17,17)\",\"subunitcolor\":\"#506784\",\"showland\":true,\"showlakes\":true,\"lakecolor\":\"rgb(17,17,17)\"},\"title\":{\"x\":0.05},\"updatemenudefaults\":{\"bgcolor\":\"#506784\",\"borderwidth\":0},\"sliderdefaults\":{\"bgcolor\":\"#C8D4E3\",\"borderwidth\":1,\"bordercolor\":\"rgb(17,17,17)\",\"tickwidth\":0},\"mapbox\":{\"style\":\"dark\"}}},\"xaxis\":{\"anchor\":\"y\",\"domain\":[0.0,0.7363],\"title\":{\"text\":\"event F1\"}},\"yaxis\":{\"anchor\":\"x\",\"domain\":[0.0,1.0],\"title\":{\"text\":\"value\"}},\"xaxis2\":{\"anchor\":\"y2\",\"domain\":[0.7413,1.0],\"matches\":\"x2\",\"showticklabels\":false,\"showline\":false,\"ticks\":\"\",\"showgrid\":true},\"yaxis2\":{\"anchor\":\"x2\",\"domain\":[0.0,1.0],\"matches\":\"y\",\"showticklabels\":false,\"showgrid\":true},\"legend\":{\"title\":{\"text\":\"metric\"},\"tracegroupgap\":0},\"margin\":{\"t\":60},\"barmode\":\"overlay\"},                        {\"responsive\": true}                    ).then(function(){\n",
       "                            \n",
       "var gd = document.getElementById('c4ddfae2-0d2d-41b8-9bee-f91dc09f7aa0');\n",
       "var x = new MutationObserver(function (mutations, observer) {{\n",
       "        var display = window.getComputedStyle(gd).display;\n",
       "        if (!display || display === 'none') {{\n",
       "            console.log([gd, 'removed!']);\n",
       "            Plotly.purge(gd);\n",
       "            observer.disconnect();\n",
       "        }}\n",
       "}});\n",
       "\n",
       "// Listen for the removal of the full notebook cells\n",
       "var notebookContainer = gd.closest('#notebook-container');\n",
       "if (notebookContainer) {{\n",
       "    x.observe(notebookContainer, {childList: true});\n",
       "}}\n",
       "\n",
       "// Listen for the clearing of the current output cell\n",
       "var outputEl = gd.closest('.output');\n",
       "if (outputEl) {{\n",
       "    x.observe(outputEl, {childList: true});\n",
       "}}\n",
       "\n",
       "                        })                };                });            </script>        </div>"
      ]
     },
     "metadata": {},
     "output_type": "display_data"
    }
   ],
   "execution_count": 68
  }
 ],
 "metadata": {
  "kernelspec": {
   "display_name": "Python 3.10.6 ('venv': venv)",
   "language": "python",
   "name": "python3"
  },
  "language_info": {
   "codemirror_mode": {
    "name": "ipython",
    "version": 3
   },
   "file_extension": ".py",
   "mimetype": "text/x-python",
   "name": "python",
   "nbconvert_exporter": "python",
   "pygments_lexer": "ipython3",
   "version": "3.10.6"
  },
  "orig_nbformat": 4,
  "vscode": {
   "interpreter": {
    "hash": "69eb08d3e713eff25484e90b18c01e15df779e80a0db295f9ddc53faed0455be"
   }
  }
 },
 "nbformat": 4,
 "nbformat_minor": 2
}
