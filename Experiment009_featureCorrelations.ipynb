{
 "cells": [
  {
   "attachments": {},
   "cell_type": "markdown",
   "metadata": {},
   "source": [
    "# feature correlations"
   ]
  },
  {
   "cell_type": "code",
   "execution_count": 1,
   "metadata": {},
   "outputs": [],
   "source": [
    "#external libraries\n",
    "import os\n",
    "import dotenv\n",
    "import pandas as pd\n",
    "import numpy as np\n",
    "from scipy import signal as sg\n",
    "import pickle as pkl\n",
    "import time\n",
    "import matplotlib.pyplot as plt\n",
    "\n",
    "#project library\n",
    "from spinco import *\n",
    "\n",
    "#environment variables\n",
    "dotenv.load_dotenv('lab.env')\n",
    "\n",
    "#project variables\n",
    "datapath=os.environ['DATAPATH']"
   ]
  },
  {
   "cell_type": "code",
   "execution_count": 2,
   "metadata": {},
   "outputs": [],
   "source": [
    "#define features path\n",
    "dreamspath=datapath+\"/DREAMS\"\n",
    "featurespath=dreamspath+\"/features\"\n",
    "        \n",
    "windowDurations=[0.5,1,1.5,2]"
   ]
  },
  {
   "cell_type": "markdown",
   "metadata": {},
   "source": [
    "## Load data"
   ]
  },
  {
   "cell_type": "code",
   "execution_count": 3,
   "metadata": {},
   "outputs": [
    {
     "name": "stdout",
     "output_type": "stream",
     "text": [
      "SubjectId: 0001--------------\n",
      "resampling from 100 to 200\n",
      "SubjectId: 0003--------------\n",
      "resampling from 50 to 200\n",
      "SubjectId: 0006--------------\n",
      "duration discrepancy, removing last 0.7 seconds\n"
     ]
    }
   ],
   "source": [
    "signals, annotations, signalsMetadata = loadDREAMSSpindles(dreamspath)"
   ]
  },
  {
   "cell_type": "code",
   "execution_count": 4,
   "metadata": {},
   "outputs": [
    {
     "data": {
      "text/html": [
       "<div>\n",
       "<style scoped>\n",
       "    .dataframe tbody tr th:only-of-type {\n",
       "        vertical-align: middle;\n",
       "    }\n",
       "\n",
       "    .dataframe tbody tr th {\n",
       "        vertical-align: top;\n",
       "    }\n",
       "\n",
       "    .dataframe thead th {\n",
       "        text-align: right;\n",
       "    }\n",
       "</style>\n",
       "<table border=\"1\" class=\"dataframe\">\n",
       "  <thead>\n",
       "    <tr style=\"text-align: right;\">\n",
       "      <th></th>\n",
       "      <th>filename</th>\n",
       "      <th>channel</th>\n",
       "      <th>subjectId</th>\n",
       "      <th>duration</th>\n",
       "      <th>samplerate</th>\n",
       "      <th>database</th>\n",
       "    </tr>\n",
       "  </thead>\n",
       "  <tbody>\n",
       "    <tr>\n",
       "      <th>0</th>\n",
       "      <td>excerpt1.txt</td>\n",
       "      <td>C3-A1</td>\n",
       "      <td>0001</td>\n",
       "      <td>1800</td>\n",
       "      <td>200</td>\n",
       "      <td>DREAMS</td>\n",
       "    </tr>\n",
       "    <tr>\n",
       "      <th>1</th>\n",
       "      <td>excerpt2.txt</td>\n",
       "      <td>CZ-A1</td>\n",
       "      <td>0002</td>\n",
       "      <td>1800</td>\n",
       "      <td>200</td>\n",
       "      <td>DREAMS</td>\n",
       "    </tr>\n",
       "    <tr>\n",
       "      <th>2</th>\n",
       "      <td>excerpt3.txt</td>\n",
       "      <td>C3-A1</td>\n",
       "      <td>0003</td>\n",
       "      <td>1800</td>\n",
       "      <td>200</td>\n",
       "      <td>DREAMS</td>\n",
       "    </tr>\n",
       "    <tr>\n",
       "      <th>3</th>\n",
       "      <td>excerpt4.txt</td>\n",
       "      <td>CZ-A1</td>\n",
       "      <td>0004</td>\n",
       "      <td>1800</td>\n",
       "      <td>200</td>\n",
       "      <td>DREAMS</td>\n",
       "    </tr>\n",
       "    <tr>\n",
       "      <th>4</th>\n",
       "      <td>excerpt5.txt</td>\n",
       "      <td>CZ-A1</td>\n",
       "      <td>0005</td>\n",
       "      <td>1800</td>\n",
       "      <td>200</td>\n",
       "      <td>DREAMS</td>\n",
       "    </tr>\n",
       "    <tr>\n",
       "      <th>5</th>\n",
       "      <td>excerpt6.txt</td>\n",
       "      <td>CZ-A1</td>\n",
       "      <td>0006</td>\n",
       "      <td>1800</td>\n",
       "      <td>200</td>\n",
       "      <td>DREAMS</td>\n",
       "    </tr>\n",
       "    <tr>\n",
       "      <th>6</th>\n",
       "      <td>excerpt7.txt</td>\n",
       "      <td>CZ-A1</td>\n",
       "      <td>0007</td>\n",
       "      <td>1800</td>\n",
       "      <td>200</td>\n",
       "      <td>DREAMS</td>\n",
       "    </tr>\n",
       "    <tr>\n",
       "      <th>7</th>\n",
       "      <td>excerpt8.txt</td>\n",
       "      <td>CZ-A1</td>\n",
       "      <td>0008</td>\n",
       "      <td>1800</td>\n",
       "      <td>200</td>\n",
       "      <td>DREAMS</td>\n",
       "    </tr>\n",
       "  </tbody>\n",
       "</table>\n",
       "</div>"
      ],
      "text/plain": [
       "       filename channel subjectId  duration  samplerate database\n",
       "0  excerpt1.txt   C3-A1      0001      1800         200   DREAMS\n",
       "1  excerpt2.txt   CZ-A1      0002      1800         200   DREAMS\n",
       "2  excerpt3.txt   C3-A1      0003      1800         200   DREAMS\n",
       "3  excerpt4.txt   CZ-A1      0004      1800         200   DREAMS\n",
       "4  excerpt5.txt   CZ-A1      0005      1800         200   DREAMS\n",
       "5  excerpt6.txt   CZ-A1      0006      1800         200   DREAMS\n",
       "6  excerpt7.txt   CZ-A1      0007      1800         200   DREAMS\n",
       "7  excerpt8.txt   CZ-A1      0008      1800         200   DREAMS"
      ]
     },
     "execution_count": 4,
     "metadata": {},
     "output_type": "execute_result"
    }
   ],
   "source": [
    "signalsMetadata"
   ]
  },
  {
   "attachments": {},
   "cell_type": "markdown",
   "metadata": {},
   "source": [
    "## Load features"
   ]
  },
  {
   "cell_type": "code",
   "execution_count": 5,
   "metadata": {},
   "outputs": [
    {
     "data": {
      "text/plain": [
       "[0.5, 1, 1.5, 2]"
      ]
     },
     "execution_count": 5,
     "metadata": {},
     "output_type": "execute_result"
    }
   ],
   "source": [
    "windowDurations"
   ]
  },
  {
   "cell_type": "code",
   "execution_count": 6,
   "metadata": {},
   "outputs": [],
   "source": [
    "featureDf=pd.DataFrame()\n",
    "\n",
    "durationFolders=os.listdir(dreamspath+'/features/200fs')\n",
    "for duration in durationFolders:\n",
    "    subjectFolders=os.listdir(dreamspath+'/features/200fs/'+duration)\n",
    "    for subject in subjectFolders:\n",
    "        aux=os.listdir(dreamspath+'/features/200fs/'+duration+'/'+subject)\n",
    "        thisFeatureDf=pd.DataFrame({\n",
    "            'filename':aux\n",
    "        })\n",
    "        featureDf=pd.concat([featureDf,thisFeatureDf],axis=0)"
   ]
  },
  {
   "cell_type": "code",
   "execution_count": 7,
   "metadata": {},
   "outputs": [
    {
     "data": {
      "text/html": [
       "<div>\n",
       "<style scoped>\n",
       "    .dataframe tbody tr th:only-of-type {\n",
       "        vertical-align: middle;\n",
       "    }\n",
       "\n",
       "    .dataframe tbody tr th {\n",
       "        vertical-align: top;\n",
       "    }\n",
       "\n",
       "    .dataframe thead th {\n",
       "        text-align: right;\n",
       "    }\n",
       "</style>\n",
       "<table border=\"1\" class=\"dataframe\">\n",
       "  <thead>\n",
       "    <tr style=\"text-align: right;\">\n",
       "      <th></th>\n",
       "      <th>filename</th>\n",
       "    </tr>\n",
       "  </thead>\n",
       "  <tbody>\n",
       "    <tr>\n",
       "      <th>0</th>\n",
       "      <td>0.5_0001_hjortActivity_alpha.fd</td>\n",
       "    </tr>\n",
       "    <tr>\n",
       "      <th>1</th>\n",
       "      <td>0.5_0001_hjortActivity_beta1.fd</td>\n",
       "    </tr>\n",
       "    <tr>\n",
       "      <th>2</th>\n",
       "      <td>0.5_0001_hjortActivity_beta2.fd</td>\n",
       "    </tr>\n",
       "    <tr>\n",
       "      <th>3</th>\n",
       "      <td>0.5_0001_hjortActivity_broadband.fd</td>\n",
       "    </tr>\n",
       "    <tr>\n",
       "      <th>4</th>\n",
       "      <td>0.5_0001_hjortActivity_delta1.fd</td>\n",
       "    </tr>\n",
       "    <tr>\n",
       "      <th>...</th>\n",
       "      <td>...</td>\n",
       "    </tr>\n",
       "    <tr>\n",
       "      <th>28</th>\n",
       "      <td>2_0008_petrosian_delta1.fd</td>\n",
       "    </tr>\n",
       "    <tr>\n",
       "      <th>29</th>\n",
       "      <td>2_0008_petrosian_delta2.fd</td>\n",
       "    </tr>\n",
       "    <tr>\n",
       "      <th>30</th>\n",
       "      <td>2_0008_petrosian_sigma.fd</td>\n",
       "    </tr>\n",
       "    <tr>\n",
       "      <th>31</th>\n",
       "      <td>2_0008_petrosian_theta.fd</td>\n",
       "    </tr>\n",
       "    <tr>\n",
       "      <th>32</th>\n",
       "      <td>2_0008_sigmaIndex_broadband.fd</td>\n",
       "    </tr>\n",
       "  </tbody>\n",
       "</table>\n",
       "<p>1056 rows × 1 columns</p>\n",
       "</div>"
      ],
      "text/plain": [
       "                               filename\n",
       "0       0.5_0001_hjortActivity_alpha.fd\n",
       "1       0.5_0001_hjortActivity_beta1.fd\n",
       "2       0.5_0001_hjortActivity_beta2.fd\n",
       "3   0.5_0001_hjortActivity_broadband.fd\n",
       "4      0.5_0001_hjortActivity_delta1.fd\n",
       "..                                  ...\n",
       "28           2_0008_petrosian_delta1.fd\n",
       "29           2_0008_petrosian_delta2.fd\n",
       "30            2_0008_petrosian_sigma.fd\n",
       "31            2_0008_petrosian_theta.fd\n",
       "32       2_0008_sigmaIndex_broadband.fd\n",
       "\n",
       "[1056 rows x 1 columns]"
      ]
     },
     "execution_count": 7,
     "metadata": {},
     "output_type": "execute_result"
    }
   ],
   "source": [
    "featureDf"
   ]
  },
  {
   "cell_type": "code",
   "execution_count": 8,
   "metadata": {},
   "outputs": [],
   "source": [
    "featureDf['window']=featureDf.apply(lambda row:\n",
    "                                    row.filename.split('_')[0],axis=1)\n",
    "featureDf['subjectId']=featureDf.apply(lambda row:\n",
    "                                    row.filename.split('_')[1],axis=1)\n",
    "featureDf['characteristic']=featureDf.apply(lambda row:\n",
    "                                    row.filename.split('_')[2],axis=1)\n",
    "featureDf['bandName']=featureDf.apply(lambda row:\n",
    "                                    row.filename.split('_')[3].split('.')[0],axis=1)"
   ]
  },
  {
   "cell_type": "code",
   "execution_count": 9,
   "metadata": {},
   "outputs": [
    {
     "data": {
      "text/html": [
       "<div>\n",
       "<style scoped>\n",
       "    .dataframe tbody tr th:only-of-type {\n",
       "        vertical-align: middle;\n",
       "    }\n",
       "\n",
       "    .dataframe tbody tr th {\n",
       "        vertical-align: top;\n",
       "    }\n",
       "\n",
       "    .dataframe thead th {\n",
       "        text-align: right;\n",
       "    }\n",
       "</style>\n",
       "<table border=\"1\" class=\"dataframe\">\n",
       "  <thead>\n",
       "    <tr style=\"text-align: right;\">\n",
       "      <th></th>\n",
       "      <th>filename</th>\n",
       "      <th>window</th>\n",
       "      <th>subjectId</th>\n",
       "      <th>characteristic</th>\n",
       "      <th>bandName</th>\n",
       "    </tr>\n",
       "  </thead>\n",
       "  <tbody>\n",
       "    <tr>\n",
       "      <th>0</th>\n",
       "      <td>0.5_0001_hjortActivity_alpha.fd</td>\n",
       "      <td>0.5</td>\n",
       "      <td>0001</td>\n",
       "      <td>hjortActivity</td>\n",
       "      <td>alpha</td>\n",
       "    </tr>\n",
       "    <tr>\n",
       "      <th>1</th>\n",
       "      <td>0.5_0001_hjortActivity_beta1.fd</td>\n",
       "      <td>0.5</td>\n",
       "      <td>0001</td>\n",
       "      <td>hjortActivity</td>\n",
       "      <td>beta1</td>\n",
       "    </tr>\n",
       "    <tr>\n",
       "      <th>2</th>\n",
       "      <td>0.5_0001_hjortActivity_beta2.fd</td>\n",
       "      <td>0.5</td>\n",
       "      <td>0001</td>\n",
       "      <td>hjortActivity</td>\n",
       "      <td>beta2</td>\n",
       "    </tr>\n",
       "    <tr>\n",
       "      <th>3</th>\n",
       "      <td>0.5_0001_hjortActivity_broadband.fd</td>\n",
       "      <td>0.5</td>\n",
       "      <td>0001</td>\n",
       "      <td>hjortActivity</td>\n",
       "      <td>broadband</td>\n",
       "    </tr>\n",
       "    <tr>\n",
       "      <th>4</th>\n",
       "      <td>0.5_0001_hjortActivity_delta1.fd</td>\n",
       "      <td>0.5</td>\n",
       "      <td>0001</td>\n",
       "      <td>hjortActivity</td>\n",
       "      <td>delta1</td>\n",
       "    </tr>\n",
       "    <tr>\n",
       "      <th>...</th>\n",
       "      <td>...</td>\n",
       "      <td>...</td>\n",
       "      <td>...</td>\n",
       "      <td>...</td>\n",
       "      <td>...</td>\n",
       "    </tr>\n",
       "    <tr>\n",
       "      <th>28</th>\n",
       "      <td>2_0008_petrosian_delta1.fd</td>\n",
       "      <td>2</td>\n",
       "      <td>0008</td>\n",
       "      <td>petrosian</td>\n",
       "      <td>delta1</td>\n",
       "    </tr>\n",
       "    <tr>\n",
       "      <th>29</th>\n",
       "      <td>2_0008_petrosian_delta2.fd</td>\n",
       "      <td>2</td>\n",
       "      <td>0008</td>\n",
       "      <td>petrosian</td>\n",
       "      <td>delta2</td>\n",
       "    </tr>\n",
       "    <tr>\n",
       "      <th>30</th>\n",
       "      <td>2_0008_petrosian_sigma.fd</td>\n",
       "      <td>2</td>\n",
       "      <td>0008</td>\n",
       "      <td>petrosian</td>\n",
       "      <td>sigma</td>\n",
       "    </tr>\n",
       "    <tr>\n",
       "      <th>31</th>\n",
       "      <td>2_0008_petrosian_theta.fd</td>\n",
       "      <td>2</td>\n",
       "      <td>0008</td>\n",
       "      <td>petrosian</td>\n",
       "      <td>theta</td>\n",
       "    </tr>\n",
       "    <tr>\n",
       "      <th>32</th>\n",
       "      <td>2_0008_sigmaIndex_broadband.fd</td>\n",
       "      <td>2</td>\n",
       "      <td>0008</td>\n",
       "      <td>sigmaIndex</td>\n",
       "      <td>broadband</td>\n",
       "    </tr>\n",
       "  </tbody>\n",
       "</table>\n",
       "<p>1056 rows × 5 columns</p>\n",
       "</div>"
      ],
      "text/plain": [
       "                               filename window subjectId characteristic  \\\n",
       "0       0.5_0001_hjortActivity_alpha.fd    0.5      0001  hjortActivity   \n",
       "1       0.5_0001_hjortActivity_beta1.fd    0.5      0001  hjortActivity   \n",
       "2       0.5_0001_hjortActivity_beta2.fd    0.5      0001  hjortActivity   \n",
       "3   0.5_0001_hjortActivity_broadband.fd    0.5      0001  hjortActivity   \n",
       "4      0.5_0001_hjortActivity_delta1.fd    0.5      0001  hjortActivity   \n",
       "..                                  ...    ...       ...            ...   \n",
       "28           2_0008_petrosian_delta1.fd      2      0008      petrosian   \n",
       "29           2_0008_petrosian_delta2.fd      2      0008      petrosian   \n",
       "30            2_0008_petrosian_sigma.fd      2      0008      petrosian   \n",
       "31            2_0008_petrosian_theta.fd      2      0008      petrosian   \n",
       "32       2_0008_sigmaIndex_broadband.fd      2      0008     sigmaIndex   \n",
       "\n",
       "     bandName  \n",
       "0       alpha  \n",
       "1       beta1  \n",
       "2       beta2  \n",
       "3   broadband  \n",
       "4      delta1  \n",
       "..        ...  \n",
       "28     delta1  \n",
       "29     delta2  \n",
       "30      sigma  \n",
       "31      theta  \n",
       "32  broadband  \n",
       "\n",
       "[1056 rows x 5 columns]"
      ]
     },
     "execution_count": 9,
     "metadata": {},
     "output_type": "execute_result"
    }
   ],
   "source": [
    "featureDf"
   ]
  },
  {
   "cell_type": "code",
   "execution_count": 10,
   "metadata": {},
   "outputs": [],
   "source": [
    "uniqueFeature=featureDf[['window','characteristic','bandName']].drop_duplicates(ignore_index=True)"
   ]
  },
  {
   "cell_type": "code",
   "execution_count": 11,
   "metadata": {},
   "outputs": [
    {
     "data": {
      "text/html": [
       "<div>\n",
       "<style scoped>\n",
       "    .dataframe tbody tr th:only-of-type {\n",
       "        vertical-align: middle;\n",
       "    }\n",
       "\n",
       "    .dataframe tbody tr th {\n",
       "        vertical-align: top;\n",
       "    }\n",
       "\n",
       "    .dataframe thead th {\n",
       "        text-align: right;\n",
       "    }\n",
       "</style>\n",
       "<table border=\"1\" class=\"dataframe\">\n",
       "  <thead>\n",
       "    <tr style=\"text-align: right;\">\n",
       "      <th></th>\n",
       "      <th>filename</th>\n",
       "      <th>channel</th>\n",
       "      <th>subjectId</th>\n",
       "      <th>duration</th>\n",
       "      <th>samplerate</th>\n",
       "      <th>database</th>\n",
       "    </tr>\n",
       "  </thead>\n",
       "  <tbody>\n",
       "    <tr>\n",
       "      <th>0</th>\n",
       "      <td>excerpt1.txt</td>\n",
       "      <td>C3-A1</td>\n",
       "      <td>0001</td>\n",
       "      <td>1800</td>\n",
       "      <td>200</td>\n",
       "      <td>DREAMS</td>\n",
       "    </tr>\n",
       "    <tr>\n",
       "      <th>1</th>\n",
       "      <td>excerpt2.txt</td>\n",
       "      <td>CZ-A1</td>\n",
       "      <td>0002</td>\n",
       "      <td>1800</td>\n",
       "      <td>200</td>\n",
       "      <td>DREAMS</td>\n",
       "    </tr>\n",
       "    <tr>\n",
       "      <th>2</th>\n",
       "      <td>excerpt3.txt</td>\n",
       "      <td>C3-A1</td>\n",
       "      <td>0003</td>\n",
       "      <td>1800</td>\n",
       "      <td>200</td>\n",
       "      <td>DREAMS</td>\n",
       "    </tr>\n",
       "    <tr>\n",
       "      <th>3</th>\n",
       "      <td>excerpt4.txt</td>\n",
       "      <td>CZ-A1</td>\n",
       "      <td>0004</td>\n",
       "      <td>1800</td>\n",
       "      <td>200</td>\n",
       "      <td>DREAMS</td>\n",
       "    </tr>\n",
       "    <tr>\n",
       "      <th>4</th>\n",
       "      <td>excerpt5.txt</td>\n",
       "      <td>CZ-A1</td>\n",
       "      <td>0005</td>\n",
       "      <td>1800</td>\n",
       "      <td>200</td>\n",
       "      <td>DREAMS</td>\n",
       "    </tr>\n",
       "  </tbody>\n",
       "</table>\n",
       "</div>"
      ],
      "text/plain": [
       "       filename channel subjectId  duration  samplerate database\n",
       "0  excerpt1.txt   C3-A1      0001      1800         200   DREAMS\n",
       "1  excerpt2.txt   CZ-A1      0002      1800         200   DREAMS\n",
       "2  excerpt3.txt   C3-A1      0003      1800         200   DREAMS\n",
       "3  excerpt4.txt   CZ-A1      0004      1800         200   DREAMS\n",
       "4  excerpt5.txt   CZ-A1      0005      1800         200   DREAMS"
      ]
     },
     "execution_count": 11,
     "metadata": {},
     "output_type": "execute_result"
    }
   ],
   "source": [
    "signalsMetadata.head()"
   ]
  },
  {
   "cell_type": "code",
   "execution_count": 12,
   "metadata": {},
   "outputs": [
    {
     "data": {
      "text/html": [
       "<div>\n",
       "<style scoped>\n",
       "    .dataframe tbody tr th:only-of-type {\n",
       "        vertical-align: middle;\n",
       "    }\n",
       "\n",
       "    .dataframe tbody tr th {\n",
       "        vertical-align: top;\n",
       "    }\n",
       "\n",
       "    .dataframe thead th {\n",
       "        text-align: right;\n",
       "    }\n",
       "</style>\n",
       "<table border=\"1\" class=\"dataframe\">\n",
       "  <thead>\n",
       "    <tr style=\"text-align: right;\">\n",
       "      <th></th>\n",
       "      <th>window</th>\n",
       "      <th>characteristic</th>\n",
       "      <th>bandName</th>\n",
       "    </tr>\n",
       "  </thead>\n",
       "  <tbody>\n",
       "    <tr>\n",
       "      <th>0</th>\n",
       "      <td>0.5</td>\n",
       "      <td>hjortActivity</td>\n",
       "      <td>alpha</td>\n",
       "    </tr>\n",
       "    <tr>\n",
       "      <th>1</th>\n",
       "      <td>0.5</td>\n",
       "      <td>hjortActivity</td>\n",
       "      <td>beta1</td>\n",
       "    </tr>\n",
       "    <tr>\n",
       "      <th>2</th>\n",
       "      <td>0.5</td>\n",
       "      <td>hjortActivity</td>\n",
       "      <td>beta2</td>\n",
       "    </tr>\n",
       "    <tr>\n",
       "      <th>3</th>\n",
       "      <td>0.5</td>\n",
       "      <td>hjortActivity</td>\n",
       "      <td>broadband</td>\n",
       "    </tr>\n",
       "    <tr>\n",
       "      <th>4</th>\n",
       "      <td>0.5</td>\n",
       "      <td>hjortActivity</td>\n",
       "      <td>delta1</td>\n",
       "    </tr>\n",
       "    <tr>\n",
       "      <th>...</th>\n",
       "      <td>...</td>\n",
       "      <td>...</td>\n",
       "      <td>...</td>\n",
       "    </tr>\n",
       "    <tr>\n",
       "      <th>127</th>\n",
       "      <td>2</td>\n",
       "      <td>petrosian</td>\n",
       "      <td>delta1</td>\n",
       "    </tr>\n",
       "    <tr>\n",
       "      <th>128</th>\n",
       "      <td>2</td>\n",
       "      <td>petrosian</td>\n",
       "      <td>delta2</td>\n",
       "    </tr>\n",
       "    <tr>\n",
       "      <th>129</th>\n",
       "      <td>2</td>\n",
       "      <td>petrosian</td>\n",
       "      <td>sigma</td>\n",
       "    </tr>\n",
       "    <tr>\n",
       "      <th>130</th>\n",
       "      <td>2</td>\n",
       "      <td>petrosian</td>\n",
       "      <td>theta</td>\n",
       "    </tr>\n",
       "    <tr>\n",
       "      <th>131</th>\n",
       "      <td>2</td>\n",
       "      <td>sigmaIndex</td>\n",
       "      <td>broadband</td>\n",
       "    </tr>\n",
       "  </tbody>\n",
       "</table>\n",
       "<p>132 rows × 3 columns</p>\n",
       "</div>"
      ],
      "text/plain": [
       "    window characteristic   bandName\n",
       "0      0.5  hjortActivity      alpha\n",
       "1      0.5  hjortActivity      beta1\n",
       "2      0.5  hjortActivity      beta2\n",
       "3      0.5  hjortActivity  broadband\n",
       "4      0.5  hjortActivity     delta1\n",
       "..     ...            ...        ...\n",
       "127      2      petrosian     delta1\n",
       "128      2      petrosian     delta2\n",
       "129      2      petrosian      sigma\n",
       "130      2      petrosian      theta\n",
       "131      2     sigmaIndex  broadband\n",
       "\n",
       "[132 rows x 3 columns]"
      ]
     },
     "execution_count": 12,
     "metadata": {},
     "output_type": "execute_result"
    }
   ],
   "source": [
    "uniqueFeature"
   ]
  },
  {
   "cell_type": "markdown",
   "metadata": {},
   "source": [
    "## load some features"
   ]
  },
  {
   "cell_type": "code",
   "execution_count": 17,
   "metadata": {},
   "outputs": [],
   "source": [
    "hjortActivity_001_05=loadFeature(0.5,'0001','hjortActivity','sigma',200,datapath+\"/DREAMS\"+\"/features\")\n",
    "hjortActivity_001_1=loadFeature(1,'0001','hjortActivity','sigma',200,datapath+\"/DREAMS\"+\"/features\")\n",
    "hjortActivity_001_15=loadFeature(1.5,'0001','hjortActivity','sigma',200,datapath+\"/DREAMS\"+\"/features\")\n",
    "hjortActivity_001_2=loadFeature(2,'0001','hjortActivity','sigma',200,datapath+\"/DREAMS\"+\"/features\")"
   ]
  },
  {
   "cell_type": "code",
   "execution_count": 21,
   "metadata": {},
   "outputs": [],
   "source": [
    "petrosian_001_05=loadFeature(0.5,'0001','petrosian','broadband',200,datapath+\"/DREAMS\"+\"/features\")\n",
    "petrosian_001_1=loadFeature(1,'0001','petrosian','broadband',200,datapath+\"/DREAMS\"+\"/features\")\n",
    "petrosian_001_15=loadFeature(1.5,'0001','petrosian','broadband',200,datapath+\"/DREAMS\"+\"/features\")\n",
    "petrosian_001_2=loadFeature(2,'0001','petrosian','broadband',200,datapath+\"/DREAMS\"+\"/features\")"
   ]
  },
  {
   "cell_type": "code",
   "execution_count": 22,
   "metadata": {},
   "outputs": [
    {
     "data": {
      "text/plain": [
       "array([[1.        , 0.86515837],\n",
       "       [0.86515837, 1.        ]])"
      ]
     },
     "execution_count": 22,
     "metadata": {},
     "output_type": "execute_result"
    }
   ],
   "source": [
    "np.corrcoef(hjortActivity_001_05,hjortActivity_001_1)"
   ]
  },
  {
   "cell_type": "code",
   "execution_count": 23,
   "metadata": {},
   "outputs": [
    {
     "data": {
      "text/plain": [
       "array([[1.        , 0.75157051],\n",
       "       [0.75157051, 1.        ]])"
      ]
     },
     "execution_count": 23,
     "metadata": {},
     "output_type": "execute_result"
    }
   ],
   "source": [
    "np.corrcoef(hjortActivity_001_05,hjortActivity_001_15)"
   ]
  },
  {
   "cell_type": "code",
   "execution_count": 24,
   "metadata": {},
   "outputs": [
    {
     "data": {
      "text/plain": [
       "array([[1.        , 0.70612772],\n",
       "       [0.70612772, 1.        ]])"
      ]
     },
     "execution_count": 24,
     "metadata": {},
     "output_type": "execute_result"
    }
   ],
   "source": [
    "np.corrcoef(hjortActivity_001_05,hjortActivity_001_2)"
   ]
  },
  {
   "cell_type": "code",
   "execution_count": 25,
   "metadata": {},
   "outputs": [
    {
     "data": {
      "text/plain": [
       "array([[ 1.        , -0.03812989],\n",
       "       [-0.03812989,  1.        ]])"
      ]
     },
     "execution_count": 25,
     "metadata": {},
     "output_type": "execute_result"
    }
   ],
   "source": [
    "np.corrcoef(hjortActivity_001_05,petrosian_001_05)"
   ]
  },
  {
   "cell_type": "code",
   "execution_count": 26,
   "metadata": {},
   "outputs": [
    {
     "data": {
      "text/plain": [
       "array([[ 1.        , -0.05378161],\n",
       "       [-0.05378161,  1.        ]])"
      ]
     },
     "execution_count": 26,
     "metadata": {},
     "output_type": "execute_result"
    }
   ],
   "source": [
    "np.corrcoef(hjortActivity_001_05,petrosian_001_1)"
   ]
  },
  {
   "cell_type": "code",
   "execution_count": 27,
   "metadata": {},
   "outputs": [
    {
     "data": {
      "text/plain": [
       "array([[ 1.        , -0.06005247],\n",
       "       [-0.06005247,  1.        ]])"
      ]
     },
     "execution_count": 27,
     "metadata": {},
     "output_type": "execute_result"
    }
   ],
   "source": [
    "np.corrcoef(hjortActivity_001_05,petrosian_001_15)"
   ]
  },
  {
   "cell_type": "code",
   "execution_count": 28,
   "metadata": {},
   "outputs": [
    {
     "data": {
      "text/plain": [
       "array([[ 1.        , -0.06216819],\n",
       "       [-0.06216819,  1.        ]])"
      ]
     },
     "execution_count": 28,
     "metadata": {},
     "output_type": "execute_result"
    }
   ],
   "source": [
    "np.corrcoef(hjortActivity_001_05,petrosian_001_2)"
   ]
  },
  {
   "cell_type": "markdown",
   "metadata": {},
   "source": []
  },
  {
   "cell_type": "code",
   "execution_count": 29,
   "metadata": {},
   "outputs": [
    {
     "data": {
      "text/plain": [
       "array([[1.        , 0.93222438],\n",
       "       [0.93222438, 1.        ]])"
      ]
     },
     "execution_count": 29,
     "metadata": {},
     "output_type": "execute_result"
    }
   ],
   "source": [
    "np.corrcoef(hjortActivity_001_1,hjortActivity_001_15)"
   ]
  },
  {
   "cell_type": "code",
   "execution_count": 30,
   "metadata": {},
   "outputs": [
    {
     "data": {
      "text/plain": [
       "array([[1.       , 0.8562394],\n",
       "       [0.8562394, 1.       ]])"
      ]
     },
     "execution_count": 30,
     "metadata": {},
     "output_type": "execute_result"
    }
   ],
   "source": [
    "np.corrcoef(hjortActivity_001_1,hjortActivity_001_2)"
   ]
  },
  {
   "cell_type": "code",
   "execution_count": 31,
   "metadata": {},
   "outputs": [
    {
     "data": {
      "text/plain": [
       "array([[ 1.        , -0.06056732],\n",
       "       [-0.06056732,  1.        ]])"
      ]
     },
     "execution_count": 31,
     "metadata": {},
     "output_type": "execute_result"
    }
   ],
   "source": [
    "np.corrcoef(hjortActivity_001_1,petrosian_001_05)"
   ]
  },
  {
   "cell_type": "code",
   "execution_count": 32,
   "metadata": {},
   "outputs": [
    {
     "data": {
      "text/plain": [
       "array([[ 1.        , -0.06693187],\n",
       "       [-0.06693187,  1.        ]])"
      ]
     },
     "execution_count": 32,
     "metadata": {},
     "output_type": "execute_result"
    }
   ],
   "source": [
    "np.corrcoef(hjortActivity_001_1,petrosian_001_1)"
   ]
  },
  {
   "cell_type": "code",
   "execution_count": 33,
   "metadata": {},
   "outputs": [
    {
     "data": {
      "text/plain": [
       "array([[ 1.        , -0.07350426],\n",
       "       [-0.07350426,  1.        ]])"
      ]
     },
     "execution_count": 33,
     "metadata": {},
     "output_type": "execute_result"
    }
   ],
   "source": [
    "np.corrcoef(hjortActivity_001_1,petrosian_001_15)"
   ]
  },
  {
   "cell_type": "code",
   "execution_count": 34,
   "metadata": {},
   "outputs": [
    {
     "data": {
      "text/plain": [
       "array([[ 1.       , -0.0789152],\n",
       "       [-0.0789152,  1.       ]])"
      ]
     },
     "execution_count": 34,
     "metadata": {},
     "output_type": "execute_result"
    }
   ],
   "source": [
    "np.corrcoef(hjortActivity_001_1,petrosian_001_2)"
   ]
  },
  {
   "cell_type": "markdown",
   "metadata": {},
   "source": []
  },
  {
   "cell_type": "code",
   "execution_count": 36,
   "metadata": {},
   "outputs": [
    {
     "data": {
      "text/plain": [
       "array([[ 1.        , -0.07405574],\n",
       "       [-0.07405574,  1.        ]])"
      ]
     },
     "execution_count": 36,
     "metadata": {},
     "output_type": "execute_result"
    }
   ],
   "source": [
    "np.corrcoef(hjortActivity_001_15,petrosian_001_05)"
   ]
  },
  {
   "cell_type": "code",
   "execution_count": 37,
   "metadata": {},
   "outputs": [
    {
     "data": {
      "text/plain": [
       "array([[ 1.       , -0.0806171],\n",
       "       [-0.0806171,  1.       ]])"
      ]
     },
     "execution_count": 37,
     "metadata": {},
     "output_type": "execute_result"
    }
   ],
   "source": [
    "np.corrcoef(hjortActivity_001_15,petrosian_001_1)"
   ]
  },
  {
   "cell_type": "code",
   "execution_count": 38,
   "metadata": {},
   "outputs": [
    {
     "data": {
      "text/plain": [
       "array([[ 1.        , -0.08508826],\n",
       "       [-0.08508826,  1.        ]])"
      ]
     },
     "execution_count": 38,
     "metadata": {},
     "output_type": "execute_result"
    }
   ],
   "source": [
    "np.corrcoef(hjortActivity_001_15,petrosian_001_15)"
   ]
  },
  {
   "cell_type": "code",
   "execution_count": 39,
   "metadata": {},
   "outputs": [
    {
     "data": {
      "text/plain": [
       "array([[ 1.        , -0.09030762],\n",
       "       [-0.09030762,  1.        ]])"
      ]
     },
     "execution_count": 39,
     "metadata": {},
     "output_type": "execute_result"
    }
   ],
   "source": [
    "np.corrcoef(hjortActivity_001_15,petrosian_001_2)"
   ]
  },
  {
   "cell_type": "markdown",
   "metadata": {},
   "source": []
  },
  {
   "cell_type": "code",
   "execution_count": 40,
   "metadata": {},
   "outputs": [
    {
     "data": {
      "text/plain": [
       "array([[ 1.        , -0.08358658],\n",
       "       [-0.08358658,  1.        ]])"
      ]
     },
     "execution_count": 40,
     "metadata": {},
     "output_type": "execute_result"
    }
   ],
   "source": [
    "np.corrcoef(hjortActivity_001_2,petrosian_001_05)"
   ]
  },
  {
   "cell_type": "code",
   "execution_count": 41,
   "metadata": {},
   "outputs": [
    {
     "data": {
      "text/plain": [
       "array([[ 1.        , -0.09437706],\n",
       "       [-0.09437706,  1.        ]])"
      ]
     },
     "execution_count": 41,
     "metadata": {},
     "output_type": "execute_result"
    }
   ],
   "source": [
    "np.corrcoef(hjortActivity_001_2,petrosian_001_1)"
   ]
  },
  {
   "cell_type": "code",
   "execution_count": 42,
   "metadata": {},
   "outputs": [
    {
     "data": {
      "text/plain": [
       "array([[ 1.        , -0.09853607],\n",
       "       [-0.09853607,  1.        ]])"
      ]
     },
     "execution_count": 42,
     "metadata": {},
     "output_type": "execute_result"
    }
   ],
   "source": [
    "np.corrcoef(hjortActivity_001_2,petrosian_001_15)"
   ]
  },
  {
   "cell_type": "code",
   "execution_count": 43,
   "metadata": {},
   "outputs": [
    {
     "data": {
      "text/plain": [
       "array([[ 1.        , -0.10190022],\n",
       "       [-0.10190022,  1.        ]])"
      ]
     },
     "execution_count": 43,
     "metadata": {},
     "output_type": "execute_result"
    }
   ],
   "source": [
    "np.corrcoef(hjortActivity_001_2,petrosian_001_2)"
   ]
  },
  {
   "cell_type": "markdown",
   "metadata": {},
   "source": []
  },
  {
   "cell_type": "code",
   "execution_count": 44,
   "metadata": {},
   "outputs": [
    {
     "data": {
      "text/plain": [
       "array([[1.        , 0.90891226],\n",
       "       [0.90891226, 1.        ]])"
      ]
     },
     "execution_count": 44,
     "metadata": {},
     "output_type": "execute_result"
    }
   ],
   "source": [
    "np.corrcoef(petrosian_001_05,petrosian_001_1)"
   ]
  },
  {
   "cell_type": "code",
   "execution_count": 45,
   "metadata": {},
   "outputs": [
    {
     "data": {
      "text/plain": [
       "array([[1.        , 0.87217192],\n",
       "       [0.87217192, 1.        ]])"
      ]
     },
     "execution_count": 45,
     "metadata": {},
     "output_type": "execute_result"
    }
   ],
   "source": [
    "np.corrcoef(petrosian_001_05,petrosian_001_15)"
   ]
  },
  {
   "cell_type": "code",
   "execution_count": 46,
   "metadata": {},
   "outputs": [
    {
     "data": {
      "text/plain": [
       "array([[1.        , 0.85545321],\n",
       "       [0.85545321, 1.        ]])"
      ]
     },
     "execution_count": 46,
     "metadata": {},
     "output_type": "execute_result"
    }
   ],
   "source": [
    "np.corrcoef(petrosian_001_05,petrosian_001_2)"
   ]
  },
  {
   "cell_type": "markdown",
   "metadata": {},
   "source": []
  },
  {
   "cell_type": "code",
   "execution_count": 47,
   "metadata": {},
   "outputs": [
    {
     "data": {
      "text/plain": [
       "array([[1.        , 0.96422613],\n",
       "       [0.96422613, 1.        ]])"
      ]
     },
     "execution_count": 47,
     "metadata": {},
     "output_type": "execute_result"
    }
   ],
   "source": [
    "np.corrcoef(petrosian_001_1,petrosian_001_15)"
   ]
  },
  {
   "cell_type": "code",
   "execution_count": 48,
   "metadata": {},
   "outputs": [
    {
     "data": {
      "text/plain": [
       "array([[1.        , 0.94403281],\n",
       "       [0.94403281, 1.        ]])"
      ]
     },
     "execution_count": 48,
     "metadata": {},
     "output_type": "execute_result"
    }
   ],
   "source": [
    "np.corrcoef(petrosian_001_1,petrosian_001_2)"
   ]
  },
  {
   "cell_type": "markdown",
   "metadata": {},
   "source": []
  },
  {
   "cell_type": "code",
   "execution_count": 49,
   "metadata": {},
   "outputs": [
    {
     "data": {
      "text/plain": [
       "array([[1.       , 0.9801848],\n",
       "       [0.9801848, 1.       ]])"
      ]
     },
     "execution_count": 49,
     "metadata": {},
     "output_type": "execute_result"
    }
   ],
   "source": [
    "np.corrcoef(petrosian_001_15,petrosian_001_2)"
   ]
  }
 ],
 "metadata": {
  "kernelspec": {
   "display_name": "Python 3.10.6 ('venv': venv)",
   "language": "python",
   "name": "python3"
  },
  "language_info": {
   "codemirror_mode": {
    "name": "ipython",
    "version": 3
   },
   "file_extension": ".py",
   "mimetype": "text/x-python",
   "name": "python",
   "nbconvert_exporter": "python",
   "pygments_lexer": "ipython3",
   "version": "3.10.6"
  },
  "orig_nbformat": 4,
  "vscode": {
   "interpreter": {
    "hash": "69eb08d3e713eff25484e90b18c01e15df779e80a0db295f9ddc53faed0455be"
   }
  }
 },
 "nbformat": 4,
 "nbformat_minor": 2
}
