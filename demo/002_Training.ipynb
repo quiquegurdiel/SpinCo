{
 "cells": [
  {
   "attachments": {},
   "cell_type": "markdown",
   "metadata": {},
   "source": [
    "# MODEL TRAINING - DEMO"
   ]
  },
  {
   "cell_type": "code",
   "execution_count": null,
   "metadata": {},
   "outputs": [],
   "source": [
    "#external libraries\n",
    "import numpy as np\n",
    "import os\n",
    "import matplotlib.pyplot as plt\n",
    "import matplotlib.colors as clt\n",
    "import plotly\n",
    "import plotly.subplots as sb\n",
    "import plotly.express as px\n",
    "import plotly.graph_objects as go\n",
    "import dotenv\n",
    "import pandas as pd\n",
    "import scipy.fft as fft\n",
    "import scipy.signal as sg\n",
    "import scipy.io as sio\n",
    "import pickle as pkl\n",
    "import xgboost as xgb\n",
    "import time\n",
    "import uuid\n",
    "\n",
    "#project library\n",
    "from spinco import *\n",
    "\n",
    "#environment variables\n",
    "dotenv.load_dotenv('lab.env')\n",
    "\n",
    "#project variables\n",
    "demopath=os.getcwd()\n"
   ]
  },
  {
   "cell_type": "markdown",
   "metadata": {},
   "source": [
    "## experiment id\n",
    "we'll use it to create a folder at the end of the script"
   ]
  },
  {
   "cell_type": "code",
   "execution_count": null,
   "metadata": {},
   "outputs": [],
   "source": [
    "experimentId=str(uuid.uuid4())"
   ]
  },
  {
   "cell_type": "markdown",
   "metadata": {},
   "source": [
    "## define a fixed samplerate"
   ]
  },
  {
   "cell_type": "code",
   "execution_count": null,
   "metadata": {},
   "outputs": [],
   "source": [
    "samplerate=200"
   ]
  },
  {
   "attachments": {},
   "cell_type": "markdown",
   "metadata": {},
   "source": [
    "## load dreams"
   ]
  },
  {
   "cell_type": "code",
   "execution_count": null,
   "metadata": {},
   "outputs": [],
   "source": [
    "signals, annotations, signalsMetadata = loadDREAMSSpindlesDemo(demopath)"
   ]
  },
  {
   "cell_type": "code",
   "execution_count": null,
   "metadata": {},
   "outputs": [],
   "source": [
    "annotations=annotations[annotations.type=='spindle'].reset_index(drop=True)\n",
    "len(annotations)"
   ]
  },
  {
   "cell_type": "code",
   "execution_count": null,
   "metadata": {},
   "outputs": [],
   "source": [
    "minDuration=0.3\n",
    "maxDuration=5\n",
    "annotations=annotations[annotations.duration>minDuration].reset_index(drop=True)\n",
    "annotations=annotations[annotations.duration<maxDuration].reset_index(drop=True)\n",
    "len(annotations)"
   ]
  },
  {
   "cell_type": "code",
   "execution_count": null,
   "metadata": {},
   "outputs": [],
   "source": [
    "annotations.head()"
   ]
  },
  {
   "cell_type": "code",
   "execution_count": null,
   "metadata": {},
   "outputs": [],
   "source": [
    "signalsMetadata.head()"
   ]
  },
  {
   "cell_type": "markdown",
   "metadata": {},
   "source": [
    "## define a fixed feature selection to use"
   ]
  },
  {
   "cell_type": "code",
   "execution_count": null,
   "metadata": {},
   "outputs": [],
   "source": [
    "featureSelection=loadPickle(\"featureSelection26.pkl\")\n",
    "featureSelection"
   ]
  },
  {
   "attachments": {},
   "cell_type": "markdown",
   "metadata": {},
   "source": [
    "## load data split\n",
    "LOOCV using 5 subjects, 1 for validation"
   ]
  },
  {
   "cell_type": "code",
   "execution_count": null,
   "metadata": {},
   "outputs": [],
   "source": [
    "#by now we used fixed CV data splits instead\n",
    "dataSplits=loadPickle(\"dataSplits_LOOCV_5S.pkl\")\n",
    "dataSplits"
   ]
  },
  {
   "attachments": {},
   "cell_type": "markdown",
   "metadata": {},
   "source": [
    "## define annotation criteria"
   ]
  },
  {
   "cell_type": "code",
   "execution_count": null,
   "metadata": {},
   "outputs": [],
   "source": [
    "annotationCriteria=pd.DataFrame({\n",
    "    'criteriumId':['0001'],\n",
    "    'criteriumName':['union'],\n",
    "    'labelerIdList':[['0001','0002']]\n",
    "})"
   ]
  },
  {
   "cell_type": "code",
   "execution_count": null,
   "metadata": {},
   "outputs": [],
   "source": [
    "annotationCriteria"
   ]
  },
  {
   "cell_type": "code",
   "execution_count": null,
   "metadata": {},
   "outputs": [],
   "source": [
    "experimentModels=pd.merge(annotationCriteria,dataSplits,how='cross')"
   ]
  },
  {
   "cell_type": "code",
   "execution_count": null,
   "metadata": {},
   "outputs": [],
   "source": [
    "experimentModels"
   ]
  },
  {
   "cell_type": "markdown",
   "metadata": {},
   "source": [
    "## model fitting"
   ]
  },
  {
   "cell_type": "code",
   "execution_count": null,
   "metadata": {},
   "outputs": [],
   "source": [
    "n_jobs=4 # paralelization parameter for xgboost (keep it 8 as maximum)\n",
    "learning_rate=0.4\n",
    "subsample=0.6\n",
    "\n",
    "num_boost_round=60  #number of boosting rounds per model\n",
    "\n",
    "models=[]\n",
    "modelIds=[]\n",
    "valF1s=[]\n",
    "spindleTimeRates=[]\n",
    "for index, row in experimentModels.iterrows():\n",
    "    print('**********************')\n",
    "    print(str(index+1)+' of '+str(len(experimentModels)))\n",
    "    #Define annotations criterium\n",
    "    usedAnnotations=annotations[annotations.labelerId.isin(row.labelerIdList)].reset_index(drop=True)\n",
    "    #Features\n",
    "    trainFeatures=loadFeatureMatrix(row.train,featureSelection,signalsMetadata,samplerate,demopath)\n",
    "    #Labels\n",
    "    trainLabels=loadLabelsVector(row.train,usedAnnotations,signalsMetadata,samplerate)\n",
    "    \n",
    "    #Train the models\n",
    "    params={\n",
    "        'n_jobs':n_jobs,\n",
    "        'learning_rate':learning_rate,\n",
    "        'subsample':subsample,\n",
    "        'objective':'binary:logistic'\n",
    "    }\n",
    "    trainDMatrix=xgb.DMatrix(data=trainFeatures,label=trainLabels)\n",
    "    xgb_model = xgb.train(params,trainDMatrix,num_boost_round=num_boost_round)\n",
    "    spindleTimeRates.append(sum(trainLabels)/len(trainLabels))\n",
    "    models.append(xgb_model)\n",
    "    modelIds.append(str(uuid.uuid4()))\n",
    "    "
   ]
  },
  {
   "cell_type": "code",
   "execution_count": null,
   "metadata": {},
   "outputs": [],
   "source": [
    "experimentModels[\"modelId\"]=modelIds\n",
    "experimentModels[\"spindleTimeRate\"]=spindleTimeRates"
   ]
  },
  {
   "cell_type": "code",
   "execution_count": null,
   "metadata": {},
   "outputs": [],
   "source": [
    "experimentModels"
   ]
  },
  {
   "cell_type": "markdown",
   "metadata": {},
   "source": [
    "## save results"
   ]
  },
  {
   "cell_type": "code",
   "execution_count": null,
   "metadata": {},
   "outputs": [],
   "source": [
    "#create parent folder\n",
    "if not os.path.isdir(demopath+\"/DREAMS/experiments/\"):\n",
    "    os.mkdir(demopath+\"/DREAMS/experiments/\")\n",
    "experimentpath=demopath+\"/DREAMS/experiments/\"+experimentId\n",
    "os.mkdir(experimentpath)\n",
    "#save each of the models\n",
    "for id, model in zip(modelIds,models):\n",
    "    model.save_model(experimentpath+\"/\"+id+\".json\")\n",
    "#save experiment information\n",
    "dumpPickle(experimentpath+\"/experimentModels.pkl\",experimentModels)\n",
    "dumpPickle(experimentpath+\"/featureSelection.pkl\",featureSelection)"
   ]
  },
  {
   "cell_type": "markdown",
   "metadata": {},
   "source": [
    "# COPY THE UUID BELOW TO THE NEXT NOTEBOOK"
   ]
  },
  {
   "cell_type": "code",
   "execution_count": null,
   "metadata": {},
   "outputs": [],
   "source": [
    "print(experimentId)"
   ]
  },
  {
   "cell_type": "code",
   "execution_count": null,
   "metadata": {},
   "outputs": [],
   "source": []
  }
 ],
 "metadata": {
  "kernelspec": {
   "display_name": "Python 3.10.6 ('venv': venv)",
   "language": "python",
   "name": "python3"
  },
  "language_info": {
   "codemirror_mode": {
    "name": "ipython",
    "version": 3
   },
   "file_extension": ".py",
   "mimetype": "text/x-python",
   "name": "python",
   "nbconvert_exporter": "python",
   "pygments_lexer": "ipython3",
   "version": "3.10.6"
  },
  "orig_nbformat": 4,
  "vscode": {
   "interpreter": {
    "hash": "69eb08d3e713eff25484e90b18c01e15df779e80a0db295f9ddc53faed0455be"
   }
  }
 },
 "nbformat": 4,
 "nbformat_minor": 2
}
