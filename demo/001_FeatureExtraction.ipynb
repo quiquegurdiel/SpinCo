{
 "cells": [
  {
   "attachments": {},
   "cell_type": "markdown",
   "metadata": {},
   "source": [
    "# FEATURE EXTRACTION - DEMO"
   ]
  },
  {
   "cell_type": "code",
   "execution_count": null,
   "metadata": {},
   "outputs": [],
   "source": [
    "#external libraries\n",
    "import numpy as np\n",
    "import os\n",
    "import matplotlib.pyplot as plt\n",
    "import matplotlib.colors as clt\n",
    "import plotly\n",
    "import plotly.subplots as sb\n",
    "import plotly.express as px\n",
    "import plotly.graph_objects as go\n",
    "import dotenv\n",
    "import pandas as pd\n",
    "import scipy.fft as fft\n",
    "import scipy.signal as sg\n",
    "import scipy.io as sio\n",
    "import pickle as pkl\n",
    "import xgboost as xgb\n",
    "import time\n",
    "import uuid\n",
    "\n",
    "#project library\n",
    "from spinco import *\n",
    "\n",
    "#project variables\n",
    "demopath=os.getcwd()\n"
   ]
  },
  {
   "cell_type": "code",
   "execution_count": null,
   "metadata": {},
   "outputs": [],
   "source": [
    "#define features path\n",
    "dreamspath=demopath+\"/DREAMS\"\n",
    "featurespath=dreamspath+\"/features\"\n",
    "if not os.path.isdir(featurespath):\n",
    "    os.mkdir(featurespath)\n",
    "        \n",
    "windowDurations=[0.5,1,1.5,2]"
   ]
  },
  {
   "cell_type": "markdown",
   "metadata": {},
   "source": [
    "## define a fixed samplerate"
   ]
  },
  {
   "cell_type": "code",
   "execution_count": null,
   "metadata": {},
   "outputs": [],
   "source": [
    "samplerate=200"
   ]
  },
  {
   "cell_type": "markdown",
   "metadata": {},
   "source": [
    "## Load data"
   ]
  },
  {
   "cell_type": "code",
   "execution_count": null,
   "metadata": {},
   "outputs": [],
   "source": [
    "signals, annotations, signalsMetadata = loadDREAMSSpindlesDemo(demopath)"
   ]
  },
  {
   "cell_type": "code",
   "execution_count": null,
   "metadata": {},
   "outputs": [],
   "source": [
    "signalsMetadata"
   ]
  },
  {
   "cell_type": "code",
   "execution_count": null,
   "metadata": {},
   "outputs": [],
   "source": [
    "annotations=annotations[annotations.type=='spindle'].reset_index(drop=True)"
   ]
  },
  {
   "cell_type": "code",
   "execution_count": null,
   "metadata": {},
   "outputs": [],
   "source": [
    "annotations.head()"
   ]
  },
  {
   "cell_type": "markdown",
   "metadata": {},
   "source": [
    "## Preprocess"
   ]
  },
  {
   "cell_type": "markdown",
   "metadata": {},
   "source": [
    "broadband in 0-40Hz"
   ]
  },
  {
   "cell_type": "code",
   "execution_count": null,
   "metadata": {},
   "outputs": [],
   "source": [
    "def preprocessVector(vector,samplerate):\n",
    "    #1. Lowpass 40Hz\n",
    "    vector=filterBand(vector,[0,40],samplerate,filterOrder=4)\n",
    "    #2. Z-score\n",
    "    m=np.mean(vector)\n",
    "    s=np.std(vector)\n",
    "    vector=(vector-m)/s\n",
    "    return vector"
   ]
  },
  {
   "cell_type": "code",
   "execution_count": null,
   "metadata": {},
   "outputs": [],
   "source": [
    "for subject,signal in signals.items():\n",
    "    signals[subject]=preprocessVector(signal,samplerate)"
   ]
  },
  {
   "cell_type": "markdown",
   "metadata": {},
   "source": [
    "## Extract features"
   ]
  },
  {
   "cell_type": "markdown",
   "metadata": {},
   "source": [
    "### folder estructure"
   ]
  },
  {
   "cell_type": "code",
   "execution_count": null,
   "metadata": {},
   "outputs": [],
   "source": [
    "fspath=featurespath+'/'+str(samplerate)+'fs/'\n",
    "if not os.path.isdir(fspath):\n",
    "    os.mkdir(fspath)\n",
    "for window in windowDurations:\n",
    "    windowPath=fspath+str(window)+'win'\n",
    "    if not os.path.isdir(windowPath):\n",
    "        os.mkdir(windowPath)\n",
    "    for subject in signalsMetadata.subjectId:\n",
    "        subjectPath=windowPath+'/'+subject\n",
    "        if not os.path.isdir(subjectPath):\n",
    "            os.mkdir(subjectPath)"
   ]
  },
  {
   "cell_type": "markdown",
   "metadata": {},
   "source": [
    "### band definition"
   ]
  },
  {
   "cell_type": "code",
   "execution_count": null,
   "metadata": {},
   "outputs": [],
   "source": [
    "bands={\n",
    "    'delta1':[0.1,2],\n",
    "    'delta2':[2,4],\n",
    "    'theta':[4,8],\n",
    "    'alpha':[8,13],\n",
    "    'sigma':[11,16],\n",
    "    'beta1':[13,19],\n",
    "    'beta2':[19,30]\n",
    "    }"
   ]
  },
  {
   "cell_type": "markdown",
   "metadata": {},
   "source": [
    "### computation"
   ]
  },
  {
   "cell_type": "code",
   "execution_count": null,
   "metadata": {},
   "outputs": [],
   "source": [
    "for window in windowDurations:\n",
    "    windowPath=featurespath+'/'+str(samplerate)+'fs/'+str(window)\n",
    "    for ind, row in signalsMetadata.iterrows():\n",
    "        subject=row.subjectId\n",
    "        subjectPath=windowPath+'/'+subject\n",
    "        signal=signals[subject]\n",
    "        #need to define the time vector for each signal:\n",
    "        timepoints=np.arange(len(signal))/samplerate\n",
    "        \n",
    "        #6. Hjort Activity\n",
    "        characteristic='hjortActivity'\n",
    "        bandName='broadband'\n",
    "        filepath=getFilepath(window,subject,characteristic,bandName,samplerate,featurespath)\n",
    "        if not os.path.exists(filepath):\n",
    "            aux=hjortActivity(signal,window,samplerate)\n",
    "            saveFeature(aux,window,subject,characteristic,bandName,samplerate,featurespath)\n",
    "        for bandName, band in bands.items():\n",
    "            filepath=getFilepath(window,subject,characteristic,bandName,samplerate,featurespath)\n",
    "            if not os.path.exists(filepath):\n",
    "                filtered=filterBand(signal,band,samplerate)\n",
    "                aux=hjortActivity(filtered,window,samplerate)\n",
    "                saveFeature(aux,window,subject,characteristic,bandName,samplerate,featurespath)\n",
    "        #7. Hjort Mobility\n",
    "        characteristic='hjortMobility'\n",
    "        bandName='broadband'\n",
    "        filepath=getFilepath(window,subject,characteristic,bandName,samplerate,featurespath)\n",
    "        if not os.path.exists(filepath):\n",
    "            aux=hjortMobility(signal,timepoints,window,samplerate)\n",
    "            saveFeature(aux,window,subject,characteristic,bandName,samplerate,featurespath)\n",
    "        for bandName, band in bands.items():\n",
    "            filepath=getFilepath(window,subject,characteristic,bandName,samplerate,featurespath)\n",
    "            if not os.path.exists(filepath):\n",
    "                filtered=filterBand(signal,band,samplerate)\n",
    "                aux=hjortMobility(filtered,timepoints,window,samplerate)\n",
    "                saveFeature(aux,window,subject,characteristic,bandName,samplerate,featurespath)\n",
    "        #8. Hjort Complexity\n",
    "        characteristic='hjortComplexity'\n",
    "        bandName='broadband'\n",
    "        filepath=getFilepath(window,subject,characteristic,bandName,samplerate,featurespath)\n",
    "        if not os.path.exists(filepath):\n",
    "            aux=hjortComplexity(signal,timepoints,window,samplerate)\n",
    "            saveFeature(aux,window,subject,characteristic,bandName,samplerate,featurespath)\n",
    "        for bandName, band in bands.items():\n",
    "            filepath=getFilepath(window,subject,characteristic,bandName,samplerate,featurespath)\n",
    "            if not os.path.exists(filepath):\n",
    "                filtered=filterBand(signal,band,samplerate)\n",
    "                aux=hjortComplexity(filtered,timepoints,window,samplerate)\n",
    "                saveFeature(aux,window,subject,characteristic,bandName,samplerate,featurespath)\n",
    "        #9. PetrosianFractalDimension\n",
    "        characteristic='petrosian'\n",
    "        bandName='broadband'\n",
    "        filepath=getFilepath(window,subject,characteristic,bandName,samplerate,featurespath)\n",
    "        if not os.path.exists(filepath):\n",
    "            aux=petrosianFractalDimension(signal,timepoints,window,samplerate)\n",
    "            saveFeature(aux,window,subject,characteristic,bandName,samplerate,featurespath)\n",
    "        for bandName, band in bands.items():\n",
    "            filepath=getFilepath(window,subject,characteristic,bandName,samplerate,featurespath)\n",
    "            if not os.path.exists(filepath):\n",
    "                filtered=filterBand(signal,band,samplerate)\n",
    "                aux=petrosianFractalDimension(filtered,timepoints,window,samplerate)\n",
    "                saveFeature(aux,window,subject,characteristic,bandName,samplerate,featurespath)\n",
    "        \n",
    "        #12. sigma index\n",
    "        characteristic='sigmaIndex'\n",
    "        bandName='broadband'\n",
    "        filepath=getFilepath(window,subject,characteristic,bandName,samplerate,featurespath)\n",
    "        if not os.path.exists(filepath):\n",
    "            aux=sigmaindex(signal,window,samplerate)\n",
    "            saveFeature(aux,window,subject,characteristic,bandName,samplerate,featurespath)\n",
    "            "
   ]
  },
  {
   "cell_type": "code",
   "execution_count": null,
   "metadata": {},
   "outputs": [],
   "source": []
  }
 ],
 "metadata": {
  "kernelspec": {
   "display_name": "Python 3.10.6 ('venv': venv)",
   "language": "python",
   "name": "python3"
  },
  "language_info": {
   "codemirror_mode": {
    "name": "ipython",
    "version": 3
   },
   "file_extension": ".py",
   "mimetype": "text/x-python",
   "name": "python",
   "nbconvert_exporter": "python",
   "pygments_lexer": "ipython3",
   "version": "3.10.6"
  },
  "orig_nbformat": 4,
  "vscode": {
   "interpreter": {
    "hash": "69eb08d3e713eff25484e90b18c01e15df779e80a0db295f9ddc53faed0455be"
   }
  }
 },
 "nbformat": 4,
 "nbformat_minor": 2
}
