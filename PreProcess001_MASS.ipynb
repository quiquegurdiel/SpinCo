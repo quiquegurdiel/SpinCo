{
 "cells": [
  {
   "cell_type": "markdown",
   "metadata": {},
   "source": [
    "# Process MASS data structure"
   ]
  },
  {
   "cell_type": "code",
   "execution_count": 44,
   "metadata": {},
   "outputs": [],
   "source": [
    "import os\n",
    "import pandas as pd\n",
    "import pyedflib\n",
    "from plotly import express as px\n",
    "from matplotlib import pyplot as plt"
   ]
  },
  {
   "cell_type": "code",
   "execution_count": 2,
   "metadata": {},
   "outputs": [],
   "source": [
    "edfpath=\"D:\\SpinCo\\MASS\\edfs\"\n",
    "annopath=\"D:\\SpinCo\\MASS\\\\annotations\"\n",
    "signalspath=\"D:\\SpinCo\\MASS\\signals\""
   ]
  },
  {
   "cell_type": "markdown",
   "metadata": {},
   "source": [
    "## Annotations"
   ]
  },
  {
   "cell_type": "code",
   "execution_count": 33,
   "metadata": {},
   "outputs": [],
   "source": [
    "allfiles=os.listdir(annopath)\n",
    "subjectIds=list()\n",
    "extensions=list()\n",
    "types=list()\n",
    "edfFiles=list()\n",
    "experts=list()\n",
    "for file in allfiles:\n",
    "    aux1=file.split(\".\")\n",
    "    if aux1[1]==\"edf\":\n",
    "        aux2=aux1[0].split(\" \")\n",
    "        if not aux2[1]==\"Base\":\n",
    "            aux3=aux2[0].split(\"-\")\n",
    "            aux4=aux2[1].split(\"_\")\n",
    "\n",
    "            subjectIds.append(aux3[2])\n",
    "            extensions.append(aux1[1])\n",
    "            types.append(aux4[0])\n",
    "            experts.append(aux4[1])\n",
    "            edfFiles.append(file)\n",
    "\n",
    "annoData=pd.DataFrame({\n",
    "    \"subjectId\":subjectIds,\n",
    "    \"file\":edfFiles,\n",
    "    \"extension\":extensions,\n",
    "    \"type\":types,\n",
    "    \"expert\":experts\n",
    "})"
   ]
  },
  {
   "cell_type": "code",
   "execution_count": 34,
   "metadata": {},
   "outputs": [],
   "source": [
    "types=list()\n",
    "subjectIds=list()\n",
    "starts=list()\n",
    "durations=list()\n",
    "experts=list()\n",
    "comments=list()\n",
    "\n",
    "for ind, row in annoData.iterrows():\n",
    "    fullPath=annopath+\"/\"+row.file\n",
    "    signals, signal_headers, header = pyedflib.highlevel.read_edf(fullPath)\n",
    "    for anno in header['annotations']:\n",
    "        types.append(row.type)\n",
    "        subjectIds.append(row.subjectId)\n",
    "        starts.append(anno[0])\n",
    "        durations.append(anno[1])\n",
    "        experts.append(row.expert)\n",
    "        comments.append(anno[2])\n",
    "\n",
    "annotations=pd.DataFrame({\n",
    "    \"type\":types,\n",
    "    \"subjectId\":subjectIds,\n",
    "    \"startTime\":starts,\n",
    "    \"duration\":durations,\n",
    "    \"expert\":experts,\n",
    "    \"comment\":comments\n",
    "})"
   ]
  },
  {
   "cell_type": "code",
   "execution_count": 35,
   "metadata": {},
   "outputs": [
    {
     "data": {
      "text/html": [
       "<div>\n",
       "<style scoped>\n",
       "    .dataframe tbody tr th:only-of-type {\n",
       "        vertical-align: middle;\n",
       "    }\n",
       "\n",
       "    .dataframe tbody tr th {\n",
       "        vertical-align: top;\n",
       "    }\n",
       "\n",
       "    .dataframe thead th {\n",
       "        text-align: right;\n",
       "    }\n",
       "</style>\n",
       "<table border=\"1\" class=\"dataframe\">\n",
       "  <thead>\n",
       "    <tr style=\"text-align: right;\">\n",
       "      <th></th>\n",
       "      <th>type</th>\n",
       "      <th>subjectId</th>\n",
       "      <th>startTime</th>\n",
       "      <th>duration</th>\n",
       "      <th>expert</th>\n",
       "      <th>comment</th>\n",
       "    </tr>\n",
       "  </thead>\n",
       "  <tbody>\n",
       "    <tr>\n",
       "      <th>0</th>\n",
       "      <td>KComplexes</td>\n",
       "      <td>0001</td>\n",
       "      <td>830.838372</td>\n",
       "      <td>0.699174</td>\n",
       "      <td>E1</td>\n",
       "      <td>&lt;Event channel=\"EEG C3-LER\" groupName=\"kcomple...</td>\n",
       "    </tr>\n",
       "    <tr>\n",
       "      <th>1</th>\n",
       "      <td>KComplexes</td>\n",
       "      <td>0001</td>\n",
       "      <td>841.223012</td>\n",
       "      <td>0.492156</td>\n",
       "      <td>E1</td>\n",
       "      <td>&lt;Event channel=\"EEG C3-LER\" groupName=\"kcomple...</td>\n",
       "    </tr>\n",
       "    <tr>\n",
       "      <th>2</th>\n",
       "      <td>KComplexes</td>\n",
       "      <td>0001</td>\n",
       "      <td>970.838374</td>\n",
       "      <td>0.578088</td>\n",
       "      <td>E1</td>\n",
       "      <td>&lt;Event channel=\"EEG C3-LER\" groupName=\"kcomple...</td>\n",
       "    </tr>\n",
       "    <tr>\n",
       "      <th>3</th>\n",
       "      <td>KComplexes</td>\n",
       "      <td>0001</td>\n",
       "      <td>1050.014503</td>\n",
       "      <td>0.695268</td>\n",
       "      <td>E1</td>\n",
       "      <td>&lt;Event channel=\"EEG C3-LER\" groupName=\"kcomple...</td>\n",
       "    </tr>\n",
       "    <tr>\n",
       "      <th>4</th>\n",
       "      <td>KComplexes</td>\n",
       "      <td>0001</td>\n",
       "      <td>1077.473271</td>\n",
       "      <td>0.648396</td>\n",
       "      <td>E1</td>\n",
       "      <td>&lt;Event channel=\"EEG C3-LER\" groupName=\"kcomple...</td>\n",
       "    </tr>\n",
       "    <tr>\n",
       "      <th>...</th>\n",
       "      <td>...</td>\n",
       "      <td>...</td>\n",
       "      <td>...</td>\n",
       "      <td>...</td>\n",
       "      <td>...</td>\n",
       "      <td>...</td>\n",
       "    </tr>\n",
       "    <tr>\n",
       "      <th>45035</th>\n",
       "      <td>Spindles</td>\n",
       "      <td>0019</td>\n",
       "      <td>25434.045319</td>\n",
       "      <td>0.800730</td>\n",
       "      <td>E2</td>\n",
       "      <td>&lt;Event channel=\"EEG C3-LER\" groupName=\"spindle...</td>\n",
       "    </tr>\n",
       "    <tr>\n",
       "      <th>45036</th>\n",
       "      <td>Spindles</td>\n",
       "      <td>0019</td>\n",
       "      <td>25438.822357</td>\n",
       "      <td>0.472626</td>\n",
       "      <td>E2</td>\n",
       "      <td>&lt;Event channel=\"EEG C3-LER\" groupName=\"spindle...</td>\n",
       "    </tr>\n",
       "    <tr>\n",
       "      <th>45037</th>\n",
       "      <td>Spindles</td>\n",
       "      <td>0019</td>\n",
       "      <td>25444.489963</td>\n",
       "      <td>1.035090</td>\n",
       "      <td>E2</td>\n",
       "      <td>&lt;Event channel=\"EEG C3-LER\" groupName=\"spindle...</td>\n",
       "    </tr>\n",
       "    <tr>\n",
       "      <th>45038</th>\n",
       "      <td>Spindles</td>\n",
       "      <td>0019</td>\n",
       "      <td>25457.542096</td>\n",
       "      <td>0.890568</td>\n",
       "      <td>E2</td>\n",
       "      <td>&lt;Event channel=\"EEG C3-LER\" groupName=\"spindle...</td>\n",
       "    </tr>\n",
       "    <tr>\n",
       "      <th>45039</th>\n",
       "      <td>Spindles</td>\n",
       "      <td>0019</td>\n",
       "      <td>25461.041872</td>\n",
       "      <td>0.980406</td>\n",
       "      <td>E2</td>\n",
       "      <td>&lt;Event channel=\"EEG C3-LER\" groupName=\"spindle...</td>\n",
       "    </tr>\n",
       "  </tbody>\n",
       "</table>\n",
       "<p>45040 rows × 6 columns</p>\n",
       "</div>"
      ],
      "text/plain": [
       "             type subjectId     startTime  duration expert  \\\n",
       "0      KComplexes      0001    830.838372  0.699174     E1   \n",
       "1      KComplexes      0001    841.223012  0.492156     E1   \n",
       "2      KComplexes      0001    970.838374  0.578088     E1   \n",
       "3      KComplexes      0001   1050.014503  0.695268     E1   \n",
       "4      KComplexes      0001   1077.473271  0.648396     E1   \n",
       "...           ...       ...           ...       ...    ...   \n",
       "45035    Spindles      0019  25434.045319  0.800730     E2   \n",
       "45036    Spindles      0019  25438.822357  0.472626     E2   \n",
       "45037    Spindles      0019  25444.489963  1.035090     E2   \n",
       "45038    Spindles      0019  25457.542096  0.890568     E2   \n",
       "45039    Spindles      0019  25461.041872  0.980406     E2   \n",
       "\n",
       "                                                 comment  \n",
       "0      <Event channel=\"EEG C3-LER\" groupName=\"kcomple...  \n",
       "1      <Event channel=\"EEG C3-LER\" groupName=\"kcomple...  \n",
       "2      <Event channel=\"EEG C3-LER\" groupName=\"kcomple...  \n",
       "3      <Event channel=\"EEG C3-LER\" groupName=\"kcomple...  \n",
       "4      <Event channel=\"EEG C3-LER\" groupName=\"kcomple...  \n",
       "...                                                  ...  \n",
       "45035  <Event channel=\"EEG C3-LER\" groupName=\"spindle...  \n",
       "45036  <Event channel=\"EEG C3-LER\" groupName=\"spindle...  \n",
       "45037  <Event channel=\"EEG C3-LER\" groupName=\"spindle...  \n",
       "45038  <Event channel=\"EEG C3-LER\" groupName=\"spindle...  \n",
       "45039  <Event channel=\"EEG C3-LER\" groupName=\"spindle...  \n",
       "\n",
       "[45040 rows x 6 columns]"
      ]
     },
     "execution_count": 35,
     "metadata": {},
     "output_type": "execute_result"
    }
   ],
   "source": [
    "annotations"
   ]
  },
  {
   "cell_type": "code",
   "execution_count": 36,
   "metadata": {},
   "outputs": [
    {
     "data": {
      "application/vnd.plotly.v1+json": {
       "config": {
        "plotlyServerURL": "https://plot.ly"
       },
       "data": [
        {
         "alignmentgroup": "True",
         "hovertemplate": "expert=E1<br>type=KComplexes<br>subjectId=%{x}<br>size=%{y}<extra></extra>",
         "legendgroup": "E1",
         "marker": {
          "color": "#636efa",
          "pattern": {
           "shape": ""
          }
         },
         "name": "E1",
         "offsetgroup": "E1",
         "orientation": "v",
         "showlegend": true,
         "textposition": "auto",
         "type": "bar",
         "x": [
          "0001",
          "0002",
          "0003",
          "0004",
          "0005",
          "0006",
          "0007",
          "0008",
          "0009",
          "0010",
          "0011",
          "0012",
          "0013",
          "0014",
          "0015",
          "0016",
          "0017",
          "0018",
          "0019"
         ],
         "xaxis": "x2",
         "y": [
          409,
          637,
          533,
          607,
          419,
          674,
          436,
          712,
          895,
          999,
          445,
          857,
          272,
          577,
          172,
          1307,
          595,
          845,
          191
         ],
         "yaxis": "y2"
        },
        {
         "alignmentgroup": "True",
         "hovertemplate": "expert=E1<br>type=Spindles<br>subjectId=%{x}<br>size=%{y}<extra></extra>",
         "legendgroup": "E1",
         "marker": {
          "color": "#636efa",
          "pattern": {
           "shape": ""
          }
         },
         "name": "E1",
         "offsetgroup": "E1",
         "orientation": "v",
         "showlegend": false,
         "textposition": "auto",
         "type": "bar",
         "x": [
          "0001",
          "0002",
          "0003",
          "0004",
          "0005",
          "0006",
          "0007",
          "0008",
          "0009",
          "0010",
          "0011",
          "0012",
          "0013",
          "0014",
          "0015",
          "0016",
          "0017",
          "0018",
          "0019"
         ],
         "xaxis": "x",
         "y": [
          1044,
          1143,
          143,
          253,
          341,
          150,
          912,
          385,
          814,
          795,
          606,
          709,
          698,
          713,
          97,
          452,
          470,
          1164,
          315
         ],
         "yaxis": "y"
        },
        {
         "alignmentgroup": "True",
         "hovertemplate": "expert=E2<br>type=Spindles<br>subjectId=%{x}<br>size=%{y}<extra></extra>",
         "legendgroup": "E2",
         "marker": {
          "color": "#EF553B",
          "pattern": {
           "shape": ""
          }
         },
         "name": "E2",
         "offsetgroup": "E2",
         "orientation": "v",
         "showlegend": true,
         "textposition": "auto",
         "type": "bar",
         "x": [
          "0001",
          "0002",
          "0003",
          "0005",
          "0006",
          "0007",
          "0009",
          "0010",
          "0011",
          "0012",
          "0013",
          "0014",
          "0017",
          "0018",
          "0019"
         ],
         "xaxis": "x",
         "y": [
          2452,
          2212,
          602,
          1201,
          840,
          1607,
          1670,
          1939,
          1541,
          1204,
          1438,
          1618,
          1192,
          1680,
          1058
         ],
         "yaxis": "y"
        }
       ],
       "layout": {
        "annotations": [
         {
          "font": {},
          "showarrow": false,
          "text": "type=Spindles",
          "textangle": 90,
          "x": 0.98,
          "xanchor": "left",
          "xref": "paper",
          "y": 0.2425,
          "yanchor": "middle",
          "yref": "paper"
         },
         {
          "font": {},
          "showarrow": false,
          "text": "type=KComplexes",
          "textangle": 90,
          "x": 0.98,
          "xanchor": "left",
          "xref": "paper",
          "y": 0.7575000000000001,
          "yanchor": "middle",
          "yref": "paper"
         }
        ],
        "barmode": "group",
        "legend": {
         "title": {
          "text": "expert"
         },
         "tracegroupgap": 0
        },
        "template": {
         "data": {
          "bar": [
           {
            "error_x": {
             "color": "#2a3f5f"
            },
            "error_y": {
             "color": "#2a3f5f"
            },
            "marker": {
             "line": {
              "color": "#E5ECF6",
              "width": 0.5
             },
             "pattern": {
              "fillmode": "overlay",
              "size": 10,
              "solidity": 0.2
             }
            },
            "type": "bar"
           }
          ],
          "barpolar": [
           {
            "marker": {
             "line": {
              "color": "#E5ECF6",
              "width": 0.5
             },
             "pattern": {
              "fillmode": "overlay",
              "size": 10,
              "solidity": 0.2
             }
            },
            "type": "barpolar"
           }
          ],
          "carpet": [
           {
            "aaxis": {
             "endlinecolor": "#2a3f5f",
             "gridcolor": "white",
             "linecolor": "white",
             "minorgridcolor": "white",
             "startlinecolor": "#2a3f5f"
            },
            "baxis": {
             "endlinecolor": "#2a3f5f",
             "gridcolor": "white",
             "linecolor": "white",
             "minorgridcolor": "white",
             "startlinecolor": "#2a3f5f"
            },
            "type": "carpet"
           }
          ],
          "choropleth": [
           {
            "colorbar": {
             "outlinewidth": 0,
             "ticks": ""
            },
            "type": "choropleth"
           }
          ],
          "contour": [
           {
            "colorbar": {
             "outlinewidth": 0,
             "ticks": ""
            },
            "colorscale": [
             [
              0,
              "#0d0887"
             ],
             [
              0.1111111111111111,
              "#46039f"
             ],
             [
              0.2222222222222222,
              "#7201a8"
             ],
             [
              0.3333333333333333,
              "#9c179e"
             ],
             [
              0.4444444444444444,
              "#bd3786"
             ],
             [
              0.5555555555555556,
              "#d8576b"
             ],
             [
              0.6666666666666666,
              "#ed7953"
             ],
             [
              0.7777777777777778,
              "#fb9f3a"
             ],
             [
              0.8888888888888888,
              "#fdca26"
             ],
             [
              1,
              "#f0f921"
             ]
            ],
            "type": "contour"
           }
          ],
          "contourcarpet": [
           {
            "colorbar": {
             "outlinewidth": 0,
             "ticks": ""
            },
            "type": "contourcarpet"
           }
          ],
          "heatmap": [
           {
            "colorbar": {
             "outlinewidth": 0,
             "ticks": ""
            },
            "colorscale": [
             [
              0,
              "#0d0887"
             ],
             [
              0.1111111111111111,
              "#46039f"
             ],
             [
              0.2222222222222222,
              "#7201a8"
             ],
             [
              0.3333333333333333,
              "#9c179e"
             ],
             [
              0.4444444444444444,
              "#bd3786"
             ],
             [
              0.5555555555555556,
              "#d8576b"
             ],
             [
              0.6666666666666666,
              "#ed7953"
             ],
             [
              0.7777777777777778,
              "#fb9f3a"
             ],
             [
              0.8888888888888888,
              "#fdca26"
             ],
             [
              1,
              "#f0f921"
             ]
            ],
            "type": "heatmap"
           }
          ],
          "heatmapgl": [
           {
            "colorbar": {
             "outlinewidth": 0,
             "ticks": ""
            },
            "colorscale": [
             [
              0,
              "#0d0887"
             ],
             [
              0.1111111111111111,
              "#46039f"
             ],
             [
              0.2222222222222222,
              "#7201a8"
             ],
             [
              0.3333333333333333,
              "#9c179e"
             ],
             [
              0.4444444444444444,
              "#bd3786"
             ],
             [
              0.5555555555555556,
              "#d8576b"
             ],
             [
              0.6666666666666666,
              "#ed7953"
             ],
             [
              0.7777777777777778,
              "#fb9f3a"
             ],
             [
              0.8888888888888888,
              "#fdca26"
             ],
             [
              1,
              "#f0f921"
             ]
            ],
            "type": "heatmapgl"
           }
          ],
          "histogram": [
           {
            "marker": {
             "pattern": {
              "fillmode": "overlay",
              "size": 10,
              "solidity": 0.2
             }
            },
            "type": "histogram"
           }
          ],
          "histogram2d": [
           {
            "colorbar": {
             "outlinewidth": 0,
             "ticks": ""
            },
            "colorscale": [
             [
              0,
              "#0d0887"
             ],
             [
              0.1111111111111111,
              "#46039f"
             ],
             [
              0.2222222222222222,
              "#7201a8"
             ],
             [
              0.3333333333333333,
              "#9c179e"
             ],
             [
              0.4444444444444444,
              "#bd3786"
             ],
             [
              0.5555555555555556,
              "#d8576b"
             ],
             [
              0.6666666666666666,
              "#ed7953"
             ],
             [
              0.7777777777777778,
              "#fb9f3a"
             ],
             [
              0.8888888888888888,
              "#fdca26"
             ],
             [
              1,
              "#f0f921"
             ]
            ],
            "type": "histogram2d"
           }
          ],
          "histogram2dcontour": [
           {
            "colorbar": {
             "outlinewidth": 0,
             "ticks": ""
            },
            "colorscale": [
             [
              0,
              "#0d0887"
             ],
             [
              0.1111111111111111,
              "#46039f"
             ],
             [
              0.2222222222222222,
              "#7201a8"
             ],
             [
              0.3333333333333333,
              "#9c179e"
             ],
             [
              0.4444444444444444,
              "#bd3786"
             ],
             [
              0.5555555555555556,
              "#d8576b"
             ],
             [
              0.6666666666666666,
              "#ed7953"
             ],
             [
              0.7777777777777778,
              "#fb9f3a"
             ],
             [
              0.8888888888888888,
              "#fdca26"
             ],
             [
              1,
              "#f0f921"
             ]
            ],
            "type": "histogram2dcontour"
           }
          ],
          "mesh3d": [
           {
            "colorbar": {
             "outlinewidth": 0,
             "ticks": ""
            },
            "type": "mesh3d"
           }
          ],
          "parcoords": [
           {
            "line": {
             "colorbar": {
              "outlinewidth": 0,
              "ticks": ""
             }
            },
            "type": "parcoords"
           }
          ],
          "pie": [
           {
            "automargin": true,
            "type": "pie"
           }
          ],
          "scatter": [
           {
            "fillpattern": {
             "fillmode": "overlay",
             "size": 10,
             "solidity": 0.2
            },
            "type": "scatter"
           }
          ],
          "scatter3d": [
           {
            "line": {
             "colorbar": {
              "outlinewidth": 0,
              "ticks": ""
             }
            },
            "marker": {
             "colorbar": {
              "outlinewidth": 0,
              "ticks": ""
             }
            },
            "type": "scatter3d"
           }
          ],
          "scattercarpet": [
           {
            "marker": {
             "colorbar": {
              "outlinewidth": 0,
              "ticks": ""
             }
            },
            "type": "scattercarpet"
           }
          ],
          "scattergeo": [
           {
            "marker": {
             "colorbar": {
              "outlinewidth": 0,
              "ticks": ""
             }
            },
            "type": "scattergeo"
           }
          ],
          "scattergl": [
           {
            "marker": {
             "colorbar": {
              "outlinewidth": 0,
              "ticks": ""
             }
            },
            "type": "scattergl"
           }
          ],
          "scattermapbox": [
           {
            "marker": {
             "colorbar": {
              "outlinewidth": 0,
              "ticks": ""
             }
            },
            "type": "scattermapbox"
           }
          ],
          "scatterpolar": [
           {
            "marker": {
             "colorbar": {
              "outlinewidth": 0,
              "ticks": ""
             }
            },
            "type": "scatterpolar"
           }
          ],
          "scatterpolargl": [
           {
            "marker": {
             "colorbar": {
              "outlinewidth": 0,
              "ticks": ""
             }
            },
            "type": "scatterpolargl"
           }
          ],
          "scatterternary": [
           {
            "marker": {
             "colorbar": {
              "outlinewidth": 0,
              "ticks": ""
             }
            },
            "type": "scatterternary"
           }
          ],
          "surface": [
           {
            "colorbar": {
             "outlinewidth": 0,
             "ticks": ""
            },
            "colorscale": [
             [
              0,
              "#0d0887"
             ],
             [
              0.1111111111111111,
              "#46039f"
             ],
             [
              0.2222222222222222,
              "#7201a8"
             ],
             [
              0.3333333333333333,
              "#9c179e"
             ],
             [
              0.4444444444444444,
              "#bd3786"
             ],
             [
              0.5555555555555556,
              "#d8576b"
             ],
             [
              0.6666666666666666,
              "#ed7953"
             ],
             [
              0.7777777777777778,
              "#fb9f3a"
             ],
             [
              0.8888888888888888,
              "#fdca26"
             ],
             [
              1,
              "#f0f921"
             ]
            ],
            "type": "surface"
           }
          ],
          "table": [
           {
            "cells": {
             "fill": {
              "color": "#EBF0F8"
             },
             "line": {
              "color": "white"
             }
            },
            "header": {
             "fill": {
              "color": "#C8D4E3"
             },
             "line": {
              "color": "white"
             }
            },
            "type": "table"
           }
          ]
         },
         "layout": {
          "annotationdefaults": {
           "arrowcolor": "#2a3f5f",
           "arrowhead": 0,
           "arrowwidth": 1
          },
          "autotypenumbers": "strict",
          "coloraxis": {
           "colorbar": {
            "outlinewidth": 0,
            "ticks": ""
           }
          },
          "colorscale": {
           "diverging": [
            [
             0,
             "#8e0152"
            ],
            [
             0.1,
             "#c51b7d"
            ],
            [
             0.2,
             "#de77ae"
            ],
            [
             0.3,
             "#f1b6da"
            ],
            [
             0.4,
             "#fde0ef"
            ],
            [
             0.5,
             "#f7f7f7"
            ],
            [
             0.6,
             "#e6f5d0"
            ],
            [
             0.7,
             "#b8e186"
            ],
            [
             0.8,
             "#7fbc41"
            ],
            [
             0.9,
             "#4d9221"
            ],
            [
             1,
             "#276419"
            ]
           ],
           "sequential": [
            [
             0,
             "#0d0887"
            ],
            [
             0.1111111111111111,
             "#46039f"
            ],
            [
             0.2222222222222222,
             "#7201a8"
            ],
            [
             0.3333333333333333,
             "#9c179e"
            ],
            [
             0.4444444444444444,
             "#bd3786"
            ],
            [
             0.5555555555555556,
             "#d8576b"
            ],
            [
             0.6666666666666666,
             "#ed7953"
            ],
            [
             0.7777777777777778,
             "#fb9f3a"
            ],
            [
             0.8888888888888888,
             "#fdca26"
            ],
            [
             1,
             "#f0f921"
            ]
           ],
           "sequentialminus": [
            [
             0,
             "#0d0887"
            ],
            [
             0.1111111111111111,
             "#46039f"
            ],
            [
             0.2222222222222222,
             "#7201a8"
            ],
            [
             0.3333333333333333,
             "#9c179e"
            ],
            [
             0.4444444444444444,
             "#bd3786"
            ],
            [
             0.5555555555555556,
             "#d8576b"
            ],
            [
             0.6666666666666666,
             "#ed7953"
            ],
            [
             0.7777777777777778,
             "#fb9f3a"
            ],
            [
             0.8888888888888888,
             "#fdca26"
            ],
            [
             1,
             "#f0f921"
            ]
           ]
          },
          "colorway": [
           "#636efa",
           "#EF553B",
           "#00cc96",
           "#ab63fa",
           "#FFA15A",
           "#19d3f3",
           "#FF6692",
           "#B6E880",
           "#FF97FF",
           "#FECB52"
          ],
          "font": {
           "color": "#2a3f5f"
          },
          "geo": {
           "bgcolor": "white",
           "lakecolor": "white",
           "landcolor": "#E5ECF6",
           "showlakes": true,
           "showland": true,
           "subunitcolor": "white"
          },
          "hoverlabel": {
           "align": "left"
          },
          "hovermode": "closest",
          "mapbox": {
           "style": "light"
          },
          "paper_bgcolor": "white",
          "plot_bgcolor": "#E5ECF6",
          "polar": {
           "angularaxis": {
            "gridcolor": "white",
            "linecolor": "white",
            "ticks": ""
           },
           "bgcolor": "#E5ECF6",
           "radialaxis": {
            "gridcolor": "white",
            "linecolor": "white",
            "ticks": ""
           }
          },
          "scene": {
           "xaxis": {
            "backgroundcolor": "#E5ECF6",
            "gridcolor": "white",
            "gridwidth": 2,
            "linecolor": "white",
            "showbackground": true,
            "ticks": "",
            "zerolinecolor": "white"
           },
           "yaxis": {
            "backgroundcolor": "#E5ECF6",
            "gridcolor": "white",
            "gridwidth": 2,
            "linecolor": "white",
            "showbackground": true,
            "ticks": "",
            "zerolinecolor": "white"
           },
           "zaxis": {
            "backgroundcolor": "#E5ECF6",
            "gridcolor": "white",
            "gridwidth": 2,
            "linecolor": "white",
            "showbackground": true,
            "ticks": "",
            "zerolinecolor": "white"
           }
          },
          "shapedefaults": {
           "line": {
            "color": "#2a3f5f"
           }
          },
          "ternary": {
           "aaxis": {
            "gridcolor": "white",
            "linecolor": "white",
            "ticks": ""
           },
           "baxis": {
            "gridcolor": "white",
            "linecolor": "white",
            "ticks": ""
           },
           "bgcolor": "#E5ECF6",
           "caxis": {
            "gridcolor": "white",
            "linecolor": "white",
            "ticks": ""
           }
          },
          "title": {
           "x": 0.05
          },
          "xaxis": {
           "automargin": true,
           "gridcolor": "white",
           "linecolor": "white",
           "ticks": "",
           "title": {
            "standoff": 15
           },
           "zerolinecolor": "white",
           "zerolinewidth": 2
          },
          "yaxis": {
           "automargin": true,
           "gridcolor": "white",
           "linecolor": "white",
           "ticks": "",
           "title": {
            "standoff": 15
           },
           "zerolinecolor": "white",
           "zerolinewidth": 2
          }
         }
        },
        "title": {
         "text": "MASS annotations overview"
        },
        "xaxis": {
         "anchor": "y",
         "domain": [
          0,
          0.98
         ],
         "title": {
          "text": "subjectId"
         }
        },
        "xaxis2": {
         "anchor": "y2",
         "domain": [
          0,
          0.98
         ],
         "matches": "x",
         "showticklabels": false
        },
        "yaxis": {
         "anchor": "x",
         "domain": [
          0,
          0.485
         ],
         "title": {
          "text": "size"
         }
        },
        "yaxis2": {
         "anchor": "x2",
         "domain": [
          0.515,
          1
         ],
         "matches": "y",
         "title": {
          "text": "size"
         }
        }
       }
      }
     },
     "metadata": {},
     "output_type": "display_data"
    }
   ],
   "source": [
    "aux=annotations[[\"type\",\"expert\",\"subjectId\"]].groupby([\"type\",\"expert\",\"subjectId\"],as_index=False).size()\n",
    "px.bar(aux,x=\"subjectId\",y=\"size\",color=\"expert\",barmode=\"group\",facet_row=\"type\",title=\"MASS annotations overview\")"
   ]
  },
  {
   "cell_type": "code",
   "execution_count": 37,
   "metadata": {},
   "outputs": [],
   "source": [
    "spinData=annotations[annotations.type==\"Spindles\"].reset_index(drop=True)\n",
    "spinData.type=\"spindle\""
   ]
  },
  {
   "cell_type": "code",
   "execution_count": 38,
   "metadata": {},
   "outputs": [],
   "source": [
    "spinData.to_csv(annopath+\"\\\\annotations.csv\")"
   ]
  },
  {
   "cell_type": "markdown",
   "metadata": {},
   "source": [
    "## Signals"
   ]
  },
  {
   "cell_type": "markdown",
   "metadata": {},
   "source": [
    "************************************* YOU ARE HERE **************************************"
   ]
  },
  {
   "cell_type": "code",
   "execution_count": 39,
   "metadata": {},
   "outputs": [],
   "source": [
    "allfiles=os.listdir(edfpath)\n",
    "subjectIds=list()\n",
    "extensions=list()\n",
    "types=list()\n",
    "edfFiles=list()\n",
    "for file in allfiles:\n",
    "    aux1=file.split(\".\")\n",
    "    if aux1[1]==\"edf\":\n",
    "        aux2=aux1[0].split(\" \")\n",
    "        aux3=aux2[0].split(\"-\")\n",
    "        subjectIds.append(aux3[2])\n",
    "        extensions.append(aux1[1])\n",
    "        types.append(aux2[1])\n",
    "        edfFiles.append(file)\n",
    "\n",
    "edfsData=pd.DataFrame({\n",
    "    \"subjectId\":subjectIds,\n",
    "    \"file\":edfFiles,\n",
    "    \"extension\":extensions,\n",
    "    \"type\":types\n",
    "})"
   ]
  },
  {
   "cell_type": "code",
   "execution_count": 46,
   "metadata": {},
   "outputs": [
    {
     "name": "stdout",
     "output_type": "stream",
     "text": [
      "**********************************************\n",
      "0\n",
      "subjectId                  0001\n",
      "file         01-02-0001 PSG.edf\n",
      "extension                   edf\n",
      "type                        PSG\n",
      "Name: 0, dtype: object\n",
      "{'label': 'EEG C3-CLE', 'dimension': 'uV', 'sample_rate': 512.0, 'sample_frequency': 512.0, 'physical_max': 397.0, 'physical_min': -397.0, 'digital_max': 32767, 'digital_min': -32768, 'prefilter': '', 'transducer': ''}\n",
      "**********************************************\n",
      "**********************************************\n",
      "1\n",
      "subjectId                  0002\n",
      "file         01-02-0002 PSG.edf\n",
      "extension                   edf\n",
      "type                        PSG\n",
      "Name: 1, dtype: object\n",
      "{'label': 'EEG C3-CLE', 'dimension': 'uV', 'sample_rate': 512.0, 'sample_frequency': 512.0, 'physical_max': 393.0, 'physical_min': -393.0, 'digital_max': 32767, 'digital_min': -32768, 'prefilter': '', 'transducer': ''}\n",
      "**********************************************\n",
      "**********************************************\n",
      "2\n",
      "subjectId                  0003\n",
      "file         01-02-0003 PSG.edf\n",
      "extension                   edf\n",
      "type                        PSG\n",
      "Name: 2, dtype: object\n",
      "{'label': 'EEG C3-CLE', 'dimension': 'uV', 'sample_rate': 512.0, 'sample_frequency': 512.0, 'physical_max': 277.0, 'physical_min': -277.0, 'digital_max': 32767, 'digital_min': -32768, 'prefilter': '', 'transducer': ''}\n",
      "**********************************************\n",
      "**********************************************\n",
      "3\n",
      "subjectId                  0004\n",
      "file         01-02-0004 PSG.edf\n",
      "extension                   edf\n",
      "type                        PSG\n",
      "Name: 3, dtype: object\n",
      "{'label': 'EEG C3-CLE', 'dimension': 'uV', 'sample_rate': 512.0, 'sample_frequency': 512.0, 'physical_max': 237.0, 'physical_min': -237.0, 'digital_max': 32767, 'digital_min': -32768, 'prefilter': '', 'transducer': ''}\n",
      "**********************************************\n",
      "**********************************************\n",
      "4\n",
      "subjectId                  0005\n",
      "file         01-02-0005 PSG.edf\n",
      "extension                   edf\n",
      "type                        PSG\n",
      "Name: 4, dtype: object\n",
      "{'label': 'EEG C3-CLE', 'dimension': 'uV', 'sample_rate': 512.0, 'sample_frequency': 512.0, 'physical_max': 342.0, 'physical_min': -342.0, 'digital_max': 32767, 'digital_min': -32768, 'prefilter': '', 'transducer': ''}\n",
      "**********************************************\n",
      "**********************************************\n",
      "5\n",
      "subjectId                  0006\n",
      "file         01-02-0006 PSG.edf\n",
      "extension                   edf\n",
      "type                        PSG\n",
      "Name: 5, dtype: object\n",
      "{'label': 'EEG C3-CLE', 'dimension': 'uV', 'sample_rate': 512.0, 'sample_frequency': 512.0, 'physical_max': 347.0, 'physical_min': -347.0, 'digital_max': 32767, 'digital_min': -32768, 'prefilter': '', 'transducer': ''}\n",
      "**********************************************\n",
      "**********************************************\n",
      "6\n",
      "subjectId                  0007\n",
      "file         01-02-0007 PSG.edf\n",
      "extension                   edf\n",
      "type                        PSG\n",
      "Name: 6, dtype: object\n",
      "{'label': 'EEG C3-CLE', 'dimension': 'uV', 'sample_rate': 512.0, 'sample_frequency': 512.0, 'physical_max': 278.0, 'physical_min': -278.0, 'digital_max': 32767, 'digital_min': -32768, 'prefilter': '', 'transducer': ''}\n",
      "**********************************************\n",
      "**********************************************\n",
      "7\n",
      "subjectId                  0008\n",
      "file         01-02-0008 PSG.edf\n",
      "extension                   edf\n",
      "type                        PSG\n",
      "Name: 7, dtype: object\n",
      "{'label': 'EEG C3-CLE', 'dimension': 'uV', 'sample_rate': 512.0, 'sample_frequency': 512.0, 'physical_max': 393.0, 'physical_min': -393.0, 'digital_max': 32767, 'digital_min': -32768, 'prefilter': '', 'transducer': ''}\n",
      "**********************************************\n",
      "**********************************************\n",
      "8\n",
      "subjectId                  0009\n",
      "file         01-02-0009 PSG.edf\n",
      "extension                   edf\n",
      "type                        PSG\n",
      "Name: 8, dtype: object\n",
      "{'label': 'EEG C3-CLE', 'dimension': 'uV', 'sample_rate': 512.0, 'sample_frequency': 512.0, 'physical_max': 367.0, 'physical_min': -367.0, 'digital_max': 32767, 'digital_min': -32768, 'prefilter': '', 'transducer': ''}\n",
      "**********************************************\n",
      "**********************************************\n",
      "9\n",
      "subjectId                  0010\n",
      "file         01-02-0010 PSG.edf\n",
      "extension                   edf\n",
      "type                        PSG\n",
      "Name: 9, dtype: object\n",
      "{'label': 'EEG C3-CLE', 'dimension': 'uV', 'sample_rate': 512.0, 'sample_frequency': 512.0, 'physical_max': 302.0, 'physical_min': -302.0, 'digital_max': 32767, 'digital_min': -32768, 'prefilter': '', 'transducer': ''}\n",
      "**********************************************\n",
      "**********************************************\n",
      "10\n",
      "subjectId                  0011\n",
      "file         01-02-0011 PSG.edf\n",
      "extension                   edf\n",
      "type                        PSG\n",
      "Name: 10, dtype: object\n",
      "{'label': 'EEG C3-CLE', 'dimension': 'uV', 'sample_rate': 512.0, 'sample_frequency': 512.0, 'physical_max': 283.0, 'physical_min': -283.0, 'digital_max': 32767, 'digital_min': -32768, 'prefilter': '', 'transducer': ''}\n",
      "**********************************************\n",
      "**********************************************\n",
      "11\n",
      "subjectId                  0012\n",
      "file         01-02-0012 PSG.edf\n",
      "extension                   edf\n",
      "type                        PSG\n",
      "Name: 11, dtype: object\n",
      "{'label': 'EEG C3-CLE', 'dimension': 'uV', 'sample_rate': 512.0, 'sample_frequency': 512.0, 'physical_max': 312.0, 'physical_min': -312.0, 'digital_max': 32767, 'digital_min': -32768, 'prefilter': '', 'transducer': ''}\n",
      "**********************************************\n",
      "**********************************************\n",
      "12\n",
      "subjectId                  0013\n",
      "file         01-02-0013 PSG.edf\n",
      "extension                   edf\n",
      "type                        PSG\n",
      "Name: 12, dtype: object\n",
      "{'label': 'EEG C3-CLE', 'dimension': 'uV', 'sample_rate': 512.0, 'sample_frequency': 512.0, 'physical_max': 378.0, 'physical_min': -378.0, 'digital_max': 32767, 'digital_min': -32768, 'prefilter': '', 'transducer': ''}\n",
      "**********************************************\n",
      "**********************************************\n",
      "13\n",
      "subjectId                  0014\n",
      "file         01-02-0014 PSG.edf\n",
      "extension                   edf\n",
      "type                        PSG\n",
      "Name: 13, dtype: object\n",
      "{'label': 'EEG C3-CLE', 'dimension': 'uV', 'sample_rate': 512.0, 'sample_frequency': 512.0, 'physical_max': 372.0, 'physical_min': -372.0, 'digital_max': 32767, 'digital_min': -32768, 'prefilter': '', 'transducer': ''}\n",
      "**********************************************\n",
      "**********************************************\n",
      "14\n",
      "subjectId                  0015\n",
      "file         01-02-0015 PSG.edf\n",
      "extension                   edf\n",
      "type                        PSG\n",
      "Name: 14, dtype: object\n",
      "{'label': 'EEG C3-CLE', 'dimension': 'uV', 'sample_rate': 512.0, 'sample_frequency': 512.0, 'physical_max': 390.0, 'physical_min': -390.0, 'digital_max': 32767, 'digital_min': -32768, 'prefilter': '', 'transducer': ''}\n",
      "**********************************************\n",
      "**********************************************\n",
      "15\n",
      "subjectId                  0016\n",
      "file         01-02-0016 PSG.edf\n",
      "extension                   edf\n",
      "type                        PSG\n",
      "Name: 15, dtype: object\n",
      "{'label': 'EEG C3-CLE', 'dimension': 'uV', 'sample_rate': 512.0, 'sample_frequency': 512.0, 'physical_max': 396.0, 'physical_min': -396.0, 'digital_max': 32767, 'digital_min': -32768, 'prefilter': '', 'transducer': ''}\n",
      "**********************************************\n",
      "**********************************************\n",
      "16\n",
      "subjectId                  0017\n",
      "file         01-02-0017 PSG.edf\n",
      "extension                   edf\n",
      "type                        PSG\n",
      "Name: 16, dtype: object\n",
      "{'label': 'EEG C3-CLE', 'dimension': 'uV', 'sample_rate': 512.0, 'sample_frequency': 512.0, 'physical_max': 421.0, 'physical_min': -421.0, 'digital_max': 32767, 'digital_min': -32768, 'prefilter': '', 'transducer': ''}\n",
      "**********************************************\n",
      "**********************************************\n",
      "17\n",
      "subjectId                  0018\n",
      "file         01-02-0018 PSG.edf\n",
      "extension                   edf\n",
      "type                        PSG\n",
      "Name: 17, dtype: object\n",
      "{'label': 'EEG C3-CLE', 'dimension': 'uV', 'sample_rate': 512.0, 'sample_frequency': 512.0, 'physical_max': 374.0, 'physical_min': -374.0, 'digital_max': 32767, 'digital_min': -32768, 'prefilter': '', 'transducer': ''}\n",
      "**********************************************\n",
      "**********************************************\n",
      "18\n",
      "subjectId                  0019\n",
      "file         01-02-0019 PSG.edf\n",
      "extension                   edf\n",
      "type                        PSG\n",
      "Name: 18, dtype: object\n",
      "{'label': 'EEG C3-CLE', 'dimension': 'uV', 'sample_rate': 512.0, 'sample_frequency': 512.0, 'physical_max': 373.0, 'physical_min': -373.0, 'digital_max': 32767, 'digital_min': -32768, 'prefilter': '', 'transducer': ''}\n",
      "**********************************************\n"
     ]
    }
   ],
   "source": [
    "psgData=edfsData[edfsData.type==\"PSG\"].reset_index(drop=True)\n",
    "for ind, row in psgData.iterrows():\n",
    "    print(\"**********************************************\")\n",
    "    print(ind)\n",
    "    print(row)\n",
    "    fullPath=edfpath+\"/\"+row.file\n",
    "    signals, signal_headers, header = pyedflib.highlevel.read_edf(fullPath)\n",
    "    for (signal,header) in zip(signals,signal_headers):\n",
    "        if \"C3\" in header['label']:\n",
    "            print(header)\n",
    "    print(\"**********************************************\")\n"
   ]
  },
  {
   "cell_type": "code",
   "execution_count": 47,
   "metadata": {},
   "outputs": [
    {
     "name": "stdout",
     "output_type": "stream",
     "text": [
      "EEG Fp1-CLE\n",
      "EEG Fp2-CLE\n",
      "EEG F3-CLE\n",
      "EEG F4-CLE\n",
      "EEG F7-CLE\n",
      "EEG F8-CLE\n",
      "EEG C3-CLE\n",
      "EEG C4-CLE\n",
      "EEG P3-CLE\n",
      "EEG P4-CLE\n",
      "EEG O1-CLE\n",
      "EEG O2-CLE\n",
      "EEG T3-CLE\n",
      "EEG T4-CLE\n",
      "EEG T5-CLE\n",
      "EEG T6-CLE\n",
      "EEG Fpz-CLE\n",
      "EEG Cz-CLE\n",
      "EEG Pz-CLE\n",
      "EOG Upper Vertic\n",
      "EOG Lower Vertic\n",
      "EOG Left Horiz\n",
      "EOG Right Horiz\n",
      "EMG Chin\n",
      "ECG ECGI\n",
      "Resp Nasal\n",
      "EEG A2-CLE\n"
     ]
    }
   ],
   "source": [
    "for (signal,header) in zip(signals,signal_headers):\n",
    "    print(header['label'])\n"
   ]
  },
  {
   "cell_type": "code",
   "execution_count": null,
   "metadata": {},
   "outputs": [],
   "source": []
  }
 ],
 "metadata": {
  "kernelspec": {
   "display_name": "Python 3.10.6 ('venv': venv)",
   "language": "python",
   "name": "python3"
  },
  "language_info": {
   "codemirror_mode": {
    "name": "ipython",
    "version": 3
   },
   "file_extension": ".py",
   "mimetype": "text/x-python",
   "name": "python",
   "nbconvert_exporter": "python",
   "pygments_lexer": "ipython3",
   "version": "3.10.6"
  },
  "orig_nbformat": 4,
  "vscode": {
   "interpreter": {
    "hash": "227b723ae21da5e20081aa19d610449b54a464ea5e1afe5c25369de347059959"
   }
  }
 },
 "nbformat": 4,
 "nbformat_minor": 2
}
