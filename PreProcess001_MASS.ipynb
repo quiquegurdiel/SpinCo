{
 "cells": [
  {
   "cell_type": "markdown",
   "metadata": {},
   "source": [
    "# Process MASS data structure"
   ]
  },
  {
   "cell_type": "code",
   "execution_count": 1,
   "metadata": {},
   "outputs": [],
   "source": [
    "import os\n",
    "import pandas as pd\n",
    "import numpy as np\n",
    "import pyedflib\n",
    "import pickle as pkl\n",
    "from plotly import express as px\n",
    "from matplotlib import pyplot as plt"
   ]
  },
  {
   "cell_type": "code",
   "execution_count": 2,
   "metadata": {},
   "outputs": [],
   "source": [
    "edfpath=\"D:\\SpinCo\\MASS\\edfs\"\n",
    "annopath=\"D:\\SpinCo\\MASS\\\\annotations\"\n",
    "signalspath=\"D:\\SpinCo\\MASS\\signals\""
   ]
  },
  {
   "cell_type": "markdown",
   "metadata": {},
   "source": [
    "## Annotations"
   ]
  },
  {
   "cell_type": "code",
   "execution_count": 3,
   "metadata": {},
   "outputs": [],
   "source": [
    "allfiles=os.listdir(annopath)\n",
    "subjectIds=list()\n",
    "extensions=list()\n",
    "types=list()\n",
    "edfFiles=list()\n",
    "experts=list()\n",
    "for file in allfiles:\n",
    "    aux1=file.split(\".\")\n",
    "    if aux1[1]==\"edf\":\n",
    "        aux2=aux1[0].split(\" \")\n",
    "        if not aux2[1]==\"Base\":\n",
    "            aux3=aux2[0].split(\"-\")\n",
    "            aux4=aux2[1].split(\"_\")\n",
    "\n",
    "            subjectIds.append(aux3[2])\n",
    "            extensions.append(aux1[1])\n",
    "            types.append(aux4[0])\n",
    "            experts.append(aux4[1])\n",
    "            edfFiles.append(file)\n",
    "\n",
    "annoData=pd.DataFrame({\n",
    "    \"subjectId\":subjectIds,\n",
    "    \"file\":edfFiles,\n",
    "    \"extension\":extensions,\n",
    "    \"type\":types,\n",
    "    \"expert\":experts\n",
    "})"
   ]
  },
  {
   "cell_type": "code",
   "execution_count": 4,
   "metadata": {},
   "outputs": [],
   "source": [
    "types=list()\n",
    "subjectIds=list()\n",
    "starts=list()\n",
    "durations=list()\n",
    "experts=list()\n",
    "comments=list()\n",
    "\n",
    "for ind, row in annoData.iterrows():\n",
    "    fullPath=annopath+\"/\"+row.file\n",
    "    signals, signal_headers, header = pyedflib.highlevel.read_edf(fullPath)\n",
    "    for anno in header['annotations']:\n",
    "        types.append(row.type)\n",
    "        subjectIds.append(row.subjectId)\n",
    "        starts.append(anno[0])\n",
    "        durations.append(anno[1])\n",
    "        experts.append(row.expert)\n",
    "        comments.append(anno[2])\n",
    "\n",
    "annotations=pd.DataFrame({\n",
    "    \"type\":types,\n",
    "    \"subjectId\":subjectIds,\n",
    "    \"startTime\":starts,\n",
    "    \"duration\":durations,\n",
    "    \"expert\":experts,\n",
    "    \"comment\":comments\n",
    "})"
   ]
  },
  {
   "cell_type": "code",
   "execution_count": 6,
   "metadata": {},
   "outputs": [],
   "source": [
    "annotations[\"labelerId\"]=annotations.apply(\n",
    "    lambda row: \"0001\" if row.expert==\"E1\" else \"0002\"\n",
    "    ,axis=1)"
   ]
  },
  {
   "cell_type": "code",
   "execution_count": 7,
   "metadata": {},
   "outputs": [
    {
     "data": {
      "text/html": [
       "<div>\n",
       "<style scoped>\n",
       "    .dataframe tbody tr th:only-of-type {\n",
       "        vertical-align: middle;\n",
       "    }\n",
       "\n",
       "    .dataframe tbody tr th {\n",
       "        vertical-align: top;\n",
       "    }\n",
       "\n",
       "    .dataframe thead th {\n",
       "        text-align: right;\n",
       "    }\n",
       "</style>\n",
       "<table border=\"1\" class=\"dataframe\">\n",
       "  <thead>\n",
       "    <tr style=\"text-align: right;\">\n",
       "      <th></th>\n",
       "      <th>type</th>\n",
       "      <th>subjectId</th>\n",
       "      <th>startTime</th>\n",
       "      <th>duration</th>\n",
       "      <th>expert</th>\n",
       "      <th>comment</th>\n",
       "      <th>labelerId</th>\n",
       "    </tr>\n",
       "  </thead>\n",
       "  <tbody>\n",
       "    <tr>\n",
       "      <th>0</th>\n",
       "      <td>KComplexes</td>\n",
       "      <td>0001</td>\n",
       "      <td>830.838372</td>\n",
       "      <td>0.699174</td>\n",
       "      <td>E1</td>\n",
       "      <td>&lt;Event channel=\"EEG C3-LER\" groupName=\"kcomple...</td>\n",
       "      <td>0001</td>\n",
       "    </tr>\n",
       "    <tr>\n",
       "      <th>1</th>\n",
       "      <td>KComplexes</td>\n",
       "      <td>0001</td>\n",
       "      <td>841.223012</td>\n",
       "      <td>0.492156</td>\n",
       "      <td>E1</td>\n",
       "      <td>&lt;Event channel=\"EEG C3-LER\" groupName=\"kcomple...</td>\n",
       "      <td>0001</td>\n",
       "    </tr>\n",
       "    <tr>\n",
       "      <th>2</th>\n",
       "      <td>KComplexes</td>\n",
       "      <td>0001</td>\n",
       "      <td>970.838374</td>\n",
       "      <td>0.578088</td>\n",
       "      <td>E1</td>\n",
       "      <td>&lt;Event channel=\"EEG C3-LER\" groupName=\"kcomple...</td>\n",
       "      <td>0001</td>\n",
       "    </tr>\n",
       "    <tr>\n",
       "      <th>3</th>\n",
       "      <td>KComplexes</td>\n",
       "      <td>0001</td>\n",
       "      <td>1050.014503</td>\n",
       "      <td>0.695268</td>\n",
       "      <td>E1</td>\n",
       "      <td>&lt;Event channel=\"EEG C3-LER\" groupName=\"kcomple...</td>\n",
       "      <td>0001</td>\n",
       "    </tr>\n",
       "    <tr>\n",
       "      <th>4</th>\n",
       "      <td>KComplexes</td>\n",
       "      <td>0001</td>\n",
       "      <td>1077.473271</td>\n",
       "      <td>0.648396</td>\n",
       "      <td>E1</td>\n",
       "      <td>&lt;Event channel=\"EEG C3-LER\" groupName=\"kcomple...</td>\n",
       "      <td>0001</td>\n",
       "    </tr>\n",
       "    <tr>\n",
       "      <th>...</th>\n",
       "      <td>...</td>\n",
       "      <td>...</td>\n",
       "      <td>...</td>\n",
       "      <td>...</td>\n",
       "      <td>...</td>\n",
       "      <td>...</td>\n",
       "      <td>...</td>\n",
       "    </tr>\n",
       "    <tr>\n",
       "      <th>45035</th>\n",
       "      <td>Spindles</td>\n",
       "      <td>0019</td>\n",
       "      <td>25434.045319</td>\n",
       "      <td>0.800730</td>\n",
       "      <td>E2</td>\n",
       "      <td>&lt;Event channel=\"EEG C3-LER\" groupName=\"spindle...</td>\n",
       "      <td>0002</td>\n",
       "    </tr>\n",
       "    <tr>\n",
       "      <th>45036</th>\n",
       "      <td>Spindles</td>\n",
       "      <td>0019</td>\n",
       "      <td>25438.822357</td>\n",
       "      <td>0.472626</td>\n",
       "      <td>E2</td>\n",
       "      <td>&lt;Event channel=\"EEG C3-LER\" groupName=\"spindle...</td>\n",
       "      <td>0002</td>\n",
       "    </tr>\n",
       "    <tr>\n",
       "      <th>45037</th>\n",
       "      <td>Spindles</td>\n",
       "      <td>0019</td>\n",
       "      <td>25444.489963</td>\n",
       "      <td>1.035090</td>\n",
       "      <td>E2</td>\n",
       "      <td>&lt;Event channel=\"EEG C3-LER\" groupName=\"spindle...</td>\n",
       "      <td>0002</td>\n",
       "    </tr>\n",
       "    <tr>\n",
       "      <th>45038</th>\n",
       "      <td>Spindles</td>\n",
       "      <td>0019</td>\n",
       "      <td>25457.542096</td>\n",
       "      <td>0.890568</td>\n",
       "      <td>E2</td>\n",
       "      <td>&lt;Event channel=\"EEG C3-LER\" groupName=\"spindle...</td>\n",
       "      <td>0002</td>\n",
       "    </tr>\n",
       "    <tr>\n",
       "      <th>45039</th>\n",
       "      <td>Spindles</td>\n",
       "      <td>0019</td>\n",
       "      <td>25461.041872</td>\n",
       "      <td>0.980406</td>\n",
       "      <td>E2</td>\n",
       "      <td>&lt;Event channel=\"EEG C3-LER\" groupName=\"spindle...</td>\n",
       "      <td>0002</td>\n",
       "    </tr>\n",
       "  </tbody>\n",
       "</table>\n",
       "<p>45040 rows × 7 columns</p>\n",
       "</div>"
      ],
      "text/plain": [
       "             type subjectId     startTime  duration expert  \\\n",
       "0      KComplexes      0001    830.838372  0.699174     E1   \n",
       "1      KComplexes      0001    841.223012  0.492156     E1   \n",
       "2      KComplexes      0001    970.838374  0.578088     E1   \n",
       "3      KComplexes      0001   1050.014503  0.695268     E1   \n",
       "4      KComplexes      0001   1077.473271  0.648396     E1   \n",
       "...           ...       ...           ...       ...    ...   \n",
       "45035    Spindles      0019  25434.045319  0.800730     E2   \n",
       "45036    Spindles      0019  25438.822357  0.472626     E2   \n",
       "45037    Spindles      0019  25444.489963  1.035090     E2   \n",
       "45038    Spindles      0019  25457.542096  0.890568     E2   \n",
       "45039    Spindles      0019  25461.041872  0.980406     E2   \n",
       "\n",
       "                                                 comment labelerId  \n",
       "0      <Event channel=\"EEG C3-LER\" groupName=\"kcomple...      0001  \n",
       "1      <Event channel=\"EEG C3-LER\" groupName=\"kcomple...      0001  \n",
       "2      <Event channel=\"EEG C3-LER\" groupName=\"kcomple...      0001  \n",
       "3      <Event channel=\"EEG C3-LER\" groupName=\"kcomple...      0001  \n",
       "4      <Event channel=\"EEG C3-LER\" groupName=\"kcomple...      0001  \n",
       "...                                                  ...       ...  \n",
       "45035  <Event channel=\"EEG C3-LER\" groupName=\"spindle...      0002  \n",
       "45036  <Event channel=\"EEG C3-LER\" groupName=\"spindle...      0002  \n",
       "45037  <Event channel=\"EEG C3-LER\" groupName=\"spindle...      0002  \n",
       "45038  <Event channel=\"EEG C3-LER\" groupName=\"spindle...      0002  \n",
       "45039  <Event channel=\"EEG C3-LER\" groupName=\"spindle...      0002  \n",
       "\n",
       "[45040 rows x 7 columns]"
      ]
     },
     "execution_count": 7,
     "metadata": {},
     "output_type": "execute_result"
    }
   ],
   "source": [
    "annotations"
   ]
  },
  {
   "cell_type": "code",
   "execution_count": 8,
   "metadata": {},
   "outputs": [
    {
     "data": {
      "application/vnd.plotly.v1+json": {
       "config": {
        "plotlyServerURL": "https://plot.ly"
       },
       "data": [
        {
         "alignmentgroup": "True",
         "hovertemplate": "expert=E1<br>type=KComplexes<br>subjectId=%{x}<br>size=%{y}<extra></extra>",
         "legendgroup": "E1",
         "marker": {
          "color": "#636efa",
          "pattern": {
           "shape": ""
          }
         },
         "name": "E1",
         "offsetgroup": "E1",
         "orientation": "v",
         "showlegend": true,
         "textposition": "auto",
         "type": "bar",
         "x": [
          "0001",
          "0002",
          "0003",
          "0004",
          "0005",
          "0006",
          "0007",
          "0008",
          "0009",
          "0010",
          "0011",
          "0012",
          "0013",
          "0014",
          "0015",
          "0016",
          "0017",
          "0018",
          "0019"
         ],
         "xaxis": "x2",
         "y": [
          409,
          637,
          533,
          607,
          419,
          674,
          436,
          712,
          895,
          999,
          445,
          857,
          272,
          577,
          172,
          1307,
          595,
          845,
          191
         ],
         "yaxis": "y2"
        },
        {
         "alignmentgroup": "True",
         "hovertemplate": "expert=E1<br>type=Spindles<br>subjectId=%{x}<br>size=%{y}<extra></extra>",
         "legendgroup": "E1",
         "marker": {
          "color": "#636efa",
          "pattern": {
           "shape": ""
          }
         },
         "name": "E1",
         "offsetgroup": "E1",
         "orientation": "v",
         "showlegend": false,
         "textposition": "auto",
         "type": "bar",
         "x": [
          "0001",
          "0002",
          "0003",
          "0004",
          "0005",
          "0006",
          "0007",
          "0008",
          "0009",
          "0010",
          "0011",
          "0012",
          "0013",
          "0014",
          "0015",
          "0016",
          "0017",
          "0018",
          "0019"
         ],
         "xaxis": "x",
         "y": [
          1044,
          1143,
          143,
          253,
          341,
          150,
          912,
          385,
          814,
          795,
          606,
          709,
          698,
          713,
          97,
          452,
          470,
          1164,
          315
         ],
         "yaxis": "y"
        },
        {
         "alignmentgroup": "True",
         "hovertemplate": "expert=E2<br>type=Spindles<br>subjectId=%{x}<br>size=%{y}<extra></extra>",
         "legendgroup": "E2",
         "marker": {
          "color": "#EF553B",
          "pattern": {
           "shape": ""
          }
         },
         "name": "E2",
         "offsetgroup": "E2",
         "orientation": "v",
         "showlegend": true,
         "textposition": "auto",
         "type": "bar",
         "x": [
          "0001",
          "0002",
          "0003",
          "0005",
          "0006",
          "0007",
          "0009",
          "0010",
          "0011",
          "0012",
          "0013",
          "0014",
          "0017",
          "0018",
          "0019"
         ],
         "xaxis": "x",
         "y": [
          2452,
          2212,
          602,
          1201,
          840,
          1607,
          1670,
          1939,
          1541,
          1204,
          1438,
          1618,
          1192,
          1680,
          1058
         ],
         "yaxis": "y"
        }
       ],
       "layout": {
        "annotations": [
         {
          "font": {},
          "showarrow": false,
          "text": "type=Spindles",
          "textangle": 90,
          "x": 0.98,
          "xanchor": "left",
          "xref": "paper",
          "y": 0.2425,
          "yanchor": "middle",
          "yref": "paper"
         },
         {
          "font": {},
          "showarrow": false,
          "text": "type=KComplexes",
          "textangle": 90,
          "x": 0.98,
          "xanchor": "left",
          "xref": "paper",
          "y": 0.7575000000000001,
          "yanchor": "middle",
          "yref": "paper"
         }
        ],
        "barmode": "group",
        "legend": {
         "title": {
          "text": "expert"
         },
         "tracegroupgap": 0
        },
        "template": {
         "data": {
          "bar": [
           {
            "error_x": {
             "color": "#2a3f5f"
            },
            "error_y": {
             "color": "#2a3f5f"
            },
            "marker": {
             "line": {
              "color": "#E5ECF6",
              "width": 0.5
             },
             "pattern": {
              "fillmode": "overlay",
              "size": 10,
              "solidity": 0.2
             }
            },
            "type": "bar"
           }
          ],
          "barpolar": [
           {
            "marker": {
             "line": {
              "color": "#E5ECF6",
              "width": 0.5
             },
             "pattern": {
              "fillmode": "overlay",
              "size": 10,
              "solidity": 0.2
             }
            },
            "type": "barpolar"
           }
          ],
          "carpet": [
           {
            "aaxis": {
             "endlinecolor": "#2a3f5f",
             "gridcolor": "white",
             "linecolor": "white",
             "minorgridcolor": "white",
             "startlinecolor": "#2a3f5f"
            },
            "baxis": {
             "endlinecolor": "#2a3f5f",
             "gridcolor": "white",
             "linecolor": "white",
             "minorgridcolor": "white",
             "startlinecolor": "#2a3f5f"
            },
            "type": "carpet"
           }
          ],
          "choropleth": [
           {
            "colorbar": {
             "outlinewidth": 0,
             "ticks": ""
            },
            "type": "choropleth"
           }
          ],
          "contour": [
           {
            "colorbar": {
             "outlinewidth": 0,
             "ticks": ""
            },
            "colorscale": [
             [
              0,
              "#0d0887"
             ],
             [
              0.1111111111111111,
              "#46039f"
             ],
             [
              0.2222222222222222,
              "#7201a8"
             ],
             [
              0.3333333333333333,
              "#9c179e"
             ],
             [
              0.4444444444444444,
              "#bd3786"
             ],
             [
              0.5555555555555556,
              "#d8576b"
             ],
             [
              0.6666666666666666,
              "#ed7953"
             ],
             [
              0.7777777777777778,
              "#fb9f3a"
             ],
             [
              0.8888888888888888,
              "#fdca26"
             ],
             [
              1,
              "#f0f921"
             ]
            ],
            "type": "contour"
           }
          ],
          "contourcarpet": [
           {
            "colorbar": {
             "outlinewidth": 0,
             "ticks": ""
            },
            "type": "contourcarpet"
           }
          ],
          "heatmap": [
           {
            "colorbar": {
             "outlinewidth": 0,
             "ticks": ""
            },
            "colorscale": [
             [
              0,
              "#0d0887"
             ],
             [
              0.1111111111111111,
              "#46039f"
             ],
             [
              0.2222222222222222,
              "#7201a8"
             ],
             [
              0.3333333333333333,
              "#9c179e"
             ],
             [
              0.4444444444444444,
              "#bd3786"
             ],
             [
              0.5555555555555556,
              "#d8576b"
             ],
             [
              0.6666666666666666,
              "#ed7953"
             ],
             [
              0.7777777777777778,
              "#fb9f3a"
             ],
             [
              0.8888888888888888,
              "#fdca26"
             ],
             [
              1,
              "#f0f921"
             ]
            ],
            "type": "heatmap"
           }
          ],
          "heatmapgl": [
           {
            "colorbar": {
             "outlinewidth": 0,
             "ticks": ""
            },
            "colorscale": [
             [
              0,
              "#0d0887"
             ],
             [
              0.1111111111111111,
              "#46039f"
             ],
             [
              0.2222222222222222,
              "#7201a8"
             ],
             [
              0.3333333333333333,
              "#9c179e"
             ],
             [
              0.4444444444444444,
              "#bd3786"
             ],
             [
              0.5555555555555556,
              "#d8576b"
             ],
             [
              0.6666666666666666,
              "#ed7953"
             ],
             [
              0.7777777777777778,
              "#fb9f3a"
             ],
             [
              0.8888888888888888,
              "#fdca26"
             ],
             [
              1,
              "#f0f921"
             ]
            ],
            "type": "heatmapgl"
           }
          ],
          "histogram": [
           {
            "marker": {
             "pattern": {
              "fillmode": "overlay",
              "size": 10,
              "solidity": 0.2
             }
            },
            "type": "histogram"
           }
          ],
          "histogram2d": [
           {
            "colorbar": {
             "outlinewidth": 0,
             "ticks": ""
            },
            "colorscale": [
             [
              0,
              "#0d0887"
             ],
             [
              0.1111111111111111,
              "#46039f"
             ],
             [
              0.2222222222222222,
              "#7201a8"
             ],
             [
              0.3333333333333333,
              "#9c179e"
             ],
             [
              0.4444444444444444,
              "#bd3786"
             ],
             [
              0.5555555555555556,
              "#d8576b"
             ],
             [
              0.6666666666666666,
              "#ed7953"
             ],
             [
              0.7777777777777778,
              "#fb9f3a"
             ],
             [
              0.8888888888888888,
              "#fdca26"
             ],
             [
              1,
              "#f0f921"
             ]
            ],
            "type": "histogram2d"
           }
          ],
          "histogram2dcontour": [
           {
            "colorbar": {
             "outlinewidth": 0,
             "ticks": ""
            },
            "colorscale": [
             [
              0,
              "#0d0887"
             ],
             [
              0.1111111111111111,
              "#46039f"
             ],
             [
              0.2222222222222222,
              "#7201a8"
             ],
             [
              0.3333333333333333,
              "#9c179e"
             ],
             [
              0.4444444444444444,
              "#bd3786"
             ],
             [
              0.5555555555555556,
              "#d8576b"
             ],
             [
              0.6666666666666666,
              "#ed7953"
             ],
             [
              0.7777777777777778,
              "#fb9f3a"
             ],
             [
              0.8888888888888888,
              "#fdca26"
             ],
             [
              1,
              "#f0f921"
             ]
            ],
            "type": "histogram2dcontour"
           }
          ],
          "mesh3d": [
           {
            "colorbar": {
             "outlinewidth": 0,
             "ticks": ""
            },
            "type": "mesh3d"
           }
          ],
          "parcoords": [
           {
            "line": {
             "colorbar": {
              "outlinewidth": 0,
              "ticks": ""
             }
            },
            "type": "parcoords"
           }
          ],
          "pie": [
           {
            "automargin": true,
            "type": "pie"
           }
          ],
          "scatter": [
           {
            "fillpattern": {
             "fillmode": "overlay",
             "size": 10,
             "solidity": 0.2
            },
            "type": "scatter"
           }
          ],
          "scatter3d": [
           {
            "line": {
             "colorbar": {
              "outlinewidth": 0,
              "ticks": ""
             }
            },
            "marker": {
             "colorbar": {
              "outlinewidth": 0,
              "ticks": ""
             }
            },
            "type": "scatter3d"
           }
          ],
          "scattercarpet": [
           {
            "marker": {
             "colorbar": {
              "outlinewidth": 0,
              "ticks": ""
             }
            },
            "type": "scattercarpet"
           }
          ],
          "scattergeo": [
           {
            "marker": {
             "colorbar": {
              "outlinewidth": 0,
              "ticks": ""
             }
            },
            "type": "scattergeo"
           }
          ],
          "scattergl": [
           {
            "marker": {
             "colorbar": {
              "outlinewidth": 0,
              "ticks": ""
             }
            },
            "type": "scattergl"
           }
          ],
          "scattermapbox": [
           {
            "marker": {
             "colorbar": {
              "outlinewidth": 0,
              "ticks": ""
             }
            },
            "type": "scattermapbox"
           }
          ],
          "scatterpolar": [
           {
            "marker": {
             "colorbar": {
              "outlinewidth": 0,
              "ticks": ""
             }
            },
            "type": "scatterpolar"
           }
          ],
          "scatterpolargl": [
           {
            "marker": {
             "colorbar": {
              "outlinewidth": 0,
              "ticks": ""
             }
            },
            "type": "scatterpolargl"
           }
          ],
          "scatterternary": [
           {
            "marker": {
             "colorbar": {
              "outlinewidth": 0,
              "ticks": ""
             }
            },
            "type": "scatterternary"
           }
          ],
          "surface": [
           {
            "colorbar": {
             "outlinewidth": 0,
             "ticks": ""
            },
            "colorscale": [
             [
              0,
              "#0d0887"
             ],
             [
              0.1111111111111111,
              "#46039f"
             ],
             [
              0.2222222222222222,
              "#7201a8"
             ],
             [
              0.3333333333333333,
              "#9c179e"
             ],
             [
              0.4444444444444444,
              "#bd3786"
             ],
             [
              0.5555555555555556,
              "#d8576b"
             ],
             [
              0.6666666666666666,
              "#ed7953"
             ],
             [
              0.7777777777777778,
              "#fb9f3a"
             ],
             [
              0.8888888888888888,
              "#fdca26"
             ],
             [
              1,
              "#f0f921"
             ]
            ],
            "type": "surface"
           }
          ],
          "table": [
           {
            "cells": {
             "fill": {
              "color": "#EBF0F8"
             },
             "line": {
              "color": "white"
             }
            },
            "header": {
             "fill": {
              "color": "#C8D4E3"
             },
             "line": {
              "color": "white"
             }
            },
            "type": "table"
           }
          ]
         },
         "layout": {
          "annotationdefaults": {
           "arrowcolor": "#2a3f5f",
           "arrowhead": 0,
           "arrowwidth": 1
          },
          "autotypenumbers": "strict",
          "coloraxis": {
           "colorbar": {
            "outlinewidth": 0,
            "ticks": ""
           }
          },
          "colorscale": {
           "diverging": [
            [
             0,
             "#8e0152"
            ],
            [
             0.1,
             "#c51b7d"
            ],
            [
             0.2,
             "#de77ae"
            ],
            [
             0.3,
             "#f1b6da"
            ],
            [
             0.4,
             "#fde0ef"
            ],
            [
             0.5,
             "#f7f7f7"
            ],
            [
             0.6,
             "#e6f5d0"
            ],
            [
             0.7,
             "#b8e186"
            ],
            [
             0.8,
             "#7fbc41"
            ],
            [
             0.9,
             "#4d9221"
            ],
            [
             1,
             "#276419"
            ]
           ],
           "sequential": [
            [
             0,
             "#0d0887"
            ],
            [
             0.1111111111111111,
             "#46039f"
            ],
            [
             0.2222222222222222,
             "#7201a8"
            ],
            [
             0.3333333333333333,
             "#9c179e"
            ],
            [
             0.4444444444444444,
             "#bd3786"
            ],
            [
             0.5555555555555556,
             "#d8576b"
            ],
            [
             0.6666666666666666,
             "#ed7953"
            ],
            [
             0.7777777777777778,
             "#fb9f3a"
            ],
            [
             0.8888888888888888,
             "#fdca26"
            ],
            [
             1,
             "#f0f921"
            ]
           ],
           "sequentialminus": [
            [
             0,
             "#0d0887"
            ],
            [
             0.1111111111111111,
             "#46039f"
            ],
            [
             0.2222222222222222,
             "#7201a8"
            ],
            [
             0.3333333333333333,
             "#9c179e"
            ],
            [
             0.4444444444444444,
             "#bd3786"
            ],
            [
             0.5555555555555556,
             "#d8576b"
            ],
            [
             0.6666666666666666,
             "#ed7953"
            ],
            [
             0.7777777777777778,
             "#fb9f3a"
            ],
            [
             0.8888888888888888,
             "#fdca26"
            ],
            [
             1,
             "#f0f921"
            ]
           ]
          },
          "colorway": [
           "#636efa",
           "#EF553B",
           "#00cc96",
           "#ab63fa",
           "#FFA15A",
           "#19d3f3",
           "#FF6692",
           "#B6E880",
           "#FF97FF",
           "#FECB52"
          ],
          "font": {
           "color": "#2a3f5f"
          },
          "geo": {
           "bgcolor": "white",
           "lakecolor": "white",
           "landcolor": "#E5ECF6",
           "showlakes": true,
           "showland": true,
           "subunitcolor": "white"
          },
          "hoverlabel": {
           "align": "left"
          },
          "hovermode": "closest",
          "mapbox": {
           "style": "light"
          },
          "paper_bgcolor": "white",
          "plot_bgcolor": "#E5ECF6",
          "polar": {
           "angularaxis": {
            "gridcolor": "white",
            "linecolor": "white",
            "ticks": ""
           },
           "bgcolor": "#E5ECF6",
           "radialaxis": {
            "gridcolor": "white",
            "linecolor": "white",
            "ticks": ""
           }
          },
          "scene": {
           "xaxis": {
            "backgroundcolor": "#E5ECF6",
            "gridcolor": "white",
            "gridwidth": 2,
            "linecolor": "white",
            "showbackground": true,
            "ticks": "",
            "zerolinecolor": "white"
           },
           "yaxis": {
            "backgroundcolor": "#E5ECF6",
            "gridcolor": "white",
            "gridwidth": 2,
            "linecolor": "white",
            "showbackground": true,
            "ticks": "",
            "zerolinecolor": "white"
           },
           "zaxis": {
            "backgroundcolor": "#E5ECF6",
            "gridcolor": "white",
            "gridwidth": 2,
            "linecolor": "white",
            "showbackground": true,
            "ticks": "",
            "zerolinecolor": "white"
           }
          },
          "shapedefaults": {
           "line": {
            "color": "#2a3f5f"
           }
          },
          "ternary": {
           "aaxis": {
            "gridcolor": "white",
            "linecolor": "white",
            "ticks": ""
           },
           "baxis": {
            "gridcolor": "white",
            "linecolor": "white",
            "ticks": ""
           },
           "bgcolor": "#E5ECF6",
           "caxis": {
            "gridcolor": "white",
            "linecolor": "white",
            "ticks": ""
           }
          },
          "title": {
           "x": 0.05
          },
          "xaxis": {
           "automargin": true,
           "gridcolor": "white",
           "linecolor": "white",
           "ticks": "",
           "title": {
            "standoff": 15
           },
           "zerolinecolor": "white",
           "zerolinewidth": 2
          },
          "yaxis": {
           "automargin": true,
           "gridcolor": "white",
           "linecolor": "white",
           "ticks": "",
           "title": {
            "standoff": 15
           },
           "zerolinecolor": "white",
           "zerolinewidth": 2
          }
         }
        },
        "title": {
         "text": "MASS SS2 annotations overview"
        },
        "xaxis": {
         "anchor": "y",
         "domain": [
          0,
          0.98
         ],
         "title": {
          "text": "subjectId"
         }
        },
        "xaxis2": {
         "anchor": "y2",
         "domain": [
          0,
          0.98
         ],
         "matches": "x",
         "showticklabels": false
        },
        "yaxis": {
         "anchor": "x",
         "domain": [
          0,
          0.485
         ],
         "title": {
          "text": "size"
         }
        },
        "yaxis2": {
         "anchor": "x2",
         "domain": [
          0.515,
          1
         ],
         "matches": "y",
         "title": {
          "text": "size"
         }
        }
       }
      }
     },
     "metadata": {},
     "output_type": "display_data"
    }
   ],
   "source": [
    "aux=annotations[[\"type\",\"expert\",\"subjectId\"]].groupby([\"type\",\"expert\",\"subjectId\"],as_index=False).size()\n",
    "px.bar(aux,x=\"subjectId\",y=\"size\",color=\"expert\",barmode=\"group\",facet_row=\"type\",title=\"MASS SS2 annotations overview\")"
   ]
  },
  {
   "cell_type": "code",
   "execution_count": 36,
   "metadata": {},
   "outputs": [],
   "source": [
    "spinData=annotations[annotations.type==\"Spindles\"].reset_index(drop=True)\n",
    "spinData.type=\"spindle\""
   ]
  },
  {
   "cell_type": "code",
   "execution_count": 10,
   "metadata": {},
   "outputs": [],
   "source": [
    "\"\"\" spinData.to_csv(annopath+\"\\\\annotations.csv\",index=False) \"\"\"\n",
    "#DON'T DO IT, NEED TO REREFERENCE THE STARTTIME"
   ]
  },
  {
   "cell_type": "markdown",
   "metadata": {},
   "source": [
    "## Signals = Subjects -> SS\n",
    "we are assuming 1:1 relation signal:subject from now on, so the concepts are merged"
   ]
  },
  {
   "cell_type": "code",
   "execution_count": 11,
   "metadata": {},
   "outputs": [],
   "source": [
    "allfiles=os.listdir(edfpath)\n",
    "subjectIds=list()\n",
    "extensions=list()\n",
    "types=list()\n",
    "edfFiles=list()\n",
    "for file in allfiles:\n",
    "    aux1=file.split(\".\")\n",
    "    if aux1[1]==\"edf\":\n",
    "        aux2=aux1[0].split(\" \")\n",
    "        aux3=aux2[0].split(\"-\")\n",
    "        subjectIds.append(aux3[2])\n",
    "        extensions.append(aux1[1])\n",
    "        types.append(aux2[1])\n",
    "        edfFiles.append(file)\n",
    "\n",
    "edfsData=pd.DataFrame({\n",
    "    \"subjectId\":subjectIds,\n",
    "    \"edfFile\":edfFiles,\n",
    "    \"extension\":extensions,\n",
    "    \"type\":types\n",
    "})"
   ]
  },
  {
   "cell_type": "code",
   "execution_count": 12,
   "metadata": {},
   "outputs": [
    {
     "data": {
      "text/html": [
       "<div>\n",
       "<style scoped>\n",
       "    .dataframe tbody tr th:only-of-type {\n",
       "        vertical-align: middle;\n",
       "    }\n",
       "\n",
       "    .dataframe tbody tr th {\n",
       "        vertical-align: top;\n",
       "    }\n",
       "\n",
       "    .dataframe thead th {\n",
       "        text-align: right;\n",
       "    }\n",
       "</style>\n",
       "<table border=\"1\" class=\"dataframe\">\n",
       "  <thead>\n",
       "    <tr style=\"text-align: right;\">\n",
       "      <th></th>\n",
       "      <th>subjectId</th>\n",
       "      <th>edfFile</th>\n",
       "      <th>extension</th>\n",
       "      <th>type</th>\n",
       "    </tr>\n",
       "  </thead>\n",
       "  <tbody>\n",
       "    <tr>\n",
       "      <th>0</th>\n",
       "      <td>0001</td>\n",
       "      <td>01-02-0001 PSG.edf</td>\n",
       "      <td>edf</td>\n",
       "      <td>PSG</td>\n",
       "    </tr>\n",
       "    <tr>\n",
       "      <th>1</th>\n",
       "      <td>0002</td>\n",
       "      <td>01-02-0002 PSG.edf</td>\n",
       "      <td>edf</td>\n",
       "      <td>PSG</td>\n",
       "    </tr>\n",
       "    <tr>\n",
       "      <th>2</th>\n",
       "      <td>0003</td>\n",
       "      <td>01-02-0003 PSG.edf</td>\n",
       "      <td>edf</td>\n",
       "      <td>PSG</td>\n",
       "    </tr>\n",
       "    <tr>\n",
       "      <th>3</th>\n",
       "      <td>0004</td>\n",
       "      <td>01-02-0004 PSG.edf</td>\n",
       "      <td>edf</td>\n",
       "      <td>PSG</td>\n",
       "    </tr>\n",
       "    <tr>\n",
       "      <th>4</th>\n",
       "      <td>0005</td>\n",
       "      <td>01-02-0005 PSG.edf</td>\n",
       "      <td>edf</td>\n",
       "      <td>PSG</td>\n",
       "    </tr>\n",
       "    <tr>\n",
       "      <th>5</th>\n",
       "      <td>0006</td>\n",
       "      <td>01-02-0006 PSG.edf</td>\n",
       "      <td>edf</td>\n",
       "      <td>PSG</td>\n",
       "    </tr>\n",
       "    <tr>\n",
       "      <th>6</th>\n",
       "      <td>0007</td>\n",
       "      <td>01-02-0007 PSG.edf</td>\n",
       "      <td>edf</td>\n",
       "      <td>PSG</td>\n",
       "    </tr>\n",
       "    <tr>\n",
       "      <th>7</th>\n",
       "      <td>0008</td>\n",
       "      <td>01-02-0008 PSG.edf</td>\n",
       "      <td>edf</td>\n",
       "      <td>PSG</td>\n",
       "    </tr>\n",
       "    <tr>\n",
       "      <th>8</th>\n",
       "      <td>0009</td>\n",
       "      <td>01-02-0009 PSG.edf</td>\n",
       "      <td>edf</td>\n",
       "      <td>PSG</td>\n",
       "    </tr>\n",
       "    <tr>\n",
       "      <th>9</th>\n",
       "      <td>0010</td>\n",
       "      <td>01-02-0010 PSG.edf</td>\n",
       "      <td>edf</td>\n",
       "      <td>PSG</td>\n",
       "    </tr>\n",
       "    <tr>\n",
       "      <th>10</th>\n",
       "      <td>0011</td>\n",
       "      <td>01-02-0011 PSG.edf</td>\n",
       "      <td>edf</td>\n",
       "      <td>PSG</td>\n",
       "    </tr>\n",
       "    <tr>\n",
       "      <th>11</th>\n",
       "      <td>0012</td>\n",
       "      <td>01-02-0012 PSG.edf</td>\n",
       "      <td>edf</td>\n",
       "      <td>PSG</td>\n",
       "    </tr>\n",
       "    <tr>\n",
       "      <th>12</th>\n",
       "      <td>0013</td>\n",
       "      <td>01-02-0013 PSG.edf</td>\n",
       "      <td>edf</td>\n",
       "      <td>PSG</td>\n",
       "    </tr>\n",
       "    <tr>\n",
       "      <th>13</th>\n",
       "      <td>0014</td>\n",
       "      <td>01-02-0014 PSG.edf</td>\n",
       "      <td>edf</td>\n",
       "      <td>PSG</td>\n",
       "    </tr>\n",
       "    <tr>\n",
       "      <th>14</th>\n",
       "      <td>0015</td>\n",
       "      <td>01-02-0015 PSG.edf</td>\n",
       "      <td>edf</td>\n",
       "      <td>PSG</td>\n",
       "    </tr>\n",
       "    <tr>\n",
       "      <th>15</th>\n",
       "      <td>0016</td>\n",
       "      <td>01-02-0016 PSG.edf</td>\n",
       "      <td>edf</td>\n",
       "      <td>PSG</td>\n",
       "    </tr>\n",
       "    <tr>\n",
       "      <th>16</th>\n",
       "      <td>0017</td>\n",
       "      <td>01-02-0017 PSG.edf</td>\n",
       "      <td>edf</td>\n",
       "      <td>PSG</td>\n",
       "    </tr>\n",
       "    <tr>\n",
       "      <th>17</th>\n",
       "      <td>0018</td>\n",
       "      <td>01-02-0018 PSG.edf</td>\n",
       "      <td>edf</td>\n",
       "      <td>PSG</td>\n",
       "    </tr>\n",
       "    <tr>\n",
       "      <th>18</th>\n",
       "      <td>0019</td>\n",
       "      <td>01-02-0019 PSG.edf</td>\n",
       "      <td>edf</td>\n",
       "      <td>PSG</td>\n",
       "    </tr>\n",
       "  </tbody>\n",
       "</table>\n",
       "</div>"
      ],
      "text/plain": [
       "   subjectId             edfFile extension type\n",
       "0       0001  01-02-0001 PSG.edf       edf  PSG\n",
       "1       0002  01-02-0002 PSG.edf       edf  PSG\n",
       "2       0003  01-02-0003 PSG.edf       edf  PSG\n",
       "3       0004  01-02-0004 PSG.edf       edf  PSG\n",
       "4       0005  01-02-0005 PSG.edf       edf  PSG\n",
       "5       0006  01-02-0006 PSG.edf       edf  PSG\n",
       "6       0007  01-02-0007 PSG.edf       edf  PSG\n",
       "7       0008  01-02-0008 PSG.edf       edf  PSG\n",
       "8       0009  01-02-0009 PSG.edf       edf  PSG\n",
       "9       0010  01-02-0010 PSG.edf       edf  PSG\n",
       "10      0011  01-02-0011 PSG.edf       edf  PSG\n",
       "11      0012  01-02-0012 PSG.edf       edf  PSG\n",
       "12      0013  01-02-0013 PSG.edf       edf  PSG\n",
       "13      0014  01-02-0014 PSG.edf       edf  PSG\n",
       "14      0015  01-02-0015 PSG.edf       edf  PSG\n",
       "15      0016  01-02-0016 PSG.edf       edf  PSG\n",
       "16      0017  01-02-0017 PSG.edf       edf  PSG\n",
       "17      0018  01-02-0018 PSG.edf       edf  PSG\n",
       "18      0019  01-02-0019 PSG.edf       edf  PSG"
      ]
     },
     "execution_count": 12,
     "metadata": {},
     "output_type": "execute_result"
    }
   ],
   "source": [
    "ssMetadata=edfsData[edfsData.type==\"PSG\"].reset_index(drop=True)\n",
    "ssMetadata"
   ]
  },
  {
   "cell_type": "code",
   "execution_count": 13,
   "metadata": {},
   "outputs": [
    {
     "name": "stdout",
     "output_type": "stream",
     "text": [
      "**********************************************\n",
      "0\n",
      "subjectId                  0001\n",
      "edfFile      01-02-0001 PSG.edf\n",
      "extension                   edf\n",
      "type                        PSG\n",
      "Name: 0, dtype: object\n",
      "{'label': 'EEG C3-CLE', 'dimension': 'uV', 'sample_rate': 512.0, 'sample_frequency': 512.0, 'physical_max': 397.0, 'physical_min': -397.0, 'digital_max': 32767, 'digital_min': -32768, 'prefilter': '', 'transducer': ''}\n",
      "**********************************************\n",
      "**********************************************\n",
      "1\n",
      "subjectId                  0002\n",
      "edfFile      01-02-0002 PSG.edf\n",
      "extension                   edf\n",
      "type                        PSG\n",
      "Name: 1, dtype: object\n",
      "{'label': 'EEG C3-CLE', 'dimension': 'uV', 'sample_rate': 512.0, 'sample_frequency': 512.0, 'physical_max': 393.0, 'physical_min': -393.0, 'digital_max': 32767, 'digital_min': -32768, 'prefilter': '', 'transducer': ''}\n",
      "**********************************************\n",
      "**********************************************\n",
      "2\n",
      "subjectId                  0003\n",
      "edfFile      01-02-0003 PSG.edf\n",
      "extension                   edf\n",
      "type                        PSG\n",
      "Name: 2, dtype: object\n",
      "{'label': 'EEG C3-CLE', 'dimension': 'uV', 'sample_rate': 512.0, 'sample_frequency': 512.0, 'physical_max': 277.0, 'physical_min': -277.0, 'digital_max': 32767, 'digital_min': -32768, 'prefilter': '', 'transducer': ''}\n",
      "**********************************************\n",
      "**********************************************\n",
      "3\n",
      "subjectId                  0004\n",
      "edfFile      01-02-0004 PSG.edf\n",
      "extension                   edf\n",
      "type                        PSG\n",
      "Name: 3, dtype: object\n",
      "{'label': 'EEG C3-CLE', 'dimension': 'uV', 'sample_rate': 512.0, 'sample_frequency': 512.0, 'physical_max': 237.0, 'physical_min': -237.0, 'digital_max': 32767, 'digital_min': -32768, 'prefilter': '', 'transducer': ''}\n",
      "**********************************************\n",
      "**********************************************\n",
      "4\n",
      "subjectId                  0005\n",
      "edfFile      01-02-0005 PSG.edf\n",
      "extension                   edf\n",
      "type                        PSG\n",
      "Name: 4, dtype: object\n",
      "{'label': 'EEG C3-CLE', 'dimension': 'uV', 'sample_rate': 512.0, 'sample_frequency': 512.0, 'physical_max': 342.0, 'physical_min': -342.0, 'digital_max': 32767, 'digital_min': -32768, 'prefilter': '', 'transducer': ''}\n",
      "**********************************************\n",
      "**********************************************\n",
      "5\n",
      "subjectId                  0006\n",
      "edfFile      01-02-0006 PSG.edf\n",
      "extension                   edf\n",
      "type                        PSG\n",
      "Name: 5, dtype: object\n",
      "{'label': 'EEG C3-CLE', 'dimension': 'uV', 'sample_rate': 512.0, 'sample_frequency': 512.0, 'physical_max': 347.0, 'physical_min': -347.0, 'digital_max': 32767, 'digital_min': -32768, 'prefilter': '', 'transducer': ''}\n",
      "**********************************************\n",
      "**********************************************\n",
      "6\n",
      "subjectId                  0007\n",
      "edfFile      01-02-0007 PSG.edf\n",
      "extension                   edf\n",
      "type                        PSG\n",
      "Name: 6, dtype: object\n",
      "{'label': 'EEG C3-CLE', 'dimension': 'uV', 'sample_rate': 512.0, 'sample_frequency': 512.0, 'physical_max': 278.0, 'physical_min': -278.0, 'digital_max': 32767, 'digital_min': -32768, 'prefilter': '', 'transducer': ''}\n",
      "**********************************************\n",
      "**********************************************\n",
      "7\n",
      "subjectId                  0008\n",
      "edfFile      01-02-0008 PSG.edf\n",
      "extension                   edf\n",
      "type                        PSG\n",
      "Name: 7, dtype: object\n",
      "{'label': 'EEG C3-CLE', 'dimension': 'uV', 'sample_rate': 512.0, 'sample_frequency': 512.0, 'physical_max': 393.0, 'physical_min': -393.0, 'digital_max': 32767, 'digital_min': -32768, 'prefilter': '', 'transducer': ''}\n",
      "**********************************************\n",
      "**********************************************\n",
      "8\n",
      "subjectId                  0009\n",
      "edfFile      01-02-0009 PSG.edf\n",
      "extension                   edf\n",
      "type                        PSG\n",
      "Name: 8, dtype: object\n",
      "{'label': 'EEG C3-CLE', 'dimension': 'uV', 'sample_rate': 512.0, 'sample_frequency': 512.0, 'physical_max': 367.0, 'physical_min': -367.0, 'digital_max': 32767, 'digital_min': -32768, 'prefilter': '', 'transducer': ''}\n",
      "**********************************************\n",
      "**********************************************\n",
      "9\n",
      "subjectId                  0010\n",
      "edfFile      01-02-0010 PSG.edf\n",
      "extension                   edf\n",
      "type                        PSG\n",
      "Name: 9, dtype: object\n",
      "{'label': 'EEG C3-CLE', 'dimension': 'uV', 'sample_rate': 512.0, 'sample_frequency': 512.0, 'physical_max': 302.0, 'physical_min': -302.0, 'digital_max': 32767, 'digital_min': -32768, 'prefilter': '', 'transducer': ''}\n",
      "**********************************************\n",
      "**********************************************\n",
      "10\n",
      "subjectId                  0011\n",
      "edfFile      01-02-0011 PSG.edf\n",
      "extension                   edf\n",
      "type                        PSG\n",
      "Name: 10, dtype: object\n",
      "{'label': 'EEG C3-CLE', 'dimension': 'uV', 'sample_rate': 512.0, 'sample_frequency': 512.0, 'physical_max': 283.0, 'physical_min': -283.0, 'digital_max': 32767, 'digital_min': -32768, 'prefilter': '', 'transducer': ''}\n",
      "**********************************************\n",
      "**********************************************\n",
      "11\n",
      "subjectId                  0012\n",
      "edfFile      01-02-0012 PSG.edf\n",
      "extension                   edf\n",
      "type                        PSG\n",
      "Name: 11, dtype: object\n",
      "{'label': 'EEG C3-CLE', 'dimension': 'uV', 'sample_rate': 512.0, 'sample_frequency': 512.0, 'physical_max': 312.0, 'physical_min': -312.0, 'digital_max': 32767, 'digital_min': -32768, 'prefilter': '', 'transducer': ''}\n",
      "**********************************************\n",
      "**********************************************\n",
      "12\n",
      "subjectId                  0013\n",
      "edfFile      01-02-0013 PSG.edf\n",
      "extension                   edf\n",
      "type                        PSG\n",
      "Name: 12, dtype: object\n",
      "{'label': 'EEG C3-CLE', 'dimension': 'uV', 'sample_rate': 512.0, 'sample_frequency': 512.0, 'physical_max': 378.0, 'physical_min': -378.0, 'digital_max': 32767, 'digital_min': -32768, 'prefilter': '', 'transducer': ''}\n",
      "**********************************************\n",
      "**********************************************\n",
      "13\n",
      "subjectId                  0014\n",
      "edfFile      01-02-0014 PSG.edf\n",
      "extension                   edf\n",
      "type                        PSG\n",
      "Name: 13, dtype: object\n",
      "{'label': 'EEG C3-CLE', 'dimension': 'uV', 'sample_rate': 512.0, 'sample_frequency': 512.0, 'physical_max': 372.0, 'physical_min': -372.0, 'digital_max': 32767, 'digital_min': -32768, 'prefilter': '', 'transducer': ''}\n",
      "**********************************************\n",
      "**********************************************\n",
      "14\n",
      "subjectId                  0015\n",
      "edfFile      01-02-0015 PSG.edf\n",
      "extension                   edf\n",
      "type                        PSG\n",
      "Name: 14, dtype: object\n",
      "{'label': 'EEG C3-CLE', 'dimension': 'uV', 'sample_rate': 512.0, 'sample_frequency': 512.0, 'physical_max': 390.0, 'physical_min': -390.0, 'digital_max': 32767, 'digital_min': -32768, 'prefilter': '', 'transducer': ''}\n",
      "**********************************************\n",
      "**********************************************\n",
      "15\n",
      "subjectId                  0016\n",
      "edfFile      01-02-0016 PSG.edf\n",
      "extension                   edf\n",
      "type                        PSG\n",
      "Name: 15, dtype: object\n",
      "{'label': 'EEG C3-CLE', 'dimension': 'uV', 'sample_rate': 512.0, 'sample_frequency': 512.0, 'physical_max': 396.0, 'physical_min': -396.0, 'digital_max': 32767, 'digital_min': -32768, 'prefilter': '', 'transducer': ''}\n",
      "**********************************************\n",
      "**********************************************\n",
      "16\n",
      "subjectId                  0017\n",
      "edfFile      01-02-0017 PSG.edf\n",
      "extension                   edf\n",
      "type                        PSG\n",
      "Name: 16, dtype: object\n",
      "{'label': 'EEG C3-CLE', 'dimension': 'uV', 'sample_rate': 512.0, 'sample_frequency': 512.0, 'physical_max': 421.0, 'physical_min': -421.0, 'digital_max': 32767, 'digital_min': -32768, 'prefilter': '', 'transducer': ''}\n",
      "**********************************************\n",
      "**********************************************\n",
      "17\n",
      "subjectId                  0018\n",
      "edfFile      01-02-0018 PSG.edf\n",
      "extension                   edf\n",
      "type                        PSG\n",
      "Name: 17, dtype: object\n",
      "{'label': 'EEG C3-CLE', 'dimension': 'uV', 'sample_rate': 512.0, 'sample_frequency': 512.0, 'physical_max': 374.0, 'physical_min': -374.0, 'digital_max': 32767, 'digital_min': -32768, 'prefilter': '', 'transducer': ''}\n",
      "**********************************************\n",
      "**********************************************\n",
      "18\n",
      "subjectId                  0019\n",
      "edfFile      01-02-0019 PSG.edf\n",
      "extension                   edf\n",
      "type                        PSG\n",
      "Name: 18, dtype: object\n",
      "{'label': 'EEG C3-CLE', 'dimension': 'uV', 'sample_rate': 512.0, 'sample_frequency': 512.0, 'physical_max': 373.0, 'physical_min': -373.0, 'digital_max': 32767, 'digital_min': -32768, 'prefilter': '', 'transducer': ''}\n",
      "**********************************************\n"
     ]
    }
   ],
   "source": [
    "#WARNING: harcoded samplerate --------------------------->\n",
    "hardcodedSamplerate=256\n",
    "#<--------------------------------------------------------\n",
    "\n",
    "ssMetadata=edfsData[edfsData.type==\"PSG\"].reset_index(drop=True)\n",
    "channels=list()\n",
    "durations=list()\n",
    "samplerates=list()\n",
    "aux=list()\n",
    "files=list()\n",
    "for ind, row in ssMetadata.iterrows():\n",
    "    print(\"**********************************************\")\n",
    "    print(ind)\n",
    "    print(row)\n",
    "    fullPath=edfpath+\"/\"+row.edfFile\n",
    "    signals, signal_headers, header = pyedflib.highlevel.read_edf(fullPath)\n",
    "    for (signal,header) in zip(signals,signal_headers):\n",
    "        if \"C3\" in header['label']:\n",
    "            print(header)\n",
    "            \"\"\" samplerates.append(header['sample_rate']) \"\"\"\n",
    "            samplerates.append(hardcodedSamplerate)\n",
    "            aux.append(header['sample_frequency'])\n",
    "            channels=header['label'][4:]\n",
    "            \"\"\" durations.append(len(signal)/header['sample_rate']) \"\"\"\n",
    "            durations.append(len(signal)/hardcodedSamplerate)\n",
    "            #pickle the signal\n",
    "            picklefile=\"MASS_\"+row.subjectId+\".pkl\"\n",
    "            files.append(picklefile)\n",
    "            picklepath=signalspath+\"/\"+picklefile\n",
    "            with open(picklepath, 'wb') as file:\n",
    "                pkl.dump(signal, file)\n",
    "    print(\"**********************************************\")\n",
    "\n",
    "\"\"\" #check\n",
    "sum(np.array(samplerates)==np.array(aux))==len(samplerates) \"\"\"\n",
    "\n",
    "ssMetadata['file']=files\n",
    "ssMetadata['channel']=channels\n",
    "ssMetadata['duration']=durations\n",
    "ssMetadata['samplerate']=samplerates"
   ]
  },
  {
   "cell_type": "code",
   "execution_count": 14,
   "metadata": {},
   "outputs": [
    {
     "data": {
      "text/html": [
       "<div>\n",
       "<style scoped>\n",
       "    .dataframe tbody tr th:only-of-type {\n",
       "        vertical-align: middle;\n",
       "    }\n",
       "\n",
       "    .dataframe tbody tr th {\n",
       "        vertical-align: top;\n",
       "    }\n",
       "\n",
       "    .dataframe thead th {\n",
       "        text-align: right;\n",
       "    }\n",
       "</style>\n",
       "<table border=\"1\" class=\"dataframe\">\n",
       "  <thead>\n",
       "    <tr style=\"text-align: right;\">\n",
       "      <th></th>\n",
       "      <th>subjectId</th>\n",
       "      <th>edfFile</th>\n",
       "      <th>extension</th>\n",
       "      <th>type</th>\n",
       "      <th>file</th>\n",
       "      <th>channel</th>\n",
       "      <th>duration</th>\n",
       "      <th>samplerate</th>\n",
       "    </tr>\n",
       "  </thead>\n",
       "  <tbody>\n",
       "    <tr>\n",
       "      <th>0</th>\n",
       "      <td>0001</td>\n",
       "      <td>01-02-0001 PSG.edf</td>\n",
       "      <td>edf</td>\n",
       "      <td>PSG</td>\n",
       "      <td>MASS_0001.pkl</td>\n",
       "      <td>C3-CLE</td>\n",
       "      <td>28956.0</td>\n",
       "      <td>256</td>\n",
       "    </tr>\n",
       "    <tr>\n",
       "      <th>1</th>\n",
       "      <td>0002</td>\n",
       "      <td>01-02-0002 PSG.edf</td>\n",
       "      <td>edf</td>\n",
       "      <td>PSG</td>\n",
       "      <td>MASS_0002.pkl</td>\n",
       "      <td>C3-CLE</td>\n",
       "      <td>35016.0</td>\n",
       "      <td>256</td>\n",
       "    </tr>\n",
       "    <tr>\n",
       "      <th>2</th>\n",
       "      <td>0003</td>\n",
       "      <td>01-02-0003 PSG.edf</td>\n",
       "      <td>edf</td>\n",
       "      <td>PSG</td>\n",
       "      <td>MASS_0003.pkl</td>\n",
       "      <td>C3-CLE</td>\n",
       "      <td>36760.0</td>\n",
       "      <td>256</td>\n",
       "    </tr>\n",
       "    <tr>\n",
       "      <th>3</th>\n",
       "      <td>0004</td>\n",
       "      <td>01-02-0004 PSG.edf</td>\n",
       "      <td>edf</td>\n",
       "      <td>PSG</td>\n",
       "      <td>MASS_0004.pkl</td>\n",
       "      <td>C3-CLE</td>\n",
       "      <td>28004.0</td>\n",
       "      <td>256</td>\n",
       "    </tr>\n",
       "    <tr>\n",
       "      <th>4</th>\n",
       "      <td>0005</td>\n",
       "      <td>01-02-0005 PSG.edf</td>\n",
       "      <td>edf</td>\n",
       "      <td>PSG</td>\n",
       "      <td>MASS_0005.pkl</td>\n",
       "      <td>C3-CLE</td>\n",
       "      <td>31244.0</td>\n",
       "      <td>256</td>\n",
       "    </tr>\n",
       "    <tr>\n",
       "      <th>5</th>\n",
       "      <td>0006</td>\n",
       "      <td>01-02-0006 PSG.edf</td>\n",
       "      <td>edf</td>\n",
       "      <td>PSG</td>\n",
       "      <td>MASS_0006.pkl</td>\n",
       "      <td>C3-CLE</td>\n",
       "      <td>28990.0</td>\n",
       "      <td>256</td>\n",
       "    </tr>\n",
       "    <tr>\n",
       "      <th>6</th>\n",
       "      <td>0007</td>\n",
       "      <td>01-02-0007 PSG.edf</td>\n",
       "      <td>edf</td>\n",
       "      <td>PSG</td>\n",
       "      <td>MASS_0007.pkl</td>\n",
       "      <td>C3-CLE</td>\n",
       "      <td>28302.0</td>\n",
       "      <td>256</td>\n",
       "    </tr>\n",
       "    <tr>\n",
       "      <th>7</th>\n",
       "      <td>0008</td>\n",
       "      <td>01-02-0008 PSG.edf</td>\n",
       "      <td>edf</td>\n",
       "      <td>PSG</td>\n",
       "      <td>MASS_0008.pkl</td>\n",
       "      <td>C3-CLE</td>\n",
       "      <td>26846.0</td>\n",
       "      <td>256</td>\n",
       "    </tr>\n",
       "    <tr>\n",
       "      <th>8</th>\n",
       "      <td>0009</td>\n",
       "      <td>01-02-0009 PSG.edf</td>\n",
       "      <td>edf</td>\n",
       "      <td>PSG</td>\n",
       "      <td>MASS_0009.pkl</td>\n",
       "      <td>C3-CLE</td>\n",
       "      <td>29834.0</td>\n",
       "      <td>256</td>\n",
       "    </tr>\n",
       "    <tr>\n",
       "      <th>9</th>\n",
       "      <td>0010</td>\n",
       "      <td>01-02-0010 PSG.edf</td>\n",
       "      <td>edf</td>\n",
       "      <td>PSG</td>\n",
       "      <td>MASS_0010.pkl</td>\n",
       "      <td>C3-CLE</td>\n",
       "      <td>25930.0</td>\n",
       "      <td>256</td>\n",
       "    </tr>\n",
       "    <tr>\n",
       "      <th>10</th>\n",
       "      <td>0011</td>\n",
       "      <td>01-02-0011 PSG.edf</td>\n",
       "      <td>edf</td>\n",
       "      <td>PSG</td>\n",
       "      <td>MASS_0011.pkl</td>\n",
       "      <td>C3-CLE</td>\n",
       "      <td>25434.0</td>\n",
       "      <td>256</td>\n",
       "    </tr>\n",
       "    <tr>\n",
       "      <th>11</th>\n",
       "      <td>0012</td>\n",
       "      <td>01-02-0012 PSG.edf</td>\n",
       "      <td>edf</td>\n",
       "      <td>PSG</td>\n",
       "      <td>MASS_0012.pkl</td>\n",
       "      <td>C3-CLE</td>\n",
       "      <td>31530.0</td>\n",
       "      <td>256</td>\n",
       "    </tr>\n",
       "    <tr>\n",
       "      <th>12</th>\n",
       "      <td>0013</td>\n",
       "      <td>01-02-0013 PSG.edf</td>\n",
       "      <td>edf</td>\n",
       "      <td>PSG</td>\n",
       "      <td>MASS_0013.pkl</td>\n",
       "      <td>C3-CLE</td>\n",
       "      <td>36372.0</td>\n",
       "      <td>256</td>\n",
       "    </tr>\n",
       "    <tr>\n",
       "      <th>13</th>\n",
       "      <td>0014</td>\n",
       "      <td>01-02-0014 PSG.edf</td>\n",
       "      <td>edf</td>\n",
       "      <td>PSG</td>\n",
       "      <td>MASS_0014.pkl</td>\n",
       "      <td>C3-CLE</td>\n",
       "      <td>28176.0</td>\n",
       "      <td>256</td>\n",
       "    </tr>\n",
       "    <tr>\n",
       "      <th>14</th>\n",
       "      <td>0015</td>\n",
       "      <td>01-02-0015 PSG.edf</td>\n",
       "      <td>edf</td>\n",
       "      <td>PSG</td>\n",
       "      <td>MASS_0015.pkl</td>\n",
       "      <td>C3-CLE</td>\n",
       "      <td>29114.0</td>\n",
       "      <td>256</td>\n",
       "    </tr>\n",
       "    <tr>\n",
       "      <th>15</th>\n",
       "      <td>0016</td>\n",
       "      <td>01-02-0016 PSG.edf</td>\n",
       "      <td>edf</td>\n",
       "      <td>PSG</td>\n",
       "      <td>MASS_0016.pkl</td>\n",
       "      <td>C3-CLE</td>\n",
       "      <td>28340.0</td>\n",
       "      <td>256</td>\n",
       "    </tr>\n",
       "    <tr>\n",
       "      <th>16</th>\n",
       "      <td>0017</td>\n",
       "      <td>01-02-0017 PSG.edf</td>\n",
       "      <td>edf</td>\n",
       "      <td>PSG</td>\n",
       "      <td>MASS_0017.pkl</td>\n",
       "      <td>C3-CLE</td>\n",
       "      <td>28342.0</td>\n",
       "      <td>256</td>\n",
       "    </tr>\n",
       "    <tr>\n",
       "      <th>17</th>\n",
       "      <td>0018</td>\n",
       "      <td>01-02-0018 PSG.edf</td>\n",
       "      <td>edf</td>\n",
       "      <td>PSG</td>\n",
       "      <td>MASS_0018.pkl</td>\n",
       "      <td>C3-CLE</td>\n",
       "      <td>29554.0</td>\n",
       "      <td>256</td>\n",
       "    </tr>\n",
       "    <tr>\n",
       "      <th>18</th>\n",
       "      <td>0019</td>\n",
       "      <td>01-02-0019 PSG.edf</td>\n",
       "      <td>edf</td>\n",
       "      <td>PSG</td>\n",
       "      <td>MASS_0019.pkl</td>\n",
       "      <td>C3-CLE</td>\n",
       "      <td>26392.0</td>\n",
       "      <td>256</td>\n",
       "    </tr>\n",
       "  </tbody>\n",
       "</table>\n",
       "</div>"
      ],
      "text/plain": [
       "   subjectId             edfFile extension type           file channel  \\\n",
       "0       0001  01-02-0001 PSG.edf       edf  PSG  MASS_0001.pkl  C3-CLE   \n",
       "1       0002  01-02-0002 PSG.edf       edf  PSG  MASS_0002.pkl  C3-CLE   \n",
       "2       0003  01-02-0003 PSG.edf       edf  PSG  MASS_0003.pkl  C3-CLE   \n",
       "3       0004  01-02-0004 PSG.edf       edf  PSG  MASS_0004.pkl  C3-CLE   \n",
       "4       0005  01-02-0005 PSG.edf       edf  PSG  MASS_0005.pkl  C3-CLE   \n",
       "5       0006  01-02-0006 PSG.edf       edf  PSG  MASS_0006.pkl  C3-CLE   \n",
       "6       0007  01-02-0007 PSG.edf       edf  PSG  MASS_0007.pkl  C3-CLE   \n",
       "7       0008  01-02-0008 PSG.edf       edf  PSG  MASS_0008.pkl  C3-CLE   \n",
       "8       0009  01-02-0009 PSG.edf       edf  PSG  MASS_0009.pkl  C3-CLE   \n",
       "9       0010  01-02-0010 PSG.edf       edf  PSG  MASS_0010.pkl  C3-CLE   \n",
       "10      0011  01-02-0011 PSG.edf       edf  PSG  MASS_0011.pkl  C3-CLE   \n",
       "11      0012  01-02-0012 PSG.edf       edf  PSG  MASS_0012.pkl  C3-CLE   \n",
       "12      0013  01-02-0013 PSG.edf       edf  PSG  MASS_0013.pkl  C3-CLE   \n",
       "13      0014  01-02-0014 PSG.edf       edf  PSG  MASS_0014.pkl  C3-CLE   \n",
       "14      0015  01-02-0015 PSG.edf       edf  PSG  MASS_0015.pkl  C3-CLE   \n",
       "15      0016  01-02-0016 PSG.edf       edf  PSG  MASS_0016.pkl  C3-CLE   \n",
       "16      0017  01-02-0017 PSG.edf       edf  PSG  MASS_0017.pkl  C3-CLE   \n",
       "17      0018  01-02-0018 PSG.edf       edf  PSG  MASS_0018.pkl  C3-CLE   \n",
       "18      0019  01-02-0019 PSG.edf       edf  PSG  MASS_0019.pkl  C3-CLE   \n",
       "\n",
       "    duration  samplerate  \n",
       "0    28956.0         256  \n",
       "1    35016.0         256  \n",
       "2    36760.0         256  \n",
       "3    28004.0         256  \n",
       "4    31244.0         256  \n",
       "5    28990.0         256  \n",
       "6    28302.0         256  \n",
       "7    26846.0         256  \n",
       "8    29834.0         256  \n",
       "9    25930.0         256  \n",
       "10   25434.0         256  \n",
       "11   31530.0         256  \n",
       "12   36372.0         256  \n",
       "13   28176.0         256  \n",
       "14   29114.0         256  \n",
       "15   28340.0         256  \n",
       "16   28342.0         256  \n",
       "17   29554.0         256  \n",
       "18   26392.0         256  "
      ]
     },
     "execution_count": 14,
     "metadata": {},
     "output_type": "execute_result"
    }
   ],
   "source": [
    "ssMetadata"
   ]
  },
  {
   "cell_type": "code",
   "execution_count": 15,
   "metadata": {},
   "outputs": [
    {
     "data": {
      "image/png": "[encoded data removed]",
      "text/plain": [
       "<Figure size 640x480 with 1 Axes>"
      ]
     },
     "metadata": {},
     "output_type": "display_data"
    }
   ],
   "source": [
    "leg=list()\n",
    "for ind, row in ssMetadata.iterrows():\n",
    "    path=signalspath+\"/\"+row.file\n",
    "    cFile = open(path, 'rb')\n",
    "    signal = pkl.load(cFile)\n",
    "    cFile.close()\n",
    "    leg.append(row.subjectId)\n",
    "    plt.plot(signal)\n",
    "plt.legend(leg,loc='upper right')\n",
    "plt.show()"
   ]
  },
  {
   "cell_type": "code",
   "execution_count": 16,
   "metadata": {},
   "outputs": [],
   "source": [
    "ssMetadata[[\"subjectId\",\"file\",\"channel\",\"duration\",\"samplerate\"]].to_csv(signalspath+\"/signalsMetadata.csv\",index=False)"
   ]
  },
  {
   "cell_type": "code",
   "execution_count": null,
   "metadata": {},
   "outputs": [],
   "source": []
  }
 ],
 "metadata": {
  "kernelspec": {
   "display_name": "Python 3.10.6 ('venv': venv)",
   "language": "python",
   "name": "python3"
  },
  "language_info": {
   "codemirror_mode": {
    "name": "ipython",
    "version": 3
   },
   "file_extension": ".py",
   "mimetype": "text/x-python",
   "name": "python",
   "nbconvert_exporter": "python",
   "pygments_lexer": "ipython3",
   "version": "3.10.6"
  },
  "orig_nbformat": 4,
  "vscode": {
   "interpreter": {
    "hash": "69eb08d3e713eff25484e90b18c01e15df779e80a0db295f9ddc53faed0455be"
   }
  }
 },
 "nbformat": 4,
 "nbformat_minor": 2
}
