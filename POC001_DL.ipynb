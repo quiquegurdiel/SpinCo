{
 "cells": [
  {
   "cell_type": "code",
   "execution_count": 152,
   "metadata": {},
   "outputs": [],
   "source": [
    "#external libraries\n",
    "import numpy as np\n",
    "import os\n",
    "import matplotlib.pyplot as plt\n",
    "import matplotlib.colors as clt\n",
    "import plotly\n",
    "import plotly.subplots as sb\n",
    "import plotly.express as px\n",
    "import plotly.graph_objects as go\n",
    "import dotenv\n",
    "import pandas as pd\n",
    "import scipy.fft as fft\n",
    "import scipy.signal as sg\n",
    "import scipy.io as sio\n",
    "import pickle as pkl\n",
    "import xgboost as xgb\n",
    "import time\n",
    "import uuid\n",
    "\n",
    "#project library\n",
    "from spinco import *\n",
    "\n",
    "#environment variables\n",
    "dotenv.load_dotenv('lab.env')\n",
    "\n",
    "#project variables\n",
    "datapath=os.environ['DATAPATH']\n",
    "cognipath=datapath+\"/COGNITION\"\n",
    "dreamspath=datapath+\"/DREAMS\"\n",
    "masspath=datapath+\"/MASS\"\n"
   ]
  },
  {
   "cell_type": "markdown",
   "metadata": {},
   "source": [
    "## define a fixed samplerate"
   ]
  },
  {
   "cell_type": "code",
   "execution_count": 153,
   "metadata": {},
   "outputs": [],
   "source": [
    "samplerate=200"
   ]
  },
  {
   "cell_type": "markdown",
   "metadata": {},
   "source": [
    "## load mass"
   ]
  },
  {
   "cell_type": "code",
   "execution_count": 154,
   "metadata": {},
   "outputs": [],
   "source": [
    "#annotations, signalsMetadata = loadMASSSpindles(masspath,forceSamplerate=samplerate,onlySpindlesFilteredN2=True)\n",
    "annotations, signalsMetadata = loadMASSSpindles(masspath,forceSamplerate=samplerate)"
   ]
  },
  {
   "cell_type": "code",
   "execution_count": 155,
   "metadata": {},
   "outputs": [
    {
     "data": {
      "text/plain": [
       "33458"
      ]
     },
     "execution_count": 155,
     "metadata": {},
     "output_type": "execute_result"
    }
   ],
   "source": [
    "annotations=annotations[annotations.type=='spindle'].reset_index(drop=True)\n",
    "len(annotations)"
   ]
  },
  {
   "cell_type": "code",
   "execution_count": 156,
   "metadata": {},
   "outputs": [
    {
     "data": {
      "text/plain": [
       "33269"
      ]
     },
     "execution_count": 156,
     "metadata": {},
     "output_type": "execute_result"
    }
   ],
   "source": [
    "minDuration=0.3\n",
    "maxDuration=5\n",
    "annotations=annotations[annotations.duration>minDuration].reset_index(drop=True)\n",
    "annotations=annotations[annotations.duration<maxDuration].reset_index(drop=True)\n",
    "len(annotations)"
   ]
  },
  {
   "cell_type": "code",
   "execution_count": 157,
   "metadata": {},
   "outputs": [
    {
     "data": {
      "text/html": [
       "<div>\n",
       "<style scoped>\n",
       "    .dataframe tbody tr th:only-of-type {\n",
       "        vertical-align: middle;\n",
       "    }\n",
       "\n",
       "    .dataframe tbody tr th {\n",
       "        vertical-align: top;\n",
       "    }\n",
       "\n",
       "    .dataframe thead th {\n",
       "        text-align: right;\n",
       "    }\n",
       "</style>\n",
       "<table border=\"1\" class=\"dataframe\">\n",
       "  <thead>\n",
       "    <tr style=\"text-align: right;\">\n",
       "      <th></th>\n",
       "      <th>type</th>\n",
       "      <th>expert</th>\n",
       "      <th>subjectId</th>\n",
       "      <th>labelerId</th>\n",
       "      <th>startTime</th>\n",
       "      <th>duration</th>\n",
       "      <th>samplerate</th>\n",
       "      <th>stopTime</th>\n",
       "      <th>startInd</th>\n",
       "      <th>stopInd</th>\n",
       "    </tr>\n",
       "  </thead>\n",
       "  <tbody>\n",
       "    <tr>\n",
       "      <th>0</th>\n",
       "      <td>spindle</td>\n",
       "      <td>E1</td>\n",
       "      <td>0001</td>\n",
       "      <td>0001</td>\n",
       "      <td>888.327805</td>\n",
       "      <td>0.640579</td>\n",
       "      <td>200</td>\n",
       "      <td>888.968384</td>\n",
       "      <td>177666</td>\n",
       "      <td>177794</td>\n",
       "    </tr>\n",
       "    <tr>\n",
       "      <th>1</th>\n",
       "      <td>spindle</td>\n",
       "      <td>E1</td>\n",
       "      <td>0001</td>\n",
       "      <td>0001</td>\n",
       "      <td>905.758061</td>\n",
       "      <td>0.578094</td>\n",
       "      <td>200</td>\n",
       "      <td>906.336155</td>\n",
       "      <td>181152</td>\n",
       "      <td>181267</td>\n",
       "    </tr>\n",
       "    <tr>\n",
       "      <th>2</th>\n",
       "      <td>spindle</td>\n",
       "      <td>E1</td>\n",
       "      <td>0001</td>\n",
       "      <td>0001</td>\n",
       "      <td>917.731574</td>\n",
       "      <td>0.847603</td>\n",
       "      <td>200</td>\n",
       "      <td>918.579177</td>\n",
       "      <td>183546</td>\n",
       "      <td>183716</td>\n",
       "    </tr>\n",
       "    <tr>\n",
       "      <th>3</th>\n",
       "      <td>spindle</td>\n",
       "      <td>E1</td>\n",
       "      <td>0001</td>\n",
       "      <td>0001</td>\n",
       "      <td>922.078189</td>\n",
       "      <td>0.878845</td>\n",
       "      <td>200</td>\n",
       "      <td>922.957034</td>\n",
       "      <td>184416</td>\n",
       "      <td>184591</td>\n",
       "    </tr>\n",
       "    <tr>\n",
       "      <th>4</th>\n",
       "      <td>spindle</td>\n",
       "      <td>E1</td>\n",
       "      <td>0001</td>\n",
       "      <td>0001</td>\n",
       "      <td>939.055445</td>\n",
       "      <td>0.757767</td>\n",
       "      <td>200</td>\n",
       "      <td>939.813212</td>\n",
       "      <td>187811</td>\n",
       "      <td>187963</td>\n",
       "    </tr>\n",
       "  </tbody>\n",
       "</table>\n",
       "</div>"
      ],
      "text/plain": [
       "      type expert subjectId labelerId   startTime  duration  samplerate  \\\n",
       "0  spindle     E1      0001      0001  888.327805  0.640579         200   \n",
       "1  spindle     E1      0001      0001  905.758061  0.578094         200   \n",
       "2  spindle     E1      0001      0001  917.731574  0.847603         200   \n",
       "3  spindle     E1      0001      0001  922.078189  0.878845         200   \n",
       "4  spindle     E1      0001      0001  939.055445  0.757767         200   \n",
       "\n",
       "     stopTime  startInd  stopInd  \n",
       "0  888.968384    177666   177794  \n",
       "1  906.336155    181152   181267  \n",
       "2  918.579177    183546   183716  \n",
       "3  922.957034    184416   184591  \n",
       "4  939.813212    187811   187963  "
      ]
     },
     "execution_count": 157,
     "metadata": {},
     "output_type": "execute_result"
    }
   ],
   "source": [
    "annotations.head()"
   ]
  },
  {
   "cell_type": "code",
   "execution_count": 158,
   "metadata": {},
   "outputs": [
    {
     "data": {
      "text/html": [
       "<div>\n",
       "<style scoped>\n",
       "    .dataframe tbody tr th:only-of-type {\n",
       "        vertical-align: middle;\n",
       "    }\n",
       "\n",
       "    .dataframe tbody tr th {\n",
       "        vertical-align: top;\n",
       "    }\n",
       "\n",
       "    .dataframe thead th {\n",
       "        text-align: right;\n",
       "    }\n",
       "</style>\n",
       "<table border=\"1\" class=\"dataframe\">\n",
       "  <thead>\n",
       "    <tr style=\"text-align: right;\">\n",
       "      <th></th>\n",
       "      <th>subjectId</th>\n",
       "      <th>file</th>\n",
       "      <th>channel</th>\n",
       "      <th>duration</th>\n",
       "      <th>samplerate</th>\n",
       "      <th>isOriginalSamplerate</th>\n",
       "      <th>database</th>\n",
       "    </tr>\n",
       "  </thead>\n",
       "  <tbody>\n",
       "    <tr>\n",
       "      <th>0</th>\n",
       "      <td>0001</td>\n",
       "      <td>MASS_0001.pkl</td>\n",
       "      <td>C3-CLE</td>\n",
       "      <td>28956.0</td>\n",
       "      <td>200</td>\n",
       "      <td>False</td>\n",
       "      <td>MASS</td>\n",
       "    </tr>\n",
       "    <tr>\n",
       "      <th>1</th>\n",
       "      <td>0002</td>\n",
       "      <td>MASS_0002.pkl</td>\n",
       "      <td>C3-CLE</td>\n",
       "      <td>35016.0</td>\n",
       "      <td>200</td>\n",
       "      <td>False</td>\n",
       "      <td>MASS</td>\n",
       "    </tr>\n",
       "    <tr>\n",
       "      <th>2</th>\n",
       "      <td>0003</td>\n",
       "      <td>MASS_0003.pkl</td>\n",
       "      <td>C3-CLE</td>\n",
       "      <td>36760.0</td>\n",
       "      <td>200</td>\n",
       "      <td>False</td>\n",
       "      <td>MASS</td>\n",
       "    </tr>\n",
       "    <tr>\n",
       "      <th>3</th>\n",
       "      <td>0004</td>\n",
       "      <td>MASS_0004.pkl</td>\n",
       "      <td>C3-CLE</td>\n",
       "      <td>28004.0</td>\n",
       "      <td>200</td>\n",
       "      <td>False</td>\n",
       "      <td>MASS</td>\n",
       "    </tr>\n",
       "    <tr>\n",
       "      <th>4</th>\n",
       "      <td>0005</td>\n",
       "      <td>MASS_0005.pkl</td>\n",
       "      <td>C3-CLE</td>\n",
       "      <td>31244.0</td>\n",
       "      <td>200</td>\n",
       "      <td>False</td>\n",
       "      <td>MASS</td>\n",
       "    </tr>\n",
       "    <tr>\n",
       "      <th>5</th>\n",
       "      <td>0006</td>\n",
       "      <td>MASS_0006.pkl</td>\n",
       "      <td>C3-CLE</td>\n",
       "      <td>28990.0</td>\n",
       "      <td>200</td>\n",
       "      <td>False</td>\n",
       "      <td>MASS</td>\n",
       "    </tr>\n",
       "    <tr>\n",
       "      <th>6</th>\n",
       "      <td>0007</td>\n",
       "      <td>MASS_0007.pkl</td>\n",
       "      <td>C3-CLE</td>\n",
       "      <td>28302.0</td>\n",
       "      <td>200</td>\n",
       "      <td>False</td>\n",
       "      <td>MASS</td>\n",
       "    </tr>\n",
       "    <tr>\n",
       "      <th>7</th>\n",
       "      <td>0008</td>\n",
       "      <td>MASS_0008.pkl</td>\n",
       "      <td>C3-CLE</td>\n",
       "      <td>26846.0</td>\n",
       "      <td>200</td>\n",
       "      <td>False</td>\n",
       "      <td>MASS</td>\n",
       "    </tr>\n",
       "    <tr>\n",
       "      <th>8</th>\n",
       "      <td>0009</td>\n",
       "      <td>MASS_0009.pkl</td>\n",
       "      <td>C3-CLE</td>\n",
       "      <td>29834.0</td>\n",
       "      <td>200</td>\n",
       "      <td>False</td>\n",
       "      <td>MASS</td>\n",
       "    </tr>\n",
       "    <tr>\n",
       "      <th>9</th>\n",
       "      <td>0010</td>\n",
       "      <td>MASS_0010.pkl</td>\n",
       "      <td>C3-CLE</td>\n",
       "      <td>25930.0</td>\n",
       "      <td>200</td>\n",
       "      <td>False</td>\n",
       "      <td>MASS</td>\n",
       "    </tr>\n",
       "    <tr>\n",
       "      <th>10</th>\n",
       "      <td>0011</td>\n",
       "      <td>MASS_0011.pkl</td>\n",
       "      <td>C3-CLE</td>\n",
       "      <td>25434.0</td>\n",
       "      <td>200</td>\n",
       "      <td>False</td>\n",
       "      <td>MASS</td>\n",
       "    </tr>\n",
       "    <tr>\n",
       "      <th>11</th>\n",
       "      <td>0012</td>\n",
       "      <td>MASS_0012.pkl</td>\n",
       "      <td>C3-CLE</td>\n",
       "      <td>31530.0</td>\n",
       "      <td>200</td>\n",
       "      <td>False</td>\n",
       "      <td>MASS</td>\n",
       "    </tr>\n",
       "    <tr>\n",
       "      <th>12</th>\n",
       "      <td>0013</td>\n",
       "      <td>MASS_0013.pkl</td>\n",
       "      <td>C3-CLE</td>\n",
       "      <td>36372.0</td>\n",
       "      <td>200</td>\n",
       "      <td>False</td>\n",
       "      <td>MASS</td>\n",
       "    </tr>\n",
       "    <tr>\n",
       "      <th>13</th>\n",
       "      <td>0014</td>\n",
       "      <td>MASS_0014.pkl</td>\n",
       "      <td>C3-CLE</td>\n",
       "      <td>28176.0</td>\n",
       "      <td>200</td>\n",
       "      <td>False</td>\n",
       "      <td>MASS</td>\n",
       "    </tr>\n",
       "    <tr>\n",
       "      <th>14</th>\n",
       "      <td>0015</td>\n",
       "      <td>MASS_0015.pkl</td>\n",
       "      <td>C3-CLE</td>\n",
       "      <td>29114.0</td>\n",
       "      <td>200</td>\n",
       "      <td>False</td>\n",
       "      <td>MASS</td>\n",
       "    </tr>\n",
       "    <tr>\n",
       "      <th>15</th>\n",
       "      <td>0016</td>\n",
       "      <td>MASS_0016.pkl</td>\n",
       "      <td>C3-CLE</td>\n",
       "      <td>28340.0</td>\n",
       "      <td>200</td>\n",
       "      <td>False</td>\n",
       "      <td>MASS</td>\n",
       "    </tr>\n",
       "    <tr>\n",
       "      <th>16</th>\n",
       "      <td>0017</td>\n",
       "      <td>MASS_0017.pkl</td>\n",
       "      <td>C3-CLE</td>\n",
       "      <td>28342.0</td>\n",
       "      <td>200</td>\n",
       "      <td>False</td>\n",
       "      <td>MASS</td>\n",
       "    </tr>\n",
       "    <tr>\n",
       "      <th>17</th>\n",
       "      <td>0018</td>\n",
       "      <td>MASS_0018.pkl</td>\n",
       "      <td>C3-CLE</td>\n",
       "      <td>29554.0</td>\n",
       "      <td>200</td>\n",
       "      <td>False</td>\n",
       "      <td>MASS</td>\n",
       "    </tr>\n",
       "    <tr>\n",
       "      <th>18</th>\n",
       "      <td>0019</td>\n",
       "      <td>MASS_0019.pkl</td>\n",
       "      <td>C3-CLE</td>\n",
       "      <td>26392.0</td>\n",
       "      <td>200</td>\n",
       "      <td>False</td>\n",
       "      <td>MASS</td>\n",
       "    </tr>\n",
       "  </tbody>\n",
       "</table>\n",
       "</div>"
      ],
      "text/plain": [
       "   subjectId           file channel  duration  samplerate  \\\n",
       "0       0001  MASS_0001.pkl  C3-CLE   28956.0         200   \n",
       "1       0002  MASS_0002.pkl  C3-CLE   35016.0         200   \n",
       "2       0003  MASS_0003.pkl  C3-CLE   36760.0         200   \n",
       "3       0004  MASS_0004.pkl  C3-CLE   28004.0         200   \n",
       "4       0005  MASS_0005.pkl  C3-CLE   31244.0         200   \n",
       "5       0006  MASS_0006.pkl  C3-CLE   28990.0         200   \n",
       "6       0007  MASS_0007.pkl  C3-CLE   28302.0         200   \n",
       "7       0008  MASS_0008.pkl  C3-CLE   26846.0         200   \n",
       "8       0009  MASS_0009.pkl  C3-CLE   29834.0         200   \n",
       "9       0010  MASS_0010.pkl  C3-CLE   25930.0         200   \n",
       "10      0011  MASS_0011.pkl  C3-CLE   25434.0         200   \n",
       "11      0012  MASS_0012.pkl  C3-CLE   31530.0         200   \n",
       "12      0013  MASS_0013.pkl  C3-CLE   36372.0         200   \n",
       "13      0014  MASS_0014.pkl  C3-CLE   28176.0         200   \n",
       "14      0015  MASS_0015.pkl  C3-CLE   29114.0         200   \n",
       "15      0016  MASS_0016.pkl  C3-CLE   28340.0         200   \n",
       "16      0017  MASS_0017.pkl  C3-CLE   28342.0         200   \n",
       "17      0018  MASS_0018.pkl  C3-CLE   29554.0         200   \n",
       "18      0019  MASS_0019.pkl  C3-CLE   26392.0         200   \n",
       "\n",
       "    isOriginalSamplerate database  \n",
       "0                  False     MASS  \n",
       "1                  False     MASS  \n",
       "2                  False     MASS  \n",
       "3                  False     MASS  \n",
       "4                  False     MASS  \n",
       "5                  False     MASS  \n",
       "6                  False     MASS  \n",
       "7                  False     MASS  \n",
       "8                  False     MASS  \n",
       "9                  False     MASS  \n",
       "10                 False     MASS  \n",
       "11                 False     MASS  \n",
       "12                 False     MASS  \n",
       "13                 False     MASS  \n",
       "14                 False     MASS  \n",
       "15                 False     MASS  \n",
       "16                 False     MASS  \n",
       "17                 False     MASS  \n",
       "18                 False     MASS  "
      ]
     },
     "execution_count": 158,
     "metadata": {},
     "output_type": "execute_result"
    }
   ],
   "source": [
    "signalsMetadata"
   ]
  },
  {
   "cell_type": "code",
   "execution_count": 159,
   "metadata": {},
   "outputs": [],
   "source": [
    "signals,_,_= loadMASSSpindles(masspath,returnSignals=True)"
   ]
  },
  {
   "cell_type": "code",
   "execution_count": 160,
   "metadata": {},
   "outputs": [
    {
     "name": "stdout",
     "output_type": "stream",
     "text": [
      "200.0\n"
     ]
    }
   ],
   "source": [
    "print(256*25/32)   #<- TBD: make this automatic\n",
    "# WARNING: parameters hardcoded ----------------------->\n",
    "myUp=25\n",
    "myDown=32\n",
    "#<------------------------------------------------------"
   ]
  },
  {
   "cell_type": "code",
   "execution_count": 161,
   "metadata": {},
   "outputs": [],
   "source": [
    "#1. resample\n",
    "for ind, row in signalsMetadata.iterrows():\n",
    "    signals[row.subjectId]=sg.resample_poly(signals[row.subjectId],up=myUp,down=myDown)\n",
    "\n",
    "#2. update metadata\n",
    "signalsMetadata[\"samplerate\"]=samplerate\n",
    "signalsMetadata[\"duration\"]=signalsMetadata.apply(\n",
    "    lambda row: len(signals[row.subjectId])/row.samplerate,\n",
    "    axis=1) #it should be the exact same duration\n",
    "\n",
    "#3. update annotations\n",
    "annotations['samplerate']=samplerate\n",
    "annotations['startInd']=annotations.apply(\n",
    "    lambda row: seconds2index(row.startTime,row.samplerate),\n",
    "    axis=1)\n",
    "annotations['stopInd']=annotations.apply(\n",
    "    lambda row: seconds2index(row.stopTime,row.samplerate),\n",
    "    axis=1)"
   ]
  },
  {
   "cell_type": "markdown",
   "metadata": {},
   "source": [
    "## Preprocess"
   ]
  },
  {
   "cell_type": "markdown",
   "metadata": {},
   "source": [
    "broadband in 0-40Hz, previous experiments (up tp 50Hz, are now in folders as .../features_old/...)"
   ]
  },
  {
   "cell_type": "code",
   "execution_count": 162,
   "metadata": {},
   "outputs": [],
   "source": [
    "def preprocessVector(vector,samplerate):\n",
    "    #1. Lowpass 40Hz\n",
    "    vector=filterBand(vector,[0,40],samplerate,filterOrder=4)\n",
    "    #2. Z-score\n",
    "    m=np.mean(vector)\n",
    "    s=np.std(vector)\n",
    "    vector=(vector-m)/s\n",
    "    return vector"
   ]
  },
  {
   "cell_type": "code",
   "execution_count": 163,
   "metadata": {},
   "outputs": [],
   "source": [
    "for subject,signal in signals.items():\n",
    "    signals[subject]=preprocessVector(signal,samplerate)"
   ]
  },
  {
   "cell_type": "markdown",
   "metadata": {},
   "source": [
    "prepare extended dataframe of all possible training examples"
   ]
  },
  {
   "cell_type": "code",
   "execution_count": 164,
   "metadata": {},
   "outputs": [],
   "source": [
    "signalsMetadata['excerpDimension']=signalsMetadata.apply(lambda row: int(row.duration*row.samplerate),axis=1)"
   ]
  },
  {
   "cell_type": "code",
   "execution_count": 165,
   "metadata": {},
   "outputs": [],
   "source": [
    "allExtended=pd.DataFrame()"
   ]
  },
  {
   "cell_type": "code",
   "execution_count": 166,
   "metadata": {},
   "outputs": [],
   "source": [
    "for ind,row in signalsMetadata.iterrows():\n",
    "    thisExtended=pd.DataFrame({\n",
    "        'trainIndex':np.arange(row.excerpDimension),\n",
    "        'subjectId':row.subjectId\n",
    "    })\n",
    "    allExtended=pd.concat([allExtended,thisExtended])"
   ]
  },
  {
   "cell_type": "code",
   "execution_count": 167,
   "metadata": {},
   "outputs": [
    {
     "data": {
      "text/html": [
       "<div>\n",
       "<style scoped>\n",
       "    .dataframe tbody tr th:only-of-type {\n",
       "        vertical-align: middle;\n",
       "    }\n",
       "\n",
       "    .dataframe tbody tr th {\n",
       "        vertical-align: top;\n",
       "    }\n",
       "\n",
       "    .dataframe thead th {\n",
       "        text-align: right;\n",
       "    }\n",
       "</style>\n",
       "<table border=\"1\" class=\"dataframe\">\n",
       "  <thead>\n",
       "    <tr style=\"text-align: right;\">\n",
       "      <th></th>\n",
       "      <th>trainIndex</th>\n",
       "      <th>subjectId</th>\n",
       "    </tr>\n",
       "  </thead>\n",
       "  <tbody>\n",
       "    <tr>\n",
       "      <th>0</th>\n",
       "      <td>0</td>\n",
       "      <td>0001</td>\n",
       "    </tr>\n",
       "    <tr>\n",
       "      <th>1</th>\n",
       "      <td>1</td>\n",
       "      <td>0001</td>\n",
       "    </tr>\n",
       "    <tr>\n",
       "      <th>2</th>\n",
       "      <td>2</td>\n",
       "      <td>0001</td>\n",
       "    </tr>\n",
       "    <tr>\n",
       "      <th>3</th>\n",
       "      <td>3</td>\n",
       "      <td>0001</td>\n",
       "    </tr>\n",
       "    <tr>\n",
       "      <th>4</th>\n",
       "      <td>4</td>\n",
       "      <td>0001</td>\n",
       "    </tr>\n",
       "    <tr>\n",
       "      <th>...</th>\n",
       "      <td>...</td>\n",
       "      <td>...</td>\n",
       "    </tr>\n",
       "    <tr>\n",
       "      <th>5278395</th>\n",
       "      <td>5278395</td>\n",
       "      <td>0019</td>\n",
       "    </tr>\n",
       "    <tr>\n",
       "      <th>5278396</th>\n",
       "      <td>5278396</td>\n",
       "      <td>0019</td>\n",
       "    </tr>\n",
       "    <tr>\n",
       "      <th>5278397</th>\n",
       "      <td>5278397</td>\n",
       "      <td>0019</td>\n",
       "    </tr>\n",
       "    <tr>\n",
       "      <th>5278398</th>\n",
       "      <td>5278398</td>\n",
       "      <td>0019</td>\n",
       "    </tr>\n",
       "    <tr>\n",
       "      <th>5278399</th>\n",
       "      <td>5278399</td>\n",
       "      <td>0019</td>\n",
       "    </tr>\n",
       "  </tbody>\n",
       "</table>\n",
       "<p>112627200 rows × 2 columns</p>\n",
       "</div>"
      ],
      "text/plain": [
       "         trainIndex subjectId\n",
       "0                 0      0001\n",
       "1                 1      0001\n",
       "2                 2      0001\n",
       "3                 3      0001\n",
       "4                 4      0001\n",
       "...             ...       ...\n",
       "5278395     5278395      0019\n",
       "5278396     5278396      0019\n",
       "5278397     5278397      0019\n",
       "5278398     5278398      0019\n",
       "5278399     5278399      0019\n",
       "\n",
       "[112627200 rows x 2 columns]"
      ]
     },
     "execution_count": 167,
     "metadata": {},
     "output_type": "execute_result"
    }
   ],
   "source": [
    "allExtended"
   ]
  },
  {
   "cell_type": "markdown",
   "metadata": {},
   "source": [
    "prepare annotations to use"
   ]
  },
  {
   "cell_type": "code",
   "execution_count": 168,
   "metadata": {},
   "outputs": [],
   "source": [
    "usedAnnotations=annotations[annotations.labelerId=='0001'].reset_index(drop=True)"
   ]
  },
  {
   "cell_type": "markdown",
   "metadata": {},
   "source": [
    "prepare all possible labels for training"
   ]
  },
  {
   "cell_type": "code",
   "execution_count": 169,
   "metadata": {},
   "outputs": [],
   "source": [
    "labels={}\n",
    "for index, row in signalsMetadata.iterrows():\n",
    "    labels[row.subjectId]=excerptAnnotationsToLabels(usedAnnotations[usedAnnotations.subjectId==row.subjectId],excerptDimension=row.excerpDimension)"
   ]
  },
  {
   "cell_type": "code",
   "execution_count": 170,
   "metadata": {},
   "outputs": [
    {
     "name": "stdout",
     "output_type": "stream",
     "text": [
      "True\n",
      "True\n",
      "True\n",
      "True\n",
      "True\n",
      "True\n",
      "True\n",
      "True\n",
      "True\n",
      "True\n",
      "True\n",
      "True\n",
      "True\n",
      "True\n",
      "True\n",
      "True\n",
      "True\n",
      "True\n",
      "True\n"
     ]
    }
   ],
   "source": [
    "#check\n",
    "for index, row in signalsMetadata.iterrows():\n",
    "    print(row.excerpDimension==len(labels[row.subjectId]))"
   ]
  },
  {
   "cell_type": "markdown",
   "metadata": {},
   "source": [
    "prepare all possible slides for training"
   ]
  },
  {
   "cell_type": "code",
   "execution_count": 171,
   "metadata": {},
   "outputs": [],
   "source": [
    "slides={}\n",
    "for index, row in signalsMetadata.iterrows():\n",
    "    paddedSignal=padVectorBothSides(signals[row.subjectId],window2half(601),method='closest')\n",
    "    slides[row.subjectId]=np_tricks.sliding_window_view(paddedSignal,(601,))"
   ]
  },
  {
   "cell_type": "code",
   "execution_count": 172,
   "metadata": {},
   "outputs": [
    {
     "name": "stdout",
     "output_type": "stream",
     "text": [
      "True\n",
      "True\n",
      "True\n",
      "True\n",
      "True\n",
      "True\n",
      "True\n",
      "True\n",
      "True\n",
      "True\n",
      "True\n",
      "True\n",
      "True\n",
      "True\n",
      "True\n",
      "True\n",
      "True\n",
      "True\n",
      "True\n"
     ]
    }
   ],
   "source": [
    "#check\n",
    "for index, row in signalsMetadata.iterrows():\n",
    "    print(row.excerpDimension==len(slides[row.subjectId]))"
   ]
  },
  {
   "cell_type": "markdown",
   "metadata": {},
   "source": [
    "prepare the NN"
   ]
  },
  {
   "cell_type": "code",
   "execution_count": 173,
   "metadata": {},
   "outputs": [],
   "source": [
    "import tensorflow as tf\n",
    "from tensorflow.keras import layers\n",
    "from tensorflow.keras import models\n",
    "from tensorflow.keras import optimizers\n"
   ]
  },
  {
   "cell_type": "code",
   "execution_count": 174,
   "metadata": {},
   "outputs": [],
   "source": [
    "X_input = layers.Input((601,1))\n",
    "X = layers.Dense(200,activation='relu')(X_input)\n",
    "X = layers.Dense(100,activation='relu')(X)\n",
    "X = layers.Dense(50,activation='relu')(X)\n",
    "X = layers.Dense(25,activation='relu')(X)\n",
    "X = layers.Dense(5,activation='relu')(X)\n",
    "X = layers.Dense(1,activation='sigmoid')(X)\n",
    "model = models.Model(inputs=X_input,outputs=X)"
   ]
  },
  {
   "cell_type": "code",
   "execution_count": 175,
   "metadata": {},
   "outputs": [
    {
     "name": "stdout",
     "output_type": "stream",
     "text": [
      "Model: \"model_8\"\n",
      "_________________________________________________________________\n",
      " Layer (type)                Output Shape              Param #   \n",
      "=================================================================\n",
      " input_11 (InputLayer)       [(None, 601, 1)]          0         \n",
      "                                                                 \n",
      " dense_55 (Dense)            (None, 601, 200)          400       \n",
      "                                                                 \n",
      " dense_56 (Dense)            (None, 601, 100)          20100     \n",
      "                                                                 \n",
      " dense_57 (Dense)            (None, 601, 50)           5050      \n",
      "                                                                 \n",
      " dense_58 (Dense)            (None, 601, 25)           1275      \n",
      "                                                                 \n",
      " dense_59 (Dense)            (None, 601, 5)            130       \n",
      "                                                                 \n",
      " dense_60 (Dense)            (None, 601, 1)            6         \n",
      "                                                                 \n",
      "=================================================================\n",
      "Total params: 26,961\n",
      "Trainable params: 26,961\n",
      "Non-trainable params: 0\n",
      "_________________________________________________________________\n",
      "None\n"
     ]
    }
   ],
   "source": [
    "print(model.summary())"
   ]
  },
  {
   "cell_type": "markdown",
   "metadata": {},
   "source": [
    "create a generator"
   ]
  },
  {
   "cell_type": "code",
   "execution_count": 176,
   "metadata": {},
   "outputs": [
    {
     "data": {
      "text/plain": [
       "Index(['trainIndex', 'subjectId'], dtype='object')"
      ]
     },
     "execution_count": 176,
     "metadata": {},
     "output_type": "execute_result"
    }
   ],
   "source": [
    "allExtended.columns"
   ]
  },
  {
   "cell_type": "code",
   "execution_count": 177,
   "metadata": {},
   "outputs": [],
   "source": [
    "#   spin Generator       ------------------------------------------\n",
    "class spinGen(tf.keras.utils.Sequence):\n",
    "    def __init__(self, slides, labels, allExtended,\n",
    "                batch_size=1024,\n",
    "                shuffle=True):\n",
    "        \n",
    "        #copy variables\n",
    "        self.slides = slides.copy()\n",
    "        self.labels = labels.copy()\n",
    "        self.allExtended = allExtended.copy()\n",
    "        self.batch_size = batch_size\n",
    "        self.shuffle = shuffle\n",
    "        #compute df and n\n",
    "        if shuffle:\n",
    "            self.df=allExtended.sample(frac=1)\n",
    "        else:\n",
    "            self.df=allExtended\n",
    "        self.n = len(self.df)\n",
    "\n",
    "    def __getitem__(self, index):\n",
    "        batch = self.df[index * self.batch_size:(index + 1) * self.batch_size]\n",
    "        return self.__get_data(batch)\n",
    "\n",
    "    def __get_data(self,batch):\n",
    "        #inputs\n",
    "        index_batch = batch['trainIndex']\n",
    "        subject_batch = batch['subjectId']\n",
    "        inputs = np.asarray([self.__get_input(index,subject) for index,subject in zip(index_batch,subject_batch)])\n",
    "        #outputs\n",
    "        outputs= np.asarray([self.__get_label(index,subject) for index,subject in zip(index_batch,subject_batch)])\n",
    "        return inputs, outputs\n",
    "\n",
    "    def __get_input(self, index,subject):\n",
    "        slide=self.slides[subject][index]\n",
    "        slide=slide[...,np.newaxis]\n",
    "        return slide\n",
    "    \n",
    "    def __get_label(self, index,subject):\n",
    "        label=self.labels[subject][index]\n",
    "        label=label[...,np.newaxis]\n",
    "        return label\n",
    "\n",
    "    def __len__(self):\n",
    "        return self.n // self.batch_size\n",
    "\n",
    "    def on_epoch_end(self):\n",
    "        if self.shuffle:\n",
    "            self.df=self.df.sample(frac=1)"
   ]
  },
  {
   "cell_type": "code",
   "execution_count": 178,
   "metadata": {},
   "outputs": [],
   "source": [
    "test=spinGen(slides,labels,allExtended)"
   ]
  },
  {
   "cell_type": "code",
   "execution_count": 179,
   "metadata": {},
   "outputs": [],
   "source": [
    "a,b=next(iter(test))"
   ]
  },
  {
   "cell_type": "code",
   "execution_count": 180,
   "metadata": {},
   "outputs": [
    {
     "data": {
      "text/plain": [
       "(1024, 601, 1)"
      ]
     },
     "execution_count": 180,
     "metadata": {},
     "output_type": "execute_result"
    }
   ],
   "source": [
    "a.shape"
   ]
  },
  {
   "cell_type": "code",
   "execution_count": 181,
   "metadata": {},
   "outputs": [
    {
     "data": {
      "text/plain": [
       "(1024, 1)"
      ]
     },
     "execution_count": 181,
     "metadata": {},
     "output_type": "execute_result"
    }
   ],
   "source": [
    "b.shape"
   ]
  },
  {
   "cell_type": "code",
   "execution_count": 182,
   "metadata": {},
   "outputs": [],
   "source": [
    "optimizer = optimizers.Adam()\n",
    "loss_fn = tf.keras.losses.binary_crossentropy\n",
    "model.compile(optimizer, loss_fn)"
   ]
  },
  {
   "cell_type": "code",
   "execution_count": 183,
   "metadata": {},
   "outputs": [
    {
     "name": "stdout",
     "output_type": "stream",
     "text": [
      "  6276/109987 [>.............................] - ETA: 18:20:59 - loss: 0.0883"
     ]
    }
   ],
   "source": [
    "history = model.fit(spinGen(slides,labels,allExtended),epochs=1)"
   ]
  }
 ],
 "metadata": {
  "kernelspec": {
   "display_name": "venv",
   "language": "python",
   "name": "python3"
  },
  "language_info": {
   "codemirror_mode": {
    "name": "ipython",
    "version": 3
   },
   "file_extension": ".py",
   "mimetype": "text/x-python",
   "name": "python",
   "nbconvert_exporter": "python",
   "pygments_lexer": "ipython3",
   "version": "3.10.6"
  },
  "orig_nbformat": 4
 },
 "nbformat": 4,
 "nbformat_minor": 2
}
