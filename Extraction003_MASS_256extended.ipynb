{
 "cells": [
  {
   "cell_type": "markdown",
   "metadata": {},
   "source": [
    "# Feature extraction in MASS\n",
    "we are starting from the results of the 29 iterations of wrapper feature selection in DREAMS"
   ]
  },
  {
   "cell_type": "code",
   "execution_count": 1,
   "metadata": {},
   "outputs": [],
   "source": [
    "#external libraries\n",
    "import os\n",
    "import dotenv\n",
    "import pandas as pd\n",
    "import numpy as np\n",
    "from scipy import signal as sg\n",
    "import pickle as pkl\n",
    "import time\n",
    "import matplotlib.pyplot as plt\n",
    "\n",
    "#project library\n",
    "from spinco import *\n",
    "\n",
    "#environment variables\n",
    "dotenv.load_dotenv('lab.env')\n",
    "\n",
    "#project variables\n",
    "datapath=os.environ['DATAPATH']"
   ]
  },
  {
   "cell_type": "code",
   "execution_count": 2,
   "metadata": {},
   "outputs": [],
   "source": [
    "#define features path\n",
    "masspath=datapath+\"\\MASS\"\n",
    "featurespath=masspath+\"\\\\features\"\n",
    "        \n",
    "windowDurations=[0.5,1,1.5,2]"
   ]
  },
  {
   "cell_type": "markdown",
   "metadata": {},
   "source": [
    "## Load data"
   ]
  },
  {
   "cell_type": "code",
   "execution_count": 3,
   "metadata": {},
   "outputs": [],
   "source": [
    "#load data THIS NEEDS REFINEMENT AND CONVERGENCE TO USE WITH MULTIPLE DATABASES\n",
    "def loadMASSSpindles(path):\n",
    "    #signalsMetadata\n",
    "    signalsMetadata=pd.read_csv(path+'\\\\signals\\\\signalsMetadata.csv')\n",
    "    signalsMetadata['subjectId']=signalsMetadata.apply(\n",
    "        lambda row: str(row.subjectId).zfill(4),axis=1)\n",
    "\n",
    "    #load signals from pickle\n",
    "    signals={}\n",
    "    for index, row in signalsMetadata.iterrows():\n",
    "        signalpath=path+\"/signals/\"+row.file\n",
    "        cFile = open(signalpath, 'rb')\n",
    "        signals[row.subjectId]= pkl.load(cFile)\n",
    "        cFile.close()\n",
    "\n",
    "    #spindle annotations\n",
    "    annotations=pd.read_csv(path+'\\\\annotations\\\\annotations.csv')\n",
    "    annotations['subjectId']=annotations.apply(\n",
    "        lambda row: str(row.subjectId).zfill(4),axis=1)\n",
    "    annotations['labelerId']=annotations.apply(\n",
    "        lambda row: str(row.labelerId).zfill(4),axis=1)\n",
    "    \n",
    "    #add stop and index colums\n",
    "    annotations=annotations.merge(signalsMetadata[['subjectId','samplerate']],how='left',on='subjectId')\n",
    "    annotations['stopTime']=annotations.apply(\n",
    "        lambda row: row.startTime+row.duration , axis=1)\n",
    "    annotations['startInd']=annotations.apply(\n",
    "        lambda row: seconds2index(row.startTime,row.samplerate) , axis=1)\n",
    "    annotations['stopInd']=annotations.apply(\n",
    "        lambda row: seconds2index(row.stopTime,row.samplerate) , axis=1)\n",
    "\n",
    "    \n",
    "    return signals, annotations, signalsMetadata\n",
    "    "
   ]
  },
  {
   "cell_type": "code",
   "execution_count": 4,
   "metadata": {},
   "outputs": [],
   "source": [
    "signals, annotations, signalsMetadata = loadMASSSpindles(masspath)"
   ]
  },
  {
   "cell_type": "code",
   "execution_count": 5,
   "metadata": {},
   "outputs": [
    {
     "data": {
      "text/html": [
       "<div>\n",
       "<style scoped>\n",
       "    .dataframe tbody tr th:only-of-type {\n",
       "        vertical-align: middle;\n",
       "    }\n",
       "\n",
       "    .dataframe tbody tr th {\n",
       "        vertical-align: top;\n",
       "    }\n",
       "\n",
       "    .dataframe thead th {\n",
       "        text-align: right;\n",
       "    }\n",
       "</style>\n",
       "<table border=\"1\" class=\"dataframe\">\n",
       "  <thead>\n",
       "    <tr style=\"text-align: right;\">\n",
       "      <th></th>\n",
       "      <th>subjectId</th>\n",
       "      <th>file</th>\n",
       "      <th>channel</th>\n",
       "      <th>duration</th>\n",
       "      <th>samplerate</th>\n",
       "    </tr>\n",
       "  </thead>\n",
       "  <tbody>\n",
       "    <tr>\n",
       "      <th>0</th>\n",
       "      <td>0001</td>\n",
       "      <td>MASS_0001.pkl</td>\n",
       "      <td>C3-CLE</td>\n",
       "      <td>28956.0</td>\n",
       "      <td>256</td>\n",
       "    </tr>\n",
       "    <tr>\n",
       "      <th>1</th>\n",
       "      <td>0002</td>\n",
       "      <td>MASS_0002.pkl</td>\n",
       "      <td>C3-CLE</td>\n",
       "      <td>35016.0</td>\n",
       "      <td>256</td>\n",
       "    </tr>\n",
       "    <tr>\n",
       "      <th>2</th>\n",
       "      <td>0003</td>\n",
       "      <td>MASS_0003.pkl</td>\n",
       "      <td>C3-CLE</td>\n",
       "      <td>36760.0</td>\n",
       "      <td>256</td>\n",
       "    </tr>\n",
       "    <tr>\n",
       "      <th>3</th>\n",
       "      <td>0004</td>\n",
       "      <td>MASS_0004.pkl</td>\n",
       "      <td>C3-CLE</td>\n",
       "      <td>28004.0</td>\n",
       "      <td>256</td>\n",
       "    </tr>\n",
       "    <tr>\n",
       "      <th>4</th>\n",
       "      <td>0005</td>\n",
       "      <td>MASS_0005.pkl</td>\n",
       "      <td>C3-CLE</td>\n",
       "      <td>31244.0</td>\n",
       "      <td>256</td>\n",
       "    </tr>\n",
       "  </tbody>\n",
       "</table>\n",
       "</div>"
      ],
      "text/plain": [
       "  subjectId           file channel  duration  samplerate\n",
       "0      0001  MASS_0001.pkl  C3-CLE   28956.0         256\n",
       "1      0002  MASS_0002.pkl  C3-CLE   35016.0         256\n",
       "2      0003  MASS_0003.pkl  C3-CLE   36760.0         256\n",
       "3      0004  MASS_0004.pkl  C3-CLE   28004.0         256\n",
       "4      0005  MASS_0005.pkl  C3-CLE   31244.0         256"
      ]
     },
     "execution_count": 5,
     "metadata": {},
     "output_type": "execute_result"
    }
   ],
   "source": [
    "signalsMetadata.head(5)"
   ]
  },
  {
   "cell_type": "code",
   "execution_count": 6,
   "metadata": {},
   "outputs": [],
   "source": [
    "samplerate=256"
   ]
  },
  {
   "cell_type": "markdown",
   "metadata": {},
   "source": [
    "## Preprocess"
   ]
  },
  {
   "cell_type": "code",
   "execution_count": 7,
   "metadata": {},
   "outputs": [],
   "source": [
    "def preprocessVector(vector,samplerate):\n",
    "    #1. Lowpass 50Hz\n",
    "    vector=filterBand(vector,[0,50],samplerate,filterOrder=4)\n",
    "    #2. Z-score\n",
    "    m=np.mean(vector)\n",
    "    s=np.std(vector)\n",
    "    vector=(vector-m)/s\n",
    "    return vector"
   ]
  },
  {
   "cell_type": "code",
   "execution_count": 8,
   "metadata": {},
   "outputs": [],
   "source": [
    "for subject,signal in signals.items():\n",
    "    signals[subject]=preprocessVector(signal,samplerate)"
   ]
  },
  {
   "cell_type": "markdown",
   "metadata": {},
   "source": [
    "## Extract features"
   ]
  },
  {
   "cell_type": "markdown",
   "metadata": {},
   "source": [
    "### folder estructure"
   ]
  },
  {
   "cell_type": "code",
   "execution_count": 9,
   "metadata": {},
   "outputs": [],
   "source": [
    "fspath=featurespath+'/'+str(samplerate)+'fs/'\n",
    "if not os.path.isdir(fspath):\n",
    "    os.mkdir(fspath)\n",
    "for window in windowDurations:\n",
    "    windowPath=fspath+str(window)+'win'\n",
    "    if not os.path.isdir(windowPath):\n",
    "        os.mkdir(windowPath)\n",
    "    for subject in signalsMetadata.subjectId:\n",
    "        subjectPath=windowPath+'/'+subject\n",
    "        if not os.path.isdir(subjectPath):\n",
    "            os.mkdir(subjectPath)"
   ]
  },
  {
   "cell_type": "markdown",
   "metadata": {},
   "source": [
    "### band definition"
   ]
  },
  {
   "cell_type": "code",
   "execution_count": 10,
   "metadata": {},
   "outputs": [],
   "source": [
    "bands={\n",
    "    'delta1':[0.1,2],\n",
    "    'delta2':[2,4],\n",
    "    'theta':[4,8],\n",
    "    'alpha':[8,13],\n",
    "    'sigma':[11,16],\n",
    "    'beta1':[13,19],\n",
    "    'beta2':[19,30]\n",
    "    }"
   ]
  },
  {
   "cell_type": "markdown",
   "metadata": {},
   "source": [
    "### computation"
   ]
  },
  {
   "cell_type": "markdown",
   "metadata": {},
   "source": [
    "sigma index"
   ]
  },
  {
   "cell_type": "code",
   "execution_count": 11,
   "metadata": {},
   "outputs": [
    {
     "data": {
      "text/plain": [
       "' #TBD -> make this automatic for a function in which you input a dataframe\\ntakeTime=True\\n\\nfor window in windowDurations:\\n    windowPath=featurespath+\\'/\\'+str(samplerate)+\\'fs/\\'+str(window)\\n    for ind, row in signalsMetadata.iterrows():\\n        subject=row.subjectId\\n        subjectPath=windowPath+\\'/\\'+subject\\n        signal=signals[subject]\\n        #need to define the time vector for each signal:\\n        timepoints=np.arange(len(signal))/samplerate\\n        if takeTime:\\n            print(\"********************************\")\\n            print(\"reference signal duration: \"+str(row.duration))\\n            print(\"~\"+str(round(row.duration/3600,2))+\" hours\")\\n            print(\"********************************\")\\n            referenceTime=time.time()\\n        #12. sigma index\\n        characteristic=\\'sigmaIndex\\'\\n        bandName=\\'broadband\\'\\n        aux=sigmaindex(signal,window,samplerate)\\n        saveFeature(aux,window,subject,characteristic,bandName,samplerate,featurespath)\\n        if takeTime:\\n            print(characteristic+\" \"+bandName+\": \"+str(time.time()-referenceTime))\\n            referenceTime=time.time()\\n        takeTime=False\\n '"
      ]
     },
     "execution_count": 11,
     "metadata": {},
     "output_type": "execute_result"
    }
   ],
   "source": [
    "\"\"\" #TBD -> make this automatic for a function in which you input a dataframe\n",
    "takeTime=True\n",
    "\n",
    "for window in windowDurations:\n",
    "    windowPath=featurespath+'/'+str(samplerate)+'fs/'+str(window)\n",
    "    for ind, row in signalsMetadata.iterrows():\n",
    "        subject=row.subjectId\n",
    "        subjectPath=windowPath+'/'+subject\n",
    "        signal=signals[subject]\n",
    "        #need to define the time vector for each signal:\n",
    "        timepoints=np.arange(len(signal))/samplerate\n",
    "        if takeTime:\n",
    "            print(\"********************************\")\n",
    "            print(\"reference signal duration: \"+str(row.duration))\n",
    "            print(\"~\"+str(round(row.duration/3600,2))+\" hours\")\n",
    "            print(\"********************************\")\n",
    "            referenceTime=time.time()\n",
    "        #12. sigma index\n",
    "        characteristic='sigmaIndex'\n",
    "        bandName='broadband'\n",
    "        aux=sigmaindex(signal,window,samplerate)\n",
    "        saveFeature(aux,window,subject,characteristic,bandName,samplerate,featurespath)\n",
    "        if takeTime:\n",
    "            print(characteristic+\" \"+bandName+\": \"+str(time.time()-referenceTime))\n",
    "            referenceTime=time.time()\n",
    "        takeTime=False\n",
    " \"\"\""
   ]
  },
  {
   "cell_type": "code",
   "execution_count": 12,
   "metadata": {},
   "outputs": [
    {
     "name": "stderr",
     "output_type": "stream",
     "text": [
      "C:\\Users\\Gurdiel\\Code\\SpinCo\\src\\spinco.py:329: RuntimeWarning: divide by zero encountered in divide\n",
      "  mobility=np.sqrt(moveVarCentered(vectorGradient,windowSampleCount)/moveVarCentered(vector,windowSampleCount))\n",
      "C:\\Users\\Gurdiel\\Code\\SpinCo\\src\\spinco.py:329: RuntimeWarning: invalid value encountered in divide\n",
      "  mobility=np.sqrt(moveVarCentered(vectorGradient,windowSampleCount)/moveVarCentered(vector,windowSampleCount))\n"
     ]
    }
   ],
   "source": [
    "for window in windowDurations:\n",
    "    windowPath=featurespath+'/'+str(samplerate)+'fs/'+str(window)\n",
    "    for ind, row in signalsMetadata.iterrows():\n",
    "        subject=row.subjectId\n",
    "        subjectPath=windowPath+'/'+subject\n",
    "        signal=signals[subject]\n",
    "        #need to define the time vector for each signal:\n",
    "        timepoints=np.arange(len(signal))/samplerate\n",
    "        \"\"\" #1. Envelopes\n",
    "        characteristic='envelope'\n",
    "        for bandName, band in bands.items():\n",
    "            aux=envelopeHilbert(signal,band,samplerate)\n",
    "            saveFeature(aux,window,subject,characteristic,bandName,samplerate,featurespath)\n",
    "        #2. Skewness\n",
    "        characteristic='skewness'\n",
    "        bandName='broadband'\n",
    "        aux=bandSkew(signal,window,'broadband',samplerate)\n",
    "        saveFeature(aux,window,subject,characteristic,bandName,samplerate,featurespath)\n",
    "        for bandName, band in bands.items():\n",
    "            aux=bandSkew(signal,window,band,samplerate)\n",
    "            saveFeature(aux,window,subject,characteristic,bandName,samplerate,featurespath)\n",
    "        #3. Kurtosis\n",
    "        characteristic='kurtosis'\n",
    "        bandName='broadband'\n",
    "        aux=bandKurt(signal,window,'broadband',samplerate)\n",
    "        saveFeature(aux,window,subject,characteristic,bandName,samplerate,featurespath)\n",
    "        for bandName, band in bands.items():\n",
    "            aux=bandKurt(signal,window,band,samplerate)\n",
    "            saveFeature(aux,window,subject,characteristic,bandName,samplerate,featurespath)\n",
    "        #4. Std\n",
    "        characteristic='stdev'\n",
    "        bandName='broadband'\n",
    "        aux=bandStd(signal,window,'broadband',samplerate)\n",
    "        saveFeature(aux,window,subject,characteristic,bandName,samplerate,featurespath)\n",
    "        for bandName, band in bands.items():\n",
    "            aux=bandStd(signal,window,band,samplerate)\n",
    "            saveFeature(aux,window,subject,characteristic,bandName,samplerate,featurespath)\n",
    "        #5. BandRatioRMS\n",
    "        characteristic='ratioRMS'\n",
    "        for bandName, band in bands.items():\n",
    "            aux=bandRatioRMS(signal,band,window,samplerate)\n",
    "            saveFeature(aux,window,subject,characteristic,bandName,samplerate,featurespath) \"\"\"\n",
    "        #6. Hjort Activity\n",
    "        characteristic='hjortActivity'\n",
    "        bandName='broadband'\n",
    "        aux=hjortActivity(signal,window,samplerate)\n",
    "        saveFeature(aux,window,subject,characteristic,bandName,samplerate,featurespath)\n",
    "        for bandName, band in bands.items():\n",
    "            filtered=filterBand(signal,band,samplerate)\n",
    "            aux=hjortActivity(filtered,window,samplerate)\n",
    "            saveFeature(aux,window,subject,characteristic,bandName,samplerate,featurespath)\n",
    "        #7. Hjort Mobility\n",
    "        characteristic='hjortMobility'\n",
    "        bandName='broadband'\n",
    "        aux=hjortMobility(signal,timepoints,window,samplerate)\n",
    "        saveFeature(aux,window,subject,characteristic,bandName,samplerate,featurespath)\n",
    "        for bandName, band in bands.items():\n",
    "            filtered=filterBand(signal,band,samplerate)\n",
    "            aux=hjortMobility(filtered,timepoints,window,samplerate)\n",
    "            saveFeature(aux,window,subject,characteristic,bandName,samplerate,featurespath)\n",
    "        #8. Hjort Complexity\n",
    "        characteristic='hjortComplexity'\n",
    "        bandName='broadband'\n",
    "        aux=hjortComplexity(signal,timepoints,window,samplerate)\n",
    "        saveFeature(aux,window,subject,characteristic,bandName,samplerate,featurespath)\n",
    "        for bandName, band in bands.items():\n",
    "            filtered=filterBand(signal,band,samplerate)\n",
    "            aux=hjortComplexity(filtered,timepoints,window,samplerate)\n",
    "            saveFeature(aux,window,subject,characteristic,bandName,samplerate,featurespath)\n",
    "        #9. PetrosianFractalDimension\n",
    "        characteristic='petrosian'\n",
    "        bandName='broadband'\n",
    "        aux=petrosianFractalDimension(signal,timepoints,window,samplerate)\n",
    "        saveFeature(aux,window,subject,characteristic,bandName,samplerate,featurespath)\n",
    "        for bandName, band in bands.items():\n",
    "            filtered=filterBand(signal,band,samplerate)\n",
    "            aux=petrosianFractalDimension(filtered,timepoints,window,samplerate)\n",
    "            saveFeature(aux,window,subject,characteristic,bandName,samplerate,featurespath)\n",
    "        \"\"\" #10. EOD Symmetry (symma)\n",
    "        characteristic='symmetry'\n",
    "        bandName='broadband'\n",
    "        aux=eodSymmetry(signal,window,samplerate)[2]\n",
    "        saveFeature(aux,window,subject,characteristic,bandName,samplerate,featurespath)\n",
    "        for bandName, band in bands.items():\n",
    "            filtered=filterBand(signal,band,samplerate)\n",
    "            aux=eodSymmetry(filtered,window,samplerate)[2]\n",
    "            saveFeature(aux,window,subject,characteristic,bandName,samplerate,featurespath)\n",
    "        #11. LempelZiv\n",
    "        characteristic='lempelZiv'\n",
    "        bandName='broadband'\n",
    "        aux=lempelZivComplexity(signal,window,samplerate)\n",
    "        saveFeature(aux,window,subject,characteristic,bandName,samplerate,featurespath)\n",
    "        for bandName, band in bands.items():\n",
    "            filtered=filterBand(signal,band,samplerate)\n",
    "            aux=lempelZivComplexity(filtered,window,samplerate)\n",
    "            saveFeature(aux,window,subject,characteristic,bandName,samplerate,featurespath) \"\"\"\n",
    "        #12. sigma index\n",
    "        characteristic='sigmaIndex'\n",
    "        bandName='broadband'\n",
    "        aux=sigmaindex(signal,window,samplerate)\n",
    "        saveFeature(aux,window,subject,characteristic,bandName,samplerate,featurespath)\n",
    "        \"\"\" #13. sample entropy\n",
    "        characteristic='sampleEntropy'\n",
    "        bandName='broadband'\n",
    "        aux=sampleEntropy(signal,window,samplerate)\n",
    "        saveFeature(aux,window,subject,characteristic,bandName,samplerate,featurespath)\n",
    "        for bandName, band in bands.items():\n",
    "            filtered=filterBand(signal,band,samplerate)\n",
    "            aux=sampleEntropy(filtered,window,samplerate)\n",
    "            saveFeature(aux,window,subject,characteristic,bandName,samplerate,featurespath)\n",
    "        #14. spectral entropy\n",
    "        characteristic='spectralEntropy'\n",
    "        bandName='broadband'\n",
    "        aux=spectralEntropy(signal,[0,50],window,samplerate)\n",
    "        saveFeature(aux,window,subject,characteristic,bandName,samplerate,featurespath)\n",
    "        for bandName, band in bands.items():\n",
    "            aux=spectralEntropy(signal,band,window,samplerate)\n",
    "            saveFeature(aux,window,subject,characteristic,bandName,samplerate,featurespath)\n",
    "        #15. median frequency\n",
    "        characteristic='medianFrequency'\n",
    "        bandName='broadband'\n",
    "        aux=medianFrequency(signal,[0,50],window,samplerate)\n",
    "        saveFeature(aux,window,subject,characteristic,bandName,samplerate,featurespath)\n",
    "        for bandName, band in bands.items():\n",
    "            aux=medianFrequency(signal,band,window,samplerate)\n",
    "            saveFeature(aux,window,subject,characteristic,bandName,samplerate,featurespath)\n",
    "        #16. relativePower\n",
    "        characteristic='relativePower'\n",
    "        for bandName, band in bands.items():\n",
    "            aux=bandRelativePower(signal,band,window,samplerate)\n",
    "            saveFeature(aux,window,subject,characteristic,bandName,samplerate,featurespath)\n",
    "        #17. CTM (default r=0.1)\n",
    "        characteristic='CTM'\n",
    "        bandName='broadband'\n",
    "        aux=centralTendencyMeasure(signal,window,samplerate)\n",
    "        saveFeature(aux,window,subject,characteristic,bandName,samplerate,featurespath)\n",
    "        for bandName, band in bands.items():\n",
    "            filtered=filterBand(signal,band,samplerate)\n",
    "            aux=centralTendencyMeasure(signal,window,samplerate)\n",
    "            saveFeature(aux,window,subject,characteristic,bandName,samplerate,featurespath) \"\"\"\n",
    "            "
   ]
  }
 ],
 "metadata": {
  "kernelspec": {
   "display_name": "Python 3.10.6 ('venv': venv)",
   "language": "python",
   "name": "python3"
  },
  "language_info": {
   "codemirror_mode": {
    "name": "ipython",
    "version": 3
   },
   "file_extension": ".py",
   "mimetype": "text/x-python",
   "name": "python",
   "nbconvert_exporter": "python",
   "pygments_lexer": "ipython3",
   "version": "3.10.6"
  },
  "orig_nbformat": 4,
  "vscode": {
   "interpreter": {
    "hash": "69eb08d3e713eff25484e90b18c01e15df779e80a0db295f9ddc53faed0455be"
   }
  }
 },
 "nbformat": 4,
 "nbformat_minor": 2
}
