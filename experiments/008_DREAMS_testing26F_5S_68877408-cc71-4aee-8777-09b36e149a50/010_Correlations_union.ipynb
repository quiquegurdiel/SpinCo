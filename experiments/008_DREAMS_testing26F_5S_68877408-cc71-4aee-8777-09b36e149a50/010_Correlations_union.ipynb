{
 "cells": [
  {
   "attachments": {},
   "cell_type": "markdown",
   "metadata": {},
   "source": [
    "# Testing for UNION - using all spindles, training with all data\n",
    "fistly define the UUID of the experiment to use"
   ]
  },
  {
   "cell_type": "code",
   "execution_count": 1,
   "metadata": {},
   "outputs": [],
   "source": [
    "experimentId=\"68877408-cc71-4aee-8777-09b36e149a50\""
   ]
  },
  {
   "cell_type": "markdown",
   "metadata": {},
   "source": [
    "-------------------------------------------------------"
   ]
  },
  {
   "cell_type": "code",
   "execution_count": 2,
   "metadata": {},
   "outputs": [],
   "source": [
    "#external libraries\n",
    "import numpy as np\n",
    "import os\n",
    "import matplotlib.pyplot as plt\n",
    "import matplotlib.colors as clt\n",
    "import plotly\n",
    "import plotly.subplots as sb\n",
    "import plotly.express as px\n",
    "import plotly.graph_objects as go\n",
    "import dotenv\n",
    "import pandas as pd\n",
    "import scipy.stats as sst\n",
    "import scipy.fft as fft\n",
    "import scipy.signal as sg\n",
    "import scipy.io as sio\n",
    "import pickle as pkl\n",
    "import xgboost as xgb\n",
    "import time\n",
    "import sklearn.metrics as skm\n",
    "\n",
    "#project library\n",
    "from spinco import *\n",
    "\n",
    "#environment variables\n",
    "dotenv.load_dotenv('lab.env')\n",
    "\n",
    "#project variables\n",
    "datapath=os.environ['DATAPATH']\n",
    "cognipath=datapath+\"\\\\COGNITION\"\n",
    "dreamspath=datapath+\"\\\\DREAMS\"\n",
    "masspath=datapath+\"\\\\MASS\"\n"
   ]
  },
  {
   "cell_type": "markdown",
   "metadata": {},
   "source": [
    "## load mass"
   ]
  },
  {
   "cell_type": "code",
   "execution_count": 3,
   "metadata": {},
   "outputs": [],
   "source": [
    "samplerate=200  #Should rethink this"
   ]
  },
  {
   "cell_type": "code",
   "execution_count": 4,
   "metadata": {},
   "outputs": [
    {
     "name": "stdout",
     "output_type": "stream",
     "text": [
      "SubjectId: 0001--------------\n",
      "resampling from 100 to 200\n",
      "SubjectId: 0003--------------\n",
      "resampling from 50 to 200\n",
      "SubjectId: 0006--------------\n",
      "duration discrepancy, removing last 0.7 seconds\n"
     ]
    }
   ],
   "source": [
    "signals, annotations, signalsMetadata = loadDREAMSSpindles(dreamspath)"
   ]
  },
  {
   "cell_type": "code",
   "execution_count": 5,
   "metadata": {},
   "outputs": [],
   "source": [
    "#consider to include this in a function\n",
    "minDuration=0.3\n",
    "maxDuration=2.9\n",
    "annotations=annotations[annotations.type=='spindle']\n",
    "\"\"\" annotations=annotations[annotations.duration>minDuration]\n",
    "annotations=annotations[annotations.duration<maxDuration] \"\"\"\n",
    "annotations=annotations.reset_index(drop=True)"
   ]
  },
  {
   "cell_type": "code",
   "execution_count": 6,
   "metadata": {},
   "outputs": [
    {
     "data": {
      "text/html": [
       "<div>\n",
       "<style scoped>\n",
       "    .dataframe tbody tr th:only-of-type {\n",
       "        vertical-align: middle;\n",
       "    }\n",
       "\n",
       "    .dataframe tbody tr th {\n",
       "        vertical-align: top;\n",
       "    }\n",
       "\n",
       "    .dataframe thead th {\n",
       "        text-align: right;\n",
       "    }\n",
       "</style>\n",
       "<table border=\"1\" class=\"dataframe\">\n",
       "  <thead>\n",
       "    <tr style=\"text-align: right;\">\n",
       "      <th></th>\n",
       "      <th>index</th>\n",
       "      <th>startTime</th>\n",
       "      <th>duration</th>\n",
       "      <th>channel</th>\n",
       "      <th>subjectId</th>\n",
       "      <th>labelerId</th>\n",
       "      <th>type</th>\n",
       "      <th>samplerate</th>\n",
       "      <th>stopTime</th>\n",
       "      <th>startInd</th>\n",
       "      <th>stopInd</th>\n",
       "    </tr>\n",
       "  </thead>\n",
       "  <tbody>\n",
       "    <tr>\n",
       "      <th>0</th>\n",
       "      <td>0</td>\n",
       "      <td>282.24</td>\n",
       "      <td>0.72</td>\n",
       "      <td>C3-A1</td>\n",
       "      <td>0001</td>\n",
       "      <td>0001</td>\n",
       "      <td>spindle</td>\n",
       "      <td>200</td>\n",
       "      <td>282.96</td>\n",
       "      <td>56448</td>\n",
       "      <td>56592</td>\n",
       "    </tr>\n",
       "    <tr>\n",
       "      <th>1</th>\n",
       "      <td>1</td>\n",
       "      <td>311.72</td>\n",
       "      <td>1.54</td>\n",
       "      <td>C3-A1</td>\n",
       "      <td>0001</td>\n",
       "      <td>0001</td>\n",
       "      <td>spindle</td>\n",
       "      <td>200</td>\n",
       "      <td>313.26</td>\n",
       "      <td>62344</td>\n",
       "      <td>62652</td>\n",
       "    </tr>\n",
       "    <tr>\n",
       "      <th>2</th>\n",
       "      <td>2</td>\n",
       "      <td>340.28</td>\n",
       "      <td>0.72</td>\n",
       "      <td>C3-A1</td>\n",
       "      <td>0001</td>\n",
       "      <td>0001</td>\n",
       "      <td>spindle</td>\n",
       "      <td>200</td>\n",
       "      <td>341.00</td>\n",
       "      <td>68056</td>\n",
       "      <td>68200</td>\n",
       "    </tr>\n",
       "    <tr>\n",
       "      <th>3</th>\n",
       "      <td>3</td>\n",
       "      <td>366.83</td>\n",
       "      <td>0.65</td>\n",
       "      <td>C3-A1</td>\n",
       "      <td>0001</td>\n",
       "      <td>0001</td>\n",
       "      <td>spindle</td>\n",
       "      <td>200</td>\n",
       "      <td>367.48</td>\n",
       "      <td>73366</td>\n",
       "      <td>73496</td>\n",
       "    </tr>\n",
       "    <tr>\n",
       "      <th>4</th>\n",
       "      <td>4</td>\n",
       "      <td>373.74</td>\n",
       "      <td>0.50</td>\n",
       "      <td>C3-A1</td>\n",
       "      <td>0001</td>\n",
       "      <td>0001</td>\n",
       "      <td>spindle</td>\n",
       "      <td>200</td>\n",
       "      <td>374.24</td>\n",
       "      <td>74748</td>\n",
       "      <td>74848</td>\n",
       "    </tr>\n",
       "  </tbody>\n",
       "</table>\n",
       "</div>"
      ],
      "text/plain": [
       "   index  startTime  duration channel subjectId labelerId     type  \\\n",
       "0      0     282.24      0.72   C3-A1      0001      0001  spindle   \n",
       "1      1     311.72      1.54   C3-A1      0001      0001  spindle   \n",
       "2      2     340.28      0.72   C3-A1      0001      0001  spindle   \n",
       "3      3     366.83      0.65   C3-A1      0001      0001  spindle   \n",
       "4      4     373.74      0.50   C3-A1      0001      0001  spindle   \n",
       "\n",
       "   samplerate  stopTime  startInd  stopInd  \n",
       "0         200    282.96     56448    56592  \n",
       "1         200    313.26     62344    62652  \n",
       "2         200    341.00     68056    68200  \n",
       "3         200    367.48     73366    73496  \n",
       "4         200    374.24     74748    74848  "
      ]
     },
     "execution_count": 6,
     "metadata": {},
     "output_type": "execute_result"
    }
   ],
   "source": [
    "annotations.head()"
   ]
  },
  {
   "cell_type": "code",
   "execution_count": 7,
   "metadata": {},
   "outputs": [
    {
     "data": {
      "text/html": [
       "<div>\n",
       "<style scoped>\n",
       "    .dataframe tbody tr th:only-of-type {\n",
       "        vertical-align: middle;\n",
       "    }\n",
       "\n",
       "    .dataframe tbody tr th {\n",
       "        vertical-align: top;\n",
       "    }\n",
       "\n",
       "    .dataframe thead th {\n",
       "        text-align: right;\n",
       "    }\n",
       "</style>\n",
       "<table border=\"1\" class=\"dataframe\">\n",
       "  <thead>\n",
       "    <tr style=\"text-align: right;\">\n",
       "      <th></th>\n",
       "      <th>filename</th>\n",
       "      <th>channel</th>\n",
       "      <th>subjectId</th>\n",
       "      <th>duration</th>\n",
       "      <th>samplerate</th>\n",
       "      <th>database</th>\n",
       "    </tr>\n",
       "  </thead>\n",
       "  <tbody>\n",
       "    <tr>\n",
       "      <th>0</th>\n",
       "      <td>excerpt1.txt</td>\n",
       "      <td>C3-A1</td>\n",
       "      <td>0001</td>\n",
       "      <td>1800</td>\n",
       "      <td>200</td>\n",
       "      <td>DREAMS</td>\n",
       "    </tr>\n",
       "    <tr>\n",
       "      <th>1</th>\n",
       "      <td>excerpt2.txt</td>\n",
       "      <td>CZ-A1</td>\n",
       "      <td>0002</td>\n",
       "      <td>1800</td>\n",
       "      <td>200</td>\n",
       "      <td>DREAMS</td>\n",
       "    </tr>\n",
       "    <tr>\n",
       "      <th>2</th>\n",
       "      <td>excerpt3.txt</td>\n",
       "      <td>C3-A1</td>\n",
       "      <td>0003</td>\n",
       "      <td>1800</td>\n",
       "      <td>200</td>\n",
       "      <td>DREAMS</td>\n",
       "    </tr>\n",
       "    <tr>\n",
       "      <th>3</th>\n",
       "      <td>excerpt4.txt</td>\n",
       "      <td>CZ-A1</td>\n",
       "      <td>0004</td>\n",
       "      <td>1800</td>\n",
       "      <td>200</td>\n",
       "      <td>DREAMS</td>\n",
       "    </tr>\n",
       "    <tr>\n",
       "      <th>4</th>\n",
       "      <td>excerpt5.txt</td>\n",
       "      <td>CZ-A1</td>\n",
       "      <td>0005</td>\n",
       "      <td>1800</td>\n",
       "      <td>200</td>\n",
       "      <td>DREAMS</td>\n",
       "    </tr>\n",
       "  </tbody>\n",
       "</table>\n",
       "</div>"
      ],
      "text/plain": [
       "       filename channel subjectId  duration  samplerate database\n",
       "0  excerpt1.txt   C3-A1      0001      1800         200   DREAMS\n",
       "1  excerpt2.txt   CZ-A1      0002      1800         200   DREAMS\n",
       "2  excerpt3.txt   C3-A1      0003      1800         200   DREAMS\n",
       "3  excerpt4.txt   CZ-A1      0004      1800         200   DREAMS\n",
       "4  excerpt5.txt   CZ-A1      0005      1800         200   DREAMS"
      ]
     },
     "execution_count": 7,
     "metadata": {},
     "output_type": "execute_result"
    }
   ],
   "source": [
    "signalsMetadata.head()"
   ]
  },
  {
   "cell_type": "markdown",
   "metadata": {},
   "source": [
    "## Load experiment results"
   ]
  },
  {
   "cell_type": "code",
   "execution_count": 8,
   "metadata": {},
   "outputs": [],
   "source": [
    "experimentModels, featureSelection = loadExperiment(experimentId,datapath)"
   ]
  },
  {
   "cell_type": "code",
   "execution_count": 9,
   "metadata": {},
   "outputs": [
    {
     "data": {
      "text/html": [
       "<div>\n",
       "<style scoped>\n",
       "    .dataframe tbody tr th:only-of-type {\n",
       "        vertical-align: middle;\n",
       "    }\n",
       "\n",
       "    .dataframe tbody tr th {\n",
       "        vertical-align: top;\n",
       "    }\n",
       "\n",
       "    .dataframe thead th {\n",
       "        text-align: right;\n",
       "    }\n",
       "</style>\n",
       "<table border=\"1\" class=\"dataframe\">\n",
       "  <thead>\n",
       "    <tr style=\"text-align: right;\">\n",
       "      <th></th>\n",
       "      <th>criteriumId</th>\n",
       "      <th>criteriumName</th>\n",
       "      <th>labelerIdList</th>\n",
       "      <th>train</th>\n",
       "      <th>val</th>\n",
       "      <th>test</th>\n",
       "      <th>modelId</th>\n",
       "      <th>spindleTimeRate</th>\n",
       "    </tr>\n",
       "  </thead>\n",
       "  <tbody>\n",
       "    <tr>\n",
       "      <th>0</th>\n",
       "      <td>0001</td>\n",
       "      <td>E1</td>\n",
       "      <td>[0001]</td>\n",
       "      <td>[0003, 0005, 0006]</td>\n",
       "      <td>[0002]</td>\n",
       "      <td>0001</td>\n",
       "      <td>83b7a320-06e0-4b5f-a99f-7863b21ac84b</td>\n",
       "      <td>0.018348</td>\n",
       "    </tr>\n",
       "    <tr>\n",
       "      <th>1</th>\n",
       "      <td>0001</td>\n",
       "      <td>E1</td>\n",
       "      <td>[0001]</td>\n",
       "      <td>[0001, 0003, 0005]</td>\n",
       "      <td>[0006]</td>\n",
       "      <td>0002</td>\n",
       "      <td>de0568df-657a-4cef-b14e-7d0cae36ca8e</td>\n",
       "      <td>0.016172</td>\n",
       "    </tr>\n",
       "    <tr>\n",
       "      <th>2</th>\n",
       "      <td>0001</td>\n",
       "      <td>E1</td>\n",
       "      <td>[0001]</td>\n",
       "      <td>[0001, 0002, 0006]</td>\n",
       "      <td>[0005]</td>\n",
       "      <td>0003</td>\n",
       "      <td>3bcdc5c8-b4d4-4f58-a892-fcc66da68ef3</td>\n",
       "      <td>0.026374</td>\n",
       "    </tr>\n",
       "    <tr>\n",
       "      <th>3</th>\n",
       "      <td>0001</td>\n",
       "      <td>E1</td>\n",
       "      <td>[0001]</td>\n",
       "      <td>[0001, 0002, 0006]</td>\n",
       "      <td>[0003]</td>\n",
       "      <td>0005</td>\n",
       "      <td>3c4bdd12-6869-41a4-a9b0-70c68730415d</td>\n",
       "      <td>0.026374</td>\n",
       "    </tr>\n",
       "    <tr>\n",
       "      <th>4</th>\n",
       "      <td>0001</td>\n",
       "      <td>E1</td>\n",
       "      <td>[0001]</td>\n",
       "      <td>[0001, 0003, 0005]</td>\n",
       "      <td>[0002]</td>\n",
       "      <td>0006</td>\n",
       "      <td>a2fe24ce-b6bb-43f9-a58e-b25f9e3630bc</td>\n",
       "      <td>0.016172</td>\n",
       "    </tr>\n",
       "    <tr>\n",
       "      <th>5</th>\n",
       "      <td>0002</td>\n",
       "      <td>E2</td>\n",
       "      <td>[0002]</td>\n",
       "      <td>[0003, 0005, 0006]</td>\n",
       "      <td>[0002]</td>\n",
       "      <td>0001</td>\n",
       "      <td>f96c5ab5-f40f-4ed2-a2b7-286126d165bc</td>\n",
       "      <td>0.040185</td>\n",
       "    </tr>\n",
       "    <tr>\n",
       "      <th>6</th>\n",
       "      <td>0002</td>\n",
       "      <td>E2</td>\n",
       "      <td>[0002]</td>\n",
       "      <td>[0001, 0003, 0005]</td>\n",
       "      <td>[0006]</td>\n",
       "      <td>0002</td>\n",
       "      <td>48a66f14-7df2-41f8-9fcd-8145e1deb173</td>\n",
       "      <td>0.045183</td>\n",
       "    </tr>\n",
       "    <tr>\n",
       "      <th>7</th>\n",
       "      <td>0002</td>\n",
       "      <td>E2</td>\n",
       "      <td>[0002]</td>\n",
       "      <td>[0001, 0002, 0006]</td>\n",
       "      <td>[0005]</td>\n",
       "      <td>0003</td>\n",
       "      <td>6e78e3c9-8c7b-417e-8863-47b5a52a32dc</td>\n",
       "      <td>0.046850</td>\n",
       "    </tr>\n",
       "    <tr>\n",
       "      <th>8</th>\n",
       "      <td>0002</td>\n",
       "      <td>E2</td>\n",
       "      <td>[0002]</td>\n",
       "      <td>[0001, 0002, 0006]</td>\n",
       "      <td>[0003]</td>\n",
       "      <td>0005</td>\n",
       "      <td>9d3f65cd-baee-4a36-a05a-0b8dbc875830</td>\n",
       "      <td>0.046850</td>\n",
       "    </tr>\n",
       "    <tr>\n",
       "      <th>9</th>\n",
       "      <td>0002</td>\n",
       "      <td>E2</td>\n",
       "      <td>[0002]</td>\n",
       "      <td>[0001, 0003, 0005]</td>\n",
       "      <td>[0002]</td>\n",
       "      <td>0006</td>\n",
       "      <td>76a1415b-361b-4e47-9fb6-845d93d0e4d1</td>\n",
       "      <td>0.045183</td>\n",
       "    </tr>\n",
       "    <tr>\n",
       "      <th>10</th>\n",
       "      <td>0003</td>\n",
       "      <td>union</td>\n",
       "      <td>[0001, 0002]</td>\n",
       "      <td>[0003, 0005, 0006]</td>\n",
       "      <td>[0002]</td>\n",
       "      <td>0001</td>\n",
       "      <td>a7cb461b-4f33-4085-89b3-1f619ddca728</td>\n",
       "      <td>0.047350</td>\n",
       "    </tr>\n",
       "    <tr>\n",
       "      <th>11</th>\n",
       "      <td>0003</td>\n",
       "      <td>union</td>\n",
       "      <td>[0001, 0002]</td>\n",
       "      <td>[0001, 0003, 0005]</td>\n",
       "      <td>[0006]</td>\n",
       "      <td>0002</td>\n",
       "      <td>874f5503-0e4f-4cc8-b19b-6517f13627f2</td>\n",
       "      <td>0.051389</td>\n",
       "    </tr>\n",
       "    <tr>\n",
       "      <th>12</th>\n",
       "      <td>0003</td>\n",
       "      <td>union</td>\n",
       "      <td>[0001, 0002]</td>\n",
       "      <td>[0001, 0002, 0006]</td>\n",
       "      <td>[0005]</td>\n",
       "      <td>0003</td>\n",
       "      <td>36d900b6-57fb-4984-9c7e-16bc86690129</td>\n",
       "      <td>0.058704</td>\n",
       "    </tr>\n",
       "    <tr>\n",
       "      <th>13</th>\n",
       "      <td>0003</td>\n",
       "      <td>union</td>\n",
       "      <td>[0001, 0002]</td>\n",
       "      <td>[0001, 0002, 0006]</td>\n",
       "      <td>[0003]</td>\n",
       "      <td>0005</td>\n",
       "      <td>bd6db5d7-e220-4ec8-8aaa-386ccbd7d59c</td>\n",
       "      <td>0.058704</td>\n",
       "    </tr>\n",
       "    <tr>\n",
       "      <th>14</th>\n",
       "      <td>0003</td>\n",
       "      <td>union</td>\n",
       "      <td>[0001, 0002]</td>\n",
       "      <td>[0001, 0003, 0005]</td>\n",
       "      <td>[0002]</td>\n",
       "      <td>0006</td>\n",
       "      <td>a9030ba3-3169-490e-b375-21663205d61d</td>\n",
       "      <td>0.051389</td>\n",
       "    </tr>\n",
       "  </tbody>\n",
       "</table>\n",
       "</div>"
      ],
      "text/plain": [
       "   criteriumId criteriumName labelerIdList               train     val  test  \\\n",
       "0         0001            E1        [0001]  [0003, 0005, 0006]  [0002]  0001   \n",
       "1         0001            E1        [0001]  [0001, 0003, 0005]  [0006]  0002   \n",
       "2         0001            E1        [0001]  [0001, 0002, 0006]  [0005]  0003   \n",
       "3         0001            E1        [0001]  [0001, 0002, 0006]  [0003]  0005   \n",
       "4         0001            E1        [0001]  [0001, 0003, 0005]  [0002]  0006   \n",
       "5         0002            E2        [0002]  [0003, 0005, 0006]  [0002]  0001   \n",
       "6         0002            E2        [0002]  [0001, 0003, 0005]  [0006]  0002   \n",
       "7         0002            E2        [0002]  [0001, 0002, 0006]  [0005]  0003   \n",
       "8         0002            E2        [0002]  [0001, 0002, 0006]  [0003]  0005   \n",
       "9         0002            E2        [0002]  [0001, 0003, 0005]  [0002]  0006   \n",
       "10        0003         union  [0001, 0002]  [0003, 0005, 0006]  [0002]  0001   \n",
       "11        0003         union  [0001, 0002]  [0001, 0003, 0005]  [0006]  0002   \n",
       "12        0003         union  [0001, 0002]  [0001, 0002, 0006]  [0005]  0003   \n",
       "13        0003         union  [0001, 0002]  [0001, 0002, 0006]  [0003]  0005   \n",
       "14        0003         union  [0001, 0002]  [0001, 0003, 0005]  [0002]  0006   \n",
       "\n",
       "                                 modelId  spindleTimeRate  \n",
       "0   83b7a320-06e0-4b5f-a99f-7863b21ac84b         0.018348  \n",
       "1   de0568df-657a-4cef-b14e-7d0cae36ca8e         0.016172  \n",
       "2   3bcdc5c8-b4d4-4f58-a892-fcc66da68ef3         0.026374  \n",
       "3   3c4bdd12-6869-41a4-a9b0-70c68730415d         0.026374  \n",
       "4   a2fe24ce-b6bb-43f9-a58e-b25f9e3630bc         0.016172  \n",
       "5   f96c5ab5-f40f-4ed2-a2b7-286126d165bc         0.040185  \n",
       "6   48a66f14-7df2-41f8-9fcd-8145e1deb173         0.045183  \n",
       "7   6e78e3c9-8c7b-417e-8863-47b5a52a32dc         0.046850  \n",
       "8   9d3f65cd-baee-4a36-a05a-0b8dbc875830         0.046850  \n",
       "9   76a1415b-361b-4e47-9fb6-845d93d0e4d1         0.045183  \n",
       "10  a7cb461b-4f33-4085-89b3-1f619ddca728         0.047350  \n",
       "11  874f5503-0e4f-4cc8-b19b-6517f13627f2         0.051389  \n",
       "12  36d900b6-57fb-4984-9c7e-16bc86690129         0.058704  \n",
       "13  bd6db5d7-e220-4ec8-8aaa-386ccbd7d59c         0.058704  \n",
       "14  a9030ba3-3169-490e-b375-21663205d61d         0.051389  "
      ]
     },
     "execution_count": 9,
     "metadata": {},
     "output_type": "execute_result"
    }
   ],
   "source": [
    "experimentModels"
   ]
  },
  {
   "cell_type": "code",
   "execution_count": 10,
   "metadata": {},
   "outputs": [
    {
     "data": {
      "text/html": [
       "<div>\n",
       "<style scoped>\n",
       "    .dataframe tbody tr th:only-of-type {\n",
       "        vertical-align: middle;\n",
       "    }\n",
       "\n",
       "    .dataframe tbody tr th {\n",
       "        vertical-align: top;\n",
       "    }\n",
       "\n",
       "    .dataframe thead tr th {\n",
       "        text-align: left;\n",
       "    }\n",
       "\n",
       "    .dataframe thead tr:last-of-type th {\n",
       "        text-align: right;\n",
       "    }\n",
       "</style>\n",
       "<table border=\"1\" class=\"dataframe\">\n",
       "  <thead>\n",
       "    <tr>\n",
       "      <th></th>\n",
       "      <th colspan=\"8\" halign=\"left\">spindleTimeRate</th>\n",
       "    </tr>\n",
       "    <tr>\n",
       "      <th></th>\n",
       "      <th>count</th>\n",
       "      <th>mean</th>\n",
       "      <th>std</th>\n",
       "      <th>min</th>\n",
       "      <th>25%</th>\n",
       "      <th>50%</th>\n",
       "      <th>75%</th>\n",
       "      <th>max</th>\n",
       "    </tr>\n",
       "    <tr>\n",
       "      <th>criteriumName</th>\n",
       "      <th></th>\n",
       "      <th></th>\n",
       "      <th></th>\n",
       "      <th></th>\n",
       "      <th></th>\n",
       "      <th></th>\n",
       "      <th></th>\n",
       "      <th></th>\n",
       "    </tr>\n",
       "  </thead>\n",
       "  <tbody>\n",
       "    <tr>\n",
       "      <th>E1</th>\n",
       "      <td>5.0</td>\n",
       "      <td>0.020688</td>\n",
       "      <td>0.005266</td>\n",
       "      <td>0.016172</td>\n",
       "      <td>0.016172</td>\n",
       "      <td>0.018348</td>\n",
       "      <td>0.026374</td>\n",
       "      <td>0.026374</td>\n",
       "    </tr>\n",
       "    <tr>\n",
       "      <th>E2</th>\n",
       "      <td>5.0</td>\n",
       "      <td>0.044850</td>\n",
       "      <td>0.002738</td>\n",
       "      <td>0.040185</td>\n",
       "      <td>0.045183</td>\n",
       "      <td>0.045183</td>\n",
       "      <td>0.046850</td>\n",
       "      <td>0.046850</td>\n",
       "    </tr>\n",
       "    <tr>\n",
       "      <th>union</th>\n",
       "      <td>5.0</td>\n",
       "      <td>0.053507</td>\n",
       "      <td>0.005022</td>\n",
       "      <td>0.047350</td>\n",
       "      <td>0.051389</td>\n",
       "      <td>0.051389</td>\n",
       "      <td>0.058704</td>\n",
       "      <td>0.058704</td>\n",
       "    </tr>\n",
       "  </tbody>\n",
       "</table>\n",
       "</div>"
      ],
      "text/plain": [
       "              spindleTimeRate                                          \\\n",
       "                        count      mean       std       min       25%   \n",
       "criteriumName                                                           \n",
       "E1                        5.0  0.020688  0.005266  0.016172  0.016172   \n",
       "E2                        5.0  0.044850  0.002738  0.040185  0.045183   \n",
       "union                     5.0  0.053507  0.005022  0.047350  0.051389   \n",
       "\n",
       "                                             \n",
       "                    50%       75%       max  \n",
       "criteriumName                                \n",
       "E1             0.018348  0.026374  0.026374  \n",
       "E2             0.045183  0.046850  0.046850  \n",
       "union          0.051389  0.058704  0.058704  "
      ]
     },
     "execution_count": 10,
     "metadata": {},
     "output_type": "execute_result"
    }
   ],
   "source": [
    "#we show the difference in class inbalance for the annotation criteria considered\n",
    "experimentModels[['criteriumName','spindleTimeRate']].groupby('criteriumName').describe()"
   ]
  },
  {
   "cell_type": "code",
   "execution_count": 11,
   "metadata": {},
   "outputs": [
    {
     "data": {
      "text/html": [
       "<div>\n",
       "<style scoped>\n",
       "    .dataframe tbody tr th:only-of-type {\n",
       "        vertical-align: middle;\n",
       "    }\n",
       "\n",
       "    .dataframe tbody tr th {\n",
       "        vertical-align: top;\n",
       "    }\n",
       "\n",
       "    .dataframe thead th {\n",
       "        text-align: right;\n",
       "    }\n",
       "</style>\n",
       "<table border=\"1\" class=\"dataframe\">\n",
       "  <thead>\n",
       "    <tr style=\"text-align: right;\">\n",
       "      <th></th>\n",
       "      <th>window</th>\n",
       "      <th>characteristic</th>\n",
       "      <th>bandName</th>\n",
       "      <th>score</th>\n",
       "    </tr>\n",
       "  </thead>\n",
       "  <tbody>\n",
       "    <tr>\n",
       "      <th>0</th>\n",
       "      <td>2</td>\n",
       "      <td>hjortActivity</td>\n",
       "      <td>beta2</td>\n",
       "      <td>69.0</td>\n",
       "    </tr>\n",
       "    <tr>\n",
       "      <th>1</th>\n",
       "      <td>1</td>\n",
       "      <td>hjortActivity</td>\n",
       "      <td>sigma</td>\n",
       "      <td>63.0</td>\n",
       "    </tr>\n",
       "    <tr>\n",
       "      <th>2</th>\n",
       "      <td>2</td>\n",
       "      <td>hjortActivity</td>\n",
       "      <td>beta1</td>\n",
       "      <td>42.0</td>\n",
       "    </tr>\n",
       "    <tr>\n",
       "      <th>3</th>\n",
       "      <td>2</td>\n",
       "      <td>hjortActivity</td>\n",
       "      <td>delta2</td>\n",
       "      <td>41.0</td>\n",
       "    </tr>\n",
       "    <tr>\n",
       "      <th>4</th>\n",
       "      <td>1.5</td>\n",
       "      <td>sigmaIndex</td>\n",
       "      <td>broadband</td>\n",
       "      <td>39.0</td>\n",
       "    </tr>\n",
       "    <tr>\n",
       "      <th>5</th>\n",
       "      <td>2</td>\n",
       "      <td>sigmaIndex</td>\n",
       "      <td>broadband</td>\n",
       "      <td>39.0</td>\n",
       "    </tr>\n",
       "    <tr>\n",
       "      <th>6</th>\n",
       "      <td>2</td>\n",
       "      <td>hjortActivity</td>\n",
       "      <td>theta</td>\n",
       "      <td>38.0</td>\n",
       "    </tr>\n",
       "    <tr>\n",
       "      <th>7</th>\n",
       "      <td>2</td>\n",
       "      <td>hjortMobility</td>\n",
       "      <td>beta1</td>\n",
       "      <td>37.0</td>\n",
       "    </tr>\n",
       "    <tr>\n",
       "      <th>8</th>\n",
       "      <td>2</td>\n",
       "      <td>hjortActivity</td>\n",
       "      <td>alpha</td>\n",
       "      <td>35.0</td>\n",
       "    </tr>\n",
       "    <tr>\n",
       "      <th>9</th>\n",
       "      <td>1</td>\n",
       "      <td>sigmaIndex</td>\n",
       "      <td>broadband</td>\n",
       "      <td>34.0</td>\n",
       "    </tr>\n",
       "    <tr>\n",
       "      <th>10</th>\n",
       "      <td>2</td>\n",
       "      <td>hjortMobility</td>\n",
       "      <td>sigma</td>\n",
       "      <td>32.0</td>\n",
       "    </tr>\n",
       "    <tr>\n",
       "      <th>11</th>\n",
       "      <td>1.5</td>\n",
       "      <td>hjortActivity</td>\n",
       "      <td>beta2</td>\n",
       "      <td>30.0</td>\n",
       "    </tr>\n",
       "    <tr>\n",
       "      <th>12</th>\n",
       "      <td>2</td>\n",
       "      <td>hjortMobility</td>\n",
       "      <td>beta2</td>\n",
       "      <td>29.0</td>\n",
       "    </tr>\n",
       "    <tr>\n",
       "      <th>13</th>\n",
       "      <td>2</td>\n",
       "      <td>hjortMobility</td>\n",
       "      <td>alpha</td>\n",
       "      <td>28.0</td>\n",
       "    </tr>\n",
       "    <tr>\n",
       "      <th>14</th>\n",
       "      <td>0.5</td>\n",
       "      <td>sigmaIndex</td>\n",
       "      <td>broadband</td>\n",
       "      <td>28.0</td>\n",
       "    </tr>\n",
       "    <tr>\n",
       "      <th>15</th>\n",
       "      <td>2</td>\n",
       "      <td>hjortMobility</td>\n",
       "      <td>delta1</td>\n",
       "      <td>28.0</td>\n",
       "    </tr>\n",
       "    <tr>\n",
       "      <th>16</th>\n",
       "      <td>2</td>\n",
       "      <td>hjortActivity</td>\n",
       "      <td>sigma</td>\n",
       "      <td>27.0</td>\n",
       "    </tr>\n",
       "    <tr>\n",
       "      <th>17</th>\n",
       "      <td>2</td>\n",
       "      <td>petrosian</td>\n",
       "      <td>broadband</td>\n",
       "      <td>27.0</td>\n",
       "    </tr>\n",
       "    <tr>\n",
       "      <th>18</th>\n",
       "      <td>2</td>\n",
       "      <td>hjortActivity</td>\n",
       "      <td>broadband</td>\n",
       "      <td>26.0</td>\n",
       "    </tr>\n",
       "    <tr>\n",
       "      <th>19</th>\n",
       "      <td>1.5</td>\n",
       "      <td>hjortActivity</td>\n",
       "      <td>sigma</td>\n",
       "      <td>26.0</td>\n",
       "    </tr>\n",
       "    <tr>\n",
       "      <th>20</th>\n",
       "      <td>1.5</td>\n",
       "      <td>hjortActivity</td>\n",
       "      <td>alpha</td>\n",
       "      <td>25.0</td>\n",
       "    </tr>\n",
       "    <tr>\n",
       "      <th>21</th>\n",
       "      <td>0.5</td>\n",
       "      <td>hjortActivity</td>\n",
       "      <td>alpha</td>\n",
       "      <td>24.0</td>\n",
       "    </tr>\n",
       "    <tr>\n",
       "      <th>22</th>\n",
       "      <td>1</td>\n",
       "      <td>hjortActivity</td>\n",
       "      <td>theta</td>\n",
       "      <td>23.0</td>\n",
       "    </tr>\n",
       "    <tr>\n",
       "      <th>23</th>\n",
       "      <td>1.5</td>\n",
       "      <td>petrosian</td>\n",
       "      <td>broadband</td>\n",
       "      <td>22.0</td>\n",
       "    </tr>\n",
       "    <tr>\n",
       "      <th>24</th>\n",
       "      <td>2</td>\n",
       "      <td>hjortMobility</td>\n",
       "      <td>broadband</td>\n",
       "      <td>22.0</td>\n",
       "    </tr>\n",
       "    <tr>\n",
       "      <th>25</th>\n",
       "      <td>1.5</td>\n",
       "      <td>hjortActivity</td>\n",
       "      <td>theta</td>\n",
       "      <td>22.0</td>\n",
       "    </tr>\n",
       "  </tbody>\n",
       "</table>\n",
       "</div>"
      ],
      "text/plain": [
       "   window characteristic   bandName  score\n",
       "0       2  hjortActivity      beta2   69.0\n",
       "1       1  hjortActivity      sigma   63.0\n",
       "2       2  hjortActivity      beta1   42.0\n",
       "3       2  hjortActivity     delta2   41.0\n",
       "4     1.5     sigmaIndex  broadband   39.0\n",
       "5       2     sigmaIndex  broadband   39.0\n",
       "6       2  hjortActivity      theta   38.0\n",
       "7       2  hjortMobility      beta1   37.0\n",
       "8       2  hjortActivity      alpha   35.0\n",
       "9       1     sigmaIndex  broadband   34.0\n",
       "10      2  hjortMobility      sigma   32.0\n",
       "11    1.5  hjortActivity      beta2   30.0\n",
       "12      2  hjortMobility      beta2   29.0\n",
       "13      2  hjortMobility      alpha   28.0\n",
       "14    0.5     sigmaIndex  broadband   28.0\n",
       "15      2  hjortMobility     delta1   28.0\n",
       "16      2  hjortActivity      sigma   27.0\n",
       "17      2      petrosian  broadband   27.0\n",
       "18      2  hjortActivity  broadband   26.0\n",
       "19    1.5  hjortActivity      sigma   26.0\n",
       "20    1.5  hjortActivity      alpha   25.0\n",
       "21    0.5  hjortActivity      alpha   24.0\n",
       "22      1  hjortActivity      theta   23.0\n",
       "23    1.5      petrosian  broadband   22.0\n",
       "24      2  hjortMobility  broadband   22.0\n",
       "25    1.5  hjortActivity      theta   22.0"
      ]
     },
     "execution_count": 11,
     "metadata": {},
     "output_type": "execute_result"
    }
   ],
   "source": [
    "featureSelection"
   ]
  },
  {
   "attachments": {},
   "cell_type": "markdown",
   "metadata": {},
   "source": [
    "## Hyperparameter definition\n",
    "this should come from a previous evaluation notebook"
   ]
  },
  {
   "cell_type": "code",
   "execution_count": 12,
   "metadata": {},
   "outputs": [],
   "source": [
    "hyperClose=0.25\n",
    "hyperDuration=0.3\n",
    "hyperThres=0.5\n",
    "hyperDepth=15"
   ]
  },
  {
   "attachments": {},
   "cell_type": "markdown",
   "metadata": {},
   "source": [
    "## Testing with E2 criterium\n",
    "we test the optimal points for the prediction threshold and number of boost iterations in the different validation groups"
   ]
  },
  {
   "cell_type": "code",
   "execution_count": 13,
   "metadata": {},
   "outputs": [
    {
     "data": {
      "text/html": [
       "<div>\n",
       "<style scoped>\n",
       "    .dataframe tbody tr th:only-of-type {\n",
       "        vertical-align: middle;\n",
       "    }\n",
       "\n",
       "    .dataframe tbody tr th {\n",
       "        vertical-align: top;\n",
       "    }\n",
       "\n",
       "    .dataframe thead th {\n",
       "        text-align: right;\n",
       "    }\n",
       "</style>\n",
       "<table border=\"1\" class=\"dataframe\">\n",
       "  <thead>\n",
       "    <tr style=\"text-align: right;\">\n",
       "      <th></th>\n",
       "      <th>criteriumId</th>\n",
       "      <th>criteriumName</th>\n",
       "      <th>labelerIdList</th>\n",
       "      <th>train</th>\n",
       "      <th>val</th>\n",
       "      <th>test</th>\n",
       "      <th>modelId</th>\n",
       "      <th>spindleTimeRate</th>\n",
       "    </tr>\n",
       "  </thead>\n",
       "  <tbody>\n",
       "    <tr>\n",
       "      <th>0</th>\n",
       "      <td>0003</td>\n",
       "      <td>union</td>\n",
       "      <td>[0001, 0002]</td>\n",
       "      <td>[0003, 0005, 0006]</td>\n",
       "      <td>[0002]</td>\n",
       "      <td>0001</td>\n",
       "      <td>a7cb461b-4f33-4085-89b3-1f619ddca728</td>\n",
       "      <td>0.047350</td>\n",
       "    </tr>\n",
       "    <tr>\n",
       "      <th>1</th>\n",
       "      <td>0003</td>\n",
       "      <td>union</td>\n",
       "      <td>[0001, 0002]</td>\n",
       "      <td>[0001, 0003, 0005]</td>\n",
       "      <td>[0006]</td>\n",
       "      <td>0002</td>\n",
       "      <td>874f5503-0e4f-4cc8-b19b-6517f13627f2</td>\n",
       "      <td>0.051389</td>\n",
       "    </tr>\n",
       "    <tr>\n",
       "      <th>2</th>\n",
       "      <td>0003</td>\n",
       "      <td>union</td>\n",
       "      <td>[0001, 0002]</td>\n",
       "      <td>[0001, 0002, 0006]</td>\n",
       "      <td>[0005]</td>\n",
       "      <td>0003</td>\n",
       "      <td>36d900b6-57fb-4984-9c7e-16bc86690129</td>\n",
       "      <td>0.058704</td>\n",
       "    </tr>\n",
       "    <tr>\n",
       "      <th>3</th>\n",
       "      <td>0003</td>\n",
       "      <td>union</td>\n",
       "      <td>[0001, 0002]</td>\n",
       "      <td>[0001, 0002, 0006]</td>\n",
       "      <td>[0003]</td>\n",
       "      <td>0005</td>\n",
       "      <td>bd6db5d7-e220-4ec8-8aaa-386ccbd7d59c</td>\n",
       "      <td>0.058704</td>\n",
       "    </tr>\n",
       "    <tr>\n",
       "      <th>4</th>\n",
       "      <td>0003</td>\n",
       "      <td>union</td>\n",
       "      <td>[0001, 0002]</td>\n",
       "      <td>[0001, 0003, 0005]</td>\n",
       "      <td>[0002]</td>\n",
       "      <td>0006</td>\n",
       "      <td>a9030ba3-3169-490e-b375-21663205d61d</td>\n",
       "      <td>0.051389</td>\n",
       "    </tr>\n",
       "  </tbody>\n",
       "</table>\n",
       "</div>"
      ],
      "text/plain": [
       "  criteriumId criteriumName labelerIdList               train     val  test  \\\n",
       "0        0003         union  [0001, 0002]  [0003, 0005, 0006]  [0002]  0001   \n",
       "1        0003         union  [0001, 0002]  [0001, 0003, 0005]  [0006]  0002   \n",
       "2        0003         union  [0001, 0002]  [0001, 0002, 0006]  [0005]  0003   \n",
       "3        0003         union  [0001, 0002]  [0001, 0002, 0006]  [0003]  0005   \n",
       "4        0003         union  [0001, 0002]  [0001, 0003, 0005]  [0002]  0006   \n",
       "\n",
       "                                modelId  spindleTimeRate  \n",
       "0  a7cb461b-4f33-4085-89b3-1f619ddca728         0.047350  \n",
       "1  874f5503-0e4f-4cc8-b19b-6517f13627f2         0.051389  \n",
       "2  36d900b6-57fb-4984-9c7e-16bc86690129         0.058704  \n",
       "3  bd6db5d7-e220-4ec8-8aaa-386ccbd7d59c         0.058704  \n",
       "4  a9030ba3-3169-490e-b375-21663205d61d         0.051389  "
      ]
     },
     "execution_count": 13,
     "metadata": {},
     "output_type": "execute_result"
    }
   ],
   "source": [
    "experimentModels=experimentModels[experimentModels.criteriumName=='union'].reset_index(drop=True)\n",
    "experimentModels"
   ]
  },
  {
   "cell_type": "code",
   "execution_count": 14,
   "metadata": {},
   "outputs": [],
   "source": [
    "#threshold for the metric by event\n",
    "masterIoU=0.2"
   ]
  },
  {
   "cell_type": "code",
   "execution_count": 15,
   "metadata": {},
   "outputs": [],
   "source": [
    "def getIou(coordA,coordB):\n",
    "    if (coordA[1]<coordB[0])|(coordB[1]<coordA[0]): #NOT INTERSECTION\n",
    "        iou=0\n",
    "    else:   #INTERSECTION\n",
    "        inter=np.min((coordA[1]-coordB[0],coordB[1]-coordA[0]))\n",
    "        union=np.max((coordA[1]-coordB[0],coordB[1]-coordA[0]))\n",
    "        iou=inter/union\n",
    "    return iou\n",
    "\n",
    "def annotationPairToMetrics(annotations,detections,thresIoU=0.2):\n",
    "    #get the coords\n",
    "    gtCoords=zip(annotations.startInd,annotations.stopInd)\n",
    "    outCoords=zip(detections.startInd,detections.stopInd)\n",
    "    #calculate the iou vector\n",
    "    iouVector=np.array(list(itt.starmap(getIou,itt.product(gtCoords,outCoords))))\n",
    "    #reshape to a matrix\n",
    "    iouMatrix=iouVector.reshape(len(annotations),len(detections))\n",
    "    #binarize\n",
    "    binarized=iouMatrix>thresIoU\n",
    "    #calculateF1\n",
    "    outF1=(np.sum(np.max(binarized,axis=0))+np.sum(np.max(binarized,axis=1)))/(len(annotations)+len(detections))\n",
    "    recall=np.sum(np.max(binarized,axis=1))/len(annotations)\n",
    "    precision=np.sum(np.max(binarized,axis=0))/len(detections)\n",
    "    return outF1,recall,precision"
   ]
  },
  {
   "cell_type": "code",
   "execution_count": 16,
   "metadata": {},
   "outputs": [],
   "source": [
    "def getMetricTables(annotations,detections,thresIoU=0.2):\n",
    "    #get the coords\n",
    "    gtCoords=zip(annotations.startInd,annotations.stopInd)\n",
    "    outCoords=zip(detections.startInd,detections.stopInd)\n",
    "    #calculate the iou vector\n",
    "    iouVector=np.array(list(itt.starmap(getIou,itt.product(gtCoords,outCoords))))\n",
    "    #reshape to a matrix\n",
    "    iouMatrix=iouVector.reshape(len(annotations),len(detections))\n",
    "    #create tables\n",
    "    index0=np.apply_along_axis(np.argmax,0,iouMatrix)\n",
    "    iou0=np.apply_along_axis(np.max,0,iouMatrix)\n",
    "    index1=np.apply_along_axis(np.argmax,1,iouMatrix)\n",
    "    iou1=np.apply_along_axis(np.max,1,iouMatrix)\n",
    "    \n",
    "    tableOut=pd.DataFrame({\n",
    "        'indexGT':index0,\n",
    "        'iou':iou0\n",
    "    })\n",
    "\n",
    "    tableGT=pd.DataFrame({\n",
    "        'indexOut':index1,\n",
    "        'iou':iou1\n",
    "    })\n",
    "\n",
    "    tableOut['type']='out'\n",
    "    tableGT['type']='gt'\n",
    "    tableOut['indexOut']=tableOut.index\n",
    "    tableGT['indexGT']=tableGT.index\n",
    "    #Correct external indexes of objects not overlapping\n",
    "    tableOut.loc[tableOut.iou==0,'indexGT']='NA'\n",
    "    tableGT.loc[tableGT.iou==0,'indexOut']='NA'\n",
    "    #set tps\n",
    "    tableOut['tp']=tableOut.iou>thresIoU\n",
    "    tableOut['fp']=tableOut.iou<=thresIoU\n",
    "    tableGT['tp']=tableGT.iou>thresIoU\n",
    "    tableGT['fn']=tableGT.iou<=thresIoU\n",
    "\n",
    "    return tableOut,tableGT"
   ]
  },
  {
   "cell_type": "code",
   "execution_count": 17,
   "metadata": {},
   "outputs": [
    {
     "name": "stdout",
     "output_type": "stream",
     "text": [
      "*************************\n",
      "1 of 5\n",
      "*************************\n",
      "2 of 5\n",
      "*************************\n",
      "3 of 5\n",
      "*************************\n",
      "4 of 5\n",
      "*************************\n",
      "5 of 5\n"
     ]
    }
   ],
   "source": [
    "allTablesOut=pd.DataFrame({})\n",
    "allDetections=[]\n",
    "allAnnotations=[]\n",
    "\n",
    "for ind,row in experimentModels.iterrows():\n",
    "    print('*************************')\n",
    "    print(str(ind+1)+' of '+str(len(experimentModels)) )\n",
    "    #load model\n",
    "    model=loadBooster(row.modelId,experimentId,datapath)\n",
    "\n",
    "    testSubjectId=row.test\n",
    "    #Define annotations criterium\n",
    "    usedAnnotations=annotations[annotations.labelerId.isin(row.labelerIdList)].reset_index(drop=True)\n",
    "    #Load features and labels\n",
    "    testFeatures=loadFeatureMatrix([testSubjectId],featureSelection,signalsMetadata,samplerate,datapath)\n",
    "    testLabels=loadLabelsVector([testSubjectId],usedAnnotations,signalsMetadata,samplerate)\n",
    "\n",
    "    #Predict\n",
    "    testDMatrix=xgb.DMatrix(data=testFeatures)\n",
    "    probabilities=model.predict(testDMatrix,iteration_range=(0,hyperDepth))\n",
    "    rawLabels=probabilities>=hyperThres\n",
    "    \n",
    "    #Process\n",
    "    processedLabels=labelingProcess(rawLabels,hyperClose,hyperDuration,samplerate)\n",
    "    \n",
    "    #By-event tables\n",
    "    processedAnnotations=labelVectorToAnnotations(processedLabels,samplerate)\n",
    "    gtAnnotations=labelVectorToAnnotations(testLabels,samplerate)   #<- or just filter the annotations\n",
    "    tableOut,tableGT=getMetricTables(gtAnnotations,processedAnnotations)\n",
    "    \n",
    "    #Process tables\n",
    "    gtAnnotations['durationGT']=gtAnnotations['duration']\n",
    "    tableOut=pd.merge(tableOut,gtAnnotations[\"durationGT\"],\"left\",left_on=\"indexGT\",right_index=True)\n",
    "    processedAnnotations['durationOut']=processedAnnotations['duration']\n",
    "    tableOut=pd.merge(tableOut,processedAnnotations[\"durationOut\"],\"left\",left_on=\"indexOut\",right_index=True)\n",
    "\n",
    "    tableOut['subjectId']=row.test\n",
    "\n",
    "    allTablesOut=pd.concat((allTablesOut,tableOut))\n",
    "    allDetections.append(processedAnnotations)\n",
    "    allAnnotations.append(gtAnnotations)\n"
   ]
  },
  {
   "cell_type": "code",
   "execution_count": 18,
   "metadata": {},
   "outputs": [
    {
     "data": {
      "image/png": "[encoded data removed]",
      "text/plain": [
       "<Figure size 640x480 with 1 Axes>"
      ]
     },
     "metadata": {},
     "output_type": "display_data"
    }
   ],
   "source": [
    "plt.hist(allTablesOut[allTablesOut.tp].durationOut,range=[0,2.5],alpha=0.7)\n",
    "plt.hist(allTablesOut[allTablesOut.tp].durationGT,range=[0,2.5],alpha=0.7)\n",
    "plt.show()"
   ]
  },
  {
   "cell_type": "code",
   "execution_count": 19,
   "metadata": {},
   "outputs": [
    {
     "name": "stderr",
     "output_type": "stream",
     "text": [
      "c:\\Users\\Gurdiel\\Code\\SpinCo\\venv\\lib\\site-packages\\statsmodels\\nonparametric\\smoothers_lowess.py:227: RuntimeWarning: invalid value encountered in divide\n",
      "  res, _ = _lowess(y, x, x, np.ones_like(x),\n"
     ]
    },
    {
     "data": {
      "application/vnd.plotly.v1+json": {
       "config": {
        "plotlyServerURL": "https://plot.ly"
       },
       "data": [
        {
         "hovertemplate": "durationGT=%{x}<br>durationOut=%{y}<extra></extra>",
         "legendgroup": "",
         "marker": {
          "color": "#636efa",
          "symbol": "circle"
         },
         "mode": "markers",
         "name": "",
         "orientation": "v",
         "showlegend": false,
         "type": "scatter",
         "x": [
          0.5,
          0.87,
          1,
          1,
          1.14,
          1.46,
          0.8,
          1,
          1.18,
          1.03,
          1.16,
          1,
          1.05,
          1,
          1,
          1.24,
          1.02,
          1,
          1,
          1,
          1.15,
          1.58,
          1,
          1,
          1.17,
          1.02,
          0.89,
          0.57,
          1,
          0.54,
          1,
          1,
          1.15,
          1,
          1,
          1,
          0.59,
          1.35,
          0.8,
          1,
          1,
          1.72,
          1,
          1.4,
          1,
          1,
          1,
          1,
          1,
          1,
          1,
          1,
          1,
          1,
          1,
          1,
          1,
          1,
          1,
          1,
          1,
          1,
          1,
          1,
          1,
          1,
          1,
          1,
          1,
          1,
          1,
          1,
          1,
          1,
          1,
          1,
          1,
          1,
          1,
          1,
          1,
          1,
          1,
          1,
          1,
          1,
          1,
          1,
          1,
          1,
          1,
          1,
          1,
          1,
          1,
          1.26,
          0.85,
          1.28,
          1.015,
          1.395,
          0.54,
          1,
          1.19,
          1.38,
          0.59,
          1,
          1,
          1,
          1,
          1,
          1.055,
          1.26,
          0.78,
          1,
          1,
          1,
          0.67,
          0.83,
          0.59,
          0.61,
          0.72,
          1.04,
          1,
          1,
          1,
          1,
          1.02,
          0.85,
          1,
          1.135,
          0.59,
          1.03,
          1.16,
          1,
          1,
          0.54,
          1,
          1.46,
          1.09,
          0.97,
          1,
          0.66,
          1,
          1,
          1,
          1,
          1,
          1,
          1,
          1,
          1.07,
          1,
          1,
          1.63,
          1,
          1,
          1.1,
          1,
          1,
          1,
          1,
          1,
          1,
          1,
          1,
          1,
          1,
          1,
          1,
          1,
          1,
          1,
          1,
          1,
          1,
          1,
          1,
          1,
          1,
          1,
          1,
          1,
          1,
          1.28,
          1,
          1,
          1,
          1,
          1,
          0.54,
          1.065,
          1.185,
          1,
          1,
          1,
          1,
          1.09,
          1,
          0.5,
          1,
          1,
          0.57,
          1,
          1,
          1,
          1,
          1,
          1,
          1.015,
          1,
          1,
          0.52,
          1.15,
          1,
          1,
          1,
          0.61,
          0.65,
          1.06,
          1,
          1.165,
          1,
          1.2,
          1,
          1.19,
          1.075,
          1,
          1,
          1,
          1,
          1,
          1,
          1,
          1,
          1,
          1,
          1,
          1,
          1,
          1,
          1,
          1,
          1,
          1,
          1,
          1,
          1,
          1,
          1,
          1,
          1,
          1,
          1,
          1,
          1,
          1,
          1,
          1,
          1,
          1,
          1,
          1,
          0.59,
          0.72,
          1,
          1,
          1.07,
          1,
          1.24,
          1.24,
          0.52,
          1.08,
          1.07,
          1,
          1.065,
          0.54,
          1,
          1.245,
          1,
          1,
          1,
          1.395,
          1.04,
          1,
          1.06,
          1.355,
          0.52,
          1.045,
          1,
          1,
          0.61,
          1,
          1,
          1.01,
          1.19,
          0.7,
          1,
          1,
          1,
          1,
          1,
          1,
          1,
          1,
          1,
          1.06,
          1,
          1.08,
          1.1,
          1.025,
          1,
          1,
          1,
          1,
          1,
          1,
          1,
          1,
          1,
          1,
          1,
          1,
          1,
          1,
          1,
          1,
          1,
          1,
          1,
          1,
          1,
          1,
          1,
          1,
          1,
          1,
          1,
          1,
          1,
          1,
          1,
          1,
          1,
          1,
          1,
          1,
          1,
          1,
          1,
          1
         ],
         "xaxis": "x",
         "y": [
          0.825,
          0.66,
          1.065,
          1.03,
          1.6,
          1.185,
          0.445,
          1.055,
          1.115,
          0.93,
          1.565,
          1.145,
          0.645,
          0.75,
          1.015,
          0.645,
          0.7,
          0.83,
          0.555,
          1.345,
          1.125,
          1.185,
          1.555,
          1.045,
          0.81,
          0.935,
          1.59,
          1.14,
          0.79,
          1.16,
          0.89,
          0.93,
          1.875,
          0.6,
          1.14,
          0.615,
          1.145,
          1.625,
          0.75,
          0.785,
          0.74,
          1.36,
          0.95,
          1.79,
          1.07,
          0.55,
          0.79,
          1.635,
          2.165,
          1.12,
          0.9,
          1.08,
          1.18,
          1.365,
          0.96,
          1.555,
          0.875,
          0.96,
          1.475,
          1.245,
          1.955,
          0.725,
          0.98,
          1.11,
          1.42,
          1.77,
          1.335,
          1.12,
          0.965,
          1.055,
          0.92,
          0.8,
          0.92,
          0.795,
          0.615,
          0.685,
          0.945,
          0.71,
          0.96,
          0.935,
          0.605,
          0.895,
          0.87,
          1.3,
          0.435,
          0.9,
          1.285,
          1.18,
          0.345,
          0.63,
          1.24,
          0.76,
          0.735,
          0.855,
          0.69,
          1.06,
          0.94,
          1.16,
          1.065,
          0.9,
          0.96,
          1.3,
          1.295,
          1.27,
          1.055,
          1.925,
          1.935,
          1.07,
          0.99,
          0.77,
          1.06,
          1.08,
          1.13,
          0.73,
          1.22,
          0.855,
          1.08,
          0.99,
          1.72,
          1.015,
          0.56,
          0.725,
          1.05,
          0.85,
          1.02,
          1.495,
          1.04,
          1.835,
          1.01,
          0.865,
          0.5,
          1.375,
          1.57,
          0.47,
          1.225,
          1.04,
          1.065,
          1.285,
          0.61,
          0.8,
          1.805,
          0.48,
          1.33,
          1.715,
          1.3,
          1.285,
          0.94,
          1.365,
          0.79,
          1.455,
          1.14,
          0.845,
          1.11,
          1.755,
          0.9,
          1.04,
          1.64,
          0.885,
          0.965,
          0.96,
          0.645,
          0.855,
          1.195,
          1.8,
          0.95,
          1.235,
          0.575,
          1.045,
          0.88,
          0.68,
          1.24,
          0.435,
          1.59,
          1.235,
          0.935,
          0.61,
          1.57,
          1.73,
          2.155,
          1.785,
          1.015,
          1.295,
          1.29,
          1.435,
          0.75,
          0.735,
          0.37,
          0.825,
          0.995,
          0.885,
          1.125,
          1.03,
          0.85,
          0.635,
          0.57,
          0.97,
          0.62,
          0.84,
          0.615,
          1.42,
          0.95,
          0.395,
          0.72,
          0.92,
          1.04,
          1.11,
          0.985,
          1.025,
          0.785,
          1.125,
          0.93,
          0.365,
          0.36,
          1.06,
          0.725,
          0.92,
          0.62,
          0.61,
          1.03,
          0.91,
          0.97,
          1.15,
          0.85,
          1.005,
          0.945,
          0.985,
          1.015,
          0.935,
          1,
          0.665,
          0.85,
          0.895,
          0.995,
          1.46,
          0.89,
          1.045,
          0.885,
          0.985,
          0.815,
          0.785,
          1.07,
          0.595,
          0.465,
          0.785,
          0.79,
          0.82,
          1.12,
          0.81,
          1.01,
          0.35,
          0.765,
          0.905,
          0.415,
          0.39,
          0.76,
          1.065,
          0.88,
          0.38,
          0.615,
          0.99,
          0.885,
          0.85,
          0.71,
          0.455,
          0.305,
          0.895,
          0.98,
          0.865,
          0.74,
          0.765,
          0.615,
          1.01,
          1.01,
          0.94,
          0.895,
          0.565,
          1.205,
          0.465,
          1.055,
          0.97,
          0.83,
          1.25,
          0.95,
          1.14,
          0.955,
          0.97,
          0.85,
          0.8,
          0.71,
          0.63,
          0.485,
          0.96,
          0.89,
          1.135,
          0.885,
          0.58,
          0.765,
          0.83,
          1.005,
          1.055,
          0.51,
          0.79,
          0.38,
          0.775,
          1.09,
          0.76,
          0.865,
          0.915,
          1.02,
          0.895,
          0.71,
          0.665,
          1.075,
          0.55,
          0.81,
          1.16,
          1.025,
          0.73,
          1.045,
          0.815,
          0.93,
          0.565,
          0.51,
          0.685,
          0.865,
          1.005,
          0.97,
          0.935,
          0.71,
          1.095,
          0.87,
          0.98,
          0.525,
          1.155,
          0.975,
          0.98,
          0.98,
          0.55,
          1.005,
          0.98,
          0.96,
          0.785,
          0.995,
          0.9,
          1.38,
          0.825,
          0.83,
          0.93,
          1.17,
          1.11
         ],
         "yaxis": "y"
        },
        {
         "hovertemplate": "<b>LOWESS trendline</b><br><br>durationGT=%{x}<br>durationOut=%{y} <b>(trend)</b><extra></extra>",
         "legendgroup": "",
         "marker": {
          "color": "#636efa",
          "symbol": "circle"
         },
         "mode": "lines",
         "name": "",
         "showlegend": false,
         "type": "scatter",
         "x": [
          0.5,
          0.5,
          0.52,
          0.52,
          0.52,
          0.54,
          0.54,
          0.54,
          0.54,
          0.54,
          0.57,
          0.57,
          0.59,
          0.59,
          0.59,
          0.59,
          0.59,
          0.61,
          0.61,
          0.61,
          0.65,
          0.66,
          0.67,
          0.7,
          0.72,
          0.72,
          0.78,
          0.8,
          0.8,
          0.83,
          0.85,
          0.85,
          0.87,
          0.89,
          0.97,
          1,
          1,
          1,
          1,
          1,
          1,
          1,
          1,
          1,
          1,
          1,
          1,
          1,
          1,
          1,
          1,
          1,
          1,
          1,
          1,
          1,
          1,
          1,
          1,
          1,
          1,
          1,
          1,
          1,
          1,
          1,
          1,
          1,
          1,
          1,
          1,
          1,
          1,
          1,
          1,
          1,
          1,
          1,
          1,
          1,
          1,
          1,
          1,
          1,
          1,
          1,
          1,
          1,
          1,
          1,
          1,
          1,
          1,
          1,
          1,
          1,
          1,
          1,
          1,
          1,
          1,
          1,
          1,
          1,
          1,
          1,
          1,
          1,
          1,
          1,
          1,
          1,
          1,
          1,
          1,
          1,
          1,
          1,
          1,
          1,
          1,
          1,
          1,
          1,
          1,
          1,
          1,
          1,
          1,
          1,
          1,
          1,
          1,
          1,
          1,
          1,
          1,
          1,
          1,
          1,
          1,
          1,
          1,
          1,
          1,
          1,
          1,
          1,
          1,
          1,
          1,
          1,
          1,
          1,
          1,
          1,
          1,
          1,
          1,
          1,
          1,
          1,
          1,
          1,
          1,
          1,
          1,
          1,
          1,
          1,
          1,
          1,
          1,
          1,
          1,
          1,
          1,
          1,
          1,
          1,
          1,
          1,
          1,
          1,
          1,
          1,
          1,
          1,
          1,
          1,
          1,
          1,
          1,
          1,
          1,
          1,
          1,
          1,
          1,
          1,
          1,
          1,
          1,
          1,
          1,
          1,
          1,
          1,
          1,
          1,
          1,
          1,
          1,
          1,
          1,
          1,
          1,
          1,
          1,
          1,
          1,
          1,
          1,
          1,
          1,
          1,
          1,
          1,
          1,
          1,
          1,
          1,
          1,
          1,
          1,
          1,
          1,
          1,
          1,
          1,
          1,
          1,
          1,
          1,
          1,
          1,
          1,
          1,
          1,
          1,
          1,
          1,
          1,
          1,
          1,
          1,
          1,
          1,
          1,
          1,
          1,
          1,
          1,
          1,
          1,
          1,
          1,
          1,
          1,
          1,
          1,
          1,
          1,
          1,
          1,
          1,
          1,
          1,
          1,
          1,
          1,
          1,
          1,
          1,
          1,
          1,
          1,
          1.01,
          1.015,
          1.015,
          1.02,
          1.02,
          1.02,
          1.025,
          1.03,
          1.03,
          1.04,
          1.04,
          1.045,
          1.05,
          1.055,
          1.06,
          1.06,
          1.06,
          1.065,
          1.065,
          1.07,
          1.07,
          1.07,
          1.075,
          1.08,
          1.08,
          1.09,
          1.09,
          1.1,
          1.1,
          1.135,
          1.14,
          1.15,
          1.15,
          1.15,
          1.16,
          1.16,
          1.165,
          1.17,
          1.18,
          1.185,
          1.19,
          1.19,
          1.19,
          1.2,
          1.24,
          1.24,
          1.24,
          1.245,
          1.26,
          1.26,
          1.28,
          1.28,
          1.35,
          1.355,
          1.38,
          1.395,
          1.395,
          1.4,
          1.46,
          1.46,
          1.58,
          1.63,
          1.72
         ],
         "xaxis": "x",
         "y": [
          0.7735453049714691,
          0.7735453049714691,
          0.7750255856154742,
          0.7750255856154742,
          0.7750255856154742,
          0.7770120404686238,
          0.7770120404686238,
          0.7770120404686238,
          0.7770120404686238,
          0.7770120404686238,
          0.7813410114602953,
          0.7813410114602953,
          0.7853160308088689,
          0.7853160308088689,
          0.7853160308088689,
          0.7853160308088689,
          0.7853160308088689,
          0.7902777899173242,
          0.7902777899173242,
          0.7902777899173242,
          0.8031128250674945,
          0.8068700060421655,
          0.8108110606612465,
          0.8235053471636323,
          0.8322638808935822,
          0.8322638808935822,
          0.8620341865136206,
          0.8942945352603384,
          0.8942945352603384,
          0.9787604004235346,
          1.0507279072636204,
          1.0507279072636204,
          1.118007736011481,
          1.1431673545436796,
          0.8,
          1.18,
          1.18,
          1.18,
          1.18,
          1.18,
          1.18,
          1.18,
          1.18,
          1.18,
          1.18,
          1.18,
          1.18,
          1.18,
          1.18,
          1.18,
          1.18,
          1.18,
          1.18,
          1.18,
          1.18,
          1.18,
          1.18,
          1.18,
          1.18,
          1.18,
          1.18,
          1.18,
          1.18,
          1.18,
          1.18,
          1.18,
          1.18,
          1.18,
          1.18,
          1.18,
          1.18,
          1.18,
          1.18,
          1.18,
          1.18,
          1.18,
          1.18,
          1.18,
          1.18,
          1.18,
          1.18,
          1.18,
          1.18,
          1.18,
          1.18,
          1.18,
          1.18,
          1.18,
          1.18,
          1.18,
          1.18,
          1.18,
          1.18,
          1.18,
          1.18,
          1.18,
          1.18,
          1.18,
          1.18,
          1.18,
          1.18,
          1.18,
          1.18,
          1.18,
          1.18,
          1.18,
          1.18,
          1.18,
          1.18,
          1.18,
          1.18,
          1.18,
          1.18,
          1.18,
          1.18,
          1.18,
          1.18,
          1.18,
          1.18,
          1.18,
          1.18,
          1.18,
          1.18,
          1.18,
          1.18,
          1.18,
          1.18,
          1.18,
          1.18,
          1.18,
          1.18,
          1.18,
          1.18,
          1.18,
          1.18,
          1.18,
          1.18,
          1.18,
          1.18,
          1.18,
          1.18,
          1.18,
          1.18,
          1.18,
          1.18,
          1.18,
          1.18,
          1.18,
          1.18,
          1.18,
          1.18,
          1.18,
          1.18,
          1.18,
          1.18,
          1.18,
          1.18,
          1.18,
          1.18,
          1.18,
          1.18,
          1.18,
          1.18,
          1.18,
          1.18,
          1.18,
          1.18,
          1.18,
          1.18,
          1.18,
          1.18,
          1.18,
          1.18,
          1.18,
          1.18,
          1.18,
          1.18,
          1.18,
          1.18,
          1.18,
          1.18,
          1.18,
          1.18,
          1.18,
          1.18,
          1.18,
          1.18,
          1.18,
          1.18,
          1.18,
          1.18,
          1.18,
          1.18,
          1.18,
          1.18,
          1.18,
          1.18,
          1.18,
          1.18,
          1.18,
          1.18,
          1.18,
          1.18,
          1.18,
          1.18,
          1.18,
          1.18,
          1.18,
          1.18,
          1.18,
          1.18,
          1.18,
          1.18,
          1.18,
          1.18,
          1.18,
          1.18,
          1.18,
          1.18,
          1.18,
          1.18,
          1.18,
          1.18,
          1.18,
          1.18,
          1.18,
          1.18,
          1.18,
          1.18,
          1.18,
          1.18,
          1.18,
          1.18,
          1.18,
          1.18,
          1.18,
          1.18,
          1.18,
          1.18,
          1.18,
          1.18,
          1.18,
          1.18,
          1.18,
          1.18,
          1.18,
          1.18,
          1.18,
          1.18,
          1.18,
          1.18,
          1.18,
          1.18,
          1.18,
          1.18,
          1.18,
          1.18,
          1.18,
          1.18,
          1.18,
          1.18,
          1.18,
          1.18,
          1.18,
          1.18,
          1.18,
          1.18,
          1.18,
          1.18,
          1.18,
          1.18,
          1.18,
          1.18,
          1.18,
          1.18,
          1.18,
          1.18,
          1.18,
          1.18,
          1.18,
          1.18,
          1.18,
          1.18,
          1.18,
          1.18,
          1.18,
          1.18,
          1.134999999999962,
          0.977651544294959,
          0.977651544294959,
          0.9614301538115819,
          0.9614301538115819,
          0.9614301538115819,
          0.9542105221062324,
          0.9194589102329447,
          0.9194589102329447,
          0.9265730377605473,
          0.9265730377605473,
          0.9366874388217717,
          0.9399205593900781,
          0.9378330432485299,
          0.940068312235993,
          0.940068312235993,
          0.940068312235993,
          0.9459216130558303,
          0.9459216130558303,
          0.9536954091165848,
          0.9536954091165848,
          0.9536954091165848,
          0.9626061259383649,
          0.9753247579982075,
          0.9753247579982075,
          1.0077991823238073,
          1.0077991823238073,
          1.028449953423511,
          1.028449953423511,
          1.0314871234681284,
          1.0243511180358764,
          1.0122264267302021,
          1.0122264267302021,
          1.0122264267302021,
          1.0074178833359477,
          1.0074178833359477,
          1.006921468500181,
          1.0071162712564308,
          1.0086608238887744,
          1.0103295080061705,
          1.012787956398846,
          1.012787956398846,
          1.012787956398846,
          1.0198082472497552,
          1.0678319337550273,
          1.0678319337550273,
          1.0678319337550273,
          1.0735958377758894,
          1.0893831887636274,
          1.0893831887636274,
          1.1078720599452991,
          1.1078720599452991,
          1.1660629943747178,
          1.171132793104583,
          1.1980149960437376,
          1.2137131046594005,
          1.2137131046594005,
          1.2187627765862832,
          1.2748064360967868,
          1.2748064360967868,
          1.3821558326263148,
          1.4271848683073682,
          1.5086949952552167
         ],
         "yaxis": "y"
        }
       ],
       "layout": {
        "legend": {
         "tracegroupgap": 0
        },
        "margin": {
         "t": 60
        },
        "template": {
         "data": {
          "bar": [
           {
            "error_x": {
             "color": "#2a3f5f"
            },
            "error_y": {
             "color": "#2a3f5f"
            },
            "marker": {
             "line": {
              "color": "#E5ECF6",
              "width": 0.5
             },
             "pattern": {
              "fillmode": "overlay",
              "size": 10,
              "solidity": 0.2
             }
            },
            "type": "bar"
           }
          ],
          "barpolar": [
           {
            "marker": {
             "line": {
              "color": "#E5ECF6",
              "width": 0.5
             },
             "pattern": {
              "fillmode": "overlay",
              "size": 10,
              "solidity": 0.2
             }
            },
            "type": "barpolar"
           }
          ],
          "carpet": [
           {
            "aaxis": {
             "endlinecolor": "#2a3f5f",
             "gridcolor": "white",
             "linecolor": "white",
             "minorgridcolor": "white",
             "startlinecolor": "#2a3f5f"
            },
            "baxis": {
             "endlinecolor": "#2a3f5f",
             "gridcolor": "white",
             "linecolor": "white",
             "minorgridcolor": "white",
             "startlinecolor": "#2a3f5f"
            },
            "type": "carpet"
           }
          ],
          "choropleth": [
           {
            "colorbar": {
             "outlinewidth": 0,
             "ticks": ""
            },
            "type": "choropleth"
           }
          ],
          "contour": [
           {
            "colorbar": {
             "outlinewidth": 0,
             "ticks": ""
            },
            "colorscale": [
             [
              0,
              "#0d0887"
             ],
             [
              0.1111111111111111,
              "#46039f"
             ],
             [
              0.2222222222222222,
              "#7201a8"
             ],
             [
              0.3333333333333333,
              "#9c179e"
             ],
             [
              0.4444444444444444,
              "#bd3786"
             ],
             [
              0.5555555555555556,
              "#d8576b"
             ],
             [
              0.6666666666666666,
              "#ed7953"
             ],
             [
              0.7777777777777778,
              "#fb9f3a"
             ],
             [
              0.8888888888888888,
              "#fdca26"
             ],
             [
              1,
              "#f0f921"
             ]
            ],
            "type": "contour"
           }
          ],
          "contourcarpet": [
           {
            "colorbar": {
             "outlinewidth": 0,
             "ticks": ""
            },
            "type": "contourcarpet"
           }
          ],
          "heatmap": [
           {
            "colorbar": {
             "outlinewidth": 0,
             "ticks": ""
            },
            "colorscale": [
             [
              0,
              "#0d0887"
             ],
             [
              0.1111111111111111,
              "#46039f"
             ],
             [
              0.2222222222222222,
              "#7201a8"
             ],
             [
              0.3333333333333333,
              "#9c179e"
             ],
             [
              0.4444444444444444,
              "#bd3786"
             ],
             [
              0.5555555555555556,
              "#d8576b"
             ],
             [
              0.6666666666666666,
              "#ed7953"
             ],
             [
              0.7777777777777778,
              "#fb9f3a"
             ],
             [
              0.8888888888888888,
              "#fdca26"
             ],
             [
              1,
              "#f0f921"
             ]
            ],
            "type": "heatmap"
           }
          ],
          "heatmapgl": [
           {
            "colorbar": {
             "outlinewidth": 0,
             "ticks": ""
            },
            "colorscale": [
             [
              0,
              "#0d0887"
             ],
             [
              0.1111111111111111,
              "#46039f"
             ],
             [
              0.2222222222222222,
              "#7201a8"
             ],
             [
              0.3333333333333333,
              "#9c179e"
             ],
             [
              0.4444444444444444,
              "#bd3786"
             ],
             [
              0.5555555555555556,
              "#d8576b"
             ],
             [
              0.6666666666666666,
              "#ed7953"
             ],
             [
              0.7777777777777778,
              "#fb9f3a"
             ],
             [
              0.8888888888888888,
              "#fdca26"
             ],
             [
              1,
              "#f0f921"
             ]
            ],
            "type": "heatmapgl"
           }
          ],
          "histogram": [
           {
            "marker": {
             "pattern": {
              "fillmode": "overlay",
              "size": 10,
              "solidity": 0.2
             }
            },
            "type": "histogram"
           }
          ],
          "histogram2d": [
           {
            "colorbar": {
             "outlinewidth": 0,
             "ticks": ""
            },
            "colorscale": [
             [
              0,
              "#0d0887"
             ],
             [
              0.1111111111111111,
              "#46039f"
             ],
             [
              0.2222222222222222,
              "#7201a8"
             ],
             [
              0.3333333333333333,
              "#9c179e"
             ],
             [
              0.4444444444444444,
              "#bd3786"
             ],
             [
              0.5555555555555556,
              "#d8576b"
             ],
             [
              0.6666666666666666,
              "#ed7953"
             ],
             [
              0.7777777777777778,
              "#fb9f3a"
             ],
             [
              0.8888888888888888,
              "#fdca26"
             ],
             [
              1,
              "#f0f921"
             ]
            ],
            "type": "histogram2d"
           }
          ],
          "histogram2dcontour": [
           {
            "colorbar": {
             "outlinewidth": 0,
             "ticks": ""
            },
            "colorscale": [
             [
              0,
              "#0d0887"
             ],
             [
              0.1111111111111111,
              "#46039f"
             ],
             [
              0.2222222222222222,
              "#7201a8"
             ],
             [
              0.3333333333333333,
              "#9c179e"
             ],
             [
              0.4444444444444444,
              "#bd3786"
             ],
             [
              0.5555555555555556,
              "#d8576b"
             ],
             [
              0.6666666666666666,
              "#ed7953"
             ],
             [
              0.7777777777777778,
              "#fb9f3a"
             ],
             [
              0.8888888888888888,
              "#fdca26"
             ],
             [
              1,
              "#f0f921"
             ]
            ],
            "type": "histogram2dcontour"
           }
          ],
          "mesh3d": [
           {
            "colorbar": {
             "outlinewidth": 0,
             "ticks": ""
            },
            "type": "mesh3d"
           }
          ],
          "parcoords": [
           {
            "line": {
             "colorbar": {
              "outlinewidth": 0,
              "ticks": ""
             }
            },
            "type": "parcoords"
           }
          ],
          "pie": [
           {
            "automargin": true,
            "type": "pie"
           }
          ],
          "scatter": [
           {
            "fillpattern": {
             "fillmode": "overlay",
             "size": 10,
             "solidity": 0.2
            },
            "type": "scatter"
           }
          ],
          "scatter3d": [
           {
            "line": {
             "colorbar": {
              "outlinewidth": 0,
              "ticks": ""
             }
            },
            "marker": {
             "colorbar": {
              "outlinewidth": 0,
              "ticks": ""
             }
            },
            "type": "scatter3d"
           }
          ],
          "scattercarpet": [
           {
            "marker": {
             "colorbar": {
              "outlinewidth": 0,
              "ticks": ""
             }
            },
            "type": "scattercarpet"
           }
          ],
          "scattergeo": [
           {
            "marker": {
             "colorbar": {
              "outlinewidth": 0,
              "ticks": ""
             }
            },
            "type": "scattergeo"
           }
          ],
          "scattergl": [
           {
            "marker": {
             "colorbar": {
              "outlinewidth": 0,
              "ticks": ""
             }
            },
            "type": "scattergl"
           }
          ],
          "scattermapbox": [
           {
            "marker": {
             "colorbar": {
              "outlinewidth": 0,
              "ticks": ""
             }
            },
            "type": "scattermapbox"
           }
          ],
          "scatterpolar": [
           {
            "marker": {
             "colorbar": {
              "outlinewidth": 0,
              "ticks": ""
             }
            },
            "type": "scatterpolar"
           }
          ],
          "scatterpolargl": [
           {
            "marker": {
             "colorbar": {
              "outlinewidth": 0,
              "ticks": ""
             }
            },
            "type": "scatterpolargl"
           }
          ],
          "scatterternary": [
           {
            "marker": {
             "colorbar": {
              "outlinewidth": 0,
              "ticks": ""
             }
            },
            "type": "scatterternary"
           }
          ],
          "surface": [
           {
            "colorbar": {
             "outlinewidth": 0,
             "ticks": ""
            },
            "colorscale": [
             [
              0,
              "#0d0887"
             ],
             [
              0.1111111111111111,
              "#46039f"
             ],
             [
              0.2222222222222222,
              "#7201a8"
             ],
             [
              0.3333333333333333,
              "#9c179e"
             ],
             [
              0.4444444444444444,
              "#bd3786"
             ],
             [
              0.5555555555555556,
              "#d8576b"
             ],
             [
              0.6666666666666666,
              "#ed7953"
             ],
             [
              0.7777777777777778,
              "#fb9f3a"
             ],
             [
              0.8888888888888888,
              "#fdca26"
             ],
             [
              1,
              "#f0f921"
             ]
            ],
            "type": "surface"
           }
          ],
          "table": [
           {
            "cells": {
             "fill": {
              "color": "#EBF0F8"
             },
             "line": {
              "color": "white"
             }
            },
            "header": {
             "fill": {
              "color": "#C8D4E3"
             },
             "line": {
              "color": "white"
             }
            },
            "type": "table"
           }
          ]
         },
         "layout": {
          "annotationdefaults": {
           "arrowcolor": "#2a3f5f",
           "arrowhead": 0,
           "arrowwidth": 1
          },
          "autotypenumbers": "strict",
          "coloraxis": {
           "colorbar": {
            "outlinewidth": 0,
            "ticks": ""
           }
          },
          "colorscale": {
           "diverging": [
            [
             0,
             "#8e0152"
            ],
            [
             0.1,
             "#c51b7d"
            ],
            [
             0.2,
             "#de77ae"
            ],
            [
             0.3,
             "#f1b6da"
            ],
            [
             0.4,
             "#fde0ef"
            ],
            [
             0.5,
             "#f7f7f7"
            ],
            [
             0.6,
             "#e6f5d0"
            ],
            [
             0.7,
             "#b8e186"
            ],
            [
             0.8,
             "#7fbc41"
            ],
            [
             0.9,
             "#4d9221"
            ],
            [
             1,
             "#276419"
            ]
           ],
           "sequential": [
            [
             0,
             "#0d0887"
            ],
            [
             0.1111111111111111,
             "#46039f"
            ],
            [
             0.2222222222222222,
             "#7201a8"
            ],
            [
             0.3333333333333333,
             "#9c179e"
            ],
            [
             0.4444444444444444,
             "#bd3786"
            ],
            [
             0.5555555555555556,
             "#d8576b"
            ],
            [
             0.6666666666666666,
             "#ed7953"
            ],
            [
             0.7777777777777778,
             "#fb9f3a"
            ],
            [
             0.8888888888888888,
             "#fdca26"
            ],
            [
             1,
             "#f0f921"
            ]
           ],
           "sequentialminus": [
            [
             0,
             "#0d0887"
            ],
            [
             0.1111111111111111,
             "#46039f"
            ],
            [
             0.2222222222222222,
             "#7201a8"
            ],
            [
             0.3333333333333333,
             "#9c179e"
            ],
            [
             0.4444444444444444,
             "#bd3786"
            ],
            [
             0.5555555555555556,
             "#d8576b"
            ],
            [
             0.6666666666666666,
             "#ed7953"
            ],
            [
             0.7777777777777778,
             "#fb9f3a"
            ],
            [
             0.8888888888888888,
             "#fdca26"
            ],
            [
             1,
             "#f0f921"
            ]
           ]
          },
          "colorway": [
           "#636efa",
           "#EF553B",
           "#00cc96",
           "#ab63fa",
           "#FFA15A",
           "#19d3f3",
           "#FF6692",
           "#B6E880",
           "#FF97FF",
           "#FECB52"
          ],
          "font": {
           "color": "#2a3f5f"
          },
          "geo": {
           "bgcolor": "white",
           "lakecolor": "white",
           "landcolor": "#E5ECF6",
           "showlakes": true,
           "showland": true,
           "subunitcolor": "white"
          },
          "hoverlabel": {
           "align": "left"
          },
          "hovermode": "closest",
          "mapbox": {
           "style": "light"
          },
          "paper_bgcolor": "white",
          "plot_bgcolor": "#E5ECF6",
          "polar": {
           "angularaxis": {
            "gridcolor": "white",
            "linecolor": "white",
            "ticks": ""
           },
           "bgcolor": "#E5ECF6",
           "radialaxis": {
            "gridcolor": "white",
            "linecolor": "white",
            "ticks": ""
           }
          },
          "scene": {
           "xaxis": {
            "backgroundcolor": "#E5ECF6",
            "gridcolor": "white",
            "gridwidth": 2,
            "linecolor": "white",
            "showbackground": true,
            "ticks": "",
            "zerolinecolor": "white"
           },
           "yaxis": {
            "backgroundcolor": "#E5ECF6",
            "gridcolor": "white",
            "gridwidth": 2,
            "linecolor": "white",
            "showbackground": true,
            "ticks": "",
            "zerolinecolor": "white"
           },
           "zaxis": {
            "backgroundcolor": "#E5ECF6",
            "gridcolor": "white",
            "gridwidth": 2,
            "linecolor": "white",
            "showbackground": true,
            "ticks": "",
            "zerolinecolor": "white"
           }
          },
          "shapedefaults": {
           "line": {
            "color": "#2a3f5f"
           }
          },
          "ternary": {
           "aaxis": {
            "gridcolor": "white",
            "linecolor": "white",
            "ticks": ""
           },
           "baxis": {
            "gridcolor": "white",
            "linecolor": "white",
            "ticks": ""
           },
           "bgcolor": "#E5ECF6",
           "caxis": {
            "gridcolor": "white",
            "linecolor": "white",
            "ticks": ""
           }
          },
          "title": {
           "x": 0.05
          },
          "xaxis": {
           "automargin": true,
           "gridcolor": "white",
           "linecolor": "white",
           "ticks": "",
           "title": {
            "standoff": 15
           },
           "zerolinecolor": "white",
           "zerolinewidth": 2
          },
          "yaxis": {
           "automargin": true,
           "gridcolor": "white",
           "linecolor": "white",
           "ticks": "",
           "title": {
            "standoff": 15
           },
           "zerolinecolor": "white",
           "zerolinewidth": 2
          }
         }
        },
        "xaxis": {
         "anchor": "y",
         "domain": [
          0,
          1
         ],
         "title": {
          "text": "durationGT"
         }
        },
        "yaxis": {
         "anchor": "x",
         "domain": [
          0,
          1
         ],
         "title": {
          "text": "durationOut"
         }
        }
       }
      }
     },
     "metadata": {},
     "output_type": "display_data"
    }
   ],
   "source": [
    "px.scatter(allTablesOut[allTablesOut.tp],x=\"durationGT\",y=\"durationOut\",trendline=\"lowess\")"
   ]
  },
  {
   "cell_type": "code",
   "execution_count": 20,
   "metadata": {},
   "outputs": [],
   "source": [
    "result=sst.linregress(allTablesOut[allTablesOut.tp].durationGT,allTablesOut[allTablesOut.tp].durationOut)"
   ]
  },
  {
   "cell_type": "code",
   "execution_count": 21,
   "metadata": {},
   "outputs": [
    {
     "data": {
      "text/plain": [
       "LinregressResult(slope=0.48271244376282285, intercept=0.49092537842604667, rvalue=0.22847135089185153, pvalue=1.5871004022183785e-05, stderr=0.11026194982058111, intercept_stderr=0.11131037259796843)"
      ]
     },
     "execution_count": 21,
     "metadata": {},
     "output_type": "execute_result"
    }
   ],
   "source": [
    "result"
   ]
  },
  {
   "cell_type": "code",
   "execution_count": 22,
   "metadata": {},
   "outputs": [
    {
     "data": {
      "text/plain": [
       "1.5871004022183785e-05"
      ]
     },
     "execution_count": 22,
     "metadata": {},
     "output_type": "execute_result"
    }
   ],
   "source": [
    "result.pvalue"
   ]
  },
  {
   "cell_type": "code",
   "execution_count": 36,
   "metadata": {},
   "outputs": [
    {
     "data": {
      "image/png": "[encoded data removed]",
      "text/plain": [
       "<Figure size 640x480 with 1 Axes>"
      ]
     },
     "metadata": {},
     "output_type": "display_data"
    }
   ],
   "source": [
    "plt.plot(allTablesOut[allTablesOut.tp].durationGT,allTablesOut[allTablesOut.tp].durationOut,linestyle='',marker='o',color='black',alpha=0.5,label='experimental')\n",
    "plt.plot(allTablesOut[allTablesOut.tp].durationGT, result.intercept + result.slope*np.array(allTablesOut[allTablesOut.tp].durationGT), 'b', label='fitted line',linestyle='--')\n",
    "plt.legend()\n",
    "plt.xlabel(\"duration of annotation (s)\")\n",
    "plt.ylabel(\"duration of detection (s)\")\n",
    "plt.title(\"DREAMS database\")\n",
    "plt.show()"
   ]
  },
  {
   "attachments": {},
   "cell_type": "markdown",
   "metadata": {},
   "source": [
    "### Correlation of number of detections"
   ]
  },
  {
   "cell_type": "code",
   "execution_count": 24,
   "metadata": {},
   "outputs": [],
   "source": [
    "detectionNumber=list(map(lambda x: len(x),allDetections))\n",
    "annotationNumber=list(map(lambda x: len(x),allAnnotations))"
   ]
  },
  {
   "cell_type": "code",
   "execution_count": 25,
   "metadata": {},
   "outputs": [
    {
     "data": {
      "text/plain": [
       "LinregressResult(slope=0.92110532639167, intercept=9.294993992791348, rvalue=0.9239961802966968, pvalue=0.024864105516648836, stderr=0.220088982532444, intercept_stderr=22.03507327728206)"
      ]
     },
     "execution_count": 25,
     "metadata": {},
     "output_type": "execute_result"
    }
   ],
   "source": [
    "res=sst.linregress(annotationNumber,detectionNumber)\n",
    "res"
   ]
  },
  {
   "cell_type": "code",
   "execution_count": 26,
   "metadata": {},
   "outputs": [
    {
     "data": {
      "text/plain": [
       "0.024864105516648836"
      ]
     },
     "execution_count": 26,
     "metadata": {},
     "output_type": "execute_result"
    }
   ],
   "source": [
    "res.pvalue"
   ]
  },
  {
   "cell_type": "code",
   "execution_count": 27,
   "metadata": {},
   "outputs": [
    {
     "data": {
      "image/png": "[encoded data removed]",
      "text/plain": [
       "<Figure size 640x480 with 1 Axes>"
      ]
     },
     "metadata": {},
     "output_type": "display_data"
    }
   ],
   "source": [
    "plt.plot(annotationNumber,detectionNumber,linestyle='',marker='o',color='black',alpha=0.5,label='experimental')\n",
    "plt.plot(annotationNumber, res.intercept + res.slope*np.array(annotationNumber), 'b', linestyle='--', label='fitted line')\n",
    "plt.legend()\n",
    "plt.show()\n"
   ]
  },
  {
   "cell_type": "markdown",
   "metadata": {},
   "source": [
    "### Correlations of density of spindles"
   ]
  },
  {
   "cell_type": "code",
   "execution_count": 28,
   "metadata": {},
   "outputs": [
    {
     "data": {
      "text/html": [
       "<div>\n",
       "<style scoped>\n",
       "    .dataframe tbody tr th:only-of-type {\n",
       "        vertical-align: middle;\n",
       "    }\n",
       "\n",
       "    .dataframe tbody tr th {\n",
       "        vertical-align: top;\n",
       "    }\n",
       "\n",
       "    .dataframe thead th {\n",
       "        text-align: right;\n",
       "    }\n",
       "</style>\n",
       "<table border=\"1\" class=\"dataframe\">\n",
       "  <thead>\n",
       "    <tr style=\"text-align: right;\">\n",
       "      <th></th>\n",
       "      <th>filename</th>\n",
       "      <th>channel</th>\n",
       "      <th>subjectId</th>\n",
       "      <th>duration</th>\n",
       "      <th>samplerate</th>\n",
       "      <th>database</th>\n",
       "    </tr>\n",
       "  </thead>\n",
       "  <tbody>\n",
       "    <tr>\n",
       "      <th>0</th>\n",
       "      <td>excerpt1.txt</td>\n",
       "      <td>C3-A1</td>\n",
       "      <td>0001</td>\n",
       "      <td>1800</td>\n",
       "      <td>200</td>\n",
       "      <td>DREAMS</td>\n",
       "    </tr>\n",
       "    <tr>\n",
       "      <th>1</th>\n",
       "      <td>excerpt2.txt</td>\n",
       "      <td>CZ-A1</td>\n",
       "      <td>0002</td>\n",
       "      <td>1800</td>\n",
       "      <td>200</td>\n",
       "      <td>DREAMS</td>\n",
       "    </tr>\n",
       "    <tr>\n",
       "      <th>2</th>\n",
       "      <td>excerpt3.txt</td>\n",
       "      <td>C3-A1</td>\n",
       "      <td>0003</td>\n",
       "      <td>1800</td>\n",
       "      <td>200</td>\n",
       "      <td>DREAMS</td>\n",
       "    </tr>\n",
       "    <tr>\n",
       "      <th>3</th>\n",
       "      <td>excerpt4.txt</td>\n",
       "      <td>CZ-A1</td>\n",
       "      <td>0004</td>\n",
       "      <td>1800</td>\n",
       "      <td>200</td>\n",
       "      <td>DREAMS</td>\n",
       "    </tr>\n",
       "    <tr>\n",
       "      <th>4</th>\n",
       "      <td>excerpt5.txt</td>\n",
       "      <td>CZ-A1</td>\n",
       "      <td>0005</td>\n",
       "      <td>1800</td>\n",
       "      <td>200</td>\n",
       "      <td>DREAMS</td>\n",
       "    </tr>\n",
       "  </tbody>\n",
       "</table>\n",
       "</div>"
      ],
      "text/plain": [
       "       filename channel subjectId  duration  samplerate database\n",
       "0  excerpt1.txt   C3-A1      0001      1800         200   DREAMS\n",
       "1  excerpt2.txt   CZ-A1      0002      1800         200   DREAMS\n",
       "2  excerpt3.txt   C3-A1      0003      1800         200   DREAMS\n",
       "3  excerpt4.txt   CZ-A1      0004      1800         200   DREAMS\n",
       "4  excerpt5.txt   CZ-A1      0005      1800         200   DREAMS"
      ]
     },
     "execution_count": 28,
     "metadata": {},
     "output_type": "execute_result"
    }
   ],
   "source": [
    "signalsMetadata.head()"
   ]
  },
  {
   "cell_type": "code",
   "execution_count": 29,
   "metadata": {},
   "outputs": [],
   "source": [
    "durations=signalsMetadata.duration"
   ]
  },
  {
   "cell_type": "code",
   "execution_count": 30,
   "metadata": {},
   "outputs": [],
   "source": [
    "detectionDensity=list(map(lambda x: len(x[0])/(x[1]/3600),zip(allDetections,durations)))\n",
    "annotationDensity=list(map(lambda x: len(x[0])/(x[1]/3600),zip(allAnnotations,durations)))"
   ]
  },
  {
   "cell_type": "code",
   "execution_count": 31,
   "metadata": {},
   "outputs": [
    {
     "name": "stdout",
     "output_type": "stream",
     "text": [
      "LinregressResult(slope=0.92110532639167, intercept=18.589987985582695, rvalue=0.9239961802966968, pvalue=0.024864105516648836, stderr=0.220088982532444, intercept_stderr=44.07014655456412)\n"
     ]
    }
   ],
   "source": [
    "res=sst.linregress(annotationDensity,detectionDensity)\n",
    "print(res)"
   ]
  },
  {
   "cell_type": "code",
   "execution_count": 38,
   "metadata": {},
   "outputs": [
    {
     "data": {
      "image/png": "[encoded data removed]",
      "text/plain": [
       "<Figure size 640x480 with 1 Axes>"
      ]
     },
     "metadata": {},
     "output_type": "display_data"
    }
   ],
   "source": [
    "plt.plot(annotationDensity,detectionDensity,linestyle='',marker='o',color='black',alpha=0.5,label='experimental')\n",
    "plt.plot(annotationDensity, res.intercept + res.slope*np.array(annotationDensity), 'b',linestyle='--', label='fitted')\n",
    "plt.legend()\n",
    "plt.xlabel(\"density of spindles annotated  (events/h)\")\n",
    "plt.ylabel(\"density of spindles detected  (events/h)\")\n",
    "plt.title(\"DREAMS database\")\n",
    "plt.show()"
   ]
  },
  {
   "cell_type": "code",
   "execution_count": null,
   "metadata": {},
   "outputs": [],
   "source": []
  }
 ],
 "metadata": {
  "kernelspec": {
   "display_name": "Python 3.10.6 ('venv': venv)",
   "language": "python",
   "name": "python3"
  },
  "language_info": {
   "codemirror_mode": {
    "name": "ipython",
    "version": 3
   },
   "file_extension": ".py",
   "mimetype": "text/x-python",
   "name": "python",
   "nbconvert_exporter": "python",
   "pygments_lexer": "ipython3",
   "version": "3.10.6"
  },
  "orig_nbformat": 4,
  "vscode": {
   "interpreter": {
    "hash": "69eb08d3e713eff25484e90b18c01e15df779e80a0db295f9ddc53faed0455be"
   }
  }
 },
 "nbformat": 4,
 "nbformat_minor": 2
}
