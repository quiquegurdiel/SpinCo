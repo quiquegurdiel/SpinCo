{
 "cells": [
  {
   "attachments": {},
   "cell_type": "markdown",
   "metadata": {},
   "source": [
    "# DATA SPLIT - testing the full approach - DREAMS\n",
    "saving models in a different folder using pickle, saving them in the dataframe causes xgboost to crash\n",
    "\n",
    "**DO NOT RUN AGAIN**"
   ]
  },
  {
   "cell_type": "code",
   "execution_count": 25,
   "metadata": {},
   "outputs": [],
   "source": [
    "#external libraries\n",
    "import numpy as np\n",
    "import os\n",
    "import matplotlib.pyplot as plt\n",
    "import matplotlib.colors as clt\n",
    "import plotly\n",
    "import plotly.subplots as sb\n",
    "import plotly.express as px\n",
    "import plotly.graph_objects as go\n",
    "import dotenv\n",
    "import pandas as pd\n",
    "import scipy.fft as fft\n",
    "import scipy.signal as sg\n",
    "import scipy.io as sio\n",
    "import pickle as pkl\n",
    "import xgboost as xgb\n",
    "import time\n",
    "import uuid\n",
    "\n",
    "#project library\n",
    "from spinco import *\n",
    "\n",
    "#environment variables\n",
    "dotenv.load_dotenv('lab.env')\n",
    "\n",
    "#project variables\n",
    "datapath=os.environ['DATAPATH']\n",
    "cognipath=datapath+\"/COGNITION\"\n",
    "dreamspath=datapath+\"/DREAMS\"\n",
    "masspath=datapath+\"/MASS\"\n"
   ]
  },
  {
   "cell_type": "markdown",
   "metadata": {},
   "source": [
    "## define a fixed samplerate"
   ]
  },
  {
   "cell_type": "code",
   "execution_count": 26,
   "metadata": {},
   "outputs": [],
   "source": [
    "samplerate=200"
   ]
  },
  {
   "attachments": {},
   "cell_type": "markdown",
   "metadata": {},
   "source": [
    "## load dreams"
   ]
  },
  {
   "cell_type": "code",
   "execution_count": 27,
   "metadata": {},
   "outputs": [
    {
     "name": "stdout",
     "output_type": "stream",
     "text": [
      "SubjectId: 0001--------------\n",
      "resampling from 100 to 200\n",
      "SubjectId: 0003--------------\n",
      "resampling from 50 to 200\n",
      "SubjectId: 0006--------------\n",
      "duration discrepancy, removing last 0.7 seconds\n"
     ]
    }
   ],
   "source": [
    "signals, annotations, signalsMetadata = loadDREAMSSpindles(dreamspath)"
   ]
  },
  {
   "cell_type": "code",
   "execution_count": 28,
   "metadata": {},
   "outputs": [],
   "source": [
    "annotations=annotations[annotations.type=='spindle'].reset_index(drop=True)"
   ]
  },
  {
   "cell_type": "code",
   "execution_count": 29,
   "metadata": {},
   "outputs": [
    {
     "data": {
      "text/html": [
       "<div>\n",
       "<style scoped>\n",
       "    .dataframe tbody tr th:only-of-type {\n",
       "        vertical-align: middle;\n",
       "    }\n",
       "\n",
       "    .dataframe tbody tr th {\n",
       "        vertical-align: top;\n",
       "    }\n",
       "\n",
       "    .dataframe thead th {\n",
       "        text-align: right;\n",
       "    }\n",
       "</style>\n",
       "<table border=\"1\" class=\"dataframe\">\n",
       "  <thead>\n",
       "    <tr style=\"text-align: right;\">\n",
       "      <th></th>\n",
       "      <th>index</th>\n",
       "      <th>startTime</th>\n",
       "      <th>duration</th>\n",
       "      <th>channel</th>\n",
       "      <th>subjectId</th>\n",
       "      <th>labelerId</th>\n",
       "      <th>type</th>\n",
       "      <th>samplerate</th>\n",
       "      <th>stopTime</th>\n",
       "      <th>startInd</th>\n",
       "      <th>stopInd</th>\n",
       "    </tr>\n",
       "  </thead>\n",
       "  <tbody>\n",
       "    <tr>\n",
       "      <th>0</th>\n",
       "      <td>0</td>\n",
       "      <td>282.24</td>\n",
       "      <td>0.72</td>\n",
       "      <td>C3-A1</td>\n",
       "      <td>0001</td>\n",
       "      <td>0001</td>\n",
       "      <td>spindle</td>\n",
       "      <td>200</td>\n",
       "      <td>282.96</td>\n",
       "      <td>56448</td>\n",
       "      <td>56592</td>\n",
       "    </tr>\n",
       "    <tr>\n",
       "      <th>1</th>\n",
       "      <td>1</td>\n",
       "      <td>311.72</td>\n",
       "      <td>1.54</td>\n",
       "      <td>C3-A1</td>\n",
       "      <td>0001</td>\n",
       "      <td>0001</td>\n",
       "      <td>spindle</td>\n",
       "      <td>200</td>\n",
       "      <td>313.26</td>\n",
       "      <td>62344</td>\n",
       "      <td>62652</td>\n",
       "    </tr>\n",
       "    <tr>\n",
       "      <th>2</th>\n",
       "      <td>2</td>\n",
       "      <td>340.28</td>\n",
       "      <td>0.72</td>\n",
       "      <td>C3-A1</td>\n",
       "      <td>0001</td>\n",
       "      <td>0001</td>\n",
       "      <td>spindle</td>\n",
       "      <td>200</td>\n",
       "      <td>341.00</td>\n",
       "      <td>68056</td>\n",
       "      <td>68200</td>\n",
       "    </tr>\n",
       "    <tr>\n",
       "      <th>3</th>\n",
       "      <td>3</td>\n",
       "      <td>366.83</td>\n",
       "      <td>0.65</td>\n",
       "      <td>C3-A1</td>\n",
       "      <td>0001</td>\n",
       "      <td>0001</td>\n",
       "      <td>spindle</td>\n",
       "      <td>200</td>\n",
       "      <td>367.48</td>\n",
       "      <td>73366</td>\n",
       "      <td>73496</td>\n",
       "    </tr>\n",
       "    <tr>\n",
       "      <th>4</th>\n",
       "      <td>4</td>\n",
       "      <td>373.74</td>\n",
       "      <td>0.50</td>\n",
       "      <td>C3-A1</td>\n",
       "      <td>0001</td>\n",
       "      <td>0001</td>\n",
       "      <td>spindle</td>\n",
       "      <td>200</td>\n",
       "      <td>374.24</td>\n",
       "      <td>74748</td>\n",
       "      <td>74848</td>\n",
       "    </tr>\n",
       "  </tbody>\n",
       "</table>\n",
       "</div>"
      ],
      "text/plain": [
       "   index  startTime  duration channel subjectId labelerId     type  \\\n",
       "0      0     282.24      0.72   C3-A1      0001      0001  spindle   \n",
       "1      1     311.72      1.54   C3-A1      0001      0001  spindle   \n",
       "2      2     340.28      0.72   C3-A1      0001      0001  spindle   \n",
       "3      3     366.83      0.65   C3-A1      0001      0001  spindle   \n",
       "4      4     373.74      0.50   C3-A1      0001      0001  spindle   \n",
       "\n",
       "   samplerate  stopTime  startInd  stopInd  \n",
       "0         200    282.96     56448    56592  \n",
       "1         200    313.26     62344    62652  \n",
       "2         200    341.00     68056    68200  \n",
       "3         200    367.48     73366    73496  \n",
       "4         200    374.24     74748    74848  "
      ]
     },
     "execution_count": 29,
     "metadata": {},
     "output_type": "execute_result"
    }
   ],
   "source": [
    "annotations.head()"
   ]
  },
  {
   "cell_type": "code",
   "execution_count": 30,
   "metadata": {},
   "outputs": [
    {
     "data": {
      "text/html": [
       "<div>\n",
       "<style scoped>\n",
       "    .dataframe tbody tr th:only-of-type {\n",
       "        vertical-align: middle;\n",
       "    }\n",
       "\n",
       "    .dataframe tbody tr th {\n",
       "        vertical-align: top;\n",
       "    }\n",
       "\n",
       "    .dataframe thead th {\n",
       "        text-align: right;\n",
       "    }\n",
       "</style>\n",
       "<table border=\"1\" class=\"dataframe\">\n",
       "  <thead>\n",
       "    <tr style=\"text-align: right;\">\n",
       "      <th></th>\n",
       "      <th>filename</th>\n",
       "      <th>channel</th>\n",
       "      <th>subjectId</th>\n",
       "      <th>duration</th>\n",
       "      <th>samplerate</th>\n",
       "      <th>database</th>\n",
       "    </tr>\n",
       "  </thead>\n",
       "  <tbody>\n",
       "    <tr>\n",
       "      <th>0</th>\n",
       "      <td>excerpt1.txt</td>\n",
       "      <td>C3-A1</td>\n",
       "      <td>0001</td>\n",
       "      <td>1800</td>\n",
       "      <td>200</td>\n",
       "      <td>DREAMS</td>\n",
       "    </tr>\n",
       "    <tr>\n",
       "      <th>1</th>\n",
       "      <td>excerpt2.txt</td>\n",
       "      <td>CZ-A1</td>\n",
       "      <td>0002</td>\n",
       "      <td>1800</td>\n",
       "      <td>200</td>\n",
       "      <td>DREAMS</td>\n",
       "    </tr>\n",
       "    <tr>\n",
       "      <th>2</th>\n",
       "      <td>excerpt3.txt</td>\n",
       "      <td>C3-A1</td>\n",
       "      <td>0003</td>\n",
       "      <td>1800</td>\n",
       "      <td>200</td>\n",
       "      <td>DREAMS</td>\n",
       "    </tr>\n",
       "    <tr>\n",
       "      <th>3</th>\n",
       "      <td>excerpt4.txt</td>\n",
       "      <td>CZ-A1</td>\n",
       "      <td>0004</td>\n",
       "      <td>1800</td>\n",
       "      <td>200</td>\n",
       "      <td>DREAMS</td>\n",
       "    </tr>\n",
       "    <tr>\n",
       "      <th>4</th>\n",
       "      <td>excerpt5.txt</td>\n",
       "      <td>CZ-A1</td>\n",
       "      <td>0005</td>\n",
       "      <td>1800</td>\n",
       "      <td>200</td>\n",
       "      <td>DREAMS</td>\n",
       "    </tr>\n",
       "    <tr>\n",
       "      <th>5</th>\n",
       "      <td>excerpt6.txt</td>\n",
       "      <td>CZ-A1</td>\n",
       "      <td>0006</td>\n",
       "      <td>1800</td>\n",
       "      <td>200</td>\n",
       "      <td>DREAMS</td>\n",
       "    </tr>\n",
       "    <tr>\n",
       "      <th>6</th>\n",
       "      <td>excerpt7.txt</td>\n",
       "      <td>CZ-A1</td>\n",
       "      <td>0007</td>\n",
       "      <td>1800</td>\n",
       "      <td>200</td>\n",
       "      <td>DREAMS</td>\n",
       "    </tr>\n",
       "    <tr>\n",
       "      <th>7</th>\n",
       "      <td>excerpt8.txt</td>\n",
       "      <td>CZ-A1</td>\n",
       "      <td>0008</td>\n",
       "      <td>1800</td>\n",
       "      <td>200</td>\n",
       "      <td>DREAMS</td>\n",
       "    </tr>\n",
       "  </tbody>\n",
       "</table>\n",
       "</div>"
      ],
      "text/plain": [
       "       filename channel subjectId  duration  samplerate database\n",
       "0  excerpt1.txt   C3-A1      0001      1800         200   DREAMS\n",
       "1  excerpt2.txt   CZ-A1      0002      1800         200   DREAMS\n",
       "2  excerpt3.txt   C3-A1      0003      1800         200   DREAMS\n",
       "3  excerpt4.txt   CZ-A1      0004      1800         200   DREAMS\n",
       "4  excerpt5.txt   CZ-A1      0005      1800         200   DREAMS\n",
       "5  excerpt6.txt   CZ-A1      0006      1800         200   DREAMS\n",
       "6  excerpt7.txt   CZ-A1      0007      1800         200   DREAMS\n",
       "7  excerpt8.txt   CZ-A1      0008      1800         200   DREAMS"
      ]
     },
     "execution_count": 30,
     "metadata": {},
     "output_type": "execute_result"
    }
   ],
   "source": [
    "signalsMetadata"
   ]
  },
  {
   "attachments": {},
   "cell_type": "markdown",
   "metadata": {},
   "source": [
    "## create data split\n",
    "LOOCV with 2 subjects for validation by fold"
   ]
  },
  {
   "cell_type": "code",
   "execution_count": 31,
   "metadata": {},
   "outputs": [
    {
     "data": {
      "text/plain": [
       "array(['0001', '0002', '0003', '0005', '0006'], dtype=object)"
      ]
     },
     "execution_count": 31,
     "metadata": {},
     "output_type": "execute_result"
    }
   ],
   "source": [
    "#define subjects used in the experiment, keep only annotated by two experts\n",
    "usedSubjects=np.array(signalsMetadata['subjectId'])\n",
    "usedSubjects=np.setdiff1d(usedSubjects,['0004','0007','0008'])\n",
    "usedSubjects"
   ]
  },
  {
   "cell_type": "code",
   "execution_count": 32,
   "metadata": {},
   "outputs": [
    {
     "data": {
      "text/html": [
       "<div>\n",
       "<style scoped>\n",
       "    .dataframe tbody tr th:only-of-type {\n",
       "        vertical-align: middle;\n",
       "    }\n",
       "\n",
       "    .dataframe tbody tr th {\n",
       "        vertical-align: top;\n",
       "    }\n",
       "\n",
       "    .dataframe thead th {\n",
       "        text-align: right;\n",
       "    }\n",
       "</style>\n",
       "<table border=\"1\" class=\"dataframe\">\n",
       "  <thead>\n",
       "    <tr style=\"text-align: right;\">\n",
       "      <th></th>\n",
       "      <th>train</th>\n",
       "      <th>val</th>\n",
       "      <th>test</th>\n",
       "    </tr>\n",
       "  </thead>\n",
       "  <tbody>\n",
       "    <tr>\n",
       "      <th>0</th>\n",
       "      <td>[0003, 0005, 0006]</td>\n",
       "      <td>[0002]</td>\n",
       "      <td>0001</td>\n",
       "    </tr>\n",
       "    <tr>\n",
       "      <th>1</th>\n",
       "      <td>[0001, 0003, 0005]</td>\n",
       "      <td>[0006]</td>\n",
       "      <td>0002</td>\n",
       "    </tr>\n",
       "    <tr>\n",
       "      <th>2</th>\n",
       "      <td>[0001, 0002, 0006]</td>\n",
       "      <td>[0005]</td>\n",
       "      <td>0003</td>\n",
       "    </tr>\n",
       "    <tr>\n",
       "      <th>3</th>\n",
       "      <td>[0001, 0002, 0006]</td>\n",
       "      <td>[0003]</td>\n",
       "      <td>0005</td>\n",
       "    </tr>\n",
       "    <tr>\n",
       "      <th>4</th>\n",
       "      <td>[0001, 0003, 0005]</td>\n",
       "      <td>[0002]</td>\n",
       "      <td>0006</td>\n",
       "    </tr>\n",
       "  </tbody>\n",
       "</table>\n",
       "</div>"
      ],
      "text/plain": [
       "                train     val  test\n",
       "0  [0003, 0005, 0006]  [0002]  0001\n",
       "1  [0001, 0003, 0005]  [0006]  0002\n",
       "2  [0001, 0002, 0006]  [0005]  0003\n",
       "3  [0001, 0002, 0006]  [0003]  0005\n",
       "4  [0001, 0003, 0005]  [0002]  0006"
      ]
     },
     "execution_count": 32,
     "metadata": {},
     "output_type": "execute_result"
    }
   ],
   "source": [
    "valCount=1  #number of signals for validation (selected randomly)\n",
    "\n",
    "trainSplits=[]\n",
    "valSplits=[]\n",
    "testSplits=[]\n",
    "for i in range(len(usedSubjects)):\n",
    "    thisTest=usedSubjects[i]\n",
    "    thisNoTest=np.setdiff1d(usedSubjects,thisTest)\n",
    "    thisVal=np.random.choice(thisNoTest,size=valCount,replace=False)\n",
    "    thisTrain=np.setdiff1d(thisNoTest,thisVal)\n",
    "    trainSplits.append(thisTrain)\n",
    "    valSplits.append(thisVal)\n",
    "    testSplits.append(thisTest)\n",
    "\n",
    "dataSplits=pd.DataFrame({\n",
    "    'train':trainSplits,\n",
    "    'val':valSplits,\n",
    "    'test':testSplits\n",
    "})\n",
    "\n",
    "dataSplits"
   ]
  },
  {
   "cell_type": "code",
   "execution_count": 33,
   "metadata": {},
   "outputs": [],
   "source": [
    "dumpPickle(\"dataSplits_LOOCV_5S.pkl\",dataSplits)"
   ]
  },
  {
   "cell_type": "code",
   "execution_count": null,
   "metadata": {},
   "outputs": [],
   "source": []
  }
 ],
 "metadata": {
  "kernelspec": {
   "display_name": "Python 3.10.6 ('venv': venv)",
   "language": "python",
   "name": "python3"
  },
  "language_info": {
   "codemirror_mode": {
    "name": "ipython",
    "version": 3
   },
   "file_extension": ".py",
   "mimetype": "text/x-python",
   "name": "python",
   "nbconvert_exporter": "python",
   "pygments_lexer": "ipython3",
   "version": "3.10.6"
  },
  "orig_nbformat": 4,
  "vscode": {
   "interpreter": {
    "hash": "69eb08d3e713eff25484e90b18c01e15df779e80a0db295f9ddc53faed0455be"
   }
  }
 },
 "nbformat": 4,
 "nbformat_minor": 2
}
