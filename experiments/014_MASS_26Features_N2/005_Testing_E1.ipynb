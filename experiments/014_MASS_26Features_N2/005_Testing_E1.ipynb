{
 "cells": [
  {
   "attachments": {},
   "cell_type": "markdown",
   "metadata": {},
   "source": [
    "# Testing for E1 - using all spindles, training with all data\n",
    "fistly define the UUID of the experiment to use"
   ]
  },
  {
   "cell_type": "code",
   "execution_count": 1,
   "metadata": {},
   "outputs": [],
   "source": [
    "experimentId=\"37aac705-1a78-4277-9685-3e72d2ed14fe\""
   ]
  },
  {
   "cell_type": "markdown",
   "metadata": {},
   "source": [
    "-------------------------------------------------------"
   ]
  },
  {
   "cell_type": "code",
   "execution_count": 2,
   "metadata": {},
   "outputs": [],
   "source": [
    "#external libraries\n",
    "import numpy as np\n",
    "import os\n",
    "import matplotlib.pyplot as plt\n",
    "import matplotlib.colors as clt\n",
    "import plotly\n",
    "import plotly.subplots as sb\n",
    "import plotly.express as px\n",
    "import plotly.graph_objects as go\n",
    "import dotenv\n",
    "import pandas as pd\n",
    "import scipy.fft as fft\n",
    "import scipy.signal as sg\n",
    "import scipy.io as sio\n",
    "import pickle as pkl\n",
    "import xgboost as xgb\n",
    "import time\n",
    "import sklearn.metrics as skm\n",
    "\n",
    "#project library\n",
    "from spinco import *\n",
    "\n",
    "#environment variables\n",
    "dotenv.load_dotenv('lab.env')\n",
    "\n",
    "#project variables\n",
    "datapath=os.environ['DATAPATH']\n",
    "cognipath=datapath+\"\\\\COGNITION\"\n",
    "dreamspath=datapath+\"\\\\DREAMS\"\n",
    "masspath=datapath+\"\\\\MASS\"\n"
   ]
  },
  {
   "cell_type": "markdown",
   "metadata": {},
   "source": [
    "## load mass"
   ]
  },
  {
   "cell_type": "code",
   "execution_count": 3,
   "metadata": {},
   "outputs": [],
   "source": [
    "samplerate=200  #Should rethink this"
   ]
  },
  {
   "cell_type": "code",
   "execution_count": 4,
   "metadata": {},
   "outputs": [],
   "source": [
    "annotations, signalsMetadata = loadMASSSpindles(masspath,forceSamplerate=samplerate)"
   ]
  },
  {
   "cell_type": "code",
   "execution_count": 5,
   "metadata": {},
   "outputs": [],
   "source": [
    "#consider to include this in a function\n",
    "minDuration=0.3\n",
    "maxDuration=5\n",
    "annotations=annotations[annotations.type=='spindle']\n",
    "annotations=annotations[annotations.duration>minDuration]\n",
    "annotations=annotations[annotations.duration<maxDuration]\n",
    "annotations=annotations.reset_index(drop=True)"
   ]
  },
  {
   "cell_type": "code",
   "execution_count": 6,
   "metadata": {},
   "outputs": [
    {
     "name": "stdout",
     "output_type": "stream",
     "text": [
      "0.005648873214178951\n"
     ]
    }
   ],
   "source": [
    "#check with EDA results (not needed)\n",
    "print(1-len(annotations)/33458)"
   ]
  },
  {
   "cell_type": "code",
   "execution_count": 7,
   "metadata": {},
   "outputs": [
    {
     "data": {
      "text/html": [
       "<div>\n",
       "<style scoped>\n",
       "    .dataframe tbody tr th:only-of-type {\n",
       "        vertical-align: middle;\n",
       "    }\n",
       "\n",
       "    .dataframe tbody tr th {\n",
       "        vertical-align: top;\n",
       "    }\n",
       "\n",
       "    .dataframe thead th {\n",
       "        text-align: right;\n",
       "    }\n",
       "</style>\n",
       "<table border=\"1\" class=\"dataframe\">\n",
       "  <thead>\n",
       "    <tr style=\"text-align: right;\">\n",
       "      <th></th>\n",
       "      <th>type</th>\n",
       "      <th>expert</th>\n",
       "      <th>subjectId</th>\n",
       "      <th>labelerId</th>\n",
       "      <th>startTime</th>\n",
       "      <th>duration</th>\n",
       "      <th>samplerate</th>\n",
       "      <th>stopTime</th>\n",
       "      <th>startInd</th>\n",
       "      <th>stopInd</th>\n",
       "    </tr>\n",
       "  </thead>\n",
       "  <tbody>\n",
       "    <tr>\n",
       "      <th>0</th>\n",
       "      <td>spindle</td>\n",
       "      <td>E1</td>\n",
       "      <td>0001</td>\n",
       "      <td>0001</td>\n",
       "      <td>888.327805</td>\n",
       "      <td>0.640579</td>\n",
       "      <td>200</td>\n",
       "      <td>888.968384</td>\n",
       "      <td>177666</td>\n",
       "      <td>177794</td>\n",
       "    </tr>\n",
       "    <tr>\n",
       "      <th>1</th>\n",
       "      <td>spindle</td>\n",
       "      <td>E1</td>\n",
       "      <td>0001</td>\n",
       "      <td>0001</td>\n",
       "      <td>905.758061</td>\n",
       "      <td>0.578094</td>\n",
       "      <td>200</td>\n",
       "      <td>906.336155</td>\n",
       "      <td>181152</td>\n",
       "      <td>181267</td>\n",
       "    </tr>\n",
       "    <tr>\n",
       "      <th>2</th>\n",
       "      <td>spindle</td>\n",
       "      <td>E1</td>\n",
       "      <td>0001</td>\n",
       "      <td>0001</td>\n",
       "      <td>917.731574</td>\n",
       "      <td>0.847603</td>\n",
       "      <td>200</td>\n",
       "      <td>918.579177</td>\n",
       "      <td>183546</td>\n",
       "      <td>183716</td>\n",
       "    </tr>\n",
       "    <tr>\n",
       "      <th>3</th>\n",
       "      <td>spindle</td>\n",
       "      <td>E1</td>\n",
       "      <td>0001</td>\n",
       "      <td>0001</td>\n",
       "      <td>922.078189</td>\n",
       "      <td>0.878845</td>\n",
       "      <td>200</td>\n",
       "      <td>922.957034</td>\n",
       "      <td>184416</td>\n",
       "      <td>184591</td>\n",
       "    </tr>\n",
       "    <tr>\n",
       "      <th>4</th>\n",
       "      <td>spindle</td>\n",
       "      <td>E1</td>\n",
       "      <td>0001</td>\n",
       "      <td>0001</td>\n",
       "      <td>939.055445</td>\n",
       "      <td>0.757767</td>\n",
       "      <td>200</td>\n",
       "      <td>939.813212</td>\n",
       "      <td>187811</td>\n",
       "      <td>187963</td>\n",
       "    </tr>\n",
       "  </tbody>\n",
       "</table>\n",
       "</div>"
      ],
      "text/plain": [
       "      type expert subjectId labelerId   startTime  duration  samplerate  \\\n",
       "0  spindle     E1      0001      0001  888.327805  0.640579         200   \n",
       "1  spindle     E1      0001      0001  905.758061  0.578094         200   \n",
       "2  spindle     E1      0001      0001  917.731574  0.847603         200   \n",
       "3  spindle     E1      0001      0001  922.078189  0.878845         200   \n",
       "4  spindle     E1      0001      0001  939.055445  0.757767         200   \n",
       "\n",
       "     stopTime  startInd  stopInd  \n",
       "0  888.968384    177666   177794  \n",
       "1  906.336155    181152   181267  \n",
       "2  918.579177    183546   183716  \n",
       "3  922.957034    184416   184591  \n",
       "4  939.813212    187811   187963  "
      ]
     },
     "execution_count": 7,
     "metadata": {},
     "output_type": "execute_result"
    }
   ],
   "source": [
    "annotations.head()"
   ]
  },
  {
   "cell_type": "code",
   "execution_count": 8,
   "metadata": {},
   "outputs": [
    {
     "data": {
      "text/html": [
       "<div>\n",
       "<style scoped>\n",
       "    .dataframe tbody tr th:only-of-type {\n",
       "        vertical-align: middle;\n",
       "    }\n",
       "\n",
       "    .dataframe tbody tr th {\n",
       "        vertical-align: top;\n",
       "    }\n",
       "\n",
       "    .dataframe thead th {\n",
       "        text-align: right;\n",
       "    }\n",
       "</style>\n",
       "<table border=\"1\" class=\"dataframe\">\n",
       "  <thead>\n",
       "    <tr style=\"text-align: right;\">\n",
       "      <th></th>\n",
       "      <th>subjectId</th>\n",
       "      <th>file</th>\n",
       "      <th>channel</th>\n",
       "      <th>duration</th>\n",
       "      <th>samplerate</th>\n",
       "      <th>isOriginalSamplerate</th>\n",
       "      <th>database</th>\n",
       "    </tr>\n",
       "  </thead>\n",
       "  <tbody>\n",
       "    <tr>\n",
       "      <th>0</th>\n",
       "      <td>0001</td>\n",
       "      <td>MASS_0001.pkl</td>\n",
       "      <td>C3-CLE</td>\n",
       "      <td>28956.0</td>\n",
       "      <td>200</td>\n",
       "      <td>False</td>\n",
       "      <td>MASS</td>\n",
       "    </tr>\n",
       "    <tr>\n",
       "      <th>1</th>\n",
       "      <td>0002</td>\n",
       "      <td>MASS_0002.pkl</td>\n",
       "      <td>C3-CLE</td>\n",
       "      <td>35016.0</td>\n",
       "      <td>200</td>\n",
       "      <td>False</td>\n",
       "      <td>MASS</td>\n",
       "    </tr>\n",
       "    <tr>\n",
       "      <th>2</th>\n",
       "      <td>0003</td>\n",
       "      <td>MASS_0003.pkl</td>\n",
       "      <td>C3-CLE</td>\n",
       "      <td>36760.0</td>\n",
       "      <td>200</td>\n",
       "      <td>False</td>\n",
       "      <td>MASS</td>\n",
       "    </tr>\n",
       "    <tr>\n",
       "      <th>3</th>\n",
       "      <td>0004</td>\n",
       "      <td>MASS_0004.pkl</td>\n",
       "      <td>C3-CLE</td>\n",
       "      <td>28004.0</td>\n",
       "      <td>200</td>\n",
       "      <td>False</td>\n",
       "      <td>MASS</td>\n",
       "    </tr>\n",
       "    <tr>\n",
       "      <th>4</th>\n",
       "      <td>0005</td>\n",
       "      <td>MASS_0005.pkl</td>\n",
       "      <td>C3-CLE</td>\n",
       "      <td>31244.0</td>\n",
       "      <td>200</td>\n",
       "      <td>False</td>\n",
       "      <td>MASS</td>\n",
       "    </tr>\n",
       "  </tbody>\n",
       "</table>\n",
       "</div>"
      ],
      "text/plain": [
       "  subjectId           file channel  duration  samplerate  \\\n",
       "0      0001  MASS_0001.pkl  C3-CLE   28956.0         200   \n",
       "1      0002  MASS_0002.pkl  C3-CLE   35016.0         200   \n",
       "2      0003  MASS_0003.pkl  C3-CLE   36760.0         200   \n",
       "3      0004  MASS_0004.pkl  C3-CLE   28004.0         200   \n",
       "4      0005  MASS_0005.pkl  C3-CLE   31244.0         200   \n",
       "\n",
       "   isOriginalSamplerate database  \n",
       "0                 False     MASS  \n",
       "1                 False     MASS  \n",
       "2                 False     MASS  \n",
       "3                 False     MASS  \n",
       "4                 False     MASS  "
      ]
     },
     "execution_count": 8,
     "metadata": {},
     "output_type": "execute_result"
    }
   ],
   "source": [
    "signalsMetadata.head()"
   ]
  },
  {
   "cell_type": "markdown",
   "metadata": {},
   "source": [
    "## Load experiment results"
   ]
  },
  {
   "cell_type": "code",
   "execution_count": 9,
   "metadata": {},
   "outputs": [],
   "source": [
    "experimentModels, featureSelection = loadExperiment(experimentId,datapath)"
   ]
  },
  {
   "cell_type": "code",
   "execution_count": 10,
   "metadata": {},
   "outputs": [
    {
     "data": {
      "text/html": [
       "<div>\n",
       "<style scoped>\n",
       "    .dataframe tbody tr th:only-of-type {\n",
       "        vertical-align: middle;\n",
       "    }\n",
       "\n",
       "    .dataframe tbody tr th {\n",
       "        vertical-align: top;\n",
       "    }\n",
       "\n",
       "    .dataframe thead th {\n",
       "        text-align: right;\n",
       "    }\n",
       "</style>\n",
       "<table border=\"1\" class=\"dataframe\">\n",
       "  <thead>\n",
       "    <tr style=\"text-align: right;\">\n",
       "      <th></th>\n",
       "      <th>criteriumId</th>\n",
       "      <th>criteriumName</th>\n",
       "      <th>labelerIdList</th>\n",
       "      <th>train</th>\n",
       "      <th>val</th>\n",
       "      <th>test</th>\n",
       "      <th>modelId</th>\n",
       "      <th>spindleTimeRate</th>\n",
       "    </tr>\n",
       "  </thead>\n",
       "  <tbody>\n",
       "    <tr>\n",
       "      <th>0</th>\n",
       "      <td>0001</td>\n",
       "      <td>E1</td>\n",
       "      <td>[0001]</td>\n",
       "      <td>[0003, 0005, 0007, 0009, 0010, 0011, 0012, 001...</td>\n",
       "      <td>[0017, 0002, 0006]</td>\n",
       "      <td>0001</td>\n",
       "      <td>aa11eb61-61e6-41e2-94d5-a4833e9b8d9d</td>\n",
       "      <td>0.040017</td>\n",
       "    </tr>\n",
       "    <tr>\n",
       "      <th>1</th>\n",
       "      <td>0001</td>\n",
       "      <td>E1</td>\n",
       "      <td>[0001]</td>\n",
       "      <td>[0001, 0003, 0005, 0007, 0009, 0010, 0011, 001...</td>\n",
       "      <td>[0006, 0013, 0019]</td>\n",
       "      <td>0002</td>\n",
       "      <td>56daf263-9a04-44a8-a967-ed222c84ae8c</td>\n",
       "      <td>0.042790</td>\n",
       "    </tr>\n",
       "    <tr>\n",
       "      <th>2</th>\n",
       "      <td>0001</td>\n",
       "      <td>E1</td>\n",
       "      <td>[0001]</td>\n",
       "      <td>[0002, 0005, 0007, 0009, 0010, 0011, 0012, 001...</td>\n",
       "      <td>[0013, 0006, 0001]</td>\n",
       "      <td>0003</td>\n",
       "      <td>983f3902-7ddc-4ab2-93e7-4da2577f8b4b</td>\n",
       "      <td>0.041762</td>\n",
       "    </tr>\n",
       "    <tr>\n",
       "      <th>3</th>\n",
       "      <td>0001</td>\n",
       "      <td>E1</td>\n",
       "      <td>[0001]</td>\n",
       "      <td>[0001, 0002, 0003, 0006, 0007, 0009, 0010, 001...</td>\n",
       "      <td>[0018, 0014, 0012]</td>\n",
       "      <td>0005</td>\n",
       "      <td>c0eba1b0-cd60-4e9e-ab7f-71131a829c7e</td>\n",
       "      <td>0.037779</td>\n",
       "    </tr>\n",
       "    <tr>\n",
       "      <th>4</th>\n",
       "      <td>0001</td>\n",
       "      <td>E1</td>\n",
       "      <td>[0001]</td>\n",
       "      <td>[0003, 0007, 0009, 0010, 0011, 0012, 0013, 001...</td>\n",
       "      <td>[0005, 0001, 0002]</td>\n",
       "      <td>0006</td>\n",
       "      <td>d7cf3254-9d32-4e20-a23e-3cdcd3107eaa</td>\n",
       "      <td>0.040051</td>\n",
       "    </tr>\n",
       "    <tr>\n",
       "      <th>5</th>\n",
       "      <td>0001</td>\n",
       "      <td>E1</td>\n",
       "      <td>[0001]</td>\n",
       "      <td>[0001, 0002, 0003, 0010, 0011, 0012, 0013, 001...</td>\n",
       "      <td>[0005, 0006, 0009]</td>\n",
       "      <td>0007</td>\n",
       "      <td>4f832318-c477-4835-acd3-7ec40944edd3</td>\n",
       "      <td>0.040469</td>\n",
       "    </tr>\n",
       "    <tr>\n",
       "      <th>6</th>\n",
       "      <td>0001</td>\n",
       "      <td>E1</td>\n",
       "      <td>[0001]</td>\n",
       "      <td>[0001, 0003, 0005, 0006, 0007, 0010, 0011, 001...</td>\n",
       "      <td>[0002, 0017, 0013]</td>\n",
       "      <td>0009</td>\n",
       "      <td>15e578bc-6917-4cef-a16a-bade7c0b0676</td>\n",
       "      <td>0.037982</td>\n",
       "    </tr>\n",
       "    <tr>\n",
       "      <th>7</th>\n",
       "      <td>0001</td>\n",
       "      <td>E1</td>\n",
       "      <td>[0001]</td>\n",
       "      <td>[0002, 0003, 0005, 0006, 0007, 0009, 0012, 001...</td>\n",
       "      <td>[0017, 0001, 0011]</td>\n",
       "      <td>0010</td>\n",
       "      <td>7e1fcff0-30f4-4f29-90d4-f7171b7700cf</td>\n",
       "      <td>0.037858</td>\n",
       "    </tr>\n",
       "    <tr>\n",
       "      <th>8</th>\n",
       "      <td>0001</td>\n",
       "      <td>E1</td>\n",
       "      <td>[0001]</td>\n",
       "      <td>[0001, 0003, 0005, 0006, 0009, 0010, 0012, 001...</td>\n",
       "      <td>[0002, 0018, 0007]</td>\n",
       "      <td>0011</td>\n",
       "      <td>0f783e82-ff7a-4204-9e47-55e534671311</td>\n",
       "      <td>0.032807</td>\n",
       "    </tr>\n",
       "    <tr>\n",
       "      <th>9</th>\n",
       "      <td>0001</td>\n",
       "      <td>E1</td>\n",
       "      <td>[0001]</td>\n",
       "      <td>[0002, 0003, 0005, 0006, 0009, 0011, 0013, 001...</td>\n",
       "      <td>[0001, 0007, 0010]</td>\n",
       "      <td>0012</td>\n",
       "      <td>99bfe384-9dde-485c-8233-eb9370c0bdbf</td>\n",
       "      <td>0.034677</td>\n",
       "    </tr>\n",
       "    <tr>\n",
       "      <th>10</th>\n",
       "      <td>0001</td>\n",
       "      <td>E1</td>\n",
       "      <td>[0001]</td>\n",
       "      <td>[0002, 0003, 0005, 0006, 0007, 0010, 0011, 001...</td>\n",
       "      <td>[0009, 0001, 0012]</td>\n",
       "      <td>0013</td>\n",
       "      <td>63e51dd9-118d-496b-8b4d-c0fd4db3d962</td>\n",
       "      <td>0.035894</td>\n",
       "    </tr>\n",
       "    <tr>\n",
       "      <th>11</th>\n",
       "      <td>0001</td>\n",
       "      <td>E1</td>\n",
       "      <td>[0001]</td>\n",
       "      <td>[0001, 0002, 0003, 0005, 0006, 0007, 0009, 001...</td>\n",
       "      <td>[0010, 0012, 0011]</td>\n",
       "      <td>0014</td>\n",
       "      <td>1665dd00-eb54-47cb-843d-f21453d9790d</td>\n",
       "      <td>0.037717</td>\n",
       "    </tr>\n",
       "    <tr>\n",
       "      <th>12</th>\n",
       "      <td>0001</td>\n",
       "      <td>E1</td>\n",
       "      <td>[0001]</td>\n",
       "      <td>[0002, 0003, 0005, 0006, 0007, 0009, 0011, 001...</td>\n",
       "      <td>[0010, 0018, 0001]</td>\n",
       "      <td>0017</td>\n",
       "      <td>263de413-4128-436e-b8a1-0bb7ad600f90</td>\n",
       "      <td>0.035624</td>\n",
       "    </tr>\n",
       "    <tr>\n",
       "      <th>13</th>\n",
       "      <td>0001</td>\n",
       "      <td>E1</td>\n",
       "      <td>[0001]</td>\n",
       "      <td>[0001, 0002, 0005, 0006, 0007, 0010, 0011, 001...</td>\n",
       "      <td>[0012, 0003, 0009]</td>\n",
       "      <td>0018</td>\n",
       "      <td>d666c68e-f0ca-4f31-b8f4-f0495ee86bc1</td>\n",
       "      <td>0.036962</td>\n",
       "    </tr>\n",
       "    <tr>\n",
       "      <th>14</th>\n",
       "      <td>0001</td>\n",
       "      <td>E1</td>\n",
       "      <td>[0001]</td>\n",
       "      <td>[0001, 0002, 0005, 0007, 0009, 0010, 0011, 001...</td>\n",
       "      <td>[0014, 0006, 0003]</td>\n",
       "      <td>0019</td>\n",
       "      <td>d88629a4-c108-44c5-9c1b-4008bdd78400</td>\n",
       "      <td>0.045797</td>\n",
       "    </tr>\n",
       "    <tr>\n",
       "      <th>15</th>\n",
       "      <td>0002</td>\n",
       "      <td>E2</td>\n",
       "      <td>[0002]</td>\n",
       "      <td>[0003, 0005, 0007, 0009, 0010, 0011, 0012, 001...</td>\n",
       "      <td>[0017, 0002, 0006]</td>\n",
       "      <td>0001</td>\n",
       "      <td>da70868e-1939-4133-b4f2-71300b6bee83</td>\n",
       "      <td>0.121738</td>\n",
       "    </tr>\n",
       "    <tr>\n",
       "      <th>16</th>\n",
       "      <td>0002</td>\n",
       "      <td>E2</td>\n",
       "      <td>[0002]</td>\n",
       "      <td>[0001, 0003, 0005, 0007, 0009, 0010, 0011, 001...</td>\n",
       "      <td>[0006, 0013, 0019]</td>\n",
       "      <td>0002</td>\n",
       "      <td>49d2f380-0f65-4b26-8afb-e47476214746</td>\n",
       "      <td>0.130514</td>\n",
       "    </tr>\n",
       "    <tr>\n",
       "      <th>17</th>\n",
       "      <td>0002</td>\n",
       "      <td>E2</td>\n",
       "      <td>[0002]</td>\n",
       "      <td>[0002, 0005, 0007, 0009, 0010, 0011, 0012, 001...</td>\n",
       "      <td>[0013, 0006, 0001]</td>\n",
       "      <td>0003</td>\n",
       "      <td>4e7405d5-05d0-40c3-b4f6-dd42cbccad80</td>\n",
       "      <td>0.124868</td>\n",
       "    </tr>\n",
       "    <tr>\n",
       "      <th>18</th>\n",
       "      <td>0002</td>\n",
       "      <td>E2</td>\n",
       "      <td>[0002]</td>\n",
       "      <td>[0001, 0002, 0003, 0006, 0007, 0009, 0010, 001...</td>\n",
       "      <td>[0018, 0014, 0012]</td>\n",
       "      <td>0005</td>\n",
       "      <td>42b90166-111c-497c-9a8f-29d643d6bc74</td>\n",
       "      <td>0.127058</td>\n",
       "    </tr>\n",
       "    <tr>\n",
       "      <th>19</th>\n",
       "      <td>0002</td>\n",
       "      <td>E2</td>\n",
       "      <td>[0002]</td>\n",
       "      <td>[0003, 0007, 0009, 0010, 0011, 0012, 0013, 001...</td>\n",
       "      <td>[0005, 0001, 0002]</td>\n",
       "      <td>0006</td>\n",
       "      <td>0f49ca85-a851-4db7-a583-c2ab93b6f3b1</td>\n",
       "      <td>0.122217</td>\n",
       "    </tr>\n",
       "    <tr>\n",
       "      <th>20</th>\n",
       "      <td>0002</td>\n",
       "      <td>E2</td>\n",
       "      <td>[0002]</td>\n",
       "      <td>[0001, 0002, 0003, 0010, 0011, 0012, 0013, 001...</td>\n",
       "      <td>[0005, 0006, 0009]</td>\n",
       "      <td>0007</td>\n",
       "      <td>d55992c1-1e39-4eb6-b32d-a82fa06c5676</td>\n",
       "      <td>0.126767</td>\n",
       "    </tr>\n",
       "    <tr>\n",
       "      <th>21</th>\n",
       "      <td>0002</td>\n",
       "      <td>E2</td>\n",
       "      <td>[0002]</td>\n",
       "      <td>[0001, 0003, 0005, 0006, 0007, 0010, 0011, 001...</td>\n",
       "      <td>[0002, 0017, 0013]</td>\n",
       "      <td>0009</td>\n",
       "      <td>3dbaf52d-698b-45ae-8755-05da02ebd320</td>\n",
       "      <td>0.119014</td>\n",
       "    </tr>\n",
       "    <tr>\n",
       "      <th>22</th>\n",
       "      <td>0002</td>\n",
       "      <td>E2</td>\n",
       "      <td>[0002]</td>\n",
       "      <td>[0002, 0003, 0005, 0006, 0007, 0009, 0012, 001...</td>\n",
       "      <td>[0017, 0001, 0011]</td>\n",
       "      <td>0010</td>\n",
       "      <td>7bb7204d-f47d-4b57-b737-3cf50289225f</td>\n",
       "      <td>0.112898</td>\n",
       "    </tr>\n",
       "    <tr>\n",
       "      <th>23</th>\n",
       "      <td>0002</td>\n",
       "      <td>E2</td>\n",
       "      <td>[0002]</td>\n",
       "      <td>[0001, 0003, 0005, 0006, 0009, 0010, 0012, 001...</td>\n",
       "      <td>[0002, 0018, 0007]</td>\n",
       "      <td>0011</td>\n",
       "      <td>f68c68a0-9948-4284-89e8-d568d6f72bd5</td>\n",
       "      <td>0.116403</td>\n",
       "    </tr>\n",
       "    <tr>\n",
       "      <th>24</th>\n",
       "      <td>0002</td>\n",
       "      <td>E2</td>\n",
       "      <td>[0002]</td>\n",
       "      <td>[0002, 0003, 0005, 0006, 0009, 0011, 0013, 001...</td>\n",
       "      <td>[0001, 0007, 0010]</td>\n",
       "      <td>0012</td>\n",
       "      <td>ecc614a4-1ffb-48ee-bcc9-f14088e73e06</td>\n",
       "      <td>0.111565</td>\n",
       "    </tr>\n",
       "    <tr>\n",
       "      <th>25</th>\n",
       "      <td>0002</td>\n",
       "      <td>E2</td>\n",
       "      <td>[0002]</td>\n",
       "      <td>[0002, 0003, 0005, 0006, 0007, 0010, 0011, 001...</td>\n",
       "      <td>[0009, 0001, 0012]</td>\n",
       "      <td>0013</td>\n",
       "      <td>ab7ee892-605a-428f-9bf7-83e6a47a50a0</td>\n",
       "      <td>0.114219</td>\n",
       "    </tr>\n",
       "    <tr>\n",
       "      <th>26</th>\n",
       "      <td>0002</td>\n",
       "      <td>E2</td>\n",
       "      <td>[0002]</td>\n",
       "      <td>[0001, 0002, 0003, 0005, 0006, 0007, 0009, 001...</td>\n",
       "      <td>[0010, 0012, 0011]</td>\n",
       "      <td>0014</td>\n",
       "      <td>b879caf7-ba5a-43f0-b3fe-4892b6f10c4f</td>\n",
       "      <td>0.117145</td>\n",
       "    </tr>\n",
       "    <tr>\n",
       "      <th>27</th>\n",
       "      <td>0002</td>\n",
       "      <td>E2</td>\n",
       "      <td>[0002]</td>\n",
       "      <td>[0002, 0003, 0005, 0006, 0007, 0009, 0011, 001...</td>\n",
       "      <td>[0010, 0018, 0001]</td>\n",
       "      <td>0017</td>\n",
       "      <td>e7c33554-d6cf-41f7-9551-f917e50db53d</td>\n",
       "      <td>0.116126</td>\n",
       "    </tr>\n",
       "    <tr>\n",
       "      <th>28</th>\n",
       "      <td>0002</td>\n",
       "      <td>E2</td>\n",
       "      <td>[0002]</td>\n",
       "      <td>[0001, 0002, 0005, 0006, 0007, 0010, 0011, 001...</td>\n",
       "      <td>[0012, 0003, 0009]</td>\n",
       "      <td>0018</td>\n",
       "      <td>1067e24d-f591-43f0-85a3-ad7706769ead</td>\n",
       "      <td>0.127342</td>\n",
       "    </tr>\n",
       "    <tr>\n",
       "      <th>29</th>\n",
       "      <td>0002</td>\n",
       "      <td>E2</td>\n",
       "      <td>[0002]</td>\n",
       "      <td>[0001, 0002, 0005, 0007, 0009, 0010, 0011, 001...</td>\n",
       "      <td>[0014, 0006, 0003]</td>\n",
       "      <td>0019</td>\n",
       "      <td>bc741fef-fe6f-42cf-8814-5b2803f3eafb</td>\n",
       "      <td>0.136630</td>\n",
       "    </tr>\n",
       "  </tbody>\n",
       "</table>\n",
       "</div>"
      ],
      "text/plain": [
       "   criteriumId criteriumName labelerIdList  \\\n",
       "0         0001            E1        [0001]   \n",
       "1         0001            E1        [0001]   \n",
       "2         0001            E1        [0001]   \n",
       "3         0001            E1        [0001]   \n",
       "4         0001            E1        [0001]   \n",
       "5         0001            E1        [0001]   \n",
       "6         0001            E1        [0001]   \n",
       "7         0001            E1        [0001]   \n",
       "8         0001            E1        [0001]   \n",
       "9         0001            E1        [0001]   \n",
       "10        0001            E1        [0001]   \n",
       "11        0001            E1        [0001]   \n",
       "12        0001            E1        [0001]   \n",
       "13        0001            E1        [0001]   \n",
       "14        0001            E1        [0001]   \n",
       "15        0002            E2        [0002]   \n",
       "16        0002            E2        [0002]   \n",
       "17        0002            E2        [0002]   \n",
       "18        0002            E2        [0002]   \n",
       "19        0002            E2        [0002]   \n",
       "20        0002            E2        [0002]   \n",
       "21        0002            E2        [0002]   \n",
       "22        0002            E2        [0002]   \n",
       "23        0002            E2        [0002]   \n",
       "24        0002            E2        [0002]   \n",
       "25        0002            E2        [0002]   \n",
       "26        0002            E2        [0002]   \n",
       "27        0002            E2        [0002]   \n",
       "28        0002            E2        [0002]   \n",
       "29        0002            E2        [0002]   \n",
       "\n",
       "                                                train                 val  \\\n",
       "0   [0003, 0005, 0007, 0009, 0010, 0011, 0012, 001...  [0017, 0002, 0006]   \n",
       "1   [0001, 0003, 0005, 0007, 0009, 0010, 0011, 001...  [0006, 0013, 0019]   \n",
       "2   [0002, 0005, 0007, 0009, 0010, 0011, 0012, 001...  [0013, 0006, 0001]   \n",
       "3   [0001, 0002, 0003, 0006, 0007, 0009, 0010, 001...  [0018, 0014, 0012]   \n",
       "4   [0003, 0007, 0009, 0010, 0011, 0012, 0013, 001...  [0005, 0001, 0002]   \n",
       "5   [0001, 0002, 0003, 0010, 0011, 0012, 0013, 001...  [0005, 0006, 0009]   \n",
       "6   [0001, 0003, 0005, 0006, 0007, 0010, 0011, 001...  [0002, 0017, 0013]   \n",
       "7   [0002, 0003, 0005, 0006, 0007, 0009, 0012, 001...  [0017, 0001, 0011]   \n",
       "8   [0001, 0003, 0005, 0006, 0009, 0010, 0012, 001...  [0002, 0018, 0007]   \n",
       "9   [0002, 0003, 0005, 0006, 0009, 0011, 0013, 001...  [0001, 0007, 0010]   \n",
       "10  [0002, 0003, 0005, 0006, 0007, 0010, 0011, 001...  [0009, 0001, 0012]   \n",
       "11  [0001, 0002, 0003, 0005, 0006, 0007, 0009, 001...  [0010, 0012, 0011]   \n",
       "12  [0002, 0003, 0005, 0006, 0007, 0009, 0011, 001...  [0010, 0018, 0001]   \n",
       "13  [0001, 0002, 0005, 0006, 0007, 0010, 0011, 001...  [0012, 0003, 0009]   \n",
       "14  [0001, 0002, 0005, 0007, 0009, 0010, 0011, 001...  [0014, 0006, 0003]   \n",
       "15  [0003, 0005, 0007, 0009, 0010, 0011, 0012, 001...  [0017, 0002, 0006]   \n",
       "16  [0001, 0003, 0005, 0007, 0009, 0010, 0011, 001...  [0006, 0013, 0019]   \n",
       "17  [0002, 0005, 0007, 0009, 0010, 0011, 0012, 001...  [0013, 0006, 0001]   \n",
       "18  [0001, 0002, 0003, 0006, 0007, 0009, 0010, 001...  [0018, 0014, 0012]   \n",
       "19  [0003, 0007, 0009, 0010, 0011, 0012, 0013, 001...  [0005, 0001, 0002]   \n",
       "20  [0001, 0002, 0003, 0010, 0011, 0012, 0013, 001...  [0005, 0006, 0009]   \n",
       "21  [0001, 0003, 0005, 0006, 0007, 0010, 0011, 001...  [0002, 0017, 0013]   \n",
       "22  [0002, 0003, 0005, 0006, 0007, 0009, 0012, 001...  [0017, 0001, 0011]   \n",
       "23  [0001, 0003, 0005, 0006, 0009, 0010, 0012, 001...  [0002, 0018, 0007]   \n",
       "24  [0002, 0003, 0005, 0006, 0009, 0011, 0013, 001...  [0001, 0007, 0010]   \n",
       "25  [0002, 0003, 0005, 0006, 0007, 0010, 0011, 001...  [0009, 0001, 0012]   \n",
       "26  [0001, 0002, 0003, 0005, 0006, 0007, 0009, 001...  [0010, 0012, 0011]   \n",
       "27  [0002, 0003, 0005, 0006, 0007, 0009, 0011, 001...  [0010, 0018, 0001]   \n",
       "28  [0001, 0002, 0005, 0006, 0007, 0010, 0011, 001...  [0012, 0003, 0009]   \n",
       "29  [0001, 0002, 0005, 0007, 0009, 0010, 0011, 001...  [0014, 0006, 0003]   \n",
       "\n",
       "    test                               modelId  spindleTimeRate  \n",
       "0   0001  aa11eb61-61e6-41e2-94d5-a4833e9b8d9d         0.040017  \n",
       "1   0002  56daf263-9a04-44a8-a967-ed222c84ae8c         0.042790  \n",
       "2   0003  983f3902-7ddc-4ab2-93e7-4da2577f8b4b         0.041762  \n",
       "3   0005  c0eba1b0-cd60-4e9e-ab7f-71131a829c7e         0.037779  \n",
       "4   0006  d7cf3254-9d32-4e20-a23e-3cdcd3107eaa         0.040051  \n",
       "5   0007  4f832318-c477-4835-acd3-7ec40944edd3         0.040469  \n",
       "6   0009  15e578bc-6917-4cef-a16a-bade7c0b0676         0.037982  \n",
       "7   0010  7e1fcff0-30f4-4f29-90d4-f7171b7700cf         0.037858  \n",
       "8   0011  0f783e82-ff7a-4204-9e47-55e534671311         0.032807  \n",
       "9   0012  99bfe384-9dde-485c-8233-eb9370c0bdbf         0.034677  \n",
       "10  0013  63e51dd9-118d-496b-8b4d-c0fd4db3d962         0.035894  \n",
       "11  0014  1665dd00-eb54-47cb-843d-f21453d9790d         0.037717  \n",
       "12  0017  263de413-4128-436e-b8a1-0bb7ad600f90         0.035624  \n",
       "13  0018  d666c68e-f0ca-4f31-b8f4-f0495ee86bc1         0.036962  \n",
       "14  0019  d88629a4-c108-44c5-9c1b-4008bdd78400         0.045797  \n",
       "15  0001  da70868e-1939-4133-b4f2-71300b6bee83         0.121738  \n",
       "16  0002  49d2f380-0f65-4b26-8afb-e47476214746         0.130514  \n",
       "17  0003  4e7405d5-05d0-40c3-b4f6-dd42cbccad80         0.124868  \n",
       "18  0005  42b90166-111c-497c-9a8f-29d643d6bc74         0.127058  \n",
       "19  0006  0f49ca85-a851-4db7-a583-c2ab93b6f3b1         0.122217  \n",
       "20  0007  d55992c1-1e39-4eb6-b32d-a82fa06c5676         0.126767  \n",
       "21  0009  3dbaf52d-698b-45ae-8755-05da02ebd320         0.119014  \n",
       "22  0010  7bb7204d-f47d-4b57-b737-3cf50289225f         0.112898  \n",
       "23  0011  f68c68a0-9948-4284-89e8-d568d6f72bd5         0.116403  \n",
       "24  0012  ecc614a4-1ffb-48ee-bcc9-f14088e73e06         0.111565  \n",
       "25  0013  ab7ee892-605a-428f-9bf7-83e6a47a50a0         0.114219  \n",
       "26  0014  b879caf7-ba5a-43f0-b3fe-4892b6f10c4f         0.117145  \n",
       "27  0017  e7c33554-d6cf-41f7-9551-f917e50db53d         0.116126  \n",
       "28  0018  1067e24d-f591-43f0-85a3-ad7706769ead         0.127342  \n",
       "29  0019  bc741fef-fe6f-42cf-8814-5b2803f3eafb         0.136630  "
      ]
     },
     "execution_count": 10,
     "metadata": {},
     "output_type": "execute_result"
    }
   ],
   "source": [
    "experimentModels"
   ]
  },
  {
   "cell_type": "code",
   "execution_count": 11,
   "metadata": {},
   "outputs": [
    {
     "data": {
      "text/html": [
       "<div>\n",
       "<style scoped>\n",
       "    .dataframe tbody tr th:only-of-type {\n",
       "        vertical-align: middle;\n",
       "    }\n",
       "\n",
       "    .dataframe tbody tr th {\n",
       "        vertical-align: top;\n",
       "    }\n",
       "\n",
       "    .dataframe thead tr th {\n",
       "        text-align: left;\n",
       "    }\n",
       "\n",
       "    .dataframe thead tr:last-of-type th {\n",
       "        text-align: right;\n",
       "    }\n",
       "</style>\n",
       "<table border=\"1\" class=\"dataframe\">\n",
       "  <thead>\n",
       "    <tr>\n",
       "      <th></th>\n",
       "      <th colspan=\"8\" halign=\"left\">spindleTimeRate</th>\n",
       "    </tr>\n",
       "    <tr>\n",
       "      <th></th>\n",
       "      <th>count</th>\n",
       "      <th>mean</th>\n",
       "      <th>std</th>\n",
       "      <th>min</th>\n",
       "      <th>25%</th>\n",
       "      <th>50%</th>\n",
       "      <th>75%</th>\n",
       "      <th>max</th>\n",
       "    </tr>\n",
       "    <tr>\n",
       "      <th>criteriumName</th>\n",
       "      <th></th>\n",
       "      <th></th>\n",
       "      <th></th>\n",
       "      <th></th>\n",
       "      <th></th>\n",
       "      <th></th>\n",
       "      <th></th>\n",
       "      <th></th>\n",
       "    </tr>\n",
       "  </thead>\n",
       "  <tbody>\n",
       "    <tr>\n",
       "      <th>E1</th>\n",
       "      <td>15.0</td>\n",
       "      <td>0.038546</td>\n",
       "      <td>0.003350</td>\n",
       "      <td>0.032807</td>\n",
       "      <td>0.036428</td>\n",
       "      <td>0.037858</td>\n",
       "      <td>0.040260</td>\n",
       "      <td>0.045797</td>\n",
       "    </tr>\n",
       "    <tr>\n",
       "      <th>E2</th>\n",
       "      <td>15.0</td>\n",
       "      <td>0.121634</td>\n",
       "      <td>0.007173</td>\n",
       "      <td>0.111565</td>\n",
       "      <td>0.116265</td>\n",
       "      <td>0.121738</td>\n",
       "      <td>0.126913</td>\n",
       "      <td>0.136630</td>\n",
       "    </tr>\n",
       "  </tbody>\n",
       "</table>\n",
       "</div>"
      ],
      "text/plain": [
       "              spindleTimeRate                                          \\\n",
       "                        count      mean       std       min       25%   \n",
       "criteriumName                                                           \n",
       "E1                       15.0  0.038546  0.003350  0.032807  0.036428   \n",
       "E2                       15.0  0.121634  0.007173  0.111565  0.116265   \n",
       "\n",
       "                                             \n",
       "                    50%       75%       max  \n",
       "criteriumName                                \n",
       "E1             0.037858  0.040260  0.045797  \n",
       "E2             0.121738  0.126913  0.136630  "
      ]
     },
     "execution_count": 11,
     "metadata": {},
     "output_type": "execute_result"
    }
   ],
   "source": [
    "#we show the difference in class inbalance for the annotation criteria considered\n",
    "experimentModels[['criteriumName','spindleTimeRate']].groupby('criteriumName').describe()"
   ]
  },
  {
   "cell_type": "code",
   "execution_count": 12,
   "metadata": {},
   "outputs": [
    {
     "data": {
      "text/html": [
       "<div>\n",
       "<style scoped>\n",
       "    .dataframe tbody tr th:only-of-type {\n",
       "        vertical-align: middle;\n",
       "    }\n",
       "\n",
       "    .dataframe tbody tr th {\n",
       "        vertical-align: top;\n",
       "    }\n",
       "\n",
       "    .dataframe thead th {\n",
       "        text-align: right;\n",
       "    }\n",
       "</style>\n",
       "<table border=\"1\" class=\"dataframe\">\n",
       "  <thead>\n",
       "    <tr style=\"text-align: right;\">\n",
       "      <th></th>\n",
       "      <th>window</th>\n",
       "      <th>characteristic</th>\n",
       "      <th>bandName</th>\n",
       "      <th>score</th>\n",
       "    </tr>\n",
       "  </thead>\n",
       "  <tbody>\n",
       "    <tr>\n",
       "      <th>0</th>\n",
       "      <td>2</td>\n",
       "      <td>hjortActivity</td>\n",
       "      <td>beta2</td>\n",
       "      <td>69.0</td>\n",
       "    </tr>\n",
       "    <tr>\n",
       "      <th>1</th>\n",
       "      <td>1</td>\n",
       "      <td>hjortActivity</td>\n",
       "      <td>sigma</td>\n",
       "      <td>63.0</td>\n",
       "    </tr>\n",
       "    <tr>\n",
       "      <th>2</th>\n",
       "      <td>2</td>\n",
       "      <td>hjortActivity</td>\n",
       "      <td>beta1</td>\n",
       "      <td>42.0</td>\n",
       "    </tr>\n",
       "    <tr>\n",
       "      <th>3</th>\n",
       "      <td>2</td>\n",
       "      <td>hjortActivity</td>\n",
       "      <td>delta2</td>\n",
       "      <td>41.0</td>\n",
       "    </tr>\n",
       "    <tr>\n",
       "      <th>4</th>\n",
       "      <td>1.5</td>\n",
       "      <td>sigmaIndex</td>\n",
       "      <td>broadband</td>\n",
       "      <td>39.0</td>\n",
       "    </tr>\n",
       "    <tr>\n",
       "      <th>5</th>\n",
       "      <td>2</td>\n",
       "      <td>sigmaIndex</td>\n",
       "      <td>broadband</td>\n",
       "      <td>39.0</td>\n",
       "    </tr>\n",
       "    <tr>\n",
       "      <th>6</th>\n",
       "      <td>2</td>\n",
       "      <td>hjortActivity</td>\n",
       "      <td>theta</td>\n",
       "      <td>38.0</td>\n",
       "    </tr>\n",
       "    <tr>\n",
       "      <th>7</th>\n",
       "      <td>2</td>\n",
       "      <td>hjortMobility</td>\n",
       "      <td>beta1</td>\n",
       "      <td>37.0</td>\n",
       "    </tr>\n",
       "    <tr>\n",
       "      <th>8</th>\n",
       "      <td>2</td>\n",
       "      <td>hjortActivity</td>\n",
       "      <td>alpha</td>\n",
       "      <td>35.0</td>\n",
       "    </tr>\n",
       "    <tr>\n",
       "      <th>9</th>\n",
       "      <td>1</td>\n",
       "      <td>sigmaIndex</td>\n",
       "      <td>broadband</td>\n",
       "      <td>34.0</td>\n",
       "    </tr>\n",
       "    <tr>\n",
       "      <th>10</th>\n",
       "      <td>2</td>\n",
       "      <td>hjortMobility</td>\n",
       "      <td>sigma</td>\n",
       "      <td>32.0</td>\n",
       "    </tr>\n",
       "    <tr>\n",
       "      <th>11</th>\n",
       "      <td>1.5</td>\n",
       "      <td>hjortActivity</td>\n",
       "      <td>beta2</td>\n",
       "      <td>30.0</td>\n",
       "    </tr>\n",
       "    <tr>\n",
       "      <th>12</th>\n",
       "      <td>2</td>\n",
       "      <td>hjortMobility</td>\n",
       "      <td>beta2</td>\n",
       "      <td>29.0</td>\n",
       "    </tr>\n",
       "    <tr>\n",
       "      <th>13</th>\n",
       "      <td>2</td>\n",
       "      <td>hjortMobility</td>\n",
       "      <td>alpha</td>\n",
       "      <td>28.0</td>\n",
       "    </tr>\n",
       "    <tr>\n",
       "      <th>14</th>\n",
       "      <td>0.5</td>\n",
       "      <td>sigmaIndex</td>\n",
       "      <td>broadband</td>\n",
       "      <td>28.0</td>\n",
       "    </tr>\n",
       "    <tr>\n",
       "      <th>15</th>\n",
       "      <td>2</td>\n",
       "      <td>hjortMobility</td>\n",
       "      <td>delta1</td>\n",
       "      <td>28.0</td>\n",
       "    </tr>\n",
       "    <tr>\n",
       "      <th>16</th>\n",
       "      <td>2</td>\n",
       "      <td>hjortActivity</td>\n",
       "      <td>sigma</td>\n",
       "      <td>27.0</td>\n",
       "    </tr>\n",
       "    <tr>\n",
       "      <th>17</th>\n",
       "      <td>2</td>\n",
       "      <td>petrosian</td>\n",
       "      <td>broadband</td>\n",
       "      <td>27.0</td>\n",
       "    </tr>\n",
       "    <tr>\n",
       "      <th>18</th>\n",
       "      <td>2</td>\n",
       "      <td>hjortActivity</td>\n",
       "      <td>broadband</td>\n",
       "      <td>26.0</td>\n",
       "    </tr>\n",
       "    <tr>\n",
       "      <th>19</th>\n",
       "      <td>1.5</td>\n",
       "      <td>hjortActivity</td>\n",
       "      <td>sigma</td>\n",
       "      <td>26.0</td>\n",
       "    </tr>\n",
       "    <tr>\n",
       "      <th>20</th>\n",
       "      <td>1.5</td>\n",
       "      <td>hjortActivity</td>\n",
       "      <td>alpha</td>\n",
       "      <td>25.0</td>\n",
       "    </tr>\n",
       "    <tr>\n",
       "      <th>21</th>\n",
       "      <td>0.5</td>\n",
       "      <td>hjortActivity</td>\n",
       "      <td>alpha</td>\n",
       "      <td>24.0</td>\n",
       "    </tr>\n",
       "    <tr>\n",
       "      <th>22</th>\n",
       "      <td>1</td>\n",
       "      <td>hjortActivity</td>\n",
       "      <td>theta</td>\n",
       "      <td>23.0</td>\n",
       "    </tr>\n",
       "    <tr>\n",
       "      <th>23</th>\n",
       "      <td>1.5</td>\n",
       "      <td>petrosian</td>\n",
       "      <td>broadband</td>\n",
       "      <td>22.0</td>\n",
       "    </tr>\n",
       "    <tr>\n",
       "      <th>24</th>\n",
       "      <td>2</td>\n",
       "      <td>hjortMobility</td>\n",
       "      <td>broadband</td>\n",
       "      <td>22.0</td>\n",
       "    </tr>\n",
       "    <tr>\n",
       "      <th>25</th>\n",
       "      <td>1.5</td>\n",
       "      <td>hjortActivity</td>\n",
       "      <td>theta</td>\n",
       "      <td>22.0</td>\n",
       "    </tr>\n",
       "  </tbody>\n",
       "</table>\n",
       "</div>"
      ],
      "text/plain": [
       "   window characteristic   bandName  score\n",
       "0       2  hjortActivity      beta2   69.0\n",
       "1       1  hjortActivity      sigma   63.0\n",
       "2       2  hjortActivity      beta1   42.0\n",
       "3       2  hjortActivity     delta2   41.0\n",
       "4     1.5     sigmaIndex  broadband   39.0\n",
       "5       2     sigmaIndex  broadband   39.0\n",
       "6       2  hjortActivity      theta   38.0\n",
       "7       2  hjortMobility      beta1   37.0\n",
       "8       2  hjortActivity      alpha   35.0\n",
       "9       1     sigmaIndex  broadband   34.0\n",
       "10      2  hjortMobility      sigma   32.0\n",
       "11    1.5  hjortActivity      beta2   30.0\n",
       "12      2  hjortMobility      beta2   29.0\n",
       "13      2  hjortMobility      alpha   28.0\n",
       "14    0.5     sigmaIndex  broadband   28.0\n",
       "15      2  hjortMobility     delta1   28.0\n",
       "16      2  hjortActivity      sigma   27.0\n",
       "17      2      petrosian  broadband   27.0\n",
       "18      2  hjortActivity  broadband   26.0\n",
       "19    1.5  hjortActivity      sigma   26.0\n",
       "20    1.5  hjortActivity      alpha   25.0\n",
       "21    0.5  hjortActivity      alpha   24.0\n",
       "22      1  hjortActivity      theta   23.0\n",
       "23    1.5      petrosian  broadband   22.0\n",
       "24      2  hjortMobility  broadband   22.0\n",
       "25    1.5  hjortActivity      theta   22.0"
      ]
     },
     "execution_count": 12,
     "metadata": {},
     "output_type": "execute_result"
    }
   ],
   "source": [
    "featureSelection"
   ]
  },
  {
   "attachments": {},
   "cell_type": "markdown",
   "metadata": {},
   "source": [
    "## Hyperparameter definition\n",
    "this should come from a previous evaluation notebook"
   ]
  },
  {
   "cell_type": "code",
   "execution_count": 13,
   "metadata": {},
   "outputs": [],
   "source": [
    "hyperClose=0.1\n",
    "hyperDuration=minDuration\n",
    "hyperThres=0.3\n",
    "hyperDepth=30"
   ]
  },
  {
   "attachments": {},
   "cell_type": "markdown",
   "metadata": {},
   "source": [
    "## Testing with E1 criterium\n",
    "we test the optimal points for the prediction threshold and number of boost iterations in the different validation groups"
   ]
  },
  {
   "cell_type": "code",
   "execution_count": 14,
   "metadata": {},
   "outputs": [
    {
     "data": {
      "text/html": [
       "<div>\n",
       "<style scoped>\n",
       "    .dataframe tbody tr th:only-of-type {\n",
       "        vertical-align: middle;\n",
       "    }\n",
       "\n",
       "    .dataframe tbody tr th {\n",
       "        vertical-align: top;\n",
       "    }\n",
       "\n",
       "    .dataframe thead th {\n",
       "        text-align: right;\n",
       "    }\n",
       "</style>\n",
       "<table border=\"1\" class=\"dataframe\">\n",
       "  <thead>\n",
       "    <tr style=\"text-align: right;\">\n",
       "      <th></th>\n",
       "      <th>criteriumId</th>\n",
       "      <th>criteriumName</th>\n",
       "      <th>labelerIdList</th>\n",
       "      <th>train</th>\n",
       "      <th>val</th>\n",
       "      <th>test</th>\n",
       "      <th>modelId</th>\n",
       "      <th>spindleTimeRate</th>\n",
       "    </tr>\n",
       "  </thead>\n",
       "  <tbody>\n",
       "    <tr>\n",
       "      <th>0</th>\n",
       "      <td>0001</td>\n",
       "      <td>E1</td>\n",
       "      <td>[0001]</td>\n",
       "      <td>[0003, 0005, 0007, 0009, 0010, 0011, 0012, 001...</td>\n",
       "      <td>[0017, 0002, 0006]</td>\n",
       "      <td>0001</td>\n",
       "      <td>aa11eb61-61e6-41e2-94d5-a4833e9b8d9d</td>\n",
       "      <td>0.040017</td>\n",
       "    </tr>\n",
       "    <tr>\n",
       "      <th>1</th>\n",
       "      <td>0001</td>\n",
       "      <td>E1</td>\n",
       "      <td>[0001]</td>\n",
       "      <td>[0001, 0003, 0005, 0007, 0009, 0010, 0011, 001...</td>\n",
       "      <td>[0006, 0013, 0019]</td>\n",
       "      <td>0002</td>\n",
       "      <td>56daf263-9a04-44a8-a967-ed222c84ae8c</td>\n",
       "      <td>0.042790</td>\n",
       "    </tr>\n",
       "    <tr>\n",
       "      <th>2</th>\n",
       "      <td>0001</td>\n",
       "      <td>E1</td>\n",
       "      <td>[0001]</td>\n",
       "      <td>[0002, 0005, 0007, 0009, 0010, 0011, 0012, 001...</td>\n",
       "      <td>[0013, 0006, 0001]</td>\n",
       "      <td>0003</td>\n",
       "      <td>983f3902-7ddc-4ab2-93e7-4da2577f8b4b</td>\n",
       "      <td>0.041762</td>\n",
       "    </tr>\n",
       "    <tr>\n",
       "      <th>3</th>\n",
       "      <td>0001</td>\n",
       "      <td>E1</td>\n",
       "      <td>[0001]</td>\n",
       "      <td>[0001, 0002, 0003, 0006, 0007, 0009, 0010, 001...</td>\n",
       "      <td>[0018, 0014, 0012]</td>\n",
       "      <td>0005</td>\n",
       "      <td>c0eba1b0-cd60-4e9e-ab7f-71131a829c7e</td>\n",
       "      <td>0.037779</td>\n",
       "    </tr>\n",
       "    <tr>\n",
       "      <th>4</th>\n",
       "      <td>0001</td>\n",
       "      <td>E1</td>\n",
       "      <td>[0001]</td>\n",
       "      <td>[0003, 0007, 0009, 0010, 0011, 0012, 0013, 001...</td>\n",
       "      <td>[0005, 0001, 0002]</td>\n",
       "      <td>0006</td>\n",
       "      <td>d7cf3254-9d32-4e20-a23e-3cdcd3107eaa</td>\n",
       "      <td>0.040051</td>\n",
       "    </tr>\n",
       "    <tr>\n",
       "      <th>5</th>\n",
       "      <td>0001</td>\n",
       "      <td>E1</td>\n",
       "      <td>[0001]</td>\n",
       "      <td>[0001, 0002, 0003, 0010, 0011, 0012, 0013, 001...</td>\n",
       "      <td>[0005, 0006, 0009]</td>\n",
       "      <td>0007</td>\n",
       "      <td>4f832318-c477-4835-acd3-7ec40944edd3</td>\n",
       "      <td>0.040469</td>\n",
       "    </tr>\n",
       "    <tr>\n",
       "      <th>6</th>\n",
       "      <td>0001</td>\n",
       "      <td>E1</td>\n",
       "      <td>[0001]</td>\n",
       "      <td>[0001, 0003, 0005, 0006, 0007, 0010, 0011, 001...</td>\n",
       "      <td>[0002, 0017, 0013]</td>\n",
       "      <td>0009</td>\n",
       "      <td>15e578bc-6917-4cef-a16a-bade7c0b0676</td>\n",
       "      <td>0.037982</td>\n",
       "    </tr>\n",
       "    <tr>\n",
       "      <th>7</th>\n",
       "      <td>0001</td>\n",
       "      <td>E1</td>\n",
       "      <td>[0001]</td>\n",
       "      <td>[0002, 0003, 0005, 0006, 0007, 0009, 0012, 001...</td>\n",
       "      <td>[0017, 0001, 0011]</td>\n",
       "      <td>0010</td>\n",
       "      <td>7e1fcff0-30f4-4f29-90d4-f7171b7700cf</td>\n",
       "      <td>0.037858</td>\n",
       "    </tr>\n",
       "    <tr>\n",
       "      <th>8</th>\n",
       "      <td>0001</td>\n",
       "      <td>E1</td>\n",
       "      <td>[0001]</td>\n",
       "      <td>[0001, 0003, 0005, 0006, 0009, 0010, 0012, 001...</td>\n",
       "      <td>[0002, 0018, 0007]</td>\n",
       "      <td>0011</td>\n",
       "      <td>0f783e82-ff7a-4204-9e47-55e534671311</td>\n",
       "      <td>0.032807</td>\n",
       "    </tr>\n",
       "    <tr>\n",
       "      <th>9</th>\n",
       "      <td>0001</td>\n",
       "      <td>E1</td>\n",
       "      <td>[0001]</td>\n",
       "      <td>[0002, 0003, 0005, 0006, 0009, 0011, 0013, 001...</td>\n",
       "      <td>[0001, 0007, 0010]</td>\n",
       "      <td>0012</td>\n",
       "      <td>99bfe384-9dde-485c-8233-eb9370c0bdbf</td>\n",
       "      <td>0.034677</td>\n",
       "    </tr>\n",
       "    <tr>\n",
       "      <th>10</th>\n",
       "      <td>0001</td>\n",
       "      <td>E1</td>\n",
       "      <td>[0001]</td>\n",
       "      <td>[0002, 0003, 0005, 0006, 0007, 0010, 0011, 001...</td>\n",
       "      <td>[0009, 0001, 0012]</td>\n",
       "      <td>0013</td>\n",
       "      <td>63e51dd9-118d-496b-8b4d-c0fd4db3d962</td>\n",
       "      <td>0.035894</td>\n",
       "    </tr>\n",
       "    <tr>\n",
       "      <th>11</th>\n",
       "      <td>0001</td>\n",
       "      <td>E1</td>\n",
       "      <td>[0001]</td>\n",
       "      <td>[0001, 0002, 0003, 0005, 0006, 0007, 0009, 001...</td>\n",
       "      <td>[0010, 0012, 0011]</td>\n",
       "      <td>0014</td>\n",
       "      <td>1665dd00-eb54-47cb-843d-f21453d9790d</td>\n",
       "      <td>0.037717</td>\n",
       "    </tr>\n",
       "    <tr>\n",
       "      <th>12</th>\n",
       "      <td>0001</td>\n",
       "      <td>E1</td>\n",
       "      <td>[0001]</td>\n",
       "      <td>[0002, 0003, 0005, 0006, 0007, 0009, 0011, 001...</td>\n",
       "      <td>[0010, 0018, 0001]</td>\n",
       "      <td>0017</td>\n",
       "      <td>263de413-4128-436e-b8a1-0bb7ad600f90</td>\n",
       "      <td>0.035624</td>\n",
       "    </tr>\n",
       "    <tr>\n",
       "      <th>13</th>\n",
       "      <td>0001</td>\n",
       "      <td>E1</td>\n",
       "      <td>[0001]</td>\n",
       "      <td>[0001, 0002, 0005, 0006, 0007, 0010, 0011, 001...</td>\n",
       "      <td>[0012, 0003, 0009]</td>\n",
       "      <td>0018</td>\n",
       "      <td>d666c68e-f0ca-4f31-b8f4-f0495ee86bc1</td>\n",
       "      <td>0.036962</td>\n",
       "    </tr>\n",
       "    <tr>\n",
       "      <th>14</th>\n",
       "      <td>0001</td>\n",
       "      <td>E1</td>\n",
       "      <td>[0001]</td>\n",
       "      <td>[0001, 0002, 0005, 0007, 0009, 0010, 0011, 001...</td>\n",
       "      <td>[0014, 0006, 0003]</td>\n",
       "      <td>0019</td>\n",
       "      <td>d88629a4-c108-44c5-9c1b-4008bdd78400</td>\n",
       "      <td>0.045797</td>\n",
       "    </tr>\n",
       "  </tbody>\n",
       "</table>\n",
       "</div>"
      ],
      "text/plain": [
       "   criteriumId criteriumName labelerIdList  \\\n",
       "0         0001            E1        [0001]   \n",
       "1         0001            E1        [0001]   \n",
       "2         0001            E1        [0001]   \n",
       "3         0001            E1        [0001]   \n",
       "4         0001            E1        [0001]   \n",
       "5         0001            E1        [0001]   \n",
       "6         0001            E1        [0001]   \n",
       "7         0001            E1        [0001]   \n",
       "8         0001            E1        [0001]   \n",
       "9         0001            E1        [0001]   \n",
       "10        0001            E1        [0001]   \n",
       "11        0001            E1        [0001]   \n",
       "12        0001            E1        [0001]   \n",
       "13        0001            E1        [0001]   \n",
       "14        0001            E1        [0001]   \n",
       "\n",
       "                                                train                 val  \\\n",
       "0   [0003, 0005, 0007, 0009, 0010, 0011, 0012, 001...  [0017, 0002, 0006]   \n",
       "1   [0001, 0003, 0005, 0007, 0009, 0010, 0011, 001...  [0006, 0013, 0019]   \n",
       "2   [0002, 0005, 0007, 0009, 0010, 0011, 0012, 001...  [0013, 0006, 0001]   \n",
       "3   [0001, 0002, 0003, 0006, 0007, 0009, 0010, 001...  [0018, 0014, 0012]   \n",
       "4   [0003, 0007, 0009, 0010, 0011, 0012, 0013, 001...  [0005, 0001, 0002]   \n",
       "5   [0001, 0002, 0003, 0010, 0011, 0012, 0013, 001...  [0005, 0006, 0009]   \n",
       "6   [0001, 0003, 0005, 0006, 0007, 0010, 0011, 001...  [0002, 0017, 0013]   \n",
       "7   [0002, 0003, 0005, 0006, 0007, 0009, 0012, 001...  [0017, 0001, 0011]   \n",
       "8   [0001, 0003, 0005, 0006, 0009, 0010, 0012, 001...  [0002, 0018, 0007]   \n",
       "9   [0002, 0003, 0005, 0006, 0009, 0011, 0013, 001...  [0001, 0007, 0010]   \n",
       "10  [0002, 0003, 0005, 0006, 0007, 0010, 0011, 001...  [0009, 0001, 0012]   \n",
       "11  [0001, 0002, 0003, 0005, 0006, 0007, 0009, 001...  [0010, 0012, 0011]   \n",
       "12  [0002, 0003, 0005, 0006, 0007, 0009, 0011, 001...  [0010, 0018, 0001]   \n",
       "13  [0001, 0002, 0005, 0006, 0007, 0010, 0011, 001...  [0012, 0003, 0009]   \n",
       "14  [0001, 0002, 0005, 0007, 0009, 0010, 0011, 001...  [0014, 0006, 0003]   \n",
       "\n",
       "    test                               modelId  spindleTimeRate  \n",
       "0   0001  aa11eb61-61e6-41e2-94d5-a4833e9b8d9d         0.040017  \n",
       "1   0002  56daf263-9a04-44a8-a967-ed222c84ae8c         0.042790  \n",
       "2   0003  983f3902-7ddc-4ab2-93e7-4da2577f8b4b         0.041762  \n",
       "3   0005  c0eba1b0-cd60-4e9e-ab7f-71131a829c7e         0.037779  \n",
       "4   0006  d7cf3254-9d32-4e20-a23e-3cdcd3107eaa         0.040051  \n",
       "5   0007  4f832318-c477-4835-acd3-7ec40944edd3         0.040469  \n",
       "6   0009  15e578bc-6917-4cef-a16a-bade7c0b0676         0.037982  \n",
       "7   0010  7e1fcff0-30f4-4f29-90d4-f7171b7700cf         0.037858  \n",
       "8   0011  0f783e82-ff7a-4204-9e47-55e534671311         0.032807  \n",
       "9   0012  99bfe384-9dde-485c-8233-eb9370c0bdbf         0.034677  \n",
       "10  0013  63e51dd9-118d-496b-8b4d-c0fd4db3d962         0.035894  \n",
       "11  0014  1665dd00-eb54-47cb-843d-f21453d9790d         0.037717  \n",
       "12  0017  263de413-4128-436e-b8a1-0bb7ad600f90         0.035624  \n",
       "13  0018  d666c68e-f0ca-4f31-b8f4-f0495ee86bc1         0.036962  \n",
       "14  0019  d88629a4-c108-44c5-9c1b-4008bdd78400         0.045797  "
      ]
     },
     "execution_count": 14,
     "metadata": {},
     "output_type": "execute_result"
    }
   ],
   "source": [
    "experimentModels=experimentModels[experimentModels.criteriumName=='E1'].reset_index(drop=True)\n",
    "experimentModels"
   ]
  },
  {
   "cell_type": "code",
   "execution_count": 15,
   "metadata": {},
   "outputs": [
    {
     "name": "stdout",
     "output_type": "stream",
     "text": [
      "*************************\n",
      "1 of 15\n",
      "*************************\n",
      "2 of 15\n",
      "*************************\n",
      "3 of 15\n",
      "*************************\n",
      "4 of 15\n",
      "*************************\n",
      "5 of 15\n",
      "*************************\n",
      "6 of 15\n",
      "*************************\n",
      "7 of 15\n",
      "*************************\n",
      "8 of 15\n",
      "*************************\n",
      "9 of 15\n",
      "*************************\n",
      "10 of 15\n",
      "*************************\n",
      "11 of 15\n",
      "*************************\n",
      "12 of 15\n",
      "*************************\n",
      "13 of 15\n",
      "*************************\n",
      "14 of 15\n",
      "*************************\n",
      "15 of 15\n"
     ]
    }
   ],
   "source": [
    "rawF1s=[]\n",
    "rawPrecisions=[]\n",
    "rawRecalls=[]\n",
    "\n",
    "f1s=[]\n",
    "precisions=[]\n",
    "recalls=[]\n",
    "\n",
    "eventF1s=[]\n",
    "eventPrecisions=[]\n",
    "eventRecalls=[]\n",
    "\n",
    "checks=[]\n",
    "\n",
    "for ind,row in experimentModels.iterrows():\n",
    "    print('*************************')\n",
    "    print(str(ind+1)+' of '+str(len(experimentModels)) )\n",
    "    #load model\n",
    "    model=loadBooster(row.modelId,experimentId,datapath)\n",
    "\n",
    "    testSubjectId=row.test\n",
    "    #Define annotations criterium\n",
    "    usedAnnotations=annotations[annotations.labelerId.isin(row.labelerIdList)].reset_index(drop=True)\n",
    "    #Load features and labels\n",
    "    testFeatures=loadFeatureMatrix([testSubjectId],featureSelection,signalsMetadata,samplerate,datapath)\n",
    "    testLabels=loadLabelsVector([testSubjectId],usedAnnotations,signalsMetadata,samplerate)\n",
    "\n",
    "    #Predict\n",
    "    testDMatrix=xgb.DMatrix(data=testFeatures)\n",
    "    probabilities=model.predict(testDMatrix,iteration_range=(0,hyperDepth))\n",
    "    rawLabels=probabilities>=hyperThres\n",
    "    #Raw Metrics\n",
    "    rawTp=np.sum(rawLabels*testLabels)\n",
    "    rawFp=np.sum(rawLabels*(1-testLabels))\n",
    "    rawTn=np.sum((1-rawLabels)*(1-testLabels))\n",
    "    rawFn=np.sum((1-rawLabels)*testLabels)\n",
    "    #Raw appends\n",
    "    rawF1s.append(2*rawTp/(2*rawTp+rawFp+rawFn))\n",
    "    rawPrecisions.append(rawTp/(rawTp+rawFp) )\n",
    "    rawRecalls.append(rawTp/(rawTp+rawFn))\n",
    "    #Process\n",
    "    processedLabels=labelingProcess(rawLabels,hyperClose,hyperDuration,samplerate)\n",
    "    #Processed metrics\n",
    "    tp=np.sum(processedLabels*testLabels)\n",
    "    fp=np.sum(processedLabels*(1-testLabels))\n",
    "    tn=np.sum((1-processedLabels)*(1-testLabels))\n",
    "    fn=np.sum((1-processedLabels)*testLabels)\n",
    "    #Processed appends\n",
    "    f1s.append(2*tp/(2*tp+fp+fn))\n",
    "    precisions.append(tp/(tp+fp))\n",
    "    recalls.append(tp/(tp+fn))\n",
    "\n",
    "    #By-event metrics\n",
    "    processedAnnotations=labelVectorToAnnotations(processedLabels,samplerate)\n",
    "    processedAnnotations=processedAnnotations[processedAnnotations.duration<maxDuration]\n",
    "    gtAnnotations=labelVectorToAnnotations(testLabels,samplerate)   #<- or just filter the annotations\n",
    "    f,r,p=annotationPairToMetrics(gtAnnotations,processedAnnotations)\n",
    "    \n",
    "    #calculate metrics\n",
    "    eventF1s.append(f)\n",
    "    eventPrecisions.append(p)\n",
    "    eventRecalls.append(r)\n",
    "\n",
    "#include metrics in the dataframe\n",
    "experimentModels['rawF1']=rawF1s\n",
    "experimentModels['rawPrecision']=rawPrecisions\n",
    "experimentModels['rawRecall']=rawRecalls\n",
    "\n",
    "experimentModels['f1']=f1s\n",
    "experimentModels['precision']=precisions\n",
    "experimentModels['recall']=recalls\n",
    "\n",
    "experimentModels['eventF1']=eventF1s\n",
    "experimentModels['eventPrecision']=eventPrecisions\n",
    "experimentModels['eventRecall']=eventRecalls\n"
   ]
  },
  {
   "cell_type": "code",
   "execution_count": 16,
   "metadata": {},
   "outputs": [],
   "source": [
    "dumpPickle('experimentModelsTest_E1_temp.pkl',experimentModels)"
   ]
  },
  {
   "cell_type": "code",
   "execution_count": 16,
   "metadata": {},
   "outputs": [
    {
     "data": {
      "text/plain": [
       "Index(['criteriumId', 'criteriumName', 'labelerIdList', 'train', 'val', 'test',\n",
       "       'modelId', 'spindleTimeRate', 'rawF1', 'rawPrecision', 'rawRecall',\n",
       "       'f1', 'precision', 'recall', 'eventF1', 'eventPrecision',\n",
       "       'eventRecall'],\n",
       "      dtype='object')"
      ]
     },
     "execution_count": 16,
     "metadata": {},
     "output_type": "execute_result"
    }
   ],
   "source": [
    "experimentModels.columns"
   ]
  },
  {
   "cell_type": "code",
   "execution_count": 17,
   "metadata": {},
   "outputs": [
    {
     "data": {
      "application/vnd.plotly.v1+json": {
       "config": {
        "plotlyServerURL": "https://plot.ly"
       },
       "data": [
        {
         "hovertemplate": "<b>%{hovertext}</b><br><br>test=0001<br>rawF1=%{x}<br>f1=%{y}<extra></extra>",
         "hovertext": [
          "aa11eb61-61e6-41e2-94d5-a4833e9b8d9d"
         ],
         "legendgroup": "0001",
         "marker": {
          "color": "#636efa",
          "symbol": "circle"
         },
         "mode": "markers",
         "name": "0001",
         "orientation": "v",
         "showlegend": true,
         "type": "scatter",
         "x": [
          0.645145153960778
         ],
         "xaxis": "x",
         "y": [
          0.6449362351179968
         ],
         "yaxis": "y"
        },
        {
         "alignmentgroup": "True",
         "bingroup": "y",
         "hovertemplate": "test=0001<br>f1=%{y}<br>count=%{x}<extra></extra>",
         "legendgroup": "0001",
         "marker": {
          "color": "#636efa"
         },
         "name": "0001",
         "offsetgroup": "0001",
         "opacity": 0.5,
         "showlegend": false,
         "type": "histogram",
         "xaxis": "x2",
         "y": [
          0.6449362351179968
         ],
         "yaxis": "y2"
        },
        {
         "hovertemplate": "<b>%{hovertext}</b><br><br>test=0002<br>rawF1=%{x}<br>f1=%{y}<extra></extra>",
         "hovertext": [
          "56daf263-9a04-44a8-a967-ed222c84ae8c"
         ],
         "legendgroup": "0002",
         "marker": {
          "color": "#EF553B",
          "symbol": "circle"
         },
         "mode": "markers",
         "name": "0002",
         "orientation": "v",
         "showlegend": true,
         "type": "scatter",
         "x": [
          0.7224349212222997
         ],
         "xaxis": "x",
         "y": [
          0.7293917011835377
         ],
         "yaxis": "y"
        },
        {
         "alignmentgroup": "True",
         "bingroup": "y",
         "hovertemplate": "test=0002<br>f1=%{y}<br>count=%{x}<extra></extra>",
         "legendgroup": "0002",
         "marker": {
          "color": "#EF553B"
         },
         "name": "0002",
         "offsetgroup": "0002",
         "opacity": 0.5,
         "showlegend": false,
         "type": "histogram",
         "xaxis": "x2",
         "y": [
          0.7293917011835377
         ],
         "yaxis": "y2"
        },
        {
         "hovertemplate": "<b>%{hovertext}</b><br><br>test=0003<br>rawF1=%{x}<br>f1=%{y}<extra></extra>",
         "hovertext": [
          "983f3902-7ddc-4ab2-93e7-4da2577f8b4b"
         ],
         "legendgroup": "0003",
         "marker": {
          "color": "#00cc96",
          "symbol": "circle"
         },
         "mode": "markers",
         "name": "0003",
         "orientation": "v",
         "showlegend": true,
         "type": "scatter",
         "x": [
          0.5779511423486905
         ],
         "xaxis": "x",
         "y": [
          0.5915743121981906
         ],
         "yaxis": "y"
        },
        {
         "alignmentgroup": "True",
         "bingroup": "y",
         "hovertemplate": "test=0003<br>f1=%{y}<br>count=%{x}<extra></extra>",
         "legendgroup": "0003",
         "marker": {
          "color": "#00cc96"
         },
         "name": "0003",
         "offsetgroup": "0003",
         "opacity": 0.5,
         "showlegend": false,
         "type": "histogram",
         "xaxis": "x2",
         "y": [
          0.5915743121981906
         ],
         "yaxis": "y2"
        },
        {
         "hovertemplate": "<b>%{hovertext}</b><br><br>test=0005<br>rawF1=%{x}<br>f1=%{y}<extra></extra>",
         "hovertext": [
          "c0eba1b0-cd60-4e9e-ab7f-71131a829c7e"
         ],
         "legendgroup": "0005",
         "marker": {
          "color": "#ab63fa",
          "symbol": "circle"
         },
         "mode": "markers",
         "name": "0005",
         "orientation": "v",
         "showlegend": true,
         "type": "scatter",
         "x": [
          0.5661998703748207
         ],
         "xaxis": "x",
         "y": [
          0.5831359831058149
         ],
         "yaxis": "y"
        },
        {
         "alignmentgroup": "True",
         "bingroup": "y",
         "hovertemplate": "test=0005<br>f1=%{y}<br>count=%{x}<extra></extra>",
         "legendgroup": "0005",
         "marker": {
          "color": "#ab63fa"
         },
         "name": "0005",
         "offsetgroup": "0005",
         "opacity": 0.5,
         "showlegend": false,
         "type": "histogram",
         "xaxis": "x2",
         "y": [
          0.5831359831058149
         ],
         "yaxis": "y2"
        },
        {
         "hovertemplate": "<b>%{hovertext}</b><br><br>test=0006<br>rawF1=%{x}<br>f1=%{y}<extra></extra>",
         "hovertext": [
          "d7cf3254-9d32-4e20-a23e-3cdcd3107eaa"
         ],
         "legendgroup": "0006",
         "marker": {
          "color": "#FFA15A",
          "symbol": "circle"
         },
         "mode": "markers",
         "name": "0006",
         "orientation": "v",
         "showlegend": true,
         "type": "scatter",
         "x": [
          0.6034776539180062
         ],
         "xaxis": "x",
         "y": [
          0.6131238486459017
         ],
         "yaxis": "y"
        },
        {
         "alignmentgroup": "True",
         "bingroup": "y",
         "hovertemplate": "test=0006<br>f1=%{y}<br>count=%{x}<extra></extra>",
         "legendgroup": "0006",
         "marker": {
          "color": "#FFA15A"
         },
         "name": "0006",
         "offsetgroup": "0006",
         "opacity": 0.5,
         "showlegend": false,
         "type": "histogram",
         "xaxis": "x2",
         "y": [
          0.6131238486459017
         ],
         "yaxis": "y2"
        },
        {
         "hovertemplate": "<b>%{hovertext}</b><br><br>test=0007<br>rawF1=%{x}<br>f1=%{y}<extra></extra>",
         "hovertext": [
          "4f832318-c477-4835-acd3-7ec40944edd3"
         ],
         "legendgroup": "0007",
         "marker": {
          "color": "#19d3f3",
          "symbol": "circle"
         },
         "mode": "markers",
         "name": "0007",
         "orientation": "v",
         "showlegend": true,
         "type": "scatter",
         "x": [
          0.5768837068513345
         ],
         "xaxis": "x",
         "y": [
          0.5806388902389069
         ],
         "yaxis": "y"
        },
        {
         "alignmentgroup": "True",
         "bingroup": "y",
         "hovertemplate": "test=0007<br>f1=%{y}<br>count=%{x}<extra></extra>",
         "legendgroup": "0007",
         "marker": {
          "color": "#19d3f3"
         },
         "name": "0007",
         "offsetgroup": "0007",
         "opacity": 0.5,
         "showlegend": false,
         "type": "histogram",
         "xaxis": "x2",
         "y": [
          0.5806388902389069
         ],
         "yaxis": "y2"
        },
        {
         "hovertemplate": "<b>%{hovertext}</b><br><br>test=0009<br>rawF1=%{x}<br>f1=%{y}<extra></extra>",
         "hovertext": [
          "15e578bc-6917-4cef-a16a-bade7c0b0676"
         ],
         "legendgroup": "0009",
         "marker": {
          "color": "#FF6692",
          "symbol": "circle"
         },
         "mode": "markers",
         "name": "0009",
         "orientation": "v",
         "showlegend": true,
         "type": "scatter",
         "x": [
          0.6952646239554318
         ],
         "xaxis": "x",
         "y": [
          0.7061431555612397
         ],
         "yaxis": "y"
        },
        {
         "alignmentgroup": "True",
         "bingroup": "y",
         "hovertemplate": "test=0009<br>f1=%{y}<br>count=%{x}<extra></extra>",
         "legendgroup": "0009",
         "marker": {
          "color": "#FF6692"
         },
         "name": "0009",
         "offsetgroup": "0009",
         "opacity": 0.5,
         "showlegend": false,
         "type": "histogram",
         "xaxis": "x2",
         "y": [
          0.7061431555612397
         ],
         "yaxis": "y2"
        },
        {
         "hovertemplate": "<b>%{hovertext}</b><br><br>test=0010<br>rawF1=%{x}<br>f1=%{y}<extra></extra>",
         "hovertext": [
          "7e1fcff0-30f4-4f29-90d4-f7171b7700cf"
         ],
         "legendgroup": "0010",
         "marker": {
          "color": "#B6E880",
          "symbol": "circle"
         },
         "mode": "markers",
         "name": "0010",
         "orientation": "v",
         "showlegend": true,
         "type": "scatter",
         "x": [
          0.6780950963512686
         ],
         "xaxis": "x",
         "y": [
          0.6839805792000219
         ],
         "yaxis": "y"
        },
        {
         "alignmentgroup": "True",
         "bingroup": "y",
         "hovertemplate": "test=0010<br>f1=%{y}<br>count=%{x}<extra></extra>",
         "legendgroup": "0010",
         "marker": {
          "color": "#B6E880"
         },
         "name": "0010",
         "offsetgroup": "0010",
         "opacity": 0.5,
         "showlegend": false,
         "type": "histogram",
         "xaxis": "x2",
         "y": [
          0.6839805792000219
         ],
         "yaxis": "y2"
        },
        {
         "hovertemplate": "<b>%{hovertext}</b><br><br>test=0011<br>rawF1=%{x}<br>f1=%{y}<extra></extra>",
         "hovertext": [
          "0f783e82-ff7a-4204-9e47-55e534671311"
         ],
         "legendgroup": "0011",
         "marker": {
          "color": "#FF97FF",
          "symbol": "circle"
         },
         "mode": "markers",
         "name": "0011",
         "orientation": "v",
         "showlegend": true,
         "type": "scatter",
         "x": [
          0.6233405906142794
         ],
         "xaxis": "x",
         "y": [
          0.6274416667751129
         ],
         "yaxis": "y"
        },
        {
         "alignmentgroup": "True",
         "bingroup": "y",
         "hovertemplate": "test=0011<br>f1=%{y}<br>count=%{x}<extra></extra>",
         "legendgroup": "0011",
         "marker": {
          "color": "#FF97FF"
         },
         "name": "0011",
         "offsetgroup": "0011",
         "opacity": 0.5,
         "showlegend": false,
         "type": "histogram",
         "xaxis": "x2",
         "y": [
          0.6274416667751129
         ],
         "yaxis": "y2"
        },
        {
         "hovertemplate": "<b>%{hovertext}</b><br><br>test=0012<br>rawF1=%{x}<br>f1=%{y}<extra></extra>",
         "hovertext": [
          "99bfe384-9dde-485c-8233-eb9370c0bdbf"
         ],
         "legendgroup": "0012",
         "marker": {
          "color": "#FECB52",
          "symbol": "circle"
         },
         "mode": "markers",
         "name": "0012",
         "orientation": "v",
         "showlegend": true,
         "type": "scatter",
         "x": [
          0.6113564503906557
         ],
         "xaxis": "x",
         "y": [
          0.620376350072375
         ],
         "yaxis": "y"
        },
        {
         "alignmentgroup": "True",
         "bingroup": "y",
         "hovertemplate": "test=0012<br>f1=%{y}<br>count=%{x}<extra></extra>",
         "legendgroup": "0012",
         "marker": {
          "color": "#FECB52"
         },
         "name": "0012",
         "offsetgroup": "0012",
         "opacity": 0.5,
         "showlegend": false,
         "type": "histogram",
         "xaxis": "x2",
         "y": [
          0.620376350072375
         ],
         "yaxis": "y2"
        },
        {
         "hovertemplate": "<b>%{hovertext}</b><br><br>test=0013<br>rawF1=%{x}<br>f1=%{y}<extra></extra>",
         "hovertext": [
          "63e51dd9-118d-496b-8b4d-c0fd4db3d962"
         ],
         "legendgroup": "0013",
         "marker": {
          "color": "#636efa",
          "symbol": "circle"
         },
         "mode": "markers",
         "name": "0013",
         "orientation": "v",
         "showlegend": true,
         "type": "scatter",
         "x": [
          0.6418354110071143
         ],
         "xaxis": "x",
         "y": [
          0.6496547583308315
         ],
         "yaxis": "y"
        },
        {
         "alignmentgroup": "True",
         "bingroup": "y",
         "hovertemplate": "test=0013<br>f1=%{y}<br>count=%{x}<extra></extra>",
         "legendgroup": "0013",
         "marker": {
          "color": "#636efa"
         },
         "name": "0013",
         "offsetgroup": "0013",
         "opacity": 0.5,
         "showlegend": false,
         "type": "histogram",
         "xaxis": "x2",
         "y": [
          0.6496547583308315
         ],
         "yaxis": "y2"
        },
        {
         "hovertemplate": "<b>%{hovertext}</b><br><br>test=0014<br>rawF1=%{x}<br>f1=%{y}<extra></extra>",
         "hovertext": [
          "1665dd00-eb54-47cb-843d-f21453d9790d"
         ],
         "legendgroup": "0014",
         "marker": {
          "color": "#EF553B",
          "symbol": "circle"
         },
         "mode": "markers",
         "name": "0014",
         "orientation": "v",
         "showlegend": true,
         "type": "scatter",
         "x": [
          0.5522376868401933
         ],
         "xaxis": "x",
         "y": [
          0.5576871593469859
         ],
         "yaxis": "y"
        },
        {
         "alignmentgroup": "True",
         "bingroup": "y",
         "hovertemplate": "test=0014<br>f1=%{y}<br>count=%{x}<extra></extra>",
         "legendgroup": "0014",
         "marker": {
          "color": "#EF553B"
         },
         "name": "0014",
         "offsetgroup": "0014",
         "opacity": 0.5,
         "showlegend": false,
         "type": "histogram",
         "xaxis": "x2",
         "y": [
          0.5576871593469859
         ],
         "yaxis": "y2"
        },
        {
         "hovertemplate": "<b>%{hovertext}</b><br><br>test=0017<br>rawF1=%{x}<br>f1=%{y}<extra></extra>",
         "hovertext": [
          "263de413-4128-436e-b8a1-0bb7ad600f90"
         ],
         "legendgroup": "0017",
         "marker": {
          "color": "#00cc96",
          "symbol": "circle"
         },
         "mode": "markers",
         "name": "0017",
         "orientation": "v",
         "showlegend": true,
         "type": "scatter",
         "x": [
          0.6611951453891874
         ],
         "xaxis": "x",
         "y": [
          0.6684802268879596
         ],
         "yaxis": "y"
        },
        {
         "alignmentgroup": "True",
         "bingroup": "y",
         "hovertemplate": "test=0017<br>f1=%{y}<br>count=%{x}<extra></extra>",
         "legendgroup": "0017",
         "marker": {
          "color": "#00cc96"
         },
         "name": "0017",
         "offsetgroup": "0017",
         "opacity": 0.5,
         "showlegend": false,
         "type": "histogram",
         "xaxis": "x2",
         "y": [
          0.6684802268879596
         ],
         "yaxis": "y2"
        },
        {
         "hovertemplate": "<b>%{hovertext}</b><br><br>test=0018<br>rawF1=%{x}<br>f1=%{y}<extra></extra>",
         "hovertext": [
          "d666c68e-f0ca-4f31-b8f4-f0495ee86bc1"
         ],
         "legendgroup": "0018",
         "marker": {
          "color": "#ab63fa",
          "symbol": "circle"
         },
         "mode": "markers",
         "name": "0018",
         "orientation": "v",
         "showlegend": true,
         "type": "scatter",
         "x": [
          0.6526293144799077
         ],
         "xaxis": "x",
         "y": [
          0.6558104802671809
         ],
         "yaxis": "y"
        },
        {
         "alignmentgroup": "True",
         "bingroup": "y",
         "hovertemplate": "test=0018<br>f1=%{y}<br>count=%{x}<extra></extra>",
         "legendgroup": "0018",
         "marker": {
          "color": "#ab63fa"
         },
         "name": "0018",
         "offsetgroup": "0018",
         "opacity": 0.5,
         "showlegend": false,
         "type": "histogram",
         "xaxis": "x2",
         "y": [
          0.6558104802671809
         ],
         "yaxis": "y2"
        },
        {
         "hovertemplate": "<b>%{hovertext}</b><br><br>test=0019<br>rawF1=%{x}<br>f1=%{y}<extra></extra>",
         "hovertext": [
          "d88629a4-c108-44c5-9c1b-4008bdd78400"
         ],
         "legendgroup": "0019",
         "marker": {
          "color": "#FFA15A",
          "symbol": "circle"
         },
         "mode": "markers",
         "name": "0019",
         "orientation": "v",
         "showlegend": true,
         "type": "scatter",
         "x": [
          0.5109702852549456
         ],
         "xaxis": "x",
         "y": [
          0.5174092849519744
         ],
         "yaxis": "y"
        },
        {
         "alignmentgroup": "True",
         "bingroup": "y",
         "hovertemplate": "test=0019<br>f1=%{y}<br>count=%{x}<extra></extra>",
         "legendgroup": "0019",
         "marker": {
          "color": "#FFA15A"
         },
         "name": "0019",
         "offsetgroup": "0019",
         "opacity": 0.5,
         "showlegend": false,
         "type": "histogram",
         "xaxis": "x2",
         "y": [
          0.5174092849519744
         ],
         "yaxis": "y2"
        },
        {
         "fill": "toself",
         "mode": "lines",
         "name": "identity",
         "type": "scatter",
         "x": [
          0.645145153960778,
          0.7224349212222997,
          0.5779511423486905,
          0.5661998703748207,
          0.6034776539180062,
          0.5768837068513345,
          0.6952646239554318,
          0.6780950963512686,
          0.6233405906142794,
          0.6113564503906557,
          0.6418354110071143,
          0.5522376868401933,
          0.6611951453891874,
          0.6526293144799077,
          0.5109702852549456
         ],
         "y": [
          0.645145153960778,
          0.7224349212222997,
          0.5779511423486905,
          0.5661998703748207,
          0.6034776539180062,
          0.5768837068513345,
          0.6952646239554318,
          0.6780950963512686,
          0.6233405906142794,
          0.6113564503906557,
          0.6418354110071143,
          0.5522376868401933,
          0.6611951453891874,
          0.6526293144799077,
          0.5109702852549456
         ]
        }
       ],
       "layout": {
        "barmode": "overlay",
        "legend": {
         "title": {
          "text": "test"
         },
         "tracegroupgap": 0
        },
        "margin": {
         "t": 60
        },
        "template": {
         "data": {
          "bar": [
           {
            "error_x": {
             "color": "#2a3f5f"
            },
            "error_y": {
             "color": "#2a3f5f"
            },
            "marker": {
             "line": {
              "color": "#E5ECF6",
              "width": 0.5
             },
             "pattern": {
              "fillmode": "overlay",
              "size": 10,
              "solidity": 0.2
             }
            },
            "type": "bar"
           }
          ],
          "barpolar": [
           {
            "marker": {
             "line": {
              "color": "#E5ECF6",
              "width": 0.5
             },
             "pattern": {
              "fillmode": "overlay",
              "size": 10,
              "solidity": 0.2
             }
            },
            "type": "barpolar"
           }
          ],
          "carpet": [
           {
            "aaxis": {
             "endlinecolor": "#2a3f5f",
             "gridcolor": "white",
             "linecolor": "white",
             "minorgridcolor": "white",
             "startlinecolor": "#2a3f5f"
            },
            "baxis": {
             "endlinecolor": "#2a3f5f",
             "gridcolor": "white",
             "linecolor": "white",
             "minorgridcolor": "white",
             "startlinecolor": "#2a3f5f"
            },
            "type": "carpet"
           }
          ],
          "choropleth": [
           {
            "colorbar": {
             "outlinewidth": 0,
             "ticks": ""
            },
            "type": "choropleth"
           }
          ],
          "contour": [
           {
            "colorbar": {
             "outlinewidth": 0,
             "ticks": ""
            },
            "colorscale": [
             [
              0,
              "#0d0887"
             ],
             [
              0.1111111111111111,
              "#46039f"
             ],
             [
              0.2222222222222222,
              "#7201a8"
             ],
             [
              0.3333333333333333,
              "#9c179e"
             ],
             [
              0.4444444444444444,
              "#bd3786"
             ],
             [
              0.5555555555555556,
              "#d8576b"
             ],
             [
              0.6666666666666666,
              "#ed7953"
             ],
             [
              0.7777777777777778,
              "#fb9f3a"
             ],
             [
              0.8888888888888888,
              "#fdca26"
             ],
             [
              1,
              "#f0f921"
             ]
            ],
            "type": "contour"
           }
          ],
          "contourcarpet": [
           {
            "colorbar": {
             "outlinewidth": 0,
             "ticks": ""
            },
            "type": "contourcarpet"
           }
          ],
          "heatmap": [
           {
            "colorbar": {
             "outlinewidth": 0,
             "ticks": ""
            },
            "colorscale": [
             [
              0,
              "#0d0887"
             ],
             [
              0.1111111111111111,
              "#46039f"
             ],
             [
              0.2222222222222222,
              "#7201a8"
             ],
             [
              0.3333333333333333,
              "#9c179e"
             ],
             [
              0.4444444444444444,
              "#bd3786"
             ],
             [
              0.5555555555555556,
              "#d8576b"
             ],
             [
              0.6666666666666666,
              "#ed7953"
             ],
             [
              0.7777777777777778,
              "#fb9f3a"
             ],
             [
              0.8888888888888888,
              "#fdca26"
             ],
             [
              1,
              "#f0f921"
             ]
            ],
            "type": "heatmap"
           }
          ],
          "heatmapgl": [
           {
            "colorbar": {
             "outlinewidth": 0,
             "ticks": ""
            },
            "colorscale": [
             [
              0,
              "#0d0887"
             ],
             [
              0.1111111111111111,
              "#46039f"
             ],
             [
              0.2222222222222222,
              "#7201a8"
             ],
             [
              0.3333333333333333,
              "#9c179e"
             ],
             [
              0.4444444444444444,
              "#bd3786"
             ],
             [
              0.5555555555555556,
              "#d8576b"
             ],
             [
              0.6666666666666666,
              "#ed7953"
             ],
             [
              0.7777777777777778,
              "#fb9f3a"
             ],
             [
              0.8888888888888888,
              "#fdca26"
             ],
             [
              1,
              "#f0f921"
             ]
            ],
            "type": "heatmapgl"
           }
          ],
          "histogram": [
           {
            "marker": {
             "pattern": {
              "fillmode": "overlay",
              "size": 10,
              "solidity": 0.2
             }
            },
            "type": "histogram"
           }
          ],
          "histogram2d": [
           {
            "colorbar": {
             "outlinewidth": 0,
             "ticks": ""
            },
            "colorscale": [
             [
              0,
              "#0d0887"
             ],
             [
              0.1111111111111111,
              "#46039f"
             ],
             [
              0.2222222222222222,
              "#7201a8"
             ],
             [
              0.3333333333333333,
              "#9c179e"
             ],
             [
              0.4444444444444444,
              "#bd3786"
             ],
             [
              0.5555555555555556,
              "#d8576b"
             ],
             [
              0.6666666666666666,
              "#ed7953"
             ],
             [
              0.7777777777777778,
              "#fb9f3a"
             ],
             [
              0.8888888888888888,
              "#fdca26"
             ],
             [
              1,
              "#f0f921"
             ]
            ],
            "type": "histogram2d"
           }
          ],
          "histogram2dcontour": [
           {
            "colorbar": {
             "outlinewidth": 0,
             "ticks": ""
            },
            "colorscale": [
             [
              0,
              "#0d0887"
             ],
             [
              0.1111111111111111,
              "#46039f"
             ],
             [
              0.2222222222222222,
              "#7201a8"
             ],
             [
              0.3333333333333333,
              "#9c179e"
             ],
             [
              0.4444444444444444,
              "#bd3786"
             ],
             [
              0.5555555555555556,
              "#d8576b"
             ],
             [
              0.6666666666666666,
              "#ed7953"
             ],
             [
              0.7777777777777778,
              "#fb9f3a"
             ],
             [
              0.8888888888888888,
              "#fdca26"
             ],
             [
              1,
              "#f0f921"
             ]
            ],
            "type": "histogram2dcontour"
           }
          ],
          "mesh3d": [
           {
            "colorbar": {
             "outlinewidth": 0,
             "ticks": ""
            },
            "type": "mesh3d"
           }
          ],
          "parcoords": [
           {
            "line": {
             "colorbar": {
              "outlinewidth": 0,
              "ticks": ""
             }
            },
            "type": "parcoords"
           }
          ],
          "pie": [
           {
            "automargin": true,
            "type": "pie"
           }
          ],
          "scatter": [
           {
            "fillpattern": {
             "fillmode": "overlay",
             "size": 10,
             "solidity": 0.2
            },
            "type": "scatter"
           }
          ],
          "scatter3d": [
           {
            "line": {
             "colorbar": {
              "outlinewidth": 0,
              "ticks": ""
             }
            },
            "marker": {
             "colorbar": {
              "outlinewidth": 0,
              "ticks": ""
             }
            },
            "type": "scatter3d"
           }
          ],
          "scattercarpet": [
           {
            "marker": {
             "colorbar": {
              "outlinewidth": 0,
              "ticks": ""
             }
            },
            "type": "scattercarpet"
           }
          ],
          "scattergeo": [
           {
            "marker": {
             "colorbar": {
              "outlinewidth": 0,
              "ticks": ""
             }
            },
            "type": "scattergeo"
           }
          ],
          "scattergl": [
           {
            "marker": {
             "colorbar": {
              "outlinewidth": 0,
              "ticks": ""
             }
            },
            "type": "scattergl"
           }
          ],
          "scattermapbox": [
           {
            "marker": {
             "colorbar": {
              "outlinewidth": 0,
              "ticks": ""
             }
            },
            "type": "scattermapbox"
           }
          ],
          "scatterpolar": [
           {
            "marker": {
             "colorbar": {
              "outlinewidth": 0,
              "ticks": ""
             }
            },
            "type": "scatterpolar"
           }
          ],
          "scatterpolargl": [
           {
            "marker": {
             "colorbar": {
              "outlinewidth": 0,
              "ticks": ""
             }
            },
            "type": "scatterpolargl"
           }
          ],
          "scatterternary": [
           {
            "marker": {
             "colorbar": {
              "outlinewidth": 0,
              "ticks": ""
             }
            },
            "type": "scatterternary"
           }
          ],
          "surface": [
           {
            "colorbar": {
             "outlinewidth": 0,
             "ticks": ""
            },
            "colorscale": [
             [
              0,
              "#0d0887"
             ],
             [
              0.1111111111111111,
              "#46039f"
             ],
             [
              0.2222222222222222,
              "#7201a8"
             ],
             [
              0.3333333333333333,
              "#9c179e"
             ],
             [
              0.4444444444444444,
              "#bd3786"
             ],
             [
              0.5555555555555556,
              "#d8576b"
             ],
             [
              0.6666666666666666,
              "#ed7953"
             ],
             [
              0.7777777777777778,
              "#fb9f3a"
             ],
             [
              0.8888888888888888,
              "#fdca26"
             ],
             [
              1,
              "#f0f921"
             ]
            ],
            "type": "surface"
           }
          ],
          "table": [
           {
            "cells": {
             "fill": {
              "color": "#EBF0F8"
             },
             "line": {
              "color": "white"
             }
            },
            "header": {
             "fill": {
              "color": "#C8D4E3"
             },
             "line": {
              "color": "white"
             }
            },
            "type": "table"
           }
          ]
         },
         "layout": {
          "annotationdefaults": {
           "arrowcolor": "#2a3f5f",
           "arrowhead": 0,
           "arrowwidth": 1
          },
          "autotypenumbers": "strict",
          "coloraxis": {
           "colorbar": {
            "outlinewidth": 0,
            "ticks": ""
           }
          },
          "colorscale": {
           "diverging": [
            [
             0,
             "#8e0152"
            ],
            [
             0.1,
             "#c51b7d"
            ],
            [
             0.2,
             "#de77ae"
            ],
            [
             0.3,
             "#f1b6da"
            ],
            [
             0.4,
             "#fde0ef"
            ],
            [
             0.5,
             "#f7f7f7"
            ],
            [
             0.6,
             "#e6f5d0"
            ],
            [
             0.7,
             "#b8e186"
            ],
            [
             0.8,
             "#7fbc41"
            ],
            [
             0.9,
             "#4d9221"
            ],
            [
             1,
             "#276419"
            ]
           ],
           "sequential": [
            [
             0,
             "#0d0887"
            ],
            [
             0.1111111111111111,
             "#46039f"
            ],
            [
             0.2222222222222222,
             "#7201a8"
            ],
            [
             0.3333333333333333,
             "#9c179e"
            ],
            [
             0.4444444444444444,
             "#bd3786"
            ],
            [
             0.5555555555555556,
             "#d8576b"
            ],
            [
             0.6666666666666666,
             "#ed7953"
            ],
            [
             0.7777777777777778,
             "#fb9f3a"
            ],
            [
             0.8888888888888888,
             "#fdca26"
            ],
            [
             1,
             "#f0f921"
            ]
           ],
           "sequentialminus": [
            [
             0,
             "#0d0887"
            ],
            [
             0.1111111111111111,
             "#46039f"
            ],
            [
             0.2222222222222222,
             "#7201a8"
            ],
            [
             0.3333333333333333,
             "#9c179e"
            ],
            [
             0.4444444444444444,
             "#bd3786"
            ],
            [
             0.5555555555555556,
             "#d8576b"
            ],
            [
             0.6666666666666666,
             "#ed7953"
            ],
            [
             0.7777777777777778,
             "#fb9f3a"
            ],
            [
             0.8888888888888888,
             "#fdca26"
            ],
            [
             1,
             "#f0f921"
            ]
           ]
          },
          "colorway": [
           "#636efa",
           "#EF553B",
           "#00cc96",
           "#ab63fa",
           "#FFA15A",
           "#19d3f3",
           "#FF6692",
           "#B6E880",
           "#FF97FF",
           "#FECB52"
          ],
          "font": {
           "color": "#2a3f5f"
          },
          "geo": {
           "bgcolor": "white",
           "lakecolor": "white",
           "landcolor": "#E5ECF6",
           "showlakes": true,
           "showland": true,
           "subunitcolor": "white"
          },
          "hoverlabel": {
           "align": "left"
          },
          "hovermode": "closest",
          "mapbox": {
           "style": "light"
          },
          "paper_bgcolor": "white",
          "plot_bgcolor": "#E5ECF6",
          "polar": {
           "angularaxis": {
            "gridcolor": "white",
            "linecolor": "white",
            "ticks": ""
           },
           "bgcolor": "#E5ECF6",
           "radialaxis": {
            "gridcolor": "white",
            "linecolor": "white",
            "ticks": ""
           }
          },
          "scene": {
           "xaxis": {
            "backgroundcolor": "#E5ECF6",
            "gridcolor": "white",
            "gridwidth": 2,
            "linecolor": "white",
            "showbackground": true,
            "ticks": "",
            "zerolinecolor": "white"
           },
           "yaxis": {
            "backgroundcolor": "#E5ECF6",
            "gridcolor": "white",
            "gridwidth": 2,
            "linecolor": "white",
            "showbackground": true,
            "ticks": "",
            "zerolinecolor": "white"
           },
           "zaxis": {
            "backgroundcolor": "#E5ECF6",
            "gridcolor": "white",
            "gridwidth": 2,
            "linecolor": "white",
            "showbackground": true,
            "ticks": "",
            "zerolinecolor": "white"
           }
          },
          "shapedefaults": {
           "line": {
            "color": "#2a3f5f"
           }
          },
          "ternary": {
           "aaxis": {
            "gridcolor": "white",
            "linecolor": "white",
            "ticks": ""
           },
           "baxis": {
            "gridcolor": "white",
            "linecolor": "white",
            "ticks": ""
           },
           "bgcolor": "#E5ECF6",
           "caxis": {
            "gridcolor": "white",
            "linecolor": "white",
            "ticks": ""
           }
          },
          "title": {
           "x": 0.05
          },
          "xaxis": {
           "automargin": true,
           "gridcolor": "white",
           "linecolor": "white",
           "ticks": "",
           "title": {
            "standoff": 15
           },
           "zerolinecolor": "white",
           "zerolinewidth": 2
          },
          "yaxis": {
           "automargin": true,
           "gridcolor": "white",
           "linecolor": "white",
           "ticks": "",
           "title": {
            "standoff": 15
           },
           "zerolinecolor": "white",
           "zerolinewidth": 2
          }
         }
        },
        "xaxis": {
         "anchor": "y",
         "domain": [
          0,
          0.7363
         ],
         "title": {
          "text": "rawF1"
         }
        },
        "xaxis2": {
         "anchor": "y2",
         "domain": [
          0.7413,
          1
         ],
         "matches": "x2",
         "showgrid": true,
         "showline": false,
         "showticklabels": false,
         "ticks": ""
        },
        "yaxis": {
         "anchor": "x",
         "domain": [
          0,
          1
         ],
         "title": {
          "text": "f1"
         }
        },
        "yaxis2": {
         "anchor": "x2",
         "domain": [
          0,
          1
         ],
         "matches": "y",
         "showgrid": true,
         "showticklabels": false
        }
       }
      }
     },
     "metadata": {},
     "output_type": "display_data"
    }
   ],
   "source": [
    "fig=px.scatter(experimentModels,x='rawF1',y='f1',color='test',hover_name='modelId', marginal_y=\"histogram\")\n",
    "fig.add_trace(\n",
    "    go.Scatter(x=experimentModels['rawF1'], y=experimentModels['rawF1'], name=\"identity\", mode='lines',fill=\"toself\")\n",
    ")\n",
    "fig.show()"
   ]
  },
  {
   "cell_type": "code",
   "execution_count": 18,
   "metadata": {},
   "outputs": [
    {
     "data": {
      "application/vnd.plotly.v1+json": {
       "config": {
        "plotlyServerURL": "https://plot.ly"
       },
       "data": [
        {
         "hovertemplate": "<b>%{hovertext}</b><br><br>test=0001<br>rawF1=%{x}<br>eventF1=%{y}<extra></extra>",
         "hovertext": [
          "aa11eb61-61e6-41e2-94d5-a4833e9b8d9d"
         ],
         "legendgroup": "0001",
         "marker": {
          "color": "#636efa",
          "symbol": "circle"
         },
         "mode": "markers",
         "name": "0001",
         "orientation": "v",
         "showlegend": true,
         "type": "scatter",
         "x": [
          0.645145153960778
         ],
         "xaxis": "x",
         "y": [
          0.7060158910329172
         ],
         "yaxis": "y"
        },
        {
         "alignmentgroup": "True",
         "bingroup": "y",
         "hovertemplate": "test=0001<br>eventF1=%{y}<br>count=%{x}<extra></extra>",
         "legendgroup": "0001",
         "marker": {
          "color": "#636efa"
         },
         "name": "0001",
         "offsetgroup": "0001",
         "opacity": 0.5,
         "showlegend": false,
         "type": "histogram",
         "xaxis": "x2",
         "y": [
          0.7060158910329172
         ],
         "yaxis": "y2"
        },
        {
         "hovertemplate": "<b>%{hovertext}</b><br><br>test=0002<br>rawF1=%{x}<br>eventF1=%{y}<extra></extra>",
         "hovertext": [
          "56daf263-9a04-44a8-a967-ed222c84ae8c"
         ],
         "legendgroup": "0002",
         "marker": {
          "color": "#EF553B",
          "symbol": "circle"
         },
         "mode": "markers",
         "name": "0002",
         "orientation": "v",
         "showlegend": true,
         "type": "scatter",
         "x": [
          0.7224349212222997
         ],
         "xaxis": "x",
         "y": [
          0.7796480489671003
         ],
         "yaxis": "y"
        },
        {
         "alignmentgroup": "True",
         "bingroup": "y",
         "hovertemplate": "test=0002<br>eventF1=%{y}<br>count=%{x}<extra></extra>",
         "legendgroup": "0002",
         "marker": {
          "color": "#EF553B"
         },
         "name": "0002",
         "offsetgroup": "0002",
         "opacity": 0.5,
         "showlegend": false,
         "type": "histogram",
         "xaxis": "x2",
         "y": [
          0.7796480489671003
         ],
         "yaxis": "y2"
        },
        {
         "hovertemplate": "<b>%{hovertext}</b><br><br>test=0003<br>rawF1=%{x}<br>eventF1=%{y}<extra></extra>",
         "hovertext": [
          "983f3902-7ddc-4ab2-93e7-4da2577f8b4b"
         ],
         "legendgroup": "0003",
         "marker": {
          "color": "#00cc96",
          "symbol": "circle"
         },
         "mode": "markers",
         "name": "0003",
         "orientation": "v",
         "showlegend": true,
         "type": "scatter",
         "x": [
          0.5779511423486905
         ],
         "xaxis": "x",
         "y": [
          0.6188118811881188
         ],
         "yaxis": "y"
        },
        {
         "alignmentgroup": "True",
         "bingroup": "y",
         "hovertemplate": "test=0003<br>eventF1=%{y}<br>count=%{x}<extra></extra>",
         "legendgroup": "0003",
         "marker": {
          "color": "#00cc96"
         },
         "name": "0003",
         "offsetgroup": "0003",
         "opacity": 0.5,
         "showlegend": false,
         "type": "histogram",
         "xaxis": "x2",
         "y": [
          0.6188118811881188
         ],
         "yaxis": "y2"
        },
        {
         "hovertemplate": "<b>%{hovertext}</b><br><br>test=0005<br>rawF1=%{x}<br>eventF1=%{y}<extra></extra>",
         "hovertext": [
          "c0eba1b0-cd60-4e9e-ab7f-71131a829c7e"
         ],
         "legendgroup": "0005",
         "marker": {
          "color": "#ab63fa",
          "symbol": "circle"
         },
         "mode": "markers",
         "name": "0005",
         "orientation": "v",
         "showlegend": true,
         "type": "scatter",
         "x": [
          0.5661998703748207
         ],
         "xaxis": "x",
         "y": [
          0.6222684703433923
         ],
         "yaxis": "y"
        },
        {
         "alignmentgroup": "True",
         "bingroup": "y",
         "hovertemplate": "test=0005<br>eventF1=%{y}<br>count=%{x}<extra></extra>",
         "legendgroup": "0005",
         "marker": {
          "color": "#ab63fa"
         },
         "name": "0005",
         "offsetgroup": "0005",
         "opacity": 0.5,
         "showlegend": false,
         "type": "histogram",
         "xaxis": "x2",
         "y": [
          0.6222684703433923
         ],
         "yaxis": "y2"
        },
        {
         "hovertemplate": "<b>%{hovertext}</b><br><br>test=0006<br>rawF1=%{x}<br>eventF1=%{y}<extra></extra>",
         "hovertext": [
          "d7cf3254-9d32-4e20-a23e-3cdcd3107eaa"
         ],
         "legendgroup": "0006",
         "marker": {
          "color": "#FFA15A",
          "symbol": "circle"
         },
         "mode": "markers",
         "name": "0006",
         "orientation": "v",
         "showlegend": true,
         "type": "scatter",
         "x": [
          0.6034776539180062
         ],
         "xaxis": "x",
         "y": [
          0.6646706586826348
         ],
         "yaxis": "y"
        },
        {
         "alignmentgroup": "True",
         "bingroup": "y",
         "hovertemplate": "test=0006<br>eventF1=%{y}<br>count=%{x}<extra></extra>",
         "legendgroup": "0006",
         "marker": {
          "color": "#FFA15A"
         },
         "name": "0006",
         "offsetgroup": "0006",
         "opacity": 0.5,
         "showlegend": false,
         "type": "histogram",
         "xaxis": "x2",
         "y": [
          0.6646706586826348
         ],
         "yaxis": "y2"
        },
        {
         "hovertemplate": "<b>%{hovertext}</b><br><br>test=0007<br>rawF1=%{x}<br>eventF1=%{y}<extra></extra>",
         "hovertext": [
          "4f832318-c477-4835-acd3-7ec40944edd3"
         ],
         "legendgroup": "0007",
         "marker": {
          "color": "#19d3f3",
          "symbol": "circle"
         },
         "mode": "markers",
         "name": "0007",
         "orientation": "v",
         "showlegend": true,
         "type": "scatter",
         "x": [
          0.5768837068513345
         ],
         "xaxis": "x",
         "y": [
          0.6198282591725215
         ],
         "yaxis": "y"
        },
        {
         "alignmentgroup": "True",
         "bingroup": "y",
         "hovertemplate": "test=0007<br>eventF1=%{y}<br>count=%{x}<extra></extra>",
         "legendgroup": "0007",
         "marker": {
          "color": "#19d3f3"
         },
         "name": "0007",
         "offsetgroup": "0007",
         "opacity": 0.5,
         "showlegend": false,
         "type": "histogram",
         "xaxis": "x2",
         "y": [
          0.6198282591725215
         ],
         "yaxis": "y2"
        },
        {
         "hovertemplate": "<b>%{hovertext}</b><br><br>test=0009<br>rawF1=%{x}<br>eventF1=%{y}<extra></extra>",
         "hovertext": [
          "15e578bc-6917-4cef-a16a-bade7c0b0676"
         ],
         "legendgroup": "0009",
         "marker": {
          "color": "#FF6692",
          "symbol": "circle"
         },
         "mode": "markers",
         "name": "0009",
         "orientation": "v",
         "showlegend": true,
         "type": "scatter",
         "x": [
          0.6952646239554318
         ],
         "xaxis": "x",
         "y": [
          0.7838651414810355
         ],
         "yaxis": "y"
        },
        {
         "alignmentgroup": "True",
         "bingroup": "y",
         "hovertemplate": "test=0009<br>eventF1=%{y}<br>count=%{x}<extra></extra>",
         "legendgroup": "0009",
         "marker": {
          "color": "#FF6692"
         },
         "name": "0009",
         "offsetgroup": "0009",
         "opacity": 0.5,
         "showlegend": false,
         "type": "histogram",
         "xaxis": "x2",
         "y": [
          0.7838651414810355
         ],
         "yaxis": "y2"
        },
        {
         "hovertemplate": "<b>%{hovertext}</b><br><br>test=0010<br>rawF1=%{x}<br>eventF1=%{y}<extra></extra>",
         "hovertext": [
          "7e1fcff0-30f4-4f29-90d4-f7171b7700cf"
         ],
         "legendgroup": "0010",
         "marker": {
          "color": "#B6E880",
          "symbol": "circle"
         },
         "mode": "markers",
         "name": "0010",
         "orientation": "v",
         "showlegend": true,
         "type": "scatter",
         "x": [
          0.6780950963512686
         ],
         "xaxis": "x",
         "y": [
          0.7355543987506507
         ],
         "yaxis": "y"
        },
        {
         "alignmentgroup": "True",
         "bingroup": "y",
         "hovertemplate": "test=0010<br>eventF1=%{y}<br>count=%{x}<extra></extra>",
         "legendgroup": "0010",
         "marker": {
          "color": "#B6E880"
         },
         "name": "0010",
         "offsetgroup": "0010",
         "opacity": 0.5,
         "showlegend": false,
         "type": "histogram",
         "xaxis": "x2",
         "y": [
          0.7355543987506507
         ],
         "yaxis": "y2"
        },
        {
         "hovertemplate": "<b>%{hovertext}</b><br><br>test=0011<br>rawF1=%{x}<br>eventF1=%{y}<extra></extra>",
         "hovertext": [
          "0f783e82-ff7a-4204-9e47-55e534671311"
         ],
         "legendgroup": "0011",
         "marker": {
          "color": "#FF97FF",
          "symbol": "circle"
         },
         "mode": "markers",
         "name": "0011",
         "orientation": "v",
         "showlegend": true,
         "type": "scatter",
         "x": [
          0.6233405906142794
         ],
         "xaxis": "x",
         "y": [
          0.63931718061674
         ],
         "yaxis": "y"
        },
        {
         "alignmentgroup": "True",
         "bingroup": "y",
         "hovertemplate": "test=0011<br>eventF1=%{y}<br>count=%{x}<extra></extra>",
         "legendgroup": "0011",
         "marker": {
          "color": "#FF97FF"
         },
         "name": "0011",
         "offsetgroup": "0011",
         "opacity": 0.5,
         "showlegend": false,
         "type": "histogram",
         "xaxis": "x2",
         "y": [
          0.63931718061674
         ],
         "yaxis": "y2"
        },
        {
         "hovertemplate": "<b>%{hovertext}</b><br><br>test=0012<br>rawF1=%{x}<br>eventF1=%{y}<extra></extra>",
         "hovertext": [
          "99bfe384-9dde-485c-8233-eb9370c0bdbf"
         ],
         "legendgroup": "0012",
         "marker": {
          "color": "#FECB52",
          "symbol": "circle"
         },
         "mode": "markers",
         "name": "0012",
         "orientation": "v",
         "showlegend": true,
         "type": "scatter",
         "x": [
          0.6113564503906557
         ],
         "xaxis": "x",
         "y": [
          0.6838885112168592
         ],
         "yaxis": "y"
        },
        {
         "alignmentgroup": "True",
         "bingroup": "y",
         "hovertemplate": "test=0012<br>eventF1=%{y}<br>count=%{x}<extra></extra>",
         "legendgroup": "0012",
         "marker": {
          "color": "#FECB52"
         },
         "name": "0012",
         "offsetgroup": "0012",
         "opacity": 0.5,
         "showlegend": false,
         "type": "histogram",
         "xaxis": "x2",
         "y": [
          0.6838885112168592
         ],
         "yaxis": "y2"
        },
        {
         "hovertemplate": "<b>%{hovertext}</b><br><br>test=0013<br>rawF1=%{x}<br>eventF1=%{y}<extra></extra>",
         "hovertext": [
          "63e51dd9-118d-496b-8b4d-c0fd4db3d962"
         ],
         "legendgroup": "0013",
         "marker": {
          "color": "#636efa",
          "symbol": "circle"
         },
         "mode": "markers",
         "name": "0013",
         "orientation": "v",
         "showlegend": true,
         "type": "scatter",
         "x": [
          0.6418354110071143
         ],
         "xaxis": "x",
         "y": [
          0.6733027054619704
         ],
         "yaxis": "y"
        },
        {
         "alignmentgroup": "True",
         "bingroup": "y",
         "hovertemplate": "test=0013<br>eventF1=%{y}<br>count=%{x}<extra></extra>",
         "legendgroup": "0013",
         "marker": {
          "color": "#636efa"
         },
         "name": "0013",
         "offsetgroup": "0013",
         "opacity": 0.5,
         "showlegend": false,
         "type": "histogram",
         "xaxis": "x2",
         "y": [
          0.6733027054619704
         ],
         "yaxis": "y2"
        },
        {
         "hovertemplate": "<b>%{hovertext}</b><br><br>test=0014<br>rawF1=%{x}<br>eventF1=%{y}<extra></extra>",
         "hovertext": [
          "1665dd00-eb54-47cb-843d-f21453d9790d"
         ],
         "legendgroup": "0014",
         "marker": {
          "color": "#EF553B",
          "symbol": "circle"
         },
         "mode": "markers",
         "name": "0014",
         "orientation": "v",
         "showlegend": true,
         "type": "scatter",
         "x": [
          0.5522376868401933
         ],
         "xaxis": "x",
         "y": [
          0.5932787591555364
         ],
         "yaxis": "y"
        },
        {
         "alignmentgroup": "True",
         "bingroup": "y",
         "hovertemplate": "test=0014<br>eventF1=%{y}<br>count=%{x}<extra></extra>",
         "legendgroup": "0014",
         "marker": {
          "color": "#EF553B"
         },
         "name": "0014",
         "offsetgroup": "0014",
         "opacity": 0.5,
         "showlegend": false,
         "type": "histogram",
         "xaxis": "x2",
         "y": [
          0.5932787591555364
         ],
         "yaxis": "y2"
        },
        {
         "hovertemplate": "<b>%{hovertext}</b><br><br>test=0017<br>rawF1=%{x}<br>eventF1=%{y}<extra></extra>",
         "hovertext": [
          "263de413-4128-436e-b8a1-0bb7ad600f90"
         ],
         "legendgroup": "0017",
         "marker": {
          "color": "#00cc96",
          "symbol": "circle"
         },
         "mode": "markers",
         "name": "0017",
         "orientation": "v",
         "showlegend": true,
         "type": "scatter",
         "x": [
          0.6611951453891874
         ],
         "xaxis": "x",
         "y": [
          0.7360350492880613
         ],
         "yaxis": "y"
        },
        {
         "alignmentgroup": "True",
         "bingroup": "y",
         "hovertemplate": "test=0017<br>eventF1=%{y}<br>count=%{x}<extra></extra>",
         "legendgroup": "0017",
         "marker": {
          "color": "#00cc96"
         },
         "name": "0017",
         "offsetgroup": "0017",
         "opacity": 0.5,
         "showlegend": false,
         "type": "histogram",
         "xaxis": "x2",
         "y": [
          0.7360350492880613
         ],
         "yaxis": "y2"
        },
        {
         "hovertemplate": "<b>%{hovertext}</b><br><br>test=0018<br>rawF1=%{x}<br>eventF1=%{y}<extra></extra>",
         "hovertext": [
          "d666c68e-f0ca-4f31-b8f4-f0495ee86bc1"
         ],
         "legendgroup": "0018",
         "marker": {
          "color": "#ab63fa",
          "symbol": "circle"
         },
         "mode": "markers",
         "name": "0018",
         "orientation": "v",
         "showlegend": true,
         "type": "scatter",
         "x": [
          0.6526293144799077
         ],
         "xaxis": "x",
         "y": [
          0.7330861909175163
         ],
         "yaxis": "y"
        },
        {
         "alignmentgroup": "True",
         "bingroup": "y",
         "hovertemplate": "test=0018<br>eventF1=%{y}<br>count=%{x}<extra></extra>",
         "legendgroup": "0018",
         "marker": {
          "color": "#ab63fa"
         },
         "name": "0018",
         "offsetgroup": "0018",
         "opacity": 0.5,
         "showlegend": false,
         "type": "histogram",
         "xaxis": "x2",
         "y": [
          0.7330861909175163
         ],
         "yaxis": "y2"
        },
        {
         "hovertemplate": "<b>%{hovertext}</b><br><br>test=0019<br>rawF1=%{x}<br>eventF1=%{y}<extra></extra>",
         "hovertext": [
          "d88629a4-c108-44c5-9c1b-4008bdd78400"
         ],
         "legendgroup": "0019",
         "marker": {
          "color": "#FFA15A",
          "symbol": "circle"
         },
         "mode": "markers",
         "name": "0019",
         "orientation": "v",
         "showlegend": true,
         "type": "scatter",
         "x": [
          0.5109702852549456
         ],
         "xaxis": "x",
         "y": [
          0.5373390557939914
         ],
         "yaxis": "y"
        },
        {
         "alignmentgroup": "True",
         "bingroup": "y",
         "hovertemplate": "test=0019<br>eventF1=%{y}<br>count=%{x}<extra></extra>",
         "legendgroup": "0019",
         "marker": {
          "color": "#FFA15A"
         },
         "name": "0019",
         "offsetgroup": "0019",
         "opacity": 0.5,
         "showlegend": false,
         "type": "histogram",
         "xaxis": "x2",
         "y": [
          0.5373390557939914
         ],
         "yaxis": "y2"
        },
        {
         "fill": "toself",
         "mode": "lines",
         "name": "identity",
         "type": "scatter",
         "x": [
          0.645145153960778,
          0.7224349212222997,
          0.5779511423486905,
          0.5661998703748207,
          0.6034776539180062,
          0.5768837068513345,
          0.6952646239554318,
          0.6780950963512686,
          0.6233405906142794,
          0.6113564503906557,
          0.6418354110071143,
          0.5522376868401933,
          0.6611951453891874,
          0.6526293144799077,
          0.5109702852549456
         ],
         "y": [
          0.645145153960778,
          0.7224349212222997,
          0.5779511423486905,
          0.5661998703748207,
          0.6034776539180062,
          0.5768837068513345,
          0.6952646239554318,
          0.6780950963512686,
          0.6233405906142794,
          0.6113564503906557,
          0.6418354110071143,
          0.5522376868401933,
          0.6611951453891874,
          0.6526293144799077,
          0.5109702852549456
         ]
        }
       ],
       "layout": {
        "barmode": "overlay",
        "legend": {
         "title": {
          "text": "test"
         },
         "tracegroupgap": 0
        },
        "margin": {
         "t": 60
        },
        "template": {
         "data": {
          "bar": [
           {
            "error_x": {
             "color": "#2a3f5f"
            },
            "error_y": {
             "color": "#2a3f5f"
            },
            "marker": {
             "line": {
              "color": "#E5ECF6",
              "width": 0.5
             },
             "pattern": {
              "fillmode": "overlay",
              "size": 10,
              "solidity": 0.2
             }
            },
            "type": "bar"
           }
          ],
          "barpolar": [
           {
            "marker": {
             "line": {
              "color": "#E5ECF6",
              "width": 0.5
             },
             "pattern": {
              "fillmode": "overlay",
              "size": 10,
              "solidity": 0.2
             }
            },
            "type": "barpolar"
           }
          ],
          "carpet": [
           {
            "aaxis": {
             "endlinecolor": "#2a3f5f",
             "gridcolor": "white",
             "linecolor": "white",
             "minorgridcolor": "white",
             "startlinecolor": "#2a3f5f"
            },
            "baxis": {
             "endlinecolor": "#2a3f5f",
             "gridcolor": "white",
             "linecolor": "white",
             "minorgridcolor": "white",
             "startlinecolor": "#2a3f5f"
            },
            "type": "carpet"
           }
          ],
          "choropleth": [
           {
            "colorbar": {
             "outlinewidth": 0,
             "ticks": ""
            },
            "type": "choropleth"
           }
          ],
          "contour": [
           {
            "colorbar": {
             "outlinewidth": 0,
             "ticks": ""
            },
            "colorscale": [
             [
              0,
              "#0d0887"
             ],
             [
              0.1111111111111111,
              "#46039f"
             ],
             [
              0.2222222222222222,
              "#7201a8"
             ],
             [
              0.3333333333333333,
              "#9c179e"
             ],
             [
              0.4444444444444444,
              "#bd3786"
             ],
             [
              0.5555555555555556,
              "#d8576b"
             ],
             [
              0.6666666666666666,
              "#ed7953"
             ],
             [
              0.7777777777777778,
              "#fb9f3a"
             ],
             [
              0.8888888888888888,
              "#fdca26"
             ],
             [
              1,
              "#f0f921"
             ]
            ],
            "type": "contour"
           }
          ],
          "contourcarpet": [
           {
            "colorbar": {
             "outlinewidth": 0,
             "ticks": ""
            },
            "type": "contourcarpet"
           }
          ],
          "heatmap": [
           {
            "colorbar": {
             "outlinewidth": 0,
             "ticks": ""
            },
            "colorscale": [
             [
              0,
              "#0d0887"
             ],
             [
              0.1111111111111111,
              "#46039f"
             ],
             [
              0.2222222222222222,
              "#7201a8"
             ],
             [
              0.3333333333333333,
              "#9c179e"
             ],
             [
              0.4444444444444444,
              "#bd3786"
             ],
             [
              0.5555555555555556,
              "#d8576b"
             ],
             [
              0.6666666666666666,
              "#ed7953"
             ],
             [
              0.7777777777777778,
              "#fb9f3a"
             ],
             [
              0.8888888888888888,
              "#fdca26"
             ],
             [
              1,
              "#f0f921"
             ]
            ],
            "type": "heatmap"
           }
          ],
          "heatmapgl": [
           {
            "colorbar": {
             "outlinewidth": 0,
             "ticks": ""
            },
            "colorscale": [
             [
              0,
              "#0d0887"
             ],
             [
              0.1111111111111111,
              "#46039f"
             ],
             [
              0.2222222222222222,
              "#7201a8"
             ],
             [
              0.3333333333333333,
              "#9c179e"
             ],
             [
              0.4444444444444444,
              "#bd3786"
             ],
             [
              0.5555555555555556,
              "#d8576b"
             ],
             [
              0.6666666666666666,
              "#ed7953"
             ],
             [
              0.7777777777777778,
              "#fb9f3a"
             ],
             [
              0.8888888888888888,
              "#fdca26"
             ],
             [
              1,
              "#f0f921"
             ]
            ],
            "type": "heatmapgl"
           }
          ],
          "histogram": [
           {
            "marker": {
             "pattern": {
              "fillmode": "overlay",
              "size": 10,
              "solidity": 0.2
             }
            },
            "type": "histogram"
           }
          ],
          "histogram2d": [
           {
            "colorbar": {
             "outlinewidth": 0,
             "ticks": ""
            },
            "colorscale": [
             [
              0,
              "#0d0887"
             ],
             [
              0.1111111111111111,
              "#46039f"
             ],
             [
              0.2222222222222222,
              "#7201a8"
             ],
             [
              0.3333333333333333,
              "#9c179e"
             ],
             [
              0.4444444444444444,
              "#bd3786"
             ],
             [
              0.5555555555555556,
              "#d8576b"
             ],
             [
              0.6666666666666666,
              "#ed7953"
             ],
             [
              0.7777777777777778,
              "#fb9f3a"
             ],
             [
              0.8888888888888888,
              "#fdca26"
             ],
             [
              1,
              "#f0f921"
             ]
            ],
            "type": "histogram2d"
           }
          ],
          "histogram2dcontour": [
           {
            "colorbar": {
             "outlinewidth": 0,
             "ticks": ""
            },
            "colorscale": [
             [
              0,
              "#0d0887"
             ],
             [
              0.1111111111111111,
              "#46039f"
             ],
             [
              0.2222222222222222,
              "#7201a8"
             ],
             [
              0.3333333333333333,
              "#9c179e"
             ],
             [
              0.4444444444444444,
              "#bd3786"
             ],
             [
              0.5555555555555556,
              "#d8576b"
             ],
             [
              0.6666666666666666,
              "#ed7953"
             ],
             [
              0.7777777777777778,
              "#fb9f3a"
             ],
             [
              0.8888888888888888,
              "#fdca26"
             ],
             [
              1,
              "#f0f921"
             ]
            ],
            "type": "histogram2dcontour"
           }
          ],
          "mesh3d": [
           {
            "colorbar": {
             "outlinewidth": 0,
             "ticks": ""
            },
            "type": "mesh3d"
           }
          ],
          "parcoords": [
           {
            "line": {
             "colorbar": {
              "outlinewidth": 0,
              "ticks": ""
             }
            },
            "type": "parcoords"
           }
          ],
          "pie": [
           {
            "automargin": true,
            "type": "pie"
           }
          ],
          "scatter": [
           {
            "fillpattern": {
             "fillmode": "overlay",
             "size": 10,
             "solidity": 0.2
            },
            "type": "scatter"
           }
          ],
          "scatter3d": [
           {
            "line": {
             "colorbar": {
              "outlinewidth": 0,
              "ticks": ""
             }
            },
            "marker": {
             "colorbar": {
              "outlinewidth": 0,
              "ticks": ""
             }
            },
            "type": "scatter3d"
           }
          ],
          "scattercarpet": [
           {
            "marker": {
             "colorbar": {
              "outlinewidth": 0,
              "ticks": ""
             }
            },
            "type": "scattercarpet"
           }
          ],
          "scattergeo": [
           {
            "marker": {
             "colorbar": {
              "outlinewidth": 0,
              "ticks": ""
             }
            },
            "type": "scattergeo"
           }
          ],
          "scattergl": [
           {
            "marker": {
             "colorbar": {
              "outlinewidth": 0,
              "ticks": ""
             }
            },
            "type": "scattergl"
           }
          ],
          "scattermapbox": [
           {
            "marker": {
             "colorbar": {
              "outlinewidth": 0,
              "ticks": ""
             }
            },
            "type": "scattermapbox"
           }
          ],
          "scatterpolar": [
           {
            "marker": {
             "colorbar": {
              "outlinewidth": 0,
              "ticks": ""
             }
            },
            "type": "scatterpolar"
           }
          ],
          "scatterpolargl": [
           {
            "marker": {
             "colorbar": {
              "outlinewidth": 0,
              "ticks": ""
             }
            },
            "type": "scatterpolargl"
           }
          ],
          "scatterternary": [
           {
            "marker": {
             "colorbar": {
              "outlinewidth": 0,
              "ticks": ""
             }
            },
            "type": "scatterternary"
           }
          ],
          "surface": [
           {
            "colorbar": {
             "outlinewidth": 0,
             "ticks": ""
            },
            "colorscale": [
             [
              0,
              "#0d0887"
             ],
             [
              0.1111111111111111,
              "#46039f"
             ],
             [
              0.2222222222222222,
              "#7201a8"
             ],
             [
              0.3333333333333333,
              "#9c179e"
             ],
             [
              0.4444444444444444,
              "#bd3786"
             ],
             [
              0.5555555555555556,
              "#d8576b"
             ],
             [
              0.6666666666666666,
              "#ed7953"
             ],
             [
              0.7777777777777778,
              "#fb9f3a"
             ],
             [
              0.8888888888888888,
              "#fdca26"
             ],
             [
              1,
              "#f0f921"
             ]
            ],
            "type": "surface"
           }
          ],
          "table": [
           {
            "cells": {
             "fill": {
              "color": "#EBF0F8"
             },
             "line": {
              "color": "white"
             }
            },
            "header": {
             "fill": {
              "color": "#C8D4E3"
             },
             "line": {
              "color": "white"
             }
            },
            "type": "table"
           }
          ]
         },
         "layout": {
          "annotationdefaults": {
           "arrowcolor": "#2a3f5f",
           "arrowhead": 0,
           "arrowwidth": 1
          },
          "autotypenumbers": "strict",
          "coloraxis": {
           "colorbar": {
            "outlinewidth": 0,
            "ticks": ""
           }
          },
          "colorscale": {
           "diverging": [
            [
             0,
             "#8e0152"
            ],
            [
             0.1,
             "#c51b7d"
            ],
            [
             0.2,
             "#de77ae"
            ],
            [
             0.3,
             "#f1b6da"
            ],
            [
             0.4,
             "#fde0ef"
            ],
            [
             0.5,
             "#f7f7f7"
            ],
            [
             0.6,
             "#e6f5d0"
            ],
            [
             0.7,
             "#b8e186"
            ],
            [
             0.8,
             "#7fbc41"
            ],
            [
             0.9,
             "#4d9221"
            ],
            [
             1,
             "#276419"
            ]
           ],
           "sequential": [
            [
             0,
             "#0d0887"
            ],
            [
             0.1111111111111111,
             "#46039f"
            ],
            [
             0.2222222222222222,
             "#7201a8"
            ],
            [
             0.3333333333333333,
             "#9c179e"
            ],
            [
             0.4444444444444444,
             "#bd3786"
            ],
            [
             0.5555555555555556,
             "#d8576b"
            ],
            [
             0.6666666666666666,
             "#ed7953"
            ],
            [
             0.7777777777777778,
             "#fb9f3a"
            ],
            [
             0.8888888888888888,
             "#fdca26"
            ],
            [
             1,
             "#f0f921"
            ]
           ],
           "sequentialminus": [
            [
             0,
             "#0d0887"
            ],
            [
             0.1111111111111111,
             "#46039f"
            ],
            [
             0.2222222222222222,
             "#7201a8"
            ],
            [
             0.3333333333333333,
             "#9c179e"
            ],
            [
             0.4444444444444444,
             "#bd3786"
            ],
            [
             0.5555555555555556,
             "#d8576b"
            ],
            [
             0.6666666666666666,
             "#ed7953"
            ],
            [
             0.7777777777777778,
             "#fb9f3a"
            ],
            [
             0.8888888888888888,
             "#fdca26"
            ],
            [
             1,
             "#f0f921"
            ]
           ]
          },
          "colorway": [
           "#636efa",
           "#EF553B",
           "#00cc96",
           "#ab63fa",
           "#FFA15A",
           "#19d3f3",
           "#FF6692",
           "#B6E880",
           "#FF97FF",
           "#FECB52"
          ],
          "font": {
           "color": "#2a3f5f"
          },
          "geo": {
           "bgcolor": "white",
           "lakecolor": "white",
           "landcolor": "#E5ECF6",
           "showlakes": true,
           "showland": true,
           "subunitcolor": "white"
          },
          "hoverlabel": {
           "align": "left"
          },
          "hovermode": "closest",
          "mapbox": {
           "style": "light"
          },
          "paper_bgcolor": "white",
          "plot_bgcolor": "#E5ECF6",
          "polar": {
           "angularaxis": {
            "gridcolor": "white",
            "linecolor": "white",
            "ticks": ""
           },
           "bgcolor": "#E5ECF6",
           "radialaxis": {
            "gridcolor": "white",
            "linecolor": "white",
            "ticks": ""
           }
          },
          "scene": {
           "xaxis": {
            "backgroundcolor": "#E5ECF6",
            "gridcolor": "white",
            "gridwidth": 2,
            "linecolor": "white",
            "showbackground": true,
            "ticks": "",
            "zerolinecolor": "white"
           },
           "yaxis": {
            "backgroundcolor": "#E5ECF6",
            "gridcolor": "white",
            "gridwidth": 2,
            "linecolor": "white",
            "showbackground": true,
            "ticks": "",
            "zerolinecolor": "white"
           },
           "zaxis": {
            "backgroundcolor": "#E5ECF6",
            "gridcolor": "white",
            "gridwidth": 2,
            "linecolor": "white",
            "showbackground": true,
            "ticks": "",
            "zerolinecolor": "white"
           }
          },
          "shapedefaults": {
           "line": {
            "color": "#2a3f5f"
           }
          },
          "ternary": {
           "aaxis": {
            "gridcolor": "white",
            "linecolor": "white",
            "ticks": ""
           },
           "baxis": {
            "gridcolor": "white",
            "linecolor": "white",
            "ticks": ""
           },
           "bgcolor": "#E5ECF6",
           "caxis": {
            "gridcolor": "white",
            "linecolor": "white",
            "ticks": ""
           }
          },
          "title": {
           "x": 0.05
          },
          "xaxis": {
           "automargin": true,
           "gridcolor": "white",
           "linecolor": "white",
           "ticks": "",
           "title": {
            "standoff": 15
           },
           "zerolinecolor": "white",
           "zerolinewidth": 2
          },
          "yaxis": {
           "automargin": true,
           "gridcolor": "white",
           "linecolor": "white",
           "ticks": "",
           "title": {
            "standoff": 15
           },
           "zerolinecolor": "white",
           "zerolinewidth": 2
          }
         }
        },
        "xaxis": {
         "anchor": "y",
         "domain": [
          0,
          0.7363
         ],
         "title": {
          "text": "rawF1"
         }
        },
        "xaxis2": {
         "anchor": "y2",
         "domain": [
          0.7413,
          1
         ],
         "matches": "x2",
         "showgrid": true,
         "showline": false,
         "showticklabels": false,
         "ticks": ""
        },
        "yaxis": {
         "anchor": "x",
         "domain": [
          0,
          1
         ],
         "title": {
          "text": "eventF1"
         }
        },
        "yaxis2": {
         "anchor": "x2",
         "domain": [
          0,
          1
         ],
         "matches": "y",
         "showgrid": true,
         "showticklabels": false
        }
       }
      }
     },
     "metadata": {},
     "output_type": "display_data"
    }
   ],
   "source": [
    "fig=px.scatter(experimentModels,x='rawF1',y='eventF1',color='test',hover_name='modelId', marginal_y=\"histogram\")\n",
    "fig.add_trace(\n",
    "    go.Scatter(x=experimentModels['rawF1'], y=experimentModels['rawF1'], name=\"identity\", mode='lines',fill=\"toself\")\n",
    ")\n",
    "fig.show()"
   ]
  },
  {
   "cell_type": "code",
   "execution_count": 19,
   "metadata": {},
   "outputs": [
    {
     "data": {
      "application/vnd.plotly.v1+json": {
       "config": {
        "plotlyServerURL": "https://plot.ly"
       },
       "data": [
        {
         "hovertemplate": "<b>%{hovertext}</b><br><br>test=0001<br>eventF1=%{x}<br>eventPrecision=%{y}<extra></extra>",
         "hovertext": [
          "aa11eb61-61e6-41e2-94d5-a4833e9b8d9d"
         ],
         "legendgroup": "0001",
         "marker": {
          "color": "#636efa",
          "symbol": "circle"
         },
         "mode": "markers",
         "name": "0001",
         "orientation": "v",
         "showlegend": true,
         "type": "scatter",
         "x": [
          0.7060158910329172
         ],
         "xaxis": "x",
         "y": [
          0.8662952646239555
         ],
         "yaxis": "y"
        },
        {
         "alignmentgroup": "True",
         "bingroup": "y",
         "hovertemplate": "test=0001<br>eventPrecision=%{y}<br>count=%{x}<extra></extra>",
         "legendgroup": "0001",
         "marker": {
          "color": "#636efa"
         },
         "name": "0001",
         "offsetgroup": "0001",
         "opacity": 0.5,
         "showlegend": false,
         "type": "histogram",
         "xaxis": "x2",
         "y": [
          0.8662952646239555
         ],
         "yaxis": "y2"
        },
        {
         "hovertemplate": "<b>%{hovertext}</b><br><br>test=0002<br>eventF1=%{x}<br>eventPrecision=%{y}<extra></extra>",
         "hovertext": [
          "56daf263-9a04-44a8-a967-ed222c84ae8c"
         ],
         "legendgroup": "0002",
         "marker": {
          "color": "#EF553B",
          "symbol": "circle"
         },
         "mode": "markers",
         "name": "0002",
         "orientation": "v",
         "showlegend": true,
         "type": "scatter",
         "x": [
          0.7796480489671003
         ],
         "xaxis": "x",
         "y": [
          0.6927260367097213
         ],
         "yaxis": "y"
        },
        {
         "alignmentgroup": "True",
         "bingroup": "y",
         "hovertemplate": "test=0002<br>eventPrecision=%{y}<br>count=%{x}<extra></extra>",
         "legendgroup": "0002",
         "marker": {
          "color": "#EF553B"
         },
         "name": "0002",
         "offsetgroup": "0002",
         "opacity": 0.5,
         "showlegend": false,
         "type": "histogram",
         "xaxis": "x2",
         "y": [
          0.6927260367097213
         ],
         "yaxis": "y2"
        },
        {
         "hovertemplate": "<b>%{hovertext}</b><br><br>test=0003<br>eventF1=%{x}<br>eventPrecision=%{y}<extra></extra>",
         "hovertext": [
          "983f3902-7ddc-4ab2-93e7-4da2577f8b4b"
         ],
         "legendgroup": "0003",
         "marker": {
          "color": "#00cc96",
          "symbol": "circle"
         },
         "mode": "markers",
         "name": "0003",
         "orientation": "v",
         "showlegend": true,
         "type": "scatter",
         "x": [
          0.6188118811881188
         ],
         "xaxis": "x",
         "y": [
          0.4789272030651341
         ],
         "yaxis": "y"
        },
        {
         "alignmentgroup": "True",
         "bingroup": "y",
         "hovertemplate": "test=0003<br>eventPrecision=%{y}<br>count=%{x}<extra></extra>",
         "legendgroup": "0003",
         "marker": {
          "color": "#00cc96"
         },
         "name": "0003",
         "offsetgroup": "0003",
         "opacity": 0.5,
         "showlegend": false,
         "type": "histogram",
         "xaxis": "x2",
         "y": [
          0.4789272030651341
         ],
         "yaxis": "y2"
        },
        {
         "hovertemplate": "<b>%{hovertext}</b><br><br>test=0005<br>eventF1=%{x}<br>eventPrecision=%{y}<extra></extra>",
         "hovertext": [
          "c0eba1b0-cd60-4e9e-ab7f-71131a829c7e"
         ],
         "legendgroup": "0005",
         "marker": {
          "color": "#ab63fa",
          "symbol": "circle"
         },
         "mode": "markers",
         "name": "0005",
         "orientation": "v",
         "showlegend": true,
         "type": "scatter",
         "x": [
          0.6222684703433923
         ],
         "xaxis": "x",
         "y": [
          0.482258064516129
         ],
         "yaxis": "y"
        },
        {
         "alignmentgroup": "True",
         "bingroup": "y",
         "hovertemplate": "test=0005<br>eventPrecision=%{y}<br>count=%{x}<extra></extra>",
         "legendgroup": "0005",
         "marker": {
          "color": "#ab63fa"
         },
         "name": "0005",
         "offsetgroup": "0005",
         "opacity": 0.5,
         "showlegend": false,
         "type": "histogram",
         "xaxis": "x2",
         "y": [
          0.482258064516129
         ],
         "yaxis": "y2"
        },
        {
         "hovertemplate": "<b>%{hovertext}</b><br><br>test=0006<br>eventF1=%{x}<br>eventPrecision=%{y}<extra></extra>",
         "hovertext": [
          "d7cf3254-9d32-4e20-a23e-3cdcd3107eaa"
         ],
         "legendgroup": "0006",
         "marker": {
          "color": "#FFA15A",
          "symbol": "circle"
         },
         "mode": "markers",
         "name": "0006",
         "orientation": "v",
         "showlegend": true,
         "type": "scatter",
         "x": [
          0.6646706586826348
         ],
         "xaxis": "x",
         "y": [
          0.6032608695652174
         ],
         "yaxis": "y"
        },
        {
         "alignmentgroup": "True",
         "bingroup": "y",
         "hovertemplate": "test=0006<br>eventPrecision=%{y}<br>count=%{x}<extra></extra>",
         "legendgroup": "0006",
         "marker": {
          "color": "#FFA15A"
         },
         "name": "0006",
         "offsetgroup": "0006",
         "opacity": 0.5,
         "showlegend": false,
         "type": "histogram",
         "xaxis": "x2",
         "y": [
          0.6032608695652174
         ],
         "yaxis": "y2"
        },
        {
         "hovertemplate": "<b>%{hovertext}</b><br><br>test=0007<br>eventF1=%{x}<br>eventPrecision=%{y}<extra></extra>",
         "hovertext": [
          "4f832318-c477-4835-acd3-7ec40944edd3"
         ],
         "legendgroup": "0007",
         "marker": {
          "color": "#19d3f3",
          "symbol": "circle"
         },
         "mode": "markers",
         "name": "0007",
         "orientation": "v",
         "showlegend": true,
         "type": "scatter",
         "x": [
          0.6198282591725215
         ],
         "xaxis": "x",
         "y": [
          0.4812121212121212
         ],
         "yaxis": "y"
        },
        {
         "alignmentgroup": "True",
         "bingroup": "y",
         "hovertemplate": "test=0007<br>eventPrecision=%{y}<br>count=%{x}<extra></extra>",
         "legendgroup": "0007",
         "marker": {
          "color": "#19d3f3"
         },
         "name": "0007",
         "offsetgroup": "0007",
         "opacity": 0.5,
         "showlegend": false,
         "type": "histogram",
         "xaxis": "x2",
         "y": [
          0.4812121212121212
         ],
         "yaxis": "y2"
        },
        {
         "hovertemplate": "<b>%{hovertext}</b><br><br>test=0009<br>eventF1=%{x}<br>eventPrecision=%{y}<extra></extra>",
         "hovertext": [
          "15e578bc-6917-4cef-a16a-bade7c0b0676"
         ],
         "legendgroup": "0009",
         "marker": {
          "color": "#FF6692",
          "symbol": "circle"
         },
         "mode": "markers",
         "name": "0009",
         "orientation": "v",
         "showlegend": true,
         "type": "scatter",
         "x": [
          0.7838651414810355
         ],
         "xaxis": "x",
         "y": [
          0.768595041322314
         ],
         "yaxis": "y"
        },
        {
         "alignmentgroup": "True",
         "bingroup": "y",
         "hovertemplate": "test=0009<br>eventPrecision=%{y}<br>count=%{x}<extra></extra>",
         "legendgroup": "0009",
         "marker": {
          "color": "#FF6692"
         },
         "name": "0009",
         "offsetgroup": "0009",
         "opacity": 0.5,
         "showlegend": false,
         "type": "histogram",
         "xaxis": "x2",
         "y": [
          0.768595041322314
         ],
         "yaxis": "y2"
        },
        {
         "hovertemplate": "<b>%{hovertext}</b><br><br>test=0010<br>eventF1=%{x}<br>eventPrecision=%{y}<extra></extra>",
         "hovertext": [
          "7e1fcff0-30f4-4f29-90d4-f7171b7700cf"
         ],
         "legendgroup": "0010",
         "marker": {
          "color": "#B6E880",
          "symbol": "circle"
         },
         "mode": "markers",
         "name": "0010",
         "orientation": "v",
         "showlegend": true,
         "type": "scatter",
         "x": [
          0.7355543987506507
         ],
         "xaxis": "x",
         "y": [
          0.6269982238010657
         ],
         "yaxis": "y"
        },
        {
         "alignmentgroup": "True",
         "bingroup": "y",
         "hovertemplate": "test=0010<br>eventPrecision=%{y}<br>count=%{x}<extra></extra>",
         "legendgroup": "0010",
         "marker": {
          "color": "#B6E880"
         },
         "name": "0010",
         "offsetgroup": "0010",
         "opacity": 0.5,
         "showlegend": false,
         "type": "histogram",
         "xaxis": "x2",
         "y": [
          0.6269982238010657
         ],
         "yaxis": "y2"
        },
        {
         "hovertemplate": "<b>%{hovertext}</b><br><br>test=0011<br>eventF1=%{x}<br>eventPrecision=%{y}<extra></extra>",
         "hovertext": [
          "0f783e82-ff7a-4204-9e47-55e534671311"
         ],
         "legendgroup": "0011",
         "marker": {
          "color": "#FF97FF",
          "symbol": "circle"
         },
         "mode": "markers",
         "name": "0011",
         "orientation": "v",
         "showlegend": true,
         "type": "scatter",
         "x": [
          0.63931718061674
         ],
         "xaxis": "x",
         "y": [
          0.48016528925619834
         ],
         "yaxis": "y"
        },
        {
         "alignmentgroup": "True",
         "bingroup": "y",
         "hovertemplate": "test=0011<br>eventPrecision=%{y}<br>count=%{x}<extra></extra>",
         "legendgroup": "0011",
         "marker": {
          "color": "#FF97FF"
         },
         "name": "0011",
         "offsetgroup": "0011",
         "opacity": 0.5,
         "showlegend": false,
         "type": "histogram",
         "xaxis": "x2",
         "y": [
          0.48016528925619834
         ],
         "yaxis": "y2"
        },
        {
         "hovertemplate": "<b>%{hovertext}</b><br><br>test=0012<br>eventF1=%{x}<br>eventPrecision=%{y}<extra></extra>",
         "hovertext": [
          "99bfe384-9dde-485c-8233-eb9370c0bdbf"
         ],
         "legendgroup": "0012",
         "marker": {
          "color": "#FECB52",
          "symbol": "circle"
         },
         "mode": "markers",
         "name": "0012",
         "orientation": "v",
         "showlegend": true,
         "type": "scatter",
         "x": [
          0.6838885112168592
         ],
         "xaxis": "x",
         "y": [
          0.6601049868766404
         ],
         "yaxis": "y"
        },
        {
         "alignmentgroup": "True",
         "bingroup": "y",
         "hovertemplate": "test=0012<br>eventPrecision=%{y}<br>count=%{x}<extra></extra>",
         "legendgroup": "0012",
         "marker": {
          "color": "#FECB52"
         },
         "name": "0012",
         "offsetgroup": "0012",
         "opacity": 0.5,
         "showlegend": false,
         "type": "histogram",
         "xaxis": "x2",
         "y": [
          0.6601049868766404
         ],
         "yaxis": "y2"
        },
        {
         "hovertemplate": "<b>%{hovertext}</b><br><br>test=0013<br>eventF1=%{x}<br>eventPrecision=%{y}<extra></extra>",
         "hovertext": [
          "63e51dd9-118d-496b-8b4d-c0fd4db3d962"
         ],
         "legendgroup": "0013",
         "marker": {
          "color": "#636efa",
          "symbol": "circle"
         },
         "mode": "markers",
         "name": "0013",
         "orientation": "v",
         "showlegend": true,
         "type": "scatter",
         "x": [
          0.6733027054619704
         ],
         "xaxis": "x",
         "y": [
          0.5226011102299762
         ],
         "yaxis": "y"
        },
        {
         "alignmentgroup": "True",
         "bingroup": "y",
         "hovertemplate": "test=0013<br>eventPrecision=%{y}<br>count=%{x}<extra></extra>",
         "legendgroup": "0013",
         "marker": {
          "color": "#636efa"
         },
         "name": "0013",
         "offsetgroup": "0013",
         "opacity": 0.5,
         "showlegend": false,
         "type": "histogram",
         "xaxis": "x2",
         "y": [
          0.5226011102299762
         ],
         "yaxis": "y2"
        },
        {
         "hovertemplate": "<b>%{hovertext}</b><br><br>test=0014<br>eventF1=%{x}<br>eventPrecision=%{y}<extra></extra>",
         "hovertext": [
          "1665dd00-eb54-47cb-843d-f21453d9790d"
         ],
         "legendgroup": "0014",
         "marker": {
          "color": "#EF553B",
          "symbol": "circle"
         },
         "mode": "markers",
         "name": "0014",
         "orientation": "v",
         "showlegend": true,
         "type": "scatter",
         "x": [
          0.5932787591555364
         ],
         "xaxis": "x",
         "y": [
          0.42635177128651336
         ],
         "yaxis": "y"
        },
        {
         "alignmentgroup": "True",
         "bingroup": "y",
         "hovertemplate": "test=0014<br>eventPrecision=%{y}<br>count=%{x}<extra></extra>",
         "legendgroup": "0014",
         "marker": {
          "color": "#EF553B"
         },
         "name": "0014",
         "offsetgroup": "0014",
         "opacity": 0.5,
         "showlegend": false,
         "type": "histogram",
         "xaxis": "x2",
         "y": [
          0.42635177128651336
         ],
         "yaxis": "y2"
        },
        {
         "hovertemplate": "<b>%{hovertext}</b><br><br>test=0017<br>eventF1=%{x}<br>eventPrecision=%{y}<extra></extra>",
         "hovertext": [
          "263de413-4128-436e-b8a1-0bb7ad600f90"
         ],
         "legendgroup": "0017",
         "marker": {
          "color": "#00cc96",
          "symbol": "circle"
         },
         "mode": "markers",
         "name": "0017",
         "orientation": "v",
         "showlegend": true,
         "type": "scatter",
         "x": [
          0.7360350492880613
         ],
         "xaxis": "x",
         "y": [
          0.7584650112866818
         ],
         "yaxis": "y"
        },
        {
         "alignmentgroup": "True",
         "bingroup": "y",
         "hovertemplate": "test=0017<br>eventPrecision=%{y}<br>count=%{x}<extra></extra>",
         "legendgroup": "0017",
         "marker": {
          "color": "#00cc96"
         },
         "name": "0017",
         "offsetgroup": "0017",
         "opacity": 0.5,
         "showlegend": false,
         "type": "histogram",
         "xaxis": "x2",
         "y": [
          0.7584650112866818
         ],
         "yaxis": "y2"
        },
        {
         "hovertemplate": "<b>%{hovertext}</b><br><br>test=0018<br>eventF1=%{x}<br>eventPrecision=%{y}<extra></extra>",
         "hovertext": [
          "d666c68e-f0ca-4f31-b8f4-f0495ee86bc1"
         ],
         "legendgroup": "0018",
         "marker": {
          "color": "#ab63fa",
          "symbol": "circle"
         },
         "mode": "markers",
         "name": "0018",
         "orientation": "v",
         "showlegend": true,
         "type": "scatter",
         "x": [
          0.7330861909175163
         ],
         "xaxis": "x",
         "y": [
          0.795774647887324
         ],
         "yaxis": "y"
        },
        {
         "alignmentgroup": "True",
         "bingroup": "y",
         "hovertemplate": "test=0018<br>eventPrecision=%{y}<br>count=%{x}<extra></extra>",
         "legendgroup": "0018",
         "marker": {
          "color": "#ab63fa"
         },
         "name": "0018",
         "offsetgroup": "0018",
         "opacity": 0.5,
         "showlegend": false,
         "type": "histogram",
         "xaxis": "x2",
         "y": [
          0.795774647887324
         ],
         "yaxis": "y2"
        },
        {
         "hovertemplate": "<b>%{hovertext}</b><br><br>test=0019<br>eventF1=%{x}<br>eventPrecision=%{y}<extra></extra>",
         "hovertext": [
          "d88629a4-c108-44c5-9c1b-4008bdd78400"
         ],
         "legendgroup": "0019",
         "marker": {
          "color": "#FFA15A",
          "symbol": "circle"
         },
         "mode": "markers",
         "name": "0019",
         "orientation": "v",
         "showlegend": true,
         "type": "scatter",
         "x": [
          0.5373390557939914
         ],
         "xaxis": "x",
         "y": [
          0.36823529411764705
         ],
         "yaxis": "y"
        },
        {
         "alignmentgroup": "True",
         "bingroup": "y",
         "hovertemplate": "test=0019<br>eventPrecision=%{y}<br>count=%{x}<extra></extra>",
         "legendgroup": "0019",
         "marker": {
          "color": "#FFA15A"
         },
         "name": "0019",
         "offsetgroup": "0019",
         "opacity": 0.5,
         "showlegend": false,
         "type": "histogram",
         "xaxis": "x2",
         "y": [
          0.36823529411764705
         ],
         "yaxis": "y2"
        },
        {
         "fill": "toself",
         "mode": "lines",
         "name": "identity",
         "type": "scatter",
         "x": [
          0.7060158910329172,
          0.7796480489671003,
          0.6188118811881188,
          0.6222684703433923,
          0.6646706586826348,
          0.6198282591725215,
          0.7838651414810355,
          0.7355543987506507,
          0.63931718061674,
          0.6838885112168592,
          0.6733027054619704,
          0.5932787591555364,
          0.7360350492880613,
          0.7330861909175163,
          0.5373390557939914
         ],
         "y": [
          0.7060158910329172,
          0.7796480489671003,
          0.6188118811881188,
          0.6222684703433923,
          0.6646706586826348,
          0.6198282591725215,
          0.7838651414810355,
          0.7355543987506507,
          0.63931718061674,
          0.6838885112168592,
          0.6733027054619704,
          0.5932787591555364,
          0.7360350492880613,
          0.7330861909175163,
          0.5373390557939914
         ]
        }
       ],
       "layout": {
        "barmode": "overlay",
        "legend": {
         "title": {
          "text": "test"
         },
         "tracegroupgap": 0
        },
        "margin": {
         "t": 60
        },
        "template": {
         "data": {
          "bar": [
           {
            "error_x": {
             "color": "#2a3f5f"
            },
            "error_y": {
             "color": "#2a3f5f"
            },
            "marker": {
             "line": {
              "color": "#E5ECF6",
              "width": 0.5
             },
             "pattern": {
              "fillmode": "overlay",
              "size": 10,
              "solidity": 0.2
             }
            },
            "type": "bar"
           }
          ],
          "barpolar": [
           {
            "marker": {
             "line": {
              "color": "#E5ECF6",
              "width": 0.5
             },
             "pattern": {
              "fillmode": "overlay",
              "size": 10,
              "solidity": 0.2
             }
            },
            "type": "barpolar"
           }
          ],
          "carpet": [
           {
            "aaxis": {
             "endlinecolor": "#2a3f5f",
             "gridcolor": "white",
             "linecolor": "white",
             "minorgridcolor": "white",
             "startlinecolor": "#2a3f5f"
            },
            "baxis": {
             "endlinecolor": "#2a3f5f",
             "gridcolor": "white",
             "linecolor": "white",
             "minorgridcolor": "white",
             "startlinecolor": "#2a3f5f"
            },
            "type": "carpet"
           }
          ],
          "choropleth": [
           {
            "colorbar": {
             "outlinewidth": 0,
             "ticks": ""
            },
            "type": "choropleth"
           }
          ],
          "contour": [
           {
            "colorbar": {
             "outlinewidth": 0,
             "ticks": ""
            },
            "colorscale": [
             [
              0,
              "#0d0887"
             ],
             [
              0.1111111111111111,
              "#46039f"
             ],
             [
              0.2222222222222222,
              "#7201a8"
             ],
             [
              0.3333333333333333,
              "#9c179e"
             ],
             [
              0.4444444444444444,
              "#bd3786"
             ],
             [
              0.5555555555555556,
              "#d8576b"
             ],
             [
              0.6666666666666666,
              "#ed7953"
             ],
             [
              0.7777777777777778,
              "#fb9f3a"
             ],
             [
              0.8888888888888888,
              "#fdca26"
             ],
             [
              1,
              "#f0f921"
             ]
            ],
            "type": "contour"
           }
          ],
          "contourcarpet": [
           {
            "colorbar": {
             "outlinewidth": 0,
             "ticks": ""
            },
            "type": "contourcarpet"
           }
          ],
          "heatmap": [
           {
            "colorbar": {
             "outlinewidth": 0,
             "ticks": ""
            },
            "colorscale": [
             [
              0,
              "#0d0887"
             ],
             [
              0.1111111111111111,
              "#46039f"
             ],
             [
              0.2222222222222222,
              "#7201a8"
             ],
             [
              0.3333333333333333,
              "#9c179e"
             ],
             [
              0.4444444444444444,
              "#bd3786"
             ],
             [
              0.5555555555555556,
              "#d8576b"
             ],
             [
              0.6666666666666666,
              "#ed7953"
             ],
             [
              0.7777777777777778,
              "#fb9f3a"
             ],
             [
              0.8888888888888888,
              "#fdca26"
             ],
             [
              1,
              "#f0f921"
             ]
            ],
            "type": "heatmap"
           }
          ],
          "heatmapgl": [
           {
            "colorbar": {
             "outlinewidth": 0,
             "ticks": ""
            },
            "colorscale": [
             [
              0,
              "#0d0887"
             ],
             [
              0.1111111111111111,
              "#46039f"
             ],
             [
              0.2222222222222222,
              "#7201a8"
             ],
             [
              0.3333333333333333,
              "#9c179e"
             ],
             [
              0.4444444444444444,
              "#bd3786"
             ],
             [
              0.5555555555555556,
              "#d8576b"
             ],
             [
              0.6666666666666666,
              "#ed7953"
             ],
             [
              0.7777777777777778,
              "#fb9f3a"
             ],
             [
              0.8888888888888888,
              "#fdca26"
             ],
             [
              1,
              "#f0f921"
             ]
            ],
            "type": "heatmapgl"
           }
          ],
          "histogram": [
           {
            "marker": {
             "pattern": {
              "fillmode": "overlay",
              "size": 10,
              "solidity": 0.2
             }
            },
            "type": "histogram"
           }
          ],
          "histogram2d": [
           {
            "colorbar": {
             "outlinewidth": 0,
             "ticks": ""
            },
            "colorscale": [
             [
              0,
              "#0d0887"
             ],
             [
              0.1111111111111111,
              "#46039f"
             ],
             [
              0.2222222222222222,
              "#7201a8"
             ],
             [
              0.3333333333333333,
              "#9c179e"
             ],
             [
              0.4444444444444444,
              "#bd3786"
             ],
             [
              0.5555555555555556,
              "#d8576b"
             ],
             [
              0.6666666666666666,
              "#ed7953"
             ],
             [
              0.7777777777777778,
              "#fb9f3a"
             ],
             [
              0.8888888888888888,
              "#fdca26"
             ],
             [
              1,
              "#f0f921"
             ]
            ],
            "type": "histogram2d"
           }
          ],
          "histogram2dcontour": [
           {
            "colorbar": {
             "outlinewidth": 0,
             "ticks": ""
            },
            "colorscale": [
             [
              0,
              "#0d0887"
             ],
             [
              0.1111111111111111,
              "#46039f"
             ],
             [
              0.2222222222222222,
              "#7201a8"
             ],
             [
              0.3333333333333333,
              "#9c179e"
             ],
             [
              0.4444444444444444,
              "#bd3786"
             ],
             [
              0.5555555555555556,
              "#d8576b"
             ],
             [
              0.6666666666666666,
              "#ed7953"
             ],
             [
              0.7777777777777778,
              "#fb9f3a"
             ],
             [
              0.8888888888888888,
              "#fdca26"
             ],
             [
              1,
              "#f0f921"
             ]
            ],
            "type": "histogram2dcontour"
           }
          ],
          "mesh3d": [
           {
            "colorbar": {
             "outlinewidth": 0,
             "ticks": ""
            },
            "type": "mesh3d"
           }
          ],
          "parcoords": [
           {
            "line": {
             "colorbar": {
              "outlinewidth": 0,
              "ticks": ""
             }
            },
            "type": "parcoords"
           }
          ],
          "pie": [
           {
            "automargin": true,
            "type": "pie"
           }
          ],
          "scatter": [
           {
            "fillpattern": {
             "fillmode": "overlay",
             "size": 10,
             "solidity": 0.2
            },
            "type": "scatter"
           }
          ],
          "scatter3d": [
           {
            "line": {
             "colorbar": {
              "outlinewidth": 0,
              "ticks": ""
             }
            },
            "marker": {
             "colorbar": {
              "outlinewidth": 0,
              "ticks": ""
             }
            },
            "type": "scatter3d"
           }
          ],
          "scattercarpet": [
           {
            "marker": {
             "colorbar": {
              "outlinewidth": 0,
              "ticks": ""
             }
            },
            "type": "scattercarpet"
           }
          ],
          "scattergeo": [
           {
            "marker": {
             "colorbar": {
              "outlinewidth": 0,
              "ticks": ""
             }
            },
            "type": "scattergeo"
           }
          ],
          "scattergl": [
           {
            "marker": {
             "colorbar": {
              "outlinewidth": 0,
              "ticks": ""
             }
            },
            "type": "scattergl"
           }
          ],
          "scattermapbox": [
           {
            "marker": {
             "colorbar": {
              "outlinewidth": 0,
              "ticks": ""
             }
            },
            "type": "scattermapbox"
           }
          ],
          "scatterpolar": [
           {
            "marker": {
             "colorbar": {
              "outlinewidth": 0,
              "ticks": ""
             }
            },
            "type": "scatterpolar"
           }
          ],
          "scatterpolargl": [
           {
            "marker": {
             "colorbar": {
              "outlinewidth": 0,
              "ticks": ""
             }
            },
            "type": "scatterpolargl"
           }
          ],
          "scatterternary": [
           {
            "marker": {
             "colorbar": {
              "outlinewidth": 0,
              "ticks": ""
             }
            },
            "type": "scatterternary"
           }
          ],
          "surface": [
           {
            "colorbar": {
             "outlinewidth": 0,
             "ticks": ""
            },
            "colorscale": [
             [
              0,
              "#0d0887"
             ],
             [
              0.1111111111111111,
              "#46039f"
             ],
             [
              0.2222222222222222,
              "#7201a8"
             ],
             [
              0.3333333333333333,
              "#9c179e"
             ],
             [
              0.4444444444444444,
              "#bd3786"
             ],
             [
              0.5555555555555556,
              "#d8576b"
             ],
             [
              0.6666666666666666,
              "#ed7953"
             ],
             [
              0.7777777777777778,
              "#fb9f3a"
             ],
             [
              0.8888888888888888,
              "#fdca26"
             ],
             [
              1,
              "#f0f921"
             ]
            ],
            "type": "surface"
           }
          ],
          "table": [
           {
            "cells": {
             "fill": {
              "color": "#EBF0F8"
             },
             "line": {
              "color": "white"
             }
            },
            "header": {
             "fill": {
              "color": "#C8D4E3"
             },
             "line": {
              "color": "white"
             }
            },
            "type": "table"
           }
          ]
         },
         "layout": {
          "annotationdefaults": {
           "arrowcolor": "#2a3f5f",
           "arrowhead": 0,
           "arrowwidth": 1
          },
          "autotypenumbers": "strict",
          "coloraxis": {
           "colorbar": {
            "outlinewidth": 0,
            "ticks": ""
           }
          },
          "colorscale": {
           "diverging": [
            [
             0,
             "#8e0152"
            ],
            [
             0.1,
             "#c51b7d"
            ],
            [
             0.2,
             "#de77ae"
            ],
            [
             0.3,
             "#f1b6da"
            ],
            [
             0.4,
             "#fde0ef"
            ],
            [
             0.5,
             "#f7f7f7"
            ],
            [
             0.6,
             "#e6f5d0"
            ],
            [
             0.7,
             "#b8e186"
            ],
            [
             0.8,
             "#7fbc41"
            ],
            [
             0.9,
             "#4d9221"
            ],
            [
             1,
             "#276419"
            ]
           ],
           "sequential": [
            [
             0,
             "#0d0887"
            ],
            [
             0.1111111111111111,
             "#46039f"
            ],
            [
             0.2222222222222222,
             "#7201a8"
            ],
            [
             0.3333333333333333,
             "#9c179e"
            ],
            [
             0.4444444444444444,
             "#bd3786"
            ],
            [
             0.5555555555555556,
             "#d8576b"
            ],
            [
             0.6666666666666666,
             "#ed7953"
            ],
            [
             0.7777777777777778,
             "#fb9f3a"
            ],
            [
             0.8888888888888888,
             "#fdca26"
            ],
            [
             1,
             "#f0f921"
            ]
           ],
           "sequentialminus": [
            [
             0,
             "#0d0887"
            ],
            [
             0.1111111111111111,
             "#46039f"
            ],
            [
             0.2222222222222222,
             "#7201a8"
            ],
            [
             0.3333333333333333,
             "#9c179e"
            ],
            [
             0.4444444444444444,
             "#bd3786"
            ],
            [
             0.5555555555555556,
             "#d8576b"
            ],
            [
             0.6666666666666666,
             "#ed7953"
            ],
            [
             0.7777777777777778,
             "#fb9f3a"
            ],
            [
             0.8888888888888888,
             "#fdca26"
            ],
            [
             1,
             "#f0f921"
            ]
           ]
          },
          "colorway": [
           "#636efa",
           "#EF553B",
           "#00cc96",
           "#ab63fa",
           "#FFA15A",
           "#19d3f3",
           "#FF6692",
           "#B6E880",
           "#FF97FF",
           "#FECB52"
          ],
          "font": {
           "color": "#2a3f5f"
          },
          "geo": {
           "bgcolor": "white",
           "lakecolor": "white",
           "landcolor": "#E5ECF6",
           "showlakes": true,
           "showland": true,
           "subunitcolor": "white"
          },
          "hoverlabel": {
           "align": "left"
          },
          "hovermode": "closest",
          "mapbox": {
           "style": "light"
          },
          "paper_bgcolor": "white",
          "plot_bgcolor": "#E5ECF6",
          "polar": {
           "angularaxis": {
            "gridcolor": "white",
            "linecolor": "white",
            "ticks": ""
           },
           "bgcolor": "#E5ECF6",
           "radialaxis": {
            "gridcolor": "white",
            "linecolor": "white",
            "ticks": ""
           }
          },
          "scene": {
           "xaxis": {
            "backgroundcolor": "#E5ECF6",
            "gridcolor": "white",
            "gridwidth": 2,
            "linecolor": "white",
            "showbackground": true,
            "ticks": "",
            "zerolinecolor": "white"
           },
           "yaxis": {
            "backgroundcolor": "#E5ECF6",
            "gridcolor": "white",
            "gridwidth": 2,
            "linecolor": "white",
            "showbackground": true,
            "ticks": "",
            "zerolinecolor": "white"
           },
           "zaxis": {
            "backgroundcolor": "#E5ECF6",
            "gridcolor": "white",
            "gridwidth": 2,
            "linecolor": "white",
            "showbackground": true,
            "ticks": "",
            "zerolinecolor": "white"
           }
          },
          "shapedefaults": {
           "line": {
            "color": "#2a3f5f"
           }
          },
          "ternary": {
           "aaxis": {
            "gridcolor": "white",
            "linecolor": "white",
            "ticks": ""
           },
           "baxis": {
            "gridcolor": "white",
            "linecolor": "white",
            "ticks": ""
           },
           "bgcolor": "#E5ECF6",
           "caxis": {
            "gridcolor": "white",
            "linecolor": "white",
            "ticks": ""
           }
          },
          "title": {
           "x": 0.05
          },
          "xaxis": {
           "automargin": true,
           "gridcolor": "white",
           "linecolor": "white",
           "ticks": "",
           "title": {
            "standoff": 15
           },
           "zerolinecolor": "white",
           "zerolinewidth": 2
          },
          "yaxis": {
           "automargin": true,
           "gridcolor": "white",
           "linecolor": "white",
           "ticks": "",
           "title": {
            "standoff": 15
           },
           "zerolinecolor": "white",
           "zerolinewidth": 2
          }
         }
        },
        "xaxis": {
         "anchor": "y",
         "domain": [
          0,
          0.7363
         ],
         "title": {
          "text": "eventF1"
         }
        },
        "xaxis2": {
         "anchor": "y2",
         "domain": [
          0.7413,
          1
         ],
         "matches": "x2",
         "showgrid": true,
         "showline": false,
         "showticklabels": false,
         "ticks": ""
        },
        "yaxis": {
         "anchor": "x",
         "domain": [
          0,
          1
         ],
         "title": {
          "text": "eventPrecision"
         }
        },
        "yaxis2": {
         "anchor": "x2",
         "domain": [
          0,
          1
         ],
         "matches": "y",
         "showgrid": true,
         "showticklabels": false
        }
       }
      }
     },
     "metadata": {},
     "output_type": "display_data"
    }
   ],
   "source": [
    "fig=px.scatter(experimentModels,x='eventF1',y='eventPrecision',color='test',hover_name='modelId', marginal_y=\"histogram\")\n",
    "fig.add_trace(\n",
    "    go.Scatter(x=experimentModels['eventF1'], y=experimentModels['eventF1'], name=\"identity\", mode='lines',fill=\"toself\")\n",
    ")\n",
    "fig.show()"
   ]
  },
  {
   "cell_type": "code",
   "execution_count": 20,
   "metadata": {},
   "outputs": [
    {
     "data": {
      "application/vnd.plotly.v1+json": {
       "config": {
        "plotlyServerURL": "https://plot.ly"
       },
       "data": [
        {
         "hovertemplate": "<b>%{hovertext}</b><br><br>test=0001<br>eventF1=%{x}<br>eventRecall=%{y}<extra></extra>",
         "hovertext": [
          "aa11eb61-61e6-41e2-94d5-a4833e9b8d9d"
         ],
         "legendgroup": "0001",
         "marker": {
          "color": "#636efa",
          "symbol": "circle"
         },
         "mode": "markers",
         "name": "0001",
         "orientation": "v",
         "showlegend": true,
         "type": "scatter",
         "x": [
          0.7060158910329172
         ],
         "xaxis": "x",
         "y": [
          0.5957854406130269
         ],
         "yaxis": "y"
        },
        {
         "alignmentgroup": "True",
         "bingroup": "y",
         "hovertemplate": "test=0001<br>eventRecall=%{y}<br>count=%{x}<extra></extra>",
         "legendgroup": "0001",
         "marker": {
          "color": "#636efa"
         },
         "name": "0001",
         "offsetgroup": "0001",
         "opacity": 0.5,
         "showlegend": false,
         "type": "histogram",
         "xaxis": "x2",
         "y": [
          0.5957854406130269
         ],
         "yaxis": "y2"
        },
        {
         "hovertemplate": "<b>%{hovertext}</b><br><br>test=0002<br>eventF1=%{x}<br>eventRecall=%{y}<extra></extra>",
         "hovertext": [
          "56daf263-9a04-44a8-a967-ed222c84ae8c"
         ],
         "legendgroup": "0002",
         "marker": {
          "color": "#EF553B",
          "symbol": "circle"
         },
         "mode": "markers",
         "name": "0002",
         "orientation": "v",
         "showlegend": true,
         "type": "scatter",
         "x": [
          0.7796480489671003
         ],
         "xaxis": "x",
         "y": [
          0.8915135608048994
         ],
         "yaxis": "y"
        },
        {
         "alignmentgroup": "True",
         "bingroup": "y",
         "hovertemplate": "test=0002<br>eventRecall=%{y}<br>count=%{x}<extra></extra>",
         "legendgroup": "0002",
         "marker": {
          "color": "#EF553B"
         },
         "name": "0002",
         "offsetgroup": "0002",
         "opacity": 0.5,
         "showlegend": false,
         "type": "histogram",
         "xaxis": "x2",
         "y": [
          0.8915135608048994
         ],
         "yaxis": "y2"
        },
        {
         "hovertemplate": "<b>%{hovertext}</b><br><br>test=0003<br>eventF1=%{x}<br>eventRecall=%{y}<extra></extra>",
         "hovertext": [
          "983f3902-7ddc-4ab2-93e7-4da2577f8b4b"
         ],
         "legendgroup": "0003",
         "marker": {
          "color": "#00cc96",
          "symbol": "circle"
         },
         "mode": "markers",
         "name": "0003",
         "orientation": "v",
         "showlegend": true,
         "type": "scatter",
         "x": [
          0.6188118811881188
         ],
         "xaxis": "x",
         "y": [
          0.8741258741258742
         ],
         "yaxis": "y"
        },
        {
         "alignmentgroup": "True",
         "bingroup": "y",
         "hovertemplate": "test=0003<br>eventRecall=%{y}<br>count=%{x}<extra></extra>",
         "legendgroup": "0003",
         "marker": {
          "color": "#00cc96"
         },
         "name": "0003",
         "offsetgroup": "0003",
         "opacity": 0.5,
         "showlegend": false,
         "type": "histogram",
         "xaxis": "x2",
         "y": [
          0.8741258741258742
         ],
         "yaxis": "y2"
        },
        {
         "hovertemplate": "<b>%{hovertext}</b><br><br>test=0005<br>eventF1=%{x}<br>eventRecall=%{y}<extra></extra>",
         "hovertext": [
          "c0eba1b0-cd60-4e9e-ab7f-71131a829c7e"
         ],
         "legendgroup": "0005",
         "marker": {
          "color": "#ab63fa",
          "symbol": "circle"
         },
         "mode": "markers",
         "name": "0005",
         "orientation": "v",
         "showlegend": true,
         "type": "scatter",
         "x": [
          0.6222684703433923
         ],
         "xaxis": "x",
         "y": [
          0.8768328445747801
         ],
         "yaxis": "y"
        },
        {
         "alignmentgroup": "True",
         "bingroup": "y",
         "hovertemplate": "test=0005<br>eventRecall=%{y}<br>count=%{x}<extra></extra>",
         "legendgroup": "0005",
         "marker": {
          "color": "#ab63fa"
         },
         "name": "0005",
         "offsetgroup": "0005",
         "opacity": 0.5,
         "showlegend": false,
         "type": "histogram",
         "xaxis": "x2",
         "y": [
          0.8768328445747801
         ],
         "yaxis": "y2"
        },
        {
         "hovertemplate": "<b>%{hovertext}</b><br><br>test=0006<br>eventF1=%{x}<br>eventRecall=%{y}<extra></extra>",
         "hovertext": [
          "d7cf3254-9d32-4e20-a23e-3cdcd3107eaa"
         ],
         "legendgroup": "0006",
         "marker": {
          "color": "#FFA15A",
          "symbol": "circle"
         },
         "mode": "markers",
         "name": "0006",
         "orientation": "v",
         "showlegend": true,
         "type": "scatter",
         "x": [
          0.6646706586826348
         ],
         "xaxis": "x",
         "y": [
          0.74
         ],
         "yaxis": "y"
        },
        {
         "alignmentgroup": "True",
         "bingroup": "y",
         "hovertemplate": "test=0006<br>eventRecall=%{y}<br>count=%{x}<extra></extra>",
         "legendgroup": "0006",
         "marker": {
          "color": "#FFA15A"
         },
         "name": "0006",
         "offsetgroup": "0006",
         "opacity": 0.5,
         "showlegend": false,
         "type": "histogram",
         "xaxis": "x2",
         "y": [
          0.74
         ],
         "yaxis": "y2"
        },
        {
         "hovertemplate": "<b>%{hovertext}</b><br><br>test=0007<br>eventF1=%{x}<br>eventRecall=%{y}<extra></extra>",
         "hovertext": [
          "4f832318-c477-4835-acd3-7ec40944edd3"
         ],
         "legendgroup": "0007",
         "marker": {
          "color": "#19d3f3",
          "symbol": "circle"
         },
         "mode": "markers",
         "name": "0007",
         "orientation": "v",
         "showlegend": true,
         "type": "scatter",
         "x": [
          0.6198282591725215
         ],
         "xaxis": "x",
         "y": [
          0.8706140350877193
         ],
         "yaxis": "y"
        },
        {
         "alignmentgroup": "True",
         "bingroup": "y",
         "hovertemplate": "test=0007<br>eventRecall=%{y}<br>count=%{x}<extra></extra>",
         "legendgroup": "0007",
         "marker": {
          "color": "#19d3f3"
         },
         "name": "0007",
         "offsetgroup": "0007",
         "opacity": 0.5,
         "showlegend": false,
         "type": "histogram",
         "xaxis": "x2",
         "y": [
          0.8706140350877193
         ],
         "yaxis": "y2"
        },
        {
         "hovertemplate": "<b>%{hovertext}</b><br><br>test=0009<br>eventF1=%{x}<br>eventRecall=%{y}<extra></extra>",
         "hovertext": [
          "15e578bc-6917-4cef-a16a-bade7c0b0676"
         ],
         "legendgroup": "0009",
         "marker": {
          "color": "#FF6692",
          "symbol": "circle"
         },
         "mode": "markers",
         "name": "0009",
         "orientation": "v",
         "showlegend": true,
         "type": "scatter",
         "x": [
          0.7838651414810355
         ],
         "xaxis": "x",
         "y": [
          0.7997542997542998
         ],
         "yaxis": "y"
        },
        {
         "alignmentgroup": "True",
         "bingroup": "y",
         "hovertemplate": "test=0009<br>eventRecall=%{y}<br>count=%{x}<extra></extra>",
         "legendgroup": "0009",
         "marker": {
          "color": "#FF6692"
         },
         "name": "0009",
         "offsetgroup": "0009",
         "opacity": 0.5,
         "showlegend": false,
         "type": "histogram",
         "xaxis": "x2",
         "y": [
          0.7997542997542998
         ],
         "yaxis": "y2"
        },
        {
         "hovertemplate": "<b>%{hovertext}</b><br><br>test=0010<br>eventF1=%{x}<br>eventRecall=%{y}<extra></extra>",
         "hovertext": [
          "7e1fcff0-30f4-4f29-90d4-f7171b7700cf"
         ],
         "legendgroup": "0010",
         "marker": {
          "color": "#B6E880",
          "symbol": "circle"
         },
         "mode": "markers",
         "name": "0010",
         "orientation": "v",
         "showlegend": true,
         "type": "scatter",
         "x": [
          0.7355543987506507
         ],
         "xaxis": "x",
         "y": [
          0.889308176100629
         ],
         "yaxis": "y"
        },
        {
         "alignmentgroup": "True",
         "bingroup": "y",
         "hovertemplate": "test=0010<br>eventRecall=%{y}<br>count=%{x}<extra></extra>",
         "legendgroup": "0010",
         "marker": {
          "color": "#B6E880"
         },
         "name": "0010",
         "offsetgroup": "0010",
         "opacity": 0.5,
         "showlegend": false,
         "type": "histogram",
         "xaxis": "x2",
         "y": [
          0.889308176100629
         ],
         "yaxis": "y2"
        },
        {
         "hovertemplate": "<b>%{hovertext}</b><br><br>test=0011<br>eventF1=%{x}<br>eventRecall=%{y}<extra></extra>",
         "hovertext": [
          "0f783e82-ff7a-4204-9e47-55e534671311"
         ],
         "legendgroup": "0011",
         "marker": {
          "color": "#FF97FF",
          "symbol": "circle"
         },
         "mode": "markers",
         "name": "0011",
         "orientation": "v",
         "showlegend": true,
         "type": "scatter",
         "x": [
          0.63931718061674
         ],
         "xaxis": "x",
         "y": [
          0.9570957095709571
         ],
         "yaxis": "y"
        },
        {
         "alignmentgroup": "True",
         "bingroup": "y",
         "hovertemplate": "test=0011<br>eventRecall=%{y}<br>count=%{x}<extra></extra>",
         "legendgroup": "0011",
         "marker": {
          "color": "#FF97FF"
         },
         "name": "0011",
         "offsetgroup": "0011",
         "opacity": 0.5,
         "showlegend": false,
         "type": "histogram",
         "xaxis": "x2",
         "y": [
          0.9570957095709571
         ],
         "yaxis": "y2"
        },
        {
         "hovertemplate": "<b>%{hovertext}</b><br><br>test=0012<br>eventF1=%{x}<br>eventRecall=%{y}<extra></extra>",
         "hovertext": [
          "99bfe384-9dde-485c-8233-eb9370c0bdbf"
         ],
         "legendgroup": "0012",
         "marker": {
          "color": "#FECB52",
          "symbol": "circle"
         },
         "mode": "markers",
         "name": "0012",
         "orientation": "v",
         "showlegend": true,
         "type": "scatter",
         "x": [
          0.6838885112168592
         ],
         "xaxis": "x",
         "y": [
          0.7094499294781382
         ],
         "yaxis": "y"
        },
        {
         "alignmentgroup": "True",
         "bingroup": "y",
         "hovertemplate": "test=0012<br>eventRecall=%{y}<br>count=%{x}<extra></extra>",
         "legendgroup": "0012",
         "marker": {
          "color": "#FECB52"
         },
         "name": "0012",
         "offsetgroup": "0012",
         "opacity": 0.5,
         "showlegend": false,
         "type": "histogram",
         "xaxis": "x2",
         "y": [
          0.7094499294781382
         ],
         "yaxis": "y2"
        },
        {
         "hovertemplate": "<b>%{hovertext}</b><br><br>test=0013<br>eventF1=%{x}<br>eventRecall=%{y}<extra></extra>",
         "hovertext": [
          "63e51dd9-118d-496b-8b4d-c0fd4db3d962"
         ],
         "legendgroup": "0013",
         "marker": {
          "color": "#636efa",
          "symbol": "circle"
         },
         "mode": "markers",
         "name": "0013",
         "orientation": "v",
         "showlegend": true,
         "type": "scatter",
         "x": [
          0.6733027054619704
         ],
         "xaxis": "x",
         "y": [
          0.9455587392550143
         ],
         "yaxis": "y"
        },
        {
         "alignmentgroup": "True",
         "bingroup": "y",
         "hovertemplate": "test=0013<br>eventRecall=%{y}<br>count=%{x}<extra></extra>",
         "legendgroup": "0013",
         "marker": {
          "color": "#636efa"
         },
         "name": "0013",
         "offsetgroup": "0013",
         "opacity": 0.5,
         "showlegend": false,
         "type": "histogram",
         "xaxis": "x2",
         "y": [
          0.9455587392550143
         ],
         "yaxis": "y2"
        },
        {
         "hovertemplate": "<b>%{hovertext}</b><br><br>test=0014<br>eventF1=%{x}<br>eventRecall=%{y}<extra></extra>",
         "hovertext": [
          "1665dd00-eb54-47cb-843d-f21453d9790d"
         ],
         "legendgroup": "0014",
         "marker": {
          "color": "#EF553B",
          "symbol": "circle"
         },
         "mode": "markers",
         "name": "0014",
         "orientation": "v",
         "showlegend": true,
         "type": "scatter",
         "x": [
          0.5932787591555364
         ],
         "xaxis": "x",
         "y": [
          0.9705056179775281
         ],
         "yaxis": "y"
        },
        {
         "alignmentgroup": "True",
         "bingroup": "y",
         "hovertemplate": "test=0014<br>eventRecall=%{y}<br>count=%{x}<extra></extra>",
         "legendgroup": "0014",
         "marker": {
          "color": "#EF553B"
         },
         "name": "0014",
         "offsetgroup": "0014",
         "opacity": 0.5,
         "showlegend": false,
         "type": "histogram",
         "xaxis": "x2",
         "y": [
          0.9705056179775281
         ],
         "yaxis": "y2"
        },
        {
         "hovertemplate": "<b>%{hovertext}</b><br><br>test=0017<br>eventF1=%{x}<br>eventRecall=%{y}<extra></extra>",
         "hovertext": [
          "263de413-4128-436e-b8a1-0bb7ad600f90"
         ],
         "legendgroup": "0017",
         "marker": {
          "color": "#00cc96",
          "symbol": "circle"
         },
         "mode": "markers",
         "name": "0017",
         "orientation": "v",
         "showlegend": true,
         "type": "scatter",
         "x": [
          0.7360350492880613
         ],
         "xaxis": "x",
         "y": [
          0.7148936170212766
         ],
         "yaxis": "y"
        },
        {
         "alignmentgroup": "True",
         "bingroup": "y",
         "hovertemplate": "test=0017<br>eventRecall=%{y}<br>count=%{x}<extra></extra>",
         "legendgroup": "0017",
         "marker": {
          "color": "#00cc96"
         },
         "name": "0017",
         "offsetgroup": "0017",
         "opacity": 0.5,
         "showlegend": false,
         "type": "histogram",
         "xaxis": "x2",
         "y": [
          0.7148936170212766
         ],
         "yaxis": "y2"
        },
        {
         "hovertemplate": "<b>%{hovertext}</b><br><br>test=0018<br>eventF1=%{x}<br>eventRecall=%{y}<extra></extra>",
         "hovertext": [
          "d666c68e-f0ca-4f31-b8f4-f0495ee86bc1"
         ],
         "legendgroup": "0018",
         "marker": {
          "color": "#ab63fa",
          "symbol": "circle"
         },
         "mode": "markers",
         "name": "0018",
         "orientation": "v",
         "showlegend": true,
         "type": "scatter",
         "x": [
          0.7330861909175163
         ],
         "xaxis": "x",
         "y": [
          0.679553264604811
         ],
         "yaxis": "y"
        },
        {
         "alignmentgroup": "True",
         "bingroup": "y",
         "hovertemplate": "test=0018<br>eventRecall=%{y}<br>count=%{x}<extra></extra>",
         "legendgroup": "0018",
         "marker": {
          "color": "#ab63fa"
         },
         "name": "0018",
         "offsetgroup": "0018",
         "opacity": 0.5,
         "showlegend": false,
         "type": "histogram",
         "xaxis": "x2",
         "y": [
          0.679553264604811
         ],
         "yaxis": "y2"
        },
        {
         "hovertemplate": "<b>%{hovertext}</b><br><br>test=0019<br>eventF1=%{x}<br>eventRecall=%{y}<extra></extra>",
         "hovertext": [
          "d88629a4-c108-44c5-9c1b-4008bdd78400"
         ],
         "legendgroup": "0019",
         "marker": {
          "color": "#FFA15A",
          "symbol": "circle"
         },
         "mode": "markers",
         "name": "0019",
         "orientation": "v",
         "showlegend": true,
         "type": "scatter",
         "x": [
          0.5373390557939914
         ],
         "xaxis": "x",
         "y": [
          0.9936507936507937
         ],
         "yaxis": "y"
        },
        {
         "alignmentgroup": "True",
         "bingroup": "y",
         "hovertemplate": "test=0019<br>eventRecall=%{y}<br>count=%{x}<extra></extra>",
         "legendgroup": "0019",
         "marker": {
          "color": "#FFA15A"
         },
         "name": "0019",
         "offsetgroup": "0019",
         "opacity": 0.5,
         "showlegend": false,
         "type": "histogram",
         "xaxis": "x2",
         "y": [
          0.9936507936507937
         ],
         "yaxis": "y2"
        },
        {
         "fill": "toself",
         "mode": "lines",
         "name": "identity",
         "type": "scatter",
         "x": [
          0.7060158910329172,
          0.7796480489671003,
          0.6188118811881188,
          0.6222684703433923,
          0.6646706586826348,
          0.6198282591725215,
          0.7838651414810355,
          0.7355543987506507,
          0.63931718061674,
          0.6838885112168592,
          0.6733027054619704,
          0.5932787591555364,
          0.7360350492880613,
          0.7330861909175163,
          0.5373390557939914
         ],
         "y": [
          0.7060158910329172,
          0.7796480489671003,
          0.6188118811881188,
          0.6222684703433923,
          0.6646706586826348,
          0.6198282591725215,
          0.7838651414810355,
          0.7355543987506507,
          0.63931718061674,
          0.6838885112168592,
          0.6733027054619704,
          0.5932787591555364,
          0.7360350492880613,
          0.7330861909175163,
          0.5373390557939914
         ]
        }
       ],
       "layout": {
        "barmode": "overlay",
        "legend": {
         "title": {
          "text": "test"
         },
         "tracegroupgap": 0
        },
        "margin": {
         "t": 60
        },
        "template": {
         "data": {
          "bar": [
           {
            "error_x": {
             "color": "#2a3f5f"
            },
            "error_y": {
             "color": "#2a3f5f"
            },
            "marker": {
             "line": {
              "color": "#E5ECF6",
              "width": 0.5
             },
             "pattern": {
              "fillmode": "overlay",
              "size": 10,
              "solidity": 0.2
             }
            },
            "type": "bar"
           }
          ],
          "barpolar": [
           {
            "marker": {
             "line": {
              "color": "#E5ECF6",
              "width": 0.5
             },
             "pattern": {
              "fillmode": "overlay",
              "size": 10,
              "solidity": 0.2
             }
            },
            "type": "barpolar"
           }
          ],
          "carpet": [
           {
            "aaxis": {
             "endlinecolor": "#2a3f5f",
             "gridcolor": "white",
             "linecolor": "white",
             "minorgridcolor": "white",
             "startlinecolor": "#2a3f5f"
            },
            "baxis": {
             "endlinecolor": "#2a3f5f",
             "gridcolor": "white",
             "linecolor": "white",
             "minorgridcolor": "white",
             "startlinecolor": "#2a3f5f"
            },
            "type": "carpet"
           }
          ],
          "choropleth": [
           {
            "colorbar": {
             "outlinewidth": 0,
             "ticks": ""
            },
            "type": "choropleth"
           }
          ],
          "contour": [
           {
            "colorbar": {
             "outlinewidth": 0,
             "ticks": ""
            },
            "colorscale": [
             [
              0,
              "#0d0887"
             ],
             [
              0.1111111111111111,
              "#46039f"
             ],
             [
              0.2222222222222222,
              "#7201a8"
             ],
             [
              0.3333333333333333,
              "#9c179e"
             ],
             [
              0.4444444444444444,
              "#bd3786"
             ],
             [
              0.5555555555555556,
              "#d8576b"
             ],
             [
              0.6666666666666666,
              "#ed7953"
             ],
             [
              0.7777777777777778,
              "#fb9f3a"
             ],
             [
              0.8888888888888888,
              "#fdca26"
             ],
             [
              1,
              "#f0f921"
             ]
            ],
            "type": "contour"
           }
          ],
          "contourcarpet": [
           {
            "colorbar": {
             "outlinewidth": 0,
             "ticks": ""
            },
            "type": "contourcarpet"
           }
          ],
          "heatmap": [
           {
            "colorbar": {
             "outlinewidth": 0,
             "ticks": ""
            },
            "colorscale": [
             [
              0,
              "#0d0887"
             ],
             [
              0.1111111111111111,
              "#46039f"
             ],
             [
              0.2222222222222222,
              "#7201a8"
             ],
             [
              0.3333333333333333,
              "#9c179e"
             ],
             [
              0.4444444444444444,
              "#bd3786"
             ],
             [
              0.5555555555555556,
              "#d8576b"
             ],
             [
              0.6666666666666666,
              "#ed7953"
             ],
             [
              0.7777777777777778,
              "#fb9f3a"
             ],
             [
              0.8888888888888888,
              "#fdca26"
             ],
             [
              1,
              "#f0f921"
             ]
            ],
            "type": "heatmap"
           }
          ],
          "heatmapgl": [
           {
            "colorbar": {
             "outlinewidth": 0,
             "ticks": ""
            },
            "colorscale": [
             [
              0,
              "#0d0887"
             ],
             [
              0.1111111111111111,
              "#46039f"
             ],
             [
              0.2222222222222222,
              "#7201a8"
             ],
             [
              0.3333333333333333,
              "#9c179e"
             ],
             [
              0.4444444444444444,
              "#bd3786"
             ],
             [
              0.5555555555555556,
              "#d8576b"
             ],
             [
              0.6666666666666666,
              "#ed7953"
             ],
             [
              0.7777777777777778,
              "#fb9f3a"
             ],
             [
              0.8888888888888888,
              "#fdca26"
             ],
             [
              1,
              "#f0f921"
             ]
            ],
            "type": "heatmapgl"
           }
          ],
          "histogram": [
           {
            "marker": {
             "pattern": {
              "fillmode": "overlay",
              "size": 10,
              "solidity": 0.2
             }
            },
            "type": "histogram"
           }
          ],
          "histogram2d": [
           {
            "colorbar": {
             "outlinewidth": 0,
             "ticks": ""
            },
            "colorscale": [
             [
              0,
              "#0d0887"
             ],
             [
              0.1111111111111111,
              "#46039f"
             ],
             [
              0.2222222222222222,
              "#7201a8"
             ],
             [
              0.3333333333333333,
              "#9c179e"
             ],
             [
              0.4444444444444444,
              "#bd3786"
             ],
             [
              0.5555555555555556,
              "#d8576b"
             ],
             [
              0.6666666666666666,
              "#ed7953"
             ],
             [
              0.7777777777777778,
              "#fb9f3a"
             ],
             [
              0.8888888888888888,
              "#fdca26"
             ],
             [
              1,
              "#f0f921"
             ]
            ],
            "type": "histogram2d"
           }
          ],
          "histogram2dcontour": [
           {
            "colorbar": {
             "outlinewidth": 0,
             "ticks": ""
            },
            "colorscale": [
             [
              0,
              "#0d0887"
             ],
             [
              0.1111111111111111,
              "#46039f"
             ],
             [
              0.2222222222222222,
              "#7201a8"
             ],
             [
              0.3333333333333333,
              "#9c179e"
             ],
             [
              0.4444444444444444,
              "#bd3786"
             ],
             [
              0.5555555555555556,
              "#d8576b"
             ],
             [
              0.6666666666666666,
              "#ed7953"
             ],
             [
              0.7777777777777778,
              "#fb9f3a"
             ],
             [
              0.8888888888888888,
              "#fdca26"
             ],
             [
              1,
              "#f0f921"
             ]
            ],
            "type": "histogram2dcontour"
           }
          ],
          "mesh3d": [
           {
            "colorbar": {
             "outlinewidth": 0,
             "ticks": ""
            },
            "type": "mesh3d"
           }
          ],
          "parcoords": [
           {
            "line": {
             "colorbar": {
              "outlinewidth": 0,
              "ticks": ""
             }
            },
            "type": "parcoords"
           }
          ],
          "pie": [
           {
            "automargin": true,
            "type": "pie"
           }
          ],
          "scatter": [
           {
            "fillpattern": {
             "fillmode": "overlay",
             "size": 10,
             "solidity": 0.2
            },
            "type": "scatter"
           }
          ],
          "scatter3d": [
           {
            "line": {
             "colorbar": {
              "outlinewidth": 0,
              "ticks": ""
             }
            },
            "marker": {
             "colorbar": {
              "outlinewidth": 0,
              "ticks": ""
             }
            },
            "type": "scatter3d"
           }
          ],
          "scattercarpet": [
           {
            "marker": {
             "colorbar": {
              "outlinewidth": 0,
              "ticks": ""
             }
            },
            "type": "scattercarpet"
           }
          ],
          "scattergeo": [
           {
            "marker": {
             "colorbar": {
              "outlinewidth": 0,
              "ticks": ""
             }
            },
            "type": "scattergeo"
           }
          ],
          "scattergl": [
           {
            "marker": {
             "colorbar": {
              "outlinewidth": 0,
              "ticks": ""
             }
            },
            "type": "scattergl"
           }
          ],
          "scattermapbox": [
           {
            "marker": {
             "colorbar": {
              "outlinewidth": 0,
              "ticks": ""
             }
            },
            "type": "scattermapbox"
           }
          ],
          "scatterpolar": [
           {
            "marker": {
             "colorbar": {
              "outlinewidth": 0,
              "ticks": ""
             }
            },
            "type": "scatterpolar"
           }
          ],
          "scatterpolargl": [
           {
            "marker": {
             "colorbar": {
              "outlinewidth": 0,
              "ticks": ""
             }
            },
            "type": "scatterpolargl"
           }
          ],
          "scatterternary": [
           {
            "marker": {
             "colorbar": {
              "outlinewidth": 0,
              "ticks": ""
             }
            },
            "type": "scatterternary"
           }
          ],
          "surface": [
           {
            "colorbar": {
             "outlinewidth": 0,
             "ticks": ""
            },
            "colorscale": [
             [
              0,
              "#0d0887"
             ],
             [
              0.1111111111111111,
              "#46039f"
             ],
             [
              0.2222222222222222,
              "#7201a8"
             ],
             [
              0.3333333333333333,
              "#9c179e"
             ],
             [
              0.4444444444444444,
              "#bd3786"
             ],
             [
              0.5555555555555556,
              "#d8576b"
             ],
             [
              0.6666666666666666,
              "#ed7953"
             ],
             [
              0.7777777777777778,
              "#fb9f3a"
             ],
             [
              0.8888888888888888,
              "#fdca26"
             ],
             [
              1,
              "#f0f921"
             ]
            ],
            "type": "surface"
           }
          ],
          "table": [
           {
            "cells": {
             "fill": {
              "color": "#EBF0F8"
             },
             "line": {
              "color": "white"
             }
            },
            "header": {
             "fill": {
              "color": "#C8D4E3"
             },
             "line": {
              "color": "white"
             }
            },
            "type": "table"
           }
          ]
         },
         "layout": {
          "annotationdefaults": {
           "arrowcolor": "#2a3f5f",
           "arrowhead": 0,
           "arrowwidth": 1
          },
          "autotypenumbers": "strict",
          "coloraxis": {
           "colorbar": {
            "outlinewidth": 0,
            "ticks": ""
           }
          },
          "colorscale": {
           "diverging": [
            [
             0,
             "#8e0152"
            ],
            [
             0.1,
             "#c51b7d"
            ],
            [
             0.2,
             "#de77ae"
            ],
            [
             0.3,
             "#f1b6da"
            ],
            [
             0.4,
             "#fde0ef"
            ],
            [
             0.5,
             "#f7f7f7"
            ],
            [
             0.6,
             "#e6f5d0"
            ],
            [
             0.7,
             "#b8e186"
            ],
            [
             0.8,
             "#7fbc41"
            ],
            [
             0.9,
             "#4d9221"
            ],
            [
             1,
             "#276419"
            ]
           ],
           "sequential": [
            [
             0,
             "#0d0887"
            ],
            [
             0.1111111111111111,
             "#46039f"
            ],
            [
             0.2222222222222222,
             "#7201a8"
            ],
            [
             0.3333333333333333,
             "#9c179e"
            ],
            [
             0.4444444444444444,
             "#bd3786"
            ],
            [
             0.5555555555555556,
             "#d8576b"
            ],
            [
             0.6666666666666666,
             "#ed7953"
            ],
            [
             0.7777777777777778,
             "#fb9f3a"
            ],
            [
             0.8888888888888888,
             "#fdca26"
            ],
            [
             1,
             "#f0f921"
            ]
           ],
           "sequentialminus": [
            [
             0,
             "#0d0887"
            ],
            [
             0.1111111111111111,
             "#46039f"
            ],
            [
             0.2222222222222222,
             "#7201a8"
            ],
            [
             0.3333333333333333,
             "#9c179e"
            ],
            [
             0.4444444444444444,
             "#bd3786"
            ],
            [
             0.5555555555555556,
             "#d8576b"
            ],
            [
             0.6666666666666666,
             "#ed7953"
            ],
            [
             0.7777777777777778,
             "#fb9f3a"
            ],
            [
             0.8888888888888888,
             "#fdca26"
            ],
            [
             1,
             "#f0f921"
            ]
           ]
          },
          "colorway": [
           "#636efa",
           "#EF553B",
           "#00cc96",
           "#ab63fa",
           "#FFA15A",
           "#19d3f3",
           "#FF6692",
           "#B6E880",
           "#FF97FF",
           "#FECB52"
          ],
          "font": {
           "color": "#2a3f5f"
          },
          "geo": {
           "bgcolor": "white",
           "lakecolor": "white",
           "landcolor": "#E5ECF6",
           "showlakes": true,
           "showland": true,
           "subunitcolor": "white"
          },
          "hoverlabel": {
           "align": "left"
          },
          "hovermode": "closest",
          "mapbox": {
           "style": "light"
          },
          "paper_bgcolor": "white",
          "plot_bgcolor": "#E5ECF6",
          "polar": {
           "angularaxis": {
            "gridcolor": "white",
            "linecolor": "white",
            "ticks": ""
           },
           "bgcolor": "#E5ECF6",
           "radialaxis": {
            "gridcolor": "white",
            "linecolor": "white",
            "ticks": ""
           }
          },
          "scene": {
           "xaxis": {
            "backgroundcolor": "#E5ECF6",
            "gridcolor": "white",
            "gridwidth": 2,
            "linecolor": "white",
            "showbackground": true,
            "ticks": "",
            "zerolinecolor": "white"
           },
           "yaxis": {
            "backgroundcolor": "#E5ECF6",
            "gridcolor": "white",
            "gridwidth": 2,
            "linecolor": "white",
            "showbackground": true,
            "ticks": "",
            "zerolinecolor": "white"
           },
           "zaxis": {
            "backgroundcolor": "#E5ECF6",
            "gridcolor": "white",
            "gridwidth": 2,
            "linecolor": "white",
            "showbackground": true,
            "ticks": "",
            "zerolinecolor": "white"
           }
          },
          "shapedefaults": {
           "line": {
            "color": "#2a3f5f"
           }
          },
          "ternary": {
           "aaxis": {
            "gridcolor": "white",
            "linecolor": "white",
            "ticks": ""
           },
           "baxis": {
            "gridcolor": "white",
            "linecolor": "white",
            "ticks": ""
           },
           "bgcolor": "#E5ECF6",
           "caxis": {
            "gridcolor": "white",
            "linecolor": "white",
            "ticks": ""
           }
          },
          "title": {
           "x": 0.05
          },
          "xaxis": {
           "automargin": true,
           "gridcolor": "white",
           "linecolor": "white",
           "ticks": "",
           "title": {
            "standoff": 15
           },
           "zerolinecolor": "white",
           "zerolinewidth": 2
          },
          "yaxis": {
           "automargin": true,
           "gridcolor": "white",
           "linecolor": "white",
           "ticks": "",
           "title": {
            "standoff": 15
           },
           "zerolinecolor": "white",
           "zerolinewidth": 2
          }
         }
        },
        "xaxis": {
         "anchor": "y",
         "domain": [
          0,
          0.7363
         ],
         "title": {
          "text": "eventF1"
         }
        },
        "xaxis2": {
         "anchor": "y2",
         "domain": [
          0.7413,
          1
         ],
         "matches": "x2",
         "showgrid": true,
         "showline": false,
         "showticklabels": false,
         "ticks": ""
        },
        "yaxis": {
         "anchor": "x",
         "domain": [
          0,
          1
         ],
         "title": {
          "text": "eventRecall"
         }
        },
        "yaxis2": {
         "anchor": "x2",
         "domain": [
          0,
          1
         ],
         "matches": "y",
         "showgrid": true,
         "showticklabels": false
        }
       }
      }
     },
     "metadata": {},
     "output_type": "display_data"
    }
   ],
   "source": [
    "fig=px.scatter(experimentModels,x='eventF1',y='eventRecall',color='test',hover_name='modelId', marginal_y=\"histogram\")\n",
    "fig.add_trace(\n",
    "    go.Scatter(x=experimentModels['eventF1'], y=experimentModels['eventF1'], name=\"identity\", mode='lines',fill=\"toself\")\n",
    ")\n",
    "fig.show()"
   ]
  },
  {
   "cell_type": "code",
   "execution_count": 21,
   "metadata": {},
   "outputs": [
    {
     "data": {
      "text/html": [
       "<div>\n",
       "<style scoped>\n",
       "    .dataframe tbody tr th:only-of-type {\n",
       "        vertical-align: middle;\n",
       "    }\n",
       "\n",
       "    .dataframe tbody tr th {\n",
       "        vertical-align: top;\n",
       "    }\n",
       "\n",
       "    .dataframe thead tr th {\n",
       "        text-align: left;\n",
       "    }\n",
       "\n",
       "    .dataframe thead tr:last-of-type th {\n",
       "        text-align: right;\n",
       "    }\n",
       "</style>\n",
       "<table border=\"1\" class=\"dataframe\">\n",
       "  <thead>\n",
       "    <tr>\n",
       "      <th></th>\n",
       "      <th colspan=\"6\" halign=\"left\">eventF1</th>\n",
       "      <th colspan=\"6\" halign=\"left\">eventPrecision</th>\n",
       "      <th colspan=\"6\" halign=\"left\">eventRecall</th>\n",
       "    </tr>\n",
       "    <tr>\n",
       "      <th></th>\n",
       "      <th>count</th>\n",
       "      <th>mean</th>\n",
       "      <th>std</th>\n",
       "      <th>min</th>\n",
       "      <th>50%</th>\n",
       "      <th>max</th>\n",
       "      <th>count</th>\n",
       "      <th>mean</th>\n",
       "      <th>std</th>\n",
       "      <th>min</th>\n",
       "      <th>50%</th>\n",
       "      <th>max</th>\n",
       "      <th>count</th>\n",
       "      <th>mean</th>\n",
       "      <th>std</th>\n",
       "      <th>min</th>\n",
       "      <th>50%</th>\n",
       "      <th>max</th>\n",
       "    </tr>\n",
       "    <tr>\n",
       "      <th>test</th>\n",
       "      <th></th>\n",
       "      <th></th>\n",
       "      <th></th>\n",
       "      <th></th>\n",
       "      <th></th>\n",
       "      <th></th>\n",
       "      <th></th>\n",
       "      <th></th>\n",
       "      <th></th>\n",
       "      <th></th>\n",
       "      <th></th>\n",
       "      <th></th>\n",
       "      <th></th>\n",
       "      <th></th>\n",
       "      <th></th>\n",
       "      <th></th>\n",
       "      <th></th>\n",
       "      <th></th>\n",
       "    </tr>\n",
       "  </thead>\n",
       "  <tbody>\n",
       "    <tr>\n",
       "      <th>0001</th>\n",
       "      <td>1.0</td>\n",
       "      <td>0.706016</td>\n",
       "      <td>NaN</td>\n",
       "      <td>0.706016</td>\n",
       "      <td>0.706016</td>\n",
       "      <td>0.706016</td>\n",
       "      <td>1.0</td>\n",
       "      <td>0.866295</td>\n",
       "      <td>NaN</td>\n",
       "      <td>0.866295</td>\n",
       "      <td>0.866295</td>\n",
       "      <td>0.866295</td>\n",
       "      <td>1.0</td>\n",
       "      <td>0.595785</td>\n",
       "      <td>NaN</td>\n",
       "      <td>0.595785</td>\n",
       "      <td>0.595785</td>\n",
       "      <td>0.595785</td>\n",
       "    </tr>\n",
       "    <tr>\n",
       "      <th>0002</th>\n",
       "      <td>1.0</td>\n",
       "      <td>0.779648</td>\n",
       "      <td>NaN</td>\n",
       "      <td>0.779648</td>\n",
       "      <td>0.779648</td>\n",
       "      <td>0.779648</td>\n",
       "      <td>1.0</td>\n",
       "      <td>0.692726</td>\n",
       "      <td>NaN</td>\n",
       "      <td>0.692726</td>\n",
       "      <td>0.692726</td>\n",
       "      <td>0.692726</td>\n",
       "      <td>1.0</td>\n",
       "      <td>0.891514</td>\n",
       "      <td>NaN</td>\n",
       "      <td>0.891514</td>\n",
       "      <td>0.891514</td>\n",
       "      <td>0.891514</td>\n",
       "    </tr>\n",
       "    <tr>\n",
       "      <th>0003</th>\n",
       "      <td>1.0</td>\n",
       "      <td>0.618812</td>\n",
       "      <td>NaN</td>\n",
       "      <td>0.618812</td>\n",
       "      <td>0.618812</td>\n",
       "      <td>0.618812</td>\n",
       "      <td>1.0</td>\n",
       "      <td>0.478927</td>\n",
       "      <td>NaN</td>\n",
       "      <td>0.478927</td>\n",
       "      <td>0.478927</td>\n",
       "      <td>0.478927</td>\n",
       "      <td>1.0</td>\n",
       "      <td>0.874126</td>\n",
       "      <td>NaN</td>\n",
       "      <td>0.874126</td>\n",
       "      <td>0.874126</td>\n",
       "      <td>0.874126</td>\n",
       "    </tr>\n",
       "    <tr>\n",
       "      <th>0005</th>\n",
       "      <td>1.0</td>\n",
       "      <td>0.622268</td>\n",
       "      <td>NaN</td>\n",
       "      <td>0.622268</td>\n",
       "      <td>0.622268</td>\n",
       "      <td>0.622268</td>\n",
       "      <td>1.0</td>\n",
       "      <td>0.482258</td>\n",
       "      <td>NaN</td>\n",
       "      <td>0.482258</td>\n",
       "      <td>0.482258</td>\n",
       "      <td>0.482258</td>\n",
       "      <td>1.0</td>\n",
       "      <td>0.876833</td>\n",
       "      <td>NaN</td>\n",
       "      <td>0.876833</td>\n",
       "      <td>0.876833</td>\n",
       "      <td>0.876833</td>\n",
       "    </tr>\n",
       "    <tr>\n",
       "      <th>0006</th>\n",
       "      <td>1.0</td>\n",
       "      <td>0.664671</td>\n",
       "      <td>NaN</td>\n",
       "      <td>0.664671</td>\n",
       "      <td>0.664671</td>\n",
       "      <td>0.664671</td>\n",
       "      <td>1.0</td>\n",
       "      <td>0.603261</td>\n",
       "      <td>NaN</td>\n",
       "      <td>0.603261</td>\n",
       "      <td>0.603261</td>\n",
       "      <td>0.603261</td>\n",
       "      <td>1.0</td>\n",
       "      <td>0.740000</td>\n",
       "      <td>NaN</td>\n",
       "      <td>0.740000</td>\n",
       "      <td>0.740000</td>\n",
       "      <td>0.740000</td>\n",
       "    </tr>\n",
       "    <tr>\n",
       "      <th>0007</th>\n",
       "      <td>1.0</td>\n",
       "      <td>0.619828</td>\n",
       "      <td>NaN</td>\n",
       "      <td>0.619828</td>\n",
       "      <td>0.619828</td>\n",
       "      <td>0.619828</td>\n",
       "      <td>1.0</td>\n",
       "      <td>0.481212</td>\n",
       "      <td>NaN</td>\n",
       "      <td>0.481212</td>\n",
       "      <td>0.481212</td>\n",
       "      <td>0.481212</td>\n",
       "      <td>1.0</td>\n",
       "      <td>0.870614</td>\n",
       "      <td>NaN</td>\n",
       "      <td>0.870614</td>\n",
       "      <td>0.870614</td>\n",
       "      <td>0.870614</td>\n",
       "    </tr>\n",
       "    <tr>\n",
       "      <th>0009</th>\n",
       "      <td>1.0</td>\n",
       "      <td>0.783865</td>\n",
       "      <td>NaN</td>\n",
       "      <td>0.783865</td>\n",
       "      <td>0.783865</td>\n",
       "      <td>0.783865</td>\n",
       "      <td>1.0</td>\n",
       "      <td>0.768595</td>\n",
       "      <td>NaN</td>\n",
       "      <td>0.768595</td>\n",
       "      <td>0.768595</td>\n",
       "      <td>0.768595</td>\n",
       "      <td>1.0</td>\n",
       "      <td>0.799754</td>\n",
       "      <td>NaN</td>\n",
       "      <td>0.799754</td>\n",
       "      <td>0.799754</td>\n",
       "      <td>0.799754</td>\n",
       "    </tr>\n",
       "    <tr>\n",
       "      <th>0010</th>\n",
       "      <td>1.0</td>\n",
       "      <td>0.735554</td>\n",
       "      <td>NaN</td>\n",
       "      <td>0.735554</td>\n",
       "      <td>0.735554</td>\n",
       "      <td>0.735554</td>\n",
       "      <td>1.0</td>\n",
       "      <td>0.626998</td>\n",
       "      <td>NaN</td>\n",
       "      <td>0.626998</td>\n",
       "      <td>0.626998</td>\n",
       "      <td>0.626998</td>\n",
       "      <td>1.0</td>\n",
       "      <td>0.889308</td>\n",
       "      <td>NaN</td>\n",
       "      <td>0.889308</td>\n",
       "      <td>0.889308</td>\n",
       "      <td>0.889308</td>\n",
       "    </tr>\n",
       "    <tr>\n",
       "      <th>0011</th>\n",
       "      <td>1.0</td>\n",
       "      <td>0.639317</td>\n",
       "      <td>NaN</td>\n",
       "      <td>0.639317</td>\n",
       "      <td>0.639317</td>\n",
       "      <td>0.639317</td>\n",
       "      <td>1.0</td>\n",
       "      <td>0.480165</td>\n",
       "      <td>NaN</td>\n",
       "      <td>0.480165</td>\n",
       "      <td>0.480165</td>\n",
       "      <td>0.480165</td>\n",
       "      <td>1.0</td>\n",
       "      <td>0.957096</td>\n",
       "      <td>NaN</td>\n",
       "      <td>0.957096</td>\n",
       "      <td>0.957096</td>\n",
       "      <td>0.957096</td>\n",
       "    </tr>\n",
       "    <tr>\n",
       "      <th>0012</th>\n",
       "      <td>1.0</td>\n",
       "      <td>0.683889</td>\n",
       "      <td>NaN</td>\n",
       "      <td>0.683889</td>\n",
       "      <td>0.683889</td>\n",
       "      <td>0.683889</td>\n",
       "      <td>1.0</td>\n",
       "      <td>0.660105</td>\n",
       "      <td>NaN</td>\n",
       "      <td>0.660105</td>\n",
       "      <td>0.660105</td>\n",
       "      <td>0.660105</td>\n",
       "      <td>1.0</td>\n",
       "      <td>0.709450</td>\n",
       "      <td>NaN</td>\n",
       "      <td>0.709450</td>\n",
       "      <td>0.709450</td>\n",
       "      <td>0.709450</td>\n",
       "    </tr>\n",
       "    <tr>\n",
       "      <th>0013</th>\n",
       "      <td>1.0</td>\n",
       "      <td>0.673303</td>\n",
       "      <td>NaN</td>\n",
       "      <td>0.673303</td>\n",
       "      <td>0.673303</td>\n",
       "      <td>0.673303</td>\n",
       "      <td>1.0</td>\n",
       "      <td>0.522601</td>\n",
       "      <td>NaN</td>\n",
       "      <td>0.522601</td>\n",
       "      <td>0.522601</td>\n",
       "      <td>0.522601</td>\n",
       "      <td>1.0</td>\n",
       "      <td>0.945559</td>\n",
       "      <td>NaN</td>\n",
       "      <td>0.945559</td>\n",
       "      <td>0.945559</td>\n",
       "      <td>0.945559</td>\n",
       "    </tr>\n",
       "    <tr>\n",
       "      <th>0014</th>\n",
       "      <td>1.0</td>\n",
       "      <td>0.593279</td>\n",
       "      <td>NaN</td>\n",
       "      <td>0.593279</td>\n",
       "      <td>0.593279</td>\n",
       "      <td>0.593279</td>\n",
       "      <td>1.0</td>\n",
       "      <td>0.426352</td>\n",
       "      <td>NaN</td>\n",
       "      <td>0.426352</td>\n",
       "      <td>0.426352</td>\n",
       "      <td>0.426352</td>\n",
       "      <td>1.0</td>\n",
       "      <td>0.970506</td>\n",
       "      <td>NaN</td>\n",
       "      <td>0.970506</td>\n",
       "      <td>0.970506</td>\n",
       "      <td>0.970506</td>\n",
       "    </tr>\n",
       "    <tr>\n",
       "      <th>0017</th>\n",
       "      <td>1.0</td>\n",
       "      <td>0.736035</td>\n",
       "      <td>NaN</td>\n",
       "      <td>0.736035</td>\n",
       "      <td>0.736035</td>\n",
       "      <td>0.736035</td>\n",
       "      <td>1.0</td>\n",
       "      <td>0.758465</td>\n",
       "      <td>NaN</td>\n",
       "      <td>0.758465</td>\n",
       "      <td>0.758465</td>\n",
       "      <td>0.758465</td>\n",
       "      <td>1.0</td>\n",
       "      <td>0.714894</td>\n",
       "      <td>NaN</td>\n",
       "      <td>0.714894</td>\n",
       "      <td>0.714894</td>\n",
       "      <td>0.714894</td>\n",
       "    </tr>\n",
       "    <tr>\n",
       "      <th>0018</th>\n",
       "      <td>1.0</td>\n",
       "      <td>0.733086</td>\n",
       "      <td>NaN</td>\n",
       "      <td>0.733086</td>\n",
       "      <td>0.733086</td>\n",
       "      <td>0.733086</td>\n",
       "      <td>1.0</td>\n",
       "      <td>0.795775</td>\n",
       "      <td>NaN</td>\n",
       "      <td>0.795775</td>\n",
       "      <td>0.795775</td>\n",
       "      <td>0.795775</td>\n",
       "      <td>1.0</td>\n",
       "      <td>0.679553</td>\n",
       "      <td>NaN</td>\n",
       "      <td>0.679553</td>\n",
       "      <td>0.679553</td>\n",
       "      <td>0.679553</td>\n",
       "    </tr>\n",
       "    <tr>\n",
       "      <th>0019</th>\n",
       "      <td>1.0</td>\n",
       "      <td>0.537339</td>\n",
       "      <td>NaN</td>\n",
       "      <td>0.537339</td>\n",
       "      <td>0.537339</td>\n",
       "      <td>0.537339</td>\n",
       "      <td>1.0</td>\n",
       "      <td>0.368235</td>\n",
       "      <td>NaN</td>\n",
       "      <td>0.368235</td>\n",
       "      <td>0.368235</td>\n",
       "      <td>0.368235</td>\n",
       "      <td>1.0</td>\n",
       "      <td>0.993651</td>\n",
       "      <td>NaN</td>\n",
       "      <td>0.993651</td>\n",
       "      <td>0.993651</td>\n",
       "      <td>0.993651</td>\n",
       "    </tr>\n",
       "  </tbody>\n",
       "</table>\n",
       "</div>"
      ],
      "text/plain": [
       "     eventF1                                             eventPrecision  \\\n",
       "       count      mean std       min       50%       max          count   \n",
       "test                                                                      \n",
       "0001     1.0  0.706016 NaN  0.706016  0.706016  0.706016            1.0   \n",
       "0002     1.0  0.779648 NaN  0.779648  0.779648  0.779648            1.0   \n",
       "0003     1.0  0.618812 NaN  0.618812  0.618812  0.618812            1.0   \n",
       "0005     1.0  0.622268 NaN  0.622268  0.622268  0.622268            1.0   \n",
       "0006     1.0  0.664671 NaN  0.664671  0.664671  0.664671            1.0   \n",
       "0007     1.0  0.619828 NaN  0.619828  0.619828  0.619828            1.0   \n",
       "0009     1.0  0.783865 NaN  0.783865  0.783865  0.783865            1.0   \n",
       "0010     1.0  0.735554 NaN  0.735554  0.735554  0.735554            1.0   \n",
       "0011     1.0  0.639317 NaN  0.639317  0.639317  0.639317            1.0   \n",
       "0012     1.0  0.683889 NaN  0.683889  0.683889  0.683889            1.0   \n",
       "0013     1.0  0.673303 NaN  0.673303  0.673303  0.673303            1.0   \n",
       "0014     1.0  0.593279 NaN  0.593279  0.593279  0.593279            1.0   \n",
       "0017     1.0  0.736035 NaN  0.736035  0.736035  0.736035            1.0   \n",
       "0018     1.0  0.733086 NaN  0.733086  0.733086  0.733086            1.0   \n",
       "0019     1.0  0.537339 NaN  0.537339  0.537339  0.537339            1.0   \n",
       "\n",
       "                                                 eventRecall                \\\n",
       "          mean std       min       50%       max       count      mean std   \n",
       "test                                                                         \n",
       "0001  0.866295 NaN  0.866295  0.866295  0.866295         1.0  0.595785 NaN   \n",
       "0002  0.692726 NaN  0.692726  0.692726  0.692726         1.0  0.891514 NaN   \n",
       "0003  0.478927 NaN  0.478927  0.478927  0.478927         1.0  0.874126 NaN   \n",
       "0005  0.482258 NaN  0.482258  0.482258  0.482258         1.0  0.876833 NaN   \n",
       "0006  0.603261 NaN  0.603261  0.603261  0.603261         1.0  0.740000 NaN   \n",
       "0007  0.481212 NaN  0.481212  0.481212  0.481212         1.0  0.870614 NaN   \n",
       "0009  0.768595 NaN  0.768595  0.768595  0.768595         1.0  0.799754 NaN   \n",
       "0010  0.626998 NaN  0.626998  0.626998  0.626998         1.0  0.889308 NaN   \n",
       "0011  0.480165 NaN  0.480165  0.480165  0.480165         1.0  0.957096 NaN   \n",
       "0012  0.660105 NaN  0.660105  0.660105  0.660105         1.0  0.709450 NaN   \n",
       "0013  0.522601 NaN  0.522601  0.522601  0.522601         1.0  0.945559 NaN   \n",
       "0014  0.426352 NaN  0.426352  0.426352  0.426352         1.0  0.970506 NaN   \n",
       "0017  0.758465 NaN  0.758465  0.758465  0.758465         1.0  0.714894 NaN   \n",
       "0018  0.795775 NaN  0.795775  0.795775  0.795775         1.0  0.679553 NaN   \n",
       "0019  0.368235 NaN  0.368235  0.368235  0.368235         1.0  0.993651 NaN   \n",
       "\n",
       "                                    \n",
       "           min       50%       max  \n",
       "test                                \n",
       "0001  0.595785  0.595785  0.595785  \n",
       "0002  0.891514  0.891514  0.891514  \n",
       "0003  0.874126  0.874126  0.874126  \n",
       "0005  0.876833  0.876833  0.876833  \n",
       "0006  0.740000  0.740000  0.740000  \n",
       "0007  0.870614  0.870614  0.870614  \n",
       "0009  0.799754  0.799754  0.799754  \n",
       "0010  0.889308  0.889308  0.889308  \n",
       "0011  0.957096  0.957096  0.957096  \n",
       "0012  0.709450  0.709450  0.709450  \n",
       "0013  0.945559  0.945559  0.945559  \n",
       "0014  0.970506  0.970506  0.970506  \n",
       "0017  0.714894  0.714894  0.714894  \n",
       "0018  0.679553  0.679553  0.679553  \n",
       "0019  0.993651  0.993651  0.993651  "
      ]
     },
     "execution_count": 21,
     "metadata": {},
     "output_type": "execute_result"
    }
   ],
   "source": [
    "experimentModels[['test','eventF1','eventPrecision','eventRecall']].groupby('test').describe(percentiles=[0.5])"
   ]
  },
  {
   "cell_type": "code",
   "execution_count": 22,
   "metadata": {},
   "outputs": [
    {
     "data": {
      "text/html": [
       "<div>\n",
       "<style scoped>\n",
       "    .dataframe tbody tr th:only-of-type {\n",
       "        vertical-align: middle;\n",
       "    }\n",
       "\n",
       "    .dataframe tbody tr th {\n",
       "        vertical-align: top;\n",
       "    }\n",
       "\n",
       "    .dataframe thead th {\n",
       "        text-align: right;\n",
       "    }\n",
       "</style>\n",
       "<table border=\"1\" class=\"dataframe\">\n",
       "  <thead>\n",
       "    <tr style=\"text-align: right;\">\n",
       "      <th></th>\n",
       "      <th>test</th>\n",
       "      <th>eventF1</th>\n",
       "      <th>eventPrecision</th>\n",
       "      <th>eventRecall</th>\n",
       "    </tr>\n",
       "  </thead>\n",
       "  <tbody>\n",
       "    <tr>\n",
       "      <th>0</th>\n",
       "      <td>0001</td>\n",
       "      <td>0.706016</td>\n",
       "      <td>0.866295</td>\n",
       "      <td>0.595785</td>\n",
       "    </tr>\n",
       "    <tr>\n",
       "      <th>1</th>\n",
       "      <td>0002</td>\n",
       "      <td>0.779648</td>\n",
       "      <td>0.692726</td>\n",
       "      <td>0.891514</td>\n",
       "    </tr>\n",
       "    <tr>\n",
       "      <th>2</th>\n",
       "      <td>0003</td>\n",
       "      <td>0.618812</td>\n",
       "      <td>0.478927</td>\n",
       "      <td>0.874126</td>\n",
       "    </tr>\n",
       "    <tr>\n",
       "      <th>3</th>\n",
       "      <td>0005</td>\n",
       "      <td>0.622268</td>\n",
       "      <td>0.482258</td>\n",
       "      <td>0.876833</td>\n",
       "    </tr>\n",
       "    <tr>\n",
       "      <th>4</th>\n",
       "      <td>0006</td>\n",
       "      <td>0.664671</td>\n",
       "      <td>0.603261</td>\n",
       "      <td>0.740000</td>\n",
       "    </tr>\n",
       "    <tr>\n",
       "      <th>5</th>\n",
       "      <td>0007</td>\n",
       "      <td>0.619828</td>\n",
       "      <td>0.481212</td>\n",
       "      <td>0.870614</td>\n",
       "    </tr>\n",
       "    <tr>\n",
       "      <th>6</th>\n",
       "      <td>0009</td>\n",
       "      <td>0.783865</td>\n",
       "      <td>0.768595</td>\n",
       "      <td>0.799754</td>\n",
       "    </tr>\n",
       "    <tr>\n",
       "      <th>7</th>\n",
       "      <td>0010</td>\n",
       "      <td>0.735554</td>\n",
       "      <td>0.626998</td>\n",
       "      <td>0.889308</td>\n",
       "    </tr>\n",
       "    <tr>\n",
       "      <th>8</th>\n",
       "      <td>0011</td>\n",
       "      <td>0.639317</td>\n",
       "      <td>0.480165</td>\n",
       "      <td>0.957096</td>\n",
       "    </tr>\n",
       "    <tr>\n",
       "      <th>9</th>\n",
       "      <td>0012</td>\n",
       "      <td>0.683889</td>\n",
       "      <td>0.660105</td>\n",
       "      <td>0.709450</td>\n",
       "    </tr>\n",
       "    <tr>\n",
       "      <th>10</th>\n",
       "      <td>0013</td>\n",
       "      <td>0.673303</td>\n",
       "      <td>0.522601</td>\n",
       "      <td>0.945559</td>\n",
       "    </tr>\n",
       "    <tr>\n",
       "      <th>11</th>\n",
       "      <td>0014</td>\n",
       "      <td>0.593279</td>\n",
       "      <td>0.426352</td>\n",
       "      <td>0.970506</td>\n",
       "    </tr>\n",
       "    <tr>\n",
       "      <th>12</th>\n",
       "      <td>0017</td>\n",
       "      <td>0.736035</td>\n",
       "      <td>0.758465</td>\n",
       "      <td>0.714894</td>\n",
       "    </tr>\n",
       "    <tr>\n",
       "      <th>13</th>\n",
       "      <td>0018</td>\n",
       "      <td>0.733086</td>\n",
       "      <td>0.795775</td>\n",
       "      <td>0.679553</td>\n",
       "    </tr>\n",
       "    <tr>\n",
       "      <th>14</th>\n",
       "      <td>0019</td>\n",
       "      <td>0.537339</td>\n",
       "      <td>0.368235</td>\n",
       "      <td>0.993651</td>\n",
       "    </tr>\n",
       "  </tbody>\n",
       "</table>\n",
       "</div>"
      ],
      "text/plain": [
       "    test   eventF1  eventPrecision  eventRecall\n",
       "0   0001  0.706016        0.866295     0.595785\n",
       "1   0002  0.779648        0.692726     0.891514\n",
       "2   0003  0.618812        0.478927     0.874126\n",
       "3   0005  0.622268        0.482258     0.876833\n",
       "4   0006  0.664671        0.603261     0.740000\n",
       "5   0007  0.619828        0.481212     0.870614\n",
       "6   0009  0.783865        0.768595     0.799754\n",
       "7   0010  0.735554        0.626998     0.889308\n",
       "8   0011  0.639317        0.480165     0.957096\n",
       "9   0012  0.683889        0.660105     0.709450\n",
       "10  0013  0.673303        0.522601     0.945559\n",
       "11  0014  0.593279        0.426352     0.970506\n",
       "12  0017  0.736035        0.758465     0.714894\n",
       "13  0018  0.733086        0.795775     0.679553\n",
       "14  0019  0.537339        0.368235     0.993651"
      ]
     },
     "execution_count": 22,
     "metadata": {},
     "output_type": "execute_result"
    }
   ],
   "source": [
    "experimentModels[['test','eventF1','eventPrecision','eventRecall']].groupby('test',as_index=False).mean()"
   ]
  },
  {
   "cell_type": "code",
   "execution_count": 23,
   "metadata": {},
   "outputs": [
    {
     "data": {
      "text/plain": [
       "test              6.668000e+54\n",
       "eventF1           6.751273e-01\n",
       "eventPrecision    6.007981e-01\n",
       "eventRecall       8.339095e-01\n",
       "dtype: float64"
      ]
     },
     "execution_count": 23,
     "metadata": {},
     "output_type": "execute_result"
    }
   ],
   "source": [
    "experimentModels[['test','eventF1','eventPrecision','eventRecall']].groupby('test',as_index=False).mean().mean()"
   ]
  },
  {
   "cell_type": "code",
   "execution_count": 24,
   "metadata": {},
   "outputs": [
    {
     "name": "stderr",
     "output_type": "stream",
     "text": [
      "C:\\Users\\Gurdiel\\AppData\\Local\\Temp\\ipykernel_5308\\2931376690.py:1: FutureWarning:\n",
      "\n",
      "The default value of numeric_only in DataFrame.std is deprecated. In a future version, it will default to False. In addition, specifying 'numeric_only=None' is deprecated. Select only valid columns or specify the value of numeric_only to silence this warning.\n",
      "\n"
     ]
    },
    {
     "data": {
      "text/plain": [
       "eventF1           0.071015\n",
       "eventPrecision    0.151791\n",
       "eventRecall       0.120469\n",
       "dtype: float64"
      ]
     },
     "execution_count": 24,
     "metadata": {},
     "output_type": "execute_result"
    }
   ],
   "source": [
    "experimentModels[['test','eventF1','eventPrecision','eventRecall']].groupby('test',as_index=False).mean().std()"
   ]
  },
  {
   "cell_type": "code",
   "execution_count": 25,
   "metadata": {},
   "outputs": [],
   "source": [
    "auxPrecision=pd.DataFrame({\n",
    "    'metric':'event precision',\n",
    "    'value':experimentModels.eventPrecision,\n",
    "    'event F1':experimentModels.eventF1\n",
    "})\n",
    "\n",
    "auxRecall=pd.DataFrame({\n",
    "    'metric':'event recall',\n",
    "    'value':experimentModels.eventRecall,\n",
    "    'event F1':experimentModels.eventF1\n",
    "})\n",
    "visualTradeoff=pd.concat((auxPrecision,auxRecall))"
   ]
  },
  {
   "cell_type": "code",
   "execution_count": 26,
   "metadata": {},
   "outputs": [
    {
     "data": {
      "application/vnd.plotly.v1+json": {
       "config": {
        "plotlyServerURL": "https://plot.ly"
       },
       "data": [
        {
         "hovertemplate": "metric=event precision<br>event F1=%{x}<br>value=%{y}<extra></extra>",
         "legendgroup": "event precision",
         "marker": {
          "color": "#636efa",
          "symbol": "circle"
         },
         "mode": "markers",
         "name": "event precision",
         "orientation": "v",
         "showlegend": true,
         "type": "scatter",
         "x": [
          0.7060158910329172,
          0.7796480489671003,
          0.6188118811881188,
          0.6222684703433923,
          0.6646706586826348,
          0.6198282591725215,
          0.7838651414810355,
          0.7355543987506507,
          0.63931718061674,
          0.6838885112168592,
          0.6733027054619704,
          0.5932787591555364,
          0.7360350492880613,
          0.7330861909175163,
          0.5373390557939914
         ],
         "xaxis": "x",
         "y": [
          0.8662952646239555,
          0.6927260367097213,
          0.4789272030651341,
          0.482258064516129,
          0.6032608695652174,
          0.4812121212121212,
          0.768595041322314,
          0.6269982238010657,
          0.48016528925619834,
          0.6601049868766404,
          0.5226011102299762,
          0.42635177128651336,
          0.7584650112866818,
          0.795774647887324,
          0.36823529411764705
         ],
         "yaxis": "y"
        },
        {
         "alignmentgroup": "True",
         "bingroup": "y",
         "hovertemplate": "metric=event precision<br>value=%{y}<br>count=%{x}<extra></extra>",
         "legendgroup": "event precision",
         "marker": {
          "color": "#636efa"
         },
         "name": "event precision",
         "offsetgroup": "event precision",
         "opacity": 0.5,
         "showlegend": false,
         "type": "histogram",
         "xaxis": "x2",
         "y": [
          0.8662952646239555,
          0.6927260367097213,
          0.4789272030651341,
          0.482258064516129,
          0.6032608695652174,
          0.4812121212121212,
          0.768595041322314,
          0.6269982238010657,
          0.48016528925619834,
          0.6601049868766404,
          0.5226011102299762,
          0.42635177128651336,
          0.7584650112866818,
          0.795774647887324,
          0.36823529411764705
         ],
         "yaxis": "y2"
        },
        {
         "hovertemplate": "metric=event recall<br>event F1=%{x}<br>value=%{y}<extra></extra>",
         "legendgroup": "event recall",
         "marker": {
          "color": "#EF553B",
          "symbol": "circle"
         },
         "mode": "markers",
         "name": "event recall",
         "orientation": "v",
         "showlegend": true,
         "type": "scatter",
         "x": [
          0.7060158910329172,
          0.7796480489671003,
          0.6188118811881188,
          0.6222684703433923,
          0.6646706586826348,
          0.6198282591725215,
          0.7838651414810355,
          0.7355543987506507,
          0.63931718061674,
          0.6838885112168592,
          0.6733027054619704,
          0.5932787591555364,
          0.7360350492880613,
          0.7330861909175163,
          0.5373390557939914
         ],
         "xaxis": "x",
         "y": [
          0.5957854406130269,
          0.8915135608048994,
          0.8741258741258742,
          0.8768328445747801,
          0.74,
          0.8706140350877193,
          0.7997542997542998,
          0.889308176100629,
          0.9570957095709571,
          0.7094499294781382,
          0.9455587392550143,
          0.9705056179775281,
          0.7148936170212766,
          0.679553264604811,
          0.9936507936507937
         ],
         "yaxis": "y"
        },
        {
         "alignmentgroup": "True",
         "bingroup": "y",
         "hovertemplate": "metric=event recall<br>value=%{y}<br>count=%{x}<extra></extra>",
         "legendgroup": "event recall",
         "marker": {
          "color": "#EF553B"
         },
         "name": "event recall",
         "offsetgroup": "event recall",
         "opacity": 0.5,
         "showlegend": false,
         "type": "histogram",
         "xaxis": "x2",
         "y": [
          0.5957854406130269,
          0.8915135608048994,
          0.8741258741258742,
          0.8768328445747801,
          0.74,
          0.8706140350877193,
          0.7997542997542998,
          0.889308176100629,
          0.9570957095709571,
          0.7094499294781382,
          0.9455587392550143,
          0.9705056179775281,
          0.7148936170212766,
          0.679553264604811,
          0.9936507936507937
         ],
         "yaxis": "y2"
        },
        {
         "fill": "toself",
         "mode": "lines",
         "name": "identity",
         "type": "scatter",
         "x": [
          0.7060158910329172,
          0.7796480489671003,
          0.6188118811881188,
          0.6222684703433923,
          0.6646706586826348,
          0.6198282591725215,
          0.7838651414810355,
          0.7355543987506507,
          0.63931718061674,
          0.6838885112168592,
          0.6733027054619704,
          0.5932787591555364,
          0.7360350492880613,
          0.7330861909175163,
          0.5373390557939914
         ],
         "y": [
          0.7060158910329172,
          0.7796480489671003,
          0.6188118811881188,
          0.6222684703433923,
          0.6646706586826348,
          0.6198282591725215,
          0.7838651414810355,
          0.7355543987506507,
          0.63931718061674,
          0.6838885112168592,
          0.6733027054619704,
          0.5932787591555364,
          0.7360350492880613,
          0.7330861909175163,
          0.5373390557939914
         ]
        }
       ],
       "layout": {
        "barmode": "overlay",
        "legend": {
         "title": {
          "text": "metric"
         },
         "tracegroupgap": 0
        },
        "margin": {
         "t": 60
        },
        "template": {
         "data": {
          "bar": [
           {
            "error_x": {
             "color": "#2a3f5f"
            },
            "error_y": {
             "color": "#2a3f5f"
            },
            "marker": {
             "line": {
              "color": "#E5ECF6",
              "width": 0.5
             },
             "pattern": {
              "fillmode": "overlay",
              "size": 10,
              "solidity": 0.2
             }
            },
            "type": "bar"
           }
          ],
          "barpolar": [
           {
            "marker": {
             "line": {
              "color": "#E5ECF6",
              "width": 0.5
             },
             "pattern": {
              "fillmode": "overlay",
              "size": 10,
              "solidity": 0.2
             }
            },
            "type": "barpolar"
           }
          ],
          "carpet": [
           {
            "aaxis": {
             "endlinecolor": "#2a3f5f",
             "gridcolor": "white",
             "linecolor": "white",
             "minorgridcolor": "white",
             "startlinecolor": "#2a3f5f"
            },
            "baxis": {
             "endlinecolor": "#2a3f5f",
             "gridcolor": "white",
             "linecolor": "white",
             "minorgridcolor": "white",
             "startlinecolor": "#2a3f5f"
            },
            "type": "carpet"
           }
          ],
          "choropleth": [
           {
            "colorbar": {
             "outlinewidth": 0,
             "ticks": ""
            },
            "type": "choropleth"
           }
          ],
          "contour": [
           {
            "colorbar": {
             "outlinewidth": 0,
             "ticks": ""
            },
            "colorscale": [
             [
              0,
              "#0d0887"
             ],
             [
              0.1111111111111111,
              "#46039f"
             ],
             [
              0.2222222222222222,
              "#7201a8"
             ],
             [
              0.3333333333333333,
              "#9c179e"
             ],
             [
              0.4444444444444444,
              "#bd3786"
             ],
             [
              0.5555555555555556,
              "#d8576b"
             ],
             [
              0.6666666666666666,
              "#ed7953"
             ],
             [
              0.7777777777777778,
              "#fb9f3a"
             ],
             [
              0.8888888888888888,
              "#fdca26"
             ],
             [
              1,
              "#f0f921"
             ]
            ],
            "type": "contour"
           }
          ],
          "contourcarpet": [
           {
            "colorbar": {
             "outlinewidth": 0,
             "ticks": ""
            },
            "type": "contourcarpet"
           }
          ],
          "heatmap": [
           {
            "colorbar": {
             "outlinewidth": 0,
             "ticks": ""
            },
            "colorscale": [
             [
              0,
              "#0d0887"
             ],
             [
              0.1111111111111111,
              "#46039f"
             ],
             [
              0.2222222222222222,
              "#7201a8"
             ],
             [
              0.3333333333333333,
              "#9c179e"
             ],
             [
              0.4444444444444444,
              "#bd3786"
             ],
             [
              0.5555555555555556,
              "#d8576b"
             ],
             [
              0.6666666666666666,
              "#ed7953"
             ],
             [
              0.7777777777777778,
              "#fb9f3a"
             ],
             [
              0.8888888888888888,
              "#fdca26"
             ],
             [
              1,
              "#f0f921"
             ]
            ],
            "type": "heatmap"
           }
          ],
          "heatmapgl": [
           {
            "colorbar": {
             "outlinewidth": 0,
             "ticks": ""
            },
            "colorscale": [
             [
              0,
              "#0d0887"
             ],
             [
              0.1111111111111111,
              "#46039f"
             ],
             [
              0.2222222222222222,
              "#7201a8"
             ],
             [
              0.3333333333333333,
              "#9c179e"
             ],
             [
              0.4444444444444444,
              "#bd3786"
             ],
             [
              0.5555555555555556,
              "#d8576b"
             ],
             [
              0.6666666666666666,
              "#ed7953"
             ],
             [
              0.7777777777777778,
              "#fb9f3a"
             ],
             [
              0.8888888888888888,
              "#fdca26"
             ],
             [
              1,
              "#f0f921"
             ]
            ],
            "type": "heatmapgl"
           }
          ],
          "histogram": [
           {
            "marker": {
             "pattern": {
              "fillmode": "overlay",
              "size": 10,
              "solidity": 0.2
             }
            },
            "type": "histogram"
           }
          ],
          "histogram2d": [
           {
            "colorbar": {
             "outlinewidth": 0,
             "ticks": ""
            },
            "colorscale": [
             [
              0,
              "#0d0887"
             ],
             [
              0.1111111111111111,
              "#46039f"
             ],
             [
              0.2222222222222222,
              "#7201a8"
             ],
             [
              0.3333333333333333,
              "#9c179e"
             ],
             [
              0.4444444444444444,
              "#bd3786"
             ],
             [
              0.5555555555555556,
              "#d8576b"
             ],
             [
              0.6666666666666666,
              "#ed7953"
             ],
             [
              0.7777777777777778,
              "#fb9f3a"
             ],
             [
              0.8888888888888888,
              "#fdca26"
             ],
             [
              1,
              "#f0f921"
             ]
            ],
            "type": "histogram2d"
           }
          ],
          "histogram2dcontour": [
           {
            "colorbar": {
             "outlinewidth": 0,
             "ticks": ""
            },
            "colorscale": [
             [
              0,
              "#0d0887"
             ],
             [
              0.1111111111111111,
              "#46039f"
             ],
             [
              0.2222222222222222,
              "#7201a8"
             ],
             [
              0.3333333333333333,
              "#9c179e"
             ],
             [
              0.4444444444444444,
              "#bd3786"
             ],
             [
              0.5555555555555556,
              "#d8576b"
             ],
             [
              0.6666666666666666,
              "#ed7953"
             ],
             [
              0.7777777777777778,
              "#fb9f3a"
             ],
             [
              0.8888888888888888,
              "#fdca26"
             ],
             [
              1,
              "#f0f921"
             ]
            ],
            "type": "histogram2dcontour"
           }
          ],
          "mesh3d": [
           {
            "colorbar": {
             "outlinewidth": 0,
             "ticks": ""
            },
            "type": "mesh3d"
           }
          ],
          "parcoords": [
           {
            "line": {
             "colorbar": {
              "outlinewidth": 0,
              "ticks": ""
             }
            },
            "type": "parcoords"
           }
          ],
          "pie": [
           {
            "automargin": true,
            "type": "pie"
           }
          ],
          "scatter": [
           {
            "fillpattern": {
             "fillmode": "overlay",
             "size": 10,
             "solidity": 0.2
            },
            "type": "scatter"
           }
          ],
          "scatter3d": [
           {
            "line": {
             "colorbar": {
              "outlinewidth": 0,
              "ticks": ""
             }
            },
            "marker": {
             "colorbar": {
              "outlinewidth": 0,
              "ticks": ""
             }
            },
            "type": "scatter3d"
           }
          ],
          "scattercarpet": [
           {
            "marker": {
             "colorbar": {
              "outlinewidth": 0,
              "ticks": ""
             }
            },
            "type": "scattercarpet"
           }
          ],
          "scattergeo": [
           {
            "marker": {
             "colorbar": {
              "outlinewidth": 0,
              "ticks": ""
             }
            },
            "type": "scattergeo"
           }
          ],
          "scattergl": [
           {
            "marker": {
             "colorbar": {
              "outlinewidth": 0,
              "ticks": ""
             }
            },
            "type": "scattergl"
           }
          ],
          "scattermapbox": [
           {
            "marker": {
             "colorbar": {
              "outlinewidth": 0,
              "ticks": ""
             }
            },
            "type": "scattermapbox"
           }
          ],
          "scatterpolar": [
           {
            "marker": {
             "colorbar": {
              "outlinewidth": 0,
              "ticks": ""
             }
            },
            "type": "scatterpolar"
           }
          ],
          "scatterpolargl": [
           {
            "marker": {
             "colorbar": {
              "outlinewidth": 0,
              "ticks": ""
             }
            },
            "type": "scatterpolargl"
           }
          ],
          "scatterternary": [
           {
            "marker": {
             "colorbar": {
              "outlinewidth": 0,
              "ticks": ""
             }
            },
            "type": "scatterternary"
           }
          ],
          "surface": [
           {
            "colorbar": {
             "outlinewidth": 0,
             "ticks": ""
            },
            "colorscale": [
             [
              0,
              "#0d0887"
             ],
             [
              0.1111111111111111,
              "#46039f"
             ],
             [
              0.2222222222222222,
              "#7201a8"
             ],
             [
              0.3333333333333333,
              "#9c179e"
             ],
             [
              0.4444444444444444,
              "#bd3786"
             ],
             [
              0.5555555555555556,
              "#d8576b"
             ],
             [
              0.6666666666666666,
              "#ed7953"
             ],
             [
              0.7777777777777778,
              "#fb9f3a"
             ],
             [
              0.8888888888888888,
              "#fdca26"
             ],
             [
              1,
              "#f0f921"
             ]
            ],
            "type": "surface"
           }
          ],
          "table": [
           {
            "cells": {
             "fill": {
              "color": "#EBF0F8"
             },
             "line": {
              "color": "white"
             }
            },
            "header": {
             "fill": {
              "color": "#C8D4E3"
             },
             "line": {
              "color": "white"
             }
            },
            "type": "table"
           }
          ]
         },
         "layout": {
          "annotationdefaults": {
           "arrowcolor": "#2a3f5f",
           "arrowhead": 0,
           "arrowwidth": 1
          },
          "autotypenumbers": "strict",
          "coloraxis": {
           "colorbar": {
            "outlinewidth": 0,
            "ticks": ""
           }
          },
          "colorscale": {
           "diverging": [
            [
             0,
             "#8e0152"
            ],
            [
             0.1,
             "#c51b7d"
            ],
            [
             0.2,
             "#de77ae"
            ],
            [
             0.3,
             "#f1b6da"
            ],
            [
             0.4,
             "#fde0ef"
            ],
            [
             0.5,
             "#f7f7f7"
            ],
            [
             0.6,
             "#e6f5d0"
            ],
            [
             0.7,
             "#b8e186"
            ],
            [
             0.8,
             "#7fbc41"
            ],
            [
             0.9,
             "#4d9221"
            ],
            [
             1,
             "#276419"
            ]
           ],
           "sequential": [
            [
             0,
             "#0d0887"
            ],
            [
             0.1111111111111111,
             "#46039f"
            ],
            [
             0.2222222222222222,
             "#7201a8"
            ],
            [
             0.3333333333333333,
             "#9c179e"
            ],
            [
             0.4444444444444444,
             "#bd3786"
            ],
            [
             0.5555555555555556,
             "#d8576b"
            ],
            [
             0.6666666666666666,
             "#ed7953"
            ],
            [
             0.7777777777777778,
             "#fb9f3a"
            ],
            [
             0.8888888888888888,
             "#fdca26"
            ],
            [
             1,
             "#f0f921"
            ]
           ],
           "sequentialminus": [
            [
             0,
             "#0d0887"
            ],
            [
             0.1111111111111111,
             "#46039f"
            ],
            [
             0.2222222222222222,
             "#7201a8"
            ],
            [
             0.3333333333333333,
             "#9c179e"
            ],
            [
             0.4444444444444444,
             "#bd3786"
            ],
            [
             0.5555555555555556,
             "#d8576b"
            ],
            [
             0.6666666666666666,
             "#ed7953"
            ],
            [
             0.7777777777777778,
             "#fb9f3a"
            ],
            [
             0.8888888888888888,
             "#fdca26"
            ],
            [
             1,
             "#f0f921"
            ]
           ]
          },
          "colorway": [
           "#636efa",
           "#EF553B",
           "#00cc96",
           "#ab63fa",
           "#FFA15A",
           "#19d3f3",
           "#FF6692",
           "#B6E880",
           "#FF97FF",
           "#FECB52"
          ],
          "font": {
           "color": "#2a3f5f"
          },
          "geo": {
           "bgcolor": "white",
           "lakecolor": "white",
           "landcolor": "#E5ECF6",
           "showlakes": true,
           "showland": true,
           "subunitcolor": "white"
          },
          "hoverlabel": {
           "align": "left"
          },
          "hovermode": "closest",
          "mapbox": {
           "style": "light"
          },
          "paper_bgcolor": "white",
          "plot_bgcolor": "#E5ECF6",
          "polar": {
           "angularaxis": {
            "gridcolor": "white",
            "linecolor": "white",
            "ticks": ""
           },
           "bgcolor": "#E5ECF6",
           "radialaxis": {
            "gridcolor": "white",
            "linecolor": "white",
            "ticks": ""
           }
          },
          "scene": {
           "xaxis": {
            "backgroundcolor": "#E5ECF6",
            "gridcolor": "white",
            "gridwidth": 2,
            "linecolor": "white",
            "showbackground": true,
            "ticks": "",
            "zerolinecolor": "white"
           },
           "yaxis": {
            "backgroundcolor": "#E5ECF6",
            "gridcolor": "white",
            "gridwidth": 2,
            "linecolor": "white",
            "showbackground": true,
            "ticks": "",
            "zerolinecolor": "white"
           },
           "zaxis": {
            "backgroundcolor": "#E5ECF6",
            "gridcolor": "white",
            "gridwidth": 2,
            "linecolor": "white",
            "showbackground": true,
            "ticks": "",
            "zerolinecolor": "white"
           }
          },
          "shapedefaults": {
           "line": {
            "color": "#2a3f5f"
           }
          },
          "ternary": {
           "aaxis": {
            "gridcolor": "white",
            "linecolor": "white",
            "ticks": ""
           },
           "baxis": {
            "gridcolor": "white",
            "linecolor": "white",
            "ticks": ""
           },
           "bgcolor": "#E5ECF6",
           "caxis": {
            "gridcolor": "white",
            "linecolor": "white",
            "ticks": ""
           }
          },
          "title": {
           "x": 0.05
          },
          "xaxis": {
           "automargin": true,
           "gridcolor": "white",
           "linecolor": "white",
           "ticks": "",
           "title": {
            "standoff": 15
           },
           "zerolinecolor": "white",
           "zerolinewidth": 2
          },
          "yaxis": {
           "automargin": true,
           "gridcolor": "white",
           "linecolor": "white",
           "ticks": "",
           "title": {
            "standoff": 15
           },
           "zerolinecolor": "white",
           "zerolinewidth": 2
          }
         }
        },
        "xaxis": {
         "anchor": "y",
         "domain": [
          0,
          0.7363
         ],
         "title": {
          "text": "event F1"
         }
        },
        "xaxis2": {
         "anchor": "y2",
         "domain": [
          0.7413,
          1
         ],
         "matches": "x2",
         "showgrid": true,
         "showline": false,
         "showticklabels": false,
         "ticks": ""
        },
        "yaxis": {
         "anchor": "x",
         "domain": [
          0,
          1
         ],
         "title": {
          "text": "value"
         }
        },
        "yaxis2": {
         "anchor": "x2",
         "domain": [
          0,
          1
         ],
         "matches": "y",
         "showgrid": true,
         "showticklabels": false
        }
       }
      }
     },
     "metadata": {},
     "output_type": "display_data"
    }
   ],
   "source": [
    "fig=px.scatter(visualTradeoff,x='event F1',y='value',color='metric', marginal_y=\"histogram\")\n",
    "fig.add_trace(\n",
    "    go.Scatter(x=experimentModels['eventF1'], y=experimentModels['eventF1'], name=\"identity\", mode='lines',fill=\"toself\")\n",
    ")\n",
    "fig.show()"
   ]
  },
  {
   "attachments": {},
   "cell_type": "markdown",
   "metadata": {},
   "source": [
    "## Restrict to only N2 stage"
   ]
  },
  {
   "cell_type": "code",
   "execution_count": 27,
   "metadata": {},
   "outputs": [
    {
     "data": {
      "text/html": [
       "<div>\n",
       "<style scoped>\n",
       "    .dataframe tbody tr th:only-of-type {\n",
       "        vertical-align: middle;\n",
       "    }\n",
       "\n",
       "    .dataframe tbody tr th {\n",
       "        vertical-align: top;\n",
       "    }\n",
       "\n",
       "    .dataframe thead th {\n",
       "        text-align: right;\n",
       "    }\n",
       "</style>\n",
       "<table border=\"1\" class=\"dataframe\">\n",
       "  <thead>\n",
       "    <tr style=\"text-align: right;\">\n",
       "      <th></th>\n",
       "      <th>criteriumId</th>\n",
       "      <th>criteriumName</th>\n",
       "      <th>labelerIdList</th>\n",
       "      <th>train</th>\n",
       "      <th>val</th>\n",
       "      <th>test</th>\n",
       "      <th>modelId</th>\n",
       "      <th>spindleTimeRate</th>\n",
       "      <th>rawF1</th>\n",
       "      <th>rawPrecision</th>\n",
       "      <th>rawRecall</th>\n",
       "      <th>f1</th>\n",
       "      <th>precision</th>\n",
       "      <th>recall</th>\n",
       "      <th>eventF1</th>\n",
       "      <th>eventPrecision</th>\n",
       "      <th>eventRecall</th>\n",
       "    </tr>\n",
       "  </thead>\n",
       "  <tbody>\n",
       "    <tr>\n",
       "      <th>0</th>\n",
       "      <td>0001</td>\n",
       "      <td>E1</td>\n",
       "      <td>[0001]</td>\n",
       "      <td>[0003, 0005, 0007, 0009, 0010, 0011, 0012, 001...</td>\n",
       "      <td>[0017, 0002, 0006]</td>\n",
       "      <td>0001</td>\n",
       "      <td>aa11eb61-61e6-41e2-94d5-a4833e9b8d9d</td>\n",
       "      <td>0.040017</td>\n",
       "      <td>0.645145</td>\n",
       "      <td>0.815861</td>\n",
       "      <td>0.533510</td>\n",
       "      <td>0.644936</td>\n",
       "      <td>0.818438</td>\n",
       "      <td>0.532129</td>\n",
       "      <td>0.706016</td>\n",
       "      <td>0.866295</td>\n",
       "      <td>0.595785</td>\n",
       "    </tr>\n",
       "    <tr>\n",
       "      <th>1</th>\n",
       "      <td>0001</td>\n",
       "      <td>E1</td>\n",
       "      <td>[0001]</td>\n",
       "      <td>[0001, 0003, 0005, 0007, 0009, 0010, 0011, 001...</td>\n",
       "      <td>[0006, 0013, 0019]</td>\n",
       "      <td>0002</td>\n",
       "      <td>56daf263-9a04-44a8-a967-ed222c84ae8c</td>\n",
       "      <td>0.042790</td>\n",
       "      <td>0.722435</td>\n",
       "      <td>0.659882</td>\n",
       "      <td>0.798089</td>\n",
       "      <td>0.729392</td>\n",
       "      <td>0.668505</td>\n",
       "      <td>0.802481</td>\n",
       "      <td>0.779648</td>\n",
       "      <td>0.692726</td>\n",
       "      <td>0.891514</td>\n",
       "    </tr>\n",
       "    <tr>\n",
       "      <th>2</th>\n",
       "      <td>0001</td>\n",
       "      <td>E1</td>\n",
       "      <td>[0001]</td>\n",
       "      <td>[0002, 0005, 0007, 0009, 0010, 0011, 0012, 001...</td>\n",
       "      <td>[0013, 0006, 0001]</td>\n",
       "      <td>0003</td>\n",
       "      <td>983f3902-7ddc-4ab2-93e7-4da2577f8b4b</td>\n",
       "      <td>0.041762</td>\n",
       "      <td>0.577951</td>\n",
       "      <td>0.447912</td>\n",
       "      <td>0.814387</td>\n",
       "      <td>0.591574</td>\n",
       "      <td>0.465971</td>\n",
       "      <td>0.809878</td>\n",
       "      <td>0.618812</td>\n",
       "      <td>0.478927</td>\n",
       "      <td>0.874126</td>\n",
       "    </tr>\n",
       "    <tr>\n",
       "      <th>3</th>\n",
       "      <td>0001</td>\n",
       "      <td>E1</td>\n",
       "      <td>[0001]</td>\n",
       "      <td>[0001, 0002, 0003, 0006, 0007, 0009, 0010, 001...</td>\n",
       "      <td>[0018, 0014, 0012]</td>\n",
       "      <td>0005</td>\n",
       "      <td>c0eba1b0-cd60-4e9e-ab7f-71131a829c7e</td>\n",
       "      <td>0.037779</td>\n",
       "      <td>0.566200</td>\n",
       "      <td>0.435975</td>\n",
       "      <td>0.807356</td>\n",
       "      <td>0.583136</td>\n",
       "      <td>0.457833</td>\n",
       "      <td>0.802870</td>\n",
       "      <td>0.622268</td>\n",
       "      <td>0.482258</td>\n",
       "      <td>0.876833</td>\n",
       "    </tr>\n",
       "    <tr>\n",
       "      <th>4</th>\n",
       "      <td>0001</td>\n",
       "      <td>E1</td>\n",
       "      <td>[0001]</td>\n",
       "      <td>[0003, 0007, 0009, 0010, 0011, 0012, 0013, 001...</td>\n",
       "      <td>[0005, 0001, 0002]</td>\n",
       "      <td>0006</td>\n",
       "      <td>d7cf3254-9d32-4e20-a23e-3cdcd3107eaa</td>\n",
       "      <td>0.040051</td>\n",
       "      <td>0.603478</td>\n",
       "      <td>0.568302</td>\n",
       "      <td>0.643295</td>\n",
       "      <td>0.613124</td>\n",
       "      <td>0.593872</td>\n",
       "      <td>0.633666</td>\n",
       "      <td>0.664671</td>\n",
       "      <td>0.603261</td>\n",
       "      <td>0.740000</td>\n",
       "    </tr>\n",
       "  </tbody>\n",
       "</table>\n",
       "</div>"
      ],
      "text/plain": [
       "  criteriumId criteriumName labelerIdList  \\\n",
       "0        0001            E1        [0001]   \n",
       "1        0001            E1        [0001]   \n",
       "2        0001            E1        [0001]   \n",
       "3        0001            E1        [0001]   \n",
       "4        0001            E1        [0001]   \n",
       "\n",
       "                                               train                 val  \\\n",
       "0  [0003, 0005, 0007, 0009, 0010, 0011, 0012, 001...  [0017, 0002, 0006]   \n",
       "1  [0001, 0003, 0005, 0007, 0009, 0010, 0011, 001...  [0006, 0013, 0019]   \n",
       "2  [0002, 0005, 0007, 0009, 0010, 0011, 0012, 001...  [0013, 0006, 0001]   \n",
       "3  [0001, 0002, 0003, 0006, 0007, 0009, 0010, 001...  [0018, 0014, 0012]   \n",
       "4  [0003, 0007, 0009, 0010, 0011, 0012, 0013, 001...  [0005, 0001, 0002]   \n",
       "\n",
       "   test                               modelId  spindleTimeRate     rawF1  \\\n",
       "0  0001  aa11eb61-61e6-41e2-94d5-a4833e9b8d9d         0.040017  0.645145   \n",
       "1  0002  56daf263-9a04-44a8-a967-ed222c84ae8c         0.042790  0.722435   \n",
       "2  0003  983f3902-7ddc-4ab2-93e7-4da2577f8b4b         0.041762  0.577951   \n",
       "3  0005  c0eba1b0-cd60-4e9e-ab7f-71131a829c7e         0.037779  0.566200   \n",
       "4  0006  d7cf3254-9d32-4e20-a23e-3cdcd3107eaa         0.040051  0.603478   \n",
       "\n",
       "   rawPrecision  rawRecall        f1  precision    recall   eventF1  \\\n",
       "0      0.815861   0.533510  0.644936   0.818438  0.532129  0.706016   \n",
       "1      0.659882   0.798089  0.729392   0.668505  0.802481  0.779648   \n",
       "2      0.447912   0.814387  0.591574   0.465971  0.809878  0.618812   \n",
       "3      0.435975   0.807356  0.583136   0.457833  0.802870  0.622268   \n",
       "4      0.568302   0.643295  0.613124   0.593872  0.633666  0.664671   \n",
       "\n",
       "   eventPrecision  eventRecall  \n",
       "0        0.866295     0.595785  \n",
       "1        0.692726     0.891514  \n",
       "2        0.478927     0.874126  \n",
       "3        0.482258     0.876833  \n",
       "4        0.603261     0.740000  "
      ]
     },
     "execution_count": 27,
     "metadata": {},
     "output_type": "execute_result"
    }
   ],
   "source": [
    "experimentModels_N2=experimentModels.copy()\n",
    "experimentModels_N2.head()"
   ]
  },
  {
   "cell_type": "code",
   "execution_count": 28,
   "metadata": {},
   "outputs": [],
   "source": [
    "annotationsN2=pd.read_csv(datapath+'/MASS/annotations/spindlesFilteredN2.csv')\n",
    "annotationsN2['samplerate']=samplerate\n",
    "annotationsN2['subjectId']=annotationsN2.apply(\n",
    "    lambda row: str(row.subjectId).zfill(4),axis=1)\n",
    "annotationsN2['labelerId']=annotationsN2.apply(\n",
    "    lambda row: str(row.labelerId).zfill(4),axis=1)\n",
    "annotationsN2['stopTime']=annotationsN2.apply(\n",
    "    lambda row: row.startTime+row.duration , axis=1)\n",
    "annotationsN2['startInd']=annotationsN2.apply(\n",
    "    lambda row: seconds2index(row.startTime,row.samplerate) , axis=1)\n",
    "annotationsN2['stopInd']=annotationsN2.apply(\n",
    "    lambda row: seconds2index(row.stopTime,row.samplerate) , axis=1)"
   ]
  },
  {
   "cell_type": "code",
   "execution_count": 29,
   "metadata": {},
   "outputs": [],
   "source": [
    "## load hypnograms\n",
    "stagesAnnotations=pd.read_csv(datapath+\"\\MASS\\stages\\stages.csv\")\n",
    "stagesAnnotations['samplerate']=samplerate\n",
    "stagesAnnotations['subjectId']=stagesAnnotations.apply(\n",
    "    lambda row: str(row.subjectId).zfill(4),axis=1)\n",
    "stagesAnnotations['stopTime']=stagesAnnotations.apply(\n",
    "    lambda row: row.startTime+row.duration , axis=1)\n",
    "stagesAnnotations['startInd']=stagesAnnotations.apply(\n",
    "    lambda row: seconds2index(row.startTime,row.samplerate) , axis=1)\n",
    "stagesAnnotations['stopInd']=stagesAnnotations.apply(\n",
    "    lambda row: seconds2index(row.stopTime,row.samplerate) , axis=1)\n",
    "stagesAnnotations.head(5)\n",
    "\n",
    "hypnograms={}\n",
    "for ind, row in signalsMetadata.iterrows():\n",
    "    subjectId=row.subjectId\n",
    "    thisStages=stagesAnnotations[stagesAnnotations.subjectId==subjectId]\n",
    "    excerptDimension=int(row.duration*row.samplerate)\n",
    "    thisHypnogram=np.ones((excerptDimension,))*np.nan\n",
    "    for ind_stg, row_stg in thisStages.iterrows():\n",
    "        thisHypnogram[row_stg.startInd:row_stg.stopInd]=row_stg.value\n",
    "    hypnograms[subjectId]=thisHypnogram   "
   ]
  },
  {
   "cell_type": "code",
   "execution_count": 30,
   "metadata": {},
   "outputs": [
    {
     "name": "stdout",
     "output_type": "stream",
     "text": [
      "*************************\n",
      "1 of 15\n",
      "*************************\n",
      "2 of 15\n",
      "*************************\n",
      "3 of 15\n",
      "*************************\n",
      "4 of 15\n",
      "*************************\n",
      "5 of 15\n",
      "*************************\n",
      "6 of 15\n",
      "*************************\n",
      "7 of 15\n",
      "*************************\n",
      "8 of 15\n",
      "*************************\n",
      "9 of 15\n",
      "*************************\n",
      "10 of 15\n",
      "*************************\n",
      "11 of 15\n",
      "*************************\n",
      "12 of 15\n",
      "*************************\n",
      "13 of 15\n",
      "*************************\n",
      "14 of 15\n",
      "*************************\n",
      "15 of 15\n"
     ]
    }
   ],
   "source": [
    "rawF1s=[]\n",
    "rawPrecisions=[]\n",
    "rawRecalls=[]\n",
    "\n",
    "f1s=[]\n",
    "precisions=[]\n",
    "recalls=[]\n",
    "\n",
    "eventF1s=[]\n",
    "eventPrecisions=[]\n",
    "eventRecalls=[]\n",
    "\n",
    "checks=[]\n",
    "\n",
    "for ind,row in experimentModels_N2.iterrows():\n",
    "    print('*************************')\n",
    "    print(str(ind+1)+' of '+str(len(experimentModels_N2)) )\n",
    "    #load model\n",
    "    model=loadBooster(row.modelId,experimentId,datapath)\n",
    "\n",
    "    testSubjectId=row.test\n",
    "    testHypnogram=hypnograms[testSubjectId]\n",
    "    testN2Mask=testHypnogram==2\n",
    "    #Define annotations criterium\n",
    "    usedAnnotations=annotationsN2[annotationsN2.labelerId.isin(row.labelerIdList)].reset_index(drop=True)\n",
    "    #Load features and labels\n",
    "    testFeatures=loadFeatureMatrix([testSubjectId],featureSelection,signalsMetadata,samplerate,datapath)\n",
    "    testLabels=loadLabelsVector([testSubjectId],usedAnnotations,signalsMetadata,samplerate)\n",
    "\n",
    "    #Predict\n",
    "    testDMatrix=xgb.DMatrix(data=testFeatures)\n",
    "    probabilities=model.predict(testDMatrix,iteration_range=(0,hyperDepth))\n",
    "    rawLabels=probabilities>=hyperThres\n",
    "\n",
    "    #Apply mask ---------------------------------->\n",
    "    rawLabels=rawLabels*testN2Mask\n",
    "    #<---------------------------------------------\n",
    "\n",
    "    #Raw Metrics\n",
    "    rawTp=np.sum(rawLabels*testLabels)\n",
    "    rawFp=np.sum(rawLabels*(1-testLabels))\n",
    "    rawTn=np.sum((1-rawLabels)*(1-testLabels))\n",
    "    rawFn=np.sum((1-rawLabels)*testLabels)\n",
    "    #Raw appends\n",
    "    rawF1s.append(2*rawTp/(2*rawTp+rawFp+rawFn))\n",
    "    rawPrecisions.append(rawTp/(rawTp+rawFp) )\n",
    "    rawRecalls.append(rawTp/(rawTp+rawFn))\n",
    "    #Process\n",
    "    processedLabels=labelingProcess(rawLabels,hyperClose,hyperDuration,samplerate)\n",
    "    #Processed metrics\n",
    "    tp=np.sum(processedLabels*testLabels)\n",
    "    fp=np.sum(processedLabels*(1-testLabels))\n",
    "    tn=np.sum((1-processedLabels)*(1-testLabels))\n",
    "    fn=np.sum((1-processedLabels)*testLabels)\n",
    "    #Processed appends\n",
    "    f1s.append(2*tp/(2*tp+fp+fn))\n",
    "    precisions.append(tp/(tp+fp))\n",
    "    recalls.append(tp/(tp+fn))\n",
    "\n",
    "    #By-event metrics\n",
    "    processedAnnotations=labelVectorToAnnotations(processedLabels,samplerate)\n",
    "    processedAnnotations=processedAnnotations[processedAnnotations.duration<maxDuration]\n",
    "    gtAnnotations=labelVectorToAnnotations(testLabels,samplerate)   #<- or just filter the annotations\n",
    "    f,r,p=annotationPairToMetrics(gtAnnotations,processedAnnotations)\n",
    "\n",
    "    #calculate metrics\n",
    "    eventF1s.append(f)\n",
    "    eventPrecisions.append(p)\n",
    "    eventRecalls.append(r)\n",
    "\n",
    "#include metrics in the dataframe\n",
    "experimentModels_N2['rawF1']=rawF1s\n",
    "experimentModels_N2['rawPrecision']=rawPrecisions\n",
    "experimentModels_N2['rawRecall']=rawRecalls\n",
    "\n",
    "experimentModels_N2['f1']=f1s\n",
    "experimentModels_N2['precision']=precisions\n",
    "experimentModels_N2['recall']=recalls\n",
    "\n",
    "experimentModels_N2['eventF1']=eventF1s\n",
    "experimentModels_N2['eventPrecision']=eventPrecisions\n",
    "experimentModels_N2['eventRecall']=eventRecalls\n"
   ]
  },
  {
   "cell_type": "code",
   "execution_count": 31,
   "metadata": {},
   "outputs": [],
   "source": [
    "dumpPickle('experimentModelsTest_N2_E1_temp.pkl',experimentModels_N2)"
   ]
  },
  {
   "cell_type": "code",
   "execution_count": 32,
   "metadata": {},
   "outputs": [
    {
     "data": {
      "application/vnd.plotly.v1+json": {
       "config": {
        "plotlyServerURL": "https://plot.ly"
       },
       "data": [
        {
         "hovertemplate": "<b>%{hovertext}</b><br><br>test=0001<br>rawF1=%{x}<br>f1=%{y}<extra></extra>",
         "hovertext": [
          "aa11eb61-61e6-41e2-94d5-a4833e9b8d9d"
         ],
         "legendgroup": "0001",
         "marker": {
          "color": "#636efa",
          "symbol": "circle"
         },
         "mode": "markers",
         "name": "0001",
         "orientation": "v",
         "showlegend": true,
         "type": "scatter",
         "x": [
          0.6630048301482356
         ],
         "xaxis": "x",
         "y": [
          0.6609496102993856
         ],
         "yaxis": "y"
        },
        {
         "alignmentgroup": "True",
         "bingroup": "y",
         "hovertemplate": "test=0001<br>f1=%{y}<br>count=%{x}<extra></extra>",
         "legendgroup": "0001",
         "marker": {
          "color": "#636efa"
         },
         "name": "0001",
         "offsetgroup": "0001",
         "opacity": 0.5,
         "showlegend": false,
         "type": "histogram",
         "xaxis": "x2",
         "y": [
          0.6609496102993856
         ],
         "yaxis": "y2"
        },
        {
         "hovertemplate": "<b>%{hovertext}</b><br><br>test=0002<br>rawF1=%{x}<br>f1=%{y}<extra></extra>",
         "hovertext": [
          "56daf263-9a04-44a8-a967-ed222c84ae8c"
         ],
         "legendgroup": "0002",
         "marker": {
          "color": "#EF553B",
          "symbol": "circle"
         },
         "mode": "markers",
         "name": "0002",
         "orientation": "v",
         "showlegend": true,
         "type": "scatter",
         "x": [
          0.7425752795522129
         ],
         "xaxis": "x",
         "y": [
          0.7473514973741773
         ],
         "yaxis": "y"
        },
        {
         "alignmentgroup": "True",
         "bingroup": "y",
         "hovertemplate": "test=0002<br>f1=%{y}<br>count=%{x}<extra></extra>",
         "legendgroup": "0002",
         "marker": {
          "color": "#EF553B"
         },
         "name": "0002",
         "offsetgroup": "0002",
         "opacity": 0.5,
         "showlegend": false,
         "type": "histogram",
         "xaxis": "x2",
         "y": [
          0.7473514973741773
         ],
         "yaxis": "y2"
        },
        {
         "hovertemplate": "<b>%{hovertext}</b><br><br>test=0003<br>rawF1=%{x}<br>f1=%{y}<extra></extra>",
         "hovertext": [
          "983f3902-7ddc-4ab2-93e7-4da2577f8b4b"
         ],
         "legendgroup": "0003",
         "marker": {
          "color": "#00cc96",
          "symbol": "circle"
         },
         "mode": "markers",
         "name": "0003",
         "orientation": "v",
         "showlegend": true,
         "type": "scatter",
         "x": [
          0.6541208064614571
         ],
         "xaxis": "x",
         "y": [
          0.6611115705896948
         ],
         "yaxis": "y"
        },
        {
         "alignmentgroup": "True",
         "bingroup": "y",
         "hovertemplate": "test=0003<br>f1=%{y}<br>count=%{x}<extra></extra>",
         "legendgroup": "0003",
         "marker": {
          "color": "#00cc96"
         },
         "name": "0003",
         "offsetgroup": "0003",
         "opacity": 0.5,
         "showlegend": false,
         "type": "histogram",
         "xaxis": "x2",
         "y": [
          0.6611115705896948
         ],
         "yaxis": "y2"
        },
        {
         "hovertemplate": "<b>%{hovertext}</b><br><br>test=0005<br>rawF1=%{x}<br>f1=%{y}<extra></extra>",
         "hovertext": [
          "c0eba1b0-cd60-4e9e-ab7f-71131a829c7e"
         ],
         "legendgroup": "0005",
         "marker": {
          "color": "#ab63fa",
          "symbol": "circle"
         },
         "mode": "markers",
         "name": "0005",
         "orientation": "v",
         "showlegend": true,
         "type": "scatter",
         "x": [
          0.5998996952278076
         ],
         "xaxis": "x",
         "y": [
          0.6128906962180843
         ],
         "yaxis": "y"
        },
        {
         "alignmentgroup": "True",
         "bingroup": "y",
         "hovertemplate": "test=0005<br>f1=%{y}<br>count=%{x}<extra></extra>",
         "legendgroup": "0005",
         "marker": {
          "color": "#ab63fa"
         },
         "name": "0005",
         "offsetgroup": "0005",
         "opacity": 0.5,
         "showlegend": false,
         "type": "histogram",
         "xaxis": "x2",
         "y": [
          0.6128906962180843
         ],
         "yaxis": "y2"
        },
        {
         "hovertemplate": "<b>%{hovertext}</b><br><br>test=0006<br>rawF1=%{x}<br>f1=%{y}<extra></extra>",
         "hovertext": [
          "d7cf3254-9d32-4e20-a23e-3cdcd3107eaa"
         ],
         "legendgroup": "0006",
         "marker": {
          "color": "#FFA15A",
          "symbol": "circle"
         },
         "mode": "markers",
         "name": "0006",
         "orientation": "v",
         "showlegend": true,
         "type": "scatter",
         "x": [
          0.652070717153568
         ],
         "xaxis": "x",
         "y": [
          0.6579563271149084
         ],
         "yaxis": "y"
        },
        {
         "alignmentgroup": "True",
         "bingroup": "y",
         "hovertemplate": "test=0006<br>f1=%{y}<br>count=%{x}<extra></extra>",
         "legendgroup": "0006",
         "marker": {
          "color": "#FFA15A"
         },
         "name": "0006",
         "offsetgroup": "0006",
         "opacity": 0.5,
         "showlegend": false,
         "type": "histogram",
         "xaxis": "x2",
         "y": [
          0.6579563271149084
         ],
         "yaxis": "y2"
        },
        {
         "hovertemplate": "<b>%{hovertext}</b><br><br>test=0007<br>rawF1=%{x}<br>f1=%{y}<extra></extra>",
         "hovertext": [
          "4f832318-c477-4835-acd3-7ec40944edd3"
         ],
         "legendgroup": "0007",
         "marker": {
          "color": "#19d3f3",
          "symbol": "circle"
         },
         "mode": "markers",
         "name": "0007",
         "orientation": "v",
         "showlegend": true,
         "type": "scatter",
         "x": [
          0.6591022489974683
         ],
         "xaxis": "x",
         "y": [
          0.662412343697195
         ],
         "yaxis": "y"
        },
        {
         "alignmentgroup": "True",
         "bingroup": "y",
         "hovertemplate": "test=0007<br>f1=%{y}<br>count=%{x}<extra></extra>",
         "legendgroup": "0007",
         "marker": {
          "color": "#19d3f3"
         },
         "name": "0007",
         "offsetgroup": "0007",
         "opacity": 0.5,
         "showlegend": false,
         "type": "histogram",
         "xaxis": "x2",
         "y": [
          0.662412343697195
         ],
         "yaxis": "y2"
        },
        {
         "hovertemplate": "<b>%{hovertext}</b><br><br>test=0009<br>rawF1=%{x}<br>f1=%{y}<extra></extra>",
         "hovertext": [
          "15e578bc-6917-4cef-a16a-bade7c0b0676"
         ],
         "legendgroup": "0009",
         "marker": {
          "color": "#FF6692",
          "symbol": "circle"
         },
         "mode": "markers",
         "name": "0009",
         "orientation": "v",
         "showlegend": true,
         "type": "scatter",
         "x": [
          0.7193083573487031
         ],
         "xaxis": "x",
         "y": [
          0.7268020315705181
         ],
         "yaxis": "y"
        },
        {
         "alignmentgroup": "True",
         "bingroup": "y",
         "hovertemplate": "test=0009<br>f1=%{y}<br>count=%{x}<extra></extra>",
         "legendgroup": "0009",
         "marker": {
          "color": "#FF6692"
         },
         "name": "0009",
         "offsetgroup": "0009",
         "opacity": 0.5,
         "showlegend": false,
         "type": "histogram",
         "xaxis": "x2",
         "y": [
          0.7268020315705181
         ],
         "yaxis": "y2"
        },
        {
         "hovertemplate": "<b>%{hovertext}</b><br><br>test=0010<br>rawF1=%{x}<br>f1=%{y}<extra></extra>",
         "hovertext": [
          "7e1fcff0-30f4-4f29-90d4-f7171b7700cf"
         ],
         "legendgroup": "0010",
         "marker": {
          "color": "#B6E880",
          "symbol": "circle"
         },
         "mode": "markers",
         "name": "0010",
         "orientation": "v",
         "showlegend": true,
         "type": "scatter",
         "x": [
          0.7510678476687199
         ],
         "xaxis": "x",
         "y": [
          0.7551239500722002
         ],
         "yaxis": "y"
        },
        {
         "alignmentgroup": "True",
         "bingroup": "y",
         "hovertemplate": "test=0010<br>f1=%{y}<br>count=%{x}<extra></extra>",
         "legendgroup": "0010",
         "marker": {
          "color": "#B6E880"
         },
         "name": "0010",
         "offsetgroup": "0010",
         "opacity": 0.5,
         "showlegend": false,
         "type": "histogram",
         "xaxis": "x2",
         "y": [
          0.7551239500722002
         ],
         "yaxis": "y2"
        },
        {
         "hovertemplate": "<b>%{hovertext}</b><br><br>test=0011<br>rawF1=%{x}<br>f1=%{y}<extra></extra>",
         "hovertext": [
          "0f783e82-ff7a-4204-9e47-55e534671311"
         ],
         "legendgroup": "0011",
         "marker": {
          "color": "#FF97FF",
          "symbol": "circle"
         },
         "mode": "markers",
         "name": "0011",
         "orientation": "v",
         "showlegend": true,
         "type": "scatter",
         "x": [
          0.6595301751011825
         ],
         "xaxis": "x",
         "y": [
          0.6625989064683692
         ],
         "yaxis": "y"
        },
        {
         "alignmentgroup": "True",
         "bingroup": "y",
         "hovertemplate": "test=0011<br>f1=%{y}<br>count=%{x}<extra></extra>",
         "legendgroup": "0011",
         "marker": {
          "color": "#FF97FF"
         },
         "name": "0011",
         "offsetgroup": "0011",
         "opacity": 0.5,
         "showlegend": false,
         "type": "histogram",
         "xaxis": "x2",
         "y": [
          0.6625989064683692
         ],
         "yaxis": "y2"
        },
        {
         "hovertemplate": "<b>%{hovertext}</b><br><br>test=0012<br>rawF1=%{x}<br>f1=%{y}<extra></extra>",
         "hovertext": [
          "99bfe384-9dde-485c-8233-eb9370c0bdbf"
         ],
         "legendgroup": "0012",
         "marker": {
          "color": "#FECB52",
          "symbol": "circle"
         },
         "mode": "markers",
         "name": "0012",
         "orientation": "v",
         "showlegend": true,
         "type": "scatter",
         "x": [
          0.6777265655669773
         ],
         "xaxis": "x",
         "y": [
          0.6814734774066797
         ],
         "yaxis": "y"
        },
        {
         "alignmentgroup": "True",
         "bingroup": "y",
         "hovertemplate": "test=0012<br>f1=%{y}<br>count=%{x}<extra></extra>",
         "legendgroup": "0012",
         "marker": {
          "color": "#FECB52"
         },
         "name": "0012",
         "offsetgroup": "0012",
         "opacity": 0.5,
         "showlegend": false,
         "type": "histogram",
         "xaxis": "x2",
         "y": [
          0.6814734774066797
         ],
         "yaxis": "y2"
        },
        {
         "hovertemplate": "<b>%{hovertext}</b><br><br>test=0013<br>rawF1=%{x}<br>f1=%{y}<extra></extra>",
         "hovertext": [
          "63e51dd9-118d-496b-8b4d-c0fd4db3d962"
         ],
         "legendgroup": "0013",
         "marker": {
          "color": "#636efa",
          "symbol": "circle"
         },
         "mode": "markers",
         "name": "0013",
         "orientation": "v",
         "showlegend": true,
         "type": "scatter",
         "x": [
          0.6718900829189416
         ],
         "xaxis": "x",
         "y": [
          0.6779737317573199
         ],
         "yaxis": "y"
        },
        {
         "alignmentgroup": "True",
         "bingroup": "y",
         "hovertemplate": "test=0013<br>f1=%{y}<br>count=%{x}<extra></extra>",
         "legendgroup": "0013",
         "marker": {
          "color": "#636efa"
         },
         "name": "0013",
         "offsetgroup": "0013",
         "opacity": 0.5,
         "showlegend": false,
         "type": "histogram",
         "xaxis": "x2",
         "y": [
          0.6779737317573199
         ],
         "yaxis": "y2"
        },
        {
         "hovertemplate": "<b>%{hovertext}</b><br><br>test=0014<br>rawF1=%{x}<br>f1=%{y}<extra></extra>",
         "hovertext": [
          "1665dd00-eb54-47cb-843d-f21453d9790d"
         ],
         "legendgroup": "0014",
         "marker": {
          "color": "#EF553B",
          "symbol": "circle"
         },
         "mode": "markers",
         "name": "0014",
         "orientation": "v",
         "showlegend": true,
         "type": "scatter",
         "x": [
          0.5753755306997694
         ],
         "xaxis": "x",
         "y": [
          0.5777929775333849
         ],
         "yaxis": "y"
        },
        {
         "alignmentgroup": "True",
         "bingroup": "y",
         "hovertemplate": "test=0014<br>f1=%{y}<br>count=%{x}<extra></extra>",
         "legendgroup": "0014",
         "marker": {
          "color": "#EF553B"
         },
         "name": "0014",
         "offsetgroup": "0014",
         "opacity": 0.5,
         "showlegend": false,
         "type": "histogram",
         "xaxis": "x2",
         "y": [
          0.5777929775333849
         ],
         "yaxis": "y2"
        },
        {
         "hovertemplate": "<b>%{hovertext}</b><br><br>test=0017<br>rawF1=%{x}<br>f1=%{y}<extra></extra>",
         "hovertext": [
          "263de413-4128-436e-b8a1-0bb7ad600f90"
         ],
         "legendgroup": "0017",
         "marker": {
          "color": "#00cc96",
          "symbol": "circle"
         },
         "mode": "markers",
         "name": "0017",
         "orientation": "v",
         "showlegend": true,
         "type": "scatter",
         "x": [
          0.6931888567995761
         ],
         "xaxis": "x",
         "y": [
          0.6978918825013407
         ],
         "yaxis": "y"
        },
        {
         "alignmentgroup": "True",
         "bingroup": "y",
         "hovertemplate": "test=0017<br>f1=%{y}<br>count=%{x}<extra></extra>",
         "legendgroup": "0017",
         "marker": {
          "color": "#00cc96"
         },
         "name": "0017",
         "offsetgroup": "0017",
         "opacity": 0.5,
         "showlegend": false,
         "type": "histogram",
         "xaxis": "x2",
         "y": [
          0.6978918825013407
         ],
         "yaxis": "y2"
        },
        {
         "hovertemplate": "<b>%{hovertext}</b><br><br>test=0018<br>rawF1=%{x}<br>f1=%{y}<extra></extra>",
         "hovertext": [
          "d666c68e-f0ca-4f31-b8f4-f0495ee86bc1"
         ],
         "legendgroup": "0018",
         "marker": {
          "color": "#ab63fa",
          "symbol": "circle"
         },
         "mode": "markers",
         "name": "0018",
         "orientation": "v",
         "showlegend": true,
         "type": "scatter",
         "x": [
          0.6709304132646352
         ],
         "xaxis": "x",
         "y": [
          0.6719664061982251
         ],
         "yaxis": "y"
        },
        {
         "alignmentgroup": "True",
         "bingroup": "y",
         "hovertemplate": "test=0018<br>f1=%{y}<br>count=%{x}<extra></extra>",
         "legendgroup": "0018",
         "marker": {
          "color": "#ab63fa"
         },
         "name": "0018",
         "offsetgroup": "0018",
         "opacity": 0.5,
         "showlegend": false,
         "type": "histogram",
         "xaxis": "x2",
         "y": [
          0.6719664061982251
         ],
         "yaxis": "y2"
        },
        {
         "hovertemplate": "<b>%{hovertext}</b><br><br>test=0019<br>rawF1=%{x}<br>f1=%{y}<extra></extra>",
         "hovertext": [
          "d88629a4-c108-44c5-9c1b-4008bdd78400"
         ],
         "legendgroup": "0019",
         "marker": {
          "color": "#FFA15A",
          "symbol": "circle"
         },
         "mode": "markers",
         "name": "0019",
         "orientation": "v",
         "showlegend": true,
         "type": "scatter",
         "x": [
          0.5090628745716167
         ],
         "xaxis": "x",
         "y": [
          0.5149186821168753
         ],
         "yaxis": "y"
        },
        {
         "alignmentgroup": "True",
         "bingroup": "y",
         "hovertemplate": "test=0019<br>f1=%{y}<br>count=%{x}<extra></extra>",
         "legendgroup": "0019",
         "marker": {
          "color": "#FFA15A"
         },
         "name": "0019",
         "offsetgroup": "0019",
         "opacity": 0.5,
         "showlegend": false,
         "type": "histogram",
         "xaxis": "x2",
         "y": [
          0.5149186821168753
         ],
         "yaxis": "y2"
        },
        {
         "fill": "toself",
         "mode": "lines",
         "name": "identity",
         "type": "scatter",
         "x": [
          0.6630048301482356,
          0.7425752795522129,
          0.6541208064614571,
          0.5998996952278076,
          0.652070717153568,
          0.6591022489974683,
          0.7193083573487031,
          0.7510678476687199,
          0.6595301751011825,
          0.6777265655669773,
          0.6718900829189416,
          0.5753755306997694,
          0.6931888567995761,
          0.6709304132646352,
          0.5090628745716167
         ],
         "y": [
          0.6630048301482356,
          0.7425752795522129,
          0.6541208064614571,
          0.5998996952278076,
          0.652070717153568,
          0.6591022489974683,
          0.7193083573487031,
          0.7510678476687199,
          0.6595301751011825,
          0.6777265655669773,
          0.6718900829189416,
          0.5753755306997694,
          0.6931888567995761,
          0.6709304132646352,
          0.5090628745716167
         ]
        }
       ],
       "layout": {
        "barmode": "overlay",
        "legend": {
         "title": {
          "text": "test"
         },
         "tracegroupgap": 0
        },
        "margin": {
         "t": 60
        },
        "template": {
         "data": {
          "bar": [
           {
            "error_x": {
             "color": "#2a3f5f"
            },
            "error_y": {
             "color": "#2a3f5f"
            },
            "marker": {
             "line": {
              "color": "#E5ECF6",
              "width": 0.5
             },
             "pattern": {
              "fillmode": "overlay",
              "size": 10,
              "solidity": 0.2
             }
            },
            "type": "bar"
           }
          ],
          "barpolar": [
           {
            "marker": {
             "line": {
              "color": "#E5ECF6",
              "width": 0.5
             },
             "pattern": {
              "fillmode": "overlay",
              "size": 10,
              "solidity": 0.2
             }
            },
            "type": "barpolar"
           }
          ],
          "carpet": [
           {
            "aaxis": {
             "endlinecolor": "#2a3f5f",
             "gridcolor": "white",
             "linecolor": "white",
             "minorgridcolor": "white",
             "startlinecolor": "#2a3f5f"
            },
            "baxis": {
             "endlinecolor": "#2a3f5f",
             "gridcolor": "white",
             "linecolor": "white",
             "minorgridcolor": "white",
             "startlinecolor": "#2a3f5f"
            },
            "type": "carpet"
           }
          ],
          "choropleth": [
           {
            "colorbar": {
             "outlinewidth": 0,
             "ticks": ""
            },
            "type": "choropleth"
           }
          ],
          "contour": [
           {
            "colorbar": {
             "outlinewidth": 0,
             "ticks": ""
            },
            "colorscale": [
             [
              0,
              "#0d0887"
             ],
             [
              0.1111111111111111,
              "#46039f"
             ],
             [
              0.2222222222222222,
              "#7201a8"
             ],
             [
              0.3333333333333333,
              "#9c179e"
             ],
             [
              0.4444444444444444,
              "#bd3786"
             ],
             [
              0.5555555555555556,
              "#d8576b"
             ],
             [
              0.6666666666666666,
              "#ed7953"
             ],
             [
              0.7777777777777778,
              "#fb9f3a"
             ],
             [
              0.8888888888888888,
              "#fdca26"
             ],
             [
              1,
              "#f0f921"
             ]
            ],
            "type": "contour"
           }
          ],
          "contourcarpet": [
           {
            "colorbar": {
             "outlinewidth": 0,
             "ticks": ""
            },
            "type": "contourcarpet"
           }
          ],
          "heatmap": [
           {
            "colorbar": {
             "outlinewidth": 0,
             "ticks": ""
            },
            "colorscale": [
             [
              0,
              "#0d0887"
             ],
             [
              0.1111111111111111,
              "#46039f"
             ],
             [
              0.2222222222222222,
              "#7201a8"
             ],
             [
              0.3333333333333333,
              "#9c179e"
             ],
             [
              0.4444444444444444,
              "#bd3786"
             ],
             [
              0.5555555555555556,
              "#d8576b"
             ],
             [
              0.6666666666666666,
              "#ed7953"
             ],
             [
              0.7777777777777778,
              "#fb9f3a"
             ],
             [
              0.8888888888888888,
              "#fdca26"
             ],
             [
              1,
              "#f0f921"
             ]
            ],
            "type": "heatmap"
           }
          ],
          "heatmapgl": [
           {
            "colorbar": {
             "outlinewidth": 0,
             "ticks": ""
            },
            "colorscale": [
             [
              0,
              "#0d0887"
             ],
             [
              0.1111111111111111,
              "#46039f"
             ],
             [
              0.2222222222222222,
              "#7201a8"
             ],
             [
              0.3333333333333333,
              "#9c179e"
             ],
             [
              0.4444444444444444,
              "#bd3786"
             ],
             [
              0.5555555555555556,
              "#d8576b"
             ],
             [
              0.6666666666666666,
              "#ed7953"
             ],
             [
              0.7777777777777778,
              "#fb9f3a"
             ],
             [
              0.8888888888888888,
              "#fdca26"
             ],
             [
              1,
              "#f0f921"
             ]
            ],
            "type": "heatmapgl"
           }
          ],
          "histogram": [
           {
            "marker": {
             "pattern": {
              "fillmode": "overlay",
              "size": 10,
              "solidity": 0.2
             }
            },
            "type": "histogram"
           }
          ],
          "histogram2d": [
           {
            "colorbar": {
             "outlinewidth": 0,
             "ticks": ""
            },
            "colorscale": [
             [
              0,
              "#0d0887"
             ],
             [
              0.1111111111111111,
              "#46039f"
             ],
             [
              0.2222222222222222,
              "#7201a8"
             ],
             [
              0.3333333333333333,
              "#9c179e"
             ],
             [
              0.4444444444444444,
              "#bd3786"
             ],
             [
              0.5555555555555556,
              "#d8576b"
             ],
             [
              0.6666666666666666,
              "#ed7953"
             ],
             [
              0.7777777777777778,
              "#fb9f3a"
             ],
             [
              0.8888888888888888,
              "#fdca26"
             ],
             [
              1,
              "#f0f921"
             ]
            ],
            "type": "histogram2d"
           }
          ],
          "histogram2dcontour": [
           {
            "colorbar": {
             "outlinewidth": 0,
             "ticks": ""
            },
            "colorscale": [
             [
              0,
              "#0d0887"
             ],
             [
              0.1111111111111111,
              "#46039f"
             ],
             [
              0.2222222222222222,
              "#7201a8"
             ],
             [
              0.3333333333333333,
              "#9c179e"
             ],
             [
              0.4444444444444444,
              "#bd3786"
             ],
             [
              0.5555555555555556,
              "#d8576b"
             ],
             [
              0.6666666666666666,
              "#ed7953"
             ],
             [
              0.7777777777777778,
              "#fb9f3a"
             ],
             [
              0.8888888888888888,
              "#fdca26"
             ],
             [
              1,
              "#f0f921"
             ]
            ],
            "type": "histogram2dcontour"
           }
          ],
          "mesh3d": [
           {
            "colorbar": {
             "outlinewidth": 0,
             "ticks": ""
            },
            "type": "mesh3d"
           }
          ],
          "parcoords": [
           {
            "line": {
             "colorbar": {
              "outlinewidth": 0,
              "ticks": ""
             }
            },
            "type": "parcoords"
           }
          ],
          "pie": [
           {
            "automargin": true,
            "type": "pie"
           }
          ],
          "scatter": [
           {
            "fillpattern": {
             "fillmode": "overlay",
             "size": 10,
             "solidity": 0.2
            },
            "type": "scatter"
           }
          ],
          "scatter3d": [
           {
            "line": {
             "colorbar": {
              "outlinewidth": 0,
              "ticks": ""
             }
            },
            "marker": {
             "colorbar": {
              "outlinewidth": 0,
              "ticks": ""
             }
            },
            "type": "scatter3d"
           }
          ],
          "scattercarpet": [
           {
            "marker": {
             "colorbar": {
              "outlinewidth": 0,
              "ticks": ""
             }
            },
            "type": "scattercarpet"
           }
          ],
          "scattergeo": [
           {
            "marker": {
             "colorbar": {
              "outlinewidth": 0,
              "ticks": ""
             }
            },
            "type": "scattergeo"
           }
          ],
          "scattergl": [
           {
            "marker": {
             "colorbar": {
              "outlinewidth": 0,
              "ticks": ""
             }
            },
            "type": "scattergl"
           }
          ],
          "scattermapbox": [
           {
            "marker": {
             "colorbar": {
              "outlinewidth": 0,
              "ticks": ""
             }
            },
            "type": "scattermapbox"
           }
          ],
          "scatterpolar": [
           {
            "marker": {
             "colorbar": {
              "outlinewidth": 0,
              "ticks": ""
             }
            },
            "type": "scatterpolar"
           }
          ],
          "scatterpolargl": [
           {
            "marker": {
             "colorbar": {
              "outlinewidth": 0,
              "ticks": ""
             }
            },
            "type": "scatterpolargl"
           }
          ],
          "scatterternary": [
           {
            "marker": {
             "colorbar": {
              "outlinewidth": 0,
              "ticks": ""
             }
            },
            "type": "scatterternary"
           }
          ],
          "surface": [
           {
            "colorbar": {
             "outlinewidth": 0,
             "ticks": ""
            },
            "colorscale": [
             [
              0,
              "#0d0887"
             ],
             [
              0.1111111111111111,
              "#46039f"
             ],
             [
              0.2222222222222222,
              "#7201a8"
             ],
             [
              0.3333333333333333,
              "#9c179e"
             ],
             [
              0.4444444444444444,
              "#bd3786"
             ],
             [
              0.5555555555555556,
              "#d8576b"
             ],
             [
              0.6666666666666666,
              "#ed7953"
             ],
             [
              0.7777777777777778,
              "#fb9f3a"
             ],
             [
              0.8888888888888888,
              "#fdca26"
             ],
             [
              1,
              "#f0f921"
             ]
            ],
            "type": "surface"
           }
          ],
          "table": [
           {
            "cells": {
             "fill": {
              "color": "#EBF0F8"
             },
             "line": {
              "color": "white"
             }
            },
            "header": {
             "fill": {
              "color": "#C8D4E3"
             },
             "line": {
              "color": "white"
             }
            },
            "type": "table"
           }
          ]
         },
         "layout": {
          "annotationdefaults": {
           "arrowcolor": "#2a3f5f",
           "arrowhead": 0,
           "arrowwidth": 1
          },
          "autotypenumbers": "strict",
          "coloraxis": {
           "colorbar": {
            "outlinewidth": 0,
            "ticks": ""
           }
          },
          "colorscale": {
           "diverging": [
            [
             0,
             "#8e0152"
            ],
            [
             0.1,
             "#c51b7d"
            ],
            [
             0.2,
             "#de77ae"
            ],
            [
             0.3,
             "#f1b6da"
            ],
            [
             0.4,
             "#fde0ef"
            ],
            [
             0.5,
             "#f7f7f7"
            ],
            [
             0.6,
             "#e6f5d0"
            ],
            [
             0.7,
             "#b8e186"
            ],
            [
             0.8,
             "#7fbc41"
            ],
            [
             0.9,
             "#4d9221"
            ],
            [
             1,
             "#276419"
            ]
           ],
           "sequential": [
            [
             0,
             "#0d0887"
            ],
            [
             0.1111111111111111,
             "#46039f"
            ],
            [
             0.2222222222222222,
             "#7201a8"
            ],
            [
             0.3333333333333333,
             "#9c179e"
            ],
            [
             0.4444444444444444,
             "#bd3786"
            ],
            [
             0.5555555555555556,
             "#d8576b"
            ],
            [
             0.6666666666666666,
             "#ed7953"
            ],
            [
             0.7777777777777778,
             "#fb9f3a"
            ],
            [
             0.8888888888888888,
             "#fdca26"
            ],
            [
             1,
             "#f0f921"
            ]
           ],
           "sequentialminus": [
            [
             0,
             "#0d0887"
            ],
            [
             0.1111111111111111,
             "#46039f"
            ],
            [
             0.2222222222222222,
             "#7201a8"
            ],
            [
             0.3333333333333333,
             "#9c179e"
            ],
            [
             0.4444444444444444,
             "#bd3786"
            ],
            [
             0.5555555555555556,
             "#d8576b"
            ],
            [
             0.6666666666666666,
             "#ed7953"
            ],
            [
             0.7777777777777778,
             "#fb9f3a"
            ],
            [
             0.8888888888888888,
             "#fdca26"
            ],
            [
             1,
             "#f0f921"
            ]
           ]
          },
          "colorway": [
           "#636efa",
           "#EF553B",
           "#00cc96",
           "#ab63fa",
           "#FFA15A",
           "#19d3f3",
           "#FF6692",
           "#B6E880",
           "#FF97FF",
           "#FECB52"
          ],
          "font": {
           "color": "#2a3f5f"
          },
          "geo": {
           "bgcolor": "white",
           "lakecolor": "white",
           "landcolor": "#E5ECF6",
           "showlakes": true,
           "showland": true,
           "subunitcolor": "white"
          },
          "hoverlabel": {
           "align": "left"
          },
          "hovermode": "closest",
          "mapbox": {
           "style": "light"
          },
          "paper_bgcolor": "white",
          "plot_bgcolor": "#E5ECF6",
          "polar": {
           "angularaxis": {
            "gridcolor": "white",
            "linecolor": "white",
            "ticks": ""
           },
           "bgcolor": "#E5ECF6",
           "radialaxis": {
            "gridcolor": "white",
            "linecolor": "white",
            "ticks": ""
           }
          },
          "scene": {
           "xaxis": {
            "backgroundcolor": "#E5ECF6",
            "gridcolor": "white",
            "gridwidth": 2,
            "linecolor": "white",
            "showbackground": true,
            "ticks": "",
            "zerolinecolor": "white"
           },
           "yaxis": {
            "backgroundcolor": "#E5ECF6",
            "gridcolor": "white",
            "gridwidth": 2,
            "linecolor": "white",
            "showbackground": true,
            "ticks": "",
            "zerolinecolor": "white"
           },
           "zaxis": {
            "backgroundcolor": "#E5ECF6",
            "gridcolor": "white",
            "gridwidth": 2,
            "linecolor": "white",
            "showbackground": true,
            "ticks": "",
            "zerolinecolor": "white"
           }
          },
          "shapedefaults": {
           "line": {
            "color": "#2a3f5f"
           }
          },
          "ternary": {
           "aaxis": {
            "gridcolor": "white",
            "linecolor": "white",
            "ticks": ""
           },
           "baxis": {
            "gridcolor": "white",
            "linecolor": "white",
            "ticks": ""
           },
           "bgcolor": "#E5ECF6",
           "caxis": {
            "gridcolor": "white",
            "linecolor": "white",
            "ticks": ""
           }
          },
          "title": {
           "x": 0.05
          },
          "xaxis": {
           "automargin": true,
           "gridcolor": "white",
           "linecolor": "white",
           "ticks": "",
           "title": {
            "standoff": 15
           },
           "zerolinecolor": "white",
           "zerolinewidth": 2
          },
          "yaxis": {
           "automargin": true,
           "gridcolor": "white",
           "linecolor": "white",
           "ticks": "",
           "title": {
            "standoff": 15
           },
           "zerolinecolor": "white",
           "zerolinewidth": 2
          }
         }
        },
        "xaxis": {
         "anchor": "y",
         "domain": [
          0,
          0.7363
         ],
         "title": {
          "text": "rawF1"
         }
        },
        "xaxis2": {
         "anchor": "y2",
         "domain": [
          0.7413,
          1
         ],
         "matches": "x2",
         "showgrid": true,
         "showline": false,
         "showticklabels": false,
         "ticks": ""
        },
        "yaxis": {
         "anchor": "x",
         "domain": [
          0,
          1
         ],
         "title": {
          "text": "f1"
         }
        },
        "yaxis2": {
         "anchor": "x2",
         "domain": [
          0,
          1
         ],
         "matches": "y",
         "showgrid": true,
         "showticklabels": false
        }
       }
      }
     },
     "metadata": {},
     "output_type": "display_data"
    }
   ],
   "source": [
    "fig=px.scatter(experimentModels_N2,x='rawF1',y='f1',color='test',hover_name='modelId', marginal_y=\"histogram\")\n",
    "fig.add_trace(\n",
    "    go.Scatter(x=experimentModels_N2['rawF1'], y=experimentModels_N2['rawF1'], name=\"identity\", mode='lines',fill=\"toself\")\n",
    ")\n",
    "fig.show()"
   ]
  },
  {
   "cell_type": "code",
   "execution_count": 33,
   "metadata": {},
   "outputs": [
    {
     "data": {
      "application/vnd.plotly.v1+json": {
       "config": {
        "plotlyServerURL": "https://plot.ly"
       },
       "data": [
        {
         "hovertemplate": "<b>%{hovertext}</b><br><br>test=0001<br>rawF1=%{x}<br>eventF1=%{y}<extra></extra>",
         "hovertext": [
          "aa11eb61-61e6-41e2-94d5-a4833e9b8d9d"
         ],
         "legendgroup": "0001",
         "marker": {
          "color": "#636efa",
          "symbol": "circle"
         },
         "mode": "markers",
         "name": "0001",
         "orientation": "v",
         "showlegend": true,
         "type": "scatter",
         "x": [
          0.6630048301482356
         ],
         "xaxis": "x",
         "y": [
          0.7287639132981839
         ],
         "yaxis": "y"
        },
        {
         "alignmentgroup": "True",
         "bingroup": "y",
         "hovertemplate": "test=0001<br>eventF1=%{y}<br>count=%{x}<extra></extra>",
         "legendgroup": "0001",
         "marker": {
          "color": "#636efa"
         },
         "name": "0001",
         "offsetgroup": "0001",
         "opacity": 0.5,
         "showlegend": false,
         "type": "histogram",
         "xaxis": "x2",
         "y": [
          0.7287639132981839
         ],
         "yaxis": "y2"
        },
        {
         "hovertemplate": "<b>%{hovertext}</b><br><br>test=0002<br>rawF1=%{x}<br>eventF1=%{y}<extra></extra>",
         "hovertext": [
          "56daf263-9a04-44a8-a967-ed222c84ae8c"
         ],
         "legendgroup": "0002",
         "marker": {
          "color": "#EF553B",
          "symbol": "circle"
         },
         "mode": "markers",
         "name": "0002",
         "orientation": "v",
         "showlegend": true,
         "type": "scatter",
         "x": [
          0.7425752795522129
         ],
         "xaxis": "x",
         "y": [
          0.8098159509202454
         ],
         "yaxis": "y"
        },
        {
         "alignmentgroup": "True",
         "bingroup": "y",
         "hovertemplate": "test=0002<br>eventF1=%{y}<br>count=%{x}<extra></extra>",
         "legendgroup": "0002",
         "marker": {
          "color": "#EF553B"
         },
         "name": "0002",
         "offsetgroup": "0002",
         "opacity": 0.5,
         "showlegend": false,
         "type": "histogram",
         "xaxis": "x2",
         "y": [
          0.8098159509202454
         ],
         "yaxis": "y2"
        },
        {
         "hovertemplate": "<b>%{hovertext}</b><br><br>test=0003<br>rawF1=%{x}<br>eventF1=%{y}<extra></extra>",
         "hovertext": [
          "983f3902-7ddc-4ab2-93e7-4da2577f8b4b"
         ],
         "legendgroup": "0003",
         "marker": {
          "color": "#00cc96",
          "symbol": "circle"
         },
         "mode": "markers",
         "name": "0003",
         "orientation": "v",
         "showlegend": true,
         "type": "scatter",
         "x": [
          0.6541208064614571
         ],
         "xaxis": "x",
         "y": [
          0.7082152974504249
         ],
         "yaxis": "y"
        },
        {
         "alignmentgroup": "True",
         "bingroup": "y",
         "hovertemplate": "test=0003<br>eventF1=%{y}<br>count=%{x}<extra></extra>",
         "legendgroup": "0003",
         "marker": {
          "color": "#00cc96"
         },
         "name": "0003",
         "offsetgroup": "0003",
         "opacity": 0.5,
         "showlegend": false,
         "type": "histogram",
         "xaxis": "x2",
         "y": [
          0.7082152974504249
         ],
         "yaxis": "y2"
        },
        {
         "hovertemplate": "<b>%{hovertext}</b><br><br>test=0005<br>rawF1=%{x}<br>eventF1=%{y}<extra></extra>",
         "hovertext": [
          "c0eba1b0-cd60-4e9e-ab7f-71131a829c7e"
         ],
         "legendgroup": "0005",
         "marker": {
          "color": "#ab63fa",
          "symbol": "circle"
         },
         "mode": "markers",
         "name": "0005",
         "orientation": "v",
         "showlegend": true,
         "type": "scatter",
         "x": [
          0.5998996952278076
         ],
         "xaxis": "x",
         "y": [
          0.6607734806629835
         ],
         "yaxis": "y"
        },
        {
         "alignmentgroup": "True",
         "bingroup": "y",
         "hovertemplate": "test=0005<br>eventF1=%{y}<br>count=%{x}<extra></extra>",
         "legendgroup": "0005",
         "marker": {
          "color": "#ab63fa"
         },
         "name": "0005",
         "offsetgroup": "0005",
         "opacity": 0.5,
         "showlegend": false,
         "type": "histogram",
         "xaxis": "x2",
         "y": [
          0.6607734806629835
         ],
         "yaxis": "y2"
        },
        {
         "hovertemplate": "<b>%{hovertext}</b><br><br>test=0006<br>rawF1=%{x}<br>eventF1=%{y}<extra></extra>",
         "hovertext": [
          "d7cf3254-9d32-4e20-a23e-3cdcd3107eaa"
         ],
         "legendgroup": "0006",
         "marker": {
          "color": "#FFA15A",
          "symbol": "circle"
         },
         "mode": "markers",
         "name": "0006",
         "orientation": "v",
         "showlegend": true,
         "type": "scatter",
         "x": [
          0.652070717153568
         ],
         "xaxis": "x",
         "y": [
          0.7207792207792207
         ],
         "yaxis": "y"
        },
        {
         "alignmentgroup": "True",
         "bingroup": "y",
         "hovertemplate": "test=0006<br>eventF1=%{y}<br>count=%{x}<extra></extra>",
         "legendgroup": "0006",
         "marker": {
          "color": "#FFA15A"
         },
         "name": "0006",
         "offsetgroup": "0006",
         "opacity": 0.5,
         "showlegend": false,
         "type": "histogram",
         "xaxis": "x2",
         "y": [
          0.7207792207792207
         ],
         "yaxis": "y2"
        },
        {
         "hovertemplate": "<b>%{hovertext}</b><br><br>test=0007<br>rawF1=%{x}<br>eventF1=%{y}<extra></extra>",
         "hovertext": [
          "4f832318-c477-4835-acd3-7ec40944edd3"
         ],
         "legendgroup": "0007",
         "marker": {
          "color": "#19d3f3",
          "symbol": "circle"
         },
         "mode": "markers",
         "name": "0007",
         "orientation": "v",
         "showlegend": true,
         "type": "scatter",
         "x": [
          0.6591022489974683
         ],
         "xaxis": "x",
         "y": [
          0.7241222070223439
         ],
         "yaxis": "y"
        },
        {
         "alignmentgroup": "True",
         "bingroup": "y",
         "hovertemplate": "test=0007<br>eventF1=%{y}<br>count=%{x}<extra></extra>",
         "legendgroup": "0007",
         "marker": {
          "color": "#19d3f3"
         },
         "name": "0007",
         "offsetgroup": "0007",
         "opacity": 0.5,
         "showlegend": false,
         "type": "histogram",
         "xaxis": "x2",
         "y": [
          0.7241222070223439
         ],
         "yaxis": "y2"
        },
        {
         "hovertemplate": "<b>%{hovertext}</b><br><br>test=0009<br>rawF1=%{x}<br>eventF1=%{y}<extra></extra>",
         "hovertext": [
          "15e578bc-6917-4cef-a16a-bade7c0b0676"
         ],
         "legendgroup": "0009",
         "marker": {
          "color": "#FF6692",
          "symbol": "circle"
         },
         "mode": "markers",
         "name": "0009",
         "orientation": "v",
         "showlegend": true,
         "type": "scatter",
         "x": [
          0.7193083573487031
         ],
         "xaxis": "x",
         "y": [
          0.8157894736842105
         ],
         "yaxis": "y"
        },
        {
         "alignmentgroup": "True",
         "bingroup": "y",
         "hovertemplate": "test=0009<br>eventF1=%{y}<br>count=%{x}<extra></extra>",
         "legendgroup": "0009",
         "marker": {
          "color": "#FF6692"
         },
         "name": "0009",
         "offsetgroup": "0009",
         "opacity": 0.5,
         "showlegend": false,
         "type": "histogram",
         "xaxis": "x2",
         "y": [
          0.8157894736842105
         ],
         "yaxis": "y2"
        },
        {
         "hovertemplate": "<b>%{hovertext}</b><br><br>test=0010<br>rawF1=%{x}<br>eventF1=%{y}<extra></extra>",
         "hovertext": [
          "7e1fcff0-30f4-4f29-90d4-f7171b7700cf"
         ],
         "legendgroup": "0010",
         "marker": {
          "color": "#B6E880",
          "symbol": "circle"
         },
         "mode": "markers",
         "name": "0010",
         "orientation": "v",
         "showlegend": true,
         "type": "scatter",
         "x": [
          0.7510678476687199
         ],
         "xaxis": "x",
         "y": [
          0.8301997649823737
         ],
         "yaxis": "y"
        },
        {
         "alignmentgroup": "True",
         "bingroup": "y",
         "hovertemplate": "test=0010<br>eventF1=%{y}<br>count=%{x}<extra></extra>",
         "legendgroup": "0010",
         "marker": {
          "color": "#B6E880"
         },
         "name": "0010",
         "offsetgroup": "0010",
         "opacity": 0.5,
         "showlegend": false,
         "type": "histogram",
         "xaxis": "x2",
         "y": [
          0.8301997649823737
         ],
         "yaxis": "y2"
        },
        {
         "hovertemplate": "<b>%{hovertext}</b><br><br>test=0011<br>rawF1=%{x}<br>eventF1=%{y}<extra></extra>",
         "hovertext": [
          "0f783e82-ff7a-4204-9e47-55e534671311"
         ],
         "legendgroup": "0011",
         "marker": {
          "color": "#FF97FF",
          "symbol": "circle"
         },
         "mode": "markers",
         "name": "0011",
         "orientation": "v",
         "showlegend": true,
         "type": "scatter",
         "x": [
          0.6595301751011825
         ],
         "xaxis": "x",
         "y": [
          0.6894259818731118
         ],
         "yaxis": "y"
        },
        {
         "alignmentgroup": "True",
         "bingroup": "y",
         "hovertemplate": "test=0011<br>eventF1=%{y}<br>count=%{x}<extra></extra>",
         "legendgroup": "0011",
         "marker": {
          "color": "#FF97FF"
         },
         "name": "0011",
         "offsetgroup": "0011",
         "opacity": 0.5,
         "showlegend": false,
         "type": "histogram",
         "xaxis": "x2",
         "y": [
          0.6894259818731118
         ],
         "yaxis": "y2"
        },
        {
         "hovertemplate": "<b>%{hovertext}</b><br><br>test=0012<br>rawF1=%{x}<br>eventF1=%{y}<extra></extra>",
         "hovertext": [
          "99bfe384-9dde-485c-8233-eb9370c0bdbf"
         ],
         "legendgroup": "0012",
         "marker": {
          "color": "#FECB52",
          "symbol": "circle"
         },
         "mode": "markers",
         "name": "0012",
         "orientation": "v",
         "showlegend": true,
         "type": "scatter",
         "x": [
          0.6777265655669773
         ],
         "xaxis": "x",
         "y": [
          0.7701767870868562
         ],
         "yaxis": "y"
        },
        {
         "alignmentgroup": "True",
         "bingroup": "y",
         "hovertemplate": "test=0012<br>eventF1=%{y}<br>count=%{x}<extra></extra>",
         "legendgroup": "0012",
         "marker": {
          "color": "#FECB52"
         },
         "name": "0012",
         "offsetgroup": "0012",
         "opacity": 0.5,
         "showlegend": false,
         "type": "histogram",
         "xaxis": "x2",
         "y": [
          0.7701767870868562
         ],
         "yaxis": "y2"
        },
        {
         "hovertemplate": "<b>%{hovertext}</b><br><br>test=0013<br>rawF1=%{x}<br>eventF1=%{y}<extra></extra>",
         "hovertext": [
          "63e51dd9-118d-496b-8b4d-c0fd4db3d962"
         ],
         "legendgroup": "0013",
         "marker": {
          "color": "#636efa",
          "symbol": "circle"
         },
         "mode": "markers",
         "name": "0013",
         "orientation": "v",
         "showlegend": true,
         "type": "scatter",
         "x": [
          0.6718900829189416
         ],
         "xaxis": "x",
         "y": [
          0.7145178764897074
         ],
         "yaxis": "y"
        },
        {
         "alignmentgroup": "True",
         "bingroup": "y",
         "hovertemplate": "test=0013<br>eventF1=%{y}<br>count=%{x}<extra></extra>",
         "legendgroup": "0013",
         "marker": {
          "color": "#636efa"
         },
         "name": "0013",
         "offsetgroup": "0013",
         "opacity": 0.5,
         "showlegend": false,
         "type": "histogram",
         "xaxis": "x2",
         "y": [
          0.7145178764897074
         ],
         "yaxis": "y2"
        },
        {
         "hovertemplate": "<b>%{hovertext}</b><br><br>test=0014<br>rawF1=%{x}<br>eventF1=%{y}<extra></extra>",
         "hovertext": [
          "1665dd00-eb54-47cb-843d-f21453d9790d"
         ],
         "legendgroup": "0014",
         "marker": {
          "color": "#EF553B",
          "symbol": "circle"
         },
         "mode": "markers",
         "name": "0014",
         "orientation": "v",
         "showlegend": true,
         "type": "scatter",
         "x": [
          0.5753755306997694
         ],
         "xaxis": "x",
         "y": [
          0.6259090909090909
         ],
         "yaxis": "y"
        },
        {
         "alignmentgroup": "True",
         "bingroup": "y",
         "hovertemplate": "test=0014<br>eventF1=%{y}<br>count=%{x}<extra></extra>",
         "legendgroup": "0014",
         "marker": {
          "color": "#EF553B"
         },
         "name": "0014",
         "offsetgroup": "0014",
         "opacity": 0.5,
         "showlegend": false,
         "type": "histogram",
         "xaxis": "x2",
         "y": [
          0.6259090909090909
         ],
         "yaxis": "y2"
        },
        {
         "hovertemplate": "<b>%{hovertext}</b><br><br>test=0017<br>rawF1=%{x}<br>eventF1=%{y}<extra></extra>",
         "hovertext": [
          "263de413-4128-436e-b8a1-0bb7ad600f90"
         ],
         "legendgroup": "0017",
         "marker": {
          "color": "#00cc96",
          "symbol": "circle"
         },
         "mode": "markers",
         "name": "0017",
         "orientation": "v",
         "showlegend": true,
         "type": "scatter",
         "x": [
          0.6931888567995761
         ],
         "xaxis": "x",
         "y": [
          0.776878612716763
         ],
         "yaxis": "y"
        },
        {
         "alignmentgroup": "True",
         "bingroup": "y",
         "hovertemplate": "test=0017<br>eventF1=%{y}<br>count=%{x}<extra></extra>",
         "legendgroup": "0017",
         "marker": {
          "color": "#00cc96"
         },
         "name": "0017",
         "offsetgroup": "0017",
         "opacity": 0.5,
         "showlegend": false,
         "type": "histogram",
         "xaxis": "x2",
         "y": [
          0.776878612716763
         ],
         "yaxis": "y2"
        },
        {
         "hovertemplate": "<b>%{hovertext}</b><br><br>test=0018<br>rawF1=%{x}<br>eventF1=%{y}<extra></extra>",
         "hovertext": [
          "d666c68e-f0ca-4f31-b8f4-f0495ee86bc1"
         ],
         "legendgroup": "0018",
         "marker": {
          "color": "#ab63fa",
          "symbol": "circle"
         },
         "mode": "markers",
         "name": "0018",
         "orientation": "v",
         "showlegend": true,
         "type": "scatter",
         "x": [
          0.6709304132646352
         ],
         "xaxis": "x",
         "y": [
          0.7587529976019185
         ],
         "yaxis": "y"
        },
        {
         "alignmentgroup": "True",
         "bingroup": "y",
         "hovertemplate": "test=0018<br>eventF1=%{y}<br>count=%{x}<extra></extra>",
         "legendgroup": "0018",
         "marker": {
          "color": "#ab63fa"
         },
         "name": "0018",
         "offsetgroup": "0018",
         "opacity": 0.5,
         "showlegend": false,
         "type": "histogram",
         "xaxis": "x2",
         "y": [
          0.7587529976019185
         ],
         "yaxis": "y2"
        },
        {
         "hovertemplate": "<b>%{hovertext}</b><br><br>test=0019<br>rawF1=%{x}<br>eventF1=%{y}<extra></extra>",
         "hovertext": [
          "d88629a4-c108-44c5-9c1b-4008bdd78400"
         ],
         "legendgroup": "0019",
         "marker": {
          "color": "#FFA15A",
          "symbol": "circle"
         },
         "mode": "markers",
         "name": "0019",
         "orientation": "v",
         "showlegend": true,
         "type": "scatter",
         "x": [
          0.5090628745716167
         ],
         "xaxis": "x",
         "y": [
          0.5354330708661418
         ],
         "yaxis": "y"
        },
        {
         "alignmentgroup": "True",
         "bingroup": "y",
         "hovertemplate": "test=0019<br>eventF1=%{y}<br>count=%{x}<extra></extra>",
         "legendgroup": "0019",
         "marker": {
          "color": "#FFA15A"
         },
         "name": "0019",
         "offsetgroup": "0019",
         "opacity": 0.5,
         "showlegend": false,
         "type": "histogram",
         "xaxis": "x2",
         "y": [
          0.5354330708661418
         ],
         "yaxis": "y2"
        },
        {
         "fill": "toself",
         "mode": "lines",
         "name": "identity",
         "type": "scatter",
         "x": [
          0.6630048301482356,
          0.7425752795522129,
          0.6541208064614571,
          0.5998996952278076,
          0.652070717153568,
          0.6591022489974683,
          0.7193083573487031,
          0.7510678476687199,
          0.6595301751011825,
          0.6777265655669773,
          0.6718900829189416,
          0.5753755306997694,
          0.6931888567995761,
          0.6709304132646352,
          0.5090628745716167
         ],
         "y": [
          0.6630048301482356,
          0.7425752795522129,
          0.6541208064614571,
          0.5998996952278076,
          0.652070717153568,
          0.6591022489974683,
          0.7193083573487031,
          0.7510678476687199,
          0.6595301751011825,
          0.6777265655669773,
          0.6718900829189416,
          0.5753755306997694,
          0.6931888567995761,
          0.6709304132646352,
          0.5090628745716167
         ]
        }
       ],
       "layout": {
        "barmode": "overlay",
        "legend": {
         "title": {
          "text": "test"
         },
         "tracegroupgap": 0
        },
        "margin": {
         "t": 60
        },
        "template": {
         "data": {
          "bar": [
           {
            "error_x": {
             "color": "#2a3f5f"
            },
            "error_y": {
             "color": "#2a3f5f"
            },
            "marker": {
             "line": {
              "color": "#E5ECF6",
              "width": 0.5
             },
             "pattern": {
              "fillmode": "overlay",
              "size": 10,
              "solidity": 0.2
             }
            },
            "type": "bar"
           }
          ],
          "barpolar": [
           {
            "marker": {
             "line": {
              "color": "#E5ECF6",
              "width": 0.5
             },
             "pattern": {
              "fillmode": "overlay",
              "size": 10,
              "solidity": 0.2
             }
            },
            "type": "barpolar"
           }
          ],
          "carpet": [
           {
            "aaxis": {
             "endlinecolor": "#2a3f5f",
             "gridcolor": "white",
             "linecolor": "white",
             "minorgridcolor": "white",
             "startlinecolor": "#2a3f5f"
            },
            "baxis": {
             "endlinecolor": "#2a3f5f",
             "gridcolor": "white",
             "linecolor": "white",
             "minorgridcolor": "white",
             "startlinecolor": "#2a3f5f"
            },
            "type": "carpet"
           }
          ],
          "choropleth": [
           {
            "colorbar": {
             "outlinewidth": 0,
             "ticks": ""
            },
            "type": "choropleth"
           }
          ],
          "contour": [
           {
            "colorbar": {
             "outlinewidth": 0,
             "ticks": ""
            },
            "colorscale": [
             [
              0,
              "#0d0887"
             ],
             [
              0.1111111111111111,
              "#46039f"
             ],
             [
              0.2222222222222222,
              "#7201a8"
             ],
             [
              0.3333333333333333,
              "#9c179e"
             ],
             [
              0.4444444444444444,
              "#bd3786"
             ],
             [
              0.5555555555555556,
              "#d8576b"
             ],
             [
              0.6666666666666666,
              "#ed7953"
             ],
             [
              0.7777777777777778,
              "#fb9f3a"
             ],
             [
              0.8888888888888888,
              "#fdca26"
             ],
             [
              1,
              "#f0f921"
             ]
            ],
            "type": "contour"
           }
          ],
          "contourcarpet": [
           {
            "colorbar": {
             "outlinewidth": 0,
             "ticks": ""
            },
            "type": "contourcarpet"
           }
          ],
          "heatmap": [
           {
            "colorbar": {
             "outlinewidth": 0,
             "ticks": ""
            },
            "colorscale": [
             [
              0,
              "#0d0887"
             ],
             [
              0.1111111111111111,
              "#46039f"
             ],
             [
              0.2222222222222222,
              "#7201a8"
             ],
             [
              0.3333333333333333,
              "#9c179e"
             ],
             [
              0.4444444444444444,
              "#bd3786"
             ],
             [
              0.5555555555555556,
              "#d8576b"
             ],
             [
              0.6666666666666666,
              "#ed7953"
             ],
             [
              0.7777777777777778,
              "#fb9f3a"
             ],
             [
              0.8888888888888888,
              "#fdca26"
             ],
             [
              1,
              "#f0f921"
             ]
            ],
            "type": "heatmap"
           }
          ],
          "heatmapgl": [
           {
            "colorbar": {
             "outlinewidth": 0,
             "ticks": ""
            },
            "colorscale": [
             [
              0,
              "#0d0887"
             ],
             [
              0.1111111111111111,
              "#46039f"
             ],
             [
              0.2222222222222222,
              "#7201a8"
             ],
             [
              0.3333333333333333,
              "#9c179e"
             ],
             [
              0.4444444444444444,
              "#bd3786"
             ],
             [
              0.5555555555555556,
              "#d8576b"
             ],
             [
              0.6666666666666666,
              "#ed7953"
             ],
             [
              0.7777777777777778,
              "#fb9f3a"
             ],
             [
              0.8888888888888888,
              "#fdca26"
             ],
             [
              1,
              "#f0f921"
             ]
            ],
            "type": "heatmapgl"
           }
          ],
          "histogram": [
           {
            "marker": {
             "pattern": {
              "fillmode": "overlay",
              "size": 10,
              "solidity": 0.2
             }
            },
            "type": "histogram"
           }
          ],
          "histogram2d": [
           {
            "colorbar": {
             "outlinewidth": 0,
             "ticks": ""
            },
            "colorscale": [
             [
              0,
              "#0d0887"
             ],
             [
              0.1111111111111111,
              "#46039f"
             ],
             [
              0.2222222222222222,
              "#7201a8"
             ],
             [
              0.3333333333333333,
              "#9c179e"
             ],
             [
              0.4444444444444444,
              "#bd3786"
             ],
             [
              0.5555555555555556,
              "#d8576b"
             ],
             [
              0.6666666666666666,
              "#ed7953"
             ],
             [
              0.7777777777777778,
              "#fb9f3a"
             ],
             [
              0.8888888888888888,
              "#fdca26"
             ],
             [
              1,
              "#f0f921"
             ]
            ],
            "type": "histogram2d"
           }
          ],
          "histogram2dcontour": [
           {
            "colorbar": {
             "outlinewidth": 0,
             "ticks": ""
            },
            "colorscale": [
             [
              0,
              "#0d0887"
             ],
             [
              0.1111111111111111,
              "#46039f"
             ],
             [
              0.2222222222222222,
              "#7201a8"
             ],
             [
              0.3333333333333333,
              "#9c179e"
             ],
             [
              0.4444444444444444,
              "#bd3786"
             ],
             [
              0.5555555555555556,
              "#d8576b"
             ],
             [
              0.6666666666666666,
              "#ed7953"
             ],
             [
              0.7777777777777778,
              "#fb9f3a"
             ],
             [
              0.8888888888888888,
              "#fdca26"
             ],
             [
              1,
              "#f0f921"
             ]
            ],
            "type": "histogram2dcontour"
           }
          ],
          "mesh3d": [
           {
            "colorbar": {
             "outlinewidth": 0,
             "ticks": ""
            },
            "type": "mesh3d"
           }
          ],
          "parcoords": [
           {
            "line": {
             "colorbar": {
              "outlinewidth": 0,
              "ticks": ""
             }
            },
            "type": "parcoords"
           }
          ],
          "pie": [
           {
            "automargin": true,
            "type": "pie"
           }
          ],
          "scatter": [
           {
            "fillpattern": {
             "fillmode": "overlay",
             "size": 10,
             "solidity": 0.2
            },
            "type": "scatter"
           }
          ],
          "scatter3d": [
           {
            "line": {
             "colorbar": {
              "outlinewidth": 0,
              "ticks": ""
             }
            },
            "marker": {
             "colorbar": {
              "outlinewidth": 0,
              "ticks": ""
             }
            },
            "type": "scatter3d"
           }
          ],
          "scattercarpet": [
           {
            "marker": {
             "colorbar": {
              "outlinewidth": 0,
              "ticks": ""
             }
            },
            "type": "scattercarpet"
           }
          ],
          "scattergeo": [
           {
            "marker": {
             "colorbar": {
              "outlinewidth": 0,
              "ticks": ""
             }
            },
            "type": "scattergeo"
           }
          ],
          "scattergl": [
           {
            "marker": {
             "colorbar": {
              "outlinewidth": 0,
              "ticks": ""
             }
            },
            "type": "scattergl"
           }
          ],
          "scattermapbox": [
           {
            "marker": {
             "colorbar": {
              "outlinewidth": 0,
              "ticks": ""
             }
            },
            "type": "scattermapbox"
           }
          ],
          "scatterpolar": [
           {
            "marker": {
             "colorbar": {
              "outlinewidth": 0,
              "ticks": ""
             }
            },
            "type": "scatterpolar"
           }
          ],
          "scatterpolargl": [
           {
            "marker": {
             "colorbar": {
              "outlinewidth": 0,
              "ticks": ""
             }
            },
            "type": "scatterpolargl"
           }
          ],
          "scatterternary": [
           {
            "marker": {
             "colorbar": {
              "outlinewidth": 0,
              "ticks": ""
             }
            },
            "type": "scatterternary"
           }
          ],
          "surface": [
           {
            "colorbar": {
             "outlinewidth": 0,
             "ticks": ""
            },
            "colorscale": [
             [
              0,
              "#0d0887"
             ],
             [
              0.1111111111111111,
              "#46039f"
             ],
             [
              0.2222222222222222,
              "#7201a8"
             ],
             [
              0.3333333333333333,
              "#9c179e"
             ],
             [
              0.4444444444444444,
              "#bd3786"
             ],
             [
              0.5555555555555556,
              "#d8576b"
             ],
             [
              0.6666666666666666,
              "#ed7953"
             ],
             [
              0.7777777777777778,
              "#fb9f3a"
             ],
             [
              0.8888888888888888,
              "#fdca26"
             ],
             [
              1,
              "#f0f921"
             ]
            ],
            "type": "surface"
           }
          ],
          "table": [
           {
            "cells": {
             "fill": {
              "color": "#EBF0F8"
             },
             "line": {
              "color": "white"
             }
            },
            "header": {
             "fill": {
              "color": "#C8D4E3"
             },
             "line": {
              "color": "white"
             }
            },
            "type": "table"
           }
          ]
         },
         "layout": {
          "annotationdefaults": {
           "arrowcolor": "#2a3f5f",
           "arrowhead": 0,
           "arrowwidth": 1
          },
          "autotypenumbers": "strict",
          "coloraxis": {
           "colorbar": {
            "outlinewidth": 0,
            "ticks": ""
           }
          },
          "colorscale": {
           "diverging": [
            [
             0,
             "#8e0152"
            ],
            [
             0.1,
             "#c51b7d"
            ],
            [
             0.2,
             "#de77ae"
            ],
            [
             0.3,
             "#f1b6da"
            ],
            [
             0.4,
             "#fde0ef"
            ],
            [
             0.5,
             "#f7f7f7"
            ],
            [
             0.6,
             "#e6f5d0"
            ],
            [
             0.7,
             "#b8e186"
            ],
            [
             0.8,
             "#7fbc41"
            ],
            [
             0.9,
             "#4d9221"
            ],
            [
             1,
             "#276419"
            ]
           ],
           "sequential": [
            [
             0,
             "#0d0887"
            ],
            [
             0.1111111111111111,
             "#46039f"
            ],
            [
             0.2222222222222222,
             "#7201a8"
            ],
            [
             0.3333333333333333,
             "#9c179e"
            ],
            [
             0.4444444444444444,
             "#bd3786"
            ],
            [
             0.5555555555555556,
             "#d8576b"
            ],
            [
             0.6666666666666666,
             "#ed7953"
            ],
            [
             0.7777777777777778,
             "#fb9f3a"
            ],
            [
             0.8888888888888888,
             "#fdca26"
            ],
            [
             1,
             "#f0f921"
            ]
           ],
           "sequentialminus": [
            [
             0,
             "#0d0887"
            ],
            [
             0.1111111111111111,
             "#46039f"
            ],
            [
             0.2222222222222222,
             "#7201a8"
            ],
            [
             0.3333333333333333,
             "#9c179e"
            ],
            [
             0.4444444444444444,
             "#bd3786"
            ],
            [
             0.5555555555555556,
             "#d8576b"
            ],
            [
             0.6666666666666666,
             "#ed7953"
            ],
            [
             0.7777777777777778,
             "#fb9f3a"
            ],
            [
             0.8888888888888888,
             "#fdca26"
            ],
            [
             1,
             "#f0f921"
            ]
           ]
          },
          "colorway": [
           "#636efa",
           "#EF553B",
           "#00cc96",
           "#ab63fa",
           "#FFA15A",
           "#19d3f3",
           "#FF6692",
           "#B6E880",
           "#FF97FF",
           "#FECB52"
          ],
          "font": {
           "color": "#2a3f5f"
          },
          "geo": {
           "bgcolor": "white",
           "lakecolor": "white",
           "landcolor": "#E5ECF6",
           "showlakes": true,
           "showland": true,
           "subunitcolor": "white"
          },
          "hoverlabel": {
           "align": "left"
          },
          "hovermode": "closest",
          "mapbox": {
           "style": "light"
          },
          "paper_bgcolor": "white",
          "plot_bgcolor": "#E5ECF6",
          "polar": {
           "angularaxis": {
            "gridcolor": "white",
            "linecolor": "white",
            "ticks": ""
           },
           "bgcolor": "#E5ECF6",
           "radialaxis": {
            "gridcolor": "white",
            "linecolor": "white",
            "ticks": ""
           }
          },
          "scene": {
           "xaxis": {
            "backgroundcolor": "#E5ECF6",
            "gridcolor": "white",
            "gridwidth": 2,
            "linecolor": "white",
            "showbackground": true,
            "ticks": "",
            "zerolinecolor": "white"
           },
           "yaxis": {
            "backgroundcolor": "#E5ECF6",
            "gridcolor": "white",
            "gridwidth": 2,
            "linecolor": "white",
            "showbackground": true,
            "ticks": "",
            "zerolinecolor": "white"
           },
           "zaxis": {
            "backgroundcolor": "#E5ECF6",
            "gridcolor": "white",
            "gridwidth": 2,
            "linecolor": "white",
            "showbackground": true,
            "ticks": "",
            "zerolinecolor": "white"
           }
          },
          "shapedefaults": {
           "line": {
            "color": "#2a3f5f"
           }
          },
          "ternary": {
           "aaxis": {
            "gridcolor": "white",
            "linecolor": "white",
            "ticks": ""
           },
           "baxis": {
            "gridcolor": "white",
            "linecolor": "white",
            "ticks": ""
           },
           "bgcolor": "#E5ECF6",
           "caxis": {
            "gridcolor": "white",
            "linecolor": "white",
            "ticks": ""
           }
          },
          "title": {
           "x": 0.05
          },
          "xaxis": {
           "automargin": true,
           "gridcolor": "white",
           "linecolor": "white",
           "ticks": "",
           "title": {
            "standoff": 15
           },
           "zerolinecolor": "white",
           "zerolinewidth": 2
          },
          "yaxis": {
           "automargin": true,
           "gridcolor": "white",
           "linecolor": "white",
           "ticks": "",
           "title": {
            "standoff": 15
           },
           "zerolinecolor": "white",
           "zerolinewidth": 2
          }
         }
        },
        "xaxis": {
         "anchor": "y",
         "domain": [
          0,
          0.7363
         ],
         "title": {
          "text": "rawF1"
         }
        },
        "xaxis2": {
         "anchor": "y2",
         "domain": [
          0.7413,
          1
         ],
         "matches": "x2",
         "showgrid": true,
         "showline": false,
         "showticklabels": false,
         "ticks": ""
        },
        "yaxis": {
         "anchor": "x",
         "domain": [
          0,
          1
         ],
         "title": {
          "text": "eventF1"
         }
        },
        "yaxis2": {
         "anchor": "x2",
         "domain": [
          0,
          1
         ],
         "matches": "y",
         "showgrid": true,
         "showticklabels": false
        }
       }
      }
     },
     "metadata": {},
     "output_type": "display_data"
    }
   ],
   "source": [
    "fig=px.scatter(experimentModels_N2,x='rawF1',y='eventF1',color='test',hover_name='modelId', marginal_y=\"histogram\")\n",
    "fig.add_trace(\n",
    "    go.Scatter(x=experimentModels_N2['rawF1'], y=experimentModels_N2['rawF1'], name=\"identity\", mode='lines',fill=\"toself\")\n",
    ")\n",
    "fig.show()"
   ]
  },
  {
   "cell_type": "code",
   "execution_count": 34,
   "metadata": {},
   "outputs": [
    {
     "data": {
      "application/vnd.plotly.v1+json": {
       "config": {
        "plotlyServerURL": "https://plot.ly"
       },
       "data": [
        {
         "hovertemplate": "<b>%{hovertext}</b><br><br>test=0001<br>eventF1=%{x}<br>eventPrecision=%{y}<extra></extra>",
         "hovertext": [
          "aa11eb61-61e6-41e2-94d5-a4833e9b8d9d"
         ],
         "legendgroup": "0001",
         "marker": {
          "color": "#636efa",
          "symbol": "circle"
         },
         "mode": "markers",
         "name": "0001",
         "orientation": "v",
         "showlegend": true,
         "type": "scatter",
         "x": [
          0.7287639132981839
         ],
         "xaxis": "x",
         "y": [
          0.9381598793363499
         ],
         "yaxis": "y"
        },
        {
         "alignmentgroup": "True",
         "bingroup": "y",
         "hovertemplate": "test=0001<br>eventPrecision=%{y}<br>count=%{x}<extra></extra>",
         "legendgroup": "0001",
         "marker": {
          "color": "#636efa"
         },
         "name": "0001",
         "offsetgroup": "0001",
         "opacity": 0.5,
         "showlegend": false,
         "type": "histogram",
         "xaxis": "x2",
         "y": [
          0.9381598793363499
         ],
         "yaxis": "y2"
        },
        {
         "hovertemplate": "<b>%{hovertext}</b><br><br>test=0002<br>eventF1=%{x}<br>eventPrecision=%{y}<extra></extra>",
         "hovertext": [
          "56daf263-9a04-44a8-a967-ed222c84ae8c"
         ],
         "legendgroup": "0002",
         "marker": {
          "color": "#EF553B",
          "symbol": "circle"
         },
         "mode": "markers",
         "name": "0002",
         "orientation": "v",
         "showlegend": true,
         "type": "scatter",
         "x": [
          0.8098159509202454
         ],
         "xaxis": "x",
         "y": [
          0.7421289355322339
         ],
         "yaxis": "y"
        },
        {
         "alignmentgroup": "True",
         "bingroup": "y",
         "hovertemplate": "test=0002<br>eventPrecision=%{y}<br>count=%{x}<extra></extra>",
         "legendgroup": "0002",
         "marker": {
          "color": "#EF553B"
         },
         "name": "0002",
         "offsetgroup": "0002",
         "opacity": 0.5,
         "showlegend": false,
         "type": "histogram",
         "xaxis": "x2",
         "y": [
          0.7421289355322339
         ],
         "yaxis": "y2"
        },
        {
         "hovertemplate": "<b>%{hovertext}</b><br><br>test=0003<br>eventF1=%{x}<br>eventPrecision=%{y}<extra></extra>",
         "hovertext": [
          "983f3902-7ddc-4ab2-93e7-4da2577f8b4b"
         ],
         "legendgroup": "0003",
         "marker": {
          "color": "#00cc96",
          "symbol": "circle"
         },
         "mode": "markers",
         "name": "0003",
         "orientation": "v",
         "showlegend": true,
         "type": "scatter",
         "x": [
          0.7082152974504249
         ],
         "xaxis": "x",
         "y": [
          0.5952380952380952
         ],
         "yaxis": "y"
        },
        {
         "alignmentgroup": "True",
         "bingroup": "y",
         "hovertemplate": "test=0003<br>eventPrecision=%{y}<br>count=%{x}<extra></extra>",
         "legendgroup": "0003",
         "marker": {
          "color": "#00cc96"
         },
         "name": "0003",
         "offsetgroup": "0003",
         "opacity": 0.5,
         "showlegend": false,
         "type": "histogram",
         "xaxis": "x2",
         "y": [
          0.5952380952380952
         ],
         "yaxis": "y2"
        },
        {
         "hovertemplate": "<b>%{hovertext}</b><br><br>test=0005<br>eventF1=%{x}<br>eventPrecision=%{y}<extra></extra>",
         "hovertext": [
          "c0eba1b0-cd60-4e9e-ab7f-71131a829c7e"
         ],
         "legendgroup": "0005",
         "marker": {
          "color": "#ab63fa",
          "symbol": "circle"
         },
         "mode": "markers",
         "name": "0005",
         "orientation": "v",
         "showlegend": true,
         "type": "scatter",
         "x": [
          0.6607734806629835
         ],
         "xaxis": "x",
         "y": [
          0.5301418439716312
         ],
         "yaxis": "y"
        },
        {
         "alignmentgroup": "True",
         "bingroup": "y",
         "hovertemplate": "test=0005<br>eventPrecision=%{y}<br>count=%{x}<extra></extra>",
         "legendgroup": "0005",
         "marker": {
          "color": "#ab63fa"
         },
         "name": "0005",
         "offsetgroup": "0005",
         "opacity": 0.5,
         "showlegend": false,
         "type": "histogram",
         "xaxis": "x2",
         "y": [
          0.5301418439716312
         ],
         "yaxis": "y2"
        },
        {
         "hovertemplate": "<b>%{hovertext}</b><br><br>test=0006<br>eventF1=%{x}<br>eventPrecision=%{y}<extra></extra>",
         "hovertext": [
          "d7cf3254-9d32-4e20-a23e-3cdcd3107eaa"
         ],
         "legendgroup": "0006",
         "marker": {
          "color": "#FFA15A",
          "symbol": "circle"
         },
         "mode": "markers",
         "name": "0006",
         "orientation": "v",
         "showlegend": true,
         "type": "scatter",
         "x": [
          0.7207792207792207
         ],
         "xaxis": "x",
         "y": [
          0.7025316455696202
         ],
         "yaxis": "y"
        },
        {
         "alignmentgroup": "True",
         "bingroup": "y",
         "hovertemplate": "test=0006<br>eventPrecision=%{y}<br>count=%{x}<extra></extra>",
         "legendgroup": "0006",
         "marker": {
          "color": "#FFA15A"
         },
         "name": "0006",
         "offsetgroup": "0006",
         "opacity": 0.5,
         "showlegend": false,
         "type": "histogram",
         "xaxis": "x2",
         "y": [
          0.7025316455696202
         ],
         "yaxis": "y2"
        },
        {
         "hovertemplate": "<b>%{hovertext}</b><br><br>test=0007<br>eventF1=%{x}<br>eventPrecision=%{y}<extra></extra>",
         "hovertext": [
          "4f832318-c477-4835-acd3-7ec40944edd3"
         ],
         "legendgroup": "0007",
         "marker": {
          "color": "#19d3f3",
          "symbol": "circle"
         },
         "mode": "markers",
         "name": "0007",
         "orientation": "v",
         "showlegend": true,
         "type": "scatter",
         "x": [
          0.7241222070223439
         ],
         "xaxis": "x",
         "y": [
          0.6198282591725215
         ],
         "yaxis": "y"
        },
        {
         "alignmentgroup": "True",
         "bingroup": "y",
         "hovertemplate": "test=0007<br>eventPrecision=%{y}<br>count=%{x}<extra></extra>",
         "legendgroup": "0007",
         "marker": {
          "color": "#19d3f3"
         },
         "name": "0007",
         "offsetgroup": "0007",
         "opacity": 0.5,
         "showlegend": false,
         "type": "histogram",
         "xaxis": "x2",
         "y": [
          0.6198282591725215
         ],
         "yaxis": "y2"
        },
        {
         "hovertemplate": "<b>%{hovertext}</b><br><br>test=0009<br>eventF1=%{x}<br>eventPrecision=%{y}<extra></extra>",
         "hovertext": [
          "15e578bc-6917-4cef-a16a-bade7c0b0676"
         ],
         "legendgroup": "0009",
         "marker": {
          "color": "#FF6692",
          "symbol": "circle"
         },
         "mode": "markers",
         "name": "0009",
         "orientation": "v",
         "showlegend": true,
         "type": "scatter",
         "x": [
          0.8157894736842105
         ],
         "xaxis": "x",
         "y": [
          0.8324808184143222
         ],
         "yaxis": "y"
        },
        {
         "alignmentgroup": "True",
         "bingroup": "y",
         "hovertemplate": "test=0009<br>eventPrecision=%{y}<br>count=%{x}<extra></extra>",
         "legendgroup": "0009",
         "marker": {
          "color": "#FF6692"
         },
         "name": "0009",
         "offsetgroup": "0009",
         "opacity": 0.5,
         "showlegend": false,
         "type": "histogram",
         "xaxis": "x2",
         "y": [
          0.8324808184143222
         ],
         "yaxis": "y2"
        },
        {
         "hovertemplate": "<b>%{hovertext}</b><br><br>test=0010<br>eventF1=%{x}<br>eventPrecision=%{y}<extra></extra>",
         "hovertext": [
          "7e1fcff0-30f4-4f29-90d4-f7171b7700cf"
         ],
         "legendgroup": "0010",
         "marker": {
          "color": "#B6E880",
          "symbol": "circle"
         },
         "mode": "markers",
         "name": "0010",
         "orientation": "v",
         "showlegend": true,
         "type": "scatter",
         "x": [
          0.8301997649823737
         ],
         "xaxis": "x",
         "y": [
          0.7783902976846747
         ],
         "yaxis": "y"
        },
        {
         "alignmentgroup": "True",
         "bingroup": "y",
         "hovertemplate": "test=0010<br>eventPrecision=%{y}<br>count=%{x}<extra></extra>",
         "legendgroup": "0010",
         "marker": {
          "color": "#B6E880"
         },
         "name": "0010",
         "offsetgroup": "0010",
         "opacity": 0.5,
         "showlegend": false,
         "type": "histogram",
         "xaxis": "x2",
         "y": [
          0.7783902976846747
         ],
         "yaxis": "y2"
        },
        {
         "hovertemplate": "<b>%{hovertext}</b><br><br>test=0011<br>eventF1=%{x}<br>eventPrecision=%{y}<extra></extra>",
         "hovertext": [
          "0f783e82-ff7a-4204-9e47-55e534671311"
         ],
         "legendgroup": "0011",
         "marker": {
          "color": "#FF97FF",
          "symbol": "circle"
         },
         "mode": "markers",
         "name": "0011",
         "orientation": "v",
         "showlegend": true,
         "type": "scatter",
         "x": [
          0.6894259818731118
         ],
         "xaxis": "x",
         "y": [
          0.5381715362865221
         ],
         "yaxis": "y"
        },
        {
         "alignmentgroup": "True",
         "bingroup": "y",
         "hovertemplate": "test=0011<br>eventPrecision=%{y}<br>count=%{x}<extra></extra>",
         "legendgroup": "0011",
         "marker": {
          "color": "#FF97FF"
         },
         "name": "0011",
         "offsetgroup": "0011",
         "opacity": 0.5,
         "showlegend": false,
         "type": "histogram",
         "xaxis": "x2",
         "y": [
          0.5381715362865221
         ],
         "yaxis": "y2"
        },
        {
         "hovertemplate": "<b>%{hovertext}</b><br><br>test=0012<br>eventF1=%{x}<br>eventPrecision=%{y}<extra></extra>",
         "hovertext": [
          "99bfe384-9dde-485c-8233-eb9370c0bdbf"
         ],
         "legendgroup": "0012",
         "marker": {
          "color": "#FECB52",
          "symbol": "circle"
         },
         "mode": "markers",
         "name": "0012",
         "orientation": "v",
         "showlegend": true,
         "type": "scatter",
         "x": [
          0.7701767870868562
         ],
         "xaxis": "x",
         "y": [
          0.8434343434343434
         ],
         "yaxis": "y"
        },
        {
         "alignmentgroup": "True",
         "bingroup": "y",
         "hovertemplate": "test=0012<br>eventPrecision=%{y}<br>count=%{x}<extra></extra>",
         "legendgroup": "0012",
         "marker": {
          "color": "#FECB52"
         },
         "name": "0012",
         "offsetgroup": "0012",
         "opacity": 0.5,
         "showlegend": false,
         "type": "histogram",
         "xaxis": "x2",
         "y": [
          0.8434343434343434
         ],
         "yaxis": "y2"
        },
        {
         "hovertemplate": "<b>%{hovertext}</b><br><br>test=0013<br>eventF1=%{x}<br>eventPrecision=%{y}<extra></extra>",
         "hovertext": [
          "63e51dd9-118d-496b-8b4d-c0fd4db3d962"
         ],
         "legendgroup": "0013",
         "marker": {
          "color": "#636efa",
          "symbol": "circle"
         },
         "mode": "markers",
         "name": "0013",
         "orientation": "v",
         "showlegend": true,
         "type": "scatter",
         "x": [
          0.7145178764897074
         ],
         "xaxis": "x",
         "y": [
          0.5740418118466899
         ],
         "yaxis": "y"
        },
        {
         "alignmentgroup": "True",
         "bingroup": "y",
         "hovertemplate": "test=0013<br>eventPrecision=%{y}<br>count=%{x}<extra></extra>",
         "legendgroup": "0013",
         "marker": {
          "color": "#636efa"
         },
         "name": "0013",
         "offsetgroup": "0013",
         "opacity": 0.5,
         "showlegend": false,
         "type": "histogram",
         "xaxis": "x2",
         "y": [
          0.5740418118466899
         ],
         "yaxis": "y2"
        },
        {
         "hovertemplate": "<b>%{hovertext}</b><br><br>test=0014<br>eventF1=%{x}<br>eventPrecision=%{y}<extra></extra>",
         "hovertext": [
          "1665dd00-eb54-47cb-843d-f21453d9790d"
         ],
         "legendgroup": "0014",
         "marker": {
          "color": "#EF553B",
          "symbol": "circle"
         },
         "mode": "markers",
         "name": "0014",
         "orientation": "v",
         "showlegend": true,
         "type": "scatter",
         "x": [
          0.6259090909090909
         ],
         "xaxis": "x",
         "y": [
          0.46102150537634407
         ],
         "yaxis": "y"
        },
        {
         "alignmentgroup": "True",
         "bingroup": "y",
         "hovertemplate": "test=0014<br>eventPrecision=%{y}<br>count=%{x}<extra></extra>",
         "legendgroup": "0014",
         "marker": {
          "color": "#EF553B"
         },
         "name": "0014",
         "offsetgroup": "0014",
         "opacity": 0.5,
         "showlegend": false,
         "type": "histogram",
         "xaxis": "x2",
         "y": [
          0.46102150537634407
         ],
         "yaxis": "y2"
        },
        {
         "hovertemplate": "<b>%{hovertext}</b><br><br>test=0017<br>eventF1=%{x}<br>eventPrecision=%{y}<extra></extra>",
         "hovertext": [
          "263de413-4128-436e-b8a1-0bb7ad600f90"
         ],
         "legendgroup": "0017",
         "marker": {
          "color": "#00cc96",
          "symbol": "circle"
         },
         "mode": "markers",
         "name": "0017",
         "orientation": "v",
         "showlegend": true,
         "type": "scatter",
         "x": [
          0.776878612716763
         ],
         "xaxis": "x",
         "y": [
          0.850632911392405
         ],
         "yaxis": "y"
        },
        {
         "alignmentgroup": "True",
         "bingroup": "y",
         "hovertemplate": "test=0017<br>eventPrecision=%{y}<br>count=%{x}<extra></extra>",
         "legendgroup": "0017",
         "marker": {
          "color": "#00cc96"
         },
         "name": "0017",
         "offsetgroup": "0017",
         "opacity": 0.5,
         "showlegend": false,
         "type": "histogram",
         "xaxis": "x2",
         "y": [
          0.850632911392405
         ],
         "yaxis": "y2"
        },
        {
         "hovertemplate": "<b>%{hovertext}</b><br><br>test=0018<br>eventF1=%{x}<br>eventPrecision=%{y}<extra></extra>",
         "hovertext": [
          "d666c68e-f0ca-4f31-b8f4-f0495ee86bc1"
         ],
         "legendgroup": "0018",
         "marker": {
          "color": "#ab63fa",
          "symbol": "circle"
         },
         "mode": "markers",
         "name": "0018",
         "orientation": "v",
         "showlegend": true,
         "type": "scatter",
         "x": [
          0.7587529976019185
         ],
         "xaxis": "x",
         "y": [
          0.8588490770901195
         ],
         "yaxis": "y"
        },
        {
         "alignmentgroup": "True",
         "bingroup": "y",
         "hovertemplate": "test=0018<br>eventPrecision=%{y}<br>count=%{x}<extra></extra>",
         "legendgroup": "0018",
         "marker": {
          "color": "#ab63fa"
         },
         "name": "0018",
         "offsetgroup": "0018",
         "opacity": 0.5,
         "showlegend": false,
         "type": "histogram",
         "xaxis": "x2",
         "y": [
          0.8588490770901195
         ],
         "yaxis": "y2"
        },
        {
         "hovertemplate": "<b>%{hovertext}</b><br><br>test=0019<br>eventF1=%{x}<br>eventPrecision=%{y}<extra></extra>",
         "hovertext": [
          "d88629a4-c108-44c5-9c1b-4008bdd78400"
         ],
         "legendgroup": "0019",
         "marker": {
          "color": "#FFA15A",
          "symbol": "circle"
         },
         "mode": "markers",
         "name": "0019",
         "orientation": "v",
         "showlegend": true,
         "type": "scatter",
         "x": [
          0.5354330708661418
         ],
         "xaxis": "x",
         "y": [
          0.3664670658682635
         ],
         "yaxis": "y"
        },
        {
         "alignmentgroup": "True",
         "bingroup": "y",
         "hovertemplate": "test=0019<br>eventPrecision=%{y}<br>count=%{x}<extra></extra>",
         "legendgroup": "0019",
         "marker": {
          "color": "#FFA15A"
         },
         "name": "0019",
         "offsetgroup": "0019",
         "opacity": 0.5,
         "showlegend": false,
         "type": "histogram",
         "xaxis": "x2",
         "y": [
          0.3664670658682635
         ],
         "yaxis": "y2"
        },
        {
         "fill": "toself",
         "mode": "lines",
         "name": "identity",
         "type": "scatter",
         "x": [
          0.7287639132981839,
          0.8098159509202454,
          0.7082152974504249,
          0.6607734806629835,
          0.7207792207792207,
          0.7241222070223439,
          0.8157894736842105,
          0.8301997649823737,
          0.6894259818731118,
          0.7701767870868562,
          0.7145178764897074,
          0.6259090909090909,
          0.776878612716763,
          0.7587529976019185,
          0.5354330708661418
         ],
         "y": [
          0.7287639132981839,
          0.8098159509202454,
          0.7082152974504249,
          0.6607734806629835,
          0.7207792207792207,
          0.7241222070223439,
          0.8157894736842105,
          0.8301997649823737,
          0.6894259818731118,
          0.7701767870868562,
          0.7145178764897074,
          0.6259090909090909,
          0.776878612716763,
          0.7587529976019185,
          0.5354330708661418
         ]
        }
       ],
       "layout": {
        "barmode": "overlay",
        "legend": {
         "title": {
          "text": "test"
         },
         "tracegroupgap": 0
        },
        "margin": {
         "t": 60
        },
        "template": {
         "data": {
          "bar": [
           {
            "error_x": {
             "color": "#2a3f5f"
            },
            "error_y": {
             "color": "#2a3f5f"
            },
            "marker": {
             "line": {
              "color": "#E5ECF6",
              "width": 0.5
             },
             "pattern": {
              "fillmode": "overlay",
              "size": 10,
              "solidity": 0.2
             }
            },
            "type": "bar"
           }
          ],
          "barpolar": [
           {
            "marker": {
             "line": {
              "color": "#E5ECF6",
              "width": 0.5
             },
             "pattern": {
              "fillmode": "overlay",
              "size": 10,
              "solidity": 0.2
             }
            },
            "type": "barpolar"
           }
          ],
          "carpet": [
           {
            "aaxis": {
             "endlinecolor": "#2a3f5f",
             "gridcolor": "white",
             "linecolor": "white",
             "minorgridcolor": "white",
             "startlinecolor": "#2a3f5f"
            },
            "baxis": {
             "endlinecolor": "#2a3f5f",
             "gridcolor": "white",
             "linecolor": "white",
             "minorgridcolor": "white",
             "startlinecolor": "#2a3f5f"
            },
            "type": "carpet"
           }
          ],
          "choropleth": [
           {
            "colorbar": {
             "outlinewidth": 0,
             "ticks": ""
            },
            "type": "choropleth"
           }
          ],
          "contour": [
           {
            "colorbar": {
             "outlinewidth": 0,
             "ticks": ""
            },
            "colorscale": [
             [
              0,
              "#0d0887"
             ],
             [
              0.1111111111111111,
              "#46039f"
             ],
             [
              0.2222222222222222,
              "#7201a8"
             ],
             [
              0.3333333333333333,
              "#9c179e"
             ],
             [
              0.4444444444444444,
              "#bd3786"
             ],
             [
              0.5555555555555556,
              "#d8576b"
             ],
             [
              0.6666666666666666,
              "#ed7953"
             ],
             [
              0.7777777777777778,
              "#fb9f3a"
             ],
             [
              0.8888888888888888,
              "#fdca26"
             ],
             [
              1,
              "#f0f921"
             ]
            ],
            "type": "contour"
           }
          ],
          "contourcarpet": [
           {
            "colorbar": {
             "outlinewidth": 0,
             "ticks": ""
            },
            "type": "contourcarpet"
           }
          ],
          "heatmap": [
           {
            "colorbar": {
             "outlinewidth": 0,
             "ticks": ""
            },
            "colorscale": [
             [
              0,
              "#0d0887"
             ],
             [
              0.1111111111111111,
              "#46039f"
             ],
             [
              0.2222222222222222,
              "#7201a8"
             ],
             [
              0.3333333333333333,
              "#9c179e"
             ],
             [
              0.4444444444444444,
              "#bd3786"
             ],
             [
              0.5555555555555556,
              "#d8576b"
             ],
             [
              0.6666666666666666,
              "#ed7953"
             ],
             [
              0.7777777777777778,
              "#fb9f3a"
             ],
             [
              0.8888888888888888,
              "#fdca26"
             ],
             [
              1,
              "#f0f921"
             ]
            ],
            "type": "heatmap"
           }
          ],
          "heatmapgl": [
           {
            "colorbar": {
             "outlinewidth": 0,
             "ticks": ""
            },
            "colorscale": [
             [
              0,
              "#0d0887"
             ],
             [
              0.1111111111111111,
              "#46039f"
             ],
             [
              0.2222222222222222,
              "#7201a8"
             ],
             [
              0.3333333333333333,
              "#9c179e"
             ],
             [
              0.4444444444444444,
              "#bd3786"
             ],
             [
              0.5555555555555556,
              "#d8576b"
             ],
             [
              0.6666666666666666,
              "#ed7953"
             ],
             [
              0.7777777777777778,
              "#fb9f3a"
             ],
             [
              0.8888888888888888,
              "#fdca26"
             ],
             [
              1,
              "#f0f921"
             ]
            ],
            "type": "heatmapgl"
           }
          ],
          "histogram": [
           {
            "marker": {
             "pattern": {
              "fillmode": "overlay",
              "size": 10,
              "solidity": 0.2
             }
            },
            "type": "histogram"
           }
          ],
          "histogram2d": [
           {
            "colorbar": {
             "outlinewidth": 0,
             "ticks": ""
            },
            "colorscale": [
             [
              0,
              "#0d0887"
             ],
             [
              0.1111111111111111,
              "#46039f"
             ],
             [
              0.2222222222222222,
              "#7201a8"
             ],
             [
              0.3333333333333333,
              "#9c179e"
             ],
             [
              0.4444444444444444,
              "#bd3786"
             ],
             [
              0.5555555555555556,
              "#d8576b"
             ],
             [
              0.6666666666666666,
              "#ed7953"
             ],
             [
              0.7777777777777778,
              "#fb9f3a"
             ],
             [
              0.8888888888888888,
              "#fdca26"
             ],
             [
              1,
              "#f0f921"
             ]
            ],
            "type": "histogram2d"
           }
          ],
          "histogram2dcontour": [
           {
            "colorbar": {
             "outlinewidth": 0,
             "ticks": ""
            },
            "colorscale": [
             [
              0,
              "#0d0887"
             ],
             [
              0.1111111111111111,
              "#46039f"
             ],
             [
              0.2222222222222222,
              "#7201a8"
             ],
             [
              0.3333333333333333,
              "#9c179e"
             ],
             [
              0.4444444444444444,
              "#bd3786"
             ],
             [
              0.5555555555555556,
              "#d8576b"
             ],
             [
              0.6666666666666666,
              "#ed7953"
             ],
             [
              0.7777777777777778,
              "#fb9f3a"
             ],
             [
              0.8888888888888888,
              "#fdca26"
             ],
             [
              1,
              "#f0f921"
             ]
            ],
            "type": "histogram2dcontour"
           }
          ],
          "mesh3d": [
           {
            "colorbar": {
             "outlinewidth": 0,
             "ticks": ""
            },
            "type": "mesh3d"
           }
          ],
          "parcoords": [
           {
            "line": {
             "colorbar": {
              "outlinewidth": 0,
              "ticks": ""
             }
            },
            "type": "parcoords"
           }
          ],
          "pie": [
           {
            "automargin": true,
            "type": "pie"
           }
          ],
          "scatter": [
           {
            "fillpattern": {
             "fillmode": "overlay",
             "size": 10,
             "solidity": 0.2
            },
            "type": "scatter"
           }
          ],
          "scatter3d": [
           {
            "line": {
             "colorbar": {
              "outlinewidth": 0,
              "ticks": ""
             }
            },
            "marker": {
             "colorbar": {
              "outlinewidth": 0,
              "ticks": ""
             }
            },
            "type": "scatter3d"
           }
          ],
          "scattercarpet": [
           {
            "marker": {
             "colorbar": {
              "outlinewidth": 0,
              "ticks": ""
             }
            },
            "type": "scattercarpet"
           }
          ],
          "scattergeo": [
           {
            "marker": {
             "colorbar": {
              "outlinewidth": 0,
              "ticks": ""
             }
            },
            "type": "scattergeo"
           }
          ],
          "scattergl": [
           {
            "marker": {
             "colorbar": {
              "outlinewidth": 0,
              "ticks": ""
             }
            },
            "type": "scattergl"
           }
          ],
          "scattermapbox": [
           {
            "marker": {
             "colorbar": {
              "outlinewidth": 0,
              "ticks": ""
             }
            },
            "type": "scattermapbox"
           }
          ],
          "scatterpolar": [
           {
            "marker": {
             "colorbar": {
              "outlinewidth": 0,
              "ticks": ""
             }
            },
            "type": "scatterpolar"
           }
          ],
          "scatterpolargl": [
           {
            "marker": {
             "colorbar": {
              "outlinewidth": 0,
              "ticks": ""
             }
            },
            "type": "scatterpolargl"
           }
          ],
          "scatterternary": [
           {
            "marker": {
             "colorbar": {
              "outlinewidth": 0,
              "ticks": ""
             }
            },
            "type": "scatterternary"
           }
          ],
          "surface": [
           {
            "colorbar": {
             "outlinewidth": 0,
             "ticks": ""
            },
            "colorscale": [
             [
              0,
              "#0d0887"
             ],
             [
              0.1111111111111111,
              "#46039f"
             ],
             [
              0.2222222222222222,
              "#7201a8"
             ],
             [
              0.3333333333333333,
              "#9c179e"
             ],
             [
              0.4444444444444444,
              "#bd3786"
             ],
             [
              0.5555555555555556,
              "#d8576b"
             ],
             [
              0.6666666666666666,
              "#ed7953"
             ],
             [
              0.7777777777777778,
              "#fb9f3a"
             ],
             [
              0.8888888888888888,
              "#fdca26"
             ],
             [
              1,
              "#f0f921"
             ]
            ],
            "type": "surface"
           }
          ],
          "table": [
           {
            "cells": {
             "fill": {
              "color": "#EBF0F8"
             },
             "line": {
              "color": "white"
             }
            },
            "header": {
             "fill": {
              "color": "#C8D4E3"
             },
             "line": {
              "color": "white"
             }
            },
            "type": "table"
           }
          ]
         },
         "layout": {
          "annotationdefaults": {
           "arrowcolor": "#2a3f5f",
           "arrowhead": 0,
           "arrowwidth": 1
          },
          "autotypenumbers": "strict",
          "coloraxis": {
           "colorbar": {
            "outlinewidth": 0,
            "ticks": ""
           }
          },
          "colorscale": {
           "diverging": [
            [
             0,
             "#8e0152"
            ],
            [
             0.1,
             "#c51b7d"
            ],
            [
             0.2,
             "#de77ae"
            ],
            [
             0.3,
             "#f1b6da"
            ],
            [
             0.4,
             "#fde0ef"
            ],
            [
             0.5,
             "#f7f7f7"
            ],
            [
             0.6,
             "#e6f5d0"
            ],
            [
             0.7,
             "#b8e186"
            ],
            [
             0.8,
             "#7fbc41"
            ],
            [
             0.9,
             "#4d9221"
            ],
            [
             1,
             "#276419"
            ]
           ],
           "sequential": [
            [
             0,
             "#0d0887"
            ],
            [
             0.1111111111111111,
             "#46039f"
            ],
            [
             0.2222222222222222,
             "#7201a8"
            ],
            [
             0.3333333333333333,
             "#9c179e"
            ],
            [
             0.4444444444444444,
             "#bd3786"
            ],
            [
             0.5555555555555556,
             "#d8576b"
            ],
            [
             0.6666666666666666,
             "#ed7953"
            ],
            [
             0.7777777777777778,
             "#fb9f3a"
            ],
            [
             0.8888888888888888,
             "#fdca26"
            ],
            [
             1,
             "#f0f921"
            ]
           ],
           "sequentialminus": [
            [
             0,
             "#0d0887"
            ],
            [
             0.1111111111111111,
             "#46039f"
            ],
            [
             0.2222222222222222,
             "#7201a8"
            ],
            [
             0.3333333333333333,
             "#9c179e"
            ],
            [
             0.4444444444444444,
             "#bd3786"
            ],
            [
             0.5555555555555556,
             "#d8576b"
            ],
            [
             0.6666666666666666,
             "#ed7953"
            ],
            [
             0.7777777777777778,
             "#fb9f3a"
            ],
            [
             0.8888888888888888,
             "#fdca26"
            ],
            [
             1,
             "#f0f921"
            ]
           ]
          },
          "colorway": [
           "#636efa",
           "#EF553B",
           "#00cc96",
           "#ab63fa",
           "#FFA15A",
           "#19d3f3",
           "#FF6692",
           "#B6E880",
           "#FF97FF",
           "#FECB52"
          ],
          "font": {
           "color": "#2a3f5f"
          },
          "geo": {
           "bgcolor": "white",
           "lakecolor": "white",
           "landcolor": "#E5ECF6",
           "showlakes": true,
           "showland": true,
           "subunitcolor": "white"
          },
          "hoverlabel": {
           "align": "left"
          },
          "hovermode": "closest",
          "mapbox": {
           "style": "light"
          },
          "paper_bgcolor": "white",
          "plot_bgcolor": "#E5ECF6",
          "polar": {
           "angularaxis": {
            "gridcolor": "white",
            "linecolor": "white",
            "ticks": ""
           },
           "bgcolor": "#E5ECF6",
           "radialaxis": {
            "gridcolor": "white",
            "linecolor": "white",
            "ticks": ""
           }
          },
          "scene": {
           "xaxis": {
            "backgroundcolor": "#E5ECF6",
            "gridcolor": "white",
            "gridwidth": 2,
            "linecolor": "white",
            "showbackground": true,
            "ticks": "",
            "zerolinecolor": "white"
           },
           "yaxis": {
            "backgroundcolor": "#E5ECF6",
            "gridcolor": "white",
            "gridwidth": 2,
            "linecolor": "white",
            "showbackground": true,
            "ticks": "",
            "zerolinecolor": "white"
           },
           "zaxis": {
            "backgroundcolor": "#E5ECF6",
            "gridcolor": "white",
            "gridwidth": 2,
            "linecolor": "white",
            "showbackground": true,
            "ticks": "",
            "zerolinecolor": "white"
           }
          },
          "shapedefaults": {
           "line": {
            "color": "#2a3f5f"
           }
          },
          "ternary": {
           "aaxis": {
            "gridcolor": "white",
            "linecolor": "white",
            "ticks": ""
           },
           "baxis": {
            "gridcolor": "white",
            "linecolor": "white",
            "ticks": ""
           },
           "bgcolor": "#E5ECF6",
           "caxis": {
            "gridcolor": "white",
            "linecolor": "white",
            "ticks": ""
           }
          },
          "title": {
           "x": 0.05
          },
          "xaxis": {
           "automargin": true,
           "gridcolor": "white",
           "linecolor": "white",
           "ticks": "",
           "title": {
            "standoff": 15
           },
           "zerolinecolor": "white",
           "zerolinewidth": 2
          },
          "yaxis": {
           "automargin": true,
           "gridcolor": "white",
           "linecolor": "white",
           "ticks": "",
           "title": {
            "standoff": 15
           },
           "zerolinecolor": "white",
           "zerolinewidth": 2
          }
         }
        },
        "xaxis": {
         "anchor": "y",
         "domain": [
          0,
          0.7363
         ],
         "title": {
          "text": "eventF1"
         }
        },
        "xaxis2": {
         "anchor": "y2",
         "domain": [
          0.7413,
          1
         ],
         "matches": "x2",
         "showgrid": true,
         "showline": false,
         "showticklabels": false,
         "ticks": ""
        },
        "yaxis": {
         "anchor": "x",
         "domain": [
          0,
          1
         ],
         "title": {
          "text": "eventPrecision"
         }
        },
        "yaxis2": {
         "anchor": "x2",
         "domain": [
          0,
          1
         ],
         "matches": "y",
         "showgrid": true,
         "showticklabels": false
        }
       }
      }
     },
     "metadata": {},
     "output_type": "display_data"
    }
   ],
   "source": [
    "fig=px.scatter(experimentModels_N2,x='eventF1',y='eventPrecision',color='test',hover_name='modelId', marginal_y=\"histogram\")\n",
    "fig.add_trace(\n",
    "    go.Scatter(x=experimentModels_N2['eventF1'], y=experimentModels_N2['eventF1'], name=\"identity\", mode='lines',fill=\"toself\")\n",
    ")\n",
    "fig.show()"
   ]
  },
  {
   "cell_type": "code",
   "execution_count": 35,
   "metadata": {},
   "outputs": [
    {
     "data": {
      "application/vnd.plotly.v1+json": {
       "config": {
        "plotlyServerURL": "https://plot.ly"
       },
       "data": [
        {
         "hovertemplate": "<b>%{hovertext}</b><br><br>test=0001<br>eventF1=%{x}<br>eventRecall=%{y}<extra></extra>",
         "hovertext": [
          "aa11eb61-61e6-41e2-94d5-a4833e9b8d9d"
         ],
         "legendgroup": "0001",
         "marker": {
          "color": "#636efa",
          "symbol": "circle"
         },
         "mode": "markers",
         "name": "0001",
         "orientation": "v",
         "showlegend": true,
         "type": "scatter",
         "x": [
          0.7287639132981839
         ],
         "xaxis": "x",
         "y": [
          0.5957854406130269
         ],
         "yaxis": "y"
        },
        {
         "alignmentgroup": "True",
         "bingroup": "y",
         "hovertemplate": "test=0001<br>eventRecall=%{y}<br>count=%{x}<extra></extra>",
         "legendgroup": "0001",
         "marker": {
          "color": "#636efa"
         },
         "name": "0001",
         "offsetgroup": "0001",
         "opacity": 0.5,
         "showlegend": false,
         "type": "histogram",
         "xaxis": "x2",
         "y": [
          0.5957854406130269
         ],
         "yaxis": "y2"
        },
        {
         "hovertemplate": "<b>%{hovertext}</b><br><br>test=0002<br>eventF1=%{x}<br>eventRecall=%{y}<extra></extra>",
         "hovertext": [
          "56daf263-9a04-44a8-a967-ed222c84ae8c"
         ],
         "legendgroup": "0002",
         "marker": {
          "color": "#EF553B",
          "symbol": "circle"
         },
         "mode": "markers",
         "name": "0002",
         "orientation": "v",
         "showlegend": true,
         "type": "scatter",
         "x": [
          0.8098159509202454
         ],
         "xaxis": "x",
         "y": [
          0.8910891089108911
         ],
         "yaxis": "y"
        },
        {
         "alignmentgroup": "True",
         "bingroup": "y",
         "hovertemplate": "test=0002<br>eventRecall=%{y}<br>count=%{x}<extra></extra>",
         "legendgroup": "0002",
         "marker": {
          "color": "#EF553B"
         },
         "name": "0002",
         "offsetgroup": "0002",
         "opacity": 0.5,
         "showlegend": false,
         "type": "histogram",
         "xaxis": "x2",
         "y": [
          0.8910891089108911
         ],
         "yaxis": "y2"
        },
        {
         "hovertemplate": "<b>%{hovertext}</b><br><br>test=0003<br>eventF1=%{x}<br>eventRecall=%{y}<extra></extra>",
         "hovertext": [
          "983f3902-7ddc-4ab2-93e7-4da2577f8b4b"
         ],
         "legendgroup": "0003",
         "marker": {
          "color": "#00cc96",
          "symbol": "circle"
         },
         "mode": "markers",
         "name": "0003",
         "orientation": "v",
         "showlegend": true,
         "type": "scatter",
         "x": [
          0.7082152974504249
         ],
         "xaxis": "x",
         "y": [
          0.8741258741258742
         ],
         "yaxis": "y"
        },
        {
         "alignmentgroup": "True",
         "bingroup": "y",
         "hovertemplate": "test=0003<br>eventRecall=%{y}<br>count=%{x}<extra></extra>",
         "legendgroup": "0003",
         "marker": {
          "color": "#00cc96"
         },
         "name": "0003",
         "offsetgroup": "0003",
         "opacity": 0.5,
         "showlegend": false,
         "type": "histogram",
         "xaxis": "x2",
         "y": [
          0.8741258741258742
         ],
         "yaxis": "y2"
        },
        {
         "hovertemplate": "<b>%{hovertext}</b><br><br>test=0005<br>eventF1=%{x}<br>eventRecall=%{y}<extra></extra>",
         "hovertext": [
          "c0eba1b0-cd60-4e9e-ab7f-71131a829c7e"
         ],
         "legendgroup": "0005",
         "marker": {
          "color": "#ab63fa",
          "symbol": "circle"
         },
         "mode": "markers",
         "name": "0005",
         "orientation": "v",
         "showlegend": true,
         "type": "scatter",
         "x": [
          0.6607734806629835
         ],
         "xaxis": "x",
         "y": [
          0.8768328445747801
         ],
         "yaxis": "y"
        },
        {
         "alignmentgroup": "True",
         "bingroup": "y",
         "hovertemplate": "test=0005<br>eventRecall=%{y}<br>count=%{x}<extra></extra>",
         "legendgroup": "0005",
         "marker": {
          "color": "#ab63fa"
         },
         "name": "0005",
         "offsetgroup": "0005",
         "opacity": 0.5,
         "showlegend": false,
         "type": "histogram",
         "xaxis": "x2",
         "y": [
          0.8768328445747801
         ],
         "yaxis": "y2"
        },
        {
         "hovertemplate": "<b>%{hovertext}</b><br><br>test=0006<br>eventF1=%{x}<br>eventRecall=%{y}<extra></extra>",
         "hovertext": [
          "d7cf3254-9d32-4e20-a23e-3cdcd3107eaa"
         ],
         "legendgroup": "0006",
         "marker": {
          "color": "#FFA15A",
          "symbol": "circle"
         },
         "mode": "markers",
         "name": "0006",
         "orientation": "v",
         "showlegend": true,
         "type": "scatter",
         "x": [
          0.7207792207792207
         ],
         "xaxis": "x",
         "y": [
          0.74
         ],
         "yaxis": "y"
        },
        {
         "alignmentgroup": "True",
         "bingroup": "y",
         "hovertemplate": "test=0006<br>eventRecall=%{y}<br>count=%{x}<extra></extra>",
         "legendgroup": "0006",
         "marker": {
          "color": "#FFA15A"
         },
         "name": "0006",
         "offsetgroup": "0006",
         "opacity": 0.5,
         "showlegend": false,
         "type": "histogram",
         "xaxis": "x2",
         "y": [
          0.74
         ],
         "yaxis": "y2"
        },
        {
         "hovertemplate": "<b>%{hovertext}</b><br><br>test=0007<br>eventF1=%{x}<br>eventRecall=%{y}<extra></extra>",
         "hovertext": [
          "4f832318-c477-4835-acd3-7ec40944edd3"
         ],
         "legendgroup": "0007",
         "marker": {
          "color": "#19d3f3",
          "symbol": "circle"
         },
         "mode": "markers",
         "name": "0007",
         "orientation": "v",
         "showlegend": true,
         "type": "scatter",
         "x": [
          0.7241222070223439
         ],
         "xaxis": "x",
         "y": [
          0.8706140350877193
         ],
         "yaxis": "y"
        },
        {
         "alignmentgroup": "True",
         "bingroup": "y",
         "hovertemplate": "test=0007<br>eventRecall=%{y}<br>count=%{x}<extra></extra>",
         "legendgroup": "0007",
         "marker": {
          "color": "#19d3f3"
         },
         "name": "0007",
         "offsetgroup": "0007",
         "opacity": 0.5,
         "showlegend": false,
         "type": "histogram",
         "xaxis": "x2",
         "y": [
          0.8706140350877193
         ],
         "yaxis": "y2"
        },
        {
         "hovertemplate": "<b>%{hovertext}</b><br><br>test=0009<br>eventF1=%{x}<br>eventRecall=%{y}<extra></extra>",
         "hovertext": [
          "15e578bc-6917-4cef-a16a-bade7c0b0676"
         ],
         "legendgroup": "0009",
         "marker": {
          "color": "#FF6692",
          "symbol": "circle"
         },
         "mode": "markers",
         "name": "0009",
         "orientation": "v",
         "showlegend": true,
         "type": "scatter",
         "x": [
          0.8157894736842105
         ],
         "xaxis": "x",
         "y": [
          0.7997542997542998
         ],
         "yaxis": "y"
        },
        {
         "alignmentgroup": "True",
         "bingroup": "y",
         "hovertemplate": "test=0009<br>eventRecall=%{y}<br>count=%{x}<extra></extra>",
         "legendgroup": "0009",
         "marker": {
          "color": "#FF6692"
         },
         "name": "0009",
         "offsetgroup": "0009",
         "opacity": 0.5,
         "showlegend": false,
         "type": "histogram",
         "xaxis": "x2",
         "y": [
          0.7997542997542998
         ],
         "yaxis": "y2"
        },
        {
         "hovertemplate": "<b>%{hovertext}</b><br><br>test=0010<br>eventF1=%{x}<br>eventRecall=%{y}<extra></extra>",
         "hovertext": [
          "7e1fcff0-30f4-4f29-90d4-f7171b7700cf"
         ],
         "legendgroup": "0010",
         "marker": {
          "color": "#B6E880",
          "symbol": "circle"
         },
         "mode": "markers",
         "name": "0010",
         "orientation": "v",
         "showlegend": true,
         "type": "scatter",
         "x": [
          0.8301997649823737
         ],
         "xaxis": "x",
         "y": [
          0.889308176100629
         ],
         "yaxis": "y"
        },
        {
         "alignmentgroup": "True",
         "bingroup": "y",
         "hovertemplate": "test=0010<br>eventRecall=%{y}<br>count=%{x}<extra></extra>",
         "legendgroup": "0010",
         "marker": {
          "color": "#B6E880"
         },
         "name": "0010",
         "offsetgroup": "0010",
         "opacity": 0.5,
         "showlegend": false,
         "type": "histogram",
         "xaxis": "x2",
         "y": [
          0.889308176100629
         ],
         "yaxis": "y2"
        },
        {
         "hovertemplate": "<b>%{hovertext}</b><br><br>test=0011<br>eventF1=%{x}<br>eventRecall=%{y}<extra></extra>",
         "hovertext": [
          "0f783e82-ff7a-4204-9e47-55e534671311"
         ],
         "legendgroup": "0011",
         "marker": {
          "color": "#FF97FF",
          "symbol": "circle"
         },
         "mode": "markers",
         "name": "0011",
         "orientation": "v",
         "showlegend": true,
         "type": "scatter",
         "x": [
          0.6894259818731118
         ],
         "xaxis": "x",
         "y": [
          0.9595959595959596
         ],
         "yaxis": "y"
        },
        {
         "alignmentgroup": "True",
         "bingroup": "y",
         "hovertemplate": "test=0011<br>eventRecall=%{y}<br>count=%{x}<extra></extra>",
         "legendgroup": "0011",
         "marker": {
          "color": "#FF97FF"
         },
         "name": "0011",
         "offsetgroup": "0011",
         "opacity": 0.5,
         "showlegend": false,
         "type": "histogram",
         "xaxis": "x2",
         "y": [
          0.9595959595959596
         ],
         "yaxis": "y2"
        },
        {
         "hovertemplate": "<b>%{hovertext}</b><br><br>test=0012<br>eventF1=%{x}<br>eventRecall=%{y}<extra></extra>",
         "hovertext": [
          "99bfe384-9dde-485c-8233-eb9370c0bdbf"
         ],
         "legendgroup": "0012",
         "marker": {
          "color": "#FECB52",
          "symbol": "circle"
         },
         "mode": "markers",
         "name": "0012",
         "orientation": "v",
         "showlegend": true,
         "type": "scatter",
         "x": [
          0.7701767870868562
         ],
         "xaxis": "x",
         "y": [
          0.7086280056577087
         ],
         "yaxis": "y"
        },
        {
         "alignmentgroup": "True",
         "bingroup": "y",
         "hovertemplate": "test=0012<br>eventRecall=%{y}<br>count=%{x}<extra></extra>",
         "legendgroup": "0012",
         "marker": {
          "color": "#FECB52"
         },
         "name": "0012",
         "offsetgroup": "0012",
         "opacity": 0.5,
         "showlegend": false,
         "type": "histogram",
         "xaxis": "x2",
         "y": [
          0.7086280056577087
         ],
         "yaxis": "y2"
        },
        {
         "hovertemplate": "<b>%{hovertext}</b><br><br>test=0013<br>eventF1=%{x}<br>eventRecall=%{y}<extra></extra>",
         "hovertext": [
          "63e51dd9-118d-496b-8b4d-c0fd4db3d962"
         ],
         "legendgroup": "0013",
         "marker": {
          "color": "#636efa",
          "symbol": "circle"
         },
         "mode": "markers",
         "name": "0013",
         "orientation": "v",
         "showlegend": true,
         "type": "scatter",
         "x": [
          0.7145178764897074
         ],
         "xaxis": "x",
         "y": [
          0.9455587392550143
         ],
         "yaxis": "y"
        },
        {
         "alignmentgroup": "True",
         "bingroup": "y",
         "hovertemplate": "test=0013<br>eventRecall=%{y}<br>count=%{x}<extra></extra>",
         "legendgroup": "0013",
         "marker": {
          "color": "#636efa"
         },
         "name": "0013",
         "offsetgroup": "0013",
         "opacity": 0.5,
         "showlegend": false,
         "type": "histogram",
         "xaxis": "x2",
         "y": [
          0.9455587392550143
         ],
         "yaxis": "y2"
        },
        {
         "hovertemplate": "<b>%{hovertext}</b><br><br>test=0014<br>eventF1=%{x}<br>eventRecall=%{y}<extra></extra>",
         "hovertext": [
          "1665dd00-eb54-47cb-843d-f21453d9790d"
         ],
         "legendgroup": "0014",
         "marker": {
          "color": "#EF553B",
          "symbol": "circle"
         },
         "mode": "markers",
         "name": "0014",
         "orientation": "v",
         "showlegend": true,
         "type": "scatter",
         "x": [
          0.6259090909090909
         ],
         "xaxis": "x",
         "y": [
          0.9705056179775281
         ],
         "yaxis": "y"
        },
        {
         "alignmentgroup": "True",
         "bingroup": "y",
         "hovertemplate": "test=0014<br>eventRecall=%{y}<br>count=%{x}<extra></extra>",
         "legendgroup": "0014",
         "marker": {
          "color": "#EF553B"
         },
         "name": "0014",
         "offsetgroup": "0014",
         "opacity": 0.5,
         "showlegend": false,
         "type": "histogram",
         "xaxis": "x2",
         "y": [
          0.9705056179775281
         ],
         "yaxis": "y2"
        },
        {
         "hovertemplate": "<b>%{hovertext}</b><br><br>test=0017<br>eventF1=%{x}<br>eventRecall=%{y}<extra></extra>",
         "hovertext": [
          "263de413-4128-436e-b8a1-0bb7ad600f90"
         ],
         "legendgroup": "0017",
         "marker": {
          "color": "#00cc96",
          "symbol": "circle"
         },
         "mode": "markers",
         "name": "0017",
         "orientation": "v",
         "showlegend": true,
         "type": "scatter",
         "x": [
          0.776878612716763
         ],
         "xaxis": "x",
         "y": [
          0.7148936170212766
         ],
         "yaxis": "y"
        },
        {
         "alignmentgroup": "True",
         "bingroup": "y",
         "hovertemplate": "test=0017<br>eventRecall=%{y}<br>count=%{x}<extra></extra>",
         "legendgroup": "0017",
         "marker": {
          "color": "#00cc96"
         },
         "name": "0017",
         "offsetgroup": "0017",
         "opacity": 0.5,
         "showlegend": false,
         "type": "histogram",
         "xaxis": "x2",
         "y": [
          0.7148936170212766
         ],
         "yaxis": "y2"
        },
        {
         "hovertemplate": "<b>%{hovertext}</b><br><br>test=0018<br>eventF1=%{x}<br>eventRecall=%{y}<extra></extra>",
         "hovertext": [
          "d666c68e-f0ca-4f31-b8f4-f0495ee86bc1"
         ],
         "legendgroup": "0018",
         "marker": {
          "color": "#ab63fa",
          "symbol": "circle"
         },
         "mode": "markers",
         "name": "0018",
         "orientation": "v",
         "showlegend": true,
         "type": "scatter",
         "x": [
          0.7587529976019185
         ],
         "xaxis": "x",
         "y": [
          0.679553264604811
         ],
         "yaxis": "y"
        },
        {
         "alignmentgroup": "True",
         "bingroup": "y",
         "hovertemplate": "test=0018<br>eventRecall=%{y}<br>count=%{x}<extra></extra>",
         "legendgroup": "0018",
         "marker": {
          "color": "#ab63fa"
         },
         "name": "0018",
         "offsetgroup": "0018",
         "opacity": 0.5,
         "showlegend": false,
         "type": "histogram",
         "xaxis": "x2",
         "y": [
          0.679553264604811
         ],
         "yaxis": "y2"
        },
        {
         "hovertemplate": "<b>%{hovertext}</b><br><br>test=0019<br>eventF1=%{x}<br>eventRecall=%{y}<extra></extra>",
         "hovertext": [
          "d88629a4-c108-44c5-9c1b-4008bdd78400"
         ],
         "legendgroup": "0019",
         "marker": {
          "color": "#FFA15A",
          "symbol": "circle"
         },
         "mode": "markers",
         "name": "0019",
         "orientation": "v",
         "showlegend": true,
         "type": "scatter",
         "x": [
          0.5354330708661418
         ],
         "xaxis": "x",
         "y": [
          0.9935064935064936
         ],
         "yaxis": "y"
        },
        {
         "alignmentgroup": "True",
         "bingroup": "y",
         "hovertemplate": "test=0019<br>eventRecall=%{y}<br>count=%{x}<extra></extra>",
         "legendgroup": "0019",
         "marker": {
          "color": "#FFA15A"
         },
         "name": "0019",
         "offsetgroup": "0019",
         "opacity": 0.5,
         "showlegend": false,
         "type": "histogram",
         "xaxis": "x2",
         "y": [
          0.9935064935064936
         ],
         "yaxis": "y2"
        },
        {
         "fill": "toself",
         "mode": "lines",
         "name": "identity",
         "type": "scatter",
         "x": [
          0.7287639132981839,
          0.8098159509202454,
          0.7082152974504249,
          0.6607734806629835,
          0.7207792207792207,
          0.7241222070223439,
          0.8157894736842105,
          0.8301997649823737,
          0.6894259818731118,
          0.7701767870868562,
          0.7145178764897074,
          0.6259090909090909,
          0.776878612716763,
          0.7587529976019185,
          0.5354330708661418
         ],
         "y": [
          0.7287639132981839,
          0.8098159509202454,
          0.7082152974504249,
          0.6607734806629835,
          0.7207792207792207,
          0.7241222070223439,
          0.8157894736842105,
          0.8301997649823737,
          0.6894259818731118,
          0.7701767870868562,
          0.7145178764897074,
          0.6259090909090909,
          0.776878612716763,
          0.7587529976019185,
          0.5354330708661418
         ]
        }
       ],
       "layout": {
        "barmode": "overlay",
        "legend": {
         "title": {
          "text": "test"
         },
         "tracegroupgap": 0
        },
        "margin": {
         "t": 60
        },
        "template": {
         "data": {
          "bar": [
           {
            "error_x": {
             "color": "#2a3f5f"
            },
            "error_y": {
             "color": "#2a3f5f"
            },
            "marker": {
             "line": {
              "color": "#E5ECF6",
              "width": 0.5
             },
             "pattern": {
              "fillmode": "overlay",
              "size": 10,
              "solidity": 0.2
             }
            },
            "type": "bar"
           }
          ],
          "barpolar": [
           {
            "marker": {
             "line": {
              "color": "#E5ECF6",
              "width": 0.5
             },
             "pattern": {
              "fillmode": "overlay",
              "size": 10,
              "solidity": 0.2
             }
            },
            "type": "barpolar"
           }
          ],
          "carpet": [
           {
            "aaxis": {
             "endlinecolor": "#2a3f5f",
             "gridcolor": "white",
             "linecolor": "white",
             "minorgridcolor": "white",
             "startlinecolor": "#2a3f5f"
            },
            "baxis": {
             "endlinecolor": "#2a3f5f",
             "gridcolor": "white",
             "linecolor": "white",
             "minorgridcolor": "white",
             "startlinecolor": "#2a3f5f"
            },
            "type": "carpet"
           }
          ],
          "choropleth": [
           {
            "colorbar": {
             "outlinewidth": 0,
             "ticks": ""
            },
            "type": "choropleth"
           }
          ],
          "contour": [
           {
            "colorbar": {
             "outlinewidth": 0,
             "ticks": ""
            },
            "colorscale": [
             [
              0,
              "#0d0887"
             ],
             [
              0.1111111111111111,
              "#46039f"
             ],
             [
              0.2222222222222222,
              "#7201a8"
             ],
             [
              0.3333333333333333,
              "#9c179e"
             ],
             [
              0.4444444444444444,
              "#bd3786"
             ],
             [
              0.5555555555555556,
              "#d8576b"
             ],
             [
              0.6666666666666666,
              "#ed7953"
             ],
             [
              0.7777777777777778,
              "#fb9f3a"
             ],
             [
              0.8888888888888888,
              "#fdca26"
             ],
             [
              1,
              "#f0f921"
             ]
            ],
            "type": "contour"
           }
          ],
          "contourcarpet": [
           {
            "colorbar": {
             "outlinewidth": 0,
             "ticks": ""
            },
            "type": "contourcarpet"
           }
          ],
          "heatmap": [
           {
            "colorbar": {
             "outlinewidth": 0,
             "ticks": ""
            },
            "colorscale": [
             [
              0,
              "#0d0887"
             ],
             [
              0.1111111111111111,
              "#46039f"
             ],
             [
              0.2222222222222222,
              "#7201a8"
             ],
             [
              0.3333333333333333,
              "#9c179e"
             ],
             [
              0.4444444444444444,
              "#bd3786"
             ],
             [
              0.5555555555555556,
              "#d8576b"
             ],
             [
              0.6666666666666666,
              "#ed7953"
             ],
             [
              0.7777777777777778,
              "#fb9f3a"
             ],
             [
              0.8888888888888888,
              "#fdca26"
             ],
             [
              1,
              "#f0f921"
             ]
            ],
            "type": "heatmap"
           }
          ],
          "heatmapgl": [
           {
            "colorbar": {
             "outlinewidth": 0,
             "ticks": ""
            },
            "colorscale": [
             [
              0,
              "#0d0887"
             ],
             [
              0.1111111111111111,
              "#46039f"
             ],
             [
              0.2222222222222222,
              "#7201a8"
             ],
             [
              0.3333333333333333,
              "#9c179e"
             ],
             [
              0.4444444444444444,
              "#bd3786"
             ],
             [
              0.5555555555555556,
              "#d8576b"
             ],
             [
              0.6666666666666666,
              "#ed7953"
             ],
             [
              0.7777777777777778,
              "#fb9f3a"
             ],
             [
              0.8888888888888888,
              "#fdca26"
             ],
             [
              1,
              "#f0f921"
             ]
            ],
            "type": "heatmapgl"
           }
          ],
          "histogram": [
           {
            "marker": {
             "pattern": {
              "fillmode": "overlay",
              "size": 10,
              "solidity": 0.2
             }
            },
            "type": "histogram"
           }
          ],
          "histogram2d": [
           {
            "colorbar": {
             "outlinewidth": 0,
             "ticks": ""
            },
            "colorscale": [
             [
              0,
              "#0d0887"
             ],
             [
              0.1111111111111111,
              "#46039f"
             ],
             [
              0.2222222222222222,
              "#7201a8"
             ],
             [
              0.3333333333333333,
              "#9c179e"
             ],
             [
              0.4444444444444444,
              "#bd3786"
             ],
             [
              0.5555555555555556,
              "#d8576b"
             ],
             [
              0.6666666666666666,
              "#ed7953"
             ],
             [
              0.7777777777777778,
              "#fb9f3a"
             ],
             [
              0.8888888888888888,
              "#fdca26"
             ],
             [
              1,
              "#f0f921"
             ]
            ],
            "type": "histogram2d"
           }
          ],
          "histogram2dcontour": [
           {
            "colorbar": {
             "outlinewidth": 0,
             "ticks": ""
            },
            "colorscale": [
             [
              0,
              "#0d0887"
             ],
             [
              0.1111111111111111,
              "#46039f"
             ],
             [
              0.2222222222222222,
              "#7201a8"
             ],
             [
              0.3333333333333333,
              "#9c179e"
             ],
             [
              0.4444444444444444,
              "#bd3786"
             ],
             [
              0.5555555555555556,
              "#d8576b"
             ],
             [
              0.6666666666666666,
              "#ed7953"
             ],
             [
              0.7777777777777778,
              "#fb9f3a"
             ],
             [
              0.8888888888888888,
              "#fdca26"
             ],
             [
              1,
              "#f0f921"
             ]
            ],
            "type": "histogram2dcontour"
           }
          ],
          "mesh3d": [
           {
            "colorbar": {
             "outlinewidth": 0,
             "ticks": ""
            },
            "type": "mesh3d"
           }
          ],
          "parcoords": [
           {
            "line": {
             "colorbar": {
              "outlinewidth": 0,
              "ticks": ""
             }
            },
            "type": "parcoords"
           }
          ],
          "pie": [
           {
            "automargin": true,
            "type": "pie"
           }
          ],
          "scatter": [
           {
            "fillpattern": {
             "fillmode": "overlay",
             "size": 10,
             "solidity": 0.2
            },
            "type": "scatter"
           }
          ],
          "scatter3d": [
           {
            "line": {
             "colorbar": {
              "outlinewidth": 0,
              "ticks": ""
             }
            },
            "marker": {
             "colorbar": {
              "outlinewidth": 0,
              "ticks": ""
             }
            },
            "type": "scatter3d"
           }
          ],
          "scattercarpet": [
           {
            "marker": {
             "colorbar": {
              "outlinewidth": 0,
              "ticks": ""
             }
            },
            "type": "scattercarpet"
           }
          ],
          "scattergeo": [
           {
            "marker": {
             "colorbar": {
              "outlinewidth": 0,
              "ticks": ""
             }
            },
            "type": "scattergeo"
           }
          ],
          "scattergl": [
           {
            "marker": {
             "colorbar": {
              "outlinewidth": 0,
              "ticks": ""
             }
            },
            "type": "scattergl"
           }
          ],
          "scattermapbox": [
           {
            "marker": {
             "colorbar": {
              "outlinewidth": 0,
              "ticks": ""
             }
            },
            "type": "scattermapbox"
           }
          ],
          "scatterpolar": [
           {
            "marker": {
             "colorbar": {
              "outlinewidth": 0,
              "ticks": ""
             }
            },
            "type": "scatterpolar"
           }
          ],
          "scatterpolargl": [
           {
            "marker": {
             "colorbar": {
              "outlinewidth": 0,
              "ticks": ""
             }
            },
            "type": "scatterpolargl"
           }
          ],
          "scatterternary": [
           {
            "marker": {
             "colorbar": {
              "outlinewidth": 0,
              "ticks": ""
             }
            },
            "type": "scatterternary"
           }
          ],
          "surface": [
           {
            "colorbar": {
             "outlinewidth": 0,
             "ticks": ""
            },
            "colorscale": [
             [
              0,
              "#0d0887"
             ],
             [
              0.1111111111111111,
              "#46039f"
             ],
             [
              0.2222222222222222,
              "#7201a8"
             ],
             [
              0.3333333333333333,
              "#9c179e"
             ],
             [
              0.4444444444444444,
              "#bd3786"
             ],
             [
              0.5555555555555556,
              "#d8576b"
             ],
             [
              0.6666666666666666,
              "#ed7953"
             ],
             [
              0.7777777777777778,
              "#fb9f3a"
             ],
             [
              0.8888888888888888,
              "#fdca26"
             ],
             [
              1,
              "#f0f921"
             ]
            ],
            "type": "surface"
           }
          ],
          "table": [
           {
            "cells": {
             "fill": {
              "color": "#EBF0F8"
             },
             "line": {
              "color": "white"
             }
            },
            "header": {
             "fill": {
              "color": "#C8D4E3"
             },
             "line": {
              "color": "white"
             }
            },
            "type": "table"
           }
          ]
         },
         "layout": {
          "annotationdefaults": {
           "arrowcolor": "#2a3f5f",
           "arrowhead": 0,
           "arrowwidth": 1
          },
          "autotypenumbers": "strict",
          "coloraxis": {
           "colorbar": {
            "outlinewidth": 0,
            "ticks": ""
           }
          },
          "colorscale": {
           "diverging": [
            [
             0,
             "#8e0152"
            ],
            [
             0.1,
             "#c51b7d"
            ],
            [
             0.2,
             "#de77ae"
            ],
            [
             0.3,
             "#f1b6da"
            ],
            [
             0.4,
             "#fde0ef"
            ],
            [
             0.5,
             "#f7f7f7"
            ],
            [
             0.6,
             "#e6f5d0"
            ],
            [
             0.7,
             "#b8e186"
            ],
            [
             0.8,
             "#7fbc41"
            ],
            [
             0.9,
             "#4d9221"
            ],
            [
             1,
             "#276419"
            ]
           ],
           "sequential": [
            [
             0,
             "#0d0887"
            ],
            [
             0.1111111111111111,
             "#46039f"
            ],
            [
             0.2222222222222222,
             "#7201a8"
            ],
            [
             0.3333333333333333,
             "#9c179e"
            ],
            [
             0.4444444444444444,
             "#bd3786"
            ],
            [
             0.5555555555555556,
             "#d8576b"
            ],
            [
             0.6666666666666666,
             "#ed7953"
            ],
            [
             0.7777777777777778,
             "#fb9f3a"
            ],
            [
             0.8888888888888888,
             "#fdca26"
            ],
            [
             1,
             "#f0f921"
            ]
           ],
           "sequentialminus": [
            [
             0,
             "#0d0887"
            ],
            [
             0.1111111111111111,
             "#46039f"
            ],
            [
             0.2222222222222222,
             "#7201a8"
            ],
            [
             0.3333333333333333,
             "#9c179e"
            ],
            [
             0.4444444444444444,
             "#bd3786"
            ],
            [
             0.5555555555555556,
             "#d8576b"
            ],
            [
             0.6666666666666666,
             "#ed7953"
            ],
            [
             0.7777777777777778,
             "#fb9f3a"
            ],
            [
             0.8888888888888888,
             "#fdca26"
            ],
            [
             1,
             "#f0f921"
            ]
           ]
          },
          "colorway": [
           "#636efa",
           "#EF553B",
           "#00cc96",
           "#ab63fa",
           "#FFA15A",
           "#19d3f3",
           "#FF6692",
           "#B6E880",
           "#FF97FF",
           "#FECB52"
          ],
          "font": {
           "color": "#2a3f5f"
          },
          "geo": {
           "bgcolor": "white",
           "lakecolor": "white",
           "landcolor": "#E5ECF6",
           "showlakes": true,
           "showland": true,
           "subunitcolor": "white"
          },
          "hoverlabel": {
           "align": "left"
          },
          "hovermode": "closest",
          "mapbox": {
           "style": "light"
          },
          "paper_bgcolor": "white",
          "plot_bgcolor": "#E5ECF6",
          "polar": {
           "angularaxis": {
            "gridcolor": "white",
            "linecolor": "white",
            "ticks": ""
           },
           "bgcolor": "#E5ECF6",
           "radialaxis": {
            "gridcolor": "white",
            "linecolor": "white",
            "ticks": ""
           }
          },
          "scene": {
           "xaxis": {
            "backgroundcolor": "#E5ECF6",
            "gridcolor": "white",
            "gridwidth": 2,
            "linecolor": "white",
            "showbackground": true,
            "ticks": "",
            "zerolinecolor": "white"
           },
           "yaxis": {
            "backgroundcolor": "#E5ECF6",
            "gridcolor": "white",
            "gridwidth": 2,
            "linecolor": "white",
            "showbackground": true,
            "ticks": "",
            "zerolinecolor": "white"
           },
           "zaxis": {
            "backgroundcolor": "#E5ECF6",
            "gridcolor": "white",
            "gridwidth": 2,
            "linecolor": "white",
            "showbackground": true,
            "ticks": "",
            "zerolinecolor": "white"
           }
          },
          "shapedefaults": {
           "line": {
            "color": "#2a3f5f"
           }
          },
          "ternary": {
           "aaxis": {
            "gridcolor": "white",
            "linecolor": "white",
            "ticks": ""
           },
           "baxis": {
            "gridcolor": "white",
            "linecolor": "white",
            "ticks": ""
           },
           "bgcolor": "#E5ECF6",
           "caxis": {
            "gridcolor": "white",
            "linecolor": "white",
            "ticks": ""
           }
          },
          "title": {
           "x": 0.05
          },
          "xaxis": {
           "automargin": true,
           "gridcolor": "white",
           "linecolor": "white",
           "ticks": "",
           "title": {
            "standoff": 15
           },
           "zerolinecolor": "white",
           "zerolinewidth": 2
          },
          "yaxis": {
           "automargin": true,
           "gridcolor": "white",
           "linecolor": "white",
           "ticks": "",
           "title": {
            "standoff": 15
           },
           "zerolinecolor": "white",
           "zerolinewidth": 2
          }
         }
        },
        "xaxis": {
         "anchor": "y",
         "domain": [
          0,
          0.7363
         ],
         "title": {
          "text": "eventF1"
         }
        },
        "xaxis2": {
         "anchor": "y2",
         "domain": [
          0.7413,
          1
         ],
         "matches": "x2",
         "showgrid": true,
         "showline": false,
         "showticklabels": false,
         "ticks": ""
        },
        "yaxis": {
         "anchor": "x",
         "domain": [
          0,
          1
         ],
         "title": {
          "text": "eventRecall"
         }
        },
        "yaxis2": {
         "anchor": "x2",
         "domain": [
          0,
          1
         ],
         "matches": "y",
         "showgrid": true,
         "showticklabels": false
        }
       }
      }
     },
     "metadata": {},
     "output_type": "display_data"
    }
   ],
   "source": [
    "fig=px.scatter(experimentModels_N2,x='eventF1',y='eventRecall',color='test',hover_name='modelId', marginal_y=\"histogram\")\n",
    "fig.add_trace(\n",
    "    go.Scatter(x=experimentModels_N2['eventF1'], y=experimentModels_N2['eventF1'], name=\"identity\", mode='lines',fill=\"toself\")\n",
    ")\n",
    "fig.show()"
   ]
  },
  {
   "cell_type": "code",
   "execution_count": 36,
   "metadata": {},
   "outputs": [
    {
     "data": {
      "text/html": [
       "<div>\n",
       "<style scoped>\n",
       "    .dataframe tbody tr th:only-of-type {\n",
       "        vertical-align: middle;\n",
       "    }\n",
       "\n",
       "    .dataframe tbody tr th {\n",
       "        vertical-align: top;\n",
       "    }\n",
       "\n",
       "    .dataframe thead tr th {\n",
       "        text-align: left;\n",
       "    }\n",
       "\n",
       "    .dataframe thead tr:last-of-type th {\n",
       "        text-align: right;\n",
       "    }\n",
       "</style>\n",
       "<table border=\"1\" class=\"dataframe\">\n",
       "  <thead>\n",
       "    <tr>\n",
       "      <th></th>\n",
       "      <th colspan=\"6\" halign=\"left\">eventF1</th>\n",
       "      <th colspan=\"6\" halign=\"left\">eventPrecision</th>\n",
       "      <th colspan=\"6\" halign=\"left\">eventRecall</th>\n",
       "    </tr>\n",
       "    <tr>\n",
       "      <th></th>\n",
       "      <th>count</th>\n",
       "      <th>mean</th>\n",
       "      <th>std</th>\n",
       "      <th>min</th>\n",
       "      <th>50%</th>\n",
       "      <th>max</th>\n",
       "      <th>count</th>\n",
       "      <th>mean</th>\n",
       "      <th>std</th>\n",
       "      <th>min</th>\n",
       "      <th>50%</th>\n",
       "      <th>max</th>\n",
       "      <th>count</th>\n",
       "      <th>mean</th>\n",
       "      <th>std</th>\n",
       "      <th>min</th>\n",
       "      <th>50%</th>\n",
       "      <th>max</th>\n",
       "    </tr>\n",
       "    <tr>\n",
       "      <th>test</th>\n",
       "      <th></th>\n",
       "      <th></th>\n",
       "      <th></th>\n",
       "      <th></th>\n",
       "      <th></th>\n",
       "      <th></th>\n",
       "      <th></th>\n",
       "      <th></th>\n",
       "      <th></th>\n",
       "      <th></th>\n",
       "      <th></th>\n",
       "      <th></th>\n",
       "      <th></th>\n",
       "      <th></th>\n",
       "      <th></th>\n",
       "      <th></th>\n",
       "      <th></th>\n",
       "      <th></th>\n",
       "    </tr>\n",
       "  </thead>\n",
       "  <tbody>\n",
       "    <tr>\n",
       "      <th>0001</th>\n",
       "      <td>1.0</td>\n",
       "      <td>0.728764</td>\n",
       "      <td>NaN</td>\n",
       "      <td>0.728764</td>\n",
       "      <td>0.728764</td>\n",
       "      <td>0.728764</td>\n",
       "      <td>1.0</td>\n",
       "      <td>0.938160</td>\n",
       "      <td>NaN</td>\n",
       "      <td>0.938160</td>\n",
       "      <td>0.938160</td>\n",
       "      <td>0.938160</td>\n",
       "      <td>1.0</td>\n",
       "      <td>0.595785</td>\n",
       "      <td>NaN</td>\n",
       "      <td>0.595785</td>\n",
       "      <td>0.595785</td>\n",
       "      <td>0.595785</td>\n",
       "    </tr>\n",
       "    <tr>\n",
       "      <th>0002</th>\n",
       "      <td>1.0</td>\n",
       "      <td>0.809816</td>\n",
       "      <td>NaN</td>\n",
       "      <td>0.809816</td>\n",
       "      <td>0.809816</td>\n",
       "      <td>0.809816</td>\n",
       "      <td>1.0</td>\n",
       "      <td>0.742129</td>\n",
       "      <td>NaN</td>\n",
       "      <td>0.742129</td>\n",
       "      <td>0.742129</td>\n",
       "      <td>0.742129</td>\n",
       "      <td>1.0</td>\n",
       "      <td>0.891089</td>\n",
       "      <td>NaN</td>\n",
       "      <td>0.891089</td>\n",
       "      <td>0.891089</td>\n",
       "      <td>0.891089</td>\n",
       "    </tr>\n",
       "    <tr>\n",
       "      <th>0003</th>\n",
       "      <td>1.0</td>\n",
       "      <td>0.708215</td>\n",
       "      <td>NaN</td>\n",
       "      <td>0.708215</td>\n",
       "      <td>0.708215</td>\n",
       "      <td>0.708215</td>\n",
       "      <td>1.0</td>\n",
       "      <td>0.595238</td>\n",
       "      <td>NaN</td>\n",
       "      <td>0.595238</td>\n",
       "      <td>0.595238</td>\n",
       "      <td>0.595238</td>\n",
       "      <td>1.0</td>\n",
       "      <td>0.874126</td>\n",
       "      <td>NaN</td>\n",
       "      <td>0.874126</td>\n",
       "      <td>0.874126</td>\n",
       "      <td>0.874126</td>\n",
       "    </tr>\n",
       "    <tr>\n",
       "      <th>0005</th>\n",
       "      <td>1.0</td>\n",
       "      <td>0.660773</td>\n",
       "      <td>NaN</td>\n",
       "      <td>0.660773</td>\n",
       "      <td>0.660773</td>\n",
       "      <td>0.660773</td>\n",
       "      <td>1.0</td>\n",
       "      <td>0.530142</td>\n",
       "      <td>NaN</td>\n",
       "      <td>0.530142</td>\n",
       "      <td>0.530142</td>\n",
       "      <td>0.530142</td>\n",
       "      <td>1.0</td>\n",
       "      <td>0.876833</td>\n",
       "      <td>NaN</td>\n",
       "      <td>0.876833</td>\n",
       "      <td>0.876833</td>\n",
       "      <td>0.876833</td>\n",
       "    </tr>\n",
       "    <tr>\n",
       "      <th>0006</th>\n",
       "      <td>1.0</td>\n",
       "      <td>0.720779</td>\n",
       "      <td>NaN</td>\n",
       "      <td>0.720779</td>\n",
       "      <td>0.720779</td>\n",
       "      <td>0.720779</td>\n",
       "      <td>1.0</td>\n",
       "      <td>0.702532</td>\n",
       "      <td>NaN</td>\n",
       "      <td>0.702532</td>\n",
       "      <td>0.702532</td>\n",
       "      <td>0.702532</td>\n",
       "      <td>1.0</td>\n",
       "      <td>0.740000</td>\n",
       "      <td>NaN</td>\n",
       "      <td>0.740000</td>\n",
       "      <td>0.740000</td>\n",
       "      <td>0.740000</td>\n",
       "    </tr>\n",
       "    <tr>\n",
       "      <th>0007</th>\n",
       "      <td>1.0</td>\n",
       "      <td>0.724122</td>\n",
       "      <td>NaN</td>\n",
       "      <td>0.724122</td>\n",
       "      <td>0.724122</td>\n",
       "      <td>0.724122</td>\n",
       "      <td>1.0</td>\n",
       "      <td>0.619828</td>\n",
       "      <td>NaN</td>\n",
       "      <td>0.619828</td>\n",
       "      <td>0.619828</td>\n",
       "      <td>0.619828</td>\n",
       "      <td>1.0</td>\n",
       "      <td>0.870614</td>\n",
       "      <td>NaN</td>\n",
       "      <td>0.870614</td>\n",
       "      <td>0.870614</td>\n",
       "      <td>0.870614</td>\n",
       "    </tr>\n",
       "    <tr>\n",
       "      <th>0009</th>\n",
       "      <td>1.0</td>\n",
       "      <td>0.815789</td>\n",
       "      <td>NaN</td>\n",
       "      <td>0.815789</td>\n",
       "      <td>0.815789</td>\n",
       "      <td>0.815789</td>\n",
       "      <td>1.0</td>\n",
       "      <td>0.832481</td>\n",
       "      <td>NaN</td>\n",
       "      <td>0.832481</td>\n",
       "      <td>0.832481</td>\n",
       "      <td>0.832481</td>\n",
       "      <td>1.0</td>\n",
       "      <td>0.799754</td>\n",
       "      <td>NaN</td>\n",
       "      <td>0.799754</td>\n",
       "      <td>0.799754</td>\n",
       "      <td>0.799754</td>\n",
       "    </tr>\n",
       "    <tr>\n",
       "      <th>0010</th>\n",
       "      <td>1.0</td>\n",
       "      <td>0.830200</td>\n",
       "      <td>NaN</td>\n",
       "      <td>0.830200</td>\n",
       "      <td>0.830200</td>\n",
       "      <td>0.830200</td>\n",
       "      <td>1.0</td>\n",
       "      <td>0.778390</td>\n",
       "      <td>NaN</td>\n",
       "      <td>0.778390</td>\n",
       "      <td>0.778390</td>\n",
       "      <td>0.778390</td>\n",
       "      <td>1.0</td>\n",
       "      <td>0.889308</td>\n",
       "      <td>NaN</td>\n",
       "      <td>0.889308</td>\n",
       "      <td>0.889308</td>\n",
       "      <td>0.889308</td>\n",
       "    </tr>\n",
       "    <tr>\n",
       "      <th>0011</th>\n",
       "      <td>1.0</td>\n",
       "      <td>0.689426</td>\n",
       "      <td>NaN</td>\n",
       "      <td>0.689426</td>\n",
       "      <td>0.689426</td>\n",
       "      <td>0.689426</td>\n",
       "      <td>1.0</td>\n",
       "      <td>0.538172</td>\n",
       "      <td>NaN</td>\n",
       "      <td>0.538172</td>\n",
       "      <td>0.538172</td>\n",
       "      <td>0.538172</td>\n",
       "      <td>1.0</td>\n",
       "      <td>0.959596</td>\n",
       "      <td>NaN</td>\n",
       "      <td>0.959596</td>\n",
       "      <td>0.959596</td>\n",
       "      <td>0.959596</td>\n",
       "    </tr>\n",
       "    <tr>\n",
       "      <th>0012</th>\n",
       "      <td>1.0</td>\n",
       "      <td>0.770177</td>\n",
       "      <td>NaN</td>\n",
       "      <td>0.770177</td>\n",
       "      <td>0.770177</td>\n",
       "      <td>0.770177</td>\n",
       "      <td>1.0</td>\n",
       "      <td>0.843434</td>\n",
       "      <td>NaN</td>\n",
       "      <td>0.843434</td>\n",
       "      <td>0.843434</td>\n",
       "      <td>0.843434</td>\n",
       "      <td>1.0</td>\n",
       "      <td>0.708628</td>\n",
       "      <td>NaN</td>\n",
       "      <td>0.708628</td>\n",
       "      <td>0.708628</td>\n",
       "      <td>0.708628</td>\n",
       "    </tr>\n",
       "    <tr>\n",
       "      <th>0013</th>\n",
       "      <td>1.0</td>\n",
       "      <td>0.714518</td>\n",
       "      <td>NaN</td>\n",
       "      <td>0.714518</td>\n",
       "      <td>0.714518</td>\n",
       "      <td>0.714518</td>\n",
       "      <td>1.0</td>\n",
       "      <td>0.574042</td>\n",
       "      <td>NaN</td>\n",
       "      <td>0.574042</td>\n",
       "      <td>0.574042</td>\n",
       "      <td>0.574042</td>\n",
       "      <td>1.0</td>\n",
       "      <td>0.945559</td>\n",
       "      <td>NaN</td>\n",
       "      <td>0.945559</td>\n",
       "      <td>0.945559</td>\n",
       "      <td>0.945559</td>\n",
       "    </tr>\n",
       "    <tr>\n",
       "      <th>0014</th>\n",
       "      <td>1.0</td>\n",
       "      <td>0.625909</td>\n",
       "      <td>NaN</td>\n",
       "      <td>0.625909</td>\n",
       "      <td>0.625909</td>\n",
       "      <td>0.625909</td>\n",
       "      <td>1.0</td>\n",
       "      <td>0.461022</td>\n",
       "      <td>NaN</td>\n",
       "      <td>0.461022</td>\n",
       "      <td>0.461022</td>\n",
       "      <td>0.461022</td>\n",
       "      <td>1.0</td>\n",
       "      <td>0.970506</td>\n",
       "      <td>NaN</td>\n",
       "      <td>0.970506</td>\n",
       "      <td>0.970506</td>\n",
       "      <td>0.970506</td>\n",
       "    </tr>\n",
       "    <tr>\n",
       "      <th>0017</th>\n",
       "      <td>1.0</td>\n",
       "      <td>0.776879</td>\n",
       "      <td>NaN</td>\n",
       "      <td>0.776879</td>\n",
       "      <td>0.776879</td>\n",
       "      <td>0.776879</td>\n",
       "      <td>1.0</td>\n",
       "      <td>0.850633</td>\n",
       "      <td>NaN</td>\n",
       "      <td>0.850633</td>\n",
       "      <td>0.850633</td>\n",
       "      <td>0.850633</td>\n",
       "      <td>1.0</td>\n",
       "      <td>0.714894</td>\n",
       "      <td>NaN</td>\n",
       "      <td>0.714894</td>\n",
       "      <td>0.714894</td>\n",
       "      <td>0.714894</td>\n",
       "    </tr>\n",
       "    <tr>\n",
       "      <th>0018</th>\n",
       "      <td>1.0</td>\n",
       "      <td>0.758753</td>\n",
       "      <td>NaN</td>\n",
       "      <td>0.758753</td>\n",
       "      <td>0.758753</td>\n",
       "      <td>0.758753</td>\n",
       "      <td>1.0</td>\n",
       "      <td>0.858849</td>\n",
       "      <td>NaN</td>\n",
       "      <td>0.858849</td>\n",
       "      <td>0.858849</td>\n",
       "      <td>0.858849</td>\n",
       "      <td>1.0</td>\n",
       "      <td>0.679553</td>\n",
       "      <td>NaN</td>\n",
       "      <td>0.679553</td>\n",
       "      <td>0.679553</td>\n",
       "      <td>0.679553</td>\n",
       "    </tr>\n",
       "    <tr>\n",
       "      <th>0019</th>\n",
       "      <td>1.0</td>\n",
       "      <td>0.535433</td>\n",
       "      <td>NaN</td>\n",
       "      <td>0.535433</td>\n",
       "      <td>0.535433</td>\n",
       "      <td>0.535433</td>\n",
       "      <td>1.0</td>\n",
       "      <td>0.366467</td>\n",
       "      <td>NaN</td>\n",
       "      <td>0.366467</td>\n",
       "      <td>0.366467</td>\n",
       "      <td>0.366467</td>\n",
       "      <td>1.0</td>\n",
       "      <td>0.993506</td>\n",
       "      <td>NaN</td>\n",
       "      <td>0.993506</td>\n",
       "      <td>0.993506</td>\n",
       "      <td>0.993506</td>\n",
       "    </tr>\n",
       "  </tbody>\n",
       "</table>\n",
       "</div>"
      ],
      "text/plain": [
       "     eventF1                                             eventPrecision  \\\n",
       "       count      mean std       min       50%       max          count   \n",
       "test                                                                      \n",
       "0001     1.0  0.728764 NaN  0.728764  0.728764  0.728764            1.0   \n",
       "0002     1.0  0.809816 NaN  0.809816  0.809816  0.809816            1.0   \n",
       "0003     1.0  0.708215 NaN  0.708215  0.708215  0.708215            1.0   \n",
       "0005     1.0  0.660773 NaN  0.660773  0.660773  0.660773            1.0   \n",
       "0006     1.0  0.720779 NaN  0.720779  0.720779  0.720779            1.0   \n",
       "0007     1.0  0.724122 NaN  0.724122  0.724122  0.724122            1.0   \n",
       "0009     1.0  0.815789 NaN  0.815789  0.815789  0.815789            1.0   \n",
       "0010     1.0  0.830200 NaN  0.830200  0.830200  0.830200            1.0   \n",
       "0011     1.0  0.689426 NaN  0.689426  0.689426  0.689426            1.0   \n",
       "0012     1.0  0.770177 NaN  0.770177  0.770177  0.770177            1.0   \n",
       "0013     1.0  0.714518 NaN  0.714518  0.714518  0.714518            1.0   \n",
       "0014     1.0  0.625909 NaN  0.625909  0.625909  0.625909            1.0   \n",
       "0017     1.0  0.776879 NaN  0.776879  0.776879  0.776879            1.0   \n",
       "0018     1.0  0.758753 NaN  0.758753  0.758753  0.758753            1.0   \n",
       "0019     1.0  0.535433 NaN  0.535433  0.535433  0.535433            1.0   \n",
       "\n",
       "                                                 eventRecall                \\\n",
       "          mean std       min       50%       max       count      mean std   \n",
       "test                                                                         \n",
       "0001  0.938160 NaN  0.938160  0.938160  0.938160         1.0  0.595785 NaN   \n",
       "0002  0.742129 NaN  0.742129  0.742129  0.742129         1.0  0.891089 NaN   \n",
       "0003  0.595238 NaN  0.595238  0.595238  0.595238         1.0  0.874126 NaN   \n",
       "0005  0.530142 NaN  0.530142  0.530142  0.530142         1.0  0.876833 NaN   \n",
       "0006  0.702532 NaN  0.702532  0.702532  0.702532         1.0  0.740000 NaN   \n",
       "0007  0.619828 NaN  0.619828  0.619828  0.619828         1.0  0.870614 NaN   \n",
       "0009  0.832481 NaN  0.832481  0.832481  0.832481         1.0  0.799754 NaN   \n",
       "0010  0.778390 NaN  0.778390  0.778390  0.778390         1.0  0.889308 NaN   \n",
       "0011  0.538172 NaN  0.538172  0.538172  0.538172         1.0  0.959596 NaN   \n",
       "0012  0.843434 NaN  0.843434  0.843434  0.843434         1.0  0.708628 NaN   \n",
       "0013  0.574042 NaN  0.574042  0.574042  0.574042         1.0  0.945559 NaN   \n",
       "0014  0.461022 NaN  0.461022  0.461022  0.461022         1.0  0.970506 NaN   \n",
       "0017  0.850633 NaN  0.850633  0.850633  0.850633         1.0  0.714894 NaN   \n",
       "0018  0.858849 NaN  0.858849  0.858849  0.858849         1.0  0.679553 NaN   \n",
       "0019  0.366467 NaN  0.366467  0.366467  0.366467         1.0  0.993506 NaN   \n",
       "\n",
       "                                    \n",
       "           min       50%       max  \n",
       "test                                \n",
       "0001  0.595785  0.595785  0.595785  \n",
       "0002  0.891089  0.891089  0.891089  \n",
       "0003  0.874126  0.874126  0.874126  \n",
       "0005  0.876833  0.876833  0.876833  \n",
       "0006  0.740000  0.740000  0.740000  \n",
       "0007  0.870614  0.870614  0.870614  \n",
       "0009  0.799754  0.799754  0.799754  \n",
       "0010  0.889308  0.889308  0.889308  \n",
       "0011  0.959596  0.959596  0.959596  \n",
       "0012  0.708628  0.708628  0.708628  \n",
       "0013  0.945559  0.945559  0.945559  \n",
       "0014  0.970506  0.970506  0.970506  \n",
       "0017  0.714894  0.714894  0.714894  \n",
       "0018  0.679553  0.679553  0.679553  \n",
       "0019  0.993506  0.993506  0.993506  "
      ]
     },
     "execution_count": 36,
     "metadata": {},
     "output_type": "execute_result"
    }
   ],
   "source": [
    "experimentModels_N2[['test','eventF1','eventPrecision','eventRecall']].groupby('test').describe(percentiles=[0.5])"
   ]
  },
  {
   "cell_type": "code",
   "execution_count": 37,
   "metadata": {},
   "outputs": [
    {
     "data": {
      "text/html": [
       "<div>\n",
       "<style scoped>\n",
       "    .dataframe tbody tr th:only-of-type {\n",
       "        vertical-align: middle;\n",
       "    }\n",
       "\n",
       "    .dataframe tbody tr th {\n",
       "        vertical-align: top;\n",
       "    }\n",
       "\n",
       "    .dataframe thead th {\n",
       "        text-align: right;\n",
       "    }\n",
       "</style>\n",
       "<table border=\"1\" class=\"dataframe\">\n",
       "  <thead>\n",
       "    <tr style=\"text-align: right;\">\n",
       "      <th></th>\n",
       "      <th>test</th>\n",
       "      <th>eventF1</th>\n",
       "      <th>eventPrecision</th>\n",
       "      <th>eventRecall</th>\n",
       "    </tr>\n",
       "  </thead>\n",
       "  <tbody>\n",
       "    <tr>\n",
       "      <th>0</th>\n",
       "      <td>0001</td>\n",
       "      <td>0.728764</td>\n",
       "      <td>0.938160</td>\n",
       "      <td>0.595785</td>\n",
       "    </tr>\n",
       "    <tr>\n",
       "      <th>1</th>\n",
       "      <td>0002</td>\n",
       "      <td>0.809816</td>\n",
       "      <td>0.742129</td>\n",
       "      <td>0.891089</td>\n",
       "    </tr>\n",
       "    <tr>\n",
       "      <th>2</th>\n",
       "      <td>0003</td>\n",
       "      <td>0.708215</td>\n",
       "      <td>0.595238</td>\n",
       "      <td>0.874126</td>\n",
       "    </tr>\n",
       "    <tr>\n",
       "      <th>3</th>\n",
       "      <td>0005</td>\n",
       "      <td>0.660773</td>\n",
       "      <td>0.530142</td>\n",
       "      <td>0.876833</td>\n",
       "    </tr>\n",
       "    <tr>\n",
       "      <th>4</th>\n",
       "      <td>0006</td>\n",
       "      <td>0.720779</td>\n",
       "      <td>0.702532</td>\n",
       "      <td>0.740000</td>\n",
       "    </tr>\n",
       "    <tr>\n",
       "      <th>5</th>\n",
       "      <td>0007</td>\n",
       "      <td>0.724122</td>\n",
       "      <td>0.619828</td>\n",
       "      <td>0.870614</td>\n",
       "    </tr>\n",
       "    <tr>\n",
       "      <th>6</th>\n",
       "      <td>0009</td>\n",
       "      <td>0.815789</td>\n",
       "      <td>0.832481</td>\n",
       "      <td>0.799754</td>\n",
       "    </tr>\n",
       "    <tr>\n",
       "      <th>7</th>\n",
       "      <td>0010</td>\n",
       "      <td>0.830200</td>\n",
       "      <td>0.778390</td>\n",
       "      <td>0.889308</td>\n",
       "    </tr>\n",
       "    <tr>\n",
       "      <th>8</th>\n",
       "      <td>0011</td>\n",
       "      <td>0.689426</td>\n",
       "      <td>0.538172</td>\n",
       "      <td>0.959596</td>\n",
       "    </tr>\n",
       "    <tr>\n",
       "      <th>9</th>\n",
       "      <td>0012</td>\n",
       "      <td>0.770177</td>\n",
       "      <td>0.843434</td>\n",
       "      <td>0.708628</td>\n",
       "    </tr>\n",
       "    <tr>\n",
       "      <th>10</th>\n",
       "      <td>0013</td>\n",
       "      <td>0.714518</td>\n",
       "      <td>0.574042</td>\n",
       "      <td>0.945559</td>\n",
       "    </tr>\n",
       "    <tr>\n",
       "      <th>11</th>\n",
       "      <td>0014</td>\n",
       "      <td>0.625909</td>\n",
       "      <td>0.461022</td>\n",
       "      <td>0.970506</td>\n",
       "    </tr>\n",
       "    <tr>\n",
       "      <th>12</th>\n",
       "      <td>0017</td>\n",
       "      <td>0.776879</td>\n",
       "      <td>0.850633</td>\n",
       "      <td>0.714894</td>\n",
       "    </tr>\n",
       "    <tr>\n",
       "      <th>13</th>\n",
       "      <td>0018</td>\n",
       "      <td>0.758753</td>\n",
       "      <td>0.858849</td>\n",
       "      <td>0.679553</td>\n",
       "    </tr>\n",
       "    <tr>\n",
       "      <th>14</th>\n",
       "      <td>0019</td>\n",
       "      <td>0.535433</td>\n",
       "      <td>0.366467</td>\n",
       "      <td>0.993506</td>\n",
       "    </tr>\n",
       "  </tbody>\n",
       "</table>\n",
       "</div>"
      ],
      "text/plain": [
       "    test   eventF1  eventPrecision  eventRecall\n",
       "0   0001  0.728764        0.938160     0.595785\n",
       "1   0002  0.809816        0.742129     0.891089\n",
       "2   0003  0.708215        0.595238     0.874126\n",
       "3   0005  0.660773        0.530142     0.876833\n",
       "4   0006  0.720779        0.702532     0.740000\n",
       "5   0007  0.724122        0.619828     0.870614\n",
       "6   0009  0.815789        0.832481     0.799754\n",
       "7   0010  0.830200        0.778390     0.889308\n",
       "8   0011  0.689426        0.538172     0.959596\n",
       "9   0012  0.770177        0.843434     0.708628\n",
       "10  0013  0.714518        0.574042     0.945559\n",
       "11  0014  0.625909        0.461022     0.970506\n",
       "12  0017  0.776879        0.850633     0.714894\n",
       "13  0018  0.758753        0.858849     0.679553\n",
       "14  0019  0.535433        0.366467     0.993506"
      ]
     },
     "execution_count": 37,
     "metadata": {},
     "output_type": "execute_result"
    }
   ],
   "source": [
    "experimentModels_N2[['test','eventF1','eventPrecision','eventRecall']].groupby('test',as_index=False).mean()"
   ]
  },
  {
   "cell_type": "code",
   "execution_count": 38,
   "metadata": {},
   "outputs": [
    {
     "data": {
      "text/plain": [
       "test              6.668000e+54\n",
       "eventF1           7.246369e-01\n",
       "eventPrecision    6.821012e-01\n",
       "eventRecall       8.339834e-01\n",
       "dtype: float64"
      ]
     },
     "execution_count": 38,
     "metadata": {},
     "output_type": "execute_result"
    }
   ],
   "source": [
    "experimentModels_N2[['test','eventF1','eventPrecision','eventRecall']].groupby('test',as_index=False).mean().mean()"
   ]
  },
  {
   "cell_type": "code",
   "execution_count": 39,
   "metadata": {},
   "outputs": [
    {
     "name": "stderr",
     "output_type": "stream",
     "text": [
      "C:\\Users\\Gurdiel\\AppData\\Local\\Temp\\ipykernel_5308\\813125388.py:1: FutureWarning:\n",
      "\n",
      "The default value of numeric_only in DataFrame.std is deprecated. In a future version, it will default to False. In addition, specifying 'numeric_only=None' is deprecated. Select only valid columns or specify the value of numeric_only to silence this warning.\n",
      "\n"
     ]
    },
    {
     "data": {
      "text/plain": [
       "eventF1           0.077433\n",
       "eventPrecision    0.169569\n",
       "eventRecall       0.120686\n",
       "dtype: float64"
      ]
     },
     "execution_count": 39,
     "metadata": {},
     "output_type": "execute_result"
    }
   ],
   "source": [
    "experimentModels_N2[['test','eventF1','eventPrecision','eventRecall']].groupby('test',as_index=False).mean().std()"
   ]
  },
  {
   "cell_type": "code",
   "execution_count": 40,
   "metadata": {},
   "outputs": [],
   "source": [
    "auxPrecision=pd.DataFrame({\n",
    "    'metric':'event precision',\n",
    "    'value':experimentModels_N2.eventPrecision,\n",
    "    'event F1':experimentModels_N2.eventF1\n",
    "})\n",
    "\n",
    "auxRecall=pd.DataFrame({\n",
    "    'metric':'event recall',\n",
    "    'value':experimentModels_N2.eventRecall,\n",
    "    'event F1':experimentModels_N2.eventF1\n",
    "})\n",
    "visualTradeoff=pd.concat((auxPrecision,auxRecall))"
   ]
  },
  {
   "cell_type": "code",
   "execution_count": 41,
   "metadata": {},
   "outputs": [
    {
     "data": {
      "application/vnd.plotly.v1+json": {
       "config": {
        "plotlyServerURL": "https://plot.ly"
       },
       "data": [
        {
         "hovertemplate": "metric=event precision<br>event F1=%{x}<br>value=%{y}<extra></extra>",
         "legendgroup": "event precision",
         "marker": {
          "color": "#636efa",
          "symbol": "circle"
         },
         "mode": "markers",
         "name": "event precision",
         "orientation": "v",
         "showlegend": true,
         "type": "scatter",
         "x": [
          0.7287639132981839,
          0.8098159509202454,
          0.7082152974504249,
          0.6607734806629835,
          0.7207792207792207,
          0.7241222070223439,
          0.8157894736842105,
          0.8301997649823737,
          0.6894259818731118,
          0.7701767870868562,
          0.7145178764897074,
          0.6259090909090909,
          0.776878612716763,
          0.7587529976019185,
          0.5354330708661418
         ],
         "xaxis": "x",
         "y": [
          0.9381598793363499,
          0.7421289355322339,
          0.5952380952380952,
          0.5301418439716312,
          0.7025316455696202,
          0.6198282591725215,
          0.8324808184143222,
          0.7783902976846747,
          0.5381715362865221,
          0.8434343434343434,
          0.5740418118466899,
          0.46102150537634407,
          0.850632911392405,
          0.8588490770901195,
          0.3664670658682635
         ],
         "yaxis": "y"
        },
        {
         "alignmentgroup": "True",
         "bingroup": "y",
         "hovertemplate": "metric=event precision<br>value=%{y}<br>count=%{x}<extra></extra>",
         "legendgroup": "event precision",
         "marker": {
          "color": "#636efa"
         },
         "name": "event precision",
         "offsetgroup": "event precision",
         "opacity": 0.5,
         "showlegend": false,
         "type": "histogram",
         "xaxis": "x2",
         "y": [
          0.9381598793363499,
          0.7421289355322339,
          0.5952380952380952,
          0.5301418439716312,
          0.7025316455696202,
          0.6198282591725215,
          0.8324808184143222,
          0.7783902976846747,
          0.5381715362865221,
          0.8434343434343434,
          0.5740418118466899,
          0.46102150537634407,
          0.850632911392405,
          0.8588490770901195,
          0.3664670658682635
         ],
         "yaxis": "y2"
        },
        {
         "hovertemplate": "metric=event recall<br>event F1=%{x}<br>value=%{y}<extra></extra>",
         "legendgroup": "event recall",
         "marker": {
          "color": "#EF553B",
          "symbol": "circle"
         },
         "mode": "markers",
         "name": "event recall",
         "orientation": "v",
         "showlegend": true,
         "type": "scatter",
         "x": [
          0.7287639132981839,
          0.8098159509202454,
          0.7082152974504249,
          0.6607734806629835,
          0.7207792207792207,
          0.7241222070223439,
          0.8157894736842105,
          0.8301997649823737,
          0.6894259818731118,
          0.7701767870868562,
          0.7145178764897074,
          0.6259090909090909,
          0.776878612716763,
          0.7587529976019185,
          0.5354330708661418
         ],
         "xaxis": "x",
         "y": [
          0.5957854406130269,
          0.8910891089108911,
          0.8741258741258742,
          0.8768328445747801,
          0.74,
          0.8706140350877193,
          0.7997542997542998,
          0.889308176100629,
          0.9595959595959596,
          0.7086280056577087,
          0.9455587392550143,
          0.9705056179775281,
          0.7148936170212766,
          0.679553264604811,
          0.9935064935064936
         ],
         "yaxis": "y"
        },
        {
         "alignmentgroup": "True",
         "bingroup": "y",
         "hovertemplate": "metric=event recall<br>value=%{y}<br>count=%{x}<extra></extra>",
         "legendgroup": "event recall",
         "marker": {
          "color": "#EF553B"
         },
         "name": "event recall",
         "offsetgroup": "event recall",
         "opacity": 0.5,
         "showlegend": false,
         "type": "histogram",
         "xaxis": "x2",
         "y": [
          0.5957854406130269,
          0.8910891089108911,
          0.8741258741258742,
          0.8768328445747801,
          0.74,
          0.8706140350877193,
          0.7997542997542998,
          0.889308176100629,
          0.9595959595959596,
          0.7086280056577087,
          0.9455587392550143,
          0.9705056179775281,
          0.7148936170212766,
          0.679553264604811,
          0.9935064935064936
         ],
         "yaxis": "y2"
        },
        {
         "fill": "toself",
         "mode": "lines",
         "name": "identity",
         "type": "scatter",
         "x": [
          0.7060158910329172,
          0.7796480489671003,
          0.6188118811881188,
          0.6222684703433923,
          0.6646706586826348,
          0.6198282591725215,
          0.7838651414810355,
          0.7355543987506507,
          0.63931718061674,
          0.6838885112168592,
          0.6733027054619704,
          0.5932787591555364,
          0.7360350492880613,
          0.7330861909175163,
          0.5373390557939914
         ],
         "y": [
          0.7060158910329172,
          0.7796480489671003,
          0.6188118811881188,
          0.6222684703433923,
          0.6646706586826348,
          0.6198282591725215,
          0.7838651414810355,
          0.7355543987506507,
          0.63931718061674,
          0.6838885112168592,
          0.6733027054619704,
          0.5932787591555364,
          0.7360350492880613,
          0.7330861909175163,
          0.5373390557939914
         ]
        }
       ],
       "layout": {
        "barmode": "overlay",
        "legend": {
         "title": {
          "text": "metric"
         },
         "tracegroupgap": 0
        },
        "margin": {
         "t": 60
        },
        "template": {
         "data": {
          "bar": [
           {
            "error_x": {
             "color": "#2a3f5f"
            },
            "error_y": {
             "color": "#2a3f5f"
            },
            "marker": {
             "line": {
              "color": "#E5ECF6",
              "width": 0.5
             },
             "pattern": {
              "fillmode": "overlay",
              "size": 10,
              "solidity": 0.2
             }
            },
            "type": "bar"
           }
          ],
          "barpolar": [
           {
            "marker": {
             "line": {
              "color": "#E5ECF6",
              "width": 0.5
             },
             "pattern": {
              "fillmode": "overlay",
              "size": 10,
              "solidity": 0.2
             }
            },
            "type": "barpolar"
           }
          ],
          "carpet": [
           {
            "aaxis": {
             "endlinecolor": "#2a3f5f",
             "gridcolor": "white",
             "linecolor": "white",
             "minorgridcolor": "white",
             "startlinecolor": "#2a3f5f"
            },
            "baxis": {
             "endlinecolor": "#2a3f5f",
             "gridcolor": "white",
             "linecolor": "white",
             "minorgridcolor": "white",
             "startlinecolor": "#2a3f5f"
            },
            "type": "carpet"
           }
          ],
          "choropleth": [
           {
            "colorbar": {
             "outlinewidth": 0,
             "ticks": ""
            },
            "type": "choropleth"
           }
          ],
          "contour": [
           {
            "colorbar": {
             "outlinewidth": 0,
             "ticks": ""
            },
            "colorscale": [
             [
              0,
              "#0d0887"
             ],
             [
              0.1111111111111111,
              "#46039f"
             ],
             [
              0.2222222222222222,
              "#7201a8"
             ],
             [
              0.3333333333333333,
              "#9c179e"
             ],
             [
              0.4444444444444444,
              "#bd3786"
             ],
             [
              0.5555555555555556,
              "#d8576b"
             ],
             [
              0.6666666666666666,
              "#ed7953"
             ],
             [
              0.7777777777777778,
              "#fb9f3a"
             ],
             [
              0.8888888888888888,
              "#fdca26"
             ],
             [
              1,
              "#f0f921"
             ]
            ],
            "type": "contour"
           }
          ],
          "contourcarpet": [
           {
            "colorbar": {
             "outlinewidth": 0,
             "ticks": ""
            },
            "type": "contourcarpet"
           }
          ],
          "heatmap": [
           {
            "colorbar": {
             "outlinewidth": 0,
             "ticks": ""
            },
            "colorscale": [
             [
              0,
              "#0d0887"
             ],
             [
              0.1111111111111111,
              "#46039f"
             ],
             [
              0.2222222222222222,
              "#7201a8"
             ],
             [
              0.3333333333333333,
              "#9c179e"
             ],
             [
              0.4444444444444444,
              "#bd3786"
             ],
             [
              0.5555555555555556,
              "#d8576b"
             ],
             [
              0.6666666666666666,
              "#ed7953"
             ],
             [
              0.7777777777777778,
              "#fb9f3a"
             ],
             [
              0.8888888888888888,
              "#fdca26"
             ],
             [
              1,
              "#f0f921"
             ]
            ],
            "type": "heatmap"
           }
          ],
          "heatmapgl": [
           {
            "colorbar": {
             "outlinewidth": 0,
             "ticks": ""
            },
            "colorscale": [
             [
              0,
              "#0d0887"
             ],
             [
              0.1111111111111111,
              "#46039f"
             ],
             [
              0.2222222222222222,
              "#7201a8"
             ],
             [
              0.3333333333333333,
              "#9c179e"
             ],
             [
              0.4444444444444444,
              "#bd3786"
             ],
             [
              0.5555555555555556,
              "#d8576b"
             ],
             [
              0.6666666666666666,
              "#ed7953"
             ],
             [
              0.7777777777777778,
              "#fb9f3a"
             ],
             [
              0.8888888888888888,
              "#fdca26"
             ],
             [
              1,
              "#f0f921"
             ]
            ],
            "type": "heatmapgl"
           }
          ],
          "histogram": [
           {
            "marker": {
             "pattern": {
              "fillmode": "overlay",
              "size": 10,
              "solidity": 0.2
             }
            },
            "type": "histogram"
           }
          ],
          "histogram2d": [
           {
            "colorbar": {
             "outlinewidth": 0,
             "ticks": ""
            },
            "colorscale": [
             [
              0,
              "#0d0887"
             ],
             [
              0.1111111111111111,
              "#46039f"
             ],
             [
              0.2222222222222222,
              "#7201a8"
             ],
             [
              0.3333333333333333,
              "#9c179e"
             ],
             [
              0.4444444444444444,
              "#bd3786"
             ],
             [
              0.5555555555555556,
              "#d8576b"
             ],
             [
              0.6666666666666666,
              "#ed7953"
             ],
             [
              0.7777777777777778,
              "#fb9f3a"
             ],
             [
              0.8888888888888888,
              "#fdca26"
             ],
             [
              1,
              "#f0f921"
             ]
            ],
            "type": "histogram2d"
           }
          ],
          "histogram2dcontour": [
           {
            "colorbar": {
             "outlinewidth": 0,
             "ticks": ""
            },
            "colorscale": [
             [
              0,
              "#0d0887"
             ],
             [
              0.1111111111111111,
              "#46039f"
             ],
             [
              0.2222222222222222,
              "#7201a8"
             ],
             [
              0.3333333333333333,
              "#9c179e"
             ],
             [
              0.4444444444444444,
              "#bd3786"
             ],
             [
              0.5555555555555556,
              "#d8576b"
             ],
             [
              0.6666666666666666,
              "#ed7953"
             ],
             [
              0.7777777777777778,
              "#fb9f3a"
             ],
             [
              0.8888888888888888,
              "#fdca26"
             ],
             [
              1,
              "#f0f921"
             ]
            ],
            "type": "histogram2dcontour"
           }
          ],
          "mesh3d": [
           {
            "colorbar": {
             "outlinewidth": 0,
             "ticks": ""
            },
            "type": "mesh3d"
           }
          ],
          "parcoords": [
           {
            "line": {
             "colorbar": {
              "outlinewidth": 0,
              "ticks": ""
             }
            },
            "type": "parcoords"
           }
          ],
          "pie": [
           {
            "automargin": true,
            "type": "pie"
           }
          ],
          "scatter": [
           {
            "fillpattern": {
             "fillmode": "overlay",
             "size": 10,
             "solidity": 0.2
            },
            "type": "scatter"
           }
          ],
          "scatter3d": [
           {
            "line": {
             "colorbar": {
              "outlinewidth": 0,
              "ticks": ""
             }
            },
            "marker": {
             "colorbar": {
              "outlinewidth": 0,
              "ticks": ""
             }
            },
            "type": "scatter3d"
           }
          ],
          "scattercarpet": [
           {
            "marker": {
             "colorbar": {
              "outlinewidth": 0,
              "ticks": ""
             }
            },
            "type": "scattercarpet"
           }
          ],
          "scattergeo": [
           {
            "marker": {
             "colorbar": {
              "outlinewidth": 0,
              "ticks": ""
             }
            },
            "type": "scattergeo"
           }
          ],
          "scattergl": [
           {
            "marker": {
             "colorbar": {
              "outlinewidth": 0,
              "ticks": ""
             }
            },
            "type": "scattergl"
           }
          ],
          "scattermapbox": [
           {
            "marker": {
             "colorbar": {
              "outlinewidth": 0,
              "ticks": ""
             }
            },
            "type": "scattermapbox"
           }
          ],
          "scatterpolar": [
           {
            "marker": {
             "colorbar": {
              "outlinewidth": 0,
              "ticks": ""
             }
            },
            "type": "scatterpolar"
           }
          ],
          "scatterpolargl": [
           {
            "marker": {
             "colorbar": {
              "outlinewidth": 0,
              "ticks": ""
             }
            },
            "type": "scatterpolargl"
           }
          ],
          "scatterternary": [
           {
            "marker": {
             "colorbar": {
              "outlinewidth": 0,
              "ticks": ""
             }
            },
            "type": "scatterternary"
           }
          ],
          "surface": [
           {
            "colorbar": {
             "outlinewidth": 0,
             "ticks": ""
            },
            "colorscale": [
             [
              0,
              "#0d0887"
             ],
             [
              0.1111111111111111,
              "#46039f"
             ],
             [
              0.2222222222222222,
              "#7201a8"
             ],
             [
              0.3333333333333333,
              "#9c179e"
             ],
             [
              0.4444444444444444,
              "#bd3786"
             ],
             [
              0.5555555555555556,
              "#d8576b"
             ],
             [
              0.6666666666666666,
              "#ed7953"
             ],
             [
              0.7777777777777778,
              "#fb9f3a"
             ],
             [
              0.8888888888888888,
              "#fdca26"
             ],
             [
              1,
              "#f0f921"
             ]
            ],
            "type": "surface"
           }
          ],
          "table": [
           {
            "cells": {
             "fill": {
              "color": "#EBF0F8"
             },
             "line": {
              "color": "white"
             }
            },
            "header": {
             "fill": {
              "color": "#C8D4E3"
             },
             "line": {
              "color": "white"
             }
            },
            "type": "table"
           }
          ]
         },
         "layout": {
          "annotationdefaults": {
           "arrowcolor": "#2a3f5f",
           "arrowhead": 0,
           "arrowwidth": 1
          },
          "autotypenumbers": "strict",
          "coloraxis": {
           "colorbar": {
            "outlinewidth": 0,
            "ticks": ""
           }
          },
          "colorscale": {
           "diverging": [
            [
             0,
             "#8e0152"
            ],
            [
             0.1,
             "#c51b7d"
            ],
            [
             0.2,
             "#de77ae"
            ],
            [
             0.3,
             "#f1b6da"
            ],
            [
             0.4,
             "#fde0ef"
            ],
            [
             0.5,
             "#f7f7f7"
            ],
            [
             0.6,
             "#e6f5d0"
            ],
            [
             0.7,
             "#b8e186"
            ],
            [
             0.8,
             "#7fbc41"
            ],
            [
             0.9,
             "#4d9221"
            ],
            [
             1,
             "#276419"
            ]
           ],
           "sequential": [
            [
             0,
             "#0d0887"
            ],
            [
             0.1111111111111111,
             "#46039f"
            ],
            [
             0.2222222222222222,
             "#7201a8"
            ],
            [
             0.3333333333333333,
             "#9c179e"
            ],
            [
             0.4444444444444444,
             "#bd3786"
            ],
            [
             0.5555555555555556,
             "#d8576b"
            ],
            [
             0.6666666666666666,
             "#ed7953"
            ],
            [
             0.7777777777777778,
             "#fb9f3a"
            ],
            [
             0.8888888888888888,
             "#fdca26"
            ],
            [
             1,
             "#f0f921"
            ]
           ],
           "sequentialminus": [
            [
             0,
             "#0d0887"
            ],
            [
             0.1111111111111111,
             "#46039f"
            ],
            [
             0.2222222222222222,
             "#7201a8"
            ],
            [
             0.3333333333333333,
             "#9c179e"
            ],
            [
             0.4444444444444444,
             "#bd3786"
            ],
            [
             0.5555555555555556,
             "#d8576b"
            ],
            [
             0.6666666666666666,
             "#ed7953"
            ],
            [
             0.7777777777777778,
             "#fb9f3a"
            ],
            [
             0.8888888888888888,
             "#fdca26"
            ],
            [
             1,
             "#f0f921"
            ]
           ]
          },
          "colorway": [
           "#636efa",
           "#EF553B",
           "#00cc96",
           "#ab63fa",
           "#FFA15A",
           "#19d3f3",
           "#FF6692",
           "#B6E880",
           "#FF97FF",
           "#FECB52"
          ],
          "font": {
           "color": "#2a3f5f"
          },
          "geo": {
           "bgcolor": "white",
           "lakecolor": "white",
           "landcolor": "#E5ECF6",
           "showlakes": true,
           "showland": true,
           "subunitcolor": "white"
          },
          "hoverlabel": {
           "align": "left"
          },
          "hovermode": "closest",
          "mapbox": {
           "style": "light"
          },
          "paper_bgcolor": "white",
          "plot_bgcolor": "#E5ECF6",
          "polar": {
           "angularaxis": {
            "gridcolor": "white",
            "linecolor": "white",
            "ticks": ""
           },
           "bgcolor": "#E5ECF6",
           "radialaxis": {
            "gridcolor": "white",
            "linecolor": "white",
            "ticks": ""
           }
          },
          "scene": {
           "xaxis": {
            "backgroundcolor": "#E5ECF6",
            "gridcolor": "white",
            "gridwidth": 2,
            "linecolor": "white",
            "showbackground": true,
            "ticks": "",
            "zerolinecolor": "white"
           },
           "yaxis": {
            "backgroundcolor": "#E5ECF6",
            "gridcolor": "white",
            "gridwidth": 2,
            "linecolor": "white",
            "showbackground": true,
            "ticks": "",
            "zerolinecolor": "white"
           },
           "zaxis": {
            "backgroundcolor": "#E5ECF6",
            "gridcolor": "white",
            "gridwidth": 2,
            "linecolor": "white",
            "showbackground": true,
            "ticks": "",
            "zerolinecolor": "white"
           }
          },
          "shapedefaults": {
           "line": {
            "color": "#2a3f5f"
           }
          },
          "ternary": {
           "aaxis": {
            "gridcolor": "white",
            "linecolor": "white",
            "ticks": ""
           },
           "baxis": {
            "gridcolor": "white",
            "linecolor": "white",
            "ticks": ""
           },
           "bgcolor": "#E5ECF6",
           "caxis": {
            "gridcolor": "white",
            "linecolor": "white",
            "ticks": ""
           }
          },
          "title": {
           "x": 0.05
          },
          "xaxis": {
           "automargin": true,
           "gridcolor": "white",
           "linecolor": "white",
           "ticks": "",
           "title": {
            "standoff": 15
           },
           "zerolinecolor": "white",
           "zerolinewidth": 2
          },
          "yaxis": {
           "automargin": true,
           "gridcolor": "white",
           "linecolor": "white",
           "ticks": "",
           "title": {
            "standoff": 15
           },
           "zerolinecolor": "white",
           "zerolinewidth": 2
          }
         }
        },
        "xaxis": {
         "anchor": "y",
         "domain": [
          0,
          0.7363
         ],
         "title": {
          "text": "event F1"
         }
        },
        "xaxis2": {
         "anchor": "y2",
         "domain": [
          0.7413,
          1
         ],
         "matches": "x2",
         "showgrid": true,
         "showline": false,
         "showticklabels": false,
         "ticks": ""
        },
        "yaxis": {
         "anchor": "x",
         "domain": [
          0,
          1
         ],
         "title": {
          "text": "value"
         }
        },
        "yaxis2": {
         "anchor": "x2",
         "domain": [
          0,
          1
         ],
         "matches": "y",
         "showgrid": true,
         "showticklabels": false
        }
       }
      }
     },
     "metadata": {},
     "output_type": "display_data"
    }
   ],
   "source": [
    "fig=px.scatter(visualTradeoff,x='event F1',y='value',color='metric', marginal_y=\"histogram\")\n",
    "fig.add_trace(\n",
    "    go.Scatter(x=experimentModels['eventF1'], y=experimentModels['eventF1'], name=\"identity\", mode='lines',fill=\"toself\")\n",
    ")\n",
    "fig.show()"
   ]
  },
  {
   "attachments": {},
   "cell_type": "markdown",
   "metadata": {},
   "source": [
    "### remove outliers"
   ]
  },
  {
   "cell_type": "code",
   "execution_count": 42,
   "metadata": {},
   "outputs": [
    {
     "data": {
      "text/plain": [
       "array(['0001', '0002', '0003', '0005', '0006', '0007', '0009', '0010',\n",
       "       '0011', '0012', '0013', '0017', '0018'], dtype=object)"
      ]
     },
     "execution_count": 42,
     "metadata": {},
     "output_type": "execute_result"
    }
   ],
   "source": [
    "np.setdiff1d(experimentModels_N2.test,['0014','0019'])"
   ]
  },
  {
   "cell_type": "code",
   "execution_count": 43,
   "metadata": {},
   "outputs": [
    {
     "data": {
      "text/plain": [
       "test              1.666917e+43\n",
       "eventF1           7.482873e-01\n",
       "eventPrecision    7.054891e-01\n",
       "eventRecall       8.291628e-01\n",
       "dtype: float64"
      ]
     },
     "execution_count": 43,
     "metadata": {},
     "output_type": "execute_result"
    }
   ],
   "source": [
    "experimentModels_N2[experimentModels_N2.test.isin(np.setdiff1d(experimentModels_N2.test,['0001','0014','0019']))][['test','eventF1','eventPrecision','eventRecall']].groupby('test',as_index=False).mean().mean()"
   ]
  },
  {
   "cell_type": "code",
   "execution_count": 44,
   "metadata": {},
   "outputs": [
    {
     "data": {
      "application/vnd.plotly.v1+json": {
       "config": {
        "plotlyServerURL": "https://plot.ly"
       },
       "data": [
        {
         "customdata": [
          [
           true,
           false,
           null,
           3,
           "out",
           0.6206896551724138,
           0,
           0
          ],
          [
           false,
           true,
           null,
           3,
           "out",
           0,
           "NA",
           1
          ],
          [
           true,
           false,
           null,
           3,
           "out",
           0.3885350318471338,
           1,
           2
          ],
          [
           true,
           false,
           null,
           3,
           "out",
           0.7068965517241379,
           2,
           3
          ],
          [
           false,
           true,
           null,
           3,
           "out",
           0,
           "NA",
           4
          ],
          [
           true,
           false,
           null,
           3,
           "out",
           0.5560747663551402,
           3,
           5
          ],
          [
           true,
           false,
           null,
           3,
           "out",
           0.652014652014652,
           4,
           6
          ],
          [
           false,
           true,
           null,
           3,
           "out",
           0,
           "NA",
           7
          ],
          [
           false,
           true,
           null,
           3,
           "out",
           0,
           "NA",
           8
          ],
          [
           false,
           true,
           null,
           3,
           "out",
           0,
           "NA",
           9
          ],
          [
           false,
           true,
           null,
           3,
           "out",
           0,
           "NA",
           10
          ],
          [
           false,
           true,
           null,
           3,
           "out",
           0,
           "NA",
           11
          ],
          [
           true,
           false,
           null,
           3,
           "out",
           0.8387096774193549,
           5,
           12
          ],
          [
           false,
           true,
           null,
           3,
           "out",
           0,
           "NA",
           13
          ],
          [
           true,
           false,
           null,
           3,
           "out",
           0.84375,
           6,
           14
          ],
          [
           false,
           true,
           null,
           3,
           "out",
           0,
           "NA",
           15
          ],
          [
           false,
           true,
           null,
           3,
           "out",
           0,
           "NA",
           16
          ],
          [
           true,
           false,
           null,
           3,
           "out",
           0.6524064171122995,
           7,
           17
          ],
          [
           false,
           true,
           null,
           3,
           "out",
           0,
           "NA",
           18
          ],
          [
           false,
           true,
           null,
           3,
           "out",
           0,
           "NA",
           19
          ],
          [
           true,
           false,
           null,
           3,
           "out",
           0.7515527950310559,
           8,
           20
          ],
          [
           true,
           false,
           null,
           3,
           "out",
           0.8571428571428571,
           9,
           21
          ],
          [
           true,
           false,
           null,
           3,
           "out",
           0.5957446808510638,
           10,
           22
          ],
          [
           true,
           false,
           null,
           3,
           "out",
           0.5490196078431373,
           11,
           23
          ],
          [
           false,
           true,
           null,
           3,
           "out",
           0,
           "NA",
           24
          ],
          [
           true,
           false,
           null,
           3,
           "out",
           0.425531914893617,
           12,
           25
          ],
          [
           true,
           false,
           null,
           3,
           "out",
           0.8086124401913876,
           13,
           26
          ],
          [
           false,
           true,
           null,
           3,
           "out",
           0,
           "NA",
           27
          ],
          [
           false,
           true,
           null,
           3,
           "out",
           0,
           "NA",
           28
          ],
          [
           false,
           true,
           null,
           3,
           "out",
           0,
           "NA",
           29
          ],
          [
           true,
           false,
           null,
           3,
           "out",
           0.8555555555555555,
           14,
           30
          ],
          [
           false,
           true,
           null,
           3,
           "out",
           0,
           "NA",
           31
          ],
          [
           true,
           false,
           null,
           3,
           "out",
           0.8222222222222222,
           15,
           32
          ],
          [
           true,
           false,
           null,
           3,
           "out",
           0.7916666666666666,
           16,
           33
          ],
          [
           false,
           true,
           null,
           3,
           "out",
           0,
           "NA",
           34
          ],
          [
           false,
           true,
           null,
           3,
           "out",
           0,
           "NA",
           35
          ],
          [
           false,
           true,
           null,
           3,
           "out",
           0,
           "NA",
           36
          ],
          [
           false,
           true,
           null,
           3,
           "out",
           0,
           "NA",
           37
          ],
          [
           true,
           false,
           null,
           3,
           "out",
           0.8681318681318682,
           17,
           38
          ],
          [
           true,
           false,
           null,
           3,
           "out",
           0.9041916167664671,
           18,
           39
          ],
          [
           true,
           false,
           null,
           3,
           "out",
           0.7272727272727273,
           19,
           40
          ],
          [
           true,
           false,
           null,
           3,
           "out",
           0.7579365079365079,
           20,
           41
          ],
          [
           false,
           true,
           null,
           3,
           "out",
           0,
           "NA",
           42
          ],
          [
           false,
           true,
           null,
           3,
           "out",
           0,
           "NA",
           43
          ],
          [
           false,
           true,
           null,
           3,
           "out",
           0,
           "NA",
           44
          ],
          [
           false,
           true,
           null,
           3,
           "out",
           0,
           "NA",
           45
          ],
          [
           true,
           false,
           null,
           3,
           "out",
           0.7164179104477612,
           21,
           46
          ],
          [
           false,
           true,
           null,
           3,
           "out",
           0,
           "NA",
           47
          ],
          [
           false,
           true,
           null,
           3,
           "out",
           0,
           "NA",
           48
          ],
          [
           false,
           true,
           null,
           3,
           "out",
           0,
           "NA",
           49
          ],
          [
           true,
           false,
           null,
           3,
           "out",
           0.7678571428571429,
           22,
           50
          ],
          [
           true,
           false,
           null,
           3,
           "out",
           0.5530973451327433,
           23,
           51
          ],
          [
           false,
           true,
           null,
           3,
           "out",
           0,
           "NA",
           52
          ],
          [
           false,
           true,
           null,
           3,
           "out",
           0,
           "NA",
           53
          ],
          [
           false,
           true,
           null,
           3,
           "out",
           0,
           "NA",
           54
          ],
          [
           false,
           true,
           null,
           3,
           "out",
           0,
           "NA",
           55
          ],
          [
           false,
           true,
           null,
           3,
           "out",
           0,
           "NA",
           56
          ],
          [
           false,
           true,
           null,
           3,
           "out",
           0,
           "NA",
           57
          ],
          [
           true,
           false,
           null,
           3,
           "out",
           0.8972972972972973,
           24,
           58
          ],
          [
           true,
           false,
           null,
           3,
           "out",
           0.8442211055276382,
           25,
           59
          ],
          [
           true,
           false,
           null,
           3,
           "out",
           0.6834862385321101,
           26,
           60
          ],
          [
           false,
           true,
           null,
           3,
           "out",
           0,
           "NA",
           61
          ],
          [
           false,
           true,
           null,
           3,
           "out",
           0,
           "NA",
           62
          ],
          [
           true,
           false,
           null,
           3,
           "out",
           0.7804878048780488,
           27,
           63
          ],
          [
           false,
           true,
           null,
           3,
           "out",
           0,
           "NA",
           64
          ],
          [
           false,
           true,
           null,
           3,
           "out",
           0,
           "NA",
           65
          ],
          [
           false,
           true,
           null,
           3,
           "out",
           0,
           "NA",
           66
          ],
          [
           false,
           true,
           null,
           3,
           "out",
           0,
           "NA",
           67
          ],
          [
           true,
           false,
           null,
           3,
           "out",
           0.8697916666666666,
           28,
           68
          ],
          [
           true,
           false,
           null,
           3,
           "out",
           0.8271604938271605,
           29,
           69
          ],
          [
           false,
           true,
           null,
           3,
           "out",
           0,
           "NA",
           70
          ],
          [
           false,
           true,
           null,
           3,
           "out",
           0,
           "NA",
           71
          ],
          [
           false,
           true,
           null,
           3,
           "out",
           0,
           "NA",
           72
          ],
          [
           false,
           true,
           null,
           3,
           "out",
           0,
           "NA",
           73
          ],
          [
           true,
           false,
           null,
           3,
           "out",
           0.7676767676767676,
           30,
           74
          ],
          [
           true,
           false,
           null,
           3,
           "out",
           0.8418367346938775,
           31,
           75
          ],
          [
           true,
           false,
           null,
           3,
           "out",
           0.9206349206349206,
           32,
           76
          ],
          [
           false,
           true,
           null,
           3,
           "out",
           0,
           "NA",
           77
          ],
          [
           false,
           true,
           null,
           3,
           "out",
           0,
           "NA",
           78
          ],
          [
           false,
           true,
           null,
           3,
           "out",
           0,
           "NA",
           79
          ],
          [
           true,
           false,
           null,
           3,
           "out",
           0.6114285714285714,
           33,
           80
          ],
          [
           false,
           true,
           null,
           3,
           "out",
           0,
           "NA",
           81
          ],
          [
           false,
           true,
           null,
           3,
           "out",
           0,
           "NA",
           82
          ],
          [
           false,
           true,
           null,
           3,
           "out",
           0,
           "NA",
           83
          ],
          [
           true,
           false,
           null,
           3,
           "out",
           0.6137931034482759,
           34,
           84
          ],
          [
           false,
           true,
           null,
           3,
           "out",
           0,
           "NA",
           85
          ],
          [
           false,
           true,
           null,
           3,
           "out",
           0,
           "NA",
           86
          ],
          [
           false,
           true,
           null,
           3,
           "out",
           0,
           "NA",
           87
          ],
          [
           true,
           false,
           null,
           3,
           "out",
           0.7128712871287128,
           35,
           88
          ],
          [
           false,
           true,
           null,
           3,
           "out",
           0,
           "NA",
           89
          ],
          [
           true,
           false,
           null,
           3,
           "out",
           0.6972477064220184,
           36,
           90
          ],
          [
           true,
           false,
           null,
           3,
           "out",
           0.7552083333333334,
           37,
           91
          ],
          [
           false,
           true,
           null,
           3,
           "out",
           0,
           "NA",
           92
          ],
          [
           false,
           true,
           null,
           3,
           "out",
           0,
           "NA",
           93
          ],
          [
           false,
           true,
           null,
           3,
           "out",
           0,
           "NA",
           94
          ],
          [
           false,
           true,
           null,
           3,
           "out",
           0,
           "NA",
           95
          ],
          [
           false,
           true,
           null,
           3,
           "out",
           0,
           "NA",
           96
          ],
          [
           true,
           false,
           null,
           3,
           "out",
           0.7345679012345679,
           38,
           97
          ],
          [
           true,
           false,
           null,
           3,
           "out",
           0.7552447552447552,
           39,
           98
          ],
          [
           true,
           false,
           null,
           3,
           "out",
           0.48295454545454547,
           40,
           99
          ],
          [
           false,
           true,
           null,
           3,
           "out",
           0,
           "NA",
           100
          ],
          [
           true,
           false,
           null,
           3,
           "out",
           0.7237569060773481,
           41,
           101
          ],
          [
           false,
           true,
           null,
           3,
           "out",
           0,
           "NA",
           102
          ],
          [
           false,
           true,
           null,
           3,
           "out",
           0,
           "NA",
           103
          ],
          [
           false,
           true,
           null,
           3,
           "out",
           0,
           "NA",
           104
          ],
          [
           false,
           true,
           null,
           3,
           "out",
           0,
           "NA",
           105
          ],
          [
           false,
           true,
           null,
           3,
           "out",
           0,
           "NA",
           106
          ],
          [
           false,
           true,
           null,
           3,
           "out",
           0,
           "NA",
           107
          ],
          [
           true,
           false,
           null,
           3,
           "out",
           0.8100558659217877,
           42,
           108
          ],
          [
           false,
           true,
           null,
           3,
           "out",
           0,
           "NA",
           109
          ],
          [
           false,
           true,
           null,
           3,
           "out",
           0,
           "NA",
           110
          ],
          [
           true,
           false,
           null,
           3,
           "out",
           0.6878048780487804,
           43,
           111
          ],
          [
           false,
           true,
           null,
           3,
           "out",
           0,
           "NA",
           112
          ],
          [
           false,
           true,
           null,
           3,
           "out",
           0,
           "NA",
           113
          ],
          [
           false,
           true,
           null,
           3,
           "out",
           0,
           "NA",
           114
          ],
          [
           true,
           false,
           null,
           3,
           "out",
           0.8212290502793296,
           44,
           115
          ],
          [
           false,
           true,
           null,
           3,
           "out",
           0,
           "NA",
           116
          ],
          [
           false,
           true,
           null,
           3,
           "out",
           0,
           "NA",
           117
          ],
          [
           true,
           false,
           null,
           3,
           "out",
           0.7386934673366834,
           45,
           118
          ],
          [
           false,
           true,
           null,
           3,
           "out",
           0,
           "NA",
           119
          ],
          [
           true,
           false,
           null,
           3,
           "out",
           0.8156028368794326,
           46,
           120
          ],
          [
           true,
           false,
           null,
           3,
           "out",
           0.8993288590604027,
           47,
           121
          ],
          [
           true,
           false,
           null,
           3,
           "out",
           0.6911764705882353,
           48,
           122
          ],
          [
           true,
           false,
           null,
           3,
           "out",
           0.7407407407407407,
           49,
           123
          ],
          [
           true,
           false,
           null,
           3,
           "out",
           0.9867549668874173,
           50,
           124
          ],
          [
           true,
           false,
           null,
           3,
           "out",
           0.856,
           51,
           125
          ],
          [
           true,
           false,
           null,
           3,
           "out",
           0.6802030456852792,
           52,
           126
          ],
          [
           false,
           true,
           null,
           3,
           "out",
           0,
           "NA",
           127
          ],
          [
           true,
           false,
           null,
           3,
           "out",
           0.8571428571428571,
           53,
           128
          ],
          [
           true,
           false,
           null,
           3,
           "out",
           0.9863013698630136,
           54,
           129
          ],
          [
           false,
           true,
           null,
           3,
           "out",
           0,
           "NA",
           130
          ],
          [
           true,
           false,
           null,
           3,
           "out",
           0.9133333333333333,
           55,
           131
          ],
          [
           false,
           true,
           null,
           3,
           "out",
           0,
           "NA",
           132
          ],
          [
           false,
           true,
           null,
           3,
           "out",
           0,
           "NA",
           133
          ],
          [
           true,
           false,
           null,
           3,
           "out",
           0.5459459459459459,
           56,
           134
          ],
          [
           true,
           false,
           null,
           3,
           "out",
           0.8333333333333334,
           57,
           135
          ],
          [
           false,
           true,
           null,
           3,
           "out",
           0,
           "NA",
           136
          ],
          [
           true,
           false,
           null,
           3,
           "out",
           0.9777777777777777,
           58,
           137
          ],
          [
           true,
           false,
           null,
           3,
           "out",
           0.9139072847682119,
           59,
           138
          ],
          [
           true,
           false,
           null,
           3,
           "out",
           0.7982456140350878,
           60,
           139
          ],
          [
           true,
           false,
           null,
           3,
           "out",
           0.6865671641791045,
           61,
           140
          ],
          [
           false,
           true,
           null,
           3,
           "out",
           0,
           "NA",
           141
          ],
          [
           false,
           true,
           null,
           3,
           "out",
           0,
           "NA",
           142
          ],
          [
           false,
           true,
           null,
           3,
           "out",
           0,
           "NA",
           143
          ],
          [
           true,
           false,
           null,
           3,
           "out",
           0.8258928571428571,
           63,
           144
          ],
          [
           false,
           true,
           null,
           3,
           "out",
           0,
           "NA",
           145
          ],
          [
           true,
           false,
           null,
           3,
           "out",
           0.9166666666666666,
           64,
           146
          ],
          [
           true,
           false,
           null,
           3,
           "out",
           0.7708333333333334,
           65,
           147
          ],
          [
           false,
           true,
           null,
           3,
           "out",
           0,
           "NA",
           148
          ],
          [
           true,
           false,
           null,
           3,
           "out",
           0.7903225806451613,
           66,
           149
          ],
          [
           true,
           false,
           null,
           3,
           "out",
           0.7342995169082126,
           67,
           150
          ],
          [
           false,
           true,
           null,
           3,
           "out",
           0,
           "NA",
           151
          ],
          [
           true,
           false,
           null,
           3,
           "out",
           0.8144329896907216,
           68,
           152
          ],
          [
           false,
           true,
           null,
           3,
           "out",
           0,
           "NA",
           153
          ],
          [
           false,
           true,
           null,
           3,
           "out",
           0,
           "NA",
           154
          ],
          [
           false,
           true,
           null,
           3,
           "out",
           0,
           "NA",
           155
          ],
          [
           false,
           true,
           null,
           3,
           "out",
           0,
           "NA",
           156
          ],
          [
           false,
           true,
           null,
           3,
           "out",
           0,
           "NA",
           157
          ],
          [
           true,
           false,
           null,
           3,
           "out",
           0.6796875,
           69,
           158
          ],
          [
           true,
           false,
           null,
           3,
           "out",
           0.9497206703910615,
           70,
           159
          ],
          [
           false,
           true,
           null,
           3,
           "out",
           0,
           "NA",
           160
          ],
          [
           false,
           true,
           null,
           3,
           "out",
           0,
           "NA",
           161
          ],
          [
           true,
           false,
           null,
           3,
           "out",
           0.815028901734104,
           71,
           162
          ],
          [
           true,
           false,
           null,
           3,
           "out",
           0.7375886524822695,
           72,
           163
          ],
          [
           false,
           true,
           null,
           3,
           "out",
           0,
           "NA",
           164
          ],
          [
           true,
           false,
           null,
           3,
           "out",
           0.5844748858447488,
           73,
           165
          ],
          [
           true,
           false,
           null,
           3,
           "out",
           0.8609271523178808,
           74,
           166
          ],
          [
           true,
           false,
           null,
           3,
           "out",
           0.6954022988505747,
           75,
           167
          ],
          [
           false,
           true,
           null,
           3,
           "out",
           0,
           "NA",
           168
          ],
          [
           false,
           true,
           null,
           3,
           "out",
           0,
           "NA",
           169
          ],
          [
           true,
           false,
           null,
           3,
           "out",
           0.8792270531400966,
           76,
           170
          ],
          [
           true,
           false,
           null,
           3,
           "out",
           0.7268722466960352,
           77,
           171
          ],
          [
           false,
           true,
           null,
           3,
           "out",
           0,
           "NA",
           172
          ],
          [
           false,
           true,
           null,
           3,
           "out",
           0,
           "NA",
           173
          ],
          [
           false,
           true,
           null,
           3,
           "out",
           0,
           "NA",
           174
          ],
          [
           true,
           false,
           null,
           3,
           "out",
           0.8724279835390947,
           78,
           175
          ],
          [
           false,
           true,
           null,
           3,
           "out",
           0,
           "NA",
           176
          ],
          [
           true,
           false,
           null,
           3,
           "out",
           0.7677725118483413,
           79,
           177
          ],
          [
           true,
           false,
           null,
           3,
           "out",
           0.9135135135135135,
           80,
           178
          ],
          [
           true,
           false,
           null,
           3,
           "out",
           0.7900552486187845,
           81,
           179
          ],
          [
           true,
           false,
           null,
           3,
           "out",
           0.6926605504587156,
           82,
           180
          ],
          [
           false,
           true,
           null,
           3,
           "out",
           0,
           "NA",
           181
          ],
          [
           true,
           false,
           null,
           3,
           "out",
           0.9177489177489178,
           83,
           182
          ],
          [
           false,
           true,
           null,
           3,
           "out",
           0,
           "NA",
           183
          ],
          [
           true,
           false,
           null,
           3,
           "out",
           0.7982062780269058,
           84,
           184
          ],
          [
           false,
           true,
           null,
           3,
           "out",
           0,
           "NA",
           185
          ],
          [
           false,
           true,
           null,
           3,
           "out",
           0,
           "NA",
           186
          ],
          [
           false,
           true,
           null,
           3,
           "out",
           0,
           "NA",
           187
          ],
          [
           false,
           true,
           null,
           3,
           "out",
           0,
           "NA",
           188
          ],
          [
           false,
           true,
           null,
           3,
           "out",
           0,
           "NA",
           189
          ],
          [
           true,
           false,
           null,
           3,
           "out",
           0.7023255813953488,
           85,
           190
          ],
          [
           false,
           true,
           null,
           3,
           "out",
           0,
           "NA",
           191
          ],
          [
           false,
           true,
           null,
           3,
           "out",
           0,
           "NA",
           192
          ],
          [
           false,
           true,
           null,
           3,
           "out",
           0,
           "NA",
           193
          ],
          [
           true,
           false,
           null,
           3,
           "out",
           0.9,
           86,
           194
          ],
          [
           true,
           false,
           null,
           3,
           "out",
           0.8390243902439024,
           87,
           195
          ],
          [
           false,
           true,
           null,
           3,
           "out",
           0,
           "NA",
           196
          ],
          [
           true,
           false,
           null,
           3,
           "out",
           0.8333333333333334,
           88,
           197
          ],
          [
           true,
           false,
           null,
           3,
           "out",
           0.7379679144385026,
           89,
           198
          ],
          [
           false,
           true,
           null,
           3,
           "out",
           0,
           "NA",
           199
          ],
          [
           false,
           true,
           null,
           3,
           "out",
           0,
           "NA",
           200
          ],
          [
           true,
           false,
           null,
           3,
           "out",
           0.7613636363636364,
           90,
           201
          ],
          [
           false,
           true,
           null,
           3,
           "out",
           0,
           "NA",
           202
          ],
          [
           false,
           true,
           null,
           3,
           "out",
           0,
           "NA",
           203
          ],
          [
           false,
           true,
           null,
           3,
           "out",
           0,
           "NA",
           204
          ],
          [
           false,
           true,
           null,
           3,
           "out",
           0,
           "NA",
           205
          ],
          [
           true,
           false,
           null,
           3,
           "out",
           0.9178082191780822,
           91,
           206
          ],
          [
           false,
           true,
           null,
           3,
           "out",
           0,
           "NA",
           207
          ],
          [
           false,
           true,
           null,
           3,
           "out",
           0,
           "NA",
           208
          ],
          [
           false,
           true,
           null,
           3,
           "out",
           0,
           "NA",
           209
          ],
          [
           true,
           false,
           null,
           3,
           "out",
           0.8476190476190476,
           92,
           210
          ],
          [
           false,
           true,
           null,
           3,
           "out",
           0,
           "NA",
           211
          ],
          [
           true,
           false,
           null,
           3,
           "out",
           0.8702702702702703,
           93,
           212
          ],
          [
           false,
           true,
           null,
           3,
           "out",
           0,
           "NA",
           213
          ],
          [
           true,
           false,
           null,
           3,
           "out",
           0.69,
           94,
           214
          ],
          [
           false,
           true,
           null,
           3,
           "out",
           0,
           "NA",
           215
          ],
          [
           false,
           true,
           null,
           3,
           "out",
           0,
           "NA",
           216
          ],
          [
           false,
           true,
           null,
           3,
           "out",
           0,
           "NA",
           217
          ],
          [
           false,
           true,
           null,
           3,
           "out",
           0,
           "NA",
           218
          ],
          [
           false,
           true,
           null,
           3,
           "out",
           0,
           "NA",
           219
          ],
          [
           true,
           false,
           null,
           3,
           "out",
           0.8372093023255814,
           95,
           220
          ],
          [
           true,
           false,
           null,
           3,
           "out",
           0.6105769230769231,
           96,
           221
          ],
          [
           false,
           true,
           null,
           3,
           "out",
           0,
           "NA",
           222
          ],
          [
           true,
           false,
           null,
           3,
           "out",
           0.5721649484536082,
           97,
           223
          ],
          [
           true,
           false,
           null,
           3,
           "out",
           0.7419354838709677,
           98,
           224
          ],
          [
           false,
           true,
           null,
           3,
           "out",
           0,
           "NA",
           225
          ],
          [
           false,
           true,
           null,
           3,
           "out",
           0,
           "NA",
           226
          ],
          [
           false,
           true,
           null,
           3,
           "out",
           0,
           "NA",
           227
          ],
          [
           false,
           true,
           null,
           3,
           "out",
           0,
           "NA",
           228
          ],
          [
           false,
           true,
           null,
           3,
           "out",
           0,
           "NA",
           229
          ],
          [
           false,
           true,
           null,
           3,
           "out",
           0,
           "NA",
           230
          ],
          [
           false,
           true,
           null,
           3,
           "out",
           0,
           "NA",
           231
          ],
          [
           false,
           true,
           null,
           3,
           "out",
           0,
           "NA",
           232
          ],
          [
           false,
           true,
           null,
           3,
           "out",
           0,
           "NA",
           233
          ],
          [
           false,
           true,
           null,
           3,
           "out",
           0,
           "NA",
           234
          ],
          [
           false,
           true,
           null,
           3,
           "out",
           0,
           "NA",
           235
          ],
          [
           false,
           true,
           null,
           3,
           "out",
           0,
           "NA",
           236
          ],
          [
           false,
           true,
           null,
           3,
           "out",
           0,
           "NA",
           237
          ],
          [
           false,
           true,
           null,
           3,
           "out",
           0,
           "NA",
           238
          ],
          [
           true,
           false,
           null,
           3,
           "out",
           0.676829268292683,
           99,
           239
          ],
          [
           true,
           false,
           null,
           3,
           "out",
           0.6717948717948717,
           100,
           240
          ],
          [
           false,
           true,
           null,
           3,
           "out",
           0,
           "NA",
           241
          ],
          [
           false,
           true,
           null,
           3,
           "out",
           0,
           "NA",
           242
          ],
          [
           false,
           true,
           null,
           3,
           "out",
           0,
           "NA",
           243
          ],
          [
           false,
           true,
           null,
           3,
           "out",
           0,
           "NA",
           244
          ],
          [
           true,
           false,
           null,
           3,
           "out",
           0.76,
           101,
           245
          ],
          [
           false,
           true,
           null,
           3,
           "out",
           0,
           "NA",
           246
          ],
          [
           false,
           true,
           null,
           3,
           "out",
           0,
           "NA",
           247
          ],
          [
           false,
           true,
           null,
           3,
           "out",
           0,
           "NA",
           248
          ],
          [
           false,
           true,
           null,
           3,
           "out",
           0,
           "NA",
           249
          ],
          [
           false,
           true,
           null,
           3,
           "out",
           0,
           "NA",
           250
          ],
          [
           false,
           true,
           null,
           3,
           "out",
           0,
           "NA",
           251
          ],
          [
           true,
           false,
           null,
           3,
           "out",
           0.8814432989690721,
           102,
           252
          ],
          [
           false,
           true,
           null,
           3,
           "out",
           0,
           "NA",
           253
          ],
          [
           false,
           true,
           null,
           3,
           "out",
           0,
           "NA",
           254
          ],
          [
           false,
           true,
           null,
           3,
           "out",
           0,
           "NA",
           255
          ],
          [
           false,
           true,
           null,
           3,
           "out",
           0,
           "NA",
           256
          ],
          [
           false,
           true,
           null,
           3,
           "out",
           0,
           "NA",
           257
          ],
          [
           false,
           true,
           null,
           3,
           "out",
           0,
           "NA",
           258
          ],
          [
           true,
           false,
           null,
           3,
           "out",
           0.8616352201257862,
           103,
           259
          ],
          [
           false,
           true,
           null,
           3,
           "out",
           0,
           "NA",
           260
          ],
          [
           false,
           true,
           null,
           3,
           "out",
           0,
           "NA",
           261
          ],
          [
           false,
           true,
           null,
           3,
           "out",
           0,
           "NA",
           262
          ],
          [
           false,
           true,
           null,
           3,
           "out",
           0,
           "NA",
           263
          ],
          [
           false,
           true,
           null,
           3,
           "out",
           0,
           "NA",
           264
          ],
          [
           false,
           true,
           null,
           3,
           "out",
           0,
           "NA",
           265
          ],
          [
           true,
           false,
           null,
           3,
           "out",
           0.531578947368421,
           104,
           266
          ],
          [
           false,
           true,
           null,
           3,
           "out",
           0,
           "NA",
           267
          ],
          [
           true,
           false,
           null,
           3,
           "out",
           0.8217522658610272,
           105,
           268
          ],
          [
           false,
           true,
           null,
           3,
           "out",
           0,
           "NA",
           269
          ],
          [
           true,
           false,
           null,
           3,
           "out",
           0.39803439803439805,
           106,
           270
          ],
          [
           true,
           false,
           null,
           3,
           "out",
           0.7419354838709677,
           107,
           271
          ],
          [
           true,
           false,
           null,
           3,
           "out",
           0.7209302325581395,
           108,
           272
          ],
          [
           false,
           true,
           null,
           3,
           "out",
           0,
           "NA",
           273
          ],
          [
           true,
           false,
           null,
           3,
           "out",
           0.8414634146341463,
           109,
           274
          ],
          [
           false,
           true,
           null,
           3,
           "out",
           0,
           "NA",
           275
          ],
          [
           true,
           false,
           null,
           3,
           "out",
           0.7010309278350515,
           110,
           276
          ],
          [
           true,
           false,
           null,
           3,
           "out",
           0.7745664739884393,
           111,
           277
          ],
          [
           false,
           true,
           null,
           3,
           "out",
           0,
           "NA",
           278
          ],
          [
           false,
           true,
           null,
           3,
           "out",
           0,
           "NA",
           279
          ],
          [
           false,
           true,
           null,
           3,
           "out",
           0,
           "NA",
           280
          ],
          [
           true,
           false,
           null,
           3,
           "out",
           0.6887417218543046,
           112,
           281
          ],
          [
           false,
           true,
           null,
           3,
           "out",
           0,
           "NA",
           282
          ],
          [
           true,
           false,
           null,
           3,
           "out",
           0.8155737704918032,
           113,
           283
          ],
          [
           false,
           true,
           null,
           3,
           "out",
           0,
           "NA",
           284
          ],
          [
           false,
           true,
           null,
           3,
           "out",
           0,
           "NA",
           285
          ],
          [
           true,
           false,
           null,
           3,
           "out",
           0.8411764705882353,
           114,
           286
          ],
          [
           false,
           true,
           null,
           3,
           "out",
           0,
           "NA",
           287
          ],
          [
           false,
           true,
           null,
           3,
           "out",
           0,
           "NA",
           288
          ],
          [
           false,
           true,
           null,
           3,
           "out",
           0,
           "NA",
           289
          ],
          [
           true,
           false,
           null,
           3,
           "out",
           0.7714285714285715,
           115,
           290
          ],
          [
           false,
           true,
           null,
           3,
           "out",
           0,
           "NA",
           291
          ],
          [
           true,
           false,
           null,
           3,
           "out",
           0.8857142857142857,
           116,
           292
          ],
          [
           true,
           false,
           null,
           3,
           "out",
           0.8613861386138614,
           117,
           293
          ],
          [
           true,
           false,
           null,
           3,
           "out",
           0.7912087912087912,
           118,
           294
          ],
          [
           false,
           true,
           null,
           3,
           "out",
           0,
           "NA",
           295
          ],
          [
           false,
           true,
           null,
           3,
           "out",
           0,
           "NA",
           296
          ],
          [
           false,
           true,
           null,
           3,
           "out",
           0,
           "NA",
           297
          ],
          [
           true,
           false,
           null,
           3,
           "out",
           0.7613636363636364,
           119,
           298
          ],
          [
           true,
           false,
           null,
           3,
           "out",
           0.9,
           120,
           299
          ],
          [
           true,
           false,
           null,
           3,
           "out",
           0.9230769230769231,
           121,
           300
          ],
          [
           true,
           false,
           null,
           3,
           "out",
           0.7148936170212766,
           122,
           301
          ],
          [
           false,
           true,
           null,
           3,
           "out",
           0,
           "NA",
           302
          ],
          [
           true,
           false,
           null,
           3,
           "out",
           0.8290155440414507,
           123,
           303
          ],
          [
           true,
           false,
           null,
           3,
           "out",
           0.7484662576687117,
           124,
           304
          ],
          [
           true,
           false,
           null,
           3,
           "out",
           0.6210526315789474,
           125,
           305
          ],
          [
           true,
           false,
           null,
           3,
           "out",
           0.851063829787234,
           126,
           306
          ],
          [
           false,
           true,
           null,
           3,
           "out",
           0,
           "NA",
           307
          ],
          [
           true,
           false,
           null,
           3,
           "out",
           0.8447488584474886,
           127,
           308
          ],
          [
           true,
           false,
           null,
           3,
           "out",
           0.848780487804878,
           128,
           309
          ],
          [
           false,
           true,
           null,
           3,
           "out",
           0,
           "NA",
           310
          ],
          [
           false,
           true,
           null,
           3,
           "out",
           0,
           "NA",
           311
          ],
          [
           false,
           true,
           null,
           3,
           "out",
           0,
           "NA",
           312
          ],
          [
           false,
           true,
           null,
           3,
           "out",
           0,
           "NA",
           313
          ],
          [
           false,
           true,
           null,
           3,
           "out",
           0,
           "NA",
           314
          ],
          [
           true,
           false,
           null,
           3,
           "out",
           0.8316831683168316,
           129,
           315
          ],
          [
           false,
           true,
           null,
           3,
           "out",
           0,
           "NA",
           316
          ],
          [
           false,
           true,
           null,
           3,
           "out",
           0,
           "NA",
           317
          ],
          [
           true,
           false,
           null,
           3,
           "out",
           0.7769784172661871,
           130,
           318
          ],
          [
           true,
           false,
           null,
           3,
           "out",
           0.7105263157894737,
           131,
           319
          ],
          [
           false,
           true,
           null,
           3,
           "out",
           0,
           "NA",
           320
          ],
          [
           true,
           false,
           null,
           3,
           "out",
           0.8389261744966443,
           132,
           321
          ],
          [
           true,
           false,
           null,
           3,
           "out",
           0.8671328671328671,
           133,
           322
          ],
          [
           false,
           true,
           null,
           3,
           "out",
           0,
           "NA",
           323
          ],
          [
           true,
           false,
           null,
           3,
           "out",
           0.7213622291021672,
           134,
           324
          ],
          [
           false,
           true,
           null,
           3,
           "out",
           0,
           "NA",
           325
          ],
          [
           false,
           true,
           null,
           3,
           "out",
           0,
           "NA",
           326
          ],
          [
           false,
           true,
           null,
           3,
           "out",
           0,
           "NA",
           327
          ],
          [
           false,
           true,
           null,
           3,
           "out",
           0,
           "NA",
           328
          ],
          [
           false,
           true,
           null,
           3,
           "out",
           0,
           "NA",
           329
          ],
          [
           false,
           true,
           null,
           3,
           "out",
           0,
           "NA",
           330
          ],
          [
           true,
           false,
           null,
           3,
           "out",
           0.9548022598870056,
           135,
           331
          ],
          [
           false,
           true,
           null,
           3,
           "out",
           0,
           "NA",
           332
          ],
          [
           false,
           true,
           null,
           3,
           "out",
           0,
           "NA",
           333
          ],
          [
           false,
           true,
           null,
           3,
           "out",
           0,
           "NA",
           334
          ],
          [
           false,
           true,
           null,
           3,
           "out",
           0,
           "NA",
           335
          ],
          [
           false,
           true,
           null,
           3,
           "out",
           0,
           "NA",
           336
          ],
          [
           false,
           true,
           null,
           3,
           "out",
           0,
           "NA",
           337
          ],
          [
           false,
           true,
           null,
           3,
           "out",
           0,
           "NA",
           338
          ],
          [
           true,
           false,
           null,
           3,
           "out",
           0.6683168316831684,
           136,
           339
          ],
          [
           false,
           true,
           null,
           3,
           "out",
           0,
           "NA",
           340
          ],
          [
           true,
           false,
           null,
           3,
           "out",
           0.9248554913294798,
           137,
           341
          ],
          [
           false,
           true,
           null,
           3,
           "out",
           0,
           "NA",
           342
          ],
          [
           false,
           true,
           null,
           3,
           "out",
           0,
           "NA",
           343
          ],
          [
           true,
           false,
           null,
           3,
           "out",
           0.7,
           138,
           344
          ],
          [
           false,
           true,
           null,
           3,
           "out",
           0,
           "NA",
           345
          ],
          [
           false,
           true,
           null,
           3,
           "out",
           0,
           "NA",
           346
          ],
          [
           false,
           true,
           null,
           3,
           "out",
           0,
           "NA",
           347
          ],
          [
           true,
           false,
           null,
           3,
           "out",
           0.44919786096256686,
           139,
           348
          ],
          [
           true,
           false,
           null,
           3,
           "out",
           0.6994535519125683,
           140,
           349
          ],
          [
           true,
           false,
           null,
           3,
           "out",
           0.8432835820895522,
           141,
           350
          ],
          [
           true,
           false,
           null,
           3,
           "out",
           0.9338235294117647,
           142,
           351
          ],
          [
           false,
           true,
           null,
           3,
           "out",
           0,
           "NA",
           352
          ],
          [
           false,
           true,
           null,
           3,
           "out",
           0,
           "NA",
           353
          ],
          [
           false,
           true,
           null,
           3,
           "out",
           0,
           "NA",
           354
          ],
          [
           false,
           true,
           null,
           3,
           "out",
           0,
           "NA",
           355
          ],
          [
           false,
           true,
           null,
           3,
           "out",
           0,
           "NA",
           356
          ],
          [
           true,
           false,
           null,
           3,
           "out",
           0.4807017543859649,
           143,
           357
          ],
          [
           true,
           false,
           null,
           3,
           "out",
           0.9415204678362573,
           144,
           358
          ],
          [
           false,
           true,
           null,
           3,
           "out",
           0,
           "NA",
           359
          ],
          [
           false,
           true,
           null,
           3,
           "out",
           0,
           "NA",
           360
          ],
          [
           false,
           true,
           null,
           3,
           "out",
           0,
           "NA",
           361
          ],
          [
           false,
           true,
           null,
           3,
           "out",
           0,
           "NA",
           362
          ],
          [
           true,
           false,
           null,
           3,
           "out",
           0.8659217877094972,
           145,
           363
          ],
          [
           true,
           false,
           null,
           3,
           "out",
           0.7045454545454546,
           146,
           364
          ],
          [
           false,
           true,
           null,
           3,
           "out",
           0,
           "NA",
           365
          ],
          [
           true,
           false,
           null,
           3,
           "out",
           0.7527472527472527,
           147,
           366
          ],
          [
           false,
           true,
           null,
           3,
           "out",
           0,
           "NA",
           367
          ],
          [
           true,
           false,
           null,
           3,
           "out",
           0.67,
           148,
           368
          ],
          [
           false,
           true,
           null,
           3,
           "out",
           0,
           "NA",
           369
          ],
          [
           false,
           true,
           null,
           3,
           "out",
           0,
           "NA",
           370
          ],
          [
           false,
           true,
           null,
           3,
           "out",
           0,
           "NA",
           371
          ],
          [
           false,
           true,
           null,
           3,
           "out",
           0,
           "NA",
           372
          ],
          [
           false,
           true,
           null,
           3,
           "out",
           0,
           "NA",
           373
          ],
          [
           true,
           false,
           null,
           3,
           "out",
           0.735632183908046,
           149,
           374
          ],
          [
           true,
           false,
           null,
           3,
           "out",
           0.631336405529954,
           150,
           375
          ],
          [
           true,
           false,
           null,
           3,
           "out",
           0.8629441624365483,
           151,
           376
          ],
          [
           false,
           true,
           null,
           3,
           "out",
           0,
           "NA",
           377
          ],
          [
           false,
           true,
           null,
           3,
           "out",
           0,
           "NA",
           378
          ],
          [
           true,
           false,
           null,
           3,
           "out",
           0.729957805907173,
           152,
           379
          ],
          [
           true,
           false,
           null,
           3,
           "out",
           0.884393063583815,
           153,
           380
          ],
          [
           false,
           true,
           null,
           3,
           "out",
           0,
           "NA",
           381
          ],
          [
           false,
           true,
           null,
           3,
           "out",
           0,
           "NA",
           382
          ],
          [
           true,
           false,
           null,
           3,
           "out",
           0.8283582089552238,
           154,
           383
          ],
          [
           false,
           true,
           null,
           3,
           "out",
           0,
           "NA",
           384
          ],
          [
           false,
           true,
           null,
           3,
           "out",
           0,
           "NA",
           385
          ],
          [
           true,
           false,
           null,
           3,
           "out",
           0.6905829596412556,
           155,
           386
          ],
          [
           true,
           false,
           null,
           3,
           "out",
           0.7005347593582888,
           156,
           387
          ],
          [
           false,
           true,
           null,
           3,
           "out",
           0,
           "NA",
           388
          ],
          [
           false,
           true,
           null,
           3,
           "out",
           0,
           "NA",
           389
          ],
          [
           false,
           true,
           null,
           3,
           "out",
           0,
           "NA",
           390
          ],
          [
           true,
           false,
           null,
           3,
           "out",
           0.8571428571428571,
           157,
           391
          ],
          [
           false,
           true,
           null,
           3,
           "out",
           0,
           "NA",
           392
          ],
          [
           true,
           false,
           null,
           3,
           "out",
           0.958904109589041,
           158,
           393
          ],
          [
           false,
           true,
           null,
           3,
           "out",
           0,
           "NA",
           394
          ],
          [
           false,
           true,
           null,
           3,
           "out",
           0,
           "NA",
           395
          ],
          [
           false,
           true,
           null,
           3,
           "out",
           0,
           "NA",
           396
          ],
          [
           false,
           true,
           null,
           3,
           "out",
           0,
           "NA",
           397
          ],
          [
           true,
           false,
           null,
           3,
           "out",
           0.7446808510638298,
           159,
           398
          ],
          [
           false,
           true,
           null,
           3,
           "out",
           0,
           "NA",
           399
          ],
          [
           false,
           true,
           null,
           3,
           "out",
           0,
           "NA",
           400
          ],
          [
           false,
           true,
           null,
           3,
           "out",
           0,
           "NA",
           401
          ],
          [
           true,
           false,
           null,
           3,
           "out",
           0.6573033707865169,
           160,
           402
          ],
          [
           true,
           false,
           null,
           3,
           "out",
           0.7976878612716763,
           161,
           403
          ],
          [
           true,
           false,
           null,
           3,
           "out",
           0.815028901734104,
           162,
           404
          ],
          [
           true,
           false,
           null,
           3,
           "out",
           0.6545454545454545,
           163,
           405
          ],
          [
           true,
           false,
           null,
           3,
           "out",
           0.7763157894736842,
           164,
           406
          ],
          [
           false,
           true,
           null,
           3,
           "out",
           0,
           "NA",
           407
          ],
          [
           true,
           false,
           null,
           3,
           "out",
           0.8549222797927462,
           165,
           408
          ],
          [
           false,
           true,
           null,
           3,
           "out",
           0,
           "NA",
           409
          ],
          [
           true,
           false,
           null,
           3,
           "out",
           0.8454106280193237,
           166,
           410
          ],
          [
           true,
           false,
           null,
           3,
           "out",
           0.827906976744186,
           167,
           411
          ],
          [
           true,
           false,
           null,
           3,
           "out",
           0.8181818181818182,
           168,
           412
          ],
          [
           false,
           true,
           null,
           3,
           "out",
           0,
           "NA",
           413
          ],
          [
           true,
           false,
           null,
           3,
           "out",
           0.6124031007751938,
           169,
           414
          ],
          [
           true,
           false,
           null,
           3,
           "out",
           0.8142857142857143,
           170,
           415
          ],
          [
           true,
           false,
           null,
           3,
           "out",
           0.7419354838709677,
           171,
           416
          ],
          [
           true,
           false,
           null,
           3,
           "out",
           0.9541984732824428,
           172,
           417
          ],
          [
           false,
           true,
           null,
           3,
           "out",
           0,
           "NA",
           418
          ],
          [
           false,
           true,
           null,
           3,
           "out",
           0,
           "NA",
           419
          ],
          [
           false,
           true,
           null,
           3,
           "out",
           0,
           "NA",
           420
          ],
          [
           false,
           true,
           null,
           3,
           "out",
           0,
           "NA",
           421
          ],
          [
           false,
           true,
           null,
           3,
           "out",
           0,
           "NA",
           422
          ],
          [
           false,
           true,
           null,
           3,
           "out",
           0,
           "NA",
           423
          ],
          [
           true,
           false,
           null,
           3,
           "out",
           0.834061135371179,
           173,
           424
          ],
          [
           true,
           false,
           null,
           3,
           "out",
           0.7156862745098039,
           174,
           425
          ],
          [
           false,
           true,
           null,
           3,
           "out",
           0,
           "NA",
           426
          ],
          [
           false,
           true,
           null,
           3,
           "out",
           0,
           "NA",
           427
          ],
          [
           false,
           true,
           null,
           3,
           "out",
           0,
           "NA",
           428
          ],
          [
           false,
           true,
           null,
           3,
           "out",
           0,
           "NA",
           429
          ],
          [
           false,
           true,
           null,
           3,
           "out",
           0,
           "NA",
           430
          ],
          [
           true,
           false,
           null,
           3,
           "out",
           0.75,
           175,
           431
          ],
          [
           false,
           true,
           null,
           3,
           "out",
           0,
           "NA",
           432
          ],
          [
           true,
           false,
           null,
           3,
           "out",
           0.949438202247191,
           176,
           433
          ],
          [
           true,
           false,
           null,
           3,
           "out",
           0.6858638743455497,
           177,
           434
          ],
          [
           true,
           false,
           null,
           3,
           "out",
           0.8375,
           178,
           435
          ],
          [
           false,
           true,
           null,
           3,
           "out",
           0,
           "NA",
           436
          ],
          [
           true,
           false,
           null,
           3,
           "out",
           0.7509025270758123,
           179,
           437
          ],
          [
           true,
           false,
           null,
           3,
           "out",
           0.7162790697674418,
           180,
           438
          ],
          [
           false,
           true,
           null,
           3,
           "out",
           0,
           "NA",
           439
          ],
          [
           false,
           true,
           null,
           3,
           "out",
           0,
           "NA",
           440
          ],
          [
           true,
           false,
           null,
           3,
           "out",
           0.7689530685920578,
           181,
           441
          ],
          [
           true,
           false,
           null,
           3,
           "out",
           0.927536231884058,
           182,
           442
          ],
          [
           false,
           true,
           null,
           3,
           "out",
           0,
           "NA",
           443
          ],
          [
           false,
           true,
           null,
           3,
           "out",
           0,
           "NA",
           444
          ],
          [
           false,
           true,
           null,
           3,
           "out",
           0,
           "NA",
           445
          ],
          [
           false,
           true,
           null,
           3,
           "out",
           0,
           "NA",
           446
          ],
          [
           false,
           true,
           null,
           3,
           "out",
           0,
           "NA",
           447
          ],
          [
           false,
           true,
           null,
           3,
           "out",
           0,
           "NA",
           448
          ],
          [
           true,
           false,
           null,
           3,
           "out",
           0.6633663366336634,
           183,
           449
          ],
          [
           true,
           false,
           null,
           3,
           "out",
           0.8503937007874016,
           184,
           450
          ],
          [
           true,
           false,
           null,
           3,
           "out",
           0.8518518518518519,
           185,
           451
          ],
          [
           true,
           false,
           null,
           3,
           "out",
           0.8561643835616438,
           186,
           452
          ],
          [
           true,
           false,
           null,
           3,
           "out",
           0.9044943820224719,
           187,
           453
          ],
          [
           true,
           false,
           null,
           3,
           "out",
           0.6505376344086021,
           188,
           454
          ],
          [
           false,
           true,
           null,
           3,
           "out",
           0,
           "NA",
           455
          ],
          [
           false,
           true,
           null,
           3,
           "out",
           0,
           "NA",
           456
          ],
          [
           false,
           true,
           null,
           3,
           "out",
           0,
           "NA",
           457
          ],
          [
           false,
           true,
           null,
           3,
           "out",
           0,
           "NA",
           458
          ],
          [
           true,
           false,
           null,
           3,
           "out",
           0.7777777777777778,
           189,
           459
          ],
          [
           true,
           false,
           null,
           3,
           "out",
           0.7635467980295566,
           190,
           460
          ],
          [
           false,
           true,
           null,
           3,
           "out",
           0,
           "NA",
           461
          ],
          [
           true,
           false,
           null,
           3,
           "out",
           0.7671232876712328,
           191,
           462
          ],
          [
           false,
           true,
           null,
           3,
           "out",
           0,
           "NA",
           463
          ],
          [
           false,
           true,
           null,
           3,
           "out",
           0,
           "NA",
           464
          ],
          [
           true,
           false,
           null,
           3,
           "out",
           0.8636363636363636,
           192,
           465
          ],
          [
           false,
           true,
           null,
           3,
           "out",
           0,
           "NA",
           466
          ],
          [
           false,
           true,
           null,
           3,
           "out",
           0,
           "NA",
           467
          ],
          [
           true,
           false,
           null,
           3,
           "out",
           0.8114285714285714,
           193,
           468
          ],
          [
           false,
           true,
           null,
           3,
           "out",
           0,
           "NA",
           469
          ],
          [
           true,
           false,
           null,
           3,
           "out",
           0.8817204301075269,
           194,
           470
          ],
          [
           true,
           false,
           null,
           3,
           "out",
           0.5829596412556054,
           195,
           471
          ],
          [
           false,
           true,
           null,
           3,
           "out",
           0,
           "NA",
           472
          ],
          [
           false,
           true,
           null,
           3,
           "out",
           0,
           "NA",
           473
          ],
          [
           true,
           false,
           null,
           3,
           "out",
           0.8055555555555556,
           196,
           474
          ],
          [
           false,
           true,
           null,
           3,
           "out",
           0,
           "NA",
           475
          ],
          [
           true,
           false,
           null,
           3,
           "out",
           0.8660287081339713,
           197,
           476
          ],
          [
           false,
           true,
           null,
           3,
           "out",
           0,
           "NA",
           477
          ],
          [
           false,
           true,
           null,
           3,
           "out",
           0,
           "NA",
           478
          ],
          [
           false,
           true,
           null,
           3,
           "out",
           0,
           "NA",
           479
          ],
          [
           true,
           false,
           null,
           3,
           "out",
           0.834319526627219,
           198,
           480
          ],
          [
           false,
           true,
           null,
           3,
           "out",
           0,
           "NA",
           481
          ],
          [
           false,
           true,
           null,
           3,
           "out",
           0,
           "NA",
           482
          ],
          [
           true,
           false,
           null,
           3,
           "out",
           0.891566265060241,
           199,
           483
          ],
          [
           true,
           false,
           null,
           3,
           "out",
           0.9527027027027027,
           200,
           484
          ],
          [
           false,
           true,
           null,
           3,
           "out",
           0,
           "NA",
           485
          ],
          [
           true,
           false,
           null,
           3,
           "out",
           0.8944723618090452,
           201,
           486
          ],
          [
           false,
           true,
           null,
           3,
           "out",
           0,
           "NA",
           487
          ],
          [
           false,
           true,
           null,
           3,
           "out",
           0,
           "NA",
           488
          ],
          [
           false,
           true,
           null,
           3,
           "out",
           0,
           "NA",
           489
          ],
          [
           true,
           false,
           null,
           3,
           "out",
           0.7439613526570048,
           202,
           490
          ],
          [
           true,
           false,
           null,
           3,
           "out",
           0.8076923076923077,
           203,
           491
          ],
          [
           true,
           false,
           null,
           3,
           "out",
           0.6359223300970874,
           204,
           492
          ],
          [
           false,
           true,
           null,
           3,
           "out",
           0,
           "NA",
           493
          ],
          [
           false,
           true,
           null,
           3,
           "out",
           0,
           "NA",
           494
          ],
          [
           true,
           false,
           null,
           3,
           "out",
           0.7783783783783784,
           205,
           495
          ],
          [
           true,
           false,
           null,
           3,
           "out",
           0.8228571428571428,
           206,
           496
          ],
          [
           false,
           true,
           null,
           3,
           "out",
           0,
           "NA",
           497
          ],
          [
           false,
           true,
           null,
           3,
           "out",
           0,
           "NA",
           498
          ],
          [
           true,
           false,
           null,
           3,
           "out",
           0.8980891719745223,
           207,
           499
          ],
          [
           false,
           true,
           null,
           3,
           "out",
           0,
           "NA",
           500
          ],
          [
           false,
           true,
           null,
           3,
           "out",
           0,
           "NA",
           501
          ],
          [
           true,
           false,
           null,
           3,
           "out",
           0.8974358974358975,
           208,
           502
          ],
          [
           true,
           false,
           null,
           3,
           "out",
           0.770764119601329,
           209,
           503
          ],
          [
           true,
           false,
           null,
           3,
           "out",
           0.7337278106508875,
           210,
           504
          ],
          [
           false,
           true,
           null,
           3,
           "out",
           0,
           "NA",
           505
          ],
          [
           false,
           true,
           null,
           3,
           "out",
           0,
           "NA",
           506
          ],
          [
           false,
           true,
           null,
           3,
           "out",
           0,
           "NA",
           507
          ],
          [
           true,
           false,
           null,
           3,
           "out",
           0.9823529411764705,
           211,
           508
          ],
          [
           false,
           true,
           null,
           3,
           "out",
           0,
           "NA",
           509
          ],
          [
           true,
           false,
           null,
           3,
           "out",
           0.861244019138756,
           212,
           510
          ],
          [
           false,
           true,
           null,
           3,
           "out",
           0,
           "NA",
           511
          ],
          [
           false,
           true,
           null,
           3,
           "out",
           0,
           "NA",
           512
          ],
          [
           false,
           true,
           null,
           3,
           "out",
           0,
           "NA",
           513
          ],
          [
           false,
           true,
           null,
           3,
           "out",
           0,
           "NA",
           514
          ],
          [
           false,
           true,
           null,
           3,
           "out",
           0,
           "NA",
           515
          ],
          [
           false,
           true,
           null,
           3,
           "out",
           0,
           "NA",
           516
          ],
          [
           false,
           true,
           null,
           3,
           "out",
           0,
           "NA",
           517
          ],
          [
           false,
           true,
           null,
           3,
           "out",
           0,
           "NA",
           518
          ],
          [
           true,
           false,
           null,
           3,
           "out",
           0.7277777777777777,
           213,
           519
          ],
          [
           true,
           false,
           null,
           3,
           "out",
           0.8240740740740741,
           214,
           520
          ],
          [
           true,
           false,
           null,
           3,
           "out",
           0.9006211180124224,
           215,
           521
          ],
          [
           false,
           true,
           null,
           3,
           "out",
           0,
           "NA",
           522
          ],
          [
           true,
           false,
           null,
           3,
           "out",
           0.825,
           216,
           523
          ],
          [
           false,
           true,
           null,
           3,
           "out",
           0,
           "NA",
           524
          ],
          [
           false,
           true,
           null,
           3,
           "out",
           0,
           "NA",
           525
          ],
          [
           false,
           true,
           null,
           3,
           "out",
           0,
           "NA",
           526
          ],
          [
           false,
           true,
           null,
           3,
           "out",
           0,
           "NA",
           527
          ],
          [
           true,
           false,
           null,
           3,
           "out",
           0.685,
           217,
           528
          ],
          [
           false,
           true,
           null,
           3,
           "out",
           0,
           "NA",
           529
          ],
          [
           false,
           true,
           null,
           3,
           "out",
           0,
           "NA",
           530
          ],
          [
           true,
           false,
           null,
           3,
           "out",
           0.7708333333333334,
           218,
           531
          ],
          [
           true,
           false,
           null,
           3,
           "out",
           0.9101796407185628,
           219,
           532
          ],
          [
           false,
           true,
           null,
           3,
           "out",
           0,
           "NA",
           533
          ],
          [
           false,
           true,
           null,
           3,
           "out",
           0,
           "NA",
           534
          ],
          [
           true,
           false,
           null,
           3,
           "out",
           0.6971153846153846,
           220,
           535
          ],
          [
           true,
           false,
           null,
           3,
           "out",
           0.84375,
           221,
           536
          ],
          [
           false,
           true,
           null,
           3,
           "out",
           0,
           "NA",
           537
          ],
          [
           false,
           true,
           null,
           3,
           "out",
           0,
           "NA",
           538
          ],
          [
           false,
           true,
           null,
           3,
           "out",
           0,
           "NA",
           539
          ],
          [
           false,
           true,
           null,
           3,
           "out",
           0,
           "NA",
           540
          ],
          [
           true,
           false,
           null,
           3,
           "out",
           0.7921348314606742,
           222,
           541
          ],
          [
           false,
           true,
           null,
           3,
           "out",
           0,
           "NA",
           542
          ],
          [
           true,
           false,
           null,
           3,
           "out",
           0.896551724137931,
           223,
           543
          ],
          [
           false,
           true,
           null,
           3,
           "out",
           0,
           "NA",
           544
          ],
          [
           false,
           true,
           null,
           3,
           "out",
           0,
           "NA",
           545
          ],
          [
           true,
           false,
           null,
           3,
           "out",
           0.8502673796791443,
           224,
           546
          ],
          [
           false,
           true,
           null,
           3,
           "out",
           0,
           "NA",
           547
          ],
          [
           true,
           false,
           null,
           3,
           "out",
           0.5978260869565217,
           225,
           548
          ],
          [
           false,
           true,
           null,
           3,
           "out",
           0,
           "NA",
           549
          ],
          [
           false,
           true,
           null,
           3,
           "out",
           0,
           "NA",
           550
          ],
          [
           false,
           true,
           null,
           3,
           "out",
           0,
           "NA",
           551
          ],
          [
           true,
           false,
           null,
           3,
           "out",
           0.803921568627451,
           227,
           552
          ],
          [
           false,
           true,
           null,
           3,
           "out",
           0,
           "NA",
           553
          ],
          [
           false,
           true,
           null,
           3,
           "out",
           0,
           "NA",
           554
          ],
          [
           false,
           true,
           null,
           3,
           "out",
           0,
           "NA",
           555
          ],
          [
           false,
           true,
           null,
           3,
           "out",
           0,
           "NA",
           556
          ],
          [
           false,
           true,
           null,
           3,
           "out",
           0,
           "NA",
           557
          ],
          [
           true,
           false,
           null,
           3,
           "out",
           0.7159763313609467,
           228,
           558
          ],
          [
           true,
           false,
           null,
           3,
           "out",
           0.745945945945946,
           229,
           559
          ],
          [
           false,
           true,
           null,
           3,
           "out",
           0,
           "NA",
           560
          ],
          [
           false,
           true,
           null,
           3,
           "out",
           0,
           "NA",
           561
          ],
          [
           false,
           true,
           null,
           3,
           "out",
           0,
           "NA",
           562
          ],
          [
           true,
           false,
           null,
           3,
           "out",
           0.6476683937823834,
           230,
           563
          ],
          [
           false,
           true,
           null,
           3,
           "out",
           0,
           "NA",
           564
          ],
          [
           false,
           true,
           null,
           3,
           "out",
           0,
           "NA",
           565
          ],
          [
           false,
           true,
           null,
           3,
           "out",
           0,
           "NA",
           566
          ],
          [
           false,
           true,
           null,
           3,
           "out",
           0,
           "NA",
           567
          ],
          [
           false,
           true,
           null,
           3,
           "out",
           0,
           "NA",
           568
          ],
          [
           true,
           false,
           null,
           3,
           "out",
           0.8544303797468354,
           231,
           569
          ],
          [
           false,
           true,
           null,
           3,
           "out",
           0,
           "NA",
           570
          ],
          [
           false,
           true,
           null,
           3,
           "out",
           0,
           "NA",
           571
          ],
          [
           false,
           true,
           null,
           3,
           "out",
           0,
           "NA",
           572
          ],
          [
           false,
           true,
           null,
           3,
           "out",
           0,
           "NA",
           573
          ],
          [
           false,
           true,
           null,
           3,
           "out",
           0,
           "NA",
           574
          ],
          [
           true,
           false,
           null,
           3,
           "out",
           0.75,
           232,
           575
          ],
          [
           false,
           true,
           null,
           3,
           "out",
           0,
           "NA",
           576
          ],
          [
           false,
           true,
           null,
           3,
           "out",
           0,
           "NA",
           577
          ],
          [
           false,
           true,
           null,
           3,
           "out",
           0,
           "NA",
           578
          ],
          [
           true,
           false,
           null,
           3,
           "out",
           0.8953488372093024,
           233,
           579
          ],
          [
           false,
           true,
           null,
           3,
           "out",
           0,
           "NA",
           580
          ],
          [
           false,
           true,
           null,
           3,
           "out",
           0,
           "NA",
           581
          ],
          [
           false,
           true,
           null,
           3,
           "out",
           0,
           "NA",
           582
          ],
          [
           false,
           true,
           null,
           3,
           "out",
           0,
           "NA",
           583
          ],
          [
           false,
           true,
           null,
           3,
           "out",
           0,
           "NA",
           584
          ],
          [
           false,
           true,
           null,
           3,
           "out",
           0,
           "NA",
           585
          ],
          [
           false,
           true,
           null,
           3,
           "out",
           0,
           "NA",
           586
          ],
          [
           false,
           true,
           null,
           3,
           "out",
           0,
           "NA",
           587
          ],
          [
           false,
           true,
           null,
           3,
           "out",
           0,
           "NA",
           588
          ],
          [
           false,
           true,
           null,
           3,
           "out",
           0,
           "NA",
           589
          ],
          [
           true,
           false,
           null,
           3,
           "out",
           0.7375565610859729,
           234,
           590
          ],
          [
           true,
           false,
           null,
           3,
           "out",
           0.7015706806282722,
           235,
           591
          ],
          [
           true,
           false,
           null,
           3,
           "out",
           0.49404761904761907,
           236,
           592
          ],
          [
           true,
           false,
           null,
           3,
           "out",
           0.7532467532467533,
           237,
           593
          ],
          [
           false,
           true,
           null,
           3,
           "out",
           0,
           "NA",
           594
          ],
          [
           true,
           false,
           null,
           3,
           "out",
           0.8372093023255814,
           238,
           595
          ],
          [
           true,
           false,
           null,
           3,
           "out",
           0.803680981595092,
           239,
           596
          ],
          [
           false,
           true,
           null,
           3,
           "out",
           0,
           "NA",
           597
          ],
          [
           true,
           false,
           null,
           3,
           "out",
           0.6188340807174888,
           240,
           598
          ],
          [
           false,
           true,
           null,
           3,
           "out",
           0,
           "NA",
           599
          ],
          [
           false,
           true,
           null,
           3,
           "out",
           0,
           "NA",
           600
          ],
          [
           false,
           true,
           null,
           3,
           "out",
           0,
           "NA",
           601
          ],
          [
           false,
           true,
           null,
           3,
           "out",
           0,
           "NA",
           602
          ],
          [
           false,
           true,
           null,
           3,
           "out",
           0,
           "NA",
           603
          ],
          [
           true,
           false,
           null,
           3,
           "out",
           0.6414473684210527,
           241,
           604
          ],
          [
           true,
           false,
           null,
           3,
           "out",
           0.900523560209424,
           242,
           605
          ],
          [
           true,
           false,
           null,
           3,
           "out",
           0.7783018867924528,
           243,
           606
          ],
          [
           false,
           true,
           null,
           3,
           "out",
           0,
           "NA",
           607
          ],
          [
           false,
           true,
           null,
           3,
           "out",
           0,
           "NA",
           608
          ],
          [
           false,
           true,
           null,
           3,
           "out",
           0,
           "NA",
           609
          ],
          [
           false,
           true,
           null,
           3,
           "out",
           0,
           "NA",
           610
          ],
          [
           true,
           false,
           null,
           3,
           "out",
           0.8894230769230769,
           244,
           611
          ],
          [
           true,
           false,
           null,
           3,
           "out",
           0.7403314917127072,
           245,
           612
          ],
          [
           true,
           false,
           null,
           3,
           "out",
           0.5654008438818565,
           246,
           613
          ],
          [
           true,
           false,
           null,
           3,
           "out",
           0.7562189054726368,
           247,
           614
          ],
          [
           true,
           false,
           null,
           3,
           "out",
           0.7739130434782608,
           248,
           615
          ],
          [
           true,
           false,
           null,
           3,
           "out",
           0.930635838150289,
           249,
           616
          ],
          [
           false,
           true,
           null,
           3,
           "out",
           0,
           "NA",
           617
          ],
          [
           true,
           false,
           null,
           3,
           "out",
           0.656,
           250,
           618
          ],
          [
           false,
           true,
           null,
           3,
           "out",
           0,
           "NA",
           619
          ],
          [
           true,
           false,
           null,
           3,
           "out",
           0.7789473684210526,
           251,
           620
          ],
          [
           true,
           false,
           null,
           3,
           "out",
           0.7640449438202247,
           252,
           621
          ],
          [
           false,
           true,
           null,
           3,
           "out",
           0,
           "NA",
           622
          ],
          [
           false,
           true,
           null,
           3,
           "out",
           0,
           "NA",
           623
          ],
          [
           false,
           true,
           null,
           3,
           "out",
           0,
           "NA",
           624
          ],
          [
           false,
           true,
           null,
           3,
           "out",
           0,
           "NA",
           625
          ],
          [
           false,
           true,
           null,
           3,
           "out",
           0,
           "NA",
           626
          ],
          [
           false,
           true,
           null,
           3,
           "out",
           0,
           "NA",
           627
          ],
          [
           false,
           true,
           null,
           3,
           "out",
           0,
           "NA",
           628
          ],
          [
           true,
           false,
           null,
           3,
           "out",
           0.7623762376237624,
           253,
           629
          ],
          [
           false,
           true,
           null,
           3,
           "out",
           0,
           "NA",
           630
          ],
          [
           false,
           true,
           null,
           3,
           "out",
           0,
           "NA",
           631
          ],
          [
           true,
           false,
           null,
           3,
           "out",
           0.914572864321608,
           254,
           632
          ],
          [
           true,
           false,
           null,
           3,
           "out",
           0.6602870813397129,
           255,
           633
          ],
          [
           true,
           false,
           null,
           3,
           "out",
           0.8333333333333334,
           256,
           634
          ],
          [
           true,
           false,
           null,
           3,
           "out",
           0.7432432432432432,
           257,
           635
          ],
          [
           false,
           true,
           null,
           3,
           "out",
           0,
           "NA",
           636
          ],
          [
           true,
           false,
           null,
           3,
           "out",
           0.8009950248756219,
           258,
           637
          ],
          [
           true,
           false,
           null,
           3,
           "out",
           0.6839622641509434,
           259,
           638
          ],
          [
           true,
           false,
           null,
           3,
           "out",
           0.7333333333333333,
           260,
           639
          ],
          [
           true,
           false,
           null,
           3,
           "out",
           0.6111111111111112,
           261,
           640
          ],
          [
           false,
           true,
           null,
           3,
           "out",
           0,
           "NA",
           641
          ],
          [
           true,
           false,
           null,
           3,
           "out",
           0.7488372093023256,
           262,
           642
          ],
          [
           true,
           false,
           null,
           3,
           "out",
           0.7869565217391304,
           263,
           643
          ],
          [
           false,
           true,
           null,
           3,
           "out",
           0,
           "NA",
           644
          ],
          [
           false,
           true,
           null,
           3,
           "out",
           0,
           "NA",
           645
          ],
          [
           false,
           true,
           null,
           3,
           "out",
           0,
           "NA",
           646
          ],
          [
           true,
           false,
           null,
           3,
           "out",
           0.7096774193548387,
           264,
           647
          ],
          [
           false,
           true,
           null,
           3,
           "out",
           0,
           "NA",
           648
          ],
          [
           false,
           true,
           null,
           3,
           "out",
           0,
           "NA",
           649
          ],
          [
           true,
           false,
           null,
           3,
           "out",
           0.8018018018018018,
           265,
           650
          ],
          [
           false,
           true,
           null,
           3,
           "out",
           0,
           "NA",
           651
          ],
          [
           false,
           true,
           null,
           3,
           "out",
           0,
           "NA",
           652
          ],
          [
           false,
           true,
           null,
           3,
           "out",
           0,
           "NA",
           653
          ],
          [
           false,
           true,
           null,
           3,
           "out",
           0,
           "NA",
           654
          ],
          [
           true,
           false,
           null,
           3,
           "out",
           0.7764705882352941,
           266,
           655
          ],
          [
           false,
           true,
           null,
           3,
           "out",
           0,
           "NA",
           656
          ],
          [
           false,
           true,
           null,
           3,
           "out",
           0,
           "NA",
           657
          ],
          [
           false,
           true,
           null,
           3,
           "out",
           0,
           "NA",
           658
          ],
          [
           false,
           true,
           null,
           3,
           "out",
           0,
           "NA",
           659
          ],
          [
           false,
           true,
           null,
           3,
           "out",
           0,
           "NA",
           660
          ],
          [
           false,
           true,
           null,
           3,
           "out",
           0,
           "NA",
           661
          ],
          [
           false,
           true,
           null,
           3,
           "out",
           0,
           "NA",
           662
          ],
          [
           false,
           true,
           null,
           3,
           "out",
           0,
           "NA",
           663
          ],
          [
           false,
           true,
           null,
           3,
           "out",
           0,
           "NA",
           664
          ],
          [
           true,
           false,
           null,
           3,
           "out",
           0.8238636363636364,
           267,
           665
          ],
          [
           false,
           true,
           null,
           3,
           "out",
           0,
           "NA",
           666
          ],
          [
           true,
           false,
           null,
           3,
           "out",
           0.8055555555555556,
           268,
           667
          ],
          [
           true,
           false,
           null,
           3,
           "out",
           0.9215686274509803,
           269,
           668
          ],
          [
           false,
           true,
           null,
           3,
           "out",
           0,
           "NA",
           669
          ],
          [
           false,
           true,
           null,
           3,
           "out",
           0,
           "NA",
           670
          ],
          [
           false,
           true,
           null,
           3,
           "out",
           0,
           "NA",
           671
          ],
          [
           false,
           true,
           null,
           3,
           "out",
           0,
           "NA",
           672
          ],
          [
           true,
           false,
           null,
           3,
           "out",
           0.8256410256410256,
           270,
           673
          ],
          [
           false,
           true,
           null,
           3,
           "out",
           0,
           "NA",
           674
          ],
          [
           false,
           true,
           null,
           3,
           "out",
           0,
           "NA",
           675
          ],
          [
           true,
           false,
           null,
           3,
           "out",
           0.5735294117647058,
           271,
           676
          ],
          [
           true,
           false,
           null,
           3,
           "out",
           0.9078341013824884,
           272,
           677
          ],
          [
           true,
           false,
           null,
           3,
           "out",
           0.7815533980582524,
           273,
           678
          ],
          [
           false,
           true,
           null,
           3,
           "out",
           0,
           "NA",
           679
          ],
          [
           false,
           true,
           null,
           3,
           "out",
           0,
           "NA",
           680
          ],
          [
           false,
           true,
           null,
           3,
           "out",
           0,
           "NA",
           681
          ],
          [
           false,
           true,
           null,
           3,
           "out",
           0,
           "NA",
           682
          ],
          [
           true,
           false,
           null,
           3,
           "out",
           0.8102564102564103,
           274,
           683
          ],
          [
           true,
           false,
           null,
           3,
           "out",
           0.7424242424242424,
           275,
           684
          ],
          [
           false,
           true,
           null,
           3,
           "out",
           0,
           "NA",
           685
          ],
          [
           true,
           false,
           null,
           3,
           "out",
           0.5625,
           276,
           686
          ],
          [
           false,
           true,
           null,
           3,
           "out",
           0,
           "NA",
           687
          ],
          [
           true,
           false,
           null,
           3,
           "out",
           0.7148936170212766,
           277,
           688
          ],
          [
           false,
           true,
           null,
           3,
           "out",
           0,
           "NA",
           689
          ],
          [
           false,
           true,
           null,
           3,
           "out",
           0,
           "NA",
           690
          ],
          [
           false,
           true,
           null,
           3,
           "out",
           0,
           "NA",
           691
          ],
          [
           true,
           false,
           null,
           3,
           "out",
           0.850828729281768,
           278,
           692
          ],
          [
           true,
           false,
           null,
           3,
           "out",
           0.6267942583732058,
           279,
           693
          ],
          [
           false,
           true,
           null,
           3,
           "out",
           0,
           "NA",
           694
          ],
          [
           false,
           true,
           null,
           3,
           "out",
           0,
           "NA",
           695
          ],
          [
           false,
           true,
           null,
           3,
           "out",
           0,
           "NA",
           696
          ],
          [
           true,
           false,
           null,
           3,
           "out",
           0.6972477064220184,
           280,
           697
          ],
          [
           false,
           true,
           null,
           3,
           "out",
           0,
           "NA",
           698
          ],
          [
           false,
           true,
           null,
           3,
           "out",
           0,
           "NA",
           699
          ],
          [
           false,
           true,
           null,
           3,
           "out",
           0,
           "NA",
           700
          ],
          [
           false,
           true,
           null,
           3,
           "out",
           0,
           "NA",
           701
          ],
          [
           false,
           true,
           null,
           3,
           "out",
           0,
           "NA",
           702
          ],
          [
           false,
           true,
           null,
           3,
           "out",
           0,
           "NA",
           703
          ],
          [
           false,
           true,
           null,
           3,
           "out",
           0,
           "NA",
           704
          ],
          [
           false,
           true,
           null,
           3,
           "out",
           0,
           "NA",
           705
          ],
          [
           false,
           true,
           null,
           3,
           "out",
           0,
           "NA",
           706
          ],
          [
           true,
           false,
           null,
           3,
           "out",
           0.7451923076923077,
           281,
           707
          ],
          [
           false,
           true,
           null,
           3,
           "out",
           0,
           "NA",
           708
          ],
          [
           false,
           true,
           null,
           3,
           "out",
           0,
           "NA",
           709
          ],
          [
           false,
           true,
           null,
           3,
           "out",
           0,
           "NA",
           710
          ],
          [
           false,
           true,
           null,
           3,
           "out",
           0,
           "NA",
           711
          ],
          [
           true,
           false,
           null,
           3,
           "out",
           0.7596153846153846,
           282,
           712
          ],
          [
           false,
           true,
           null,
           3,
           "out",
           0,
           "NA",
           713
          ],
          [
           false,
           true,
           null,
           3,
           "out",
           0,
           "NA",
           714
          ],
          [
           true,
           false,
           null,
           3,
           "out",
           0.815028901734104,
           283,
           715
          ],
          [
           false,
           true,
           null,
           3,
           "out",
           0,
           "NA",
           716
          ],
          [
           true,
           false,
           null,
           3,
           "out",
           0.8808290155440415,
           284,
           717
          ],
          [
           true,
           false,
           null,
           3,
           "out",
           0.835820895522388,
           285,
           718
          ],
          [
           true,
           false,
           null,
           3,
           "out",
           0.8224852071005917,
           286,
           719
          ],
          [
           false,
           true,
           null,
           3,
           "out",
           0,
           "NA",
           720
          ],
          [
           false,
           true,
           null,
           3,
           "out",
           0,
           "NA",
           721
          ],
          [
           false,
           true,
           null,
           3,
           "out",
           0,
           "NA",
           722
          ],
          [
           false,
           true,
           null,
           3,
           "out",
           0,
           "NA",
           723
          ],
          [
           false,
           true,
           null,
           3,
           "out",
           0,
           "NA",
           724
          ],
          [
           true,
           false,
           null,
           3,
           "out",
           0.6523809523809524,
           287,
           725
          ],
          [
           true,
           false,
           null,
           3,
           "out",
           0.8375,
           288,
           726
          ],
          [
           false,
           true,
           null,
           3,
           "out",
           0,
           "NA",
           727
          ],
          [
           false,
           true,
           null,
           3,
           "out",
           0,
           "NA",
           728
          ],
          [
           false,
           true,
           null,
           3,
           "out",
           0,
           "NA",
           729
          ],
          [
           false,
           true,
           null,
           3,
           "out",
           0,
           "NA",
           730
          ],
          [
           true,
           false,
           null,
           3,
           "out",
           0.9221556886227545,
           289,
           731
          ],
          [
           true,
           false,
           null,
           3,
           "out",
           0.75,
           290,
           732
          ],
          [
           true,
           false,
           null,
           3,
           "out",
           0.9513513513513514,
           291,
           733
          ],
          [
           false,
           true,
           null,
           3,
           "out",
           0,
           "NA",
           734
          ],
          [
           true,
           false,
           null,
           3,
           "out",
           0.8685446009389671,
           292,
           735
          ],
          [
           true,
           false,
           null,
           3,
           "out",
           0.7511961722488039,
           293,
           736
          ],
          [
           false,
           true,
           null,
           3,
           "out",
           0,
           "NA",
           737
          ],
          [
           false,
           true,
           null,
           3,
           "out",
           0,
           "NA",
           738
          ],
          [
           true,
           false,
           null,
           3,
           "out",
           0.5410628019323671,
           294,
           739
          ],
          [
           false,
           true,
           null,
           3,
           "out",
           0,
           "NA",
           740
          ],
          [
           false,
           true,
           null,
           3,
           "out",
           0,
           "NA",
           741
          ],
          [
           false,
           true,
           null,
           3,
           "out",
           0,
           "NA",
           742
          ],
          [
           false,
           true,
           null,
           3,
           "out",
           0,
           "NA",
           743
          ],
          [
           false,
           true,
           null,
           3,
           "out",
           0,
           "NA",
           744
          ],
          [
           false,
           true,
           null,
           3,
           "out",
           0,
           "NA",
           745
          ],
          [
           false,
           true,
           null,
           3,
           "out",
           0,
           "NA",
           746
          ],
          [
           false,
           true,
           null,
           3,
           "out",
           0,
           "NA",
           747
          ],
          [
           false,
           true,
           null,
           3,
           "out",
           0,
           "NA",
           748
          ],
          [
           false,
           true,
           null,
           3,
           "out",
           0,
           "NA",
           749
          ],
          [
           false,
           true,
           null,
           3,
           "out",
           0,
           "NA",
           750
          ],
          [
           false,
           true,
           null,
           3,
           "out",
           0,
           "NA",
           751
          ],
          [
           false,
           true,
           null,
           3,
           "out",
           0,
           "NA",
           752
          ],
          [
           false,
           true,
           null,
           3,
           "out",
           0,
           "NA",
           753
          ],
          [
           false,
           true,
           null,
           3,
           "out",
           0,
           "NA",
           754
          ],
          [
           false,
           true,
           null,
           3,
           "out",
           0,
           "NA",
           755
          ],
          [
           false,
           true,
           null,
           3,
           "out",
           0,
           "NA",
           756
          ],
          [
           true,
           false,
           null,
           3,
           "out",
           0.7244897959183674,
           295,
           757
          ],
          [
           false,
           true,
           null,
           3,
           "out",
           0,
           "NA",
           758
          ],
          [
           true,
           false,
           null,
           3,
           "out",
           0.7093596059113301,
           296,
           759
          ],
          [
           true,
           false,
           null,
           3,
           "out",
           0.8187134502923976,
           297,
           760
          ],
          [
           false,
           true,
           null,
           3,
           "out",
           0,
           "NA",
           761
          ],
          [
           true,
           false,
           null,
           3,
           "out",
           0.7487684729064039,
           298,
           762
          ],
          [
           false,
           true,
           null,
           3,
           "out",
           0,
           "NA",
           763
          ],
          [
           false,
           true,
           null,
           3,
           "out",
           0,
           "NA",
           764
          ],
          [
           false,
           true,
           null,
           3,
           "out",
           0,
           "NA",
           765
          ],
          [
           false,
           true,
           null,
           3,
           "out",
           0,
           "NA",
           766
          ],
          [
           false,
           true,
           null,
           3,
           "out",
           0,
           "NA",
           767
          ],
          [
           false,
           true,
           null,
           3,
           "out",
           0,
           "NA",
           768
          ],
          [
           false,
           true,
           null,
           3,
           "out",
           0,
           "NA",
           769
          ],
          [
           false,
           true,
           null,
           3,
           "out",
           0,
           "NA",
           770
          ],
          [
           false,
           true,
           null,
           3,
           "out",
           0,
           "NA",
           771
          ],
          [
           false,
           true,
           null,
           3,
           "out",
           0,
           "NA",
           772
          ],
          [
           false,
           true,
           null,
           3,
           "out",
           0,
           "NA",
           773
          ],
          [
           false,
           true,
           null,
           3,
           "out",
           0,
           "NA",
           774
          ],
          [
           false,
           true,
           null,
           3,
           "out",
           0,
           "NA",
           775
          ],
          [
           false,
           true,
           null,
           3,
           "out",
           0,
           "NA",
           776
          ],
          [
           false,
           true,
           null,
           3,
           "out",
           0,
           "NA",
           777
          ],
          [
           false,
           true,
           null,
           3,
           "out",
           0,
           "NA",
           778
          ],
          [
           false,
           true,
           null,
           3,
           "out",
           0,
           "NA",
           779
          ],
          [
           false,
           true,
           null,
           3,
           "out",
           0,
           "NA",
           780
          ],
          [
           false,
           true,
           null,
           3,
           "out",
           0,
           "NA",
           781
          ],
          [
           false,
           true,
           null,
           3,
           "out",
           0,
           "NA",
           782
          ],
          [
           false,
           true,
           null,
           3,
           "out",
           0,
           "NA",
           783
          ],
          [
           false,
           true,
           null,
           3,
           "out",
           0,
           "NA",
           784
          ],
          [
           false,
           true,
           null,
           3,
           "out",
           0,
           "NA",
           785
          ],
          [
           false,
           true,
           null,
           3,
           "out",
           0,
           "NA",
           786
          ],
          [
           false,
           true,
           null,
           3,
           "out",
           0,
           "NA",
           787
          ],
          [
           false,
           true,
           null,
           3,
           "out",
           0,
           "NA",
           788
          ],
          [
           true,
           false,
           null,
           3,
           "out",
           0.7897727272727273,
           299,
           789
          ],
          [
           true,
           false,
           null,
           3,
           "out",
           0.7821782178217822,
           300,
           790
          ],
          [
           false,
           true,
           null,
           3,
           "out",
           0,
           "NA",
           791
          ],
          [
           false,
           true,
           null,
           3,
           "out",
           0,
           "NA",
           792
          ],
          [
           false,
           true,
           null,
           3,
           "out",
           0,
           "NA",
           793
          ],
          [
           false,
           true,
           null,
           3,
           "out",
           0,
           "NA",
           794
          ],
          [
           false,
           true,
           null,
           3,
           "out",
           0,
           "NA",
           795
          ],
          [
           false,
           true,
           null,
           3,
           "out",
           0,
           "NA",
           796
          ],
          [
           true,
           false,
           null,
           3,
           "out",
           0.8176795580110497,
           301,
           797
          ],
          [
           true,
           false,
           null,
           3,
           "out",
           0.9345238095238095,
           302,
           798
          ],
          [
           false,
           true,
           null,
           3,
           "out",
           0,
           "NA",
           799
          ],
          [
           false,
           true,
           null,
           3,
           "out",
           0,
           "NA",
           800
          ],
          [
           false,
           true,
           null,
           3,
           "out",
           0,
           "NA",
           801
          ],
          [
           false,
           true,
           null,
           3,
           "out",
           0,
           "NA",
           802
          ],
          [
           false,
           true,
           null,
           3,
           "out",
           0,
           "NA",
           803
          ],
          [
           false,
           true,
           null,
           3,
           "out",
           0,
           "NA",
           804
          ],
          [
           false,
           true,
           null,
           3,
           "out",
           0,
           "NA",
           805
          ],
          [
           false,
           true,
           null,
           3,
           "out",
           0,
           "NA",
           806
          ],
          [
           false,
           true,
           null,
           3,
           "out",
           0,
           "NA",
           807
          ],
          [
           false,
           true,
           null,
           3,
           "out",
           0,
           "NA",
           808
          ],
          [
           false,
           true,
           null,
           3,
           "out",
           0,
           "NA",
           809
          ],
          [
           false,
           true,
           null,
           3,
           "out",
           0,
           "NA",
           810
          ],
          [
           true,
           false,
           null,
           3,
           "out",
           0.7925531914893617,
           303,
           811
          ],
          [
           false,
           true,
           null,
           3,
           "out",
           0,
           "NA",
           812
          ],
          [
           false,
           true,
           null,
           3,
           "out",
           0,
           "NA",
           813
          ],
          [
           false,
           true,
           null,
           3,
           "out",
           0,
           "NA",
           814
          ],
          [
           false,
           true,
           null,
           3,
           "out",
           0,
           "NA",
           815
          ],
          [
           false,
           true,
           null,
           3,
           "out",
           0,
           "NA",
           816
          ],
          [
           true,
           false,
           null,
           3,
           "out",
           0.9215686274509803,
           304,
           817
          ],
          [
           true,
           false,
           null,
           3,
           "out",
           0.9230769230769231,
           305,
           818
          ],
          [
           false,
           true,
           null,
           3,
           "out",
           0,
           "NA",
           819
          ],
          [
           false,
           true,
           null,
           3,
           "out",
           0,
           "NA",
           820
          ],
          [
           false,
           true,
           null,
           3,
           "out",
           0,
           "NA",
           821
          ],
          [
           false,
           true,
           null,
           3,
           "out",
           0,
           "NA",
           822
          ],
          [
           false,
           true,
           null,
           3,
           "out",
           0,
           "NA",
           823
          ],
          [
           false,
           true,
           null,
           3,
           "out",
           0,
           "NA",
           824
          ],
          [
           false,
           true,
           null,
           3,
           "out",
           0,
           "NA",
           825
          ],
          [
           false,
           true,
           null,
           3,
           "out",
           0,
           "NA",
           826
          ],
          [
           false,
           true,
           null,
           3,
           "out",
           0,
           "NA",
           827
          ],
          [
           false,
           true,
           null,
           3,
           "out",
           0,
           "NA",
           828
          ],
          [
           false,
           true,
           null,
           3,
           "out",
           0,
           "NA",
           829
          ],
          [
           false,
           true,
           null,
           3,
           "out",
           0,
           "NA",
           830
          ],
          [
           false,
           true,
           null,
           3,
           "out",
           0,
           "NA",
           831
          ],
          [
           true,
           false,
           null,
           3,
           "out",
           0.8554913294797688,
           306,
           832
          ],
          [
           false,
           true,
           null,
           3,
           "out",
           0,
           "NA",
           833
          ],
          [
           true,
           false,
           null,
           3,
           "out",
           0.65625,
           307,
           834
          ]
         ],
         "hovertemplate": "iou=%{marker.color:.4f}<br>indexGT=%{customdata[6]}<br>indexOut=%{customdata[7]}<extra></extra>",
         "legendgroup": "out",
         "marker": {
          "color": [
           0.6206896551724138,
           0,
           0.3885350318471338,
           0.7068965517241379,
           0,
           0.5560747663551402,
           0.652014652014652,
           0,
           0,
           0,
           0,
           0,
           0.8387096774193549,
           0,
           0.84375,
           0,
           0,
           0.6524064171122995,
           0,
           0,
           0.7515527950310559,
           0.8571428571428571,
           0.5957446808510638,
           0.5490196078431373,
           0,
           0.425531914893617,
           0.8086124401913876,
           0,
           0,
           0,
           0.8555555555555555,
           0,
           0.8222222222222222,
           0.7916666666666666,
           0,
           0,
           0,
           0,
           0.8681318681318682,
           0.9041916167664671,
           0.7272727272727273,
           0.7579365079365079,
           0,
           0,
           0,
           0,
           0.7164179104477612,
           0,
           0,
           0,
           0.7678571428571429,
           0.5530973451327433,
           0,
           0,
           0,
           0,
           0,
           0,
           0.8972972972972973,
           0.8442211055276382,
           0.6834862385321101,
           0,
           0,
           0.7804878048780488,
           0,
           0,
           0,
           0,
           0.8697916666666666,
           0.8271604938271605,
           0,
           0,
           0,
           0,
           0.7676767676767676,
           0.8418367346938775,
           0.9206349206349206,
           0,
           0,
           0,
           0.6114285714285714,
           0,
           0,
           0,
           0.6137931034482759,
           0,
           0,
           0,
           0.7128712871287128,
           0,
           0.6972477064220184,
           0.7552083333333334,
           0,
           0,
           0,
           0,
           0,
           0.7345679012345679,
           0.7552447552447552,
           0.48295454545454547,
           0,
           0.7237569060773481,
           0,
           0,
           0,
           0,
           0,
           0,
           0.8100558659217877,
           0,
           0,
           0.6878048780487804,
           0,
           0,
           0,
           0.8212290502793296,
           0,
           0,
           0.7386934673366834,
           0,
           0.8156028368794326,
           0.8993288590604027,
           0.6911764705882353,
           0.7407407407407407,
           0.9867549668874173,
           0.856,
           0.6802030456852792,
           0,
           0.8571428571428571,
           0.9863013698630136,
           0,
           0.9133333333333333,
           0,
           0,
           0.5459459459459459,
           0.8333333333333334,
           0,
           0.9777777777777777,
           0.9139072847682119,
           0.7982456140350878,
           0.6865671641791045,
           0,
           0,
           0,
           0.8258928571428571,
           0,
           0.9166666666666666,
           0.7708333333333334,
           0,
           0.7903225806451613,
           0.7342995169082126,
           0,
           0.8144329896907216,
           0,
           0,
           0,
           0,
           0,
           0.6796875,
           0.9497206703910615,
           0,
           0,
           0.815028901734104,
           0.7375886524822695,
           0,
           0.5844748858447488,
           0.8609271523178808,
           0.6954022988505747,
           0,
           0,
           0.8792270531400966,
           0.7268722466960352,
           0,
           0,
           0,
           0.8724279835390947,
           0,
           0.7677725118483413,
           0.9135135135135135,
           0.7900552486187845,
           0.6926605504587156,
           0,
           0.9177489177489178,
           0,
           0.7982062780269058,
           0,
           0,
           0,
           0,
           0,
           0.7023255813953488,
           0,
           0,
           0,
           0.9,
           0.8390243902439024,
           0,
           0.8333333333333334,
           0.7379679144385026,
           0,
           0,
           0.7613636363636364,
           0,
           0,
           0,
           0,
           0.9178082191780822,
           0,
           0,
           0,
           0.8476190476190476,
           0,
           0.8702702702702703,
           0,
           0.69,
           0,
           0,
           0,
           0,
           0,
           0.8372093023255814,
           0.6105769230769231,
           0,
           0.5721649484536082,
           0.7419354838709677,
           0,
           0,
           0,
           0,
           0,
           0,
           0,
           0,
           0,
           0,
           0,
           0,
           0,
           0,
           0.676829268292683,
           0.6717948717948717,
           0,
           0,
           0,
           0,
           0.76,
           0,
           0,
           0,
           0,
           0,
           0,
           0.8814432989690721,
           0,
           0,
           0,
           0,
           0,
           0,
           0.8616352201257862,
           0,
           0,
           0,
           0,
           0,
           0,
           0.531578947368421,
           0,
           0.8217522658610272,
           0,
           0.39803439803439805,
           0.7419354838709677,
           0.7209302325581395,
           0,
           0.8414634146341463,
           0,
           0.7010309278350515,
           0.7745664739884393,
           0,
           0,
           0,
           0.6887417218543046,
           0,
           0.8155737704918032,
           0,
           0,
           0.8411764705882353,
           0,
           0,
           0,
           0.7714285714285715,
           0,
           0.8857142857142857,
           0.8613861386138614,
           0.7912087912087912,
           0,
           0,
           0,
           0.7613636363636364,
           0.9,
           0.9230769230769231,
           0.7148936170212766,
           0,
           0.8290155440414507,
           0.7484662576687117,
           0.6210526315789474,
           0.851063829787234,
           0,
           0.8447488584474886,
           0.848780487804878,
           0,
           0,
           0,
           0,
           0,
           0.8316831683168316,
           0,
           0,
           0.7769784172661871,
           0.7105263157894737,
           0,
           0.8389261744966443,
           0.8671328671328671,
           0,
           0.7213622291021672,
           0,
           0,
           0,
           0,
           0,
           0,
           0.9548022598870056,
           0,
           0,
           0,
           0,
           0,
           0,
           0,
           0.6683168316831684,
           0,
           0.9248554913294798,
           0,
           0,
           0.7,
           0,
           0,
           0,
           0.44919786096256686,
           0.6994535519125683,
           0.8432835820895522,
           0.9338235294117647,
           0,
           0,
           0,
           0,
           0,
           0.4807017543859649,
           0.9415204678362573,
           0,
           0,
           0,
           0,
           0.8659217877094972,
           0.7045454545454546,
           0,
           0.7527472527472527,
           0,
           0.67,
           0,
           0,
           0,
           0,
           0,
           0.735632183908046,
           0.631336405529954,
           0.8629441624365483,
           0,
           0,
           0.729957805907173,
           0.884393063583815,
           0,
           0,
           0.8283582089552238,
           0,
           0,
           0.6905829596412556,
           0.7005347593582888,
           0,
           0,
           0,
           0.8571428571428571,
           0,
           0.958904109589041,
           0,
           0,
           0,
           0,
           0.7446808510638298,
           0,
           0,
           0,
           0.6573033707865169,
           0.7976878612716763,
           0.815028901734104,
           0.6545454545454545,
           0.7763157894736842,
           0,
           0.8549222797927462,
           0,
           0.8454106280193237,
           0.827906976744186,
           0.8181818181818182,
           0,
           0.6124031007751938,
           0.8142857142857143,
           0.7419354838709677,
           0.9541984732824428,
           0,
           0,
           0,
           0,
           0,
           0,
           0.834061135371179,
           0.7156862745098039,
           0,
           0,
           0,
           0,
           0,
           0.75,
           0,
           0.949438202247191,
           0.6858638743455497,
           0.8375,
           0,
           0.7509025270758123,
           0.7162790697674418,
           0,
           0,
           0.7689530685920578,
           0.927536231884058,
           0,
           0,
           0,
           0,
           0,
           0,
           0.6633663366336634,
           0.8503937007874016,
           0.8518518518518519,
           0.8561643835616438,
           0.9044943820224719,
           0.6505376344086021,
           0,
           0,
           0,
           0,
           0.7777777777777778,
           0.7635467980295566,
           0,
           0.7671232876712328,
           0,
           0,
           0.8636363636363636,
           0,
           0,
           0.8114285714285714,
           0,
           0.8817204301075269,
           0.5829596412556054,
           0,
           0,
           0.8055555555555556,
           0,
           0.8660287081339713,
           0,
           0,
           0,
           0.834319526627219,
           0,
           0,
           0.891566265060241,
           0.9527027027027027,
           0,
           0.8944723618090452,
           0,
           0,
           0,
           0.7439613526570048,
           0.8076923076923077,
           0.6359223300970874,
           0,
           0,
           0.7783783783783784,
           0.8228571428571428,
           0,
           0,
           0.8980891719745223,
           0,
           0,
           0.8974358974358975,
           0.770764119601329,
           0.7337278106508875,
           0,
           0,
           0,
           0.9823529411764705,
           0,
           0.861244019138756,
           0,
           0,
           0,
           0,
           0,
           0,
           0,
           0,
           0.7277777777777777,
           0.8240740740740741,
           0.9006211180124224,
           0,
           0.825,
           0,
           0,
           0,
           0,
           0.685,
           0,
           0,
           0.7708333333333334,
           0.9101796407185628,
           0,
           0,
           0.6971153846153846,
           0.84375,
           0,
           0,
           0,
           0,
           0.7921348314606742,
           0,
           0.896551724137931,
           0,
           0,
           0.8502673796791443,
           0,
           0.5978260869565217,
           0,
           0,
           0,
           0.803921568627451,
           0,
           0,
           0,
           0,
           0,
           0.7159763313609467,
           0.745945945945946,
           0,
           0,
           0,
           0.6476683937823834,
           0,
           0,
           0,
           0,
           0,
           0.8544303797468354,
           0,
           0,
           0,
           0,
           0,
           0.75,
           0,
           0,
           0,
           0.8953488372093024,
           0,
           0,
           0,
           0,
           0,
           0,
           0,
           0,
           0,
           0,
           0.7375565610859729,
           0.7015706806282722,
           0.49404761904761907,
           0.7532467532467533,
           0,
           0.8372093023255814,
           0.803680981595092,
           0,
           0.6188340807174888,
           0,
           0,
           0,
           0,
           0,
           0.6414473684210527,
           0.900523560209424,
           0.7783018867924528,
           0,
           0,
           0,
           0,
           0.8894230769230769,
           0.7403314917127072,
           0.5654008438818565,
           0.7562189054726368,
           0.7739130434782608,
           0.930635838150289,
           0,
           0.656,
           0,
           0.7789473684210526,
           0.7640449438202247,
           0,
           0,
           0,
           0,
           0,
           0,
           0,
           0.7623762376237624,
           0,
           0,
           0.914572864321608,
           0.6602870813397129,
           0.8333333333333334,
           0.7432432432432432,
           0,
           0.8009950248756219,
           0.6839622641509434,
           0.7333333333333333,
           0.6111111111111112,
           0,
           0.7488372093023256,
           0.7869565217391304,
           0,
           0,
           0,
           0.7096774193548387,
           0,
           0,
           0.8018018018018018,
           0,
           0,
           0,
           0,
           0.7764705882352941,
           0,
           0,
           0,
           0,
           0,
           0,
           0,
           0,
           0,
           0.8238636363636364,
           0,
           0.8055555555555556,
           0.9215686274509803,
           0,
           0,
           0,
           0,
           0.8256410256410256,
           0,
           0,
           0.5735294117647058,
           0.9078341013824884,
           0.7815533980582524,
           0,
           0,
           0,
           0,
           0.8102564102564103,
           0.7424242424242424,
           0,
           0.5625,
           0,
           0.7148936170212766,
           0,
           0,
           0,
           0.850828729281768,
           0.6267942583732058,
           0,
           0,
           0,
           0.6972477064220184,
           0,
           0,
           0,
           0,
           0,
           0,
           0,
           0,
           0,
           0.7451923076923077,
           0,
           0,
           0,
           0,
           0.7596153846153846,
           0,
           0,
           0.815028901734104,
           0,
           0.8808290155440415,
           0.835820895522388,
           0.8224852071005917,
           0,
           0,
           0,
           0,
           0,
           0.6523809523809524,
           0.8375,
           0,
           0,
           0,
           0,
           0.9221556886227545,
           0.75,
           0.9513513513513514,
           0,
           0.8685446009389671,
           0.7511961722488039,
           0,
           0,
           0.5410628019323671,
           0,
           0,
           0,
           0,
           0,
           0,
           0,
           0,
           0,
           0,
           0,
           0,
           0,
           0,
           0,
           0,
           0,
           0.7244897959183674,
           0,
           0.7093596059113301,
           0.8187134502923976,
           0,
           0.7487684729064039,
           0,
           0,
           0,
           0,
           0,
           0,
           0,
           0,
           0,
           0,
           0,
           0,
           0,
           0,
           0,
           0,
           0,
           0,
           0,
           0,
           0,
           0,
           0,
           0,
           0,
           0,
           0.7897727272727273,
           0.7821782178217822,
           0,
           0,
           0,
           0,
           0,
           0,
           0.8176795580110497,
           0.9345238095238095,
           0,
           0,
           0,
           0,
           0,
           0,
           0,
           0,
           0,
           0,
           0,
           0,
           0.7925531914893617,
           0,
           0,
           0,
           0,
           0,
           0.9215686274509803,
           0.9230769230769231,
           0,
           0,
           0,
           0,
           0,
           0,
           0,
           0,
           0,
           0,
           0,
           0,
           0,
           0.8554913294797688,
           0,
           0.65625
          ],
          "coloraxis": "coloraxis",
          "line": {
           "width": 2
          },
          "opacity": 0.8,
          "size": [
           3,
           3,
           3,
           3,
           3,
           3,
           3,
           3,
           3,
           3,
           3,
           3,
           3,
           3,
           3,
           3,
           3,
           3,
           3,
           3,
           3,
           3,
           3,
           3,
           3,
           3,
           3,
           3,
           3,
           3,
           3,
           3,
           3,
           3,
           3,
           3,
           3,
           3,
           3,
           3,
           3,
           3,
           3,
           3,
           3,
           3,
           3,
           3,
           3,
           3,
           3,
           3,
           3,
           3,
           3,
           3,
           3,
           3,
           3,
           3,
           3,
           3,
           3,
           3,
           3,
           3,
           3,
           3,
           3,
           3,
           3,
           3,
           3,
           3,
           3,
           3,
           3,
           3,
           3,
           3,
           3,
           3,
           3,
           3,
           3,
           3,
           3,
           3,
           3,
           3,
           3,
           3,
           3,
           3,
           3,
           3,
           3,
           3,
           3,
           3,
           3,
           3,
           3,
           3,
           3,
           3,
           3,
           3,
           3,
           3,
           3,
           3,
           3,
           3,
           3,
           3,
           3,
           3,
           3,
           3,
           3,
           3,
           3,
           3,
           3,
           3,
           3,
           3,
           3,
           3,
           3,
           3,
           3,
           3,
           3,
           3,
           3,
           3,
           3,
           3,
           3,
           3,
           3,
           3,
           3,
           3,
           3,
           3,
           3,
           3,
           3,
           3,
           3,
           3,
           3,
           3,
           3,
           3,
           3,
           3,
           3,
           3,
           3,
           3,
           3,
           3,
           3,
           3,
           3,
           3,
           3,
           3,
           3,
           3,
           3,
           3,
           3,
           3,
           3,
           3,
           3,
           3,
           3,
           3,
           3,
           3,
           3,
           3,
           3,
           3,
           3,
           3,
           3,
           3,
           3,
           3,
           3,
           3,
           3,
           3,
           3,
           3,
           3,
           3,
           3,
           3,
           3,
           3,
           3,
           3,
           3,
           3,
           3,
           3,
           3,
           3,
           3,
           3,
           3,
           3,
           3,
           3,
           3,
           3,
           3,
           3,
           3,
           3,
           3,
           3,
           3,
           3,
           3,
           3,
           3,
           3,
           3,
           3,
           3,
           3,
           3,
           3,
           3,
           3,
           3,
           3,
           3,
           3,
           3,
           3,
           3,
           3,
           3,
           3,
           3,
           3,
           3,
           3,
           3,
           3,
           3,
           3,
           3,
           3,
           3,
           3,
           3,
           3,
           3,
           3,
           3,
           3,
           3,
           3,
           3,
           3,
           3,
           3,
           3,
           3,
           3,
           3,
           3,
           3,
           3,
           3,
           3,
           3,
           3,
           3,
           3,
           3,
           3,
           3,
           3,
           3,
           3,
           3,
           3,
           3,
           3,
           3,
           3,
           3,
           3,
           3,
           3,
           3,
           3,
           3,
           3,
           3,
           3,
           3,
           3,
           3,
           3,
           3,
           3,
           3,
           3,
           3,
           3,
           3,
           3,
           3,
           3,
           3,
           3,
           3,
           3,
           3,
           3,
           3,
           3,
           3,
           3,
           3,
           3,
           3,
           3,
           3,
           3,
           3,
           3,
           3,
           3,
           3,
           3,
           3,
           3,
           3,
           3,
           3,
           3,
           3,
           3,
           3,
           3,
           3,
           3,
           3,
           3,
           3,
           3,
           3,
           3,
           3,
           3,
           3,
           3,
           3,
           3,
           3,
           3,
           3,
           3,
           3,
           3,
           3,
           3,
           3,
           3,
           3,
           3,
           3,
           3,
           3,
           3,
           3,
           3,
           3,
           3,
           3,
           3,
           3,
           3,
           3,
           3,
           3,
           3,
           3,
           3,
           3,
           3,
           3,
           3,
           3,
           3,
           3,
           3,
           3,
           3,
           3,
           3,
           3,
           3,
           3,
           3,
           3,
           3,
           3,
           3,
           3,
           3,
           3,
           3,
           3,
           3,
           3,
           3,
           3,
           3,
           3,
           3,
           3,
           3,
           3,
           3,
           3,
           3,
           3,
           3,
           3,
           3,
           3,
           3,
           3,
           3,
           3,
           3,
           3,
           3,
           3,
           3,
           3,
           3,
           3,
           3,
           3,
           3,
           3,
           3,
           3,
           3,
           3,
           3,
           3,
           3,
           3,
           3,
           3,
           3,
           3,
           3,
           3,
           3,
           3,
           3,
           3,
           3,
           3,
           3,
           3,
           3,
           3,
           3,
           3,
           3,
           3,
           3,
           3,
           3,
           3,
           3,
           3,
           3,
           3,
           3,
           3,
           3,
           3,
           3,
           3,
           3,
           3,
           3,
           3,
           3,
           3,
           3,
           3,
           3,
           3,
           3,
           3,
           3,
           3,
           3,
           3,
           3,
           3,
           3,
           3,
           3,
           3,
           3,
           3,
           3,
           3,
           3,
           3,
           3,
           3,
           3,
           3,
           3,
           3,
           3,
           3,
           3,
           3,
           3,
           3,
           3,
           3,
           3,
           3,
           3,
           3,
           3,
           3,
           3,
           3,
           3,
           3,
           3,
           3,
           3,
           3,
           3,
           3,
           3,
           3,
           3,
           3,
           3,
           3,
           3,
           3,
           3,
           3,
           3,
           3,
           3,
           3,
           3,
           3,
           3,
           3,
           3,
           3,
           3,
           3,
           3,
           3,
           3,
           3,
           3,
           3,
           3,
           3,
           3,
           3,
           3,
           3,
           3,
           3,
           3,
           3,
           3,
           3,
           3,
           3,
           3,
           3,
           3,
           3,
           3,
           3,
           3,
           3,
           3,
           3,
           3,
           3,
           3,
           3,
           3,
           3,
           3,
           3,
           3,
           3,
           3,
           3,
           3,
           3,
           3,
           3,
           3,
           3,
           3,
           3,
           3,
           3,
           3,
           3,
           3,
           3,
           3,
           3,
           3,
           3,
           3,
           3,
           3,
           3,
           3,
           3,
           3,
           3,
           3,
           3,
           3,
           3,
           3,
           3,
           3,
           3,
           3,
           3,
           3,
           3,
           3,
           3,
           3,
           3,
           3,
           3,
           3,
           3,
           3,
           3,
           3,
           3,
           3,
           3,
           3,
           3,
           3,
           3,
           3,
           3,
           3,
           3,
           3,
           3,
           3,
           3,
           3,
           3,
           3,
           3,
           3,
           3,
           3,
           3,
           3,
           3,
           3,
           3,
           3,
           3,
           3,
           3,
           3,
           3,
           3,
           3,
           3,
           3,
           3,
           3,
           3,
           3,
           3,
           3,
           3,
           3,
           3,
           3,
           3,
           3,
           3,
           3,
           3,
           3,
           3,
           3,
           3,
           3,
           3,
           3,
           3,
           3,
           3,
           3,
           3,
           3,
           3,
           3,
           3,
           3,
           3,
           3,
           3,
           3,
           3,
           3,
           3,
           3,
           3,
           3,
           3,
           3,
           3,
           3,
           3,
           3,
           3,
           3,
           3,
           3,
           3,
           3,
           3,
           3,
           3,
           3,
           3,
           3,
           3,
           3,
           3,
           3,
           3,
           3,
           3,
           3,
           3,
           3,
           3,
           3,
           3,
           3,
           3,
           3,
           3,
           3,
           3,
           3,
           3,
           3,
           3,
           3,
           3,
           3,
           3,
           3,
           3,
           3,
           3,
           3,
           3,
           3,
           3,
           3,
           3,
           3,
           3,
           3,
           3,
           3,
           3,
           3,
           3,
           3,
           3,
           3,
           3,
           3,
           3,
           3,
           3,
           3,
           3,
           3,
           3,
           3,
           3,
           3,
           3,
           3,
           3
          ],
          "sizemode": "area",
          "sizeref": 0.0075,
          "symbol": "circle-open"
         },
         "mode": "markers",
         "name": "out",
         "showlegend": true,
         "type": "scattergl",
         "x": [
          0,
          -10,
          1,
          2,
          -10,
          3,
          4,
          -10,
          -10,
          -10,
          -10,
          -10,
          5,
          -10,
          6,
          -10,
          -10,
          7,
          -10,
          -10,
          8,
          9,
          10,
          11,
          -10,
          12,
          13,
          -10,
          -10,
          -10,
          14,
          -10,
          15,
          16,
          -10,
          -10,
          -10,
          -10,
          17,
          18,
          19,
          20,
          -10,
          -10,
          -10,
          -10,
          21,
          -10,
          -10,
          -10,
          22,
          23,
          -10,
          -10,
          -10,
          -10,
          -10,
          -10,
          24,
          25,
          26,
          -10,
          -10,
          27,
          -10,
          -10,
          -10,
          -10,
          28,
          29,
          -10,
          -10,
          -10,
          -10,
          30,
          31,
          32,
          -10,
          -10,
          -10,
          33,
          -10,
          -10,
          -10,
          34,
          -10,
          -10,
          -10,
          35,
          -10,
          36,
          37,
          -10,
          -10,
          -10,
          -10,
          -10,
          38,
          39,
          40,
          -10,
          41,
          -10,
          -10,
          -10,
          -10,
          -10,
          -10,
          42,
          -10,
          -10,
          43,
          -10,
          -10,
          -10,
          44,
          -10,
          -10,
          45,
          -10,
          46,
          47,
          48,
          49,
          50,
          51,
          52,
          -10,
          53,
          54,
          -10,
          55,
          -10,
          -10,
          56,
          57,
          -10,
          58,
          59,
          60,
          61,
          -10,
          -10,
          -10,
          63,
          -10,
          64,
          65,
          -10,
          66,
          67,
          -10,
          68,
          -10,
          -10,
          -10,
          -10,
          -10,
          69,
          70,
          -10,
          -10,
          71,
          72,
          -10,
          73,
          74,
          75,
          -10,
          -10,
          76,
          77,
          -10,
          -10,
          -10,
          78,
          -10,
          79,
          80,
          81,
          82,
          -10,
          83,
          -10,
          84,
          -10,
          -10,
          -10,
          -10,
          -10,
          85,
          -10,
          -10,
          -10,
          86,
          87,
          -10,
          88,
          89,
          -10,
          -10,
          90,
          -10,
          -10,
          -10,
          -10,
          91,
          -10,
          -10,
          -10,
          92,
          -10,
          93,
          -10,
          94,
          -10,
          -10,
          -10,
          -10,
          -10,
          95,
          96,
          -10,
          97,
          98,
          -10,
          -10,
          -10,
          -10,
          -10,
          -10,
          -10,
          -10,
          -10,
          -10,
          -10,
          -10,
          -10,
          -10,
          99,
          100,
          -10,
          -10,
          -10,
          -10,
          101,
          -10,
          -10,
          -10,
          -10,
          -10,
          -10,
          102,
          -10,
          -10,
          -10,
          -10,
          -10,
          -10,
          103,
          -10,
          -10,
          -10,
          -10,
          -10,
          -10,
          104,
          -10,
          105,
          -10,
          106,
          107,
          108,
          -10,
          109,
          -10,
          110,
          111,
          -10,
          -10,
          -10,
          112,
          -10,
          113,
          -10,
          -10,
          114,
          -10,
          -10,
          -10,
          115,
          -10,
          116,
          117,
          118,
          -10,
          -10,
          -10,
          119,
          120,
          121,
          122,
          -10,
          123,
          124,
          125,
          126,
          -10,
          127,
          128,
          -10,
          -10,
          -10,
          -10,
          -10,
          129,
          -10,
          -10,
          130,
          131,
          -10,
          132,
          133,
          -10,
          134,
          -10,
          -10,
          -10,
          -10,
          -10,
          -10,
          135,
          -10,
          -10,
          -10,
          -10,
          -10,
          -10,
          -10,
          136,
          -10,
          137,
          -10,
          -10,
          138,
          -10,
          -10,
          -10,
          139,
          140,
          141,
          142,
          -10,
          -10,
          -10,
          -10,
          -10,
          143,
          144,
          -10,
          -10,
          -10,
          -10,
          145,
          146,
          -10,
          147,
          -10,
          148,
          -10,
          -10,
          -10,
          -10,
          -10,
          149,
          150,
          151,
          -10,
          -10,
          152,
          153,
          -10,
          -10,
          154,
          -10,
          -10,
          155,
          156,
          -10,
          -10,
          -10,
          157,
          -10,
          158,
          -10,
          -10,
          -10,
          -10,
          159,
          -10,
          -10,
          -10,
          160,
          161,
          162,
          163,
          164,
          -10,
          165,
          -10,
          166,
          167,
          168,
          -10,
          169,
          170,
          171,
          172,
          -10,
          -10,
          -10,
          -10,
          -10,
          -10,
          173,
          174,
          -10,
          -10,
          -10,
          -10,
          -10,
          175,
          -10,
          176,
          177,
          178,
          -10,
          179,
          180,
          -10,
          -10,
          181,
          182,
          -10,
          -10,
          -10,
          -10,
          -10,
          -10,
          183,
          184,
          185,
          186,
          187,
          188,
          -10,
          -10,
          -10,
          -10,
          189,
          190,
          -10,
          191,
          -10,
          -10,
          192,
          -10,
          -10,
          193,
          -10,
          194,
          195,
          -10,
          -10,
          196,
          -10,
          197,
          -10,
          -10,
          -10,
          198,
          -10,
          -10,
          199,
          200,
          -10,
          201,
          -10,
          -10,
          -10,
          202,
          203,
          204,
          -10,
          -10,
          205,
          206,
          -10,
          -10,
          207,
          -10,
          -10,
          208,
          209,
          210,
          -10,
          -10,
          -10,
          211,
          -10,
          212,
          -10,
          -10,
          -10,
          -10,
          -10,
          -10,
          -10,
          -10,
          213,
          214,
          215,
          -10,
          216,
          -10,
          -10,
          -10,
          -10,
          217,
          -10,
          -10,
          218,
          219,
          -10,
          -10,
          220,
          221,
          -10,
          -10,
          -10,
          -10,
          222,
          -10,
          223,
          -10,
          -10,
          224,
          -10,
          225,
          -10,
          -10,
          -10,
          227,
          -10,
          -10,
          -10,
          -10,
          -10,
          228,
          229,
          -10,
          -10,
          -10,
          230,
          -10,
          -10,
          -10,
          -10,
          -10,
          231,
          -10,
          -10,
          -10,
          -10,
          -10,
          232,
          -10,
          -10,
          -10,
          233,
          -10,
          -10,
          -10,
          -10,
          -10,
          -10,
          -10,
          -10,
          -10,
          -10,
          234,
          235,
          236,
          237,
          -10,
          238,
          239,
          -10,
          240,
          -10,
          -10,
          -10,
          -10,
          -10,
          241,
          242,
          243,
          -10,
          -10,
          -10,
          -10,
          244,
          245,
          246,
          247,
          248,
          249,
          -10,
          250,
          -10,
          251,
          252,
          -10,
          -10,
          -10,
          -10,
          -10,
          -10,
          -10,
          253,
          -10,
          -10,
          254,
          255,
          256,
          257,
          -10,
          258,
          259,
          260,
          261,
          -10,
          262,
          263,
          -10,
          -10,
          -10,
          264,
          -10,
          -10,
          265,
          -10,
          -10,
          -10,
          -10,
          266,
          -10,
          -10,
          -10,
          -10,
          -10,
          -10,
          -10,
          -10,
          -10,
          267,
          -10,
          268,
          269,
          -10,
          -10,
          -10,
          -10,
          270,
          -10,
          -10,
          271,
          272,
          273,
          -10,
          -10,
          -10,
          -10,
          274,
          275,
          -10,
          276,
          -10,
          277,
          -10,
          -10,
          -10,
          278,
          279,
          -10,
          -10,
          -10,
          280,
          -10,
          -10,
          -10,
          -10,
          -10,
          -10,
          -10,
          -10,
          -10,
          281,
          -10,
          -10,
          -10,
          -10,
          282,
          -10,
          -10,
          283,
          -10,
          284,
          285,
          286,
          -10,
          -10,
          -10,
          -10,
          -10,
          287,
          288,
          -10,
          -10,
          -10,
          -10,
          289,
          290,
          291,
          -10,
          292,
          293,
          -10,
          -10,
          294,
          -10,
          -10,
          -10,
          -10,
          -10,
          -10,
          -10,
          -10,
          -10,
          -10,
          -10,
          -10,
          -10,
          -10,
          -10,
          -10,
          -10,
          295,
          -10,
          296,
          297,
          -10,
          298,
          -10,
          -10,
          -10,
          -10,
          -10,
          -10,
          -10,
          -10,
          -10,
          -10,
          -10,
          -10,
          -10,
          -10,
          -10,
          -10,
          -10,
          -10,
          -10,
          -10,
          -10,
          -10,
          -10,
          -10,
          -10,
          -10,
          299,
          300,
          -10,
          -10,
          -10,
          -10,
          -10,
          -10,
          301,
          302,
          -10,
          -10,
          -10,
          -10,
          -10,
          -10,
          -10,
          -10,
          -10,
          -10,
          -10,
          -10,
          303,
          -10,
          -10,
          -10,
          -10,
          -10,
          304,
          305,
          -10,
          -10,
          -10,
          -10,
          -10,
          -10,
          -10,
          -10,
          -10,
          -10,
          -10,
          -10,
          -10,
          306,
          -10,
          307
         ],
         "xaxis": "x",
         "y": [
          0,
          1,
          2,
          3,
          4,
          5,
          6,
          7,
          8,
          9,
          10,
          11,
          12,
          13,
          14,
          15,
          16,
          17,
          18,
          19,
          20,
          21,
          22,
          23,
          24,
          25,
          26,
          27,
          28,
          29,
          30,
          31,
          32,
          33,
          34,
          35,
          36,
          37,
          38,
          39,
          40,
          41,
          42,
          43,
          44,
          45,
          46,
          47,
          48,
          49,
          50,
          51,
          52,
          53,
          54,
          55,
          56,
          57,
          58,
          59,
          60,
          61,
          62,
          63,
          64,
          65,
          66,
          67,
          68,
          69,
          70,
          71,
          72,
          73,
          74,
          75,
          76,
          77,
          78,
          79,
          80,
          81,
          82,
          83,
          84,
          85,
          86,
          87,
          88,
          89,
          90,
          91,
          92,
          93,
          94,
          95,
          96,
          97,
          98,
          99,
          100,
          101,
          102,
          103,
          104,
          105,
          106,
          107,
          108,
          109,
          110,
          111,
          112,
          113,
          114,
          115,
          116,
          117,
          118,
          119,
          120,
          121,
          122,
          123,
          124,
          125,
          126,
          127,
          128,
          129,
          130,
          131,
          132,
          133,
          134,
          135,
          136,
          137,
          138,
          139,
          140,
          141,
          142,
          143,
          144,
          145,
          146,
          147,
          148,
          149,
          150,
          151,
          152,
          153,
          154,
          155,
          156,
          157,
          158,
          159,
          160,
          161,
          162,
          163,
          164,
          165,
          166,
          167,
          168,
          169,
          170,
          171,
          172,
          173,
          174,
          175,
          176,
          177,
          178,
          179,
          180,
          181,
          182,
          183,
          184,
          185,
          186,
          187,
          188,
          189,
          190,
          191,
          192,
          193,
          194,
          195,
          196,
          197,
          198,
          199,
          200,
          201,
          202,
          203,
          204,
          205,
          206,
          207,
          208,
          209,
          210,
          211,
          212,
          213,
          214,
          215,
          216,
          217,
          218,
          219,
          220,
          221,
          222,
          223,
          224,
          225,
          226,
          227,
          228,
          229,
          230,
          231,
          232,
          233,
          234,
          235,
          236,
          237,
          238,
          239,
          240,
          241,
          242,
          243,
          244,
          245,
          246,
          247,
          248,
          249,
          250,
          251,
          252,
          253,
          254,
          255,
          256,
          257,
          258,
          259,
          260,
          261,
          262,
          263,
          264,
          265,
          266,
          267,
          268,
          269,
          270,
          271,
          272,
          273,
          274,
          275,
          276,
          277,
          278,
          279,
          280,
          281,
          282,
          283,
          284,
          285,
          286,
          287,
          288,
          289,
          290,
          291,
          292,
          293,
          294,
          295,
          296,
          297,
          298,
          299,
          300,
          301,
          302,
          303,
          304,
          305,
          306,
          307,
          308,
          309,
          310,
          311,
          312,
          313,
          314,
          315,
          316,
          317,
          318,
          319,
          320,
          321,
          322,
          323,
          324,
          325,
          326,
          327,
          328,
          329,
          330,
          331,
          332,
          333,
          334,
          335,
          336,
          337,
          338,
          339,
          340,
          341,
          342,
          343,
          344,
          345,
          346,
          347,
          348,
          349,
          350,
          351,
          352,
          353,
          354,
          355,
          356,
          357,
          358,
          359,
          360,
          361,
          362,
          363,
          364,
          365,
          366,
          367,
          368,
          369,
          370,
          371,
          372,
          373,
          374,
          375,
          376,
          377,
          378,
          379,
          380,
          381,
          382,
          383,
          384,
          385,
          386,
          387,
          388,
          389,
          390,
          391,
          392,
          393,
          394,
          395,
          396,
          397,
          398,
          399,
          400,
          401,
          402,
          403,
          404,
          405,
          406,
          407,
          408,
          409,
          410,
          411,
          412,
          413,
          414,
          415,
          416,
          417,
          418,
          419,
          420,
          421,
          422,
          423,
          424,
          425,
          426,
          427,
          428,
          429,
          430,
          431,
          432,
          433,
          434,
          435,
          436,
          437,
          438,
          439,
          440,
          441,
          442,
          443,
          444,
          445,
          446,
          447,
          448,
          449,
          450,
          451,
          452,
          453,
          454,
          455,
          456,
          457,
          458,
          459,
          460,
          461,
          462,
          463,
          464,
          465,
          466,
          467,
          468,
          469,
          470,
          471,
          472,
          473,
          474,
          475,
          476,
          477,
          478,
          479,
          480,
          481,
          482,
          483,
          484,
          485,
          486,
          487,
          488,
          489,
          490,
          491,
          492,
          493,
          494,
          495,
          496,
          497,
          498,
          499,
          500,
          501,
          502,
          503,
          504,
          505,
          506,
          507,
          508,
          509,
          510,
          511,
          512,
          513,
          514,
          515,
          516,
          517,
          518,
          519,
          520,
          521,
          522,
          523,
          524,
          525,
          526,
          527,
          528,
          529,
          530,
          531,
          532,
          533,
          534,
          535,
          536,
          537,
          538,
          539,
          540,
          541,
          542,
          543,
          544,
          545,
          546,
          547,
          548,
          549,
          550,
          551,
          552,
          553,
          554,
          555,
          556,
          557,
          558,
          559,
          560,
          561,
          562,
          563,
          564,
          565,
          566,
          567,
          568,
          569,
          570,
          571,
          572,
          573,
          574,
          575,
          576,
          577,
          578,
          579,
          580,
          581,
          582,
          583,
          584,
          585,
          586,
          587,
          588,
          589,
          590,
          591,
          592,
          593,
          594,
          595,
          596,
          597,
          598,
          599,
          600,
          601,
          602,
          603,
          604,
          605,
          606,
          607,
          608,
          609,
          610,
          611,
          612,
          613,
          614,
          615,
          616,
          617,
          618,
          619,
          620,
          621,
          622,
          623,
          624,
          625,
          626,
          627,
          628,
          629,
          630,
          631,
          632,
          633,
          634,
          635,
          636,
          637,
          638,
          639,
          640,
          641,
          642,
          643,
          644,
          645,
          646,
          647,
          648,
          649,
          650,
          651,
          652,
          653,
          654,
          655,
          656,
          657,
          658,
          659,
          660,
          661,
          662,
          663,
          664,
          665,
          666,
          667,
          668,
          669,
          670,
          671,
          672,
          673,
          674,
          675,
          676,
          677,
          678,
          679,
          680,
          681,
          682,
          683,
          684,
          685,
          686,
          687,
          688,
          689,
          690,
          691,
          692,
          693,
          694,
          695,
          696,
          697,
          698,
          699,
          700,
          701,
          702,
          703,
          704,
          705,
          706,
          707,
          708,
          709,
          710,
          711,
          712,
          713,
          714,
          715,
          716,
          717,
          718,
          719,
          720,
          721,
          722,
          723,
          724,
          725,
          726,
          727,
          728,
          729,
          730,
          731,
          732,
          733,
          734,
          735,
          736,
          737,
          738,
          739,
          740,
          741,
          742,
          743,
          744,
          745,
          746,
          747,
          748,
          749,
          750,
          751,
          752,
          753,
          754,
          755,
          756,
          757,
          758,
          759,
          760,
          761,
          762,
          763,
          764,
          765,
          766,
          767,
          768,
          769,
          770,
          771,
          772,
          773,
          774,
          775,
          776,
          777,
          778,
          779,
          780,
          781,
          782,
          783,
          784,
          785,
          786,
          787,
          788,
          789,
          790,
          791,
          792,
          793,
          794,
          795,
          796,
          797,
          798,
          799,
          800,
          801,
          802,
          803,
          804,
          805,
          806,
          807,
          808,
          809,
          810,
          811,
          812,
          813,
          814,
          815,
          816,
          817,
          818,
          819,
          820,
          821,
          822,
          823,
          824,
          825,
          826,
          827,
          828,
          829,
          830,
          831,
          832,
          833,
          834
         ],
         "yaxis": "y"
        },
        {
         "customdata": [
          [
           true,
           null,
           false,
           1,
           "gt",
           0.6206896551724138,
           0,
           0
          ],
          [
           true,
           null,
           false,
           1,
           "gt",
           0.3885350318471338,
           1,
           2
          ],
          [
           true,
           null,
           false,
           1,
           "gt",
           0.7068965517241379,
           2,
           3
          ],
          [
           true,
           null,
           false,
           1,
           "gt",
           0.5560747663551402,
           3,
           5
          ],
          [
           true,
           null,
           false,
           1,
           "gt",
           0.652014652014652,
           4,
           6
          ],
          [
           true,
           null,
           false,
           1,
           "gt",
           0.8387096774193549,
           5,
           12
          ],
          [
           true,
           null,
           false,
           1,
           "gt",
           0.84375,
           6,
           14
          ],
          [
           true,
           null,
           false,
           1,
           "gt",
           0.6524064171122995,
           7,
           17
          ],
          [
           true,
           null,
           false,
           1,
           "gt",
           0.7515527950310559,
           8,
           20
          ],
          [
           true,
           null,
           false,
           1,
           "gt",
           0.8571428571428571,
           9,
           21
          ],
          [
           true,
           null,
           false,
           1,
           "gt",
           0.5957446808510638,
           10,
           22
          ],
          [
           true,
           null,
           false,
           1,
           "gt",
           0.5490196078431373,
           11,
           23
          ],
          [
           true,
           null,
           false,
           1,
           "gt",
           0.425531914893617,
           12,
           25
          ],
          [
           true,
           null,
           false,
           1,
           "gt",
           0.8086124401913876,
           13,
           26
          ],
          [
           true,
           null,
           false,
           1,
           "gt",
           0.8555555555555555,
           14,
           30
          ],
          [
           true,
           null,
           false,
           1,
           "gt",
           0.8222222222222222,
           15,
           32
          ],
          [
           true,
           null,
           false,
           1,
           "gt",
           0.7916666666666666,
           16,
           33
          ],
          [
           true,
           null,
           false,
           1,
           "gt",
           0.8681318681318682,
           17,
           38
          ],
          [
           true,
           null,
           false,
           1,
           "gt",
           0.9041916167664671,
           18,
           39
          ],
          [
           true,
           null,
           false,
           1,
           "gt",
           0.7272727272727273,
           19,
           40
          ],
          [
           true,
           null,
           false,
           1,
           "gt",
           0.7579365079365079,
           20,
           41
          ],
          [
           true,
           null,
           false,
           1,
           "gt",
           0.7164179104477612,
           21,
           46
          ],
          [
           true,
           null,
           false,
           1,
           "gt",
           0.7678571428571429,
           22,
           50
          ],
          [
           true,
           null,
           false,
           1,
           "gt",
           0.5530973451327433,
           23,
           51
          ],
          [
           true,
           null,
           false,
           1,
           "gt",
           0.8972972972972973,
           24,
           58
          ],
          [
           true,
           null,
           false,
           1,
           "gt",
           0.8442211055276382,
           25,
           59
          ],
          [
           true,
           null,
           false,
           1,
           "gt",
           0.6834862385321101,
           26,
           60
          ],
          [
           true,
           null,
           false,
           1,
           "gt",
           0.7804878048780488,
           27,
           63
          ],
          [
           true,
           null,
           false,
           1,
           "gt",
           0.8697916666666666,
           28,
           68
          ],
          [
           true,
           null,
           false,
           1,
           "gt",
           0.8271604938271605,
           29,
           69
          ],
          [
           true,
           null,
           false,
           1,
           "gt",
           0.7676767676767676,
           30,
           74
          ],
          [
           true,
           null,
           false,
           1,
           "gt",
           0.8418367346938775,
           31,
           75
          ],
          [
           true,
           null,
           false,
           1,
           "gt",
           0.9206349206349206,
           32,
           76
          ],
          [
           true,
           null,
           false,
           1,
           "gt",
           0.6114285714285714,
           33,
           80
          ],
          [
           true,
           null,
           false,
           1,
           "gt",
           0.6137931034482759,
           34,
           84
          ],
          [
           true,
           null,
           false,
           1,
           "gt",
           0.7128712871287128,
           35,
           88
          ],
          [
           true,
           null,
           false,
           1,
           "gt",
           0.6972477064220184,
           36,
           90
          ],
          [
           true,
           null,
           false,
           1,
           "gt",
           0.7552083333333334,
           37,
           91
          ],
          [
           true,
           null,
           false,
           1,
           "gt",
           0.7345679012345679,
           38,
           97
          ],
          [
           true,
           null,
           false,
           1,
           "gt",
           0.7552447552447552,
           39,
           98
          ],
          [
           true,
           null,
           false,
           1,
           "gt",
           0.48295454545454547,
           40,
           99
          ],
          [
           true,
           null,
           false,
           1,
           "gt",
           0.7237569060773481,
           41,
           101
          ],
          [
           true,
           null,
           false,
           1,
           "gt",
           0.8100558659217877,
           42,
           108
          ],
          [
           true,
           null,
           false,
           1,
           "gt",
           0.6878048780487804,
           43,
           111
          ],
          [
           true,
           null,
           false,
           1,
           "gt",
           0.8212290502793296,
           44,
           115
          ],
          [
           true,
           null,
           false,
           1,
           "gt",
           0.7386934673366834,
           45,
           118
          ],
          [
           true,
           null,
           false,
           1,
           "gt",
           0.8156028368794326,
           46,
           120
          ],
          [
           true,
           null,
           false,
           1,
           "gt",
           0.8993288590604027,
           47,
           121
          ],
          [
           true,
           null,
           false,
           1,
           "gt",
           0.6911764705882353,
           48,
           122
          ],
          [
           true,
           null,
           false,
           1,
           "gt",
           0.7407407407407407,
           49,
           123
          ],
          [
           true,
           null,
           false,
           1,
           "gt",
           0.9867549668874173,
           50,
           124
          ],
          [
           true,
           null,
           false,
           1,
           "gt",
           0.856,
           51,
           125
          ],
          [
           true,
           null,
           false,
           1,
           "gt",
           0.6802030456852792,
           52,
           126
          ],
          [
           true,
           null,
           false,
           1,
           "gt",
           0.8571428571428571,
           53,
           128
          ],
          [
           true,
           null,
           false,
           1,
           "gt",
           0.9863013698630136,
           54,
           129
          ],
          [
           true,
           null,
           false,
           1,
           "gt",
           0.9133333333333333,
           55,
           131
          ],
          [
           true,
           null,
           false,
           1,
           "gt",
           0.5459459459459459,
           56,
           134
          ],
          [
           true,
           null,
           false,
           1,
           "gt",
           0.8333333333333334,
           57,
           135
          ],
          [
           true,
           null,
           false,
           1,
           "gt",
           0.9777777777777777,
           58,
           137
          ],
          [
           true,
           null,
           false,
           1,
           "gt",
           0.9139072847682119,
           59,
           138
          ],
          [
           true,
           null,
           false,
           1,
           "gt",
           0.7982456140350878,
           60,
           139
          ],
          [
           true,
           null,
           false,
           1,
           "gt",
           0.6865671641791045,
           61,
           140
          ],
          [
           false,
           null,
           true,
           1,
           "gt",
           0,
           62,
           "NA"
          ],
          [
           true,
           null,
           false,
           1,
           "gt",
           0.8258928571428571,
           63,
           144
          ],
          [
           true,
           null,
           false,
           1,
           "gt",
           0.9166666666666666,
           64,
           146
          ],
          [
           true,
           null,
           false,
           1,
           "gt",
           0.7708333333333334,
           65,
           147
          ],
          [
           true,
           null,
           false,
           1,
           "gt",
           0.7903225806451613,
           66,
           149
          ],
          [
           true,
           null,
           false,
           1,
           "gt",
           0.7342995169082126,
           67,
           150
          ],
          [
           true,
           null,
           false,
           1,
           "gt",
           0.8144329896907216,
           68,
           152
          ],
          [
           true,
           null,
           false,
           1,
           "gt",
           0.6796875,
           69,
           158
          ],
          [
           true,
           null,
           false,
           1,
           "gt",
           0.9497206703910615,
           70,
           159
          ],
          [
           true,
           null,
           false,
           1,
           "gt",
           0.815028901734104,
           71,
           162
          ],
          [
           true,
           null,
           false,
           1,
           "gt",
           0.7375886524822695,
           72,
           163
          ],
          [
           true,
           null,
           false,
           1,
           "gt",
           0.5844748858447488,
           73,
           165
          ],
          [
           true,
           null,
           false,
           1,
           "gt",
           0.8609271523178808,
           74,
           166
          ],
          [
           true,
           null,
           false,
           1,
           "gt",
           0.6954022988505747,
           75,
           167
          ],
          [
           true,
           null,
           false,
           1,
           "gt",
           0.8792270531400966,
           76,
           170
          ],
          [
           true,
           null,
           false,
           1,
           "gt",
           0.7268722466960352,
           77,
           171
          ],
          [
           true,
           null,
           false,
           1,
           "gt",
           0.8724279835390947,
           78,
           175
          ],
          [
           true,
           null,
           false,
           1,
           "gt",
           0.7677725118483413,
           79,
           177
          ],
          [
           true,
           null,
           false,
           1,
           "gt",
           0.9135135135135135,
           80,
           178
          ],
          [
           true,
           null,
           false,
           1,
           "gt",
           0.7900552486187845,
           81,
           179
          ],
          [
           true,
           null,
           false,
           1,
           "gt",
           0.6926605504587156,
           82,
           180
          ],
          [
           true,
           null,
           false,
           1,
           "gt",
           0.9177489177489178,
           83,
           182
          ],
          [
           true,
           null,
           false,
           1,
           "gt",
           0.7982062780269058,
           84,
           184
          ],
          [
           true,
           null,
           false,
           1,
           "gt",
           0.7023255813953488,
           85,
           190
          ],
          [
           true,
           null,
           false,
           1,
           "gt",
           0.9,
           86,
           194
          ],
          [
           true,
           null,
           false,
           1,
           "gt",
           0.8390243902439024,
           87,
           195
          ],
          [
           true,
           null,
           false,
           1,
           "gt",
           0.8333333333333334,
           88,
           197
          ],
          [
           true,
           null,
           false,
           1,
           "gt",
           0.7379679144385026,
           89,
           198
          ],
          [
           true,
           null,
           false,
           1,
           "gt",
           0.7613636363636364,
           90,
           201
          ],
          [
           true,
           null,
           false,
           1,
           "gt",
           0.9178082191780822,
           91,
           206
          ],
          [
           true,
           null,
           false,
           1,
           "gt",
           0.8476190476190476,
           92,
           210
          ],
          [
           true,
           null,
           false,
           1,
           "gt",
           0.8702702702702703,
           93,
           212
          ],
          [
           true,
           null,
           false,
           1,
           "gt",
           0.69,
           94,
           214
          ],
          [
           true,
           null,
           false,
           1,
           "gt",
           0.8372093023255814,
           95,
           220
          ],
          [
           true,
           null,
           false,
           1,
           "gt",
           0.6105769230769231,
           96,
           221
          ],
          [
           true,
           null,
           false,
           1,
           "gt",
           0.5721649484536082,
           97,
           223
          ],
          [
           true,
           null,
           false,
           1,
           "gt",
           0.7419354838709677,
           98,
           224
          ],
          [
           true,
           null,
           false,
           1,
           "gt",
           0.676829268292683,
           99,
           239
          ],
          [
           true,
           null,
           false,
           1,
           "gt",
           0.6717948717948717,
           100,
           240
          ],
          [
           true,
           null,
           false,
           1,
           "gt",
           0.76,
           101,
           245
          ],
          [
           true,
           null,
           false,
           1,
           "gt",
           0.8814432989690721,
           102,
           252
          ],
          [
           true,
           null,
           false,
           1,
           "gt",
           0.8616352201257862,
           103,
           259
          ],
          [
           true,
           null,
           false,
           1,
           "gt",
           0.531578947368421,
           104,
           266
          ],
          [
           true,
           null,
           false,
           1,
           "gt",
           0.8217522658610272,
           105,
           268
          ],
          [
           true,
           null,
           false,
           1,
           "gt",
           0.39803439803439805,
           106,
           270
          ],
          [
           true,
           null,
           false,
           1,
           "gt",
           0.7419354838709677,
           107,
           271
          ],
          [
           true,
           null,
           false,
           1,
           "gt",
           0.7209302325581395,
           108,
           272
          ],
          [
           true,
           null,
           false,
           1,
           "gt",
           0.8414634146341463,
           109,
           274
          ],
          [
           true,
           null,
           false,
           1,
           "gt",
           0.7010309278350515,
           110,
           276
          ],
          [
           true,
           null,
           false,
           1,
           "gt",
           0.7745664739884393,
           111,
           277
          ],
          [
           true,
           null,
           false,
           1,
           "gt",
           0.6887417218543046,
           112,
           281
          ],
          [
           true,
           null,
           false,
           1,
           "gt",
           0.8155737704918032,
           113,
           283
          ],
          [
           true,
           null,
           false,
           1,
           "gt",
           0.8411764705882353,
           114,
           286
          ],
          [
           true,
           null,
           false,
           1,
           "gt",
           0.7714285714285715,
           115,
           290
          ],
          [
           true,
           null,
           false,
           1,
           "gt",
           0.8857142857142857,
           116,
           292
          ],
          [
           true,
           null,
           false,
           1,
           "gt",
           0.8613861386138614,
           117,
           293
          ],
          [
           true,
           null,
           false,
           1,
           "gt",
           0.7912087912087912,
           118,
           294
          ],
          [
           true,
           null,
           false,
           1,
           "gt",
           0.7613636363636364,
           119,
           298
          ],
          [
           true,
           null,
           false,
           1,
           "gt",
           0.9,
           120,
           299
          ],
          [
           true,
           null,
           false,
           1,
           "gt",
           0.9230769230769231,
           121,
           300
          ],
          [
           true,
           null,
           false,
           1,
           "gt",
           0.7148936170212766,
           122,
           301
          ],
          [
           true,
           null,
           false,
           1,
           "gt",
           0.8290155440414507,
           123,
           303
          ],
          [
           true,
           null,
           false,
           1,
           "gt",
           0.7484662576687117,
           124,
           304
          ],
          [
           true,
           null,
           false,
           1,
           "gt",
           0.6210526315789474,
           125,
           305
          ],
          [
           true,
           null,
           false,
           1,
           "gt",
           0.851063829787234,
           126,
           306
          ],
          [
           true,
           null,
           false,
           1,
           "gt",
           0.8447488584474886,
           127,
           308
          ],
          [
           true,
           null,
           false,
           1,
           "gt",
           0.848780487804878,
           128,
           309
          ],
          [
           true,
           null,
           false,
           1,
           "gt",
           0.8316831683168316,
           129,
           315
          ],
          [
           true,
           null,
           false,
           1,
           "gt",
           0.7769784172661871,
           130,
           318
          ],
          [
           true,
           null,
           false,
           1,
           "gt",
           0.7105263157894737,
           131,
           319
          ],
          [
           true,
           null,
           false,
           1,
           "gt",
           0.8389261744966443,
           132,
           321
          ],
          [
           true,
           null,
           false,
           1,
           "gt",
           0.8671328671328671,
           133,
           322
          ],
          [
           true,
           null,
           false,
           1,
           "gt",
           0.7213622291021672,
           134,
           324
          ],
          [
           true,
           null,
           false,
           1,
           "gt",
           0.9548022598870056,
           135,
           331
          ],
          [
           true,
           null,
           false,
           1,
           "gt",
           0.6683168316831684,
           136,
           339
          ],
          [
           true,
           null,
           false,
           1,
           "gt",
           0.9248554913294798,
           137,
           341
          ],
          [
           true,
           null,
           false,
           1,
           "gt",
           0.7,
           138,
           344
          ],
          [
           true,
           null,
           false,
           1,
           "gt",
           0.44919786096256686,
           139,
           348
          ],
          [
           true,
           null,
           false,
           1,
           "gt",
           0.6994535519125683,
           140,
           349
          ],
          [
           true,
           null,
           false,
           1,
           "gt",
           0.8432835820895522,
           141,
           350
          ],
          [
           true,
           null,
           false,
           1,
           "gt",
           0.9338235294117647,
           142,
           351
          ],
          [
           true,
           null,
           false,
           1,
           "gt",
           0.4807017543859649,
           143,
           357
          ],
          [
           true,
           null,
           false,
           1,
           "gt",
           0.9415204678362573,
           144,
           358
          ],
          [
           true,
           null,
           false,
           1,
           "gt",
           0.8659217877094972,
           145,
           363
          ],
          [
           true,
           null,
           false,
           1,
           "gt",
           0.7045454545454546,
           146,
           364
          ],
          [
           true,
           null,
           false,
           1,
           "gt",
           0.7527472527472527,
           147,
           366
          ],
          [
           true,
           null,
           false,
           1,
           "gt",
           0.67,
           148,
           368
          ],
          [
           true,
           null,
           false,
           1,
           "gt",
           0.735632183908046,
           149,
           374
          ],
          [
           true,
           null,
           false,
           1,
           "gt",
           0.631336405529954,
           150,
           375
          ],
          [
           true,
           null,
           false,
           1,
           "gt",
           0.8629441624365483,
           151,
           376
          ],
          [
           true,
           null,
           false,
           1,
           "gt",
           0.729957805907173,
           152,
           379
          ],
          [
           true,
           null,
           false,
           1,
           "gt",
           0.884393063583815,
           153,
           380
          ],
          [
           true,
           null,
           false,
           1,
           "gt",
           0.8283582089552238,
           154,
           383
          ],
          [
           true,
           null,
           false,
           1,
           "gt",
           0.6905829596412556,
           155,
           386
          ],
          [
           true,
           null,
           false,
           1,
           "gt",
           0.7005347593582888,
           156,
           387
          ],
          [
           true,
           null,
           false,
           1,
           "gt",
           0.8571428571428571,
           157,
           391
          ],
          [
           true,
           null,
           false,
           1,
           "gt",
           0.958904109589041,
           158,
           393
          ],
          [
           true,
           null,
           false,
           1,
           "gt",
           0.7446808510638298,
           159,
           398
          ],
          [
           true,
           null,
           false,
           1,
           "gt",
           0.6573033707865169,
           160,
           402
          ],
          [
           true,
           null,
           false,
           1,
           "gt",
           0.7976878612716763,
           161,
           403
          ],
          [
           true,
           null,
           false,
           1,
           "gt",
           0.815028901734104,
           162,
           404
          ],
          [
           true,
           null,
           false,
           1,
           "gt",
           0.6545454545454545,
           163,
           405
          ],
          [
           true,
           null,
           false,
           1,
           "gt",
           0.7763157894736842,
           164,
           406
          ],
          [
           true,
           null,
           false,
           1,
           "gt",
           0.8549222797927462,
           165,
           408
          ],
          [
           true,
           null,
           false,
           1,
           "gt",
           0.8454106280193237,
           166,
           410
          ],
          [
           true,
           null,
           false,
           1,
           "gt",
           0.827906976744186,
           167,
           411
          ],
          [
           true,
           null,
           false,
           1,
           "gt",
           0.8181818181818182,
           168,
           412
          ],
          [
           true,
           null,
           false,
           1,
           "gt",
           0.6124031007751938,
           169,
           414
          ],
          [
           true,
           null,
           false,
           1,
           "gt",
           0.8142857142857143,
           170,
           415
          ],
          [
           true,
           null,
           false,
           1,
           "gt",
           0.7419354838709677,
           171,
           416
          ],
          [
           true,
           null,
           false,
           1,
           "gt",
           0.9541984732824428,
           172,
           417
          ],
          [
           true,
           null,
           false,
           1,
           "gt",
           0.834061135371179,
           173,
           424
          ],
          [
           true,
           null,
           false,
           1,
           "gt",
           0.7156862745098039,
           174,
           425
          ],
          [
           true,
           null,
           false,
           1,
           "gt",
           0.75,
           175,
           431
          ],
          [
           true,
           null,
           false,
           1,
           "gt",
           0.949438202247191,
           176,
           433
          ],
          [
           true,
           null,
           false,
           1,
           "gt",
           0.6858638743455497,
           177,
           434
          ],
          [
           true,
           null,
           false,
           1,
           "gt",
           0.8375,
           178,
           435
          ],
          [
           true,
           null,
           false,
           1,
           "gt",
           0.7509025270758123,
           179,
           437
          ],
          [
           true,
           null,
           false,
           1,
           "gt",
           0.7162790697674418,
           180,
           438
          ],
          [
           true,
           null,
           false,
           1,
           "gt",
           0.7689530685920578,
           181,
           441
          ],
          [
           true,
           null,
           false,
           1,
           "gt",
           0.927536231884058,
           182,
           442
          ],
          [
           true,
           null,
           false,
           1,
           "gt",
           0.6633663366336634,
           183,
           449
          ],
          [
           true,
           null,
           false,
           1,
           "gt",
           0.8503937007874016,
           184,
           450
          ],
          [
           true,
           null,
           false,
           1,
           "gt",
           0.8518518518518519,
           185,
           451
          ],
          [
           true,
           null,
           false,
           1,
           "gt",
           0.8561643835616438,
           186,
           452
          ],
          [
           true,
           null,
           false,
           1,
           "gt",
           0.9044943820224719,
           187,
           453
          ],
          [
           true,
           null,
           false,
           1,
           "gt",
           0.6505376344086021,
           188,
           454
          ],
          [
           true,
           null,
           false,
           1,
           "gt",
           0.7777777777777778,
           189,
           459
          ],
          [
           true,
           null,
           false,
           1,
           "gt",
           0.7635467980295566,
           190,
           460
          ],
          [
           true,
           null,
           false,
           1,
           "gt",
           0.7671232876712328,
           191,
           462
          ],
          [
           true,
           null,
           false,
           1,
           "gt",
           0.8636363636363636,
           192,
           465
          ],
          [
           true,
           null,
           false,
           1,
           "gt",
           0.8114285714285714,
           193,
           468
          ],
          [
           true,
           null,
           false,
           1,
           "gt",
           0.8817204301075269,
           194,
           470
          ],
          [
           true,
           null,
           false,
           1,
           "gt",
           0.5829596412556054,
           195,
           471
          ],
          [
           true,
           null,
           false,
           1,
           "gt",
           0.8055555555555556,
           196,
           474
          ],
          [
           true,
           null,
           false,
           1,
           "gt",
           0.8660287081339713,
           197,
           476
          ],
          [
           true,
           null,
           false,
           1,
           "gt",
           0.834319526627219,
           198,
           480
          ],
          [
           true,
           null,
           false,
           1,
           "gt",
           0.891566265060241,
           199,
           483
          ],
          [
           true,
           null,
           false,
           1,
           "gt",
           0.9527027027027027,
           200,
           484
          ],
          [
           true,
           null,
           false,
           1,
           "gt",
           0.8944723618090452,
           201,
           486
          ],
          [
           true,
           null,
           false,
           1,
           "gt",
           0.7439613526570048,
           202,
           490
          ],
          [
           true,
           null,
           false,
           1,
           "gt",
           0.8076923076923077,
           203,
           491
          ],
          [
           true,
           null,
           false,
           1,
           "gt",
           0.6359223300970874,
           204,
           492
          ],
          [
           true,
           null,
           false,
           1,
           "gt",
           0.7783783783783784,
           205,
           495
          ],
          [
           true,
           null,
           false,
           1,
           "gt",
           0.8228571428571428,
           206,
           496
          ],
          [
           true,
           null,
           false,
           1,
           "gt",
           0.8980891719745223,
           207,
           499
          ],
          [
           true,
           null,
           false,
           1,
           "gt",
           0.8974358974358975,
           208,
           502
          ],
          [
           true,
           null,
           false,
           1,
           "gt",
           0.770764119601329,
           209,
           503
          ],
          [
           true,
           null,
           false,
           1,
           "gt",
           0.7337278106508875,
           210,
           504
          ],
          [
           true,
           null,
           false,
           1,
           "gt",
           0.9823529411764705,
           211,
           508
          ],
          [
           true,
           null,
           false,
           1,
           "gt",
           0.861244019138756,
           212,
           510
          ],
          [
           true,
           null,
           false,
           1,
           "gt",
           0.7277777777777777,
           213,
           519
          ],
          [
           true,
           null,
           false,
           1,
           "gt",
           0.8240740740740741,
           214,
           520
          ],
          [
           true,
           null,
           false,
           1,
           "gt",
           0.9006211180124224,
           215,
           521
          ],
          [
           true,
           null,
           false,
           1,
           "gt",
           0.825,
           216,
           523
          ],
          [
           true,
           null,
           false,
           1,
           "gt",
           0.685,
           217,
           528
          ],
          [
           true,
           null,
           false,
           1,
           "gt",
           0.7708333333333334,
           218,
           531
          ],
          [
           true,
           null,
           false,
           1,
           "gt",
           0.9101796407185628,
           219,
           532
          ],
          [
           true,
           null,
           false,
           1,
           "gt",
           0.6971153846153846,
           220,
           535
          ],
          [
           true,
           null,
           false,
           1,
           "gt",
           0.84375,
           221,
           536
          ],
          [
           true,
           null,
           false,
           1,
           "gt",
           0.7921348314606742,
           222,
           541
          ],
          [
           true,
           null,
           false,
           1,
           "gt",
           0.896551724137931,
           223,
           543
          ],
          [
           true,
           null,
           false,
           1,
           "gt",
           0.8502673796791443,
           224,
           546
          ],
          [
           true,
           null,
           false,
           1,
           "gt",
           0.5978260869565217,
           225,
           548
          ],
          [
           false,
           null,
           true,
           1,
           "gt",
           0,
           226,
           "NA"
          ],
          [
           true,
           null,
           false,
           1,
           "gt",
           0.803921568627451,
           227,
           552
          ],
          [
           true,
           null,
           false,
           1,
           "gt",
           0.7159763313609467,
           228,
           558
          ],
          [
           true,
           null,
           false,
           1,
           "gt",
           0.745945945945946,
           229,
           559
          ],
          [
           true,
           null,
           false,
           1,
           "gt",
           0.6476683937823834,
           230,
           563
          ],
          [
           true,
           null,
           false,
           1,
           "gt",
           0.8544303797468354,
           231,
           569
          ],
          [
           true,
           null,
           false,
           1,
           "gt",
           0.75,
           232,
           575
          ],
          [
           true,
           null,
           false,
           1,
           "gt",
           0.8953488372093024,
           233,
           579
          ],
          [
           true,
           null,
           false,
           1,
           "gt",
           0.7375565610859729,
           234,
           590
          ],
          [
           true,
           null,
           false,
           1,
           "gt",
           0.7015706806282722,
           235,
           591
          ],
          [
           true,
           null,
           false,
           1,
           "gt",
           0.49404761904761907,
           236,
           592
          ],
          [
           true,
           null,
           false,
           1,
           "gt",
           0.7532467532467533,
           237,
           593
          ],
          [
           true,
           null,
           false,
           1,
           "gt",
           0.8372093023255814,
           238,
           595
          ],
          [
           true,
           null,
           false,
           1,
           "gt",
           0.803680981595092,
           239,
           596
          ],
          [
           true,
           null,
           false,
           1,
           "gt",
           0.6188340807174888,
           240,
           598
          ],
          [
           true,
           null,
           false,
           1,
           "gt",
           0.6414473684210527,
           241,
           604
          ],
          [
           true,
           null,
           false,
           1,
           "gt",
           0.900523560209424,
           242,
           605
          ],
          [
           true,
           null,
           false,
           1,
           "gt",
           0.7783018867924528,
           243,
           606
          ],
          [
           true,
           null,
           false,
           1,
           "gt",
           0.8894230769230769,
           244,
           611
          ],
          [
           true,
           null,
           false,
           1,
           "gt",
           0.7403314917127072,
           245,
           612
          ],
          [
           true,
           null,
           false,
           1,
           "gt",
           0.5654008438818565,
           246,
           613
          ],
          [
           true,
           null,
           false,
           1,
           "gt",
           0.7562189054726368,
           247,
           614
          ],
          [
           true,
           null,
           false,
           1,
           "gt",
           0.7739130434782608,
           248,
           615
          ],
          [
           true,
           null,
           false,
           1,
           "gt",
           0.930635838150289,
           249,
           616
          ],
          [
           true,
           null,
           false,
           1,
           "gt",
           0.656,
           250,
           618
          ],
          [
           true,
           null,
           false,
           1,
           "gt",
           0.7789473684210526,
           251,
           620
          ],
          [
           true,
           null,
           false,
           1,
           "gt",
           0.7640449438202247,
           252,
           621
          ],
          [
           true,
           null,
           false,
           1,
           "gt",
           0.7623762376237624,
           253,
           629
          ],
          [
           true,
           null,
           false,
           1,
           "gt",
           0.914572864321608,
           254,
           632
          ],
          [
           true,
           null,
           false,
           1,
           "gt",
           0.6602870813397129,
           255,
           633
          ],
          [
           true,
           null,
           false,
           1,
           "gt",
           0.8333333333333334,
           256,
           634
          ],
          [
           true,
           null,
           false,
           1,
           "gt",
           0.7432432432432432,
           257,
           635
          ],
          [
           true,
           null,
           false,
           1,
           "gt",
           0.8009950248756219,
           258,
           637
          ],
          [
           true,
           null,
           false,
           1,
           "gt",
           0.6839622641509434,
           259,
           638
          ],
          [
           true,
           null,
           false,
           1,
           "gt",
           0.7333333333333333,
           260,
           639
          ],
          [
           true,
           null,
           false,
           1,
           "gt",
           0.6111111111111112,
           261,
           640
          ],
          [
           true,
           null,
           false,
           1,
           "gt",
           0.7488372093023256,
           262,
           642
          ],
          [
           true,
           null,
           false,
           1,
           "gt",
           0.7869565217391304,
           263,
           643
          ],
          [
           true,
           null,
           false,
           1,
           "gt",
           0.7096774193548387,
           264,
           647
          ],
          [
           true,
           null,
           false,
           1,
           "gt",
           0.8018018018018018,
           265,
           650
          ],
          [
           true,
           null,
           false,
           1,
           "gt",
           0.7764705882352941,
           266,
           655
          ],
          [
           true,
           null,
           false,
           1,
           "gt",
           0.8238636363636364,
           267,
           665
          ],
          [
           true,
           null,
           false,
           1,
           "gt",
           0.8055555555555556,
           268,
           667
          ],
          [
           true,
           null,
           false,
           1,
           "gt",
           0.9215686274509803,
           269,
           668
          ],
          [
           true,
           null,
           false,
           1,
           "gt",
           0.8256410256410256,
           270,
           673
          ],
          [
           true,
           null,
           false,
           1,
           "gt",
           0.5735294117647058,
           271,
           676
          ],
          [
           true,
           null,
           false,
           1,
           "gt",
           0.9078341013824884,
           272,
           677
          ],
          [
           true,
           null,
           false,
           1,
           "gt",
           0.7815533980582524,
           273,
           678
          ],
          [
           true,
           null,
           false,
           1,
           "gt",
           0.8102564102564103,
           274,
           683
          ],
          [
           true,
           null,
           false,
           1,
           "gt",
           0.7424242424242424,
           275,
           684
          ],
          [
           true,
           null,
           false,
           1,
           "gt",
           0.5625,
           276,
           686
          ],
          [
           true,
           null,
           false,
           1,
           "gt",
           0.7148936170212766,
           277,
           688
          ],
          [
           true,
           null,
           false,
           1,
           "gt",
           0.850828729281768,
           278,
           692
          ],
          [
           true,
           null,
           false,
           1,
           "gt",
           0.6267942583732058,
           279,
           693
          ],
          [
           true,
           null,
           false,
           1,
           "gt",
           0.6972477064220184,
           280,
           697
          ],
          [
           true,
           null,
           false,
           1,
           "gt",
           0.7451923076923077,
           281,
           707
          ],
          [
           true,
           null,
           false,
           1,
           "gt",
           0.7596153846153846,
           282,
           712
          ],
          [
           true,
           null,
           false,
           1,
           "gt",
           0.815028901734104,
           283,
           715
          ],
          [
           true,
           null,
           false,
           1,
           "gt",
           0.8808290155440415,
           284,
           717
          ],
          [
           true,
           null,
           false,
           1,
           "gt",
           0.835820895522388,
           285,
           718
          ],
          [
           true,
           null,
           false,
           1,
           "gt",
           0.8224852071005917,
           286,
           719
          ],
          [
           true,
           null,
           false,
           1,
           "gt",
           0.6523809523809524,
           287,
           725
          ],
          [
           true,
           null,
           false,
           1,
           "gt",
           0.8375,
           288,
           726
          ],
          [
           true,
           null,
           false,
           1,
           "gt",
           0.9221556886227545,
           289,
           731
          ],
          [
           true,
           null,
           false,
           1,
           "gt",
           0.75,
           290,
           732
          ],
          [
           true,
           null,
           false,
           1,
           "gt",
           0.9513513513513514,
           291,
           733
          ],
          [
           true,
           null,
           false,
           1,
           "gt",
           0.8685446009389671,
           292,
           735
          ],
          [
           true,
           null,
           false,
           1,
           "gt",
           0.7511961722488039,
           293,
           736
          ],
          [
           true,
           null,
           false,
           1,
           "gt",
           0.5410628019323671,
           294,
           739
          ],
          [
           true,
           null,
           false,
           1,
           "gt",
           0.7244897959183674,
           295,
           757
          ],
          [
           true,
           null,
           false,
           1,
           "gt",
           0.7093596059113301,
           296,
           759
          ],
          [
           true,
           null,
           false,
           1,
           "gt",
           0.8187134502923976,
           297,
           760
          ],
          [
           true,
           null,
           false,
           1,
           "gt",
           0.7487684729064039,
           298,
           762
          ],
          [
           true,
           null,
           false,
           1,
           "gt",
           0.7897727272727273,
           299,
           789
          ],
          [
           true,
           null,
           false,
           1,
           "gt",
           0.7821782178217822,
           300,
           790
          ],
          [
           true,
           null,
           false,
           1,
           "gt",
           0.8176795580110497,
           301,
           797
          ],
          [
           true,
           null,
           false,
           1,
           "gt",
           0.9345238095238095,
           302,
           798
          ],
          [
           true,
           null,
           false,
           1,
           "gt",
           0.7925531914893617,
           303,
           811
          ],
          [
           true,
           null,
           false,
           1,
           "gt",
           0.9215686274509803,
           304,
           817
          ],
          [
           true,
           null,
           false,
           1,
           "gt",
           0.9230769230769231,
           305,
           818
          ],
          [
           true,
           null,
           false,
           1,
           "gt",
           0.8554913294797688,
           306,
           832
          ],
          [
           true,
           null,
           false,
           1,
           "gt",
           0.65625,
           307,
           834
          ]
         ],
         "hovertemplate": "iou=%{marker.color:.4f}<br>indexGT=%{customdata[6]}<br>indexOut=%{customdata[7]}<extra></extra>",
         "legendgroup": "gt",
         "marker": {
          "color": [
           0.6206896551724138,
           0.3885350318471338,
           0.7068965517241379,
           0.5560747663551402,
           0.652014652014652,
           0.8387096774193549,
           0.84375,
           0.6524064171122995,
           0.7515527950310559,
           0.8571428571428571,
           0.5957446808510638,
           0.5490196078431373,
           0.425531914893617,
           0.8086124401913876,
           0.8555555555555555,
           0.8222222222222222,
           0.7916666666666666,
           0.8681318681318682,
           0.9041916167664671,
           0.7272727272727273,
           0.7579365079365079,
           0.7164179104477612,
           0.7678571428571429,
           0.5530973451327433,
           0.8972972972972973,
           0.8442211055276382,
           0.6834862385321101,
           0.7804878048780488,
           0.8697916666666666,
           0.8271604938271605,
           0.7676767676767676,
           0.8418367346938775,
           0.9206349206349206,
           0.6114285714285714,
           0.6137931034482759,
           0.7128712871287128,
           0.6972477064220184,
           0.7552083333333334,
           0.7345679012345679,
           0.7552447552447552,
           0.48295454545454547,
           0.7237569060773481,
           0.8100558659217877,
           0.6878048780487804,
           0.8212290502793296,
           0.7386934673366834,
           0.8156028368794326,
           0.8993288590604027,
           0.6911764705882353,
           0.7407407407407407,
           0.9867549668874173,
           0.856,
           0.6802030456852792,
           0.8571428571428571,
           0.9863013698630136,
           0.9133333333333333,
           0.5459459459459459,
           0.8333333333333334,
           0.9777777777777777,
           0.9139072847682119,
           0.7982456140350878,
           0.6865671641791045,
           0,
           0.8258928571428571,
           0.9166666666666666,
           0.7708333333333334,
           0.7903225806451613,
           0.7342995169082126,
           0.8144329896907216,
           0.6796875,
           0.9497206703910615,
           0.815028901734104,
           0.7375886524822695,
           0.5844748858447488,
           0.8609271523178808,
           0.6954022988505747,
           0.8792270531400966,
           0.7268722466960352,
           0.8724279835390947,
           0.7677725118483413,
           0.9135135135135135,
           0.7900552486187845,
           0.6926605504587156,
           0.9177489177489178,
           0.7982062780269058,
           0.7023255813953488,
           0.9,
           0.8390243902439024,
           0.8333333333333334,
           0.7379679144385026,
           0.7613636363636364,
           0.9178082191780822,
           0.8476190476190476,
           0.8702702702702703,
           0.69,
           0.8372093023255814,
           0.6105769230769231,
           0.5721649484536082,
           0.7419354838709677,
           0.676829268292683,
           0.6717948717948717,
           0.76,
           0.8814432989690721,
           0.8616352201257862,
           0.531578947368421,
           0.8217522658610272,
           0.39803439803439805,
           0.7419354838709677,
           0.7209302325581395,
           0.8414634146341463,
           0.7010309278350515,
           0.7745664739884393,
           0.6887417218543046,
           0.8155737704918032,
           0.8411764705882353,
           0.7714285714285715,
           0.8857142857142857,
           0.8613861386138614,
           0.7912087912087912,
           0.7613636363636364,
           0.9,
           0.9230769230769231,
           0.7148936170212766,
           0.8290155440414507,
           0.7484662576687117,
           0.6210526315789474,
           0.851063829787234,
           0.8447488584474886,
           0.848780487804878,
           0.8316831683168316,
           0.7769784172661871,
           0.7105263157894737,
           0.8389261744966443,
           0.8671328671328671,
           0.7213622291021672,
           0.9548022598870056,
           0.6683168316831684,
           0.9248554913294798,
           0.7,
           0.44919786096256686,
           0.6994535519125683,
           0.8432835820895522,
           0.9338235294117647,
           0.4807017543859649,
           0.9415204678362573,
           0.8659217877094972,
           0.7045454545454546,
           0.7527472527472527,
           0.67,
           0.735632183908046,
           0.631336405529954,
           0.8629441624365483,
           0.729957805907173,
           0.884393063583815,
           0.8283582089552238,
           0.6905829596412556,
           0.7005347593582888,
           0.8571428571428571,
           0.958904109589041,
           0.7446808510638298,
           0.6573033707865169,
           0.7976878612716763,
           0.815028901734104,
           0.6545454545454545,
           0.7763157894736842,
           0.8549222797927462,
           0.8454106280193237,
           0.827906976744186,
           0.8181818181818182,
           0.6124031007751938,
           0.8142857142857143,
           0.7419354838709677,
           0.9541984732824428,
           0.834061135371179,
           0.7156862745098039,
           0.75,
           0.949438202247191,
           0.6858638743455497,
           0.8375,
           0.7509025270758123,
           0.7162790697674418,
           0.7689530685920578,
           0.927536231884058,
           0.6633663366336634,
           0.8503937007874016,
           0.8518518518518519,
           0.8561643835616438,
           0.9044943820224719,
           0.6505376344086021,
           0.7777777777777778,
           0.7635467980295566,
           0.7671232876712328,
           0.8636363636363636,
           0.8114285714285714,
           0.8817204301075269,
           0.5829596412556054,
           0.8055555555555556,
           0.8660287081339713,
           0.834319526627219,
           0.891566265060241,
           0.9527027027027027,
           0.8944723618090452,
           0.7439613526570048,
           0.8076923076923077,
           0.6359223300970874,
           0.7783783783783784,
           0.8228571428571428,
           0.8980891719745223,
           0.8974358974358975,
           0.770764119601329,
           0.7337278106508875,
           0.9823529411764705,
           0.861244019138756,
           0.7277777777777777,
           0.8240740740740741,
           0.9006211180124224,
           0.825,
           0.685,
           0.7708333333333334,
           0.9101796407185628,
           0.6971153846153846,
           0.84375,
           0.7921348314606742,
           0.896551724137931,
           0.8502673796791443,
           0.5978260869565217,
           0,
           0.803921568627451,
           0.7159763313609467,
           0.745945945945946,
           0.6476683937823834,
           0.8544303797468354,
           0.75,
           0.8953488372093024,
           0.7375565610859729,
           0.7015706806282722,
           0.49404761904761907,
           0.7532467532467533,
           0.8372093023255814,
           0.803680981595092,
           0.6188340807174888,
           0.6414473684210527,
           0.900523560209424,
           0.7783018867924528,
           0.8894230769230769,
           0.7403314917127072,
           0.5654008438818565,
           0.7562189054726368,
           0.7739130434782608,
           0.930635838150289,
           0.656,
           0.7789473684210526,
           0.7640449438202247,
           0.7623762376237624,
           0.914572864321608,
           0.6602870813397129,
           0.8333333333333334,
           0.7432432432432432,
           0.8009950248756219,
           0.6839622641509434,
           0.7333333333333333,
           0.6111111111111112,
           0.7488372093023256,
           0.7869565217391304,
           0.7096774193548387,
           0.8018018018018018,
           0.7764705882352941,
           0.8238636363636364,
           0.8055555555555556,
           0.9215686274509803,
           0.8256410256410256,
           0.5735294117647058,
           0.9078341013824884,
           0.7815533980582524,
           0.8102564102564103,
           0.7424242424242424,
           0.5625,
           0.7148936170212766,
           0.850828729281768,
           0.6267942583732058,
           0.6972477064220184,
           0.7451923076923077,
           0.7596153846153846,
           0.815028901734104,
           0.8808290155440415,
           0.835820895522388,
           0.8224852071005917,
           0.6523809523809524,
           0.8375,
           0.9221556886227545,
           0.75,
           0.9513513513513514,
           0.8685446009389671,
           0.7511961722488039,
           0.5410628019323671,
           0.7244897959183674,
           0.7093596059113301,
           0.8187134502923976,
           0.7487684729064039,
           0.7897727272727273,
           0.7821782178217822,
           0.8176795580110497,
           0.9345238095238095,
           0.7925531914893617,
           0.9215686274509803,
           0.9230769230769231,
           0.8554913294797688,
           0.65625
          ],
          "coloraxis": "coloraxis",
          "line": {
           "width": 2
          },
          "opacity": 0.8,
          "size": [
           1,
           1,
           1,
           1,
           1,
           1,
           1,
           1,
           1,
           1,
           1,
           1,
           1,
           1,
           1,
           1,
           1,
           1,
           1,
           1,
           1,
           1,
           1,
           1,
           1,
           1,
           1,
           1,
           1,
           1,
           1,
           1,
           1,
           1,
           1,
           1,
           1,
           1,
           1,
           1,
           1,
           1,
           1,
           1,
           1,
           1,
           1,
           1,
           1,
           1,
           1,
           1,
           1,
           1,
           1,
           1,
           1,
           1,
           1,
           1,
           1,
           1,
           1,
           1,
           1,
           1,
           1,
           1,
           1,
           1,
           1,
           1,
           1,
           1,
           1,
           1,
           1,
           1,
           1,
           1,
           1,
           1,
           1,
           1,
           1,
           1,
           1,
           1,
           1,
           1,
           1,
           1,
           1,
           1,
           1,
           1,
           1,
           1,
           1,
           1,
           1,
           1,
           1,
           1,
           1,
           1,
           1,
           1,
           1,
           1,
           1,
           1,
           1,
           1,
           1,
           1,
           1,
           1,
           1,
           1,
           1,
           1,
           1,
           1,
           1,
           1,
           1,
           1,
           1,
           1,
           1,
           1,
           1,
           1,
           1,
           1,
           1,
           1,
           1,
           1,
           1,
           1,
           1,
           1,
           1,
           1,
           1,
           1,
           1,
           1,
           1,
           1,
           1,
           1,
           1,
           1,
           1,
           1,
           1,
           1,
           1,
           1,
           1,
           1,
           1,
           1,
           1,
           1,
           1,
           1,
           1,
           1,
           1,
           1,
           1,
           1,
           1,
           1,
           1,
           1,
           1,
           1,
           1,
           1,
           1,
           1,
           1,
           1,
           1,
           1,
           1,
           1,
           1,
           1,
           1,
           1,
           1,
           1,
           1,
           1,
           1,
           1,
           1,
           1,
           1,
           1,
           1,
           1,
           1,
           1,
           1,
           1,
           1,
           1,
           1,
           1,
           1,
           1,
           1,
           1,
           1,
           1,
           1,
           1,
           1,
           1,
           1,
           1,
           1,
           1,
           1,
           1,
           1,
           1,
           1,
           1,
           1,
           1,
           1,
           1,
           1,
           1,
           1,
           1,
           1,
           1,
           1,
           1,
           1,
           1,
           1,
           1,
           1,
           1,
           1,
           1,
           1,
           1,
           1,
           1,
           1,
           1,
           1,
           1,
           1,
           1,
           1,
           1,
           1,
           1,
           1,
           1,
           1,
           1,
           1,
           1,
           1,
           1,
           1,
           1,
           1,
           1,
           1,
           1,
           1,
           1,
           1,
           1,
           1,
           1,
           1,
           1,
           1,
           1,
           1,
           1,
           1,
           1,
           1,
           1,
           1,
           1,
           1,
           1,
           1,
           1,
           1,
           1
          ],
          "sizemode": "area",
          "sizeref": 0.0075,
          "symbol": "circle"
         },
         "mode": "markers",
         "name": "gt",
         "showlegend": true,
         "type": "scattergl",
         "x": [
          0,
          1,
          2,
          3,
          4,
          5,
          6,
          7,
          8,
          9,
          10,
          11,
          12,
          13,
          14,
          15,
          16,
          17,
          18,
          19,
          20,
          21,
          22,
          23,
          24,
          25,
          26,
          27,
          28,
          29,
          30,
          31,
          32,
          33,
          34,
          35,
          36,
          37,
          38,
          39,
          40,
          41,
          42,
          43,
          44,
          45,
          46,
          47,
          48,
          49,
          50,
          51,
          52,
          53,
          54,
          55,
          56,
          57,
          58,
          59,
          60,
          61,
          62,
          63,
          64,
          65,
          66,
          67,
          68,
          69,
          70,
          71,
          72,
          73,
          74,
          75,
          76,
          77,
          78,
          79,
          80,
          81,
          82,
          83,
          84,
          85,
          86,
          87,
          88,
          89,
          90,
          91,
          92,
          93,
          94,
          95,
          96,
          97,
          98,
          99,
          100,
          101,
          102,
          103,
          104,
          105,
          106,
          107,
          108,
          109,
          110,
          111,
          112,
          113,
          114,
          115,
          116,
          117,
          118,
          119,
          120,
          121,
          122,
          123,
          124,
          125,
          126,
          127,
          128,
          129,
          130,
          131,
          132,
          133,
          134,
          135,
          136,
          137,
          138,
          139,
          140,
          141,
          142,
          143,
          144,
          145,
          146,
          147,
          148,
          149,
          150,
          151,
          152,
          153,
          154,
          155,
          156,
          157,
          158,
          159,
          160,
          161,
          162,
          163,
          164,
          165,
          166,
          167,
          168,
          169,
          170,
          171,
          172,
          173,
          174,
          175,
          176,
          177,
          178,
          179,
          180,
          181,
          182,
          183,
          184,
          185,
          186,
          187,
          188,
          189,
          190,
          191,
          192,
          193,
          194,
          195,
          196,
          197,
          198,
          199,
          200,
          201,
          202,
          203,
          204,
          205,
          206,
          207,
          208,
          209,
          210,
          211,
          212,
          213,
          214,
          215,
          216,
          217,
          218,
          219,
          220,
          221,
          222,
          223,
          224,
          225,
          226,
          227,
          228,
          229,
          230,
          231,
          232,
          233,
          234,
          235,
          236,
          237,
          238,
          239,
          240,
          241,
          242,
          243,
          244,
          245,
          246,
          247,
          248,
          249,
          250,
          251,
          252,
          253,
          254,
          255,
          256,
          257,
          258,
          259,
          260,
          261,
          262,
          263,
          264,
          265,
          266,
          267,
          268,
          269,
          270,
          271,
          272,
          273,
          274,
          275,
          276,
          277,
          278,
          279,
          280,
          281,
          282,
          283,
          284,
          285,
          286,
          287,
          288,
          289,
          290,
          291,
          292,
          293,
          294,
          295,
          296,
          297,
          298,
          299,
          300,
          301,
          302,
          303,
          304,
          305,
          306,
          307
         ],
         "xaxis": "x",
         "y": [
          0,
          2,
          3,
          5,
          6,
          12,
          14,
          17,
          20,
          21,
          22,
          23,
          25,
          26,
          30,
          32,
          33,
          38,
          39,
          40,
          41,
          46,
          50,
          51,
          58,
          59,
          60,
          63,
          68,
          69,
          74,
          75,
          76,
          80,
          84,
          88,
          90,
          91,
          97,
          98,
          99,
          101,
          108,
          111,
          115,
          118,
          120,
          121,
          122,
          123,
          124,
          125,
          126,
          128,
          129,
          131,
          134,
          135,
          137,
          138,
          139,
          140,
          -10,
          144,
          146,
          147,
          149,
          150,
          152,
          158,
          159,
          162,
          163,
          165,
          166,
          167,
          170,
          171,
          175,
          177,
          178,
          179,
          180,
          182,
          184,
          190,
          194,
          195,
          197,
          198,
          201,
          206,
          210,
          212,
          214,
          220,
          221,
          223,
          224,
          239,
          240,
          245,
          252,
          259,
          266,
          268,
          270,
          271,
          272,
          274,
          276,
          277,
          281,
          283,
          286,
          290,
          292,
          293,
          294,
          298,
          299,
          300,
          301,
          303,
          304,
          305,
          306,
          308,
          309,
          315,
          318,
          319,
          321,
          322,
          324,
          331,
          339,
          341,
          344,
          348,
          349,
          350,
          351,
          357,
          358,
          363,
          364,
          366,
          368,
          374,
          375,
          376,
          379,
          380,
          383,
          386,
          387,
          391,
          393,
          398,
          402,
          403,
          404,
          405,
          406,
          408,
          410,
          411,
          412,
          414,
          415,
          416,
          417,
          424,
          425,
          431,
          433,
          434,
          435,
          437,
          438,
          441,
          442,
          449,
          450,
          451,
          452,
          453,
          454,
          459,
          460,
          462,
          465,
          468,
          470,
          471,
          474,
          476,
          480,
          483,
          484,
          486,
          490,
          491,
          492,
          495,
          496,
          499,
          502,
          503,
          504,
          508,
          510,
          519,
          520,
          521,
          523,
          528,
          531,
          532,
          535,
          536,
          541,
          543,
          546,
          548,
          -10,
          552,
          558,
          559,
          563,
          569,
          575,
          579,
          590,
          591,
          592,
          593,
          595,
          596,
          598,
          604,
          605,
          606,
          611,
          612,
          613,
          614,
          615,
          616,
          618,
          620,
          621,
          629,
          632,
          633,
          634,
          635,
          637,
          638,
          639,
          640,
          642,
          643,
          647,
          650,
          655,
          665,
          667,
          668,
          673,
          676,
          677,
          678,
          683,
          684,
          686,
          688,
          692,
          693,
          697,
          707,
          712,
          715,
          717,
          718,
          719,
          725,
          726,
          731,
          732,
          733,
          735,
          736,
          739,
          757,
          759,
          760,
          762,
          789,
          790,
          797,
          798,
          811,
          817,
          818,
          832,
          834
         ],
         "yaxis": "y"
        }
       ],
       "layout": {
        "coloraxis": {
         "colorbar": {
          "title": {
           "text": "iou"
          }
         },
         "colorscale": [
          [
           0,
           "rgb(40,40,40)"
          ],
          [
           0.000001,
           "rgb(28,227,255)"
          ],
          [
           0.14,
           "rgb(56,199,255)"
          ],
          [
           0.29,
           "rgb(85,170,255)"
          ],
          [
           0.42,
           "rgb(113,142,255)"
          ],
          [
           0.57,
           "rgb(142,113,255)"
          ],
          [
           0.71,
           "rgb(170,85,255)"
          ],
          [
           0.86,
           "rgb(199,56,255)"
          ],
          [
           1,
           "rgb(227,28,255)"
          ]
         ]
        },
        "legend": {
         "itemsizing": "constant",
         "orientation": "h",
         "title": {
          "text": "type"
         },
         "tracegroupgap": 0
        },
        "shapes": [
         {
          "line": {
           "dash": "dash"
          },
          "type": "line",
          "x0": -5,
          "x1": -5,
          "xref": "x",
          "y0": 0,
          "y1": 1,
          "yref": "y domain"
         },
         {
          "line": {
           "dash": "dash"
          },
          "type": "line",
          "x0": 0,
          "x1": 1,
          "xref": "x domain",
          "y0": -5,
          "y1": -5,
          "yref": "y"
         }
        ],
        "template": {
         "data": {
          "bar": [
           {
            "error_x": {
             "color": "#2a3f5f"
            },
            "error_y": {
             "color": "#2a3f5f"
            },
            "marker": {
             "line": {
              "color": "#E5ECF6",
              "width": 0.5
             },
             "pattern": {
              "fillmode": "overlay",
              "size": 10,
              "solidity": 0.2
             }
            },
            "type": "bar"
           }
          ],
          "barpolar": [
           {
            "marker": {
             "line": {
              "color": "#E5ECF6",
              "width": 0.5
             },
             "pattern": {
              "fillmode": "overlay",
              "size": 10,
              "solidity": 0.2
             }
            },
            "type": "barpolar"
           }
          ],
          "carpet": [
           {
            "aaxis": {
             "endlinecolor": "#2a3f5f",
             "gridcolor": "white",
             "linecolor": "white",
             "minorgridcolor": "white",
             "startlinecolor": "#2a3f5f"
            },
            "baxis": {
             "endlinecolor": "#2a3f5f",
             "gridcolor": "white",
             "linecolor": "white",
             "minorgridcolor": "white",
             "startlinecolor": "#2a3f5f"
            },
            "type": "carpet"
           }
          ],
          "choropleth": [
           {
            "colorbar": {
             "outlinewidth": 0,
             "ticks": ""
            },
            "type": "choropleth"
           }
          ],
          "contour": [
           {
            "colorbar": {
             "outlinewidth": 0,
             "ticks": ""
            },
            "colorscale": [
             [
              0,
              "#0d0887"
             ],
             [
              0.1111111111111111,
              "#46039f"
             ],
             [
              0.2222222222222222,
              "#7201a8"
             ],
             [
              0.3333333333333333,
              "#9c179e"
             ],
             [
              0.4444444444444444,
              "#bd3786"
             ],
             [
              0.5555555555555556,
              "#d8576b"
             ],
             [
              0.6666666666666666,
              "#ed7953"
             ],
             [
              0.7777777777777778,
              "#fb9f3a"
             ],
             [
              0.8888888888888888,
              "#fdca26"
             ],
             [
              1,
              "#f0f921"
             ]
            ],
            "type": "contour"
           }
          ],
          "contourcarpet": [
           {
            "colorbar": {
             "outlinewidth": 0,
             "ticks": ""
            },
            "type": "contourcarpet"
           }
          ],
          "heatmap": [
           {
            "colorbar": {
             "outlinewidth": 0,
             "ticks": ""
            },
            "colorscale": [
             [
              0,
              "#0d0887"
             ],
             [
              0.1111111111111111,
              "#46039f"
             ],
             [
              0.2222222222222222,
              "#7201a8"
             ],
             [
              0.3333333333333333,
              "#9c179e"
             ],
             [
              0.4444444444444444,
              "#bd3786"
             ],
             [
              0.5555555555555556,
              "#d8576b"
             ],
             [
              0.6666666666666666,
              "#ed7953"
             ],
             [
              0.7777777777777778,
              "#fb9f3a"
             ],
             [
              0.8888888888888888,
              "#fdca26"
             ],
             [
              1,
              "#f0f921"
             ]
            ],
            "type": "heatmap"
           }
          ],
          "heatmapgl": [
           {
            "colorbar": {
             "outlinewidth": 0,
             "ticks": ""
            },
            "colorscale": [
             [
              0,
              "#0d0887"
             ],
             [
              0.1111111111111111,
              "#46039f"
             ],
             [
              0.2222222222222222,
              "#7201a8"
             ],
             [
              0.3333333333333333,
              "#9c179e"
             ],
             [
              0.4444444444444444,
              "#bd3786"
             ],
             [
              0.5555555555555556,
              "#d8576b"
             ],
             [
              0.6666666666666666,
              "#ed7953"
             ],
             [
              0.7777777777777778,
              "#fb9f3a"
             ],
             [
              0.8888888888888888,
              "#fdca26"
             ],
             [
              1,
              "#f0f921"
             ]
            ],
            "type": "heatmapgl"
           }
          ],
          "histogram": [
           {
            "marker": {
             "pattern": {
              "fillmode": "overlay",
              "size": 10,
              "solidity": 0.2
             }
            },
            "type": "histogram"
           }
          ],
          "histogram2d": [
           {
            "colorbar": {
             "outlinewidth": 0,
             "ticks": ""
            },
            "colorscale": [
             [
              0,
              "#0d0887"
             ],
             [
              0.1111111111111111,
              "#46039f"
             ],
             [
              0.2222222222222222,
              "#7201a8"
             ],
             [
              0.3333333333333333,
              "#9c179e"
             ],
             [
              0.4444444444444444,
              "#bd3786"
             ],
             [
              0.5555555555555556,
              "#d8576b"
             ],
             [
              0.6666666666666666,
              "#ed7953"
             ],
             [
              0.7777777777777778,
              "#fb9f3a"
             ],
             [
              0.8888888888888888,
              "#fdca26"
             ],
             [
              1,
              "#f0f921"
             ]
            ],
            "type": "histogram2d"
           }
          ],
          "histogram2dcontour": [
           {
            "colorbar": {
             "outlinewidth": 0,
             "ticks": ""
            },
            "colorscale": [
             [
              0,
              "#0d0887"
             ],
             [
              0.1111111111111111,
              "#46039f"
             ],
             [
              0.2222222222222222,
              "#7201a8"
             ],
             [
              0.3333333333333333,
              "#9c179e"
             ],
             [
              0.4444444444444444,
              "#bd3786"
             ],
             [
              0.5555555555555556,
              "#d8576b"
             ],
             [
              0.6666666666666666,
              "#ed7953"
             ],
             [
              0.7777777777777778,
              "#fb9f3a"
             ],
             [
              0.8888888888888888,
              "#fdca26"
             ],
             [
              1,
              "#f0f921"
             ]
            ],
            "type": "histogram2dcontour"
           }
          ],
          "mesh3d": [
           {
            "colorbar": {
             "outlinewidth": 0,
             "ticks": ""
            },
            "type": "mesh3d"
           }
          ],
          "parcoords": [
           {
            "line": {
             "colorbar": {
              "outlinewidth": 0,
              "ticks": ""
             }
            },
            "type": "parcoords"
           }
          ],
          "pie": [
           {
            "automargin": true,
            "type": "pie"
           }
          ],
          "scatter": [
           {
            "fillpattern": {
             "fillmode": "overlay",
             "size": 10,
             "solidity": 0.2
            },
            "type": "scatter"
           }
          ],
          "scatter3d": [
           {
            "line": {
             "colorbar": {
              "outlinewidth": 0,
              "ticks": ""
             }
            },
            "marker": {
             "colorbar": {
              "outlinewidth": 0,
              "ticks": ""
             }
            },
            "type": "scatter3d"
           }
          ],
          "scattercarpet": [
           {
            "marker": {
             "colorbar": {
              "outlinewidth": 0,
              "ticks": ""
             }
            },
            "type": "scattercarpet"
           }
          ],
          "scattergeo": [
           {
            "marker": {
             "colorbar": {
              "outlinewidth": 0,
              "ticks": ""
             }
            },
            "type": "scattergeo"
           }
          ],
          "scattergl": [
           {
            "marker": {
             "colorbar": {
              "outlinewidth": 0,
              "ticks": ""
             }
            },
            "type": "scattergl"
           }
          ],
          "scattermapbox": [
           {
            "marker": {
             "colorbar": {
              "outlinewidth": 0,
              "ticks": ""
             }
            },
            "type": "scattermapbox"
           }
          ],
          "scatterpolar": [
           {
            "marker": {
             "colorbar": {
              "outlinewidth": 0,
              "ticks": ""
             }
            },
            "type": "scatterpolar"
           }
          ],
          "scatterpolargl": [
           {
            "marker": {
             "colorbar": {
              "outlinewidth": 0,
              "ticks": ""
             }
            },
            "type": "scatterpolargl"
           }
          ],
          "scatterternary": [
           {
            "marker": {
             "colorbar": {
              "outlinewidth": 0,
              "ticks": ""
             }
            },
            "type": "scatterternary"
           }
          ],
          "surface": [
           {
            "colorbar": {
             "outlinewidth": 0,
             "ticks": ""
            },
            "colorscale": [
             [
              0,
              "#0d0887"
             ],
             [
              0.1111111111111111,
              "#46039f"
             ],
             [
              0.2222222222222222,
              "#7201a8"
             ],
             [
              0.3333333333333333,
              "#9c179e"
             ],
             [
              0.4444444444444444,
              "#bd3786"
             ],
             [
              0.5555555555555556,
              "#d8576b"
             ],
             [
              0.6666666666666666,
              "#ed7953"
             ],
             [
              0.7777777777777778,
              "#fb9f3a"
             ],
             [
              0.8888888888888888,
              "#fdca26"
             ],
             [
              1,
              "#f0f921"
             ]
            ],
            "type": "surface"
           }
          ],
          "table": [
           {
            "cells": {
             "fill": {
              "color": "#EBF0F8"
             },
             "line": {
              "color": "white"
             }
            },
            "header": {
             "fill": {
              "color": "#C8D4E3"
             },
             "line": {
              "color": "white"
             }
            },
            "type": "table"
           }
          ]
         },
         "layout": {
          "annotationdefaults": {
           "arrowcolor": "#2a3f5f",
           "arrowhead": 0,
           "arrowwidth": 1
          },
          "autotypenumbers": "strict",
          "coloraxis": {
           "colorbar": {
            "outlinewidth": 0,
            "ticks": ""
           }
          },
          "colorscale": {
           "diverging": [
            [
             0,
             "#8e0152"
            ],
            [
             0.1,
             "#c51b7d"
            ],
            [
             0.2,
             "#de77ae"
            ],
            [
             0.3,
             "#f1b6da"
            ],
            [
             0.4,
             "#fde0ef"
            ],
            [
             0.5,
             "#f7f7f7"
            ],
            [
             0.6,
             "#e6f5d0"
            ],
            [
             0.7,
             "#b8e186"
            ],
            [
             0.8,
             "#7fbc41"
            ],
            [
             0.9,
             "#4d9221"
            ],
            [
             1,
             "#276419"
            ]
           ],
           "sequential": [
            [
             0,
             "#0d0887"
            ],
            [
             0.1111111111111111,
             "#46039f"
            ],
            [
             0.2222222222222222,
             "#7201a8"
            ],
            [
             0.3333333333333333,
             "#9c179e"
            ],
            [
             0.4444444444444444,
             "#bd3786"
            ],
            [
             0.5555555555555556,
             "#d8576b"
            ],
            [
             0.6666666666666666,
             "#ed7953"
            ],
            [
             0.7777777777777778,
             "#fb9f3a"
            ],
            [
             0.8888888888888888,
             "#fdca26"
            ],
            [
             1,
             "#f0f921"
            ]
           ],
           "sequentialminus": [
            [
             0,
             "#0d0887"
            ],
            [
             0.1111111111111111,
             "#46039f"
            ],
            [
             0.2222222222222222,
             "#7201a8"
            ],
            [
             0.3333333333333333,
             "#9c179e"
            ],
            [
             0.4444444444444444,
             "#bd3786"
            ],
            [
             0.5555555555555556,
             "#d8576b"
            ],
            [
             0.6666666666666666,
             "#ed7953"
            ],
            [
             0.7777777777777778,
             "#fb9f3a"
            ],
            [
             0.8888888888888888,
             "#fdca26"
            ],
            [
             1,
             "#f0f921"
            ]
           ]
          },
          "colorway": [
           "#636efa",
           "#EF553B",
           "#00cc96",
           "#ab63fa",
           "#FFA15A",
           "#19d3f3",
           "#FF6692",
           "#B6E880",
           "#FF97FF",
           "#FECB52"
          ],
          "font": {
           "color": "#2a3f5f"
          },
          "geo": {
           "bgcolor": "white",
           "lakecolor": "white",
           "landcolor": "#E5ECF6",
           "showlakes": true,
           "showland": true,
           "subunitcolor": "white"
          },
          "hoverlabel": {
           "align": "left"
          },
          "hovermode": "closest",
          "mapbox": {
           "style": "light"
          },
          "paper_bgcolor": "white",
          "plot_bgcolor": "#E5ECF6",
          "polar": {
           "angularaxis": {
            "gridcolor": "white",
            "linecolor": "white",
            "ticks": ""
           },
           "bgcolor": "#E5ECF6",
           "radialaxis": {
            "gridcolor": "white",
            "linecolor": "white",
            "ticks": ""
           }
          },
          "scene": {
           "xaxis": {
            "backgroundcolor": "#E5ECF6",
            "gridcolor": "white",
            "gridwidth": 2,
            "linecolor": "white",
            "showbackground": true,
            "ticks": "",
            "zerolinecolor": "white"
           },
           "yaxis": {
            "backgroundcolor": "#E5ECF6",
            "gridcolor": "white",
            "gridwidth": 2,
            "linecolor": "white",
            "showbackground": true,
            "ticks": "",
            "zerolinecolor": "white"
           },
           "zaxis": {
            "backgroundcolor": "#E5ECF6",
            "gridcolor": "white",
            "gridwidth": 2,
            "linecolor": "white",
            "showbackground": true,
            "ticks": "",
            "zerolinecolor": "white"
           }
          },
          "shapedefaults": {
           "line": {
            "color": "#2a3f5f"
           }
          },
          "ternary": {
           "aaxis": {
            "gridcolor": "white",
            "linecolor": "white",
            "ticks": ""
           },
           "baxis": {
            "gridcolor": "white",
            "linecolor": "white",
            "ticks": ""
           },
           "bgcolor": "#E5ECF6",
           "caxis": {
            "gridcolor": "white",
            "linecolor": "white",
            "ticks": ""
           }
          },
          "title": {
           "x": 0.05
          },
          "xaxis": {
           "automargin": true,
           "gridcolor": "white",
           "linecolor": "white",
           "ticks": "",
           "title": {
            "standoff": 15
           },
           "zerolinecolor": "white",
           "zerolinewidth": 2
          },
          "yaxis": {
           "automargin": true,
           "gridcolor": "white",
           "linecolor": "white",
           "ticks": "",
           "title": {
            "standoff": 15
           },
           "zerolinecolor": "white",
           "zerolinewidth": 2
          }
         }
        },
        "title": {
         "text": "by-Event evaluation summary<br><sup>F1(@IoU>0.3)=0.5354 | minimum TP IoU: 0.3885</sup>"
        },
        "xaxis": {
         "anchor": "y",
         "domain": [
          0,
          1
         ],
         "range": [
          -20,
          318
         ],
         "title": {
          "text": "308 ANNOTATIONS | recall(@IoU>0.3)= 0.9935"
         }
        },
        "yaxis": {
         "anchor": "x",
         "domain": [
          0,
          1
         ],
         "range": [
          -20,
          845
         ],
         "title": {
          "text": "835 DETECTIONS | precision(@IoU>0.3)= 0.3665"
         }
        }
       }
      }
     },
     "metadata": {},
     "output_type": "display_data"
    }
   ],
   "source": [
    "annotationPairToGraph(gtAnnotations,processedAnnotations)"
   ]
  }
 ],
 "metadata": {
  "kernelspec": {
   "display_name": "Python 3.10.6 ('venv': venv)",
   "language": "python",
   "name": "python3"
  },
  "language_info": {
   "codemirror_mode": {
    "name": "ipython",
    "version": 3
   },
   "file_extension": ".py",
   "mimetype": "text/x-python",
   "name": "python",
   "nbconvert_exporter": "python",
   "pygments_lexer": "ipython3",
   "version": "3.10.6"
  },
  "orig_nbformat": 4,
  "vscode": {
   "interpreter": {
    "hash": "69eb08d3e713eff25484e90b18c01e15df779e80a0db295f9ddc53faed0455be"
   }
  }
 },
 "nbformat": 4,
 "nbformat_minor": 2
}
