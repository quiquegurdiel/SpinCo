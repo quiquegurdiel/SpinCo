{
 "cells": [
  {
   "attachments": {},
   "cell_type": "markdown",
   "metadata": {},
   "source": [
    "# Testing for E1 - COGNITION 7Subjects\n",
    "fistly define the UUID of the experiment to use"
   ]
  },
  {
   "cell_type": "code",
   "execution_count": 1,
   "metadata": {},
   "outputs": [],
   "source": [
    "experimentId=\"f7a9e88f-5e0f-4465-a5ff-1af9e2f93866\""
   ]
  },
  {
   "cell_type": "markdown",
   "metadata": {},
   "source": [
    "-------------------------------------------------------"
   ]
  },
  {
   "cell_type": "code",
   "execution_count": 2,
   "metadata": {},
   "outputs": [],
   "source": [
    "#external libraries\n",
    "import numpy as np\n",
    "import os\n",
    "import matplotlib.pyplot as plt\n",
    "import matplotlib.colors as clt\n",
    "import plotly\n",
    "import plotly.subplots as sb\n",
    "import plotly.express as px\n",
    "import plotly.graph_objects as go\n",
    "import dotenv\n",
    "import pandas as pd\n",
    "import scipy.fft as fft\n",
    "import scipy.signal as sg\n",
    "import scipy.io as sio\n",
    "import pickle as pkl\n",
    "import xgboost as xgb\n",
    "import time\n",
    "import sklearn.metrics as skm\n",
    "\n",
    "#project library\n",
    "from spinco import *\n",
    "\n",
    "#environment variables\n",
    "dotenv.load_dotenv('lab.env')\n",
    "\n",
    "#project variables\n",
    "datapath=os.environ['DATAPATH']\n",
    "cognipath=datapath+\"\\\\COGNITION\"\n",
    "dreamspath=datapath+\"\\\\DREAMS\"\n",
    "masspath=datapath+\"\\\\MASS\"\n"
   ]
  },
  {
   "attachments": {},
   "cell_type": "markdown",
   "metadata": {},
   "source": [
    "## load cognition"
   ]
  },
  {
   "cell_type": "code",
   "execution_count": 3,
   "metadata": {},
   "outputs": [],
   "source": [
    "samplerate=200  #Should rethink this\n",
    "inputDimension=601"
   ]
  },
  {
   "cell_type": "code",
   "execution_count": 4,
   "metadata": {},
   "outputs": [],
   "source": [
    "signals, annotations, signalsMetadata = loadCOGNITIONSpindles(cognipath, returnSignals=True)"
   ]
  },
  {
   "cell_type": "code",
   "execution_count": 5,
   "metadata": {},
   "outputs": [
    {
     "data": {
      "text/html": [
       "<div>\n",
       "<style scoped>\n",
       "    .dataframe tbody tr th:only-of-type {\n",
       "        vertical-align: middle;\n",
       "    }\n",
       "\n",
       "    .dataframe tbody tr th {\n",
       "        vertical-align: top;\n",
       "    }\n",
       "\n",
       "    .dataframe thead th {\n",
       "        text-align: right;\n",
       "    }\n",
       "</style>\n",
       "<table border=\"1\" class=\"dataframe\">\n",
       "  <thead>\n",
       "    <tr style=\"text-align: right;\">\n",
       "      <th></th>\n",
       "      <th>subjectId</th>\n",
       "      <th>channel</th>\n",
       "      <th>startTime</th>\n",
       "      <th>stopTime</th>\n",
       "      <th>duration</th>\n",
       "      <th>phase</th>\n",
       "      <th>labelerId</th>\n",
       "      <th>type</th>\n",
       "      <th>samplerate</th>\n",
       "      <th>startInd</th>\n",
       "      <th>stopInd</th>\n",
       "    </tr>\n",
       "  </thead>\n",
       "  <tbody>\n",
       "    <tr>\n",
       "      <th>0</th>\n",
       "      <td>0001</td>\n",
       "      <td>C3</td>\n",
       "      <td>1938.132297</td>\n",
       "      <td>1939.202326</td>\n",
       "      <td>1.070029</td>\n",
       "      <td>2</td>\n",
       "      <td>0001</td>\n",
       "      <td>spindle</td>\n",
       "      <td>200</td>\n",
       "      <td>387626</td>\n",
       "      <td>387840</td>\n",
       "    </tr>\n",
       "    <tr>\n",
       "      <th>1</th>\n",
       "      <td>0001</td>\n",
       "      <td>C3</td>\n",
       "      <td>2047.217898</td>\n",
       "      <td>2048.112834</td>\n",
       "      <td>0.894936</td>\n",
       "      <td>2</td>\n",
       "      <td>0001</td>\n",
       "      <td>spindle</td>\n",
       "      <td>200</td>\n",
       "      <td>409444</td>\n",
       "      <td>409623</td>\n",
       "    </tr>\n",
       "    <tr>\n",
       "      <th>2</th>\n",
       "      <td>0001</td>\n",
       "      <td>C3</td>\n",
       "      <td>2170.856032</td>\n",
       "      <td>2171.634237</td>\n",
       "      <td>0.778205</td>\n",
       "      <td>3</td>\n",
       "      <td>0001</td>\n",
       "      <td>spindle</td>\n",
       "      <td>200</td>\n",
       "      <td>434171</td>\n",
       "      <td>434327</td>\n",
       "    </tr>\n",
       "    <tr>\n",
       "      <th>3</th>\n",
       "      <td>0001</td>\n",
       "      <td>C3</td>\n",
       "      <td>2219.766538</td>\n",
       "      <td>2220.894943</td>\n",
       "      <td>1.128405</td>\n",
       "      <td>3</td>\n",
       "      <td>0001</td>\n",
       "      <td>spindle</td>\n",
       "      <td>200</td>\n",
       "      <td>443953</td>\n",
       "      <td>444179</td>\n",
       "    </tr>\n",
       "    <tr>\n",
       "      <th>4</th>\n",
       "      <td>0001</td>\n",
       "      <td>C3</td>\n",
       "      <td>2263.482492</td>\n",
       "      <td>2264.357974</td>\n",
       "      <td>0.875482</td>\n",
       "      <td>3</td>\n",
       "      <td>0001</td>\n",
       "      <td>spindle</td>\n",
       "      <td>200</td>\n",
       "      <td>452696</td>\n",
       "      <td>452872</td>\n",
       "    </tr>\n",
       "  </tbody>\n",
       "</table>\n",
       "</div>"
      ],
      "text/plain": [
       "  subjectId channel    startTime     stopTime  duration  phase labelerId  \\\n",
       "0      0001      C3  1938.132297  1939.202326  1.070029      2      0001   \n",
       "1      0001      C3  2047.217898  2048.112834  0.894936      2      0001   \n",
       "2      0001      C3  2170.856032  2171.634237  0.778205      3      0001   \n",
       "3      0001      C3  2219.766538  2220.894943  1.128405      3      0001   \n",
       "4      0001      C3  2263.482492  2264.357974  0.875482      3      0001   \n",
       "\n",
       "      type  samplerate  startInd  stopInd  \n",
       "0  spindle         200    387626   387840  \n",
       "1  spindle         200    409444   409623  \n",
       "2  spindle         200    434171   434327  \n",
       "3  spindle         200    443953   444179  \n",
       "4  spindle         200    452696   452872  "
      ]
     },
     "execution_count": 5,
     "metadata": {},
     "output_type": "execute_result"
    }
   ],
   "source": [
    "annotations.head()"
   ]
  },
  {
   "cell_type": "code",
   "execution_count": 6,
   "metadata": {},
   "outputs": [
    {
     "data": {
      "text/html": [
       "<div>\n",
       "<style scoped>\n",
       "    .dataframe tbody tr th:only-of-type {\n",
       "        vertical-align: middle;\n",
       "    }\n",
       "\n",
       "    .dataframe tbody tr th {\n",
       "        vertical-align: top;\n",
       "    }\n",
       "\n",
       "    .dataframe thead th {\n",
       "        text-align: right;\n",
       "    }\n",
       "</style>\n",
       "<table border=\"1\" class=\"dataframe\">\n",
       "  <thead>\n",
       "    <tr style=\"text-align: right;\">\n",
       "      <th></th>\n",
       "      <th>filename</th>\n",
       "      <th>channel</th>\n",
       "      <th>subjectId</th>\n",
       "      <th>duration</th>\n",
       "      <th>samplerate</th>\n",
       "      <th>isOriginalSamplerate</th>\n",
       "      <th>database</th>\n",
       "    </tr>\n",
       "  </thead>\n",
       "  <tbody>\n",
       "    <tr>\n",
       "      <th>0</th>\n",
       "      <td>COG001_canal_C3.txt</td>\n",
       "      <td>C3-M2</td>\n",
       "      <td>0001</td>\n",
       "      <td>39600</td>\n",
       "      <td>200</td>\n",
       "      <td>False</td>\n",
       "      <td>COGNITION</td>\n",
       "    </tr>\n",
       "    <tr>\n",
       "      <th>1</th>\n",
       "      <td>COG002_canal_C3.txt</td>\n",
       "      <td>C3-M2</td>\n",
       "      <td>0002</td>\n",
       "      <td>39600</td>\n",
       "      <td>200</td>\n",
       "      <td>False</td>\n",
       "      <td>COGNITION</td>\n",
       "    </tr>\n",
       "    <tr>\n",
       "      <th>2</th>\n",
       "      <td>COG003_canal_C3.txt</td>\n",
       "      <td>C3-M2</td>\n",
       "      <td>0003</td>\n",
       "      <td>39600</td>\n",
       "      <td>200</td>\n",
       "      <td>False</td>\n",
       "      <td>COGNITION</td>\n",
       "    </tr>\n",
       "    <tr>\n",
       "      <th>3</th>\n",
       "      <td>COG004_canal_C3.txt</td>\n",
       "      <td>C3-M2</td>\n",
       "      <td>0004</td>\n",
       "      <td>39600</td>\n",
       "      <td>200</td>\n",
       "      <td>False</td>\n",
       "      <td>COGNITION</td>\n",
       "    </tr>\n",
       "    <tr>\n",
       "      <th>4</th>\n",
       "      <td>COG005_canal_C3.txt</td>\n",
       "      <td>C3-M2</td>\n",
       "      <td>0005</td>\n",
       "      <td>39600</td>\n",
       "      <td>200</td>\n",
       "      <td>False</td>\n",
       "      <td>COGNITION</td>\n",
       "    </tr>\n",
       "  </tbody>\n",
       "</table>\n",
       "</div>"
      ],
      "text/plain": [
       "              filename channel subjectId  duration  samplerate  \\\n",
       "0  COG001_canal_C3.txt   C3-M2      0001     39600         200   \n",
       "1  COG002_canal_C3.txt   C3-M2      0002     39600         200   \n",
       "2  COG003_canal_C3.txt   C3-M2      0003     39600         200   \n",
       "3  COG004_canal_C3.txt   C3-M2      0004     39600         200   \n",
       "4  COG005_canal_C3.txt   C3-M2      0005     39600         200   \n",
       "\n",
       "   isOriginalSamplerate   database  \n",
       "0                 False  COGNITION  \n",
       "1                 False  COGNITION  \n",
       "2                 False  COGNITION  \n",
       "3                 False  COGNITION  \n",
       "4                 False  COGNITION  "
      ]
     },
     "execution_count": 6,
     "metadata": {},
     "output_type": "execute_result"
    }
   ],
   "source": [
    "signalsMetadata.head()"
   ]
  },
  {
   "cell_type": "markdown",
   "metadata": {},
   "source": [
    "## Preprocess"
   ]
  },
  {
   "cell_type": "markdown",
   "metadata": {},
   "source": [
    "broadband in 0-40Hz, previous experiments (up tp 50Hz, are now in folders as .../features_old/...)"
   ]
  },
  {
   "cell_type": "code",
   "execution_count": 7,
   "metadata": {},
   "outputs": [],
   "source": [
    "def preprocessVector(vector,samplerate):\n",
    "    #1. Lowpass 40Hz\n",
    "    vector=filterBand(vector,[0,40],samplerate,filterOrder=4)\n",
    "    #2. Z-score\n",
    "    m=np.mean(vector)\n",
    "    s=np.std(vector)\n",
    "    vector=(vector-m)/s\n",
    "    return vector"
   ]
  },
  {
   "cell_type": "code",
   "execution_count": 8,
   "metadata": {},
   "outputs": [],
   "source": [
    "for subject,signal in signals.items():\n",
    "    signals[subject]=preprocessVector(signal,samplerate)"
   ]
  },
  {
   "cell_type": "code",
   "execution_count": 9,
   "metadata": {},
   "outputs": [],
   "source": [
    "paddedSignals={}\n",
    "for index, row in signalsMetadata.iterrows():\n",
    "    paddedSignals[row.subjectId]=padVectorBothSides(signals[row.subjectId],window2half(inputDimension),method='closest')"
   ]
  },
  {
   "cell_type": "markdown",
   "metadata": {},
   "source": [
    "## Load experiment results"
   ]
  },
  {
   "cell_type": "code",
   "execution_count": 10,
   "metadata": {},
   "outputs": [],
   "source": [
    "experimentModels = loadExperiment(experimentId,datapath)"
   ]
  },
  {
   "cell_type": "code",
   "execution_count": 11,
   "metadata": {},
   "outputs": [
    {
     "data": {
      "text/html": [
       "<div>\n",
       "<style scoped>\n",
       "    .dataframe tbody tr th:only-of-type {\n",
       "        vertical-align: middle;\n",
       "    }\n",
       "\n",
       "    .dataframe tbody tr th {\n",
       "        vertical-align: top;\n",
       "    }\n",
       "\n",
       "    .dataframe thead th {\n",
       "        text-align: right;\n",
       "    }\n",
       "</style>\n",
       "<table border=\"1\" class=\"dataframe\">\n",
       "  <thead>\n",
       "    <tr style=\"text-align: right;\">\n",
       "      <th></th>\n",
       "      <th>criteriumId</th>\n",
       "      <th>criteriumName</th>\n",
       "      <th>labelerIdList</th>\n",
       "      <th>train</th>\n",
       "      <th>val</th>\n",
       "      <th>test</th>\n",
       "      <th>modelId</th>\n",
       "    </tr>\n",
       "  </thead>\n",
       "  <tbody>\n",
       "    <tr>\n",
       "      <th>0</th>\n",
       "      <td>0001</td>\n",
       "      <td>E1</td>\n",
       "      <td>[0001]</td>\n",
       "      <td>[0004, 0005, 0006, 0007]</td>\n",
       "      <td>[0003, 0008]</td>\n",
       "      <td>0002</td>\n",
       "      <td>ca4abebe-7534-4387-9f7e-7e56aeb102df</td>\n",
       "    </tr>\n",
       "    <tr>\n",
       "      <th>1</th>\n",
       "      <td>0001</td>\n",
       "      <td>E1</td>\n",
       "      <td>[0001]</td>\n",
       "      <td>[0002, 0005, 0006, 0008]</td>\n",
       "      <td>[0007, 0004]</td>\n",
       "      <td>0003</td>\n",
       "      <td>ec345db7-d0e7-447a-a219-52693d52bf41</td>\n",
       "    </tr>\n",
       "    <tr>\n",
       "      <th>2</th>\n",
       "      <td>0001</td>\n",
       "      <td>E1</td>\n",
       "      <td>[0001]</td>\n",
       "      <td>[0002, 0003, 0005, 0007]</td>\n",
       "      <td>[0006, 0008]</td>\n",
       "      <td>0004</td>\n",
       "      <td>5efd55af-ba1f-4dd8-905e-9279a3c25d07</td>\n",
       "    </tr>\n",
       "    <tr>\n",
       "      <th>3</th>\n",
       "      <td>0001</td>\n",
       "      <td>E1</td>\n",
       "      <td>[0001]</td>\n",
       "      <td>[0002, 0003, 0007, 0008]</td>\n",
       "      <td>[0006, 0004]</td>\n",
       "      <td>0005</td>\n",
       "      <td>79b2270a-cfb8-4f96-987a-040fa3dc0386</td>\n",
       "    </tr>\n",
       "    <tr>\n",
       "      <th>4</th>\n",
       "      <td>0001</td>\n",
       "      <td>E1</td>\n",
       "      <td>[0001]</td>\n",
       "      <td>[0002, 0003, 0007, 0008]</td>\n",
       "      <td>[0004, 0005]</td>\n",
       "      <td>0006</td>\n",
       "      <td>b1cb5f16-0c62-4dd7-b5d9-16fae63b28c5</td>\n",
       "    </tr>\n",
       "    <tr>\n",
       "      <th>5</th>\n",
       "      <td>0001</td>\n",
       "      <td>E1</td>\n",
       "      <td>[0001]</td>\n",
       "      <td>[0002, 0004, 0005, 0008]</td>\n",
       "      <td>[0003, 0006]</td>\n",
       "      <td>0007</td>\n",
       "      <td>28b0a080-fdd1-4b49-97d4-f98a8671c508</td>\n",
       "    </tr>\n",
       "    <tr>\n",
       "      <th>6</th>\n",
       "      <td>0001</td>\n",
       "      <td>E1</td>\n",
       "      <td>[0001]</td>\n",
       "      <td>[0002, 0005, 0006, 0007]</td>\n",
       "      <td>[0003, 0004]</td>\n",
       "      <td>0008</td>\n",
       "      <td>acc1aab9-4594-40ce-8d0c-f2111f7a6c69</td>\n",
       "    </tr>\n",
       "  </tbody>\n",
       "</table>\n",
       "</div>"
      ],
      "text/plain": [
       "  criteriumId criteriumName labelerIdList                     train  \\\n",
       "0        0001            E1        [0001]  [0004, 0005, 0006, 0007]   \n",
       "1        0001            E1        [0001]  [0002, 0005, 0006, 0008]   \n",
       "2        0001            E1        [0001]  [0002, 0003, 0005, 0007]   \n",
       "3        0001            E1        [0001]  [0002, 0003, 0007, 0008]   \n",
       "4        0001            E1        [0001]  [0002, 0003, 0007, 0008]   \n",
       "5        0001            E1        [0001]  [0002, 0004, 0005, 0008]   \n",
       "6        0001            E1        [0001]  [0002, 0005, 0006, 0007]   \n",
       "\n",
       "            val  test                               modelId  \n",
       "0  [0003, 0008]  0002  ca4abebe-7534-4387-9f7e-7e56aeb102df  \n",
       "1  [0007, 0004]  0003  ec345db7-d0e7-447a-a219-52693d52bf41  \n",
       "2  [0006, 0008]  0004  5efd55af-ba1f-4dd8-905e-9279a3c25d07  \n",
       "3  [0006, 0004]  0005  79b2270a-cfb8-4f96-987a-040fa3dc0386  \n",
       "4  [0004, 0005]  0006  b1cb5f16-0c62-4dd7-b5d9-16fae63b28c5  \n",
       "5  [0003, 0006]  0007  28b0a080-fdd1-4b49-97d4-f98a8671c508  \n",
       "6  [0003, 0004]  0008  acc1aab9-4594-40ce-8d0c-f2111f7a6c69  "
      ]
     },
     "execution_count": 11,
     "metadata": {},
     "output_type": "execute_result"
    }
   ],
   "source": [
    "experimentModels"
   ]
  },
  {
   "attachments": {},
   "cell_type": "markdown",
   "metadata": {},
   "source": [
    "## Hyperparameter definition\n",
    "this should come from a previous evaluation notebook"
   ]
  },
  {
   "cell_type": "code",
   "execution_count": 16,
   "metadata": {},
   "outputs": [],
   "source": [
    "hyperThres=0.4\n",
    "hyperClose=0.1\n",
    "hyperDuration=0.3"
   ]
  },
  {
   "attachments": {},
   "cell_type": "markdown",
   "metadata": {},
   "source": [
    "## Testing with E1 criterium\n",
    "we test the optimal points for the prediction threshold and number of boost iterations in the different validation groups"
   ]
  },
  {
   "cell_type": "code",
   "execution_count": 13,
   "metadata": {},
   "outputs": [
    {
     "data": {
      "text/html": [
       "<div>\n",
       "<style scoped>\n",
       "    .dataframe tbody tr th:only-of-type {\n",
       "        vertical-align: middle;\n",
       "    }\n",
       "\n",
       "    .dataframe tbody tr th {\n",
       "        vertical-align: top;\n",
       "    }\n",
       "\n",
       "    .dataframe thead th {\n",
       "        text-align: right;\n",
       "    }\n",
       "</style>\n",
       "<table border=\"1\" class=\"dataframe\">\n",
       "  <thead>\n",
       "    <tr style=\"text-align: right;\">\n",
       "      <th></th>\n",
       "      <th>criteriumId</th>\n",
       "      <th>criteriumName</th>\n",
       "      <th>labelerIdList</th>\n",
       "      <th>train</th>\n",
       "      <th>val</th>\n",
       "      <th>test</th>\n",
       "      <th>modelId</th>\n",
       "    </tr>\n",
       "  </thead>\n",
       "  <tbody>\n",
       "    <tr>\n",
       "      <th>0</th>\n",
       "      <td>0001</td>\n",
       "      <td>E1</td>\n",
       "      <td>[0001]</td>\n",
       "      <td>[0004, 0005, 0006, 0007]</td>\n",
       "      <td>[0003, 0008]</td>\n",
       "      <td>0002</td>\n",
       "      <td>ca4abebe-7534-4387-9f7e-7e56aeb102df</td>\n",
       "    </tr>\n",
       "    <tr>\n",
       "      <th>1</th>\n",
       "      <td>0001</td>\n",
       "      <td>E1</td>\n",
       "      <td>[0001]</td>\n",
       "      <td>[0002, 0005, 0006, 0008]</td>\n",
       "      <td>[0007, 0004]</td>\n",
       "      <td>0003</td>\n",
       "      <td>ec345db7-d0e7-447a-a219-52693d52bf41</td>\n",
       "    </tr>\n",
       "    <tr>\n",
       "      <th>2</th>\n",
       "      <td>0001</td>\n",
       "      <td>E1</td>\n",
       "      <td>[0001]</td>\n",
       "      <td>[0002, 0003, 0005, 0007]</td>\n",
       "      <td>[0006, 0008]</td>\n",
       "      <td>0004</td>\n",
       "      <td>5efd55af-ba1f-4dd8-905e-9279a3c25d07</td>\n",
       "    </tr>\n",
       "    <tr>\n",
       "      <th>3</th>\n",
       "      <td>0001</td>\n",
       "      <td>E1</td>\n",
       "      <td>[0001]</td>\n",
       "      <td>[0002, 0003, 0007, 0008]</td>\n",
       "      <td>[0006, 0004]</td>\n",
       "      <td>0005</td>\n",
       "      <td>79b2270a-cfb8-4f96-987a-040fa3dc0386</td>\n",
       "    </tr>\n",
       "    <tr>\n",
       "      <th>4</th>\n",
       "      <td>0001</td>\n",
       "      <td>E1</td>\n",
       "      <td>[0001]</td>\n",
       "      <td>[0002, 0003, 0007, 0008]</td>\n",
       "      <td>[0004, 0005]</td>\n",
       "      <td>0006</td>\n",
       "      <td>b1cb5f16-0c62-4dd7-b5d9-16fae63b28c5</td>\n",
       "    </tr>\n",
       "    <tr>\n",
       "      <th>5</th>\n",
       "      <td>0001</td>\n",
       "      <td>E1</td>\n",
       "      <td>[0001]</td>\n",
       "      <td>[0002, 0004, 0005, 0008]</td>\n",
       "      <td>[0003, 0006]</td>\n",
       "      <td>0007</td>\n",
       "      <td>28b0a080-fdd1-4b49-97d4-f98a8671c508</td>\n",
       "    </tr>\n",
       "    <tr>\n",
       "      <th>6</th>\n",
       "      <td>0001</td>\n",
       "      <td>E1</td>\n",
       "      <td>[0001]</td>\n",
       "      <td>[0002, 0005, 0006, 0007]</td>\n",
       "      <td>[0003, 0004]</td>\n",
       "      <td>0008</td>\n",
       "      <td>acc1aab9-4594-40ce-8d0c-f2111f7a6c69</td>\n",
       "    </tr>\n",
       "  </tbody>\n",
       "</table>\n",
       "</div>"
      ],
      "text/plain": [
       "  criteriumId criteriumName labelerIdList                     train  \\\n",
       "0        0001            E1        [0001]  [0004, 0005, 0006, 0007]   \n",
       "1        0001            E1        [0001]  [0002, 0005, 0006, 0008]   \n",
       "2        0001            E1        [0001]  [0002, 0003, 0005, 0007]   \n",
       "3        0001            E1        [0001]  [0002, 0003, 0007, 0008]   \n",
       "4        0001            E1        [0001]  [0002, 0003, 0007, 0008]   \n",
       "5        0001            E1        [0001]  [0002, 0004, 0005, 0008]   \n",
       "6        0001            E1        [0001]  [0002, 0005, 0006, 0007]   \n",
       "\n",
       "            val  test                               modelId  \n",
       "0  [0003, 0008]  0002  ca4abebe-7534-4387-9f7e-7e56aeb102df  \n",
       "1  [0007, 0004]  0003  ec345db7-d0e7-447a-a219-52693d52bf41  \n",
       "2  [0006, 0008]  0004  5efd55af-ba1f-4dd8-905e-9279a3c25d07  \n",
       "3  [0006, 0004]  0005  79b2270a-cfb8-4f96-987a-040fa3dc0386  \n",
       "4  [0004, 0005]  0006  b1cb5f16-0c62-4dd7-b5d9-16fae63b28c5  \n",
       "5  [0003, 0006]  0007  28b0a080-fdd1-4b49-97d4-f98a8671c508  \n",
       "6  [0003, 0004]  0008  acc1aab9-4594-40ce-8d0c-f2111f7a6c69  "
      ]
     },
     "execution_count": 13,
     "metadata": {},
     "output_type": "execute_result"
    }
   ],
   "source": [
    "experimentModels=experimentModels[experimentModels.criteriumName=='E1'].reset_index(drop=True)\n",
    "experimentModels"
   ]
  },
  {
   "cell_type": "code",
   "execution_count": 18,
   "metadata": {},
   "outputs": [
    {
     "name": "stdout",
     "output_type": "stream",
     "text": [
      "*************************\n",
      "1 of 7\n",
      "Keras model archive loading:\n",
      "File Name                                             Modified             Size\n",
      "config.json                                    2023-09-01 14:27:40         5064\n",
      "metadata.json                                  2023-09-01 14:27:40           64\n",
      "variables.h5                                   2023-09-01 14:27:40      1800912\n"
     ]
    },
    {
     "name": "stdout",
     "output_type": "stream",
     "text": [
      "Keras weights file (<HDF5 file \"variables.h5\" (mode r)>) loading:\n",
      "...layers\\conv1d\n",
      "......vars\n",
      ".........0\n",
      ".........1\n",
      "...layers\\conv1d_1\n",
      "......vars\n",
      ".........0\n",
      ".........1\n",
      "...layers\\conv1d_2\n",
      "......vars\n",
      ".........0\n",
      ".........1\n",
      "...layers\\conv1d_3\n",
      "......vars\n",
      ".........0\n",
      ".........1\n",
      "...layers\\conv1d_4\n",
      "......vars\n",
      ".........0\n",
      ".........1\n",
      "...layers\\conv1d_5\n",
      "......vars\n",
      ".........0\n",
      ".........1\n",
      "...layers\\flatten\n",
      "......vars\n",
      "...layers\\input_layer\n",
      "......vars\n",
      "...metrics\\mean\n",
      "......vars\n",
      ".........0\n",
      ".........1\n",
      "...optimizer\n",
      "......vars\n",
      ".........0\n",
      ".........1\n",
      ".........10\n",
      ".........11\n",
      ".........12\n",
      ".........13\n",
      ".........14\n",
      ".........15\n",
      ".........16\n",
      ".........17\n",
      ".........18\n",
      ".........19\n",
      ".........2\n",
      ".........20\n",
      ".........21\n",
      ".........22\n",
      ".........23\n",
      ".........24\n",
      ".........3\n",
      ".........4\n",
      ".........5\n",
      ".........6\n",
      ".........7\n",
      ".........8\n",
      ".........9\n",
      "...vars\n",
      "*************************\n",
      "2 of 7\n",
      "Keras model archive loading:\n",
      "File Name                                             Modified             Size\n",
      "config.json                                    2023-09-01 14:27:40         5082\n",
      "metadata.json                                  2023-09-01 14:27:40           64\n",
      "variables.h5                                   2023-09-01 14:27:40      1800912\n",
      "Keras weights file (<HDF5 file \"variables.h5\" (mode r)>) loading:\n",
      "...layers\\conv1d\n",
      "......vars\n",
      ".........0\n",
      ".........1\n",
      "...layers\\conv1d_1\n",
      "......vars\n",
      ".........0\n",
      ".........1\n",
      "...layers\\conv1d_2\n",
      "......vars\n",
      ".........0\n",
      ".........1\n",
      "...layers\\conv1d_3\n",
      "......vars\n",
      ".........0\n",
      ".........1\n",
      "...layers\\conv1d_4\n",
      "......vars\n",
      ".........0\n",
      ".........1\n",
      "...layers\\conv1d_5\n",
      "......vars\n",
      ".........0\n",
      ".........1\n",
      "...layers\\flatten\n",
      "......vars\n",
      "...layers\\input_layer\n",
      "......vars\n",
      "...metrics\\mean\n",
      "......vars\n",
      ".........0\n",
      ".........1\n",
      "...optimizer\n",
      "......vars\n",
      ".........0\n",
      ".........1\n",
      ".........10\n",
      ".........11\n",
      ".........12\n",
      ".........13\n",
      ".........14\n",
      ".........15\n",
      ".........16\n",
      ".........17\n",
      ".........18\n",
      ".........19\n",
      ".........2\n",
      ".........20\n",
      ".........21\n",
      ".........22\n",
      ".........23\n",
      ".........24\n",
      ".........3\n",
      ".........4\n",
      ".........5\n",
      ".........6\n",
      ".........7\n",
      ".........8\n",
      ".........9\n",
      "...vars\n",
      "*************************\n",
      "3 of 7\n",
      "Keras model archive loading:\n",
      "File Name                                             Modified             Size\n",
      "config.json                                    2023-09-01 14:27:40         5094\n",
      "metadata.json                                  2023-09-01 14:27:40           64\n",
      "variables.h5                                   2023-09-01 14:27:40      1800912\n",
      "Keras weights file (<HDF5 file \"variables.h5\" (mode r)>) loading:\n",
      "...layers\\conv1d\n",
      "......vars\n",
      ".........0\n",
      ".........1\n",
      "...layers\\conv1d_1\n",
      "......vars\n",
      ".........0\n",
      ".........1\n",
      "...layers\\conv1d_2\n",
      "......vars\n",
      ".........0\n",
      ".........1\n",
      "...layers\\conv1d_3\n",
      "......vars\n",
      ".........0\n",
      ".........1\n",
      "...layers\\conv1d_4\n",
      "......vars\n",
      ".........0\n",
      ".........1\n",
      "...layers\\conv1d_5\n",
      "......vars\n",
      ".........0\n",
      ".........1\n",
      "...layers\\flatten\n",
      "......vars\n",
      "...layers\\input_layer\n",
      "......vars\n",
      "...metrics\\mean\n",
      "......vars\n",
      ".........0\n",
      ".........1\n",
      "...optimizer\n",
      "......vars\n",
      ".........0\n",
      ".........1\n",
      ".........10\n",
      ".........11\n",
      ".........12\n",
      ".........13\n",
      ".........14\n",
      ".........15\n",
      ".........16\n",
      ".........17\n",
      ".........18\n",
      ".........19\n",
      ".........2\n",
      ".........20\n",
      ".........21\n",
      ".........22\n",
      ".........23\n",
      ".........24\n",
      ".........3\n",
      ".........4\n",
      ".........5\n",
      ".........6\n",
      ".........7\n",
      ".........8\n",
      ".........9\n",
      "...vars\n",
      "WARNING:tensorflow:5 out of the last 5 calls to <function Model.make_predict_function.<locals>.predict_function at 0x000001C93A4BCE50> triggered tf.function retracing. Tracing is expensive and the excessive number of tracings could be due to (1) creating @tf.function repeatedly in a loop, (2) passing tensors with different shapes, (3) passing Python objects instead of tensors. For (1), please define your @tf.function outside of the loop. For (2), @tf.function has reduce_retracing=True option that can avoid unnecessary retracing. For (3), please refer to https://www.tensorflow.org/guide/function#controlling_retracing and https://www.tensorflow.org/api_docs/python/tf/function for  more details.\n",
      "*************************\n",
      "4 of 7\n",
      "Keras model archive loading:\n",
      "File Name                                             Modified             Size\n",
      "config.json                                    2023-09-01 14:27:40         5094\n",
      "metadata.json                                  2023-09-01 14:27:40           64\n",
      "variables.h5                                   2023-09-01 14:27:40      1800912\n",
      "Keras weights file (<HDF5 file \"variables.h5\" (mode r)>) loading:\n",
      "...layers\\conv1d\n",
      "......vars\n",
      ".........0\n",
      ".........1\n",
      "...layers\\conv1d_1\n",
      "......vars\n",
      ".........0\n",
      ".........1\n",
      "...layers\\conv1d_2\n",
      "......vars\n",
      ".........0\n",
      ".........1\n",
      "...layers\\conv1d_3\n",
      "......vars\n",
      ".........0\n",
      ".........1\n",
      "...layers\\conv1d_4\n",
      "......vars\n",
      ".........0\n",
      ".........1\n",
      "...layers\\conv1d_5\n",
      "......vars\n",
      ".........0\n",
      ".........1\n",
      "...layers\\flatten\n",
      "......vars\n",
      "...layers\\input_layer\n",
      "......vars\n",
      "...metrics\\mean\n",
      "......vars\n",
      ".........0\n",
      ".........1\n",
      "...optimizer\n",
      "......vars\n",
      ".........0\n",
      ".........1\n",
      ".........10\n",
      ".........11\n",
      ".........12\n",
      ".........13\n",
      ".........14\n",
      ".........15\n",
      ".........16\n",
      ".........17\n",
      ".........18\n",
      ".........19\n",
      ".........2\n",
      ".........20\n",
      ".........21\n",
      ".........22\n",
      ".........23\n",
      ".........24\n",
      ".........3\n",
      ".........4\n",
      ".........5\n",
      ".........6\n",
      ".........7\n",
      ".........8\n",
      ".........9\n",
      "...vars\n",
      "WARNING:tensorflow:6 out of the last 6 calls to <function Model.make_predict_function.<locals>.predict_function at 0x000001C93A4BF2E0> triggered tf.function retracing. Tracing is expensive and the excessive number of tracings could be due to (1) creating @tf.function repeatedly in a loop, (2) passing tensors with different shapes, (3) passing Python objects instead of tensors. For (1), please define your @tf.function outside of the loop. For (2), @tf.function has reduce_retracing=True option that can avoid unnecessary retracing. For (3), please refer to https://www.tensorflow.org/guide/function#controlling_retracing and https://www.tensorflow.org/api_docs/python/tf/function for  more details.\n",
      "*************************\n",
      "5 of 7\n",
      "Keras model archive loading:\n",
      "File Name                                             Modified             Size\n",
      "config.json                                    2023-09-01 14:27:40         5094\n",
      "metadata.json                                  2023-09-01 14:27:40           64\n",
      "variables.h5                                   2023-09-01 14:27:40      1800912\n",
      "Keras weights file (<HDF5 file \"variables.h5\" (mode r)>) loading:\n",
      "...layers\\conv1d\n",
      "......vars\n",
      ".........0\n",
      ".........1\n",
      "...layers\\conv1d_1\n",
      "......vars\n",
      ".........0\n",
      ".........1\n",
      "...layers\\conv1d_2\n",
      "......vars\n",
      ".........0\n",
      ".........1\n",
      "...layers\\conv1d_3\n",
      "......vars\n",
      ".........0\n",
      ".........1\n",
      "...layers\\conv1d_4\n",
      "......vars\n",
      ".........0\n",
      ".........1\n",
      "...layers\\conv1d_5\n",
      "......vars\n",
      ".........0\n",
      ".........1\n",
      "...layers\\flatten\n",
      "......vars\n",
      "...layers\\input_layer\n",
      "......vars\n",
      "...metrics\\mean\n",
      "......vars\n",
      ".........0\n",
      ".........1\n",
      "...optimizer\n",
      "......vars\n",
      ".........0\n",
      ".........1\n",
      ".........10\n",
      ".........11\n",
      ".........12\n",
      ".........13\n",
      ".........14\n",
      ".........15\n",
      ".........16\n",
      ".........17\n",
      ".........18\n",
      ".........19\n",
      ".........2\n",
      ".........20\n",
      ".........21\n",
      ".........22\n",
      ".........23\n",
      ".........24\n",
      ".........3\n",
      ".........4\n",
      ".........5\n",
      ".........6\n",
      ".........7\n",
      ".........8\n",
      ".........9\n",
      "...vars\n",
      "*************************\n",
      "6 of 7\n",
      "Keras model archive loading:\n",
      "File Name                                             Modified             Size\n",
      "config.json                                    2023-09-01 14:27:40         5094\n",
      "metadata.json                                  2023-09-01 14:27:40           64\n",
      "variables.h5                                   2023-09-01 14:27:40      1800912\n",
      "Keras weights file (<HDF5 file \"variables.h5\" (mode r)>) loading:\n",
      "...layers\\conv1d\n",
      "......vars\n",
      ".........0\n",
      ".........1\n",
      "...layers\\conv1d_1\n",
      "......vars\n",
      ".........0\n",
      ".........1\n",
      "...layers\\conv1d_2\n",
      "......vars\n",
      ".........0\n",
      ".........1\n",
      "...layers\\conv1d_3\n",
      "......vars\n",
      ".........0\n",
      ".........1\n",
      "...layers\\conv1d_4\n",
      "......vars\n",
      ".........0\n",
      ".........1\n",
      "...layers\\conv1d_5\n",
      "......vars\n",
      ".........0\n",
      ".........1\n",
      "...layers\\flatten\n",
      "......vars\n",
      "...layers\\input_layer\n",
      "......vars\n",
      "...metrics\\mean\n",
      "......vars\n",
      ".........0\n",
      ".........1\n",
      "...optimizer\n",
      "......vars\n",
      ".........0\n",
      ".........1\n",
      ".........10\n",
      ".........11\n",
      ".........12\n",
      ".........13\n",
      ".........14\n",
      ".........15\n",
      ".........16\n",
      ".........17\n",
      ".........18\n",
      ".........19\n",
      ".........2\n",
      ".........20\n",
      ".........21\n",
      ".........22\n",
      ".........23\n",
      ".........24\n",
      ".........3\n",
      ".........4\n",
      ".........5\n",
      ".........6\n",
      ".........7\n",
      ".........8\n",
      ".........9\n",
      "...vars\n",
      "*************************\n",
      "7 of 7\n",
      "Keras model archive loading:\n",
      "File Name                                             Modified             Size\n",
      "config.json                                    2023-09-01 14:27:40         5094\n",
      "metadata.json                                  2023-09-01 14:27:40           64\n",
      "variables.h5                                   2023-09-01 14:27:40      1800912\n",
      "Keras weights file (<HDF5 file \"variables.h5\" (mode r)>) loading:\n",
      "...layers\\conv1d\n",
      "......vars\n",
      ".........0\n",
      ".........1\n",
      "...layers\\conv1d_1\n",
      "......vars\n",
      ".........0\n",
      ".........1\n",
      "...layers\\conv1d_2\n",
      "......vars\n",
      ".........0\n",
      ".........1\n",
      "...layers\\conv1d_3\n",
      "......vars\n",
      ".........0\n",
      ".........1\n",
      "...layers\\conv1d_4\n",
      "......vars\n",
      ".........0\n",
      ".........1\n",
      "...layers\\conv1d_5\n",
      "......vars\n",
      ".........0\n",
      ".........1\n",
      "...layers\\flatten\n",
      "......vars\n",
      "...layers\\input_layer\n",
      "......vars\n",
      "...metrics\\mean\n",
      "......vars\n",
      ".........0\n",
      ".........1\n",
      "...optimizer\n",
      "......vars\n",
      ".........0\n",
      ".........1\n",
      ".........10\n",
      ".........11\n",
      ".........12\n",
      ".........13\n",
      ".........14\n",
      ".........15\n",
      ".........16\n",
      ".........17\n",
      ".........18\n",
      ".........19\n",
      ".........2\n",
      ".........20\n",
      ".........21\n",
      ".........22\n",
      ".........23\n",
      ".........24\n",
      ".........3\n",
      ".........4\n",
      ".........5\n",
      ".........6\n",
      ".........7\n",
      ".........8\n",
      ".........9\n",
      "...vars\n"
     ]
    }
   ],
   "source": [
    "rawF1s=[]\n",
    "rawPrecisions=[]\n",
    "rawRecalls=[]\n",
    "\n",
    "f1s=[]\n",
    "precisions=[]\n",
    "recalls=[]\n",
    "\n",
    "eventF1s=[]\n",
    "eventPrecisions=[]\n",
    "eventRecalls=[]\n",
    "\n",
    "checks=[]\n",
    "\n",
    "for ind,row in experimentModels.iterrows():\n",
    "    print('*************************')\n",
    "    print(str(ind+1)+' of '+str(len(experimentModels)) )\n",
    "    #load model\n",
    "    model=loadDL(row.modelId,experimentId,datapath)\n",
    "\n",
    "    testSubjectId=row.test\n",
    "    #Define annotations criterium\n",
    "    usedAnnotations=annotations[annotations.labelerId.isin(row.labelerIdList)].reset_index(drop=True)\n",
    "    #Load labels\n",
    "    testLabels=loadLabelsVector([testSubjectId],usedAnnotations,signalsMetadata,samplerate)\n",
    "\n",
    "    #Predict\n",
    "    inferred=model.predict(paddedSignals[testSubjectId][np.newaxis,...,np.newaxis],verbose=0).flatten()\n",
    "    rawLabels=inferred>=hyperThres\n",
    "    #Raw Metrics\n",
    "    rawTp=np.sum(rawLabels*testLabels)\n",
    "    rawFp=np.sum(rawLabels*(1-testLabels))\n",
    "    rawTn=np.sum((1-rawLabels)*(1-testLabels))\n",
    "    rawFn=np.sum((1-rawLabels)*testLabels)\n",
    "    #Raw appends\n",
    "    rawF1s.append(2*rawTp/(2*rawTp+rawFp+rawFn))\n",
    "    rawPrecisions.append(rawTp/(rawTp+rawFp) )\n",
    "    rawRecalls.append(rawTp/(rawTp+rawFn))\n",
    "    #Process\n",
    "    processedLabels=labelingProcess(rawLabels,hyperClose,hyperDuration,samplerate)\n",
    "    #Processed metrics\n",
    "    tp=np.sum(processedLabels*testLabels)\n",
    "    fp=np.sum(processedLabels*(1-testLabels))\n",
    "    tn=np.sum((1-processedLabels)*(1-testLabels))\n",
    "    fn=np.sum((1-processedLabels)*testLabels)\n",
    "    #Processed appends\n",
    "    f1s.append(2*tp/(2*tp+fp+fn))\n",
    "    precisions.append(tp/(tp+fp))\n",
    "    recalls.append(tp/(tp+fn))\n",
    "\n",
    "    #By-event metrics\n",
    "    processedAnnotations=labelVectorToAnnotations(processedLabels,samplerate)\n",
    "    #processedAnnotations=processedAnnotations[processedAnnotations.duration<5]\n",
    "    gtAnnotations=labelVectorToAnnotations(testLabels,samplerate)   #<- or just filter the annotations\n",
    "    f,r,p=annotationPairToMetrics(gtAnnotations,processedAnnotations)\n",
    "    \n",
    "    #calculate metrics\n",
    "    eventF1s.append(f)\n",
    "    eventPrecisions.append(p)\n",
    "    eventRecalls.append(r)\n",
    "\n",
    "#include metrics in the dataframe\n",
    "experimentModels['rawF1']=rawF1s\n",
    "experimentModels['rawPrecision']=rawPrecisions\n",
    "experimentModels['rawRecall']=rawRecalls\n",
    "\n",
    "experimentModels['f1']=f1s\n",
    "experimentModels['precision']=precisions\n",
    "experimentModels['recall']=recalls\n",
    "\n",
    "experimentModels['eventF1']=eventF1s\n",
    "experimentModels['eventPrecision']=eventPrecisions\n",
    "experimentModels['eventRecall']=eventRecalls\n"
   ]
  },
  {
   "cell_type": "code",
   "execution_count": 19,
   "metadata": {},
   "outputs": [],
   "source": [
    "dumpPickle('experimentModelsTest_E1_temp.pkl',experimentModels)"
   ]
  },
  {
   "cell_type": "code",
   "execution_count": 20,
   "metadata": {},
   "outputs": [
    {
     "data": {
      "text/plain": [
       "Index(['criteriumId', 'criteriumName', 'labelerIdList', 'train', 'val', 'test',\n",
       "       'modelId', 'rawF1', 'rawPrecision', 'rawRecall', 'f1', 'precision',\n",
       "       'recall', 'eventF1', 'eventPrecision', 'eventRecall'],\n",
       "      dtype='object')"
      ]
     },
     "execution_count": 20,
     "metadata": {},
     "output_type": "execute_result"
    }
   ],
   "source": [
    "experimentModels.columns"
   ]
  },
  {
   "cell_type": "code",
   "execution_count": 21,
   "metadata": {},
   "outputs": [
    {
     "data": {
      "application/vnd.plotly.v1+json": {
       "config": {
        "plotlyServerURL": "https://plot.ly"
       },
       "data": [
        {
         "hovertemplate": "<b>%{hovertext}</b><br><br>test=0002<br>rawF1=%{x}<br>f1=%{y}<extra></extra>",
         "hovertext": [
          "ca4abebe-7534-4387-9f7e-7e56aeb102df"
         ],
         "legendgroup": "0002",
         "marker": {
          "color": "#636efa",
          "symbol": "circle"
         },
         "mode": "markers",
         "name": "0002",
         "orientation": "v",
         "showlegend": true,
         "type": "scatter",
         "x": [
          0.5762774991309529
         ],
         "xaxis": "x",
         "y": [
          0.6310994677900899
         ],
         "yaxis": "y"
        },
        {
         "alignmentgroup": "True",
         "bingroup": "y",
         "hovertemplate": "test=0002<br>f1=%{y}<br>count=%{x}<extra></extra>",
         "legendgroup": "0002",
         "marker": {
          "color": "#636efa"
         },
         "name": "0002",
         "offsetgroup": "0002",
         "opacity": 0.5,
         "showlegend": false,
         "type": "histogram",
         "xaxis": "x2",
         "y": [
          0.6310994677900899
         ],
         "yaxis": "y2"
        },
        {
         "hovertemplate": "<b>%{hovertext}</b><br><br>test=0003<br>rawF1=%{x}<br>f1=%{y}<extra></extra>",
         "hovertext": [
          "ec345db7-d0e7-447a-a219-52693d52bf41"
         ],
         "legendgroup": "0003",
         "marker": {
          "color": "#EF553B",
          "symbol": "circle"
         },
         "mode": "markers",
         "name": "0003",
         "orientation": "v",
         "showlegend": true,
         "type": "scatter",
         "x": [
          0.6995053374660843
         ],
         "xaxis": "x",
         "y": [
          0.7634594875209489
         ],
         "yaxis": "y"
        },
        {
         "alignmentgroup": "True",
         "bingroup": "y",
         "hovertemplate": "test=0003<br>f1=%{y}<br>count=%{x}<extra></extra>",
         "legendgroup": "0003",
         "marker": {
          "color": "#EF553B"
         },
         "name": "0003",
         "offsetgroup": "0003",
         "opacity": 0.5,
         "showlegend": false,
         "type": "histogram",
         "xaxis": "x2",
         "y": [
          0.7634594875209489
         ],
         "yaxis": "y2"
        },
        {
         "hovertemplate": "<b>%{hovertext}</b><br><br>test=0004<br>rawF1=%{x}<br>f1=%{y}<extra></extra>",
         "hovertext": [
          "5efd55af-ba1f-4dd8-905e-9279a3c25d07"
         ],
         "legendgroup": "0004",
         "marker": {
          "color": "#00cc96",
          "symbol": "circle"
         },
         "mode": "markers",
         "name": "0004",
         "orientation": "v",
         "showlegend": true,
         "type": "scatter",
         "x": [
          0.6882067463721603
         ],
         "xaxis": "x",
         "y": [
          0.7210865065638379
         ],
         "yaxis": "y"
        },
        {
         "alignmentgroup": "True",
         "bingroup": "y",
         "hovertemplate": "test=0004<br>f1=%{y}<br>count=%{x}<extra></extra>",
         "legendgroup": "0004",
         "marker": {
          "color": "#00cc96"
         },
         "name": "0004",
         "offsetgroup": "0004",
         "opacity": 0.5,
         "showlegend": false,
         "type": "histogram",
         "xaxis": "x2",
         "y": [
          0.7210865065638379
         ],
         "yaxis": "y2"
        },
        {
         "hovertemplate": "<b>%{hovertext}</b><br><br>test=0005<br>rawF1=%{x}<br>f1=%{y}<extra></extra>",
         "hovertext": [
          "79b2270a-cfb8-4f96-987a-040fa3dc0386"
         ],
         "legendgroup": "0005",
         "marker": {
          "color": "#ab63fa",
          "symbol": "circle"
         },
         "mode": "markers",
         "name": "0005",
         "orientation": "v",
         "showlegend": true,
         "type": "scatter",
         "x": [
          0.6219875659127996
         ],
         "xaxis": "x",
         "y": [
          0.6160857844026161
         ],
         "yaxis": "y"
        },
        {
         "alignmentgroup": "True",
         "bingroup": "y",
         "hovertemplate": "test=0005<br>f1=%{y}<br>count=%{x}<extra></extra>",
         "legendgroup": "0005",
         "marker": {
          "color": "#ab63fa"
         },
         "name": "0005",
         "offsetgroup": "0005",
         "opacity": 0.5,
         "showlegend": false,
         "type": "histogram",
         "xaxis": "x2",
         "y": [
          0.6160857844026161
         ],
         "yaxis": "y2"
        },
        {
         "hovertemplate": "<b>%{hovertext}</b><br><br>test=0006<br>rawF1=%{x}<br>f1=%{y}<extra></extra>",
         "hovertext": [
          "b1cb5f16-0c62-4dd7-b5d9-16fae63b28c5"
         ],
         "legendgroup": "0006",
         "marker": {
          "color": "#FFA15A",
          "symbol": "circle"
         },
         "mode": "markers",
         "name": "0006",
         "orientation": "v",
         "showlegend": true,
         "type": "scatter",
         "x": [
          0.5977760360536887
         ],
         "xaxis": "x",
         "y": [
          0.6078763937978049
         ],
         "yaxis": "y"
        },
        {
         "alignmentgroup": "True",
         "bingroup": "y",
         "hovertemplate": "test=0006<br>f1=%{y}<br>count=%{x}<extra></extra>",
         "legendgroup": "0006",
         "marker": {
          "color": "#FFA15A"
         },
         "name": "0006",
         "offsetgroup": "0006",
         "opacity": 0.5,
         "showlegend": false,
         "type": "histogram",
         "xaxis": "x2",
         "y": [
          0.6078763937978049
         ],
         "yaxis": "y2"
        },
        {
         "hovertemplate": "<b>%{hovertext}</b><br><br>test=0007<br>rawF1=%{x}<br>f1=%{y}<extra></extra>",
         "hovertext": [
          "28b0a080-fdd1-4b49-97d4-f98a8671c508"
         ],
         "legendgroup": "0007",
         "marker": {
          "color": "#19d3f3",
          "symbol": "circle"
         },
         "mode": "markers",
         "name": "0007",
         "orientation": "v",
         "showlegend": true,
         "type": "scatter",
         "x": [
          0.5514004780625333
         ],
         "xaxis": "x",
         "y": [
          0.602856430988338
         ],
         "yaxis": "y"
        },
        {
         "alignmentgroup": "True",
         "bingroup": "y",
         "hovertemplate": "test=0007<br>f1=%{y}<br>count=%{x}<extra></extra>",
         "legendgroup": "0007",
         "marker": {
          "color": "#19d3f3"
         },
         "name": "0007",
         "offsetgroup": "0007",
         "opacity": 0.5,
         "showlegend": false,
         "type": "histogram",
         "xaxis": "x2",
         "y": [
          0.602856430988338
         ],
         "yaxis": "y2"
        },
        {
         "hovertemplate": "<b>%{hovertext}</b><br><br>test=0008<br>rawF1=%{x}<br>f1=%{y}<extra></extra>",
         "hovertext": [
          "acc1aab9-4594-40ce-8d0c-f2111f7a6c69"
         ],
         "legendgroup": "0008",
         "marker": {
          "color": "#FF6692",
          "symbol": "circle"
         },
         "mode": "markers",
         "name": "0008",
         "orientation": "v",
         "showlegend": true,
         "type": "scatter",
         "x": [
          0.4786021777665232
         ],
         "xaxis": "x",
         "y": [
          0.5211792086889061
         ],
         "yaxis": "y"
        },
        {
         "alignmentgroup": "True",
         "bingroup": "y",
         "hovertemplate": "test=0008<br>f1=%{y}<br>count=%{x}<extra></extra>",
         "legendgroup": "0008",
         "marker": {
          "color": "#FF6692"
         },
         "name": "0008",
         "offsetgroup": "0008",
         "opacity": 0.5,
         "showlegend": false,
         "type": "histogram",
         "xaxis": "x2",
         "y": [
          0.5211792086889061
         ],
         "yaxis": "y2"
        },
        {
         "fill": "toself",
         "mode": "lines",
         "name": "identity",
         "type": "scatter",
         "x": [
          0.5762774991309529,
          0.6995053374660843,
          0.6882067463721603,
          0.6219875659127996,
          0.5977760360536887,
          0.5514004780625333,
          0.4786021777665232
         ],
         "y": [
          0.5762774991309529,
          0.6995053374660843,
          0.6882067463721603,
          0.6219875659127996,
          0.5977760360536887,
          0.5514004780625333,
          0.4786021777665232
         ]
        }
       ],
       "layout": {
        "barmode": "overlay",
        "legend": {
         "title": {
          "text": "test"
         },
         "tracegroupgap": 0
        },
        "margin": {
         "t": 60
        },
        "template": {
         "data": {
          "bar": [
           {
            "error_x": {
             "color": "#2a3f5f"
            },
            "error_y": {
             "color": "#2a3f5f"
            },
            "marker": {
             "line": {
              "color": "#E5ECF6",
              "width": 0.5
             },
             "pattern": {
              "fillmode": "overlay",
              "size": 10,
              "solidity": 0.2
             }
            },
            "type": "bar"
           }
          ],
          "barpolar": [
           {
            "marker": {
             "line": {
              "color": "#E5ECF6",
              "width": 0.5
             },
             "pattern": {
              "fillmode": "overlay",
              "size": 10,
              "solidity": 0.2
             }
            },
            "type": "barpolar"
           }
          ],
          "carpet": [
           {
            "aaxis": {
             "endlinecolor": "#2a3f5f",
             "gridcolor": "white",
             "linecolor": "white",
             "minorgridcolor": "white",
             "startlinecolor": "#2a3f5f"
            },
            "baxis": {
             "endlinecolor": "#2a3f5f",
             "gridcolor": "white",
             "linecolor": "white",
             "minorgridcolor": "white",
             "startlinecolor": "#2a3f5f"
            },
            "type": "carpet"
           }
          ],
          "choropleth": [
           {
            "colorbar": {
             "outlinewidth": 0,
             "ticks": ""
            },
            "type": "choropleth"
           }
          ],
          "contour": [
           {
            "colorbar": {
             "outlinewidth": 0,
             "ticks": ""
            },
            "colorscale": [
             [
              0,
              "#0d0887"
             ],
             [
              0.1111111111111111,
              "#46039f"
             ],
             [
              0.2222222222222222,
              "#7201a8"
             ],
             [
              0.3333333333333333,
              "#9c179e"
             ],
             [
              0.4444444444444444,
              "#bd3786"
             ],
             [
              0.5555555555555556,
              "#d8576b"
             ],
             [
              0.6666666666666666,
              "#ed7953"
             ],
             [
              0.7777777777777778,
              "#fb9f3a"
             ],
             [
              0.8888888888888888,
              "#fdca26"
             ],
             [
              1,
              "#f0f921"
             ]
            ],
            "type": "contour"
           }
          ],
          "contourcarpet": [
           {
            "colorbar": {
             "outlinewidth": 0,
             "ticks": ""
            },
            "type": "contourcarpet"
           }
          ],
          "heatmap": [
           {
            "colorbar": {
             "outlinewidth": 0,
             "ticks": ""
            },
            "colorscale": [
             [
              0,
              "#0d0887"
             ],
             [
              0.1111111111111111,
              "#46039f"
             ],
             [
              0.2222222222222222,
              "#7201a8"
             ],
             [
              0.3333333333333333,
              "#9c179e"
             ],
             [
              0.4444444444444444,
              "#bd3786"
             ],
             [
              0.5555555555555556,
              "#d8576b"
             ],
             [
              0.6666666666666666,
              "#ed7953"
             ],
             [
              0.7777777777777778,
              "#fb9f3a"
             ],
             [
              0.8888888888888888,
              "#fdca26"
             ],
             [
              1,
              "#f0f921"
             ]
            ],
            "type": "heatmap"
           }
          ],
          "heatmapgl": [
           {
            "colorbar": {
             "outlinewidth": 0,
             "ticks": ""
            },
            "colorscale": [
             [
              0,
              "#0d0887"
             ],
             [
              0.1111111111111111,
              "#46039f"
             ],
             [
              0.2222222222222222,
              "#7201a8"
             ],
             [
              0.3333333333333333,
              "#9c179e"
             ],
             [
              0.4444444444444444,
              "#bd3786"
             ],
             [
              0.5555555555555556,
              "#d8576b"
             ],
             [
              0.6666666666666666,
              "#ed7953"
             ],
             [
              0.7777777777777778,
              "#fb9f3a"
             ],
             [
              0.8888888888888888,
              "#fdca26"
             ],
             [
              1,
              "#f0f921"
             ]
            ],
            "type": "heatmapgl"
           }
          ],
          "histogram": [
           {
            "marker": {
             "pattern": {
              "fillmode": "overlay",
              "size": 10,
              "solidity": 0.2
             }
            },
            "type": "histogram"
           }
          ],
          "histogram2d": [
           {
            "colorbar": {
             "outlinewidth": 0,
             "ticks": ""
            },
            "colorscale": [
             [
              0,
              "#0d0887"
             ],
             [
              0.1111111111111111,
              "#46039f"
             ],
             [
              0.2222222222222222,
              "#7201a8"
             ],
             [
              0.3333333333333333,
              "#9c179e"
             ],
             [
              0.4444444444444444,
              "#bd3786"
             ],
             [
              0.5555555555555556,
              "#d8576b"
             ],
             [
              0.6666666666666666,
              "#ed7953"
             ],
             [
              0.7777777777777778,
              "#fb9f3a"
             ],
             [
              0.8888888888888888,
              "#fdca26"
             ],
             [
              1,
              "#f0f921"
             ]
            ],
            "type": "histogram2d"
           }
          ],
          "histogram2dcontour": [
           {
            "colorbar": {
             "outlinewidth": 0,
             "ticks": ""
            },
            "colorscale": [
             [
              0,
              "#0d0887"
             ],
             [
              0.1111111111111111,
              "#46039f"
             ],
             [
              0.2222222222222222,
              "#7201a8"
             ],
             [
              0.3333333333333333,
              "#9c179e"
             ],
             [
              0.4444444444444444,
              "#bd3786"
             ],
             [
              0.5555555555555556,
              "#d8576b"
             ],
             [
              0.6666666666666666,
              "#ed7953"
             ],
             [
              0.7777777777777778,
              "#fb9f3a"
             ],
             [
              0.8888888888888888,
              "#fdca26"
             ],
             [
              1,
              "#f0f921"
             ]
            ],
            "type": "histogram2dcontour"
           }
          ],
          "mesh3d": [
           {
            "colorbar": {
             "outlinewidth": 0,
             "ticks": ""
            },
            "type": "mesh3d"
           }
          ],
          "parcoords": [
           {
            "line": {
             "colorbar": {
              "outlinewidth": 0,
              "ticks": ""
             }
            },
            "type": "parcoords"
           }
          ],
          "pie": [
           {
            "automargin": true,
            "type": "pie"
           }
          ],
          "scatter": [
           {
            "fillpattern": {
             "fillmode": "overlay",
             "size": 10,
             "solidity": 0.2
            },
            "type": "scatter"
           }
          ],
          "scatter3d": [
           {
            "line": {
             "colorbar": {
              "outlinewidth": 0,
              "ticks": ""
             }
            },
            "marker": {
             "colorbar": {
              "outlinewidth": 0,
              "ticks": ""
             }
            },
            "type": "scatter3d"
           }
          ],
          "scattercarpet": [
           {
            "marker": {
             "colorbar": {
              "outlinewidth": 0,
              "ticks": ""
             }
            },
            "type": "scattercarpet"
           }
          ],
          "scattergeo": [
           {
            "marker": {
             "colorbar": {
              "outlinewidth": 0,
              "ticks": ""
             }
            },
            "type": "scattergeo"
           }
          ],
          "scattergl": [
           {
            "marker": {
             "colorbar": {
              "outlinewidth": 0,
              "ticks": ""
             }
            },
            "type": "scattergl"
           }
          ],
          "scattermapbox": [
           {
            "marker": {
             "colorbar": {
              "outlinewidth": 0,
              "ticks": ""
             }
            },
            "type": "scattermapbox"
           }
          ],
          "scatterpolar": [
           {
            "marker": {
             "colorbar": {
              "outlinewidth": 0,
              "ticks": ""
             }
            },
            "type": "scatterpolar"
           }
          ],
          "scatterpolargl": [
           {
            "marker": {
             "colorbar": {
              "outlinewidth": 0,
              "ticks": ""
             }
            },
            "type": "scatterpolargl"
           }
          ],
          "scatterternary": [
           {
            "marker": {
             "colorbar": {
              "outlinewidth": 0,
              "ticks": ""
             }
            },
            "type": "scatterternary"
           }
          ],
          "surface": [
           {
            "colorbar": {
             "outlinewidth": 0,
             "ticks": ""
            },
            "colorscale": [
             [
              0,
              "#0d0887"
             ],
             [
              0.1111111111111111,
              "#46039f"
             ],
             [
              0.2222222222222222,
              "#7201a8"
             ],
             [
              0.3333333333333333,
              "#9c179e"
             ],
             [
              0.4444444444444444,
              "#bd3786"
             ],
             [
              0.5555555555555556,
              "#d8576b"
             ],
             [
              0.6666666666666666,
              "#ed7953"
             ],
             [
              0.7777777777777778,
              "#fb9f3a"
             ],
             [
              0.8888888888888888,
              "#fdca26"
             ],
             [
              1,
              "#f0f921"
             ]
            ],
            "type": "surface"
           }
          ],
          "table": [
           {
            "cells": {
             "fill": {
              "color": "#EBF0F8"
             },
             "line": {
              "color": "white"
             }
            },
            "header": {
             "fill": {
              "color": "#C8D4E3"
             },
             "line": {
              "color": "white"
             }
            },
            "type": "table"
           }
          ]
         },
         "layout": {
          "annotationdefaults": {
           "arrowcolor": "#2a3f5f",
           "arrowhead": 0,
           "arrowwidth": 1
          },
          "autotypenumbers": "strict",
          "coloraxis": {
           "colorbar": {
            "outlinewidth": 0,
            "ticks": ""
           }
          },
          "colorscale": {
           "diverging": [
            [
             0,
             "#8e0152"
            ],
            [
             0.1,
             "#c51b7d"
            ],
            [
             0.2,
             "#de77ae"
            ],
            [
             0.3,
             "#f1b6da"
            ],
            [
             0.4,
             "#fde0ef"
            ],
            [
             0.5,
             "#f7f7f7"
            ],
            [
             0.6,
             "#e6f5d0"
            ],
            [
             0.7,
             "#b8e186"
            ],
            [
             0.8,
             "#7fbc41"
            ],
            [
             0.9,
             "#4d9221"
            ],
            [
             1,
             "#276419"
            ]
           ],
           "sequential": [
            [
             0,
             "#0d0887"
            ],
            [
             0.1111111111111111,
             "#46039f"
            ],
            [
             0.2222222222222222,
             "#7201a8"
            ],
            [
             0.3333333333333333,
             "#9c179e"
            ],
            [
             0.4444444444444444,
             "#bd3786"
            ],
            [
             0.5555555555555556,
             "#d8576b"
            ],
            [
             0.6666666666666666,
             "#ed7953"
            ],
            [
             0.7777777777777778,
             "#fb9f3a"
            ],
            [
             0.8888888888888888,
             "#fdca26"
            ],
            [
             1,
             "#f0f921"
            ]
           ],
           "sequentialminus": [
            [
             0,
             "#0d0887"
            ],
            [
             0.1111111111111111,
             "#46039f"
            ],
            [
             0.2222222222222222,
             "#7201a8"
            ],
            [
             0.3333333333333333,
             "#9c179e"
            ],
            [
             0.4444444444444444,
             "#bd3786"
            ],
            [
             0.5555555555555556,
             "#d8576b"
            ],
            [
             0.6666666666666666,
             "#ed7953"
            ],
            [
             0.7777777777777778,
             "#fb9f3a"
            ],
            [
             0.8888888888888888,
             "#fdca26"
            ],
            [
             1,
             "#f0f921"
            ]
           ]
          },
          "colorway": [
           "#636efa",
           "#EF553B",
           "#00cc96",
           "#ab63fa",
           "#FFA15A",
           "#19d3f3",
           "#FF6692",
           "#B6E880",
           "#FF97FF",
           "#FECB52"
          ],
          "font": {
           "color": "#2a3f5f"
          },
          "geo": {
           "bgcolor": "white",
           "lakecolor": "white",
           "landcolor": "#E5ECF6",
           "showlakes": true,
           "showland": true,
           "subunitcolor": "white"
          },
          "hoverlabel": {
           "align": "left"
          },
          "hovermode": "closest",
          "mapbox": {
           "style": "light"
          },
          "paper_bgcolor": "white",
          "plot_bgcolor": "#E5ECF6",
          "polar": {
           "angularaxis": {
            "gridcolor": "white",
            "linecolor": "white",
            "ticks": ""
           },
           "bgcolor": "#E5ECF6",
           "radialaxis": {
            "gridcolor": "white",
            "linecolor": "white",
            "ticks": ""
           }
          },
          "scene": {
           "xaxis": {
            "backgroundcolor": "#E5ECF6",
            "gridcolor": "white",
            "gridwidth": 2,
            "linecolor": "white",
            "showbackground": true,
            "ticks": "",
            "zerolinecolor": "white"
           },
           "yaxis": {
            "backgroundcolor": "#E5ECF6",
            "gridcolor": "white",
            "gridwidth": 2,
            "linecolor": "white",
            "showbackground": true,
            "ticks": "",
            "zerolinecolor": "white"
           },
           "zaxis": {
            "backgroundcolor": "#E5ECF6",
            "gridcolor": "white",
            "gridwidth": 2,
            "linecolor": "white",
            "showbackground": true,
            "ticks": "",
            "zerolinecolor": "white"
           }
          },
          "shapedefaults": {
           "line": {
            "color": "#2a3f5f"
           }
          },
          "ternary": {
           "aaxis": {
            "gridcolor": "white",
            "linecolor": "white",
            "ticks": ""
           },
           "baxis": {
            "gridcolor": "white",
            "linecolor": "white",
            "ticks": ""
           },
           "bgcolor": "#E5ECF6",
           "caxis": {
            "gridcolor": "white",
            "linecolor": "white",
            "ticks": ""
           }
          },
          "title": {
           "x": 0.05
          },
          "xaxis": {
           "automargin": true,
           "gridcolor": "white",
           "linecolor": "white",
           "ticks": "",
           "title": {
            "standoff": 15
           },
           "zerolinecolor": "white",
           "zerolinewidth": 2
          },
          "yaxis": {
           "automargin": true,
           "gridcolor": "white",
           "linecolor": "white",
           "ticks": "",
           "title": {
            "standoff": 15
           },
           "zerolinecolor": "white",
           "zerolinewidth": 2
          }
         }
        },
        "xaxis": {
         "anchor": "y",
         "domain": [
          0,
          0.7363
         ],
         "title": {
          "text": "rawF1"
         }
        },
        "xaxis2": {
         "anchor": "y2",
         "domain": [
          0.7413,
          1
         ],
         "matches": "x2",
         "showgrid": true,
         "showline": false,
         "showticklabels": false,
         "ticks": ""
        },
        "yaxis": {
         "anchor": "x",
         "domain": [
          0,
          1
         ],
         "title": {
          "text": "f1"
         }
        },
        "yaxis2": {
         "anchor": "x2",
         "domain": [
          0,
          1
         ],
         "matches": "y",
         "showgrid": true,
         "showticklabels": false
        }
       }
      }
     },
     "metadata": {},
     "output_type": "display_data"
    }
   ],
   "source": [
    "fig=px.scatter(experimentModels,x='rawF1',y='f1',color='test',hover_name='modelId', marginal_y=\"histogram\")\n",
    "fig.add_trace(\n",
    "    go.Scatter(x=experimentModels['rawF1'], y=experimentModels['rawF1'], name=\"identity\", mode='lines',fill=\"toself\")\n",
    ")\n",
    "fig.show()"
   ]
  },
  {
   "cell_type": "code",
   "execution_count": 22,
   "metadata": {},
   "outputs": [
    {
     "data": {
      "application/vnd.plotly.v1+json": {
       "config": {
        "plotlyServerURL": "https://plot.ly"
       },
       "data": [
        {
         "hovertemplate": "<b>%{hovertext}</b><br><br>test=0002<br>rawF1=%{x}<br>eventF1=%{y}<extra></extra>",
         "hovertext": [
          "ca4abebe-7534-4387-9f7e-7e56aeb102df"
         ],
         "legendgroup": "0002",
         "marker": {
          "color": "#636efa",
          "symbol": "circle"
         },
         "mode": "markers",
         "name": "0002",
         "orientation": "v",
         "showlegend": true,
         "type": "scatter",
         "x": [
          0.5762774991309529
         ],
         "xaxis": "x",
         "y": [
          0.6870748299319728
         ],
         "yaxis": "y"
        },
        {
         "alignmentgroup": "True",
         "bingroup": "y",
         "hovertemplate": "test=0002<br>eventF1=%{y}<br>count=%{x}<extra></extra>",
         "legendgroup": "0002",
         "marker": {
          "color": "#636efa"
         },
         "name": "0002",
         "offsetgroup": "0002",
         "opacity": 0.5,
         "showlegend": false,
         "type": "histogram",
         "xaxis": "x2",
         "y": [
          0.6870748299319728
         ],
         "yaxis": "y2"
        },
        {
         "hovertemplate": "<b>%{hovertext}</b><br><br>test=0003<br>rawF1=%{x}<br>eventF1=%{y}<extra></extra>",
         "hovertext": [
          "ec345db7-d0e7-447a-a219-52693d52bf41"
         ],
         "legendgroup": "0003",
         "marker": {
          "color": "#EF553B",
          "symbol": "circle"
         },
         "mode": "markers",
         "name": "0003",
         "orientation": "v",
         "showlegend": true,
         "type": "scatter",
         "x": [
          0.6995053374660843
         ],
         "xaxis": "x",
         "y": [
          0.8442272449602932
         ],
         "yaxis": "y"
        },
        {
         "alignmentgroup": "True",
         "bingroup": "y",
         "hovertemplate": "test=0003<br>eventF1=%{y}<br>count=%{x}<extra></extra>",
         "legendgroup": "0003",
         "marker": {
          "color": "#EF553B"
         },
         "name": "0003",
         "offsetgroup": "0003",
         "opacity": 0.5,
         "showlegend": false,
         "type": "histogram",
         "xaxis": "x2",
         "y": [
          0.8442272449602932
         ],
         "yaxis": "y2"
        },
        {
         "hovertemplate": "<b>%{hovertext}</b><br><br>test=0004<br>rawF1=%{x}<br>eventF1=%{y}<extra></extra>",
         "hovertext": [
          "5efd55af-ba1f-4dd8-905e-9279a3c25d07"
         ],
         "legendgroup": "0004",
         "marker": {
          "color": "#00cc96",
          "symbol": "circle"
         },
         "mode": "markers",
         "name": "0004",
         "orientation": "v",
         "showlegend": true,
         "type": "scatter",
         "x": [
          0.6882067463721603
         ],
         "xaxis": "x",
         "y": [
          0.764512595837897
         ],
         "yaxis": "y"
        },
        {
         "alignmentgroup": "True",
         "bingroup": "y",
         "hovertemplate": "test=0004<br>eventF1=%{y}<br>count=%{x}<extra></extra>",
         "legendgroup": "0004",
         "marker": {
          "color": "#00cc96"
         },
         "name": "0004",
         "offsetgroup": "0004",
         "opacity": 0.5,
         "showlegend": false,
         "type": "histogram",
         "xaxis": "x2",
         "y": [
          0.764512595837897
         ],
         "yaxis": "y2"
        },
        {
         "hovertemplate": "<b>%{hovertext}</b><br><br>test=0005<br>rawF1=%{x}<br>eventF1=%{y}<extra></extra>",
         "hovertext": [
          "79b2270a-cfb8-4f96-987a-040fa3dc0386"
         ],
         "legendgroup": "0005",
         "marker": {
          "color": "#ab63fa",
          "symbol": "circle"
         },
         "mode": "markers",
         "name": "0005",
         "orientation": "v",
         "showlegend": true,
         "type": "scatter",
         "x": [
          0.6219875659127996
         ],
         "xaxis": "x",
         "y": [
          0.6293929712460063
         ],
         "yaxis": "y"
        },
        {
         "alignmentgroup": "True",
         "bingroup": "y",
         "hovertemplate": "test=0005<br>eventF1=%{y}<br>count=%{x}<extra></extra>",
         "legendgroup": "0005",
         "marker": {
          "color": "#ab63fa"
         },
         "name": "0005",
         "offsetgroup": "0005",
         "opacity": 0.5,
         "showlegend": false,
         "type": "histogram",
         "xaxis": "x2",
         "y": [
          0.6293929712460063
         ],
         "yaxis": "y2"
        },
        {
         "hovertemplate": "<b>%{hovertext}</b><br><br>test=0006<br>rawF1=%{x}<br>eventF1=%{y}<extra></extra>",
         "hovertext": [
          "b1cb5f16-0c62-4dd7-b5d9-16fae63b28c5"
         ],
         "legendgroup": "0006",
         "marker": {
          "color": "#FFA15A",
          "symbol": "circle"
         },
         "mode": "markers",
         "name": "0006",
         "orientation": "v",
         "showlegend": true,
         "type": "scatter",
         "x": [
          0.5977760360536887
         ],
         "xaxis": "x",
         "y": [
          0.6447811447811448
         ],
         "yaxis": "y"
        },
        {
         "alignmentgroup": "True",
         "bingroup": "y",
         "hovertemplate": "test=0006<br>eventF1=%{y}<br>count=%{x}<extra></extra>",
         "legendgroup": "0006",
         "marker": {
          "color": "#FFA15A"
         },
         "name": "0006",
         "offsetgroup": "0006",
         "opacity": 0.5,
         "showlegend": false,
         "type": "histogram",
         "xaxis": "x2",
         "y": [
          0.6447811447811448
         ],
         "yaxis": "y2"
        },
        {
         "hovertemplate": "<b>%{hovertext}</b><br><br>test=0007<br>rawF1=%{x}<br>eventF1=%{y}<extra></extra>",
         "hovertext": [
          "28b0a080-fdd1-4b49-97d4-f98a8671c508"
         ],
         "legendgroup": "0007",
         "marker": {
          "color": "#19d3f3",
          "symbol": "circle"
         },
         "mode": "markers",
         "name": "0007",
         "orientation": "v",
         "showlegend": true,
         "type": "scatter",
         "x": [
          0.5514004780625333
         ],
         "xaxis": "x",
         "y": [
          0.6977363515312917
         ],
         "yaxis": "y"
        },
        {
         "alignmentgroup": "True",
         "bingroup": "y",
         "hovertemplate": "test=0007<br>eventF1=%{y}<br>count=%{x}<extra></extra>",
         "legendgroup": "0007",
         "marker": {
          "color": "#19d3f3"
         },
         "name": "0007",
         "offsetgroup": "0007",
         "opacity": 0.5,
         "showlegend": false,
         "type": "histogram",
         "xaxis": "x2",
         "y": [
          0.6977363515312917
         ],
         "yaxis": "y2"
        },
        {
         "hovertemplate": "<b>%{hovertext}</b><br><br>test=0008<br>rawF1=%{x}<br>eventF1=%{y}<extra></extra>",
         "hovertext": [
          "acc1aab9-4594-40ce-8d0c-f2111f7a6c69"
         ],
         "legendgroup": "0008",
         "marker": {
          "color": "#FF6692",
          "symbol": "circle"
         },
         "mode": "markers",
         "name": "0008",
         "orientation": "v",
         "showlegend": true,
         "type": "scatter",
         "x": [
          0.4786021777665232
         ],
         "xaxis": "x",
         "y": [
          0.5894736842105263
         ],
         "yaxis": "y"
        },
        {
         "alignmentgroup": "True",
         "bingroup": "y",
         "hovertemplate": "test=0008<br>eventF1=%{y}<br>count=%{x}<extra></extra>",
         "legendgroup": "0008",
         "marker": {
          "color": "#FF6692"
         },
         "name": "0008",
         "offsetgroup": "0008",
         "opacity": 0.5,
         "showlegend": false,
         "type": "histogram",
         "xaxis": "x2",
         "y": [
          0.5894736842105263
         ],
         "yaxis": "y2"
        },
        {
         "fill": "toself",
         "mode": "lines",
         "name": "identity",
         "type": "scatter",
         "x": [
          0.5762774991309529,
          0.6995053374660843,
          0.6882067463721603,
          0.6219875659127996,
          0.5977760360536887,
          0.5514004780625333,
          0.4786021777665232
         ],
         "y": [
          0.5762774991309529,
          0.6995053374660843,
          0.6882067463721603,
          0.6219875659127996,
          0.5977760360536887,
          0.5514004780625333,
          0.4786021777665232
         ]
        }
       ],
       "layout": {
        "barmode": "overlay",
        "legend": {
         "title": {
          "text": "test"
         },
         "tracegroupgap": 0
        },
        "margin": {
         "t": 60
        },
        "template": {
         "data": {
          "bar": [
           {
            "error_x": {
             "color": "#2a3f5f"
            },
            "error_y": {
             "color": "#2a3f5f"
            },
            "marker": {
             "line": {
              "color": "#E5ECF6",
              "width": 0.5
             },
             "pattern": {
              "fillmode": "overlay",
              "size": 10,
              "solidity": 0.2
             }
            },
            "type": "bar"
           }
          ],
          "barpolar": [
           {
            "marker": {
             "line": {
              "color": "#E5ECF6",
              "width": 0.5
             },
             "pattern": {
              "fillmode": "overlay",
              "size": 10,
              "solidity": 0.2
             }
            },
            "type": "barpolar"
           }
          ],
          "carpet": [
           {
            "aaxis": {
             "endlinecolor": "#2a3f5f",
             "gridcolor": "white",
             "linecolor": "white",
             "minorgridcolor": "white",
             "startlinecolor": "#2a3f5f"
            },
            "baxis": {
             "endlinecolor": "#2a3f5f",
             "gridcolor": "white",
             "linecolor": "white",
             "minorgridcolor": "white",
             "startlinecolor": "#2a3f5f"
            },
            "type": "carpet"
           }
          ],
          "choropleth": [
           {
            "colorbar": {
             "outlinewidth": 0,
             "ticks": ""
            },
            "type": "choropleth"
           }
          ],
          "contour": [
           {
            "colorbar": {
             "outlinewidth": 0,
             "ticks": ""
            },
            "colorscale": [
             [
              0,
              "#0d0887"
             ],
             [
              0.1111111111111111,
              "#46039f"
             ],
             [
              0.2222222222222222,
              "#7201a8"
             ],
             [
              0.3333333333333333,
              "#9c179e"
             ],
             [
              0.4444444444444444,
              "#bd3786"
             ],
             [
              0.5555555555555556,
              "#d8576b"
             ],
             [
              0.6666666666666666,
              "#ed7953"
             ],
             [
              0.7777777777777778,
              "#fb9f3a"
             ],
             [
              0.8888888888888888,
              "#fdca26"
             ],
             [
              1,
              "#f0f921"
             ]
            ],
            "type": "contour"
           }
          ],
          "contourcarpet": [
           {
            "colorbar": {
             "outlinewidth": 0,
             "ticks": ""
            },
            "type": "contourcarpet"
           }
          ],
          "heatmap": [
           {
            "colorbar": {
             "outlinewidth": 0,
             "ticks": ""
            },
            "colorscale": [
             [
              0,
              "#0d0887"
             ],
             [
              0.1111111111111111,
              "#46039f"
             ],
             [
              0.2222222222222222,
              "#7201a8"
             ],
             [
              0.3333333333333333,
              "#9c179e"
             ],
             [
              0.4444444444444444,
              "#bd3786"
             ],
             [
              0.5555555555555556,
              "#d8576b"
             ],
             [
              0.6666666666666666,
              "#ed7953"
             ],
             [
              0.7777777777777778,
              "#fb9f3a"
             ],
             [
              0.8888888888888888,
              "#fdca26"
             ],
             [
              1,
              "#f0f921"
             ]
            ],
            "type": "heatmap"
           }
          ],
          "heatmapgl": [
           {
            "colorbar": {
             "outlinewidth": 0,
             "ticks": ""
            },
            "colorscale": [
             [
              0,
              "#0d0887"
             ],
             [
              0.1111111111111111,
              "#46039f"
             ],
             [
              0.2222222222222222,
              "#7201a8"
             ],
             [
              0.3333333333333333,
              "#9c179e"
             ],
             [
              0.4444444444444444,
              "#bd3786"
             ],
             [
              0.5555555555555556,
              "#d8576b"
             ],
             [
              0.6666666666666666,
              "#ed7953"
             ],
             [
              0.7777777777777778,
              "#fb9f3a"
             ],
             [
              0.8888888888888888,
              "#fdca26"
             ],
             [
              1,
              "#f0f921"
             ]
            ],
            "type": "heatmapgl"
           }
          ],
          "histogram": [
           {
            "marker": {
             "pattern": {
              "fillmode": "overlay",
              "size": 10,
              "solidity": 0.2
             }
            },
            "type": "histogram"
           }
          ],
          "histogram2d": [
           {
            "colorbar": {
             "outlinewidth": 0,
             "ticks": ""
            },
            "colorscale": [
             [
              0,
              "#0d0887"
             ],
             [
              0.1111111111111111,
              "#46039f"
             ],
             [
              0.2222222222222222,
              "#7201a8"
             ],
             [
              0.3333333333333333,
              "#9c179e"
             ],
             [
              0.4444444444444444,
              "#bd3786"
             ],
             [
              0.5555555555555556,
              "#d8576b"
             ],
             [
              0.6666666666666666,
              "#ed7953"
             ],
             [
              0.7777777777777778,
              "#fb9f3a"
             ],
             [
              0.8888888888888888,
              "#fdca26"
             ],
             [
              1,
              "#f0f921"
             ]
            ],
            "type": "histogram2d"
           }
          ],
          "histogram2dcontour": [
           {
            "colorbar": {
             "outlinewidth": 0,
             "ticks": ""
            },
            "colorscale": [
             [
              0,
              "#0d0887"
             ],
             [
              0.1111111111111111,
              "#46039f"
             ],
             [
              0.2222222222222222,
              "#7201a8"
             ],
             [
              0.3333333333333333,
              "#9c179e"
             ],
             [
              0.4444444444444444,
              "#bd3786"
             ],
             [
              0.5555555555555556,
              "#d8576b"
             ],
             [
              0.6666666666666666,
              "#ed7953"
             ],
             [
              0.7777777777777778,
              "#fb9f3a"
             ],
             [
              0.8888888888888888,
              "#fdca26"
             ],
             [
              1,
              "#f0f921"
             ]
            ],
            "type": "histogram2dcontour"
           }
          ],
          "mesh3d": [
           {
            "colorbar": {
             "outlinewidth": 0,
             "ticks": ""
            },
            "type": "mesh3d"
           }
          ],
          "parcoords": [
           {
            "line": {
             "colorbar": {
              "outlinewidth": 0,
              "ticks": ""
             }
            },
            "type": "parcoords"
           }
          ],
          "pie": [
           {
            "automargin": true,
            "type": "pie"
           }
          ],
          "scatter": [
           {
            "fillpattern": {
             "fillmode": "overlay",
             "size": 10,
             "solidity": 0.2
            },
            "type": "scatter"
           }
          ],
          "scatter3d": [
           {
            "line": {
             "colorbar": {
              "outlinewidth": 0,
              "ticks": ""
             }
            },
            "marker": {
             "colorbar": {
              "outlinewidth": 0,
              "ticks": ""
             }
            },
            "type": "scatter3d"
           }
          ],
          "scattercarpet": [
           {
            "marker": {
             "colorbar": {
              "outlinewidth": 0,
              "ticks": ""
             }
            },
            "type": "scattercarpet"
           }
          ],
          "scattergeo": [
           {
            "marker": {
             "colorbar": {
              "outlinewidth": 0,
              "ticks": ""
             }
            },
            "type": "scattergeo"
           }
          ],
          "scattergl": [
           {
            "marker": {
             "colorbar": {
              "outlinewidth": 0,
              "ticks": ""
             }
            },
            "type": "scattergl"
           }
          ],
          "scattermapbox": [
           {
            "marker": {
             "colorbar": {
              "outlinewidth": 0,
              "ticks": ""
             }
            },
            "type": "scattermapbox"
           }
          ],
          "scatterpolar": [
           {
            "marker": {
             "colorbar": {
              "outlinewidth": 0,
              "ticks": ""
             }
            },
            "type": "scatterpolar"
           }
          ],
          "scatterpolargl": [
           {
            "marker": {
             "colorbar": {
              "outlinewidth": 0,
              "ticks": ""
             }
            },
            "type": "scatterpolargl"
           }
          ],
          "scatterternary": [
           {
            "marker": {
             "colorbar": {
              "outlinewidth": 0,
              "ticks": ""
             }
            },
            "type": "scatterternary"
           }
          ],
          "surface": [
           {
            "colorbar": {
             "outlinewidth": 0,
             "ticks": ""
            },
            "colorscale": [
             [
              0,
              "#0d0887"
             ],
             [
              0.1111111111111111,
              "#46039f"
             ],
             [
              0.2222222222222222,
              "#7201a8"
             ],
             [
              0.3333333333333333,
              "#9c179e"
             ],
             [
              0.4444444444444444,
              "#bd3786"
             ],
             [
              0.5555555555555556,
              "#d8576b"
             ],
             [
              0.6666666666666666,
              "#ed7953"
             ],
             [
              0.7777777777777778,
              "#fb9f3a"
             ],
             [
              0.8888888888888888,
              "#fdca26"
             ],
             [
              1,
              "#f0f921"
             ]
            ],
            "type": "surface"
           }
          ],
          "table": [
           {
            "cells": {
             "fill": {
              "color": "#EBF0F8"
             },
             "line": {
              "color": "white"
             }
            },
            "header": {
             "fill": {
              "color": "#C8D4E3"
             },
             "line": {
              "color": "white"
             }
            },
            "type": "table"
           }
          ]
         },
         "layout": {
          "annotationdefaults": {
           "arrowcolor": "#2a3f5f",
           "arrowhead": 0,
           "arrowwidth": 1
          },
          "autotypenumbers": "strict",
          "coloraxis": {
           "colorbar": {
            "outlinewidth": 0,
            "ticks": ""
           }
          },
          "colorscale": {
           "diverging": [
            [
             0,
             "#8e0152"
            ],
            [
             0.1,
             "#c51b7d"
            ],
            [
             0.2,
             "#de77ae"
            ],
            [
             0.3,
             "#f1b6da"
            ],
            [
             0.4,
             "#fde0ef"
            ],
            [
             0.5,
             "#f7f7f7"
            ],
            [
             0.6,
             "#e6f5d0"
            ],
            [
             0.7,
             "#b8e186"
            ],
            [
             0.8,
             "#7fbc41"
            ],
            [
             0.9,
             "#4d9221"
            ],
            [
             1,
             "#276419"
            ]
           ],
           "sequential": [
            [
             0,
             "#0d0887"
            ],
            [
             0.1111111111111111,
             "#46039f"
            ],
            [
             0.2222222222222222,
             "#7201a8"
            ],
            [
             0.3333333333333333,
             "#9c179e"
            ],
            [
             0.4444444444444444,
             "#bd3786"
            ],
            [
             0.5555555555555556,
             "#d8576b"
            ],
            [
             0.6666666666666666,
             "#ed7953"
            ],
            [
             0.7777777777777778,
             "#fb9f3a"
            ],
            [
             0.8888888888888888,
             "#fdca26"
            ],
            [
             1,
             "#f0f921"
            ]
           ],
           "sequentialminus": [
            [
             0,
             "#0d0887"
            ],
            [
             0.1111111111111111,
             "#46039f"
            ],
            [
             0.2222222222222222,
             "#7201a8"
            ],
            [
             0.3333333333333333,
             "#9c179e"
            ],
            [
             0.4444444444444444,
             "#bd3786"
            ],
            [
             0.5555555555555556,
             "#d8576b"
            ],
            [
             0.6666666666666666,
             "#ed7953"
            ],
            [
             0.7777777777777778,
             "#fb9f3a"
            ],
            [
             0.8888888888888888,
             "#fdca26"
            ],
            [
             1,
             "#f0f921"
            ]
           ]
          },
          "colorway": [
           "#636efa",
           "#EF553B",
           "#00cc96",
           "#ab63fa",
           "#FFA15A",
           "#19d3f3",
           "#FF6692",
           "#B6E880",
           "#FF97FF",
           "#FECB52"
          ],
          "font": {
           "color": "#2a3f5f"
          },
          "geo": {
           "bgcolor": "white",
           "lakecolor": "white",
           "landcolor": "#E5ECF6",
           "showlakes": true,
           "showland": true,
           "subunitcolor": "white"
          },
          "hoverlabel": {
           "align": "left"
          },
          "hovermode": "closest",
          "mapbox": {
           "style": "light"
          },
          "paper_bgcolor": "white",
          "plot_bgcolor": "#E5ECF6",
          "polar": {
           "angularaxis": {
            "gridcolor": "white",
            "linecolor": "white",
            "ticks": ""
           },
           "bgcolor": "#E5ECF6",
           "radialaxis": {
            "gridcolor": "white",
            "linecolor": "white",
            "ticks": ""
           }
          },
          "scene": {
           "xaxis": {
            "backgroundcolor": "#E5ECF6",
            "gridcolor": "white",
            "gridwidth": 2,
            "linecolor": "white",
            "showbackground": true,
            "ticks": "",
            "zerolinecolor": "white"
           },
           "yaxis": {
            "backgroundcolor": "#E5ECF6",
            "gridcolor": "white",
            "gridwidth": 2,
            "linecolor": "white",
            "showbackground": true,
            "ticks": "",
            "zerolinecolor": "white"
           },
           "zaxis": {
            "backgroundcolor": "#E5ECF6",
            "gridcolor": "white",
            "gridwidth": 2,
            "linecolor": "white",
            "showbackground": true,
            "ticks": "",
            "zerolinecolor": "white"
           }
          },
          "shapedefaults": {
           "line": {
            "color": "#2a3f5f"
           }
          },
          "ternary": {
           "aaxis": {
            "gridcolor": "white",
            "linecolor": "white",
            "ticks": ""
           },
           "baxis": {
            "gridcolor": "white",
            "linecolor": "white",
            "ticks": ""
           },
           "bgcolor": "#E5ECF6",
           "caxis": {
            "gridcolor": "white",
            "linecolor": "white",
            "ticks": ""
           }
          },
          "title": {
           "x": 0.05
          },
          "xaxis": {
           "automargin": true,
           "gridcolor": "white",
           "linecolor": "white",
           "ticks": "",
           "title": {
            "standoff": 15
           },
           "zerolinecolor": "white",
           "zerolinewidth": 2
          },
          "yaxis": {
           "automargin": true,
           "gridcolor": "white",
           "linecolor": "white",
           "ticks": "",
           "title": {
            "standoff": 15
           },
           "zerolinecolor": "white",
           "zerolinewidth": 2
          }
         }
        },
        "xaxis": {
         "anchor": "y",
         "domain": [
          0,
          0.7363
         ],
         "title": {
          "text": "rawF1"
         }
        },
        "xaxis2": {
         "anchor": "y2",
         "domain": [
          0.7413,
          1
         ],
         "matches": "x2",
         "showgrid": true,
         "showline": false,
         "showticklabels": false,
         "ticks": ""
        },
        "yaxis": {
         "anchor": "x",
         "domain": [
          0,
          1
         ],
         "title": {
          "text": "eventF1"
         }
        },
        "yaxis2": {
         "anchor": "x2",
         "domain": [
          0,
          1
         ],
         "matches": "y",
         "showgrid": true,
         "showticklabels": false
        }
       }
      }
     },
     "metadata": {},
     "output_type": "display_data"
    }
   ],
   "source": [
    "fig=px.scatter(experimentModels,x='rawF1',y='eventF1',color='test',hover_name='modelId', marginal_y=\"histogram\")\n",
    "fig.add_trace(\n",
    "    go.Scatter(x=experimentModels['rawF1'], y=experimentModels['rawF1'], name=\"identity\", mode='lines',fill=\"toself\")\n",
    ")\n",
    "fig.show()"
   ]
  },
  {
   "cell_type": "code",
   "execution_count": 23,
   "metadata": {},
   "outputs": [
    {
     "data": {
      "application/vnd.plotly.v1+json": {
       "config": {
        "plotlyServerURL": "https://plot.ly"
       },
       "data": [
        {
         "hovertemplate": "<b>%{hovertext}</b><br><br>test=0002<br>eventF1=%{x}<br>eventPrecision=%{y}<extra></extra>",
         "hovertext": [
          "ca4abebe-7534-4387-9f7e-7e56aeb102df"
         ],
         "legendgroup": "0002",
         "marker": {
          "color": "#636efa",
          "symbol": "circle"
         },
         "mode": "markers",
         "name": "0002",
         "orientation": "v",
         "showlegend": true,
         "type": "scatter",
         "x": [
          0.6870748299319728
         ],
         "xaxis": "x",
         "y": [
          0.7562189054726368
         ],
         "yaxis": "y"
        },
        {
         "alignmentgroup": "True",
         "bingroup": "y",
         "hovertemplate": "test=0002<br>eventPrecision=%{y}<br>count=%{x}<extra></extra>",
         "legendgroup": "0002",
         "marker": {
          "color": "#636efa"
         },
         "name": "0002",
         "offsetgroup": "0002",
         "opacity": 0.5,
         "showlegend": false,
         "type": "histogram",
         "xaxis": "x2",
         "y": [
          0.7562189054726368
         ],
         "yaxis": "y2"
        },
        {
         "hovertemplate": "<b>%{hovertext}</b><br><br>test=0003<br>eventF1=%{x}<br>eventPrecision=%{y}<extra></extra>",
         "hovertext": [
          "ec345db7-d0e7-447a-a219-52693d52bf41"
         ],
         "legendgroup": "0003",
         "marker": {
          "color": "#EF553B",
          "symbol": "circle"
         },
         "mode": "markers",
         "name": "0003",
         "orientation": "v",
         "showlegend": true,
         "type": "scatter",
         "x": [
          0.8442272449602932
         ],
         "xaxis": "x",
         "y": [
          0.8794416243654822
         ],
         "yaxis": "y"
        },
        {
         "alignmentgroup": "True",
         "bingroup": "y",
         "hovertemplate": "test=0003<br>eventPrecision=%{y}<br>count=%{x}<extra></extra>",
         "legendgroup": "0003",
         "marker": {
          "color": "#EF553B"
         },
         "name": "0003",
         "offsetgroup": "0003",
         "opacity": 0.5,
         "showlegend": false,
         "type": "histogram",
         "xaxis": "x2",
         "y": [
          0.8794416243654822
         ],
         "yaxis": "y2"
        },
        {
         "hovertemplate": "<b>%{hovertext}</b><br><br>test=0004<br>eventF1=%{x}<br>eventPrecision=%{y}<extra></extra>",
         "hovertext": [
          "5efd55af-ba1f-4dd8-905e-9279a3c25d07"
         ],
         "legendgroup": "0004",
         "marker": {
          "color": "#00cc96",
          "symbol": "circle"
         },
         "mode": "markers",
         "name": "0004",
         "orientation": "v",
         "showlegend": true,
         "type": "scatter",
         "x": [
          0.764512595837897
         ],
         "xaxis": "x",
         "y": [
          0.708502024291498
         ],
         "yaxis": "y"
        },
        {
         "alignmentgroup": "True",
         "bingroup": "y",
         "hovertemplate": "test=0004<br>eventPrecision=%{y}<br>count=%{x}<extra></extra>",
         "legendgroup": "0004",
         "marker": {
          "color": "#00cc96"
         },
         "name": "0004",
         "offsetgroup": "0004",
         "opacity": 0.5,
         "showlegend": false,
         "type": "histogram",
         "xaxis": "x2",
         "y": [
          0.708502024291498
         ],
         "yaxis": "y2"
        },
        {
         "hovertemplate": "<b>%{hovertext}</b><br><br>test=0005<br>eventF1=%{x}<br>eventPrecision=%{y}<extra></extra>",
         "hovertext": [
          "79b2270a-cfb8-4f96-987a-040fa3dc0386"
         ],
         "legendgroup": "0005",
         "marker": {
          "color": "#ab63fa",
          "symbol": "circle"
         },
         "mode": "markers",
         "name": "0005",
         "orientation": "v",
         "showlegend": true,
         "type": "scatter",
         "x": [
          0.6293929712460063
         ],
         "xaxis": "x",
         "y": [
          0.4767255216693419
         ],
         "yaxis": "y"
        },
        {
         "alignmentgroup": "True",
         "bingroup": "y",
         "hovertemplate": "test=0005<br>eventPrecision=%{y}<br>count=%{x}<extra></extra>",
         "legendgroup": "0005",
         "marker": {
          "color": "#ab63fa"
         },
         "name": "0005",
         "offsetgroup": "0005",
         "opacity": 0.5,
         "showlegend": false,
         "type": "histogram",
         "xaxis": "x2",
         "y": [
          0.4767255216693419
         ],
         "yaxis": "y2"
        },
        {
         "hovertemplate": "<b>%{hovertext}</b><br><br>test=0006<br>eventF1=%{x}<br>eventPrecision=%{y}<extra></extra>",
         "hovertext": [
          "b1cb5f16-0c62-4dd7-b5d9-16fae63b28c5"
         ],
         "legendgroup": "0006",
         "marker": {
          "color": "#FFA15A",
          "symbol": "circle"
         },
         "mode": "markers",
         "name": "0006",
         "orientation": "v",
         "showlegend": true,
         "type": "scatter",
         "x": [
          0.6447811447811448
         ],
         "xaxis": "x",
         "y": [
          0.5217391304347826
         ],
         "yaxis": "y"
        },
        {
         "alignmentgroup": "True",
         "bingroup": "y",
         "hovertemplate": "test=0006<br>eventPrecision=%{y}<br>count=%{x}<extra></extra>",
         "legendgroup": "0006",
         "marker": {
          "color": "#FFA15A"
         },
         "name": "0006",
         "offsetgroup": "0006",
         "opacity": 0.5,
         "showlegend": false,
         "type": "histogram",
         "xaxis": "x2",
         "y": [
          0.5217391304347826
         ],
         "yaxis": "y2"
        },
        {
         "hovertemplate": "<b>%{hovertext}</b><br><br>test=0007<br>eventF1=%{x}<br>eventPrecision=%{y}<extra></extra>",
         "hovertext": [
          "28b0a080-fdd1-4b49-97d4-f98a8671c508"
         ],
         "legendgroup": "0007",
         "marker": {
          "color": "#19d3f3",
          "symbol": "circle"
         },
         "mode": "markers",
         "name": "0007",
         "orientation": "v",
         "showlegend": true,
         "type": "scatter",
         "x": [
          0.6977363515312917
         ],
         "xaxis": "x",
         "y": [
          0.6912928759894459
         ],
         "yaxis": "y"
        },
        {
         "alignmentgroup": "True",
         "bingroup": "y",
         "hovertemplate": "test=0007<br>eventPrecision=%{y}<br>count=%{x}<extra></extra>",
         "legendgroup": "0007",
         "marker": {
          "color": "#19d3f3"
         },
         "name": "0007",
         "offsetgroup": "0007",
         "opacity": 0.5,
         "showlegend": false,
         "type": "histogram",
         "xaxis": "x2",
         "y": [
          0.6912928759894459
         ],
         "yaxis": "y2"
        },
        {
         "hovertemplate": "<b>%{hovertext}</b><br><br>test=0008<br>eventF1=%{x}<br>eventPrecision=%{y}<extra></extra>",
         "hovertext": [
          "acc1aab9-4594-40ce-8d0c-f2111f7a6c69"
         ],
         "legendgroup": "0008",
         "marker": {
          "color": "#FF6692",
          "symbol": "circle"
         },
         "mode": "markers",
         "name": "0008",
         "orientation": "v",
         "showlegend": true,
         "type": "scatter",
         "x": [
          0.5894736842105263
         ],
         "xaxis": "x",
         "y": [
          0.5833333333333334
         ],
         "yaxis": "y"
        },
        {
         "alignmentgroup": "True",
         "bingroup": "y",
         "hovertemplate": "test=0008<br>eventPrecision=%{y}<br>count=%{x}<extra></extra>",
         "legendgroup": "0008",
         "marker": {
          "color": "#FF6692"
         },
         "name": "0008",
         "offsetgroup": "0008",
         "opacity": 0.5,
         "showlegend": false,
         "type": "histogram",
         "xaxis": "x2",
         "y": [
          0.5833333333333334
         ],
         "yaxis": "y2"
        },
        {
         "fill": "toself",
         "mode": "lines",
         "name": "identity",
         "type": "scatter",
         "x": [
          0.6870748299319728,
          0.8442272449602932,
          0.764512595837897,
          0.6293929712460063,
          0.6447811447811448,
          0.6977363515312917,
          0.5894736842105263
         ],
         "y": [
          0.6870748299319728,
          0.8442272449602932,
          0.764512595837897,
          0.6293929712460063,
          0.6447811447811448,
          0.6977363515312917,
          0.5894736842105263
         ]
        }
       ],
       "layout": {
        "barmode": "overlay",
        "legend": {
         "title": {
          "text": "test"
         },
         "tracegroupgap": 0
        },
        "margin": {
         "t": 60
        },
        "template": {
         "data": {
          "bar": [
           {
            "error_x": {
             "color": "#2a3f5f"
            },
            "error_y": {
             "color": "#2a3f5f"
            },
            "marker": {
             "line": {
              "color": "#E5ECF6",
              "width": 0.5
             },
             "pattern": {
              "fillmode": "overlay",
              "size": 10,
              "solidity": 0.2
             }
            },
            "type": "bar"
           }
          ],
          "barpolar": [
           {
            "marker": {
             "line": {
              "color": "#E5ECF6",
              "width": 0.5
             },
             "pattern": {
              "fillmode": "overlay",
              "size": 10,
              "solidity": 0.2
             }
            },
            "type": "barpolar"
           }
          ],
          "carpet": [
           {
            "aaxis": {
             "endlinecolor": "#2a3f5f",
             "gridcolor": "white",
             "linecolor": "white",
             "minorgridcolor": "white",
             "startlinecolor": "#2a3f5f"
            },
            "baxis": {
             "endlinecolor": "#2a3f5f",
             "gridcolor": "white",
             "linecolor": "white",
             "minorgridcolor": "white",
             "startlinecolor": "#2a3f5f"
            },
            "type": "carpet"
           }
          ],
          "choropleth": [
           {
            "colorbar": {
             "outlinewidth": 0,
             "ticks": ""
            },
            "type": "choropleth"
           }
          ],
          "contour": [
           {
            "colorbar": {
             "outlinewidth": 0,
             "ticks": ""
            },
            "colorscale": [
             [
              0,
              "#0d0887"
             ],
             [
              0.1111111111111111,
              "#46039f"
             ],
             [
              0.2222222222222222,
              "#7201a8"
             ],
             [
              0.3333333333333333,
              "#9c179e"
             ],
             [
              0.4444444444444444,
              "#bd3786"
             ],
             [
              0.5555555555555556,
              "#d8576b"
             ],
             [
              0.6666666666666666,
              "#ed7953"
             ],
             [
              0.7777777777777778,
              "#fb9f3a"
             ],
             [
              0.8888888888888888,
              "#fdca26"
             ],
             [
              1,
              "#f0f921"
             ]
            ],
            "type": "contour"
           }
          ],
          "contourcarpet": [
           {
            "colorbar": {
             "outlinewidth": 0,
             "ticks": ""
            },
            "type": "contourcarpet"
           }
          ],
          "heatmap": [
           {
            "colorbar": {
             "outlinewidth": 0,
             "ticks": ""
            },
            "colorscale": [
             [
              0,
              "#0d0887"
             ],
             [
              0.1111111111111111,
              "#46039f"
             ],
             [
              0.2222222222222222,
              "#7201a8"
             ],
             [
              0.3333333333333333,
              "#9c179e"
             ],
             [
              0.4444444444444444,
              "#bd3786"
             ],
             [
              0.5555555555555556,
              "#d8576b"
             ],
             [
              0.6666666666666666,
              "#ed7953"
             ],
             [
              0.7777777777777778,
              "#fb9f3a"
             ],
             [
              0.8888888888888888,
              "#fdca26"
             ],
             [
              1,
              "#f0f921"
             ]
            ],
            "type": "heatmap"
           }
          ],
          "heatmapgl": [
           {
            "colorbar": {
             "outlinewidth": 0,
             "ticks": ""
            },
            "colorscale": [
             [
              0,
              "#0d0887"
             ],
             [
              0.1111111111111111,
              "#46039f"
             ],
             [
              0.2222222222222222,
              "#7201a8"
             ],
             [
              0.3333333333333333,
              "#9c179e"
             ],
             [
              0.4444444444444444,
              "#bd3786"
             ],
             [
              0.5555555555555556,
              "#d8576b"
             ],
             [
              0.6666666666666666,
              "#ed7953"
             ],
             [
              0.7777777777777778,
              "#fb9f3a"
             ],
             [
              0.8888888888888888,
              "#fdca26"
             ],
             [
              1,
              "#f0f921"
             ]
            ],
            "type": "heatmapgl"
           }
          ],
          "histogram": [
           {
            "marker": {
             "pattern": {
              "fillmode": "overlay",
              "size": 10,
              "solidity": 0.2
             }
            },
            "type": "histogram"
           }
          ],
          "histogram2d": [
           {
            "colorbar": {
             "outlinewidth": 0,
             "ticks": ""
            },
            "colorscale": [
             [
              0,
              "#0d0887"
             ],
             [
              0.1111111111111111,
              "#46039f"
             ],
             [
              0.2222222222222222,
              "#7201a8"
             ],
             [
              0.3333333333333333,
              "#9c179e"
             ],
             [
              0.4444444444444444,
              "#bd3786"
             ],
             [
              0.5555555555555556,
              "#d8576b"
             ],
             [
              0.6666666666666666,
              "#ed7953"
             ],
             [
              0.7777777777777778,
              "#fb9f3a"
             ],
             [
              0.8888888888888888,
              "#fdca26"
             ],
             [
              1,
              "#f0f921"
             ]
            ],
            "type": "histogram2d"
           }
          ],
          "histogram2dcontour": [
           {
            "colorbar": {
             "outlinewidth": 0,
             "ticks": ""
            },
            "colorscale": [
             [
              0,
              "#0d0887"
             ],
             [
              0.1111111111111111,
              "#46039f"
             ],
             [
              0.2222222222222222,
              "#7201a8"
             ],
             [
              0.3333333333333333,
              "#9c179e"
             ],
             [
              0.4444444444444444,
              "#bd3786"
             ],
             [
              0.5555555555555556,
              "#d8576b"
             ],
             [
              0.6666666666666666,
              "#ed7953"
             ],
             [
              0.7777777777777778,
              "#fb9f3a"
             ],
             [
              0.8888888888888888,
              "#fdca26"
             ],
             [
              1,
              "#f0f921"
             ]
            ],
            "type": "histogram2dcontour"
           }
          ],
          "mesh3d": [
           {
            "colorbar": {
             "outlinewidth": 0,
             "ticks": ""
            },
            "type": "mesh3d"
           }
          ],
          "parcoords": [
           {
            "line": {
             "colorbar": {
              "outlinewidth": 0,
              "ticks": ""
             }
            },
            "type": "parcoords"
           }
          ],
          "pie": [
           {
            "automargin": true,
            "type": "pie"
           }
          ],
          "scatter": [
           {
            "fillpattern": {
             "fillmode": "overlay",
             "size": 10,
             "solidity": 0.2
            },
            "type": "scatter"
           }
          ],
          "scatter3d": [
           {
            "line": {
             "colorbar": {
              "outlinewidth": 0,
              "ticks": ""
             }
            },
            "marker": {
             "colorbar": {
              "outlinewidth": 0,
              "ticks": ""
             }
            },
            "type": "scatter3d"
           }
          ],
          "scattercarpet": [
           {
            "marker": {
             "colorbar": {
              "outlinewidth": 0,
              "ticks": ""
             }
            },
            "type": "scattercarpet"
           }
          ],
          "scattergeo": [
           {
            "marker": {
             "colorbar": {
              "outlinewidth": 0,
              "ticks": ""
             }
            },
            "type": "scattergeo"
           }
          ],
          "scattergl": [
           {
            "marker": {
             "colorbar": {
              "outlinewidth": 0,
              "ticks": ""
             }
            },
            "type": "scattergl"
           }
          ],
          "scattermapbox": [
           {
            "marker": {
             "colorbar": {
              "outlinewidth": 0,
              "ticks": ""
             }
            },
            "type": "scattermapbox"
           }
          ],
          "scatterpolar": [
           {
            "marker": {
             "colorbar": {
              "outlinewidth": 0,
              "ticks": ""
             }
            },
            "type": "scatterpolar"
           }
          ],
          "scatterpolargl": [
           {
            "marker": {
             "colorbar": {
              "outlinewidth": 0,
              "ticks": ""
             }
            },
            "type": "scatterpolargl"
           }
          ],
          "scatterternary": [
           {
            "marker": {
             "colorbar": {
              "outlinewidth": 0,
              "ticks": ""
             }
            },
            "type": "scatterternary"
           }
          ],
          "surface": [
           {
            "colorbar": {
             "outlinewidth": 0,
             "ticks": ""
            },
            "colorscale": [
             [
              0,
              "#0d0887"
             ],
             [
              0.1111111111111111,
              "#46039f"
             ],
             [
              0.2222222222222222,
              "#7201a8"
             ],
             [
              0.3333333333333333,
              "#9c179e"
             ],
             [
              0.4444444444444444,
              "#bd3786"
             ],
             [
              0.5555555555555556,
              "#d8576b"
             ],
             [
              0.6666666666666666,
              "#ed7953"
             ],
             [
              0.7777777777777778,
              "#fb9f3a"
             ],
             [
              0.8888888888888888,
              "#fdca26"
             ],
             [
              1,
              "#f0f921"
             ]
            ],
            "type": "surface"
           }
          ],
          "table": [
           {
            "cells": {
             "fill": {
              "color": "#EBF0F8"
             },
             "line": {
              "color": "white"
             }
            },
            "header": {
             "fill": {
              "color": "#C8D4E3"
             },
             "line": {
              "color": "white"
             }
            },
            "type": "table"
           }
          ]
         },
         "layout": {
          "annotationdefaults": {
           "arrowcolor": "#2a3f5f",
           "arrowhead": 0,
           "arrowwidth": 1
          },
          "autotypenumbers": "strict",
          "coloraxis": {
           "colorbar": {
            "outlinewidth": 0,
            "ticks": ""
           }
          },
          "colorscale": {
           "diverging": [
            [
             0,
             "#8e0152"
            ],
            [
             0.1,
             "#c51b7d"
            ],
            [
             0.2,
             "#de77ae"
            ],
            [
             0.3,
             "#f1b6da"
            ],
            [
             0.4,
             "#fde0ef"
            ],
            [
             0.5,
             "#f7f7f7"
            ],
            [
             0.6,
             "#e6f5d0"
            ],
            [
             0.7,
             "#b8e186"
            ],
            [
             0.8,
             "#7fbc41"
            ],
            [
             0.9,
             "#4d9221"
            ],
            [
             1,
             "#276419"
            ]
           ],
           "sequential": [
            [
             0,
             "#0d0887"
            ],
            [
             0.1111111111111111,
             "#46039f"
            ],
            [
             0.2222222222222222,
             "#7201a8"
            ],
            [
             0.3333333333333333,
             "#9c179e"
            ],
            [
             0.4444444444444444,
             "#bd3786"
            ],
            [
             0.5555555555555556,
             "#d8576b"
            ],
            [
             0.6666666666666666,
             "#ed7953"
            ],
            [
             0.7777777777777778,
             "#fb9f3a"
            ],
            [
             0.8888888888888888,
             "#fdca26"
            ],
            [
             1,
             "#f0f921"
            ]
           ],
           "sequentialminus": [
            [
             0,
             "#0d0887"
            ],
            [
             0.1111111111111111,
             "#46039f"
            ],
            [
             0.2222222222222222,
             "#7201a8"
            ],
            [
             0.3333333333333333,
             "#9c179e"
            ],
            [
             0.4444444444444444,
             "#bd3786"
            ],
            [
             0.5555555555555556,
             "#d8576b"
            ],
            [
             0.6666666666666666,
             "#ed7953"
            ],
            [
             0.7777777777777778,
             "#fb9f3a"
            ],
            [
             0.8888888888888888,
             "#fdca26"
            ],
            [
             1,
             "#f0f921"
            ]
           ]
          },
          "colorway": [
           "#636efa",
           "#EF553B",
           "#00cc96",
           "#ab63fa",
           "#FFA15A",
           "#19d3f3",
           "#FF6692",
           "#B6E880",
           "#FF97FF",
           "#FECB52"
          ],
          "font": {
           "color": "#2a3f5f"
          },
          "geo": {
           "bgcolor": "white",
           "lakecolor": "white",
           "landcolor": "#E5ECF6",
           "showlakes": true,
           "showland": true,
           "subunitcolor": "white"
          },
          "hoverlabel": {
           "align": "left"
          },
          "hovermode": "closest",
          "mapbox": {
           "style": "light"
          },
          "paper_bgcolor": "white",
          "plot_bgcolor": "#E5ECF6",
          "polar": {
           "angularaxis": {
            "gridcolor": "white",
            "linecolor": "white",
            "ticks": ""
           },
           "bgcolor": "#E5ECF6",
           "radialaxis": {
            "gridcolor": "white",
            "linecolor": "white",
            "ticks": ""
           }
          },
          "scene": {
           "xaxis": {
            "backgroundcolor": "#E5ECF6",
            "gridcolor": "white",
            "gridwidth": 2,
            "linecolor": "white",
            "showbackground": true,
            "ticks": "",
            "zerolinecolor": "white"
           },
           "yaxis": {
            "backgroundcolor": "#E5ECF6",
            "gridcolor": "white",
            "gridwidth": 2,
            "linecolor": "white",
            "showbackground": true,
            "ticks": "",
            "zerolinecolor": "white"
           },
           "zaxis": {
            "backgroundcolor": "#E5ECF6",
            "gridcolor": "white",
            "gridwidth": 2,
            "linecolor": "white",
            "showbackground": true,
            "ticks": "",
            "zerolinecolor": "white"
           }
          },
          "shapedefaults": {
           "line": {
            "color": "#2a3f5f"
           }
          },
          "ternary": {
           "aaxis": {
            "gridcolor": "white",
            "linecolor": "white",
            "ticks": ""
           },
           "baxis": {
            "gridcolor": "white",
            "linecolor": "white",
            "ticks": ""
           },
           "bgcolor": "#E5ECF6",
           "caxis": {
            "gridcolor": "white",
            "linecolor": "white",
            "ticks": ""
           }
          },
          "title": {
           "x": 0.05
          },
          "xaxis": {
           "automargin": true,
           "gridcolor": "white",
           "linecolor": "white",
           "ticks": "",
           "title": {
            "standoff": 15
           },
           "zerolinecolor": "white",
           "zerolinewidth": 2
          },
          "yaxis": {
           "automargin": true,
           "gridcolor": "white",
           "linecolor": "white",
           "ticks": "",
           "title": {
            "standoff": 15
           },
           "zerolinecolor": "white",
           "zerolinewidth": 2
          }
         }
        },
        "xaxis": {
         "anchor": "y",
         "domain": [
          0,
          0.7363
         ],
         "title": {
          "text": "eventF1"
         }
        },
        "xaxis2": {
         "anchor": "y2",
         "domain": [
          0.7413,
          1
         ],
         "matches": "x2",
         "showgrid": true,
         "showline": false,
         "showticklabels": false,
         "ticks": ""
        },
        "yaxis": {
         "anchor": "x",
         "domain": [
          0,
          1
         ],
         "title": {
          "text": "eventPrecision"
         }
        },
        "yaxis2": {
         "anchor": "x2",
         "domain": [
          0,
          1
         ],
         "matches": "y",
         "showgrid": true,
         "showticklabels": false
        }
       }
      }
     },
     "metadata": {},
     "output_type": "display_data"
    }
   ],
   "source": [
    "fig=px.scatter(experimentModels,x='eventF1',y='eventPrecision',color='test',hover_name='modelId', marginal_y=\"histogram\")\n",
    "fig.add_trace(\n",
    "    go.Scatter(x=experimentModels['eventF1'], y=experimentModels['eventF1'], name=\"identity\", mode='lines',fill=\"toself\")\n",
    ")\n",
    "fig.show()"
   ]
  },
  {
   "cell_type": "code",
   "execution_count": 24,
   "metadata": {},
   "outputs": [
    {
     "data": {
      "application/vnd.plotly.v1+json": {
       "config": {
        "plotlyServerURL": "https://plot.ly"
       },
       "data": [
        {
         "hovertemplate": "<b>%{hovertext}</b><br><br>test=0002<br>eventF1=%{x}<br>eventRecall=%{y}<extra></extra>",
         "hovertext": [
          "ca4abebe-7534-4387-9f7e-7e56aeb102df"
         ],
         "legendgroup": "0002",
         "marker": {
          "color": "#636efa",
          "symbol": "circle"
         },
         "mode": "markers",
         "name": "0002",
         "orientation": "v",
         "showlegend": true,
         "type": "scatter",
         "x": [
          0.6870748299319728
         ],
         "xaxis": "x",
         "y": [
          0.6291666666666667
         ],
         "yaxis": "y"
        },
        {
         "alignmentgroup": "True",
         "bingroup": "y",
         "hovertemplate": "test=0002<br>eventRecall=%{y}<br>count=%{x}<extra></extra>",
         "legendgroup": "0002",
         "marker": {
          "color": "#636efa"
         },
         "name": "0002",
         "offsetgroup": "0002",
         "opacity": 0.5,
         "showlegend": false,
         "type": "histogram",
         "xaxis": "x2",
         "y": [
          0.6291666666666667
         ],
         "yaxis": "y2"
        },
        {
         "hovertemplate": "<b>%{hovertext}</b><br><br>test=0003<br>eventF1=%{x}<br>eventRecall=%{y}<extra></extra>",
         "hovertext": [
          "ec345db7-d0e7-447a-a219-52693d52bf41"
         ],
         "legendgroup": "0003",
         "marker": {
          "color": "#EF553B",
          "symbol": "circle"
         },
         "mode": "markers",
         "name": "0003",
         "orientation": "v",
         "showlegend": true,
         "type": "scatter",
         "x": [
          0.8442272449602932
         ],
         "xaxis": "x",
         "y": [
          0.8115429917550059
         ],
         "yaxis": "y"
        },
        {
         "alignmentgroup": "True",
         "bingroup": "y",
         "hovertemplate": "test=0003<br>eventRecall=%{y}<br>count=%{x}<extra></extra>",
         "legendgroup": "0003",
         "marker": {
          "color": "#EF553B"
         },
         "name": "0003",
         "offsetgroup": "0003",
         "opacity": 0.5,
         "showlegend": false,
         "type": "histogram",
         "xaxis": "x2",
         "y": [
          0.8115429917550059
         ],
         "yaxis": "y2"
        },
        {
         "hovertemplate": "<b>%{hovertext}</b><br><br>test=0004<br>eventF1=%{x}<br>eventRecall=%{y}<extra></extra>",
         "hovertext": [
          "5efd55af-ba1f-4dd8-905e-9279a3c25d07"
         ],
         "legendgroup": "0004",
         "marker": {
          "color": "#00cc96",
          "symbol": "circle"
         },
         "mode": "markers",
         "name": "0004",
         "orientation": "v",
         "showlegend": true,
         "type": "scatter",
         "x": [
          0.764512595837897
         ],
         "xaxis": "x",
         "y": [
          0.8305489260143198
         ],
         "yaxis": "y"
        },
        {
         "alignmentgroup": "True",
         "bingroup": "y",
         "hovertemplate": "test=0004<br>eventRecall=%{y}<br>count=%{x}<extra></extra>",
         "legendgroup": "0004",
         "marker": {
          "color": "#00cc96"
         },
         "name": "0004",
         "offsetgroup": "0004",
         "opacity": 0.5,
         "showlegend": false,
         "type": "histogram",
         "xaxis": "x2",
         "y": [
          0.8305489260143198
         ],
         "yaxis": "y2"
        },
        {
         "hovertemplate": "<b>%{hovertext}</b><br><br>test=0005<br>eventF1=%{x}<br>eventRecall=%{y}<extra></extra>",
         "hovertext": [
          "79b2270a-cfb8-4f96-987a-040fa3dc0386"
         ],
         "legendgroup": "0005",
         "marker": {
          "color": "#ab63fa",
          "symbol": "circle"
         },
         "mode": "markers",
         "name": "0005",
         "orientation": "v",
         "showlegend": true,
         "type": "scatter",
         "x": [
          0.6293929712460063
         ],
         "xaxis": "x",
         "y": [
          0.930379746835443
         ],
         "yaxis": "y"
        },
        {
         "alignmentgroup": "True",
         "bingroup": "y",
         "hovertemplate": "test=0005<br>eventRecall=%{y}<br>count=%{x}<extra></extra>",
         "legendgroup": "0005",
         "marker": {
          "color": "#ab63fa"
         },
         "name": "0005",
         "offsetgroup": "0005",
         "opacity": 0.5,
         "showlegend": false,
         "type": "histogram",
         "xaxis": "x2",
         "y": [
          0.930379746835443
         ],
         "yaxis": "y2"
        },
        {
         "hovertemplate": "<b>%{hovertext}</b><br><br>test=0006<br>eventF1=%{x}<br>eventRecall=%{y}<extra></extra>",
         "hovertext": [
          "b1cb5f16-0c62-4dd7-b5d9-16fae63b28c5"
         ],
         "legendgroup": "0006",
         "marker": {
          "color": "#FFA15A",
          "symbol": "circle"
         },
         "mode": "markers",
         "name": "0006",
         "orientation": "v",
         "showlegend": true,
         "type": "scatter",
         "x": [
          0.6447811447811448
         ],
         "xaxis": "x",
         "y": [
          0.8451327433628318
         ],
         "yaxis": "y"
        },
        {
         "alignmentgroup": "True",
         "bingroup": "y",
         "hovertemplate": "test=0006<br>eventRecall=%{y}<br>count=%{x}<extra></extra>",
         "legendgroup": "0006",
         "marker": {
          "color": "#FFA15A"
         },
         "name": "0006",
         "offsetgroup": "0006",
         "opacity": 0.5,
         "showlegend": false,
         "type": "histogram",
         "xaxis": "x2",
         "y": [
          0.8451327433628318
         ],
         "yaxis": "y2"
        },
        {
         "hovertemplate": "<b>%{hovertext}</b><br><br>test=0007<br>eventF1=%{x}<br>eventRecall=%{y}<extra></extra>",
         "hovertext": [
          "28b0a080-fdd1-4b49-97d4-f98a8671c508"
         ],
         "legendgroup": "0007",
         "marker": {
          "color": "#19d3f3",
          "symbol": "circle"
         },
         "mode": "markers",
         "name": "0007",
         "orientation": "v",
         "showlegend": true,
         "type": "scatter",
         "x": [
          0.6977363515312917
         ],
         "xaxis": "x",
         "y": [
          0.7043010752688172
         ],
         "yaxis": "y"
        },
        {
         "alignmentgroup": "True",
         "bingroup": "y",
         "hovertemplate": "test=0007<br>eventRecall=%{y}<br>count=%{x}<extra></extra>",
         "legendgroup": "0007",
         "marker": {
          "color": "#19d3f3"
         },
         "name": "0007",
         "offsetgroup": "0007",
         "opacity": 0.5,
         "showlegend": false,
         "type": "histogram",
         "xaxis": "x2",
         "y": [
          0.7043010752688172
         ],
         "yaxis": "y2"
        },
        {
         "hovertemplate": "<b>%{hovertext}</b><br><br>test=0008<br>eventF1=%{x}<br>eventRecall=%{y}<extra></extra>",
         "hovertext": [
          "acc1aab9-4594-40ce-8d0c-f2111f7a6c69"
         ],
         "legendgroup": "0008",
         "marker": {
          "color": "#FF6692",
          "symbol": "circle"
         },
         "mode": "markers",
         "name": "0008",
         "orientation": "v",
         "showlegend": true,
         "type": "scatter",
         "x": [
          0.5894736842105263
         ],
         "xaxis": "x",
         "y": [
          0.5957446808510638
         ],
         "yaxis": "y"
        },
        {
         "alignmentgroup": "True",
         "bingroup": "y",
         "hovertemplate": "test=0008<br>eventRecall=%{y}<br>count=%{x}<extra></extra>",
         "legendgroup": "0008",
         "marker": {
          "color": "#FF6692"
         },
         "name": "0008",
         "offsetgroup": "0008",
         "opacity": 0.5,
         "showlegend": false,
         "type": "histogram",
         "xaxis": "x2",
         "y": [
          0.5957446808510638
         ],
         "yaxis": "y2"
        },
        {
         "fill": "toself",
         "mode": "lines",
         "name": "identity",
         "type": "scatter",
         "x": [
          0.6870748299319728,
          0.8442272449602932,
          0.764512595837897,
          0.6293929712460063,
          0.6447811447811448,
          0.6977363515312917,
          0.5894736842105263
         ],
         "y": [
          0.6870748299319728,
          0.8442272449602932,
          0.764512595837897,
          0.6293929712460063,
          0.6447811447811448,
          0.6977363515312917,
          0.5894736842105263
         ]
        }
       ],
       "layout": {
        "barmode": "overlay",
        "legend": {
         "title": {
          "text": "test"
         },
         "tracegroupgap": 0
        },
        "margin": {
         "t": 60
        },
        "template": {
         "data": {
          "bar": [
           {
            "error_x": {
             "color": "#2a3f5f"
            },
            "error_y": {
             "color": "#2a3f5f"
            },
            "marker": {
             "line": {
              "color": "#E5ECF6",
              "width": 0.5
             },
             "pattern": {
              "fillmode": "overlay",
              "size": 10,
              "solidity": 0.2
             }
            },
            "type": "bar"
           }
          ],
          "barpolar": [
           {
            "marker": {
             "line": {
              "color": "#E5ECF6",
              "width": 0.5
             },
             "pattern": {
              "fillmode": "overlay",
              "size": 10,
              "solidity": 0.2
             }
            },
            "type": "barpolar"
           }
          ],
          "carpet": [
           {
            "aaxis": {
             "endlinecolor": "#2a3f5f",
             "gridcolor": "white",
             "linecolor": "white",
             "minorgridcolor": "white",
             "startlinecolor": "#2a3f5f"
            },
            "baxis": {
             "endlinecolor": "#2a3f5f",
             "gridcolor": "white",
             "linecolor": "white",
             "minorgridcolor": "white",
             "startlinecolor": "#2a3f5f"
            },
            "type": "carpet"
           }
          ],
          "choropleth": [
           {
            "colorbar": {
             "outlinewidth": 0,
             "ticks": ""
            },
            "type": "choropleth"
           }
          ],
          "contour": [
           {
            "colorbar": {
             "outlinewidth": 0,
             "ticks": ""
            },
            "colorscale": [
             [
              0,
              "#0d0887"
             ],
             [
              0.1111111111111111,
              "#46039f"
             ],
             [
              0.2222222222222222,
              "#7201a8"
             ],
             [
              0.3333333333333333,
              "#9c179e"
             ],
             [
              0.4444444444444444,
              "#bd3786"
             ],
             [
              0.5555555555555556,
              "#d8576b"
             ],
             [
              0.6666666666666666,
              "#ed7953"
             ],
             [
              0.7777777777777778,
              "#fb9f3a"
             ],
             [
              0.8888888888888888,
              "#fdca26"
             ],
             [
              1,
              "#f0f921"
             ]
            ],
            "type": "contour"
           }
          ],
          "contourcarpet": [
           {
            "colorbar": {
             "outlinewidth": 0,
             "ticks": ""
            },
            "type": "contourcarpet"
           }
          ],
          "heatmap": [
           {
            "colorbar": {
             "outlinewidth": 0,
             "ticks": ""
            },
            "colorscale": [
             [
              0,
              "#0d0887"
             ],
             [
              0.1111111111111111,
              "#46039f"
             ],
             [
              0.2222222222222222,
              "#7201a8"
             ],
             [
              0.3333333333333333,
              "#9c179e"
             ],
             [
              0.4444444444444444,
              "#bd3786"
             ],
             [
              0.5555555555555556,
              "#d8576b"
             ],
             [
              0.6666666666666666,
              "#ed7953"
             ],
             [
              0.7777777777777778,
              "#fb9f3a"
             ],
             [
              0.8888888888888888,
              "#fdca26"
             ],
             [
              1,
              "#f0f921"
             ]
            ],
            "type": "heatmap"
           }
          ],
          "heatmapgl": [
           {
            "colorbar": {
             "outlinewidth": 0,
             "ticks": ""
            },
            "colorscale": [
             [
              0,
              "#0d0887"
             ],
             [
              0.1111111111111111,
              "#46039f"
             ],
             [
              0.2222222222222222,
              "#7201a8"
             ],
             [
              0.3333333333333333,
              "#9c179e"
             ],
             [
              0.4444444444444444,
              "#bd3786"
             ],
             [
              0.5555555555555556,
              "#d8576b"
             ],
             [
              0.6666666666666666,
              "#ed7953"
             ],
             [
              0.7777777777777778,
              "#fb9f3a"
             ],
             [
              0.8888888888888888,
              "#fdca26"
             ],
             [
              1,
              "#f0f921"
             ]
            ],
            "type": "heatmapgl"
           }
          ],
          "histogram": [
           {
            "marker": {
             "pattern": {
              "fillmode": "overlay",
              "size": 10,
              "solidity": 0.2
             }
            },
            "type": "histogram"
           }
          ],
          "histogram2d": [
           {
            "colorbar": {
             "outlinewidth": 0,
             "ticks": ""
            },
            "colorscale": [
             [
              0,
              "#0d0887"
             ],
             [
              0.1111111111111111,
              "#46039f"
             ],
             [
              0.2222222222222222,
              "#7201a8"
             ],
             [
              0.3333333333333333,
              "#9c179e"
             ],
             [
              0.4444444444444444,
              "#bd3786"
             ],
             [
              0.5555555555555556,
              "#d8576b"
             ],
             [
              0.6666666666666666,
              "#ed7953"
             ],
             [
              0.7777777777777778,
              "#fb9f3a"
             ],
             [
              0.8888888888888888,
              "#fdca26"
             ],
             [
              1,
              "#f0f921"
             ]
            ],
            "type": "histogram2d"
           }
          ],
          "histogram2dcontour": [
           {
            "colorbar": {
             "outlinewidth": 0,
             "ticks": ""
            },
            "colorscale": [
             [
              0,
              "#0d0887"
             ],
             [
              0.1111111111111111,
              "#46039f"
             ],
             [
              0.2222222222222222,
              "#7201a8"
             ],
             [
              0.3333333333333333,
              "#9c179e"
             ],
             [
              0.4444444444444444,
              "#bd3786"
             ],
             [
              0.5555555555555556,
              "#d8576b"
             ],
             [
              0.6666666666666666,
              "#ed7953"
             ],
             [
              0.7777777777777778,
              "#fb9f3a"
             ],
             [
              0.8888888888888888,
              "#fdca26"
             ],
             [
              1,
              "#f0f921"
             ]
            ],
            "type": "histogram2dcontour"
           }
          ],
          "mesh3d": [
           {
            "colorbar": {
             "outlinewidth": 0,
             "ticks": ""
            },
            "type": "mesh3d"
           }
          ],
          "parcoords": [
           {
            "line": {
             "colorbar": {
              "outlinewidth": 0,
              "ticks": ""
             }
            },
            "type": "parcoords"
           }
          ],
          "pie": [
           {
            "automargin": true,
            "type": "pie"
           }
          ],
          "scatter": [
           {
            "fillpattern": {
             "fillmode": "overlay",
             "size": 10,
             "solidity": 0.2
            },
            "type": "scatter"
           }
          ],
          "scatter3d": [
           {
            "line": {
             "colorbar": {
              "outlinewidth": 0,
              "ticks": ""
             }
            },
            "marker": {
             "colorbar": {
              "outlinewidth": 0,
              "ticks": ""
             }
            },
            "type": "scatter3d"
           }
          ],
          "scattercarpet": [
           {
            "marker": {
             "colorbar": {
              "outlinewidth": 0,
              "ticks": ""
             }
            },
            "type": "scattercarpet"
           }
          ],
          "scattergeo": [
           {
            "marker": {
             "colorbar": {
              "outlinewidth": 0,
              "ticks": ""
             }
            },
            "type": "scattergeo"
           }
          ],
          "scattergl": [
           {
            "marker": {
             "colorbar": {
              "outlinewidth": 0,
              "ticks": ""
             }
            },
            "type": "scattergl"
           }
          ],
          "scattermapbox": [
           {
            "marker": {
             "colorbar": {
              "outlinewidth": 0,
              "ticks": ""
             }
            },
            "type": "scattermapbox"
           }
          ],
          "scatterpolar": [
           {
            "marker": {
             "colorbar": {
              "outlinewidth": 0,
              "ticks": ""
             }
            },
            "type": "scatterpolar"
           }
          ],
          "scatterpolargl": [
           {
            "marker": {
             "colorbar": {
              "outlinewidth": 0,
              "ticks": ""
             }
            },
            "type": "scatterpolargl"
           }
          ],
          "scatterternary": [
           {
            "marker": {
             "colorbar": {
              "outlinewidth": 0,
              "ticks": ""
             }
            },
            "type": "scatterternary"
           }
          ],
          "surface": [
           {
            "colorbar": {
             "outlinewidth": 0,
             "ticks": ""
            },
            "colorscale": [
             [
              0,
              "#0d0887"
             ],
             [
              0.1111111111111111,
              "#46039f"
             ],
             [
              0.2222222222222222,
              "#7201a8"
             ],
             [
              0.3333333333333333,
              "#9c179e"
             ],
             [
              0.4444444444444444,
              "#bd3786"
             ],
             [
              0.5555555555555556,
              "#d8576b"
             ],
             [
              0.6666666666666666,
              "#ed7953"
             ],
             [
              0.7777777777777778,
              "#fb9f3a"
             ],
             [
              0.8888888888888888,
              "#fdca26"
             ],
             [
              1,
              "#f0f921"
             ]
            ],
            "type": "surface"
           }
          ],
          "table": [
           {
            "cells": {
             "fill": {
              "color": "#EBF0F8"
             },
             "line": {
              "color": "white"
             }
            },
            "header": {
             "fill": {
              "color": "#C8D4E3"
             },
             "line": {
              "color": "white"
             }
            },
            "type": "table"
           }
          ]
         },
         "layout": {
          "annotationdefaults": {
           "arrowcolor": "#2a3f5f",
           "arrowhead": 0,
           "arrowwidth": 1
          },
          "autotypenumbers": "strict",
          "coloraxis": {
           "colorbar": {
            "outlinewidth": 0,
            "ticks": ""
           }
          },
          "colorscale": {
           "diverging": [
            [
             0,
             "#8e0152"
            ],
            [
             0.1,
             "#c51b7d"
            ],
            [
             0.2,
             "#de77ae"
            ],
            [
             0.3,
             "#f1b6da"
            ],
            [
             0.4,
             "#fde0ef"
            ],
            [
             0.5,
             "#f7f7f7"
            ],
            [
             0.6,
             "#e6f5d0"
            ],
            [
             0.7,
             "#b8e186"
            ],
            [
             0.8,
             "#7fbc41"
            ],
            [
             0.9,
             "#4d9221"
            ],
            [
             1,
             "#276419"
            ]
           ],
           "sequential": [
            [
             0,
             "#0d0887"
            ],
            [
             0.1111111111111111,
             "#46039f"
            ],
            [
             0.2222222222222222,
             "#7201a8"
            ],
            [
             0.3333333333333333,
             "#9c179e"
            ],
            [
             0.4444444444444444,
             "#bd3786"
            ],
            [
             0.5555555555555556,
             "#d8576b"
            ],
            [
             0.6666666666666666,
             "#ed7953"
            ],
            [
             0.7777777777777778,
             "#fb9f3a"
            ],
            [
             0.8888888888888888,
             "#fdca26"
            ],
            [
             1,
             "#f0f921"
            ]
           ],
           "sequentialminus": [
            [
             0,
             "#0d0887"
            ],
            [
             0.1111111111111111,
             "#46039f"
            ],
            [
             0.2222222222222222,
             "#7201a8"
            ],
            [
             0.3333333333333333,
             "#9c179e"
            ],
            [
             0.4444444444444444,
             "#bd3786"
            ],
            [
             0.5555555555555556,
             "#d8576b"
            ],
            [
             0.6666666666666666,
             "#ed7953"
            ],
            [
             0.7777777777777778,
             "#fb9f3a"
            ],
            [
             0.8888888888888888,
             "#fdca26"
            ],
            [
             1,
             "#f0f921"
            ]
           ]
          },
          "colorway": [
           "#636efa",
           "#EF553B",
           "#00cc96",
           "#ab63fa",
           "#FFA15A",
           "#19d3f3",
           "#FF6692",
           "#B6E880",
           "#FF97FF",
           "#FECB52"
          ],
          "font": {
           "color": "#2a3f5f"
          },
          "geo": {
           "bgcolor": "white",
           "lakecolor": "white",
           "landcolor": "#E5ECF6",
           "showlakes": true,
           "showland": true,
           "subunitcolor": "white"
          },
          "hoverlabel": {
           "align": "left"
          },
          "hovermode": "closest",
          "mapbox": {
           "style": "light"
          },
          "paper_bgcolor": "white",
          "plot_bgcolor": "#E5ECF6",
          "polar": {
           "angularaxis": {
            "gridcolor": "white",
            "linecolor": "white",
            "ticks": ""
           },
           "bgcolor": "#E5ECF6",
           "radialaxis": {
            "gridcolor": "white",
            "linecolor": "white",
            "ticks": ""
           }
          },
          "scene": {
           "xaxis": {
            "backgroundcolor": "#E5ECF6",
            "gridcolor": "white",
            "gridwidth": 2,
            "linecolor": "white",
            "showbackground": true,
            "ticks": "",
            "zerolinecolor": "white"
           },
           "yaxis": {
            "backgroundcolor": "#E5ECF6",
            "gridcolor": "white",
            "gridwidth": 2,
            "linecolor": "white",
            "showbackground": true,
            "ticks": "",
            "zerolinecolor": "white"
           },
           "zaxis": {
            "backgroundcolor": "#E5ECF6",
            "gridcolor": "white",
            "gridwidth": 2,
            "linecolor": "white",
            "showbackground": true,
            "ticks": "",
            "zerolinecolor": "white"
           }
          },
          "shapedefaults": {
           "line": {
            "color": "#2a3f5f"
           }
          },
          "ternary": {
           "aaxis": {
            "gridcolor": "white",
            "linecolor": "white",
            "ticks": ""
           },
           "baxis": {
            "gridcolor": "white",
            "linecolor": "white",
            "ticks": ""
           },
           "bgcolor": "#E5ECF6",
           "caxis": {
            "gridcolor": "white",
            "linecolor": "white",
            "ticks": ""
           }
          },
          "title": {
           "x": 0.05
          },
          "xaxis": {
           "automargin": true,
           "gridcolor": "white",
           "linecolor": "white",
           "ticks": "",
           "title": {
            "standoff": 15
           },
           "zerolinecolor": "white",
           "zerolinewidth": 2
          },
          "yaxis": {
           "automargin": true,
           "gridcolor": "white",
           "linecolor": "white",
           "ticks": "",
           "title": {
            "standoff": 15
           },
           "zerolinecolor": "white",
           "zerolinewidth": 2
          }
         }
        },
        "xaxis": {
         "anchor": "y",
         "domain": [
          0,
          0.7363
         ],
         "title": {
          "text": "eventF1"
         }
        },
        "xaxis2": {
         "anchor": "y2",
         "domain": [
          0.7413,
          1
         ],
         "matches": "x2",
         "showgrid": true,
         "showline": false,
         "showticklabels": false,
         "ticks": ""
        },
        "yaxis": {
         "anchor": "x",
         "domain": [
          0,
          1
         ],
         "title": {
          "text": "eventRecall"
         }
        },
        "yaxis2": {
         "anchor": "x2",
         "domain": [
          0,
          1
         ],
         "matches": "y",
         "showgrid": true,
         "showticklabels": false
        }
       }
      }
     },
     "metadata": {},
     "output_type": "display_data"
    }
   ],
   "source": [
    "fig=px.scatter(experimentModels,x='eventF1',y='eventRecall',color='test',hover_name='modelId', marginal_y=\"histogram\")\n",
    "fig.add_trace(\n",
    "    go.Scatter(x=experimentModels['eventF1'], y=experimentModels['eventF1'], name=\"identity\", mode='lines',fill=\"toself\")\n",
    ")\n",
    "fig.show()"
   ]
  },
  {
   "cell_type": "code",
   "execution_count": 25,
   "metadata": {},
   "outputs": [
    {
     "data": {
      "text/html": [
       "<div>\n",
       "<style scoped>\n",
       "    .dataframe tbody tr th:only-of-type {\n",
       "        vertical-align: middle;\n",
       "    }\n",
       "\n",
       "    .dataframe tbody tr th {\n",
       "        vertical-align: top;\n",
       "    }\n",
       "\n",
       "    .dataframe thead tr th {\n",
       "        text-align: left;\n",
       "    }\n",
       "\n",
       "    .dataframe thead tr:last-of-type th {\n",
       "        text-align: right;\n",
       "    }\n",
       "</style>\n",
       "<table border=\"1\" class=\"dataframe\">\n",
       "  <thead>\n",
       "    <tr>\n",
       "      <th></th>\n",
       "      <th colspan=\"6\" halign=\"left\">eventF1</th>\n",
       "      <th colspan=\"6\" halign=\"left\">eventPrecision</th>\n",
       "      <th colspan=\"6\" halign=\"left\">eventRecall</th>\n",
       "    </tr>\n",
       "    <tr>\n",
       "      <th></th>\n",
       "      <th>count</th>\n",
       "      <th>mean</th>\n",
       "      <th>std</th>\n",
       "      <th>min</th>\n",
       "      <th>50%</th>\n",
       "      <th>max</th>\n",
       "      <th>count</th>\n",
       "      <th>mean</th>\n",
       "      <th>std</th>\n",
       "      <th>min</th>\n",
       "      <th>50%</th>\n",
       "      <th>max</th>\n",
       "      <th>count</th>\n",
       "      <th>mean</th>\n",
       "      <th>std</th>\n",
       "      <th>min</th>\n",
       "      <th>50%</th>\n",
       "      <th>max</th>\n",
       "    </tr>\n",
       "    <tr>\n",
       "      <th>test</th>\n",
       "      <th></th>\n",
       "      <th></th>\n",
       "      <th></th>\n",
       "      <th></th>\n",
       "      <th></th>\n",
       "      <th></th>\n",
       "      <th></th>\n",
       "      <th></th>\n",
       "      <th></th>\n",
       "      <th></th>\n",
       "      <th></th>\n",
       "      <th></th>\n",
       "      <th></th>\n",
       "      <th></th>\n",
       "      <th></th>\n",
       "      <th></th>\n",
       "      <th></th>\n",
       "      <th></th>\n",
       "    </tr>\n",
       "  </thead>\n",
       "  <tbody>\n",
       "    <tr>\n",
       "      <th>0002</th>\n",
       "      <td>1.0</td>\n",
       "      <td>0.687075</td>\n",
       "      <td>NaN</td>\n",
       "      <td>0.687075</td>\n",
       "      <td>0.687075</td>\n",
       "      <td>0.687075</td>\n",
       "      <td>1.0</td>\n",
       "      <td>0.756219</td>\n",
       "      <td>NaN</td>\n",
       "      <td>0.756219</td>\n",
       "      <td>0.756219</td>\n",
       "      <td>0.756219</td>\n",
       "      <td>1.0</td>\n",
       "      <td>0.629167</td>\n",
       "      <td>NaN</td>\n",
       "      <td>0.629167</td>\n",
       "      <td>0.629167</td>\n",
       "      <td>0.629167</td>\n",
       "    </tr>\n",
       "    <tr>\n",
       "      <th>0003</th>\n",
       "      <td>1.0</td>\n",
       "      <td>0.844227</td>\n",
       "      <td>NaN</td>\n",
       "      <td>0.844227</td>\n",
       "      <td>0.844227</td>\n",
       "      <td>0.844227</td>\n",
       "      <td>1.0</td>\n",
       "      <td>0.879442</td>\n",
       "      <td>NaN</td>\n",
       "      <td>0.879442</td>\n",
       "      <td>0.879442</td>\n",
       "      <td>0.879442</td>\n",
       "      <td>1.0</td>\n",
       "      <td>0.811543</td>\n",
       "      <td>NaN</td>\n",
       "      <td>0.811543</td>\n",
       "      <td>0.811543</td>\n",
       "      <td>0.811543</td>\n",
       "    </tr>\n",
       "    <tr>\n",
       "      <th>0004</th>\n",
       "      <td>1.0</td>\n",
       "      <td>0.764513</td>\n",
       "      <td>NaN</td>\n",
       "      <td>0.764513</td>\n",
       "      <td>0.764513</td>\n",
       "      <td>0.764513</td>\n",
       "      <td>1.0</td>\n",
       "      <td>0.708502</td>\n",
       "      <td>NaN</td>\n",
       "      <td>0.708502</td>\n",
       "      <td>0.708502</td>\n",
       "      <td>0.708502</td>\n",
       "      <td>1.0</td>\n",
       "      <td>0.830549</td>\n",
       "      <td>NaN</td>\n",
       "      <td>0.830549</td>\n",
       "      <td>0.830549</td>\n",
       "      <td>0.830549</td>\n",
       "    </tr>\n",
       "    <tr>\n",
       "      <th>0005</th>\n",
       "      <td>1.0</td>\n",
       "      <td>0.629393</td>\n",
       "      <td>NaN</td>\n",
       "      <td>0.629393</td>\n",
       "      <td>0.629393</td>\n",
       "      <td>0.629393</td>\n",
       "      <td>1.0</td>\n",
       "      <td>0.476726</td>\n",
       "      <td>NaN</td>\n",
       "      <td>0.476726</td>\n",
       "      <td>0.476726</td>\n",
       "      <td>0.476726</td>\n",
       "      <td>1.0</td>\n",
       "      <td>0.930380</td>\n",
       "      <td>NaN</td>\n",
       "      <td>0.930380</td>\n",
       "      <td>0.930380</td>\n",
       "      <td>0.930380</td>\n",
       "    </tr>\n",
       "    <tr>\n",
       "      <th>0006</th>\n",
       "      <td>1.0</td>\n",
       "      <td>0.644781</td>\n",
       "      <td>NaN</td>\n",
       "      <td>0.644781</td>\n",
       "      <td>0.644781</td>\n",
       "      <td>0.644781</td>\n",
       "      <td>1.0</td>\n",
       "      <td>0.521739</td>\n",
       "      <td>NaN</td>\n",
       "      <td>0.521739</td>\n",
       "      <td>0.521739</td>\n",
       "      <td>0.521739</td>\n",
       "      <td>1.0</td>\n",
       "      <td>0.845133</td>\n",
       "      <td>NaN</td>\n",
       "      <td>0.845133</td>\n",
       "      <td>0.845133</td>\n",
       "      <td>0.845133</td>\n",
       "    </tr>\n",
       "    <tr>\n",
       "      <th>0007</th>\n",
       "      <td>1.0</td>\n",
       "      <td>0.697736</td>\n",
       "      <td>NaN</td>\n",
       "      <td>0.697736</td>\n",
       "      <td>0.697736</td>\n",
       "      <td>0.697736</td>\n",
       "      <td>1.0</td>\n",
       "      <td>0.691293</td>\n",
       "      <td>NaN</td>\n",
       "      <td>0.691293</td>\n",
       "      <td>0.691293</td>\n",
       "      <td>0.691293</td>\n",
       "      <td>1.0</td>\n",
       "      <td>0.704301</td>\n",
       "      <td>NaN</td>\n",
       "      <td>0.704301</td>\n",
       "      <td>0.704301</td>\n",
       "      <td>0.704301</td>\n",
       "    </tr>\n",
       "    <tr>\n",
       "      <th>0008</th>\n",
       "      <td>1.0</td>\n",
       "      <td>0.589474</td>\n",
       "      <td>NaN</td>\n",
       "      <td>0.589474</td>\n",
       "      <td>0.589474</td>\n",
       "      <td>0.589474</td>\n",
       "      <td>1.0</td>\n",
       "      <td>0.583333</td>\n",
       "      <td>NaN</td>\n",
       "      <td>0.583333</td>\n",
       "      <td>0.583333</td>\n",
       "      <td>0.583333</td>\n",
       "      <td>1.0</td>\n",
       "      <td>0.595745</td>\n",
       "      <td>NaN</td>\n",
       "      <td>0.595745</td>\n",
       "      <td>0.595745</td>\n",
       "      <td>0.595745</td>\n",
       "    </tr>\n",
       "  </tbody>\n",
       "</table>\n",
       "</div>"
      ],
      "text/plain": [
       "     eventF1                                             eventPrecision  \\\n",
       "       count      mean std       min       50%       max          count   \n",
       "test                                                                      \n",
       "0002     1.0  0.687075 NaN  0.687075  0.687075  0.687075            1.0   \n",
       "0003     1.0  0.844227 NaN  0.844227  0.844227  0.844227            1.0   \n",
       "0004     1.0  0.764513 NaN  0.764513  0.764513  0.764513            1.0   \n",
       "0005     1.0  0.629393 NaN  0.629393  0.629393  0.629393            1.0   \n",
       "0006     1.0  0.644781 NaN  0.644781  0.644781  0.644781            1.0   \n",
       "0007     1.0  0.697736 NaN  0.697736  0.697736  0.697736            1.0   \n",
       "0008     1.0  0.589474 NaN  0.589474  0.589474  0.589474            1.0   \n",
       "\n",
       "                                                 eventRecall                \\\n",
       "          mean std       min       50%       max       count      mean std   \n",
       "test                                                                         \n",
       "0002  0.756219 NaN  0.756219  0.756219  0.756219         1.0  0.629167 NaN   \n",
       "0003  0.879442 NaN  0.879442  0.879442  0.879442         1.0  0.811543 NaN   \n",
       "0004  0.708502 NaN  0.708502  0.708502  0.708502         1.0  0.830549 NaN   \n",
       "0005  0.476726 NaN  0.476726  0.476726  0.476726         1.0  0.930380 NaN   \n",
       "0006  0.521739 NaN  0.521739  0.521739  0.521739         1.0  0.845133 NaN   \n",
       "0007  0.691293 NaN  0.691293  0.691293  0.691293         1.0  0.704301 NaN   \n",
       "0008  0.583333 NaN  0.583333  0.583333  0.583333         1.0  0.595745 NaN   \n",
       "\n",
       "                                    \n",
       "           min       50%       max  \n",
       "test                                \n",
       "0002  0.629167  0.629167  0.629167  \n",
       "0003  0.811543  0.811543  0.811543  \n",
       "0004  0.830549  0.830549  0.830549  \n",
       "0005  0.930380  0.930380  0.930380  \n",
       "0006  0.845133  0.845133  0.845133  \n",
       "0007  0.704301  0.704301  0.704301  \n",
       "0008  0.595745  0.595745  0.595745  "
      ]
     },
     "execution_count": 25,
     "metadata": {},
     "output_type": "execute_result"
    }
   ],
   "source": [
    "experimentModels[['test','eventF1','eventPrecision','eventRecall']].groupby('test').describe(percentiles=[0.5])"
   ]
  },
  {
   "attachments": {},
   "cell_type": "markdown",
   "metadata": {},
   "source": [
    "by-event"
   ]
  },
  {
   "cell_type": "code",
   "execution_count": 26,
   "metadata": {},
   "outputs": [
    {
     "data": {
      "text/html": [
       "<div>\n",
       "<style scoped>\n",
       "    .dataframe tbody tr th:only-of-type {\n",
       "        vertical-align: middle;\n",
       "    }\n",
       "\n",
       "    .dataframe tbody tr th {\n",
       "        vertical-align: top;\n",
       "    }\n",
       "\n",
       "    .dataframe thead th {\n",
       "        text-align: right;\n",
       "    }\n",
       "</style>\n",
       "<table border=\"1\" class=\"dataframe\">\n",
       "  <thead>\n",
       "    <tr style=\"text-align: right;\">\n",
       "      <th></th>\n",
       "      <th>test</th>\n",
       "      <th>eventF1</th>\n",
       "      <th>eventPrecision</th>\n",
       "      <th>eventRecall</th>\n",
       "    </tr>\n",
       "  </thead>\n",
       "  <tbody>\n",
       "    <tr>\n",
       "      <th>0</th>\n",
       "      <td>0002</td>\n",
       "      <td>0.687075</td>\n",
       "      <td>0.756219</td>\n",
       "      <td>0.629167</td>\n",
       "    </tr>\n",
       "    <tr>\n",
       "      <th>1</th>\n",
       "      <td>0003</td>\n",
       "      <td>0.844227</td>\n",
       "      <td>0.879442</td>\n",
       "      <td>0.811543</td>\n",
       "    </tr>\n",
       "    <tr>\n",
       "      <th>2</th>\n",
       "      <td>0004</td>\n",
       "      <td>0.764513</td>\n",
       "      <td>0.708502</td>\n",
       "      <td>0.830549</td>\n",
       "    </tr>\n",
       "    <tr>\n",
       "      <th>3</th>\n",
       "      <td>0005</td>\n",
       "      <td>0.629393</td>\n",
       "      <td>0.476726</td>\n",
       "      <td>0.930380</td>\n",
       "    </tr>\n",
       "    <tr>\n",
       "      <th>4</th>\n",
       "      <td>0006</td>\n",
       "      <td>0.644781</td>\n",
       "      <td>0.521739</td>\n",
       "      <td>0.845133</td>\n",
       "    </tr>\n",
       "    <tr>\n",
       "      <th>5</th>\n",
       "      <td>0007</td>\n",
       "      <td>0.697736</td>\n",
       "      <td>0.691293</td>\n",
       "      <td>0.704301</td>\n",
       "    </tr>\n",
       "    <tr>\n",
       "      <th>6</th>\n",
       "      <td>0008</td>\n",
       "      <td>0.589474</td>\n",
       "      <td>0.583333</td>\n",
       "      <td>0.595745</td>\n",
       "    </tr>\n",
       "  </tbody>\n",
       "</table>\n",
       "</div>"
      ],
      "text/plain": [
       "   test   eventF1  eventPrecision  eventRecall\n",
       "0  0002  0.687075        0.756219     0.629167\n",
       "1  0003  0.844227        0.879442     0.811543\n",
       "2  0004  0.764513        0.708502     0.830549\n",
       "3  0005  0.629393        0.476726     0.930380\n",
       "4  0006  0.644781        0.521739     0.845133\n",
       "5  0007  0.697736        0.691293     0.704301\n",
       "6  0008  0.589474        0.583333     0.595745"
      ]
     },
     "execution_count": 26,
     "metadata": {},
     "output_type": "execute_result"
    }
   ],
   "source": [
    "experimentModels[['test','eventF1','eventPrecision','eventRecall']].groupby('test',as_index=False).mean()"
   ]
  },
  {
   "cell_type": "code",
   "execution_count": 28,
   "metadata": {},
   "outputs": [
    {
     "data": {
      "text/plain": [
       "test              2.857571e+23\n",
       "eventF1           6.938855e-01\n",
       "eventPrecision    6.596076e-01\n",
       "eventRecall       7.638310e-01\n",
       "dtype: float64"
      ]
     },
     "execution_count": 28,
     "metadata": {},
     "output_type": "execute_result"
    }
   ],
   "source": [
    "experimentModels[['test','eventF1','eventPrecision','eventRecall']].groupby('test',as_index=False).mean().mean()"
   ]
  },
  {
   "cell_type": "code",
   "execution_count": 30,
   "metadata": {},
   "outputs": [
    {
     "name": "stderr",
     "output_type": "stream",
     "text": [
      "C:\\Users\\Gurdiel\\AppData\\Local\\Temp\\ipykernel_16484\\2931376690.py:1: FutureWarning:\n",
      "\n",
      "The default value of numeric_only in DataFrame.std is deprecated. In a future version, it will default to False. In addition, specifying 'numeric_only=None' is deprecated. Select only valid columns or specify the value of numeric_only to silence this warning.\n",
      "\n"
     ]
    },
    {
     "data": {
      "text/plain": [
       "eventF1           0.086722\n",
       "eventPrecision    0.141024\n",
       "eventRecall       0.123158\n",
       "dtype: float64"
      ]
     },
     "execution_count": 30,
     "metadata": {},
     "output_type": "execute_result"
    }
   ],
   "source": [
    "experimentModels[['test','eventF1','eventPrecision','eventRecall']].groupby('test',as_index=False).mean().std()"
   ]
  },
  {
   "attachments": {},
   "cell_type": "markdown",
   "metadata": {},
   "source": [
    "by-sample"
   ]
  },
  {
   "cell_type": "code",
   "execution_count": 31,
   "metadata": {},
   "outputs": [
    {
     "data": {
      "text/plain": [
       "test         2.857571e+23\n",
       "f1           6.376633e-01\n",
       "precision    6.725493e-01\n",
       "recall       6.383141e-01\n",
       "dtype: float64"
      ]
     },
     "execution_count": 31,
     "metadata": {},
     "output_type": "execute_result"
    }
   ],
   "source": [
    "experimentModels[['test','f1','precision','recall']].groupby('test',as_index=False).mean().mean()"
   ]
  },
  {
   "cell_type": "code",
   "execution_count": 32,
   "metadata": {},
   "outputs": [
    {
     "name": "stderr",
     "output_type": "stream",
     "text": [
      "C:\\Users\\Gurdiel\\AppData\\Local\\Temp\\ipykernel_16484\\634953098.py:1: FutureWarning:\n",
      "\n",
      "The default value of numeric_only in DataFrame.std is deprecated. In a future version, it will default to False. In addition, specifying 'numeric_only=None' is deprecated. Select only valid columns or specify the value of numeric_only to silence this warning.\n",
      "\n"
     ]
    },
    {
     "data": {
      "text/plain": [
       "f1           0.080581\n",
       "precision    0.149957\n",
       "recall       0.130816\n",
       "dtype: float64"
      ]
     },
     "execution_count": 32,
     "metadata": {},
     "output_type": "execute_result"
    }
   ],
   "source": [
    "experimentModels[['test','f1','precision','recall']].groupby('test',as_index=False).mean().std()"
   ]
  },
  {
   "cell_type": "code",
   "execution_count": 33,
   "metadata": {},
   "outputs": [],
   "source": [
    "auxPrecision=pd.DataFrame({\n",
    "    'metric':'event precision',\n",
    "    'value':experimentModels.eventPrecision,\n",
    "    'event F1':experimentModels.eventF1\n",
    "})\n",
    "\n",
    "auxRecall=pd.DataFrame({\n",
    "    'metric':'event recall',\n",
    "    'value':experimentModels.eventRecall,\n",
    "    'event F1':experimentModels.eventF1\n",
    "})\n",
    "visualTradeoff=pd.concat((auxPrecision,auxRecall))"
   ]
  },
  {
   "cell_type": "code",
   "execution_count": 34,
   "metadata": {},
   "outputs": [
    {
     "data": {
      "application/vnd.plotly.v1+json": {
       "config": {
        "plotlyServerURL": "https://plot.ly"
       },
       "data": [
        {
         "hovertemplate": "metric=event precision<br>event F1=%{x}<br>value=%{y}<extra></extra>",
         "legendgroup": "event precision",
         "marker": {
          "color": "#636efa",
          "symbol": "circle"
         },
         "mode": "markers",
         "name": "event precision",
         "orientation": "v",
         "showlegend": true,
         "type": "scatter",
         "x": [
          0.6870748299319728,
          0.8442272449602932,
          0.764512595837897,
          0.6293929712460063,
          0.6447811447811448,
          0.6977363515312917,
          0.5894736842105263
         ],
         "xaxis": "x",
         "y": [
          0.7562189054726368,
          0.8794416243654822,
          0.708502024291498,
          0.4767255216693419,
          0.5217391304347826,
          0.6912928759894459,
          0.5833333333333334
         ],
         "yaxis": "y"
        },
        {
         "alignmentgroup": "True",
         "bingroup": "y",
         "hovertemplate": "metric=event precision<br>value=%{y}<br>count=%{x}<extra></extra>",
         "legendgroup": "event precision",
         "marker": {
          "color": "#636efa"
         },
         "name": "event precision",
         "offsetgroup": "event precision",
         "opacity": 0.5,
         "showlegend": false,
         "type": "histogram",
         "xaxis": "x2",
         "y": [
          0.7562189054726368,
          0.8794416243654822,
          0.708502024291498,
          0.4767255216693419,
          0.5217391304347826,
          0.6912928759894459,
          0.5833333333333334
         ],
         "yaxis": "y2"
        },
        {
         "hovertemplate": "metric=event recall<br>event F1=%{x}<br>value=%{y}<extra></extra>",
         "legendgroup": "event recall",
         "marker": {
          "color": "#EF553B",
          "symbol": "circle"
         },
         "mode": "markers",
         "name": "event recall",
         "orientation": "v",
         "showlegend": true,
         "type": "scatter",
         "x": [
          0.6870748299319728,
          0.8442272449602932,
          0.764512595837897,
          0.6293929712460063,
          0.6447811447811448,
          0.6977363515312917,
          0.5894736842105263
         ],
         "xaxis": "x",
         "y": [
          0.6291666666666667,
          0.8115429917550059,
          0.8305489260143198,
          0.930379746835443,
          0.8451327433628318,
          0.7043010752688172,
          0.5957446808510638
         ],
         "yaxis": "y"
        },
        {
         "alignmentgroup": "True",
         "bingroup": "y",
         "hovertemplate": "metric=event recall<br>value=%{y}<br>count=%{x}<extra></extra>",
         "legendgroup": "event recall",
         "marker": {
          "color": "#EF553B"
         },
         "name": "event recall",
         "offsetgroup": "event recall",
         "opacity": 0.5,
         "showlegend": false,
         "type": "histogram",
         "xaxis": "x2",
         "y": [
          0.6291666666666667,
          0.8115429917550059,
          0.8305489260143198,
          0.930379746835443,
          0.8451327433628318,
          0.7043010752688172,
          0.5957446808510638
         ],
         "yaxis": "y2"
        },
        {
         "fill": "toself",
         "mode": "lines",
         "name": "identity",
         "type": "scatter",
         "x": [
          0.6870748299319728,
          0.8442272449602932,
          0.764512595837897,
          0.6293929712460063,
          0.6447811447811448,
          0.6977363515312917,
          0.5894736842105263
         ],
         "y": [
          0.6870748299319728,
          0.8442272449602932,
          0.764512595837897,
          0.6293929712460063,
          0.6447811447811448,
          0.6977363515312917,
          0.5894736842105263
         ]
        }
       ],
       "layout": {
        "barmode": "overlay",
        "legend": {
         "title": {
          "text": "metric"
         },
         "tracegroupgap": 0
        },
        "margin": {
         "t": 60
        },
        "template": {
         "data": {
          "bar": [
           {
            "error_x": {
             "color": "#2a3f5f"
            },
            "error_y": {
             "color": "#2a3f5f"
            },
            "marker": {
             "line": {
              "color": "#E5ECF6",
              "width": 0.5
             },
             "pattern": {
              "fillmode": "overlay",
              "size": 10,
              "solidity": 0.2
             }
            },
            "type": "bar"
           }
          ],
          "barpolar": [
           {
            "marker": {
             "line": {
              "color": "#E5ECF6",
              "width": 0.5
             },
             "pattern": {
              "fillmode": "overlay",
              "size": 10,
              "solidity": 0.2
             }
            },
            "type": "barpolar"
           }
          ],
          "carpet": [
           {
            "aaxis": {
             "endlinecolor": "#2a3f5f",
             "gridcolor": "white",
             "linecolor": "white",
             "minorgridcolor": "white",
             "startlinecolor": "#2a3f5f"
            },
            "baxis": {
             "endlinecolor": "#2a3f5f",
             "gridcolor": "white",
             "linecolor": "white",
             "minorgridcolor": "white",
             "startlinecolor": "#2a3f5f"
            },
            "type": "carpet"
           }
          ],
          "choropleth": [
           {
            "colorbar": {
             "outlinewidth": 0,
             "ticks": ""
            },
            "type": "choropleth"
           }
          ],
          "contour": [
           {
            "colorbar": {
             "outlinewidth": 0,
             "ticks": ""
            },
            "colorscale": [
             [
              0,
              "#0d0887"
             ],
             [
              0.1111111111111111,
              "#46039f"
             ],
             [
              0.2222222222222222,
              "#7201a8"
             ],
             [
              0.3333333333333333,
              "#9c179e"
             ],
             [
              0.4444444444444444,
              "#bd3786"
             ],
             [
              0.5555555555555556,
              "#d8576b"
             ],
             [
              0.6666666666666666,
              "#ed7953"
             ],
             [
              0.7777777777777778,
              "#fb9f3a"
             ],
             [
              0.8888888888888888,
              "#fdca26"
             ],
             [
              1,
              "#f0f921"
             ]
            ],
            "type": "contour"
           }
          ],
          "contourcarpet": [
           {
            "colorbar": {
             "outlinewidth": 0,
             "ticks": ""
            },
            "type": "contourcarpet"
           }
          ],
          "heatmap": [
           {
            "colorbar": {
             "outlinewidth": 0,
             "ticks": ""
            },
            "colorscale": [
             [
              0,
              "#0d0887"
             ],
             [
              0.1111111111111111,
              "#46039f"
             ],
             [
              0.2222222222222222,
              "#7201a8"
             ],
             [
              0.3333333333333333,
              "#9c179e"
             ],
             [
              0.4444444444444444,
              "#bd3786"
             ],
             [
              0.5555555555555556,
              "#d8576b"
             ],
             [
              0.6666666666666666,
              "#ed7953"
             ],
             [
              0.7777777777777778,
              "#fb9f3a"
             ],
             [
              0.8888888888888888,
              "#fdca26"
             ],
             [
              1,
              "#f0f921"
             ]
            ],
            "type": "heatmap"
           }
          ],
          "heatmapgl": [
           {
            "colorbar": {
             "outlinewidth": 0,
             "ticks": ""
            },
            "colorscale": [
             [
              0,
              "#0d0887"
             ],
             [
              0.1111111111111111,
              "#46039f"
             ],
             [
              0.2222222222222222,
              "#7201a8"
             ],
             [
              0.3333333333333333,
              "#9c179e"
             ],
             [
              0.4444444444444444,
              "#bd3786"
             ],
             [
              0.5555555555555556,
              "#d8576b"
             ],
             [
              0.6666666666666666,
              "#ed7953"
             ],
             [
              0.7777777777777778,
              "#fb9f3a"
             ],
             [
              0.8888888888888888,
              "#fdca26"
             ],
             [
              1,
              "#f0f921"
             ]
            ],
            "type": "heatmapgl"
           }
          ],
          "histogram": [
           {
            "marker": {
             "pattern": {
              "fillmode": "overlay",
              "size": 10,
              "solidity": 0.2
             }
            },
            "type": "histogram"
           }
          ],
          "histogram2d": [
           {
            "colorbar": {
             "outlinewidth": 0,
             "ticks": ""
            },
            "colorscale": [
             [
              0,
              "#0d0887"
             ],
             [
              0.1111111111111111,
              "#46039f"
             ],
             [
              0.2222222222222222,
              "#7201a8"
             ],
             [
              0.3333333333333333,
              "#9c179e"
             ],
             [
              0.4444444444444444,
              "#bd3786"
             ],
             [
              0.5555555555555556,
              "#d8576b"
             ],
             [
              0.6666666666666666,
              "#ed7953"
             ],
             [
              0.7777777777777778,
              "#fb9f3a"
             ],
             [
              0.8888888888888888,
              "#fdca26"
             ],
             [
              1,
              "#f0f921"
             ]
            ],
            "type": "histogram2d"
           }
          ],
          "histogram2dcontour": [
           {
            "colorbar": {
             "outlinewidth": 0,
             "ticks": ""
            },
            "colorscale": [
             [
              0,
              "#0d0887"
             ],
             [
              0.1111111111111111,
              "#46039f"
             ],
             [
              0.2222222222222222,
              "#7201a8"
             ],
             [
              0.3333333333333333,
              "#9c179e"
             ],
             [
              0.4444444444444444,
              "#bd3786"
             ],
             [
              0.5555555555555556,
              "#d8576b"
             ],
             [
              0.6666666666666666,
              "#ed7953"
             ],
             [
              0.7777777777777778,
              "#fb9f3a"
             ],
             [
              0.8888888888888888,
              "#fdca26"
             ],
             [
              1,
              "#f0f921"
             ]
            ],
            "type": "histogram2dcontour"
           }
          ],
          "mesh3d": [
           {
            "colorbar": {
             "outlinewidth": 0,
             "ticks": ""
            },
            "type": "mesh3d"
           }
          ],
          "parcoords": [
           {
            "line": {
             "colorbar": {
              "outlinewidth": 0,
              "ticks": ""
             }
            },
            "type": "parcoords"
           }
          ],
          "pie": [
           {
            "automargin": true,
            "type": "pie"
           }
          ],
          "scatter": [
           {
            "fillpattern": {
             "fillmode": "overlay",
             "size": 10,
             "solidity": 0.2
            },
            "type": "scatter"
           }
          ],
          "scatter3d": [
           {
            "line": {
             "colorbar": {
              "outlinewidth": 0,
              "ticks": ""
             }
            },
            "marker": {
             "colorbar": {
              "outlinewidth": 0,
              "ticks": ""
             }
            },
            "type": "scatter3d"
           }
          ],
          "scattercarpet": [
           {
            "marker": {
             "colorbar": {
              "outlinewidth": 0,
              "ticks": ""
             }
            },
            "type": "scattercarpet"
           }
          ],
          "scattergeo": [
           {
            "marker": {
             "colorbar": {
              "outlinewidth": 0,
              "ticks": ""
             }
            },
            "type": "scattergeo"
           }
          ],
          "scattergl": [
           {
            "marker": {
             "colorbar": {
              "outlinewidth": 0,
              "ticks": ""
             }
            },
            "type": "scattergl"
           }
          ],
          "scattermapbox": [
           {
            "marker": {
             "colorbar": {
              "outlinewidth": 0,
              "ticks": ""
             }
            },
            "type": "scattermapbox"
           }
          ],
          "scatterpolar": [
           {
            "marker": {
             "colorbar": {
              "outlinewidth": 0,
              "ticks": ""
             }
            },
            "type": "scatterpolar"
           }
          ],
          "scatterpolargl": [
           {
            "marker": {
             "colorbar": {
              "outlinewidth": 0,
              "ticks": ""
             }
            },
            "type": "scatterpolargl"
           }
          ],
          "scatterternary": [
           {
            "marker": {
             "colorbar": {
              "outlinewidth": 0,
              "ticks": ""
             }
            },
            "type": "scatterternary"
           }
          ],
          "surface": [
           {
            "colorbar": {
             "outlinewidth": 0,
             "ticks": ""
            },
            "colorscale": [
             [
              0,
              "#0d0887"
             ],
             [
              0.1111111111111111,
              "#46039f"
             ],
             [
              0.2222222222222222,
              "#7201a8"
             ],
             [
              0.3333333333333333,
              "#9c179e"
             ],
             [
              0.4444444444444444,
              "#bd3786"
             ],
             [
              0.5555555555555556,
              "#d8576b"
             ],
             [
              0.6666666666666666,
              "#ed7953"
             ],
             [
              0.7777777777777778,
              "#fb9f3a"
             ],
             [
              0.8888888888888888,
              "#fdca26"
             ],
             [
              1,
              "#f0f921"
             ]
            ],
            "type": "surface"
           }
          ],
          "table": [
           {
            "cells": {
             "fill": {
              "color": "#EBF0F8"
             },
             "line": {
              "color": "white"
             }
            },
            "header": {
             "fill": {
              "color": "#C8D4E3"
             },
             "line": {
              "color": "white"
             }
            },
            "type": "table"
           }
          ]
         },
         "layout": {
          "annotationdefaults": {
           "arrowcolor": "#2a3f5f",
           "arrowhead": 0,
           "arrowwidth": 1
          },
          "autotypenumbers": "strict",
          "coloraxis": {
           "colorbar": {
            "outlinewidth": 0,
            "ticks": ""
           }
          },
          "colorscale": {
           "diverging": [
            [
             0,
             "#8e0152"
            ],
            [
             0.1,
             "#c51b7d"
            ],
            [
             0.2,
             "#de77ae"
            ],
            [
             0.3,
             "#f1b6da"
            ],
            [
             0.4,
             "#fde0ef"
            ],
            [
             0.5,
             "#f7f7f7"
            ],
            [
             0.6,
             "#e6f5d0"
            ],
            [
             0.7,
             "#b8e186"
            ],
            [
             0.8,
             "#7fbc41"
            ],
            [
             0.9,
             "#4d9221"
            ],
            [
             1,
             "#276419"
            ]
           ],
           "sequential": [
            [
             0,
             "#0d0887"
            ],
            [
             0.1111111111111111,
             "#46039f"
            ],
            [
             0.2222222222222222,
             "#7201a8"
            ],
            [
             0.3333333333333333,
             "#9c179e"
            ],
            [
             0.4444444444444444,
             "#bd3786"
            ],
            [
             0.5555555555555556,
             "#d8576b"
            ],
            [
             0.6666666666666666,
             "#ed7953"
            ],
            [
             0.7777777777777778,
             "#fb9f3a"
            ],
            [
             0.8888888888888888,
             "#fdca26"
            ],
            [
             1,
             "#f0f921"
            ]
           ],
           "sequentialminus": [
            [
             0,
             "#0d0887"
            ],
            [
             0.1111111111111111,
             "#46039f"
            ],
            [
             0.2222222222222222,
             "#7201a8"
            ],
            [
             0.3333333333333333,
             "#9c179e"
            ],
            [
             0.4444444444444444,
             "#bd3786"
            ],
            [
             0.5555555555555556,
             "#d8576b"
            ],
            [
             0.6666666666666666,
             "#ed7953"
            ],
            [
             0.7777777777777778,
             "#fb9f3a"
            ],
            [
             0.8888888888888888,
             "#fdca26"
            ],
            [
             1,
             "#f0f921"
            ]
           ]
          },
          "colorway": [
           "#636efa",
           "#EF553B",
           "#00cc96",
           "#ab63fa",
           "#FFA15A",
           "#19d3f3",
           "#FF6692",
           "#B6E880",
           "#FF97FF",
           "#FECB52"
          ],
          "font": {
           "color": "#2a3f5f"
          },
          "geo": {
           "bgcolor": "white",
           "lakecolor": "white",
           "landcolor": "#E5ECF6",
           "showlakes": true,
           "showland": true,
           "subunitcolor": "white"
          },
          "hoverlabel": {
           "align": "left"
          },
          "hovermode": "closest",
          "mapbox": {
           "style": "light"
          },
          "paper_bgcolor": "white",
          "plot_bgcolor": "#E5ECF6",
          "polar": {
           "angularaxis": {
            "gridcolor": "white",
            "linecolor": "white",
            "ticks": ""
           },
           "bgcolor": "#E5ECF6",
           "radialaxis": {
            "gridcolor": "white",
            "linecolor": "white",
            "ticks": ""
           }
          },
          "scene": {
           "xaxis": {
            "backgroundcolor": "#E5ECF6",
            "gridcolor": "white",
            "gridwidth": 2,
            "linecolor": "white",
            "showbackground": true,
            "ticks": "",
            "zerolinecolor": "white"
           },
           "yaxis": {
            "backgroundcolor": "#E5ECF6",
            "gridcolor": "white",
            "gridwidth": 2,
            "linecolor": "white",
            "showbackground": true,
            "ticks": "",
            "zerolinecolor": "white"
           },
           "zaxis": {
            "backgroundcolor": "#E5ECF6",
            "gridcolor": "white",
            "gridwidth": 2,
            "linecolor": "white",
            "showbackground": true,
            "ticks": "",
            "zerolinecolor": "white"
           }
          },
          "shapedefaults": {
           "line": {
            "color": "#2a3f5f"
           }
          },
          "ternary": {
           "aaxis": {
            "gridcolor": "white",
            "linecolor": "white",
            "ticks": ""
           },
           "baxis": {
            "gridcolor": "white",
            "linecolor": "white",
            "ticks": ""
           },
           "bgcolor": "#E5ECF6",
           "caxis": {
            "gridcolor": "white",
            "linecolor": "white",
            "ticks": ""
           }
          },
          "title": {
           "x": 0.05
          },
          "xaxis": {
           "automargin": true,
           "gridcolor": "white",
           "linecolor": "white",
           "ticks": "",
           "title": {
            "standoff": 15
           },
           "zerolinecolor": "white",
           "zerolinewidth": 2
          },
          "yaxis": {
           "automargin": true,
           "gridcolor": "white",
           "linecolor": "white",
           "ticks": "",
           "title": {
            "standoff": 15
           },
           "zerolinecolor": "white",
           "zerolinewidth": 2
          }
         }
        },
        "xaxis": {
         "anchor": "y",
         "domain": [
          0,
          0.7363
         ],
         "title": {
          "text": "event F1"
         }
        },
        "xaxis2": {
         "anchor": "y2",
         "domain": [
          0.7413,
          1
         ],
         "matches": "x2",
         "showgrid": true,
         "showline": false,
         "showticklabels": false,
         "ticks": ""
        },
        "yaxis": {
         "anchor": "x",
         "domain": [
          0,
          1
         ],
         "title": {
          "text": "value"
         }
        },
        "yaxis2": {
         "anchor": "x2",
         "domain": [
          0,
          1
         ],
         "matches": "y",
         "showgrid": true,
         "showticklabels": false
        }
       }
      }
     },
     "metadata": {},
     "output_type": "display_data"
    }
   ],
   "source": [
    "fig=px.scatter(visualTradeoff,x='event F1',y='value',color='metric', marginal_y=\"histogram\")\n",
    "fig.add_trace(\n",
    "    go.Scatter(x=experimentModels['eventF1'], y=experimentModels['eventF1'], name=\"identity\", mode='lines',fill=\"toself\")\n",
    ")\n",
    "fig.show()"
   ]
  },
  {
   "cell_type": "markdown",
   "metadata": {},
   "source": [
    "### Restricted to N2"
   ]
  },
  {
   "cell_type": "code",
   "execution_count": 35,
   "metadata": {},
   "outputs": [
    {
     "name": "stdout",
     "output_type": "stream",
     "text": [
      "*************************\n",
      "1 of 7\n",
      "Keras model archive loading:\n",
      "File Name                                             Modified             Size\n",
      "config.json                                    2023-09-01 14:27:40         5064\n",
      "metadata.json                                  2023-09-01 14:27:40           64\n",
      "variables.h5                                   2023-09-01 14:27:40      1800912\n"
     ]
    },
    {
     "name": "stdout",
     "output_type": "stream",
     "text": [
      "Keras weights file (<HDF5 file \"variables.h5\" (mode r)>) loading:\n",
      "...layers\\conv1d\n",
      "......vars\n",
      ".........0\n",
      ".........1\n",
      "...layers\\conv1d_1\n",
      "......vars\n",
      ".........0\n",
      ".........1\n",
      "...layers\\conv1d_2\n",
      "......vars\n",
      ".........0\n",
      ".........1\n",
      "...layers\\conv1d_3\n",
      "......vars\n",
      ".........0\n",
      ".........1\n",
      "...layers\\conv1d_4\n",
      "......vars\n",
      ".........0\n",
      ".........1\n",
      "...layers\\conv1d_5\n",
      "......vars\n",
      ".........0\n",
      ".........1\n",
      "...layers\\flatten\n",
      "......vars\n",
      "...layers\\input_layer\n",
      "......vars\n",
      "...metrics\\mean\n",
      "......vars\n",
      ".........0\n",
      ".........1\n",
      "...optimizer\n",
      "......vars\n",
      ".........0\n",
      ".........1\n",
      ".........10\n",
      ".........11\n",
      ".........12\n",
      ".........13\n",
      ".........14\n",
      ".........15\n",
      ".........16\n",
      ".........17\n",
      ".........18\n",
      ".........19\n",
      ".........2\n",
      ".........20\n",
      ".........21\n",
      ".........22\n",
      ".........23\n",
      ".........24\n",
      ".........3\n",
      ".........4\n",
      ".........5\n",
      ".........6\n",
      ".........7\n",
      ".........8\n",
      ".........9\n",
      "...vars\n",
      "*************************\n",
      "2 of 7\n",
      "Keras model archive loading:\n",
      "File Name                                             Modified             Size\n",
      "config.json                                    2023-09-01 14:27:40         5082\n",
      "metadata.json                                  2023-09-01 14:27:40           64\n",
      "variables.h5                                   2023-09-01 14:27:40      1800912\n",
      "Keras weights file (<HDF5 file \"variables.h5\" (mode r)>) loading:\n",
      "...layers\\conv1d\n",
      "......vars\n",
      ".........0\n",
      ".........1\n",
      "...layers\\conv1d_1\n",
      "......vars\n",
      ".........0\n",
      ".........1\n",
      "...layers\\conv1d_2\n",
      "......vars\n",
      ".........0\n",
      ".........1\n",
      "...layers\\conv1d_3\n",
      "......vars\n",
      ".........0\n",
      ".........1\n",
      "...layers\\conv1d_4\n",
      "......vars\n",
      ".........0\n",
      ".........1\n",
      "...layers\\conv1d_5\n",
      "......vars\n",
      ".........0\n",
      ".........1\n",
      "...layers\\flatten\n",
      "......vars\n",
      "...layers\\input_layer\n",
      "......vars\n",
      "...metrics\\mean\n",
      "......vars\n",
      ".........0\n",
      ".........1\n",
      "...optimizer\n",
      "......vars\n",
      ".........0\n",
      ".........1\n",
      ".........10\n",
      ".........11\n",
      ".........12\n",
      ".........13\n",
      ".........14\n",
      ".........15\n",
      ".........16\n",
      ".........17\n",
      ".........18\n",
      ".........19\n",
      ".........2\n",
      ".........20\n",
      ".........21\n",
      ".........22\n",
      ".........23\n",
      ".........24\n",
      ".........3\n",
      ".........4\n",
      ".........5\n",
      ".........6\n",
      ".........7\n",
      ".........8\n",
      ".........9\n",
      "...vars\n",
      "*************************\n",
      "3 of 7\n",
      "Keras model archive loading:\n",
      "File Name                                             Modified             Size\n",
      "config.json                                    2023-09-01 14:27:40         5094\n",
      "metadata.json                                  2023-09-01 14:27:40           64\n",
      "variables.h5                                   2023-09-01 14:27:40      1800912\n",
      "Keras weights file (<HDF5 file \"variables.h5\" (mode r)>) loading:\n",
      "...layers\\conv1d\n",
      "......vars\n",
      ".........0\n",
      ".........1\n",
      "...layers\\conv1d_1\n",
      "......vars\n",
      ".........0\n",
      ".........1\n",
      "...layers\\conv1d_2\n",
      "......vars\n",
      ".........0\n",
      ".........1\n",
      "...layers\\conv1d_3\n",
      "......vars\n",
      ".........0\n",
      ".........1\n",
      "...layers\\conv1d_4\n",
      "......vars\n",
      ".........0\n",
      ".........1\n",
      "...layers\\conv1d_5\n",
      "......vars\n",
      ".........0\n",
      ".........1\n",
      "...layers\\flatten\n",
      "......vars\n",
      "...layers\\input_layer\n",
      "......vars\n",
      "...metrics\\mean\n",
      "......vars\n",
      ".........0\n",
      ".........1\n",
      "...optimizer\n",
      "......vars\n",
      ".........0\n",
      ".........1\n",
      ".........10\n",
      ".........11\n",
      ".........12\n",
      ".........13\n",
      ".........14\n",
      ".........15\n",
      ".........16\n",
      ".........17\n",
      ".........18\n",
      ".........19\n",
      ".........2\n",
      ".........20\n",
      ".........21\n",
      ".........22\n",
      ".........23\n",
      ".........24\n",
      ".........3\n",
      ".........4\n",
      ".........5\n",
      ".........6\n",
      ".........7\n",
      ".........8\n",
      ".........9\n",
      "...vars\n",
      "*************************\n",
      "4 of 7\n",
      "Keras model archive loading:\n",
      "File Name                                             Modified             Size\n",
      "config.json                                    2023-09-01 14:27:40         5094\n",
      "metadata.json                                  2023-09-01 14:27:40           64\n",
      "variables.h5                                   2023-09-01 14:27:40      1800912\n",
      "Keras weights file (<HDF5 file \"variables.h5\" (mode r)>) loading:\n",
      "...layers\\conv1d\n",
      "......vars\n",
      ".........0\n",
      ".........1\n",
      "...layers\\conv1d_1\n",
      "......vars\n",
      ".........0\n",
      ".........1\n",
      "...layers\\conv1d_2\n",
      "......vars\n",
      ".........0\n",
      ".........1\n",
      "...layers\\conv1d_3\n",
      "......vars\n",
      ".........0\n",
      ".........1\n",
      "...layers\\conv1d_4\n",
      "......vars\n",
      ".........0\n",
      ".........1\n",
      "...layers\\conv1d_5\n",
      "......vars\n",
      ".........0\n",
      ".........1\n",
      "...layers\\flatten\n",
      "......vars\n",
      "...layers\\input_layer\n",
      "......vars\n",
      "...metrics\\mean\n",
      "......vars\n",
      ".........0\n",
      ".........1\n",
      "...optimizer\n",
      "......vars\n",
      ".........0\n",
      ".........1\n",
      ".........10\n",
      ".........11\n",
      ".........12\n",
      ".........13\n",
      ".........14\n",
      ".........15\n",
      ".........16\n",
      ".........17\n",
      ".........18\n",
      ".........19\n",
      ".........2\n",
      ".........20\n",
      ".........21\n",
      ".........22\n",
      ".........23\n",
      ".........24\n",
      ".........3\n",
      ".........4\n",
      ".........5\n",
      ".........6\n",
      ".........7\n",
      ".........8\n",
      ".........9\n",
      "...vars\n",
      "*************************\n",
      "5 of 7\n",
      "Keras model archive loading:\n",
      "File Name                                             Modified             Size\n",
      "config.json                                    2023-09-01 14:27:40         5094\n",
      "metadata.json                                  2023-09-01 14:27:40           64\n",
      "variables.h5                                   2023-09-01 14:27:40      1800912\n",
      "Keras weights file (<HDF5 file \"variables.h5\" (mode r)>) loading:\n",
      "...layers\\conv1d\n",
      "......vars\n",
      ".........0\n",
      ".........1\n",
      "...layers\\conv1d_1\n",
      "......vars\n",
      ".........0\n",
      ".........1\n",
      "...layers\\conv1d_2\n",
      "......vars\n",
      ".........0\n",
      ".........1\n",
      "...layers\\conv1d_3\n",
      "......vars\n",
      ".........0\n",
      ".........1\n",
      "...layers\\conv1d_4\n",
      "......vars\n",
      ".........0\n",
      ".........1\n",
      "...layers\\conv1d_5\n",
      "......vars\n",
      ".........0\n",
      ".........1\n",
      "...layers\\flatten\n",
      "......vars\n",
      "...layers\\input_layer\n",
      "......vars\n",
      "...metrics\\mean\n",
      "......vars\n",
      ".........0\n",
      ".........1\n",
      "...optimizer\n",
      "......vars\n",
      ".........0\n",
      ".........1\n",
      ".........10\n",
      ".........11\n",
      ".........12\n",
      ".........13\n",
      ".........14\n",
      ".........15\n",
      ".........16\n",
      ".........17\n",
      ".........18\n",
      ".........19\n",
      ".........2\n",
      ".........20\n",
      ".........21\n",
      ".........22\n",
      ".........23\n",
      ".........24\n",
      ".........3\n",
      ".........4\n",
      ".........5\n",
      ".........6\n",
      ".........7\n",
      ".........8\n",
      ".........9\n",
      "...vars\n",
      "*************************\n",
      "6 of 7\n",
      "Keras model archive loading:\n",
      "File Name                                             Modified             Size\n",
      "config.json                                    2023-09-01 14:27:40         5094\n",
      "metadata.json                                  2023-09-01 14:27:40           64\n",
      "variables.h5                                   2023-09-01 14:27:40      1800912\n",
      "Keras weights file (<HDF5 file \"variables.h5\" (mode r)>) loading:\n",
      "...layers\\conv1d\n",
      "......vars\n",
      ".........0\n",
      ".........1\n",
      "...layers\\conv1d_1\n",
      "......vars\n",
      ".........0\n",
      ".........1\n",
      "...layers\\conv1d_2\n",
      "......vars\n",
      ".........0\n",
      ".........1\n",
      "...layers\\conv1d_3\n",
      "......vars\n",
      ".........0\n",
      ".........1\n",
      "...layers\\conv1d_4\n",
      "......vars\n",
      ".........0\n",
      ".........1\n",
      "...layers\\conv1d_5\n",
      "......vars\n",
      ".........0\n",
      ".........1\n",
      "...layers\\flatten\n",
      "......vars\n",
      "...layers\\input_layer\n",
      "......vars\n",
      "...metrics\\mean\n",
      "......vars\n",
      ".........0\n",
      ".........1\n",
      "...optimizer\n",
      "......vars\n",
      ".........0\n",
      ".........1\n",
      ".........10\n",
      ".........11\n",
      ".........12\n",
      ".........13\n",
      ".........14\n",
      ".........15\n",
      ".........16\n",
      ".........17\n",
      ".........18\n",
      ".........19\n",
      ".........2\n",
      ".........20\n",
      ".........21\n",
      ".........22\n",
      ".........23\n",
      ".........24\n",
      ".........3\n",
      ".........4\n",
      ".........5\n",
      ".........6\n",
      ".........7\n",
      ".........8\n",
      ".........9\n",
      "...vars\n",
      "*************************\n",
      "7 of 7\n",
      "Keras model archive loading:\n",
      "File Name                                             Modified             Size\n",
      "config.json                                    2023-09-01 14:27:40         5094\n",
      "metadata.json                                  2023-09-01 14:27:40           64\n",
      "variables.h5                                   2023-09-01 14:27:40      1800912\n",
      "Keras weights file (<HDF5 file \"variables.h5\" (mode r)>) loading:\n",
      "...layers\\conv1d\n",
      "......vars\n",
      ".........0\n",
      ".........1\n",
      "...layers\\conv1d_1\n",
      "......vars\n",
      ".........0\n",
      ".........1\n",
      "...layers\\conv1d_2\n",
      "......vars\n",
      ".........0\n",
      ".........1\n",
      "...layers\\conv1d_3\n",
      "......vars\n",
      ".........0\n",
      ".........1\n",
      "...layers\\conv1d_4\n",
      "......vars\n",
      ".........0\n",
      ".........1\n",
      "...layers\\conv1d_5\n",
      "......vars\n",
      ".........0\n",
      ".........1\n",
      "...layers\\flatten\n",
      "......vars\n",
      "...layers\\input_layer\n",
      "......vars\n",
      "...metrics\\mean\n",
      "......vars\n",
      ".........0\n",
      ".........1\n",
      "...optimizer\n",
      "......vars\n",
      ".........0\n",
      ".........1\n",
      ".........10\n",
      ".........11\n",
      ".........12\n",
      ".........13\n",
      ".........14\n",
      ".........15\n",
      ".........16\n",
      ".........17\n",
      ".........18\n",
      ".........19\n",
      ".........2\n",
      ".........20\n",
      ".........21\n",
      ".........22\n",
      ".........23\n",
      ".........24\n",
      ".........3\n",
      ".........4\n",
      ".........5\n",
      ".........6\n",
      ".........7\n",
      ".........8\n",
      ".........9\n",
      "...vars\n"
     ]
    }
   ],
   "source": [
    "rawF1s=[]\n",
    "rawPrecisions=[]\n",
    "rawRecalls=[]\n",
    "\n",
    "f1s=[]\n",
    "precisions=[]\n",
    "recalls=[]\n",
    "\n",
    "eventF1s=[]\n",
    "eventPrecisions=[]\n",
    "eventRecalls=[]\n",
    "\n",
    "checks=[]\n",
    "\n",
    "for ind,row in experimentModels.iterrows():\n",
    "    print('*************************')\n",
    "    print(str(ind+1)+' of '+str(len(experimentModels)) )\n",
    "    #load model\n",
    "    model=loadDL(row.modelId,experimentId,datapath)\n",
    "    testSubjectId=row.test\n",
    "   \n",
    "    #Define annotations criterium\n",
    "    usedAnnotations=annotations[annotations.labelerId.isin(row.labelerIdList)].reset_index(drop=True)\n",
    "    #Load features and labels\n",
    "    #testFeatures=loadFeatureMatrix([testSubjectId],featureSelection,signalsMetadata,samplerate,datapath)\n",
    "    testLabels=loadLabelsVector([testSubjectId],usedAnnotations,signalsMetadata,samplerate)\n",
    "\n",
    "    ##################################################\n",
    "    hypnogram=loadCOGNITIONHypnogram(testSubjectId,cognipath)\n",
    "    testLabels=testLabels*(hypnogram==2)\n",
    "    ##################################################\n",
    "\n",
    "    #Predict\n",
    "    inferred=model.predict(paddedSignals[testSubjectId][np.newaxis,...,np.newaxis],verbose=0).flatten()\n",
    "    rawLabels=inferred>=hyperThres\n",
    "\n",
    "    ##################################################\n",
    "    rawLabels=rawLabels*(hypnogram==2)\n",
    "    ##################################################\n",
    "\n",
    "    #Raw Metrics\n",
    "    rawTp=np.sum(rawLabels*testLabels)\n",
    "    rawFp=np.sum(rawLabels*(1-testLabels))\n",
    "    rawTn=np.sum((1-rawLabels)*(1-testLabels))\n",
    "    rawFn=np.sum((1-rawLabels)*testLabels)\n",
    "    #Raw appends\n",
    "    rawF1s.append(2*rawTp/(2*rawTp+rawFp+rawFn))\n",
    "    rawPrecisions.append(rawTp/(rawTp+rawFp) )\n",
    "    rawRecalls.append(rawTp/(rawTp+rawFn))\n",
    "    #Process\n",
    "    processedLabels=labelingProcess(rawLabels,hyperClose,hyperDuration,samplerate)\n",
    "    #Processed metrics\n",
    "    tp=np.sum(processedLabels*testLabels)\n",
    "    fp=np.sum(processedLabels*(1-testLabels))\n",
    "    tn=np.sum((1-processedLabels)*(1-testLabels))\n",
    "    fn=np.sum((1-processedLabels)*testLabels)\n",
    "    #Processed appends\n",
    "    f1s.append(2*tp/(2*tp+fp+fn))\n",
    "    precisions.append(tp/(tp+fp))\n",
    "    recalls.append(tp/(tp+fn))\n",
    "\n",
    "    #By-event metrics\n",
    "    processedAnnotations=labelVectorToAnnotations(processedLabels,samplerate)\n",
    "    processedAnnotations=processedAnnotations[processedAnnotations.duration<5]\n",
    "    gtAnnotations=labelVectorToAnnotations(testLabels,samplerate)   #<- or just filter the annotations\n",
    "    f,r,p=annotationPairToMetrics(gtAnnotations,processedAnnotations)\n",
    "    \n",
    "    #calculate metrics\n",
    "    eventF1s.append(f)\n",
    "    eventPrecisions.append(p)\n",
    "    eventRecalls.append(r)\n",
    "\n",
    "#include metrics in the dataframe\n",
    "experimentModels['rawF1']=rawF1s\n",
    "experimentModels['rawPrecision']=rawPrecisions\n",
    "experimentModels['rawRecall']=rawRecalls\n",
    "\n",
    "experimentModels['f1']=f1s\n",
    "experimentModels['precision']=precisions\n",
    "experimentModels['recall']=recalls\n",
    "\n",
    "experimentModels['eventF1']=eventF1s\n",
    "experimentModels['eventPrecision']=eventPrecisions\n",
    "experimentModels['eventRecall']=eventRecalls\n"
   ]
  },
  {
   "cell_type": "code",
   "execution_count": 36,
   "metadata": {},
   "outputs": [],
   "source": [
    "dumpPickle('experimentModelsTestN2_E1_temp.pkl',experimentModels)"
   ]
  },
  {
   "cell_type": "code",
   "execution_count": 37,
   "metadata": {},
   "outputs": [
    {
     "data": {
      "text/plain": [
       "Index(['criteriumId', 'criteriumName', 'labelerIdList', 'train', 'val', 'test',\n",
       "       'modelId', 'rawF1', 'rawPrecision', 'rawRecall', 'f1', 'precision',\n",
       "       'recall', 'eventF1', 'eventPrecision', 'eventRecall'],\n",
       "      dtype='object')"
      ]
     },
     "execution_count": 37,
     "metadata": {},
     "output_type": "execute_result"
    }
   ],
   "source": [
    "experimentModels.columns"
   ]
  },
  {
   "cell_type": "code",
   "execution_count": 38,
   "metadata": {},
   "outputs": [
    {
     "data": {
      "application/vnd.plotly.v1+json": {
       "config": {
        "plotlyServerURL": "https://plot.ly"
       },
       "data": [
        {
         "hovertemplate": "<b>%{hovertext}</b><br><br>test=0002<br>rawF1=%{x}<br>f1=%{y}<extra></extra>",
         "hovertext": [
          "ca4abebe-7534-4387-9f7e-7e56aeb102df"
         ],
         "legendgroup": "0002",
         "marker": {
          "color": "#636efa",
          "symbol": "circle"
         },
         "mode": "markers",
         "name": "0002",
         "orientation": "v",
         "showlegend": true,
         "type": "scatter",
         "x": [
          0.6109014488892835
         ],
         "xaxis": "x",
         "y": [
          0.662945204516374
         ],
         "yaxis": "y"
        },
        {
         "alignmentgroup": "True",
         "bingroup": "y",
         "hovertemplate": "test=0002<br>f1=%{y}<br>count=%{x}<extra></extra>",
         "legendgroup": "0002",
         "marker": {
          "color": "#636efa"
         },
         "name": "0002",
         "offsetgroup": "0002",
         "opacity": 0.5,
         "showlegend": false,
         "type": "histogram",
         "xaxis": "x2",
         "y": [
          0.662945204516374
         ],
         "yaxis": "y2"
        },
        {
         "hovertemplate": "<b>%{hovertext}</b><br><br>test=0003<br>rawF1=%{x}<br>f1=%{y}<extra></extra>",
         "hovertext": [
          "ec345db7-d0e7-447a-a219-52693d52bf41"
         ],
         "legendgroup": "0003",
         "marker": {
          "color": "#EF553B",
          "symbol": "circle"
         },
         "mode": "markers",
         "name": "0003",
         "orientation": "v",
         "showlegend": true,
         "type": "scatter",
         "x": [
          0.7071693958992706
         ],
         "xaxis": "x",
         "y": [
          0.7704862967084644
         ],
         "yaxis": "y"
        },
        {
         "alignmentgroup": "True",
         "bingroup": "y",
         "hovertemplate": "test=0003<br>f1=%{y}<br>count=%{x}<extra></extra>",
         "legendgroup": "0003",
         "marker": {
          "color": "#EF553B"
         },
         "name": "0003",
         "offsetgroup": "0003",
         "opacity": 0.5,
         "showlegend": false,
         "type": "histogram",
         "xaxis": "x2",
         "y": [
          0.7704862967084644
         ],
         "yaxis": "y2"
        },
        {
         "hovertemplate": "<b>%{hovertext}</b><br><br>test=0004<br>rawF1=%{x}<br>f1=%{y}<extra></extra>",
         "hovertext": [
          "5efd55af-ba1f-4dd8-905e-9279a3c25d07"
         ],
         "legendgroup": "0004",
         "marker": {
          "color": "#00cc96",
          "symbol": "circle"
         },
         "mode": "markers",
         "name": "0004",
         "orientation": "v",
         "showlegend": true,
         "type": "scatter",
         "x": [
          0.7099731576695152
         ],
         "xaxis": "x",
         "y": [
          0.7448071579823499
         ],
         "yaxis": "y"
        },
        {
         "alignmentgroup": "True",
         "bingroup": "y",
         "hovertemplate": "test=0004<br>f1=%{y}<br>count=%{x}<extra></extra>",
         "legendgroup": "0004",
         "marker": {
          "color": "#00cc96"
         },
         "name": "0004",
         "offsetgroup": "0004",
         "opacity": 0.5,
         "showlegend": false,
         "type": "histogram",
         "xaxis": "x2",
         "y": [
          0.7448071579823499
         ],
         "yaxis": "y2"
        },
        {
         "hovertemplate": "<b>%{hovertext}</b><br><br>test=0005<br>rawF1=%{x}<br>f1=%{y}<extra></extra>",
         "hovertext": [
          "79b2270a-cfb8-4f96-987a-040fa3dc0386"
         ],
         "legendgroup": "0005",
         "marker": {
          "color": "#ab63fa",
          "symbol": "circle"
         },
         "mode": "markers",
         "name": "0005",
         "orientation": "v",
         "showlegend": true,
         "type": "scatter",
         "x": [
          0.6260649080156314
         ],
         "xaxis": "x",
         "y": [
          0.6203847861291916
         ],
         "yaxis": "y"
        },
        {
         "alignmentgroup": "True",
         "bingroup": "y",
         "hovertemplate": "test=0005<br>f1=%{y}<br>count=%{x}<extra></extra>",
         "legendgroup": "0005",
         "marker": {
          "color": "#ab63fa"
         },
         "name": "0005",
         "offsetgroup": "0005",
         "opacity": 0.5,
         "showlegend": false,
         "type": "histogram",
         "xaxis": "x2",
         "y": [
          0.6203847861291916
         ],
         "yaxis": "y2"
        },
        {
         "hovertemplate": "<b>%{hovertext}</b><br><br>test=0006<br>rawF1=%{x}<br>f1=%{y}<extra></extra>",
         "hovertext": [
          "b1cb5f16-0c62-4dd7-b5d9-16fae63b28c5"
         ],
         "legendgroup": "0006",
         "marker": {
          "color": "#FFA15A",
          "symbol": "circle"
         },
         "mode": "markers",
         "name": "0006",
         "orientation": "v",
         "showlegend": true,
         "type": "scatter",
         "x": [
          0.6162303736341687
         ],
         "xaxis": "x",
         "y": [
          0.6292410878805003
         ],
         "yaxis": "y"
        },
        {
         "alignmentgroup": "True",
         "bingroup": "y",
         "hovertemplate": "test=0006<br>f1=%{y}<br>count=%{x}<extra></extra>",
         "legendgroup": "0006",
         "marker": {
          "color": "#FFA15A"
         },
         "name": "0006",
         "offsetgroup": "0006",
         "opacity": 0.5,
         "showlegend": false,
         "type": "histogram",
         "xaxis": "x2",
         "y": [
          0.6292410878805003
         ],
         "yaxis": "y2"
        },
        {
         "hovertemplate": "<b>%{hovertext}</b><br><br>test=0007<br>rawF1=%{x}<br>f1=%{y}<extra></extra>",
         "hovertext": [
          "28b0a080-fdd1-4b49-97d4-f98a8671c508"
         ],
         "legendgroup": "0007",
         "marker": {
          "color": "#19d3f3",
          "symbol": "circle"
         },
         "mode": "markers",
         "name": "0007",
         "orientation": "v",
         "showlegend": true,
         "type": "scatter",
         "x": [
          0.5667668606200995
         ],
         "xaxis": "x",
         "y": [
          0.621966039901428
         ],
         "yaxis": "y"
        },
        {
         "alignmentgroup": "True",
         "bingroup": "y",
         "hovertemplate": "test=0007<br>f1=%{y}<br>count=%{x}<extra></extra>",
         "legendgroup": "0007",
         "marker": {
          "color": "#19d3f3"
         },
         "name": "0007",
         "offsetgroup": "0007",
         "opacity": 0.5,
         "showlegend": false,
         "type": "histogram",
         "xaxis": "x2",
         "y": [
          0.621966039901428
         ],
         "yaxis": "y2"
        },
        {
         "hovertemplate": "<b>%{hovertext}</b><br><br>test=0008<br>rawF1=%{x}<br>f1=%{y}<extra></extra>",
         "hovertext": [
          "acc1aab9-4594-40ce-8d0c-f2111f7a6c69"
         ],
         "legendgroup": "0008",
         "marker": {
          "color": "#FF6692",
          "symbol": "circle"
         },
         "mode": "markers",
         "name": "0008",
         "orientation": "v",
         "showlegend": true,
         "type": "scatter",
         "x": [
          0.50231124807396
         ],
         "xaxis": "x",
         "y": [
          0.5488364333972808
         ],
         "yaxis": "y"
        },
        {
         "alignmentgroup": "True",
         "bingroup": "y",
         "hovertemplate": "test=0008<br>f1=%{y}<br>count=%{x}<extra></extra>",
         "legendgroup": "0008",
         "marker": {
          "color": "#FF6692"
         },
         "name": "0008",
         "offsetgroup": "0008",
         "opacity": 0.5,
         "showlegend": false,
         "type": "histogram",
         "xaxis": "x2",
         "y": [
          0.5488364333972808
         ],
         "yaxis": "y2"
        },
        {
         "fill": "toself",
         "mode": "lines",
         "name": "identity",
         "type": "scatter",
         "x": [
          0.6109014488892835,
          0.7071693958992706,
          0.7099731576695152,
          0.6260649080156314,
          0.6162303736341687,
          0.5667668606200995,
          0.50231124807396
         ],
         "y": [
          0.6109014488892835,
          0.7071693958992706,
          0.7099731576695152,
          0.6260649080156314,
          0.6162303736341687,
          0.5667668606200995,
          0.50231124807396
         ]
        }
       ],
       "layout": {
        "barmode": "overlay",
        "legend": {
         "title": {
          "text": "test"
         },
         "tracegroupgap": 0
        },
        "margin": {
         "t": 60
        },
        "template": {
         "data": {
          "bar": [
           {
            "error_x": {
             "color": "#2a3f5f"
            },
            "error_y": {
             "color": "#2a3f5f"
            },
            "marker": {
             "line": {
              "color": "#E5ECF6",
              "width": 0.5
             },
             "pattern": {
              "fillmode": "overlay",
              "size": 10,
              "solidity": 0.2
             }
            },
            "type": "bar"
           }
          ],
          "barpolar": [
           {
            "marker": {
             "line": {
              "color": "#E5ECF6",
              "width": 0.5
             },
             "pattern": {
              "fillmode": "overlay",
              "size": 10,
              "solidity": 0.2
             }
            },
            "type": "barpolar"
           }
          ],
          "carpet": [
           {
            "aaxis": {
             "endlinecolor": "#2a3f5f",
             "gridcolor": "white",
             "linecolor": "white",
             "minorgridcolor": "white",
             "startlinecolor": "#2a3f5f"
            },
            "baxis": {
             "endlinecolor": "#2a3f5f",
             "gridcolor": "white",
             "linecolor": "white",
             "minorgridcolor": "white",
             "startlinecolor": "#2a3f5f"
            },
            "type": "carpet"
           }
          ],
          "choropleth": [
           {
            "colorbar": {
             "outlinewidth": 0,
             "ticks": ""
            },
            "type": "choropleth"
           }
          ],
          "contour": [
           {
            "colorbar": {
             "outlinewidth": 0,
             "ticks": ""
            },
            "colorscale": [
             [
              0,
              "#0d0887"
             ],
             [
              0.1111111111111111,
              "#46039f"
             ],
             [
              0.2222222222222222,
              "#7201a8"
             ],
             [
              0.3333333333333333,
              "#9c179e"
             ],
             [
              0.4444444444444444,
              "#bd3786"
             ],
             [
              0.5555555555555556,
              "#d8576b"
             ],
             [
              0.6666666666666666,
              "#ed7953"
             ],
             [
              0.7777777777777778,
              "#fb9f3a"
             ],
             [
              0.8888888888888888,
              "#fdca26"
             ],
             [
              1,
              "#f0f921"
             ]
            ],
            "type": "contour"
           }
          ],
          "contourcarpet": [
           {
            "colorbar": {
             "outlinewidth": 0,
             "ticks": ""
            },
            "type": "contourcarpet"
           }
          ],
          "heatmap": [
           {
            "colorbar": {
             "outlinewidth": 0,
             "ticks": ""
            },
            "colorscale": [
             [
              0,
              "#0d0887"
             ],
             [
              0.1111111111111111,
              "#46039f"
             ],
             [
              0.2222222222222222,
              "#7201a8"
             ],
             [
              0.3333333333333333,
              "#9c179e"
             ],
             [
              0.4444444444444444,
              "#bd3786"
             ],
             [
              0.5555555555555556,
              "#d8576b"
             ],
             [
              0.6666666666666666,
              "#ed7953"
             ],
             [
              0.7777777777777778,
              "#fb9f3a"
             ],
             [
              0.8888888888888888,
              "#fdca26"
             ],
             [
              1,
              "#f0f921"
             ]
            ],
            "type": "heatmap"
           }
          ],
          "heatmapgl": [
           {
            "colorbar": {
             "outlinewidth": 0,
             "ticks": ""
            },
            "colorscale": [
             [
              0,
              "#0d0887"
             ],
             [
              0.1111111111111111,
              "#46039f"
             ],
             [
              0.2222222222222222,
              "#7201a8"
             ],
             [
              0.3333333333333333,
              "#9c179e"
             ],
             [
              0.4444444444444444,
              "#bd3786"
             ],
             [
              0.5555555555555556,
              "#d8576b"
             ],
             [
              0.6666666666666666,
              "#ed7953"
             ],
             [
              0.7777777777777778,
              "#fb9f3a"
             ],
             [
              0.8888888888888888,
              "#fdca26"
             ],
             [
              1,
              "#f0f921"
             ]
            ],
            "type": "heatmapgl"
           }
          ],
          "histogram": [
           {
            "marker": {
             "pattern": {
              "fillmode": "overlay",
              "size": 10,
              "solidity": 0.2
             }
            },
            "type": "histogram"
           }
          ],
          "histogram2d": [
           {
            "colorbar": {
             "outlinewidth": 0,
             "ticks": ""
            },
            "colorscale": [
             [
              0,
              "#0d0887"
             ],
             [
              0.1111111111111111,
              "#46039f"
             ],
             [
              0.2222222222222222,
              "#7201a8"
             ],
             [
              0.3333333333333333,
              "#9c179e"
             ],
             [
              0.4444444444444444,
              "#bd3786"
             ],
             [
              0.5555555555555556,
              "#d8576b"
             ],
             [
              0.6666666666666666,
              "#ed7953"
             ],
             [
              0.7777777777777778,
              "#fb9f3a"
             ],
             [
              0.8888888888888888,
              "#fdca26"
             ],
             [
              1,
              "#f0f921"
             ]
            ],
            "type": "histogram2d"
           }
          ],
          "histogram2dcontour": [
           {
            "colorbar": {
             "outlinewidth": 0,
             "ticks": ""
            },
            "colorscale": [
             [
              0,
              "#0d0887"
             ],
             [
              0.1111111111111111,
              "#46039f"
             ],
             [
              0.2222222222222222,
              "#7201a8"
             ],
             [
              0.3333333333333333,
              "#9c179e"
             ],
             [
              0.4444444444444444,
              "#bd3786"
             ],
             [
              0.5555555555555556,
              "#d8576b"
             ],
             [
              0.6666666666666666,
              "#ed7953"
             ],
             [
              0.7777777777777778,
              "#fb9f3a"
             ],
             [
              0.8888888888888888,
              "#fdca26"
             ],
             [
              1,
              "#f0f921"
             ]
            ],
            "type": "histogram2dcontour"
           }
          ],
          "mesh3d": [
           {
            "colorbar": {
             "outlinewidth": 0,
             "ticks": ""
            },
            "type": "mesh3d"
           }
          ],
          "parcoords": [
           {
            "line": {
             "colorbar": {
              "outlinewidth": 0,
              "ticks": ""
             }
            },
            "type": "parcoords"
           }
          ],
          "pie": [
           {
            "automargin": true,
            "type": "pie"
           }
          ],
          "scatter": [
           {
            "fillpattern": {
             "fillmode": "overlay",
             "size": 10,
             "solidity": 0.2
            },
            "type": "scatter"
           }
          ],
          "scatter3d": [
           {
            "line": {
             "colorbar": {
              "outlinewidth": 0,
              "ticks": ""
             }
            },
            "marker": {
             "colorbar": {
              "outlinewidth": 0,
              "ticks": ""
             }
            },
            "type": "scatter3d"
           }
          ],
          "scattercarpet": [
           {
            "marker": {
             "colorbar": {
              "outlinewidth": 0,
              "ticks": ""
             }
            },
            "type": "scattercarpet"
           }
          ],
          "scattergeo": [
           {
            "marker": {
             "colorbar": {
              "outlinewidth": 0,
              "ticks": ""
             }
            },
            "type": "scattergeo"
           }
          ],
          "scattergl": [
           {
            "marker": {
             "colorbar": {
              "outlinewidth": 0,
              "ticks": ""
             }
            },
            "type": "scattergl"
           }
          ],
          "scattermapbox": [
           {
            "marker": {
             "colorbar": {
              "outlinewidth": 0,
              "ticks": ""
             }
            },
            "type": "scattermapbox"
           }
          ],
          "scatterpolar": [
           {
            "marker": {
             "colorbar": {
              "outlinewidth": 0,
              "ticks": ""
             }
            },
            "type": "scatterpolar"
           }
          ],
          "scatterpolargl": [
           {
            "marker": {
             "colorbar": {
              "outlinewidth": 0,
              "ticks": ""
             }
            },
            "type": "scatterpolargl"
           }
          ],
          "scatterternary": [
           {
            "marker": {
             "colorbar": {
              "outlinewidth": 0,
              "ticks": ""
             }
            },
            "type": "scatterternary"
           }
          ],
          "surface": [
           {
            "colorbar": {
             "outlinewidth": 0,
             "ticks": ""
            },
            "colorscale": [
             [
              0,
              "#0d0887"
             ],
             [
              0.1111111111111111,
              "#46039f"
             ],
             [
              0.2222222222222222,
              "#7201a8"
             ],
             [
              0.3333333333333333,
              "#9c179e"
             ],
             [
              0.4444444444444444,
              "#bd3786"
             ],
             [
              0.5555555555555556,
              "#d8576b"
             ],
             [
              0.6666666666666666,
              "#ed7953"
             ],
             [
              0.7777777777777778,
              "#fb9f3a"
             ],
             [
              0.8888888888888888,
              "#fdca26"
             ],
             [
              1,
              "#f0f921"
             ]
            ],
            "type": "surface"
           }
          ],
          "table": [
           {
            "cells": {
             "fill": {
              "color": "#EBF0F8"
             },
             "line": {
              "color": "white"
             }
            },
            "header": {
             "fill": {
              "color": "#C8D4E3"
             },
             "line": {
              "color": "white"
             }
            },
            "type": "table"
           }
          ]
         },
         "layout": {
          "annotationdefaults": {
           "arrowcolor": "#2a3f5f",
           "arrowhead": 0,
           "arrowwidth": 1
          },
          "autotypenumbers": "strict",
          "coloraxis": {
           "colorbar": {
            "outlinewidth": 0,
            "ticks": ""
           }
          },
          "colorscale": {
           "diverging": [
            [
             0,
             "#8e0152"
            ],
            [
             0.1,
             "#c51b7d"
            ],
            [
             0.2,
             "#de77ae"
            ],
            [
             0.3,
             "#f1b6da"
            ],
            [
             0.4,
             "#fde0ef"
            ],
            [
             0.5,
             "#f7f7f7"
            ],
            [
             0.6,
             "#e6f5d0"
            ],
            [
             0.7,
             "#b8e186"
            ],
            [
             0.8,
             "#7fbc41"
            ],
            [
             0.9,
             "#4d9221"
            ],
            [
             1,
             "#276419"
            ]
           ],
           "sequential": [
            [
             0,
             "#0d0887"
            ],
            [
             0.1111111111111111,
             "#46039f"
            ],
            [
             0.2222222222222222,
             "#7201a8"
            ],
            [
             0.3333333333333333,
             "#9c179e"
            ],
            [
             0.4444444444444444,
             "#bd3786"
            ],
            [
             0.5555555555555556,
             "#d8576b"
            ],
            [
             0.6666666666666666,
             "#ed7953"
            ],
            [
             0.7777777777777778,
             "#fb9f3a"
            ],
            [
             0.8888888888888888,
             "#fdca26"
            ],
            [
             1,
             "#f0f921"
            ]
           ],
           "sequentialminus": [
            [
             0,
             "#0d0887"
            ],
            [
             0.1111111111111111,
             "#46039f"
            ],
            [
             0.2222222222222222,
             "#7201a8"
            ],
            [
             0.3333333333333333,
             "#9c179e"
            ],
            [
             0.4444444444444444,
             "#bd3786"
            ],
            [
             0.5555555555555556,
             "#d8576b"
            ],
            [
             0.6666666666666666,
             "#ed7953"
            ],
            [
             0.7777777777777778,
             "#fb9f3a"
            ],
            [
             0.8888888888888888,
             "#fdca26"
            ],
            [
             1,
             "#f0f921"
            ]
           ]
          },
          "colorway": [
           "#636efa",
           "#EF553B",
           "#00cc96",
           "#ab63fa",
           "#FFA15A",
           "#19d3f3",
           "#FF6692",
           "#B6E880",
           "#FF97FF",
           "#FECB52"
          ],
          "font": {
           "color": "#2a3f5f"
          },
          "geo": {
           "bgcolor": "white",
           "lakecolor": "white",
           "landcolor": "#E5ECF6",
           "showlakes": true,
           "showland": true,
           "subunitcolor": "white"
          },
          "hoverlabel": {
           "align": "left"
          },
          "hovermode": "closest",
          "mapbox": {
           "style": "light"
          },
          "paper_bgcolor": "white",
          "plot_bgcolor": "#E5ECF6",
          "polar": {
           "angularaxis": {
            "gridcolor": "white",
            "linecolor": "white",
            "ticks": ""
           },
           "bgcolor": "#E5ECF6",
           "radialaxis": {
            "gridcolor": "white",
            "linecolor": "white",
            "ticks": ""
           }
          },
          "scene": {
           "xaxis": {
            "backgroundcolor": "#E5ECF6",
            "gridcolor": "white",
            "gridwidth": 2,
            "linecolor": "white",
            "showbackground": true,
            "ticks": "",
            "zerolinecolor": "white"
           },
           "yaxis": {
            "backgroundcolor": "#E5ECF6",
            "gridcolor": "white",
            "gridwidth": 2,
            "linecolor": "white",
            "showbackground": true,
            "ticks": "",
            "zerolinecolor": "white"
           },
           "zaxis": {
            "backgroundcolor": "#E5ECF6",
            "gridcolor": "white",
            "gridwidth": 2,
            "linecolor": "white",
            "showbackground": true,
            "ticks": "",
            "zerolinecolor": "white"
           }
          },
          "shapedefaults": {
           "line": {
            "color": "#2a3f5f"
           }
          },
          "ternary": {
           "aaxis": {
            "gridcolor": "white",
            "linecolor": "white",
            "ticks": ""
           },
           "baxis": {
            "gridcolor": "white",
            "linecolor": "white",
            "ticks": ""
           },
           "bgcolor": "#E5ECF6",
           "caxis": {
            "gridcolor": "white",
            "linecolor": "white",
            "ticks": ""
           }
          },
          "title": {
           "x": 0.05
          },
          "xaxis": {
           "automargin": true,
           "gridcolor": "white",
           "linecolor": "white",
           "ticks": "",
           "title": {
            "standoff": 15
           },
           "zerolinecolor": "white",
           "zerolinewidth": 2
          },
          "yaxis": {
           "automargin": true,
           "gridcolor": "white",
           "linecolor": "white",
           "ticks": "",
           "title": {
            "standoff": 15
           },
           "zerolinecolor": "white",
           "zerolinewidth": 2
          }
         }
        },
        "xaxis": {
         "anchor": "y",
         "domain": [
          0,
          0.7363
         ],
         "title": {
          "text": "rawF1"
         }
        },
        "xaxis2": {
         "anchor": "y2",
         "domain": [
          0.7413,
          1
         ],
         "matches": "x2",
         "showgrid": true,
         "showline": false,
         "showticklabels": false,
         "ticks": ""
        },
        "yaxis": {
         "anchor": "x",
         "domain": [
          0,
          1
         ],
         "title": {
          "text": "f1"
         }
        },
        "yaxis2": {
         "anchor": "x2",
         "domain": [
          0,
          1
         ],
         "matches": "y",
         "showgrid": true,
         "showticklabels": false
        }
       }
      }
     },
     "metadata": {},
     "output_type": "display_data"
    }
   ],
   "source": [
    "fig=px.scatter(experimentModels,x='rawF1',y='f1',color='test',hover_name='modelId', marginal_y=\"histogram\")\n",
    "fig.add_trace(\n",
    "    go.Scatter(x=experimentModels['rawF1'], y=experimentModels['rawF1'], name=\"identity\", mode='lines',fill=\"toself\")\n",
    ")\n",
    "fig.show()"
   ]
  },
  {
   "cell_type": "code",
   "execution_count": 39,
   "metadata": {},
   "outputs": [
    {
     "data": {
      "application/vnd.plotly.v1+json": {
       "config": {
        "plotlyServerURL": "https://plot.ly"
       },
       "data": [
        {
         "hovertemplate": "<b>%{hovertext}</b><br><br>test=0002<br>rawF1=%{x}<br>eventF1=%{y}<extra></extra>",
         "hovertext": [
          "ca4abebe-7534-4387-9f7e-7e56aeb102df"
         ],
         "legendgroup": "0002",
         "marker": {
          "color": "#636efa",
          "symbol": "circle"
         },
         "mode": "markers",
         "name": "0002",
         "orientation": "v",
         "showlegend": true,
         "type": "scatter",
         "x": [
          0.6109014488892835
         ],
         "xaxis": "x",
         "y": [
          0.7244318181818182
         ],
         "yaxis": "y"
        },
        {
         "alignmentgroup": "True",
         "bingroup": "y",
         "hovertemplate": "test=0002<br>eventF1=%{y}<br>count=%{x}<extra></extra>",
         "legendgroup": "0002",
         "marker": {
          "color": "#636efa"
         },
         "name": "0002",
         "offsetgroup": "0002",
         "opacity": 0.5,
         "showlegend": false,
         "type": "histogram",
         "xaxis": "x2",
         "y": [
          0.7244318181818182
         ],
         "yaxis": "y2"
        },
        {
         "hovertemplate": "<b>%{hovertext}</b><br><br>test=0003<br>rawF1=%{x}<br>eventF1=%{y}<extra></extra>",
         "hovertext": [
          "ec345db7-d0e7-447a-a219-52693d52bf41"
         ],
         "legendgroup": "0003",
         "marker": {
          "color": "#EF553B",
          "symbol": "circle"
         },
         "mode": "markers",
         "name": "0003",
         "orientation": "v",
         "showlegend": true,
         "type": "scatter",
         "x": [
          0.7071693958992706
         ],
         "xaxis": "x",
         "y": [
          0.8515228426395939
         ],
         "yaxis": "y"
        },
        {
         "alignmentgroup": "True",
         "bingroup": "y",
         "hovertemplate": "test=0003<br>eventF1=%{y}<br>count=%{x}<extra></extra>",
         "legendgroup": "0003",
         "marker": {
          "color": "#EF553B"
         },
         "name": "0003",
         "offsetgroup": "0003",
         "opacity": 0.5,
         "showlegend": false,
         "type": "histogram",
         "xaxis": "x2",
         "y": [
          0.8515228426395939
         ],
         "yaxis": "y2"
        },
        {
         "hovertemplate": "<b>%{hovertext}</b><br><br>test=0004<br>rawF1=%{x}<br>eventF1=%{y}<extra></extra>",
         "hovertext": [
          "5efd55af-ba1f-4dd8-905e-9279a3c25d07"
         ],
         "legendgroup": "0004",
         "marker": {
          "color": "#00cc96",
          "symbol": "circle"
         },
         "mode": "markers",
         "name": "0004",
         "orientation": "v",
         "showlegend": true,
         "type": "scatter",
         "x": [
          0.7099731576695152
         ],
         "xaxis": "x",
         "y": [
          0.7937649880095923
         ],
         "yaxis": "y"
        },
        {
         "alignmentgroup": "True",
         "bingroup": "y",
         "hovertemplate": "test=0004<br>eventF1=%{y}<br>count=%{x}<extra></extra>",
         "legendgroup": "0004",
         "marker": {
          "color": "#00cc96"
         },
         "name": "0004",
         "offsetgroup": "0004",
         "opacity": 0.5,
         "showlegend": false,
         "type": "histogram",
         "xaxis": "x2",
         "y": [
          0.7937649880095923
         ],
         "yaxis": "y2"
        },
        {
         "hovertemplate": "<b>%{hovertext}</b><br><br>test=0005<br>rawF1=%{x}<br>eventF1=%{y}<extra></extra>",
         "hovertext": [
          "79b2270a-cfb8-4f96-987a-040fa3dc0386"
         ],
         "legendgroup": "0005",
         "marker": {
          "color": "#ab63fa",
          "symbol": "circle"
         },
         "mode": "markers",
         "name": "0005",
         "orientation": "v",
         "showlegend": true,
         "type": "scatter",
         "x": [
          0.6260649080156314
         ],
         "xaxis": "x",
         "y": [
          0.6366666666666667
         ],
         "yaxis": "y"
        },
        {
         "alignmentgroup": "True",
         "bingroup": "y",
         "hovertemplate": "test=0005<br>eventF1=%{y}<br>count=%{x}<extra></extra>",
         "legendgroup": "0005",
         "marker": {
          "color": "#ab63fa"
         },
         "name": "0005",
         "offsetgroup": "0005",
         "opacity": 0.5,
         "showlegend": false,
         "type": "histogram",
         "xaxis": "x2",
         "y": [
          0.6366666666666667
         ],
         "yaxis": "y2"
        },
        {
         "hovertemplate": "<b>%{hovertext}</b><br><br>test=0006<br>rawF1=%{x}<br>eventF1=%{y}<extra></extra>",
         "hovertext": [
          "b1cb5f16-0c62-4dd7-b5d9-16fae63b28c5"
         ],
         "legendgroup": "0006",
         "marker": {
          "color": "#FFA15A",
          "symbol": "circle"
         },
         "mode": "markers",
         "name": "0006",
         "orientation": "v",
         "showlegend": true,
         "type": "scatter",
         "x": [
          0.6162303736341687
         ],
         "xaxis": "x",
         "y": [
          0.6787072243346007
         ],
         "yaxis": "y"
        },
        {
         "alignmentgroup": "True",
         "bingroup": "y",
         "hovertemplate": "test=0006<br>eventF1=%{y}<br>count=%{x}<extra></extra>",
         "legendgroup": "0006",
         "marker": {
          "color": "#FFA15A"
         },
         "name": "0006",
         "offsetgroup": "0006",
         "opacity": 0.5,
         "showlegend": false,
         "type": "histogram",
         "xaxis": "x2",
         "y": [
          0.6787072243346007
         ],
         "yaxis": "y2"
        },
        {
         "hovertemplate": "<b>%{hovertext}</b><br><br>test=0007<br>rawF1=%{x}<br>eventF1=%{y}<extra></extra>",
         "hovertext": [
          "28b0a080-fdd1-4b49-97d4-f98a8671c508"
         ],
         "legendgroup": "0007",
         "marker": {
          "color": "#19d3f3",
          "symbol": "circle"
         },
         "mode": "markers",
         "name": "0007",
         "orientation": "v",
         "showlegend": true,
         "type": "scatter",
         "x": [
          0.5667668606200995
         ],
         "xaxis": "x",
         "y": [
          0.7196652719665272
         ],
         "yaxis": "y"
        },
        {
         "alignmentgroup": "True",
         "bingroup": "y",
         "hovertemplate": "test=0007<br>eventF1=%{y}<br>count=%{x}<extra></extra>",
         "legendgroup": "0007",
         "marker": {
          "color": "#19d3f3"
         },
         "name": "0007",
         "offsetgroup": "0007",
         "opacity": 0.5,
         "showlegend": false,
         "type": "histogram",
         "xaxis": "x2",
         "y": [
          0.7196652719665272
         ],
         "yaxis": "y2"
        },
        {
         "hovertemplate": "<b>%{hovertext}</b><br><br>test=0008<br>rawF1=%{x}<br>eventF1=%{y}<extra></extra>",
         "hovertext": [
          "acc1aab9-4594-40ce-8d0c-f2111f7a6c69"
         ],
         "legendgroup": "0008",
         "marker": {
          "color": "#FF6692",
          "symbol": "circle"
         },
         "mode": "markers",
         "name": "0008",
         "orientation": "v",
         "showlegend": true,
         "type": "scatter",
         "x": [
          0.50231124807396
         ],
         "xaxis": "x",
         "y": [
          0.6206896551724138
         ],
         "yaxis": "y"
        },
        {
         "alignmentgroup": "True",
         "bingroup": "y",
         "hovertemplate": "test=0008<br>eventF1=%{y}<br>count=%{x}<extra></extra>",
         "legendgroup": "0008",
         "marker": {
          "color": "#FF6692"
         },
         "name": "0008",
         "offsetgroup": "0008",
         "opacity": 0.5,
         "showlegend": false,
         "type": "histogram",
         "xaxis": "x2",
         "y": [
          0.6206896551724138
         ],
         "yaxis": "y2"
        },
        {
         "fill": "toself",
         "mode": "lines",
         "name": "identity",
         "type": "scatter",
         "x": [
          0.6109014488892835,
          0.7071693958992706,
          0.7099731576695152,
          0.6260649080156314,
          0.6162303736341687,
          0.5667668606200995,
          0.50231124807396
         ],
         "y": [
          0.6109014488892835,
          0.7071693958992706,
          0.7099731576695152,
          0.6260649080156314,
          0.6162303736341687,
          0.5667668606200995,
          0.50231124807396
         ]
        }
       ],
       "layout": {
        "barmode": "overlay",
        "legend": {
         "title": {
          "text": "test"
         },
         "tracegroupgap": 0
        },
        "margin": {
         "t": 60
        },
        "template": {
         "data": {
          "bar": [
           {
            "error_x": {
             "color": "#2a3f5f"
            },
            "error_y": {
             "color": "#2a3f5f"
            },
            "marker": {
             "line": {
              "color": "#E5ECF6",
              "width": 0.5
             },
             "pattern": {
              "fillmode": "overlay",
              "size": 10,
              "solidity": 0.2
             }
            },
            "type": "bar"
           }
          ],
          "barpolar": [
           {
            "marker": {
             "line": {
              "color": "#E5ECF6",
              "width": 0.5
             },
             "pattern": {
              "fillmode": "overlay",
              "size": 10,
              "solidity": 0.2
             }
            },
            "type": "barpolar"
           }
          ],
          "carpet": [
           {
            "aaxis": {
             "endlinecolor": "#2a3f5f",
             "gridcolor": "white",
             "linecolor": "white",
             "minorgridcolor": "white",
             "startlinecolor": "#2a3f5f"
            },
            "baxis": {
             "endlinecolor": "#2a3f5f",
             "gridcolor": "white",
             "linecolor": "white",
             "minorgridcolor": "white",
             "startlinecolor": "#2a3f5f"
            },
            "type": "carpet"
           }
          ],
          "choropleth": [
           {
            "colorbar": {
             "outlinewidth": 0,
             "ticks": ""
            },
            "type": "choropleth"
           }
          ],
          "contour": [
           {
            "colorbar": {
             "outlinewidth": 0,
             "ticks": ""
            },
            "colorscale": [
             [
              0,
              "#0d0887"
             ],
             [
              0.1111111111111111,
              "#46039f"
             ],
             [
              0.2222222222222222,
              "#7201a8"
             ],
             [
              0.3333333333333333,
              "#9c179e"
             ],
             [
              0.4444444444444444,
              "#bd3786"
             ],
             [
              0.5555555555555556,
              "#d8576b"
             ],
             [
              0.6666666666666666,
              "#ed7953"
             ],
             [
              0.7777777777777778,
              "#fb9f3a"
             ],
             [
              0.8888888888888888,
              "#fdca26"
             ],
             [
              1,
              "#f0f921"
             ]
            ],
            "type": "contour"
           }
          ],
          "contourcarpet": [
           {
            "colorbar": {
             "outlinewidth": 0,
             "ticks": ""
            },
            "type": "contourcarpet"
           }
          ],
          "heatmap": [
           {
            "colorbar": {
             "outlinewidth": 0,
             "ticks": ""
            },
            "colorscale": [
             [
              0,
              "#0d0887"
             ],
             [
              0.1111111111111111,
              "#46039f"
             ],
             [
              0.2222222222222222,
              "#7201a8"
             ],
             [
              0.3333333333333333,
              "#9c179e"
             ],
             [
              0.4444444444444444,
              "#bd3786"
             ],
             [
              0.5555555555555556,
              "#d8576b"
             ],
             [
              0.6666666666666666,
              "#ed7953"
             ],
             [
              0.7777777777777778,
              "#fb9f3a"
             ],
             [
              0.8888888888888888,
              "#fdca26"
             ],
             [
              1,
              "#f0f921"
             ]
            ],
            "type": "heatmap"
           }
          ],
          "heatmapgl": [
           {
            "colorbar": {
             "outlinewidth": 0,
             "ticks": ""
            },
            "colorscale": [
             [
              0,
              "#0d0887"
             ],
             [
              0.1111111111111111,
              "#46039f"
             ],
             [
              0.2222222222222222,
              "#7201a8"
             ],
             [
              0.3333333333333333,
              "#9c179e"
             ],
             [
              0.4444444444444444,
              "#bd3786"
             ],
             [
              0.5555555555555556,
              "#d8576b"
             ],
             [
              0.6666666666666666,
              "#ed7953"
             ],
             [
              0.7777777777777778,
              "#fb9f3a"
             ],
             [
              0.8888888888888888,
              "#fdca26"
             ],
             [
              1,
              "#f0f921"
             ]
            ],
            "type": "heatmapgl"
           }
          ],
          "histogram": [
           {
            "marker": {
             "pattern": {
              "fillmode": "overlay",
              "size": 10,
              "solidity": 0.2
             }
            },
            "type": "histogram"
           }
          ],
          "histogram2d": [
           {
            "colorbar": {
             "outlinewidth": 0,
             "ticks": ""
            },
            "colorscale": [
             [
              0,
              "#0d0887"
             ],
             [
              0.1111111111111111,
              "#46039f"
             ],
             [
              0.2222222222222222,
              "#7201a8"
             ],
             [
              0.3333333333333333,
              "#9c179e"
             ],
             [
              0.4444444444444444,
              "#bd3786"
             ],
             [
              0.5555555555555556,
              "#d8576b"
             ],
             [
              0.6666666666666666,
              "#ed7953"
             ],
             [
              0.7777777777777778,
              "#fb9f3a"
             ],
             [
              0.8888888888888888,
              "#fdca26"
             ],
             [
              1,
              "#f0f921"
             ]
            ],
            "type": "histogram2d"
           }
          ],
          "histogram2dcontour": [
           {
            "colorbar": {
             "outlinewidth": 0,
             "ticks": ""
            },
            "colorscale": [
             [
              0,
              "#0d0887"
             ],
             [
              0.1111111111111111,
              "#46039f"
             ],
             [
              0.2222222222222222,
              "#7201a8"
             ],
             [
              0.3333333333333333,
              "#9c179e"
             ],
             [
              0.4444444444444444,
              "#bd3786"
             ],
             [
              0.5555555555555556,
              "#d8576b"
             ],
             [
              0.6666666666666666,
              "#ed7953"
             ],
             [
              0.7777777777777778,
              "#fb9f3a"
             ],
             [
              0.8888888888888888,
              "#fdca26"
             ],
             [
              1,
              "#f0f921"
             ]
            ],
            "type": "histogram2dcontour"
           }
          ],
          "mesh3d": [
           {
            "colorbar": {
             "outlinewidth": 0,
             "ticks": ""
            },
            "type": "mesh3d"
           }
          ],
          "parcoords": [
           {
            "line": {
             "colorbar": {
              "outlinewidth": 0,
              "ticks": ""
             }
            },
            "type": "parcoords"
           }
          ],
          "pie": [
           {
            "automargin": true,
            "type": "pie"
           }
          ],
          "scatter": [
           {
            "fillpattern": {
             "fillmode": "overlay",
             "size": 10,
             "solidity": 0.2
            },
            "type": "scatter"
           }
          ],
          "scatter3d": [
           {
            "line": {
             "colorbar": {
              "outlinewidth": 0,
              "ticks": ""
             }
            },
            "marker": {
             "colorbar": {
              "outlinewidth": 0,
              "ticks": ""
             }
            },
            "type": "scatter3d"
           }
          ],
          "scattercarpet": [
           {
            "marker": {
             "colorbar": {
              "outlinewidth": 0,
              "ticks": ""
             }
            },
            "type": "scattercarpet"
           }
          ],
          "scattergeo": [
           {
            "marker": {
             "colorbar": {
              "outlinewidth": 0,
              "ticks": ""
             }
            },
            "type": "scattergeo"
           }
          ],
          "scattergl": [
           {
            "marker": {
             "colorbar": {
              "outlinewidth": 0,
              "ticks": ""
             }
            },
            "type": "scattergl"
           }
          ],
          "scattermapbox": [
           {
            "marker": {
             "colorbar": {
              "outlinewidth": 0,
              "ticks": ""
             }
            },
            "type": "scattermapbox"
           }
          ],
          "scatterpolar": [
           {
            "marker": {
             "colorbar": {
              "outlinewidth": 0,
              "ticks": ""
             }
            },
            "type": "scatterpolar"
           }
          ],
          "scatterpolargl": [
           {
            "marker": {
             "colorbar": {
              "outlinewidth": 0,
              "ticks": ""
             }
            },
            "type": "scatterpolargl"
           }
          ],
          "scatterternary": [
           {
            "marker": {
             "colorbar": {
              "outlinewidth": 0,
              "ticks": ""
             }
            },
            "type": "scatterternary"
           }
          ],
          "surface": [
           {
            "colorbar": {
             "outlinewidth": 0,
             "ticks": ""
            },
            "colorscale": [
             [
              0,
              "#0d0887"
             ],
             [
              0.1111111111111111,
              "#46039f"
             ],
             [
              0.2222222222222222,
              "#7201a8"
             ],
             [
              0.3333333333333333,
              "#9c179e"
             ],
             [
              0.4444444444444444,
              "#bd3786"
             ],
             [
              0.5555555555555556,
              "#d8576b"
             ],
             [
              0.6666666666666666,
              "#ed7953"
             ],
             [
              0.7777777777777778,
              "#fb9f3a"
             ],
             [
              0.8888888888888888,
              "#fdca26"
             ],
             [
              1,
              "#f0f921"
             ]
            ],
            "type": "surface"
           }
          ],
          "table": [
           {
            "cells": {
             "fill": {
              "color": "#EBF0F8"
             },
             "line": {
              "color": "white"
             }
            },
            "header": {
             "fill": {
              "color": "#C8D4E3"
             },
             "line": {
              "color": "white"
             }
            },
            "type": "table"
           }
          ]
         },
         "layout": {
          "annotationdefaults": {
           "arrowcolor": "#2a3f5f",
           "arrowhead": 0,
           "arrowwidth": 1
          },
          "autotypenumbers": "strict",
          "coloraxis": {
           "colorbar": {
            "outlinewidth": 0,
            "ticks": ""
           }
          },
          "colorscale": {
           "diverging": [
            [
             0,
             "#8e0152"
            ],
            [
             0.1,
             "#c51b7d"
            ],
            [
             0.2,
             "#de77ae"
            ],
            [
             0.3,
             "#f1b6da"
            ],
            [
             0.4,
             "#fde0ef"
            ],
            [
             0.5,
             "#f7f7f7"
            ],
            [
             0.6,
             "#e6f5d0"
            ],
            [
             0.7,
             "#b8e186"
            ],
            [
             0.8,
             "#7fbc41"
            ],
            [
             0.9,
             "#4d9221"
            ],
            [
             1,
             "#276419"
            ]
           ],
           "sequential": [
            [
             0,
             "#0d0887"
            ],
            [
             0.1111111111111111,
             "#46039f"
            ],
            [
             0.2222222222222222,
             "#7201a8"
            ],
            [
             0.3333333333333333,
             "#9c179e"
            ],
            [
             0.4444444444444444,
             "#bd3786"
            ],
            [
             0.5555555555555556,
             "#d8576b"
            ],
            [
             0.6666666666666666,
             "#ed7953"
            ],
            [
             0.7777777777777778,
             "#fb9f3a"
            ],
            [
             0.8888888888888888,
             "#fdca26"
            ],
            [
             1,
             "#f0f921"
            ]
           ],
           "sequentialminus": [
            [
             0,
             "#0d0887"
            ],
            [
             0.1111111111111111,
             "#46039f"
            ],
            [
             0.2222222222222222,
             "#7201a8"
            ],
            [
             0.3333333333333333,
             "#9c179e"
            ],
            [
             0.4444444444444444,
             "#bd3786"
            ],
            [
             0.5555555555555556,
             "#d8576b"
            ],
            [
             0.6666666666666666,
             "#ed7953"
            ],
            [
             0.7777777777777778,
             "#fb9f3a"
            ],
            [
             0.8888888888888888,
             "#fdca26"
            ],
            [
             1,
             "#f0f921"
            ]
           ]
          },
          "colorway": [
           "#636efa",
           "#EF553B",
           "#00cc96",
           "#ab63fa",
           "#FFA15A",
           "#19d3f3",
           "#FF6692",
           "#B6E880",
           "#FF97FF",
           "#FECB52"
          ],
          "font": {
           "color": "#2a3f5f"
          },
          "geo": {
           "bgcolor": "white",
           "lakecolor": "white",
           "landcolor": "#E5ECF6",
           "showlakes": true,
           "showland": true,
           "subunitcolor": "white"
          },
          "hoverlabel": {
           "align": "left"
          },
          "hovermode": "closest",
          "mapbox": {
           "style": "light"
          },
          "paper_bgcolor": "white",
          "plot_bgcolor": "#E5ECF6",
          "polar": {
           "angularaxis": {
            "gridcolor": "white",
            "linecolor": "white",
            "ticks": ""
           },
           "bgcolor": "#E5ECF6",
           "radialaxis": {
            "gridcolor": "white",
            "linecolor": "white",
            "ticks": ""
           }
          },
          "scene": {
           "xaxis": {
            "backgroundcolor": "#E5ECF6",
            "gridcolor": "white",
            "gridwidth": 2,
            "linecolor": "white",
            "showbackground": true,
            "ticks": "",
            "zerolinecolor": "white"
           },
           "yaxis": {
            "backgroundcolor": "#E5ECF6",
            "gridcolor": "white",
            "gridwidth": 2,
            "linecolor": "white",
            "showbackground": true,
            "ticks": "",
            "zerolinecolor": "white"
           },
           "zaxis": {
            "backgroundcolor": "#E5ECF6",
            "gridcolor": "white",
            "gridwidth": 2,
            "linecolor": "white",
            "showbackground": true,
            "ticks": "",
            "zerolinecolor": "white"
           }
          },
          "shapedefaults": {
           "line": {
            "color": "#2a3f5f"
           }
          },
          "ternary": {
           "aaxis": {
            "gridcolor": "white",
            "linecolor": "white",
            "ticks": ""
           },
           "baxis": {
            "gridcolor": "white",
            "linecolor": "white",
            "ticks": ""
           },
           "bgcolor": "#E5ECF6",
           "caxis": {
            "gridcolor": "white",
            "linecolor": "white",
            "ticks": ""
           }
          },
          "title": {
           "x": 0.05
          },
          "xaxis": {
           "automargin": true,
           "gridcolor": "white",
           "linecolor": "white",
           "ticks": "",
           "title": {
            "standoff": 15
           },
           "zerolinecolor": "white",
           "zerolinewidth": 2
          },
          "yaxis": {
           "automargin": true,
           "gridcolor": "white",
           "linecolor": "white",
           "ticks": "",
           "title": {
            "standoff": 15
           },
           "zerolinecolor": "white",
           "zerolinewidth": 2
          }
         }
        },
        "xaxis": {
         "anchor": "y",
         "domain": [
          0,
          0.7363
         ],
         "title": {
          "text": "rawF1"
         }
        },
        "xaxis2": {
         "anchor": "y2",
         "domain": [
          0.7413,
          1
         ],
         "matches": "x2",
         "showgrid": true,
         "showline": false,
         "showticklabels": false,
         "ticks": ""
        },
        "yaxis": {
         "anchor": "x",
         "domain": [
          0,
          1
         ],
         "title": {
          "text": "eventF1"
         }
        },
        "yaxis2": {
         "anchor": "x2",
         "domain": [
          0,
          1
         ],
         "matches": "y",
         "showgrid": true,
         "showticklabels": false
        }
       }
      }
     },
     "metadata": {},
     "output_type": "display_data"
    }
   ],
   "source": [
    "fig=px.scatter(experimentModels,x='rawF1',y='eventF1',color='test',hover_name='modelId', marginal_y=\"histogram\")\n",
    "fig.add_trace(\n",
    "    go.Scatter(x=experimentModels['rawF1'], y=experimentModels['rawF1'], name=\"identity\", mode='lines',fill=\"toself\")\n",
    ")\n",
    "fig.show()"
   ]
  },
  {
   "cell_type": "code",
   "execution_count": 40,
   "metadata": {},
   "outputs": [
    {
     "data": {
      "application/vnd.plotly.v1+json": {
       "config": {
        "plotlyServerURL": "https://plot.ly"
       },
       "data": [
        {
         "hovertemplate": "<b>%{hovertext}</b><br><br>test=0002<br>eventF1=%{x}<br>eventPrecision=%{y}<extra></extra>",
         "hovertext": [
          "ca4abebe-7534-4387-9f7e-7e56aeb102df"
         ],
         "legendgroup": "0002",
         "marker": {
          "color": "#636efa",
          "symbol": "circle"
         },
         "mode": "markers",
         "name": "0002",
         "orientation": "v",
         "showlegend": true,
         "type": "scatter",
         "x": [
          0.7244318181818182
         ],
         "xaxis": "x",
         "y": [
          0.8050314465408805
         ],
         "yaxis": "y"
        },
        {
         "alignmentgroup": "True",
         "bingroup": "y",
         "hovertemplate": "test=0002<br>eventPrecision=%{y}<br>count=%{x}<extra></extra>",
         "legendgroup": "0002",
         "marker": {
          "color": "#636efa"
         },
         "name": "0002",
         "offsetgroup": "0002",
         "opacity": 0.5,
         "showlegend": false,
         "type": "histogram",
         "xaxis": "x2",
         "y": [
          0.8050314465408805
         ],
         "yaxis": "y2"
        },
        {
         "hovertemplate": "<b>%{hovertext}</b><br><br>test=0003<br>eventF1=%{x}<br>eventPrecision=%{y}<extra></extra>",
         "hovertext": [
          "ec345db7-d0e7-447a-a219-52693d52bf41"
         ],
         "legendgroup": "0003",
         "marker": {
          "color": "#EF553B",
          "symbol": "circle"
         },
         "mode": "markers",
         "name": "0003",
         "orientation": "v",
         "showlegend": true,
         "type": "scatter",
         "x": [
          0.8515228426395939
         ],
         "xaxis": "x",
         "y": [
          0.8808900523560209
         ],
         "yaxis": "y"
        },
        {
         "alignmentgroup": "True",
         "bingroup": "y",
         "hovertemplate": "test=0003<br>eventPrecision=%{y}<br>count=%{x}<extra></extra>",
         "legendgroup": "0003",
         "marker": {
          "color": "#EF553B"
         },
         "name": "0003",
         "offsetgroup": "0003",
         "opacity": 0.5,
         "showlegend": false,
         "type": "histogram",
         "xaxis": "x2",
         "y": [
          0.8808900523560209
         ],
         "yaxis": "y2"
        },
        {
         "hovertemplate": "<b>%{hovertext}</b><br><br>test=0004<br>eventF1=%{x}<br>eventPrecision=%{y}<extra></extra>",
         "hovertext": [
          "5efd55af-ba1f-4dd8-905e-9279a3c25d07"
         ],
         "legendgroup": "0004",
         "marker": {
          "color": "#00cc96",
          "symbol": "circle"
         },
         "mode": "markers",
         "name": "0004",
         "orientation": "v",
         "showlegend": true,
         "type": "scatter",
         "x": [
          0.7937649880095923
         ],
         "xaxis": "x",
         "y": [
          0.7460674157303371
         ],
         "yaxis": "y"
        },
        {
         "alignmentgroup": "True",
         "bingroup": "y",
         "hovertemplate": "test=0004<br>eventPrecision=%{y}<br>count=%{x}<extra></extra>",
         "legendgroup": "0004",
         "marker": {
          "color": "#00cc96"
         },
         "name": "0004",
         "offsetgroup": "0004",
         "opacity": 0.5,
         "showlegend": false,
         "type": "histogram",
         "xaxis": "x2",
         "y": [
          0.7460674157303371
         ],
         "yaxis": "y2"
        },
        {
         "hovertemplate": "<b>%{hovertext}</b><br><br>test=0005<br>eventF1=%{x}<br>eventPrecision=%{y}<extra></extra>",
         "hovertext": [
          "79b2270a-cfb8-4f96-987a-040fa3dc0386"
         ],
         "legendgroup": "0005",
         "marker": {
          "color": "#ab63fa",
          "symbol": "circle"
         },
         "mode": "markers",
         "name": "0005",
         "orientation": "v",
         "showlegend": true,
         "type": "scatter",
         "x": [
          0.6366666666666667
         ],
         "xaxis": "x",
         "y": [
          0.48484848484848486
         ],
         "yaxis": "y"
        },
        {
         "alignmentgroup": "True",
         "bingroup": "y",
         "hovertemplate": "test=0005<br>eventPrecision=%{y}<br>count=%{x}<extra></extra>",
         "legendgroup": "0005",
         "marker": {
          "color": "#ab63fa"
         },
         "name": "0005",
         "offsetgroup": "0005",
         "opacity": 0.5,
         "showlegend": false,
         "type": "histogram",
         "xaxis": "x2",
         "y": [
          0.48484848484848486
         ],
         "yaxis": "y2"
        },
        {
         "hovertemplate": "<b>%{hovertext}</b><br><br>test=0006<br>eventF1=%{x}<br>eventPrecision=%{y}<extra></extra>",
         "hovertext": [
          "b1cb5f16-0c62-4dd7-b5d9-16fae63b28c5"
         ],
         "legendgroup": "0006",
         "marker": {
          "color": "#FFA15A",
          "symbol": "circle"
         },
         "mode": "markers",
         "name": "0006",
         "orientation": "v",
         "showlegend": true,
         "type": "scatter",
         "x": [
          0.6787072243346007
         ],
         "xaxis": "x",
         "y": [
          0.5700636942675159
         ],
         "yaxis": "y"
        },
        {
         "alignmentgroup": "True",
         "bingroup": "y",
         "hovertemplate": "test=0006<br>eventPrecision=%{y}<br>count=%{x}<extra></extra>",
         "legendgroup": "0006",
         "marker": {
          "color": "#FFA15A"
         },
         "name": "0006",
         "offsetgroup": "0006",
         "opacity": 0.5,
         "showlegend": false,
         "type": "histogram",
         "xaxis": "x2",
         "y": [
          0.5700636942675159
         ],
         "yaxis": "y2"
        },
        {
         "hovertemplate": "<b>%{hovertext}</b><br><br>test=0007<br>eventF1=%{x}<br>eventPrecision=%{y}<extra></extra>",
         "hovertext": [
          "28b0a080-fdd1-4b49-97d4-f98a8671c508"
         ],
         "legendgroup": "0007",
         "marker": {
          "color": "#19d3f3",
          "symbol": "circle"
         },
         "mode": "markers",
         "name": "0007",
         "orientation": "v",
         "showlegend": true,
         "type": "scatter",
         "x": [
          0.7196652719665272
         ],
         "xaxis": "x",
         "y": [
          0.7247191011235955
         ],
         "yaxis": "y"
        },
        {
         "alignmentgroup": "True",
         "bingroup": "y",
         "hovertemplate": "test=0007<br>eventPrecision=%{y}<br>count=%{x}<extra></extra>",
         "legendgroup": "0007",
         "marker": {
          "color": "#19d3f3"
         },
         "name": "0007",
         "offsetgroup": "0007",
         "opacity": 0.5,
         "showlegend": false,
         "type": "histogram",
         "xaxis": "x2",
         "y": [
          0.7247191011235955
         ],
         "yaxis": "y2"
        },
        {
         "hovertemplate": "<b>%{hovertext}</b><br><br>test=0008<br>eventF1=%{x}<br>eventPrecision=%{y}<extra></extra>",
         "hovertext": [
          "acc1aab9-4594-40ce-8d0c-f2111f7a6c69"
         ],
         "legendgroup": "0008",
         "marker": {
          "color": "#FF6692",
          "symbol": "circle"
         },
         "mode": "markers",
         "name": "0008",
         "orientation": "v",
         "showlegend": true,
         "type": "scatter",
         "x": [
          0.6206896551724138
         ],
         "xaxis": "x",
         "y": [
          0.627906976744186
         ],
         "yaxis": "y"
        },
        {
         "alignmentgroup": "True",
         "bingroup": "y",
         "hovertemplate": "test=0008<br>eventPrecision=%{y}<br>count=%{x}<extra></extra>",
         "legendgroup": "0008",
         "marker": {
          "color": "#FF6692"
         },
         "name": "0008",
         "offsetgroup": "0008",
         "opacity": 0.5,
         "showlegend": false,
         "type": "histogram",
         "xaxis": "x2",
         "y": [
          0.627906976744186
         ],
         "yaxis": "y2"
        },
        {
         "fill": "toself",
         "mode": "lines",
         "name": "identity",
         "type": "scatter",
         "x": [
          0.7244318181818182,
          0.8515228426395939,
          0.7937649880095923,
          0.6366666666666667,
          0.6787072243346007,
          0.7196652719665272,
          0.6206896551724138
         ],
         "y": [
          0.7244318181818182,
          0.8515228426395939,
          0.7937649880095923,
          0.6366666666666667,
          0.6787072243346007,
          0.7196652719665272,
          0.6206896551724138
         ]
        }
       ],
       "layout": {
        "barmode": "overlay",
        "legend": {
         "title": {
          "text": "test"
         },
         "tracegroupgap": 0
        },
        "margin": {
         "t": 60
        },
        "template": {
         "data": {
          "bar": [
           {
            "error_x": {
             "color": "#2a3f5f"
            },
            "error_y": {
             "color": "#2a3f5f"
            },
            "marker": {
             "line": {
              "color": "#E5ECF6",
              "width": 0.5
             },
             "pattern": {
              "fillmode": "overlay",
              "size": 10,
              "solidity": 0.2
             }
            },
            "type": "bar"
           }
          ],
          "barpolar": [
           {
            "marker": {
             "line": {
              "color": "#E5ECF6",
              "width": 0.5
             },
             "pattern": {
              "fillmode": "overlay",
              "size": 10,
              "solidity": 0.2
             }
            },
            "type": "barpolar"
           }
          ],
          "carpet": [
           {
            "aaxis": {
             "endlinecolor": "#2a3f5f",
             "gridcolor": "white",
             "linecolor": "white",
             "minorgridcolor": "white",
             "startlinecolor": "#2a3f5f"
            },
            "baxis": {
             "endlinecolor": "#2a3f5f",
             "gridcolor": "white",
             "linecolor": "white",
             "minorgridcolor": "white",
             "startlinecolor": "#2a3f5f"
            },
            "type": "carpet"
           }
          ],
          "choropleth": [
           {
            "colorbar": {
             "outlinewidth": 0,
             "ticks": ""
            },
            "type": "choropleth"
           }
          ],
          "contour": [
           {
            "colorbar": {
             "outlinewidth": 0,
             "ticks": ""
            },
            "colorscale": [
             [
              0,
              "#0d0887"
             ],
             [
              0.1111111111111111,
              "#46039f"
             ],
             [
              0.2222222222222222,
              "#7201a8"
             ],
             [
              0.3333333333333333,
              "#9c179e"
             ],
             [
              0.4444444444444444,
              "#bd3786"
             ],
             [
              0.5555555555555556,
              "#d8576b"
             ],
             [
              0.6666666666666666,
              "#ed7953"
             ],
             [
              0.7777777777777778,
              "#fb9f3a"
             ],
             [
              0.8888888888888888,
              "#fdca26"
             ],
             [
              1,
              "#f0f921"
             ]
            ],
            "type": "contour"
           }
          ],
          "contourcarpet": [
           {
            "colorbar": {
             "outlinewidth": 0,
             "ticks": ""
            },
            "type": "contourcarpet"
           }
          ],
          "heatmap": [
           {
            "colorbar": {
             "outlinewidth": 0,
             "ticks": ""
            },
            "colorscale": [
             [
              0,
              "#0d0887"
             ],
             [
              0.1111111111111111,
              "#46039f"
             ],
             [
              0.2222222222222222,
              "#7201a8"
             ],
             [
              0.3333333333333333,
              "#9c179e"
             ],
             [
              0.4444444444444444,
              "#bd3786"
             ],
             [
              0.5555555555555556,
              "#d8576b"
             ],
             [
              0.6666666666666666,
              "#ed7953"
             ],
             [
              0.7777777777777778,
              "#fb9f3a"
             ],
             [
              0.8888888888888888,
              "#fdca26"
             ],
             [
              1,
              "#f0f921"
             ]
            ],
            "type": "heatmap"
           }
          ],
          "heatmapgl": [
           {
            "colorbar": {
             "outlinewidth": 0,
             "ticks": ""
            },
            "colorscale": [
             [
              0,
              "#0d0887"
             ],
             [
              0.1111111111111111,
              "#46039f"
             ],
             [
              0.2222222222222222,
              "#7201a8"
             ],
             [
              0.3333333333333333,
              "#9c179e"
             ],
             [
              0.4444444444444444,
              "#bd3786"
             ],
             [
              0.5555555555555556,
              "#d8576b"
             ],
             [
              0.6666666666666666,
              "#ed7953"
             ],
             [
              0.7777777777777778,
              "#fb9f3a"
             ],
             [
              0.8888888888888888,
              "#fdca26"
             ],
             [
              1,
              "#f0f921"
             ]
            ],
            "type": "heatmapgl"
           }
          ],
          "histogram": [
           {
            "marker": {
             "pattern": {
              "fillmode": "overlay",
              "size": 10,
              "solidity": 0.2
             }
            },
            "type": "histogram"
           }
          ],
          "histogram2d": [
           {
            "colorbar": {
             "outlinewidth": 0,
             "ticks": ""
            },
            "colorscale": [
             [
              0,
              "#0d0887"
             ],
             [
              0.1111111111111111,
              "#46039f"
             ],
             [
              0.2222222222222222,
              "#7201a8"
             ],
             [
              0.3333333333333333,
              "#9c179e"
             ],
             [
              0.4444444444444444,
              "#bd3786"
             ],
             [
              0.5555555555555556,
              "#d8576b"
             ],
             [
              0.6666666666666666,
              "#ed7953"
             ],
             [
              0.7777777777777778,
              "#fb9f3a"
             ],
             [
              0.8888888888888888,
              "#fdca26"
             ],
             [
              1,
              "#f0f921"
             ]
            ],
            "type": "histogram2d"
           }
          ],
          "histogram2dcontour": [
           {
            "colorbar": {
             "outlinewidth": 0,
             "ticks": ""
            },
            "colorscale": [
             [
              0,
              "#0d0887"
             ],
             [
              0.1111111111111111,
              "#46039f"
             ],
             [
              0.2222222222222222,
              "#7201a8"
             ],
             [
              0.3333333333333333,
              "#9c179e"
             ],
             [
              0.4444444444444444,
              "#bd3786"
             ],
             [
              0.5555555555555556,
              "#d8576b"
             ],
             [
              0.6666666666666666,
              "#ed7953"
             ],
             [
              0.7777777777777778,
              "#fb9f3a"
             ],
             [
              0.8888888888888888,
              "#fdca26"
             ],
             [
              1,
              "#f0f921"
             ]
            ],
            "type": "histogram2dcontour"
           }
          ],
          "mesh3d": [
           {
            "colorbar": {
             "outlinewidth": 0,
             "ticks": ""
            },
            "type": "mesh3d"
           }
          ],
          "parcoords": [
           {
            "line": {
             "colorbar": {
              "outlinewidth": 0,
              "ticks": ""
             }
            },
            "type": "parcoords"
           }
          ],
          "pie": [
           {
            "automargin": true,
            "type": "pie"
           }
          ],
          "scatter": [
           {
            "fillpattern": {
             "fillmode": "overlay",
             "size": 10,
             "solidity": 0.2
            },
            "type": "scatter"
           }
          ],
          "scatter3d": [
           {
            "line": {
             "colorbar": {
              "outlinewidth": 0,
              "ticks": ""
             }
            },
            "marker": {
             "colorbar": {
              "outlinewidth": 0,
              "ticks": ""
             }
            },
            "type": "scatter3d"
           }
          ],
          "scattercarpet": [
           {
            "marker": {
             "colorbar": {
              "outlinewidth": 0,
              "ticks": ""
             }
            },
            "type": "scattercarpet"
           }
          ],
          "scattergeo": [
           {
            "marker": {
             "colorbar": {
              "outlinewidth": 0,
              "ticks": ""
             }
            },
            "type": "scattergeo"
           }
          ],
          "scattergl": [
           {
            "marker": {
             "colorbar": {
              "outlinewidth": 0,
              "ticks": ""
             }
            },
            "type": "scattergl"
           }
          ],
          "scattermapbox": [
           {
            "marker": {
             "colorbar": {
              "outlinewidth": 0,
              "ticks": ""
             }
            },
            "type": "scattermapbox"
           }
          ],
          "scatterpolar": [
           {
            "marker": {
             "colorbar": {
              "outlinewidth": 0,
              "ticks": ""
             }
            },
            "type": "scatterpolar"
           }
          ],
          "scatterpolargl": [
           {
            "marker": {
             "colorbar": {
              "outlinewidth": 0,
              "ticks": ""
             }
            },
            "type": "scatterpolargl"
           }
          ],
          "scatterternary": [
           {
            "marker": {
             "colorbar": {
              "outlinewidth": 0,
              "ticks": ""
             }
            },
            "type": "scatterternary"
           }
          ],
          "surface": [
           {
            "colorbar": {
             "outlinewidth": 0,
             "ticks": ""
            },
            "colorscale": [
             [
              0,
              "#0d0887"
             ],
             [
              0.1111111111111111,
              "#46039f"
             ],
             [
              0.2222222222222222,
              "#7201a8"
             ],
             [
              0.3333333333333333,
              "#9c179e"
             ],
             [
              0.4444444444444444,
              "#bd3786"
             ],
             [
              0.5555555555555556,
              "#d8576b"
             ],
             [
              0.6666666666666666,
              "#ed7953"
             ],
             [
              0.7777777777777778,
              "#fb9f3a"
             ],
             [
              0.8888888888888888,
              "#fdca26"
             ],
             [
              1,
              "#f0f921"
             ]
            ],
            "type": "surface"
           }
          ],
          "table": [
           {
            "cells": {
             "fill": {
              "color": "#EBF0F8"
             },
             "line": {
              "color": "white"
             }
            },
            "header": {
             "fill": {
              "color": "#C8D4E3"
             },
             "line": {
              "color": "white"
             }
            },
            "type": "table"
           }
          ]
         },
         "layout": {
          "annotationdefaults": {
           "arrowcolor": "#2a3f5f",
           "arrowhead": 0,
           "arrowwidth": 1
          },
          "autotypenumbers": "strict",
          "coloraxis": {
           "colorbar": {
            "outlinewidth": 0,
            "ticks": ""
           }
          },
          "colorscale": {
           "diverging": [
            [
             0,
             "#8e0152"
            ],
            [
             0.1,
             "#c51b7d"
            ],
            [
             0.2,
             "#de77ae"
            ],
            [
             0.3,
             "#f1b6da"
            ],
            [
             0.4,
             "#fde0ef"
            ],
            [
             0.5,
             "#f7f7f7"
            ],
            [
             0.6,
             "#e6f5d0"
            ],
            [
             0.7,
             "#b8e186"
            ],
            [
             0.8,
             "#7fbc41"
            ],
            [
             0.9,
             "#4d9221"
            ],
            [
             1,
             "#276419"
            ]
           ],
           "sequential": [
            [
             0,
             "#0d0887"
            ],
            [
             0.1111111111111111,
             "#46039f"
            ],
            [
             0.2222222222222222,
             "#7201a8"
            ],
            [
             0.3333333333333333,
             "#9c179e"
            ],
            [
             0.4444444444444444,
             "#bd3786"
            ],
            [
             0.5555555555555556,
             "#d8576b"
            ],
            [
             0.6666666666666666,
             "#ed7953"
            ],
            [
             0.7777777777777778,
             "#fb9f3a"
            ],
            [
             0.8888888888888888,
             "#fdca26"
            ],
            [
             1,
             "#f0f921"
            ]
           ],
           "sequentialminus": [
            [
             0,
             "#0d0887"
            ],
            [
             0.1111111111111111,
             "#46039f"
            ],
            [
             0.2222222222222222,
             "#7201a8"
            ],
            [
             0.3333333333333333,
             "#9c179e"
            ],
            [
             0.4444444444444444,
             "#bd3786"
            ],
            [
             0.5555555555555556,
             "#d8576b"
            ],
            [
             0.6666666666666666,
             "#ed7953"
            ],
            [
             0.7777777777777778,
             "#fb9f3a"
            ],
            [
             0.8888888888888888,
             "#fdca26"
            ],
            [
             1,
             "#f0f921"
            ]
           ]
          },
          "colorway": [
           "#636efa",
           "#EF553B",
           "#00cc96",
           "#ab63fa",
           "#FFA15A",
           "#19d3f3",
           "#FF6692",
           "#B6E880",
           "#FF97FF",
           "#FECB52"
          ],
          "font": {
           "color": "#2a3f5f"
          },
          "geo": {
           "bgcolor": "white",
           "lakecolor": "white",
           "landcolor": "#E5ECF6",
           "showlakes": true,
           "showland": true,
           "subunitcolor": "white"
          },
          "hoverlabel": {
           "align": "left"
          },
          "hovermode": "closest",
          "mapbox": {
           "style": "light"
          },
          "paper_bgcolor": "white",
          "plot_bgcolor": "#E5ECF6",
          "polar": {
           "angularaxis": {
            "gridcolor": "white",
            "linecolor": "white",
            "ticks": ""
           },
           "bgcolor": "#E5ECF6",
           "radialaxis": {
            "gridcolor": "white",
            "linecolor": "white",
            "ticks": ""
           }
          },
          "scene": {
           "xaxis": {
            "backgroundcolor": "#E5ECF6",
            "gridcolor": "white",
            "gridwidth": 2,
            "linecolor": "white",
            "showbackground": true,
            "ticks": "",
            "zerolinecolor": "white"
           },
           "yaxis": {
            "backgroundcolor": "#E5ECF6",
            "gridcolor": "white",
            "gridwidth": 2,
            "linecolor": "white",
            "showbackground": true,
            "ticks": "",
            "zerolinecolor": "white"
           },
           "zaxis": {
            "backgroundcolor": "#E5ECF6",
            "gridcolor": "white",
            "gridwidth": 2,
            "linecolor": "white",
            "showbackground": true,
            "ticks": "",
            "zerolinecolor": "white"
           }
          },
          "shapedefaults": {
           "line": {
            "color": "#2a3f5f"
           }
          },
          "ternary": {
           "aaxis": {
            "gridcolor": "white",
            "linecolor": "white",
            "ticks": ""
           },
           "baxis": {
            "gridcolor": "white",
            "linecolor": "white",
            "ticks": ""
           },
           "bgcolor": "#E5ECF6",
           "caxis": {
            "gridcolor": "white",
            "linecolor": "white",
            "ticks": ""
           }
          },
          "title": {
           "x": 0.05
          },
          "xaxis": {
           "automargin": true,
           "gridcolor": "white",
           "linecolor": "white",
           "ticks": "",
           "title": {
            "standoff": 15
           },
           "zerolinecolor": "white",
           "zerolinewidth": 2
          },
          "yaxis": {
           "automargin": true,
           "gridcolor": "white",
           "linecolor": "white",
           "ticks": "",
           "title": {
            "standoff": 15
           },
           "zerolinecolor": "white",
           "zerolinewidth": 2
          }
         }
        },
        "xaxis": {
         "anchor": "y",
         "domain": [
          0,
          0.7363
         ],
         "title": {
          "text": "eventF1"
         }
        },
        "xaxis2": {
         "anchor": "y2",
         "domain": [
          0.7413,
          1
         ],
         "matches": "x2",
         "showgrid": true,
         "showline": false,
         "showticklabels": false,
         "ticks": ""
        },
        "yaxis": {
         "anchor": "x",
         "domain": [
          0,
          1
         ],
         "title": {
          "text": "eventPrecision"
         }
        },
        "yaxis2": {
         "anchor": "x2",
         "domain": [
          0,
          1
         ],
         "matches": "y",
         "showgrid": true,
         "showticklabels": false
        }
       }
      }
     },
     "metadata": {},
     "output_type": "display_data"
    }
   ],
   "source": [
    "fig=px.scatter(experimentModels,x='eventF1',y='eventPrecision',color='test',hover_name='modelId', marginal_y=\"histogram\")\n",
    "fig.add_trace(\n",
    "    go.Scatter(x=experimentModels['eventF1'], y=experimentModels['eventF1'], name=\"identity\", mode='lines',fill=\"toself\")\n",
    ")\n",
    "fig.show()"
   ]
  },
  {
   "cell_type": "code",
   "execution_count": 41,
   "metadata": {},
   "outputs": [
    {
     "data": {
      "application/vnd.plotly.v1+json": {
       "config": {
        "plotlyServerURL": "https://plot.ly"
       },
       "data": [
        {
         "hovertemplate": "<b>%{hovertext}</b><br><br>test=0002<br>eventF1=%{x}<br>eventRecall=%{y}<extra></extra>",
         "hovertext": [
          "ca4abebe-7534-4387-9f7e-7e56aeb102df"
         ],
         "legendgroup": "0002",
         "marker": {
          "color": "#636efa",
          "symbol": "circle"
         },
         "mode": "markers",
         "name": "0002",
         "orientation": "v",
         "showlegend": true,
         "type": "scatter",
         "x": [
          0.7244318181818182
         ],
         "xaxis": "x",
         "y": [
          0.6580310880829016
         ],
         "yaxis": "y"
        },
        {
         "alignmentgroup": "True",
         "bingroup": "y",
         "hovertemplate": "test=0002<br>eventRecall=%{y}<br>count=%{x}<extra></extra>",
         "legendgroup": "0002",
         "marker": {
          "color": "#636efa"
         },
         "name": "0002",
         "offsetgroup": "0002",
         "opacity": 0.5,
         "showlegend": false,
         "type": "histogram",
         "xaxis": "x2",
         "y": [
          0.6580310880829016
         ],
         "yaxis": "y2"
        },
        {
         "hovertemplate": "<b>%{hovertext}</b><br><br>test=0003<br>eventF1=%{x}<br>eventRecall=%{y}<extra></extra>",
         "hovertext": [
          "ec345db7-d0e7-447a-a219-52693d52bf41"
         ],
         "legendgroup": "0003",
         "marker": {
          "color": "#EF553B",
          "symbol": "circle"
         },
         "mode": "markers",
         "name": "0003",
         "orientation": "v",
         "showlegend": true,
         "type": "scatter",
         "x": [
          0.8515228426395939
         ],
         "xaxis": "x",
         "y": [
          0.8238916256157636
         ],
         "yaxis": "y"
        },
        {
         "alignmentgroup": "True",
         "bingroup": "y",
         "hovertemplate": "test=0003<br>eventRecall=%{y}<br>count=%{x}<extra></extra>",
         "legendgroup": "0003",
         "marker": {
          "color": "#EF553B"
         },
         "name": "0003",
         "offsetgroup": "0003",
         "opacity": 0.5,
         "showlegend": false,
         "type": "histogram",
         "xaxis": "x2",
         "y": [
          0.8238916256157636
         ],
         "yaxis": "y2"
        },
        {
         "hovertemplate": "<b>%{hovertext}</b><br><br>test=0004<br>eventF1=%{x}<br>eventRecall=%{y}<extra></extra>",
         "hovertext": [
          "5efd55af-ba1f-4dd8-905e-9279a3c25d07"
         ],
         "legendgroup": "0004",
         "marker": {
          "color": "#00cc96",
          "symbol": "circle"
         },
         "mode": "markers",
         "name": "0004",
         "orientation": "v",
         "showlegend": true,
         "type": "scatter",
         "x": [
          0.7937649880095923
         ],
         "xaxis": "x",
         "y": [
          0.8483290488431876
         ],
         "yaxis": "y"
        },
        {
         "alignmentgroup": "True",
         "bingroup": "y",
         "hovertemplate": "test=0004<br>eventRecall=%{y}<br>count=%{x}<extra></extra>",
         "legendgroup": "0004",
         "marker": {
          "color": "#00cc96"
         },
         "name": "0004",
         "offsetgroup": "0004",
         "opacity": 0.5,
         "showlegend": false,
         "type": "histogram",
         "xaxis": "x2",
         "y": [
          0.8483290488431876
         ],
         "yaxis": "y2"
        },
        {
         "hovertemplate": "<b>%{hovertext}</b><br><br>test=0005<br>eventF1=%{x}<br>eventRecall=%{y}<extra></extra>",
         "hovertext": [
          "79b2270a-cfb8-4f96-987a-040fa3dc0386"
         ],
         "legendgroup": "0005",
         "marker": {
          "color": "#ab63fa",
          "symbol": "circle"
         },
         "mode": "markers",
         "name": "0005",
         "orientation": "v",
         "showlegend": true,
         "type": "scatter",
         "x": [
          0.6366666666666667
         ],
         "xaxis": "x",
         "y": [
          0.9313725490196079
         ],
         "yaxis": "y"
        },
        {
         "alignmentgroup": "True",
         "bingroup": "y",
         "hovertemplate": "test=0005<br>eventRecall=%{y}<br>count=%{x}<extra></extra>",
         "legendgroup": "0005",
         "marker": {
          "color": "#ab63fa"
         },
         "name": "0005",
         "offsetgroup": "0005",
         "opacity": 0.5,
         "showlegend": false,
         "type": "histogram",
         "xaxis": "x2",
         "y": [
          0.9313725490196079
         ],
         "yaxis": "y2"
        },
        {
         "hovertemplate": "<b>%{hovertext}</b><br><br>test=0006<br>eventF1=%{x}<br>eventRecall=%{y}<extra></extra>",
         "hovertext": [
          "b1cb5f16-0c62-4dd7-b5d9-16fae63b28c5"
         ],
         "legendgroup": "0006",
         "marker": {
          "color": "#FFA15A",
          "symbol": "circle"
         },
         "mode": "markers",
         "name": "0006",
         "orientation": "v",
         "showlegend": true,
         "type": "scatter",
         "x": [
          0.6787072243346007
         ],
         "xaxis": "x",
         "y": [
          0.839622641509434
         ],
         "yaxis": "y"
        },
        {
         "alignmentgroup": "True",
         "bingroup": "y",
         "hovertemplate": "test=0006<br>eventRecall=%{y}<br>count=%{x}<extra></extra>",
         "legendgroup": "0006",
         "marker": {
          "color": "#FFA15A"
         },
         "name": "0006",
         "offsetgroup": "0006",
         "opacity": 0.5,
         "showlegend": false,
         "type": "histogram",
         "xaxis": "x2",
         "y": [
          0.839622641509434
         ],
         "yaxis": "y2"
        },
        {
         "hovertemplate": "<b>%{hovertext}</b><br><br>test=0007<br>eventF1=%{x}<br>eventRecall=%{y}<extra></extra>",
         "hovertext": [
          "28b0a080-fdd1-4b49-97d4-f98a8671c508"
         ],
         "legendgroup": "0007",
         "marker": {
          "color": "#19d3f3",
          "symbol": "circle"
         },
         "mode": "markers",
         "name": "0007",
         "orientation": "v",
         "showlegend": true,
         "type": "scatter",
         "x": [
          0.7196652719665272
         ],
         "xaxis": "x",
         "y": [
          0.7146814404432132
         ],
         "yaxis": "y"
        },
        {
         "alignmentgroup": "True",
         "bingroup": "y",
         "hovertemplate": "test=0007<br>eventRecall=%{y}<br>count=%{x}<extra></extra>",
         "legendgroup": "0007",
         "marker": {
          "color": "#19d3f3"
         },
         "name": "0007",
         "offsetgroup": "0007",
         "opacity": 0.5,
         "showlegend": false,
         "type": "histogram",
         "xaxis": "x2",
         "y": [
          0.7146814404432132
         ],
         "yaxis": "y2"
        },
        {
         "hovertemplate": "<b>%{hovertext}</b><br><br>test=0008<br>eventF1=%{x}<br>eventRecall=%{y}<extra></extra>",
         "hovertext": [
          "acc1aab9-4594-40ce-8d0c-f2111f7a6c69"
         ],
         "legendgroup": "0008",
         "marker": {
          "color": "#FF6692",
          "symbol": "circle"
         },
         "mode": "markers",
         "name": "0008",
         "orientation": "v",
         "showlegend": true,
         "type": "scatter",
         "x": [
          0.6206896551724138
         ],
         "xaxis": "x",
         "y": [
          0.6136363636363636
         ],
         "yaxis": "y"
        },
        {
         "alignmentgroup": "True",
         "bingroup": "y",
         "hovertemplate": "test=0008<br>eventRecall=%{y}<br>count=%{x}<extra></extra>",
         "legendgroup": "0008",
         "marker": {
          "color": "#FF6692"
         },
         "name": "0008",
         "offsetgroup": "0008",
         "opacity": 0.5,
         "showlegend": false,
         "type": "histogram",
         "xaxis": "x2",
         "y": [
          0.6136363636363636
         ],
         "yaxis": "y2"
        },
        {
         "fill": "toself",
         "mode": "lines",
         "name": "identity",
         "type": "scatter",
         "x": [
          0.7244318181818182,
          0.8515228426395939,
          0.7937649880095923,
          0.6366666666666667,
          0.6787072243346007,
          0.7196652719665272,
          0.6206896551724138
         ],
         "y": [
          0.7244318181818182,
          0.8515228426395939,
          0.7937649880095923,
          0.6366666666666667,
          0.6787072243346007,
          0.7196652719665272,
          0.6206896551724138
         ]
        }
       ],
       "layout": {
        "barmode": "overlay",
        "legend": {
         "title": {
          "text": "test"
         },
         "tracegroupgap": 0
        },
        "margin": {
         "t": 60
        },
        "template": {
         "data": {
          "bar": [
           {
            "error_x": {
             "color": "#2a3f5f"
            },
            "error_y": {
             "color": "#2a3f5f"
            },
            "marker": {
             "line": {
              "color": "#E5ECF6",
              "width": 0.5
             },
             "pattern": {
              "fillmode": "overlay",
              "size": 10,
              "solidity": 0.2
             }
            },
            "type": "bar"
           }
          ],
          "barpolar": [
           {
            "marker": {
             "line": {
              "color": "#E5ECF6",
              "width": 0.5
             },
             "pattern": {
              "fillmode": "overlay",
              "size": 10,
              "solidity": 0.2
             }
            },
            "type": "barpolar"
           }
          ],
          "carpet": [
           {
            "aaxis": {
             "endlinecolor": "#2a3f5f",
             "gridcolor": "white",
             "linecolor": "white",
             "minorgridcolor": "white",
             "startlinecolor": "#2a3f5f"
            },
            "baxis": {
             "endlinecolor": "#2a3f5f",
             "gridcolor": "white",
             "linecolor": "white",
             "minorgridcolor": "white",
             "startlinecolor": "#2a3f5f"
            },
            "type": "carpet"
           }
          ],
          "choropleth": [
           {
            "colorbar": {
             "outlinewidth": 0,
             "ticks": ""
            },
            "type": "choropleth"
           }
          ],
          "contour": [
           {
            "colorbar": {
             "outlinewidth": 0,
             "ticks": ""
            },
            "colorscale": [
             [
              0,
              "#0d0887"
             ],
             [
              0.1111111111111111,
              "#46039f"
             ],
             [
              0.2222222222222222,
              "#7201a8"
             ],
             [
              0.3333333333333333,
              "#9c179e"
             ],
             [
              0.4444444444444444,
              "#bd3786"
             ],
             [
              0.5555555555555556,
              "#d8576b"
             ],
             [
              0.6666666666666666,
              "#ed7953"
             ],
             [
              0.7777777777777778,
              "#fb9f3a"
             ],
             [
              0.8888888888888888,
              "#fdca26"
             ],
             [
              1,
              "#f0f921"
             ]
            ],
            "type": "contour"
           }
          ],
          "contourcarpet": [
           {
            "colorbar": {
             "outlinewidth": 0,
             "ticks": ""
            },
            "type": "contourcarpet"
           }
          ],
          "heatmap": [
           {
            "colorbar": {
             "outlinewidth": 0,
             "ticks": ""
            },
            "colorscale": [
             [
              0,
              "#0d0887"
             ],
             [
              0.1111111111111111,
              "#46039f"
             ],
             [
              0.2222222222222222,
              "#7201a8"
             ],
             [
              0.3333333333333333,
              "#9c179e"
             ],
             [
              0.4444444444444444,
              "#bd3786"
             ],
             [
              0.5555555555555556,
              "#d8576b"
             ],
             [
              0.6666666666666666,
              "#ed7953"
             ],
             [
              0.7777777777777778,
              "#fb9f3a"
             ],
             [
              0.8888888888888888,
              "#fdca26"
             ],
             [
              1,
              "#f0f921"
             ]
            ],
            "type": "heatmap"
           }
          ],
          "heatmapgl": [
           {
            "colorbar": {
             "outlinewidth": 0,
             "ticks": ""
            },
            "colorscale": [
             [
              0,
              "#0d0887"
             ],
             [
              0.1111111111111111,
              "#46039f"
             ],
             [
              0.2222222222222222,
              "#7201a8"
             ],
             [
              0.3333333333333333,
              "#9c179e"
             ],
             [
              0.4444444444444444,
              "#bd3786"
             ],
             [
              0.5555555555555556,
              "#d8576b"
             ],
             [
              0.6666666666666666,
              "#ed7953"
             ],
             [
              0.7777777777777778,
              "#fb9f3a"
             ],
             [
              0.8888888888888888,
              "#fdca26"
             ],
             [
              1,
              "#f0f921"
             ]
            ],
            "type": "heatmapgl"
           }
          ],
          "histogram": [
           {
            "marker": {
             "pattern": {
              "fillmode": "overlay",
              "size": 10,
              "solidity": 0.2
             }
            },
            "type": "histogram"
           }
          ],
          "histogram2d": [
           {
            "colorbar": {
             "outlinewidth": 0,
             "ticks": ""
            },
            "colorscale": [
             [
              0,
              "#0d0887"
             ],
             [
              0.1111111111111111,
              "#46039f"
             ],
             [
              0.2222222222222222,
              "#7201a8"
             ],
             [
              0.3333333333333333,
              "#9c179e"
             ],
             [
              0.4444444444444444,
              "#bd3786"
             ],
             [
              0.5555555555555556,
              "#d8576b"
             ],
             [
              0.6666666666666666,
              "#ed7953"
             ],
             [
              0.7777777777777778,
              "#fb9f3a"
             ],
             [
              0.8888888888888888,
              "#fdca26"
             ],
             [
              1,
              "#f0f921"
             ]
            ],
            "type": "histogram2d"
           }
          ],
          "histogram2dcontour": [
           {
            "colorbar": {
             "outlinewidth": 0,
             "ticks": ""
            },
            "colorscale": [
             [
              0,
              "#0d0887"
             ],
             [
              0.1111111111111111,
              "#46039f"
             ],
             [
              0.2222222222222222,
              "#7201a8"
             ],
             [
              0.3333333333333333,
              "#9c179e"
             ],
             [
              0.4444444444444444,
              "#bd3786"
             ],
             [
              0.5555555555555556,
              "#d8576b"
             ],
             [
              0.6666666666666666,
              "#ed7953"
             ],
             [
              0.7777777777777778,
              "#fb9f3a"
             ],
             [
              0.8888888888888888,
              "#fdca26"
             ],
             [
              1,
              "#f0f921"
             ]
            ],
            "type": "histogram2dcontour"
           }
          ],
          "mesh3d": [
           {
            "colorbar": {
             "outlinewidth": 0,
             "ticks": ""
            },
            "type": "mesh3d"
           }
          ],
          "parcoords": [
           {
            "line": {
             "colorbar": {
              "outlinewidth": 0,
              "ticks": ""
             }
            },
            "type": "parcoords"
           }
          ],
          "pie": [
           {
            "automargin": true,
            "type": "pie"
           }
          ],
          "scatter": [
           {
            "fillpattern": {
             "fillmode": "overlay",
             "size": 10,
             "solidity": 0.2
            },
            "type": "scatter"
           }
          ],
          "scatter3d": [
           {
            "line": {
             "colorbar": {
              "outlinewidth": 0,
              "ticks": ""
             }
            },
            "marker": {
             "colorbar": {
              "outlinewidth": 0,
              "ticks": ""
             }
            },
            "type": "scatter3d"
           }
          ],
          "scattercarpet": [
           {
            "marker": {
             "colorbar": {
              "outlinewidth": 0,
              "ticks": ""
             }
            },
            "type": "scattercarpet"
           }
          ],
          "scattergeo": [
           {
            "marker": {
             "colorbar": {
              "outlinewidth": 0,
              "ticks": ""
             }
            },
            "type": "scattergeo"
           }
          ],
          "scattergl": [
           {
            "marker": {
             "colorbar": {
              "outlinewidth": 0,
              "ticks": ""
             }
            },
            "type": "scattergl"
           }
          ],
          "scattermapbox": [
           {
            "marker": {
             "colorbar": {
              "outlinewidth": 0,
              "ticks": ""
             }
            },
            "type": "scattermapbox"
           }
          ],
          "scatterpolar": [
           {
            "marker": {
             "colorbar": {
              "outlinewidth": 0,
              "ticks": ""
             }
            },
            "type": "scatterpolar"
           }
          ],
          "scatterpolargl": [
           {
            "marker": {
             "colorbar": {
              "outlinewidth": 0,
              "ticks": ""
             }
            },
            "type": "scatterpolargl"
           }
          ],
          "scatterternary": [
           {
            "marker": {
             "colorbar": {
              "outlinewidth": 0,
              "ticks": ""
             }
            },
            "type": "scatterternary"
           }
          ],
          "surface": [
           {
            "colorbar": {
             "outlinewidth": 0,
             "ticks": ""
            },
            "colorscale": [
             [
              0,
              "#0d0887"
             ],
             [
              0.1111111111111111,
              "#46039f"
             ],
             [
              0.2222222222222222,
              "#7201a8"
             ],
             [
              0.3333333333333333,
              "#9c179e"
             ],
             [
              0.4444444444444444,
              "#bd3786"
             ],
             [
              0.5555555555555556,
              "#d8576b"
             ],
             [
              0.6666666666666666,
              "#ed7953"
             ],
             [
              0.7777777777777778,
              "#fb9f3a"
             ],
             [
              0.8888888888888888,
              "#fdca26"
             ],
             [
              1,
              "#f0f921"
             ]
            ],
            "type": "surface"
           }
          ],
          "table": [
           {
            "cells": {
             "fill": {
              "color": "#EBF0F8"
             },
             "line": {
              "color": "white"
             }
            },
            "header": {
             "fill": {
              "color": "#C8D4E3"
             },
             "line": {
              "color": "white"
             }
            },
            "type": "table"
           }
          ]
         },
         "layout": {
          "annotationdefaults": {
           "arrowcolor": "#2a3f5f",
           "arrowhead": 0,
           "arrowwidth": 1
          },
          "autotypenumbers": "strict",
          "coloraxis": {
           "colorbar": {
            "outlinewidth": 0,
            "ticks": ""
           }
          },
          "colorscale": {
           "diverging": [
            [
             0,
             "#8e0152"
            ],
            [
             0.1,
             "#c51b7d"
            ],
            [
             0.2,
             "#de77ae"
            ],
            [
             0.3,
             "#f1b6da"
            ],
            [
             0.4,
             "#fde0ef"
            ],
            [
             0.5,
             "#f7f7f7"
            ],
            [
             0.6,
             "#e6f5d0"
            ],
            [
             0.7,
             "#b8e186"
            ],
            [
             0.8,
             "#7fbc41"
            ],
            [
             0.9,
             "#4d9221"
            ],
            [
             1,
             "#276419"
            ]
           ],
           "sequential": [
            [
             0,
             "#0d0887"
            ],
            [
             0.1111111111111111,
             "#46039f"
            ],
            [
             0.2222222222222222,
             "#7201a8"
            ],
            [
             0.3333333333333333,
             "#9c179e"
            ],
            [
             0.4444444444444444,
             "#bd3786"
            ],
            [
             0.5555555555555556,
             "#d8576b"
            ],
            [
             0.6666666666666666,
             "#ed7953"
            ],
            [
             0.7777777777777778,
             "#fb9f3a"
            ],
            [
             0.8888888888888888,
             "#fdca26"
            ],
            [
             1,
             "#f0f921"
            ]
           ],
           "sequentialminus": [
            [
             0,
             "#0d0887"
            ],
            [
             0.1111111111111111,
             "#46039f"
            ],
            [
             0.2222222222222222,
             "#7201a8"
            ],
            [
             0.3333333333333333,
             "#9c179e"
            ],
            [
             0.4444444444444444,
             "#bd3786"
            ],
            [
             0.5555555555555556,
             "#d8576b"
            ],
            [
             0.6666666666666666,
             "#ed7953"
            ],
            [
             0.7777777777777778,
             "#fb9f3a"
            ],
            [
             0.8888888888888888,
             "#fdca26"
            ],
            [
             1,
             "#f0f921"
            ]
           ]
          },
          "colorway": [
           "#636efa",
           "#EF553B",
           "#00cc96",
           "#ab63fa",
           "#FFA15A",
           "#19d3f3",
           "#FF6692",
           "#B6E880",
           "#FF97FF",
           "#FECB52"
          ],
          "font": {
           "color": "#2a3f5f"
          },
          "geo": {
           "bgcolor": "white",
           "lakecolor": "white",
           "landcolor": "#E5ECF6",
           "showlakes": true,
           "showland": true,
           "subunitcolor": "white"
          },
          "hoverlabel": {
           "align": "left"
          },
          "hovermode": "closest",
          "mapbox": {
           "style": "light"
          },
          "paper_bgcolor": "white",
          "plot_bgcolor": "#E5ECF6",
          "polar": {
           "angularaxis": {
            "gridcolor": "white",
            "linecolor": "white",
            "ticks": ""
           },
           "bgcolor": "#E5ECF6",
           "radialaxis": {
            "gridcolor": "white",
            "linecolor": "white",
            "ticks": ""
           }
          },
          "scene": {
           "xaxis": {
            "backgroundcolor": "#E5ECF6",
            "gridcolor": "white",
            "gridwidth": 2,
            "linecolor": "white",
            "showbackground": true,
            "ticks": "",
            "zerolinecolor": "white"
           },
           "yaxis": {
            "backgroundcolor": "#E5ECF6",
            "gridcolor": "white",
            "gridwidth": 2,
            "linecolor": "white",
            "showbackground": true,
            "ticks": "",
            "zerolinecolor": "white"
           },
           "zaxis": {
            "backgroundcolor": "#E5ECF6",
            "gridcolor": "white",
            "gridwidth": 2,
            "linecolor": "white",
            "showbackground": true,
            "ticks": "",
            "zerolinecolor": "white"
           }
          },
          "shapedefaults": {
           "line": {
            "color": "#2a3f5f"
           }
          },
          "ternary": {
           "aaxis": {
            "gridcolor": "white",
            "linecolor": "white",
            "ticks": ""
           },
           "baxis": {
            "gridcolor": "white",
            "linecolor": "white",
            "ticks": ""
           },
           "bgcolor": "#E5ECF6",
           "caxis": {
            "gridcolor": "white",
            "linecolor": "white",
            "ticks": ""
           }
          },
          "title": {
           "x": 0.05
          },
          "xaxis": {
           "automargin": true,
           "gridcolor": "white",
           "linecolor": "white",
           "ticks": "",
           "title": {
            "standoff": 15
           },
           "zerolinecolor": "white",
           "zerolinewidth": 2
          },
          "yaxis": {
           "automargin": true,
           "gridcolor": "white",
           "linecolor": "white",
           "ticks": "",
           "title": {
            "standoff": 15
           },
           "zerolinecolor": "white",
           "zerolinewidth": 2
          }
         }
        },
        "xaxis": {
         "anchor": "y",
         "domain": [
          0,
          0.7363
         ],
         "title": {
          "text": "eventF1"
         }
        },
        "xaxis2": {
         "anchor": "y2",
         "domain": [
          0.7413,
          1
         ],
         "matches": "x2",
         "showgrid": true,
         "showline": false,
         "showticklabels": false,
         "ticks": ""
        },
        "yaxis": {
         "anchor": "x",
         "domain": [
          0,
          1
         ],
         "title": {
          "text": "eventRecall"
         }
        },
        "yaxis2": {
         "anchor": "x2",
         "domain": [
          0,
          1
         ],
         "matches": "y",
         "showgrid": true,
         "showticklabels": false
        }
       }
      }
     },
     "metadata": {},
     "output_type": "display_data"
    }
   ],
   "source": [
    "fig=px.scatter(experimentModels,x='eventF1',y='eventRecall',color='test',hover_name='modelId', marginal_y=\"histogram\")\n",
    "fig.add_trace(\n",
    "    go.Scatter(x=experimentModels['eventF1'], y=experimentModels['eventF1'], name=\"identity\", mode='lines',fill=\"toself\")\n",
    ")\n",
    "fig.show()"
   ]
  },
  {
   "cell_type": "code",
   "execution_count": 42,
   "metadata": {},
   "outputs": [
    {
     "data": {
      "text/html": [
       "<div>\n",
       "<style scoped>\n",
       "    .dataframe tbody tr th:only-of-type {\n",
       "        vertical-align: middle;\n",
       "    }\n",
       "\n",
       "    .dataframe tbody tr th {\n",
       "        vertical-align: top;\n",
       "    }\n",
       "\n",
       "    .dataframe thead tr th {\n",
       "        text-align: left;\n",
       "    }\n",
       "\n",
       "    .dataframe thead tr:last-of-type th {\n",
       "        text-align: right;\n",
       "    }\n",
       "</style>\n",
       "<table border=\"1\" class=\"dataframe\">\n",
       "  <thead>\n",
       "    <tr>\n",
       "      <th></th>\n",
       "      <th colspan=\"6\" halign=\"left\">eventF1</th>\n",
       "      <th colspan=\"6\" halign=\"left\">eventPrecision</th>\n",
       "      <th colspan=\"6\" halign=\"left\">eventRecall</th>\n",
       "    </tr>\n",
       "    <tr>\n",
       "      <th></th>\n",
       "      <th>count</th>\n",
       "      <th>mean</th>\n",
       "      <th>std</th>\n",
       "      <th>min</th>\n",
       "      <th>50%</th>\n",
       "      <th>max</th>\n",
       "      <th>count</th>\n",
       "      <th>mean</th>\n",
       "      <th>std</th>\n",
       "      <th>min</th>\n",
       "      <th>50%</th>\n",
       "      <th>max</th>\n",
       "      <th>count</th>\n",
       "      <th>mean</th>\n",
       "      <th>std</th>\n",
       "      <th>min</th>\n",
       "      <th>50%</th>\n",
       "      <th>max</th>\n",
       "    </tr>\n",
       "    <tr>\n",
       "      <th>test</th>\n",
       "      <th></th>\n",
       "      <th></th>\n",
       "      <th></th>\n",
       "      <th></th>\n",
       "      <th></th>\n",
       "      <th></th>\n",
       "      <th></th>\n",
       "      <th></th>\n",
       "      <th></th>\n",
       "      <th></th>\n",
       "      <th></th>\n",
       "      <th></th>\n",
       "      <th></th>\n",
       "      <th></th>\n",
       "      <th></th>\n",
       "      <th></th>\n",
       "      <th></th>\n",
       "      <th></th>\n",
       "    </tr>\n",
       "  </thead>\n",
       "  <tbody>\n",
       "    <tr>\n",
       "      <th>0002</th>\n",
       "      <td>1.0</td>\n",
       "      <td>0.724432</td>\n",
       "      <td>NaN</td>\n",
       "      <td>0.724432</td>\n",
       "      <td>0.724432</td>\n",
       "      <td>0.724432</td>\n",
       "      <td>1.0</td>\n",
       "      <td>0.805031</td>\n",
       "      <td>NaN</td>\n",
       "      <td>0.805031</td>\n",
       "      <td>0.805031</td>\n",
       "      <td>0.805031</td>\n",
       "      <td>1.0</td>\n",
       "      <td>0.658031</td>\n",
       "      <td>NaN</td>\n",
       "      <td>0.658031</td>\n",
       "      <td>0.658031</td>\n",
       "      <td>0.658031</td>\n",
       "    </tr>\n",
       "    <tr>\n",
       "      <th>0003</th>\n",
       "      <td>1.0</td>\n",
       "      <td>0.851523</td>\n",
       "      <td>NaN</td>\n",
       "      <td>0.851523</td>\n",
       "      <td>0.851523</td>\n",
       "      <td>0.851523</td>\n",
       "      <td>1.0</td>\n",
       "      <td>0.880890</td>\n",
       "      <td>NaN</td>\n",
       "      <td>0.880890</td>\n",
       "      <td>0.880890</td>\n",
       "      <td>0.880890</td>\n",
       "      <td>1.0</td>\n",
       "      <td>0.823892</td>\n",
       "      <td>NaN</td>\n",
       "      <td>0.823892</td>\n",
       "      <td>0.823892</td>\n",
       "      <td>0.823892</td>\n",
       "    </tr>\n",
       "    <tr>\n",
       "      <th>0004</th>\n",
       "      <td>1.0</td>\n",
       "      <td>0.793765</td>\n",
       "      <td>NaN</td>\n",
       "      <td>0.793765</td>\n",
       "      <td>0.793765</td>\n",
       "      <td>0.793765</td>\n",
       "      <td>1.0</td>\n",
       "      <td>0.746067</td>\n",
       "      <td>NaN</td>\n",
       "      <td>0.746067</td>\n",
       "      <td>0.746067</td>\n",
       "      <td>0.746067</td>\n",
       "      <td>1.0</td>\n",
       "      <td>0.848329</td>\n",
       "      <td>NaN</td>\n",
       "      <td>0.848329</td>\n",
       "      <td>0.848329</td>\n",
       "      <td>0.848329</td>\n",
       "    </tr>\n",
       "    <tr>\n",
       "      <th>0005</th>\n",
       "      <td>1.0</td>\n",
       "      <td>0.636667</td>\n",
       "      <td>NaN</td>\n",
       "      <td>0.636667</td>\n",
       "      <td>0.636667</td>\n",
       "      <td>0.636667</td>\n",
       "      <td>1.0</td>\n",
       "      <td>0.484848</td>\n",
       "      <td>NaN</td>\n",
       "      <td>0.484848</td>\n",
       "      <td>0.484848</td>\n",
       "      <td>0.484848</td>\n",
       "      <td>1.0</td>\n",
       "      <td>0.931373</td>\n",
       "      <td>NaN</td>\n",
       "      <td>0.931373</td>\n",
       "      <td>0.931373</td>\n",
       "      <td>0.931373</td>\n",
       "    </tr>\n",
       "    <tr>\n",
       "      <th>0006</th>\n",
       "      <td>1.0</td>\n",
       "      <td>0.678707</td>\n",
       "      <td>NaN</td>\n",
       "      <td>0.678707</td>\n",
       "      <td>0.678707</td>\n",
       "      <td>0.678707</td>\n",
       "      <td>1.0</td>\n",
       "      <td>0.570064</td>\n",
       "      <td>NaN</td>\n",
       "      <td>0.570064</td>\n",
       "      <td>0.570064</td>\n",
       "      <td>0.570064</td>\n",
       "      <td>1.0</td>\n",
       "      <td>0.839623</td>\n",
       "      <td>NaN</td>\n",
       "      <td>0.839623</td>\n",
       "      <td>0.839623</td>\n",
       "      <td>0.839623</td>\n",
       "    </tr>\n",
       "    <tr>\n",
       "      <th>0007</th>\n",
       "      <td>1.0</td>\n",
       "      <td>0.719665</td>\n",
       "      <td>NaN</td>\n",
       "      <td>0.719665</td>\n",
       "      <td>0.719665</td>\n",
       "      <td>0.719665</td>\n",
       "      <td>1.0</td>\n",
       "      <td>0.724719</td>\n",
       "      <td>NaN</td>\n",
       "      <td>0.724719</td>\n",
       "      <td>0.724719</td>\n",
       "      <td>0.724719</td>\n",
       "      <td>1.0</td>\n",
       "      <td>0.714681</td>\n",
       "      <td>NaN</td>\n",
       "      <td>0.714681</td>\n",
       "      <td>0.714681</td>\n",
       "      <td>0.714681</td>\n",
       "    </tr>\n",
       "    <tr>\n",
       "      <th>0008</th>\n",
       "      <td>1.0</td>\n",
       "      <td>0.620690</td>\n",
       "      <td>NaN</td>\n",
       "      <td>0.620690</td>\n",
       "      <td>0.620690</td>\n",
       "      <td>0.620690</td>\n",
       "      <td>1.0</td>\n",
       "      <td>0.627907</td>\n",
       "      <td>NaN</td>\n",
       "      <td>0.627907</td>\n",
       "      <td>0.627907</td>\n",
       "      <td>0.627907</td>\n",
       "      <td>1.0</td>\n",
       "      <td>0.613636</td>\n",
       "      <td>NaN</td>\n",
       "      <td>0.613636</td>\n",
       "      <td>0.613636</td>\n",
       "      <td>0.613636</td>\n",
       "    </tr>\n",
       "  </tbody>\n",
       "</table>\n",
       "</div>"
      ],
      "text/plain": [
       "     eventF1                                             eventPrecision  \\\n",
       "       count      mean std       min       50%       max          count   \n",
       "test                                                                      \n",
       "0002     1.0  0.724432 NaN  0.724432  0.724432  0.724432            1.0   \n",
       "0003     1.0  0.851523 NaN  0.851523  0.851523  0.851523            1.0   \n",
       "0004     1.0  0.793765 NaN  0.793765  0.793765  0.793765            1.0   \n",
       "0005     1.0  0.636667 NaN  0.636667  0.636667  0.636667            1.0   \n",
       "0006     1.0  0.678707 NaN  0.678707  0.678707  0.678707            1.0   \n",
       "0007     1.0  0.719665 NaN  0.719665  0.719665  0.719665            1.0   \n",
       "0008     1.0  0.620690 NaN  0.620690  0.620690  0.620690            1.0   \n",
       "\n",
       "                                                 eventRecall                \\\n",
       "          mean std       min       50%       max       count      mean std   \n",
       "test                                                                         \n",
       "0002  0.805031 NaN  0.805031  0.805031  0.805031         1.0  0.658031 NaN   \n",
       "0003  0.880890 NaN  0.880890  0.880890  0.880890         1.0  0.823892 NaN   \n",
       "0004  0.746067 NaN  0.746067  0.746067  0.746067         1.0  0.848329 NaN   \n",
       "0005  0.484848 NaN  0.484848  0.484848  0.484848         1.0  0.931373 NaN   \n",
       "0006  0.570064 NaN  0.570064  0.570064  0.570064         1.0  0.839623 NaN   \n",
       "0007  0.724719 NaN  0.724719  0.724719  0.724719         1.0  0.714681 NaN   \n",
       "0008  0.627907 NaN  0.627907  0.627907  0.627907         1.0  0.613636 NaN   \n",
       "\n",
       "                                    \n",
       "           min       50%       max  \n",
       "test                                \n",
       "0002  0.658031  0.658031  0.658031  \n",
       "0003  0.823892  0.823892  0.823892  \n",
       "0004  0.848329  0.848329  0.848329  \n",
       "0005  0.931373  0.931373  0.931373  \n",
       "0006  0.839623  0.839623  0.839623  \n",
       "0007  0.714681  0.714681  0.714681  \n",
       "0008  0.613636  0.613636  0.613636  "
      ]
     },
     "execution_count": 42,
     "metadata": {},
     "output_type": "execute_result"
    }
   ],
   "source": [
    "experimentModels[['test','eventF1','eventPrecision','eventRecall']].groupby('test').describe(percentiles=[0.5])"
   ]
  },
  {
   "cell_type": "markdown",
   "metadata": {},
   "source": [
    "by-event"
   ]
  },
  {
   "cell_type": "code",
   "execution_count": 43,
   "metadata": {},
   "outputs": [
    {
     "data": {
      "text/html": [
       "<div>\n",
       "<style scoped>\n",
       "    .dataframe tbody tr th:only-of-type {\n",
       "        vertical-align: middle;\n",
       "    }\n",
       "\n",
       "    .dataframe tbody tr th {\n",
       "        vertical-align: top;\n",
       "    }\n",
       "\n",
       "    .dataframe thead th {\n",
       "        text-align: right;\n",
       "    }\n",
       "</style>\n",
       "<table border=\"1\" class=\"dataframe\">\n",
       "  <thead>\n",
       "    <tr style=\"text-align: right;\">\n",
       "      <th></th>\n",
       "      <th>test</th>\n",
       "      <th>eventF1</th>\n",
       "      <th>eventPrecision</th>\n",
       "      <th>eventRecall</th>\n",
       "    </tr>\n",
       "  </thead>\n",
       "  <tbody>\n",
       "    <tr>\n",
       "      <th>0</th>\n",
       "      <td>0002</td>\n",
       "      <td>0.724432</td>\n",
       "      <td>0.805031</td>\n",
       "      <td>0.658031</td>\n",
       "    </tr>\n",
       "    <tr>\n",
       "      <th>1</th>\n",
       "      <td>0003</td>\n",
       "      <td>0.851523</td>\n",
       "      <td>0.880890</td>\n",
       "      <td>0.823892</td>\n",
       "    </tr>\n",
       "    <tr>\n",
       "      <th>2</th>\n",
       "      <td>0004</td>\n",
       "      <td>0.793765</td>\n",
       "      <td>0.746067</td>\n",
       "      <td>0.848329</td>\n",
       "    </tr>\n",
       "    <tr>\n",
       "      <th>3</th>\n",
       "      <td>0005</td>\n",
       "      <td>0.636667</td>\n",
       "      <td>0.484848</td>\n",
       "      <td>0.931373</td>\n",
       "    </tr>\n",
       "    <tr>\n",
       "      <th>4</th>\n",
       "      <td>0006</td>\n",
       "      <td>0.678707</td>\n",
       "      <td>0.570064</td>\n",
       "      <td>0.839623</td>\n",
       "    </tr>\n",
       "    <tr>\n",
       "      <th>5</th>\n",
       "      <td>0007</td>\n",
       "      <td>0.719665</td>\n",
       "      <td>0.724719</td>\n",
       "      <td>0.714681</td>\n",
       "    </tr>\n",
       "    <tr>\n",
       "      <th>6</th>\n",
       "      <td>0008</td>\n",
       "      <td>0.620690</td>\n",
       "      <td>0.627907</td>\n",
       "      <td>0.613636</td>\n",
       "    </tr>\n",
       "  </tbody>\n",
       "</table>\n",
       "</div>"
      ],
      "text/plain": [
       "   test   eventF1  eventPrecision  eventRecall\n",
       "0  0002  0.724432        0.805031     0.658031\n",
       "1  0003  0.851523        0.880890     0.823892\n",
       "2  0004  0.793765        0.746067     0.848329\n",
       "3  0005  0.636667        0.484848     0.931373\n",
       "4  0006  0.678707        0.570064     0.839623\n",
       "5  0007  0.719665        0.724719     0.714681\n",
       "6  0008  0.620690        0.627907     0.613636"
      ]
     },
     "execution_count": 43,
     "metadata": {},
     "output_type": "execute_result"
    }
   ],
   "source": [
    "experimentModels[['test','eventF1','eventPrecision','eventRecall']].groupby('test',as_index=False).mean()"
   ]
  },
  {
   "cell_type": "code",
   "execution_count": 44,
   "metadata": {},
   "outputs": [
    {
     "data": {
      "text/plain": [
       "test              2.857571e+23\n",
       "eventF1           7.179212e-01\n",
       "eventPrecision    6.913610e-01\n",
       "eventRecall       7.756521e-01\n",
       "dtype: float64"
      ]
     },
     "execution_count": 44,
     "metadata": {},
     "output_type": "execute_result"
    }
   ],
   "source": [
    "experimentModels[['test','eventF1','eventPrecision','eventRecall']].groupby('test',as_index=False).mean().mean()"
   ]
  },
  {
   "cell_type": "code",
   "execution_count": 45,
   "metadata": {},
   "outputs": [
    {
     "name": "stderr",
     "output_type": "stream",
     "text": [
      "C:\\Users\\Gurdiel\\AppData\\Local\\Temp\\ipykernel_16484\\2931376690.py:1: FutureWarning:\n",
      "\n",
      "The default value of numeric_only in DataFrame.std is deprecated. In a future version, it will default to False. In addition, specifying 'numeric_only=None' is deprecated. Select only valid columns or specify the value of numeric_only to silence this warning.\n",
      "\n"
     ]
    },
    {
     "data": {
      "text/plain": [
       "eventF1           0.082907\n",
       "eventPrecision    0.138043\n",
       "eventRecall       0.115290\n",
       "dtype: float64"
      ]
     },
     "execution_count": 45,
     "metadata": {},
     "output_type": "execute_result"
    }
   ],
   "source": [
    "experimentModels[['test','eventF1','eventPrecision','eventRecall']].groupby('test',as_index=False).mean().std()"
   ]
  },
  {
   "cell_type": "markdown",
   "metadata": {},
   "source": [
    "by-sample"
   ]
  },
  {
   "cell_type": "code",
   "execution_count": 46,
   "metadata": {},
   "outputs": [
    {
     "data": {
      "text/plain": [
       "test         2.857571e+23\n",
       "f1           6.569524e-01\n",
       "precision    6.969860e-01\n",
       "recall       6.510960e-01\n",
       "dtype: float64"
      ]
     },
     "execution_count": 46,
     "metadata": {},
     "output_type": "execute_result"
    }
   ],
   "source": [
    "experimentModels[['test','f1','precision','recall']].groupby('test',as_index=False).mean().mean()"
   ]
  },
  {
   "cell_type": "code",
   "execution_count": 47,
   "metadata": {},
   "outputs": [
    {
     "name": "stderr",
     "output_type": "stream",
     "text": [
      "C:\\Users\\Gurdiel\\AppData\\Local\\Temp\\ipykernel_16484\\634953098.py:1: FutureWarning:\n",
      "\n",
      "The default value of numeric_only in DataFrame.std is deprecated. In a future version, it will default to False. In addition, specifying 'numeric_only=None' is deprecated. Select only valid columns or specify the value of numeric_only to silence this warning.\n",
      "\n"
     ]
    },
    {
     "data": {
      "text/plain": [
       "f1           0.077096\n",
       "precision    0.148542\n",
       "recall       0.122966\n",
       "dtype: float64"
      ]
     },
     "execution_count": 47,
     "metadata": {},
     "output_type": "execute_result"
    }
   ],
   "source": [
    "experimentModels[['test','f1','precision','recall']].groupby('test',as_index=False).mean().std()"
   ]
  },
  {
   "cell_type": "code",
   "execution_count": 48,
   "metadata": {},
   "outputs": [],
   "source": [
    "auxPrecision=pd.DataFrame({\n",
    "    'metric':'event precision',\n",
    "    'value':experimentModels.eventPrecision,\n",
    "    'event F1':experimentModels.eventF1\n",
    "})\n",
    "\n",
    "auxRecall=pd.DataFrame({\n",
    "    'metric':'event recall',\n",
    "    'value':experimentModels.eventRecall,\n",
    "    'event F1':experimentModels.eventF1\n",
    "})\n",
    "visualTradeoff=pd.concat((auxPrecision,auxRecall))"
   ]
  },
  {
   "cell_type": "code",
   "execution_count": 49,
   "metadata": {},
   "outputs": [
    {
     "data": {
      "application/vnd.plotly.v1+json": {
       "config": {
        "plotlyServerURL": "https://plot.ly"
       },
       "data": [
        {
         "hovertemplate": "metric=event precision<br>event F1=%{x}<br>value=%{y}<extra></extra>",
         "legendgroup": "event precision",
         "marker": {
          "color": "#636efa",
          "symbol": "circle"
         },
         "mode": "markers",
         "name": "event precision",
         "orientation": "v",
         "showlegend": true,
         "type": "scatter",
         "x": [
          0.7244318181818182,
          0.8515228426395939,
          0.7937649880095923,
          0.6366666666666667,
          0.6787072243346007,
          0.7196652719665272,
          0.6206896551724138
         ],
         "xaxis": "x",
         "y": [
          0.8050314465408805,
          0.8808900523560209,
          0.7460674157303371,
          0.48484848484848486,
          0.5700636942675159,
          0.7247191011235955,
          0.627906976744186
         ],
         "yaxis": "y"
        },
        {
         "alignmentgroup": "True",
         "bingroup": "y",
         "hovertemplate": "metric=event precision<br>value=%{y}<br>count=%{x}<extra></extra>",
         "legendgroup": "event precision",
         "marker": {
          "color": "#636efa"
         },
         "name": "event precision",
         "offsetgroup": "event precision",
         "opacity": 0.5,
         "showlegend": false,
         "type": "histogram",
         "xaxis": "x2",
         "y": [
          0.8050314465408805,
          0.8808900523560209,
          0.7460674157303371,
          0.48484848484848486,
          0.5700636942675159,
          0.7247191011235955,
          0.627906976744186
         ],
         "yaxis": "y2"
        },
        {
         "hovertemplate": "metric=event recall<br>event F1=%{x}<br>value=%{y}<extra></extra>",
         "legendgroup": "event recall",
         "marker": {
          "color": "#EF553B",
          "symbol": "circle"
         },
         "mode": "markers",
         "name": "event recall",
         "orientation": "v",
         "showlegend": true,
         "type": "scatter",
         "x": [
          0.7244318181818182,
          0.8515228426395939,
          0.7937649880095923,
          0.6366666666666667,
          0.6787072243346007,
          0.7196652719665272,
          0.6206896551724138
         ],
         "xaxis": "x",
         "y": [
          0.6580310880829016,
          0.8238916256157636,
          0.8483290488431876,
          0.9313725490196079,
          0.839622641509434,
          0.7146814404432132,
          0.6136363636363636
         ],
         "yaxis": "y"
        },
        {
         "alignmentgroup": "True",
         "bingroup": "y",
         "hovertemplate": "metric=event recall<br>value=%{y}<br>count=%{x}<extra></extra>",
         "legendgroup": "event recall",
         "marker": {
          "color": "#EF553B"
         },
         "name": "event recall",
         "offsetgroup": "event recall",
         "opacity": 0.5,
         "showlegend": false,
         "type": "histogram",
         "xaxis": "x2",
         "y": [
          0.6580310880829016,
          0.8238916256157636,
          0.8483290488431876,
          0.9313725490196079,
          0.839622641509434,
          0.7146814404432132,
          0.6136363636363636
         ],
         "yaxis": "y2"
        },
        {
         "fill": "toself",
         "mode": "lines",
         "name": "identity",
         "type": "scatter",
         "x": [
          0.7244318181818182,
          0.8515228426395939,
          0.7937649880095923,
          0.6366666666666667,
          0.6787072243346007,
          0.7196652719665272,
          0.6206896551724138
         ],
         "y": [
          0.7244318181818182,
          0.8515228426395939,
          0.7937649880095923,
          0.6366666666666667,
          0.6787072243346007,
          0.7196652719665272,
          0.6206896551724138
         ]
        }
       ],
       "layout": {
        "barmode": "overlay",
        "legend": {
         "title": {
          "text": "metric"
         },
         "tracegroupgap": 0
        },
        "margin": {
         "t": 60
        },
        "template": {
         "data": {
          "bar": [
           {
            "error_x": {
             "color": "#2a3f5f"
            },
            "error_y": {
             "color": "#2a3f5f"
            },
            "marker": {
             "line": {
              "color": "#E5ECF6",
              "width": 0.5
             },
             "pattern": {
              "fillmode": "overlay",
              "size": 10,
              "solidity": 0.2
             }
            },
            "type": "bar"
           }
          ],
          "barpolar": [
           {
            "marker": {
             "line": {
              "color": "#E5ECF6",
              "width": 0.5
             },
             "pattern": {
              "fillmode": "overlay",
              "size": 10,
              "solidity": 0.2
             }
            },
            "type": "barpolar"
           }
          ],
          "carpet": [
           {
            "aaxis": {
             "endlinecolor": "#2a3f5f",
             "gridcolor": "white",
             "linecolor": "white",
             "minorgridcolor": "white",
             "startlinecolor": "#2a3f5f"
            },
            "baxis": {
             "endlinecolor": "#2a3f5f",
             "gridcolor": "white",
             "linecolor": "white",
             "minorgridcolor": "white",
             "startlinecolor": "#2a3f5f"
            },
            "type": "carpet"
           }
          ],
          "choropleth": [
           {
            "colorbar": {
             "outlinewidth": 0,
             "ticks": ""
            },
            "type": "choropleth"
           }
          ],
          "contour": [
           {
            "colorbar": {
             "outlinewidth": 0,
             "ticks": ""
            },
            "colorscale": [
             [
              0,
              "#0d0887"
             ],
             [
              0.1111111111111111,
              "#46039f"
             ],
             [
              0.2222222222222222,
              "#7201a8"
             ],
             [
              0.3333333333333333,
              "#9c179e"
             ],
             [
              0.4444444444444444,
              "#bd3786"
             ],
             [
              0.5555555555555556,
              "#d8576b"
             ],
             [
              0.6666666666666666,
              "#ed7953"
             ],
             [
              0.7777777777777778,
              "#fb9f3a"
             ],
             [
              0.8888888888888888,
              "#fdca26"
             ],
             [
              1,
              "#f0f921"
             ]
            ],
            "type": "contour"
           }
          ],
          "contourcarpet": [
           {
            "colorbar": {
             "outlinewidth": 0,
             "ticks": ""
            },
            "type": "contourcarpet"
           }
          ],
          "heatmap": [
           {
            "colorbar": {
             "outlinewidth": 0,
             "ticks": ""
            },
            "colorscale": [
             [
              0,
              "#0d0887"
             ],
             [
              0.1111111111111111,
              "#46039f"
             ],
             [
              0.2222222222222222,
              "#7201a8"
             ],
             [
              0.3333333333333333,
              "#9c179e"
             ],
             [
              0.4444444444444444,
              "#bd3786"
             ],
             [
              0.5555555555555556,
              "#d8576b"
             ],
             [
              0.6666666666666666,
              "#ed7953"
             ],
             [
              0.7777777777777778,
              "#fb9f3a"
             ],
             [
              0.8888888888888888,
              "#fdca26"
             ],
             [
              1,
              "#f0f921"
             ]
            ],
            "type": "heatmap"
           }
          ],
          "heatmapgl": [
           {
            "colorbar": {
             "outlinewidth": 0,
             "ticks": ""
            },
            "colorscale": [
             [
              0,
              "#0d0887"
             ],
             [
              0.1111111111111111,
              "#46039f"
             ],
             [
              0.2222222222222222,
              "#7201a8"
             ],
             [
              0.3333333333333333,
              "#9c179e"
             ],
             [
              0.4444444444444444,
              "#bd3786"
             ],
             [
              0.5555555555555556,
              "#d8576b"
             ],
             [
              0.6666666666666666,
              "#ed7953"
             ],
             [
              0.7777777777777778,
              "#fb9f3a"
             ],
             [
              0.8888888888888888,
              "#fdca26"
             ],
             [
              1,
              "#f0f921"
             ]
            ],
            "type": "heatmapgl"
           }
          ],
          "histogram": [
           {
            "marker": {
             "pattern": {
              "fillmode": "overlay",
              "size": 10,
              "solidity": 0.2
             }
            },
            "type": "histogram"
           }
          ],
          "histogram2d": [
           {
            "colorbar": {
             "outlinewidth": 0,
             "ticks": ""
            },
            "colorscale": [
             [
              0,
              "#0d0887"
             ],
             [
              0.1111111111111111,
              "#46039f"
             ],
             [
              0.2222222222222222,
              "#7201a8"
             ],
             [
              0.3333333333333333,
              "#9c179e"
             ],
             [
              0.4444444444444444,
              "#bd3786"
             ],
             [
              0.5555555555555556,
              "#d8576b"
             ],
             [
              0.6666666666666666,
              "#ed7953"
             ],
             [
              0.7777777777777778,
              "#fb9f3a"
             ],
             [
              0.8888888888888888,
              "#fdca26"
             ],
             [
              1,
              "#f0f921"
             ]
            ],
            "type": "histogram2d"
           }
          ],
          "histogram2dcontour": [
           {
            "colorbar": {
             "outlinewidth": 0,
             "ticks": ""
            },
            "colorscale": [
             [
              0,
              "#0d0887"
             ],
             [
              0.1111111111111111,
              "#46039f"
             ],
             [
              0.2222222222222222,
              "#7201a8"
             ],
             [
              0.3333333333333333,
              "#9c179e"
             ],
             [
              0.4444444444444444,
              "#bd3786"
             ],
             [
              0.5555555555555556,
              "#d8576b"
             ],
             [
              0.6666666666666666,
              "#ed7953"
             ],
             [
              0.7777777777777778,
              "#fb9f3a"
             ],
             [
              0.8888888888888888,
              "#fdca26"
             ],
             [
              1,
              "#f0f921"
             ]
            ],
            "type": "histogram2dcontour"
           }
          ],
          "mesh3d": [
           {
            "colorbar": {
             "outlinewidth": 0,
             "ticks": ""
            },
            "type": "mesh3d"
           }
          ],
          "parcoords": [
           {
            "line": {
             "colorbar": {
              "outlinewidth": 0,
              "ticks": ""
             }
            },
            "type": "parcoords"
           }
          ],
          "pie": [
           {
            "automargin": true,
            "type": "pie"
           }
          ],
          "scatter": [
           {
            "fillpattern": {
             "fillmode": "overlay",
             "size": 10,
             "solidity": 0.2
            },
            "type": "scatter"
           }
          ],
          "scatter3d": [
           {
            "line": {
             "colorbar": {
              "outlinewidth": 0,
              "ticks": ""
             }
            },
            "marker": {
             "colorbar": {
              "outlinewidth": 0,
              "ticks": ""
             }
            },
            "type": "scatter3d"
           }
          ],
          "scattercarpet": [
           {
            "marker": {
             "colorbar": {
              "outlinewidth": 0,
              "ticks": ""
             }
            },
            "type": "scattercarpet"
           }
          ],
          "scattergeo": [
           {
            "marker": {
             "colorbar": {
              "outlinewidth": 0,
              "ticks": ""
             }
            },
            "type": "scattergeo"
           }
          ],
          "scattergl": [
           {
            "marker": {
             "colorbar": {
              "outlinewidth": 0,
              "ticks": ""
             }
            },
            "type": "scattergl"
           }
          ],
          "scattermapbox": [
           {
            "marker": {
             "colorbar": {
              "outlinewidth": 0,
              "ticks": ""
             }
            },
            "type": "scattermapbox"
           }
          ],
          "scatterpolar": [
           {
            "marker": {
             "colorbar": {
              "outlinewidth": 0,
              "ticks": ""
             }
            },
            "type": "scatterpolar"
           }
          ],
          "scatterpolargl": [
           {
            "marker": {
             "colorbar": {
              "outlinewidth": 0,
              "ticks": ""
             }
            },
            "type": "scatterpolargl"
           }
          ],
          "scatterternary": [
           {
            "marker": {
             "colorbar": {
              "outlinewidth": 0,
              "ticks": ""
             }
            },
            "type": "scatterternary"
           }
          ],
          "surface": [
           {
            "colorbar": {
             "outlinewidth": 0,
             "ticks": ""
            },
            "colorscale": [
             [
              0,
              "#0d0887"
             ],
             [
              0.1111111111111111,
              "#46039f"
             ],
             [
              0.2222222222222222,
              "#7201a8"
             ],
             [
              0.3333333333333333,
              "#9c179e"
             ],
             [
              0.4444444444444444,
              "#bd3786"
             ],
             [
              0.5555555555555556,
              "#d8576b"
             ],
             [
              0.6666666666666666,
              "#ed7953"
             ],
             [
              0.7777777777777778,
              "#fb9f3a"
             ],
             [
              0.8888888888888888,
              "#fdca26"
             ],
             [
              1,
              "#f0f921"
             ]
            ],
            "type": "surface"
           }
          ],
          "table": [
           {
            "cells": {
             "fill": {
              "color": "#EBF0F8"
             },
             "line": {
              "color": "white"
             }
            },
            "header": {
             "fill": {
              "color": "#C8D4E3"
             },
             "line": {
              "color": "white"
             }
            },
            "type": "table"
           }
          ]
         },
         "layout": {
          "annotationdefaults": {
           "arrowcolor": "#2a3f5f",
           "arrowhead": 0,
           "arrowwidth": 1
          },
          "autotypenumbers": "strict",
          "coloraxis": {
           "colorbar": {
            "outlinewidth": 0,
            "ticks": ""
           }
          },
          "colorscale": {
           "diverging": [
            [
             0,
             "#8e0152"
            ],
            [
             0.1,
             "#c51b7d"
            ],
            [
             0.2,
             "#de77ae"
            ],
            [
             0.3,
             "#f1b6da"
            ],
            [
             0.4,
             "#fde0ef"
            ],
            [
             0.5,
             "#f7f7f7"
            ],
            [
             0.6,
             "#e6f5d0"
            ],
            [
             0.7,
             "#b8e186"
            ],
            [
             0.8,
             "#7fbc41"
            ],
            [
             0.9,
             "#4d9221"
            ],
            [
             1,
             "#276419"
            ]
           ],
           "sequential": [
            [
             0,
             "#0d0887"
            ],
            [
             0.1111111111111111,
             "#46039f"
            ],
            [
             0.2222222222222222,
             "#7201a8"
            ],
            [
             0.3333333333333333,
             "#9c179e"
            ],
            [
             0.4444444444444444,
             "#bd3786"
            ],
            [
             0.5555555555555556,
             "#d8576b"
            ],
            [
             0.6666666666666666,
             "#ed7953"
            ],
            [
             0.7777777777777778,
             "#fb9f3a"
            ],
            [
             0.8888888888888888,
             "#fdca26"
            ],
            [
             1,
             "#f0f921"
            ]
           ],
           "sequentialminus": [
            [
             0,
             "#0d0887"
            ],
            [
             0.1111111111111111,
             "#46039f"
            ],
            [
             0.2222222222222222,
             "#7201a8"
            ],
            [
             0.3333333333333333,
             "#9c179e"
            ],
            [
             0.4444444444444444,
             "#bd3786"
            ],
            [
             0.5555555555555556,
             "#d8576b"
            ],
            [
             0.6666666666666666,
             "#ed7953"
            ],
            [
             0.7777777777777778,
             "#fb9f3a"
            ],
            [
             0.8888888888888888,
             "#fdca26"
            ],
            [
             1,
             "#f0f921"
            ]
           ]
          },
          "colorway": [
           "#636efa",
           "#EF553B",
           "#00cc96",
           "#ab63fa",
           "#FFA15A",
           "#19d3f3",
           "#FF6692",
           "#B6E880",
           "#FF97FF",
           "#FECB52"
          ],
          "font": {
           "color": "#2a3f5f"
          },
          "geo": {
           "bgcolor": "white",
           "lakecolor": "white",
           "landcolor": "#E5ECF6",
           "showlakes": true,
           "showland": true,
           "subunitcolor": "white"
          },
          "hoverlabel": {
           "align": "left"
          },
          "hovermode": "closest",
          "mapbox": {
           "style": "light"
          },
          "paper_bgcolor": "white",
          "plot_bgcolor": "#E5ECF6",
          "polar": {
           "angularaxis": {
            "gridcolor": "white",
            "linecolor": "white",
            "ticks": ""
           },
           "bgcolor": "#E5ECF6",
           "radialaxis": {
            "gridcolor": "white",
            "linecolor": "white",
            "ticks": ""
           }
          },
          "scene": {
           "xaxis": {
            "backgroundcolor": "#E5ECF6",
            "gridcolor": "white",
            "gridwidth": 2,
            "linecolor": "white",
            "showbackground": true,
            "ticks": "",
            "zerolinecolor": "white"
           },
           "yaxis": {
            "backgroundcolor": "#E5ECF6",
            "gridcolor": "white",
            "gridwidth": 2,
            "linecolor": "white",
            "showbackground": true,
            "ticks": "",
            "zerolinecolor": "white"
           },
           "zaxis": {
            "backgroundcolor": "#E5ECF6",
            "gridcolor": "white",
            "gridwidth": 2,
            "linecolor": "white",
            "showbackground": true,
            "ticks": "",
            "zerolinecolor": "white"
           }
          },
          "shapedefaults": {
           "line": {
            "color": "#2a3f5f"
           }
          },
          "ternary": {
           "aaxis": {
            "gridcolor": "white",
            "linecolor": "white",
            "ticks": ""
           },
           "baxis": {
            "gridcolor": "white",
            "linecolor": "white",
            "ticks": ""
           },
           "bgcolor": "#E5ECF6",
           "caxis": {
            "gridcolor": "white",
            "linecolor": "white",
            "ticks": ""
           }
          },
          "title": {
           "x": 0.05
          },
          "xaxis": {
           "automargin": true,
           "gridcolor": "white",
           "linecolor": "white",
           "ticks": "",
           "title": {
            "standoff": 15
           },
           "zerolinecolor": "white",
           "zerolinewidth": 2
          },
          "yaxis": {
           "automargin": true,
           "gridcolor": "white",
           "linecolor": "white",
           "ticks": "",
           "title": {
            "standoff": 15
           },
           "zerolinecolor": "white",
           "zerolinewidth": 2
          }
         }
        },
        "xaxis": {
         "anchor": "y",
         "domain": [
          0,
          0.7363
         ],
         "title": {
          "text": "event F1"
         }
        },
        "xaxis2": {
         "anchor": "y2",
         "domain": [
          0.7413,
          1
         ],
         "matches": "x2",
         "showgrid": true,
         "showline": false,
         "showticklabels": false,
         "ticks": ""
        },
        "yaxis": {
         "anchor": "x",
         "domain": [
          0,
          1
         ],
         "title": {
          "text": "value"
         }
        },
        "yaxis2": {
         "anchor": "x2",
         "domain": [
          0,
          1
         ],
         "matches": "y",
         "showgrid": true,
         "showticklabels": false
        }
       }
      }
     },
     "metadata": {},
     "output_type": "display_data"
    }
   ],
   "source": [
    "fig=px.scatter(visualTradeoff,x='event F1',y='value',color='metric', marginal_y=\"histogram\")\n",
    "fig.add_trace(\n",
    "    go.Scatter(x=experimentModels['eventF1'], y=experimentModels['eventF1'], name=\"identity\", mode='lines',fill=\"toself\")\n",
    ")\n",
    "fig.show()"
   ]
  }
 ],
 "metadata": {
  "kernelspec": {
   "display_name": "Python 3.10.6 ('venv': venv)",
   "language": "python",
   "name": "python3"
  },
  "language_info": {
   "codemirror_mode": {
    "name": "ipython",
    "version": 3
   },
   "file_extension": ".py",
   "mimetype": "text/x-python",
   "name": "python",
   "nbconvert_exporter": "python",
   "pygments_lexer": "ipython3",
   "version": "3.10.6"
  },
  "orig_nbformat": 4,
  "vscode": {
   "interpreter": {
    "hash": "69eb08d3e713eff25484e90b18c01e15df779e80a0db295f9ddc53faed0455be"
   }
  }
 },
 "nbformat": 4,
 "nbformat_minor": 2
}
