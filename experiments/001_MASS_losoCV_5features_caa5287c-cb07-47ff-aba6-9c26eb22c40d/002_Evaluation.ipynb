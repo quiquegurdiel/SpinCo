{
 "cells": [
  {
   "cell_type": "markdown",
   "metadata": {},
   "source": [
    "# Evaluation of experiments\n",
    "fistly define the UUID of the experiment to use"
   ]
  },
  {
   "cell_type": "code",
   "execution_count": 222,
   "metadata": {},
   "outputs": [],
   "source": [
    "experimentId=\"caa5287c-cb07-47ff-aba6-9c26eb22c40d\""
   ]
  },
  {
   "cell_type": "markdown",
   "metadata": {},
   "source": [
    "-------------------------------------------------------"
   ]
  },
  {
   "cell_type": "code",
   "execution_count": 223,
   "metadata": {},
   "outputs": [],
   "source": [
    "#external libraries\n",
    "import numpy as np\n",
    "import os\n",
    "import matplotlib.pyplot as plt\n",
    "import matplotlib.colors as clt\n",
    "import plotly\n",
    "import plotly.subplots as sb\n",
    "import plotly.express as px\n",
    "import plotly.graph_objects as go\n",
    "import dotenv\n",
    "import pandas as pd\n",
    "import scipy.fft as fft\n",
    "import scipy.signal as sg\n",
    "import scipy.io as sio\n",
    "import pickle as pkl\n",
    "import xgboost as xgb\n",
    "import time\n",
    "import sklearn.metrics as skm\n",
    "\n",
    "#project library\n",
    "from spinco import *\n",
    "\n",
    "#environment variables\n",
    "dotenv.load_dotenv('lab.env')\n",
    "\n",
    "#project variables\n",
    "datapath=os.environ['DATAPATH']\n",
    "cognipath=datapath+\"\\\\COGNITION\"\n",
    "dreamspath=datapath+\"\\\\DREAMS\"\n",
    "masspath=datapath+\"\\\\MASS\"\n"
   ]
  },
  {
   "cell_type": "markdown",
   "metadata": {},
   "source": [
    "## load mass"
   ]
  },
  {
   "cell_type": "code",
   "execution_count": 224,
   "metadata": {},
   "outputs": [],
   "source": [
    "samplerate=200  #Should rethink this"
   ]
  },
  {
   "cell_type": "code",
   "execution_count": 225,
   "metadata": {},
   "outputs": [],
   "source": [
    "annotations, signalsMetadata = loadMASSSpindles(masspath,forceSamplerate=samplerate)"
   ]
  },
  {
   "cell_type": "code",
   "execution_count": 226,
   "metadata": {},
   "outputs": [
    {
     "data": {
      "text/html": [
       "<div>\n",
       "<style scoped>\n",
       "    .dataframe tbody tr th:only-of-type {\n",
       "        vertical-align: middle;\n",
       "    }\n",
       "\n",
       "    .dataframe tbody tr th {\n",
       "        vertical-align: top;\n",
       "    }\n",
       "\n",
       "    .dataframe thead th {\n",
       "        text-align: right;\n",
       "    }\n",
       "</style>\n",
       "<table border=\"1\" class=\"dataframe\">\n",
       "  <thead>\n",
       "    <tr style=\"text-align: right;\">\n",
       "      <th></th>\n",
       "      <th>type</th>\n",
       "      <th>expert</th>\n",
       "      <th>subjectId</th>\n",
       "      <th>labelerId</th>\n",
       "      <th>startTime</th>\n",
       "      <th>duration</th>\n",
       "      <th>samplerate</th>\n",
       "      <th>stopTime</th>\n",
       "      <th>startInd</th>\n",
       "      <th>stopInd</th>\n",
       "    </tr>\n",
       "  </thead>\n",
       "  <tbody>\n",
       "    <tr>\n",
       "      <th>0</th>\n",
       "      <td>kcomplex</td>\n",
       "      <td>E1</td>\n",
       "      <td>0001</td>\n",
       "      <td>0001</td>\n",
       "      <td>830.596676</td>\n",
       "      <td>0.699174</td>\n",
       "      <td>200</td>\n",
       "      <td>831.295850</td>\n",
       "      <td>166119</td>\n",
       "      <td>166259</td>\n",
       "    </tr>\n",
       "    <tr>\n",
       "      <th>1</th>\n",
       "      <td>kcomplex</td>\n",
       "      <td>E1</td>\n",
       "      <td>0001</td>\n",
       "      <td>0001</td>\n",
       "      <td>840.981316</td>\n",
       "      <td>0.492156</td>\n",
       "      <td>200</td>\n",
       "      <td>841.473472</td>\n",
       "      <td>168196</td>\n",
       "      <td>168295</td>\n",
       "    </tr>\n",
       "    <tr>\n",
       "      <th>2</th>\n",
       "      <td>kcomplex</td>\n",
       "      <td>E1</td>\n",
       "      <td>0001</td>\n",
       "      <td>0001</td>\n",
       "      <td>970.596678</td>\n",
       "      <td>0.578088</td>\n",
       "      <td>200</td>\n",
       "      <td>971.174766</td>\n",
       "      <td>194119</td>\n",
       "      <td>194235</td>\n",
       "    </tr>\n",
       "    <tr>\n",
       "      <th>3</th>\n",
       "      <td>kcomplex</td>\n",
       "      <td>E1</td>\n",
       "      <td>0001</td>\n",
       "      <td>0001</td>\n",
       "      <td>1049.772807</td>\n",
       "      <td>0.695268</td>\n",
       "      <td>200</td>\n",
       "      <td>1050.468075</td>\n",
       "      <td>209955</td>\n",
       "      <td>210094</td>\n",
       "    </tr>\n",
       "    <tr>\n",
       "      <th>4</th>\n",
       "      <td>kcomplex</td>\n",
       "      <td>E1</td>\n",
       "      <td>0001</td>\n",
       "      <td>0001</td>\n",
       "      <td>1077.231575</td>\n",
       "      <td>0.648396</td>\n",
       "      <td>200</td>\n",
       "      <td>1077.879971</td>\n",
       "      <td>215446</td>\n",
       "      <td>215576</td>\n",
       "    </tr>\n",
       "  </tbody>\n",
       "</table>\n",
       "</div>"
      ],
      "text/plain": [
       "       type expert subjectId labelerId    startTime  duration  samplerate  \\\n",
       "0  kcomplex     E1      0001      0001   830.596676  0.699174         200   \n",
       "1  kcomplex     E1      0001      0001   840.981316  0.492156         200   \n",
       "2  kcomplex     E1      0001      0001   970.596678  0.578088         200   \n",
       "3  kcomplex     E1      0001      0001  1049.772807  0.695268         200   \n",
       "4  kcomplex     E1      0001      0001  1077.231575  0.648396         200   \n",
       "\n",
       "      stopTime  startInd  stopInd  \n",
       "0   831.295850    166119   166259  \n",
       "1   841.473472    168196   168295  \n",
       "2   971.174766    194119   194235  \n",
       "3  1050.468075    209955   210094  \n",
       "4  1077.879971    215446   215576  "
      ]
     },
     "execution_count": 226,
     "metadata": {},
     "output_type": "execute_result"
    }
   ],
   "source": [
    "annotations.head()"
   ]
  },
  {
   "cell_type": "code",
   "execution_count": 227,
   "metadata": {},
   "outputs": [
    {
     "data": {
      "text/html": [
       "<div>\n",
       "<style scoped>\n",
       "    .dataframe tbody tr th:only-of-type {\n",
       "        vertical-align: middle;\n",
       "    }\n",
       "\n",
       "    .dataframe tbody tr th {\n",
       "        vertical-align: top;\n",
       "    }\n",
       "\n",
       "    .dataframe thead th {\n",
       "        text-align: right;\n",
       "    }\n",
       "</style>\n",
       "<table border=\"1\" class=\"dataframe\">\n",
       "  <thead>\n",
       "    <tr style=\"text-align: right;\">\n",
       "      <th></th>\n",
       "      <th>subjectId</th>\n",
       "      <th>file</th>\n",
       "      <th>channel</th>\n",
       "      <th>duration</th>\n",
       "      <th>samplerate</th>\n",
       "      <th>isOriginalSamplerate</th>\n",
       "      <th>database</th>\n",
       "    </tr>\n",
       "  </thead>\n",
       "  <tbody>\n",
       "    <tr>\n",
       "      <th>0</th>\n",
       "      <td>0001</td>\n",
       "      <td>MASS_0001.pkl</td>\n",
       "      <td>C3-CLE</td>\n",
       "      <td>28956.0</td>\n",
       "      <td>200</td>\n",
       "      <td>False</td>\n",
       "      <td>MASS</td>\n",
       "    </tr>\n",
       "    <tr>\n",
       "      <th>1</th>\n",
       "      <td>0002</td>\n",
       "      <td>MASS_0002.pkl</td>\n",
       "      <td>C3-CLE</td>\n",
       "      <td>35016.0</td>\n",
       "      <td>200</td>\n",
       "      <td>False</td>\n",
       "      <td>MASS</td>\n",
       "    </tr>\n",
       "    <tr>\n",
       "      <th>2</th>\n",
       "      <td>0003</td>\n",
       "      <td>MASS_0003.pkl</td>\n",
       "      <td>C3-CLE</td>\n",
       "      <td>36760.0</td>\n",
       "      <td>200</td>\n",
       "      <td>False</td>\n",
       "      <td>MASS</td>\n",
       "    </tr>\n",
       "    <tr>\n",
       "      <th>3</th>\n",
       "      <td>0004</td>\n",
       "      <td>MASS_0004.pkl</td>\n",
       "      <td>C3-CLE</td>\n",
       "      <td>28004.0</td>\n",
       "      <td>200</td>\n",
       "      <td>False</td>\n",
       "      <td>MASS</td>\n",
       "    </tr>\n",
       "    <tr>\n",
       "      <th>4</th>\n",
       "      <td>0005</td>\n",
       "      <td>MASS_0005.pkl</td>\n",
       "      <td>C3-CLE</td>\n",
       "      <td>31244.0</td>\n",
       "      <td>200</td>\n",
       "      <td>False</td>\n",
       "      <td>MASS</td>\n",
       "    </tr>\n",
       "  </tbody>\n",
       "</table>\n",
       "</div>"
      ],
      "text/plain": [
       "  subjectId           file channel  duration  samplerate  \\\n",
       "0      0001  MASS_0001.pkl  C3-CLE   28956.0         200   \n",
       "1      0002  MASS_0002.pkl  C3-CLE   35016.0         200   \n",
       "2      0003  MASS_0003.pkl  C3-CLE   36760.0         200   \n",
       "3      0004  MASS_0004.pkl  C3-CLE   28004.0         200   \n",
       "4      0005  MASS_0005.pkl  C3-CLE   31244.0         200   \n",
       "\n",
       "   isOriginalSamplerate database  \n",
       "0                 False     MASS  \n",
       "1                 False     MASS  \n",
       "2                 False     MASS  \n",
       "3                 False     MASS  \n",
       "4                 False     MASS  "
      ]
     },
     "execution_count": 227,
     "metadata": {},
     "output_type": "execute_result"
    }
   ],
   "source": [
    "signalsMetadata.head()"
   ]
  },
  {
   "cell_type": "markdown",
   "metadata": {},
   "source": [
    "## Load experiment results"
   ]
  },
  {
   "cell_type": "code",
   "execution_count": 228,
   "metadata": {},
   "outputs": [],
   "source": [
    "def loadModel(modelId,experimentId,datapath):\n",
    "    model=xgb.XGBClassifier()\n",
    "    model.load_model(datapath+\"/experiments/\"+experimentId+\"/\"+modelId+\".json\")\n",
    "    return model"
   ]
  },
  {
   "cell_type": "code",
   "execution_count": 229,
   "metadata": {},
   "outputs": [],
   "source": [
    "def loadExperiment(experimentId,datapath):\n",
    "    experimentModels=loadPickle(datapath+\"/experiments/\"+experimentId+\"/experimentModels.pkl\")\n",
    "    featureSelection=loadPickle(datapath+\"/experiments/\"+experimentId+\"/featureSelection.pkl\")\n",
    "    return experimentModels, featureSelection"
   ]
  },
  {
   "cell_type": "code",
   "execution_count": 230,
   "metadata": {},
   "outputs": [],
   "source": [
    "experimentModels, featureSelection = loadExperiment(experimentId,datapath)"
   ]
  },
  {
   "cell_type": "code",
   "execution_count": 231,
   "metadata": {},
   "outputs": [
    {
     "data": {
      "text/html": [
       "<div>\n",
       "<style scoped>\n",
       "    .dataframe tbody tr th:only-of-type {\n",
       "        vertical-align: middle;\n",
       "    }\n",
       "\n",
       "    .dataframe tbody tr th {\n",
       "        vertical-align: top;\n",
       "    }\n",
       "\n",
       "    .dataframe thead th {\n",
       "        text-align: right;\n",
       "    }\n",
       "</style>\n",
       "<table border=\"1\" class=\"dataframe\">\n",
       "  <thead>\n",
       "    <tr style=\"text-align: right;\">\n",
       "      <th></th>\n",
       "      <th>train</th>\n",
       "      <th>val</th>\n",
       "      <th>test</th>\n",
       "      <th>modelId</th>\n",
       "      <th>treeLimit</th>\n",
       "      <th>valF1</th>\n",
       "    </tr>\n",
       "  </thead>\n",
       "  <tbody>\n",
       "    <tr>\n",
       "      <th>0</th>\n",
       "      <td>[0002, 0003, 0004, 0005, 0007, 0008, 0009, 001...</td>\n",
       "      <td>[0006, 0014]</td>\n",
       "      <td>[0001]</td>\n",
       "      <td>dfe10db6-0f32-4bce-acc2-f7182342d975</td>\n",
       "      <td>29</td>\n",
       "      <td>0.624040</td>\n",
       "    </tr>\n",
       "    <tr>\n",
       "      <th>1</th>\n",
       "      <td>[0001, 0003, 0004, 0005, 0006, 0007, 0008, 000...</td>\n",
       "      <td>[0012, 0010]</td>\n",
       "      <td>[0002]</td>\n",
       "      <td>a9db02e2-0d19-4cb2-8d0f-e403b4d1b817</td>\n",
       "      <td>31</td>\n",
       "      <td>0.560143</td>\n",
       "    </tr>\n",
       "    <tr>\n",
       "      <th>2</th>\n",
       "      <td>[0002, 0004, 0005, 0006, 0007, 0008, 0009, 001...</td>\n",
       "      <td>[0001, 0012]</td>\n",
       "      <td>[0003]</td>\n",
       "      <td>41a7a7ab-da20-48bb-9303-f7d8007b8a6e</td>\n",
       "      <td>40</td>\n",
       "      <td>0.373273</td>\n",
       "    </tr>\n",
       "    <tr>\n",
       "      <th>3</th>\n",
       "      <td>[0001, 0003, 0005, 0006, 0008, 0009, 0010, 001...</td>\n",
       "      <td>[0002, 0007]</td>\n",
       "      <td>[0004]</td>\n",
       "      <td>ab7f2287-b2cd-4566-bf38-be15170b98b9</td>\n",
       "      <td>31</td>\n",
       "      <td>0.617306</td>\n",
       "    </tr>\n",
       "    <tr>\n",
       "      <th>4</th>\n",
       "      <td>[0001, 0002, 0003, 0004, 0006, 0007, 0008, 000...</td>\n",
       "      <td>[0011, 0016]</td>\n",
       "      <td>[0005]</td>\n",
       "      <td>627ce16b-abc2-4ddc-a3d0-66d2fdd180de</td>\n",
       "      <td>29</td>\n",
       "      <td>0.640402</td>\n",
       "    </tr>\n",
       "    <tr>\n",
       "      <th>5</th>\n",
       "      <td>[0001, 0002, 0003, 0004, 0005, 0007, 0008, 000...</td>\n",
       "      <td>[0011, 0016]</td>\n",
       "      <td>[0006]</td>\n",
       "      <td>b01595be-85b5-4126-b4e2-151196a40974</td>\n",
       "      <td>33</td>\n",
       "      <td>0.639887</td>\n",
       "    </tr>\n",
       "    <tr>\n",
       "      <th>6</th>\n",
       "      <td>[0001, 0002, 0003, 0004, 0005, 0006, 0008, 000...</td>\n",
       "      <td>[0010, 0018]</td>\n",
       "      <td>[0007]</td>\n",
       "      <td>1238a54b-ecc1-4241-8048-39e95efd0470</td>\n",
       "      <td>24</td>\n",
       "      <td>0.589239</td>\n",
       "    </tr>\n",
       "    <tr>\n",
       "      <th>7</th>\n",
       "      <td>[0001, 0002, 0003, 0004, 0005, 0007, 0009, 001...</td>\n",
       "      <td>[0015, 0006]</td>\n",
       "      <td>[0008]</td>\n",
       "      <td>f6994485-50f9-4be9-9122-f7c45f2626d8</td>\n",
       "      <td>28</td>\n",
       "      <td>0.436195</td>\n",
       "    </tr>\n",
       "    <tr>\n",
       "      <th>8</th>\n",
       "      <td>[0001, 0002, 0003, 0004, 0006, 0008, 0010, 001...</td>\n",
       "      <td>[0005, 0007]</td>\n",
       "      <td>[0009]</td>\n",
       "      <td>d080e719-2c7b-453c-921f-84d45d827dd0</td>\n",
       "      <td>32</td>\n",
       "      <td>0.593563</td>\n",
       "    </tr>\n",
       "    <tr>\n",
       "      <th>9</th>\n",
       "      <td>[0001, 0002, 0003, 0004, 0005, 0006, 0007, 000...</td>\n",
       "      <td>[0011, 0009]</td>\n",
       "      <td>[0010]</td>\n",
       "      <td>de6a9e0d-8a5b-4e8e-8fb2-10a2e7ae9f16</td>\n",
       "      <td>37</td>\n",
       "      <td>0.564571</td>\n",
       "    </tr>\n",
       "    <tr>\n",
       "      <th>10</th>\n",
       "      <td>[0001, 0002, 0003, 0004, 0005, 0006, 0007, 000...</td>\n",
       "      <td>[0009, 0012]</td>\n",
       "      <td>[0011]</td>\n",
       "      <td>569e5227-9d25-43f9-9f2c-819b85f16416</td>\n",
       "      <td>30</td>\n",
       "      <td>0.483782</td>\n",
       "    </tr>\n",
       "    <tr>\n",
       "      <th>11</th>\n",
       "      <td>[0001, 0002, 0003, 0005, 0006, 0007, 0008, 001...</td>\n",
       "      <td>[0004, 0009]</td>\n",
       "      <td>[0012]</td>\n",
       "      <td>fde08d34-15fd-4167-a008-bb32a12f8d80</td>\n",
       "      <td>23</td>\n",
       "      <td>0.476839</td>\n",
       "    </tr>\n",
       "    <tr>\n",
       "      <th>12</th>\n",
       "      <td>[0001, 0002, 0003, 0004, 0005, 0006, 0007, 000...</td>\n",
       "      <td>[0012, 0017]</td>\n",
       "      <td>[0013]</td>\n",
       "      <td>2b56ef22-dad6-4a19-a86e-d7a50bd90a41</td>\n",
       "      <td>27</td>\n",
       "      <td>0.524602</td>\n",
       "    </tr>\n",
       "    <tr>\n",
       "      <th>13</th>\n",
       "      <td>[0002, 0003, 0004, 0005, 0006, 0007, 0008, 000...</td>\n",
       "      <td>[0018, 0001]</td>\n",
       "      <td>[0014]</td>\n",
       "      <td>155c3748-e62d-433e-baa1-aed0cb029782</td>\n",
       "      <td>29</td>\n",
       "      <td>0.450977</td>\n",
       "    </tr>\n",
       "    <tr>\n",
       "      <th>14</th>\n",
       "      <td>[0001, 0002, 0003, 0004, 0005, 0006, 0007, 000...</td>\n",
       "      <td>[0009, 0011]</td>\n",
       "      <td>[0015]</td>\n",
       "      <td>f833943c-5fa3-448c-a1a3-c757a5cb1c49</td>\n",
       "      <td>31</td>\n",
       "      <td>0.566047</td>\n",
       "    </tr>\n",
       "    <tr>\n",
       "      <th>15</th>\n",
       "      <td>[0002, 0003, 0004, 0005, 0006, 0007, 0008, 000...</td>\n",
       "      <td>[0001, 0011]</td>\n",
       "      <td>[0016]</td>\n",
       "      <td>ecd8859e-e85d-4bb3-ba9b-260ab9348316</td>\n",
       "      <td>39</td>\n",
       "      <td>0.475557</td>\n",
       "    </tr>\n",
       "    <tr>\n",
       "      <th>16</th>\n",
       "      <td>[0001, 0002, 0003, 0004, 0005, 0006, 0007, 000...</td>\n",
       "      <td>[0014, 0011]</td>\n",
       "      <td>[0017]</td>\n",
       "      <td>d0fcc502-63a0-4b1a-90ed-424251ae23c6</td>\n",
       "      <td>36</td>\n",
       "      <td>0.648417</td>\n",
       "    </tr>\n",
       "    <tr>\n",
       "      <th>17</th>\n",
       "      <td>[0001, 0002, 0003, 0004, 0006, 0007, 0008, 000...</td>\n",
       "      <td>[0015, 0005]</td>\n",
       "      <td>[0018]</td>\n",
       "      <td>e07ce073-044f-41cd-a45d-48701063fee8</td>\n",
       "      <td>28</td>\n",
       "      <td>0.497225</td>\n",
       "    </tr>\n",
       "    <tr>\n",
       "      <th>18</th>\n",
       "      <td>[0001, 0002, 0003, 0004, 0005, 0006, 0007, 000...</td>\n",
       "      <td>[0009, 0010]</td>\n",
       "      <td>[0019]</td>\n",
       "      <td>d64fe395-2205-403e-9bbc-02adc993c113</td>\n",
       "      <td>25</td>\n",
       "      <td>0.537121</td>\n",
       "    </tr>\n",
       "  </tbody>\n",
       "</table>\n",
       "</div>"
      ],
      "text/plain": [
       "                                                train           val    test  \\\n",
       "0   [0002, 0003, 0004, 0005, 0007, 0008, 0009, 001...  [0006, 0014]  [0001]   \n",
       "1   [0001, 0003, 0004, 0005, 0006, 0007, 0008, 000...  [0012, 0010]  [0002]   \n",
       "2   [0002, 0004, 0005, 0006, 0007, 0008, 0009, 001...  [0001, 0012]  [0003]   \n",
       "3   [0001, 0003, 0005, 0006, 0008, 0009, 0010, 001...  [0002, 0007]  [0004]   \n",
       "4   [0001, 0002, 0003, 0004, 0006, 0007, 0008, 000...  [0011, 0016]  [0005]   \n",
       "5   [0001, 0002, 0003, 0004, 0005, 0007, 0008, 000...  [0011, 0016]  [0006]   \n",
       "6   [0001, 0002, 0003, 0004, 0005, 0006, 0008, 000...  [0010, 0018]  [0007]   \n",
       "7   [0001, 0002, 0003, 0004, 0005, 0007, 0009, 001...  [0015, 0006]  [0008]   \n",
       "8   [0001, 0002, 0003, 0004, 0006, 0008, 0010, 001...  [0005, 0007]  [0009]   \n",
       "9   [0001, 0002, 0003, 0004, 0005, 0006, 0007, 000...  [0011, 0009]  [0010]   \n",
       "10  [0001, 0002, 0003, 0004, 0005, 0006, 0007, 000...  [0009, 0012]  [0011]   \n",
       "11  [0001, 0002, 0003, 0005, 0006, 0007, 0008, 001...  [0004, 0009]  [0012]   \n",
       "12  [0001, 0002, 0003, 0004, 0005, 0006, 0007, 000...  [0012, 0017]  [0013]   \n",
       "13  [0002, 0003, 0004, 0005, 0006, 0007, 0008, 000...  [0018, 0001]  [0014]   \n",
       "14  [0001, 0002, 0003, 0004, 0005, 0006, 0007, 000...  [0009, 0011]  [0015]   \n",
       "15  [0002, 0003, 0004, 0005, 0006, 0007, 0008, 000...  [0001, 0011]  [0016]   \n",
       "16  [0001, 0002, 0003, 0004, 0005, 0006, 0007, 000...  [0014, 0011]  [0017]   \n",
       "17  [0001, 0002, 0003, 0004, 0006, 0007, 0008, 000...  [0015, 0005]  [0018]   \n",
       "18  [0001, 0002, 0003, 0004, 0005, 0006, 0007, 000...  [0009, 0010]  [0019]   \n",
       "\n",
       "                                 modelId  treeLimit     valF1  \n",
       "0   dfe10db6-0f32-4bce-acc2-f7182342d975         29  0.624040  \n",
       "1   a9db02e2-0d19-4cb2-8d0f-e403b4d1b817         31  0.560143  \n",
       "2   41a7a7ab-da20-48bb-9303-f7d8007b8a6e         40  0.373273  \n",
       "3   ab7f2287-b2cd-4566-bf38-be15170b98b9         31  0.617306  \n",
       "4   627ce16b-abc2-4ddc-a3d0-66d2fdd180de         29  0.640402  \n",
       "5   b01595be-85b5-4126-b4e2-151196a40974         33  0.639887  \n",
       "6   1238a54b-ecc1-4241-8048-39e95efd0470         24  0.589239  \n",
       "7   f6994485-50f9-4be9-9122-f7c45f2626d8         28  0.436195  \n",
       "8   d080e719-2c7b-453c-921f-84d45d827dd0         32  0.593563  \n",
       "9   de6a9e0d-8a5b-4e8e-8fb2-10a2e7ae9f16         37  0.564571  \n",
       "10  569e5227-9d25-43f9-9f2c-819b85f16416         30  0.483782  \n",
       "11  fde08d34-15fd-4167-a008-bb32a12f8d80         23  0.476839  \n",
       "12  2b56ef22-dad6-4a19-a86e-d7a50bd90a41         27  0.524602  \n",
       "13  155c3748-e62d-433e-baa1-aed0cb029782         29  0.450977  \n",
       "14  f833943c-5fa3-448c-a1a3-c757a5cb1c49         31  0.566047  \n",
       "15  ecd8859e-e85d-4bb3-ba9b-260ab9348316         39  0.475557  \n",
       "16  d0fcc502-63a0-4b1a-90ed-424251ae23c6         36  0.648417  \n",
       "17  e07ce073-044f-41cd-a45d-48701063fee8         28  0.497225  \n",
       "18  d64fe395-2205-403e-9bbc-02adc993c113         25  0.537121  "
      ]
     },
     "execution_count": 231,
     "metadata": {},
     "output_type": "execute_result"
    }
   ],
   "source": [
    "experimentModels"
   ]
  },
  {
   "cell_type": "code",
   "execution_count": 11,
   "metadata": {},
   "outputs": [
    {
     "data": {
      "text/html": [
       "<div>\n",
       "<style scoped>\n",
       "    .dataframe tbody tr th:only-of-type {\n",
       "        vertical-align: middle;\n",
       "    }\n",
       "\n",
       "    .dataframe tbody tr th {\n",
       "        vertical-align: top;\n",
       "    }\n",
       "\n",
       "    .dataframe thead th {\n",
       "        text-align: right;\n",
       "    }\n",
       "</style>\n",
       "<table border=\"1\" class=\"dataframe\">\n",
       "  <thead>\n",
       "    <tr style=\"text-align: right;\">\n",
       "      <th></th>\n",
       "      <th>characteristic</th>\n",
       "      <th>bandName</th>\n",
       "      <th>window</th>\n",
       "    </tr>\n",
       "  </thead>\n",
       "  <tbody>\n",
       "    <tr>\n",
       "      <th>21</th>\n",
       "      <td>hjortActivity</td>\n",
       "      <td>sigma</td>\n",
       "      <td>0.5</td>\n",
       "    </tr>\n",
       "    <tr>\n",
       "      <th>66</th>\n",
       "      <td>petrosian</td>\n",
       "      <td>broadband</td>\n",
       "      <td>0.5</td>\n",
       "    </tr>\n",
       "    <tr>\n",
       "      <th>22</th>\n",
       "      <td>hjortActivity</td>\n",
       "      <td>theta</td>\n",
       "      <td>0.5</td>\n",
       "    </tr>\n",
       "    <tr>\n",
       "      <th>79</th>\n",
       "      <td>relativePower</td>\n",
       "      <td>beta1</td>\n",
       "      <td>0.5</td>\n",
       "    </tr>\n",
       "    <tr>\n",
       "      <th>29</th>\n",
       "      <td>hjortComplexity</td>\n",
       "      <td>sigma</td>\n",
       "      <td>0.5</td>\n",
       "    </tr>\n",
       "  </tbody>\n",
       "</table>\n",
       "</div>"
      ],
      "text/plain": [
       "     characteristic   bandName  window\n",
       "21    hjortActivity      sigma     0.5\n",
       "66        petrosian  broadband     0.5\n",
       "22    hjortActivity      theta     0.5\n",
       "79    relativePower      beta1     0.5\n",
       "29  hjortComplexity      sigma     0.5"
      ]
     },
     "execution_count": 11,
     "metadata": {},
     "output_type": "execute_result"
    }
   ],
   "source": [
    "featureSelection"
   ]
  },
  {
   "cell_type": "markdown",
   "metadata": {},
   "source": [
    "## Annotation criterium"
   ]
  },
  {
   "cell_type": "code",
   "execution_count": 12,
   "metadata": {},
   "outputs": [],
   "source": [
    "usedAnnotations=annotations[(annotations['type']=='spindle')&(annotations['labelerId']=='0001')]"
   ]
  },
  {
   "cell_type": "markdown",
   "metadata": {},
   "source": [
    "## AUC and optimal threshold"
   ]
  },
  {
   "cell_type": "code",
   "execution_count": 13,
   "metadata": {},
   "outputs": [
    {
     "name": "stdout",
     "output_type": "stream",
     "text": [
      "23\n"
     ]
    }
   ],
   "source": [
    "#Set by_event IoU threshold\n",
    "masterIoU=0.3\n",
    "\n",
    "#Be conservative, keep the minimum tree limit\n",
    "masterTreeLimit=np.min(experimentModels.treeLimit)\n",
    "print(masterTreeLimit)\n",
    "\n",
    "#Hyperparameters\n",
    "hyperClose=0.25\n",
    "hyperDuration=0.3\n",
    "#we don't check for confidence values because of the latest results\n"
   ]
  },
  {
   "cell_type": "code",
   "execution_count": 14,
   "metadata": {},
   "outputs": [],
   "source": [
    "aps=[]\n",
    "for ind, row in experimentModels.iterrows():\n",
    "    model=loadModel(row.modelId,experimentId,datapath)\n",
    "    testFeatures=loadFeatureMatrix(row.test,featureSelection,signalsMetadata,samplerate,datapath)\n",
    "    testLabels=loadLabelsVector(row.test,usedAnnotations,signalsMetadata,samplerate)\n",
    "    \n",
    "    aps.append(skm.average_precision_score(testLabels,model.predict_proba(testFeatures,iteration_range=(0,masterTreeLimit))[:,1]))"
   ]
  },
  {
   "cell_type": "code",
   "execution_count": 15,
   "metadata": {},
   "outputs": [
    {
     "data": {
      "text/plain": [
       "0.7007432360146514"
      ]
     },
     "execution_count": 15,
     "metadata": {},
     "output_type": "execute_result"
    }
   ],
   "source": [
    "np.mean(aps)"
   ]
  },
  {
   "cell_type": "code",
   "execution_count": 16,
   "metadata": {},
   "outputs": [
    {
     "name": "stdout",
     "output_type": "stream",
     "text": [
      "******************\n",
      "0\n"
     ]
    },
    {
     "ename": "KeyboardInterrupt",
     "evalue": "",
     "output_type": "error",
     "traceback": [
      "\u001b[1;31m---------------------------------------------------------------------------\u001b[0m",
      "\u001b[1;31mKeyboardInterrupt\u001b[0m                         Traceback (most recent call last)",
      "Cell \u001b[1;32mIn [16], line 23\u001b[0m\n\u001b[0;32m     21\u001b[0m predictedLabels\u001b[39m=\u001b[39maux\u001b[39m>\u001b[39m\u001b[39m=\u001b[39mthres\n\u001b[0;32m     22\u001b[0m \u001b[39m#process labels\u001b[39;00m\n\u001b[1;32m---> 23\u001b[0m processedLabels\u001b[39m=\u001b[39mlabelingProcess(predictedLabels,hyperClose,hyperDuration,samplerate)\n\u001b[0;32m     24\u001b[0m finalLabels\u001b[39m=\u001b[39mprocessedLabels \u001b[39m#<- skip the commented section\u001b[39;00m\n\u001b[0;32m     25\u001b[0m \u001b[39m\"\"\" #get confidence score and filter\u001b[39;00m\n\u001b[0;32m     26\u001b[0m \u001b[39mpredictedAnnotations=labelVectorToAnnotations(predictedLabels,samplerate)\u001b[39;00m\n\u001b[0;32m     27\u001b[0m \u001b[39mprocessedAnnotations=labelVectorToAnnotations(processedLabels,samplerate)\u001b[39;00m\n\u001b[1;32m   (...)\u001b[0m\n\u001b[0;32m     31\u001b[0m \u001b[39mfinalAnnotations=processedAnnotations[processedAnnotations.confidence>hyperConfidence].copy().reset_index(drop=True)\u001b[39;00m\n\u001b[0;32m     32\u001b[0m \u001b[39mfinalLabels=excerptAnnotationsToLabels(finalAnnotations,len(testLabels)) \"\"\"\u001b[39;00m\n",
      "File \u001b[1;32m~\\Code\\SpinCo\\src\\spinco.py:789\u001b[0m, in \u001b[0;36mlabelingProcess\u001b[1;34m(labelVector, maxTimeClose, minDuration, samplerate, verbose)\u001b[0m\n\u001b[0;32m    787\u001b[0m \u001b[39mif\u001b[39;00m kernelLength\u001b[39m>\u001b[39m\u001b[39m0\u001b[39m:\n\u001b[0;32m    788\u001b[0m     kernel\u001b[39m=\u001b[39mnp\u001b[39m.\u001b[39mones((kernelLength,))\n\u001b[1;32m--> 789\u001b[0m     labelVector\u001b[39m=\u001b[39mndi\u001b[39m.\u001b[39;49mbinary_closing(labelVector,kernel)\n\u001b[0;32m    790\u001b[0m \u001b[39m#2. Discard candidates under minimum duration\u001b[39;00m\n\u001b[0;32m    791\u001b[0m aux\u001b[39m=\u001b[39mndi\u001b[39m.\u001b[39mlabel(labelVector)\n",
      "File \u001b[1;32mc:\\Users\\Gurdiel\\Code\\SpinCo\\venv\\lib\\site-packages\\scipy\\ndimage\\_morphology.py:784\u001b[0m, in \u001b[0;36mbinary_closing\u001b[1;34m(input, structure, iterations, output, origin, mask, border_value, brute_force)\u001b[0m\n\u001b[0;32m    781\u001b[0m     rank \u001b[39m=\u001b[39m \u001b[39minput\u001b[39m\u001b[39m.\u001b[39mndim\n\u001b[0;32m    782\u001b[0m     structure \u001b[39m=\u001b[39m generate_binary_structure(rank, \u001b[39m1\u001b[39m)\n\u001b[1;32m--> 784\u001b[0m tmp \u001b[39m=\u001b[39m binary_dilation(\u001b[39minput\u001b[39;49m, structure, iterations, mask, \u001b[39mNone\u001b[39;49;00m,\n\u001b[0;32m    785\u001b[0m                       border_value, origin, brute_force)\n\u001b[0;32m    786\u001b[0m \u001b[39mreturn\u001b[39;00m binary_erosion(tmp, structure, iterations, mask, output,\n\u001b[0;32m    787\u001b[0m                       border_value, origin, brute_force)\n",
      "File \u001b[1;32mc:\\Users\\Gurdiel\\Code\\SpinCo\\venv\\lib\\site-packages\\scipy\\ndimage\\_morphology.py:517\u001b[0m, in \u001b[0;36mbinary_dilation\u001b[1;34m(input, structure, iterations, mask, output, border_value, origin, brute_force)\u001b[0m\n\u001b[0;32m    514\u001b[0m     \u001b[39mif\u001b[39;00m \u001b[39mnot\u001b[39;00m structure\u001b[39m.\u001b[39mshape[ii] \u001b[39m&\u001b[39m \u001b[39m1\u001b[39m:\n\u001b[0;32m    515\u001b[0m         origin[ii] \u001b[39m-\u001b[39m\u001b[39m=\u001b[39m \u001b[39m1\u001b[39m\n\u001b[1;32m--> 517\u001b[0m \u001b[39mreturn\u001b[39;00m _binary_erosion(\u001b[39minput\u001b[39;49m, structure, iterations, mask,\n\u001b[0;32m    518\u001b[0m                        output, border_value, origin, \u001b[39m1\u001b[39;49m, brute_force)\n",
      "File \u001b[1;32mc:\\Users\\Gurdiel\\Code\\SpinCo\\venv\\lib\\site-packages\\scipy\\ndimage\\_morphology.py:253\u001b[0m, in \u001b[0;36m_binary_erosion\u001b[1;34m(input, structure, iterations, mask, output, border_value, origin, invert, brute_force)\u001b[0m\n\u001b[0;32m    251\u001b[0m     output \u001b[39m=\u001b[39m _ni_support\u001b[39m.\u001b[39m_get_output(output\u001b[39m.\u001b[39mdtype, \u001b[39minput\u001b[39m)\n\u001b[0;32m    252\u001b[0m \u001b[39mif\u001b[39;00m iterations \u001b[39m==\u001b[39m \u001b[39m1\u001b[39m:\n\u001b[1;32m--> 253\u001b[0m     _nd_image\u001b[39m.\u001b[39;49mbinary_erosion(\u001b[39minput\u001b[39;49m, structure, mask, output,\n\u001b[0;32m    254\u001b[0m                              border_value, origin, invert, cit, \u001b[39m0\u001b[39;49m)\n\u001b[0;32m    255\u001b[0m \u001b[39melif\u001b[39;00m cit \u001b[39mand\u001b[39;00m \u001b[39mnot\u001b[39;00m brute_force:\n\u001b[0;32m    256\u001b[0m     changed, coordinate_list \u001b[39m=\u001b[39m _nd_image\u001b[39m.\u001b[39mbinary_erosion(\n\u001b[0;32m    257\u001b[0m         \u001b[39minput\u001b[39m, structure, mask, output,\n\u001b[0;32m    258\u001b[0m         border_value, origin, invert, cit, \u001b[39m1\u001b[39m)\n",
      "\u001b[1;31mKeyboardInterrupt\u001b[0m: "
     ]
    }
   ],
   "source": [
    "num=20\n",
    "thresholds=np.linspace(0,1,num=num,endpoint=True)\n",
    "opts=[]\n",
    "meanP=np.zeros((num,))\n",
    "meanR=np.zeros((num,))\n",
    "meanF1=np.zeros((num,))\n",
    "\n",
    "for ind, row in experimentModels.iterrows():\n",
    "    print(\"******************\")\n",
    "    print(ind)\n",
    "    precisions=[]\n",
    "    recalls=[]\n",
    "    fprs=[]\n",
    "    f1s=[]\n",
    "    model=loadModel(row.modelId,experimentId,datapath)\n",
    "    testFeatures=loadFeatureMatrix(row.test,featureSelection,signalsMetadata,samplerate,datapath)\n",
    "    testLabels=loadLabelsVector(row.test,usedAnnotations,signalsMetadata,samplerate)\n",
    "    aux=model.predict_proba(testFeatures,iteration_range=(0,masterTreeLimit))[:,1]\n",
    "\n",
    "    for thres in thresholds:\n",
    "        predictedLabels=aux>=thres\n",
    "        #process labels\n",
    "        processedLabels=labelingProcess(predictedLabels,hyperClose,hyperDuration,samplerate)\n",
    "        finalLabels=processedLabels #<- skip the commented section\n",
    "        \"\"\" #get confidence score and filter\n",
    "        predictedAnnotations=labelVectorToAnnotations(predictedLabels,samplerate)\n",
    "        processedAnnotations=labelVectorToAnnotations(processedLabels,samplerate)\n",
    "        processedAnnotations['confidence']=processedAnnotations.apply(\n",
    "            lambda row: getConfidence(row,predictedAnnotations)\n",
    "            ,axis=1)\n",
    "        finalAnnotations=processedAnnotations[processedAnnotations.confidence>hyperConfidence].copy().reset_index(drop=True)\n",
    "        finalLabels=excerptAnnotationsToLabels(finalAnnotations,len(testLabels)) \"\"\"\n",
    "        tp=np.sum(finalLabels*testLabels)\n",
    "        fp=np.sum(finalLabels*(1-testLabels))\n",
    "        tn=np.sum((1-finalLabels)*(1-testLabels))\n",
    "        fn=np.sum((1-finalLabels)*testLabels)\n",
    "\n",
    "        precisions.append(tp/(tp+fp))\n",
    "        recalls.append(tp/(tp+fn))\n",
    "        fprs.append(fp/(fp+tn))\n",
    "        f1s.append(2*tp/(2*tp+fp+fn))\n",
    "    \n",
    "    \"\"\" plt.figure()\n",
    "    plt.plot(thresholds,precisions)\n",
    "    plt.plot(thresholds,recalls)\n",
    "    plt.plot(thresholds,f1s)\n",
    "    plt.legend([\"precision\",\"recall\",\"F1\"])\n",
    "    plt.xlabel(\"threshold\")\n",
    "    plt.title(\"iteration: \"+str(ind))\n",
    "    plt.show() \"\"\"\n",
    "\n",
    "    meanP=meanP+np.array(precisions).flatten()\n",
    "    meanR=meanR+np.array(recalls).flatten()\n",
    "    meanF1=meanF1+np.array(f1s).flatten()\n",
    "    opts.append(thresholds[np.argmax(f1s)])\n",
    "\n",
    "meanP=meanP/len(experimentModels)\n",
    "meanR=meanR/len(experimentModels)\n",
    "meanF1=meanF1/len(experimentModels)"
   ]
  },
  {
   "cell_type": "code",
   "execution_count": null,
   "metadata": {},
   "outputs": [
    {
     "data": {
      "image/png": "[encoded data removed]",
      "text/plain": [
       "<Figure size 640x480 with 1 Axes>"
      ]
     },
     "metadata": {},
     "output_type": "display_data"
    }
   ],
   "source": [
    "plt.figure()\n",
    "plt.plot(thresholds,meanP)\n",
    "plt.plot(thresholds,meanR)\n",
    "plt.plot(thresholds,meanF1)\n",
    "plt.legend([\"precision\",\"recall\",\"F1\"])\n",
    "plt.xlabel(\"threshold\")\n",
    "plt.title(\"average F1 threshold dependency\")\n",
    "plt.show()"
   ]
  },
  {
   "cell_type": "code",
   "execution_count": null,
   "metadata": {},
   "outputs": [
    {
     "data": {
      "text/plain": [
       "0.6249596464634789"
      ]
     },
     "execution_count": 66,
     "metadata": {},
     "output_type": "execute_result"
    }
   ],
   "source": [
    "np.max(meanF1)"
   ]
  },
  {
   "cell_type": "code",
   "execution_count": null,
   "metadata": {},
   "outputs": [
    {
     "data": {
      "text/plain": [
       "0.3157894736842105"
      ]
     },
     "execution_count": 64,
     "metadata": {},
     "output_type": "execute_result"
    }
   ],
   "source": [
    "thresholds[np.argmax(meanF1)]"
   ]
  },
  {
   "cell_type": "code",
   "execution_count": null,
   "metadata": {},
   "outputs": [
    {
     "data": {
      "text/plain": [
       "0.3434903047091413"
      ]
     },
     "execution_count": 70,
     "metadata": {},
     "output_type": "execute_result"
    }
   ],
   "source": [
    "np.mean(opts)"
   ]
  },
  {
   "cell_type": "markdown",
   "metadata": {},
   "source": [
    "## By event metrics"
   ]
  },
  {
   "cell_type": "code",
   "execution_count": 17,
   "metadata": {},
   "outputs": [
    {
     "data": {
      "text/html": [
       "<div>\n",
       "<style scoped>\n",
       "    .dataframe tbody tr th:only-of-type {\n",
       "        vertical-align: middle;\n",
       "    }\n",
       "\n",
       "    .dataframe tbody tr th {\n",
       "        vertical-align: top;\n",
       "    }\n",
       "\n",
       "    .dataframe thead th {\n",
       "        text-align: right;\n",
       "    }\n",
       "</style>\n",
       "<table border=\"1\" class=\"dataframe\">\n",
       "  <thead>\n",
       "    <tr style=\"text-align: right;\">\n",
       "      <th></th>\n",
       "      <th>train</th>\n",
       "      <th>val</th>\n",
       "      <th>test</th>\n",
       "      <th>modelId</th>\n",
       "      <th>treeLimit</th>\n",
       "      <th>valF1</th>\n",
       "    </tr>\n",
       "  </thead>\n",
       "  <tbody>\n",
       "    <tr>\n",
       "      <th>0</th>\n",
       "      <td>[0002, 0003, 0004, 0005, 0007, 0008, 0009, 001...</td>\n",
       "      <td>[0006, 0014]</td>\n",
       "      <td>[0001]</td>\n",
       "      <td>dfe10db6-0f32-4bce-acc2-f7182342d975</td>\n",
       "      <td>29</td>\n",
       "      <td>0.624040</td>\n",
       "    </tr>\n",
       "    <tr>\n",
       "      <th>1</th>\n",
       "      <td>[0001, 0003, 0004, 0005, 0006, 0007, 0008, 000...</td>\n",
       "      <td>[0012, 0010]</td>\n",
       "      <td>[0002]</td>\n",
       "      <td>a9db02e2-0d19-4cb2-8d0f-e403b4d1b817</td>\n",
       "      <td>31</td>\n",
       "      <td>0.560143</td>\n",
       "    </tr>\n",
       "    <tr>\n",
       "      <th>2</th>\n",
       "      <td>[0002, 0004, 0005, 0006, 0007, 0008, 0009, 001...</td>\n",
       "      <td>[0001, 0012]</td>\n",
       "      <td>[0003]</td>\n",
       "      <td>41a7a7ab-da20-48bb-9303-f7d8007b8a6e</td>\n",
       "      <td>40</td>\n",
       "      <td>0.373273</td>\n",
       "    </tr>\n",
       "    <tr>\n",
       "      <th>3</th>\n",
       "      <td>[0001, 0003, 0005, 0006, 0008, 0009, 0010, 001...</td>\n",
       "      <td>[0002, 0007]</td>\n",
       "      <td>[0004]</td>\n",
       "      <td>ab7f2287-b2cd-4566-bf38-be15170b98b9</td>\n",
       "      <td>31</td>\n",
       "      <td>0.617306</td>\n",
       "    </tr>\n",
       "    <tr>\n",
       "      <th>4</th>\n",
       "      <td>[0001, 0002, 0003, 0004, 0006, 0007, 0008, 000...</td>\n",
       "      <td>[0011, 0016]</td>\n",
       "      <td>[0005]</td>\n",
       "      <td>627ce16b-abc2-4ddc-a3d0-66d2fdd180de</td>\n",
       "      <td>29</td>\n",
       "      <td>0.640402</td>\n",
       "    </tr>\n",
       "  </tbody>\n",
       "</table>\n",
       "</div>"
      ],
      "text/plain": [
       "                                               train           val    test  \\\n",
       "0  [0002, 0003, 0004, 0005, 0007, 0008, 0009, 001...  [0006, 0014]  [0001]   \n",
       "1  [0001, 0003, 0004, 0005, 0006, 0007, 0008, 000...  [0012, 0010]  [0002]   \n",
       "2  [0002, 0004, 0005, 0006, 0007, 0008, 0009, 001...  [0001, 0012]  [0003]   \n",
       "3  [0001, 0003, 0005, 0006, 0008, 0009, 0010, 001...  [0002, 0007]  [0004]   \n",
       "4  [0001, 0002, 0003, 0004, 0006, 0007, 0008, 000...  [0011, 0016]  [0005]   \n",
       "\n",
       "                                modelId  treeLimit     valF1  \n",
       "0  dfe10db6-0f32-4bce-acc2-f7182342d975         29  0.624040  \n",
       "1  a9db02e2-0d19-4cb2-8d0f-e403b4d1b817         31  0.560143  \n",
       "2  41a7a7ab-da20-48bb-9303-f7d8007b8a6e         40  0.373273  \n",
       "3  ab7f2287-b2cd-4566-bf38-be15170b98b9         31  0.617306  \n",
       "4  627ce16b-abc2-4ddc-a3d0-66d2fdd180de         29  0.640402  "
      ]
     },
     "execution_count": 17,
     "metadata": {},
     "output_type": "execute_result"
    }
   ],
   "source": [
    "experimentModels.head(5)"
   ]
  },
  {
   "cell_type": "code",
   "execution_count": 18,
   "metadata": {},
   "outputs": [
    {
     "name": "stdout",
     "output_type": "stream",
     "text": [
      "******************\n",
      "0\n",
      "******************\n",
      "1\n",
      "******************\n",
      "2\n",
      "******************\n",
      "3\n",
      "******************\n",
      "4\n",
      "******************\n",
      "5\n",
      "******************\n",
      "6\n",
      "******************\n",
      "7\n",
      "******************\n",
      "8\n",
      "******************\n",
      "9\n",
      "******************\n",
      "10\n",
      "******************\n",
      "11\n",
      "******************\n",
      "12\n",
      "******************\n",
      "13\n",
      "******************\n",
      "14\n",
      "******************\n",
      "15\n",
      "******************\n",
      "16\n",
      "******************\n",
      "17\n",
      "******************\n",
      "18\n"
     ]
    }
   ],
   "source": [
    "masterThres=0.40\n",
    "modelMetrics=pd.DataFrame()\n",
    "allFinalAnnotations={}\n",
    "\n",
    "for ind, row in experimentModels.iterrows():\n",
    "    print(\"******************\")\n",
    "    print(ind)\n",
    "    \n",
    "    #model application\n",
    "    model=loadModel(row.modelId,experimentId,datapath)\n",
    "    testFeatures=loadFeatureMatrix(row.test,featureSelection,signalsMetadata,samplerate,datapath)\n",
    "    testLabels=loadLabelsVector(row.test,usedAnnotations,signalsMetadata,samplerate)\n",
    "    aux=model.predict_proba(testFeatures,iteration_range=(0,masterTreeLimit))[:,1]\n",
    "    predictedLabels=aux>=masterThres\n",
    "    raw_F1=F1(testLabels,predictedLabels)\n",
    "\n",
    "    #process labels\n",
    "    processedLabels=labelingProcess(predictedLabels,hyperClose,hyperDuration,samplerate)\n",
    "    finalLabels=processedLabels #<- skip the commented section\n",
    "    \"\"\" #get confidence score and filter\n",
    "    predictedAnnotations=labelVectorToAnnotations(predictedLabels,samplerate)\n",
    "    processedAnnotations=labelVectorToAnnotations(processedLabels,samplerate)\n",
    "    processedAnnotations['confidence']=processedAnnotations.apply(\n",
    "        lambda row: getConfidence(row,predictedAnnotations)\n",
    "        ,axis=1)\n",
    "    finalAnnotations=processedAnnotations[processedAnnotations.confidence>hyperConfidence].copy().reset_index(drop=True)\n",
    "    finalLabels=excerptAnnotationsToLabels(finalAnnotations,len(testLabels)) \"\"\"\n",
    "\n",
    "    tp=np.sum(finalLabels*testLabels)\n",
    "    fp=np.sum(finalLabels*(1-testLabels))\n",
    "    tn=np.sum((1-finalLabels)*(1-testLabels))\n",
    "    fn=np.sum((1-finalLabels)*testLabels)\n",
    "\n",
    "    vector_Precision=tp/(tp+fp)\n",
    "    vector_Recall=tp/(tp+fn)\n",
    "    vector_FPR=fp/(fp+tn)\n",
    "    vector_F1=2*tp/(2*tp+fp+fn)\n",
    "    vector_TS=tp/(tp+fn+fp)\n",
    "    \n",
    "    #by-event\n",
    "    finalAnnotations=labelVectorToAnnotations(finalLabels,samplerate)\n",
    "    gtAnnotations=labelVectorToAnnotations(testLabels,samplerate)   #<- or just filter the annotations\n",
    "    event_tp,event_fp,event_fn = byEventEvaluation(gtAnnotations,finalAnnotations,thres_IoU=masterIoU)\n",
    "    #consistency check\n",
    "    check=event_tp*2+event_fp+event_fn==len(gtAnnotations)+len(finalAnnotations)\n",
    "    #calculate metrics\n",
    "    event_F1=2*event_tp/(2*event_tp+event_fp+event_fn)\n",
    "    event_Precision=event_tp/(event_tp+event_fp)\n",
    "    event_Recall=event_tp/(event_tp+event_fn)\n",
    "    event_TS=event_tp/(event_tp+event_fn+event_fp)\n",
    "\n",
    "    #keep final annotations\n",
    "    allFinalAnnotations[row.modelId]=finalAnnotations\n",
    "\n",
    "    #append to the dataframe\n",
    "    newRow=pd.Series({\n",
    "        \"experimentId\":experimentId,\n",
    "        \"modelId\":row.modelId,\n",
    "        \"testSubjectId\":row.test[0],\n",
    "        \"thres_prob\":masterThres,\n",
    "        \"thres_IoU\":masterIoU,\n",
    "        \"treeLimit\":masterTreeLimit,\n",
    "        \"close\":hyperClose,\n",
    "        \"minDuration\":hyperDuration,\n",
    "        \"check\":check,\n",
    "        \"raw_F1\":raw_F1,\n",
    "        \"vector_tp\":tp,\n",
    "        \"vector_fp\":fp,\n",
    "        \"vector_tn\":tn,\n",
    "        \"vector_fn\":fn,\n",
    "        \"vector_Precision\":vector_Precision,\n",
    "        \"vector_Recall\":vector_Recall,\n",
    "        \"vector_FPR\":vector_FPR,\n",
    "        \"vector_F1\":vector_F1,\n",
    "        \"vector_TS\":vector_TS,\n",
    "        \"final_count\":len(finalAnnotations),\n",
    "        \"gt_count\":len(gtAnnotations),\n",
    "        \"event_F1\":event_F1,\n",
    "        \"event_Precision\":event_Precision,\n",
    "        \"event_Recall\":event_Recall,\n",
    "        \"event_TS\":event_TS})\n",
    "    modelMetrics=pd.concat([modelMetrics,newRow.to_frame().T],ignore_index=True)\n",
    "    "
   ]
  },
  {
   "cell_type": "code",
   "execution_count": 19,
   "metadata": {},
   "outputs": [
    {
     "name": "stdout",
     "output_type": "stream",
     "text": [
      "event F1 mean: 0.6849454205557103\n",
      "event F1 std: 0.06629093976882379\n"
     ]
    }
   ],
   "source": [
    "print(\"event F1 mean: \"+str(np.mean(modelMetrics.event_F1)))\n",
    "print(\"event F1 std: \"+str(np.std(modelMetrics.event_F1)))"
   ]
  },
  {
   "cell_type": "code",
   "execution_count": 20,
   "metadata": {},
   "outputs": [
    {
     "name": "stdout",
     "output_type": "stream",
     "text": [
      "event Recall mean: 0.7529125537330715\n",
      "event Recall std: 0.15380892961952694\n"
     ]
    }
   ],
   "source": [
    "print(\"event Recall mean: \"+str(np.mean(modelMetrics.event_Recall)))\n",
    "print(\"event Recall std: \"+str(np.std(modelMetrics.event_Recall)))"
   ]
  },
  {
   "cell_type": "code",
   "execution_count": 21,
   "metadata": {},
   "outputs": [
    {
     "name": "stdout",
     "output_type": "stream",
     "text": [
      "event Precision mean: 0.6756461507944755\n",
      "event Precision std: 0.13313577782955813\n"
     ]
    }
   ],
   "source": [
    "print(\"event Precision mean: \"+str(np.mean(modelMetrics.event_Precision)))\n",
    "print(\"event Precision std: \"+str(np.std(modelMetrics.event_Precision)))"
   ]
  },
  {
   "cell_type": "code",
   "execution_count": 22,
   "metadata": {},
   "outputs": [
    {
     "data": {
      "text/html": [
       "<div>\n",
       "<style scoped>\n",
       "    .dataframe tbody tr th:only-of-type {\n",
       "        vertical-align: middle;\n",
       "    }\n",
       "\n",
       "    .dataframe tbody tr th {\n",
       "        vertical-align: top;\n",
       "    }\n",
       "\n",
       "    .dataframe thead th {\n",
       "        text-align: right;\n",
       "    }\n",
       "</style>\n",
       "<table border=\"1\" class=\"dataframe\">\n",
       "  <thead>\n",
       "    <tr style=\"text-align: right;\">\n",
       "      <th></th>\n",
       "      <th>experimentId</th>\n",
       "      <th>modelId</th>\n",
       "      <th>testSubjectId</th>\n",
       "      <th>thres_prob</th>\n",
       "      <th>thres_IoU</th>\n",
       "      <th>treeLimit</th>\n",
       "      <th>close</th>\n",
       "      <th>minDuration</th>\n",
       "      <th>check</th>\n",
       "      <th>raw_F1</th>\n",
       "      <th>...</th>\n",
       "      <th>vector_Recall</th>\n",
       "      <th>vector_FPR</th>\n",
       "      <th>vector_F1</th>\n",
       "      <th>vector_TS</th>\n",
       "      <th>final_count</th>\n",
       "      <th>gt_count</th>\n",
       "      <th>event_F1</th>\n",
       "      <th>event_Precision</th>\n",
       "      <th>event_Recall</th>\n",
       "      <th>event_TS</th>\n",
       "    </tr>\n",
       "  </thead>\n",
       "  <tbody>\n",
       "    <tr>\n",
       "      <th>0</th>\n",
       "      <td>caa5287c-cb07-47ff-aba6-9c26eb22c40d</td>\n",
       "      <td>dfe10db6-0f32-4bce-acc2-f7182342d975</td>\n",
       "      <td>0001</td>\n",
       "      <td>0.4</td>\n",
       "      <td>0.3</td>\n",
       "      <td>23</td>\n",
       "      <td>0.25</td>\n",
       "      <td>0.3</td>\n",
       "      <td>True</td>\n",
       "      <td>0.37684</td>\n",
       "      <td>...</td>\n",
       "      <td>0.253136</td>\n",
       "      <td>0.000508</td>\n",
       "      <td>0.398708</td>\n",
       "      <td>0.248991</td>\n",
       "      <td>404</td>\n",
       "      <td>1044</td>\n",
       "      <td>0.513812</td>\n",
       "      <td>0.920792</td>\n",
       "      <td>0.356322</td>\n",
       "      <td>0.345725</td>\n",
       "    </tr>\n",
       "    <tr>\n",
       "      <th>1</th>\n",
       "      <td>caa5287c-cb07-47ff-aba6-9c26eb22c40d</td>\n",
       "      <td>a9db02e2-0d19-4cb2-8d0f-e403b4d1b817</td>\n",
       "      <td>0002</td>\n",
       "      <td>0.4</td>\n",
       "      <td>0.3</td>\n",
       "      <td>23</td>\n",
       "      <td>0.25</td>\n",
       "      <td>0.3</td>\n",
       "      <td>True</td>\n",
       "      <td>0.676664</td>\n",
       "      <td>...</td>\n",
       "      <td>0.61862</td>\n",
       "      <td>0.004092</td>\n",
       "      <td>0.701094</td>\n",
       "      <td>0.539757</td>\n",
       "      <td>1108</td>\n",
       "      <td>1143</td>\n",
       "      <td>0.783652</td>\n",
       "      <td>0.796029</td>\n",
       "      <td>0.771654</td>\n",
       "      <td>0.644266</td>\n",
       "    </tr>\n",
       "    <tr>\n",
       "      <th>2</th>\n",
       "      <td>caa5287c-cb07-47ff-aba6-9c26eb22c40d</td>\n",
       "      <td>41a7a7ab-da20-48bb-9303-f7d8007b8a6e</td>\n",
       "      <td>0003</td>\n",
       "      <td>0.4</td>\n",
       "      <td>0.3</td>\n",
       "      <td>23</td>\n",
       "      <td>0.25</td>\n",
       "      <td>0.3</td>\n",
       "      <td>True</td>\n",
       "      <td>0.58655</td>\n",
       "      <td>...</td>\n",
       "      <td>0.533688</td>\n",
       "      <td>0.000611</td>\n",
       "      <td>0.606244</td>\n",
       "      <td>0.434971</td>\n",
       "      <td>137</td>\n",
       "      <td>143</td>\n",
       "      <td>0.678571</td>\n",
       "      <td>0.693431</td>\n",
       "      <td>0.664336</td>\n",
       "      <td>0.513514</td>\n",
       "    </tr>\n",
       "    <tr>\n",
       "      <th>3</th>\n",
       "      <td>caa5287c-cb07-47ff-aba6-9c26eb22c40d</td>\n",
       "      <td>ab7f2287-b2cd-4566-bf38-be15170b98b9</td>\n",
       "      <td>0004</td>\n",
       "      <td>0.4</td>\n",
       "      <td>0.3</td>\n",
       "      <td>23</td>\n",
       "      <td>0.25</td>\n",
       "      <td>0.3</td>\n",
       "      <td>True</td>\n",
       "      <td>0.617049</td>\n",
       "      <td>...</td>\n",
       "      <td>0.698475</td>\n",
       "      <td>0.003719</td>\n",
       "      <td>0.637601</td>\n",
       "      <td>0.467999</td>\n",
       "      <td>392</td>\n",
       "      <td>253</td>\n",
       "      <td>0.682171</td>\n",
       "      <td>0.561224</td>\n",
       "      <td>0.869565</td>\n",
       "      <td>0.517647</td>\n",
       "    </tr>\n",
       "    <tr>\n",
       "      <th>4</th>\n",
       "      <td>caa5287c-cb07-47ff-aba6-9c26eb22c40d</td>\n",
       "      <td>627ce16b-abc2-4ddc-a3d0-66d2fdd180de</td>\n",
       "      <td>0005</td>\n",
       "      <td>0.4</td>\n",
       "      <td>0.3</td>\n",
       "      <td>23</td>\n",
       "      <td>0.25</td>\n",
       "      <td>0.3</td>\n",
       "      <td>True</td>\n",
       "      <td>0.608028</td>\n",
       "      <td>...</td>\n",
       "      <td>0.598887</td>\n",
       "      <td>0.002366</td>\n",
       "      <td>0.629237</td>\n",
       "      <td>0.459042</td>\n",
       "      <td>386</td>\n",
       "      <td>341</td>\n",
       "      <td>0.712517</td>\n",
       "      <td>0.670984</td>\n",
       "      <td>0.759531</td>\n",
       "      <td>0.553419</td>\n",
       "    </tr>\n",
       "  </tbody>\n",
       "</table>\n",
       "<p>5 rows × 25 columns</p>\n",
       "</div>"
      ],
      "text/plain": [
       "                           experimentId                               modelId  \\\n",
       "0  caa5287c-cb07-47ff-aba6-9c26eb22c40d  dfe10db6-0f32-4bce-acc2-f7182342d975   \n",
       "1  caa5287c-cb07-47ff-aba6-9c26eb22c40d  a9db02e2-0d19-4cb2-8d0f-e403b4d1b817   \n",
       "2  caa5287c-cb07-47ff-aba6-9c26eb22c40d  41a7a7ab-da20-48bb-9303-f7d8007b8a6e   \n",
       "3  caa5287c-cb07-47ff-aba6-9c26eb22c40d  ab7f2287-b2cd-4566-bf38-be15170b98b9   \n",
       "4  caa5287c-cb07-47ff-aba6-9c26eb22c40d  627ce16b-abc2-4ddc-a3d0-66d2fdd180de   \n",
       "\n",
       "  testSubjectId thres_prob thres_IoU treeLimit close minDuration check  \\\n",
       "0          0001        0.4       0.3        23  0.25         0.3  True   \n",
       "1          0002        0.4       0.3        23  0.25         0.3  True   \n",
       "2          0003        0.4       0.3        23  0.25         0.3  True   \n",
       "3          0004        0.4       0.3        23  0.25         0.3  True   \n",
       "4          0005        0.4       0.3        23  0.25         0.3  True   \n",
       "\n",
       "     raw_F1  ... vector_Recall vector_FPR vector_F1 vector_TS final_count  \\\n",
       "0   0.37684  ...      0.253136   0.000508  0.398708  0.248991         404   \n",
       "1  0.676664  ...       0.61862   0.004092  0.701094  0.539757        1108   \n",
       "2   0.58655  ...      0.533688   0.000611  0.606244  0.434971         137   \n",
       "3  0.617049  ...      0.698475   0.003719  0.637601  0.467999         392   \n",
       "4  0.608028  ...      0.598887   0.002366  0.629237  0.459042         386   \n",
       "\n",
       "  gt_count  event_F1 event_Precision event_Recall  event_TS  \n",
       "0     1044  0.513812        0.920792     0.356322  0.345725  \n",
       "1     1143  0.783652        0.796029     0.771654  0.644266  \n",
       "2      143  0.678571        0.693431     0.664336  0.513514  \n",
       "3      253  0.682171        0.561224     0.869565  0.517647  \n",
       "4      341  0.712517        0.670984     0.759531  0.553419  \n",
       "\n",
       "[5 rows x 25 columns]"
      ]
     },
     "execution_count": 22,
     "metadata": {},
     "output_type": "execute_result"
    }
   ],
   "source": [
    "modelMetrics.head(5)"
   ]
  },
  {
   "cell_type": "code",
   "execution_count": 23,
   "metadata": {},
   "outputs": [
    {
     "data": {
      "application/vnd.plotly.v1+json": {
       "config": {
        "plotlyServerURL": "https://plot.ly"
       },
       "data": [
        {
         "hovertemplate": "raw_F1=%{x}<br>vector_F1=%{y}<br>testSubjectId=%{text}<extra></extra>",
         "legendgroup": "",
         "marker": {
          "color": "#636efa",
          "symbol": "circle"
         },
         "mode": "markers+text",
         "name": "",
         "orientation": "v",
         "showlegend": false,
         "text": [
          "0001",
          "0002",
          "0003",
          "0004",
          "0005",
          "0006",
          "0007",
          "0008",
          "0009",
          "0010",
          "0011",
          "0012",
          "0013",
          "0014",
          "0015",
          "0016",
          "0017",
          "0018",
          "0019"
         ],
         "type": "scatter",
         "x": [
          0.3768404593935558,
          0.6766637029975833,
          0.5865497578727185,
          0.6170494445403788,
          0.6080275913909554,
          0.5564014841227775,
          0.5871791379288995,
          0.6093255189516597,
          0.5466713696951695,
          0.6474729165788475,
          0.6853893218485098,
          0.5909148106203599,
          0.6820038097326335,
          0.6052027128862095,
          0.41525382082657625,
          0.6137514220705347,
          0.6076809406020109,
          0.630725455140634,
          0.6143188481234547
         ],
         "xaxis": "x",
         "y": [
          0.39870789532850937,
          0.7010935096253794,
          0.6062437059415912,
          0.6376011133339132,
          0.6292372650206749,
          0.587982933785918,
          0.590202546912135,
          0.6266913046143606,
          0.5748821533486667,
          0.6692259013549136,
          0.6940894701075696,
          0.614060089620216,
          0.6896862703116535,
          0.5944569124171393,
          0.4531003159557662,
          0.6398145384631402,
          0.6445050662509743,
          0.6610348404230907,
          0.6157605103488225
         ],
         "yaxis": "y"
        },
        {
         "fill": "toself",
         "mode": "lines",
         "name": "identity",
         "type": "scatter",
         "x": [
          0.3768404593935558,
          0.6766637029975833,
          0.5865497578727185,
          0.6170494445403788,
          0.6080275913909554,
          0.5564014841227775,
          0.5871791379288995,
          0.6093255189516597,
          0.5466713696951695,
          0.6474729165788475,
          0.6853893218485098,
          0.5909148106203599,
          0.6820038097326335,
          0.6052027128862095,
          0.41525382082657625,
          0.6137514220705347,
          0.6076809406020109,
          0.630725455140634,
          0.6143188481234547
         ],
         "y": [
          0.3768404593935558,
          0.6766637029975833,
          0.5865497578727185,
          0.6170494445403788,
          0.6080275913909554,
          0.5564014841227775,
          0.5871791379288995,
          0.6093255189516597,
          0.5466713696951695,
          0.6474729165788475,
          0.6853893218485098,
          0.5909148106203599,
          0.6820038097326335,
          0.6052027128862095,
          0.41525382082657625,
          0.6137514220705347,
          0.6076809406020109,
          0.630725455140634,
          0.6143188481234547
         ]
        }
       ],
       "layout": {
        "legend": {
         "tracegroupgap": 0
        },
        "margin": {
         "t": 60
        },
        "template": {
         "data": {
          "bar": [
           {
            "error_x": {
             "color": "#2a3f5f"
            },
            "error_y": {
             "color": "#2a3f5f"
            },
            "marker": {
             "line": {
              "color": "#E5ECF6",
              "width": 0.5
             },
             "pattern": {
              "fillmode": "overlay",
              "size": 10,
              "solidity": 0.2
             }
            },
            "type": "bar"
           }
          ],
          "barpolar": [
           {
            "marker": {
             "line": {
              "color": "#E5ECF6",
              "width": 0.5
             },
             "pattern": {
              "fillmode": "overlay",
              "size": 10,
              "solidity": 0.2
             }
            },
            "type": "barpolar"
           }
          ],
          "carpet": [
           {
            "aaxis": {
             "endlinecolor": "#2a3f5f",
             "gridcolor": "white",
             "linecolor": "white",
             "minorgridcolor": "white",
             "startlinecolor": "#2a3f5f"
            },
            "baxis": {
             "endlinecolor": "#2a3f5f",
             "gridcolor": "white",
             "linecolor": "white",
             "minorgridcolor": "white",
             "startlinecolor": "#2a3f5f"
            },
            "type": "carpet"
           }
          ],
          "choropleth": [
           {
            "colorbar": {
             "outlinewidth": 0,
             "ticks": ""
            },
            "type": "choropleth"
           }
          ],
          "contour": [
           {
            "colorbar": {
             "outlinewidth": 0,
             "ticks": ""
            },
            "colorscale": [
             [
              0,
              "#0d0887"
             ],
             [
              0.1111111111111111,
              "#46039f"
             ],
             [
              0.2222222222222222,
              "#7201a8"
             ],
             [
              0.3333333333333333,
              "#9c179e"
             ],
             [
              0.4444444444444444,
              "#bd3786"
             ],
             [
              0.5555555555555556,
              "#d8576b"
             ],
             [
              0.6666666666666666,
              "#ed7953"
             ],
             [
              0.7777777777777778,
              "#fb9f3a"
             ],
             [
              0.8888888888888888,
              "#fdca26"
             ],
             [
              1,
              "#f0f921"
             ]
            ],
            "type": "contour"
           }
          ],
          "contourcarpet": [
           {
            "colorbar": {
             "outlinewidth": 0,
             "ticks": ""
            },
            "type": "contourcarpet"
           }
          ],
          "heatmap": [
           {
            "colorbar": {
             "outlinewidth": 0,
             "ticks": ""
            },
            "colorscale": [
             [
              0,
              "#0d0887"
             ],
             [
              0.1111111111111111,
              "#46039f"
             ],
             [
              0.2222222222222222,
              "#7201a8"
             ],
             [
              0.3333333333333333,
              "#9c179e"
             ],
             [
              0.4444444444444444,
              "#bd3786"
             ],
             [
              0.5555555555555556,
              "#d8576b"
             ],
             [
              0.6666666666666666,
              "#ed7953"
             ],
             [
              0.7777777777777778,
              "#fb9f3a"
             ],
             [
              0.8888888888888888,
              "#fdca26"
             ],
             [
              1,
              "#f0f921"
             ]
            ],
            "type": "heatmap"
           }
          ],
          "heatmapgl": [
           {
            "colorbar": {
             "outlinewidth": 0,
             "ticks": ""
            },
            "colorscale": [
             [
              0,
              "#0d0887"
             ],
             [
              0.1111111111111111,
              "#46039f"
             ],
             [
              0.2222222222222222,
              "#7201a8"
             ],
             [
              0.3333333333333333,
              "#9c179e"
             ],
             [
              0.4444444444444444,
              "#bd3786"
             ],
             [
              0.5555555555555556,
              "#d8576b"
             ],
             [
              0.6666666666666666,
              "#ed7953"
             ],
             [
              0.7777777777777778,
              "#fb9f3a"
             ],
             [
              0.8888888888888888,
              "#fdca26"
             ],
             [
              1,
              "#f0f921"
             ]
            ],
            "type": "heatmapgl"
           }
          ],
          "histogram": [
           {
            "marker": {
             "pattern": {
              "fillmode": "overlay",
              "size": 10,
              "solidity": 0.2
             }
            },
            "type": "histogram"
           }
          ],
          "histogram2d": [
           {
            "colorbar": {
             "outlinewidth": 0,
             "ticks": ""
            },
            "colorscale": [
             [
              0,
              "#0d0887"
             ],
             [
              0.1111111111111111,
              "#46039f"
             ],
             [
              0.2222222222222222,
              "#7201a8"
             ],
             [
              0.3333333333333333,
              "#9c179e"
             ],
             [
              0.4444444444444444,
              "#bd3786"
             ],
             [
              0.5555555555555556,
              "#d8576b"
             ],
             [
              0.6666666666666666,
              "#ed7953"
             ],
             [
              0.7777777777777778,
              "#fb9f3a"
             ],
             [
              0.8888888888888888,
              "#fdca26"
             ],
             [
              1,
              "#f0f921"
             ]
            ],
            "type": "histogram2d"
           }
          ],
          "histogram2dcontour": [
           {
            "colorbar": {
             "outlinewidth": 0,
             "ticks": ""
            },
            "colorscale": [
             [
              0,
              "#0d0887"
             ],
             [
              0.1111111111111111,
              "#46039f"
             ],
             [
              0.2222222222222222,
              "#7201a8"
             ],
             [
              0.3333333333333333,
              "#9c179e"
             ],
             [
              0.4444444444444444,
              "#bd3786"
             ],
             [
              0.5555555555555556,
              "#d8576b"
             ],
             [
              0.6666666666666666,
              "#ed7953"
             ],
             [
              0.7777777777777778,
              "#fb9f3a"
             ],
             [
              0.8888888888888888,
              "#fdca26"
             ],
             [
              1,
              "#f0f921"
             ]
            ],
            "type": "histogram2dcontour"
           }
          ],
          "mesh3d": [
           {
            "colorbar": {
             "outlinewidth": 0,
             "ticks": ""
            },
            "type": "mesh3d"
           }
          ],
          "parcoords": [
           {
            "line": {
             "colorbar": {
              "outlinewidth": 0,
              "ticks": ""
             }
            },
            "type": "parcoords"
           }
          ],
          "pie": [
           {
            "automargin": true,
            "type": "pie"
           }
          ],
          "scatter": [
           {
            "fillpattern": {
             "fillmode": "overlay",
             "size": 10,
             "solidity": 0.2
            },
            "type": "scatter"
           }
          ],
          "scatter3d": [
           {
            "line": {
             "colorbar": {
              "outlinewidth": 0,
              "ticks": ""
             }
            },
            "marker": {
             "colorbar": {
              "outlinewidth": 0,
              "ticks": ""
             }
            },
            "type": "scatter3d"
           }
          ],
          "scattercarpet": [
           {
            "marker": {
             "colorbar": {
              "outlinewidth": 0,
              "ticks": ""
             }
            },
            "type": "scattercarpet"
           }
          ],
          "scattergeo": [
           {
            "marker": {
             "colorbar": {
              "outlinewidth": 0,
              "ticks": ""
             }
            },
            "type": "scattergeo"
           }
          ],
          "scattergl": [
           {
            "marker": {
             "colorbar": {
              "outlinewidth": 0,
              "ticks": ""
             }
            },
            "type": "scattergl"
           }
          ],
          "scattermapbox": [
           {
            "marker": {
             "colorbar": {
              "outlinewidth": 0,
              "ticks": ""
             }
            },
            "type": "scattermapbox"
           }
          ],
          "scatterpolar": [
           {
            "marker": {
             "colorbar": {
              "outlinewidth": 0,
              "ticks": ""
             }
            },
            "type": "scatterpolar"
           }
          ],
          "scatterpolargl": [
           {
            "marker": {
             "colorbar": {
              "outlinewidth": 0,
              "ticks": ""
             }
            },
            "type": "scatterpolargl"
           }
          ],
          "scatterternary": [
           {
            "marker": {
             "colorbar": {
              "outlinewidth": 0,
              "ticks": ""
             }
            },
            "type": "scatterternary"
           }
          ],
          "surface": [
           {
            "colorbar": {
             "outlinewidth": 0,
             "ticks": ""
            },
            "colorscale": [
             [
              0,
              "#0d0887"
             ],
             [
              0.1111111111111111,
              "#46039f"
             ],
             [
              0.2222222222222222,
              "#7201a8"
             ],
             [
              0.3333333333333333,
              "#9c179e"
             ],
             [
              0.4444444444444444,
              "#bd3786"
             ],
             [
              0.5555555555555556,
              "#d8576b"
             ],
             [
              0.6666666666666666,
              "#ed7953"
             ],
             [
              0.7777777777777778,
              "#fb9f3a"
             ],
             [
              0.8888888888888888,
              "#fdca26"
             ],
             [
              1,
              "#f0f921"
             ]
            ],
            "type": "surface"
           }
          ],
          "table": [
           {
            "cells": {
             "fill": {
              "color": "#EBF0F8"
             },
             "line": {
              "color": "white"
             }
            },
            "header": {
             "fill": {
              "color": "#C8D4E3"
             },
             "line": {
              "color": "white"
             }
            },
            "type": "table"
           }
          ]
         },
         "layout": {
          "annotationdefaults": {
           "arrowcolor": "#2a3f5f",
           "arrowhead": 0,
           "arrowwidth": 1
          },
          "autotypenumbers": "strict",
          "coloraxis": {
           "colorbar": {
            "outlinewidth": 0,
            "ticks": ""
           }
          },
          "colorscale": {
           "diverging": [
            [
             0,
             "#8e0152"
            ],
            [
             0.1,
             "#c51b7d"
            ],
            [
             0.2,
             "#de77ae"
            ],
            [
             0.3,
             "#f1b6da"
            ],
            [
             0.4,
             "#fde0ef"
            ],
            [
             0.5,
             "#f7f7f7"
            ],
            [
             0.6,
             "#e6f5d0"
            ],
            [
             0.7,
             "#b8e186"
            ],
            [
             0.8,
             "#7fbc41"
            ],
            [
             0.9,
             "#4d9221"
            ],
            [
             1,
             "#276419"
            ]
           ],
           "sequential": [
            [
             0,
             "#0d0887"
            ],
            [
             0.1111111111111111,
             "#46039f"
            ],
            [
             0.2222222222222222,
             "#7201a8"
            ],
            [
             0.3333333333333333,
             "#9c179e"
            ],
            [
             0.4444444444444444,
             "#bd3786"
            ],
            [
             0.5555555555555556,
             "#d8576b"
            ],
            [
             0.6666666666666666,
             "#ed7953"
            ],
            [
             0.7777777777777778,
             "#fb9f3a"
            ],
            [
             0.8888888888888888,
             "#fdca26"
            ],
            [
             1,
             "#f0f921"
            ]
           ],
           "sequentialminus": [
            [
             0,
             "#0d0887"
            ],
            [
             0.1111111111111111,
             "#46039f"
            ],
            [
             0.2222222222222222,
             "#7201a8"
            ],
            [
             0.3333333333333333,
             "#9c179e"
            ],
            [
             0.4444444444444444,
             "#bd3786"
            ],
            [
             0.5555555555555556,
             "#d8576b"
            ],
            [
             0.6666666666666666,
             "#ed7953"
            ],
            [
             0.7777777777777778,
             "#fb9f3a"
            ],
            [
             0.8888888888888888,
             "#fdca26"
            ],
            [
             1,
             "#f0f921"
            ]
           ]
          },
          "colorway": [
           "#636efa",
           "#EF553B",
           "#00cc96",
           "#ab63fa",
           "#FFA15A",
           "#19d3f3",
           "#FF6692",
           "#B6E880",
           "#FF97FF",
           "#FECB52"
          ],
          "font": {
           "color": "#2a3f5f"
          },
          "geo": {
           "bgcolor": "white",
           "lakecolor": "white",
           "landcolor": "#E5ECF6",
           "showlakes": true,
           "showland": true,
           "subunitcolor": "white"
          },
          "hoverlabel": {
           "align": "left"
          },
          "hovermode": "closest",
          "mapbox": {
           "style": "light"
          },
          "paper_bgcolor": "white",
          "plot_bgcolor": "#E5ECF6",
          "polar": {
           "angularaxis": {
            "gridcolor": "white",
            "linecolor": "white",
            "ticks": ""
           },
           "bgcolor": "#E5ECF6",
           "radialaxis": {
            "gridcolor": "white",
            "linecolor": "white",
            "ticks": ""
           }
          },
          "scene": {
           "xaxis": {
            "backgroundcolor": "#E5ECF6",
            "gridcolor": "white",
            "gridwidth": 2,
            "linecolor": "white",
            "showbackground": true,
            "ticks": "",
            "zerolinecolor": "white"
           },
           "yaxis": {
            "backgroundcolor": "#E5ECF6",
            "gridcolor": "white",
            "gridwidth": 2,
            "linecolor": "white",
            "showbackground": true,
            "ticks": "",
            "zerolinecolor": "white"
           },
           "zaxis": {
            "backgroundcolor": "#E5ECF6",
            "gridcolor": "white",
            "gridwidth": 2,
            "linecolor": "white",
            "showbackground": true,
            "ticks": "",
            "zerolinecolor": "white"
           }
          },
          "shapedefaults": {
           "line": {
            "color": "#2a3f5f"
           }
          },
          "ternary": {
           "aaxis": {
            "gridcolor": "white",
            "linecolor": "white",
            "ticks": ""
           },
           "baxis": {
            "gridcolor": "white",
            "linecolor": "white",
            "ticks": ""
           },
           "bgcolor": "#E5ECF6",
           "caxis": {
            "gridcolor": "white",
            "linecolor": "white",
            "ticks": ""
           }
          },
          "title": {
           "x": 0.05
          },
          "xaxis": {
           "automargin": true,
           "gridcolor": "white",
           "linecolor": "white",
           "ticks": "",
           "title": {
            "standoff": 15
           },
           "zerolinecolor": "white",
           "zerolinewidth": 2
          },
          "yaxis": {
           "automargin": true,
           "gridcolor": "white",
           "linecolor": "white",
           "ticks": "",
           "title": {
            "standoff": 15
           },
           "zerolinecolor": "white",
           "zerolinewidth": 2
          }
         }
        },
        "xaxis": {
         "anchor": "y",
         "domain": [
          0,
          1
         ],
         "title": {
          "text": "raw_F1"
         }
        },
        "yaxis": {
         "anchor": "x",
         "domain": [
          0,
          1
         ],
         "title": {
          "text": "vector_F1"
         }
        }
       }
      }
     },
     "metadata": {},
     "output_type": "display_data"
    }
   ],
   "source": [
    "fig=px.scatter(modelMetrics,x=\"raw_F1\",y=\"vector_F1\",text=\"testSubjectId\")\n",
    "fig.add_trace(\n",
    "    go.Scatter(x=modelMetrics['raw_F1'], y=modelMetrics['raw_F1'], name=\"identity\", mode='lines',fill=\"toself\")\n",
    ")\n",
    "fig.show()"
   ]
  },
  {
   "cell_type": "code",
   "execution_count": 24,
   "metadata": {},
   "outputs": [
    {
     "data": {
      "application/vnd.plotly.v1+json": {
       "config": {
        "plotlyServerURL": "https://plot.ly"
       },
       "data": [
        {
         "hovertemplate": "raw_F1=%{x}<br>event_F1=%{y}<br>testSubjectId=%{text}<extra></extra>",
         "legendgroup": "",
         "marker": {
          "color": "#636efa",
          "symbol": "circle"
         },
         "mode": "markers+text",
         "name": "",
         "orientation": "v",
         "showlegend": false,
         "text": [
          "0001",
          "0002",
          "0003",
          "0004",
          "0005",
          "0006",
          "0007",
          "0008",
          "0009",
          "0010",
          "0011",
          "0012",
          "0013",
          "0014",
          "0015",
          "0016",
          "0017",
          "0018",
          "0019"
         ],
         "type": "scatter",
         "x": [
          0.3768404593935558,
          0.6766637029975833,
          0.5865497578727185,
          0.6170494445403788,
          0.6080275913909554,
          0.5564014841227775,
          0.5871791379288995,
          0.6093255189516597,
          0.5466713696951695,
          0.6474729165788475,
          0.6853893218485098,
          0.5909148106203599,
          0.6820038097326335,
          0.6052027128862095,
          0.41525382082657625,
          0.6137514220705347,
          0.6076809406020109,
          0.630725455140634,
          0.6143188481234547
         ],
         "xaxis": "x",
         "y": [
          0.5138121546961326,
          0.7836517103509552,
          0.6785714285714286,
          0.6821705426356589,
          0.7125171939477304,
          0.6606060606060606,
          0.6275569278270938,
          0.7103538663171691,
          0.7152317880794702,
          0.7569485511531638,
          0.7235449735449735,
          0.7064821558630736,
          0.7002680965147453,
          0.6104598737601443,
          0.5875,
          0.7098703888334995,
          0.7450549450549451,
          0.7700729927007299,
          0.6192893401015228
         ],
         "yaxis": "y"
        },
        {
         "alignmentgroup": "True",
         "bingroup": "y",
         "hovertemplate": "event_F1=%{y}<br>count=%{x}<extra></extra>",
         "legendgroup": "",
         "marker": {
          "color": "#636efa"
         },
         "name": "",
         "offsetgroup": "",
         "opacity": 0.5,
         "showlegend": false,
         "type": "histogram",
         "xaxis": "x2",
         "y": [
          0.5138121546961326,
          0.7836517103509552,
          0.6785714285714286,
          0.6821705426356589,
          0.7125171939477304,
          0.6606060606060606,
          0.6275569278270938,
          0.7103538663171691,
          0.7152317880794702,
          0.7569485511531638,
          0.7235449735449735,
          0.7064821558630736,
          0.7002680965147453,
          0.6104598737601443,
          0.5875,
          0.7098703888334995,
          0.7450549450549451,
          0.7700729927007299,
          0.6192893401015228
         ],
         "yaxis": "y2"
        },
        {
         "fill": "toself",
         "mode": "lines",
         "name": "identity",
         "type": "scatter",
         "x": [
          0.3768404593935558,
          0.6766637029975833,
          0.5865497578727185,
          0.6170494445403788,
          0.6080275913909554,
          0.5564014841227775,
          0.5871791379288995,
          0.6093255189516597,
          0.5466713696951695,
          0.6474729165788475,
          0.6853893218485098,
          0.5909148106203599,
          0.6820038097326335,
          0.6052027128862095,
          0.41525382082657625,
          0.6137514220705347,
          0.6076809406020109,
          0.630725455140634,
          0.6143188481234547
         ],
         "y": [
          0.3768404593935558,
          0.6766637029975833,
          0.5865497578727185,
          0.6170494445403788,
          0.6080275913909554,
          0.5564014841227775,
          0.5871791379288995,
          0.6093255189516597,
          0.5466713696951695,
          0.6474729165788475,
          0.6853893218485098,
          0.5909148106203599,
          0.6820038097326335,
          0.6052027128862095,
          0.41525382082657625,
          0.6137514220705347,
          0.6076809406020109,
          0.630725455140634,
          0.6143188481234547
         ]
        }
       ],
       "layout": {
        "barmode": "overlay",
        "legend": {
         "tracegroupgap": 0
        },
        "margin": {
         "t": 60
        },
        "template": {
         "data": {
          "bar": [
           {
            "error_x": {
             "color": "#2a3f5f"
            },
            "error_y": {
             "color": "#2a3f5f"
            },
            "marker": {
             "line": {
              "color": "#E5ECF6",
              "width": 0.5
             },
             "pattern": {
              "fillmode": "overlay",
              "size": 10,
              "solidity": 0.2
             }
            },
            "type": "bar"
           }
          ],
          "barpolar": [
           {
            "marker": {
             "line": {
              "color": "#E5ECF6",
              "width": 0.5
             },
             "pattern": {
              "fillmode": "overlay",
              "size": 10,
              "solidity": 0.2
             }
            },
            "type": "barpolar"
           }
          ],
          "carpet": [
           {
            "aaxis": {
             "endlinecolor": "#2a3f5f",
             "gridcolor": "white",
             "linecolor": "white",
             "minorgridcolor": "white",
             "startlinecolor": "#2a3f5f"
            },
            "baxis": {
             "endlinecolor": "#2a3f5f",
             "gridcolor": "white",
             "linecolor": "white",
             "minorgridcolor": "white",
             "startlinecolor": "#2a3f5f"
            },
            "type": "carpet"
           }
          ],
          "choropleth": [
           {
            "colorbar": {
             "outlinewidth": 0,
             "ticks": ""
            },
            "type": "choropleth"
           }
          ],
          "contour": [
           {
            "colorbar": {
             "outlinewidth": 0,
             "ticks": ""
            },
            "colorscale": [
             [
              0,
              "#0d0887"
             ],
             [
              0.1111111111111111,
              "#46039f"
             ],
             [
              0.2222222222222222,
              "#7201a8"
             ],
             [
              0.3333333333333333,
              "#9c179e"
             ],
             [
              0.4444444444444444,
              "#bd3786"
             ],
             [
              0.5555555555555556,
              "#d8576b"
             ],
             [
              0.6666666666666666,
              "#ed7953"
             ],
             [
              0.7777777777777778,
              "#fb9f3a"
             ],
             [
              0.8888888888888888,
              "#fdca26"
             ],
             [
              1,
              "#f0f921"
             ]
            ],
            "type": "contour"
           }
          ],
          "contourcarpet": [
           {
            "colorbar": {
             "outlinewidth": 0,
             "ticks": ""
            },
            "type": "contourcarpet"
           }
          ],
          "heatmap": [
           {
            "colorbar": {
             "outlinewidth": 0,
             "ticks": ""
            },
            "colorscale": [
             [
              0,
              "#0d0887"
             ],
             [
              0.1111111111111111,
              "#46039f"
             ],
             [
              0.2222222222222222,
              "#7201a8"
             ],
             [
              0.3333333333333333,
              "#9c179e"
             ],
             [
              0.4444444444444444,
              "#bd3786"
             ],
             [
              0.5555555555555556,
              "#d8576b"
             ],
             [
              0.6666666666666666,
              "#ed7953"
             ],
             [
              0.7777777777777778,
              "#fb9f3a"
             ],
             [
              0.8888888888888888,
              "#fdca26"
             ],
             [
              1,
              "#f0f921"
             ]
            ],
            "type": "heatmap"
           }
          ],
          "heatmapgl": [
           {
            "colorbar": {
             "outlinewidth": 0,
             "ticks": ""
            },
            "colorscale": [
             [
              0,
              "#0d0887"
             ],
             [
              0.1111111111111111,
              "#46039f"
             ],
             [
              0.2222222222222222,
              "#7201a8"
             ],
             [
              0.3333333333333333,
              "#9c179e"
             ],
             [
              0.4444444444444444,
              "#bd3786"
             ],
             [
              0.5555555555555556,
              "#d8576b"
             ],
             [
              0.6666666666666666,
              "#ed7953"
             ],
             [
              0.7777777777777778,
              "#fb9f3a"
             ],
             [
              0.8888888888888888,
              "#fdca26"
             ],
             [
              1,
              "#f0f921"
             ]
            ],
            "type": "heatmapgl"
           }
          ],
          "histogram": [
           {
            "marker": {
             "pattern": {
              "fillmode": "overlay",
              "size": 10,
              "solidity": 0.2
             }
            },
            "type": "histogram"
           }
          ],
          "histogram2d": [
           {
            "colorbar": {
             "outlinewidth": 0,
             "ticks": ""
            },
            "colorscale": [
             [
              0,
              "#0d0887"
             ],
             [
              0.1111111111111111,
              "#46039f"
             ],
             [
              0.2222222222222222,
              "#7201a8"
             ],
             [
              0.3333333333333333,
              "#9c179e"
             ],
             [
              0.4444444444444444,
              "#bd3786"
             ],
             [
              0.5555555555555556,
              "#d8576b"
             ],
             [
              0.6666666666666666,
              "#ed7953"
             ],
             [
              0.7777777777777778,
              "#fb9f3a"
             ],
             [
              0.8888888888888888,
              "#fdca26"
             ],
             [
              1,
              "#f0f921"
             ]
            ],
            "type": "histogram2d"
           }
          ],
          "histogram2dcontour": [
           {
            "colorbar": {
             "outlinewidth": 0,
             "ticks": ""
            },
            "colorscale": [
             [
              0,
              "#0d0887"
             ],
             [
              0.1111111111111111,
              "#46039f"
             ],
             [
              0.2222222222222222,
              "#7201a8"
             ],
             [
              0.3333333333333333,
              "#9c179e"
             ],
             [
              0.4444444444444444,
              "#bd3786"
             ],
             [
              0.5555555555555556,
              "#d8576b"
             ],
             [
              0.6666666666666666,
              "#ed7953"
             ],
             [
              0.7777777777777778,
              "#fb9f3a"
             ],
             [
              0.8888888888888888,
              "#fdca26"
             ],
             [
              1,
              "#f0f921"
             ]
            ],
            "type": "histogram2dcontour"
           }
          ],
          "mesh3d": [
           {
            "colorbar": {
             "outlinewidth": 0,
             "ticks": ""
            },
            "type": "mesh3d"
           }
          ],
          "parcoords": [
           {
            "line": {
             "colorbar": {
              "outlinewidth": 0,
              "ticks": ""
             }
            },
            "type": "parcoords"
           }
          ],
          "pie": [
           {
            "automargin": true,
            "type": "pie"
           }
          ],
          "scatter": [
           {
            "fillpattern": {
             "fillmode": "overlay",
             "size": 10,
             "solidity": 0.2
            },
            "type": "scatter"
           }
          ],
          "scatter3d": [
           {
            "line": {
             "colorbar": {
              "outlinewidth": 0,
              "ticks": ""
             }
            },
            "marker": {
             "colorbar": {
              "outlinewidth": 0,
              "ticks": ""
             }
            },
            "type": "scatter3d"
           }
          ],
          "scattercarpet": [
           {
            "marker": {
             "colorbar": {
              "outlinewidth": 0,
              "ticks": ""
             }
            },
            "type": "scattercarpet"
           }
          ],
          "scattergeo": [
           {
            "marker": {
             "colorbar": {
              "outlinewidth": 0,
              "ticks": ""
             }
            },
            "type": "scattergeo"
           }
          ],
          "scattergl": [
           {
            "marker": {
             "colorbar": {
              "outlinewidth": 0,
              "ticks": ""
             }
            },
            "type": "scattergl"
           }
          ],
          "scattermapbox": [
           {
            "marker": {
             "colorbar": {
              "outlinewidth": 0,
              "ticks": ""
             }
            },
            "type": "scattermapbox"
           }
          ],
          "scatterpolar": [
           {
            "marker": {
             "colorbar": {
              "outlinewidth": 0,
              "ticks": ""
             }
            },
            "type": "scatterpolar"
           }
          ],
          "scatterpolargl": [
           {
            "marker": {
             "colorbar": {
              "outlinewidth": 0,
              "ticks": ""
             }
            },
            "type": "scatterpolargl"
           }
          ],
          "scatterternary": [
           {
            "marker": {
             "colorbar": {
              "outlinewidth": 0,
              "ticks": ""
             }
            },
            "type": "scatterternary"
           }
          ],
          "surface": [
           {
            "colorbar": {
             "outlinewidth": 0,
             "ticks": ""
            },
            "colorscale": [
             [
              0,
              "#0d0887"
             ],
             [
              0.1111111111111111,
              "#46039f"
             ],
             [
              0.2222222222222222,
              "#7201a8"
             ],
             [
              0.3333333333333333,
              "#9c179e"
             ],
             [
              0.4444444444444444,
              "#bd3786"
             ],
             [
              0.5555555555555556,
              "#d8576b"
             ],
             [
              0.6666666666666666,
              "#ed7953"
             ],
             [
              0.7777777777777778,
              "#fb9f3a"
             ],
             [
              0.8888888888888888,
              "#fdca26"
             ],
             [
              1,
              "#f0f921"
             ]
            ],
            "type": "surface"
           }
          ],
          "table": [
           {
            "cells": {
             "fill": {
              "color": "#EBF0F8"
             },
             "line": {
              "color": "white"
             }
            },
            "header": {
             "fill": {
              "color": "#C8D4E3"
             },
             "line": {
              "color": "white"
             }
            },
            "type": "table"
           }
          ]
         },
         "layout": {
          "annotationdefaults": {
           "arrowcolor": "#2a3f5f",
           "arrowhead": 0,
           "arrowwidth": 1
          },
          "autotypenumbers": "strict",
          "coloraxis": {
           "colorbar": {
            "outlinewidth": 0,
            "ticks": ""
           }
          },
          "colorscale": {
           "diverging": [
            [
             0,
             "#8e0152"
            ],
            [
             0.1,
             "#c51b7d"
            ],
            [
             0.2,
             "#de77ae"
            ],
            [
             0.3,
             "#f1b6da"
            ],
            [
             0.4,
             "#fde0ef"
            ],
            [
             0.5,
             "#f7f7f7"
            ],
            [
             0.6,
             "#e6f5d0"
            ],
            [
             0.7,
             "#b8e186"
            ],
            [
             0.8,
             "#7fbc41"
            ],
            [
             0.9,
             "#4d9221"
            ],
            [
             1,
             "#276419"
            ]
           ],
           "sequential": [
            [
             0,
             "#0d0887"
            ],
            [
             0.1111111111111111,
             "#46039f"
            ],
            [
             0.2222222222222222,
             "#7201a8"
            ],
            [
             0.3333333333333333,
             "#9c179e"
            ],
            [
             0.4444444444444444,
             "#bd3786"
            ],
            [
             0.5555555555555556,
             "#d8576b"
            ],
            [
             0.6666666666666666,
             "#ed7953"
            ],
            [
             0.7777777777777778,
             "#fb9f3a"
            ],
            [
             0.8888888888888888,
             "#fdca26"
            ],
            [
             1,
             "#f0f921"
            ]
           ],
           "sequentialminus": [
            [
             0,
             "#0d0887"
            ],
            [
             0.1111111111111111,
             "#46039f"
            ],
            [
             0.2222222222222222,
             "#7201a8"
            ],
            [
             0.3333333333333333,
             "#9c179e"
            ],
            [
             0.4444444444444444,
             "#bd3786"
            ],
            [
             0.5555555555555556,
             "#d8576b"
            ],
            [
             0.6666666666666666,
             "#ed7953"
            ],
            [
             0.7777777777777778,
             "#fb9f3a"
            ],
            [
             0.8888888888888888,
             "#fdca26"
            ],
            [
             1,
             "#f0f921"
            ]
           ]
          },
          "colorway": [
           "#636efa",
           "#EF553B",
           "#00cc96",
           "#ab63fa",
           "#FFA15A",
           "#19d3f3",
           "#FF6692",
           "#B6E880",
           "#FF97FF",
           "#FECB52"
          ],
          "font": {
           "color": "#2a3f5f"
          },
          "geo": {
           "bgcolor": "white",
           "lakecolor": "white",
           "landcolor": "#E5ECF6",
           "showlakes": true,
           "showland": true,
           "subunitcolor": "white"
          },
          "hoverlabel": {
           "align": "left"
          },
          "hovermode": "closest",
          "mapbox": {
           "style": "light"
          },
          "paper_bgcolor": "white",
          "plot_bgcolor": "#E5ECF6",
          "polar": {
           "angularaxis": {
            "gridcolor": "white",
            "linecolor": "white",
            "ticks": ""
           },
           "bgcolor": "#E5ECF6",
           "radialaxis": {
            "gridcolor": "white",
            "linecolor": "white",
            "ticks": ""
           }
          },
          "scene": {
           "xaxis": {
            "backgroundcolor": "#E5ECF6",
            "gridcolor": "white",
            "gridwidth": 2,
            "linecolor": "white",
            "showbackground": true,
            "ticks": "",
            "zerolinecolor": "white"
           },
           "yaxis": {
            "backgroundcolor": "#E5ECF6",
            "gridcolor": "white",
            "gridwidth": 2,
            "linecolor": "white",
            "showbackground": true,
            "ticks": "",
            "zerolinecolor": "white"
           },
           "zaxis": {
            "backgroundcolor": "#E5ECF6",
            "gridcolor": "white",
            "gridwidth": 2,
            "linecolor": "white",
            "showbackground": true,
            "ticks": "",
            "zerolinecolor": "white"
           }
          },
          "shapedefaults": {
           "line": {
            "color": "#2a3f5f"
           }
          },
          "ternary": {
           "aaxis": {
            "gridcolor": "white",
            "linecolor": "white",
            "ticks": ""
           },
           "baxis": {
            "gridcolor": "white",
            "linecolor": "white",
            "ticks": ""
           },
           "bgcolor": "#E5ECF6",
           "caxis": {
            "gridcolor": "white",
            "linecolor": "white",
            "ticks": ""
           }
          },
          "title": {
           "x": 0.05
          },
          "xaxis": {
           "automargin": true,
           "gridcolor": "white",
           "linecolor": "white",
           "ticks": "",
           "title": {
            "standoff": 15
           },
           "zerolinecolor": "white",
           "zerolinewidth": 2
          },
          "yaxis": {
           "automargin": true,
           "gridcolor": "white",
           "linecolor": "white",
           "ticks": "",
           "title": {
            "standoff": 15
           },
           "zerolinecolor": "white",
           "zerolinewidth": 2
          }
         }
        },
        "xaxis": {
         "anchor": "y",
         "domain": [
          0,
          0.7363
         ],
         "title": {
          "text": "raw_F1"
         }
        },
        "xaxis2": {
         "anchor": "y2",
         "domain": [
          0.7413,
          1
         ],
         "matches": "x2",
         "showgrid": true,
         "showline": false,
         "showticklabels": false,
         "ticks": ""
        },
        "yaxis": {
         "anchor": "x",
         "domain": [
          0,
          1
         ],
         "title": {
          "text": "event_F1"
         }
        },
        "yaxis2": {
         "anchor": "x2",
         "domain": [
          0,
          1
         ],
         "matches": "y",
         "showgrid": true,
         "showticklabels": false
        }
       }
      }
     },
     "metadata": {},
     "output_type": "display_data"
    }
   ],
   "source": [
    "fig=px.scatter(modelMetrics,x=\"raw_F1\",y=\"event_F1\", marginal_y=\"histogram\",text=\"testSubjectId\")\n",
    "fig.add_trace(\n",
    "    go.Scatter(x=modelMetrics['raw_F1'], y=modelMetrics['raw_F1'], name=\"identity\", mode='lines',fill=\"toself\")\n",
    ")\n",
    "fig.show()"
   ]
  },
  {
   "cell_type": "code",
   "execution_count": 25,
   "metadata": {},
   "outputs": [
    {
     "data": {
      "application/vnd.plotly.v1+json": {
       "config": {
        "plotlyServerURL": "https://plot.ly"
       },
       "data": [
        {
         "hovertemplate": "event_F1=%{x}<br>event_Precision=%{y}<br>testSubjectId=%{text}<extra></extra>",
         "legendgroup": "",
         "marker": {
          "color": "#636efa",
          "symbol": "circle"
         },
         "mode": "markers+text",
         "name": "",
         "orientation": "v",
         "showlegend": false,
         "text": [
          "0001",
          "0002",
          "0003",
          "0004",
          "0005",
          "0006",
          "0007",
          "0008",
          "0009",
          "0010",
          "0011",
          "0012",
          "0013",
          "0014",
          "0015",
          "0016",
          "0017",
          "0018",
          "0019"
         ],
         "type": "scatter",
         "x": [
          0.5138121546961326,
          0.7836517103509552,
          0.6785714285714286,
          0.6821705426356589,
          0.7125171939477304,
          0.6606060606060606,
          0.6275569278270938,
          0.7103538663171691,
          0.7152317880794702,
          0.7569485511531638,
          0.7235449735449735,
          0.7064821558630736,
          0.7002680965147453,
          0.6104598737601443,
          0.5875,
          0.7098703888334995,
          0.7450549450549451,
          0.7700729927007299,
          0.6192893401015228
         ],
         "xaxis": "x",
         "y": [
          0.9207920792079208,
          0.796028880866426,
          0.6934306569343066,
          0.5612244897959183,
          0.6709844559585493,
          0.6055555555555555,
          0.48421679571173315,
          0.716931216931217,
          0.8917431192660551,
          0.7142857142857143,
          0.6037527593818984,
          0.7304216867469879,
          0.5595544130248501,
          0.449535192563081,
          0.746031746031746,
          0.6460980036297641,
          0.7704545454545455,
          0.8210116731517509,
          0.4552238805970149
         ],
         "yaxis": "y"
        },
        {
         "alignmentgroup": "True",
         "bingroup": "y",
         "hovertemplate": "event_Precision=%{y}<br>count=%{x}<extra></extra>",
         "legendgroup": "",
         "marker": {
          "color": "#636efa"
         },
         "name": "",
         "offsetgroup": "",
         "opacity": 0.5,
         "showlegend": false,
         "type": "histogram",
         "xaxis": "x2",
         "y": [
          0.9207920792079208,
          0.796028880866426,
          0.6934306569343066,
          0.5612244897959183,
          0.6709844559585493,
          0.6055555555555555,
          0.48421679571173315,
          0.716931216931217,
          0.8917431192660551,
          0.7142857142857143,
          0.6037527593818984,
          0.7304216867469879,
          0.5595544130248501,
          0.449535192563081,
          0.746031746031746,
          0.6460980036297641,
          0.7704545454545455,
          0.8210116731517509,
          0.4552238805970149
         ],
         "yaxis": "y2"
        },
        {
         "fill": "toself",
         "mode": "lines",
         "name": "slope",
         "type": "scatter",
         "x": [
          0.5138121546961326,
          0.7836517103509552,
          0.6785714285714286,
          0.6821705426356589,
          0.7125171939477304,
          0.6606060606060606,
          0.6275569278270938,
          0.7103538663171691,
          0.7152317880794702,
          0.7569485511531638,
          0.7235449735449735,
          0.7064821558630736,
          0.7002680965147453,
          0.6104598737601443,
          0.5875,
          0.7098703888334995,
          0.7450549450549451,
          0.7700729927007299,
          0.6192893401015228
         ],
         "y": [
          0.5138121546961326,
          0.7836517103509552,
          0.6785714285714286,
          0.6821705426356589,
          0.7125171939477304,
          0.6606060606060606,
          0.6275569278270938,
          0.7103538663171691,
          0.7152317880794702,
          0.7569485511531638,
          0.7235449735449735,
          0.7064821558630736,
          0.7002680965147453,
          0.6104598737601443,
          0.5875,
          0.7098703888334995,
          0.7450549450549451,
          0.7700729927007299,
          0.6192893401015228
         ]
        }
       ],
       "layout": {
        "barmode": "overlay",
        "legend": {
         "tracegroupgap": 0
        },
        "margin": {
         "t": 60
        },
        "template": {
         "data": {
          "bar": [
           {
            "error_x": {
             "color": "#2a3f5f"
            },
            "error_y": {
             "color": "#2a3f5f"
            },
            "marker": {
             "line": {
              "color": "#E5ECF6",
              "width": 0.5
             },
             "pattern": {
              "fillmode": "overlay",
              "size": 10,
              "solidity": 0.2
             }
            },
            "type": "bar"
           }
          ],
          "barpolar": [
           {
            "marker": {
             "line": {
              "color": "#E5ECF6",
              "width": 0.5
             },
             "pattern": {
              "fillmode": "overlay",
              "size": 10,
              "solidity": 0.2
             }
            },
            "type": "barpolar"
           }
          ],
          "carpet": [
           {
            "aaxis": {
             "endlinecolor": "#2a3f5f",
             "gridcolor": "white",
             "linecolor": "white",
             "minorgridcolor": "white",
             "startlinecolor": "#2a3f5f"
            },
            "baxis": {
             "endlinecolor": "#2a3f5f",
             "gridcolor": "white",
             "linecolor": "white",
             "minorgridcolor": "white",
             "startlinecolor": "#2a3f5f"
            },
            "type": "carpet"
           }
          ],
          "choropleth": [
           {
            "colorbar": {
             "outlinewidth": 0,
             "ticks": ""
            },
            "type": "choropleth"
           }
          ],
          "contour": [
           {
            "colorbar": {
             "outlinewidth": 0,
             "ticks": ""
            },
            "colorscale": [
             [
              0,
              "#0d0887"
             ],
             [
              0.1111111111111111,
              "#46039f"
             ],
             [
              0.2222222222222222,
              "#7201a8"
             ],
             [
              0.3333333333333333,
              "#9c179e"
             ],
             [
              0.4444444444444444,
              "#bd3786"
             ],
             [
              0.5555555555555556,
              "#d8576b"
             ],
             [
              0.6666666666666666,
              "#ed7953"
             ],
             [
              0.7777777777777778,
              "#fb9f3a"
             ],
             [
              0.8888888888888888,
              "#fdca26"
             ],
             [
              1,
              "#f0f921"
             ]
            ],
            "type": "contour"
           }
          ],
          "contourcarpet": [
           {
            "colorbar": {
             "outlinewidth": 0,
             "ticks": ""
            },
            "type": "contourcarpet"
           }
          ],
          "heatmap": [
           {
            "colorbar": {
             "outlinewidth": 0,
             "ticks": ""
            },
            "colorscale": [
             [
              0,
              "#0d0887"
             ],
             [
              0.1111111111111111,
              "#46039f"
             ],
             [
              0.2222222222222222,
              "#7201a8"
             ],
             [
              0.3333333333333333,
              "#9c179e"
             ],
             [
              0.4444444444444444,
              "#bd3786"
             ],
             [
              0.5555555555555556,
              "#d8576b"
             ],
             [
              0.6666666666666666,
              "#ed7953"
             ],
             [
              0.7777777777777778,
              "#fb9f3a"
             ],
             [
              0.8888888888888888,
              "#fdca26"
             ],
             [
              1,
              "#f0f921"
             ]
            ],
            "type": "heatmap"
           }
          ],
          "heatmapgl": [
           {
            "colorbar": {
             "outlinewidth": 0,
             "ticks": ""
            },
            "colorscale": [
             [
              0,
              "#0d0887"
             ],
             [
              0.1111111111111111,
              "#46039f"
             ],
             [
              0.2222222222222222,
              "#7201a8"
             ],
             [
              0.3333333333333333,
              "#9c179e"
             ],
             [
              0.4444444444444444,
              "#bd3786"
             ],
             [
              0.5555555555555556,
              "#d8576b"
             ],
             [
              0.6666666666666666,
              "#ed7953"
             ],
             [
              0.7777777777777778,
              "#fb9f3a"
             ],
             [
              0.8888888888888888,
              "#fdca26"
             ],
             [
              1,
              "#f0f921"
             ]
            ],
            "type": "heatmapgl"
           }
          ],
          "histogram": [
           {
            "marker": {
             "pattern": {
              "fillmode": "overlay",
              "size": 10,
              "solidity": 0.2
             }
            },
            "type": "histogram"
           }
          ],
          "histogram2d": [
           {
            "colorbar": {
             "outlinewidth": 0,
             "ticks": ""
            },
            "colorscale": [
             [
              0,
              "#0d0887"
             ],
             [
              0.1111111111111111,
              "#46039f"
             ],
             [
              0.2222222222222222,
              "#7201a8"
             ],
             [
              0.3333333333333333,
              "#9c179e"
             ],
             [
              0.4444444444444444,
              "#bd3786"
             ],
             [
              0.5555555555555556,
              "#d8576b"
             ],
             [
              0.6666666666666666,
              "#ed7953"
             ],
             [
              0.7777777777777778,
              "#fb9f3a"
             ],
             [
              0.8888888888888888,
              "#fdca26"
             ],
             [
              1,
              "#f0f921"
             ]
            ],
            "type": "histogram2d"
           }
          ],
          "histogram2dcontour": [
           {
            "colorbar": {
             "outlinewidth": 0,
             "ticks": ""
            },
            "colorscale": [
             [
              0,
              "#0d0887"
             ],
             [
              0.1111111111111111,
              "#46039f"
             ],
             [
              0.2222222222222222,
              "#7201a8"
             ],
             [
              0.3333333333333333,
              "#9c179e"
             ],
             [
              0.4444444444444444,
              "#bd3786"
             ],
             [
              0.5555555555555556,
              "#d8576b"
             ],
             [
              0.6666666666666666,
              "#ed7953"
             ],
             [
              0.7777777777777778,
              "#fb9f3a"
             ],
             [
              0.8888888888888888,
              "#fdca26"
             ],
             [
              1,
              "#f0f921"
             ]
            ],
            "type": "histogram2dcontour"
           }
          ],
          "mesh3d": [
           {
            "colorbar": {
             "outlinewidth": 0,
             "ticks": ""
            },
            "type": "mesh3d"
           }
          ],
          "parcoords": [
           {
            "line": {
             "colorbar": {
              "outlinewidth": 0,
              "ticks": ""
             }
            },
            "type": "parcoords"
           }
          ],
          "pie": [
           {
            "automargin": true,
            "type": "pie"
           }
          ],
          "scatter": [
           {
            "fillpattern": {
             "fillmode": "overlay",
             "size": 10,
             "solidity": 0.2
            },
            "type": "scatter"
           }
          ],
          "scatter3d": [
           {
            "line": {
             "colorbar": {
              "outlinewidth": 0,
              "ticks": ""
             }
            },
            "marker": {
             "colorbar": {
              "outlinewidth": 0,
              "ticks": ""
             }
            },
            "type": "scatter3d"
           }
          ],
          "scattercarpet": [
           {
            "marker": {
             "colorbar": {
              "outlinewidth": 0,
              "ticks": ""
             }
            },
            "type": "scattercarpet"
           }
          ],
          "scattergeo": [
           {
            "marker": {
             "colorbar": {
              "outlinewidth": 0,
              "ticks": ""
             }
            },
            "type": "scattergeo"
           }
          ],
          "scattergl": [
           {
            "marker": {
             "colorbar": {
              "outlinewidth": 0,
              "ticks": ""
             }
            },
            "type": "scattergl"
           }
          ],
          "scattermapbox": [
           {
            "marker": {
             "colorbar": {
              "outlinewidth": 0,
              "ticks": ""
             }
            },
            "type": "scattermapbox"
           }
          ],
          "scatterpolar": [
           {
            "marker": {
             "colorbar": {
              "outlinewidth": 0,
              "ticks": ""
             }
            },
            "type": "scatterpolar"
           }
          ],
          "scatterpolargl": [
           {
            "marker": {
             "colorbar": {
              "outlinewidth": 0,
              "ticks": ""
             }
            },
            "type": "scatterpolargl"
           }
          ],
          "scatterternary": [
           {
            "marker": {
             "colorbar": {
              "outlinewidth": 0,
              "ticks": ""
             }
            },
            "type": "scatterternary"
           }
          ],
          "surface": [
           {
            "colorbar": {
             "outlinewidth": 0,
             "ticks": ""
            },
            "colorscale": [
             [
              0,
              "#0d0887"
             ],
             [
              0.1111111111111111,
              "#46039f"
             ],
             [
              0.2222222222222222,
              "#7201a8"
             ],
             [
              0.3333333333333333,
              "#9c179e"
             ],
             [
              0.4444444444444444,
              "#bd3786"
             ],
             [
              0.5555555555555556,
              "#d8576b"
             ],
             [
              0.6666666666666666,
              "#ed7953"
             ],
             [
              0.7777777777777778,
              "#fb9f3a"
             ],
             [
              0.8888888888888888,
              "#fdca26"
             ],
             [
              1,
              "#f0f921"
             ]
            ],
            "type": "surface"
           }
          ],
          "table": [
           {
            "cells": {
             "fill": {
              "color": "#EBF0F8"
             },
             "line": {
              "color": "white"
             }
            },
            "header": {
             "fill": {
              "color": "#C8D4E3"
             },
             "line": {
              "color": "white"
             }
            },
            "type": "table"
           }
          ]
         },
         "layout": {
          "annotationdefaults": {
           "arrowcolor": "#2a3f5f",
           "arrowhead": 0,
           "arrowwidth": 1
          },
          "autotypenumbers": "strict",
          "coloraxis": {
           "colorbar": {
            "outlinewidth": 0,
            "ticks": ""
           }
          },
          "colorscale": {
           "diverging": [
            [
             0,
             "#8e0152"
            ],
            [
             0.1,
             "#c51b7d"
            ],
            [
             0.2,
             "#de77ae"
            ],
            [
             0.3,
             "#f1b6da"
            ],
            [
             0.4,
             "#fde0ef"
            ],
            [
             0.5,
             "#f7f7f7"
            ],
            [
             0.6,
             "#e6f5d0"
            ],
            [
             0.7,
             "#b8e186"
            ],
            [
             0.8,
             "#7fbc41"
            ],
            [
             0.9,
             "#4d9221"
            ],
            [
             1,
             "#276419"
            ]
           ],
           "sequential": [
            [
             0,
             "#0d0887"
            ],
            [
             0.1111111111111111,
             "#46039f"
            ],
            [
             0.2222222222222222,
             "#7201a8"
            ],
            [
             0.3333333333333333,
             "#9c179e"
            ],
            [
             0.4444444444444444,
             "#bd3786"
            ],
            [
             0.5555555555555556,
             "#d8576b"
            ],
            [
             0.6666666666666666,
             "#ed7953"
            ],
            [
             0.7777777777777778,
             "#fb9f3a"
            ],
            [
             0.8888888888888888,
             "#fdca26"
            ],
            [
             1,
             "#f0f921"
            ]
           ],
           "sequentialminus": [
            [
             0,
             "#0d0887"
            ],
            [
             0.1111111111111111,
             "#46039f"
            ],
            [
             0.2222222222222222,
             "#7201a8"
            ],
            [
             0.3333333333333333,
             "#9c179e"
            ],
            [
             0.4444444444444444,
             "#bd3786"
            ],
            [
             0.5555555555555556,
             "#d8576b"
            ],
            [
             0.6666666666666666,
             "#ed7953"
            ],
            [
             0.7777777777777778,
             "#fb9f3a"
            ],
            [
             0.8888888888888888,
             "#fdca26"
            ],
            [
             1,
             "#f0f921"
            ]
           ]
          },
          "colorway": [
           "#636efa",
           "#EF553B",
           "#00cc96",
           "#ab63fa",
           "#FFA15A",
           "#19d3f3",
           "#FF6692",
           "#B6E880",
           "#FF97FF",
           "#FECB52"
          ],
          "font": {
           "color": "#2a3f5f"
          },
          "geo": {
           "bgcolor": "white",
           "lakecolor": "white",
           "landcolor": "#E5ECF6",
           "showlakes": true,
           "showland": true,
           "subunitcolor": "white"
          },
          "hoverlabel": {
           "align": "left"
          },
          "hovermode": "closest",
          "mapbox": {
           "style": "light"
          },
          "paper_bgcolor": "white",
          "plot_bgcolor": "#E5ECF6",
          "polar": {
           "angularaxis": {
            "gridcolor": "white",
            "linecolor": "white",
            "ticks": ""
           },
           "bgcolor": "#E5ECF6",
           "radialaxis": {
            "gridcolor": "white",
            "linecolor": "white",
            "ticks": ""
           }
          },
          "scene": {
           "xaxis": {
            "backgroundcolor": "#E5ECF6",
            "gridcolor": "white",
            "gridwidth": 2,
            "linecolor": "white",
            "showbackground": true,
            "ticks": "",
            "zerolinecolor": "white"
           },
           "yaxis": {
            "backgroundcolor": "#E5ECF6",
            "gridcolor": "white",
            "gridwidth": 2,
            "linecolor": "white",
            "showbackground": true,
            "ticks": "",
            "zerolinecolor": "white"
           },
           "zaxis": {
            "backgroundcolor": "#E5ECF6",
            "gridcolor": "white",
            "gridwidth": 2,
            "linecolor": "white",
            "showbackground": true,
            "ticks": "",
            "zerolinecolor": "white"
           }
          },
          "shapedefaults": {
           "line": {
            "color": "#2a3f5f"
           }
          },
          "ternary": {
           "aaxis": {
            "gridcolor": "white",
            "linecolor": "white",
            "ticks": ""
           },
           "baxis": {
            "gridcolor": "white",
            "linecolor": "white",
            "ticks": ""
           },
           "bgcolor": "#E5ECF6",
           "caxis": {
            "gridcolor": "white",
            "linecolor": "white",
            "ticks": ""
           }
          },
          "title": {
           "x": 0.05
          },
          "xaxis": {
           "automargin": true,
           "gridcolor": "white",
           "linecolor": "white",
           "ticks": "",
           "title": {
            "standoff": 15
           },
           "zerolinecolor": "white",
           "zerolinewidth": 2
          },
          "yaxis": {
           "automargin": true,
           "gridcolor": "white",
           "linecolor": "white",
           "ticks": "",
           "title": {
            "standoff": 15
           },
           "zerolinecolor": "white",
           "zerolinewidth": 2
          }
         }
        },
        "xaxis": {
         "anchor": "y",
         "domain": [
          0,
          0.7363
         ],
         "title": {
          "text": "event_F1"
         }
        },
        "xaxis2": {
         "anchor": "y2",
         "domain": [
          0.7413,
          1
         ],
         "matches": "x2",
         "showgrid": true,
         "showline": false,
         "showticklabels": false,
         "ticks": ""
        },
        "yaxis": {
         "anchor": "x",
         "domain": [
          0,
          1
         ],
         "title": {
          "text": "event_Precision"
         }
        },
        "yaxis2": {
         "anchor": "x2",
         "domain": [
          0,
          1
         ],
         "matches": "y",
         "showgrid": true,
         "showticklabels": false
        }
       }
      }
     },
     "metadata": {},
     "output_type": "display_data"
    }
   ],
   "source": [
    "fig=px.scatter(modelMetrics,x=\"event_F1\",y=\"event_Precision\", marginal_y=\"histogram\",text=\"testSubjectId\")\n",
    "fig.add_trace(\n",
    "    go.Scatter(x=modelMetrics['event_F1'], y=modelMetrics['event_F1'], name=\"slope\", mode='lines',fill=\"toself\")\n",
    ")\n",
    "fig.show()"
   ]
  },
  {
   "cell_type": "code",
   "execution_count": 26,
   "metadata": {},
   "outputs": [
    {
     "data": {
      "application/vnd.plotly.v1+json": {
       "config": {
        "plotlyServerURL": "https://plot.ly"
       },
       "data": [
        {
         "hovertemplate": "event_F1=%{x}<br>event_Recall=%{y}<br>testSubjectId=%{text}<extra></extra>",
         "legendgroup": "",
         "marker": {
          "color": "#636efa",
          "symbol": "circle"
         },
         "mode": "markers+text",
         "name": "",
         "orientation": "v",
         "showlegend": false,
         "text": [
          "0001",
          "0002",
          "0003",
          "0004",
          "0005",
          "0006",
          "0007",
          "0008",
          "0009",
          "0010",
          "0011",
          "0012",
          "0013",
          "0014",
          "0015",
          "0016",
          "0017",
          "0018",
          "0019"
         ],
         "type": "scatter",
         "x": [
          0.5138121546961326,
          0.7836517103509552,
          0.6785714285714286,
          0.6821705426356589,
          0.7125171939477304,
          0.6606060606060606,
          0.6275569278270938,
          0.7103538663171691,
          0.7152317880794702,
          0.7569485511531638,
          0.7235449735449735,
          0.7064821558630736,
          0.7002680965147453,
          0.6104598737601443,
          0.5875,
          0.7098703888334995,
          0.7450549450549451,
          0.7700729927007299,
          0.6192893401015228
         ],
         "xaxis": "x",
         "y": [
          0.3563218390804598,
          0.7716535433070866,
          0.6643356643356644,
          0.8695652173913043,
          0.7595307917888563,
          0.7266666666666667,
          0.8914473684210527,
          0.7038961038961039,
          0.597051597051597,
          0.8050314465408805,
          0.9026402640264026,
          0.6840620592383639,
          0.9355300859598854,
          0.9508426966292135,
          0.4845360824742268,
          0.7876106194690266,
          0.7212765957446808,
          0.7250859106529209,
          0.9682539682539683
         ],
         "yaxis": "y"
        },
        {
         "alignmentgroup": "True",
         "bingroup": "y",
         "hovertemplate": "event_Recall=%{y}<br>count=%{x}<extra></extra>",
         "legendgroup": "",
         "marker": {
          "color": "#636efa"
         },
         "name": "",
         "offsetgroup": "",
         "opacity": 0.5,
         "showlegend": false,
         "type": "histogram",
         "xaxis": "x2",
         "y": [
          0.3563218390804598,
          0.7716535433070866,
          0.6643356643356644,
          0.8695652173913043,
          0.7595307917888563,
          0.7266666666666667,
          0.8914473684210527,
          0.7038961038961039,
          0.597051597051597,
          0.8050314465408805,
          0.9026402640264026,
          0.6840620592383639,
          0.9355300859598854,
          0.9508426966292135,
          0.4845360824742268,
          0.7876106194690266,
          0.7212765957446808,
          0.7250859106529209,
          0.9682539682539683
         ],
         "yaxis": "y2"
        },
        {
         "fill": "toself",
         "mode": "lines",
         "name": "identity",
         "type": "scatter",
         "x": [
          0.5138121546961326,
          0.7836517103509552,
          0.6785714285714286,
          0.6821705426356589,
          0.7125171939477304,
          0.6606060606060606,
          0.6275569278270938,
          0.7103538663171691,
          0.7152317880794702,
          0.7569485511531638,
          0.7235449735449735,
          0.7064821558630736,
          0.7002680965147453,
          0.6104598737601443,
          0.5875,
          0.7098703888334995,
          0.7450549450549451,
          0.7700729927007299,
          0.6192893401015228
         ],
         "y": [
          0.5138121546961326,
          0.7836517103509552,
          0.6785714285714286,
          0.6821705426356589,
          0.7125171939477304,
          0.6606060606060606,
          0.6275569278270938,
          0.7103538663171691,
          0.7152317880794702,
          0.7569485511531638,
          0.7235449735449735,
          0.7064821558630736,
          0.7002680965147453,
          0.6104598737601443,
          0.5875,
          0.7098703888334995,
          0.7450549450549451,
          0.7700729927007299,
          0.6192893401015228
         ]
        }
       ],
       "layout": {
        "barmode": "overlay",
        "legend": {
         "tracegroupgap": 0
        },
        "margin": {
         "t": 60
        },
        "template": {
         "data": {
          "bar": [
           {
            "error_x": {
             "color": "#2a3f5f"
            },
            "error_y": {
             "color": "#2a3f5f"
            },
            "marker": {
             "line": {
              "color": "#E5ECF6",
              "width": 0.5
             },
             "pattern": {
              "fillmode": "overlay",
              "size": 10,
              "solidity": 0.2
             }
            },
            "type": "bar"
           }
          ],
          "barpolar": [
           {
            "marker": {
             "line": {
              "color": "#E5ECF6",
              "width": 0.5
             },
             "pattern": {
              "fillmode": "overlay",
              "size": 10,
              "solidity": 0.2
             }
            },
            "type": "barpolar"
           }
          ],
          "carpet": [
           {
            "aaxis": {
             "endlinecolor": "#2a3f5f",
             "gridcolor": "white",
             "linecolor": "white",
             "minorgridcolor": "white",
             "startlinecolor": "#2a3f5f"
            },
            "baxis": {
             "endlinecolor": "#2a3f5f",
             "gridcolor": "white",
             "linecolor": "white",
             "minorgridcolor": "white",
             "startlinecolor": "#2a3f5f"
            },
            "type": "carpet"
           }
          ],
          "choropleth": [
           {
            "colorbar": {
             "outlinewidth": 0,
             "ticks": ""
            },
            "type": "choropleth"
           }
          ],
          "contour": [
           {
            "colorbar": {
             "outlinewidth": 0,
             "ticks": ""
            },
            "colorscale": [
             [
              0,
              "#0d0887"
             ],
             [
              0.1111111111111111,
              "#46039f"
             ],
             [
              0.2222222222222222,
              "#7201a8"
             ],
             [
              0.3333333333333333,
              "#9c179e"
             ],
             [
              0.4444444444444444,
              "#bd3786"
             ],
             [
              0.5555555555555556,
              "#d8576b"
             ],
             [
              0.6666666666666666,
              "#ed7953"
             ],
             [
              0.7777777777777778,
              "#fb9f3a"
             ],
             [
              0.8888888888888888,
              "#fdca26"
             ],
             [
              1,
              "#f0f921"
             ]
            ],
            "type": "contour"
           }
          ],
          "contourcarpet": [
           {
            "colorbar": {
             "outlinewidth": 0,
             "ticks": ""
            },
            "type": "contourcarpet"
           }
          ],
          "heatmap": [
           {
            "colorbar": {
             "outlinewidth": 0,
             "ticks": ""
            },
            "colorscale": [
             [
              0,
              "#0d0887"
             ],
             [
              0.1111111111111111,
              "#46039f"
             ],
             [
              0.2222222222222222,
              "#7201a8"
             ],
             [
              0.3333333333333333,
              "#9c179e"
             ],
             [
              0.4444444444444444,
              "#bd3786"
             ],
             [
              0.5555555555555556,
              "#d8576b"
             ],
             [
              0.6666666666666666,
              "#ed7953"
             ],
             [
              0.7777777777777778,
              "#fb9f3a"
             ],
             [
              0.8888888888888888,
              "#fdca26"
             ],
             [
              1,
              "#f0f921"
             ]
            ],
            "type": "heatmap"
           }
          ],
          "heatmapgl": [
           {
            "colorbar": {
             "outlinewidth": 0,
             "ticks": ""
            },
            "colorscale": [
             [
              0,
              "#0d0887"
             ],
             [
              0.1111111111111111,
              "#46039f"
             ],
             [
              0.2222222222222222,
              "#7201a8"
             ],
             [
              0.3333333333333333,
              "#9c179e"
             ],
             [
              0.4444444444444444,
              "#bd3786"
             ],
             [
              0.5555555555555556,
              "#d8576b"
             ],
             [
              0.6666666666666666,
              "#ed7953"
             ],
             [
              0.7777777777777778,
              "#fb9f3a"
             ],
             [
              0.8888888888888888,
              "#fdca26"
             ],
             [
              1,
              "#f0f921"
             ]
            ],
            "type": "heatmapgl"
           }
          ],
          "histogram": [
           {
            "marker": {
             "pattern": {
              "fillmode": "overlay",
              "size": 10,
              "solidity": 0.2
             }
            },
            "type": "histogram"
           }
          ],
          "histogram2d": [
           {
            "colorbar": {
             "outlinewidth": 0,
             "ticks": ""
            },
            "colorscale": [
             [
              0,
              "#0d0887"
             ],
             [
              0.1111111111111111,
              "#46039f"
             ],
             [
              0.2222222222222222,
              "#7201a8"
             ],
             [
              0.3333333333333333,
              "#9c179e"
             ],
             [
              0.4444444444444444,
              "#bd3786"
             ],
             [
              0.5555555555555556,
              "#d8576b"
             ],
             [
              0.6666666666666666,
              "#ed7953"
             ],
             [
              0.7777777777777778,
              "#fb9f3a"
             ],
             [
              0.8888888888888888,
              "#fdca26"
             ],
             [
              1,
              "#f0f921"
             ]
            ],
            "type": "histogram2d"
           }
          ],
          "histogram2dcontour": [
           {
            "colorbar": {
             "outlinewidth": 0,
             "ticks": ""
            },
            "colorscale": [
             [
              0,
              "#0d0887"
             ],
             [
              0.1111111111111111,
              "#46039f"
             ],
             [
              0.2222222222222222,
              "#7201a8"
             ],
             [
              0.3333333333333333,
              "#9c179e"
             ],
             [
              0.4444444444444444,
              "#bd3786"
             ],
             [
              0.5555555555555556,
              "#d8576b"
             ],
             [
              0.6666666666666666,
              "#ed7953"
             ],
             [
              0.7777777777777778,
              "#fb9f3a"
             ],
             [
              0.8888888888888888,
              "#fdca26"
             ],
             [
              1,
              "#f0f921"
             ]
            ],
            "type": "histogram2dcontour"
           }
          ],
          "mesh3d": [
           {
            "colorbar": {
             "outlinewidth": 0,
             "ticks": ""
            },
            "type": "mesh3d"
           }
          ],
          "parcoords": [
           {
            "line": {
             "colorbar": {
              "outlinewidth": 0,
              "ticks": ""
             }
            },
            "type": "parcoords"
           }
          ],
          "pie": [
           {
            "automargin": true,
            "type": "pie"
           }
          ],
          "scatter": [
           {
            "fillpattern": {
             "fillmode": "overlay",
             "size": 10,
             "solidity": 0.2
            },
            "type": "scatter"
           }
          ],
          "scatter3d": [
           {
            "line": {
             "colorbar": {
              "outlinewidth": 0,
              "ticks": ""
             }
            },
            "marker": {
             "colorbar": {
              "outlinewidth": 0,
              "ticks": ""
             }
            },
            "type": "scatter3d"
           }
          ],
          "scattercarpet": [
           {
            "marker": {
             "colorbar": {
              "outlinewidth": 0,
              "ticks": ""
             }
            },
            "type": "scattercarpet"
           }
          ],
          "scattergeo": [
           {
            "marker": {
             "colorbar": {
              "outlinewidth": 0,
              "ticks": ""
             }
            },
            "type": "scattergeo"
           }
          ],
          "scattergl": [
           {
            "marker": {
             "colorbar": {
              "outlinewidth": 0,
              "ticks": ""
             }
            },
            "type": "scattergl"
           }
          ],
          "scattermapbox": [
           {
            "marker": {
             "colorbar": {
              "outlinewidth": 0,
              "ticks": ""
             }
            },
            "type": "scattermapbox"
           }
          ],
          "scatterpolar": [
           {
            "marker": {
             "colorbar": {
              "outlinewidth": 0,
              "ticks": ""
             }
            },
            "type": "scatterpolar"
           }
          ],
          "scatterpolargl": [
           {
            "marker": {
             "colorbar": {
              "outlinewidth": 0,
              "ticks": ""
             }
            },
            "type": "scatterpolargl"
           }
          ],
          "scatterternary": [
           {
            "marker": {
             "colorbar": {
              "outlinewidth": 0,
              "ticks": ""
             }
            },
            "type": "scatterternary"
           }
          ],
          "surface": [
           {
            "colorbar": {
             "outlinewidth": 0,
             "ticks": ""
            },
            "colorscale": [
             [
              0,
              "#0d0887"
             ],
             [
              0.1111111111111111,
              "#46039f"
             ],
             [
              0.2222222222222222,
              "#7201a8"
             ],
             [
              0.3333333333333333,
              "#9c179e"
             ],
             [
              0.4444444444444444,
              "#bd3786"
             ],
             [
              0.5555555555555556,
              "#d8576b"
             ],
             [
              0.6666666666666666,
              "#ed7953"
             ],
             [
              0.7777777777777778,
              "#fb9f3a"
             ],
             [
              0.8888888888888888,
              "#fdca26"
             ],
             [
              1,
              "#f0f921"
             ]
            ],
            "type": "surface"
           }
          ],
          "table": [
           {
            "cells": {
             "fill": {
              "color": "#EBF0F8"
             },
             "line": {
              "color": "white"
             }
            },
            "header": {
             "fill": {
              "color": "#C8D4E3"
             },
             "line": {
              "color": "white"
             }
            },
            "type": "table"
           }
          ]
         },
         "layout": {
          "annotationdefaults": {
           "arrowcolor": "#2a3f5f",
           "arrowhead": 0,
           "arrowwidth": 1
          },
          "autotypenumbers": "strict",
          "coloraxis": {
           "colorbar": {
            "outlinewidth": 0,
            "ticks": ""
           }
          },
          "colorscale": {
           "diverging": [
            [
             0,
             "#8e0152"
            ],
            [
             0.1,
             "#c51b7d"
            ],
            [
             0.2,
             "#de77ae"
            ],
            [
             0.3,
             "#f1b6da"
            ],
            [
             0.4,
             "#fde0ef"
            ],
            [
             0.5,
             "#f7f7f7"
            ],
            [
             0.6,
             "#e6f5d0"
            ],
            [
             0.7,
             "#b8e186"
            ],
            [
             0.8,
             "#7fbc41"
            ],
            [
             0.9,
             "#4d9221"
            ],
            [
             1,
             "#276419"
            ]
           ],
           "sequential": [
            [
             0,
             "#0d0887"
            ],
            [
             0.1111111111111111,
             "#46039f"
            ],
            [
             0.2222222222222222,
             "#7201a8"
            ],
            [
             0.3333333333333333,
             "#9c179e"
            ],
            [
             0.4444444444444444,
             "#bd3786"
            ],
            [
             0.5555555555555556,
             "#d8576b"
            ],
            [
             0.6666666666666666,
             "#ed7953"
            ],
            [
             0.7777777777777778,
             "#fb9f3a"
            ],
            [
             0.8888888888888888,
             "#fdca26"
            ],
            [
             1,
             "#f0f921"
            ]
           ],
           "sequentialminus": [
            [
             0,
             "#0d0887"
            ],
            [
             0.1111111111111111,
             "#46039f"
            ],
            [
             0.2222222222222222,
             "#7201a8"
            ],
            [
             0.3333333333333333,
             "#9c179e"
            ],
            [
             0.4444444444444444,
             "#bd3786"
            ],
            [
             0.5555555555555556,
             "#d8576b"
            ],
            [
             0.6666666666666666,
             "#ed7953"
            ],
            [
             0.7777777777777778,
             "#fb9f3a"
            ],
            [
             0.8888888888888888,
             "#fdca26"
            ],
            [
             1,
             "#f0f921"
            ]
           ]
          },
          "colorway": [
           "#636efa",
           "#EF553B",
           "#00cc96",
           "#ab63fa",
           "#FFA15A",
           "#19d3f3",
           "#FF6692",
           "#B6E880",
           "#FF97FF",
           "#FECB52"
          ],
          "font": {
           "color": "#2a3f5f"
          },
          "geo": {
           "bgcolor": "white",
           "lakecolor": "white",
           "landcolor": "#E5ECF6",
           "showlakes": true,
           "showland": true,
           "subunitcolor": "white"
          },
          "hoverlabel": {
           "align": "left"
          },
          "hovermode": "closest",
          "mapbox": {
           "style": "light"
          },
          "paper_bgcolor": "white",
          "plot_bgcolor": "#E5ECF6",
          "polar": {
           "angularaxis": {
            "gridcolor": "white",
            "linecolor": "white",
            "ticks": ""
           },
           "bgcolor": "#E5ECF6",
           "radialaxis": {
            "gridcolor": "white",
            "linecolor": "white",
            "ticks": ""
           }
          },
          "scene": {
           "xaxis": {
            "backgroundcolor": "#E5ECF6",
            "gridcolor": "white",
            "gridwidth": 2,
            "linecolor": "white",
            "showbackground": true,
            "ticks": "",
            "zerolinecolor": "white"
           },
           "yaxis": {
            "backgroundcolor": "#E5ECF6",
            "gridcolor": "white",
            "gridwidth": 2,
            "linecolor": "white",
            "showbackground": true,
            "ticks": "",
            "zerolinecolor": "white"
           },
           "zaxis": {
            "backgroundcolor": "#E5ECF6",
            "gridcolor": "white",
            "gridwidth": 2,
            "linecolor": "white",
            "showbackground": true,
            "ticks": "",
            "zerolinecolor": "white"
           }
          },
          "shapedefaults": {
           "line": {
            "color": "#2a3f5f"
           }
          },
          "ternary": {
           "aaxis": {
            "gridcolor": "white",
            "linecolor": "white",
            "ticks": ""
           },
           "baxis": {
            "gridcolor": "white",
            "linecolor": "white",
            "ticks": ""
           },
           "bgcolor": "#E5ECF6",
           "caxis": {
            "gridcolor": "white",
            "linecolor": "white",
            "ticks": ""
           }
          },
          "title": {
           "x": 0.05
          },
          "xaxis": {
           "automargin": true,
           "gridcolor": "white",
           "linecolor": "white",
           "ticks": "",
           "title": {
            "standoff": 15
           },
           "zerolinecolor": "white",
           "zerolinewidth": 2
          },
          "yaxis": {
           "automargin": true,
           "gridcolor": "white",
           "linecolor": "white",
           "ticks": "",
           "title": {
            "standoff": 15
           },
           "zerolinecolor": "white",
           "zerolinewidth": 2
          }
         }
        },
        "xaxis": {
         "anchor": "y",
         "domain": [
          0,
          0.7363
         ],
         "title": {
          "text": "event_F1"
         }
        },
        "xaxis2": {
         "anchor": "y2",
         "domain": [
          0.7413,
          1
         ],
         "matches": "x2",
         "showgrid": true,
         "showline": false,
         "showticklabels": false,
         "ticks": ""
        },
        "yaxis": {
         "anchor": "x",
         "domain": [
          0,
          1
         ],
         "title": {
          "text": "event_Recall"
         }
        },
        "yaxis2": {
         "anchor": "x2",
         "domain": [
          0,
          1
         ],
         "matches": "y",
         "showgrid": true,
         "showticklabels": false
        }
       }
      }
     },
     "metadata": {},
     "output_type": "display_data"
    }
   ],
   "source": [
    "fig=px.scatter(modelMetrics,x=\"event_F1\",y=\"event_Recall\", marginal_y=\"histogram\",text=\"testSubjectId\")\n",
    "fig.add_trace(\n",
    "    go.Scatter(x=modelMetrics['event_F1'], y=modelMetrics['event_F1'], name=\"identity\", mode='lines',fill=\"toself\")\n",
    ")\n",
    "fig.show()"
   ]
  },
  {
   "cell_type": "code",
   "execution_count": 27,
   "metadata": {},
   "outputs": [
    {
     "data": {
      "application/vnd.plotly.v1+json": {
       "config": {
        "plotlyServerURL": "https://plot.ly"
       },
       "data": [
        {
         "hovertemplate": "gt_count=%{x}<br>event_F1=%{y}<br>testSubjectId=%{text}<extra></extra>",
         "legendgroup": "",
         "marker": {
          "color": "#636efa",
          "symbol": "circle"
         },
         "mode": "markers+text",
         "name": "",
         "orientation": "v",
         "showlegend": false,
         "text": [
          "0001",
          "0002",
          "0003",
          "0004",
          "0005",
          "0006",
          "0007",
          "0008",
          "0009",
          "0010",
          "0011",
          "0012",
          "0013",
          "0014",
          "0015",
          "0016",
          "0017",
          "0018",
          "0019"
         ],
         "type": "scatter",
         "x": [
          1044,
          1143,
          143,
          253,
          341,
          150,
          912,
          385,
          814,
          795,
          606,
          709,
          698,
          712,
          97,
          452,
          470,
          1164,
          315
         ],
         "xaxis": "x",
         "y": [
          0.5138121546961326,
          0.7836517103509552,
          0.6785714285714286,
          0.6821705426356589,
          0.7125171939477304,
          0.6606060606060606,
          0.6275569278270938,
          0.7103538663171691,
          0.7152317880794702,
          0.7569485511531638,
          0.7235449735449735,
          0.7064821558630736,
          0.7002680965147453,
          0.6104598737601443,
          0.5875,
          0.7098703888334995,
          0.7450549450549451,
          0.7700729927007299,
          0.6192893401015228
         ],
         "yaxis": "y"
        },
        {
         "alignmentgroup": "True",
         "bingroup": "y",
         "hovertemplate": "event_F1=%{y}<br>count=%{x}<extra></extra>",
         "legendgroup": "",
         "marker": {
          "color": "#636efa"
         },
         "name": "",
         "offsetgroup": "",
         "opacity": 0.5,
         "showlegend": false,
         "type": "histogram",
         "xaxis": "x2",
         "y": [
          0.5138121546961326,
          0.7836517103509552,
          0.6785714285714286,
          0.6821705426356589,
          0.7125171939477304,
          0.6606060606060606,
          0.6275569278270938,
          0.7103538663171691,
          0.7152317880794702,
          0.7569485511531638,
          0.7235449735449735,
          0.7064821558630736,
          0.7002680965147453,
          0.6104598737601443,
          0.5875,
          0.7098703888334995,
          0.7450549450549451,
          0.7700729927007299,
          0.6192893401015228
         ],
         "yaxis": "y2"
        }
       ],
       "layout": {
        "barmode": "overlay",
        "legend": {
         "tracegroupgap": 0
        },
        "margin": {
         "t": 60
        },
        "template": {
         "data": {
          "bar": [
           {
            "error_x": {
             "color": "#2a3f5f"
            },
            "error_y": {
             "color": "#2a3f5f"
            },
            "marker": {
             "line": {
              "color": "#E5ECF6",
              "width": 0.5
             },
             "pattern": {
              "fillmode": "overlay",
              "size": 10,
              "solidity": 0.2
             }
            },
            "type": "bar"
           }
          ],
          "barpolar": [
           {
            "marker": {
             "line": {
              "color": "#E5ECF6",
              "width": 0.5
             },
             "pattern": {
              "fillmode": "overlay",
              "size": 10,
              "solidity": 0.2
             }
            },
            "type": "barpolar"
           }
          ],
          "carpet": [
           {
            "aaxis": {
             "endlinecolor": "#2a3f5f",
             "gridcolor": "white",
             "linecolor": "white",
             "minorgridcolor": "white",
             "startlinecolor": "#2a3f5f"
            },
            "baxis": {
             "endlinecolor": "#2a3f5f",
             "gridcolor": "white",
             "linecolor": "white",
             "minorgridcolor": "white",
             "startlinecolor": "#2a3f5f"
            },
            "type": "carpet"
           }
          ],
          "choropleth": [
           {
            "colorbar": {
             "outlinewidth": 0,
             "ticks": ""
            },
            "type": "choropleth"
           }
          ],
          "contour": [
           {
            "colorbar": {
             "outlinewidth": 0,
             "ticks": ""
            },
            "colorscale": [
             [
              0,
              "#0d0887"
             ],
             [
              0.1111111111111111,
              "#46039f"
             ],
             [
              0.2222222222222222,
              "#7201a8"
             ],
             [
              0.3333333333333333,
              "#9c179e"
             ],
             [
              0.4444444444444444,
              "#bd3786"
             ],
             [
              0.5555555555555556,
              "#d8576b"
             ],
             [
              0.6666666666666666,
              "#ed7953"
             ],
             [
              0.7777777777777778,
              "#fb9f3a"
             ],
             [
              0.8888888888888888,
              "#fdca26"
             ],
             [
              1,
              "#f0f921"
             ]
            ],
            "type": "contour"
           }
          ],
          "contourcarpet": [
           {
            "colorbar": {
             "outlinewidth": 0,
             "ticks": ""
            },
            "type": "contourcarpet"
           }
          ],
          "heatmap": [
           {
            "colorbar": {
             "outlinewidth": 0,
             "ticks": ""
            },
            "colorscale": [
             [
              0,
              "#0d0887"
             ],
             [
              0.1111111111111111,
              "#46039f"
             ],
             [
              0.2222222222222222,
              "#7201a8"
             ],
             [
              0.3333333333333333,
              "#9c179e"
             ],
             [
              0.4444444444444444,
              "#bd3786"
             ],
             [
              0.5555555555555556,
              "#d8576b"
             ],
             [
              0.6666666666666666,
              "#ed7953"
             ],
             [
              0.7777777777777778,
              "#fb9f3a"
             ],
             [
              0.8888888888888888,
              "#fdca26"
             ],
             [
              1,
              "#f0f921"
             ]
            ],
            "type": "heatmap"
           }
          ],
          "heatmapgl": [
           {
            "colorbar": {
             "outlinewidth": 0,
             "ticks": ""
            },
            "colorscale": [
             [
              0,
              "#0d0887"
             ],
             [
              0.1111111111111111,
              "#46039f"
             ],
             [
              0.2222222222222222,
              "#7201a8"
             ],
             [
              0.3333333333333333,
              "#9c179e"
             ],
             [
              0.4444444444444444,
              "#bd3786"
             ],
             [
              0.5555555555555556,
              "#d8576b"
             ],
             [
              0.6666666666666666,
              "#ed7953"
             ],
             [
              0.7777777777777778,
              "#fb9f3a"
             ],
             [
              0.8888888888888888,
              "#fdca26"
             ],
             [
              1,
              "#f0f921"
             ]
            ],
            "type": "heatmapgl"
           }
          ],
          "histogram": [
           {
            "marker": {
             "pattern": {
              "fillmode": "overlay",
              "size": 10,
              "solidity": 0.2
             }
            },
            "type": "histogram"
           }
          ],
          "histogram2d": [
           {
            "colorbar": {
             "outlinewidth": 0,
             "ticks": ""
            },
            "colorscale": [
             [
              0,
              "#0d0887"
             ],
             [
              0.1111111111111111,
              "#46039f"
             ],
             [
              0.2222222222222222,
              "#7201a8"
             ],
             [
              0.3333333333333333,
              "#9c179e"
             ],
             [
              0.4444444444444444,
              "#bd3786"
             ],
             [
              0.5555555555555556,
              "#d8576b"
             ],
             [
              0.6666666666666666,
              "#ed7953"
             ],
             [
              0.7777777777777778,
              "#fb9f3a"
             ],
             [
              0.8888888888888888,
              "#fdca26"
             ],
             [
              1,
              "#f0f921"
             ]
            ],
            "type": "histogram2d"
           }
          ],
          "histogram2dcontour": [
           {
            "colorbar": {
             "outlinewidth": 0,
             "ticks": ""
            },
            "colorscale": [
             [
              0,
              "#0d0887"
             ],
             [
              0.1111111111111111,
              "#46039f"
             ],
             [
              0.2222222222222222,
              "#7201a8"
             ],
             [
              0.3333333333333333,
              "#9c179e"
             ],
             [
              0.4444444444444444,
              "#bd3786"
             ],
             [
              0.5555555555555556,
              "#d8576b"
             ],
             [
              0.6666666666666666,
              "#ed7953"
             ],
             [
              0.7777777777777778,
              "#fb9f3a"
             ],
             [
              0.8888888888888888,
              "#fdca26"
             ],
             [
              1,
              "#f0f921"
             ]
            ],
            "type": "histogram2dcontour"
           }
          ],
          "mesh3d": [
           {
            "colorbar": {
             "outlinewidth": 0,
             "ticks": ""
            },
            "type": "mesh3d"
           }
          ],
          "parcoords": [
           {
            "line": {
             "colorbar": {
              "outlinewidth": 0,
              "ticks": ""
             }
            },
            "type": "parcoords"
           }
          ],
          "pie": [
           {
            "automargin": true,
            "type": "pie"
           }
          ],
          "scatter": [
           {
            "fillpattern": {
             "fillmode": "overlay",
             "size": 10,
             "solidity": 0.2
            },
            "type": "scatter"
           }
          ],
          "scatter3d": [
           {
            "line": {
             "colorbar": {
              "outlinewidth": 0,
              "ticks": ""
             }
            },
            "marker": {
             "colorbar": {
              "outlinewidth": 0,
              "ticks": ""
             }
            },
            "type": "scatter3d"
           }
          ],
          "scattercarpet": [
           {
            "marker": {
             "colorbar": {
              "outlinewidth": 0,
              "ticks": ""
             }
            },
            "type": "scattercarpet"
           }
          ],
          "scattergeo": [
           {
            "marker": {
             "colorbar": {
              "outlinewidth": 0,
              "ticks": ""
             }
            },
            "type": "scattergeo"
           }
          ],
          "scattergl": [
           {
            "marker": {
             "colorbar": {
              "outlinewidth": 0,
              "ticks": ""
             }
            },
            "type": "scattergl"
           }
          ],
          "scattermapbox": [
           {
            "marker": {
             "colorbar": {
              "outlinewidth": 0,
              "ticks": ""
             }
            },
            "type": "scattermapbox"
           }
          ],
          "scatterpolar": [
           {
            "marker": {
             "colorbar": {
              "outlinewidth": 0,
              "ticks": ""
             }
            },
            "type": "scatterpolar"
           }
          ],
          "scatterpolargl": [
           {
            "marker": {
             "colorbar": {
              "outlinewidth": 0,
              "ticks": ""
             }
            },
            "type": "scatterpolargl"
           }
          ],
          "scatterternary": [
           {
            "marker": {
             "colorbar": {
              "outlinewidth": 0,
              "ticks": ""
             }
            },
            "type": "scatterternary"
           }
          ],
          "surface": [
           {
            "colorbar": {
             "outlinewidth": 0,
             "ticks": ""
            },
            "colorscale": [
             [
              0,
              "#0d0887"
             ],
             [
              0.1111111111111111,
              "#46039f"
             ],
             [
              0.2222222222222222,
              "#7201a8"
             ],
             [
              0.3333333333333333,
              "#9c179e"
             ],
             [
              0.4444444444444444,
              "#bd3786"
             ],
             [
              0.5555555555555556,
              "#d8576b"
             ],
             [
              0.6666666666666666,
              "#ed7953"
             ],
             [
              0.7777777777777778,
              "#fb9f3a"
             ],
             [
              0.8888888888888888,
              "#fdca26"
             ],
             [
              1,
              "#f0f921"
             ]
            ],
            "type": "surface"
           }
          ],
          "table": [
           {
            "cells": {
             "fill": {
              "color": "#EBF0F8"
             },
             "line": {
              "color": "white"
             }
            },
            "header": {
             "fill": {
              "color": "#C8D4E3"
             },
             "line": {
              "color": "white"
             }
            },
            "type": "table"
           }
          ]
         },
         "layout": {
          "annotationdefaults": {
           "arrowcolor": "#2a3f5f",
           "arrowhead": 0,
           "arrowwidth": 1
          },
          "autotypenumbers": "strict",
          "coloraxis": {
           "colorbar": {
            "outlinewidth": 0,
            "ticks": ""
           }
          },
          "colorscale": {
           "diverging": [
            [
             0,
             "#8e0152"
            ],
            [
             0.1,
             "#c51b7d"
            ],
            [
             0.2,
             "#de77ae"
            ],
            [
             0.3,
             "#f1b6da"
            ],
            [
             0.4,
             "#fde0ef"
            ],
            [
             0.5,
             "#f7f7f7"
            ],
            [
             0.6,
             "#e6f5d0"
            ],
            [
             0.7,
             "#b8e186"
            ],
            [
             0.8,
             "#7fbc41"
            ],
            [
             0.9,
             "#4d9221"
            ],
            [
             1,
             "#276419"
            ]
           ],
           "sequential": [
            [
             0,
             "#0d0887"
            ],
            [
             0.1111111111111111,
             "#46039f"
            ],
            [
             0.2222222222222222,
             "#7201a8"
            ],
            [
             0.3333333333333333,
             "#9c179e"
            ],
            [
             0.4444444444444444,
             "#bd3786"
            ],
            [
             0.5555555555555556,
             "#d8576b"
            ],
            [
             0.6666666666666666,
             "#ed7953"
            ],
            [
             0.7777777777777778,
             "#fb9f3a"
            ],
            [
             0.8888888888888888,
             "#fdca26"
            ],
            [
             1,
             "#f0f921"
            ]
           ],
           "sequentialminus": [
            [
             0,
             "#0d0887"
            ],
            [
             0.1111111111111111,
             "#46039f"
            ],
            [
             0.2222222222222222,
             "#7201a8"
            ],
            [
             0.3333333333333333,
             "#9c179e"
            ],
            [
             0.4444444444444444,
             "#bd3786"
            ],
            [
             0.5555555555555556,
             "#d8576b"
            ],
            [
             0.6666666666666666,
             "#ed7953"
            ],
            [
             0.7777777777777778,
             "#fb9f3a"
            ],
            [
             0.8888888888888888,
             "#fdca26"
            ],
            [
             1,
             "#f0f921"
            ]
           ]
          },
          "colorway": [
           "#636efa",
           "#EF553B",
           "#00cc96",
           "#ab63fa",
           "#FFA15A",
           "#19d3f3",
           "#FF6692",
           "#B6E880",
           "#FF97FF",
           "#FECB52"
          ],
          "font": {
           "color": "#2a3f5f"
          },
          "geo": {
           "bgcolor": "white",
           "lakecolor": "white",
           "landcolor": "#E5ECF6",
           "showlakes": true,
           "showland": true,
           "subunitcolor": "white"
          },
          "hoverlabel": {
           "align": "left"
          },
          "hovermode": "closest",
          "mapbox": {
           "style": "light"
          },
          "paper_bgcolor": "white",
          "plot_bgcolor": "#E5ECF6",
          "polar": {
           "angularaxis": {
            "gridcolor": "white",
            "linecolor": "white",
            "ticks": ""
           },
           "bgcolor": "#E5ECF6",
           "radialaxis": {
            "gridcolor": "white",
            "linecolor": "white",
            "ticks": ""
           }
          },
          "scene": {
           "xaxis": {
            "backgroundcolor": "#E5ECF6",
            "gridcolor": "white",
            "gridwidth": 2,
            "linecolor": "white",
            "showbackground": true,
            "ticks": "",
            "zerolinecolor": "white"
           },
           "yaxis": {
            "backgroundcolor": "#E5ECF6",
            "gridcolor": "white",
            "gridwidth": 2,
            "linecolor": "white",
            "showbackground": true,
            "ticks": "",
            "zerolinecolor": "white"
           },
           "zaxis": {
            "backgroundcolor": "#E5ECF6",
            "gridcolor": "white",
            "gridwidth": 2,
            "linecolor": "white",
            "showbackground": true,
            "ticks": "",
            "zerolinecolor": "white"
           }
          },
          "shapedefaults": {
           "line": {
            "color": "#2a3f5f"
           }
          },
          "ternary": {
           "aaxis": {
            "gridcolor": "white",
            "linecolor": "white",
            "ticks": ""
           },
           "baxis": {
            "gridcolor": "white",
            "linecolor": "white",
            "ticks": ""
           },
           "bgcolor": "#E5ECF6",
           "caxis": {
            "gridcolor": "white",
            "linecolor": "white",
            "ticks": ""
           }
          },
          "title": {
           "x": 0.05
          },
          "xaxis": {
           "automargin": true,
           "gridcolor": "white",
           "linecolor": "white",
           "ticks": "",
           "title": {
            "standoff": 15
           },
           "zerolinecolor": "white",
           "zerolinewidth": 2
          },
          "yaxis": {
           "automargin": true,
           "gridcolor": "white",
           "linecolor": "white",
           "ticks": "",
           "title": {
            "standoff": 15
           },
           "zerolinecolor": "white",
           "zerolinewidth": 2
          }
         }
        },
        "xaxis": {
         "anchor": "y",
         "domain": [
          0,
          0.7363
         ],
         "title": {
          "text": "gt_count"
         }
        },
        "xaxis2": {
         "anchor": "y2",
         "domain": [
          0.7413,
          1
         ],
         "matches": "x2",
         "showgrid": true,
         "showline": false,
         "showticklabels": false,
         "ticks": ""
        },
        "yaxis": {
         "anchor": "x",
         "domain": [
          0,
          1
         ],
         "title": {
          "text": "event_F1"
         }
        },
        "yaxis2": {
         "anchor": "x2",
         "domain": [
          0,
          1
         ],
         "matches": "y",
         "showgrid": true,
         "showticklabels": false
        }
       }
      }
     },
     "metadata": {},
     "output_type": "display_data"
    }
   ],
   "source": [
    "fig=px.scatter(modelMetrics,x=\"gt_count\",y=\"event_F1\", marginal_y=\"histogram\",text=\"testSubjectId\")\n",
    "\n",
    "fig.show()"
   ]
  },
  {
   "cell_type": "code",
   "execution_count": 28,
   "metadata": {},
   "outputs": [
    {
     "data": {
      "application/vnd.plotly.v1+json": {
       "config": {
        "plotlyServerURL": "https://plot.ly"
       },
       "data": [
        {
         "hovertemplate": "gt_count=%{x}<br>event_Precision=%{y}<br>testSubjectId=%{text}<extra></extra>",
         "legendgroup": "",
         "marker": {
          "color": "#636efa",
          "symbol": "circle"
         },
         "mode": "markers+text",
         "name": "",
         "orientation": "v",
         "showlegend": false,
         "text": [
          "0001",
          "0002",
          "0003",
          "0004",
          "0005",
          "0006",
          "0007",
          "0008",
          "0009",
          "0010",
          "0011",
          "0012",
          "0013",
          "0014",
          "0015",
          "0016",
          "0017",
          "0018",
          "0019"
         ],
         "type": "scatter",
         "x": [
          1044,
          1143,
          143,
          253,
          341,
          150,
          912,
          385,
          814,
          795,
          606,
          709,
          698,
          712,
          97,
          452,
          470,
          1164,
          315
         ],
         "xaxis": "x",
         "y": [
          0.9207920792079208,
          0.796028880866426,
          0.6934306569343066,
          0.5612244897959183,
          0.6709844559585493,
          0.6055555555555555,
          0.48421679571173315,
          0.716931216931217,
          0.8917431192660551,
          0.7142857142857143,
          0.6037527593818984,
          0.7304216867469879,
          0.5595544130248501,
          0.449535192563081,
          0.746031746031746,
          0.6460980036297641,
          0.7704545454545455,
          0.8210116731517509,
          0.4552238805970149
         ],
         "yaxis": "y"
        },
        {
         "alignmentgroup": "True",
         "bingroup": "y",
         "hovertemplate": "event_Precision=%{y}<br>count=%{x}<extra></extra>",
         "legendgroup": "",
         "marker": {
          "color": "#636efa"
         },
         "name": "",
         "offsetgroup": "",
         "opacity": 0.5,
         "showlegend": false,
         "type": "histogram",
         "xaxis": "x2",
         "y": [
          0.9207920792079208,
          0.796028880866426,
          0.6934306569343066,
          0.5612244897959183,
          0.6709844559585493,
          0.6055555555555555,
          0.48421679571173315,
          0.716931216931217,
          0.8917431192660551,
          0.7142857142857143,
          0.6037527593818984,
          0.7304216867469879,
          0.5595544130248501,
          0.449535192563081,
          0.746031746031746,
          0.6460980036297641,
          0.7704545454545455,
          0.8210116731517509,
          0.4552238805970149
         ],
         "yaxis": "y2"
        }
       ],
       "layout": {
        "barmode": "overlay",
        "legend": {
         "tracegroupgap": 0
        },
        "margin": {
         "t": 60
        },
        "template": {
         "data": {
          "bar": [
           {
            "error_x": {
             "color": "#2a3f5f"
            },
            "error_y": {
             "color": "#2a3f5f"
            },
            "marker": {
             "line": {
              "color": "#E5ECF6",
              "width": 0.5
             },
             "pattern": {
              "fillmode": "overlay",
              "size": 10,
              "solidity": 0.2
             }
            },
            "type": "bar"
           }
          ],
          "barpolar": [
           {
            "marker": {
             "line": {
              "color": "#E5ECF6",
              "width": 0.5
             },
             "pattern": {
              "fillmode": "overlay",
              "size": 10,
              "solidity": 0.2
             }
            },
            "type": "barpolar"
           }
          ],
          "carpet": [
           {
            "aaxis": {
             "endlinecolor": "#2a3f5f",
             "gridcolor": "white",
             "linecolor": "white",
             "minorgridcolor": "white",
             "startlinecolor": "#2a3f5f"
            },
            "baxis": {
             "endlinecolor": "#2a3f5f",
             "gridcolor": "white",
             "linecolor": "white",
             "minorgridcolor": "white",
             "startlinecolor": "#2a3f5f"
            },
            "type": "carpet"
           }
          ],
          "choropleth": [
           {
            "colorbar": {
             "outlinewidth": 0,
             "ticks": ""
            },
            "type": "choropleth"
           }
          ],
          "contour": [
           {
            "colorbar": {
             "outlinewidth": 0,
             "ticks": ""
            },
            "colorscale": [
             [
              0,
              "#0d0887"
             ],
             [
              0.1111111111111111,
              "#46039f"
             ],
             [
              0.2222222222222222,
              "#7201a8"
             ],
             [
              0.3333333333333333,
              "#9c179e"
             ],
             [
              0.4444444444444444,
              "#bd3786"
             ],
             [
              0.5555555555555556,
              "#d8576b"
             ],
             [
              0.6666666666666666,
              "#ed7953"
             ],
             [
              0.7777777777777778,
              "#fb9f3a"
             ],
             [
              0.8888888888888888,
              "#fdca26"
             ],
             [
              1,
              "#f0f921"
             ]
            ],
            "type": "contour"
           }
          ],
          "contourcarpet": [
           {
            "colorbar": {
             "outlinewidth": 0,
             "ticks": ""
            },
            "type": "contourcarpet"
           }
          ],
          "heatmap": [
           {
            "colorbar": {
             "outlinewidth": 0,
             "ticks": ""
            },
            "colorscale": [
             [
              0,
              "#0d0887"
             ],
             [
              0.1111111111111111,
              "#46039f"
             ],
             [
              0.2222222222222222,
              "#7201a8"
             ],
             [
              0.3333333333333333,
              "#9c179e"
             ],
             [
              0.4444444444444444,
              "#bd3786"
             ],
             [
              0.5555555555555556,
              "#d8576b"
             ],
             [
              0.6666666666666666,
              "#ed7953"
             ],
             [
              0.7777777777777778,
              "#fb9f3a"
             ],
             [
              0.8888888888888888,
              "#fdca26"
             ],
             [
              1,
              "#f0f921"
             ]
            ],
            "type": "heatmap"
           }
          ],
          "heatmapgl": [
           {
            "colorbar": {
             "outlinewidth": 0,
             "ticks": ""
            },
            "colorscale": [
             [
              0,
              "#0d0887"
             ],
             [
              0.1111111111111111,
              "#46039f"
             ],
             [
              0.2222222222222222,
              "#7201a8"
             ],
             [
              0.3333333333333333,
              "#9c179e"
             ],
             [
              0.4444444444444444,
              "#bd3786"
             ],
             [
              0.5555555555555556,
              "#d8576b"
             ],
             [
              0.6666666666666666,
              "#ed7953"
             ],
             [
              0.7777777777777778,
              "#fb9f3a"
             ],
             [
              0.8888888888888888,
              "#fdca26"
             ],
             [
              1,
              "#f0f921"
             ]
            ],
            "type": "heatmapgl"
           }
          ],
          "histogram": [
           {
            "marker": {
             "pattern": {
              "fillmode": "overlay",
              "size": 10,
              "solidity": 0.2
             }
            },
            "type": "histogram"
           }
          ],
          "histogram2d": [
           {
            "colorbar": {
             "outlinewidth": 0,
             "ticks": ""
            },
            "colorscale": [
             [
              0,
              "#0d0887"
             ],
             [
              0.1111111111111111,
              "#46039f"
             ],
             [
              0.2222222222222222,
              "#7201a8"
             ],
             [
              0.3333333333333333,
              "#9c179e"
             ],
             [
              0.4444444444444444,
              "#bd3786"
             ],
             [
              0.5555555555555556,
              "#d8576b"
             ],
             [
              0.6666666666666666,
              "#ed7953"
             ],
             [
              0.7777777777777778,
              "#fb9f3a"
             ],
             [
              0.8888888888888888,
              "#fdca26"
             ],
             [
              1,
              "#f0f921"
             ]
            ],
            "type": "histogram2d"
           }
          ],
          "histogram2dcontour": [
           {
            "colorbar": {
             "outlinewidth": 0,
             "ticks": ""
            },
            "colorscale": [
             [
              0,
              "#0d0887"
             ],
             [
              0.1111111111111111,
              "#46039f"
             ],
             [
              0.2222222222222222,
              "#7201a8"
             ],
             [
              0.3333333333333333,
              "#9c179e"
             ],
             [
              0.4444444444444444,
              "#bd3786"
             ],
             [
              0.5555555555555556,
              "#d8576b"
             ],
             [
              0.6666666666666666,
              "#ed7953"
             ],
             [
              0.7777777777777778,
              "#fb9f3a"
             ],
             [
              0.8888888888888888,
              "#fdca26"
             ],
             [
              1,
              "#f0f921"
             ]
            ],
            "type": "histogram2dcontour"
           }
          ],
          "mesh3d": [
           {
            "colorbar": {
             "outlinewidth": 0,
             "ticks": ""
            },
            "type": "mesh3d"
           }
          ],
          "parcoords": [
           {
            "line": {
             "colorbar": {
              "outlinewidth": 0,
              "ticks": ""
             }
            },
            "type": "parcoords"
           }
          ],
          "pie": [
           {
            "automargin": true,
            "type": "pie"
           }
          ],
          "scatter": [
           {
            "fillpattern": {
             "fillmode": "overlay",
             "size": 10,
             "solidity": 0.2
            },
            "type": "scatter"
           }
          ],
          "scatter3d": [
           {
            "line": {
             "colorbar": {
              "outlinewidth": 0,
              "ticks": ""
             }
            },
            "marker": {
             "colorbar": {
              "outlinewidth": 0,
              "ticks": ""
             }
            },
            "type": "scatter3d"
           }
          ],
          "scattercarpet": [
           {
            "marker": {
             "colorbar": {
              "outlinewidth": 0,
              "ticks": ""
             }
            },
            "type": "scattercarpet"
           }
          ],
          "scattergeo": [
           {
            "marker": {
             "colorbar": {
              "outlinewidth": 0,
              "ticks": ""
             }
            },
            "type": "scattergeo"
           }
          ],
          "scattergl": [
           {
            "marker": {
             "colorbar": {
              "outlinewidth": 0,
              "ticks": ""
             }
            },
            "type": "scattergl"
           }
          ],
          "scattermapbox": [
           {
            "marker": {
             "colorbar": {
              "outlinewidth": 0,
              "ticks": ""
             }
            },
            "type": "scattermapbox"
           }
          ],
          "scatterpolar": [
           {
            "marker": {
             "colorbar": {
              "outlinewidth": 0,
              "ticks": ""
             }
            },
            "type": "scatterpolar"
           }
          ],
          "scatterpolargl": [
           {
            "marker": {
             "colorbar": {
              "outlinewidth": 0,
              "ticks": ""
             }
            },
            "type": "scatterpolargl"
           }
          ],
          "scatterternary": [
           {
            "marker": {
             "colorbar": {
              "outlinewidth": 0,
              "ticks": ""
             }
            },
            "type": "scatterternary"
           }
          ],
          "surface": [
           {
            "colorbar": {
             "outlinewidth": 0,
             "ticks": ""
            },
            "colorscale": [
             [
              0,
              "#0d0887"
             ],
             [
              0.1111111111111111,
              "#46039f"
             ],
             [
              0.2222222222222222,
              "#7201a8"
             ],
             [
              0.3333333333333333,
              "#9c179e"
             ],
             [
              0.4444444444444444,
              "#bd3786"
             ],
             [
              0.5555555555555556,
              "#d8576b"
             ],
             [
              0.6666666666666666,
              "#ed7953"
             ],
             [
              0.7777777777777778,
              "#fb9f3a"
             ],
             [
              0.8888888888888888,
              "#fdca26"
             ],
             [
              1,
              "#f0f921"
             ]
            ],
            "type": "surface"
           }
          ],
          "table": [
           {
            "cells": {
             "fill": {
              "color": "#EBF0F8"
             },
             "line": {
              "color": "white"
             }
            },
            "header": {
             "fill": {
              "color": "#C8D4E3"
             },
             "line": {
              "color": "white"
             }
            },
            "type": "table"
           }
          ]
         },
         "layout": {
          "annotationdefaults": {
           "arrowcolor": "#2a3f5f",
           "arrowhead": 0,
           "arrowwidth": 1
          },
          "autotypenumbers": "strict",
          "coloraxis": {
           "colorbar": {
            "outlinewidth": 0,
            "ticks": ""
           }
          },
          "colorscale": {
           "diverging": [
            [
             0,
             "#8e0152"
            ],
            [
             0.1,
             "#c51b7d"
            ],
            [
             0.2,
             "#de77ae"
            ],
            [
             0.3,
             "#f1b6da"
            ],
            [
             0.4,
             "#fde0ef"
            ],
            [
             0.5,
             "#f7f7f7"
            ],
            [
             0.6,
             "#e6f5d0"
            ],
            [
             0.7,
             "#b8e186"
            ],
            [
             0.8,
             "#7fbc41"
            ],
            [
             0.9,
             "#4d9221"
            ],
            [
             1,
             "#276419"
            ]
           ],
           "sequential": [
            [
             0,
             "#0d0887"
            ],
            [
             0.1111111111111111,
             "#46039f"
            ],
            [
             0.2222222222222222,
             "#7201a8"
            ],
            [
             0.3333333333333333,
             "#9c179e"
            ],
            [
             0.4444444444444444,
             "#bd3786"
            ],
            [
             0.5555555555555556,
             "#d8576b"
            ],
            [
             0.6666666666666666,
             "#ed7953"
            ],
            [
             0.7777777777777778,
             "#fb9f3a"
            ],
            [
             0.8888888888888888,
             "#fdca26"
            ],
            [
             1,
             "#f0f921"
            ]
           ],
           "sequentialminus": [
            [
             0,
             "#0d0887"
            ],
            [
             0.1111111111111111,
             "#46039f"
            ],
            [
             0.2222222222222222,
             "#7201a8"
            ],
            [
             0.3333333333333333,
             "#9c179e"
            ],
            [
             0.4444444444444444,
             "#bd3786"
            ],
            [
             0.5555555555555556,
             "#d8576b"
            ],
            [
             0.6666666666666666,
             "#ed7953"
            ],
            [
             0.7777777777777778,
             "#fb9f3a"
            ],
            [
             0.8888888888888888,
             "#fdca26"
            ],
            [
             1,
             "#f0f921"
            ]
           ]
          },
          "colorway": [
           "#636efa",
           "#EF553B",
           "#00cc96",
           "#ab63fa",
           "#FFA15A",
           "#19d3f3",
           "#FF6692",
           "#B6E880",
           "#FF97FF",
           "#FECB52"
          ],
          "font": {
           "color": "#2a3f5f"
          },
          "geo": {
           "bgcolor": "white",
           "lakecolor": "white",
           "landcolor": "#E5ECF6",
           "showlakes": true,
           "showland": true,
           "subunitcolor": "white"
          },
          "hoverlabel": {
           "align": "left"
          },
          "hovermode": "closest",
          "mapbox": {
           "style": "light"
          },
          "paper_bgcolor": "white",
          "plot_bgcolor": "#E5ECF6",
          "polar": {
           "angularaxis": {
            "gridcolor": "white",
            "linecolor": "white",
            "ticks": ""
           },
           "bgcolor": "#E5ECF6",
           "radialaxis": {
            "gridcolor": "white",
            "linecolor": "white",
            "ticks": ""
           }
          },
          "scene": {
           "xaxis": {
            "backgroundcolor": "#E5ECF6",
            "gridcolor": "white",
            "gridwidth": 2,
            "linecolor": "white",
            "showbackground": true,
            "ticks": "",
            "zerolinecolor": "white"
           },
           "yaxis": {
            "backgroundcolor": "#E5ECF6",
            "gridcolor": "white",
            "gridwidth": 2,
            "linecolor": "white",
            "showbackground": true,
            "ticks": "",
            "zerolinecolor": "white"
           },
           "zaxis": {
            "backgroundcolor": "#E5ECF6",
            "gridcolor": "white",
            "gridwidth": 2,
            "linecolor": "white",
            "showbackground": true,
            "ticks": "",
            "zerolinecolor": "white"
           }
          },
          "shapedefaults": {
           "line": {
            "color": "#2a3f5f"
           }
          },
          "ternary": {
           "aaxis": {
            "gridcolor": "white",
            "linecolor": "white",
            "ticks": ""
           },
           "baxis": {
            "gridcolor": "white",
            "linecolor": "white",
            "ticks": ""
           },
           "bgcolor": "#E5ECF6",
           "caxis": {
            "gridcolor": "white",
            "linecolor": "white",
            "ticks": ""
           }
          },
          "title": {
           "x": 0.05
          },
          "xaxis": {
           "automargin": true,
           "gridcolor": "white",
           "linecolor": "white",
           "ticks": "",
           "title": {
            "standoff": 15
           },
           "zerolinecolor": "white",
           "zerolinewidth": 2
          },
          "yaxis": {
           "automargin": true,
           "gridcolor": "white",
           "linecolor": "white",
           "ticks": "",
           "title": {
            "standoff": 15
           },
           "zerolinecolor": "white",
           "zerolinewidth": 2
          }
         }
        },
        "xaxis": {
         "anchor": "y",
         "domain": [
          0,
          0.7363
         ],
         "title": {
          "text": "gt_count"
         }
        },
        "xaxis2": {
         "anchor": "y2",
         "domain": [
          0.7413,
          1
         ],
         "matches": "x2",
         "showgrid": true,
         "showline": false,
         "showticklabels": false,
         "ticks": ""
        },
        "yaxis": {
         "anchor": "x",
         "domain": [
          0,
          1
         ],
         "title": {
          "text": "event_Precision"
         }
        },
        "yaxis2": {
         "anchor": "x2",
         "domain": [
          0,
          1
         ],
         "matches": "y",
         "showgrid": true,
         "showticklabels": false
        }
       }
      }
     },
     "metadata": {},
     "output_type": "display_data"
    }
   ],
   "source": [
    "fig=px.scatter(modelMetrics,x=\"gt_count\",y=\"event_Precision\", marginal_y=\"histogram\",text=\"testSubjectId\")\n",
    "fig.show()"
   ]
  },
  {
   "cell_type": "code",
   "execution_count": 29,
   "metadata": {},
   "outputs": [
    {
     "data": {
      "application/vnd.plotly.v1+json": {
       "config": {
        "plotlyServerURL": "https://plot.ly"
       },
       "data": [
        {
         "hovertemplate": "gt_count=%{x}<br>event_Recall=%{y}<br>testSubjectId=%{text}<extra></extra>",
         "legendgroup": "",
         "marker": {
          "color": "#636efa",
          "symbol": "circle"
         },
         "mode": "markers+text",
         "name": "",
         "orientation": "v",
         "showlegend": false,
         "text": [
          "0001",
          "0002",
          "0003",
          "0004",
          "0005",
          "0006",
          "0007",
          "0008",
          "0009",
          "0010",
          "0011",
          "0012",
          "0013",
          "0014",
          "0015",
          "0016",
          "0017",
          "0018",
          "0019"
         ],
         "type": "scatter",
         "x": [
          1044,
          1143,
          143,
          253,
          341,
          150,
          912,
          385,
          814,
          795,
          606,
          709,
          698,
          712,
          97,
          452,
          470,
          1164,
          315
         ],
         "xaxis": "x",
         "y": [
          0.3563218390804598,
          0.7716535433070866,
          0.6643356643356644,
          0.8695652173913043,
          0.7595307917888563,
          0.7266666666666667,
          0.8914473684210527,
          0.7038961038961039,
          0.597051597051597,
          0.8050314465408805,
          0.9026402640264026,
          0.6840620592383639,
          0.9355300859598854,
          0.9508426966292135,
          0.4845360824742268,
          0.7876106194690266,
          0.7212765957446808,
          0.7250859106529209,
          0.9682539682539683
         ],
         "yaxis": "y"
        },
        {
         "alignmentgroup": "True",
         "bingroup": "y",
         "hovertemplate": "event_Recall=%{y}<br>count=%{x}<extra></extra>",
         "legendgroup": "",
         "marker": {
          "color": "#636efa"
         },
         "name": "",
         "offsetgroup": "",
         "opacity": 0.5,
         "showlegend": false,
         "type": "histogram",
         "xaxis": "x2",
         "y": [
          0.3563218390804598,
          0.7716535433070866,
          0.6643356643356644,
          0.8695652173913043,
          0.7595307917888563,
          0.7266666666666667,
          0.8914473684210527,
          0.7038961038961039,
          0.597051597051597,
          0.8050314465408805,
          0.9026402640264026,
          0.6840620592383639,
          0.9355300859598854,
          0.9508426966292135,
          0.4845360824742268,
          0.7876106194690266,
          0.7212765957446808,
          0.7250859106529209,
          0.9682539682539683
         ],
         "yaxis": "y2"
        }
       ],
       "layout": {
        "barmode": "overlay",
        "legend": {
         "tracegroupgap": 0
        },
        "margin": {
         "t": 60
        },
        "template": {
         "data": {
          "bar": [
           {
            "error_x": {
             "color": "#2a3f5f"
            },
            "error_y": {
             "color": "#2a3f5f"
            },
            "marker": {
             "line": {
              "color": "#E5ECF6",
              "width": 0.5
             },
             "pattern": {
              "fillmode": "overlay",
              "size": 10,
              "solidity": 0.2
             }
            },
            "type": "bar"
           }
          ],
          "barpolar": [
           {
            "marker": {
             "line": {
              "color": "#E5ECF6",
              "width": 0.5
             },
             "pattern": {
              "fillmode": "overlay",
              "size": 10,
              "solidity": 0.2
             }
            },
            "type": "barpolar"
           }
          ],
          "carpet": [
           {
            "aaxis": {
             "endlinecolor": "#2a3f5f",
             "gridcolor": "white",
             "linecolor": "white",
             "minorgridcolor": "white",
             "startlinecolor": "#2a3f5f"
            },
            "baxis": {
             "endlinecolor": "#2a3f5f",
             "gridcolor": "white",
             "linecolor": "white",
             "minorgridcolor": "white",
             "startlinecolor": "#2a3f5f"
            },
            "type": "carpet"
           }
          ],
          "choropleth": [
           {
            "colorbar": {
             "outlinewidth": 0,
             "ticks": ""
            },
            "type": "choropleth"
           }
          ],
          "contour": [
           {
            "colorbar": {
             "outlinewidth": 0,
             "ticks": ""
            },
            "colorscale": [
             [
              0,
              "#0d0887"
             ],
             [
              0.1111111111111111,
              "#46039f"
             ],
             [
              0.2222222222222222,
              "#7201a8"
             ],
             [
              0.3333333333333333,
              "#9c179e"
             ],
             [
              0.4444444444444444,
              "#bd3786"
             ],
             [
              0.5555555555555556,
              "#d8576b"
             ],
             [
              0.6666666666666666,
              "#ed7953"
             ],
             [
              0.7777777777777778,
              "#fb9f3a"
             ],
             [
              0.8888888888888888,
              "#fdca26"
             ],
             [
              1,
              "#f0f921"
             ]
            ],
            "type": "contour"
           }
          ],
          "contourcarpet": [
           {
            "colorbar": {
             "outlinewidth": 0,
             "ticks": ""
            },
            "type": "contourcarpet"
           }
          ],
          "heatmap": [
           {
            "colorbar": {
             "outlinewidth": 0,
             "ticks": ""
            },
            "colorscale": [
             [
              0,
              "#0d0887"
             ],
             [
              0.1111111111111111,
              "#46039f"
             ],
             [
              0.2222222222222222,
              "#7201a8"
             ],
             [
              0.3333333333333333,
              "#9c179e"
             ],
             [
              0.4444444444444444,
              "#bd3786"
             ],
             [
              0.5555555555555556,
              "#d8576b"
             ],
             [
              0.6666666666666666,
              "#ed7953"
             ],
             [
              0.7777777777777778,
              "#fb9f3a"
             ],
             [
              0.8888888888888888,
              "#fdca26"
             ],
             [
              1,
              "#f0f921"
             ]
            ],
            "type": "heatmap"
           }
          ],
          "heatmapgl": [
           {
            "colorbar": {
             "outlinewidth": 0,
             "ticks": ""
            },
            "colorscale": [
             [
              0,
              "#0d0887"
             ],
             [
              0.1111111111111111,
              "#46039f"
             ],
             [
              0.2222222222222222,
              "#7201a8"
             ],
             [
              0.3333333333333333,
              "#9c179e"
             ],
             [
              0.4444444444444444,
              "#bd3786"
             ],
             [
              0.5555555555555556,
              "#d8576b"
             ],
             [
              0.6666666666666666,
              "#ed7953"
             ],
             [
              0.7777777777777778,
              "#fb9f3a"
             ],
             [
              0.8888888888888888,
              "#fdca26"
             ],
             [
              1,
              "#f0f921"
             ]
            ],
            "type": "heatmapgl"
           }
          ],
          "histogram": [
           {
            "marker": {
             "pattern": {
              "fillmode": "overlay",
              "size": 10,
              "solidity": 0.2
             }
            },
            "type": "histogram"
           }
          ],
          "histogram2d": [
           {
            "colorbar": {
             "outlinewidth": 0,
             "ticks": ""
            },
            "colorscale": [
             [
              0,
              "#0d0887"
             ],
             [
              0.1111111111111111,
              "#46039f"
             ],
             [
              0.2222222222222222,
              "#7201a8"
             ],
             [
              0.3333333333333333,
              "#9c179e"
             ],
             [
              0.4444444444444444,
              "#bd3786"
             ],
             [
              0.5555555555555556,
              "#d8576b"
             ],
             [
              0.6666666666666666,
              "#ed7953"
             ],
             [
              0.7777777777777778,
              "#fb9f3a"
             ],
             [
              0.8888888888888888,
              "#fdca26"
             ],
             [
              1,
              "#f0f921"
             ]
            ],
            "type": "histogram2d"
           }
          ],
          "histogram2dcontour": [
           {
            "colorbar": {
             "outlinewidth": 0,
             "ticks": ""
            },
            "colorscale": [
             [
              0,
              "#0d0887"
             ],
             [
              0.1111111111111111,
              "#46039f"
             ],
             [
              0.2222222222222222,
              "#7201a8"
             ],
             [
              0.3333333333333333,
              "#9c179e"
             ],
             [
              0.4444444444444444,
              "#bd3786"
             ],
             [
              0.5555555555555556,
              "#d8576b"
             ],
             [
              0.6666666666666666,
              "#ed7953"
             ],
             [
              0.7777777777777778,
              "#fb9f3a"
             ],
             [
              0.8888888888888888,
              "#fdca26"
             ],
             [
              1,
              "#f0f921"
             ]
            ],
            "type": "histogram2dcontour"
           }
          ],
          "mesh3d": [
           {
            "colorbar": {
             "outlinewidth": 0,
             "ticks": ""
            },
            "type": "mesh3d"
           }
          ],
          "parcoords": [
           {
            "line": {
             "colorbar": {
              "outlinewidth": 0,
              "ticks": ""
             }
            },
            "type": "parcoords"
           }
          ],
          "pie": [
           {
            "automargin": true,
            "type": "pie"
           }
          ],
          "scatter": [
           {
            "fillpattern": {
             "fillmode": "overlay",
             "size": 10,
             "solidity": 0.2
            },
            "type": "scatter"
           }
          ],
          "scatter3d": [
           {
            "line": {
             "colorbar": {
              "outlinewidth": 0,
              "ticks": ""
             }
            },
            "marker": {
             "colorbar": {
              "outlinewidth": 0,
              "ticks": ""
             }
            },
            "type": "scatter3d"
           }
          ],
          "scattercarpet": [
           {
            "marker": {
             "colorbar": {
              "outlinewidth": 0,
              "ticks": ""
             }
            },
            "type": "scattercarpet"
           }
          ],
          "scattergeo": [
           {
            "marker": {
             "colorbar": {
              "outlinewidth": 0,
              "ticks": ""
             }
            },
            "type": "scattergeo"
           }
          ],
          "scattergl": [
           {
            "marker": {
             "colorbar": {
              "outlinewidth": 0,
              "ticks": ""
             }
            },
            "type": "scattergl"
           }
          ],
          "scattermapbox": [
           {
            "marker": {
             "colorbar": {
              "outlinewidth": 0,
              "ticks": ""
             }
            },
            "type": "scattermapbox"
           }
          ],
          "scatterpolar": [
           {
            "marker": {
             "colorbar": {
              "outlinewidth": 0,
              "ticks": ""
             }
            },
            "type": "scatterpolar"
           }
          ],
          "scatterpolargl": [
           {
            "marker": {
             "colorbar": {
              "outlinewidth": 0,
              "ticks": ""
             }
            },
            "type": "scatterpolargl"
           }
          ],
          "scatterternary": [
           {
            "marker": {
             "colorbar": {
              "outlinewidth": 0,
              "ticks": ""
             }
            },
            "type": "scatterternary"
           }
          ],
          "surface": [
           {
            "colorbar": {
             "outlinewidth": 0,
             "ticks": ""
            },
            "colorscale": [
             [
              0,
              "#0d0887"
             ],
             [
              0.1111111111111111,
              "#46039f"
             ],
             [
              0.2222222222222222,
              "#7201a8"
             ],
             [
              0.3333333333333333,
              "#9c179e"
             ],
             [
              0.4444444444444444,
              "#bd3786"
             ],
             [
              0.5555555555555556,
              "#d8576b"
             ],
             [
              0.6666666666666666,
              "#ed7953"
             ],
             [
              0.7777777777777778,
              "#fb9f3a"
             ],
             [
              0.8888888888888888,
              "#fdca26"
             ],
             [
              1,
              "#f0f921"
             ]
            ],
            "type": "surface"
           }
          ],
          "table": [
           {
            "cells": {
             "fill": {
              "color": "#EBF0F8"
             },
             "line": {
              "color": "white"
             }
            },
            "header": {
             "fill": {
              "color": "#C8D4E3"
             },
             "line": {
              "color": "white"
             }
            },
            "type": "table"
           }
          ]
         },
         "layout": {
          "annotationdefaults": {
           "arrowcolor": "#2a3f5f",
           "arrowhead": 0,
           "arrowwidth": 1
          },
          "autotypenumbers": "strict",
          "coloraxis": {
           "colorbar": {
            "outlinewidth": 0,
            "ticks": ""
           }
          },
          "colorscale": {
           "diverging": [
            [
             0,
             "#8e0152"
            ],
            [
             0.1,
             "#c51b7d"
            ],
            [
             0.2,
             "#de77ae"
            ],
            [
             0.3,
             "#f1b6da"
            ],
            [
             0.4,
             "#fde0ef"
            ],
            [
             0.5,
             "#f7f7f7"
            ],
            [
             0.6,
             "#e6f5d0"
            ],
            [
             0.7,
             "#b8e186"
            ],
            [
             0.8,
             "#7fbc41"
            ],
            [
             0.9,
             "#4d9221"
            ],
            [
             1,
             "#276419"
            ]
           ],
           "sequential": [
            [
             0,
             "#0d0887"
            ],
            [
             0.1111111111111111,
             "#46039f"
            ],
            [
             0.2222222222222222,
             "#7201a8"
            ],
            [
             0.3333333333333333,
             "#9c179e"
            ],
            [
             0.4444444444444444,
             "#bd3786"
            ],
            [
             0.5555555555555556,
             "#d8576b"
            ],
            [
             0.6666666666666666,
             "#ed7953"
            ],
            [
             0.7777777777777778,
             "#fb9f3a"
            ],
            [
             0.8888888888888888,
             "#fdca26"
            ],
            [
             1,
             "#f0f921"
            ]
           ],
           "sequentialminus": [
            [
             0,
             "#0d0887"
            ],
            [
             0.1111111111111111,
             "#46039f"
            ],
            [
             0.2222222222222222,
             "#7201a8"
            ],
            [
             0.3333333333333333,
             "#9c179e"
            ],
            [
             0.4444444444444444,
             "#bd3786"
            ],
            [
             0.5555555555555556,
             "#d8576b"
            ],
            [
             0.6666666666666666,
             "#ed7953"
            ],
            [
             0.7777777777777778,
             "#fb9f3a"
            ],
            [
             0.8888888888888888,
             "#fdca26"
            ],
            [
             1,
             "#f0f921"
            ]
           ]
          },
          "colorway": [
           "#636efa",
           "#EF553B",
           "#00cc96",
           "#ab63fa",
           "#FFA15A",
           "#19d3f3",
           "#FF6692",
           "#B6E880",
           "#FF97FF",
           "#FECB52"
          ],
          "font": {
           "color": "#2a3f5f"
          },
          "geo": {
           "bgcolor": "white",
           "lakecolor": "white",
           "landcolor": "#E5ECF6",
           "showlakes": true,
           "showland": true,
           "subunitcolor": "white"
          },
          "hoverlabel": {
           "align": "left"
          },
          "hovermode": "closest",
          "mapbox": {
           "style": "light"
          },
          "paper_bgcolor": "white",
          "plot_bgcolor": "#E5ECF6",
          "polar": {
           "angularaxis": {
            "gridcolor": "white",
            "linecolor": "white",
            "ticks": ""
           },
           "bgcolor": "#E5ECF6",
           "radialaxis": {
            "gridcolor": "white",
            "linecolor": "white",
            "ticks": ""
           }
          },
          "scene": {
           "xaxis": {
            "backgroundcolor": "#E5ECF6",
            "gridcolor": "white",
            "gridwidth": 2,
            "linecolor": "white",
            "showbackground": true,
            "ticks": "",
            "zerolinecolor": "white"
           },
           "yaxis": {
            "backgroundcolor": "#E5ECF6",
            "gridcolor": "white",
            "gridwidth": 2,
            "linecolor": "white",
            "showbackground": true,
            "ticks": "",
            "zerolinecolor": "white"
           },
           "zaxis": {
            "backgroundcolor": "#E5ECF6",
            "gridcolor": "white",
            "gridwidth": 2,
            "linecolor": "white",
            "showbackground": true,
            "ticks": "",
            "zerolinecolor": "white"
           }
          },
          "shapedefaults": {
           "line": {
            "color": "#2a3f5f"
           }
          },
          "ternary": {
           "aaxis": {
            "gridcolor": "white",
            "linecolor": "white",
            "ticks": ""
           },
           "baxis": {
            "gridcolor": "white",
            "linecolor": "white",
            "ticks": ""
           },
           "bgcolor": "#E5ECF6",
           "caxis": {
            "gridcolor": "white",
            "linecolor": "white",
            "ticks": ""
           }
          },
          "title": {
           "x": 0.05
          },
          "xaxis": {
           "automargin": true,
           "gridcolor": "white",
           "linecolor": "white",
           "ticks": "",
           "title": {
            "standoff": 15
           },
           "zerolinecolor": "white",
           "zerolinewidth": 2
          },
          "yaxis": {
           "automargin": true,
           "gridcolor": "white",
           "linecolor": "white",
           "ticks": "",
           "title": {
            "standoff": 15
           },
           "zerolinecolor": "white",
           "zerolinewidth": 2
          }
         }
        },
        "xaxis": {
         "anchor": "y",
         "domain": [
          0,
          0.7363
         ],
         "title": {
          "text": "gt_count"
         }
        },
        "xaxis2": {
         "anchor": "y2",
         "domain": [
          0.7413,
          1
         ],
         "matches": "x2",
         "showgrid": true,
         "showline": false,
         "showticklabels": false,
         "ticks": ""
        },
        "yaxis": {
         "anchor": "x",
         "domain": [
          0,
          1
         ],
         "title": {
          "text": "event_Recall"
         }
        },
        "yaxis2": {
         "anchor": "x2",
         "domain": [
          0,
          1
         ],
         "matches": "y",
         "showgrid": true,
         "showticklabels": false
        }
       }
      }
     },
     "metadata": {},
     "output_type": "display_data"
    }
   ],
   "source": [
    "fig=px.scatter(modelMetrics,x=\"gt_count\",y=\"event_Recall\", marginal_y=\"histogram\",text=\"testSubjectId\")\n",
    "fig.show()"
   ]
  },
  {
   "cell_type": "code",
   "execution_count": 30,
   "metadata": {},
   "outputs": [
    {
     "ename": "ValueError",
     "evalue": "Length of values (0) does not match length of index (19)",
     "output_type": "error",
     "traceback": [
      "\u001b[1;31m---------------------------------------------------------------------------\u001b[0m",
      "\u001b[1;31mValueError\u001b[0m                                Traceback (most recent call last)",
      "Cell \u001b[1;32mIn [30], line 2\u001b[0m\n\u001b[0;32m      1\u001b[0m aux\u001b[39m=\u001b[39mmodelMetrics\u001b[39m.\u001b[39mcopy()\n\u001b[1;32m----> 2\u001b[0m aux[\u001b[39m'\u001b[39;49m\u001b[39mthres_prob_optimal\u001b[39;49m\u001b[39m'\u001b[39;49m]\u001b[39m=\u001b[39mopts\n",
      "File \u001b[1;32mc:\\Users\\Gurdiel\\Code\\SpinCo\\venv\\lib\\site-packages\\pandas\\core\\frame.py:3978\u001b[0m, in \u001b[0;36mDataFrame.__setitem__\u001b[1;34m(self, key, value)\u001b[0m\n\u001b[0;32m   3975\u001b[0m     \u001b[39mself\u001b[39m\u001b[39m.\u001b[39m_setitem_array([key], value)\n\u001b[0;32m   3976\u001b[0m \u001b[39melse\u001b[39;00m:\n\u001b[0;32m   3977\u001b[0m     \u001b[39m# set column\u001b[39;00m\n\u001b[1;32m-> 3978\u001b[0m     \u001b[39mself\u001b[39;49m\u001b[39m.\u001b[39;49m_set_item(key, value)\n",
      "File \u001b[1;32mc:\\Users\\Gurdiel\\Code\\SpinCo\\venv\\lib\\site-packages\\pandas\\core\\frame.py:4172\u001b[0m, in \u001b[0;36mDataFrame._set_item\u001b[1;34m(self, key, value)\u001b[0m\n\u001b[0;32m   4162\u001b[0m \u001b[39mdef\u001b[39;00m \u001b[39m_set_item\u001b[39m(\u001b[39mself\u001b[39m, key, value) \u001b[39m-\u001b[39m\u001b[39m>\u001b[39m \u001b[39mNone\u001b[39;00m:\n\u001b[0;32m   4163\u001b[0m     \u001b[39m\"\"\"\u001b[39;00m\n\u001b[0;32m   4164\u001b[0m \u001b[39m    Add series to DataFrame in specified column.\u001b[39;00m\n\u001b[0;32m   4165\u001b[0m \n\u001b[1;32m   (...)\u001b[0m\n\u001b[0;32m   4170\u001b[0m \u001b[39m    ensure homogeneity.\u001b[39;00m\n\u001b[0;32m   4171\u001b[0m \u001b[39m    \"\"\"\u001b[39;00m\n\u001b[1;32m-> 4172\u001b[0m     value \u001b[39m=\u001b[39m \u001b[39mself\u001b[39;49m\u001b[39m.\u001b[39;49m_sanitize_column(value)\n\u001b[0;32m   4174\u001b[0m     \u001b[39mif\u001b[39;00m (\n\u001b[0;32m   4175\u001b[0m         key \u001b[39min\u001b[39;00m \u001b[39mself\u001b[39m\u001b[39m.\u001b[39mcolumns\n\u001b[0;32m   4176\u001b[0m         \u001b[39mand\u001b[39;00m value\u001b[39m.\u001b[39mndim \u001b[39m==\u001b[39m \u001b[39m1\u001b[39m\n\u001b[0;32m   4177\u001b[0m         \u001b[39mand\u001b[39;00m \u001b[39mnot\u001b[39;00m is_extension_array_dtype(value)\n\u001b[0;32m   4178\u001b[0m     ):\n\u001b[0;32m   4179\u001b[0m         \u001b[39m# broadcast across multiple columns if necessary\u001b[39;00m\n\u001b[0;32m   4180\u001b[0m         \u001b[39mif\u001b[39;00m \u001b[39mnot\u001b[39;00m \u001b[39mself\u001b[39m\u001b[39m.\u001b[39mcolumns\u001b[39m.\u001b[39mis_unique \u001b[39mor\u001b[39;00m \u001b[39misinstance\u001b[39m(\u001b[39mself\u001b[39m\u001b[39m.\u001b[39mcolumns, MultiIndex):\n",
      "File \u001b[1;32mc:\\Users\\Gurdiel\\Code\\SpinCo\\venv\\lib\\site-packages\\pandas\\core\\frame.py:4912\u001b[0m, in \u001b[0;36mDataFrame._sanitize_column\u001b[1;34m(self, value)\u001b[0m\n\u001b[0;32m   4909\u001b[0m     \u001b[39mreturn\u001b[39;00m _reindex_for_setitem(Series(value), \u001b[39mself\u001b[39m\u001b[39m.\u001b[39mindex)\n\u001b[0;32m   4911\u001b[0m \u001b[39mif\u001b[39;00m is_list_like(value):\n\u001b[1;32m-> 4912\u001b[0m     com\u001b[39m.\u001b[39;49mrequire_length_match(value, \u001b[39mself\u001b[39;49m\u001b[39m.\u001b[39;49mindex)\n\u001b[0;32m   4913\u001b[0m \u001b[39mreturn\u001b[39;00m sanitize_array(value, \u001b[39mself\u001b[39m\u001b[39m.\u001b[39mindex, copy\u001b[39m=\u001b[39m\u001b[39mTrue\u001b[39;00m, allow_2d\u001b[39m=\u001b[39m\u001b[39mTrue\u001b[39;00m)\n",
      "File \u001b[1;32mc:\\Users\\Gurdiel\\Code\\SpinCo\\venv\\lib\\site-packages\\pandas\\core\\common.py:561\u001b[0m, in \u001b[0;36mrequire_length_match\u001b[1;34m(data, index)\u001b[0m\n\u001b[0;32m    557\u001b[0m \u001b[39m\"\"\"\u001b[39;00m\n\u001b[0;32m    558\u001b[0m \u001b[39mCheck the length of data matches the length of the index.\u001b[39;00m\n\u001b[0;32m    559\u001b[0m \u001b[39m\"\"\"\u001b[39;00m\n\u001b[0;32m    560\u001b[0m \u001b[39mif\u001b[39;00m \u001b[39mlen\u001b[39m(data) \u001b[39m!=\u001b[39m \u001b[39mlen\u001b[39m(index):\n\u001b[1;32m--> 561\u001b[0m     \u001b[39mraise\u001b[39;00m \u001b[39mValueError\u001b[39;00m(\n\u001b[0;32m    562\u001b[0m         \u001b[39m\"\u001b[39m\u001b[39mLength of values \u001b[39m\u001b[39m\"\u001b[39m\n\u001b[0;32m    563\u001b[0m         \u001b[39mf\u001b[39m\u001b[39m\"\u001b[39m\u001b[39m(\u001b[39m\u001b[39m{\u001b[39;00m\u001b[39mlen\u001b[39m(data)\u001b[39m}\u001b[39;00m\u001b[39m) \u001b[39m\u001b[39m\"\u001b[39m\n\u001b[0;32m    564\u001b[0m         \u001b[39m\"\u001b[39m\u001b[39mdoes not match length of index \u001b[39m\u001b[39m\"\u001b[39m\n\u001b[0;32m    565\u001b[0m         \u001b[39mf\u001b[39m\u001b[39m\"\u001b[39m\u001b[39m(\u001b[39m\u001b[39m{\u001b[39;00m\u001b[39mlen\u001b[39m(index)\u001b[39m}\u001b[39;00m\u001b[39m)\u001b[39m\u001b[39m\"\u001b[39m\n\u001b[0;32m    566\u001b[0m     )\n",
      "\u001b[1;31mValueError\u001b[0m: Length of values (0) does not match length of index (19)"
     ]
    }
   ],
   "source": [
    "aux=modelMetrics.copy()\n",
    "aux['thres_prob_optimal']=opts"
   ]
  },
  {
   "cell_type": "code",
   "execution_count": null,
   "metadata": {},
   "outputs": [
    {
     "data": {
      "text/html": [
       "<div>\n",
       "<style scoped>\n",
       "    .dataframe tbody tr th:only-of-type {\n",
       "        vertical-align: middle;\n",
       "    }\n",
       "\n",
       "    .dataframe tbody tr th {\n",
       "        vertical-align: top;\n",
       "    }\n",
       "\n",
       "    .dataframe thead th {\n",
       "        text-align: right;\n",
       "    }\n",
       "</style>\n",
       "<table border=\"1\" class=\"dataframe\">\n",
       "  <thead>\n",
       "    <tr style=\"text-align: right;\">\n",
       "      <th></th>\n",
       "      <th>experimentId</th>\n",
       "      <th>modelId</th>\n",
       "      <th>testSubjectId</th>\n",
       "      <th>thres_prob</th>\n",
       "      <th>thres_IoU</th>\n",
       "      <th>treeLimit</th>\n",
       "      <th>close</th>\n",
       "      <th>minDuration</th>\n",
       "      <th>check</th>\n",
       "      <th>raw_F1</th>\n",
       "      <th>...</th>\n",
       "      <th>vector_FPR</th>\n",
       "      <th>vector_F1</th>\n",
       "      <th>vector_TS</th>\n",
       "      <th>final_count</th>\n",
       "      <th>gt_count</th>\n",
       "      <th>event_F1</th>\n",
       "      <th>event_Precision</th>\n",
       "      <th>event_Recall</th>\n",
       "      <th>event_TS</th>\n",
       "      <th>thres_prob_optimal</th>\n",
       "    </tr>\n",
       "  </thead>\n",
       "  <tbody>\n",
       "    <tr>\n",
       "      <th>0</th>\n",
       "      <td>caa5287c-cb07-47ff-aba6-9c26eb22c40d</td>\n",
       "      <td>dfe10db6-0f32-4bce-acc2-f7182342d975</td>\n",
       "      <td>0001</td>\n",
       "      <td>0.34</td>\n",
       "      <td>0.3</td>\n",
       "      <td>23</td>\n",
       "      <td>0.25</td>\n",
       "      <td>0.3</td>\n",
       "      <td>True</td>\n",
       "      <td>0.435722</td>\n",
       "      <td>...</td>\n",
       "      <td>0.000687</td>\n",
       "      <td>0.460323</td>\n",
       "      <td>0.298974</td>\n",
       "      <td>478</td>\n",
       "      <td>1044</td>\n",
       "      <td>0.579501</td>\n",
       "      <td>0.922594</td>\n",
       "      <td>0.422414</td>\n",
       "      <td>0.407956</td>\n",
       "      <td>0.052632</td>\n",
       "    </tr>\n",
       "    <tr>\n",
       "      <th>14</th>\n",
       "      <td>caa5287c-cb07-47ff-aba6-9c26eb22c40d</td>\n",
       "      <td>f833943c-5fa3-448c-a1a3-c757a5cb1c49</td>\n",
       "      <td>0015</td>\n",
       "      <td>0.34</td>\n",
       "      <td>0.3</td>\n",
       "      <td>23</td>\n",
       "      <td>0.25</td>\n",
       "      <td>0.3</td>\n",
       "      <td>True</td>\n",
       "      <td>0.466368</td>\n",
       "      <td>...</td>\n",
       "      <td>0.000441</td>\n",
       "      <td>0.490266</td>\n",
       "      <td>0.324737</td>\n",
       "      <td>83</td>\n",
       "      <td>97</td>\n",
       "      <td>0.588889</td>\n",
       "      <td>0.638554</td>\n",
       "      <td>0.546392</td>\n",
       "      <td>0.417323</td>\n",
       "      <td>0.210526</td>\n",
       "    </tr>\n",
       "  </tbody>\n",
       "</table>\n",
       "<p>2 rows × 26 columns</p>\n",
       "</div>"
      ],
      "text/plain": [
       "                            experimentId  \\\n",
       "0   caa5287c-cb07-47ff-aba6-9c26eb22c40d   \n",
       "14  caa5287c-cb07-47ff-aba6-9c26eb22c40d   \n",
       "\n",
       "                                 modelId testSubjectId thres_prob thres_IoU  \\\n",
       "0   dfe10db6-0f32-4bce-acc2-f7182342d975          0001       0.34       0.3   \n",
       "14  f833943c-5fa3-448c-a1a3-c757a5cb1c49          0015       0.34       0.3   \n",
       "\n",
       "   treeLimit close minDuration check    raw_F1  ... vector_FPR vector_F1  \\\n",
       "0         23  0.25         0.3  True  0.435722  ...   0.000687  0.460323   \n",
       "14        23  0.25         0.3  True  0.466368  ...   0.000441  0.490266   \n",
       "\n",
       "   vector_TS final_count gt_count  event_F1 event_Precision event_Recall  \\\n",
       "0   0.298974         478     1044  0.579501        0.922594     0.422414   \n",
       "14  0.324737          83       97  0.588889        0.638554     0.546392   \n",
       "\n",
       "    event_TS thres_prob_optimal  \n",
       "0   0.407956           0.052632  \n",
       "14  0.417323           0.210526  \n",
       "\n",
       "[2 rows x 26 columns]"
      ]
     },
     "execution_count": 130,
     "metadata": {},
     "output_type": "execute_result"
    }
   ],
   "source": [
    "aux[aux.testSubjectId.isin(['0001','0015'])]"
   ]
  },
  {
   "cell_type": "code",
   "execution_count": null,
   "metadata": {},
   "outputs": [
    {
     "data": {
      "application/vnd.plotly.v1+json": {
       "config": {
        "plotlyServerURL": "https://plot.ly"
       },
       "data": [
        {
         "hovertemplate": "thres_prob_optimal=%{x}<br>event_F1=%{y}<br>testSubjectId=%{text}<extra></extra>",
         "legendgroup": "",
         "marker": {
          "color": "#636efa",
          "symbol": "circle"
         },
         "mode": "markers+text",
         "name": "",
         "orientation": "h",
         "showlegend": false,
         "text": [
          "0001",
          "0002",
          "0003",
          "0004",
          "0005",
          "0006",
          "0007",
          "0008",
          "0009",
          "0010",
          "0011",
          "0012",
          "0013",
          "0014",
          "0015",
          "0016",
          "0017",
          "0018",
          "0019"
         ],
         "type": "scatter",
         "x": [
          0.05263157894736842,
          0.2631578947368421,
          0.3157894736842105,
          0.42105263157894735,
          0.3684210526315789,
          0.3157894736842105,
          0.5263157894736842,
          0.2631578947368421,
          0.15789473684210525,
          0.3157894736842105,
          0.42105263157894735,
          0.2631578947368421,
          0.5263157894736842,
          0.631578947368421,
          0.21052631578947367,
          0.3684210526315789,
          0.2631578947368421,
          0.2631578947368421,
          0.5789473684210527
         ],
         "xaxis": "x",
         "y": [
          0.5795006570302234,
          0.7927332782824112,
          0.6883116883116883,
          0.6265389876880985,
          0.707196029776675,
          0.6413043478260869,
          0.6158964879852126,
          0.7165259348612787,
          0.7599451303155007,
          0.7491712707182321,
          0.7002457002457002,
          0.7209612817089452,
          0.6564356435643565,
          0.5726245290916702,
          0.5888888888888889,
          0.706209453197405,
          0.7302564102564103,
          0.7867740568037304,
          0.5769585253456221
         ],
         "yaxis": "y"
        },
        {
         "alignmentgroup": "True",
         "bingroup": "y",
         "hovertemplate": "event_F1=%{y}<br>count=%{x}<extra></extra>",
         "legendgroup": "",
         "marker": {
          "color": "#636efa"
         },
         "name": "",
         "offsetgroup": "",
         "opacity": 0.5,
         "showlegend": false,
         "type": "histogram",
         "xaxis": "x2",
         "y": [
          0.5795006570302234,
          0.7927332782824112,
          0.6883116883116883,
          0.6265389876880985,
          0.707196029776675,
          0.6413043478260869,
          0.6158964879852126,
          0.7165259348612787,
          0.7599451303155007,
          0.7491712707182321,
          0.7002457002457002,
          0.7209612817089452,
          0.6564356435643565,
          0.5726245290916702,
          0.5888888888888889,
          0.706209453197405,
          0.7302564102564103,
          0.7867740568037304,
          0.5769585253456221
         ],
         "yaxis": "y2"
        }
       ],
       "layout": {
        "barmode": "overlay",
        "legend": {
         "tracegroupgap": 0
        },
        "margin": {
         "t": 60
        },
        "template": {
         "data": {
          "bar": [
           {
            "error_x": {
             "color": "#2a3f5f"
            },
            "error_y": {
             "color": "#2a3f5f"
            },
            "marker": {
             "line": {
              "color": "#E5ECF6",
              "width": 0.5
             },
             "pattern": {
              "fillmode": "overlay",
              "size": 10,
              "solidity": 0.2
             }
            },
            "type": "bar"
           }
          ],
          "barpolar": [
           {
            "marker": {
             "line": {
              "color": "#E5ECF6",
              "width": 0.5
             },
             "pattern": {
              "fillmode": "overlay",
              "size": 10,
              "solidity": 0.2
             }
            },
            "type": "barpolar"
           }
          ],
          "carpet": [
           {
            "aaxis": {
             "endlinecolor": "#2a3f5f",
             "gridcolor": "white",
             "linecolor": "white",
             "minorgridcolor": "white",
             "startlinecolor": "#2a3f5f"
            },
            "baxis": {
             "endlinecolor": "#2a3f5f",
             "gridcolor": "white",
             "linecolor": "white",
             "minorgridcolor": "white",
             "startlinecolor": "#2a3f5f"
            },
            "type": "carpet"
           }
          ],
          "choropleth": [
           {
            "colorbar": {
             "outlinewidth": 0,
             "ticks": ""
            },
            "type": "choropleth"
           }
          ],
          "contour": [
           {
            "colorbar": {
             "outlinewidth": 0,
             "ticks": ""
            },
            "colorscale": [
             [
              0,
              "#0d0887"
             ],
             [
              0.1111111111111111,
              "#46039f"
             ],
             [
              0.2222222222222222,
              "#7201a8"
             ],
             [
              0.3333333333333333,
              "#9c179e"
             ],
             [
              0.4444444444444444,
              "#bd3786"
             ],
             [
              0.5555555555555556,
              "#d8576b"
             ],
             [
              0.6666666666666666,
              "#ed7953"
             ],
             [
              0.7777777777777778,
              "#fb9f3a"
             ],
             [
              0.8888888888888888,
              "#fdca26"
             ],
             [
              1,
              "#f0f921"
             ]
            ],
            "type": "contour"
           }
          ],
          "contourcarpet": [
           {
            "colorbar": {
             "outlinewidth": 0,
             "ticks": ""
            },
            "type": "contourcarpet"
           }
          ],
          "heatmap": [
           {
            "colorbar": {
             "outlinewidth": 0,
             "ticks": ""
            },
            "colorscale": [
             [
              0,
              "#0d0887"
             ],
             [
              0.1111111111111111,
              "#46039f"
             ],
             [
              0.2222222222222222,
              "#7201a8"
             ],
             [
              0.3333333333333333,
              "#9c179e"
             ],
             [
              0.4444444444444444,
              "#bd3786"
             ],
             [
              0.5555555555555556,
              "#d8576b"
             ],
             [
              0.6666666666666666,
              "#ed7953"
             ],
             [
              0.7777777777777778,
              "#fb9f3a"
             ],
             [
              0.8888888888888888,
              "#fdca26"
             ],
             [
              1,
              "#f0f921"
             ]
            ],
            "type": "heatmap"
           }
          ],
          "heatmapgl": [
           {
            "colorbar": {
             "outlinewidth": 0,
             "ticks": ""
            },
            "colorscale": [
             [
              0,
              "#0d0887"
             ],
             [
              0.1111111111111111,
              "#46039f"
             ],
             [
              0.2222222222222222,
              "#7201a8"
             ],
             [
              0.3333333333333333,
              "#9c179e"
             ],
             [
              0.4444444444444444,
              "#bd3786"
             ],
             [
              0.5555555555555556,
              "#d8576b"
             ],
             [
              0.6666666666666666,
              "#ed7953"
             ],
             [
              0.7777777777777778,
              "#fb9f3a"
             ],
             [
              0.8888888888888888,
              "#fdca26"
             ],
             [
              1,
              "#f0f921"
             ]
            ],
            "type": "heatmapgl"
           }
          ],
          "histogram": [
           {
            "marker": {
             "pattern": {
              "fillmode": "overlay",
              "size": 10,
              "solidity": 0.2
             }
            },
            "type": "histogram"
           }
          ],
          "histogram2d": [
           {
            "colorbar": {
             "outlinewidth": 0,
             "ticks": ""
            },
            "colorscale": [
             [
              0,
              "#0d0887"
             ],
             [
              0.1111111111111111,
              "#46039f"
             ],
             [
              0.2222222222222222,
              "#7201a8"
             ],
             [
              0.3333333333333333,
              "#9c179e"
             ],
             [
              0.4444444444444444,
              "#bd3786"
             ],
             [
              0.5555555555555556,
              "#d8576b"
             ],
             [
              0.6666666666666666,
              "#ed7953"
             ],
             [
              0.7777777777777778,
              "#fb9f3a"
             ],
             [
              0.8888888888888888,
              "#fdca26"
             ],
             [
              1,
              "#f0f921"
             ]
            ],
            "type": "histogram2d"
           }
          ],
          "histogram2dcontour": [
           {
            "colorbar": {
             "outlinewidth": 0,
             "ticks": ""
            },
            "colorscale": [
             [
              0,
              "#0d0887"
             ],
             [
              0.1111111111111111,
              "#46039f"
             ],
             [
              0.2222222222222222,
              "#7201a8"
             ],
             [
              0.3333333333333333,
              "#9c179e"
             ],
             [
              0.4444444444444444,
              "#bd3786"
             ],
             [
              0.5555555555555556,
              "#d8576b"
             ],
             [
              0.6666666666666666,
              "#ed7953"
             ],
             [
              0.7777777777777778,
              "#fb9f3a"
             ],
             [
              0.8888888888888888,
              "#fdca26"
             ],
             [
              1,
              "#f0f921"
             ]
            ],
            "type": "histogram2dcontour"
           }
          ],
          "mesh3d": [
           {
            "colorbar": {
             "outlinewidth": 0,
             "ticks": ""
            },
            "type": "mesh3d"
           }
          ],
          "parcoords": [
           {
            "line": {
             "colorbar": {
              "outlinewidth": 0,
              "ticks": ""
             }
            },
            "type": "parcoords"
           }
          ],
          "pie": [
           {
            "automargin": true,
            "type": "pie"
           }
          ],
          "scatter": [
           {
            "fillpattern": {
             "fillmode": "overlay",
             "size": 10,
             "solidity": 0.2
            },
            "type": "scatter"
           }
          ],
          "scatter3d": [
           {
            "line": {
             "colorbar": {
              "outlinewidth": 0,
              "ticks": ""
             }
            },
            "marker": {
             "colorbar": {
              "outlinewidth": 0,
              "ticks": ""
             }
            },
            "type": "scatter3d"
           }
          ],
          "scattercarpet": [
           {
            "marker": {
             "colorbar": {
              "outlinewidth": 0,
              "ticks": ""
             }
            },
            "type": "scattercarpet"
           }
          ],
          "scattergeo": [
           {
            "marker": {
             "colorbar": {
              "outlinewidth": 0,
              "ticks": ""
             }
            },
            "type": "scattergeo"
           }
          ],
          "scattergl": [
           {
            "marker": {
             "colorbar": {
              "outlinewidth": 0,
              "ticks": ""
             }
            },
            "type": "scattergl"
           }
          ],
          "scattermapbox": [
           {
            "marker": {
             "colorbar": {
              "outlinewidth": 0,
              "ticks": ""
             }
            },
            "type": "scattermapbox"
           }
          ],
          "scatterpolar": [
           {
            "marker": {
             "colorbar": {
              "outlinewidth": 0,
              "ticks": ""
             }
            },
            "type": "scatterpolar"
           }
          ],
          "scatterpolargl": [
           {
            "marker": {
             "colorbar": {
              "outlinewidth": 0,
              "ticks": ""
             }
            },
            "type": "scatterpolargl"
           }
          ],
          "scatterternary": [
           {
            "marker": {
             "colorbar": {
              "outlinewidth": 0,
              "ticks": ""
             }
            },
            "type": "scatterternary"
           }
          ],
          "surface": [
           {
            "colorbar": {
             "outlinewidth": 0,
             "ticks": ""
            },
            "colorscale": [
             [
              0,
              "#0d0887"
             ],
             [
              0.1111111111111111,
              "#46039f"
             ],
             [
              0.2222222222222222,
              "#7201a8"
             ],
             [
              0.3333333333333333,
              "#9c179e"
             ],
             [
              0.4444444444444444,
              "#bd3786"
             ],
             [
              0.5555555555555556,
              "#d8576b"
             ],
             [
              0.6666666666666666,
              "#ed7953"
             ],
             [
              0.7777777777777778,
              "#fb9f3a"
             ],
             [
              0.8888888888888888,
              "#fdca26"
             ],
             [
              1,
              "#f0f921"
             ]
            ],
            "type": "surface"
           }
          ],
          "table": [
           {
            "cells": {
             "fill": {
              "color": "#EBF0F8"
             },
             "line": {
              "color": "white"
             }
            },
            "header": {
             "fill": {
              "color": "#C8D4E3"
             },
             "line": {
              "color": "white"
             }
            },
            "type": "table"
           }
          ]
         },
         "layout": {
          "annotationdefaults": {
           "arrowcolor": "#2a3f5f",
           "arrowhead": 0,
           "arrowwidth": 1
          },
          "autotypenumbers": "strict",
          "coloraxis": {
           "colorbar": {
            "outlinewidth": 0,
            "ticks": ""
           }
          },
          "colorscale": {
           "diverging": [
            [
             0,
             "#8e0152"
            ],
            [
             0.1,
             "#c51b7d"
            ],
            [
             0.2,
             "#de77ae"
            ],
            [
             0.3,
             "#f1b6da"
            ],
            [
             0.4,
             "#fde0ef"
            ],
            [
             0.5,
             "#f7f7f7"
            ],
            [
             0.6,
             "#e6f5d0"
            ],
            [
             0.7,
             "#b8e186"
            ],
            [
             0.8,
             "#7fbc41"
            ],
            [
             0.9,
             "#4d9221"
            ],
            [
             1,
             "#276419"
            ]
           ],
           "sequential": [
            [
             0,
             "#0d0887"
            ],
            [
             0.1111111111111111,
             "#46039f"
            ],
            [
             0.2222222222222222,
             "#7201a8"
            ],
            [
             0.3333333333333333,
             "#9c179e"
            ],
            [
             0.4444444444444444,
             "#bd3786"
            ],
            [
             0.5555555555555556,
             "#d8576b"
            ],
            [
             0.6666666666666666,
             "#ed7953"
            ],
            [
             0.7777777777777778,
             "#fb9f3a"
            ],
            [
             0.8888888888888888,
             "#fdca26"
            ],
            [
             1,
             "#f0f921"
            ]
           ],
           "sequentialminus": [
            [
             0,
             "#0d0887"
            ],
            [
             0.1111111111111111,
             "#46039f"
            ],
            [
             0.2222222222222222,
             "#7201a8"
            ],
            [
             0.3333333333333333,
             "#9c179e"
            ],
            [
             0.4444444444444444,
             "#bd3786"
            ],
            [
             0.5555555555555556,
             "#d8576b"
            ],
            [
             0.6666666666666666,
             "#ed7953"
            ],
            [
             0.7777777777777778,
             "#fb9f3a"
            ],
            [
             0.8888888888888888,
             "#fdca26"
            ],
            [
             1,
             "#f0f921"
            ]
           ]
          },
          "colorway": [
           "#636efa",
           "#EF553B",
           "#00cc96",
           "#ab63fa",
           "#FFA15A",
           "#19d3f3",
           "#FF6692",
           "#B6E880",
           "#FF97FF",
           "#FECB52"
          ],
          "font": {
           "color": "#2a3f5f"
          },
          "geo": {
           "bgcolor": "white",
           "lakecolor": "white",
           "landcolor": "#E5ECF6",
           "showlakes": true,
           "showland": true,
           "subunitcolor": "white"
          },
          "hoverlabel": {
           "align": "left"
          },
          "hovermode": "closest",
          "mapbox": {
           "style": "light"
          },
          "paper_bgcolor": "white",
          "plot_bgcolor": "#E5ECF6",
          "polar": {
           "angularaxis": {
            "gridcolor": "white",
            "linecolor": "white",
            "ticks": ""
           },
           "bgcolor": "#E5ECF6",
           "radialaxis": {
            "gridcolor": "white",
            "linecolor": "white",
            "ticks": ""
           }
          },
          "scene": {
           "xaxis": {
            "backgroundcolor": "#E5ECF6",
            "gridcolor": "white",
            "gridwidth": 2,
            "linecolor": "white",
            "showbackground": true,
            "ticks": "",
            "zerolinecolor": "white"
           },
           "yaxis": {
            "backgroundcolor": "#E5ECF6",
            "gridcolor": "white",
            "gridwidth": 2,
            "linecolor": "white",
            "showbackground": true,
            "ticks": "",
            "zerolinecolor": "white"
           },
           "zaxis": {
            "backgroundcolor": "#E5ECF6",
            "gridcolor": "white",
            "gridwidth": 2,
            "linecolor": "white",
            "showbackground": true,
            "ticks": "",
            "zerolinecolor": "white"
           }
          },
          "shapedefaults": {
           "line": {
            "color": "#2a3f5f"
           }
          },
          "ternary": {
           "aaxis": {
            "gridcolor": "white",
            "linecolor": "white",
            "ticks": ""
           },
           "baxis": {
            "gridcolor": "white",
            "linecolor": "white",
            "ticks": ""
           },
           "bgcolor": "#E5ECF6",
           "caxis": {
            "gridcolor": "white",
            "linecolor": "white",
            "ticks": ""
           }
          },
          "title": {
           "x": 0.05
          },
          "xaxis": {
           "automargin": true,
           "gridcolor": "white",
           "linecolor": "white",
           "ticks": "",
           "title": {
            "standoff": 15
           },
           "zerolinecolor": "white",
           "zerolinewidth": 2
          },
          "yaxis": {
           "automargin": true,
           "gridcolor": "white",
           "linecolor": "white",
           "ticks": "",
           "title": {
            "standoff": 15
           },
           "zerolinecolor": "white",
           "zerolinewidth": 2
          }
         }
        },
        "xaxis": {
         "anchor": "y",
         "domain": [
          0,
          0.7363
         ],
         "title": {
          "text": "thres_prob_optimal"
         }
        },
        "xaxis2": {
         "anchor": "y2",
         "domain": [
          0.7413,
          1
         ],
         "matches": "x2",
         "showgrid": true,
         "showline": false,
         "showticklabels": false,
         "ticks": ""
        },
        "yaxis": {
         "anchor": "x",
         "domain": [
          0,
          1
         ],
         "title": {
          "text": "event_F1"
         }
        },
        "yaxis2": {
         "anchor": "x2",
         "domain": [
          0,
          1
         ],
         "matches": "y",
         "showgrid": true,
         "showticklabels": false
        }
       }
      }
     },
     "metadata": {},
     "output_type": "display_data"
    }
   ],
   "source": [
    "fig=px.scatter(aux,x=\"thres_prob_optimal\",y=\"event_F1\", marginal_y=\"histogram\",text=\"testSubjectId\")\n",
    "fig.show()"
   ]
  },
  {
   "cell_type": "code",
   "execution_count": null,
   "metadata": {},
   "outputs": [],
   "source": [
    "reported=['0002','0006','0012','0013']"
   ]
  },
  {
   "cell_type": "code",
   "execution_count": null,
   "metadata": {},
   "outputs": [
    {
     "name": "stdout",
     "output_type": "stream",
     "text": [
      "event F1 mean: 0.7127520058337088\n",
      "event F1 std: 0.04455649984810326\n"
     ]
    }
   ],
   "source": [
    "print(\"event F1 mean: \"+str(np.mean(modelMetrics[modelMetrics.testSubjectId.isin(reported)].event_F1)))\n",
    "print(\"event F1 std: \"+str(np.std(modelMetrics[modelMetrics.testSubjectId.isin(reported)].event_F1)))"
   ]
  },
  {
   "cell_type": "code",
   "execution_count": null,
   "metadata": {},
   "outputs": [
    {
     "name": "stdout",
     "output_type": "stream",
     "text": [
      "event Recall mean: 0.7794780887930006\n",
      "event Recall std: 0.09527160428849156\n"
     ]
    }
   ],
   "source": [
    "print(\"event Recall mean: \"+str(np.mean(modelMetrics[modelMetrics.testSubjectId.isin(reported)].event_Recall)))\n",
    "print(\"event Recall std: \"+str(np.std(modelMetrics[modelMetrics.testSubjectId.isin(reported)].event_Recall)))"
   ]
  },
  {
   "cell_type": "code",
   "execution_count": null,
   "metadata": {},
   "outputs": [
    {
     "name": "stdout",
     "output_type": "stream",
     "text": [
      "event Precision mean: 0.6728901340484549\n",
      "event Precision std: 0.0946730712036972\n"
     ]
    }
   ],
   "source": [
    "print(\"event Precision mean: \"+str(np.mean(modelMetrics[modelMetrics.testSubjectId.isin(reported)].event_Precision)))\n",
    "print(\"event Precision std: \"+str(np.std(modelMetrics[modelMetrics.testSubjectId.isin(reported)].event_Precision)))"
   ]
  },
  {
   "cell_type": "markdown",
   "metadata": {},
   "source": [
    "## Study the sleep stages\n",
    "as per Tapia and Estevez 2020 states that \"N2 epochs from the C3-CLE EEG channel were used because annotated sleep events are available only for this sleep stage and channel\", let's look into it"
   ]
  },
  {
   "cell_type": "code",
   "execution_count": 31,
   "metadata": {},
   "outputs": [
    {
     "data": {
      "text/html": [
       "<div>\n",
       "<style scoped>\n",
       "    .dataframe tbody tr th:only-of-type {\n",
       "        vertical-align: middle;\n",
       "    }\n",
       "\n",
       "    .dataframe tbody tr th {\n",
       "        vertical-align: top;\n",
       "    }\n",
       "\n",
       "    .dataframe thead th {\n",
       "        text-align: right;\n",
       "    }\n",
       "</style>\n",
       "<table border=\"1\" class=\"dataframe\">\n",
       "  <thead>\n",
       "    <tr style=\"text-align: right;\">\n",
       "      <th></th>\n",
       "      <th>subjectId</th>\n",
       "      <th>type</th>\n",
       "      <th>startTime</th>\n",
       "      <th>duration</th>\n",
       "      <th>value</th>\n",
       "      <th>comment</th>\n",
       "    </tr>\n",
       "  </thead>\n",
       "  <tbody>\n",
       "    <tr>\n",
       "      <th>0</th>\n",
       "      <td>0001</td>\n",
       "      <td>stage</td>\n",
       "      <td>560.758313</td>\n",
       "      <td>19.998720</td>\n",
       "      <td>NaN</td>\n",
       "      <td>Sleep stage ?</td>\n",
       "    </tr>\n",
       "    <tr>\n",
       "      <th>1</th>\n",
       "      <td>0001</td>\n",
       "      <td>stage</td>\n",
       "      <td>580.758313</td>\n",
       "      <td>20.002626</td>\n",
       "      <td>NaN</td>\n",
       "      <td>Sleep stage ?</td>\n",
       "    </tr>\n",
       "    <tr>\n",
       "      <th>2</th>\n",
       "      <td>0001</td>\n",
       "      <td>stage</td>\n",
       "      <td>600.758313</td>\n",
       "      <td>19.998720</td>\n",
       "      <td>NaN</td>\n",
       "      <td>Sleep stage ?</td>\n",
       "    </tr>\n",
       "    <tr>\n",
       "      <th>3</th>\n",
       "      <td>0001</td>\n",
       "      <td>stage</td>\n",
       "      <td>620.758313</td>\n",
       "      <td>19.998720</td>\n",
       "      <td>NaN</td>\n",
       "      <td>Sleep stage ?</td>\n",
       "    </tr>\n",
       "    <tr>\n",
       "      <th>4</th>\n",
       "      <td>0001</td>\n",
       "      <td>stage</td>\n",
       "      <td>640.758314</td>\n",
       "      <td>20.002626</td>\n",
       "      <td>NaN</td>\n",
       "      <td>Sleep stage ?</td>\n",
       "    </tr>\n",
       "  </tbody>\n",
       "</table>\n",
       "</div>"
      ],
      "text/plain": [
       "  subjectId   type   startTime   duration  value        comment\n",
       "0      0001  stage  560.758313  19.998720    NaN  Sleep stage ?\n",
       "1      0001  stage  580.758313  20.002626    NaN  Sleep stage ?\n",
       "2      0001  stage  600.758313  19.998720    NaN  Sleep stage ?\n",
       "3      0001  stage  620.758313  19.998720    NaN  Sleep stage ?\n",
       "4      0001  stage  640.758314  20.002626    NaN  Sleep stage ?"
      ]
     },
     "execution_count": 31,
     "metadata": {},
     "output_type": "execute_result"
    }
   ],
   "source": [
    "stagesAnnotations=pd.read_csv(datapath+\"\\MASS\\stages\\stages.csv\")\n",
    "stagesAnnotations['subjectId']=stagesAnnotations.apply(\n",
    "    lambda row: str(row.subjectId).zfill(4),axis=1)\n",
    "stagesAnnotations.head(5)"
   ]
  },
  {
   "cell_type": "code",
   "execution_count": 32,
   "metadata": {},
   "outputs": [],
   "source": [
    "stagesAnnotations['stopTime']=stagesAnnotations.apply(\n",
    "    lambda row: row.startTime+row.duration , axis=1)\n",
    "stagesAnnotations['startInd']=stagesAnnotations.apply(\n",
    "    lambda row: seconds2index(row.startTime,samplerate) , axis=1)\n",
    "stagesAnnotations['stopInd']=stagesAnnotations.apply(\n",
    "    lambda row: seconds2index(row.stopTime,samplerate) , axis=1)"
   ]
  },
  {
   "cell_type": "code",
   "execution_count": 187,
   "metadata": {},
   "outputs": [],
   "source": [
    "subjectId='0012'\n",
    "thisStages=stagesAnnotations[stagesAnnotations.subjectId==subjectId]"
   ]
  },
  {
   "cell_type": "code",
   "execution_count": 188,
   "metadata": {},
   "outputs": [],
   "source": [
    "aux=signalsMetadata[signalsMetadata.subjectId==subjectId].reset_index(drop=True)\n",
    "signalLength=aux.duration[0]*aux.samplerate[0]"
   ]
  },
  {
   "cell_type": "code",
   "execution_count": 189,
   "metadata": {},
   "outputs": [],
   "source": [
    "testLabels=loadLabelsVector([subjectId],usedAnnotations,signalsMetadata,samplerate)"
   ]
  },
  {
   "cell_type": "code",
   "execution_count": 190,
   "metadata": {},
   "outputs": [
    {
     "data": {
      "image/png": "[encoded data removed]",
      "text/plain": [
       "<Figure size 640x480 with 1 Axes>"
      ]
     },
     "metadata": {},
     "output_type": "display_data"
    }
   ],
   "source": [
    "hipnogram=np.zeros((int(signalLength),))\n",
    "for ind, row in thisStages.iterrows():\n",
    "    hipnogram[row.startInd:row.stopInd]=row.value\n",
    "plt.plot(4*testLabels)\n",
    "plt.plot(hipnogram)\n",
    "plt.show()"
   ]
  },
  {
   "cell_type": "code",
   "execution_count": 202,
   "metadata": {},
   "outputs": [
    {
     "data": {
      "image/png": "[encoded data removed]",
      "text/plain": [
       "<Figure size 640x480 with 1 Axes>"
      ]
     },
     "metadata": {},
     "output_type": "display_data"
    }
   ],
   "source": [
    "check=testLabels*hipnogram\n",
    "plt.plot(check)\n",
    "plt.show()"
   ]
  },
  {
   "cell_type": "code",
   "execution_count": 192,
   "metadata": {},
   "outputs": [
    {
     "data": {
      "text/plain": [
       "array([ 0.,  2.,  3., nan])"
      ]
     },
     "execution_count": 192,
     "metadata": {},
     "output_type": "execute_result"
    }
   ],
   "source": [
    "np.unique(check)"
   ]
  },
  {
   "cell_type": "code",
   "execution_count": 193,
   "metadata": {},
   "outputs": [
    {
     "data": {
      "text/plain": [
       "707"
      ]
     },
     "execution_count": 193,
     "metadata": {},
     "output_type": "execute_result"
    }
   ],
   "source": [
    "testAnnotations=labelVectorToAnnotations(check==2,samplerate)\n",
    "len(testAnnotations)"
   ]
  },
  {
   "cell_type": "code",
   "execution_count": 194,
   "metadata": {},
   "outputs": [],
   "source": [
    "uuid=modelMetrics[modelMetrics.testSubjectId==subjectId].reset_index(drop=True).modelId[0]"
   ]
  },
  {
   "cell_type": "code",
   "execution_count": 195,
   "metadata": {},
   "outputs": [],
   "source": [
    "finalLabels=excerptAnnotationsToLabels(allFinalAnnotations[uuid],len(testLabels))"
   ]
  },
  {
   "cell_type": "code",
   "execution_count": 196,
   "metadata": {},
   "outputs": [],
   "source": [
    "labelsN2=finalLabels*(hipnogram==2)"
   ]
  },
  {
   "cell_type": "code",
   "execution_count": 216,
   "metadata": {},
   "outputs": [
    {
     "data": {
      "image/png": "[encoded data removed]",
      "text/plain": [
       "<Figure size 640x480 with 1 Axes>"
      ]
     },
     "metadata": {},
     "output_type": "display_data"
    }
   ],
   "source": [
    "plt.plot(check)\n",
    "plt.plot(finalLabels)\n",
    "plt.show()"
   ]
  },
  {
   "cell_type": "code",
   "execution_count": 217,
   "metadata": {},
   "outputs": [
    {
     "data": {
      "image/png": "[encoded data removed]",
      "text/plain": [
       "<Figure size 640x480 with 1 Axes>"
      ]
     },
     "metadata": {},
     "output_type": "display_data"
    }
   ],
   "source": [
    "#zoom on the N3 spindles (only 2 on signal 0012)\n",
    "plt.plot(check[290000:310000])\n",
    "plt.plot(finalLabels[290000:310000])\n",
    "plt.show()"
   ]
  },
  {
   "cell_type": "code",
   "execution_count": 197,
   "metadata": {},
   "outputs": [
    {
     "data": {
      "text/plain": [
       "579"
      ]
     },
     "execution_count": 197,
     "metadata": {},
     "output_type": "execute_result"
    }
   ],
   "source": [
    "annotationsN2=labelVectorToAnnotations(labelsN2,samplerate)\n",
    "len(annotationsN2)"
   ]
  },
  {
   "cell_type": "code",
   "execution_count": 198,
   "metadata": {},
   "outputs": [
    {
     "data": {
      "text/plain": [
       "664"
      ]
     },
     "execution_count": 198,
     "metadata": {},
     "output_type": "execute_result"
    }
   ],
   "source": [
    "len(allFinalAnnotations[uuid])"
   ]
  },
  {
   "cell_type": "code",
   "execution_count": 199,
   "metadata": {},
   "outputs": [
    {
     "data": {
      "text/html": [
       "<div>\n",
       "<style scoped>\n",
       "    .dataframe tbody tr th:only-of-type {\n",
       "        vertical-align: middle;\n",
       "    }\n",
       "\n",
       "    .dataframe tbody tr th {\n",
       "        vertical-align: top;\n",
       "    }\n",
       "\n",
       "    .dataframe thead th {\n",
       "        text-align: right;\n",
       "    }\n",
       "</style>\n",
       "<table border=\"1\" class=\"dataframe\">\n",
       "  <thead>\n",
       "    <tr style=\"text-align: right;\">\n",
       "      <th></th>\n",
       "      <th>startInd</th>\n",
       "      <th>stopInd</th>\n",
       "      <th>duration</th>\n",
       "    </tr>\n",
       "  </thead>\n",
       "  <tbody>\n",
       "    <tr>\n",
       "      <th>0</th>\n",
       "      <td>162906</td>\n",
       "      <td>162985</td>\n",
       "      <td>0.395</td>\n",
       "    </tr>\n",
       "    <tr>\n",
       "      <th>1</th>\n",
       "      <td>178470</td>\n",
       "      <td>178637</td>\n",
       "      <td>0.835</td>\n",
       "    </tr>\n",
       "    <tr>\n",
       "      <th>2</th>\n",
       "      <td>197692</td>\n",
       "      <td>197787</td>\n",
       "      <td>0.475</td>\n",
       "    </tr>\n",
       "    <tr>\n",
       "      <th>3</th>\n",
       "      <td>198942</td>\n",
       "      <td>199031</td>\n",
       "      <td>0.445</td>\n",
       "    </tr>\n",
       "    <tr>\n",
       "      <th>4</th>\n",
       "      <td>199804</td>\n",
       "      <td>199886</td>\n",
       "      <td>0.410</td>\n",
       "    </tr>\n",
       "    <tr>\n",
       "      <th>...</th>\n",
       "      <td>...</td>\n",
       "      <td>...</td>\n",
       "      <td>...</td>\n",
       "    </tr>\n",
       "    <tr>\n",
       "      <th>572</th>\n",
       "      <td>6017084</td>\n",
       "      <td>6017154</td>\n",
       "      <td>0.350</td>\n",
       "    </tr>\n",
       "    <tr>\n",
       "      <th>573</th>\n",
       "      <td>6019404</td>\n",
       "      <td>6019475</td>\n",
       "      <td>0.355</td>\n",
       "    </tr>\n",
       "    <tr>\n",
       "      <th>574</th>\n",
       "      <td>6020038</td>\n",
       "      <td>6020105</td>\n",
       "      <td>0.335</td>\n",
       "    </tr>\n",
       "    <tr>\n",
       "      <th>575</th>\n",
       "      <td>6021146</td>\n",
       "      <td>6021231</td>\n",
       "      <td>0.425</td>\n",
       "    </tr>\n",
       "    <tr>\n",
       "      <th>576</th>\n",
       "      <td>6054913</td>\n",
       "      <td>6054997</td>\n",
       "      <td>0.420</td>\n",
       "    </tr>\n",
       "  </tbody>\n",
       "</table>\n",
       "<p>577 rows × 3 columns</p>\n",
       "</div>"
      ],
      "text/plain": [
       "     startInd  stopInd  duration\n",
       "0      162906   162985     0.395\n",
       "1      178470   178637     0.835\n",
       "2      197692   197787     0.475\n",
       "3      198942   199031     0.445\n",
       "4      199804   199886     0.410\n",
       "..        ...      ...       ...\n",
       "572   6017084  6017154     0.350\n",
       "573   6019404  6019475     0.355\n",
       "574   6020038  6020105     0.335\n",
       "575   6021146  6021231     0.425\n",
       "576   6054913  6054997     0.420\n",
       "\n",
       "[577 rows x 3 columns]"
      ]
     },
     "execution_count": 199,
     "metadata": {},
     "output_type": "execute_result"
    }
   ],
   "source": [
    "annotationsN2=annotationsN2[annotationsN2.duration>=hyperDuration].reset_index(drop=True)\n",
    "annotationsN2"
   ]
  },
  {
   "cell_type": "code",
   "execution_count": 200,
   "metadata": {},
   "outputs": [],
   "source": [
    "gtAnnotations=labelVectorToAnnotations(testLabels,200)\n",
    "\n",
    "event_tp,event_fp,event_fn = byEventEvaluation(gtAnnotations,annotationsN2,thres_IoU=0.3)\n",
    "#consistency check\n",
    "check=event_tp*2+event_fp+event_fn==len(gtAnnotations)+len(annotationsN2)\n",
    "#calculate metrics\n",
    "event_F1=2*event_tp/(2*event_tp+event_fp+event_fn)\n",
    "event_Precision=event_tp/(event_tp+event_fp)\n",
    "event_Recall=event_tp/(event_tp+event_fn)\n",
    "event_TS=event_tp/(event_tp+event_fn+event_fp)"
   ]
  },
  {
   "cell_type": "code",
   "execution_count": 221,
   "metadata": {},
   "outputs": [
    {
     "data": {
      "image/png": "[encoded data removed]",
      "text/plain": [
       "<Figure size 640x480 with 1 Axes>"
      ]
     },
     "metadata": {},
     "output_type": "display_data"
    }
   ],
   "source": [
    "plt.hist(annotationsN2.duration,bins=50)\n",
    "plt.hist(gtAnnotations.duration,bins=50)\n",
    "plt.show()"
   ]
  },
  {
   "cell_type": "code",
   "execution_count": 175,
   "metadata": {},
   "outputs": [
    {
     "data": {
      "text/plain": [
       "0.7527216174183515"
      ]
     },
     "execution_count": 175,
     "metadata": {},
     "output_type": "execute_result"
    }
   ],
   "source": [
    "event_F1"
   ]
  },
  {
   "cell_type": "code",
   "execution_count": 176,
   "metadata": {},
   "outputs": [
    {
     "data": {
      "text/plain": [
       "0.8388214904679376"
      ]
     },
     "execution_count": 176,
     "metadata": {},
     "output_type": "execute_result"
    }
   ],
   "source": [
    "event_Precision"
   ]
  },
  {
   "cell_type": "code",
   "execution_count": 177,
   "metadata": {},
   "outputs": [
    {
     "data": {
      "text/plain": [
       "0.6826516220028209"
      ]
     },
     "execution_count": 177,
     "metadata": {},
     "output_type": "execute_result"
    }
   ],
   "source": [
    "event_Recall"
   ]
  },
  {
   "cell_type": "code",
   "execution_count": 178,
   "metadata": {},
   "outputs": [
    {
     "data": {
      "text/plain": [
       "484"
      ]
     },
     "execution_count": 178,
     "metadata": {},
     "output_type": "execute_result"
    }
   ],
   "source": [
    "event_tp"
   ]
  },
  {
   "cell_type": "code",
   "execution_count": 179,
   "metadata": {},
   "outputs": [
    {
     "data": {
      "text/plain": [
       "93"
      ]
     },
     "execution_count": 179,
     "metadata": {},
     "output_type": "execute_result"
    }
   ],
   "source": [
    "event_fp"
   ]
  },
  {
   "cell_type": "code",
   "execution_count": 180,
   "metadata": {},
   "outputs": [
    {
     "data": {
      "text/plain": [
       "225"
      ]
     },
     "execution_count": 180,
     "metadata": {},
     "output_type": "execute_result"
    }
   ],
   "source": [
    "event_fn"
   ]
  },
  {
   "cell_type": "code",
   "execution_count": 119,
   "metadata": {},
   "outputs": [
    {
     "data": {
      "text/html": [
       "<div>\n",
       "<style scoped>\n",
       "    .dataframe tbody tr th:only-of-type {\n",
       "        vertical-align: middle;\n",
       "    }\n",
       "\n",
       "    .dataframe tbody tr th {\n",
       "        vertical-align: top;\n",
       "    }\n",
       "\n",
       "    .dataframe thead th {\n",
       "        text-align: right;\n",
       "    }\n",
       "</style>\n",
       "<table border=\"1\" class=\"dataframe\">\n",
       "  <thead>\n",
       "    <tr style=\"text-align: right;\">\n",
       "      <th></th>\n",
       "      <th>experimentId</th>\n",
       "      <th>modelId</th>\n",
       "      <th>testSubjectId</th>\n",
       "      <th>thres_prob</th>\n",
       "      <th>thres_IoU</th>\n",
       "      <th>treeLimit</th>\n",
       "      <th>close</th>\n",
       "      <th>minDuration</th>\n",
       "      <th>check</th>\n",
       "      <th>raw_F1</th>\n",
       "      <th>...</th>\n",
       "      <th>vector_Recall</th>\n",
       "      <th>vector_FPR</th>\n",
       "      <th>vector_F1</th>\n",
       "      <th>vector_TS</th>\n",
       "      <th>final_count</th>\n",
       "      <th>gt_count</th>\n",
       "      <th>event_F1</th>\n",
       "      <th>event_Precision</th>\n",
       "      <th>event_Recall</th>\n",
       "      <th>event_TS</th>\n",
       "    </tr>\n",
       "  </thead>\n",
       "  <tbody>\n",
       "    <tr>\n",
       "      <th>0</th>\n",
       "      <td>caa5287c-cb07-47ff-aba6-9c26eb22c40d</td>\n",
       "      <td>dfe10db6-0f32-4bce-acc2-f7182342d975</td>\n",
       "      <td>0001</td>\n",
       "      <td>0.4</td>\n",
       "      <td>0.3</td>\n",
       "      <td>23</td>\n",
       "      <td>0.25</td>\n",
       "      <td>0.3</td>\n",
       "      <td>True</td>\n",
       "      <td>0.37684</td>\n",
       "      <td>...</td>\n",
       "      <td>0.253136</td>\n",
       "      <td>0.000508</td>\n",
       "      <td>0.398708</td>\n",
       "      <td>0.248991</td>\n",
       "      <td>404</td>\n",
       "      <td>1044</td>\n",
       "      <td>0.513812</td>\n",
       "      <td>0.920792</td>\n",
       "      <td>0.356322</td>\n",
       "      <td>0.345725</td>\n",
       "    </tr>\n",
       "    <tr>\n",
       "      <th>1</th>\n",
       "      <td>caa5287c-cb07-47ff-aba6-9c26eb22c40d</td>\n",
       "      <td>a9db02e2-0d19-4cb2-8d0f-e403b4d1b817</td>\n",
       "      <td>0002</td>\n",
       "      <td>0.4</td>\n",
       "      <td>0.3</td>\n",
       "      <td>23</td>\n",
       "      <td>0.25</td>\n",
       "      <td>0.3</td>\n",
       "      <td>True</td>\n",
       "      <td>0.676664</td>\n",
       "      <td>...</td>\n",
       "      <td>0.61862</td>\n",
       "      <td>0.004092</td>\n",
       "      <td>0.701094</td>\n",
       "      <td>0.539757</td>\n",
       "      <td>1108</td>\n",
       "      <td>1143</td>\n",
       "      <td>0.783652</td>\n",
       "      <td>0.796029</td>\n",
       "      <td>0.771654</td>\n",
       "      <td>0.644266</td>\n",
       "    </tr>\n",
       "    <tr>\n",
       "      <th>2</th>\n",
       "      <td>caa5287c-cb07-47ff-aba6-9c26eb22c40d</td>\n",
       "      <td>41a7a7ab-da20-48bb-9303-f7d8007b8a6e</td>\n",
       "      <td>0003</td>\n",
       "      <td>0.4</td>\n",
       "      <td>0.3</td>\n",
       "      <td>23</td>\n",
       "      <td>0.25</td>\n",
       "      <td>0.3</td>\n",
       "      <td>True</td>\n",
       "      <td>0.58655</td>\n",
       "      <td>...</td>\n",
       "      <td>0.533688</td>\n",
       "      <td>0.000611</td>\n",
       "      <td>0.606244</td>\n",
       "      <td>0.434971</td>\n",
       "      <td>137</td>\n",
       "      <td>143</td>\n",
       "      <td>0.678571</td>\n",
       "      <td>0.693431</td>\n",
       "      <td>0.664336</td>\n",
       "      <td>0.513514</td>\n",
       "    </tr>\n",
       "    <tr>\n",
       "      <th>3</th>\n",
       "      <td>caa5287c-cb07-47ff-aba6-9c26eb22c40d</td>\n",
       "      <td>ab7f2287-b2cd-4566-bf38-be15170b98b9</td>\n",
       "      <td>0004</td>\n",
       "      <td>0.4</td>\n",
       "      <td>0.3</td>\n",
       "      <td>23</td>\n",
       "      <td>0.25</td>\n",
       "      <td>0.3</td>\n",
       "      <td>True</td>\n",
       "      <td>0.617049</td>\n",
       "      <td>...</td>\n",
       "      <td>0.698475</td>\n",
       "      <td>0.003719</td>\n",
       "      <td>0.637601</td>\n",
       "      <td>0.467999</td>\n",
       "      <td>392</td>\n",
       "      <td>253</td>\n",
       "      <td>0.682171</td>\n",
       "      <td>0.561224</td>\n",
       "      <td>0.869565</td>\n",
       "      <td>0.517647</td>\n",
       "    </tr>\n",
       "    <tr>\n",
       "      <th>4</th>\n",
       "      <td>caa5287c-cb07-47ff-aba6-9c26eb22c40d</td>\n",
       "      <td>627ce16b-abc2-4ddc-a3d0-66d2fdd180de</td>\n",
       "      <td>0005</td>\n",
       "      <td>0.4</td>\n",
       "      <td>0.3</td>\n",
       "      <td>23</td>\n",
       "      <td>0.25</td>\n",
       "      <td>0.3</td>\n",
       "      <td>True</td>\n",
       "      <td>0.608028</td>\n",
       "      <td>...</td>\n",
       "      <td>0.598887</td>\n",
       "      <td>0.002366</td>\n",
       "      <td>0.629237</td>\n",
       "      <td>0.459042</td>\n",
       "      <td>386</td>\n",
       "      <td>341</td>\n",
       "      <td>0.712517</td>\n",
       "      <td>0.670984</td>\n",
       "      <td>0.759531</td>\n",
       "      <td>0.553419</td>\n",
       "    </tr>\n",
       "    <tr>\n",
       "      <th>5</th>\n",
       "      <td>caa5287c-cb07-47ff-aba6-9c26eb22c40d</td>\n",
       "      <td>b01595be-85b5-4126-b4e2-151196a40974</td>\n",
       "      <td>0006</td>\n",
       "      <td>0.4</td>\n",
       "      <td>0.3</td>\n",
       "      <td>23</td>\n",
       "      <td>0.25</td>\n",
       "      <td>0.3</td>\n",
       "      <td>True</td>\n",
       "      <td>0.556401</td>\n",
       "      <td>...</td>\n",
       "      <td>0.545868</td>\n",
       "      <td>0.00123</td>\n",
       "      <td>0.587983</td>\n",
       "      <td>0.416413</td>\n",
       "      <td>180</td>\n",
       "      <td>150</td>\n",
       "      <td>0.660606</td>\n",
       "      <td>0.605556</td>\n",
       "      <td>0.726667</td>\n",
       "      <td>0.493213</td>\n",
       "    </tr>\n",
       "    <tr>\n",
       "      <th>6</th>\n",
       "      <td>caa5287c-cb07-47ff-aba6-9c26eb22c40d</td>\n",
       "      <td>1238a54b-ecc1-4241-8048-39e95efd0470</td>\n",
       "      <td>0007</td>\n",
       "      <td>0.4</td>\n",
       "      <td>0.3</td>\n",
       "      <td>23</td>\n",
       "      <td>0.25</td>\n",
       "      <td>0.3</td>\n",
       "      <td>True</td>\n",
       "      <td>0.587179</td>\n",
       "      <td>...</td>\n",
       "      <td>0.766417</td>\n",
       "      <td>0.024603</td>\n",
       "      <td>0.590203</td>\n",
       "      <td>0.418644</td>\n",
       "      <td>1679</td>\n",
       "      <td>912</td>\n",
       "      <td>0.627557</td>\n",
       "      <td>0.484217</td>\n",
       "      <td>0.891447</td>\n",
       "      <td>0.457255</td>\n",
       "    </tr>\n",
       "    <tr>\n",
       "      <th>7</th>\n",
       "      <td>caa5287c-cb07-47ff-aba6-9c26eb22c40d</td>\n",
       "      <td>f6994485-50f9-4be9-9122-f7c45f2626d8</td>\n",
       "      <td>0008</td>\n",
       "      <td>0.4</td>\n",
       "      <td>0.3</td>\n",
       "      <td>23</td>\n",
       "      <td>0.25</td>\n",
       "      <td>0.3</td>\n",
       "      <td>True</td>\n",
       "      <td>0.609326</td>\n",
       "      <td>...</td>\n",
       "      <td>0.54863</td>\n",
       "      <td>0.002487</td>\n",
       "      <td>0.626691</td>\n",
       "      <td>0.456337</td>\n",
       "      <td>378</td>\n",
       "      <td>385</td>\n",
       "      <td>0.710354</td>\n",
       "      <td>0.716931</td>\n",
       "      <td>0.703896</td>\n",
       "      <td>0.550813</td>\n",
       "    </tr>\n",
       "    <tr>\n",
       "      <th>8</th>\n",
       "      <td>caa5287c-cb07-47ff-aba6-9c26eb22c40d</td>\n",
       "      <td>d080e719-2c7b-453c-921f-84d45d827dd0</td>\n",
       "      <td>0009</td>\n",
       "      <td>0.4</td>\n",
       "      <td>0.3</td>\n",
       "      <td>23</td>\n",
       "      <td>0.25</td>\n",
       "      <td>0.3</td>\n",
       "      <td>True</td>\n",
       "      <td>0.546671</td>\n",
       "      <td>...</td>\n",
       "      <td>0.419569</td>\n",
       "      <td>0.001037</td>\n",
       "      <td>0.574882</td>\n",
       "      <td>0.403393</td>\n",
       "      <td>545</td>\n",
       "      <td>814</td>\n",
       "      <td>0.715232</td>\n",
       "      <td>0.891743</td>\n",
       "      <td>0.597052</td>\n",
       "      <td>0.556701</td>\n",
       "    </tr>\n",
       "    <tr>\n",
       "      <th>9</th>\n",
       "      <td>caa5287c-cb07-47ff-aba6-9c26eb22c40d</td>\n",
       "      <td>de6a9e0d-8a5b-4e8e-8fb2-10a2e7ae9f16</td>\n",
       "      <td>0010</td>\n",
       "      <td>0.4</td>\n",
       "      <td>0.3</td>\n",
       "      <td>23</td>\n",
       "      <td>0.25</td>\n",
       "      <td>0.3</td>\n",
       "      <td>True</td>\n",
       "      <td>0.647473</td>\n",
       "      <td>...</td>\n",
       "      <td>0.615996</td>\n",
       "      <td>0.005766</td>\n",
       "      <td>0.669226</td>\n",
       "      <td>0.502885</td>\n",
       "      <td>896</td>\n",
       "      <td>795</td>\n",
       "      <td>0.756949</td>\n",
       "      <td>0.714286</td>\n",
       "      <td>0.805031</td>\n",
       "      <td>0.608944</td>\n",
       "    </tr>\n",
       "    <tr>\n",
       "      <th>10</th>\n",
       "      <td>caa5287c-cb07-47ff-aba6-9c26eb22c40d</td>\n",
       "      <td>569e5227-9d25-43f9-9f2c-819b85f16416</td>\n",
       "      <td>0011</td>\n",
       "      <td>0.4</td>\n",
       "      <td>0.3</td>\n",
       "      <td>23</td>\n",
       "      <td>0.25</td>\n",
       "      <td>0.3</td>\n",
       "      <td>True</td>\n",
       "      <td>0.685389</td>\n",
       "      <td>...</td>\n",
       "      <td>0.747968</td>\n",
       "      <td>0.009167</td>\n",
       "      <td>0.694089</td>\n",
       "      <td>0.531498</td>\n",
       "      <td>906</td>\n",
       "      <td>606</td>\n",
       "      <td>0.723545</td>\n",
       "      <td>0.603753</td>\n",
       "      <td>0.90264</td>\n",
       "      <td>0.566839</td>\n",
       "    </tr>\n",
       "    <tr>\n",
       "      <th>11</th>\n",
       "      <td>caa5287c-cb07-47ff-aba6-9c26eb22c40d</td>\n",
       "      <td>fde08d34-15fd-4167-a008-bb32a12f8d80</td>\n",
       "      <td>0012</td>\n",
       "      <td>0.4</td>\n",
       "      <td>0.3</td>\n",
       "      <td>23</td>\n",
       "      <td>0.25</td>\n",
       "      <td>0.3</td>\n",
       "      <td>True</td>\n",
       "      <td>0.590915</td>\n",
       "      <td>...</td>\n",
       "      <td>0.528599</td>\n",
       "      <td>0.003701</td>\n",
       "      <td>0.61406</td>\n",
       "      <td>0.443064</td>\n",
       "      <td>664</td>\n",
       "      <td>709</td>\n",
       "      <td>0.706482</td>\n",
       "      <td>0.730422</td>\n",
       "      <td>0.684062</td>\n",
       "      <td>0.546171</td>\n",
       "    </tr>\n",
       "    <tr>\n",
       "      <th>12</th>\n",
       "      <td>caa5287c-cb07-47ff-aba6-9c26eb22c40d</td>\n",
       "      <td>2b56ef22-dad6-4a19-a86e-d7a50bd90a41</td>\n",
       "      <td>0013</td>\n",
       "      <td>0.4</td>\n",
       "      <td>0.3</td>\n",
       "      <td>23</td>\n",
       "      <td>0.25</td>\n",
       "      <td>0.3</td>\n",
       "      <td>True</td>\n",
       "      <td>0.682004</td>\n",
       "      <td>...</td>\n",
       "      <td>0.83591</td>\n",
       "      <td>0.010464</td>\n",
       "      <td>0.689686</td>\n",
       "      <td>0.526352</td>\n",
       "      <td>1167</td>\n",
       "      <td>698</td>\n",
       "      <td>0.700268</td>\n",
       "      <td>0.559554</td>\n",
       "      <td>0.93553</td>\n",
       "      <td>0.538779</td>\n",
       "    </tr>\n",
       "    <tr>\n",
       "      <th>13</th>\n",
       "      <td>caa5287c-cb07-47ff-aba6-9c26eb22c40d</td>\n",
       "      <td>155c3748-e62d-433e-baa1-aed0cb029782</td>\n",
       "      <td>0014</td>\n",
       "      <td>0.4</td>\n",
       "      <td>0.3</td>\n",
       "      <td>23</td>\n",
       "      <td>0.25</td>\n",
       "      <td>0.3</td>\n",
       "      <td>True</td>\n",
       "      <td>0.605203</td>\n",
       "      <td>...</td>\n",
       "      <td>0.897732</td>\n",
       "      <td>0.023341</td>\n",
       "      <td>0.594457</td>\n",
       "      <td>0.422938</td>\n",
       "      <td>1506</td>\n",
       "      <td>712</td>\n",
       "      <td>0.61046</td>\n",
       "      <td>0.449535</td>\n",
       "      <td>0.950843</td>\n",
       "      <td>0.439325</td>\n",
       "    </tr>\n",
       "    <tr>\n",
       "      <th>14</th>\n",
       "      <td>caa5287c-cb07-47ff-aba6-9c26eb22c40d</td>\n",
       "      <td>f833943c-5fa3-448c-a1a3-c757a5cb1c49</td>\n",
       "      <td>0015</td>\n",
       "      <td>0.4</td>\n",
       "      <td>0.3</td>\n",
       "      <td>23</td>\n",
       "      <td>0.25</td>\n",
       "      <td>0.3</td>\n",
       "      <td>True</td>\n",
       "      <td>0.415254</td>\n",
       "      <td>...</td>\n",
       "      <td>0.319969</td>\n",
       "      <td>0.000228</td>\n",
       "      <td>0.4531</td>\n",
       "      <td>0.292909</td>\n",
       "      <td>63</td>\n",
       "      <td>97</td>\n",
       "      <td>0.5875</td>\n",
       "      <td>0.746032</td>\n",
       "      <td>0.484536</td>\n",
       "      <td>0.415929</td>\n",
       "    </tr>\n",
       "    <tr>\n",
       "      <th>15</th>\n",
       "      <td>caa5287c-cb07-47ff-aba6-9c26eb22c40d</td>\n",
       "      <td>ecd8859e-e85d-4bb3-ba9b-260ab9348316</td>\n",
       "      <td>0016</td>\n",
       "      <td>0.4</td>\n",
       "      <td>0.3</td>\n",
       "      <td>23</td>\n",
       "      <td>0.25</td>\n",
       "      <td>0.3</td>\n",
       "      <td>True</td>\n",
       "      <td>0.613751</td>\n",
       "      <td>...</td>\n",
       "      <td>0.631985</td>\n",
       "      <td>0.004478</td>\n",
       "      <td>0.639815</td>\n",
       "      <td>0.470388</td>\n",
       "      <td>551</td>\n",
       "      <td>452</td>\n",
       "      <td>0.70987</td>\n",
       "      <td>0.646098</td>\n",
       "      <td>0.787611</td>\n",
       "      <td>0.550232</td>\n",
       "    </tr>\n",
       "    <tr>\n",
       "      <th>16</th>\n",
       "      <td>caa5287c-cb07-47ff-aba6-9c26eb22c40d</td>\n",
       "      <td>d0fcc502-63a0-4b1a-90ed-424251ae23c6</td>\n",
       "      <td>0017</td>\n",
       "      <td>0.4</td>\n",
       "      <td>0.3</td>\n",
       "      <td>23</td>\n",
       "      <td>0.25</td>\n",
       "      <td>0.3</td>\n",
       "      <td>True</td>\n",
       "      <td>0.607681</td>\n",
       "      <td>...</td>\n",
       "      <td>0.547805</td>\n",
       "      <td>0.002053</td>\n",
       "      <td>0.644505</td>\n",
       "      <td>0.475476</td>\n",
       "      <td>440</td>\n",
       "      <td>470</td>\n",
       "      <td>0.745055</td>\n",
       "      <td>0.770455</td>\n",
       "      <td>0.721277</td>\n",
       "      <td>0.593695</td>\n",
       "    </tr>\n",
       "    <tr>\n",
       "      <th>17</th>\n",
       "      <td>caa5287c-cb07-47ff-aba6-9c26eb22c40d</td>\n",
       "      <td>e07ce073-044f-41cd-a45d-48701063fee8</td>\n",
       "      <td>0018</td>\n",
       "      <td>0.4</td>\n",
       "      <td>0.3</td>\n",
       "      <td>23</td>\n",
       "      <td>0.25</td>\n",
       "      <td>0.3</td>\n",
       "      <td>True</td>\n",
       "      <td>0.630725</td>\n",
       "      <td>...</td>\n",
       "      <td>0.549506</td>\n",
       "      <td>0.003889</td>\n",
       "      <td>0.661035</td>\n",
       "      <td>0.493691</td>\n",
       "      <td>1028</td>\n",
       "      <td>1164</td>\n",
       "      <td>0.770073</td>\n",
       "      <td>0.821012</td>\n",
       "      <td>0.725086</td>\n",
       "      <td>0.626113</td>\n",
       "    </tr>\n",
       "    <tr>\n",
       "      <th>18</th>\n",
       "      <td>caa5287c-cb07-47ff-aba6-9c26eb22c40d</td>\n",
       "      <td>d64fe395-2205-403e-9bbc-02adc993c113</td>\n",
       "      <td>0019</td>\n",
       "      <td>0.4</td>\n",
       "      <td>0.3</td>\n",
       "      <td>23</td>\n",
       "      <td>0.25</td>\n",
       "      <td>0.3</td>\n",
       "      <td>True</td>\n",
       "      <td>0.614319</td>\n",
       "      <td>...</td>\n",
       "      <td>0.854167</td>\n",
       "      <td>0.00854</td>\n",
       "      <td>0.615761</td>\n",
       "      <td>0.444837</td>\n",
       "      <td>670</td>\n",
       "      <td>315</td>\n",
       "      <td>0.619289</td>\n",
       "      <td>0.455224</td>\n",
       "      <td>0.968254</td>\n",
       "      <td>0.448529</td>\n",
       "    </tr>\n",
       "  </tbody>\n",
       "</table>\n",
       "<p>19 rows × 25 columns</p>\n",
       "</div>"
      ],
      "text/plain": [
       "                            experimentId  \\\n",
       "0   caa5287c-cb07-47ff-aba6-9c26eb22c40d   \n",
       "1   caa5287c-cb07-47ff-aba6-9c26eb22c40d   \n",
       "2   caa5287c-cb07-47ff-aba6-9c26eb22c40d   \n",
       "3   caa5287c-cb07-47ff-aba6-9c26eb22c40d   \n",
       "4   caa5287c-cb07-47ff-aba6-9c26eb22c40d   \n",
       "5   caa5287c-cb07-47ff-aba6-9c26eb22c40d   \n",
       "6   caa5287c-cb07-47ff-aba6-9c26eb22c40d   \n",
       "7   caa5287c-cb07-47ff-aba6-9c26eb22c40d   \n",
       "8   caa5287c-cb07-47ff-aba6-9c26eb22c40d   \n",
       "9   caa5287c-cb07-47ff-aba6-9c26eb22c40d   \n",
       "10  caa5287c-cb07-47ff-aba6-9c26eb22c40d   \n",
       "11  caa5287c-cb07-47ff-aba6-9c26eb22c40d   \n",
       "12  caa5287c-cb07-47ff-aba6-9c26eb22c40d   \n",
       "13  caa5287c-cb07-47ff-aba6-9c26eb22c40d   \n",
       "14  caa5287c-cb07-47ff-aba6-9c26eb22c40d   \n",
       "15  caa5287c-cb07-47ff-aba6-9c26eb22c40d   \n",
       "16  caa5287c-cb07-47ff-aba6-9c26eb22c40d   \n",
       "17  caa5287c-cb07-47ff-aba6-9c26eb22c40d   \n",
       "18  caa5287c-cb07-47ff-aba6-9c26eb22c40d   \n",
       "\n",
       "                                 modelId testSubjectId thres_prob thres_IoU  \\\n",
       "0   dfe10db6-0f32-4bce-acc2-f7182342d975          0001        0.4       0.3   \n",
       "1   a9db02e2-0d19-4cb2-8d0f-e403b4d1b817          0002        0.4       0.3   \n",
       "2   41a7a7ab-da20-48bb-9303-f7d8007b8a6e          0003        0.4       0.3   \n",
       "3   ab7f2287-b2cd-4566-bf38-be15170b98b9          0004        0.4       0.3   \n",
       "4   627ce16b-abc2-4ddc-a3d0-66d2fdd180de          0005        0.4       0.3   \n",
       "5   b01595be-85b5-4126-b4e2-151196a40974          0006        0.4       0.3   \n",
       "6   1238a54b-ecc1-4241-8048-39e95efd0470          0007        0.4       0.3   \n",
       "7   f6994485-50f9-4be9-9122-f7c45f2626d8          0008        0.4       0.3   \n",
       "8   d080e719-2c7b-453c-921f-84d45d827dd0          0009        0.4       0.3   \n",
       "9   de6a9e0d-8a5b-4e8e-8fb2-10a2e7ae9f16          0010        0.4       0.3   \n",
       "10  569e5227-9d25-43f9-9f2c-819b85f16416          0011        0.4       0.3   \n",
       "11  fde08d34-15fd-4167-a008-bb32a12f8d80          0012        0.4       0.3   \n",
       "12  2b56ef22-dad6-4a19-a86e-d7a50bd90a41          0013        0.4       0.3   \n",
       "13  155c3748-e62d-433e-baa1-aed0cb029782          0014        0.4       0.3   \n",
       "14  f833943c-5fa3-448c-a1a3-c757a5cb1c49          0015        0.4       0.3   \n",
       "15  ecd8859e-e85d-4bb3-ba9b-260ab9348316          0016        0.4       0.3   \n",
       "16  d0fcc502-63a0-4b1a-90ed-424251ae23c6          0017        0.4       0.3   \n",
       "17  e07ce073-044f-41cd-a45d-48701063fee8          0018        0.4       0.3   \n",
       "18  d64fe395-2205-403e-9bbc-02adc993c113          0019        0.4       0.3   \n",
       "\n",
       "   treeLimit close minDuration check    raw_F1  ... vector_Recall vector_FPR  \\\n",
       "0         23  0.25         0.3  True   0.37684  ...      0.253136   0.000508   \n",
       "1         23  0.25         0.3  True  0.676664  ...       0.61862   0.004092   \n",
       "2         23  0.25         0.3  True   0.58655  ...      0.533688   0.000611   \n",
       "3         23  0.25         0.3  True  0.617049  ...      0.698475   0.003719   \n",
       "4         23  0.25         0.3  True  0.608028  ...      0.598887   0.002366   \n",
       "5         23  0.25         0.3  True  0.556401  ...      0.545868    0.00123   \n",
       "6         23  0.25         0.3  True  0.587179  ...      0.766417   0.024603   \n",
       "7         23  0.25         0.3  True  0.609326  ...       0.54863   0.002487   \n",
       "8         23  0.25         0.3  True  0.546671  ...      0.419569   0.001037   \n",
       "9         23  0.25         0.3  True  0.647473  ...      0.615996   0.005766   \n",
       "10        23  0.25         0.3  True  0.685389  ...      0.747968   0.009167   \n",
       "11        23  0.25         0.3  True  0.590915  ...      0.528599   0.003701   \n",
       "12        23  0.25         0.3  True  0.682004  ...       0.83591   0.010464   \n",
       "13        23  0.25         0.3  True  0.605203  ...      0.897732   0.023341   \n",
       "14        23  0.25         0.3  True  0.415254  ...      0.319969   0.000228   \n",
       "15        23  0.25         0.3  True  0.613751  ...      0.631985   0.004478   \n",
       "16        23  0.25         0.3  True  0.607681  ...      0.547805   0.002053   \n",
       "17        23  0.25         0.3  True  0.630725  ...      0.549506   0.003889   \n",
       "18        23  0.25         0.3  True  0.614319  ...      0.854167    0.00854   \n",
       "\n",
       "   vector_F1 vector_TS final_count gt_count  event_F1 event_Precision  \\\n",
       "0   0.398708  0.248991         404     1044  0.513812        0.920792   \n",
       "1   0.701094  0.539757        1108     1143  0.783652        0.796029   \n",
       "2   0.606244  0.434971         137      143  0.678571        0.693431   \n",
       "3   0.637601  0.467999         392      253  0.682171        0.561224   \n",
       "4   0.629237  0.459042         386      341  0.712517        0.670984   \n",
       "5   0.587983  0.416413         180      150  0.660606        0.605556   \n",
       "6   0.590203  0.418644        1679      912  0.627557        0.484217   \n",
       "7   0.626691  0.456337         378      385  0.710354        0.716931   \n",
       "8   0.574882  0.403393         545      814  0.715232        0.891743   \n",
       "9   0.669226  0.502885         896      795  0.756949        0.714286   \n",
       "10  0.694089  0.531498         906      606  0.723545        0.603753   \n",
       "11   0.61406  0.443064         664      709  0.706482        0.730422   \n",
       "12  0.689686  0.526352        1167      698  0.700268        0.559554   \n",
       "13  0.594457  0.422938        1506      712   0.61046        0.449535   \n",
       "14    0.4531  0.292909          63       97    0.5875        0.746032   \n",
       "15  0.639815  0.470388         551      452   0.70987        0.646098   \n",
       "16  0.644505  0.475476         440      470  0.745055        0.770455   \n",
       "17  0.661035  0.493691        1028     1164  0.770073        0.821012   \n",
       "18  0.615761  0.444837         670      315  0.619289        0.455224   \n",
       "\n",
       "   event_Recall  event_TS  \n",
       "0      0.356322  0.345725  \n",
       "1      0.771654  0.644266  \n",
       "2      0.664336  0.513514  \n",
       "3      0.869565  0.517647  \n",
       "4      0.759531  0.553419  \n",
       "5      0.726667  0.493213  \n",
       "6      0.891447  0.457255  \n",
       "7      0.703896  0.550813  \n",
       "8      0.597052  0.556701  \n",
       "9      0.805031  0.608944  \n",
       "10      0.90264  0.566839  \n",
       "11     0.684062  0.546171  \n",
       "12      0.93553  0.538779  \n",
       "13     0.950843  0.439325  \n",
       "14     0.484536  0.415929  \n",
       "15     0.787611  0.550232  \n",
       "16     0.721277  0.593695  \n",
       "17     0.725086  0.626113  \n",
       "18     0.968254  0.448529  \n",
       "\n",
       "[19 rows x 25 columns]"
      ]
     },
     "execution_count": 119,
     "metadata": {},
     "output_type": "execute_result"
    }
   ],
   "source": [
    "modelMetrics"
   ]
  }
 ],
 "metadata": {
  "kernelspec": {
   "display_name": "Python 3.10.6 ('venv': venv)",
   "language": "python",
   "name": "python3"
  },
  "language_info": {
   "codemirror_mode": {
    "name": "ipython",
    "version": 3
   },
   "file_extension": ".py",
   "mimetype": "text/x-python",
   "name": "python",
   "nbconvert_exporter": "python",
   "pygments_lexer": "ipython3",
   "version": "3.10.6 (tags/v3.10.6:9c7b4bd, Aug  1 2022, 21:53:49) [MSC v.1932 64 bit (AMD64)]"
  },
  "orig_nbformat": 4,
  "vscode": {
   "interpreter": {
    "hash": "69eb08d3e713eff25484e90b18c01e15df779e80a0db295f9ddc53faed0455be"
   }
  }
 },
 "nbformat": 4,
 "nbformat_minor": 2
}
