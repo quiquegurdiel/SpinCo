{
 "cells": [
  {
   "attachments": {},
   "cell_type": "markdown",
   "metadata": {},
   "source": [
    "# Testing for E1 - using all spindles, training with all data\n",
    "fistly define the UUID of the experiment to use"
   ]
  },
  {
   "cell_type": "code",
   "execution_count": 1,
   "metadata": {},
   "outputs": [],
   "source": [
    "experimentId=\"6e8f728f-81ce-4048-8acf-f8d1ffc89a39\""
   ]
  },
  {
   "cell_type": "markdown",
   "metadata": {},
   "source": [
    "-------------------------------------------------------"
   ]
  },
  {
   "cell_type": "code",
   "execution_count": 2,
   "metadata": {},
   "outputs": [],
   "source": [
    "#external libraries\n",
    "import numpy as np\n",
    "import os\n",
    "import matplotlib.pyplot as plt\n",
    "import matplotlib.colors as clt\n",
    "import plotly\n",
    "import plotly.subplots as sb\n",
    "import plotly.express as px\n",
    "import plotly.graph_objects as go\n",
    "import dotenv\n",
    "import pandas as pd\n",
    "import scipy.fft as fft\n",
    "import scipy.signal as sg\n",
    "import scipy.io as sio\n",
    "import pickle as pkl\n",
    "import xgboost as xgb\n",
    "import time\n",
    "import sklearn.metrics as skm\n",
    "\n",
    "#project library\n",
    "from spinco import *\n",
    "\n",
    "#environment variables\n",
    "dotenv.load_dotenv('lab.env')\n",
    "\n",
    "#project variables\n",
    "datapath=os.environ['DATAPATH']\n",
    "cognipath=datapath+\"\\\\COGNITION\"\n",
    "dreamspath=datapath+\"\\\\DREAMS\"\n",
    "masspath=datapath+\"\\\\MASS\"\n"
   ]
  },
  {
   "cell_type": "markdown",
   "metadata": {},
   "source": [
    "## load mass"
   ]
  },
  {
   "cell_type": "code",
   "execution_count": 3,
   "metadata": {},
   "outputs": [],
   "source": [
    "samplerate=200  #Should rethink this"
   ]
  },
  {
   "cell_type": "code",
   "execution_count": 4,
   "metadata": {},
   "outputs": [],
   "source": [
    "annotations, signalsMetadata = loadMASSSpindles(masspath,forceSamplerate=samplerate)"
   ]
  },
  {
   "cell_type": "code",
   "execution_count": 5,
   "metadata": {},
   "outputs": [],
   "source": [
    "#consider to include this in a function\n",
    "minDuration=0.3\n",
    "maxDuration=2.9\n",
    "annotations=annotations[annotations.type=='spindle']\n",
    "annotations=annotations[annotations.duration>minDuration]\n",
    "annotations=annotations[annotations.duration<maxDuration]\n",
    "annotations=annotations.reset_index(drop=True)"
   ]
  },
  {
   "cell_type": "code",
   "execution_count": 6,
   "metadata": {},
   "outputs": [
    {
     "name": "stdout",
     "output_type": "stream",
     "text": [
      "0.011297746428357902\n"
     ]
    }
   ],
   "source": [
    "#check with EDA results (not needed)\n",
    "print(1-len(annotations)/33458)"
   ]
  },
  {
   "cell_type": "code",
   "execution_count": 7,
   "metadata": {},
   "outputs": [
    {
     "data": {
      "text/html": [
       "<div>\n",
       "<style scoped>\n",
       "    .dataframe tbody tr th:only-of-type {\n",
       "        vertical-align: middle;\n",
       "    }\n",
       "\n",
       "    .dataframe tbody tr th {\n",
       "        vertical-align: top;\n",
       "    }\n",
       "\n",
       "    .dataframe thead th {\n",
       "        text-align: right;\n",
       "    }\n",
       "</style>\n",
       "<table border=\"1\" class=\"dataframe\">\n",
       "  <thead>\n",
       "    <tr style=\"text-align: right;\">\n",
       "      <th></th>\n",
       "      <th>type</th>\n",
       "      <th>expert</th>\n",
       "      <th>subjectId</th>\n",
       "      <th>labelerId</th>\n",
       "      <th>startTime</th>\n",
       "      <th>duration</th>\n",
       "      <th>samplerate</th>\n",
       "      <th>stopTime</th>\n",
       "      <th>startInd</th>\n",
       "      <th>stopInd</th>\n",
       "    </tr>\n",
       "  </thead>\n",
       "  <tbody>\n",
       "    <tr>\n",
       "      <th>0</th>\n",
       "      <td>spindle</td>\n",
       "      <td>E1</td>\n",
       "      <td>0001</td>\n",
       "      <td>0001</td>\n",
       "      <td>888.327805</td>\n",
       "      <td>0.640579</td>\n",
       "      <td>200</td>\n",
       "      <td>888.968384</td>\n",
       "      <td>177666</td>\n",
       "      <td>177794</td>\n",
       "    </tr>\n",
       "    <tr>\n",
       "      <th>1</th>\n",
       "      <td>spindle</td>\n",
       "      <td>E1</td>\n",
       "      <td>0001</td>\n",
       "      <td>0001</td>\n",
       "      <td>905.758061</td>\n",
       "      <td>0.578094</td>\n",
       "      <td>200</td>\n",
       "      <td>906.336155</td>\n",
       "      <td>181152</td>\n",
       "      <td>181267</td>\n",
       "    </tr>\n",
       "    <tr>\n",
       "      <th>2</th>\n",
       "      <td>spindle</td>\n",
       "      <td>E1</td>\n",
       "      <td>0001</td>\n",
       "      <td>0001</td>\n",
       "      <td>917.731574</td>\n",
       "      <td>0.847603</td>\n",
       "      <td>200</td>\n",
       "      <td>918.579177</td>\n",
       "      <td>183546</td>\n",
       "      <td>183716</td>\n",
       "    </tr>\n",
       "    <tr>\n",
       "      <th>3</th>\n",
       "      <td>spindle</td>\n",
       "      <td>E1</td>\n",
       "      <td>0001</td>\n",
       "      <td>0001</td>\n",
       "      <td>922.078189</td>\n",
       "      <td>0.878845</td>\n",
       "      <td>200</td>\n",
       "      <td>922.957034</td>\n",
       "      <td>184416</td>\n",
       "      <td>184591</td>\n",
       "    </tr>\n",
       "    <tr>\n",
       "      <th>4</th>\n",
       "      <td>spindle</td>\n",
       "      <td>E1</td>\n",
       "      <td>0001</td>\n",
       "      <td>0001</td>\n",
       "      <td>939.055445</td>\n",
       "      <td>0.757767</td>\n",
       "      <td>200</td>\n",
       "      <td>939.813212</td>\n",
       "      <td>187811</td>\n",
       "      <td>187963</td>\n",
       "    </tr>\n",
       "  </tbody>\n",
       "</table>\n",
       "</div>"
      ],
      "text/plain": [
       "      type expert subjectId labelerId   startTime  duration  samplerate  \\\n",
       "0  spindle     E1      0001      0001  888.327805  0.640579         200   \n",
       "1  spindle     E1      0001      0001  905.758061  0.578094         200   \n",
       "2  spindle     E1      0001      0001  917.731574  0.847603         200   \n",
       "3  spindle     E1      0001      0001  922.078189  0.878845         200   \n",
       "4  spindle     E1      0001      0001  939.055445  0.757767         200   \n",
       "\n",
       "     stopTime  startInd  stopInd  \n",
       "0  888.968384    177666   177794  \n",
       "1  906.336155    181152   181267  \n",
       "2  918.579177    183546   183716  \n",
       "3  922.957034    184416   184591  \n",
       "4  939.813212    187811   187963  "
      ]
     },
     "execution_count": 7,
     "metadata": {},
     "output_type": "execute_result"
    }
   ],
   "source": [
    "annotations.head()"
   ]
  },
  {
   "cell_type": "code",
   "execution_count": 8,
   "metadata": {},
   "outputs": [
    {
     "data": {
      "text/html": [
       "<div>\n",
       "<style scoped>\n",
       "    .dataframe tbody tr th:only-of-type {\n",
       "        vertical-align: middle;\n",
       "    }\n",
       "\n",
       "    .dataframe tbody tr th {\n",
       "        vertical-align: top;\n",
       "    }\n",
       "\n",
       "    .dataframe thead th {\n",
       "        text-align: right;\n",
       "    }\n",
       "</style>\n",
       "<table border=\"1\" class=\"dataframe\">\n",
       "  <thead>\n",
       "    <tr style=\"text-align: right;\">\n",
       "      <th></th>\n",
       "      <th>subjectId</th>\n",
       "      <th>file</th>\n",
       "      <th>channel</th>\n",
       "      <th>duration</th>\n",
       "      <th>samplerate</th>\n",
       "      <th>isOriginalSamplerate</th>\n",
       "      <th>database</th>\n",
       "    </tr>\n",
       "  </thead>\n",
       "  <tbody>\n",
       "    <tr>\n",
       "      <th>0</th>\n",
       "      <td>0001</td>\n",
       "      <td>MASS_0001.pkl</td>\n",
       "      <td>C3-CLE</td>\n",
       "      <td>28956.0</td>\n",
       "      <td>200</td>\n",
       "      <td>False</td>\n",
       "      <td>MASS</td>\n",
       "    </tr>\n",
       "    <tr>\n",
       "      <th>1</th>\n",
       "      <td>0002</td>\n",
       "      <td>MASS_0002.pkl</td>\n",
       "      <td>C3-CLE</td>\n",
       "      <td>35016.0</td>\n",
       "      <td>200</td>\n",
       "      <td>False</td>\n",
       "      <td>MASS</td>\n",
       "    </tr>\n",
       "    <tr>\n",
       "      <th>2</th>\n",
       "      <td>0003</td>\n",
       "      <td>MASS_0003.pkl</td>\n",
       "      <td>C3-CLE</td>\n",
       "      <td>36760.0</td>\n",
       "      <td>200</td>\n",
       "      <td>False</td>\n",
       "      <td>MASS</td>\n",
       "    </tr>\n",
       "    <tr>\n",
       "      <th>3</th>\n",
       "      <td>0004</td>\n",
       "      <td>MASS_0004.pkl</td>\n",
       "      <td>C3-CLE</td>\n",
       "      <td>28004.0</td>\n",
       "      <td>200</td>\n",
       "      <td>False</td>\n",
       "      <td>MASS</td>\n",
       "    </tr>\n",
       "    <tr>\n",
       "      <th>4</th>\n",
       "      <td>0005</td>\n",
       "      <td>MASS_0005.pkl</td>\n",
       "      <td>C3-CLE</td>\n",
       "      <td>31244.0</td>\n",
       "      <td>200</td>\n",
       "      <td>False</td>\n",
       "      <td>MASS</td>\n",
       "    </tr>\n",
       "  </tbody>\n",
       "</table>\n",
       "</div>"
      ],
      "text/plain": [
       "  subjectId           file channel  duration  samplerate  \\\n",
       "0      0001  MASS_0001.pkl  C3-CLE   28956.0         200   \n",
       "1      0002  MASS_0002.pkl  C3-CLE   35016.0         200   \n",
       "2      0003  MASS_0003.pkl  C3-CLE   36760.0         200   \n",
       "3      0004  MASS_0004.pkl  C3-CLE   28004.0         200   \n",
       "4      0005  MASS_0005.pkl  C3-CLE   31244.0         200   \n",
       "\n",
       "   isOriginalSamplerate database  \n",
       "0                 False     MASS  \n",
       "1                 False     MASS  \n",
       "2                 False     MASS  \n",
       "3                 False     MASS  \n",
       "4                 False     MASS  "
      ]
     },
     "execution_count": 8,
     "metadata": {},
     "output_type": "execute_result"
    }
   ],
   "source": [
    "signalsMetadata.head()"
   ]
  },
  {
   "cell_type": "markdown",
   "metadata": {},
   "source": [
    "## Load experiment results"
   ]
  },
  {
   "cell_type": "code",
   "execution_count": 10,
   "metadata": {},
   "outputs": [],
   "source": [
    "experimentModels, featureSelection = loadExperiment(experimentId,datapath)"
   ]
  },
  {
   "cell_type": "code",
   "execution_count": 11,
   "metadata": {},
   "outputs": [
    {
     "data": {
      "text/html": [
       "<div>\n",
       "<style scoped>\n",
       "    .dataframe tbody tr th:only-of-type {\n",
       "        vertical-align: middle;\n",
       "    }\n",
       "\n",
       "    .dataframe tbody tr th {\n",
       "        vertical-align: top;\n",
       "    }\n",
       "\n",
       "    .dataframe thead th {\n",
       "        text-align: right;\n",
       "    }\n",
       "</style>\n",
       "<table border=\"1\" class=\"dataframe\">\n",
       "  <thead>\n",
       "    <tr style=\"text-align: right;\">\n",
       "      <th></th>\n",
       "      <th>criteriumId</th>\n",
       "      <th>criteriumName</th>\n",
       "      <th>labelerIdList</th>\n",
       "      <th>train</th>\n",
       "      <th>val</th>\n",
       "      <th>test</th>\n",
       "      <th>modelId</th>\n",
       "      <th>spindleTimeRate</th>\n",
       "    </tr>\n",
       "  </thead>\n",
       "  <tbody>\n",
       "    <tr>\n",
       "      <th>0</th>\n",
       "      <td>0001</td>\n",
       "      <td>E1</td>\n",
       "      <td>[0001]</td>\n",
       "      <td>[0003, 0005, 0007, 0009, 0010, 0011, 0012, 001...</td>\n",
       "      <td>[0017, 0002, 0006]</td>\n",
       "      <td>0001</td>\n",
       "      <td>9e4dd9bb-a7d9-4ee8-a762-d656d8308d91</td>\n",
       "      <td>0.018639</td>\n",
       "    </tr>\n",
       "    <tr>\n",
       "      <th>1</th>\n",
       "      <td>0001</td>\n",
       "      <td>E1</td>\n",
       "      <td>[0001]</td>\n",
       "      <td>[0001, 0003, 0005, 0007, 0009, 0010, 0011, 001...</td>\n",
       "      <td>[0006, 0013, 0019]</td>\n",
       "      <td>0002</td>\n",
       "      <td>5e1bcb8a-f879-4f42-ae21-0e1ae715095f</td>\n",
       "      <td>0.020055</td>\n",
       "    </tr>\n",
       "    <tr>\n",
       "      <th>2</th>\n",
       "      <td>0001</td>\n",
       "      <td>E1</td>\n",
       "      <td>[0001]</td>\n",
       "      <td>[0002, 0005, 0007, 0009, 0010, 0011, 0012, 001...</td>\n",
       "      <td>[0013, 0006, 0001]</td>\n",
       "      <td>0003</td>\n",
       "      <td>2ecef3ee-0879-42d7-bcf0-ecfa0e3e601a</td>\n",
       "      <td>0.021075</td>\n",
       "    </tr>\n",
       "    <tr>\n",
       "      <th>3</th>\n",
       "      <td>0001</td>\n",
       "      <td>E1</td>\n",
       "      <td>[0001]</td>\n",
       "      <td>[0001, 0002, 0003, 0006, 0007, 0009, 0010, 001...</td>\n",
       "      <td>[0018, 0014, 0012]</td>\n",
       "      <td>0005</td>\n",
       "      <td>52b0d6a8-7f01-4694-85d4-14ef17a025b9</td>\n",
       "      <td>0.018331</td>\n",
       "    </tr>\n",
       "    <tr>\n",
       "      <th>4</th>\n",
       "      <td>0001</td>\n",
       "      <td>E1</td>\n",
       "      <td>[0001]</td>\n",
       "      <td>[0003, 0007, 0009, 0010, 0011, 0012, 0013, 001...</td>\n",
       "      <td>[0005, 0001, 0002]</td>\n",
       "      <td>0006</td>\n",
       "      <td>32c9793a-2115-4e77-8b6f-e8f71d09cecb</td>\n",
       "      <td>0.019222</td>\n",
       "    </tr>\n",
       "    <tr>\n",
       "      <th>5</th>\n",
       "      <td>0001</td>\n",
       "      <td>E1</td>\n",
       "      <td>[0001]</td>\n",
       "      <td>[0001, 0002, 0003, 0010, 0011, 0012, 0013, 001...</td>\n",
       "      <td>[0005, 0006, 0009]</td>\n",
       "      <td>0007</td>\n",
       "      <td>241d9889-61ff-47f7-97c2-f502ae3dba38</td>\n",
       "      <td>0.019625</td>\n",
       "    </tr>\n",
       "    <tr>\n",
       "      <th>6</th>\n",
       "      <td>0001</td>\n",
       "      <td>E1</td>\n",
       "      <td>[0001]</td>\n",
       "      <td>[0001, 0003, 0005, 0006, 0007, 0010, 0011, 001...</td>\n",
       "      <td>[0002, 0017, 0013]</td>\n",
       "      <td>0009</td>\n",
       "      <td>f6a46037-1f32-40b5-a6ff-cd293b0e4203</td>\n",
       "      <td>0.017824</td>\n",
       "    </tr>\n",
       "    <tr>\n",
       "      <th>7</th>\n",
       "      <td>0001</td>\n",
       "      <td>E1</td>\n",
       "      <td>[0001]</td>\n",
       "      <td>[0002, 0003, 0005, 0006, 0007, 0009, 0012, 001...</td>\n",
       "      <td>[0017, 0001, 0011]</td>\n",
       "      <td>0010</td>\n",
       "      <td>6cfc1f74-3653-47eb-a166-f59fefa13825</td>\n",
       "      <td>0.017542</td>\n",
       "    </tr>\n",
       "    <tr>\n",
       "      <th>8</th>\n",
       "      <td>0001</td>\n",
       "      <td>E1</td>\n",
       "      <td>[0001]</td>\n",
       "      <td>[0001, 0003, 0005, 0006, 0009, 0010, 0012, 001...</td>\n",
       "      <td>[0002, 0018, 0007]</td>\n",
       "      <td>0011</td>\n",
       "      <td>68c5483d-9072-4478-8a87-a7af3324f690</td>\n",
       "      <td>0.015442</td>\n",
       "    </tr>\n",
       "    <tr>\n",
       "      <th>9</th>\n",
       "      <td>0001</td>\n",
       "      <td>E1</td>\n",
       "      <td>[0001]</td>\n",
       "      <td>[0002, 0003, 0005, 0006, 0009, 0011, 0013, 001...</td>\n",
       "      <td>[0001, 0007, 0010]</td>\n",
       "      <td>0012</td>\n",
       "      <td>349fe35c-b749-431d-8e8c-c288b150e998</td>\n",
       "      <td>0.016460</td>\n",
       "    </tr>\n",
       "    <tr>\n",
       "      <th>10</th>\n",
       "      <td>0001</td>\n",
       "      <td>E1</td>\n",
       "      <td>[0001]</td>\n",
       "      <td>[0002, 0003, 0005, 0006, 0007, 0010, 0011, 001...</td>\n",
       "      <td>[0009, 0001, 0012]</td>\n",
       "      <td>0013</td>\n",
       "      <td>4babfd03-bb9d-4dd2-a829-ad9de3f05932</td>\n",
       "      <td>0.017297</td>\n",
       "    </tr>\n",
       "    <tr>\n",
       "      <th>11</th>\n",
       "      <td>0001</td>\n",
       "      <td>E1</td>\n",
       "      <td>[0001]</td>\n",
       "      <td>[0001, 0002, 0003, 0005, 0006, 0007, 0009, 001...</td>\n",
       "      <td>[0010, 0012, 0011]</td>\n",
       "      <td>0014</td>\n",
       "      <td>8b17d41d-edbb-461c-87d2-300850772dae</td>\n",
       "      <td>0.017868</td>\n",
       "    </tr>\n",
       "    <tr>\n",
       "      <th>12</th>\n",
       "      <td>0001</td>\n",
       "      <td>E1</td>\n",
       "      <td>[0001]</td>\n",
       "      <td>[0002, 0003, 0005, 0006, 0007, 0009, 0011, 001...</td>\n",
       "      <td>[0010, 0018, 0001]</td>\n",
       "      <td>0017</td>\n",
       "      <td>0363bbae-1f8e-4b17-9c0c-12617bda2825</td>\n",
       "      <td>0.016504</td>\n",
       "    </tr>\n",
       "    <tr>\n",
       "      <th>13</th>\n",
       "      <td>0001</td>\n",
       "      <td>E1</td>\n",
       "      <td>[0001]</td>\n",
       "      <td>[0001, 0002, 0005, 0006, 0007, 0010, 0011, 001...</td>\n",
       "      <td>[0012, 0003, 0009]</td>\n",
       "      <td>0018</td>\n",
       "      <td>3ab00c3d-e088-430b-81c0-65466ec51055</td>\n",
       "      <td>0.018626</td>\n",
       "    </tr>\n",
       "    <tr>\n",
       "      <th>14</th>\n",
       "      <td>0001</td>\n",
       "      <td>E1</td>\n",
       "      <td>[0001]</td>\n",
       "      <td>[0001, 0002, 0005, 0007, 0009, 0010, 0011, 001...</td>\n",
       "      <td>[0014, 0006, 0003]</td>\n",
       "      <td>0019</td>\n",
       "      <td>a223e573-b48d-418b-a3d3-7c7ae2c5dee7</td>\n",
       "      <td>0.022439</td>\n",
       "    </tr>\n",
       "    <tr>\n",
       "      <th>15</th>\n",
       "      <td>0002</td>\n",
       "      <td>E2</td>\n",
       "      <td>[0002]</td>\n",
       "      <td>[0003, 0005, 0007, 0009, 0010, 0011, 0012, 001...</td>\n",
       "      <td>[0017, 0002, 0006]</td>\n",
       "      <td>0001</td>\n",
       "      <td>bf958847-77fc-4eab-9c95-7a30ef71f8ee</td>\n",
       "      <td>0.057005</td>\n",
       "    </tr>\n",
       "    <tr>\n",
       "      <th>16</th>\n",
       "      <td>0002</td>\n",
       "      <td>E2</td>\n",
       "      <td>[0002]</td>\n",
       "      <td>[0001, 0003, 0005, 0007, 0009, 0010, 0011, 001...</td>\n",
       "      <td>[0006, 0013, 0019]</td>\n",
       "      <td>0002</td>\n",
       "      <td>f733d4b9-1730-40f9-91c2-f0ac2f36367e</td>\n",
       "      <td>0.061438</td>\n",
       "    </tr>\n",
       "    <tr>\n",
       "      <th>17</th>\n",
       "      <td>0002</td>\n",
       "      <td>E2</td>\n",
       "      <td>[0002]</td>\n",
       "      <td>[0002, 0005, 0007, 0009, 0010, 0011, 0012, 001...</td>\n",
       "      <td>[0013, 0006, 0001]</td>\n",
       "      <td>0003</td>\n",
       "      <td>b7018fb5-07f6-4ca6-a2ae-9c1646bde5b9</td>\n",
       "      <td>0.063269</td>\n",
       "    </tr>\n",
       "    <tr>\n",
       "      <th>18</th>\n",
       "      <td>0002</td>\n",
       "      <td>E2</td>\n",
       "      <td>[0002]</td>\n",
       "      <td>[0001, 0002, 0003, 0006, 0007, 0009, 0010, 001...</td>\n",
       "      <td>[0018, 0014, 0012]</td>\n",
       "      <td>0005</td>\n",
       "      <td>d47802dc-da95-4420-a6f5-a4bb291c9385</td>\n",
       "      <td>0.062012</td>\n",
       "    </tr>\n",
       "    <tr>\n",
       "      <th>19</th>\n",
       "      <td>0002</td>\n",
       "      <td>E2</td>\n",
       "      <td>[0002]</td>\n",
       "      <td>[0003, 0007, 0009, 0010, 0011, 0012, 0013, 001...</td>\n",
       "      <td>[0005, 0001, 0002]</td>\n",
       "      <td>0006</td>\n",
       "      <td>556a03bf-82b3-4468-b1ff-c804988a238a</td>\n",
       "      <td>0.058957</td>\n",
       "    </tr>\n",
       "    <tr>\n",
       "      <th>20</th>\n",
       "      <td>0002</td>\n",
       "      <td>E2</td>\n",
       "      <td>[0002]</td>\n",
       "      <td>[0001, 0002, 0003, 0010, 0011, 0012, 0013, 001...</td>\n",
       "      <td>[0005, 0006, 0009]</td>\n",
       "      <td>0007</td>\n",
       "      <td>d6976249-69b2-42de-a8b2-16adbd07e4b9</td>\n",
       "      <td>0.061686</td>\n",
       "    </tr>\n",
       "    <tr>\n",
       "      <th>21</th>\n",
       "      <td>0002</td>\n",
       "      <td>E2</td>\n",
       "      <td>[0002]</td>\n",
       "      <td>[0001, 0003, 0005, 0006, 0007, 0010, 0011, 001...</td>\n",
       "      <td>[0002, 0017, 0013]</td>\n",
       "      <td>0009</td>\n",
       "      <td>3237920b-4e80-4a7b-83af-d66298816ba3</td>\n",
       "      <td>0.056088</td>\n",
       "    </tr>\n",
       "    <tr>\n",
       "      <th>22</th>\n",
       "      <td>0002</td>\n",
       "      <td>E2</td>\n",
       "      <td>[0002]</td>\n",
       "      <td>[0002, 0003, 0005, 0006, 0007, 0009, 0012, 001...</td>\n",
       "      <td>[0017, 0001, 0011]</td>\n",
       "      <td>0010</td>\n",
       "      <td>92756d09-a80a-49f1-bbfc-f8a12570ddbe</td>\n",
       "      <td>0.052646</td>\n",
       "    </tr>\n",
       "    <tr>\n",
       "      <th>23</th>\n",
       "      <td>0002</td>\n",
       "      <td>E2</td>\n",
       "      <td>[0002]</td>\n",
       "      <td>[0001, 0003, 0005, 0006, 0009, 0010, 0012, 001...</td>\n",
       "      <td>[0002, 0018, 0007]</td>\n",
       "      <td>0011</td>\n",
       "      <td>2d1def14-06c9-4a40-a577-752522c66ed5</td>\n",
       "      <td>0.055127</td>\n",
       "    </tr>\n",
       "    <tr>\n",
       "      <th>24</th>\n",
       "      <td>0002</td>\n",
       "      <td>E2</td>\n",
       "      <td>[0002]</td>\n",
       "      <td>[0002, 0003, 0005, 0006, 0009, 0011, 0013, 001...</td>\n",
       "      <td>[0001, 0007, 0010]</td>\n",
       "      <td>0012</td>\n",
       "      <td>c930c4a8-32c1-41d8-a540-db8ec02d8c50</td>\n",
       "      <td>0.053302</td>\n",
       "    </tr>\n",
       "    <tr>\n",
       "      <th>25</th>\n",
       "      <td>0002</td>\n",
       "      <td>E2</td>\n",
       "      <td>[0002]</td>\n",
       "      <td>[0002, 0003, 0005, 0006, 0007, 0010, 0011, 001...</td>\n",
       "      <td>[0009, 0001, 0012]</td>\n",
       "      <td>0013</td>\n",
       "      <td>6907442d-1a9b-43cd-9fe4-9121ddc99243</td>\n",
       "      <td>0.055264</td>\n",
       "    </tr>\n",
       "    <tr>\n",
       "      <th>26</th>\n",
       "      <td>0002</td>\n",
       "      <td>E2</td>\n",
       "      <td>[0002]</td>\n",
       "      <td>[0001, 0002, 0003, 0005, 0006, 0007, 0009, 001...</td>\n",
       "      <td>[0010, 0012, 0011]</td>\n",
       "      <td>0014</td>\n",
       "      <td>b76944b2-6421-4f77-a082-43f348cd7e7c</td>\n",
       "      <td>0.055852</td>\n",
       "    </tr>\n",
       "    <tr>\n",
       "      <th>27</th>\n",
       "      <td>0002</td>\n",
       "      <td>E2</td>\n",
       "      <td>[0002]</td>\n",
       "      <td>[0002, 0003, 0005, 0006, 0007, 0009, 0011, 001...</td>\n",
       "      <td>[0010, 0018, 0001]</td>\n",
       "      <td>0017</td>\n",
       "      <td>ca57f68a-6762-4170-9f27-043a81703239</td>\n",
       "      <td>0.054126</td>\n",
       "    </tr>\n",
       "    <tr>\n",
       "      <th>28</th>\n",
       "      <td>0002</td>\n",
       "      <td>E2</td>\n",
       "      <td>[0002]</td>\n",
       "      <td>[0001, 0002, 0005, 0006, 0007, 0010, 0011, 001...</td>\n",
       "      <td>[0012, 0003, 0009]</td>\n",
       "      <td>0018</td>\n",
       "      <td>657f22e6-d58c-4ebd-b837-9ffa0b1aa3a7</td>\n",
       "      <td>0.064451</td>\n",
       "    </tr>\n",
       "    <tr>\n",
       "      <th>29</th>\n",
       "      <td>0002</td>\n",
       "      <td>E2</td>\n",
       "      <td>[0002]</td>\n",
       "      <td>[0001, 0002, 0005, 0007, 0009, 0010, 0011, 001...</td>\n",
       "      <td>[0014, 0006, 0003]</td>\n",
       "      <td>0019</td>\n",
       "      <td>f07a4cf8-c75c-4087-9b66-b678bcf1c5d8</td>\n",
       "      <td>0.067263</td>\n",
       "    </tr>\n",
       "    <tr>\n",
       "      <th>30</th>\n",
       "      <td>0003</td>\n",
       "      <td>union</td>\n",
       "      <td>[0001, 0002]</td>\n",
       "      <td>[0003, 0005, 0007, 0009, 0010, 0011, 0012, 001...</td>\n",
       "      <td>[0017, 0002, 0006]</td>\n",
       "      <td>0001</td>\n",
       "      <td>f3ec491b-0006-4caa-ae15-ae896cb2d67e</td>\n",
       "      <td>0.058468</td>\n",
       "    </tr>\n",
       "    <tr>\n",
       "      <th>31</th>\n",
       "      <td>0003</td>\n",
       "      <td>union</td>\n",
       "      <td>[0001, 0002]</td>\n",
       "      <td>[0001, 0003, 0005, 0007, 0009, 0010, 0011, 001...</td>\n",
       "      <td>[0006, 0013, 0019]</td>\n",
       "      <td>0002</td>\n",
       "      <td>6491a608-d9e0-4af8-bfcb-4213b7921942</td>\n",
       "      <td>0.062867</td>\n",
       "    </tr>\n",
       "    <tr>\n",
       "      <th>32</th>\n",
       "      <td>0003</td>\n",
       "      <td>union</td>\n",
       "      <td>[0001, 0002]</td>\n",
       "      <td>[0002, 0005, 0007, 0009, 0010, 0011, 0012, 001...</td>\n",
       "      <td>[0013, 0006, 0001]</td>\n",
       "      <td>0003</td>\n",
       "      <td>257f50f6-47f8-43cb-bd89-084609bb54f4</td>\n",
       "      <td>0.064768</td>\n",
       "    </tr>\n",
       "    <tr>\n",
       "      <th>33</th>\n",
       "      <td>0003</td>\n",
       "      <td>union</td>\n",
       "      <td>[0001, 0002]</td>\n",
       "      <td>[0001, 0002, 0003, 0006, 0007, 0009, 0010, 001...</td>\n",
       "      <td>[0018, 0014, 0012]</td>\n",
       "      <td>0005</td>\n",
       "      <td>1531e4ee-35ce-4d1c-a1f9-c3c93a7adb13</td>\n",
       "      <td>0.062913</td>\n",
       "    </tr>\n",
       "    <tr>\n",
       "      <th>34</th>\n",
       "      <td>0003</td>\n",
       "      <td>union</td>\n",
       "      <td>[0001, 0002]</td>\n",
       "      <td>[0003, 0007, 0009, 0010, 0011, 0012, 0013, 001...</td>\n",
       "      <td>[0005, 0001, 0002]</td>\n",
       "      <td>0006</td>\n",
       "      <td>ea67e468-eb31-4b91-9973-01efd704fdfd</td>\n",
       "      <td>0.060454</td>\n",
       "    </tr>\n",
       "    <tr>\n",
       "      <th>35</th>\n",
       "      <td>0003</td>\n",
       "      <td>union</td>\n",
       "      <td>[0001, 0002]</td>\n",
       "      <td>[0001, 0002, 0003, 0010, 0011, 0012, 0013, 001...</td>\n",
       "      <td>[0005, 0006, 0009]</td>\n",
       "      <td>0007</td>\n",
       "      <td>36af1678-f8a9-4522-bf98-7726af8393a9</td>\n",
       "      <td>0.062901</td>\n",
       "    </tr>\n",
       "    <tr>\n",
       "      <th>36</th>\n",
       "      <td>0003</td>\n",
       "      <td>union</td>\n",
       "      <td>[0001, 0002]</td>\n",
       "      <td>[0001, 0003, 0005, 0006, 0007, 0010, 0011, 001...</td>\n",
       "      <td>[0002, 0017, 0013]</td>\n",
       "      <td>0009</td>\n",
       "      <td>da8325b6-379e-496f-acb8-3c105a943c56</td>\n",
       "      <td>0.057417</td>\n",
       "    </tr>\n",
       "    <tr>\n",
       "      <th>37</th>\n",
       "      <td>0003</td>\n",
       "      <td>union</td>\n",
       "      <td>[0001, 0002]</td>\n",
       "      <td>[0002, 0003, 0005, 0006, 0007, 0009, 0012, 001...</td>\n",
       "      <td>[0017, 0001, 0011]</td>\n",
       "      <td>0010</td>\n",
       "      <td>a832e8e9-3213-4caf-b34f-cdd51a27167b</td>\n",
       "      <td>0.054024</td>\n",
       "    </tr>\n",
       "    <tr>\n",
       "      <th>38</th>\n",
       "      <td>0003</td>\n",
       "      <td>union</td>\n",
       "      <td>[0001, 0002]</td>\n",
       "      <td>[0001, 0003, 0005, 0006, 0009, 0010, 0012, 001...</td>\n",
       "      <td>[0002, 0018, 0007]</td>\n",
       "      <td>0011</td>\n",
       "      <td>8e0df4bf-4d23-4aa8-aa60-b26ac4bc4dbf</td>\n",
       "      <td>0.055899</td>\n",
       "    </tr>\n",
       "    <tr>\n",
       "      <th>39</th>\n",
       "      <td>0003</td>\n",
       "      <td>union</td>\n",
       "      <td>[0001, 0002]</td>\n",
       "      <td>[0002, 0003, 0005, 0006, 0009, 0011, 0013, 001...</td>\n",
       "      <td>[0001, 0007, 0010]</td>\n",
       "      <td>0012</td>\n",
       "      <td>a4b03b48-4c81-4340-b92a-12f602f553a2</td>\n",
       "      <td>0.054366</td>\n",
       "    </tr>\n",
       "    <tr>\n",
       "      <th>40</th>\n",
       "      <td>0003</td>\n",
       "      <td>union</td>\n",
       "      <td>[0001, 0002]</td>\n",
       "      <td>[0002, 0003, 0005, 0006, 0007, 0010, 0011, 001...</td>\n",
       "      <td>[0009, 0001, 0012]</td>\n",
       "      <td>0013</td>\n",
       "      <td>36e2b73b-50a2-4f5b-a897-2d47546b9d67</td>\n",
       "      <td>0.056493</td>\n",
       "    </tr>\n",
       "    <tr>\n",
       "      <th>41</th>\n",
       "      <td>0003</td>\n",
       "      <td>union</td>\n",
       "      <td>[0001, 0002]</td>\n",
       "      <td>[0001, 0002, 0003, 0005, 0006, 0007, 0009, 001...</td>\n",
       "      <td>[0010, 0012, 0011]</td>\n",
       "      <td>0014</td>\n",
       "      <td>4c85ce88-cb17-4ddb-b740-096dc6a82d9d</td>\n",
       "      <td>0.057068</td>\n",
       "    </tr>\n",
       "    <tr>\n",
       "      <th>42</th>\n",
       "      <td>0003</td>\n",
       "      <td>union</td>\n",
       "      <td>[0001, 0002]</td>\n",
       "      <td>[0002, 0003, 0005, 0006, 0007, 0009, 0011, 001...</td>\n",
       "      <td>[0010, 0018, 0001]</td>\n",
       "      <td>0017</td>\n",
       "      <td>190d11b0-5ffe-4468-bceb-b8eb940b8f68</td>\n",
       "      <td>0.055129</td>\n",
       "    </tr>\n",
       "    <tr>\n",
       "      <th>43</th>\n",
       "      <td>0003</td>\n",
       "      <td>union</td>\n",
       "      <td>[0001, 0002]</td>\n",
       "      <td>[0001, 0002, 0005, 0006, 0007, 0010, 0011, 001...</td>\n",
       "      <td>[0012, 0003, 0009]</td>\n",
       "      <td>0018</td>\n",
       "      <td>7966aa35-e638-45df-bea9-250c33a3ca62</td>\n",
       "      <td>0.065360</td>\n",
       "    </tr>\n",
       "    <tr>\n",
       "      <th>44</th>\n",
       "      <td>0003</td>\n",
       "      <td>union</td>\n",
       "      <td>[0001, 0002]</td>\n",
       "      <td>[0001, 0002, 0005, 0007, 0009, 0010, 0011, 001...</td>\n",
       "      <td>[0014, 0006, 0003]</td>\n",
       "      <td>0019</td>\n",
       "      <td>6d036104-a9ed-4fe7-9d7c-14f319e9d0d8</td>\n",
       "      <td>0.068772</td>\n",
       "    </tr>\n",
       "  </tbody>\n",
       "</table>\n",
       "</div>"
      ],
      "text/plain": [
       "   criteriumId criteriumName labelerIdList  \\\n",
       "0         0001            E1        [0001]   \n",
       "1         0001            E1        [0001]   \n",
       "2         0001            E1        [0001]   \n",
       "3         0001            E1        [0001]   \n",
       "4         0001            E1        [0001]   \n",
       "5         0001            E1        [0001]   \n",
       "6         0001            E1        [0001]   \n",
       "7         0001            E1        [0001]   \n",
       "8         0001            E1        [0001]   \n",
       "9         0001            E1        [0001]   \n",
       "10        0001            E1        [0001]   \n",
       "11        0001            E1        [0001]   \n",
       "12        0001            E1        [0001]   \n",
       "13        0001            E1        [0001]   \n",
       "14        0001            E1        [0001]   \n",
       "15        0002            E2        [0002]   \n",
       "16        0002            E2        [0002]   \n",
       "17        0002            E2        [0002]   \n",
       "18        0002            E2        [0002]   \n",
       "19        0002            E2        [0002]   \n",
       "20        0002            E2        [0002]   \n",
       "21        0002            E2        [0002]   \n",
       "22        0002            E2        [0002]   \n",
       "23        0002            E2        [0002]   \n",
       "24        0002            E2        [0002]   \n",
       "25        0002            E2        [0002]   \n",
       "26        0002            E2        [0002]   \n",
       "27        0002            E2        [0002]   \n",
       "28        0002            E2        [0002]   \n",
       "29        0002            E2        [0002]   \n",
       "30        0003         union  [0001, 0002]   \n",
       "31        0003         union  [0001, 0002]   \n",
       "32        0003         union  [0001, 0002]   \n",
       "33        0003         union  [0001, 0002]   \n",
       "34        0003         union  [0001, 0002]   \n",
       "35        0003         union  [0001, 0002]   \n",
       "36        0003         union  [0001, 0002]   \n",
       "37        0003         union  [0001, 0002]   \n",
       "38        0003         union  [0001, 0002]   \n",
       "39        0003         union  [0001, 0002]   \n",
       "40        0003         union  [0001, 0002]   \n",
       "41        0003         union  [0001, 0002]   \n",
       "42        0003         union  [0001, 0002]   \n",
       "43        0003         union  [0001, 0002]   \n",
       "44        0003         union  [0001, 0002]   \n",
       "\n",
       "                                                train                 val  \\\n",
       "0   [0003, 0005, 0007, 0009, 0010, 0011, 0012, 001...  [0017, 0002, 0006]   \n",
       "1   [0001, 0003, 0005, 0007, 0009, 0010, 0011, 001...  [0006, 0013, 0019]   \n",
       "2   [0002, 0005, 0007, 0009, 0010, 0011, 0012, 001...  [0013, 0006, 0001]   \n",
       "3   [0001, 0002, 0003, 0006, 0007, 0009, 0010, 001...  [0018, 0014, 0012]   \n",
       "4   [0003, 0007, 0009, 0010, 0011, 0012, 0013, 001...  [0005, 0001, 0002]   \n",
       "5   [0001, 0002, 0003, 0010, 0011, 0012, 0013, 001...  [0005, 0006, 0009]   \n",
       "6   [0001, 0003, 0005, 0006, 0007, 0010, 0011, 001...  [0002, 0017, 0013]   \n",
       "7   [0002, 0003, 0005, 0006, 0007, 0009, 0012, 001...  [0017, 0001, 0011]   \n",
       "8   [0001, 0003, 0005, 0006, 0009, 0010, 0012, 001...  [0002, 0018, 0007]   \n",
       "9   [0002, 0003, 0005, 0006, 0009, 0011, 0013, 001...  [0001, 0007, 0010]   \n",
       "10  [0002, 0003, 0005, 0006, 0007, 0010, 0011, 001...  [0009, 0001, 0012]   \n",
       "11  [0001, 0002, 0003, 0005, 0006, 0007, 0009, 001...  [0010, 0012, 0011]   \n",
       "12  [0002, 0003, 0005, 0006, 0007, 0009, 0011, 001...  [0010, 0018, 0001]   \n",
       "13  [0001, 0002, 0005, 0006, 0007, 0010, 0011, 001...  [0012, 0003, 0009]   \n",
       "14  [0001, 0002, 0005, 0007, 0009, 0010, 0011, 001...  [0014, 0006, 0003]   \n",
       "15  [0003, 0005, 0007, 0009, 0010, 0011, 0012, 001...  [0017, 0002, 0006]   \n",
       "16  [0001, 0003, 0005, 0007, 0009, 0010, 0011, 001...  [0006, 0013, 0019]   \n",
       "17  [0002, 0005, 0007, 0009, 0010, 0011, 0012, 001...  [0013, 0006, 0001]   \n",
       "18  [0001, 0002, 0003, 0006, 0007, 0009, 0010, 001...  [0018, 0014, 0012]   \n",
       "19  [0003, 0007, 0009, 0010, 0011, 0012, 0013, 001...  [0005, 0001, 0002]   \n",
       "20  [0001, 0002, 0003, 0010, 0011, 0012, 0013, 001...  [0005, 0006, 0009]   \n",
       "21  [0001, 0003, 0005, 0006, 0007, 0010, 0011, 001...  [0002, 0017, 0013]   \n",
       "22  [0002, 0003, 0005, 0006, 0007, 0009, 0012, 001...  [0017, 0001, 0011]   \n",
       "23  [0001, 0003, 0005, 0006, 0009, 0010, 0012, 001...  [0002, 0018, 0007]   \n",
       "24  [0002, 0003, 0005, 0006, 0009, 0011, 0013, 001...  [0001, 0007, 0010]   \n",
       "25  [0002, 0003, 0005, 0006, 0007, 0010, 0011, 001...  [0009, 0001, 0012]   \n",
       "26  [0001, 0002, 0003, 0005, 0006, 0007, 0009, 001...  [0010, 0012, 0011]   \n",
       "27  [0002, 0003, 0005, 0006, 0007, 0009, 0011, 001...  [0010, 0018, 0001]   \n",
       "28  [0001, 0002, 0005, 0006, 0007, 0010, 0011, 001...  [0012, 0003, 0009]   \n",
       "29  [0001, 0002, 0005, 0007, 0009, 0010, 0011, 001...  [0014, 0006, 0003]   \n",
       "30  [0003, 0005, 0007, 0009, 0010, 0011, 0012, 001...  [0017, 0002, 0006]   \n",
       "31  [0001, 0003, 0005, 0007, 0009, 0010, 0011, 001...  [0006, 0013, 0019]   \n",
       "32  [0002, 0005, 0007, 0009, 0010, 0011, 0012, 001...  [0013, 0006, 0001]   \n",
       "33  [0001, 0002, 0003, 0006, 0007, 0009, 0010, 001...  [0018, 0014, 0012]   \n",
       "34  [0003, 0007, 0009, 0010, 0011, 0012, 0013, 001...  [0005, 0001, 0002]   \n",
       "35  [0001, 0002, 0003, 0010, 0011, 0012, 0013, 001...  [0005, 0006, 0009]   \n",
       "36  [0001, 0003, 0005, 0006, 0007, 0010, 0011, 001...  [0002, 0017, 0013]   \n",
       "37  [0002, 0003, 0005, 0006, 0007, 0009, 0012, 001...  [0017, 0001, 0011]   \n",
       "38  [0001, 0003, 0005, 0006, 0009, 0010, 0012, 001...  [0002, 0018, 0007]   \n",
       "39  [0002, 0003, 0005, 0006, 0009, 0011, 0013, 001...  [0001, 0007, 0010]   \n",
       "40  [0002, 0003, 0005, 0006, 0007, 0010, 0011, 001...  [0009, 0001, 0012]   \n",
       "41  [0001, 0002, 0003, 0005, 0006, 0007, 0009, 001...  [0010, 0012, 0011]   \n",
       "42  [0002, 0003, 0005, 0006, 0007, 0009, 0011, 001...  [0010, 0018, 0001]   \n",
       "43  [0001, 0002, 0005, 0006, 0007, 0010, 0011, 001...  [0012, 0003, 0009]   \n",
       "44  [0001, 0002, 0005, 0007, 0009, 0010, 0011, 001...  [0014, 0006, 0003]   \n",
       "\n",
       "    test                               modelId  spindleTimeRate  \n",
       "0   0001  9e4dd9bb-a7d9-4ee8-a762-d656d8308d91         0.018639  \n",
       "1   0002  5e1bcb8a-f879-4f42-ae21-0e1ae715095f         0.020055  \n",
       "2   0003  2ecef3ee-0879-42d7-bcf0-ecfa0e3e601a         0.021075  \n",
       "3   0005  52b0d6a8-7f01-4694-85d4-14ef17a025b9         0.018331  \n",
       "4   0006  32c9793a-2115-4e77-8b6f-e8f71d09cecb         0.019222  \n",
       "5   0007  241d9889-61ff-47f7-97c2-f502ae3dba38         0.019625  \n",
       "6   0009  f6a46037-1f32-40b5-a6ff-cd293b0e4203         0.017824  \n",
       "7   0010  6cfc1f74-3653-47eb-a166-f59fefa13825         0.017542  \n",
       "8   0011  68c5483d-9072-4478-8a87-a7af3324f690         0.015442  \n",
       "9   0012  349fe35c-b749-431d-8e8c-c288b150e998         0.016460  \n",
       "10  0013  4babfd03-bb9d-4dd2-a829-ad9de3f05932         0.017297  \n",
       "11  0014  8b17d41d-edbb-461c-87d2-300850772dae         0.017868  \n",
       "12  0017  0363bbae-1f8e-4b17-9c0c-12617bda2825         0.016504  \n",
       "13  0018  3ab00c3d-e088-430b-81c0-65466ec51055         0.018626  \n",
       "14  0019  a223e573-b48d-418b-a3d3-7c7ae2c5dee7         0.022439  \n",
       "15  0001  bf958847-77fc-4eab-9c95-7a30ef71f8ee         0.057005  \n",
       "16  0002  f733d4b9-1730-40f9-91c2-f0ac2f36367e         0.061438  \n",
       "17  0003  b7018fb5-07f6-4ca6-a2ae-9c1646bde5b9         0.063269  \n",
       "18  0005  d47802dc-da95-4420-a6f5-a4bb291c9385         0.062012  \n",
       "19  0006  556a03bf-82b3-4468-b1ff-c804988a238a         0.058957  \n",
       "20  0007  d6976249-69b2-42de-a8b2-16adbd07e4b9         0.061686  \n",
       "21  0009  3237920b-4e80-4a7b-83af-d66298816ba3         0.056088  \n",
       "22  0010  92756d09-a80a-49f1-bbfc-f8a12570ddbe         0.052646  \n",
       "23  0011  2d1def14-06c9-4a40-a577-752522c66ed5         0.055127  \n",
       "24  0012  c930c4a8-32c1-41d8-a540-db8ec02d8c50         0.053302  \n",
       "25  0013  6907442d-1a9b-43cd-9fe4-9121ddc99243         0.055264  \n",
       "26  0014  b76944b2-6421-4f77-a082-43f348cd7e7c         0.055852  \n",
       "27  0017  ca57f68a-6762-4170-9f27-043a81703239         0.054126  \n",
       "28  0018  657f22e6-d58c-4ebd-b837-9ffa0b1aa3a7         0.064451  \n",
       "29  0019  f07a4cf8-c75c-4087-9b66-b678bcf1c5d8         0.067263  \n",
       "30  0001  f3ec491b-0006-4caa-ae15-ae896cb2d67e         0.058468  \n",
       "31  0002  6491a608-d9e0-4af8-bfcb-4213b7921942         0.062867  \n",
       "32  0003  257f50f6-47f8-43cb-bd89-084609bb54f4         0.064768  \n",
       "33  0005  1531e4ee-35ce-4d1c-a1f9-c3c93a7adb13         0.062913  \n",
       "34  0006  ea67e468-eb31-4b91-9973-01efd704fdfd         0.060454  \n",
       "35  0007  36af1678-f8a9-4522-bf98-7726af8393a9         0.062901  \n",
       "36  0009  da8325b6-379e-496f-acb8-3c105a943c56         0.057417  \n",
       "37  0010  a832e8e9-3213-4caf-b34f-cdd51a27167b         0.054024  \n",
       "38  0011  8e0df4bf-4d23-4aa8-aa60-b26ac4bc4dbf         0.055899  \n",
       "39  0012  a4b03b48-4c81-4340-b92a-12f602f553a2         0.054366  \n",
       "40  0013  36e2b73b-50a2-4f5b-a897-2d47546b9d67         0.056493  \n",
       "41  0014  4c85ce88-cb17-4ddb-b740-096dc6a82d9d         0.057068  \n",
       "42  0017  190d11b0-5ffe-4468-bceb-b8eb940b8f68         0.055129  \n",
       "43  0018  7966aa35-e638-45df-bea9-250c33a3ca62         0.065360  \n",
       "44  0019  6d036104-a9ed-4fe7-9d7c-14f319e9d0d8         0.068772  "
      ]
     },
     "execution_count": 11,
     "metadata": {},
     "output_type": "execute_result"
    }
   ],
   "source": [
    "experimentModels"
   ]
  },
  {
   "cell_type": "code",
   "execution_count": 12,
   "metadata": {},
   "outputs": [
    {
     "data": {
      "text/html": [
       "<div>\n",
       "<style scoped>\n",
       "    .dataframe tbody tr th:only-of-type {\n",
       "        vertical-align: middle;\n",
       "    }\n",
       "\n",
       "    .dataframe tbody tr th {\n",
       "        vertical-align: top;\n",
       "    }\n",
       "\n",
       "    .dataframe thead tr th {\n",
       "        text-align: left;\n",
       "    }\n",
       "\n",
       "    .dataframe thead tr:last-of-type th {\n",
       "        text-align: right;\n",
       "    }\n",
       "</style>\n",
       "<table border=\"1\" class=\"dataframe\">\n",
       "  <thead>\n",
       "    <tr>\n",
       "      <th></th>\n",
       "      <th colspan=\"8\" halign=\"left\">spindleTimeRate</th>\n",
       "    </tr>\n",
       "    <tr>\n",
       "      <th></th>\n",
       "      <th>count</th>\n",
       "      <th>mean</th>\n",
       "      <th>std</th>\n",
       "      <th>min</th>\n",
       "      <th>25%</th>\n",
       "      <th>50%</th>\n",
       "      <th>75%</th>\n",
       "      <th>max</th>\n",
       "    </tr>\n",
       "    <tr>\n",
       "      <th>criteriumName</th>\n",
       "      <th></th>\n",
       "      <th></th>\n",
       "      <th></th>\n",
       "      <th></th>\n",
       "      <th></th>\n",
       "      <th></th>\n",
       "      <th></th>\n",
       "      <th></th>\n",
       "    </tr>\n",
       "  </thead>\n",
       "  <tbody>\n",
       "    <tr>\n",
       "      <th>E1</th>\n",
       "      <td>15.0</td>\n",
       "      <td>0.018463</td>\n",
       "      <td>0.001834</td>\n",
       "      <td>0.015442</td>\n",
       "      <td>0.017419</td>\n",
       "      <td>0.018331</td>\n",
       "      <td>0.019424</td>\n",
       "      <td>0.022439</td>\n",
       "    </tr>\n",
       "    <tr>\n",
       "      <th>E2</th>\n",
       "      <td>15.0</td>\n",
       "      <td>0.058566</td>\n",
       "      <td>0.004500</td>\n",
       "      <td>0.052646</td>\n",
       "      <td>0.055195</td>\n",
       "      <td>0.057005</td>\n",
       "      <td>0.061849</td>\n",
       "      <td>0.067263</td>\n",
       "    </tr>\n",
       "    <tr>\n",
       "      <th>union</th>\n",
       "      <td>15.0</td>\n",
       "      <td>0.059793</td>\n",
       "      <td>0.004559</td>\n",
       "      <td>0.054024</td>\n",
       "      <td>0.056196</td>\n",
       "      <td>0.058468</td>\n",
       "      <td>0.062907</td>\n",
       "      <td>0.068772</td>\n",
       "    </tr>\n",
       "  </tbody>\n",
       "</table>\n",
       "</div>"
      ],
      "text/plain": [
       "              spindleTimeRate                                          \\\n",
       "                        count      mean       std       min       25%   \n",
       "criteriumName                                                           \n",
       "E1                       15.0  0.018463  0.001834  0.015442  0.017419   \n",
       "E2                       15.0  0.058566  0.004500  0.052646  0.055195   \n",
       "union                    15.0  0.059793  0.004559  0.054024  0.056196   \n",
       "\n",
       "                                             \n",
       "                    50%       75%       max  \n",
       "criteriumName                                \n",
       "E1             0.018331  0.019424  0.022439  \n",
       "E2             0.057005  0.061849  0.067263  \n",
       "union          0.058468  0.062907  0.068772  "
      ]
     },
     "execution_count": 12,
     "metadata": {},
     "output_type": "execute_result"
    }
   ],
   "source": [
    "#we show the difference in class inbalance for the annotation criteria considered\n",
    "experimentModels[['criteriumName','spindleTimeRate']].groupby('criteriumName').describe()"
   ]
  },
  {
   "cell_type": "code",
   "execution_count": 13,
   "metadata": {},
   "outputs": [
    {
     "data": {
      "text/html": [
       "<div>\n",
       "<style scoped>\n",
       "    .dataframe tbody tr th:only-of-type {\n",
       "        vertical-align: middle;\n",
       "    }\n",
       "\n",
       "    .dataframe tbody tr th {\n",
       "        vertical-align: top;\n",
       "    }\n",
       "\n",
       "    .dataframe thead th {\n",
       "        text-align: right;\n",
       "    }\n",
       "</style>\n",
       "<table border=\"1\" class=\"dataframe\">\n",
       "  <thead>\n",
       "    <tr style=\"text-align: right;\">\n",
       "      <th></th>\n",
       "      <th>characteristic</th>\n",
       "      <th>bandName</th>\n",
       "      <th>window</th>\n",
       "    </tr>\n",
       "  </thead>\n",
       "  <tbody>\n",
       "    <tr>\n",
       "      <th>21</th>\n",
       "      <td>hjortActivity</td>\n",
       "      <td>sigma</td>\n",
       "      <td>0.5</td>\n",
       "    </tr>\n",
       "    <tr>\n",
       "      <th>66</th>\n",
       "      <td>petrosian</td>\n",
       "      <td>broadband</td>\n",
       "      <td>0.5</td>\n",
       "    </tr>\n",
       "    <tr>\n",
       "      <th>22</th>\n",
       "      <td>hjortActivity</td>\n",
       "      <td>theta</td>\n",
       "      <td>0.5</td>\n",
       "    </tr>\n",
       "    <tr>\n",
       "      <th>79</th>\n",
       "      <td>relativePower</td>\n",
       "      <td>beta1</td>\n",
       "      <td>0.5</td>\n",
       "    </tr>\n",
       "    <tr>\n",
       "      <th>29</th>\n",
       "      <td>hjortComplexity</td>\n",
       "      <td>sigma</td>\n",
       "      <td>0.5</td>\n",
       "    </tr>\n",
       "  </tbody>\n",
       "</table>\n",
       "</div>"
      ],
      "text/plain": [
       "     characteristic   bandName  window\n",
       "21    hjortActivity      sigma     0.5\n",
       "66        petrosian  broadband     0.5\n",
       "22    hjortActivity      theta     0.5\n",
       "79    relativePower      beta1     0.5\n",
       "29  hjortComplexity      sigma     0.5"
      ]
     },
     "execution_count": 13,
     "metadata": {},
     "output_type": "execute_result"
    }
   ],
   "source": [
    "featureSelection"
   ]
  },
  {
   "attachments": {},
   "cell_type": "markdown",
   "metadata": {},
   "source": [
    "## Hyperparameter definition\n",
    "this should come from a previous evaluation notebook"
   ]
  },
  {
   "cell_type": "code",
   "execution_count": 14,
   "metadata": {},
   "outputs": [],
   "source": [
    "hyperClose=0.25\n",
    "hyperDuration=0.3\n",
    "hyperThres=0.3\n",
    "hyperDepth=20"
   ]
  },
  {
   "attachments": {},
   "cell_type": "markdown",
   "metadata": {},
   "source": [
    "## Testing with E1 criterium\n",
    "we test the optimal points for the prediction threshold and number of boost iterations in the different validation groups"
   ]
  },
  {
   "cell_type": "code",
   "execution_count": 15,
   "metadata": {},
   "outputs": [
    {
     "data": {
      "text/html": [
       "<div>\n",
       "<style scoped>\n",
       "    .dataframe tbody tr th:only-of-type {\n",
       "        vertical-align: middle;\n",
       "    }\n",
       "\n",
       "    .dataframe tbody tr th {\n",
       "        vertical-align: top;\n",
       "    }\n",
       "\n",
       "    .dataframe thead th {\n",
       "        text-align: right;\n",
       "    }\n",
       "</style>\n",
       "<table border=\"1\" class=\"dataframe\">\n",
       "  <thead>\n",
       "    <tr style=\"text-align: right;\">\n",
       "      <th></th>\n",
       "      <th>criteriumId</th>\n",
       "      <th>criteriumName</th>\n",
       "      <th>labelerIdList</th>\n",
       "      <th>train</th>\n",
       "      <th>val</th>\n",
       "      <th>test</th>\n",
       "      <th>modelId</th>\n",
       "      <th>spindleTimeRate</th>\n",
       "    </tr>\n",
       "  </thead>\n",
       "  <tbody>\n",
       "    <tr>\n",
       "      <th>0</th>\n",
       "      <td>0001</td>\n",
       "      <td>E1</td>\n",
       "      <td>[0001]</td>\n",
       "      <td>[0003, 0005, 0007, 0009, 0010, 0011, 0012, 001...</td>\n",
       "      <td>[0017, 0002, 0006]</td>\n",
       "      <td>0001</td>\n",
       "      <td>9e4dd9bb-a7d9-4ee8-a762-d656d8308d91</td>\n",
       "      <td>0.018639</td>\n",
       "    </tr>\n",
       "    <tr>\n",
       "      <th>1</th>\n",
       "      <td>0001</td>\n",
       "      <td>E1</td>\n",
       "      <td>[0001]</td>\n",
       "      <td>[0001, 0003, 0005, 0007, 0009, 0010, 0011, 001...</td>\n",
       "      <td>[0006, 0013, 0019]</td>\n",
       "      <td>0002</td>\n",
       "      <td>5e1bcb8a-f879-4f42-ae21-0e1ae715095f</td>\n",
       "      <td>0.020055</td>\n",
       "    </tr>\n",
       "    <tr>\n",
       "      <th>2</th>\n",
       "      <td>0001</td>\n",
       "      <td>E1</td>\n",
       "      <td>[0001]</td>\n",
       "      <td>[0002, 0005, 0007, 0009, 0010, 0011, 0012, 001...</td>\n",
       "      <td>[0013, 0006, 0001]</td>\n",
       "      <td>0003</td>\n",
       "      <td>2ecef3ee-0879-42d7-bcf0-ecfa0e3e601a</td>\n",
       "      <td>0.021075</td>\n",
       "    </tr>\n",
       "    <tr>\n",
       "      <th>3</th>\n",
       "      <td>0001</td>\n",
       "      <td>E1</td>\n",
       "      <td>[0001]</td>\n",
       "      <td>[0001, 0002, 0003, 0006, 0007, 0009, 0010, 001...</td>\n",
       "      <td>[0018, 0014, 0012]</td>\n",
       "      <td>0005</td>\n",
       "      <td>52b0d6a8-7f01-4694-85d4-14ef17a025b9</td>\n",
       "      <td>0.018331</td>\n",
       "    </tr>\n",
       "    <tr>\n",
       "      <th>4</th>\n",
       "      <td>0001</td>\n",
       "      <td>E1</td>\n",
       "      <td>[0001]</td>\n",
       "      <td>[0003, 0007, 0009, 0010, 0011, 0012, 0013, 001...</td>\n",
       "      <td>[0005, 0001, 0002]</td>\n",
       "      <td>0006</td>\n",
       "      <td>32c9793a-2115-4e77-8b6f-e8f71d09cecb</td>\n",
       "      <td>0.019222</td>\n",
       "    </tr>\n",
       "    <tr>\n",
       "      <th>5</th>\n",
       "      <td>0001</td>\n",
       "      <td>E1</td>\n",
       "      <td>[0001]</td>\n",
       "      <td>[0001, 0002, 0003, 0010, 0011, 0012, 0013, 001...</td>\n",
       "      <td>[0005, 0006, 0009]</td>\n",
       "      <td>0007</td>\n",
       "      <td>241d9889-61ff-47f7-97c2-f502ae3dba38</td>\n",
       "      <td>0.019625</td>\n",
       "    </tr>\n",
       "    <tr>\n",
       "      <th>6</th>\n",
       "      <td>0001</td>\n",
       "      <td>E1</td>\n",
       "      <td>[0001]</td>\n",
       "      <td>[0001, 0003, 0005, 0006, 0007, 0010, 0011, 001...</td>\n",
       "      <td>[0002, 0017, 0013]</td>\n",
       "      <td>0009</td>\n",
       "      <td>f6a46037-1f32-40b5-a6ff-cd293b0e4203</td>\n",
       "      <td>0.017824</td>\n",
       "    </tr>\n",
       "    <tr>\n",
       "      <th>7</th>\n",
       "      <td>0001</td>\n",
       "      <td>E1</td>\n",
       "      <td>[0001]</td>\n",
       "      <td>[0002, 0003, 0005, 0006, 0007, 0009, 0012, 001...</td>\n",
       "      <td>[0017, 0001, 0011]</td>\n",
       "      <td>0010</td>\n",
       "      <td>6cfc1f74-3653-47eb-a166-f59fefa13825</td>\n",
       "      <td>0.017542</td>\n",
       "    </tr>\n",
       "    <tr>\n",
       "      <th>8</th>\n",
       "      <td>0001</td>\n",
       "      <td>E1</td>\n",
       "      <td>[0001]</td>\n",
       "      <td>[0001, 0003, 0005, 0006, 0009, 0010, 0012, 001...</td>\n",
       "      <td>[0002, 0018, 0007]</td>\n",
       "      <td>0011</td>\n",
       "      <td>68c5483d-9072-4478-8a87-a7af3324f690</td>\n",
       "      <td>0.015442</td>\n",
       "    </tr>\n",
       "    <tr>\n",
       "      <th>9</th>\n",
       "      <td>0001</td>\n",
       "      <td>E1</td>\n",
       "      <td>[0001]</td>\n",
       "      <td>[0002, 0003, 0005, 0006, 0009, 0011, 0013, 001...</td>\n",
       "      <td>[0001, 0007, 0010]</td>\n",
       "      <td>0012</td>\n",
       "      <td>349fe35c-b749-431d-8e8c-c288b150e998</td>\n",
       "      <td>0.016460</td>\n",
       "    </tr>\n",
       "    <tr>\n",
       "      <th>10</th>\n",
       "      <td>0001</td>\n",
       "      <td>E1</td>\n",
       "      <td>[0001]</td>\n",
       "      <td>[0002, 0003, 0005, 0006, 0007, 0010, 0011, 001...</td>\n",
       "      <td>[0009, 0001, 0012]</td>\n",
       "      <td>0013</td>\n",
       "      <td>4babfd03-bb9d-4dd2-a829-ad9de3f05932</td>\n",
       "      <td>0.017297</td>\n",
       "    </tr>\n",
       "    <tr>\n",
       "      <th>11</th>\n",
       "      <td>0001</td>\n",
       "      <td>E1</td>\n",
       "      <td>[0001]</td>\n",
       "      <td>[0001, 0002, 0003, 0005, 0006, 0007, 0009, 001...</td>\n",
       "      <td>[0010, 0012, 0011]</td>\n",
       "      <td>0014</td>\n",
       "      <td>8b17d41d-edbb-461c-87d2-300850772dae</td>\n",
       "      <td>0.017868</td>\n",
       "    </tr>\n",
       "    <tr>\n",
       "      <th>12</th>\n",
       "      <td>0001</td>\n",
       "      <td>E1</td>\n",
       "      <td>[0001]</td>\n",
       "      <td>[0002, 0003, 0005, 0006, 0007, 0009, 0011, 001...</td>\n",
       "      <td>[0010, 0018, 0001]</td>\n",
       "      <td>0017</td>\n",
       "      <td>0363bbae-1f8e-4b17-9c0c-12617bda2825</td>\n",
       "      <td>0.016504</td>\n",
       "    </tr>\n",
       "    <tr>\n",
       "      <th>13</th>\n",
       "      <td>0001</td>\n",
       "      <td>E1</td>\n",
       "      <td>[0001]</td>\n",
       "      <td>[0001, 0002, 0005, 0006, 0007, 0010, 0011, 001...</td>\n",
       "      <td>[0012, 0003, 0009]</td>\n",
       "      <td>0018</td>\n",
       "      <td>3ab00c3d-e088-430b-81c0-65466ec51055</td>\n",
       "      <td>0.018626</td>\n",
       "    </tr>\n",
       "    <tr>\n",
       "      <th>14</th>\n",
       "      <td>0001</td>\n",
       "      <td>E1</td>\n",
       "      <td>[0001]</td>\n",
       "      <td>[0001, 0002, 0005, 0007, 0009, 0010, 0011, 001...</td>\n",
       "      <td>[0014, 0006, 0003]</td>\n",
       "      <td>0019</td>\n",
       "      <td>a223e573-b48d-418b-a3d3-7c7ae2c5dee7</td>\n",
       "      <td>0.022439</td>\n",
       "    </tr>\n",
       "  </tbody>\n",
       "</table>\n",
       "</div>"
      ],
      "text/plain": [
       "   criteriumId criteriumName labelerIdList  \\\n",
       "0         0001            E1        [0001]   \n",
       "1         0001            E1        [0001]   \n",
       "2         0001            E1        [0001]   \n",
       "3         0001            E1        [0001]   \n",
       "4         0001            E1        [0001]   \n",
       "5         0001            E1        [0001]   \n",
       "6         0001            E1        [0001]   \n",
       "7         0001            E1        [0001]   \n",
       "8         0001            E1        [0001]   \n",
       "9         0001            E1        [0001]   \n",
       "10        0001            E1        [0001]   \n",
       "11        0001            E1        [0001]   \n",
       "12        0001            E1        [0001]   \n",
       "13        0001            E1        [0001]   \n",
       "14        0001            E1        [0001]   \n",
       "\n",
       "                                                train                 val  \\\n",
       "0   [0003, 0005, 0007, 0009, 0010, 0011, 0012, 001...  [0017, 0002, 0006]   \n",
       "1   [0001, 0003, 0005, 0007, 0009, 0010, 0011, 001...  [0006, 0013, 0019]   \n",
       "2   [0002, 0005, 0007, 0009, 0010, 0011, 0012, 001...  [0013, 0006, 0001]   \n",
       "3   [0001, 0002, 0003, 0006, 0007, 0009, 0010, 001...  [0018, 0014, 0012]   \n",
       "4   [0003, 0007, 0009, 0010, 0011, 0012, 0013, 001...  [0005, 0001, 0002]   \n",
       "5   [0001, 0002, 0003, 0010, 0011, 0012, 0013, 001...  [0005, 0006, 0009]   \n",
       "6   [0001, 0003, 0005, 0006, 0007, 0010, 0011, 001...  [0002, 0017, 0013]   \n",
       "7   [0002, 0003, 0005, 0006, 0007, 0009, 0012, 001...  [0017, 0001, 0011]   \n",
       "8   [0001, 0003, 0005, 0006, 0009, 0010, 0012, 001...  [0002, 0018, 0007]   \n",
       "9   [0002, 0003, 0005, 0006, 0009, 0011, 0013, 001...  [0001, 0007, 0010]   \n",
       "10  [0002, 0003, 0005, 0006, 0007, 0010, 0011, 001...  [0009, 0001, 0012]   \n",
       "11  [0001, 0002, 0003, 0005, 0006, 0007, 0009, 001...  [0010, 0012, 0011]   \n",
       "12  [0002, 0003, 0005, 0006, 0007, 0009, 0011, 001...  [0010, 0018, 0001]   \n",
       "13  [0001, 0002, 0005, 0006, 0007, 0010, 0011, 001...  [0012, 0003, 0009]   \n",
       "14  [0001, 0002, 0005, 0007, 0009, 0010, 0011, 001...  [0014, 0006, 0003]   \n",
       "\n",
       "    test                               modelId  spindleTimeRate  \n",
       "0   0001  9e4dd9bb-a7d9-4ee8-a762-d656d8308d91         0.018639  \n",
       "1   0002  5e1bcb8a-f879-4f42-ae21-0e1ae715095f         0.020055  \n",
       "2   0003  2ecef3ee-0879-42d7-bcf0-ecfa0e3e601a         0.021075  \n",
       "3   0005  52b0d6a8-7f01-4694-85d4-14ef17a025b9         0.018331  \n",
       "4   0006  32c9793a-2115-4e77-8b6f-e8f71d09cecb         0.019222  \n",
       "5   0007  241d9889-61ff-47f7-97c2-f502ae3dba38         0.019625  \n",
       "6   0009  f6a46037-1f32-40b5-a6ff-cd293b0e4203         0.017824  \n",
       "7   0010  6cfc1f74-3653-47eb-a166-f59fefa13825         0.017542  \n",
       "8   0011  68c5483d-9072-4478-8a87-a7af3324f690         0.015442  \n",
       "9   0012  349fe35c-b749-431d-8e8c-c288b150e998         0.016460  \n",
       "10  0013  4babfd03-bb9d-4dd2-a829-ad9de3f05932         0.017297  \n",
       "11  0014  8b17d41d-edbb-461c-87d2-300850772dae         0.017868  \n",
       "12  0017  0363bbae-1f8e-4b17-9c0c-12617bda2825         0.016504  \n",
       "13  0018  3ab00c3d-e088-430b-81c0-65466ec51055         0.018626  \n",
       "14  0019  a223e573-b48d-418b-a3d3-7c7ae2c5dee7         0.022439  "
      ]
     },
     "execution_count": 15,
     "metadata": {},
     "output_type": "execute_result"
    }
   ],
   "source": [
    "experimentModels=experimentModels[experimentModels.criteriumName=='E1'].reset_index(drop=True)\n",
    "experimentModels"
   ]
  },
  {
   "cell_type": "code",
   "execution_count": 16,
   "metadata": {},
   "outputs": [],
   "source": [
    "#threshold for the metric by event\n",
    "masterIoU=0.2"
   ]
  },
  {
   "cell_type": "code",
   "execution_count": 17,
   "metadata": {},
   "outputs": [],
   "source": [
    "def getIou(coordA,coordB):\n",
    "    if (coordA[1]<coordB[0])|(coordB[1]<coordA[0]): #NOT INTERSECTION\n",
    "        iou=0\n",
    "    else:   #INTERSECTION\n",
    "        inter=np.min((coordA[1]-coordB[0],coordB[1]-coordA[0]))\n",
    "        union=np.max((coordA[1]-coordB[0],coordB[1]-coordA[0]))\n",
    "        iou=inter/union\n",
    "    return iou\n",
    "\n",
    "def annotationPairToMetrics(annotations,detections,thresIoU=0.2):\n",
    "    #get the coords\n",
    "    gtCoords=zip(annotations.startInd,annotations.stopInd)\n",
    "    outCoords=zip(detections.startInd,detections.stopInd)\n",
    "    #calculate the iou vector\n",
    "    iouVector=np.array(list(itt.starmap(getIou,itt.product(gtCoords,outCoords))))\n",
    "    #reshape to a matrix\n",
    "    iouMatrix=iouVector.reshape(len(annotations),len(detections))\n",
    "    #binarize\n",
    "    binarized=iouMatrix>thresIoU\n",
    "    #calculateF1\n",
    "    outF1=(np.sum(np.max(binarized,axis=0))+np.sum(np.max(binarized,axis=1)))/(len(annotations)+len(detections))\n",
    "    recall=np.sum(np.max(binarized,axis=1))/len(annotations)\n",
    "    precision=np.sum(np.max(binarized,axis=0))/len(detections)\n",
    "    return outF1,recall,precision"
   ]
  },
  {
   "cell_type": "code",
   "execution_count": 18,
   "metadata": {},
   "outputs": [
    {
     "name": "stdout",
     "output_type": "stream",
     "text": [
      "*************************\n",
      "1 of 15\n",
      "*************************\n",
      "2 of 15\n",
      "*************************\n",
      "3 of 15\n",
      "*************************\n",
      "4 of 15\n",
      "*************************\n",
      "5 of 15\n",
      "*************************\n",
      "6 of 15\n",
      "*************************\n",
      "7 of 15\n",
      "*************************\n",
      "8 of 15\n",
      "*************************\n",
      "9 of 15\n",
      "*************************\n",
      "10 of 15\n",
      "*************************\n",
      "11 of 15\n",
      "*************************\n",
      "12 of 15\n",
      "*************************\n",
      "13 of 15\n",
      "*************************\n",
      "14 of 15\n",
      "*************************\n",
      "15 of 15\n"
     ]
    }
   ],
   "source": [
    "rawF1s=[]\n",
    "rawPrecisions=[]\n",
    "rawRecalls=[]\n",
    "\n",
    "f1s=[]\n",
    "precisions=[]\n",
    "recalls=[]\n",
    "\n",
    "eventF1s=[]\n",
    "eventPrecisions=[]\n",
    "eventRecalls=[]\n",
    "\n",
    "checks=[]\n",
    "\n",
    "for ind,row in experimentModels.iterrows():\n",
    "    print('*************************')\n",
    "    print(str(ind+1)+' of '+str(len(experimentModels)) )\n",
    "    #load model\n",
    "    model=loadBooster(row.modelId,experimentId,datapath)\n",
    "\n",
    "    testSubjectId=row.test\n",
    "    #Define annotations criterium\n",
    "    usedAnnotations=annotations[annotations.labelerId.isin(row.labelerIdList)].reset_index(drop=True)\n",
    "    #Load features and labels\n",
    "    testFeatures=loadFeatureMatrix([testSubjectId],featureSelection,signalsMetadata,samplerate,datapath)\n",
    "    testLabels=loadLabelsVector([testSubjectId],usedAnnotations,signalsMetadata,samplerate)\n",
    "\n",
    "    #Predict\n",
    "    testDMatrix=xgb.DMatrix(data=testFeatures)\n",
    "    probabilities=model.predict(testDMatrix,iteration_range=(0,hyperDepth))\n",
    "    rawLabels=probabilities>=hyperThres\n",
    "    #Raw Metrics\n",
    "    rawTp=np.sum(rawLabels*testLabels)\n",
    "    rawFp=np.sum(rawLabels*(1-testLabels))\n",
    "    rawTn=np.sum((1-rawLabels)*(1-testLabels))\n",
    "    rawFn=np.sum((1-rawLabels)*testLabels)\n",
    "    #Raw appends\n",
    "    rawF1s.append(2*rawTp/(2*rawTp+rawFp+rawFn))\n",
    "    rawPrecisions.append(rawTp/(rawTp+rawFp) )\n",
    "    rawRecalls.append(rawTp/(rawTp+rawFn))\n",
    "    #Process\n",
    "    processedLabels=labelingProcess(rawLabels,hyperClose,hyperDuration,samplerate)\n",
    "    #Processed metrics\n",
    "    tp=np.sum(processedLabels*testLabels)\n",
    "    fp=np.sum(processedLabels*(1-testLabels))\n",
    "    tn=np.sum((1-processedLabels)*(1-testLabels))\n",
    "    fn=np.sum((1-processedLabels)*testLabels)\n",
    "    #Processed appends\n",
    "    f1s.append(2*tp/(2*tp+fp+fn))\n",
    "    precisions.append(tp/(tp+fp))\n",
    "    recalls.append(tp/(tp+fn))\n",
    "\n",
    "    #By-event metrics\n",
    "    processedAnnotations=labelVectorToAnnotations(processedLabels,samplerate)\n",
    "    gtAnnotations=labelVectorToAnnotations(testLabels,samplerate)   #<- or just filter the annotations\n",
    "    f,r,p=annotationPairToMetrics(gtAnnotations,processedAnnotations)\n",
    "    \n",
    "    #calculate metrics\n",
    "    eventF1s.append(f)\n",
    "    eventPrecisions.append(p)\n",
    "    eventRecalls.append(r)\n",
    "\n",
    "#include metrics in the dataframe\n",
    "experimentModels['rawF1']=rawF1s\n",
    "experimentModels['rawPrecision']=rawPrecisions\n",
    "experimentModels['rawRecall']=rawRecalls\n",
    "\n",
    "experimentModels['f1']=f1s\n",
    "experimentModels['precision']=precisions\n",
    "experimentModels['recall']=recalls\n",
    "\n",
    "experimentModels['eventF1']=eventF1s\n",
    "experimentModels['eventPrecision']=eventPrecisions\n",
    "experimentModels['eventRecall']=eventRecalls\n"
   ]
  },
  {
   "cell_type": "code",
   "execution_count": 19,
   "metadata": {},
   "outputs": [],
   "source": [
    "dumpPickle('experimentModelsTest_E1_temp.pkl',experimentModels)"
   ]
  },
  {
   "cell_type": "code",
   "execution_count": 20,
   "metadata": {},
   "outputs": [
    {
     "data": {
      "text/plain": [
       "Index(['criteriumId', 'criteriumName', 'labelerIdList', 'train', 'val', 'test',\n",
       "       'modelId', 'spindleTimeRate', 'rawF1', 'rawPrecision', 'rawRecall',\n",
       "       'f1', 'precision', 'recall', 'eventF1', 'eventPrecision',\n",
       "       'eventRecall'],\n",
       "      dtype='object')"
      ]
     },
     "execution_count": 20,
     "metadata": {},
     "output_type": "execute_result"
    }
   ],
   "source": [
    "experimentModels.columns"
   ]
  },
  {
   "cell_type": "code",
   "execution_count": 21,
   "metadata": {},
   "outputs": [
    {
     "data": {
      "application/vnd.plotly.v1+json": {
       "config": {
        "plotlyServerURL": "https://plot.ly"
       },
       "data": [
        {
         "hovertemplate": "<b>%{hovertext}</b><br><br>test=0001<br>rawF1=%{x}<br>f1=%{y}<extra></extra>",
         "hovertext": [
          "9e4dd9bb-a7d9-4ee8-a762-d656d8308d91"
         ],
         "legendgroup": "0001",
         "marker": {
          "color": "#636efa",
          "symbol": "circle"
         },
         "mode": "markers",
         "name": "0001",
         "orientation": "v",
         "showlegend": true,
         "type": "scatter",
         "x": [
          0.43445418012905995
         ],
         "xaxis": "x",
         "y": [
          0.4571466425243447
         ],
         "yaxis": "y"
        },
        {
         "alignmentgroup": "True",
         "bingroup": "y",
         "hovertemplate": "test=0001<br>f1=%{y}<br>count=%{x}<extra></extra>",
         "legendgroup": "0001",
         "marker": {
          "color": "#636efa"
         },
         "name": "0001",
         "offsetgroup": "0001",
         "opacity": 0.5,
         "showlegend": false,
         "type": "histogram",
         "xaxis": "x2",
         "y": [
          0.4571466425243447
         ],
         "yaxis": "y2"
        },
        {
         "hovertemplate": "<b>%{hovertext}</b><br><br>test=0002<br>rawF1=%{x}<br>f1=%{y}<extra></extra>",
         "hovertext": [
          "5e1bcb8a-f879-4f42-ae21-0e1ae715095f"
         ],
         "legendgroup": "0002",
         "marker": {
          "color": "#EF553B",
          "symbol": "circle"
         },
         "mode": "markers",
         "name": "0002",
         "orientation": "v",
         "showlegend": true,
         "type": "scatter",
         "x": [
          0.7102063151591179
         ],
         "xaxis": "x",
         "y": [
          0.7225203681561605
         ],
         "yaxis": "y"
        },
        {
         "alignmentgroup": "True",
         "bingroup": "y",
         "hovertemplate": "test=0002<br>f1=%{y}<br>count=%{x}<extra></extra>",
         "legendgroup": "0002",
         "marker": {
          "color": "#EF553B"
         },
         "name": "0002",
         "offsetgroup": "0002",
         "opacity": 0.5,
         "showlegend": false,
         "type": "histogram",
         "xaxis": "x2",
         "y": [
          0.7225203681561605
         ],
         "yaxis": "y2"
        },
        {
         "hovertemplate": "<b>%{hovertext}</b><br><br>test=0003<br>rawF1=%{x}<br>f1=%{y}<extra></extra>",
         "hovertext": [
          "2ecef3ee-0879-42d7-bcf0-ecfa0e3e601a"
         ],
         "legendgroup": "0003",
         "marker": {
          "color": "#00cc96",
          "symbol": "circle"
         },
         "mode": "markers",
         "name": "0003",
         "orientation": "v",
         "showlegend": true,
         "type": "scatter",
         "x": [
          0.6238360372468081
         ],
         "xaxis": "x",
         "y": [
          0.6376371868111029
         ],
         "yaxis": "y"
        },
        {
         "alignmentgroup": "True",
         "bingroup": "y",
         "hovertemplate": "test=0003<br>f1=%{y}<br>count=%{x}<extra></extra>",
         "legendgroup": "0003",
         "marker": {
          "color": "#00cc96"
         },
         "name": "0003",
         "offsetgroup": "0003",
         "opacity": 0.5,
         "showlegend": false,
         "type": "histogram",
         "xaxis": "x2",
         "y": [
          0.6376371868111029
         ],
         "yaxis": "y2"
        },
        {
         "hovertemplate": "<b>%{hovertext}</b><br><br>test=0005<br>rawF1=%{x}<br>f1=%{y}<extra></extra>",
         "hovertext": [
          "52b0d6a8-7f01-4694-85d4-14ef17a025b9"
         ],
         "legendgroup": "0005",
         "marker": {
          "color": "#ab63fa",
          "symbol": "circle"
         },
         "mode": "markers",
         "name": "0005",
         "orientation": "v",
         "showlegend": true,
         "type": "scatter",
         "x": [
          0.617078554425449
         ],
         "xaxis": "x",
         "y": [
          0.6360478383974982
         ],
         "yaxis": "y"
        },
        {
         "alignmentgroup": "True",
         "bingroup": "y",
         "hovertemplate": "test=0005<br>f1=%{y}<br>count=%{x}<extra></extra>",
         "legendgroup": "0005",
         "marker": {
          "color": "#ab63fa"
         },
         "name": "0005",
         "offsetgroup": "0005",
         "opacity": 0.5,
         "showlegend": false,
         "type": "histogram",
         "xaxis": "x2",
         "y": [
          0.6360478383974982
         ],
         "yaxis": "y2"
        },
        {
         "hovertemplate": "<b>%{hovertext}</b><br><br>test=0006<br>rawF1=%{x}<br>f1=%{y}<extra></extra>",
         "hovertext": [
          "32c9793a-2115-4e77-8b6f-e8f71d09cecb"
         ],
         "legendgroup": "0006",
         "marker": {
          "color": "#FFA15A",
          "symbol": "circle"
         },
         "mode": "markers",
         "name": "0006",
         "orientation": "v",
         "showlegend": true,
         "type": "scatter",
         "x": [
          0.593230243639306
         ],
         "xaxis": "x",
         "y": [
          0.6147104002891479
         ],
         "yaxis": "y"
        },
        {
         "alignmentgroup": "True",
         "bingroup": "y",
         "hovertemplate": "test=0006<br>f1=%{y}<br>count=%{x}<extra></extra>",
         "legendgroup": "0006",
         "marker": {
          "color": "#FFA15A"
         },
         "name": "0006",
         "offsetgroup": "0006",
         "opacity": 0.5,
         "showlegend": false,
         "type": "histogram",
         "xaxis": "x2",
         "y": [
          0.6147104002891479
         ],
         "yaxis": "y2"
        },
        {
         "hovertemplate": "<b>%{hovertext}</b><br><br>test=0007<br>rawF1=%{x}<br>f1=%{y}<extra></extra>",
         "hovertext": [
          "241d9889-61ff-47f7-97c2-f502ae3dba38"
         ],
         "legendgroup": "0007",
         "marker": {
          "color": "#19d3f3",
          "symbol": "circle"
         },
         "mode": "markers",
         "name": "0007",
         "orientation": "v",
         "showlegend": true,
         "type": "scatter",
         "x": [
          0.5770167549917028
         ],
         "xaxis": "x",
         "y": [
          0.578589133086483
         ],
         "yaxis": "y"
        },
        {
         "alignmentgroup": "True",
         "bingroup": "y",
         "hovertemplate": "test=0007<br>f1=%{y}<br>count=%{x}<extra></extra>",
         "legendgroup": "0007",
         "marker": {
          "color": "#19d3f3"
         },
         "name": "0007",
         "offsetgroup": "0007",
         "opacity": 0.5,
         "showlegend": false,
         "type": "histogram",
         "xaxis": "x2",
         "y": [
          0.578589133086483
         ],
         "yaxis": "y2"
        },
        {
         "hovertemplate": "<b>%{hovertext}</b><br><br>test=0009<br>rawF1=%{x}<br>f1=%{y}<extra></extra>",
         "hovertext": [
          "f6a46037-1f32-40b5-a6ff-cd293b0e4203"
         ],
         "legendgroup": "0009",
         "marker": {
          "color": "#FF6692",
          "symbol": "circle"
         },
         "mode": "markers",
         "name": "0009",
         "orientation": "v",
         "showlegend": true,
         "type": "scatter",
         "x": [
          0.6167643417965876
         ],
         "xaxis": "x",
         "y": [
          0.6552336244174112
         ],
         "yaxis": "y"
        },
        {
         "alignmentgroup": "True",
         "bingroup": "y",
         "hovertemplate": "test=0009<br>f1=%{y}<br>count=%{x}<extra></extra>",
         "legendgroup": "0009",
         "marker": {
          "color": "#FF6692"
         },
         "name": "0009",
         "offsetgroup": "0009",
         "opacity": 0.5,
         "showlegend": false,
         "type": "histogram",
         "xaxis": "x2",
         "y": [
          0.6552336244174112
         ],
         "yaxis": "y2"
        },
        {
         "hovertemplate": "<b>%{hovertext}</b><br><br>test=0010<br>rawF1=%{x}<br>f1=%{y}<extra></extra>",
         "hovertext": [
          "6cfc1f74-3653-47eb-a166-f59fefa13825"
         ],
         "legendgroup": "0010",
         "marker": {
          "color": "#B6E880",
          "symbol": "circle"
         },
         "mode": "markers",
         "name": "0010",
         "orientation": "v",
         "showlegend": true,
         "type": "scatter",
         "x": [
          0.6785768111573554
         ],
         "xaxis": "x",
         "y": [
          0.7005295321952496
         ],
         "yaxis": "y"
        },
        {
         "alignmentgroup": "True",
         "bingroup": "y",
         "hovertemplate": "test=0010<br>f1=%{y}<br>count=%{x}<extra></extra>",
         "legendgroup": "0010",
         "marker": {
          "color": "#B6E880"
         },
         "name": "0010",
         "offsetgroup": "0010",
         "opacity": 0.5,
         "showlegend": false,
         "type": "histogram",
         "xaxis": "x2",
         "y": [
          0.7005295321952496
         ],
         "yaxis": "y2"
        },
        {
         "hovertemplate": "<b>%{hovertext}</b><br><br>test=0011<br>rawF1=%{x}<br>f1=%{y}<extra></extra>",
         "hovertext": [
          "68c5483d-9072-4478-8a87-a7af3324f690"
         ],
         "legendgroup": "0011",
         "marker": {
          "color": "#FF97FF",
          "symbol": "circle"
         },
         "mode": "markers",
         "name": "0011",
         "orientation": "v",
         "showlegend": true,
         "type": "scatter",
         "x": [
          0.6550619151493893
         ],
         "xaxis": "x",
         "y": [
          0.6593259172700603
         ],
         "yaxis": "y"
        },
        {
         "alignmentgroup": "True",
         "bingroup": "y",
         "hovertemplate": "test=0011<br>f1=%{y}<br>count=%{x}<extra></extra>",
         "legendgroup": "0011",
         "marker": {
          "color": "#FF97FF"
         },
         "name": "0011",
         "offsetgroup": "0011",
         "opacity": 0.5,
         "showlegend": false,
         "type": "histogram",
         "xaxis": "x2",
         "y": [
          0.6593259172700603
         ],
         "yaxis": "y2"
        },
        {
         "hovertemplate": "<b>%{hovertext}</b><br><br>test=0012<br>rawF1=%{x}<br>f1=%{y}<extra></extra>",
         "hovertext": [
          "349fe35c-b749-431d-8e8c-c288b150e998"
         ],
         "legendgroup": "0012",
         "marker": {
          "color": "#FECB52",
          "symbol": "circle"
         },
         "mode": "markers",
         "name": "0012",
         "orientation": "v",
         "showlegend": true,
         "type": "scatter",
         "x": [
          0.6471605700922208
         ],
         "xaxis": "x",
         "y": [
          0.6655322220933081
         ],
         "yaxis": "y"
        },
        {
         "alignmentgroup": "True",
         "bingroup": "y",
         "hovertemplate": "test=0012<br>f1=%{y}<br>count=%{x}<extra></extra>",
         "legendgroup": "0012",
         "marker": {
          "color": "#FECB52"
         },
         "name": "0012",
         "offsetgroup": "0012",
         "opacity": 0.5,
         "showlegend": false,
         "type": "histogram",
         "xaxis": "x2",
         "y": [
          0.6655322220933081
         ],
         "yaxis": "y2"
        },
        {
         "hovertemplate": "<b>%{hovertext}</b><br><br>test=0013<br>rawF1=%{x}<br>f1=%{y}<extra></extra>",
         "hovertext": [
          "4babfd03-bb9d-4dd2-a829-ad9de3f05932"
         ],
         "legendgroup": "0013",
         "marker": {
          "color": "#636efa",
          "symbol": "circle"
         },
         "mode": "markers",
         "name": "0013",
         "orientation": "v",
         "showlegend": true,
         "type": "scatter",
         "x": [
          0.6768152132155205
         ],
         "xaxis": "x",
         "y": [
          0.6782275973646491
         ],
         "yaxis": "y"
        },
        {
         "alignmentgroup": "True",
         "bingroup": "y",
         "hovertemplate": "test=0013<br>f1=%{y}<br>count=%{x}<extra></extra>",
         "legendgroup": "0013",
         "marker": {
          "color": "#636efa"
         },
         "name": "0013",
         "offsetgroup": "0013",
         "opacity": 0.5,
         "showlegend": false,
         "type": "histogram",
         "xaxis": "x2",
         "y": [
          0.6782275973646491
         ],
         "yaxis": "y2"
        },
        {
         "hovertemplate": "<b>%{hovertext}</b><br><br>test=0014<br>rawF1=%{x}<br>f1=%{y}<extra></extra>",
         "hovertext": [
          "8b17d41d-edbb-461c-87d2-300850772dae"
         ],
         "legendgroup": "0014",
         "marker": {
          "color": "#EF553B",
          "symbol": "circle"
         },
         "mode": "markers",
         "name": "0014",
         "orientation": "v",
         "showlegend": true,
         "type": "scatter",
         "x": [
          0.49671993465180225
         ],
         "xaxis": "x",
         "y": [
          0.48315429848625174
         ],
         "yaxis": "y"
        },
        {
         "alignmentgroup": "True",
         "bingroup": "y",
         "hovertemplate": "test=0014<br>f1=%{y}<br>count=%{x}<extra></extra>",
         "legendgroup": "0014",
         "marker": {
          "color": "#EF553B"
         },
         "name": "0014",
         "offsetgroup": "0014",
         "opacity": 0.5,
         "showlegend": false,
         "type": "histogram",
         "xaxis": "x2",
         "y": [
          0.48315429848625174
         ],
         "yaxis": "y2"
        },
        {
         "hovertemplate": "<b>%{hovertext}</b><br><br>test=0017<br>rawF1=%{x}<br>f1=%{y}<extra></extra>",
         "hovertext": [
          "0363bbae-1f8e-4b17-9c0c-12617bda2825"
         ],
         "legendgroup": "0017",
         "marker": {
          "color": "#00cc96",
          "symbol": "circle"
         },
         "mode": "markers",
         "name": "0017",
         "orientation": "v",
         "showlegend": true,
         "type": "scatter",
         "x": [
          0.6056777103439127
         ],
         "xaxis": "x",
         "y": [
          0.6316356953236676
         ],
         "yaxis": "y"
        },
        {
         "alignmentgroup": "True",
         "bingroup": "y",
         "hovertemplate": "test=0017<br>f1=%{y}<br>count=%{x}<extra></extra>",
         "legendgroup": "0017",
         "marker": {
          "color": "#00cc96"
         },
         "name": "0017",
         "offsetgroup": "0017",
         "opacity": 0.5,
         "showlegend": false,
         "type": "histogram",
         "xaxis": "x2",
         "y": [
          0.6316356953236676
         ],
         "yaxis": "y2"
        },
        {
         "hovertemplate": "<b>%{hovertext}</b><br><br>test=0018<br>rawF1=%{x}<br>f1=%{y}<extra></extra>",
         "hovertext": [
          "3ab00c3d-e088-430b-81c0-65466ec51055"
         ],
         "legendgroup": "0018",
         "marker": {
          "color": "#ab63fa",
          "symbol": "circle"
         },
         "mode": "markers",
         "name": "0018",
         "orientation": "v",
         "showlegend": true,
         "type": "scatter",
         "x": [
          0.6687284490419821
         ],
         "xaxis": "x",
         "y": [
          0.6921799031076862
         ],
         "yaxis": "y"
        },
        {
         "alignmentgroup": "True",
         "bingroup": "y",
         "hovertemplate": "test=0018<br>f1=%{y}<br>count=%{x}<extra></extra>",
         "legendgroup": "0018",
         "marker": {
          "color": "#ab63fa"
         },
         "name": "0018",
         "offsetgroup": "0018",
         "opacity": 0.5,
         "showlegend": false,
         "type": "histogram",
         "xaxis": "x2",
         "y": [
          0.6921799031076862
         ],
         "yaxis": "y2"
        },
        {
         "hovertemplate": "<b>%{hovertext}</b><br><br>test=0019<br>rawF1=%{x}<br>f1=%{y}<extra></extra>",
         "hovertext": [
          "a223e573-b48d-418b-a3d3-7c7ae2c5dee7"
         ],
         "legendgroup": "0019",
         "marker": {
          "color": "#FFA15A",
          "symbol": "circle"
         },
         "mode": "markers",
         "name": "0019",
         "orientation": "v",
         "showlegend": true,
         "type": "scatter",
         "x": [
          0.5081703342642149
         ],
         "xaxis": "x",
         "y": [
          0.5043543609919986
         ],
         "yaxis": "y"
        },
        {
         "alignmentgroup": "True",
         "bingroup": "y",
         "hovertemplate": "test=0019<br>f1=%{y}<br>count=%{x}<extra></extra>",
         "legendgroup": "0019",
         "marker": {
          "color": "#FFA15A"
         },
         "name": "0019",
         "offsetgroup": "0019",
         "opacity": 0.5,
         "showlegend": false,
         "type": "histogram",
         "xaxis": "x2",
         "y": [
          0.5043543609919986
         ],
         "yaxis": "y2"
        },
        {
         "fill": "toself",
         "mode": "lines",
         "name": "identity",
         "type": "scatter",
         "x": [
          0.43445418012905995,
          0.7102063151591179,
          0.6238360372468081,
          0.617078554425449,
          0.593230243639306,
          0.5770167549917028,
          0.6167643417965876,
          0.6785768111573554,
          0.6550619151493893,
          0.6471605700922208,
          0.6768152132155205,
          0.49671993465180225,
          0.6056777103439127,
          0.6687284490419821,
          0.5081703342642149
         ],
         "y": [
          0.43445418012905995,
          0.7102063151591179,
          0.6238360372468081,
          0.617078554425449,
          0.593230243639306,
          0.5770167549917028,
          0.6167643417965876,
          0.6785768111573554,
          0.6550619151493893,
          0.6471605700922208,
          0.6768152132155205,
          0.49671993465180225,
          0.6056777103439127,
          0.6687284490419821,
          0.5081703342642149
         ]
        }
       ],
       "layout": {
        "barmode": "overlay",
        "legend": {
         "title": {
          "text": "test"
         },
         "tracegroupgap": 0
        },
        "margin": {
         "t": 60
        },
        "template": {
         "data": {
          "bar": [
           {
            "error_x": {
             "color": "#2a3f5f"
            },
            "error_y": {
             "color": "#2a3f5f"
            },
            "marker": {
             "line": {
              "color": "#E5ECF6",
              "width": 0.5
             },
             "pattern": {
              "fillmode": "overlay",
              "size": 10,
              "solidity": 0.2
             }
            },
            "type": "bar"
           }
          ],
          "barpolar": [
           {
            "marker": {
             "line": {
              "color": "#E5ECF6",
              "width": 0.5
             },
             "pattern": {
              "fillmode": "overlay",
              "size": 10,
              "solidity": 0.2
             }
            },
            "type": "barpolar"
           }
          ],
          "carpet": [
           {
            "aaxis": {
             "endlinecolor": "#2a3f5f",
             "gridcolor": "white",
             "linecolor": "white",
             "minorgridcolor": "white",
             "startlinecolor": "#2a3f5f"
            },
            "baxis": {
             "endlinecolor": "#2a3f5f",
             "gridcolor": "white",
             "linecolor": "white",
             "minorgridcolor": "white",
             "startlinecolor": "#2a3f5f"
            },
            "type": "carpet"
           }
          ],
          "choropleth": [
           {
            "colorbar": {
             "outlinewidth": 0,
             "ticks": ""
            },
            "type": "choropleth"
           }
          ],
          "contour": [
           {
            "colorbar": {
             "outlinewidth": 0,
             "ticks": ""
            },
            "colorscale": [
             [
              0,
              "#0d0887"
             ],
             [
              0.1111111111111111,
              "#46039f"
             ],
             [
              0.2222222222222222,
              "#7201a8"
             ],
             [
              0.3333333333333333,
              "#9c179e"
             ],
             [
              0.4444444444444444,
              "#bd3786"
             ],
             [
              0.5555555555555556,
              "#d8576b"
             ],
             [
              0.6666666666666666,
              "#ed7953"
             ],
             [
              0.7777777777777778,
              "#fb9f3a"
             ],
             [
              0.8888888888888888,
              "#fdca26"
             ],
             [
              1,
              "#f0f921"
             ]
            ],
            "type": "contour"
           }
          ],
          "contourcarpet": [
           {
            "colorbar": {
             "outlinewidth": 0,
             "ticks": ""
            },
            "type": "contourcarpet"
           }
          ],
          "heatmap": [
           {
            "colorbar": {
             "outlinewidth": 0,
             "ticks": ""
            },
            "colorscale": [
             [
              0,
              "#0d0887"
             ],
             [
              0.1111111111111111,
              "#46039f"
             ],
             [
              0.2222222222222222,
              "#7201a8"
             ],
             [
              0.3333333333333333,
              "#9c179e"
             ],
             [
              0.4444444444444444,
              "#bd3786"
             ],
             [
              0.5555555555555556,
              "#d8576b"
             ],
             [
              0.6666666666666666,
              "#ed7953"
             ],
             [
              0.7777777777777778,
              "#fb9f3a"
             ],
             [
              0.8888888888888888,
              "#fdca26"
             ],
             [
              1,
              "#f0f921"
             ]
            ],
            "type": "heatmap"
           }
          ],
          "heatmapgl": [
           {
            "colorbar": {
             "outlinewidth": 0,
             "ticks": ""
            },
            "colorscale": [
             [
              0,
              "#0d0887"
             ],
             [
              0.1111111111111111,
              "#46039f"
             ],
             [
              0.2222222222222222,
              "#7201a8"
             ],
             [
              0.3333333333333333,
              "#9c179e"
             ],
             [
              0.4444444444444444,
              "#bd3786"
             ],
             [
              0.5555555555555556,
              "#d8576b"
             ],
             [
              0.6666666666666666,
              "#ed7953"
             ],
             [
              0.7777777777777778,
              "#fb9f3a"
             ],
             [
              0.8888888888888888,
              "#fdca26"
             ],
             [
              1,
              "#f0f921"
             ]
            ],
            "type": "heatmapgl"
           }
          ],
          "histogram": [
           {
            "marker": {
             "pattern": {
              "fillmode": "overlay",
              "size": 10,
              "solidity": 0.2
             }
            },
            "type": "histogram"
           }
          ],
          "histogram2d": [
           {
            "colorbar": {
             "outlinewidth": 0,
             "ticks": ""
            },
            "colorscale": [
             [
              0,
              "#0d0887"
             ],
             [
              0.1111111111111111,
              "#46039f"
             ],
             [
              0.2222222222222222,
              "#7201a8"
             ],
             [
              0.3333333333333333,
              "#9c179e"
             ],
             [
              0.4444444444444444,
              "#bd3786"
             ],
             [
              0.5555555555555556,
              "#d8576b"
             ],
             [
              0.6666666666666666,
              "#ed7953"
             ],
             [
              0.7777777777777778,
              "#fb9f3a"
             ],
             [
              0.8888888888888888,
              "#fdca26"
             ],
             [
              1,
              "#f0f921"
             ]
            ],
            "type": "histogram2d"
           }
          ],
          "histogram2dcontour": [
           {
            "colorbar": {
             "outlinewidth": 0,
             "ticks": ""
            },
            "colorscale": [
             [
              0,
              "#0d0887"
             ],
             [
              0.1111111111111111,
              "#46039f"
             ],
             [
              0.2222222222222222,
              "#7201a8"
             ],
             [
              0.3333333333333333,
              "#9c179e"
             ],
             [
              0.4444444444444444,
              "#bd3786"
             ],
             [
              0.5555555555555556,
              "#d8576b"
             ],
             [
              0.6666666666666666,
              "#ed7953"
             ],
             [
              0.7777777777777778,
              "#fb9f3a"
             ],
             [
              0.8888888888888888,
              "#fdca26"
             ],
             [
              1,
              "#f0f921"
             ]
            ],
            "type": "histogram2dcontour"
           }
          ],
          "mesh3d": [
           {
            "colorbar": {
             "outlinewidth": 0,
             "ticks": ""
            },
            "type": "mesh3d"
           }
          ],
          "parcoords": [
           {
            "line": {
             "colorbar": {
              "outlinewidth": 0,
              "ticks": ""
             }
            },
            "type": "parcoords"
           }
          ],
          "pie": [
           {
            "automargin": true,
            "type": "pie"
           }
          ],
          "scatter": [
           {
            "fillpattern": {
             "fillmode": "overlay",
             "size": 10,
             "solidity": 0.2
            },
            "type": "scatter"
           }
          ],
          "scatter3d": [
           {
            "line": {
             "colorbar": {
              "outlinewidth": 0,
              "ticks": ""
             }
            },
            "marker": {
             "colorbar": {
              "outlinewidth": 0,
              "ticks": ""
             }
            },
            "type": "scatter3d"
           }
          ],
          "scattercarpet": [
           {
            "marker": {
             "colorbar": {
              "outlinewidth": 0,
              "ticks": ""
             }
            },
            "type": "scattercarpet"
           }
          ],
          "scattergeo": [
           {
            "marker": {
             "colorbar": {
              "outlinewidth": 0,
              "ticks": ""
             }
            },
            "type": "scattergeo"
           }
          ],
          "scattergl": [
           {
            "marker": {
             "colorbar": {
              "outlinewidth": 0,
              "ticks": ""
             }
            },
            "type": "scattergl"
           }
          ],
          "scattermapbox": [
           {
            "marker": {
             "colorbar": {
              "outlinewidth": 0,
              "ticks": ""
             }
            },
            "type": "scattermapbox"
           }
          ],
          "scatterpolar": [
           {
            "marker": {
             "colorbar": {
              "outlinewidth": 0,
              "ticks": ""
             }
            },
            "type": "scatterpolar"
           }
          ],
          "scatterpolargl": [
           {
            "marker": {
             "colorbar": {
              "outlinewidth": 0,
              "ticks": ""
             }
            },
            "type": "scatterpolargl"
           }
          ],
          "scatterternary": [
           {
            "marker": {
             "colorbar": {
              "outlinewidth": 0,
              "ticks": ""
             }
            },
            "type": "scatterternary"
           }
          ],
          "surface": [
           {
            "colorbar": {
             "outlinewidth": 0,
             "ticks": ""
            },
            "colorscale": [
             [
              0,
              "#0d0887"
             ],
             [
              0.1111111111111111,
              "#46039f"
             ],
             [
              0.2222222222222222,
              "#7201a8"
             ],
             [
              0.3333333333333333,
              "#9c179e"
             ],
             [
              0.4444444444444444,
              "#bd3786"
             ],
             [
              0.5555555555555556,
              "#d8576b"
             ],
             [
              0.6666666666666666,
              "#ed7953"
             ],
             [
              0.7777777777777778,
              "#fb9f3a"
             ],
             [
              0.8888888888888888,
              "#fdca26"
             ],
             [
              1,
              "#f0f921"
             ]
            ],
            "type": "surface"
           }
          ],
          "table": [
           {
            "cells": {
             "fill": {
              "color": "#EBF0F8"
             },
             "line": {
              "color": "white"
             }
            },
            "header": {
             "fill": {
              "color": "#C8D4E3"
             },
             "line": {
              "color": "white"
             }
            },
            "type": "table"
           }
          ]
         },
         "layout": {
          "annotationdefaults": {
           "arrowcolor": "#2a3f5f",
           "arrowhead": 0,
           "arrowwidth": 1
          },
          "autotypenumbers": "strict",
          "coloraxis": {
           "colorbar": {
            "outlinewidth": 0,
            "ticks": ""
           }
          },
          "colorscale": {
           "diverging": [
            [
             0,
             "#8e0152"
            ],
            [
             0.1,
             "#c51b7d"
            ],
            [
             0.2,
             "#de77ae"
            ],
            [
             0.3,
             "#f1b6da"
            ],
            [
             0.4,
             "#fde0ef"
            ],
            [
             0.5,
             "#f7f7f7"
            ],
            [
             0.6,
             "#e6f5d0"
            ],
            [
             0.7,
             "#b8e186"
            ],
            [
             0.8,
             "#7fbc41"
            ],
            [
             0.9,
             "#4d9221"
            ],
            [
             1,
             "#276419"
            ]
           ],
           "sequential": [
            [
             0,
             "#0d0887"
            ],
            [
             0.1111111111111111,
             "#46039f"
            ],
            [
             0.2222222222222222,
             "#7201a8"
            ],
            [
             0.3333333333333333,
             "#9c179e"
            ],
            [
             0.4444444444444444,
             "#bd3786"
            ],
            [
             0.5555555555555556,
             "#d8576b"
            ],
            [
             0.6666666666666666,
             "#ed7953"
            ],
            [
             0.7777777777777778,
             "#fb9f3a"
            ],
            [
             0.8888888888888888,
             "#fdca26"
            ],
            [
             1,
             "#f0f921"
            ]
           ],
           "sequentialminus": [
            [
             0,
             "#0d0887"
            ],
            [
             0.1111111111111111,
             "#46039f"
            ],
            [
             0.2222222222222222,
             "#7201a8"
            ],
            [
             0.3333333333333333,
             "#9c179e"
            ],
            [
             0.4444444444444444,
             "#bd3786"
            ],
            [
             0.5555555555555556,
             "#d8576b"
            ],
            [
             0.6666666666666666,
             "#ed7953"
            ],
            [
             0.7777777777777778,
             "#fb9f3a"
            ],
            [
             0.8888888888888888,
             "#fdca26"
            ],
            [
             1,
             "#f0f921"
            ]
           ]
          },
          "colorway": [
           "#636efa",
           "#EF553B",
           "#00cc96",
           "#ab63fa",
           "#FFA15A",
           "#19d3f3",
           "#FF6692",
           "#B6E880",
           "#FF97FF",
           "#FECB52"
          ],
          "font": {
           "color": "#2a3f5f"
          },
          "geo": {
           "bgcolor": "white",
           "lakecolor": "white",
           "landcolor": "#E5ECF6",
           "showlakes": true,
           "showland": true,
           "subunitcolor": "white"
          },
          "hoverlabel": {
           "align": "left"
          },
          "hovermode": "closest",
          "mapbox": {
           "style": "light"
          },
          "paper_bgcolor": "white",
          "plot_bgcolor": "#E5ECF6",
          "polar": {
           "angularaxis": {
            "gridcolor": "white",
            "linecolor": "white",
            "ticks": ""
           },
           "bgcolor": "#E5ECF6",
           "radialaxis": {
            "gridcolor": "white",
            "linecolor": "white",
            "ticks": ""
           }
          },
          "scene": {
           "xaxis": {
            "backgroundcolor": "#E5ECF6",
            "gridcolor": "white",
            "gridwidth": 2,
            "linecolor": "white",
            "showbackground": true,
            "ticks": "",
            "zerolinecolor": "white"
           },
           "yaxis": {
            "backgroundcolor": "#E5ECF6",
            "gridcolor": "white",
            "gridwidth": 2,
            "linecolor": "white",
            "showbackground": true,
            "ticks": "",
            "zerolinecolor": "white"
           },
           "zaxis": {
            "backgroundcolor": "#E5ECF6",
            "gridcolor": "white",
            "gridwidth": 2,
            "linecolor": "white",
            "showbackground": true,
            "ticks": "",
            "zerolinecolor": "white"
           }
          },
          "shapedefaults": {
           "line": {
            "color": "#2a3f5f"
           }
          },
          "ternary": {
           "aaxis": {
            "gridcolor": "white",
            "linecolor": "white",
            "ticks": ""
           },
           "baxis": {
            "gridcolor": "white",
            "linecolor": "white",
            "ticks": ""
           },
           "bgcolor": "#E5ECF6",
           "caxis": {
            "gridcolor": "white",
            "linecolor": "white",
            "ticks": ""
           }
          },
          "title": {
           "x": 0.05
          },
          "xaxis": {
           "automargin": true,
           "gridcolor": "white",
           "linecolor": "white",
           "ticks": "",
           "title": {
            "standoff": 15
           },
           "zerolinecolor": "white",
           "zerolinewidth": 2
          },
          "yaxis": {
           "automargin": true,
           "gridcolor": "white",
           "linecolor": "white",
           "ticks": "",
           "title": {
            "standoff": 15
           },
           "zerolinecolor": "white",
           "zerolinewidth": 2
          }
         }
        },
        "xaxis": {
         "anchor": "y",
         "domain": [
          0,
          0.7363
         ],
         "title": {
          "text": "rawF1"
         }
        },
        "xaxis2": {
         "anchor": "y2",
         "domain": [
          0.7413,
          1
         ],
         "matches": "x2",
         "showgrid": true,
         "showline": false,
         "showticklabels": false,
         "ticks": ""
        },
        "yaxis": {
         "anchor": "x",
         "domain": [
          0,
          1
         ],
         "title": {
          "text": "f1"
         }
        },
        "yaxis2": {
         "anchor": "x2",
         "domain": [
          0,
          1
         ],
         "matches": "y",
         "showgrid": true,
         "showticklabels": false
        }
       }
      }
     },
     "metadata": {},
     "output_type": "display_data"
    }
   ],
   "source": [
    "fig=px.scatter(experimentModels,x='rawF1',y='f1',color='test',hover_name='modelId', marginal_y=\"histogram\")\n",
    "fig.add_trace(\n",
    "    go.Scatter(x=experimentModels['rawF1'], y=experimentModels['rawF1'], name=\"identity\", mode='lines',fill=\"toself\")\n",
    ")\n",
    "fig.show()"
   ]
  },
  {
   "cell_type": "code",
   "execution_count": 22,
   "metadata": {},
   "outputs": [
    {
     "data": {
      "application/vnd.plotly.v1+json": {
       "config": {
        "plotlyServerURL": "https://plot.ly"
       },
       "data": [
        {
         "hovertemplate": "<b>%{hovertext}</b><br><br>test=0001<br>rawF1=%{x}<br>eventF1=%{y}<extra></extra>",
         "hovertext": [
          "9e4dd9bb-a7d9-4ee8-a762-d656d8308d91"
         ],
         "legendgroup": "0001",
         "marker": {
          "color": "#636efa",
          "symbol": "circle"
         },
         "mode": "markers",
         "name": "0001",
         "orientation": "v",
         "showlegend": true,
         "type": "scatter",
         "x": [
          0.43445418012905995
         ],
         "xaxis": "x",
         "y": [
          0.586366644606221
         ],
         "yaxis": "y"
        },
        {
         "alignmentgroup": "True",
         "bingroup": "y",
         "hovertemplate": "test=0001<br>eventF1=%{y}<br>count=%{x}<extra></extra>",
         "legendgroup": "0001",
         "marker": {
          "color": "#636efa"
         },
         "name": "0001",
         "offsetgroup": "0001",
         "opacity": 0.5,
         "showlegend": false,
         "type": "histogram",
         "xaxis": "x2",
         "y": [
          0.586366644606221
         ],
         "yaxis": "y2"
        },
        {
         "hovertemplate": "<b>%{hovertext}</b><br><br>test=0002<br>rawF1=%{x}<br>eventF1=%{y}<extra></extra>",
         "hovertext": [
          "5e1bcb8a-f879-4f42-ae21-0e1ae715095f"
         ],
         "legendgroup": "0002",
         "marker": {
          "color": "#EF553B",
          "symbol": "circle"
         },
         "mode": "markers",
         "name": "0002",
         "orientation": "v",
         "showlegend": true,
         "type": "scatter",
         "x": [
          0.7102063151591179
         ],
         "xaxis": "x",
         "y": [
          0.7673971549404075
         ],
         "yaxis": "y"
        },
        {
         "alignmentgroup": "True",
         "bingroup": "y",
         "hovertemplate": "test=0002<br>eventF1=%{y}<br>count=%{x}<extra></extra>",
         "legendgroup": "0002",
         "marker": {
          "color": "#EF553B"
         },
         "name": "0002",
         "offsetgroup": "0002",
         "opacity": 0.5,
         "showlegend": false,
         "type": "histogram",
         "xaxis": "x2",
         "y": [
          0.7673971549404075
         ],
         "yaxis": "y2"
        },
        {
         "hovertemplate": "<b>%{hovertext}</b><br><br>test=0003<br>rawF1=%{x}<br>eventF1=%{y}<extra></extra>",
         "hovertext": [
          "2ecef3ee-0879-42d7-bcf0-ecfa0e3e601a"
         ],
         "legendgroup": "0003",
         "marker": {
          "color": "#00cc96",
          "symbol": "circle"
         },
         "mode": "markers",
         "name": "0003",
         "orientation": "v",
         "showlegend": true,
         "type": "scatter",
         "x": [
          0.6238360372468081
         ],
         "xaxis": "x",
         "y": [
          0.6705882352941176
         ],
         "yaxis": "y"
        },
        {
         "alignmentgroup": "True",
         "bingroup": "y",
         "hovertemplate": "test=0003<br>eventF1=%{y}<br>count=%{x}<extra></extra>",
         "legendgroup": "0003",
         "marker": {
          "color": "#00cc96"
         },
         "name": "0003",
         "offsetgroup": "0003",
         "opacity": 0.5,
         "showlegend": false,
         "type": "histogram",
         "xaxis": "x2",
         "y": [
          0.6705882352941176
         ],
         "yaxis": "y2"
        },
        {
         "hovertemplate": "<b>%{hovertext}</b><br><br>test=0005<br>rawF1=%{x}<br>eventF1=%{y}<extra></extra>",
         "hovertext": [
          "52b0d6a8-7f01-4694-85d4-14ef17a025b9"
         ],
         "legendgroup": "0005",
         "marker": {
          "color": "#ab63fa",
          "symbol": "circle"
         },
         "mode": "markers",
         "name": "0005",
         "orientation": "v",
         "showlegend": true,
         "type": "scatter",
         "x": [
          0.617078554425449
         ],
         "xaxis": "x",
         "y": [
          0.6666666666666666
         ],
         "yaxis": "y"
        },
        {
         "alignmentgroup": "True",
         "bingroup": "y",
         "hovertemplate": "test=0005<br>eventF1=%{y}<br>count=%{x}<extra></extra>",
         "legendgroup": "0005",
         "marker": {
          "color": "#ab63fa"
         },
         "name": "0005",
         "offsetgroup": "0005",
         "opacity": 0.5,
         "showlegend": false,
         "type": "histogram",
         "xaxis": "x2",
         "y": [
          0.6666666666666666
         ],
         "yaxis": "y2"
        },
        {
         "hovertemplate": "<b>%{hovertext}</b><br><br>test=0006<br>rawF1=%{x}<br>eventF1=%{y}<extra></extra>",
         "hovertext": [
          "32c9793a-2115-4e77-8b6f-e8f71d09cecb"
         ],
         "legendgroup": "0006",
         "marker": {
          "color": "#FFA15A",
          "symbol": "circle"
         },
         "mode": "markers",
         "name": "0006",
         "orientation": "v",
         "showlegend": true,
         "type": "scatter",
         "x": [
          0.593230243639306
         ],
         "xaxis": "x",
         "y": [
          0.6666666666666666
         ],
         "yaxis": "y"
        },
        {
         "alignmentgroup": "True",
         "bingroup": "y",
         "hovertemplate": "test=0006<br>eventF1=%{y}<br>count=%{x}<extra></extra>",
         "legendgroup": "0006",
         "marker": {
          "color": "#FFA15A"
         },
         "name": "0006",
         "offsetgroup": "0006",
         "opacity": 0.5,
         "showlegend": false,
         "type": "histogram",
         "xaxis": "x2",
         "y": [
          0.6666666666666666
         ],
         "yaxis": "y2"
        },
        {
         "hovertemplate": "<b>%{hovertext}</b><br><br>test=0007<br>rawF1=%{x}<br>eventF1=%{y}<extra></extra>",
         "hovertext": [
          "241d9889-61ff-47f7-97c2-f502ae3dba38"
         ],
         "legendgroup": "0007",
         "marker": {
          "color": "#19d3f3",
          "symbol": "circle"
         },
         "mode": "markers",
         "name": "0007",
         "orientation": "v",
         "showlegend": true,
         "type": "scatter",
         "x": [
          0.5770167549917028
         ],
         "xaxis": "x",
         "y": [
          0.6182542557044549
         ],
         "yaxis": "y"
        },
        {
         "alignmentgroup": "True",
         "bingroup": "y",
         "hovertemplate": "test=0007<br>eventF1=%{y}<br>count=%{x}<extra></extra>",
         "legendgroup": "0007",
         "marker": {
          "color": "#19d3f3"
         },
         "name": "0007",
         "offsetgroup": "0007",
         "opacity": 0.5,
         "showlegend": false,
         "type": "histogram",
         "xaxis": "x2",
         "y": [
          0.6182542557044549
         ],
         "yaxis": "y2"
        },
        {
         "hovertemplate": "<b>%{hovertext}</b><br><br>test=0009<br>rawF1=%{x}<br>eventF1=%{y}<extra></extra>",
         "hovertext": [
          "f6a46037-1f32-40b5-a6ff-cd293b0e4203"
         ],
         "legendgroup": "0009",
         "marker": {
          "color": "#FF6692",
          "symbol": "circle"
         },
         "mode": "markers",
         "name": "0009",
         "orientation": "v",
         "showlegend": true,
         "type": "scatter",
         "x": [
          0.6167643417965876
         ],
         "xaxis": "x",
         "y": [
          0.7874069058903183
         ],
         "yaxis": "y"
        },
        {
         "alignmentgroup": "True",
         "bingroup": "y",
         "hovertemplate": "test=0009<br>eventF1=%{y}<br>count=%{x}<extra></extra>",
         "legendgroup": "0009",
         "marker": {
          "color": "#FF6692"
         },
         "name": "0009",
         "offsetgroup": "0009",
         "opacity": 0.5,
         "showlegend": false,
         "type": "histogram",
         "xaxis": "x2",
         "y": [
          0.7874069058903183
         ],
         "yaxis": "y2"
        },
        {
         "hovertemplate": "<b>%{hovertext}</b><br><br>test=0010<br>rawF1=%{x}<br>eventF1=%{y}<extra></extra>",
         "hovertext": [
          "6cfc1f74-3653-47eb-a166-f59fefa13825"
         ],
         "legendgroup": "0010",
         "marker": {
          "color": "#B6E880",
          "symbol": "circle"
         },
         "mode": "markers",
         "name": "0010",
         "orientation": "v",
         "showlegend": true,
         "type": "scatter",
         "x": [
          0.6785768111573554
         ],
         "xaxis": "x",
         "y": [
          0.7587145969498911
         ],
         "yaxis": "y"
        },
        {
         "alignmentgroup": "True",
         "bingroup": "y",
         "hovertemplate": "test=0010<br>eventF1=%{y}<br>count=%{x}<extra></extra>",
         "legendgroup": "0010",
         "marker": {
          "color": "#B6E880"
         },
         "name": "0010",
         "offsetgroup": "0010",
         "opacity": 0.5,
         "showlegend": false,
         "type": "histogram",
         "xaxis": "x2",
         "y": [
          0.7587145969498911
         ],
         "yaxis": "y2"
        },
        {
         "hovertemplate": "<b>%{hovertext}</b><br><br>test=0011<br>rawF1=%{x}<br>eventF1=%{y}<extra></extra>",
         "hovertext": [
          "68c5483d-9072-4478-8a87-a7af3324f690"
         ],
         "legendgroup": "0011",
         "marker": {
          "color": "#FF97FF",
          "symbol": "circle"
         },
         "mode": "markers",
         "name": "0011",
         "orientation": "v",
         "showlegend": true,
         "type": "scatter",
         "x": [
          0.6550619151493893
         ],
         "xaxis": "x",
         "y": [
          0.6679954441913439
         ],
         "yaxis": "y"
        },
        {
         "alignmentgroup": "True",
         "bingroup": "y",
         "hovertemplate": "test=0011<br>eventF1=%{y}<br>count=%{x}<extra></extra>",
         "legendgroup": "0011",
         "marker": {
          "color": "#FF97FF"
         },
         "name": "0011",
         "offsetgroup": "0011",
         "opacity": 0.5,
         "showlegend": false,
         "type": "histogram",
         "xaxis": "x2",
         "y": [
          0.6679954441913439
         ],
         "yaxis": "y2"
        },
        {
         "hovertemplate": "<b>%{hovertext}</b><br><br>test=0012<br>rawF1=%{x}<br>eventF1=%{y}<extra></extra>",
         "hovertext": [
          "349fe35c-b749-431d-8e8c-c288b150e998"
         ],
         "legendgroup": "0012",
         "marker": {
          "color": "#FECB52",
          "symbol": "circle"
         },
         "mode": "markers",
         "name": "0012",
         "orientation": "v",
         "showlegend": true,
         "type": "scatter",
         "x": [
          0.6471605700922208
         ],
         "xaxis": "x",
         "y": [
          0.7326100829610721
         ],
         "yaxis": "y"
        },
        {
         "alignmentgroup": "True",
         "bingroup": "y",
         "hovertemplate": "test=0012<br>eventF1=%{y}<br>count=%{x}<extra></extra>",
         "legendgroup": "0012",
         "marker": {
          "color": "#FECB52"
         },
         "name": "0012",
         "offsetgroup": "0012",
         "opacity": 0.5,
         "showlegend": false,
         "type": "histogram",
         "xaxis": "x2",
         "y": [
          0.7326100829610721
         ],
         "yaxis": "y2"
        },
        {
         "hovertemplate": "<b>%{hovertext}</b><br><br>test=0013<br>rawF1=%{x}<br>eventF1=%{y}<extra></extra>",
         "hovertext": [
          "4babfd03-bb9d-4dd2-a829-ad9de3f05932"
         ],
         "legendgroup": "0013",
         "marker": {
          "color": "#636efa",
          "symbol": "circle"
         },
         "mode": "markers",
         "name": "0013",
         "orientation": "v",
         "showlegend": true,
         "type": "scatter",
         "x": [
          0.6768152132155205
         ],
         "xaxis": "x",
         "y": [
          0.6897980321077162
         ],
         "yaxis": "y"
        },
        {
         "alignmentgroup": "True",
         "bingroup": "y",
         "hovertemplate": "test=0013<br>eventF1=%{y}<br>count=%{x}<extra></extra>",
         "legendgroup": "0013",
         "marker": {
          "color": "#636efa"
         },
         "name": "0013",
         "offsetgroup": "0013",
         "opacity": 0.5,
         "showlegend": false,
         "type": "histogram",
         "xaxis": "x2",
         "y": [
          0.6897980321077162
         ],
         "yaxis": "y2"
        },
        {
         "hovertemplate": "<b>%{hovertext}</b><br><br>test=0014<br>rawF1=%{x}<br>eventF1=%{y}<extra></extra>",
         "hovertext": [
          "8b17d41d-edbb-461c-87d2-300850772dae"
         ],
         "legendgroup": "0014",
         "marker": {
          "color": "#EF553B",
          "symbol": "circle"
         },
         "mode": "markers",
         "name": "0014",
         "orientation": "v",
         "showlegend": true,
         "type": "scatter",
         "x": [
          0.49671993465180225
         ],
         "xaxis": "x",
         "y": [
          0.5113553113553113
         ],
         "yaxis": "y"
        },
        {
         "alignmentgroup": "True",
         "bingroup": "y",
         "hovertemplate": "test=0014<br>eventF1=%{y}<br>count=%{x}<extra></extra>",
         "legendgroup": "0014",
         "marker": {
          "color": "#EF553B"
         },
         "name": "0014",
         "offsetgroup": "0014",
         "opacity": 0.5,
         "showlegend": false,
         "type": "histogram",
         "xaxis": "x2",
         "y": [
          0.5113553113553113
         ],
         "yaxis": "y2"
        },
        {
         "hovertemplate": "<b>%{hovertext}</b><br><br>test=0017<br>rawF1=%{x}<br>eventF1=%{y}<extra></extra>",
         "hovertext": [
          "0363bbae-1f8e-4b17-9c0c-12617bda2825"
         ],
         "legendgroup": "0017",
         "marker": {
          "color": "#00cc96",
          "symbol": "circle"
         },
         "mode": "markers",
         "name": "0017",
         "orientation": "v",
         "showlegend": true,
         "type": "scatter",
         "x": [
          0.6056777103439127
         ],
         "xaxis": "x",
         "y": [
          0.7336448598130841
         ],
         "yaxis": "y"
        },
        {
         "alignmentgroup": "True",
         "bingroup": "y",
         "hovertemplate": "test=0017<br>eventF1=%{y}<br>count=%{x}<extra></extra>",
         "legendgroup": "0017",
         "marker": {
          "color": "#00cc96"
         },
         "name": "0017",
         "offsetgroup": "0017",
         "opacity": 0.5,
         "showlegend": false,
         "type": "histogram",
         "xaxis": "x2",
         "y": [
          0.7336448598130841
         ],
         "yaxis": "y2"
        },
        {
         "hovertemplate": "<b>%{hovertext}</b><br><br>test=0018<br>rawF1=%{x}<br>eventF1=%{y}<extra></extra>",
         "hovertext": [
          "3ab00c3d-e088-430b-81c0-65466ec51055"
         ],
         "legendgroup": "0018",
         "marker": {
          "color": "#ab63fa",
          "symbol": "circle"
         },
         "mode": "markers",
         "name": "0018",
         "orientation": "v",
         "showlegend": true,
         "type": "scatter",
         "x": [
          0.6687284490419821
         ],
         "xaxis": "x",
         "y": [
          0.7886710239651417
         ],
         "yaxis": "y"
        },
        {
         "alignmentgroup": "True",
         "bingroup": "y",
         "hovertemplate": "test=0018<br>eventF1=%{y}<br>count=%{x}<extra></extra>",
         "legendgroup": "0018",
         "marker": {
          "color": "#ab63fa"
         },
         "name": "0018",
         "offsetgroup": "0018",
         "opacity": 0.5,
         "showlegend": false,
         "type": "histogram",
         "xaxis": "x2",
         "y": [
          0.7886710239651417
         ],
         "yaxis": "y2"
        },
        {
         "hovertemplate": "<b>%{hovertext}</b><br><br>test=0019<br>rawF1=%{x}<br>eventF1=%{y}<extra></extra>",
         "hovertext": [
          "a223e573-b48d-418b-a3d3-7c7ae2c5dee7"
         ],
         "legendgroup": "0019",
         "marker": {
          "color": "#FFA15A",
          "symbol": "circle"
         },
         "mode": "markers",
         "name": "0019",
         "orientation": "v",
         "showlegend": true,
         "type": "scatter",
         "x": [
          0.5081703342642149
         ],
         "xaxis": "x",
         "y": [
          0.4940991345397325
         ],
         "yaxis": "y"
        },
        {
         "alignmentgroup": "True",
         "bingroup": "y",
         "hovertemplate": "test=0019<br>eventF1=%{y}<br>count=%{x}<extra></extra>",
         "legendgroup": "0019",
         "marker": {
          "color": "#FFA15A"
         },
         "name": "0019",
         "offsetgroup": "0019",
         "opacity": 0.5,
         "showlegend": false,
         "type": "histogram",
         "xaxis": "x2",
         "y": [
          0.4940991345397325
         ],
         "yaxis": "y2"
        },
        {
         "fill": "toself",
         "mode": "lines",
         "name": "identity",
         "type": "scatter",
         "x": [
          0.43445418012905995,
          0.7102063151591179,
          0.6238360372468081,
          0.617078554425449,
          0.593230243639306,
          0.5770167549917028,
          0.6167643417965876,
          0.6785768111573554,
          0.6550619151493893,
          0.6471605700922208,
          0.6768152132155205,
          0.49671993465180225,
          0.6056777103439127,
          0.6687284490419821,
          0.5081703342642149
         ],
         "y": [
          0.43445418012905995,
          0.7102063151591179,
          0.6238360372468081,
          0.617078554425449,
          0.593230243639306,
          0.5770167549917028,
          0.6167643417965876,
          0.6785768111573554,
          0.6550619151493893,
          0.6471605700922208,
          0.6768152132155205,
          0.49671993465180225,
          0.6056777103439127,
          0.6687284490419821,
          0.5081703342642149
         ]
        }
       ],
       "layout": {
        "barmode": "overlay",
        "legend": {
         "title": {
          "text": "test"
         },
         "tracegroupgap": 0
        },
        "margin": {
         "t": 60
        },
        "template": {
         "data": {
          "bar": [
           {
            "error_x": {
             "color": "#2a3f5f"
            },
            "error_y": {
             "color": "#2a3f5f"
            },
            "marker": {
             "line": {
              "color": "#E5ECF6",
              "width": 0.5
             },
             "pattern": {
              "fillmode": "overlay",
              "size": 10,
              "solidity": 0.2
             }
            },
            "type": "bar"
           }
          ],
          "barpolar": [
           {
            "marker": {
             "line": {
              "color": "#E5ECF6",
              "width": 0.5
             },
             "pattern": {
              "fillmode": "overlay",
              "size": 10,
              "solidity": 0.2
             }
            },
            "type": "barpolar"
           }
          ],
          "carpet": [
           {
            "aaxis": {
             "endlinecolor": "#2a3f5f",
             "gridcolor": "white",
             "linecolor": "white",
             "minorgridcolor": "white",
             "startlinecolor": "#2a3f5f"
            },
            "baxis": {
             "endlinecolor": "#2a3f5f",
             "gridcolor": "white",
             "linecolor": "white",
             "minorgridcolor": "white",
             "startlinecolor": "#2a3f5f"
            },
            "type": "carpet"
           }
          ],
          "choropleth": [
           {
            "colorbar": {
             "outlinewidth": 0,
             "ticks": ""
            },
            "type": "choropleth"
           }
          ],
          "contour": [
           {
            "colorbar": {
             "outlinewidth": 0,
             "ticks": ""
            },
            "colorscale": [
             [
              0,
              "#0d0887"
             ],
             [
              0.1111111111111111,
              "#46039f"
             ],
             [
              0.2222222222222222,
              "#7201a8"
             ],
             [
              0.3333333333333333,
              "#9c179e"
             ],
             [
              0.4444444444444444,
              "#bd3786"
             ],
             [
              0.5555555555555556,
              "#d8576b"
             ],
             [
              0.6666666666666666,
              "#ed7953"
             ],
             [
              0.7777777777777778,
              "#fb9f3a"
             ],
             [
              0.8888888888888888,
              "#fdca26"
             ],
             [
              1,
              "#f0f921"
             ]
            ],
            "type": "contour"
           }
          ],
          "contourcarpet": [
           {
            "colorbar": {
             "outlinewidth": 0,
             "ticks": ""
            },
            "type": "contourcarpet"
           }
          ],
          "heatmap": [
           {
            "colorbar": {
             "outlinewidth": 0,
             "ticks": ""
            },
            "colorscale": [
             [
              0,
              "#0d0887"
             ],
             [
              0.1111111111111111,
              "#46039f"
             ],
             [
              0.2222222222222222,
              "#7201a8"
             ],
             [
              0.3333333333333333,
              "#9c179e"
             ],
             [
              0.4444444444444444,
              "#bd3786"
             ],
             [
              0.5555555555555556,
              "#d8576b"
             ],
             [
              0.6666666666666666,
              "#ed7953"
             ],
             [
              0.7777777777777778,
              "#fb9f3a"
             ],
             [
              0.8888888888888888,
              "#fdca26"
             ],
             [
              1,
              "#f0f921"
             ]
            ],
            "type": "heatmap"
           }
          ],
          "heatmapgl": [
           {
            "colorbar": {
             "outlinewidth": 0,
             "ticks": ""
            },
            "colorscale": [
             [
              0,
              "#0d0887"
             ],
             [
              0.1111111111111111,
              "#46039f"
             ],
             [
              0.2222222222222222,
              "#7201a8"
             ],
             [
              0.3333333333333333,
              "#9c179e"
             ],
             [
              0.4444444444444444,
              "#bd3786"
             ],
             [
              0.5555555555555556,
              "#d8576b"
             ],
             [
              0.6666666666666666,
              "#ed7953"
             ],
             [
              0.7777777777777778,
              "#fb9f3a"
             ],
             [
              0.8888888888888888,
              "#fdca26"
             ],
             [
              1,
              "#f0f921"
             ]
            ],
            "type": "heatmapgl"
           }
          ],
          "histogram": [
           {
            "marker": {
             "pattern": {
              "fillmode": "overlay",
              "size": 10,
              "solidity": 0.2
             }
            },
            "type": "histogram"
           }
          ],
          "histogram2d": [
           {
            "colorbar": {
             "outlinewidth": 0,
             "ticks": ""
            },
            "colorscale": [
             [
              0,
              "#0d0887"
             ],
             [
              0.1111111111111111,
              "#46039f"
             ],
             [
              0.2222222222222222,
              "#7201a8"
             ],
             [
              0.3333333333333333,
              "#9c179e"
             ],
             [
              0.4444444444444444,
              "#bd3786"
             ],
             [
              0.5555555555555556,
              "#d8576b"
             ],
             [
              0.6666666666666666,
              "#ed7953"
             ],
             [
              0.7777777777777778,
              "#fb9f3a"
             ],
             [
              0.8888888888888888,
              "#fdca26"
             ],
             [
              1,
              "#f0f921"
             ]
            ],
            "type": "histogram2d"
           }
          ],
          "histogram2dcontour": [
           {
            "colorbar": {
             "outlinewidth": 0,
             "ticks": ""
            },
            "colorscale": [
             [
              0,
              "#0d0887"
             ],
             [
              0.1111111111111111,
              "#46039f"
             ],
             [
              0.2222222222222222,
              "#7201a8"
             ],
             [
              0.3333333333333333,
              "#9c179e"
             ],
             [
              0.4444444444444444,
              "#bd3786"
             ],
             [
              0.5555555555555556,
              "#d8576b"
             ],
             [
              0.6666666666666666,
              "#ed7953"
             ],
             [
              0.7777777777777778,
              "#fb9f3a"
             ],
             [
              0.8888888888888888,
              "#fdca26"
             ],
             [
              1,
              "#f0f921"
             ]
            ],
            "type": "histogram2dcontour"
           }
          ],
          "mesh3d": [
           {
            "colorbar": {
             "outlinewidth": 0,
             "ticks": ""
            },
            "type": "mesh3d"
           }
          ],
          "parcoords": [
           {
            "line": {
             "colorbar": {
              "outlinewidth": 0,
              "ticks": ""
             }
            },
            "type": "parcoords"
           }
          ],
          "pie": [
           {
            "automargin": true,
            "type": "pie"
           }
          ],
          "scatter": [
           {
            "fillpattern": {
             "fillmode": "overlay",
             "size": 10,
             "solidity": 0.2
            },
            "type": "scatter"
           }
          ],
          "scatter3d": [
           {
            "line": {
             "colorbar": {
              "outlinewidth": 0,
              "ticks": ""
             }
            },
            "marker": {
             "colorbar": {
              "outlinewidth": 0,
              "ticks": ""
             }
            },
            "type": "scatter3d"
           }
          ],
          "scattercarpet": [
           {
            "marker": {
             "colorbar": {
              "outlinewidth": 0,
              "ticks": ""
             }
            },
            "type": "scattercarpet"
           }
          ],
          "scattergeo": [
           {
            "marker": {
             "colorbar": {
              "outlinewidth": 0,
              "ticks": ""
             }
            },
            "type": "scattergeo"
           }
          ],
          "scattergl": [
           {
            "marker": {
             "colorbar": {
              "outlinewidth": 0,
              "ticks": ""
             }
            },
            "type": "scattergl"
           }
          ],
          "scattermapbox": [
           {
            "marker": {
             "colorbar": {
              "outlinewidth": 0,
              "ticks": ""
             }
            },
            "type": "scattermapbox"
           }
          ],
          "scatterpolar": [
           {
            "marker": {
             "colorbar": {
              "outlinewidth": 0,
              "ticks": ""
             }
            },
            "type": "scatterpolar"
           }
          ],
          "scatterpolargl": [
           {
            "marker": {
             "colorbar": {
              "outlinewidth": 0,
              "ticks": ""
             }
            },
            "type": "scatterpolargl"
           }
          ],
          "scatterternary": [
           {
            "marker": {
             "colorbar": {
              "outlinewidth": 0,
              "ticks": ""
             }
            },
            "type": "scatterternary"
           }
          ],
          "surface": [
           {
            "colorbar": {
             "outlinewidth": 0,
             "ticks": ""
            },
            "colorscale": [
             [
              0,
              "#0d0887"
             ],
             [
              0.1111111111111111,
              "#46039f"
             ],
             [
              0.2222222222222222,
              "#7201a8"
             ],
             [
              0.3333333333333333,
              "#9c179e"
             ],
             [
              0.4444444444444444,
              "#bd3786"
             ],
             [
              0.5555555555555556,
              "#d8576b"
             ],
             [
              0.6666666666666666,
              "#ed7953"
             ],
             [
              0.7777777777777778,
              "#fb9f3a"
             ],
             [
              0.8888888888888888,
              "#fdca26"
             ],
             [
              1,
              "#f0f921"
             ]
            ],
            "type": "surface"
           }
          ],
          "table": [
           {
            "cells": {
             "fill": {
              "color": "#EBF0F8"
             },
             "line": {
              "color": "white"
             }
            },
            "header": {
             "fill": {
              "color": "#C8D4E3"
             },
             "line": {
              "color": "white"
             }
            },
            "type": "table"
           }
          ]
         },
         "layout": {
          "annotationdefaults": {
           "arrowcolor": "#2a3f5f",
           "arrowhead": 0,
           "arrowwidth": 1
          },
          "autotypenumbers": "strict",
          "coloraxis": {
           "colorbar": {
            "outlinewidth": 0,
            "ticks": ""
           }
          },
          "colorscale": {
           "diverging": [
            [
             0,
             "#8e0152"
            ],
            [
             0.1,
             "#c51b7d"
            ],
            [
             0.2,
             "#de77ae"
            ],
            [
             0.3,
             "#f1b6da"
            ],
            [
             0.4,
             "#fde0ef"
            ],
            [
             0.5,
             "#f7f7f7"
            ],
            [
             0.6,
             "#e6f5d0"
            ],
            [
             0.7,
             "#b8e186"
            ],
            [
             0.8,
             "#7fbc41"
            ],
            [
             0.9,
             "#4d9221"
            ],
            [
             1,
             "#276419"
            ]
           ],
           "sequential": [
            [
             0,
             "#0d0887"
            ],
            [
             0.1111111111111111,
             "#46039f"
            ],
            [
             0.2222222222222222,
             "#7201a8"
            ],
            [
             0.3333333333333333,
             "#9c179e"
            ],
            [
             0.4444444444444444,
             "#bd3786"
            ],
            [
             0.5555555555555556,
             "#d8576b"
            ],
            [
             0.6666666666666666,
             "#ed7953"
            ],
            [
             0.7777777777777778,
             "#fb9f3a"
            ],
            [
             0.8888888888888888,
             "#fdca26"
            ],
            [
             1,
             "#f0f921"
            ]
           ],
           "sequentialminus": [
            [
             0,
             "#0d0887"
            ],
            [
             0.1111111111111111,
             "#46039f"
            ],
            [
             0.2222222222222222,
             "#7201a8"
            ],
            [
             0.3333333333333333,
             "#9c179e"
            ],
            [
             0.4444444444444444,
             "#bd3786"
            ],
            [
             0.5555555555555556,
             "#d8576b"
            ],
            [
             0.6666666666666666,
             "#ed7953"
            ],
            [
             0.7777777777777778,
             "#fb9f3a"
            ],
            [
             0.8888888888888888,
             "#fdca26"
            ],
            [
             1,
             "#f0f921"
            ]
           ]
          },
          "colorway": [
           "#636efa",
           "#EF553B",
           "#00cc96",
           "#ab63fa",
           "#FFA15A",
           "#19d3f3",
           "#FF6692",
           "#B6E880",
           "#FF97FF",
           "#FECB52"
          ],
          "font": {
           "color": "#2a3f5f"
          },
          "geo": {
           "bgcolor": "white",
           "lakecolor": "white",
           "landcolor": "#E5ECF6",
           "showlakes": true,
           "showland": true,
           "subunitcolor": "white"
          },
          "hoverlabel": {
           "align": "left"
          },
          "hovermode": "closest",
          "mapbox": {
           "style": "light"
          },
          "paper_bgcolor": "white",
          "plot_bgcolor": "#E5ECF6",
          "polar": {
           "angularaxis": {
            "gridcolor": "white",
            "linecolor": "white",
            "ticks": ""
           },
           "bgcolor": "#E5ECF6",
           "radialaxis": {
            "gridcolor": "white",
            "linecolor": "white",
            "ticks": ""
           }
          },
          "scene": {
           "xaxis": {
            "backgroundcolor": "#E5ECF6",
            "gridcolor": "white",
            "gridwidth": 2,
            "linecolor": "white",
            "showbackground": true,
            "ticks": "",
            "zerolinecolor": "white"
           },
           "yaxis": {
            "backgroundcolor": "#E5ECF6",
            "gridcolor": "white",
            "gridwidth": 2,
            "linecolor": "white",
            "showbackground": true,
            "ticks": "",
            "zerolinecolor": "white"
           },
           "zaxis": {
            "backgroundcolor": "#E5ECF6",
            "gridcolor": "white",
            "gridwidth": 2,
            "linecolor": "white",
            "showbackground": true,
            "ticks": "",
            "zerolinecolor": "white"
           }
          },
          "shapedefaults": {
           "line": {
            "color": "#2a3f5f"
           }
          },
          "ternary": {
           "aaxis": {
            "gridcolor": "white",
            "linecolor": "white",
            "ticks": ""
           },
           "baxis": {
            "gridcolor": "white",
            "linecolor": "white",
            "ticks": ""
           },
           "bgcolor": "#E5ECF6",
           "caxis": {
            "gridcolor": "white",
            "linecolor": "white",
            "ticks": ""
           }
          },
          "title": {
           "x": 0.05
          },
          "xaxis": {
           "automargin": true,
           "gridcolor": "white",
           "linecolor": "white",
           "ticks": "",
           "title": {
            "standoff": 15
           },
           "zerolinecolor": "white",
           "zerolinewidth": 2
          },
          "yaxis": {
           "automargin": true,
           "gridcolor": "white",
           "linecolor": "white",
           "ticks": "",
           "title": {
            "standoff": 15
           },
           "zerolinecolor": "white",
           "zerolinewidth": 2
          }
         }
        },
        "xaxis": {
         "anchor": "y",
         "domain": [
          0,
          0.7363
         ],
         "title": {
          "text": "rawF1"
         }
        },
        "xaxis2": {
         "anchor": "y2",
         "domain": [
          0.7413,
          1
         ],
         "matches": "x2",
         "showgrid": true,
         "showline": false,
         "showticklabels": false,
         "ticks": ""
        },
        "yaxis": {
         "anchor": "x",
         "domain": [
          0,
          1
         ],
         "title": {
          "text": "eventF1"
         }
        },
        "yaxis2": {
         "anchor": "x2",
         "domain": [
          0,
          1
         ],
         "matches": "y",
         "showgrid": true,
         "showticklabels": false
        }
       }
      }
     },
     "metadata": {},
     "output_type": "display_data"
    }
   ],
   "source": [
    "fig=px.scatter(experimentModels,x='rawF1',y='eventF1',color='test',hover_name='modelId', marginal_y=\"histogram\")\n",
    "fig.add_trace(\n",
    "    go.Scatter(x=experimentModels['rawF1'], y=experimentModels['rawF1'], name=\"identity\", mode='lines',fill=\"toself\")\n",
    ")\n",
    "fig.show()"
   ]
  },
  {
   "cell_type": "code",
   "execution_count": 23,
   "metadata": {},
   "outputs": [
    {
     "data": {
      "application/vnd.plotly.v1+json": {
       "config": {
        "plotlyServerURL": "https://plot.ly"
       },
       "data": [
        {
         "hovertemplate": "<b>%{hovertext}</b><br><br>test=0001<br>eventF1=%{x}<br>eventPrecision=%{y}<extra></extra>",
         "hovertext": [
          "9e4dd9bb-a7d9-4ee8-a762-d656d8308d91"
         ],
         "legendgroup": "0001",
         "marker": {
          "color": "#636efa",
          "symbol": "circle"
         },
         "mode": "markers",
         "name": "0001",
         "orientation": "v",
         "showlegend": true,
         "type": "scatter",
         "x": [
          0.586366644606221
         ],
         "xaxis": "x",
         "y": [
          0.9486081370449678
         ],
         "yaxis": "y"
        },
        {
         "alignmentgroup": "True",
         "bingroup": "y",
         "hovertemplate": "test=0001<br>eventPrecision=%{y}<br>count=%{x}<extra></extra>",
         "legendgroup": "0001",
         "marker": {
          "color": "#636efa"
         },
         "name": "0001",
         "offsetgroup": "0001",
         "opacity": 0.5,
         "showlegend": false,
         "type": "histogram",
         "xaxis": "x2",
         "y": [
          0.9486081370449678
         ],
         "yaxis": "y2"
        },
        {
         "hovertemplate": "<b>%{hovertext}</b><br><br>test=0002<br>eventF1=%{x}<br>eventPrecision=%{y}<extra></extra>",
         "hovertext": [
          "5e1bcb8a-f879-4f42-ae21-0e1ae715095f"
         ],
         "legendgroup": "0002",
         "marker": {
          "color": "#EF553B",
          "symbol": "circle"
         },
         "mode": "markers",
         "name": "0002",
         "orientation": "v",
         "showlegend": true,
         "type": "scatter",
         "x": [
          0.7673971549404075
         ],
         "xaxis": "x",
         "y": [
          0.6851851851851852
         ],
         "yaxis": "y"
        },
        {
         "alignmentgroup": "True",
         "bingroup": "y",
         "hovertemplate": "test=0002<br>eventPrecision=%{y}<br>count=%{x}<extra></extra>",
         "legendgroup": "0002",
         "marker": {
          "color": "#EF553B"
         },
         "name": "0002",
         "offsetgroup": "0002",
         "opacity": 0.5,
         "showlegend": false,
         "type": "histogram",
         "xaxis": "x2",
         "y": [
          0.6851851851851852
         ],
         "yaxis": "y2"
        },
        {
         "hovertemplate": "<b>%{hovertext}</b><br><br>test=0003<br>eventF1=%{x}<br>eventPrecision=%{y}<extra></extra>",
         "hovertext": [
          "2ecef3ee-0879-42d7-bcf0-ecfa0e3e601a"
         ],
         "legendgroup": "0003",
         "marker": {
          "color": "#00cc96",
          "symbol": "circle"
         },
         "mode": "markers",
         "name": "0003",
         "orientation": "v",
         "showlegend": true,
         "type": "scatter",
         "x": [
          0.6705882352941176
         ],
         "xaxis": "x",
         "y": [
          0.5786802030456852
         ],
         "yaxis": "y"
        },
        {
         "alignmentgroup": "True",
         "bingroup": "y",
         "hovertemplate": "test=0003<br>eventPrecision=%{y}<br>count=%{x}<extra></extra>",
         "legendgroup": "0003",
         "marker": {
          "color": "#00cc96"
         },
         "name": "0003",
         "offsetgroup": "0003",
         "opacity": 0.5,
         "showlegend": false,
         "type": "histogram",
         "xaxis": "x2",
         "y": [
          0.5786802030456852
         ],
         "yaxis": "y2"
        },
        {
         "hovertemplate": "<b>%{hovertext}</b><br><br>test=0005<br>eventF1=%{x}<br>eventPrecision=%{y}<extra></extra>",
         "hovertext": [
          "52b0d6a8-7f01-4694-85d4-14ef17a025b9"
         ],
         "legendgroup": "0005",
         "marker": {
          "color": "#ab63fa",
          "symbol": "circle"
         },
         "mode": "markers",
         "name": "0005",
         "orientation": "v",
         "showlegend": true,
         "type": "scatter",
         "x": [
          0.6666666666666666
         ],
         "xaxis": "x",
         "y": [
          0.5263157894736842
         ],
         "yaxis": "y"
        },
        {
         "alignmentgroup": "True",
         "bingroup": "y",
         "hovertemplate": "test=0005<br>eventPrecision=%{y}<br>count=%{x}<extra></extra>",
         "legendgroup": "0005",
         "marker": {
          "color": "#ab63fa"
         },
         "name": "0005",
         "offsetgroup": "0005",
         "opacity": 0.5,
         "showlegend": false,
         "type": "histogram",
         "xaxis": "x2",
         "y": [
          0.5263157894736842
         ],
         "yaxis": "y2"
        },
        {
         "hovertemplate": "<b>%{hovertext}</b><br><br>test=0006<br>eventF1=%{x}<br>eventPrecision=%{y}<extra></extra>",
         "hovertext": [
          "32c9793a-2115-4e77-8b6f-e8f71d09cecb"
         ],
         "legendgroup": "0006",
         "marker": {
          "color": "#FFA15A",
          "symbol": "circle"
         },
         "mode": "markers",
         "name": "0006",
         "orientation": "v",
         "showlegend": true,
         "type": "scatter",
         "x": [
          0.6666666666666666
         ],
         "xaxis": "x",
         "y": [
          0.5858585858585859
         ],
         "yaxis": "y"
        },
        {
         "alignmentgroup": "True",
         "bingroup": "y",
         "hovertemplate": "test=0006<br>eventPrecision=%{y}<br>count=%{x}<extra></extra>",
         "legendgroup": "0006",
         "marker": {
          "color": "#FFA15A"
         },
         "name": "0006",
         "offsetgroup": "0006",
         "opacity": 0.5,
         "showlegend": false,
         "type": "histogram",
         "xaxis": "x2",
         "y": [
          0.5858585858585859
         ],
         "yaxis": "y2"
        },
        {
         "hovertemplate": "<b>%{hovertext}</b><br><br>test=0007<br>eventF1=%{x}<br>eventPrecision=%{y}<extra></extra>",
         "hovertext": [
          "241d9889-61ff-47f7-97c2-f502ae3dba38"
         ],
         "legendgroup": "0007",
         "marker": {
          "color": "#19d3f3",
          "symbol": "circle"
         },
         "mode": "markers",
         "name": "0007",
         "orientation": "v",
         "showlegend": true,
         "type": "scatter",
         "x": [
          0.6182542557044549
         ],
         "xaxis": "x",
         "y": [
          0.4624121146565711
         ],
         "yaxis": "y"
        },
        {
         "alignmentgroup": "True",
         "bingroup": "y",
         "hovertemplate": "test=0007<br>eventPrecision=%{y}<br>count=%{x}<extra></extra>",
         "legendgroup": "0007",
         "marker": {
          "color": "#19d3f3"
         },
         "name": "0007",
         "offsetgroup": "0007",
         "opacity": 0.5,
         "showlegend": false,
         "type": "histogram",
         "xaxis": "x2",
         "y": [
          0.4624121146565711
         ],
         "yaxis": "y2"
        },
        {
         "hovertemplate": "<b>%{hovertext}</b><br><br>test=0009<br>eventF1=%{x}<br>eventPrecision=%{y}<extra></extra>",
         "hovertext": [
          "f6a46037-1f32-40b5-a6ff-cd293b0e4203"
         ],
         "legendgroup": "0009",
         "marker": {
          "color": "#FF6692",
          "symbol": "circle"
         },
         "mode": "markers",
         "name": "0009",
         "orientation": "v",
         "showlegend": true,
         "type": "scatter",
         "x": [
          0.7874069058903183
         ],
         "xaxis": "x",
         "y": [
          0.8778280542986425
         ],
         "yaxis": "y"
        },
        {
         "alignmentgroup": "True",
         "bingroup": "y",
         "hovertemplate": "test=0009<br>eventPrecision=%{y}<br>count=%{x}<extra></extra>",
         "legendgroup": "0009",
         "marker": {
          "color": "#FF6692"
         },
         "name": "0009",
         "offsetgroup": "0009",
         "opacity": 0.5,
         "showlegend": false,
         "type": "histogram",
         "xaxis": "x2",
         "y": [
          0.8778280542986425
         ],
         "yaxis": "y2"
        },
        {
         "hovertemplate": "<b>%{hovertext}</b><br><br>test=0010<br>eventF1=%{x}<br>eventPrecision=%{y}<extra></extra>",
         "hovertext": [
          "6cfc1f74-3653-47eb-a166-f59fefa13825"
         ],
         "legendgroup": "0010",
         "marker": {
          "color": "#B6E880",
          "symbol": "circle"
         },
         "mode": "markers",
         "name": "0010",
         "orientation": "v",
         "showlegend": true,
         "type": "scatter",
         "x": [
          0.7587145969498911
         ],
         "xaxis": "x",
         "y": [
          0.6695485110470701
         ],
         "yaxis": "y"
        },
        {
         "alignmentgroup": "True",
         "bingroup": "y",
         "hovertemplate": "test=0010<br>eventPrecision=%{y}<br>count=%{x}<extra></extra>",
         "legendgroup": "0010",
         "marker": {
          "color": "#B6E880"
         },
         "name": "0010",
         "offsetgroup": "0010",
         "opacity": 0.5,
         "showlegend": false,
         "type": "histogram",
         "xaxis": "x2",
         "y": [
          0.6695485110470701
         ],
         "yaxis": "y2"
        },
        {
         "hovertemplate": "<b>%{hovertext}</b><br><br>test=0011<br>eventF1=%{x}<br>eventPrecision=%{y}<extra></extra>",
         "hovertext": [
          "68c5483d-9072-4478-8a87-a7af3324f690"
         ],
         "legendgroup": "0011",
         "marker": {
          "color": "#FF97FF",
          "symbol": "circle"
         },
         "mode": "markers",
         "name": "0011",
         "orientation": "v",
         "showlegend": true,
         "type": "scatter",
         "x": [
          0.6679954441913439
         ],
         "xaxis": "x",
         "y": [
          0.5121739130434783
         ],
         "yaxis": "y"
        },
        {
         "alignmentgroup": "True",
         "bingroup": "y",
         "hovertemplate": "test=0011<br>eventPrecision=%{y}<br>count=%{x}<extra></extra>",
         "legendgroup": "0011",
         "marker": {
          "color": "#FF97FF"
         },
         "name": "0011",
         "offsetgroup": "0011",
         "opacity": 0.5,
         "showlegend": false,
         "type": "histogram",
         "xaxis": "x2",
         "y": [
          0.5121739130434783
         ],
         "yaxis": "y2"
        },
        {
         "hovertemplate": "<b>%{hovertext}</b><br><br>test=0012<br>eventF1=%{x}<br>eventPrecision=%{y}<extra></extra>",
         "hovertext": [
          "349fe35c-b749-431d-8e8c-c288b150e998"
         ],
         "legendgroup": "0012",
         "marker": {
          "color": "#FECB52",
          "symbol": "circle"
         },
         "mode": "markers",
         "name": "0012",
         "orientation": "v",
         "showlegend": true,
         "type": "scatter",
         "x": [
          0.7326100829610721
         ],
         "xaxis": "x",
         "y": [
          0.668997668997669
         ],
         "yaxis": "y"
        },
        {
         "alignmentgroup": "True",
         "bingroup": "y",
         "hovertemplate": "test=0012<br>eventPrecision=%{y}<br>count=%{x}<extra></extra>",
         "legendgroup": "0012",
         "marker": {
          "color": "#FECB52"
         },
         "name": "0012",
         "offsetgroup": "0012",
         "opacity": 0.5,
         "showlegend": false,
         "type": "histogram",
         "xaxis": "x2",
         "y": [
          0.668997668997669
         ],
         "yaxis": "y2"
        },
        {
         "hovertemplate": "<b>%{hovertext}</b><br><br>test=0013<br>eventF1=%{x}<br>eventPrecision=%{y}<extra></extra>",
         "hovertext": [
          "4babfd03-bb9d-4dd2-a829-ad9de3f05932"
         ],
         "legendgroup": "0013",
         "marker": {
          "color": "#636efa",
          "symbol": "circle"
         },
         "mode": "markers",
         "name": "0013",
         "orientation": "v",
         "showlegend": true,
         "type": "scatter",
         "x": [
          0.6897980321077162
         ],
         "xaxis": "x",
         "y": [
          0.5409570154095702
         ],
         "yaxis": "y"
        },
        {
         "alignmentgroup": "True",
         "bingroup": "y",
         "hovertemplate": "test=0013<br>eventPrecision=%{y}<br>count=%{x}<extra></extra>",
         "legendgroup": "0013",
         "marker": {
          "color": "#636efa"
         },
         "name": "0013",
         "offsetgroup": "0013",
         "opacity": 0.5,
         "showlegend": false,
         "type": "histogram",
         "xaxis": "x2",
         "y": [
          0.5409570154095702
         ],
         "yaxis": "y2"
        },
        {
         "hovertemplate": "<b>%{hovertext}</b><br><br>test=0014<br>eventF1=%{x}<br>eventPrecision=%{y}<extra></extra>",
         "hovertext": [
          "8b17d41d-edbb-461c-87d2-300850772dae"
         ],
         "legendgroup": "0014",
         "marker": {
          "color": "#EF553B",
          "symbol": "circle"
         },
         "mode": "markers",
         "name": "0014",
         "orientation": "v",
         "showlegend": true,
         "type": "scatter",
         "x": [
          0.5113553113553113
         ],
         "xaxis": "x",
         "y": [
          0.3434093161546085
         ],
         "yaxis": "y"
        },
        {
         "alignmentgroup": "True",
         "bingroup": "y",
         "hovertemplate": "test=0014<br>eventPrecision=%{y}<br>count=%{x}<extra></extra>",
         "legendgroup": "0014",
         "marker": {
          "color": "#EF553B"
         },
         "name": "0014",
         "offsetgroup": "0014",
         "opacity": 0.5,
         "showlegend": false,
         "type": "histogram",
         "xaxis": "x2",
         "y": [
          0.3434093161546085
         ],
         "yaxis": "y2"
        },
        {
         "hovertemplate": "<b>%{hovertext}</b><br><br>test=0017<br>eventF1=%{x}<br>eventPrecision=%{y}<extra></extra>",
         "hovertext": [
          "0363bbae-1f8e-4b17-9c0c-12617bda2825"
         ],
         "legendgroup": "0017",
         "marker": {
          "color": "#00cc96",
          "symbol": "circle"
         },
         "mode": "markers",
         "name": "0017",
         "orientation": "v",
         "showlegend": true,
         "type": "scatter",
         "x": [
          0.7336448598130841
         ],
         "xaxis": "x",
         "y": [
          0.810880829015544
         ],
         "yaxis": "y"
        },
        {
         "alignmentgroup": "True",
         "bingroup": "y",
         "hovertemplate": "test=0017<br>eventPrecision=%{y}<br>count=%{x}<extra></extra>",
         "legendgroup": "0017",
         "marker": {
          "color": "#00cc96"
         },
         "name": "0017",
         "offsetgroup": "0017",
         "opacity": 0.5,
         "showlegend": false,
         "type": "histogram",
         "xaxis": "x2",
         "y": [
          0.810880829015544
         ],
         "yaxis": "y2"
        },
        {
         "hovertemplate": "<b>%{hovertext}</b><br><br>test=0018<br>eventF1=%{x}<br>eventPrecision=%{y}<extra></extra>",
         "hovertext": [
          "3ab00c3d-e088-430b-81c0-65466ec51055"
         ],
         "legendgroup": "0018",
         "marker": {
          "color": "#ab63fa",
          "symbol": "circle"
         },
         "mode": "markers",
         "name": "0018",
         "orientation": "v",
         "showlegend": true,
         "type": "scatter",
         "x": [
          0.7886710239651417
         ],
         "xaxis": "x",
         "y": [
          0.8001768346595933
         ],
         "yaxis": "y"
        },
        {
         "alignmentgroup": "True",
         "bingroup": "y",
         "hovertemplate": "test=0018<br>eventPrecision=%{y}<br>count=%{x}<extra></extra>",
         "legendgroup": "0018",
         "marker": {
          "color": "#ab63fa"
         },
         "name": "0018",
         "offsetgroup": "0018",
         "opacity": 0.5,
         "showlegend": false,
         "type": "histogram",
         "xaxis": "x2",
         "y": [
          0.8001768346595933
         ],
         "yaxis": "y2"
        },
        {
         "hovertemplate": "<b>%{hovertext}</b><br><br>test=0019<br>eventF1=%{x}<br>eventPrecision=%{y}<extra></extra>",
         "hovertext": [
          "a223e573-b48d-418b-a3d3-7c7ae2c5dee7"
         ],
         "legendgroup": "0019",
         "marker": {
          "color": "#FFA15A",
          "symbol": "circle"
         },
         "mode": "markers",
         "name": "0019",
         "orientation": "v",
         "showlegend": true,
         "type": "scatter",
         "x": [
          0.4940991345397325
         ],
         "xaxis": "x",
         "y": [
          0.3284518828451883
         ],
         "yaxis": "y"
        },
        {
         "alignmentgroup": "True",
         "bingroup": "y",
         "hovertemplate": "test=0019<br>eventPrecision=%{y}<br>count=%{x}<extra></extra>",
         "legendgroup": "0019",
         "marker": {
          "color": "#FFA15A"
         },
         "name": "0019",
         "offsetgroup": "0019",
         "opacity": 0.5,
         "showlegend": false,
         "type": "histogram",
         "xaxis": "x2",
         "y": [
          0.3284518828451883
         ],
         "yaxis": "y2"
        },
        {
         "fill": "toself",
         "mode": "lines",
         "name": "identity",
         "type": "scatter",
         "x": [
          0.586366644606221,
          0.7673971549404075,
          0.6705882352941176,
          0.6666666666666666,
          0.6666666666666666,
          0.6182542557044549,
          0.7874069058903183,
          0.7587145969498911,
          0.6679954441913439,
          0.7326100829610721,
          0.6897980321077162,
          0.5113553113553113,
          0.7336448598130841,
          0.7886710239651417,
          0.4940991345397325
         ],
         "y": [
          0.586366644606221,
          0.7673971549404075,
          0.6705882352941176,
          0.6666666666666666,
          0.6666666666666666,
          0.6182542557044549,
          0.7874069058903183,
          0.7587145969498911,
          0.6679954441913439,
          0.7326100829610721,
          0.6897980321077162,
          0.5113553113553113,
          0.7336448598130841,
          0.7886710239651417,
          0.4940991345397325
         ]
        }
       ],
       "layout": {
        "barmode": "overlay",
        "legend": {
         "title": {
          "text": "test"
         },
         "tracegroupgap": 0
        },
        "margin": {
         "t": 60
        },
        "template": {
         "data": {
          "bar": [
           {
            "error_x": {
             "color": "#2a3f5f"
            },
            "error_y": {
             "color": "#2a3f5f"
            },
            "marker": {
             "line": {
              "color": "#E5ECF6",
              "width": 0.5
             },
             "pattern": {
              "fillmode": "overlay",
              "size": 10,
              "solidity": 0.2
             }
            },
            "type": "bar"
           }
          ],
          "barpolar": [
           {
            "marker": {
             "line": {
              "color": "#E5ECF6",
              "width": 0.5
             },
             "pattern": {
              "fillmode": "overlay",
              "size": 10,
              "solidity": 0.2
             }
            },
            "type": "barpolar"
           }
          ],
          "carpet": [
           {
            "aaxis": {
             "endlinecolor": "#2a3f5f",
             "gridcolor": "white",
             "linecolor": "white",
             "minorgridcolor": "white",
             "startlinecolor": "#2a3f5f"
            },
            "baxis": {
             "endlinecolor": "#2a3f5f",
             "gridcolor": "white",
             "linecolor": "white",
             "minorgridcolor": "white",
             "startlinecolor": "#2a3f5f"
            },
            "type": "carpet"
           }
          ],
          "choropleth": [
           {
            "colorbar": {
             "outlinewidth": 0,
             "ticks": ""
            },
            "type": "choropleth"
           }
          ],
          "contour": [
           {
            "colorbar": {
             "outlinewidth": 0,
             "ticks": ""
            },
            "colorscale": [
             [
              0,
              "#0d0887"
             ],
             [
              0.1111111111111111,
              "#46039f"
             ],
             [
              0.2222222222222222,
              "#7201a8"
             ],
             [
              0.3333333333333333,
              "#9c179e"
             ],
             [
              0.4444444444444444,
              "#bd3786"
             ],
             [
              0.5555555555555556,
              "#d8576b"
             ],
             [
              0.6666666666666666,
              "#ed7953"
             ],
             [
              0.7777777777777778,
              "#fb9f3a"
             ],
             [
              0.8888888888888888,
              "#fdca26"
             ],
             [
              1,
              "#f0f921"
             ]
            ],
            "type": "contour"
           }
          ],
          "contourcarpet": [
           {
            "colorbar": {
             "outlinewidth": 0,
             "ticks": ""
            },
            "type": "contourcarpet"
           }
          ],
          "heatmap": [
           {
            "colorbar": {
             "outlinewidth": 0,
             "ticks": ""
            },
            "colorscale": [
             [
              0,
              "#0d0887"
             ],
             [
              0.1111111111111111,
              "#46039f"
             ],
             [
              0.2222222222222222,
              "#7201a8"
             ],
             [
              0.3333333333333333,
              "#9c179e"
             ],
             [
              0.4444444444444444,
              "#bd3786"
             ],
             [
              0.5555555555555556,
              "#d8576b"
             ],
             [
              0.6666666666666666,
              "#ed7953"
             ],
             [
              0.7777777777777778,
              "#fb9f3a"
             ],
             [
              0.8888888888888888,
              "#fdca26"
             ],
             [
              1,
              "#f0f921"
             ]
            ],
            "type": "heatmap"
           }
          ],
          "heatmapgl": [
           {
            "colorbar": {
             "outlinewidth": 0,
             "ticks": ""
            },
            "colorscale": [
             [
              0,
              "#0d0887"
             ],
             [
              0.1111111111111111,
              "#46039f"
             ],
             [
              0.2222222222222222,
              "#7201a8"
             ],
             [
              0.3333333333333333,
              "#9c179e"
             ],
             [
              0.4444444444444444,
              "#bd3786"
             ],
             [
              0.5555555555555556,
              "#d8576b"
             ],
             [
              0.6666666666666666,
              "#ed7953"
             ],
             [
              0.7777777777777778,
              "#fb9f3a"
             ],
             [
              0.8888888888888888,
              "#fdca26"
             ],
             [
              1,
              "#f0f921"
             ]
            ],
            "type": "heatmapgl"
           }
          ],
          "histogram": [
           {
            "marker": {
             "pattern": {
              "fillmode": "overlay",
              "size": 10,
              "solidity": 0.2
             }
            },
            "type": "histogram"
           }
          ],
          "histogram2d": [
           {
            "colorbar": {
             "outlinewidth": 0,
             "ticks": ""
            },
            "colorscale": [
             [
              0,
              "#0d0887"
             ],
             [
              0.1111111111111111,
              "#46039f"
             ],
             [
              0.2222222222222222,
              "#7201a8"
             ],
             [
              0.3333333333333333,
              "#9c179e"
             ],
             [
              0.4444444444444444,
              "#bd3786"
             ],
             [
              0.5555555555555556,
              "#d8576b"
             ],
             [
              0.6666666666666666,
              "#ed7953"
             ],
             [
              0.7777777777777778,
              "#fb9f3a"
             ],
             [
              0.8888888888888888,
              "#fdca26"
             ],
             [
              1,
              "#f0f921"
             ]
            ],
            "type": "histogram2d"
           }
          ],
          "histogram2dcontour": [
           {
            "colorbar": {
             "outlinewidth": 0,
             "ticks": ""
            },
            "colorscale": [
             [
              0,
              "#0d0887"
             ],
             [
              0.1111111111111111,
              "#46039f"
             ],
             [
              0.2222222222222222,
              "#7201a8"
             ],
             [
              0.3333333333333333,
              "#9c179e"
             ],
             [
              0.4444444444444444,
              "#bd3786"
             ],
             [
              0.5555555555555556,
              "#d8576b"
             ],
             [
              0.6666666666666666,
              "#ed7953"
             ],
             [
              0.7777777777777778,
              "#fb9f3a"
             ],
             [
              0.8888888888888888,
              "#fdca26"
             ],
             [
              1,
              "#f0f921"
             ]
            ],
            "type": "histogram2dcontour"
           }
          ],
          "mesh3d": [
           {
            "colorbar": {
             "outlinewidth": 0,
             "ticks": ""
            },
            "type": "mesh3d"
           }
          ],
          "parcoords": [
           {
            "line": {
             "colorbar": {
              "outlinewidth": 0,
              "ticks": ""
             }
            },
            "type": "parcoords"
           }
          ],
          "pie": [
           {
            "automargin": true,
            "type": "pie"
           }
          ],
          "scatter": [
           {
            "fillpattern": {
             "fillmode": "overlay",
             "size": 10,
             "solidity": 0.2
            },
            "type": "scatter"
           }
          ],
          "scatter3d": [
           {
            "line": {
             "colorbar": {
              "outlinewidth": 0,
              "ticks": ""
             }
            },
            "marker": {
             "colorbar": {
              "outlinewidth": 0,
              "ticks": ""
             }
            },
            "type": "scatter3d"
           }
          ],
          "scattercarpet": [
           {
            "marker": {
             "colorbar": {
              "outlinewidth": 0,
              "ticks": ""
             }
            },
            "type": "scattercarpet"
           }
          ],
          "scattergeo": [
           {
            "marker": {
             "colorbar": {
              "outlinewidth": 0,
              "ticks": ""
             }
            },
            "type": "scattergeo"
           }
          ],
          "scattergl": [
           {
            "marker": {
             "colorbar": {
              "outlinewidth": 0,
              "ticks": ""
             }
            },
            "type": "scattergl"
           }
          ],
          "scattermapbox": [
           {
            "marker": {
             "colorbar": {
              "outlinewidth": 0,
              "ticks": ""
             }
            },
            "type": "scattermapbox"
           }
          ],
          "scatterpolar": [
           {
            "marker": {
             "colorbar": {
              "outlinewidth": 0,
              "ticks": ""
             }
            },
            "type": "scatterpolar"
           }
          ],
          "scatterpolargl": [
           {
            "marker": {
             "colorbar": {
              "outlinewidth": 0,
              "ticks": ""
             }
            },
            "type": "scatterpolargl"
           }
          ],
          "scatterternary": [
           {
            "marker": {
             "colorbar": {
              "outlinewidth": 0,
              "ticks": ""
             }
            },
            "type": "scatterternary"
           }
          ],
          "surface": [
           {
            "colorbar": {
             "outlinewidth": 0,
             "ticks": ""
            },
            "colorscale": [
             [
              0,
              "#0d0887"
             ],
             [
              0.1111111111111111,
              "#46039f"
             ],
             [
              0.2222222222222222,
              "#7201a8"
             ],
             [
              0.3333333333333333,
              "#9c179e"
             ],
             [
              0.4444444444444444,
              "#bd3786"
             ],
             [
              0.5555555555555556,
              "#d8576b"
             ],
             [
              0.6666666666666666,
              "#ed7953"
             ],
             [
              0.7777777777777778,
              "#fb9f3a"
             ],
             [
              0.8888888888888888,
              "#fdca26"
             ],
             [
              1,
              "#f0f921"
             ]
            ],
            "type": "surface"
           }
          ],
          "table": [
           {
            "cells": {
             "fill": {
              "color": "#EBF0F8"
             },
             "line": {
              "color": "white"
             }
            },
            "header": {
             "fill": {
              "color": "#C8D4E3"
             },
             "line": {
              "color": "white"
             }
            },
            "type": "table"
           }
          ]
         },
         "layout": {
          "annotationdefaults": {
           "arrowcolor": "#2a3f5f",
           "arrowhead": 0,
           "arrowwidth": 1
          },
          "autotypenumbers": "strict",
          "coloraxis": {
           "colorbar": {
            "outlinewidth": 0,
            "ticks": ""
           }
          },
          "colorscale": {
           "diverging": [
            [
             0,
             "#8e0152"
            ],
            [
             0.1,
             "#c51b7d"
            ],
            [
             0.2,
             "#de77ae"
            ],
            [
             0.3,
             "#f1b6da"
            ],
            [
             0.4,
             "#fde0ef"
            ],
            [
             0.5,
             "#f7f7f7"
            ],
            [
             0.6,
             "#e6f5d0"
            ],
            [
             0.7,
             "#b8e186"
            ],
            [
             0.8,
             "#7fbc41"
            ],
            [
             0.9,
             "#4d9221"
            ],
            [
             1,
             "#276419"
            ]
           ],
           "sequential": [
            [
             0,
             "#0d0887"
            ],
            [
             0.1111111111111111,
             "#46039f"
            ],
            [
             0.2222222222222222,
             "#7201a8"
            ],
            [
             0.3333333333333333,
             "#9c179e"
            ],
            [
             0.4444444444444444,
             "#bd3786"
            ],
            [
             0.5555555555555556,
             "#d8576b"
            ],
            [
             0.6666666666666666,
             "#ed7953"
            ],
            [
             0.7777777777777778,
             "#fb9f3a"
            ],
            [
             0.8888888888888888,
             "#fdca26"
            ],
            [
             1,
             "#f0f921"
            ]
           ],
           "sequentialminus": [
            [
             0,
             "#0d0887"
            ],
            [
             0.1111111111111111,
             "#46039f"
            ],
            [
             0.2222222222222222,
             "#7201a8"
            ],
            [
             0.3333333333333333,
             "#9c179e"
            ],
            [
             0.4444444444444444,
             "#bd3786"
            ],
            [
             0.5555555555555556,
             "#d8576b"
            ],
            [
             0.6666666666666666,
             "#ed7953"
            ],
            [
             0.7777777777777778,
             "#fb9f3a"
            ],
            [
             0.8888888888888888,
             "#fdca26"
            ],
            [
             1,
             "#f0f921"
            ]
           ]
          },
          "colorway": [
           "#636efa",
           "#EF553B",
           "#00cc96",
           "#ab63fa",
           "#FFA15A",
           "#19d3f3",
           "#FF6692",
           "#B6E880",
           "#FF97FF",
           "#FECB52"
          ],
          "font": {
           "color": "#2a3f5f"
          },
          "geo": {
           "bgcolor": "white",
           "lakecolor": "white",
           "landcolor": "#E5ECF6",
           "showlakes": true,
           "showland": true,
           "subunitcolor": "white"
          },
          "hoverlabel": {
           "align": "left"
          },
          "hovermode": "closest",
          "mapbox": {
           "style": "light"
          },
          "paper_bgcolor": "white",
          "plot_bgcolor": "#E5ECF6",
          "polar": {
           "angularaxis": {
            "gridcolor": "white",
            "linecolor": "white",
            "ticks": ""
           },
           "bgcolor": "#E5ECF6",
           "radialaxis": {
            "gridcolor": "white",
            "linecolor": "white",
            "ticks": ""
           }
          },
          "scene": {
           "xaxis": {
            "backgroundcolor": "#E5ECF6",
            "gridcolor": "white",
            "gridwidth": 2,
            "linecolor": "white",
            "showbackground": true,
            "ticks": "",
            "zerolinecolor": "white"
           },
           "yaxis": {
            "backgroundcolor": "#E5ECF6",
            "gridcolor": "white",
            "gridwidth": 2,
            "linecolor": "white",
            "showbackground": true,
            "ticks": "",
            "zerolinecolor": "white"
           },
           "zaxis": {
            "backgroundcolor": "#E5ECF6",
            "gridcolor": "white",
            "gridwidth": 2,
            "linecolor": "white",
            "showbackground": true,
            "ticks": "",
            "zerolinecolor": "white"
           }
          },
          "shapedefaults": {
           "line": {
            "color": "#2a3f5f"
           }
          },
          "ternary": {
           "aaxis": {
            "gridcolor": "white",
            "linecolor": "white",
            "ticks": ""
           },
           "baxis": {
            "gridcolor": "white",
            "linecolor": "white",
            "ticks": ""
           },
           "bgcolor": "#E5ECF6",
           "caxis": {
            "gridcolor": "white",
            "linecolor": "white",
            "ticks": ""
           }
          },
          "title": {
           "x": 0.05
          },
          "xaxis": {
           "automargin": true,
           "gridcolor": "white",
           "linecolor": "white",
           "ticks": "",
           "title": {
            "standoff": 15
           },
           "zerolinecolor": "white",
           "zerolinewidth": 2
          },
          "yaxis": {
           "automargin": true,
           "gridcolor": "white",
           "linecolor": "white",
           "ticks": "",
           "title": {
            "standoff": 15
           },
           "zerolinecolor": "white",
           "zerolinewidth": 2
          }
         }
        },
        "xaxis": {
         "anchor": "y",
         "domain": [
          0,
          0.7363
         ],
         "title": {
          "text": "eventF1"
         }
        },
        "xaxis2": {
         "anchor": "y2",
         "domain": [
          0.7413,
          1
         ],
         "matches": "x2",
         "showgrid": true,
         "showline": false,
         "showticklabels": false,
         "ticks": ""
        },
        "yaxis": {
         "anchor": "x",
         "domain": [
          0,
          1
         ],
         "title": {
          "text": "eventPrecision"
         }
        },
        "yaxis2": {
         "anchor": "x2",
         "domain": [
          0,
          1
         ],
         "matches": "y",
         "showgrid": true,
         "showticklabels": false
        }
       }
      }
     },
     "metadata": {},
     "output_type": "display_data"
    }
   ],
   "source": [
    "fig=px.scatter(experimentModels,x='eventF1',y='eventPrecision',color='test',hover_name='modelId', marginal_y=\"histogram\")\n",
    "fig.add_trace(\n",
    "    go.Scatter(x=experimentModels['eventF1'], y=experimentModels['eventF1'], name=\"identity\", mode='lines',fill=\"toself\")\n",
    ")\n",
    "fig.show()"
   ]
  },
  {
   "cell_type": "code",
   "execution_count": 24,
   "metadata": {},
   "outputs": [
    {
     "data": {
      "application/vnd.plotly.v1+json": {
       "config": {
        "plotlyServerURL": "https://plot.ly"
       },
       "data": [
        {
         "hovertemplate": "<b>%{hovertext}</b><br><br>test=0001<br>eventF1=%{x}<br>eventRecall=%{y}<extra></extra>",
         "hovertext": [
          "9e4dd9bb-a7d9-4ee8-a762-d656d8308d91"
         ],
         "legendgroup": "0001",
         "marker": {
          "color": "#636efa",
          "symbol": "circle"
         },
         "mode": "markers",
         "name": "0001",
         "orientation": "v",
         "showlegend": true,
         "type": "scatter",
         "x": [
          0.586366644606221
         ],
         "xaxis": "x",
         "y": [
          0.42432950191570884
         ],
         "yaxis": "y"
        },
        {
         "alignmentgroup": "True",
         "bingroup": "y",
         "hovertemplate": "test=0001<br>eventRecall=%{y}<br>count=%{x}<extra></extra>",
         "legendgroup": "0001",
         "marker": {
          "color": "#636efa"
         },
         "name": "0001",
         "offsetgroup": "0001",
         "opacity": 0.5,
         "showlegend": false,
         "type": "histogram",
         "xaxis": "x2",
         "y": [
          0.42432950191570884
         ],
         "yaxis": "y2"
        },
        {
         "hovertemplate": "<b>%{hovertext}</b><br><br>test=0002<br>eventF1=%{x}<br>eventRecall=%{y}<extra></extra>",
         "hovertext": [
          "5e1bcb8a-f879-4f42-ae21-0e1ae715095f"
         ],
         "legendgroup": "0002",
         "marker": {
          "color": "#EF553B",
          "symbol": "circle"
         },
         "mode": "markers",
         "name": "0002",
         "orientation": "v",
         "showlegend": true,
         "type": "scatter",
         "x": [
          0.7673971549404075
         ],
         "xaxis": "x",
         "y": [
          0.8722659667541557
         ],
         "yaxis": "y"
        },
        {
         "alignmentgroup": "True",
         "bingroup": "y",
         "hovertemplate": "test=0002<br>eventRecall=%{y}<br>count=%{x}<extra></extra>",
         "legendgroup": "0002",
         "marker": {
          "color": "#EF553B"
         },
         "name": "0002",
         "offsetgroup": "0002",
         "opacity": 0.5,
         "showlegend": false,
         "type": "histogram",
         "xaxis": "x2",
         "y": [
          0.8722659667541557
         ],
         "yaxis": "y2"
        },
        {
         "hovertemplate": "<b>%{hovertext}</b><br><br>test=0003<br>eventF1=%{x}<br>eventRecall=%{y}<extra></extra>",
         "hovertext": [
          "2ecef3ee-0879-42d7-bcf0-ecfa0e3e601a"
         ],
         "legendgroup": "0003",
         "marker": {
          "color": "#00cc96",
          "symbol": "circle"
         },
         "mode": "markers",
         "name": "0003",
         "orientation": "v",
         "showlegend": true,
         "type": "scatter",
         "x": [
          0.6705882352941176
         ],
         "xaxis": "x",
         "y": [
          0.7972027972027972
         ],
         "yaxis": "y"
        },
        {
         "alignmentgroup": "True",
         "bingroup": "y",
         "hovertemplate": "test=0003<br>eventRecall=%{y}<br>count=%{x}<extra></extra>",
         "legendgroup": "0003",
         "marker": {
          "color": "#00cc96"
         },
         "name": "0003",
         "offsetgroup": "0003",
         "opacity": 0.5,
         "showlegend": false,
         "type": "histogram",
         "xaxis": "x2",
         "y": [
          0.7972027972027972
         ],
         "yaxis": "y2"
        },
        {
         "hovertemplate": "<b>%{hovertext}</b><br><br>test=0005<br>eventF1=%{x}<br>eventRecall=%{y}<extra></extra>",
         "hovertext": [
          "52b0d6a8-7f01-4694-85d4-14ef17a025b9"
         ],
         "legendgroup": "0005",
         "marker": {
          "color": "#ab63fa",
          "symbol": "circle"
         },
         "mode": "markers",
         "name": "0005",
         "orientation": "v",
         "showlegend": true,
         "type": "scatter",
         "x": [
          0.6666666666666666
         ],
         "xaxis": "x",
         "y": [
          0.9090909090909091
         ],
         "yaxis": "y"
        },
        {
         "alignmentgroup": "True",
         "bingroup": "y",
         "hovertemplate": "test=0005<br>eventRecall=%{y}<br>count=%{x}<extra></extra>",
         "legendgroup": "0005",
         "marker": {
          "color": "#ab63fa"
         },
         "name": "0005",
         "offsetgroup": "0005",
         "opacity": 0.5,
         "showlegend": false,
         "type": "histogram",
         "xaxis": "x2",
         "y": [
          0.9090909090909091
         ],
         "yaxis": "y2"
        },
        {
         "hovertemplate": "<b>%{hovertext}</b><br><br>test=0006<br>eventF1=%{x}<br>eventRecall=%{y}<extra></extra>",
         "hovertext": [
          "32c9793a-2115-4e77-8b6f-e8f71d09cecb"
         ],
         "legendgroup": "0006",
         "marker": {
          "color": "#FFA15A",
          "symbol": "circle"
         },
         "mode": "markers",
         "name": "0006",
         "orientation": "v",
         "showlegend": true,
         "type": "scatter",
         "x": [
          0.6666666666666666
         ],
         "xaxis": "x",
         "y": [
          0.7733333333333333
         ],
         "yaxis": "y"
        },
        {
         "alignmentgroup": "True",
         "bingroup": "y",
         "hovertemplate": "test=0006<br>eventRecall=%{y}<br>count=%{x}<extra></extra>",
         "legendgroup": "0006",
         "marker": {
          "color": "#FFA15A"
         },
         "name": "0006",
         "offsetgroup": "0006",
         "opacity": 0.5,
         "showlegend": false,
         "type": "histogram",
         "xaxis": "x2",
         "y": [
          0.7733333333333333
         ],
         "yaxis": "y2"
        },
        {
         "hovertemplate": "<b>%{hovertext}</b><br><br>test=0007<br>eventF1=%{x}<br>eventRecall=%{y}<extra></extra>",
         "hovertext": [
          "241d9889-61ff-47f7-97c2-f502ae3dba38"
         ],
         "legendgroup": "0007",
         "marker": {
          "color": "#19d3f3",
          "symbol": "circle"
         },
         "mode": "markers",
         "name": "0007",
         "orientation": "v",
         "showlegend": true,
         "type": "scatter",
         "x": [
          0.6182542557044549
         ],
         "xaxis": "x",
         "y": [
          0.9342105263157895
         ],
         "yaxis": "y"
        },
        {
         "alignmentgroup": "True",
         "bingroup": "y",
         "hovertemplate": "test=0007<br>eventRecall=%{y}<br>count=%{x}<extra></extra>",
         "legendgroup": "0007",
         "marker": {
          "color": "#19d3f3"
         },
         "name": "0007",
         "offsetgroup": "0007",
         "opacity": 0.5,
         "showlegend": false,
         "type": "histogram",
         "xaxis": "x2",
         "y": [
          0.9342105263157895
         ],
         "yaxis": "y2"
        },
        {
         "hovertemplate": "<b>%{hovertext}</b><br><br>test=0009<br>eventF1=%{x}<br>eventRecall=%{y}<extra></extra>",
         "hovertext": [
          "f6a46037-1f32-40b5-a6ff-cd293b0e4203"
         ],
         "legendgroup": "0009",
         "marker": {
          "color": "#FF6692",
          "symbol": "circle"
         },
         "mode": "markers",
         "name": "0009",
         "orientation": "v",
         "showlegend": true,
         "type": "scatter",
         "x": [
          0.7874069058903183
         ],
         "xaxis": "x",
         "y": [
          0.7137592137592138
         ],
         "yaxis": "y"
        },
        {
         "alignmentgroup": "True",
         "bingroup": "y",
         "hovertemplate": "test=0009<br>eventRecall=%{y}<br>count=%{x}<extra></extra>",
         "legendgroup": "0009",
         "marker": {
          "color": "#FF6692"
         },
         "name": "0009",
         "offsetgroup": "0009",
         "opacity": 0.5,
         "showlegend": false,
         "type": "histogram",
         "xaxis": "x2",
         "y": [
          0.7137592137592138
         ],
         "yaxis": "y2"
        },
        {
         "hovertemplate": "<b>%{hovertext}</b><br><br>test=0010<br>eventF1=%{x}<br>eventRecall=%{y}<extra></extra>",
         "hovertext": [
          "6cfc1f74-3653-47eb-a166-f59fefa13825"
         ],
         "legendgroup": "0010",
         "marker": {
          "color": "#B6E880",
          "symbol": "circle"
         },
         "mode": "markers",
         "name": "0010",
         "orientation": "v",
         "showlegend": true,
         "type": "scatter",
         "x": [
          0.7587145969498911
         ],
         "xaxis": "x",
         "y": [
          0.8754716981132076
         ],
         "yaxis": "y"
        },
        {
         "alignmentgroup": "True",
         "bingroup": "y",
         "hovertemplate": "test=0010<br>eventRecall=%{y}<br>count=%{x}<extra></extra>",
         "legendgroup": "0010",
         "marker": {
          "color": "#B6E880"
         },
         "name": "0010",
         "offsetgroup": "0010",
         "opacity": 0.5,
         "showlegend": false,
         "type": "histogram",
         "xaxis": "x2",
         "y": [
          0.8754716981132076
         ],
         "yaxis": "y2"
        },
        {
         "hovertemplate": "<b>%{hovertext}</b><br><br>test=0011<br>eventF1=%{x}<br>eventRecall=%{y}<extra></extra>",
         "hovertext": [
          "68c5483d-9072-4478-8a87-a7af3324f690"
         ],
         "legendgroup": "0011",
         "marker": {
          "color": "#FF97FF",
          "symbol": "circle"
         },
         "mode": "markers",
         "name": "0011",
         "orientation": "v",
         "showlegend": true,
         "type": "scatter",
         "x": [
          0.6679954441913439
         ],
         "xaxis": "x",
         "y": [
          0.9636963696369637
         ],
         "yaxis": "y"
        },
        {
         "alignmentgroup": "True",
         "bingroup": "y",
         "hovertemplate": "test=0011<br>eventRecall=%{y}<br>count=%{x}<extra></extra>",
         "legendgroup": "0011",
         "marker": {
          "color": "#FF97FF"
         },
         "name": "0011",
         "offsetgroup": "0011",
         "opacity": 0.5,
         "showlegend": false,
         "type": "histogram",
         "xaxis": "x2",
         "y": [
          0.9636963696369637
         ],
         "yaxis": "y2"
        },
        {
         "hovertemplate": "<b>%{hovertext}</b><br><br>test=0012<br>eventF1=%{x}<br>eventRecall=%{y}<extra></extra>",
         "hovertext": [
          "349fe35c-b749-431d-8e8c-c288b150e998"
         ],
         "legendgroup": "0012",
         "marker": {
          "color": "#FECB52",
          "symbol": "circle"
         },
         "mode": "markers",
         "name": "0012",
         "orientation": "v",
         "showlegend": true,
         "type": "scatter",
         "x": [
          0.7326100829610721
         ],
         "xaxis": "x",
         "y": [
          0.8095909732016925
         ],
         "yaxis": "y"
        },
        {
         "alignmentgroup": "True",
         "bingroup": "y",
         "hovertemplate": "test=0012<br>eventRecall=%{y}<br>count=%{x}<extra></extra>",
         "legendgroup": "0012",
         "marker": {
          "color": "#FECB52"
         },
         "name": "0012",
         "offsetgroup": "0012",
         "opacity": 0.5,
         "showlegend": false,
         "type": "histogram",
         "xaxis": "x2",
         "y": [
          0.8095909732016925
         ],
         "yaxis": "y2"
        },
        {
         "hovertemplate": "<b>%{hovertext}</b><br><br>test=0013<br>eventF1=%{x}<br>eventRecall=%{y}<extra></extra>",
         "hovertext": [
          "4babfd03-bb9d-4dd2-a829-ad9de3f05932"
         ],
         "legendgroup": "0013",
         "marker": {
          "color": "#636efa",
          "symbol": "circle"
         },
         "mode": "markers",
         "name": "0013",
         "orientation": "v",
         "showlegend": true,
         "type": "scatter",
         "x": [
          0.6897980321077162
         ],
         "xaxis": "x",
         "y": [
          0.9527220630372493
         ],
         "yaxis": "y"
        },
        {
         "alignmentgroup": "True",
         "bingroup": "y",
         "hovertemplate": "test=0013<br>eventRecall=%{y}<br>count=%{x}<extra></extra>",
         "legendgroup": "0013",
         "marker": {
          "color": "#636efa"
         },
         "name": "0013",
         "offsetgroup": "0013",
         "opacity": 0.5,
         "showlegend": false,
         "type": "histogram",
         "xaxis": "x2",
         "y": [
          0.9527220630372493
         ],
         "yaxis": "y2"
        },
        {
         "hovertemplate": "<b>%{hovertext}</b><br><br>test=0014<br>eventF1=%{x}<br>eventRecall=%{y}<extra></extra>",
         "hovertext": [
          "8b17d41d-edbb-461c-87d2-300850772dae"
         ],
         "legendgroup": "0014",
         "marker": {
          "color": "#EF553B",
          "symbol": "circle"
         },
         "mode": "markers",
         "name": "0014",
         "orientation": "v",
         "showlegend": true,
         "type": "scatter",
         "x": [
          0.5113553113553113
         ],
         "xaxis": "x",
         "y": [
          0.9873595505617978
         ],
         "yaxis": "y"
        },
        {
         "alignmentgroup": "True",
         "bingroup": "y",
         "hovertemplate": "test=0014<br>eventRecall=%{y}<br>count=%{x}<extra></extra>",
         "legendgroup": "0014",
         "marker": {
          "color": "#EF553B"
         },
         "name": "0014",
         "offsetgroup": "0014",
         "opacity": 0.5,
         "showlegend": false,
         "type": "histogram",
         "xaxis": "x2",
         "y": [
          0.9873595505617978
         ],
         "yaxis": "y2"
        },
        {
         "hovertemplate": "<b>%{hovertext}</b><br><br>test=0017<br>eventF1=%{x}<br>eventRecall=%{y}<extra></extra>",
         "hovertext": [
          "0363bbae-1f8e-4b17-9c0c-12617bda2825"
         ],
         "legendgroup": "0017",
         "marker": {
          "color": "#00cc96",
          "symbol": "circle"
         },
         "mode": "markers",
         "name": "0017",
         "orientation": "v",
         "showlegend": true,
         "type": "scatter",
         "x": [
          0.7336448598130841
         ],
         "xaxis": "x",
         "y": [
          0.6702127659574468
         ],
         "yaxis": "y"
        },
        {
         "alignmentgroup": "True",
         "bingroup": "y",
         "hovertemplate": "test=0017<br>eventRecall=%{y}<br>count=%{x}<extra></extra>",
         "legendgroup": "0017",
         "marker": {
          "color": "#00cc96"
         },
         "name": "0017",
         "offsetgroup": "0017",
         "opacity": 0.5,
         "showlegend": false,
         "type": "histogram",
         "xaxis": "x2",
         "y": [
          0.6702127659574468
         ],
         "yaxis": "y2"
        },
        {
         "hovertemplate": "<b>%{hovertext}</b><br><br>test=0018<br>eventF1=%{x}<br>eventRecall=%{y}<extra></extra>",
         "hovertext": [
          "3ab00c3d-e088-430b-81c0-65466ec51055"
         ],
         "legendgroup": "0018",
         "marker": {
          "color": "#ab63fa",
          "symbol": "circle"
         },
         "mode": "markers",
         "name": "0018",
         "orientation": "v",
         "showlegend": true,
         "type": "scatter",
         "x": [
          0.7886710239651417
         ],
         "xaxis": "x",
         "y": [
          0.7774914089347079
         ],
         "yaxis": "y"
        },
        {
         "alignmentgroup": "True",
         "bingroup": "y",
         "hovertemplate": "test=0018<br>eventRecall=%{y}<br>count=%{x}<extra></extra>",
         "legendgroup": "0018",
         "marker": {
          "color": "#ab63fa"
         },
         "name": "0018",
         "offsetgroup": "0018",
         "opacity": 0.5,
         "showlegend": false,
         "type": "histogram",
         "xaxis": "x2",
         "y": [
          0.7774914089347079
         ],
         "yaxis": "y2"
        },
        {
         "hovertemplate": "<b>%{hovertext}</b><br><br>test=0019<br>eventF1=%{x}<br>eventRecall=%{y}<extra></extra>",
         "hovertext": [
          "a223e573-b48d-418b-a3d3-7c7ae2c5dee7"
         ],
         "legendgroup": "0019",
         "marker": {
          "color": "#FFA15A",
          "symbol": "circle"
         },
         "mode": "markers",
         "name": "0019",
         "orientation": "v",
         "showlegend": true,
         "type": "scatter",
         "x": [
          0.4940991345397325
         ],
         "xaxis": "x",
         "y": [
          0.9968253968253968
         ],
         "yaxis": "y"
        },
        {
         "alignmentgroup": "True",
         "bingroup": "y",
         "hovertemplate": "test=0019<br>eventRecall=%{y}<br>count=%{x}<extra></extra>",
         "legendgroup": "0019",
         "marker": {
          "color": "#FFA15A"
         },
         "name": "0019",
         "offsetgroup": "0019",
         "opacity": 0.5,
         "showlegend": false,
         "type": "histogram",
         "xaxis": "x2",
         "y": [
          0.9968253968253968
         ],
         "yaxis": "y2"
        },
        {
         "fill": "toself",
         "mode": "lines",
         "name": "identity",
         "type": "scatter",
         "x": [
          0.586366644606221,
          0.7673971549404075,
          0.6705882352941176,
          0.6666666666666666,
          0.6666666666666666,
          0.6182542557044549,
          0.7874069058903183,
          0.7587145969498911,
          0.6679954441913439,
          0.7326100829610721,
          0.6897980321077162,
          0.5113553113553113,
          0.7336448598130841,
          0.7886710239651417,
          0.4940991345397325
         ],
         "y": [
          0.586366644606221,
          0.7673971549404075,
          0.6705882352941176,
          0.6666666666666666,
          0.6666666666666666,
          0.6182542557044549,
          0.7874069058903183,
          0.7587145969498911,
          0.6679954441913439,
          0.7326100829610721,
          0.6897980321077162,
          0.5113553113553113,
          0.7336448598130841,
          0.7886710239651417,
          0.4940991345397325
         ]
        }
       ],
       "layout": {
        "barmode": "overlay",
        "legend": {
         "title": {
          "text": "test"
         },
         "tracegroupgap": 0
        },
        "margin": {
         "t": 60
        },
        "template": {
         "data": {
          "bar": [
           {
            "error_x": {
             "color": "#2a3f5f"
            },
            "error_y": {
             "color": "#2a3f5f"
            },
            "marker": {
             "line": {
              "color": "#E5ECF6",
              "width": 0.5
             },
             "pattern": {
              "fillmode": "overlay",
              "size": 10,
              "solidity": 0.2
             }
            },
            "type": "bar"
           }
          ],
          "barpolar": [
           {
            "marker": {
             "line": {
              "color": "#E5ECF6",
              "width": 0.5
             },
             "pattern": {
              "fillmode": "overlay",
              "size": 10,
              "solidity": 0.2
             }
            },
            "type": "barpolar"
           }
          ],
          "carpet": [
           {
            "aaxis": {
             "endlinecolor": "#2a3f5f",
             "gridcolor": "white",
             "linecolor": "white",
             "minorgridcolor": "white",
             "startlinecolor": "#2a3f5f"
            },
            "baxis": {
             "endlinecolor": "#2a3f5f",
             "gridcolor": "white",
             "linecolor": "white",
             "minorgridcolor": "white",
             "startlinecolor": "#2a3f5f"
            },
            "type": "carpet"
           }
          ],
          "choropleth": [
           {
            "colorbar": {
             "outlinewidth": 0,
             "ticks": ""
            },
            "type": "choropleth"
           }
          ],
          "contour": [
           {
            "colorbar": {
             "outlinewidth": 0,
             "ticks": ""
            },
            "colorscale": [
             [
              0,
              "#0d0887"
             ],
             [
              0.1111111111111111,
              "#46039f"
             ],
             [
              0.2222222222222222,
              "#7201a8"
             ],
             [
              0.3333333333333333,
              "#9c179e"
             ],
             [
              0.4444444444444444,
              "#bd3786"
             ],
             [
              0.5555555555555556,
              "#d8576b"
             ],
             [
              0.6666666666666666,
              "#ed7953"
             ],
             [
              0.7777777777777778,
              "#fb9f3a"
             ],
             [
              0.8888888888888888,
              "#fdca26"
             ],
             [
              1,
              "#f0f921"
             ]
            ],
            "type": "contour"
           }
          ],
          "contourcarpet": [
           {
            "colorbar": {
             "outlinewidth": 0,
             "ticks": ""
            },
            "type": "contourcarpet"
           }
          ],
          "heatmap": [
           {
            "colorbar": {
             "outlinewidth": 0,
             "ticks": ""
            },
            "colorscale": [
             [
              0,
              "#0d0887"
             ],
             [
              0.1111111111111111,
              "#46039f"
             ],
             [
              0.2222222222222222,
              "#7201a8"
             ],
             [
              0.3333333333333333,
              "#9c179e"
             ],
             [
              0.4444444444444444,
              "#bd3786"
             ],
             [
              0.5555555555555556,
              "#d8576b"
             ],
             [
              0.6666666666666666,
              "#ed7953"
             ],
             [
              0.7777777777777778,
              "#fb9f3a"
             ],
             [
              0.8888888888888888,
              "#fdca26"
             ],
             [
              1,
              "#f0f921"
             ]
            ],
            "type": "heatmap"
           }
          ],
          "heatmapgl": [
           {
            "colorbar": {
             "outlinewidth": 0,
             "ticks": ""
            },
            "colorscale": [
             [
              0,
              "#0d0887"
             ],
             [
              0.1111111111111111,
              "#46039f"
             ],
             [
              0.2222222222222222,
              "#7201a8"
             ],
             [
              0.3333333333333333,
              "#9c179e"
             ],
             [
              0.4444444444444444,
              "#bd3786"
             ],
             [
              0.5555555555555556,
              "#d8576b"
             ],
             [
              0.6666666666666666,
              "#ed7953"
             ],
             [
              0.7777777777777778,
              "#fb9f3a"
             ],
             [
              0.8888888888888888,
              "#fdca26"
             ],
             [
              1,
              "#f0f921"
             ]
            ],
            "type": "heatmapgl"
           }
          ],
          "histogram": [
           {
            "marker": {
             "pattern": {
              "fillmode": "overlay",
              "size": 10,
              "solidity": 0.2
             }
            },
            "type": "histogram"
           }
          ],
          "histogram2d": [
           {
            "colorbar": {
             "outlinewidth": 0,
             "ticks": ""
            },
            "colorscale": [
             [
              0,
              "#0d0887"
             ],
             [
              0.1111111111111111,
              "#46039f"
             ],
             [
              0.2222222222222222,
              "#7201a8"
             ],
             [
              0.3333333333333333,
              "#9c179e"
             ],
             [
              0.4444444444444444,
              "#bd3786"
             ],
             [
              0.5555555555555556,
              "#d8576b"
             ],
             [
              0.6666666666666666,
              "#ed7953"
             ],
             [
              0.7777777777777778,
              "#fb9f3a"
             ],
             [
              0.8888888888888888,
              "#fdca26"
             ],
             [
              1,
              "#f0f921"
             ]
            ],
            "type": "histogram2d"
           }
          ],
          "histogram2dcontour": [
           {
            "colorbar": {
             "outlinewidth": 0,
             "ticks": ""
            },
            "colorscale": [
             [
              0,
              "#0d0887"
             ],
             [
              0.1111111111111111,
              "#46039f"
             ],
             [
              0.2222222222222222,
              "#7201a8"
             ],
             [
              0.3333333333333333,
              "#9c179e"
             ],
             [
              0.4444444444444444,
              "#bd3786"
             ],
             [
              0.5555555555555556,
              "#d8576b"
             ],
             [
              0.6666666666666666,
              "#ed7953"
             ],
             [
              0.7777777777777778,
              "#fb9f3a"
             ],
             [
              0.8888888888888888,
              "#fdca26"
             ],
             [
              1,
              "#f0f921"
             ]
            ],
            "type": "histogram2dcontour"
           }
          ],
          "mesh3d": [
           {
            "colorbar": {
             "outlinewidth": 0,
             "ticks": ""
            },
            "type": "mesh3d"
           }
          ],
          "parcoords": [
           {
            "line": {
             "colorbar": {
              "outlinewidth": 0,
              "ticks": ""
             }
            },
            "type": "parcoords"
           }
          ],
          "pie": [
           {
            "automargin": true,
            "type": "pie"
           }
          ],
          "scatter": [
           {
            "fillpattern": {
             "fillmode": "overlay",
             "size": 10,
             "solidity": 0.2
            },
            "type": "scatter"
           }
          ],
          "scatter3d": [
           {
            "line": {
             "colorbar": {
              "outlinewidth": 0,
              "ticks": ""
             }
            },
            "marker": {
             "colorbar": {
              "outlinewidth": 0,
              "ticks": ""
             }
            },
            "type": "scatter3d"
           }
          ],
          "scattercarpet": [
           {
            "marker": {
             "colorbar": {
              "outlinewidth": 0,
              "ticks": ""
             }
            },
            "type": "scattercarpet"
           }
          ],
          "scattergeo": [
           {
            "marker": {
             "colorbar": {
              "outlinewidth": 0,
              "ticks": ""
             }
            },
            "type": "scattergeo"
           }
          ],
          "scattergl": [
           {
            "marker": {
             "colorbar": {
              "outlinewidth": 0,
              "ticks": ""
             }
            },
            "type": "scattergl"
           }
          ],
          "scattermapbox": [
           {
            "marker": {
             "colorbar": {
              "outlinewidth": 0,
              "ticks": ""
             }
            },
            "type": "scattermapbox"
           }
          ],
          "scatterpolar": [
           {
            "marker": {
             "colorbar": {
              "outlinewidth": 0,
              "ticks": ""
             }
            },
            "type": "scatterpolar"
           }
          ],
          "scatterpolargl": [
           {
            "marker": {
             "colorbar": {
              "outlinewidth": 0,
              "ticks": ""
             }
            },
            "type": "scatterpolargl"
           }
          ],
          "scatterternary": [
           {
            "marker": {
             "colorbar": {
              "outlinewidth": 0,
              "ticks": ""
             }
            },
            "type": "scatterternary"
           }
          ],
          "surface": [
           {
            "colorbar": {
             "outlinewidth": 0,
             "ticks": ""
            },
            "colorscale": [
             [
              0,
              "#0d0887"
             ],
             [
              0.1111111111111111,
              "#46039f"
             ],
             [
              0.2222222222222222,
              "#7201a8"
             ],
             [
              0.3333333333333333,
              "#9c179e"
             ],
             [
              0.4444444444444444,
              "#bd3786"
             ],
             [
              0.5555555555555556,
              "#d8576b"
             ],
             [
              0.6666666666666666,
              "#ed7953"
             ],
             [
              0.7777777777777778,
              "#fb9f3a"
             ],
             [
              0.8888888888888888,
              "#fdca26"
             ],
             [
              1,
              "#f0f921"
             ]
            ],
            "type": "surface"
           }
          ],
          "table": [
           {
            "cells": {
             "fill": {
              "color": "#EBF0F8"
             },
             "line": {
              "color": "white"
             }
            },
            "header": {
             "fill": {
              "color": "#C8D4E3"
             },
             "line": {
              "color": "white"
             }
            },
            "type": "table"
           }
          ]
         },
         "layout": {
          "annotationdefaults": {
           "arrowcolor": "#2a3f5f",
           "arrowhead": 0,
           "arrowwidth": 1
          },
          "autotypenumbers": "strict",
          "coloraxis": {
           "colorbar": {
            "outlinewidth": 0,
            "ticks": ""
           }
          },
          "colorscale": {
           "diverging": [
            [
             0,
             "#8e0152"
            ],
            [
             0.1,
             "#c51b7d"
            ],
            [
             0.2,
             "#de77ae"
            ],
            [
             0.3,
             "#f1b6da"
            ],
            [
             0.4,
             "#fde0ef"
            ],
            [
             0.5,
             "#f7f7f7"
            ],
            [
             0.6,
             "#e6f5d0"
            ],
            [
             0.7,
             "#b8e186"
            ],
            [
             0.8,
             "#7fbc41"
            ],
            [
             0.9,
             "#4d9221"
            ],
            [
             1,
             "#276419"
            ]
           ],
           "sequential": [
            [
             0,
             "#0d0887"
            ],
            [
             0.1111111111111111,
             "#46039f"
            ],
            [
             0.2222222222222222,
             "#7201a8"
            ],
            [
             0.3333333333333333,
             "#9c179e"
            ],
            [
             0.4444444444444444,
             "#bd3786"
            ],
            [
             0.5555555555555556,
             "#d8576b"
            ],
            [
             0.6666666666666666,
             "#ed7953"
            ],
            [
             0.7777777777777778,
             "#fb9f3a"
            ],
            [
             0.8888888888888888,
             "#fdca26"
            ],
            [
             1,
             "#f0f921"
            ]
           ],
           "sequentialminus": [
            [
             0,
             "#0d0887"
            ],
            [
             0.1111111111111111,
             "#46039f"
            ],
            [
             0.2222222222222222,
             "#7201a8"
            ],
            [
             0.3333333333333333,
             "#9c179e"
            ],
            [
             0.4444444444444444,
             "#bd3786"
            ],
            [
             0.5555555555555556,
             "#d8576b"
            ],
            [
             0.6666666666666666,
             "#ed7953"
            ],
            [
             0.7777777777777778,
             "#fb9f3a"
            ],
            [
             0.8888888888888888,
             "#fdca26"
            ],
            [
             1,
             "#f0f921"
            ]
           ]
          },
          "colorway": [
           "#636efa",
           "#EF553B",
           "#00cc96",
           "#ab63fa",
           "#FFA15A",
           "#19d3f3",
           "#FF6692",
           "#B6E880",
           "#FF97FF",
           "#FECB52"
          ],
          "font": {
           "color": "#2a3f5f"
          },
          "geo": {
           "bgcolor": "white",
           "lakecolor": "white",
           "landcolor": "#E5ECF6",
           "showlakes": true,
           "showland": true,
           "subunitcolor": "white"
          },
          "hoverlabel": {
           "align": "left"
          },
          "hovermode": "closest",
          "mapbox": {
           "style": "light"
          },
          "paper_bgcolor": "white",
          "plot_bgcolor": "#E5ECF6",
          "polar": {
           "angularaxis": {
            "gridcolor": "white",
            "linecolor": "white",
            "ticks": ""
           },
           "bgcolor": "#E5ECF6",
           "radialaxis": {
            "gridcolor": "white",
            "linecolor": "white",
            "ticks": ""
           }
          },
          "scene": {
           "xaxis": {
            "backgroundcolor": "#E5ECF6",
            "gridcolor": "white",
            "gridwidth": 2,
            "linecolor": "white",
            "showbackground": true,
            "ticks": "",
            "zerolinecolor": "white"
           },
           "yaxis": {
            "backgroundcolor": "#E5ECF6",
            "gridcolor": "white",
            "gridwidth": 2,
            "linecolor": "white",
            "showbackground": true,
            "ticks": "",
            "zerolinecolor": "white"
           },
           "zaxis": {
            "backgroundcolor": "#E5ECF6",
            "gridcolor": "white",
            "gridwidth": 2,
            "linecolor": "white",
            "showbackground": true,
            "ticks": "",
            "zerolinecolor": "white"
           }
          },
          "shapedefaults": {
           "line": {
            "color": "#2a3f5f"
           }
          },
          "ternary": {
           "aaxis": {
            "gridcolor": "white",
            "linecolor": "white",
            "ticks": ""
           },
           "baxis": {
            "gridcolor": "white",
            "linecolor": "white",
            "ticks": ""
           },
           "bgcolor": "#E5ECF6",
           "caxis": {
            "gridcolor": "white",
            "linecolor": "white",
            "ticks": ""
           }
          },
          "title": {
           "x": 0.05
          },
          "xaxis": {
           "automargin": true,
           "gridcolor": "white",
           "linecolor": "white",
           "ticks": "",
           "title": {
            "standoff": 15
           },
           "zerolinecolor": "white",
           "zerolinewidth": 2
          },
          "yaxis": {
           "automargin": true,
           "gridcolor": "white",
           "linecolor": "white",
           "ticks": "",
           "title": {
            "standoff": 15
           },
           "zerolinecolor": "white",
           "zerolinewidth": 2
          }
         }
        },
        "xaxis": {
         "anchor": "y",
         "domain": [
          0,
          0.7363
         ],
         "title": {
          "text": "eventF1"
         }
        },
        "xaxis2": {
         "anchor": "y2",
         "domain": [
          0.7413,
          1
         ],
         "matches": "x2",
         "showgrid": true,
         "showline": false,
         "showticklabels": false,
         "ticks": ""
        },
        "yaxis": {
         "anchor": "x",
         "domain": [
          0,
          1
         ],
         "title": {
          "text": "eventRecall"
         }
        },
        "yaxis2": {
         "anchor": "x2",
         "domain": [
          0,
          1
         ],
         "matches": "y",
         "showgrid": true,
         "showticklabels": false
        }
       }
      }
     },
     "metadata": {},
     "output_type": "display_data"
    }
   ],
   "source": [
    "fig=px.scatter(experimentModels,x='eventF1',y='eventRecall',color='test',hover_name='modelId', marginal_y=\"histogram\")\n",
    "fig.add_trace(\n",
    "    go.Scatter(x=experimentModels['eventF1'], y=experimentModels['eventF1'], name=\"identity\", mode='lines',fill=\"toself\")\n",
    ")\n",
    "fig.show()"
   ]
  },
  {
   "cell_type": "code",
   "execution_count": 25,
   "metadata": {},
   "outputs": [
    {
     "data": {
      "text/html": [
       "<div>\n",
       "<style scoped>\n",
       "    .dataframe tbody tr th:only-of-type {\n",
       "        vertical-align: middle;\n",
       "    }\n",
       "\n",
       "    .dataframe tbody tr th {\n",
       "        vertical-align: top;\n",
       "    }\n",
       "\n",
       "    .dataframe thead tr th {\n",
       "        text-align: left;\n",
       "    }\n",
       "\n",
       "    .dataframe thead tr:last-of-type th {\n",
       "        text-align: right;\n",
       "    }\n",
       "</style>\n",
       "<table border=\"1\" class=\"dataframe\">\n",
       "  <thead>\n",
       "    <tr>\n",
       "      <th></th>\n",
       "      <th colspan=\"6\" halign=\"left\">eventF1</th>\n",
       "      <th colspan=\"6\" halign=\"left\">eventPrecision</th>\n",
       "      <th colspan=\"6\" halign=\"left\">eventRecall</th>\n",
       "    </tr>\n",
       "    <tr>\n",
       "      <th></th>\n",
       "      <th>count</th>\n",
       "      <th>mean</th>\n",
       "      <th>std</th>\n",
       "      <th>min</th>\n",
       "      <th>50%</th>\n",
       "      <th>max</th>\n",
       "      <th>count</th>\n",
       "      <th>mean</th>\n",
       "      <th>std</th>\n",
       "      <th>min</th>\n",
       "      <th>50%</th>\n",
       "      <th>max</th>\n",
       "      <th>count</th>\n",
       "      <th>mean</th>\n",
       "      <th>std</th>\n",
       "      <th>min</th>\n",
       "      <th>50%</th>\n",
       "      <th>max</th>\n",
       "    </tr>\n",
       "    <tr>\n",
       "      <th>test</th>\n",
       "      <th></th>\n",
       "      <th></th>\n",
       "      <th></th>\n",
       "      <th></th>\n",
       "      <th></th>\n",
       "      <th></th>\n",
       "      <th></th>\n",
       "      <th></th>\n",
       "      <th></th>\n",
       "      <th></th>\n",
       "      <th></th>\n",
       "      <th></th>\n",
       "      <th></th>\n",
       "      <th></th>\n",
       "      <th></th>\n",
       "      <th></th>\n",
       "      <th></th>\n",
       "      <th></th>\n",
       "    </tr>\n",
       "  </thead>\n",
       "  <tbody>\n",
       "    <tr>\n",
       "      <th>0001</th>\n",
       "      <td>1.0</td>\n",
       "      <td>0.586367</td>\n",
       "      <td>NaN</td>\n",
       "      <td>0.586367</td>\n",
       "      <td>0.586367</td>\n",
       "      <td>0.586367</td>\n",
       "      <td>1.0</td>\n",
       "      <td>0.948608</td>\n",
       "      <td>NaN</td>\n",
       "      <td>0.948608</td>\n",
       "      <td>0.948608</td>\n",
       "      <td>0.948608</td>\n",
       "      <td>1.0</td>\n",
       "      <td>0.424330</td>\n",
       "      <td>NaN</td>\n",
       "      <td>0.424330</td>\n",
       "      <td>0.424330</td>\n",
       "      <td>0.424330</td>\n",
       "    </tr>\n",
       "    <tr>\n",
       "      <th>0002</th>\n",
       "      <td>1.0</td>\n",
       "      <td>0.767397</td>\n",
       "      <td>NaN</td>\n",
       "      <td>0.767397</td>\n",
       "      <td>0.767397</td>\n",
       "      <td>0.767397</td>\n",
       "      <td>1.0</td>\n",
       "      <td>0.685185</td>\n",
       "      <td>NaN</td>\n",
       "      <td>0.685185</td>\n",
       "      <td>0.685185</td>\n",
       "      <td>0.685185</td>\n",
       "      <td>1.0</td>\n",
       "      <td>0.872266</td>\n",
       "      <td>NaN</td>\n",
       "      <td>0.872266</td>\n",
       "      <td>0.872266</td>\n",
       "      <td>0.872266</td>\n",
       "    </tr>\n",
       "    <tr>\n",
       "      <th>0003</th>\n",
       "      <td>1.0</td>\n",
       "      <td>0.670588</td>\n",
       "      <td>NaN</td>\n",
       "      <td>0.670588</td>\n",
       "      <td>0.670588</td>\n",
       "      <td>0.670588</td>\n",
       "      <td>1.0</td>\n",
       "      <td>0.578680</td>\n",
       "      <td>NaN</td>\n",
       "      <td>0.578680</td>\n",
       "      <td>0.578680</td>\n",
       "      <td>0.578680</td>\n",
       "      <td>1.0</td>\n",
       "      <td>0.797203</td>\n",
       "      <td>NaN</td>\n",
       "      <td>0.797203</td>\n",
       "      <td>0.797203</td>\n",
       "      <td>0.797203</td>\n",
       "    </tr>\n",
       "    <tr>\n",
       "      <th>0005</th>\n",
       "      <td>1.0</td>\n",
       "      <td>0.666667</td>\n",
       "      <td>NaN</td>\n",
       "      <td>0.666667</td>\n",
       "      <td>0.666667</td>\n",
       "      <td>0.666667</td>\n",
       "      <td>1.0</td>\n",
       "      <td>0.526316</td>\n",
       "      <td>NaN</td>\n",
       "      <td>0.526316</td>\n",
       "      <td>0.526316</td>\n",
       "      <td>0.526316</td>\n",
       "      <td>1.0</td>\n",
       "      <td>0.909091</td>\n",
       "      <td>NaN</td>\n",
       "      <td>0.909091</td>\n",
       "      <td>0.909091</td>\n",
       "      <td>0.909091</td>\n",
       "    </tr>\n",
       "    <tr>\n",
       "      <th>0006</th>\n",
       "      <td>1.0</td>\n",
       "      <td>0.666667</td>\n",
       "      <td>NaN</td>\n",
       "      <td>0.666667</td>\n",
       "      <td>0.666667</td>\n",
       "      <td>0.666667</td>\n",
       "      <td>1.0</td>\n",
       "      <td>0.585859</td>\n",
       "      <td>NaN</td>\n",
       "      <td>0.585859</td>\n",
       "      <td>0.585859</td>\n",
       "      <td>0.585859</td>\n",
       "      <td>1.0</td>\n",
       "      <td>0.773333</td>\n",
       "      <td>NaN</td>\n",
       "      <td>0.773333</td>\n",
       "      <td>0.773333</td>\n",
       "      <td>0.773333</td>\n",
       "    </tr>\n",
       "    <tr>\n",
       "      <th>0007</th>\n",
       "      <td>1.0</td>\n",
       "      <td>0.618254</td>\n",
       "      <td>NaN</td>\n",
       "      <td>0.618254</td>\n",
       "      <td>0.618254</td>\n",
       "      <td>0.618254</td>\n",
       "      <td>1.0</td>\n",
       "      <td>0.462412</td>\n",
       "      <td>NaN</td>\n",
       "      <td>0.462412</td>\n",
       "      <td>0.462412</td>\n",
       "      <td>0.462412</td>\n",
       "      <td>1.0</td>\n",
       "      <td>0.934211</td>\n",
       "      <td>NaN</td>\n",
       "      <td>0.934211</td>\n",
       "      <td>0.934211</td>\n",
       "      <td>0.934211</td>\n",
       "    </tr>\n",
       "    <tr>\n",
       "      <th>0009</th>\n",
       "      <td>1.0</td>\n",
       "      <td>0.787407</td>\n",
       "      <td>NaN</td>\n",
       "      <td>0.787407</td>\n",
       "      <td>0.787407</td>\n",
       "      <td>0.787407</td>\n",
       "      <td>1.0</td>\n",
       "      <td>0.877828</td>\n",
       "      <td>NaN</td>\n",
       "      <td>0.877828</td>\n",
       "      <td>0.877828</td>\n",
       "      <td>0.877828</td>\n",
       "      <td>1.0</td>\n",
       "      <td>0.713759</td>\n",
       "      <td>NaN</td>\n",
       "      <td>0.713759</td>\n",
       "      <td>0.713759</td>\n",
       "      <td>0.713759</td>\n",
       "    </tr>\n",
       "    <tr>\n",
       "      <th>0010</th>\n",
       "      <td>1.0</td>\n",
       "      <td>0.758715</td>\n",
       "      <td>NaN</td>\n",
       "      <td>0.758715</td>\n",
       "      <td>0.758715</td>\n",
       "      <td>0.758715</td>\n",
       "      <td>1.0</td>\n",
       "      <td>0.669549</td>\n",
       "      <td>NaN</td>\n",
       "      <td>0.669549</td>\n",
       "      <td>0.669549</td>\n",
       "      <td>0.669549</td>\n",
       "      <td>1.0</td>\n",
       "      <td>0.875472</td>\n",
       "      <td>NaN</td>\n",
       "      <td>0.875472</td>\n",
       "      <td>0.875472</td>\n",
       "      <td>0.875472</td>\n",
       "    </tr>\n",
       "    <tr>\n",
       "      <th>0011</th>\n",
       "      <td>1.0</td>\n",
       "      <td>0.667995</td>\n",
       "      <td>NaN</td>\n",
       "      <td>0.667995</td>\n",
       "      <td>0.667995</td>\n",
       "      <td>0.667995</td>\n",
       "      <td>1.0</td>\n",
       "      <td>0.512174</td>\n",
       "      <td>NaN</td>\n",
       "      <td>0.512174</td>\n",
       "      <td>0.512174</td>\n",
       "      <td>0.512174</td>\n",
       "      <td>1.0</td>\n",
       "      <td>0.963696</td>\n",
       "      <td>NaN</td>\n",
       "      <td>0.963696</td>\n",
       "      <td>0.963696</td>\n",
       "      <td>0.963696</td>\n",
       "    </tr>\n",
       "    <tr>\n",
       "      <th>0012</th>\n",
       "      <td>1.0</td>\n",
       "      <td>0.732610</td>\n",
       "      <td>NaN</td>\n",
       "      <td>0.732610</td>\n",
       "      <td>0.732610</td>\n",
       "      <td>0.732610</td>\n",
       "      <td>1.0</td>\n",
       "      <td>0.668998</td>\n",
       "      <td>NaN</td>\n",
       "      <td>0.668998</td>\n",
       "      <td>0.668998</td>\n",
       "      <td>0.668998</td>\n",
       "      <td>1.0</td>\n",
       "      <td>0.809591</td>\n",
       "      <td>NaN</td>\n",
       "      <td>0.809591</td>\n",
       "      <td>0.809591</td>\n",
       "      <td>0.809591</td>\n",
       "    </tr>\n",
       "    <tr>\n",
       "      <th>0013</th>\n",
       "      <td>1.0</td>\n",
       "      <td>0.689798</td>\n",
       "      <td>NaN</td>\n",
       "      <td>0.689798</td>\n",
       "      <td>0.689798</td>\n",
       "      <td>0.689798</td>\n",
       "      <td>1.0</td>\n",
       "      <td>0.540957</td>\n",
       "      <td>NaN</td>\n",
       "      <td>0.540957</td>\n",
       "      <td>0.540957</td>\n",
       "      <td>0.540957</td>\n",
       "      <td>1.0</td>\n",
       "      <td>0.952722</td>\n",
       "      <td>NaN</td>\n",
       "      <td>0.952722</td>\n",
       "      <td>0.952722</td>\n",
       "      <td>0.952722</td>\n",
       "    </tr>\n",
       "    <tr>\n",
       "      <th>0014</th>\n",
       "      <td>1.0</td>\n",
       "      <td>0.511355</td>\n",
       "      <td>NaN</td>\n",
       "      <td>0.511355</td>\n",
       "      <td>0.511355</td>\n",
       "      <td>0.511355</td>\n",
       "      <td>1.0</td>\n",
       "      <td>0.343409</td>\n",
       "      <td>NaN</td>\n",
       "      <td>0.343409</td>\n",
       "      <td>0.343409</td>\n",
       "      <td>0.343409</td>\n",
       "      <td>1.0</td>\n",
       "      <td>0.987360</td>\n",
       "      <td>NaN</td>\n",
       "      <td>0.987360</td>\n",
       "      <td>0.987360</td>\n",
       "      <td>0.987360</td>\n",
       "    </tr>\n",
       "    <tr>\n",
       "      <th>0017</th>\n",
       "      <td>1.0</td>\n",
       "      <td>0.733645</td>\n",
       "      <td>NaN</td>\n",
       "      <td>0.733645</td>\n",
       "      <td>0.733645</td>\n",
       "      <td>0.733645</td>\n",
       "      <td>1.0</td>\n",
       "      <td>0.810881</td>\n",
       "      <td>NaN</td>\n",
       "      <td>0.810881</td>\n",
       "      <td>0.810881</td>\n",
       "      <td>0.810881</td>\n",
       "      <td>1.0</td>\n",
       "      <td>0.670213</td>\n",
       "      <td>NaN</td>\n",
       "      <td>0.670213</td>\n",
       "      <td>0.670213</td>\n",
       "      <td>0.670213</td>\n",
       "    </tr>\n",
       "    <tr>\n",
       "      <th>0018</th>\n",
       "      <td>1.0</td>\n",
       "      <td>0.788671</td>\n",
       "      <td>NaN</td>\n",
       "      <td>0.788671</td>\n",
       "      <td>0.788671</td>\n",
       "      <td>0.788671</td>\n",
       "      <td>1.0</td>\n",
       "      <td>0.800177</td>\n",
       "      <td>NaN</td>\n",
       "      <td>0.800177</td>\n",
       "      <td>0.800177</td>\n",
       "      <td>0.800177</td>\n",
       "      <td>1.0</td>\n",
       "      <td>0.777491</td>\n",
       "      <td>NaN</td>\n",
       "      <td>0.777491</td>\n",
       "      <td>0.777491</td>\n",
       "      <td>0.777491</td>\n",
       "    </tr>\n",
       "    <tr>\n",
       "      <th>0019</th>\n",
       "      <td>1.0</td>\n",
       "      <td>0.494099</td>\n",
       "      <td>NaN</td>\n",
       "      <td>0.494099</td>\n",
       "      <td>0.494099</td>\n",
       "      <td>0.494099</td>\n",
       "      <td>1.0</td>\n",
       "      <td>0.328452</td>\n",
       "      <td>NaN</td>\n",
       "      <td>0.328452</td>\n",
       "      <td>0.328452</td>\n",
       "      <td>0.328452</td>\n",
       "      <td>1.0</td>\n",
       "      <td>0.996825</td>\n",
       "      <td>NaN</td>\n",
       "      <td>0.996825</td>\n",
       "      <td>0.996825</td>\n",
       "      <td>0.996825</td>\n",
       "    </tr>\n",
       "  </tbody>\n",
       "</table>\n",
       "</div>"
      ],
      "text/plain": [
       "     eventF1                                             eventPrecision  \\\n",
       "       count      mean std       min       50%       max          count   \n",
       "test                                                                      \n",
       "0001     1.0  0.586367 NaN  0.586367  0.586367  0.586367            1.0   \n",
       "0002     1.0  0.767397 NaN  0.767397  0.767397  0.767397            1.0   \n",
       "0003     1.0  0.670588 NaN  0.670588  0.670588  0.670588            1.0   \n",
       "0005     1.0  0.666667 NaN  0.666667  0.666667  0.666667            1.0   \n",
       "0006     1.0  0.666667 NaN  0.666667  0.666667  0.666667            1.0   \n",
       "0007     1.0  0.618254 NaN  0.618254  0.618254  0.618254            1.0   \n",
       "0009     1.0  0.787407 NaN  0.787407  0.787407  0.787407            1.0   \n",
       "0010     1.0  0.758715 NaN  0.758715  0.758715  0.758715            1.0   \n",
       "0011     1.0  0.667995 NaN  0.667995  0.667995  0.667995            1.0   \n",
       "0012     1.0  0.732610 NaN  0.732610  0.732610  0.732610            1.0   \n",
       "0013     1.0  0.689798 NaN  0.689798  0.689798  0.689798            1.0   \n",
       "0014     1.0  0.511355 NaN  0.511355  0.511355  0.511355            1.0   \n",
       "0017     1.0  0.733645 NaN  0.733645  0.733645  0.733645            1.0   \n",
       "0018     1.0  0.788671 NaN  0.788671  0.788671  0.788671            1.0   \n",
       "0019     1.0  0.494099 NaN  0.494099  0.494099  0.494099            1.0   \n",
       "\n",
       "                                                 eventRecall                \\\n",
       "          mean std       min       50%       max       count      mean std   \n",
       "test                                                                         \n",
       "0001  0.948608 NaN  0.948608  0.948608  0.948608         1.0  0.424330 NaN   \n",
       "0002  0.685185 NaN  0.685185  0.685185  0.685185         1.0  0.872266 NaN   \n",
       "0003  0.578680 NaN  0.578680  0.578680  0.578680         1.0  0.797203 NaN   \n",
       "0005  0.526316 NaN  0.526316  0.526316  0.526316         1.0  0.909091 NaN   \n",
       "0006  0.585859 NaN  0.585859  0.585859  0.585859         1.0  0.773333 NaN   \n",
       "0007  0.462412 NaN  0.462412  0.462412  0.462412         1.0  0.934211 NaN   \n",
       "0009  0.877828 NaN  0.877828  0.877828  0.877828         1.0  0.713759 NaN   \n",
       "0010  0.669549 NaN  0.669549  0.669549  0.669549         1.0  0.875472 NaN   \n",
       "0011  0.512174 NaN  0.512174  0.512174  0.512174         1.0  0.963696 NaN   \n",
       "0012  0.668998 NaN  0.668998  0.668998  0.668998         1.0  0.809591 NaN   \n",
       "0013  0.540957 NaN  0.540957  0.540957  0.540957         1.0  0.952722 NaN   \n",
       "0014  0.343409 NaN  0.343409  0.343409  0.343409         1.0  0.987360 NaN   \n",
       "0017  0.810881 NaN  0.810881  0.810881  0.810881         1.0  0.670213 NaN   \n",
       "0018  0.800177 NaN  0.800177  0.800177  0.800177         1.0  0.777491 NaN   \n",
       "0019  0.328452 NaN  0.328452  0.328452  0.328452         1.0  0.996825 NaN   \n",
       "\n",
       "                                    \n",
       "           min       50%       max  \n",
       "test                                \n",
       "0001  0.424330  0.424330  0.424330  \n",
       "0002  0.872266  0.872266  0.872266  \n",
       "0003  0.797203  0.797203  0.797203  \n",
       "0005  0.909091  0.909091  0.909091  \n",
       "0006  0.773333  0.773333  0.773333  \n",
       "0007  0.934211  0.934211  0.934211  \n",
       "0009  0.713759  0.713759  0.713759  \n",
       "0010  0.875472  0.875472  0.875472  \n",
       "0011  0.963696  0.963696  0.963696  \n",
       "0012  0.809591  0.809591  0.809591  \n",
       "0013  0.952722  0.952722  0.952722  \n",
       "0014  0.987360  0.987360  0.987360  \n",
       "0017  0.670213  0.670213  0.670213  \n",
       "0018  0.777491  0.777491  0.777491  \n",
       "0019  0.996825  0.996825  0.996825  "
      ]
     },
     "execution_count": 25,
     "metadata": {},
     "output_type": "execute_result"
    }
   ],
   "source": [
    "experimentModels[['test','eventF1','eventPrecision','eventRecall']].groupby('test').describe(percentiles=[0.5])"
   ]
  },
  {
   "cell_type": "code",
   "execution_count": 26,
   "metadata": {},
   "outputs": [
    {
     "data": {
      "text/html": [
       "<div>\n",
       "<style scoped>\n",
       "    .dataframe tbody tr th:only-of-type {\n",
       "        vertical-align: middle;\n",
       "    }\n",
       "\n",
       "    .dataframe tbody tr th {\n",
       "        vertical-align: top;\n",
       "    }\n",
       "\n",
       "    .dataframe thead th {\n",
       "        text-align: right;\n",
       "    }\n",
       "</style>\n",
       "<table border=\"1\" class=\"dataframe\">\n",
       "  <thead>\n",
       "    <tr style=\"text-align: right;\">\n",
       "      <th></th>\n",
       "      <th>test</th>\n",
       "      <th>eventF1</th>\n",
       "      <th>eventPrecision</th>\n",
       "      <th>eventRecall</th>\n",
       "    </tr>\n",
       "  </thead>\n",
       "  <tbody>\n",
       "    <tr>\n",
       "      <th>0</th>\n",
       "      <td>0001</td>\n",
       "      <td>0.586367</td>\n",
       "      <td>0.948608</td>\n",
       "      <td>0.424330</td>\n",
       "    </tr>\n",
       "    <tr>\n",
       "      <th>1</th>\n",
       "      <td>0002</td>\n",
       "      <td>0.767397</td>\n",
       "      <td>0.685185</td>\n",
       "      <td>0.872266</td>\n",
       "    </tr>\n",
       "    <tr>\n",
       "      <th>2</th>\n",
       "      <td>0003</td>\n",
       "      <td>0.670588</td>\n",
       "      <td>0.578680</td>\n",
       "      <td>0.797203</td>\n",
       "    </tr>\n",
       "    <tr>\n",
       "      <th>3</th>\n",
       "      <td>0005</td>\n",
       "      <td>0.666667</td>\n",
       "      <td>0.526316</td>\n",
       "      <td>0.909091</td>\n",
       "    </tr>\n",
       "    <tr>\n",
       "      <th>4</th>\n",
       "      <td>0006</td>\n",
       "      <td>0.666667</td>\n",
       "      <td>0.585859</td>\n",
       "      <td>0.773333</td>\n",
       "    </tr>\n",
       "    <tr>\n",
       "      <th>5</th>\n",
       "      <td>0007</td>\n",
       "      <td>0.618254</td>\n",
       "      <td>0.462412</td>\n",
       "      <td>0.934211</td>\n",
       "    </tr>\n",
       "    <tr>\n",
       "      <th>6</th>\n",
       "      <td>0009</td>\n",
       "      <td>0.787407</td>\n",
       "      <td>0.877828</td>\n",
       "      <td>0.713759</td>\n",
       "    </tr>\n",
       "    <tr>\n",
       "      <th>7</th>\n",
       "      <td>0010</td>\n",
       "      <td>0.758715</td>\n",
       "      <td>0.669549</td>\n",
       "      <td>0.875472</td>\n",
       "    </tr>\n",
       "    <tr>\n",
       "      <th>8</th>\n",
       "      <td>0011</td>\n",
       "      <td>0.667995</td>\n",
       "      <td>0.512174</td>\n",
       "      <td>0.963696</td>\n",
       "    </tr>\n",
       "    <tr>\n",
       "      <th>9</th>\n",
       "      <td>0012</td>\n",
       "      <td>0.732610</td>\n",
       "      <td>0.668998</td>\n",
       "      <td>0.809591</td>\n",
       "    </tr>\n",
       "    <tr>\n",
       "      <th>10</th>\n",
       "      <td>0013</td>\n",
       "      <td>0.689798</td>\n",
       "      <td>0.540957</td>\n",
       "      <td>0.952722</td>\n",
       "    </tr>\n",
       "    <tr>\n",
       "      <th>11</th>\n",
       "      <td>0014</td>\n",
       "      <td>0.511355</td>\n",
       "      <td>0.343409</td>\n",
       "      <td>0.987360</td>\n",
       "    </tr>\n",
       "    <tr>\n",
       "      <th>12</th>\n",
       "      <td>0017</td>\n",
       "      <td>0.733645</td>\n",
       "      <td>0.810881</td>\n",
       "      <td>0.670213</td>\n",
       "    </tr>\n",
       "    <tr>\n",
       "      <th>13</th>\n",
       "      <td>0018</td>\n",
       "      <td>0.788671</td>\n",
       "      <td>0.800177</td>\n",
       "      <td>0.777491</td>\n",
       "    </tr>\n",
       "    <tr>\n",
       "      <th>14</th>\n",
       "      <td>0019</td>\n",
       "      <td>0.494099</td>\n",
       "      <td>0.328452</td>\n",
       "      <td>0.996825</td>\n",
       "    </tr>\n",
       "  </tbody>\n",
       "</table>\n",
       "</div>"
      ],
      "text/plain": [
       "    test   eventF1  eventPrecision  eventRecall\n",
       "0   0001  0.586367        0.948608     0.424330\n",
       "1   0002  0.767397        0.685185     0.872266\n",
       "2   0003  0.670588        0.578680     0.797203\n",
       "3   0005  0.666667        0.526316     0.909091\n",
       "4   0006  0.666667        0.585859     0.773333\n",
       "5   0007  0.618254        0.462412     0.934211\n",
       "6   0009  0.787407        0.877828     0.713759\n",
       "7   0010  0.758715        0.669549     0.875472\n",
       "8   0011  0.667995        0.512174     0.963696\n",
       "9   0012  0.732610        0.668998     0.809591\n",
       "10  0013  0.689798        0.540957     0.952722\n",
       "11  0014  0.511355        0.343409     0.987360\n",
       "12  0017  0.733645        0.810881     0.670213\n",
       "13  0018  0.788671        0.800177     0.777491\n",
       "14  0019  0.494099        0.328452     0.996825"
      ]
     },
     "execution_count": 26,
     "metadata": {},
     "output_type": "execute_result"
    }
   ],
   "source": [
    "experimentModels[['test','eventF1','eventPrecision','eventRecall']].groupby('test',as_index=False).mean()"
   ]
  },
  {
   "cell_type": "code",
   "execution_count": 27,
   "metadata": {},
   "outputs": [
    {
     "data": {
      "text/plain": [
       "test              6.668000e+54\n",
       "eventF1           6.760157e-01\n",
       "eventPrecision    6.226323e-01\n",
       "eventRecall       8.305042e-01\n",
       "dtype: float64"
      ]
     },
     "execution_count": 27,
     "metadata": {},
     "output_type": "execute_result"
    }
   ],
   "source": [
    "experimentModels[['test','eventF1','eventPrecision','eventRecall']].groupby('test',as_index=False).mean().mean()"
   ]
  },
  {
   "cell_type": "code",
   "execution_count": 28,
   "metadata": {},
   "outputs": [
    {
     "name": "stderr",
     "output_type": "stream",
     "text": [
      "C:\\Users\\Gurdiel\\AppData\\Local\\Temp\\ipykernel_5360\\2931376690.py:1: FutureWarning:\n",
      "\n",
      "The default value of numeric_only in DataFrame.std is deprecated. In a future version, it will default to False. In addition, specifying 'numeric_only=None' is deprecated. Select only valid columns or specify the value of numeric_only to silence this warning.\n",
      "\n"
     ]
    },
    {
     "data": {
      "text/plain": [
       "eventF1           0.092138\n",
       "eventPrecision    0.182878\n",
       "eventRecall       0.150610\n",
       "dtype: float64"
      ]
     },
     "execution_count": 28,
     "metadata": {},
     "output_type": "execute_result"
    }
   ],
   "source": [
    "experimentModels[['test','eventF1','eventPrecision','eventRecall']].groupby('test',as_index=False).mean().std()"
   ]
  },
  {
   "cell_type": "code",
   "execution_count": 29,
   "metadata": {},
   "outputs": [],
   "source": [
    "auxPrecision=pd.DataFrame({\n",
    "    'metric':'event precision',\n",
    "    'value':experimentModels.eventPrecision,\n",
    "    'event F1':experimentModels.eventF1\n",
    "})\n",
    "\n",
    "auxRecall=pd.DataFrame({\n",
    "    'metric':'event recall',\n",
    "    'value':experimentModels.eventRecall,\n",
    "    'event F1':experimentModels.eventF1\n",
    "})\n",
    "visualTradeoff=pd.concat((auxPrecision,auxRecall))"
   ]
  },
  {
   "cell_type": "code",
   "execution_count": 30,
   "metadata": {},
   "outputs": [
    {
     "data": {
      "application/vnd.plotly.v1+json": {
       "config": {
        "plotlyServerURL": "https://plot.ly"
       },
       "data": [
        {
         "hovertemplate": "metric=event precision<br>event F1=%{x}<br>value=%{y}<extra></extra>",
         "legendgroup": "event precision",
         "marker": {
          "color": "#636efa",
          "symbol": "circle"
         },
         "mode": "markers",
         "name": "event precision",
         "orientation": "v",
         "showlegend": true,
         "type": "scatter",
         "x": [
          0.586366644606221,
          0.7673971549404075,
          0.6705882352941176,
          0.6666666666666666,
          0.6666666666666666,
          0.6182542557044549,
          0.7874069058903183,
          0.7587145969498911,
          0.6679954441913439,
          0.7326100829610721,
          0.6897980321077162,
          0.5113553113553113,
          0.7336448598130841,
          0.7886710239651417,
          0.4940991345397325
         ],
         "xaxis": "x",
         "y": [
          0.9486081370449678,
          0.6851851851851852,
          0.5786802030456852,
          0.5263157894736842,
          0.5858585858585859,
          0.4624121146565711,
          0.8778280542986425,
          0.6695485110470701,
          0.5121739130434783,
          0.668997668997669,
          0.5409570154095702,
          0.3434093161546085,
          0.810880829015544,
          0.8001768346595933,
          0.3284518828451883
         ],
         "yaxis": "y"
        },
        {
         "alignmentgroup": "True",
         "bingroup": "y",
         "hovertemplate": "metric=event precision<br>value=%{y}<br>count=%{x}<extra></extra>",
         "legendgroup": "event precision",
         "marker": {
          "color": "#636efa"
         },
         "name": "event precision",
         "offsetgroup": "event precision",
         "opacity": 0.5,
         "showlegend": false,
         "type": "histogram",
         "xaxis": "x2",
         "y": [
          0.9486081370449678,
          0.6851851851851852,
          0.5786802030456852,
          0.5263157894736842,
          0.5858585858585859,
          0.4624121146565711,
          0.8778280542986425,
          0.6695485110470701,
          0.5121739130434783,
          0.668997668997669,
          0.5409570154095702,
          0.3434093161546085,
          0.810880829015544,
          0.8001768346595933,
          0.3284518828451883
         ],
         "yaxis": "y2"
        },
        {
         "hovertemplate": "metric=event recall<br>event F1=%{x}<br>value=%{y}<extra></extra>",
         "legendgroup": "event recall",
         "marker": {
          "color": "#EF553B",
          "symbol": "circle"
         },
         "mode": "markers",
         "name": "event recall",
         "orientation": "v",
         "showlegend": true,
         "type": "scatter",
         "x": [
          0.586366644606221,
          0.7673971549404075,
          0.6705882352941176,
          0.6666666666666666,
          0.6666666666666666,
          0.6182542557044549,
          0.7874069058903183,
          0.7587145969498911,
          0.6679954441913439,
          0.7326100829610721,
          0.6897980321077162,
          0.5113553113553113,
          0.7336448598130841,
          0.7886710239651417,
          0.4940991345397325
         ],
         "xaxis": "x",
         "y": [
          0.42432950191570884,
          0.8722659667541557,
          0.7972027972027972,
          0.9090909090909091,
          0.7733333333333333,
          0.9342105263157895,
          0.7137592137592138,
          0.8754716981132076,
          0.9636963696369637,
          0.8095909732016925,
          0.9527220630372493,
          0.9873595505617978,
          0.6702127659574468,
          0.7774914089347079,
          0.9968253968253968
         ],
         "yaxis": "y"
        },
        {
         "alignmentgroup": "True",
         "bingroup": "y",
         "hovertemplate": "metric=event recall<br>value=%{y}<br>count=%{x}<extra></extra>",
         "legendgroup": "event recall",
         "marker": {
          "color": "#EF553B"
         },
         "name": "event recall",
         "offsetgroup": "event recall",
         "opacity": 0.5,
         "showlegend": false,
         "type": "histogram",
         "xaxis": "x2",
         "y": [
          0.42432950191570884,
          0.8722659667541557,
          0.7972027972027972,
          0.9090909090909091,
          0.7733333333333333,
          0.9342105263157895,
          0.7137592137592138,
          0.8754716981132076,
          0.9636963696369637,
          0.8095909732016925,
          0.9527220630372493,
          0.9873595505617978,
          0.6702127659574468,
          0.7774914089347079,
          0.9968253968253968
         ],
         "yaxis": "y2"
        },
        {
         "fill": "toself",
         "mode": "lines",
         "name": "identity",
         "type": "scatter",
         "x": [
          0.586366644606221,
          0.7673971549404075,
          0.6705882352941176,
          0.6666666666666666,
          0.6666666666666666,
          0.6182542557044549,
          0.7874069058903183,
          0.7587145969498911,
          0.6679954441913439,
          0.7326100829610721,
          0.6897980321077162,
          0.5113553113553113,
          0.7336448598130841,
          0.7886710239651417,
          0.4940991345397325
         ],
         "y": [
          0.586366644606221,
          0.7673971549404075,
          0.6705882352941176,
          0.6666666666666666,
          0.6666666666666666,
          0.6182542557044549,
          0.7874069058903183,
          0.7587145969498911,
          0.6679954441913439,
          0.7326100829610721,
          0.6897980321077162,
          0.5113553113553113,
          0.7336448598130841,
          0.7886710239651417,
          0.4940991345397325
         ]
        }
       ],
       "layout": {
        "barmode": "overlay",
        "legend": {
         "title": {
          "text": "metric"
         },
         "tracegroupgap": 0
        },
        "margin": {
         "t": 60
        },
        "template": {
         "data": {
          "bar": [
           {
            "error_x": {
             "color": "#2a3f5f"
            },
            "error_y": {
             "color": "#2a3f5f"
            },
            "marker": {
             "line": {
              "color": "#E5ECF6",
              "width": 0.5
             },
             "pattern": {
              "fillmode": "overlay",
              "size": 10,
              "solidity": 0.2
             }
            },
            "type": "bar"
           }
          ],
          "barpolar": [
           {
            "marker": {
             "line": {
              "color": "#E5ECF6",
              "width": 0.5
             },
             "pattern": {
              "fillmode": "overlay",
              "size": 10,
              "solidity": 0.2
             }
            },
            "type": "barpolar"
           }
          ],
          "carpet": [
           {
            "aaxis": {
             "endlinecolor": "#2a3f5f",
             "gridcolor": "white",
             "linecolor": "white",
             "minorgridcolor": "white",
             "startlinecolor": "#2a3f5f"
            },
            "baxis": {
             "endlinecolor": "#2a3f5f",
             "gridcolor": "white",
             "linecolor": "white",
             "minorgridcolor": "white",
             "startlinecolor": "#2a3f5f"
            },
            "type": "carpet"
           }
          ],
          "choropleth": [
           {
            "colorbar": {
             "outlinewidth": 0,
             "ticks": ""
            },
            "type": "choropleth"
           }
          ],
          "contour": [
           {
            "colorbar": {
             "outlinewidth": 0,
             "ticks": ""
            },
            "colorscale": [
             [
              0,
              "#0d0887"
             ],
             [
              0.1111111111111111,
              "#46039f"
             ],
             [
              0.2222222222222222,
              "#7201a8"
             ],
             [
              0.3333333333333333,
              "#9c179e"
             ],
             [
              0.4444444444444444,
              "#bd3786"
             ],
             [
              0.5555555555555556,
              "#d8576b"
             ],
             [
              0.6666666666666666,
              "#ed7953"
             ],
             [
              0.7777777777777778,
              "#fb9f3a"
             ],
             [
              0.8888888888888888,
              "#fdca26"
             ],
             [
              1,
              "#f0f921"
             ]
            ],
            "type": "contour"
           }
          ],
          "contourcarpet": [
           {
            "colorbar": {
             "outlinewidth": 0,
             "ticks": ""
            },
            "type": "contourcarpet"
           }
          ],
          "heatmap": [
           {
            "colorbar": {
             "outlinewidth": 0,
             "ticks": ""
            },
            "colorscale": [
             [
              0,
              "#0d0887"
             ],
             [
              0.1111111111111111,
              "#46039f"
             ],
             [
              0.2222222222222222,
              "#7201a8"
             ],
             [
              0.3333333333333333,
              "#9c179e"
             ],
             [
              0.4444444444444444,
              "#bd3786"
             ],
             [
              0.5555555555555556,
              "#d8576b"
             ],
             [
              0.6666666666666666,
              "#ed7953"
             ],
             [
              0.7777777777777778,
              "#fb9f3a"
             ],
             [
              0.8888888888888888,
              "#fdca26"
             ],
             [
              1,
              "#f0f921"
             ]
            ],
            "type": "heatmap"
           }
          ],
          "heatmapgl": [
           {
            "colorbar": {
             "outlinewidth": 0,
             "ticks": ""
            },
            "colorscale": [
             [
              0,
              "#0d0887"
             ],
             [
              0.1111111111111111,
              "#46039f"
             ],
             [
              0.2222222222222222,
              "#7201a8"
             ],
             [
              0.3333333333333333,
              "#9c179e"
             ],
             [
              0.4444444444444444,
              "#bd3786"
             ],
             [
              0.5555555555555556,
              "#d8576b"
             ],
             [
              0.6666666666666666,
              "#ed7953"
             ],
             [
              0.7777777777777778,
              "#fb9f3a"
             ],
             [
              0.8888888888888888,
              "#fdca26"
             ],
             [
              1,
              "#f0f921"
             ]
            ],
            "type": "heatmapgl"
           }
          ],
          "histogram": [
           {
            "marker": {
             "pattern": {
              "fillmode": "overlay",
              "size": 10,
              "solidity": 0.2
             }
            },
            "type": "histogram"
           }
          ],
          "histogram2d": [
           {
            "colorbar": {
             "outlinewidth": 0,
             "ticks": ""
            },
            "colorscale": [
             [
              0,
              "#0d0887"
             ],
             [
              0.1111111111111111,
              "#46039f"
             ],
             [
              0.2222222222222222,
              "#7201a8"
             ],
             [
              0.3333333333333333,
              "#9c179e"
             ],
             [
              0.4444444444444444,
              "#bd3786"
             ],
             [
              0.5555555555555556,
              "#d8576b"
             ],
             [
              0.6666666666666666,
              "#ed7953"
             ],
             [
              0.7777777777777778,
              "#fb9f3a"
             ],
             [
              0.8888888888888888,
              "#fdca26"
             ],
             [
              1,
              "#f0f921"
             ]
            ],
            "type": "histogram2d"
           }
          ],
          "histogram2dcontour": [
           {
            "colorbar": {
             "outlinewidth": 0,
             "ticks": ""
            },
            "colorscale": [
             [
              0,
              "#0d0887"
             ],
             [
              0.1111111111111111,
              "#46039f"
             ],
             [
              0.2222222222222222,
              "#7201a8"
             ],
             [
              0.3333333333333333,
              "#9c179e"
             ],
             [
              0.4444444444444444,
              "#bd3786"
             ],
             [
              0.5555555555555556,
              "#d8576b"
             ],
             [
              0.6666666666666666,
              "#ed7953"
             ],
             [
              0.7777777777777778,
              "#fb9f3a"
             ],
             [
              0.8888888888888888,
              "#fdca26"
             ],
             [
              1,
              "#f0f921"
             ]
            ],
            "type": "histogram2dcontour"
           }
          ],
          "mesh3d": [
           {
            "colorbar": {
             "outlinewidth": 0,
             "ticks": ""
            },
            "type": "mesh3d"
           }
          ],
          "parcoords": [
           {
            "line": {
             "colorbar": {
              "outlinewidth": 0,
              "ticks": ""
             }
            },
            "type": "parcoords"
           }
          ],
          "pie": [
           {
            "automargin": true,
            "type": "pie"
           }
          ],
          "scatter": [
           {
            "fillpattern": {
             "fillmode": "overlay",
             "size": 10,
             "solidity": 0.2
            },
            "type": "scatter"
           }
          ],
          "scatter3d": [
           {
            "line": {
             "colorbar": {
              "outlinewidth": 0,
              "ticks": ""
             }
            },
            "marker": {
             "colorbar": {
              "outlinewidth": 0,
              "ticks": ""
             }
            },
            "type": "scatter3d"
           }
          ],
          "scattercarpet": [
           {
            "marker": {
             "colorbar": {
              "outlinewidth": 0,
              "ticks": ""
             }
            },
            "type": "scattercarpet"
           }
          ],
          "scattergeo": [
           {
            "marker": {
             "colorbar": {
              "outlinewidth": 0,
              "ticks": ""
             }
            },
            "type": "scattergeo"
           }
          ],
          "scattergl": [
           {
            "marker": {
             "colorbar": {
              "outlinewidth": 0,
              "ticks": ""
             }
            },
            "type": "scattergl"
           }
          ],
          "scattermapbox": [
           {
            "marker": {
             "colorbar": {
              "outlinewidth": 0,
              "ticks": ""
             }
            },
            "type": "scattermapbox"
           }
          ],
          "scatterpolar": [
           {
            "marker": {
             "colorbar": {
              "outlinewidth": 0,
              "ticks": ""
             }
            },
            "type": "scatterpolar"
           }
          ],
          "scatterpolargl": [
           {
            "marker": {
             "colorbar": {
              "outlinewidth": 0,
              "ticks": ""
             }
            },
            "type": "scatterpolargl"
           }
          ],
          "scatterternary": [
           {
            "marker": {
             "colorbar": {
              "outlinewidth": 0,
              "ticks": ""
             }
            },
            "type": "scatterternary"
           }
          ],
          "surface": [
           {
            "colorbar": {
             "outlinewidth": 0,
             "ticks": ""
            },
            "colorscale": [
             [
              0,
              "#0d0887"
             ],
             [
              0.1111111111111111,
              "#46039f"
             ],
             [
              0.2222222222222222,
              "#7201a8"
             ],
             [
              0.3333333333333333,
              "#9c179e"
             ],
             [
              0.4444444444444444,
              "#bd3786"
             ],
             [
              0.5555555555555556,
              "#d8576b"
             ],
             [
              0.6666666666666666,
              "#ed7953"
             ],
             [
              0.7777777777777778,
              "#fb9f3a"
             ],
             [
              0.8888888888888888,
              "#fdca26"
             ],
             [
              1,
              "#f0f921"
             ]
            ],
            "type": "surface"
           }
          ],
          "table": [
           {
            "cells": {
             "fill": {
              "color": "#EBF0F8"
             },
             "line": {
              "color": "white"
             }
            },
            "header": {
             "fill": {
              "color": "#C8D4E3"
             },
             "line": {
              "color": "white"
             }
            },
            "type": "table"
           }
          ]
         },
         "layout": {
          "annotationdefaults": {
           "arrowcolor": "#2a3f5f",
           "arrowhead": 0,
           "arrowwidth": 1
          },
          "autotypenumbers": "strict",
          "coloraxis": {
           "colorbar": {
            "outlinewidth": 0,
            "ticks": ""
           }
          },
          "colorscale": {
           "diverging": [
            [
             0,
             "#8e0152"
            ],
            [
             0.1,
             "#c51b7d"
            ],
            [
             0.2,
             "#de77ae"
            ],
            [
             0.3,
             "#f1b6da"
            ],
            [
             0.4,
             "#fde0ef"
            ],
            [
             0.5,
             "#f7f7f7"
            ],
            [
             0.6,
             "#e6f5d0"
            ],
            [
             0.7,
             "#b8e186"
            ],
            [
             0.8,
             "#7fbc41"
            ],
            [
             0.9,
             "#4d9221"
            ],
            [
             1,
             "#276419"
            ]
           ],
           "sequential": [
            [
             0,
             "#0d0887"
            ],
            [
             0.1111111111111111,
             "#46039f"
            ],
            [
             0.2222222222222222,
             "#7201a8"
            ],
            [
             0.3333333333333333,
             "#9c179e"
            ],
            [
             0.4444444444444444,
             "#bd3786"
            ],
            [
             0.5555555555555556,
             "#d8576b"
            ],
            [
             0.6666666666666666,
             "#ed7953"
            ],
            [
             0.7777777777777778,
             "#fb9f3a"
            ],
            [
             0.8888888888888888,
             "#fdca26"
            ],
            [
             1,
             "#f0f921"
            ]
           ],
           "sequentialminus": [
            [
             0,
             "#0d0887"
            ],
            [
             0.1111111111111111,
             "#46039f"
            ],
            [
             0.2222222222222222,
             "#7201a8"
            ],
            [
             0.3333333333333333,
             "#9c179e"
            ],
            [
             0.4444444444444444,
             "#bd3786"
            ],
            [
             0.5555555555555556,
             "#d8576b"
            ],
            [
             0.6666666666666666,
             "#ed7953"
            ],
            [
             0.7777777777777778,
             "#fb9f3a"
            ],
            [
             0.8888888888888888,
             "#fdca26"
            ],
            [
             1,
             "#f0f921"
            ]
           ]
          },
          "colorway": [
           "#636efa",
           "#EF553B",
           "#00cc96",
           "#ab63fa",
           "#FFA15A",
           "#19d3f3",
           "#FF6692",
           "#B6E880",
           "#FF97FF",
           "#FECB52"
          ],
          "font": {
           "color": "#2a3f5f"
          },
          "geo": {
           "bgcolor": "white",
           "lakecolor": "white",
           "landcolor": "#E5ECF6",
           "showlakes": true,
           "showland": true,
           "subunitcolor": "white"
          },
          "hoverlabel": {
           "align": "left"
          },
          "hovermode": "closest",
          "mapbox": {
           "style": "light"
          },
          "paper_bgcolor": "white",
          "plot_bgcolor": "#E5ECF6",
          "polar": {
           "angularaxis": {
            "gridcolor": "white",
            "linecolor": "white",
            "ticks": ""
           },
           "bgcolor": "#E5ECF6",
           "radialaxis": {
            "gridcolor": "white",
            "linecolor": "white",
            "ticks": ""
           }
          },
          "scene": {
           "xaxis": {
            "backgroundcolor": "#E5ECF6",
            "gridcolor": "white",
            "gridwidth": 2,
            "linecolor": "white",
            "showbackground": true,
            "ticks": "",
            "zerolinecolor": "white"
           },
           "yaxis": {
            "backgroundcolor": "#E5ECF6",
            "gridcolor": "white",
            "gridwidth": 2,
            "linecolor": "white",
            "showbackground": true,
            "ticks": "",
            "zerolinecolor": "white"
           },
           "zaxis": {
            "backgroundcolor": "#E5ECF6",
            "gridcolor": "white",
            "gridwidth": 2,
            "linecolor": "white",
            "showbackground": true,
            "ticks": "",
            "zerolinecolor": "white"
           }
          },
          "shapedefaults": {
           "line": {
            "color": "#2a3f5f"
           }
          },
          "ternary": {
           "aaxis": {
            "gridcolor": "white",
            "linecolor": "white",
            "ticks": ""
           },
           "baxis": {
            "gridcolor": "white",
            "linecolor": "white",
            "ticks": ""
           },
           "bgcolor": "#E5ECF6",
           "caxis": {
            "gridcolor": "white",
            "linecolor": "white",
            "ticks": ""
           }
          },
          "title": {
           "x": 0.05
          },
          "xaxis": {
           "automargin": true,
           "gridcolor": "white",
           "linecolor": "white",
           "ticks": "",
           "title": {
            "standoff": 15
           },
           "zerolinecolor": "white",
           "zerolinewidth": 2
          },
          "yaxis": {
           "automargin": true,
           "gridcolor": "white",
           "linecolor": "white",
           "ticks": "",
           "title": {
            "standoff": 15
           },
           "zerolinecolor": "white",
           "zerolinewidth": 2
          }
         }
        },
        "xaxis": {
         "anchor": "y",
         "domain": [
          0,
          0.7363
         ],
         "title": {
          "text": "event F1"
         }
        },
        "xaxis2": {
         "anchor": "y2",
         "domain": [
          0.7413,
          1
         ],
         "matches": "x2",
         "showgrid": true,
         "showline": false,
         "showticklabels": false,
         "ticks": ""
        },
        "yaxis": {
         "anchor": "x",
         "domain": [
          0,
          1
         ],
         "title": {
          "text": "value"
         }
        },
        "yaxis2": {
         "anchor": "x2",
         "domain": [
          0,
          1
         ],
         "matches": "y",
         "showgrid": true,
         "showticklabels": false
        }
       }
      }
     },
     "metadata": {},
     "output_type": "display_data"
    }
   ],
   "source": [
    "fig=px.scatter(visualTradeoff,x='event F1',y='value',color='metric', marginal_y=\"histogram\")\n",
    "fig.add_trace(\n",
    "    go.Scatter(x=experimentModels['eventF1'], y=experimentModels['eventF1'], name=\"identity\", mode='lines',fill=\"toself\")\n",
    ")\n",
    "fig.show()"
   ]
  },
  {
   "attachments": {},
   "cell_type": "markdown",
   "metadata": {},
   "source": [
    "## Restrict to only N2 stage"
   ]
  },
  {
   "cell_type": "code",
   "execution_count": 31,
   "metadata": {},
   "outputs": [
    {
     "data": {
      "text/html": [
       "<div>\n",
       "<style scoped>\n",
       "    .dataframe tbody tr th:only-of-type {\n",
       "        vertical-align: middle;\n",
       "    }\n",
       "\n",
       "    .dataframe tbody tr th {\n",
       "        vertical-align: top;\n",
       "    }\n",
       "\n",
       "    .dataframe thead th {\n",
       "        text-align: right;\n",
       "    }\n",
       "</style>\n",
       "<table border=\"1\" class=\"dataframe\">\n",
       "  <thead>\n",
       "    <tr style=\"text-align: right;\">\n",
       "      <th></th>\n",
       "      <th>criteriumId</th>\n",
       "      <th>criteriumName</th>\n",
       "      <th>labelerIdList</th>\n",
       "      <th>train</th>\n",
       "      <th>val</th>\n",
       "      <th>test</th>\n",
       "      <th>modelId</th>\n",
       "      <th>spindleTimeRate</th>\n",
       "      <th>rawF1</th>\n",
       "      <th>rawPrecision</th>\n",
       "      <th>rawRecall</th>\n",
       "      <th>f1</th>\n",
       "      <th>precision</th>\n",
       "      <th>recall</th>\n",
       "      <th>eventF1</th>\n",
       "      <th>eventPrecision</th>\n",
       "      <th>eventRecall</th>\n",
       "    </tr>\n",
       "  </thead>\n",
       "  <tbody>\n",
       "    <tr>\n",
       "      <th>0</th>\n",
       "      <td>0001</td>\n",
       "      <td>E1</td>\n",
       "      <td>[0001]</td>\n",
       "      <td>[0003, 0005, 0007, 0009, 0010, 0011, 0012, 001...</td>\n",
       "      <td>[0017, 0002, 0006]</td>\n",
       "      <td>0001</td>\n",
       "      <td>9e4dd9bb-a7d9-4ee8-a762-d656d8308d91</td>\n",
       "      <td>0.018639</td>\n",
       "      <td>0.434454</td>\n",
       "      <td>0.936616</td>\n",
       "      <td>0.282821</td>\n",
       "      <td>0.457147</td>\n",
       "      <td>0.944471</td>\n",
       "      <td>0.301553</td>\n",
       "      <td>0.586367</td>\n",
       "      <td>0.948608</td>\n",
       "      <td>0.424330</td>\n",
       "    </tr>\n",
       "    <tr>\n",
       "      <th>1</th>\n",
       "      <td>0001</td>\n",
       "      <td>E1</td>\n",
       "      <td>[0001]</td>\n",
       "      <td>[0001, 0003, 0005, 0007, 0009, 0010, 0011, 001...</td>\n",
       "      <td>[0006, 0013, 0019]</td>\n",
       "      <td>0002</td>\n",
       "      <td>5e1bcb8a-f879-4f42-ae21-0e1ae715095f</td>\n",
       "      <td>0.020055</td>\n",
       "      <td>0.710206</td>\n",
       "      <td>0.699708</td>\n",
       "      <td>0.721025</td>\n",
       "      <td>0.722520</td>\n",
       "      <td>0.697843</td>\n",
       "      <td>0.749007</td>\n",
       "      <td>0.767397</td>\n",
       "      <td>0.685185</td>\n",
       "      <td>0.872266</td>\n",
       "    </tr>\n",
       "    <tr>\n",
       "      <th>2</th>\n",
       "      <td>0001</td>\n",
       "      <td>E1</td>\n",
       "      <td>[0001]</td>\n",
       "      <td>[0002, 0005, 0007, 0009, 0010, 0011, 0012, 001...</td>\n",
       "      <td>[0013, 0006, 0001]</td>\n",
       "      <td>0003</td>\n",
       "      <td>2ecef3ee-0879-42d7-bcf0-ecfa0e3e601a</td>\n",
       "      <td>0.021075</td>\n",
       "      <td>0.623836</td>\n",
       "      <td>0.592713</td>\n",
       "      <td>0.658409</td>\n",
       "      <td>0.637637</td>\n",
       "      <td>0.599189</td>\n",
       "      <td>0.681358</td>\n",
       "      <td>0.670588</td>\n",
       "      <td>0.578680</td>\n",
       "      <td>0.797203</td>\n",
       "    </tr>\n",
       "    <tr>\n",
       "      <th>3</th>\n",
       "      <td>0001</td>\n",
       "      <td>E1</td>\n",
       "      <td>[0001]</td>\n",
       "      <td>[0001, 0002, 0003, 0006, 0007, 0009, 0010, 001...</td>\n",
       "      <td>[0018, 0014, 0012]</td>\n",
       "      <td>0005</td>\n",
       "      <td>52b0d6a8-7f01-4694-85d4-14ef17a025b9</td>\n",
       "      <td>0.018331</td>\n",
       "      <td>0.617079</td>\n",
       "      <td>0.529047</td>\n",
       "      <td>0.740255</td>\n",
       "      <td>0.636048</td>\n",
       "      <td>0.536272</td>\n",
       "      <td>0.781438</td>\n",
       "      <td>0.666667</td>\n",
       "      <td>0.526316</td>\n",
       "      <td>0.909091</td>\n",
       "    </tr>\n",
       "    <tr>\n",
       "      <th>4</th>\n",
       "      <td>0001</td>\n",
       "      <td>E1</td>\n",
       "      <td>[0001]</td>\n",
       "      <td>[0003, 0007, 0009, 0010, 0011, 0012, 0013, 001...</td>\n",
       "      <td>[0005, 0001, 0002]</td>\n",
       "      <td>0006</td>\n",
       "      <td>32c9793a-2115-4e77-8b6f-e8f71d09cecb</td>\n",
       "      <td>0.019222</td>\n",
       "      <td>0.593230</td>\n",
       "      <td>0.609730</td>\n",
       "      <td>0.577600</td>\n",
       "      <td>0.614710</td>\n",
       "      <td>0.635201</td>\n",
       "      <td>0.595501</td>\n",
       "      <td>0.666667</td>\n",
       "      <td>0.585859</td>\n",
       "      <td>0.773333</td>\n",
       "    </tr>\n",
       "  </tbody>\n",
       "</table>\n",
       "</div>"
      ],
      "text/plain": [
       "  criteriumId criteriumName labelerIdList  \\\n",
       "0        0001            E1        [0001]   \n",
       "1        0001            E1        [0001]   \n",
       "2        0001            E1        [0001]   \n",
       "3        0001            E1        [0001]   \n",
       "4        0001            E1        [0001]   \n",
       "\n",
       "                                               train                 val  \\\n",
       "0  [0003, 0005, 0007, 0009, 0010, 0011, 0012, 001...  [0017, 0002, 0006]   \n",
       "1  [0001, 0003, 0005, 0007, 0009, 0010, 0011, 001...  [0006, 0013, 0019]   \n",
       "2  [0002, 0005, 0007, 0009, 0010, 0011, 0012, 001...  [0013, 0006, 0001]   \n",
       "3  [0001, 0002, 0003, 0006, 0007, 0009, 0010, 001...  [0018, 0014, 0012]   \n",
       "4  [0003, 0007, 0009, 0010, 0011, 0012, 0013, 001...  [0005, 0001, 0002]   \n",
       "\n",
       "   test                               modelId  spindleTimeRate     rawF1  \\\n",
       "0  0001  9e4dd9bb-a7d9-4ee8-a762-d656d8308d91         0.018639  0.434454   \n",
       "1  0002  5e1bcb8a-f879-4f42-ae21-0e1ae715095f         0.020055  0.710206   \n",
       "2  0003  2ecef3ee-0879-42d7-bcf0-ecfa0e3e601a         0.021075  0.623836   \n",
       "3  0005  52b0d6a8-7f01-4694-85d4-14ef17a025b9         0.018331  0.617079   \n",
       "4  0006  32c9793a-2115-4e77-8b6f-e8f71d09cecb         0.019222  0.593230   \n",
       "\n",
       "   rawPrecision  rawRecall        f1  precision    recall   eventF1  \\\n",
       "0      0.936616   0.282821  0.457147   0.944471  0.301553  0.586367   \n",
       "1      0.699708   0.721025  0.722520   0.697843  0.749007  0.767397   \n",
       "2      0.592713   0.658409  0.637637   0.599189  0.681358  0.670588   \n",
       "3      0.529047   0.740255  0.636048   0.536272  0.781438  0.666667   \n",
       "4      0.609730   0.577600  0.614710   0.635201  0.595501  0.666667   \n",
       "\n",
       "   eventPrecision  eventRecall  \n",
       "0        0.948608     0.424330  \n",
       "1        0.685185     0.872266  \n",
       "2        0.578680     0.797203  \n",
       "3        0.526316     0.909091  \n",
       "4        0.585859     0.773333  "
      ]
     },
     "execution_count": 31,
     "metadata": {},
     "output_type": "execute_result"
    }
   ],
   "source": [
    "experimentModels_N2=experimentModels.copy()\n",
    "experimentModels_N2.head()"
   ]
  },
  {
   "cell_type": "code",
   "execution_count": 32,
   "metadata": {},
   "outputs": [],
   "source": [
    "annotationsN2=pd.read_csv(datapath+'/MASS/annotations/spindlesFilteredN2.csv')\n",
    "annotationsN2['samplerate']=samplerate\n",
    "annotationsN2['subjectId']=annotationsN2.apply(\n",
    "    lambda row: str(row.subjectId).zfill(4),axis=1)\n",
    "annotationsN2['labelerId']=annotationsN2.apply(\n",
    "    lambda row: str(row.labelerId).zfill(4),axis=1)\n",
    "annotationsN2['stopTime']=annotationsN2.apply(\n",
    "    lambda row: row.startTime+row.duration , axis=1)\n",
    "annotationsN2['startInd']=annotationsN2.apply(\n",
    "    lambda row: seconds2index(row.startTime,row.samplerate) , axis=1)\n",
    "annotationsN2['stopInd']=annotationsN2.apply(\n",
    "    lambda row: seconds2index(row.stopTime,row.samplerate) , axis=1)"
   ]
  },
  {
   "cell_type": "code",
   "execution_count": 33,
   "metadata": {},
   "outputs": [],
   "source": [
    "## load hypnograms\n",
    "stagesAnnotations=pd.read_csv(datapath+\"\\MASS\\stages\\stages.csv\")\n",
    "stagesAnnotations['samplerate']=samplerate\n",
    "stagesAnnotations['subjectId']=stagesAnnotations.apply(\n",
    "    lambda row: str(row.subjectId).zfill(4),axis=1)\n",
    "stagesAnnotations['stopTime']=stagesAnnotations.apply(\n",
    "    lambda row: row.startTime+row.duration , axis=1)\n",
    "stagesAnnotations['startInd']=stagesAnnotations.apply(\n",
    "    lambda row: seconds2index(row.startTime,row.samplerate) , axis=1)\n",
    "stagesAnnotations['stopInd']=stagesAnnotations.apply(\n",
    "    lambda row: seconds2index(row.stopTime,row.samplerate) , axis=1)\n",
    "stagesAnnotations.head(5)\n",
    "\n",
    "hypnograms={}\n",
    "for ind, row in signalsMetadata.iterrows():\n",
    "    subjectId=row.subjectId\n",
    "    thisStages=stagesAnnotations[stagesAnnotations.subjectId==subjectId]\n",
    "    excerptDimension=int(row.duration*row.samplerate)\n",
    "    thisHypnogram=np.ones((excerptDimension,))*np.nan\n",
    "    for ind_stg, row_stg in thisStages.iterrows():\n",
    "        thisHypnogram[row_stg.startInd:row_stg.stopInd]=row_stg.value\n",
    "    hypnograms[subjectId]=thisHypnogram   "
   ]
  },
  {
   "cell_type": "code",
   "execution_count": 34,
   "metadata": {},
   "outputs": [
    {
     "name": "stdout",
     "output_type": "stream",
     "text": [
      "*************************\n",
      "1 of 15\n",
      "*************************\n",
      "2 of 15\n",
      "*************************\n",
      "3 of 15\n",
      "*************************\n",
      "4 of 15\n",
      "*************************\n",
      "5 of 15\n",
      "*************************\n",
      "6 of 15\n",
      "*************************\n",
      "7 of 15\n",
      "*************************\n",
      "8 of 15\n",
      "*************************\n",
      "9 of 15\n",
      "*************************\n",
      "10 of 15\n",
      "*************************\n",
      "11 of 15\n",
      "*************************\n",
      "12 of 15\n",
      "*************************\n",
      "13 of 15\n",
      "*************************\n",
      "14 of 15\n",
      "*************************\n",
      "15 of 15\n"
     ]
    }
   ],
   "source": [
    "rawF1s=[]\n",
    "rawPrecisions=[]\n",
    "rawRecalls=[]\n",
    "\n",
    "f1s=[]\n",
    "precisions=[]\n",
    "recalls=[]\n",
    "\n",
    "eventF1s=[]\n",
    "eventPrecisions=[]\n",
    "eventRecalls=[]\n",
    "\n",
    "checks=[]\n",
    "\n",
    "for ind,row in experimentModels_N2.iterrows():\n",
    "    print('*************************')\n",
    "    print(str(ind+1)+' of '+str(len(experimentModels_N2)) )\n",
    "    #load model\n",
    "    model=loadBooster(row.modelId,experimentId,datapath)\n",
    "\n",
    "    testSubjectId=row.test\n",
    "    testHypnogram=hypnograms[testSubjectId]\n",
    "    testN2Mask=testHypnogram==2\n",
    "    #Define annotations criterium\n",
    "    usedAnnotations=annotationsN2[annotationsN2.labelerId.isin(row.labelerIdList)].reset_index(drop=True)\n",
    "    #Load features and labels\n",
    "    testFeatures=loadFeatureMatrix([testSubjectId],featureSelection,signalsMetadata,samplerate,datapath)\n",
    "    testLabels=loadLabelsVector([testSubjectId],usedAnnotations,signalsMetadata,samplerate)\n",
    "\n",
    "    #Predict\n",
    "    testDMatrix=xgb.DMatrix(data=testFeatures)\n",
    "    probabilities=model.predict(testDMatrix,iteration_range=(0,hyperDepth))\n",
    "    rawLabels=probabilities>=hyperThres\n",
    "\n",
    "    #Apply mask ---------------------------------->\n",
    "    rawLabels=rawLabels*testN2Mask\n",
    "    #<---------------------------------------------\n",
    "\n",
    "    #Raw Metrics\n",
    "    rawTp=np.sum(rawLabels*testLabels)\n",
    "    rawFp=np.sum(rawLabels*(1-testLabels))\n",
    "    rawTn=np.sum((1-rawLabels)*(1-testLabels))\n",
    "    rawFn=np.sum((1-rawLabels)*testLabels)\n",
    "    #Raw appends\n",
    "    rawF1s.append(2*rawTp/(2*rawTp+rawFp+rawFn))\n",
    "    rawPrecisions.append(rawTp/(rawTp+rawFp) )\n",
    "    rawRecalls.append(rawTp/(rawTp+rawFn))\n",
    "    #Process\n",
    "    processedLabels=labelingProcess(rawLabels,hyperClose,hyperDuration,samplerate)\n",
    "    #Processed metrics\n",
    "    tp=np.sum(processedLabels*testLabels)\n",
    "    fp=np.sum(processedLabels*(1-testLabels))\n",
    "    tn=np.sum((1-processedLabels)*(1-testLabels))\n",
    "    fn=np.sum((1-processedLabels)*testLabels)\n",
    "    #Processed appends\n",
    "    f1s.append(2*tp/(2*tp+fp+fn))\n",
    "    precisions.append(tp/(tp+fp))\n",
    "    recalls.append(tp/(tp+fn))\n",
    "\n",
    "    #By-event metrics\n",
    "    processedAnnotations=labelVectorToAnnotations(processedLabels,samplerate)\n",
    "    gtAnnotations=labelVectorToAnnotations(testLabels,samplerate)   #<- or just filter the annotations\n",
    "    f,r,p=annotationPairToMetrics(gtAnnotations,processedAnnotations)\n",
    "\n",
    "    #calculate metrics\n",
    "    eventF1s.append(f)\n",
    "    eventPrecisions.append(p)\n",
    "    eventRecalls.append(r)\n",
    "\n",
    "#include metrics in the dataframe\n",
    "experimentModels_N2['rawF1']=rawF1s\n",
    "experimentModels_N2['rawPrecision']=rawPrecisions\n",
    "experimentModels_N2['rawRecall']=rawRecalls\n",
    "\n",
    "experimentModels_N2['f1']=f1s\n",
    "experimentModels_N2['precision']=precisions\n",
    "experimentModels_N2['recall']=recalls\n",
    "\n",
    "experimentModels_N2['eventF1']=eventF1s\n",
    "experimentModels_N2['eventPrecision']=eventPrecisions\n",
    "experimentModels_N2['eventRecall']=eventRecalls\n"
   ]
  },
  {
   "cell_type": "code",
   "execution_count": 35,
   "metadata": {},
   "outputs": [],
   "source": [
    "dumpPickle('experimentModelsTest_N2_E1_temp.pkl',experimentModels_N2)"
   ]
  },
  {
   "cell_type": "code",
   "execution_count": 36,
   "metadata": {},
   "outputs": [
    {
     "data": {
      "application/vnd.plotly.v1+json": {
       "config": {
        "plotlyServerURL": "https://plot.ly"
       },
       "data": [
        {
         "hovertemplate": "<b>%{hovertext}</b><br><br>test=0001<br>rawF1=%{x}<br>f1=%{y}<extra></extra>",
         "hovertext": [
          "9e4dd9bb-a7d9-4ee8-a762-d656d8308d91"
         ],
         "legendgroup": "0001",
         "marker": {
          "color": "#636efa",
          "symbol": "circle"
         },
         "mode": "markers",
         "name": "0001",
         "orientation": "v",
         "showlegend": true,
         "type": "scatter",
         "x": [
          0.4390678571751658
         ],
         "xaxis": "x",
         "y": [
          0.4613889718434788
         ],
         "yaxis": "y"
        },
        {
         "alignmentgroup": "True",
         "bingroup": "y",
         "hovertemplate": "test=0001<br>f1=%{y}<br>count=%{x}<extra></extra>",
         "legendgroup": "0001",
         "marker": {
          "color": "#636efa"
         },
         "name": "0001",
         "offsetgroup": "0001",
         "opacity": 0.5,
         "showlegend": false,
         "type": "histogram",
         "xaxis": "x2",
         "y": [
          0.4613889718434788
         ],
         "yaxis": "y2"
        },
        {
         "hovertemplate": "<b>%{hovertext}</b><br><br>test=0002<br>rawF1=%{x}<br>f1=%{y}<extra></extra>",
         "hovertext": [
          "5e1bcb8a-f879-4f42-ae21-0e1ae715095f"
         ],
         "legendgroup": "0002",
         "marker": {
          "color": "#EF553B",
          "symbol": "circle"
         },
         "mode": "markers",
         "name": "0002",
         "orientation": "v",
         "showlegend": true,
         "type": "scatter",
         "x": [
          0.7129993950781848
         ],
         "xaxis": "x",
         "y": [
          0.7240513882091852
         ],
         "yaxis": "y"
        },
        {
         "alignmentgroup": "True",
         "bingroup": "y",
         "hovertemplate": "test=0002<br>f1=%{y}<br>count=%{x}<extra></extra>",
         "legendgroup": "0002",
         "marker": {
          "color": "#EF553B"
         },
         "name": "0002",
         "offsetgroup": "0002",
         "opacity": 0.5,
         "showlegend": false,
         "type": "histogram",
         "xaxis": "x2",
         "y": [
          0.7240513882091852
         ],
         "yaxis": "y2"
        },
        {
         "hovertemplate": "<b>%{hovertext}</b><br><br>test=0003<br>rawF1=%{x}<br>f1=%{y}<extra></extra>",
         "hovertext": [
          "2ecef3ee-0879-42d7-bcf0-ecfa0e3e601a"
         ],
         "legendgroup": "0003",
         "marker": {
          "color": "#00cc96",
          "symbol": "circle"
         },
         "mode": "markers",
         "name": "0003",
         "orientation": "v",
         "showlegend": true,
         "type": "scatter",
         "x": [
          0.6542662975081802
         ],
         "xaxis": "x",
         "y": [
          0.6619420247059402
         ],
         "yaxis": "y"
        },
        {
         "alignmentgroup": "True",
         "bingroup": "y",
         "hovertemplate": "test=0003<br>f1=%{y}<br>count=%{x}<extra></extra>",
         "legendgroup": "0003",
         "marker": {
          "color": "#00cc96"
         },
         "name": "0003",
         "offsetgroup": "0003",
         "opacity": 0.5,
         "showlegend": false,
         "type": "histogram",
         "xaxis": "x2",
         "y": [
          0.6619420247059402
         ],
         "yaxis": "y2"
        },
        {
         "hovertemplate": "<b>%{hovertext}</b><br><br>test=0005<br>rawF1=%{x}<br>f1=%{y}<extra></extra>",
         "hovertext": [
          "52b0d6a8-7f01-4694-85d4-14ef17a025b9"
         ],
         "legendgroup": "0005",
         "marker": {
          "color": "#ab63fa",
          "symbol": "circle"
         },
         "mode": "markers",
         "name": "0005",
         "orientation": "v",
         "showlegend": true,
         "type": "scatter",
         "x": [
          0.6351106953539133
         ],
         "xaxis": "x",
         "y": [
          0.6521369891504039
         ],
         "yaxis": "y"
        },
        {
         "alignmentgroup": "True",
         "bingroup": "y",
         "hovertemplate": "test=0005<br>f1=%{y}<br>count=%{x}<extra></extra>",
         "legendgroup": "0005",
         "marker": {
          "color": "#ab63fa"
         },
         "name": "0005",
         "offsetgroup": "0005",
         "opacity": 0.5,
         "showlegend": false,
         "type": "histogram",
         "xaxis": "x2",
         "y": [
          0.6521369891504039
         ],
         "yaxis": "y2"
        },
        {
         "hovertemplate": "<b>%{hovertext}</b><br><br>test=0006<br>rawF1=%{x}<br>f1=%{y}<extra></extra>",
         "hovertext": [
          "32c9793a-2115-4e77-8b6f-e8f71d09cecb"
         ],
         "legendgroup": "0006",
         "marker": {
          "color": "#FFA15A",
          "symbol": "circle"
         },
         "mode": "markers",
         "name": "0006",
         "orientation": "v",
         "showlegend": true,
         "type": "scatter",
         "x": [
          0.6178660049627791
         ],
         "xaxis": "x",
         "y": [
          0.6394397969733998
         ],
         "yaxis": "y"
        },
        {
         "alignmentgroup": "True",
         "bingroup": "y",
         "hovertemplate": "test=0006<br>f1=%{y}<br>count=%{x}<extra></extra>",
         "legendgroup": "0006",
         "marker": {
          "color": "#FFA15A"
         },
         "name": "0006",
         "offsetgroup": "0006",
         "opacity": 0.5,
         "showlegend": false,
         "type": "histogram",
         "xaxis": "x2",
         "y": [
          0.6394397969733998
         ],
         "yaxis": "y2"
        },
        {
         "hovertemplate": "<b>%{hovertext}</b><br><br>test=0007<br>rawF1=%{x}<br>f1=%{y}<extra></extra>",
         "hovertext": [
          "241d9889-61ff-47f7-97c2-f502ae3dba38"
         ],
         "legendgroup": "0007",
         "marker": {
          "color": "#19d3f3",
          "symbol": "circle"
         },
         "mode": "markers",
         "name": "0007",
         "orientation": "v",
         "showlegend": true,
         "type": "scatter",
         "x": [
          0.6423564641119931
         ],
         "xaxis": "x",
         "y": [
          0.6422380453247551
         ],
         "yaxis": "y"
        },
        {
         "alignmentgroup": "True",
         "bingroup": "y",
         "hovertemplate": "test=0007<br>f1=%{y}<br>count=%{x}<extra></extra>",
         "legendgroup": "0007",
         "marker": {
          "color": "#19d3f3"
         },
         "name": "0007",
         "offsetgroup": "0007",
         "opacity": 0.5,
         "showlegend": false,
         "type": "histogram",
         "xaxis": "x2",
         "y": [
          0.6422380453247551
         ],
         "yaxis": "y2"
        },
        {
         "hovertemplate": "<b>%{hovertext}</b><br><br>test=0009<br>rawF1=%{x}<br>f1=%{y}<extra></extra>",
         "hovertext": [
          "f6a46037-1f32-40b5-a6ff-cd293b0e4203"
         ],
         "legendgroup": "0009",
         "marker": {
          "color": "#FF6692",
          "symbol": "circle"
         },
         "mode": "markers",
         "name": "0009",
         "orientation": "v",
         "showlegend": true,
         "type": "scatter",
         "x": [
          0.6220006722160869
         ],
         "xaxis": "x",
         "y": [
          0.6607507200515808
         ],
         "yaxis": "y"
        },
        {
         "alignmentgroup": "True",
         "bingroup": "y",
         "hovertemplate": "test=0009<br>f1=%{y}<br>count=%{x}<extra></extra>",
         "legendgroup": "0009",
         "marker": {
          "color": "#FF6692"
         },
         "name": "0009",
         "offsetgroup": "0009",
         "opacity": 0.5,
         "showlegend": false,
         "type": "histogram",
         "xaxis": "x2",
         "y": [
          0.6607507200515808
         ],
         "yaxis": "y2"
        },
        {
         "hovertemplate": "<b>%{hovertext}</b><br><br>test=0010<br>rawF1=%{x}<br>f1=%{y}<extra></extra>",
         "hovertext": [
          "6cfc1f74-3653-47eb-a166-f59fefa13825"
         ],
         "legendgroup": "0010",
         "marker": {
          "color": "#B6E880",
          "symbol": "circle"
         },
         "mode": "markers",
         "name": "0010",
         "orientation": "v",
         "showlegend": true,
         "type": "scatter",
         "x": [
          0.7279481268967347
         ],
         "xaxis": "x",
         "y": [
          0.7461418962400652
         ],
         "yaxis": "y"
        },
        {
         "alignmentgroup": "True",
         "bingroup": "y",
         "hovertemplate": "test=0010<br>f1=%{y}<br>count=%{x}<extra></extra>",
         "legendgroup": "0010",
         "marker": {
          "color": "#B6E880"
         },
         "name": "0010",
         "offsetgroup": "0010",
         "opacity": 0.5,
         "showlegend": false,
         "type": "histogram",
         "xaxis": "x2",
         "y": [
          0.7461418962400652
         ],
         "yaxis": "y2"
        },
        {
         "hovertemplate": "<b>%{hovertext}</b><br><br>test=0011<br>rawF1=%{x}<br>f1=%{y}<extra></extra>",
         "hovertext": [
          "68c5483d-9072-4478-8a87-a7af3324f690"
         ],
         "legendgroup": "0011",
         "marker": {
          "color": "#FF97FF",
          "symbol": "circle"
         },
         "mode": "markers",
         "name": "0011",
         "orientation": "v",
         "showlegend": true,
         "type": "scatter",
         "x": [
          0.6670589083786626
         ],
         "xaxis": "x",
         "y": [
          0.6695409029689056
         ],
         "yaxis": "y"
        },
        {
         "alignmentgroup": "True",
         "bingroup": "y",
         "hovertemplate": "test=0011<br>f1=%{y}<br>count=%{x}<extra></extra>",
         "legendgroup": "0011",
         "marker": {
          "color": "#FF97FF"
         },
         "name": "0011",
         "offsetgroup": "0011",
         "opacity": 0.5,
         "showlegend": false,
         "type": "histogram",
         "xaxis": "x2",
         "y": [
          0.6695409029689056
         ],
         "yaxis": "y2"
        },
        {
         "hovertemplate": "<b>%{hovertext}</b><br><br>test=0012<br>rawF1=%{x}<br>f1=%{y}<extra></extra>",
         "hovertext": [
          "349fe35c-b749-431d-8e8c-c288b150e998"
         ],
         "legendgroup": "0012",
         "marker": {
          "color": "#FECB52",
          "symbol": "circle"
         },
         "mode": "markers",
         "name": "0012",
         "orientation": "v",
         "showlegend": true,
         "type": "scatter",
         "x": [
          0.6879056934567315
         ],
         "xaxis": "x",
         "y": [
          0.7062767246701576
         ],
         "yaxis": "y"
        },
        {
         "alignmentgroup": "True",
         "bingroup": "y",
         "hovertemplate": "test=0012<br>f1=%{y}<br>count=%{x}<extra></extra>",
         "legendgroup": "0012",
         "marker": {
          "color": "#FECB52"
         },
         "name": "0012",
         "offsetgroup": "0012",
         "opacity": 0.5,
         "showlegend": false,
         "type": "histogram",
         "xaxis": "x2",
         "y": [
          0.7062767246701576
         ],
         "yaxis": "y2"
        },
        {
         "hovertemplate": "<b>%{hovertext}</b><br><br>test=0013<br>rawF1=%{x}<br>f1=%{y}<extra></extra>",
         "hovertext": [
          "4babfd03-bb9d-4dd2-a829-ad9de3f05932"
         ],
         "legendgroup": "0013",
         "marker": {
          "color": "#636efa",
          "symbol": "circle"
         },
         "mode": "markers",
         "name": "0013",
         "orientation": "v",
         "showlegend": true,
         "type": "scatter",
         "x": [
          0.6956350042123
         ],
         "xaxis": "x",
         "y": [
          0.6948531381267351
         ],
         "yaxis": "y"
        },
        {
         "alignmentgroup": "True",
         "bingroup": "y",
         "hovertemplate": "test=0013<br>f1=%{y}<br>count=%{x}<extra></extra>",
         "legendgroup": "0013",
         "marker": {
          "color": "#636efa"
         },
         "name": "0013",
         "offsetgroup": "0013",
         "opacity": 0.5,
         "showlegend": false,
         "type": "histogram",
         "xaxis": "x2",
         "y": [
          0.6948531381267351
         ],
         "yaxis": "y2"
        },
        {
         "hovertemplate": "<b>%{hovertext}</b><br><br>test=0014<br>rawF1=%{x}<br>f1=%{y}<extra></extra>",
         "hovertext": [
          "8b17d41d-edbb-461c-87d2-300850772dae"
         ],
         "legendgroup": "0014",
         "marker": {
          "color": "#EF553B",
          "symbol": "circle"
         },
         "mode": "markers",
         "name": "0014",
         "orientation": "v",
         "showlegend": true,
         "type": "scatter",
         "x": [
          0.5108574241305541
         ],
         "xaxis": "x",
         "y": [
          0.4958346690988888
         ],
         "yaxis": "y"
        },
        {
         "alignmentgroup": "True",
         "bingroup": "y",
         "hovertemplate": "test=0014<br>f1=%{y}<br>count=%{x}<extra></extra>",
         "legendgroup": "0014",
         "marker": {
          "color": "#EF553B"
         },
         "name": "0014",
         "offsetgroup": "0014",
         "opacity": 0.5,
         "showlegend": false,
         "type": "histogram",
         "xaxis": "x2",
         "y": [
          0.4958346690988888
         ],
         "yaxis": "y2"
        },
        {
         "hovertemplate": "<b>%{hovertext}</b><br><br>test=0017<br>rawF1=%{x}<br>f1=%{y}<extra></extra>",
         "hovertext": [
          "0363bbae-1f8e-4b17-9c0c-12617bda2825"
         ],
         "legendgroup": "0017",
         "marker": {
          "color": "#00cc96",
          "symbol": "circle"
         },
         "mode": "markers",
         "name": "0017",
         "orientation": "v",
         "showlegend": true,
         "type": "scatter",
         "x": [
          0.6176505402708964
         ],
         "xaxis": "x",
         "y": [
          0.6427449318006134
         ],
         "yaxis": "y"
        },
        {
         "alignmentgroup": "True",
         "bingroup": "y",
         "hovertemplate": "test=0017<br>f1=%{y}<br>count=%{x}<extra></extra>",
         "legendgroup": "0017",
         "marker": {
          "color": "#00cc96"
         },
         "name": "0017",
         "offsetgroup": "0017",
         "opacity": 0.5,
         "showlegend": false,
         "type": "histogram",
         "xaxis": "x2",
         "y": [
          0.6427449318006134
         ],
         "yaxis": "y2"
        },
        {
         "hovertemplate": "<b>%{hovertext}</b><br><br>test=0018<br>rawF1=%{x}<br>f1=%{y}<extra></extra>",
         "hovertext": [
          "3ab00c3d-e088-430b-81c0-65466ec51055"
         ],
         "legendgroup": "0018",
         "marker": {
          "color": "#ab63fa",
          "symbol": "circle"
         },
         "mode": "markers",
         "name": "0018",
         "orientation": "v",
         "showlegend": true,
         "type": "scatter",
         "x": [
          0.6769625688975788
         ],
         "xaxis": "x",
         "y": [
          0.7004389001678147
         ],
         "yaxis": "y"
        },
        {
         "alignmentgroup": "True",
         "bingroup": "y",
         "hovertemplate": "test=0018<br>f1=%{y}<br>count=%{x}<extra></extra>",
         "legendgroup": "0018",
         "marker": {
          "color": "#ab63fa"
         },
         "name": "0018",
         "offsetgroup": "0018",
         "opacity": 0.5,
         "showlegend": false,
         "type": "histogram",
         "xaxis": "x2",
         "y": [
          0.7004389001678147
         ],
         "yaxis": "y2"
        },
        {
         "hovertemplate": "<b>%{hovertext}</b><br><br>test=0019<br>rawF1=%{x}<br>f1=%{y}<extra></extra>",
         "hovertext": [
          "a223e573-b48d-418b-a3d3-7c7ae2c5dee7"
         ],
         "legendgroup": "0019",
         "marker": {
          "color": "#FFA15A",
          "symbol": "circle"
         },
         "mode": "markers",
         "name": "0019",
         "orientation": "v",
         "showlegend": true,
         "type": "scatter",
         "x": [
          0.5072800685182919
         ],
         "xaxis": "x",
         "y": [
          0.5023287849106028
         ],
         "yaxis": "y"
        },
        {
         "alignmentgroup": "True",
         "bingroup": "y",
         "hovertemplate": "test=0019<br>f1=%{y}<br>count=%{x}<extra></extra>",
         "legendgroup": "0019",
         "marker": {
          "color": "#FFA15A"
         },
         "name": "0019",
         "offsetgroup": "0019",
         "opacity": 0.5,
         "showlegend": false,
         "type": "histogram",
         "xaxis": "x2",
         "y": [
          0.5023287849106028
         ],
         "yaxis": "y2"
        },
        {
         "fill": "toself",
         "mode": "lines",
         "name": "identity",
         "type": "scatter",
         "x": [
          0.4390678571751658,
          0.7129993950781848,
          0.6542662975081802,
          0.6351106953539133,
          0.6178660049627791,
          0.6423564641119931,
          0.6220006722160869,
          0.7279481268967347,
          0.6670589083786626,
          0.6879056934567315,
          0.6956350042123,
          0.5108574241305541,
          0.6176505402708964,
          0.6769625688975788,
          0.5072800685182919
         ],
         "y": [
          0.4390678571751658,
          0.7129993950781848,
          0.6542662975081802,
          0.6351106953539133,
          0.6178660049627791,
          0.6423564641119931,
          0.6220006722160869,
          0.7279481268967347,
          0.6670589083786626,
          0.6879056934567315,
          0.6956350042123,
          0.5108574241305541,
          0.6176505402708964,
          0.6769625688975788,
          0.5072800685182919
         ]
        }
       ],
       "layout": {
        "barmode": "overlay",
        "legend": {
         "title": {
          "text": "test"
         },
         "tracegroupgap": 0
        },
        "margin": {
         "t": 60
        },
        "template": {
         "data": {
          "bar": [
           {
            "error_x": {
             "color": "#2a3f5f"
            },
            "error_y": {
             "color": "#2a3f5f"
            },
            "marker": {
             "line": {
              "color": "#E5ECF6",
              "width": 0.5
             },
             "pattern": {
              "fillmode": "overlay",
              "size": 10,
              "solidity": 0.2
             }
            },
            "type": "bar"
           }
          ],
          "barpolar": [
           {
            "marker": {
             "line": {
              "color": "#E5ECF6",
              "width": 0.5
             },
             "pattern": {
              "fillmode": "overlay",
              "size": 10,
              "solidity": 0.2
             }
            },
            "type": "barpolar"
           }
          ],
          "carpet": [
           {
            "aaxis": {
             "endlinecolor": "#2a3f5f",
             "gridcolor": "white",
             "linecolor": "white",
             "minorgridcolor": "white",
             "startlinecolor": "#2a3f5f"
            },
            "baxis": {
             "endlinecolor": "#2a3f5f",
             "gridcolor": "white",
             "linecolor": "white",
             "minorgridcolor": "white",
             "startlinecolor": "#2a3f5f"
            },
            "type": "carpet"
           }
          ],
          "choropleth": [
           {
            "colorbar": {
             "outlinewidth": 0,
             "ticks": ""
            },
            "type": "choropleth"
           }
          ],
          "contour": [
           {
            "colorbar": {
             "outlinewidth": 0,
             "ticks": ""
            },
            "colorscale": [
             [
              0,
              "#0d0887"
             ],
             [
              0.1111111111111111,
              "#46039f"
             ],
             [
              0.2222222222222222,
              "#7201a8"
             ],
             [
              0.3333333333333333,
              "#9c179e"
             ],
             [
              0.4444444444444444,
              "#bd3786"
             ],
             [
              0.5555555555555556,
              "#d8576b"
             ],
             [
              0.6666666666666666,
              "#ed7953"
             ],
             [
              0.7777777777777778,
              "#fb9f3a"
             ],
             [
              0.8888888888888888,
              "#fdca26"
             ],
             [
              1,
              "#f0f921"
             ]
            ],
            "type": "contour"
           }
          ],
          "contourcarpet": [
           {
            "colorbar": {
             "outlinewidth": 0,
             "ticks": ""
            },
            "type": "contourcarpet"
           }
          ],
          "heatmap": [
           {
            "colorbar": {
             "outlinewidth": 0,
             "ticks": ""
            },
            "colorscale": [
             [
              0,
              "#0d0887"
             ],
             [
              0.1111111111111111,
              "#46039f"
             ],
             [
              0.2222222222222222,
              "#7201a8"
             ],
             [
              0.3333333333333333,
              "#9c179e"
             ],
             [
              0.4444444444444444,
              "#bd3786"
             ],
             [
              0.5555555555555556,
              "#d8576b"
             ],
             [
              0.6666666666666666,
              "#ed7953"
             ],
             [
              0.7777777777777778,
              "#fb9f3a"
             ],
             [
              0.8888888888888888,
              "#fdca26"
             ],
             [
              1,
              "#f0f921"
             ]
            ],
            "type": "heatmap"
           }
          ],
          "heatmapgl": [
           {
            "colorbar": {
             "outlinewidth": 0,
             "ticks": ""
            },
            "colorscale": [
             [
              0,
              "#0d0887"
             ],
             [
              0.1111111111111111,
              "#46039f"
             ],
             [
              0.2222222222222222,
              "#7201a8"
             ],
             [
              0.3333333333333333,
              "#9c179e"
             ],
             [
              0.4444444444444444,
              "#bd3786"
             ],
             [
              0.5555555555555556,
              "#d8576b"
             ],
             [
              0.6666666666666666,
              "#ed7953"
             ],
             [
              0.7777777777777778,
              "#fb9f3a"
             ],
             [
              0.8888888888888888,
              "#fdca26"
             ],
             [
              1,
              "#f0f921"
             ]
            ],
            "type": "heatmapgl"
           }
          ],
          "histogram": [
           {
            "marker": {
             "pattern": {
              "fillmode": "overlay",
              "size": 10,
              "solidity": 0.2
             }
            },
            "type": "histogram"
           }
          ],
          "histogram2d": [
           {
            "colorbar": {
             "outlinewidth": 0,
             "ticks": ""
            },
            "colorscale": [
             [
              0,
              "#0d0887"
             ],
             [
              0.1111111111111111,
              "#46039f"
             ],
             [
              0.2222222222222222,
              "#7201a8"
             ],
             [
              0.3333333333333333,
              "#9c179e"
             ],
             [
              0.4444444444444444,
              "#bd3786"
             ],
             [
              0.5555555555555556,
              "#d8576b"
             ],
             [
              0.6666666666666666,
              "#ed7953"
             ],
             [
              0.7777777777777778,
              "#fb9f3a"
             ],
             [
              0.8888888888888888,
              "#fdca26"
             ],
             [
              1,
              "#f0f921"
             ]
            ],
            "type": "histogram2d"
           }
          ],
          "histogram2dcontour": [
           {
            "colorbar": {
             "outlinewidth": 0,
             "ticks": ""
            },
            "colorscale": [
             [
              0,
              "#0d0887"
             ],
             [
              0.1111111111111111,
              "#46039f"
             ],
             [
              0.2222222222222222,
              "#7201a8"
             ],
             [
              0.3333333333333333,
              "#9c179e"
             ],
             [
              0.4444444444444444,
              "#bd3786"
             ],
             [
              0.5555555555555556,
              "#d8576b"
             ],
             [
              0.6666666666666666,
              "#ed7953"
             ],
             [
              0.7777777777777778,
              "#fb9f3a"
             ],
             [
              0.8888888888888888,
              "#fdca26"
             ],
             [
              1,
              "#f0f921"
             ]
            ],
            "type": "histogram2dcontour"
           }
          ],
          "mesh3d": [
           {
            "colorbar": {
             "outlinewidth": 0,
             "ticks": ""
            },
            "type": "mesh3d"
           }
          ],
          "parcoords": [
           {
            "line": {
             "colorbar": {
              "outlinewidth": 0,
              "ticks": ""
             }
            },
            "type": "parcoords"
           }
          ],
          "pie": [
           {
            "automargin": true,
            "type": "pie"
           }
          ],
          "scatter": [
           {
            "fillpattern": {
             "fillmode": "overlay",
             "size": 10,
             "solidity": 0.2
            },
            "type": "scatter"
           }
          ],
          "scatter3d": [
           {
            "line": {
             "colorbar": {
              "outlinewidth": 0,
              "ticks": ""
             }
            },
            "marker": {
             "colorbar": {
              "outlinewidth": 0,
              "ticks": ""
             }
            },
            "type": "scatter3d"
           }
          ],
          "scattercarpet": [
           {
            "marker": {
             "colorbar": {
              "outlinewidth": 0,
              "ticks": ""
             }
            },
            "type": "scattercarpet"
           }
          ],
          "scattergeo": [
           {
            "marker": {
             "colorbar": {
              "outlinewidth": 0,
              "ticks": ""
             }
            },
            "type": "scattergeo"
           }
          ],
          "scattergl": [
           {
            "marker": {
             "colorbar": {
              "outlinewidth": 0,
              "ticks": ""
             }
            },
            "type": "scattergl"
           }
          ],
          "scattermapbox": [
           {
            "marker": {
             "colorbar": {
              "outlinewidth": 0,
              "ticks": ""
             }
            },
            "type": "scattermapbox"
           }
          ],
          "scatterpolar": [
           {
            "marker": {
             "colorbar": {
              "outlinewidth": 0,
              "ticks": ""
             }
            },
            "type": "scatterpolar"
           }
          ],
          "scatterpolargl": [
           {
            "marker": {
             "colorbar": {
              "outlinewidth": 0,
              "ticks": ""
             }
            },
            "type": "scatterpolargl"
           }
          ],
          "scatterternary": [
           {
            "marker": {
             "colorbar": {
              "outlinewidth": 0,
              "ticks": ""
             }
            },
            "type": "scatterternary"
           }
          ],
          "surface": [
           {
            "colorbar": {
             "outlinewidth": 0,
             "ticks": ""
            },
            "colorscale": [
             [
              0,
              "#0d0887"
             ],
             [
              0.1111111111111111,
              "#46039f"
             ],
             [
              0.2222222222222222,
              "#7201a8"
             ],
             [
              0.3333333333333333,
              "#9c179e"
             ],
             [
              0.4444444444444444,
              "#bd3786"
             ],
             [
              0.5555555555555556,
              "#d8576b"
             ],
             [
              0.6666666666666666,
              "#ed7953"
             ],
             [
              0.7777777777777778,
              "#fb9f3a"
             ],
             [
              0.8888888888888888,
              "#fdca26"
             ],
             [
              1,
              "#f0f921"
             ]
            ],
            "type": "surface"
           }
          ],
          "table": [
           {
            "cells": {
             "fill": {
              "color": "#EBF0F8"
             },
             "line": {
              "color": "white"
             }
            },
            "header": {
             "fill": {
              "color": "#C8D4E3"
             },
             "line": {
              "color": "white"
             }
            },
            "type": "table"
           }
          ]
         },
         "layout": {
          "annotationdefaults": {
           "arrowcolor": "#2a3f5f",
           "arrowhead": 0,
           "arrowwidth": 1
          },
          "autotypenumbers": "strict",
          "coloraxis": {
           "colorbar": {
            "outlinewidth": 0,
            "ticks": ""
           }
          },
          "colorscale": {
           "diverging": [
            [
             0,
             "#8e0152"
            ],
            [
             0.1,
             "#c51b7d"
            ],
            [
             0.2,
             "#de77ae"
            ],
            [
             0.3,
             "#f1b6da"
            ],
            [
             0.4,
             "#fde0ef"
            ],
            [
             0.5,
             "#f7f7f7"
            ],
            [
             0.6,
             "#e6f5d0"
            ],
            [
             0.7,
             "#b8e186"
            ],
            [
             0.8,
             "#7fbc41"
            ],
            [
             0.9,
             "#4d9221"
            ],
            [
             1,
             "#276419"
            ]
           ],
           "sequential": [
            [
             0,
             "#0d0887"
            ],
            [
             0.1111111111111111,
             "#46039f"
            ],
            [
             0.2222222222222222,
             "#7201a8"
            ],
            [
             0.3333333333333333,
             "#9c179e"
            ],
            [
             0.4444444444444444,
             "#bd3786"
            ],
            [
             0.5555555555555556,
             "#d8576b"
            ],
            [
             0.6666666666666666,
             "#ed7953"
            ],
            [
             0.7777777777777778,
             "#fb9f3a"
            ],
            [
             0.8888888888888888,
             "#fdca26"
            ],
            [
             1,
             "#f0f921"
            ]
           ],
           "sequentialminus": [
            [
             0,
             "#0d0887"
            ],
            [
             0.1111111111111111,
             "#46039f"
            ],
            [
             0.2222222222222222,
             "#7201a8"
            ],
            [
             0.3333333333333333,
             "#9c179e"
            ],
            [
             0.4444444444444444,
             "#bd3786"
            ],
            [
             0.5555555555555556,
             "#d8576b"
            ],
            [
             0.6666666666666666,
             "#ed7953"
            ],
            [
             0.7777777777777778,
             "#fb9f3a"
            ],
            [
             0.8888888888888888,
             "#fdca26"
            ],
            [
             1,
             "#f0f921"
            ]
           ]
          },
          "colorway": [
           "#636efa",
           "#EF553B",
           "#00cc96",
           "#ab63fa",
           "#FFA15A",
           "#19d3f3",
           "#FF6692",
           "#B6E880",
           "#FF97FF",
           "#FECB52"
          ],
          "font": {
           "color": "#2a3f5f"
          },
          "geo": {
           "bgcolor": "white",
           "lakecolor": "white",
           "landcolor": "#E5ECF6",
           "showlakes": true,
           "showland": true,
           "subunitcolor": "white"
          },
          "hoverlabel": {
           "align": "left"
          },
          "hovermode": "closest",
          "mapbox": {
           "style": "light"
          },
          "paper_bgcolor": "white",
          "plot_bgcolor": "#E5ECF6",
          "polar": {
           "angularaxis": {
            "gridcolor": "white",
            "linecolor": "white",
            "ticks": ""
           },
           "bgcolor": "#E5ECF6",
           "radialaxis": {
            "gridcolor": "white",
            "linecolor": "white",
            "ticks": ""
           }
          },
          "scene": {
           "xaxis": {
            "backgroundcolor": "#E5ECF6",
            "gridcolor": "white",
            "gridwidth": 2,
            "linecolor": "white",
            "showbackground": true,
            "ticks": "",
            "zerolinecolor": "white"
           },
           "yaxis": {
            "backgroundcolor": "#E5ECF6",
            "gridcolor": "white",
            "gridwidth": 2,
            "linecolor": "white",
            "showbackground": true,
            "ticks": "",
            "zerolinecolor": "white"
           },
           "zaxis": {
            "backgroundcolor": "#E5ECF6",
            "gridcolor": "white",
            "gridwidth": 2,
            "linecolor": "white",
            "showbackground": true,
            "ticks": "",
            "zerolinecolor": "white"
           }
          },
          "shapedefaults": {
           "line": {
            "color": "#2a3f5f"
           }
          },
          "ternary": {
           "aaxis": {
            "gridcolor": "white",
            "linecolor": "white",
            "ticks": ""
           },
           "baxis": {
            "gridcolor": "white",
            "linecolor": "white",
            "ticks": ""
           },
           "bgcolor": "#E5ECF6",
           "caxis": {
            "gridcolor": "white",
            "linecolor": "white",
            "ticks": ""
           }
          },
          "title": {
           "x": 0.05
          },
          "xaxis": {
           "automargin": true,
           "gridcolor": "white",
           "linecolor": "white",
           "ticks": "",
           "title": {
            "standoff": 15
           },
           "zerolinecolor": "white",
           "zerolinewidth": 2
          },
          "yaxis": {
           "automargin": true,
           "gridcolor": "white",
           "linecolor": "white",
           "ticks": "",
           "title": {
            "standoff": 15
           },
           "zerolinecolor": "white",
           "zerolinewidth": 2
          }
         }
        },
        "xaxis": {
         "anchor": "y",
         "domain": [
          0,
          0.7363
         ],
         "title": {
          "text": "rawF1"
         }
        },
        "xaxis2": {
         "anchor": "y2",
         "domain": [
          0.7413,
          1
         ],
         "matches": "x2",
         "showgrid": true,
         "showline": false,
         "showticklabels": false,
         "ticks": ""
        },
        "yaxis": {
         "anchor": "x",
         "domain": [
          0,
          1
         ],
         "title": {
          "text": "f1"
         }
        },
        "yaxis2": {
         "anchor": "x2",
         "domain": [
          0,
          1
         ],
         "matches": "y",
         "showgrid": true,
         "showticklabels": false
        }
       }
      }
     },
     "metadata": {},
     "output_type": "display_data"
    }
   ],
   "source": [
    "fig=px.scatter(experimentModels_N2,x='rawF1',y='f1',color='test',hover_name='modelId', marginal_y=\"histogram\")\n",
    "fig.add_trace(\n",
    "    go.Scatter(x=experimentModels_N2['rawF1'], y=experimentModels_N2['rawF1'], name=\"identity\", mode='lines',fill=\"toself\")\n",
    ")\n",
    "fig.show()"
   ]
  },
  {
   "cell_type": "code",
   "execution_count": 37,
   "metadata": {},
   "outputs": [
    {
     "data": {
      "application/vnd.plotly.v1+json": {
       "config": {
        "plotlyServerURL": "https://plot.ly"
       },
       "data": [
        {
         "hovertemplate": "<b>%{hovertext}</b><br><br>test=0001<br>rawF1=%{x}<br>eventF1=%{y}<extra></extra>",
         "hovertext": [
          "9e4dd9bb-a7d9-4ee8-a762-d656d8308d91"
         ],
         "legendgroup": "0001",
         "marker": {
          "color": "#636efa",
          "symbol": "circle"
         },
         "mode": "markers",
         "name": "0001",
         "orientation": "v",
         "showlegend": true,
         "type": "scatter",
         "x": [
          0.4390678571751658
         ],
         "xaxis": "x",
         "y": [
          0.5942320590207915
         ],
         "yaxis": "y"
        },
        {
         "alignmentgroup": "True",
         "bingroup": "y",
         "hovertemplate": "test=0001<br>eventF1=%{y}<br>count=%{x}<extra></extra>",
         "legendgroup": "0001",
         "marker": {
          "color": "#636efa"
         },
         "name": "0001",
         "offsetgroup": "0001",
         "opacity": 0.5,
         "showlegend": false,
         "type": "histogram",
         "xaxis": "x2",
         "y": [
          0.5942320590207915
         ],
         "yaxis": "y2"
        },
        {
         "hovertemplate": "<b>%{hovertext}</b><br><br>test=0002<br>rawF1=%{x}<br>eventF1=%{y}<extra></extra>",
         "hovertext": [
          "5e1bcb8a-f879-4f42-ae21-0e1ae715095f"
         ],
         "legendgroup": "0002",
         "marker": {
          "color": "#EF553B",
          "symbol": "circle"
         },
         "mode": "markers",
         "name": "0002",
         "orientation": "v",
         "showlegend": true,
         "type": "scatter",
         "x": [
          0.7129993950781848
         ],
         "xaxis": "x",
         "y": [
          0.7768860353130016
         ],
         "yaxis": "y"
        },
        {
         "alignmentgroup": "True",
         "bingroup": "y",
         "hovertemplate": "test=0002<br>eventF1=%{y}<br>count=%{x}<extra></extra>",
         "legendgroup": "0002",
         "marker": {
          "color": "#EF553B"
         },
         "name": "0002",
         "offsetgroup": "0002",
         "opacity": 0.5,
         "showlegend": false,
         "type": "histogram",
         "xaxis": "x2",
         "y": [
          0.7768860353130016
         ],
         "yaxis": "y2"
        },
        {
         "hovertemplate": "<b>%{hovertext}</b><br><br>test=0003<br>rawF1=%{x}<br>eventF1=%{y}<extra></extra>",
         "hovertext": [
          "2ecef3ee-0879-42d7-bcf0-ecfa0e3e601a"
         ],
         "legendgroup": "0003",
         "marker": {
          "color": "#00cc96",
          "symbol": "circle"
         },
         "mode": "markers",
         "name": "0003",
         "orientation": "v",
         "showlegend": true,
         "type": "scatter",
         "x": [
          0.6542662975081802
         ],
         "xaxis": "x",
         "y": [
          0.7102803738317757
         ],
         "yaxis": "y"
        },
        {
         "alignmentgroup": "True",
         "bingroup": "y",
         "hovertemplate": "test=0003<br>eventF1=%{y}<br>count=%{x}<extra></extra>",
         "legendgroup": "0003",
         "marker": {
          "color": "#00cc96"
         },
         "name": "0003",
         "offsetgroup": "0003",
         "opacity": 0.5,
         "showlegend": false,
         "type": "histogram",
         "xaxis": "x2",
         "y": [
          0.7102803738317757
         ],
         "yaxis": "y2"
        },
        {
         "hovertemplate": "<b>%{hovertext}</b><br><br>test=0005<br>rawF1=%{x}<br>eventF1=%{y}<extra></extra>",
         "hovertext": [
          "52b0d6a8-7f01-4694-85d4-14ef17a025b9"
         ],
         "legendgroup": "0005",
         "marker": {
          "color": "#ab63fa",
          "symbol": "circle"
         },
         "mode": "markers",
         "name": "0005",
         "orientation": "v",
         "showlegend": true,
         "type": "scatter",
         "x": [
          0.6351106953539133
         ],
         "xaxis": "x",
         "y": [
          0.6873614190687362
         ],
         "yaxis": "y"
        },
        {
         "alignmentgroup": "True",
         "bingroup": "y",
         "hovertemplate": "test=0005<br>eventF1=%{y}<br>count=%{x}<extra></extra>",
         "legendgroup": "0005",
         "marker": {
          "color": "#ab63fa"
         },
         "name": "0005",
         "offsetgroup": "0005",
         "opacity": 0.5,
         "showlegend": false,
         "type": "histogram",
         "xaxis": "x2",
         "y": [
          0.6873614190687362
         ],
         "yaxis": "y2"
        },
        {
         "hovertemplate": "<b>%{hovertext}</b><br><br>test=0006<br>rawF1=%{x}<br>eventF1=%{y}<extra></extra>",
         "hovertext": [
          "32c9793a-2115-4e77-8b6f-e8f71d09cecb"
         ],
         "legendgroup": "0006",
         "marker": {
          "color": "#FFA15A",
          "symbol": "circle"
         },
         "mode": "markers",
         "name": "0006",
         "orientation": "v",
         "showlegend": true,
         "type": "scatter",
         "x": [
          0.6178660049627791
         ],
         "xaxis": "x",
         "y": [
          0.7051671732522796
         ],
         "yaxis": "y"
        },
        {
         "alignmentgroup": "True",
         "bingroup": "y",
         "hovertemplate": "test=0006<br>eventF1=%{y}<br>count=%{x}<extra></extra>",
         "legendgroup": "0006",
         "marker": {
          "color": "#FFA15A"
         },
         "name": "0006",
         "offsetgroup": "0006",
         "opacity": 0.5,
         "showlegend": false,
         "type": "histogram",
         "xaxis": "x2",
         "y": [
          0.7051671732522796
         ],
         "yaxis": "y2"
        },
        {
         "hovertemplate": "<b>%{hovertext}</b><br><br>test=0007<br>rawF1=%{x}<br>eventF1=%{y}<extra></extra>",
         "hovertext": [
          "241d9889-61ff-47f7-97c2-f502ae3dba38"
         ],
         "legendgroup": "0007",
         "marker": {
          "color": "#19d3f3",
          "symbol": "circle"
         },
         "mode": "markers",
         "name": "0007",
         "orientation": "v",
         "showlegend": true,
         "type": "scatter",
         "x": [
          0.6423564641119931
         ],
         "xaxis": "x",
         "y": [
          0.7042079207920792
         ],
         "yaxis": "y"
        },
        {
         "alignmentgroup": "True",
         "bingroup": "y",
         "hovertemplate": "test=0007<br>eventF1=%{y}<br>count=%{x}<extra></extra>",
         "legendgroup": "0007",
         "marker": {
          "color": "#19d3f3"
         },
         "name": "0007",
         "offsetgroup": "0007",
         "opacity": 0.5,
         "showlegend": false,
         "type": "histogram",
         "xaxis": "x2",
         "y": [
          0.7042079207920792
         ],
         "yaxis": "y2"
        },
        {
         "hovertemplate": "<b>%{hovertext}</b><br><br>test=0009<br>rawF1=%{x}<br>eventF1=%{y}<extra></extra>",
         "hovertext": [
          "f6a46037-1f32-40b5-a6ff-cd293b0e4203"
         ],
         "legendgroup": "0009",
         "marker": {
          "color": "#FF6692",
          "symbol": "circle"
         },
         "mode": "markers",
         "name": "0009",
         "orientation": "v",
         "showlegend": true,
         "type": "scatter",
         "x": [
          0.6220006722160869
         ],
         "xaxis": "x",
         "y": [
          0.7987637362637363
         ],
         "yaxis": "y"
        },
        {
         "alignmentgroup": "True",
         "bingroup": "y",
         "hovertemplate": "test=0009<br>eventF1=%{y}<br>count=%{x}<extra></extra>",
         "legendgroup": "0009",
         "marker": {
          "color": "#FF6692"
         },
         "name": "0009",
         "offsetgroup": "0009",
         "opacity": 0.5,
         "showlegend": false,
         "type": "histogram",
         "xaxis": "x2",
         "y": [
          0.7987637362637363
         ],
         "yaxis": "y2"
        },
        {
         "hovertemplate": "<b>%{hovertext}</b><br><br>test=0010<br>rawF1=%{x}<br>eventF1=%{y}<extra></extra>",
         "hovertext": [
          "6cfc1f74-3653-47eb-a166-f59fefa13825"
         ],
         "legendgroup": "0010",
         "marker": {
          "color": "#B6E880",
          "symbol": "circle"
         },
         "mode": "markers",
         "name": "0010",
         "orientation": "v",
         "showlegend": true,
         "type": "scatter",
         "x": [
          0.7279481268967347
         ],
         "xaxis": "x",
         "y": [
          0.8326359832635983
         ],
         "yaxis": "y"
        },
        {
         "alignmentgroup": "True",
         "bingroup": "y",
         "hovertemplate": "test=0010<br>eventF1=%{y}<br>count=%{x}<extra></extra>",
         "legendgroup": "0010",
         "marker": {
          "color": "#B6E880"
         },
         "name": "0010",
         "offsetgroup": "0010",
         "opacity": 0.5,
         "showlegend": false,
         "type": "histogram",
         "xaxis": "x2",
         "y": [
          0.8326359832635983
         ],
         "yaxis": "y2"
        },
        {
         "hovertemplate": "<b>%{hovertext}</b><br><br>test=0011<br>rawF1=%{x}<br>eventF1=%{y}<extra></extra>",
         "hovertext": [
          "68c5483d-9072-4478-8a87-a7af3324f690"
         ],
         "legendgroup": "0011",
         "marker": {
          "color": "#FF97FF",
          "symbol": "circle"
         },
         "mode": "markers",
         "name": "0011",
         "orientation": "v",
         "showlegend": true,
         "type": "scatter",
         "x": [
          0.6670589083786626
         ],
         "xaxis": "x",
         "y": [
          0.6841477949940405
         ],
         "yaxis": "y"
        },
        {
         "alignmentgroup": "True",
         "bingroup": "y",
         "hovertemplate": "test=0011<br>eventF1=%{y}<br>count=%{x}<extra></extra>",
         "legendgroup": "0011",
         "marker": {
          "color": "#FF97FF"
         },
         "name": "0011",
         "offsetgroup": "0011",
         "opacity": 0.5,
         "showlegend": false,
         "type": "histogram",
         "xaxis": "x2",
         "y": [
          0.6841477949940405
         ],
         "yaxis": "y2"
        },
        {
         "hovertemplate": "<b>%{hovertext}</b><br><br>test=0012<br>rawF1=%{x}<br>eventF1=%{y}<extra></extra>",
         "hovertext": [
          "349fe35c-b749-431d-8e8c-c288b150e998"
         ],
         "legendgroup": "0012",
         "marker": {
          "color": "#FECB52",
          "symbol": "circle"
         },
         "mode": "markers",
         "name": "0012",
         "orientation": "v",
         "showlegend": true,
         "type": "scatter",
         "x": [
          0.6879056934567315
         ],
         "xaxis": "x",
         "y": [
          0.7927927927927928
         ],
         "yaxis": "y"
        },
        {
         "alignmentgroup": "True",
         "bingroup": "y",
         "hovertemplate": "test=0012<br>eventF1=%{y}<br>count=%{x}<extra></extra>",
         "legendgroup": "0012",
         "marker": {
          "color": "#FECB52"
         },
         "name": "0012",
         "offsetgroup": "0012",
         "opacity": 0.5,
         "showlegend": false,
         "type": "histogram",
         "xaxis": "x2",
         "y": [
          0.7927927927927928
         ],
         "yaxis": "y2"
        },
        {
         "hovertemplate": "<b>%{hovertext}</b><br><br>test=0013<br>rawF1=%{x}<br>eventF1=%{y}<extra></extra>",
         "hovertext": [
          "4babfd03-bb9d-4dd2-a829-ad9de3f05932"
         ],
         "legendgroup": "0013",
         "marker": {
          "color": "#636efa",
          "symbol": "circle"
         },
         "mode": "markers",
         "name": "0013",
         "orientation": "v",
         "showlegend": true,
         "type": "scatter",
         "x": [
          0.6956350042123
         ],
         "xaxis": "x",
         "y": [
          0.7157442235357335
         ],
         "yaxis": "y"
        },
        {
         "alignmentgroup": "True",
         "bingroup": "y",
         "hovertemplate": "test=0013<br>eventF1=%{y}<br>count=%{x}<extra></extra>",
         "legendgroup": "0013",
         "marker": {
          "color": "#636efa"
         },
         "name": "0013",
         "offsetgroup": "0013",
         "opacity": 0.5,
         "showlegend": false,
         "type": "histogram",
         "xaxis": "x2",
         "y": [
          0.7157442235357335
         ],
         "yaxis": "y2"
        },
        {
         "hovertemplate": "<b>%{hovertext}</b><br><br>test=0014<br>rawF1=%{x}<br>eventF1=%{y}<extra></extra>",
         "hovertext": [
          "8b17d41d-edbb-461c-87d2-300850772dae"
         ],
         "legendgroup": "0014",
         "marker": {
          "color": "#EF553B",
          "symbol": "circle"
         },
         "mode": "markers",
         "name": "0014",
         "orientation": "v",
         "showlegend": true,
         "type": "scatter",
         "x": [
          0.5108574241305541
         ],
         "xaxis": "x",
         "y": [
          0.5318095238095238
         ],
         "yaxis": "y"
        },
        {
         "alignmentgroup": "True",
         "bingroup": "y",
         "hovertemplate": "test=0014<br>eventF1=%{y}<br>count=%{x}<extra></extra>",
         "legendgroup": "0014",
         "marker": {
          "color": "#EF553B"
         },
         "name": "0014",
         "offsetgroup": "0014",
         "opacity": 0.5,
         "showlegend": false,
         "type": "histogram",
         "xaxis": "x2",
         "y": [
          0.5318095238095238
         ],
         "yaxis": "y2"
        },
        {
         "hovertemplate": "<b>%{hovertext}</b><br><br>test=0017<br>rawF1=%{x}<br>eventF1=%{y}<extra></extra>",
         "hovertext": [
          "0363bbae-1f8e-4b17-9c0c-12617bda2825"
         ],
         "legendgroup": "0017",
         "marker": {
          "color": "#00cc96",
          "symbol": "circle"
         },
         "mode": "markers",
         "name": "0017",
         "orientation": "v",
         "showlegend": true,
         "type": "scatter",
         "x": [
          0.6176505402708964
         ],
         "xaxis": "x",
         "y": [
          0.7539015606242497
         ],
         "yaxis": "y"
        },
        {
         "alignmentgroup": "True",
         "bingroup": "y",
         "hovertemplate": "test=0017<br>eventF1=%{y}<br>count=%{x}<extra></extra>",
         "legendgroup": "0017",
         "marker": {
          "color": "#00cc96"
         },
         "name": "0017",
         "offsetgroup": "0017",
         "opacity": 0.5,
         "showlegend": false,
         "type": "histogram",
         "xaxis": "x2",
         "y": [
          0.7539015606242497
         ],
         "yaxis": "y2"
        },
        {
         "hovertemplate": "<b>%{hovertext}</b><br><br>test=0018<br>rawF1=%{x}<br>eventF1=%{y}<extra></extra>",
         "hovertext": [
          "3ab00c3d-e088-430b-81c0-65466ec51055"
         ],
         "legendgroup": "0018",
         "marker": {
          "color": "#ab63fa",
          "symbol": "circle"
         },
         "mode": "markers",
         "name": "0018",
         "orientation": "v",
         "showlegend": true,
         "type": "scatter",
         "x": [
          0.6769625688975788
         ],
         "xaxis": "x",
         "y": [
          0.8033732800710164
         ],
         "yaxis": "y"
        },
        {
         "alignmentgroup": "True",
         "bingroup": "y",
         "hovertemplate": "test=0018<br>eventF1=%{y}<br>count=%{x}<extra></extra>",
         "legendgroup": "0018",
         "marker": {
          "color": "#ab63fa"
         },
         "name": "0018",
         "offsetgroup": "0018",
         "opacity": 0.5,
         "showlegend": false,
         "type": "histogram",
         "xaxis": "x2",
         "y": [
          0.8033732800710164
         ],
         "yaxis": "y2"
        },
        {
         "hovertemplate": "<b>%{hovertext}</b><br><br>test=0019<br>rawF1=%{x}<br>eventF1=%{y}<extra></extra>",
         "hovertext": [
          "a223e573-b48d-418b-a3d3-7c7ae2c5dee7"
         ],
         "legendgroup": "0019",
         "marker": {
          "color": "#FFA15A",
          "symbol": "circle"
         },
         "mode": "markers",
         "name": "0019",
         "orientation": "v",
         "showlegend": true,
         "type": "scatter",
         "x": [
          0.5072800685182919
         ],
         "xaxis": "x",
         "y": [
          0.4943639291465378
         ],
         "yaxis": "y"
        },
        {
         "alignmentgroup": "True",
         "bingroup": "y",
         "hovertemplate": "test=0019<br>eventF1=%{y}<br>count=%{x}<extra></extra>",
         "legendgroup": "0019",
         "marker": {
          "color": "#FFA15A"
         },
         "name": "0019",
         "offsetgroup": "0019",
         "opacity": 0.5,
         "showlegend": false,
         "type": "histogram",
         "xaxis": "x2",
         "y": [
          0.4943639291465378
         ],
         "yaxis": "y2"
        },
        {
         "fill": "toself",
         "mode": "lines",
         "name": "identity",
         "type": "scatter",
         "x": [
          0.4390678571751658,
          0.7129993950781848,
          0.6542662975081802,
          0.6351106953539133,
          0.6178660049627791,
          0.6423564641119931,
          0.6220006722160869,
          0.7279481268967347,
          0.6670589083786626,
          0.6879056934567315,
          0.6956350042123,
          0.5108574241305541,
          0.6176505402708964,
          0.6769625688975788,
          0.5072800685182919
         ],
         "y": [
          0.4390678571751658,
          0.7129993950781848,
          0.6542662975081802,
          0.6351106953539133,
          0.6178660049627791,
          0.6423564641119931,
          0.6220006722160869,
          0.7279481268967347,
          0.6670589083786626,
          0.6879056934567315,
          0.6956350042123,
          0.5108574241305541,
          0.6176505402708964,
          0.6769625688975788,
          0.5072800685182919
         ]
        }
       ],
       "layout": {
        "barmode": "overlay",
        "legend": {
         "title": {
          "text": "test"
         },
         "tracegroupgap": 0
        },
        "margin": {
         "t": 60
        },
        "template": {
         "data": {
          "bar": [
           {
            "error_x": {
             "color": "#2a3f5f"
            },
            "error_y": {
             "color": "#2a3f5f"
            },
            "marker": {
             "line": {
              "color": "#E5ECF6",
              "width": 0.5
             },
             "pattern": {
              "fillmode": "overlay",
              "size": 10,
              "solidity": 0.2
             }
            },
            "type": "bar"
           }
          ],
          "barpolar": [
           {
            "marker": {
             "line": {
              "color": "#E5ECF6",
              "width": 0.5
             },
             "pattern": {
              "fillmode": "overlay",
              "size": 10,
              "solidity": 0.2
             }
            },
            "type": "barpolar"
           }
          ],
          "carpet": [
           {
            "aaxis": {
             "endlinecolor": "#2a3f5f",
             "gridcolor": "white",
             "linecolor": "white",
             "minorgridcolor": "white",
             "startlinecolor": "#2a3f5f"
            },
            "baxis": {
             "endlinecolor": "#2a3f5f",
             "gridcolor": "white",
             "linecolor": "white",
             "minorgridcolor": "white",
             "startlinecolor": "#2a3f5f"
            },
            "type": "carpet"
           }
          ],
          "choropleth": [
           {
            "colorbar": {
             "outlinewidth": 0,
             "ticks": ""
            },
            "type": "choropleth"
           }
          ],
          "contour": [
           {
            "colorbar": {
             "outlinewidth": 0,
             "ticks": ""
            },
            "colorscale": [
             [
              0,
              "#0d0887"
             ],
             [
              0.1111111111111111,
              "#46039f"
             ],
             [
              0.2222222222222222,
              "#7201a8"
             ],
             [
              0.3333333333333333,
              "#9c179e"
             ],
             [
              0.4444444444444444,
              "#bd3786"
             ],
             [
              0.5555555555555556,
              "#d8576b"
             ],
             [
              0.6666666666666666,
              "#ed7953"
             ],
             [
              0.7777777777777778,
              "#fb9f3a"
             ],
             [
              0.8888888888888888,
              "#fdca26"
             ],
             [
              1,
              "#f0f921"
             ]
            ],
            "type": "contour"
           }
          ],
          "contourcarpet": [
           {
            "colorbar": {
             "outlinewidth": 0,
             "ticks": ""
            },
            "type": "contourcarpet"
           }
          ],
          "heatmap": [
           {
            "colorbar": {
             "outlinewidth": 0,
             "ticks": ""
            },
            "colorscale": [
             [
              0,
              "#0d0887"
             ],
             [
              0.1111111111111111,
              "#46039f"
             ],
             [
              0.2222222222222222,
              "#7201a8"
             ],
             [
              0.3333333333333333,
              "#9c179e"
             ],
             [
              0.4444444444444444,
              "#bd3786"
             ],
             [
              0.5555555555555556,
              "#d8576b"
             ],
             [
              0.6666666666666666,
              "#ed7953"
             ],
             [
              0.7777777777777778,
              "#fb9f3a"
             ],
             [
              0.8888888888888888,
              "#fdca26"
             ],
             [
              1,
              "#f0f921"
             ]
            ],
            "type": "heatmap"
           }
          ],
          "heatmapgl": [
           {
            "colorbar": {
             "outlinewidth": 0,
             "ticks": ""
            },
            "colorscale": [
             [
              0,
              "#0d0887"
             ],
             [
              0.1111111111111111,
              "#46039f"
             ],
             [
              0.2222222222222222,
              "#7201a8"
             ],
             [
              0.3333333333333333,
              "#9c179e"
             ],
             [
              0.4444444444444444,
              "#bd3786"
             ],
             [
              0.5555555555555556,
              "#d8576b"
             ],
             [
              0.6666666666666666,
              "#ed7953"
             ],
             [
              0.7777777777777778,
              "#fb9f3a"
             ],
             [
              0.8888888888888888,
              "#fdca26"
             ],
             [
              1,
              "#f0f921"
             ]
            ],
            "type": "heatmapgl"
           }
          ],
          "histogram": [
           {
            "marker": {
             "pattern": {
              "fillmode": "overlay",
              "size": 10,
              "solidity": 0.2
             }
            },
            "type": "histogram"
           }
          ],
          "histogram2d": [
           {
            "colorbar": {
             "outlinewidth": 0,
             "ticks": ""
            },
            "colorscale": [
             [
              0,
              "#0d0887"
             ],
             [
              0.1111111111111111,
              "#46039f"
             ],
             [
              0.2222222222222222,
              "#7201a8"
             ],
             [
              0.3333333333333333,
              "#9c179e"
             ],
             [
              0.4444444444444444,
              "#bd3786"
             ],
             [
              0.5555555555555556,
              "#d8576b"
             ],
             [
              0.6666666666666666,
              "#ed7953"
             ],
             [
              0.7777777777777778,
              "#fb9f3a"
             ],
             [
              0.8888888888888888,
              "#fdca26"
             ],
             [
              1,
              "#f0f921"
             ]
            ],
            "type": "histogram2d"
           }
          ],
          "histogram2dcontour": [
           {
            "colorbar": {
             "outlinewidth": 0,
             "ticks": ""
            },
            "colorscale": [
             [
              0,
              "#0d0887"
             ],
             [
              0.1111111111111111,
              "#46039f"
             ],
             [
              0.2222222222222222,
              "#7201a8"
             ],
             [
              0.3333333333333333,
              "#9c179e"
             ],
             [
              0.4444444444444444,
              "#bd3786"
             ],
             [
              0.5555555555555556,
              "#d8576b"
             ],
             [
              0.6666666666666666,
              "#ed7953"
             ],
             [
              0.7777777777777778,
              "#fb9f3a"
             ],
             [
              0.8888888888888888,
              "#fdca26"
             ],
             [
              1,
              "#f0f921"
             ]
            ],
            "type": "histogram2dcontour"
           }
          ],
          "mesh3d": [
           {
            "colorbar": {
             "outlinewidth": 0,
             "ticks": ""
            },
            "type": "mesh3d"
           }
          ],
          "parcoords": [
           {
            "line": {
             "colorbar": {
              "outlinewidth": 0,
              "ticks": ""
             }
            },
            "type": "parcoords"
           }
          ],
          "pie": [
           {
            "automargin": true,
            "type": "pie"
           }
          ],
          "scatter": [
           {
            "fillpattern": {
             "fillmode": "overlay",
             "size": 10,
             "solidity": 0.2
            },
            "type": "scatter"
           }
          ],
          "scatter3d": [
           {
            "line": {
             "colorbar": {
              "outlinewidth": 0,
              "ticks": ""
             }
            },
            "marker": {
             "colorbar": {
              "outlinewidth": 0,
              "ticks": ""
             }
            },
            "type": "scatter3d"
           }
          ],
          "scattercarpet": [
           {
            "marker": {
             "colorbar": {
              "outlinewidth": 0,
              "ticks": ""
             }
            },
            "type": "scattercarpet"
           }
          ],
          "scattergeo": [
           {
            "marker": {
             "colorbar": {
              "outlinewidth": 0,
              "ticks": ""
             }
            },
            "type": "scattergeo"
           }
          ],
          "scattergl": [
           {
            "marker": {
             "colorbar": {
              "outlinewidth": 0,
              "ticks": ""
             }
            },
            "type": "scattergl"
           }
          ],
          "scattermapbox": [
           {
            "marker": {
             "colorbar": {
              "outlinewidth": 0,
              "ticks": ""
             }
            },
            "type": "scattermapbox"
           }
          ],
          "scatterpolar": [
           {
            "marker": {
             "colorbar": {
              "outlinewidth": 0,
              "ticks": ""
             }
            },
            "type": "scatterpolar"
           }
          ],
          "scatterpolargl": [
           {
            "marker": {
             "colorbar": {
              "outlinewidth": 0,
              "ticks": ""
             }
            },
            "type": "scatterpolargl"
           }
          ],
          "scatterternary": [
           {
            "marker": {
             "colorbar": {
              "outlinewidth": 0,
              "ticks": ""
             }
            },
            "type": "scatterternary"
           }
          ],
          "surface": [
           {
            "colorbar": {
             "outlinewidth": 0,
             "ticks": ""
            },
            "colorscale": [
             [
              0,
              "#0d0887"
             ],
             [
              0.1111111111111111,
              "#46039f"
             ],
             [
              0.2222222222222222,
              "#7201a8"
             ],
             [
              0.3333333333333333,
              "#9c179e"
             ],
             [
              0.4444444444444444,
              "#bd3786"
             ],
             [
              0.5555555555555556,
              "#d8576b"
             ],
             [
              0.6666666666666666,
              "#ed7953"
             ],
             [
              0.7777777777777778,
              "#fb9f3a"
             ],
             [
              0.8888888888888888,
              "#fdca26"
             ],
             [
              1,
              "#f0f921"
             ]
            ],
            "type": "surface"
           }
          ],
          "table": [
           {
            "cells": {
             "fill": {
              "color": "#EBF0F8"
             },
             "line": {
              "color": "white"
             }
            },
            "header": {
             "fill": {
              "color": "#C8D4E3"
             },
             "line": {
              "color": "white"
             }
            },
            "type": "table"
           }
          ]
         },
         "layout": {
          "annotationdefaults": {
           "arrowcolor": "#2a3f5f",
           "arrowhead": 0,
           "arrowwidth": 1
          },
          "autotypenumbers": "strict",
          "coloraxis": {
           "colorbar": {
            "outlinewidth": 0,
            "ticks": ""
           }
          },
          "colorscale": {
           "diverging": [
            [
             0,
             "#8e0152"
            ],
            [
             0.1,
             "#c51b7d"
            ],
            [
             0.2,
             "#de77ae"
            ],
            [
             0.3,
             "#f1b6da"
            ],
            [
             0.4,
             "#fde0ef"
            ],
            [
             0.5,
             "#f7f7f7"
            ],
            [
             0.6,
             "#e6f5d0"
            ],
            [
             0.7,
             "#b8e186"
            ],
            [
             0.8,
             "#7fbc41"
            ],
            [
             0.9,
             "#4d9221"
            ],
            [
             1,
             "#276419"
            ]
           ],
           "sequential": [
            [
             0,
             "#0d0887"
            ],
            [
             0.1111111111111111,
             "#46039f"
            ],
            [
             0.2222222222222222,
             "#7201a8"
            ],
            [
             0.3333333333333333,
             "#9c179e"
            ],
            [
             0.4444444444444444,
             "#bd3786"
            ],
            [
             0.5555555555555556,
             "#d8576b"
            ],
            [
             0.6666666666666666,
             "#ed7953"
            ],
            [
             0.7777777777777778,
             "#fb9f3a"
            ],
            [
             0.8888888888888888,
             "#fdca26"
            ],
            [
             1,
             "#f0f921"
            ]
           ],
           "sequentialminus": [
            [
             0,
             "#0d0887"
            ],
            [
             0.1111111111111111,
             "#46039f"
            ],
            [
             0.2222222222222222,
             "#7201a8"
            ],
            [
             0.3333333333333333,
             "#9c179e"
            ],
            [
             0.4444444444444444,
             "#bd3786"
            ],
            [
             0.5555555555555556,
             "#d8576b"
            ],
            [
             0.6666666666666666,
             "#ed7953"
            ],
            [
             0.7777777777777778,
             "#fb9f3a"
            ],
            [
             0.8888888888888888,
             "#fdca26"
            ],
            [
             1,
             "#f0f921"
            ]
           ]
          },
          "colorway": [
           "#636efa",
           "#EF553B",
           "#00cc96",
           "#ab63fa",
           "#FFA15A",
           "#19d3f3",
           "#FF6692",
           "#B6E880",
           "#FF97FF",
           "#FECB52"
          ],
          "font": {
           "color": "#2a3f5f"
          },
          "geo": {
           "bgcolor": "white",
           "lakecolor": "white",
           "landcolor": "#E5ECF6",
           "showlakes": true,
           "showland": true,
           "subunitcolor": "white"
          },
          "hoverlabel": {
           "align": "left"
          },
          "hovermode": "closest",
          "mapbox": {
           "style": "light"
          },
          "paper_bgcolor": "white",
          "plot_bgcolor": "#E5ECF6",
          "polar": {
           "angularaxis": {
            "gridcolor": "white",
            "linecolor": "white",
            "ticks": ""
           },
           "bgcolor": "#E5ECF6",
           "radialaxis": {
            "gridcolor": "white",
            "linecolor": "white",
            "ticks": ""
           }
          },
          "scene": {
           "xaxis": {
            "backgroundcolor": "#E5ECF6",
            "gridcolor": "white",
            "gridwidth": 2,
            "linecolor": "white",
            "showbackground": true,
            "ticks": "",
            "zerolinecolor": "white"
           },
           "yaxis": {
            "backgroundcolor": "#E5ECF6",
            "gridcolor": "white",
            "gridwidth": 2,
            "linecolor": "white",
            "showbackground": true,
            "ticks": "",
            "zerolinecolor": "white"
           },
           "zaxis": {
            "backgroundcolor": "#E5ECF6",
            "gridcolor": "white",
            "gridwidth": 2,
            "linecolor": "white",
            "showbackground": true,
            "ticks": "",
            "zerolinecolor": "white"
           }
          },
          "shapedefaults": {
           "line": {
            "color": "#2a3f5f"
           }
          },
          "ternary": {
           "aaxis": {
            "gridcolor": "white",
            "linecolor": "white",
            "ticks": ""
           },
           "baxis": {
            "gridcolor": "white",
            "linecolor": "white",
            "ticks": ""
           },
           "bgcolor": "#E5ECF6",
           "caxis": {
            "gridcolor": "white",
            "linecolor": "white",
            "ticks": ""
           }
          },
          "title": {
           "x": 0.05
          },
          "xaxis": {
           "automargin": true,
           "gridcolor": "white",
           "linecolor": "white",
           "ticks": "",
           "title": {
            "standoff": 15
           },
           "zerolinecolor": "white",
           "zerolinewidth": 2
          },
          "yaxis": {
           "automargin": true,
           "gridcolor": "white",
           "linecolor": "white",
           "ticks": "",
           "title": {
            "standoff": 15
           },
           "zerolinecolor": "white",
           "zerolinewidth": 2
          }
         }
        },
        "xaxis": {
         "anchor": "y",
         "domain": [
          0,
          0.7363
         ],
         "title": {
          "text": "rawF1"
         }
        },
        "xaxis2": {
         "anchor": "y2",
         "domain": [
          0.7413,
          1
         ],
         "matches": "x2",
         "showgrid": true,
         "showline": false,
         "showticklabels": false,
         "ticks": ""
        },
        "yaxis": {
         "anchor": "x",
         "domain": [
          0,
          1
         ],
         "title": {
          "text": "eventF1"
         }
        },
        "yaxis2": {
         "anchor": "x2",
         "domain": [
          0,
          1
         ],
         "matches": "y",
         "showgrid": true,
         "showticklabels": false
        }
       }
      }
     },
     "metadata": {},
     "output_type": "display_data"
    }
   ],
   "source": [
    "fig=px.scatter(experimentModels_N2,x='rawF1',y='eventF1',color='test',hover_name='modelId', marginal_y=\"histogram\")\n",
    "fig.add_trace(\n",
    "    go.Scatter(x=experimentModels_N2['rawF1'], y=experimentModels_N2['rawF1'], name=\"identity\", mode='lines',fill=\"toself\")\n",
    ")\n",
    "fig.show()"
   ]
  },
  {
   "cell_type": "code",
   "execution_count": 38,
   "metadata": {},
   "outputs": [
    {
     "data": {
      "application/vnd.plotly.v1+json": {
       "config": {
        "plotlyServerURL": "https://plot.ly"
       },
       "data": [
        {
         "hovertemplate": "<b>%{hovertext}</b><br><br>test=0001<br>eventF1=%{x}<br>eventPrecision=%{y}<extra></extra>",
         "hovertext": [
          "9e4dd9bb-a7d9-4ee8-a762-d656d8308d91"
         ],
         "legendgroup": "0001",
         "marker": {
          "color": "#636efa",
          "symbol": "circle"
         },
         "mode": "markers",
         "name": "0001",
         "orientation": "v",
         "showlegend": true,
         "type": "scatter",
         "x": [
          0.5942320590207915
         ],
         "xaxis": "x",
         "y": [
          0.9910514541387024
         ],
         "yaxis": "y"
        },
        {
         "alignmentgroup": "True",
         "bingroup": "y",
         "hovertemplate": "test=0001<br>eventPrecision=%{y}<br>count=%{x}<extra></extra>",
         "legendgroup": "0001",
         "marker": {
          "color": "#636efa"
         },
         "name": "0001",
         "offsetgroup": "0001",
         "opacity": 0.5,
         "showlegend": false,
         "type": "histogram",
         "xaxis": "x2",
         "y": [
          0.9910514541387024
         ],
         "yaxis": "y2"
        },
        {
         "hovertemplate": "<b>%{hovertext}</b><br><br>test=0002<br>eventF1=%{x}<br>eventPrecision=%{y}<extra></extra>",
         "hovertext": [
          "5e1bcb8a-f879-4f42-ae21-0e1ae715095f"
         ],
         "legendgroup": "0002",
         "marker": {
          "color": "#EF553B",
          "symbol": "circle"
         },
         "mode": "markers",
         "name": "0002",
         "orientation": "v",
         "showlegend": true,
         "type": "scatter",
         "x": [
          0.7768860353130016
         ],
         "xaxis": "x",
         "y": [
          0.7016654598117307
         ],
         "yaxis": "y"
        },
        {
         "alignmentgroup": "True",
         "bingroup": "y",
         "hovertemplate": "test=0002<br>eventPrecision=%{y}<br>count=%{x}<extra></extra>",
         "legendgroup": "0002",
         "marker": {
          "color": "#EF553B"
         },
         "name": "0002",
         "offsetgroup": "0002",
         "opacity": 0.5,
         "showlegend": false,
         "type": "histogram",
         "xaxis": "x2",
         "y": [
          0.7016654598117307
         ],
         "yaxis": "y2"
        },
        {
         "hovertemplate": "<b>%{hovertext}</b><br><br>test=0003<br>eventF1=%{x}<br>eventPrecision=%{y}<extra></extra>",
         "hovertext": [
          "2ecef3ee-0879-42d7-bcf0-ecfa0e3e601a"
         ],
         "legendgroup": "0003",
         "marker": {
          "color": "#00cc96",
          "symbol": "circle"
         },
         "mode": "markers",
         "name": "0003",
         "orientation": "v",
         "showlegend": true,
         "type": "scatter",
         "x": [
          0.7102803738317757
         ],
         "xaxis": "x",
         "y": [
          0.6404494382022472
         ],
         "yaxis": "y"
        },
        {
         "alignmentgroup": "True",
         "bingroup": "y",
         "hovertemplate": "test=0003<br>eventPrecision=%{y}<br>count=%{x}<extra></extra>",
         "legendgroup": "0003",
         "marker": {
          "color": "#00cc96"
         },
         "name": "0003",
         "offsetgroup": "0003",
         "opacity": 0.5,
         "showlegend": false,
         "type": "histogram",
         "xaxis": "x2",
         "y": [
          0.6404494382022472
         ],
         "yaxis": "y2"
        },
        {
         "hovertemplate": "<b>%{hovertext}</b><br><br>test=0005<br>eventF1=%{x}<br>eventPrecision=%{y}<extra></extra>",
         "hovertext": [
          "52b0d6a8-7f01-4694-85d4-14ef17a025b9"
         ],
         "legendgroup": "0005",
         "marker": {
          "color": "#ab63fa",
          "symbol": "circle"
         },
         "mode": "markers",
         "name": "0005",
         "orientation": "v",
         "showlegend": true,
         "type": "scatter",
         "x": [
          0.6873614190687362
         ],
         "xaxis": "x",
         "y": [
          0.5525846702317291
         ],
         "yaxis": "y"
        },
        {
         "alignmentgroup": "True",
         "bingroup": "y",
         "hovertemplate": "test=0005<br>eventPrecision=%{y}<br>count=%{x}<extra></extra>",
         "legendgroup": "0005",
         "marker": {
          "color": "#ab63fa"
         },
         "name": "0005",
         "offsetgroup": "0005",
         "opacity": 0.5,
         "showlegend": false,
         "type": "histogram",
         "xaxis": "x2",
         "y": [
          0.5525846702317291
         ],
         "yaxis": "y2"
        },
        {
         "hovertemplate": "<b>%{hovertext}</b><br><br>test=0006<br>eventF1=%{x}<br>eventPrecision=%{y}<extra></extra>",
         "hovertext": [
          "32c9793a-2115-4e77-8b6f-e8f71d09cecb"
         ],
         "legendgroup": "0006",
         "marker": {
          "color": "#FFA15A",
          "symbol": "circle"
         },
         "mode": "markers",
         "name": "0006",
         "orientation": "v",
         "showlegend": true,
         "type": "scatter",
         "x": [
          0.7051671732522796
         ],
         "xaxis": "x",
         "y": [
          0.6480446927374302
         ],
         "yaxis": "y"
        },
        {
         "alignmentgroup": "True",
         "bingroup": "y",
         "hovertemplate": "test=0006<br>eventPrecision=%{y}<br>count=%{x}<extra></extra>",
         "legendgroup": "0006",
         "marker": {
          "color": "#FFA15A"
         },
         "name": "0006",
         "offsetgroup": "0006",
         "opacity": 0.5,
         "showlegend": false,
         "type": "histogram",
         "xaxis": "x2",
         "y": [
          0.6480446927374302
         ],
         "yaxis": "y2"
        },
        {
         "hovertemplate": "<b>%{hovertext}</b><br><br>test=0007<br>eventF1=%{x}<br>eventPrecision=%{y}<extra></extra>",
         "hovertext": [
          "241d9889-61ff-47f7-97c2-f502ae3dba38"
         ],
         "legendgroup": "0007",
         "marker": {
          "color": "#19d3f3",
          "symbol": "circle"
         },
         "mode": "markers",
         "name": "0007",
         "orientation": "v",
         "showlegend": true,
         "type": "scatter",
         "x": [
          0.7042079207920792
         ],
         "xaxis": "x",
         "y": [
          0.5654761904761905
         ],
         "yaxis": "y"
        },
        {
         "alignmentgroup": "True",
         "bingroup": "y",
         "hovertemplate": "test=0007<br>eventPrecision=%{y}<br>count=%{x}<extra></extra>",
         "legendgroup": "0007",
         "marker": {
          "color": "#19d3f3"
         },
         "name": "0007",
         "offsetgroup": "0007",
         "opacity": 0.5,
         "showlegend": false,
         "type": "histogram",
         "xaxis": "x2",
         "y": [
          0.5654761904761905
         ],
         "yaxis": "y2"
        },
        {
         "hovertemplate": "<b>%{hovertext}</b><br><br>test=0009<br>eventF1=%{x}<br>eventPrecision=%{y}<extra></extra>",
         "hovertext": [
          "f6a46037-1f32-40b5-a6ff-cd293b0e4203"
         ],
         "legendgroup": "0009",
         "marker": {
          "color": "#FF6692",
          "symbol": "circle"
         },
         "mode": "markers",
         "name": "0009",
         "orientation": "v",
         "showlegend": true,
         "type": "scatter",
         "x": [
          0.7987637362637363
         ],
         "xaxis": "x",
         "y": [
          0.9065420560747663
         ],
         "yaxis": "y"
        },
        {
         "alignmentgroup": "True",
         "bingroup": "y",
         "hovertemplate": "test=0009<br>eventPrecision=%{y}<br>count=%{x}<extra></extra>",
         "legendgroup": "0009",
         "marker": {
          "color": "#FF6692"
         },
         "name": "0009",
         "offsetgroup": "0009",
         "opacity": 0.5,
         "showlegend": false,
         "type": "histogram",
         "xaxis": "x2",
         "y": [
          0.9065420560747663
         ],
         "yaxis": "y2"
        },
        {
         "hovertemplate": "<b>%{hovertext}</b><br><br>test=0010<br>eventF1=%{x}<br>eventPrecision=%{y}<extra></extra>",
         "hovertext": [
          "6cfc1f74-3653-47eb-a166-f59fefa13825"
         ],
         "legendgroup": "0010",
         "marker": {
          "color": "#B6E880",
          "symbol": "circle"
         },
         "mode": "markers",
         "name": "0010",
         "orientation": "v",
         "showlegend": true,
         "type": "scatter",
         "x": [
          0.8326359832635983
         ],
         "xaxis": "x",
         "y": [
          0.7938496583143508
         ],
         "yaxis": "y"
        },
        {
         "alignmentgroup": "True",
         "bingroup": "y",
         "hovertemplate": "test=0010<br>eventPrecision=%{y}<br>count=%{x}<extra></extra>",
         "legendgroup": "0010",
         "marker": {
          "color": "#B6E880"
         },
         "name": "0010",
         "offsetgroup": "0010",
         "opacity": 0.5,
         "showlegend": false,
         "type": "histogram",
         "xaxis": "x2",
         "y": [
          0.7938496583143508
         ],
         "yaxis": "y2"
        },
        {
         "hovertemplate": "<b>%{hovertext}</b><br><br>test=0011<br>eventF1=%{x}<br>eventPrecision=%{y}<extra></extra>",
         "hovertext": [
          "68c5483d-9072-4478-8a87-a7af3324f690"
         ],
         "legendgroup": "0011",
         "marker": {
          "color": "#FF97FF",
          "symbol": "circle"
         },
         "mode": "markers",
         "name": "0011",
         "orientation": "v",
         "showlegend": true,
         "type": "scatter",
         "x": [
          0.6841477949940405
         ],
         "xaxis": "x",
         "y": [
          0.5313653136531366
         ],
         "yaxis": "y"
        },
        {
         "alignmentgroup": "True",
         "bingroup": "y",
         "hovertemplate": "test=0011<br>eventPrecision=%{y}<br>count=%{x}<extra></extra>",
         "legendgroup": "0011",
         "marker": {
          "color": "#FF97FF"
         },
         "name": "0011",
         "offsetgroup": "0011",
         "opacity": 0.5,
         "showlegend": false,
         "type": "histogram",
         "xaxis": "x2",
         "y": [
          0.5313653136531366
         ],
         "yaxis": "y2"
        },
        {
         "hovertemplate": "<b>%{hovertext}</b><br><br>test=0012<br>eventF1=%{x}<br>eventPrecision=%{y}<extra></extra>",
         "hovertext": [
          "349fe35c-b749-431d-8e8c-c288b150e998"
         ],
         "legendgroup": "0012",
         "marker": {
          "color": "#FECB52",
          "symbol": "circle"
         },
         "mode": "markers",
         "name": "0012",
         "orientation": "v",
         "showlegend": true,
         "type": "scatter",
         "x": [
          0.7927927927927928
         ],
         "xaxis": "x",
         "y": [
          0.7771739130434783
         ],
         "yaxis": "y"
        },
        {
         "alignmentgroup": "True",
         "bingroup": "y",
         "hovertemplate": "test=0012<br>eventPrecision=%{y}<br>count=%{x}<extra></extra>",
         "legendgroup": "0012",
         "marker": {
          "color": "#FECB52"
         },
         "name": "0012",
         "offsetgroup": "0012",
         "opacity": 0.5,
         "showlegend": false,
         "type": "histogram",
         "xaxis": "x2",
         "y": [
          0.7771739130434783
         ],
         "yaxis": "y2"
        },
        {
         "hovertemplate": "<b>%{hovertext}</b><br><br>test=0013<br>eventF1=%{x}<br>eventPrecision=%{y}<extra></extra>",
         "hovertext": [
          "4babfd03-bb9d-4dd2-a829-ad9de3f05932"
         ],
         "legendgroup": "0013",
         "marker": {
          "color": "#636efa",
          "symbol": "circle"
         },
         "mode": "markers",
         "name": "0013",
         "orientation": "v",
         "showlegend": true,
         "type": "scatter",
         "x": [
          0.7157442235357335
         ],
         "xaxis": "x",
         "y": [
          0.5735167669819432
         ],
         "yaxis": "y"
        },
        {
         "alignmentgroup": "True",
         "bingroup": "y",
         "hovertemplate": "test=0013<br>eventPrecision=%{y}<br>count=%{x}<extra></extra>",
         "legendgroup": "0013",
         "marker": {
          "color": "#636efa"
         },
         "name": "0013",
         "offsetgroup": "0013",
         "opacity": 0.5,
         "showlegend": false,
         "type": "histogram",
         "xaxis": "x2",
         "y": [
          0.5735167669819432
         ],
         "yaxis": "y2"
        },
        {
         "hovertemplate": "<b>%{hovertext}</b><br><br>test=0014<br>eventF1=%{x}<br>eventPrecision=%{y}<extra></extra>",
         "hovertext": [
          "8b17d41d-edbb-461c-87d2-300850772dae"
         ],
         "legendgroup": "0014",
         "marker": {
          "color": "#EF553B",
          "symbol": "circle"
         },
         "mode": "markers",
         "name": "0014",
         "orientation": "v",
         "showlegend": true,
         "type": "scatter",
         "x": [
          0.5318095238095238
         ],
         "xaxis": "x",
         "y": [
          0.36225823314166233
         ],
         "yaxis": "y"
        },
        {
         "alignmentgroup": "True",
         "bingroup": "y",
         "hovertemplate": "test=0014<br>eventPrecision=%{y}<br>count=%{x}<extra></extra>",
         "legendgroup": "0014",
         "marker": {
          "color": "#EF553B"
         },
         "name": "0014",
         "offsetgroup": "0014",
         "opacity": 0.5,
         "showlegend": false,
         "type": "histogram",
         "xaxis": "x2",
         "y": [
          0.36225823314166233
         ],
         "yaxis": "y2"
        },
        {
         "hovertemplate": "<b>%{hovertext}</b><br><br>test=0017<br>eventF1=%{x}<br>eventPrecision=%{y}<extra></extra>",
         "hovertext": [
          "0363bbae-1f8e-4b17-9c0c-12617bda2825"
         ],
         "legendgroup": "0017",
         "marker": {
          "color": "#00cc96",
          "symbol": "circle"
         },
         "mode": "markers",
         "name": "0017",
         "orientation": "v",
         "showlegend": true,
         "type": "scatter",
         "x": [
          0.7539015606242497
         ],
         "xaxis": "x",
         "y": [
          0.8622589531680441
         ],
         "yaxis": "y"
        },
        {
         "alignmentgroup": "True",
         "bingroup": "y",
         "hovertemplate": "test=0017<br>eventPrecision=%{y}<br>count=%{x}<extra></extra>",
         "legendgroup": "0017",
         "marker": {
          "color": "#00cc96"
         },
         "name": "0017",
         "offsetgroup": "0017",
         "opacity": 0.5,
         "showlegend": false,
         "type": "histogram",
         "xaxis": "x2",
         "y": [
          0.8622589531680441
         ],
         "yaxis": "y2"
        },
        {
         "hovertemplate": "<b>%{hovertext}</b><br><br>test=0018<br>eventF1=%{x}<br>eventPrecision=%{y}<extra></extra>",
         "hovertext": [
          "3ab00c3d-e088-430b-81c0-65466ec51055"
         ],
         "legendgroup": "0018",
         "marker": {
          "color": "#ab63fa",
          "symbol": "circle"
         },
         "mode": "markers",
         "name": "0018",
         "orientation": "v",
         "showlegend": true,
         "type": "scatter",
         "x": [
          0.8033732800710164
         ],
         "xaxis": "x",
         "y": [
          0.8310376492194674
         ],
         "yaxis": "y"
        },
        {
         "alignmentgroup": "True",
         "bingroup": "y",
         "hovertemplate": "test=0018<br>eventPrecision=%{y}<br>count=%{x}<extra></extra>",
         "legendgroup": "0018",
         "marker": {
          "color": "#ab63fa"
         },
         "name": "0018",
         "offsetgroup": "0018",
         "opacity": 0.5,
         "showlegend": false,
         "type": "histogram",
         "xaxis": "x2",
         "y": [
          0.8310376492194674
         ],
         "yaxis": "y2"
        },
        {
         "hovertemplate": "<b>%{hovertext}</b><br><br>test=0019<br>eventF1=%{x}<br>eventPrecision=%{y}<extra></extra>",
         "hovertext": [
          "a223e573-b48d-418b-a3d3-7c7ae2c5dee7"
         ],
         "legendgroup": "0019",
         "marker": {
          "color": "#FFA15A",
          "symbol": "circle"
         },
         "mode": "markers",
         "name": "0019",
         "orientation": "v",
         "showlegend": true,
         "type": "scatter",
         "x": [
          0.4943639291465378
         ],
         "xaxis": "x",
         "y": [
          0.3286937901498929
         ],
         "yaxis": "y"
        },
        {
         "alignmentgroup": "True",
         "bingroup": "y",
         "hovertemplate": "test=0019<br>eventPrecision=%{y}<br>count=%{x}<extra></extra>",
         "legendgroup": "0019",
         "marker": {
          "color": "#FFA15A"
         },
         "name": "0019",
         "offsetgroup": "0019",
         "opacity": 0.5,
         "showlegend": false,
         "type": "histogram",
         "xaxis": "x2",
         "y": [
          0.3286937901498929
         ],
         "yaxis": "y2"
        },
        {
         "fill": "toself",
         "mode": "lines",
         "name": "identity",
         "type": "scatter",
         "x": [
          0.5942320590207915,
          0.7768860353130016,
          0.7102803738317757,
          0.6873614190687362,
          0.7051671732522796,
          0.7042079207920792,
          0.7987637362637363,
          0.8326359832635983,
          0.6841477949940405,
          0.7927927927927928,
          0.7157442235357335,
          0.5318095238095238,
          0.7539015606242497,
          0.8033732800710164,
          0.4943639291465378
         ],
         "y": [
          0.5942320590207915,
          0.7768860353130016,
          0.7102803738317757,
          0.6873614190687362,
          0.7051671732522796,
          0.7042079207920792,
          0.7987637362637363,
          0.8326359832635983,
          0.6841477949940405,
          0.7927927927927928,
          0.7157442235357335,
          0.5318095238095238,
          0.7539015606242497,
          0.8033732800710164,
          0.4943639291465378
         ]
        }
       ],
       "layout": {
        "barmode": "overlay",
        "legend": {
         "title": {
          "text": "test"
         },
         "tracegroupgap": 0
        },
        "margin": {
         "t": 60
        },
        "template": {
         "data": {
          "bar": [
           {
            "error_x": {
             "color": "#2a3f5f"
            },
            "error_y": {
             "color": "#2a3f5f"
            },
            "marker": {
             "line": {
              "color": "#E5ECF6",
              "width": 0.5
             },
             "pattern": {
              "fillmode": "overlay",
              "size": 10,
              "solidity": 0.2
             }
            },
            "type": "bar"
           }
          ],
          "barpolar": [
           {
            "marker": {
             "line": {
              "color": "#E5ECF6",
              "width": 0.5
             },
             "pattern": {
              "fillmode": "overlay",
              "size": 10,
              "solidity": 0.2
             }
            },
            "type": "barpolar"
           }
          ],
          "carpet": [
           {
            "aaxis": {
             "endlinecolor": "#2a3f5f",
             "gridcolor": "white",
             "linecolor": "white",
             "minorgridcolor": "white",
             "startlinecolor": "#2a3f5f"
            },
            "baxis": {
             "endlinecolor": "#2a3f5f",
             "gridcolor": "white",
             "linecolor": "white",
             "minorgridcolor": "white",
             "startlinecolor": "#2a3f5f"
            },
            "type": "carpet"
           }
          ],
          "choropleth": [
           {
            "colorbar": {
             "outlinewidth": 0,
             "ticks": ""
            },
            "type": "choropleth"
           }
          ],
          "contour": [
           {
            "colorbar": {
             "outlinewidth": 0,
             "ticks": ""
            },
            "colorscale": [
             [
              0,
              "#0d0887"
             ],
             [
              0.1111111111111111,
              "#46039f"
             ],
             [
              0.2222222222222222,
              "#7201a8"
             ],
             [
              0.3333333333333333,
              "#9c179e"
             ],
             [
              0.4444444444444444,
              "#bd3786"
             ],
             [
              0.5555555555555556,
              "#d8576b"
             ],
             [
              0.6666666666666666,
              "#ed7953"
             ],
             [
              0.7777777777777778,
              "#fb9f3a"
             ],
             [
              0.8888888888888888,
              "#fdca26"
             ],
             [
              1,
              "#f0f921"
             ]
            ],
            "type": "contour"
           }
          ],
          "contourcarpet": [
           {
            "colorbar": {
             "outlinewidth": 0,
             "ticks": ""
            },
            "type": "contourcarpet"
           }
          ],
          "heatmap": [
           {
            "colorbar": {
             "outlinewidth": 0,
             "ticks": ""
            },
            "colorscale": [
             [
              0,
              "#0d0887"
             ],
             [
              0.1111111111111111,
              "#46039f"
             ],
             [
              0.2222222222222222,
              "#7201a8"
             ],
             [
              0.3333333333333333,
              "#9c179e"
             ],
             [
              0.4444444444444444,
              "#bd3786"
             ],
             [
              0.5555555555555556,
              "#d8576b"
             ],
             [
              0.6666666666666666,
              "#ed7953"
             ],
             [
              0.7777777777777778,
              "#fb9f3a"
             ],
             [
              0.8888888888888888,
              "#fdca26"
             ],
             [
              1,
              "#f0f921"
             ]
            ],
            "type": "heatmap"
           }
          ],
          "heatmapgl": [
           {
            "colorbar": {
             "outlinewidth": 0,
             "ticks": ""
            },
            "colorscale": [
             [
              0,
              "#0d0887"
             ],
             [
              0.1111111111111111,
              "#46039f"
             ],
             [
              0.2222222222222222,
              "#7201a8"
             ],
             [
              0.3333333333333333,
              "#9c179e"
             ],
             [
              0.4444444444444444,
              "#bd3786"
             ],
             [
              0.5555555555555556,
              "#d8576b"
             ],
             [
              0.6666666666666666,
              "#ed7953"
             ],
             [
              0.7777777777777778,
              "#fb9f3a"
             ],
             [
              0.8888888888888888,
              "#fdca26"
             ],
             [
              1,
              "#f0f921"
             ]
            ],
            "type": "heatmapgl"
           }
          ],
          "histogram": [
           {
            "marker": {
             "pattern": {
              "fillmode": "overlay",
              "size": 10,
              "solidity": 0.2
             }
            },
            "type": "histogram"
           }
          ],
          "histogram2d": [
           {
            "colorbar": {
             "outlinewidth": 0,
             "ticks": ""
            },
            "colorscale": [
             [
              0,
              "#0d0887"
             ],
             [
              0.1111111111111111,
              "#46039f"
             ],
             [
              0.2222222222222222,
              "#7201a8"
             ],
             [
              0.3333333333333333,
              "#9c179e"
             ],
             [
              0.4444444444444444,
              "#bd3786"
             ],
             [
              0.5555555555555556,
              "#d8576b"
             ],
             [
              0.6666666666666666,
              "#ed7953"
             ],
             [
              0.7777777777777778,
              "#fb9f3a"
             ],
             [
              0.8888888888888888,
              "#fdca26"
             ],
             [
              1,
              "#f0f921"
             ]
            ],
            "type": "histogram2d"
           }
          ],
          "histogram2dcontour": [
           {
            "colorbar": {
             "outlinewidth": 0,
             "ticks": ""
            },
            "colorscale": [
             [
              0,
              "#0d0887"
             ],
             [
              0.1111111111111111,
              "#46039f"
             ],
             [
              0.2222222222222222,
              "#7201a8"
             ],
             [
              0.3333333333333333,
              "#9c179e"
             ],
             [
              0.4444444444444444,
              "#bd3786"
             ],
             [
              0.5555555555555556,
              "#d8576b"
             ],
             [
              0.6666666666666666,
              "#ed7953"
             ],
             [
              0.7777777777777778,
              "#fb9f3a"
             ],
             [
              0.8888888888888888,
              "#fdca26"
             ],
             [
              1,
              "#f0f921"
             ]
            ],
            "type": "histogram2dcontour"
           }
          ],
          "mesh3d": [
           {
            "colorbar": {
             "outlinewidth": 0,
             "ticks": ""
            },
            "type": "mesh3d"
           }
          ],
          "parcoords": [
           {
            "line": {
             "colorbar": {
              "outlinewidth": 0,
              "ticks": ""
             }
            },
            "type": "parcoords"
           }
          ],
          "pie": [
           {
            "automargin": true,
            "type": "pie"
           }
          ],
          "scatter": [
           {
            "fillpattern": {
             "fillmode": "overlay",
             "size": 10,
             "solidity": 0.2
            },
            "type": "scatter"
           }
          ],
          "scatter3d": [
           {
            "line": {
             "colorbar": {
              "outlinewidth": 0,
              "ticks": ""
             }
            },
            "marker": {
             "colorbar": {
              "outlinewidth": 0,
              "ticks": ""
             }
            },
            "type": "scatter3d"
           }
          ],
          "scattercarpet": [
           {
            "marker": {
             "colorbar": {
              "outlinewidth": 0,
              "ticks": ""
             }
            },
            "type": "scattercarpet"
           }
          ],
          "scattergeo": [
           {
            "marker": {
             "colorbar": {
              "outlinewidth": 0,
              "ticks": ""
             }
            },
            "type": "scattergeo"
           }
          ],
          "scattergl": [
           {
            "marker": {
             "colorbar": {
              "outlinewidth": 0,
              "ticks": ""
             }
            },
            "type": "scattergl"
           }
          ],
          "scattermapbox": [
           {
            "marker": {
             "colorbar": {
              "outlinewidth": 0,
              "ticks": ""
             }
            },
            "type": "scattermapbox"
           }
          ],
          "scatterpolar": [
           {
            "marker": {
             "colorbar": {
              "outlinewidth": 0,
              "ticks": ""
             }
            },
            "type": "scatterpolar"
           }
          ],
          "scatterpolargl": [
           {
            "marker": {
             "colorbar": {
              "outlinewidth": 0,
              "ticks": ""
             }
            },
            "type": "scatterpolargl"
           }
          ],
          "scatterternary": [
           {
            "marker": {
             "colorbar": {
              "outlinewidth": 0,
              "ticks": ""
             }
            },
            "type": "scatterternary"
           }
          ],
          "surface": [
           {
            "colorbar": {
             "outlinewidth": 0,
             "ticks": ""
            },
            "colorscale": [
             [
              0,
              "#0d0887"
             ],
             [
              0.1111111111111111,
              "#46039f"
             ],
             [
              0.2222222222222222,
              "#7201a8"
             ],
             [
              0.3333333333333333,
              "#9c179e"
             ],
             [
              0.4444444444444444,
              "#bd3786"
             ],
             [
              0.5555555555555556,
              "#d8576b"
             ],
             [
              0.6666666666666666,
              "#ed7953"
             ],
             [
              0.7777777777777778,
              "#fb9f3a"
             ],
             [
              0.8888888888888888,
              "#fdca26"
             ],
             [
              1,
              "#f0f921"
             ]
            ],
            "type": "surface"
           }
          ],
          "table": [
           {
            "cells": {
             "fill": {
              "color": "#EBF0F8"
             },
             "line": {
              "color": "white"
             }
            },
            "header": {
             "fill": {
              "color": "#C8D4E3"
             },
             "line": {
              "color": "white"
             }
            },
            "type": "table"
           }
          ]
         },
         "layout": {
          "annotationdefaults": {
           "arrowcolor": "#2a3f5f",
           "arrowhead": 0,
           "arrowwidth": 1
          },
          "autotypenumbers": "strict",
          "coloraxis": {
           "colorbar": {
            "outlinewidth": 0,
            "ticks": ""
           }
          },
          "colorscale": {
           "diverging": [
            [
             0,
             "#8e0152"
            ],
            [
             0.1,
             "#c51b7d"
            ],
            [
             0.2,
             "#de77ae"
            ],
            [
             0.3,
             "#f1b6da"
            ],
            [
             0.4,
             "#fde0ef"
            ],
            [
             0.5,
             "#f7f7f7"
            ],
            [
             0.6,
             "#e6f5d0"
            ],
            [
             0.7,
             "#b8e186"
            ],
            [
             0.8,
             "#7fbc41"
            ],
            [
             0.9,
             "#4d9221"
            ],
            [
             1,
             "#276419"
            ]
           ],
           "sequential": [
            [
             0,
             "#0d0887"
            ],
            [
             0.1111111111111111,
             "#46039f"
            ],
            [
             0.2222222222222222,
             "#7201a8"
            ],
            [
             0.3333333333333333,
             "#9c179e"
            ],
            [
             0.4444444444444444,
             "#bd3786"
            ],
            [
             0.5555555555555556,
             "#d8576b"
            ],
            [
             0.6666666666666666,
             "#ed7953"
            ],
            [
             0.7777777777777778,
             "#fb9f3a"
            ],
            [
             0.8888888888888888,
             "#fdca26"
            ],
            [
             1,
             "#f0f921"
            ]
           ],
           "sequentialminus": [
            [
             0,
             "#0d0887"
            ],
            [
             0.1111111111111111,
             "#46039f"
            ],
            [
             0.2222222222222222,
             "#7201a8"
            ],
            [
             0.3333333333333333,
             "#9c179e"
            ],
            [
             0.4444444444444444,
             "#bd3786"
            ],
            [
             0.5555555555555556,
             "#d8576b"
            ],
            [
             0.6666666666666666,
             "#ed7953"
            ],
            [
             0.7777777777777778,
             "#fb9f3a"
            ],
            [
             0.8888888888888888,
             "#fdca26"
            ],
            [
             1,
             "#f0f921"
            ]
           ]
          },
          "colorway": [
           "#636efa",
           "#EF553B",
           "#00cc96",
           "#ab63fa",
           "#FFA15A",
           "#19d3f3",
           "#FF6692",
           "#B6E880",
           "#FF97FF",
           "#FECB52"
          ],
          "font": {
           "color": "#2a3f5f"
          },
          "geo": {
           "bgcolor": "white",
           "lakecolor": "white",
           "landcolor": "#E5ECF6",
           "showlakes": true,
           "showland": true,
           "subunitcolor": "white"
          },
          "hoverlabel": {
           "align": "left"
          },
          "hovermode": "closest",
          "mapbox": {
           "style": "light"
          },
          "paper_bgcolor": "white",
          "plot_bgcolor": "#E5ECF6",
          "polar": {
           "angularaxis": {
            "gridcolor": "white",
            "linecolor": "white",
            "ticks": ""
           },
           "bgcolor": "#E5ECF6",
           "radialaxis": {
            "gridcolor": "white",
            "linecolor": "white",
            "ticks": ""
           }
          },
          "scene": {
           "xaxis": {
            "backgroundcolor": "#E5ECF6",
            "gridcolor": "white",
            "gridwidth": 2,
            "linecolor": "white",
            "showbackground": true,
            "ticks": "",
            "zerolinecolor": "white"
           },
           "yaxis": {
            "backgroundcolor": "#E5ECF6",
            "gridcolor": "white",
            "gridwidth": 2,
            "linecolor": "white",
            "showbackground": true,
            "ticks": "",
            "zerolinecolor": "white"
           },
           "zaxis": {
            "backgroundcolor": "#E5ECF6",
            "gridcolor": "white",
            "gridwidth": 2,
            "linecolor": "white",
            "showbackground": true,
            "ticks": "",
            "zerolinecolor": "white"
           }
          },
          "shapedefaults": {
           "line": {
            "color": "#2a3f5f"
           }
          },
          "ternary": {
           "aaxis": {
            "gridcolor": "white",
            "linecolor": "white",
            "ticks": ""
           },
           "baxis": {
            "gridcolor": "white",
            "linecolor": "white",
            "ticks": ""
           },
           "bgcolor": "#E5ECF6",
           "caxis": {
            "gridcolor": "white",
            "linecolor": "white",
            "ticks": ""
           }
          },
          "title": {
           "x": 0.05
          },
          "xaxis": {
           "automargin": true,
           "gridcolor": "white",
           "linecolor": "white",
           "ticks": "",
           "title": {
            "standoff": 15
           },
           "zerolinecolor": "white",
           "zerolinewidth": 2
          },
          "yaxis": {
           "automargin": true,
           "gridcolor": "white",
           "linecolor": "white",
           "ticks": "",
           "title": {
            "standoff": 15
           },
           "zerolinecolor": "white",
           "zerolinewidth": 2
          }
         }
        },
        "xaxis": {
         "anchor": "y",
         "domain": [
          0,
          0.7363
         ],
         "title": {
          "text": "eventF1"
         }
        },
        "xaxis2": {
         "anchor": "y2",
         "domain": [
          0.7413,
          1
         ],
         "matches": "x2",
         "showgrid": true,
         "showline": false,
         "showticklabels": false,
         "ticks": ""
        },
        "yaxis": {
         "anchor": "x",
         "domain": [
          0,
          1
         ],
         "title": {
          "text": "eventPrecision"
         }
        },
        "yaxis2": {
         "anchor": "x2",
         "domain": [
          0,
          1
         ],
         "matches": "y",
         "showgrid": true,
         "showticklabels": false
        }
       }
      }
     },
     "metadata": {},
     "output_type": "display_data"
    }
   ],
   "source": [
    "fig=px.scatter(experimentModels_N2,x='eventF1',y='eventPrecision',color='test',hover_name='modelId', marginal_y=\"histogram\")\n",
    "fig.add_trace(\n",
    "    go.Scatter(x=experimentModels_N2['eventF1'], y=experimentModels_N2['eventF1'], name=\"identity\", mode='lines',fill=\"toself\")\n",
    ")\n",
    "fig.show()"
   ]
  },
  {
   "cell_type": "code",
   "execution_count": 39,
   "metadata": {},
   "outputs": [
    {
     "data": {
      "application/vnd.plotly.v1+json": {
       "config": {
        "plotlyServerURL": "https://plot.ly"
       },
       "data": [
        {
         "hovertemplate": "<b>%{hovertext}</b><br><br>test=0001<br>eventF1=%{x}<br>eventRecall=%{y}<extra></extra>",
         "hovertext": [
          "9e4dd9bb-a7d9-4ee8-a762-d656d8308d91"
         ],
         "legendgroup": "0001",
         "marker": {
          "color": "#636efa",
          "symbol": "circle"
         },
         "mode": "markers",
         "name": "0001",
         "orientation": "v",
         "showlegend": true,
         "type": "scatter",
         "x": [
          0.5942320590207915
         ],
         "xaxis": "x",
         "y": [
          0.42432950191570884
         ],
         "yaxis": "y"
        },
        {
         "alignmentgroup": "True",
         "bingroup": "y",
         "hovertemplate": "test=0001<br>eventRecall=%{y}<br>count=%{x}<extra></extra>",
         "legendgroup": "0001",
         "marker": {
          "color": "#636efa"
         },
         "name": "0001",
         "offsetgroup": "0001",
         "opacity": 0.5,
         "showlegend": false,
         "type": "histogram",
         "xaxis": "x2",
         "y": [
          0.42432950191570884
         ],
         "yaxis": "y2"
        },
        {
         "hovertemplate": "<b>%{hovertext}</b><br><br>test=0002<br>eventF1=%{x}<br>eventRecall=%{y}<extra></extra>",
         "hovertext": [
          "5e1bcb8a-f879-4f42-ae21-0e1ae715095f"
         ],
         "legendgroup": "0002",
         "marker": {
          "color": "#EF553B",
          "symbol": "circle"
         },
         "mode": "markers",
         "name": "0002",
         "orientation": "v",
         "showlegend": true,
         "type": "scatter",
         "x": [
          0.7768860353130016
         ],
         "xaxis": "x",
         "y": [
          0.8703870387038704
         ],
         "yaxis": "y"
        },
        {
         "alignmentgroup": "True",
         "bingroup": "y",
         "hovertemplate": "test=0002<br>eventRecall=%{y}<br>count=%{x}<extra></extra>",
         "legendgroup": "0002",
         "marker": {
          "color": "#EF553B"
         },
         "name": "0002",
         "offsetgroup": "0002",
         "opacity": 0.5,
         "showlegend": false,
         "type": "histogram",
         "xaxis": "x2",
         "y": [
          0.8703870387038704
         ],
         "yaxis": "y2"
        },
        {
         "hovertemplate": "<b>%{hovertext}</b><br><br>test=0003<br>eventF1=%{x}<br>eventRecall=%{y}<extra></extra>",
         "hovertext": [
          "2ecef3ee-0879-42d7-bcf0-ecfa0e3e601a"
         ],
         "legendgroup": "0003",
         "marker": {
          "color": "#00cc96",
          "symbol": "circle"
         },
         "mode": "markers",
         "name": "0003",
         "orientation": "v",
         "showlegend": true,
         "type": "scatter",
         "x": [
          0.7102803738317757
         ],
         "xaxis": "x",
         "y": [
          0.7972027972027972
         ],
         "yaxis": "y"
        },
        {
         "alignmentgroup": "True",
         "bingroup": "y",
         "hovertemplate": "test=0003<br>eventRecall=%{y}<br>count=%{x}<extra></extra>",
         "legendgroup": "0003",
         "marker": {
          "color": "#00cc96"
         },
         "name": "0003",
         "offsetgroup": "0003",
         "opacity": 0.5,
         "showlegend": false,
         "type": "histogram",
         "xaxis": "x2",
         "y": [
          0.7972027972027972
         ],
         "yaxis": "y2"
        },
        {
         "hovertemplate": "<b>%{hovertext}</b><br><br>test=0005<br>eventF1=%{x}<br>eventRecall=%{y}<extra></extra>",
         "hovertext": [
          "52b0d6a8-7f01-4694-85d4-14ef17a025b9"
         ],
         "legendgroup": "0005",
         "marker": {
          "color": "#ab63fa",
          "symbol": "circle"
         },
         "mode": "markers",
         "name": "0005",
         "orientation": "v",
         "showlegend": true,
         "type": "scatter",
         "x": [
          0.6873614190687362
         ],
         "xaxis": "x",
         "y": [
          0.9090909090909091
         ],
         "yaxis": "y"
        },
        {
         "alignmentgroup": "True",
         "bingroup": "y",
         "hovertemplate": "test=0005<br>eventRecall=%{y}<br>count=%{x}<extra></extra>",
         "legendgroup": "0005",
         "marker": {
          "color": "#ab63fa"
         },
         "name": "0005",
         "offsetgroup": "0005",
         "opacity": 0.5,
         "showlegend": false,
         "type": "histogram",
         "xaxis": "x2",
         "y": [
          0.9090909090909091
         ],
         "yaxis": "y2"
        },
        {
         "hovertemplate": "<b>%{hovertext}</b><br><br>test=0006<br>eventF1=%{x}<br>eventRecall=%{y}<extra></extra>",
         "hovertext": [
          "32c9793a-2115-4e77-8b6f-e8f71d09cecb"
         ],
         "legendgroup": "0006",
         "marker": {
          "color": "#FFA15A",
          "symbol": "circle"
         },
         "mode": "markers",
         "name": "0006",
         "orientation": "v",
         "showlegend": true,
         "type": "scatter",
         "x": [
          0.7051671732522796
         ],
         "xaxis": "x",
         "y": [
          0.7733333333333333
         ],
         "yaxis": "y"
        },
        {
         "alignmentgroup": "True",
         "bingroup": "y",
         "hovertemplate": "test=0006<br>eventRecall=%{y}<br>count=%{x}<extra></extra>",
         "legendgroup": "0006",
         "marker": {
          "color": "#FFA15A"
         },
         "name": "0006",
         "offsetgroup": "0006",
         "opacity": 0.5,
         "showlegend": false,
         "type": "histogram",
         "xaxis": "x2",
         "y": [
          0.7733333333333333
         ],
         "yaxis": "y2"
        },
        {
         "hovertemplate": "<b>%{hovertext}</b><br><br>test=0007<br>eventF1=%{x}<br>eventRecall=%{y}<extra></extra>",
         "hovertext": [
          "241d9889-61ff-47f7-97c2-f502ae3dba38"
         ],
         "legendgroup": "0007",
         "marker": {
          "color": "#19d3f3",
          "symbol": "circle"
         },
         "mode": "markers",
         "name": "0007",
         "orientation": "v",
         "showlegend": true,
         "type": "scatter",
         "x": [
          0.7042079207920792
         ],
         "xaxis": "x",
         "y": [
          0.9342105263157895
         ],
         "yaxis": "y"
        },
        {
         "alignmentgroup": "True",
         "bingroup": "y",
         "hovertemplate": "test=0007<br>eventRecall=%{y}<br>count=%{x}<extra></extra>",
         "legendgroup": "0007",
         "marker": {
          "color": "#19d3f3"
         },
         "name": "0007",
         "offsetgroup": "0007",
         "opacity": 0.5,
         "showlegend": false,
         "type": "histogram",
         "xaxis": "x2",
         "y": [
          0.9342105263157895
         ],
         "yaxis": "y2"
        },
        {
         "hovertemplate": "<b>%{hovertext}</b><br><br>test=0009<br>eventF1=%{x}<br>eventRecall=%{y}<extra></extra>",
         "hovertext": [
          "f6a46037-1f32-40b5-a6ff-cd293b0e4203"
         ],
         "legendgroup": "0009",
         "marker": {
          "color": "#FF6692",
          "symbol": "circle"
         },
         "mode": "markers",
         "name": "0009",
         "orientation": "v",
         "showlegend": true,
         "type": "scatter",
         "x": [
          0.7987637362637363
         ],
         "xaxis": "x",
         "y": [
          0.7137592137592138
         ],
         "yaxis": "y"
        },
        {
         "alignmentgroup": "True",
         "bingroup": "y",
         "hovertemplate": "test=0009<br>eventRecall=%{y}<br>count=%{x}<extra></extra>",
         "legendgroup": "0009",
         "marker": {
          "color": "#FF6692"
         },
         "name": "0009",
         "offsetgroup": "0009",
         "opacity": 0.5,
         "showlegend": false,
         "type": "histogram",
         "xaxis": "x2",
         "y": [
          0.7137592137592138
         ],
         "yaxis": "y2"
        },
        {
         "hovertemplate": "<b>%{hovertext}</b><br><br>test=0010<br>eventF1=%{x}<br>eventRecall=%{y}<extra></extra>",
         "hovertext": [
          "6cfc1f74-3653-47eb-a166-f59fefa13825"
         ],
         "legendgroup": "0010",
         "marker": {
          "color": "#B6E880",
          "symbol": "circle"
         },
         "mode": "markers",
         "name": "0010",
         "orientation": "v",
         "showlegend": true,
         "type": "scatter",
         "x": [
          0.8326359832635983
         ],
         "xaxis": "x",
         "y": [
          0.8754716981132076
         ],
         "yaxis": "y"
        },
        {
         "alignmentgroup": "True",
         "bingroup": "y",
         "hovertemplate": "test=0010<br>eventRecall=%{y}<br>count=%{x}<extra></extra>",
         "legendgroup": "0010",
         "marker": {
          "color": "#B6E880"
         },
         "name": "0010",
         "offsetgroup": "0010",
         "opacity": 0.5,
         "showlegend": false,
         "type": "histogram",
         "xaxis": "x2",
         "y": [
          0.8754716981132076
         ],
         "yaxis": "y2"
        },
        {
         "hovertemplate": "<b>%{hovertext}</b><br><br>test=0011<br>eventF1=%{x}<br>eventRecall=%{y}<extra></extra>",
         "hovertext": [
          "68c5483d-9072-4478-8a87-a7af3324f690"
         ],
         "legendgroup": "0011",
         "marker": {
          "color": "#FF97FF",
          "symbol": "circle"
         },
         "mode": "markers",
         "name": "0011",
         "orientation": "v",
         "showlegend": true,
         "type": "scatter",
         "x": [
          0.6841477949940405
         ],
         "xaxis": "x",
         "y": [
          0.9629629629629629
         ],
         "yaxis": "y"
        },
        {
         "alignmentgroup": "True",
         "bingroup": "y",
         "hovertemplate": "test=0011<br>eventRecall=%{y}<br>count=%{x}<extra></extra>",
         "legendgroup": "0011",
         "marker": {
          "color": "#FF97FF"
         },
         "name": "0011",
         "offsetgroup": "0011",
         "opacity": 0.5,
         "showlegend": false,
         "type": "histogram",
         "xaxis": "x2",
         "y": [
          0.9629629629629629
         ],
         "yaxis": "y2"
        },
        {
         "hovertemplate": "<b>%{hovertext}</b><br><br>test=0012<br>eventF1=%{x}<br>eventRecall=%{y}<extra></extra>",
         "hovertext": [
          "349fe35c-b749-431d-8e8c-c288b150e998"
         ],
         "legendgroup": "0012",
         "marker": {
          "color": "#FECB52",
          "symbol": "circle"
         },
         "mode": "markers",
         "name": "0012",
         "orientation": "v",
         "showlegend": true,
         "type": "scatter",
         "x": [
          0.7927927927927928
         ],
         "xaxis": "x",
         "y": [
          0.809052333804809
         ],
         "yaxis": "y"
        },
        {
         "alignmentgroup": "True",
         "bingroup": "y",
         "hovertemplate": "test=0012<br>eventRecall=%{y}<br>count=%{x}<extra></extra>",
         "legendgroup": "0012",
         "marker": {
          "color": "#FECB52"
         },
         "name": "0012",
         "offsetgroup": "0012",
         "opacity": 0.5,
         "showlegend": false,
         "type": "histogram",
         "xaxis": "x2",
         "y": [
          0.809052333804809
         ],
         "yaxis": "y2"
        },
        {
         "hovertemplate": "<b>%{hovertext}</b><br><br>test=0013<br>eventF1=%{x}<br>eventRecall=%{y}<extra></extra>",
         "hovertext": [
          "4babfd03-bb9d-4dd2-a829-ad9de3f05932"
         ],
         "legendgroup": "0013",
         "marker": {
          "color": "#636efa",
          "symbol": "circle"
         },
         "mode": "markers",
         "name": "0013",
         "orientation": "v",
         "showlegend": true,
         "type": "scatter",
         "x": [
          0.7157442235357335
         ],
         "xaxis": "x",
         "y": [
          0.9527220630372493
         ],
         "yaxis": "y"
        },
        {
         "alignmentgroup": "True",
         "bingroup": "y",
         "hovertemplate": "test=0013<br>eventRecall=%{y}<br>count=%{x}<extra></extra>",
         "legendgroup": "0013",
         "marker": {
          "color": "#636efa"
         },
         "name": "0013",
         "offsetgroup": "0013",
         "opacity": 0.5,
         "showlegend": false,
         "type": "histogram",
         "xaxis": "x2",
         "y": [
          0.9527220630372493
         ],
         "yaxis": "y2"
        },
        {
         "hovertemplate": "<b>%{hovertext}</b><br><br>test=0014<br>eventF1=%{x}<br>eventRecall=%{y}<extra></extra>",
         "hovertext": [
          "8b17d41d-edbb-461c-87d2-300850772dae"
         ],
         "legendgroup": "0014",
         "marker": {
          "color": "#EF553B",
          "symbol": "circle"
         },
         "mode": "markers",
         "name": "0014",
         "orientation": "v",
         "showlegend": true,
         "type": "scatter",
         "x": [
          0.5318095238095238
         ],
         "xaxis": "x",
         "y": [
          0.9873595505617978
         ],
         "yaxis": "y"
        },
        {
         "alignmentgroup": "True",
         "bingroup": "y",
         "hovertemplate": "test=0014<br>eventRecall=%{y}<br>count=%{x}<extra></extra>",
         "legendgroup": "0014",
         "marker": {
          "color": "#EF553B"
         },
         "name": "0014",
         "offsetgroup": "0014",
         "opacity": 0.5,
         "showlegend": false,
         "type": "histogram",
         "xaxis": "x2",
         "y": [
          0.9873595505617978
         ],
         "yaxis": "y2"
        },
        {
         "hovertemplate": "<b>%{hovertext}</b><br><br>test=0017<br>eventF1=%{x}<br>eventRecall=%{y}<extra></extra>",
         "hovertext": [
          "0363bbae-1f8e-4b17-9c0c-12617bda2825"
         ],
         "legendgroup": "0017",
         "marker": {
          "color": "#00cc96",
          "symbol": "circle"
         },
         "mode": "markers",
         "name": "0017",
         "orientation": "v",
         "showlegend": true,
         "type": "scatter",
         "x": [
          0.7539015606242497
         ],
         "xaxis": "x",
         "y": [
          0.6702127659574468
         ],
         "yaxis": "y"
        },
        {
         "alignmentgroup": "True",
         "bingroup": "y",
         "hovertemplate": "test=0017<br>eventRecall=%{y}<br>count=%{x}<extra></extra>",
         "legendgroup": "0017",
         "marker": {
          "color": "#00cc96"
         },
         "name": "0017",
         "offsetgroup": "0017",
         "opacity": 0.5,
         "showlegend": false,
         "type": "histogram",
         "xaxis": "x2",
         "y": [
          0.6702127659574468
         ],
         "yaxis": "y2"
        },
        {
         "hovertemplate": "<b>%{hovertext}</b><br><br>test=0018<br>eventF1=%{x}<br>eventRecall=%{y}<extra></extra>",
         "hovertext": [
          "3ab00c3d-e088-430b-81c0-65466ec51055"
         ],
         "legendgroup": "0018",
         "marker": {
          "color": "#ab63fa",
          "symbol": "circle"
         },
         "mode": "markers",
         "name": "0018",
         "orientation": "v",
         "showlegend": true,
         "type": "scatter",
         "x": [
          0.8033732800710164
         ],
         "xaxis": "x",
         "y": [
          0.7774914089347079
         ],
         "yaxis": "y"
        },
        {
         "alignmentgroup": "True",
         "bingroup": "y",
         "hovertemplate": "test=0018<br>eventRecall=%{y}<br>count=%{x}<extra></extra>",
         "legendgroup": "0018",
         "marker": {
          "color": "#ab63fa"
         },
         "name": "0018",
         "offsetgroup": "0018",
         "opacity": 0.5,
         "showlegend": false,
         "type": "histogram",
         "xaxis": "x2",
         "y": [
          0.7774914089347079
         ],
         "yaxis": "y2"
        },
        {
         "hovertemplate": "<b>%{hovertext}</b><br><br>test=0019<br>eventF1=%{x}<br>eventRecall=%{y}<extra></extra>",
         "hovertext": [
          "a223e573-b48d-418b-a3d3-7c7ae2c5dee7"
         ],
         "legendgroup": "0019",
         "marker": {
          "color": "#FFA15A",
          "symbol": "circle"
         },
         "mode": "markers",
         "name": "0019",
         "orientation": "v",
         "showlegend": true,
         "type": "scatter",
         "x": [
          0.4943639291465378
         ],
         "xaxis": "x",
         "y": [
          0.9967532467532467
         ],
         "yaxis": "y"
        },
        {
         "alignmentgroup": "True",
         "bingroup": "y",
         "hovertemplate": "test=0019<br>eventRecall=%{y}<br>count=%{x}<extra></extra>",
         "legendgroup": "0019",
         "marker": {
          "color": "#FFA15A"
         },
         "name": "0019",
         "offsetgroup": "0019",
         "opacity": 0.5,
         "showlegend": false,
         "type": "histogram",
         "xaxis": "x2",
         "y": [
          0.9967532467532467
         ],
         "yaxis": "y2"
        },
        {
         "fill": "toself",
         "mode": "lines",
         "name": "identity",
         "type": "scatter",
         "x": [
          0.5942320590207915,
          0.7768860353130016,
          0.7102803738317757,
          0.6873614190687362,
          0.7051671732522796,
          0.7042079207920792,
          0.7987637362637363,
          0.8326359832635983,
          0.6841477949940405,
          0.7927927927927928,
          0.7157442235357335,
          0.5318095238095238,
          0.7539015606242497,
          0.8033732800710164,
          0.4943639291465378
         ],
         "y": [
          0.5942320590207915,
          0.7768860353130016,
          0.7102803738317757,
          0.6873614190687362,
          0.7051671732522796,
          0.7042079207920792,
          0.7987637362637363,
          0.8326359832635983,
          0.6841477949940405,
          0.7927927927927928,
          0.7157442235357335,
          0.5318095238095238,
          0.7539015606242497,
          0.8033732800710164,
          0.4943639291465378
         ]
        }
       ],
       "layout": {
        "barmode": "overlay",
        "legend": {
         "title": {
          "text": "test"
         },
         "tracegroupgap": 0
        },
        "margin": {
         "t": 60
        },
        "template": {
         "data": {
          "bar": [
           {
            "error_x": {
             "color": "#2a3f5f"
            },
            "error_y": {
             "color": "#2a3f5f"
            },
            "marker": {
             "line": {
              "color": "#E5ECF6",
              "width": 0.5
             },
             "pattern": {
              "fillmode": "overlay",
              "size": 10,
              "solidity": 0.2
             }
            },
            "type": "bar"
           }
          ],
          "barpolar": [
           {
            "marker": {
             "line": {
              "color": "#E5ECF6",
              "width": 0.5
             },
             "pattern": {
              "fillmode": "overlay",
              "size": 10,
              "solidity": 0.2
             }
            },
            "type": "barpolar"
           }
          ],
          "carpet": [
           {
            "aaxis": {
             "endlinecolor": "#2a3f5f",
             "gridcolor": "white",
             "linecolor": "white",
             "minorgridcolor": "white",
             "startlinecolor": "#2a3f5f"
            },
            "baxis": {
             "endlinecolor": "#2a3f5f",
             "gridcolor": "white",
             "linecolor": "white",
             "minorgridcolor": "white",
             "startlinecolor": "#2a3f5f"
            },
            "type": "carpet"
           }
          ],
          "choropleth": [
           {
            "colorbar": {
             "outlinewidth": 0,
             "ticks": ""
            },
            "type": "choropleth"
           }
          ],
          "contour": [
           {
            "colorbar": {
             "outlinewidth": 0,
             "ticks": ""
            },
            "colorscale": [
             [
              0,
              "#0d0887"
             ],
             [
              0.1111111111111111,
              "#46039f"
             ],
             [
              0.2222222222222222,
              "#7201a8"
             ],
             [
              0.3333333333333333,
              "#9c179e"
             ],
             [
              0.4444444444444444,
              "#bd3786"
             ],
             [
              0.5555555555555556,
              "#d8576b"
             ],
             [
              0.6666666666666666,
              "#ed7953"
             ],
             [
              0.7777777777777778,
              "#fb9f3a"
             ],
             [
              0.8888888888888888,
              "#fdca26"
             ],
             [
              1,
              "#f0f921"
             ]
            ],
            "type": "contour"
           }
          ],
          "contourcarpet": [
           {
            "colorbar": {
             "outlinewidth": 0,
             "ticks": ""
            },
            "type": "contourcarpet"
           }
          ],
          "heatmap": [
           {
            "colorbar": {
             "outlinewidth": 0,
             "ticks": ""
            },
            "colorscale": [
             [
              0,
              "#0d0887"
             ],
             [
              0.1111111111111111,
              "#46039f"
             ],
             [
              0.2222222222222222,
              "#7201a8"
             ],
             [
              0.3333333333333333,
              "#9c179e"
             ],
             [
              0.4444444444444444,
              "#bd3786"
             ],
             [
              0.5555555555555556,
              "#d8576b"
             ],
             [
              0.6666666666666666,
              "#ed7953"
             ],
             [
              0.7777777777777778,
              "#fb9f3a"
             ],
             [
              0.8888888888888888,
              "#fdca26"
             ],
             [
              1,
              "#f0f921"
             ]
            ],
            "type": "heatmap"
           }
          ],
          "heatmapgl": [
           {
            "colorbar": {
             "outlinewidth": 0,
             "ticks": ""
            },
            "colorscale": [
             [
              0,
              "#0d0887"
             ],
             [
              0.1111111111111111,
              "#46039f"
             ],
             [
              0.2222222222222222,
              "#7201a8"
             ],
             [
              0.3333333333333333,
              "#9c179e"
             ],
             [
              0.4444444444444444,
              "#bd3786"
             ],
             [
              0.5555555555555556,
              "#d8576b"
             ],
             [
              0.6666666666666666,
              "#ed7953"
             ],
             [
              0.7777777777777778,
              "#fb9f3a"
             ],
             [
              0.8888888888888888,
              "#fdca26"
             ],
             [
              1,
              "#f0f921"
             ]
            ],
            "type": "heatmapgl"
           }
          ],
          "histogram": [
           {
            "marker": {
             "pattern": {
              "fillmode": "overlay",
              "size": 10,
              "solidity": 0.2
             }
            },
            "type": "histogram"
           }
          ],
          "histogram2d": [
           {
            "colorbar": {
             "outlinewidth": 0,
             "ticks": ""
            },
            "colorscale": [
             [
              0,
              "#0d0887"
             ],
             [
              0.1111111111111111,
              "#46039f"
             ],
             [
              0.2222222222222222,
              "#7201a8"
             ],
             [
              0.3333333333333333,
              "#9c179e"
             ],
             [
              0.4444444444444444,
              "#bd3786"
             ],
             [
              0.5555555555555556,
              "#d8576b"
             ],
             [
              0.6666666666666666,
              "#ed7953"
             ],
             [
              0.7777777777777778,
              "#fb9f3a"
             ],
             [
              0.8888888888888888,
              "#fdca26"
             ],
             [
              1,
              "#f0f921"
             ]
            ],
            "type": "histogram2d"
           }
          ],
          "histogram2dcontour": [
           {
            "colorbar": {
             "outlinewidth": 0,
             "ticks": ""
            },
            "colorscale": [
             [
              0,
              "#0d0887"
             ],
             [
              0.1111111111111111,
              "#46039f"
             ],
             [
              0.2222222222222222,
              "#7201a8"
             ],
             [
              0.3333333333333333,
              "#9c179e"
             ],
             [
              0.4444444444444444,
              "#bd3786"
             ],
             [
              0.5555555555555556,
              "#d8576b"
             ],
             [
              0.6666666666666666,
              "#ed7953"
             ],
             [
              0.7777777777777778,
              "#fb9f3a"
             ],
             [
              0.8888888888888888,
              "#fdca26"
             ],
             [
              1,
              "#f0f921"
             ]
            ],
            "type": "histogram2dcontour"
           }
          ],
          "mesh3d": [
           {
            "colorbar": {
             "outlinewidth": 0,
             "ticks": ""
            },
            "type": "mesh3d"
           }
          ],
          "parcoords": [
           {
            "line": {
             "colorbar": {
              "outlinewidth": 0,
              "ticks": ""
             }
            },
            "type": "parcoords"
           }
          ],
          "pie": [
           {
            "automargin": true,
            "type": "pie"
           }
          ],
          "scatter": [
           {
            "fillpattern": {
             "fillmode": "overlay",
             "size": 10,
             "solidity": 0.2
            },
            "type": "scatter"
           }
          ],
          "scatter3d": [
           {
            "line": {
             "colorbar": {
              "outlinewidth": 0,
              "ticks": ""
             }
            },
            "marker": {
             "colorbar": {
              "outlinewidth": 0,
              "ticks": ""
             }
            },
            "type": "scatter3d"
           }
          ],
          "scattercarpet": [
           {
            "marker": {
             "colorbar": {
              "outlinewidth": 0,
              "ticks": ""
             }
            },
            "type": "scattercarpet"
           }
          ],
          "scattergeo": [
           {
            "marker": {
             "colorbar": {
              "outlinewidth": 0,
              "ticks": ""
             }
            },
            "type": "scattergeo"
           }
          ],
          "scattergl": [
           {
            "marker": {
             "colorbar": {
              "outlinewidth": 0,
              "ticks": ""
             }
            },
            "type": "scattergl"
           }
          ],
          "scattermapbox": [
           {
            "marker": {
             "colorbar": {
              "outlinewidth": 0,
              "ticks": ""
             }
            },
            "type": "scattermapbox"
           }
          ],
          "scatterpolar": [
           {
            "marker": {
             "colorbar": {
              "outlinewidth": 0,
              "ticks": ""
             }
            },
            "type": "scatterpolar"
           }
          ],
          "scatterpolargl": [
           {
            "marker": {
             "colorbar": {
              "outlinewidth": 0,
              "ticks": ""
             }
            },
            "type": "scatterpolargl"
           }
          ],
          "scatterternary": [
           {
            "marker": {
             "colorbar": {
              "outlinewidth": 0,
              "ticks": ""
             }
            },
            "type": "scatterternary"
           }
          ],
          "surface": [
           {
            "colorbar": {
             "outlinewidth": 0,
             "ticks": ""
            },
            "colorscale": [
             [
              0,
              "#0d0887"
             ],
             [
              0.1111111111111111,
              "#46039f"
             ],
             [
              0.2222222222222222,
              "#7201a8"
             ],
             [
              0.3333333333333333,
              "#9c179e"
             ],
             [
              0.4444444444444444,
              "#bd3786"
             ],
             [
              0.5555555555555556,
              "#d8576b"
             ],
             [
              0.6666666666666666,
              "#ed7953"
             ],
             [
              0.7777777777777778,
              "#fb9f3a"
             ],
             [
              0.8888888888888888,
              "#fdca26"
             ],
             [
              1,
              "#f0f921"
             ]
            ],
            "type": "surface"
           }
          ],
          "table": [
           {
            "cells": {
             "fill": {
              "color": "#EBF0F8"
             },
             "line": {
              "color": "white"
             }
            },
            "header": {
             "fill": {
              "color": "#C8D4E3"
             },
             "line": {
              "color": "white"
             }
            },
            "type": "table"
           }
          ]
         },
         "layout": {
          "annotationdefaults": {
           "arrowcolor": "#2a3f5f",
           "arrowhead": 0,
           "arrowwidth": 1
          },
          "autotypenumbers": "strict",
          "coloraxis": {
           "colorbar": {
            "outlinewidth": 0,
            "ticks": ""
           }
          },
          "colorscale": {
           "diverging": [
            [
             0,
             "#8e0152"
            ],
            [
             0.1,
             "#c51b7d"
            ],
            [
             0.2,
             "#de77ae"
            ],
            [
             0.3,
             "#f1b6da"
            ],
            [
             0.4,
             "#fde0ef"
            ],
            [
             0.5,
             "#f7f7f7"
            ],
            [
             0.6,
             "#e6f5d0"
            ],
            [
             0.7,
             "#b8e186"
            ],
            [
             0.8,
             "#7fbc41"
            ],
            [
             0.9,
             "#4d9221"
            ],
            [
             1,
             "#276419"
            ]
           ],
           "sequential": [
            [
             0,
             "#0d0887"
            ],
            [
             0.1111111111111111,
             "#46039f"
            ],
            [
             0.2222222222222222,
             "#7201a8"
            ],
            [
             0.3333333333333333,
             "#9c179e"
            ],
            [
             0.4444444444444444,
             "#bd3786"
            ],
            [
             0.5555555555555556,
             "#d8576b"
            ],
            [
             0.6666666666666666,
             "#ed7953"
            ],
            [
             0.7777777777777778,
             "#fb9f3a"
            ],
            [
             0.8888888888888888,
             "#fdca26"
            ],
            [
             1,
             "#f0f921"
            ]
           ],
           "sequentialminus": [
            [
             0,
             "#0d0887"
            ],
            [
             0.1111111111111111,
             "#46039f"
            ],
            [
             0.2222222222222222,
             "#7201a8"
            ],
            [
             0.3333333333333333,
             "#9c179e"
            ],
            [
             0.4444444444444444,
             "#bd3786"
            ],
            [
             0.5555555555555556,
             "#d8576b"
            ],
            [
             0.6666666666666666,
             "#ed7953"
            ],
            [
             0.7777777777777778,
             "#fb9f3a"
            ],
            [
             0.8888888888888888,
             "#fdca26"
            ],
            [
             1,
             "#f0f921"
            ]
           ]
          },
          "colorway": [
           "#636efa",
           "#EF553B",
           "#00cc96",
           "#ab63fa",
           "#FFA15A",
           "#19d3f3",
           "#FF6692",
           "#B6E880",
           "#FF97FF",
           "#FECB52"
          ],
          "font": {
           "color": "#2a3f5f"
          },
          "geo": {
           "bgcolor": "white",
           "lakecolor": "white",
           "landcolor": "#E5ECF6",
           "showlakes": true,
           "showland": true,
           "subunitcolor": "white"
          },
          "hoverlabel": {
           "align": "left"
          },
          "hovermode": "closest",
          "mapbox": {
           "style": "light"
          },
          "paper_bgcolor": "white",
          "plot_bgcolor": "#E5ECF6",
          "polar": {
           "angularaxis": {
            "gridcolor": "white",
            "linecolor": "white",
            "ticks": ""
           },
           "bgcolor": "#E5ECF6",
           "radialaxis": {
            "gridcolor": "white",
            "linecolor": "white",
            "ticks": ""
           }
          },
          "scene": {
           "xaxis": {
            "backgroundcolor": "#E5ECF6",
            "gridcolor": "white",
            "gridwidth": 2,
            "linecolor": "white",
            "showbackground": true,
            "ticks": "",
            "zerolinecolor": "white"
           },
           "yaxis": {
            "backgroundcolor": "#E5ECF6",
            "gridcolor": "white",
            "gridwidth": 2,
            "linecolor": "white",
            "showbackground": true,
            "ticks": "",
            "zerolinecolor": "white"
           },
           "zaxis": {
            "backgroundcolor": "#E5ECF6",
            "gridcolor": "white",
            "gridwidth": 2,
            "linecolor": "white",
            "showbackground": true,
            "ticks": "",
            "zerolinecolor": "white"
           }
          },
          "shapedefaults": {
           "line": {
            "color": "#2a3f5f"
           }
          },
          "ternary": {
           "aaxis": {
            "gridcolor": "white",
            "linecolor": "white",
            "ticks": ""
           },
           "baxis": {
            "gridcolor": "white",
            "linecolor": "white",
            "ticks": ""
           },
           "bgcolor": "#E5ECF6",
           "caxis": {
            "gridcolor": "white",
            "linecolor": "white",
            "ticks": ""
           }
          },
          "title": {
           "x": 0.05
          },
          "xaxis": {
           "automargin": true,
           "gridcolor": "white",
           "linecolor": "white",
           "ticks": "",
           "title": {
            "standoff": 15
           },
           "zerolinecolor": "white",
           "zerolinewidth": 2
          },
          "yaxis": {
           "automargin": true,
           "gridcolor": "white",
           "linecolor": "white",
           "ticks": "",
           "title": {
            "standoff": 15
           },
           "zerolinecolor": "white",
           "zerolinewidth": 2
          }
         }
        },
        "xaxis": {
         "anchor": "y",
         "domain": [
          0,
          0.7363
         ],
         "title": {
          "text": "eventF1"
         }
        },
        "xaxis2": {
         "anchor": "y2",
         "domain": [
          0.7413,
          1
         ],
         "matches": "x2",
         "showgrid": true,
         "showline": false,
         "showticklabels": false,
         "ticks": ""
        },
        "yaxis": {
         "anchor": "x",
         "domain": [
          0,
          1
         ],
         "title": {
          "text": "eventRecall"
         }
        },
        "yaxis2": {
         "anchor": "x2",
         "domain": [
          0,
          1
         ],
         "matches": "y",
         "showgrid": true,
         "showticklabels": false
        }
       }
      }
     },
     "metadata": {},
     "output_type": "display_data"
    }
   ],
   "source": [
    "fig=px.scatter(experimentModels_N2,x='eventF1',y='eventRecall',color='test',hover_name='modelId', marginal_y=\"histogram\")\n",
    "fig.add_trace(\n",
    "    go.Scatter(x=experimentModels_N2['eventF1'], y=experimentModels_N2['eventF1'], name=\"identity\", mode='lines',fill=\"toself\")\n",
    ")\n",
    "fig.show()"
   ]
  },
  {
   "cell_type": "code",
   "execution_count": 40,
   "metadata": {},
   "outputs": [
    {
     "data": {
      "text/html": [
       "<div>\n",
       "<style scoped>\n",
       "    .dataframe tbody tr th:only-of-type {\n",
       "        vertical-align: middle;\n",
       "    }\n",
       "\n",
       "    .dataframe tbody tr th {\n",
       "        vertical-align: top;\n",
       "    }\n",
       "\n",
       "    .dataframe thead tr th {\n",
       "        text-align: left;\n",
       "    }\n",
       "\n",
       "    .dataframe thead tr:last-of-type th {\n",
       "        text-align: right;\n",
       "    }\n",
       "</style>\n",
       "<table border=\"1\" class=\"dataframe\">\n",
       "  <thead>\n",
       "    <tr>\n",
       "      <th></th>\n",
       "      <th colspan=\"6\" halign=\"left\">eventF1</th>\n",
       "      <th colspan=\"6\" halign=\"left\">eventPrecision</th>\n",
       "      <th colspan=\"6\" halign=\"left\">eventRecall</th>\n",
       "    </tr>\n",
       "    <tr>\n",
       "      <th></th>\n",
       "      <th>count</th>\n",
       "      <th>mean</th>\n",
       "      <th>std</th>\n",
       "      <th>min</th>\n",
       "      <th>50%</th>\n",
       "      <th>max</th>\n",
       "      <th>count</th>\n",
       "      <th>mean</th>\n",
       "      <th>std</th>\n",
       "      <th>min</th>\n",
       "      <th>50%</th>\n",
       "      <th>max</th>\n",
       "      <th>count</th>\n",
       "      <th>mean</th>\n",
       "      <th>std</th>\n",
       "      <th>min</th>\n",
       "      <th>50%</th>\n",
       "      <th>max</th>\n",
       "    </tr>\n",
       "    <tr>\n",
       "      <th>test</th>\n",
       "      <th></th>\n",
       "      <th></th>\n",
       "      <th></th>\n",
       "      <th></th>\n",
       "      <th></th>\n",
       "      <th></th>\n",
       "      <th></th>\n",
       "      <th></th>\n",
       "      <th></th>\n",
       "      <th></th>\n",
       "      <th></th>\n",
       "      <th></th>\n",
       "      <th></th>\n",
       "      <th></th>\n",
       "      <th></th>\n",
       "      <th></th>\n",
       "      <th></th>\n",
       "      <th></th>\n",
       "    </tr>\n",
       "  </thead>\n",
       "  <tbody>\n",
       "    <tr>\n",
       "      <th>0001</th>\n",
       "      <td>1.0</td>\n",
       "      <td>0.594232</td>\n",
       "      <td>NaN</td>\n",
       "      <td>0.594232</td>\n",
       "      <td>0.594232</td>\n",
       "      <td>0.594232</td>\n",
       "      <td>1.0</td>\n",
       "      <td>0.991051</td>\n",
       "      <td>NaN</td>\n",
       "      <td>0.991051</td>\n",
       "      <td>0.991051</td>\n",
       "      <td>0.991051</td>\n",
       "      <td>1.0</td>\n",
       "      <td>0.424330</td>\n",
       "      <td>NaN</td>\n",
       "      <td>0.424330</td>\n",
       "      <td>0.424330</td>\n",
       "      <td>0.424330</td>\n",
       "    </tr>\n",
       "    <tr>\n",
       "      <th>0002</th>\n",
       "      <td>1.0</td>\n",
       "      <td>0.776886</td>\n",
       "      <td>NaN</td>\n",
       "      <td>0.776886</td>\n",
       "      <td>0.776886</td>\n",
       "      <td>0.776886</td>\n",
       "      <td>1.0</td>\n",
       "      <td>0.701665</td>\n",
       "      <td>NaN</td>\n",
       "      <td>0.701665</td>\n",
       "      <td>0.701665</td>\n",
       "      <td>0.701665</td>\n",
       "      <td>1.0</td>\n",
       "      <td>0.870387</td>\n",
       "      <td>NaN</td>\n",
       "      <td>0.870387</td>\n",
       "      <td>0.870387</td>\n",
       "      <td>0.870387</td>\n",
       "    </tr>\n",
       "    <tr>\n",
       "      <th>0003</th>\n",
       "      <td>1.0</td>\n",
       "      <td>0.710280</td>\n",
       "      <td>NaN</td>\n",
       "      <td>0.710280</td>\n",
       "      <td>0.710280</td>\n",
       "      <td>0.710280</td>\n",
       "      <td>1.0</td>\n",
       "      <td>0.640449</td>\n",
       "      <td>NaN</td>\n",
       "      <td>0.640449</td>\n",
       "      <td>0.640449</td>\n",
       "      <td>0.640449</td>\n",
       "      <td>1.0</td>\n",
       "      <td>0.797203</td>\n",
       "      <td>NaN</td>\n",
       "      <td>0.797203</td>\n",
       "      <td>0.797203</td>\n",
       "      <td>0.797203</td>\n",
       "    </tr>\n",
       "    <tr>\n",
       "      <th>0005</th>\n",
       "      <td>1.0</td>\n",
       "      <td>0.687361</td>\n",
       "      <td>NaN</td>\n",
       "      <td>0.687361</td>\n",
       "      <td>0.687361</td>\n",
       "      <td>0.687361</td>\n",
       "      <td>1.0</td>\n",
       "      <td>0.552585</td>\n",
       "      <td>NaN</td>\n",
       "      <td>0.552585</td>\n",
       "      <td>0.552585</td>\n",
       "      <td>0.552585</td>\n",
       "      <td>1.0</td>\n",
       "      <td>0.909091</td>\n",
       "      <td>NaN</td>\n",
       "      <td>0.909091</td>\n",
       "      <td>0.909091</td>\n",
       "      <td>0.909091</td>\n",
       "    </tr>\n",
       "    <tr>\n",
       "      <th>0006</th>\n",
       "      <td>1.0</td>\n",
       "      <td>0.705167</td>\n",
       "      <td>NaN</td>\n",
       "      <td>0.705167</td>\n",
       "      <td>0.705167</td>\n",
       "      <td>0.705167</td>\n",
       "      <td>1.0</td>\n",
       "      <td>0.648045</td>\n",
       "      <td>NaN</td>\n",
       "      <td>0.648045</td>\n",
       "      <td>0.648045</td>\n",
       "      <td>0.648045</td>\n",
       "      <td>1.0</td>\n",
       "      <td>0.773333</td>\n",
       "      <td>NaN</td>\n",
       "      <td>0.773333</td>\n",
       "      <td>0.773333</td>\n",
       "      <td>0.773333</td>\n",
       "    </tr>\n",
       "    <tr>\n",
       "      <th>0007</th>\n",
       "      <td>1.0</td>\n",
       "      <td>0.704208</td>\n",
       "      <td>NaN</td>\n",
       "      <td>0.704208</td>\n",
       "      <td>0.704208</td>\n",
       "      <td>0.704208</td>\n",
       "      <td>1.0</td>\n",
       "      <td>0.565476</td>\n",
       "      <td>NaN</td>\n",
       "      <td>0.565476</td>\n",
       "      <td>0.565476</td>\n",
       "      <td>0.565476</td>\n",
       "      <td>1.0</td>\n",
       "      <td>0.934211</td>\n",
       "      <td>NaN</td>\n",
       "      <td>0.934211</td>\n",
       "      <td>0.934211</td>\n",
       "      <td>0.934211</td>\n",
       "    </tr>\n",
       "    <tr>\n",
       "      <th>0009</th>\n",
       "      <td>1.0</td>\n",
       "      <td>0.798764</td>\n",
       "      <td>NaN</td>\n",
       "      <td>0.798764</td>\n",
       "      <td>0.798764</td>\n",
       "      <td>0.798764</td>\n",
       "      <td>1.0</td>\n",
       "      <td>0.906542</td>\n",
       "      <td>NaN</td>\n",
       "      <td>0.906542</td>\n",
       "      <td>0.906542</td>\n",
       "      <td>0.906542</td>\n",
       "      <td>1.0</td>\n",
       "      <td>0.713759</td>\n",
       "      <td>NaN</td>\n",
       "      <td>0.713759</td>\n",
       "      <td>0.713759</td>\n",
       "      <td>0.713759</td>\n",
       "    </tr>\n",
       "    <tr>\n",
       "      <th>0010</th>\n",
       "      <td>1.0</td>\n",
       "      <td>0.832636</td>\n",
       "      <td>NaN</td>\n",
       "      <td>0.832636</td>\n",
       "      <td>0.832636</td>\n",
       "      <td>0.832636</td>\n",
       "      <td>1.0</td>\n",
       "      <td>0.793850</td>\n",
       "      <td>NaN</td>\n",
       "      <td>0.793850</td>\n",
       "      <td>0.793850</td>\n",
       "      <td>0.793850</td>\n",
       "      <td>1.0</td>\n",
       "      <td>0.875472</td>\n",
       "      <td>NaN</td>\n",
       "      <td>0.875472</td>\n",
       "      <td>0.875472</td>\n",
       "      <td>0.875472</td>\n",
       "    </tr>\n",
       "    <tr>\n",
       "      <th>0011</th>\n",
       "      <td>1.0</td>\n",
       "      <td>0.684148</td>\n",
       "      <td>NaN</td>\n",
       "      <td>0.684148</td>\n",
       "      <td>0.684148</td>\n",
       "      <td>0.684148</td>\n",
       "      <td>1.0</td>\n",
       "      <td>0.531365</td>\n",
       "      <td>NaN</td>\n",
       "      <td>0.531365</td>\n",
       "      <td>0.531365</td>\n",
       "      <td>0.531365</td>\n",
       "      <td>1.0</td>\n",
       "      <td>0.962963</td>\n",
       "      <td>NaN</td>\n",
       "      <td>0.962963</td>\n",
       "      <td>0.962963</td>\n",
       "      <td>0.962963</td>\n",
       "    </tr>\n",
       "    <tr>\n",
       "      <th>0012</th>\n",
       "      <td>1.0</td>\n",
       "      <td>0.792793</td>\n",
       "      <td>NaN</td>\n",
       "      <td>0.792793</td>\n",
       "      <td>0.792793</td>\n",
       "      <td>0.792793</td>\n",
       "      <td>1.0</td>\n",
       "      <td>0.777174</td>\n",
       "      <td>NaN</td>\n",
       "      <td>0.777174</td>\n",
       "      <td>0.777174</td>\n",
       "      <td>0.777174</td>\n",
       "      <td>1.0</td>\n",
       "      <td>0.809052</td>\n",
       "      <td>NaN</td>\n",
       "      <td>0.809052</td>\n",
       "      <td>0.809052</td>\n",
       "      <td>0.809052</td>\n",
       "    </tr>\n",
       "    <tr>\n",
       "      <th>0013</th>\n",
       "      <td>1.0</td>\n",
       "      <td>0.715744</td>\n",
       "      <td>NaN</td>\n",
       "      <td>0.715744</td>\n",
       "      <td>0.715744</td>\n",
       "      <td>0.715744</td>\n",
       "      <td>1.0</td>\n",
       "      <td>0.573517</td>\n",
       "      <td>NaN</td>\n",
       "      <td>0.573517</td>\n",
       "      <td>0.573517</td>\n",
       "      <td>0.573517</td>\n",
       "      <td>1.0</td>\n",
       "      <td>0.952722</td>\n",
       "      <td>NaN</td>\n",
       "      <td>0.952722</td>\n",
       "      <td>0.952722</td>\n",
       "      <td>0.952722</td>\n",
       "    </tr>\n",
       "    <tr>\n",
       "      <th>0014</th>\n",
       "      <td>1.0</td>\n",
       "      <td>0.531810</td>\n",
       "      <td>NaN</td>\n",
       "      <td>0.531810</td>\n",
       "      <td>0.531810</td>\n",
       "      <td>0.531810</td>\n",
       "      <td>1.0</td>\n",
       "      <td>0.362258</td>\n",
       "      <td>NaN</td>\n",
       "      <td>0.362258</td>\n",
       "      <td>0.362258</td>\n",
       "      <td>0.362258</td>\n",
       "      <td>1.0</td>\n",
       "      <td>0.987360</td>\n",
       "      <td>NaN</td>\n",
       "      <td>0.987360</td>\n",
       "      <td>0.987360</td>\n",
       "      <td>0.987360</td>\n",
       "    </tr>\n",
       "    <tr>\n",
       "      <th>0017</th>\n",
       "      <td>1.0</td>\n",
       "      <td>0.753902</td>\n",
       "      <td>NaN</td>\n",
       "      <td>0.753902</td>\n",
       "      <td>0.753902</td>\n",
       "      <td>0.753902</td>\n",
       "      <td>1.0</td>\n",
       "      <td>0.862259</td>\n",
       "      <td>NaN</td>\n",
       "      <td>0.862259</td>\n",
       "      <td>0.862259</td>\n",
       "      <td>0.862259</td>\n",
       "      <td>1.0</td>\n",
       "      <td>0.670213</td>\n",
       "      <td>NaN</td>\n",
       "      <td>0.670213</td>\n",
       "      <td>0.670213</td>\n",
       "      <td>0.670213</td>\n",
       "    </tr>\n",
       "    <tr>\n",
       "      <th>0018</th>\n",
       "      <td>1.0</td>\n",
       "      <td>0.803373</td>\n",
       "      <td>NaN</td>\n",
       "      <td>0.803373</td>\n",
       "      <td>0.803373</td>\n",
       "      <td>0.803373</td>\n",
       "      <td>1.0</td>\n",
       "      <td>0.831038</td>\n",
       "      <td>NaN</td>\n",
       "      <td>0.831038</td>\n",
       "      <td>0.831038</td>\n",
       "      <td>0.831038</td>\n",
       "      <td>1.0</td>\n",
       "      <td>0.777491</td>\n",
       "      <td>NaN</td>\n",
       "      <td>0.777491</td>\n",
       "      <td>0.777491</td>\n",
       "      <td>0.777491</td>\n",
       "    </tr>\n",
       "    <tr>\n",
       "      <th>0019</th>\n",
       "      <td>1.0</td>\n",
       "      <td>0.494364</td>\n",
       "      <td>NaN</td>\n",
       "      <td>0.494364</td>\n",
       "      <td>0.494364</td>\n",
       "      <td>0.494364</td>\n",
       "      <td>1.0</td>\n",
       "      <td>0.328694</td>\n",
       "      <td>NaN</td>\n",
       "      <td>0.328694</td>\n",
       "      <td>0.328694</td>\n",
       "      <td>0.328694</td>\n",
       "      <td>1.0</td>\n",
       "      <td>0.996753</td>\n",
       "      <td>NaN</td>\n",
       "      <td>0.996753</td>\n",
       "      <td>0.996753</td>\n",
       "      <td>0.996753</td>\n",
       "    </tr>\n",
       "  </tbody>\n",
       "</table>\n",
       "</div>"
      ],
      "text/plain": [
       "     eventF1                                             eventPrecision  \\\n",
       "       count      mean std       min       50%       max          count   \n",
       "test                                                                      \n",
       "0001     1.0  0.594232 NaN  0.594232  0.594232  0.594232            1.0   \n",
       "0002     1.0  0.776886 NaN  0.776886  0.776886  0.776886            1.0   \n",
       "0003     1.0  0.710280 NaN  0.710280  0.710280  0.710280            1.0   \n",
       "0005     1.0  0.687361 NaN  0.687361  0.687361  0.687361            1.0   \n",
       "0006     1.0  0.705167 NaN  0.705167  0.705167  0.705167            1.0   \n",
       "0007     1.0  0.704208 NaN  0.704208  0.704208  0.704208            1.0   \n",
       "0009     1.0  0.798764 NaN  0.798764  0.798764  0.798764            1.0   \n",
       "0010     1.0  0.832636 NaN  0.832636  0.832636  0.832636            1.0   \n",
       "0011     1.0  0.684148 NaN  0.684148  0.684148  0.684148            1.0   \n",
       "0012     1.0  0.792793 NaN  0.792793  0.792793  0.792793            1.0   \n",
       "0013     1.0  0.715744 NaN  0.715744  0.715744  0.715744            1.0   \n",
       "0014     1.0  0.531810 NaN  0.531810  0.531810  0.531810            1.0   \n",
       "0017     1.0  0.753902 NaN  0.753902  0.753902  0.753902            1.0   \n",
       "0018     1.0  0.803373 NaN  0.803373  0.803373  0.803373            1.0   \n",
       "0019     1.0  0.494364 NaN  0.494364  0.494364  0.494364            1.0   \n",
       "\n",
       "                                                 eventRecall                \\\n",
       "          mean std       min       50%       max       count      mean std   \n",
       "test                                                                         \n",
       "0001  0.991051 NaN  0.991051  0.991051  0.991051         1.0  0.424330 NaN   \n",
       "0002  0.701665 NaN  0.701665  0.701665  0.701665         1.0  0.870387 NaN   \n",
       "0003  0.640449 NaN  0.640449  0.640449  0.640449         1.0  0.797203 NaN   \n",
       "0005  0.552585 NaN  0.552585  0.552585  0.552585         1.0  0.909091 NaN   \n",
       "0006  0.648045 NaN  0.648045  0.648045  0.648045         1.0  0.773333 NaN   \n",
       "0007  0.565476 NaN  0.565476  0.565476  0.565476         1.0  0.934211 NaN   \n",
       "0009  0.906542 NaN  0.906542  0.906542  0.906542         1.0  0.713759 NaN   \n",
       "0010  0.793850 NaN  0.793850  0.793850  0.793850         1.0  0.875472 NaN   \n",
       "0011  0.531365 NaN  0.531365  0.531365  0.531365         1.0  0.962963 NaN   \n",
       "0012  0.777174 NaN  0.777174  0.777174  0.777174         1.0  0.809052 NaN   \n",
       "0013  0.573517 NaN  0.573517  0.573517  0.573517         1.0  0.952722 NaN   \n",
       "0014  0.362258 NaN  0.362258  0.362258  0.362258         1.0  0.987360 NaN   \n",
       "0017  0.862259 NaN  0.862259  0.862259  0.862259         1.0  0.670213 NaN   \n",
       "0018  0.831038 NaN  0.831038  0.831038  0.831038         1.0  0.777491 NaN   \n",
       "0019  0.328694 NaN  0.328694  0.328694  0.328694         1.0  0.996753 NaN   \n",
       "\n",
       "                                    \n",
       "           min       50%       max  \n",
       "test                                \n",
       "0001  0.424330  0.424330  0.424330  \n",
       "0002  0.870387  0.870387  0.870387  \n",
       "0003  0.797203  0.797203  0.797203  \n",
       "0005  0.909091  0.909091  0.909091  \n",
       "0006  0.773333  0.773333  0.773333  \n",
       "0007  0.934211  0.934211  0.934211  \n",
       "0009  0.713759  0.713759  0.713759  \n",
       "0010  0.875472  0.875472  0.875472  \n",
       "0011  0.962963  0.962963  0.962963  \n",
       "0012  0.809052  0.809052  0.809052  \n",
       "0013  0.952722  0.952722  0.952722  \n",
       "0014  0.987360  0.987360  0.987360  \n",
       "0017  0.670213  0.670213  0.670213  \n",
       "0018  0.777491  0.777491  0.777491  \n",
       "0019  0.996753  0.996753  0.996753  "
      ]
     },
     "execution_count": 40,
     "metadata": {},
     "output_type": "execute_result"
    }
   ],
   "source": [
    "experimentModels_N2[['test','eventF1','eventPrecision','eventRecall']].groupby('test').describe(percentiles=[0.5])"
   ]
  },
  {
   "cell_type": "code",
   "execution_count": 41,
   "metadata": {},
   "outputs": [
    {
     "data": {
      "text/html": [
       "<div>\n",
       "<style scoped>\n",
       "    .dataframe tbody tr th:only-of-type {\n",
       "        vertical-align: middle;\n",
       "    }\n",
       "\n",
       "    .dataframe tbody tr th {\n",
       "        vertical-align: top;\n",
       "    }\n",
       "\n",
       "    .dataframe thead th {\n",
       "        text-align: right;\n",
       "    }\n",
       "</style>\n",
       "<table border=\"1\" class=\"dataframe\">\n",
       "  <thead>\n",
       "    <tr style=\"text-align: right;\">\n",
       "      <th></th>\n",
       "      <th>test</th>\n",
       "      <th>eventF1</th>\n",
       "      <th>eventPrecision</th>\n",
       "      <th>eventRecall</th>\n",
       "    </tr>\n",
       "  </thead>\n",
       "  <tbody>\n",
       "    <tr>\n",
       "      <th>0</th>\n",
       "      <td>0001</td>\n",
       "      <td>0.594232</td>\n",
       "      <td>0.991051</td>\n",
       "      <td>0.424330</td>\n",
       "    </tr>\n",
       "    <tr>\n",
       "      <th>1</th>\n",
       "      <td>0002</td>\n",
       "      <td>0.776886</td>\n",
       "      <td>0.701665</td>\n",
       "      <td>0.870387</td>\n",
       "    </tr>\n",
       "    <tr>\n",
       "      <th>2</th>\n",
       "      <td>0003</td>\n",
       "      <td>0.710280</td>\n",
       "      <td>0.640449</td>\n",
       "      <td>0.797203</td>\n",
       "    </tr>\n",
       "    <tr>\n",
       "      <th>3</th>\n",
       "      <td>0005</td>\n",
       "      <td>0.687361</td>\n",
       "      <td>0.552585</td>\n",
       "      <td>0.909091</td>\n",
       "    </tr>\n",
       "    <tr>\n",
       "      <th>4</th>\n",
       "      <td>0006</td>\n",
       "      <td>0.705167</td>\n",
       "      <td>0.648045</td>\n",
       "      <td>0.773333</td>\n",
       "    </tr>\n",
       "    <tr>\n",
       "      <th>5</th>\n",
       "      <td>0007</td>\n",
       "      <td>0.704208</td>\n",
       "      <td>0.565476</td>\n",
       "      <td>0.934211</td>\n",
       "    </tr>\n",
       "    <tr>\n",
       "      <th>6</th>\n",
       "      <td>0009</td>\n",
       "      <td>0.798764</td>\n",
       "      <td>0.906542</td>\n",
       "      <td>0.713759</td>\n",
       "    </tr>\n",
       "    <tr>\n",
       "      <th>7</th>\n",
       "      <td>0010</td>\n",
       "      <td>0.832636</td>\n",
       "      <td>0.793850</td>\n",
       "      <td>0.875472</td>\n",
       "    </tr>\n",
       "    <tr>\n",
       "      <th>8</th>\n",
       "      <td>0011</td>\n",
       "      <td>0.684148</td>\n",
       "      <td>0.531365</td>\n",
       "      <td>0.962963</td>\n",
       "    </tr>\n",
       "    <tr>\n",
       "      <th>9</th>\n",
       "      <td>0012</td>\n",
       "      <td>0.792793</td>\n",
       "      <td>0.777174</td>\n",
       "      <td>0.809052</td>\n",
       "    </tr>\n",
       "    <tr>\n",
       "      <th>10</th>\n",
       "      <td>0013</td>\n",
       "      <td>0.715744</td>\n",
       "      <td>0.573517</td>\n",
       "      <td>0.952722</td>\n",
       "    </tr>\n",
       "    <tr>\n",
       "      <th>11</th>\n",
       "      <td>0014</td>\n",
       "      <td>0.531810</td>\n",
       "      <td>0.362258</td>\n",
       "      <td>0.987360</td>\n",
       "    </tr>\n",
       "    <tr>\n",
       "      <th>12</th>\n",
       "      <td>0017</td>\n",
       "      <td>0.753902</td>\n",
       "      <td>0.862259</td>\n",
       "      <td>0.670213</td>\n",
       "    </tr>\n",
       "    <tr>\n",
       "      <th>13</th>\n",
       "      <td>0018</td>\n",
       "      <td>0.803373</td>\n",
       "      <td>0.831038</td>\n",
       "      <td>0.777491</td>\n",
       "    </tr>\n",
       "    <tr>\n",
       "      <th>14</th>\n",
       "      <td>0019</td>\n",
       "      <td>0.494364</td>\n",
       "      <td>0.328694</td>\n",
       "      <td>0.996753</td>\n",
       "    </tr>\n",
       "  </tbody>\n",
       "</table>\n",
       "</div>"
      ],
      "text/plain": [
       "    test   eventF1  eventPrecision  eventRecall\n",
       "0   0001  0.594232        0.991051     0.424330\n",
       "1   0002  0.776886        0.701665     0.870387\n",
       "2   0003  0.710280        0.640449     0.797203\n",
       "3   0005  0.687361        0.552585     0.909091\n",
       "4   0006  0.705167        0.648045     0.773333\n",
       "5   0007  0.704208        0.565476     0.934211\n",
       "6   0009  0.798764        0.906542     0.713759\n",
       "7   0010  0.832636        0.793850     0.875472\n",
       "8   0011  0.684148        0.531365     0.962963\n",
       "9   0012  0.792793        0.777174     0.809052\n",
       "10  0013  0.715744        0.573517     0.952722\n",
       "11  0014  0.531810        0.362258     0.987360\n",
       "12  0017  0.753902        0.862259     0.670213\n",
       "13  0018  0.803373        0.831038     0.777491\n",
       "14  0019  0.494364        0.328694     0.996753"
      ]
     },
     "execution_count": 41,
     "metadata": {},
     "output_type": "execute_result"
    }
   ],
   "source": [
    "experimentModels_N2[['test','eventF1','eventPrecision','eventRecall']].groupby('test',as_index=False).mean()"
   ]
  },
  {
   "cell_type": "code",
   "execution_count": 42,
   "metadata": {},
   "outputs": [
    {
     "data": {
      "text/plain": [
       "test              6.668000e+54\n",
       "eventF1           7.057112e-01\n",
       "eventPrecision    6.710645e-01\n",
       "eventRecall       8.302893e-01\n",
       "dtype: float64"
      ]
     },
     "execution_count": 42,
     "metadata": {},
     "output_type": "execute_result"
    }
   ],
   "source": [
    "experimentModels_N2[['test','eventF1','eventPrecision','eventRecall']].groupby('test',as_index=False).mean().mean()"
   ]
  },
  {
   "cell_type": "code",
   "execution_count": 43,
   "metadata": {},
   "outputs": [
    {
     "name": "stderr",
     "output_type": "stream",
     "text": [
      "C:\\Users\\Gurdiel\\AppData\\Local\\Temp\\ipykernel_5360\\813125388.py:1: FutureWarning:\n",
      "\n",
      "The default value of numeric_only in DataFrame.std is deprecated. In a future version, it will default to False. In addition, specifying 'numeric_only=None' is deprecated. Select only valid columns or specify the value of numeric_only to silence this warning.\n",
      "\n"
     ]
    },
    {
     "data": {
      "text/plain": [
       "eventF1           0.099118\n",
       "eventPrecision    0.191894\n",
       "eventRecall       0.150527\n",
       "dtype: float64"
      ]
     },
     "execution_count": 43,
     "metadata": {},
     "output_type": "execute_result"
    }
   ],
   "source": [
    "experimentModels_N2[['test','eventF1','eventPrecision','eventRecall']].groupby('test',as_index=False).mean().std()"
   ]
  },
  {
   "cell_type": "code",
   "execution_count": 44,
   "metadata": {},
   "outputs": [],
   "source": [
    "auxPrecision=pd.DataFrame({\n",
    "    'metric':'event precision',\n",
    "    'value':experimentModels_N2.eventPrecision,\n",
    "    'event F1':experimentModels_N2.eventF1\n",
    "})\n",
    "\n",
    "auxRecall=pd.DataFrame({\n",
    "    'metric':'event recall',\n",
    "    'value':experimentModels_N2.eventRecall,\n",
    "    'event F1':experimentModels_N2.eventF1\n",
    "})\n",
    "visualTradeoff=pd.concat((auxPrecision,auxRecall))"
   ]
  },
  {
   "cell_type": "code",
   "execution_count": 45,
   "metadata": {},
   "outputs": [
    {
     "data": {
      "application/vnd.plotly.v1+json": {
       "config": {
        "plotlyServerURL": "https://plot.ly"
       },
       "data": [
        {
         "hovertemplate": "metric=event precision<br>event F1=%{x}<br>value=%{y}<extra></extra>",
         "legendgroup": "event precision",
         "marker": {
          "color": "#636efa",
          "symbol": "circle"
         },
         "mode": "markers",
         "name": "event precision",
         "orientation": "v",
         "showlegend": true,
         "type": "scatter",
         "x": [
          0.5942320590207915,
          0.7768860353130016,
          0.7102803738317757,
          0.6873614190687362,
          0.7051671732522796,
          0.7042079207920792,
          0.7987637362637363,
          0.8326359832635983,
          0.6841477949940405,
          0.7927927927927928,
          0.7157442235357335,
          0.5318095238095238,
          0.7539015606242497,
          0.8033732800710164,
          0.4943639291465378
         ],
         "xaxis": "x",
         "y": [
          0.9910514541387024,
          0.7016654598117307,
          0.6404494382022472,
          0.5525846702317291,
          0.6480446927374302,
          0.5654761904761905,
          0.9065420560747663,
          0.7938496583143508,
          0.5313653136531366,
          0.7771739130434783,
          0.5735167669819432,
          0.36225823314166233,
          0.8622589531680441,
          0.8310376492194674,
          0.3286937901498929
         ],
         "yaxis": "y"
        },
        {
         "alignmentgroup": "True",
         "bingroup": "y",
         "hovertemplate": "metric=event precision<br>value=%{y}<br>count=%{x}<extra></extra>",
         "legendgroup": "event precision",
         "marker": {
          "color": "#636efa"
         },
         "name": "event precision",
         "offsetgroup": "event precision",
         "opacity": 0.5,
         "showlegend": false,
         "type": "histogram",
         "xaxis": "x2",
         "y": [
          0.9910514541387024,
          0.7016654598117307,
          0.6404494382022472,
          0.5525846702317291,
          0.6480446927374302,
          0.5654761904761905,
          0.9065420560747663,
          0.7938496583143508,
          0.5313653136531366,
          0.7771739130434783,
          0.5735167669819432,
          0.36225823314166233,
          0.8622589531680441,
          0.8310376492194674,
          0.3286937901498929
         ],
         "yaxis": "y2"
        },
        {
         "hovertemplate": "metric=event recall<br>event F1=%{x}<br>value=%{y}<extra></extra>",
         "legendgroup": "event recall",
         "marker": {
          "color": "#EF553B",
          "symbol": "circle"
         },
         "mode": "markers",
         "name": "event recall",
         "orientation": "v",
         "showlegend": true,
         "type": "scatter",
         "x": [
          0.5942320590207915,
          0.7768860353130016,
          0.7102803738317757,
          0.6873614190687362,
          0.7051671732522796,
          0.7042079207920792,
          0.7987637362637363,
          0.8326359832635983,
          0.6841477949940405,
          0.7927927927927928,
          0.7157442235357335,
          0.5318095238095238,
          0.7539015606242497,
          0.8033732800710164,
          0.4943639291465378
         ],
         "xaxis": "x",
         "y": [
          0.42432950191570884,
          0.8703870387038704,
          0.7972027972027972,
          0.9090909090909091,
          0.7733333333333333,
          0.9342105263157895,
          0.7137592137592138,
          0.8754716981132076,
          0.9629629629629629,
          0.809052333804809,
          0.9527220630372493,
          0.9873595505617978,
          0.6702127659574468,
          0.7774914089347079,
          0.9967532467532467
         ],
         "yaxis": "y"
        },
        {
         "alignmentgroup": "True",
         "bingroup": "y",
         "hovertemplate": "metric=event recall<br>value=%{y}<br>count=%{x}<extra></extra>",
         "legendgroup": "event recall",
         "marker": {
          "color": "#EF553B"
         },
         "name": "event recall",
         "offsetgroup": "event recall",
         "opacity": 0.5,
         "showlegend": false,
         "type": "histogram",
         "xaxis": "x2",
         "y": [
          0.42432950191570884,
          0.8703870387038704,
          0.7972027972027972,
          0.9090909090909091,
          0.7733333333333333,
          0.9342105263157895,
          0.7137592137592138,
          0.8754716981132076,
          0.9629629629629629,
          0.809052333804809,
          0.9527220630372493,
          0.9873595505617978,
          0.6702127659574468,
          0.7774914089347079,
          0.9967532467532467
         ],
         "yaxis": "y2"
        },
        {
         "fill": "toself",
         "mode": "lines",
         "name": "identity",
         "type": "scatter",
         "x": [
          0.586366644606221,
          0.7673971549404075,
          0.6705882352941176,
          0.6666666666666666,
          0.6666666666666666,
          0.6182542557044549,
          0.7874069058903183,
          0.7587145969498911,
          0.6679954441913439,
          0.7326100829610721,
          0.6897980321077162,
          0.5113553113553113,
          0.7336448598130841,
          0.7886710239651417,
          0.4940991345397325
         ],
         "y": [
          0.586366644606221,
          0.7673971549404075,
          0.6705882352941176,
          0.6666666666666666,
          0.6666666666666666,
          0.6182542557044549,
          0.7874069058903183,
          0.7587145969498911,
          0.6679954441913439,
          0.7326100829610721,
          0.6897980321077162,
          0.5113553113553113,
          0.7336448598130841,
          0.7886710239651417,
          0.4940991345397325
         ]
        }
       ],
       "layout": {
        "barmode": "overlay",
        "legend": {
         "title": {
          "text": "metric"
         },
         "tracegroupgap": 0
        },
        "margin": {
         "t": 60
        },
        "template": {
         "data": {
          "bar": [
           {
            "error_x": {
             "color": "#2a3f5f"
            },
            "error_y": {
             "color": "#2a3f5f"
            },
            "marker": {
             "line": {
              "color": "#E5ECF6",
              "width": 0.5
             },
             "pattern": {
              "fillmode": "overlay",
              "size": 10,
              "solidity": 0.2
             }
            },
            "type": "bar"
           }
          ],
          "barpolar": [
           {
            "marker": {
             "line": {
              "color": "#E5ECF6",
              "width": 0.5
             },
             "pattern": {
              "fillmode": "overlay",
              "size": 10,
              "solidity": 0.2
             }
            },
            "type": "barpolar"
           }
          ],
          "carpet": [
           {
            "aaxis": {
             "endlinecolor": "#2a3f5f",
             "gridcolor": "white",
             "linecolor": "white",
             "minorgridcolor": "white",
             "startlinecolor": "#2a3f5f"
            },
            "baxis": {
             "endlinecolor": "#2a3f5f",
             "gridcolor": "white",
             "linecolor": "white",
             "minorgridcolor": "white",
             "startlinecolor": "#2a3f5f"
            },
            "type": "carpet"
           }
          ],
          "choropleth": [
           {
            "colorbar": {
             "outlinewidth": 0,
             "ticks": ""
            },
            "type": "choropleth"
           }
          ],
          "contour": [
           {
            "colorbar": {
             "outlinewidth": 0,
             "ticks": ""
            },
            "colorscale": [
             [
              0,
              "#0d0887"
             ],
             [
              0.1111111111111111,
              "#46039f"
             ],
             [
              0.2222222222222222,
              "#7201a8"
             ],
             [
              0.3333333333333333,
              "#9c179e"
             ],
             [
              0.4444444444444444,
              "#bd3786"
             ],
             [
              0.5555555555555556,
              "#d8576b"
             ],
             [
              0.6666666666666666,
              "#ed7953"
             ],
             [
              0.7777777777777778,
              "#fb9f3a"
             ],
             [
              0.8888888888888888,
              "#fdca26"
             ],
             [
              1,
              "#f0f921"
             ]
            ],
            "type": "contour"
           }
          ],
          "contourcarpet": [
           {
            "colorbar": {
             "outlinewidth": 0,
             "ticks": ""
            },
            "type": "contourcarpet"
           }
          ],
          "heatmap": [
           {
            "colorbar": {
             "outlinewidth": 0,
             "ticks": ""
            },
            "colorscale": [
             [
              0,
              "#0d0887"
             ],
             [
              0.1111111111111111,
              "#46039f"
             ],
             [
              0.2222222222222222,
              "#7201a8"
             ],
             [
              0.3333333333333333,
              "#9c179e"
             ],
             [
              0.4444444444444444,
              "#bd3786"
             ],
             [
              0.5555555555555556,
              "#d8576b"
             ],
             [
              0.6666666666666666,
              "#ed7953"
             ],
             [
              0.7777777777777778,
              "#fb9f3a"
             ],
             [
              0.8888888888888888,
              "#fdca26"
             ],
             [
              1,
              "#f0f921"
             ]
            ],
            "type": "heatmap"
           }
          ],
          "heatmapgl": [
           {
            "colorbar": {
             "outlinewidth": 0,
             "ticks": ""
            },
            "colorscale": [
             [
              0,
              "#0d0887"
             ],
             [
              0.1111111111111111,
              "#46039f"
             ],
             [
              0.2222222222222222,
              "#7201a8"
             ],
             [
              0.3333333333333333,
              "#9c179e"
             ],
             [
              0.4444444444444444,
              "#bd3786"
             ],
             [
              0.5555555555555556,
              "#d8576b"
             ],
             [
              0.6666666666666666,
              "#ed7953"
             ],
             [
              0.7777777777777778,
              "#fb9f3a"
             ],
             [
              0.8888888888888888,
              "#fdca26"
             ],
             [
              1,
              "#f0f921"
             ]
            ],
            "type": "heatmapgl"
           }
          ],
          "histogram": [
           {
            "marker": {
             "pattern": {
              "fillmode": "overlay",
              "size": 10,
              "solidity": 0.2
             }
            },
            "type": "histogram"
           }
          ],
          "histogram2d": [
           {
            "colorbar": {
             "outlinewidth": 0,
             "ticks": ""
            },
            "colorscale": [
             [
              0,
              "#0d0887"
             ],
             [
              0.1111111111111111,
              "#46039f"
             ],
             [
              0.2222222222222222,
              "#7201a8"
             ],
             [
              0.3333333333333333,
              "#9c179e"
             ],
             [
              0.4444444444444444,
              "#bd3786"
             ],
             [
              0.5555555555555556,
              "#d8576b"
             ],
             [
              0.6666666666666666,
              "#ed7953"
             ],
             [
              0.7777777777777778,
              "#fb9f3a"
             ],
             [
              0.8888888888888888,
              "#fdca26"
             ],
             [
              1,
              "#f0f921"
             ]
            ],
            "type": "histogram2d"
           }
          ],
          "histogram2dcontour": [
           {
            "colorbar": {
             "outlinewidth": 0,
             "ticks": ""
            },
            "colorscale": [
             [
              0,
              "#0d0887"
             ],
             [
              0.1111111111111111,
              "#46039f"
             ],
             [
              0.2222222222222222,
              "#7201a8"
             ],
             [
              0.3333333333333333,
              "#9c179e"
             ],
             [
              0.4444444444444444,
              "#bd3786"
             ],
             [
              0.5555555555555556,
              "#d8576b"
             ],
             [
              0.6666666666666666,
              "#ed7953"
             ],
             [
              0.7777777777777778,
              "#fb9f3a"
             ],
             [
              0.8888888888888888,
              "#fdca26"
             ],
             [
              1,
              "#f0f921"
             ]
            ],
            "type": "histogram2dcontour"
           }
          ],
          "mesh3d": [
           {
            "colorbar": {
             "outlinewidth": 0,
             "ticks": ""
            },
            "type": "mesh3d"
           }
          ],
          "parcoords": [
           {
            "line": {
             "colorbar": {
              "outlinewidth": 0,
              "ticks": ""
             }
            },
            "type": "parcoords"
           }
          ],
          "pie": [
           {
            "automargin": true,
            "type": "pie"
           }
          ],
          "scatter": [
           {
            "fillpattern": {
             "fillmode": "overlay",
             "size": 10,
             "solidity": 0.2
            },
            "type": "scatter"
           }
          ],
          "scatter3d": [
           {
            "line": {
             "colorbar": {
              "outlinewidth": 0,
              "ticks": ""
             }
            },
            "marker": {
             "colorbar": {
              "outlinewidth": 0,
              "ticks": ""
             }
            },
            "type": "scatter3d"
           }
          ],
          "scattercarpet": [
           {
            "marker": {
             "colorbar": {
              "outlinewidth": 0,
              "ticks": ""
             }
            },
            "type": "scattercarpet"
           }
          ],
          "scattergeo": [
           {
            "marker": {
             "colorbar": {
              "outlinewidth": 0,
              "ticks": ""
             }
            },
            "type": "scattergeo"
           }
          ],
          "scattergl": [
           {
            "marker": {
             "colorbar": {
              "outlinewidth": 0,
              "ticks": ""
             }
            },
            "type": "scattergl"
           }
          ],
          "scattermapbox": [
           {
            "marker": {
             "colorbar": {
              "outlinewidth": 0,
              "ticks": ""
             }
            },
            "type": "scattermapbox"
           }
          ],
          "scatterpolar": [
           {
            "marker": {
             "colorbar": {
              "outlinewidth": 0,
              "ticks": ""
             }
            },
            "type": "scatterpolar"
           }
          ],
          "scatterpolargl": [
           {
            "marker": {
             "colorbar": {
              "outlinewidth": 0,
              "ticks": ""
             }
            },
            "type": "scatterpolargl"
           }
          ],
          "scatterternary": [
           {
            "marker": {
             "colorbar": {
              "outlinewidth": 0,
              "ticks": ""
             }
            },
            "type": "scatterternary"
           }
          ],
          "surface": [
           {
            "colorbar": {
             "outlinewidth": 0,
             "ticks": ""
            },
            "colorscale": [
             [
              0,
              "#0d0887"
             ],
             [
              0.1111111111111111,
              "#46039f"
             ],
             [
              0.2222222222222222,
              "#7201a8"
             ],
             [
              0.3333333333333333,
              "#9c179e"
             ],
             [
              0.4444444444444444,
              "#bd3786"
             ],
             [
              0.5555555555555556,
              "#d8576b"
             ],
             [
              0.6666666666666666,
              "#ed7953"
             ],
             [
              0.7777777777777778,
              "#fb9f3a"
             ],
             [
              0.8888888888888888,
              "#fdca26"
             ],
             [
              1,
              "#f0f921"
             ]
            ],
            "type": "surface"
           }
          ],
          "table": [
           {
            "cells": {
             "fill": {
              "color": "#EBF0F8"
             },
             "line": {
              "color": "white"
             }
            },
            "header": {
             "fill": {
              "color": "#C8D4E3"
             },
             "line": {
              "color": "white"
             }
            },
            "type": "table"
           }
          ]
         },
         "layout": {
          "annotationdefaults": {
           "arrowcolor": "#2a3f5f",
           "arrowhead": 0,
           "arrowwidth": 1
          },
          "autotypenumbers": "strict",
          "coloraxis": {
           "colorbar": {
            "outlinewidth": 0,
            "ticks": ""
           }
          },
          "colorscale": {
           "diverging": [
            [
             0,
             "#8e0152"
            ],
            [
             0.1,
             "#c51b7d"
            ],
            [
             0.2,
             "#de77ae"
            ],
            [
             0.3,
             "#f1b6da"
            ],
            [
             0.4,
             "#fde0ef"
            ],
            [
             0.5,
             "#f7f7f7"
            ],
            [
             0.6,
             "#e6f5d0"
            ],
            [
             0.7,
             "#b8e186"
            ],
            [
             0.8,
             "#7fbc41"
            ],
            [
             0.9,
             "#4d9221"
            ],
            [
             1,
             "#276419"
            ]
           ],
           "sequential": [
            [
             0,
             "#0d0887"
            ],
            [
             0.1111111111111111,
             "#46039f"
            ],
            [
             0.2222222222222222,
             "#7201a8"
            ],
            [
             0.3333333333333333,
             "#9c179e"
            ],
            [
             0.4444444444444444,
             "#bd3786"
            ],
            [
             0.5555555555555556,
             "#d8576b"
            ],
            [
             0.6666666666666666,
             "#ed7953"
            ],
            [
             0.7777777777777778,
             "#fb9f3a"
            ],
            [
             0.8888888888888888,
             "#fdca26"
            ],
            [
             1,
             "#f0f921"
            ]
           ],
           "sequentialminus": [
            [
             0,
             "#0d0887"
            ],
            [
             0.1111111111111111,
             "#46039f"
            ],
            [
             0.2222222222222222,
             "#7201a8"
            ],
            [
             0.3333333333333333,
             "#9c179e"
            ],
            [
             0.4444444444444444,
             "#bd3786"
            ],
            [
             0.5555555555555556,
             "#d8576b"
            ],
            [
             0.6666666666666666,
             "#ed7953"
            ],
            [
             0.7777777777777778,
             "#fb9f3a"
            ],
            [
             0.8888888888888888,
             "#fdca26"
            ],
            [
             1,
             "#f0f921"
            ]
           ]
          },
          "colorway": [
           "#636efa",
           "#EF553B",
           "#00cc96",
           "#ab63fa",
           "#FFA15A",
           "#19d3f3",
           "#FF6692",
           "#B6E880",
           "#FF97FF",
           "#FECB52"
          ],
          "font": {
           "color": "#2a3f5f"
          },
          "geo": {
           "bgcolor": "white",
           "lakecolor": "white",
           "landcolor": "#E5ECF6",
           "showlakes": true,
           "showland": true,
           "subunitcolor": "white"
          },
          "hoverlabel": {
           "align": "left"
          },
          "hovermode": "closest",
          "mapbox": {
           "style": "light"
          },
          "paper_bgcolor": "white",
          "plot_bgcolor": "#E5ECF6",
          "polar": {
           "angularaxis": {
            "gridcolor": "white",
            "linecolor": "white",
            "ticks": ""
           },
           "bgcolor": "#E5ECF6",
           "radialaxis": {
            "gridcolor": "white",
            "linecolor": "white",
            "ticks": ""
           }
          },
          "scene": {
           "xaxis": {
            "backgroundcolor": "#E5ECF6",
            "gridcolor": "white",
            "gridwidth": 2,
            "linecolor": "white",
            "showbackground": true,
            "ticks": "",
            "zerolinecolor": "white"
           },
           "yaxis": {
            "backgroundcolor": "#E5ECF6",
            "gridcolor": "white",
            "gridwidth": 2,
            "linecolor": "white",
            "showbackground": true,
            "ticks": "",
            "zerolinecolor": "white"
           },
           "zaxis": {
            "backgroundcolor": "#E5ECF6",
            "gridcolor": "white",
            "gridwidth": 2,
            "linecolor": "white",
            "showbackground": true,
            "ticks": "",
            "zerolinecolor": "white"
           }
          },
          "shapedefaults": {
           "line": {
            "color": "#2a3f5f"
           }
          },
          "ternary": {
           "aaxis": {
            "gridcolor": "white",
            "linecolor": "white",
            "ticks": ""
           },
           "baxis": {
            "gridcolor": "white",
            "linecolor": "white",
            "ticks": ""
           },
           "bgcolor": "#E5ECF6",
           "caxis": {
            "gridcolor": "white",
            "linecolor": "white",
            "ticks": ""
           }
          },
          "title": {
           "x": 0.05
          },
          "xaxis": {
           "automargin": true,
           "gridcolor": "white",
           "linecolor": "white",
           "ticks": "",
           "title": {
            "standoff": 15
           },
           "zerolinecolor": "white",
           "zerolinewidth": 2
          },
          "yaxis": {
           "automargin": true,
           "gridcolor": "white",
           "linecolor": "white",
           "ticks": "",
           "title": {
            "standoff": 15
           },
           "zerolinecolor": "white",
           "zerolinewidth": 2
          }
         }
        },
        "xaxis": {
         "anchor": "y",
         "domain": [
          0,
          0.7363
         ],
         "title": {
          "text": "event F1"
         }
        },
        "xaxis2": {
         "anchor": "y2",
         "domain": [
          0.7413,
          1
         ],
         "matches": "x2",
         "showgrid": true,
         "showline": false,
         "showticklabels": false,
         "ticks": ""
        },
        "yaxis": {
         "anchor": "x",
         "domain": [
          0,
          1
         ],
         "title": {
          "text": "value"
         }
        },
        "yaxis2": {
         "anchor": "x2",
         "domain": [
          0,
          1
         ],
         "matches": "y",
         "showgrid": true,
         "showticklabels": false
        }
       }
      }
     },
     "metadata": {},
     "output_type": "display_data"
    }
   ],
   "source": [
    "fig=px.scatter(visualTradeoff,x='event F1',y='value',color='metric', marginal_y=\"histogram\")\n",
    "fig.add_trace(\n",
    "    go.Scatter(x=experimentModels['eventF1'], y=experimentModels['eventF1'], name=\"identity\", mode='lines',fill=\"toself\")\n",
    ")\n",
    "fig.show()"
   ]
  },
  {
   "attachments": {},
   "cell_type": "markdown",
   "metadata": {},
   "source": [
    "### remove outliers"
   ]
  },
  {
   "cell_type": "code",
   "execution_count": 52,
   "metadata": {},
   "outputs": [
    {
     "data": {
      "text/plain": [
       "array(['0002', '0003', '0005', '0006', '0007', '0009', '0010', '0011',\n",
       "       '0012', '0013', '0017', '0018'], dtype=object)"
      ]
     },
     "execution_count": 52,
     "metadata": {},
     "output_type": "execute_result"
    }
   ],
   "source": [
    "np.setdiff1d(experimentModels_N2.test,['0001','0014','0019'])"
   ]
  },
  {
   "cell_type": "code",
   "execution_count": 53,
   "metadata": {},
   "outputs": [
    {
     "data": {
      "text/plain": [
       "test              1.666917e+43\n",
       "eventF1           7.471052e-01\n",
       "eventPrecision    6.986637e-01\n",
       "eventRecall       8.371581e-01\n",
       "dtype: float64"
      ]
     },
     "execution_count": 53,
     "metadata": {},
     "output_type": "execute_result"
    }
   ],
   "source": [
    "experimentModels_N2[experimentModels_N2.test.isin(np.setdiff1d(experimentModels_N2.test,['0001','0014','0019']))][['test','eventF1','eventPrecision','eventRecall']].groupby('test',as_index=False).mean().mean()"
   ]
  },
  {
   "cell_type": "code",
   "execution_count": 60,
   "metadata": {},
   "outputs": [],
   "source": [
    "def annotationPairToGraph(annotations,detections,thresIoU=0.2):\n",
    "    #get the coords\n",
    "    gtCoords=zip(annotations.startInd,annotations.stopInd)\n",
    "    outCoords=zip(detections.startInd,detections.stopInd)\n",
    "    #calculate the iou vector\n",
    "    iouVector=np.array(list(itt.starmap(getIou,itt.product(gtCoords,outCoords))))\n",
    "    #reshape to a matrix\n",
    "    iouMatrix=iouVector.reshape(len(annotations),len(detections))\n",
    "    #create tables\n",
    "    index0=np.apply_along_axis(np.argmax,0,iouMatrix)\n",
    "    iou0=np.apply_along_axis(np.max,0,iouMatrix)\n",
    "    index1=np.apply_along_axis(np.argmax,1,iouMatrix)\n",
    "    iou1=np.apply_along_axis(np.max,1,iouMatrix)\n",
    "    \n",
    "    tableOut=pd.DataFrame({\n",
    "        'indexGT':index0,\n",
    "        'iou':iou0\n",
    "    })\n",
    "\n",
    "    tableGT=pd.DataFrame({\n",
    "        'indexOut':index1,\n",
    "        'iou':iou1\n",
    "    })\n",
    "\n",
    "    tableOut['type']='out'\n",
    "    tableGT['type']='gt'\n",
    "    tableOut['indexOut']=tableOut.index\n",
    "    tableGT['indexGT']=tableGT.index\n",
    "    #Correct external indexes of objects not overlapping\n",
    "    tableOut.loc[tableOut.iou==0,'indexGT']='NA'\n",
    "    tableGT.loc[tableGT.iou==0,'indexOut']='NA'\n",
    "    #set tps\n",
    "    tableOut['tp']=tableOut.iou>thresIoU\n",
    "    tableOut['fp']=tableOut.iou<=thresIoU\n",
    "    tableGT['tp']=tableGT.iou>thresIoU\n",
    "    tableGT['fn']=tableGT.iou<=thresIoU\n",
    "    #calculate metrics\n",
    "    recall=np.sum(tableGT['tp'])/len(tableGT)\n",
    "    precision=np.sum(tableOut['tp'])/len(tableOut)\n",
    "    f1=(np.sum(tableGT['tp'])+np.sum(tableOut['tp']))/(len(tableGT)+len(tableOut))\n",
    "    #concatenate tables\n",
    "    appended=pd.concat(objs=(tableOut,tableGT),axis=0)\n",
    "    #modify values\n",
    "    appended['x']=appended['indexGT']\n",
    "    appended['y']=appended['indexOut']\n",
    "    appended.loc[((appended.type=='out')&(~ appended.tp)),'x']=-10\n",
    "    appended.loc[((appended.type=='gt')&(~ appended.tp)),'y']=-10\n",
    "    appended['size']=1\n",
    "    appended.loc[appended.type=='out','size']=3\n",
    "    #create the graph\n",
    "    minTPIoU=np.min(appended[appended.tp].iou)\n",
    "    fig=px.scatter(appended,x='x',y='y',color='iou',symbol='type',\n",
    "    opacity=0.8,symbol_map={'out':'circle-open','gt':'circle'},size='size',\n",
    "    color_continuous_scale=\n",
    "        ((0.0, 'rgb(40,40,40)'),\n",
    "        (0.000001, 'rgb(28,227,255)'),\n",
    "        (0.14, 'rgb(56,199,255)'),\n",
    "        (0.29, 'rgb(85,170,255)'),\n",
    "        (0.42, 'rgb(113,142,255)'),\n",
    "        (0.57, 'rgb(142,113,255)'),\n",
    "        (0.71, 'rgb(170,85,255)'),\n",
    "        (0.86, 'rgb(199,56,255)'),\n",
    "        (1.0, 'rgb(227,28,255)')),\n",
    "    range_x=(-20,len(tableGT)+10),range_y=(-20,len(tableOut)+10),\n",
    "    title='by-Event evaluation summary<br><sup>F1(@IoU>'+str(thresIoU)+')='+str(round(f1,4))+' | minimum TP IoU: '+str(round(minTPIoU,4))+'</sup>',\n",
    "    hover_data={'x':False,\n",
    "    'y':False,\n",
    "    'tp':False,\n",
    "    'fp':False,\n",
    "    'fn':False,\n",
    "    'size':False,\n",
    "    'type':False,\n",
    "    'iou':':.4f', # customize hover for column of y attribute\n",
    "    'indexGT':True,\n",
    "    'indexOut':True\n",
    "    })\n",
    "    for t in fig.data:\n",
    "        t.marker.line.width = 2\n",
    "    fig.update_xaxes(title_text=str(len(tableGT))+' ANNOTATIONS | recall(@IoU>'+str(thresIoU)+')= '+str(round(recall,4)))\n",
    "    fig.update_yaxes(title_text=str(len(tableOut))+' DETECTIONS | precision(@IoU>'+str(thresIoU)+')= '+str(round(precision,4)))\n",
    "    fig.add_vline(x=-5,line_dash='dash')\n",
    "    fig.add_hline(y=-5,line_dash='dash')\n",
    "    #----------------------------------------------------------------------->\n",
    "    # https://stackoverflow.com/questions/61827165/plotly-how-to-handle-overlapping-colorbar-and-legends\n",
    "    # @vestland answer\n",
    "    \"\"\" fig.update_layout(coloraxis_colorbar=dict(yanchor=\"top\", y=1, x=0,\n",
    "                                            ticks=\"outside\",\n",
    "                                            ticksuffix=\" bills\")) \"\"\"\n",
    "    # @bitbang answer\n",
    "    fig.update_layout(legend_orientation=\"h\")\n",
    "    #<----------------------------------------------------------------------\n",
    "    return fig"
   ]
  },
  {
   "cell_type": "code",
   "execution_count": 61,
   "metadata": {},
   "outputs": [
    {
     "data": {
      "application/vnd.plotly.v1+json": {
       "config": {
        "plotlyServerURL": "https://plot.ly"
       },
       "data": [
        {
         "customdata": [
          [
           false,
           true,
           null,
           3,
           "out",
           0,
           "NA",
           0
          ],
          [
           false,
           true,
           null,
           3,
           "out",
           0,
           "NA",
           1
          ],
          [
           true,
           false,
           null,
           3,
           "out",
           0.7407407407407407,
           0,
           2
          ],
          [
           false,
           true,
           null,
           3,
           "out",
           0,
           "NA",
           3
          ],
          [
           true,
           false,
           null,
           3,
           "out",
           0.7815126050420168,
           1,
           4
          ],
          [
           false,
           true,
           null,
           3,
           "out",
           0,
           "NA",
           5
          ],
          [
           true,
           false,
           null,
           3,
           "out",
           0.8028169014084507,
           2,
           6
          ],
          [
           false,
           true,
           null,
           3,
           "out",
           0,
           "NA",
           7
          ],
          [
           true,
           false,
           null,
           3,
           "out",
           0.5,
           3,
           8
          ],
          [
           true,
           false,
           null,
           3,
           "out",
           0.8518518518518519,
           4,
           9
          ],
          [
           false,
           true,
           null,
           3,
           "out",
           0,
           "NA",
           10
          ],
          [
           false,
           true,
           null,
           3,
           "out",
           0,
           "NA",
           11
          ],
          [
           false,
           true,
           null,
           3,
           "out",
           0,
           "NA",
           12
          ],
          [
           false,
           true,
           null,
           3,
           "out",
           0,
           "NA",
           13
          ],
          [
           false,
           true,
           null,
           3,
           "out",
           0,
           "NA",
           14
          ],
          [
           false,
           true,
           null,
           3,
           "out",
           0,
           "NA",
           15
          ],
          [
           true,
           false,
           null,
           3,
           "out",
           0.9397590361445783,
           5,
           16
          ],
          [
           false,
           true,
           null,
           3,
           "out",
           0,
           "NA",
           17
          ],
          [
           true,
           false,
           null,
           3,
           "out",
           0.9883040935672515,
           6,
           18
          ],
          [
           false,
           true,
           null,
           3,
           "out",
           0,
           "NA",
           19
          ],
          [
           false,
           true,
           null,
           3,
           "out",
           0,
           "NA",
           20
          ],
          [
           false,
           true,
           null,
           3,
           "out",
           0,
           "NA",
           21
          ],
          [
           true,
           false,
           null,
           3,
           "out",
           0.8280254777070064,
           7,
           22
          ],
          [
           false,
           true,
           null,
           3,
           "out",
           0,
           "NA",
           23
          ],
          [
           false,
           true,
           null,
           3,
           "out",
           0,
           "NA",
           24
          ],
          [
           false,
           true,
           null,
           3,
           "out",
           0,
           "NA",
           25
          ],
          [
           true,
           false,
           null,
           3,
           "out",
           0.7164179104477612,
           8,
           26
          ],
          [
           true,
           false,
           null,
           3,
           "out",
           0.9066666666666666,
           9,
           27
          ],
          [
           true,
           false,
           null,
           3,
           "out",
           0.46475195822454307,
           10,
           28
          ],
          [
           false,
           true,
           null,
           3,
           "out",
           0,
           "NA",
           29
          ],
          [
           true,
           false,
           null,
           3,
           "out",
           0.5189504373177842,
           11,
           30
          ],
          [
           false,
           true,
           null,
           3,
           "out",
           0,
           "NA",
           31
          ],
          [
           true,
           false,
           null,
           3,
           "out",
           0.4927007299270073,
           12,
           32
          ],
          [
           true,
           false,
           null,
           3,
           "out",
           0.9191919191919192,
           13,
           33
          ],
          [
           false,
           true,
           null,
           3,
           "out",
           0,
           "NA",
           34
          ],
          [
           false,
           true,
           null,
           3,
           "out",
           0,
           "NA",
           35
          ],
          [
           false,
           true,
           null,
           3,
           "out",
           0,
           "NA",
           36
          ],
          [
           true,
           false,
           null,
           3,
           "out",
           0.8375,
           14,
           37
          ],
          [
           false,
           true,
           null,
           3,
           "out",
           0,
           "NA",
           38
          ],
          [
           true,
           false,
           null,
           3,
           "out",
           0.7621621621621621,
           15,
           39
          ],
          [
           true,
           false,
           null,
           3,
           "out",
           0.9747474747474747,
           16,
           40
          ],
          [
           false,
           true,
           null,
           3,
           "out",
           0,
           "NA",
           41
          ],
          [
           false,
           true,
           null,
           3,
           "out",
           0,
           "NA",
           42
          ],
          [
           false,
           true,
           null,
           3,
           "out",
           0,
           "NA",
           43
          ],
          [
           false,
           true,
           null,
           3,
           "out",
           0,
           "NA",
           44
          ],
          [
           false,
           true,
           null,
           3,
           "out",
           0,
           "NA",
           45
          ],
          [
           false,
           true,
           null,
           3,
           "out",
           0,
           "NA",
           46
          ],
          [
           true,
           false,
           null,
           3,
           "out",
           0.7511737089201878,
           17,
           47
          ],
          [
           false,
           true,
           null,
           3,
           "out",
           0,
           "NA",
           48
          ],
          [
           true,
           false,
           null,
           3,
           "out",
           0.9487179487179487,
           18,
           49
          ],
          [
           true,
           false,
           null,
           3,
           "out",
           0.989010989010989,
           19,
           50
          ],
          [
           false,
           true,
           null,
           3,
           "out",
           0,
           "NA",
           51
          ],
          [
           true,
           false,
           null,
           3,
           "out",
           0.8442028985507246,
           20,
           52
          ],
          [
           false,
           true,
           null,
           3,
           "out",
           0,
           "NA",
           53
          ],
          [
           false,
           true,
           null,
           3,
           "out",
           0,
           "NA",
           54
          ],
          [
           false,
           true,
           null,
           3,
           "out",
           0,
           "NA",
           55
          ],
          [
           false,
           true,
           null,
           3,
           "out",
           0,
           "NA",
           56
          ],
          [
           true,
           false,
           null,
           3,
           "out",
           0.7892156862745098,
           21,
           57
          ],
          [
           false,
           true,
           null,
           3,
           "out",
           0,
           "NA",
           58
          ],
          [
           false,
           true,
           null,
           3,
           "out",
           0,
           "NA",
           59
          ],
          [
           false,
           true,
           null,
           3,
           "out",
           0,
           "NA",
           60
          ],
          [
           false,
           true,
           null,
           3,
           "out",
           0,
           "NA",
           61
          ],
          [
           true,
           false,
           null,
           3,
           "out",
           0.7564102564102564,
           22,
           62
          ],
          [
           true,
           false,
           null,
           3,
           "out",
           0.6090534979423868,
           23,
           63
          ],
          [
           false,
           true,
           null,
           3,
           "out",
           0,
           "NA",
           64
          ],
          [
           false,
           true,
           null,
           3,
           "out",
           0,
           "NA",
           65
          ],
          [
           false,
           true,
           null,
           3,
           "out",
           0,
           "NA",
           66
          ],
          [
           false,
           true,
           null,
           3,
           "out",
           0,
           "NA",
           67
          ],
          [
           false,
           true,
           null,
           3,
           "out",
           0,
           "NA",
           68
          ],
          [
           false,
           true,
           null,
           3,
           "out",
           0,
           "NA",
           69
          ],
          [
           true,
           false,
           null,
           3,
           "out",
           0.805,
           24,
           70
          ],
          [
           true,
           false,
           null,
           3,
           "out",
           0.9657142857142857,
           25,
           71
          ],
          [
           true,
           false,
           null,
           3,
           "out",
           0.7914691943127962,
           26,
           72
          ],
          [
           false,
           true,
           null,
           3,
           "out",
           0,
           "NA",
           73
          ],
          [
           false,
           true,
           null,
           3,
           "out",
           0,
           "NA",
           74
          ],
          [
           true,
           false,
           null,
           3,
           "out",
           0.9440559440559441,
           27,
           75
          ],
          [
           false,
           true,
           null,
           3,
           "out",
           0,
           "NA",
           76
          ],
          [
           false,
           true,
           null,
           3,
           "out",
           0,
           "NA",
           77
          ],
          [
           false,
           true,
           null,
           3,
           "out",
           0,
           "NA",
           78
          ],
          [
           false,
           true,
           null,
           3,
           "out",
           0,
           "NA",
           79
          ],
          [
           true,
           false,
           null,
           3,
           "out",
           0.8549222797927462,
           28,
           80
          ],
          [
           true,
           false,
           null,
           3,
           "out",
           0.8424657534246576,
           29,
           81
          ],
          [
           false,
           true,
           null,
           3,
           "out",
           0,
           "NA",
           82
          ],
          [
           false,
           true,
           null,
           3,
           "out",
           0,
           "NA",
           83
          ],
          [
           false,
           true,
           null,
           3,
           "out",
           0,
           "NA",
           84
          ],
          [
           false,
           true,
           null,
           3,
           "out",
           0,
           "NA",
           85
          ],
          [
           false,
           true,
           null,
           3,
           "out",
           0,
           "NA",
           86
          ],
          [
           true,
           false,
           null,
           3,
           "out",
           0.9512195121951219,
           30,
           87
          ],
          [
           true,
           false,
           null,
           3,
           "out",
           0.8402061855670103,
           31,
           88
          ],
          [
           true,
           false,
           null,
           3,
           "out",
           0.8571428571428571,
           32,
           89
          ],
          [
           false,
           true,
           null,
           3,
           "out",
           0,
           "NA",
           90
          ],
          [
           false,
           true,
           null,
           3,
           "out",
           0,
           "NA",
           91
          ],
          [
           true,
           false,
           null,
           3,
           "out",
           0.9047619047619048,
           33,
           92
          ],
          [
           false,
           true,
           null,
           3,
           "out",
           0,
           "NA",
           93
          ],
          [
           false,
           true,
           null,
           3,
           "out",
           0,
           "NA",
           94
          ],
          [
           false,
           true,
           null,
           3,
           "out",
           0,
           "NA",
           95
          ],
          [
           false,
           true,
           null,
           3,
           "out",
           0,
           "NA",
           96
          ],
          [
           true,
           false,
           null,
           3,
           "out",
           0.7358490566037735,
           34,
           97
          ],
          [
           false,
           true,
           null,
           3,
           "out",
           0,
           "NA",
           98
          ],
          [
           false,
           true,
           null,
           3,
           "out",
           0,
           "NA",
           99
          ],
          [
           false,
           true,
           null,
           3,
           "out",
           0,
           "NA",
           100
          ],
          [
           false,
           true,
           null,
           3,
           "out",
           0,
           "NA",
           101
          ],
          [
           false,
           true,
           null,
           3,
           "out",
           0,
           "NA",
           102
          ],
          [
           true,
           false,
           null,
           3,
           "out",
           0.7580645161290323,
           35,
           103
          ],
          [
           false,
           true,
           null,
           3,
           "out",
           0,
           "NA",
           104
          ],
          [
           true,
           false,
           null,
           3,
           "out",
           0.7961165048543689,
           36,
           105
          ],
          [
           true,
           false,
           null,
           3,
           "out",
           0.848314606741573,
           37,
           106
          ],
          [
           false,
           true,
           null,
           3,
           "out",
           0,
           "NA",
           107
          ],
          [
           false,
           true,
           null,
           3,
           "out",
           0,
           "NA",
           108
          ],
          [
           false,
           true,
           null,
           3,
           "out",
           0,
           "NA",
           109
          ],
          [
           false,
           true,
           null,
           3,
           "out",
           0,
           "NA",
           110
          ],
          [
           false,
           true,
           null,
           3,
           "out",
           0,
           "NA",
           111
          ],
          [
           false,
           true,
           null,
           3,
           "out",
           0,
           "NA",
           112
          ],
          [
           true,
           false,
           null,
           3,
           "out",
           0.8848920863309353,
           38,
           113
          ],
          [
           false,
           true,
           null,
           3,
           "out",
           0,
           "NA",
           114
          ],
          [
           true,
           false,
           null,
           3,
           "out",
           0.5985401459854015,
           39,
           115
          ],
          [
           true,
           false,
           null,
           3,
           "out",
           0.6566265060240963,
           40,
           116
          ],
          [
           false,
           true,
           null,
           3,
           "out",
           0,
           "NA",
           117
          ],
          [
           true,
           false,
           null,
           3,
           "out",
           0.8391608391608392,
           41,
           118
          ],
          [
           false,
           true,
           null,
           3,
           "out",
           0,
           "NA",
           119
          ],
          [
           false,
           true,
           null,
           3,
           "out",
           0,
           "NA",
           120
          ],
          [
           false,
           true,
           null,
           3,
           "out",
           0,
           "NA",
           121
          ],
          [
           false,
           true,
           null,
           3,
           "out",
           0,
           "NA",
           122
          ],
          [
           false,
           true,
           null,
           3,
           "out",
           0,
           "NA",
           123
          ],
          [
           false,
           true,
           null,
           3,
           "out",
           0,
           "NA",
           124
          ],
          [
           false,
           true,
           null,
           3,
           "out",
           0,
           "NA",
           125
          ],
          [
           false,
           true,
           null,
           3,
           "out",
           0,
           "NA",
           126
          ],
          [
           true,
           false,
           null,
           3,
           "out",
           0.7202380952380952,
           42,
           127
          ],
          [
           false,
           true,
           null,
           3,
           "out",
           0,
           "NA",
           128
          ],
          [
           false,
           true,
           null,
           3,
           "out",
           0,
           "NA",
           129
          ],
          [
           true,
           false,
           null,
           3,
           "out",
           0.7513812154696132,
           43,
           130
          ],
          [
           false,
           true,
           null,
           3,
           "out",
           0,
           "NA",
           131
          ],
          [
           false,
           true,
           null,
           3,
           "out",
           0,
           "NA",
           132
          ],
          [
           false,
           true,
           null,
           3,
           "out",
           0,
           "NA",
           133
          ],
          [
           false,
           true,
           null,
           3,
           "out",
           0,
           "NA",
           134
          ],
          [
           false,
           true,
           null,
           3,
           "out",
           0,
           "NA",
           135
          ],
          [
           true,
           false,
           null,
           3,
           "out",
           0.7540983606557377,
           44,
           136
          ],
          [
           false,
           true,
           null,
           3,
           "out",
           0,
           "NA",
           137
          ],
          [
           false,
           true,
           null,
           3,
           "out",
           0,
           "NA",
           138
          ],
          [
           false,
           true,
           null,
           3,
           "out",
           0,
           "NA",
           139
          ],
          [
           true,
           false,
           null,
           3,
           "out",
           0.7076271186440678,
           45,
           140
          ],
          [
           false,
           true,
           null,
           3,
           "out",
           0,
           "NA",
           141
          ],
          [
           true,
           false,
           null,
           3,
           "out",
           1,
           46,
           142
          ],
          [
           true,
           false,
           null,
           3,
           "out",
           0.8493975903614458,
           47,
           143
          ],
          [
           true,
           false,
           null,
           3,
           "out",
           0.6327433628318584,
           48,
           144
          ],
          [
           true,
           false,
           null,
           3,
           "out",
           0.7976190476190477,
           49,
           145
          ],
          [
           true,
           false,
           null,
           3,
           "out",
           0.9779411764705882,
           50,
           146
          ],
          [
           true,
           false,
           null,
           3,
           "out",
           0.9285714285714286,
           51,
           147
          ],
          [
           true,
           false,
           null,
           3,
           "out",
           0.8571428571428571,
           52,
           148
          ],
          [
           false,
           true,
           null,
           3,
           "out",
           0,
           "NA",
           149
          ],
          [
           true,
           false,
           null,
           3,
           "out",
           0.9068627450980392,
           53,
           150
          ],
          [
           true,
           false,
           null,
           3,
           "out",
           0.9602649006622517,
           54,
           151
          ],
          [
           false,
           true,
           null,
           3,
           "out",
           0,
           "NA",
           152
          ],
          [
           true,
           false,
           null,
           3,
           "out",
           0.7947019867549668,
           55,
           153
          ],
          [
           false,
           true,
           null,
           3,
           "out",
           0,
           "NA",
           154
          ],
          [
           false,
           true,
           null,
           3,
           "out",
           0,
           "NA",
           155
          ],
          [
           true,
           false,
           null,
           3,
           "out",
           0.6080402010050251,
           56,
           156
          ],
          [
           true,
           false,
           null,
           3,
           "out",
           0.9695121951219512,
           57,
           157
          ],
          [
           false,
           true,
           null,
           3,
           "out",
           0,
           "NA",
           158
          ],
          [
           true,
           false,
           null,
           3,
           "out",
           0.9274193548387096,
           58,
           159
          ],
          [
           true,
           false,
           null,
           3,
           "out",
           0.9612403100775194,
           59,
           160
          ],
          [
           true,
           false,
           null,
           3,
           "out",
           0.8364779874213837,
           61,
           161
          ],
          [
           false,
           true,
           null,
           3,
           "out",
           0,
           "NA",
           162
          ],
          [
           false,
           true,
           null,
           3,
           "out",
           0,
           "NA",
           163
          ],
          [
           false,
           true,
           null,
           3,
           "out",
           0,
           "NA",
           164
          ],
          [
           true,
           false,
           null,
           3,
           "out",
           0.7484276729559748,
           62,
           165
          ],
          [
           true,
           false,
           null,
           3,
           "out",
           0.9380530973451328,
           63,
           166
          ],
          [
           false,
           true,
           null,
           3,
           "out",
           0,
           "NA",
           167
          ],
          [
           true,
           false,
           null,
           3,
           "out",
           0.9935897435897436,
           64,
           168
          ],
          [
           false,
           true,
           null,
           3,
           "out",
           0,
           "NA",
           169
          ],
          [
           true,
           false,
           null,
           3,
           "out",
           0.7185185185185186,
           65,
           170
          ],
          [
           false,
           true,
           null,
           3,
           "out",
           0,
           "NA",
           171
          ],
          [
           true,
           false,
           null,
           3,
           "out",
           0.8421052631578947,
           66,
           172
          ],
          [
           true,
           false,
           null,
           3,
           "out",
           0.7673267326732673,
           67,
           173
          ],
          [
           false,
           true,
           null,
           3,
           "out",
           0,
           "NA",
           174
          ],
          [
           false,
           true,
           null,
           3,
           "out",
           0,
           "NA",
           175
          ],
          [
           true,
           false,
           null,
           3,
           "out",
           0.8994082840236687,
           68,
           176
          ],
          [
           false,
           true,
           null,
           3,
           "out",
           0,
           "NA",
           177
          ],
          [
           false,
           true,
           null,
           3,
           "out",
           0,
           "NA",
           178
          ],
          [
           false,
           true,
           null,
           3,
           "out",
           0,
           "NA",
           179
          ],
          [
           false,
           true,
           null,
           3,
           "out",
           0,
           "NA",
           180
          ],
          [
           false,
           true,
           null,
           3,
           "out",
           0,
           "NA",
           181
          ],
          [
           true,
           false,
           null,
           3,
           "out",
           0.860655737704918,
           69,
           182
          ],
          [
           true,
           false,
           null,
           3,
           "out",
           0.9402173913043478,
           70,
           183
          ],
          [
           false,
           true,
           null,
           3,
           "out",
           0,
           "NA",
           184
          ],
          [
           false,
           true,
           null,
           3,
           "out",
           0,
           "NA",
           185
          ],
          [
           true,
           false,
           null,
           3,
           "out",
           0.958904109589041,
           71,
           186
          ],
          [
           true,
           false,
           null,
           3,
           "out",
           0.7847222222222222,
           72,
           187
          ],
          [
           false,
           true,
           null,
           3,
           "out",
           0,
           "NA",
           188
          ],
          [
           true,
           false,
           null,
           3,
           "out",
           0.6009615384615384,
           73,
           189
          ],
          [
           true,
           false,
           null,
           3,
           "out",
           0.9596774193548387,
           74,
           190
          ],
          [
           true,
           false,
           null,
           3,
           "out",
           0.9140625,
           75,
           191
          ],
          [
           false,
           true,
           null,
           3,
           "out",
           0,
           "NA",
           192
          ],
          [
           false,
           true,
           null,
           3,
           "out",
           0,
           "NA",
           193
          ],
          [
           false,
           true,
           null,
           3,
           "out",
           0,
           "NA",
           194
          ],
          [
           true,
           false,
           null,
           3,
           "out",
           0.9689119170984456,
           76,
           195
          ],
          [
           true,
           false,
           null,
           3,
           "out",
           0.8421052631578947,
           77,
           196
          ],
          [
           false,
           true,
           null,
           3,
           "out",
           0,
           "NA",
           197
          ],
          [
           false,
           true,
           null,
           3,
           "out",
           0,
           "NA",
           198
          ],
          [
           false,
           true,
           null,
           3,
           "out",
           0,
           "NA",
           199
          ],
          [
           false,
           true,
           null,
           3,
           "out",
           0,
           "NA",
           200
          ],
          [
           false,
           true,
           null,
           3,
           "out",
           0,
           "NA",
           201
          ],
          [
           false,
           true,
           null,
           3,
           "out",
           0,
           "NA",
           202
          ],
          [
           false,
           true,
           null,
           3,
           "out",
           0,
           "NA",
           203
          ],
          [
           false,
           true,
           null,
           3,
           "out",
           0,
           "NA",
           204
          ],
          [
           true,
           false,
           null,
           3,
           "out",
           0.8700787401574803,
           78,
           205
          ],
          [
           false,
           true,
           null,
           3,
           "out",
           0,
           "NA",
           206
          ],
          [
           true,
           false,
           null,
           3,
           "out",
           0.8738317757009346,
           79,
           207
          ],
          [
           true,
           false,
           null,
           3,
           "out",
           0.9518072289156626,
           80,
           208
          ],
          [
           true,
           false,
           null,
           3,
           "out",
           0.8524590163934426,
           81,
           209
          ],
          [
           true,
           false,
           null,
           3,
           "out",
           0.9214659685863874,
           82,
           210
          ],
          [
           false,
           true,
           null,
           3,
           "out",
           0,
           "NA",
           211
          ],
          [
           true,
           false,
           null,
           3,
           "out",
           0.987012987012987,
           83,
           212
          ],
          [
           false,
           true,
           null,
           3,
           "out",
           0,
           "NA",
           213
          ],
          [
           true,
           false,
           null,
           3,
           "out",
           0.8258928571428571,
           84,
           214
          ],
          [
           false,
           true,
           null,
           3,
           "out",
           0,
           "NA",
           215
          ],
          [
           false,
           true,
           null,
           3,
           "out",
           0,
           "NA",
           216
          ],
          [
           false,
           true,
           null,
           3,
           "out",
           0,
           "NA",
           217
          ],
          [
           false,
           true,
           null,
           3,
           "out",
           0,
           "NA",
           218
          ],
          [
           false,
           true,
           null,
           3,
           "out",
           0,
           "NA",
           219
          ],
          [
           false,
           true,
           null,
           3,
           "out",
           0,
           "NA",
           220
          ],
          [
           false,
           true,
           null,
           3,
           "out",
           0,
           "NA",
           221
          ],
          [
           true,
           false,
           null,
           3,
           "out",
           1,
           85,
           222
          ],
          [
           false,
           true,
           null,
           3,
           "out",
           0,
           "NA",
           223
          ],
          [
           false,
           true,
           null,
           3,
           "out",
           0,
           "NA",
           224
          ],
          [
           false,
           true,
           null,
           3,
           "out",
           0,
           "NA",
           225
          ],
          [
           true,
           false,
           null,
           3,
           "out",
           0.9116022099447514,
           86,
           226
          ],
          [
           true,
           false,
           null,
           3,
           "out",
           0.916256157635468,
           87,
           227
          ],
          [
           false,
           true,
           null,
           3,
           "out",
           0,
           "NA",
           228
          ],
          [
           false,
           true,
           null,
           3,
           "out",
           0,
           "NA",
           229
          ],
          [
           true,
           false,
           null,
           3,
           "out",
           0.75625,
           88,
           230
          ],
          [
           true,
           false,
           null,
           3,
           "out",
           0.9290780141843972,
           89,
           231
          ],
          [
           false,
           true,
           null,
           3,
           "out",
           0,
           "NA",
           232
          ],
          [
           false,
           true,
           null,
           3,
           "out",
           0,
           "NA",
           233
          ],
          [
           false,
           true,
           null,
           3,
           "out",
           0,
           "NA",
           234
          ],
          [
           true,
           false,
           null,
           3,
           "out",
           0.8113207547169812,
           90,
           235
          ],
          [
           false,
           true,
           null,
           3,
           "out",
           0,
           "NA",
           236
          ],
          [
           false,
           true,
           null,
           3,
           "out",
           0,
           "NA",
           237
          ],
          [
           false,
           true,
           null,
           3,
           "out",
           0,
           "NA",
           238
          ],
          [
           false,
           true,
           null,
           3,
           "out",
           0,
           "NA",
           239
          ],
          [
           false,
           true,
           null,
           3,
           "out",
           0,
           "NA",
           240
          ],
          [
           true,
           false,
           null,
           3,
           "out",
           0.9779411764705882,
           91,
           241
          ],
          [
           false,
           true,
           null,
           3,
           "out",
           0,
           "NA",
           242
          ],
          [
           false,
           true,
           null,
           3,
           "out",
           0,
           "NA",
           243
          ],
          [
           false,
           true,
           null,
           3,
           "out",
           0,
           "NA",
           244
          ],
          [
           false,
           true,
           null,
           3,
           "out",
           0,
           "NA",
           245
          ],
          [
           true,
           false,
           null,
           3,
           "out",
           0.9560439560439561,
           92,
           246
          ],
          [
           false,
           true,
           null,
           3,
           "out",
           0,
           "NA",
           247
          ],
          [
           true,
           false,
           null,
           3,
           "out",
           0.9226519337016574,
           93,
           248
          ],
          [
           false,
           true,
           null,
           3,
           "out",
           0,
           "NA",
           249
          ],
          [
           true,
           false,
           null,
           3,
           "out",
           0.9096385542168675,
           94,
           250
          ],
          [
           false,
           true,
           null,
           3,
           "out",
           0,
           "NA",
           251
          ],
          [
           false,
           true,
           null,
           3,
           "out",
           0,
           "NA",
           252
          ],
          [
           false,
           true,
           null,
           3,
           "out",
           0,
           "NA",
           253
          ],
          [
           false,
           true,
           null,
           3,
           "out",
           0,
           "NA",
           254
          ],
          [
           false,
           true,
           null,
           3,
           "out",
           0,
           "NA",
           255
          ],
          [
           true,
           false,
           null,
           3,
           "out",
           0.9024390243902439,
           95,
           256
          ],
          [
           true,
           false,
           null,
           3,
           "out",
           0.9387755102040817,
           96,
           257
          ],
          [
           true,
           false,
           null,
           3,
           "out",
           0.9285714285714286,
           97,
           258
          ],
          [
           true,
           false,
           null,
           3,
           "out",
           0.9830508474576272,
           98,
           259
          ],
          [
           false,
           true,
           null,
           3,
           "out",
           0,
           "NA",
           260
          ],
          [
           false,
           true,
           null,
           3,
           "out",
           0,
           "NA",
           261
          ],
          [
           false,
           true,
           null,
           3,
           "out",
           0,
           "NA",
           262
          ],
          [
           false,
           true,
           null,
           3,
           "out",
           0,
           "NA",
           263
          ],
          [
           false,
           true,
           null,
           3,
           "out",
           0,
           "NA",
           264
          ],
          [
           false,
           true,
           null,
           3,
           "out",
           0,
           "NA",
           265
          ],
          [
           false,
           true,
           null,
           3,
           "out",
           0,
           "NA",
           266
          ],
          [
           true,
           false,
           null,
           3,
           "out",
           0.9454545454545454,
           99,
           267
          ],
          [
           true,
           false,
           null,
           3,
           "out",
           0.9421487603305785,
           100,
           268
          ],
          [
           false,
           true,
           null,
           3,
           "out",
           0,
           "NA",
           269
          ],
          [
           false,
           true,
           null,
           3,
           "out",
           0,
           "NA",
           270
          ],
          [
           false,
           true,
           null,
           3,
           "out",
           0,
           "NA",
           271
          ],
          [
           true,
           false,
           null,
           3,
           "out",
           0.9615384615384616,
           101,
           272
          ],
          [
           false,
           true,
           null,
           3,
           "out",
           0,
           "NA",
           273
          ],
          [
           false,
           true,
           null,
           3,
           "out",
           0,
           "NA",
           274
          ],
          [
           false,
           true,
           null,
           3,
           "out",
           0,
           "NA",
           275
          ],
          [
           false,
           true,
           null,
           3,
           "out",
           0,
           "NA",
           276
          ],
          [
           false,
           true,
           null,
           3,
           "out",
           0,
           "NA",
           277
          ],
          [
           true,
           false,
           null,
           3,
           "out",
           0.8963414634146342,
           102,
           278
          ],
          [
           false,
           true,
           null,
           3,
           "out",
           0,
           "NA",
           279
          ],
          [
           false,
           true,
           null,
           3,
           "out",
           0,
           "NA",
           280
          ],
          [
           false,
           true,
           null,
           3,
           "out",
           0,
           "NA",
           281
          ],
          [
           true,
           false,
           null,
           3,
           "out",
           0.873015873015873,
           103,
           282
          ],
          [
           false,
           true,
           null,
           3,
           "out",
           0,
           "NA",
           283
          ],
          [
           false,
           true,
           null,
           3,
           "out",
           0,
           "NA",
           284
          ],
          [
           true,
           false,
           null,
           3,
           "out",
           0.9754098360655737,
           104,
           285
          ],
          [
           false,
           true,
           null,
           3,
           "out",
           0,
           "NA",
           286
          ],
          [
           false,
           true,
           null,
           3,
           "out",
           0,
           "NA",
           287
          ],
          [
           true,
           false,
           null,
           3,
           "out",
           0.9897959183673469,
           105,
           288
          ],
          [
           false,
           true,
           null,
           3,
           "out",
           0,
           "NA",
           289
          ],
          [
           true,
           false,
           null,
           3,
           "out",
           0.7003058103975535,
           106,
           290
          ],
          [
           false,
           true,
           null,
           3,
           "out",
           0,
           "NA",
           291
          ],
          [
           true,
           false,
           null,
           3,
           "out",
           0.9692307692307692,
           107,
           292
          ],
          [
           true,
           false,
           null,
           3,
           "out",
           0.9640287769784173,
           108,
           293
          ],
          [
           false,
           true,
           null,
           3,
           "out",
           0,
           "NA",
           294
          ],
          [
           true,
           false,
           null,
           3,
           "out",
           0.9924242424242424,
           109,
           295
          ],
          [
           false,
           true,
           null,
           3,
           "out",
           0,
           "NA",
           296
          ],
          [
           false,
           true,
           null,
           3,
           "out",
           0,
           "NA",
           297
          ],
          [
           true,
           false,
           null,
           3,
           "out",
           0.659217877094972,
           110,
           298
          ],
          [
           true,
           false,
           null,
           3,
           "out",
           0.7844311377245509,
           111,
           299
          ],
          [
           false,
           true,
           null,
           3,
           "out",
           0,
           "NA",
           300
          ],
          [
           false,
           true,
           null,
           3,
           "out",
           0,
           "NA",
           301
          ],
          [
           false,
           true,
           null,
           3,
           "out",
           0,
           "NA",
           302
          ],
          [
           false,
           true,
           null,
           3,
           "out",
           0,
           "NA",
           303
          ],
          [
           false,
           true,
           null,
           3,
           "out",
           0,
           "NA",
           304
          ],
          [
           true,
           false,
           null,
           3,
           "out",
           0.6991150442477876,
           112,
           305
          ],
          [
           false,
           true,
           null,
           3,
           "out",
           0,
           "NA",
           306
          ],
          [
           true,
           false,
           null,
           3,
           "out",
           0.9411764705882353,
           113,
           307
          ],
          [
           false,
           true,
           null,
           3,
           "out",
           0,
           "NA",
           308
          ],
          [
           false,
           true,
           null,
           3,
           "out",
           0,
           "NA",
           309
          ],
          [
           true,
           false,
           null,
           3,
           "out",
           0.808641975308642,
           114,
           310
          ],
          [
           false,
           true,
           null,
           3,
           "out",
           0,
           "NA",
           311
          ],
          [
           false,
           true,
           null,
           3,
           "out",
           0,
           "NA",
           312
          ],
          [
           false,
           true,
           null,
           3,
           "out",
           0,
           "NA",
           313
          ],
          [
           true,
           false,
           null,
           3,
           "out",
           0.9672131147540983,
           115,
           314
          ],
          [
           false,
           true,
           null,
           3,
           "out",
           0,
           "NA",
           315
          ],
          [
           false,
           true,
           null,
           3,
           "out",
           0,
           "NA",
           316
          ],
          [
           true,
           false,
           null,
           3,
           "out",
           0.8982035928143712,
           116,
           317
          ],
          [
           true,
           false,
           null,
           3,
           "out",
           0.9424083769633508,
           117,
           318
          ],
          [
           false,
           true,
           null,
           3,
           "out",
           0,
           "NA",
           319
          ],
          [
           true,
           false,
           null,
           3,
           "out",
           0.8552631578947368,
           118,
           320
          ],
          [
           false,
           true,
           null,
           3,
           "out",
           0,
           "NA",
           321
          ],
          [
           false,
           true,
           null,
           3,
           "out",
           0,
           "NA",
           322
          ],
          [
           false,
           true,
           null,
           3,
           "out",
           0,
           "NA",
           323
          ],
          [
           false,
           true,
           null,
           3,
           "out",
           0,
           "NA",
           324
          ],
          [
           false,
           true,
           null,
           3,
           "out",
           0,
           "NA",
           325
          ],
          [
           true,
           false,
           null,
           3,
           "out",
           0.87248322147651,
           119,
           326
          ],
          [
           true,
           false,
           null,
           3,
           "out",
           0.8928571428571429,
           120,
           327
          ],
          [
           true,
           false,
           null,
           3,
           "out",
           0.9195979899497487,
           121,
           328
          ],
          [
           true,
           false,
           null,
           3,
           "out",
           0.9186602870813397,
           122,
           329
          ],
          [
           false,
           true,
           null,
           3,
           "out",
           0,
           "NA",
           330
          ],
          [
           true,
           false,
           null,
           3,
           "out",
           0.9933333333333333,
           123,
           331
          ],
          [
           true,
           false,
           null,
           3,
           "out",
           0.9338235294117647,
           124,
           332
          ],
          [
           true,
           false,
           null,
           3,
           "out",
           0.8698630136986302,
           125,
           333
          ],
          [
           false,
           true,
           null,
           3,
           "out",
           0,
           "NA",
           334
          ],
          [
           false,
           true,
           null,
           3,
           "out",
           0,
           "NA",
           335
          ],
          [
           true,
           false,
           null,
           3,
           "out",
           0.8833333333333333,
           126,
           336
          ],
          [
           false,
           true,
           null,
           3,
           "out",
           0,
           "NA",
           337
          ],
          [
           true,
           false,
           null,
           3,
           "out",
           1,
           127,
           338
          ],
          [
           false,
           true,
           null,
           3,
           "out",
           0,
           "NA",
           339
          ],
          [
           true,
           false,
           null,
           3,
           "out",
           0.9720670391061452,
           128,
           340
          ],
          [
           false,
           true,
           null,
           3,
           "out",
           0,
           "NA",
           341
          ],
          [
           false,
           true,
           null,
           3,
           "out",
           0,
           "NA",
           342
          ],
          [
           false,
           true,
           null,
           3,
           "out",
           0,
           "NA",
           343
          ],
          [
           false,
           true,
           null,
           3,
           "out",
           0,
           "NA",
           344
          ],
          [
           false,
           true,
           null,
           3,
           "out",
           0,
           "NA",
           345
          ],
          [
           false,
           true,
           null,
           3,
           "out",
           0,
           "NA",
           346
          ],
          [
           false,
           true,
           null,
           3,
           "out",
           0,
           "NA",
           347
          ],
          [
           true,
           false,
           null,
           3,
           "out",
           0.9700598802395209,
           129,
           348
          ],
          [
           false,
           true,
           null,
           3,
           "out",
           0,
           "NA",
           349
          ],
          [
           false,
           true,
           null,
           3,
           "out",
           0,
           "NA",
           350
          ],
          [
           false,
           true,
           null,
           3,
           "out",
           0,
           "NA",
           351
          ],
          [
           true,
           false,
           null,
           3,
           "out",
           0.8807692307692307,
           130,
           352
          ],
          [
           true,
           false,
           null,
           3,
           "out",
           0.7547169811320755,
           131,
           353
          ],
          [
           false,
           true,
           null,
           3,
           "out",
           0,
           "NA",
           354
          ],
          [
           true,
           false,
           null,
           3,
           "out",
           0.9606299212598425,
           132,
           355
          ],
          [
           true,
           false,
           null,
           3,
           "out",
           0.9583333333333334,
           133,
           356
          ],
          [
           false,
           true,
           null,
           3,
           "out",
           0,
           "NA",
           357
          ],
          [
           false,
           true,
           null,
           3,
           "out",
           0,
           "NA",
           358
          ],
          [
           true,
           false,
           null,
           3,
           "out",
           0.967741935483871,
           134,
           359
          ],
          [
           false,
           true,
           null,
           3,
           "out",
           0,
           "NA",
           360
          ],
          [
           false,
           true,
           null,
           3,
           "out",
           0,
           "NA",
           361
          ],
          [
           false,
           true,
           null,
           3,
           "out",
           0,
           "NA",
           362
          ],
          [
           false,
           true,
           null,
           3,
           "out",
           0,
           "NA",
           363
          ],
          [
           false,
           true,
           null,
           3,
           "out",
           0,
           "NA",
           364
          ],
          [
           false,
           true,
           null,
           3,
           "out",
           0,
           "NA",
           365
          ],
          [
           false,
           true,
           null,
           3,
           "out",
           0,
           "NA",
           366
          ],
          [
           false,
           true,
           null,
           3,
           "out",
           0,
           "NA",
           367
          ],
          [
           true,
           false,
           null,
           3,
           "out",
           0.8770949720670391,
           135,
           368
          ],
          [
           false,
           true,
           null,
           3,
           "out",
           0,
           "NA",
           369
          ],
          [
           false,
           true,
           null,
           3,
           "out",
           0,
           "NA",
           370
          ],
          [
           false,
           true,
           null,
           3,
           "out",
           0,
           "NA",
           371
          ],
          [
           false,
           true,
           null,
           3,
           "out",
           0,
           "NA",
           372
          ],
          [
           false,
           true,
           null,
           3,
           "out",
           0,
           "NA",
           373
          ],
          [
           false,
           true,
           null,
           3,
           "out",
           0,
           "NA",
           374
          ],
          [
           false,
           true,
           null,
           3,
           "out",
           0,
           "NA",
           375
          ],
          [
           true,
           false,
           null,
           3,
           "out",
           0.9259259259259259,
           136,
           376
          ],
          [
           false,
           true,
           null,
           3,
           "out",
           0,
           "NA",
           377
          ],
          [
           true,
           false,
           null,
           3,
           "out",
           0.9036144578313253,
           137,
           378
          ],
          [
           false,
           true,
           null,
           3,
           "out",
           0,
           "NA",
           379
          ],
          [
           false,
           true,
           null,
           3,
           "out",
           0,
           "NA",
           380
          ],
          [
           false,
           true,
           null,
           3,
           "out",
           0,
           "NA",
           381
          ],
          [
           true,
           false,
           null,
           3,
           "out",
           0.7821229050279329,
           138,
           382
          ],
          [
           false,
           true,
           null,
           3,
           "out",
           0,
           "NA",
           383
          ],
          [
           false,
           true,
           null,
           3,
           "out",
           0,
           "NA",
           384
          ],
          [
           false,
           true,
           null,
           3,
           "out",
           0,
           "NA",
           385
          ],
          [
           false,
           true,
           null,
           3,
           "out",
           0,
           "NA",
           386
          ],
          [
           false,
           true,
           null,
           3,
           "out",
           0,
           "NA",
           387
          ],
          [
           false,
           true,
           null,
           3,
           "out",
           0,
           "NA",
           388
          ],
          [
           false,
           true,
           null,
           3,
           "out",
           0,
           "NA",
           389
          ],
          [
           true,
           false,
           null,
           3,
           "out",
           0.5686274509803921,
           139,
           390
          ],
          [
           true,
           false,
           null,
           3,
           "out",
           0.848314606741573,
           140,
           391
          ],
          [
           true,
           false,
           null,
           3,
           "out",
           0.9098360655737705,
           141,
           392
          ],
          [
           true,
           false,
           null,
           3,
           "out",
           0.8357142857142857,
           142,
           393
          ],
          [
           false,
           true,
           null,
           3,
           "out",
           0,
           "NA",
           394
          ],
          [
           false,
           true,
           null,
           3,
           "out",
           0,
           "NA",
           395
          ],
          [
           false,
           true,
           null,
           3,
           "out",
           0,
           "NA",
           396
          ],
          [
           false,
           true,
           null,
           3,
           "out",
           0,
           "NA",
           397
          ],
          [
           true,
           false,
           null,
           3,
           "out",
           0.7204301075268817,
           143,
           398
          ],
          [
           true,
           false,
           null,
           3,
           "out",
           0.9482758620689655,
           144,
           399
          ],
          [
           false,
           true,
           null,
           3,
           "out",
           0,
           "NA",
           400
          ],
          [
           false,
           true,
           null,
           3,
           "out",
           0,
           "NA",
           401
          ],
          [
           false,
           true,
           null,
           3,
           "out",
           0,
           "NA",
           402
          ],
          [
           false,
           true,
           null,
           3,
           "out",
           0,
           "NA",
           403
          ],
          [
           false,
           true,
           null,
           3,
           "out",
           0,
           "NA",
           404
          ],
          [
           false,
           true,
           null,
           3,
           "out",
           0,
           "NA",
           405
          ],
          [
           true,
           false,
           null,
           3,
           "out",
           0.9937888198757764,
           145,
           406
          ],
          [
           true,
           false,
           null,
           3,
           "out",
           0.7575757575757576,
           146,
           407
          ],
          [
           false,
           true,
           null,
           3,
           "out",
           0,
           "NA",
           408
          ],
          [
           false,
           true,
           null,
           3,
           "out",
           0,
           "NA",
           409
          ],
          [
           false,
           true,
           null,
           3,
           "out",
           0,
           "NA",
           410
          ],
          [
           true,
           false,
           null,
           3,
           "out",
           0.9673202614379085,
           147,
           411
          ],
          [
           false,
           true,
           null,
           3,
           "out",
           0,
           "NA",
           412
          ],
          [
           false,
           true,
           null,
           3,
           "out",
           0,
           "NA",
           413
          ],
          [
           true,
           false,
           null,
           3,
           "out",
           0.872093023255814,
           148,
           414
          ],
          [
           false,
           true,
           null,
           3,
           "out",
           0,
           "NA",
           415
          ],
          [
           false,
           true,
           null,
           3,
           "out",
           0,
           "NA",
           416
          ],
          [
           false,
           true,
           null,
           3,
           "out",
           0,
           "NA",
           417
          ],
          [
           false,
           true,
           null,
           3,
           "out",
           0,
           "NA",
           418
          ],
          [
           false,
           true,
           null,
           3,
           "out",
           0,
           "NA",
           419
          ],
          [
           true,
           false,
           null,
           3,
           "out",
           0.9097222222222222,
           149,
           420
          ],
          [
           true,
           false,
           null,
           3,
           "out",
           0.9296482412060302,
           150,
           421
          ],
          [
           false,
           true,
           null,
           3,
           "out",
           0,
           "NA",
           422
          ],
          [
           false,
           true,
           null,
           3,
           "out",
           0,
           "NA",
           423
          ],
          [
           false,
           true,
           null,
           3,
           "out",
           0,
           "NA",
           424
          ],
          [
           true,
           false,
           null,
           3,
           "out",
           0.9695431472081218,
           151,
           425
          ],
          [
           false,
           true,
           null,
           3,
           "out",
           0,
           "NA",
           426
          ],
          [
           false,
           true,
           null,
           3,
           "out",
           0,
           "NA",
           427
          ],
          [
           true,
           false,
           null,
           3,
           "out",
           0.8899082568807339,
           152,
           428
          ],
          [
           true,
           false,
           null,
           3,
           "out",
           0.9585798816568047,
           153,
           429
          ],
          [
           false,
           true,
           null,
           3,
           "out",
           0,
           "NA",
           430
          ],
          [
           false,
           true,
           null,
           3,
           "out",
           0,
           "NA",
           431
          ],
          [
           true,
           false,
           null,
           3,
           "out",
           0.8951310861423221,
           154,
           432
          ],
          [
           false,
           true,
           null,
           3,
           "out",
           0,
           "NA",
           433
          ],
          [
           false,
           true,
           null,
           3,
           "out",
           0,
           "NA",
           434
          ],
          [
           false,
           true,
           null,
           3,
           "out",
           0,
           "NA",
           435
          ],
          [
           false,
           true,
           null,
           3,
           "out",
           0,
           "NA",
           436
          ],
          [
           false,
           true,
           null,
           3,
           "out",
           0,
           "NA",
           437
          ],
          [
           true,
           false,
           null,
           3,
           "out",
           0.912568306010929,
           155,
           438
          ],
          [
           true,
           false,
           null,
           3,
           "out",
           0.9407894736842105,
           156,
           439
          ],
          [
           false,
           true,
           null,
           3,
           "out",
           0,
           "NA",
           440
          ],
          [
           false,
           true,
           null,
           3,
           "out",
           0,
           "NA",
           441
          ],
          [
           false,
           true,
           null,
           3,
           "out",
           0,
           "NA",
           442
          ],
          [
           false,
           true,
           null,
           3,
           "out",
           0,
           "NA",
           443
          ],
          [
           true,
           false,
           null,
           3,
           "out",
           0.9212121212121213,
           157,
           444
          ],
          [
           false,
           true,
           null,
           3,
           "out",
           0,
           "NA",
           445
          ],
          [
           false,
           true,
           null,
           3,
           "out",
           0,
           "NA",
           446
          ],
          [
           true,
           false,
           null,
           3,
           "out",
           0.9398496240601504,
           158,
           447
          ],
          [
           false,
           true,
           null,
           3,
           "out",
           0,
           "NA",
           448
          ],
          [
           false,
           true,
           null,
           3,
           "out",
           0,
           "NA",
           449
          ],
          [
           false,
           true,
           null,
           3,
           "out",
           0,
           "NA",
           450
          ],
          [
           false,
           true,
           null,
           3,
           "out",
           0,
           "NA",
           451
          ],
          [
           true,
           false,
           null,
           3,
           "out",
           0.7513513513513513,
           159,
           452
          ],
          [
           false,
           true,
           null,
           3,
           "out",
           0,
           "NA",
           453
          ],
          [
           false,
           true,
           null,
           3,
           "out",
           0,
           "NA",
           454
          ],
          [
           false,
           true,
           null,
           3,
           "out",
           0,
           "NA",
           455
          ],
          [
           true,
           false,
           null,
           3,
           "out",
           1,
           160,
           456
          ],
          [
           true,
           false,
           null,
           3,
           "out",
           0.8591549295774648,
           161,
           457
          ],
          [
           true,
           false,
           null,
           3,
           "out",
           0.847457627118644,
           162,
           458
          ],
          [
           true,
           false,
           null,
           3,
           "out",
           0.9243243243243243,
           163,
           459
          ],
          [
           true,
           false,
           null,
           3,
           "out",
           0.7446808510638298,
           164,
           460
          ],
          [
           false,
           true,
           null,
           3,
           "out",
           0,
           "NA",
           461
          ],
          [
           true,
           false,
           null,
           3,
           "out",
           0.9789473684210527,
           165,
           462
          ],
          [
           false,
           true,
           null,
           3,
           "out",
           0,
           "NA",
           463
          ],
          [
           false,
           true,
           null,
           3,
           "out",
           0,
           "NA",
           464
          ],
          [
           true,
           false,
           null,
           3,
           "out",
           0.9840425531914894,
           166,
           465
          ],
          [
           true,
           false,
           null,
           3,
           "out",
           1,
           167,
           466
          ],
          [
           true,
           false,
           null,
           3,
           "out",
           0.6060606060606061,
           168,
           467
          ],
          [
           false,
           true,
           null,
           3,
           "out",
           0,
           "NA",
           468
          ],
          [
           true,
           false,
           null,
           3,
           "out",
           0.943089430894309,
           169,
           469
          ],
          [
           false,
           true,
           null,
           3,
           "out",
           0,
           "NA",
           470
          ],
          [
           true,
           false,
           null,
           3,
           "out",
           0.864406779661017,
           170,
           471
          ],
          [
           true,
           false,
           null,
           3,
           "out",
           0.9512195121951219,
           171,
           472
          ],
          [
           true,
           false,
           null,
           3,
           "out",
           0.944,
           172,
           473
          ],
          [
           false,
           true,
           null,
           3,
           "out",
           0,
           "NA",
           474
          ],
          [
           false,
           true,
           null,
           3,
           "out",
           0,
           "NA",
           475
          ],
          [
           false,
           true,
           null,
           3,
           "out",
           0,
           "NA",
           476
          ],
          [
           false,
           true,
           null,
           3,
           "out",
           0,
           "NA",
           477
          ],
          [
           false,
           true,
           null,
           3,
           "out",
           0,
           "NA",
           478
          ],
          [
           false,
           true,
           null,
           3,
           "out",
           0,
           "NA",
           479
          ],
          [
           false,
           true,
           null,
           3,
           "out",
           0,
           "NA",
           480
          ],
          [
           true,
           false,
           null,
           3,
           "out",
           0.9247787610619469,
           173,
           481
          ],
          [
           true,
           false,
           null,
           3,
           "out",
           0.7663551401869159,
           174,
           482
          ],
          [
           false,
           true,
           null,
           3,
           "out",
           0,
           "NA",
           483
          ],
          [
           false,
           true,
           null,
           3,
           "out",
           0,
           "NA",
           484
          ],
          [
           false,
           true,
           null,
           3,
           "out",
           0,
           "NA",
           485
          ],
          [
           false,
           true,
           null,
           3,
           "out",
           0,
           "NA",
           486
          ],
          [
           false,
           true,
           null,
           3,
           "out",
           0,
           "NA",
           487
          ],
          [
           false,
           true,
           null,
           3,
           "out",
           0,
           "NA",
           488
          ],
          [
           true,
           false,
           null,
           3,
           "out",
           0.9172413793103448,
           175,
           489
          ],
          [
           false,
           true,
           null,
           3,
           "out",
           0,
           "NA",
           490
          ],
          [
           false,
           true,
           null,
           3,
           "out",
           0,
           "NA",
           491
          ],
          [
           true,
           false,
           null,
           3,
           "out",
           0.9534883720930233,
           176,
           492
          ],
          [
           true,
           false,
           null,
           3,
           "out",
           0.7922077922077922,
           177,
           493
          ],
          [
           true,
           false,
           null,
           3,
           "out",
           0.8581081081081081,
           178,
           494
          ],
          [
           false,
           true,
           null,
           3,
           "out",
           0,
           "NA",
           495
          ],
          [
           true,
           false,
           null,
           3,
           "out",
           0.7611464968152867,
           179,
           496
          ],
          [
           true,
           false,
           null,
           3,
           "out",
           0.8133333333333334,
           180,
           497
          ],
          [
           false,
           true,
           null,
           3,
           "out",
           0,
           "NA",
           498
          ],
          [
           false,
           true,
           null,
           3,
           "out",
           0,
           "NA",
           499
          ],
          [
           false,
           true,
           null,
           3,
           "out",
           0,
           "NA",
           500
          ],
          [
           true,
           false,
           null,
           3,
           "out",
           0.8316151202749141,
           181,
           501
          ],
          [
           false,
           true,
           null,
           3,
           "out",
           0,
           "NA",
           502
          ],
          [
           true,
           false,
           null,
           3,
           "out",
           0.96,
           182,
           503
          ],
          [
           false,
           true,
           null,
           3,
           "out",
           0,
           "NA",
           504
          ],
          [
           false,
           true,
           null,
           3,
           "out",
           0,
           "NA",
           505
          ],
          [
           false,
           true,
           null,
           3,
           "out",
           0,
           "NA",
           506
          ],
          [
           false,
           true,
           null,
           3,
           "out",
           0,
           "NA",
           507
          ],
          [
           false,
           true,
           null,
           3,
           "out",
           0,
           "NA",
           508
          ],
          [
           false,
           true,
           null,
           3,
           "out",
           0,
           "NA",
           509
          ],
          [
           false,
           true,
           null,
           3,
           "out",
           0,
           "NA",
           510
          ],
          [
           false,
           true,
           null,
           3,
           "out",
           0,
           "NA",
           511
          ],
          [
           false,
           true,
           null,
           3,
           "out",
           0,
           "NA",
           512
          ],
          [
           true,
           false,
           null,
           3,
           "out",
           0.9556962025316456,
           183,
           513
          ],
          [
           true,
           false,
           null,
           3,
           "out",
           0.926829268292683,
           184,
           514
          ],
          [
           true,
           false,
           null,
           3,
           "out",
           0.8829787234042553,
           185,
           515
          ],
          [
           true,
           false,
           null,
           3,
           "out",
           0.810126582278481,
           186,
           516
          ],
          [
           true,
           false,
           null,
           3,
           "out",
           0.925,
           187,
           517
          ],
          [
           true,
           false,
           null,
           3,
           "out",
           0.8410596026490066,
           188,
           518
          ],
          [
           false,
           true,
           null,
           3,
           "out",
           0,
           "NA",
           519
          ],
          [
           false,
           true,
           null,
           3,
           "out",
           0,
           "NA",
           520
          ],
          [
           false,
           true,
           null,
           3,
           "out",
           0,
           "NA",
           521
          ],
          [
           false,
           true,
           null,
           3,
           "out",
           0,
           "NA",
           522
          ],
          [
           false,
           true,
           null,
           3,
           "out",
           0,
           "NA",
           523
          ],
          [
           false,
           true,
           null,
           3,
           "out",
           0,
           "NA",
           524
          ],
          [
           true,
           false,
           null,
           3,
           "out",
           0.6245847176079734,
           189,
           525
          ],
          [
           true,
           false,
           null,
           3,
           "out",
           0.8784530386740331,
           190,
           526
          ],
          [
           false,
           true,
           null,
           3,
           "out",
           0,
           "NA",
           527
          ],
          [
           false,
           true,
           null,
           3,
           "out",
           0,
           "NA",
           528
          ],
          [
           true,
           false,
           null,
           3,
           "out",
           0.8317307692307693,
           191,
           529
          ],
          [
           false,
           true,
           null,
           3,
           "out",
           0,
           "NA",
           530
          ],
          [
           false,
           true,
           null,
           3,
           "out",
           0,
           "NA",
           531
          ],
          [
           true,
           false,
           null,
           3,
           "out",
           0.9651162790697675,
           192,
           532
          ],
          [
           false,
           true,
           null,
           3,
           "out",
           0,
           "NA",
           533
          ],
          [
           false,
           true,
           null,
           3,
           "out",
           0,
           "NA",
           534
          ],
          [
           false,
           true,
           null,
           3,
           "out",
           0,
           "NA",
           535
          ],
          [
           true,
           false,
           null,
           3,
           "out",
           0.7409638554216867,
           193,
           536
          ],
          [
           false,
           true,
           null,
           3,
           "out",
           0,
           "NA",
           537
          ],
          [
           true,
           false,
           null,
           3,
           "out",
           0.9649122807017544,
           194,
           538
          ],
          [
           true,
           false,
           null,
           3,
           "out",
           0.5346938775510204,
           195,
           539
          ],
          [
           false,
           true,
           null,
           3,
           "out",
           0,
           "NA",
           540
          ],
          [
           false,
           true,
           null,
           3,
           "out",
           0,
           "NA",
           541
          ],
          [
           true,
           false,
           null,
           3,
           "out",
           0.8390243902439024,
           196,
           542
          ],
          [
           false,
           true,
           null,
           3,
           "out",
           0,
           "NA",
           543
          ],
          [
           false,
           true,
           null,
           3,
           "out",
           0,
           "NA",
           544
          ],
          [
           true,
           false,
           null,
           3,
           "out",
           0.9162303664921466,
           197,
           545
          ],
          [
           false,
           true,
           null,
           3,
           "out",
           0,
           "NA",
           546
          ],
          [
           false,
           true,
           null,
           3,
           "out",
           0,
           "NA",
           547
          ],
          [
           false,
           true,
           null,
           3,
           "out",
           0,
           "NA",
           548
          ],
          [
           false,
           true,
           null,
           3,
           "out",
           0,
           "NA",
           549
          ],
          [
           false,
           true,
           null,
           3,
           "out",
           0,
           "NA",
           550
          ],
          [
           true,
           false,
           null,
           3,
           "out",
           0.9254658385093167,
           198,
           551
          ],
          [
           false,
           true,
           null,
           3,
           "out",
           0,
           "NA",
           552
          ],
          [
           false,
           true,
           null,
           3,
           "out",
           0,
           "NA",
           553
          ],
          [
           false,
           true,
           null,
           3,
           "out",
           0,
           "NA",
           554
          ],
          [
           true,
           false,
           null,
           3,
           "out",
           0.993421052631579,
           199,
           555
          ],
          [
           false,
           true,
           null,
           3,
           "out",
           0,
           "NA",
           556
          ],
          [
           true,
           false,
           null,
           3,
           "out",
           0.9927536231884058,
           200,
           557
          ],
          [
           false,
           true,
           null,
           3,
           "out",
           0,
           "NA",
           558
          ],
          [
           true,
           false,
           null,
           3,
           "out",
           0.967032967032967,
           201,
           559
          ],
          [
           false,
           true,
           null,
           3,
           "out",
           0,
           "NA",
           560
          ],
          [
           false,
           true,
           null,
           3,
           "out",
           0,
           "NA",
           561
          ],
          [
           false,
           true,
           null,
           3,
           "out",
           0,
           "NA",
           562
          ],
          [
           false,
           true,
           null,
           3,
           "out",
           0,
           "NA",
           563
          ],
          [
           false,
           true,
           null,
           3,
           "out",
           0,
           "NA",
           564
          ],
          [
           true,
           false,
           null,
           3,
           "out",
           0.9398907103825137,
           202,
           565
          ],
          [
           true,
           false,
           null,
           3,
           "out",
           0.9948979591836735,
           203,
           566
          ],
          [
           true,
           false,
           null,
           3,
           "out",
           0.9819277108433735,
           204,
           567
          ],
          [
           false,
           true,
           null,
           3,
           "out",
           0,
           "NA",
           568
          ],
          [
           false,
           true,
           null,
           3,
           "out",
           0,
           "NA",
           569
          ],
          [
           true,
           false,
           null,
           3,
           "out",
           0.7368421052631579,
           205,
           570
          ],
          [
           true,
           false,
           null,
           3,
           "out",
           0.9050632911392406,
           206,
           571
          ],
          [
           false,
           true,
           null,
           3,
           "out",
           0,
           "NA",
           572
          ],
          [
           false,
           true,
           null,
           3,
           "out",
           0,
           "NA",
           573
          ],
          [
           true,
           false,
           null,
           3,
           "out",
           0.9485294117647058,
           207,
           574
          ],
          [
           false,
           true,
           null,
           3,
           "out",
           0,
           "NA",
           575
          ],
          [
           false,
           true,
           null,
           3,
           "out",
           0,
           "NA",
           576
          ],
          [
           true,
           false,
           null,
           3,
           "out",
           0.9574468085106383,
           208,
           577
          ],
          [
           true,
           false,
           null,
           3,
           "out",
           0.9817518248175182,
           209,
           578
          ],
          [
           true,
           false,
           null,
           3,
           "out",
           0.8955223880597015,
           210,
           579
          ],
          [
           false,
           true,
           null,
           3,
           "out",
           0,
           "NA",
           580
          ],
          [
           false,
           true,
           null,
           3,
           "out",
           0,
           "NA",
           581
          ],
          [
           false,
           true,
           null,
           3,
           "out",
           0,
           "NA",
           582
          ],
          [
           true,
           false,
           null,
           3,
           "out",
           0.9526315789473684,
           211,
           583
          ],
          [
           false,
           true,
           null,
           3,
           "out",
           0,
           "NA",
           584
          ],
          [
           false,
           true,
           null,
           3,
           "out",
           0,
           "NA",
           585
          ],
          [
           true,
           false,
           null,
           3,
           "out",
           0.9380952380952381,
           212,
           586
          ],
          [
           false,
           true,
           null,
           3,
           "out",
           0,
           "NA",
           587
          ],
          [
           false,
           true,
           null,
           3,
           "out",
           0,
           "NA",
           588
          ],
          [
           false,
           true,
           null,
           3,
           "out",
           0,
           "NA",
           589
          ],
          [
           false,
           true,
           null,
           3,
           "out",
           0,
           "NA",
           590
          ],
          [
           false,
           true,
           null,
           3,
           "out",
           0,
           "NA",
           591
          ],
          [
           false,
           true,
           null,
           3,
           "out",
           0,
           "NA",
           592
          ],
          [
           false,
           true,
           null,
           3,
           "out",
           0,
           "NA",
           593
          ],
          [
           false,
           true,
           null,
           3,
           "out",
           0,
           "NA",
           594
          ],
          [
           false,
           true,
           null,
           3,
           "out",
           0,
           "NA",
           595
          ],
          [
           false,
           true,
           null,
           3,
           "out",
           0,
           "NA",
           596
          ],
          [
           false,
           true,
           null,
           3,
           "out",
           0,
           "NA",
           597
          ],
          [
           true,
           false,
           null,
           3,
           "out",
           0.896969696969697,
           213,
           598
          ],
          [
           true,
           false,
           null,
           3,
           "out",
           0.9765258215962441,
           214,
           599
          ],
          [
           true,
           false,
           null,
           3,
           "out",
           0.9213483146067416,
           215,
           600
          ],
          [
           false,
           true,
           null,
           3,
           "out",
           0,
           "NA",
           601
          ],
          [
           false,
           true,
           null,
           3,
           "out",
           0,
           "NA",
           602
          ],
          [
           false,
           true,
           null,
           3,
           "out",
           0,
           "NA",
           603
          ],
          [
           true,
           false,
           null,
           3,
           "out",
           0.9545454545454546,
           216,
           604
          ],
          [
           false,
           true,
           null,
           3,
           "out",
           0,
           "NA",
           605
          ],
          [
           false,
           true,
           null,
           3,
           "out",
           0,
           "NA",
           606
          ],
          [
           false,
           true,
           null,
           3,
           "out",
           0,
           "NA",
           607
          ],
          [
           false,
           true,
           null,
           3,
           "out",
           0,
           "NA",
           608
          ],
          [
           true,
           false,
           null,
           3,
           "out",
           0.3801452784503632,
           217,
           609
          ],
          [
           false,
           true,
           null,
           3,
           "out",
           0,
           "NA",
           610
          ],
          [
           true,
           false,
           null,
           3,
           "out",
           0.9421052631578948,
           218,
           611
          ],
          [
           true,
           false,
           null,
           3,
           "out",
           0.8435754189944135,
           219,
           612
          ],
          [
           false,
           true,
           null,
           3,
           "out",
           0,
           "NA",
           613
          ],
          [
           false,
           true,
           null,
           3,
           "out",
           0,
           "NA",
           614
          ],
          [
           false,
           true,
           null,
           3,
           "out",
           0,
           "NA",
           615
          ],
          [
           true,
           false,
           null,
           3,
           "out",
           0.6681614349775785,
           220,
           616
          ],
          [
           true,
           false,
           null,
           3,
           "out",
           0.9881889763779528,
           221,
           617
          ],
          [
           false,
           true,
           null,
           3,
           "out",
           0,
           "NA",
           618
          ],
          [
           false,
           true,
           null,
           3,
           "out",
           0,
           "NA",
           619
          ],
          [
           false,
           true,
           null,
           3,
           "out",
           0,
           "NA",
           620
          ],
          [
           false,
           true,
           null,
           3,
           "out",
           0,
           "NA",
           621
          ],
          [
           true,
           false,
           null,
           3,
           "out",
           0.9245283018867925,
           222,
           622
          ],
          [
           false,
           true,
           null,
           3,
           "out",
           0,
           "NA",
           623
          ],
          [
           true,
           false,
           null,
           3,
           "out",
           0.8676470588235294,
           223,
           624
          ],
          [
           false,
           true,
           null,
           3,
           "out",
           0,
           "NA",
           625
          ],
          [
           false,
           true,
           null,
           3,
           "out",
           0,
           "NA",
           626
          ],
          [
           true,
           false,
           null,
           3,
           "out",
           0.9222222222222223,
           224,
           627
          ],
          [
           false,
           true,
           null,
           3,
           "out",
           0,
           "NA",
           628
          ],
          [
           true,
           false,
           null,
           3,
           "out",
           0.8811881188118812,
           225,
           629
          ],
          [
           false,
           true,
           null,
           3,
           "out",
           0,
           "NA",
           630
          ],
          [
           false,
           true,
           null,
           3,
           "out",
           0,
           "NA",
           631
          ],
          [
           true,
           false,
           null,
           3,
           "out",
           0.9197080291970803,
           226,
           632
          ],
          [
           false,
           true,
           null,
           3,
           "out",
           0,
           "NA",
           633
          ],
          [
           false,
           true,
           null,
           3,
           "out",
           0,
           "NA",
           634
          ],
          [
           true,
           false,
           null,
           3,
           "out",
           0.7303921568627451,
           227,
           635
          ],
          [
           false,
           true,
           null,
           3,
           "out",
           0,
           "NA",
           636
          ],
          [
           false,
           true,
           null,
           3,
           "out",
           0,
           "NA",
           637
          ],
          [
           false,
           true,
           null,
           3,
           "out",
           0,
           "NA",
           638
          ],
          [
           false,
           true,
           null,
           3,
           "out",
           0,
           "NA",
           639
          ],
          [
           false,
           true,
           null,
           3,
           "out",
           0,
           "NA",
           640
          ],
          [
           false,
           true,
           null,
           3,
           "out",
           0,
           "NA",
           641
          ],
          [
           false,
           true,
           null,
           3,
           "out",
           0,
           "NA",
           642
          ],
          [
           false,
           true,
           null,
           3,
           "out",
           0,
           "NA",
           643
          ],
          [
           true,
           false,
           null,
           3,
           "out",
           0.8859060402684564,
           228,
           644
          ],
          [
           false,
           true,
           null,
           3,
           "out",
           0,
           "NA",
           645
          ],
          [
           true,
           false,
           null,
           3,
           "out",
           0.9594594594594594,
           229,
           646
          ],
          [
           false,
           true,
           null,
           3,
           "out",
           0,
           "NA",
           647
          ],
          [
           false,
           true,
           null,
           3,
           "out",
           0,
           "NA",
           648
          ],
          [
           false,
           true,
           null,
           3,
           "out",
           0,
           "NA",
           649
          ],
          [
           false,
           true,
           null,
           3,
           "out",
           0,
           "NA",
           650
          ],
          [
           false,
           true,
           null,
           3,
           "out",
           0,
           "NA",
           651
          ],
          [
           true,
           false,
           null,
           3,
           "out",
           0.8895705521472392,
           230,
           652
          ],
          [
           false,
           true,
           null,
           3,
           "out",
           0,
           "NA",
           653
          ],
          [
           false,
           true,
           null,
           3,
           "out",
           0,
           "NA",
           654
          ],
          [
           false,
           true,
           null,
           3,
           "out",
           0,
           "NA",
           655
          ],
          [
           false,
           true,
           null,
           3,
           "out",
           0,
           "NA",
           656
          ],
          [
           false,
           true,
           null,
           3,
           "out",
           0,
           "NA",
           657
          ],
          [
           false,
           true,
           null,
           3,
           "out",
           0,
           "NA",
           658
          ],
          [
           true,
           false,
           null,
           3,
           "out",
           1,
           231,
           659
          ],
          [
           false,
           true,
           null,
           3,
           "out",
           0,
           "NA",
           660
          ],
          [
           false,
           true,
           null,
           3,
           "out",
           0,
           "NA",
           661
          ],
          [
           false,
           true,
           null,
           3,
           "out",
           0,
           "NA",
           662
          ],
          [
           false,
           true,
           null,
           3,
           "out",
           0,
           "NA",
           663
          ],
          [
           false,
           true,
           null,
           3,
           "out",
           0,
           "NA",
           664
          ],
          [
           false,
           true,
           null,
           3,
           "out",
           0,
           "NA",
           665
          ],
          [
           false,
           true,
           null,
           3,
           "out",
           0,
           "NA",
           666
          ],
          [
           true,
           false,
           null,
           3,
           "out",
           0.806930693069307,
           232,
           667
          ],
          [
           false,
           true,
           null,
           3,
           "out",
           0,
           "NA",
           668
          ],
          [
           false,
           true,
           null,
           3,
           "out",
           0,
           "NA",
           669
          ],
          [
           false,
           true,
           null,
           3,
           "out",
           0,
           "NA",
           670
          ],
          [
           true,
           false,
           null,
           3,
           "out",
           0.8333333333333334,
           233,
           671
          ],
          [
           false,
           true,
           null,
           3,
           "out",
           0,
           "NA",
           672
          ],
          [
           false,
           true,
           null,
           3,
           "out",
           0,
           "NA",
           673
          ],
          [
           false,
           true,
           null,
           3,
           "out",
           0,
           "NA",
           674
          ],
          [
           false,
           true,
           null,
           3,
           "out",
           0,
           "NA",
           675
          ],
          [
           false,
           true,
           null,
           3,
           "out",
           0,
           "NA",
           676
          ],
          [
           false,
           true,
           null,
           3,
           "out",
           0,
           "NA",
           677
          ],
          [
           false,
           true,
           null,
           3,
           "out",
           0,
           "NA",
           678
          ],
          [
           false,
           true,
           null,
           3,
           "out",
           0,
           "NA",
           679
          ],
          [
           false,
           true,
           null,
           3,
           "out",
           0,
           "NA",
           680
          ],
          [
           false,
           true,
           null,
           3,
           "out",
           0,
           "NA",
           681
          ],
          [
           false,
           true,
           null,
           3,
           "out",
           0,
           "NA",
           682
          ],
          [
           true,
           false,
           null,
           3,
           "out",
           0.8990384615384616,
           234,
           683
          ],
          [
           true,
           false,
           null,
           3,
           "out",
           0.9924812030075187,
           235,
           684
          ],
          [
           true,
           false,
           null,
           3,
           "out",
           0.45977011494252873,
           236,
           685
          ],
          [
           true,
           false,
           null,
           3,
           "out",
           0.867579908675799,
           237,
           686
          ],
          [
           false,
           true,
           null,
           3,
           "out",
           0,
           "NA",
           687
          ],
          [
           true,
           false,
           null,
           3,
           "out",
           0.847457627118644,
           238,
           688
          ],
          [
           true,
           false,
           null,
           3,
           "out",
           0.951048951048951,
           239,
           689
          ],
          [
           false,
           true,
           null,
           3,
           "out",
           0,
           "NA",
           690
          ],
          [
           false,
           true,
           null,
           3,
           "out",
           0,
           "NA",
           691
          ],
          [
           true,
           false,
           null,
           3,
           "out",
           0.8571428571428571,
           240,
           692
          ],
          [
           false,
           true,
           null,
           3,
           "out",
           0,
           "NA",
           693
          ],
          [
           false,
           true,
           null,
           3,
           "out",
           0,
           "NA",
           694
          ],
          [
           false,
           true,
           null,
           3,
           "out",
           0,
           "NA",
           695
          ],
          [
           false,
           true,
           null,
           3,
           "out",
           0,
           "NA",
           696
          ],
          [
           false,
           true,
           null,
           3,
           "out",
           0,
           "NA",
           697
          ],
          [
           false,
           true,
           null,
           3,
           "out",
           0,
           "NA",
           698
          ],
          [
           false,
           true,
           null,
           3,
           "out",
           0,
           "NA",
           699
          ],
          [
           false,
           true,
           null,
           3,
           "out",
           0,
           "NA",
           700
          ],
          [
           false,
           true,
           null,
           3,
           "out",
           0,
           "NA",
           701
          ],
          [
           false,
           true,
           null,
           3,
           "out",
           0,
           "NA",
           702
          ],
          [
           true,
           false,
           null,
           3,
           "out",
           0.835016835016835,
           241,
           703
          ],
          [
           true,
           false,
           null,
           3,
           "out",
           0.9378531073446328,
           242,
           704
          ],
          [
           true,
           false,
           null,
           3,
           "out",
           0.7388059701492538,
           243,
           705
          ],
          [
           false,
           true,
           null,
           3,
           "out",
           0,
           "NA",
           706
          ],
          [
           false,
           true,
           null,
           3,
           "out",
           0,
           "NA",
           707
          ],
          [
           false,
           true,
           null,
           3,
           "out",
           0,
           "NA",
           708
          ],
          [
           false,
           true,
           null,
           3,
           "out",
           0,
           "NA",
           709
          ],
          [
           true,
           false,
           null,
           3,
           "out",
           0.9502487562189055,
           244,
           710
          ],
          [
           false,
           true,
           null,
           3,
           "out",
           0,
           "NA",
           711
          ],
          [
           true,
           false,
           null,
           3,
           "out",
           0.972972972972973,
           245,
           712
          ],
          [
           true,
           false,
           null,
           3,
           "out",
           0.7792207792207793,
           246,
           713
          ],
          [
           true,
           false,
           null,
           3,
           "out",
           0.9821428571428571,
           247,
           714
          ],
          [
           true,
           false,
           null,
           3,
           "out",
           0.85,
           248,
           715
          ],
          [
           true,
           false,
           null,
           3,
           "out",
           0.9880239520958084,
           249,
           716
          ],
          [
           false,
           true,
           null,
           3,
           "out",
           0,
           "NA",
           717
          ],
          [
           true,
           false,
           null,
           3,
           "out",
           0.9434782608695652,
           250,
           718
          ],
          [
           false,
           true,
           null,
           3,
           "out",
           0,
           "NA",
           719
          ],
          [
           true,
           false,
           null,
           3,
           "out",
           1,
           251,
           720
          ],
          [
           true,
           false,
           null,
           3,
           "out",
           0.8622754491017964,
           252,
           721
          ],
          [
           false,
           true,
           null,
           3,
           "out",
           0,
           "NA",
           722
          ],
          [
           false,
           true,
           null,
           3,
           "out",
           0,
           "NA",
           723
          ],
          [
           false,
           true,
           null,
           3,
           "out",
           0,
           "NA",
           724
          ],
          [
           false,
           true,
           null,
           3,
           "out",
           0,
           "NA",
           725
          ],
          [
           false,
           true,
           null,
           3,
           "out",
           0,
           "NA",
           726
          ],
          [
           false,
           true,
           null,
           3,
           "out",
           0,
           "NA",
           727
          ],
          [
           false,
           true,
           null,
           3,
           "out",
           0,
           "NA",
           728
          ],
          [
           false,
           true,
           null,
           3,
           "out",
           0,
           "NA",
           729
          ],
          [
           false,
           true,
           null,
           3,
           "out",
           0,
           "NA",
           730
          ],
          [
           false,
           true,
           null,
           3,
           "out",
           0,
           "NA",
           731
          ],
          [
           false,
           true,
           null,
           3,
           "out",
           0,
           "NA",
           732
          ],
          [
           true,
           false,
           null,
           3,
           "out",
           0.7567567567567568,
           253,
           733
          ],
          [
           false,
           true,
           null,
           3,
           "out",
           0,
           "NA",
           734
          ],
          [
           false,
           true,
           null,
           3,
           "out",
           0,
           "NA",
           735
          ],
          [
           false,
           true,
           null,
           3,
           "out",
           0,
           "NA",
           736
          ],
          [
           true,
           false,
           null,
           3,
           "out",
           0.9343434343434344,
           254,
           737
          ],
          [
           true,
           false,
           null,
           3,
           "out",
           0.9419354838709677,
           255,
           738
          ],
          [
           true,
           false,
           null,
           3,
           "out",
           0.8805031446540881,
           256,
           739
          ],
          [
           true,
           false,
           null,
           3,
           "out",
           0.8493150684931506,
           257,
           740
          ],
          [
           false,
           true,
           null,
           3,
           "out",
           0,
           "NA",
           741
          ],
          [
           true,
           false,
           null,
           3,
           "out",
           0.9431818181818182,
           258,
           742
          ],
          [
           true,
           false,
           null,
           3,
           "out",
           0.8833333333333333,
           259,
           743
          ],
          [
           true,
           false,
           null,
           3,
           "out",
           0.9505703422053232,
           260,
           744
          ],
          [
           false,
           true,
           null,
           3,
           "out",
           0,
           "NA",
           745
          ],
          [
           false,
           true,
           null,
           3,
           "out",
           0,
           "NA",
           746
          ],
          [
           true,
           false,
           null,
           3,
           "out",
           0.965034965034965,
           261,
           747
          ],
          [
           false,
           true,
           null,
           3,
           "out",
           0,
           "NA",
           748
          ],
          [
           true,
           false,
           null,
           3,
           "out",
           0.8036529680365296,
           262,
           749
          ],
          [
           true,
           false,
           null,
           3,
           "out",
           0.9815668202764977,
           263,
           750
          ],
          [
           false,
           true,
           null,
           3,
           "out",
           0,
           "NA",
           751
          ],
          [
           false,
           true,
           null,
           3,
           "out",
           0,
           "NA",
           752
          ],
          [
           false,
           true,
           null,
           3,
           "out",
           0,
           "NA",
           753
          ],
          [
           true,
           false,
           null,
           3,
           "out",
           0.8208955223880597,
           264,
           754
          ],
          [
           false,
           true,
           null,
           3,
           "out",
           0,
           "NA",
           755
          ],
          [
           false,
           true,
           null,
           3,
           "out",
           0,
           "NA",
           756
          ],
          [
           false,
           true,
           null,
           3,
           "out",
           0,
           "NA",
           757
          ],
          [
           true,
           false,
           null,
           3,
           "out",
           0.9375,
           265,
           758
          ],
          [
           false,
           true,
           null,
           3,
           "out",
           0,
           "NA",
           759
          ],
          [
           false,
           true,
           null,
           3,
           "out",
           0,
           "NA",
           760
          ],
          [
           false,
           true,
           null,
           3,
           "out",
           0,
           "NA",
           761
          ],
          [
           false,
           true,
           null,
           3,
           "out",
           0,
           "NA",
           762
          ],
          [
           false,
           true,
           null,
           3,
           "out",
           0,
           "NA",
           763
          ],
          [
           true,
           false,
           null,
           3,
           "out",
           0.8546511627906976,
           266,
           764
          ],
          [
           false,
           true,
           null,
           3,
           "out",
           0,
           "NA",
           765
          ],
          [
           false,
           true,
           null,
           3,
           "out",
           0,
           "NA",
           766
          ],
          [
           false,
           true,
           null,
           3,
           "out",
           0,
           "NA",
           767
          ],
          [
           false,
           true,
           null,
           3,
           "out",
           0,
           "NA",
           768
          ],
          [
           false,
           true,
           null,
           3,
           "out",
           0,
           "NA",
           769
          ],
          [
           false,
           true,
           null,
           3,
           "out",
           0,
           "NA",
           770
          ],
          [
           false,
           true,
           null,
           3,
           "out",
           0,
           "NA",
           771
          ],
          [
           false,
           true,
           null,
           3,
           "out",
           0,
           "NA",
           772
          ],
          [
           false,
           true,
           null,
           3,
           "out",
           0,
           "NA",
           773
          ],
          [
           true,
           false,
           null,
           3,
           "out",
           0.948051948051948,
           267,
           774
          ],
          [
           false,
           true,
           null,
           3,
           "out",
           0,
           "NA",
           775
          ],
          [
           true,
           false,
           null,
           3,
           "out",
           0.8857142857142857,
           268,
           776
          ],
          [
           true,
           false,
           null,
           3,
           "out",
           0.9811320754716981,
           269,
           777
          ],
          [
           false,
           true,
           null,
           3,
           "out",
           0,
           "NA",
           778
          ],
          [
           false,
           true,
           null,
           3,
           "out",
           0,
           "NA",
           779
          ],
          [
           false,
           true,
           null,
           3,
           "out",
           0,
           "NA",
           780
          ],
          [
           false,
           true,
           null,
           3,
           "out",
           0,
           "NA",
           781
          ],
          [
           false,
           true,
           null,
           3,
           "out",
           0,
           "NA",
           782
          ],
          [
           true,
           false,
           null,
           3,
           "out",
           0.8864864864864865,
           270,
           783
          ],
          [
           false,
           true,
           null,
           3,
           "out",
           0,
           "NA",
           784
          ],
          [
           false,
           true,
           null,
           3,
           "out",
           0,
           "NA",
           785
          ],
          [
           false,
           true,
           null,
           3,
           "out",
           0,
           "NA",
           786
          ],
          [
           true,
           false,
           null,
           3,
           "out",
           0.6113989637305699,
           271,
           787
          ],
          [
           false,
           true,
           null,
           3,
           "out",
           0,
           "NA",
           788
          ],
          [
           true,
           false,
           null,
           3,
           "out",
           0.9279279279279279,
           272,
           789
          ],
          [
           true,
           false,
           null,
           3,
           "out",
           0.9744897959183674,
           273,
           790
          ],
          [
           false,
           true,
           null,
           3,
           "out",
           0,
           "NA",
           791
          ],
          [
           false,
           true,
           null,
           3,
           "out",
           0,
           "NA",
           792
          ],
          [
           false,
           true,
           null,
           3,
           "out",
           0,
           "NA",
           793
          ],
          [
           false,
           true,
           null,
           3,
           "out",
           0,
           "NA",
           794
          ],
          [
           false,
           true,
           null,
           3,
           "out",
           0,
           "NA",
           795
          ],
          [
           true,
           false,
           null,
           3,
           "out",
           0.9067357512953368,
           274,
           796
          ],
          [
           true,
           false,
           null,
           3,
           "out",
           0.9705882352941176,
           275,
           797
          ],
          [
           false,
           true,
           null,
           3,
           "out",
           0,
           "NA",
           798
          ],
          [
           true,
           false,
           null,
           3,
           "out",
           0.7538461538461538,
           276,
           799
          ],
          [
           false,
           true,
           null,
           3,
           "out",
           0,
           "NA",
           800
          ],
          [
           true,
           false,
           null,
           3,
           "out",
           0.9154228855721394,
           277,
           801
          ],
          [
           false,
           true,
           null,
           3,
           "out",
           0,
           "NA",
           802
          ],
          [
           false,
           true,
           null,
           3,
           "out",
           0,
           "NA",
           803
          ],
          [
           false,
           true,
           null,
           3,
           "out",
           0,
           "NA",
           804
          ],
          [
           false,
           true,
           null,
           3,
           "out",
           0,
           "NA",
           805
          ],
          [
           true,
           false,
           null,
           3,
           "out",
           0.9302325581395349,
           278,
           806
          ],
          [
           true,
           false,
           null,
           3,
           "out",
           0.7142857142857143,
           279,
           807
          ],
          [
           false,
           true,
           null,
           3,
           "out",
           0,
           "NA",
           808
          ],
          [
           false,
           true,
           null,
           3,
           "out",
           0,
           "NA",
           809
          ],
          [
           false,
           true,
           null,
           3,
           "out",
           0,
           "NA",
           810
          ],
          [
           false,
           true,
           null,
           3,
           "out",
           0,
           "NA",
           811
          ],
          [
           true,
           false,
           null,
           3,
           "out",
           0.8311111111111111,
           280,
           812
          ],
          [
           false,
           true,
           null,
           3,
           "out",
           0,
           "NA",
           813
          ],
          [
           false,
           true,
           null,
           3,
           "out",
           0,
           "NA",
           814
          ],
          [
           false,
           true,
           null,
           3,
           "out",
           0,
           "NA",
           815
          ],
          [
           false,
           true,
           null,
           3,
           "out",
           0,
           "NA",
           816
          ],
          [
           false,
           true,
           null,
           3,
           "out",
           0,
           "NA",
           817
          ],
          [
           false,
           true,
           null,
           3,
           "out",
           0,
           "NA",
           818
          ],
          [
           false,
           true,
           null,
           3,
           "out",
           0,
           "NA",
           819
          ],
          [
           false,
           true,
           null,
           3,
           "out",
           0,
           "NA",
           820
          ],
          [
           false,
           true,
           null,
           3,
           "out",
           0,
           "NA",
           821
          ],
          [
           true,
           false,
           null,
           3,
           "out",
           0.7666666666666667,
           281,
           822
          ],
          [
           false,
           true,
           null,
           3,
           "out",
           0,
           "NA",
           823
          ],
          [
           false,
           true,
           null,
           3,
           "out",
           0,
           "NA",
           824
          ],
          [
           false,
           true,
           null,
           3,
           "out",
           0,
           "NA",
           825
          ],
          [
           false,
           true,
           null,
           3,
           "out",
           0,
           "NA",
           826
          ],
          [
           false,
           true,
           null,
           3,
           "out",
           0,
           "NA",
           827
          ],
          [
           true,
           false,
           null,
           3,
           "out",
           0.9135135135135135,
           282,
           828
          ],
          [
           false,
           true,
           null,
           3,
           "out",
           0,
           "NA",
           829
          ],
          [
           false,
           true,
           null,
           3,
           "out",
           0,
           "NA",
           830
          ],
          [
           true,
           false,
           null,
           3,
           "out",
           0.9527027027027027,
           283,
           831
          ],
          [
           false,
           true,
           null,
           3,
           "out",
           0,
           "NA",
           832
          ],
          [
           true,
           false,
           null,
           3,
           "out",
           0.9217877094972067,
           284,
           833
          ],
          [
           true,
           false,
           null,
           3,
           "out",
           0.8235294117647058,
           285,
           834
          ],
          [
           true,
           false,
           null,
           3,
           "out",
           0.8164556962025317,
           286,
           835
          ],
          [
           false,
           true,
           null,
           3,
           "out",
           0,
           "NA",
           836
          ],
          [
           false,
           true,
           null,
           3,
           "out",
           0,
           "NA",
           837
          ],
          [
           false,
           true,
           null,
           3,
           "out",
           0,
           "NA",
           838
          ],
          [
           false,
           true,
           null,
           3,
           "out",
           0,
           "NA",
           839
          ],
          [
           false,
           true,
           null,
           3,
           "out",
           0,
           "NA",
           840
          ],
          [
           false,
           true,
           null,
           3,
           "out",
           0,
           "NA",
           841
          ],
          [
           false,
           true,
           null,
           3,
           "out",
           0,
           "NA",
           842
          ],
          [
           true,
           false,
           null,
           3,
           "out",
           0.9647058823529412,
           287,
           843
          ],
          [
           true,
           false,
           null,
           3,
           "out",
           0.89375,
           288,
           844
          ],
          [
           false,
           true,
           null,
           3,
           "out",
           0,
           "NA",
           845
          ],
          [
           false,
           true,
           null,
           3,
           "out",
           0,
           "NA",
           846
          ],
          [
           false,
           true,
           null,
           3,
           "out",
           0,
           "NA",
           847
          ],
          [
           false,
           true,
           null,
           3,
           "out",
           0,
           "NA",
           848
          ],
          [
           false,
           true,
           null,
           3,
           "out",
           0,
           "NA",
           849
          ],
          [
           false,
           true,
           null,
           3,
           "out",
           0,
           "NA",
           850
          ],
          [
           true,
           false,
           null,
           3,
           "out",
           0.7935483870967742,
           289,
           851
          ],
          [
           true,
           false,
           null,
           3,
           "out",
           0.9044117647058824,
           290,
           852
          ],
          [
           true,
           false,
           null,
           3,
           "out",
           0.8802083333333334,
           291,
           853
          ],
          [
           false,
           true,
           null,
           3,
           "out",
           0,
           "NA",
           854
          ],
          [
           true,
           false,
           null,
           3,
           "out",
           0.8461538461538461,
           292,
           855
          ],
          [
           true,
           false,
           null,
           3,
           "out",
           0.9347826086956522,
           293,
           856
          ],
          [
           false,
           true,
           null,
           3,
           "out",
           0,
           "NA",
           857
          ],
          [
           false,
           true,
           null,
           3,
           "out",
           0,
           "NA",
           858
          ],
          [
           false,
           true,
           null,
           3,
           "out",
           0,
           "NA",
           859
          ],
          [
           true,
           false,
           null,
           3,
           "out",
           0.5291005291005291,
           294,
           860
          ],
          [
           false,
           true,
           null,
           3,
           "out",
           0,
           "NA",
           861
          ],
          [
           false,
           true,
           null,
           3,
           "out",
           0,
           "NA",
           862
          ],
          [
           false,
           true,
           null,
           3,
           "out",
           0,
           "NA",
           863
          ],
          [
           false,
           true,
           null,
           3,
           "out",
           0,
           "NA",
           864
          ],
          [
           false,
           true,
           null,
           3,
           "out",
           0,
           "NA",
           865
          ],
          [
           false,
           true,
           null,
           3,
           "out",
           0,
           "NA",
           866
          ],
          [
           false,
           true,
           null,
           3,
           "out",
           0,
           "NA",
           867
          ],
          [
           false,
           true,
           null,
           3,
           "out",
           0,
           "NA",
           868
          ],
          [
           false,
           true,
           null,
           3,
           "out",
           0,
           "NA",
           869
          ],
          [
           false,
           true,
           null,
           3,
           "out",
           0,
           "NA",
           870
          ],
          [
           false,
           true,
           null,
           3,
           "out",
           0,
           "NA",
           871
          ],
          [
           false,
           true,
           null,
           3,
           "out",
           0,
           "NA",
           872
          ],
          [
           false,
           true,
           null,
           3,
           "out",
           0,
           "NA",
           873
          ],
          [
           false,
           true,
           null,
           3,
           "out",
           0,
           "NA",
           874
          ],
          [
           false,
           true,
           null,
           3,
           "out",
           0,
           "NA",
           875
          ],
          [
           false,
           true,
           null,
           3,
           "out",
           0,
           "NA",
           876
          ],
          [
           false,
           true,
           null,
           3,
           "out",
           0,
           "NA",
           877
          ],
          [
           false,
           true,
           null,
           3,
           "out",
           0,
           "NA",
           878
          ],
          [
           false,
           true,
           null,
           3,
           "out",
           0,
           "NA",
           879
          ],
          [
           false,
           true,
           null,
           3,
           "out",
           0,
           "NA",
           880
          ],
          [
           true,
           false,
           null,
           3,
           "out",
           0.7745664739884393,
           295,
           881
          ],
          [
           false,
           true,
           null,
           3,
           "out",
           0,
           "NA",
           882
          ],
          [
           true,
           false,
           null,
           3,
           "out",
           0.8977272727272727,
           296,
           883
          ],
          [
           true,
           false,
           null,
           3,
           "out",
           0.8851351351351351,
           297,
           884
          ],
          [
           false,
           true,
           null,
           3,
           "out",
           0,
           "NA",
           885
          ],
          [
           false,
           true,
           null,
           3,
           "out",
           0,
           "NA",
           886
          ],
          [
           true,
           false,
           null,
           3,
           "out",
           1,
           298,
           887
          ],
          [
           false,
           true,
           null,
           3,
           "out",
           0,
           "NA",
           888
          ],
          [
           false,
           true,
           null,
           3,
           "out",
           0,
           "NA",
           889
          ],
          [
           false,
           true,
           null,
           3,
           "out",
           0,
           "NA",
           890
          ],
          [
           false,
           true,
           null,
           3,
           "out",
           0,
           "NA",
           891
          ],
          [
           false,
           true,
           null,
           3,
           "out",
           0,
           "NA",
           892
          ],
          [
           false,
           true,
           null,
           3,
           "out",
           0,
           "NA",
           893
          ],
          [
           false,
           true,
           null,
           3,
           "out",
           0,
           "NA",
           894
          ],
          [
           false,
           true,
           null,
           3,
           "out",
           0,
           "NA",
           895
          ],
          [
           false,
           true,
           null,
           3,
           "out",
           0,
           "NA",
           896
          ],
          [
           false,
           true,
           null,
           3,
           "out",
           0,
           "NA",
           897
          ],
          [
           false,
           true,
           null,
           3,
           "out",
           0,
           "NA",
           898
          ],
          [
           false,
           true,
           null,
           3,
           "out",
           0,
           "NA",
           899
          ],
          [
           false,
           true,
           null,
           3,
           "out",
           0,
           "NA",
           900
          ],
          [
           false,
           true,
           null,
           3,
           "out",
           0,
           "NA",
           901
          ],
          [
           false,
           true,
           null,
           3,
           "out",
           0,
           "NA",
           902
          ],
          [
           false,
           true,
           null,
           3,
           "out",
           0,
           "NA",
           903
          ],
          [
           false,
           true,
           null,
           3,
           "out",
           0,
           "NA",
           904
          ],
          [
           false,
           true,
           null,
           3,
           "out",
           0,
           "NA",
           905
          ],
          [
           false,
           true,
           null,
           3,
           "out",
           0,
           "NA",
           906
          ],
          [
           false,
           true,
           null,
           3,
           "out",
           0,
           "NA",
           907
          ],
          [
           false,
           true,
           null,
           3,
           "out",
           0,
           "NA",
           908
          ],
          [
           false,
           true,
           null,
           3,
           "out",
           0,
           "NA",
           909
          ],
          [
           false,
           true,
           null,
           3,
           "out",
           0,
           "NA",
           910
          ],
          [
           true,
           false,
           null,
           3,
           "out",
           0.40828402366863903,
           299,
           911
          ],
          [
           true,
           false,
           null,
           3,
           "out",
           0.8982035928143712,
           300,
           912
          ],
          [
           false,
           true,
           null,
           3,
           "out",
           0,
           "NA",
           913
          ],
          [
           false,
           true,
           null,
           3,
           "out",
           0,
           "NA",
           914
          ],
          [
           false,
           true,
           null,
           3,
           "out",
           0,
           "NA",
           915
          ],
          [
           false,
           true,
           null,
           3,
           "out",
           0,
           "NA",
           916
          ],
          [
           true,
           false,
           null,
           3,
           "out",
           0.8322981366459627,
           301,
           917
          ],
          [
           true,
           false,
           null,
           3,
           "out",
           0.9726027397260274,
           302,
           918
          ],
          [
           false,
           true,
           null,
           3,
           "out",
           0,
           "NA",
           919
          ],
          [
           false,
           true,
           null,
           3,
           "out",
           0,
           "NA",
           920
          ],
          [
           false,
           true,
           null,
           3,
           "out",
           0,
           "NA",
           921
          ],
          [
           false,
           true,
           null,
           3,
           "out",
           0,
           "NA",
           922
          ],
          [
           false,
           true,
           null,
           3,
           "out",
           0,
           "NA",
           923
          ],
          [
           false,
           true,
           null,
           3,
           "out",
           0,
           "NA",
           924
          ],
          [
           false,
           true,
           null,
           3,
           "out",
           0,
           "NA",
           925
          ],
          [
           false,
           true,
           null,
           3,
           "out",
           0,
           "NA",
           926
          ],
          [
           false,
           true,
           null,
           3,
           "out",
           0,
           "NA",
           927
          ],
          [
           false,
           true,
           null,
           3,
           "out",
           0,
           "NA",
           928
          ],
          [
           false,
           true,
           null,
           3,
           "out",
           0,
           "NA",
           929
          ],
          [
           false,
           true,
           null,
           3,
           "out",
           0,
           "NA",
           930
          ],
          [
           true,
           false,
           null,
           3,
           "out",
           0.9433962264150944,
           303,
           931
          ],
          [
           false,
           true,
           null,
           3,
           "out",
           0,
           "NA",
           932
          ],
          [
           false,
           true,
           null,
           3,
           "out",
           0,
           "NA",
           933
          ],
          [
           false,
           true,
           null,
           3,
           "out",
           0,
           "NA",
           934
          ],
          [
           false,
           true,
           null,
           3,
           "out",
           0,
           "NA",
           935
          ],
          [
           true,
           false,
           null,
           3,
           "out",
           0.9924242424242424,
           304,
           936
          ],
          [
           true,
           false,
           null,
           3,
           "out",
           0.9554140127388535,
           305,
           937
          ],
          [
           false,
           true,
           null,
           3,
           "out",
           0,
           "NA",
           938
          ],
          [
           false,
           true,
           null,
           3,
           "out",
           0,
           "NA",
           939
          ],
          [
           false,
           true,
           null,
           3,
           "out",
           0,
           "NA",
           940
          ],
          [
           false,
           true,
           null,
           3,
           "out",
           0,
           "NA",
           941
          ],
          [
           false,
           true,
           null,
           3,
           "out",
           0,
           "NA",
           942
          ],
          [
           false,
           true,
           null,
           3,
           "out",
           0,
           "NA",
           943
          ],
          [
           false,
           true,
           null,
           3,
           "out",
           0,
           "NA",
           944
          ],
          [
           false,
           true,
           null,
           3,
           "out",
           0,
           "NA",
           945
          ],
          [
           false,
           true,
           null,
           3,
           "out",
           0,
           "NA",
           946
          ],
          [
           false,
           true,
           null,
           3,
           "out",
           0,
           "NA",
           947
          ],
          [
           false,
           true,
           null,
           3,
           "out",
           0,
           "NA",
           948
          ],
          [
           false,
           true,
           null,
           3,
           "out",
           0,
           "NA",
           949
          ],
          [
           false,
           true,
           null,
           3,
           "out",
           0,
           "NA",
           950
          ],
          [
           false,
           true,
           null,
           3,
           "out",
           0,
           "NA",
           951
          ],
          [
           true,
           false,
           null,
           3,
           "out",
           0.7974683544303798,
           306,
           952
          ],
          [
           false,
           true,
           null,
           3,
           "out",
           0,
           "NA",
           953
          ],
          [
           true,
           false,
           null,
           3,
           "out",
           0.7086614173228346,
           307,
           954
          ]
         ],
         "hovertemplate": "iou=%{marker.color:.4f}<br>indexGT=%{customdata[6]}<br>indexOut=%{customdata[7]}<extra></extra>",
         "legendgroup": "out",
         "marker": {
          "color": [
           0,
           0,
           0.7407407407407407,
           0,
           0.7815126050420168,
           0,
           0.8028169014084507,
           0,
           0.5,
           0.8518518518518519,
           0,
           0,
           0,
           0,
           0,
           0,
           0.9397590361445783,
           0,
           0.9883040935672515,
           0,
           0,
           0,
           0.8280254777070064,
           0,
           0,
           0,
           0.7164179104477612,
           0.9066666666666666,
           0.46475195822454307,
           0,
           0.5189504373177842,
           0,
           0.4927007299270073,
           0.9191919191919192,
           0,
           0,
           0,
           0.8375,
           0,
           0.7621621621621621,
           0.9747474747474747,
           0,
           0,
           0,
           0,
           0,
           0,
           0.7511737089201878,
           0,
           0.9487179487179487,
           0.989010989010989,
           0,
           0.8442028985507246,
           0,
           0,
           0,
           0,
           0.7892156862745098,
           0,
           0,
           0,
           0,
           0.7564102564102564,
           0.6090534979423868,
           0,
           0,
           0,
           0,
           0,
           0,
           0.805,
           0.9657142857142857,
           0.7914691943127962,
           0,
           0,
           0.9440559440559441,
           0,
           0,
           0,
           0,
           0.8549222797927462,
           0.8424657534246576,
           0,
           0,
           0,
           0,
           0,
           0.9512195121951219,
           0.8402061855670103,
           0.8571428571428571,
           0,
           0,
           0.9047619047619048,
           0,
           0,
           0,
           0,
           0.7358490566037735,
           0,
           0,
           0,
           0,
           0,
           0.7580645161290323,
           0,
           0.7961165048543689,
           0.848314606741573,
           0,
           0,
           0,
           0,
           0,
           0,
           0.8848920863309353,
           0,
           0.5985401459854015,
           0.6566265060240963,
           0,
           0.8391608391608392,
           0,
           0,
           0,
           0,
           0,
           0,
           0,
           0,
           0.7202380952380952,
           0,
           0,
           0.7513812154696132,
           0,
           0,
           0,
           0,
           0,
           0.7540983606557377,
           0,
           0,
           0,
           0.7076271186440678,
           0,
           1,
           0.8493975903614458,
           0.6327433628318584,
           0.7976190476190477,
           0.9779411764705882,
           0.9285714285714286,
           0.8571428571428571,
           0,
           0.9068627450980392,
           0.9602649006622517,
           0,
           0.7947019867549668,
           0,
           0,
           0.6080402010050251,
           0.9695121951219512,
           0,
           0.9274193548387096,
           0.9612403100775194,
           0.8364779874213837,
           0,
           0,
           0,
           0.7484276729559748,
           0.9380530973451328,
           0,
           0.9935897435897436,
           0,
           0.7185185185185186,
           0,
           0.8421052631578947,
           0.7673267326732673,
           0,
           0,
           0.8994082840236687,
           0,
           0,
           0,
           0,
           0,
           0.860655737704918,
           0.9402173913043478,
           0,
           0,
           0.958904109589041,
           0.7847222222222222,
           0,
           0.6009615384615384,
           0.9596774193548387,
           0.9140625,
           0,
           0,
           0,
           0.9689119170984456,
           0.8421052631578947,
           0,
           0,
           0,
           0,
           0,
           0,
           0,
           0,
           0.8700787401574803,
           0,
           0.8738317757009346,
           0.9518072289156626,
           0.8524590163934426,
           0.9214659685863874,
           0,
           0.987012987012987,
           0,
           0.8258928571428571,
           0,
           0,
           0,
           0,
           0,
           0,
           0,
           1,
           0,
           0,
           0,
           0.9116022099447514,
           0.916256157635468,
           0,
           0,
           0.75625,
           0.9290780141843972,
           0,
           0,
           0,
           0.8113207547169812,
           0,
           0,
           0,
           0,
           0,
           0.9779411764705882,
           0,
           0,
           0,
           0,
           0.9560439560439561,
           0,
           0.9226519337016574,
           0,
           0.9096385542168675,
           0,
           0,
           0,
           0,
           0,
           0.9024390243902439,
           0.9387755102040817,
           0.9285714285714286,
           0.9830508474576272,
           0,
           0,
           0,
           0,
           0,
           0,
           0,
           0.9454545454545454,
           0.9421487603305785,
           0,
           0,
           0,
           0.9615384615384616,
           0,
           0,
           0,
           0,
           0,
           0.8963414634146342,
           0,
           0,
           0,
           0.873015873015873,
           0,
           0,
           0.9754098360655737,
           0,
           0,
           0.9897959183673469,
           0,
           0.7003058103975535,
           0,
           0.9692307692307692,
           0.9640287769784173,
           0,
           0.9924242424242424,
           0,
           0,
           0.659217877094972,
           0.7844311377245509,
           0,
           0,
           0,
           0,
           0,
           0.6991150442477876,
           0,
           0.9411764705882353,
           0,
           0,
           0.808641975308642,
           0,
           0,
           0,
           0.9672131147540983,
           0,
           0,
           0.8982035928143712,
           0.9424083769633508,
           0,
           0.8552631578947368,
           0,
           0,
           0,
           0,
           0,
           0.87248322147651,
           0.8928571428571429,
           0.9195979899497487,
           0.9186602870813397,
           0,
           0.9933333333333333,
           0.9338235294117647,
           0.8698630136986302,
           0,
           0,
           0.8833333333333333,
           0,
           1,
           0,
           0.9720670391061452,
           0,
           0,
           0,
           0,
           0,
           0,
           0,
           0.9700598802395209,
           0,
           0,
           0,
           0.8807692307692307,
           0.7547169811320755,
           0,
           0.9606299212598425,
           0.9583333333333334,
           0,
           0,
           0.967741935483871,
           0,
           0,
           0,
           0,
           0,
           0,
           0,
           0,
           0.8770949720670391,
           0,
           0,
           0,
           0,
           0,
           0,
           0,
           0.9259259259259259,
           0,
           0.9036144578313253,
           0,
           0,
           0,
           0.7821229050279329,
           0,
           0,
           0,
           0,
           0,
           0,
           0,
           0.5686274509803921,
           0.848314606741573,
           0.9098360655737705,
           0.8357142857142857,
           0,
           0,
           0,
           0,
           0.7204301075268817,
           0.9482758620689655,
           0,
           0,
           0,
           0,
           0,
           0,
           0.9937888198757764,
           0.7575757575757576,
           0,
           0,
           0,
           0.9673202614379085,
           0,
           0,
           0.872093023255814,
           0,
           0,
           0,
           0,
           0,
           0.9097222222222222,
           0.9296482412060302,
           0,
           0,
           0,
           0.9695431472081218,
           0,
           0,
           0.8899082568807339,
           0.9585798816568047,
           0,
           0,
           0.8951310861423221,
           0,
           0,
           0,
           0,
           0,
           0.912568306010929,
           0.9407894736842105,
           0,
           0,
           0,
           0,
           0.9212121212121213,
           0,
           0,
           0.9398496240601504,
           0,
           0,
           0,
           0,
           0.7513513513513513,
           0,
           0,
           0,
           1,
           0.8591549295774648,
           0.847457627118644,
           0.9243243243243243,
           0.7446808510638298,
           0,
           0.9789473684210527,
           0,
           0,
           0.9840425531914894,
           1,
           0.6060606060606061,
           0,
           0.943089430894309,
           0,
           0.864406779661017,
           0.9512195121951219,
           0.944,
           0,
           0,
           0,
           0,
           0,
           0,
           0,
           0.9247787610619469,
           0.7663551401869159,
           0,
           0,
           0,
           0,
           0,
           0,
           0.9172413793103448,
           0,
           0,
           0.9534883720930233,
           0.7922077922077922,
           0.8581081081081081,
           0,
           0.7611464968152867,
           0.8133333333333334,
           0,
           0,
           0,
           0.8316151202749141,
           0,
           0.96,
           0,
           0,
           0,
           0,
           0,
           0,
           0,
           0,
           0,
           0.9556962025316456,
           0.926829268292683,
           0.8829787234042553,
           0.810126582278481,
           0.925,
           0.8410596026490066,
           0,
           0,
           0,
           0,
           0,
           0,
           0.6245847176079734,
           0.8784530386740331,
           0,
           0,
           0.8317307692307693,
           0,
           0,
           0.9651162790697675,
           0,
           0,
           0,
           0.7409638554216867,
           0,
           0.9649122807017544,
           0.5346938775510204,
           0,
           0,
           0.8390243902439024,
           0,
           0,
           0.9162303664921466,
           0,
           0,
           0,
           0,
           0,
           0.9254658385093167,
           0,
           0,
           0,
           0.993421052631579,
           0,
           0.9927536231884058,
           0,
           0.967032967032967,
           0,
           0,
           0,
           0,
           0,
           0.9398907103825137,
           0.9948979591836735,
           0.9819277108433735,
           0,
           0,
           0.7368421052631579,
           0.9050632911392406,
           0,
           0,
           0.9485294117647058,
           0,
           0,
           0.9574468085106383,
           0.9817518248175182,
           0.8955223880597015,
           0,
           0,
           0,
           0.9526315789473684,
           0,
           0,
           0.9380952380952381,
           0,
           0,
           0,
           0,
           0,
           0,
           0,
           0,
           0,
           0,
           0,
           0.896969696969697,
           0.9765258215962441,
           0.9213483146067416,
           0,
           0,
           0,
           0.9545454545454546,
           0,
           0,
           0,
           0,
           0.3801452784503632,
           0,
           0.9421052631578948,
           0.8435754189944135,
           0,
           0,
           0,
           0.6681614349775785,
           0.9881889763779528,
           0,
           0,
           0,
           0,
           0.9245283018867925,
           0,
           0.8676470588235294,
           0,
           0,
           0.9222222222222223,
           0,
           0.8811881188118812,
           0,
           0,
           0.9197080291970803,
           0,
           0,
           0.7303921568627451,
           0,
           0,
           0,
           0,
           0,
           0,
           0,
           0,
           0.8859060402684564,
           0,
           0.9594594594594594,
           0,
           0,
           0,
           0,
           0,
           0.8895705521472392,
           0,
           0,
           0,
           0,
           0,
           0,
           1,
           0,
           0,
           0,
           0,
           0,
           0,
           0,
           0.806930693069307,
           0,
           0,
           0,
           0.8333333333333334,
           0,
           0,
           0,
           0,
           0,
           0,
           0,
           0,
           0,
           0,
           0,
           0.8990384615384616,
           0.9924812030075187,
           0.45977011494252873,
           0.867579908675799,
           0,
           0.847457627118644,
           0.951048951048951,
           0,
           0,
           0.8571428571428571,
           0,
           0,
           0,
           0,
           0,
           0,
           0,
           0,
           0,
           0,
           0.835016835016835,
           0.9378531073446328,
           0.7388059701492538,
           0,
           0,
           0,
           0,
           0.9502487562189055,
           0,
           0.972972972972973,
           0.7792207792207793,
           0.9821428571428571,
           0.85,
           0.9880239520958084,
           0,
           0.9434782608695652,
           0,
           1,
           0.8622754491017964,
           0,
           0,
           0,
           0,
           0,
           0,
           0,
           0,
           0,
           0,
           0,
           0.7567567567567568,
           0,
           0,
           0,
           0.9343434343434344,
           0.9419354838709677,
           0.8805031446540881,
           0.8493150684931506,
           0,
           0.9431818181818182,
           0.8833333333333333,
           0.9505703422053232,
           0,
           0,
           0.965034965034965,
           0,
           0.8036529680365296,
           0.9815668202764977,
           0,
           0,
           0,
           0.8208955223880597,
           0,
           0,
           0,
           0.9375,
           0,
           0,
           0,
           0,
           0,
           0.8546511627906976,
           0,
           0,
           0,
           0,
           0,
           0,
           0,
           0,
           0,
           0.948051948051948,
           0,
           0.8857142857142857,
           0.9811320754716981,
           0,
           0,
           0,
           0,
           0,
           0.8864864864864865,
           0,
           0,
           0,
           0.6113989637305699,
           0,
           0.9279279279279279,
           0.9744897959183674,
           0,
           0,
           0,
           0,
           0,
           0.9067357512953368,
           0.9705882352941176,
           0,
           0.7538461538461538,
           0,
           0.9154228855721394,
           0,
           0,
           0,
           0,
           0.9302325581395349,
           0.7142857142857143,
           0,
           0,
           0,
           0,
           0.8311111111111111,
           0,
           0,
           0,
           0,
           0,
           0,
           0,
           0,
           0,
           0.7666666666666667,
           0,
           0,
           0,
           0,
           0,
           0.9135135135135135,
           0,
           0,
           0.9527027027027027,
           0,
           0.9217877094972067,
           0.8235294117647058,
           0.8164556962025317,
           0,
           0,
           0,
           0,
           0,
           0,
           0,
           0.9647058823529412,
           0.89375,
           0,
           0,
           0,
           0,
           0,
           0,
           0.7935483870967742,
           0.9044117647058824,
           0.8802083333333334,
           0,
           0.8461538461538461,
           0.9347826086956522,
           0,
           0,
           0,
           0.5291005291005291,
           0,
           0,
           0,
           0,
           0,
           0,
           0,
           0,
           0,
           0,
           0,
           0,
           0,
           0,
           0,
           0,
           0,
           0,
           0,
           0,
           0.7745664739884393,
           0,
           0.8977272727272727,
           0.8851351351351351,
           0,
           0,
           1,
           0,
           0,
           0,
           0,
           0,
           0,
           0,
           0,
           0,
           0,
           0,
           0,
           0,
           0,
           0,
           0,
           0,
           0,
           0,
           0,
           0,
           0,
           0,
           0.40828402366863903,
           0.8982035928143712,
           0,
           0,
           0,
           0,
           0.8322981366459627,
           0.9726027397260274,
           0,
           0,
           0,
           0,
           0,
           0,
           0,
           0,
           0,
           0,
           0,
           0,
           0.9433962264150944,
           0,
           0,
           0,
           0,
           0.9924242424242424,
           0.9554140127388535,
           0,
           0,
           0,
           0,
           0,
           0,
           0,
           0,
           0,
           0,
           0,
           0,
           0,
           0,
           0.7974683544303798,
           0,
           0.7086614173228346
          ],
          "coloraxis": "coloraxis",
          "line": {
           "width": 2
          },
          "opacity": 0.8,
          "size": [
           3,
           3,
           3,
           3,
           3,
           3,
           3,
           3,
           3,
           3,
           3,
           3,
           3,
           3,
           3,
           3,
           3,
           3,
           3,
           3,
           3,
           3,
           3,
           3,
           3,
           3,
           3,
           3,
           3,
           3,
           3,
           3,
           3,
           3,
           3,
           3,
           3,
           3,
           3,
           3,
           3,
           3,
           3,
           3,
           3,
           3,
           3,
           3,
           3,
           3,
           3,
           3,
           3,
           3,
           3,
           3,
           3,
           3,
           3,
           3,
           3,
           3,
           3,
           3,
           3,
           3,
           3,
           3,
           3,
           3,
           3,
           3,
           3,
           3,
           3,
           3,
           3,
           3,
           3,
           3,
           3,
           3,
           3,
           3,
           3,
           3,
           3,
           3,
           3,
           3,
           3,
           3,
           3,
           3,
           3,
           3,
           3,
           3,
           3,
           3,
           3,
           3,
           3,
           3,
           3,
           3,
           3,
           3,
           3,
           3,
           3,
           3,
           3,
           3,
           3,
           3,
           3,
           3,
           3,
           3,
           3,
           3,
           3,
           3,
           3,
           3,
           3,
           3,
           3,
           3,
           3,
           3,
           3,
           3,
           3,
           3,
           3,
           3,
           3,
           3,
           3,
           3,
           3,
           3,
           3,
           3,
           3,
           3,
           3,
           3,
           3,
           3,
           3,
           3,
           3,
           3,
           3,
           3,
           3,
           3,
           3,
           3,
           3,
           3,
           3,
           3,
           3,
           3,
           3,
           3,
           3,
           3,
           3,
           3,
           3,
           3,
           3,
           3,
           3,
           3,
           3,
           3,
           3,
           3,
           3,
           3,
           3,
           3,
           3,
           3,
           3,
           3,
           3,
           3,
           3,
           3,
           3,
           3,
           3,
           3,
           3,
           3,
           3,
           3,
           3,
           3,
           3,
           3,
           3,
           3,
           3,
           3,
           3,
           3,
           3,
           3,
           3,
           3,
           3,
           3,
           3,
           3,
           3,
           3,
           3,
           3,
           3,
           3,
           3,
           3,
           3,
           3,
           3,
           3,
           3,
           3,
           3,
           3,
           3,
           3,
           3,
           3,
           3,
           3,
           3,
           3,
           3,
           3,
           3,
           3,
           3,
           3,
           3,
           3,
           3,
           3,
           3,
           3,
           3,
           3,
           3,
           3,
           3,
           3,
           3,
           3,
           3,
           3,
           3,
           3,
           3,
           3,
           3,
           3,
           3,
           3,
           3,
           3,
           3,
           3,
           3,
           3,
           3,
           3,
           3,
           3,
           3,
           3,
           3,
           3,
           3,
           3,
           3,
           3,
           3,
           3,
           3,
           3,
           3,
           3,
           3,
           3,
           3,
           3,
           3,
           3,
           3,
           3,
           3,
           3,
           3,
           3,
           3,
           3,
           3,
           3,
           3,
           3,
           3,
           3,
           3,
           3,
           3,
           3,
           3,
           3,
           3,
           3,
           3,
           3,
           3,
           3,
           3,
           3,
           3,
           3,
           3,
           3,
           3,
           3,
           3,
           3,
           3,
           3,
           3,
           3,
           3,
           3,
           3,
           3,
           3,
           3,
           3,
           3,
           3,
           3,
           3,
           3,
           3,
           3,
           3,
           3,
           3,
           3,
           3,
           3,
           3,
           3,
           3,
           3,
           3,
           3,
           3,
           3,
           3,
           3,
           3,
           3,
           3,
           3,
           3,
           3,
           3,
           3,
           3,
           3,
           3,
           3,
           3,
           3,
           3,
           3,
           3,
           3,
           3,
           3,
           3,
           3,
           3,
           3,
           3,
           3,
           3,
           3,
           3,
           3,
           3,
           3,
           3,
           3,
           3,
           3,
           3,
           3,
           3,
           3,
           3,
           3,
           3,
           3,
           3,
           3,
           3,
           3,
           3,
           3,
           3,
           3,
           3,
           3,
           3,
           3,
           3,
           3,
           3,
           3,
           3,
           3,
           3,
           3,
           3,
           3,
           3,
           3,
           3,
           3,
           3,
           3,
           3,
           3,
           3,
           3,
           3,
           3,
           3,
           3,
           3,
           3,
           3,
           3,
           3,
           3,
           3,
           3,
           3,
           3,
           3,
           3,
           3,
           3,
           3,
           3,
           3,
           3,
           3,
           3,
           3,
           3,
           3,
           3,
           3,
           3,
           3,
           3,
           3,
           3,
           3,
           3,
           3,
           3,
           3,
           3,
           3,
           3,
           3,
           3,
           3,
           3,
           3,
           3,
           3,
           3,
           3,
           3,
           3,
           3,
           3,
           3,
           3,
           3,
           3,
           3,
           3,
           3,
           3,
           3,
           3,
           3,
           3,
           3,
           3,
           3,
           3,
           3,
           3,
           3,
           3,
           3,
           3,
           3,
           3,
           3,
           3,
           3,
           3,
           3,
           3,
           3,
           3,
           3,
           3,
           3,
           3,
           3,
           3,
           3,
           3,
           3,
           3,
           3,
           3,
           3,
           3,
           3,
           3,
           3,
           3,
           3,
           3,
           3,
           3,
           3,
           3,
           3,
           3,
           3,
           3,
           3,
           3,
           3,
           3,
           3,
           3,
           3,
           3,
           3,
           3,
           3,
           3,
           3,
           3,
           3,
           3,
           3,
           3,
           3,
           3,
           3,
           3,
           3,
           3,
           3,
           3,
           3,
           3,
           3,
           3,
           3,
           3,
           3,
           3,
           3,
           3,
           3,
           3,
           3,
           3,
           3,
           3,
           3,
           3,
           3,
           3,
           3,
           3,
           3,
           3,
           3,
           3,
           3,
           3,
           3,
           3,
           3,
           3,
           3,
           3,
           3,
           3,
           3,
           3,
           3,
           3,
           3,
           3,
           3,
           3,
           3,
           3,
           3,
           3,
           3,
           3,
           3,
           3,
           3,
           3,
           3,
           3,
           3,
           3,
           3,
           3,
           3,
           3,
           3,
           3,
           3,
           3,
           3,
           3,
           3,
           3,
           3,
           3,
           3,
           3,
           3,
           3,
           3,
           3,
           3,
           3,
           3,
           3,
           3,
           3,
           3,
           3,
           3,
           3,
           3,
           3,
           3,
           3,
           3,
           3,
           3,
           3,
           3,
           3,
           3,
           3,
           3,
           3,
           3,
           3,
           3,
           3,
           3,
           3,
           3,
           3,
           3,
           3,
           3,
           3,
           3,
           3,
           3,
           3,
           3,
           3,
           3,
           3,
           3,
           3,
           3,
           3,
           3,
           3,
           3,
           3,
           3,
           3,
           3,
           3,
           3,
           3,
           3,
           3,
           3,
           3,
           3,
           3,
           3,
           3,
           3,
           3,
           3,
           3,
           3,
           3,
           3,
           3,
           3,
           3,
           3,
           3,
           3,
           3,
           3,
           3,
           3,
           3,
           3,
           3,
           3,
           3,
           3,
           3,
           3,
           3,
           3,
           3,
           3,
           3,
           3,
           3,
           3,
           3,
           3,
           3,
           3,
           3,
           3,
           3,
           3,
           3,
           3,
           3,
           3,
           3,
           3,
           3,
           3,
           3,
           3,
           3,
           3,
           3,
           3,
           3,
           3,
           3,
           3,
           3,
           3,
           3,
           3,
           3,
           3,
           3,
           3,
           3,
           3,
           3,
           3,
           3,
           3,
           3,
           3,
           3,
           3,
           3,
           3,
           3,
           3,
           3,
           3,
           3,
           3,
           3,
           3,
           3,
           3,
           3,
           3,
           3,
           3,
           3,
           3,
           3,
           3,
           3,
           3,
           3,
           3,
           3,
           3,
           3,
           3,
           3,
           3,
           3,
           3,
           3,
           3,
           3,
           3,
           3,
           3,
           3,
           3,
           3,
           3,
           3,
           3,
           3,
           3,
           3,
           3,
           3,
           3,
           3,
           3,
           3,
           3,
           3,
           3,
           3,
           3,
           3,
           3,
           3,
           3,
           3,
           3,
           3,
           3,
           3,
           3,
           3,
           3,
           3,
           3,
           3,
           3,
           3,
           3,
           3,
           3,
           3,
           3,
           3,
           3,
           3,
           3,
           3,
           3,
           3,
           3,
           3,
           3,
           3,
           3,
           3,
           3,
           3,
           3,
           3,
           3,
           3,
           3,
           3,
           3,
           3,
           3,
           3,
           3,
           3,
           3,
           3,
           3,
           3,
           3,
           3,
           3,
           3,
           3,
           3,
           3,
           3,
           3,
           3,
           3,
           3,
           3,
           3,
           3,
           3,
           3,
           3,
           3,
           3,
           3,
           3,
           3,
           3,
           3,
           3,
           3,
           3,
           3,
           3
          ],
          "sizemode": "area",
          "sizeref": 0.0075,
          "symbol": "circle-open"
         },
         "mode": "markers",
         "name": "out",
         "showlegend": true,
         "type": "scattergl",
         "x": [
          -10,
          -10,
          0,
          -10,
          1,
          -10,
          2,
          -10,
          3,
          4,
          -10,
          -10,
          -10,
          -10,
          -10,
          -10,
          5,
          -10,
          6,
          -10,
          -10,
          -10,
          7,
          -10,
          -10,
          -10,
          8,
          9,
          10,
          -10,
          11,
          -10,
          12,
          13,
          -10,
          -10,
          -10,
          14,
          -10,
          15,
          16,
          -10,
          -10,
          -10,
          -10,
          -10,
          -10,
          17,
          -10,
          18,
          19,
          -10,
          20,
          -10,
          -10,
          -10,
          -10,
          21,
          -10,
          -10,
          -10,
          -10,
          22,
          23,
          -10,
          -10,
          -10,
          -10,
          -10,
          -10,
          24,
          25,
          26,
          -10,
          -10,
          27,
          -10,
          -10,
          -10,
          -10,
          28,
          29,
          -10,
          -10,
          -10,
          -10,
          -10,
          30,
          31,
          32,
          -10,
          -10,
          33,
          -10,
          -10,
          -10,
          -10,
          34,
          -10,
          -10,
          -10,
          -10,
          -10,
          35,
          -10,
          36,
          37,
          -10,
          -10,
          -10,
          -10,
          -10,
          -10,
          38,
          -10,
          39,
          40,
          -10,
          41,
          -10,
          -10,
          -10,
          -10,
          -10,
          -10,
          -10,
          -10,
          42,
          -10,
          -10,
          43,
          -10,
          -10,
          -10,
          -10,
          -10,
          44,
          -10,
          -10,
          -10,
          45,
          -10,
          46,
          47,
          48,
          49,
          50,
          51,
          52,
          -10,
          53,
          54,
          -10,
          55,
          -10,
          -10,
          56,
          57,
          -10,
          58,
          59,
          61,
          -10,
          -10,
          -10,
          62,
          63,
          -10,
          64,
          -10,
          65,
          -10,
          66,
          67,
          -10,
          -10,
          68,
          -10,
          -10,
          -10,
          -10,
          -10,
          69,
          70,
          -10,
          -10,
          71,
          72,
          -10,
          73,
          74,
          75,
          -10,
          -10,
          -10,
          76,
          77,
          -10,
          -10,
          -10,
          -10,
          -10,
          -10,
          -10,
          -10,
          78,
          -10,
          79,
          80,
          81,
          82,
          -10,
          83,
          -10,
          84,
          -10,
          -10,
          -10,
          -10,
          -10,
          -10,
          -10,
          85,
          -10,
          -10,
          -10,
          86,
          87,
          -10,
          -10,
          88,
          89,
          -10,
          -10,
          -10,
          90,
          -10,
          -10,
          -10,
          -10,
          -10,
          91,
          -10,
          -10,
          -10,
          -10,
          92,
          -10,
          93,
          -10,
          94,
          -10,
          -10,
          -10,
          -10,
          -10,
          95,
          96,
          97,
          98,
          -10,
          -10,
          -10,
          -10,
          -10,
          -10,
          -10,
          99,
          100,
          -10,
          -10,
          -10,
          101,
          -10,
          -10,
          -10,
          -10,
          -10,
          102,
          -10,
          -10,
          -10,
          103,
          -10,
          -10,
          104,
          -10,
          -10,
          105,
          -10,
          106,
          -10,
          107,
          108,
          -10,
          109,
          -10,
          -10,
          110,
          111,
          -10,
          -10,
          -10,
          -10,
          -10,
          112,
          -10,
          113,
          -10,
          -10,
          114,
          -10,
          -10,
          -10,
          115,
          -10,
          -10,
          116,
          117,
          -10,
          118,
          -10,
          -10,
          -10,
          -10,
          -10,
          119,
          120,
          121,
          122,
          -10,
          123,
          124,
          125,
          -10,
          -10,
          126,
          -10,
          127,
          -10,
          128,
          -10,
          -10,
          -10,
          -10,
          -10,
          -10,
          -10,
          129,
          -10,
          -10,
          -10,
          130,
          131,
          -10,
          132,
          133,
          -10,
          -10,
          134,
          -10,
          -10,
          -10,
          -10,
          -10,
          -10,
          -10,
          -10,
          135,
          -10,
          -10,
          -10,
          -10,
          -10,
          -10,
          -10,
          136,
          -10,
          137,
          -10,
          -10,
          -10,
          138,
          -10,
          -10,
          -10,
          -10,
          -10,
          -10,
          -10,
          139,
          140,
          141,
          142,
          -10,
          -10,
          -10,
          -10,
          143,
          144,
          -10,
          -10,
          -10,
          -10,
          -10,
          -10,
          145,
          146,
          -10,
          -10,
          -10,
          147,
          -10,
          -10,
          148,
          -10,
          -10,
          -10,
          -10,
          -10,
          149,
          150,
          -10,
          -10,
          -10,
          151,
          -10,
          -10,
          152,
          153,
          -10,
          -10,
          154,
          -10,
          -10,
          -10,
          -10,
          -10,
          155,
          156,
          -10,
          -10,
          -10,
          -10,
          157,
          -10,
          -10,
          158,
          -10,
          -10,
          -10,
          -10,
          159,
          -10,
          -10,
          -10,
          160,
          161,
          162,
          163,
          164,
          -10,
          165,
          -10,
          -10,
          166,
          167,
          168,
          -10,
          169,
          -10,
          170,
          171,
          172,
          -10,
          -10,
          -10,
          -10,
          -10,
          -10,
          -10,
          173,
          174,
          -10,
          -10,
          -10,
          -10,
          -10,
          -10,
          175,
          -10,
          -10,
          176,
          177,
          178,
          -10,
          179,
          180,
          -10,
          -10,
          -10,
          181,
          -10,
          182,
          -10,
          -10,
          -10,
          -10,
          -10,
          -10,
          -10,
          -10,
          -10,
          183,
          184,
          185,
          186,
          187,
          188,
          -10,
          -10,
          -10,
          -10,
          -10,
          -10,
          189,
          190,
          -10,
          -10,
          191,
          -10,
          -10,
          192,
          -10,
          -10,
          -10,
          193,
          -10,
          194,
          195,
          -10,
          -10,
          196,
          -10,
          -10,
          197,
          -10,
          -10,
          -10,
          -10,
          -10,
          198,
          -10,
          -10,
          -10,
          199,
          -10,
          200,
          -10,
          201,
          -10,
          -10,
          -10,
          -10,
          -10,
          202,
          203,
          204,
          -10,
          -10,
          205,
          206,
          -10,
          -10,
          207,
          -10,
          -10,
          208,
          209,
          210,
          -10,
          -10,
          -10,
          211,
          -10,
          -10,
          212,
          -10,
          -10,
          -10,
          -10,
          -10,
          -10,
          -10,
          -10,
          -10,
          -10,
          -10,
          213,
          214,
          215,
          -10,
          -10,
          -10,
          216,
          -10,
          -10,
          -10,
          -10,
          217,
          -10,
          218,
          219,
          -10,
          -10,
          -10,
          220,
          221,
          -10,
          -10,
          -10,
          -10,
          222,
          -10,
          223,
          -10,
          -10,
          224,
          -10,
          225,
          -10,
          -10,
          226,
          -10,
          -10,
          227,
          -10,
          -10,
          -10,
          -10,
          -10,
          -10,
          -10,
          -10,
          228,
          -10,
          229,
          -10,
          -10,
          -10,
          -10,
          -10,
          230,
          -10,
          -10,
          -10,
          -10,
          -10,
          -10,
          231,
          -10,
          -10,
          -10,
          -10,
          -10,
          -10,
          -10,
          232,
          -10,
          -10,
          -10,
          233,
          -10,
          -10,
          -10,
          -10,
          -10,
          -10,
          -10,
          -10,
          -10,
          -10,
          -10,
          234,
          235,
          236,
          237,
          -10,
          238,
          239,
          -10,
          -10,
          240,
          -10,
          -10,
          -10,
          -10,
          -10,
          -10,
          -10,
          -10,
          -10,
          -10,
          241,
          242,
          243,
          -10,
          -10,
          -10,
          -10,
          244,
          -10,
          245,
          246,
          247,
          248,
          249,
          -10,
          250,
          -10,
          251,
          252,
          -10,
          -10,
          -10,
          -10,
          -10,
          -10,
          -10,
          -10,
          -10,
          -10,
          -10,
          253,
          -10,
          -10,
          -10,
          254,
          255,
          256,
          257,
          -10,
          258,
          259,
          260,
          -10,
          -10,
          261,
          -10,
          262,
          263,
          -10,
          -10,
          -10,
          264,
          -10,
          -10,
          -10,
          265,
          -10,
          -10,
          -10,
          -10,
          -10,
          266,
          -10,
          -10,
          -10,
          -10,
          -10,
          -10,
          -10,
          -10,
          -10,
          267,
          -10,
          268,
          269,
          -10,
          -10,
          -10,
          -10,
          -10,
          270,
          -10,
          -10,
          -10,
          271,
          -10,
          272,
          273,
          -10,
          -10,
          -10,
          -10,
          -10,
          274,
          275,
          -10,
          276,
          -10,
          277,
          -10,
          -10,
          -10,
          -10,
          278,
          279,
          -10,
          -10,
          -10,
          -10,
          280,
          -10,
          -10,
          -10,
          -10,
          -10,
          -10,
          -10,
          -10,
          -10,
          281,
          -10,
          -10,
          -10,
          -10,
          -10,
          282,
          -10,
          -10,
          283,
          -10,
          284,
          285,
          286,
          -10,
          -10,
          -10,
          -10,
          -10,
          -10,
          -10,
          287,
          288,
          -10,
          -10,
          -10,
          -10,
          -10,
          -10,
          289,
          290,
          291,
          -10,
          292,
          293,
          -10,
          -10,
          -10,
          294,
          -10,
          -10,
          -10,
          -10,
          -10,
          -10,
          -10,
          -10,
          -10,
          -10,
          -10,
          -10,
          -10,
          -10,
          -10,
          -10,
          -10,
          -10,
          -10,
          -10,
          295,
          -10,
          296,
          297,
          -10,
          -10,
          298,
          -10,
          -10,
          -10,
          -10,
          -10,
          -10,
          -10,
          -10,
          -10,
          -10,
          -10,
          -10,
          -10,
          -10,
          -10,
          -10,
          -10,
          -10,
          -10,
          -10,
          -10,
          -10,
          -10,
          299,
          300,
          -10,
          -10,
          -10,
          -10,
          301,
          302,
          -10,
          -10,
          -10,
          -10,
          -10,
          -10,
          -10,
          -10,
          -10,
          -10,
          -10,
          -10,
          303,
          -10,
          -10,
          -10,
          -10,
          304,
          305,
          -10,
          -10,
          -10,
          -10,
          -10,
          -10,
          -10,
          -10,
          -10,
          -10,
          -10,
          -10,
          -10,
          -10,
          306,
          -10,
          307
         ],
         "xaxis": "x",
         "y": [
          0,
          1,
          2,
          3,
          4,
          5,
          6,
          7,
          8,
          9,
          10,
          11,
          12,
          13,
          14,
          15,
          16,
          17,
          18,
          19,
          20,
          21,
          22,
          23,
          24,
          25,
          26,
          27,
          28,
          29,
          30,
          31,
          32,
          33,
          34,
          35,
          36,
          37,
          38,
          39,
          40,
          41,
          42,
          43,
          44,
          45,
          46,
          47,
          48,
          49,
          50,
          51,
          52,
          53,
          54,
          55,
          56,
          57,
          58,
          59,
          60,
          61,
          62,
          63,
          64,
          65,
          66,
          67,
          68,
          69,
          70,
          71,
          72,
          73,
          74,
          75,
          76,
          77,
          78,
          79,
          80,
          81,
          82,
          83,
          84,
          85,
          86,
          87,
          88,
          89,
          90,
          91,
          92,
          93,
          94,
          95,
          96,
          97,
          98,
          99,
          100,
          101,
          102,
          103,
          104,
          105,
          106,
          107,
          108,
          109,
          110,
          111,
          112,
          113,
          114,
          115,
          116,
          117,
          118,
          119,
          120,
          121,
          122,
          123,
          124,
          125,
          126,
          127,
          128,
          129,
          130,
          131,
          132,
          133,
          134,
          135,
          136,
          137,
          138,
          139,
          140,
          141,
          142,
          143,
          144,
          145,
          146,
          147,
          148,
          149,
          150,
          151,
          152,
          153,
          154,
          155,
          156,
          157,
          158,
          159,
          160,
          161,
          162,
          163,
          164,
          165,
          166,
          167,
          168,
          169,
          170,
          171,
          172,
          173,
          174,
          175,
          176,
          177,
          178,
          179,
          180,
          181,
          182,
          183,
          184,
          185,
          186,
          187,
          188,
          189,
          190,
          191,
          192,
          193,
          194,
          195,
          196,
          197,
          198,
          199,
          200,
          201,
          202,
          203,
          204,
          205,
          206,
          207,
          208,
          209,
          210,
          211,
          212,
          213,
          214,
          215,
          216,
          217,
          218,
          219,
          220,
          221,
          222,
          223,
          224,
          225,
          226,
          227,
          228,
          229,
          230,
          231,
          232,
          233,
          234,
          235,
          236,
          237,
          238,
          239,
          240,
          241,
          242,
          243,
          244,
          245,
          246,
          247,
          248,
          249,
          250,
          251,
          252,
          253,
          254,
          255,
          256,
          257,
          258,
          259,
          260,
          261,
          262,
          263,
          264,
          265,
          266,
          267,
          268,
          269,
          270,
          271,
          272,
          273,
          274,
          275,
          276,
          277,
          278,
          279,
          280,
          281,
          282,
          283,
          284,
          285,
          286,
          287,
          288,
          289,
          290,
          291,
          292,
          293,
          294,
          295,
          296,
          297,
          298,
          299,
          300,
          301,
          302,
          303,
          304,
          305,
          306,
          307,
          308,
          309,
          310,
          311,
          312,
          313,
          314,
          315,
          316,
          317,
          318,
          319,
          320,
          321,
          322,
          323,
          324,
          325,
          326,
          327,
          328,
          329,
          330,
          331,
          332,
          333,
          334,
          335,
          336,
          337,
          338,
          339,
          340,
          341,
          342,
          343,
          344,
          345,
          346,
          347,
          348,
          349,
          350,
          351,
          352,
          353,
          354,
          355,
          356,
          357,
          358,
          359,
          360,
          361,
          362,
          363,
          364,
          365,
          366,
          367,
          368,
          369,
          370,
          371,
          372,
          373,
          374,
          375,
          376,
          377,
          378,
          379,
          380,
          381,
          382,
          383,
          384,
          385,
          386,
          387,
          388,
          389,
          390,
          391,
          392,
          393,
          394,
          395,
          396,
          397,
          398,
          399,
          400,
          401,
          402,
          403,
          404,
          405,
          406,
          407,
          408,
          409,
          410,
          411,
          412,
          413,
          414,
          415,
          416,
          417,
          418,
          419,
          420,
          421,
          422,
          423,
          424,
          425,
          426,
          427,
          428,
          429,
          430,
          431,
          432,
          433,
          434,
          435,
          436,
          437,
          438,
          439,
          440,
          441,
          442,
          443,
          444,
          445,
          446,
          447,
          448,
          449,
          450,
          451,
          452,
          453,
          454,
          455,
          456,
          457,
          458,
          459,
          460,
          461,
          462,
          463,
          464,
          465,
          466,
          467,
          468,
          469,
          470,
          471,
          472,
          473,
          474,
          475,
          476,
          477,
          478,
          479,
          480,
          481,
          482,
          483,
          484,
          485,
          486,
          487,
          488,
          489,
          490,
          491,
          492,
          493,
          494,
          495,
          496,
          497,
          498,
          499,
          500,
          501,
          502,
          503,
          504,
          505,
          506,
          507,
          508,
          509,
          510,
          511,
          512,
          513,
          514,
          515,
          516,
          517,
          518,
          519,
          520,
          521,
          522,
          523,
          524,
          525,
          526,
          527,
          528,
          529,
          530,
          531,
          532,
          533,
          534,
          535,
          536,
          537,
          538,
          539,
          540,
          541,
          542,
          543,
          544,
          545,
          546,
          547,
          548,
          549,
          550,
          551,
          552,
          553,
          554,
          555,
          556,
          557,
          558,
          559,
          560,
          561,
          562,
          563,
          564,
          565,
          566,
          567,
          568,
          569,
          570,
          571,
          572,
          573,
          574,
          575,
          576,
          577,
          578,
          579,
          580,
          581,
          582,
          583,
          584,
          585,
          586,
          587,
          588,
          589,
          590,
          591,
          592,
          593,
          594,
          595,
          596,
          597,
          598,
          599,
          600,
          601,
          602,
          603,
          604,
          605,
          606,
          607,
          608,
          609,
          610,
          611,
          612,
          613,
          614,
          615,
          616,
          617,
          618,
          619,
          620,
          621,
          622,
          623,
          624,
          625,
          626,
          627,
          628,
          629,
          630,
          631,
          632,
          633,
          634,
          635,
          636,
          637,
          638,
          639,
          640,
          641,
          642,
          643,
          644,
          645,
          646,
          647,
          648,
          649,
          650,
          651,
          652,
          653,
          654,
          655,
          656,
          657,
          658,
          659,
          660,
          661,
          662,
          663,
          664,
          665,
          666,
          667,
          668,
          669,
          670,
          671,
          672,
          673,
          674,
          675,
          676,
          677,
          678,
          679,
          680,
          681,
          682,
          683,
          684,
          685,
          686,
          687,
          688,
          689,
          690,
          691,
          692,
          693,
          694,
          695,
          696,
          697,
          698,
          699,
          700,
          701,
          702,
          703,
          704,
          705,
          706,
          707,
          708,
          709,
          710,
          711,
          712,
          713,
          714,
          715,
          716,
          717,
          718,
          719,
          720,
          721,
          722,
          723,
          724,
          725,
          726,
          727,
          728,
          729,
          730,
          731,
          732,
          733,
          734,
          735,
          736,
          737,
          738,
          739,
          740,
          741,
          742,
          743,
          744,
          745,
          746,
          747,
          748,
          749,
          750,
          751,
          752,
          753,
          754,
          755,
          756,
          757,
          758,
          759,
          760,
          761,
          762,
          763,
          764,
          765,
          766,
          767,
          768,
          769,
          770,
          771,
          772,
          773,
          774,
          775,
          776,
          777,
          778,
          779,
          780,
          781,
          782,
          783,
          784,
          785,
          786,
          787,
          788,
          789,
          790,
          791,
          792,
          793,
          794,
          795,
          796,
          797,
          798,
          799,
          800,
          801,
          802,
          803,
          804,
          805,
          806,
          807,
          808,
          809,
          810,
          811,
          812,
          813,
          814,
          815,
          816,
          817,
          818,
          819,
          820,
          821,
          822,
          823,
          824,
          825,
          826,
          827,
          828,
          829,
          830,
          831,
          832,
          833,
          834,
          835,
          836,
          837,
          838,
          839,
          840,
          841,
          842,
          843,
          844,
          845,
          846,
          847,
          848,
          849,
          850,
          851,
          852,
          853,
          854,
          855,
          856,
          857,
          858,
          859,
          860,
          861,
          862,
          863,
          864,
          865,
          866,
          867,
          868,
          869,
          870,
          871,
          872,
          873,
          874,
          875,
          876,
          877,
          878,
          879,
          880,
          881,
          882,
          883,
          884,
          885,
          886,
          887,
          888,
          889,
          890,
          891,
          892,
          893,
          894,
          895,
          896,
          897,
          898,
          899,
          900,
          901,
          902,
          903,
          904,
          905,
          906,
          907,
          908,
          909,
          910,
          911,
          912,
          913,
          914,
          915,
          916,
          917,
          918,
          919,
          920,
          921,
          922,
          923,
          924,
          925,
          926,
          927,
          928,
          929,
          930,
          931,
          932,
          933,
          934,
          935,
          936,
          937,
          938,
          939,
          940,
          941,
          942,
          943,
          944,
          945,
          946,
          947,
          948,
          949,
          950,
          951,
          952,
          953,
          954
         ],
         "yaxis": "y"
        },
        {
         "customdata": [
          [
           true,
           null,
           false,
           1,
           "gt",
           0.7407407407407407,
           0,
           2
          ],
          [
           true,
           null,
           false,
           1,
           "gt",
           0.7815126050420168,
           1,
           4
          ],
          [
           true,
           null,
           false,
           1,
           "gt",
           0.8028169014084507,
           2,
           6
          ],
          [
           true,
           null,
           false,
           1,
           "gt",
           0.5,
           3,
           8
          ],
          [
           true,
           null,
           false,
           1,
           "gt",
           0.8518518518518519,
           4,
           9
          ],
          [
           true,
           null,
           false,
           1,
           "gt",
           0.9397590361445783,
           5,
           16
          ],
          [
           true,
           null,
           false,
           1,
           "gt",
           0.9883040935672515,
           6,
           18
          ],
          [
           true,
           null,
           false,
           1,
           "gt",
           0.8280254777070064,
           7,
           22
          ],
          [
           true,
           null,
           false,
           1,
           "gt",
           0.7164179104477612,
           8,
           26
          ],
          [
           true,
           null,
           false,
           1,
           "gt",
           0.9066666666666666,
           9,
           27
          ],
          [
           true,
           null,
           false,
           1,
           "gt",
           0.46475195822454307,
           10,
           28
          ],
          [
           true,
           null,
           false,
           1,
           "gt",
           0.5189504373177842,
           11,
           30
          ],
          [
           true,
           null,
           false,
           1,
           "gt",
           0.4927007299270073,
           12,
           32
          ],
          [
           true,
           null,
           false,
           1,
           "gt",
           0.9191919191919192,
           13,
           33
          ],
          [
           true,
           null,
           false,
           1,
           "gt",
           0.8375,
           14,
           37
          ],
          [
           true,
           null,
           false,
           1,
           "gt",
           0.7621621621621621,
           15,
           39
          ],
          [
           true,
           null,
           false,
           1,
           "gt",
           0.9747474747474747,
           16,
           40
          ],
          [
           true,
           null,
           false,
           1,
           "gt",
           0.7511737089201878,
           17,
           47
          ],
          [
           true,
           null,
           false,
           1,
           "gt",
           0.9487179487179487,
           18,
           49
          ],
          [
           true,
           null,
           false,
           1,
           "gt",
           0.989010989010989,
           19,
           50
          ],
          [
           true,
           null,
           false,
           1,
           "gt",
           0.8442028985507246,
           20,
           52
          ],
          [
           true,
           null,
           false,
           1,
           "gt",
           0.7892156862745098,
           21,
           57
          ],
          [
           true,
           null,
           false,
           1,
           "gt",
           0.7564102564102564,
           22,
           62
          ],
          [
           true,
           null,
           false,
           1,
           "gt",
           0.6090534979423868,
           23,
           63
          ],
          [
           true,
           null,
           false,
           1,
           "gt",
           0.805,
           24,
           70
          ],
          [
           true,
           null,
           false,
           1,
           "gt",
           0.9657142857142857,
           25,
           71
          ],
          [
           true,
           null,
           false,
           1,
           "gt",
           0.7914691943127962,
           26,
           72
          ],
          [
           true,
           null,
           false,
           1,
           "gt",
           0.9440559440559441,
           27,
           75
          ],
          [
           true,
           null,
           false,
           1,
           "gt",
           0.8549222797927462,
           28,
           80
          ],
          [
           true,
           null,
           false,
           1,
           "gt",
           0.8424657534246576,
           29,
           81
          ],
          [
           true,
           null,
           false,
           1,
           "gt",
           0.9512195121951219,
           30,
           87
          ],
          [
           true,
           null,
           false,
           1,
           "gt",
           0.8402061855670103,
           31,
           88
          ],
          [
           true,
           null,
           false,
           1,
           "gt",
           0.8571428571428571,
           32,
           89
          ],
          [
           true,
           null,
           false,
           1,
           "gt",
           0.9047619047619048,
           33,
           92
          ],
          [
           true,
           null,
           false,
           1,
           "gt",
           0.7358490566037735,
           34,
           97
          ],
          [
           true,
           null,
           false,
           1,
           "gt",
           0.7580645161290323,
           35,
           103
          ],
          [
           true,
           null,
           false,
           1,
           "gt",
           0.7961165048543689,
           36,
           105
          ],
          [
           true,
           null,
           false,
           1,
           "gt",
           0.848314606741573,
           37,
           106
          ],
          [
           true,
           null,
           false,
           1,
           "gt",
           0.8848920863309353,
           38,
           113
          ],
          [
           true,
           null,
           false,
           1,
           "gt",
           0.5985401459854015,
           39,
           115
          ],
          [
           true,
           null,
           false,
           1,
           "gt",
           0.6566265060240963,
           40,
           116
          ],
          [
           true,
           null,
           false,
           1,
           "gt",
           0.8391608391608392,
           41,
           118
          ],
          [
           true,
           null,
           false,
           1,
           "gt",
           0.7202380952380952,
           42,
           127
          ],
          [
           true,
           null,
           false,
           1,
           "gt",
           0.7513812154696132,
           43,
           130
          ],
          [
           true,
           null,
           false,
           1,
           "gt",
           0.7540983606557377,
           44,
           136
          ],
          [
           true,
           null,
           false,
           1,
           "gt",
           0.7076271186440678,
           45,
           140
          ],
          [
           true,
           null,
           false,
           1,
           "gt",
           1,
           46,
           142
          ],
          [
           true,
           null,
           false,
           1,
           "gt",
           0.8493975903614458,
           47,
           143
          ],
          [
           true,
           null,
           false,
           1,
           "gt",
           0.6327433628318584,
           48,
           144
          ],
          [
           true,
           null,
           false,
           1,
           "gt",
           0.7976190476190477,
           49,
           145
          ],
          [
           true,
           null,
           false,
           1,
           "gt",
           0.9779411764705882,
           50,
           146
          ],
          [
           true,
           null,
           false,
           1,
           "gt",
           0.9285714285714286,
           51,
           147
          ],
          [
           true,
           null,
           false,
           1,
           "gt",
           0.8571428571428571,
           52,
           148
          ],
          [
           true,
           null,
           false,
           1,
           "gt",
           0.9068627450980392,
           53,
           150
          ],
          [
           true,
           null,
           false,
           1,
           "gt",
           0.9602649006622517,
           54,
           151
          ],
          [
           true,
           null,
           false,
           1,
           "gt",
           0.7947019867549668,
           55,
           153
          ],
          [
           true,
           null,
           false,
           1,
           "gt",
           0.6080402010050251,
           56,
           156
          ],
          [
           true,
           null,
           false,
           1,
           "gt",
           0.9695121951219512,
           57,
           157
          ],
          [
           true,
           null,
           false,
           1,
           "gt",
           0.9274193548387096,
           58,
           159
          ],
          [
           true,
           null,
           false,
           1,
           "gt",
           0.9612403100775194,
           59,
           160
          ],
          [
           false,
           null,
           true,
           1,
           "gt",
           0,
           60,
           "NA"
          ],
          [
           true,
           null,
           false,
           1,
           "gt",
           0.8364779874213837,
           61,
           161
          ],
          [
           true,
           null,
           false,
           1,
           "gt",
           0.7484276729559748,
           62,
           165
          ],
          [
           true,
           null,
           false,
           1,
           "gt",
           0.9380530973451328,
           63,
           166
          ],
          [
           true,
           null,
           false,
           1,
           "gt",
           0.9935897435897436,
           64,
           168
          ],
          [
           true,
           null,
           false,
           1,
           "gt",
           0.7185185185185186,
           65,
           170
          ],
          [
           true,
           null,
           false,
           1,
           "gt",
           0.8421052631578947,
           66,
           172
          ],
          [
           true,
           null,
           false,
           1,
           "gt",
           0.7673267326732673,
           67,
           173
          ],
          [
           true,
           null,
           false,
           1,
           "gt",
           0.8994082840236687,
           68,
           176
          ],
          [
           true,
           null,
           false,
           1,
           "gt",
           0.860655737704918,
           69,
           182
          ],
          [
           true,
           null,
           false,
           1,
           "gt",
           0.9402173913043478,
           70,
           183
          ],
          [
           true,
           null,
           false,
           1,
           "gt",
           0.958904109589041,
           71,
           186
          ],
          [
           true,
           null,
           false,
           1,
           "gt",
           0.7847222222222222,
           72,
           187
          ],
          [
           true,
           null,
           false,
           1,
           "gt",
           0.6009615384615384,
           73,
           189
          ],
          [
           true,
           null,
           false,
           1,
           "gt",
           0.9596774193548387,
           74,
           190
          ],
          [
           true,
           null,
           false,
           1,
           "gt",
           0.9140625,
           75,
           191
          ],
          [
           true,
           null,
           false,
           1,
           "gt",
           0.9689119170984456,
           76,
           195
          ],
          [
           true,
           null,
           false,
           1,
           "gt",
           0.8421052631578947,
           77,
           196
          ],
          [
           true,
           null,
           false,
           1,
           "gt",
           0.8700787401574803,
           78,
           205
          ],
          [
           true,
           null,
           false,
           1,
           "gt",
           0.8738317757009346,
           79,
           207
          ],
          [
           true,
           null,
           false,
           1,
           "gt",
           0.9518072289156626,
           80,
           208
          ],
          [
           true,
           null,
           false,
           1,
           "gt",
           0.8524590163934426,
           81,
           209
          ],
          [
           true,
           null,
           false,
           1,
           "gt",
           0.9214659685863874,
           82,
           210
          ],
          [
           true,
           null,
           false,
           1,
           "gt",
           0.987012987012987,
           83,
           212
          ],
          [
           true,
           null,
           false,
           1,
           "gt",
           0.8258928571428571,
           84,
           214
          ],
          [
           true,
           null,
           false,
           1,
           "gt",
           1,
           85,
           222
          ],
          [
           true,
           null,
           false,
           1,
           "gt",
           0.9116022099447514,
           86,
           226
          ],
          [
           true,
           null,
           false,
           1,
           "gt",
           0.916256157635468,
           87,
           227
          ],
          [
           true,
           null,
           false,
           1,
           "gt",
           0.75625,
           88,
           230
          ],
          [
           true,
           null,
           false,
           1,
           "gt",
           0.9290780141843972,
           89,
           231
          ],
          [
           true,
           null,
           false,
           1,
           "gt",
           0.8113207547169812,
           90,
           235
          ],
          [
           true,
           null,
           false,
           1,
           "gt",
           0.9779411764705882,
           91,
           241
          ],
          [
           true,
           null,
           false,
           1,
           "gt",
           0.9560439560439561,
           92,
           246
          ],
          [
           true,
           null,
           false,
           1,
           "gt",
           0.9226519337016574,
           93,
           248
          ],
          [
           true,
           null,
           false,
           1,
           "gt",
           0.9096385542168675,
           94,
           250
          ],
          [
           true,
           null,
           false,
           1,
           "gt",
           0.9024390243902439,
           95,
           256
          ],
          [
           true,
           null,
           false,
           1,
           "gt",
           0.9387755102040817,
           96,
           257
          ],
          [
           true,
           null,
           false,
           1,
           "gt",
           0.9285714285714286,
           97,
           258
          ],
          [
           true,
           null,
           false,
           1,
           "gt",
           0.9830508474576272,
           98,
           259
          ],
          [
           true,
           null,
           false,
           1,
           "gt",
           0.9454545454545454,
           99,
           267
          ],
          [
           true,
           null,
           false,
           1,
           "gt",
           0.9421487603305785,
           100,
           268
          ],
          [
           true,
           null,
           false,
           1,
           "gt",
           0.9615384615384616,
           101,
           272
          ],
          [
           true,
           null,
           false,
           1,
           "gt",
           0.8963414634146342,
           102,
           278
          ],
          [
           true,
           null,
           false,
           1,
           "gt",
           0.873015873015873,
           103,
           282
          ],
          [
           true,
           null,
           false,
           1,
           "gt",
           0.9754098360655737,
           104,
           285
          ],
          [
           true,
           null,
           false,
           1,
           "gt",
           0.9897959183673469,
           105,
           288
          ],
          [
           true,
           null,
           false,
           1,
           "gt",
           0.7003058103975535,
           106,
           290
          ],
          [
           true,
           null,
           false,
           1,
           "gt",
           0.9692307692307692,
           107,
           292
          ],
          [
           true,
           null,
           false,
           1,
           "gt",
           0.9640287769784173,
           108,
           293
          ],
          [
           true,
           null,
           false,
           1,
           "gt",
           0.9924242424242424,
           109,
           295
          ],
          [
           true,
           null,
           false,
           1,
           "gt",
           0.659217877094972,
           110,
           298
          ],
          [
           true,
           null,
           false,
           1,
           "gt",
           0.7844311377245509,
           111,
           299
          ],
          [
           true,
           null,
           false,
           1,
           "gt",
           0.6991150442477876,
           112,
           305
          ],
          [
           true,
           null,
           false,
           1,
           "gt",
           0.9411764705882353,
           113,
           307
          ],
          [
           true,
           null,
           false,
           1,
           "gt",
           0.808641975308642,
           114,
           310
          ],
          [
           true,
           null,
           false,
           1,
           "gt",
           0.9672131147540983,
           115,
           314
          ],
          [
           true,
           null,
           false,
           1,
           "gt",
           0.8982035928143712,
           116,
           317
          ],
          [
           true,
           null,
           false,
           1,
           "gt",
           0.9424083769633508,
           117,
           318
          ],
          [
           true,
           null,
           false,
           1,
           "gt",
           0.8552631578947368,
           118,
           320
          ],
          [
           true,
           null,
           false,
           1,
           "gt",
           0.87248322147651,
           119,
           326
          ],
          [
           true,
           null,
           false,
           1,
           "gt",
           0.8928571428571429,
           120,
           327
          ],
          [
           true,
           null,
           false,
           1,
           "gt",
           0.9195979899497487,
           121,
           328
          ],
          [
           true,
           null,
           false,
           1,
           "gt",
           0.9186602870813397,
           122,
           329
          ],
          [
           true,
           null,
           false,
           1,
           "gt",
           0.9933333333333333,
           123,
           331
          ],
          [
           true,
           null,
           false,
           1,
           "gt",
           0.9338235294117647,
           124,
           332
          ],
          [
           true,
           null,
           false,
           1,
           "gt",
           0.8698630136986302,
           125,
           333
          ],
          [
           true,
           null,
           false,
           1,
           "gt",
           0.8833333333333333,
           126,
           336
          ],
          [
           true,
           null,
           false,
           1,
           "gt",
           1,
           127,
           338
          ],
          [
           true,
           null,
           false,
           1,
           "gt",
           0.9720670391061452,
           128,
           340
          ],
          [
           true,
           null,
           false,
           1,
           "gt",
           0.9700598802395209,
           129,
           348
          ],
          [
           true,
           null,
           false,
           1,
           "gt",
           0.8807692307692307,
           130,
           352
          ],
          [
           true,
           null,
           false,
           1,
           "gt",
           0.7547169811320755,
           131,
           353
          ],
          [
           true,
           null,
           false,
           1,
           "gt",
           0.9606299212598425,
           132,
           355
          ],
          [
           true,
           null,
           false,
           1,
           "gt",
           0.9583333333333334,
           133,
           356
          ],
          [
           true,
           null,
           false,
           1,
           "gt",
           0.967741935483871,
           134,
           359
          ],
          [
           true,
           null,
           false,
           1,
           "gt",
           0.8770949720670391,
           135,
           368
          ],
          [
           true,
           null,
           false,
           1,
           "gt",
           0.9259259259259259,
           136,
           376
          ],
          [
           true,
           null,
           false,
           1,
           "gt",
           0.9036144578313253,
           137,
           378
          ],
          [
           true,
           null,
           false,
           1,
           "gt",
           0.7821229050279329,
           138,
           382
          ],
          [
           true,
           null,
           false,
           1,
           "gt",
           0.5686274509803921,
           139,
           390
          ],
          [
           true,
           null,
           false,
           1,
           "gt",
           0.848314606741573,
           140,
           391
          ],
          [
           true,
           null,
           false,
           1,
           "gt",
           0.9098360655737705,
           141,
           392
          ],
          [
           true,
           null,
           false,
           1,
           "gt",
           0.8357142857142857,
           142,
           393
          ],
          [
           true,
           null,
           false,
           1,
           "gt",
           0.7204301075268817,
           143,
           398
          ],
          [
           true,
           null,
           false,
           1,
           "gt",
           0.9482758620689655,
           144,
           399
          ],
          [
           true,
           null,
           false,
           1,
           "gt",
           0.9937888198757764,
           145,
           406
          ],
          [
           true,
           null,
           false,
           1,
           "gt",
           0.7575757575757576,
           146,
           407
          ],
          [
           true,
           null,
           false,
           1,
           "gt",
           0.9673202614379085,
           147,
           411
          ],
          [
           true,
           null,
           false,
           1,
           "gt",
           0.872093023255814,
           148,
           414
          ],
          [
           true,
           null,
           false,
           1,
           "gt",
           0.9097222222222222,
           149,
           420
          ],
          [
           true,
           null,
           false,
           1,
           "gt",
           0.9296482412060302,
           150,
           421
          ],
          [
           true,
           null,
           false,
           1,
           "gt",
           0.9695431472081218,
           151,
           425
          ],
          [
           true,
           null,
           false,
           1,
           "gt",
           0.8899082568807339,
           152,
           428
          ],
          [
           true,
           null,
           false,
           1,
           "gt",
           0.9585798816568047,
           153,
           429
          ],
          [
           true,
           null,
           false,
           1,
           "gt",
           0.8951310861423221,
           154,
           432
          ],
          [
           true,
           null,
           false,
           1,
           "gt",
           0.912568306010929,
           155,
           438
          ],
          [
           true,
           null,
           false,
           1,
           "gt",
           0.9407894736842105,
           156,
           439
          ],
          [
           true,
           null,
           false,
           1,
           "gt",
           0.9212121212121213,
           157,
           444
          ],
          [
           true,
           null,
           false,
           1,
           "gt",
           0.9398496240601504,
           158,
           447
          ],
          [
           true,
           null,
           false,
           1,
           "gt",
           0.7513513513513513,
           159,
           452
          ],
          [
           true,
           null,
           false,
           1,
           "gt",
           1,
           160,
           456
          ],
          [
           true,
           null,
           false,
           1,
           "gt",
           0.8591549295774648,
           161,
           457
          ],
          [
           true,
           null,
           false,
           1,
           "gt",
           0.847457627118644,
           162,
           458
          ],
          [
           true,
           null,
           false,
           1,
           "gt",
           0.9243243243243243,
           163,
           459
          ],
          [
           true,
           null,
           false,
           1,
           "gt",
           0.7446808510638298,
           164,
           460
          ],
          [
           true,
           null,
           false,
           1,
           "gt",
           0.9789473684210527,
           165,
           462
          ],
          [
           true,
           null,
           false,
           1,
           "gt",
           0.9840425531914894,
           166,
           465
          ],
          [
           true,
           null,
           false,
           1,
           "gt",
           1,
           167,
           466
          ],
          [
           true,
           null,
           false,
           1,
           "gt",
           0.6060606060606061,
           168,
           467
          ],
          [
           true,
           null,
           false,
           1,
           "gt",
           0.943089430894309,
           169,
           469
          ],
          [
           true,
           null,
           false,
           1,
           "gt",
           0.864406779661017,
           170,
           471
          ],
          [
           true,
           null,
           false,
           1,
           "gt",
           0.9512195121951219,
           171,
           472
          ],
          [
           true,
           null,
           false,
           1,
           "gt",
           0.944,
           172,
           473
          ],
          [
           true,
           null,
           false,
           1,
           "gt",
           0.9247787610619469,
           173,
           481
          ],
          [
           true,
           null,
           false,
           1,
           "gt",
           0.7663551401869159,
           174,
           482
          ],
          [
           true,
           null,
           false,
           1,
           "gt",
           0.9172413793103448,
           175,
           489
          ],
          [
           true,
           null,
           false,
           1,
           "gt",
           0.9534883720930233,
           176,
           492
          ],
          [
           true,
           null,
           false,
           1,
           "gt",
           0.7922077922077922,
           177,
           493
          ],
          [
           true,
           null,
           false,
           1,
           "gt",
           0.8581081081081081,
           178,
           494
          ],
          [
           true,
           null,
           false,
           1,
           "gt",
           0.7611464968152867,
           179,
           496
          ],
          [
           true,
           null,
           false,
           1,
           "gt",
           0.8133333333333334,
           180,
           497
          ],
          [
           true,
           null,
           false,
           1,
           "gt",
           0.8316151202749141,
           181,
           501
          ],
          [
           true,
           null,
           false,
           1,
           "gt",
           0.96,
           182,
           503
          ],
          [
           true,
           null,
           false,
           1,
           "gt",
           0.9556962025316456,
           183,
           513
          ],
          [
           true,
           null,
           false,
           1,
           "gt",
           0.926829268292683,
           184,
           514
          ],
          [
           true,
           null,
           false,
           1,
           "gt",
           0.8829787234042553,
           185,
           515
          ],
          [
           true,
           null,
           false,
           1,
           "gt",
           0.810126582278481,
           186,
           516
          ],
          [
           true,
           null,
           false,
           1,
           "gt",
           0.925,
           187,
           517
          ],
          [
           true,
           null,
           false,
           1,
           "gt",
           0.8410596026490066,
           188,
           518
          ],
          [
           true,
           null,
           false,
           1,
           "gt",
           0.6245847176079734,
           189,
           525
          ],
          [
           true,
           null,
           false,
           1,
           "gt",
           0.8784530386740331,
           190,
           526
          ],
          [
           true,
           null,
           false,
           1,
           "gt",
           0.8317307692307693,
           191,
           529
          ],
          [
           true,
           null,
           false,
           1,
           "gt",
           0.9651162790697675,
           192,
           532
          ],
          [
           true,
           null,
           false,
           1,
           "gt",
           0.7409638554216867,
           193,
           536
          ],
          [
           true,
           null,
           false,
           1,
           "gt",
           0.9649122807017544,
           194,
           538
          ],
          [
           true,
           null,
           false,
           1,
           "gt",
           0.5346938775510204,
           195,
           539
          ],
          [
           true,
           null,
           false,
           1,
           "gt",
           0.8390243902439024,
           196,
           542
          ],
          [
           true,
           null,
           false,
           1,
           "gt",
           0.9162303664921466,
           197,
           545
          ],
          [
           true,
           null,
           false,
           1,
           "gt",
           0.9254658385093167,
           198,
           551
          ],
          [
           true,
           null,
           false,
           1,
           "gt",
           0.993421052631579,
           199,
           555
          ],
          [
           true,
           null,
           false,
           1,
           "gt",
           0.9927536231884058,
           200,
           557
          ],
          [
           true,
           null,
           false,
           1,
           "gt",
           0.967032967032967,
           201,
           559
          ],
          [
           true,
           null,
           false,
           1,
           "gt",
           0.9398907103825137,
           202,
           565
          ],
          [
           true,
           null,
           false,
           1,
           "gt",
           0.9948979591836735,
           203,
           566
          ],
          [
           true,
           null,
           false,
           1,
           "gt",
           0.9819277108433735,
           204,
           567
          ],
          [
           true,
           null,
           false,
           1,
           "gt",
           0.7368421052631579,
           205,
           570
          ],
          [
           true,
           null,
           false,
           1,
           "gt",
           0.9050632911392406,
           206,
           571
          ],
          [
           true,
           null,
           false,
           1,
           "gt",
           0.9485294117647058,
           207,
           574
          ],
          [
           true,
           null,
           false,
           1,
           "gt",
           0.9574468085106383,
           208,
           577
          ],
          [
           true,
           null,
           false,
           1,
           "gt",
           0.9817518248175182,
           209,
           578
          ],
          [
           true,
           null,
           false,
           1,
           "gt",
           0.8955223880597015,
           210,
           579
          ],
          [
           true,
           null,
           false,
           1,
           "gt",
           0.9526315789473684,
           211,
           583
          ],
          [
           true,
           null,
           false,
           1,
           "gt",
           0.9380952380952381,
           212,
           586
          ],
          [
           true,
           null,
           false,
           1,
           "gt",
           0.896969696969697,
           213,
           598
          ],
          [
           true,
           null,
           false,
           1,
           "gt",
           0.9765258215962441,
           214,
           599
          ],
          [
           true,
           null,
           false,
           1,
           "gt",
           0.9213483146067416,
           215,
           600
          ],
          [
           true,
           null,
           false,
           1,
           "gt",
           0.9545454545454546,
           216,
           604
          ],
          [
           true,
           null,
           false,
           1,
           "gt",
           0.3801452784503632,
           217,
           609
          ],
          [
           true,
           null,
           false,
           1,
           "gt",
           0.9421052631578948,
           218,
           611
          ],
          [
           true,
           null,
           false,
           1,
           "gt",
           0.8435754189944135,
           219,
           612
          ],
          [
           true,
           null,
           false,
           1,
           "gt",
           0.6681614349775785,
           220,
           616
          ],
          [
           true,
           null,
           false,
           1,
           "gt",
           0.9881889763779528,
           221,
           617
          ],
          [
           true,
           null,
           false,
           1,
           "gt",
           0.9245283018867925,
           222,
           622
          ],
          [
           true,
           null,
           false,
           1,
           "gt",
           0.8676470588235294,
           223,
           624
          ],
          [
           true,
           null,
           false,
           1,
           "gt",
           0.9222222222222223,
           224,
           627
          ],
          [
           true,
           null,
           false,
           1,
           "gt",
           0.8811881188118812,
           225,
           629
          ],
          [
           true,
           null,
           false,
           1,
           "gt",
           0.9197080291970803,
           226,
           632
          ],
          [
           true,
           null,
           false,
           1,
           "gt",
           0.7303921568627451,
           227,
           635
          ],
          [
           true,
           null,
           false,
           1,
           "gt",
           0.8859060402684564,
           228,
           644
          ],
          [
           true,
           null,
           false,
           1,
           "gt",
           0.9594594594594594,
           229,
           646
          ],
          [
           true,
           null,
           false,
           1,
           "gt",
           0.8895705521472392,
           230,
           652
          ],
          [
           true,
           null,
           false,
           1,
           "gt",
           1,
           231,
           659
          ],
          [
           true,
           null,
           false,
           1,
           "gt",
           0.806930693069307,
           232,
           667
          ],
          [
           true,
           null,
           false,
           1,
           "gt",
           0.8333333333333334,
           233,
           671
          ],
          [
           true,
           null,
           false,
           1,
           "gt",
           0.8990384615384616,
           234,
           683
          ],
          [
           true,
           null,
           false,
           1,
           "gt",
           0.9924812030075187,
           235,
           684
          ],
          [
           true,
           null,
           false,
           1,
           "gt",
           0.45977011494252873,
           236,
           685
          ],
          [
           true,
           null,
           false,
           1,
           "gt",
           0.867579908675799,
           237,
           686
          ],
          [
           true,
           null,
           false,
           1,
           "gt",
           0.847457627118644,
           238,
           688
          ],
          [
           true,
           null,
           false,
           1,
           "gt",
           0.951048951048951,
           239,
           689
          ],
          [
           true,
           null,
           false,
           1,
           "gt",
           0.8571428571428571,
           240,
           692
          ],
          [
           true,
           null,
           false,
           1,
           "gt",
           0.835016835016835,
           241,
           703
          ],
          [
           true,
           null,
           false,
           1,
           "gt",
           0.9378531073446328,
           242,
           704
          ],
          [
           true,
           null,
           false,
           1,
           "gt",
           0.7388059701492538,
           243,
           705
          ],
          [
           true,
           null,
           false,
           1,
           "gt",
           0.9502487562189055,
           244,
           710
          ],
          [
           true,
           null,
           false,
           1,
           "gt",
           0.972972972972973,
           245,
           712
          ],
          [
           true,
           null,
           false,
           1,
           "gt",
           0.7792207792207793,
           246,
           713
          ],
          [
           true,
           null,
           false,
           1,
           "gt",
           0.9821428571428571,
           247,
           714
          ],
          [
           true,
           null,
           false,
           1,
           "gt",
           0.85,
           248,
           715
          ],
          [
           true,
           null,
           false,
           1,
           "gt",
           0.9880239520958084,
           249,
           716
          ],
          [
           true,
           null,
           false,
           1,
           "gt",
           0.9434782608695652,
           250,
           718
          ],
          [
           true,
           null,
           false,
           1,
           "gt",
           1,
           251,
           720
          ],
          [
           true,
           null,
           false,
           1,
           "gt",
           0.8622754491017964,
           252,
           721
          ],
          [
           true,
           null,
           false,
           1,
           "gt",
           0.7567567567567568,
           253,
           733
          ],
          [
           true,
           null,
           false,
           1,
           "gt",
           0.9343434343434344,
           254,
           737
          ],
          [
           true,
           null,
           false,
           1,
           "gt",
           0.9419354838709677,
           255,
           738
          ],
          [
           true,
           null,
           false,
           1,
           "gt",
           0.8805031446540881,
           256,
           739
          ],
          [
           true,
           null,
           false,
           1,
           "gt",
           0.8493150684931506,
           257,
           740
          ],
          [
           true,
           null,
           false,
           1,
           "gt",
           0.9431818181818182,
           258,
           742
          ],
          [
           true,
           null,
           false,
           1,
           "gt",
           0.8833333333333333,
           259,
           743
          ],
          [
           true,
           null,
           false,
           1,
           "gt",
           0.9505703422053232,
           260,
           744
          ],
          [
           true,
           null,
           false,
           1,
           "gt",
           0.965034965034965,
           261,
           747
          ],
          [
           true,
           null,
           false,
           1,
           "gt",
           0.8036529680365296,
           262,
           749
          ],
          [
           true,
           null,
           false,
           1,
           "gt",
           0.9815668202764977,
           263,
           750
          ],
          [
           true,
           null,
           false,
           1,
           "gt",
           0.8208955223880597,
           264,
           754
          ],
          [
           true,
           null,
           false,
           1,
           "gt",
           0.9375,
           265,
           758
          ],
          [
           true,
           null,
           false,
           1,
           "gt",
           0.8546511627906976,
           266,
           764
          ],
          [
           true,
           null,
           false,
           1,
           "gt",
           0.948051948051948,
           267,
           774
          ],
          [
           true,
           null,
           false,
           1,
           "gt",
           0.8857142857142857,
           268,
           776
          ],
          [
           true,
           null,
           false,
           1,
           "gt",
           0.9811320754716981,
           269,
           777
          ],
          [
           true,
           null,
           false,
           1,
           "gt",
           0.8864864864864865,
           270,
           783
          ],
          [
           true,
           null,
           false,
           1,
           "gt",
           0.6113989637305699,
           271,
           787
          ],
          [
           true,
           null,
           false,
           1,
           "gt",
           0.9279279279279279,
           272,
           789
          ],
          [
           true,
           null,
           false,
           1,
           "gt",
           0.9744897959183674,
           273,
           790
          ],
          [
           true,
           null,
           false,
           1,
           "gt",
           0.9067357512953368,
           274,
           796
          ],
          [
           true,
           null,
           false,
           1,
           "gt",
           0.9705882352941176,
           275,
           797
          ],
          [
           true,
           null,
           false,
           1,
           "gt",
           0.7538461538461538,
           276,
           799
          ],
          [
           true,
           null,
           false,
           1,
           "gt",
           0.9154228855721394,
           277,
           801
          ],
          [
           true,
           null,
           false,
           1,
           "gt",
           0.9302325581395349,
           278,
           806
          ],
          [
           true,
           null,
           false,
           1,
           "gt",
           0.7142857142857143,
           279,
           807
          ],
          [
           true,
           null,
           false,
           1,
           "gt",
           0.8311111111111111,
           280,
           812
          ],
          [
           true,
           null,
           false,
           1,
           "gt",
           0.7666666666666667,
           281,
           822
          ],
          [
           true,
           null,
           false,
           1,
           "gt",
           0.9135135135135135,
           282,
           828
          ],
          [
           true,
           null,
           false,
           1,
           "gt",
           0.9527027027027027,
           283,
           831
          ],
          [
           true,
           null,
           false,
           1,
           "gt",
           0.9217877094972067,
           284,
           833
          ],
          [
           true,
           null,
           false,
           1,
           "gt",
           0.8235294117647058,
           285,
           834
          ],
          [
           true,
           null,
           false,
           1,
           "gt",
           0.8164556962025317,
           286,
           835
          ],
          [
           true,
           null,
           false,
           1,
           "gt",
           0.9647058823529412,
           287,
           843
          ],
          [
           true,
           null,
           false,
           1,
           "gt",
           0.89375,
           288,
           844
          ],
          [
           true,
           null,
           false,
           1,
           "gt",
           0.7935483870967742,
           289,
           851
          ],
          [
           true,
           null,
           false,
           1,
           "gt",
           0.9044117647058824,
           290,
           852
          ],
          [
           true,
           null,
           false,
           1,
           "gt",
           0.8802083333333334,
           291,
           853
          ],
          [
           true,
           null,
           false,
           1,
           "gt",
           0.8461538461538461,
           292,
           855
          ],
          [
           true,
           null,
           false,
           1,
           "gt",
           0.9347826086956522,
           293,
           856
          ],
          [
           true,
           null,
           false,
           1,
           "gt",
           0.5291005291005291,
           294,
           860
          ],
          [
           true,
           null,
           false,
           1,
           "gt",
           0.7745664739884393,
           295,
           881
          ],
          [
           true,
           null,
           false,
           1,
           "gt",
           0.8977272727272727,
           296,
           883
          ],
          [
           true,
           null,
           false,
           1,
           "gt",
           0.8851351351351351,
           297,
           884
          ],
          [
           true,
           null,
           false,
           1,
           "gt",
           1,
           298,
           887
          ],
          [
           true,
           null,
           false,
           1,
           "gt",
           0.40828402366863903,
           299,
           911
          ],
          [
           true,
           null,
           false,
           1,
           "gt",
           0.8982035928143712,
           300,
           912
          ],
          [
           true,
           null,
           false,
           1,
           "gt",
           0.8322981366459627,
           301,
           917
          ],
          [
           true,
           null,
           false,
           1,
           "gt",
           0.9726027397260274,
           302,
           918
          ],
          [
           true,
           null,
           false,
           1,
           "gt",
           0.9433962264150944,
           303,
           931
          ],
          [
           true,
           null,
           false,
           1,
           "gt",
           0.9924242424242424,
           304,
           936
          ],
          [
           true,
           null,
           false,
           1,
           "gt",
           0.9554140127388535,
           305,
           937
          ],
          [
           true,
           null,
           false,
           1,
           "gt",
           0.7974683544303798,
           306,
           952
          ],
          [
           true,
           null,
           false,
           1,
           "gt",
           0.7086614173228346,
           307,
           954
          ]
         ],
         "hovertemplate": "iou=%{marker.color:.4f}<br>indexGT=%{customdata[6]}<br>indexOut=%{customdata[7]}<extra></extra>",
         "legendgroup": "gt",
         "marker": {
          "color": [
           0.7407407407407407,
           0.7815126050420168,
           0.8028169014084507,
           0.5,
           0.8518518518518519,
           0.9397590361445783,
           0.9883040935672515,
           0.8280254777070064,
           0.7164179104477612,
           0.9066666666666666,
           0.46475195822454307,
           0.5189504373177842,
           0.4927007299270073,
           0.9191919191919192,
           0.8375,
           0.7621621621621621,
           0.9747474747474747,
           0.7511737089201878,
           0.9487179487179487,
           0.989010989010989,
           0.8442028985507246,
           0.7892156862745098,
           0.7564102564102564,
           0.6090534979423868,
           0.805,
           0.9657142857142857,
           0.7914691943127962,
           0.9440559440559441,
           0.8549222797927462,
           0.8424657534246576,
           0.9512195121951219,
           0.8402061855670103,
           0.8571428571428571,
           0.9047619047619048,
           0.7358490566037735,
           0.7580645161290323,
           0.7961165048543689,
           0.848314606741573,
           0.8848920863309353,
           0.5985401459854015,
           0.6566265060240963,
           0.8391608391608392,
           0.7202380952380952,
           0.7513812154696132,
           0.7540983606557377,
           0.7076271186440678,
           1,
           0.8493975903614458,
           0.6327433628318584,
           0.7976190476190477,
           0.9779411764705882,
           0.9285714285714286,
           0.8571428571428571,
           0.9068627450980392,
           0.9602649006622517,
           0.7947019867549668,
           0.6080402010050251,
           0.9695121951219512,
           0.9274193548387096,
           0.9612403100775194,
           0,
           0.8364779874213837,
           0.7484276729559748,
           0.9380530973451328,
           0.9935897435897436,
           0.7185185185185186,
           0.8421052631578947,
           0.7673267326732673,
           0.8994082840236687,
           0.860655737704918,
           0.9402173913043478,
           0.958904109589041,
           0.7847222222222222,
           0.6009615384615384,
           0.9596774193548387,
           0.9140625,
           0.9689119170984456,
           0.8421052631578947,
           0.8700787401574803,
           0.8738317757009346,
           0.9518072289156626,
           0.8524590163934426,
           0.9214659685863874,
           0.987012987012987,
           0.8258928571428571,
           1,
           0.9116022099447514,
           0.916256157635468,
           0.75625,
           0.9290780141843972,
           0.8113207547169812,
           0.9779411764705882,
           0.9560439560439561,
           0.9226519337016574,
           0.9096385542168675,
           0.9024390243902439,
           0.9387755102040817,
           0.9285714285714286,
           0.9830508474576272,
           0.9454545454545454,
           0.9421487603305785,
           0.9615384615384616,
           0.8963414634146342,
           0.873015873015873,
           0.9754098360655737,
           0.9897959183673469,
           0.7003058103975535,
           0.9692307692307692,
           0.9640287769784173,
           0.9924242424242424,
           0.659217877094972,
           0.7844311377245509,
           0.6991150442477876,
           0.9411764705882353,
           0.808641975308642,
           0.9672131147540983,
           0.8982035928143712,
           0.9424083769633508,
           0.8552631578947368,
           0.87248322147651,
           0.8928571428571429,
           0.9195979899497487,
           0.9186602870813397,
           0.9933333333333333,
           0.9338235294117647,
           0.8698630136986302,
           0.8833333333333333,
           1,
           0.9720670391061452,
           0.9700598802395209,
           0.8807692307692307,
           0.7547169811320755,
           0.9606299212598425,
           0.9583333333333334,
           0.967741935483871,
           0.8770949720670391,
           0.9259259259259259,
           0.9036144578313253,
           0.7821229050279329,
           0.5686274509803921,
           0.848314606741573,
           0.9098360655737705,
           0.8357142857142857,
           0.7204301075268817,
           0.9482758620689655,
           0.9937888198757764,
           0.7575757575757576,
           0.9673202614379085,
           0.872093023255814,
           0.9097222222222222,
           0.9296482412060302,
           0.9695431472081218,
           0.8899082568807339,
           0.9585798816568047,
           0.8951310861423221,
           0.912568306010929,
           0.9407894736842105,
           0.9212121212121213,
           0.9398496240601504,
           0.7513513513513513,
           1,
           0.8591549295774648,
           0.847457627118644,
           0.9243243243243243,
           0.7446808510638298,
           0.9789473684210527,
           0.9840425531914894,
           1,
           0.6060606060606061,
           0.943089430894309,
           0.864406779661017,
           0.9512195121951219,
           0.944,
           0.9247787610619469,
           0.7663551401869159,
           0.9172413793103448,
           0.9534883720930233,
           0.7922077922077922,
           0.8581081081081081,
           0.7611464968152867,
           0.8133333333333334,
           0.8316151202749141,
           0.96,
           0.9556962025316456,
           0.926829268292683,
           0.8829787234042553,
           0.810126582278481,
           0.925,
           0.8410596026490066,
           0.6245847176079734,
           0.8784530386740331,
           0.8317307692307693,
           0.9651162790697675,
           0.7409638554216867,
           0.9649122807017544,
           0.5346938775510204,
           0.8390243902439024,
           0.9162303664921466,
           0.9254658385093167,
           0.993421052631579,
           0.9927536231884058,
           0.967032967032967,
           0.9398907103825137,
           0.9948979591836735,
           0.9819277108433735,
           0.7368421052631579,
           0.9050632911392406,
           0.9485294117647058,
           0.9574468085106383,
           0.9817518248175182,
           0.8955223880597015,
           0.9526315789473684,
           0.9380952380952381,
           0.896969696969697,
           0.9765258215962441,
           0.9213483146067416,
           0.9545454545454546,
           0.3801452784503632,
           0.9421052631578948,
           0.8435754189944135,
           0.6681614349775785,
           0.9881889763779528,
           0.9245283018867925,
           0.8676470588235294,
           0.9222222222222223,
           0.8811881188118812,
           0.9197080291970803,
           0.7303921568627451,
           0.8859060402684564,
           0.9594594594594594,
           0.8895705521472392,
           1,
           0.806930693069307,
           0.8333333333333334,
           0.8990384615384616,
           0.9924812030075187,
           0.45977011494252873,
           0.867579908675799,
           0.847457627118644,
           0.951048951048951,
           0.8571428571428571,
           0.835016835016835,
           0.9378531073446328,
           0.7388059701492538,
           0.9502487562189055,
           0.972972972972973,
           0.7792207792207793,
           0.9821428571428571,
           0.85,
           0.9880239520958084,
           0.9434782608695652,
           1,
           0.8622754491017964,
           0.7567567567567568,
           0.9343434343434344,
           0.9419354838709677,
           0.8805031446540881,
           0.8493150684931506,
           0.9431818181818182,
           0.8833333333333333,
           0.9505703422053232,
           0.965034965034965,
           0.8036529680365296,
           0.9815668202764977,
           0.8208955223880597,
           0.9375,
           0.8546511627906976,
           0.948051948051948,
           0.8857142857142857,
           0.9811320754716981,
           0.8864864864864865,
           0.6113989637305699,
           0.9279279279279279,
           0.9744897959183674,
           0.9067357512953368,
           0.9705882352941176,
           0.7538461538461538,
           0.9154228855721394,
           0.9302325581395349,
           0.7142857142857143,
           0.8311111111111111,
           0.7666666666666667,
           0.9135135135135135,
           0.9527027027027027,
           0.9217877094972067,
           0.8235294117647058,
           0.8164556962025317,
           0.9647058823529412,
           0.89375,
           0.7935483870967742,
           0.9044117647058824,
           0.8802083333333334,
           0.8461538461538461,
           0.9347826086956522,
           0.5291005291005291,
           0.7745664739884393,
           0.8977272727272727,
           0.8851351351351351,
           1,
           0.40828402366863903,
           0.8982035928143712,
           0.8322981366459627,
           0.9726027397260274,
           0.9433962264150944,
           0.9924242424242424,
           0.9554140127388535,
           0.7974683544303798,
           0.7086614173228346
          ],
          "coloraxis": "coloraxis",
          "line": {
           "width": 2
          },
          "opacity": 0.8,
          "size": [
           1,
           1,
           1,
           1,
           1,
           1,
           1,
           1,
           1,
           1,
           1,
           1,
           1,
           1,
           1,
           1,
           1,
           1,
           1,
           1,
           1,
           1,
           1,
           1,
           1,
           1,
           1,
           1,
           1,
           1,
           1,
           1,
           1,
           1,
           1,
           1,
           1,
           1,
           1,
           1,
           1,
           1,
           1,
           1,
           1,
           1,
           1,
           1,
           1,
           1,
           1,
           1,
           1,
           1,
           1,
           1,
           1,
           1,
           1,
           1,
           1,
           1,
           1,
           1,
           1,
           1,
           1,
           1,
           1,
           1,
           1,
           1,
           1,
           1,
           1,
           1,
           1,
           1,
           1,
           1,
           1,
           1,
           1,
           1,
           1,
           1,
           1,
           1,
           1,
           1,
           1,
           1,
           1,
           1,
           1,
           1,
           1,
           1,
           1,
           1,
           1,
           1,
           1,
           1,
           1,
           1,
           1,
           1,
           1,
           1,
           1,
           1,
           1,
           1,
           1,
           1,
           1,
           1,
           1,
           1,
           1,
           1,
           1,
           1,
           1,
           1,
           1,
           1,
           1,
           1,
           1,
           1,
           1,
           1,
           1,
           1,
           1,
           1,
           1,
           1,
           1,
           1,
           1,
           1,
           1,
           1,
           1,
           1,
           1,
           1,
           1,
           1,
           1,
           1,
           1,
           1,
           1,
           1,
           1,
           1,
           1,
           1,
           1,
           1,
           1,
           1,
           1,
           1,
           1,
           1,
           1,
           1,
           1,
           1,
           1,
           1,
           1,
           1,
           1,
           1,
           1,
           1,
           1,
           1,
           1,
           1,
           1,
           1,
           1,
           1,
           1,
           1,
           1,
           1,
           1,
           1,
           1,
           1,
           1,
           1,
           1,
           1,
           1,
           1,
           1,
           1,
           1,
           1,
           1,
           1,
           1,
           1,
           1,
           1,
           1,
           1,
           1,
           1,
           1,
           1,
           1,
           1,
           1,
           1,
           1,
           1,
           1,
           1,
           1,
           1,
           1,
           1,
           1,
           1,
           1,
           1,
           1,
           1,
           1,
           1,
           1,
           1,
           1,
           1,
           1,
           1,
           1,
           1,
           1,
           1,
           1,
           1,
           1,
           1,
           1,
           1,
           1,
           1,
           1,
           1,
           1,
           1,
           1,
           1,
           1,
           1,
           1,
           1,
           1,
           1,
           1,
           1,
           1,
           1,
           1,
           1,
           1,
           1,
           1,
           1,
           1,
           1,
           1,
           1,
           1,
           1,
           1,
           1,
           1,
           1,
           1,
           1,
           1,
           1,
           1,
           1,
           1,
           1,
           1,
           1,
           1,
           1,
           1,
           1,
           1,
           1,
           1,
           1
          ],
          "sizemode": "area",
          "sizeref": 0.0075,
          "symbol": "circle"
         },
         "mode": "markers",
         "name": "gt",
         "showlegend": true,
         "type": "scattergl",
         "x": [
          0,
          1,
          2,
          3,
          4,
          5,
          6,
          7,
          8,
          9,
          10,
          11,
          12,
          13,
          14,
          15,
          16,
          17,
          18,
          19,
          20,
          21,
          22,
          23,
          24,
          25,
          26,
          27,
          28,
          29,
          30,
          31,
          32,
          33,
          34,
          35,
          36,
          37,
          38,
          39,
          40,
          41,
          42,
          43,
          44,
          45,
          46,
          47,
          48,
          49,
          50,
          51,
          52,
          53,
          54,
          55,
          56,
          57,
          58,
          59,
          60,
          61,
          62,
          63,
          64,
          65,
          66,
          67,
          68,
          69,
          70,
          71,
          72,
          73,
          74,
          75,
          76,
          77,
          78,
          79,
          80,
          81,
          82,
          83,
          84,
          85,
          86,
          87,
          88,
          89,
          90,
          91,
          92,
          93,
          94,
          95,
          96,
          97,
          98,
          99,
          100,
          101,
          102,
          103,
          104,
          105,
          106,
          107,
          108,
          109,
          110,
          111,
          112,
          113,
          114,
          115,
          116,
          117,
          118,
          119,
          120,
          121,
          122,
          123,
          124,
          125,
          126,
          127,
          128,
          129,
          130,
          131,
          132,
          133,
          134,
          135,
          136,
          137,
          138,
          139,
          140,
          141,
          142,
          143,
          144,
          145,
          146,
          147,
          148,
          149,
          150,
          151,
          152,
          153,
          154,
          155,
          156,
          157,
          158,
          159,
          160,
          161,
          162,
          163,
          164,
          165,
          166,
          167,
          168,
          169,
          170,
          171,
          172,
          173,
          174,
          175,
          176,
          177,
          178,
          179,
          180,
          181,
          182,
          183,
          184,
          185,
          186,
          187,
          188,
          189,
          190,
          191,
          192,
          193,
          194,
          195,
          196,
          197,
          198,
          199,
          200,
          201,
          202,
          203,
          204,
          205,
          206,
          207,
          208,
          209,
          210,
          211,
          212,
          213,
          214,
          215,
          216,
          217,
          218,
          219,
          220,
          221,
          222,
          223,
          224,
          225,
          226,
          227,
          228,
          229,
          230,
          231,
          232,
          233,
          234,
          235,
          236,
          237,
          238,
          239,
          240,
          241,
          242,
          243,
          244,
          245,
          246,
          247,
          248,
          249,
          250,
          251,
          252,
          253,
          254,
          255,
          256,
          257,
          258,
          259,
          260,
          261,
          262,
          263,
          264,
          265,
          266,
          267,
          268,
          269,
          270,
          271,
          272,
          273,
          274,
          275,
          276,
          277,
          278,
          279,
          280,
          281,
          282,
          283,
          284,
          285,
          286,
          287,
          288,
          289,
          290,
          291,
          292,
          293,
          294,
          295,
          296,
          297,
          298,
          299,
          300,
          301,
          302,
          303,
          304,
          305,
          306,
          307
         ],
         "xaxis": "x",
         "y": [
          2,
          4,
          6,
          8,
          9,
          16,
          18,
          22,
          26,
          27,
          28,
          30,
          32,
          33,
          37,
          39,
          40,
          47,
          49,
          50,
          52,
          57,
          62,
          63,
          70,
          71,
          72,
          75,
          80,
          81,
          87,
          88,
          89,
          92,
          97,
          103,
          105,
          106,
          113,
          115,
          116,
          118,
          127,
          130,
          136,
          140,
          142,
          143,
          144,
          145,
          146,
          147,
          148,
          150,
          151,
          153,
          156,
          157,
          159,
          160,
          -10,
          161,
          165,
          166,
          168,
          170,
          172,
          173,
          176,
          182,
          183,
          186,
          187,
          189,
          190,
          191,
          195,
          196,
          205,
          207,
          208,
          209,
          210,
          212,
          214,
          222,
          226,
          227,
          230,
          231,
          235,
          241,
          246,
          248,
          250,
          256,
          257,
          258,
          259,
          267,
          268,
          272,
          278,
          282,
          285,
          288,
          290,
          292,
          293,
          295,
          298,
          299,
          305,
          307,
          310,
          314,
          317,
          318,
          320,
          326,
          327,
          328,
          329,
          331,
          332,
          333,
          336,
          338,
          340,
          348,
          352,
          353,
          355,
          356,
          359,
          368,
          376,
          378,
          382,
          390,
          391,
          392,
          393,
          398,
          399,
          406,
          407,
          411,
          414,
          420,
          421,
          425,
          428,
          429,
          432,
          438,
          439,
          444,
          447,
          452,
          456,
          457,
          458,
          459,
          460,
          462,
          465,
          466,
          467,
          469,
          471,
          472,
          473,
          481,
          482,
          489,
          492,
          493,
          494,
          496,
          497,
          501,
          503,
          513,
          514,
          515,
          516,
          517,
          518,
          525,
          526,
          529,
          532,
          536,
          538,
          539,
          542,
          545,
          551,
          555,
          557,
          559,
          565,
          566,
          567,
          570,
          571,
          574,
          577,
          578,
          579,
          583,
          586,
          598,
          599,
          600,
          604,
          609,
          611,
          612,
          616,
          617,
          622,
          624,
          627,
          629,
          632,
          635,
          644,
          646,
          652,
          659,
          667,
          671,
          683,
          684,
          685,
          686,
          688,
          689,
          692,
          703,
          704,
          705,
          710,
          712,
          713,
          714,
          715,
          716,
          718,
          720,
          721,
          733,
          737,
          738,
          739,
          740,
          742,
          743,
          744,
          747,
          749,
          750,
          754,
          758,
          764,
          774,
          776,
          777,
          783,
          787,
          789,
          790,
          796,
          797,
          799,
          801,
          806,
          807,
          812,
          822,
          828,
          831,
          833,
          834,
          835,
          843,
          844,
          851,
          852,
          853,
          855,
          856,
          860,
          881,
          883,
          884,
          887,
          911,
          912,
          917,
          918,
          931,
          936,
          937,
          952,
          954
         ],
         "yaxis": "y"
        }
       ],
       "layout": {
        "coloraxis": {
         "colorbar": {
          "title": {
           "text": "iou"
          }
         },
         "colorscale": [
          [
           0,
           "rgb(40,40,40)"
          ],
          [
           0.000001,
           "rgb(28,227,255)"
          ],
          [
           0.14,
           "rgb(56,199,255)"
          ],
          [
           0.29,
           "rgb(85,170,255)"
          ],
          [
           0.42,
           "rgb(113,142,255)"
          ],
          [
           0.57,
           "rgb(142,113,255)"
          ],
          [
           0.71,
           "rgb(170,85,255)"
          ],
          [
           0.86,
           "rgb(199,56,255)"
          ],
          [
           1,
           "rgb(227,28,255)"
          ]
         ]
        },
        "legend": {
         "itemsizing": "constant",
         "orientation": "h",
         "title": {
          "text": "type"
         },
         "tracegroupgap": 0
        },
        "shapes": [
         {
          "line": {
           "dash": "dash"
          },
          "type": "line",
          "x0": -5,
          "x1": -5,
          "xref": "x",
          "y0": 0,
          "y1": 1,
          "yref": "y domain"
         },
         {
          "line": {
           "dash": "dash"
          },
          "type": "line",
          "x0": 0,
          "x1": 1,
          "xref": "x domain",
          "y0": -5,
          "y1": -5,
          "yref": "y"
         }
        ],
        "template": {
         "data": {
          "bar": [
           {
            "error_x": {
             "color": "#2a3f5f"
            },
            "error_y": {
             "color": "#2a3f5f"
            },
            "marker": {
             "line": {
              "color": "#E5ECF6",
              "width": 0.5
             },
             "pattern": {
              "fillmode": "overlay",
              "size": 10,
              "solidity": 0.2
             }
            },
            "type": "bar"
           }
          ],
          "barpolar": [
           {
            "marker": {
             "line": {
              "color": "#E5ECF6",
              "width": 0.5
             },
             "pattern": {
              "fillmode": "overlay",
              "size": 10,
              "solidity": 0.2
             }
            },
            "type": "barpolar"
           }
          ],
          "carpet": [
           {
            "aaxis": {
             "endlinecolor": "#2a3f5f",
             "gridcolor": "white",
             "linecolor": "white",
             "minorgridcolor": "white",
             "startlinecolor": "#2a3f5f"
            },
            "baxis": {
             "endlinecolor": "#2a3f5f",
             "gridcolor": "white",
             "linecolor": "white",
             "minorgridcolor": "white",
             "startlinecolor": "#2a3f5f"
            },
            "type": "carpet"
           }
          ],
          "choropleth": [
           {
            "colorbar": {
             "outlinewidth": 0,
             "ticks": ""
            },
            "type": "choropleth"
           }
          ],
          "contour": [
           {
            "colorbar": {
             "outlinewidth": 0,
             "ticks": ""
            },
            "colorscale": [
             [
              0,
              "#0d0887"
             ],
             [
              0.1111111111111111,
              "#46039f"
             ],
             [
              0.2222222222222222,
              "#7201a8"
             ],
             [
              0.3333333333333333,
              "#9c179e"
             ],
             [
              0.4444444444444444,
              "#bd3786"
             ],
             [
              0.5555555555555556,
              "#d8576b"
             ],
             [
              0.6666666666666666,
              "#ed7953"
             ],
             [
              0.7777777777777778,
              "#fb9f3a"
             ],
             [
              0.8888888888888888,
              "#fdca26"
             ],
             [
              1,
              "#f0f921"
             ]
            ],
            "type": "contour"
           }
          ],
          "contourcarpet": [
           {
            "colorbar": {
             "outlinewidth": 0,
             "ticks": ""
            },
            "type": "contourcarpet"
           }
          ],
          "heatmap": [
           {
            "colorbar": {
             "outlinewidth": 0,
             "ticks": ""
            },
            "colorscale": [
             [
              0,
              "#0d0887"
             ],
             [
              0.1111111111111111,
              "#46039f"
             ],
             [
              0.2222222222222222,
              "#7201a8"
             ],
             [
              0.3333333333333333,
              "#9c179e"
             ],
             [
              0.4444444444444444,
              "#bd3786"
             ],
             [
              0.5555555555555556,
              "#d8576b"
             ],
             [
              0.6666666666666666,
              "#ed7953"
             ],
             [
              0.7777777777777778,
              "#fb9f3a"
             ],
             [
              0.8888888888888888,
              "#fdca26"
             ],
             [
              1,
              "#f0f921"
             ]
            ],
            "type": "heatmap"
           }
          ],
          "heatmapgl": [
           {
            "colorbar": {
             "outlinewidth": 0,
             "ticks": ""
            },
            "colorscale": [
             [
              0,
              "#0d0887"
             ],
             [
              0.1111111111111111,
              "#46039f"
             ],
             [
              0.2222222222222222,
              "#7201a8"
             ],
             [
              0.3333333333333333,
              "#9c179e"
             ],
             [
              0.4444444444444444,
              "#bd3786"
             ],
             [
              0.5555555555555556,
              "#d8576b"
             ],
             [
              0.6666666666666666,
              "#ed7953"
             ],
             [
              0.7777777777777778,
              "#fb9f3a"
             ],
             [
              0.8888888888888888,
              "#fdca26"
             ],
             [
              1,
              "#f0f921"
             ]
            ],
            "type": "heatmapgl"
           }
          ],
          "histogram": [
           {
            "marker": {
             "pattern": {
              "fillmode": "overlay",
              "size": 10,
              "solidity": 0.2
             }
            },
            "type": "histogram"
           }
          ],
          "histogram2d": [
           {
            "colorbar": {
             "outlinewidth": 0,
             "ticks": ""
            },
            "colorscale": [
             [
              0,
              "#0d0887"
             ],
             [
              0.1111111111111111,
              "#46039f"
             ],
             [
              0.2222222222222222,
              "#7201a8"
             ],
             [
              0.3333333333333333,
              "#9c179e"
             ],
             [
              0.4444444444444444,
              "#bd3786"
             ],
             [
              0.5555555555555556,
              "#d8576b"
             ],
             [
              0.6666666666666666,
              "#ed7953"
             ],
             [
              0.7777777777777778,
              "#fb9f3a"
             ],
             [
              0.8888888888888888,
              "#fdca26"
             ],
             [
              1,
              "#f0f921"
             ]
            ],
            "type": "histogram2d"
           }
          ],
          "histogram2dcontour": [
           {
            "colorbar": {
             "outlinewidth": 0,
             "ticks": ""
            },
            "colorscale": [
             [
              0,
              "#0d0887"
             ],
             [
              0.1111111111111111,
              "#46039f"
             ],
             [
              0.2222222222222222,
              "#7201a8"
             ],
             [
              0.3333333333333333,
              "#9c179e"
             ],
             [
              0.4444444444444444,
              "#bd3786"
             ],
             [
              0.5555555555555556,
              "#d8576b"
             ],
             [
              0.6666666666666666,
              "#ed7953"
             ],
             [
              0.7777777777777778,
              "#fb9f3a"
             ],
             [
              0.8888888888888888,
              "#fdca26"
             ],
             [
              1,
              "#f0f921"
             ]
            ],
            "type": "histogram2dcontour"
           }
          ],
          "mesh3d": [
           {
            "colorbar": {
             "outlinewidth": 0,
             "ticks": ""
            },
            "type": "mesh3d"
           }
          ],
          "parcoords": [
           {
            "line": {
             "colorbar": {
              "outlinewidth": 0,
              "ticks": ""
             }
            },
            "type": "parcoords"
           }
          ],
          "pie": [
           {
            "automargin": true,
            "type": "pie"
           }
          ],
          "scatter": [
           {
            "fillpattern": {
             "fillmode": "overlay",
             "size": 10,
             "solidity": 0.2
            },
            "type": "scatter"
           }
          ],
          "scatter3d": [
           {
            "line": {
             "colorbar": {
              "outlinewidth": 0,
              "ticks": ""
             }
            },
            "marker": {
             "colorbar": {
              "outlinewidth": 0,
              "ticks": ""
             }
            },
            "type": "scatter3d"
           }
          ],
          "scattercarpet": [
           {
            "marker": {
             "colorbar": {
              "outlinewidth": 0,
              "ticks": ""
             }
            },
            "type": "scattercarpet"
           }
          ],
          "scattergeo": [
           {
            "marker": {
             "colorbar": {
              "outlinewidth": 0,
              "ticks": ""
             }
            },
            "type": "scattergeo"
           }
          ],
          "scattergl": [
           {
            "marker": {
             "colorbar": {
              "outlinewidth": 0,
              "ticks": ""
             }
            },
            "type": "scattergl"
           }
          ],
          "scattermapbox": [
           {
            "marker": {
             "colorbar": {
              "outlinewidth": 0,
              "ticks": ""
             }
            },
            "type": "scattermapbox"
           }
          ],
          "scatterpolar": [
           {
            "marker": {
             "colorbar": {
              "outlinewidth": 0,
              "ticks": ""
             }
            },
            "type": "scatterpolar"
           }
          ],
          "scatterpolargl": [
           {
            "marker": {
             "colorbar": {
              "outlinewidth": 0,
              "ticks": ""
             }
            },
            "type": "scatterpolargl"
           }
          ],
          "scatterternary": [
           {
            "marker": {
             "colorbar": {
              "outlinewidth": 0,
              "ticks": ""
             }
            },
            "type": "scatterternary"
           }
          ],
          "surface": [
           {
            "colorbar": {
             "outlinewidth": 0,
             "ticks": ""
            },
            "colorscale": [
             [
              0,
              "#0d0887"
             ],
             [
              0.1111111111111111,
              "#46039f"
             ],
             [
              0.2222222222222222,
              "#7201a8"
             ],
             [
              0.3333333333333333,
              "#9c179e"
             ],
             [
              0.4444444444444444,
              "#bd3786"
             ],
             [
              0.5555555555555556,
              "#d8576b"
             ],
             [
              0.6666666666666666,
              "#ed7953"
             ],
             [
              0.7777777777777778,
              "#fb9f3a"
             ],
             [
              0.8888888888888888,
              "#fdca26"
             ],
             [
              1,
              "#f0f921"
             ]
            ],
            "type": "surface"
           }
          ],
          "table": [
           {
            "cells": {
             "fill": {
              "color": "#EBF0F8"
             },
             "line": {
              "color": "white"
             }
            },
            "header": {
             "fill": {
              "color": "#C8D4E3"
             },
             "line": {
              "color": "white"
             }
            },
            "type": "table"
           }
          ]
         },
         "layout": {
          "annotationdefaults": {
           "arrowcolor": "#2a3f5f",
           "arrowhead": 0,
           "arrowwidth": 1
          },
          "autotypenumbers": "strict",
          "coloraxis": {
           "colorbar": {
            "outlinewidth": 0,
            "ticks": ""
           }
          },
          "colorscale": {
           "diverging": [
            [
             0,
             "#8e0152"
            ],
            [
             0.1,
             "#c51b7d"
            ],
            [
             0.2,
             "#de77ae"
            ],
            [
             0.3,
             "#f1b6da"
            ],
            [
             0.4,
             "#fde0ef"
            ],
            [
             0.5,
             "#f7f7f7"
            ],
            [
             0.6,
             "#e6f5d0"
            ],
            [
             0.7,
             "#b8e186"
            ],
            [
             0.8,
             "#7fbc41"
            ],
            [
             0.9,
             "#4d9221"
            ],
            [
             1,
             "#276419"
            ]
           ],
           "sequential": [
            [
             0,
             "#0d0887"
            ],
            [
             0.1111111111111111,
             "#46039f"
            ],
            [
             0.2222222222222222,
             "#7201a8"
            ],
            [
             0.3333333333333333,
             "#9c179e"
            ],
            [
             0.4444444444444444,
             "#bd3786"
            ],
            [
             0.5555555555555556,
             "#d8576b"
            ],
            [
             0.6666666666666666,
             "#ed7953"
            ],
            [
             0.7777777777777778,
             "#fb9f3a"
            ],
            [
             0.8888888888888888,
             "#fdca26"
            ],
            [
             1,
             "#f0f921"
            ]
           ],
           "sequentialminus": [
            [
             0,
             "#0d0887"
            ],
            [
             0.1111111111111111,
             "#46039f"
            ],
            [
             0.2222222222222222,
             "#7201a8"
            ],
            [
             0.3333333333333333,
             "#9c179e"
            ],
            [
             0.4444444444444444,
             "#bd3786"
            ],
            [
             0.5555555555555556,
             "#d8576b"
            ],
            [
             0.6666666666666666,
             "#ed7953"
            ],
            [
             0.7777777777777778,
             "#fb9f3a"
            ],
            [
             0.8888888888888888,
             "#fdca26"
            ],
            [
             1,
             "#f0f921"
            ]
           ]
          },
          "colorway": [
           "#636efa",
           "#EF553B",
           "#00cc96",
           "#ab63fa",
           "#FFA15A",
           "#19d3f3",
           "#FF6692",
           "#B6E880",
           "#FF97FF",
           "#FECB52"
          ],
          "font": {
           "color": "#2a3f5f"
          },
          "geo": {
           "bgcolor": "white",
           "lakecolor": "white",
           "landcolor": "#E5ECF6",
           "showlakes": true,
           "showland": true,
           "subunitcolor": "white"
          },
          "hoverlabel": {
           "align": "left"
          },
          "hovermode": "closest",
          "mapbox": {
           "style": "light"
          },
          "paper_bgcolor": "white",
          "plot_bgcolor": "#E5ECF6",
          "polar": {
           "angularaxis": {
            "gridcolor": "white",
            "linecolor": "white",
            "ticks": ""
           },
           "bgcolor": "#E5ECF6",
           "radialaxis": {
            "gridcolor": "white",
            "linecolor": "white",
            "ticks": ""
           }
          },
          "scene": {
           "xaxis": {
            "backgroundcolor": "#E5ECF6",
            "gridcolor": "white",
            "gridwidth": 2,
            "linecolor": "white",
            "showbackground": true,
            "ticks": "",
            "zerolinecolor": "white"
           },
           "yaxis": {
            "backgroundcolor": "#E5ECF6",
            "gridcolor": "white",
            "gridwidth": 2,
            "linecolor": "white",
            "showbackground": true,
            "ticks": "",
            "zerolinecolor": "white"
           },
           "zaxis": {
            "backgroundcolor": "#E5ECF6",
            "gridcolor": "white",
            "gridwidth": 2,
            "linecolor": "white",
            "showbackground": true,
            "ticks": "",
            "zerolinecolor": "white"
           }
          },
          "shapedefaults": {
           "line": {
            "color": "#2a3f5f"
           }
          },
          "ternary": {
           "aaxis": {
            "gridcolor": "white",
            "linecolor": "white",
            "ticks": ""
           },
           "baxis": {
            "gridcolor": "white",
            "linecolor": "white",
            "ticks": ""
           },
           "bgcolor": "#E5ECF6",
           "caxis": {
            "gridcolor": "white",
            "linecolor": "white",
            "ticks": ""
           }
          },
          "title": {
           "x": 0.05
          },
          "xaxis": {
           "automargin": true,
           "gridcolor": "white",
           "linecolor": "white",
           "ticks": "",
           "title": {
            "standoff": 15
           },
           "zerolinecolor": "white",
           "zerolinewidth": 2
          },
          "yaxis": {
           "automargin": true,
           "gridcolor": "white",
           "linecolor": "white",
           "ticks": "",
           "title": {
            "standoff": 15
           },
           "zerolinecolor": "white",
           "zerolinewidth": 2
          }
         }
        },
        "title": {
         "text": "by-Event evaluation summary<br><sup>F1(@IoU>0.2)=0.4861 | minimum TP IoU: 0.3801</sup>"
        },
        "xaxis": {
         "anchor": "y",
         "domain": [
          0,
          1
         ],
         "range": [
          -20,
          318
         ],
         "title": {
          "text": "308 ANNOTATIONS | recall(@IoU>0.2)= 0.9968"
         }
        },
        "yaxis": {
         "anchor": "x",
         "domain": [
          0,
          1
         ],
         "range": [
          -20,
          965
         ],
         "title": {
          "text": "955 DETECTIONS | precision(@IoU>0.2)= 0.3215"
         }
        }
       }
      }
     },
     "metadata": {},
     "output_type": "display_data"
    }
   ],
   "source": [
    "annotationPairToGraph(gtAnnotations,processedAnnotations)"
   ]
  }
 ],
 "metadata": {
  "kernelspec": {
   "display_name": "Python 3.10.6 ('venv': venv)",
   "language": "python",
   "name": "python3"
  },
  "language_info": {
   "codemirror_mode": {
    "name": "ipython",
    "version": 3
   },
   "file_extension": ".py",
   "mimetype": "text/x-python",
   "name": "python",
   "nbconvert_exporter": "python",
   "pygments_lexer": "ipython3",
   "version": "3.10.6"
  },
  "orig_nbformat": 4,
  "vscode": {
   "interpreter": {
    "hash": "69eb08d3e713eff25484e90b18c01e15df779e80a0db295f9ddc53faed0455be"
   }
  }
 },
 "nbformat": 4,
 "nbformat_minor": 2
}
