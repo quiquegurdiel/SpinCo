{
 "cells": [
  {
   "attachments": {},
   "cell_type": "markdown",
   "metadata": {},
   "source": [
    "# Validation of experiments - using all spindles, training with all data\n",
    "fistly define the UUID of the experiment to use"
   ]
  },
  {
   "cell_type": "code",
   "execution_count": 1,
   "metadata": {},
   "outputs": [],
   "source": [
    "experimentId=\"a74605bf-c0bb-40f7-9b50-444123efb629\""
   ]
  },
  {
   "cell_type": "markdown",
   "metadata": {},
   "source": [
    "-------------------------------------------------------"
   ]
  },
  {
   "attachments": {},
   "cell_type": "markdown",
   "metadata": {},
   "source": [
    "In this notebook we have some overall properties of the models trained and how they change with the labeling criterium"
   ]
  },
  {
   "cell_type": "code",
   "execution_count": 2,
   "metadata": {},
   "outputs": [],
   "source": [
    "#external libraries\n",
    "import numpy as np\n",
    "import os\n",
    "import matplotlib.pyplot as plt\n",
    "import matplotlib.colors as clt\n",
    "import plotly\n",
    "import plotly.subplots as sb\n",
    "import plotly.express as px\n",
    "import plotly.graph_objects as go\n",
    "import dotenv\n",
    "import pandas as pd\n",
    "import scipy.fft as fft\n",
    "import scipy.signal as sg\n",
    "import scipy.io as sio\n",
    "import pickle as pkl\n",
    "import xgboost as xgb\n",
    "import time\n",
    "import sklearn.metrics as skm\n",
    "\n",
    "#project library\n",
    "from spinco import *\n",
    "\n",
    "#environment variables\n",
    "dotenv.load_dotenv('lab.env')\n",
    "\n",
    "#project variables\n",
    "datapath=os.environ['DATAPATH']\n",
    "cognipath=datapath+\"\\\\COGNITION\"\n",
    "dreamspath=datapath+\"\\\\DREAMS\"\n",
    "masspath=datapath+\"\\\\MASS\"\n"
   ]
  },
  {
   "cell_type": "markdown",
   "metadata": {},
   "source": [
    "## load mass"
   ]
  },
  {
   "cell_type": "code",
   "execution_count": 3,
   "metadata": {},
   "outputs": [],
   "source": [
    "samplerate=200  #Should rethink this"
   ]
  },
  {
   "cell_type": "code",
   "execution_count": 4,
   "metadata": {},
   "outputs": [],
   "source": [
    "annotations, signalsMetadata = loadMASSSpindles(masspath,forceSamplerate=samplerate)"
   ]
  },
  {
   "cell_type": "code",
   "execution_count": 5,
   "metadata": {},
   "outputs": [],
   "source": [
    "#consider to include this in a function\n",
    "minDuration=0.3\n",
    "maxDuration=2.9\n",
    "annotations=annotations[annotations.type=='spindle']\n",
    "annotations=annotations[annotations.duration>minDuration]\n",
    "annotations=annotations[annotations.duration<maxDuration]\n",
    "annotations=annotations.reset_index(drop=True)"
   ]
  },
  {
   "cell_type": "code",
   "execution_count": 6,
   "metadata": {},
   "outputs": [
    {
     "name": "stdout",
     "output_type": "stream",
     "text": [
      "0.011297746428357902\n"
     ]
    }
   ],
   "source": [
    "#check with EDA results (not needed)\n",
    "print(1-len(annotations)/33458)"
   ]
  },
  {
   "cell_type": "code",
   "execution_count": 7,
   "metadata": {},
   "outputs": [
    {
     "data": {
      "text/html": [
       "<div>\n",
       "<style scoped>\n",
       "    .dataframe tbody tr th:only-of-type {\n",
       "        vertical-align: middle;\n",
       "    }\n",
       "\n",
       "    .dataframe tbody tr th {\n",
       "        vertical-align: top;\n",
       "    }\n",
       "\n",
       "    .dataframe thead th {\n",
       "        text-align: right;\n",
       "    }\n",
       "</style>\n",
       "<table border=\"1\" class=\"dataframe\">\n",
       "  <thead>\n",
       "    <tr style=\"text-align: right;\">\n",
       "      <th></th>\n",
       "      <th>type</th>\n",
       "      <th>expert</th>\n",
       "      <th>subjectId</th>\n",
       "      <th>labelerId</th>\n",
       "      <th>startTime</th>\n",
       "      <th>duration</th>\n",
       "      <th>samplerate</th>\n",
       "      <th>stopTime</th>\n",
       "      <th>startInd</th>\n",
       "      <th>stopInd</th>\n",
       "    </tr>\n",
       "  </thead>\n",
       "  <tbody>\n",
       "    <tr>\n",
       "      <th>0</th>\n",
       "      <td>spindle</td>\n",
       "      <td>E1</td>\n",
       "      <td>0001</td>\n",
       "      <td>0001</td>\n",
       "      <td>888.327805</td>\n",
       "      <td>0.640579</td>\n",
       "      <td>200</td>\n",
       "      <td>888.968384</td>\n",
       "      <td>177666</td>\n",
       "      <td>177794</td>\n",
       "    </tr>\n",
       "    <tr>\n",
       "      <th>1</th>\n",
       "      <td>spindle</td>\n",
       "      <td>E1</td>\n",
       "      <td>0001</td>\n",
       "      <td>0001</td>\n",
       "      <td>905.758061</td>\n",
       "      <td>0.578094</td>\n",
       "      <td>200</td>\n",
       "      <td>906.336155</td>\n",
       "      <td>181152</td>\n",
       "      <td>181267</td>\n",
       "    </tr>\n",
       "    <tr>\n",
       "      <th>2</th>\n",
       "      <td>spindle</td>\n",
       "      <td>E1</td>\n",
       "      <td>0001</td>\n",
       "      <td>0001</td>\n",
       "      <td>917.731574</td>\n",
       "      <td>0.847603</td>\n",
       "      <td>200</td>\n",
       "      <td>918.579177</td>\n",
       "      <td>183546</td>\n",
       "      <td>183716</td>\n",
       "    </tr>\n",
       "    <tr>\n",
       "      <th>3</th>\n",
       "      <td>spindle</td>\n",
       "      <td>E1</td>\n",
       "      <td>0001</td>\n",
       "      <td>0001</td>\n",
       "      <td>922.078189</td>\n",
       "      <td>0.878845</td>\n",
       "      <td>200</td>\n",
       "      <td>922.957034</td>\n",
       "      <td>184416</td>\n",
       "      <td>184591</td>\n",
       "    </tr>\n",
       "    <tr>\n",
       "      <th>4</th>\n",
       "      <td>spindle</td>\n",
       "      <td>E1</td>\n",
       "      <td>0001</td>\n",
       "      <td>0001</td>\n",
       "      <td>939.055445</td>\n",
       "      <td>0.757767</td>\n",
       "      <td>200</td>\n",
       "      <td>939.813212</td>\n",
       "      <td>187811</td>\n",
       "      <td>187963</td>\n",
       "    </tr>\n",
       "  </tbody>\n",
       "</table>\n",
       "</div>"
      ],
      "text/plain": [
       "      type expert subjectId labelerId   startTime  duration  samplerate  \\\n",
       "0  spindle     E1      0001      0001  888.327805  0.640579         200   \n",
       "1  spindle     E1      0001      0001  905.758061  0.578094         200   \n",
       "2  spindle     E1      0001      0001  917.731574  0.847603         200   \n",
       "3  spindle     E1      0001      0001  922.078189  0.878845         200   \n",
       "4  spindle     E1      0001      0001  939.055445  0.757767         200   \n",
       "\n",
       "     stopTime  startInd  stopInd  \n",
       "0  888.968384    177666   177794  \n",
       "1  906.336155    181152   181267  \n",
       "2  918.579177    183546   183716  \n",
       "3  922.957034    184416   184591  \n",
       "4  939.813212    187811   187963  "
      ]
     },
     "execution_count": 7,
     "metadata": {},
     "output_type": "execute_result"
    }
   ],
   "source": [
    "annotations.head()"
   ]
  },
  {
   "cell_type": "code",
   "execution_count": 8,
   "metadata": {},
   "outputs": [
    {
     "data": {
      "text/html": [
       "<div>\n",
       "<style scoped>\n",
       "    .dataframe tbody tr th:only-of-type {\n",
       "        vertical-align: middle;\n",
       "    }\n",
       "\n",
       "    .dataframe tbody tr th {\n",
       "        vertical-align: top;\n",
       "    }\n",
       "\n",
       "    .dataframe thead th {\n",
       "        text-align: right;\n",
       "    }\n",
       "</style>\n",
       "<table border=\"1\" class=\"dataframe\">\n",
       "  <thead>\n",
       "    <tr style=\"text-align: right;\">\n",
       "      <th></th>\n",
       "      <th>subjectId</th>\n",
       "      <th>file</th>\n",
       "      <th>channel</th>\n",
       "      <th>duration</th>\n",
       "      <th>samplerate</th>\n",
       "      <th>isOriginalSamplerate</th>\n",
       "      <th>database</th>\n",
       "    </tr>\n",
       "  </thead>\n",
       "  <tbody>\n",
       "    <tr>\n",
       "      <th>0</th>\n",
       "      <td>0001</td>\n",
       "      <td>MASS_0001.pkl</td>\n",
       "      <td>C3-CLE</td>\n",
       "      <td>28956.0</td>\n",
       "      <td>200</td>\n",
       "      <td>False</td>\n",
       "      <td>MASS</td>\n",
       "    </tr>\n",
       "    <tr>\n",
       "      <th>1</th>\n",
       "      <td>0002</td>\n",
       "      <td>MASS_0002.pkl</td>\n",
       "      <td>C3-CLE</td>\n",
       "      <td>35016.0</td>\n",
       "      <td>200</td>\n",
       "      <td>False</td>\n",
       "      <td>MASS</td>\n",
       "    </tr>\n",
       "    <tr>\n",
       "      <th>2</th>\n",
       "      <td>0003</td>\n",
       "      <td>MASS_0003.pkl</td>\n",
       "      <td>C3-CLE</td>\n",
       "      <td>36760.0</td>\n",
       "      <td>200</td>\n",
       "      <td>False</td>\n",
       "      <td>MASS</td>\n",
       "    </tr>\n",
       "    <tr>\n",
       "      <th>3</th>\n",
       "      <td>0004</td>\n",
       "      <td>MASS_0004.pkl</td>\n",
       "      <td>C3-CLE</td>\n",
       "      <td>28004.0</td>\n",
       "      <td>200</td>\n",
       "      <td>False</td>\n",
       "      <td>MASS</td>\n",
       "    </tr>\n",
       "    <tr>\n",
       "      <th>4</th>\n",
       "      <td>0005</td>\n",
       "      <td>MASS_0005.pkl</td>\n",
       "      <td>C3-CLE</td>\n",
       "      <td>31244.0</td>\n",
       "      <td>200</td>\n",
       "      <td>False</td>\n",
       "      <td>MASS</td>\n",
       "    </tr>\n",
       "  </tbody>\n",
       "</table>\n",
       "</div>"
      ],
      "text/plain": [
       "  subjectId           file channel  duration  samplerate  \\\n",
       "0      0001  MASS_0001.pkl  C3-CLE   28956.0         200   \n",
       "1      0002  MASS_0002.pkl  C3-CLE   35016.0         200   \n",
       "2      0003  MASS_0003.pkl  C3-CLE   36760.0         200   \n",
       "3      0004  MASS_0004.pkl  C3-CLE   28004.0         200   \n",
       "4      0005  MASS_0005.pkl  C3-CLE   31244.0         200   \n",
       "\n",
       "   isOriginalSamplerate database  \n",
       "0                 False     MASS  \n",
       "1                 False     MASS  \n",
       "2                 False     MASS  \n",
       "3                 False     MASS  \n",
       "4                 False     MASS  "
      ]
     },
     "execution_count": 8,
     "metadata": {},
     "output_type": "execute_result"
    }
   ],
   "source": [
    "signalsMetadata.head()"
   ]
  },
  {
   "cell_type": "markdown",
   "metadata": {},
   "source": [
    "## Load experiment results"
   ]
  },
  {
   "cell_type": "code",
   "execution_count": 9,
   "metadata": {},
   "outputs": [],
   "source": [
    "experimentModels, featureSelection = loadExperiment(experimentId,datapath)"
   ]
  },
  {
   "cell_type": "code",
   "execution_count": 10,
   "metadata": {},
   "outputs": [
    {
     "data": {
      "text/html": [
       "<div>\n",
       "<style scoped>\n",
       "    .dataframe tbody tr th:only-of-type {\n",
       "        vertical-align: middle;\n",
       "    }\n",
       "\n",
       "    .dataframe tbody tr th {\n",
       "        vertical-align: top;\n",
       "    }\n",
       "\n",
       "    .dataframe thead th {\n",
       "        text-align: right;\n",
       "    }\n",
       "</style>\n",
       "<table border=\"1\" class=\"dataframe\">\n",
       "  <thead>\n",
       "    <tr style=\"text-align: right;\">\n",
       "      <th></th>\n",
       "      <th>criteriumId</th>\n",
       "      <th>criteriumName</th>\n",
       "      <th>labelerIdList</th>\n",
       "      <th>train</th>\n",
       "      <th>val</th>\n",
       "      <th>test</th>\n",
       "      <th>modelId</th>\n",
       "      <th>spindleTimeRate</th>\n",
       "    </tr>\n",
       "  </thead>\n",
       "  <tbody>\n",
       "    <tr>\n",
       "      <th>0</th>\n",
       "      <td>0001</td>\n",
       "      <td>E1</td>\n",
       "      <td>[0001]</td>\n",
       "      <td>[0001, 0003, 0005, 0007, 0010, 0014, 0017, 0019]</td>\n",
       "      <td>[0011, 0018, 0009]</td>\n",
       "      <td>[0002, 0006, 0012, 0013]</td>\n",
       "      <td>afd523c8-e3bf-44e0-a0c7-85a7b0d747e4</td>\n",
       "      <td>0.016462</td>\n",
       "    </tr>\n",
       "    <tr>\n",
       "      <th>1</th>\n",
       "      <td>0001</td>\n",
       "      <td>E1</td>\n",
       "      <td>[0001]</td>\n",
       "      <td>[0001, 0007, 0009, 0010, 0014, 0017, 0018, 0019]</td>\n",
       "      <td>[0011, 0003, 0005]</td>\n",
       "      <td>[0002, 0006, 0012, 0013]</td>\n",
       "      <td>d90313d0-46a5-4957-b4bd-1c2e66388a31</td>\n",
       "      <td>0.023280</td>\n",
       "    </tr>\n",
       "    <tr>\n",
       "      <th>2</th>\n",
       "      <td>0001</td>\n",
       "      <td>E1</td>\n",
       "      <td>[0001]</td>\n",
       "      <td>[0003, 0007, 0010, 0011, 0014, 0017, 0018, 0019]</td>\n",
       "      <td>[0009, 0005, 0001]</td>\n",
       "      <td>[0002, 0006, 0012, 0013]</td>\n",
       "      <td>825f07e0-9a06-44aa-bb72-93cdd7d64ca2</td>\n",
       "      <td>0.018776</td>\n",
       "    </tr>\n",
       "    <tr>\n",
       "      <th>3</th>\n",
       "      <td>0001</td>\n",
       "      <td>E1</td>\n",
       "      <td>[0001]</td>\n",
       "      <td>[0003, 0005, 0007, 0009, 0010, 0011, 0017, 0019]</td>\n",
       "      <td>[0001, 0018, 0014]</td>\n",
       "      <td>[0002, 0006, 0012, 0013]</td>\n",
       "      <td>0b4afad9-a6fb-43ae-8f49-a5d65994e109</td>\n",
       "      <td>0.016077</td>\n",
       "    </tr>\n",
       "    <tr>\n",
       "      <th>4</th>\n",
       "      <td>0001</td>\n",
       "      <td>E1</td>\n",
       "      <td>[0001]</td>\n",
       "      <td>[0001, 0003, 0005, 0007, 0010, 0014, 0018, 0019]</td>\n",
       "      <td>[0009, 0011, 0017]</td>\n",
       "      <td>[0002, 0006, 0012, 0013]</td>\n",
       "      <td>bcaeb868-00a0-4038-bc73-fb5d86ea09ee</td>\n",
       "      <td>0.018950</td>\n",
       "    </tr>\n",
       "    <tr>\n",
       "      <th>5</th>\n",
       "      <td>0001</td>\n",
       "      <td>E1</td>\n",
       "      <td>[0001]</td>\n",
       "      <td>[0001, 0003, 0007, 0009, 0014, 0017, 0018, 0019]</td>\n",
       "      <td>[0011, 0010, 0005]</td>\n",
       "      <td>[0002, 0006, 0012, 0013]</td>\n",
       "      <td>00a66953-1236-49a2-bbdc-78c361fa15f0</td>\n",
       "      <td>0.019888</td>\n",
       "    </tr>\n",
       "    <tr>\n",
       "      <th>6</th>\n",
       "      <td>0001</td>\n",
       "      <td>E1</td>\n",
       "      <td>[0001]</td>\n",
       "      <td>[0001, 0005, 0007, 0010, 0011, 0014, 0017, 0019]</td>\n",
       "      <td>[0018, 0003, 0009]</td>\n",
       "      <td>[0002, 0006, 0012, 0013]</td>\n",
       "      <td>adcf962a-53df-4cb8-ae1f-7a94e2ad3e0c</td>\n",
       "      <td>0.019369</td>\n",
       "    </tr>\n",
       "    <tr>\n",
       "      <th>7</th>\n",
       "      <td>0001</td>\n",
       "      <td>E1</td>\n",
       "      <td>[0001]</td>\n",
       "      <td>[0001, 0003, 0005, 0007, 0009, 0014, 0018, 0019]</td>\n",
       "      <td>[0010, 0011, 0017]</td>\n",
       "      <td>[0002, 0006, 0012, 0013]</td>\n",
       "      <td>21c95c6e-be0b-49bb-a43b-807238a1b12c</td>\n",
       "      <td>0.019076</td>\n",
       "    </tr>\n",
       "    <tr>\n",
       "      <th>8</th>\n",
       "      <td>0001</td>\n",
       "      <td>E1</td>\n",
       "      <td>[0001]</td>\n",
       "      <td>[0003, 0005, 0007, 0009, 0011, 0014, 0017, 0018]</td>\n",
       "      <td>[0001, 0019, 0010]</td>\n",
       "      <td>[0002, 0006, 0012, 0013]</td>\n",
       "      <td>216f16f3-c2d8-4735-bf51-0daed207c25e</td>\n",
       "      <td>0.018514</td>\n",
       "    </tr>\n",
       "    <tr>\n",
       "      <th>9</th>\n",
       "      <td>0001</td>\n",
       "      <td>E1</td>\n",
       "      <td>[0001]</td>\n",
       "      <td>[0001, 0003, 0005, 0007, 0009, 0010, 0011, 0018]</td>\n",
       "      <td>[0017, 0019, 0014]</td>\n",
       "      <td>[0002, 0006, 0012, 0013]</td>\n",
       "      <td>09cbec08-c8af-49fb-aabd-4702bef80265</td>\n",
       "      <td>0.020993</td>\n",
       "    </tr>\n",
       "    <tr>\n",
       "      <th>10</th>\n",
       "      <td>0002</td>\n",
       "      <td>E2</td>\n",
       "      <td>[0002]</td>\n",
       "      <td>[0001, 0003, 0005, 0007, 0010, 0014, 0017, 0019]</td>\n",
       "      <td>[0011, 0018, 0009]</td>\n",
       "      <td>[0002, 0006, 0012, 0013]</td>\n",
       "      <td>1623c979-486c-4f45-ba54-dbbac3770588</td>\n",
       "      <td>0.057678</td>\n",
       "    </tr>\n",
       "    <tr>\n",
       "      <th>11</th>\n",
       "      <td>0002</td>\n",
       "      <td>E2</td>\n",
       "      <td>[0002]</td>\n",
       "      <td>[0001, 0007, 0009, 0010, 0014, 0017, 0018, 0019]</td>\n",
       "      <td>[0011, 0003, 0005]</td>\n",
       "      <td>[0002, 0006, 0012, 0013]</td>\n",
       "      <td>f8abeec1-7d46-4573-8a01-7827b8584472</td>\n",
       "      <td>0.069221</td>\n",
       "    </tr>\n",
       "    <tr>\n",
       "      <th>12</th>\n",
       "      <td>0002</td>\n",
       "      <td>E2</td>\n",
       "      <td>[0002]</td>\n",
       "      <td>[0003, 0007, 0010, 0011, 0014, 0017, 0018, 0019]</td>\n",
       "      <td>[0009, 0005, 0001]</td>\n",
       "      <td>[0002, 0006, 0012, 0013]</td>\n",
       "      <td>c556cd55-5f8b-420c-b6b2-0ca323bee5df</td>\n",
       "      <td>0.057084</td>\n",
       "    </tr>\n",
       "    <tr>\n",
       "      <th>13</th>\n",
       "      <td>0002</td>\n",
       "      <td>E2</td>\n",
       "      <td>[0002]</td>\n",
       "      <td>[0003, 0005, 0007, 0009, 0010, 0011, 0017, 0019]</td>\n",
       "      <td>[0001, 0018, 0014]</td>\n",
       "      <td>[0002, 0006, 0012, 0013]</td>\n",
       "      <td>b9ca9323-c013-423a-8b12-a893e0a8be97</td>\n",
       "      <td>0.054695</td>\n",
       "    </tr>\n",
       "    <tr>\n",
       "      <th>14</th>\n",
       "      <td>0002</td>\n",
       "      <td>E2</td>\n",
       "      <td>[0002]</td>\n",
       "      <td>[0001, 0003, 0005, 0007, 0010, 0014, 0018, 0019]</td>\n",
       "      <td>[0009, 0011, 0017]</td>\n",
       "      <td>[0002, 0006, 0012, 0013]</td>\n",
       "      <td>e31d0f92-1914-4bb5-9156-f9101fe1307c</td>\n",
       "      <td>0.057739</td>\n",
       "    </tr>\n",
       "    <tr>\n",
       "      <th>15</th>\n",
       "      <td>0002</td>\n",
       "      <td>E2</td>\n",
       "      <td>[0002]</td>\n",
       "      <td>[0001, 0003, 0007, 0009, 0014, 0017, 0018, 0019]</td>\n",
       "      <td>[0011, 0010, 0005]</td>\n",
       "      <td>[0002, 0006, 0012, 0013]</td>\n",
       "      <td>6fd86953-d3aa-4c9c-8069-b22b951dce3f</td>\n",
       "      <td>0.058764</td>\n",
       "    </tr>\n",
       "    <tr>\n",
       "      <th>16</th>\n",
       "      <td>0002</td>\n",
       "      <td>E2</td>\n",
       "      <td>[0002]</td>\n",
       "      <td>[0001, 0005, 0007, 0010, 0011, 0014, 0017, 0019]</td>\n",
       "      <td>[0018, 0003, 0009]</td>\n",
       "      <td>[0002, 0006, 0012, 0013]</td>\n",
       "      <td>87913851-d47b-4963-b2fa-1c65d7aec5a1</td>\n",
       "      <td>0.066493</td>\n",
       "    </tr>\n",
       "    <tr>\n",
       "      <th>17</th>\n",
       "      <td>0002</td>\n",
       "      <td>E2</td>\n",
       "      <td>[0002]</td>\n",
       "      <td>[0001, 0003, 0005, 0007, 0009, 0014, 0018, 0019]</td>\n",
       "      <td>[0010, 0011, 0017]</td>\n",
       "      <td>[0002, 0006, 0012, 0013]</td>\n",
       "      <td>0f0da0b8-d512-47b2-808a-c92b1d073468</td>\n",
       "      <td>0.056135</td>\n",
       "    </tr>\n",
       "    <tr>\n",
       "      <th>18</th>\n",
       "      <td>0002</td>\n",
       "      <td>E2</td>\n",
       "      <td>[0002]</td>\n",
       "      <td>[0003, 0005, 0007, 0009, 0011, 0014, 0017, 0018]</td>\n",
       "      <td>[0001, 0019, 0010]</td>\n",
       "      <td>[0002, 0006, 0012, 0013]</td>\n",
       "      <td>006d0918-7072-4365-953e-4b399728048d</td>\n",
       "      <td>0.054294</td>\n",
       "    </tr>\n",
       "    <tr>\n",
       "      <th>19</th>\n",
       "      <td>0002</td>\n",
       "      <td>E2</td>\n",
       "      <td>[0002]</td>\n",
       "      <td>[0001, 0003, 0005, 0007, 0009, 0010, 0011, 0018]</td>\n",
       "      <td>[0017, 0019, 0014]</td>\n",
       "      <td>[0002, 0006, 0012, 0013]</td>\n",
       "      <td>ca54dd96-c49f-4680-a78d-2aabf3059e5c</td>\n",
       "      <td>0.061666</td>\n",
       "    </tr>\n",
       "    <tr>\n",
       "      <th>20</th>\n",
       "      <td>0003</td>\n",
       "      <td>union</td>\n",
       "      <td>[0001, 0002]</td>\n",
       "      <td>[0001, 0003, 0005, 0007, 0010, 0014, 0017, 0019]</td>\n",
       "      <td>[0011, 0018, 0009]</td>\n",
       "      <td>[0002, 0006, 0012, 0013]</td>\n",
       "      <td>835a313d-abb5-4f4a-82ce-8b3cdb9a48ef</td>\n",
       "      <td>0.058738</td>\n",
       "    </tr>\n",
       "    <tr>\n",
       "      <th>21</th>\n",
       "      <td>0003</td>\n",
       "      <td>union</td>\n",
       "      <td>[0001, 0002]</td>\n",
       "      <td>[0001, 0007, 0009, 0010, 0014, 0017, 0018, 0019]</td>\n",
       "      <td>[0011, 0003, 0005]</td>\n",
       "      <td>[0002, 0006, 0012, 0013]</td>\n",
       "      <td>00c51021-c8d3-44e7-bbdf-aad9dd1df14a</td>\n",
       "      <td>0.071169</td>\n",
       "    </tr>\n",
       "    <tr>\n",
       "      <th>22</th>\n",
       "      <td>0003</td>\n",
       "      <td>union</td>\n",
       "      <td>[0001, 0002]</td>\n",
       "      <td>[0003, 0007, 0010, 0011, 0014, 0017, 0018, 0019]</td>\n",
       "      <td>[0009, 0005, 0001]</td>\n",
       "      <td>[0002, 0006, 0012, 0013]</td>\n",
       "      <td>06492559-e944-471d-9f30-f65532aadf0a</td>\n",
       "      <td>0.058822</td>\n",
       "    </tr>\n",
       "    <tr>\n",
       "      <th>23</th>\n",
       "      <td>0003</td>\n",
       "      <td>union</td>\n",
       "      <td>[0001, 0002]</td>\n",
       "      <td>[0003, 0005, 0007, 0009, 0010, 0011, 0017, 0019]</td>\n",
       "      <td>[0001, 0018, 0014]</td>\n",
       "      <td>[0002, 0006, 0012, 0013]</td>\n",
       "      <td>f2602c9a-75aa-4382-abf2-333af911d6b4</td>\n",
       "      <td>0.055834</td>\n",
       "    </tr>\n",
       "    <tr>\n",
       "      <th>24</th>\n",
       "      <td>0003</td>\n",
       "      <td>union</td>\n",
       "      <td>[0001, 0002]</td>\n",
       "      <td>[0001, 0003, 0005, 0007, 0010, 0014, 0018, 0019]</td>\n",
       "      <td>[0009, 0011, 0017]</td>\n",
       "      <td>[0002, 0006, 0012, 0013]</td>\n",
       "      <td>4be8081a-30cb-4d01-bb52-ff3d4b49bbd2</td>\n",
       "      <td>0.059371</td>\n",
       "    </tr>\n",
       "    <tr>\n",
       "      <th>25</th>\n",
       "      <td>0003</td>\n",
       "      <td>union</td>\n",
       "      <td>[0001, 0002]</td>\n",
       "      <td>[0001, 0003, 0007, 0009, 0014, 0017, 0018, 0019]</td>\n",
       "      <td>[0011, 0010, 0005]</td>\n",
       "      <td>[0002, 0006, 0012, 0013]</td>\n",
       "      <td>7116bde1-d77d-40c1-a7cc-c2bdc6af27f2</td>\n",
       "      <td>0.060518</td>\n",
       "    </tr>\n",
       "    <tr>\n",
       "      <th>26</th>\n",
       "      <td>0003</td>\n",
       "      <td>union</td>\n",
       "      <td>[0001, 0002]</td>\n",
       "      <td>[0001, 0005, 0007, 0010, 0011, 0014, 0017, 0019]</td>\n",
       "      <td>[0018, 0003, 0009]</td>\n",
       "      <td>[0002, 0006, 0012, 0013]</td>\n",
       "      <td>27ebbfd3-d459-4c45-bf65-d60f56afdd00</td>\n",
       "      <td>0.067704</td>\n",
       "    </tr>\n",
       "    <tr>\n",
       "      <th>27</th>\n",
       "      <td>0003</td>\n",
       "      <td>union</td>\n",
       "      <td>[0001, 0002]</td>\n",
       "      <td>[0001, 0003, 0005, 0007, 0009, 0014, 0018, 0019]</td>\n",
       "      <td>[0010, 0011, 0017]</td>\n",
       "      <td>[0002, 0006, 0012, 0013]</td>\n",
       "      <td>a0a68a3c-5240-4737-b0a5-7ae5d6a6c873</td>\n",
       "      <td>0.057834</td>\n",
       "    </tr>\n",
       "    <tr>\n",
       "      <th>28</th>\n",
       "      <td>0003</td>\n",
       "      <td>union</td>\n",
       "      <td>[0001, 0002]</td>\n",
       "      <td>[0003, 0005, 0007, 0009, 0011, 0014, 0017, 0018]</td>\n",
       "      <td>[0001, 0019, 0010]</td>\n",
       "      <td>[0002, 0006, 0012, 0013]</td>\n",
       "      <td>779e6dad-582e-45e3-85c0-8fd31368a98c</td>\n",
       "      <td>0.056071</td>\n",
       "    </tr>\n",
       "    <tr>\n",
       "      <th>29</th>\n",
       "      <td>0003</td>\n",
       "      <td>union</td>\n",
       "      <td>[0001, 0002]</td>\n",
       "      <td>[0001, 0003, 0005, 0007, 0009, 0010, 0011, 0018]</td>\n",
       "      <td>[0017, 0019, 0014]</td>\n",
       "      <td>[0002, 0006, 0012, 0013]</td>\n",
       "      <td>ff520954-f5f8-40cf-a6d9-4ccfb90c53be</td>\n",
       "      <td>0.063421</td>\n",
       "    </tr>\n",
       "  </tbody>\n",
       "</table>\n",
       "</div>"
      ],
      "text/plain": [
       "   criteriumId criteriumName labelerIdList  \\\n",
       "0         0001            E1        [0001]   \n",
       "1         0001            E1        [0001]   \n",
       "2         0001            E1        [0001]   \n",
       "3         0001            E1        [0001]   \n",
       "4         0001            E1        [0001]   \n",
       "5         0001            E1        [0001]   \n",
       "6         0001            E1        [0001]   \n",
       "7         0001            E1        [0001]   \n",
       "8         0001            E1        [0001]   \n",
       "9         0001            E1        [0001]   \n",
       "10        0002            E2        [0002]   \n",
       "11        0002            E2        [0002]   \n",
       "12        0002            E2        [0002]   \n",
       "13        0002            E2        [0002]   \n",
       "14        0002            E2        [0002]   \n",
       "15        0002            E2        [0002]   \n",
       "16        0002            E2        [0002]   \n",
       "17        0002            E2        [0002]   \n",
       "18        0002            E2        [0002]   \n",
       "19        0002            E2        [0002]   \n",
       "20        0003         union  [0001, 0002]   \n",
       "21        0003         union  [0001, 0002]   \n",
       "22        0003         union  [0001, 0002]   \n",
       "23        0003         union  [0001, 0002]   \n",
       "24        0003         union  [0001, 0002]   \n",
       "25        0003         union  [0001, 0002]   \n",
       "26        0003         union  [0001, 0002]   \n",
       "27        0003         union  [0001, 0002]   \n",
       "28        0003         union  [0001, 0002]   \n",
       "29        0003         union  [0001, 0002]   \n",
       "\n",
       "                                               train                 val  \\\n",
       "0   [0001, 0003, 0005, 0007, 0010, 0014, 0017, 0019]  [0011, 0018, 0009]   \n",
       "1   [0001, 0007, 0009, 0010, 0014, 0017, 0018, 0019]  [0011, 0003, 0005]   \n",
       "2   [0003, 0007, 0010, 0011, 0014, 0017, 0018, 0019]  [0009, 0005, 0001]   \n",
       "3   [0003, 0005, 0007, 0009, 0010, 0011, 0017, 0019]  [0001, 0018, 0014]   \n",
       "4   [0001, 0003, 0005, 0007, 0010, 0014, 0018, 0019]  [0009, 0011, 0017]   \n",
       "5   [0001, 0003, 0007, 0009, 0014, 0017, 0018, 0019]  [0011, 0010, 0005]   \n",
       "6   [0001, 0005, 0007, 0010, 0011, 0014, 0017, 0019]  [0018, 0003, 0009]   \n",
       "7   [0001, 0003, 0005, 0007, 0009, 0014, 0018, 0019]  [0010, 0011, 0017]   \n",
       "8   [0003, 0005, 0007, 0009, 0011, 0014, 0017, 0018]  [0001, 0019, 0010]   \n",
       "9   [0001, 0003, 0005, 0007, 0009, 0010, 0011, 0018]  [0017, 0019, 0014]   \n",
       "10  [0001, 0003, 0005, 0007, 0010, 0014, 0017, 0019]  [0011, 0018, 0009]   \n",
       "11  [0001, 0007, 0009, 0010, 0014, 0017, 0018, 0019]  [0011, 0003, 0005]   \n",
       "12  [0003, 0007, 0010, 0011, 0014, 0017, 0018, 0019]  [0009, 0005, 0001]   \n",
       "13  [0003, 0005, 0007, 0009, 0010, 0011, 0017, 0019]  [0001, 0018, 0014]   \n",
       "14  [0001, 0003, 0005, 0007, 0010, 0014, 0018, 0019]  [0009, 0011, 0017]   \n",
       "15  [0001, 0003, 0007, 0009, 0014, 0017, 0018, 0019]  [0011, 0010, 0005]   \n",
       "16  [0001, 0005, 0007, 0010, 0011, 0014, 0017, 0019]  [0018, 0003, 0009]   \n",
       "17  [0001, 0003, 0005, 0007, 0009, 0014, 0018, 0019]  [0010, 0011, 0017]   \n",
       "18  [0003, 0005, 0007, 0009, 0011, 0014, 0017, 0018]  [0001, 0019, 0010]   \n",
       "19  [0001, 0003, 0005, 0007, 0009, 0010, 0011, 0018]  [0017, 0019, 0014]   \n",
       "20  [0001, 0003, 0005, 0007, 0010, 0014, 0017, 0019]  [0011, 0018, 0009]   \n",
       "21  [0001, 0007, 0009, 0010, 0014, 0017, 0018, 0019]  [0011, 0003, 0005]   \n",
       "22  [0003, 0007, 0010, 0011, 0014, 0017, 0018, 0019]  [0009, 0005, 0001]   \n",
       "23  [0003, 0005, 0007, 0009, 0010, 0011, 0017, 0019]  [0001, 0018, 0014]   \n",
       "24  [0001, 0003, 0005, 0007, 0010, 0014, 0018, 0019]  [0009, 0011, 0017]   \n",
       "25  [0001, 0003, 0007, 0009, 0014, 0017, 0018, 0019]  [0011, 0010, 0005]   \n",
       "26  [0001, 0005, 0007, 0010, 0011, 0014, 0017, 0019]  [0018, 0003, 0009]   \n",
       "27  [0001, 0003, 0005, 0007, 0009, 0014, 0018, 0019]  [0010, 0011, 0017]   \n",
       "28  [0003, 0005, 0007, 0009, 0011, 0014, 0017, 0018]  [0001, 0019, 0010]   \n",
       "29  [0001, 0003, 0005, 0007, 0009, 0010, 0011, 0018]  [0017, 0019, 0014]   \n",
       "\n",
       "                        test                               modelId  \\\n",
       "0   [0002, 0006, 0012, 0013]  afd523c8-e3bf-44e0-a0c7-85a7b0d747e4   \n",
       "1   [0002, 0006, 0012, 0013]  d90313d0-46a5-4957-b4bd-1c2e66388a31   \n",
       "2   [0002, 0006, 0012, 0013]  825f07e0-9a06-44aa-bb72-93cdd7d64ca2   \n",
       "3   [0002, 0006, 0012, 0013]  0b4afad9-a6fb-43ae-8f49-a5d65994e109   \n",
       "4   [0002, 0006, 0012, 0013]  bcaeb868-00a0-4038-bc73-fb5d86ea09ee   \n",
       "5   [0002, 0006, 0012, 0013]  00a66953-1236-49a2-bbdc-78c361fa15f0   \n",
       "6   [0002, 0006, 0012, 0013]  adcf962a-53df-4cb8-ae1f-7a94e2ad3e0c   \n",
       "7   [0002, 0006, 0012, 0013]  21c95c6e-be0b-49bb-a43b-807238a1b12c   \n",
       "8   [0002, 0006, 0012, 0013]  216f16f3-c2d8-4735-bf51-0daed207c25e   \n",
       "9   [0002, 0006, 0012, 0013]  09cbec08-c8af-49fb-aabd-4702bef80265   \n",
       "10  [0002, 0006, 0012, 0013]  1623c979-486c-4f45-ba54-dbbac3770588   \n",
       "11  [0002, 0006, 0012, 0013]  f8abeec1-7d46-4573-8a01-7827b8584472   \n",
       "12  [0002, 0006, 0012, 0013]  c556cd55-5f8b-420c-b6b2-0ca323bee5df   \n",
       "13  [0002, 0006, 0012, 0013]  b9ca9323-c013-423a-8b12-a893e0a8be97   \n",
       "14  [0002, 0006, 0012, 0013]  e31d0f92-1914-4bb5-9156-f9101fe1307c   \n",
       "15  [0002, 0006, 0012, 0013]  6fd86953-d3aa-4c9c-8069-b22b951dce3f   \n",
       "16  [0002, 0006, 0012, 0013]  87913851-d47b-4963-b2fa-1c65d7aec5a1   \n",
       "17  [0002, 0006, 0012, 0013]  0f0da0b8-d512-47b2-808a-c92b1d073468   \n",
       "18  [0002, 0006, 0012, 0013]  006d0918-7072-4365-953e-4b399728048d   \n",
       "19  [0002, 0006, 0012, 0013]  ca54dd96-c49f-4680-a78d-2aabf3059e5c   \n",
       "20  [0002, 0006, 0012, 0013]  835a313d-abb5-4f4a-82ce-8b3cdb9a48ef   \n",
       "21  [0002, 0006, 0012, 0013]  00c51021-c8d3-44e7-bbdf-aad9dd1df14a   \n",
       "22  [0002, 0006, 0012, 0013]  06492559-e944-471d-9f30-f65532aadf0a   \n",
       "23  [0002, 0006, 0012, 0013]  f2602c9a-75aa-4382-abf2-333af911d6b4   \n",
       "24  [0002, 0006, 0012, 0013]  4be8081a-30cb-4d01-bb52-ff3d4b49bbd2   \n",
       "25  [0002, 0006, 0012, 0013]  7116bde1-d77d-40c1-a7cc-c2bdc6af27f2   \n",
       "26  [0002, 0006, 0012, 0013]  27ebbfd3-d459-4c45-bf65-d60f56afdd00   \n",
       "27  [0002, 0006, 0012, 0013]  a0a68a3c-5240-4737-b0a5-7ae5d6a6c873   \n",
       "28  [0002, 0006, 0012, 0013]  779e6dad-582e-45e3-85c0-8fd31368a98c   \n",
       "29  [0002, 0006, 0012, 0013]  ff520954-f5f8-40cf-a6d9-4ccfb90c53be   \n",
       "\n",
       "    spindleTimeRate  \n",
       "0          0.016462  \n",
       "1          0.023280  \n",
       "2          0.018776  \n",
       "3          0.016077  \n",
       "4          0.018950  \n",
       "5          0.019888  \n",
       "6          0.019369  \n",
       "7          0.019076  \n",
       "8          0.018514  \n",
       "9          0.020993  \n",
       "10         0.057678  \n",
       "11         0.069221  \n",
       "12         0.057084  \n",
       "13         0.054695  \n",
       "14         0.057739  \n",
       "15         0.058764  \n",
       "16         0.066493  \n",
       "17         0.056135  \n",
       "18         0.054294  \n",
       "19         0.061666  \n",
       "20         0.058738  \n",
       "21         0.071169  \n",
       "22         0.058822  \n",
       "23         0.055834  \n",
       "24         0.059371  \n",
       "25         0.060518  \n",
       "26         0.067704  \n",
       "27         0.057834  \n",
       "28         0.056071  \n",
       "29         0.063421  "
      ]
     },
     "execution_count": 10,
     "metadata": {},
     "output_type": "execute_result"
    }
   ],
   "source": [
    "experimentModels"
   ]
  },
  {
   "cell_type": "code",
   "execution_count": 11,
   "metadata": {},
   "outputs": [
    {
     "data": {
      "text/html": [
       "<div>\n",
       "<style scoped>\n",
       "    .dataframe tbody tr th:only-of-type {\n",
       "        vertical-align: middle;\n",
       "    }\n",
       "\n",
       "    .dataframe tbody tr th {\n",
       "        vertical-align: top;\n",
       "    }\n",
       "\n",
       "    .dataframe thead tr th {\n",
       "        text-align: left;\n",
       "    }\n",
       "\n",
       "    .dataframe thead tr:last-of-type th {\n",
       "        text-align: right;\n",
       "    }\n",
       "</style>\n",
       "<table border=\"1\" class=\"dataframe\">\n",
       "  <thead>\n",
       "    <tr>\n",
       "      <th></th>\n",
       "      <th colspan=\"8\" halign=\"left\">spindleTimeRate</th>\n",
       "    </tr>\n",
       "    <tr>\n",
       "      <th></th>\n",
       "      <th>count</th>\n",
       "      <th>mean</th>\n",
       "      <th>std</th>\n",
       "      <th>min</th>\n",
       "      <th>25%</th>\n",
       "      <th>50%</th>\n",
       "      <th>75%</th>\n",
       "      <th>max</th>\n",
       "    </tr>\n",
       "    <tr>\n",
       "      <th>criteriumName</th>\n",
       "      <th></th>\n",
       "      <th></th>\n",
       "      <th></th>\n",
       "      <th></th>\n",
       "      <th></th>\n",
       "      <th></th>\n",
       "      <th></th>\n",
       "      <th></th>\n",
       "    </tr>\n",
       "  </thead>\n",
       "  <tbody>\n",
       "    <tr>\n",
       "      <th>E1</th>\n",
       "      <td>10.0</td>\n",
       "      <td>0.019138</td>\n",
       "      <td>0.002063</td>\n",
       "      <td>0.016077</td>\n",
       "      <td>0.018579</td>\n",
       "      <td>0.019013</td>\n",
       "      <td>0.019758</td>\n",
       "      <td>0.023280</td>\n",
       "    </tr>\n",
       "    <tr>\n",
       "      <th>E2</th>\n",
       "      <td>10.0</td>\n",
       "      <td>0.059377</td>\n",
       "      <td>0.004969</td>\n",
       "      <td>0.054294</td>\n",
       "      <td>0.056372</td>\n",
       "      <td>0.057708</td>\n",
       "      <td>0.060940</td>\n",
       "      <td>0.069221</td>\n",
       "    </tr>\n",
       "    <tr>\n",
       "      <th>union</th>\n",
       "      <td>10.0</td>\n",
       "      <td>0.060948</td>\n",
       "      <td>0.005032</td>\n",
       "      <td>0.055834</td>\n",
       "      <td>0.058060</td>\n",
       "      <td>0.059096</td>\n",
       "      <td>0.062695</td>\n",
       "      <td>0.071169</td>\n",
       "    </tr>\n",
       "  </tbody>\n",
       "</table>\n",
       "</div>"
      ],
      "text/plain": [
       "              spindleTimeRate                                          \\\n",
       "                        count      mean       std       min       25%   \n",
       "criteriumName                                                           \n",
       "E1                       10.0  0.019138  0.002063  0.016077  0.018579   \n",
       "E2                       10.0  0.059377  0.004969  0.054294  0.056372   \n",
       "union                    10.0  0.060948  0.005032  0.055834  0.058060   \n",
       "\n",
       "                                             \n",
       "                    50%       75%       max  \n",
       "criteriumName                                \n",
       "E1             0.019013  0.019758  0.023280  \n",
       "E2             0.057708  0.060940  0.069221  \n",
       "union          0.059096  0.062695  0.071169  "
      ]
     },
     "execution_count": 11,
     "metadata": {},
     "output_type": "execute_result"
    }
   ],
   "source": [
    "#we show the difference in class inbalance for the annotation criteria considered\n",
    "experimentModels[['criteriumName','spindleTimeRate']].groupby('criteriumName').describe()"
   ]
  },
  {
   "cell_type": "code",
   "execution_count": 12,
   "metadata": {},
   "outputs": [
    {
     "data": {
      "text/html": [
       "<div>\n",
       "<style scoped>\n",
       "    .dataframe tbody tr th:only-of-type {\n",
       "        vertical-align: middle;\n",
       "    }\n",
       "\n",
       "    .dataframe tbody tr th {\n",
       "        vertical-align: top;\n",
       "    }\n",
       "\n",
       "    .dataframe thead th {\n",
       "        text-align: right;\n",
       "    }\n",
       "</style>\n",
       "<table border=\"1\" class=\"dataframe\">\n",
       "  <thead>\n",
       "    <tr style=\"text-align: right;\">\n",
       "      <th></th>\n",
       "      <th>characteristic</th>\n",
       "      <th>bandName</th>\n",
       "      <th>window</th>\n",
       "    </tr>\n",
       "  </thead>\n",
       "  <tbody>\n",
       "    <tr>\n",
       "      <th>21</th>\n",
       "      <td>hjortActivity</td>\n",
       "      <td>sigma</td>\n",
       "      <td>0.5</td>\n",
       "    </tr>\n",
       "    <tr>\n",
       "      <th>66</th>\n",
       "      <td>petrosian</td>\n",
       "      <td>broadband</td>\n",
       "      <td>0.5</td>\n",
       "    </tr>\n",
       "    <tr>\n",
       "      <th>22</th>\n",
       "      <td>hjortActivity</td>\n",
       "      <td>theta</td>\n",
       "      <td>0.5</td>\n",
       "    </tr>\n",
       "    <tr>\n",
       "      <th>79</th>\n",
       "      <td>relativePower</td>\n",
       "      <td>beta1</td>\n",
       "      <td>0.5</td>\n",
       "    </tr>\n",
       "    <tr>\n",
       "      <th>29</th>\n",
       "      <td>hjortComplexity</td>\n",
       "      <td>sigma</td>\n",
       "      <td>0.5</td>\n",
       "    </tr>\n",
       "  </tbody>\n",
       "</table>\n",
       "</div>"
      ],
      "text/plain": [
       "     characteristic   bandName  window\n",
       "21    hjortActivity      sigma     0.5\n",
       "66        petrosian  broadband     0.5\n",
       "22    hjortActivity      theta     0.5\n",
       "79    relativePower      beta1     0.5\n",
       "29  hjortComplexity      sigma     0.5"
      ]
     },
     "execution_count": 12,
     "metadata": {},
     "output_type": "execute_result"
    }
   ],
   "source": [
    "featureSelection"
   ]
  },
  {
   "attachments": {},
   "cell_type": "markdown",
   "metadata": {},
   "source": [
    "## Run a quick test with guessed parameters to see diferences between labelers"
   ]
  },
  {
   "cell_type": "code",
   "execution_count": 13,
   "metadata": {},
   "outputs": [],
   "source": [
    "hyperClose=0.25\n",
    "hyperDuration=0.3\n",
    "hyperTrees=20\n",
    "hyperThres=0.5\n",
    "hyperExperimentModels=[]"
   ]
  },
  {
   "cell_type": "code",
   "execution_count": 14,
   "metadata": {},
   "outputs": [],
   "source": [
    "meanF1=[]\n",
    "meanPrecision=[]\n",
    "meanRecall=[]\n",
    "rawMeanF1=[]\n",
    "rawMeanPrecision=[]\n",
    "rawMeanRecall=[]\n",
    "\n",
    "stdF1=[]\n",
    "stdPrecision=[]\n",
    "stdRecall=[]\n",
    "rawStdF1=[]\n",
    "rawStdPrecision=[]\n",
    "rawStdRecall=[]"
   ]
  },
  {
   "cell_type": "code",
   "execution_count": 15,
   "metadata": {},
   "outputs": [],
   "source": [
    "for ind,row in experimentModels.iterrows():\n",
    "    #load model\n",
    "    model=loadBooster(row.modelId,experimentId,datapath)\n",
    "    #initialise lists\n",
    "    rawF1s=[]\n",
    "    rawPrecisions=[]\n",
    "    rawRecalls=[]\n",
    "    #rawFprs=[]\n",
    "    f1s=[]\n",
    "    precisions=[]\n",
    "    recalls=[]\n",
    "    #fprs=[]\n",
    "\n",
    "    #iterate validation subjects\n",
    "    for valSubjectId in row.val:\n",
    "        #Define annotations criterium\n",
    "        usedAnnotations=annotations[annotations.labelerId.isin(row.labelerIdList)].reset_index(drop=True)\n",
    "        #Load features and labels\n",
    "        valFeatures=loadFeatureMatrix([valSubjectId],featureSelection,signalsMetadata,samplerate,datapath)\n",
    "        valLabels=loadLabelsVector([valSubjectId],usedAnnotations,signalsMetadata,samplerate)\n",
    "        #Predict\n",
    "        valDMatrix=xgb.DMatrix(data=valFeatures)\n",
    "        probabilities=model.predict(valDMatrix,iteration_range=(0,hyperTrees))\n",
    "        rawLabels=probabilities>=hyperThres\n",
    "        #Raw Metrics\n",
    "        rawTp=np.sum(rawLabels*valLabels)\n",
    "        rawFp=np.sum(rawLabels*(1-valLabels))\n",
    "        rawTn=np.sum((1-rawLabels)*(1-valLabels))\n",
    "        rawFn=np.sum((1-rawLabels)*valLabels)\n",
    "        rawF1=2*rawTp/(2*rawTp+rawFp+rawFn)\n",
    "        rawPrecision=rawTp/(rawTp+rawFp) \n",
    "        rawRecall=rawTp/(rawTp+rawFn)\n",
    "        #rawFpr=rawFp/(rawFp+rawFn)\n",
    "        #Raw appends\n",
    "        rawF1s.append(rawF1)\n",
    "        rawPrecisions.append(rawPrecision)\n",
    "        rawRecalls.append(rawRecall)\n",
    "        #rawFprs.append(rawFpr)\n",
    "        #Process\n",
    "        processedLabels=labelingProcess(rawLabels,hyperClose,hyperDuration,samplerate)\n",
    "        #Processed metrics\n",
    "        tp=np.sum(processedLabels*valLabels)\n",
    "        fp=np.sum(processedLabels*(1-valLabels))\n",
    "        tn=np.sum((1-processedLabels)*(1-valLabels))\n",
    "        fn=np.sum((1-processedLabels)*valLabels)\n",
    "        f1=2*tp/(2*tp+fp+fn)\n",
    "        precision=tp/(tp+fp)\n",
    "        recall=tp/(tp+fn)\n",
    "        #fpr=fp/(fp+tn)\n",
    "        #Processed appends\n",
    "        f1s.append(f1)\n",
    "        precisions.append(precision)\n",
    "        recalls.append(recall)\n",
    "        #fprs.append(fpr)\n",
    "\n",
    "    #statistics of the metrics over the subjects of the validation set\n",
    "    meanF1.append(np.mean(f1s))\n",
    "    meanPrecision.append(np.mean(precisions))\n",
    "    meanRecall.append(np.mean(recalls))\n",
    "    rawMeanF1.append(np.mean(rawF1s))\n",
    "    rawMeanPrecision.append(np.mean(rawPrecisions))\n",
    "    rawMeanRecall.append(np.mean(rawRecalls))\n",
    "\n",
    "    stdF1.append(np.std(f1s))\n",
    "    stdPrecision.append(np.std(precisions))\n",
    "    stdRecall.append(np.std(recalls))\n",
    "    rawStdF1.append(np.std(rawF1s))\n",
    "    rawStdPrecision.append(np.std(rawPrecisions))\n",
    "    rawStdRecall.append(np.std(rawRecalls))\n"
   ]
  },
  {
   "cell_type": "code",
   "execution_count": 16,
   "metadata": {},
   "outputs": [],
   "source": [
    "experimentModels['meanF1']=meanF1\n",
    "experimentModels['meanPrecision']=meanPrecision\n",
    "experimentModels['meanRecall']=meanRecall\n",
    "experimentModels['rawMeanF1']=rawMeanF1\n",
    "experimentModels['rawMeanPrecision']=rawMeanPrecision\n",
    "experimentModels['rawMeanRecall']=rawMeanRecall\n",
    "\n",
    "experimentModels['stdF1']=stdF1\n",
    "experimentModels['stdPrecision']=stdPrecision\n",
    "experimentModels['stdRecall']=stdRecall\n",
    "experimentModels['rawStdF1']=rawStdF1\n",
    "experimentModels['rawStdPrecision']=rawStdPrecision\n",
    "experimentModels['rawStdRecall']=rawStdRecall"
   ]
  },
  {
   "cell_type": "code",
   "execution_count": 18,
   "metadata": {},
   "outputs": [
    {
     "data": {
      "text/html": [
       "<div>\n",
       "<style scoped>\n",
       "    .dataframe tbody tr th:only-of-type {\n",
       "        vertical-align: middle;\n",
       "    }\n",
       "\n",
       "    .dataframe tbody tr th {\n",
       "        vertical-align: top;\n",
       "    }\n",
       "\n",
       "    .dataframe thead tr th {\n",
       "        text-align: left;\n",
       "    }\n",
       "\n",
       "    .dataframe thead tr:last-of-type th {\n",
       "        text-align: right;\n",
       "    }\n",
       "</style>\n",
       "<table border=\"1\" class=\"dataframe\">\n",
       "  <thead>\n",
       "    <tr>\n",
       "      <th></th>\n",
       "      <th colspan=\"8\" halign=\"left\">meanF1</th>\n",
       "      <th colspan=\"2\" halign=\"left\">stdF1</th>\n",
       "      <th>...</th>\n",
       "      <th colspan=\"2\" halign=\"left\">rawMeanF1</th>\n",
       "      <th colspan=\"8\" halign=\"left\">rawStdF1</th>\n",
       "    </tr>\n",
       "    <tr>\n",
       "      <th></th>\n",
       "      <th>count</th>\n",
       "      <th>mean</th>\n",
       "      <th>std</th>\n",
       "      <th>min</th>\n",
       "      <th>25%</th>\n",
       "      <th>50%</th>\n",
       "      <th>75%</th>\n",
       "      <th>max</th>\n",
       "      <th>count</th>\n",
       "      <th>mean</th>\n",
       "      <th>...</th>\n",
       "      <th>75%</th>\n",
       "      <th>max</th>\n",
       "      <th>count</th>\n",
       "      <th>mean</th>\n",
       "      <th>std</th>\n",
       "      <th>min</th>\n",
       "      <th>25%</th>\n",
       "      <th>50%</th>\n",
       "      <th>75%</th>\n",
       "      <th>max</th>\n",
       "    </tr>\n",
       "    <tr>\n",
       "      <th>criteriumName</th>\n",
       "      <th></th>\n",
       "      <th></th>\n",
       "      <th></th>\n",
       "      <th></th>\n",
       "      <th></th>\n",
       "      <th></th>\n",
       "      <th></th>\n",
       "      <th></th>\n",
       "      <th></th>\n",
       "      <th></th>\n",
       "      <th></th>\n",
       "      <th></th>\n",
       "      <th></th>\n",
       "      <th></th>\n",
       "      <th></th>\n",
       "      <th></th>\n",
       "      <th></th>\n",
       "      <th></th>\n",
       "      <th></th>\n",
       "      <th></th>\n",
       "      <th></th>\n",
       "    </tr>\n",
       "  </thead>\n",
       "  <tbody>\n",
       "    <tr>\n",
       "      <th>E1</th>\n",
       "      <td>10.0</td>\n",
       "      <td>0.523556</td>\n",
       "      <td>0.078461</td>\n",
       "      <td>0.354849</td>\n",
       "      <td>0.509432</td>\n",
       "      <td>0.522548</td>\n",
       "      <td>0.592242</td>\n",
       "      <td>0.598188</td>\n",
       "      <td>10.0</td>\n",
       "      <td>0.091715</td>\n",
       "      <td>...</td>\n",
       "      <td>0.562830</td>\n",
       "      <td>0.584632</td>\n",
       "      <td>10.0</td>\n",
       "      <td>0.094286</td>\n",
       "      <td>0.050809</td>\n",
       "      <td>0.011787</td>\n",
       "      <td>0.064172</td>\n",
       "      <td>0.086912</td>\n",
       "      <td>0.124577</td>\n",
       "      <td>0.170351</td>\n",
       "    </tr>\n",
       "    <tr>\n",
       "      <th>E2</th>\n",
       "      <td>10.0</td>\n",
       "      <td>0.581677</td>\n",
       "      <td>0.057271</td>\n",
       "      <td>0.452904</td>\n",
       "      <td>0.568722</td>\n",
       "      <td>0.587858</td>\n",
       "      <td>0.619074</td>\n",
       "      <td>0.651894</td>\n",
       "      <td>10.0</td>\n",
       "      <td>0.090800</td>\n",
       "      <td>...</td>\n",
       "      <td>0.581650</td>\n",
       "      <td>0.616317</td>\n",
       "      <td>10.0</td>\n",
       "      <td>0.098692</td>\n",
       "      <td>0.032317</td>\n",
       "      <td>0.056614</td>\n",
       "      <td>0.081372</td>\n",
       "      <td>0.089760</td>\n",
       "      <td>0.121185</td>\n",
       "      <td>0.155302</td>\n",
       "    </tr>\n",
       "    <tr>\n",
       "      <th>union</th>\n",
       "      <td>10.0</td>\n",
       "      <td>0.598089</td>\n",
       "      <td>0.056636</td>\n",
       "      <td>0.470254</td>\n",
       "      <td>0.587402</td>\n",
       "      <td>0.606826</td>\n",
       "      <td>0.629858</td>\n",
       "      <td>0.672415</td>\n",
       "      <td>10.0</td>\n",
       "      <td>0.087877</td>\n",
       "      <td>...</td>\n",
       "      <td>0.600165</td>\n",
       "      <td>0.634507</td>\n",
       "      <td>10.0</td>\n",
       "      <td>0.097817</td>\n",
       "      <td>0.033766</td>\n",
       "      <td>0.051714</td>\n",
       "      <td>0.081094</td>\n",
       "      <td>0.090153</td>\n",
       "      <td>0.121498</td>\n",
       "      <td>0.153421</td>\n",
       "    </tr>\n",
       "  </tbody>\n",
       "</table>\n",
       "<p>3 rows × 32 columns</p>\n",
       "</div>"
      ],
      "text/plain": [
       "              meanF1                                                    \\\n",
       "               count      mean       std       min       25%       50%   \n",
       "criteriumName                                                            \n",
       "E1              10.0  0.523556  0.078461  0.354849  0.509432  0.522548   \n",
       "E2              10.0  0.581677  0.057271  0.452904  0.568722  0.587858   \n",
       "union           10.0  0.598089  0.056636  0.470254  0.587402  0.606826   \n",
       "\n",
       "                                  stdF1            ... rawMeanF1            \\\n",
       "                    75%       max count      mean  ...       75%       max   \n",
       "criteriumName                                      ...                       \n",
       "E1             0.592242  0.598188  10.0  0.091715  ...  0.562830  0.584632   \n",
       "E2             0.619074  0.651894  10.0  0.090800  ...  0.581650  0.616317   \n",
       "union          0.629858  0.672415  10.0  0.087877  ...  0.600165  0.634507   \n",
       "\n",
       "              rawStdF1                                                    \\\n",
       "                 count      mean       std       min       25%       50%   \n",
       "criteriumName                                                              \n",
       "E1                10.0  0.094286  0.050809  0.011787  0.064172  0.086912   \n",
       "E2                10.0  0.098692  0.032317  0.056614  0.081372  0.089760   \n",
       "union             10.0  0.097817  0.033766  0.051714  0.081094  0.090153   \n",
       "\n",
       "                                   \n",
       "                    75%       max  \n",
       "criteriumName                      \n",
       "E1             0.124577  0.170351  \n",
       "E2             0.121185  0.155302  \n",
       "union          0.121498  0.153421  \n",
       "\n",
       "[3 rows x 32 columns]"
      ]
     },
     "execution_count": 18,
     "metadata": {},
     "output_type": "execute_result"
    }
   ],
   "source": [
    "experimentModels[['criteriumName','meanF1','stdF1','rawMeanF1','rawStdF1']].groupby('criteriumName').describe()"
   ]
  },
  {
   "cell_type": "code",
   "execution_count": 21,
   "metadata": {},
   "outputs": [
    {
     "data": {
      "application/vnd.plotly.v1+json": {
       "config": {
        "plotlyServerURL": "https://plot.ly"
       },
       "data": [
        {
         "hovertemplate": "<b>%{hovertext}</b><br><br>criteriumName=E1<br>rawMeanF1=%{x}<br>meanF1=%{y}<extra></extra>",
         "hovertext": [
          "afd523c8-e3bf-44e0-a0c7-85a7b0d747e4",
          "d90313d0-46a5-4957-b4bd-1c2e66388a31",
          "825f07e0-9a06-44aa-bb72-93cdd7d64ca2",
          "0b4afad9-a6fb-43ae-8f49-a5d65994e109",
          "bcaeb868-00a0-4038-bc73-fb5d86ea09ee",
          "00a66953-1236-49a2-bbdc-78c361fa15f0",
          "adcf962a-53df-4cb8-ae1f-7a94e2ad3e0c",
          "21c95c6e-be0b-49bb-a43b-807238a1b12c",
          "216f16f3-c2d8-4735-bf51-0daed207c25e",
          "09cbec08-c8af-49fb-aabd-4702bef80265"
         ],
         "legendgroup": "E1",
         "marker": {
          "color": "#636efa",
          "symbol": "circle"
         },
         "mode": "markers",
         "name": "E1",
         "orientation": "v",
         "showlegend": true,
         "type": "scatter",
         "x": [
          0.4906390559568559,
          0.5583792617955173,
          0.3461677012823252,
          0.4917046237785212,
          0.48647657015584095,
          0.5678769246040801,
          0.42034845798950676,
          0.5643135885142652,
          0.49122453745661226,
          0.584631567432221
         ],
         "xaxis": "x",
         "y": [
          0.5283296313054157,
          0.58648133733137,
          0.3548487629241793,
          0.5089756127774513,
          0.5167669350194389,
          0.5957443096224543,
          0.44126137963958817,
          0.5941618260788959,
          0.5108005392260879,
          0.598187523691706
         ],
         "yaxis": "y"
        },
        {
         "alignmentgroup": "True",
         "bingroup": "y",
         "hovertemplate": "criteriumName=E1<br>meanF1=%{y}<br>count=%{x}<extra></extra>",
         "legendgroup": "E1",
         "marker": {
          "color": "#636efa"
         },
         "name": "E1",
         "offsetgroup": "E1",
         "opacity": 0.5,
         "showlegend": false,
         "type": "histogram",
         "xaxis": "x2",
         "y": [
          0.5283296313054157,
          0.58648133733137,
          0.3548487629241793,
          0.5089756127774513,
          0.5167669350194389,
          0.5957443096224543,
          0.44126137963958817,
          0.5941618260788959,
          0.5108005392260879,
          0.598187523691706
         ],
         "yaxis": "y2"
        },
        {
         "hovertemplate": "<b>%{hovertext}</b><br><br>criteriumName=E2<br>rawMeanF1=%{x}<br>meanF1=%{y}<extra></extra>",
         "hovertext": [
          "1623c979-486c-4f45-ba54-dbbac3770588",
          "f8abeec1-7d46-4573-8a01-7827b8584472",
          "c556cd55-5f8b-420c-b6b2-0ca323bee5df",
          "b9ca9323-c013-423a-8b12-a893e0a8be97",
          "e31d0f92-1914-4bb5-9156-f9101fe1307c",
          "6fd86953-d3aa-4c9c-8069-b22b951dce3f",
          "87913851-d47b-4963-b2fa-1c65d7aec5a1",
          "0f0da0b8-d512-47b2-808a-c92b1d073468",
          "006d0918-7072-4365-953e-4b399728048d",
          "ca54dd96-c49f-4680-a78d-2aabf3059e5c"
         ],
         "legendgroup": "E2",
         "marker": {
          "color": "#EF553B",
          "symbol": "circle"
         },
         "mode": "markers",
         "name": "E2",
         "orientation": "v",
         "showlegend": true,
         "type": "scatter",
         "x": [
          0.6163167962848846,
          0.571577737800188,
          0.42093930759055387,
          0.562635909042426,
          0.5225706955188361,
          0.5850080411068903,
          0.5496579201638847,
          0.5479571524851756,
          0.5006645091299468,
          0.6093421822661947
         ],
         "xaxis": "x",
         "y": [
          0.651893683615914,
          0.6141233253187223,
          0.4529041233934951,
          0.5719980338969338,
          0.5676294833359831,
          0.6311886193930022,
          0.5874002571233746,
          0.5883163739927338,
          0.5305906691345412,
          0.6207242144499404
         ],
         "yaxis": "y"
        },
        {
         "alignmentgroup": "True",
         "bingroup": "y",
         "hovertemplate": "criteriumName=E2<br>meanF1=%{y}<br>count=%{x}<extra></extra>",
         "legendgroup": "E2",
         "marker": {
          "color": "#EF553B"
         },
         "name": "E2",
         "offsetgroup": "E2",
         "opacity": 0.5,
         "showlegend": false,
         "type": "histogram",
         "xaxis": "x2",
         "y": [
          0.651893683615914,
          0.6141233253187223,
          0.4529041233934951,
          0.5719980338969338,
          0.5676294833359831,
          0.6311886193930022,
          0.5874002571233746,
          0.5883163739927338,
          0.5305906691345412,
          0.6207242144499404
         ],
         "yaxis": "y2"
        },
        {
         "hovertemplate": "<b>%{hovertext}</b><br><br>criteriumName=union<br>rawMeanF1=%{x}<br>meanF1=%{y}<extra></extra>",
         "hovertext": [
          "835a313d-abb5-4f4a-82ce-8b3cdb9a48ef",
          "00c51021-c8d3-44e7-bbdf-aad9dd1df14a",
          "06492559-e944-471d-9f30-f65532aadf0a",
          "f2602c9a-75aa-4382-abf2-333af911d6b4",
          "4be8081a-30cb-4d01-bb52-ff3d4b49bbd2",
          "7116bde1-d77d-40c1-a7cc-c2bdc6af27f2",
          "27ebbfd3-d459-4c45-bf65-d60f56afdd00",
          "a0a68a3c-5240-4737-b0a5-7ae5d6a6c873",
          "779e6dad-582e-45e3-85c0-8fd31368a98c",
          "ff520954-f5f8-40cf-a6d9-4ccfb90c53be"
         ],
         "legendgroup": "union",
         "marker": {
          "color": "#00cc96",
          "symbol": "circle"
         },
         "mode": "markers",
         "name": "union",
         "orientation": "v",
         "showlegend": true,
         "type": "scatter",
         "x": [
          0.6345072490759588,
          0.5903926352832781,
          0.43677637001699354,
          0.5782875393795864,
          0.5393846854830143,
          0.6034225372901321,
          0.567724212639678,
          0.5657120273719969,
          0.5169656618396045,
          0.6183083071128603
         ],
         "xaxis": "x",
         "y": [
          0.6724145133540231,
          0.6312253499175654,
          0.47025361474518607,
          0.5895133863448242,
          0.5866988159498379,
          0.6445224013495361,
          0.6076368802051256,
          0.6060161151385852,
          0.5468512251121145,
          0.6257579335754929
         ],
         "yaxis": "y"
        },
        {
         "alignmentgroup": "True",
         "bingroup": "y",
         "hovertemplate": "criteriumName=union<br>meanF1=%{y}<br>count=%{x}<extra></extra>",
         "legendgroup": "union",
         "marker": {
          "color": "#00cc96"
         },
         "name": "union",
         "offsetgroup": "union",
         "opacity": 0.5,
         "showlegend": false,
         "type": "histogram",
         "xaxis": "x2",
         "y": [
          0.6724145133540231,
          0.6312253499175654,
          0.47025361474518607,
          0.5895133863448242,
          0.5866988159498379,
          0.6445224013495361,
          0.6076368802051256,
          0.6060161151385852,
          0.5468512251121145,
          0.6257579335754929
         ],
         "yaxis": "y2"
        },
        {
         "fill": "toself",
         "mode": "lines",
         "name": "identity",
         "type": "scatter",
         "x": [
          0.4906390559568559,
          0.5583792617955173,
          0.3461677012823252,
          0.4917046237785212,
          0.48647657015584095,
          0.5678769246040801,
          0.42034845798950676,
          0.5643135885142652,
          0.49122453745661226,
          0.584631567432221,
          0.6163167962848846,
          0.571577737800188,
          0.42093930759055387,
          0.562635909042426,
          0.5225706955188361,
          0.5850080411068903,
          0.5496579201638847,
          0.5479571524851756,
          0.5006645091299468,
          0.6093421822661947,
          0.6345072490759588,
          0.5903926352832781,
          0.43677637001699354,
          0.5782875393795864,
          0.5393846854830143,
          0.6034225372901321,
          0.567724212639678,
          0.5657120273719969,
          0.5169656618396045,
          0.6183083071128603
         ],
         "y": [
          0.4906390559568559,
          0.5583792617955173,
          0.3461677012823252,
          0.4917046237785212,
          0.48647657015584095,
          0.5678769246040801,
          0.42034845798950676,
          0.5643135885142652,
          0.49122453745661226,
          0.584631567432221,
          0.6163167962848846,
          0.571577737800188,
          0.42093930759055387,
          0.562635909042426,
          0.5225706955188361,
          0.5850080411068903,
          0.5496579201638847,
          0.5479571524851756,
          0.5006645091299468,
          0.6093421822661947,
          0.6345072490759588,
          0.5903926352832781,
          0.43677637001699354,
          0.5782875393795864,
          0.5393846854830143,
          0.6034225372901321,
          0.567724212639678,
          0.5657120273719969,
          0.5169656618396045,
          0.6183083071128603
         ]
        }
       ],
       "layout": {
        "barmode": "overlay",
        "legend": {
         "title": {
          "text": "criteriumName"
         },
         "tracegroupgap": 0
        },
        "margin": {
         "t": 60
        },
        "template": {
         "data": {
          "bar": [
           {
            "error_x": {
             "color": "#2a3f5f"
            },
            "error_y": {
             "color": "#2a3f5f"
            },
            "marker": {
             "line": {
              "color": "#E5ECF6",
              "width": 0.5
             },
             "pattern": {
              "fillmode": "overlay",
              "size": 10,
              "solidity": 0.2
             }
            },
            "type": "bar"
           }
          ],
          "barpolar": [
           {
            "marker": {
             "line": {
              "color": "#E5ECF6",
              "width": 0.5
             },
             "pattern": {
              "fillmode": "overlay",
              "size": 10,
              "solidity": 0.2
             }
            },
            "type": "barpolar"
           }
          ],
          "carpet": [
           {
            "aaxis": {
             "endlinecolor": "#2a3f5f",
             "gridcolor": "white",
             "linecolor": "white",
             "minorgridcolor": "white",
             "startlinecolor": "#2a3f5f"
            },
            "baxis": {
             "endlinecolor": "#2a3f5f",
             "gridcolor": "white",
             "linecolor": "white",
             "minorgridcolor": "white",
             "startlinecolor": "#2a3f5f"
            },
            "type": "carpet"
           }
          ],
          "choropleth": [
           {
            "colorbar": {
             "outlinewidth": 0,
             "ticks": ""
            },
            "type": "choropleth"
           }
          ],
          "contour": [
           {
            "colorbar": {
             "outlinewidth": 0,
             "ticks": ""
            },
            "colorscale": [
             [
              0,
              "#0d0887"
             ],
             [
              0.1111111111111111,
              "#46039f"
             ],
             [
              0.2222222222222222,
              "#7201a8"
             ],
             [
              0.3333333333333333,
              "#9c179e"
             ],
             [
              0.4444444444444444,
              "#bd3786"
             ],
             [
              0.5555555555555556,
              "#d8576b"
             ],
             [
              0.6666666666666666,
              "#ed7953"
             ],
             [
              0.7777777777777778,
              "#fb9f3a"
             ],
             [
              0.8888888888888888,
              "#fdca26"
             ],
             [
              1,
              "#f0f921"
             ]
            ],
            "type": "contour"
           }
          ],
          "contourcarpet": [
           {
            "colorbar": {
             "outlinewidth": 0,
             "ticks": ""
            },
            "type": "contourcarpet"
           }
          ],
          "heatmap": [
           {
            "colorbar": {
             "outlinewidth": 0,
             "ticks": ""
            },
            "colorscale": [
             [
              0,
              "#0d0887"
             ],
             [
              0.1111111111111111,
              "#46039f"
             ],
             [
              0.2222222222222222,
              "#7201a8"
             ],
             [
              0.3333333333333333,
              "#9c179e"
             ],
             [
              0.4444444444444444,
              "#bd3786"
             ],
             [
              0.5555555555555556,
              "#d8576b"
             ],
             [
              0.6666666666666666,
              "#ed7953"
             ],
             [
              0.7777777777777778,
              "#fb9f3a"
             ],
             [
              0.8888888888888888,
              "#fdca26"
             ],
             [
              1,
              "#f0f921"
             ]
            ],
            "type": "heatmap"
           }
          ],
          "heatmapgl": [
           {
            "colorbar": {
             "outlinewidth": 0,
             "ticks": ""
            },
            "colorscale": [
             [
              0,
              "#0d0887"
             ],
             [
              0.1111111111111111,
              "#46039f"
             ],
             [
              0.2222222222222222,
              "#7201a8"
             ],
             [
              0.3333333333333333,
              "#9c179e"
             ],
             [
              0.4444444444444444,
              "#bd3786"
             ],
             [
              0.5555555555555556,
              "#d8576b"
             ],
             [
              0.6666666666666666,
              "#ed7953"
             ],
             [
              0.7777777777777778,
              "#fb9f3a"
             ],
             [
              0.8888888888888888,
              "#fdca26"
             ],
             [
              1,
              "#f0f921"
             ]
            ],
            "type": "heatmapgl"
           }
          ],
          "histogram": [
           {
            "marker": {
             "pattern": {
              "fillmode": "overlay",
              "size": 10,
              "solidity": 0.2
             }
            },
            "type": "histogram"
           }
          ],
          "histogram2d": [
           {
            "colorbar": {
             "outlinewidth": 0,
             "ticks": ""
            },
            "colorscale": [
             [
              0,
              "#0d0887"
             ],
             [
              0.1111111111111111,
              "#46039f"
             ],
             [
              0.2222222222222222,
              "#7201a8"
             ],
             [
              0.3333333333333333,
              "#9c179e"
             ],
             [
              0.4444444444444444,
              "#bd3786"
             ],
             [
              0.5555555555555556,
              "#d8576b"
             ],
             [
              0.6666666666666666,
              "#ed7953"
             ],
             [
              0.7777777777777778,
              "#fb9f3a"
             ],
             [
              0.8888888888888888,
              "#fdca26"
             ],
             [
              1,
              "#f0f921"
             ]
            ],
            "type": "histogram2d"
           }
          ],
          "histogram2dcontour": [
           {
            "colorbar": {
             "outlinewidth": 0,
             "ticks": ""
            },
            "colorscale": [
             [
              0,
              "#0d0887"
             ],
             [
              0.1111111111111111,
              "#46039f"
             ],
             [
              0.2222222222222222,
              "#7201a8"
             ],
             [
              0.3333333333333333,
              "#9c179e"
             ],
             [
              0.4444444444444444,
              "#bd3786"
             ],
             [
              0.5555555555555556,
              "#d8576b"
             ],
             [
              0.6666666666666666,
              "#ed7953"
             ],
             [
              0.7777777777777778,
              "#fb9f3a"
             ],
             [
              0.8888888888888888,
              "#fdca26"
             ],
             [
              1,
              "#f0f921"
             ]
            ],
            "type": "histogram2dcontour"
           }
          ],
          "mesh3d": [
           {
            "colorbar": {
             "outlinewidth": 0,
             "ticks": ""
            },
            "type": "mesh3d"
           }
          ],
          "parcoords": [
           {
            "line": {
             "colorbar": {
              "outlinewidth": 0,
              "ticks": ""
             }
            },
            "type": "parcoords"
           }
          ],
          "pie": [
           {
            "automargin": true,
            "type": "pie"
           }
          ],
          "scatter": [
           {
            "fillpattern": {
             "fillmode": "overlay",
             "size": 10,
             "solidity": 0.2
            },
            "type": "scatter"
           }
          ],
          "scatter3d": [
           {
            "line": {
             "colorbar": {
              "outlinewidth": 0,
              "ticks": ""
             }
            },
            "marker": {
             "colorbar": {
              "outlinewidth": 0,
              "ticks": ""
             }
            },
            "type": "scatter3d"
           }
          ],
          "scattercarpet": [
           {
            "marker": {
             "colorbar": {
              "outlinewidth": 0,
              "ticks": ""
             }
            },
            "type": "scattercarpet"
           }
          ],
          "scattergeo": [
           {
            "marker": {
             "colorbar": {
              "outlinewidth": 0,
              "ticks": ""
             }
            },
            "type": "scattergeo"
           }
          ],
          "scattergl": [
           {
            "marker": {
             "colorbar": {
              "outlinewidth": 0,
              "ticks": ""
             }
            },
            "type": "scattergl"
           }
          ],
          "scattermapbox": [
           {
            "marker": {
             "colorbar": {
              "outlinewidth": 0,
              "ticks": ""
             }
            },
            "type": "scattermapbox"
           }
          ],
          "scatterpolar": [
           {
            "marker": {
             "colorbar": {
              "outlinewidth": 0,
              "ticks": ""
             }
            },
            "type": "scatterpolar"
           }
          ],
          "scatterpolargl": [
           {
            "marker": {
             "colorbar": {
              "outlinewidth": 0,
              "ticks": ""
             }
            },
            "type": "scatterpolargl"
           }
          ],
          "scatterternary": [
           {
            "marker": {
             "colorbar": {
              "outlinewidth": 0,
              "ticks": ""
             }
            },
            "type": "scatterternary"
           }
          ],
          "surface": [
           {
            "colorbar": {
             "outlinewidth": 0,
             "ticks": ""
            },
            "colorscale": [
             [
              0,
              "#0d0887"
             ],
             [
              0.1111111111111111,
              "#46039f"
             ],
             [
              0.2222222222222222,
              "#7201a8"
             ],
             [
              0.3333333333333333,
              "#9c179e"
             ],
             [
              0.4444444444444444,
              "#bd3786"
             ],
             [
              0.5555555555555556,
              "#d8576b"
             ],
             [
              0.6666666666666666,
              "#ed7953"
             ],
             [
              0.7777777777777778,
              "#fb9f3a"
             ],
             [
              0.8888888888888888,
              "#fdca26"
             ],
             [
              1,
              "#f0f921"
             ]
            ],
            "type": "surface"
           }
          ],
          "table": [
           {
            "cells": {
             "fill": {
              "color": "#EBF0F8"
             },
             "line": {
              "color": "white"
             }
            },
            "header": {
             "fill": {
              "color": "#C8D4E3"
             },
             "line": {
              "color": "white"
             }
            },
            "type": "table"
           }
          ]
         },
         "layout": {
          "annotationdefaults": {
           "arrowcolor": "#2a3f5f",
           "arrowhead": 0,
           "arrowwidth": 1
          },
          "autotypenumbers": "strict",
          "coloraxis": {
           "colorbar": {
            "outlinewidth": 0,
            "ticks": ""
           }
          },
          "colorscale": {
           "diverging": [
            [
             0,
             "#8e0152"
            ],
            [
             0.1,
             "#c51b7d"
            ],
            [
             0.2,
             "#de77ae"
            ],
            [
             0.3,
             "#f1b6da"
            ],
            [
             0.4,
             "#fde0ef"
            ],
            [
             0.5,
             "#f7f7f7"
            ],
            [
             0.6,
             "#e6f5d0"
            ],
            [
             0.7,
             "#b8e186"
            ],
            [
             0.8,
             "#7fbc41"
            ],
            [
             0.9,
             "#4d9221"
            ],
            [
             1,
             "#276419"
            ]
           ],
           "sequential": [
            [
             0,
             "#0d0887"
            ],
            [
             0.1111111111111111,
             "#46039f"
            ],
            [
             0.2222222222222222,
             "#7201a8"
            ],
            [
             0.3333333333333333,
             "#9c179e"
            ],
            [
             0.4444444444444444,
             "#bd3786"
            ],
            [
             0.5555555555555556,
             "#d8576b"
            ],
            [
             0.6666666666666666,
             "#ed7953"
            ],
            [
             0.7777777777777778,
             "#fb9f3a"
            ],
            [
             0.8888888888888888,
             "#fdca26"
            ],
            [
             1,
             "#f0f921"
            ]
           ],
           "sequentialminus": [
            [
             0,
             "#0d0887"
            ],
            [
             0.1111111111111111,
             "#46039f"
            ],
            [
             0.2222222222222222,
             "#7201a8"
            ],
            [
             0.3333333333333333,
             "#9c179e"
            ],
            [
             0.4444444444444444,
             "#bd3786"
            ],
            [
             0.5555555555555556,
             "#d8576b"
            ],
            [
             0.6666666666666666,
             "#ed7953"
            ],
            [
             0.7777777777777778,
             "#fb9f3a"
            ],
            [
             0.8888888888888888,
             "#fdca26"
            ],
            [
             1,
             "#f0f921"
            ]
           ]
          },
          "colorway": [
           "#636efa",
           "#EF553B",
           "#00cc96",
           "#ab63fa",
           "#FFA15A",
           "#19d3f3",
           "#FF6692",
           "#B6E880",
           "#FF97FF",
           "#FECB52"
          ],
          "font": {
           "color": "#2a3f5f"
          },
          "geo": {
           "bgcolor": "white",
           "lakecolor": "white",
           "landcolor": "#E5ECF6",
           "showlakes": true,
           "showland": true,
           "subunitcolor": "white"
          },
          "hoverlabel": {
           "align": "left"
          },
          "hovermode": "closest",
          "mapbox": {
           "style": "light"
          },
          "paper_bgcolor": "white",
          "plot_bgcolor": "#E5ECF6",
          "polar": {
           "angularaxis": {
            "gridcolor": "white",
            "linecolor": "white",
            "ticks": ""
           },
           "bgcolor": "#E5ECF6",
           "radialaxis": {
            "gridcolor": "white",
            "linecolor": "white",
            "ticks": ""
           }
          },
          "scene": {
           "xaxis": {
            "backgroundcolor": "#E5ECF6",
            "gridcolor": "white",
            "gridwidth": 2,
            "linecolor": "white",
            "showbackground": true,
            "ticks": "",
            "zerolinecolor": "white"
           },
           "yaxis": {
            "backgroundcolor": "#E5ECF6",
            "gridcolor": "white",
            "gridwidth": 2,
            "linecolor": "white",
            "showbackground": true,
            "ticks": "",
            "zerolinecolor": "white"
           },
           "zaxis": {
            "backgroundcolor": "#E5ECF6",
            "gridcolor": "white",
            "gridwidth": 2,
            "linecolor": "white",
            "showbackground": true,
            "ticks": "",
            "zerolinecolor": "white"
           }
          },
          "shapedefaults": {
           "line": {
            "color": "#2a3f5f"
           }
          },
          "ternary": {
           "aaxis": {
            "gridcolor": "white",
            "linecolor": "white",
            "ticks": ""
           },
           "baxis": {
            "gridcolor": "white",
            "linecolor": "white",
            "ticks": ""
           },
           "bgcolor": "#E5ECF6",
           "caxis": {
            "gridcolor": "white",
            "linecolor": "white",
            "ticks": ""
           }
          },
          "title": {
           "x": 0.05
          },
          "xaxis": {
           "automargin": true,
           "gridcolor": "white",
           "linecolor": "white",
           "ticks": "",
           "title": {
            "standoff": 15
           },
           "zerolinecolor": "white",
           "zerolinewidth": 2
          },
          "yaxis": {
           "automargin": true,
           "gridcolor": "white",
           "linecolor": "white",
           "ticks": "",
           "title": {
            "standoff": 15
           },
           "zerolinecolor": "white",
           "zerolinewidth": 2
          }
         }
        },
        "xaxis": {
         "anchor": "y",
         "domain": [
          0,
          0.7363
         ],
         "title": {
          "text": "rawMeanF1"
         }
        },
        "xaxis2": {
         "anchor": "y2",
         "domain": [
          0.7413,
          1
         ],
         "matches": "x2",
         "showgrid": true,
         "showline": false,
         "showticklabels": false,
         "ticks": ""
        },
        "yaxis": {
         "anchor": "x",
         "domain": [
          0,
          1
         ],
         "title": {
          "text": "meanF1"
         }
        },
        "yaxis2": {
         "anchor": "x2",
         "domain": [
          0,
          1
         ],
         "matches": "y",
         "showgrid": true,
         "showticklabels": false
        }
       }
      }
     },
     "metadata": {},
     "output_type": "display_data"
    }
   ],
   "source": [
    "fig=px.scatter(experimentModels,x='rawMeanF1',y='meanF1',color='criteriumName',hover_name='modelId', marginal_y=\"histogram\")\n",
    "fig.add_trace(\n",
    "    go.Scatter(x=experimentModels['rawMeanF1'], y=experimentModels['rawMeanF1'], name=\"identity\", mode='lines',fill=\"toself\")\n",
    ")\n",
    "fig.show()"
   ]
  },
  {
   "attachments": {},
   "cell_type": "markdown",
   "metadata": {},
   "source": [
    "### CODA: visulise some of the latest model validation"
   ]
  },
  {
   "cell_type": "code",
   "execution_count": 24,
   "metadata": {},
   "outputs": [
    {
     "data": {
      "text/plain": [
       "criteriumId                                                     0003\n",
       "criteriumName                                                  union\n",
       "labelerIdList                                           [0001, 0002]\n",
       "train               [0001, 0003, 0005, 0007, 0009, 0010, 0011, 0018]\n",
       "val                                               [0017, 0019, 0014]\n",
       "test                                        [0002, 0006, 0012, 0013]\n",
       "modelId                         ff520954-f5f8-40cf-a6d9-4ccfb90c53be\n",
       "spindleTimeRate                                             0.063421\n",
       "meanF1                                                      0.625758\n",
       "meanPrecision                                               0.624928\n",
       "meanRecall                                                  0.685025\n",
       "rawMeanF1                                                   0.618308\n",
       "rawMeanPrecision                                            0.651647\n",
       "rawMeanRecall                                               0.639544\n",
       "stdF1                                                       0.034906\n",
       "stdPrecision                                                0.117357\n",
       "stdRecall                                                   0.152496\n",
       "rawStdF1                                                    0.051714\n",
       "rawStdPrecision                                             0.105038\n",
       "rawStdRecall                                                0.157011\n",
       "Name: 29, dtype: object"
      ]
     },
     "execution_count": 24,
     "metadata": {},
     "output_type": "execute_result"
    }
   ],
   "source": [
    "experimentModels.iloc[len(experimentModels)-1]"
   ]
  },
  {
   "cell_type": "code",
   "execution_count": 34,
   "metadata": {},
   "outputs": [
    {
     "name": "stdout",
     "output_type": "stream",
     "text": [
      "0.6169037190947413\n",
      "0.4930078440566301\n",
      "0.8239732061524024\n"
     ]
    }
   ],
   "source": [
    "print(f1)\n",
    "print(precision)\n",
    "print(recall)"
   ]
  },
  {
   "cell_type": "code",
   "execution_count": 32,
   "metadata": {},
   "outputs": [
    {
     "data": {
      "text/plain": [
       "<matplotlib.collections.LineCollection at 0x25269a970a0>"
      ]
     },
     "execution_count": 32,
     "metadata": {},
     "output_type": "execute_result"
    },
    {
     "data": {
      "image/png": "[encoded data removed]",
      "text/plain": [
       "<Figure size 640x480 with 1 Axes>"
      ]
     },
     "metadata": {},
     "output_type": "display_data"
    }
   ],
   "source": [
    "plt.plot(processedLabels)\n",
    "plt.plot(valLabels)\n",
    "plt.plot(probabilities)\n",
    "plt.legend(['output','ground_truth','probability'],loc='upper right')\n",
    "plt.hlines(hyperThres,xmin=0,xmax=len(probabilities))\n"
   ]
  },
  {
   "cell_type": "code",
   "execution_count": 26,
   "metadata": {},
   "outputs": [
    {
     "data": {
      "text/plain": [
       "[0.5881279406496003, 0.6722421409821372, 0.6169037190947413]"
      ]
     },
     "execution_count": 26,
     "metadata": {},
     "output_type": "execute_result"
    }
   ],
   "source": [
    "f1s"
   ]
  },
  {
   "cell_type": "code",
   "execution_count": 27,
   "metadata": {},
   "outputs": [
    {
     "data": {
      "text/plain": [
       "[0.7781048353305958, 0.6036702588297861, 0.4930078440566301]"
      ]
     },
     "execution_count": 27,
     "metadata": {},
     "output_type": "execute_result"
    }
   ],
   "source": [
    "precisions"
   ]
  },
  {
   "cell_type": "code",
   "execution_count": 28,
   "metadata": {},
   "outputs": [
    {
     "data": {
      "text/plain": [
       "[0.4727133879564076, 0.7583887466876131, 0.8239732061524024]"
      ]
     },
     "execution_count": 28,
     "metadata": {},
     "output_type": "execute_result"
    }
   ],
   "source": [
    "recalls"
   ]
  },
  {
   "cell_type": "code",
   "execution_count": null,
   "metadata": {},
   "outputs": [],
   "source": []
  }
 ],
 "metadata": {
  "kernelspec": {
   "display_name": "Python 3.10.6 ('venv': venv)",
   "language": "python",
   "name": "python3"
  },
  "language_info": {
   "codemirror_mode": {
    "name": "ipython",
    "version": 3
   },
   "file_extension": ".py",
   "mimetype": "text/x-python",
   "name": "python",
   "nbconvert_exporter": "python",
   "pygments_lexer": "ipython3",
   "version": "3.10.6 (tags/v3.10.6:9c7b4bd, Aug  1 2022, 21:53:49) [MSC v.1932 64 bit (AMD64)]"
  },
  "orig_nbformat": 4,
  "vscode": {
   "interpreter": {
    "hash": "69eb08d3e713eff25484e90b18c01e15df779e80a0db295f9ddc53faed0455be"
   }
  }
 },
 "nbformat": 4,
 "nbformat_minor": 2
}
