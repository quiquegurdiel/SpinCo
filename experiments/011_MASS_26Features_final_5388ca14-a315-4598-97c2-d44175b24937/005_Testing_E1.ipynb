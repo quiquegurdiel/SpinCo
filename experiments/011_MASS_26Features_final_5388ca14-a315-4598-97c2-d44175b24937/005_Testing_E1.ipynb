{
 "cells": [
  {
   "attachments": {},
   "cell_type": "markdown",
   "metadata": {},
   "source": [
    "# Testing for E1 - using all spindles, training with all data\n",
    "fistly define the UUID of the experiment to use"
   ]
  },
  {
   "cell_type": "code",
   "execution_count": 1,
   "metadata": {},
   "outputs": [],
   "source": [
    "experimentId=\"\""
   ]
  },
  {
   "cell_type": "markdown",
   "metadata": {},
   "source": [
    "-------------------------------------------------------"
   ]
  },
  {
   "cell_type": "code",
   "execution_count": 2,
   "metadata": {},
   "outputs": [],
   "source": [
    "#external libraries\n",
    "import numpy as np\n",
    "import os\n",
    "import matplotlib.pyplot as plt\n",
    "import matplotlib.colors as clt\n",
    "import plotly\n",
    "import plotly.subplots as sb\n",
    "import plotly.express as px\n",
    "import plotly.graph_objects as go\n",
    "import dotenv\n",
    "import pandas as pd\n",
    "import scipy.fft as fft\n",
    "import scipy.signal as sg\n",
    "import scipy.io as sio\n",
    "import pickle as pkl\n",
    "import xgboost as xgb\n",
    "import time\n",
    "import sklearn.metrics as skm\n",
    "\n",
    "#project library\n",
    "from spinco import *\n",
    "\n",
    "#environment variables\n",
    "dotenv.load_dotenv('lab.env')\n",
    "\n",
    "#project variables\n",
    "datapath=os.environ['DATAPATH']\n",
    "cognipath=datapath+\"\\\\COGNITION\"\n",
    "dreamspath=datapath+\"\\\\DREAMS\"\n",
    "masspath=datapath+\"\\\\MASS\"\n"
   ]
  },
  {
   "cell_type": "markdown",
   "metadata": {},
   "source": [
    "## load mass"
   ]
  },
  {
   "cell_type": "code",
   "execution_count": 3,
   "metadata": {},
   "outputs": [],
   "source": [
    "samplerate=200  #Should rethink this"
   ]
  },
  {
   "cell_type": "code",
   "execution_count": 4,
   "metadata": {},
   "outputs": [],
   "source": [
    "annotations, signalsMetadata = loadMASSSpindles(masspath,forceSamplerate=samplerate)"
   ]
  },
  {
   "cell_type": "code",
   "execution_count": 5,
   "metadata": {},
   "outputs": [],
   "source": [
    "#consider to include this in a function\n",
    "minDuration=0.3\n",
    "maxDuration=5\n",
    "annotations=annotations[annotations.type=='spindle']\n",
    "annotations=annotations[annotations.duration>minDuration]\n",
    "annotations=annotations[annotations.duration<maxDuration]\n",
    "annotations=annotations.reset_index(drop=True)"
   ]
  },
  {
   "cell_type": "code",
   "execution_count": 6,
   "metadata": {},
   "outputs": [
    {
     "name": "stdout",
     "output_type": "stream",
     "text": [
      "0.011297746428357902\n"
     ]
    }
   ],
   "source": [
    "#check with EDA results (not needed)\n",
    "print(1-len(annotations)/33458)"
   ]
  },
  {
   "cell_type": "code",
   "execution_count": 7,
   "metadata": {},
   "outputs": [
    {
     "data": {
      "text/html": [
       "<div>\n",
       "<style scoped>\n",
       "    .dataframe tbody tr th:only-of-type {\n",
       "        vertical-align: middle;\n",
       "    }\n",
       "\n",
       "    .dataframe tbody tr th {\n",
       "        vertical-align: top;\n",
       "    }\n",
       "\n",
       "    .dataframe thead th {\n",
       "        text-align: right;\n",
       "    }\n",
       "</style>\n",
       "<table border=\"1\" class=\"dataframe\">\n",
       "  <thead>\n",
       "    <tr style=\"text-align: right;\">\n",
       "      <th></th>\n",
       "      <th>type</th>\n",
       "      <th>expert</th>\n",
       "      <th>subjectId</th>\n",
       "      <th>labelerId</th>\n",
       "      <th>startTime</th>\n",
       "      <th>duration</th>\n",
       "      <th>samplerate</th>\n",
       "      <th>stopTime</th>\n",
       "      <th>startInd</th>\n",
       "      <th>stopInd</th>\n",
       "    </tr>\n",
       "  </thead>\n",
       "  <tbody>\n",
       "    <tr>\n",
       "      <th>0</th>\n",
       "      <td>spindle</td>\n",
       "      <td>E1</td>\n",
       "      <td>0001</td>\n",
       "      <td>0001</td>\n",
       "      <td>888.327805</td>\n",
       "      <td>0.640579</td>\n",
       "      <td>200</td>\n",
       "      <td>888.968384</td>\n",
       "      <td>177666</td>\n",
       "      <td>177794</td>\n",
       "    </tr>\n",
       "    <tr>\n",
       "      <th>1</th>\n",
       "      <td>spindle</td>\n",
       "      <td>E1</td>\n",
       "      <td>0001</td>\n",
       "      <td>0001</td>\n",
       "      <td>905.758061</td>\n",
       "      <td>0.578094</td>\n",
       "      <td>200</td>\n",
       "      <td>906.336155</td>\n",
       "      <td>181152</td>\n",
       "      <td>181267</td>\n",
       "    </tr>\n",
       "    <tr>\n",
       "      <th>2</th>\n",
       "      <td>spindle</td>\n",
       "      <td>E1</td>\n",
       "      <td>0001</td>\n",
       "      <td>0001</td>\n",
       "      <td>917.731574</td>\n",
       "      <td>0.847603</td>\n",
       "      <td>200</td>\n",
       "      <td>918.579177</td>\n",
       "      <td>183546</td>\n",
       "      <td>183716</td>\n",
       "    </tr>\n",
       "    <tr>\n",
       "      <th>3</th>\n",
       "      <td>spindle</td>\n",
       "      <td>E1</td>\n",
       "      <td>0001</td>\n",
       "      <td>0001</td>\n",
       "      <td>922.078189</td>\n",
       "      <td>0.878845</td>\n",
       "      <td>200</td>\n",
       "      <td>922.957034</td>\n",
       "      <td>184416</td>\n",
       "      <td>184591</td>\n",
       "    </tr>\n",
       "    <tr>\n",
       "      <th>4</th>\n",
       "      <td>spindle</td>\n",
       "      <td>E1</td>\n",
       "      <td>0001</td>\n",
       "      <td>0001</td>\n",
       "      <td>939.055445</td>\n",
       "      <td>0.757767</td>\n",
       "      <td>200</td>\n",
       "      <td>939.813212</td>\n",
       "      <td>187811</td>\n",
       "      <td>187963</td>\n",
       "    </tr>\n",
       "  </tbody>\n",
       "</table>\n",
       "</div>"
      ],
      "text/plain": [
       "      type expert subjectId labelerId   startTime  duration  samplerate  \\\n",
       "0  spindle     E1      0001      0001  888.327805  0.640579         200   \n",
       "1  spindle     E1      0001      0001  905.758061  0.578094         200   \n",
       "2  spindle     E1      0001      0001  917.731574  0.847603         200   \n",
       "3  spindle     E1      0001      0001  922.078189  0.878845         200   \n",
       "4  spindle     E1      0001      0001  939.055445  0.757767         200   \n",
       "\n",
       "     stopTime  startInd  stopInd  \n",
       "0  888.968384    177666   177794  \n",
       "1  906.336155    181152   181267  \n",
       "2  918.579177    183546   183716  \n",
       "3  922.957034    184416   184591  \n",
       "4  939.813212    187811   187963  "
      ]
     },
     "execution_count": 7,
     "metadata": {},
     "output_type": "execute_result"
    }
   ],
   "source": [
    "annotations.head()"
   ]
  },
  {
   "cell_type": "code",
   "execution_count": 8,
   "metadata": {},
   "outputs": [
    {
     "data": {
      "text/html": [
       "<div>\n",
       "<style scoped>\n",
       "    .dataframe tbody tr th:only-of-type {\n",
       "        vertical-align: middle;\n",
       "    }\n",
       "\n",
       "    .dataframe tbody tr th {\n",
       "        vertical-align: top;\n",
       "    }\n",
       "\n",
       "    .dataframe thead th {\n",
       "        text-align: right;\n",
       "    }\n",
       "</style>\n",
       "<table border=\"1\" class=\"dataframe\">\n",
       "  <thead>\n",
       "    <tr style=\"text-align: right;\">\n",
       "      <th></th>\n",
       "      <th>subjectId</th>\n",
       "      <th>file</th>\n",
       "      <th>channel</th>\n",
       "      <th>duration</th>\n",
       "      <th>samplerate</th>\n",
       "      <th>isOriginalSamplerate</th>\n",
       "      <th>database</th>\n",
       "    </tr>\n",
       "  </thead>\n",
       "  <tbody>\n",
       "    <tr>\n",
       "      <th>0</th>\n",
       "      <td>0001</td>\n",
       "      <td>MASS_0001.pkl</td>\n",
       "      <td>C3-CLE</td>\n",
       "      <td>28956.0</td>\n",
       "      <td>200</td>\n",
       "      <td>False</td>\n",
       "      <td>MASS</td>\n",
       "    </tr>\n",
       "    <tr>\n",
       "      <th>1</th>\n",
       "      <td>0002</td>\n",
       "      <td>MASS_0002.pkl</td>\n",
       "      <td>C3-CLE</td>\n",
       "      <td>35016.0</td>\n",
       "      <td>200</td>\n",
       "      <td>False</td>\n",
       "      <td>MASS</td>\n",
       "    </tr>\n",
       "    <tr>\n",
       "      <th>2</th>\n",
       "      <td>0003</td>\n",
       "      <td>MASS_0003.pkl</td>\n",
       "      <td>C3-CLE</td>\n",
       "      <td>36760.0</td>\n",
       "      <td>200</td>\n",
       "      <td>False</td>\n",
       "      <td>MASS</td>\n",
       "    </tr>\n",
       "    <tr>\n",
       "      <th>3</th>\n",
       "      <td>0004</td>\n",
       "      <td>MASS_0004.pkl</td>\n",
       "      <td>C3-CLE</td>\n",
       "      <td>28004.0</td>\n",
       "      <td>200</td>\n",
       "      <td>False</td>\n",
       "      <td>MASS</td>\n",
       "    </tr>\n",
       "    <tr>\n",
       "      <th>4</th>\n",
       "      <td>0005</td>\n",
       "      <td>MASS_0005.pkl</td>\n",
       "      <td>C3-CLE</td>\n",
       "      <td>31244.0</td>\n",
       "      <td>200</td>\n",
       "      <td>False</td>\n",
       "      <td>MASS</td>\n",
       "    </tr>\n",
       "  </tbody>\n",
       "</table>\n",
       "</div>"
      ],
      "text/plain": [
       "  subjectId           file channel  duration  samplerate  \\\n",
       "0      0001  MASS_0001.pkl  C3-CLE   28956.0         200   \n",
       "1      0002  MASS_0002.pkl  C3-CLE   35016.0         200   \n",
       "2      0003  MASS_0003.pkl  C3-CLE   36760.0         200   \n",
       "3      0004  MASS_0004.pkl  C3-CLE   28004.0         200   \n",
       "4      0005  MASS_0005.pkl  C3-CLE   31244.0         200   \n",
       "\n",
       "   isOriginalSamplerate database  \n",
       "0                 False     MASS  \n",
       "1                 False     MASS  \n",
       "2                 False     MASS  \n",
       "3                 False     MASS  \n",
       "4                 False     MASS  "
      ]
     },
     "execution_count": 8,
     "metadata": {},
     "output_type": "execute_result"
    }
   ],
   "source": [
    "signalsMetadata.head()"
   ]
  },
  {
   "cell_type": "markdown",
   "metadata": {},
   "source": [
    "## Load experiment results"
   ]
  },
  {
   "cell_type": "code",
   "execution_count": 9,
   "metadata": {},
   "outputs": [],
   "source": [
    "experimentModels, featureSelection = loadExperiment(experimentId,datapath)"
   ]
  },
  {
   "cell_type": "code",
   "execution_count": 10,
   "metadata": {},
   "outputs": [
    {
     "data": {
      "text/html": [
       "<div>\n",
       "<style scoped>\n",
       "    .dataframe tbody tr th:only-of-type {\n",
       "        vertical-align: middle;\n",
       "    }\n",
       "\n",
       "    .dataframe tbody tr th {\n",
       "        vertical-align: top;\n",
       "    }\n",
       "\n",
       "    .dataframe thead th {\n",
       "        text-align: right;\n",
       "    }\n",
       "</style>\n",
       "<table border=\"1\" class=\"dataframe\">\n",
       "  <thead>\n",
       "    <tr style=\"text-align: right;\">\n",
       "      <th></th>\n",
       "      <th>criteriumId</th>\n",
       "      <th>criteriumName</th>\n",
       "      <th>labelerIdList</th>\n",
       "      <th>train</th>\n",
       "      <th>val</th>\n",
       "      <th>test</th>\n",
       "      <th>modelId</th>\n",
       "      <th>spindleTimeRate</th>\n",
       "    </tr>\n",
       "  </thead>\n",
       "  <tbody>\n",
       "    <tr>\n",
       "      <th>0</th>\n",
       "      <td>0001</td>\n",
       "      <td>E1</td>\n",
       "      <td>[0001]</td>\n",
       "      <td>[0003, 0005, 0007, 0009, 0010, 0011, 0012, 001...</td>\n",
       "      <td>[0017, 0002, 0006]</td>\n",
       "      <td>0001</td>\n",
       "      <td>8b2ea581-6dec-4094-957e-cc1ceb7234c5</td>\n",
       "      <td>0.018639</td>\n",
       "    </tr>\n",
       "    <tr>\n",
       "      <th>1</th>\n",
       "      <td>0001</td>\n",
       "      <td>E1</td>\n",
       "      <td>[0001]</td>\n",
       "      <td>[0001, 0003, 0005, 0007, 0009, 0010, 0011, 001...</td>\n",
       "      <td>[0006, 0013, 0019]</td>\n",
       "      <td>0002</td>\n",
       "      <td>80181036-469f-4bcf-95a0-68374649133a</td>\n",
       "      <td>0.020055</td>\n",
       "    </tr>\n",
       "    <tr>\n",
       "      <th>2</th>\n",
       "      <td>0001</td>\n",
       "      <td>E1</td>\n",
       "      <td>[0001]</td>\n",
       "      <td>[0002, 0005, 0007, 0009, 0010, 0011, 0012, 001...</td>\n",
       "      <td>[0013, 0006, 0001]</td>\n",
       "      <td>0003</td>\n",
       "      <td>f6cafb09-5e74-4889-a306-e517e28d70fe</td>\n",
       "      <td>0.021075</td>\n",
       "    </tr>\n",
       "    <tr>\n",
       "      <th>3</th>\n",
       "      <td>0001</td>\n",
       "      <td>E1</td>\n",
       "      <td>[0001]</td>\n",
       "      <td>[0001, 0002, 0003, 0006, 0007, 0009, 0010, 001...</td>\n",
       "      <td>[0018, 0014, 0012]</td>\n",
       "      <td>0005</td>\n",
       "      <td>2bf1e17a-c8bb-4166-8453-7fdff2414b10</td>\n",
       "      <td>0.018331</td>\n",
       "    </tr>\n",
       "    <tr>\n",
       "      <th>4</th>\n",
       "      <td>0001</td>\n",
       "      <td>E1</td>\n",
       "      <td>[0001]</td>\n",
       "      <td>[0003, 0007, 0009, 0010, 0011, 0012, 0013, 001...</td>\n",
       "      <td>[0005, 0001, 0002]</td>\n",
       "      <td>0006</td>\n",
       "      <td>0feacbcf-4f37-402e-8fbc-4e48a2520bd4</td>\n",
       "      <td>0.019222</td>\n",
       "    </tr>\n",
       "    <tr>\n",
       "      <th>5</th>\n",
       "      <td>0001</td>\n",
       "      <td>E1</td>\n",
       "      <td>[0001]</td>\n",
       "      <td>[0001, 0002, 0003, 0010, 0011, 0012, 0013, 001...</td>\n",
       "      <td>[0005, 0006, 0009]</td>\n",
       "      <td>0007</td>\n",
       "      <td>29c70696-0202-4feb-bd78-3579052a4865</td>\n",
       "      <td>0.019625</td>\n",
       "    </tr>\n",
       "    <tr>\n",
       "      <th>6</th>\n",
       "      <td>0001</td>\n",
       "      <td>E1</td>\n",
       "      <td>[0001]</td>\n",
       "      <td>[0001, 0003, 0005, 0006, 0007, 0010, 0011, 001...</td>\n",
       "      <td>[0002, 0017, 0013]</td>\n",
       "      <td>0009</td>\n",
       "      <td>768cb7b4-e534-49f7-b9c4-acfa7b401ffe</td>\n",
       "      <td>0.017824</td>\n",
       "    </tr>\n",
       "    <tr>\n",
       "      <th>7</th>\n",
       "      <td>0001</td>\n",
       "      <td>E1</td>\n",
       "      <td>[0001]</td>\n",
       "      <td>[0002, 0003, 0005, 0006, 0007, 0009, 0012, 001...</td>\n",
       "      <td>[0017, 0001, 0011]</td>\n",
       "      <td>0010</td>\n",
       "      <td>e3d50ec6-a2f8-45fc-88f9-9af0621c2050</td>\n",
       "      <td>0.017542</td>\n",
       "    </tr>\n",
       "    <tr>\n",
       "      <th>8</th>\n",
       "      <td>0001</td>\n",
       "      <td>E1</td>\n",
       "      <td>[0001]</td>\n",
       "      <td>[0001, 0003, 0005, 0006, 0009, 0010, 0012, 001...</td>\n",
       "      <td>[0002, 0018, 0007]</td>\n",
       "      <td>0011</td>\n",
       "      <td>d539204f-ac49-4811-9ed0-9b39bc65c8f3</td>\n",
       "      <td>0.015442</td>\n",
       "    </tr>\n",
       "    <tr>\n",
       "      <th>9</th>\n",
       "      <td>0001</td>\n",
       "      <td>E1</td>\n",
       "      <td>[0001]</td>\n",
       "      <td>[0002, 0003, 0005, 0006, 0009, 0011, 0013, 001...</td>\n",
       "      <td>[0001, 0007, 0010]</td>\n",
       "      <td>0012</td>\n",
       "      <td>1fe9ebda-f8d4-46a7-8ec3-1c1477a12af6</td>\n",
       "      <td>0.016460</td>\n",
       "    </tr>\n",
       "    <tr>\n",
       "      <th>10</th>\n",
       "      <td>0001</td>\n",
       "      <td>E1</td>\n",
       "      <td>[0001]</td>\n",
       "      <td>[0002, 0003, 0005, 0006, 0007, 0010, 0011, 001...</td>\n",
       "      <td>[0009, 0001, 0012]</td>\n",
       "      <td>0013</td>\n",
       "      <td>fef1292a-c2f5-4c3e-96c0-b9ec6f60cb96</td>\n",
       "      <td>0.017297</td>\n",
       "    </tr>\n",
       "    <tr>\n",
       "      <th>11</th>\n",
       "      <td>0001</td>\n",
       "      <td>E1</td>\n",
       "      <td>[0001]</td>\n",
       "      <td>[0001, 0002, 0003, 0005, 0006, 0007, 0009, 001...</td>\n",
       "      <td>[0010, 0012, 0011]</td>\n",
       "      <td>0014</td>\n",
       "      <td>17643ba4-cb3b-4cd8-818b-406abeab9cb3</td>\n",
       "      <td>0.017868</td>\n",
       "    </tr>\n",
       "    <tr>\n",
       "      <th>12</th>\n",
       "      <td>0001</td>\n",
       "      <td>E1</td>\n",
       "      <td>[0001]</td>\n",
       "      <td>[0002, 0003, 0005, 0006, 0007, 0009, 0011, 001...</td>\n",
       "      <td>[0010, 0018, 0001]</td>\n",
       "      <td>0017</td>\n",
       "      <td>deda4266-2cea-44e1-93d6-21d866332ca0</td>\n",
       "      <td>0.016504</td>\n",
       "    </tr>\n",
       "    <tr>\n",
       "      <th>13</th>\n",
       "      <td>0001</td>\n",
       "      <td>E1</td>\n",
       "      <td>[0001]</td>\n",
       "      <td>[0001, 0002, 0005, 0006, 0007, 0010, 0011, 001...</td>\n",
       "      <td>[0012, 0003, 0009]</td>\n",
       "      <td>0018</td>\n",
       "      <td>60d7b18b-ed9c-40bb-98ce-5193ad5abe70</td>\n",
       "      <td>0.018626</td>\n",
       "    </tr>\n",
       "    <tr>\n",
       "      <th>14</th>\n",
       "      <td>0001</td>\n",
       "      <td>E1</td>\n",
       "      <td>[0001]</td>\n",
       "      <td>[0001, 0002, 0005, 0007, 0009, 0010, 0011, 001...</td>\n",
       "      <td>[0014, 0006, 0003]</td>\n",
       "      <td>0019</td>\n",
       "      <td>c8a28ce7-7f69-4a97-bfe2-229b91334659</td>\n",
       "      <td>0.022439</td>\n",
       "    </tr>\n",
       "    <tr>\n",
       "      <th>15</th>\n",
       "      <td>0002</td>\n",
       "      <td>E2</td>\n",
       "      <td>[0002]</td>\n",
       "      <td>[0003, 0005, 0007, 0009, 0010, 0011, 0012, 001...</td>\n",
       "      <td>[0017, 0002, 0006]</td>\n",
       "      <td>0001</td>\n",
       "      <td>bf748cb3-0db0-4e08-b725-3f4b82679017</td>\n",
       "      <td>0.055090</td>\n",
       "    </tr>\n",
       "    <tr>\n",
       "      <th>16</th>\n",
       "      <td>0002</td>\n",
       "      <td>E2</td>\n",
       "      <td>[0002]</td>\n",
       "      <td>[0001, 0003, 0005, 0007, 0009, 0010, 0011, 001...</td>\n",
       "      <td>[0006, 0013, 0019]</td>\n",
       "      <td>0002</td>\n",
       "      <td>57897053-2189-42d0-8c44-90c32b067094</td>\n",
       "      <td>0.060029</td>\n",
       "    </tr>\n",
       "    <tr>\n",
       "      <th>17</th>\n",
       "      <td>0002</td>\n",
       "      <td>E2</td>\n",
       "      <td>[0002]</td>\n",
       "      <td>[0002, 0005, 0007, 0009, 0010, 0011, 0012, 001...</td>\n",
       "      <td>[0013, 0006, 0001]</td>\n",
       "      <td>0003</td>\n",
       "      <td>d9715543-4141-4773-83d3-da2830e98685</td>\n",
       "      <td>0.061873</td>\n",
       "    </tr>\n",
       "    <tr>\n",
       "      <th>18</th>\n",
       "      <td>0002</td>\n",
       "      <td>E2</td>\n",
       "      <td>[0002]</td>\n",
       "      <td>[0001, 0002, 0003, 0006, 0007, 0009, 0010, 001...</td>\n",
       "      <td>[0018, 0014, 0012]</td>\n",
       "      <td>0005</td>\n",
       "      <td>dadf35ae-1f3a-43da-8303-5fff33a435c4</td>\n",
       "      <td>0.060346</td>\n",
       "    </tr>\n",
       "    <tr>\n",
       "      <th>19</th>\n",
       "      <td>0002</td>\n",
       "      <td>E2</td>\n",
       "      <td>[0002]</td>\n",
       "      <td>[0003, 0007, 0009, 0010, 0011, 0012, 0013, 001...</td>\n",
       "      <td>[0005, 0001, 0002]</td>\n",
       "      <td>0006</td>\n",
       "      <td>255a0333-5bc4-45dc-aee7-89f4718866a7</td>\n",
       "      <td>0.056983</td>\n",
       "    </tr>\n",
       "    <tr>\n",
       "      <th>20</th>\n",
       "      <td>0002</td>\n",
       "      <td>E2</td>\n",
       "      <td>[0002]</td>\n",
       "      <td>[0001, 0002, 0003, 0010, 0011, 0012, 0013, 001...</td>\n",
       "      <td>[0005, 0006, 0009]</td>\n",
       "      <td>0007</td>\n",
       "      <td>a636bcf2-756a-4080-bb6e-a1f4cd400f46</td>\n",
       "      <td>0.060034</td>\n",
       "    </tr>\n",
       "    <tr>\n",
       "      <th>21</th>\n",
       "      <td>0002</td>\n",
       "      <td>E2</td>\n",
       "      <td>[0002]</td>\n",
       "      <td>[0001, 0003, 0005, 0006, 0007, 0010, 0011, 001...</td>\n",
       "      <td>[0002, 0017, 0013]</td>\n",
       "      <td>0009</td>\n",
       "      <td>5a2de0ee-a55e-4039-aef4-ee73020fbd45</td>\n",
       "      <td>0.054858</td>\n",
       "    </tr>\n",
       "    <tr>\n",
       "      <th>22</th>\n",
       "      <td>0002</td>\n",
       "      <td>E2</td>\n",
       "      <td>[0002]</td>\n",
       "      <td>[0002, 0003, 0005, 0006, 0007, 0009, 0012, 001...</td>\n",
       "      <td>[0017, 0001, 0011]</td>\n",
       "      <td>0010</td>\n",
       "      <td>68afbb00-3c69-45a0-96fb-c8bb1f3682c7</td>\n",
       "      <td>0.050874</td>\n",
       "    </tr>\n",
       "    <tr>\n",
       "      <th>23</th>\n",
       "      <td>0002</td>\n",
       "      <td>E2</td>\n",
       "      <td>[0002]</td>\n",
       "      <td>[0001, 0003, 0005, 0006, 0009, 0010, 0012, 001...</td>\n",
       "      <td>[0002, 0018, 0007]</td>\n",
       "      <td>0011</td>\n",
       "      <td>97cd3944-413e-48a8-a112-61ad4a62d585</td>\n",
       "      <td>0.053403</td>\n",
       "    </tr>\n",
       "    <tr>\n",
       "      <th>24</th>\n",
       "      <td>0002</td>\n",
       "      <td>E2</td>\n",
       "      <td>[0002]</td>\n",
       "      <td>[0002, 0003, 0005, 0006, 0009, 0011, 0013, 001...</td>\n",
       "      <td>[0001, 0007, 0010]</td>\n",
       "      <td>0012</td>\n",
       "      <td>b38c4b53-8f69-4715-8715-2e45fa1bf3c3</td>\n",
       "      <td>0.051788</td>\n",
       "    </tr>\n",
       "    <tr>\n",
       "      <th>25</th>\n",
       "      <td>0002</td>\n",
       "      <td>E2</td>\n",
       "      <td>[0002]</td>\n",
       "      <td>[0002, 0003, 0005, 0006, 0007, 0010, 0011, 001...</td>\n",
       "      <td>[0009, 0001, 0012]</td>\n",
       "      <td>0013</td>\n",
       "      <td>b7970d34-50d5-4c03-ae58-a9eac2936305</td>\n",
       "      <td>0.054295</td>\n",
       "    </tr>\n",
       "    <tr>\n",
       "      <th>26</th>\n",
       "      <td>0002</td>\n",
       "      <td>E2</td>\n",
       "      <td>[0002]</td>\n",
       "      <td>[0001, 0002, 0003, 0005, 0006, 0007, 0009, 001...</td>\n",
       "      <td>[0010, 0012, 0011]</td>\n",
       "      <td>0014</td>\n",
       "      <td>24ae87c7-0321-4379-be41-54e39eebff8f</td>\n",
       "      <td>0.054393</td>\n",
       "    </tr>\n",
       "    <tr>\n",
       "      <th>27</th>\n",
       "      <td>0002</td>\n",
       "      <td>E2</td>\n",
       "      <td>[0002]</td>\n",
       "      <td>[0002, 0003, 0005, 0006, 0007, 0009, 0011, 001...</td>\n",
       "      <td>[0010, 0018, 0001]</td>\n",
       "      <td>0017</td>\n",
       "      <td>549b83e9-f9d6-40a9-8a7a-0d4ca9756e77</td>\n",
       "      <td>0.052233</td>\n",
       "    </tr>\n",
       "    <tr>\n",
       "      <th>28</th>\n",
       "      <td>0002</td>\n",
       "      <td>E2</td>\n",
       "      <td>[0002]</td>\n",
       "      <td>[0001, 0002, 0005, 0006, 0007, 0010, 0011, 001...</td>\n",
       "      <td>[0012, 0003, 0009]</td>\n",
       "      <td>0018</td>\n",
       "      <td>af4945ef-f9e1-4139-8276-6a1afa9a84bd</td>\n",
       "      <td>0.062733</td>\n",
       "    </tr>\n",
       "    <tr>\n",
       "      <th>29</th>\n",
       "      <td>0002</td>\n",
       "      <td>E2</td>\n",
       "      <td>[0002]</td>\n",
       "      <td>[0001, 0002, 0005, 0007, 0009, 0010, 0011, 001...</td>\n",
       "      <td>[0014, 0006, 0003]</td>\n",
       "      <td>0019</td>\n",
       "      <td>877ff07d-f2c9-476a-b02b-31ee609f9141</td>\n",
       "      <td>0.065389</td>\n",
       "    </tr>\n",
       "    <tr>\n",
       "      <th>30</th>\n",
       "      <td>0003</td>\n",
       "      <td>union</td>\n",
       "      <td>[0001, 0002]</td>\n",
       "      <td>[0003, 0005, 0007, 0009, 0010, 0011, 0012, 001...</td>\n",
       "      <td>[0017, 0002, 0006]</td>\n",
       "      <td>0001</td>\n",
       "      <td>7feab6c6-8ccf-4056-b394-5b6d7b96cb7a</td>\n",
       "      <td>0.056933</td>\n",
       "    </tr>\n",
       "    <tr>\n",
       "      <th>31</th>\n",
       "      <td>0003</td>\n",
       "      <td>union</td>\n",
       "      <td>[0001, 0002]</td>\n",
       "      <td>[0001, 0003, 0005, 0007, 0009, 0010, 0011, 001...</td>\n",
       "      <td>[0006, 0013, 0019]</td>\n",
       "      <td>0002</td>\n",
       "      <td>aca6fbc5-bdf4-4890-bc15-bd3cc527aa65</td>\n",
       "      <td>0.061753</td>\n",
       "    </tr>\n",
       "    <tr>\n",
       "      <th>32</th>\n",
       "      <td>0003</td>\n",
       "      <td>union</td>\n",
       "      <td>[0001, 0002]</td>\n",
       "      <td>[0002, 0005, 0007, 0009, 0010, 0011, 0012, 001...</td>\n",
       "      <td>[0013, 0006, 0001]</td>\n",
       "      <td>0003</td>\n",
       "      <td>ec017e6c-bd1b-41f7-af84-ed6023617980</td>\n",
       "      <td>0.063653</td>\n",
       "    </tr>\n",
       "    <tr>\n",
       "      <th>33</th>\n",
       "      <td>0003</td>\n",
       "      <td>union</td>\n",
       "      <td>[0001, 0002]</td>\n",
       "      <td>[0001, 0002, 0003, 0006, 0007, 0009, 0010, 001...</td>\n",
       "      <td>[0018, 0014, 0012]</td>\n",
       "      <td>0005</td>\n",
       "      <td>abcd606e-c9ec-4194-807e-4a045dcd0e18</td>\n",
       "      <td>0.061551</td>\n",
       "    </tr>\n",
       "    <tr>\n",
       "      <th>34</th>\n",
       "      <td>0003</td>\n",
       "      <td>union</td>\n",
       "      <td>[0001, 0002]</td>\n",
       "      <td>[0003, 0007, 0009, 0010, 0011, 0012, 0013, 001...</td>\n",
       "      <td>[0005, 0001, 0002]</td>\n",
       "      <td>0006</td>\n",
       "      <td>ba039537-8f79-49cf-8ac8-383434059506</td>\n",
       "      <td>0.058867</td>\n",
       "    </tr>\n",
       "    <tr>\n",
       "      <th>35</th>\n",
       "      <td>0003</td>\n",
       "      <td>union</td>\n",
       "      <td>[0001, 0002]</td>\n",
       "      <td>[0001, 0002, 0003, 0010, 0011, 0012, 0013, 001...</td>\n",
       "      <td>[0005, 0006, 0009]</td>\n",
       "      <td>0007</td>\n",
       "      <td>496b4ddf-f8cb-4244-89ad-0439681b820b</td>\n",
       "      <td>0.061559</td>\n",
       "    </tr>\n",
       "    <tr>\n",
       "      <th>36</th>\n",
       "      <td>0003</td>\n",
       "      <td>union</td>\n",
       "      <td>[0001, 0002]</td>\n",
       "      <td>[0001, 0003, 0005, 0006, 0007, 0010, 0011, 001...</td>\n",
       "      <td>[0002, 0017, 0013]</td>\n",
       "      <td>0009</td>\n",
       "      <td>7daf0b7c-d584-4841-8dd3-6d4cec075655</td>\n",
       "      <td>0.056429</td>\n",
       "    </tr>\n",
       "    <tr>\n",
       "      <th>37</th>\n",
       "      <td>0003</td>\n",
       "      <td>union</td>\n",
       "      <td>[0001, 0002]</td>\n",
       "      <td>[0002, 0003, 0005, 0006, 0007, 0009, 0012, 001...</td>\n",
       "      <td>[0017, 0001, 0011]</td>\n",
       "      <td>0010</td>\n",
       "      <td>cf984650-f856-4b2e-9290-4aba38fd6427</td>\n",
       "      <td>0.052594</td>\n",
       "    </tr>\n",
       "    <tr>\n",
       "      <th>38</th>\n",
       "      <td>0003</td>\n",
       "      <td>union</td>\n",
       "      <td>[0001, 0002]</td>\n",
       "      <td>[0001, 0003, 0005, 0006, 0009, 0010, 0012, 001...</td>\n",
       "      <td>[0002, 0018, 0007]</td>\n",
       "      <td>0011</td>\n",
       "      <td>8be0a742-8fa8-4f1f-a081-622ff61d7bb5</td>\n",
       "      <td>0.054510</td>\n",
       "    </tr>\n",
       "    <tr>\n",
       "      <th>39</th>\n",
       "      <td>0003</td>\n",
       "      <td>union</td>\n",
       "      <td>[0001, 0002]</td>\n",
       "      <td>[0002, 0003, 0005, 0006, 0009, 0011, 0013, 001...</td>\n",
       "      <td>[0001, 0007, 0010]</td>\n",
       "      <td>0012</td>\n",
       "      <td>87814133-dd28-4c87-860b-c4ef8d85801e</td>\n",
       "      <td>0.053111</td>\n",
       "    </tr>\n",
       "    <tr>\n",
       "      <th>40</th>\n",
       "      <td>0003</td>\n",
       "      <td>union</td>\n",
       "      <td>[0001, 0002]</td>\n",
       "      <td>[0002, 0003, 0005, 0006, 0007, 0010, 0011, 001...</td>\n",
       "      <td>[0009, 0001, 0012]</td>\n",
       "      <td>0013</td>\n",
       "      <td>3d0715ed-4682-4fa5-9cc7-f167312e833b</td>\n",
       "      <td>0.055680</td>\n",
       "    </tr>\n",
       "    <tr>\n",
       "      <th>41</th>\n",
       "      <td>0003</td>\n",
       "      <td>union</td>\n",
       "      <td>[0001, 0002]</td>\n",
       "      <td>[0001, 0002, 0003, 0005, 0006, 0007, 0009, 001...</td>\n",
       "      <td>[0010, 0012, 0011]</td>\n",
       "      <td>0014</td>\n",
       "      <td>1ec0ffd4-9973-4c92-9d68-80bfc2610b4e</td>\n",
       "      <td>0.055874</td>\n",
       "    </tr>\n",
       "    <tr>\n",
       "      <th>42</th>\n",
       "      <td>0003</td>\n",
       "      <td>union</td>\n",
       "      <td>[0001, 0002]</td>\n",
       "      <td>[0002, 0003, 0005, 0006, 0007, 0009, 0011, 001...</td>\n",
       "      <td>[0010, 0018, 0001]</td>\n",
       "      <td>0017</td>\n",
       "      <td>85254932-ed56-4105-92cd-63187d464506</td>\n",
       "      <td>0.053601</td>\n",
       "    </tr>\n",
       "    <tr>\n",
       "      <th>43</th>\n",
       "      <td>0003</td>\n",
       "      <td>union</td>\n",
       "      <td>[0001, 0002]</td>\n",
       "      <td>[0001, 0002, 0005, 0006, 0007, 0010, 0011, 001...</td>\n",
       "      <td>[0012, 0003, 0009]</td>\n",
       "      <td>0018</td>\n",
       "      <td>4ae8df49-0dfe-4d18-8f0b-e1dfd3285c3e</td>\n",
       "      <td>0.063944</td>\n",
       "    </tr>\n",
       "    <tr>\n",
       "      <th>44</th>\n",
       "      <td>0003</td>\n",
       "      <td>union</td>\n",
       "      <td>[0001, 0002]</td>\n",
       "      <td>[0001, 0002, 0005, 0007, 0009, 0010, 0011, 001...</td>\n",
       "      <td>[0014, 0006, 0003]</td>\n",
       "      <td>0019</td>\n",
       "      <td>e3714d66-0198-4ba1-b455-3405e39de414</td>\n",
       "      <td>0.067267</td>\n",
       "    </tr>\n",
       "  </tbody>\n",
       "</table>\n",
       "</div>"
      ],
      "text/plain": [
       "   criteriumId criteriumName labelerIdList  \\\n",
       "0         0001            E1        [0001]   \n",
       "1         0001            E1        [0001]   \n",
       "2         0001            E1        [0001]   \n",
       "3         0001            E1        [0001]   \n",
       "4         0001            E1        [0001]   \n",
       "5         0001            E1        [0001]   \n",
       "6         0001            E1        [0001]   \n",
       "7         0001            E1        [0001]   \n",
       "8         0001            E1        [0001]   \n",
       "9         0001            E1        [0001]   \n",
       "10        0001            E1        [0001]   \n",
       "11        0001            E1        [0001]   \n",
       "12        0001            E1        [0001]   \n",
       "13        0001            E1        [0001]   \n",
       "14        0001            E1        [0001]   \n",
       "15        0002            E2        [0002]   \n",
       "16        0002            E2        [0002]   \n",
       "17        0002            E2        [0002]   \n",
       "18        0002            E2        [0002]   \n",
       "19        0002            E2        [0002]   \n",
       "20        0002            E2        [0002]   \n",
       "21        0002            E2        [0002]   \n",
       "22        0002            E2        [0002]   \n",
       "23        0002            E2        [0002]   \n",
       "24        0002            E2        [0002]   \n",
       "25        0002            E2        [0002]   \n",
       "26        0002            E2        [0002]   \n",
       "27        0002            E2        [0002]   \n",
       "28        0002            E2        [0002]   \n",
       "29        0002            E2        [0002]   \n",
       "30        0003         union  [0001, 0002]   \n",
       "31        0003         union  [0001, 0002]   \n",
       "32        0003         union  [0001, 0002]   \n",
       "33        0003         union  [0001, 0002]   \n",
       "34        0003         union  [0001, 0002]   \n",
       "35        0003         union  [0001, 0002]   \n",
       "36        0003         union  [0001, 0002]   \n",
       "37        0003         union  [0001, 0002]   \n",
       "38        0003         union  [0001, 0002]   \n",
       "39        0003         union  [0001, 0002]   \n",
       "40        0003         union  [0001, 0002]   \n",
       "41        0003         union  [0001, 0002]   \n",
       "42        0003         union  [0001, 0002]   \n",
       "43        0003         union  [0001, 0002]   \n",
       "44        0003         union  [0001, 0002]   \n",
       "\n",
       "                                                train                 val  \\\n",
       "0   [0003, 0005, 0007, 0009, 0010, 0011, 0012, 001...  [0017, 0002, 0006]   \n",
       "1   [0001, 0003, 0005, 0007, 0009, 0010, 0011, 001...  [0006, 0013, 0019]   \n",
       "2   [0002, 0005, 0007, 0009, 0010, 0011, 0012, 001...  [0013, 0006, 0001]   \n",
       "3   [0001, 0002, 0003, 0006, 0007, 0009, 0010, 001...  [0018, 0014, 0012]   \n",
       "4   [0003, 0007, 0009, 0010, 0011, 0012, 0013, 001...  [0005, 0001, 0002]   \n",
       "5   [0001, 0002, 0003, 0010, 0011, 0012, 0013, 001...  [0005, 0006, 0009]   \n",
       "6   [0001, 0003, 0005, 0006, 0007, 0010, 0011, 001...  [0002, 0017, 0013]   \n",
       "7   [0002, 0003, 0005, 0006, 0007, 0009, 0012, 001...  [0017, 0001, 0011]   \n",
       "8   [0001, 0003, 0005, 0006, 0009, 0010, 0012, 001...  [0002, 0018, 0007]   \n",
       "9   [0002, 0003, 0005, 0006, 0009, 0011, 0013, 001...  [0001, 0007, 0010]   \n",
       "10  [0002, 0003, 0005, 0006, 0007, 0010, 0011, 001...  [0009, 0001, 0012]   \n",
       "11  [0001, 0002, 0003, 0005, 0006, 0007, 0009, 001...  [0010, 0012, 0011]   \n",
       "12  [0002, 0003, 0005, 0006, 0007, 0009, 0011, 001...  [0010, 0018, 0001]   \n",
       "13  [0001, 0002, 0005, 0006, 0007, 0010, 0011, 001...  [0012, 0003, 0009]   \n",
       "14  [0001, 0002, 0005, 0007, 0009, 0010, 0011, 001...  [0014, 0006, 0003]   \n",
       "15  [0003, 0005, 0007, 0009, 0010, 0011, 0012, 001...  [0017, 0002, 0006]   \n",
       "16  [0001, 0003, 0005, 0007, 0009, 0010, 0011, 001...  [0006, 0013, 0019]   \n",
       "17  [0002, 0005, 0007, 0009, 0010, 0011, 0012, 001...  [0013, 0006, 0001]   \n",
       "18  [0001, 0002, 0003, 0006, 0007, 0009, 0010, 001...  [0018, 0014, 0012]   \n",
       "19  [0003, 0007, 0009, 0010, 0011, 0012, 0013, 001...  [0005, 0001, 0002]   \n",
       "20  [0001, 0002, 0003, 0010, 0011, 0012, 0013, 001...  [0005, 0006, 0009]   \n",
       "21  [0001, 0003, 0005, 0006, 0007, 0010, 0011, 001...  [0002, 0017, 0013]   \n",
       "22  [0002, 0003, 0005, 0006, 0007, 0009, 0012, 001...  [0017, 0001, 0011]   \n",
       "23  [0001, 0003, 0005, 0006, 0009, 0010, 0012, 001...  [0002, 0018, 0007]   \n",
       "24  [0002, 0003, 0005, 0006, 0009, 0011, 0013, 001...  [0001, 0007, 0010]   \n",
       "25  [0002, 0003, 0005, 0006, 0007, 0010, 0011, 001...  [0009, 0001, 0012]   \n",
       "26  [0001, 0002, 0003, 0005, 0006, 0007, 0009, 001...  [0010, 0012, 0011]   \n",
       "27  [0002, 0003, 0005, 0006, 0007, 0009, 0011, 001...  [0010, 0018, 0001]   \n",
       "28  [0001, 0002, 0005, 0006, 0007, 0010, 0011, 001...  [0012, 0003, 0009]   \n",
       "29  [0001, 0002, 0005, 0007, 0009, 0010, 0011, 001...  [0014, 0006, 0003]   \n",
       "30  [0003, 0005, 0007, 0009, 0010, 0011, 0012, 001...  [0017, 0002, 0006]   \n",
       "31  [0001, 0003, 0005, 0007, 0009, 0010, 0011, 001...  [0006, 0013, 0019]   \n",
       "32  [0002, 0005, 0007, 0009, 0010, 0011, 0012, 001...  [0013, 0006, 0001]   \n",
       "33  [0001, 0002, 0003, 0006, 0007, 0009, 0010, 001...  [0018, 0014, 0012]   \n",
       "34  [0003, 0007, 0009, 0010, 0011, 0012, 0013, 001...  [0005, 0001, 0002]   \n",
       "35  [0001, 0002, 0003, 0010, 0011, 0012, 0013, 001...  [0005, 0006, 0009]   \n",
       "36  [0001, 0003, 0005, 0006, 0007, 0010, 0011, 001...  [0002, 0017, 0013]   \n",
       "37  [0002, 0003, 0005, 0006, 0007, 0009, 0012, 001...  [0017, 0001, 0011]   \n",
       "38  [0001, 0003, 0005, 0006, 0009, 0010, 0012, 001...  [0002, 0018, 0007]   \n",
       "39  [0002, 0003, 0005, 0006, 0009, 0011, 0013, 001...  [0001, 0007, 0010]   \n",
       "40  [0002, 0003, 0005, 0006, 0007, 0010, 0011, 001...  [0009, 0001, 0012]   \n",
       "41  [0001, 0002, 0003, 0005, 0006, 0007, 0009, 001...  [0010, 0012, 0011]   \n",
       "42  [0002, 0003, 0005, 0006, 0007, 0009, 0011, 001...  [0010, 0018, 0001]   \n",
       "43  [0001, 0002, 0005, 0006, 0007, 0010, 0011, 001...  [0012, 0003, 0009]   \n",
       "44  [0001, 0002, 0005, 0007, 0009, 0010, 0011, 001...  [0014, 0006, 0003]   \n",
       "\n",
       "    test                               modelId  spindleTimeRate  \n",
       "0   0001  8b2ea581-6dec-4094-957e-cc1ceb7234c5         0.018639  \n",
       "1   0002  80181036-469f-4bcf-95a0-68374649133a         0.020055  \n",
       "2   0003  f6cafb09-5e74-4889-a306-e517e28d70fe         0.021075  \n",
       "3   0005  2bf1e17a-c8bb-4166-8453-7fdff2414b10         0.018331  \n",
       "4   0006  0feacbcf-4f37-402e-8fbc-4e48a2520bd4         0.019222  \n",
       "5   0007  29c70696-0202-4feb-bd78-3579052a4865         0.019625  \n",
       "6   0009  768cb7b4-e534-49f7-b9c4-acfa7b401ffe         0.017824  \n",
       "7   0010  e3d50ec6-a2f8-45fc-88f9-9af0621c2050         0.017542  \n",
       "8   0011  d539204f-ac49-4811-9ed0-9b39bc65c8f3         0.015442  \n",
       "9   0012  1fe9ebda-f8d4-46a7-8ec3-1c1477a12af6         0.016460  \n",
       "10  0013  fef1292a-c2f5-4c3e-96c0-b9ec6f60cb96         0.017297  \n",
       "11  0014  17643ba4-cb3b-4cd8-818b-406abeab9cb3         0.017868  \n",
       "12  0017  deda4266-2cea-44e1-93d6-21d866332ca0         0.016504  \n",
       "13  0018  60d7b18b-ed9c-40bb-98ce-5193ad5abe70         0.018626  \n",
       "14  0019  c8a28ce7-7f69-4a97-bfe2-229b91334659         0.022439  \n",
       "15  0001  bf748cb3-0db0-4e08-b725-3f4b82679017         0.055090  \n",
       "16  0002  57897053-2189-42d0-8c44-90c32b067094         0.060029  \n",
       "17  0003  d9715543-4141-4773-83d3-da2830e98685         0.061873  \n",
       "18  0005  dadf35ae-1f3a-43da-8303-5fff33a435c4         0.060346  \n",
       "19  0006  255a0333-5bc4-45dc-aee7-89f4718866a7         0.056983  \n",
       "20  0007  a636bcf2-756a-4080-bb6e-a1f4cd400f46         0.060034  \n",
       "21  0009  5a2de0ee-a55e-4039-aef4-ee73020fbd45         0.054858  \n",
       "22  0010  68afbb00-3c69-45a0-96fb-c8bb1f3682c7         0.050874  \n",
       "23  0011  97cd3944-413e-48a8-a112-61ad4a62d585         0.053403  \n",
       "24  0012  b38c4b53-8f69-4715-8715-2e45fa1bf3c3         0.051788  \n",
       "25  0013  b7970d34-50d5-4c03-ae58-a9eac2936305         0.054295  \n",
       "26  0014  24ae87c7-0321-4379-be41-54e39eebff8f         0.054393  \n",
       "27  0017  549b83e9-f9d6-40a9-8a7a-0d4ca9756e77         0.052233  \n",
       "28  0018  af4945ef-f9e1-4139-8276-6a1afa9a84bd         0.062733  \n",
       "29  0019  877ff07d-f2c9-476a-b02b-31ee609f9141         0.065389  \n",
       "30  0001  7feab6c6-8ccf-4056-b394-5b6d7b96cb7a         0.056933  \n",
       "31  0002  aca6fbc5-bdf4-4890-bc15-bd3cc527aa65         0.061753  \n",
       "32  0003  ec017e6c-bd1b-41f7-af84-ed6023617980         0.063653  \n",
       "33  0005  abcd606e-c9ec-4194-807e-4a045dcd0e18         0.061551  \n",
       "34  0006  ba039537-8f79-49cf-8ac8-383434059506         0.058867  \n",
       "35  0007  496b4ddf-f8cb-4244-89ad-0439681b820b         0.061559  \n",
       "36  0009  7daf0b7c-d584-4841-8dd3-6d4cec075655         0.056429  \n",
       "37  0010  cf984650-f856-4b2e-9290-4aba38fd6427         0.052594  \n",
       "38  0011  8be0a742-8fa8-4f1f-a081-622ff61d7bb5         0.054510  \n",
       "39  0012  87814133-dd28-4c87-860b-c4ef8d85801e         0.053111  \n",
       "40  0013  3d0715ed-4682-4fa5-9cc7-f167312e833b         0.055680  \n",
       "41  0014  1ec0ffd4-9973-4c92-9d68-80bfc2610b4e         0.055874  \n",
       "42  0017  85254932-ed56-4105-92cd-63187d464506         0.053601  \n",
       "43  0018  4ae8df49-0dfe-4d18-8f0b-e1dfd3285c3e         0.063944  \n",
       "44  0019  e3714d66-0198-4ba1-b455-3405e39de414         0.067267  "
      ]
     },
     "execution_count": 10,
     "metadata": {},
     "output_type": "execute_result"
    }
   ],
   "source": [
    "experimentModels"
   ]
  },
  {
   "cell_type": "code",
   "execution_count": 11,
   "metadata": {},
   "outputs": [
    {
     "data": {
      "text/html": [
       "<div>\n",
       "<style scoped>\n",
       "    .dataframe tbody tr th:only-of-type {\n",
       "        vertical-align: middle;\n",
       "    }\n",
       "\n",
       "    .dataframe tbody tr th {\n",
       "        vertical-align: top;\n",
       "    }\n",
       "\n",
       "    .dataframe thead tr th {\n",
       "        text-align: left;\n",
       "    }\n",
       "\n",
       "    .dataframe thead tr:last-of-type th {\n",
       "        text-align: right;\n",
       "    }\n",
       "</style>\n",
       "<table border=\"1\" class=\"dataframe\">\n",
       "  <thead>\n",
       "    <tr>\n",
       "      <th></th>\n",
       "      <th colspan=\"8\" halign=\"left\">spindleTimeRate</th>\n",
       "    </tr>\n",
       "    <tr>\n",
       "      <th></th>\n",
       "      <th>count</th>\n",
       "      <th>mean</th>\n",
       "      <th>std</th>\n",
       "      <th>min</th>\n",
       "      <th>25%</th>\n",
       "      <th>50%</th>\n",
       "      <th>75%</th>\n",
       "      <th>max</th>\n",
       "    </tr>\n",
       "    <tr>\n",
       "      <th>criteriumName</th>\n",
       "      <th></th>\n",
       "      <th></th>\n",
       "      <th></th>\n",
       "      <th></th>\n",
       "      <th></th>\n",
       "      <th></th>\n",
       "      <th></th>\n",
       "      <th></th>\n",
       "    </tr>\n",
       "  </thead>\n",
       "  <tbody>\n",
       "    <tr>\n",
       "      <th>E1</th>\n",
       "      <td>15.0</td>\n",
       "      <td>0.018463</td>\n",
       "      <td>0.001834</td>\n",
       "      <td>0.015442</td>\n",
       "      <td>0.017419</td>\n",
       "      <td>0.018331</td>\n",
       "      <td>0.019424</td>\n",
       "      <td>0.022439</td>\n",
       "    </tr>\n",
       "    <tr>\n",
       "      <th>E2</th>\n",
       "      <td>15.0</td>\n",
       "      <td>0.056955</td>\n",
       "      <td>0.004466</td>\n",
       "      <td>0.050874</td>\n",
       "      <td>0.053849</td>\n",
       "      <td>0.055090</td>\n",
       "      <td>0.060190</td>\n",
       "      <td>0.065389</td>\n",
       "    </tr>\n",
       "    <tr>\n",
       "      <th>union</th>\n",
       "      <td>15.0</td>\n",
       "      <td>0.058488</td>\n",
       "      <td>0.004535</td>\n",
       "      <td>0.052594</td>\n",
       "      <td>0.055095</td>\n",
       "      <td>0.056933</td>\n",
       "      <td>0.061656</td>\n",
       "      <td>0.067267</td>\n",
       "    </tr>\n",
       "  </tbody>\n",
       "</table>\n",
       "</div>"
      ],
      "text/plain": [
       "              spindleTimeRate                                          \\\n",
       "                        count      mean       std       min       25%   \n",
       "criteriumName                                                           \n",
       "E1                       15.0  0.018463  0.001834  0.015442  0.017419   \n",
       "E2                       15.0  0.056955  0.004466  0.050874  0.053849   \n",
       "union                    15.0  0.058488  0.004535  0.052594  0.055095   \n",
       "\n",
       "                                             \n",
       "                    50%       75%       max  \n",
       "criteriumName                                \n",
       "E1             0.018331  0.019424  0.022439  \n",
       "E2             0.055090  0.060190  0.065389  \n",
       "union          0.056933  0.061656  0.067267  "
      ]
     },
     "execution_count": 11,
     "metadata": {},
     "output_type": "execute_result"
    }
   ],
   "source": [
    "#we show the difference in class inbalance for the annotation criteria considered\n",
    "experimentModels[['criteriumName','spindleTimeRate']].groupby('criteriumName').describe()"
   ]
  },
  {
   "cell_type": "code",
   "execution_count": 12,
   "metadata": {},
   "outputs": [
    {
     "data": {
      "text/html": [
       "<div>\n",
       "<style scoped>\n",
       "    .dataframe tbody tr th:only-of-type {\n",
       "        vertical-align: middle;\n",
       "    }\n",
       "\n",
       "    .dataframe tbody tr th {\n",
       "        vertical-align: top;\n",
       "    }\n",
       "\n",
       "    .dataframe thead th {\n",
       "        text-align: right;\n",
       "    }\n",
       "</style>\n",
       "<table border=\"1\" class=\"dataframe\">\n",
       "  <thead>\n",
       "    <tr style=\"text-align: right;\">\n",
       "      <th></th>\n",
       "      <th>window</th>\n",
       "      <th>characteristic</th>\n",
       "      <th>bandName</th>\n",
       "      <th>score</th>\n",
       "    </tr>\n",
       "  </thead>\n",
       "  <tbody>\n",
       "    <tr>\n",
       "      <th>0</th>\n",
       "      <td>2</td>\n",
       "      <td>hjortActivity</td>\n",
       "      <td>beta2</td>\n",
       "      <td>69.0</td>\n",
       "    </tr>\n",
       "    <tr>\n",
       "      <th>1</th>\n",
       "      <td>1</td>\n",
       "      <td>hjortActivity</td>\n",
       "      <td>sigma</td>\n",
       "      <td>63.0</td>\n",
       "    </tr>\n",
       "    <tr>\n",
       "      <th>2</th>\n",
       "      <td>2</td>\n",
       "      <td>hjortActivity</td>\n",
       "      <td>beta1</td>\n",
       "      <td>42.0</td>\n",
       "    </tr>\n",
       "    <tr>\n",
       "      <th>3</th>\n",
       "      <td>2</td>\n",
       "      <td>hjortActivity</td>\n",
       "      <td>delta2</td>\n",
       "      <td>41.0</td>\n",
       "    </tr>\n",
       "    <tr>\n",
       "      <th>4</th>\n",
       "      <td>1.5</td>\n",
       "      <td>sigmaIndex</td>\n",
       "      <td>broadband</td>\n",
       "      <td>39.0</td>\n",
       "    </tr>\n",
       "    <tr>\n",
       "      <th>5</th>\n",
       "      <td>2</td>\n",
       "      <td>sigmaIndex</td>\n",
       "      <td>broadband</td>\n",
       "      <td>39.0</td>\n",
       "    </tr>\n",
       "    <tr>\n",
       "      <th>6</th>\n",
       "      <td>2</td>\n",
       "      <td>hjortActivity</td>\n",
       "      <td>theta</td>\n",
       "      <td>38.0</td>\n",
       "    </tr>\n",
       "    <tr>\n",
       "      <th>7</th>\n",
       "      <td>2</td>\n",
       "      <td>hjortMobility</td>\n",
       "      <td>beta1</td>\n",
       "      <td>37.0</td>\n",
       "    </tr>\n",
       "    <tr>\n",
       "      <th>8</th>\n",
       "      <td>2</td>\n",
       "      <td>hjortActivity</td>\n",
       "      <td>alpha</td>\n",
       "      <td>35.0</td>\n",
       "    </tr>\n",
       "    <tr>\n",
       "      <th>9</th>\n",
       "      <td>1</td>\n",
       "      <td>sigmaIndex</td>\n",
       "      <td>broadband</td>\n",
       "      <td>34.0</td>\n",
       "    </tr>\n",
       "    <tr>\n",
       "      <th>10</th>\n",
       "      <td>2</td>\n",
       "      <td>hjortMobility</td>\n",
       "      <td>sigma</td>\n",
       "      <td>32.0</td>\n",
       "    </tr>\n",
       "    <tr>\n",
       "      <th>11</th>\n",
       "      <td>1.5</td>\n",
       "      <td>hjortActivity</td>\n",
       "      <td>beta2</td>\n",
       "      <td>30.0</td>\n",
       "    </tr>\n",
       "    <tr>\n",
       "      <th>12</th>\n",
       "      <td>2</td>\n",
       "      <td>hjortMobility</td>\n",
       "      <td>beta2</td>\n",
       "      <td>29.0</td>\n",
       "    </tr>\n",
       "    <tr>\n",
       "      <th>13</th>\n",
       "      <td>2</td>\n",
       "      <td>hjortMobility</td>\n",
       "      <td>alpha</td>\n",
       "      <td>28.0</td>\n",
       "    </tr>\n",
       "    <tr>\n",
       "      <th>14</th>\n",
       "      <td>0.5</td>\n",
       "      <td>sigmaIndex</td>\n",
       "      <td>broadband</td>\n",
       "      <td>28.0</td>\n",
       "    </tr>\n",
       "    <tr>\n",
       "      <th>15</th>\n",
       "      <td>2</td>\n",
       "      <td>hjortMobility</td>\n",
       "      <td>delta1</td>\n",
       "      <td>28.0</td>\n",
       "    </tr>\n",
       "    <tr>\n",
       "      <th>16</th>\n",
       "      <td>2</td>\n",
       "      <td>hjortActivity</td>\n",
       "      <td>sigma</td>\n",
       "      <td>27.0</td>\n",
       "    </tr>\n",
       "    <tr>\n",
       "      <th>17</th>\n",
       "      <td>2</td>\n",
       "      <td>petrosian</td>\n",
       "      <td>broadband</td>\n",
       "      <td>27.0</td>\n",
       "    </tr>\n",
       "    <tr>\n",
       "      <th>18</th>\n",
       "      <td>2</td>\n",
       "      <td>hjortActivity</td>\n",
       "      <td>broadband</td>\n",
       "      <td>26.0</td>\n",
       "    </tr>\n",
       "    <tr>\n",
       "      <th>19</th>\n",
       "      <td>1.5</td>\n",
       "      <td>hjortActivity</td>\n",
       "      <td>sigma</td>\n",
       "      <td>26.0</td>\n",
       "    </tr>\n",
       "    <tr>\n",
       "      <th>20</th>\n",
       "      <td>1.5</td>\n",
       "      <td>hjortActivity</td>\n",
       "      <td>alpha</td>\n",
       "      <td>25.0</td>\n",
       "    </tr>\n",
       "    <tr>\n",
       "      <th>21</th>\n",
       "      <td>0.5</td>\n",
       "      <td>hjortActivity</td>\n",
       "      <td>alpha</td>\n",
       "      <td>24.0</td>\n",
       "    </tr>\n",
       "    <tr>\n",
       "      <th>22</th>\n",
       "      <td>1</td>\n",
       "      <td>hjortActivity</td>\n",
       "      <td>theta</td>\n",
       "      <td>23.0</td>\n",
       "    </tr>\n",
       "    <tr>\n",
       "      <th>23</th>\n",
       "      <td>1.5</td>\n",
       "      <td>petrosian</td>\n",
       "      <td>broadband</td>\n",
       "      <td>22.0</td>\n",
       "    </tr>\n",
       "    <tr>\n",
       "      <th>24</th>\n",
       "      <td>2</td>\n",
       "      <td>hjortMobility</td>\n",
       "      <td>broadband</td>\n",
       "      <td>22.0</td>\n",
       "    </tr>\n",
       "    <tr>\n",
       "      <th>25</th>\n",
       "      <td>1.5</td>\n",
       "      <td>hjortActivity</td>\n",
       "      <td>theta</td>\n",
       "      <td>22.0</td>\n",
       "    </tr>\n",
       "  </tbody>\n",
       "</table>\n",
       "</div>"
      ],
      "text/plain": [
       "   window characteristic   bandName  score\n",
       "0       2  hjortActivity      beta2   69.0\n",
       "1       1  hjortActivity      sigma   63.0\n",
       "2       2  hjortActivity      beta1   42.0\n",
       "3       2  hjortActivity     delta2   41.0\n",
       "4     1.5     sigmaIndex  broadband   39.0\n",
       "5       2     sigmaIndex  broadband   39.0\n",
       "6       2  hjortActivity      theta   38.0\n",
       "7       2  hjortMobility      beta1   37.0\n",
       "8       2  hjortActivity      alpha   35.0\n",
       "9       1     sigmaIndex  broadband   34.0\n",
       "10      2  hjortMobility      sigma   32.0\n",
       "11    1.5  hjortActivity      beta2   30.0\n",
       "12      2  hjortMobility      beta2   29.0\n",
       "13      2  hjortMobility      alpha   28.0\n",
       "14    0.5     sigmaIndex  broadband   28.0\n",
       "15      2  hjortMobility     delta1   28.0\n",
       "16      2  hjortActivity      sigma   27.0\n",
       "17      2      petrosian  broadband   27.0\n",
       "18      2  hjortActivity  broadband   26.0\n",
       "19    1.5  hjortActivity      sigma   26.0\n",
       "20    1.5  hjortActivity      alpha   25.0\n",
       "21    0.5  hjortActivity      alpha   24.0\n",
       "22      1  hjortActivity      theta   23.0\n",
       "23    1.5      petrosian  broadband   22.0\n",
       "24      2  hjortMobility  broadband   22.0\n",
       "25    1.5  hjortActivity      theta   22.0"
      ]
     },
     "execution_count": 12,
     "metadata": {},
     "output_type": "execute_result"
    }
   ],
   "source": [
    "featureSelection"
   ]
  },
  {
   "attachments": {},
   "cell_type": "markdown",
   "metadata": {},
   "source": [
    "## Hyperparameter definition\n",
    "this should come from a previous evaluation notebook"
   ]
  },
  {
   "cell_type": "code",
   "execution_count": 13,
   "metadata": {},
   "outputs": [],
   "source": [
    "hyperClose=0.25\n",
    "hyperDuration=0.3\n",
    "hyperThres=0.3\n",
    "hyperDepth=30"
   ]
  },
  {
   "attachments": {},
   "cell_type": "markdown",
   "metadata": {},
   "source": [
    "## Testing with E1 criterium\n",
    "we test the optimal points for the prediction threshold and number of boost iterations in the different validation groups"
   ]
  },
  {
   "cell_type": "code",
   "execution_count": 14,
   "metadata": {},
   "outputs": [
    {
     "data": {
      "text/html": [
       "<div>\n",
       "<style scoped>\n",
       "    .dataframe tbody tr th:only-of-type {\n",
       "        vertical-align: middle;\n",
       "    }\n",
       "\n",
       "    .dataframe tbody tr th {\n",
       "        vertical-align: top;\n",
       "    }\n",
       "\n",
       "    .dataframe thead th {\n",
       "        text-align: right;\n",
       "    }\n",
       "</style>\n",
       "<table border=\"1\" class=\"dataframe\">\n",
       "  <thead>\n",
       "    <tr style=\"text-align: right;\">\n",
       "      <th></th>\n",
       "      <th>criteriumId</th>\n",
       "      <th>criteriumName</th>\n",
       "      <th>labelerIdList</th>\n",
       "      <th>train</th>\n",
       "      <th>val</th>\n",
       "      <th>test</th>\n",
       "      <th>modelId</th>\n",
       "      <th>spindleTimeRate</th>\n",
       "    </tr>\n",
       "  </thead>\n",
       "  <tbody>\n",
       "    <tr>\n",
       "      <th>0</th>\n",
       "      <td>0001</td>\n",
       "      <td>E1</td>\n",
       "      <td>[0001]</td>\n",
       "      <td>[0003, 0005, 0007, 0009, 0010, 0011, 0012, 001...</td>\n",
       "      <td>[0017, 0002, 0006]</td>\n",
       "      <td>0001</td>\n",
       "      <td>8b2ea581-6dec-4094-957e-cc1ceb7234c5</td>\n",
       "      <td>0.018639</td>\n",
       "    </tr>\n",
       "    <tr>\n",
       "      <th>1</th>\n",
       "      <td>0001</td>\n",
       "      <td>E1</td>\n",
       "      <td>[0001]</td>\n",
       "      <td>[0001, 0003, 0005, 0007, 0009, 0010, 0011, 001...</td>\n",
       "      <td>[0006, 0013, 0019]</td>\n",
       "      <td>0002</td>\n",
       "      <td>80181036-469f-4bcf-95a0-68374649133a</td>\n",
       "      <td>0.020055</td>\n",
       "    </tr>\n",
       "    <tr>\n",
       "      <th>2</th>\n",
       "      <td>0001</td>\n",
       "      <td>E1</td>\n",
       "      <td>[0001]</td>\n",
       "      <td>[0002, 0005, 0007, 0009, 0010, 0011, 0012, 001...</td>\n",
       "      <td>[0013, 0006, 0001]</td>\n",
       "      <td>0003</td>\n",
       "      <td>f6cafb09-5e74-4889-a306-e517e28d70fe</td>\n",
       "      <td>0.021075</td>\n",
       "    </tr>\n",
       "    <tr>\n",
       "      <th>3</th>\n",
       "      <td>0001</td>\n",
       "      <td>E1</td>\n",
       "      <td>[0001]</td>\n",
       "      <td>[0001, 0002, 0003, 0006, 0007, 0009, 0010, 001...</td>\n",
       "      <td>[0018, 0014, 0012]</td>\n",
       "      <td>0005</td>\n",
       "      <td>2bf1e17a-c8bb-4166-8453-7fdff2414b10</td>\n",
       "      <td>0.018331</td>\n",
       "    </tr>\n",
       "    <tr>\n",
       "      <th>4</th>\n",
       "      <td>0001</td>\n",
       "      <td>E1</td>\n",
       "      <td>[0001]</td>\n",
       "      <td>[0003, 0007, 0009, 0010, 0011, 0012, 0013, 001...</td>\n",
       "      <td>[0005, 0001, 0002]</td>\n",
       "      <td>0006</td>\n",
       "      <td>0feacbcf-4f37-402e-8fbc-4e48a2520bd4</td>\n",
       "      <td>0.019222</td>\n",
       "    </tr>\n",
       "    <tr>\n",
       "      <th>5</th>\n",
       "      <td>0001</td>\n",
       "      <td>E1</td>\n",
       "      <td>[0001]</td>\n",
       "      <td>[0001, 0002, 0003, 0010, 0011, 0012, 0013, 001...</td>\n",
       "      <td>[0005, 0006, 0009]</td>\n",
       "      <td>0007</td>\n",
       "      <td>29c70696-0202-4feb-bd78-3579052a4865</td>\n",
       "      <td>0.019625</td>\n",
       "    </tr>\n",
       "    <tr>\n",
       "      <th>6</th>\n",
       "      <td>0001</td>\n",
       "      <td>E1</td>\n",
       "      <td>[0001]</td>\n",
       "      <td>[0001, 0003, 0005, 0006, 0007, 0010, 0011, 001...</td>\n",
       "      <td>[0002, 0017, 0013]</td>\n",
       "      <td>0009</td>\n",
       "      <td>768cb7b4-e534-49f7-b9c4-acfa7b401ffe</td>\n",
       "      <td>0.017824</td>\n",
       "    </tr>\n",
       "    <tr>\n",
       "      <th>7</th>\n",
       "      <td>0001</td>\n",
       "      <td>E1</td>\n",
       "      <td>[0001]</td>\n",
       "      <td>[0002, 0003, 0005, 0006, 0007, 0009, 0012, 001...</td>\n",
       "      <td>[0017, 0001, 0011]</td>\n",
       "      <td>0010</td>\n",
       "      <td>e3d50ec6-a2f8-45fc-88f9-9af0621c2050</td>\n",
       "      <td>0.017542</td>\n",
       "    </tr>\n",
       "    <tr>\n",
       "      <th>8</th>\n",
       "      <td>0001</td>\n",
       "      <td>E1</td>\n",
       "      <td>[0001]</td>\n",
       "      <td>[0001, 0003, 0005, 0006, 0009, 0010, 0012, 001...</td>\n",
       "      <td>[0002, 0018, 0007]</td>\n",
       "      <td>0011</td>\n",
       "      <td>d539204f-ac49-4811-9ed0-9b39bc65c8f3</td>\n",
       "      <td>0.015442</td>\n",
       "    </tr>\n",
       "    <tr>\n",
       "      <th>9</th>\n",
       "      <td>0001</td>\n",
       "      <td>E1</td>\n",
       "      <td>[0001]</td>\n",
       "      <td>[0002, 0003, 0005, 0006, 0009, 0011, 0013, 001...</td>\n",
       "      <td>[0001, 0007, 0010]</td>\n",
       "      <td>0012</td>\n",
       "      <td>1fe9ebda-f8d4-46a7-8ec3-1c1477a12af6</td>\n",
       "      <td>0.016460</td>\n",
       "    </tr>\n",
       "    <tr>\n",
       "      <th>10</th>\n",
       "      <td>0001</td>\n",
       "      <td>E1</td>\n",
       "      <td>[0001]</td>\n",
       "      <td>[0002, 0003, 0005, 0006, 0007, 0010, 0011, 001...</td>\n",
       "      <td>[0009, 0001, 0012]</td>\n",
       "      <td>0013</td>\n",
       "      <td>fef1292a-c2f5-4c3e-96c0-b9ec6f60cb96</td>\n",
       "      <td>0.017297</td>\n",
       "    </tr>\n",
       "    <tr>\n",
       "      <th>11</th>\n",
       "      <td>0001</td>\n",
       "      <td>E1</td>\n",
       "      <td>[0001]</td>\n",
       "      <td>[0001, 0002, 0003, 0005, 0006, 0007, 0009, 001...</td>\n",
       "      <td>[0010, 0012, 0011]</td>\n",
       "      <td>0014</td>\n",
       "      <td>17643ba4-cb3b-4cd8-818b-406abeab9cb3</td>\n",
       "      <td>0.017868</td>\n",
       "    </tr>\n",
       "    <tr>\n",
       "      <th>12</th>\n",
       "      <td>0001</td>\n",
       "      <td>E1</td>\n",
       "      <td>[0001]</td>\n",
       "      <td>[0002, 0003, 0005, 0006, 0007, 0009, 0011, 001...</td>\n",
       "      <td>[0010, 0018, 0001]</td>\n",
       "      <td>0017</td>\n",
       "      <td>deda4266-2cea-44e1-93d6-21d866332ca0</td>\n",
       "      <td>0.016504</td>\n",
       "    </tr>\n",
       "    <tr>\n",
       "      <th>13</th>\n",
       "      <td>0001</td>\n",
       "      <td>E1</td>\n",
       "      <td>[0001]</td>\n",
       "      <td>[0001, 0002, 0005, 0006, 0007, 0010, 0011, 001...</td>\n",
       "      <td>[0012, 0003, 0009]</td>\n",
       "      <td>0018</td>\n",
       "      <td>60d7b18b-ed9c-40bb-98ce-5193ad5abe70</td>\n",
       "      <td>0.018626</td>\n",
       "    </tr>\n",
       "    <tr>\n",
       "      <th>14</th>\n",
       "      <td>0001</td>\n",
       "      <td>E1</td>\n",
       "      <td>[0001]</td>\n",
       "      <td>[0001, 0002, 0005, 0007, 0009, 0010, 0011, 001...</td>\n",
       "      <td>[0014, 0006, 0003]</td>\n",
       "      <td>0019</td>\n",
       "      <td>c8a28ce7-7f69-4a97-bfe2-229b91334659</td>\n",
       "      <td>0.022439</td>\n",
       "    </tr>\n",
       "  </tbody>\n",
       "</table>\n",
       "</div>"
      ],
      "text/plain": [
       "   criteriumId criteriumName labelerIdList  \\\n",
       "0         0001            E1        [0001]   \n",
       "1         0001            E1        [0001]   \n",
       "2         0001            E1        [0001]   \n",
       "3         0001            E1        [0001]   \n",
       "4         0001            E1        [0001]   \n",
       "5         0001            E1        [0001]   \n",
       "6         0001            E1        [0001]   \n",
       "7         0001            E1        [0001]   \n",
       "8         0001            E1        [0001]   \n",
       "9         0001            E1        [0001]   \n",
       "10        0001            E1        [0001]   \n",
       "11        0001            E1        [0001]   \n",
       "12        0001            E1        [0001]   \n",
       "13        0001            E1        [0001]   \n",
       "14        0001            E1        [0001]   \n",
       "\n",
       "                                                train                 val  \\\n",
       "0   [0003, 0005, 0007, 0009, 0010, 0011, 0012, 001...  [0017, 0002, 0006]   \n",
       "1   [0001, 0003, 0005, 0007, 0009, 0010, 0011, 001...  [0006, 0013, 0019]   \n",
       "2   [0002, 0005, 0007, 0009, 0010, 0011, 0012, 001...  [0013, 0006, 0001]   \n",
       "3   [0001, 0002, 0003, 0006, 0007, 0009, 0010, 001...  [0018, 0014, 0012]   \n",
       "4   [0003, 0007, 0009, 0010, 0011, 0012, 0013, 001...  [0005, 0001, 0002]   \n",
       "5   [0001, 0002, 0003, 0010, 0011, 0012, 0013, 001...  [0005, 0006, 0009]   \n",
       "6   [0001, 0003, 0005, 0006, 0007, 0010, 0011, 001...  [0002, 0017, 0013]   \n",
       "7   [0002, 0003, 0005, 0006, 0007, 0009, 0012, 001...  [0017, 0001, 0011]   \n",
       "8   [0001, 0003, 0005, 0006, 0009, 0010, 0012, 001...  [0002, 0018, 0007]   \n",
       "9   [0002, 0003, 0005, 0006, 0009, 0011, 0013, 001...  [0001, 0007, 0010]   \n",
       "10  [0002, 0003, 0005, 0006, 0007, 0010, 0011, 001...  [0009, 0001, 0012]   \n",
       "11  [0001, 0002, 0003, 0005, 0006, 0007, 0009, 001...  [0010, 0012, 0011]   \n",
       "12  [0002, 0003, 0005, 0006, 0007, 0009, 0011, 001...  [0010, 0018, 0001]   \n",
       "13  [0001, 0002, 0005, 0006, 0007, 0010, 0011, 001...  [0012, 0003, 0009]   \n",
       "14  [0001, 0002, 0005, 0007, 0009, 0010, 0011, 001...  [0014, 0006, 0003]   \n",
       "\n",
       "    test                               modelId  spindleTimeRate  \n",
       "0   0001  8b2ea581-6dec-4094-957e-cc1ceb7234c5         0.018639  \n",
       "1   0002  80181036-469f-4bcf-95a0-68374649133a         0.020055  \n",
       "2   0003  f6cafb09-5e74-4889-a306-e517e28d70fe         0.021075  \n",
       "3   0005  2bf1e17a-c8bb-4166-8453-7fdff2414b10         0.018331  \n",
       "4   0006  0feacbcf-4f37-402e-8fbc-4e48a2520bd4         0.019222  \n",
       "5   0007  29c70696-0202-4feb-bd78-3579052a4865         0.019625  \n",
       "6   0009  768cb7b4-e534-49f7-b9c4-acfa7b401ffe         0.017824  \n",
       "7   0010  e3d50ec6-a2f8-45fc-88f9-9af0621c2050         0.017542  \n",
       "8   0011  d539204f-ac49-4811-9ed0-9b39bc65c8f3         0.015442  \n",
       "9   0012  1fe9ebda-f8d4-46a7-8ec3-1c1477a12af6         0.016460  \n",
       "10  0013  fef1292a-c2f5-4c3e-96c0-b9ec6f60cb96         0.017297  \n",
       "11  0014  17643ba4-cb3b-4cd8-818b-406abeab9cb3         0.017868  \n",
       "12  0017  deda4266-2cea-44e1-93d6-21d866332ca0         0.016504  \n",
       "13  0018  60d7b18b-ed9c-40bb-98ce-5193ad5abe70         0.018626  \n",
       "14  0019  c8a28ce7-7f69-4a97-bfe2-229b91334659         0.022439  "
      ]
     },
     "execution_count": 14,
     "metadata": {},
     "output_type": "execute_result"
    }
   ],
   "source": [
    "experimentModels=experimentModels[experimentModels.criteriumName=='E1'].reset_index(drop=True)\n",
    "experimentModels"
   ]
  },
  {
   "cell_type": "code",
   "execution_count": 15,
   "metadata": {},
   "outputs": [],
   "source": [
    "#threshold for the metric by event\n",
    "masterIoU=0.2"
   ]
  },
  {
   "cell_type": "code",
   "execution_count": 16,
   "metadata": {},
   "outputs": [],
   "source": [
    "def getIou(coordA,coordB):\n",
    "    if (coordA[1]<coordB[0])|(coordB[1]<coordA[0]): #NOT INTERSECTION\n",
    "        iou=0\n",
    "    else:   #INTERSECTION\n",
    "        inter=np.min((coordA[1]-coordB[0],coordB[1]-coordA[0]))\n",
    "        union=np.max((coordA[1]-coordB[0],coordB[1]-coordA[0]))\n",
    "        iou=inter/union\n",
    "    return iou\n",
    "\n",
    "def annotationPairToMetrics(annotations,detections,thresIoU=0.2):\n",
    "    #get the coords\n",
    "    gtCoords=zip(annotations.startInd,annotations.stopInd)\n",
    "    outCoords=zip(detections.startInd,detections.stopInd)\n",
    "    #calculate the iou vector\n",
    "    iouVector=np.array(list(itt.starmap(getIou,itt.product(gtCoords,outCoords))))\n",
    "    #reshape to a matrix\n",
    "    iouMatrix=iouVector.reshape(len(annotations),len(detections))\n",
    "    #binarize\n",
    "    binarized=iouMatrix>thresIoU\n",
    "    #calculateF1\n",
    "    outF1=(np.sum(np.max(binarized,axis=0))+np.sum(np.max(binarized,axis=1)))/(len(annotations)+len(detections))\n",
    "    recall=np.sum(np.max(binarized,axis=1))/len(annotations)\n",
    "    precision=np.sum(np.max(binarized,axis=0))/len(detections)\n",
    "    return outF1,recall,precision"
   ]
  },
  {
   "cell_type": "code",
   "execution_count": 17,
   "metadata": {},
   "outputs": [
    {
     "name": "stdout",
     "output_type": "stream",
     "text": [
      "*************************\n",
      "1 of 15\n",
      "*************************\n",
      "2 of 15\n",
      "*************************\n",
      "3 of 15\n",
      "*************************\n",
      "4 of 15\n",
      "*************************\n",
      "5 of 15\n",
      "*************************\n",
      "6 of 15\n",
      "*************************\n",
      "7 of 15\n",
      "*************************\n",
      "8 of 15\n",
      "*************************\n",
      "9 of 15\n",
      "*************************\n",
      "10 of 15\n",
      "*************************\n",
      "11 of 15\n",
      "*************************\n",
      "12 of 15\n",
      "*************************\n",
      "13 of 15\n",
      "*************************\n",
      "14 of 15\n",
      "*************************\n",
      "15 of 15\n"
     ]
    }
   ],
   "source": [
    "rawF1s=[]\n",
    "rawPrecisions=[]\n",
    "rawRecalls=[]\n",
    "\n",
    "f1s=[]\n",
    "precisions=[]\n",
    "recalls=[]\n",
    "\n",
    "eventF1s=[]\n",
    "eventPrecisions=[]\n",
    "eventRecalls=[]\n",
    "\n",
    "checks=[]\n",
    "\n",
    "for ind,row in experimentModels.iterrows():\n",
    "    print('*************************')\n",
    "    print(str(ind+1)+' of '+str(len(experimentModels)) )\n",
    "    #load model\n",
    "    model=loadBooster(row.modelId,experimentId,datapath)\n",
    "\n",
    "    testSubjectId=row.test\n",
    "    #Define annotations criterium\n",
    "    usedAnnotations=annotations[annotations.labelerId.isin(row.labelerIdList)].reset_index(drop=True)\n",
    "    #Load features and labels\n",
    "    testFeatures=loadFeatureMatrix([testSubjectId],featureSelection,signalsMetadata,samplerate,datapath)\n",
    "    testLabels=loadLabelsVector([testSubjectId],usedAnnotations,signalsMetadata,samplerate)\n",
    "\n",
    "    #Predict\n",
    "    testDMatrix=xgb.DMatrix(data=testFeatures)\n",
    "    probabilities=model.predict(testDMatrix,iteration_range=(0,hyperDepth))\n",
    "    rawLabels=probabilities>=hyperThres\n",
    "    #Raw Metrics\n",
    "    rawTp=np.sum(rawLabels*testLabels)\n",
    "    rawFp=np.sum(rawLabels*(1-testLabels))\n",
    "    rawTn=np.sum((1-rawLabels)*(1-testLabels))\n",
    "    rawFn=np.sum((1-rawLabels)*testLabels)\n",
    "    #Raw appends\n",
    "    rawF1s.append(2*rawTp/(2*rawTp+rawFp+rawFn))\n",
    "    rawPrecisions.append(rawTp/(rawTp+rawFp) )\n",
    "    rawRecalls.append(rawTp/(rawTp+rawFn))\n",
    "    #Process\n",
    "    processedLabels=labelingProcess(rawLabels,hyperClose,hyperDuration,samplerate)\n",
    "    #Processed metrics\n",
    "    tp=np.sum(processedLabels*testLabels)\n",
    "    fp=np.sum(processedLabels*(1-testLabels))\n",
    "    tn=np.sum((1-processedLabels)*(1-testLabels))\n",
    "    fn=np.sum((1-processedLabels)*testLabels)\n",
    "    #Processed appends\n",
    "    f1s.append(2*tp/(2*tp+fp+fn))\n",
    "    precisions.append(tp/(tp+fp))\n",
    "    recalls.append(tp/(tp+fn))\n",
    "\n",
    "    #By-event metrics\n",
    "    processedAnnotations=labelVectorToAnnotations(processedLabels,samplerate)\n",
    "    gtAnnotations=labelVectorToAnnotations(testLabels,samplerate)   #<- or just filter the annotations\n",
    "    f,r,p=annotationPairToMetrics(gtAnnotations,processedAnnotations)\n",
    "    \n",
    "    #calculate metrics\n",
    "    eventF1s.append(f)\n",
    "    eventPrecisions.append(p)\n",
    "    eventRecalls.append(r)\n",
    "\n",
    "#include metrics in the dataframe\n",
    "experimentModels['rawF1']=rawF1s\n",
    "experimentModels['rawPrecision']=rawPrecisions\n",
    "experimentModels['rawRecall']=rawRecalls\n",
    "\n",
    "experimentModels['f1']=f1s\n",
    "experimentModels['precision']=precisions\n",
    "experimentModels['recall']=recalls\n",
    "\n",
    "experimentModels['eventF1']=eventF1s\n",
    "experimentModels['eventPrecision']=eventPrecisions\n",
    "experimentModels['eventRecall']=eventRecalls\n"
   ]
  },
  {
   "cell_type": "code",
   "execution_count": 18,
   "metadata": {},
   "outputs": [],
   "source": [
    "dumpPickle('experimentModelsTest_E1_temp.pkl',experimentModels)"
   ]
  },
  {
   "cell_type": "code",
   "execution_count": 19,
   "metadata": {},
   "outputs": [
    {
     "data": {
      "text/plain": [
       "Index(['criteriumId', 'criteriumName', 'labelerIdList', 'train', 'val', 'test',\n",
       "       'modelId', 'spindleTimeRate', 'rawF1', 'rawPrecision', 'rawRecall',\n",
       "       'f1', 'precision', 'recall', 'eventF1', 'eventPrecision',\n",
       "       'eventRecall'],\n",
       "      dtype='object')"
      ]
     },
     "execution_count": 19,
     "metadata": {},
     "output_type": "execute_result"
    }
   ],
   "source": [
    "experimentModels.columns"
   ]
  },
  {
   "cell_type": "code",
   "execution_count": 20,
   "metadata": {},
   "outputs": [
    {
     "data": {
      "application/vnd.plotly.v1+json": {
       "config": {
        "plotlyServerURL": "https://plot.ly"
       },
       "data": [
        {
         "hovertemplate": "<b>%{hovertext}</b><br><br>test=0001<br>rawF1=%{x}<br>f1=%{y}<extra></extra>",
         "hovertext": [
          "8b2ea581-6dec-4094-957e-cc1ceb7234c5"
         ],
         "legendgroup": "0001",
         "marker": {
          "color": "#636efa",
          "symbol": "circle"
         },
         "mode": "markers",
         "name": "0001",
         "orientation": "v",
         "showlegend": true,
         "type": "scatter",
         "x": [
          0.627405111410024
         ],
         "xaxis": "x",
         "y": [
          0.632463335458814
         ],
         "yaxis": "y"
        },
        {
         "alignmentgroup": "True",
         "bingroup": "y",
         "hovertemplate": "test=0001<br>f1=%{y}<br>count=%{x}<extra></extra>",
         "legendgroup": "0001",
         "marker": {
          "color": "#636efa"
         },
         "name": "0001",
         "offsetgroup": "0001",
         "opacity": 0.5,
         "showlegend": false,
         "type": "histogram",
         "xaxis": "x2",
         "y": [
          0.632463335458814
         ],
         "yaxis": "y2"
        },
        {
         "hovertemplate": "<b>%{hovertext}</b><br><br>test=0002<br>rawF1=%{x}<br>f1=%{y}<extra></extra>",
         "hovertext": [
          "80181036-469f-4bcf-95a0-68374649133a"
         ],
         "legendgroup": "0002",
         "marker": {
          "color": "#EF553B",
          "symbol": "circle"
         },
         "mode": "markers",
         "name": "0002",
         "orientation": "v",
         "showlegend": true,
         "type": "scatter",
         "x": [
          0.733681901652724
         ],
         "xaxis": "x",
         "y": [
          0.7356926579454675
         ],
         "yaxis": "y"
        },
        {
         "alignmentgroup": "True",
         "bingroup": "y",
         "hovertemplate": "test=0002<br>f1=%{y}<br>count=%{x}<extra></extra>",
         "legendgroup": "0002",
         "marker": {
          "color": "#EF553B"
         },
         "name": "0002",
         "offsetgroup": "0002",
         "opacity": 0.5,
         "showlegend": false,
         "type": "histogram",
         "xaxis": "x2",
         "y": [
          0.7356926579454675
         ],
         "yaxis": "y2"
        },
        {
         "hovertemplate": "<b>%{hovertext}</b><br><br>test=0003<br>rawF1=%{x}<br>f1=%{y}<extra></extra>",
         "hovertext": [
          "f6cafb09-5e74-4889-a306-e517e28d70fe"
         ],
         "legendgroup": "0003",
         "marker": {
          "color": "#00cc96",
          "symbol": "circle"
         },
         "mode": "markers",
         "name": "0003",
         "orientation": "v",
         "showlegend": true,
         "type": "scatter",
         "x": [
          0.6173335117534234
         ],
         "xaxis": "x",
         "y": [
          0.6192821015574519
         ],
         "yaxis": "y"
        },
        {
         "alignmentgroup": "True",
         "bingroup": "y",
         "hovertemplate": "test=0003<br>f1=%{y}<br>count=%{x}<extra></extra>",
         "legendgroup": "0003",
         "marker": {
          "color": "#00cc96"
         },
         "name": "0003",
         "offsetgroup": "0003",
         "opacity": 0.5,
         "showlegend": false,
         "type": "histogram",
         "xaxis": "x2",
         "y": [
          0.6192821015574519
         ],
         "yaxis": "y2"
        },
        {
         "hovertemplate": "<b>%{hovertext}</b><br><br>test=0005<br>rawF1=%{x}<br>f1=%{y}<extra></extra>",
         "hovertext": [
          "2bf1e17a-c8bb-4166-8453-7fdff2414b10"
         ],
         "legendgroup": "0005",
         "marker": {
          "color": "#ab63fa",
          "symbol": "circle"
         },
         "mode": "markers",
         "name": "0005",
         "orientation": "v",
         "showlegend": true,
         "type": "scatter",
         "x": [
          0.5989956209071552
         ],
         "xaxis": "x",
         "y": [
          0.6069815657093265
         ],
         "yaxis": "y"
        },
        {
         "alignmentgroup": "True",
         "bingroup": "y",
         "hovertemplate": "test=0005<br>f1=%{y}<br>count=%{x}<extra></extra>",
         "legendgroup": "0005",
         "marker": {
          "color": "#ab63fa"
         },
         "name": "0005",
         "offsetgroup": "0005",
         "opacity": 0.5,
         "showlegend": false,
         "type": "histogram",
         "xaxis": "x2",
         "y": [
          0.6069815657093265
         ],
         "yaxis": "y2"
        },
        {
         "hovertemplate": "<b>%{hovertext}</b><br><br>test=0006<br>rawF1=%{x}<br>f1=%{y}<extra></extra>",
         "hovertext": [
          "0feacbcf-4f37-402e-8fbc-4e48a2520bd4"
         ],
         "legendgroup": "0006",
         "marker": {
          "color": "#FFA15A",
          "symbol": "circle"
         },
         "mode": "markers",
         "name": "0006",
         "orientation": "v",
         "showlegend": true,
         "type": "scatter",
         "x": [
          0.6078481542648462
         ],
         "xaxis": "x",
         "y": [
          0.6170697882142773
         ],
         "yaxis": "y"
        },
        {
         "alignmentgroup": "True",
         "bingroup": "y",
         "hovertemplate": "test=0006<br>f1=%{y}<br>count=%{x}<extra></extra>",
         "legendgroup": "0006",
         "marker": {
          "color": "#FFA15A"
         },
         "name": "0006",
         "offsetgroup": "0006",
         "opacity": 0.5,
         "showlegend": false,
         "type": "histogram",
         "xaxis": "x2",
         "y": [
          0.6170697882142773
         ],
         "yaxis": "y2"
        },
        {
         "hovertemplate": "<b>%{hovertext}</b><br><br>test=0007<br>rawF1=%{x}<br>f1=%{y}<extra></extra>",
         "hovertext": [
          "29c70696-0202-4feb-bd78-3579052a4865"
         ],
         "legendgroup": "0007",
         "marker": {
          "color": "#19d3f3",
          "symbol": "circle"
         },
         "mode": "markers",
         "name": "0007",
         "orientation": "v",
         "showlegend": true,
         "type": "scatter",
         "x": [
          0.596307188252477
         ],
         "xaxis": "x",
         "y": [
          0.5946256702078162
         ],
         "yaxis": "y"
        },
        {
         "alignmentgroup": "True",
         "bingroup": "y",
         "hovertemplate": "test=0007<br>f1=%{y}<br>count=%{x}<extra></extra>",
         "legendgroup": "0007",
         "marker": {
          "color": "#19d3f3"
         },
         "name": "0007",
         "offsetgroup": "0007",
         "opacity": 0.5,
         "showlegend": false,
         "type": "histogram",
         "xaxis": "x2",
         "y": [
          0.5946256702078162
         ],
         "yaxis": "y2"
        },
        {
         "hovertemplate": "<b>%{hovertext}</b><br><br>test=0009<br>rawF1=%{x}<br>f1=%{y}<extra></extra>",
         "hovertext": [
          "768cb7b4-e534-49f7-b9c4-acfa7b401ffe"
         ],
         "legendgroup": "0009",
         "marker": {
          "color": "#FF6692",
          "symbol": "circle"
         },
         "mode": "markers",
         "name": "0009",
         "orientation": "v",
         "showlegend": true,
         "type": "scatter",
         "x": [
          0.6797066393773065
         ],
         "xaxis": "x",
         "y": [
          0.6831433315739389
         ],
         "yaxis": "y"
        },
        {
         "alignmentgroup": "True",
         "bingroup": "y",
         "hovertemplate": "test=0009<br>f1=%{y}<br>count=%{x}<extra></extra>",
         "legendgroup": "0009",
         "marker": {
          "color": "#FF6692"
         },
         "name": "0009",
         "offsetgroup": "0009",
         "opacity": 0.5,
         "showlegend": false,
         "type": "histogram",
         "xaxis": "x2",
         "y": [
          0.6831433315739389
         ],
         "yaxis": "y2"
        },
        {
         "hovertemplate": "<b>%{hovertext}</b><br><br>test=0010<br>rawF1=%{x}<br>f1=%{y}<extra></extra>",
         "hovertext": [
          "e3d50ec6-a2f8-45fc-88f9-9af0621c2050"
         ],
         "legendgroup": "0010",
         "marker": {
          "color": "#B6E880",
          "symbol": "circle"
         },
         "mode": "markers",
         "name": "0010",
         "orientation": "v",
         "showlegend": true,
         "type": "scatter",
         "x": [
          0.6985838903364676
         ],
         "xaxis": "x",
         "y": [
          0.7079798315268259
         ],
         "yaxis": "y"
        },
        {
         "alignmentgroup": "True",
         "bingroup": "y",
         "hovertemplate": "test=0010<br>f1=%{y}<br>count=%{x}<extra></extra>",
         "legendgroup": "0010",
         "marker": {
          "color": "#B6E880"
         },
         "name": "0010",
         "offsetgroup": "0010",
         "opacity": 0.5,
         "showlegend": false,
         "type": "histogram",
         "xaxis": "x2",
         "y": [
          0.7079798315268259
         ],
         "yaxis": "y2"
        },
        {
         "hovertemplate": "<b>%{hovertext}</b><br><br>test=0011<br>rawF1=%{x}<br>f1=%{y}<extra></extra>",
         "hovertext": [
          "d539204f-ac49-4811-9ed0-9b39bc65c8f3"
         ],
         "legendgroup": "0011",
         "marker": {
          "color": "#FF97FF",
          "symbol": "circle"
         },
         "mode": "markers",
         "name": "0011",
         "orientation": "v",
         "showlegend": true,
         "type": "scatter",
         "x": [
          0.6509659626560104
         ],
         "xaxis": "x",
         "y": [
          0.6525272202316763
         ],
         "yaxis": "y"
        },
        {
         "alignmentgroup": "True",
         "bingroup": "y",
         "hovertemplate": "test=0011<br>f1=%{y}<br>count=%{x}<extra></extra>",
         "legendgroup": "0011",
         "marker": {
          "color": "#FF97FF"
         },
         "name": "0011",
         "offsetgroup": "0011",
         "opacity": 0.5,
         "showlegend": false,
         "type": "histogram",
         "xaxis": "x2",
         "y": [
          0.6525272202316763
         ],
         "yaxis": "y2"
        },
        {
         "hovertemplate": "<b>%{hovertext}</b><br><br>test=0012<br>rawF1=%{x}<br>f1=%{y}<extra></extra>",
         "hovertext": [
          "1fe9ebda-f8d4-46a7-8ec3-1c1477a12af6"
         ],
         "legendgroup": "0012",
         "marker": {
          "color": "#FECB52",
          "symbol": "circle"
         },
         "mode": "markers",
         "name": "0012",
         "orientation": "v",
         "showlegend": true,
         "type": "scatter",
         "x": [
          0.6482098514605625
         ],
         "xaxis": "x",
         "y": [
          0.6549133653850503
         ],
         "yaxis": "y"
        },
        {
         "alignmentgroup": "True",
         "bingroup": "y",
         "hovertemplate": "test=0012<br>f1=%{y}<br>count=%{x}<extra></extra>",
         "legendgroup": "0012",
         "marker": {
          "color": "#FECB52"
         },
         "name": "0012",
         "offsetgroup": "0012",
         "opacity": 0.5,
         "showlegend": false,
         "type": "histogram",
         "xaxis": "x2",
         "y": [
          0.6549133653850503
         ],
         "yaxis": "y2"
        },
        {
         "hovertemplate": "<b>%{hovertext}</b><br><br>test=0013<br>rawF1=%{x}<br>f1=%{y}<extra></extra>",
         "hovertext": [
          "fef1292a-c2f5-4c3e-96c0-b9ec6f60cb96"
         ],
         "legendgroup": "0013",
         "marker": {
          "color": "#636efa",
          "symbol": "circle"
         },
         "mode": "markers",
         "name": "0013",
         "orientation": "v",
         "showlegend": true,
         "type": "scatter",
         "x": [
          0.644478949989746
         ],
         "xaxis": "x",
         "y": [
          0.6401042711048727
         ],
         "yaxis": "y"
        },
        {
         "alignmentgroup": "True",
         "bingroup": "y",
         "hovertemplate": "test=0013<br>f1=%{y}<br>count=%{x}<extra></extra>",
         "legendgroup": "0013",
         "marker": {
          "color": "#636efa"
         },
         "name": "0013",
         "offsetgroup": "0013",
         "opacity": 0.5,
         "showlegend": false,
         "type": "histogram",
         "xaxis": "x2",
         "y": [
          0.6401042711048727
         ],
         "yaxis": "y2"
        },
        {
         "hovertemplate": "<b>%{hovertext}</b><br><br>test=0014<br>rawF1=%{x}<br>f1=%{y}<extra></extra>",
         "hovertext": [
          "17643ba4-cb3b-4cd8-818b-406abeab9cb3"
         ],
         "legendgroup": "0014",
         "marker": {
          "color": "#EF553B",
          "symbol": "circle"
         },
         "mode": "markers",
         "name": "0014",
         "orientation": "v",
         "showlegend": true,
         "type": "scatter",
         "x": [
          0.5599757012307854
         ],
         "xaxis": "x",
         "y": [
          0.5570197655359086
         ],
         "yaxis": "y"
        },
        {
         "alignmentgroup": "True",
         "bingroup": "y",
         "hovertemplate": "test=0014<br>f1=%{y}<br>count=%{x}<extra></extra>",
         "legendgroup": "0014",
         "marker": {
          "color": "#EF553B"
         },
         "name": "0014",
         "offsetgroup": "0014",
         "opacity": 0.5,
         "showlegend": false,
         "type": "histogram",
         "xaxis": "x2",
         "y": [
          0.5570197655359086
         ],
         "yaxis": "y2"
        },
        {
         "hovertemplate": "<b>%{hovertext}</b><br><br>test=0017<br>rawF1=%{x}<br>f1=%{y}<extra></extra>",
         "hovertext": [
          "deda4266-2cea-44e1-93d6-21d866332ca0"
         ],
         "legendgroup": "0017",
         "marker": {
          "color": "#00cc96",
          "symbol": "circle"
         },
         "mode": "markers",
         "name": "0017",
         "orientation": "v",
         "showlegend": true,
         "type": "scatter",
         "x": [
          0.6594449985695839
         ],
         "xaxis": "x",
         "y": [
          0.6592098926535241
         ],
         "yaxis": "y"
        },
        {
         "alignmentgroup": "True",
         "bingroup": "y",
         "hovertemplate": "test=0017<br>f1=%{y}<br>count=%{x}<extra></extra>",
         "legendgroup": "0017",
         "marker": {
          "color": "#00cc96"
         },
         "name": "0017",
         "offsetgroup": "0017",
         "opacity": 0.5,
         "showlegend": false,
         "type": "histogram",
         "xaxis": "x2",
         "y": [
          0.6592098926535241
         ],
         "yaxis": "y2"
        },
        {
         "hovertemplate": "<b>%{hovertext}</b><br><br>test=0018<br>rawF1=%{x}<br>f1=%{y}<extra></extra>",
         "hovertext": [
          "60d7b18b-ed9c-40bb-98ce-5193ad5abe70"
         ],
         "legendgroup": "0018",
         "marker": {
          "color": "#ab63fa",
          "symbol": "circle"
         },
         "mode": "markers",
         "name": "0018",
         "orientation": "v",
         "showlegend": true,
         "type": "scatter",
         "x": [
          0.6564962269809486
         ],
         "xaxis": "x",
         "y": [
          0.6580891619168506
         ],
         "yaxis": "y"
        },
        {
         "alignmentgroup": "True",
         "bingroup": "y",
         "hovertemplate": "test=0018<br>f1=%{y}<br>count=%{x}<extra></extra>",
         "legendgroup": "0018",
         "marker": {
          "color": "#ab63fa"
         },
         "name": "0018",
         "offsetgroup": "0018",
         "opacity": 0.5,
         "showlegend": false,
         "type": "histogram",
         "xaxis": "x2",
         "y": [
          0.6580891619168506
         ],
         "yaxis": "y2"
        },
        {
         "hovertemplate": "<b>%{hovertext}</b><br><br>test=0019<br>rawF1=%{x}<br>f1=%{y}<extra></extra>",
         "hovertext": [
          "c8a28ce7-7f69-4a97-bfe2-229b91334659"
         ],
         "legendgroup": "0019",
         "marker": {
          "color": "#FFA15A",
          "symbol": "circle"
         },
         "mode": "markers",
         "name": "0019",
         "orientation": "v",
         "showlegend": true,
         "type": "scatter",
         "x": [
          0.5392639197691471
         ],
         "xaxis": "x",
         "y": [
          0.5390912088947517
         ],
         "yaxis": "y"
        },
        {
         "alignmentgroup": "True",
         "bingroup": "y",
         "hovertemplate": "test=0019<br>f1=%{y}<br>count=%{x}<extra></extra>",
         "legendgroup": "0019",
         "marker": {
          "color": "#FFA15A"
         },
         "name": "0019",
         "offsetgroup": "0019",
         "opacity": 0.5,
         "showlegend": false,
         "type": "histogram",
         "xaxis": "x2",
         "y": [
          0.5390912088947517
         ],
         "yaxis": "y2"
        },
        {
         "fill": "toself",
         "mode": "lines",
         "name": "identity",
         "type": "scatter",
         "x": [
          0.627405111410024,
          0.733681901652724,
          0.6173335117534234,
          0.5989956209071552,
          0.6078481542648462,
          0.596307188252477,
          0.6797066393773065,
          0.6985838903364676,
          0.6509659626560104,
          0.6482098514605625,
          0.644478949989746,
          0.5599757012307854,
          0.6594449985695839,
          0.6564962269809486,
          0.5392639197691471
         ],
         "y": [
          0.627405111410024,
          0.733681901652724,
          0.6173335117534234,
          0.5989956209071552,
          0.6078481542648462,
          0.596307188252477,
          0.6797066393773065,
          0.6985838903364676,
          0.6509659626560104,
          0.6482098514605625,
          0.644478949989746,
          0.5599757012307854,
          0.6594449985695839,
          0.6564962269809486,
          0.5392639197691471
         ]
        }
       ],
       "layout": {
        "barmode": "overlay",
        "legend": {
         "title": {
          "text": "test"
         },
         "tracegroupgap": 0
        },
        "margin": {
         "t": 60
        },
        "template": {
         "data": {
          "bar": [
           {
            "error_x": {
             "color": "#2a3f5f"
            },
            "error_y": {
             "color": "#2a3f5f"
            },
            "marker": {
             "line": {
              "color": "#E5ECF6",
              "width": 0.5
             },
             "pattern": {
              "fillmode": "overlay",
              "size": 10,
              "solidity": 0.2
             }
            },
            "type": "bar"
           }
          ],
          "barpolar": [
           {
            "marker": {
             "line": {
              "color": "#E5ECF6",
              "width": 0.5
             },
             "pattern": {
              "fillmode": "overlay",
              "size": 10,
              "solidity": 0.2
             }
            },
            "type": "barpolar"
           }
          ],
          "carpet": [
           {
            "aaxis": {
             "endlinecolor": "#2a3f5f",
             "gridcolor": "white",
             "linecolor": "white",
             "minorgridcolor": "white",
             "startlinecolor": "#2a3f5f"
            },
            "baxis": {
             "endlinecolor": "#2a3f5f",
             "gridcolor": "white",
             "linecolor": "white",
             "minorgridcolor": "white",
             "startlinecolor": "#2a3f5f"
            },
            "type": "carpet"
           }
          ],
          "choropleth": [
           {
            "colorbar": {
             "outlinewidth": 0,
             "ticks": ""
            },
            "type": "choropleth"
           }
          ],
          "contour": [
           {
            "colorbar": {
             "outlinewidth": 0,
             "ticks": ""
            },
            "colorscale": [
             [
              0,
              "#0d0887"
             ],
             [
              0.1111111111111111,
              "#46039f"
             ],
             [
              0.2222222222222222,
              "#7201a8"
             ],
             [
              0.3333333333333333,
              "#9c179e"
             ],
             [
              0.4444444444444444,
              "#bd3786"
             ],
             [
              0.5555555555555556,
              "#d8576b"
             ],
             [
              0.6666666666666666,
              "#ed7953"
             ],
             [
              0.7777777777777778,
              "#fb9f3a"
             ],
             [
              0.8888888888888888,
              "#fdca26"
             ],
             [
              1,
              "#f0f921"
             ]
            ],
            "type": "contour"
           }
          ],
          "contourcarpet": [
           {
            "colorbar": {
             "outlinewidth": 0,
             "ticks": ""
            },
            "type": "contourcarpet"
           }
          ],
          "heatmap": [
           {
            "colorbar": {
             "outlinewidth": 0,
             "ticks": ""
            },
            "colorscale": [
             [
              0,
              "#0d0887"
             ],
             [
              0.1111111111111111,
              "#46039f"
             ],
             [
              0.2222222222222222,
              "#7201a8"
             ],
             [
              0.3333333333333333,
              "#9c179e"
             ],
             [
              0.4444444444444444,
              "#bd3786"
             ],
             [
              0.5555555555555556,
              "#d8576b"
             ],
             [
              0.6666666666666666,
              "#ed7953"
             ],
             [
              0.7777777777777778,
              "#fb9f3a"
             ],
             [
              0.8888888888888888,
              "#fdca26"
             ],
             [
              1,
              "#f0f921"
             ]
            ],
            "type": "heatmap"
           }
          ],
          "heatmapgl": [
           {
            "colorbar": {
             "outlinewidth": 0,
             "ticks": ""
            },
            "colorscale": [
             [
              0,
              "#0d0887"
             ],
             [
              0.1111111111111111,
              "#46039f"
             ],
             [
              0.2222222222222222,
              "#7201a8"
             ],
             [
              0.3333333333333333,
              "#9c179e"
             ],
             [
              0.4444444444444444,
              "#bd3786"
             ],
             [
              0.5555555555555556,
              "#d8576b"
             ],
             [
              0.6666666666666666,
              "#ed7953"
             ],
             [
              0.7777777777777778,
              "#fb9f3a"
             ],
             [
              0.8888888888888888,
              "#fdca26"
             ],
             [
              1,
              "#f0f921"
             ]
            ],
            "type": "heatmapgl"
           }
          ],
          "histogram": [
           {
            "marker": {
             "pattern": {
              "fillmode": "overlay",
              "size": 10,
              "solidity": 0.2
             }
            },
            "type": "histogram"
           }
          ],
          "histogram2d": [
           {
            "colorbar": {
             "outlinewidth": 0,
             "ticks": ""
            },
            "colorscale": [
             [
              0,
              "#0d0887"
             ],
             [
              0.1111111111111111,
              "#46039f"
             ],
             [
              0.2222222222222222,
              "#7201a8"
             ],
             [
              0.3333333333333333,
              "#9c179e"
             ],
             [
              0.4444444444444444,
              "#bd3786"
             ],
             [
              0.5555555555555556,
              "#d8576b"
             ],
             [
              0.6666666666666666,
              "#ed7953"
             ],
             [
              0.7777777777777778,
              "#fb9f3a"
             ],
             [
              0.8888888888888888,
              "#fdca26"
             ],
             [
              1,
              "#f0f921"
             ]
            ],
            "type": "histogram2d"
           }
          ],
          "histogram2dcontour": [
           {
            "colorbar": {
             "outlinewidth": 0,
             "ticks": ""
            },
            "colorscale": [
             [
              0,
              "#0d0887"
             ],
             [
              0.1111111111111111,
              "#46039f"
             ],
             [
              0.2222222222222222,
              "#7201a8"
             ],
             [
              0.3333333333333333,
              "#9c179e"
             ],
             [
              0.4444444444444444,
              "#bd3786"
             ],
             [
              0.5555555555555556,
              "#d8576b"
             ],
             [
              0.6666666666666666,
              "#ed7953"
             ],
             [
              0.7777777777777778,
              "#fb9f3a"
             ],
             [
              0.8888888888888888,
              "#fdca26"
             ],
             [
              1,
              "#f0f921"
             ]
            ],
            "type": "histogram2dcontour"
           }
          ],
          "mesh3d": [
           {
            "colorbar": {
             "outlinewidth": 0,
             "ticks": ""
            },
            "type": "mesh3d"
           }
          ],
          "parcoords": [
           {
            "line": {
             "colorbar": {
              "outlinewidth": 0,
              "ticks": ""
             }
            },
            "type": "parcoords"
           }
          ],
          "pie": [
           {
            "automargin": true,
            "type": "pie"
           }
          ],
          "scatter": [
           {
            "fillpattern": {
             "fillmode": "overlay",
             "size": 10,
             "solidity": 0.2
            },
            "type": "scatter"
           }
          ],
          "scatter3d": [
           {
            "line": {
             "colorbar": {
              "outlinewidth": 0,
              "ticks": ""
             }
            },
            "marker": {
             "colorbar": {
              "outlinewidth": 0,
              "ticks": ""
             }
            },
            "type": "scatter3d"
           }
          ],
          "scattercarpet": [
           {
            "marker": {
             "colorbar": {
              "outlinewidth": 0,
              "ticks": ""
             }
            },
            "type": "scattercarpet"
           }
          ],
          "scattergeo": [
           {
            "marker": {
             "colorbar": {
              "outlinewidth": 0,
              "ticks": ""
             }
            },
            "type": "scattergeo"
           }
          ],
          "scattergl": [
           {
            "marker": {
             "colorbar": {
              "outlinewidth": 0,
              "ticks": ""
             }
            },
            "type": "scattergl"
           }
          ],
          "scattermapbox": [
           {
            "marker": {
             "colorbar": {
              "outlinewidth": 0,
              "ticks": ""
             }
            },
            "type": "scattermapbox"
           }
          ],
          "scatterpolar": [
           {
            "marker": {
             "colorbar": {
              "outlinewidth": 0,
              "ticks": ""
             }
            },
            "type": "scatterpolar"
           }
          ],
          "scatterpolargl": [
           {
            "marker": {
             "colorbar": {
              "outlinewidth": 0,
              "ticks": ""
             }
            },
            "type": "scatterpolargl"
           }
          ],
          "scatterternary": [
           {
            "marker": {
             "colorbar": {
              "outlinewidth": 0,
              "ticks": ""
             }
            },
            "type": "scatterternary"
           }
          ],
          "surface": [
           {
            "colorbar": {
             "outlinewidth": 0,
             "ticks": ""
            },
            "colorscale": [
             [
              0,
              "#0d0887"
             ],
             [
              0.1111111111111111,
              "#46039f"
             ],
             [
              0.2222222222222222,
              "#7201a8"
             ],
             [
              0.3333333333333333,
              "#9c179e"
             ],
             [
              0.4444444444444444,
              "#bd3786"
             ],
             [
              0.5555555555555556,
              "#d8576b"
             ],
             [
              0.6666666666666666,
              "#ed7953"
             ],
             [
              0.7777777777777778,
              "#fb9f3a"
             ],
             [
              0.8888888888888888,
              "#fdca26"
             ],
             [
              1,
              "#f0f921"
             ]
            ],
            "type": "surface"
           }
          ],
          "table": [
           {
            "cells": {
             "fill": {
              "color": "#EBF0F8"
             },
             "line": {
              "color": "white"
             }
            },
            "header": {
             "fill": {
              "color": "#C8D4E3"
             },
             "line": {
              "color": "white"
             }
            },
            "type": "table"
           }
          ]
         },
         "layout": {
          "annotationdefaults": {
           "arrowcolor": "#2a3f5f",
           "arrowhead": 0,
           "arrowwidth": 1
          },
          "autotypenumbers": "strict",
          "coloraxis": {
           "colorbar": {
            "outlinewidth": 0,
            "ticks": ""
           }
          },
          "colorscale": {
           "diverging": [
            [
             0,
             "#8e0152"
            ],
            [
             0.1,
             "#c51b7d"
            ],
            [
             0.2,
             "#de77ae"
            ],
            [
             0.3,
             "#f1b6da"
            ],
            [
             0.4,
             "#fde0ef"
            ],
            [
             0.5,
             "#f7f7f7"
            ],
            [
             0.6,
             "#e6f5d0"
            ],
            [
             0.7,
             "#b8e186"
            ],
            [
             0.8,
             "#7fbc41"
            ],
            [
             0.9,
             "#4d9221"
            ],
            [
             1,
             "#276419"
            ]
           ],
           "sequential": [
            [
             0,
             "#0d0887"
            ],
            [
             0.1111111111111111,
             "#46039f"
            ],
            [
             0.2222222222222222,
             "#7201a8"
            ],
            [
             0.3333333333333333,
             "#9c179e"
            ],
            [
             0.4444444444444444,
             "#bd3786"
            ],
            [
             0.5555555555555556,
             "#d8576b"
            ],
            [
             0.6666666666666666,
             "#ed7953"
            ],
            [
             0.7777777777777778,
             "#fb9f3a"
            ],
            [
             0.8888888888888888,
             "#fdca26"
            ],
            [
             1,
             "#f0f921"
            ]
           ],
           "sequentialminus": [
            [
             0,
             "#0d0887"
            ],
            [
             0.1111111111111111,
             "#46039f"
            ],
            [
             0.2222222222222222,
             "#7201a8"
            ],
            [
             0.3333333333333333,
             "#9c179e"
            ],
            [
             0.4444444444444444,
             "#bd3786"
            ],
            [
             0.5555555555555556,
             "#d8576b"
            ],
            [
             0.6666666666666666,
             "#ed7953"
            ],
            [
             0.7777777777777778,
             "#fb9f3a"
            ],
            [
             0.8888888888888888,
             "#fdca26"
            ],
            [
             1,
             "#f0f921"
            ]
           ]
          },
          "colorway": [
           "#636efa",
           "#EF553B",
           "#00cc96",
           "#ab63fa",
           "#FFA15A",
           "#19d3f3",
           "#FF6692",
           "#B6E880",
           "#FF97FF",
           "#FECB52"
          ],
          "font": {
           "color": "#2a3f5f"
          },
          "geo": {
           "bgcolor": "white",
           "lakecolor": "white",
           "landcolor": "#E5ECF6",
           "showlakes": true,
           "showland": true,
           "subunitcolor": "white"
          },
          "hoverlabel": {
           "align": "left"
          },
          "hovermode": "closest",
          "mapbox": {
           "style": "light"
          },
          "paper_bgcolor": "white",
          "plot_bgcolor": "#E5ECF6",
          "polar": {
           "angularaxis": {
            "gridcolor": "white",
            "linecolor": "white",
            "ticks": ""
           },
           "bgcolor": "#E5ECF6",
           "radialaxis": {
            "gridcolor": "white",
            "linecolor": "white",
            "ticks": ""
           }
          },
          "scene": {
           "xaxis": {
            "backgroundcolor": "#E5ECF6",
            "gridcolor": "white",
            "gridwidth": 2,
            "linecolor": "white",
            "showbackground": true,
            "ticks": "",
            "zerolinecolor": "white"
           },
           "yaxis": {
            "backgroundcolor": "#E5ECF6",
            "gridcolor": "white",
            "gridwidth": 2,
            "linecolor": "white",
            "showbackground": true,
            "ticks": "",
            "zerolinecolor": "white"
           },
           "zaxis": {
            "backgroundcolor": "#E5ECF6",
            "gridcolor": "white",
            "gridwidth": 2,
            "linecolor": "white",
            "showbackground": true,
            "ticks": "",
            "zerolinecolor": "white"
           }
          },
          "shapedefaults": {
           "line": {
            "color": "#2a3f5f"
           }
          },
          "ternary": {
           "aaxis": {
            "gridcolor": "white",
            "linecolor": "white",
            "ticks": ""
           },
           "baxis": {
            "gridcolor": "white",
            "linecolor": "white",
            "ticks": ""
           },
           "bgcolor": "#E5ECF6",
           "caxis": {
            "gridcolor": "white",
            "linecolor": "white",
            "ticks": ""
           }
          },
          "title": {
           "x": 0.05
          },
          "xaxis": {
           "automargin": true,
           "gridcolor": "white",
           "linecolor": "white",
           "ticks": "",
           "title": {
            "standoff": 15
           },
           "zerolinecolor": "white",
           "zerolinewidth": 2
          },
          "yaxis": {
           "automargin": true,
           "gridcolor": "white",
           "linecolor": "white",
           "ticks": "",
           "title": {
            "standoff": 15
           },
           "zerolinecolor": "white",
           "zerolinewidth": 2
          }
         }
        },
        "xaxis": {
         "anchor": "y",
         "domain": [
          0,
          0.7363
         ],
         "title": {
          "text": "rawF1"
         }
        },
        "xaxis2": {
         "anchor": "y2",
         "domain": [
          0.7413,
          1
         ],
         "matches": "x2",
         "showgrid": true,
         "showline": false,
         "showticklabels": false,
         "ticks": ""
        },
        "yaxis": {
         "anchor": "x",
         "domain": [
          0,
          1
         ],
         "title": {
          "text": "f1"
         }
        },
        "yaxis2": {
         "anchor": "x2",
         "domain": [
          0,
          1
         ],
         "matches": "y",
         "showgrid": true,
         "showticklabels": false
        }
       }
      }
     },
     "metadata": {},
     "output_type": "display_data"
    }
   ],
   "source": [
    "fig=px.scatter(experimentModels,x='rawF1',y='f1',color='test',hover_name='modelId', marginal_y=\"histogram\")\n",
    "fig.add_trace(\n",
    "    go.Scatter(x=experimentModels['rawF1'], y=experimentModels['rawF1'], name=\"identity\", mode='lines',fill=\"toself\")\n",
    ")\n",
    "fig.show()"
   ]
  },
  {
   "cell_type": "code",
   "execution_count": 21,
   "metadata": {},
   "outputs": [
    {
     "data": {
      "application/vnd.plotly.v1+json": {
       "config": {
        "plotlyServerURL": "https://plot.ly"
       },
       "data": [
        {
         "hovertemplate": "<b>%{hovertext}</b><br><br>test=0001<br>rawF1=%{x}<br>eventF1=%{y}<extra></extra>",
         "hovertext": [
          "8b2ea581-6dec-4094-957e-cc1ceb7234c5"
         ],
         "legendgroup": "0001",
         "marker": {
          "color": "#636efa",
          "symbol": "circle"
         },
         "mode": "markers",
         "name": "0001",
         "orientation": "v",
         "showlegend": true,
         "type": "scatter",
         "x": [
          0.627405111410024
         ],
         "xaxis": "x",
         "y": [
          0.69185360094451
         ],
         "yaxis": "y"
        },
        {
         "alignmentgroup": "True",
         "bingroup": "y",
         "hovertemplate": "test=0001<br>eventF1=%{y}<br>count=%{x}<extra></extra>",
         "legendgroup": "0001",
         "marker": {
          "color": "#636efa"
         },
         "name": "0001",
         "offsetgroup": "0001",
         "opacity": 0.5,
         "showlegend": false,
         "type": "histogram",
         "xaxis": "x2",
         "y": [
          0.69185360094451
         ],
         "yaxis": "y2"
        },
        {
         "hovertemplate": "<b>%{hovertext}</b><br><br>test=0002<br>rawF1=%{x}<br>eventF1=%{y}<extra></extra>",
         "hovertext": [
          "80181036-469f-4bcf-95a0-68374649133a"
         ],
         "legendgroup": "0002",
         "marker": {
          "color": "#EF553B",
          "symbol": "circle"
         },
         "mode": "markers",
         "name": "0002",
         "orientation": "v",
         "showlegend": true,
         "type": "scatter",
         "x": [
          0.733681901652724
         ],
         "xaxis": "x",
         "y": [
          0.7955846279640229
         ],
         "yaxis": "y"
        },
        {
         "alignmentgroup": "True",
         "bingroup": "y",
         "hovertemplate": "test=0002<br>eventF1=%{y}<br>count=%{x}<extra></extra>",
         "legendgroup": "0002",
         "marker": {
          "color": "#EF553B"
         },
         "name": "0002",
         "offsetgroup": "0002",
         "opacity": 0.5,
         "showlegend": false,
         "type": "histogram",
         "xaxis": "x2",
         "y": [
          0.7955846279640229
         ],
         "yaxis": "y2"
        },
        {
         "hovertemplate": "<b>%{hovertext}</b><br><br>test=0003<br>rawF1=%{x}<br>eventF1=%{y}<extra></extra>",
         "hovertext": [
          "f6cafb09-5e74-4889-a306-e517e28d70fe"
         ],
         "legendgroup": "0003",
         "marker": {
          "color": "#00cc96",
          "symbol": "circle"
         },
         "mode": "markers",
         "name": "0003",
         "orientation": "v",
         "showlegend": true,
         "type": "scatter",
         "x": [
          0.6173335117534234
         ],
         "xaxis": "x",
         "y": [
          0.6445783132530121
         ],
         "yaxis": "y"
        },
        {
         "alignmentgroup": "True",
         "bingroup": "y",
         "hovertemplate": "test=0003<br>eventF1=%{y}<br>count=%{x}<extra></extra>",
         "legendgroup": "0003",
         "marker": {
          "color": "#00cc96"
         },
         "name": "0003",
         "offsetgroup": "0003",
         "opacity": 0.5,
         "showlegend": false,
         "type": "histogram",
         "xaxis": "x2",
         "y": [
          0.6445783132530121
         ],
         "yaxis": "y2"
        },
        {
         "hovertemplate": "<b>%{hovertext}</b><br><br>test=0005<br>rawF1=%{x}<br>eventF1=%{y}<extra></extra>",
         "hovertext": [
          "2bf1e17a-c8bb-4166-8453-7fdff2414b10"
         ],
         "legendgroup": "0005",
         "marker": {
          "color": "#ab63fa",
          "symbol": "circle"
         },
         "mode": "markers",
         "name": "0005",
         "orientation": "v",
         "showlegend": true,
         "type": "scatter",
         "x": [
          0.5989956209071552
         ],
         "xaxis": "x",
         "y": [
          0.6621923937360179
         ],
         "yaxis": "y"
        },
        {
         "alignmentgroup": "True",
         "bingroup": "y",
         "hovertemplate": "test=0005<br>eventF1=%{y}<br>count=%{x}<extra></extra>",
         "legendgroup": "0005",
         "marker": {
          "color": "#ab63fa"
         },
         "name": "0005",
         "offsetgroup": "0005",
         "opacity": 0.5,
         "showlegend": false,
         "type": "histogram",
         "xaxis": "x2",
         "y": [
          0.6621923937360179
         ],
         "yaxis": "y2"
        },
        {
         "hovertemplate": "<b>%{hovertext}</b><br><br>test=0006<br>rawF1=%{x}<br>eventF1=%{y}<extra></extra>",
         "hovertext": [
          "0feacbcf-4f37-402e-8fbc-4e48a2520bd4"
         ],
         "legendgroup": "0006",
         "marker": {
          "color": "#FFA15A",
          "symbol": "circle"
         },
         "mode": "markers",
         "name": "0006",
         "orientation": "v",
         "showlegend": true,
         "type": "scatter",
         "x": [
          0.6078481542648462
         ],
         "xaxis": "x",
         "y": [
          0.6821192052980133
         ],
         "yaxis": "y"
        },
        {
         "alignmentgroup": "True",
         "bingroup": "y",
         "hovertemplate": "test=0006<br>eventF1=%{y}<br>count=%{x}<extra></extra>",
         "legendgroup": "0006",
         "marker": {
          "color": "#FFA15A"
         },
         "name": "0006",
         "offsetgroup": "0006",
         "opacity": 0.5,
         "showlegend": false,
         "type": "histogram",
         "xaxis": "x2",
         "y": [
          0.6821192052980133
         ],
         "yaxis": "y2"
        },
        {
         "hovertemplate": "<b>%{hovertext}</b><br><br>test=0007<br>rawF1=%{x}<br>eventF1=%{y}<extra></extra>",
         "hovertext": [
          "29c70696-0202-4feb-bd78-3579052a4865"
         ],
         "legendgroup": "0007",
         "marker": {
          "color": "#19d3f3",
          "symbol": "circle"
         },
         "mode": "markers",
         "name": "0007",
         "orientation": "v",
         "showlegend": true,
         "type": "scatter",
         "x": [
          0.596307188252477
         ],
         "xaxis": "x",
         "y": [
          0.6472772277227723
         ],
         "yaxis": "y"
        },
        {
         "alignmentgroup": "True",
         "bingroup": "y",
         "hovertemplate": "test=0007<br>eventF1=%{y}<br>count=%{x}<extra></extra>",
         "legendgroup": "0007",
         "marker": {
          "color": "#19d3f3"
         },
         "name": "0007",
         "offsetgroup": "0007",
         "opacity": 0.5,
         "showlegend": false,
         "type": "histogram",
         "xaxis": "x2",
         "y": [
          0.6472772277227723
         ],
         "yaxis": "y2"
        },
        {
         "hovertemplate": "<b>%{hovertext}</b><br><br>test=0009<br>rawF1=%{x}<br>eventF1=%{y}<extra></extra>",
         "hovertext": [
          "768cb7b4-e534-49f7-b9c4-acfa7b401ffe"
         ],
         "legendgroup": "0009",
         "marker": {
          "color": "#FF6692",
          "symbol": "circle"
         },
         "mode": "markers",
         "name": "0009",
         "orientation": "v",
         "showlegend": true,
         "type": "scatter",
         "x": [
          0.6797066393773065
         ],
         "xaxis": "x",
         "y": [
          0.7760898282694848
         ],
         "yaxis": "y"
        },
        {
         "alignmentgroup": "True",
         "bingroup": "y",
         "hovertemplate": "test=0009<br>eventF1=%{y}<br>count=%{x}<extra></extra>",
         "legendgroup": "0009",
         "marker": {
          "color": "#FF6692"
         },
         "name": "0009",
         "offsetgroup": "0009",
         "opacity": 0.5,
         "showlegend": false,
         "type": "histogram",
         "xaxis": "x2",
         "y": [
          0.7760898282694848
         ],
         "yaxis": "y2"
        },
        {
         "hovertemplate": "<b>%{hovertext}</b><br><br>test=0010<br>rawF1=%{x}<br>eventF1=%{y}<extra></extra>",
         "hovertext": [
          "e3d50ec6-a2f8-45fc-88f9-9af0621c2050"
         ],
         "legendgroup": "0010",
         "marker": {
          "color": "#B6E880",
          "symbol": "circle"
         },
         "mode": "markers",
         "name": "0010",
         "orientation": "v",
         "showlegend": true,
         "type": "scatter",
         "x": [
          0.6985838903364676
         ],
         "xaxis": "x",
         "y": [
          0.7725980670835703
         ],
         "yaxis": "y"
        },
        {
         "alignmentgroup": "True",
         "bingroup": "y",
         "hovertemplate": "test=0010<br>eventF1=%{y}<br>count=%{x}<extra></extra>",
         "legendgroup": "0010",
         "marker": {
          "color": "#B6E880"
         },
         "name": "0010",
         "offsetgroup": "0010",
         "opacity": 0.5,
         "showlegend": false,
         "type": "histogram",
         "xaxis": "x2",
         "y": [
          0.7725980670835703
         ],
         "yaxis": "y2"
        },
        {
         "hovertemplate": "<b>%{hovertext}</b><br><br>test=0011<br>rawF1=%{x}<br>eventF1=%{y}<extra></extra>",
         "hovertext": [
          "d539204f-ac49-4811-9ed0-9b39bc65c8f3"
         ],
         "legendgroup": "0011",
         "marker": {
          "color": "#FF97FF",
          "symbol": "circle"
         },
         "mode": "markers",
         "name": "0011",
         "orientation": "v",
         "showlegend": true,
         "type": "scatter",
         "x": [
          0.6509659626560104
         ],
         "xaxis": "x",
         "y": [
          0.6819535437760572
         ],
         "yaxis": "y"
        },
        {
         "alignmentgroup": "True",
         "bingroup": "y",
         "hovertemplate": "test=0011<br>eventF1=%{y}<br>count=%{x}<extra></extra>",
         "legendgroup": "0011",
         "marker": {
          "color": "#FF97FF"
         },
         "name": "0011",
         "offsetgroup": "0011",
         "opacity": 0.5,
         "showlegend": false,
         "type": "histogram",
         "xaxis": "x2",
         "y": [
          0.6819535437760572
         ],
         "yaxis": "y2"
        },
        {
         "hovertemplate": "<b>%{hovertext}</b><br><br>test=0012<br>rawF1=%{x}<br>eventF1=%{y}<extra></extra>",
         "hovertext": [
          "1fe9ebda-f8d4-46a7-8ec3-1c1477a12af6"
         ],
         "legendgroup": "0012",
         "marker": {
          "color": "#FECB52",
          "symbol": "circle"
         },
         "mode": "markers",
         "name": "0012",
         "orientation": "v",
         "showlegend": true,
         "type": "scatter",
         "x": [
          0.6482098514605625
         ],
         "xaxis": "x",
         "y": [
          0.7344632768361582
         ],
         "yaxis": "y"
        },
        {
         "alignmentgroup": "True",
         "bingroup": "y",
         "hovertemplate": "test=0012<br>eventF1=%{y}<br>count=%{x}<extra></extra>",
         "legendgroup": "0012",
         "marker": {
          "color": "#FECB52"
         },
         "name": "0012",
         "offsetgroup": "0012",
         "opacity": 0.5,
         "showlegend": false,
         "type": "histogram",
         "xaxis": "x2",
         "y": [
          0.7344632768361582
         ],
         "yaxis": "y2"
        },
        {
         "hovertemplate": "<b>%{hovertext}</b><br><br>test=0013<br>rawF1=%{x}<br>eventF1=%{y}<extra></extra>",
         "hovertext": [
          "fef1292a-c2f5-4c3e-96c0-b9ec6f60cb96"
         ],
         "legendgroup": "0013",
         "marker": {
          "color": "#636efa",
          "symbol": "circle"
         },
         "mode": "markers",
         "name": "0013",
         "orientation": "v",
         "showlegend": true,
         "type": "scatter",
         "x": [
          0.644478949989746
         ],
         "xaxis": "x",
         "y": [
          0.6756756756756757
         ],
         "yaxis": "y"
        },
        {
         "alignmentgroup": "True",
         "bingroup": "y",
         "hovertemplate": "test=0013<br>eventF1=%{y}<br>count=%{x}<extra></extra>",
         "legendgroup": "0013",
         "marker": {
          "color": "#636efa"
         },
         "name": "0013",
         "offsetgroup": "0013",
         "opacity": 0.5,
         "showlegend": false,
         "type": "histogram",
         "xaxis": "x2",
         "y": [
          0.6756756756756757
         ],
         "yaxis": "y2"
        },
        {
         "hovertemplate": "<b>%{hovertext}</b><br><br>test=0014<br>rawF1=%{x}<br>eventF1=%{y}<extra></extra>",
         "hovertext": [
          "17643ba4-cb3b-4cd8-818b-406abeab9cb3"
         ],
         "legendgroup": "0014",
         "marker": {
          "color": "#EF553B",
          "symbol": "circle"
         },
         "mode": "markers",
         "name": "0014",
         "orientation": "v",
         "showlegend": true,
         "type": "scatter",
         "x": [
          0.5599757012307854
         ],
         "xaxis": "x",
         "y": [
          0.6047326906222612
         ],
         "yaxis": "y"
        },
        {
         "alignmentgroup": "True",
         "bingroup": "y",
         "hovertemplate": "test=0014<br>eventF1=%{y}<br>count=%{x}<extra></extra>",
         "legendgroup": "0014",
         "marker": {
          "color": "#EF553B"
         },
         "name": "0014",
         "offsetgroup": "0014",
         "opacity": 0.5,
         "showlegend": false,
         "type": "histogram",
         "xaxis": "x2",
         "y": [
          0.6047326906222612
         ],
         "yaxis": "y2"
        },
        {
         "hovertemplate": "<b>%{hovertext}</b><br><br>test=0017<br>rawF1=%{x}<br>eventF1=%{y}<extra></extra>",
         "hovertext": [
          "deda4266-2cea-44e1-93d6-21d866332ca0"
         ],
         "legendgroup": "0017",
         "marker": {
          "color": "#00cc96",
          "symbol": "circle"
         },
         "mode": "markers",
         "name": "0017",
         "orientation": "v",
         "showlegend": true,
         "type": "scatter",
         "x": [
          0.6594449985695839
         ],
         "xaxis": "x",
         "y": [
          0.7417061611374408
         ],
         "yaxis": "y"
        },
        {
         "alignmentgroup": "True",
         "bingroup": "y",
         "hovertemplate": "test=0017<br>eventF1=%{y}<br>count=%{x}<extra></extra>",
         "legendgroup": "0017",
         "marker": {
          "color": "#00cc96"
         },
         "name": "0017",
         "offsetgroup": "0017",
         "opacity": 0.5,
         "showlegend": false,
         "type": "histogram",
         "xaxis": "x2",
         "y": [
          0.7417061611374408
         ],
         "yaxis": "y2"
        },
        {
         "hovertemplate": "<b>%{hovertext}</b><br><br>test=0018<br>rawF1=%{x}<br>eventF1=%{y}<extra></extra>",
         "hovertext": [
          "60d7b18b-ed9c-40bb-98ce-5193ad5abe70"
         ],
         "legendgroup": "0018",
         "marker": {
          "color": "#ab63fa",
          "symbol": "circle"
         },
         "mode": "markers",
         "name": "0018",
         "orientation": "v",
         "showlegend": true,
         "type": "scatter",
         "x": [
          0.6564962269809486
         ],
         "xaxis": "x",
         "y": [
          0.7473583093179635
         ],
         "yaxis": "y"
        },
        {
         "alignmentgroup": "True",
         "bingroup": "y",
         "hovertemplate": "test=0018<br>eventF1=%{y}<br>count=%{x}<extra></extra>",
         "legendgroup": "0018",
         "marker": {
          "color": "#ab63fa"
         },
         "name": "0018",
         "offsetgroup": "0018",
         "opacity": 0.5,
         "showlegend": false,
         "type": "histogram",
         "xaxis": "x2",
         "y": [
          0.7473583093179635
         ],
         "yaxis": "y2"
        },
        {
         "hovertemplate": "<b>%{hovertext}</b><br><br>test=0019<br>rawF1=%{x}<br>eventF1=%{y}<extra></extra>",
         "hovertext": [
          "c8a28ce7-7f69-4a97-bfe2-229b91334659"
         ],
         "legendgroup": "0019",
         "marker": {
          "color": "#FFA15A",
          "symbol": "circle"
         },
         "mode": "markers",
         "name": "0019",
         "orientation": "v",
         "showlegend": true,
         "type": "scatter",
         "x": [
          0.5392639197691471
         ],
         "xaxis": "x",
         "y": [
          0.5698630136986301
         ],
         "yaxis": "y"
        },
        {
         "alignmentgroup": "True",
         "bingroup": "y",
         "hovertemplate": "test=0019<br>eventF1=%{y}<br>count=%{x}<extra></extra>",
         "legendgroup": "0019",
         "marker": {
          "color": "#FFA15A"
         },
         "name": "0019",
         "offsetgroup": "0019",
         "opacity": 0.5,
         "showlegend": false,
         "type": "histogram",
         "xaxis": "x2",
         "y": [
          0.5698630136986301
         ],
         "yaxis": "y2"
        },
        {
         "fill": "toself",
         "mode": "lines",
         "name": "identity",
         "type": "scatter",
         "x": [
          0.627405111410024,
          0.733681901652724,
          0.6173335117534234,
          0.5989956209071552,
          0.6078481542648462,
          0.596307188252477,
          0.6797066393773065,
          0.6985838903364676,
          0.6509659626560104,
          0.6482098514605625,
          0.644478949989746,
          0.5599757012307854,
          0.6594449985695839,
          0.6564962269809486,
          0.5392639197691471
         ],
         "y": [
          0.627405111410024,
          0.733681901652724,
          0.6173335117534234,
          0.5989956209071552,
          0.6078481542648462,
          0.596307188252477,
          0.6797066393773065,
          0.6985838903364676,
          0.6509659626560104,
          0.6482098514605625,
          0.644478949989746,
          0.5599757012307854,
          0.6594449985695839,
          0.6564962269809486,
          0.5392639197691471
         ]
        }
       ],
       "layout": {
        "barmode": "overlay",
        "legend": {
         "title": {
          "text": "test"
         },
         "tracegroupgap": 0
        },
        "margin": {
         "t": 60
        },
        "template": {
         "data": {
          "bar": [
           {
            "error_x": {
             "color": "#2a3f5f"
            },
            "error_y": {
             "color": "#2a3f5f"
            },
            "marker": {
             "line": {
              "color": "#E5ECF6",
              "width": 0.5
             },
             "pattern": {
              "fillmode": "overlay",
              "size": 10,
              "solidity": 0.2
             }
            },
            "type": "bar"
           }
          ],
          "barpolar": [
           {
            "marker": {
             "line": {
              "color": "#E5ECF6",
              "width": 0.5
             },
             "pattern": {
              "fillmode": "overlay",
              "size": 10,
              "solidity": 0.2
             }
            },
            "type": "barpolar"
           }
          ],
          "carpet": [
           {
            "aaxis": {
             "endlinecolor": "#2a3f5f",
             "gridcolor": "white",
             "linecolor": "white",
             "minorgridcolor": "white",
             "startlinecolor": "#2a3f5f"
            },
            "baxis": {
             "endlinecolor": "#2a3f5f",
             "gridcolor": "white",
             "linecolor": "white",
             "minorgridcolor": "white",
             "startlinecolor": "#2a3f5f"
            },
            "type": "carpet"
           }
          ],
          "choropleth": [
           {
            "colorbar": {
             "outlinewidth": 0,
             "ticks": ""
            },
            "type": "choropleth"
           }
          ],
          "contour": [
           {
            "colorbar": {
             "outlinewidth": 0,
             "ticks": ""
            },
            "colorscale": [
             [
              0,
              "#0d0887"
             ],
             [
              0.1111111111111111,
              "#46039f"
             ],
             [
              0.2222222222222222,
              "#7201a8"
             ],
             [
              0.3333333333333333,
              "#9c179e"
             ],
             [
              0.4444444444444444,
              "#bd3786"
             ],
             [
              0.5555555555555556,
              "#d8576b"
             ],
             [
              0.6666666666666666,
              "#ed7953"
             ],
             [
              0.7777777777777778,
              "#fb9f3a"
             ],
             [
              0.8888888888888888,
              "#fdca26"
             ],
             [
              1,
              "#f0f921"
             ]
            ],
            "type": "contour"
           }
          ],
          "contourcarpet": [
           {
            "colorbar": {
             "outlinewidth": 0,
             "ticks": ""
            },
            "type": "contourcarpet"
           }
          ],
          "heatmap": [
           {
            "colorbar": {
             "outlinewidth": 0,
             "ticks": ""
            },
            "colorscale": [
             [
              0,
              "#0d0887"
             ],
             [
              0.1111111111111111,
              "#46039f"
             ],
             [
              0.2222222222222222,
              "#7201a8"
             ],
             [
              0.3333333333333333,
              "#9c179e"
             ],
             [
              0.4444444444444444,
              "#bd3786"
             ],
             [
              0.5555555555555556,
              "#d8576b"
             ],
             [
              0.6666666666666666,
              "#ed7953"
             ],
             [
              0.7777777777777778,
              "#fb9f3a"
             ],
             [
              0.8888888888888888,
              "#fdca26"
             ],
             [
              1,
              "#f0f921"
             ]
            ],
            "type": "heatmap"
           }
          ],
          "heatmapgl": [
           {
            "colorbar": {
             "outlinewidth": 0,
             "ticks": ""
            },
            "colorscale": [
             [
              0,
              "#0d0887"
             ],
             [
              0.1111111111111111,
              "#46039f"
             ],
             [
              0.2222222222222222,
              "#7201a8"
             ],
             [
              0.3333333333333333,
              "#9c179e"
             ],
             [
              0.4444444444444444,
              "#bd3786"
             ],
             [
              0.5555555555555556,
              "#d8576b"
             ],
             [
              0.6666666666666666,
              "#ed7953"
             ],
             [
              0.7777777777777778,
              "#fb9f3a"
             ],
             [
              0.8888888888888888,
              "#fdca26"
             ],
             [
              1,
              "#f0f921"
             ]
            ],
            "type": "heatmapgl"
           }
          ],
          "histogram": [
           {
            "marker": {
             "pattern": {
              "fillmode": "overlay",
              "size": 10,
              "solidity": 0.2
             }
            },
            "type": "histogram"
           }
          ],
          "histogram2d": [
           {
            "colorbar": {
             "outlinewidth": 0,
             "ticks": ""
            },
            "colorscale": [
             [
              0,
              "#0d0887"
             ],
             [
              0.1111111111111111,
              "#46039f"
             ],
             [
              0.2222222222222222,
              "#7201a8"
             ],
             [
              0.3333333333333333,
              "#9c179e"
             ],
             [
              0.4444444444444444,
              "#bd3786"
             ],
             [
              0.5555555555555556,
              "#d8576b"
             ],
             [
              0.6666666666666666,
              "#ed7953"
             ],
             [
              0.7777777777777778,
              "#fb9f3a"
             ],
             [
              0.8888888888888888,
              "#fdca26"
             ],
             [
              1,
              "#f0f921"
             ]
            ],
            "type": "histogram2d"
           }
          ],
          "histogram2dcontour": [
           {
            "colorbar": {
             "outlinewidth": 0,
             "ticks": ""
            },
            "colorscale": [
             [
              0,
              "#0d0887"
             ],
             [
              0.1111111111111111,
              "#46039f"
             ],
             [
              0.2222222222222222,
              "#7201a8"
             ],
             [
              0.3333333333333333,
              "#9c179e"
             ],
             [
              0.4444444444444444,
              "#bd3786"
             ],
             [
              0.5555555555555556,
              "#d8576b"
             ],
             [
              0.6666666666666666,
              "#ed7953"
             ],
             [
              0.7777777777777778,
              "#fb9f3a"
             ],
             [
              0.8888888888888888,
              "#fdca26"
             ],
             [
              1,
              "#f0f921"
             ]
            ],
            "type": "histogram2dcontour"
           }
          ],
          "mesh3d": [
           {
            "colorbar": {
             "outlinewidth": 0,
             "ticks": ""
            },
            "type": "mesh3d"
           }
          ],
          "parcoords": [
           {
            "line": {
             "colorbar": {
              "outlinewidth": 0,
              "ticks": ""
             }
            },
            "type": "parcoords"
           }
          ],
          "pie": [
           {
            "automargin": true,
            "type": "pie"
           }
          ],
          "scatter": [
           {
            "fillpattern": {
             "fillmode": "overlay",
             "size": 10,
             "solidity": 0.2
            },
            "type": "scatter"
           }
          ],
          "scatter3d": [
           {
            "line": {
             "colorbar": {
              "outlinewidth": 0,
              "ticks": ""
             }
            },
            "marker": {
             "colorbar": {
              "outlinewidth": 0,
              "ticks": ""
             }
            },
            "type": "scatter3d"
           }
          ],
          "scattercarpet": [
           {
            "marker": {
             "colorbar": {
              "outlinewidth": 0,
              "ticks": ""
             }
            },
            "type": "scattercarpet"
           }
          ],
          "scattergeo": [
           {
            "marker": {
             "colorbar": {
              "outlinewidth": 0,
              "ticks": ""
             }
            },
            "type": "scattergeo"
           }
          ],
          "scattergl": [
           {
            "marker": {
             "colorbar": {
              "outlinewidth": 0,
              "ticks": ""
             }
            },
            "type": "scattergl"
           }
          ],
          "scattermapbox": [
           {
            "marker": {
             "colorbar": {
              "outlinewidth": 0,
              "ticks": ""
             }
            },
            "type": "scattermapbox"
           }
          ],
          "scatterpolar": [
           {
            "marker": {
             "colorbar": {
              "outlinewidth": 0,
              "ticks": ""
             }
            },
            "type": "scatterpolar"
           }
          ],
          "scatterpolargl": [
           {
            "marker": {
             "colorbar": {
              "outlinewidth": 0,
              "ticks": ""
             }
            },
            "type": "scatterpolargl"
           }
          ],
          "scatterternary": [
           {
            "marker": {
             "colorbar": {
              "outlinewidth": 0,
              "ticks": ""
             }
            },
            "type": "scatterternary"
           }
          ],
          "surface": [
           {
            "colorbar": {
             "outlinewidth": 0,
             "ticks": ""
            },
            "colorscale": [
             [
              0,
              "#0d0887"
             ],
             [
              0.1111111111111111,
              "#46039f"
             ],
             [
              0.2222222222222222,
              "#7201a8"
             ],
             [
              0.3333333333333333,
              "#9c179e"
             ],
             [
              0.4444444444444444,
              "#bd3786"
             ],
             [
              0.5555555555555556,
              "#d8576b"
             ],
             [
              0.6666666666666666,
              "#ed7953"
             ],
             [
              0.7777777777777778,
              "#fb9f3a"
             ],
             [
              0.8888888888888888,
              "#fdca26"
             ],
             [
              1,
              "#f0f921"
             ]
            ],
            "type": "surface"
           }
          ],
          "table": [
           {
            "cells": {
             "fill": {
              "color": "#EBF0F8"
             },
             "line": {
              "color": "white"
             }
            },
            "header": {
             "fill": {
              "color": "#C8D4E3"
             },
             "line": {
              "color": "white"
             }
            },
            "type": "table"
           }
          ]
         },
         "layout": {
          "annotationdefaults": {
           "arrowcolor": "#2a3f5f",
           "arrowhead": 0,
           "arrowwidth": 1
          },
          "autotypenumbers": "strict",
          "coloraxis": {
           "colorbar": {
            "outlinewidth": 0,
            "ticks": ""
           }
          },
          "colorscale": {
           "diverging": [
            [
             0,
             "#8e0152"
            ],
            [
             0.1,
             "#c51b7d"
            ],
            [
             0.2,
             "#de77ae"
            ],
            [
             0.3,
             "#f1b6da"
            ],
            [
             0.4,
             "#fde0ef"
            ],
            [
             0.5,
             "#f7f7f7"
            ],
            [
             0.6,
             "#e6f5d0"
            ],
            [
             0.7,
             "#b8e186"
            ],
            [
             0.8,
             "#7fbc41"
            ],
            [
             0.9,
             "#4d9221"
            ],
            [
             1,
             "#276419"
            ]
           ],
           "sequential": [
            [
             0,
             "#0d0887"
            ],
            [
             0.1111111111111111,
             "#46039f"
            ],
            [
             0.2222222222222222,
             "#7201a8"
            ],
            [
             0.3333333333333333,
             "#9c179e"
            ],
            [
             0.4444444444444444,
             "#bd3786"
            ],
            [
             0.5555555555555556,
             "#d8576b"
            ],
            [
             0.6666666666666666,
             "#ed7953"
            ],
            [
             0.7777777777777778,
             "#fb9f3a"
            ],
            [
             0.8888888888888888,
             "#fdca26"
            ],
            [
             1,
             "#f0f921"
            ]
           ],
           "sequentialminus": [
            [
             0,
             "#0d0887"
            ],
            [
             0.1111111111111111,
             "#46039f"
            ],
            [
             0.2222222222222222,
             "#7201a8"
            ],
            [
             0.3333333333333333,
             "#9c179e"
            ],
            [
             0.4444444444444444,
             "#bd3786"
            ],
            [
             0.5555555555555556,
             "#d8576b"
            ],
            [
             0.6666666666666666,
             "#ed7953"
            ],
            [
             0.7777777777777778,
             "#fb9f3a"
            ],
            [
             0.8888888888888888,
             "#fdca26"
            ],
            [
             1,
             "#f0f921"
            ]
           ]
          },
          "colorway": [
           "#636efa",
           "#EF553B",
           "#00cc96",
           "#ab63fa",
           "#FFA15A",
           "#19d3f3",
           "#FF6692",
           "#B6E880",
           "#FF97FF",
           "#FECB52"
          ],
          "font": {
           "color": "#2a3f5f"
          },
          "geo": {
           "bgcolor": "white",
           "lakecolor": "white",
           "landcolor": "#E5ECF6",
           "showlakes": true,
           "showland": true,
           "subunitcolor": "white"
          },
          "hoverlabel": {
           "align": "left"
          },
          "hovermode": "closest",
          "mapbox": {
           "style": "light"
          },
          "paper_bgcolor": "white",
          "plot_bgcolor": "#E5ECF6",
          "polar": {
           "angularaxis": {
            "gridcolor": "white",
            "linecolor": "white",
            "ticks": ""
           },
           "bgcolor": "#E5ECF6",
           "radialaxis": {
            "gridcolor": "white",
            "linecolor": "white",
            "ticks": ""
           }
          },
          "scene": {
           "xaxis": {
            "backgroundcolor": "#E5ECF6",
            "gridcolor": "white",
            "gridwidth": 2,
            "linecolor": "white",
            "showbackground": true,
            "ticks": "",
            "zerolinecolor": "white"
           },
           "yaxis": {
            "backgroundcolor": "#E5ECF6",
            "gridcolor": "white",
            "gridwidth": 2,
            "linecolor": "white",
            "showbackground": true,
            "ticks": "",
            "zerolinecolor": "white"
           },
           "zaxis": {
            "backgroundcolor": "#E5ECF6",
            "gridcolor": "white",
            "gridwidth": 2,
            "linecolor": "white",
            "showbackground": true,
            "ticks": "",
            "zerolinecolor": "white"
           }
          },
          "shapedefaults": {
           "line": {
            "color": "#2a3f5f"
           }
          },
          "ternary": {
           "aaxis": {
            "gridcolor": "white",
            "linecolor": "white",
            "ticks": ""
           },
           "baxis": {
            "gridcolor": "white",
            "linecolor": "white",
            "ticks": ""
           },
           "bgcolor": "#E5ECF6",
           "caxis": {
            "gridcolor": "white",
            "linecolor": "white",
            "ticks": ""
           }
          },
          "title": {
           "x": 0.05
          },
          "xaxis": {
           "automargin": true,
           "gridcolor": "white",
           "linecolor": "white",
           "ticks": "",
           "title": {
            "standoff": 15
           },
           "zerolinecolor": "white",
           "zerolinewidth": 2
          },
          "yaxis": {
           "automargin": true,
           "gridcolor": "white",
           "linecolor": "white",
           "ticks": "",
           "title": {
            "standoff": 15
           },
           "zerolinecolor": "white",
           "zerolinewidth": 2
          }
         }
        },
        "xaxis": {
         "anchor": "y",
         "domain": [
          0,
          0.7363
         ],
         "title": {
          "text": "rawF1"
         }
        },
        "xaxis2": {
         "anchor": "y2",
         "domain": [
          0.7413,
          1
         ],
         "matches": "x2",
         "showgrid": true,
         "showline": false,
         "showticklabels": false,
         "ticks": ""
        },
        "yaxis": {
         "anchor": "x",
         "domain": [
          0,
          1
         ],
         "title": {
          "text": "eventF1"
         }
        },
        "yaxis2": {
         "anchor": "x2",
         "domain": [
          0,
          1
         ],
         "matches": "y",
         "showgrid": true,
         "showticklabels": false
        }
       }
      }
     },
     "metadata": {},
     "output_type": "display_data"
    }
   ],
   "source": [
    "fig=px.scatter(experimentModels,x='rawF1',y='eventF1',color='test',hover_name='modelId', marginal_y=\"histogram\")\n",
    "fig.add_trace(\n",
    "    go.Scatter(x=experimentModels['rawF1'], y=experimentModels['rawF1'], name=\"identity\", mode='lines',fill=\"toself\")\n",
    ")\n",
    "fig.show()"
   ]
  },
  {
   "cell_type": "code",
   "execution_count": 22,
   "metadata": {},
   "outputs": [
    {
     "data": {
      "application/vnd.plotly.v1+json": {
       "config": {
        "plotlyServerURL": "https://plot.ly"
       },
       "data": [
        {
         "hovertemplate": "<b>%{hovertext}</b><br><br>test=0001<br>eventF1=%{x}<br>eventPrecision=%{y}<extra></extra>",
         "hovertext": [
          "8b2ea581-6dec-4094-957e-cc1ceb7234c5"
         ],
         "legendgroup": "0001",
         "marker": {
          "color": "#636efa",
          "symbol": "circle"
         },
         "mode": "markers",
         "name": "0001",
         "orientation": "v",
         "showlegend": true,
         "type": "scatter",
         "x": [
          0.69185360094451
         ],
         "xaxis": "x",
         "y": [
          0.9015384615384615
         ],
         "yaxis": "y"
        },
        {
         "alignmentgroup": "True",
         "bingroup": "y",
         "hovertemplate": "test=0001<br>eventPrecision=%{y}<br>count=%{x}<extra></extra>",
         "legendgroup": "0001",
         "marker": {
          "color": "#636efa"
         },
         "name": "0001",
         "offsetgroup": "0001",
         "opacity": 0.5,
         "showlegend": false,
         "type": "histogram",
         "xaxis": "x2",
         "y": [
          0.9015384615384615
         ],
         "yaxis": "y2"
        },
        {
         "hovertemplate": "<b>%{hovertext}</b><br><br>test=0002<br>eventF1=%{x}<br>eventPrecision=%{y}<extra></extra>",
         "hovertext": [
          "80181036-469f-4bcf-95a0-68374649133a"
         ],
         "legendgroup": "0002",
         "marker": {
          "color": "#EF553B",
          "symbol": "circle"
         },
         "mode": "markers",
         "name": "0002",
         "orientation": "v",
         "showlegend": true,
         "type": "scatter",
         "x": [
          0.7955846279640229
         ],
         "xaxis": "x",
         "y": [
          0.7467382962394474
         ],
         "yaxis": "y"
        },
        {
         "alignmentgroup": "True",
         "bingroup": "y",
         "hovertemplate": "test=0002<br>eventPrecision=%{y}<br>count=%{x}<extra></extra>",
         "legendgroup": "0002",
         "marker": {
          "color": "#EF553B"
         },
         "name": "0002",
         "offsetgroup": "0002",
         "opacity": 0.5,
         "showlegend": false,
         "type": "histogram",
         "xaxis": "x2",
         "y": [
          0.7467382962394474
         ],
         "yaxis": "y2"
        },
        {
         "hovertemplate": "<b>%{hovertext}</b><br><br>test=0003<br>eventF1=%{x}<br>eventPrecision=%{y}<extra></extra>",
         "hovertext": [
          "f6cafb09-5e74-4889-a306-e517e28d70fe"
         ],
         "legendgroup": "0003",
         "marker": {
          "color": "#00cc96",
          "symbol": "circle"
         },
         "mode": "markers",
         "name": "0003",
         "orientation": "v",
         "showlegend": true,
         "type": "scatter",
         "x": [
          0.6445783132530121
         ],
         "xaxis": "x",
         "y": [
          0.5661375661375662
         ],
         "yaxis": "y"
        },
        {
         "alignmentgroup": "True",
         "bingroup": "y",
         "hovertemplate": "test=0003<br>eventPrecision=%{y}<br>count=%{x}<extra></extra>",
         "legendgroup": "0003",
         "marker": {
          "color": "#00cc96"
         },
         "name": "0003",
         "offsetgroup": "0003",
         "opacity": 0.5,
         "showlegend": false,
         "type": "histogram",
         "xaxis": "x2",
         "y": [
          0.5661375661375662
         ],
         "yaxis": "y2"
        },
        {
         "hovertemplate": "<b>%{hovertext}</b><br><br>test=0005<br>eventF1=%{x}<br>eventPrecision=%{y}<extra></extra>",
         "hovertext": [
          "2bf1e17a-c8bb-4166-8453-7fdff2414b10"
         ],
         "legendgroup": "0005",
         "marker": {
          "color": "#ab63fa",
          "symbol": "circle"
         },
         "mode": "markers",
         "name": "0005",
         "orientation": "v",
         "showlegend": true,
         "type": "scatter",
         "x": [
          0.6621923937360179
         ],
         "xaxis": "x",
         "y": [
          0.5352622061482821
         ],
         "yaxis": "y"
        },
        {
         "alignmentgroup": "True",
         "bingroup": "y",
         "hovertemplate": "test=0005<br>eventPrecision=%{y}<br>count=%{x}<extra></extra>",
         "legendgroup": "0005",
         "marker": {
          "color": "#ab63fa"
         },
         "name": "0005",
         "offsetgroup": "0005",
         "opacity": 0.5,
         "showlegend": false,
         "type": "histogram",
         "xaxis": "x2",
         "y": [
          0.5352622061482821
         ],
         "yaxis": "y2"
        },
        {
         "hovertemplate": "<b>%{hovertext}</b><br><br>test=0006<br>eventF1=%{x}<br>eventPrecision=%{y}<extra></extra>",
         "hovertext": [
          "0feacbcf-4f37-402e-8fbc-4e48a2520bd4"
         ],
         "legendgroup": "0006",
         "marker": {
          "color": "#FFA15A",
          "symbol": "circle"
         },
         "mode": "markers",
         "name": "0006",
         "orientation": "v",
         "showlegend": true,
         "type": "scatter",
         "x": [
          0.6821192052980133
         ],
         "xaxis": "x",
         "y": [
          0.6776315789473685
         ],
         "yaxis": "y"
        },
        {
         "alignmentgroup": "True",
         "bingroup": "y",
         "hovertemplate": "test=0006<br>eventPrecision=%{y}<br>count=%{x}<extra></extra>",
         "legendgroup": "0006",
         "marker": {
          "color": "#FFA15A"
         },
         "name": "0006",
         "offsetgroup": "0006",
         "opacity": 0.5,
         "showlegend": false,
         "type": "histogram",
         "xaxis": "x2",
         "y": [
          0.6776315789473685
         ],
         "yaxis": "y2"
        },
        {
         "hovertemplate": "<b>%{hovertext}</b><br><br>test=0007<br>eventF1=%{x}<br>eventPrecision=%{y}<extra></extra>",
         "hovertext": [
          "29c70696-0202-4feb-bd78-3579052a4865"
         ],
         "legendgroup": "0007",
         "marker": {
          "color": "#19d3f3",
          "symbol": "circle"
         },
         "mode": "markers",
         "name": "0007",
         "orientation": "v",
         "showlegend": true,
         "type": "scatter",
         "x": [
          0.6472772277227723
         ],
         "xaxis": "x",
         "y": [
          0.5185185185185185
         ],
         "yaxis": "y"
        },
        {
         "alignmentgroup": "True",
         "bingroup": "y",
         "hovertemplate": "test=0007<br>eventPrecision=%{y}<br>count=%{x}<extra></extra>",
         "legendgroup": "0007",
         "marker": {
          "color": "#19d3f3"
         },
         "name": "0007",
         "offsetgroup": "0007",
         "opacity": 0.5,
         "showlegend": false,
         "type": "histogram",
         "xaxis": "x2",
         "y": [
          0.5185185185185185
         ],
         "yaxis": "y2"
        },
        {
         "hovertemplate": "<b>%{hovertext}</b><br><br>test=0009<br>eventF1=%{x}<br>eventPrecision=%{y}<extra></extra>",
         "hovertext": [
          "768cb7b4-e534-49f7-b9c4-acfa7b401ffe"
         ],
         "legendgroup": "0009",
         "marker": {
          "color": "#FF6692",
          "symbol": "circle"
         },
         "mode": "markers",
         "name": "0009",
         "orientation": "v",
         "showlegend": true,
         "type": "scatter",
         "x": [
          0.7760898282694848
         ],
         "xaxis": "x",
         "y": [
          0.84
         ],
         "yaxis": "y"
        },
        {
         "alignmentgroup": "True",
         "bingroup": "y",
         "hovertemplate": "test=0009<br>eventPrecision=%{y}<br>count=%{x}<extra></extra>",
         "legendgroup": "0009",
         "marker": {
          "color": "#FF6692"
         },
         "name": "0009",
         "offsetgroup": "0009",
         "opacity": 0.5,
         "showlegend": false,
         "type": "histogram",
         "xaxis": "x2",
         "y": [
          0.84
         ],
         "yaxis": "y2"
        },
        {
         "hovertemplate": "<b>%{hovertext}</b><br><br>test=0010<br>eventF1=%{x}<br>eventPrecision=%{y}<extra></extra>",
         "hovertext": [
          "e3d50ec6-a2f8-45fc-88f9-9af0621c2050"
         ],
         "legendgroup": "0010",
         "marker": {
          "color": "#B6E880",
          "symbol": "circle"
         },
         "mode": "markers",
         "name": "0010",
         "orientation": "v",
         "showlegend": true,
         "type": "scatter",
         "x": [
          0.7725980670835703
         ],
         "xaxis": "x",
         "y": [
          0.7043568464730291
         ],
         "yaxis": "y"
        },
        {
         "alignmentgroup": "True",
         "bingroup": "y",
         "hovertemplate": "test=0010<br>eventPrecision=%{y}<br>count=%{x}<extra></extra>",
         "legendgroup": "0010",
         "marker": {
          "color": "#B6E880"
         },
         "name": "0010",
         "offsetgroup": "0010",
         "opacity": 0.5,
         "showlegend": false,
         "type": "histogram",
         "xaxis": "x2",
         "y": [
          0.7043568464730291
         ],
         "yaxis": "y2"
        },
        {
         "hovertemplate": "<b>%{hovertext}</b><br><br>test=0011<br>eventF1=%{x}<br>eventPrecision=%{y}<extra></extra>",
         "hovertext": [
          "d539204f-ac49-4811-9ed0-9b39bc65c8f3"
         ],
         "legendgroup": "0011",
         "marker": {
          "color": "#FF97FF",
          "symbol": "circle"
         },
         "mode": "markers",
         "name": "0011",
         "orientation": "v",
         "showlegend": true,
         "type": "scatter",
         "x": [
          0.6819535437760572
         ],
         "xaxis": "x",
         "y": [
          0.5340167753960857
         ],
         "yaxis": "y"
        },
        {
         "alignmentgroup": "True",
         "bingroup": "y",
         "hovertemplate": "test=0011<br>eventPrecision=%{y}<br>count=%{x}<extra></extra>",
         "legendgroup": "0011",
         "marker": {
          "color": "#FF97FF"
         },
         "name": "0011",
         "offsetgroup": "0011",
         "opacity": 0.5,
         "showlegend": false,
         "type": "histogram",
         "xaxis": "x2",
         "y": [
          0.5340167753960857
         ],
         "yaxis": "y2"
        },
        {
         "hovertemplate": "<b>%{hovertext}</b><br><br>test=0012<br>eventF1=%{x}<br>eventPrecision=%{y}<extra></extra>",
         "hovertext": [
          "1fe9ebda-f8d4-46a7-8ec3-1c1477a12af6"
         ],
         "legendgroup": "0012",
         "marker": {
          "color": "#FECB52",
          "symbol": "circle"
         },
         "mode": "markers",
         "name": "0012",
         "orientation": "v",
         "showlegend": true,
         "type": "scatter",
         "x": [
          0.7344632768361582
         ],
         "xaxis": "x",
         "y": [
          0.7355021216407355
         ],
         "yaxis": "y"
        },
        {
         "alignmentgroup": "True",
         "bingroup": "y",
         "hovertemplate": "test=0012<br>eventPrecision=%{y}<br>count=%{x}<extra></extra>",
         "legendgroup": "0012",
         "marker": {
          "color": "#FECB52"
         },
         "name": "0012",
         "offsetgroup": "0012",
         "opacity": 0.5,
         "showlegend": false,
         "type": "histogram",
         "xaxis": "x2",
         "y": [
          0.7355021216407355
         ],
         "yaxis": "y2"
        },
        {
         "hovertemplate": "<b>%{hovertext}</b><br><br>test=0013<br>eventF1=%{x}<br>eventPrecision=%{y}<extra></extra>",
         "hovertext": [
          "fef1292a-c2f5-4c3e-96c0-b9ec6f60cb96"
         ],
         "legendgroup": "0013",
         "marker": {
          "color": "#636efa",
          "symbol": "circle"
         },
         "mode": "markers",
         "name": "0013",
         "orientation": "v",
         "showlegend": true,
         "type": "scatter",
         "x": [
          0.6756756756756757
         ],
         "xaxis": "x",
         "y": [
          0.5233570863024545
         ],
         "yaxis": "y"
        },
        {
         "alignmentgroup": "True",
         "bingroup": "y",
         "hovertemplate": "test=0013<br>eventPrecision=%{y}<br>count=%{x}<extra></extra>",
         "legendgroup": "0013",
         "marker": {
          "color": "#636efa"
         },
         "name": "0013",
         "offsetgroup": "0013",
         "opacity": 0.5,
         "showlegend": false,
         "type": "histogram",
         "xaxis": "x2",
         "y": [
          0.5233570863024545
         ],
         "yaxis": "y2"
        },
        {
         "hovertemplate": "<b>%{hovertext}</b><br><br>test=0014<br>eventF1=%{x}<br>eventPrecision=%{y}<extra></extra>",
         "hovertext": [
          "17643ba4-cb3b-4cd8-818b-406abeab9cb3"
         ],
         "legendgroup": "0014",
         "marker": {
          "color": "#EF553B",
          "symbol": "circle"
         },
         "mode": "markers",
         "name": "0014",
         "orientation": "v",
         "showlegend": true,
         "type": "scatter",
         "x": [
          0.6047326906222612
         ],
         "xaxis": "x",
         "y": [
          0.4369426751592357
         ],
         "yaxis": "y"
        },
        {
         "alignmentgroup": "True",
         "bingroup": "y",
         "hovertemplate": "test=0014<br>eventPrecision=%{y}<br>count=%{x}<extra></extra>",
         "legendgroup": "0014",
         "marker": {
          "color": "#EF553B"
         },
         "name": "0014",
         "offsetgroup": "0014",
         "opacity": 0.5,
         "showlegend": false,
         "type": "histogram",
         "xaxis": "x2",
         "y": [
          0.4369426751592357
         ],
         "yaxis": "y2"
        },
        {
         "hovertemplate": "<b>%{hovertext}</b><br><br>test=0017<br>eventF1=%{x}<br>eventPrecision=%{y}<extra></extra>",
         "hovertext": [
          "deda4266-2cea-44e1-93d6-21d866332ca0"
         ],
         "legendgroup": "0017",
         "marker": {
          "color": "#00cc96",
          "symbol": "circle"
         },
         "mode": "markers",
         "name": "0017",
         "orientation": "v",
         "showlegend": true,
         "type": "scatter",
         "x": [
          0.7417061611374408
         ],
         "xaxis": "x",
         "y": [
          0.8342245989304813
         ],
         "yaxis": "y"
        },
        {
         "alignmentgroup": "True",
         "bingroup": "y",
         "hovertemplate": "test=0017<br>eventPrecision=%{y}<br>count=%{x}<extra></extra>",
         "legendgroup": "0017",
         "marker": {
          "color": "#00cc96"
         },
         "name": "0017",
         "offsetgroup": "0017",
         "opacity": 0.5,
         "showlegend": false,
         "type": "histogram",
         "xaxis": "x2",
         "y": [
          0.8342245989304813
         ],
         "yaxis": "y2"
        },
        {
         "hovertemplate": "<b>%{hovertext}</b><br><br>test=0018<br>eventF1=%{x}<br>eventPrecision=%{y}<extra></extra>",
         "hovertext": [
          "60d7b18b-ed9c-40bb-98ce-5193ad5abe70"
         ],
         "legendgroup": "0018",
         "marker": {
          "color": "#ab63fa",
          "symbol": "circle"
         },
         "mode": "markers",
         "name": "0018",
         "orientation": "v",
         "showlegend": true,
         "type": "scatter",
         "x": [
          0.7473583093179635
         ],
         "xaxis": "x",
         "y": [
          0.8474945533769063
         ],
         "yaxis": "y"
        },
        {
         "alignmentgroup": "True",
         "bingroup": "y",
         "hovertemplate": "test=0018<br>eventPrecision=%{y}<br>count=%{x}<extra></extra>",
         "legendgroup": "0018",
         "marker": {
          "color": "#ab63fa"
         },
         "name": "0018",
         "offsetgroup": "0018",
         "opacity": 0.5,
         "showlegend": false,
         "type": "histogram",
         "xaxis": "x2",
         "y": [
          0.8474945533769063
         ],
         "yaxis": "y2"
        },
        {
         "hovertemplate": "<b>%{hovertext}</b><br><br>test=0019<br>eventF1=%{x}<br>eventPrecision=%{y}<extra></extra>",
         "hovertext": [
          "c8a28ce7-7f69-4a97-bfe2-229b91334659"
         ],
         "legendgroup": "0019",
         "marker": {
          "color": "#FFA15A",
          "symbol": "circle"
         },
         "mode": "markers",
         "name": "0019",
         "orientation": "v",
         "showlegend": true,
         "type": "scatter",
         "x": [
          0.5698630136986301
         ],
         "xaxis": "x",
         "y": [
          0.4
         ],
         "yaxis": "y"
        },
        {
         "alignmentgroup": "True",
         "bingroup": "y",
         "hovertemplate": "test=0019<br>eventPrecision=%{y}<br>count=%{x}<extra></extra>",
         "legendgroup": "0019",
         "marker": {
          "color": "#FFA15A"
         },
         "name": "0019",
         "offsetgroup": "0019",
         "opacity": 0.5,
         "showlegend": false,
         "type": "histogram",
         "xaxis": "x2",
         "y": [
          0.4
         ],
         "yaxis": "y2"
        },
        {
         "fill": "toself",
         "mode": "lines",
         "name": "identity",
         "type": "scatter",
         "x": [
          0.69185360094451,
          0.7955846279640229,
          0.6445783132530121,
          0.6621923937360179,
          0.6821192052980133,
          0.6472772277227723,
          0.7760898282694848,
          0.7725980670835703,
          0.6819535437760572,
          0.7344632768361582,
          0.6756756756756757,
          0.6047326906222612,
          0.7417061611374408,
          0.7473583093179635,
          0.5698630136986301
         ],
         "y": [
          0.69185360094451,
          0.7955846279640229,
          0.6445783132530121,
          0.6621923937360179,
          0.6821192052980133,
          0.6472772277227723,
          0.7760898282694848,
          0.7725980670835703,
          0.6819535437760572,
          0.7344632768361582,
          0.6756756756756757,
          0.6047326906222612,
          0.7417061611374408,
          0.7473583093179635,
          0.5698630136986301
         ]
        }
       ],
       "layout": {
        "barmode": "overlay",
        "legend": {
         "title": {
          "text": "test"
         },
         "tracegroupgap": 0
        },
        "margin": {
         "t": 60
        },
        "template": {
         "data": {
          "bar": [
           {
            "error_x": {
             "color": "#2a3f5f"
            },
            "error_y": {
             "color": "#2a3f5f"
            },
            "marker": {
             "line": {
              "color": "#E5ECF6",
              "width": 0.5
             },
             "pattern": {
              "fillmode": "overlay",
              "size": 10,
              "solidity": 0.2
             }
            },
            "type": "bar"
           }
          ],
          "barpolar": [
           {
            "marker": {
             "line": {
              "color": "#E5ECF6",
              "width": 0.5
             },
             "pattern": {
              "fillmode": "overlay",
              "size": 10,
              "solidity": 0.2
             }
            },
            "type": "barpolar"
           }
          ],
          "carpet": [
           {
            "aaxis": {
             "endlinecolor": "#2a3f5f",
             "gridcolor": "white",
             "linecolor": "white",
             "minorgridcolor": "white",
             "startlinecolor": "#2a3f5f"
            },
            "baxis": {
             "endlinecolor": "#2a3f5f",
             "gridcolor": "white",
             "linecolor": "white",
             "minorgridcolor": "white",
             "startlinecolor": "#2a3f5f"
            },
            "type": "carpet"
           }
          ],
          "choropleth": [
           {
            "colorbar": {
             "outlinewidth": 0,
             "ticks": ""
            },
            "type": "choropleth"
           }
          ],
          "contour": [
           {
            "colorbar": {
             "outlinewidth": 0,
             "ticks": ""
            },
            "colorscale": [
             [
              0,
              "#0d0887"
             ],
             [
              0.1111111111111111,
              "#46039f"
             ],
             [
              0.2222222222222222,
              "#7201a8"
             ],
             [
              0.3333333333333333,
              "#9c179e"
             ],
             [
              0.4444444444444444,
              "#bd3786"
             ],
             [
              0.5555555555555556,
              "#d8576b"
             ],
             [
              0.6666666666666666,
              "#ed7953"
             ],
             [
              0.7777777777777778,
              "#fb9f3a"
             ],
             [
              0.8888888888888888,
              "#fdca26"
             ],
             [
              1,
              "#f0f921"
             ]
            ],
            "type": "contour"
           }
          ],
          "contourcarpet": [
           {
            "colorbar": {
             "outlinewidth": 0,
             "ticks": ""
            },
            "type": "contourcarpet"
           }
          ],
          "heatmap": [
           {
            "colorbar": {
             "outlinewidth": 0,
             "ticks": ""
            },
            "colorscale": [
             [
              0,
              "#0d0887"
             ],
             [
              0.1111111111111111,
              "#46039f"
             ],
             [
              0.2222222222222222,
              "#7201a8"
             ],
             [
              0.3333333333333333,
              "#9c179e"
             ],
             [
              0.4444444444444444,
              "#bd3786"
             ],
             [
              0.5555555555555556,
              "#d8576b"
             ],
             [
              0.6666666666666666,
              "#ed7953"
             ],
             [
              0.7777777777777778,
              "#fb9f3a"
             ],
             [
              0.8888888888888888,
              "#fdca26"
             ],
             [
              1,
              "#f0f921"
             ]
            ],
            "type": "heatmap"
           }
          ],
          "heatmapgl": [
           {
            "colorbar": {
             "outlinewidth": 0,
             "ticks": ""
            },
            "colorscale": [
             [
              0,
              "#0d0887"
             ],
             [
              0.1111111111111111,
              "#46039f"
             ],
             [
              0.2222222222222222,
              "#7201a8"
             ],
             [
              0.3333333333333333,
              "#9c179e"
             ],
             [
              0.4444444444444444,
              "#bd3786"
             ],
             [
              0.5555555555555556,
              "#d8576b"
             ],
             [
              0.6666666666666666,
              "#ed7953"
             ],
             [
              0.7777777777777778,
              "#fb9f3a"
             ],
             [
              0.8888888888888888,
              "#fdca26"
             ],
             [
              1,
              "#f0f921"
             ]
            ],
            "type": "heatmapgl"
           }
          ],
          "histogram": [
           {
            "marker": {
             "pattern": {
              "fillmode": "overlay",
              "size": 10,
              "solidity": 0.2
             }
            },
            "type": "histogram"
           }
          ],
          "histogram2d": [
           {
            "colorbar": {
             "outlinewidth": 0,
             "ticks": ""
            },
            "colorscale": [
             [
              0,
              "#0d0887"
             ],
             [
              0.1111111111111111,
              "#46039f"
             ],
             [
              0.2222222222222222,
              "#7201a8"
             ],
             [
              0.3333333333333333,
              "#9c179e"
             ],
             [
              0.4444444444444444,
              "#bd3786"
             ],
             [
              0.5555555555555556,
              "#d8576b"
             ],
             [
              0.6666666666666666,
              "#ed7953"
             ],
             [
              0.7777777777777778,
              "#fb9f3a"
             ],
             [
              0.8888888888888888,
              "#fdca26"
             ],
             [
              1,
              "#f0f921"
             ]
            ],
            "type": "histogram2d"
           }
          ],
          "histogram2dcontour": [
           {
            "colorbar": {
             "outlinewidth": 0,
             "ticks": ""
            },
            "colorscale": [
             [
              0,
              "#0d0887"
             ],
             [
              0.1111111111111111,
              "#46039f"
             ],
             [
              0.2222222222222222,
              "#7201a8"
             ],
             [
              0.3333333333333333,
              "#9c179e"
             ],
             [
              0.4444444444444444,
              "#bd3786"
             ],
             [
              0.5555555555555556,
              "#d8576b"
             ],
             [
              0.6666666666666666,
              "#ed7953"
             ],
             [
              0.7777777777777778,
              "#fb9f3a"
             ],
             [
              0.8888888888888888,
              "#fdca26"
             ],
             [
              1,
              "#f0f921"
             ]
            ],
            "type": "histogram2dcontour"
           }
          ],
          "mesh3d": [
           {
            "colorbar": {
             "outlinewidth": 0,
             "ticks": ""
            },
            "type": "mesh3d"
           }
          ],
          "parcoords": [
           {
            "line": {
             "colorbar": {
              "outlinewidth": 0,
              "ticks": ""
             }
            },
            "type": "parcoords"
           }
          ],
          "pie": [
           {
            "automargin": true,
            "type": "pie"
           }
          ],
          "scatter": [
           {
            "fillpattern": {
             "fillmode": "overlay",
             "size": 10,
             "solidity": 0.2
            },
            "type": "scatter"
           }
          ],
          "scatter3d": [
           {
            "line": {
             "colorbar": {
              "outlinewidth": 0,
              "ticks": ""
             }
            },
            "marker": {
             "colorbar": {
              "outlinewidth": 0,
              "ticks": ""
             }
            },
            "type": "scatter3d"
           }
          ],
          "scattercarpet": [
           {
            "marker": {
             "colorbar": {
              "outlinewidth": 0,
              "ticks": ""
             }
            },
            "type": "scattercarpet"
           }
          ],
          "scattergeo": [
           {
            "marker": {
             "colorbar": {
              "outlinewidth": 0,
              "ticks": ""
             }
            },
            "type": "scattergeo"
           }
          ],
          "scattergl": [
           {
            "marker": {
             "colorbar": {
              "outlinewidth": 0,
              "ticks": ""
             }
            },
            "type": "scattergl"
           }
          ],
          "scattermapbox": [
           {
            "marker": {
             "colorbar": {
              "outlinewidth": 0,
              "ticks": ""
             }
            },
            "type": "scattermapbox"
           }
          ],
          "scatterpolar": [
           {
            "marker": {
             "colorbar": {
              "outlinewidth": 0,
              "ticks": ""
             }
            },
            "type": "scatterpolar"
           }
          ],
          "scatterpolargl": [
           {
            "marker": {
             "colorbar": {
              "outlinewidth": 0,
              "ticks": ""
             }
            },
            "type": "scatterpolargl"
           }
          ],
          "scatterternary": [
           {
            "marker": {
             "colorbar": {
              "outlinewidth": 0,
              "ticks": ""
             }
            },
            "type": "scatterternary"
           }
          ],
          "surface": [
           {
            "colorbar": {
             "outlinewidth": 0,
             "ticks": ""
            },
            "colorscale": [
             [
              0,
              "#0d0887"
             ],
             [
              0.1111111111111111,
              "#46039f"
             ],
             [
              0.2222222222222222,
              "#7201a8"
             ],
             [
              0.3333333333333333,
              "#9c179e"
             ],
             [
              0.4444444444444444,
              "#bd3786"
             ],
             [
              0.5555555555555556,
              "#d8576b"
             ],
             [
              0.6666666666666666,
              "#ed7953"
             ],
             [
              0.7777777777777778,
              "#fb9f3a"
             ],
             [
              0.8888888888888888,
              "#fdca26"
             ],
             [
              1,
              "#f0f921"
             ]
            ],
            "type": "surface"
           }
          ],
          "table": [
           {
            "cells": {
             "fill": {
              "color": "#EBF0F8"
             },
             "line": {
              "color": "white"
             }
            },
            "header": {
             "fill": {
              "color": "#C8D4E3"
             },
             "line": {
              "color": "white"
             }
            },
            "type": "table"
           }
          ]
         },
         "layout": {
          "annotationdefaults": {
           "arrowcolor": "#2a3f5f",
           "arrowhead": 0,
           "arrowwidth": 1
          },
          "autotypenumbers": "strict",
          "coloraxis": {
           "colorbar": {
            "outlinewidth": 0,
            "ticks": ""
           }
          },
          "colorscale": {
           "diverging": [
            [
             0,
             "#8e0152"
            ],
            [
             0.1,
             "#c51b7d"
            ],
            [
             0.2,
             "#de77ae"
            ],
            [
             0.3,
             "#f1b6da"
            ],
            [
             0.4,
             "#fde0ef"
            ],
            [
             0.5,
             "#f7f7f7"
            ],
            [
             0.6,
             "#e6f5d0"
            ],
            [
             0.7,
             "#b8e186"
            ],
            [
             0.8,
             "#7fbc41"
            ],
            [
             0.9,
             "#4d9221"
            ],
            [
             1,
             "#276419"
            ]
           ],
           "sequential": [
            [
             0,
             "#0d0887"
            ],
            [
             0.1111111111111111,
             "#46039f"
            ],
            [
             0.2222222222222222,
             "#7201a8"
            ],
            [
             0.3333333333333333,
             "#9c179e"
            ],
            [
             0.4444444444444444,
             "#bd3786"
            ],
            [
             0.5555555555555556,
             "#d8576b"
            ],
            [
             0.6666666666666666,
             "#ed7953"
            ],
            [
             0.7777777777777778,
             "#fb9f3a"
            ],
            [
             0.8888888888888888,
             "#fdca26"
            ],
            [
             1,
             "#f0f921"
            ]
           ],
           "sequentialminus": [
            [
             0,
             "#0d0887"
            ],
            [
             0.1111111111111111,
             "#46039f"
            ],
            [
             0.2222222222222222,
             "#7201a8"
            ],
            [
             0.3333333333333333,
             "#9c179e"
            ],
            [
             0.4444444444444444,
             "#bd3786"
            ],
            [
             0.5555555555555556,
             "#d8576b"
            ],
            [
             0.6666666666666666,
             "#ed7953"
            ],
            [
             0.7777777777777778,
             "#fb9f3a"
            ],
            [
             0.8888888888888888,
             "#fdca26"
            ],
            [
             1,
             "#f0f921"
            ]
           ]
          },
          "colorway": [
           "#636efa",
           "#EF553B",
           "#00cc96",
           "#ab63fa",
           "#FFA15A",
           "#19d3f3",
           "#FF6692",
           "#B6E880",
           "#FF97FF",
           "#FECB52"
          ],
          "font": {
           "color": "#2a3f5f"
          },
          "geo": {
           "bgcolor": "white",
           "lakecolor": "white",
           "landcolor": "#E5ECF6",
           "showlakes": true,
           "showland": true,
           "subunitcolor": "white"
          },
          "hoverlabel": {
           "align": "left"
          },
          "hovermode": "closest",
          "mapbox": {
           "style": "light"
          },
          "paper_bgcolor": "white",
          "plot_bgcolor": "#E5ECF6",
          "polar": {
           "angularaxis": {
            "gridcolor": "white",
            "linecolor": "white",
            "ticks": ""
           },
           "bgcolor": "#E5ECF6",
           "radialaxis": {
            "gridcolor": "white",
            "linecolor": "white",
            "ticks": ""
           }
          },
          "scene": {
           "xaxis": {
            "backgroundcolor": "#E5ECF6",
            "gridcolor": "white",
            "gridwidth": 2,
            "linecolor": "white",
            "showbackground": true,
            "ticks": "",
            "zerolinecolor": "white"
           },
           "yaxis": {
            "backgroundcolor": "#E5ECF6",
            "gridcolor": "white",
            "gridwidth": 2,
            "linecolor": "white",
            "showbackground": true,
            "ticks": "",
            "zerolinecolor": "white"
           },
           "zaxis": {
            "backgroundcolor": "#E5ECF6",
            "gridcolor": "white",
            "gridwidth": 2,
            "linecolor": "white",
            "showbackground": true,
            "ticks": "",
            "zerolinecolor": "white"
           }
          },
          "shapedefaults": {
           "line": {
            "color": "#2a3f5f"
           }
          },
          "ternary": {
           "aaxis": {
            "gridcolor": "white",
            "linecolor": "white",
            "ticks": ""
           },
           "baxis": {
            "gridcolor": "white",
            "linecolor": "white",
            "ticks": ""
           },
           "bgcolor": "#E5ECF6",
           "caxis": {
            "gridcolor": "white",
            "linecolor": "white",
            "ticks": ""
           }
          },
          "title": {
           "x": 0.05
          },
          "xaxis": {
           "automargin": true,
           "gridcolor": "white",
           "linecolor": "white",
           "ticks": "",
           "title": {
            "standoff": 15
           },
           "zerolinecolor": "white",
           "zerolinewidth": 2
          },
          "yaxis": {
           "automargin": true,
           "gridcolor": "white",
           "linecolor": "white",
           "ticks": "",
           "title": {
            "standoff": 15
           },
           "zerolinecolor": "white",
           "zerolinewidth": 2
          }
         }
        },
        "xaxis": {
         "anchor": "y",
         "domain": [
          0,
          0.7363
         ],
         "title": {
          "text": "eventF1"
         }
        },
        "xaxis2": {
         "anchor": "y2",
         "domain": [
          0.7413,
          1
         ],
         "matches": "x2",
         "showgrid": true,
         "showline": false,
         "showticklabels": false,
         "ticks": ""
        },
        "yaxis": {
         "anchor": "x",
         "domain": [
          0,
          1
         ],
         "title": {
          "text": "eventPrecision"
         }
        },
        "yaxis2": {
         "anchor": "x2",
         "domain": [
          0,
          1
         ],
         "matches": "y",
         "showgrid": true,
         "showticklabels": false
        }
       }
      }
     },
     "metadata": {},
     "output_type": "display_data"
    }
   ],
   "source": [
    "fig=px.scatter(experimentModels,x='eventF1',y='eventPrecision',color='test',hover_name='modelId', marginal_y=\"histogram\")\n",
    "fig.add_trace(\n",
    "    go.Scatter(x=experimentModels['eventF1'], y=experimentModels['eventF1'], name=\"identity\", mode='lines',fill=\"toself\")\n",
    ")\n",
    "fig.show()"
   ]
  },
  {
   "cell_type": "code",
   "execution_count": 23,
   "metadata": {},
   "outputs": [
    {
     "data": {
      "application/vnd.plotly.v1+json": {
       "config": {
        "plotlyServerURL": "https://plot.ly"
       },
       "data": [
        {
         "hovertemplate": "<b>%{hovertext}</b><br><br>test=0001<br>eventF1=%{x}<br>eventRecall=%{y}<extra></extra>",
         "hovertext": [
          "8b2ea581-6dec-4094-957e-cc1ceb7234c5"
         ],
         "legendgroup": "0001",
         "marker": {
          "color": "#636efa",
          "symbol": "circle"
         },
         "mode": "markers",
         "name": "0001",
         "orientation": "v",
         "showlegend": true,
         "type": "scatter",
         "x": [
          0.69185360094451
         ],
         "xaxis": "x",
         "y": [
          0.5613026819923371
         ],
         "yaxis": "y"
        },
        {
         "alignmentgroup": "True",
         "bingroup": "y",
         "hovertemplate": "test=0001<br>eventRecall=%{y}<br>count=%{x}<extra></extra>",
         "legendgroup": "0001",
         "marker": {
          "color": "#636efa"
         },
         "name": "0001",
         "offsetgroup": "0001",
         "opacity": 0.5,
         "showlegend": false,
         "type": "histogram",
         "xaxis": "x2",
         "y": [
          0.5613026819923371
         ],
         "yaxis": "y2"
        },
        {
         "hovertemplate": "<b>%{hovertext}</b><br><br>test=0002<br>eventF1=%{x}<br>eventRecall=%{y}<extra></extra>",
         "hovertext": [
          "80181036-469f-4bcf-95a0-68374649133a"
         ],
         "legendgroup": "0002",
         "marker": {
          "color": "#EF553B",
          "symbol": "circle"
         },
         "mode": "markers",
         "name": "0002",
         "orientation": "v",
         "showlegend": true,
         "type": "scatter",
         "x": [
          0.7955846279640229
         ],
         "xaxis": "x",
         "y": [
          0.8512685914260717
         ],
         "yaxis": "y"
        },
        {
         "alignmentgroup": "True",
         "bingroup": "y",
         "hovertemplate": "test=0002<br>eventRecall=%{y}<br>count=%{x}<extra></extra>",
         "legendgroup": "0002",
         "marker": {
          "color": "#EF553B"
         },
         "name": "0002",
         "offsetgroup": "0002",
         "opacity": 0.5,
         "showlegend": false,
         "type": "histogram",
         "xaxis": "x2",
         "y": [
          0.8512685914260717
         ],
         "yaxis": "y2"
        },
        {
         "hovertemplate": "<b>%{hovertext}</b><br><br>test=0003<br>eventF1=%{x}<br>eventRecall=%{y}<extra></extra>",
         "hovertext": [
          "f6cafb09-5e74-4889-a306-e517e28d70fe"
         ],
         "legendgroup": "0003",
         "marker": {
          "color": "#00cc96",
          "symbol": "circle"
         },
         "mode": "markers",
         "name": "0003",
         "orientation": "v",
         "showlegend": true,
         "type": "scatter",
         "x": [
          0.6445783132530121
         ],
         "xaxis": "x",
         "y": [
          0.7482517482517482
         ],
         "yaxis": "y"
        },
        {
         "alignmentgroup": "True",
         "bingroup": "y",
         "hovertemplate": "test=0003<br>eventRecall=%{y}<br>count=%{x}<extra></extra>",
         "legendgroup": "0003",
         "marker": {
          "color": "#00cc96"
         },
         "name": "0003",
         "offsetgroup": "0003",
         "opacity": 0.5,
         "showlegend": false,
         "type": "histogram",
         "xaxis": "x2",
         "y": [
          0.7482517482517482
         ],
         "yaxis": "y2"
        },
        {
         "hovertemplate": "<b>%{hovertext}</b><br><br>test=0005<br>eventF1=%{x}<br>eventRecall=%{y}<extra></extra>",
         "hovertext": [
          "2bf1e17a-c8bb-4166-8453-7fdff2414b10"
         ],
         "legendgroup": "0005",
         "marker": {
          "color": "#ab63fa",
          "symbol": "circle"
         },
         "mode": "markers",
         "name": "0005",
         "orientation": "v",
         "showlegend": true,
         "type": "scatter",
         "x": [
          0.6621923937360179
         ],
         "xaxis": "x",
         "y": [
          0.8680351906158358
         ],
         "yaxis": "y"
        },
        {
         "alignmentgroup": "True",
         "bingroup": "y",
         "hovertemplate": "test=0005<br>eventRecall=%{y}<br>count=%{x}<extra></extra>",
         "legendgroup": "0005",
         "marker": {
          "color": "#ab63fa"
         },
         "name": "0005",
         "offsetgroup": "0005",
         "opacity": 0.5,
         "showlegend": false,
         "type": "histogram",
         "xaxis": "x2",
         "y": [
          0.8680351906158358
         ],
         "yaxis": "y2"
        },
        {
         "hovertemplate": "<b>%{hovertext}</b><br><br>test=0006<br>eventF1=%{x}<br>eventRecall=%{y}<extra></extra>",
         "hovertext": [
          "0feacbcf-4f37-402e-8fbc-4e48a2520bd4"
         ],
         "legendgroup": "0006",
         "marker": {
          "color": "#FFA15A",
          "symbol": "circle"
         },
         "mode": "markers",
         "name": "0006",
         "orientation": "v",
         "showlegend": true,
         "type": "scatter",
         "x": [
          0.6821192052980133
         ],
         "xaxis": "x",
         "y": [
          0.6866666666666666
         ],
         "yaxis": "y"
        },
        {
         "alignmentgroup": "True",
         "bingroup": "y",
         "hovertemplate": "test=0006<br>eventRecall=%{y}<br>count=%{x}<extra></extra>",
         "legendgroup": "0006",
         "marker": {
          "color": "#FFA15A"
         },
         "name": "0006",
         "offsetgroup": "0006",
         "opacity": 0.5,
         "showlegend": false,
         "type": "histogram",
         "xaxis": "x2",
         "y": [
          0.6866666666666666
         ],
         "yaxis": "y2"
        },
        {
         "hovertemplate": "<b>%{hovertext}</b><br><br>test=0007<br>eventF1=%{x}<br>eventRecall=%{y}<extra></extra>",
         "hovertext": [
          "29c70696-0202-4feb-bd78-3579052a4865"
         ],
         "legendgroup": "0007",
         "marker": {
          "color": "#19d3f3",
          "symbol": "circle"
         },
         "mode": "markers",
         "name": "0007",
         "orientation": "v",
         "showlegend": true,
         "type": "scatter",
         "x": [
          0.6472772277227723
         ],
         "xaxis": "x",
         "y": [
          0.8607456140350878
         ],
         "yaxis": "y"
        },
        {
         "alignmentgroup": "True",
         "bingroup": "y",
         "hovertemplate": "test=0007<br>eventRecall=%{y}<br>count=%{x}<extra></extra>",
         "legendgroup": "0007",
         "marker": {
          "color": "#19d3f3"
         },
         "name": "0007",
         "offsetgroup": "0007",
         "opacity": 0.5,
         "showlegend": false,
         "type": "histogram",
         "xaxis": "x2",
         "y": [
          0.8607456140350878
         ],
         "yaxis": "y2"
        },
        {
         "hovertemplate": "<b>%{hovertext}</b><br><br>test=0009<br>eventF1=%{x}<br>eventRecall=%{y}<extra></extra>",
         "hovertext": [
          "768cb7b4-e534-49f7-b9c4-acfa7b401ffe"
         ],
         "legendgroup": "0009",
         "marker": {
          "color": "#FF6692",
          "symbol": "circle"
         },
         "mode": "markers",
         "name": "0009",
         "orientation": "v",
         "showlegend": true,
         "type": "scatter",
         "x": [
          0.7760898282694848
         ],
         "xaxis": "x",
         "y": [
          0.7211302211302212
         ],
         "yaxis": "y"
        },
        {
         "alignmentgroup": "True",
         "bingroup": "y",
         "hovertemplate": "test=0009<br>eventRecall=%{y}<br>count=%{x}<extra></extra>",
         "legendgroup": "0009",
         "marker": {
          "color": "#FF6692"
         },
         "name": "0009",
         "offsetgroup": "0009",
         "opacity": 0.5,
         "showlegend": false,
         "type": "histogram",
         "xaxis": "x2",
         "y": [
          0.7211302211302212
         ],
         "yaxis": "y2"
        },
        {
         "hovertemplate": "<b>%{hovertext}</b><br><br>test=0010<br>eventF1=%{x}<br>eventRecall=%{y}<extra></extra>",
         "hovertext": [
          "e3d50ec6-a2f8-45fc-88f9-9af0621c2050"
         ],
         "legendgroup": "0010",
         "marker": {
          "color": "#B6E880",
          "symbol": "circle"
         },
         "mode": "markers",
         "name": "0010",
         "orientation": "v",
         "showlegend": true,
         "type": "scatter",
         "x": [
          0.7725980670835703
         ],
         "xaxis": "x",
         "y": [
          0.8553459119496856
         ],
         "yaxis": "y"
        },
        {
         "alignmentgroup": "True",
         "bingroup": "y",
         "hovertemplate": "test=0010<br>eventRecall=%{y}<br>count=%{x}<extra></extra>",
         "legendgroup": "0010",
         "marker": {
          "color": "#B6E880"
         },
         "name": "0010",
         "offsetgroup": "0010",
         "opacity": 0.5,
         "showlegend": false,
         "type": "histogram",
         "xaxis": "x2",
         "y": [
          0.8553459119496856
         ],
         "yaxis": "y2"
        },
        {
         "hovertemplate": "<b>%{hovertext}</b><br><br>test=0011<br>eventF1=%{x}<br>eventRecall=%{y}<extra></extra>",
         "hovertext": [
          "d539204f-ac49-4811-9ed0-9b39bc65c8f3"
         ],
         "legendgroup": "0011",
         "marker": {
          "color": "#FF97FF",
          "symbol": "circle"
         },
         "mode": "markers",
         "name": "0011",
         "orientation": "v",
         "showlegend": true,
         "type": "scatter",
         "x": [
          0.6819535437760572
         ],
         "xaxis": "x",
         "y": [
          0.9438943894389439
         ],
         "yaxis": "y"
        },
        {
         "alignmentgroup": "True",
         "bingroup": "y",
         "hovertemplate": "test=0011<br>eventRecall=%{y}<br>count=%{x}<extra></extra>",
         "legendgroup": "0011",
         "marker": {
          "color": "#FF97FF"
         },
         "name": "0011",
         "offsetgroup": "0011",
         "opacity": 0.5,
         "showlegend": false,
         "type": "histogram",
         "xaxis": "x2",
         "y": [
          0.9438943894389439
         ],
         "yaxis": "y2"
        },
        {
         "hovertemplate": "<b>%{hovertext}</b><br><br>test=0012<br>eventF1=%{x}<br>eventRecall=%{y}<extra></extra>",
         "hovertext": [
          "1fe9ebda-f8d4-46a7-8ec3-1c1477a12af6"
         ],
         "legendgroup": "0012",
         "marker": {
          "color": "#FECB52",
          "symbol": "circle"
         },
         "mode": "markers",
         "name": "0012",
         "orientation": "v",
         "showlegend": true,
         "type": "scatter",
         "x": [
          0.7344632768361582
         ],
         "xaxis": "x",
         "y": [
          0.7334273624823695
         ],
         "yaxis": "y"
        },
        {
         "alignmentgroup": "True",
         "bingroup": "y",
         "hovertemplate": "test=0012<br>eventRecall=%{y}<br>count=%{x}<extra></extra>",
         "legendgroup": "0012",
         "marker": {
          "color": "#FECB52"
         },
         "name": "0012",
         "offsetgroup": "0012",
         "opacity": 0.5,
         "showlegend": false,
         "type": "histogram",
         "xaxis": "x2",
         "y": [
          0.7334273624823695
         ],
         "yaxis": "y2"
        },
        {
         "hovertemplate": "<b>%{hovertext}</b><br><br>test=0013<br>eventF1=%{x}<br>eventRecall=%{y}<extra></extra>",
         "hovertext": [
          "fef1292a-c2f5-4c3e-96c0-b9ec6f60cb96"
         ],
         "legendgroup": "0013",
         "marker": {
          "color": "#636efa",
          "symbol": "circle"
         },
         "mode": "markers",
         "name": "0013",
         "orientation": "v",
         "showlegend": true,
         "type": "scatter",
         "x": [
          0.6756756756756757
         ],
         "xaxis": "x",
         "y": [
          0.9512893982808023
         ],
         "yaxis": "y"
        },
        {
         "alignmentgroup": "True",
         "bingroup": "y",
         "hovertemplate": "test=0013<br>eventRecall=%{y}<br>count=%{x}<extra></extra>",
         "legendgroup": "0013",
         "marker": {
          "color": "#636efa"
         },
         "name": "0013",
         "offsetgroup": "0013",
         "opacity": 0.5,
         "showlegend": false,
         "type": "histogram",
         "xaxis": "x2",
         "y": [
          0.9512893982808023
         ],
         "yaxis": "y2"
        },
        {
         "hovertemplate": "<b>%{hovertext}</b><br><br>test=0014<br>eventF1=%{x}<br>eventRecall=%{y}<extra></extra>",
         "hovertext": [
          "17643ba4-cb3b-4cd8-818b-406abeab9cb3"
         ],
         "legendgroup": "0014",
         "marker": {
          "color": "#EF553B",
          "symbol": "circle"
         },
         "mode": "markers",
         "name": "0014",
         "orientation": "v",
         "showlegend": true,
         "type": "scatter",
         "x": [
          0.6047326906222612
         ],
         "xaxis": "x",
         "y": [
          0.9747191011235955
         ],
         "yaxis": "y"
        },
        {
         "alignmentgroup": "True",
         "bingroup": "y",
         "hovertemplate": "test=0014<br>eventRecall=%{y}<br>count=%{x}<extra></extra>",
         "legendgroup": "0014",
         "marker": {
          "color": "#EF553B"
         },
         "name": "0014",
         "offsetgroup": "0014",
         "opacity": 0.5,
         "showlegend": false,
         "type": "histogram",
         "xaxis": "x2",
         "y": [
          0.9747191011235955
         ],
         "yaxis": "y2"
        },
        {
         "hovertemplate": "<b>%{hovertext}</b><br><br>test=0017<br>eventF1=%{x}<br>eventRecall=%{y}<extra></extra>",
         "hovertext": [
          "deda4266-2cea-44e1-93d6-21d866332ca0"
         ],
         "legendgroup": "0017",
         "marker": {
          "color": "#00cc96",
          "symbol": "circle"
         },
         "mode": "markers",
         "name": "0017",
         "orientation": "v",
         "showlegend": true,
         "type": "scatter",
         "x": [
          0.7417061611374408
         ],
         "xaxis": "x",
         "y": [
          0.6680851063829787
         ],
         "yaxis": "y"
        },
        {
         "alignmentgroup": "True",
         "bingroup": "y",
         "hovertemplate": "test=0017<br>eventRecall=%{y}<br>count=%{x}<extra></extra>",
         "legendgroup": "0017",
         "marker": {
          "color": "#00cc96"
         },
         "name": "0017",
         "offsetgroup": "0017",
         "opacity": 0.5,
         "showlegend": false,
         "type": "histogram",
         "xaxis": "x2",
         "y": [
          0.6680851063829787
         ],
         "yaxis": "y2"
        },
        {
         "hovertemplate": "<b>%{hovertext}</b><br><br>test=0018<br>eventF1=%{x}<br>eventRecall=%{y}<extra></extra>",
         "hovertext": [
          "60d7b18b-ed9c-40bb-98ce-5193ad5abe70"
         ],
         "legendgroup": "0018",
         "marker": {
          "color": "#ab63fa",
          "symbol": "circle"
         },
         "mode": "markers",
         "name": "0018",
         "orientation": "v",
         "showlegend": true,
         "type": "scatter",
         "x": [
          0.7473583093179635
         ],
         "xaxis": "x",
         "y": [
          0.6683848797250859
         ],
         "yaxis": "y"
        },
        {
         "alignmentgroup": "True",
         "bingroup": "y",
         "hovertemplate": "test=0018<br>eventRecall=%{y}<br>count=%{x}<extra></extra>",
         "legendgroup": "0018",
         "marker": {
          "color": "#ab63fa"
         },
         "name": "0018",
         "offsetgroup": "0018",
         "opacity": 0.5,
         "showlegend": false,
         "type": "histogram",
         "xaxis": "x2",
         "y": [
          0.6683848797250859
         ],
         "yaxis": "y2"
        },
        {
         "hovertemplate": "<b>%{hovertext}</b><br><br>test=0019<br>eventF1=%{x}<br>eventRecall=%{y}<extra></extra>",
         "hovertext": [
          "c8a28ce7-7f69-4a97-bfe2-229b91334659"
         ],
         "legendgroup": "0019",
         "marker": {
          "color": "#FFA15A",
          "symbol": "circle"
         },
         "mode": "markers",
         "name": "0019",
         "orientation": "v",
         "showlegend": true,
         "type": "scatter",
         "x": [
          0.5698630136986301
         ],
         "xaxis": "x",
         "y": [
          0.9904761904761905
         ],
         "yaxis": "y"
        },
        {
         "alignmentgroup": "True",
         "bingroup": "y",
         "hovertemplate": "test=0019<br>eventRecall=%{y}<br>count=%{x}<extra></extra>",
         "legendgroup": "0019",
         "marker": {
          "color": "#FFA15A"
         },
         "name": "0019",
         "offsetgroup": "0019",
         "opacity": 0.5,
         "showlegend": false,
         "type": "histogram",
         "xaxis": "x2",
         "y": [
          0.9904761904761905
         ],
         "yaxis": "y2"
        },
        {
         "fill": "toself",
         "mode": "lines",
         "name": "identity",
         "type": "scatter",
         "x": [
          0.69185360094451,
          0.7955846279640229,
          0.6445783132530121,
          0.6621923937360179,
          0.6821192052980133,
          0.6472772277227723,
          0.7760898282694848,
          0.7725980670835703,
          0.6819535437760572,
          0.7344632768361582,
          0.6756756756756757,
          0.6047326906222612,
          0.7417061611374408,
          0.7473583093179635,
          0.5698630136986301
         ],
         "y": [
          0.69185360094451,
          0.7955846279640229,
          0.6445783132530121,
          0.6621923937360179,
          0.6821192052980133,
          0.6472772277227723,
          0.7760898282694848,
          0.7725980670835703,
          0.6819535437760572,
          0.7344632768361582,
          0.6756756756756757,
          0.6047326906222612,
          0.7417061611374408,
          0.7473583093179635,
          0.5698630136986301
         ]
        }
       ],
       "layout": {
        "barmode": "overlay",
        "legend": {
         "title": {
          "text": "test"
         },
         "tracegroupgap": 0
        },
        "margin": {
         "t": 60
        },
        "template": {
         "data": {
          "bar": [
           {
            "error_x": {
             "color": "#2a3f5f"
            },
            "error_y": {
             "color": "#2a3f5f"
            },
            "marker": {
             "line": {
              "color": "#E5ECF6",
              "width": 0.5
             },
             "pattern": {
              "fillmode": "overlay",
              "size": 10,
              "solidity": 0.2
             }
            },
            "type": "bar"
           }
          ],
          "barpolar": [
           {
            "marker": {
             "line": {
              "color": "#E5ECF6",
              "width": 0.5
             },
             "pattern": {
              "fillmode": "overlay",
              "size": 10,
              "solidity": 0.2
             }
            },
            "type": "barpolar"
           }
          ],
          "carpet": [
           {
            "aaxis": {
             "endlinecolor": "#2a3f5f",
             "gridcolor": "white",
             "linecolor": "white",
             "minorgridcolor": "white",
             "startlinecolor": "#2a3f5f"
            },
            "baxis": {
             "endlinecolor": "#2a3f5f",
             "gridcolor": "white",
             "linecolor": "white",
             "minorgridcolor": "white",
             "startlinecolor": "#2a3f5f"
            },
            "type": "carpet"
           }
          ],
          "choropleth": [
           {
            "colorbar": {
             "outlinewidth": 0,
             "ticks": ""
            },
            "type": "choropleth"
           }
          ],
          "contour": [
           {
            "colorbar": {
             "outlinewidth": 0,
             "ticks": ""
            },
            "colorscale": [
             [
              0,
              "#0d0887"
             ],
             [
              0.1111111111111111,
              "#46039f"
             ],
             [
              0.2222222222222222,
              "#7201a8"
             ],
             [
              0.3333333333333333,
              "#9c179e"
             ],
             [
              0.4444444444444444,
              "#bd3786"
             ],
             [
              0.5555555555555556,
              "#d8576b"
             ],
             [
              0.6666666666666666,
              "#ed7953"
             ],
             [
              0.7777777777777778,
              "#fb9f3a"
             ],
             [
              0.8888888888888888,
              "#fdca26"
             ],
             [
              1,
              "#f0f921"
             ]
            ],
            "type": "contour"
           }
          ],
          "contourcarpet": [
           {
            "colorbar": {
             "outlinewidth": 0,
             "ticks": ""
            },
            "type": "contourcarpet"
           }
          ],
          "heatmap": [
           {
            "colorbar": {
             "outlinewidth": 0,
             "ticks": ""
            },
            "colorscale": [
             [
              0,
              "#0d0887"
             ],
             [
              0.1111111111111111,
              "#46039f"
             ],
             [
              0.2222222222222222,
              "#7201a8"
             ],
             [
              0.3333333333333333,
              "#9c179e"
             ],
             [
              0.4444444444444444,
              "#bd3786"
             ],
             [
              0.5555555555555556,
              "#d8576b"
             ],
             [
              0.6666666666666666,
              "#ed7953"
             ],
             [
              0.7777777777777778,
              "#fb9f3a"
             ],
             [
              0.8888888888888888,
              "#fdca26"
             ],
             [
              1,
              "#f0f921"
             ]
            ],
            "type": "heatmap"
           }
          ],
          "heatmapgl": [
           {
            "colorbar": {
             "outlinewidth": 0,
             "ticks": ""
            },
            "colorscale": [
             [
              0,
              "#0d0887"
             ],
             [
              0.1111111111111111,
              "#46039f"
             ],
             [
              0.2222222222222222,
              "#7201a8"
             ],
             [
              0.3333333333333333,
              "#9c179e"
             ],
             [
              0.4444444444444444,
              "#bd3786"
             ],
             [
              0.5555555555555556,
              "#d8576b"
             ],
             [
              0.6666666666666666,
              "#ed7953"
             ],
             [
              0.7777777777777778,
              "#fb9f3a"
             ],
             [
              0.8888888888888888,
              "#fdca26"
             ],
             [
              1,
              "#f0f921"
             ]
            ],
            "type": "heatmapgl"
           }
          ],
          "histogram": [
           {
            "marker": {
             "pattern": {
              "fillmode": "overlay",
              "size": 10,
              "solidity": 0.2
             }
            },
            "type": "histogram"
           }
          ],
          "histogram2d": [
           {
            "colorbar": {
             "outlinewidth": 0,
             "ticks": ""
            },
            "colorscale": [
             [
              0,
              "#0d0887"
             ],
             [
              0.1111111111111111,
              "#46039f"
             ],
             [
              0.2222222222222222,
              "#7201a8"
             ],
             [
              0.3333333333333333,
              "#9c179e"
             ],
             [
              0.4444444444444444,
              "#bd3786"
             ],
             [
              0.5555555555555556,
              "#d8576b"
             ],
             [
              0.6666666666666666,
              "#ed7953"
             ],
             [
              0.7777777777777778,
              "#fb9f3a"
             ],
             [
              0.8888888888888888,
              "#fdca26"
             ],
             [
              1,
              "#f0f921"
             ]
            ],
            "type": "histogram2d"
           }
          ],
          "histogram2dcontour": [
           {
            "colorbar": {
             "outlinewidth": 0,
             "ticks": ""
            },
            "colorscale": [
             [
              0,
              "#0d0887"
             ],
             [
              0.1111111111111111,
              "#46039f"
             ],
             [
              0.2222222222222222,
              "#7201a8"
             ],
             [
              0.3333333333333333,
              "#9c179e"
             ],
             [
              0.4444444444444444,
              "#bd3786"
             ],
             [
              0.5555555555555556,
              "#d8576b"
             ],
             [
              0.6666666666666666,
              "#ed7953"
             ],
             [
              0.7777777777777778,
              "#fb9f3a"
             ],
             [
              0.8888888888888888,
              "#fdca26"
             ],
             [
              1,
              "#f0f921"
             ]
            ],
            "type": "histogram2dcontour"
           }
          ],
          "mesh3d": [
           {
            "colorbar": {
             "outlinewidth": 0,
             "ticks": ""
            },
            "type": "mesh3d"
           }
          ],
          "parcoords": [
           {
            "line": {
             "colorbar": {
              "outlinewidth": 0,
              "ticks": ""
             }
            },
            "type": "parcoords"
           }
          ],
          "pie": [
           {
            "automargin": true,
            "type": "pie"
           }
          ],
          "scatter": [
           {
            "fillpattern": {
             "fillmode": "overlay",
             "size": 10,
             "solidity": 0.2
            },
            "type": "scatter"
           }
          ],
          "scatter3d": [
           {
            "line": {
             "colorbar": {
              "outlinewidth": 0,
              "ticks": ""
             }
            },
            "marker": {
             "colorbar": {
              "outlinewidth": 0,
              "ticks": ""
             }
            },
            "type": "scatter3d"
           }
          ],
          "scattercarpet": [
           {
            "marker": {
             "colorbar": {
              "outlinewidth": 0,
              "ticks": ""
             }
            },
            "type": "scattercarpet"
           }
          ],
          "scattergeo": [
           {
            "marker": {
             "colorbar": {
              "outlinewidth": 0,
              "ticks": ""
             }
            },
            "type": "scattergeo"
           }
          ],
          "scattergl": [
           {
            "marker": {
             "colorbar": {
              "outlinewidth": 0,
              "ticks": ""
             }
            },
            "type": "scattergl"
           }
          ],
          "scattermapbox": [
           {
            "marker": {
             "colorbar": {
              "outlinewidth": 0,
              "ticks": ""
             }
            },
            "type": "scattermapbox"
           }
          ],
          "scatterpolar": [
           {
            "marker": {
             "colorbar": {
              "outlinewidth": 0,
              "ticks": ""
             }
            },
            "type": "scatterpolar"
           }
          ],
          "scatterpolargl": [
           {
            "marker": {
             "colorbar": {
              "outlinewidth": 0,
              "ticks": ""
             }
            },
            "type": "scatterpolargl"
           }
          ],
          "scatterternary": [
           {
            "marker": {
             "colorbar": {
              "outlinewidth": 0,
              "ticks": ""
             }
            },
            "type": "scatterternary"
           }
          ],
          "surface": [
           {
            "colorbar": {
             "outlinewidth": 0,
             "ticks": ""
            },
            "colorscale": [
             [
              0,
              "#0d0887"
             ],
             [
              0.1111111111111111,
              "#46039f"
             ],
             [
              0.2222222222222222,
              "#7201a8"
             ],
             [
              0.3333333333333333,
              "#9c179e"
             ],
             [
              0.4444444444444444,
              "#bd3786"
             ],
             [
              0.5555555555555556,
              "#d8576b"
             ],
             [
              0.6666666666666666,
              "#ed7953"
             ],
             [
              0.7777777777777778,
              "#fb9f3a"
             ],
             [
              0.8888888888888888,
              "#fdca26"
             ],
             [
              1,
              "#f0f921"
             ]
            ],
            "type": "surface"
           }
          ],
          "table": [
           {
            "cells": {
             "fill": {
              "color": "#EBF0F8"
             },
             "line": {
              "color": "white"
             }
            },
            "header": {
             "fill": {
              "color": "#C8D4E3"
             },
             "line": {
              "color": "white"
             }
            },
            "type": "table"
           }
          ]
         },
         "layout": {
          "annotationdefaults": {
           "arrowcolor": "#2a3f5f",
           "arrowhead": 0,
           "arrowwidth": 1
          },
          "autotypenumbers": "strict",
          "coloraxis": {
           "colorbar": {
            "outlinewidth": 0,
            "ticks": ""
           }
          },
          "colorscale": {
           "diverging": [
            [
             0,
             "#8e0152"
            ],
            [
             0.1,
             "#c51b7d"
            ],
            [
             0.2,
             "#de77ae"
            ],
            [
             0.3,
             "#f1b6da"
            ],
            [
             0.4,
             "#fde0ef"
            ],
            [
             0.5,
             "#f7f7f7"
            ],
            [
             0.6,
             "#e6f5d0"
            ],
            [
             0.7,
             "#b8e186"
            ],
            [
             0.8,
             "#7fbc41"
            ],
            [
             0.9,
             "#4d9221"
            ],
            [
             1,
             "#276419"
            ]
           ],
           "sequential": [
            [
             0,
             "#0d0887"
            ],
            [
             0.1111111111111111,
             "#46039f"
            ],
            [
             0.2222222222222222,
             "#7201a8"
            ],
            [
             0.3333333333333333,
             "#9c179e"
            ],
            [
             0.4444444444444444,
             "#bd3786"
            ],
            [
             0.5555555555555556,
             "#d8576b"
            ],
            [
             0.6666666666666666,
             "#ed7953"
            ],
            [
             0.7777777777777778,
             "#fb9f3a"
            ],
            [
             0.8888888888888888,
             "#fdca26"
            ],
            [
             1,
             "#f0f921"
            ]
           ],
           "sequentialminus": [
            [
             0,
             "#0d0887"
            ],
            [
             0.1111111111111111,
             "#46039f"
            ],
            [
             0.2222222222222222,
             "#7201a8"
            ],
            [
             0.3333333333333333,
             "#9c179e"
            ],
            [
             0.4444444444444444,
             "#bd3786"
            ],
            [
             0.5555555555555556,
             "#d8576b"
            ],
            [
             0.6666666666666666,
             "#ed7953"
            ],
            [
             0.7777777777777778,
             "#fb9f3a"
            ],
            [
             0.8888888888888888,
             "#fdca26"
            ],
            [
             1,
             "#f0f921"
            ]
           ]
          },
          "colorway": [
           "#636efa",
           "#EF553B",
           "#00cc96",
           "#ab63fa",
           "#FFA15A",
           "#19d3f3",
           "#FF6692",
           "#B6E880",
           "#FF97FF",
           "#FECB52"
          ],
          "font": {
           "color": "#2a3f5f"
          },
          "geo": {
           "bgcolor": "white",
           "lakecolor": "white",
           "landcolor": "#E5ECF6",
           "showlakes": true,
           "showland": true,
           "subunitcolor": "white"
          },
          "hoverlabel": {
           "align": "left"
          },
          "hovermode": "closest",
          "mapbox": {
           "style": "light"
          },
          "paper_bgcolor": "white",
          "plot_bgcolor": "#E5ECF6",
          "polar": {
           "angularaxis": {
            "gridcolor": "white",
            "linecolor": "white",
            "ticks": ""
           },
           "bgcolor": "#E5ECF6",
           "radialaxis": {
            "gridcolor": "white",
            "linecolor": "white",
            "ticks": ""
           }
          },
          "scene": {
           "xaxis": {
            "backgroundcolor": "#E5ECF6",
            "gridcolor": "white",
            "gridwidth": 2,
            "linecolor": "white",
            "showbackground": true,
            "ticks": "",
            "zerolinecolor": "white"
           },
           "yaxis": {
            "backgroundcolor": "#E5ECF6",
            "gridcolor": "white",
            "gridwidth": 2,
            "linecolor": "white",
            "showbackground": true,
            "ticks": "",
            "zerolinecolor": "white"
           },
           "zaxis": {
            "backgroundcolor": "#E5ECF6",
            "gridcolor": "white",
            "gridwidth": 2,
            "linecolor": "white",
            "showbackground": true,
            "ticks": "",
            "zerolinecolor": "white"
           }
          },
          "shapedefaults": {
           "line": {
            "color": "#2a3f5f"
           }
          },
          "ternary": {
           "aaxis": {
            "gridcolor": "white",
            "linecolor": "white",
            "ticks": ""
           },
           "baxis": {
            "gridcolor": "white",
            "linecolor": "white",
            "ticks": ""
           },
           "bgcolor": "#E5ECF6",
           "caxis": {
            "gridcolor": "white",
            "linecolor": "white",
            "ticks": ""
           }
          },
          "title": {
           "x": 0.05
          },
          "xaxis": {
           "automargin": true,
           "gridcolor": "white",
           "linecolor": "white",
           "ticks": "",
           "title": {
            "standoff": 15
           },
           "zerolinecolor": "white",
           "zerolinewidth": 2
          },
          "yaxis": {
           "automargin": true,
           "gridcolor": "white",
           "linecolor": "white",
           "ticks": "",
           "title": {
            "standoff": 15
           },
           "zerolinecolor": "white",
           "zerolinewidth": 2
          }
         }
        },
        "xaxis": {
         "anchor": "y",
         "domain": [
          0,
          0.7363
         ],
         "title": {
          "text": "eventF1"
         }
        },
        "xaxis2": {
         "anchor": "y2",
         "domain": [
          0.7413,
          1
         ],
         "matches": "x2",
         "showgrid": true,
         "showline": false,
         "showticklabels": false,
         "ticks": ""
        },
        "yaxis": {
         "anchor": "x",
         "domain": [
          0,
          1
         ],
         "title": {
          "text": "eventRecall"
         }
        },
        "yaxis2": {
         "anchor": "x2",
         "domain": [
          0,
          1
         ],
         "matches": "y",
         "showgrid": true,
         "showticklabels": false
        }
       }
      }
     },
     "metadata": {},
     "output_type": "display_data"
    }
   ],
   "source": [
    "fig=px.scatter(experimentModels,x='eventF1',y='eventRecall',color='test',hover_name='modelId', marginal_y=\"histogram\")\n",
    "fig.add_trace(\n",
    "    go.Scatter(x=experimentModels['eventF1'], y=experimentModels['eventF1'], name=\"identity\", mode='lines',fill=\"toself\")\n",
    ")\n",
    "fig.show()"
   ]
  },
  {
   "cell_type": "code",
   "execution_count": 24,
   "metadata": {},
   "outputs": [
    {
     "data": {
      "text/html": [
       "<div>\n",
       "<style scoped>\n",
       "    .dataframe tbody tr th:only-of-type {\n",
       "        vertical-align: middle;\n",
       "    }\n",
       "\n",
       "    .dataframe tbody tr th {\n",
       "        vertical-align: top;\n",
       "    }\n",
       "\n",
       "    .dataframe thead tr th {\n",
       "        text-align: left;\n",
       "    }\n",
       "\n",
       "    .dataframe thead tr:last-of-type th {\n",
       "        text-align: right;\n",
       "    }\n",
       "</style>\n",
       "<table border=\"1\" class=\"dataframe\">\n",
       "  <thead>\n",
       "    <tr>\n",
       "      <th></th>\n",
       "      <th colspan=\"6\" halign=\"left\">eventF1</th>\n",
       "      <th colspan=\"6\" halign=\"left\">eventPrecision</th>\n",
       "      <th colspan=\"6\" halign=\"left\">eventRecall</th>\n",
       "    </tr>\n",
       "    <tr>\n",
       "      <th></th>\n",
       "      <th>count</th>\n",
       "      <th>mean</th>\n",
       "      <th>std</th>\n",
       "      <th>min</th>\n",
       "      <th>50%</th>\n",
       "      <th>max</th>\n",
       "      <th>count</th>\n",
       "      <th>mean</th>\n",
       "      <th>std</th>\n",
       "      <th>min</th>\n",
       "      <th>50%</th>\n",
       "      <th>max</th>\n",
       "      <th>count</th>\n",
       "      <th>mean</th>\n",
       "      <th>std</th>\n",
       "      <th>min</th>\n",
       "      <th>50%</th>\n",
       "      <th>max</th>\n",
       "    </tr>\n",
       "    <tr>\n",
       "      <th>test</th>\n",
       "      <th></th>\n",
       "      <th></th>\n",
       "      <th></th>\n",
       "      <th></th>\n",
       "      <th></th>\n",
       "      <th></th>\n",
       "      <th></th>\n",
       "      <th></th>\n",
       "      <th></th>\n",
       "      <th></th>\n",
       "      <th></th>\n",
       "      <th></th>\n",
       "      <th></th>\n",
       "      <th></th>\n",
       "      <th></th>\n",
       "      <th></th>\n",
       "      <th></th>\n",
       "      <th></th>\n",
       "    </tr>\n",
       "  </thead>\n",
       "  <tbody>\n",
       "    <tr>\n",
       "      <th>0001</th>\n",
       "      <td>1.0</td>\n",
       "      <td>0.691854</td>\n",
       "      <td>NaN</td>\n",
       "      <td>0.691854</td>\n",
       "      <td>0.691854</td>\n",
       "      <td>0.691854</td>\n",
       "      <td>1.0</td>\n",
       "      <td>0.901538</td>\n",
       "      <td>NaN</td>\n",
       "      <td>0.901538</td>\n",
       "      <td>0.901538</td>\n",
       "      <td>0.901538</td>\n",
       "      <td>1.0</td>\n",
       "      <td>0.561303</td>\n",
       "      <td>NaN</td>\n",
       "      <td>0.561303</td>\n",
       "      <td>0.561303</td>\n",
       "      <td>0.561303</td>\n",
       "    </tr>\n",
       "    <tr>\n",
       "      <th>0002</th>\n",
       "      <td>1.0</td>\n",
       "      <td>0.795585</td>\n",
       "      <td>NaN</td>\n",
       "      <td>0.795585</td>\n",
       "      <td>0.795585</td>\n",
       "      <td>0.795585</td>\n",
       "      <td>1.0</td>\n",
       "      <td>0.746738</td>\n",
       "      <td>NaN</td>\n",
       "      <td>0.746738</td>\n",
       "      <td>0.746738</td>\n",
       "      <td>0.746738</td>\n",
       "      <td>1.0</td>\n",
       "      <td>0.851269</td>\n",
       "      <td>NaN</td>\n",
       "      <td>0.851269</td>\n",
       "      <td>0.851269</td>\n",
       "      <td>0.851269</td>\n",
       "    </tr>\n",
       "    <tr>\n",
       "      <th>0003</th>\n",
       "      <td>1.0</td>\n",
       "      <td>0.644578</td>\n",
       "      <td>NaN</td>\n",
       "      <td>0.644578</td>\n",
       "      <td>0.644578</td>\n",
       "      <td>0.644578</td>\n",
       "      <td>1.0</td>\n",
       "      <td>0.566138</td>\n",
       "      <td>NaN</td>\n",
       "      <td>0.566138</td>\n",
       "      <td>0.566138</td>\n",
       "      <td>0.566138</td>\n",
       "      <td>1.0</td>\n",
       "      <td>0.748252</td>\n",
       "      <td>NaN</td>\n",
       "      <td>0.748252</td>\n",
       "      <td>0.748252</td>\n",
       "      <td>0.748252</td>\n",
       "    </tr>\n",
       "    <tr>\n",
       "      <th>0005</th>\n",
       "      <td>1.0</td>\n",
       "      <td>0.662192</td>\n",
       "      <td>NaN</td>\n",
       "      <td>0.662192</td>\n",
       "      <td>0.662192</td>\n",
       "      <td>0.662192</td>\n",
       "      <td>1.0</td>\n",
       "      <td>0.535262</td>\n",
       "      <td>NaN</td>\n",
       "      <td>0.535262</td>\n",
       "      <td>0.535262</td>\n",
       "      <td>0.535262</td>\n",
       "      <td>1.0</td>\n",
       "      <td>0.868035</td>\n",
       "      <td>NaN</td>\n",
       "      <td>0.868035</td>\n",
       "      <td>0.868035</td>\n",
       "      <td>0.868035</td>\n",
       "    </tr>\n",
       "    <tr>\n",
       "      <th>0006</th>\n",
       "      <td>1.0</td>\n",
       "      <td>0.682119</td>\n",
       "      <td>NaN</td>\n",
       "      <td>0.682119</td>\n",
       "      <td>0.682119</td>\n",
       "      <td>0.682119</td>\n",
       "      <td>1.0</td>\n",
       "      <td>0.677632</td>\n",
       "      <td>NaN</td>\n",
       "      <td>0.677632</td>\n",
       "      <td>0.677632</td>\n",
       "      <td>0.677632</td>\n",
       "      <td>1.0</td>\n",
       "      <td>0.686667</td>\n",
       "      <td>NaN</td>\n",
       "      <td>0.686667</td>\n",
       "      <td>0.686667</td>\n",
       "      <td>0.686667</td>\n",
       "    </tr>\n",
       "    <tr>\n",
       "      <th>0007</th>\n",
       "      <td>1.0</td>\n",
       "      <td>0.647277</td>\n",
       "      <td>NaN</td>\n",
       "      <td>0.647277</td>\n",
       "      <td>0.647277</td>\n",
       "      <td>0.647277</td>\n",
       "      <td>1.0</td>\n",
       "      <td>0.518519</td>\n",
       "      <td>NaN</td>\n",
       "      <td>0.518519</td>\n",
       "      <td>0.518519</td>\n",
       "      <td>0.518519</td>\n",
       "      <td>1.0</td>\n",
       "      <td>0.860746</td>\n",
       "      <td>NaN</td>\n",
       "      <td>0.860746</td>\n",
       "      <td>0.860746</td>\n",
       "      <td>0.860746</td>\n",
       "    </tr>\n",
       "    <tr>\n",
       "      <th>0009</th>\n",
       "      <td>1.0</td>\n",
       "      <td>0.776090</td>\n",
       "      <td>NaN</td>\n",
       "      <td>0.776090</td>\n",
       "      <td>0.776090</td>\n",
       "      <td>0.776090</td>\n",
       "      <td>1.0</td>\n",
       "      <td>0.840000</td>\n",
       "      <td>NaN</td>\n",
       "      <td>0.840000</td>\n",
       "      <td>0.840000</td>\n",
       "      <td>0.840000</td>\n",
       "      <td>1.0</td>\n",
       "      <td>0.721130</td>\n",
       "      <td>NaN</td>\n",
       "      <td>0.721130</td>\n",
       "      <td>0.721130</td>\n",
       "      <td>0.721130</td>\n",
       "    </tr>\n",
       "    <tr>\n",
       "      <th>0010</th>\n",
       "      <td>1.0</td>\n",
       "      <td>0.772598</td>\n",
       "      <td>NaN</td>\n",
       "      <td>0.772598</td>\n",
       "      <td>0.772598</td>\n",
       "      <td>0.772598</td>\n",
       "      <td>1.0</td>\n",
       "      <td>0.704357</td>\n",
       "      <td>NaN</td>\n",
       "      <td>0.704357</td>\n",
       "      <td>0.704357</td>\n",
       "      <td>0.704357</td>\n",
       "      <td>1.0</td>\n",
       "      <td>0.855346</td>\n",
       "      <td>NaN</td>\n",
       "      <td>0.855346</td>\n",
       "      <td>0.855346</td>\n",
       "      <td>0.855346</td>\n",
       "    </tr>\n",
       "    <tr>\n",
       "      <th>0011</th>\n",
       "      <td>1.0</td>\n",
       "      <td>0.681954</td>\n",
       "      <td>NaN</td>\n",
       "      <td>0.681954</td>\n",
       "      <td>0.681954</td>\n",
       "      <td>0.681954</td>\n",
       "      <td>1.0</td>\n",
       "      <td>0.534017</td>\n",
       "      <td>NaN</td>\n",
       "      <td>0.534017</td>\n",
       "      <td>0.534017</td>\n",
       "      <td>0.534017</td>\n",
       "      <td>1.0</td>\n",
       "      <td>0.943894</td>\n",
       "      <td>NaN</td>\n",
       "      <td>0.943894</td>\n",
       "      <td>0.943894</td>\n",
       "      <td>0.943894</td>\n",
       "    </tr>\n",
       "    <tr>\n",
       "      <th>0012</th>\n",
       "      <td>1.0</td>\n",
       "      <td>0.734463</td>\n",
       "      <td>NaN</td>\n",
       "      <td>0.734463</td>\n",
       "      <td>0.734463</td>\n",
       "      <td>0.734463</td>\n",
       "      <td>1.0</td>\n",
       "      <td>0.735502</td>\n",
       "      <td>NaN</td>\n",
       "      <td>0.735502</td>\n",
       "      <td>0.735502</td>\n",
       "      <td>0.735502</td>\n",
       "      <td>1.0</td>\n",
       "      <td>0.733427</td>\n",
       "      <td>NaN</td>\n",
       "      <td>0.733427</td>\n",
       "      <td>0.733427</td>\n",
       "      <td>0.733427</td>\n",
       "    </tr>\n",
       "    <tr>\n",
       "      <th>0013</th>\n",
       "      <td>1.0</td>\n",
       "      <td>0.675676</td>\n",
       "      <td>NaN</td>\n",
       "      <td>0.675676</td>\n",
       "      <td>0.675676</td>\n",
       "      <td>0.675676</td>\n",
       "      <td>1.0</td>\n",
       "      <td>0.523357</td>\n",
       "      <td>NaN</td>\n",
       "      <td>0.523357</td>\n",
       "      <td>0.523357</td>\n",
       "      <td>0.523357</td>\n",
       "      <td>1.0</td>\n",
       "      <td>0.951289</td>\n",
       "      <td>NaN</td>\n",
       "      <td>0.951289</td>\n",
       "      <td>0.951289</td>\n",
       "      <td>0.951289</td>\n",
       "    </tr>\n",
       "    <tr>\n",
       "      <th>0014</th>\n",
       "      <td>1.0</td>\n",
       "      <td>0.604733</td>\n",
       "      <td>NaN</td>\n",
       "      <td>0.604733</td>\n",
       "      <td>0.604733</td>\n",
       "      <td>0.604733</td>\n",
       "      <td>1.0</td>\n",
       "      <td>0.436943</td>\n",
       "      <td>NaN</td>\n",
       "      <td>0.436943</td>\n",
       "      <td>0.436943</td>\n",
       "      <td>0.436943</td>\n",
       "      <td>1.0</td>\n",
       "      <td>0.974719</td>\n",
       "      <td>NaN</td>\n",
       "      <td>0.974719</td>\n",
       "      <td>0.974719</td>\n",
       "      <td>0.974719</td>\n",
       "    </tr>\n",
       "    <tr>\n",
       "      <th>0017</th>\n",
       "      <td>1.0</td>\n",
       "      <td>0.741706</td>\n",
       "      <td>NaN</td>\n",
       "      <td>0.741706</td>\n",
       "      <td>0.741706</td>\n",
       "      <td>0.741706</td>\n",
       "      <td>1.0</td>\n",
       "      <td>0.834225</td>\n",
       "      <td>NaN</td>\n",
       "      <td>0.834225</td>\n",
       "      <td>0.834225</td>\n",
       "      <td>0.834225</td>\n",
       "      <td>1.0</td>\n",
       "      <td>0.668085</td>\n",
       "      <td>NaN</td>\n",
       "      <td>0.668085</td>\n",
       "      <td>0.668085</td>\n",
       "      <td>0.668085</td>\n",
       "    </tr>\n",
       "    <tr>\n",
       "      <th>0018</th>\n",
       "      <td>1.0</td>\n",
       "      <td>0.747358</td>\n",
       "      <td>NaN</td>\n",
       "      <td>0.747358</td>\n",
       "      <td>0.747358</td>\n",
       "      <td>0.747358</td>\n",
       "      <td>1.0</td>\n",
       "      <td>0.847495</td>\n",
       "      <td>NaN</td>\n",
       "      <td>0.847495</td>\n",
       "      <td>0.847495</td>\n",
       "      <td>0.847495</td>\n",
       "      <td>1.0</td>\n",
       "      <td>0.668385</td>\n",
       "      <td>NaN</td>\n",
       "      <td>0.668385</td>\n",
       "      <td>0.668385</td>\n",
       "      <td>0.668385</td>\n",
       "    </tr>\n",
       "    <tr>\n",
       "      <th>0019</th>\n",
       "      <td>1.0</td>\n",
       "      <td>0.569863</td>\n",
       "      <td>NaN</td>\n",
       "      <td>0.569863</td>\n",
       "      <td>0.569863</td>\n",
       "      <td>0.569863</td>\n",
       "      <td>1.0</td>\n",
       "      <td>0.400000</td>\n",
       "      <td>NaN</td>\n",
       "      <td>0.400000</td>\n",
       "      <td>0.400000</td>\n",
       "      <td>0.400000</td>\n",
       "      <td>1.0</td>\n",
       "      <td>0.990476</td>\n",
       "      <td>NaN</td>\n",
       "      <td>0.990476</td>\n",
       "      <td>0.990476</td>\n",
       "      <td>0.990476</td>\n",
       "    </tr>\n",
       "  </tbody>\n",
       "</table>\n",
       "</div>"
      ],
      "text/plain": [
       "     eventF1                                             eventPrecision  \\\n",
       "       count      mean std       min       50%       max          count   \n",
       "test                                                                      \n",
       "0001     1.0  0.691854 NaN  0.691854  0.691854  0.691854            1.0   \n",
       "0002     1.0  0.795585 NaN  0.795585  0.795585  0.795585            1.0   \n",
       "0003     1.0  0.644578 NaN  0.644578  0.644578  0.644578            1.0   \n",
       "0005     1.0  0.662192 NaN  0.662192  0.662192  0.662192            1.0   \n",
       "0006     1.0  0.682119 NaN  0.682119  0.682119  0.682119            1.0   \n",
       "0007     1.0  0.647277 NaN  0.647277  0.647277  0.647277            1.0   \n",
       "0009     1.0  0.776090 NaN  0.776090  0.776090  0.776090            1.0   \n",
       "0010     1.0  0.772598 NaN  0.772598  0.772598  0.772598            1.0   \n",
       "0011     1.0  0.681954 NaN  0.681954  0.681954  0.681954            1.0   \n",
       "0012     1.0  0.734463 NaN  0.734463  0.734463  0.734463            1.0   \n",
       "0013     1.0  0.675676 NaN  0.675676  0.675676  0.675676            1.0   \n",
       "0014     1.0  0.604733 NaN  0.604733  0.604733  0.604733            1.0   \n",
       "0017     1.0  0.741706 NaN  0.741706  0.741706  0.741706            1.0   \n",
       "0018     1.0  0.747358 NaN  0.747358  0.747358  0.747358            1.0   \n",
       "0019     1.0  0.569863 NaN  0.569863  0.569863  0.569863            1.0   \n",
       "\n",
       "                                                 eventRecall                \\\n",
       "          mean std       min       50%       max       count      mean std   \n",
       "test                                                                         \n",
       "0001  0.901538 NaN  0.901538  0.901538  0.901538         1.0  0.561303 NaN   \n",
       "0002  0.746738 NaN  0.746738  0.746738  0.746738         1.0  0.851269 NaN   \n",
       "0003  0.566138 NaN  0.566138  0.566138  0.566138         1.0  0.748252 NaN   \n",
       "0005  0.535262 NaN  0.535262  0.535262  0.535262         1.0  0.868035 NaN   \n",
       "0006  0.677632 NaN  0.677632  0.677632  0.677632         1.0  0.686667 NaN   \n",
       "0007  0.518519 NaN  0.518519  0.518519  0.518519         1.0  0.860746 NaN   \n",
       "0009  0.840000 NaN  0.840000  0.840000  0.840000         1.0  0.721130 NaN   \n",
       "0010  0.704357 NaN  0.704357  0.704357  0.704357         1.0  0.855346 NaN   \n",
       "0011  0.534017 NaN  0.534017  0.534017  0.534017         1.0  0.943894 NaN   \n",
       "0012  0.735502 NaN  0.735502  0.735502  0.735502         1.0  0.733427 NaN   \n",
       "0013  0.523357 NaN  0.523357  0.523357  0.523357         1.0  0.951289 NaN   \n",
       "0014  0.436943 NaN  0.436943  0.436943  0.436943         1.0  0.974719 NaN   \n",
       "0017  0.834225 NaN  0.834225  0.834225  0.834225         1.0  0.668085 NaN   \n",
       "0018  0.847495 NaN  0.847495  0.847495  0.847495         1.0  0.668385 NaN   \n",
       "0019  0.400000 NaN  0.400000  0.400000  0.400000         1.0  0.990476 NaN   \n",
       "\n",
       "                                    \n",
       "           min       50%       max  \n",
       "test                                \n",
       "0001  0.561303  0.561303  0.561303  \n",
       "0002  0.851269  0.851269  0.851269  \n",
       "0003  0.748252  0.748252  0.748252  \n",
       "0005  0.868035  0.868035  0.868035  \n",
       "0006  0.686667  0.686667  0.686667  \n",
       "0007  0.860746  0.860746  0.860746  \n",
       "0009  0.721130  0.721130  0.721130  \n",
       "0010  0.855346  0.855346  0.855346  \n",
       "0011  0.943894  0.943894  0.943894  \n",
       "0012  0.733427  0.733427  0.733427  \n",
       "0013  0.951289  0.951289  0.951289  \n",
       "0014  0.974719  0.974719  0.974719  \n",
       "0017  0.668085  0.668085  0.668085  \n",
       "0018  0.668385  0.668385  0.668385  \n",
       "0019  0.990476  0.990476  0.990476  "
      ]
     },
     "execution_count": 24,
     "metadata": {},
     "output_type": "execute_result"
    }
   ],
   "source": [
    "experimentModels[['test','eventF1','eventPrecision','eventRecall']].groupby('test').describe(percentiles=[0.5])"
   ]
  },
  {
   "cell_type": "code",
   "execution_count": 25,
   "metadata": {},
   "outputs": [
    {
     "data": {
      "text/html": [
       "<div>\n",
       "<style scoped>\n",
       "    .dataframe tbody tr th:only-of-type {\n",
       "        vertical-align: middle;\n",
       "    }\n",
       "\n",
       "    .dataframe tbody tr th {\n",
       "        vertical-align: top;\n",
       "    }\n",
       "\n",
       "    .dataframe thead th {\n",
       "        text-align: right;\n",
       "    }\n",
       "</style>\n",
       "<table border=\"1\" class=\"dataframe\">\n",
       "  <thead>\n",
       "    <tr style=\"text-align: right;\">\n",
       "      <th></th>\n",
       "      <th>test</th>\n",
       "      <th>eventF1</th>\n",
       "      <th>eventPrecision</th>\n",
       "      <th>eventRecall</th>\n",
       "    </tr>\n",
       "  </thead>\n",
       "  <tbody>\n",
       "    <tr>\n",
       "      <th>0</th>\n",
       "      <td>0001</td>\n",
       "      <td>0.691854</td>\n",
       "      <td>0.901538</td>\n",
       "      <td>0.561303</td>\n",
       "    </tr>\n",
       "    <tr>\n",
       "      <th>1</th>\n",
       "      <td>0002</td>\n",
       "      <td>0.795585</td>\n",
       "      <td>0.746738</td>\n",
       "      <td>0.851269</td>\n",
       "    </tr>\n",
       "    <tr>\n",
       "      <th>2</th>\n",
       "      <td>0003</td>\n",
       "      <td>0.644578</td>\n",
       "      <td>0.566138</td>\n",
       "      <td>0.748252</td>\n",
       "    </tr>\n",
       "    <tr>\n",
       "      <th>3</th>\n",
       "      <td>0005</td>\n",
       "      <td>0.662192</td>\n",
       "      <td>0.535262</td>\n",
       "      <td>0.868035</td>\n",
       "    </tr>\n",
       "    <tr>\n",
       "      <th>4</th>\n",
       "      <td>0006</td>\n",
       "      <td>0.682119</td>\n",
       "      <td>0.677632</td>\n",
       "      <td>0.686667</td>\n",
       "    </tr>\n",
       "    <tr>\n",
       "      <th>5</th>\n",
       "      <td>0007</td>\n",
       "      <td>0.647277</td>\n",
       "      <td>0.518519</td>\n",
       "      <td>0.860746</td>\n",
       "    </tr>\n",
       "    <tr>\n",
       "      <th>6</th>\n",
       "      <td>0009</td>\n",
       "      <td>0.776090</td>\n",
       "      <td>0.840000</td>\n",
       "      <td>0.721130</td>\n",
       "    </tr>\n",
       "    <tr>\n",
       "      <th>7</th>\n",
       "      <td>0010</td>\n",
       "      <td>0.772598</td>\n",
       "      <td>0.704357</td>\n",
       "      <td>0.855346</td>\n",
       "    </tr>\n",
       "    <tr>\n",
       "      <th>8</th>\n",
       "      <td>0011</td>\n",
       "      <td>0.681954</td>\n",
       "      <td>0.534017</td>\n",
       "      <td>0.943894</td>\n",
       "    </tr>\n",
       "    <tr>\n",
       "      <th>9</th>\n",
       "      <td>0012</td>\n",
       "      <td>0.734463</td>\n",
       "      <td>0.735502</td>\n",
       "      <td>0.733427</td>\n",
       "    </tr>\n",
       "    <tr>\n",
       "      <th>10</th>\n",
       "      <td>0013</td>\n",
       "      <td>0.675676</td>\n",
       "      <td>0.523357</td>\n",
       "      <td>0.951289</td>\n",
       "    </tr>\n",
       "    <tr>\n",
       "      <th>11</th>\n",
       "      <td>0014</td>\n",
       "      <td>0.604733</td>\n",
       "      <td>0.436943</td>\n",
       "      <td>0.974719</td>\n",
       "    </tr>\n",
       "    <tr>\n",
       "      <th>12</th>\n",
       "      <td>0017</td>\n",
       "      <td>0.741706</td>\n",
       "      <td>0.834225</td>\n",
       "      <td>0.668085</td>\n",
       "    </tr>\n",
       "    <tr>\n",
       "      <th>13</th>\n",
       "      <td>0018</td>\n",
       "      <td>0.747358</td>\n",
       "      <td>0.847495</td>\n",
       "      <td>0.668385</td>\n",
       "    </tr>\n",
       "    <tr>\n",
       "      <th>14</th>\n",
       "      <td>0019</td>\n",
       "      <td>0.569863</td>\n",
       "      <td>0.400000</td>\n",
       "      <td>0.990476</td>\n",
       "    </tr>\n",
       "  </tbody>\n",
       "</table>\n",
       "</div>"
      ],
      "text/plain": [
       "    test   eventF1  eventPrecision  eventRecall\n",
       "0   0001  0.691854        0.901538     0.561303\n",
       "1   0002  0.795585        0.746738     0.851269\n",
       "2   0003  0.644578        0.566138     0.748252\n",
       "3   0005  0.662192        0.535262     0.868035\n",
       "4   0006  0.682119        0.677632     0.686667\n",
       "5   0007  0.647277        0.518519     0.860746\n",
       "6   0009  0.776090        0.840000     0.721130\n",
       "7   0010  0.772598        0.704357     0.855346\n",
       "8   0011  0.681954        0.534017     0.943894\n",
       "9   0012  0.734463        0.735502     0.733427\n",
       "10  0013  0.675676        0.523357     0.951289\n",
       "11  0014  0.604733        0.436943     0.974719\n",
       "12  0017  0.741706        0.834225     0.668085\n",
       "13  0018  0.747358        0.847495     0.668385\n",
       "14  0019  0.569863        0.400000     0.990476"
      ]
     },
     "execution_count": 25,
     "metadata": {},
     "output_type": "execute_result"
    }
   ],
   "source": [
    "experimentModels[['test','eventF1','eventPrecision','eventRecall']].groupby('test',as_index=False).mean()"
   ]
  },
  {
   "cell_type": "code",
   "execution_count": 26,
   "metadata": {},
   "outputs": [
    {
     "data": {
      "text/plain": [
       "test              6.668000e+54\n",
       "eventF1           6.952031e-01\n",
       "eventPrecision    6.534481e-01\n",
       "eventRecall       8.055349e-01\n",
       "dtype: float64"
      ]
     },
     "execution_count": 26,
     "metadata": {},
     "output_type": "execute_result"
    }
   ],
   "source": [
    "experimentModels[['test','eventF1','eventPrecision','eventRecall']].groupby('test',as_index=False).mean().mean()"
   ]
  },
  {
   "cell_type": "code",
   "execution_count": 27,
   "metadata": {},
   "outputs": [
    {
     "name": "stderr",
     "output_type": "stream",
     "text": [
      "C:\\Users\\Gurdiel\\AppData\\Local\\Temp\\ipykernel_8236\\2931376690.py:1: FutureWarning:\n",
      "\n",
      "The default value of numeric_only in DataFrame.std is deprecated. In a future version, it will default to False. In addition, specifying 'numeric_only=None' is deprecated. Select only valid columns or specify the value of numeric_only to silence this warning.\n",
      "\n"
     ]
    },
    {
     "data": {
      "text/plain": [
       "eventF1           0.065256\n",
       "eventPrecision    0.161995\n",
       "eventRecall       0.131428\n",
       "dtype: float64"
      ]
     },
     "execution_count": 27,
     "metadata": {},
     "output_type": "execute_result"
    }
   ],
   "source": [
    "experimentModels[['test','eventF1','eventPrecision','eventRecall']].groupby('test',as_index=False).mean().std()"
   ]
  },
  {
   "cell_type": "code",
   "execution_count": 28,
   "metadata": {},
   "outputs": [],
   "source": [
    "auxPrecision=pd.DataFrame({\n",
    "    'metric':'event precision',\n",
    "    'value':experimentModels.eventPrecision,\n",
    "    'event F1':experimentModels.eventF1\n",
    "})\n",
    "\n",
    "auxRecall=pd.DataFrame({\n",
    "    'metric':'event recall',\n",
    "    'value':experimentModels.eventRecall,\n",
    "    'event F1':experimentModels.eventF1\n",
    "})\n",
    "visualTradeoff=pd.concat((auxPrecision,auxRecall))"
   ]
  },
  {
   "cell_type": "code",
   "execution_count": 29,
   "metadata": {},
   "outputs": [
    {
     "data": {
      "application/vnd.plotly.v1+json": {
       "config": {
        "plotlyServerURL": "https://plot.ly"
       },
       "data": [
        {
         "hovertemplate": "metric=event precision<br>event F1=%{x}<br>value=%{y}<extra></extra>",
         "legendgroup": "event precision",
         "marker": {
          "color": "#636efa",
          "symbol": "circle"
         },
         "mode": "markers",
         "name": "event precision",
         "orientation": "v",
         "showlegend": true,
         "type": "scatter",
         "x": [
          0.69185360094451,
          0.7955846279640229,
          0.6445783132530121,
          0.6621923937360179,
          0.6821192052980133,
          0.6472772277227723,
          0.7760898282694848,
          0.7725980670835703,
          0.6819535437760572,
          0.7344632768361582,
          0.6756756756756757,
          0.6047326906222612,
          0.7417061611374408,
          0.7473583093179635,
          0.5698630136986301
         ],
         "xaxis": "x",
         "y": [
          0.9015384615384615,
          0.7467382962394474,
          0.5661375661375662,
          0.5352622061482821,
          0.6776315789473685,
          0.5185185185185185,
          0.84,
          0.7043568464730291,
          0.5340167753960857,
          0.7355021216407355,
          0.5233570863024545,
          0.4369426751592357,
          0.8342245989304813,
          0.8474945533769063,
          0.4
         ],
         "yaxis": "y"
        },
        {
         "alignmentgroup": "True",
         "bingroup": "y",
         "hovertemplate": "metric=event precision<br>value=%{y}<br>count=%{x}<extra></extra>",
         "legendgroup": "event precision",
         "marker": {
          "color": "#636efa"
         },
         "name": "event precision",
         "offsetgroup": "event precision",
         "opacity": 0.5,
         "showlegend": false,
         "type": "histogram",
         "xaxis": "x2",
         "y": [
          0.9015384615384615,
          0.7467382962394474,
          0.5661375661375662,
          0.5352622061482821,
          0.6776315789473685,
          0.5185185185185185,
          0.84,
          0.7043568464730291,
          0.5340167753960857,
          0.7355021216407355,
          0.5233570863024545,
          0.4369426751592357,
          0.8342245989304813,
          0.8474945533769063,
          0.4
         ],
         "yaxis": "y2"
        },
        {
         "hovertemplate": "metric=event recall<br>event F1=%{x}<br>value=%{y}<extra></extra>",
         "legendgroup": "event recall",
         "marker": {
          "color": "#EF553B",
          "symbol": "circle"
         },
         "mode": "markers",
         "name": "event recall",
         "orientation": "v",
         "showlegend": true,
         "type": "scatter",
         "x": [
          0.69185360094451,
          0.7955846279640229,
          0.6445783132530121,
          0.6621923937360179,
          0.6821192052980133,
          0.6472772277227723,
          0.7760898282694848,
          0.7725980670835703,
          0.6819535437760572,
          0.7344632768361582,
          0.6756756756756757,
          0.6047326906222612,
          0.7417061611374408,
          0.7473583093179635,
          0.5698630136986301
         ],
         "xaxis": "x",
         "y": [
          0.5613026819923371,
          0.8512685914260717,
          0.7482517482517482,
          0.8680351906158358,
          0.6866666666666666,
          0.8607456140350878,
          0.7211302211302212,
          0.8553459119496856,
          0.9438943894389439,
          0.7334273624823695,
          0.9512893982808023,
          0.9747191011235955,
          0.6680851063829787,
          0.6683848797250859,
          0.9904761904761905
         ],
         "yaxis": "y"
        },
        {
         "alignmentgroup": "True",
         "bingroup": "y",
         "hovertemplate": "metric=event recall<br>value=%{y}<br>count=%{x}<extra></extra>",
         "legendgroup": "event recall",
         "marker": {
          "color": "#EF553B"
         },
         "name": "event recall",
         "offsetgroup": "event recall",
         "opacity": 0.5,
         "showlegend": false,
         "type": "histogram",
         "xaxis": "x2",
         "y": [
          0.5613026819923371,
          0.8512685914260717,
          0.7482517482517482,
          0.8680351906158358,
          0.6866666666666666,
          0.8607456140350878,
          0.7211302211302212,
          0.8553459119496856,
          0.9438943894389439,
          0.7334273624823695,
          0.9512893982808023,
          0.9747191011235955,
          0.6680851063829787,
          0.6683848797250859,
          0.9904761904761905
         ],
         "yaxis": "y2"
        },
        {
         "fill": "toself",
         "mode": "lines",
         "name": "identity",
         "type": "scatter",
         "x": [
          0.69185360094451,
          0.7955846279640229,
          0.6445783132530121,
          0.6621923937360179,
          0.6821192052980133,
          0.6472772277227723,
          0.7760898282694848,
          0.7725980670835703,
          0.6819535437760572,
          0.7344632768361582,
          0.6756756756756757,
          0.6047326906222612,
          0.7417061611374408,
          0.7473583093179635,
          0.5698630136986301
         ],
         "y": [
          0.69185360094451,
          0.7955846279640229,
          0.6445783132530121,
          0.6621923937360179,
          0.6821192052980133,
          0.6472772277227723,
          0.7760898282694848,
          0.7725980670835703,
          0.6819535437760572,
          0.7344632768361582,
          0.6756756756756757,
          0.6047326906222612,
          0.7417061611374408,
          0.7473583093179635,
          0.5698630136986301
         ]
        }
       ],
       "layout": {
        "barmode": "overlay",
        "legend": {
         "title": {
          "text": "metric"
         },
         "tracegroupgap": 0
        },
        "margin": {
         "t": 60
        },
        "template": {
         "data": {
          "bar": [
           {
            "error_x": {
             "color": "#2a3f5f"
            },
            "error_y": {
             "color": "#2a3f5f"
            },
            "marker": {
             "line": {
              "color": "#E5ECF6",
              "width": 0.5
             },
             "pattern": {
              "fillmode": "overlay",
              "size": 10,
              "solidity": 0.2
             }
            },
            "type": "bar"
           }
          ],
          "barpolar": [
           {
            "marker": {
             "line": {
              "color": "#E5ECF6",
              "width": 0.5
             },
             "pattern": {
              "fillmode": "overlay",
              "size": 10,
              "solidity": 0.2
             }
            },
            "type": "barpolar"
           }
          ],
          "carpet": [
           {
            "aaxis": {
             "endlinecolor": "#2a3f5f",
             "gridcolor": "white",
             "linecolor": "white",
             "minorgridcolor": "white",
             "startlinecolor": "#2a3f5f"
            },
            "baxis": {
             "endlinecolor": "#2a3f5f",
             "gridcolor": "white",
             "linecolor": "white",
             "minorgridcolor": "white",
             "startlinecolor": "#2a3f5f"
            },
            "type": "carpet"
           }
          ],
          "choropleth": [
           {
            "colorbar": {
             "outlinewidth": 0,
             "ticks": ""
            },
            "type": "choropleth"
           }
          ],
          "contour": [
           {
            "colorbar": {
             "outlinewidth": 0,
             "ticks": ""
            },
            "colorscale": [
             [
              0,
              "#0d0887"
             ],
             [
              0.1111111111111111,
              "#46039f"
             ],
             [
              0.2222222222222222,
              "#7201a8"
             ],
             [
              0.3333333333333333,
              "#9c179e"
             ],
             [
              0.4444444444444444,
              "#bd3786"
             ],
             [
              0.5555555555555556,
              "#d8576b"
             ],
             [
              0.6666666666666666,
              "#ed7953"
             ],
             [
              0.7777777777777778,
              "#fb9f3a"
             ],
             [
              0.8888888888888888,
              "#fdca26"
             ],
             [
              1,
              "#f0f921"
             ]
            ],
            "type": "contour"
           }
          ],
          "contourcarpet": [
           {
            "colorbar": {
             "outlinewidth": 0,
             "ticks": ""
            },
            "type": "contourcarpet"
           }
          ],
          "heatmap": [
           {
            "colorbar": {
             "outlinewidth": 0,
             "ticks": ""
            },
            "colorscale": [
             [
              0,
              "#0d0887"
             ],
             [
              0.1111111111111111,
              "#46039f"
             ],
             [
              0.2222222222222222,
              "#7201a8"
             ],
             [
              0.3333333333333333,
              "#9c179e"
             ],
             [
              0.4444444444444444,
              "#bd3786"
             ],
             [
              0.5555555555555556,
              "#d8576b"
             ],
             [
              0.6666666666666666,
              "#ed7953"
             ],
             [
              0.7777777777777778,
              "#fb9f3a"
             ],
             [
              0.8888888888888888,
              "#fdca26"
             ],
             [
              1,
              "#f0f921"
             ]
            ],
            "type": "heatmap"
           }
          ],
          "heatmapgl": [
           {
            "colorbar": {
             "outlinewidth": 0,
             "ticks": ""
            },
            "colorscale": [
             [
              0,
              "#0d0887"
             ],
             [
              0.1111111111111111,
              "#46039f"
             ],
             [
              0.2222222222222222,
              "#7201a8"
             ],
             [
              0.3333333333333333,
              "#9c179e"
             ],
             [
              0.4444444444444444,
              "#bd3786"
             ],
             [
              0.5555555555555556,
              "#d8576b"
             ],
             [
              0.6666666666666666,
              "#ed7953"
             ],
             [
              0.7777777777777778,
              "#fb9f3a"
             ],
             [
              0.8888888888888888,
              "#fdca26"
             ],
             [
              1,
              "#f0f921"
             ]
            ],
            "type": "heatmapgl"
           }
          ],
          "histogram": [
           {
            "marker": {
             "pattern": {
              "fillmode": "overlay",
              "size": 10,
              "solidity": 0.2
             }
            },
            "type": "histogram"
           }
          ],
          "histogram2d": [
           {
            "colorbar": {
             "outlinewidth": 0,
             "ticks": ""
            },
            "colorscale": [
             [
              0,
              "#0d0887"
             ],
             [
              0.1111111111111111,
              "#46039f"
             ],
             [
              0.2222222222222222,
              "#7201a8"
             ],
             [
              0.3333333333333333,
              "#9c179e"
             ],
             [
              0.4444444444444444,
              "#bd3786"
             ],
             [
              0.5555555555555556,
              "#d8576b"
             ],
             [
              0.6666666666666666,
              "#ed7953"
             ],
             [
              0.7777777777777778,
              "#fb9f3a"
             ],
             [
              0.8888888888888888,
              "#fdca26"
             ],
             [
              1,
              "#f0f921"
             ]
            ],
            "type": "histogram2d"
           }
          ],
          "histogram2dcontour": [
           {
            "colorbar": {
             "outlinewidth": 0,
             "ticks": ""
            },
            "colorscale": [
             [
              0,
              "#0d0887"
             ],
             [
              0.1111111111111111,
              "#46039f"
             ],
             [
              0.2222222222222222,
              "#7201a8"
             ],
             [
              0.3333333333333333,
              "#9c179e"
             ],
             [
              0.4444444444444444,
              "#bd3786"
             ],
             [
              0.5555555555555556,
              "#d8576b"
             ],
             [
              0.6666666666666666,
              "#ed7953"
             ],
             [
              0.7777777777777778,
              "#fb9f3a"
             ],
             [
              0.8888888888888888,
              "#fdca26"
             ],
             [
              1,
              "#f0f921"
             ]
            ],
            "type": "histogram2dcontour"
           }
          ],
          "mesh3d": [
           {
            "colorbar": {
             "outlinewidth": 0,
             "ticks": ""
            },
            "type": "mesh3d"
           }
          ],
          "parcoords": [
           {
            "line": {
             "colorbar": {
              "outlinewidth": 0,
              "ticks": ""
             }
            },
            "type": "parcoords"
           }
          ],
          "pie": [
           {
            "automargin": true,
            "type": "pie"
           }
          ],
          "scatter": [
           {
            "fillpattern": {
             "fillmode": "overlay",
             "size": 10,
             "solidity": 0.2
            },
            "type": "scatter"
           }
          ],
          "scatter3d": [
           {
            "line": {
             "colorbar": {
              "outlinewidth": 0,
              "ticks": ""
             }
            },
            "marker": {
             "colorbar": {
              "outlinewidth": 0,
              "ticks": ""
             }
            },
            "type": "scatter3d"
           }
          ],
          "scattercarpet": [
           {
            "marker": {
             "colorbar": {
              "outlinewidth": 0,
              "ticks": ""
             }
            },
            "type": "scattercarpet"
           }
          ],
          "scattergeo": [
           {
            "marker": {
             "colorbar": {
              "outlinewidth": 0,
              "ticks": ""
             }
            },
            "type": "scattergeo"
           }
          ],
          "scattergl": [
           {
            "marker": {
             "colorbar": {
              "outlinewidth": 0,
              "ticks": ""
             }
            },
            "type": "scattergl"
           }
          ],
          "scattermapbox": [
           {
            "marker": {
             "colorbar": {
              "outlinewidth": 0,
              "ticks": ""
             }
            },
            "type": "scattermapbox"
           }
          ],
          "scatterpolar": [
           {
            "marker": {
             "colorbar": {
              "outlinewidth": 0,
              "ticks": ""
             }
            },
            "type": "scatterpolar"
           }
          ],
          "scatterpolargl": [
           {
            "marker": {
             "colorbar": {
              "outlinewidth": 0,
              "ticks": ""
             }
            },
            "type": "scatterpolargl"
           }
          ],
          "scatterternary": [
           {
            "marker": {
             "colorbar": {
              "outlinewidth": 0,
              "ticks": ""
             }
            },
            "type": "scatterternary"
           }
          ],
          "surface": [
           {
            "colorbar": {
             "outlinewidth": 0,
             "ticks": ""
            },
            "colorscale": [
             [
              0,
              "#0d0887"
             ],
             [
              0.1111111111111111,
              "#46039f"
             ],
             [
              0.2222222222222222,
              "#7201a8"
             ],
             [
              0.3333333333333333,
              "#9c179e"
             ],
             [
              0.4444444444444444,
              "#bd3786"
             ],
             [
              0.5555555555555556,
              "#d8576b"
             ],
             [
              0.6666666666666666,
              "#ed7953"
             ],
             [
              0.7777777777777778,
              "#fb9f3a"
             ],
             [
              0.8888888888888888,
              "#fdca26"
             ],
             [
              1,
              "#f0f921"
             ]
            ],
            "type": "surface"
           }
          ],
          "table": [
           {
            "cells": {
             "fill": {
              "color": "#EBF0F8"
             },
             "line": {
              "color": "white"
             }
            },
            "header": {
             "fill": {
              "color": "#C8D4E3"
             },
             "line": {
              "color": "white"
             }
            },
            "type": "table"
           }
          ]
         },
         "layout": {
          "annotationdefaults": {
           "arrowcolor": "#2a3f5f",
           "arrowhead": 0,
           "arrowwidth": 1
          },
          "autotypenumbers": "strict",
          "coloraxis": {
           "colorbar": {
            "outlinewidth": 0,
            "ticks": ""
           }
          },
          "colorscale": {
           "diverging": [
            [
             0,
             "#8e0152"
            ],
            [
             0.1,
             "#c51b7d"
            ],
            [
             0.2,
             "#de77ae"
            ],
            [
             0.3,
             "#f1b6da"
            ],
            [
             0.4,
             "#fde0ef"
            ],
            [
             0.5,
             "#f7f7f7"
            ],
            [
             0.6,
             "#e6f5d0"
            ],
            [
             0.7,
             "#b8e186"
            ],
            [
             0.8,
             "#7fbc41"
            ],
            [
             0.9,
             "#4d9221"
            ],
            [
             1,
             "#276419"
            ]
           ],
           "sequential": [
            [
             0,
             "#0d0887"
            ],
            [
             0.1111111111111111,
             "#46039f"
            ],
            [
             0.2222222222222222,
             "#7201a8"
            ],
            [
             0.3333333333333333,
             "#9c179e"
            ],
            [
             0.4444444444444444,
             "#bd3786"
            ],
            [
             0.5555555555555556,
             "#d8576b"
            ],
            [
             0.6666666666666666,
             "#ed7953"
            ],
            [
             0.7777777777777778,
             "#fb9f3a"
            ],
            [
             0.8888888888888888,
             "#fdca26"
            ],
            [
             1,
             "#f0f921"
            ]
           ],
           "sequentialminus": [
            [
             0,
             "#0d0887"
            ],
            [
             0.1111111111111111,
             "#46039f"
            ],
            [
             0.2222222222222222,
             "#7201a8"
            ],
            [
             0.3333333333333333,
             "#9c179e"
            ],
            [
             0.4444444444444444,
             "#bd3786"
            ],
            [
             0.5555555555555556,
             "#d8576b"
            ],
            [
             0.6666666666666666,
             "#ed7953"
            ],
            [
             0.7777777777777778,
             "#fb9f3a"
            ],
            [
             0.8888888888888888,
             "#fdca26"
            ],
            [
             1,
             "#f0f921"
            ]
           ]
          },
          "colorway": [
           "#636efa",
           "#EF553B",
           "#00cc96",
           "#ab63fa",
           "#FFA15A",
           "#19d3f3",
           "#FF6692",
           "#B6E880",
           "#FF97FF",
           "#FECB52"
          ],
          "font": {
           "color": "#2a3f5f"
          },
          "geo": {
           "bgcolor": "white",
           "lakecolor": "white",
           "landcolor": "#E5ECF6",
           "showlakes": true,
           "showland": true,
           "subunitcolor": "white"
          },
          "hoverlabel": {
           "align": "left"
          },
          "hovermode": "closest",
          "mapbox": {
           "style": "light"
          },
          "paper_bgcolor": "white",
          "plot_bgcolor": "#E5ECF6",
          "polar": {
           "angularaxis": {
            "gridcolor": "white",
            "linecolor": "white",
            "ticks": ""
           },
           "bgcolor": "#E5ECF6",
           "radialaxis": {
            "gridcolor": "white",
            "linecolor": "white",
            "ticks": ""
           }
          },
          "scene": {
           "xaxis": {
            "backgroundcolor": "#E5ECF6",
            "gridcolor": "white",
            "gridwidth": 2,
            "linecolor": "white",
            "showbackground": true,
            "ticks": "",
            "zerolinecolor": "white"
           },
           "yaxis": {
            "backgroundcolor": "#E5ECF6",
            "gridcolor": "white",
            "gridwidth": 2,
            "linecolor": "white",
            "showbackground": true,
            "ticks": "",
            "zerolinecolor": "white"
           },
           "zaxis": {
            "backgroundcolor": "#E5ECF6",
            "gridcolor": "white",
            "gridwidth": 2,
            "linecolor": "white",
            "showbackground": true,
            "ticks": "",
            "zerolinecolor": "white"
           }
          },
          "shapedefaults": {
           "line": {
            "color": "#2a3f5f"
           }
          },
          "ternary": {
           "aaxis": {
            "gridcolor": "white",
            "linecolor": "white",
            "ticks": ""
           },
           "baxis": {
            "gridcolor": "white",
            "linecolor": "white",
            "ticks": ""
           },
           "bgcolor": "#E5ECF6",
           "caxis": {
            "gridcolor": "white",
            "linecolor": "white",
            "ticks": ""
           }
          },
          "title": {
           "x": 0.05
          },
          "xaxis": {
           "automargin": true,
           "gridcolor": "white",
           "linecolor": "white",
           "ticks": "",
           "title": {
            "standoff": 15
           },
           "zerolinecolor": "white",
           "zerolinewidth": 2
          },
          "yaxis": {
           "automargin": true,
           "gridcolor": "white",
           "linecolor": "white",
           "ticks": "",
           "title": {
            "standoff": 15
           },
           "zerolinecolor": "white",
           "zerolinewidth": 2
          }
         }
        },
        "xaxis": {
         "anchor": "y",
         "domain": [
          0,
          0.7363
         ],
         "title": {
          "text": "event F1"
         }
        },
        "xaxis2": {
         "anchor": "y2",
         "domain": [
          0.7413,
          1
         ],
         "matches": "x2",
         "showgrid": true,
         "showline": false,
         "showticklabels": false,
         "ticks": ""
        },
        "yaxis": {
         "anchor": "x",
         "domain": [
          0,
          1
         ],
         "title": {
          "text": "value"
         }
        },
        "yaxis2": {
         "anchor": "x2",
         "domain": [
          0,
          1
         ],
         "matches": "y",
         "showgrid": true,
         "showticklabels": false
        }
       }
      }
     },
     "metadata": {},
     "output_type": "display_data"
    }
   ],
   "source": [
    "fig=px.scatter(visualTradeoff,x='event F1',y='value',color='metric', marginal_y=\"histogram\")\n",
    "fig.add_trace(\n",
    "    go.Scatter(x=experimentModels['eventF1'], y=experimentModels['eventF1'], name=\"identity\", mode='lines',fill=\"toself\")\n",
    ")\n",
    "fig.show()"
   ]
  },
  {
   "attachments": {},
   "cell_type": "markdown",
   "metadata": {},
   "source": [
    "## Restrict to only N2 stage"
   ]
  },
  {
   "cell_type": "code",
   "execution_count": 30,
   "metadata": {},
   "outputs": [
    {
     "data": {
      "text/html": [
       "<div>\n",
       "<style scoped>\n",
       "    .dataframe tbody tr th:only-of-type {\n",
       "        vertical-align: middle;\n",
       "    }\n",
       "\n",
       "    .dataframe tbody tr th {\n",
       "        vertical-align: top;\n",
       "    }\n",
       "\n",
       "    .dataframe thead th {\n",
       "        text-align: right;\n",
       "    }\n",
       "</style>\n",
       "<table border=\"1\" class=\"dataframe\">\n",
       "  <thead>\n",
       "    <tr style=\"text-align: right;\">\n",
       "      <th></th>\n",
       "      <th>criteriumId</th>\n",
       "      <th>criteriumName</th>\n",
       "      <th>labelerIdList</th>\n",
       "      <th>train</th>\n",
       "      <th>val</th>\n",
       "      <th>test</th>\n",
       "      <th>modelId</th>\n",
       "      <th>spindleTimeRate</th>\n",
       "      <th>rawF1</th>\n",
       "      <th>rawPrecision</th>\n",
       "      <th>rawRecall</th>\n",
       "      <th>f1</th>\n",
       "      <th>precision</th>\n",
       "      <th>recall</th>\n",
       "      <th>eventF1</th>\n",
       "      <th>eventPrecision</th>\n",
       "      <th>eventRecall</th>\n",
       "    </tr>\n",
       "  </thead>\n",
       "  <tbody>\n",
       "    <tr>\n",
       "      <th>0</th>\n",
       "      <td>0001</td>\n",
       "      <td>E1</td>\n",
       "      <td>[0001]</td>\n",
       "      <td>[0003, 0005, 0007, 0009, 0010, 0011, 0012, 001...</td>\n",
       "      <td>[0017, 0002, 0006]</td>\n",
       "      <td>0001</td>\n",
       "      <td>8b2ea581-6dec-4094-957e-cc1ceb7234c5</td>\n",
       "      <td>0.018639</td>\n",
       "      <td>0.627405</td>\n",
       "      <td>0.841833</td>\n",
       "      <td>0.500038</td>\n",
       "      <td>0.632463</td>\n",
       "      <td>0.836215</td>\n",
       "      <td>0.508550</td>\n",
       "      <td>0.691854</td>\n",
       "      <td>0.901538</td>\n",
       "      <td>0.561303</td>\n",
       "    </tr>\n",
       "    <tr>\n",
       "      <th>1</th>\n",
       "      <td>0001</td>\n",
       "      <td>E1</td>\n",
       "      <td>[0001]</td>\n",
       "      <td>[0001, 0003, 0005, 0007, 0009, 0010, 0011, 001...</td>\n",
       "      <td>[0006, 0013, 0019]</td>\n",
       "      <td>0002</td>\n",
       "      <td>80181036-469f-4bcf-95a0-68374649133a</td>\n",
       "      <td>0.020055</td>\n",
       "      <td>0.733682</td>\n",
       "      <td>0.714589</td>\n",
       "      <td>0.753823</td>\n",
       "      <td>0.735693</td>\n",
       "      <td>0.715506</td>\n",
       "      <td>0.757052</td>\n",
       "      <td>0.795585</td>\n",
       "      <td>0.746738</td>\n",
       "      <td>0.851269</td>\n",
       "    </tr>\n",
       "    <tr>\n",
       "      <th>2</th>\n",
       "      <td>0001</td>\n",
       "      <td>E1</td>\n",
       "      <td>[0001]</td>\n",
       "      <td>[0002, 0005, 0007, 0009, 0010, 0011, 0012, 001...</td>\n",
       "      <td>[0013, 0006, 0001]</td>\n",
       "      <td>0003</td>\n",
       "      <td>f6cafb09-5e74-4889-a306-e517e28d70fe</td>\n",
       "      <td>0.021075</td>\n",
       "      <td>0.617334</td>\n",
       "      <td>0.551438</td>\n",
       "      <td>0.701114</td>\n",
       "      <td>0.619282</td>\n",
       "      <td>0.552762</td>\n",
       "      <td>0.704002</td>\n",
       "      <td>0.644578</td>\n",
       "      <td>0.566138</td>\n",
       "      <td>0.748252</td>\n",
       "    </tr>\n",
       "    <tr>\n",
       "      <th>3</th>\n",
       "      <td>0001</td>\n",
       "      <td>E1</td>\n",
       "      <td>[0001]</td>\n",
       "      <td>[0001, 0002, 0003, 0006, 0007, 0009, 0010, 001...</td>\n",
       "      <td>[0018, 0014, 0012]</td>\n",
       "      <td>0005</td>\n",
       "      <td>2bf1e17a-c8bb-4166-8453-7fdff2414b10</td>\n",
       "      <td>0.018331</td>\n",
       "      <td>0.598996</td>\n",
       "      <td>0.488493</td>\n",
       "      <td>0.774106</td>\n",
       "      <td>0.606982</td>\n",
       "      <td>0.495039</td>\n",
       "      <td>0.784345</td>\n",
       "      <td>0.662192</td>\n",
       "      <td>0.535262</td>\n",
       "      <td>0.868035</td>\n",
       "    </tr>\n",
       "    <tr>\n",
       "      <th>4</th>\n",
       "      <td>0001</td>\n",
       "      <td>E1</td>\n",
       "      <td>[0001]</td>\n",
       "      <td>[0003, 0007, 0009, 0010, 0011, 0012, 0013, 001...</td>\n",
       "      <td>[0005, 0001, 0002]</td>\n",
       "      <td>0006</td>\n",
       "      <td>0feacbcf-4f37-402e-8fbc-4e48a2520bd4</td>\n",
       "      <td>0.019222</td>\n",
       "      <td>0.607848</td>\n",
       "      <td>0.648662</td>\n",
       "      <td>0.571866</td>\n",
       "      <td>0.617070</td>\n",
       "      <td>0.666464</td>\n",
       "      <td>0.574492</td>\n",
       "      <td>0.682119</td>\n",
       "      <td>0.677632</td>\n",
       "      <td>0.686667</td>\n",
       "    </tr>\n",
       "  </tbody>\n",
       "</table>\n",
       "</div>"
      ],
      "text/plain": [
       "  criteriumId criteriumName labelerIdList  \\\n",
       "0        0001            E1        [0001]   \n",
       "1        0001            E1        [0001]   \n",
       "2        0001            E1        [0001]   \n",
       "3        0001            E1        [0001]   \n",
       "4        0001            E1        [0001]   \n",
       "\n",
       "                                               train                 val  \\\n",
       "0  [0003, 0005, 0007, 0009, 0010, 0011, 0012, 001...  [0017, 0002, 0006]   \n",
       "1  [0001, 0003, 0005, 0007, 0009, 0010, 0011, 001...  [0006, 0013, 0019]   \n",
       "2  [0002, 0005, 0007, 0009, 0010, 0011, 0012, 001...  [0013, 0006, 0001]   \n",
       "3  [0001, 0002, 0003, 0006, 0007, 0009, 0010, 001...  [0018, 0014, 0012]   \n",
       "4  [0003, 0007, 0009, 0010, 0011, 0012, 0013, 001...  [0005, 0001, 0002]   \n",
       "\n",
       "   test                               modelId  spindleTimeRate     rawF1  \\\n",
       "0  0001  8b2ea581-6dec-4094-957e-cc1ceb7234c5         0.018639  0.627405   \n",
       "1  0002  80181036-469f-4bcf-95a0-68374649133a         0.020055  0.733682   \n",
       "2  0003  f6cafb09-5e74-4889-a306-e517e28d70fe         0.021075  0.617334   \n",
       "3  0005  2bf1e17a-c8bb-4166-8453-7fdff2414b10         0.018331  0.598996   \n",
       "4  0006  0feacbcf-4f37-402e-8fbc-4e48a2520bd4         0.019222  0.607848   \n",
       "\n",
       "   rawPrecision  rawRecall        f1  precision    recall   eventF1  \\\n",
       "0      0.841833   0.500038  0.632463   0.836215  0.508550  0.691854   \n",
       "1      0.714589   0.753823  0.735693   0.715506  0.757052  0.795585   \n",
       "2      0.551438   0.701114  0.619282   0.552762  0.704002  0.644578   \n",
       "3      0.488493   0.774106  0.606982   0.495039  0.784345  0.662192   \n",
       "4      0.648662   0.571866  0.617070   0.666464  0.574492  0.682119   \n",
       "\n",
       "   eventPrecision  eventRecall  \n",
       "0        0.901538     0.561303  \n",
       "1        0.746738     0.851269  \n",
       "2        0.566138     0.748252  \n",
       "3        0.535262     0.868035  \n",
       "4        0.677632     0.686667  "
      ]
     },
     "execution_count": 30,
     "metadata": {},
     "output_type": "execute_result"
    }
   ],
   "source": [
    "experimentModels_N2=experimentModels.copy()\n",
    "experimentModels_N2.head()"
   ]
  },
  {
   "cell_type": "code",
   "execution_count": 16,
   "metadata": {},
   "outputs": [],
   "source": [
    "annotationsN2=pd.read_csv(datapath+'/MASS/annotations/spindlesFilteredN2.csv')\n",
    "annotationsN2['samplerate']=samplerate\n",
    "annotationsN2['subjectId']=annotationsN2.apply(\n",
    "    lambda row: str(row.subjectId).zfill(4),axis=1)\n",
    "annotationsN2['labelerId']=annotationsN2.apply(\n",
    "    lambda row: str(row.labelerId).zfill(4),axis=1)\n",
    "annotationsN2['stopTime']=annotationsN2.apply(\n",
    "    lambda row: row.startTime+row.duration , axis=1)\n",
    "annotationsN2['startInd']=annotationsN2.apply(\n",
    "    lambda row: seconds2index(row.startTime,row.samplerate) , axis=1)\n",
    "annotationsN2['stopInd']=annotationsN2.apply(\n",
    "    lambda row: seconds2index(row.stopTime,row.samplerate) , axis=1)"
   ]
  },
  {
   "cell_type": "code",
   "execution_count": 17,
   "metadata": {},
   "outputs": [],
   "source": [
    "## load hypnograms\n",
    "stagesAnnotations=pd.read_csv(datapath+\"\\MASS\\stages\\stages.csv\")\n",
    "stagesAnnotations['samplerate']=samplerate\n",
    "stagesAnnotations['subjectId']=stagesAnnotations.apply(\n",
    "    lambda row: str(row.subjectId).zfill(4),axis=1)\n",
    "stagesAnnotations['stopTime']=stagesAnnotations.apply(\n",
    "    lambda row: row.startTime+row.duration , axis=1)\n",
    "stagesAnnotations['startInd']=stagesAnnotations.apply(\n",
    "    lambda row: seconds2index(row.startTime,row.samplerate) , axis=1)\n",
    "stagesAnnotations['stopInd']=stagesAnnotations.apply(\n",
    "    lambda row: seconds2index(row.stopTime,row.samplerate) , axis=1)\n",
    "stagesAnnotations.head(5)\n",
    "\n",
    "hypnograms={}\n",
    "for ind, row in signalsMetadata.iterrows():\n",
    "    subjectId=row.subjectId\n",
    "    thisStages=stagesAnnotations[stagesAnnotations.subjectId==subjectId]\n",
    "    excerptDimension=int(row.duration*row.samplerate)\n",
    "    thisHypnogram=np.ones((excerptDimension,))*np.nan\n",
    "    for ind_stg, row_stg in thisStages.iterrows():\n",
    "        thisHypnogram[row_stg.startInd:row_stg.stopInd]=row_stg.value\n",
    "    hypnograms[subjectId]=thisHypnogram   "
   ]
  },
  {
   "cell_type": "code",
   "execution_count": 33,
   "metadata": {},
   "outputs": [
    {
     "name": "stdout",
     "output_type": "stream",
     "text": [
      "*************************\n",
      "1 of 15\n",
      "*************************\n",
      "2 of 15\n",
      "*************************\n",
      "3 of 15\n",
      "*************************\n",
      "4 of 15\n",
      "*************************\n",
      "5 of 15\n",
      "*************************\n",
      "6 of 15\n",
      "*************************\n",
      "7 of 15\n",
      "*************************\n",
      "8 of 15\n",
      "*************************\n",
      "9 of 15\n",
      "*************************\n",
      "10 of 15\n",
      "*************************\n",
      "11 of 15\n",
      "*************************\n",
      "12 of 15\n",
      "*************************\n",
      "13 of 15\n",
      "*************************\n",
      "14 of 15\n",
      "*************************\n",
      "15 of 15\n"
     ]
    }
   ],
   "source": [
    "rawF1s=[]\n",
    "rawPrecisions=[]\n",
    "rawRecalls=[]\n",
    "\n",
    "f1s=[]\n",
    "precisions=[]\n",
    "recalls=[]\n",
    "\n",
    "eventF1s=[]\n",
    "eventPrecisions=[]\n",
    "eventRecalls=[]\n",
    "\n",
    "checks=[]\n",
    "\n",
    "for ind,row in experimentModels_N2.iterrows():\n",
    "    print('*************************')\n",
    "    print(str(ind+1)+' of '+str(len(experimentModels_N2)) )\n",
    "    #load model\n",
    "    model=loadBooster(row.modelId,experimentId,datapath)\n",
    "\n",
    "    testSubjectId=row.test\n",
    "    testHypnogram=hypnograms[testSubjectId]\n",
    "    testN2Mask=testHypnogram==2\n",
    "    #Define annotations criterium\n",
    "    usedAnnotations=annotationsN2[annotationsN2.labelerId.isin(row.labelerIdList)].reset_index(drop=True)\n",
    "    #Load features and labels\n",
    "    testFeatures=loadFeatureMatrix([testSubjectId],featureSelection,signalsMetadata,samplerate,datapath)\n",
    "    testLabels=loadLabelsVector([testSubjectId],usedAnnotations,signalsMetadata,samplerate)\n",
    "\n",
    "    #Predict\n",
    "    testDMatrix=xgb.DMatrix(data=testFeatures)\n",
    "    probabilities=model.predict(testDMatrix,iteration_range=(0,hyperDepth))\n",
    "    rawLabels=probabilities>=hyperThres\n",
    "\n",
    "    #Apply mask ---------------------------------->\n",
    "    rawLabels=rawLabels*testN2Mask\n",
    "    #<---------------------------------------------\n",
    "\n",
    "    #Raw Metrics\n",
    "    rawTp=np.sum(rawLabels*testLabels)\n",
    "    rawFp=np.sum(rawLabels*(1-testLabels))\n",
    "    rawTn=np.sum((1-rawLabels)*(1-testLabels))\n",
    "    rawFn=np.sum((1-rawLabels)*testLabels)\n",
    "    #Raw appends\n",
    "    rawF1s.append(2*rawTp/(2*rawTp+rawFp+rawFn))\n",
    "    rawPrecisions.append(rawTp/(rawTp+rawFp) )\n",
    "    rawRecalls.append(rawTp/(rawTp+rawFn))\n",
    "    #Process\n",
    "    processedLabels=labelingProcess(rawLabels,hyperClose,hyperDuration,samplerate)\n",
    "    #Processed metrics\n",
    "    tp=np.sum(processedLabels*testLabels)\n",
    "    fp=np.sum(processedLabels*(1-testLabels))\n",
    "    tn=np.sum((1-processedLabels)*(1-testLabels))\n",
    "    fn=np.sum((1-processedLabels)*testLabels)\n",
    "    #Processed appends\n",
    "    f1s.append(2*tp/(2*tp+fp+fn))\n",
    "    precisions.append(tp/(tp+fp))\n",
    "    recalls.append(tp/(tp+fn))\n",
    "\n",
    "    #By-event metrics\n",
    "    processedAnnotations=labelVectorToAnnotations(processedLabels,samplerate)\n",
    "    gtAnnotations=labelVectorToAnnotations(testLabels,samplerate)   #<- or just filter the annotations\n",
    "    f,r,p=annotationPairToMetrics(gtAnnotations,processedAnnotations)\n",
    "\n",
    "    #calculate metrics\n",
    "    eventF1s.append(f)\n",
    "    eventPrecisions.append(p)\n",
    "    eventRecalls.append(r)\n",
    "\n",
    "#include metrics in the dataframe\n",
    "experimentModels_N2['rawF1']=rawF1s\n",
    "experimentModels_N2['rawPrecision']=rawPrecisions\n",
    "experimentModels_N2['rawRecall']=rawRecalls\n",
    "\n",
    "experimentModels_N2['f1']=f1s\n",
    "experimentModels_N2['precision']=precisions\n",
    "experimentModels_N2['recall']=recalls\n",
    "\n",
    "experimentModels_N2['eventF1']=eventF1s\n",
    "experimentModels_N2['eventPrecision']=eventPrecisions\n",
    "experimentModels_N2['eventRecall']=eventRecalls\n"
   ]
  },
  {
   "cell_type": "code",
   "execution_count": 34,
   "metadata": {},
   "outputs": [],
   "source": [
    "dumpPickle('experimentModelsTest_N2_E1_temp.pkl',experimentModels_N2)"
   ]
  },
  {
   "cell_type": "code",
   "execution_count": 35,
   "metadata": {},
   "outputs": [
    {
     "data": {
      "application/vnd.plotly.v1+json": {
       "config": {
        "plotlyServerURL": "https://plot.ly"
       },
       "data": [
        {
         "hovertemplate": "<b>%{hovertext}</b><br><br>test=0001<br>rawF1=%{x}<br>f1=%{y}<extra></extra>",
         "hovertext": [
          "8b2ea581-6dec-4094-957e-cc1ceb7234c5"
         ],
         "legendgroup": "0001",
         "marker": {
          "color": "#636efa",
          "symbol": "circle"
         },
         "mode": "markers",
         "name": "0001",
         "orientation": "v",
         "showlegend": true,
         "type": "scatter",
         "x": [
          0.6373244405493126
         ],
         "xaxis": "x",
         "y": [
          0.6418864261446368
         ],
         "yaxis": "y"
        },
        {
         "alignmentgroup": "True",
         "bingroup": "y",
         "hovertemplate": "test=0001<br>f1=%{y}<br>count=%{x}<extra></extra>",
         "legendgroup": "0001",
         "marker": {
          "color": "#636efa"
         },
         "name": "0001",
         "offsetgroup": "0001",
         "opacity": 0.5,
         "showlegend": false,
         "type": "histogram",
         "xaxis": "x2",
         "y": [
          0.6418864261446368
         ],
         "yaxis": "y2"
        },
        {
         "hovertemplate": "<b>%{hovertext}</b><br><br>test=0002<br>rawF1=%{x}<br>f1=%{y}<extra></extra>",
         "hovertext": [
          "80181036-469f-4bcf-95a0-68374649133a"
         ],
         "legendgroup": "0002",
         "marker": {
          "color": "#EF553B",
          "symbol": "circle"
         },
         "mode": "markers",
         "name": "0002",
         "orientation": "v",
         "showlegend": true,
         "type": "scatter",
         "x": [
          0.7379983985491492
         ],
         "xaxis": "x",
         "y": [
          0.7396292093520289
         ],
         "yaxis": "y"
        },
        {
         "alignmentgroup": "True",
         "bingroup": "y",
         "hovertemplate": "test=0002<br>f1=%{y}<br>count=%{x}<extra></extra>",
         "legendgroup": "0002",
         "marker": {
          "color": "#EF553B"
         },
         "name": "0002",
         "offsetgroup": "0002",
         "opacity": 0.5,
         "showlegend": false,
         "type": "histogram",
         "xaxis": "x2",
         "y": [
          0.7396292093520289
         ],
         "yaxis": "y2"
        },
        {
         "hovertemplate": "<b>%{hovertext}</b><br><br>test=0003<br>rawF1=%{x}<br>f1=%{y}<extra></extra>",
         "hovertext": [
          "f6cafb09-5e74-4889-a306-e517e28d70fe"
         ],
         "legendgroup": "0003",
         "marker": {
          "color": "#00cc96",
          "symbol": "circle"
         },
         "mode": "markers",
         "name": "0003",
         "orientation": "v",
         "showlegend": true,
         "type": "scatter",
         "x": [
          0.6514167372681917
         ],
         "xaxis": "x",
         "y": [
          0.65629279811098
         ],
         "yaxis": "y"
        },
        {
         "alignmentgroup": "True",
         "bingroup": "y",
         "hovertemplate": "test=0003<br>f1=%{y}<br>count=%{x}<extra></extra>",
         "legendgroup": "0003",
         "marker": {
          "color": "#00cc96"
         },
         "name": "0003",
         "offsetgroup": "0003",
         "opacity": 0.5,
         "showlegend": false,
         "type": "histogram",
         "xaxis": "x2",
         "y": [
          0.65629279811098
         ],
         "yaxis": "y2"
        },
        {
         "hovertemplate": "<b>%{hovertext}</b><br><br>test=0005<br>rawF1=%{x}<br>f1=%{y}<extra></extra>",
         "hovertext": [
          "2bf1e17a-c8bb-4166-8453-7fdff2414b10"
         ],
         "legendgroup": "0005",
         "marker": {
          "color": "#ab63fa",
          "symbol": "circle"
         },
         "mode": "markers",
         "name": "0005",
         "orientation": "v",
         "showlegend": true,
         "type": "scatter",
         "x": [
          0.6189175501664604
         ],
         "xaxis": "x",
         "y": [
          0.62518312517071
         ],
         "yaxis": "y"
        },
        {
         "alignmentgroup": "True",
         "bingroup": "y",
         "hovertemplate": "test=0005<br>f1=%{y}<br>count=%{x}<extra></extra>",
         "legendgroup": "0005",
         "marker": {
          "color": "#ab63fa"
         },
         "name": "0005",
         "offsetgroup": "0005",
         "opacity": 0.5,
         "showlegend": false,
         "type": "histogram",
         "xaxis": "x2",
         "y": [
          0.62518312517071
         ],
         "yaxis": "y2"
        },
        {
         "hovertemplate": "<b>%{hovertext}</b><br><br>test=0006<br>rawF1=%{x}<br>f1=%{y}<extra></extra>",
         "hovertext": [
          "0feacbcf-4f37-402e-8fbc-4e48a2520bd4"
         ],
         "legendgroup": "0006",
         "marker": {
          "color": "#FFA15A",
          "symbol": "circle"
         },
         "mode": "markers",
         "name": "0006",
         "orientation": "v",
         "showlegend": true,
         "type": "scatter",
         "x": [
          0.6298081557890678
         ],
         "xaxis": "x",
         "y": [
          0.6371999320371854
         ],
         "yaxis": "y"
        },
        {
         "alignmentgroup": "True",
         "bingroup": "y",
         "hovertemplate": "test=0006<br>f1=%{y}<br>count=%{x}<extra></extra>",
         "legendgroup": "0006",
         "marker": {
          "color": "#FFA15A"
         },
         "name": "0006",
         "offsetgroup": "0006",
         "opacity": 0.5,
         "showlegend": false,
         "type": "histogram",
         "xaxis": "x2",
         "y": [
          0.6371999320371854
         ],
         "yaxis": "y2"
        },
        {
         "hovertemplate": "<b>%{hovertext}</b><br><br>test=0007<br>rawF1=%{x}<br>f1=%{y}<extra></extra>",
         "hovertext": [
          "29c70696-0202-4feb-bd78-3579052a4865"
         ],
         "legendgroup": "0007",
         "marker": {
          "color": "#19d3f3",
          "symbol": "circle"
         },
         "mode": "markers",
         "name": "0007",
         "orientation": "v",
         "showlegend": true,
         "type": "scatter",
         "x": [
          0.6665214309942117
         ],
         "xaxis": "x",
         "y": [
          0.665026563138537
         ],
         "yaxis": "y"
        },
        {
         "alignmentgroup": "True",
         "bingroup": "y",
         "hovertemplate": "test=0007<br>f1=%{y}<br>count=%{x}<extra></extra>",
         "legendgroup": "0007",
         "marker": {
          "color": "#19d3f3"
         },
         "name": "0007",
         "offsetgroup": "0007",
         "opacity": 0.5,
         "showlegend": false,
         "type": "histogram",
         "xaxis": "x2",
         "y": [
          0.665026563138537
         ],
         "yaxis": "y2"
        },
        {
         "hovertemplate": "<b>%{hovertext}</b><br><br>test=0009<br>rawF1=%{x}<br>f1=%{y}<extra></extra>",
         "hovertext": [
          "768cb7b4-e534-49f7-b9c4-acfa7b401ffe"
         ],
         "legendgroup": "0009",
         "marker": {
          "color": "#FF6692",
          "symbol": "circle"
         },
         "mode": "markers",
         "name": "0009",
         "orientation": "v",
         "showlegend": true,
         "type": "scatter",
         "x": [
          0.686516559195355
         ],
         "xaxis": "x",
         "y": [
          0.6895511127876273
         ],
         "yaxis": "y"
        },
        {
         "alignmentgroup": "True",
         "bingroup": "y",
         "hovertemplate": "test=0009<br>f1=%{y}<br>count=%{x}<extra></extra>",
         "legendgroup": "0009",
         "marker": {
          "color": "#FF6692"
         },
         "name": "0009",
         "offsetgroup": "0009",
         "opacity": 0.5,
         "showlegend": false,
         "type": "histogram",
         "xaxis": "x2",
         "y": [
          0.6895511127876273
         ],
         "yaxis": "y2"
        },
        {
         "hovertemplate": "<b>%{hovertext}</b><br><br>test=0010<br>rawF1=%{x}<br>f1=%{y}<extra></extra>",
         "hovertext": [
          "e3d50ec6-a2f8-45fc-88f9-9af0621c2050"
         ],
         "legendgroup": "0010",
         "marker": {
          "color": "#B6E880",
          "symbol": "circle"
         },
         "mode": "markers",
         "name": "0010",
         "orientation": "v",
         "showlegend": true,
         "type": "scatter",
         "x": [
          0.7441566696436474
         ],
         "xaxis": "x",
         "y": [
          0.7527013742602067
         ],
         "yaxis": "y"
        },
        {
         "alignmentgroup": "True",
         "bingroup": "y",
         "hovertemplate": "test=0010<br>f1=%{y}<br>count=%{x}<extra></extra>",
         "legendgroup": "0010",
         "marker": {
          "color": "#B6E880"
         },
         "name": "0010",
         "offsetgroup": "0010",
         "opacity": 0.5,
         "showlegend": false,
         "type": "histogram",
         "xaxis": "x2",
         "y": [
          0.7527013742602067
         ],
         "yaxis": "y2"
        },
        {
         "hovertemplate": "<b>%{hovertext}</b><br><br>test=0011<br>rawF1=%{x}<br>f1=%{y}<extra></extra>",
         "hovertext": [
          "d539204f-ac49-4811-9ed0-9b39bc65c8f3"
         ],
         "legendgroup": "0011",
         "marker": {
          "color": "#FF97FF",
          "symbol": "circle"
         },
         "mode": "markers",
         "name": "0011",
         "orientation": "v",
         "showlegend": true,
         "type": "scatter",
         "x": [
          0.6686039017239919
         ],
         "xaxis": "x",
         "y": [
          0.6689869366617206
         ],
         "yaxis": "y"
        },
        {
         "alignmentgroup": "True",
         "bingroup": "y",
         "hovertemplate": "test=0011<br>f1=%{y}<br>count=%{x}<extra></extra>",
         "legendgroup": "0011",
         "marker": {
          "color": "#FF97FF"
         },
         "name": "0011",
         "offsetgroup": "0011",
         "opacity": 0.5,
         "showlegend": false,
         "type": "histogram",
         "xaxis": "x2",
         "y": [
          0.6689869366617206
         ],
         "yaxis": "y2"
        },
        {
         "hovertemplate": "<b>%{hovertext}</b><br><br>test=0012<br>rawF1=%{x}<br>f1=%{y}<extra></extra>",
         "hovertext": [
          "1fe9ebda-f8d4-46a7-8ec3-1c1477a12af6"
         ],
         "legendgroup": "0012",
         "marker": {
          "color": "#FECB52",
          "symbol": "circle"
         },
         "mode": "markers",
         "name": "0012",
         "orientation": "v",
         "showlegend": true,
         "type": "scatter",
         "x": [
          0.690526884991044
         ],
         "xaxis": "x",
         "y": [
          0.6966003476917133
         ],
         "yaxis": "y"
        },
        {
         "alignmentgroup": "True",
         "bingroup": "y",
         "hovertemplate": "test=0012<br>f1=%{y}<br>count=%{x}<extra></extra>",
         "legendgroup": "0012",
         "marker": {
          "color": "#FECB52"
         },
         "name": "0012",
         "offsetgroup": "0012",
         "opacity": 0.5,
         "showlegend": false,
         "type": "histogram",
         "xaxis": "x2",
         "y": [
          0.6966003476917133
         ],
         "yaxis": "y2"
        },
        {
         "hovertemplate": "<b>%{hovertext}</b><br><br>test=0013<br>rawF1=%{x}<br>f1=%{y}<extra></extra>",
         "hovertext": [
          "fef1292a-c2f5-4c3e-96c0-b9ec6f60cb96"
         ],
         "legendgroup": "0013",
         "marker": {
          "color": "#636efa",
          "symbol": "circle"
         },
         "mode": "markers",
         "name": "0013",
         "orientation": "v",
         "showlegend": true,
         "type": "scatter",
         "x": [
          0.6776281535840488
         ],
         "xaxis": "x",
         "y": [
          0.6779180748624165
         ],
         "yaxis": "y"
        },
        {
         "alignmentgroup": "True",
         "bingroup": "y",
         "hovertemplate": "test=0013<br>f1=%{y}<br>count=%{x}<extra></extra>",
         "legendgroup": "0013",
         "marker": {
          "color": "#636efa"
         },
         "name": "0013",
         "offsetgroup": "0013",
         "opacity": 0.5,
         "showlegend": false,
         "type": "histogram",
         "xaxis": "x2",
         "y": [
          0.6779180748624165
         ],
         "yaxis": "y2"
        },
        {
         "hovertemplate": "<b>%{hovertext}</b><br><br>test=0014<br>rawF1=%{x}<br>f1=%{y}<extra></extra>",
         "hovertext": [
          "17643ba4-cb3b-4cd8-818b-406abeab9cb3"
         ],
         "legendgroup": "0014",
         "marker": {
          "color": "#EF553B",
          "symbol": "circle"
         },
         "mode": "markers",
         "name": "0014",
         "orientation": "v",
         "showlegend": true,
         "type": "scatter",
         "x": [
          0.5727043124755203
         ],
         "xaxis": "x",
         "y": [
          0.5690930901601928
         ],
         "yaxis": "y"
        },
        {
         "alignmentgroup": "True",
         "bingroup": "y",
         "hovertemplate": "test=0014<br>f1=%{y}<br>count=%{x}<extra></extra>",
         "legendgroup": "0014",
         "marker": {
          "color": "#EF553B"
         },
         "name": "0014",
         "offsetgroup": "0014",
         "opacity": 0.5,
         "showlegend": false,
         "type": "histogram",
         "xaxis": "x2",
         "y": [
          0.5690930901601928
         ],
         "yaxis": "y2"
        },
        {
         "hovertemplate": "<b>%{hovertext}</b><br><br>test=0017<br>rawF1=%{x}<br>f1=%{y}<extra></extra>",
         "hovertext": [
          "deda4266-2cea-44e1-93d6-21d866332ca0"
         ],
         "legendgroup": "0017",
         "marker": {
          "color": "#00cc96",
          "symbol": "circle"
         },
         "mode": "markers",
         "name": "0017",
         "orientation": "v",
         "showlegend": true,
         "type": "scatter",
         "x": [
          0.6726766517600107
         ],
         "xaxis": "x",
         "y": [
          0.6726693403928158
         ],
         "yaxis": "y"
        },
        {
         "alignmentgroup": "True",
         "bingroup": "y",
         "hovertemplate": "test=0017<br>f1=%{y}<br>count=%{x}<extra></extra>",
         "legendgroup": "0017",
         "marker": {
          "color": "#00cc96"
         },
         "name": "0017",
         "offsetgroup": "0017",
         "opacity": 0.5,
         "showlegend": false,
         "type": "histogram",
         "xaxis": "x2",
         "y": [
          0.6726693403928158
         ],
         "yaxis": "y2"
        },
        {
         "hovertemplate": "<b>%{hovertext}</b><br><br>test=0018<br>rawF1=%{x}<br>f1=%{y}<extra></extra>",
         "hovertext": [
          "60d7b18b-ed9c-40bb-98ce-5193ad5abe70"
         ],
         "legendgroup": "0018",
         "marker": {
          "color": "#ab63fa",
          "symbol": "circle"
         },
         "mode": "markers",
         "name": "0018",
         "orientation": "v",
         "showlegend": true,
         "type": "scatter",
         "x": [
          0.6640600342580137
         ],
         "xaxis": "x",
         "y": [
          0.6651014764960609
         ],
         "yaxis": "y"
        },
        {
         "alignmentgroup": "True",
         "bingroup": "y",
         "hovertemplate": "test=0018<br>f1=%{y}<br>count=%{x}<extra></extra>",
         "legendgroup": "0018",
         "marker": {
          "color": "#ab63fa"
         },
         "name": "0018",
         "offsetgroup": "0018",
         "opacity": 0.5,
         "showlegend": false,
         "type": "histogram",
         "xaxis": "x2",
         "y": [
          0.6651014764960609
         ],
         "yaxis": "y2"
        },
        {
         "hovertemplate": "<b>%{hovertext}</b><br><br>test=0019<br>rawF1=%{x}<br>f1=%{y}<extra></extra>",
         "hovertext": [
          "c8a28ce7-7f69-4a97-bfe2-229b91334659"
         ],
         "legendgroup": "0019",
         "marker": {
          "color": "#FFA15A",
          "symbol": "circle"
         },
         "mode": "markers",
         "name": "0019",
         "orientation": "v",
         "showlegend": true,
         "type": "scatter",
         "x": [
          0.5371115703977665
         ],
         "xaxis": "x",
         "y": [
          0.5365243535778713
         ],
         "yaxis": "y"
        },
        {
         "alignmentgroup": "True",
         "bingroup": "y",
         "hovertemplate": "test=0019<br>f1=%{y}<br>count=%{x}<extra></extra>",
         "legendgroup": "0019",
         "marker": {
          "color": "#FFA15A"
         },
         "name": "0019",
         "offsetgroup": "0019",
         "opacity": 0.5,
         "showlegend": false,
         "type": "histogram",
         "xaxis": "x2",
         "y": [
          0.5365243535778713
         ],
         "yaxis": "y2"
        },
        {
         "fill": "toself",
         "mode": "lines",
         "name": "identity",
         "type": "scatter",
         "x": [
          0.6373244405493126,
          0.7379983985491492,
          0.6514167372681917,
          0.6189175501664604,
          0.6298081557890678,
          0.6665214309942117,
          0.686516559195355,
          0.7441566696436474,
          0.6686039017239919,
          0.690526884991044,
          0.6776281535840488,
          0.5727043124755203,
          0.6726766517600107,
          0.6640600342580137,
          0.5371115703977665
         ],
         "y": [
          0.6373244405493126,
          0.7379983985491492,
          0.6514167372681917,
          0.6189175501664604,
          0.6298081557890678,
          0.6665214309942117,
          0.686516559195355,
          0.7441566696436474,
          0.6686039017239919,
          0.690526884991044,
          0.6776281535840488,
          0.5727043124755203,
          0.6726766517600107,
          0.6640600342580137,
          0.5371115703977665
         ]
        }
       ],
       "layout": {
        "barmode": "overlay",
        "legend": {
         "title": {
          "text": "test"
         },
         "tracegroupgap": 0
        },
        "margin": {
         "t": 60
        },
        "template": {
         "data": {
          "bar": [
           {
            "error_x": {
             "color": "#2a3f5f"
            },
            "error_y": {
             "color": "#2a3f5f"
            },
            "marker": {
             "line": {
              "color": "#E5ECF6",
              "width": 0.5
             },
             "pattern": {
              "fillmode": "overlay",
              "size": 10,
              "solidity": 0.2
             }
            },
            "type": "bar"
           }
          ],
          "barpolar": [
           {
            "marker": {
             "line": {
              "color": "#E5ECF6",
              "width": 0.5
             },
             "pattern": {
              "fillmode": "overlay",
              "size": 10,
              "solidity": 0.2
             }
            },
            "type": "barpolar"
           }
          ],
          "carpet": [
           {
            "aaxis": {
             "endlinecolor": "#2a3f5f",
             "gridcolor": "white",
             "linecolor": "white",
             "minorgridcolor": "white",
             "startlinecolor": "#2a3f5f"
            },
            "baxis": {
             "endlinecolor": "#2a3f5f",
             "gridcolor": "white",
             "linecolor": "white",
             "minorgridcolor": "white",
             "startlinecolor": "#2a3f5f"
            },
            "type": "carpet"
           }
          ],
          "choropleth": [
           {
            "colorbar": {
             "outlinewidth": 0,
             "ticks": ""
            },
            "type": "choropleth"
           }
          ],
          "contour": [
           {
            "colorbar": {
             "outlinewidth": 0,
             "ticks": ""
            },
            "colorscale": [
             [
              0,
              "#0d0887"
             ],
             [
              0.1111111111111111,
              "#46039f"
             ],
             [
              0.2222222222222222,
              "#7201a8"
             ],
             [
              0.3333333333333333,
              "#9c179e"
             ],
             [
              0.4444444444444444,
              "#bd3786"
             ],
             [
              0.5555555555555556,
              "#d8576b"
             ],
             [
              0.6666666666666666,
              "#ed7953"
             ],
             [
              0.7777777777777778,
              "#fb9f3a"
             ],
             [
              0.8888888888888888,
              "#fdca26"
             ],
             [
              1,
              "#f0f921"
             ]
            ],
            "type": "contour"
           }
          ],
          "contourcarpet": [
           {
            "colorbar": {
             "outlinewidth": 0,
             "ticks": ""
            },
            "type": "contourcarpet"
           }
          ],
          "heatmap": [
           {
            "colorbar": {
             "outlinewidth": 0,
             "ticks": ""
            },
            "colorscale": [
             [
              0,
              "#0d0887"
             ],
             [
              0.1111111111111111,
              "#46039f"
             ],
             [
              0.2222222222222222,
              "#7201a8"
             ],
             [
              0.3333333333333333,
              "#9c179e"
             ],
             [
              0.4444444444444444,
              "#bd3786"
             ],
             [
              0.5555555555555556,
              "#d8576b"
             ],
             [
              0.6666666666666666,
              "#ed7953"
             ],
             [
              0.7777777777777778,
              "#fb9f3a"
             ],
             [
              0.8888888888888888,
              "#fdca26"
             ],
             [
              1,
              "#f0f921"
             ]
            ],
            "type": "heatmap"
           }
          ],
          "heatmapgl": [
           {
            "colorbar": {
             "outlinewidth": 0,
             "ticks": ""
            },
            "colorscale": [
             [
              0,
              "#0d0887"
             ],
             [
              0.1111111111111111,
              "#46039f"
             ],
             [
              0.2222222222222222,
              "#7201a8"
             ],
             [
              0.3333333333333333,
              "#9c179e"
             ],
             [
              0.4444444444444444,
              "#bd3786"
             ],
             [
              0.5555555555555556,
              "#d8576b"
             ],
             [
              0.6666666666666666,
              "#ed7953"
             ],
             [
              0.7777777777777778,
              "#fb9f3a"
             ],
             [
              0.8888888888888888,
              "#fdca26"
             ],
             [
              1,
              "#f0f921"
             ]
            ],
            "type": "heatmapgl"
           }
          ],
          "histogram": [
           {
            "marker": {
             "pattern": {
              "fillmode": "overlay",
              "size": 10,
              "solidity": 0.2
             }
            },
            "type": "histogram"
           }
          ],
          "histogram2d": [
           {
            "colorbar": {
             "outlinewidth": 0,
             "ticks": ""
            },
            "colorscale": [
             [
              0,
              "#0d0887"
             ],
             [
              0.1111111111111111,
              "#46039f"
             ],
             [
              0.2222222222222222,
              "#7201a8"
             ],
             [
              0.3333333333333333,
              "#9c179e"
             ],
             [
              0.4444444444444444,
              "#bd3786"
             ],
             [
              0.5555555555555556,
              "#d8576b"
             ],
             [
              0.6666666666666666,
              "#ed7953"
             ],
             [
              0.7777777777777778,
              "#fb9f3a"
             ],
             [
              0.8888888888888888,
              "#fdca26"
             ],
             [
              1,
              "#f0f921"
             ]
            ],
            "type": "histogram2d"
           }
          ],
          "histogram2dcontour": [
           {
            "colorbar": {
             "outlinewidth": 0,
             "ticks": ""
            },
            "colorscale": [
             [
              0,
              "#0d0887"
             ],
             [
              0.1111111111111111,
              "#46039f"
             ],
             [
              0.2222222222222222,
              "#7201a8"
             ],
             [
              0.3333333333333333,
              "#9c179e"
             ],
             [
              0.4444444444444444,
              "#bd3786"
             ],
             [
              0.5555555555555556,
              "#d8576b"
             ],
             [
              0.6666666666666666,
              "#ed7953"
             ],
             [
              0.7777777777777778,
              "#fb9f3a"
             ],
             [
              0.8888888888888888,
              "#fdca26"
             ],
             [
              1,
              "#f0f921"
             ]
            ],
            "type": "histogram2dcontour"
           }
          ],
          "mesh3d": [
           {
            "colorbar": {
             "outlinewidth": 0,
             "ticks": ""
            },
            "type": "mesh3d"
           }
          ],
          "parcoords": [
           {
            "line": {
             "colorbar": {
              "outlinewidth": 0,
              "ticks": ""
             }
            },
            "type": "parcoords"
           }
          ],
          "pie": [
           {
            "automargin": true,
            "type": "pie"
           }
          ],
          "scatter": [
           {
            "fillpattern": {
             "fillmode": "overlay",
             "size": 10,
             "solidity": 0.2
            },
            "type": "scatter"
           }
          ],
          "scatter3d": [
           {
            "line": {
             "colorbar": {
              "outlinewidth": 0,
              "ticks": ""
             }
            },
            "marker": {
             "colorbar": {
              "outlinewidth": 0,
              "ticks": ""
             }
            },
            "type": "scatter3d"
           }
          ],
          "scattercarpet": [
           {
            "marker": {
             "colorbar": {
              "outlinewidth": 0,
              "ticks": ""
             }
            },
            "type": "scattercarpet"
           }
          ],
          "scattergeo": [
           {
            "marker": {
             "colorbar": {
              "outlinewidth": 0,
              "ticks": ""
             }
            },
            "type": "scattergeo"
           }
          ],
          "scattergl": [
           {
            "marker": {
             "colorbar": {
              "outlinewidth": 0,
              "ticks": ""
             }
            },
            "type": "scattergl"
           }
          ],
          "scattermapbox": [
           {
            "marker": {
             "colorbar": {
              "outlinewidth": 0,
              "ticks": ""
             }
            },
            "type": "scattermapbox"
           }
          ],
          "scatterpolar": [
           {
            "marker": {
             "colorbar": {
              "outlinewidth": 0,
              "ticks": ""
             }
            },
            "type": "scatterpolar"
           }
          ],
          "scatterpolargl": [
           {
            "marker": {
             "colorbar": {
              "outlinewidth": 0,
              "ticks": ""
             }
            },
            "type": "scatterpolargl"
           }
          ],
          "scatterternary": [
           {
            "marker": {
             "colorbar": {
              "outlinewidth": 0,
              "ticks": ""
             }
            },
            "type": "scatterternary"
           }
          ],
          "surface": [
           {
            "colorbar": {
             "outlinewidth": 0,
             "ticks": ""
            },
            "colorscale": [
             [
              0,
              "#0d0887"
             ],
             [
              0.1111111111111111,
              "#46039f"
             ],
             [
              0.2222222222222222,
              "#7201a8"
             ],
             [
              0.3333333333333333,
              "#9c179e"
             ],
             [
              0.4444444444444444,
              "#bd3786"
             ],
             [
              0.5555555555555556,
              "#d8576b"
             ],
             [
              0.6666666666666666,
              "#ed7953"
             ],
             [
              0.7777777777777778,
              "#fb9f3a"
             ],
             [
              0.8888888888888888,
              "#fdca26"
             ],
             [
              1,
              "#f0f921"
             ]
            ],
            "type": "surface"
           }
          ],
          "table": [
           {
            "cells": {
             "fill": {
              "color": "#EBF0F8"
             },
             "line": {
              "color": "white"
             }
            },
            "header": {
             "fill": {
              "color": "#C8D4E3"
             },
             "line": {
              "color": "white"
             }
            },
            "type": "table"
           }
          ]
         },
         "layout": {
          "annotationdefaults": {
           "arrowcolor": "#2a3f5f",
           "arrowhead": 0,
           "arrowwidth": 1
          },
          "autotypenumbers": "strict",
          "coloraxis": {
           "colorbar": {
            "outlinewidth": 0,
            "ticks": ""
           }
          },
          "colorscale": {
           "diverging": [
            [
             0,
             "#8e0152"
            ],
            [
             0.1,
             "#c51b7d"
            ],
            [
             0.2,
             "#de77ae"
            ],
            [
             0.3,
             "#f1b6da"
            ],
            [
             0.4,
             "#fde0ef"
            ],
            [
             0.5,
             "#f7f7f7"
            ],
            [
             0.6,
             "#e6f5d0"
            ],
            [
             0.7,
             "#b8e186"
            ],
            [
             0.8,
             "#7fbc41"
            ],
            [
             0.9,
             "#4d9221"
            ],
            [
             1,
             "#276419"
            ]
           ],
           "sequential": [
            [
             0,
             "#0d0887"
            ],
            [
             0.1111111111111111,
             "#46039f"
            ],
            [
             0.2222222222222222,
             "#7201a8"
            ],
            [
             0.3333333333333333,
             "#9c179e"
            ],
            [
             0.4444444444444444,
             "#bd3786"
            ],
            [
             0.5555555555555556,
             "#d8576b"
            ],
            [
             0.6666666666666666,
             "#ed7953"
            ],
            [
             0.7777777777777778,
             "#fb9f3a"
            ],
            [
             0.8888888888888888,
             "#fdca26"
            ],
            [
             1,
             "#f0f921"
            ]
           ],
           "sequentialminus": [
            [
             0,
             "#0d0887"
            ],
            [
             0.1111111111111111,
             "#46039f"
            ],
            [
             0.2222222222222222,
             "#7201a8"
            ],
            [
             0.3333333333333333,
             "#9c179e"
            ],
            [
             0.4444444444444444,
             "#bd3786"
            ],
            [
             0.5555555555555556,
             "#d8576b"
            ],
            [
             0.6666666666666666,
             "#ed7953"
            ],
            [
             0.7777777777777778,
             "#fb9f3a"
            ],
            [
             0.8888888888888888,
             "#fdca26"
            ],
            [
             1,
             "#f0f921"
            ]
           ]
          },
          "colorway": [
           "#636efa",
           "#EF553B",
           "#00cc96",
           "#ab63fa",
           "#FFA15A",
           "#19d3f3",
           "#FF6692",
           "#B6E880",
           "#FF97FF",
           "#FECB52"
          ],
          "font": {
           "color": "#2a3f5f"
          },
          "geo": {
           "bgcolor": "white",
           "lakecolor": "white",
           "landcolor": "#E5ECF6",
           "showlakes": true,
           "showland": true,
           "subunitcolor": "white"
          },
          "hoverlabel": {
           "align": "left"
          },
          "hovermode": "closest",
          "mapbox": {
           "style": "light"
          },
          "paper_bgcolor": "white",
          "plot_bgcolor": "#E5ECF6",
          "polar": {
           "angularaxis": {
            "gridcolor": "white",
            "linecolor": "white",
            "ticks": ""
           },
           "bgcolor": "#E5ECF6",
           "radialaxis": {
            "gridcolor": "white",
            "linecolor": "white",
            "ticks": ""
           }
          },
          "scene": {
           "xaxis": {
            "backgroundcolor": "#E5ECF6",
            "gridcolor": "white",
            "gridwidth": 2,
            "linecolor": "white",
            "showbackground": true,
            "ticks": "",
            "zerolinecolor": "white"
           },
           "yaxis": {
            "backgroundcolor": "#E5ECF6",
            "gridcolor": "white",
            "gridwidth": 2,
            "linecolor": "white",
            "showbackground": true,
            "ticks": "",
            "zerolinecolor": "white"
           },
           "zaxis": {
            "backgroundcolor": "#E5ECF6",
            "gridcolor": "white",
            "gridwidth": 2,
            "linecolor": "white",
            "showbackground": true,
            "ticks": "",
            "zerolinecolor": "white"
           }
          },
          "shapedefaults": {
           "line": {
            "color": "#2a3f5f"
           }
          },
          "ternary": {
           "aaxis": {
            "gridcolor": "white",
            "linecolor": "white",
            "ticks": ""
           },
           "baxis": {
            "gridcolor": "white",
            "linecolor": "white",
            "ticks": ""
           },
           "bgcolor": "#E5ECF6",
           "caxis": {
            "gridcolor": "white",
            "linecolor": "white",
            "ticks": ""
           }
          },
          "title": {
           "x": 0.05
          },
          "xaxis": {
           "automargin": true,
           "gridcolor": "white",
           "linecolor": "white",
           "ticks": "",
           "title": {
            "standoff": 15
           },
           "zerolinecolor": "white",
           "zerolinewidth": 2
          },
          "yaxis": {
           "automargin": true,
           "gridcolor": "white",
           "linecolor": "white",
           "ticks": "",
           "title": {
            "standoff": 15
           },
           "zerolinecolor": "white",
           "zerolinewidth": 2
          }
         }
        },
        "xaxis": {
         "anchor": "y",
         "domain": [
          0,
          0.7363
         ],
         "title": {
          "text": "rawF1"
         }
        },
        "xaxis2": {
         "anchor": "y2",
         "domain": [
          0.7413,
          1
         ],
         "matches": "x2",
         "showgrid": true,
         "showline": false,
         "showticklabels": false,
         "ticks": ""
        },
        "yaxis": {
         "anchor": "x",
         "domain": [
          0,
          1
         ],
         "title": {
          "text": "f1"
         }
        },
        "yaxis2": {
         "anchor": "x2",
         "domain": [
          0,
          1
         ],
         "matches": "y",
         "showgrid": true,
         "showticklabels": false
        }
       }
      }
     },
     "metadata": {},
     "output_type": "display_data"
    }
   ],
   "source": [
    "fig=px.scatter(experimentModels_N2,x='rawF1',y='f1',color='test',hover_name='modelId', marginal_y=\"histogram\")\n",
    "fig.add_trace(\n",
    "    go.Scatter(x=experimentModels_N2['rawF1'], y=experimentModels_N2['rawF1'], name=\"identity\", mode='lines',fill=\"toself\")\n",
    ")\n",
    "fig.show()"
   ]
  },
  {
   "cell_type": "code",
   "execution_count": 36,
   "metadata": {},
   "outputs": [
    {
     "data": {
      "application/vnd.plotly.v1+json": {
       "config": {
        "plotlyServerURL": "https://plot.ly"
       },
       "data": [
        {
         "hovertemplate": "<b>%{hovertext}</b><br><br>test=0001<br>rawF1=%{x}<br>eventF1=%{y}<extra></extra>",
         "hovertext": [
          "8b2ea581-6dec-4094-957e-cc1ceb7234c5"
         ],
         "legendgroup": "0001",
         "marker": {
          "color": "#636efa",
          "symbol": "circle"
         },
         "mode": "markers",
         "name": "0001",
         "orientation": "v",
         "showlegend": true,
         "type": "scatter",
         "x": [
          0.6373244405493126
         ],
         "xaxis": "x",
         "y": [
          0.7047504509921828
         ],
         "yaxis": "y"
        },
        {
         "alignmentgroup": "True",
         "bingroup": "y",
         "hovertemplate": "test=0001<br>eventF1=%{y}<br>count=%{x}<extra></extra>",
         "legendgroup": "0001",
         "marker": {
          "color": "#636efa"
         },
         "name": "0001",
         "offsetgroup": "0001",
         "opacity": 0.5,
         "showlegend": false,
         "type": "histogram",
         "xaxis": "x2",
         "y": [
          0.7047504509921828
         ],
         "yaxis": "y2"
        },
        {
         "hovertemplate": "<b>%{hovertext}</b><br><br>test=0002<br>rawF1=%{x}<br>eventF1=%{y}<extra></extra>",
         "hovertext": [
          "80181036-469f-4bcf-95a0-68374649133a"
         ],
         "legendgroup": "0002",
         "marker": {
          "color": "#EF553B",
          "symbol": "circle"
         },
         "mode": "markers",
         "name": "0002",
         "orientation": "v",
         "showlegend": true,
         "type": "scatter",
         "x": [
          0.7379983985491492
         ],
         "xaxis": "x",
         "y": [
          0.8075278015397775
         ],
         "yaxis": "y"
        },
        {
         "alignmentgroup": "True",
         "bingroup": "y",
         "hovertemplate": "test=0002<br>eventF1=%{y}<br>count=%{x}<extra></extra>",
         "legendgroup": "0002",
         "marker": {
          "color": "#EF553B"
         },
         "name": "0002",
         "offsetgroup": "0002",
         "opacity": 0.5,
         "showlegend": false,
         "type": "histogram",
         "xaxis": "x2",
         "y": [
          0.8075278015397775
         ],
         "yaxis": "y2"
        },
        {
         "hovertemplate": "<b>%{hovertext}</b><br><br>test=0003<br>rawF1=%{x}<br>eventF1=%{y}<extra></extra>",
         "hovertext": [
          "f6cafb09-5e74-4889-a306-e517e28d70fe"
         ],
         "legendgroup": "0003",
         "marker": {
          "color": "#00cc96",
          "symbol": "circle"
         },
         "mode": "markers",
         "name": "0003",
         "orientation": "v",
         "showlegend": true,
         "type": "scatter",
         "x": [
          0.6514167372681917
         ],
         "xaxis": "x",
         "y": [
          0.6925566343042071
         ],
         "yaxis": "y"
        },
        {
         "alignmentgroup": "True",
         "bingroup": "y",
         "hovertemplate": "test=0003<br>eventF1=%{y}<br>count=%{x}<extra></extra>",
         "legendgroup": "0003",
         "marker": {
          "color": "#00cc96"
         },
         "name": "0003",
         "offsetgroup": "0003",
         "opacity": 0.5,
         "showlegend": false,
         "type": "histogram",
         "xaxis": "x2",
         "y": [
          0.6925566343042071
         ],
         "yaxis": "y2"
        },
        {
         "hovertemplate": "<b>%{hovertext}</b><br><br>test=0005<br>rawF1=%{x}<br>eventF1=%{y}<extra></extra>",
         "hovertext": [
          "2bf1e17a-c8bb-4166-8453-7fdff2414b10"
         ],
         "legendgroup": "0005",
         "marker": {
          "color": "#ab63fa",
          "symbol": "circle"
         },
         "mode": "markers",
         "name": "0005",
         "orientation": "v",
         "showlegend": true,
         "type": "scatter",
         "x": [
          0.6189175501664604
         ],
         "xaxis": "x",
         "y": [
          0.6867749419953596
         ],
         "yaxis": "y"
        },
        {
         "alignmentgroup": "True",
         "bingroup": "y",
         "hovertemplate": "test=0005<br>eventF1=%{y}<br>count=%{x}<extra></extra>",
         "legendgroup": "0005",
         "marker": {
          "color": "#ab63fa"
         },
         "name": "0005",
         "offsetgroup": "0005",
         "opacity": 0.5,
         "showlegend": false,
         "type": "histogram",
         "xaxis": "x2",
         "y": [
          0.6867749419953596
         ],
         "yaxis": "y2"
        },
        {
         "hovertemplate": "<b>%{hovertext}</b><br><br>test=0006<br>rawF1=%{x}<br>eventF1=%{y}<extra></extra>",
         "hovertext": [
          "0feacbcf-4f37-402e-8fbc-4e48a2520bd4"
         ],
         "legendgroup": "0006",
         "marker": {
          "color": "#FFA15A",
          "symbol": "circle"
         },
         "mode": "markers",
         "name": "0006",
         "orientation": "v",
         "showlegend": true,
         "type": "scatter",
         "x": [
          0.6298081557890678
         ],
         "xaxis": "x",
         "y": [
          0.7103448275862069
         ],
         "yaxis": "y"
        },
        {
         "alignmentgroup": "True",
         "bingroup": "y",
         "hovertemplate": "test=0006<br>eventF1=%{y}<br>count=%{x}<extra></extra>",
         "legendgroup": "0006",
         "marker": {
          "color": "#FFA15A"
         },
         "name": "0006",
         "offsetgroup": "0006",
         "opacity": 0.5,
         "showlegend": false,
         "type": "histogram",
         "xaxis": "x2",
         "y": [
          0.7103448275862069
         ],
         "yaxis": "y2"
        },
        {
         "hovertemplate": "<b>%{hovertext}</b><br><br>test=0007<br>rawF1=%{x}<br>eventF1=%{y}<extra></extra>",
         "hovertext": [
          "29c70696-0202-4feb-bd78-3579052a4865"
         ],
         "legendgroup": "0007",
         "marker": {
          "color": "#19d3f3",
          "symbol": "circle"
         },
         "mode": "markers",
         "name": "0007",
         "orientation": "v",
         "showlegend": true,
         "type": "scatter",
         "x": [
          0.6665214309942117
         ],
         "xaxis": "x",
         "y": [
          0.7404436054742803
         ],
         "yaxis": "y"
        },
        {
         "alignmentgroup": "True",
         "bingroup": "y",
         "hovertemplate": "test=0007<br>eventF1=%{y}<br>count=%{x}<extra></extra>",
         "legendgroup": "0007",
         "marker": {
          "color": "#19d3f3"
         },
         "name": "0007",
         "offsetgroup": "0007",
         "opacity": 0.5,
         "showlegend": false,
         "type": "histogram",
         "xaxis": "x2",
         "y": [
          0.7404436054742803
         ],
         "yaxis": "y2"
        },
        {
         "hovertemplate": "<b>%{hovertext}</b><br><br>test=0009<br>rawF1=%{x}<br>eventF1=%{y}<extra></extra>",
         "hovertext": [
          "768cb7b4-e534-49f7-b9c4-acfa7b401ffe"
         ],
         "legendgroup": "0009",
         "marker": {
          "color": "#FF6692",
          "symbol": "circle"
         },
         "mode": "markers",
         "name": "0009",
         "orientation": "v",
         "showlegend": true,
         "type": "scatter",
         "x": [
          0.686516559195355
         ],
         "xaxis": "x",
         "y": [
          0.786479250334672
         ],
         "yaxis": "y"
        },
        {
         "alignmentgroup": "True",
         "bingroup": "y",
         "hovertemplate": "test=0009<br>eventF1=%{y}<br>count=%{x}<extra></extra>",
         "legendgroup": "0009",
         "marker": {
          "color": "#FF6692"
         },
         "name": "0009",
         "offsetgroup": "0009",
         "opacity": 0.5,
         "showlegend": false,
         "type": "histogram",
         "xaxis": "x2",
         "y": [
          0.786479250334672
         ],
         "yaxis": "y2"
        },
        {
         "hovertemplate": "<b>%{hovertext}</b><br><br>test=0010<br>rawF1=%{x}<br>eventF1=%{y}<extra></extra>",
         "hovertext": [
          "e3d50ec6-a2f8-45fc-88f9-9af0621c2050"
         ],
         "legendgroup": "0010",
         "marker": {
          "color": "#B6E880",
          "symbol": "circle"
         },
         "mode": "markers",
         "name": "0010",
         "orientation": "v",
         "showlegend": true,
         "type": "scatter",
         "x": [
          0.7441566696436474
         ],
         "xaxis": "x",
         "y": [
          0.8368226600985221
         ],
         "yaxis": "y"
        },
        {
         "alignmentgroup": "True",
         "bingroup": "y",
         "hovertemplate": "test=0010<br>eventF1=%{y}<br>count=%{x}<extra></extra>",
         "legendgroup": "0010",
         "marker": {
          "color": "#B6E880"
         },
         "name": "0010",
         "offsetgroup": "0010",
         "opacity": 0.5,
         "showlegend": false,
         "type": "histogram",
         "xaxis": "x2",
         "y": [
          0.8368226600985221
         ],
         "yaxis": "y2"
        },
        {
         "hovertemplate": "<b>%{hovertext}</b><br><br>test=0011<br>rawF1=%{x}<br>eventF1=%{y}<extra></extra>",
         "hovertext": [
          "d539204f-ac49-4811-9ed0-9b39bc65c8f3"
         ],
         "legendgroup": "0011",
         "marker": {
          "color": "#FF97FF",
          "symbol": "circle"
         },
         "mode": "markers",
         "name": "0011",
         "orientation": "v",
         "showlegend": true,
         "type": "scatter",
         "x": [
          0.6686039017239919
         ],
         "xaxis": "x",
         "y": [
          0.7052168447517285
         ],
         "yaxis": "y"
        },
        {
         "alignmentgroup": "True",
         "bingroup": "y",
         "hovertemplate": "test=0011<br>eventF1=%{y}<br>count=%{x}<extra></extra>",
         "legendgroup": "0011",
         "marker": {
          "color": "#FF97FF"
         },
         "name": "0011",
         "offsetgroup": "0011",
         "opacity": 0.5,
         "showlegend": false,
         "type": "histogram",
         "xaxis": "x2",
         "y": [
          0.7052168447517285
         ],
         "yaxis": "y2"
        },
        {
         "hovertemplate": "<b>%{hovertext}</b><br><br>test=0012<br>rawF1=%{x}<br>eventF1=%{y}<extra></extra>",
         "hovertext": [
          "1fe9ebda-f8d4-46a7-8ec3-1c1477a12af6"
         ],
         "legendgroup": "0012",
         "marker": {
          "color": "#FECB52",
          "symbol": "circle"
         },
         "mode": "markers",
         "name": "0012",
         "orientation": "v",
         "showlegend": true,
         "type": "scatter",
         "x": [
          0.690526884991044
         ],
         "xaxis": "x",
         "y": [
          0.7932618683001531
         ],
         "yaxis": "y"
        },
        {
         "alignmentgroup": "True",
         "bingroup": "y",
         "hovertemplate": "test=0012<br>eventF1=%{y}<br>count=%{x}<extra></extra>",
         "legendgroup": "0012",
         "marker": {
          "color": "#FECB52"
         },
         "name": "0012",
         "offsetgroup": "0012",
         "opacity": 0.5,
         "showlegend": false,
         "type": "histogram",
         "xaxis": "x2",
         "y": [
          0.7932618683001531
         ],
         "yaxis": "y2"
        },
        {
         "hovertemplate": "<b>%{hovertext}</b><br><br>test=0013<br>rawF1=%{x}<br>eventF1=%{y}<extra></extra>",
         "hovertext": [
          "fef1292a-c2f5-4c3e-96c0-b9ec6f60cb96"
         ],
         "legendgroup": "0013",
         "marker": {
          "color": "#636efa",
          "symbol": "circle"
         },
         "mode": "markers",
         "name": "0013",
         "orientation": "v",
         "showlegend": true,
         "type": "scatter",
         "x": [
          0.6776281535840488
         ],
         "xaxis": "x",
         "y": [
          0.720108695652174
         ],
         "yaxis": "y"
        },
        {
         "alignmentgroup": "True",
         "bingroup": "y",
         "hovertemplate": "test=0013<br>eventF1=%{y}<br>count=%{x}<extra></extra>",
         "legendgroup": "0013",
         "marker": {
          "color": "#636efa"
         },
         "name": "0013",
         "offsetgroup": "0013",
         "opacity": 0.5,
         "showlegend": false,
         "type": "histogram",
         "xaxis": "x2",
         "y": [
          0.720108695652174
         ],
         "yaxis": "y2"
        },
        {
         "hovertemplate": "<b>%{hovertext}</b><br><br>test=0014<br>rawF1=%{x}<br>eventF1=%{y}<extra></extra>",
         "hovertext": [
          "17643ba4-cb3b-4cd8-818b-406abeab9cb3"
         ],
         "legendgroup": "0014",
         "marker": {
          "color": "#EF553B",
          "symbol": "circle"
         },
         "mode": "markers",
         "name": "0014",
         "orientation": "v",
         "showlegend": true,
         "type": "scatter",
         "x": [
          0.5727043124755203
         ],
         "xaxis": "x",
         "y": [
          0.6224627875507442
         ],
         "yaxis": "y"
        },
        {
         "alignmentgroup": "True",
         "bingroup": "y",
         "hovertemplate": "test=0014<br>eventF1=%{y}<br>count=%{x}<extra></extra>",
         "legendgroup": "0014",
         "marker": {
          "color": "#EF553B"
         },
         "name": "0014",
         "offsetgroup": "0014",
         "opacity": 0.5,
         "showlegend": false,
         "type": "histogram",
         "xaxis": "x2",
         "y": [
          0.6224627875507442
         ],
         "yaxis": "y2"
        },
        {
         "hovertemplate": "<b>%{hovertext}</b><br><br>test=0017<br>rawF1=%{x}<br>eventF1=%{y}<extra></extra>",
         "hovertext": [
          "deda4266-2cea-44e1-93d6-21d866332ca0"
         ],
         "legendgroup": "0017",
         "marker": {
          "color": "#00cc96",
          "symbol": "circle"
         },
         "mode": "markers",
         "name": "0017",
         "orientation": "v",
         "showlegend": true,
         "type": "scatter",
         "x": [
          0.6726766517600107
         ],
         "xaxis": "x",
         "y": [
          0.7606318347509113
         ],
         "yaxis": "y"
        },
        {
         "alignmentgroup": "True",
         "bingroup": "y",
         "hovertemplate": "test=0017<br>eventF1=%{y}<br>count=%{x}<extra></extra>",
         "legendgroup": "0017",
         "marker": {
          "color": "#00cc96"
         },
         "name": "0017",
         "offsetgroup": "0017",
         "opacity": 0.5,
         "showlegend": false,
         "type": "histogram",
         "xaxis": "x2",
         "y": [
          0.7606318347509113
         ],
         "yaxis": "y2"
        },
        {
         "hovertemplate": "<b>%{hovertext}</b><br><br>test=0018<br>rawF1=%{x}<br>eventF1=%{y}<extra></extra>",
         "hovertext": [
          "60d7b18b-ed9c-40bb-98ce-5193ad5abe70"
         ],
         "legendgroup": "0018",
         "marker": {
          "color": "#ab63fa",
          "symbol": "circle"
         },
         "mode": "markers",
         "name": "0018",
         "orientation": "v",
         "showlegend": true,
         "type": "scatter",
         "x": [
          0.6640600342580137
         ],
         "xaxis": "x",
         "y": [
          0.7575462512171373
         ],
         "yaxis": "y"
        },
        {
         "alignmentgroup": "True",
         "bingroup": "y",
         "hovertemplate": "test=0018<br>eventF1=%{y}<br>count=%{x}<extra></extra>",
         "legendgroup": "0018",
         "marker": {
          "color": "#ab63fa"
         },
         "name": "0018",
         "offsetgroup": "0018",
         "opacity": 0.5,
         "showlegend": false,
         "type": "histogram",
         "xaxis": "x2",
         "y": [
          0.7575462512171373
         ],
         "yaxis": "y2"
        },
        {
         "hovertemplate": "<b>%{hovertext}</b><br><br>test=0019<br>rawF1=%{x}<br>eventF1=%{y}<extra></extra>",
         "hovertext": [
          "c8a28ce7-7f69-4a97-bfe2-229b91334659"
         ],
         "legendgroup": "0019",
         "marker": {
          "color": "#FFA15A",
          "symbol": "circle"
         },
         "mode": "markers",
         "name": "0019",
         "orientation": "v",
         "showlegend": true,
         "type": "scatter",
         "x": [
          0.5371115703977665
         ],
         "xaxis": "x",
         "y": [
          0.5684995340167754
         ],
         "yaxis": "y"
        },
        {
         "alignmentgroup": "True",
         "bingroup": "y",
         "hovertemplate": "test=0019<br>eventF1=%{y}<br>count=%{x}<extra></extra>",
         "legendgroup": "0019",
         "marker": {
          "color": "#FFA15A"
         },
         "name": "0019",
         "offsetgroup": "0019",
         "opacity": 0.5,
         "showlegend": false,
         "type": "histogram",
         "xaxis": "x2",
         "y": [
          0.5684995340167754
         ],
         "yaxis": "y2"
        },
        {
         "fill": "toself",
         "mode": "lines",
         "name": "identity",
         "type": "scatter",
         "x": [
          0.6373244405493126,
          0.7379983985491492,
          0.6514167372681917,
          0.6189175501664604,
          0.6298081557890678,
          0.6665214309942117,
          0.686516559195355,
          0.7441566696436474,
          0.6686039017239919,
          0.690526884991044,
          0.6776281535840488,
          0.5727043124755203,
          0.6726766517600107,
          0.6640600342580137,
          0.5371115703977665
         ],
         "y": [
          0.6373244405493126,
          0.7379983985491492,
          0.6514167372681917,
          0.6189175501664604,
          0.6298081557890678,
          0.6665214309942117,
          0.686516559195355,
          0.7441566696436474,
          0.6686039017239919,
          0.690526884991044,
          0.6776281535840488,
          0.5727043124755203,
          0.6726766517600107,
          0.6640600342580137,
          0.5371115703977665
         ]
        }
       ],
       "layout": {
        "barmode": "overlay",
        "legend": {
         "title": {
          "text": "test"
         },
         "tracegroupgap": 0
        },
        "margin": {
         "t": 60
        },
        "template": {
         "data": {
          "bar": [
           {
            "error_x": {
             "color": "#2a3f5f"
            },
            "error_y": {
             "color": "#2a3f5f"
            },
            "marker": {
             "line": {
              "color": "#E5ECF6",
              "width": 0.5
             },
             "pattern": {
              "fillmode": "overlay",
              "size": 10,
              "solidity": 0.2
             }
            },
            "type": "bar"
           }
          ],
          "barpolar": [
           {
            "marker": {
             "line": {
              "color": "#E5ECF6",
              "width": 0.5
             },
             "pattern": {
              "fillmode": "overlay",
              "size": 10,
              "solidity": 0.2
             }
            },
            "type": "barpolar"
           }
          ],
          "carpet": [
           {
            "aaxis": {
             "endlinecolor": "#2a3f5f",
             "gridcolor": "white",
             "linecolor": "white",
             "minorgridcolor": "white",
             "startlinecolor": "#2a3f5f"
            },
            "baxis": {
             "endlinecolor": "#2a3f5f",
             "gridcolor": "white",
             "linecolor": "white",
             "minorgridcolor": "white",
             "startlinecolor": "#2a3f5f"
            },
            "type": "carpet"
           }
          ],
          "choropleth": [
           {
            "colorbar": {
             "outlinewidth": 0,
             "ticks": ""
            },
            "type": "choropleth"
           }
          ],
          "contour": [
           {
            "colorbar": {
             "outlinewidth": 0,
             "ticks": ""
            },
            "colorscale": [
             [
              0,
              "#0d0887"
             ],
             [
              0.1111111111111111,
              "#46039f"
             ],
             [
              0.2222222222222222,
              "#7201a8"
             ],
             [
              0.3333333333333333,
              "#9c179e"
             ],
             [
              0.4444444444444444,
              "#bd3786"
             ],
             [
              0.5555555555555556,
              "#d8576b"
             ],
             [
              0.6666666666666666,
              "#ed7953"
             ],
             [
              0.7777777777777778,
              "#fb9f3a"
             ],
             [
              0.8888888888888888,
              "#fdca26"
             ],
             [
              1,
              "#f0f921"
             ]
            ],
            "type": "contour"
           }
          ],
          "contourcarpet": [
           {
            "colorbar": {
             "outlinewidth": 0,
             "ticks": ""
            },
            "type": "contourcarpet"
           }
          ],
          "heatmap": [
           {
            "colorbar": {
             "outlinewidth": 0,
             "ticks": ""
            },
            "colorscale": [
             [
              0,
              "#0d0887"
             ],
             [
              0.1111111111111111,
              "#46039f"
             ],
             [
              0.2222222222222222,
              "#7201a8"
             ],
             [
              0.3333333333333333,
              "#9c179e"
             ],
             [
              0.4444444444444444,
              "#bd3786"
             ],
             [
              0.5555555555555556,
              "#d8576b"
             ],
             [
              0.6666666666666666,
              "#ed7953"
             ],
             [
              0.7777777777777778,
              "#fb9f3a"
             ],
             [
              0.8888888888888888,
              "#fdca26"
             ],
             [
              1,
              "#f0f921"
             ]
            ],
            "type": "heatmap"
           }
          ],
          "heatmapgl": [
           {
            "colorbar": {
             "outlinewidth": 0,
             "ticks": ""
            },
            "colorscale": [
             [
              0,
              "#0d0887"
             ],
             [
              0.1111111111111111,
              "#46039f"
             ],
             [
              0.2222222222222222,
              "#7201a8"
             ],
             [
              0.3333333333333333,
              "#9c179e"
             ],
             [
              0.4444444444444444,
              "#bd3786"
             ],
             [
              0.5555555555555556,
              "#d8576b"
             ],
             [
              0.6666666666666666,
              "#ed7953"
             ],
             [
              0.7777777777777778,
              "#fb9f3a"
             ],
             [
              0.8888888888888888,
              "#fdca26"
             ],
             [
              1,
              "#f0f921"
             ]
            ],
            "type": "heatmapgl"
           }
          ],
          "histogram": [
           {
            "marker": {
             "pattern": {
              "fillmode": "overlay",
              "size": 10,
              "solidity": 0.2
             }
            },
            "type": "histogram"
           }
          ],
          "histogram2d": [
           {
            "colorbar": {
             "outlinewidth": 0,
             "ticks": ""
            },
            "colorscale": [
             [
              0,
              "#0d0887"
             ],
             [
              0.1111111111111111,
              "#46039f"
             ],
             [
              0.2222222222222222,
              "#7201a8"
             ],
             [
              0.3333333333333333,
              "#9c179e"
             ],
             [
              0.4444444444444444,
              "#bd3786"
             ],
             [
              0.5555555555555556,
              "#d8576b"
             ],
             [
              0.6666666666666666,
              "#ed7953"
             ],
             [
              0.7777777777777778,
              "#fb9f3a"
             ],
             [
              0.8888888888888888,
              "#fdca26"
             ],
             [
              1,
              "#f0f921"
             ]
            ],
            "type": "histogram2d"
           }
          ],
          "histogram2dcontour": [
           {
            "colorbar": {
             "outlinewidth": 0,
             "ticks": ""
            },
            "colorscale": [
             [
              0,
              "#0d0887"
             ],
             [
              0.1111111111111111,
              "#46039f"
             ],
             [
              0.2222222222222222,
              "#7201a8"
             ],
             [
              0.3333333333333333,
              "#9c179e"
             ],
             [
              0.4444444444444444,
              "#bd3786"
             ],
             [
              0.5555555555555556,
              "#d8576b"
             ],
             [
              0.6666666666666666,
              "#ed7953"
             ],
             [
              0.7777777777777778,
              "#fb9f3a"
             ],
             [
              0.8888888888888888,
              "#fdca26"
             ],
             [
              1,
              "#f0f921"
             ]
            ],
            "type": "histogram2dcontour"
           }
          ],
          "mesh3d": [
           {
            "colorbar": {
             "outlinewidth": 0,
             "ticks": ""
            },
            "type": "mesh3d"
           }
          ],
          "parcoords": [
           {
            "line": {
             "colorbar": {
              "outlinewidth": 0,
              "ticks": ""
             }
            },
            "type": "parcoords"
           }
          ],
          "pie": [
           {
            "automargin": true,
            "type": "pie"
           }
          ],
          "scatter": [
           {
            "fillpattern": {
             "fillmode": "overlay",
             "size": 10,
             "solidity": 0.2
            },
            "type": "scatter"
           }
          ],
          "scatter3d": [
           {
            "line": {
             "colorbar": {
              "outlinewidth": 0,
              "ticks": ""
             }
            },
            "marker": {
             "colorbar": {
              "outlinewidth": 0,
              "ticks": ""
             }
            },
            "type": "scatter3d"
           }
          ],
          "scattercarpet": [
           {
            "marker": {
             "colorbar": {
              "outlinewidth": 0,
              "ticks": ""
             }
            },
            "type": "scattercarpet"
           }
          ],
          "scattergeo": [
           {
            "marker": {
             "colorbar": {
              "outlinewidth": 0,
              "ticks": ""
             }
            },
            "type": "scattergeo"
           }
          ],
          "scattergl": [
           {
            "marker": {
             "colorbar": {
              "outlinewidth": 0,
              "ticks": ""
             }
            },
            "type": "scattergl"
           }
          ],
          "scattermapbox": [
           {
            "marker": {
             "colorbar": {
              "outlinewidth": 0,
              "ticks": ""
             }
            },
            "type": "scattermapbox"
           }
          ],
          "scatterpolar": [
           {
            "marker": {
             "colorbar": {
              "outlinewidth": 0,
              "ticks": ""
             }
            },
            "type": "scatterpolar"
           }
          ],
          "scatterpolargl": [
           {
            "marker": {
             "colorbar": {
              "outlinewidth": 0,
              "ticks": ""
             }
            },
            "type": "scatterpolargl"
           }
          ],
          "scatterternary": [
           {
            "marker": {
             "colorbar": {
              "outlinewidth": 0,
              "ticks": ""
             }
            },
            "type": "scatterternary"
           }
          ],
          "surface": [
           {
            "colorbar": {
             "outlinewidth": 0,
             "ticks": ""
            },
            "colorscale": [
             [
              0,
              "#0d0887"
             ],
             [
              0.1111111111111111,
              "#46039f"
             ],
             [
              0.2222222222222222,
              "#7201a8"
             ],
             [
              0.3333333333333333,
              "#9c179e"
             ],
             [
              0.4444444444444444,
              "#bd3786"
             ],
             [
              0.5555555555555556,
              "#d8576b"
             ],
             [
              0.6666666666666666,
              "#ed7953"
             ],
             [
              0.7777777777777778,
              "#fb9f3a"
             ],
             [
              0.8888888888888888,
              "#fdca26"
             ],
             [
              1,
              "#f0f921"
             ]
            ],
            "type": "surface"
           }
          ],
          "table": [
           {
            "cells": {
             "fill": {
              "color": "#EBF0F8"
             },
             "line": {
              "color": "white"
             }
            },
            "header": {
             "fill": {
              "color": "#C8D4E3"
             },
             "line": {
              "color": "white"
             }
            },
            "type": "table"
           }
          ]
         },
         "layout": {
          "annotationdefaults": {
           "arrowcolor": "#2a3f5f",
           "arrowhead": 0,
           "arrowwidth": 1
          },
          "autotypenumbers": "strict",
          "coloraxis": {
           "colorbar": {
            "outlinewidth": 0,
            "ticks": ""
           }
          },
          "colorscale": {
           "diverging": [
            [
             0,
             "#8e0152"
            ],
            [
             0.1,
             "#c51b7d"
            ],
            [
             0.2,
             "#de77ae"
            ],
            [
             0.3,
             "#f1b6da"
            ],
            [
             0.4,
             "#fde0ef"
            ],
            [
             0.5,
             "#f7f7f7"
            ],
            [
             0.6,
             "#e6f5d0"
            ],
            [
             0.7,
             "#b8e186"
            ],
            [
             0.8,
             "#7fbc41"
            ],
            [
             0.9,
             "#4d9221"
            ],
            [
             1,
             "#276419"
            ]
           ],
           "sequential": [
            [
             0,
             "#0d0887"
            ],
            [
             0.1111111111111111,
             "#46039f"
            ],
            [
             0.2222222222222222,
             "#7201a8"
            ],
            [
             0.3333333333333333,
             "#9c179e"
            ],
            [
             0.4444444444444444,
             "#bd3786"
            ],
            [
             0.5555555555555556,
             "#d8576b"
            ],
            [
             0.6666666666666666,
             "#ed7953"
            ],
            [
             0.7777777777777778,
             "#fb9f3a"
            ],
            [
             0.8888888888888888,
             "#fdca26"
            ],
            [
             1,
             "#f0f921"
            ]
           ],
           "sequentialminus": [
            [
             0,
             "#0d0887"
            ],
            [
             0.1111111111111111,
             "#46039f"
            ],
            [
             0.2222222222222222,
             "#7201a8"
            ],
            [
             0.3333333333333333,
             "#9c179e"
            ],
            [
             0.4444444444444444,
             "#bd3786"
            ],
            [
             0.5555555555555556,
             "#d8576b"
            ],
            [
             0.6666666666666666,
             "#ed7953"
            ],
            [
             0.7777777777777778,
             "#fb9f3a"
            ],
            [
             0.8888888888888888,
             "#fdca26"
            ],
            [
             1,
             "#f0f921"
            ]
           ]
          },
          "colorway": [
           "#636efa",
           "#EF553B",
           "#00cc96",
           "#ab63fa",
           "#FFA15A",
           "#19d3f3",
           "#FF6692",
           "#B6E880",
           "#FF97FF",
           "#FECB52"
          ],
          "font": {
           "color": "#2a3f5f"
          },
          "geo": {
           "bgcolor": "white",
           "lakecolor": "white",
           "landcolor": "#E5ECF6",
           "showlakes": true,
           "showland": true,
           "subunitcolor": "white"
          },
          "hoverlabel": {
           "align": "left"
          },
          "hovermode": "closest",
          "mapbox": {
           "style": "light"
          },
          "paper_bgcolor": "white",
          "plot_bgcolor": "#E5ECF6",
          "polar": {
           "angularaxis": {
            "gridcolor": "white",
            "linecolor": "white",
            "ticks": ""
           },
           "bgcolor": "#E5ECF6",
           "radialaxis": {
            "gridcolor": "white",
            "linecolor": "white",
            "ticks": ""
           }
          },
          "scene": {
           "xaxis": {
            "backgroundcolor": "#E5ECF6",
            "gridcolor": "white",
            "gridwidth": 2,
            "linecolor": "white",
            "showbackground": true,
            "ticks": "",
            "zerolinecolor": "white"
           },
           "yaxis": {
            "backgroundcolor": "#E5ECF6",
            "gridcolor": "white",
            "gridwidth": 2,
            "linecolor": "white",
            "showbackground": true,
            "ticks": "",
            "zerolinecolor": "white"
           },
           "zaxis": {
            "backgroundcolor": "#E5ECF6",
            "gridcolor": "white",
            "gridwidth": 2,
            "linecolor": "white",
            "showbackground": true,
            "ticks": "",
            "zerolinecolor": "white"
           }
          },
          "shapedefaults": {
           "line": {
            "color": "#2a3f5f"
           }
          },
          "ternary": {
           "aaxis": {
            "gridcolor": "white",
            "linecolor": "white",
            "ticks": ""
           },
           "baxis": {
            "gridcolor": "white",
            "linecolor": "white",
            "ticks": ""
           },
           "bgcolor": "#E5ECF6",
           "caxis": {
            "gridcolor": "white",
            "linecolor": "white",
            "ticks": ""
           }
          },
          "title": {
           "x": 0.05
          },
          "xaxis": {
           "automargin": true,
           "gridcolor": "white",
           "linecolor": "white",
           "ticks": "",
           "title": {
            "standoff": 15
           },
           "zerolinecolor": "white",
           "zerolinewidth": 2
          },
          "yaxis": {
           "automargin": true,
           "gridcolor": "white",
           "linecolor": "white",
           "ticks": "",
           "title": {
            "standoff": 15
           },
           "zerolinecolor": "white",
           "zerolinewidth": 2
          }
         }
        },
        "xaxis": {
         "anchor": "y",
         "domain": [
          0,
          0.7363
         ],
         "title": {
          "text": "rawF1"
         }
        },
        "xaxis2": {
         "anchor": "y2",
         "domain": [
          0.7413,
          1
         ],
         "matches": "x2",
         "showgrid": true,
         "showline": false,
         "showticklabels": false,
         "ticks": ""
        },
        "yaxis": {
         "anchor": "x",
         "domain": [
          0,
          1
         ],
         "title": {
          "text": "eventF1"
         }
        },
        "yaxis2": {
         "anchor": "x2",
         "domain": [
          0,
          1
         ],
         "matches": "y",
         "showgrid": true,
         "showticklabels": false
        }
       }
      }
     },
     "metadata": {},
     "output_type": "display_data"
    }
   ],
   "source": [
    "fig=px.scatter(experimentModels_N2,x='rawF1',y='eventF1',color='test',hover_name='modelId', marginal_y=\"histogram\")\n",
    "fig.add_trace(\n",
    "    go.Scatter(x=experimentModels_N2['rawF1'], y=experimentModels_N2['rawF1'], name=\"identity\", mode='lines',fill=\"toself\")\n",
    ")\n",
    "fig.show()"
   ]
  },
  {
   "cell_type": "code",
   "execution_count": 37,
   "metadata": {},
   "outputs": [
    {
     "data": {
      "application/vnd.plotly.v1+json": {
       "config": {
        "plotlyServerURL": "https://plot.ly"
       },
       "data": [
        {
         "hovertemplate": "<b>%{hovertext}</b><br><br>test=0001<br>eventF1=%{x}<br>eventPrecision=%{y}<extra></extra>",
         "hovertext": [
          "8b2ea581-6dec-4094-957e-cc1ceb7234c5"
         ],
         "legendgroup": "0001",
         "marker": {
          "color": "#636efa",
          "symbol": "circle"
         },
         "mode": "markers",
         "name": "0001",
         "orientation": "v",
         "showlegend": true,
         "type": "scatter",
         "x": [
          0.7047504509921828
         ],
         "xaxis": "x",
         "y": [
          0.9466882067851373
         ],
         "yaxis": "y"
        },
        {
         "alignmentgroup": "True",
         "bingroup": "y",
         "hovertemplate": "test=0001<br>eventPrecision=%{y}<br>count=%{x}<extra></extra>",
         "legendgroup": "0001",
         "marker": {
          "color": "#636efa"
         },
         "name": "0001",
         "offsetgroup": "0001",
         "opacity": 0.5,
         "showlegend": false,
         "type": "histogram",
         "xaxis": "x2",
         "y": [
          0.9466882067851373
         ],
         "yaxis": "y2"
        },
        {
         "hovertemplate": "<b>%{hovertext}</b><br><br>test=0002<br>eventF1=%{x}<br>eventPrecision=%{y}<extra></extra>",
         "hovertext": [
          "80181036-469f-4bcf-95a0-68374649133a"
         ],
         "legendgroup": "0002",
         "marker": {
          "color": "#EF553B",
          "symbol": "circle"
         },
         "mode": "markers",
         "name": "0002",
         "orientation": "v",
         "showlegend": true,
         "type": "scatter",
         "x": [
          0.8075278015397775
         ],
         "xaxis": "x",
         "y": [
          0.7693561532192339
         ],
         "yaxis": "y"
        },
        {
         "alignmentgroup": "True",
         "bingroup": "y",
         "hovertemplate": "test=0002<br>eventPrecision=%{y}<br>count=%{x}<extra></extra>",
         "legendgroup": "0002",
         "marker": {
          "color": "#EF553B"
         },
         "name": "0002",
         "offsetgroup": "0002",
         "opacity": 0.5,
         "showlegend": false,
         "type": "histogram",
         "xaxis": "x2",
         "y": [
          0.7693561532192339
         ],
         "yaxis": "y2"
        },
        {
         "hovertemplate": "<b>%{hovertext}</b><br><br>test=0003<br>eventF1=%{x}<br>eventPrecision=%{y}<extra></extra>",
         "hovertext": [
          "f6cafb09-5e74-4889-a306-e517e28d70fe"
         ],
         "legendgroup": "0003",
         "marker": {
          "color": "#00cc96",
          "symbol": "circle"
         },
         "mode": "markers",
         "name": "0003",
         "orientation": "v",
         "showlegend": true,
         "type": "scatter",
         "x": [
          0.6925566343042071
         ],
         "xaxis": "x",
         "y": [
          0.6445783132530121
         ],
         "yaxis": "y"
        },
        {
         "alignmentgroup": "True",
         "bingroup": "y",
         "hovertemplate": "test=0003<br>eventPrecision=%{y}<br>count=%{x}<extra></extra>",
         "legendgroup": "0003",
         "marker": {
          "color": "#00cc96"
         },
         "name": "0003",
         "offsetgroup": "0003",
         "opacity": 0.5,
         "showlegend": false,
         "type": "histogram",
         "xaxis": "x2",
         "y": [
          0.6445783132530121
         ],
         "yaxis": "y2"
        },
        {
         "hovertemplate": "<b>%{hovertext}</b><br><br>test=0005<br>eventF1=%{x}<br>eventPrecision=%{y}<extra></extra>",
         "hovertext": [
          "2bf1e17a-c8bb-4166-8453-7fdff2414b10"
         ],
         "legendgroup": "0005",
         "marker": {
          "color": "#ab63fa",
          "symbol": "circle"
         },
         "mode": "markers",
         "name": "0005",
         "orientation": "v",
         "showlegend": true,
         "type": "scatter",
         "x": [
          0.6867749419953596
         ],
         "xaxis": "x",
         "y": [
          0.5681381957773513
         ],
         "yaxis": "y"
        },
        {
         "alignmentgroup": "True",
         "bingroup": "y",
         "hovertemplate": "test=0005<br>eventPrecision=%{y}<br>count=%{x}<extra></extra>",
         "legendgroup": "0005",
         "marker": {
          "color": "#ab63fa"
         },
         "name": "0005",
         "offsetgroup": "0005",
         "opacity": 0.5,
         "showlegend": false,
         "type": "histogram",
         "xaxis": "x2",
         "y": [
          0.5681381957773513
         ],
         "yaxis": "y2"
        },
        {
         "hovertemplate": "<b>%{hovertext}</b><br><br>test=0006<br>eventF1=%{x}<br>eventPrecision=%{y}<extra></extra>",
         "hovertext": [
          "0feacbcf-4f37-402e-8fbc-4e48a2520bd4"
         ],
         "legendgroup": "0006",
         "marker": {
          "color": "#FFA15A",
          "symbol": "circle"
         },
         "mode": "markers",
         "name": "0006",
         "orientation": "v",
         "showlegend": true,
         "type": "scatter",
         "x": [
          0.7103448275862069
         ],
         "xaxis": "x",
         "y": [
          0.7357142857142858
         ],
         "yaxis": "y"
        },
        {
         "alignmentgroup": "True",
         "bingroup": "y",
         "hovertemplate": "test=0006<br>eventPrecision=%{y}<br>count=%{x}<extra></extra>",
         "legendgroup": "0006",
         "marker": {
          "color": "#FFA15A"
         },
         "name": "0006",
         "offsetgroup": "0006",
         "opacity": 0.5,
         "showlegend": false,
         "type": "histogram",
         "xaxis": "x2",
         "y": [
          0.7357142857142858
         ],
         "yaxis": "y2"
        },
        {
         "hovertemplate": "<b>%{hovertext}</b><br><br>test=0007<br>eventF1=%{x}<br>eventPrecision=%{y}<extra></extra>",
         "hovertext": [
          "29c70696-0202-4feb-bd78-3579052a4865"
         ],
         "legendgroup": "0007",
         "marker": {
          "color": "#19d3f3",
          "symbol": "circle"
         },
         "mode": "markers",
         "name": "0007",
         "orientation": "v",
         "showlegend": true,
         "type": "scatter",
         "x": [
          0.7404436054742803
         ],
         "xaxis": "x",
         "y": [
          0.6495443247721624
         ],
         "yaxis": "y"
        },
        {
         "alignmentgroup": "True",
         "bingroup": "y",
         "hovertemplate": "test=0007<br>eventPrecision=%{y}<br>count=%{x}<extra></extra>",
         "legendgroup": "0007",
         "marker": {
          "color": "#19d3f3"
         },
         "name": "0007",
         "offsetgroup": "0007",
         "opacity": 0.5,
         "showlegend": false,
         "type": "histogram",
         "xaxis": "x2",
         "y": [
          0.6495443247721624
         ],
         "yaxis": "y2"
        },
        {
         "hovertemplate": "<b>%{hovertext}</b><br><br>test=0009<br>eventF1=%{x}<br>eventPrecision=%{y}<extra></extra>",
         "hovertext": [
          "768cb7b4-e534-49f7-b9c4-acfa7b401ffe"
         ],
         "legendgroup": "0009",
         "marker": {
          "color": "#FF6692",
          "symbol": "circle"
         },
         "mode": "markers",
         "name": "0009",
         "orientation": "v",
         "showlegend": true,
         "type": "scatter",
         "x": [
          0.786479250334672
         ],
         "xaxis": "x",
         "y": [
          0.8647058823529412
         ],
         "yaxis": "y"
        },
        {
         "alignmentgroup": "True",
         "bingroup": "y",
         "hovertemplate": "test=0009<br>eventPrecision=%{y}<br>count=%{x}<extra></extra>",
         "legendgroup": "0009",
         "marker": {
          "color": "#FF6692"
         },
         "name": "0009",
         "offsetgroup": "0009",
         "opacity": 0.5,
         "showlegend": false,
         "type": "histogram",
         "xaxis": "x2",
         "y": [
          0.8647058823529412
         ],
         "yaxis": "y2"
        },
        {
         "hovertemplate": "<b>%{hovertext}</b><br><br>test=0010<br>eventF1=%{x}<br>eventPrecision=%{y}<extra></extra>",
         "hovertext": [
          "e3d50ec6-a2f8-45fc-88f9-9af0621c2050"
         ],
         "legendgroup": "0010",
         "marker": {
          "color": "#B6E880",
          "symbol": "circle"
         },
         "mode": "markers",
         "name": "0010",
         "orientation": "v",
         "showlegend": true,
         "type": "scatter",
         "x": [
          0.8368226600985221
         ],
         "xaxis": "x",
         "y": [
          0.8190591073582629
         ],
         "yaxis": "y"
        },
        {
         "alignmentgroup": "True",
         "bingroup": "y",
         "hovertemplate": "test=0010<br>eventPrecision=%{y}<br>count=%{x}<extra></extra>",
         "legendgroup": "0010",
         "marker": {
          "color": "#B6E880"
         },
         "name": "0010",
         "offsetgroup": "0010",
         "opacity": 0.5,
         "showlegend": false,
         "type": "histogram",
         "xaxis": "x2",
         "y": [
          0.8190591073582629
         ],
         "yaxis": "y2"
        },
        {
         "hovertemplate": "<b>%{hovertext}</b><br><br>test=0011<br>eventF1=%{x}<br>eventPrecision=%{y}<extra></extra>",
         "hovertext": [
          "d539204f-ac49-4811-9ed0-9b39bc65c8f3"
         ],
         "legendgroup": "0011",
         "marker": {
          "color": "#FF97FF",
          "symbol": "circle"
         },
         "mode": "markers",
         "name": "0011",
         "orientation": "v",
         "showlegend": true,
         "type": "scatter",
         "x": [
          0.7052168447517285
         ],
         "xaxis": "x",
         "y": [
          0.5626880641925778
         ],
         "yaxis": "y"
        },
        {
         "alignmentgroup": "True",
         "bingroup": "y",
         "hovertemplate": "test=0011<br>eventPrecision=%{y}<br>count=%{x}<extra></extra>",
         "legendgroup": "0011",
         "marker": {
          "color": "#FF97FF"
         },
         "name": "0011",
         "offsetgroup": "0011",
         "opacity": 0.5,
         "showlegend": false,
         "type": "histogram",
         "xaxis": "x2",
         "y": [
          0.5626880641925778
         ],
         "yaxis": "y2"
        },
        {
         "hovertemplate": "<b>%{hovertext}</b><br><br>test=0012<br>eventF1=%{x}<br>eventPrecision=%{y}<extra></extra>",
         "hovertext": [
          "1fe9ebda-f8d4-46a7-8ec3-1c1477a12af6"
         ],
         "legendgroup": "0012",
         "marker": {
          "color": "#FECB52",
          "symbol": "circle"
         },
         "mode": "markers",
         "name": "0012",
         "orientation": "v",
         "showlegend": true,
         "type": "scatter",
         "x": [
          0.7932618683001531
         ],
         "xaxis": "x",
         "y": [
          0.8647746243739566
         ],
         "yaxis": "y"
        },
        {
         "alignmentgroup": "True",
         "bingroup": "y",
         "hovertemplate": "test=0012<br>eventPrecision=%{y}<br>count=%{x}<extra></extra>",
         "legendgroup": "0012",
         "marker": {
          "color": "#FECB52"
         },
         "name": "0012",
         "offsetgroup": "0012",
         "opacity": 0.5,
         "showlegend": false,
         "type": "histogram",
         "xaxis": "x2",
         "y": [
          0.8647746243739566
         ],
         "yaxis": "y2"
        },
        {
         "hovertemplate": "<b>%{hovertext}</b><br><br>test=0013<br>eventF1=%{x}<br>eventPrecision=%{y}<extra></extra>",
         "hovertext": [
          "fef1292a-c2f5-4c3e-96c0-b9ec6f60cb96"
         ],
         "legendgroup": "0013",
         "marker": {
          "color": "#636efa",
          "symbol": "circle"
         },
         "mode": "markers",
         "name": "0013",
         "orientation": "v",
         "showlegend": true,
         "type": "scatter",
         "x": [
          0.720108695652174
         ],
         "xaxis": "x",
         "y": [
          0.5788091068301225
         ],
         "yaxis": "y"
        },
        {
         "alignmentgroup": "True",
         "bingroup": "y",
         "hovertemplate": "test=0013<br>eventPrecision=%{y}<br>count=%{x}<extra></extra>",
         "legendgroup": "0013",
         "marker": {
          "color": "#636efa"
         },
         "name": "0013",
         "offsetgroup": "0013",
         "opacity": 0.5,
         "showlegend": false,
         "type": "histogram",
         "xaxis": "x2",
         "y": [
          0.5788091068301225
         ],
         "yaxis": "y2"
        },
        {
         "hovertemplate": "<b>%{hovertext}</b><br><br>test=0014<br>eventF1=%{x}<br>eventPrecision=%{y}<extra></extra>",
         "hovertext": [
          "17643ba4-cb3b-4cd8-818b-406abeab9cb3"
         ],
         "legendgroup": "0014",
         "marker": {
          "color": "#EF553B",
          "symbol": "circle"
         },
         "mode": "markers",
         "name": "0014",
         "orientation": "v",
         "showlegend": true,
         "type": "scatter",
         "x": [
          0.6224627875507442
         ],
         "xaxis": "x",
         "y": [
          0.4558139534883721
         ],
         "yaxis": "y"
        },
        {
         "alignmentgroup": "True",
         "bingroup": "y",
         "hovertemplate": "test=0014<br>eventPrecision=%{y}<br>count=%{x}<extra></extra>",
         "legendgroup": "0014",
         "marker": {
          "color": "#EF553B"
         },
         "name": "0014",
         "offsetgroup": "0014",
         "opacity": 0.5,
         "showlegend": false,
         "type": "histogram",
         "xaxis": "x2",
         "y": [
          0.4558139534883721
         ],
         "yaxis": "y2"
        },
        {
         "hovertemplate": "<b>%{hovertext}</b><br><br>test=0017<br>eventF1=%{x}<br>eventPrecision=%{y}<extra></extra>",
         "hovertext": [
          "deda4266-2cea-44e1-93d6-21d866332ca0"
         ],
         "legendgroup": "0017",
         "marker": {
          "color": "#00cc96",
          "symbol": "circle"
         },
         "mode": "markers",
         "name": "0017",
         "orientation": "v",
         "showlegend": true,
         "type": "scatter",
         "x": [
          0.7606318347509113
         ],
         "xaxis": "x",
         "y": [
          0.8838526912181303
         ],
         "yaxis": "y"
        },
        {
         "alignmentgroup": "True",
         "bingroup": "y",
         "hovertemplate": "test=0017<br>eventPrecision=%{y}<br>count=%{x}<extra></extra>",
         "legendgroup": "0017",
         "marker": {
          "color": "#00cc96"
         },
         "name": "0017",
         "offsetgroup": "0017",
         "opacity": 0.5,
         "showlegend": false,
         "type": "histogram",
         "xaxis": "x2",
         "y": [
          0.8838526912181303
         ],
         "yaxis": "y2"
        },
        {
         "hovertemplate": "<b>%{hovertext}</b><br><br>test=0018<br>eventF1=%{x}<br>eventPrecision=%{y}<extra></extra>",
         "hovertext": [
          "60d7b18b-ed9c-40bb-98ce-5193ad5abe70"
         ],
         "legendgroup": "0018",
         "marker": {
          "color": "#ab63fa",
          "symbol": "circle"
         },
         "mode": "markers",
         "name": "0018",
         "orientation": "v",
         "showlegend": true,
         "type": "scatter",
         "x": [
          0.7575462512171373
         ],
         "xaxis": "x",
         "y": [
          0.8741573033707866
         ],
         "yaxis": "y"
        },
        {
         "alignmentgroup": "True",
         "bingroup": "y",
         "hovertemplate": "test=0018<br>eventPrecision=%{y}<br>count=%{x}<extra></extra>",
         "legendgroup": "0018",
         "marker": {
          "color": "#ab63fa"
         },
         "name": "0018",
         "offsetgroup": "0018",
         "opacity": 0.5,
         "showlegend": false,
         "type": "histogram",
         "xaxis": "x2",
         "y": [
          0.8741573033707866
         ],
         "yaxis": "y2"
        },
        {
         "hovertemplate": "<b>%{hovertext}</b><br><br>test=0019<br>eventF1=%{x}<br>eventPrecision=%{y}<extra></extra>",
         "hovertext": [
          "c8a28ce7-7f69-4a97-bfe2-229b91334659"
         ],
         "legendgroup": "0019",
         "marker": {
          "color": "#FFA15A",
          "symbol": "circle"
         },
         "mode": "markers",
         "name": "0019",
         "orientation": "v",
         "showlegend": true,
         "type": "scatter",
         "x": [
          0.5684995340167754
         ],
         "xaxis": "x",
         "y": [
          0.39869281045751637
         ],
         "yaxis": "y"
        },
        {
         "alignmentgroup": "True",
         "bingroup": "y",
         "hovertemplate": "test=0019<br>eventPrecision=%{y}<br>count=%{x}<extra></extra>",
         "legendgroup": "0019",
         "marker": {
          "color": "#FFA15A"
         },
         "name": "0019",
         "offsetgroup": "0019",
         "opacity": 0.5,
         "showlegend": false,
         "type": "histogram",
         "xaxis": "x2",
         "y": [
          0.39869281045751637
         ],
         "yaxis": "y2"
        },
        {
         "fill": "toself",
         "mode": "lines",
         "name": "identity",
         "type": "scatter",
         "x": [
          0.7047504509921828,
          0.8075278015397775,
          0.6925566343042071,
          0.6867749419953596,
          0.7103448275862069,
          0.7404436054742803,
          0.786479250334672,
          0.8368226600985221,
          0.7052168447517285,
          0.7932618683001531,
          0.720108695652174,
          0.6224627875507442,
          0.7606318347509113,
          0.7575462512171373,
          0.5684995340167754
         ],
         "y": [
          0.7047504509921828,
          0.8075278015397775,
          0.6925566343042071,
          0.6867749419953596,
          0.7103448275862069,
          0.7404436054742803,
          0.786479250334672,
          0.8368226600985221,
          0.7052168447517285,
          0.7932618683001531,
          0.720108695652174,
          0.6224627875507442,
          0.7606318347509113,
          0.7575462512171373,
          0.5684995340167754
         ]
        }
       ],
       "layout": {
        "barmode": "overlay",
        "legend": {
         "title": {
          "text": "test"
         },
         "tracegroupgap": 0
        },
        "margin": {
         "t": 60
        },
        "template": {
         "data": {
          "bar": [
           {
            "error_x": {
             "color": "#2a3f5f"
            },
            "error_y": {
             "color": "#2a3f5f"
            },
            "marker": {
             "line": {
              "color": "#E5ECF6",
              "width": 0.5
             },
             "pattern": {
              "fillmode": "overlay",
              "size": 10,
              "solidity": 0.2
             }
            },
            "type": "bar"
           }
          ],
          "barpolar": [
           {
            "marker": {
             "line": {
              "color": "#E5ECF6",
              "width": 0.5
             },
             "pattern": {
              "fillmode": "overlay",
              "size": 10,
              "solidity": 0.2
             }
            },
            "type": "barpolar"
           }
          ],
          "carpet": [
           {
            "aaxis": {
             "endlinecolor": "#2a3f5f",
             "gridcolor": "white",
             "linecolor": "white",
             "minorgridcolor": "white",
             "startlinecolor": "#2a3f5f"
            },
            "baxis": {
             "endlinecolor": "#2a3f5f",
             "gridcolor": "white",
             "linecolor": "white",
             "minorgridcolor": "white",
             "startlinecolor": "#2a3f5f"
            },
            "type": "carpet"
           }
          ],
          "choropleth": [
           {
            "colorbar": {
             "outlinewidth": 0,
             "ticks": ""
            },
            "type": "choropleth"
           }
          ],
          "contour": [
           {
            "colorbar": {
             "outlinewidth": 0,
             "ticks": ""
            },
            "colorscale": [
             [
              0,
              "#0d0887"
             ],
             [
              0.1111111111111111,
              "#46039f"
             ],
             [
              0.2222222222222222,
              "#7201a8"
             ],
             [
              0.3333333333333333,
              "#9c179e"
             ],
             [
              0.4444444444444444,
              "#bd3786"
             ],
             [
              0.5555555555555556,
              "#d8576b"
             ],
             [
              0.6666666666666666,
              "#ed7953"
             ],
             [
              0.7777777777777778,
              "#fb9f3a"
             ],
             [
              0.8888888888888888,
              "#fdca26"
             ],
             [
              1,
              "#f0f921"
             ]
            ],
            "type": "contour"
           }
          ],
          "contourcarpet": [
           {
            "colorbar": {
             "outlinewidth": 0,
             "ticks": ""
            },
            "type": "contourcarpet"
           }
          ],
          "heatmap": [
           {
            "colorbar": {
             "outlinewidth": 0,
             "ticks": ""
            },
            "colorscale": [
             [
              0,
              "#0d0887"
             ],
             [
              0.1111111111111111,
              "#46039f"
             ],
             [
              0.2222222222222222,
              "#7201a8"
             ],
             [
              0.3333333333333333,
              "#9c179e"
             ],
             [
              0.4444444444444444,
              "#bd3786"
             ],
             [
              0.5555555555555556,
              "#d8576b"
             ],
             [
              0.6666666666666666,
              "#ed7953"
             ],
             [
              0.7777777777777778,
              "#fb9f3a"
             ],
             [
              0.8888888888888888,
              "#fdca26"
             ],
             [
              1,
              "#f0f921"
             ]
            ],
            "type": "heatmap"
           }
          ],
          "heatmapgl": [
           {
            "colorbar": {
             "outlinewidth": 0,
             "ticks": ""
            },
            "colorscale": [
             [
              0,
              "#0d0887"
             ],
             [
              0.1111111111111111,
              "#46039f"
             ],
             [
              0.2222222222222222,
              "#7201a8"
             ],
             [
              0.3333333333333333,
              "#9c179e"
             ],
             [
              0.4444444444444444,
              "#bd3786"
             ],
             [
              0.5555555555555556,
              "#d8576b"
             ],
             [
              0.6666666666666666,
              "#ed7953"
             ],
             [
              0.7777777777777778,
              "#fb9f3a"
             ],
             [
              0.8888888888888888,
              "#fdca26"
             ],
             [
              1,
              "#f0f921"
             ]
            ],
            "type": "heatmapgl"
           }
          ],
          "histogram": [
           {
            "marker": {
             "pattern": {
              "fillmode": "overlay",
              "size": 10,
              "solidity": 0.2
             }
            },
            "type": "histogram"
           }
          ],
          "histogram2d": [
           {
            "colorbar": {
             "outlinewidth": 0,
             "ticks": ""
            },
            "colorscale": [
             [
              0,
              "#0d0887"
             ],
             [
              0.1111111111111111,
              "#46039f"
             ],
             [
              0.2222222222222222,
              "#7201a8"
             ],
             [
              0.3333333333333333,
              "#9c179e"
             ],
             [
              0.4444444444444444,
              "#bd3786"
             ],
             [
              0.5555555555555556,
              "#d8576b"
             ],
             [
              0.6666666666666666,
              "#ed7953"
             ],
             [
              0.7777777777777778,
              "#fb9f3a"
             ],
             [
              0.8888888888888888,
              "#fdca26"
             ],
             [
              1,
              "#f0f921"
             ]
            ],
            "type": "histogram2d"
           }
          ],
          "histogram2dcontour": [
           {
            "colorbar": {
             "outlinewidth": 0,
             "ticks": ""
            },
            "colorscale": [
             [
              0,
              "#0d0887"
             ],
             [
              0.1111111111111111,
              "#46039f"
             ],
             [
              0.2222222222222222,
              "#7201a8"
             ],
             [
              0.3333333333333333,
              "#9c179e"
             ],
             [
              0.4444444444444444,
              "#bd3786"
             ],
             [
              0.5555555555555556,
              "#d8576b"
             ],
             [
              0.6666666666666666,
              "#ed7953"
             ],
             [
              0.7777777777777778,
              "#fb9f3a"
             ],
             [
              0.8888888888888888,
              "#fdca26"
             ],
             [
              1,
              "#f0f921"
             ]
            ],
            "type": "histogram2dcontour"
           }
          ],
          "mesh3d": [
           {
            "colorbar": {
             "outlinewidth": 0,
             "ticks": ""
            },
            "type": "mesh3d"
           }
          ],
          "parcoords": [
           {
            "line": {
             "colorbar": {
              "outlinewidth": 0,
              "ticks": ""
             }
            },
            "type": "parcoords"
           }
          ],
          "pie": [
           {
            "automargin": true,
            "type": "pie"
           }
          ],
          "scatter": [
           {
            "fillpattern": {
             "fillmode": "overlay",
             "size": 10,
             "solidity": 0.2
            },
            "type": "scatter"
           }
          ],
          "scatter3d": [
           {
            "line": {
             "colorbar": {
              "outlinewidth": 0,
              "ticks": ""
             }
            },
            "marker": {
             "colorbar": {
              "outlinewidth": 0,
              "ticks": ""
             }
            },
            "type": "scatter3d"
           }
          ],
          "scattercarpet": [
           {
            "marker": {
             "colorbar": {
              "outlinewidth": 0,
              "ticks": ""
             }
            },
            "type": "scattercarpet"
           }
          ],
          "scattergeo": [
           {
            "marker": {
             "colorbar": {
              "outlinewidth": 0,
              "ticks": ""
             }
            },
            "type": "scattergeo"
           }
          ],
          "scattergl": [
           {
            "marker": {
             "colorbar": {
              "outlinewidth": 0,
              "ticks": ""
             }
            },
            "type": "scattergl"
           }
          ],
          "scattermapbox": [
           {
            "marker": {
             "colorbar": {
              "outlinewidth": 0,
              "ticks": ""
             }
            },
            "type": "scattermapbox"
           }
          ],
          "scatterpolar": [
           {
            "marker": {
             "colorbar": {
              "outlinewidth": 0,
              "ticks": ""
             }
            },
            "type": "scatterpolar"
           }
          ],
          "scatterpolargl": [
           {
            "marker": {
             "colorbar": {
              "outlinewidth": 0,
              "ticks": ""
             }
            },
            "type": "scatterpolargl"
           }
          ],
          "scatterternary": [
           {
            "marker": {
             "colorbar": {
              "outlinewidth": 0,
              "ticks": ""
             }
            },
            "type": "scatterternary"
           }
          ],
          "surface": [
           {
            "colorbar": {
             "outlinewidth": 0,
             "ticks": ""
            },
            "colorscale": [
             [
              0,
              "#0d0887"
             ],
             [
              0.1111111111111111,
              "#46039f"
             ],
             [
              0.2222222222222222,
              "#7201a8"
             ],
             [
              0.3333333333333333,
              "#9c179e"
             ],
             [
              0.4444444444444444,
              "#bd3786"
             ],
             [
              0.5555555555555556,
              "#d8576b"
             ],
             [
              0.6666666666666666,
              "#ed7953"
             ],
             [
              0.7777777777777778,
              "#fb9f3a"
             ],
             [
              0.8888888888888888,
              "#fdca26"
             ],
             [
              1,
              "#f0f921"
             ]
            ],
            "type": "surface"
           }
          ],
          "table": [
           {
            "cells": {
             "fill": {
              "color": "#EBF0F8"
             },
             "line": {
              "color": "white"
             }
            },
            "header": {
             "fill": {
              "color": "#C8D4E3"
             },
             "line": {
              "color": "white"
             }
            },
            "type": "table"
           }
          ]
         },
         "layout": {
          "annotationdefaults": {
           "arrowcolor": "#2a3f5f",
           "arrowhead": 0,
           "arrowwidth": 1
          },
          "autotypenumbers": "strict",
          "coloraxis": {
           "colorbar": {
            "outlinewidth": 0,
            "ticks": ""
           }
          },
          "colorscale": {
           "diverging": [
            [
             0,
             "#8e0152"
            ],
            [
             0.1,
             "#c51b7d"
            ],
            [
             0.2,
             "#de77ae"
            ],
            [
             0.3,
             "#f1b6da"
            ],
            [
             0.4,
             "#fde0ef"
            ],
            [
             0.5,
             "#f7f7f7"
            ],
            [
             0.6,
             "#e6f5d0"
            ],
            [
             0.7,
             "#b8e186"
            ],
            [
             0.8,
             "#7fbc41"
            ],
            [
             0.9,
             "#4d9221"
            ],
            [
             1,
             "#276419"
            ]
           ],
           "sequential": [
            [
             0,
             "#0d0887"
            ],
            [
             0.1111111111111111,
             "#46039f"
            ],
            [
             0.2222222222222222,
             "#7201a8"
            ],
            [
             0.3333333333333333,
             "#9c179e"
            ],
            [
             0.4444444444444444,
             "#bd3786"
            ],
            [
             0.5555555555555556,
             "#d8576b"
            ],
            [
             0.6666666666666666,
             "#ed7953"
            ],
            [
             0.7777777777777778,
             "#fb9f3a"
            ],
            [
             0.8888888888888888,
             "#fdca26"
            ],
            [
             1,
             "#f0f921"
            ]
           ],
           "sequentialminus": [
            [
             0,
             "#0d0887"
            ],
            [
             0.1111111111111111,
             "#46039f"
            ],
            [
             0.2222222222222222,
             "#7201a8"
            ],
            [
             0.3333333333333333,
             "#9c179e"
            ],
            [
             0.4444444444444444,
             "#bd3786"
            ],
            [
             0.5555555555555556,
             "#d8576b"
            ],
            [
             0.6666666666666666,
             "#ed7953"
            ],
            [
             0.7777777777777778,
             "#fb9f3a"
            ],
            [
             0.8888888888888888,
             "#fdca26"
            ],
            [
             1,
             "#f0f921"
            ]
           ]
          },
          "colorway": [
           "#636efa",
           "#EF553B",
           "#00cc96",
           "#ab63fa",
           "#FFA15A",
           "#19d3f3",
           "#FF6692",
           "#B6E880",
           "#FF97FF",
           "#FECB52"
          ],
          "font": {
           "color": "#2a3f5f"
          },
          "geo": {
           "bgcolor": "white",
           "lakecolor": "white",
           "landcolor": "#E5ECF6",
           "showlakes": true,
           "showland": true,
           "subunitcolor": "white"
          },
          "hoverlabel": {
           "align": "left"
          },
          "hovermode": "closest",
          "mapbox": {
           "style": "light"
          },
          "paper_bgcolor": "white",
          "plot_bgcolor": "#E5ECF6",
          "polar": {
           "angularaxis": {
            "gridcolor": "white",
            "linecolor": "white",
            "ticks": ""
           },
           "bgcolor": "#E5ECF6",
           "radialaxis": {
            "gridcolor": "white",
            "linecolor": "white",
            "ticks": ""
           }
          },
          "scene": {
           "xaxis": {
            "backgroundcolor": "#E5ECF6",
            "gridcolor": "white",
            "gridwidth": 2,
            "linecolor": "white",
            "showbackground": true,
            "ticks": "",
            "zerolinecolor": "white"
           },
           "yaxis": {
            "backgroundcolor": "#E5ECF6",
            "gridcolor": "white",
            "gridwidth": 2,
            "linecolor": "white",
            "showbackground": true,
            "ticks": "",
            "zerolinecolor": "white"
           },
           "zaxis": {
            "backgroundcolor": "#E5ECF6",
            "gridcolor": "white",
            "gridwidth": 2,
            "linecolor": "white",
            "showbackground": true,
            "ticks": "",
            "zerolinecolor": "white"
           }
          },
          "shapedefaults": {
           "line": {
            "color": "#2a3f5f"
           }
          },
          "ternary": {
           "aaxis": {
            "gridcolor": "white",
            "linecolor": "white",
            "ticks": ""
           },
           "baxis": {
            "gridcolor": "white",
            "linecolor": "white",
            "ticks": ""
           },
           "bgcolor": "#E5ECF6",
           "caxis": {
            "gridcolor": "white",
            "linecolor": "white",
            "ticks": ""
           }
          },
          "title": {
           "x": 0.05
          },
          "xaxis": {
           "automargin": true,
           "gridcolor": "white",
           "linecolor": "white",
           "ticks": "",
           "title": {
            "standoff": 15
           },
           "zerolinecolor": "white",
           "zerolinewidth": 2
          },
          "yaxis": {
           "automargin": true,
           "gridcolor": "white",
           "linecolor": "white",
           "ticks": "",
           "title": {
            "standoff": 15
           },
           "zerolinecolor": "white",
           "zerolinewidth": 2
          }
         }
        },
        "xaxis": {
         "anchor": "y",
         "domain": [
          0,
          0.7363
         ],
         "title": {
          "text": "eventF1"
         }
        },
        "xaxis2": {
         "anchor": "y2",
         "domain": [
          0.7413,
          1
         ],
         "matches": "x2",
         "showgrid": true,
         "showline": false,
         "showticklabels": false,
         "ticks": ""
        },
        "yaxis": {
         "anchor": "x",
         "domain": [
          0,
          1
         ],
         "title": {
          "text": "eventPrecision"
         }
        },
        "yaxis2": {
         "anchor": "x2",
         "domain": [
          0,
          1
         ],
         "matches": "y",
         "showgrid": true,
         "showticklabels": false
        }
       }
      }
     },
     "metadata": {},
     "output_type": "display_data"
    }
   ],
   "source": [
    "fig=px.scatter(experimentModels_N2,x='eventF1',y='eventPrecision',color='test',hover_name='modelId', marginal_y=\"histogram\")\n",
    "fig.add_trace(\n",
    "    go.Scatter(x=experimentModels_N2['eventF1'], y=experimentModels_N2['eventF1'], name=\"identity\", mode='lines',fill=\"toself\")\n",
    ")\n",
    "fig.show()"
   ]
  },
  {
   "cell_type": "code",
   "execution_count": 38,
   "metadata": {},
   "outputs": [
    {
     "data": {
      "application/vnd.plotly.v1+json": {
       "config": {
        "plotlyServerURL": "https://plot.ly"
       },
       "data": [
        {
         "hovertemplate": "<b>%{hovertext}</b><br><br>test=0001<br>eventF1=%{x}<br>eventRecall=%{y}<extra></extra>",
         "hovertext": [
          "8b2ea581-6dec-4094-957e-cc1ceb7234c5"
         ],
         "legendgroup": "0001",
         "marker": {
          "color": "#636efa",
          "symbol": "circle"
         },
         "mode": "markers",
         "name": "0001",
         "orientation": "v",
         "showlegend": true,
         "type": "scatter",
         "x": [
          0.7047504509921828
         ],
         "xaxis": "x",
         "y": [
          0.5613026819923371
         ],
         "yaxis": "y"
        },
        {
         "alignmentgroup": "True",
         "bingroup": "y",
         "hovertemplate": "test=0001<br>eventRecall=%{y}<br>count=%{x}<extra></extra>",
         "legendgroup": "0001",
         "marker": {
          "color": "#636efa"
         },
         "name": "0001",
         "offsetgroup": "0001",
         "opacity": 0.5,
         "showlegend": false,
         "type": "histogram",
         "xaxis": "x2",
         "y": [
          0.5613026819923371
         ],
         "yaxis": "y2"
        },
        {
         "hovertemplate": "<b>%{hovertext}</b><br><br>test=0002<br>eventF1=%{x}<br>eventRecall=%{y}<extra></extra>",
         "hovertext": [
          "80181036-469f-4bcf-95a0-68374649133a"
         ],
         "legendgroup": "0002",
         "marker": {
          "color": "#EF553B",
          "symbol": "circle"
         },
         "mode": "markers",
         "name": "0002",
         "orientation": "v",
         "showlegend": true,
         "type": "scatter",
         "x": [
          0.8075278015397775
         ],
         "xaxis": "x",
         "y": [
          0.8496849684968497
         ],
         "yaxis": "y"
        },
        {
         "alignmentgroup": "True",
         "bingroup": "y",
         "hovertemplate": "test=0002<br>eventRecall=%{y}<br>count=%{x}<extra></extra>",
         "legendgroup": "0002",
         "marker": {
          "color": "#EF553B"
         },
         "name": "0002",
         "offsetgroup": "0002",
         "opacity": 0.5,
         "showlegend": false,
         "type": "histogram",
         "xaxis": "x2",
         "y": [
          0.8496849684968497
         ],
         "yaxis": "y2"
        },
        {
         "hovertemplate": "<b>%{hovertext}</b><br><br>test=0003<br>eventF1=%{x}<br>eventRecall=%{y}<extra></extra>",
         "hovertext": [
          "f6cafb09-5e74-4889-a306-e517e28d70fe"
         ],
         "legendgroup": "0003",
         "marker": {
          "color": "#00cc96",
          "symbol": "circle"
         },
         "mode": "markers",
         "name": "0003",
         "orientation": "v",
         "showlegend": true,
         "type": "scatter",
         "x": [
          0.6925566343042071
         ],
         "xaxis": "x",
         "y": [
          0.7482517482517482
         ],
         "yaxis": "y"
        },
        {
         "alignmentgroup": "True",
         "bingroup": "y",
         "hovertemplate": "test=0003<br>eventRecall=%{y}<br>count=%{x}<extra></extra>",
         "legendgroup": "0003",
         "marker": {
          "color": "#00cc96"
         },
         "name": "0003",
         "offsetgroup": "0003",
         "opacity": 0.5,
         "showlegend": false,
         "type": "histogram",
         "xaxis": "x2",
         "y": [
          0.7482517482517482
         ],
         "yaxis": "y2"
        },
        {
         "hovertemplate": "<b>%{hovertext}</b><br><br>test=0005<br>eventF1=%{x}<br>eventRecall=%{y}<extra></extra>",
         "hovertext": [
          "2bf1e17a-c8bb-4166-8453-7fdff2414b10"
         ],
         "legendgroup": "0005",
         "marker": {
          "color": "#ab63fa",
          "symbol": "circle"
         },
         "mode": "markers",
         "name": "0005",
         "orientation": "v",
         "showlegend": true,
         "type": "scatter",
         "x": [
          0.6867749419953596
         ],
         "xaxis": "x",
         "y": [
          0.8680351906158358
         ],
         "yaxis": "y"
        },
        {
         "alignmentgroup": "True",
         "bingroup": "y",
         "hovertemplate": "test=0005<br>eventRecall=%{y}<br>count=%{x}<extra></extra>",
         "legendgroup": "0005",
         "marker": {
          "color": "#ab63fa"
         },
         "name": "0005",
         "offsetgroup": "0005",
         "opacity": 0.5,
         "showlegend": false,
         "type": "histogram",
         "xaxis": "x2",
         "y": [
          0.8680351906158358
         ],
         "yaxis": "y2"
        },
        {
         "hovertemplate": "<b>%{hovertext}</b><br><br>test=0006<br>eventF1=%{x}<br>eventRecall=%{y}<extra></extra>",
         "hovertext": [
          "0feacbcf-4f37-402e-8fbc-4e48a2520bd4"
         ],
         "legendgroup": "0006",
         "marker": {
          "color": "#FFA15A",
          "symbol": "circle"
         },
         "mode": "markers",
         "name": "0006",
         "orientation": "v",
         "showlegend": true,
         "type": "scatter",
         "x": [
          0.7103448275862069
         ],
         "xaxis": "x",
         "y": [
          0.6866666666666666
         ],
         "yaxis": "y"
        },
        {
         "alignmentgroup": "True",
         "bingroup": "y",
         "hovertemplate": "test=0006<br>eventRecall=%{y}<br>count=%{x}<extra></extra>",
         "legendgroup": "0006",
         "marker": {
          "color": "#FFA15A"
         },
         "name": "0006",
         "offsetgroup": "0006",
         "opacity": 0.5,
         "showlegend": false,
         "type": "histogram",
         "xaxis": "x2",
         "y": [
          0.6866666666666666
         ],
         "yaxis": "y2"
        },
        {
         "hovertemplate": "<b>%{hovertext}</b><br><br>test=0007<br>eventF1=%{x}<br>eventRecall=%{y}<extra></extra>",
         "hovertext": [
          "29c70696-0202-4feb-bd78-3579052a4865"
         ],
         "legendgroup": "0007",
         "marker": {
          "color": "#19d3f3",
          "symbol": "circle"
         },
         "mode": "markers",
         "name": "0007",
         "orientation": "v",
         "showlegend": true,
         "type": "scatter",
         "x": [
          0.7404436054742803
         ],
         "xaxis": "x",
         "y": [
          0.8607456140350878
         ],
         "yaxis": "y"
        },
        {
         "alignmentgroup": "True",
         "bingroup": "y",
         "hovertemplate": "test=0007<br>eventRecall=%{y}<br>count=%{x}<extra></extra>",
         "legendgroup": "0007",
         "marker": {
          "color": "#19d3f3"
         },
         "name": "0007",
         "offsetgroup": "0007",
         "opacity": 0.5,
         "showlegend": false,
         "type": "histogram",
         "xaxis": "x2",
         "y": [
          0.8607456140350878
         ],
         "yaxis": "y2"
        },
        {
         "hovertemplate": "<b>%{hovertext}</b><br><br>test=0009<br>eventF1=%{x}<br>eventRecall=%{y}<extra></extra>",
         "hovertext": [
          "768cb7b4-e534-49f7-b9c4-acfa7b401ffe"
         ],
         "legendgroup": "0009",
         "marker": {
          "color": "#FF6692",
          "symbol": "circle"
         },
         "mode": "markers",
         "name": "0009",
         "orientation": "v",
         "showlegend": true,
         "type": "scatter",
         "x": [
          0.786479250334672
         ],
         "xaxis": "x",
         "y": [
          0.7211302211302212
         ],
         "yaxis": "y"
        },
        {
         "alignmentgroup": "True",
         "bingroup": "y",
         "hovertemplate": "test=0009<br>eventRecall=%{y}<br>count=%{x}<extra></extra>",
         "legendgroup": "0009",
         "marker": {
          "color": "#FF6692"
         },
         "name": "0009",
         "offsetgroup": "0009",
         "opacity": 0.5,
         "showlegend": false,
         "type": "histogram",
         "xaxis": "x2",
         "y": [
          0.7211302211302212
         ],
         "yaxis": "y2"
        },
        {
         "hovertemplate": "<b>%{hovertext}</b><br><br>test=0010<br>eventF1=%{x}<br>eventRecall=%{y}<extra></extra>",
         "hovertext": [
          "e3d50ec6-a2f8-45fc-88f9-9af0621c2050"
         ],
         "legendgroup": "0010",
         "marker": {
          "color": "#B6E880",
          "symbol": "circle"
         },
         "mode": "markers",
         "name": "0010",
         "orientation": "v",
         "showlegend": true,
         "type": "scatter",
         "x": [
          0.8368226600985221
         ],
         "xaxis": "x",
         "y": [
          0.8553459119496856
         ],
         "yaxis": "y"
        },
        {
         "alignmentgroup": "True",
         "bingroup": "y",
         "hovertemplate": "test=0010<br>eventRecall=%{y}<br>count=%{x}<extra></extra>",
         "legendgroup": "0010",
         "marker": {
          "color": "#B6E880"
         },
         "name": "0010",
         "offsetgroup": "0010",
         "opacity": 0.5,
         "showlegend": false,
         "type": "histogram",
         "xaxis": "x2",
         "y": [
          0.8553459119496856
         ],
         "yaxis": "y2"
        },
        {
         "hovertemplate": "<b>%{hovertext}</b><br><br>test=0011<br>eventF1=%{x}<br>eventRecall=%{y}<extra></extra>",
         "hovertext": [
          "d539204f-ac49-4811-9ed0-9b39bc65c8f3"
         ],
         "legendgroup": "0011",
         "marker": {
          "color": "#FF97FF",
          "symbol": "circle"
         },
         "mode": "markers",
         "name": "0011",
         "orientation": "v",
         "showlegend": true,
         "type": "scatter",
         "x": [
          0.7052168447517285
         ],
         "xaxis": "x",
         "y": [
          0.9444444444444444
         ],
         "yaxis": "y"
        },
        {
         "alignmentgroup": "True",
         "bingroup": "y",
         "hovertemplate": "test=0011<br>eventRecall=%{y}<br>count=%{x}<extra></extra>",
         "legendgroup": "0011",
         "marker": {
          "color": "#FF97FF"
         },
         "name": "0011",
         "offsetgroup": "0011",
         "opacity": 0.5,
         "showlegend": false,
         "type": "histogram",
         "xaxis": "x2",
         "y": [
          0.9444444444444444
         ],
         "yaxis": "y2"
        },
        {
         "hovertemplate": "<b>%{hovertext}</b><br><br>test=0012<br>eventF1=%{x}<br>eventRecall=%{y}<extra></extra>",
         "hovertext": [
          "1fe9ebda-f8d4-46a7-8ec3-1c1477a12af6"
         ],
         "legendgroup": "0012",
         "marker": {
          "color": "#FECB52",
          "symbol": "circle"
         },
         "mode": "markers",
         "name": "0012",
         "orientation": "v",
         "showlegend": true,
         "type": "scatter",
         "x": [
          0.7932618683001531
         ],
         "xaxis": "x",
         "y": [
          0.7326732673267327
         ],
         "yaxis": "y"
        },
        {
         "alignmentgroup": "True",
         "bingroup": "y",
         "hovertemplate": "test=0012<br>eventRecall=%{y}<br>count=%{x}<extra></extra>",
         "legendgroup": "0012",
         "marker": {
          "color": "#FECB52"
         },
         "name": "0012",
         "offsetgroup": "0012",
         "opacity": 0.5,
         "showlegend": false,
         "type": "histogram",
         "xaxis": "x2",
         "y": [
          0.7326732673267327
         ],
         "yaxis": "y2"
        },
        {
         "hovertemplate": "<b>%{hovertext}</b><br><br>test=0013<br>eventF1=%{x}<br>eventRecall=%{y}<extra></extra>",
         "hovertext": [
          "fef1292a-c2f5-4c3e-96c0-b9ec6f60cb96"
         ],
         "legendgroup": "0013",
         "marker": {
          "color": "#636efa",
          "symbol": "circle"
         },
         "mode": "markers",
         "name": "0013",
         "orientation": "v",
         "showlegend": true,
         "type": "scatter",
         "x": [
          0.720108695652174
         ],
         "xaxis": "x",
         "y": [
          0.9512893982808023
         ],
         "yaxis": "y"
        },
        {
         "alignmentgroup": "True",
         "bingroup": "y",
         "hovertemplate": "test=0013<br>eventRecall=%{y}<br>count=%{x}<extra></extra>",
         "legendgroup": "0013",
         "marker": {
          "color": "#636efa"
         },
         "name": "0013",
         "offsetgroup": "0013",
         "opacity": 0.5,
         "showlegend": false,
         "type": "histogram",
         "xaxis": "x2",
         "y": [
          0.9512893982808023
         ],
         "yaxis": "y2"
        },
        {
         "hovertemplate": "<b>%{hovertext}</b><br><br>test=0014<br>eventF1=%{x}<br>eventRecall=%{y}<extra></extra>",
         "hovertext": [
          "17643ba4-cb3b-4cd8-818b-406abeab9cb3"
         ],
         "legendgroup": "0014",
         "marker": {
          "color": "#EF553B",
          "symbol": "circle"
         },
         "mode": "markers",
         "name": "0014",
         "orientation": "v",
         "showlegend": true,
         "type": "scatter",
         "x": [
          0.6224627875507442
         ],
         "xaxis": "x",
         "y": [
          0.9747191011235955
         ],
         "yaxis": "y"
        },
        {
         "alignmentgroup": "True",
         "bingroup": "y",
         "hovertemplate": "test=0014<br>eventRecall=%{y}<br>count=%{x}<extra></extra>",
         "legendgroup": "0014",
         "marker": {
          "color": "#EF553B"
         },
         "name": "0014",
         "offsetgroup": "0014",
         "opacity": 0.5,
         "showlegend": false,
         "type": "histogram",
         "xaxis": "x2",
         "y": [
          0.9747191011235955
         ],
         "yaxis": "y2"
        },
        {
         "hovertemplate": "<b>%{hovertext}</b><br><br>test=0017<br>eventF1=%{x}<br>eventRecall=%{y}<extra></extra>",
         "hovertext": [
          "deda4266-2cea-44e1-93d6-21d866332ca0"
         ],
         "legendgroup": "0017",
         "marker": {
          "color": "#00cc96",
          "symbol": "circle"
         },
         "mode": "markers",
         "name": "0017",
         "orientation": "v",
         "showlegend": true,
         "type": "scatter",
         "x": [
          0.7606318347509113
         ],
         "xaxis": "x",
         "y": [
          0.6680851063829787
         ],
         "yaxis": "y"
        },
        {
         "alignmentgroup": "True",
         "bingroup": "y",
         "hovertemplate": "test=0017<br>eventRecall=%{y}<br>count=%{x}<extra></extra>",
         "legendgroup": "0017",
         "marker": {
          "color": "#00cc96"
         },
         "name": "0017",
         "offsetgroup": "0017",
         "opacity": 0.5,
         "showlegend": false,
         "type": "histogram",
         "xaxis": "x2",
         "y": [
          0.6680851063829787
         ],
         "yaxis": "y2"
        },
        {
         "hovertemplate": "<b>%{hovertext}</b><br><br>test=0018<br>eventF1=%{x}<br>eventRecall=%{y}<extra></extra>",
         "hovertext": [
          "60d7b18b-ed9c-40bb-98ce-5193ad5abe70"
         ],
         "legendgroup": "0018",
         "marker": {
          "color": "#ab63fa",
          "symbol": "circle"
         },
         "mode": "markers",
         "name": "0018",
         "orientation": "v",
         "showlegend": true,
         "type": "scatter",
         "x": [
          0.7575462512171373
         ],
         "xaxis": "x",
         "y": [
          0.6683848797250859
         ],
         "yaxis": "y"
        },
        {
         "alignmentgroup": "True",
         "bingroup": "y",
         "hovertemplate": "test=0018<br>eventRecall=%{y}<br>count=%{x}<extra></extra>",
         "legendgroup": "0018",
         "marker": {
          "color": "#ab63fa"
         },
         "name": "0018",
         "offsetgroup": "0018",
         "opacity": 0.5,
         "showlegend": false,
         "type": "histogram",
         "xaxis": "x2",
         "y": [
          0.6683848797250859
         ],
         "yaxis": "y2"
        },
        {
         "hovertemplate": "<b>%{hovertext}</b><br><br>test=0019<br>eventF1=%{x}<br>eventRecall=%{y}<extra></extra>",
         "hovertext": [
          "c8a28ce7-7f69-4a97-bfe2-229b91334659"
         ],
         "legendgroup": "0019",
         "marker": {
          "color": "#FFA15A",
          "symbol": "circle"
         },
         "mode": "markers",
         "name": "0019",
         "orientation": "v",
         "showlegend": true,
         "type": "scatter",
         "x": [
          0.5684995340167754
         ],
         "xaxis": "x",
         "y": [
          0.9902597402597403
         ],
         "yaxis": "y"
        },
        {
         "alignmentgroup": "True",
         "bingroup": "y",
         "hovertemplate": "test=0019<br>eventRecall=%{y}<br>count=%{x}<extra></extra>",
         "legendgroup": "0019",
         "marker": {
          "color": "#FFA15A"
         },
         "name": "0019",
         "offsetgroup": "0019",
         "opacity": 0.5,
         "showlegend": false,
         "type": "histogram",
         "xaxis": "x2",
         "y": [
          0.9902597402597403
         ],
         "yaxis": "y2"
        },
        {
         "fill": "toself",
         "mode": "lines",
         "name": "identity",
         "type": "scatter",
         "x": [
          0.7047504509921828,
          0.8075278015397775,
          0.6925566343042071,
          0.6867749419953596,
          0.7103448275862069,
          0.7404436054742803,
          0.786479250334672,
          0.8368226600985221,
          0.7052168447517285,
          0.7932618683001531,
          0.720108695652174,
          0.6224627875507442,
          0.7606318347509113,
          0.7575462512171373,
          0.5684995340167754
         ],
         "y": [
          0.7047504509921828,
          0.8075278015397775,
          0.6925566343042071,
          0.6867749419953596,
          0.7103448275862069,
          0.7404436054742803,
          0.786479250334672,
          0.8368226600985221,
          0.7052168447517285,
          0.7932618683001531,
          0.720108695652174,
          0.6224627875507442,
          0.7606318347509113,
          0.7575462512171373,
          0.5684995340167754
         ]
        }
       ],
       "layout": {
        "barmode": "overlay",
        "legend": {
         "title": {
          "text": "test"
         },
         "tracegroupgap": 0
        },
        "margin": {
         "t": 60
        },
        "template": {
         "data": {
          "bar": [
           {
            "error_x": {
             "color": "#2a3f5f"
            },
            "error_y": {
             "color": "#2a3f5f"
            },
            "marker": {
             "line": {
              "color": "#E5ECF6",
              "width": 0.5
             },
             "pattern": {
              "fillmode": "overlay",
              "size": 10,
              "solidity": 0.2
             }
            },
            "type": "bar"
           }
          ],
          "barpolar": [
           {
            "marker": {
             "line": {
              "color": "#E5ECF6",
              "width": 0.5
             },
             "pattern": {
              "fillmode": "overlay",
              "size": 10,
              "solidity": 0.2
             }
            },
            "type": "barpolar"
           }
          ],
          "carpet": [
           {
            "aaxis": {
             "endlinecolor": "#2a3f5f",
             "gridcolor": "white",
             "linecolor": "white",
             "minorgridcolor": "white",
             "startlinecolor": "#2a3f5f"
            },
            "baxis": {
             "endlinecolor": "#2a3f5f",
             "gridcolor": "white",
             "linecolor": "white",
             "minorgridcolor": "white",
             "startlinecolor": "#2a3f5f"
            },
            "type": "carpet"
           }
          ],
          "choropleth": [
           {
            "colorbar": {
             "outlinewidth": 0,
             "ticks": ""
            },
            "type": "choropleth"
           }
          ],
          "contour": [
           {
            "colorbar": {
             "outlinewidth": 0,
             "ticks": ""
            },
            "colorscale": [
             [
              0,
              "#0d0887"
             ],
             [
              0.1111111111111111,
              "#46039f"
             ],
             [
              0.2222222222222222,
              "#7201a8"
             ],
             [
              0.3333333333333333,
              "#9c179e"
             ],
             [
              0.4444444444444444,
              "#bd3786"
             ],
             [
              0.5555555555555556,
              "#d8576b"
             ],
             [
              0.6666666666666666,
              "#ed7953"
             ],
             [
              0.7777777777777778,
              "#fb9f3a"
             ],
             [
              0.8888888888888888,
              "#fdca26"
             ],
             [
              1,
              "#f0f921"
             ]
            ],
            "type": "contour"
           }
          ],
          "contourcarpet": [
           {
            "colorbar": {
             "outlinewidth": 0,
             "ticks": ""
            },
            "type": "contourcarpet"
           }
          ],
          "heatmap": [
           {
            "colorbar": {
             "outlinewidth": 0,
             "ticks": ""
            },
            "colorscale": [
             [
              0,
              "#0d0887"
             ],
             [
              0.1111111111111111,
              "#46039f"
             ],
             [
              0.2222222222222222,
              "#7201a8"
             ],
             [
              0.3333333333333333,
              "#9c179e"
             ],
             [
              0.4444444444444444,
              "#bd3786"
             ],
             [
              0.5555555555555556,
              "#d8576b"
             ],
             [
              0.6666666666666666,
              "#ed7953"
             ],
             [
              0.7777777777777778,
              "#fb9f3a"
             ],
             [
              0.8888888888888888,
              "#fdca26"
             ],
             [
              1,
              "#f0f921"
             ]
            ],
            "type": "heatmap"
           }
          ],
          "heatmapgl": [
           {
            "colorbar": {
             "outlinewidth": 0,
             "ticks": ""
            },
            "colorscale": [
             [
              0,
              "#0d0887"
             ],
             [
              0.1111111111111111,
              "#46039f"
             ],
             [
              0.2222222222222222,
              "#7201a8"
             ],
             [
              0.3333333333333333,
              "#9c179e"
             ],
             [
              0.4444444444444444,
              "#bd3786"
             ],
             [
              0.5555555555555556,
              "#d8576b"
             ],
             [
              0.6666666666666666,
              "#ed7953"
             ],
             [
              0.7777777777777778,
              "#fb9f3a"
             ],
             [
              0.8888888888888888,
              "#fdca26"
             ],
             [
              1,
              "#f0f921"
             ]
            ],
            "type": "heatmapgl"
           }
          ],
          "histogram": [
           {
            "marker": {
             "pattern": {
              "fillmode": "overlay",
              "size": 10,
              "solidity": 0.2
             }
            },
            "type": "histogram"
           }
          ],
          "histogram2d": [
           {
            "colorbar": {
             "outlinewidth": 0,
             "ticks": ""
            },
            "colorscale": [
             [
              0,
              "#0d0887"
             ],
             [
              0.1111111111111111,
              "#46039f"
             ],
             [
              0.2222222222222222,
              "#7201a8"
             ],
             [
              0.3333333333333333,
              "#9c179e"
             ],
             [
              0.4444444444444444,
              "#bd3786"
             ],
             [
              0.5555555555555556,
              "#d8576b"
             ],
             [
              0.6666666666666666,
              "#ed7953"
             ],
             [
              0.7777777777777778,
              "#fb9f3a"
             ],
             [
              0.8888888888888888,
              "#fdca26"
             ],
             [
              1,
              "#f0f921"
             ]
            ],
            "type": "histogram2d"
           }
          ],
          "histogram2dcontour": [
           {
            "colorbar": {
             "outlinewidth": 0,
             "ticks": ""
            },
            "colorscale": [
             [
              0,
              "#0d0887"
             ],
             [
              0.1111111111111111,
              "#46039f"
             ],
             [
              0.2222222222222222,
              "#7201a8"
             ],
             [
              0.3333333333333333,
              "#9c179e"
             ],
             [
              0.4444444444444444,
              "#bd3786"
             ],
             [
              0.5555555555555556,
              "#d8576b"
             ],
             [
              0.6666666666666666,
              "#ed7953"
             ],
             [
              0.7777777777777778,
              "#fb9f3a"
             ],
             [
              0.8888888888888888,
              "#fdca26"
             ],
             [
              1,
              "#f0f921"
             ]
            ],
            "type": "histogram2dcontour"
           }
          ],
          "mesh3d": [
           {
            "colorbar": {
             "outlinewidth": 0,
             "ticks": ""
            },
            "type": "mesh3d"
           }
          ],
          "parcoords": [
           {
            "line": {
             "colorbar": {
              "outlinewidth": 0,
              "ticks": ""
             }
            },
            "type": "parcoords"
           }
          ],
          "pie": [
           {
            "automargin": true,
            "type": "pie"
           }
          ],
          "scatter": [
           {
            "fillpattern": {
             "fillmode": "overlay",
             "size": 10,
             "solidity": 0.2
            },
            "type": "scatter"
           }
          ],
          "scatter3d": [
           {
            "line": {
             "colorbar": {
              "outlinewidth": 0,
              "ticks": ""
             }
            },
            "marker": {
             "colorbar": {
              "outlinewidth": 0,
              "ticks": ""
             }
            },
            "type": "scatter3d"
           }
          ],
          "scattercarpet": [
           {
            "marker": {
             "colorbar": {
              "outlinewidth": 0,
              "ticks": ""
             }
            },
            "type": "scattercarpet"
           }
          ],
          "scattergeo": [
           {
            "marker": {
             "colorbar": {
              "outlinewidth": 0,
              "ticks": ""
             }
            },
            "type": "scattergeo"
           }
          ],
          "scattergl": [
           {
            "marker": {
             "colorbar": {
              "outlinewidth": 0,
              "ticks": ""
             }
            },
            "type": "scattergl"
           }
          ],
          "scattermapbox": [
           {
            "marker": {
             "colorbar": {
              "outlinewidth": 0,
              "ticks": ""
             }
            },
            "type": "scattermapbox"
           }
          ],
          "scatterpolar": [
           {
            "marker": {
             "colorbar": {
              "outlinewidth": 0,
              "ticks": ""
             }
            },
            "type": "scatterpolar"
           }
          ],
          "scatterpolargl": [
           {
            "marker": {
             "colorbar": {
              "outlinewidth": 0,
              "ticks": ""
             }
            },
            "type": "scatterpolargl"
           }
          ],
          "scatterternary": [
           {
            "marker": {
             "colorbar": {
              "outlinewidth": 0,
              "ticks": ""
             }
            },
            "type": "scatterternary"
           }
          ],
          "surface": [
           {
            "colorbar": {
             "outlinewidth": 0,
             "ticks": ""
            },
            "colorscale": [
             [
              0,
              "#0d0887"
             ],
             [
              0.1111111111111111,
              "#46039f"
             ],
             [
              0.2222222222222222,
              "#7201a8"
             ],
             [
              0.3333333333333333,
              "#9c179e"
             ],
             [
              0.4444444444444444,
              "#bd3786"
             ],
             [
              0.5555555555555556,
              "#d8576b"
             ],
             [
              0.6666666666666666,
              "#ed7953"
             ],
             [
              0.7777777777777778,
              "#fb9f3a"
             ],
             [
              0.8888888888888888,
              "#fdca26"
             ],
             [
              1,
              "#f0f921"
             ]
            ],
            "type": "surface"
           }
          ],
          "table": [
           {
            "cells": {
             "fill": {
              "color": "#EBF0F8"
             },
             "line": {
              "color": "white"
             }
            },
            "header": {
             "fill": {
              "color": "#C8D4E3"
             },
             "line": {
              "color": "white"
             }
            },
            "type": "table"
           }
          ]
         },
         "layout": {
          "annotationdefaults": {
           "arrowcolor": "#2a3f5f",
           "arrowhead": 0,
           "arrowwidth": 1
          },
          "autotypenumbers": "strict",
          "coloraxis": {
           "colorbar": {
            "outlinewidth": 0,
            "ticks": ""
           }
          },
          "colorscale": {
           "diverging": [
            [
             0,
             "#8e0152"
            ],
            [
             0.1,
             "#c51b7d"
            ],
            [
             0.2,
             "#de77ae"
            ],
            [
             0.3,
             "#f1b6da"
            ],
            [
             0.4,
             "#fde0ef"
            ],
            [
             0.5,
             "#f7f7f7"
            ],
            [
             0.6,
             "#e6f5d0"
            ],
            [
             0.7,
             "#b8e186"
            ],
            [
             0.8,
             "#7fbc41"
            ],
            [
             0.9,
             "#4d9221"
            ],
            [
             1,
             "#276419"
            ]
           ],
           "sequential": [
            [
             0,
             "#0d0887"
            ],
            [
             0.1111111111111111,
             "#46039f"
            ],
            [
             0.2222222222222222,
             "#7201a8"
            ],
            [
             0.3333333333333333,
             "#9c179e"
            ],
            [
             0.4444444444444444,
             "#bd3786"
            ],
            [
             0.5555555555555556,
             "#d8576b"
            ],
            [
             0.6666666666666666,
             "#ed7953"
            ],
            [
             0.7777777777777778,
             "#fb9f3a"
            ],
            [
             0.8888888888888888,
             "#fdca26"
            ],
            [
             1,
             "#f0f921"
            ]
           ],
           "sequentialminus": [
            [
             0,
             "#0d0887"
            ],
            [
             0.1111111111111111,
             "#46039f"
            ],
            [
             0.2222222222222222,
             "#7201a8"
            ],
            [
             0.3333333333333333,
             "#9c179e"
            ],
            [
             0.4444444444444444,
             "#bd3786"
            ],
            [
             0.5555555555555556,
             "#d8576b"
            ],
            [
             0.6666666666666666,
             "#ed7953"
            ],
            [
             0.7777777777777778,
             "#fb9f3a"
            ],
            [
             0.8888888888888888,
             "#fdca26"
            ],
            [
             1,
             "#f0f921"
            ]
           ]
          },
          "colorway": [
           "#636efa",
           "#EF553B",
           "#00cc96",
           "#ab63fa",
           "#FFA15A",
           "#19d3f3",
           "#FF6692",
           "#B6E880",
           "#FF97FF",
           "#FECB52"
          ],
          "font": {
           "color": "#2a3f5f"
          },
          "geo": {
           "bgcolor": "white",
           "lakecolor": "white",
           "landcolor": "#E5ECF6",
           "showlakes": true,
           "showland": true,
           "subunitcolor": "white"
          },
          "hoverlabel": {
           "align": "left"
          },
          "hovermode": "closest",
          "mapbox": {
           "style": "light"
          },
          "paper_bgcolor": "white",
          "plot_bgcolor": "#E5ECF6",
          "polar": {
           "angularaxis": {
            "gridcolor": "white",
            "linecolor": "white",
            "ticks": ""
           },
           "bgcolor": "#E5ECF6",
           "radialaxis": {
            "gridcolor": "white",
            "linecolor": "white",
            "ticks": ""
           }
          },
          "scene": {
           "xaxis": {
            "backgroundcolor": "#E5ECF6",
            "gridcolor": "white",
            "gridwidth": 2,
            "linecolor": "white",
            "showbackground": true,
            "ticks": "",
            "zerolinecolor": "white"
           },
           "yaxis": {
            "backgroundcolor": "#E5ECF6",
            "gridcolor": "white",
            "gridwidth": 2,
            "linecolor": "white",
            "showbackground": true,
            "ticks": "",
            "zerolinecolor": "white"
           },
           "zaxis": {
            "backgroundcolor": "#E5ECF6",
            "gridcolor": "white",
            "gridwidth": 2,
            "linecolor": "white",
            "showbackground": true,
            "ticks": "",
            "zerolinecolor": "white"
           }
          },
          "shapedefaults": {
           "line": {
            "color": "#2a3f5f"
           }
          },
          "ternary": {
           "aaxis": {
            "gridcolor": "white",
            "linecolor": "white",
            "ticks": ""
           },
           "baxis": {
            "gridcolor": "white",
            "linecolor": "white",
            "ticks": ""
           },
           "bgcolor": "#E5ECF6",
           "caxis": {
            "gridcolor": "white",
            "linecolor": "white",
            "ticks": ""
           }
          },
          "title": {
           "x": 0.05
          },
          "xaxis": {
           "automargin": true,
           "gridcolor": "white",
           "linecolor": "white",
           "ticks": "",
           "title": {
            "standoff": 15
           },
           "zerolinecolor": "white",
           "zerolinewidth": 2
          },
          "yaxis": {
           "automargin": true,
           "gridcolor": "white",
           "linecolor": "white",
           "ticks": "",
           "title": {
            "standoff": 15
           },
           "zerolinecolor": "white",
           "zerolinewidth": 2
          }
         }
        },
        "xaxis": {
         "anchor": "y",
         "domain": [
          0,
          0.7363
         ],
         "title": {
          "text": "eventF1"
         }
        },
        "xaxis2": {
         "anchor": "y2",
         "domain": [
          0.7413,
          1
         ],
         "matches": "x2",
         "showgrid": true,
         "showline": false,
         "showticklabels": false,
         "ticks": ""
        },
        "yaxis": {
         "anchor": "x",
         "domain": [
          0,
          1
         ],
         "title": {
          "text": "eventRecall"
         }
        },
        "yaxis2": {
         "anchor": "x2",
         "domain": [
          0,
          1
         ],
         "matches": "y",
         "showgrid": true,
         "showticklabels": false
        }
       }
      }
     },
     "metadata": {},
     "output_type": "display_data"
    }
   ],
   "source": [
    "fig=px.scatter(experimentModels_N2,x='eventF1',y='eventRecall',color='test',hover_name='modelId', marginal_y=\"histogram\")\n",
    "fig.add_trace(\n",
    "    go.Scatter(x=experimentModels_N2['eventF1'], y=experimentModels_N2['eventF1'], name=\"identity\", mode='lines',fill=\"toself\")\n",
    ")\n",
    "fig.show()"
   ]
  },
  {
   "cell_type": "code",
   "execution_count": 39,
   "metadata": {},
   "outputs": [
    {
     "data": {
      "text/html": [
       "<div>\n",
       "<style scoped>\n",
       "    .dataframe tbody tr th:only-of-type {\n",
       "        vertical-align: middle;\n",
       "    }\n",
       "\n",
       "    .dataframe tbody tr th {\n",
       "        vertical-align: top;\n",
       "    }\n",
       "\n",
       "    .dataframe thead tr th {\n",
       "        text-align: left;\n",
       "    }\n",
       "\n",
       "    .dataframe thead tr:last-of-type th {\n",
       "        text-align: right;\n",
       "    }\n",
       "</style>\n",
       "<table border=\"1\" class=\"dataframe\">\n",
       "  <thead>\n",
       "    <tr>\n",
       "      <th></th>\n",
       "      <th colspan=\"6\" halign=\"left\">eventF1</th>\n",
       "      <th colspan=\"6\" halign=\"left\">eventPrecision</th>\n",
       "      <th colspan=\"6\" halign=\"left\">eventRecall</th>\n",
       "    </tr>\n",
       "    <tr>\n",
       "      <th></th>\n",
       "      <th>count</th>\n",
       "      <th>mean</th>\n",
       "      <th>std</th>\n",
       "      <th>min</th>\n",
       "      <th>50%</th>\n",
       "      <th>max</th>\n",
       "      <th>count</th>\n",
       "      <th>mean</th>\n",
       "      <th>std</th>\n",
       "      <th>min</th>\n",
       "      <th>50%</th>\n",
       "      <th>max</th>\n",
       "      <th>count</th>\n",
       "      <th>mean</th>\n",
       "      <th>std</th>\n",
       "      <th>min</th>\n",
       "      <th>50%</th>\n",
       "      <th>max</th>\n",
       "    </tr>\n",
       "    <tr>\n",
       "      <th>test</th>\n",
       "      <th></th>\n",
       "      <th></th>\n",
       "      <th></th>\n",
       "      <th></th>\n",
       "      <th></th>\n",
       "      <th></th>\n",
       "      <th></th>\n",
       "      <th></th>\n",
       "      <th></th>\n",
       "      <th></th>\n",
       "      <th></th>\n",
       "      <th></th>\n",
       "      <th></th>\n",
       "      <th></th>\n",
       "      <th></th>\n",
       "      <th></th>\n",
       "      <th></th>\n",
       "      <th></th>\n",
       "    </tr>\n",
       "  </thead>\n",
       "  <tbody>\n",
       "    <tr>\n",
       "      <th>0001</th>\n",
       "      <td>1.0</td>\n",
       "      <td>0.704750</td>\n",
       "      <td>NaN</td>\n",
       "      <td>0.704750</td>\n",
       "      <td>0.704750</td>\n",
       "      <td>0.704750</td>\n",
       "      <td>1.0</td>\n",
       "      <td>0.946688</td>\n",
       "      <td>NaN</td>\n",
       "      <td>0.946688</td>\n",
       "      <td>0.946688</td>\n",
       "      <td>0.946688</td>\n",
       "      <td>1.0</td>\n",
       "      <td>0.561303</td>\n",
       "      <td>NaN</td>\n",
       "      <td>0.561303</td>\n",
       "      <td>0.561303</td>\n",
       "      <td>0.561303</td>\n",
       "    </tr>\n",
       "    <tr>\n",
       "      <th>0002</th>\n",
       "      <td>1.0</td>\n",
       "      <td>0.807528</td>\n",
       "      <td>NaN</td>\n",
       "      <td>0.807528</td>\n",
       "      <td>0.807528</td>\n",
       "      <td>0.807528</td>\n",
       "      <td>1.0</td>\n",
       "      <td>0.769356</td>\n",
       "      <td>NaN</td>\n",
       "      <td>0.769356</td>\n",
       "      <td>0.769356</td>\n",
       "      <td>0.769356</td>\n",
       "      <td>1.0</td>\n",
       "      <td>0.849685</td>\n",
       "      <td>NaN</td>\n",
       "      <td>0.849685</td>\n",
       "      <td>0.849685</td>\n",
       "      <td>0.849685</td>\n",
       "    </tr>\n",
       "    <tr>\n",
       "      <th>0003</th>\n",
       "      <td>1.0</td>\n",
       "      <td>0.692557</td>\n",
       "      <td>NaN</td>\n",
       "      <td>0.692557</td>\n",
       "      <td>0.692557</td>\n",
       "      <td>0.692557</td>\n",
       "      <td>1.0</td>\n",
       "      <td>0.644578</td>\n",
       "      <td>NaN</td>\n",
       "      <td>0.644578</td>\n",
       "      <td>0.644578</td>\n",
       "      <td>0.644578</td>\n",
       "      <td>1.0</td>\n",
       "      <td>0.748252</td>\n",
       "      <td>NaN</td>\n",
       "      <td>0.748252</td>\n",
       "      <td>0.748252</td>\n",
       "      <td>0.748252</td>\n",
       "    </tr>\n",
       "    <tr>\n",
       "      <th>0005</th>\n",
       "      <td>1.0</td>\n",
       "      <td>0.686775</td>\n",
       "      <td>NaN</td>\n",
       "      <td>0.686775</td>\n",
       "      <td>0.686775</td>\n",
       "      <td>0.686775</td>\n",
       "      <td>1.0</td>\n",
       "      <td>0.568138</td>\n",
       "      <td>NaN</td>\n",
       "      <td>0.568138</td>\n",
       "      <td>0.568138</td>\n",
       "      <td>0.568138</td>\n",
       "      <td>1.0</td>\n",
       "      <td>0.868035</td>\n",
       "      <td>NaN</td>\n",
       "      <td>0.868035</td>\n",
       "      <td>0.868035</td>\n",
       "      <td>0.868035</td>\n",
       "    </tr>\n",
       "    <tr>\n",
       "      <th>0006</th>\n",
       "      <td>1.0</td>\n",
       "      <td>0.710345</td>\n",
       "      <td>NaN</td>\n",
       "      <td>0.710345</td>\n",
       "      <td>0.710345</td>\n",
       "      <td>0.710345</td>\n",
       "      <td>1.0</td>\n",
       "      <td>0.735714</td>\n",
       "      <td>NaN</td>\n",
       "      <td>0.735714</td>\n",
       "      <td>0.735714</td>\n",
       "      <td>0.735714</td>\n",
       "      <td>1.0</td>\n",
       "      <td>0.686667</td>\n",
       "      <td>NaN</td>\n",
       "      <td>0.686667</td>\n",
       "      <td>0.686667</td>\n",
       "      <td>0.686667</td>\n",
       "    </tr>\n",
       "    <tr>\n",
       "      <th>0007</th>\n",
       "      <td>1.0</td>\n",
       "      <td>0.740444</td>\n",
       "      <td>NaN</td>\n",
       "      <td>0.740444</td>\n",
       "      <td>0.740444</td>\n",
       "      <td>0.740444</td>\n",
       "      <td>1.0</td>\n",
       "      <td>0.649544</td>\n",
       "      <td>NaN</td>\n",
       "      <td>0.649544</td>\n",
       "      <td>0.649544</td>\n",
       "      <td>0.649544</td>\n",
       "      <td>1.0</td>\n",
       "      <td>0.860746</td>\n",
       "      <td>NaN</td>\n",
       "      <td>0.860746</td>\n",
       "      <td>0.860746</td>\n",
       "      <td>0.860746</td>\n",
       "    </tr>\n",
       "    <tr>\n",
       "      <th>0009</th>\n",
       "      <td>1.0</td>\n",
       "      <td>0.786479</td>\n",
       "      <td>NaN</td>\n",
       "      <td>0.786479</td>\n",
       "      <td>0.786479</td>\n",
       "      <td>0.786479</td>\n",
       "      <td>1.0</td>\n",
       "      <td>0.864706</td>\n",
       "      <td>NaN</td>\n",
       "      <td>0.864706</td>\n",
       "      <td>0.864706</td>\n",
       "      <td>0.864706</td>\n",
       "      <td>1.0</td>\n",
       "      <td>0.721130</td>\n",
       "      <td>NaN</td>\n",
       "      <td>0.721130</td>\n",
       "      <td>0.721130</td>\n",
       "      <td>0.721130</td>\n",
       "    </tr>\n",
       "    <tr>\n",
       "      <th>0010</th>\n",
       "      <td>1.0</td>\n",
       "      <td>0.836823</td>\n",
       "      <td>NaN</td>\n",
       "      <td>0.836823</td>\n",
       "      <td>0.836823</td>\n",
       "      <td>0.836823</td>\n",
       "      <td>1.0</td>\n",
       "      <td>0.819059</td>\n",
       "      <td>NaN</td>\n",
       "      <td>0.819059</td>\n",
       "      <td>0.819059</td>\n",
       "      <td>0.819059</td>\n",
       "      <td>1.0</td>\n",
       "      <td>0.855346</td>\n",
       "      <td>NaN</td>\n",
       "      <td>0.855346</td>\n",
       "      <td>0.855346</td>\n",
       "      <td>0.855346</td>\n",
       "    </tr>\n",
       "    <tr>\n",
       "      <th>0011</th>\n",
       "      <td>1.0</td>\n",
       "      <td>0.705217</td>\n",
       "      <td>NaN</td>\n",
       "      <td>0.705217</td>\n",
       "      <td>0.705217</td>\n",
       "      <td>0.705217</td>\n",
       "      <td>1.0</td>\n",
       "      <td>0.562688</td>\n",
       "      <td>NaN</td>\n",
       "      <td>0.562688</td>\n",
       "      <td>0.562688</td>\n",
       "      <td>0.562688</td>\n",
       "      <td>1.0</td>\n",
       "      <td>0.944444</td>\n",
       "      <td>NaN</td>\n",
       "      <td>0.944444</td>\n",
       "      <td>0.944444</td>\n",
       "      <td>0.944444</td>\n",
       "    </tr>\n",
       "    <tr>\n",
       "      <th>0012</th>\n",
       "      <td>1.0</td>\n",
       "      <td>0.793262</td>\n",
       "      <td>NaN</td>\n",
       "      <td>0.793262</td>\n",
       "      <td>0.793262</td>\n",
       "      <td>0.793262</td>\n",
       "      <td>1.0</td>\n",
       "      <td>0.864775</td>\n",
       "      <td>NaN</td>\n",
       "      <td>0.864775</td>\n",
       "      <td>0.864775</td>\n",
       "      <td>0.864775</td>\n",
       "      <td>1.0</td>\n",
       "      <td>0.732673</td>\n",
       "      <td>NaN</td>\n",
       "      <td>0.732673</td>\n",
       "      <td>0.732673</td>\n",
       "      <td>0.732673</td>\n",
       "    </tr>\n",
       "    <tr>\n",
       "      <th>0013</th>\n",
       "      <td>1.0</td>\n",
       "      <td>0.720109</td>\n",
       "      <td>NaN</td>\n",
       "      <td>0.720109</td>\n",
       "      <td>0.720109</td>\n",
       "      <td>0.720109</td>\n",
       "      <td>1.0</td>\n",
       "      <td>0.578809</td>\n",
       "      <td>NaN</td>\n",
       "      <td>0.578809</td>\n",
       "      <td>0.578809</td>\n",
       "      <td>0.578809</td>\n",
       "      <td>1.0</td>\n",
       "      <td>0.951289</td>\n",
       "      <td>NaN</td>\n",
       "      <td>0.951289</td>\n",
       "      <td>0.951289</td>\n",
       "      <td>0.951289</td>\n",
       "    </tr>\n",
       "    <tr>\n",
       "      <th>0014</th>\n",
       "      <td>1.0</td>\n",
       "      <td>0.622463</td>\n",
       "      <td>NaN</td>\n",
       "      <td>0.622463</td>\n",
       "      <td>0.622463</td>\n",
       "      <td>0.622463</td>\n",
       "      <td>1.0</td>\n",
       "      <td>0.455814</td>\n",
       "      <td>NaN</td>\n",
       "      <td>0.455814</td>\n",
       "      <td>0.455814</td>\n",
       "      <td>0.455814</td>\n",
       "      <td>1.0</td>\n",
       "      <td>0.974719</td>\n",
       "      <td>NaN</td>\n",
       "      <td>0.974719</td>\n",
       "      <td>0.974719</td>\n",
       "      <td>0.974719</td>\n",
       "    </tr>\n",
       "    <tr>\n",
       "      <th>0017</th>\n",
       "      <td>1.0</td>\n",
       "      <td>0.760632</td>\n",
       "      <td>NaN</td>\n",
       "      <td>0.760632</td>\n",
       "      <td>0.760632</td>\n",
       "      <td>0.760632</td>\n",
       "      <td>1.0</td>\n",
       "      <td>0.883853</td>\n",
       "      <td>NaN</td>\n",
       "      <td>0.883853</td>\n",
       "      <td>0.883853</td>\n",
       "      <td>0.883853</td>\n",
       "      <td>1.0</td>\n",
       "      <td>0.668085</td>\n",
       "      <td>NaN</td>\n",
       "      <td>0.668085</td>\n",
       "      <td>0.668085</td>\n",
       "      <td>0.668085</td>\n",
       "    </tr>\n",
       "    <tr>\n",
       "      <th>0018</th>\n",
       "      <td>1.0</td>\n",
       "      <td>0.757546</td>\n",
       "      <td>NaN</td>\n",
       "      <td>0.757546</td>\n",
       "      <td>0.757546</td>\n",
       "      <td>0.757546</td>\n",
       "      <td>1.0</td>\n",
       "      <td>0.874157</td>\n",
       "      <td>NaN</td>\n",
       "      <td>0.874157</td>\n",
       "      <td>0.874157</td>\n",
       "      <td>0.874157</td>\n",
       "      <td>1.0</td>\n",
       "      <td>0.668385</td>\n",
       "      <td>NaN</td>\n",
       "      <td>0.668385</td>\n",
       "      <td>0.668385</td>\n",
       "      <td>0.668385</td>\n",
       "    </tr>\n",
       "    <tr>\n",
       "      <th>0019</th>\n",
       "      <td>1.0</td>\n",
       "      <td>0.568500</td>\n",
       "      <td>NaN</td>\n",
       "      <td>0.568500</td>\n",
       "      <td>0.568500</td>\n",
       "      <td>0.568500</td>\n",
       "      <td>1.0</td>\n",
       "      <td>0.398693</td>\n",
       "      <td>NaN</td>\n",
       "      <td>0.398693</td>\n",
       "      <td>0.398693</td>\n",
       "      <td>0.398693</td>\n",
       "      <td>1.0</td>\n",
       "      <td>0.990260</td>\n",
       "      <td>NaN</td>\n",
       "      <td>0.990260</td>\n",
       "      <td>0.990260</td>\n",
       "      <td>0.990260</td>\n",
       "    </tr>\n",
       "  </tbody>\n",
       "</table>\n",
       "</div>"
      ],
      "text/plain": [
       "     eventF1                                             eventPrecision  \\\n",
       "       count      mean std       min       50%       max          count   \n",
       "test                                                                      \n",
       "0001     1.0  0.704750 NaN  0.704750  0.704750  0.704750            1.0   \n",
       "0002     1.0  0.807528 NaN  0.807528  0.807528  0.807528            1.0   \n",
       "0003     1.0  0.692557 NaN  0.692557  0.692557  0.692557            1.0   \n",
       "0005     1.0  0.686775 NaN  0.686775  0.686775  0.686775            1.0   \n",
       "0006     1.0  0.710345 NaN  0.710345  0.710345  0.710345            1.0   \n",
       "0007     1.0  0.740444 NaN  0.740444  0.740444  0.740444            1.0   \n",
       "0009     1.0  0.786479 NaN  0.786479  0.786479  0.786479            1.0   \n",
       "0010     1.0  0.836823 NaN  0.836823  0.836823  0.836823            1.0   \n",
       "0011     1.0  0.705217 NaN  0.705217  0.705217  0.705217            1.0   \n",
       "0012     1.0  0.793262 NaN  0.793262  0.793262  0.793262            1.0   \n",
       "0013     1.0  0.720109 NaN  0.720109  0.720109  0.720109            1.0   \n",
       "0014     1.0  0.622463 NaN  0.622463  0.622463  0.622463            1.0   \n",
       "0017     1.0  0.760632 NaN  0.760632  0.760632  0.760632            1.0   \n",
       "0018     1.0  0.757546 NaN  0.757546  0.757546  0.757546            1.0   \n",
       "0019     1.0  0.568500 NaN  0.568500  0.568500  0.568500            1.0   \n",
       "\n",
       "                                                 eventRecall                \\\n",
       "          mean std       min       50%       max       count      mean std   \n",
       "test                                                                         \n",
       "0001  0.946688 NaN  0.946688  0.946688  0.946688         1.0  0.561303 NaN   \n",
       "0002  0.769356 NaN  0.769356  0.769356  0.769356         1.0  0.849685 NaN   \n",
       "0003  0.644578 NaN  0.644578  0.644578  0.644578         1.0  0.748252 NaN   \n",
       "0005  0.568138 NaN  0.568138  0.568138  0.568138         1.0  0.868035 NaN   \n",
       "0006  0.735714 NaN  0.735714  0.735714  0.735714         1.0  0.686667 NaN   \n",
       "0007  0.649544 NaN  0.649544  0.649544  0.649544         1.0  0.860746 NaN   \n",
       "0009  0.864706 NaN  0.864706  0.864706  0.864706         1.0  0.721130 NaN   \n",
       "0010  0.819059 NaN  0.819059  0.819059  0.819059         1.0  0.855346 NaN   \n",
       "0011  0.562688 NaN  0.562688  0.562688  0.562688         1.0  0.944444 NaN   \n",
       "0012  0.864775 NaN  0.864775  0.864775  0.864775         1.0  0.732673 NaN   \n",
       "0013  0.578809 NaN  0.578809  0.578809  0.578809         1.0  0.951289 NaN   \n",
       "0014  0.455814 NaN  0.455814  0.455814  0.455814         1.0  0.974719 NaN   \n",
       "0017  0.883853 NaN  0.883853  0.883853  0.883853         1.0  0.668085 NaN   \n",
       "0018  0.874157 NaN  0.874157  0.874157  0.874157         1.0  0.668385 NaN   \n",
       "0019  0.398693 NaN  0.398693  0.398693  0.398693         1.0  0.990260 NaN   \n",
       "\n",
       "                                    \n",
       "           min       50%       max  \n",
       "test                                \n",
       "0001  0.561303  0.561303  0.561303  \n",
       "0002  0.849685  0.849685  0.849685  \n",
       "0003  0.748252  0.748252  0.748252  \n",
       "0005  0.868035  0.868035  0.868035  \n",
       "0006  0.686667  0.686667  0.686667  \n",
       "0007  0.860746  0.860746  0.860746  \n",
       "0009  0.721130  0.721130  0.721130  \n",
       "0010  0.855346  0.855346  0.855346  \n",
       "0011  0.944444  0.944444  0.944444  \n",
       "0012  0.732673  0.732673  0.732673  \n",
       "0013  0.951289  0.951289  0.951289  \n",
       "0014  0.974719  0.974719  0.974719  \n",
       "0017  0.668085  0.668085  0.668085  \n",
       "0018  0.668385  0.668385  0.668385  \n",
       "0019  0.990260  0.990260  0.990260  "
      ]
     },
     "execution_count": 39,
     "metadata": {},
     "output_type": "execute_result"
    }
   ],
   "source": [
    "experimentModels_N2[['test','eventF1','eventPrecision','eventRecall']].groupby('test').describe(percentiles=[0.5])"
   ]
  },
  {
   "cell_type": "code",
   "execution_count": 40,
   "metadata": {},
   "outputs": [
    {
     "data": {
      "text/html": [
       "<div>\n",
       "<style scoped>\n",
       "    .dataframe tbody tr th:only-of-type {\n",
       "        vertical-align: middle;\n",
       "    }\n",
       "\n",
       "    .dataframe tbody tr th {\n",
       "        vertical-align: top;\n",
       "    }\n",
       "\n",
       "    .dataframe thead th {\n",
       "        text-align: right;\n",
       "    }\n",
       "</style>\n",
       "<table border=\"1\" class=\"dataframe\">\n",
       "  <thead>\n",
       "    <tr style=\"text-align: right;\">\n",
       "      <th></th>\n",
       "      <th>test</th>\n",
       "      <th>eventF1</th>\n",
       "      <th>eventPrecision</th>\n",
       "      <th>eventRecall</th>\n",
       "    </tr>\n",
       "  </thead>\n",
       "  <tbody>\n",
       "    <tr>\n",
       "      <th>0</th>\n",
       "      <td>0001</td>\n",
       "      <td>0.704750</td>\n",
       "      <td>0.946688</td>\n",
       "      <td>0.561303</td>\n",
       "    </tr>\n",
       "    <tr>\n",
       "      <th>1</th>\n",
       "      <td>0002</td>\n",
       "      <td>0.807528</td>\n",
       "      <td>0.769356</td>\n",
       "      <td>0.849685</td>\n",
       "    </tr>\n",
       "    <tr>\n",
       "      <th>2</th>\n",
       "      <td>0003</td>\n",
       "      <td>0.692557</td>\n",
       "      <td>0.644578</td>\n",
       "      <td>0.748252</td>\n",
       "    </tr>\n",
       "    <tr>\n",
       "      <th>3</th>\n",
       "      <td>0005</td>\n",
       "      <td>0.686775</td>\n",
       "      <td>0.568138</td>\n",
       "      <td>0.868035</td>\n",
       "    </tr>\n",
       "    <tr>\n",
       "      <th>4</th>\n",
       "      <td>0006</td>\n",
       "      <td>0.710345</td>\n",
       "      <td>0.735714</td>\n",
       "      <td>0.686667</td>\n",
       "    </tr>\n",
       "    <tr>\n",
       "      <th>5</th>\n",
       "      <td>0007</td>\n",
       "      <td>0.740444</td>\n",
       "      <td>0.649544</td>\n",
       "      <td>0.860746</td>\n",
       "    </tr>\n",
       "    <tr>\n",
       "      <th>6</th>\n",
       "      <td>0009</td>\n",
       "      <td>0.786479</td>\n",
       "      <td>0.864706</td>\n",
       "      <td>0.721130</td>\n",
       "    </tr>\n",
       "    <tr>\n",
       "      <th>7</th>\n",
       "      <td>0010</td>\n",
       "      <td>0.836823</td>\n",
       "      <td>0.819059</td>\n",
       "      <td>0.855346</td>\n",
       "    </tr>\n",
       "    <tr>\n",
       "      <th>8</th>\n",
       "      <td>0011</td>\n",
       "      <td>0.705217</td>\n",
       "      <td>0.562688</td>\n",
       "      <td>0.944444</td>\n",
       "    </tr>\n",
       "    <tr>\n",
       "      <th>9</th>\n",
       "      <td>0012</td>\n",
       "      <td>0.793262</td>\n",
       "      <td>0.864775</td>\n",
       "      <td>0.732673</td>\n",
       "    </tr>\n",
       "    <tr>\n",
       "      <th>10</th>\n",
       "      <td>0013</td>\n",
       "      <td>0.720109</td>\n",
       "      <td>0.578809</td>\n",
       "      <td>0.951289</td>\n",
       "    </tr>\n",
       "    <tr>\n",
       "      <th>11</th>\n",
       "      <td>0014</td>\n",
       "      <td>0.622463</td>\n",
       "      <td>0.455814</td>\n",
       "      <td>0.974719</td>\n",
       "    </tr>\n",
       "    <tr>\n",
       "      <th>12</th>\n",
       "      <td>0017</td>\n",
       "      <td>0.760632</td>\n",
       "      <td>0.883853</td>\n",
       "      <td>0.668085</td>\n",
       "    </tr>\n",
       "    <tr>\n",
       "      <th>13</th>\n",
       "      <td>0018</td>\n",
       "      <td>0.757546</td>\n",
       "      <td>0.874157</td>\n",
       "      <td>0.668385</td>\n",
       "    </tr>\n",
       "    <tr>\n",
       "      <th>14</th>\n",
       "      <td>0019</td>\n",
       "      <td>0.568500</td>\n",
       "      <td>0.398693</td>\n",
       "      <td>0.990260</td>\n",
       "    </tr>\n",
       "  </tbody>\n",
       "</table>\n",
       "</div>"
      ],
      "text/plain": [
       "    test   eventF1  eventPrecision  eventRecall\n",
       "0   0001  0.704750        0.946688     0.561303\n",
       "1   0002  0.807528        0.769356     0.849685\n",
       "2   0003  0.692557        0.644578     0.748252\n",
       "3   0005  0.686775        0.568138     0.868035\n",
       "4   0006  0.710345        0.735714     0.686667\n",
       "5   0007  0.740444        0.649544     0.860746\n",
       "6   0009  0.786479        0.864706     0.721130\n",
       "7   0010  0.836823        0.819059     0.855346\n",
       "8   0011  0.705217        0.562688     0.944444\n",
       "9   0012  0.793262        0.864775     0.732673\n",
       "10  0013  0.720109        0.578809     0.951289\n",
       "11  0014  0.622463        0.455814     0.974719\n",
       "12  0017  0.760632        0.883853     0.668085\n",
       "13  0018  0.757546        0.874157     0.668385\n",
       "14  0019  0.568500        0.398693     0.990260"
      ]
     },
     "execution_count": 40,
     "metadata": {},
     "output_type": "execute_result"
    }
   ],
   "source": [
    "experimentModels_N2[['test','eventF1','eventPrecision','eventRecall']].groupby('test',as_index=False).mean()"
   ]
  },
  {
   "cell_type": "code",
   "execution_count": 41,
   "metadata": {},
   "outputs": [
    {
     "data": {
      "text/plain": [
       "test              6.668000e+54\n",
       "eventF1           7.262285e-01\n",
       "eventPrecision    7.077715e-01\n",
       "eventRecall       8.054013e-01\n",
       "dtype: float64"
      ]
     },
     "execution_count": 41,
     "metadata": {},
     "output_type": "execute_result"
    }
   ],
   "source": [
    "experimentModels_N2[['test','eventF1','eventPrecision','eventRecall']].groupby('test',as_index=False).mean().mean()"
   ]
  },
  {
   "cell_type": "code",
   "execution_count": 42,
   "metadata": {},
   "outputs": [
    {
     "name": "stderr",
     "output_type": "stream",
     "text": [
      "C:\\Users\\Gurdiel\\AppData\\Local\\Temp\\ipykernel_8236\\813125388.py:1: FutureWarning:\n",
      "\n",
      "The default value of numeric_only in DataFrame.std is deprecated. In a future version, it will default to False. In addition, specifying 'numeric_only=None' is deprecated. Select only valid columns or specify the value of numeric_only to silence this warning.\n",
      "\n"
     ]
    },
    {
     "data": {
      "text/plain": [
       "eventF1           0.070132\n",
       "eventPrecision    0.170206\n",
       "eventRecall       0.131439\n",
       "dtype: float64"
      ]
     },
     "execution_count": 42,
     "metadata": {},
     "output_type": "execute_result"
    }
   ],
   "source": [
    "experimentModels_N2[['test','eventF1','eventPrecision','eventRecall']].groupby('test',as_index=False).mean().std()"
   ]
  },
  {
   "cell_type": "code",
   "execution_count": 43,
   "metadata": {},
   "outputs": [],
   "source": [
    "auxPrecision=pd.DataFrame({\n",
    "    'metric':'event precision',\n",
    "    'value':experimentModels_N2.eventPrecision,\n",
    "    'event F1':experimentModels_N2.eventF1\n",
    "})\n",
    "\n",
    "auxRecall=pd.DataFrame({\n",
    "    'metric':'event recall',\n",
    "    'value':experimentModels_N2.eventRecall,\n",
    "    'event F1':experimentModels_N2.eventF1\n",
    "})\n",
    "visualTradeoff=pd.concat((auxPrecision,auxRecall))"
   ]
  },
  {
   "cell_type": "code",
   "execution_count": 44,
   "metadata": {},
   "outputs": [
    {
     "data": {
      "application/vnd.plotly.v1+json": {
       "config": {
        "plotlyServerURL": "https://plot.ly"
       },
       "data": [
        {
         "hovertemplate": "metric=event precision<br>event F1=%{x}<br>value=%{y}<extra></extra>",
         "legendgroup": "event precision",
         "marker": {
          "color": "#636efa",
          "symbol": "circle"
         },
         "mode": "markers",
         "name": "event precision",
         "orientation": "v",
         "showlegend": true,
         "type": "scatter",
         "x": [
          0.7047504509921828,
          0.8075278015397775,
          0.6925566343042071,
          0.6867749419953596,
          0.7103448275862069,
          0.7404436054742803,
          0.786479250334672,
          0.8368226600985221,
          0.7052168447517285,
          0.7932618683001531,
          0.720108695652174,
          0.6224627875507442,
          0.7606318347509113,
          0.7575462512171373,
          0.5684995340167754
         ],
         "xaxis": "x",
         "y": [
          0.9466882067851373,
          0.7693561532192339,
          0.6445783132530121,
          0.5681381957773513,
          0.7357142857142858,
          0.6495443247721624,
          0.8647058823529412,
          0.8190591073582629,
          0.5626880641925778,
          0.8647746243739566,
          0.5788091068301225,
          0.4558139534883721,
          0.8838526912181303,
          0.8741573033707866,
          0.39869281045751637
         ],
         "yaxis": "y"
        },
        {
         "alignmentgroup": "True",
         "bingroup": "y",
         "hovertemplate": "metric=event precision<br>value=%{y}<br>count=%{x}<extra></extra>",
         "legendgroup": "event precision",
         "marker": {
          "color": "#636efa"
         },
         "name": "event precision",
         "offsetgroup": "event precision",
         "opacity": 0.5,
         "showlegend": false,
         "type": "histogram",
         "xaxis": "x2",
         "y": [
          0.9466882067851373,
          0.7693561532192339,
          0.6445783132530121,
          0.5681381957773513,
          0.7357142857142858,
          0.6495443247721624,
          0.8647058823529412,
          0.8190591073582629,
          0.5626880641925778,
          0.8647746243739566,
          0.5788091068301225,
          0.4558139534883721,
          0.8838526912181303,
          0.8741573033707866,
          0.39869281045751637
         ],
         "yaxis": "y2"
        },
        {
         "hovertemplate": "metric=event recall<br>event F1=%{x}<br>value=%{y}<extra></extra>",
         "legendgroup": "event recall",
         "marker": {
          "color": "#EF553B",
          "symbol": "circle"
         },
         "mode": "markers",
         "name": "event recall",
         "orientation": "v",
         "showlegend": true,
         "type": "scatter",
         "x": [
          0.7047504509921828,
          0.8075278015397775,
          0.6925566343042071,
          0.6867749419953596,
          0.7103448275862069,
          0.7404436054742803,
          0.786479250334672,
          0.8368226600985221,
          0.7052168447517285,
          0.7932618683001531,
          0.720108695652174,
          0.6224627875507442,
          0.7606318347509113,
          0.7575462512171373,
          0.5684995340167754
         ],
         "xaxis": "x",
         "y": [
          0.5613026819923371,
          0.8496849684968497,
          0.7482517482517482,
          0.8680351906158358,
          0.6866666666666666,
          0.8607456140350878,
          0.7211302211302212,
          0.8553459119496856,
          0.9444444444444444,
          0.7326732673267327,
          0.9512893982808023,
          0.9747191011235955,
          0.6680851063829787,
          0.6683848797250859,
          0.9902597402597403
         ],
         "yaxis": "y"
        },
        {
         "alignmentgroup": "True",
         "bingroup": "y",
         "hovertemplate": "metric=event recall<br>value=%{y}<br>count=%{x}<extra></extra>",
         "legendgroup": "event recall",
         "marker": {
          "color": "#EF553B"
         },
         "name": "event recall",
         "offsetgroup": "event recall",
         "opacity": 0.5,
         "showlegend": false,
         "type": "histogram",
         "xaxis": "x2",
         "y": [
          0.5613026819923371,
          0.8496849684968497,
          0.7482517482517482,
          0.8680351906158358,
          0.6866666666666666,
          0.8607456140350878,
          0.7211302211302212,
          0.8553459119496856,
          0.9444444444444444,
          0.7326732673267327,
          0.9512893982808023,
          0.9747191011235955,
          0.6680851063829787,
          0.6683848797250859,
          0.9902597402597403
         ],
         "yaxis": "y2"
        },
        {
         "fill": "toself",
         "mode": "lines",
         "name": "identity",
         "type": "scatter",
         "x": [
          0.69185360094451,
          0.7955846279640229,
          0.6445783132530121,
          0.6621923937360179,
          0.6821192052980133,
          0.6472772277227723,
          0.7760898282694848,
          0.7725980670835703,
          0.6819535437760572,
          0.7344632768361582,
          0.6756756756756757,
          0.6047326906222612,
          0.7417061611374408,
          0.7473583093179635,
          0.5698630136986301
         ],
         "y": [
          0.69185360094451,
          0.7955846279640229,
          0.6445783132530121,
          0.6621923937360179,
          0.6821192052980133,
          0.6472772277227723,
          0.7760898282694848,
          0.7725980670835703,
          0.6819535437760572,
          0.7344632768361582,
          0.6756756756756757,
          0.6047326906222612,
          0.7417061611374408,
          0.7473583093179635,
          0.5698630136986301
         ]
        }
       ],
       "layout": {
        "barmode": "overlay",
        "legend": {
         "title": {
          "text": "metric"
         },
         "tracegroupgap": 0
        },
        "margin": {
         "t": 60
        },
        "template": {
         "data": {
          "bar": [
           {
            "error_x": {
             "color": "#2a3f5f"
            },
            "error_y": {
             "color": "#2a3f5f"
            },
            "marker": {
             "line": {
              "color": "#E5ECF6",
              "width": 0.5
             },
             "pattern": {
              "fillmode": "overlay",
              "size": 10,
              "solidity": 0.2
             }
            },
            "type": "bar"
           }
          ],
          "barpolar": [
           {
            "marker": {
             "line": {
              "color": "#E5ECF6",
              "width": 0.5
             },
             "pattern": {
              "fillmode": "overlay",
              "size": 10,
              "solidity": 0.2
             }
            },
            "type": "barpolar"
           }
          ],
          "carpet": [
           {
            "aaxis": {
             "endlinecolor": "#2a3f5f",
             "gridcolor": "white",
             "linecolor": "white",
             "minorgridcolor": "white",
             "startlinecolor": "#2a3f5f"
            },
            "baxis": {
             "endlinecolor": "#2a3f5f",
             "gridcolor": "white",
             "linecolor": "white",
             "minorgridcolor": "white",
             "startlinecolor": "#2a3f5f"
            },
            "type": "carpet"
           }
          ],
          "choropleth": [
           {
            "colorbar": {
             "outlinewidth": 0,
             "ticks": ""
            },
            "type": "choropleth"
           }
          ],
          "contour": [
           {
            "colorbar": {
             "outlinewidth": 0,
             "ticks": ""
            },
            "colorscale": [
             [
              0,
              "#0d0887"
             ],
             [
              0.1111111111111111,
              "#46039f"
             ],
             [
              0.2222222222222222,
              "#7201a8"
             ],
             [
              0.3333333333333333,
              "#9c179e"
             ],
             [
              0.4444444444444444,
              "#bd3786"
             ],
             [
              0.5555555555555556,
              "#d8576b"
             ],
             [
              0.6666666666666666,
              "#ed7953"
             ],
             [
              0.7777777777777778,
              "#fb9f3a"
             ],
             [
              0.8888888888888888,
              "#fdca26"
             ],
             [
              1,
              "#f0f921"
             ]
            ],
            "type": "contour"
           }
          ],
          "contourcarpet": [
           {
            "colorbar": {
             "outlinewidth": 0,
             "ticks": ""
            },
            "type": "contourcarpet"
           }
          ],
          "heatmap": [
           {
            "colorbar": {
             "outlinewidth": 0,
             "ticks": ""
            },
            "colorscale": [
             [
              0,
              "#0d0887"
             ],
             [
              0.1111111111111111,
              "#46039f"
             ],
             [
              0.2222222222222222,
              "#7201a8"
             ],
             [
              0.3333333333333333,
              "#9c179e"
             ],
             [
              0.4444444444444444,
              "#bd3786"
             ],
             [
              0.5555555555555556,
              "#d8576b"
             ],
             [
              0.6666666666666666,
              "#ed7953"
             ],
             [
              0.7777777777777778,
              "#fb9f3a"
             ],
             [
              0.8888888888888888,
              "#fdca26"
             ],
             [
              1,
              "#f0f921"
             ]
            ],
            "type": "heatmap"
           }
          ],
          "heatmapgl": [
           {
            "colorbar": {
             "outlinewidth": 0,
             "ticks": ""
            },
            "colorscale": [
             [
              0,
              "#0d0887"
             ],
             [
              0.1111111111111111,
              "#46039f"
             ],
             [
              0.2222222222222222,
              "#7201a8"
             ],
             [
              0.3333333333333333,
              "#9c179e"
             ],
             [
              0.4444444444444444,
              "#bd3786"
             ],
             [
              0.5555555555555556,
              "#d8576b"
             ],
             [
              0.6666666666666666,
              "#ed7953"
             ],
             [
              0.7777777777777778,
              "#fb9f3a"
             ],
             [
              0.8888888888888888,
              "#fdca26"
             ],
             [
              1,
              "#f0f921"
             ]
            ],
            "type": "heatmapgl"
           }
          ],
          "histogram": [
           {
            "marker": {
             "pattern": {
              "fillmode": "overlay",
              "size": 10,
              "solidity": 0.2
             }
            },
            "type": "histogram"
           }
          ],
          "histogram2d": [
           {
            "colorbar": {
             "outlinewidth": 0,
             "ticks": ""
            },
            "colorscale": [
             [
              0,
              "#0d0887"
             ],
             [
              0.1111111111111111,
              "#46039f"
             ],
             [
              0.2222222222222222,
              "#7201a8"
             ],
             [
              0.3333333333333333,
              "#9c179e"
             ],
             [
              0.4444444444444444,
              "#bd3786"
             ],
             [
              0.5555555555555556,
              "#d8576b"
             ],
             [
              0.6666666666666666,
              "#ed7953"
             ],
             [
              0.7777777777777778,
              "#fb9f3a"
             ],
             [
              0.8888888888888888,
              "#fdca26"
             ],
             [
              1,
              "#f0f921"
             ]
            ],
            "type": "histogram2d"
           }
          ],
          "histogram2dcontour": [
           {
            "colorbar": {
             "outlinewidth": 0,
             "ticks": ""
            },
            "colorscale": [
             [
              0,
              "#0d0887"
             ],
             [
              0.1111111111111111,
              "#46039f"
             ],
             [
              0.2222222222222222,
              "#7201a8"
             ],
             [
              0.3333333333333333,
              "#9c179e"
             ],
             [
              0.4444444444444444,
              "#bd3786"
             ],
             [
              0.5555555555555556,
              "#d8576b"
             ],
             [
              0.6666666666666666,
              "#ed7953"
             ],
             [
              0.7777777777777778,
              "#fb9f3a"
             ],
             [
              0.8888888888888888,
              "#fdca26"
             ],
             [
              1,
              "#f0f921"
             ]
            ],
            "type": "histogram2dcontour"
           }
          ],
          "mesh3d": [
           {
            "colorbar": {
             "outlinewidth": 0,
             "ticks": ""
            },
            "type": "mesh3d"
           }
          ],
          "parcoords": [
           {
            "line": {
             "colorbar": {
              "outlinewidth": 0,
              "ticks": ""
             }
            },
            "type": "parcoords"
           }
          ],
          "pie": [
           {
            "automargin": true,
            "type": "pie"
           }
          ],
          "scatter": [
           {
            "fillpattern": {
             "fillmode": "overlay",
             "size": 10,
             "solidity": 0.2
            },
            "type": "scatter"
           }
          ],
          "scatter3d": [
           {
            "line": {
             "colorbar": {
              "outlinewidth": 0,
              "ticks": ""
             }
            },
            "marker": {
             "colorbar": {
              "outlinewidth": 0,
              "ticks": ""
             }
            },
            "type": "scatter3d"
           }
          ],
          "scattercarpet": [
           {
            "marker": {
             "colorbar": {
              "outlinewidth": 0,
              "ticks": ""
             }
            },
            "type": "scattercarpet"
           }
          ],
          "scattergeo": [
           {
            "marker": {
             "colorbar": {
              "outlinewidth": 0,
              "ticks": ""
             }
            },
            "type": "scattergeo"
           }
          ],
          "scattergl": [
           {
            "marker": {
             "colorbar": {
              "outlinewidth": 0,
              "ticks": ""
             }
            },
            "type": "scattergl"
           }
          ],
          "scattermapbox": [
           {
            "marker": {
             "colorbar": {
              "outlinewidth": 0,
              "ticks": ""
             }
            },
            "type": "scattermapbox"
           }
          ],
          "scatterpolar": [
           {
            "marker": {
             "colorbar": {
              "outlinewidth": 0,
              "ticks": ""
             }
            },
            "type": "scatterpolar"
           }
          ],
          "scatterpolargl": [
           {
            "marker": {
             "colorbar": {
              "outlinewidth": 0,
              "ticks": ""
             }
            },
            "type": "scatterpolargl"
           }
          ],
          "scatterternary": [
           {
            "marker": {
             "colorbar": {
              "outlinewidth": 0,
              "ticks": ""
             }
            },
            "type": "scatterternary"
           }
          ],
          "surface": [
           {
            "colorbar": {
             "outlinewidth": 0,
             "ticks": ""
            },
            "colorscale": [
             [
              0,
              "#0d0887"
             ],
             [
              0.1111111111111111,
              "#46039f"
             ],
             [
              0.2222222222222222,
              "#7201a8"
             ],
             [
              0.3333333333333333,
              "#9c179e"
             ],
             [
              0.4444444444444444,
              "#bd3786"
             ],
             [
              0.5555555555555556,
              "#d8576b"
             ],
             [
              0.6666666666666666,
              "#ed7953"
             ],
             [
              0.7777777777777778,
              "#fb9f3a"
             ],
             [
              0.8888888888888888,
              "#fdca26"
             ],
             [
              1,
              "#f0f921"
             ]
            ],
            "type": "surface"
           }
          ],
          "table": [
           {
            "cells": {
             "fill": {
              "color": "#EBF0F8"
             },
             "line": {
              "color": "white"
             }
            },
            "header": {
             "fill": {
              "color": "#C8D4E3"
             },
             "line": {
              "color": "white"
             }
            },
            "type": "table"
           }
          ]
         },
         "layout": {
          "annotationdefaults": {
           "arrowcolor": "#2a3f5f",
           "arrowhead": 0,
           "arrowwidth": 1
          },
          "autotypenumbers": "strict",
          "coloraxis": {
           "colorbar": {
            "outlinewidth": 0,
            "ticks": ""
           }
          },
          "colorscale": {
           "diverging": [
            [
             0,
             "#8e0152"
            ],
            [
             0.1,
             "#c51b7d"
            ],
            [
             0.2,
             "#de77ae"
            ],
            [
             0.3,
             "#f1b6da"
            ],
            [
             0.4,
             "#fde0ef"
            ],
            [
             0.5,
             "#f7f7f7"
            ],
            [
             0.6,
             "#e6f5d0"
            ],
            [
             0.7,
             "#b8e186"
            ],
            [
             0.8,
             "#7fbc41"
            ],
            [
             0.9,
             "#4d9221"
            ],
            [
             1,
             "#276419"
            ]
           ],
           "sequential": [
            [
             0,
             "#0d0887"
            ],
            [
             0.1111111111111111,
             "#46039f"
            ],
            [
             0.2222222222222222,
             "#7201a8"
            ],
            [
             0.3333333333333333,
             "#9c179e"
            ],
            [
             0.4444444444444444,
             "#bd3786"
            ],
            [
             0.5555555555555556,
             "#d8576b"
            ],
            [
             0.6666666666666666,
             "#ed7953"
            ],
            [
             0.7777777777777778,
             "#fb9f3a"
            ],
            [
             0.8888888888888888,
             "#fdca26"
            ],
            [
             1,
             "#f0f921"
            ]
           ],
           "sequentialminus": [
            [
             0,
             "#0d0887"
            ],
            [
             0.1111111111111111,
             "#46039f"
            ],
            [
             0.2222222222222222,
             "#7201a8"
            ],
            [
             0.3333333333333333,
             "#9c179e"
            ],
            [
             0.4444444444444444,
             "#bd3786"
            ],
            [
             0.5555555555555556,
             "#d8576b"
            ],
            [
             0.6666666666666666,
             "#ed7953"
            ],
            [
             0.7777777777777778,
             "#fb9f3a"
            ],
            [
             0.8888888888888888,
             "#fdca26"
            ],
            [
             1,
             "#f0f921"
            ]
           ]
          },
          "colorway": [
           "#636efa",
           "#EF553B",
           "#00cc96",
           "#ab63fa",
           "#FFA15A",
           "#19d3f3",
           "#FF6692",
           "#B6E880",
           "#FF97FF",
           "#FECB52"
          ],
          "font": {
           "color": "#2a3f5f"
          },
          "geo": {
           "bgcolor": "white",
           "lakecolor": "white",
           "landcolor": "#E5ECF6",
           "showlakes": true,
           "showland": true,
           "subunitcolor": "white"
          },
          "hoverlabel": {
           "align": "left"
          },
          "hovermode": "closest",
          "mapbox": {
           "style": "light"
          },
          "paper_bgcolor": "white",
          "plot_bgcolor": "#E5ECF6",
          "polar": {
           "angularaxis": {
            "gridcolor": "white",
            "linecolor": "white",
            "ticks": ""
           },
           "bgcolor": "#E5ECF6",
           "radialaxis": {
            "gridcolor": "white",
            "linecolor": "white",
            "ticks": ""
           }
          },
          "scene": {
           "xaxis": {
            "backgroundcolor": "#E5ECF6",
            "gridcolor": "white",
            "gridwidth": 2,
            "linecolor": "white",
            "showbackground": true,
            "ticks": "",
            "zerolinecolor": "white"
           },
           "yaxis": {
            "backgroundcolor": "#E5ECF6",
            "gridcolor": "white",
            "gridwidth": 2,
            "linecolor": "white",
            "showbackground": true,
            "ticks": "",
            "zerolinecolor": "white"
           },
           "zaxis": {
            "backgroundcolor": "#E5ECF6",
            "gridcolor": "white",
            "gridwidth": 2,
            "linecolor": "white",
            "showbackground": true,
            "ticks": "",
            "zerolinecolor": "white"
           }
          },
          "shapedefaults": {
           "line": {
            "color": "#2a3f5f"
           }
          },
          "ternary": {
           "aaxis": {
            "gridcolor": "white",
            "linecolor": "white",
            "ticks": ""
           },
           "baxis": {
            "gridcolor": "white",
            "linecolor": "white",
            "ticks": ""
           },
           "bgcolor": "#E5ECF6",
           "caxis": {
            "gridcolor": "white",
            "linecolor": "white",
            "ticks": ""
           }
          },
          "title": {
           "x": 0.05
          },
          "xaxis": {
           "automargin": true,
           "gridcolor": "white",
           "linecolor": "white",
           "ticks": "",
           "title": {
            "standoff": 15
           },
           "zerolinecolor": "white",
           "zerolinewidth": 2
          },
          "yaxis": {
           "automargin": true,
           "gridcolor": "white",
           "linecolor": "white",
           "ticks": "",
           "title": {
            "standoff": 15
           },
           "zerolinecolor": "white",
           "zerolinewidth": 2
          }
         }
        },
        "xaxis": {
         "anchor": "y",
         "domain": [
          0,
          0.7363
         ],
         "title": {
          "text": "event F1"
         }
        },
        "xaxis2": {
         "anchor": "y2",
         "domain": [
          0.7413,
          1
         ],
         "matches": "x2",
         "showgrid": true,
         "showline": false,
         "showticklabels": false,
         "ticks": ""
        },
        "yaxis": {
         "anchor": "x",
         "domain": [
          0,
          1
         ],
         "title": {
          "text": "value"
         }
        },
        "yaxis2": {
         "anchor": "x2",
         "domain": [
          0,
          1
         ],
         "matches": "y",
         "showgrid": true,
         "showticklabels": false
        }
       }
      }
     },
     "metadata": {},
     "output_type": "display_data"
    }
   ],
   "source": [
    "fig=px.scatter(visualTradeoff,x='event F1',y='value',color='metric', marginal_y=\"histogram\")\n",
    "fig.add_trace(\n",
    "    go.Scatter(x=experimentModels['eventF1'], y=experimentModels['eventF1'], name=\"identity\", mode='lines',fill=\"toself\")\n",
    ")\n",
    "fig.show()"
   ]
  },
  {
   "attachments": {},
   "cell_type": "markdown",
   "metadata": {},
   "source": [
    "### remove outliers"
   ]
  },
  {
   "cell_type": "code",
   "execution_count": 49,
   "metadata": {},
   "outputs": [
    {
     "data": {
      "text/plain": [
       "array(['0001', '0002', '0003', '0005', '0006', '0007', '0009', '0010',\n",
       "       '0011', '0012', '0013', '0017', '0018'], dtype=object)"
      ]
     },
     "execution_count": 49,
     "metadata": {},
     "output_type": "execute_result"
    }
   ],
   "source": [
    "np.setdiff1d(experimentModels_N2.test,['0014','0019'])"
   ]
  },
  {
   "cell_type": "code",
   "execution_count": 51,
   "metadata": {},
   "outputs": [
    {
     "data": {
      "text/plain": [
       "test              1.666917e+43\n",
       "eventF1           7.498096e-01\n",
       "eventPrecision    7.346148e-01\n",
       "eventRecall       7.962281e-01\n",
       "dtype: float64"
      ]
     },
     "execution_count": 51,
     "metadata": {},
     "output_type": "execute_result"
    }
   ],
   "source": [
    "experimentModels_N2[experimentModels_N2.test.isin(np.setdiff1d(experimentModels_N2.test,['0001','0014','0019']))][['test','eventF1','eventPrecision','eventRecall']].groupby('test',as_index=False).mean().mean()"
   ]
  },
  {
   "cell_type": "code",
   "execution_count": 47,
   "metadata": {},
   "outputs": [],
   "source": [
    "def annotationPairToGraph(annotations,detections,thresIoU=0.2):\n",
    "    #get the coords\n",
    "    gtCoords=zip(annotations.startInd,annotations.stopInd)\n",
    "    outCoords=zip(detections.startInd,detections.stopInd)\n",
    "    #calculate the iou vector\n",
    "    iouVector=np.array(list(itt.starmap(getIou,itt.product(gtCoords,outCoords))))\n",
    "    #reshape to a matrix\n",
    "    iouMatrix=iouVector.reshape(len(annotations),len(detections))\n",
    "    #create tables\n",
    "    index0=np.apply_along_axis(np.argmax,0,iouMatrix)\n",
    "    iou0=np.apply_along_axis(np.max,0,iouMatrix)\n",
    "    index1=np.apply_along_axis(np.argmax,1,iouMatrix)\n",
    "    iou1=np.apply_along_axis(np.max,1,iouMatrix)\n",
    "    \n",
    "    tableOut=pd.DataFrame({\n",
    "        'indexGT':index0,\n",
    "        'iou':iou0\n",
    "    })\n",
    "\n",
    "    tableGT=pd.DataFrame({\n",
    "        'indexOut':index1,\n",
    "        'iou':iou1\n",
    "    })\n",
    "\n",
    "    tableOut['type']='out'\n",
    "    tableGT['type']='gt'\n",
    "    tableOut['indexOut']=tableOut.index\n",
    "    tableGT['indexGT']=tableGT.index\n",
    "    #Correct external indexes of objects not overlapping\n",
    "    tableOut.loc[tableOut.iou==0,'indexGT']='NA'\n",
    "    tableGT.loc[tableGT.iou==0,'indexOut']='NA'\n",
    "    #set tps\n",
    "    tableOut['tp']=tableOut.iou>thresIoU\n",
    "    tableOut['fp']=tableOut.iou<=thresIoU\n",
    "    tableGT['tp']=tableGT.iou>thresIoU\n",
    "    tableGT['fn']=tableGT.iou<=thresIoU\n",
    "    #calculate metrics\n",
    "    recall=np.sum(tableGT['tp'])/len(tableGT)\n",
    "    precision=np.sum(tableOut['tp'])/len(tableOut)\n",
    "    f1=(np.sum(tableGT['tp'])+np.sum(tableOut['tp']))/(len(tableGT)+len(tableOut))\n",
    "    #concatenate tables\n",
    "    appended=pd.concat(objs=(tableOut,tableGT),axis=0)\n",
    "    #modify values\n",
    "    appended['x']=appended['indexGT']\n",
    "    appended['y']=appended['indexOut']\n",
    "    appended.loc[((appended.type=='out')&(~ appended.tp)),'x']=-10\n",
    "    appended.loc[((appended.type=='gt')&(~ appended.tp)),'y']=-10\n",
    "    appended['size']=1\n",
    "    appended.loc[appended.type=='out','size']=3\n",
    "    #create the graph\n",
    "    minTPIoU=np.min(appended[appended.tp].iou)\n",
    "    fig=px.scatter(appended,x='x',y='y',color='iou',symbol='type',\n",
    "    opacity=0.8,symbol_map={'out':'circle-open','gt':'circle'},size='size',\n",
    "    color_continuous_scale=\n",
    "        ((0.0, 'rgb(40,40,40)'),\n",
    "        (0.000001, 'rgb(28,227,255)'),\n",
    "        (0.14, 'rgb(56,199,255)'),\n",
    "        (0.29, 'rgb(85,170,255)'),\n",
    "        (0.42, 'rgb(113,142,255)'),\n",
    "        (0.57, 'rgb(142,113,255)'),\n",
    "        (0.71, 'rgb(170,85,255)'),\n",
    "        (0.86, 'rgb(199,56,255)'),\n",
    "        (1.0, 'rgb(227,28,255)')),\n",
    "    range_x=(-20,len(tableGT)+10),range_y=(-20,len(tableOut)+10),\n",
    "    title='by-Event evaluation summary<br><sup>F1(@IoU>'+str(thresIoU)+')='+str(round(f1,4))+' | minimum TP IoU: '+str(round(minTPIoU,4))+'</sup>',\n",
    "    hover_data={'x':False,\n",
    "    'y':False,\n",
    "    'tp':False,\n",
    "    'fp':False,\n",
    "    'fn':False,\n",
    "    'size':False,\n",
    "    'type':False,\n",
    "    'iou':':.4f', # customize hover for column of y attribute\n",
    "    'indexGT':True,\n",
    "    'indexOut':True\n",
    "    })\n",
    "    for t in fig.data:\n",
    "        t.marker.line.width = 2\n",
    "    fig.update_xaxes(title_text=str(len(tableGT))+' ANNOTATIONS | recall(@IoU>'+str(thresIoU)+')= '+str(round(recall,4)))\n",
    "    fig.update_yaxes(title_text=str(len(tableOut))+' DETECTIONS | precision(@IoU>'+str(thresIoU)+')= '+str(round(precision,4)))\n",
    "    fig.add_vline(x=-5,line_dash='dash')\n",
    "    fig.add_hline(y=-5,line_dash='dash')\n",
    "    #----------------------------------------------------------------------->\n",
    "    # https://stackoverflow.com/questions/61827165/plotly-how-to-handle-overlapping-colorbar-and-legends\n",
    "    # @vestland answer\n",
    "    \"\"\" fig.update_layout(coloraxis_colorbar=dict(yanchor=\"top\", y=1, x=0,\n",
    "                                            ticks=\"outside\",\n",
    "                                            ticksuffix=\" bills\")) \"\"\"\n",
    "    # @bitbang answer\n",
    "    fig.update_layout(legend_orientation=\"h\")\n",
    "    #<----------------------------------------------------------------------\n",
    "    return fig"
   ]
  },
  {
   "cell_type": "code",
   "execution_count": 48,
   "metadata": {},
   "outputs": [
    {
     "data": {
      "application/vnd.plotly.v1+json": {
       "config": {
        "plotlyServerURL": "https://plot.ly"
       },
       "data": [
        {
         "customdata": [
          [
           true,
           false,
           null,
           3,
           "out",
           0.952054794520548,
           0,
           0
          ],
          [
           false,
           true,
           null,
           3,
           "out",
           0,
           "NA",
           1
          ],
          [
           true,
           false,
           null,
           3,
           "out",
           0.43410852713178294,
           1,
           2
          ],
          [
           true,
           false,
           null,
           3,
           "out",
           0.9673202614379085,
           2,
           3
          ],
          [
           false,
           true,
           null,
           3,
           "out",
           0,
           "NA",
           4
          ],
          [
           true,
           false,
           null,
           3,
           "out",
           0.5576923076923077,
           3,
           5
          ],
          [
           true,
           false,
           null,
           3,
           "out",
           0.91324200913242,
           4,
           6
          ],
          [
           false,
           true,
           null,
           3,
           "out",
           0,
           "NA",
           7
          ],
          [
           false,
           true,
           null,
           3,
           "out",
           0,
           "NA",
           8
          ],
          [
           false,
           true,
           null,
           3,
           "out",
           0,
           "NA",
           9
          ],
          [
           false,
           true,
           null,
           3,
           "out",
           0,
           "NA",
           10
          ],
          [
           true,
           false,
           null,
           3,
           "out",
           0.8962655601659751,
           5,
           11
          ],
          [
           false,
           true,
           null,
           3,
           "out",
           0,
           "NA",
           12
          ],
          [
           true,
           false,
           null,
           3,
           "out",
           0.9470899470899471,
           6,
           13
          ],
          [
           false,
           true,
           null,
           3,
           "out",
           0,
           "NA",
           14
          ],
          [
           false,
           true,
           null,
           3,
           "out",
           0,
           "NA",
           15
          ],
          [
           true,
           false,
           null,
           3,
           "out",
           0.7976190476190477,
           7,
           16
          ],
          [
           false,
           true,
           null,
           3,
           "out",
           0,
           "NA",
           17
          ],
          [
           false,
           true,
           null,
           3,
           "out",
           0,
           "NA",
           18
          ],
          [
           true,
           false,
           null,
           3,
           "out",
           0.8270676691729323,
           8,
           19
          ],
          [
           true,
           false,
           null,
           3,
           "out",
           0.9333333333333333,
           9,
           20
          ],
          [
           true,
           false,
           null,
           3,
           "out",
           0.6578947368421053,
           10,
           21
          ],
          [
           true,
           false,
           null,
           3,
           "out",
           0.5192878338278932,
           11,
           22
          ],
          [
           true,
           false,
           null,
           3,
           "out",
           0.4343065693430657,
           12,
           23
          ],
          [
           true,
           false,
           null,
           3,
           "out",
           0.8009259259259259,
           13,
           24
          ],
          [
           false,
           true,
           null,
           3,
           "out",
           0,
           "NA",
           25
          ],
          [
           false,
           true,
           null,
           3,
           "out",
           0,
           "NA",
           26
          ],
          [
           false,
           true,
           null,
           3,
           "out",
           0,
           "NA",
           27
          ],
          [
           true,
           false,
           null,
           3,
           "out",
           0.9080459770114943,
           14,
           28
          ],
          [
           true,
           false,
           null,
           3,
           "out",
           0.8369565217391305,
           15,
           29
          ],
          [
           true,
           false,
           null,
           3,
           "out",
           0.9891891891891892,
           16,
           30
          ],
          [
           false,
           true,
           null,
           3,
           "out",
           0,
           "NA",
           31
          ],
          [
           false,
           true,
           null,
           3,
           "out",
           0,
           "NA",
           32
          ],
          [
           false,
           true,
           null,
           3,
           "out",
           0,
           "NA",
           33
          ],
          [
           true,
           false,
           null,
           3,
           "out",
           0.9325842696629213,
           17,
           34
          ],
          [
           true,
           false,
           null,
           3,
           "out",
           0.9700598802395209,
           18,
           35
          ],
          [
           true,
           false,
           null,
           3,
           "out",
           0.9842105263157894,
           19,
           36
          ],
          [
           true,
           false,
           null,
           3,
           "out",
           0.8775510204081632,
           20,
           37
          ],
          [
           false,
           true,
           null,
           3,
           "out",
           0,
           "NA",
           38
          ],
          [
           false,
           true,
           null,
           3,
           "out",
           0,
           "NA",
           39
          ],
          [
           false,
           true,
           null,
           3,
           "out",
           0,
           "NA",
           40
          ],
          [
           false,
           true,
           null,
           3,
           "out",
           0,
           "NA",
           41
          ],
          [
           true,
           false,
           null,
           3,
           "out",
           0.9325842696629213,
           21,
           42
          ],
          [
           false,
           true,
           null,
           3,
           "out",
           0,
           "NA",
           43
          ],
          [
           false,
           true,
           null,
           3,
           "out",
           0,
           "NA",
           44
          ],
          [
           false,
           true,
           null,
           3,
           "out",
           0,
           "NA",
           45
          ],
          [
           true,
           false,
           null,
           3,
           "out",
           0.7834394904458599,
           22,
           46
          ],
          [
           true,
           false,
           null,
           3,
           "out",
           0.8219895287958116,
           23,
           47
          ],
          [
           false,
           true,
           null,
           3,
           "out",
           0,
           "NA",
           48
          ],
          [
           false,
           true,
           null,
           3,
           "out",
           0,
           "NA",
           49
          ],
          [
           false,
           true,
           null,
           3,
           "out",
           0,
           "NA",
           50
          ],
          [
           false,
           true,
           null,
           3,
           "out",
           0,
           "NA",
           51
          ],
          [
           false,
           true,
           null,
           3,
           "out",
           0,
           "NA",
           52
          ],
          [
           false,
           true,
           null,
           3,
           "out",
           0,
           "NA",
           53
          ],
          [
           true,
           false,
           null,
           3,
           "out",
           0.9308510638297872,
           24,
           54
          ],
          [
           true,
           false,
           null,
           3,
           "out",
           0.890625,
           25,
           55
          ],
          [
           true,
           false,
           null,
           3,
           "out",
           0.6355555555555555,
           26,
           56
          ],
          [
           false,
           true,
           null,
           3,
           "out",
           0,
           "NA",
           57
          ],
          [
           false,
           true,
           null,
           3,
           "out",
           0,
           "NA",
           58
          ],
          [
           true,
           false,
           null,
           3,
           "out",
           0.8588957055214724,
           27,
           59
          ],
          [
           false,
           true,
           null,
           3,
           "out",
           0,
           "NA",
           60
          ],
          [
           false,
           true,
           null,
           3,
           "out",
           0,
           "NA",
           61
          ],
          [
           false,
           true,
           null,
           3,
           "out",
           0,
           "NA",
           62
          ],
          [
           false,
           true,
           null,
           3,
           "out",
           0,
           "NA",
           63
          ],
          [
           true,
           false,
           null,
           3,
           "out",
           0.8241206030150754,
           28,
           64
          ],
          [
           true,
           false,
           null,
           3,
           "out",
           0.810126582278481,
           29,
           65
          ],
          [
           false,
           true,
           null,
           3,
           "out",
           0,
           "NA",
           66
          ],
          [
           false,
           true,
           null,
           3,
           "out",
           0,
           "NA",
           67
          ],
          [
           false,
           true,
           null,
           3,
           "out",
           0,
           "NA",
           68
          ],
          [
           true,
           false,
           null,
           3,
           "out",
           0.8829787234042553,
           30,
           69
          ],
          [
           true,
           false,
           null,
           3,
           "out",
           0.8763440860215054,
           31,
           70
          ],
          [
           true,
           false,
           null,
           3,
           "out",
           0.7407407407407407,
           32,
           71
          ],
          [
           false,
           true,
           null,
           3,
           "out",
           0,
           "NA",
           72
          ],
          [
           false,
           true,
           null,
           3,
           "out",
           0,
           "NA",
           73
          ],
          [
           false,
           true,
           null,
           3,
           "out",
           0,
           "NA",
           74
          ],
          [
           true,
           false,
           null,
           3,
           "out",
           0.8378378378378378,
           33,
           75
          ],
          [
           false,
           true,
           null,
           3,
           "out",
           0,
           "NA",
           76
          ],
          [
           false,
           true,
           null,
           3,
           "out",
           0,
           "NA",
           77
          ],
          [
           false,
           true,
           null,
           3,
           "out",
           0,
           "NA",
           78
          ],
          [
           true,
           false,
           null,
           3,
           "out",
           0.6434108527131783,
           34,
           79
          ],
          [
           false,
           true,
           null,
           3,
           "out",
           0,
           "NA",
           80
          ],
          [
           false,
           true,
           null,
           3,
           "out",
           0,
           "NA",
           81
          ],
          [
           false,
           true,
           null,
           3,
           "out",
           0,
           "NA",
           82
          ],
          [
           false,
           true,
           null,
           3,
           "out",
           0,
           "NA",
           83
          ],
          [
           true,
           false,
           null,
           3,
           "out",
           0.7563451776649747,
           35,
           84
          ],
          [
           false,
           true,
           null,
           3,
           "out",
           0,
           "NA",
           85
          ],
          [
           true,
           false,
           null,
           3,
           "out",
           0.9020618556701031,
           36,
           86
          ],
          [
           true,
           false,
           null,
           3,
           "out",
           0.850828729281768,
           37,
           87
          ],
          [
           false,
           true,
           null,
           3,
           "out",
           0,
           "NA",
           88
          ],
          [
           false,
           true,
           null,
           3,
           "out",
           0,
           "NA",
           89
          ],
          [
           false,
           true,
           null,
           3,
           "out",
           0,
           "NA",
           90
          ],
          [
           false,
           true,
           null,
           3,
           "out",
           0,
           "NA",
           91
          ],
          [
           true,
           false,
           null,
           3,
           "out",
           0.7515923566878981,
           38,
           92
          ],
          [
           true,
           false,
           null,
           3,
           "out",
           0.6619718309859155,
           39,
           93
          ],
          [
           true,
           false,
           null,
           3,
           "out",
           0.4972067039106145,
           40,
           94
          ],
          [
           false,
           true,
           null,
           3,
           "out",
           0,
           "NA",
           95
          ],
          [
           true,
           false,
           null,
           3,
           "out",
           0.7732558139534884,
           41,
           96
          ],
          [
           false,
           true,
           null,
           3,
           "out",
           0,
           "NA",
           97
          ],
          [
           false,
           true,
           null,
           3,
           "out",
           0,
           "NA",
           98
          ],
          [
           false,
           true,
           null,
           3,
           "out",
           0,
           "NA",
           99
          ],
          [
           false,
           true,
           null,
           3,
           "out",
           0,
           "NA",
           100
          ],
          [
           false,
           true,
           null,
           3,
           "out",
           0,
           "NA",
           101
          ],
          [
           true,
           false,
           null,
           3,
           "out",
           0.8342857142857143,
           42,
           102
          ],
          [
           false,
           true,
           null,
           3,
           "out",
           0,
           "NA",
           103
          ],
          [
           false,
           true,
           null,
           3,
           "out",
           0,
           "NA",
           104
          ],
          [
           true,
           false,
           null,
           3,
           "out",
           0.8512820512820513,
           43,
           105
          ],
          [
           false,
           true,
           null,
           3,
           "out",
           0,
           "NA",
           106
          ],
          [
           true,
           false,
           null,
           3,
           "out",
           0.7873563218390804,
           44,
           107
          ],
          [
           false,
           true,
           null,
           3,
           "out",
           0,
           "NA",
           108
          ],
          [
           false,
           true,
           null,
           3,
           "out",
           0,
           "NA",
           109
          ],
          [
           true,
           false,
           null,
           3,
           "out",
           0.7960199004975125,
           45,
           110
          ],
          [
           false,
           true,
           null,
           3,
           "out",
           0,
           "NA",
           111
          ],
          [
           true,
           false,
           null,
           3,
           "out",
           0.9126984126984127,
           46,
           112
          ],
          [
           true,
           false,
           null,
           3,
           "out",
           0.8108108108108109,
           47,
           113
          ],
          [
           true,
           false,
           null,
           3,
           "out",
           0.8540540540540541,
           48,
           114
          ],
          [
           true,
           false,
           null,
           3,
           "out",
           0.6827956989247311,
           49,
           115
          ],
          [
           true,
           false,
           null,
           3,
           "out",
           0.8910256410256411,
           50,
           116
          ],
          [
           true,
           false,
           null,
           3,
           "out",
           0.8046875,
           51,
           117
          ],
          [
           true,
           false,
           null,
           3,
           "out",
           1,
           52,
           118
          ],
          [
           false,
           true,
           null,
           3,
           "out",
           0,
           "NA",
           119
          ],
          [
           true,
           false,
           null,
           3,
           "out",
           0.9411764705882353,
           53,
           120
          ],
          [
           true,
           false,
           null,
           3,
           "out",
           0.9662162162162162,
           54,
           121
          ],
          [
           false,
           true,
           null,
           3,
           "out",
           0,
           "NA",
           122
          ],
          [
           true,
           false,
           null,
           3,
           "out",
           0.9647887323943662,
           55,
           123
          ],
          [
           false,
           true,
           null,
           3,
           "out",
           0,
           "NA",
           124
          ],
          [
           false,
           true,
           null,
           3,
           "out",
           0,
           "NA",
           125
          ],
          [
           true,
           false,
           null,
           3,
           "out",
           0.7875,
           56,
           126
          ],
          [
           true,
           false,
           null,
           3,
           "out",
           0.9506172839506173,
           57,
           127
          ],
          [
           false,
           true,
           null,
           3,
           "out",
           0,
           "NA",
           128
          ],
          [
           true,
           false,
           null,
           3,
           "out",
           0.864406779661017,
           58,
           129
          ],
          [
           true,
           false,
           null,
           3,
           "out",
           0.9777777777777777,
           59,
           130
          ],
          [
           true,
           false,
           null,
           3,
           "out",
           0.9818181818181818,
           61,
           131
          ],
          [
           false,
           true,
           null,
           3,
           "out",
           0,
           "NA",
           132
          ],
          [
           false,
           true,
           null,
           3,
           "out",
           0,
           "NA",
           133
          ],
          [
           false,
           true,
           null,
           3,
           "out",
           0,
           "NA",
           134
          ],
          [
           true,
           false,
           null,
           3,
           "out",
           0.8251121076233184,
           63,
           135
          ],
          [
           false,
           true,
           null,
           3,
           "out",
           0,
           "NA",
           136
          ],
          [
           true,
           false,
           null,
           3,
           "out",
           0.976878612716763,
           64,
           137
          ],
          [
           true,
           false,
           null,
           3,
           "out",
           0.5950413223140496,
           65,
           138
          ],
          [
           false,
           true,
           null,
           3,
           "out",
           0,
           "NA",
           139
          ],
          [
           true,
           false,
           null,
           3,
           "out",
           0.7085427135678392,
           66,
           140
          ],
          [
           true,
           false,
           null,
           3,
           "out",
           0.6898148148148148,
           67,
           141
          ],
          [
           false,
           true,
           null,
           3,
           "out",
           0,
           "NA",
           142
          ],
          [
           false,
           true,
           null,
           3,
           "out",
           0,
           "NA",
           143
          ],
          [
           true,
           false,
           null,
           3,
           "out",
           0.9497206703910615,
           68,
           144
          ],
          [
           false,
           true,
           null,
           3,
           "out",
           0,
           "NA",
           145
          ],
          [
           false,
           true,
           null,
           3,
           "out",
           0,
           "NA",
           146
          ],
          [
           false,
           true,
           null,
           3,
           "out",
           0,
           "NA",
           147
          ],
          [
           false,
           true,
           null,
           3,
           "out",
           0,
           "NA",
           148
          ],
          [
           false,
           true,
           null,
           3,
           "out",
           0,
           "NA",
           149
          ],
          [
           true,
           false,
           null,
           3,
           "out",
           0.782258064516129,
           69,
           150
          ],
          [
           true,
           false,
           null,
           3,
           "out",
           0.9488636363636364,
           70,
           151
          ],
          [
           false,
           true,
           null,
           3,
           "out",
           0,
           "NA",
           152
          ],
          [
           true,
           false,
           null,
           3,
           "out",
           0.9738562091503268,
           71,
           153
          ],
          [
           true,
           false,
           null,
           3,
           "out",
           0.7357142857142858,
           72,
           154
          ],
          [
           false,
           true,
           null,
           3,
           "out",
           0,
           "NA",
           155
          ],
          [
           true,
           false,
           null,
           3,
           "out",
           0.5707547169811321,
           73,
           156
          ],
          [
           true,
           false,
           null,
           3,
           "out",
           0.9300699300699301,
           74,
           157
          ],
          [
           true,
           false,
           null,
           3,
           "out",
           0.986013986013986,
           75,
           158
          ],
          [
           false,
           true,
           null,
           3,
           "out",
           0,
           "NA",
           159
          ],
          [
           false,
           true,
           null,
           3,
           "out",
           0,
           "NA",
           160
          ],
          [
           true,
           false,
           null,
           3,
           "out",
           0.9593908629441624,
           76,
           161
          ],
          [
           true,
           false,
           null,
           3,
           "out",
           0.7477064220183486,
           77,
           162
          ],
          [
           false,
           true,
           null,
           3,
           "out",
           0,
           "NA",
           163
          ],
          [
           false,
           true,
           null,
           3,
           "out",
           0,
           "NA",
           164
          ],
          [
           false,
           true,
           null,
           3,
           "out",
           0,
           "NA",
           165
          ],
          [
           false,
           true,
           null,
           3,
           "out",
           0,
           "NA",
           166
          ],
          [
           true,
           false,
           null,
           3,
           "out",
           0.8623481781376519,
           78,
           167
          ],
          [
           false,
           true,
           null,
           3,
           "out",
           0,
           "NA",
           168
          ],
          [
           true,
           false,
           null,
           3,
           "out",
           0.7450980392156863,
           79,
           169
          ],
          [
           true,
           false,
           null,
           3,
           "out",
           0.9209039548022598,
           80,
           170
          ],
          [
           true,
           false,
           null,
           3,
           "out",
           0.838150289017341,
           81,
           171
          ],
          [
           true,
           false,
           null,
           3,
           "out",
           0.8557213930348259,
           82,
           172
          ],
          [
           false,
           true,
           null,
           3,
           "out",
           0,
           "NA",
           173
          ],
          [
           true,
           false,
           null,
           3,
           "out",
           0.9908675799086758,
           83,
           174
          ],
          [
           false,
           true,
           null,
           3,
           "out",
           0,
           "NA",
           175
          ],
          [
           true,
           false,
           null,
           3,
           "out",
           0.8679245283018868,
           84,
           176
          ],
          [
           false,
           true,
           null,
           3,
           "out",
           0,
           "NA",
           177
          ],
          [
           false,
           true,
           null,
           3,
           "out",
           0,
           "NA",
           178
          ],
          [
           false,
           true,
           null,
           3,
           "out",
           0,
           "NA",
           179
          ],
          [
           false,
           true,
           null,
           3,
           "out",
           0,
           "NA",
           180
          ],
          [
           true,
           false,
           null,
           3,
           "out",
           0.946524064171123,
           85,
           181
          ],
          [
           false,
           true,
           null,
           3,
           "out",
           0,
           "NA",
           182
          ],
          [
           false,
           true,
           null,
           3,
           "out",
           0,
           "NA",
           183
          ],
          [
           false,
           true,
           null,
           3,
           "out",
           0,
           "NA",
           184
          ],
          [
           true,
           false,
           null,
           3,
           "out",
           0.9467455621301775,
           86,
           185
          ],
          [
           true,
           false,
           null,
           3,
           "out",
           0.7562189054726368,
           87,
           186
          ],
          [
           false,
           true,
           null,
           3,
           "out",
           0,
           "NA",
           187
          ],
          [
           true,
           false,
           null,
           3,
           "out",
           0.896969696969697,
           88,
           188
          ],
          [
           true,
           false,
           null,
           3,
           "out",
           0.9938271604938271,
           89,
           189
          ],
          [
           false,
           true,
           null,
           3,
           "out",
           0,
           "NA",
           190
          ],
          [
           false,
           true,
           null,
           3,
           "out",
           0,
           "NA",
           191
          ],
          [
           true,
           false,
           null,
           3,
           "out",
           0.7584269662921348,
           90,
           192
          ],
          [
           false,
           true,
           null,
           3,
           "out",
           0,
           "NA",
           193
          ],
          [
           false,
           true,
           null,
           3,
           "out",
           0,
           "NA",
           194
          ],
          [
           false,
           true,
           null,
           3,
           "out",
           0,
           "NA",
           195
          ],
          [
           false,
           true,
           null,
           3,
           "out",
           0,
           "NA",
           196
          ],
          [
           true,
           false,
           null,
           3,
           "out",
           0.9923664122137404,
           91,
           197
          ],
          [
           false,
           true,
           null,
           3,
           "out",
           0,
           "NA",
           198
          ],
          [
           false,
           true,
           null,
           3,
           "out",
           0,
           "NA",
           199
          ],
          [
           true,
           false,
           null,
           3,
           "out",
           0.8586387434554974,
           92,
           200
          ],
          [
           false,
           true,
           null,
           3,
           "out",
           0,
           "NA",
           201
          ],
          [
           true,
           false,
           null,
           3,
           "out",
           0.9116022099447514,
           93,
           202
          ],
          [
           false,
           true,
           null,
           3,
           "out",
           0,
           "NA",
           203
          ],
          [
           true,
           false,
           null,
           3,
           "out",
           0.9771428571428571,
           94,
           204
          ],
          [
           false,
           true,
           null,
           3,
           "out",
           0,
           "NA",
           205
          ],
          [
           false,
           true,
           null,
           3,
           "out",
           0,
           "NA",
           206
          ],
          [
           false,
           true,
           null,
           3,
           "out",
           0,
           "NA",
           207
          ],
          [
           false,
           true,
           null,
           3,
           "out",
           0,
           "NA",
           208
          ],
          [
           true,
           false,
           null,
           3,
           "out",
           0.8411764705882353,
           95,
           209
          ],
          [
           true,
           false,
           null,
           3,
           "out",
           0.9482758620689655,
           96,
           210
          ],
          [
           true,
           false,
           null,
           3,
           "out",
           0.6496815286624203,
           97,
           211
          ],
          [
           true,
           false,
           null,
           3,
           "out",
           0.7951807228915663,
           98,
           212
          ],
          [
           false,
           true,
           null,
           3,
           "out",
           0,
           "NA",
           213
          ],
          [
           false,
           true,
           null,
           3,
           "out",
           0,
           "NA",
           214
          ],
          [
           false,
           true,
           null,
           3,
           "out",
           0,
           "NA",
           215
          ],
          [
           false,
           true,
           null,
           3,
           "out",
           0,
           "NA",
           216
          ],
          [
           true,
           false,
           null,
           3,
           "out",
           0.8507462686567164,
           99,
           217
          ],
          [
           true,
           false,
           null,
           3,
           "out",
           0.7,
           100,
           218
          ],
          [
           false,
           true,
           null,
           3,
           "out",
           0,
           "NA",
           219
          ],
          [
           false,
           true,
           null,
           3,
           "out",
           0,
           "NA",
           220
          ],
          [
           true,
           false,
           null,
           3,
           "out",
           0.9210526315789473,
           101,
           221
          ],
          [
           false,
           true,
           null,
           3,
           "out",
           0,
           "NA",
           222
          ],
          [
           false,
           true,
           null,
           3,
           "out",
           0,
           "NA",
           223
          ],
          [
           false,
           true,
           null,
           3,
           "out",
           0,
           "NA",
           224
          ],
          [
           false,
           true,
           null,
           3,
           "out",
           0,
           "NA",
           225
          ],
          [
           false,
           true,
           null,
           3,
           "out",
           0,
           "NA",
           226
          ],
          [
           true,
           false,
           null,
           3,
           "out",
           0.9239130434782609,
           102,
           227
          ],
          [
           false,
           true,
           null,
           3,
           "out",
           0,
           "NA",
           228
          ],
          [
           false,
           true,
           null,
           3,
           "out",
           0,
           "NA",
           229
          ],
          [
           true,
           false,
           null,
           3,
           "out",
           0.9452054794520548,
           103,
           230
          ],
          [
           false,
           true,
           null,
           3,
           "out",
           0,
           "NA",
           231
          ],
          [
           false,
           true,
           null,
           3,
           "out",
           0,
           "NA",
           232
          ],
          [
           false,
           true,
           null,
           3,
           "out",
           0,
           "NA",
           233
          ],
          [
           true,
           false,
           null,
           3,
           "out",
           0.9183673469387755,
           104,
           234
          ],
          [
           false,
           true,
           null,
           3,
           "out",
           0,
           "NA",
           235
          ],
          [
           true,
           false,
           null,
           3,
           "out",
           0.9933993399339934,
           105,
           236
          ],
          [
           false,
           true,
           null,
           3,
           "out",
           0,
           "NA",
           237
          ],
          [
           true,
           false,
           null,
           3,
           "out",
           0.6005665722379604,
           106,
           238
          ],
          [
           true,
           false,
           null,
           3,
           "out",
           0.9705882352941176,
           107,
           239
          ],
          [
           true,
           false,
           null,
           3,
           "out",
           0.9722222222222222,
           108,
           240
          ],
          [
           false,
           true,
           null,
           3,
           "out",
           0,
           "NA",
           241
          ],
          [
           true,
           false,
           null,
           3,
           "out",
           0.9859154929577465,
           109,
           242
          ],
          [
           false,
           true,
           null,
           3,
           "out",
           0,
           "NA",
           243
          ],
          [
           false,
           true,
           null,
           3,
           "out",
           0,
           "NA",
           244
          ],
          [
           false,
           true,
           null,
           3,
           "out",
           0,
           "NA",
           245
          ],
          [
           true,
           false,
           null,
           3,
           "out",
           0.7112299465240641,
           110,
           246
          ],
          [
           true,
           false,
           null,
           3,
           "out",
           0.7485714285714286,
           111,
           247
          ],
          [
           false,
           true,
           null,
           3,
           "out",
           0,
           "NA",
           248
          ],
          [
           false,
           true,
           null,
           3,
           "out",
           0,
           "NA",
           249
          ],
          [
           false,
           true,
           null,
           3,
           "out",
           0,
           "NA",
           250
          ],
          [
           true,
           false,
           null,
           3,
           "out",
           0.7142857142857143,
           112,
           251
          ],
          [
           false,
           true,
           null,
           3,
           "out",
           0,
           "NA",
           252
          ],
          [
           true,
           false,
           null,
           3,
           "out",
           0.9711538461538461,
           113,
           253
          ],
          [
           false,
           true,
           null,
           3,
           "out",
           0,
           "NA",
           254
          ],
          [
           true,
           false,
           null,
           3,
           "out",
           0.7426900584795322,
           114,
           255
          ],
          [
           false,
           true,
           null,
           3,
           "out",
           0,
           "NA",
           256
          ],
          [
           false,
           true,
           null,
           3,
           "out",
           0,
           "NA",
           257
          ],
          [
           true,
           false,
           null,
           3,
           "out",
           0.979381443298969,
           115,
           258
          ],
          [
           false,
           true,
           null,
           3,
           "out",
           0,
           "NA",
           259
          ],
          [
           true,
           false,
           null,
           3,
           "out",
           0.9075144508670521,
           116,
           260
          ],
          [
           true,
           false,
           null,
           3,
           "out",
           0.8382352941176471,
           117,
           261
          ],
          [
           true,
           false,
           null,
           3,
           "out",
           0.76,
           118,
           262
          ],
          [
           false,
           true,
           null,
           3,
           "out",
           0,
           "NA",
           263
          ],
          [
           false,
           true,
           null,
           3,
           "out",
           0,
           "NA",
           264
          ],
          [
           false,
           true,
           null,
           3,
           "out",
           0,
           "NA",
           265
          ],
          [
           true,
           false,
           null,
           3,
           "out",
           0.8493975903614458,
           119,
           266
          ],
          [
           true,
           false,
           null,
           3,
           "out",
           0.8904109589041096,
           120,
           267
          ],
          [
           true,
           false,
           null,
           3,
           "out",
           0.988950276243094,
           121,
           268
          ],
          [
           true,
           false,
           null,
           3,
           "out",
           0.9134615384615384,
           122,
           269
          ],
          [
           false,
           true,
           null,
           3,
           "out",
           0,
           "NA",
           270
          ],
          [
           true,
           false,
           null,
           3,
           "out",
           0.8802395209580839,
           123,
           271
          ],
          [
           true,
           false,
           null,
           3,
           "out",
           0.8827586206896552,
           124,
           272
          ],
          [
           true,
           false,
           null,
           3,
           "out",
           0.9210526315789473,
           125,
           273
          ],
          [
           true,
           false,
           null,
           3,
           "out",
           0.8214285714285714,
           126,
           274
          ],
          [
           true,
           false,
           null,
           3,
           "out",
           0.9234449760765551,
           127,
           275
          ],
          [
           true,
           false,
           null,
           3,
           "out",
           0.9838709677419355,
           128,
           276
          ],
          [
           false,
           true,
           null,
           3,
           "out",
           0,
           "NA",
           277
          ],
          [
           false,
           true,
           null,
           3,
           "out",
           0,
           "NA",
           278
          ],
          [
           false,
           true,
           null,
           3,
           "out",
           0,
           "NA",
           279
          ],
          [
           false,
           true,
           null,
           3,
           "out",
           0,
           "NA",
           280
          ],
          [
           true,
           false,
           null,
           3,
           "out",
           0.8717948717948718,
           129,
           281
          ],
          [
           false,
           true,
           null,
           3,
           "out",
           0,
           "NA",
           282
          ],
          [
           false,
           true,
           null,
           3,
           "out",
           0,
           "NA",
           283
          ],
          [
           true,
           false,
           null,
           3,
           "out",
           0.879245283018868,
           130,
           284
          ],
          [
           true,
           false,
           null,
           3,
           "out",
           0.7727272727272727,
           131,
           285
          ],
          [
           false,
           true,
           null,
           3,
           "out",
           0,
           "NA",
           286
          ],
          [
           true,
           false,
           null,
           3,
           "out",
           0.9193548387096774,
           132,
           287
          ],
          [
           true,
           false,
           null,
           3,
           "out",
           0.8455882352941176,
           133,
           288
          ],
          [
           false,
           true,
           null,
           3,
           "out",
           0,
           "NA",
           289
          ],
          [
           true,
           false,
           null,
           3,
           "out",
           0.9442508710801394,
           134,
           290
          ],
          [
           false,
           true,
           null,
           3,
           "out",
           0,
           "NA",
           291
          ],
          [
           false,
           true,
           null,
           3,
           "out",
           0,
           "NA",
           292
          ],
          [
           false,
           true,
           null,
           3,
           "out",
           0,
           "NA",
           293
          ],
          [
           false,
           true,
           null,
           3,
           "out",
           0,
           "NA",
           294
          ],
          [
           false,
           true,
           null,
           3,
           "out",
           0,
           "NA",
           295
          ],
          [
           true,
           false,
           null,
           3,
           "out",
           0.9166666666666666,
           135,
           296
          ],
          [
           false,
           true,
           null,
           3,
           "out",
           0,
           "NA",
           297
          ],
          [
           false,
           true,
           null,
           3,
           "out",
           0,
           "NA",
           298
          ],
          [
           false,
           true,
           null,
           3,
           "out",
           0,
           "NA",
           299
          ],
          [
           false,
           true,
           null,
           3,
           "out",
           0,
           "NA",
           300
          ],
          [
           false,
           true,
           null,
           3,
           "out",
           0,
           "NA",
           301
          ],
          [
           true,
           false,
           null,
           3,
           "out",
           0.9248554913294798,
           136,
           302
          ],
          [
           false,
           true,
           null,
           3,
           "out",
           0,
           "NA",
           303
          ],
          [
           true,
           false,
           null,
           3,
           "out",
           0.9940828402366864,
           137,
           304
          ],
          [
           false,
           true,
           null,
           3,
           "out",
           0,
           "NA",
           305
          ],
          [
           true,
           false,
           null,
           3,
           "out",
           0.8192090395480226,
           138,
           306
          ],
          [
           false,
           true,
           null,
           3,
           "out",
           0,
           "NA",
           307
          ],
          [
           false,
           true,
           null,
           3,
           "out",
           0,
           "NA",
           308
          ],
          [
           false,
           true,
           null,
           3,
           "out",
           0,
           "NA",
           309
          ],
          [
           false,
           true,
           null,
           3,
           "out",
           0,
           "NA",
           310
          ],
          [
           true,
           false,
           null,
           3,
           "out",
           0.35051546391752575,
           139,
           311
          ],
          [
           true,
           false,
           null,
           3,
           "out",
           0.9166666666666666,
           140,
           312
          ],
          [
           true,
           false,
           null,
           3,
           "out",
           0.849624060150376,
           141,
           313
          ],
          [
           true,
           false,
           null,
           3,
           "out",
           0.8671328671328671,
           142,
           314
          ],
          [
           false,
           true,
           null,
           3,
           "out",
           0,
           "NA",
           315
          ],
          [
           false,
           true,
           null,
           3,
           "out",
           0,
           "NA",
           316
          ],
          [
           false,
           true,
           null,
           3,
           "out",
           0,
           "NA",
           317
          ],
          [
           false,
           true,
           null,
           3,
           "out",
           0,
           "NA",
           318
          ],
          [
           true,
           false,
           null,
           3,
           "out",
           0.4716312056737589,
           143,
           319
          ],
          [
           true,
           false,
           null,
           3,
           "out",
           1,
           144,
           320
          ],
          [
           false,
           true,
           null,
           3,
           "out",
           0,
           "NA",
           321
          ],
          [
           false,
           true,
           null,
           3,
           "out",
           0,
           "NA",
           322
          ],
          [
           true,
           false,
           null,
           3,
           "out",
           0.9704142011834319,
           145,
           323
          ],
          [
           true,
           false,
           null,
           3,
           "out",
           0.6604938271604939,
           146,
           324
          ],
          [
           false,
           true,
           null,
           3,
           "out",
           0,
           "NA",
           325
          ],
          [
           true,
           false,
           null,
           3,
           "out",
           0.9622641509433962,
           147,
           326
          ],
          [
           false,
           true,
           null,
           3,
           "out",
           0,
           "NA",
           327
          ],
          [
           true,
           false,
           null,
           3,
           "out",
           0.9467455621301775,
           148,
           328
          ],
          [
           false,
           true,
           null,
           3,
           "out",
           0,
           "NA",
           329
          ],
          [
           false,
           true,
           null,
           3,
           "out",
           0,
           "NA",
           330
          ],
          [
           false,
           true,
           null,
           3,
           "out",
           0,
           "NA",
           331
          ],
          [
           false,
           true,
           null,
           3,
           "out",
           0,
           "NA",
           332
          ],
          [
           false,
           true,
           null,
           3,
           "out",
           0,
           "NA",
           333
          ],
          [
           false,
           true,
           null,
           3,
           "out",
           0,
           "NA",
           334
          ],
          [
           true,
           false,
           null,
           3,
           "out",
           0.6758241758241759,
           149,
           335
          ],
          [
           true,
           false,
           null,
           3,
           "out",
           0.8918918918918919,
           150,
           336
          ],
          [
           false,
           true,
           null,
           3,
           "out",
           0,
           "NA",
           337
          ],
          [
           true,
           false,
           null,
           3,
           "out",
           0.8894736842105263,
           151,
           338
          ],
          [
           false,
           true,
           null,
           3,
           "out",
           0,
           "NA",
           339
          ],
          [
           true,
           false,
           null,
           3,
           "out",
           0.7184873949579832,
           152,
           340
          ],
          [
           true,
           false,
           null,
           3,
           "out",
           0.8539325842696629,
           153,
           341
          ],
          [
           false,
           true,
           null,
           3,
           "out",
           0,
           "NA",
           342
          ],
          [
           false,
           true,
           null,
           3,
           "out",
           0,
           "NA",
           343
          ],
          [
           true,
           false,
           null,
           3,
           "out",
           0.8241758241758241,
           154,
           344
          ],
          [
           false,
           true,
           null,
           3,
           "out",
           0,
           "NA",
           345
          ],
          [
           false,
           true,
           null,
           3,
           "out",
           0,
           "NA",
           346
          ],
          [
           true,
           false,
           null,
           3,
           "out",
           0.8855721393034826,
           155,
           347
          ],
          [
           true,
           false,
           null,
           3,
           "out",
           0.9490445859872612,
           156,
           348
          ],
          [
           false,
           true,
           null,
           3,
           "out",
           0,
           "NA",
           349
          ],
          [
           false,
           true,
           null,
           3,
           "out",
           0,
           "NA",
           350
          ],
          [
           false,
           true,
           null,
           3,
           "out",
           0,
           "NA",
           351
          ],
          [
           true,
           false,
           null,
           3,
           "out",
           0.9386503067484663,
           157,
           352
          ],
          [
           false,
           true,
           null,
           3,
           "out",
           0,
           "NA",
           353
          ],
          [
           true,
           false,
           null,
           3,
           "out",
           1,
           158,
           354
          ],
          [
           false,
           true,
           null,
           3,
           "out",
           0,
           "NA",
           355
          ],
          [
           false,
           true,
           null,
           3,
           "out",
           0,
           "NA",
           356
          ],
          [
           false,
           true,
           null,
           3,
           "out",
           0,
           "NA",
           357
          ],
          [
           false,
           true,
           null,
           3,
           "out",
           0,
           "NA",
           358
          ],
          [
           false,
           true,
           null,
           3,
           "out",
           0,
           "NA",
           359
          ],
          [
           true,
           false,
           null,
           3,
           "out",
           0.7204301075268817,
           159,
           360
          ],
          [
           false,
           true,
           null,
           3,
           "out",
           0,
           "NA",
           361
          ],
          [
           false,
           true,
           null,
           3,
           "out",
           0,
           "NA",
           362
          ],
          [
           false,
           true,
           null,
           3,
           "out",
           0,
           "NA",
           363
          ],
          [
           true,
           false,
           null,
           3,
           "out",
           0.9867549668874173,
           160,
           364
          ],
          [
           true,
           false,
           null,
           3,
           "out",
           0.9808917197452229,
           161,
           365
          ],
          [
           true,
           false,
           null,
           3,
           "out",
           0.8909090909090909,
           162,
           366
          ],
          [
           true,
           false,
           null,
           3,
           "out",
           0.9888888888888889,
           163,
           367
          ],
          [
           true,
           false,
           null,
           3,
           "out",
           0.7947019867549668,
           164,
           368
          ],
          [
           false,
           true,
           null,
           3,
           "out",
           0,
           "NA",
           369
          ],
          [
           true,
           false,
           null,
           3,
           "out",
           0.8272251308900523,
           165,
           370
          ],
          [
           false,
           true,
           null,
           3,
           "out",
           0,
           "NA",
           371
          ],
          [
           true,
           false,
           null,
           3,
           "out",
           0.9787234042553191,
           166,
           372
          ],
          [
           true,
           false,
           null,
           3,
           "out",
           0.9705882352941176,
           167,
           373
          ],
          [
           true,
           false,
           null,
           3,
           "out",
           0.7467248908296943,
           168,
           374
          ],
          [
           false,
           true,
           null,
           3,
           "out",
           0,
           "NA",
           375
          ],
          [
           true,
           false,
           null,
           3,
           "out",
           0.8387096774193549,
           169,
           376
          ],
          [
           true,
           false,
           null,
           3,
           "out",
           0.8978102189781022,
           170,
           377
          ],
          [
           true,
           false,
           null,
           3,
           "out",
           0.984375,
           171,
           378
          ],
          [
           true,
           false,
           null,
           3,
           "out",
           0.9323308270676691,
           172,
           379
          ],
          [
           false,
           true,
           null,
           3,
           "out",
           0,
           "NA",
           380
          ],
          [
           false,
           true,
           null,
           3,
           "out",
           0,
           "NA",
           381
          ],
          [
           false,
           true,
           null,
           3,
           "out",
           0,
           "NA",
           382
          ],
          [
           false,
           true,
           null,
           3,
           "out",
           0,
           "NA",
           383
          ],
          [
           true,
           false,
           null,
           3,
           "out",
           0.7702127659574468,
           173,
           384
          ],
          [
           true,
           false,
           null,
           3,
           "out",
           0.6548223350253807,
           174,
           385
          ],
          [
           false,
           true,
           null,
           3,
           "out",
           0,
           "NA",
           386
          ],
          [
           false,
           true,
           null,
           3,
           "out",
           0,
           "NA",
           387
          ],
          [
           false,
           true,
           null,
           3,
           "out",
           0,
           "NA",
           388
          ],
          [
           false,
           true,
           null,
           3,
           "out",
           0,
           "NA",
           389
          ],
          [
           false,
           true,
           null,
           3,
           "out",
           0,
           "NA",
           390
          ],
          [
           false,
           true,
           null,
           3,
           "out",
           0,
           "NA",
           391
          ],
          [
           true,
           false,
           null,
           3,
           "out",
           1,
           175,
           392
          ],
          [
           false,
           true,
           null,
           3,
           "out",
           0,
           "NA",
           393
          ],
          [
           true,
           false,
           null,
           3,
           "out",
           0.9707602339181286,
           176,
           394
          ],
          [
           true,
           false,
           null,
           3,
           "out",
           0.7657142857142857,
           177,
           395
          ],
          [
           true,
           false,
           null,
           3,
           "out",
           0.903448275862069,
           178,
           396
          ],
          [
           false,
           true,
           null,
           3,
           "out",
           0,
           "NA",
           397
          ],
          [
           true,
           false,
           null,
           3,
           "out",
           0.9586776859504132,
           179,
           398
          ],
          [
           true,
           false,
           null,
           3,
           "out",
           0.9842105263157894,
           180,
           399
          ],
          [
           false,
           true,
           null,
           3,
           "out",
           0,
           "NA",
           400
          ],
          [
           false,
           true,
           null,
           3,
           "out",
           0,
           "NA",
           401
          ],
          [
           true,
           false,
           null,
           3,
           "out",
           0.7132867132867133,
           181,
           402
          ],
          [
           true,
           false,
           null,
           3,
           "out",
           0.9468599033816425,
           182,
           403
          ],
          [
           false,
           true,
           null,
           3,
           "out",
           0,
           "NA",
           404
          ],
          [
           false,
           true,
           null,
           3,
           "out",
           0,
           "NA",
           405
          ],
          [
           false,
           true,
           null,
           3,
           "out",
           0,
           "NA",
           406
          ],
          [
           false,
           true,
           null,
           3,
           "out",
           0,
           "NA",
           407
          ],
          [
           true,
           false,
           null,
           3,
           "out",
           0.8453038674033149,
           183,
           408
          ],
          [
           true,
           false,
           null,
           3,
           "out",
           0.9834710743801653,
           184,
           409
          ],
          [
           true,
           false,
           null,
           3,
           "out",
           0.9666666666666667,
           185,
           410
          ],
          [
           true,
           false,
           null,
           3,
           "out",
           0.8529411764705882,
           186,
           411
          ],
          [
           true,
           false,
           null,
           3,
           "out",
           1,
           187,
           412
          ],
          [
           true,
           false,
           null,
           3,
           "out",
           0.9050632911392406,
           188,
           413
          ],
          [
           false,
           true,
           null,
           3,
           "out",
           0,
           "NA",
           414
          ],
          [
           false,
           true,
           null,
           3,
           "out",
           0,
           "NA",
           415
          ],
          [
           false,
           true,
           null,
           3,
           "out",
           0,
           "NA",
           416
          ],
          [
           false,
           true,
           null,
           3,
           "out",
           0,
           "NA",
           417
          ],
          [
           true,
           false,
           null,
           3,
           "out",
           0.9855769230769231,
           189,
           418
          ],
          [
           true,
           false,
           null,
           3,
           "out",
           0.8810810810810811,
           190,
           419
          ],
          [
           false,
           true,
           null,
           3,
           "out",
           0,
           "NA",
           420
          ],
          [
           true,
           false,
           null,
           3,
           "out",
           0.8564593301435407,
           191,
           421
          ],
          [
           false,
           true,
           null,
           3,
           "out",
           0,
           "NA",
           422
          ],
          [
           false,
           true,
           null,
           3,
           "out",
           0,
           "NA",
           423
          ],
          [
           true,
           false,
           null,
           3,
           "out",
           0.9661016949152542,
           192,
           424
          ],
          [
           false,
           true,
           null,
           3,
           "out",
           0,
           "NA",
           425
          ],
          [
           false,
           true,
           null,
           3,
           "out",
           0,
           "NA",
           426
          ],
          [
           true,
           false,
           null,
           3,
           "out",
           0.8802395209580839,
           193,
           427
          ],
          [
           false,
           true,
           null,
           3,
           "out",
           0,
           "NA",
           428
          ],
          [
           true,
           false,
           null,
           3,
           "out",
           0.8722222222222222,
           194,
           429
          ],
          [
           true,
           false,
           null,
           3,
           "out",
           0.641860465116279,
           195,
           430
          ],
          [
           false,
           true,
           null,
           3,
           "out",
           0,
           "NA",
           431
          ],
          [
           false,
           true,
           null,
           3,
           "out",
           0,
           "NA",
           432
          ],
          [
           true,
           false,
           null,
           3,
           "out",
           0.7953488372093023,
           196,
           433
          ],
          [
           false,
           true,
           null,
           3,
           "out",
           0,
           "NA",
           434
          ],
          [
           true,
           false,
           null,
           3,
           "out",
           0.9742268041237113,
           197,
           435
          ],
          [
           false,
           true,
           null,
           3,
           "out",
           0,
           "NA",
           436
          ],
          [
           false,
           true,
           null,
           3,
           "out",
           0,
           "NA",
           437
          ],
          [
           false,
           true,
           null,
           3,
           "out",
           0,
           "NA",
           438
          ],
          [
           false,
           true,
           null,
           3,
           "out",
           0,
           "NA",
           439
          ],
          [
           true,
           false,
           null,
           3,
           "out",
           0.9085365853658537,
           198,
           440
          ],
          [
           false,
           true,
           null,
           3,
           "out",
           0,
           "NA",
           441
          ],
          [
           false,
           true,
           null,
           3,
           "out",
           0,
           "NA",
           442
          ],
          [
           true,
           false,
           null,
           3,
           "out",
           0.9743589743589743,
           199,
           443
          ],
          [
           true,
           false,
           null,
           3,
           "out",
           0.9605263157894737,
           200,
           444
          ],
          [
           false,
           true,
           null,
           3,
           "out",
           0,
           "NA",
           445
          ],
          [
           true,
           false,
           null,
           3,
           "out",
           0.9109947643979057,
           201,
           446
          ],
          [
           false,
           true,
           null,
           3,
           "out",
           0,
           "NA",
           447
          ],
          [
           false,
           true,
           null,
           3,
           "out",
           0,
           "NA",
           448
          ],
          [
           true,
           false,
           null,
           3,
           "out",
           0.865979381443299,
           202,
           449
          ],
          [
           true,
           false,
           null,
           3,
           "out",
           0.8767772511848341,
           203,
           450
          ],
          [
           true,
           false,
           null,
           3,
           "out",
           0.9644970414201184,
           204,
           451
          ],
          [
           false,
           true,
           null,
           3,
           "out",
           0,
           "NA",
           452
          ],
          [
           false,
           true,
           null,
           3,
           "out",
           0,
           "NA",
           453
          ],
          [
           true,
           false,
           null,
           3,
           "out",
           0.7900552486187845,
           205,
           454
          ],
          [
           true,
           false,
           null,
           3,
           "out",
           0.8816568047337278,
           206,
           455
          ],
          [
           false,
           true,
           null,
           3,
           "out",
           0,
           "NA",
           456
          ],
          [
           false,
           true,
           null,
           3,
           "out",
           0,
           "NA",
           457
          ],
          [
           true,
           false,
           null,
           3,
           "out",
           0.9863945578231292,
           207,
           458
          ],
          [
           false,
           true,
           null,
           3,
           "out",
           0,
           "NA",
           459
          ],
          [
           false,
           true,
           null,
           3,
           "out",
           0,
           "NA",
           460
          ],
          [
           true,
           false,
           null,
           3,
           "out",
           0.935064935064935,
           208,
           461
          ],
          [
           true,
           false,
           null,
           3,
           "out",
           0.9849056603773585,
           209,
           462
          ],
          [
           true,
           false,
           null,
           3,
           "out",
           1,
           210,
           463
          ],
          [
           false,
           true,
           null,
           3,
           "out",
           0,
           "NA",
           464
          ],
          [
           false,
           true,
           null,
           3,
           "out",
           0,
           "NA",
           465
          ],
          [
           false,
           true,
           null,
           3,
           "out",
           0,
           "NA",
           466
          ],
          [
           true,
           false,
           null,
           3,
           "out",
           0.9611111111111111,
           211,
           467
          ],
          [
           false,
           true,
           null,
           3,
           "out",
           0,
           "NA",
           468
          ],
          [
           true,
           false,
           null,
           3,
           "out",
           0.8277511961722488,
           212,
           469
          ],
          [
           false,
           true,
           null,
           3,
           "out",
           0,
           "NA",
           470
          ],
          [
           false,
           true,
           null,
           3,
           "out",
           0,
           "NA",
           471
          ],
          [
           false,
           true,
           null,
           3,
           "out",
           0,
           "NA",
           472
          ],
          [
           false,
           true,
           null,
           3,
           "out",
           0,
           "NA",
           473
          ],
          [
           false,
           true,
           null,
           3,
           "out",
           0,
           "NA",
           474
          ],
          [
           false,
           true,
           null,
           3,
           "out",
           0,
           "NA",
           475
          ],
          [
           false,
           true,
           null,
           3,
           "out",
           0,
           "NA",
           476
          ],
          [
           false,
           true,
           null,
           3,
           "out",
           0,
           "NA",
           477
          ],
          [
           true,
           false,
           null,
           3,
           "out",
           0.8373493975903614,
           213,
           478
          ],
          [
           true,
           false,
           null,
           3,
           "out",
           0.8379629629629629,
           214,
           479
          ],
          [
           true,
           false,
           null,
           3,
           "out",
           1,
           215,
           480
          ],
          [
           false,
           true,
           null,
           3,
           "out",
           0,
           "NA",
           481
          ],
          [
           false,
           true,
           null,
           3,
           "out",
           0,
           "NA",
           482
          ],
          [
           true,
           false,
           null,
           3,
           "out",
           0.8252427184466019,
           216,
           483
          ],
          [
           false,
           true,
           null,
           3,
           "out",
           0,
           "NA",
           484
          ],
          [
           false,
           true,
           null,
           3,
           "out",
           0,
           "NA",
           485
          ],
          [
           false,
           true,
           null,
           3,
           "out",
           0,
           "NA",
           486
          ],
          [
           false,
           true,
           null,
           3,
           "out",
           0,
           "NA",
           487
          ],
          [
           true,
           false,
           null,
           3,
           "out",
           0.6588785046728972,
           217,
           488
          ],
          [
           true,
           false,
           null,
           3,
           "out",
           0.850828729281768,
           218,
           489
          ],
          [
           true,
           false,
           null,
           3,
           "out",
           0.94375,
           219,
           490
          ],
          [
           false,
           true,
           null,
           3,
           "out",
           0,
           "NA",
           491
          ],
          [
           false,
           true,
           null,
           3,
           "out",
           0,
           "NA",
           492
          ],
          [
           true,
           false,
           null,
           3,
           "out",
           0.9371428571428572,
           220,
           493
          ],
          [
           true,
           false,
           null,
           3,
           "out",
           0.9543568464730291,
           221,
           494
          ],
          [
           false,
           true,
           null,
           3,
           "out",
           0,
           "NA",
           495
          ],
          [
           false,
           true,
           null,
           3,
           "out",
           0,
           "NA",
           496
          ],
          [
           false,
           true,
           null,
           3,
           "out",
           0,
           "NA",
           497
          ],
          [
           false,
           true,
           null,
           3,
           "out",
           0,
           "NA",
           498
          ],
          [
           true,
           false,
           null,
           3,
           "out",
           0.9047619047619048,
           222,
           499
          ],
          [
           false,
           true,
           null,
           3,
           "out",
           0,
           "NA",
           500
          ],
          [
           true,
           false,
           null,
           3,
           "out",
           0.8455882352941176,
           223,
           501
          ],
          [
           false,
           true,
           null,
           3,
           "out",
           0,
           "NA",
           502
          ],
          [
           false,
           true,
           null,
           3,
           "out",
           0,
           "NA",
           503
          ],
          [
           true,
           false,
           null,
           3,
           "out",
           0.9883040935672515,
           224,
           504
          ],
          [
           false,
           true,
           null,
           3,
           "out",
           0,
           "NA",
           505
          ],
          [
           true,
           false,
           null,
           3,
           "out",
           0.7593360995850622,
           225,
           506
          ],
          [
           false,
           true,
           null,
           3,
           "out",
           0,
           "NA",
           507
          ],
          [
           true,
           false,
           null,
           3,
           "out",
           0.25301204819277107,
           226,
           508
          ],
          [
           false,
           true,
           null,
           3,
           "out",
           0,
           "NA",
           509
          ],
          [
           false,
           true,
           null,
           3,
           "out",
           0,
           "NA",
           510
          ],
          [
           true,
           false,
           null,
           3,
           "out",
           0.8415841584158416,
           227,
           511
          ],
          [
           false,
           true,
           null,
           3,
           "out",
           0,
           "NA",
           512
          ],
          [
           false,
           true,
           null,
           3,
           "out",
           0,
           "NA",
           513
          ],
          [
           false,
           true,
           null,
           3,
           "out",
           0,
           "NA",
           514
          ],
          [
           false,
           true,
           null,
           3,
           "out",
           0,
           "NA",
           515
          ],
          [
           true,
           false,
           null,
           3,
           "out",
           0.9391891891891891,
           228,
           516
          ],
          [
           true,
           false,
           null,
           3,
           "out",
           0.9207317073170732,
           229,
           517
          ],
          [
           false,
           true,
           null,
           3,
           "out",
           0,
           "NA",
           518
          ],
          [
           false,
           true,
           null,
           3,
           "out",
           0,
           "NA",
           519
          ],
          [
           false,
           true,
           null,
           3,
           "out",
           0,
           "NA",
           520
          ],
          [
           true,
           false,
           null,
           3,
           "out",
           0.9573170731707317,
           230,
           521
          ],
          [
           false,
           true,
           null,
           3,
           "out",
           0,
           "NA",
           522
          ],
          [
           false,
           true,
           null,
           3,
           "out",
           0,
           "NA",
           523
          ],
          [
           false,
           true,
           null,
           3,
           "out",
           0,
           "NA",
           524
          ],
          [
           false,
           true,
           null,
           3,
           "out",
           0,
           "NA",
           525
          ],
          [
           true,
           false,
           null,
           3,
           "out",
           0.9459459459459459,
           231,
           526
          ],
          [
           false,
           true,
           null,
           3,
           "out",
           0,
           "NA",
           527
          ],
          [
           false,
           true,
           null,
           3,
           "out",
           0,
           "NA",
           528
          ],
          [
           false,
           true,
           null,
           3,
           "out",
           0,
           "NA",
           529
          ],
          [
           false,
           true,
           null,
           3,
           "out",
           0,
           "NA",
           530
          ],
          [
           true,
           false,
           null,
           3,
           "out",
           0.9052631578947369,
           232,
           531
          ],
          [
           false,
           true,
           null,
           3,
           "out",
           0,
           "NA",
           532
          ],
          [
           false,
           true,
           null,
           3,
           "out",
           0,
           "NA",
           533
          ],
          [
           false,
           true,
           null,
           3,
           "out",
           0,
           "NA",
           534
          ],
          [
           true,
           false,
           null,
           3,
           "out",
           0.8693181818181818,
           233,
           535
          ],
          [
           false,
           true,
           null,
           3,
           "out",
           0,
           "NA",
           536
          ],
          [
           false,
           true,
           null,
           3,
           "out",
           0,
           "NA",
           537
          ],
          [
           false,
           true,
           null,
           3,
           "out",
           0,
           "NA",
           538
          ],
          [
           false,
           true,
           null,
           3,
           "out",
           0,
           "NA",
           539
          ],
          [
           false,
           true,
           null,
           3,
           "out",
           0,
           "NA",
           540
          ],
          [
           false,
           true,
           null,
           3,
           "out",
           0,
           "NA",
           541
          ],
          [
           false,
           true,
           null,
           3,
           "out",
           0,
           "NA",
           542
          ],
          [
           false,
           true,
           null,
           3,
           "out",
           0,
           "NA",
           543
          ],
          [
           false,
           true,
           null,
           3,
           "out",
           0,
           "NA",
           544
          ],
          [
           true,
           false,
           null,
           3,
           "out",
           0.7614678899082569,
           234,
           545
          ],
          [
           true,
           false,
           null,
           3,
           "out",
           0.7904191616766467,
           235,
           546
          ],
          [
           true,
           false,
           null,
           3,
           "out",
           0.7404255319148936,
           237,
           547
          ],
          [
           false,
           true,
           null,
           3,
           "out",
           0,
           "NA",
           548
          ],
          [
           true,
           false,
           null,
           3,
           "out",
           0.7764705882352941,
           238,
           549
          ],
          [
           true,
           false,
           null,
           3,
           "out",
           0.8431372549019608,
           239,
           550
          ],
          [
           false,
           true,
           null,
           3,
           "out",
           0,
           "NA",
           551
          ],
          [
           false,
           true,
           null,
           3,
           "out",
           0,
           "NA",
           552
          ],
          [
           true,
           false,
           null,
           3,
           "out",
           0.7861271676300579,
           240,
           553
          ],
          [
           false,
           true,
           null,
           3,
           "out",
           0,
           "NA",
           554
          ],
          [
           false,
           true,
           null,
           3,
           "out",
           0,
           "NA",
           555
          ],
          [
           false,
           true,
           null,
           3,
           "out",
           0,
           "NA",
           556
          ],
          [
           false,
           true,
           null,
           3,
           "out",
           0,
           "NA",
           557
          ],
          [
           true,
           false,
           null,
           3,
           "out",
           0.9372549019607843,
           241,
           558
          ],
          [
           true,
           false,
           null,
           3,
           "out",
           0.9057591623036649,
           242,
           559
          ],
          [
           true,
           false,
           null,
           3,
           "out",
           0.8730964467005076,
           243,
           560
          ],
          [
           false,
           true,
           null,
           3,
           "out",
           0,
           "NA",
           561
          ],
          [
           false,
           true,
           null,
           3,
           "out",
           0,
           "NA",
           562
          ],
          [
           false,
           true,
           null,
           3,
           "out",
           0,
           "NA",
           563
          ],
          [
           false,
           true,
           null,
           3,
           "out",
           0,
           "NA",
           564
          ],
          [
           true,
           false,
           null,
           3,
           "out",
           0.8394495412844036,
           244,
           565
          ],
          [
           false,
           true,
           null,
           3,
           "out",
           0,
           "NA",
           566
          ],
          [
           true,
           false,
           null,
           3,
           "out",
           0.9696969696969697,
           245,
           567
          ],
          [
           true,
           false,
           null,
           3,
           "out",
           0.9025641025641026,
           246,
           568
          ],
          [
           true,
           false,
           null,
           3,
           "out",
           0.9425287356321839,
           247,
           569
          ],
          [
           true,
           false,
           null,
           3,
           "out",
           0.9203539823008849,
           248,
           570
          ],
          [
           true,
           false,
           null,
           3,
           "out",
           0.9597701149425287,
           249,
           571
          ],
          [
           false,
           true,
           null,
           3,
           "out",
           0,
           "NA",
           572
          ],
          [
           true,
           false,
           null,
           3,
           "out",
           0.9330143540669856,
           250,
           573
          ],
          [
           false,
           true,
           null,
           3,
           "out",
           0,
           "NA",
           574
          ],
          [
           true,
           false,
           null,
           3,
           "out",
           0.9937888198757764,
           251,
           575
          ],
          [
           true,
           false,
           null,
           3,
           "out",
           0.7848837209302325,
           252,
           576
          ],
          [
           false,
           true,
           null,
           3,
           "out",
           0,
           "NA",
           577
          ],
          [
           false,
           true,
           null,
           3,
           "out",
           0,
           "NA",
           578
          ],
          [
           false,
           true,
           null,
           3,
           "out",
           0,
           "NA",
           579
          ],
          [
           false,
           true,
           null,
           3,
           "out",
           0,
           "NA",
           580
          ],
          [
           true,
           false,
           null,
           3,
           "out",
           0.8789473684210526,
           253,
           581
          ],
          [
           false,
           true,
           null,
           3,
           "out",
           0,
           "NA",
           582
          ],
          [
           false,
           true,
           null,
           3,
           "out",
           0,
           "NA",
           583
          ],
          [
           true,
           false,
           null,
           3,
           "out",
           0.9576719576719577,
           254,
           584
          ],
          [
           true,
           false,
           null,
           3,
           "out",
           0.8837209302325582,
           255,
           585
          ],
          [
           true,
           false,
           null,
           3,
           "out",
           0.9622641509433962,
           256,
           586
          ],
          [
           true,
           false,
           null,
           3,
           "out",
           0.8093023255813954,
           257,
           587
          ],
          [
           false,
           true,
           null,
           3,
           "out",
           0,
           "NA",
           588
          ],
          [
           true,
           false,
           null,
           3,
           "out",
           0.9830508474576272,
           258,
           589
          ],
          [
           true,
           false,
           null,
           3,
           "out",
           0.9351351351351351,
           259,
           590
          ],
          [
           true,
           false,
           null,
           3,
           "out",
           0.7017543859649122,
           260,
           591
          ],
          [
           true,
           false,
           null,
           3,
           "out",
           0.9523809523809523,
           261,
           592
          ],
          [
           false,
           true,
           null,
           3,
           "out",
           0,
           "NA",
           593
          ],
          [
           true,
           false,
           null,
           3,
           "out",
           0.9840425531914894,
           262,
           594
          ],
          [
           true,
           false,
           null,
           3,
           "out",
           0.7854077253218884,
           263,
           595
          ],
          [
           false,
           true,
           null,
           3,
           "out",
           0,
           "NA",
           596
          ],
          [
           false,
           true,
           null,
           3,
           "out",
           0,
           "NA",
           597
          ],
          [
           false,
           true,
           null,
           3,
           "out",
           0,
           "NA",
           598
          ],
          [
           true,
           false,
           null,
           3,
           "out",
           0.7799043062200957,
           264,
           599
          ],
          [
           false,
           true,
           null,
           3,
           "out",
           0,
           "NA",
           600
          ],
          [
           false,
           true,
           null,
           3,
           "out",
           0,
           "NA",
           601
          ],
          [
           true,
           false,
           null,
           3,
           "out",
           0.8082191780821918,
           265,
           602
          ],
          [
           false,
           true,
           null,
           3,
           "out",
           0,
           "NA",
           603
          ],
          [
           false,
           true,
           null,
           3,
           "out",
           0,
           "NA",
           604
          ],
          [
           false,
           true,
           null,
           3,
           "out",
           0,
           "NA",
           605
          ],
          [
           false,
           true,
           null,
           3,
           "out",
           0,
           "NA",
           606
          ],
          [
           true,
           false,
           null,
           3,
           "out",
           0.7857142857142857,
           266,
           607
          ],
          [
           false,
           true,
           null,
           3,
           "out",
           0,
           "NA",
           608
          ],
          [
           false,
           true,
           null,
           3,
           "out",
           0,
           "NA",
           609
          ],
          [
           false,
           true,
           null,
           3,
           "out",
           0,
           "NA",
           610
          ],
          [
           false,
           true,
           null,
           3,
           "out",
           0,
           "NA",
           611
          ],
          [
           false,
           true,
           null,
           3,
           "out",
           0,
           "NA",
           612
          ],
          [
           false,
           true,
           null,
           3,
           "out",
           0,
           "NA",
           613
          ],
          [
           false,
           true,
           null,
           3,
           "out",
           0,
           "NA",
           614
          ],
          [
           true,
           false,
           null,
           3,
           "out",
           0.9578313253012049,
           267,
           615
          ],
          [
           false,
           true,
           null,
           3,
           "out",
           0,
           "NA",
           616
          ],
          [
           true,
           false,
           null,
           3,
           "out",
           0.9879032258064516,
           268,
           617
          ],
          [
           true,
           false,
           null,
           3,
           "out",
           0.9086538461538461,
           269,
           618
          ],
          [
           false,
           true,
           null,
           3,
           "out",
           0,
           "NA",
           619
          ],
          [
           false,
           true,
           null,
           3,
           "out",
           0,
           "NA",
           620
          ],
          [
           false,
           true,
           null,
           3,
           "out",
           0,
           "NA",
           621
          ],
          [
           true,
           false,
           null,
           3,
           "out",
           0.8497409326424871,
           270,
           622
          ],
          [
           false,
           true,
           null,
           3,
           "out",
           0,
           "NA",
           623
          ],
          [
           false,
           true,
           null,
           3,
           "out",
           0,
           "NA",
           624
          ],
          [
           true,
           false,
           null,
           3,
           "out",
           0.616580310880829,
           271,
           625
          ],
          [
           true,
           false,
           null,
           3,
           "out",
           0.9272727272727272,
           272,
           626
          ],
          [
           true,
           false,
           null,
           3,
           "out",
           0.7523364485981309,
           273,
           627
          ],
          [
           false,
           true,
           null,
           3,
           "out",
           0,
           "NA",
           628
          ],
          [
           false,
           true,
           null,
           3,
           "out",
           0,
           "NA",
           629
          ],
          [
           false,
           true,
           null,
           3,
           "out",
           0,
           "NA",
           630
          ],
          [
           false,
           true,
           null,
           3,
           "out",
           0,
           "NA",
           631
          ],
          [
           true,
           false,
           null,
           3,
           "out",
           0.9779005524861878,
           274,
           632
          ],
          [
           true,
           false,
           null,
           3,
           "out",
           0.9080459770114943,
           275,
           633
          ],
          [
           false,
           true,
           null,
           3,
           "out",
           0,
           "NA",
           634
          ],
          [
           true,
           false,
           null,
           3,
           "out",
           0.577639751552795,
           276,
           635
          ],
          [
           false,
           true,
           null,
           3,
           "out",
           0,
           "NA",
           636
          ],
          [
           true,
           false,
           null,
           3,
           "out",
           0.8018867924528302,
           277,
           637
          ],
          [
           false,
           true,
           null,
           3,
           "out",
           0,
           "NA",
           638
          ],
          [
           false,
           true,
           null,
           3,
           "out",
           0,
           "NA",
           639
          ],
          [
           false,
           true,
           null,
           3,
           "out",
           0,
           "NA",
           640
          ],
          [
           true,
           false,
           null,
           3,
           "out",
           0.9880952380952381,
           278,
           641
          ],
          [
           true,
           false,
           null,
           3,
           "out",
           0.8378378378378378,
           279,
           642
          ],
          [
           false,
           true,
           null,
           3,
           "out",
           0,
           "NA",
           643
          ],
          [
           false,
           true,
           null,
           3,
           "out",
           0,
           "NA",
           644
          ],
          [
           false,
           true,
           null,
           3,
           "out",
           0,
           "NA",
           645
          ],
          [
           true,
           false,
           null,
           3,
           "out",
           0.9315789473684211,
           280,
           646
          ],
          [
           false,
           true,
           null,
           3,
           "out",
           0,
           "NA",
           647
          ],
          [
           false,
           true,
           null,
           3,
           "out",
           0,
           "NA",
           648
          ],
          [
           false,
           true,
           null,
           3,
           "out",
           0,
           "NA",
           649
          ],
          [
           false,
           true,
           null,
           3,
           "out",
           0,
           "NA",
           650
          ],
          [
           false,
           true,
           null,
           3,
           "out",
           0,
           "NA",
           651
          ],
          [
           false,
           true,
           null,
           3,
           "out",
           0,
           "NA",
           652
          ],
          [
           false,
           true,
           null,
           3,
           "out",
           0,
           "NA",
           653
          ],
          [
           false,
           true,
           null,
           3,
           "out",
           0,
           "NA",
           654
          ],
          [
           false,
           true,
           null,
           3,
           "out",
           0,
           "NA",
           655
          ],
          [
           true,
           false,
           null,
           3,
           "out",
           0.9222797927461139,
           281,
           656
          ],
          [
           false,
           true,
           null,
           3,
           "out",
           0,
           "NA",
           657
          ],
          [
           false,
           true,
           null,
           3,
           "out",
           0,
           "NA",
           658
          ],
          [
           false,
           true,
           null,
           3,
           "out",
           0,
           "NA",
           659
          ],
          [
           false,
           true,
           null,
           3,
           "out",
           0,
           "NA",
           660
          ],
          [
           true,
           false,
           null,
           3,
           "out",
           0.9470899470899471,
           282,
           661
          ],
          [
           false,
           true,
           null,
           3,
           "out",
           0,
           "NA",
           662
          ],
          [
           false,
           true,
           null,
           3,
           "out",
           0,
           "NA",
           663
          ],
          [
           true,
           false,
           null,
           3,
           "out",
           0.9419354838709677,
           283,
           664
          ],
          [
           false,
           true,
           null,
           3,
           "out",
           0,
           "NA",
           665
          ],
          [
           true,
           false,
           null,
           3,
           "out",
           0.9047619047619048,
           284,
           666
          ],
          [
           true,
           false,
           null,
           3,
           "out",
           0.9512195121951219,
           285,
           667
          ],
          [
           true,
           false,
           null,
           3,
           "out",
           0.8362573099415205,
           286,
           668
          ],
          [
           false,
           true,
           null,
           3,
           "out",
           0,
           "NA",
           669
          ],
          [
           false,
           true,
           null,
           3,
           "out",
           0,
           "NA",
           670
          ],
          [
           false,
           true,
           null,
           3,
           "out",
           0,
           "NA",
           671
          ],
          [
           false,
           true,
           null,
           3,
           "out",
           0,
           "NA",
           672
          ],
          [
           false,
           true,
           null,
           3,
           "out",
           0,
           "NA",
           673
          ],
          [
           true,
           false,
           null,
           3,
           "out",
           0.9325842696629213,
           287,
           674
          ],
          [
           true,
           false,
           null,
           3,
           "out",
           0.89375,
           288,
           675
          ],
          [
           false,
           true,
           null,
           3,
           "out",
           0,
           "NA",
           676
          ],
          [
           false,
           true,
           null,
           3,
           "out",
           0,
           "NA",
           677
          ],
          [
           false,
           true,
           null,
           3,
           "out",
           0,
           "NA",
           678
          ],
          [
           false,
           true,
           null,
           3,
           "out",
           0,
           "NA",
           679
          ],
          [
           false,
           true,
           null,
           3,
           "out",
           0,
           "NA",
           680
          ],
          [
           true,
           false,
           null,
           3,
           "out",
           0.9085365853658537,
           289,
           681
          ],
          [
           true,
           false,
           null,
           3,
           "out",
           0.9148936170212766,
           290,
           682
          ],
          [
           true,
           false,
           null,
           3,
           "out",
           0.988950276243094,
           291,
           683
          ],
          [
           false,
           true,
           null,
           3,
           "out",
           0,
           "NA",
           684
          ],
          [
           true,
           false,
           null,
           3,
           "out",
           0.9547738693467337,
           292,
           685
          ],
          [
           true,
           false,
           null,
           3,
           "out",
           0.8615384615384616,
           293,
           686
          ],
          [
           false,
           true,
           null,
           3,
           "out",
           0,
           "NA",
           687
          ],
          [
           false,
           true,
           null,
           3,
           "out",
           0,
           "NA",
           688
          ],
          [
           true,
           false,
           null,
           3,
           "out",
           0.56,
           294,
           689
          ],
          [
           false,
           true,
           null,
           3,
           "out",
           0,
           "NA",
           690
          ],
          [
           false,
           true,
           null,
           3,
           "out",
           0,
           "NA",
           691
          ],
          [
           false,
           true,
           null,
           3,
           "out",
           0,
           "NA",
           692
          ],
          [
           false,
           true,
           null,
           3,
           "out",
           0,
           "NA",
           693
          ],
          [
           false,
           true,
           null,
           3,
           "out",
           0,
           "NA",
           694
          ],
          [
           false,
           true,
           null,
           3,
           "out",
           0,
           "NA",
           695
          ],
          [
           false,
           true,
           null,
           3,
           "out",
           0,
           "NA",
           696
          ],
          [
           false,
           true,
           null,
           3,
           "out",
           0,
           "NA",
           697
          ],
          [
           false,
           true,
           null,
           3,
           "out",
           0,
           "NA",
           698
          ],
          [
           false,
           true,
           null,
           3,
           "out",
           0,
           "NA",
           699
          ],
          [
           false,
           true,
           null,
           3,
           "out",
           0,
           "NA",
           700
          ],
          [
           false,
           true,
           null,
           3,
           "out",
           0,
           "NA",
           701
          ],
          [
           false,
           true,
           null,
           3,
           "out",
           0,
           "NA",
           702
          ],
          [
           false,
           true,
           null,
           3,
           "out",
           0,
           "NA",
           703
          ],
          [
           false,
           true,
           null,
           3,
           "out",
           0,
           "NA",
           704
          ],
          [
           true,
           false,
           null,
           3,
           "out",
           0.7239583333333334,
           295,
           705
          ],
          [
           true,
           false,
           null,
           3,
           "out",
           0.9081081081081082,
           296,
           706
          ],
          [
           true,
           false,
           null,
           3,
           "out",
           0.8834355828220859,
           297,
           707
          ],
          [
           true,
           false,
           null,
           3,
           "out",
           0.9831460674157303,
           298,
           708
          ],
          [
           false,
           true,
           null,
           3,
           "out",
           0,
           "NA",
           709
          ],
          [
           false,
           true,
           null,
           3,
           "out",
           0,
           "NA",
           710
          ],
          [
           false,
           true,
           null,
           3,
           "out",
           0,
           "NA",
           711
          ],
          [
           false,
           true,
           null,
           3,
           "out",
           0,
           "NA",
           712
          ],
          [
           false,
           true,
           null,
           3,
           "out",
           0,
           "NA",
           713
          ],
          [
           false,
           true,
           null,
           3,
           "out",
           0,
           "NA",
           714
          ],
          [
           false,
           true,
           null,
           3,
           "out",
           0,
           "NA",
           715
          ],
          [
           false,
           true,
           null,
           3,
           "out",
           0,
           "NA",
           716
          ],
          [
           false,
           true,
           null,
           3,
           "out",
           0,
           "NA",
           717
          ],
          [
           false,
           true,
           null,
           3,
           "out",
           0,
           "NA",
           718
          ],
          [
           false,
           true,
           null,
           3,
           "out",
           0,
           "NA",
           719
          ],
          [
           false,
           true,
           null,
           3,
           "out",
           0,
           "NA",
           720
          ],
          [
           false,
           true,
           null,
           3,
           "out",
           0,
           "NA",
           721
          ],
          [
           false,
           true,
           null,
           3,
           "out",
           0,
           "NA",
           722
          ],
          [
           false,
           true,
           null,
           3,
           "out",
           0,
           "NA",
           723
          ],
          [
           false,
           true,
           null,
           3,
           "out",
           0,
           "NA",
           724
          ],
          [
           false,
           true,
           null,
           3,
           "out",
           0,
           "NA",
           725
          ],
          [
           false,
           true,
           null,
           3,
           "out",
           0,
           "NA",
           726
          ],
          [
           true,
           false,
           null,
           3,
           "out",
           0.7543859649122807,
           299,
           727
          ],
          [
           true,
           false,
           null,
           3,
           "out",
           0.850828729281768,
           300,
           728
          ],
          [
           false,
           true,
           null,
           3,
           "out",
           0,
           "NA",
           729
          ],
          [
           false,
           true,
           null,
           3,
           "out",
           0,
           "NA",
           730
          ],
          [
           false,
           true,
           null,
           3,
           "out",
           0,
           "NA",
           731
          ],
          [
           false,
           true,
           null,
           3,
           "out",
           0,
           "NA",
           732
          ],
          [
           true,
           false,
           null,
           3,
           "out",
           0.888268156424581,
           301,
           733
          ],
          [
           true,
           false,
           null,
           3,
           "out",
           0.963855421686747,
           302,
           734
          ],
          [
           false,
           true,
           null,
           3,
           "out",
           0,
           "NA",
           735
          ],
          [
           false,
           true,
           null,
           3,
           "out",
           0,
           "NA",
           736
          ],
          [
           false,
           true,
           null,
           3,
           "out",
           0,
           "NA",
           737
          ],
          [
           false,
           true,
           null,
           3,
           "out",
           0,
           "NA",
           738
          ],
          [
           false,
           true,
           null,
           3,
           "out",
           0,
           "NA",
           739
          ],
          [
           false,
           true,
           null,
           3,
           "out",
           0,
           "NA",
           740
          ],
          [
           false,
           true,
           null,
           3,
           "out",
           0,
           "NA",
           741
          ],
          [
           false,
           true,
           null,
           3,
           "out",
           0,
           "NA",
           742
          ],
          [
           false,
           true,
           null,
           3,
           "out",
           0,
           "NA",
           743
          ],
          [
           false,
           true,
           null,
           3,
           "out",
           0,
           "NA",
           744
          ],
          [
           true,
           false,
           null,
           3,
           "out",
           0.9352941176470588,
           303,
           745
          ],
          [
           false,
           true,
           null,
           3,
           "out",
           0,
           "NA",
           746
          ],
          [
           false,
           true,
           null,
           3,
           "out",
           0,
           "NA",
           747
          ],
          [
           false,
           true,
           null,
           3,
           "out",
           0,
           "NA",
           748
          ],
          [
           false,
           true,
           null,
           3,
           "out",
           0,
           "NA",
           749
          ],
          [
           true,
           false,
           null,
           3,
           "out",
           0.8896551724137931,
           304,
           750
          ],
          [
           true,
           false,
           null,
           3,
           "out",
           0.968944099378882,
           305,
           751
          ],
          [
           false,
           true,
           null,
           3,
           "out",
           0,
           "NA",
           752
          ],
          [
           false,
           true,
           null,
           3,
           "out",
           0,
           "NA",
           753
          ],
          [
           false,
           true,
           null,
           3,
           "out",
           0,
           "NA",
           754
          ],
          [
           false,
           true,
           null,
           3,
           "out",
           0,
           "NA",
           755
          ],
          [
           false,
           true,
           null,
           3,
           "out",
           0,
           "NA",
           756
          ],
          [
           false,
           true,
           null,
           3,
           "out",
           0,
           "NA",
           757
          ],
          [
           false,
           true,
           null,
           3,
           "out",
           0,
           "NA",
           758
          ],
          [
           false,
           true,
           null,
           3,
           "out",
           0,
           "NA",
           759
          ],
          [
           false,
           true,
           null,
           3,
           "out",
           0,
           "NA",
           760
          ],
          [
           false,
           true,
           null,
           3,
           "out",
           0,
           "NA",
           761
          ],
          [
           true,
           false,
           null,
           3,
           "out",
           0.8654970760233918,
           306,
           762
          ],
          [
           false,
           true,
           null,
           3,
           "out",
           0,
           "NA",
           763
          ],
          [
           true,
           false,
           null,
           3,
           "out",
           0.9752066115702479,
           307,
           764
          ]
         ],
         "hovertemplate": "iou=%{marker.color:.4f}<br>indexGT=%{customdata[6]}<br>indexOut=%{customdata[7]}<extra></extra>",
         "legendgroup": "out",
         "marker": {
          "color": [
           0.952054794520548,
           0,
           0.43410852713178294,
           0.9673202614379085,
           0,
           0.5576923076923077,
           0.91324200913242,
           0,
           0,
           0,
           0,
           0.8962655601659751,
           0,
           0.9470899470899471,
           0,
           0,
           0.7976190476190477,
           0,
           0,
           0.8270676691729323,
           0.9333333333333333,
           0.6578947368421053,
           0.5192878338278932,
           0.4343065693430657,
           0.8009259259259259,
           0,
           0,
           0,
           0.9080459770114943,
           0.8369565217391305,
           0.9891891891891892,
           0,
           0,
           0,
           0.9325842696629213,
           0.9700598802395209,
           0.9842105263157894,
           0.8775510204081632,
           0,
           0,
           0,
           0,
           0.9325842696629213,
           0,
           0,
           0,
           0.7834394904458599,
           0.8219895287958116,
           0,
           0,
           0,
           0,
           0,
           0,
           0.9308510638297872,
           0.890625,
           0.6355555555555555,
           0,
           0,
           0.8588957055214724,
           0,
           0,
           0,
           0,
           0.8241206030150754,
           0.810126582278481,
           0,
           0,
           0,
           0.8829787234042553,
           0.8763440860215054,
           0.7407407407407407,
           0,
           0,
           0,
           0.8378378378378378,
           0,
           0,
           0,
           0.6434108527131783,
           0,
           0,
           0,
           0,
           0.7563451776649747,
           0,
           0.9020618556701031,
           0.850828729281768,
           0,
           0,
           0,
           0,
           0.7515923566878981,
           0.6619718309859155,
           0.4972067039106145,
           0,
           0.7732558139534884,
           0,
           0,
           0,
           0,
           0,
           0.8342857142857143,
           0,
           0,
           0.8512820512820513,
           0,
           0.7873563218390804,
           0,
           0,
           0.7960199004975125,
           0,
           0.9126984126984127,
           0.8108108108108109,
           0.8540540540540541,
           0.6827956989247311,
           0.8910256410256411,
           0.8046875,
           1,
           0,
           0.9411764705882353,
           0.9662162162162162,
           0,
           0.9647887323943662,
           0,
           0,
           0.7875,
           0.9506172839506173,
           0,
           0.864406779661017,
           0.9777777777777777,
           0.9818181818181818,
           0,
           0,
           0,
           0.8251121076233184,
           0,
           0.976878612716763,
           0.5950413223140496,
           0,
           0.7085427135678392,
           0.6898148148148148,
           0,
           0,
           0.9497206703910615,
           0,
           0,
           0,
           0,
           0,
           0.782258064516129,
           0.9488636363636364,
           0,
           0.9738562091503268,
           0.7357142857142858,
           0,
           0.5707547169811321,
           0.9300699300699301,
           0.986013986013986,
           0,
           0,
           0.9593908629441624,
           0.7477064220183486,
           0,
           0,
           0,
           0,
           0.8623481781376519,
           0,
           0.7450980392156863,
           0.9209039548022598,
           0.838150289017341,
           0.8557213930348259,
           0,
           0.9908675799086758,
           0,
           0.8679245283018868,
           0,
           0,
           0,
           0,
           0.946524064171123,
           0,
           0,
           0,
           0.9467455621301775,
           0.7562189054726368,
           0,
           0.896969696969697,
           0.9938271604938271,
           0,
           0,
           0.7584269662921348,
           0,
           0,
           0,
           0,
           0.9923664122137404,
           0,
           0,
           0.8586387434554974,
           0,
           0.9116022099447514,
           0,
           0.9771428571428571,
           0,
           0,
           0,
           0,
           0.8411764705882353,
           0.9482758620689655,
           0.6496815286624203,
           0.7951807228915663,
           0,
           0,
           0,
           0,
           0.8507462686567164,
           0.7,
           0,
           0,
           0.9210526315789473,
           0,
           0,
           0,
           0,
           0,
           0.9239130434782609,
           0,
           0,
           0.9452054794520548,
           0,
           0,
           0,
           0.9183673469387755,
           0,
           0.9933993399339934,
           0,
           0.6005665722379604,
           0.9705882352941176,
           0.9722222222222222,
           0,
           0.9859154929577465,
           0,
           0,
           0,
           0.7112299465240641,
           0.7485714285714286,
           0,
           0,
           0,
           0.7142857142857143,
           0,
           0.9711538461538461,
           0,
           0.7426900584795322,
           0,
           0,
           0.979381443298969,
           0,
           0.9075144508670521,
           0.8382352941176471,
           0.76,
           0,
           0,
           0,
           0.8493975903614458,
           0.8904109589041096,
           0.988950276243094,
           0.9134615384615384,
           0,
           0.8802395209580839,
           0.8827586206896552,
           0.9210526315789473,
           0.8214285714285714,
           0.9234449760765551,
           0.9838709677419355,
           0,
           0,
           0,
           0,
           0.8717948717948718,
           0,
           0,
           0.879245283018868,
           0.7727272727272727,
           0,
           0.9193548387096774,
           0.8455882352941176,
           0,
           0.9442508710801394,
           0,
           0,
           0,
           0,
           0,
           0.9166666666666666,
           0,
           0,
           0,
           0,
           0,
           0.9248554913294798,
           0,
           0.9940828402366864,
           0,
           0.8192090395480226,
           0,
           0,
           0,
           0,
           0.35051546391752575,
           0.9166666666666666,
           0.849624060150376,
           0.8671328671328671,
           0,
           0,
           0,
           0,
           0.4716312056737589,
           1,
           0,
           0,
           0.9704142011834319,
           0.6604938271604939,
           0,
           0.9622641509433962,
           0,
           0.9467455621301775,
           0,
           0,
           0,
           0,
           0,
           0,
           0.6758241758241759,
           0.8918918918918919,
           0,
           0.8894736842105263,
           0,
           0.7184873949579832,
           0.8539325842696629,
           0,
           0,
           0.8241758241758241,
           0,
           0,
           0.8855721393034826,
           0.9490445859872612,
           0,
           0,
           0,
           0.9386503067484663,
           0,
           1,
           0,
           0,
           0,
           0,
           0,
           0.7204301075268817,
           0,
           0,
           0,
           0.9867549668874173,
           0.9808917197452229,
           0.8909090909090909,
           0.9888888888888889,
           0.7947019867549668,
           0,
           0.8272251308900523,
           0,
           0.9787234042553191,
           0.9705882352941176,
           0.7467248908296943,
           0,
           0.8387096774193549,
           0.8978102189781022,
           0.984375,
           0.9323308270676691,
           0,
           0,
           0,
           0,
           0.7702127659574468,
           0.6548223350253807,
           0,
           0,
           0,
           0,
           0,
           0,
           1,
           0,
           0.9707602339181286,
           0.7657142857142857,
           0.903448275862069,
           0,
           0.9586776859504132,
           0.9842105263157894,
           0,
           0,
           0.7132867132867133,
           0.9468599033816425,
           0,
           0,
           0,
           0,
           0.8453038674033149,
           0.9834710743801653,
           0.9666666666666667,
           0.8529411764705882,
           1,
           0.9050632911392406,
           0,
           0,
           0,
           0,
           0.9855769230769231,
           0.8810810810810811,
           0,
           0.8564593301435407,
           0,
           0,
           0.9661016949152542,
           0,
           0,
           0.8802395209580839,
           0,
           0.8722222222222222,
           0.641860465116279,
           0,
           0,
           0.7953488372093023,
           0,
           0.9742268041237113,
           0,
           0,
           0,
           0,
           0.9085365853658537,
           0,
           0,
           0.9743589743589743,
           0.9605263157894737,
           0,
           0.9109947643979057,
           0,
           0,
           0.865979381443299,
           0.8767772511848341,
           0.9644970414201184,
           0,
           0,
           0.7900552486187845,
           0.8816568047337278,
           0,
           0,
           0.9863945578231292,
           0,
           0,
           0.935064935064935,
           0.9849056603773585,
           1,
           0,
           0,
           0,
           0.9611111111111111,
           0,
           0.8277511961722488,
           0,
           0,
           0,
           0,
           0,
           0,
           0,
           0,
           0.8373493975903614,
           0.8379629629629629,
           1,
           0,
           0,
           0.8252427184466019,
           0,
           0,
           0,
           0,
           0.6588785046728972,
           0.850828729281768,
           0.94375,
           0,
           0,
           0.9371428571428572,
           0.9543568464730291,
           0,
           0,
           0,
           0,
           0.9047619047619048,
           0,
           0.8455882352941176,
           0,
           0,
           0.9883040935672515,
           0,
           0.7593360995850622,
           0,
           0.25301204819277107,
           0,
           0,
           0.8415841584158416,
           0,
           0,
           0,
           0,
           0.9391891891891891,
           0.9207317073170732,
           0,
           0,
           0,
           0.9573170731707317,
           0,
           0,
           0,
           0,
           0.9459459459459459,
           0,
           0,
           0,
           0,
           0.9052631578947369,
           0,
           0,
           0,
           0.8693181818181818,
           0,
           0,
           0,
           0,
           0,
           0,
           0,
           0,
           0,
           0.7614678899082569,
           0.7904191616766467,
           0.7404255319148936,
           0,
           0.7764705882352941,
           0.8431372549019608,
           0,
           0,
           0.7861271676300579,
           0,
           0,
           0,
           0,
           0.9372549019607843,
           0.9057591623036649,
           0.8730964467005076,
           0,
           0,
           0,
           0,
           0.8394495412844036,
           0,
           0.9696969696969697,
           0.9025641025641026,
           0.9425287356321839,
           0.9203539823008849,
           0.9597701149425287,
           0,
           0.9330143540669856,
           0,
           0.9937888198757764,
           0.7848837209302325,
           0,
           0,
           0,
           0,
           0.8789473684210526,
           0,
           0,
           0.9576719576719577,
           0.8837209302325582,
           0.9622641509433962,
           0.8093023255813954,
           0,
           0.9830508474576272,
           0.9351351351351351,
           0.7017543859649122,
           0.9523809523809523,
           0,
           0.9840425531914894,
           0.7854077253218884,
           0,
           0,
           0,
           0.7799043062200957,
           0,
           0,
           0.8082191780821918,
           0,
           0,
           0,
           0,
           0.7857142857142857,
           0,
           0,
           0,
           0,
           0,
           0,
           0,
           0.9578313253012049,
           0,
           0.9879032258064516,
           0.9086538461538461,
           0,
           0,
           0,
           0.8497409326424871,
           0,
           0,
           0.616580310880829,
           0.9272727272727272,
           0.7523364485981309,
           0,
           0,
           0,
           0,
           0.9779005524861878,
           0.9080459770114943,
           0,
           0.577639751552795,
           0,
           0.8018867924528302,
           0,
           0,
           0,
           0.9880952380952381,
           0.8378378378378378,
           0,
           0,
           0,
           0.9315789473684211,
           0,
           0,
           0,
           0,
           0,
           0,
           0,
           0,
           0,
           0.9222797927461139,
           0,
           0,
           0,
           0,
           0.9470899470899471,
           0,
           0,
           0.9419354838709677,
           0,
           0.9047619047619048,
           0.9512195121951219,
           0.8362573099415205,
           0,
           0,
           0,
           0,
           0,
           0.9325842696629213,
           0.89375,
           0,
           0,
           0,
           0,
           0,
           0.9085365853658537,
           0.9148936170212766,
           0.988950276243094,
           0,
           0.9547738693467337,
           0.8615384615384616,
           0,
           0,
           0.56,
           0,
           0,
           0,
           0,
           0,
           0,
           0,
           0,
           0,
           0,
           0,
           0,
           0,
           0,
           0,
           0.7239583333333334,
           0.9081081081081082,
           0.8834355828220859,
           0.9831460674157303,
           0,
           0,
           0,
           0,
           0,
           0,
           0,
           0,
           0,
           0,
           0,
           0,
           0,
           0,
           0,
           0,
           0,
           0,
           0.7543859649122807,
           0.850828729281768,
           0,
           0,
           0,
           0,
           0.888268156424581,
           0.963855421686747,
           0,
           0,
           0,
           0,
           0,
           0,
           0,
           0,
           0,
           0,
           0.9352941176470588,
           0,
           0,
           0,
           0,
           0.8896551724137931,
           0.968944099378882,
           0,
           0,
           0,
           0,
           0,
           0,
           0,
           0,
           0,
           0,
           0.8654970760233918,
           0,
           0.9752066115702479
          ],
          "coloraxis": "coloraxis",
          "line": {
           "width": 2
          },
          "opacity": 0.8,
          "size": [
           3,
           3,
           3,
           3,
           3,
           3,
           3,
           3,
           3,
           3,
           3,
           3,
           3,
           3,
           3,
           3,
           3,
           3,
           3,
           3,
           3,
           3,
           3,
           3,
           3,
           3,
           3,
           3,
           3,
           3,
           3,
           3,
           3,
           3,
           3,
           3,
           3,
           3,
           3,
           3,
           3,
           3,
           3,
           3,
           3,
           3,
           3,
           3,
           3,
           3,
           3,
           3,
           3,
           3,
           3,
           3,
           3,
           3,
           3,
           3,
           3,
           3,
           3,
           3,
           3,
           3,
           3,
           3,
           3,
           3,
           3,
           3,
           3,
           3,
           3,
           3,
           3,
           3,
           3,
           3,
           3,
           3,
           3,
           3,
           3,
           3,
           3,
           3,
           3,
           3,
           3,
           3,
           3,
           3,
           3,
           3,
           3,
           3,
           3,
           3,
           3,
           3,
           3,
           3,
           3,
           3,
           3,
           3,
           3,
           3,
           3,
           3,
           3,
           3,
           3,
           3,
           3,
           3,
           3,
           3,
           3,
           3,
           3,
           3,
           3,
           3,
           3,
           3,
           3,
           3,
           3,
           3,
           3,
           3,
           3,
           3,
           3,
           3,
           3,
           3,
           3,
           3,
           3,
           3,
           3,
           3,
           3,
           3,
           3,
           3,
           3,
           3,
           3,
           3,
           3,
           3,
           3,
           3,
           3,
           3,
           3,
           3,
           3,
           3,
           3,
           3,
           3,
           3,
           3,
           3,
           3,
           3,
           3,
           3,
           3,
           3,
           3,
           3,
           3,
           3,
           3,
           3,
           3,
           3,
           3,
           3,
           3,
           3,
           3,
           3,
           3,
           3,
           3,
           3,
           3,
           3,
           3,
           3,
           3,
           3,
           3,
           3,
           3,
           3,
           3,
           3,
           3,
           3,
           3,
           3,
           3,
           3,
           3,
           3,
           3,
           3,
           3,
           3,
           3,
           3,
           3,
           3,
           3,
           3,
           3,
           3,
           3,
           3,
           3,
           3,
           3,
           3,
           3,
           3,
           3,
           3,
           3,
           3,
           3,
           3,
           3,
           3,
           3,
           3,
           3,
           3,
           3,
           3,
           3,
           3,
           3,
           3,
           3,
           3,
           3,
           3,
           3,
           3,
           3,
           3,
           3,
           3,
           3,
           3,
           3,
           3,
           3,
           3,
           3,
           3,
           3,
           3,
           3,
           3,
           3,
           3,
           3,
           3,
           3,
           3,
           3,
           3,
           3,
           3,
           3,
           3,
           3,
           3,
           3,
           3,
           3,
           3,
           3,
           3,
           3,
           3,
           3,
           3,
           3,
           3,
           3,
           3,
           3,
           3,
           3,
           3,
           3,
           3,
           3,
           3,
           3,
           3,
           3,
           3,
           3,
           3,
           3,
           3,
           3,
           3,
           3,
           3,
           3,
           3,
           3,
           3,
           3,
           3,
           3,
           3,
           3,
           3,
           3,
           3,
           3,
           3,
           3,
           3,
           3,
           3,
           3,
           3,
           3,
           3,
           3,
           3,
           3,
           3,
           3,
           3,
           3,
           3,
           3,
           3,
           3,
           3,
           3,
           3,
           3,
           3,
           3,
           3,
           3,
           3,
           3,
           3,
           3,
           3,
           3,
           3,
           3,
           3,
           3,
           3,
           3,
           3,
           3,
           3,
           3,
           3,
           3,
           3,
           3,
           3,
           3,
           3,
           3,
           3,
           3,
           3,
           3,
           3,
           3,
           3,
           3,
           3,
           3,
           3,
           3,
           3,
           3,
           3,
           3,
           3,
           3,
           3,
           3,
           3,
           3,
           3,
           3,
           3,
           3,
           3,
           3,
           3,
           3,
           3,
           3,
           3,
           3,
           3,
           3,
           3,
           3,
           3,
           3,
           3,
           3,
           3,
           3,
           3,
           3,
           3,
           3,
           3,
           3,
           3,
           3,
           3,
           3,
           3,
           3,
           3,
           3,
           3,
           3,
           3,
           3,
           3,
           3,
           3,
           3,
           3,
           3,
           3,
           3,
           3,
           3,
           3,
           3,
           3,
           3,
           3,
           3,
           3,
           3,
           3,
           3,
           3,
           3,
           3,
           3,
           3,
           3,
           3,
           3,
           3,
           3,
           3,
           3,
           3,
           3,
           3,
           3,
           3,
           3,
           3,
           3,
           3,
           3,
           3,
           3,
           3,
           3,
           3,
           3,
           3,
           3,
           3,
           3,
           3,
           3,
           3,
           3,
           3,
           3,
           3,
           3,
           3,
           3,
           3,
           3,
           3,
           3,
           3,
           3,
           3,
           3,
           3,
           3,
           3,
           3,
           3,
           3,
           3,
           3,
           3,
           3,
           3,
           3,
           3,
           3,
           3,
           3,
           3,
           3,
           3,
           3,
           3,
           3,
           3,
           3,
           3,
           3,
           3,
           3,
           3,
           3,
           3,
           3,
           3,
           3,
           3,
           3,
           3,
           3,
           3,
           3,
           3,
           3,
           3,
           3,
           3,
           3,
           3,
           3,
           3,
           3,
           3,
           3,
           3,
           3,
           3,
           3,
           3,
           3,
           3,
           3,
           3,
           3,
           3,
           3,
           3,
           3,
           3,
           3,
           3,
           3,
           3,
           3,
           3,
           3,
           3,
           3,
           3,
           3,
           3,
           3,
           3,
           3,
           3,
           3,
           3,
           3,
           3,
           3,
           3,
           3,
           3,
           3,
           3,
           3,
           3,
           3,
           3,
           3,
           3,
           3,
           3,
           3,
           3,
           3,
           3,
           3,
           3,
           3,
           3,
           3,
           3,
           3,
           3,
           3,
           3,
           3,
           3,
           3,
           3,
           3,
           3,
           3,
           3,
           3,
           3,
           3,
           3,
           3,
           3,
           3,
           3,
           3,
           3,
           3,
           3,
           3,
           3,
           3,
           3,
           3,
           3,
           3,
           3,
           3,
           3,
           3,
           3,
           3,
           3,
           3,
           3,
           3,
           3,
           3,
           3,
           3,
           3,
           3,
           3,
           3,
           3,
           3,
           3,
           3,
           3,
           3,
           3,
           3,
           3,
           3,
           3,
           3,
           3,
           3,
           3,
           3,
           3,
           3,
           3,
           3,
           3,
           3,
           3,
           3,
           3,
           3,
           3,
           3,
           3,
           3,
           3,
           3,
           3,
           3,
           3,
           3,
           3,
           3,
           3,
           3,
           3,
           3,
           3,
           3,
           3,
           3,
           3,
           3,
           3,
           3,
           3,
           3,
           3,
           3,
           3,
           3,
           3,
           3,
           3,
           3,
           3,
           3,
           3,
           3,
           3,
           3,
           3,
           3,
           3,
           3,
           3,
           3,
           3,
           3,
           3,
           3,
           3,
           3,
           3,
           3,
           3,
           3,
           3,
           3,
           3,
           3
          ],
          "sizemode": "area",
          "sizeref": 0.0075,
          "symbol": "circle-open"
         },
         "mode": "markers",
         "name": "out",
         "showlegend": true,
         "type": "scattergl",
         "x": [
          0,
          -10,
          1,
          2,
          -10,
          3,
          4,
          -10,
          -10,
          -10,
          -10,
          5,
          -10,
          6,
          -10,
          -10,
          7,
          -10,
          -10,
          8,
          9,
          10,
          11,
          12,
          13,
          -10,
          -10,
          -10,
          14,
          15,
          16,
          -10,
          -10,
          -10,
          17,
          18,
          19,
          20,
          -10,
          -10,
          -10,
          -10,
          21,
          -10,
          -10,
          -10,
          22,
          23,
          -10,
          -10,
          -10,
          -10,
          -10,
          -10,
          24,
          25,
          26,
          -10,
          -10,
          27,
          -10,
          -10,
          -10,
          -10,
          28,
          29,
          -10,
          -10,
          -10,
          30,
          31,
          32,
          -10,
          -10,
          -10,
          33,
          -10,
          -10,
          -10,
          34,
          -10,
          -10,
          -10,
          -10,
          35,
          -10,
          36,
          37,
          -10,
          -10,
          -10,
          -10,
          38,
          39,
          40,
          -10,
          41,
          -10,
          -10,
          -10,
          -10,
          -10,
          42,
          -10,
          -10,
          43,
          -10,
          44,
          -10,
          -10,
          45,
          -10,
          46,
          47,
          48,
          49,
          50,
          51,
          52,
          -10,
          53,
          54,
          -10,
          55,
          -10,
          -10,
          56,
          57,
          -10,
          58,
          59,
          61,
          -10,
          -10,
          -10,
          63,
          -10,
          64,
          65,
          -10,
          66,
          67,
          -10,
          -10,
          68,
          -10,
          -10,
          -10,
          -10,
          -10,
          69,
          70,
          -10,
          71,
          72,
          -10,
          73,
          74,
          75,
          -10,
          -10,
          76,
          77,
          -10,
          -10,
          -10,
          -10,
          78,
          -10,
          79,
          80,
          81,
          82,
          -10,
          83,
          -10,
          84,
          -10,
          -10,
          -10,
          -10,
          85,
          -10,
          -10,
          -10,
          86,
          87,
          -10,
          88,
          89,
          -10,
          -10,
          90,
          -10,
          -10,
          -10,
          -10,
          91,
          -10,
          -10,
          92,
          -10,
          93,
          -10,
          94,
          -10,
          -10,
          -10,
          -10,
          95,
          96,
          97,
          98,
          -10,
          -10,
          -10,
          -10,
          99,
          100,
          -10,
          -10,
          101,
          -10,
          -10,
          -10,
          -10,
          -10,
          102,
          -10,
          -10,
          103,
          -10,
          -10,
          -10,
          104,
          -10,
          105,
          -10,
          106,
          107,
          108,
          -10,
          109,
          -10,
          -10,
          -10,
          110,
          111,
          -10,
          -10,
          -10,
          112,
          -10,
          113,
          -10,
          114,
          -10,
          -10,
          115,
          -10,
          116,
          117,
          118,
          -10,
          -10,
          -10,
          119,
          120,
          121,
          122,
          -10,
          123,
          124,
          125,
          126,
          127,
          128,
          -10,
          -10,
          -10,
          -10,
          129,
          -10,
          -10,
          130,
          131,
          -10,
          132,
          133,
          -10,
          134,
          -10,
          -10,
          -10,
          -10,
          -10,
          135,
          -10,
          -10,
          -10,
          -10,
          -10,
          136,
          -10,
          137,
          -10,
          138,
          -10,
          -10,
          -10,
          -10,
          139,
          140,
          141,
          142,
          -10,
          -10,
          -10,
          -10,
          143,
          144,
          -10,
          -10,
          145,
          146,
          -10,
          147,
          -10,
          148,
          -10,
          -10,
          -10,
          -10,
          -10,
          -10,
          149,
          150,
          -10,
          151,
          -10,
          152,
          153,
          -10,
          -10,
          154,
          -10,
          -10,
          155,
          156,
          -10,
          -10,
          -10,
          157,
          -10,
          158,
          -10,
          -10,
          -10,
          -10,
          -10,
          159,
          -10,
          -10,
          -10,
          160,
          161,
          162,
          163,
          164,
          -10,
          165,
          -10,
          166,
          167,
          168,
          -10,
          169,
          170,
          171,
          172,
          -10,
          -10,
          -10,
          -10,
          173,
          174,
          -10,
          -10,
          -10,
          -10,
          -10,
          -10,
          175,
          -10,
          176,
          177,
          178,
          -10,
          179,
          180,
          -10,
          -10,
          181,
          182,
          -10,
          -10,
          -10,
          -10,
          183,
          184,
          185,
          186,
          187,
          188,
          -10,
          -10,
          -10,
          -10,
          189,
          190,
          -10,
          191,
          -10,
          -10,
          192,
          -10,
          -10,
          193,
          -10,
          194,
          195,
          -10,
          -10,
          196,
          -10,
          197,
          -10,
          -10,
          -10,
          -10,
          198,
          -10,
          -10,
          199,
          200,
          -10,
          201,
          -10,
          -10,
          202,
          203,
          204,
          -10,
          -10,
          205,
          206,
          -10,
          -10,
          207,
          -10,
          -10,
          208,
          209,
          210,
          -10,
          -10,
          -10,
          211,
          -10,
          212,
          -10,
          -10,
          -10,
          -10,
          -10,
          -10,
          -10,
          -10,
          213,
          214,
          215,
          -10,
          -10,
          216,
          -10,
          -10,
          -10,
          -10,
          217,
          218,
          219,
          -10,
          -10,
          220,
          221,
          -10,
          -10,
          -10,
          -10,
          222,
          -10,
          223,
          -10,
          -10,
          224,
          -10,
          225,
          -10,
          226,
          -10,
          -10,
          227,
          -10,
          -10,
          -10,
          -10,
          228,
          229,
          -10,
          -10,
          -10,
          230,
          -10,
          -10,
          -10,
          -10,
          231,
          -10,
          -10,
          -10,
          -10,
          232,
          -10,
          -10,
          -10,
          233,
          -10,
          -10,
          -10,
          -10,
          -10,
          -10,
          -10,
          -10,
          -10,
          234,
          235,
          237,
          -10,
          238,
          239,
          -10,
          -10,
          240,
          -10,
          -10,
          -10,
          -10,
          241,
          242,
          243,
          -10,
          -10,
          -10,
          -10,
          244,
          -10,
          245,
          246,
          247,
          248,
          249,
          -10,
          250,
          -10,
          251,
          252,
          -10,
          -10,
          -10,
          -10,
          253,
          -10,
          -10,
          254,
          255,
          256,
          257,
          -10,
          258,
          259,
          260,
          261,
          -10,
          262,
          263,
          -10,
          -10,
          -10,
          264,
          -10,
          -10,
          265,
          -10,
          -10,
          -10,
          -10,
          266,
          -10,
          -10,
          -10,
          -10,
          -10,
          -10,
          -10,
          267,
          -10,
          268,
          269,
          -10,
          -10,
          -10,
          270,
          -10,
          -10,
          271,
          272,
          273,
          -10,
          -10,
          -10,
          -10,
          274,
          275,
          -10,
          276,
          -10,
          277,
          -10,
          -10,
          -10,
          278,
          279,
          -10,
          -10,
          -10,
          280,
          -10,
          -10,
          -10,
          -10,
          -10,
          -10,
          -10,
          -10,
          -10,
          281,
          -10,
          -10,
          -10,
          -10,
          282,
          -10,
          -10,
          283,
          -10,
          284,
          285,
          286,
          -10,
          -10,
          -10,
          -10,
          -10,
          287,
          288,
          -10,
          -10,
          -10,
          -10,
          -10,
          289,
          290,
          291,
          -10,
          292,
          293,
          -10,
          -10,
          294,
          -10,
          -10,
          -10,
          -10,
          -10,
          -10,
          -10,
          -10,
          -10,
          -10,
          -10,
          -10,
          -10,
          -10,
          -10,
          295,
          296,
          297,
          298,
          -10,
          -10,
          -10,
          -10,
          -10,
          -10,
          -10,
          -10,
          -10,
          -10,
          -10,
          -10,
          -10,
          -10,
          -10,
          -10,
          -10,
          -10,
          299,
          300,
          -10,
          -10,
          -10,
          -10,
          301,
          302,
          -10,
          -10,
          -10,
          -10,
          -10,
          -10,
          -10,
          -10,
          -10,
          -10,
          303,
          -10,
          -10,
          -10,
          -10,
          304,
          305,
          -10,
          -10,
          -10,
          -10,
          -10,
          -10,
          -10,
          -10,
          -10,
          -10,
          306,
          -10,
          307
         ],
         "xaxis": "x",
         "y": [
          0,
          1,
          2,
          3,
          4,
          5,
          6,
          7,
          8,
          9,
          10,
          11,
          12,
          13,
          14,
          15,
          16,
          17,
          18,
          19,
          20,
          21,
          22,
          23,
          24,
          25,
          26,
          27,
          28,
          29,
          30,
          31,
          32,
          33,
          34,
          35,
          36,
          37,
          38,
          39,
          40,
          41,
          42,
          43,
          44,
          45,
          46,
          47,
          48,
          49,
          50,
          51,
          52,
          53,
          54,
          55,
          56,
          57,
          58,
          59,
          60,
          61,
          62,
          63,
          64,
          65,
          66,
          67,
          68,
          69,
          70,
          71,
          72,
          73,
          74,
          75,
          76,
          77,
          78,
          79,
          80,
          81,
          82,
          83,
          84,
          85,
          86,
          87,
          88,
          89,
          90,
          91,
          92,
          93,
          94,
          95,
          96,
          97,
          98,
          99,
          100,
          101,
          102,
          103,
          104,
          105,
          106,
          107,
          108,
          109,
          110,
          111,
          112,
          113,
          114,
          115,
          116,
          117,
          118,
          119,
          120,
          121,
          122,
          123,
          124,
          125,
          126,
          127,
          128,
          129,
          130,
          131,
          132,
          133,
          134,
          135,
          136,
          137,
          138,
          139,
          140,
          141,
          142,
          143,
          144,
          145,
          146,
          147,
          148,
          149,
          150,
          151,
          152,
          153,
          154,
          155,
          156,
          157,
          158,
          159,
          160,
          161,
          162,
          163,
          164,
          165,
          166,
          167,
          168,
          169,
          170,
          171,
          172,
          173,
          174,
          175,
          176,
          177,
          178,
          179,
          180,
          181,
          182,
          183,
          184,
          185,
          186,
          187,
          188,
          189,
          190,
          191,
          192,
          193,
          194,
          195,
          196,
          197,
          198,
          199,
          200,
          201,
          202,
          203,
          204,
          205,
          206,
          207,
          208,
          209,
          210,
          211,
          212,
          213,
          214,
          215,
          216,
          217,
          218,
          219,
          220,
          221,
          222,
          223,
          224,
          225,
          226,
          227,
          228,
          229,
          230,
          231,
          232,
          233,
          234,
          235,
          236,
          237,
          238,
          239,
          240,
          241,
          242,
          243,
          244,
          245,
          246,
          247,
          248,
          249,
          250,
          251,
          252,
          253,
          254,
          255,
          256,
          257,
          258,
          259,
          260,
          261,
          262,
          263,
          264,
          265,
          266,
          267,
          268,
          269,
          270,
          271,
          272,
          273,
          274,
          275,
          276,
          277,
          278,
          279,
          280,
          281,
          282,
          283,
          284,
          285,
          286,
          287,
          288,
          289,
          290,
          291,
          292,
          293,
          294,
          295,
          296,
          297,
          298,
          299,
          300,
          301,
          302,
          303,
          304,
          305,
          306,
          307,
          308,
          309,
          310,
          311,
          312,
          313,
          314,
          315,
          316,
          317,
          318,
          319,
          320,
          321,
          322,
          323,
          324,
          325,
          326,
          327,
          328,
          329,
          330,
          331,
          332,
          333,
          334,
          335,
          336,
          337,
          338,
          339,
          340,
          341,
          342,
          343,
          344,
          345,
          346,
          347,
          348,
          349,
          350,
          351,
          352,
          353,
          354,
          355,
          356,
          357,
          358,
          359,
          360,
          361,
          362,
          363,
          364,
          365,
          366,
          367,
          368,
          369,
          370,
          371,
          372,
          373,
          374,
          375,
          376,
          377,
          378,
          379,
          380,
          381,
          382,
          383,
          384,
          385,
          386,
          387,
          388,
          389,
          390,
          391,
          392,
          393,
          394,
          395,
          396,
          397,
          398,
          399,
          400,
          401,
          402,
          403,
          404,
          405,
          406,
          407,
          408,
          409,
          410,
          411,
          412,
          413,
          414,
          415,
          416,
          417,
          418,
          419,
          420,
          421,
          422,
          423,
          424,
          425,
          426,
          427,
          428,
          429,
          430,
          431,
          432,
          433,
          434,
          435,
          436,
          437,
          438,
          439,
          440,
          441,
          442,
          443,
          444,
          445,
          446,
          447,
          448,
          449,
          450,
          451,
          452,
          453,
          454,
          455,
          456,
          457,
          458,
          459,
          460,
          461,
          462,
          463,
          464,
          465,
          466,
          467,
          468,
          469,
          470,
          471,
          472,
          473,
          474,
          475,
          476,
          477,
          478,
          479,
          480,
          481,
          482,
          483,
          484,
          485,
          486,
          487,
          488,
          489,
          490,
          491,
          492,
          493,
          494,
          495,
          496,
          497,
          498,
          499,
          500,
          501,
          502,
          503,
          504,
          505,
          506,
          507,
          508,
          509,
          510,
          511,
          512,
          513,
          514,
          515,
          516,
          517,
          518,
          519,
          520,
          521,
          522,
          523,
          524,
          525,
          526,
          527,
          528,
          529,
          530,
          531,
          532,
          533,
          534,
          535,
          536,
          537,
          538,
          539,
          540,
          541,
          542,
          543,
          544,
          545,
          546,
          547,
          548,
          549,
          550,
          551,
          552,
          553,
          554,
          555,
          556,
          557,
          558,
          559,
          560,
          561,
          562,
          563,
          564,
          565,
          566,
          567,
          568,
          569,
          570,
          571,
          572,
          573,
          574,
          575,
          576,
          577,
          578,
          579,
          580,
          581,
          582,
          583,
          584,
          585,
          586,
          587,
          588,
          589,
          590,
          591,
          592,
          593,
          594,
          595,
          596,
          597,
          598,
          599,
          600,
          601,
          602,
          603,
          604,
          605,
          606,
          607,
          608,
          609,
          610,
          611,
          612,
          613,
          614,
          615,
          616,
          617,
          618,
          619,
          620,
          621,
          622,
          623,
          624,
          625,
          626,
          627,
          628,
          629,
          630,
          631,
          632,
          633,
          634,
          635,
          636,
          637,
          638,
          639,
          640,
          641,
          642,
          643,
          644,
          645,
          646,
          647,
          648,
          649,
          650,
          651,
          652,
          653,
          654,
          655,
          656,
          657,
          658,
          659,
          660,
          661,
          662,
          663,
          664,
          665,
          666,
          667,
          668,
          669,
          670,
          671,
          672,
          673,
          674,
          675,
          676,
          677,
          678,
          679,
          680,
          681,
          682,
          683,
          684,
          685,
          686,
          687,
          688,
          689,
          690,
          691,
          692,
          693,
          694,
          695,
          696,
          697,
          698,
          699,
          700,
          701,
          702,
          703,
          704,
          705,
          706,
          707,
          708,
          709,
          710,
          711,
          712,
          713,
          714,
          715,
          716,
          717,
          718,
          719,
          720,
          721,
          722,
          723,
          724,
          725,
          726,
          727,
          728,
          729,
          730,
          731,
          732,
          733,
          734,
          735,
          736,
          737,
          738,
          739,
          740,
          741,
          742,
          743,
          744,
          745,
          746,
          747,
          748,
          749,
          750,
          751,
          752,
          753,
          754,
          755,
          756,
          757,
          758,
          759,
          760,
          761,
          762,
          763,
          764
         ],
         "yaxis": "y"
        },
        {
         "customdata": [
          [
           true,
           null,
           false,
           1,
           "gt",
           0.952054794520548,
           0,
           0
          ],
          [
           true,
           null,
           false,
           1,
           "gt",
           0.43410852713178294,
           1,
           2
          ],
          [
           true,
           null,
           false,
           1,
           "gt",
           0.9673202614379085,
           2,
           3
          ],
          [
           true,
           null,
           false,
           1,
           "gt",
           0.5576923076923077,
           3,
           5
          ],
          [
           true,
           null,
           false,
           1,
           "gt",
           0.91324200913242,
           4,
           6
          ],
          [
           true,
           null,
           false,
           1,
           "gt",
           0.8962655601659751,
           5,
           11
          ],
          [
           true,
           null,
           false,
           1,
           "gt",
           0.9470899470899471,
           6,
           13
          ],
          [
           true,
           null,
           false,
           1,
           "gt",
           0.7976190476190477,
           7,
           16
          ],
          [
           true,
           null,
           false,
           1,
           "gt",
           0.8270676691729323,
           8,
           19
          ],
          [
           true,
           null,
           false,
           1,
           "gt",
           0.9333333333333333,
           9,
           20
          ],
          [
           true,
           null,
           false,
           1,
           "gt",
           0.6578947368421053,
           10,
           21
          ],
          [
           true,
           null,
           false,
           1,
           "gt",
           0.5192878338278932,
           11,
           22
          ],
          [
           true,
           null,
           false,
           1,
           "gt",
           0.4343065693430657,
           12,
           23
          ],
          [
           true,
           null,
           false,
           1,
           "gt",
           0.8009259259259259,
           13,
           24
          ],
          [
           true,
           null,
           false,
           1,
           "gt",
           0.9080459770114943,
           14,
           28
          ],
          [
           true,
           null,
           false,
           1,
           "gt",
           0.8369565217391305,
           15,
           29
          ],
          [
           true,
           null,
           false,
           1,
           "gt",
           0.9891891891891892,
           16,
           30
          ],
          [
           true,
           null,
           false,
           1,
           "gt",
           0.9325842696629213,
           17,
           34
          ],
          [
           true,
           null,
           false,
           1,
           "gt",
           0.9700598802395209,
           18,
           35
          ],
          [
           true,
           null,
           false,
           1,
           "gt",
           0.9842105263157894,
           19,
           36
          ],
          [
           true,
           null,
           false,
           1,
           "gt",
           0.8775510204081632,
           20,
           37
          ],
          [
           true,
           null,
           false,
           1,
           "gt",
           0.9325842696629213,
           21,
           42
          ],
          [
           true,
           null,
           false,
           1,
           "gt",
           0.7834394904458599,
           22,
           46
          ],
          [
           true,
           null,
           false,
           1,
           "gt",
           0.8219895287958116,
           23,
           47
          ],
          [
           true,
           null,
           false,
           1,
           "gt",
           0.9308510638297872,
           24,
           54
          ],
          [
           true,
           null,
           false,
           1,
           "gt",
           0.890625,
           25,
           55
          ],
          [
           true,
           null,
           false,
           1,
           "gt",
           0.6355555555555555,
           26,
           56
          ],
          [
           true,
           null,
           false,
           1,
           "gt",
           0.8588957055214724,
           27,
           59
          ],
          [
           true,
           null,
           false,
           1,
           "gt",
           0.8241206030150754,
           28,
           64
          ],
          [
           true,
           null,
           false,
           1,
           "gt",
           0.810126582278481,
           29,
           65
          ],
          [
           true,
           null,
           false,
           1,
           "gt",
           0.8829787234042553,
           30,
           69
          ],
          [
           true,
           null,
           false,
           1,
           "gt",
           0.8763440860215054,
           31,
           70
          ],
          [
           true,
           null,
           false,
           1,
           "gt",
           0.7407407407407407,
           32,
           71
          ],
          [
           true,
           null,
           false,
           1,
           "gt",
           0.8378378378378378,
           33,
           75
          ],
          [
           true,
           null,
           false,
           1,
           "gt",
           0.6434108527131783,
           34,
           79
          ],
          [
           true,
           null,
           false,
           1,
           "gt",
           0.7563451776649747,
           35,
           84
          ],
          [
           true,
           null,
           false,
           1,
           "gt",
           0.9020618556701031,
           36,
           86
          ],
          [
           true,
           null,
           false,
           1,
           "gt",
           0.850828729281768,
           37,
           87
          ],
          [
           true,
           null,
           false,
           1,
           "gt",
           0.7515923566878981,
           38,
           92
          ],
          [
           true,
           null,
           false,
           1,
           "gt",
           0.6619718309859155,
           39,
           93
          ],
          [
           true,
           null,
           false,
           1,
           "gt",
           0.4972067039106145,
           40,
           94
          ],
          [
           true,
           null,
           false,
           1,
           "gt",
           0.7732558139534884,
           41,
           96
          ],
          [
           true,
           null,
           false,
           1,
           "gt",
           0.8342857142857143,
           42,
           102
          ],
          [
           true,
           null,
           false,
           1,
           "gt",
           0.8512820512820513,
           43,
           105
          ],
          [
           true,
           null,
           false,
           1,
           "gt",
           0.7873563218390804,
           44,
           107
          ],
          [
           true,
           null,
           false,
           1,
           "gt",
           0.7960199004975125,
           45,
           110
          ],
          [
           true,
           null,
           false,
           1,
           "gt",
           0.9126984126984127,
           46,
           112
          ],
          [
           true,
           null,
           false,
           1,
           "gt",
           0.8108108108108109,
           47,
           113
          ],
          [
           true,
           null,
           false,
           1,
           "gt",
           0.8540540540540541,
           48,
           114
          ],
          [
           true,
           null,
           false,
           1,
           "gt",
           0.6827956989247311,
           49,
           115
          ],
          [
           true,
           null,
           false,
           1,
           "gt",
           0.8910256410256411,
           50,
           116
          ],
          [
           true,
           null,
           false,
           1,
           "gt",
           0.8046875,
           51,
           117
          ],
          [
           true,
           null,
           false,
           1,
           "gt",
           1,
           52,
           118
          ],
          [
           true,
           null,
           false,
           1,
           "gt",
           0.9411764705882353,
           53,
           120
          ],
          [
           true,
           null,
           false,
           1,
           "gt",
           0.9662162162162162,
           54,
           121
          ],
          [
           true,
           null,
           false,
           1,
           "gt",
           0.9647887323943662,
           55,
           123
          ],
          [
           true,
           null,
           false,
           1,
           "gt",
           0.7875,
           56,
           126
          ],
          [
           true,
           null,
           false,
           1,
           "gt",
           0.9506172839506173,
           57,
           127
          ],
          [
           true,
           null,
           false,
           1,
           "gt",
           0.864406779661017,
           58,
           129
          ],
          [
           true,
           null,
           false,
           1,
           "gt",
           0.9777777777777777,
           59,
           130
          ],
          [
           false,
           null,
           true,
           1,
           "gt",
           0,
           60,
           "NA"
          ],
          [
           true,
           null,
           false,
           1,
           "gt",
           0.9818181818181818,
           61,
           131
          ],
          [
           false,
           null,
           true,
           1,
           "gt",
           0,
           62,
           "NA"
          ],
          [
           true,
           null,
           false,
           1,
           "gt",
           0.8251121076233184,
           63,
           135
          ],
          [
           true,
           null,
           false,
           1,
           "gt",
           0.976878612716763,
           64,
           137
          ],
          [
           true,
           null,
           false,
           1,
           "gt",
           0.5950413223140496,
           65,
           138
          ],
          [
           true,
           null,
           false,
           1,
           "gt",
           0.7085427135678392,
           66,
           140
          ],
          [
           true,
           null,
           false,
           1,
           "gt",
           0.6898148148148148,
           67,
           141
          ],
          [
           true,
           null,
           false,
           1,
           "gt",
           0.9497206703910615,
           68,
           144
          ],
          [
           true,
           null,
           false,
           1,
           "gt",
           0.782258064516129,
           69,
           150
          ],
          [
           true,
           null,
           false,
           1,
           "gt",
           0.9488636363636364,
           70,
           151
          ],
          [
           true,
           null,
           false,
           1,
           "gt",
           0.9738562091503268,
           71,
           153
          ],
          [
           true,
           null,
           false,
           1,
           "gt",
           0.7357142857142858,
           72,
           154
          ],
          [
           true,
           null,
           false,
           1,
           "gt",
           0.5707547169811321,
           73,
           156
          ],
          [
           true,
           null,
           false,
           1,
           "gt",
           0.9300699300699301,
           74,
           157
          ],
          [
           true,
           null,
           false,
           1,
           "gt",
           0.986013986013986,
           75,
           158
          ],
          [
           true,
           null,
           false,
           1,
           "gt",
           0.9593908629441624,
           76,
           161
          ],
          [
           true,
           null,
           false,
           1,
           "gt",
           0.7477064220183486,
           77,
           162
          ],
          [
           true,
           null,
           false,
           1,
           "gt",
           0.8623481781376519,
           78,
           167
          ],
          [
           true,
           null,
           false,
           1,
           "gt",
           0.7450980392156863,
           79,
           169
          ],
          [
           true,
           null,
           false,
           1,
           "gt",
           0.9209039548022598,
           80,
           170
          ],
          [
           true,
           null,
           false,
           1,
           "gt",
           0.838150289017341,
           81,
           171
          ],
          [
           true,
           null,
           false,
           1,
           "gt",
           0.8557213930348259,
           82,
           172
          ],
          [
           true,
           null,
           false,
           1,
           "gt",
           0.9908675799086758,
           83,
           174
          ],
          [
           true,
           null,
           false,
           1,
           "gt",
           0.8679245283018868,
           84,
           176
          ],
          [
           true,
           null,
           false,
           1,
           "gt",
           0.946524064171123,
           85,
           181
          ],
          [
           true,
           null,
           false,
           1,
           "gt",
           0.9467455621301775,
           86,
           185
          ],
          [
           true,
           null,
           false,
           1,
           "gt",
           0.7562189054726368,
           87,
           186
          ],
          [
           true,
           null,
           false,
           1,
           "gt",
           0.896969696969697,
           88,
           188
          ],
          [
           true,
           null,
           false,
           1,
           "gt",
           0.9938271604938271,
           89,
           189
          ],
          [
           true,
           null,
           false,
           1,
           "gt",
           0.7584269662921348,
           90,
           192
          ],
          [
           true,
           null,
           false,
           1,
           "gt",
           0.9923664122137404,
           91,
           197
          ],
          [
           true,
           null,
           false,
           1,
           "gt",
           0.8586387434554974,
           92,
           200
          ],
          [
           true,
           null,
           false,
           1,
           "gt",
           0.9116022099447514,
           93,
           202
          ],
          [
           true,
           null,
           false,
           1,
           "gt",
           0.9771428571428571,
           94,
           204
          ],
          [
           true,
           null,
           false,
           1,
           "gt",
           0.8411764705882353,
           95,
           209
          ],
          [
           true,
           null,
           false,
           1,
           "gt",
           0.9482758620689655,
           96,
           210
          ],
          [
           true,
           null,
           false,
           1,
           "gt",
           0.6496815286624203,
           97,
           211
          ],
          [
           true,
           null,
           false,
           1,
           "gt",
           0.7951807228915663,
           98,
           212
          ],
          [
           true,
           null,
           false,
           1,
           "gt",
           0.8507462686567164,
           99,
           217
          ],
          [
           true,
           null,
           false,
           1,
           "gt",
           0.7,
           100,
           218
          ],
          [
           true,
           null,
           false,
           1,
           "gt",
           0.9210526315789473,
           101,
           221
          ],
          [
           true,
           null,
           false,
           1,
           "gt",
           0.9239130434782609,
           102,
           227
          ],
          [
           true,
           null,
           false,
           1,
           "gt",
           0.9452054794520548,
           103,
           230
          ],
          [
           true,
           null,
           false,
           1,
           "gt",
           0.9183673469387755,
           104,
           234
          ],
          [
           true,
           null,
           false,
           1,
           "gt",
           0.9933993399339934,
           105,
           236
          ],
          [
           true,
           null,
           false,
           1,
           "gt",
           0.6005665722379604,
           106,
           238
          ],
          [
           true,
           null,
           false,
           1,
           "gt",
           0.9705882352941176,
           107,
           239
          ],
          [
           true,
           null,
           false,
           1,
           "gt",
           0.9722222222222222,
           108,
           240
          ],
          [
           true,
           null,
           false,
           1,
           "gt",
           0.9859154929577465,
           109,
           242
          ],
          [
           true,
           null,
           false,
           1,
           "gt",
           0.7112299465240641,
           110,
           246
          ],
          [
           true,
           null,
           false,
           1,
           "gt",
           0.7485714285714286,
           111,
           247
          ],
          [
           true,
           null,
           false,
           1,
           "gt",
           0.7142857142857143,
           112,
           251
          ],
          [
           true,
           null,
           false,
           1,
           "gt",
           0.9711538461538461,
           113,
           253
          ],
          [
           true,
           null,
           false,
           1,
           "gt",
           0.7426900584795322,
           114,
           255
          ],
          [
           true,
           null,
           false,
           1,
           "gt",
           0.979381443298969,
           115,
           258
          ],
          [
           true,
           null,
           false,
           1,
           "gt",
           0.9075144508670521,
           116,
           260
          ],
          [
           true,
           null,
           false,
           1,
           "gt",
           0.8382352941176471,
           117,
           261
          ],
          [
           true,
           null,
           false,
           1,
           "gt",
           0.76,
           118,
           262
          ],
          [
           true,
           null,
           false,
           1,
           "gt",
           0.8493975903614458,
           119,
           266
          ],
          [
           true,
           null,
           false,
           1,
           "gt",
           0.8904109589041096,
           120,
           267
          ],
          [
           true,
           null,
           false,
           1,
           "gt",
           0.988950276243094,
           121,
           268
          ],
          [
           true,
           null,
           false,
           1,
           "gt",
           0.9134615384615384,
           122,
           269
          ],
          [
           true,
           null,
           false,
           1,
           "gt",
           0.8802395209580839,
           123,
           271
          ],
          [
           true,
           null,
           false,
           1,
           "gt",
           0.8827586206896552,
           124,
           272
          ],
          [
           true,
           null,
           false,
           1,
           "gt",
           0.9210526315789473,
           125,
           273
          ],
          [
           true,
           null,
           false,
           1,
           "gt",
           0.8214285714285714,
           126,
           274
          ],
          [
           true,
           null,
           false,
           1,
           "gt",
           0.9234449760765551,
           127,
           275
          ],
          [
           true,
           null,
           false,
           1,
           "gt",
           0.9838709677419355,
           128,
           276
          ],
          [
           true,
           null,
           false,
           1,
           "gt",
           0.8717948717948718,
           129,
           281
          ],
          [
           true,
           null,
           false,
           1,
           "gt",
           0.879245283018868,
           130,
           284
          ],
          [
           true,
           null,
           false,
           1,
           "gt",
           0.7727272727272727,
           131,
           285
          ],
          [
           true,
           null,
           false,
           1,
           "gt",
           0.9193548387096774,
           132,
           287
          ],
          [
           true,
           null,
           false,
           1,
           "gt",
           0.8455882352941176,
           133,
           288
          ],
          [
           true,
           null,
           false,
           1,
           "gt",
           0.9442508710801394,
           134,
           290
          ],
          [
           true,
           null,
           false,
           1,
           "gt",
           0.9166666666666666,
           135,
           296
          ],
          [
           true,
           null,
           false,
           1,
           "gt",
           0.9248554913294798,
           136,
           302
          ],
          [
           true,
           null,
           false,
           1,
           "gt",
           0.9940828402366864,
           137,
           304
          ],
          [
           true,
           null,
           false,
           1,
           "gt",
           0.8192090395480226,
           138,
           306
          ],
          [
           true,
           null,
           false,
           1,
           "gt",
           0.35051546391752575,
           139,
           311
          ],
          [
           true,
           null,
           false,
           1,
           "gt",
           0.9166666666666666,
           140,
           312
          ],
          [
           true,
           null,
           false,
           1,
           "gt",
           0.849624060150376,
           141,
           313
          ],
          [
           true,
           null,
           false,
           1,
           "gt",
           0.8671328671328671,
           142,
           314
          ],
          [
           true,
           null,
           false,
           1,
           "gt",
           0.4716312056737589,
           143,
           319
          ],
          [
           true,
           null,
           false,
           1,
           "gt",
           1,
           144,
           320
          ],
          [
           true,
           null,
           false,
           1,
           "gt",
           0.9704142011834319,
           145,
           323
          ],
          [
           true,
           null,
           false,
           1,
           "gt",
           0.6604938271604939,
           146,
           324
          ],
          [
           true,
           null,
           false,
           1,
           "gt",
           0.9622641509433962,
           147,
           326
          ],
          [
           true,
           null,
           false,
           1,
           "gt",
           0.9467455621301775,
           148,
           328
          ],
          [
           true,
           null,
           false,
           1,
           "gt",
           0.6758241758241759,
           149,
           335
          ],
          [
           true,
           null,
           false,
           1,
           "gt",
           0.8918918918918919,
           150,
           336
          ],
          [
           true,
           null,
           false,
           1,
           "gt",
           0.8894736842105263,
           151,
           338
          ],
          [
           true,
           null,
           false,
           1,
           "gt",
           0.7184873949579832,
           152,
           340
          ],
          [
           true,
           null,
           false,
           1,
           "gt",
           0.8539325842696629,
           153,
           341
          ],
          [
           true,
           null,
           false,
           1,
           "gt",
           0.8241758241758241,
           154,
           344
          ],
          [
           true,
           null,
           false,
           1,
           "gt",
           0.8855721393034826,
           155,
           347
          ],
          [
           true,
           null,
           false,
           1,
           "gt",
           0.9490445859872612,
           156,
           348
          ],
          [
           true,
           null,
           false,
           1,
           "gt",
           0.9386503067484663,
           157,
           352
          ],
          [
           true,
           null,
           false,
           1,
           "gt",
           1,
           158,
           354
          ],
          [
           true,
           null,
           false,
           1,
           "gt",
           0.7204301075268817,
           159,
           360
          ],
          [
           true,
           null,
           false,
           1,
           "gt",
           0.9867549668874173,
           160,
           364
          ],
          [
           true,
           null,
           false,
           1,
           "gt",
           0.9808917197452229,
           161,
           365
          ],
          [
           true,
           null,
           false,
           1,
           "gt",
           0.8909090909090909,
           162,
           366
          ],
          [
           true,
           null,
           false,
           1,
           "gt",
           0.9888888888888889,
           163,
           367
          ],
          [
           true,
           null,
           false,
           1,
           "gt",
           0.7947019867549668,
           164,
           368
          ],
          [
           true,
           null,
           false,
           1,
           "gt",
           0.8272251308900523,
           165,
           370
          ],
          [
           true,
           null,
           false,
           1,
           "gt",
           0.9787234042553191,
           166,
           372
          ],
          [
           true,
           null,
           false,
           1,
           "gt",
           0.9705882352941176,
           167,
           373
          ],
          [
           true,
           null,
           false,
           1,
           "gt",
           0.7467248908296943,
           168,
           374
          ],
          [
           true,
           null,
           false,
           1,
           "gt",
           0.8387096774193549,
           169,
           376
          ],
          [
           true,
           null,
           false,
           1,
           "gt",
           0.8978102189781022,
           170,
           377
          ],
          [
           true,
           null,
           false,
           1,
           "gt",
           0.984375,
           171,
           378
          ],
          [
           true,
           null,
           false,
           1,
           "gt",
           0.9323308270676691,
           172,
           379
          ],
          [
           true,
           null,
           false,
           1,
           "gt",
           0.7702127659574468,
           173,
           384
          ],
          [
           true,
           null,
           false,
           1,
           "gt",
           0.6548223350253807,
           174,
           385
          ],
          [
           true,
           null,
           false,
           1,
           "gt",
           1,
           175,
           392
          ],
          [
           true,
           null,
           false,
           1,
           "gt",
           0.9707602339181286,
           176,
           394
          ],
          [
           true,
           null,
           false,
           1,
           "gt",
           0.7657142857142857,
           177,
           395
          ],
          [
           true,
           null,
           false,
           1,
           "gt",
           0.903448275862069,
           178,
           396
          ],
          [
           true,
           null,
           false,
           1,
           "gt",
           0.9586776859504132,
           179,
           398
          ],
          [
           true,
           null,
           false,
           1,
           "gt",
           0.9842105263157894,
           180,
           399
          ],
          [
           true,
           null,
           false,
           1,
           "gt",
           0.7132867132867133,
           181,
           402
          ],
          [
           true,
           null,
           false,
           1,
           "gt",
           0.9468599033816425,
           182,
           403
          ],
          [
           true,
           null,
           false,
           1,
           "gt",
           0.8453038674033149,
           183,
           408
          ],
          [
           true,
           null,
           false,
           1,
           "gt",
           0.9834710743801653,
           184,
           409
          ],
          [
           true,
           null,
           false,
           1,
           "gt",
           0.9666666666666667,
           185,
           410
          ],
          [
           true,
           null,
           false,
           1,
           "gt",
           0.8529411764705882,
           186,
           411
          ],
          [
           true,
           null,
           false,
           1,
           "gt",
           1,
           187,
           412
          ],
          [
           true,
           null,
           false,
           1,
           "gt",
           0.9050632911392406,
           188,
           413
          ],
          [
           true,
           null,
           false,
           1,
           "gt",
           0.9855769230769231,
           189,
           418
          ],
          [
           true,
           null,
           false,
           1,
           "gt",
           0.8810810810810811,
           190,
           419
          ],
          [
           true,
           null,
           false,
           1,
           "gt",
           0.8564593301435407,
           191,
           421
          ],
          [
           true,
           null,
           false,
           1,
           "gt",
           0.9661016949152542,
           192,
           424
          ],
          [
           true,
           null,
           false,
           1,
           "gt",
           0.8802395209580839,
           193,
           427
          ],
          [
           true,
           null,
           false,
           1,
           "gt",
           0.8722222222222222,
           194,
           429
          ],
          [
           true,
           null,
           false,
           1,
           "gt",
           0.641860465116279,
           195,
           430
          ],
          [
           true,
           null,
           false,
           1,
           "gt",
           0.7953488372093023,
           196,
           433
          ],
          [
           true,
           null,
           false,
           1,
           "gt",
           0.9742268041237113,
           197,
           435
          ],
          [
           true,
           null,
           false,
           1,
           "gt",
           0.9085365853658537,
           198,
           440
          ],
          [
           true,
           null,
           false,
           1,
           "gt",
           0.9743589743589743,
           199,
           443
          ],
          [
           true,
           null,
           false,
           1,
           "gt",
           0.9605263157894737,
           200,
           444
          ],
          [
           true,
           null,
           false,
           1,
           "gt",
           0.9109947643979057,
           201,
           446
          ],
          [
           true,
           null,
           false,
           1,
           "gt",
           0.865979381443299,
           202,
           449
          ],
          [
           true,
           null,
           false,
           1,
           "gt",
           0.8767772511848341,
           203,
           450
          ],
          [
           true,
           null,
           false,
           1,
           "gt",
           0.9644970414201184,
           204,
           451
          ],
          [
           true,
           null,
           false,
           1,
           "gt",
           0.7900552486187845,
           205,
           454
          ],
          [
           true,
           null,
           false,
           1,
           "gt",
           0.8816568047337278,
           206,
           455
          ],
          [
           true,
           null,
           false,
           1,
           "gt",
           0.9863945578231292,
           207,
           458
          ],
          [
           true,
           null,
           false,
           1,
           "gt",
           0.935064935064935,
           208,
           461
          ],
          [
           true,
           null,
           false,
           1,
           "gt",
           0.9849056603773585,
           209,
           462
          ],
          [
           true,
           null,
           false,
           1,
           "gt",
           1,
           210,
           463
          ],
          [
           true,
           null,
           false,
           1,
           "gt",
           0.9611111111111111,
           211,
           467
          ],
          [
           true,
           null,
           false,
           1,
           "gt",
           0.8277511961722488,
           212,
           469
          ],
          [
           true,
           null,
           false,
           1,
           "gt",
           0.8373493975903614,
           213,
           478
          ],
          [
           true,
           null,
           false,
           1,
           "gt",
           0.8379629629629629,
           214,
           479
          ],
          [
           true,
           null,
           false,
           1,
           "gt",
           1,
           215,
           480
          ],
          [
           true,
           null,
           false,
           1,
           "gt",
           0.8252427184466019,
           216,
           483
          ],
          [
           true,
           null,
           false,
           1,
           "gt",
           0.6588785046728972,
           217,
           488
          ],
          [
           true,
           null,
           false,
           1,
           "gt",
           0.850828729281768,
           218,
           489
          ],
          [
           true,
           null,
           false,
           1,
           "gt",
           0.94375,
           219,
           490
          ],
          [
           true,
           null,
           false,
           1,
           "gt",
           0.9371428571428572,
           220,
           493
          ],
          [
           true,
           null,
           false,
           1,
           "gt",
           0.9543568464730291,
           221,
           494
          ],
          [
           true,
           null,
           false,
           1,
           "gt",
           0.9047619047619048,
           222,
           499
          ],
          [
           true,
           null,
           false,
           1,
           "gt",
           0.8455882352941176,
           223,
           501
          ],
          [
           true,
           null,
           false,
           1,
           "gt",
           0.9883040935672515,
           224,
           504
          ],
          [
           true,
           null,
           false,
           1,
           "gt",
           0.7593360995850622,
           225,
           506
          ],
          [
           true,
           null,
           false,
           1,
           "gt",
           0.25301204819277107,
           226,
           508
          ],
          [
           true,
           null,
           false,
           1,
           "gt",
           0.8415841584158416,
           227,
           511
          ],
          [
           true,
           null,
           false,
           1,
           "gt",
           0.9391891891891891,
           228,
           516
          ],
          [
           true,
           null,
           false,
           1,
           "gt",
           0.9207317073170732,
           229,
           517
          ],
          [
           true,
           null,
           false,
           1,
           "gt",
           0.9573170731707317,
           230,
           521
          ],
          [
           true,
           null,
           false,
           1,
           "gt",
           0.9459459459459459,
           231,
           526
          ],
          [
           true,
           null,
           false,
           1,
           "gt",
           0.9052631578947369,
           232,
           531
          ],
          [
           true,
           null,
           false,
           1,
           "gt",
           0.8693181818181818,
           233,
           535
          ],
          [
           true,
           null,
           false,
           1,
           "gt",
           0.7614678899082569,
           234,
           545
          ],
          [
           true,
           null,
           false,
           1,
           "gt",
           0.7904191616766467,
           235,
           546
          ],
          [
           false,
           null,
           true,
           1,
           "gt",
           0,
           236,
           "NA"
          ],
          [
           true,
           null,
           false,
           1,
           "gt",
           0.7404255319148936,
           237,
           547
          ],
          [
           true,
           null,
           false,
           1,
           "gt",
           0.7764705882352941,
           238,
           549
          ],
          [
           true,
           null,
           false,
           1,
           "gt",
           0.8431372549019608,
           239,
           550
          ],
          [
           true,
           null,
           false,
           1,
           "gt",
           0.7861271676300579,
           240,
           553
          ],
          [
           true,
           null,
           false,
           1,
           "gt",
           0.9372549019607843,
           241,
           558
          ],
          [
           true,
           null,
           false,
           1,
           "gt",
           0.9057591623036649,
           242,
           559
          ],
          [
           true,
           null,
           false,
           1,
           "gt",
           0.8730964467005076,
           243,
           560
          ],
          [
           true,
           null,
           false,
           1,
           "gt",
           0.8394495412844036,
           244,
           565
          ],
          [
           true,
           null,
           false,
           1,
           "gt",
           0.9696969696969697,
           245,
           567
          ],
          [
           true,
           null,
           false,
           1,
           "gt",
           0.9025641025641026,
           246,
           568
          ],
          [
           true,
           null,
           false,
           1,
           "gt",
           0.9425287356321839,
           247,
           569
          ],
          [
           true,
           null,
           false,
           1,
           "gt",
           0.9203539823008849,
           248,
           570
          ],
          [
           true,
           null,
           false,
           1,
           "gt",
           0.9597701149425287,
           249,
           571
          ],
          [
           true,
           null,
           false,
           1,
           "gt",
           0.9330143540669856,
           250,
           573
          ],
          [
           true,
           null,
           false,
           1,
           "gt",
           0.9937888198757764,
           251,
           575
          ],
          [
           true,
           null,
           false,
           1,
           "gt",
           0.7848837209302325,
           252,
           576
          ],
          [
           true,
           null,
           false,
           1,
           "gt",
           0.8789473684210526,
           253,
           581
          ],
          [
           true,
           null,
           false,
           1,
           "gt",
           0.9576719576719577,
           254,
           584
          ],
          [
           true,
           null,
           false,
           1,
           "gt",
           0.8837209302325582,
           255,
           585
          ],
          [
           true,
           null,
           false,
           1,
           "gt",
           0.9622641509433962,
           256,
           586
          ],
          [
           true,
           null,
           false,
           1,
           "gt",
           0.8093023255813954,
           257,
           587
          ],
          [
           true,
           null,
           false,
           1,
           "gt",
           0.9830508474576272,
           258,
           589
          ],
          [
           true,
           null,
           false,
           1,
           "gt",
           0.9351351351351351,
           259,
           590
          ],
          [
           true,
           null,
           false,
           1,
           "gt",
           0.7017543859649122,
           260,
           591
          ],
          [
           true,
           null,
           false,
           1,
           "gt",
           0.9523809523809523,
           261,
           592
          ],
          [
           true,
           null,
           false,
           1,
           "gt",
           0.9840425531914894,
           262,
           594
          ],
          [
           true,
           null,
           false,
           1,
           "gt",
           0.7854077253218884,
           263,
           595
          ],
          [
           true,
           null,
           false,
           1,
           "gt",
           0.7799043062200957,
           264,
           599
          ],
          [
           true,
           null,
           false,
           1,
           "gt",
           0.8082191780821918,
           265,
           602
          ],
          [
           true,
           null,
           false,
           1,
           "gt",
           0.7857142857142857,
           266,
           607
          ],
          [
           true,
           null,
           false,
           1,
           "gt",
           0.9578313253012049,
           267,
           615
          ],
          [
           true,
           null,
           false,
           1,
           "gt",
           0.9879032258064516,
           268,
           617
          ],
          [
           true,
           null,
           false,
           1,
           "gt",
           0.9086538461538461,
           269,
           618
          ],
          [
           true,
           null,
           false,
           1,
           "gt",
           0.8497409326424871,
           270,
           622
          ],
          [
           true,
           null,
           false,
           1,
           "gt",
           0.616580310880829,
           271,
           625
          ],
          [
           true,
           null,
           false,
           1,
           "gt",
           0.9272727272727272,
           272,
           626
          ],
          [
           true,
           null,
           false,
           1,
           "gt",
           0.7523364485981309,
           273,
           627
          ],
          [
           true,
           null,
           false,
           1,
           "gt",
           0.9779005524861878,
           274,
           632
          ],
          [
           true,
           null,
           false,
           1,
           "gt",
           0.9080459770114943,
           275,
           633
          ],
          [
           true,
           null,
           false,
           1,
           "gt",
           0.577639751552795,
           276,
           635
          ],
          [
           true,
           null,
           false,
           1,
           "gt",
           0.8018867924528302,
           277,
           637
          ],
          [
           true,
           null,
           false,
           1,
           "gt",
           0.9880952380952381,
           278,
           641
          ],
          [
           true,
           null,
           false,
           1,
           "gt",
           0.8378378378378378,
           279,
           642
          ],
          [
           true,
           null,
           false,
           1,
           "gt",
           0.9315789473684211,
           280,
           646
          ],
          [
           true,
           null,
           false,
           1,
           "gt",
           0.9222797927461139,
           281,
           656
          ],
          [
           true,
           null,
           false,
           1,
           "gt",
           0.9470899470899471,
           282,
           661
          ],
          [
           true,
           null,
           false,
           1,
           "gt",
           0.9419354838709677,
           283,
           664
          ],
          [
           true,
           null,
           false,
           1,
           "gt",
           0.9047619047619048,
           284,
           666
          ],
          [
           true,
           null,
           false,
           1,
           "gt",
           0.9512195121951219,
           285,
           667
          ],
          [
           true,
           null,
           false,
           1,
           "gt",
           0.8362573099415205,
           286,
           668
          ],
          [
           true,
           null,
           false,
           1,
           "gt",
           0.9325842696629213,
           287,
           674
          ],
          [
           true,
           null,
           false,
           1,
           "gt",
           0.89375,
           288,
           675
          ],
          [
           true,
           null,
           false,
           1,
           "gt",
           0.9085365853658537,
           289,
           681
          ],
          [
           true,
           null,
           false,
           1,
           "gt",
           0.9148936170212766,
           290,
           682
          ],
          [
           true,
           null,
           false,
           1,
           "gt",
           0.988950276243094,
           291,
           683
          ],
          [
           true,
           null,
           false,
           1,
           "gt",
           0.9547738693467337,
           292,
           685
          ],
          [
           true,
           null,
           false,
           1,
           "gt",
           0.8615384615384616,
           293,
           686
          ],
          [
           true,
           null,
           false,
           1,
           "gt",
           0.56,
           294,
           689
          ],
          [
           true,
           null,
           false,
           1,
           "gt",
           0.7239583333333334,
           295,
           705
          ],
          [
           true,
           null,
           false,
           1,
           "gt",
           0.9081081081081082,
           296,
           706
          ],
          [
           true,
           null,
           false,
           1,
           "gt",
           0.8834355828220859,
           297,
           707
          ],
          [
           true,
           null,
           false,
           1,
           "gt",
           0.9831460674157303,
           298,
           708
          ],
          [
           true,
           null,
           false,
           1,
           "gt",
           0.7543859649122807,
           299,
           727
          ],
          [
           true,
           null,
           false,
           1,
           "gt",
           0.850828729281768,
           300,
           728
          ],
          [
           true,
           null,
           false,
           1,
           "gt",
           0.888268156424581,
           301,
           733
          ],
          [
           true,
           null,
           false,
           1,
           "gt",
           0.963855421686747,
           302,
           734
          ],
          [
           true,
           null,
           false,
           1,
           "gt",
           0.9352941176470588,
           303,
           745
          ],
          [
           true,
           null,
           false,
           1,
           "gt",
           0.8896551724137931,
           304,
           750
          ],
          [
           true,
           null,
           false,
           1,
           "gt",
           0.968944099378882,
           305,
           751
          ],
          [
           true,
           null,
           false,
           1,
           "gt",
           0.8654970760233918,
           306,
           762
          ],
          [
           true,
           null,
           false,
           1,
           "gt",
           0.9752066115702479,
           307,
           764
          ]
         ],
         "hovertemplate": "iou=%{marker.color:.4f}<br>indexGT=%{customdata[6]}<br>indexOut=%{customdata[7]}<extra></extra>",
         "legendgroup": "gt",
         "marker": {
          "color": [
           0.952054794520548,
           0.43410852713178294,
           0.9673202614379085,
           0.5576923076923077,
           0.91324200913242,
           0.8962655601659751,
           0.9470899470899471,
           0.7976190476190477,
           0.8270676691729323,
           0.9333333333333333,
           0.6578947368421053,
           0.5192878338278932,
           0.4343065693430657,
           0.8009259259259259,
           0.9080459770114943,
           0.8369565217391305,
           0.9891891891891892,
           0.9325842696629213,
           0.9700598802395209,
           0.9842105263157894,
           0.8775510204081632,
           0.9325842696629213,
           0.7834394904458599,
           0.8219895287958116,
           0.9308510638297872,
           0.890625,
           0.6355555555555555,
           0.8588957055214724,
           0.8241206030150754,
           0.810126582278481,
           0.8829787234042553,
           0.8763440860215054,
           0.7407407407407407,
           0.8378378378378378,
           0.6434108527131783,
           0.7563451776649747,
           0.9020618556701031,
           0.850828729281768,
           0.7515923566878981,
           0.6619718309859155,
           0.4972067039106145,
           0.7732558139534884,
           0.8342857142857143,
           0.8512820512820513,
           0.7873563218390804,
           0.7960199004975125,
           0.9126984126984127,
           0.8108108108108109,
           0.8540540540540541,
           0.6827956989247311,
           0.8910256410256411,
           0.8046875,
           1,
           0.9411764705882353,
           0.9662162162162162,
           0.9647887323943662,
           0.7875,
           0.9506172839506173,
           0.864406779661017,
           0.9777777777777777,
           0,
           0.9818181818181818,
           0,
           0.8251121076233184,
           0.976878612716763,
           0.5950413223140496,
           0.7085427135678392,
           0.6898148148148148,
           0.9497206703910615,
           0.782258064516129,
           0.9488636363636364,
           0.9738562091503268,
           0.7357142857142858,
           0.5707547169811321,
           0.9300699300699301,
           0.986013986013986,
           0.9593908629441624,
           0.7477064220183486,
           0.8623481781376519,
           0.7450980392156863,
           0.9209039548022598,
           0.838150289017341,
           0.8557213930348259,
           0.9908675799086758,
           0.8679245283018868,
           0.946524064171123,
           0.9467455621301775,
           0.7562189054726368,
           0.896969696969697,
           0.9938271604938271,
           0.7584269662921348,
           0.9923664122137404,
           0.8586387434554974,
           0.9116022099447514,
           0.9771428571428571,
           0.8411764705882353,
           0.9482758620689655,
           0.6496815286624203,
           0.7951807228915663,
           0.8507462686567164,
           0.7,
           0.9210526315789473,
           0.9239130434782609,
           0.9452054794520548,
           0.9183673469387755,
           0.9933993399339934,
           0.6005665722379604,
           0.9705882352941176,
           0.9722222222222222,
           0.9859154929577465,
           0.7112299465240641,
           0.7485714285714286,
           0.7142857142857143,
           0.9711538461538461,
           0.7426900584795322,
           0.979381443298969,
           0.9075144508670521,
           0.8382352941176471,
           0.76,
           0.8493975903614458,
           0.8904109589041096,
           0.988950276243094,
           0.9134615384615384,
           0.8802395209580839,
           0.8827586206896552,
           0.9210526315789473,
           0.8214285714285714,
           0.9234449760765551,
           0.9838709677419355,
           0.8717948717948718,
           0.879245283018868,
           0.7727272727272727,
           0.9193548387096774,
           0.8455882352941176,
           0.9442508710801394,
           0.9166666666666666,
           0.9248554913294798,
           0.9940828402366864,
           0.8192090395480226,
           0.35051546391752575,
           0.9166666666666666,
           0.849624060150376,
           0.8671328671328671,
           0.4716312056737589,
           1,
           0.9704142011834319,
           0.6604938271604939,
           0.9622641509433962,
           0.9467455621301775,
           0.6758241758241759,
           0.8918918918918919,
           0.8894736842105263,
           0.7184873949579832,
           0.8539325842696629,
           0.8241758241758241,
           0.8855721393034826,
           0.9490445859872612,
           0.9386503067484663,
           1,
           0.7204301075268817,
           0.9867549668874173,
           0.9808917197452229,
           0.8909090909090909,
           0.9888888888888889,
           0.7947019867549668,
           0.8272251308900523,
           0.9787234042553191,
           0.9705882352941176,
           0.7467248908296943,
           0.8387096774193549,
           0.8978102189781022,
           0.984375,
           0.9323308270676691,
           0.7702127659574468,
           0.6548223350253807,
           1,
           0.9707602339181286,
           0.7657142857142857,
           0.903448275862069,
           0.9586776859504132,
           0.9842105263157894,
           0.7132867132867133,
           0.9468599033816425,
           0.8453038674033149,
           0.9834710743801653,
           0.9666666666666667,
           0.8529411764705882,
           1,
           0.9050632911392406,
           0.9855769230769231,
           0.8810810810810811,
           0.8564593301435407,
           0.9661016949152542,
           0.8802395209580839,
           0.8722222222222222,
           0.641860465116279,
           0.7953488372093023,
           0.9742268041237113,
           0.9085365853658537,
           0.9743589743589743,
           0.9605263157894737,
           0.9109947643979057,
           0.865979381443299,
           0.8767772511848341,
           0.9644970414201184,
           0.7900552486187845,
           0.8816568047337278,
           0.9863945578231292,
           0.935064935064935,
           0.9849056603773585,
           1,
           0.9611111111111111,
           0.8277511961722488,
           0.8373493975903614,
           0.8379629629629629,
           1,
           0.8252427184466019,
           0.6588785046728972,
           0.850828729281768,
           0.94375,
           0.9371428571428572,
           0.9543568464730291,
           0.9047619047619048,
           0.8455882352941176,
           0.9883040935672515,
           0.7593360995850622,
           0.25301204819277107,
           0.8415841584158416,
           0.9391891891891891,
           0.9207317073170732,
           0.9573170731707317,
           0.9459459459459459,
           0.9052631578947369,
           0.8693181818181818,
           0.7614678899082569,
           0.7904191616766467,
           0,
           0.7404255319148936,
           0.7764705882352941,
           0.8431372549019608,
           0.7861271676300579,
           0.9372549019607843,
           0.9057591623036649,
           0.8730964467005076,
           0.8394495412844036,
           0.9696969696969697,
           0.9025641025641026,
           0.9425287356321839,
           0.9203539823008849,
           0.9597701149425287,
           0.9330143540669856,
           0.9937888198757764,
           0.7848837209302325,
           0.8789473684210526,
           0.9576719576719577,
           0.8837209302325582,
           0.9622641509433962,
           0.8093023255813954,
           0.9830508474576272,
           0.9351351351351351,
           0.7017543859649122,
           0.9523809523809523,
           0.9840425531914894,
           0.7854077253218884,
           0.7799043062200957,
           0.8082191780821918,
           0.7857142857142857,
           0.9578313253012049,
           0.9879032258064516,
           0.9086538461538461,
           0.8497409326424871,
           0.616580310880829,
           0.9272727272727272,
           0.7523364485981309,
           0.9779005524861878,
           0.9080459770114943,
           0.577639751552795,
           0.8018867924528302,
           0.9880952380952381,
           0.8378378378378378,
           0.9315789473684211,
           0.9222797927461139,
           0.9470899470899471,
           0.9419354838709677,
           0.9047619047619048,
           0.9512195121951219,
           0.8362573099415205,
           0.9325842696629213,
           0.89375,
           0.9085365853658537,
           0.9148936170212766,
           0.988950276243094,
           0.9547738693467337,
           0.8615384615384616,
           0.56,
           0.7239583333333334,
           0.9081081081081082,
           0.8834355828220859,
           0.9831460674157303,
           0.7543859649122807,
           0.850828729281768,
           0.888268156424581,
           0.963855421686747,
           0.9352941176470588,
           0.8896551724137931,
           0.968944099378882,
           0.8654970760233918,
           0.9752066115702479
          ],
          "coloraxis": "coloraxis",
          "line": {
           "width": 2
          },
          "opacity": 0.8,
          "size": [
           1,
           1,
           1,
           1,
           1,
           1,
           1,
           1,
           1,
           1,
           1,
           1,
           1,
           1,
           1,
           1,
           1,
           1,
           1,
           1,
           1,
           1,
           1,
           1,
           1,
           1,
           1,
           1,
           1,
           1,
           1,
           1,
           1,
           1,
           1,
           1,
           1,
           1,
           1,
           1,
           1,
           1,
           1,
           1,
           1,
           1,
           1,
           1,
           1,
           1,
           1,
           1,
           1,
           1,
           1,
           1,
           1,
           1,
           1,
           1,
           1,
           1,
           1,
           1,
           1,
           1,
           1,
           1,
           1,
           1,
           1,
           1,
           1,
           1,
           1,
           1,
           1,
           1,
           1,
           1,
           1,
           1,
           1,
           1,
           1,
           1,
           1,
           1,
           1,
           1,
           1,
           1,
           1,
           1,
           1,
           1,
           1,
           1,
           1,
           1,
           1,
           1,
           1,
           1,
           1,
           1,
           1,
           1,
           1,
           1,
           1,
           1,
           1,
           1,
           1,
           1,
           1,
           1,
           1,
           1,
           1,
           1,
           1,
           1,
           1,
           1,
           1,
           1,
           1,
           1,
           1,
           1,
           1,
           1,
           1,
           1,
           1,
           1,
           1,
           1,
           1,
           1,
           1,
           1,
           1,
           1,
           1,
           1,
           1,
           1,
           1,
           1,
           1,
           1,
           1,
           1,
           1,
           1,
           1,
           1,
           1,
           1,
           1,
           1,
           1,
           1,
           1,
           1,
           1,
           1,
           1,
           1,
           1,
           1,
           1,
           1,
           1,
           1,
           1,
           1,
           1,
           1,
           1,
           1,
           1,
           1,
           1,
           1,
           1,
           1,
           1,
           1,
           1,
           1,
           1,
           1,
           1,
           1,
           1,
           1,
           1,
           1,
           1,
           1,
           1,
           1,
           1,
           1,
           1,
           1,
           1,
           1,
           1,
           1,
           1,
           1,
           1,
           1,
           1,
           1,
           1,
           1,
           1,
           1,
           1,
           1,
           1,
           1,
           1,
           1,
           1,
           1,
           1,
           1,
           1,
           1,
           1,
           1,
           1,
           1,
           1,
           1,
           1,
           1,
           1,
           1,
           1,
           1,
           1,
           1,
           1,
           1,
           1,
           1,
           1,
           1,
           1,
           1,
           1,
           1,
           1,
           1,
           1,
           1,
           1,
           1,
           1,
           1,
           1,
           1,
           1,
           1,
           1,
           1,
           1,
           1,
           1,
           1,
           1,
           1,
           1,
           1,
           1,
           1,
           1,
           1,
           1,
           1,
           1,
           1,
           1,
           1,
           1,
           1,
           1,
           1,
           1,
           1,
           1,
           1,
           1,
           1,
           1,
           1,
           1,
           1,
           1,
           1
          ],
          "sizemode": "area",
          "sizeref": 0.0075,
          "symbol": "circle"
         },
         "mode": "markers",
         "name": "gt",
         "showlegend": true,
         "type": "scattergl",
         "x": [
          0,
          1,
          2,
          3,
          4,
          5,
          6,
          7,
          8,
          9,
          10,
          11,
          12,
          13,
          14,
          15,
          16,
          17,
          18,
          19,
          20,
          21,
          22,
          23,
          24,
          25,
          26,
          27,
          28,
          29,
          30,
          31,
          32,
          33,
          34,
          35,
          36,
          37,
          38,
          39,
          40,
          41,
          42,
          43,
          44,
          45,
          46,
          47,
          48,
          49,
          50,
          51,
          52,
          53,
          54,
          55,
          56,
          57,
          58,
          59,
          60,
          61,
          62,
          63,
          64,
          65,
          66,
          67,
          68,
          69,
          70,
          71,
          72,
          73,
          74,
          75,
          76,
          77,
          78,
          79,
          80,
          81,
          82,
          83,
          84,
          85,
          86,
          87,
          88,
          89,
          90,
          91,
          92,
          93,
          94,
          95,
          96,
          97,
          98,
          99,
          100,
          101,
          102,
          103,
          104,
          105,
          106,
          107,
          108,
          109,
          110,
          111,
          112,
          113,
          114,
          115,
          116,
          117,
          118,
          119,
          120,
          121,
          122,
          123,
          124,
          125,
          126,
          127,
          128,
          129,
          130,
          131,
          132,
          133,
          134,
          135,
          136,
          137,
          138,
          139,
          140,
          141,
          142,
          143,
          144,
          145,
          146,
          147,
          148,
          149,
          150,
          151,
          152,
          153,
          154,
          155,
          156,
          157,
          158,
          159,
          160,
          161,
          162,
          163,
          164,
          165,
          166,
          167,
          168,
          169,
          170,
          171,
          172,
          173,
          174,
          175,
          176,
          177,
          178,
          179,
          180,
          181,
          182,
          183,
          184,
          185,
          186,
          187,
          188,
          189,
          190,
          191,
          192,
          193,
          194,
          195,
          196,
          197,
          198,
          199,
          200,
          201,
          202,
          203,
          204,
          205,
          206,
          207,
          208,
          209,
          210,
          211,
          212,
          213,
          214,
          215,
          216,
          217,
          218,
          219,
          220,
          221,
          222,
          223,
          224,
          225,
          226,
          227,
          228,
          229,
          230,
          231,
          232,
          233,
          234,
          235,
          236,
          237,
          238,
          239,
          240,
          241,
          242,
          243,
          244,
          245,
          246,
          247,
          248,
          249,
          250,
          251,
          252,
          253,
          254,
          255,
          256,
          257,
          258,
          259,
          260,
          261,
          262,
          263,
          264,
          265,
          266,
          267,
          268,
          269,
          270,
          271,
          272,
          273,
          274,
          275,
          276,
          277,
          278,
          279,
          280,
          281,
          282,
          283,
          284,
          285,
          286,
          287,
          288,
          289,
          290,
          291,
          292,
          293,
          294,
          295,
          296,
          297,
          298,
          299,
          300,
          301,
          302,
          303,
          304,
          305,
          306,
          307
         ],
         "xaxis": "x",
         "y": [
          0,
          2,
          3,
          5,
          6,
          11,
          13,
          16,
          19,
          20,
          21,
          22,
          23,
          24,
          28,
          29,
          30,
          34,
          35,
          36,
          37,
          42,
          46,
          47,
          54,
          55,
          56,
          59,
          64,
          65,
          69,
          70,
          71,
          75,
          79,
          84,
          86,
          87,
          92,
          93,
          94,
          96,
          102,
          105,
          107,
          110,
          112,
          113,
          114,
          115,
          116,
          117,
          118,
          120,
          121,
          123,
          126,
          127,
          129,
          130,
          -10,
          131,
          -10,
          135,
          137,
          138,
          140,
          141,
          144,
          150,
          151,
          153,
          154,
          156,
          157,
          158,
          161,
          162,
          167,
          169,
          170,
          171,
          172,
          174,
          176,
          181,
          185,
          186,
          188,
          189,
          192,
          197,
          200,
          202,
          204,
          209,
          210,
          211,
          212,
          217,
          218,
          221,
          227,
          230,
          234,
          236,
          238,
          239,
          240,
          242,
          246,
          247,
          251,
          253,
          255,
          258,
          260,
          261,
          262,
          266,
          267,
          268,
          269,
          271,
          272,
          273,
          274,
          275,
          276,
          281,
          284,
          285,
          287,
          288,
          290,
          296,
          302,
          304,
          306,
          311,
          312,
          313,
          314,
          319,
          320,
          323,
          324,
          326,
          328,
          335,
          336,
          338,
          340,
          341,
          344,
          347,
          348,
          352,
          354,
          360,
          364,
          365,
          366,
          367,
          368,
          370,
          372,
          373,
          374,
          376,
          377,
          378,
          379,
          384,
          385,
          392,
          394,
          395,
          396,
          398,
          399,
          402,
          403,
          408,
          409,
          410,
          411,
          412,
          413,
          418,
          419,
          421,
          424,
          427,
          429,
          430,
          433,
          435,
          440,
          443,
          444,
          446,
          449,
          450,
          451,
          454,
          455,
          458,
          461,
          462,
          463,
          467,
          469,
          478,
          479,
          480,
          483,
          488,
          489,
          490,
          493,
          494,
          499,
          501,
          504,
          506,
          508,
          511,
          516,
          517,
          521,
          526,
          531,
          535,
          545,
          546,
          -10,
          547,
          549,
          550,
          553,
          558,
          559,
          560,
          565,
          567,
          568,
          569,
          570,
          571,
          573,
          575,
          576,
          581,
          584,
          585,
          586,
          587,
          589,
          590,
          591,
          592,
          594,
          595,
          599,
          602,
          607,
          615,
          617,
          618,
          622,
          625,
          626,
          627,
          632,
          633,
          635,
          637,
          641,
          642,
          646,
          656,
          661,
          664,
          666,
          667,
          668,
          674,
          675,
          681,
          682,
          683,
          685,
          686,
          689,
          705,
          706,
          707,
          708,
          727,
          728,
          733,
          734,
          745,
          750,
          751,
          762,
          764
         ],
         "yaxis": "y"
        }
       ],
       "layout": {
        "coloraxis": {
         "colorbar": {
          "title": {
           "text": "iou"
          }
         },
         "colorscale": [
          [
           0,
           "rgb(40,40,40)"
          ],
          [
           0.000001,
           "rgb(28,227,255)"
          ],
          [
           0.14,
           "rgb(56,199,255)"
          ],
          [
           0.29,
           "rgb(85,170,255)"
          ],
          [
           0.42,
           "rgb(113,142,255)"
          ],
          [
           0.57,
           "rgb(142,113,255)"
          ],
          [
           0.71,
           "rgb(170,85,255)"
          ],
          [
           0.86,
           "rgb(199,56,255)"
          ],
          [
           1,
           "rgb(227,28,255)"
          ]
         ]
        },
        "legend": {
         "itemsizing": "constant",
         "orientation": "h",
         "title": {
          "text": "type"
         },
         "tracegroupgap": 0
        },
        "shapes": [
         {
          "line": {
           "dash": "dash"
          },
          "type": "line",
          "x0": -5,
          "x1": -5,
          "xref": "x",
          "y0": 0,
          "y1": 1,
          "yref": "y domain"
         },
         {
          "line": {
           "dash": "dash"
          },
          "type": "line",
          "x0": 0,
          "x1": 1,
          "xref": "x domain",
          "y0": -5,
          "y1": -5,
          "yref": "y"
         }
        ],
        "template": {
         "data": {
          "bar": [
           {
            "error_x": {
             "color": "#2a3f5f"
            },
            "error_y": {
             "color": "#2a3f5f"
            },
            "marker": {
             "line": {
              "color": "#E5ECF6",
              "width": 0.5
             },
             "pattern": {
              "fillmode": "overlay",
              "size": 10,
              "solidity": 0.2
             }
            },
            "type": "bar"
           }
          ],
          "barpolar": [
           {
            "marker": {
             "line": {
              "color": "#E5ECF6",
              "width": 0.5
             },
             "pattern": {
              "fillmode": "overlay",
              "size": 10,
              "solidity": 0.2
             }
            },
            "type": "barpolar"
           }
          ],
          "carpet": [
           {
            "aaxis": {
             "endlinecolor": "#2a3f5f",
             "gridcolor": "white",
             "linecolor": "white",
             "minorgridcolor": "white",
             "startlinecolor": "#2a3f5f"
            },
            "baxis": {
             "endlinecolor": "#2a3f5f",
             "gridcolor": "white",
             "linecolor": "white",
             "minorgridcolor": "white",
             "startlinecolor": "#2a3f5f"
            },
            "type": "carpet"
           }
          ],
          "choropleth": [
           {
            "colorbar": {
             "outlinewidth": 0,
             "ticks": ""
            },
            "type": "choropleth"
           }
          ],
          "contour": [
           {
            "colorbar": {
             "outlinewidth": 0,
             "ticks": ""
            },
            "colorscale": [
             [
              0,
              "#0d0887"
             ],
             [
              0.1111111111111111,
              "#46039f"
             ],
             [
              0.2222222222222222,
              "#7201a8"
             ],
             [
              0.3333333333333333,
              "#9c179e"
             ],
             [
              0.4444444444444444,
              "#bd3786"
             ],
             [
              0.5555555555555556,
              "#d8576b"
             ],
             [
              0.6666666666666666,
              "#ed7953"
             ],
             [
              0.7777777777777778,
              "#fb9f3a"
             ],
             [
              0.8888888888888888,
              "#fdca26"
             ],
             [
              1,
              "#f0f921"
             ]
            ],
            "type": "contour"
           }
          ],
          "contourcarpet": [
           {
            "colorbar": {
             "outlinewidth": 0,
             "ticks": ""
            },
            "type": "contourcarpet"
           }
          ],
          "heatmap": [
           {
            "colorbar": {
             "outlinewidth": 0,
             "ticks": ""
            },
            "colorscale": [
             [
              0,
              "#0d0887"
             ],
             [
              0.1111111111111111,
              "#46039f"
             ],
             [
              0.2222222222222222,
              "#7201a8"
             ],
             [
              0.3333333333333333,
              "#9c179e"
             ],
             [
              0.4444444444444444,
              "#bd3786"
             ],
             [
              0.5555555555555556,
              "#d8576b"
             ],
             [
              0.6666666666666666,
              "#ed7953"
             ],
             [
              0.7777777777777778,
              "#fb9f3a"
             ],
             [
              0.8888888888888888,
              "#fdca26"
             ],
             [
              1,
              "#f0f921"
             ]
            ],
            "type": "heatmap"
           }
          ],
          "heatmapgl": [
           {
            "colorbar": {
             "outlinewidth": 0,
             "ticks": ""
            },
            "colorscale": [
             [
              0,
              "#0d0887"
             ],
             [
              0.1111111111111111,
              "#46039f"
             ],
             [
              0.2222222222222222,
              "#7201a8"
             ],
             [
              0.3333333333333333,
              "#9c179e"
             ],
             [
              0.4444444444444444,
              "#bd3786"
             ],
             [
              0.5555555555555556,
              "#d8576b"
             ],
             [
              0.6666666666666666,
              "#ed7953"
             ],
             [
              0.7777777777777778,
              "#fb9f3a"
             ],
             [
              0.8888888888888888,
              "#fdca26"
             ],
             [
              1,
              "#f0f921"
             ]
            ],
            "type": "heatmapgl"
           }
          ],
          "histogram": [
           {
            "marker": {
             "pattern": {
              "fillmode": "overlay",
              "size": 10,
              "solidity": 0.2
             }
            },
            "type": "histogram"
           }
          ],
          "histogram2d": [
           {
            "colorbar": {
             "outlinewidth": 0,
             "ticks": ""
            },
            "colorscale": [
             [
              0,
              "#0d0887"
             ],
             [
              0.1111111111111111,
              "#46039f"
             ],
             [
              0.2222222222222222,
              "#7201a8"
             ],
             [
              0.3333333333333333,
              "#9c179e"
             ],
             [
              0.4444444444444444,
              "#bd3786"
             ],
             [
              0.5555555555555556,
              "#d8576b"
             ],
             [
              0.6666666666666666,
              "#ed7953"
             ],
             [
              0.7777777777777778,
              "#fb9f3a"
             ],
             [
              0.8888888888888888,
              "#fdca26"
             ],
             [
              1,
              "#f0f921"
             ]
            ],
            "type": "histogram2d"
           }
          ],
          "histogram2dcontour": [
           {
            "colorbar": {
             "outlinewidth": 0,
             "ticks": ""
            },
            "colorscale": [
             [
              0,
              "#0d0887"
             ],
             [
              0.1111111111111111,
              "#46039f"
             ],
             [
              0.2222222222222222,
              "#7201a8"
             ],
             [
              0.3333333333333333,
              "#9c179e"
             ],
             [
              0.4444444444444444,
              "#bd3786"
             ],
             [
              0.5555555555555556,
              "#d8576b"
             ],
             [
              0.6666666666666666,
              "#ed7953"
             ],
             [
              0.7777777777777778,
              "#fb9f3a"
             ],
             [
              0.8888888888888888,
              "#fdca26"
             ],
             [
              1,
              "#f0f921"
             ]
            ],
            "type": "histogram2dcontour"
           }
          ],
          "mesh3d": [
           {
            "colorbar": {
             "outlinewidth": 0,
             "ticks": ""
            },
            "type": "mesh3d"
           }
          ],
          "parcoords": [
           {
            "line": {
             "colorbar": {
              "outlinewidth": 0,
              "ticks": ""
             }
            },
            "type": "parcoords"
           }
          ],
          "pie": [
           {
            "automargin": true,
            "type": "pie"
           }
          ],
          "scatter": [
           {
            "fillpattern": {
             "fillmode": "overlay",
             "size": 10,
             "solidity": 0.2
            },
            "type": "scatter"
           }
          ],
          "scatter3d": [
           {
            "line": {
             "colorbar": {
              "outlinewidth": 0,
              "ticks": ""
             }
            },
            "marker": {
             "colorbar": {
              "outlinewidth": 0,
              "ticks": ""
             }
            },
            "type": "scatter3d"
           }
          ],
          "scattercarpet": [
           {
            "marker": {
             "colorbar": {
              "outlinewidth": 0,
              "ticks": ""
             }
            },
            "type": "scattercarpet"
           }
          ],
          "scattergeo": [
           {
            "marker": {
             "colorbar": {
              "outlinewidth": 0,
              "ticks": ""
             }
            },
            "type": "scattergeo"
           }
          ],
          "scattergl": [
           {
            "marker": {
             "colorbar": {
              "outlinewidth": 0,
              "ticks": ""
             }
            },
            "type": "scattergl"
           }
          ],
          "scattermapbox": [
           {
            "marker": {
             "colorbar": {
              "outlinewidth": 0,
              "ticks": ""
             }
            },
            "type": "scattermapbox"
           }
          ],
          "scatterpolar": [
           {
            "marker": {
             "colorbar": {
              "outlinewidth": 0,
              "ticks": ""
             }
            },
            "type": "scatterpolar"
           }
          ],
          "scatterpolargl": [
           {
            "marker": {
             "colorbar": {
              "outlinewidth": 0,
              "ticks": ""
             }
            },
            "type": "scatterpolargl"
           }
          ],
          "scatterternary": [
           {
            "marker": {
             "colorbar": {
              "outlinewidth": 0,
              "ticks": ""
             }
            },
            "type": "scatterternary"
           }
          ],
          "surface": [
           {
            "colorbar": {
             "outlinewidth": 0,
             "ticks": ""
            },
            "colorscale": [
             [
              0,
              "#0d0887"
             ],
             [
              0.1111111111111111,
              "#46039f"
             ],
             [
              0.2222222222222222,
              "#7201a8"
             ],
             [
              0.3333333333333333,
              "#9c179e"
             ],
             [
              0.4444444444444444,
              "#bd3786"
             ],
             [
              0.5555555555555556,
              "#d8576b"
             ],
             [
              0.6666666666666666,
              "#ed7953"
             ],
             [
              0.7777777777777778,
              "#fb9f3a"
             ],
             [
              0.8888888888888888,
              "#fdca26"
             ],
             [
              1,
              "#f0f921"
             ]
            ],
            "type": "surface"
           }
          ],
          "table": [
           {
            "cells": {
             "fill": {
              "color": "#EBF0F8"
             },
             "line": {
              "color": "white"
             }
            },
            "header": {
             "fill": {
              "color": "#C8D4E3"
             },
             "line": {
              "color": "white"
             }
            },
            "type": "table"
           }
          ]
         },
         "layout": {
          "annotationdefaults": {
           "arrowcolor": "#2a3f5f",
           "arrowhead": 0,
           "arrowwidth": 1
          },
          "autotypenumbers": "strict",
          "coloraxis": {
           "colorbar": {
            "outlinewidth": 0,
            "ticks": ""
           }
          },
          "colorscale": {
           "diverging": [
            [
             0,
             "#8e0152"
            ],
            [
             0.1,
             "#c51b7d"
            ],
            [
             0.2,
             "#de77ae"
            ],
            [
             0.3,
             "#f1b6da"
            ],
            [
             0.4,
             "#fde0ef"
            ],
            [
             0.5,
             "#f7f7f7"
            ],
            [
             0.6,
             "#e6f5d0"
            ],
            [
             0.7,
             "#b8e186"
            ],
            [
             0.8,
             "#7fbc41"
            ],
            [
             0.9,
             "#4d9221"
            ],
            [
             1,
             "#276419"
            ]
           ],
           "sequential": [
            [
             0,
             "#0d0887"
            ],
            [
             0.1111111111111111,
             "#46039f"
            ],
            [
             0.2222222222222222,
             "#7201a8"
            ],
            [
             0.3333333333333333,
             "#9c179e"
            ],
            [
             0.4444444444444444,
             "#bd3786"
            ],
            [
             0.5555555555555556,
             "#d8576b"
            ],
            [
             0.6666666666666666,
             "#ed7953"
            ],
            [
             0.7777777777777778,
             "#fb9f3a"
            ],
            [
             0.8888888888888888,
             "#fdca26"
            ],
            [
             1,
             "#f0f921"
            ]
           ],
           "sequentialminus": [
            [
             0,
             "#0d0887"
            ],
            [
             0.1111111111111111,
             "#46039f"
            ],
            [
             0.2222222222222222,
             "#7201a8"
            ],
            [
             0.3333333333333333,
             "#9c179e"
            ],
            [
             0.4444444444444444,
             "#bd3786"
            ],
            [
             0.5555555555555556,
             "#d8576b"
            ],
            [
             0.6666666666666666,
             "#ed7953"
            ],
            [
             0.7777777777777778,
             "#fb9f3a"
            ],
            [
             0.8888888888888888,
             "#fdca26"
            ],
            [
             1,
             "#f0f921"
            ]
           ]
          },
          "colorway": [
           "#636efa",
           "#EF553B",
           "#00cc96",
           "#ab63fa",
           "#FFA15A",
           "#19d3f3",
           "#FF6692",
           "#B6E880",
           "#FF97FF",
           "#FECB52"
          ],
          "font": {
           "color": "#2a3f5f"
          },
          "geo": {
           "bgcolor": "white",
           "lakecolor": "white",
           "landcolor": "#E5ECF6",
           "showlakes": true,
           "showland": true,
           "subunitcolor": "white"
          },
          "hoverlabel": {
           "align": "left"
          },
          "hovermode": "closest",
          "mapbox": {
           "style": "light"
          },
          "paper_bgcolor": "white",
          "plot_bgcolor": "#E5ECF6",
          "polar": {
           "angularaxis": {
            "gridcolor": "white",
            "linecolor": "white",
            "ticks": ""
           },
           "bgcolor": "#E5ECF6",
           "radialaxis": {
            "gridcolor": "white",
            "linecolor": "white",
            "ticks": ""
           }
          },
          "scene": {
           "xaxis": {
            "backgroundcolor": "#E5ECF6",
            "gridcolor": "white",
            "gridwidth": 2,
            "linecolor": "white",
            "showbackground": true,
            "ticks": "",
            "zerolinecolor": "white"
           },
           "yaxis": {
            "backgroundcolor": "#E5ECF6",
            "gridcolor": "white",
            "gridwidth": 2,
            "linecolor": "white",
            "showbackground": true,
            "ticks": "",
            "zerolinecolor": "white"
           },
           "zaxis": {
            "backgroundcolor": "#E5ECF6",
            "gridcolor": "white",
            "gridwidth": 2,
            "linecolor": "white",
            "showbackground": true,
            "ticks": "",
            "zerolinecolor": "white"
           }
          },
          "shapedefaults": {
           "line": {
            "color": "#2a3f5f"
           }
          },
          "ternary": {
           "aaxis": {
            "gridcolor": "white",
            "linecolor": "white",
            "ticks": ""
           },
           "baxis": {
            "gridcolor": "white",
            "linecolor": "white",
            "ticks": ""
           },
           "bgcolor": "#E5ECF6",
           "caxis": {
            "gridcolor": "white",
            "linecolor": "white",
            "ticks": ""
           }
          },
          "title": {
           "x": 0.05
          },
          "xaxis": {
           "automargin": true,
           "gridcolor": "white",
           "linecolor": "white",
           "ticks": "",
           "title": {
            "standoff": 15
           },
           "zerolinecolor": "white",
           "zerolinewidth": 2
          },
          "yaxis": {
           "automargin": true,
           "gridcolor": "white",
           "linecolor": "white",
           "ticks": "",
           "title": {
            "standoff": 15
           },
           "zerolinecolor": "white",
           "zerolinewidth": 2
          }
         }
        },
        "title": {
         "text": "by-Event evaluation summary<br><sup>F1(@IoU>0.2)=0.5685 | minimum TP IoU: 0.253</sup>"
        },
        "xaxis": {
         "anchor": "y",
         "domain": [
          0,
          1
         ],
         "range": [
          -20,
          318
         ],
         "title": {
          "text": "308 ANNOTATIONS | recall(@IoU>0.2)= 0.9903"
         }
        },
        "yaxis": {
         "anchor": "x",
         "domain": [
          0,
          1
         ],
         "range": [
          -20,
          775
         ],
         "title": {
          "text": "765 DETECTIONS | precision(@IoU>0.2)= 0.3987"
         }
        }
       }
      }
     },
     "metadata": {},
     "output_type": "display_data"
    }
   ],
   "source": [
    "annotationPairToGraph(gtAnnotations,processedAnnotations)"
   ]
  }
 ],
 "metadata": {
  "kernelspec": {
   "display_name": "Python 3.10.6 ('venv': venv)",
   "language": "python",
   "name": "python3"
  },
  "language_info": {
   "codemirror_mode": {
    "name": "ipython",
    "version": 3
   },
   "file_extension": ".py",
   "mimetype": "text/x-python",
   "name": "python",
   "nbconvert_exporter": "python",
   "pygments_lexer": "ipython3",
   "version": "3.10.6"
  },
  "orig_nbformat": 4,
  "vscode": {
   "interpreter": {
    "hash": "69eb08d3e713eff25484e90b18c01e15df779e80a0db295f9ddc53faed0455be"
   }
  }
 },
 "nbformat": 4,
 "nbformat_minor": 2
}
