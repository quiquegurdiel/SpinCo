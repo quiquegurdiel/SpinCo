{
 "cells": [
  {
   "attachments": {},
   "cell_type": "markdown",
   "metadata": {},
   "source": [
    "# Testing for E1 - using all spindles, training with all data\n",
    "fistly define the UUID of the experiment to use\n",
    "\n",
    "calculating with classical F1 to compare with our F1* in the reviewers' response"
   ]
  },
  {
   "cell_type": "code",
   "execution_count": 3,
   "metadata": {},
   "outputs": [],
   "source": [
    "experimentId=\"5388ca14-a315-4598-97c2-d44175b24937\""
   ]
  },
  {
   "cell_type": "markdown",
   "metadata": {},
   "source": [
    "-------------------------------------------------------"
   ]
  },
  {
   "cell_type": "code",
   "execution_count": 4,
   "metadata": {},
   "outputs": [],
   "source": [
    "#external libraries\n",
    "import numpy as np\n",
    "import os\n",
    "import matplotlib.pyplot as plt\n",
    "import matplotlib.colors as clt\n",
    "import plotly\n",
    "import plotly.subplots as sb\n",
    "import plotly.express as px\n",
    "import plotly.graph_objects as go\n",
    "import dotenv\n",
    "import pandas as pd\n",
    "import scipy.fft as fft\n",
    "import scipy.signal as sg\n",
    "import scipy.io as sio\n",
    "import pickle as pkl\n",
    "import xgboost as xgb\n",
    "import time\n",
    "import sklearn.metrics as skm\n",
    "\n",
    "#project library\n",
    "from spinco import *\n",
    "\n",
    "#environment variables\n",
    "dotenv.load_dotenv('lab.env')\n",
    "\n",
    "#project variables\n",
    "datapath=os.environ['DATAPATH']\n",
    "cognipath=datapath+\"\\\\COGNITION\"\n",
    "dreamspath=datapath+\"\\\\DREAMS\"\n",
    "masspath=datapath+\"\\\\MASS\"\n"
   ]
  },
  {
   "cell_type": "markdown",
   "metadata": {},
   "source": [
    "## Overrride metrics to do classical F1 instead of F1*"
   ]
  },
  {
   "cell_type": "code",
   "execution_count": 5,
   "metadata": {},
   "outputs": [],
   "source": [
    "def annotationPairToMetrics(annotations,detections,thresIoU=0.3):\n",
    "    #get the coords\n",
    "    gtCoords=zip(annotations.startInd,annotations.stopInd)\n",
    "    outCoords=zip(detections.startInd,detections.stopInd)\n",
    "    #calculate the iou vector\n",
    "    iouVector=np.array(list(itt.starmap(getIou,itt.product(gtCoords,outCoords))))\n",
    "    #reshape to a matrix\n",
    "    iouMatrix=iouVector.reshape(len(annotations),len(detections))\n",
    "    #binarize\n",
    "    binarized=iouMatrix>thresIoU\n",
    "    #calculateF1 the old way\n",
    "    N=len(annotations)\n",
    "    M=len(detections)\n",
    "    TP=np.sum(np.max(binarized,axis=0))\n",
    "    FN=N-TP\n",
    "    FP=M-TP\n",
    "\n",
    "    outF1=(2*TP)/(2*TP+FN+FP)\n",
    "    recall=TP/N\n",
    "    precision=TP/M\n",
    "\n",
    "    #calculateF1*\n",
    "    \"\"\" outF1=(np.sum(np.max(binarized,axis=0))+np.sum(np.max(binarized,axis=1)))/(len(annotations)+len(detections))\n",
    "    recall=np.sum(np.max(binarized,axis=1))/len(annotations)\n",
    "    precision=np.sum(np.max(binarized,axis=0))/len(detections) \"\"\"\n",
    "    return outF1,recall,precision"
   ]
  },
  {
   "cell_type": "markdown",
   "metadata": {},
   "source": [
    "## load mass"
   ]
  },
  {
   "cell_type": "code",
   "execution_count": 6,
   "metadata": {},
   "outputs": [],
   "source": [
    "samplerate=200  #Should rethink this"
   ]
  },
  {
   "cell_type": "code",
   "execution_count": 7,
   "metadata": {},
   "outputs": [],
   "source": [
    "annotations, signalsMetadata = loadMASSSpindles(masspath,forceSamplerate=samplerate)"
   ]
  },
  {
   "cell_type": "code",
   "execution_count": 8,
   "metadata": {},
   "outputs": [],
   "source": [
    "#consider to include this in a function\n",
    "minDuration=0.3\n",
    "maxDuration=5\n",
    "annotations=annotations[annotations.type=='spindle']\n",
    "annotations=annotations[annotations.duration>minDuration]\n",
    "annotations=annotations[annotations.duration<maxDuration]\n",
    "annotations=annotations.reset_index(drop=True)"
   ]
  },
  {
   "cell_type": "code",
   "execution_count": 9,
   "metadata": {},
   "outputs": [
    {
     "name": "stdout",
     "output_type": "stream",
     "text": [
      "0.005648873214178951\n"
     ]
    }
   ],
   "source": [
    "#check with EDA results (not needed)\n",
    "print(1-len(annotations)/33458)"
   ]
  },
  {
   "cell_type": "code",
   "execution_count": 10,
   "metadata": {},
   "outputs": [
    {
     "data": {
      "text/html": [
       "<div>\n",
       "<style scoped>\n",
       "    .dataframe tbody tr th:only-of-type {\n",
       "        vertical-align: middle;\n",
       "    }\n",
       "\n",
       "    .dataframe tbody tr th {\n",
       "        vertical-align: top;\n",
       "    }\n",
       "\n",
       "    .dataframe thead th {\n",
       "        text-align: right;\n",
       "    }\n",
       "</style>\n",
       "<table border=\"1\" class=\"dataframe\">\n",
       "  <thead>\n",
       "    <tr style=\"text-align: right;\">\n",
       "      <th></th>\n",
       "      <th>type</th>\n",
       "      <th>expert</th>\n",
       "      <th>subjectId</th>\n",
       "      <th>labelerId</th>\n",
       "      <th>startTime</th>\n",
       "      <th>duration</th>\n",
       "      <th>samplerate</th>\n",
       "      <th>stopTime</th>\n",
       "      <th>startInd</th>\n",
       "      <th>stopInd</th>\n",
       "    </tr>\n",
       "  </thead>\n",
       "  <tbody>\n",
       "    <tr>\n",
       "      <th>0</th>\n",
       "      <td>spindle</td>\n",
       "      <td>E1</td>\n",
       "      <td>0001</td>\n",
       "      <td>0001</td>\n",
       "      <td>888.327805</td>\n",
       "      <td>0.640579</td>\n",
       "      <td>200</td>\n",
       "      <td>888.968384</td>\n",
       "      <td>177666</td>\n",
       "      <td>177794</td>\n",
       "    </tr>\n",
       "    <tr>\n",
       "      <th>1</th>\n",
       "      <td>spindle</td>\n",
       "      <td>E1</td>\n",
       "      <td>0001</td>\n",
       "      <td>0001</td>\n",
       "      <td>905.758061</td>\n",
       "      <td>0.578094</td>\n",
       "      <td>200</td>\n",
       "      <td>906.336155</td>\n",
       "      <td>181152</td>\n",
       "      <td>181267</td>\n",
       "    </tr>\n",
       "    <tr>\n",
       "      <th>2</th>\n",
       "      <td>spindle</td>\n",
       "      <td>E1</td>\n",
       "      <td>0001</td>\n",
       "      <td>0001</td>\n",
       "      <td>917.731574</td>\n",
       "      <td>0.847603</td>\n",
       "      <td>200</td>\n",
       "      <td>918.579177</td>\n",
       "      <td>183546</td>\n",
       "      <td>183716</td>\n",
       "    </tr>\n",
       "    <tr>\n",
       "      <th>3</th>\n",
       "      <td>spindle</td>\n",
       "      <td>E1</td>\n",
       "      <td>0001</td>\n",
       "      <td>0001</td>\n",
       "      <td>922.078189</td>\n",
       "      <td>0.878845</td>\n",
       "      <td>200</td>\n",
       "      <td>922.957034</td>\n",
       "      <td>184416</td>\n",
       "      <td>184591</td>\n",
       "    </tr>\n",
       "    <tr>\n",
       "      <th>4</th>\n",
       "      <td>spindle</td>\n",
       "      <td>E1</td>\n",
       "      <td>0001</td>\n",
       "      <td>0001</td>\n",
       "      <td>939.055445</td>\n",
       "      <td>0.757767</td>\n",
       "      <td>200</td>\n",
       "      <td>939.813212</td>\n",
       "      <td>187811</td>\n",
       "      <td>187963</td>\n",
       "    </tr>\n",
       "  </tbody>\n",
       "</table>\n",
       "</div>"
      ],
      "text/plain": [
       "      type expert subjectId labelerId   startTime  duration  samplerate  \\\n",
       "0  spindle     E1      0001      0001  888.327805  0.640579         200   \n",
       "1  spindle     E1      0001      0001  905.758061  0.578094         200   \n",
       "2  spindle     E1      0001      0001  917.731574  0.847603         200   \n",
       "3  spindle     E1      0001      0001  922.078189  0.878845         200   \n",
       "4  spindle     E1      0001      0001  939.055445  0.757767         200   \n",
       "\n",
       "     stopTime  startInd  stopInd  \n",
       "0  888.968384    177666   177794  \n",
       "1  906.336155    181152   181267  \n",
       "2  918.579177    183546   183716  \n",
       "3  922.957034    184416   184591  \n",
       "4  939.813212    187811   187963  "
      ]
     },
     "execution_count": 10,
     "metadata": {},
     "output_type": "execute_result"
    }
   ],
   "source": [
    "annotations.head()"
   ]
  },
  {
   "cell_type": "code",
   "execution_count": 11,
   "metadata": {},
   "outputs": [
    {
     "data": {
      "text/html": [
       "<div>\n",
       "<style scoped>\n",
       "    .dataframe tbody tr th:only-of-type {\n",
       "        vertical-align: middle;\n",
       "    }\n",
       "\n",
       "    .dataframe tbody tr th {\n",
       "        vertical-align: top;\n",
       "    }\n",
       "\n",
       "    .dataframe thead th {\n",
       "        text-align: right;\n",
       "    }\n",
       "</style>\n",
       "<table border=\"1\" class=\"dataframe\">\n",
       "  <thead>\n",
       "    <tr style=\"text-align: right;\">\n",
       "      <th></th>\n",
       "      <th>subjectId</th>\n",
       "      <th>file</th>\n",
       "      <th>channel</th>\n",
       "      <th>duration</th>\n",
       "      <th>samplerate</th>\n",
       "      <th>isOriginalSamplerate</th>\n",
       "      <th>database</th>\n",
       "    </tr>\n",
       "  </thead>\n",
       "  <tbody>\n",
       "    <tr>\n",
       "      <th>0</th>\n",
       "      <td>0001</td>\n",
       "      <td>MASS_0001.pkl</td>\n",
       "      <td>C3-CLE</td>\n",
       "      <td>28956.0</td>\n",
       "      <td>200</td>\n",
       "      <td>False</td>\n",
       "      <td>MASS</td>\n",
       "    </tr>\n",
       "    <tr>\n",
       "      <th>1</th>\n",
       "      <td>0002</td>\n",
       "      <td>MASS_0002.pkl</td>\n",
       "      <td>C3-CLE</td>\n",
       "      <td>35016.0</td>\n",
       "      <td>200</td>\n",
       "      <td>False</td>\n",
       "      <td>MASS</td>\n",
       "    </tr>\n",
       "    <tr>\n",
       "      <th>2</th>\n",
       "      <td>0003</td>\n",
       "      <td>MASS_0003.pkl</td>\n",
       "      <td>C3-CLE</td>\n",
       "      <td>36760.0</td>\n",
       "      <td>200</td>\n",
       "      <td>False</td>\n",
       "      <td>MASS</td>\n",
       "    </tr>\n",
       "    <tr>\n",
       "      <th>3</th>\n",
       "      <td>0004</td>\n",
       "      <td>MASS_0004.pkl</td>\n",
       "      <td>C3-CLE</td>\n",
       "      <td>28004.0</td>\n",
       "      <td>200</td>\n",
       "      <td>False</td>\n",
       "      <td>MASS</td>\n",
       "    </tr>\n",
       "    <tr>\n",
       "      <th>4</th>\n",
       "      <td>0005</td>\n",
       "      <td>MASS_0005.pkl</td>\n",
       "      <td>C3-CLE</td>\n",
       "      <td>31244.0</td>\n",
       "      <td>200</td>\n",
       "      <td>False</td>\n",
       "      <td>MASS</td>\n",
       "    </tr>\n",
       "  </tbody>\n",
       "</table>\n",
       "</div>"
      ],
      "text/plain": [
       "  subjectId           file channel  duration  samplerate  \\\n",
       "0      0001  MASS_0001.pkl  C3-CLE   28956.0         200   \n",
       "1      0002  MASS_0002.pkl  C3-CLE   35016.0         200   \n",
       "2      0003  MASS_0003.pkl  C3-CLE   36760.0         200   \n",
       "3      0004  MASS_0004.pkl  C3-CLE   28004.0         200   \n",
       "4      0005  MASS_0005.pkl  C3-CLE   31244.0         200   \n",
       "\n",
       "   isOriginalSamplerate database  \n",
       "0                 False     MASS  \n",
       "1                 False     MASS  \n",
       "2                 False     MASS  \n",
       "3                 False     MASS  \n",
       "4                 False     MASS  "
      ]
     },
     "execution_count": 11,
     "metadata": {},
     "output_type": "execute_result"
    }
   ],
   "source": [
    "signalsMetadata.head()"
   ]
  },
  {
   "cell_type": "markdown",
   "metadata": {},
   "source": [
    "## Load experiment results"
   ]
  },
  {
   "cell_type": "code",
   "execution_count": 12,
   "metadata": {},
   "outputs": [],
   "source": [
    "experimentModels, featureSelection = loadExperiment(experimentId,datapath)"
   ]
  },
  {
   "cell_type": "code",
   "execution_count": 13,
   "metadata": {},
   "outputs": [
    {
     "data": {
      "text/html": [
       "<div>\n",
       "<style scoped>\n",
       "    .dataframe tbody tr th:only-of-type {\n",
       "        vertical-align: middle;\n",
       "    }\n",
       "\n",
       "    .dataframe tbody tr th {\n",
       "        vertical-align: top;\n",
       "    }\n",
       "\n",
       "    .dataframe thead th {\n",
       "        text-align: right;\n",
       "    }\n",
       "</style>\n",
       "<table border=\"1\" class=\"dataframe\">\n",
       "  <thead>\n",
       "    <tr style=\"text-align: right;\">\n",
       "      <th></th>\n",
       "      <th>criteriumId</th>\n",
       "      <th>criteriumName</th>\n",
       "      <th>labelerIdList</th>\n",
       "      <th>train</th>\n",
       "      <th>val</th>\n",
       "      <th>test</th>\n",
       "      <th>modelId</th>\n",
       "      <th>spindleTimeRate</th>\n",
       "    </tr>\n",
       "  </thead>\n",
       "  <tbody>\n",
       "    <tr>\n",
       "      <th>0</th>\n",
       "      <td>0001</td>\n",
       "      <td>E1</td>\n",
       "      <td>[0001]</td>\n",
       "      <td>[0003, 0005, 0007, 0009, 0010, 0011, 0012, 001...</td>\n",
       "      <td>[0017, 0002, 0006]</td>\n",
       "      <td>0001</td>\n",
       "      <td>d51d037b-304a-48df-970e-58aac592ac87</td>\n",
       "      <td>0.018639</td>\n",
       "    </tr>\n",
       "    <tr>\n",
       "      <th>1</th>\n",
       "      <td>0001</td>\n",
       "      <td>E1</td>\n",
       "      <td>[0001]</td>\n",
       "      <td>[0001, 0003, 0005, 0007, 0009, 0010, 0011, 001...</td>\n",
       "      <td>[0006, 0013, 0019]</td>\n",
       "      <td>0002</td>\n",
       "      <td>50ebd176-f601-4f02-bcd5-e0c07a362a35</td>\n",
       "      <td>0.020055</td>\n",
       "    </tr>\n",
       "    <tr>\n",
       "      <th>2</th>\n",
       "      <td>0001</td>\n",
       "      <td>E1</td>\n",
       "      <td>[0001]</td>\n",
       "      <td>[0002, 0005, 0007, 0009, 0010, 0011, 0012, 001...</td>\n",
       "      <td>[0013, 0006, 0001]</td>\n",
       "      <td>0003</td>\n",
       "      <td>ad0e1cc1-5a53-45b1-b13e-ca760e58c787</td>\n",
       "      <td>0.021075</td>\n",
       "    </tr>\n",
       "    <tr>\n",
       "      <th>3</th>\n",
       "      <td>0001</td>\n",
       "      <td>E1</td>\n",
       "      <td>[0001]</td>\n",
       "      <td>[0001, 0002, 0003, 0006, 0007, 0009, 0010, 001...</td>\n",
       "      <td>[0018, 0014, 0012]</td>\n",
       "      <td>0005</td>\n",
       "      <td>953522b6-a687-4555-b7bd-64e50323f539</td>\n",
       "      <td>0.018331</td>\n",
       "    </tr>\n",
       "    <tr>\n",
       "      <th>4</th>\n",
       "      <td>0001</td>\n",
       "      <td>E1</td>\n",
       "      <td>[0001]</td>\n",
       "      <td>[0003, 0007, 0009, 0010, 0011, 0012, 0013, 001...</td>\n",
       "      <td>[0005, 0001, 0002]</td>\n",
       "      <td>0006</td>\n",
       "      <td>fdff7a52-c874-434c-b79a-4652e6521b61</td>\n",
       "      <td>0.019222</td>\n",
       "    </tr>\n",
       "    <tr>\n",
       "      <th>5</th>\n",
       "      <td>0001</td>\n",
       "      <td>E1</td>\n",
       "      <td>[0001]</td>\n",
       "      <td>[0001, 0002, 0003, 0010, 0011, 0012, 0013, 001...</td>\n",
       "      <td>[0005, 0006, 0009]</td>\n",
       "      <td>0007</td>\n",
       "      <td>a99170bc-4dc5-4b27-84df-f565c6f142c5</td>\n",
       "      <td>0.019625</td>\n",
       "    </tr>\n",
       "    <tr>\n",
       "      <th>6</th>\n",
       "      <td>0001</td>\n",
       "      <td>E1</td>\n",
       "      <td>[0001]</td>\n",
       "      <td>[0001, 0003, 0005, 0006, 0007, 0010, 0011, 001...</td>\n",
       "      <td>[0002, 0017, 0013]</td>\n",
       "      <td>0009</td>\n",
       "      <td>d4f86014-a983-4a56-940a-a53396539084</td>\n",
       "      <td>0.017824</td>\n",
       "    </tr>\n",
       "    <tr>\n",
       "      <th>7</th>\n",
       "      <td>0001</td>\n",
       "      <td>E1</td>\n",
       "      <td>[0001]</td>\n",
       "      <td>[0002, 0003, 0005, 0006, 0007, 0009, 0012, 001...</td>\n",
       "      <td>[0017, 0001, 0011]</td>\n",
       "      <td>0010</td>\n",
       "      <td>b9ba925c-8862-41ae-85ac-87efe667dc99</td>\n",
       "      <td>0.017542</td>\n",
       "    </tr>\n",
       "    <tr>\n",
       "      <th>8</th>\n",
       "      <td>0001</td>\n",
       "      <td>E1</td>\n",
       "      <td>[0001]</td>\n",
       "      <td>[0001, 0003, 0005, 0006, 0009, 0010, 0012, 001...</td>\n",
       "      <td>[0002, 0018, 0007]</td>\n",
       "      <td>0011</td>\n",
       "      <td>9a796814-2401-4dbb-811c-695c7c0888bb</td>\n",
       "      <td>0.015442</td>\n",
       "    </tr>\n",
       "    <tr>\n",
       "      <th>9</th>\n",
       "      <td>0001</td>\n",
       "      <td>E1</td>\n",
       "      <td>[0001]</td>\n",
       "      <td>[0002, 0003, 0005, 0006, 0009, 0011, 0013, 001...</td>\n",
       "      <td>[0001, 0007, 0010]</td>\n",
       "      <td>0012</td>\n",
       "      <td>3be685c1-02ea-4a2f-8478-ca265ccc3196</td>\n",
       "      <td>0.016460</td>\n",
       "    </tr>\n",
       "    <tr>\n",
       "      <th>10</th>\n",
       "      <td>0001</td>\n",
       "      <td>E1</td>\n",
       "      <td>[0001]</td>\n",
       "      <td>[0002, 0003, 0005, 0006, 0007, 0010, 0011, 001...</td>\n",
       "      <td>[0009, 0001, 0012]</td>\n",
       "      <td>0013</td>\n",
       "      <td>016159f4-e171-4f6e-a510-0e5e140f8929</td>\n",
       "      <td>0.017297</td>\n",
       "    </tr>\n",
       "    <tr>\n",
       "      <th>11</th>\n",
       "      <td>0001</td>\n",
       "      <td>E1</td>\n",
       "      <td>[0001]</td>\n",
       "      <td>[0001, 0002, 0003, 0005, 0006, 0007, 0009, 001...</td>\n",
       "      <td>[0010, 0012, 0011]</td>\n",
       "      <td>0014</td>\n",
       "      <td>da40a91f-c09e-4752-899f-0d848fc48c20</td>\n",
       "      <td>0.017868</td>\n",
       "    </tr>\n",
       "    <tr>\n",
       "      <th>12</th>\n",
       "      <td>0001</td>\n",
       "      <td>E1</td>\n",
       "      <td>[0001]</td>\n",
       "      <td>[0002, 0003, 0005, 0006, 0007, 0009, 0011, 001...</td>\n",
       "      <td>[0010, 0018, 0001]</td>\n",
       "      <td>0017</td>\n",
       "      <td>c30b34f2-52b8-47af-9309-81c72f52ea3d</td>\n",
       "      <td>0.016504</td>\n",
       "    </tr>\n",
       "    <tr>\n",
       "      <th>13</th>\n",
       "      <td>0001</td>\n",
       "      <td>E1</td>\n",
       "      <td>[0001]</td>\n",
       "      <td>[0001, 0002, 0005, 0006, 0007, 0010, 0011, 001...</td>\n",
       "      <td>[0012, 0003, 0009]</td>\n",
       "      <td>0018</td>\n",
       "      <td>63920ef1-b7bd-453c-af1b-c87e2c3f9ad0</td>\n",
       "      <td>0.018626</td>\n",
       "    </tr>\n",
       "    <tr>\n",
       "      <th>14</th>\n",
       "      <td>0001</td>\n",
       "      <td>E1</td>\n",
       "      <td>[0001]</td>\n",
       "      <td>[0001, 0002, 0005, 0007, 0009, 0010, 0011, 001...</td>\n",
       "      <td>[0014, 0006, 0003]</td>\n",
       "      <td>0019</td>\n",
       "      <td>73a45ddb-cbce-44c1-8ed8-007d5677989f</td>\n",
       "      <td>0.022439</td>\n",
       "    </tr>\n",
       "    <tr>\n",
       "      <th>15</th>\n",
       "      <td>0002</td>\n",
       "      <td>E2</td>\n",
       "      <td>[0002]</td>\n",
       "      <td>[0003, 0005, 0007, 0009, 0010, 0011, 0012, 001...</td>\n",
       "      <td>[0017, 0002, 0006]</td>\n",
       "      <td>0001</td>\n",
       "      <td>e1d4b905-b790-4fe9-8a43-59b76a36b9dd</td>\n",
       "      <td>0.056746</td>\n",
       "    </tr>\n",
       "    <tr>\n",
       "      <th>16</th>\n",
       "      <td>0002</td>\n",
       "      <td>E2</td>\n",
       "      <td>[0002]</td>\n",
       "      <td>[0001, 0003, 0005, 0007, 0009, 0010, 0011, 001...</td>\n",
       "      <td>[0006, 0013, 0019]</td>\n",
       "      <td>0002</td>\n",
       "      <td>c1f62253-8dcf-4cc8-8b95-bde893a5a09e</td>\n",
       "      <td>0.061232</td>\n",
       "    </tr>\n",
       "    <tr>\n",
       "      <th>17</th>\n",
       "      <td>0002</td>\n",
       "      <td>E2</td>\n",
       "      <td>[0002]</td>\n",
       "      <td>[0002, 0005, 0007, 0009, 0010, 0011, 0012, 001...</td>\n",
       "      <td>[0013, 0006, 0001]</td>\n",
       "      <td>0003</td>\n",
       "      <td>4f00824a-e500-4ad5-8aec-b8f5322c821a</td>\n",
       "      <td>0.063062</td>\n",
       "    </tr>\n",
       "    <tr>\n",
       "      <th>18</th>\n",
       "      <td>0002</td>\n",
       "      <td>E2</td>\n",
       "      <td>[0002]</td>\n",
       "      <td>[0001, 0002, 0003, 0006, 0007, 0009, 0010, 001...</td>\n",
       "      <td>[0018, 0014, 0012]</td>\n",
       "      <td>0005</td>\n",
       "      <td>b729b67d-261b-41e9-8555-a5749e35811e</td>\n",
       "      <td>0.061716</td>\n",
       "    </tr>\n",
       "    <tr>\n",
       "      <th>19</th>\n",
       "      <td>0002</td>\n",
       "      <td>E2</td>\n",
       "      <td>[0002]</td>\n",
       "      <td>[0003, 0007, 0009, 0010, 0011, 0012, 0013, 001...</td>\n",
       "      <td>[0005, 0001, 0002]</td>\n",
       "      <td>0006</td>\n",
       "      <td>d084f1f0-06ef-468e-b82e-16b5f96fdc69</td>\n",
       "      <td>0.058705</td>\n",
       "    </tr>\n",
       "    <tr>\n",
       "      <th>20</th>\n",
       "      <td>0002</td>\n",
       "      <td>E2</td>\n",
       "      <td>[0002]</td>\n",
       "      <td>[0001, 0002, 0003, 0010, 0011, 0012, 0013, 001...</td>\n",
       "      <td>[0005, 0006, 0009]</td>\n",
       "      <td>0007</td>\n",
       "      <td>e4a48e65-6ade-4c80-a360-abf73bd39eeb</td>\n",
       "      <td>0.061530</td>\n",
       "    </tr>\n",
       "    <tr>\n",
       "      <th>21</th>\n",
       "      <td>0002</td>\n",
       "      <td>E2</td>\n",
       "      <td>[0002]</td>\n",
       "      <td>[0001, 0003, 0005, 0006, 0007, 0010, 0011, 001...</td>\n",
       "      <td>[0002, 0017, 0013]</td>\n",
       "      <td>0009</td>\n",
       "      <td>1eca4001-1d4f-4d59-b1de-1b02a0d6f95f</td>\n",
       "      <td>0.055908</td>\n",
       "    </tr>\n",
       "    <tr>\n",
       "      <th>22</th>\n",
       "      <td>0002</td>\n",
       "      <td>E2</td>\n",
       "      <td>[0002]</td>\n",
       "      <td>[0002, 0003, 0005, 0006, 0007, 0009, 0012, 001...</td>\n",
       "      <td>[0017, 0001, 0011]</td>\n",
       "      <td>0010</td>\n",
       "      <td>c35d7164-a086-4277-899c-731c13b90a75</td>\n",
       "      <td>0.052347</td>\n",
       "    </tr>\n",
       "    <tr>\n",
       "      <th>23</th>\n",
       "      <td>0002</td>\n",
       "      <td>E2</td>\n",
       "      <td>[0002]</td>\n",
       "      <td>[0001, 0003, 0005, 0006, 0009, 0010, 0012, 001...</td>\n",
       "      <td>[0002, 0018, 0007]</td>\n",
       "      <td>0011</td>\n",
       "      <td>d610a0a1-aae2-46e6-b31e-a91cb6c987fe</td>\n",
       "      <td>0.054834</td>\n",
       "    </tr>\n",
       "    <tr>\n",
       "      <th>24</th>\n",
       "      <td>0002</td>\n",
       "      <td>E2</td>\n",
       "      <td>[0002]</td>\n",
       "      <td>[0002, 0003, 0005, 0006, 0009, 0011, 0013, 001...</td>\n",
       "      <td>[0001, 0007, 0010]</td>\n",
       "      <td>0012</td>\n",
       "      <td>58ce72d9-8af2-4491-8cb9-99536ad462a1</td>\n",
       "      <td>0.053001</td>\n",
       "    </tr>\n",
       "    <tr>\n",
       "      <th>25</th>\n",
       "      <td>0002</td>\n",
       "      <td>E2</td>\n",
       "      <td>[0002]</td>\n",
       "      <td>[0002, 0003, 0005, 0006, 0007, 0010, 0011, 001...</td>\n",
       "      <td>[0009, 0001, 0012]</td>\n",
       "      <td>0013</td>\n",
       "      <td>b0dc28a7-8906-48a2-9333-829d89d4da08</td>\n",
       "      <td>0.055095</td>\n",
       "    </tr>\n",
       "    <tr>\n",
       "      <th>26</th>\n",
       "      <td>0002</td>\n",
       "      <td>E2</td>\n",
       "      <td>[0002]</td>\n",
       "      <td>[0001, 0002, 0003, 0005, 0006, 0007, 0009, 001...</td>\n",
       "      <td>[0010, 0012, 0011]</td>\n",
       "      <td>0014</td>\n",
       "      <td>54cb709f-d446-42be-9fd1-06990c8afe3f</td>\n",
       "      <td>0.055557</td>\n",
       "    </tr>\n",
       "    <tr>\n",
       "      <th>27</th>\n",
       "      <td>0002</td>\n",
       "      <td>E2</td>\n",
       "      <td>[0002]</td>\n",
       "      <td>[0002, 0003, 0005, 0006, 0007, 0009, 0011, 001...</td>\n",
       "      <td>[0010, 0018, 0001]</td>\n",
       "      <td>0017</td>\n",
       "      <td>16ad2dbe-89ae-49a8-bb50-2fe8808350e1</td>\n",
       "      <td>0.053827</td>\n",
       "    </tr>\n",
       "    <tr>\n",
       "      <th>28</th>\n",
       "      <td>0002</td>\n",
       "      <td>E2</td>\n",
       "      <td>[0002]</td>\n",
       "      <td>[0001, 0002, 0005, 0006, 0007, 0010, 0011, 001...</td>\n",
       "      <td>[0012, 0003, 0009]</td>\n",
       "      <td>0018</td>\n",
       "      <td>b98204bb-7019-427e-a9f2-a672dfd87243</td>\n",
       "      <td>0.064234</td>\n",
       "    </tr>\n",
       "    <tr>\n",
       "      <th>29</th>\n",
       "      <td>0002</td>\n",
       "      <td>E2</td>\n",
       "      <td>[0002]</td>\n",
       "      <td>[0001, 0002, 0005, 0007, 0009, 0010, 0011, 001...</td>\n",
       "      <td>[0014, 0006, 0003]</td>\n",
       "      <td>0019</td>\n",
       "      <td>48b09ab7-ec21-48fa-ae25-c197b95a7389</td>\n",
       "      <td>0.067005</td>\n",
       "    </tr>\n",
       "    <tr>\n",
       "      <th>30</th>\n",
       "      <td>0003</td>\n",
       "      <td>union</td>\n",
       "      <td>[0001, 0002]</td>\n",
       "      <td>[0003, 0005, 0007, 0009, 0010, 0011, 0012, 001...</td>\n",
       "      <td>[0017, 0002, 0006]</td>\n",
       "      <td>0001</td>\n",
       "      <td>9cedf9b5-f416-46fa-891e-6a2523b52a9f</td>\n",
       "      <td>0.058222</td>\n",
       "    </tr>\n",
       "    <tr>\n",
       "      <th>31</th>\n",
       "      <td>0003</td>\n",
       "      <td>union</td>\n",
       "      <td>[0001, 0002]</td>\n",
       "      <td>[0001, 0003, 0005, 0007, 0009, 0010, 0011, 001...</td>\n",
       "      <td>[0006, 0013, 0019]</td>\n",
       "      <td>0002</td>\n",
       "      <td>419082ff-579d-4c40-8bf9-af2910a2b0fb</td>\n",
       "      <td>0.062674</td>\n",
       "    </tr>\n",
       "    <tr>\n",
       "      <th>32</th>\n",
       "      <td>0003</td>\n",
       "      <td>union</td>\n",
       "      <td>[0001, 0002]</td>\n",
       "      <td>[0002, 0005, 0007, 0009, 0010, 0011, 0012, 001...</td>\n",
       "      <td>[0013, 0006, 0001]</td>\n",
       "      <td>0003</td>\n",
       "      <td>b2a52ca6-e72b-4036-a3e6-13bed65c515a</td>\n",
       "      <td>0.064574</td>\n",
       "    </tr>\n",
       "    <tr>\n",
       "      <th>33</th>\n",
       "      <td>0003</td>\n",
       "      <td>union</td>\n",
       "      <td>[0001, 0002]</td>\n",
       "      <td>[0001, 0002, 0003, 0006, 0007, 0009, 0010, 001...</td>\n",
       "      <td>[0018, 0014, 0012]</td>\n",
       "      <td>0005</td>\n",
       "      <td>11dc251c-c390-4386-b34e-3386e80766d8</td>\n",
       "      <td>0.062626</td>\n",
       "    </tr>\n",
       "    <tr>\n",
       "      <th>34</th>\n",
       "      <td>0003</td>\n",
       "      <td>union</td>\n",
       "      <td>[0001, 0002]</td>\n",
       "      <td>[0003, 0007, 0009, 0010, 0011, 0012, 0013, 001...</td>\n",
       "      <td>[0005, 0001, 0002]</td>\n",
       "      <td>0006</td>\n",
       "      <td>2b0e3f05-e6d5-4244-a6a5-1ffdf7b1c231</td>\n",
       "      <td>0.060214</td>\n",
       "    </tr>\n",
       "    <tr>\n",
       "      <th>35</th>\n",
       "      <td>0003</td>\n",
       "      <td>union</td>\n",
       "      <td>[0001, 0002]</td>\n",
       "      <td>[0001, 0002, 0003, 0010, 0011, 0012, 0013, 001...</td>\n",
       "      <td>[0005, 0006, 0009]</td>\n",
       "      <td>0007</td>\n",
       "      <td>0d2db240-f78e-42ec-ad10-73d7573a360f</td>\n",
       "      <td>0.062749</td>\n",
       "    </tr>\n",
       "    <tr>\n",
       "      <th>36</th>\n",
       "      <td>0003</td>\n",
       "      <td>union</td>\n",
       "      <td>[0001, 0002]</td>\n",
       "      <td>[0001, 0003, 0005, 0006, 0007, 0010, 0011, 001...</td>\n",
       "      <td>[0002, 0017, 0013]</td>\n",
       "      <td>0009</td>\n",
       "      <td>0bbe572e-58e1-424d-a5b9-f9e56636a7cb</td>\n",
       "      <td>0.057242</td>\n",
       "    </tr>\n",
       "    <tr>\n",
       "      <th>37</th>\n",
       "      <td>0003</td>\n",
       "      <td>union</td>\n",
       "      <td>[0001, 0002]</td>\n",
       "      <td>[0002, 0003, 0005, 0006, 0007, 0009, 0012, 001...</td>\n",
       "      <td>[0017, 0001, 0011]</td>\n",
       "      <td>0010</td>\n",
       "      <td>eaf63c9f-1bfc-4a78-8b3f-c1784e874e25</td>\n",
       "      <td>0.053738</td>\n",
       "    </tr>\n",
       "    <tr>\n",
       "      <th>38</th>\n",
       "      <td>0003</td>\n",
       "      <td>union</td>\n",
       "      <td>[0001, 0002]</td>\n",
       "      <td>[0001, 0003, 0005, 0006, 0009, 0010, 0012, 001...</td>\n",
       "      <td>[0002, 0018, 0007]</td>\n",
       "      <td>0011</td>\n",
       "      <td>411b5f19-10dc-4be1-9415-71e876105cf1</td>\n",
       "      <td>0.055615</td>\n",
       "    </tr>\n",
       "    <tr>\n",
       "      <th>39</th>\n",
       "      <td>0003</td>\n",
       "      <td>union</td>\n",
       "      <td>[0001, 0002]</td>\n",
       "      <td>[0002, 0003, 0005, 0006, 0009, 0011, 0013, 001...</td>\n",
       "      <td>[0001, 0007, 0010]</td>\n",
       "      <td>0012</td>\n",
       "      <td>cfa038f1-9745-41fd-abf6-933abdf57a1f</td>\n",
       "      <td>0.054077</td>\n",
       "    </tr>\n",
       "    <tr>\n",
       "      <th>40</th>\n",
       "      <td>0003</td>\n",
       "      <td>union</td>\n",
       "      <td>[0001, 0002]</td>\n",
       "      <td>[0002, 0003, 0005, 0006, 0007, 0010, 0011, 001...</td>\n",
       "      <td>[0009, 0001, 0012]</td>\n",
       "      <td>0013</td>\n",
       "      <td>d95899b2-a5a8-44a2-b4dc-2193d5784ed0</td>\n",
       "      <td>0.056330</td>\n",
       "    </tr>\n",
       "    <tr>\n",
       "      <th>41</th>\n",
       "      <td>0003</td>\n",
       "      <td>union</td>\n",
       "      <td>[0001, 0002]</td>\n",
       "      <td>[0001, 0002, 0003, 0005, 0006, 0007, 0009, 001...</td>\n",
       "      <td>[0010, 0012, 0011]</td>\n",
       "      <td>0014</td>\n",
       "      <td>72390861-ab7f-4290-83c7-85f4acb6ae22</td>\n",
       "      <td>0.056786</td>\n",
       "    </tr>\n",
       "    <tr>\n",
       "      <th>42</th>\n",
       "      <td>0003</td>\n",
       "      <td>union</td>\n",
       "      <td>[0001, 0002]</td>\n",
       "      <td>[0002, 0003, 0005, 0006, 0007, 0009, 0011, 001...</td>\n",
       "      <td>[0010, 0018, 0001]</td>\n",
       "      <td>0017</td>\n",
       "      <td>037adb79-69e1-4ffe-8b40-d5d93d0725d1</td>\n",
       "      <td>0.054840</td>\n",
       "    </tr>\n",
       "    <tr>\n",
       "      <th>43</th>\n",
       "      <td>0003</td>\n",
       "      <td>union</td>\n",
       "      <td>[0001, 0002]</td>\n",
       "      <td>[0001, 0002, 0005, 0006, 0007, 0010, 0011, 001...</td>\n",
       "      <td>[0012, 0003, 0009]</td>\n",
       "      <td>0018</td>\n",
       "      <td>3ddc8f70-bc1f-4400-b785-160139a114cf</td>\n",
       "      <td>0.065145</td>\n",
       "    </tr>\n",
       "    <tr>\n",
       "      <th>44</th>\n",
       "      <td>0003</td>\n",
       "      <td>union</td>\n",
       "      <td>[0001, 0002]</td>\n",
       "      <td>[0001, 0002, 0005, 0007, 0009, 0010, 0011, 001...</td>\n",
       "      <td>[0014, 0006, 0003]</td>\n",
       "      <td>0019</td>\n",
       "      <td>aa96186a-6412-4c5b-b167-abae09300bfa</td>\n",
       "      <td>0.068526</td>\n",
       "    </tr>\n",
       "  </tbody>\n",
       "</table>\n",
       "</div>"
      ],
      "text/plain": [
       "   criteriumId criteriumName labelerIdList  \\\n",
       "0         0001            E1        [0001]   \n",
       "1         0001            E1        [0001]   \n",
       "2         0001            E1        [0001]   \n",
       "3         0001            E1        [0001]   \n",
       "4         0001            E1        [0001]   \n",
       "5         0001            E1        [0001]   \n",
       "6         0001            E1        [0001]   \n",
       "7         0001            E1        [0001]   \n",
       "8         0001            E1        [0001]   \n",
       "9         0001            E1        [0001]   \n",
       "10        0001            E1        [0001]   \n",
       "11        0001            E1        [0001]   \n",
       "12        0001            E1        [0001]   \n",
       "13        0001            E1        [0001]   \n",
       "14        0001            E1        [0001]   \n",
       "15        0002            E2        [0002]   \n",
       "16        0002            E2        [0002]   \n",
       "17        0002            E2        [0002]   \n",
       "18        0002            E2        [0002]   \n",
       "19        0002            E2        [0002]   \n",
       "20        0002            E2        [0002]   \n",
       "21        0002            E2        [0002]   \n",
       "22        0002            E2        [0002]   \n",
       "23        0002            E2        [0002]   \n",
       "24        0002            E2        [0002]   \n",
       "25        0002            E2        [0002]   \n",
       "26        0002            E2        [0002]   \n",
       "27        0002            E2        [0002]   \n",
       "28        0002            E2        [0002]   \n",
       "29        0002            E2        [0002]   \n",
       "30        0003         union  [0001, 0002]   \n",
       "31        0003         union  [0001, 0002]   \n",
       "32        0003         union  [0001, 0002]   \n",
       "33        0003         union  [0001, 0002]   \n",
       "34        0003         union  [0001, 0002]   \n",
       "35        0003         union  [0001, 0002]   \n",
       "36        0003         union  [0001, 0002]   \n",
       "37        0003         union  [0001, 0002]   \n",
       "38        0003         union  [0001, 0002]   \n",
       "39        0003         union  [0001, 0002]   \n",
       "40        0003         union  [0001, 0002]   \n",
       "41        0003         union  [0001, 0002]   \n",
       "42        0003         union  [0001, 0002]   \n",
       "43        0003         union  [0001, 0002]   \n",
       "44        0003         union  [0001, 0002]   \n",
       "\n",
       "                                                train                 val  \\\n",
       "0   [0003, 0005, 0007, 0009, 0010, 0011, 0012, 001...  [0017, 0002, 0006]   \n",
       "1   [0001, 0003, 0005, 0007, 0009, 0010, 0011, 001...  [0006, 0013, 0019]   \n",
       "2   [0002, 0005, 0007, 0009, 0010, 0011, 0012, 001...  [0013, 0006, 0001]   \n",
       "3   [0001, 0002, 0003, 0006, 0007, 0009, 0010, 001...  [0018, 0014, 0012]   \n",
       "4   [0003, 0007, 0009, 0010, 0011, 0012, 0013, 001...  [0005, 0001, 0002]   \n",
       "5   [0001, 0002, 0003, 0010, 0011, 0012, 0013, 001...  [0005, 0006, 0009]   \n",
       "6   [0001, 0003, 0005, 0006, 0007, 0010, 0011, 001...  [0002, 0017, 0013]   \n",
       "7   [0002, 0003, 0005, 0006, 0007, 0009, 0012, 001...  [0017, 0001, 0011]   \n",
       "8   [0001, 0003, 0005, 0006, 0009, 0010, 0012, 001...  [0002, 0018, 0007]   \n",
       "9   [0002, 0003, 0005, 0006, 0009, 0011, 0013, 001...  [0001, 0007, 0010]   \n",
       "10  [0002, 0003, 0005, 0006, 0007, 0010, 0011, 001...  [0009, 0001, 0012]   \n",
       "11  [0001, 0002, 0003, 0005, 0006, 0007, 0009, 001...  [0010, 0012, 0011]   \n",
       "12  [0002, 0003, 0005, 0006, 0007, 0009, 0011, 001...  [0010, 0018, 0001]   \n",
       "13  [0001, 0002, 0005, 0006, 0007, 0010, 0011, 001...  [0012, 0003, 0009]   \n",
       "14  [0001, 0002, 0005, 0007, 0009, 0010, 0011, 001...  [0014, 0006, 0003]   \n",
       "15  [0003, 0005, 0007, 0009, 0010, 0011, 0012, 001...  [0017, 0002, 0006]   \n",
       "16  [0001, 0003, 0005, 0007, 0009, 0010, 0011, 001...  [0006, 0013, 0019]   \n",
       "17  [0002, 0005, 0007, 0009, 0010, 0011, 0012, 001...  [0013, 0006, 0001]   \n",
       "18  [0001, 0002, 0003, 0006, 0007, 0009, 0010, 001...  [0018, 0014, 0012]   \n",
       "19  [0003, 0007, 0009, 0010, 0011, 0012, 0013, 001...  [0005, 0001, 0002]   \n",
       "20  [0001, 0002, 0003, 0010, 0011, 0012, 0013, 001...  [0005, 0006, 0009]   \n",
       "21  [0001, 0003, 0005, 0006, 0007, 0010, 0011, 001...  [0002, 0017, 0013]   \n",
       "22  [0002, 0003, 0005, 0006, 0007, 0009, 0012, 001...  [0017, 0001, 0011]   \n",
       "23  [0001, 0003, 0005, 0006, 0009, 0010, 0012, 001...  [0002, 0018, 0007]   \n",
       "24  [0002, 0003, 0005, 0006, 0009, 0011, 0013, 001...  [0001, 0007, 0010]   \n",
       "25  [0002, 0003, 0005, 0006, 0007, 0010, 0011, 001...  [0009, 0001, 0012]   \n",
       "26  [0001, 0002, 0003, 0005, 0006, 0007, 0009, 001...  [0010, 0012, 0011]   \n",
       "27  [0002, 0003, 0005, 0006, 0007, 0009, 0011, 001...  [0010, 0018, 0001]   \n",
       "28  [0001, 0002, 0005, 0006, 0007, 0010, 0011, 001...  [0012, 0003, 0009]   \n",
       "29  [0001, 0002, 0005, 0007, 0009, 0010, 0011, 001...  [0014, 0006, 0003]   \n",
       "30  [0003, 0005, 0007, 0009, 0010, 0011, 0012, 001...  [0017, 0002, 0006]   \n",
       "31  [0001, 0003, 0005, 0007, 0009, 0010, 0011, 001...  [0006, 0013, 0019]   \n",
       "32  [0002, 0005, 0007, 0009, 0010, 0011, 0012, 001...  [0013, 0006, 0001]   \n",
       "33  [0001, 0002, 0003, 0006, 0007, 0009, 0010, 001...  [0018, 0014, 0012]   \n",
       "34  [0003, 0007, 0009, 0010, 0011, 0012, 0013, 001...  [0005, 0001, 0002]   \n",
       "35  [0001, 0002, 0003, 0010, 0011, 0012, 0013, 001...  [0005, 0006, 0009]   \n",
       "36  [0001, 0003, 0005, 0006, 0007, 0010, 0011, 001...  [0002, 0017, 0013]   \n",
       "37  [0002, 0003, 0005, 0006, 0007, 0009, 0012, 001...  [0017, 0001, 0011]   \n",
       "38  [0001, 0003, 0005, 0006, 0009, 0010, 0012, 001...  [0002, 0018, 0007]   \n",
       "39  [0002, 0003, 0005, 0006, 0009, 0011, 0013, 001...  [0001, 0007, 0010]   \n",
       "40  [0002, 0003, 0005, 0006, 0007, 0010, 0011, 001...  [0009, 0001, 0012]   \n",
       "41  [0001, 0002, 0003, 0005, 0006, 0007, 0009, 001...  [0010, 0012, 0011]   \n",
       "42  [0002, 0003, 0005, 0006, 0007, 0009, 0011, 001...  [0010, 0018, 0001]   \n",
       "43  [0001, 0002, 0005, 0006, 0007, 0010, 0011, 001...  [0012, 0003, 0009]   \n",
       "44  [0001, 0002, 0005, 0007, 0009, 0010, 0011, 001...  [0014, 0006, 0003]   \n",
       "\n",
       "    test                               modelId  spindleTimeRate  \n",
       "0   0001  d51d037b-304a-48df-970e-58aac592ac87         0.018639  \n",
       "1   0002  50ebd176-f601-4f02-bcd5-e0c07a362a35         0.020055  \n",
       "2   0003  ad0e1cc1-5a53-45b1-b13e-ca760e58c787         0.021075  \n",
       "3   0005  953522b6-a687-4555-b7bd-64e50323f539         0.018331  \n",
       "4   0006  fdff7a52-c874-434c-b79a-4652e6521b61         0.019222  \n",
       "5   0007  a99170bc-4dc5-4b27-84df-f565c6f142c5         0.019625  \n",
       "6   0009  d4f86014-a983-4a56-940a-a53396539084         0.017824  \n",
       "7   0010  b9ba925c-8862-41ae-85ac-87efe667dc99         0.017542  \n",
       "8   0011  9a796814-2401-4dbb-811c-695c7c0888bb         0.015442  \n",
       "9   0012  3be685c1-02ea-4a2f-8478-ca265ccc3196         0.016460  \n",
       "10  0013  016159f4-e171-4f6e-a510-0e5e140f8929         0.017297  \n",
       "11  0014  da40a91f-c09e-4752-899f-0d848fc48c20         0.017868  \n",
       "12  0017  c30b34f2-52b8-47af-9309-81c72f52ea3d         0.016504  \n",
       "13  0018  63920ef1-b7bd-453c-af1b-c87e2c3f9ad0         0.018626  \n",
       "14  0019  73a45ddb-cbce-44c1-8ed8-007d5677989f         0.022439  \n",
       "15  0001  e1d4b905-b790-4fe9-8a43-59b76a36b9dd         0.056746  \n",
       "16  0002  c1f62253-8dcf-4cc8-8b95-bde893a5a09e         0.061232  \n",
       "17  0003  4f00824a-e500-4ad5-8aec-b8f5322c821a         0.063062  \n",
       "18  0005  b729b67d-261b-41e9-8555-a5749e35811e         0.061716  \n",
       "19  0006  d084f1f0-06ef-468e-b82e-16b5f96fdc69         0.058705  \n",
       "20  0007  e4a48e65-6ade-4c80-a360-abf73bd39eeb         0.061530  \n",
       "21  0009  1eca4001-1d4f-4d59-b1de-1b02a0d6f95f         0.055908  \n",
       "22  0010  c35d7164-a086-4277-899c-731c13b90a75         0.052347  \n",
       "23  0011  d610a0a1-aae2-46e6-b31e-a91cb6c987fe         0.054834  \n",
       "24  0012  58ce72d9-8af2-4491-8cb9-99536ad462a1         0.053001  \n",
       "25  0013  b0dc28a7-8906-48a2-9333-829d89d4da08         0.055095  \n",
       "26  0014  54cb709f-d446-42be-9fd1-06990c8afe3f         0.055557  \n",
       "27  0017  16ad2dbe-89ae-49a8-bb50-2fe8808350e1         0.053827  \n",
       "28  0018  b98204bb-7019-427e-a9f2-a672dfd87243         0.064234  \n",
       "29  0019  48b09ab7-ec21-48fa-ae25-c197b95a7389         0.067005  \n",
       "30  0001  9cedf9b5-f416-46fa-891e-6a2523b52a9f         0.058222  \n",
       "31  0002  419082ff-579d-4c40-8bf9-af2910a2b0fb         0.062674  \n",
       "32  0003  b2a52ca6-e72b-4036-a3e6-13bed65c515a         0.064574  \n",
       "33  0005  11dc251c-c390-4386-b34e-3386e80766d8         0.062626  \n",
       "34  0006  2b0e3f05-e6d5-4244-a6a5-1ffdf7b1c231         0.060214  \n",
       "35  0007  0d2db240-f78e-42ec-ad10-73d7573a360f         0.062749  \n",
       "36  0009  0bbe572e-58e1-424d-a5b9-f9e56636a7cb         0.057242  \n",
       "37  0010  eaf63c9f-1bfc-4a78-8b3f-c1784e874e25         0.053738  \n",
       "38  0011  411b5f19-10dc-4be1-9415-71e876105cf1         0.055615  \n",
       "39  0012  cfa038f1-9745-41fd-abf6-933abdf57a1f         0.054077  \n",
       "40  0013  d95899b2-a5a8-44a2-b4dc-2193d5784ed0         0.056330  \n",
       "41  0014  72390861-ab7f-4290-83c7-85f4acb6ae22         0.056786  \n",
       "42  0017  037adb79-69e1-4ffe-8b40-d5d93d0725d1         0.054840  \n",
       "43  0018  3ddc8f70-bc1f-4400-b785-160139a114cf         0.065145  \n",
       "44  0019  aa96186a-6412-4c5b-b167-abae09300bfa         0.068526  "
      ]
     },
     "execution_count": 13,
     "metadata": {},
     "output_type": "execute_result"
    }
   ],
   "source": [
    "experimentModels"
   ]
  },
  {
   "cell_type": "code",
   "execution_count": 14,
   "metadata": {},
   "outputs": [
    {
     "data": {
      "text/html": [
       "<div>\n",
       "<style scoped>\n",
       "    .dataframe tbody tr th:only-of-type {\n",
       "        vertical-align: middle;\n",
       "    }\n",
       "\n",
       "    .dataframe tbody tr th {\n",
       "        vertical-align: top;\n",
       "    }\n",
       "\n",
       "    .dataframe thead tr th {\n",
       "        text-align: left;\n",
       "    }\n",
       "\n",
       "    .dataframe thead tr:last-of-type th {\n",
       "        text-align: right;\n",
       "    }\n",
       "</style>\n",
       "<table border=\"1\" class=\"dataframe\">\n",
       "  <thead>\n",
       "    <tr>\n",
       "      <th></th>\n",
       "      <th colspan=\"8\" halign=\"left\">spindleTimeRate</th>\n",
       "    </tr>\n",
       "    <tr>\n",
       "      <th></th>\n",
       "      <th>count</th>\n",
       "      <th>mean</th>\n",
       "      <th>std</th>\n",
       "      <th>min</th>\n",
       "      <th>25%</th>\n",
       "      <th>50%</th>\n",
       "      <th>75%</th>\n",
       "      <th>max</th>\n",
       "    </tr>\n",
       "    <tr>\n",
       "      <th>criteriumName</th>\n",
       "      <th></th>\n",
       "      <th></th>\n",
       "      <th></th>\n",
       "      <th></th>\n",
       "      <th></th>\n",
       "      <th></th>\n",
       "      <th></th>\n",
       "      <th></th>\n",
       "    </tr>\n",
       "  </thead>\n",
       "  <tbody>\n",
       "    <tr>\n",
       "      <th>E1</th>\n",
       "      <td>15.0</td>\n",
       "      <td>0.018463</td>\n",
       "      <td>0.001834</td>\n",
       "      <td>0.015442</td>\n",
       "      <td>0.017419</td>\n",
       "      <td>0.018331</td>\n",
       "      <td>0.019424</td>\n",
       "      <td>0.022439</td>\n",
       "    </tr>\n",
       "    <tr>\n",
       "      <th>E2</th>\n",
       "      <td>15.0</td>\n",
       "      <td>0.058320</td>\n",
       "      <td>0.004520</td>\n",
       "      <td>0.052347</td>\n",
       "      <td>0.054965</td>\n",
       "      <td>0.056746</td>\n",
       "      <td>0.061623</td>\n",
       "      <td>0.067005</td>\n",
       "    </tr>\n",
       "    <tr>\n",
       "      <th>union</th>\n",
       "      <td>15.0</td>\n",
       "      <td>0.059557</td>\n",
       "      <td>0.004579</td>\n",
       "      <td>0.053738</td>\n",
       "      <td>0.055972</td>\n",
       "      <td>0.058222</td>\n",
       "      <td>0.062711</td>\n",
       "      <td>0.068526</td>\n",
       "    </tr>\n",
       "  </tbody>\n",
       "</table>\n",
       "</div>"
      ],
      "text/plain": [
       "              spindleTimeRate                                          \\\n",
       "                        count      mean       std       min       25%   \n",
       "criteriumName                                                           \n",
       "E1                       15.0  0.018463  0.001834  0.015442  0.017419   \n",
       "E2                       15.0  0.058320  0.004520  0.052347  0.054965   \n",
       "union                    15.0  0.059557  0.004579  0.053738  0.055972   \n",
       "\n",
       "                                             \n",
       "                    50%       75%       max  \n",
       "criteriumName                                \n",
       "E1             0.018331  0.019424  0.022439  \n",
       "E2             0.056746  0.061623  0.067005  \n",
       "union          0.058222  0.062711  0.068526  "
      ]
     },
     "execution_count": 14,
     "metadata": {},
     "output_type": "execute_result"
    }
   ],
   "source": [
    "#we show the difference in class inbalance for the annotation criteria considered\n",
    "experimentModels[['criteriumName','spindleTimeRate']].groupby('criteriumName').describe()"
   ]
  },
  {
   "cell_type": "code",
   "execution_count": 15,
   "metadata": {},
   "outputs": [
    {
     "data": {
      "text/html": [
       "<div>\n",
       "<style scoped>\n",
       "    .dataframe tbody tr th:only-of-type {\n",
       "        vertical-align: middle;\n",
       "    }\n",
       "\n",
       "    .dataframe tbody tr th {\n",
       "        vertical-align: top;\n",
       "    }\n",
       "\n",
       "    .dataframe thead th {\n",
       "        text-align: right;\n",
       "    }\n",
       "</style>\n",
       "<table border=\"1\" class=\"dataframe\">\n",
       "  <thead>\n",
       "    <tr style=\"text-align: right;\">\n",
       "      <th></th>\n",
       "      <th>window</th>\n",
       "      <th>characteristic</th>\n",
       "      <th>bandName</th>\n",
       "      <th>score</th>\n",
       "    </tr>\n",
       "  </thead>\n",
       "  <tbody>\n",
       "    <tr>\n",
       "      <th>0</th>\n",
       "      <td>2</td>\n",
       "      <td>hjortActivity</td>\n",
       "      <td>beta2</td>\n",
       "      <td>69.0</td>\n",
       "    </tr>\n",
       "    <tr>\n",
       "      <th>1</th>\n",
       "      <td>1</td>\n",
       "      <td>hjortActivity</td>\n",
       "      <td>sigma</td>\n",
       "      <td>63.0</td>\n",
       "    </tr>\n",
       "    <tr>\n",
       "      <th>2</th>\n",
       "      <td>2</td>\n",
       "      <td>hjortActivity</td>\n",
       "      <td>beta1</td>\n",
       "      <td>42.0</td>\n",
       "    </tr>\n",
       "    <tr>\n",
       "      <th>3</th>\n",
       "      <td>2</td>\n",
       "      <td>hjortActivity</td>\n",
       "      <td>delta2</td>\n",
       "      <td>41.0</td>\n",
       "    </tr>\n",
       "    <tr>\n",
       "      <th>4</th>\n",
       "      <td>1.5</td>\n",
       "      <td>sigmaIndex</td>\n",
       "      <td>broadband</td>\n",
       "      <td>39.0</td>\n",
       "    </tr>\n",
       "    <tr>\n",
       "      <th>5</th>\n",
       "      <td>2</td>\n",
       "      <td>sigmaIndex</td>\n",
       "      <td>broadband</td>\n",
       "      <td>39.0</td>\n",
       "    </tr>\n",
       "    <tr>\n",
       "      <th>6</th>\n",
       "      <td>2</td>\n",
       "      <td>hjortActivity</td>\n",
       "      <td>theta</td>\n",
       "      <td>38.0</td>\n",
       "    </tr>\n",
       "    <tr>\n",
       "      <th>7</th>\n",
       "      <td>2</td>\n",
       "      <td>hjortMobility</td>\n",
       "      <td>beta1</td>\n",
       "      <td>37.0</td>\n",
       "    </tr>\n",
       "    <tr>\n",
       "      <th>8</th>\n",
       "      <td>2</td>\n",
       "      <td>hjortActivity</td>\n",
       "      <td>alpha</td>\n",
       "      <td>35.0</td>\n",
       "    </tr>\n",
       "    <tr>\n",
       "      <th>9</th>\n",
       "      <td>1</td>\n",
       "      <td>sigmaIndex</td>\n",
       "      <td>broadband</td>\n",
       "      <td>34.0</td>\n",
       "    </tr>\n",
       "    <tr>\n",
       "      <th>10</th>\n",
       "      <td>2</td>\n",
       "      <td>hjortMobility</td>\n",
       "      <td>sigma</td>\n",
       "      <td>32.0</td>\n",
       "    </tr>\n",
       "    <tr>\n",
       "      <th>11</th>\n",
       "      <td>1.5</td>\n",
       "      <td>hjortActivity</td>\n",
       "      <td>beta2</td>\n",
       "      <td>30.0</td>\n",
       "    </tr>\n",
       "    <tr>\n",
       "      <th>12</th>\n",
       "      <td>2</td>\n",
       "      <td>hjortMobility</td>\n",
       "      <td>beta2</td>\n",
       "      <td>29.0</td>\n",
       "    </tr>\n",
       "    <tr>\n",
       "      <th>13</th>\n",
       "      <td>2</td>\n",
       "      <td>hjortMobility</td>\n",
       "      <td>alpha</td>\n",
       "      <td>28.0</td>\n",
       "    </tr>\n",
       "    <tr>\n",
       "      <th>14</th>\n",
       "      <td>0.5</td>\n",
       "      <td>sigmaIndex</td>\n",
       "      <td>broadband</td>\n",
       "      <td>28.0</td>\n",
       "    </tr>\n",
       "    <tr>\n",
       "      <th>15</th>\n",
       "      <td>2</td>\n",
       "      <td>hjortMobility</td>\n",
       "      <td>delta1</td>\n",
       "      <td>28.0</td>\n",
       "    </tr>\n",
       "    <tr>\n",
       "      <th>16</th>\n",
       "      <td>2</td>\n",
       "      <td>hjortActivity</td>\n",
       "      <td>sigma</td>\n",
       "      <td>27.0</td>\n",
       "    </tr>\n",
       "    <tr>\n",
       "      <th>17</th>\n",
       "      <td>2</td>\n",
       "      <td>petrosian</td>\n",
       "      <td>broadband</td>\n",
       "      <td>27.0</td>\n",
       "    </tr>\n",
       "    <tr>\n",
       "      <th>18</th>\n",
       "      <td>2</td>\n",
       "      <td>hjortActivity</td>\n",
       "      <td>broadband</td>\n",
       "      <td>26.0</td>\n",
       "    </tr>\n",
       "    <tr>\n",
       "      <th>19</th>\n",
       "      <td>1.5</td>\n",
       "      <td>hjortActivity</td>\n",
       "      <td>sigma</td>\n",
       "      <td>26.0</td>\n",
       "    </tr>\n",
       "    <tr>\n",
       "      <th>20</th>\n",
       "      <td>1.5</td>\n",
       "      <td>hjortActivity</td>\n",
       "      <td>alpha</td>\n",
       "      <td>25.0</td>\n",
       "    </tr>\n",
       "    <tr>\n",
       "      <th>21</th>\n",
       "      <td>0.5</td>\n",
       "      <td>hjortActivity</td>\n",
       "      <td>alpha</td>\n",
       "      <td>24.0</td>\n",
       "    </tr>\n",
       "    <tr>\n",
       "      <th>22</th>\n",
       "      <td>1</td>\n",
       "      <td>hjortActivity</td>\n",
       "      <td>theta</td>\n",
       "      <td>23.0</td>\n",
       "    </tr>\n",
       "    <tr>\n",
       "      <th>23</th>\n",
       "      <td>1.5</td>\n",
       "      <td>petrosian</td>\n",
       "      <td>broadband</td>\n",
       "      <td>22.0</td>\n",
       "    </tr>\n",
       "    <tr>\n",
       "      <th>24</th>\n",
       "      <td>2</td>\n",
       "      <td>hjortMobility</td>\n",
       "      <td>broadband</td>\n",
       "      <td>22.0</td>\n",
       "    </tr>\n",
       "    <tr>\n",
       "      <th>25</th>\n",
       "      <td>1.5</td>\n",
       "      <td>hjortActivity</td>\n",
       "      <td>theta</td>\n",
       "      <td>22.0</td>\n",
       "    </tr>\n",
       "  </tbody>\n",
       "</table>\n",
       "</div>"
      ],
      "text/plain": [
       "   window characteristic   bandName  score\n",
       "0       2  hjortActivity      beta2   69.0\n",
       "1       1  hjortActivity      sigma   63.0\n",
       "2       2  hjortActivity      beta1   42.0\n",
       "3       2  hjortActivity     delta2   41.0\n",
       "4     1.5     sigmaIndex  broadband   39.0\n",
       "5       2     sigmaIndex  broadband   39.0\n",
       "6       2  hjortActivity      theta   38.0\n",
       "7       2  hjortMobility      beta1   37.0\n",
       "8       2  hjortActivity      alpha   35.0\n",
       "9       1     sigmaIndex  broadband   34.0\n",
       "10      2  hjortMobility      sigma   32.0\n",
       "11    1.5  hjortActivity      beta2   30.0\n",
       "12      2  hjortMobility      beta2   29.0\n",
       "13      2  hjortMobility      alpha   28.0\n",
       "14    0.5     sigmaIndex  broadband   28.0\n",
       "15      2  hjortMobility     delta1   28.0\n",
       "16      2  hjortActivity      sigma   27.0\n",
       "17      2      petrosian  broadband   27.0\n",
       "18      2  hjortActivity  broadband   26.0\n",
       "19    1.5  hjortActivity      sigma   26.0\n",
       "20    1.5  hjortActivity      alpha   25.0\n",
       "21    0.5  hjortActivity      alpha   24.0\n",
       "22      1  hjortActivity      theta   23.0\n",
       "23    1.5      petrosian  broadband   22.0\n",
       "24      2  hjortMobility  broadband   22.0\n",
       "25    1.5  hjortActivity      theta   22.0"
      ]
     },
     "execution_count": 15,
     "metadata": {},
     "output_type": "execute_result"
    }
   ],
   "source": [
    "featureSelection"
   ]
  },
  {
   "attachments": {},
   "cell_type": "markdown",
   "metadata": {},
   "source": [
    "## Hyperparameter definition\n",
    "this should come from a previous evaluation notebook"
   ]
  },
  {
   "cell_type": "code",
   "execution_count": 16,
   "metadata": {},
   "outputs": [],
   "source": [
    "hyperClose=0.1\n",
    "hyperDuration=minDuration\n",
    "hyperThres=0.3\n",
    "hyperDepth=30"
   ]
  },
  {
   "attachments": {},
   "cell_type": "markdown",
   "metadata": {},
   "source": [
    "## Testing with E1 criterium\n",
    "we test the optimal points for the prediction threshold and number of boost iterations in the different validation groups"
   ]
  },
  {
   "cell_type": "code",
   "execution_count": 17,
   "metadata": {},
   "outputs": [
    {
     "data": {
      "text/html": [
       "<div>\n",
       "<style scoped>\n",
       "    .dataframe tbody tr th:only-of-type {\n",
       "        vertical-align: middle;\n",
       "    }\n",
       "\n",
       "    .dataframe tbody tr th {\n",
       "        vertical-align: top;\n",
       "    }\n",
       "\n",
       "    .dataframe thead th {\n",
       "        text-align: right;\n",
       "    }\n",
       "</style>\n",
       "<table border=\"1\" class=\"dataframe\">\n",
       "  <thead>\n",
       "    <tr style=\"text-align: right;\">\n",
       "      <th></th>\n",
       "      <th>criteriumId</th>\n",
       "      <th>criteriumName</th>\n",
       "      <th>labelerIdList</th>\n",
       "      <th>train</th>\n",
       "      <th>val</th>\n",
       "      <th>test</th>\n",
       "      <th>modelId</th>\n",
       "      <th>spindleTimeRate</th>\n",
       "    </tr>\n",
       "  </thead>\n",
       "  <tbody>\n",
       "    <tr>\n",
       "      <th>0</th>\n",
       "      <td>0001</td>\n",
       "      <td>E1</td>\n",
       "      <td>[0001]</td>\n",
       "      <td>[0003, 0005, 0007, 0009, 0010, 0011, 0012, 001...</td>\n",
       "      <td>[0017, 0002, 0006]</td>\n",
       "      <td>0001</td>\n",
       "      <td>d51d037b-304a-48df-970e-58aac592ac87</td>\n",
       "      <td>0.018639</td>\n",
       "    </tr>\n",
       "    <tr>\n",
       "      <th>1</th>\n",
       "      <td>0001</td>\n",
       "      <td>E1</td>\n",
       "      <td>[0001]</td>\n",
       "      <td>[0001, 0003, 0005, 0007, 0009, 0010, 0011, 001...</td>\n",
       "      <td>[0006, 0013, 0019]</td>\n",
       "      <td>0002</td>\n",
       "      <td>50ebd176-f601-4f02-bcd5-e0c07a362a35</td>\n",
       "      <td>0.020055</td>\n",
       "    </tr>\n",
       "    <tr>\n",
       "      <th>2</th>\n",
       "      <td>0001</td>\n",
       "      <td>E1</td>\n",
       "      <td>[0001]</td>\n",
       "      <td>[0002, 0005, 0007, 0009, 0010, 0011, 0012, 001...</td>\n",
       "      <td>[0013, 0006, 0001]</td>\n",
       "      <td>0003</td>\n",
       "      <td>ad0e1cc1-5a53-45b1-b13e-ca760e58c787</td>\n",
       "      <td>0.021075</td>\n",
       "    </tr>\n",
       "    <tr>\n",
       "      <th>3</th>\n",
       "      <td>0001</td>\n",
       "      <td>E1</td>\n",
       "      <td>[0001]</td>\n",
       "      <td>[0001, 0002, 0003, 0006, 0007, 0009, 0010, 001...</td>\n",
       "      <td>[0018, 0014, 0012]</td>\n",
       "      <td>0005</td>\n",
       "      <td>953522b6-a687-4555-b7bd-64e50323f539</td>\n",
       "      <td>0.018331</td>\n",
       "    </tr>\n",
       "    <tr>\n",
       "      <th>4</th>\n",
       "      <td>0001</td>\n",
       "      <td>E1</td>\n",
       "      <td>[0001]</td>\n",
       "      <td>[0003, 0007, 0009, 0010, 0011, 0012, 0013, 001...</td>\n",
       "      <td>[0005, 0001, 0002]</td>\n",
       "      <td>0006</td>\n",
       "      <td>fdff7a52-c874-434c-b79a-4652e6521b61</td>\n",
       "      <td>0.019222</td>\n",
       "    </tr>\n",
       "    <tr>\n",
       "      <th>5</th>\n",
       "      <td>0001</td>\n",
       "      <td>E1</td>\n",
       "      <td>[0001]</td>\n",
       "      <td>[0001, 0002, 0003, 0010, 0011, 0012, 0013, 001...</td>\n",
       "      <td>[0005, 0006, 0009]</td>\n",
       "      <td>0007</td>\n",
       "      <td>a99170bc-4dc5-4b27-84df-f565c6f142c5</td>\n",
       "      <td>0.019625</td>\n",
       "    </tr>\n",
       "    <tr>\n",
       "      <th>6</th>\n",
       "      <td>0001</td>\n",
       "      <td>E1</td>\n",
       "      <td>[0001]</td>\n",
       "      <td>[0001, 0003, 0005, 0006, 0007, 0010, 0011, 001...</td>\n",
       "      <td>[0002, 0017, 0013]</td>\n",
       "      <td>0009</td>\n",
       "      <td>d4f86014-a983-4a56-940a-a53396539084</td>\n",
       "      <td>0.017824</td>\n",
       "    </tr>\n",
       "    <tr>\n",
       "      <th>7</th>\n",
       "      <td>0001</td>\n",
       "      <td>E1</td>\n",
       "      <td>[0001]</td>\n",
       "      <td>[0002, 0003, 0005, 0006, 0007, 0009, 0012, 001...</td>\n",
       "      <td>[0017, 0001, 0011]</td>\n",
       "      <td>0010</td>\n",
       "      <td>b9ba925c-8862-41ae-85ac-87efe667dc99</td>\n",
       "      <td>0.017542</td>\n",
       "    </tr>\n",
       "    <tr>\n",
       "      <th>8</th>\n",
       "      <td>0001</td>\n",
       "      <td>E1</td>\n",
       "      <td>[0001]</td>\n",
       "      <td>[0001, 0003, 0005, 0006, 0009, 0010, 0012, 001...</td>\n",
       "      <td>[0002, 0018, 0007]</td>\n",
       "      <td>0011</td>\n",
       "      <td>9a796814-2401-4dbb-811c-695c7c0888bb</td>\n",
       "      <td>0.015442</td>\n",
       "    </tr>\n",
       "    <tr>\n",
       "      <th>9</th>\n",
       "      <td>0001</td>\n",
       "      <td>E1</td>\n",
       "      <td>[0001]</td>\n",
       "      <td>[0002, 0003, 0005, 0006, 0009, 0011, 0013, 001...</td>\n",
       "      <td>[0001, 0007, 0010]</td>\n",
       "      <td>0012</td>\n",
       "      <td>3be685c1-02ea-4a2f-8478-ca265ccc3196</td>\n",
       "      <td>0.016460</td>\n",
       "    </tr>\n",
       "    <tr>\n",
       "      <th>10</th>\n",
       "      <td>0001</td>\n",
       "      <td>E1</td>\n",
       "      <td>[0001]</td>\n",
       "      <td>[0002, 0003, 0005, 0006, 0007, 0010, 0011, 001...</td>\n",
       "      <td>[0009, 0001, 0012]</td>\n",
       "      <td>0013</td>\n",
       "      <td>016159f4-e171-4f6e-a510-0e5e140f8929</td>\n",
       "      <td>0.017297</td>\n",
       "    </tr>\n",
       "    <tr>\n",
       "      <th>11</th>\n",
       "      <td>0001</td>\n",
       "      <td>E1</td>\n",
       "      <td>[0001]</td>\n",
       "      <td>[0001, 0002, 0003, 0005, 0006, 0007, 0009, 001...</td>\n",
       "      <td>[0010, 0012, 0011]</td>\n",
       "      <td>0014</td>\n",
       "      <td>da40a91f-c09e-4752-899f-0d848fc48c20</td>\n",
       "      <td>0.017868</td>\n",
       "    </tr>\n",
       "    <tr>\n",
       "      <th>12</th>\n",
       "      <td>0001</td>\n",
       "      <td>E1</td>\n",
       "      <td>[0001]</td>\n",
       "      <td>[0002, 0003, 0005, 0006, 0007, 0009, 0011, 001...</td>\n",
       "      <td>[0010, 0018, 0001]</td>\n",
       "      <td>0017</td>\n",
       "      <td>c30b34f2-52b8-47af-9309-81c72f52ea3d</td>\n",
       "      <td>0.016504</td>\n",
       "    </tr>\n",
       "    <tr>\n",
       "      <th>13</th>\n",
       "      <td>0001</td>\n",
       "      <td>E1</td>\n",
       "      <td>[0001]</td>\n",
       "      <td>[0001, 0002, 0005, 0006, 0007, 0010, 0011, 001...</td>\n",
       "      <td>[0012, 0003, 0009]</td>\n",
       "      <td>0018</td>\n",
       "      <td>63920ef1-b7bd-453c-af1b-c87e2c3f9ad0</td>\n",
       "      <td>0.018626</td>\n",
       "    </tr>\n",
       "    <tr>\n",
       "      <th>14</th>\n",
       "      <td>0001</td>\n",
       "      <td>E1</td>\n",
       "      <td>[0001]</td>\n",
       "      <td>[0001, 0002, 0005, 0007, 0009, 0010, 0011, 001...</td>\n",
       "      <td>[0014, 0006, 0003]</td>\n",
       "      <td>0019</td>\n",
       "      <td>73a45ddb-cbce-44c1-8ed8-007d5677989f</td>\n",
       "      <td>0.022439</td>\n",
       "    </tr>\n",
       "  </tbody>\n",
       "</table>\n",
       "</div>"
      ],
      "text/plain": [
       "   criteriumId criteriumName labelerIdList  \\\n",
       "0         0001            E1        [0001]   \n",
       "1         0001            E1        [0001]   \n",
       "2         0001            E1        [0001]   \n",
       "3         0001            E1        [0001]   \n",
       "4         0001            E1        [0001]   \n",
       "5         0001            E1        [0001]   \n",
       "6         0001            E1        [0001]   \n",
       "7         0001            E1        [0001]   \n",
       "8         0001            E1        [0001]   \n",
       "9         0001            E1        [0001]   \n",
       "10        0001            E1        [0001]   \n",
       "11        0001            E1        [0001]   \n",
       "12        0001            E1        [0001]   \n",
       "13        0001            E1        [0001]   \n",
       "14        0001            E1        [0001]   \n",
       "\n",
       "                                                train                 val  \\\n",
       "0   [0003, 0005, 0007, 0009, 0010, 0011, 0012, 001...  [0017, 0002, 0006]   \n",
       "1   [0001, 0003, 0005, 0007, 0009, 0010, 0011, 001...  [0006, 0013, 0019]   \n",
       "2   [0002, 0005, 0007, 0009, 0010, 0011, 0012, 001...  [0013, 0006, 0001]   \n",
       "3   [0001, 0002, 0003, 0006, 0007, 0009, 0010, 001...  [0018, 0014, 0012]   \n",
       "4   [0003, 0007, 0009, 0010, 0011, 0012, 0013, 001...  [0005, 0001, 0002]   \n",
       "5   [0001, 0002, 0003, 0010, 0011, 0012, 0013, 001...  [0005, 0006, 0009]   \n",
       "6   [0001, 0003, 0005, 0006, 0007, 0010, 0011, 001...  [0002, 0017, 0013]   \n",
       "7   [0002, 0003, 0005, 0006, 0007, 0009, 0012, 001...  [0017, 0001, 0011]   \n",
       "8   [0001, 0003, 0005, 0006, 0009, 0010, 0012, 001...  [0002, 0018, 0007]   \n",
       "9   [0002, 0003, 0005, 0006, 0009, 0011, 0013, 001...  [0001, 0007, 0010]   \n",
       "10  [0002, 0003, 0005, 0006, 0007, 0010, 0011, 001...  [0009, 0001, 0012]   \n",
       "11  [0001, 0002, 0003, 0005, 0006, 0007, 0009, 001...  [0010, 0012, 0011]   \n",
       "12  [0002, 0003, 0005, 0006, 0007, 0009, 0011, 001...  [0010, 0018, 0001]   \n",
       "13  [0001, 0002, 0005, 0006, 0007, 0010, 0011, 001...  [0012, 0003, 0009]   \n",
       "14  [0001, 0002, 0005, 0007, 0009, 0010, 0011, 001...  [0014, 0006, 0003]   \n",
       "\n",
       "    test                               modelId  spindleTimeRate  \n",
       "0   0001  d51d037b-304a-48df-970e-58aac592ac87         0.018639  \n",
       "1   0002  50ebd176-f601-4f02-bcd5-e0c07a362a35         0.020055  \n",
       "2   0003  ad0e1cc1-5a53-45b1-b13e-ca760e58c787         0.021075  \n",
       "3   0005  953522b6-a687-4555-b7bd-64e50323f539         0.018331  \n",
       "4   0006  fdff7a52-c874-434c-b79a-4652e6521b61         0.019222  \n",
       "5   0007  a99170bc-4dc5-4b27-84df-f565c6f142c5         0.019625  \n",
       "6   0009  d4f86014-a983-4a56-940a-a53396539084         0.017824  \n",
       "7   0010  b9ba925c-8862-41ae-85ac-87efe667dc99         0.017542  \n",
       "8   0011  9a796814-2401-4dbb-811c-695c7c0888bb         0.015442  \n",
       "9   0012  3be685c1-02ea-4a2f-8478-ca265ccc3196         0.016460  \n",
       "10  0013  016159f4-e171-4f6e-a510-0e5e140f8929         0.017297  \n",
       "11  0014  da40a91f-c09e-4752-899f-0d848fc48c20         0.017868  \n",
       "12  0017  c30b34f2-52b8-47af-9309-81c72f52ea3d         0.016504  \n",
       "13  0018  63920ef1-b7bd-453c-af1b-c87e2c3f9ad0         0.018626  \n",
       "14  0019  73a45ddb-cbce-44c1-8ed8-007d5677989f         0.022439  "
      ]
     },
     "execution_count": 17,
     "metadata": {},
     "output_type": "execute_result"
    }
   ],
   "source": [
    "experimentModels=experimentModels[experimentModels.criteriumName=='E1'].reset_index(drop=True)\n",
    "experimentModels"
   ]
  },
  {
   "cell_type": "code",
   "execution_count": 18,
   "metadata": {},
   "outputs": [
    {
     "name": "stdout",
     "output_type": "stream",
     "text": [
      "*************************\n",
      "1 of 15\n",
      "*************************\n",
      "2 of 15\n",
      "*************************\n",
      "3 of 15\n",
      "*************************\n",
      "4 of 15\n",
      "*************************\n",
      "5 of 15\n",
      "*************************\n",
      "6 of 15\n",
      "*************************\n",
      "7 of 15\n",
      "*************************\n",
      "8 of 15\n",
      "*************************\n",
      "9 of 15\n",
      "*************************\n",
      "10 of 15\n",
      "*************************\n",
      "11 of 15\n",
      "*************************\n",
      "12 of 15\n",
      "*************************\n",
      "13 of 15\n",
      "*************************\n",
      "14 of 15\n",
      "*************************\n",
      "15 of 15\n"
     ]
    }
   ],
   "source": [
    "rawF1s=[]\n",
    "rawPrecisions=[]\n",
    "rawRecalls=[]\n",
    "\n",
    "f1s=[]\n",
    "precisions=[]\n",
    "recalls=[]\n",
    "\n",
    "eventF1s=[]\n",
    "eventPrecisions=[]\n",
    "eventRecalls=[]\n",
    "\n",
    "checks=[]\n",
    "\n",
    "for ind,row in experimentModels.iterrows():\n",
    "    print('*************************')\n",
    "    print(str(ind+1)+' of '+str(len(experimentModels)) )\n",
    "    #load model\n",
    "    model=loadBooster(row.modelId,experimentId,datapath)\n",
    "\n",
    "    testSubjectId=row.test\n",
    "    #Define annotations criterium\n",
    "    usedAnnotations=annotations[annotations.labelerId.isin(row.labelerIdList)].reset_index(drop=True)\n",
    "    #Load features and labels\n",
    "    testFeatures=loadFeatureMatrix([testSubjectId],featureSelection,signalsMetadata,samplerate,datapath)\n",
    "    testLabels=loadLabelsVector([testSubjectId],usedAnnotations,signalsMetadata,samplerate)\n",
    "\n",
    "    #Predict\n",
    "    testDMatrix=xgb.DMatrix(data=testFeatures)\n",
    "    probabilities=model.predict(testDMatrix,iteration_range=(0,hyperDepth))\n",
    "    rawLabels=probabilities>=hyperThres\n",
    "    #Raw Metrics\n",
    "    rawTp=np.sum(rawLabels*testLabels)\n",
    "    rawFp=np.sum(rawLabels*(1-testLabels))\n",
    "    rawTn=np.sum((1-rawLabels)*(1-testLabels))\n",
    "    rawFn=np.sum((1-rawLabels)*testLabels)\n",
    "    #Raw appends\n",
    "    rawF1s.append(2*rawTp/(2*rawTp+rawFp+rawFn))\n",
    "    rawPrecisions.append(rawTp/(rawTp+rawFp) )\n",
    "    rawRecalls.append(rawTp/(rawTp+rawFn))\n",
    "    #Process\n",
    "    processedLabels=labelingProcess(rawLabels,hyperClose,hyperDuration,samplerate)\n",
    "    #Processed metrics\n",
    "    tp=np.sum(processedLabels*testLabels)\n",
    "    fp=np.sum(processedLabels*(1-testLabels))\n",
    "    tn=np.sum((1-processedLabels)*(1-testLabels))\n",
    "    fn=np.sum((1-processedLabels)*testLabels)\n",
    "    #Processed appends\n",
    "    f1s.append(2*tp/(2*tp+fp+fn))\n",
    "    precisions.append(tp/(tp+fp))\n",
    "    recalls.append(tp/(tp+fn))\n",
    "\n",
    "    #By-event metrics\n",
    "    processedAnnotations=labelVectorToAnnotations(processedLabels,samplerate)\n",
    "    processedAnnotations=processedAnnotations[processedAnnotations.duration<maxDuration]\n",
    "    gtAnnotations=labelVectorToAnnotations(testLabels,samplerate)   #<- or just filter the annotations\n",
    "    f,r,p=annotationPairToMetrics(gtAnnotations,processedAnnotations)\n",
    "    \n",
    "    #calculate metrics\n",
    "    eventF1s.append(f)\n",
    "    eventPrecisions.append(p)\n",
    "    eventRecalls.append(r)\n",
    "\n",
    "#include metrics in the dataframe\n",
    "experimentModels['rawF1']=rawF1s\n",
    "experimentModels['rawPrecision']=rawPrecisions\n",
    "experimentModels['rawRecall']=rawRecalls\n",
    "\n",
    "experimentModels['f1']=f1s\n",
    "experimentModels['precision']=precisions\n",
    "experimentModels['recall']=recalls\n",
    "\n",
    "experimentModels['eventF1']=eventF1s\n",
    "experimentModels['eventPrecision']=eventPrecisions\n",
    "experimentModels['eventRecall']=eventRecalls\n"
   ]
  },
  {
   "cell_type": "code",
   "execution_count": 19,
   "metadata": {},
   "outputs": [],
   "source": [
    "dumpPickle('experimentModelsTest_E1_temp.pkl',experimentModels)"
   ]
  },
  {
   "cell_type": "code",
   "execution_count": 20,
   "metadata": {},
   "outputs": [
    {
     "data": {
      "text/plain": [
       "Index(['criteriumId', 'criteriumName', 'labelerIdList', 'train', 'val', 'test',\n",
       "       'modelId', 'spindleTimeRate', 'rawF1', 'rawPrecision', 'rawRecall',\n",
       "       'f1', 'precision', 'recall', 'eventF1', 'eventPrecision',\n",
       "       'eventRecall'],\n",
       "      dtype='object')"
      ]
     },
     "execution_count": 20,
     "metadata": {},
     "output_type": "execute_result"
    }
   ],
   "source": [
    "experimentModels.columns"
   ]
  },
  {
   "cell_type": "code",
   "execution_count": 21,
   "metadata": {},
   "outputs": [
    {
     "data": {
      "application/vnd.plotly.v1+json": {
       "config": {
        "plotlyServerURL": "https://plot.ly"
       },
       "data": [
        {
         "hovertemplate": "<b>%{hovertext}</b><br><br>test=0001<br>rawF1=%{x}<br>f1=%{y}<extra></extra>",
         "hovertext": [
          "d51d037b-304a-48df-970e-58aac592ac87"
         ],
         "legendgroup": "0001",
         "marker": {
          "color": "#636efa",
          "symbol": "circle"
         },
         "mode": "markers",
         "name": "0001",
         "orientation": "v",
         "showlegend": true,
         "type": "scatter",
         "x": [
          0.627405111410024
         ],
         "xaxis": "x",
         "y": [
          0.625346133223648
         ],
         "yaxis": "y"
        },
        {
         "alignmentgroup": "True",
         "bingroup": "y",
         "hovertemplate": "test=0001<br>f1=%{y}<br>count=%{x}<extra></extra>",
         "legendgroup": "0001",
         "marker": {
          "color": "#636efa"
         },
         "name": "0001",
         "offsetgroup": "0001",
         "opacity": 0.5,
         "showlegend": false,
         "type": "histogram",
         "xaxis": "x2",
         "y": [
          0.625346133223648
         ],
         "yaxis": "y2"
        },
        {
         "hovertemplate": "<b>%{hovertext}</b><br><br>test=0002<br>rawF1=%{x}<br>f1=%{y}<extra></extra>",
         "hovertext": [
          "50ebd176-f601-4f02-bcd5-e0c07a362a35"
         ],
         "legendgroup": "0002",
         "marker": {
          "color": "#EF553B",
          "symbol": "circle"
         },
         "mode": "markers",
         "name": "0002",
         "orientation": "v",
         "showlegend": true,
         "type": "scatter",
         "x": [
          0.733681901652724
         ],
         "xaxis": "x",
         "y": [
          0.7355416146872654
         ],
         "yaxis": "y"
        },
        {
         "alignmentgroup": "True",
         "bingroup": "y",
         "hovertemplate": "test=0002<br>f1=%{y}<br>count=%{x}<extra></extra>",
         "legendgroup": "0002",
         "marker": {
          "color": "#EF553B"
         },
         "name": "0002",
         "offsetgroup": "0002",
         "opacity": 0.5,
         "showlegend": false,
         "type": "histogram",
         "xaxis": "x2",
         "y": [
          0.7355416146872654
         ],
         "yaxis": "y2"
        },
        {
         "hovertemplate": "<b>%{hovertext}</b><br><br>test=0003<br>rawF1=%{x}<br>f1=%{y}<extra></extra>",
         "hovertext": [
          "ad0e1cc1-5a53-45b1-b13e-ca760e58c787"
         ],
         "legendgroup": "0003",
         "marker": {
          "color": "#00cc96",
          "symbol": "circle"
         },
         "mode": "markers",
         "name": "0003",
         "orientation": "v",
         "showlegend": true,
         "type": "scatter",
         "x": [
          0.6173335117534234
         ],
         "xaxis": "x",
         "y": [
          0.6336461830056405
         ],
         "yaxis": "y"
        },
        {
         "alignmentgroup": "True",
         "bingroup": "y",
         "hovertemplate": "test=0003<br>f1=%{y}<br>count=%{x}<extra></extra>",
         "legendgroup": "0003",
         "marker": {
          "color": "#00cc96"
         },
         "name": "0003",
         "offsetgroup": "0003",
         "opacity": 0.5,
         "showlegend": false,
         "type": "histogram",
         "xaxis": "x2",
         "y": [
          0.6336461830056405
         ],
         "yaxis": "y2"
        },
        {
         "hovertemplate": "<b>%{hovertext}</b><br><br>test=0005<br>rawF1=%{x}<br>f1=%{y}<extra></extra>",
         "hovertext": [
          "953522b6-a687-4555-b7bd-64e50323f539"
         ],
         "legendgroup": "0005",
         "marker": {
          "color": "#ab63fa",
          "symbol": "circle"
         },
         "mode": "markers",
         "name": "0005",
         "orientation": "v",
         "showlegend": true,
         "type": "scatter",
         "x": [
          0.5989956209071552
         ],
         "xaxis": "x",
         "y": [
          0.6130685405511779
         ],
         "yaxis": "y"
        },
        {
         "alignmentgroup": "True",
         "bingroup": "y",
         "hovertemplate": "test=0005<br>f1=%{y}<br>count=%{x}<extra></extra>",
         "legendgroup": "0005",
         "marker": {
          "color": "#ab63fa"
         },
         "name": "0005",
         "offsetgroup": "0005",
         "opacity": 0.5,
         "showlegend": false,
         "type": "histogram",
         "xaxis": "x2",
         "y": [
          0.6130685405511779
         ],
         "yaxis": "y2"
        },
        {
         "hovertemplate": "<b>%{hovertext}</b><br><br>test=0006<br>rawF1=%{x}<br>f1=%{y}<extra></extra>",
         "hovertext": [
          "fdff7a52-c874-434c-b79a-4652e6521b61"
         ],
         "legendgroup": "0006",
         "marker": {
          "color": "#FFA15A",
          "symbol": "circle"
         },
         "mode": "markers",
         "name": "0006",
         "orientation": "v",
         "showlegend": true,
         "type": "scatter",
         "x": [
          0.6078481542648462
         ],
         "xaxis": "x",
         "y": [
          0.6107567824845311
         ],
         "yaxis": "y"
        },
        {
         "alignmentgroup": "True",
         "bingroup": "y",
         "hovertemplate": "test=0006<br>f1=%{y}<br>count=%{x}<extra></extra>",
         "legendgroup": "0006",
         "marker": {
          "color": "#FFA15A"
         },
         "name": "0006",
         "offsetgroup": "0006",
         "opacity": 0.5,
         "showlegend": false,
         "type": "histogram",
         "xaxis": "x2",
         "y": [
          0.6107567824845311
         ],
         "yaxis": "y2"
        },
        {
         "hovertemplate": "<b>%{hovertext}</b><br><br>test=0007<br>rawF1=%{x}<br>f1=%{y}<extra></extra>",
         "hovertext": [
          "a99170bc-4dc5-4b27-84df-f565c6f142c5"
         ],
         "legendgroup": "0007",
         "marker": {
          "color": "#19d3f3",
          "symbol": "circle"
         },
         "mode": "markers",
         "name": "0007",
         "orientation": "v",
         "showlegend": true,
         "type": "scatter",
         "x": [
          0.596307188252477
         ],
         "xaxis": "x",
         "y": [
          0.5984586752724789
         ],
         "yaxis": "y"
        },
        {
         "alignmentgroup": "True",
         "bingroup": "y",
         "hovertemplate": "test=0007<br>f1=%{y}<br>count=%{x}<extra></extra>",
         "legendgroup": "0007",
         "marker": {
          "color": "#19d3f3"
         },
         "name": "0007",
         "offsetgroup": "0007",
         "opacity": 0.5,
         "showlegend": false,
         "type": "histogram",
         "xaxis": "x2",
         "y": [
          0.5984586752724789
         ],
         "yaxis": "y2"
        },
        {
         "hovertemplate": "<b>%{hovertext}</b><br><br>test=0009<br>rawF1=%{x}<br>f1=%{y}<extra></extra>",
         "hovertext": [
          "d4f86014-a983-4a56-940a-a53396539084"
         ],
         "legendgroup": "0009",
         "marker": {
          "color": "#FF6692",
          "symbol": "circle"
         },
         "mode": "markers",
         "name": "0009",
         "orientation": "v",
         "showlegend": true,
         "type": "scatter",
         "x": [
          0.6797066393773065
         ],
         "xaxis": "x",
         "y": [
          0.6808492453526543
         ],
         "yaxis": "y"
        },
        {
         "alignmentgroup": "True",
         "bingroup": "y",
         "hovertemplate": "test=0009<br>f1=%{y}<br>count=%{x}<extra></extra>",
         "legendgroup": "0009",
         "marker": {
          "color": "#FF6692"
         },
         "name": "0009",
         "offsetgroup": "0009",
         "opacity": 0.5,
         "showlegend": false,
         "type": "histogram",
         "xaxis": "x2",
         "y": [
          0.6808492453526543
         ],
         "yaxis": "y2"
        },
        {
         "hovertemplate": "<b>%{hovertext}</b><br><br>test=0010<br>rawF1=%{x}<br>f1=%{y}<extra></extra>",
         "hovertext": [
          "b9ba925c-8862-41ae-85ac-87efe667dc99"
         ],
         "legendgroup": "0010",
         "marker": {
          "color": "#B6E880",
          "symbol": "circle"
         },
         "mode": "markers",
         "name": "0010",
         "orientation": "v",
         "showlegend": true,
         "type": "scatter",
         "x": [
          0.6985838903364676
         ],
         "xaxis": "x",
         "y": [
          0.7036367519411774
         ],
         "yaxis": "y"
        },
        {
         "alignmentgroup": "True",
         "bingroup": "y",
         "hovertemplate": "test=0010<br>f1=%{y}<br>count=%{x}<extra></extra>",
         "legendgroup": "0010",
         "marker": {
          "color": "#B6E880"
         },
         "name": "0010",
         "offsetgroup": "0010",
         "opacity": 0.5,
         "showlegend": false,
         "type": "histogram",
         "xaxis": "x2",
         "y": [
          0.7036367519411774
         ],
         "yaxis": "y2"
        },
        {
         "hovertemplate": "<b>%{hovertext}</b><br><br>test=0011<br>rawF1=%{x}<br>f1=%{y}<extra></extra>",
         "hovertext": [
          "9a796814-2401-4dbb-811c-695c7c0888bb"
         ],
         "legendgroup": "0011",
         "marker": {
          "color": "#FF97FF",
          "symbol": "circle"
         },
         "mode": "markers",
         "name": "0011",
         "orientation": "v",
         "showlegend": true,
         "type": "scatter",
         "x": [
          0.6509659626560104
         ],
         "xaxis": "x",
         "y": [
          0.6564293458874719
         ],
         "yaxis": "y"
        },
        {
         "alignmentgroup": "True",
         "bingroup": "y",
         "hovertemplate": "test=0011<br>f1=%{y}<br>count=%{x}<extra></extra>",
         "legendgroup": "0011",
         "marker": {
          "color": "#FF97FF"
         },
         "name": "0011",
         "offsetgroup": "0011",
         "opacity": 0.5,
         "showlegend": false,
         "type": "histogram",
         "xaxis": "x2",
         "y": [
          0.6564293458874719
         ],
         "yaxis": "y2"
        },
        {
         "hovertemplate": "<b>%{hovertext}</b><br><br>test=0012<br>rawF1=%{x}<br>f1=%{y}<extra></extra>",
         "hovertext": [
          "3be685c1-02ea-4a2f-8478-ca265ccc3196"
         ],
         "legendgroup": "0012",
         "marker": {
          "color": "#FECB52",
          "symbol": "circle"
         },
         "mode": "markers",
         "name": "0012",
         "orientation": "v",
         "showlegend": true,
         "type": "scatter",
         "x": [
          0.6482098514605625
         ],
         "xaxis": "x",
         "y": [
          0.6522170717713807
         ],
         "yaxis": "y"
        },
        {
         "alignmentgroup": "True",
         "bingroup": "y",
         "hovertemplate": "test=0012<br>f1=%{y}<br>count=%{x}<extra></extra>",
         "legendgroup": "0012",
         "marker": {
          "color": "#FECB52"
         },
         "name": "0012",
         "offsetgroup": "0012",
         "opacity": 0.5,
         "showlegend": false,
         "type": "histogram",
         "xaxis": "x2",
         "y": [
          0.6522170717713807
         ],
         "yaxis": "y2"
        },
        {
         "hovertemplate": "<b>%{hovertext}</b><br><br>test=0013<br>rawF1=%{x}<br>f1=%{y}<extra></extra>",
         "hovertext": [
          "016159f4-e171-4f6e-a510-0e5e140f8929"
         ],
         "legendgroup": "0013",
         "marker": {
          "color": "#636efa",
          "symbol": "circle"
         },
         "mode": "markers",
         "name": "0013",
         "orientation": "v",
         "showlegend": true,
         "type": "scatter",
         "x": [
          0.644478949989746
         ],
         "xaxis": "x",
         "y": [
          0.6475372373463337
         ],
         "yaxis": "y"
        },
        {
         "alignmentgroup": "True",
         "bingroup": "y",
         "hovertemplate": "test=0013<br>f1=%{y}<br>count=%{x}<extra></extra>",
         "legendgroup": "0013",
         "marker": {
          "color": "#636efa"
         },
         "name": "0013",
         "offsetgroup": "0013",
         "opacity": 0.5,
         "showlegend": false,
         "type": "histogram",
         "xaxis": "x2",
         "y": [
          0.6475372373463337
         ],
         "yaxis": "y2"
        },
        {
         "hovertemplate": "<b>%{hovertext}</b><br><br>test=0014<br>rawF1=%{x}<br>f1=%{y}<extra></extra>",
         "hovertext": [
          "da40a91f-c09e-4752-899f-0d848fc48c20"
         ],
         "legendgroup": "0014",
         "marker": {
          "color": "#EF553B",
          "symbol": "circle"
         },
         "mode": "markers",
         "name": "0014",
         "orientation": "v",
         "showlegend": true,
         "type": "scatter",
         "x": [
          0.5599757012307854
         ],
         "xaxis": "x",
         "y": [
          0.5633287197963001
         ],
         "yaxis": "y"
        },
        {
         "alignmentgroup": "True",
         "bingroup": "y",
         "hovertemplate": "test=0014<br>f1=%{y}<br>count=%{x}<extra></extra>",
         "legendgroup": "0014",
         "marker": {
          "color": "#EF553B"
         },
         "name": "0014",
         "offsetgroup": "0014",
         "opacity": 0.5,
         "showlegend": false,
         "type": "histogram",
         "xaxis": "x2",
         "y": [
          0.5633287197963001
         ],
         "yaxis": "y2"
        },
        {
         "hovertemplate": "<b>%{hovertext}</b><br><br>test=0017<br>rawF1=%{x}<br>f1=%{y}<extra></extra>",
         "hovertext": [
          "c30b34f2-52b8-47af-9309-81c72f52ea3d"
         ],
         "legendgroup": "0017",
         "marker": {
          "color": "#00cc96",
          "symbol": "circle"
         },
         "mode": "markers",
         "name": "0017",
         "orientation": "v",
         "showlegend": true,
         "type": "scatter",
         "x": [
          0.6594449985695839
         ],
         "xaxis": "x",
         "y": [
          0.6579343829767303
         ],
         "yaxis": "y"
        },
        {
         "alignmentgroup": "True",
         "bingroup": "y",
         "hovertemplate": "test=0017<br>f1=%{y}<br>count=%{x}<extra></extra>",
         "legendgroup": "0017",
         "marker": {
          "color": "#00cc96"
         },
         "name": "0017",
         "offsetgroup": "0017",
         "opacity": 0.5,
         "showlegend": false,
         "type": "histogram",
         "xaxis": "x2",
         "y": [
          0.6579343829767303
         ],
         "yaxis": "y2"
        },
        {
         "hovertemplate": "<b>%{hovertext}</b><br><br>test=0018<br>rawF1=%{x}<br>f1=%{y}<extra></extra>",
         "hovertext": [
          "63920ef1-b7bd-453c-af1b-c87e2c3f9ad0"
         ],
         "legendgroup": "0018",
         "marker": {
          "color": "#ab63fa",
          "symbol": "circle"
         },
         "mode": "markers",
         "name": "0018",
         "orientation": "v",
         "showlegend": true,
         "type": "scatter",
         "x": [
          0.6564962269809486
         ],
         "xaxis": "x",
         "y": [
          0.6560577931789613
         ],
         "yaxis": "y"
        },
        {
         "alignmentgroup": "True",
         "bingroup": "y",
         "hovertemplate": "test=0018<br>f1=%{y}<br>count=%{x}<extra></extra>",
         "legendgroup": "0018",
         "marker": {
          "color": "#ab63fa"
         },
         "name": "0018",
         "offsetgroup": "0018",
         "opacity": 0.5,
         "showlegend": false,
         "type": "histogram",
         "xaxis": "x2",
         "y": [
          0.6560577931789613
         ],
         "yaxis": "y2"
        },
        {
         "hovertemplate": "<b>%{hovertext}</b><br><br>test=0019<br>rawF1=%{x}<br>f1=%{y}<extra></extra>",
         "hovertext": [
          "73a45ddb-cbce-44c1-8ed8-007d5677989f"
         ],
         "legendgroup": "0019",
         "marker": {
          "color": "#FFA15A",
          "symbol": "circle"
         },
         "mode": "markers",
         "name": "0019",
         "orientation": "v",
         "showlegend": true,
         "type": "scatter",
         "x": [
          0.5392639197691471
         ],
         "xaxis": "x",
         "y": [
          0.5430642891497586
         ],
         "yaxis": "y"
        },
        {
         "alignmentgroup": "True",
         "bingroup": "y",
         "hovertemplate": "test=0019<br>f1=%{y}<br>count=%{x}<extra></extra>",
         "legendgroup": "0019",
         "marker": {
          "color": "#FFA15A"
         },
         "name": "0019",
         "offsetgroup": "0019",
         "opacity": 0.5,
         "showlegend": false,
         "type": "histogram",
         "xaxis": "x2",
         "y": [
          0.5430642891497586
         ],
         "yaxis": "y2"
        },
        {
         "fill": "toself",
         "mode": "lines",
         "name": "identity",
         "type": "scatter",
         "x": [
          0.627405111410024,
          0.733681901652724,
          0.6173335117534234,
          0.5989956209071552,
          0.6078481542648462,
          0.596307188252477,
          0.6797066393773065,
          0.6985838903364676,
          0.6509659626560104,
          0.6482098514605625,
          0.644478949989746,
          0.5599757012307854,
          0.6594449985695839,
          0.6564962269809486,
          0.5392639197691471
         ],
         "y": [
          0.627405111410024,
          0.733681901652724,
          0.6173335117534234,
          0.5989956209071552,
          0.6078481542648462,
          0.596307188252477,
          0.6797066393773065,
          0.6985838903364676,
          0.6509659626560104,
          0.6482098514605625,
          0.644478949989746,
          0.5599757012307854,
          0.6594449985695839,
          0.6564962269809486,
          0.5392639197691471
         ]
        }
       ],
       "layout": {
        "barmode": "overlay",
        "legend": {
         "title": {
          "text": "test"
         },
         "tracegroupgap": 0
        },
        "margin": {
         "t": 60
        },
        "template": {
         "data": {
          "bar": [
           {
            "error_x": {
             "color": "#2a3f5f"
            },
            "error_y": {
             "color": "#2a3f5f"
            },
            "marker": {
             "line": {
              "color": "#E5ECF6",
              "width": 0.5
             },
             "pattern": {
              "fillmode": "overlay",
              "size": 10,
              "solidity": 0.2
             }
            },
            "type": "bar"
           }
          ],
          "barpolar": [
           {
            "marker": {
             "line": {
              "color": "#E5ECF6",
              "width": 0.5
             },
             "pattern": {
              "fillmode": "overlay",
              "size": 10,
              "solidity": 0.2
             }
            },
            "type": "barpolar"
           }
          ],
          "carpet": [
           {
            "aaxis": {
             "endlinecolor": "#2a3f5f",
             "gridcolor": "white",
             "linecolor": "white",
             "minorgridcolor": "white",
             "startlinecolor": "#2a3f5f"
            },
            "baxis": {
             "endlinecolor": "#2a3f5f",
             "gridcolor": "white",
             "linecolor": "white",
             "minorgridcolor": "white",
             "startlinecolor": "#2a3f5f"
            },
            "type": "carpet"
           }
          ],
          "choropleth": [
           {
            "colorbar": {
             "outlinewidth": 0,
             "ticks": ""
            },
            "type": "choropleth"
           }
          ],
          "contour": [
           {
            "colorbar": {
             "outlinewidth": 0,
             "ticks": ""
            },
            "colorscale": [
             [
              0,
              "#0d0887"
             ],
             [
              0.1111111111111111,
              "#46039f"
             ],
             [
              0.2222222222222222,
              "#7201a8"
             ],
             [
              0.3333333333333333,
              "#9c179e"
             ],
             [
              0.4444444444444444,
              "#bd3786"
             ],
             [
              0.5555555555555556,
              "#d8576b"
             ],
             [
              0.6666666666666666,
              "#ed7953"
             ],
             [
              0.7777777777777778,
              "#fb9f3a"
             ],
             [
              0.8888888888888888,
              "#fdca26"
             ],
             [
              1,
              "#f0f921"
             ]
            ],
            "type": "contour"
           }
          ],
          "contourcarpet": [
           {
            "colorbar": {
             "outlinewidth": 0,
             "ticks": ""
            },
            "type": "contourcarpet"
           }
          ],
          "heatmap": [
           {
            "colorbar": {
             "outlinewidth": 0,
             "ticks": ""
            },
            "colorscale": [
             [
              0,
              "#0d0887"
             ],
             [
              0.1111111111111111,
              "#46039f"
             ],
             [
              0.2222222222222222,
              "#7201a8"
             ],
             [
              0.3333333333333333,
              "#9c179e"
             ],
             [
              0.4444444444444444,
              "#bd3786"
             ],
             [
              0.5555555555555556,
              "#d8576b"
             ],
             [
              0.6666666666666666,
              "#ed7953"
             ],
             [
              0.7777777777777778,
              "#fb9f3a"
             ],
             [
              0.8888888888888888,
              "#fdca26"
             ],
             [
              1,
              "#f0f921"
             ]
            ],
            "type": "heatmap"
           }
          ],
          "heatmapgl": [
           {
            "colorbar": {
             "outlinewidth": 0,
             "ticks": ""
            },
            "colorscale": [
             [
              0,
              "#0d0887"
             ],
             [
              0.1111111111111111,
              "#46039f"
             ],
             [
              0.2222222222222222,
              "#7201a8"
             ],
             [
              0.3333333333333333,
              "#9c179e"
             ],
             [
              0.4444444444444444,
              "#bd3786"
             ],
             [
              0.5555555555555556,
              "#d8576b"
             ],
             [
              0.6666666666666666,
              "#ed7953"
             ],
             [
              0.7777777777777778,
              "#fb9f3a"
             ],
             [
              0.8888888888888888,
              "#fdca26"
             ],
             [
              1,
              "#f0f921"
             ]
            ],
            "type": "heatmapgl"
           }
          ],
          "histogram": [
           {
            "marker": {
             "pattern": {
              "fillmode": "overlay",
              "size": 10,
              "solidity": 0.2
             }
            },
            "type": "histogram"
           }
          ],
          "histogram2d": [
           {
            "colorbar": {
             "outlinewidth": 0,
             "ticks": ""
            },
            "colorscale": [
             [
              0,
              "#0d0887"
             ],
             [
              0.1111111111111111,
              "#46039f"
             ],
             [
              0.2222222222222222,
              "#7201a8"
             ],
             [
              0.3333333333333333,
              "#9c179e"
             ],
             [
              0.4444444444444444,
              "#bd3786"
             ],
             [
              0.5555555555555556,
              "#d8576b"
             ],
             [
              0.6666666666666666,
              "#ed7953"
             ],
             [
              0.7777777777777778,
              "#fb9f3a"
             ],
             [
              0.8888888888888888,
              "#fdca26"
             ],
             [
              1,
              "#f0f921"
             ]
            ],
            "type": "histogram2d"
           }
          ],
          "histogram2dcontour": [
           {
            "colorbar": {
             "outlinewidth": 0,
             "ticks": ""
            },
            "colorscale": [
             [
              0,
              "#0d0887"
             ],
             [
              0.1111111111111111,
              "#46039f"
             ],
             [
              0.2222222222222222,
              "#7201a8"
             ],
             [
              0.3333333333333333,
              "#9c179e"
             ],
             [
              0.4444444444444444,
              "#bd3786"
             ],
             [
              0.5555555555555556,
              "#d8576b"
             ],
             [
              0.6666666666666666,
              "#ed7953"
             ],
             [
              0.7777777777777778,
              "#fb9f3a"
             ],
             [
              0.8888888888888888,
              "#fdca26"
             ],
             [
              1,
              "#f0f921"
             ]
            ],
            "type": "histogram2dcontour"
           }
          ],
          "mesh3d": [
           {
            "colorbar": {
             "outlinewidth": 0,
             "ticks": ""
            },
            "type": "mesh3d"
           }
          ],
          "parcoords": [
           {
            "line": {
             "colorbar": {
              "outlinewidth": 0,
              "ticks": ""
             }
            },
            "type": "parcoords"
           }
          ],
          "pie": [
           {
            "automargin": true,
            "type": "pie"
           }
          ],
          "scatter": [
           {
            "fillpattern": {
             "fillmode": "overlay",
             "size": 10,
             "solidity": 0.2
            },
            "type": "scatter"
           }
          ],
          "scatter3d": [
           {
            "line": {
             "colorbar": {
              "outlinewidth": 0,
              "ticks": ""
             }
            },
            "marker": {
             "colorbar": {
              "outlinewidth": 0,
              "ticks": ""
             }
            },
            "type": "scatter3d"
           }
          ],
          "scattercarpet": [
           {
            "marker": {
             "colorbar": {
              "outlinewidth": 0,
              "ticks": ""
             }
            },
            "type": "scattercarpet"
           }
          ],
          "scattergeo": [
           {
            "marker": {
             "colorbar": {
              "outlinewidth": 0,
              "ticks": ""
             }
            },
            "type": "scattergeo"
           }
          ],
          "scattergl": [
           {
            "marker": {
             "colorbar": {
              "outlinewidth": 0,
              "ticks": ""
             }
            },
            "type": "scattergl"
           }
          ],
          "scattermapbox": [
           {
            "marker": {
             "colorbar": {
              "outlinewidth": 0,
              "ticks": ""
             }
            },
            "type": "scattermapbox"
           }
          ],
          "scatterpolar": [
           {
            "marker": {
             "colorbar": {
              "outlinewidth": 0,
              "ticks": ""
             }
            },
            "type": "scatterpolar"
           }
          ],
          "scatterpolargl": [
           {
            "marker": {
             "colorbar": {
              "outlinewidth": 0,
              "ticks": ""
             }
            },
            "type": "scatterpolargl"
           }
          ],
          "scatterternary": [
           {
            "marker": {
             "colorbar": {
              "outlinewidth": 0,
              "ticks": ""
             }
            },
            "type": "scatterternary"
           }
          ],
          "surface": [
           {
            "colorbar": {
             "outlinewidth": 0,
             "ticks": ""
            },
            "colorscale": [
             [
              0,
              "#0d0887"
             ],
             [
              0.1111111111111111,
              "#46039f"
             ],
             [
              0.2222222222222222,
              "#7201a8"
             ],
             [
              0.3333333333333333,
              "#9c179e"
             ],
             [
              0.4444444444444444,
              "#bd3786"
             ],
             [
              0.5555555555555556,
              "#d8576b"
             ],
             [
              0.6666666666666666,
              "#ed7953"
             ],
             [
              0.7777777777777778,
              "#fb9f3a"
             ],
             [
              0.8888888888888888,
              "#fdca26"
             ],
             [
              1,
              "#f0f921"
             ]
            ],
            "type": "surface"
           }
          ],
          "table": [
           {
            "cells": {
             "fill": {
              "color": "#EBF0F8"
             },
             "line": {
              "color": "white"
             }
            },
            "header": {
             "fill": {
              "color": "#C8D4E3"
             },
             "line": {
              "color": "white"
             }
            },
            "type": "table"
           }
          ]
         },
         "layout": {
          "annotationdefaults": {
           "arrowcolor": "#2a3f5f",
           "arrowhead": 0,
           "arrowwidth": 1
          },
          "autotypenumbers": "strict",
          "coloraxis": {
           "colorbar": {
            "outlinewidth": 0,
            "ticks": ""
           }
          },
          "colorscale": {
           "diverging": [
            [
             0,
             "#8e0152"
            ],
            [
             0.1,
             "#c51b7d"
            ],
            [
             0.2,
             "#de77ae"
            ],
            [
             0.3,
             "#f1b6da"
            ],
            [
             0.4,
             "#fde0ef"
            ],
            [
             0.5,
             "#f7f7f7"
            ],
            [
             0.6,
             "#e6f5d0"
            ],
            [
             0.7,
             "#b8e186"
            ],
            [
             0.8,
             "#7fbc41"
            ],
            [
             0.9,
             "#4d9221"
            ],
            [
             1,
             "#276419"
            ]
           ],
           "sequential": [
            [
             0,
             "#0d0887"
            ],
            [
             0.1111111111111111,
             "#46039f"
            ],
            [
             0.2222222222222222,
             "#7201a8"
            ],
            [
             0.3333333333333333,
             "#9c179e"
            ],
            [
             0.4444444444444444,
             "#bd3786"
            ],
            [
             0.5555555555555556,
             "#d8576b"
            ],
            [
             0.6666666666666666,
             "#ed7953"
            ],
            [
             0.7777777777777778,
             "#fb9f3a"
            ],
            [
             0.8888888888888888,
             "#fdca26"
            ],
            [
             1,
             "#f0f921"
            ]
           ],
           "sequentialminus": [
            [
             0,
             "#0d0887"
            ],
            [
             0.1111111111111111,
             "#46039f"
            ],
            [
             0.2222222222222222,
             "#7201a8"
            ],
            [
             0.3333333333333333,
             "#9c179e"
            ],
            [
             0.4444444444444444,
             "#bd3786"
            ],
            [
             0.5555555555555556,
             "#d8576b"
            ],
            [
             0.6666666666666666,
             "#ed7953"
            ],
            [
             0.7777777777777778,
             "#fb9f3a"
            ],
            [
             0.8888888888888888,
             "#fdca26"
            ],
            [
             1,
             "#f0f921"
            ]
           ]
          },
          "colorway": [
           "#636efa",
           "#EF553B",
           "#00cc96",
           "#ab63fa",
           "#FFA15A",
           "#19d3f3",
           "#FF6692",
           "#B6E880",
           "#FF97FF",
           "#FECB52"
          ],
          "font": {
           "color": "#2a3f5f"
          },
          "geo": {
           "bgcolor": "white",
           "lakecolor": "white",
           "landcolor": "#E5ECF6",
           "showlakes": true,
           "showland": true,
           "subunitcolor": "white"
          },
          "hoverlabel": {
           "align": "left"
          },
          "hovermode": "closest",
          "mapbox": {
           "style": "light"
          },
          "paper_bgcolor": "white",
          "plot_bgcolor": "#E5ECF6",
          "polar": {
           "angularaxis": {
            "gridcolor": "white",
            "linecolor": "white",
            "ticks": ""
           },
           "bgcolor": "#E5ECF6",
           "radialaxis": {
            "gridcolor": "white",
            "linecolor": "white",
            "ticks": ""
           }
          },
          "scene": {
           "xaxis": {
            "backgroundcolor": "#E5ECF6",
            "gridcolor": "white",
            "gridwidth": 2,
            "linecolor": "white",
            "showbackground": true,
            "ticks": "",
            "zerolinecolor": "white"
           },
           "yaxis": {
            "backgroundcolor": "#E5ECF6",
            "gridcolor": "white",
            "gridwidth": 2,
            "linecolor": "white",
            "showbackground": true,
            "ticks": "",
            "zerolinecolor": "white"
           },
           "zaxis": {
            "backgroundcolor": "#E5ECF6",
            "gridcolor": "white",
            "gridwidth": 2,
            "linecolor": "white",
            "showbackground": true,
            "ticks": "",
            "zerolinecolor": "white"
           }
          },
          "shapedefaults": {
           "line": {
            "color": "#2a3f5f"
           }
          },
          "ternary": {
           "aaxis": {
            "gridcolor": "white",
            "linecolor": "white",
            "ticks": ""
           },
           "baxis": {
            "gridcolor": "white",
            "linecolor": "white",
            "ticks": ""
           },
           "bgcolor": "#E5ECF6",
           "caxis": {
            "gridcolor": "white",
            "linecolor": "white",
            "ticks": ""
           }
          },
          "title": {
           "x": 0.05
          },
          "xaxis": {
           "automargin": true,
           "gridcolor": "white",
           "linecolor": "white",
           "ticks": "",
           "title": {
            "standoff": 15
           },
           "zerolinecolor": "white",
           "zerolinewidth": 2
          },
          "yaxis": {
           "automargin": true,
           "gridcolor": "white",
           "linecolor": "white",
           "ticks": "",
           "title": {
            "standoff": 15
           },
           "zerolinecolor": "white",
           "zerolinewidth": 2
          }
         }
        },
        "xaxis": {
         "anchor": "y",
         "domain": [
          0,
          0.7363
         ],
         "title": {
          "text": "rawF1"
         }
        },
        "xaxis2": {
         "anchor": "y2",
         "domain": [
          0.7413,
          1
         ],
         "matches": "x2",
         "showgrid": true,
         "showline": false,
         "showticklabels": false,
         "ticks": ""
        },
        "yaxis": {
         "anchor": "x",
         "domain": [
          0,
          1
         ],
         "title": {
          "text": "f1"
         }
        },
        "yaxis2": {
         "anchor": "x2",
         "domain": [
          0,
          1
         ],
         "matches": "y",
         "showgrid": true,
         "showticklabels": false
        }
       }
      }
     },
     "metadata": {},
     "output_type": "display_data"
    }
   ],
   "source": [
    "fig=px.scatter(experimentModels,x='rawF1',y='f1',color='test',hover_name='modelId', marginal_y=\"histogram\")\n",
    "fig.add_trace(\n",
    "    go.Scatter(x=experimentModels['rawF1'], y=experimentModels['rawF1'], name=\"identity\", mode='lines',fill=\"toself\")\n",
    ")\n",
    "fig.show()"
   ]
  },
  {
   "cell_type": "code",
   "execution_count": 22,
   "metadata": {},
   "outputs": [
    {
     "data": {
      "application/vnd.plotly.v1+json": {
       "config": {
        "plotlyServerURL": "https://plot.ly"
       },
       "data": [
        {
         "hovertemplate": "<b>%{hovertext}</b><br><br>test=0001<br>rawF1=%{x}<br>eventF1=%{y}<extra></extra>",
         "hovertext": [
          "d51d037b-304a-48df-970e-58aac592ac87"
         ],
         "legendgroup": "0001",
         "marker": {
          "color": "#636efa",
          "symbol": "circle"
         },
         "mode": "markers",
         "name": "0001",
         "orientation": "v",
         "showlegend": true,
         "type": "scatter",
         "x": [
          0.627405111410024
         ],
         "xaxis": "x",
         "y": [
          0.6781883194278904
         ],
         "yaxis": "y"
        },
        {
         "alignmentgroup": "True",
         "bingroup": "y",
         "hovertemplate": "test=0001<br>eventF1=%{y}<br>count=%{x}<extra></extra>",
         "legendgroup": "0001",
         "marker": {
          "color": "#636efa"
         },
         "name": "0001",
         "offsetgroup": "0001",
         "opacity": 0.5,
         "showlegend": false,
         "type": "histogram",
         "xaxis": "x2",
         "y": [
          0.6781883194278904
         ],
         "yaxis": "y2"
        },
        {
         "hovertemplate": "<b>%{hovertext}</b><br><br>test=0002<br>rawF1=%{x}<br>eventF1=%{y}<extra></extra>",
         "hovertext": [
          "50ebd176-f601-4f02-bcd5-e0c07a362a35"
         ],
         "legendgroup": "0002",
         "marker": {
          "color": "#EF553B",
          "symbol": "circle"
         },
         "mode": "markers",
         "name": "0002",
         "orientation": "v",
         "showlegend": true,
         "type": "scatter",
         "x": [
          0.733681901652724
         ],
         "xaxis": "x",
         "y": [
          0.7891491985203453
         ],
         "yaxis": "y"
        },
        {
         "alignmentgroup": "True",
         "bingroup": "y",
         "hovertemplate": "test=0002<br>eventF1=%{y}<br>count=%{x}<extra></extra>",
         "legendgroup": "0002",
         "marker": {
          "color": "#EF553B"
         },
         "name": "0002",
         "offsetgroup": "0002",
         "opacity": 0.5,
         "showlegend": false,
         "type": "histogram",
         "xaxis": "x2",
         "y": [
          0.7891491985203453
         ],
         "yaxis": "y2"
        },
        {
         "hovertemplate": "<b>%{hovertext}</b><br><br>test=0003<br>rawF1=%{x}<br>eventF1=%{y}<extra></extra>",
         "hovertext": [
          "ad0e1cc1-5a53-45b1-b13e-ca760e58c787"
         ],
         "legendgroup": "0003",
         "marker": {
          "color": "#00cc96",
          "symbol": "circle"
         },
         "mode": "markers",
         "name": "0003",
         "orientation": "v",
         "showlegend": true,
         "type": "scatter",
         "x": [
          0.6173335117534234
         ],
         "xaxis": "x",
         "y": [
          0.6584615384615384
         ],
         "yaxis": "y"
        },
        {
         "alignmentgroup": "True",
         "bingroup": "y",
         "hovertemplate": "test=0003<br>eventF1=%{y}<br>count=%{x}<extra></extra>",
         "legendgroup": "0003",
         "marker": {
          "color": "#00cc96"
         },
         "name": "0003",
         "offsetgroup": "0003",
         "opacity": 0.5,
         "showlegend": false,
         "type": "histogram",
         "xaxis": "x2",
         "y": [
          0.6584615384615384
         ],
         "yaxis": "y2"
        },
        {
         "hovertemplate": "<b>%{hovertext}</b><br><br>test=0005<br>rawF1=%{x}<br>eventF1=%{y}<extra></extra>",
         "hovertext": [
          "953522b6-a687-4555-b7bd-64e50323f539"
         ],
         "legendgroup": "0005",
         "marker": {
          "color": "#ab63fa",
          "symbol": "circle"
         },
         "mode": "markers",
         "name": "0005",
         "orientation": "v",
         "showlegend": true,
         "type": "scatter",
         "x": [
          0.5989956209071552
         ],
         "xaxis": "x",
         "y": [
          0.6681922196796338
         ],
         "yaxis": "y"
        },
        {
         "alignmentgroup": "True",
         "bingroup": "y",
         "hovertemplate": "test=0005<br>eventF1=%{y}<br>count=%{x}<extra></extra>",
         "legendgroup": "0005",
         "marker": {
          "color": "#ab63fa"
         },
         "name": "0005",
         "offsetgroup": "0005",
         "opacity": 0.5,
         "showlegend": false,
         "type": "histogram",
         "xaxis": "x2",
         "y": [
          0.6681922196796338
         ],
         "yaxis": "y2"
        },
        {
         "hovertemplate": "<b>%{hovertext}</b><br><br>test=0006<br>rawF1=%{x}<br>eventF1=%{y}<extra></extra>",
         "hovertext": [
          "fdff7a52-c874-434c-b79a-4652e6521b61"
         ],
         "legendgroup": "0006",
         "marker": {
          "color": "#FFA15A",
          "symbol": "circle"
         },
         "mode": "markers",
         "name": "0006",
         "orientation": "v",
         "showlegend": true,
         "type": "scatter",
         "x": [
          0.6078481542648462
         ],
         "xaxis": "x",
         "y": [
          0.6734006734006734
         ],
         "yaxis": "y"
        },
        {
         "alignmentgroup": "True",
         "bingroup": "y",
         "hovertemplate": "test=0006<br>eventF1=%{y}<br>count=%{x}<extra></extra>",
         "legendgroup": "0006",
         "marker": {
          "color": "#FFA15A"
         },
         "name": "0006",
         "offsetgroup": "0006",
         "opacity": 0.5,
         "showlegend": false,
         "type": "histogram",
         "xaxis": "x2",
         "y": [
          0.6734006734006734
         ],
         "yaxis": "y2"
        },
        {
         "hovertemplate": "<b>%{hovertext}</b><br><br>test=0007<br>rawF1=%{x}<br>eventF1=%{y}<extra></extra>",
         "hovertext": [
          "a99170bc-4dc5-4b27-84df-f565c6f142c5"
         ],
         "legendgroup": "0007",
         "marker": {
          "color": "#19d3f3",
          "symbol": "circle"
         },
         "mode": "markers",
         "name": "0007",
         "orientation": "v",
         "showlegend": true,
         "type": "scatter",
         "x": [
          0.596307188252477
         ],
         "xaxis": "x",
         "y": [
          0.6407685881370092
         ],
         "yaxis": "y"
        },
        {
         "alignmentgroup": "True",
         "bingroup": "y",
         "hovertemplate": "test=0007<br>eventF1=%{y}<br>count=%{x}<extra></extra>",
         "legendgroup": "0007",
         "marker": {
          "color": "#19d3f3"
         },
         "name": "0007",
         "offsetgroup": "0007",
         "opacity": 0.5,
         "showlegend": false,
         "type": "histogram",
         "xaxis": "x2",
         "y": [
          0.6407685881370092
         ],
         "yaxis": "y2"
        },
        {
         "hovertemplate": "<b>%{hovertext}</b><br><br>test=0009<br>rawF1=%{x}<br>eventF1=%{y}<extra></extra>",
         "hovertext": [
          "d4f86014-a983-4a56-940a-a53396539084"
         ],
         "legendgroup": "0009",
         "marker": {
          "color": "#FF6692",
          "symbol": "circle"
         },
         "mode": "markers",
         "name": "0009",
         "orientation": "v",
         "showlegend": true,
         "type": "scatter",
         "x": [
          0.6797066393773065
         ],
         "xaxis": "x",
         "y": [
          0.7699468085106383
         ],
         "yaxis": "y"
        },
        {
         "alignmentgroup": "True",
         "bingroup": "y",
         "hovertemplate": "test=0009<br>eventF1=%{y}<br>count=%{x}<extra></extra>",
         "legendgroup": "0009",
         "marker": {
          "color": "#FF6692"
         },
         "name": "0009",
         "offsetgroup": "0009",
         "opacity": 0.5,
         "showlegend": false,
         "type": "histogram",
         "xaxis": "x2",
         "y": [
          0.7699468085106383
         ],
         "yaxis": "y2"
        },
        {
         "hovertemplate": "<b>%{hovertext}</b><br><br>test=0010<br>rawF1=%{x}<br>eventF1=%{y}<extra></extra>",
         "hovertext": [
          "b9ba925c-8862-41ae-85ac-87efe667dc99"
         ],
         "legendgroup": "0010",
         "marker": {
          "color": "#B6E880",
          "symbol": "circle"
         },
         "mode": "markers",
         "name": "0010",
         "orientation": "v",
         "showlegend": true,
         "type": "scatter",
         "x": [
          0.6985838903364676
         ],
         "xaxis": "x",
         "y": [
          0.7682576193214491
         ],
         "yaxis": "y"
        },
        {
         "alignmentgroup": "True",
         "bingroup": "y",
         "hovertemplate": "test=0010<br>eventF1=%{y}<br>count=%{x}<extra></extra>",
         "legendgroup": "0010",
         "marker": {
          "color": "#B6E880"
         },
         "name": "0010",
         "offsetgroup": "0010",
         "opacity": 0.5,
         "showlegend": false,
         "type": "histogram",
         "xaxis": "x2",
         "y": [
          0.7682576193214491
         ],
         "yaxis": "y2"
        },
        {
         "hovertemplate": "<b>%{hovertext}</b><br><br>test=0011<br>rawF1=%{x}<br>eventF1=%{y}<extra></extra>",
         "hovertext": [
          "9a796814-2401-4dbb-811c-695c7c0888bb"
         ],
         "legendgroup": "0011",
         "marker": {
          "color": "#FF97FF",
          "symbol": "circle"
         },
         "mode": "markers",
         "name": "0011",
         "orientation": "v",
         "showlegend": true,
         "type": "scatter",
         "x": [
          0.6509659626560104
         ],
         "xaxis": "x",
         "y": [
          0.686819830713422
         ],
         "yaxis": "y"
        },
        {
         "alignmentgroup": "True",
         "bingroup": "y",
         "hovertemplate": "test=0011<br>eventF1=%{y}<br>count=%{x}<extra></extra>",
         "legendgroup": "0011",
         "marker": {
          "color": "#FF97FF"
         },
         "name": "0011",
         "offsetgroup": "0011",
         "opacity": 0.5,
         "showlegend": false,
         "type": "histogram",
         "xaxis": "x2",
         "y": [
          0.686819830713422
         ],
         "yaxis": "y2"
        },
        {
         "hovertemplate": "<b>%{hovertext}</b><br><br>test=0012<br>rawF1=%{x}<br>eventF1=%{y}<extra></extra>",
         "hovertext": [
          "3be685c1-02ea-4a2f-8478-ca265ccc3196"
         ],
         "legendgroup": "0012",
         "marker": {
          "color": "#FECB52",
          "symbol": "circle"
         },
         "mode": "markers",
         "name": "0012",
         "orientation": "v",
         "showlegend": true,
         "type": "scatter",
         "x": [
          0.6482098514605625
         ],
         "xaxis": "x",
         "y": [
          0.7257264351523742
         ],
         "yaxis": "y"
        },
        {
         "alignmentgroup": "True",
         "bingroup": "y",
         "hovertemplate": "test=0012<br>eventF1=%{y}<br>count=%{x}<extra></extra>",
         "legendgroup": "0012",
         "marker": {
          "color": "#FECB52"
         },
         "name": "0012",
         "offsetgroup": "0012",
         "opacity": 0.5,
         "showlegend": false,
         "type": "histogram",
         "xaxis": "x2",
         "y": [
          0.7257264351523742
         ],
         "yaxis": "y2"
        },
        {
         "hovertemplate": "<b>%{hovertext}</b><br><br>test=0013<br>rawF1=%{x}<br>eventF1=%{y}<extra></extra>",
         "hovertext": [
          "016159f4-e171-4f6e-a510-0e5e140f8929"
         ],
         "legendgroup": "0013",
         "marker": {
          "color": "#636efa",
          "symbol": "circle"
         },
         "mode": "markers",
         "name": "0013",
         "orientation": "v",
         "showlegend": true,
         "type": "scatter",
         "x": [
          0.644478949989746
         ],
         "xaxis": "x",
         "y": [
          0.677319587628866
         ],
         "yaxis": "y"
        },
        {
         "alignmentgroup": "True",
         "bingroup": "y",
         "hovertemplate": "test=0013<br>eventF1=%{y}<br>count=%{x}<extra></extra>",
         "legendgroup": "0013",
         "marker": {
          "color": "#636efa"
         },
         "name": "0013",
         "offsetgroup": "0013",
         "opacity": 0.5,
         "showlegend": false,
         "type": "histogram",
         "xaxis": "x2",
         "y": [
          0.677319587628866
         ],
         "yaxis": "y2"
        },
        {
         "hovertemplate": "<b>%{hovertext}</b><br><br>test=0014<br>rawF1=%{x}<br>eventF1=%{y}<extra></extra>",
         "hovertext": [
          "da40a91f-c09e-4752-899f-0d848fc48c20"
         ],
         "legendgroup": "0014",
         "marker": {
          "color": "#EF553B",
          "symbol": "circle"
         },
         "mode": "markers",
         "name": "0014",
         "orientation": "v",
         "showlegend": true,
         "type": "scatter",
         "x": [
          0.5599757012307854
         ],
         "xaxis": "x",
         "y": [
          0.5990338164251208
         ],
         "yaxis": "y"
        },
        {
         "alignmentgroup": "True",
         "bingroup": "y",
         "hovertemplate": "test=0014<br>eventF1=%{y}<br>count=%{x}<extra></extra>",
         "legendgroup": "0014",
         "marker": {
          "color": "#EF553B"
         },
         "name": "0014",
         "offsetgroup": "0014",
         "opacity": 0.5,
         "showlegend": false,
         "type": "histogram",
         "xaxis": "x2",
         "y": [
          0.5990338164251208
         ],
         "yaxis": "y2"
        },
        {
         "hovertemplate": "<b>%{hovertext}</b><br><br>test=0017<br>rawF1=%{x}<br>eventF1=%{y}<extra></extra>",
         "hovertext": [
          "c30b34f2-52b8-47af-9309-81c72f52ea3d"
         ],
         "legendgroup": "0017",
         "marker": {
          "color": "#00cc96",
          "symbol": "circle"
         },
         "mode": "markers",
         "name": "0017",
         "orientation": "v",
         "showlegend": true,
         "type": "scatter",
         "x": [
          0.6594449985695839
         ],
         "xaxis": "x",
         "y": [
          0.737217598097503
         ],
         "yaxis": "y"
        },
        {
         "alignmentgroup": "True",
         "bingroup": "y",
         "hovertemplate": "test=0017<br>eventF1=%{y}<br>count=%{x}<extra></extra>",
         "legendgroup": "0017",
         "marker": {
          "color": "#00cc96"
         },
         "name": "0017",
         "offsetgroup": "0017",
         "opacity": 0.5,
         "showlegend": false,
         "type": "histogram",
         "xaxis": "x2",
         "y": [
          0.737217598097503
         ],
         "yaxis": "y2"
        },
        {
         "hovertemplate": "<b>%{hovertext}</b><br><br>test=0018<br>rawF1=%{x}<br>eventF1=%{y}<extra></extra>",
         "hovertext": [
          "63920ef1-b7bd-453c-af1b-c87e2c3f9ad0"
         ],
         "legendgroup": "0018",
         "marker": {
          "color": "#ab63fa",
          "symbol": "circle"
         },
         "mode": "markers",
         "name": "0018",
         "orientation": "v",
         "showlegend": true,
         "type": "scatter",
         "x": [
          0.6564962269809486
         ],
         "xaxis": "x",
         "y": [
          0.7404172731683649
         ],
         "yaxis": "y"
        },
        {
         "alignmentgroup": "True",
         "bingroup": "y",
         "hovertemplate": "test=0018<br>eventF1=%{y}<br>count=%{x}<extra></extra>",
         "legendgroup": "0018",
         "marker": {
          "color": "#ab63fa"
         },
         "name": "0018",
         "offsetgroup": "0018",
         "opacity": 0.5,
         "showlegend": false,
         "type": "histogram",
         "xaxis": "x2",
         "y": [
          0.7404172731683649
         ],
         "yaxis": "y2"
        },
        {
         "hovertemplate": "<b>%{hovertext}</b><br><br>test=0019<br>rawF1=%{x}<br>eventF1=%{y}<extra></extra>",
         "hovertext": [
          "73a45ddb-cbce-44c1-8ed8-007d5677989f"
         ],
         "legendgroup": "0019",
         "marker": {
          "color": "#FFA15A",
          "symbol": "circle"
         },
         "mode": "markers",
         "name": "0019",
         "orientation": "v",
         "showlegend": true,
         "type": "scatter",
         "x": [
          0.5392639197691471
         ],
         "xaxis": "x",
         "y": [
          0.5716911764705882
         ],
         "yaxis": "y"
        },
        {
         "alignmentgroup": "True",
         "bingroup": "y",
         "hovertemplate": "test=0019<br>eventF1=%{y}<br>count=%{x}<extra></extra>",
         "legendgroup": "0019",
         "marker": {
          "color": "#FFA15A"
         },
         "name": "0019",
         "offsetgroup": "0019",
         "opacity": 0.5,
         "showlegend": false,
         "type": "histogram",
         "xaxis": "x2",
         "y": [
          0.5716911764705882
         ],
         "yaxis": "y2"
        },
        {
         "fill": "toself",
         "mode": "lines",
         "name": "identity",
         "type": "scatter",
         "x": [
          0.627405111410024,
          0.733681901652724,
          0.6173335117534234,
          0.5989956209071552,
          0.6078481542648462,
          0.596307188252477,
          0.6797066393773065,
          0.6985838903364676,
          0.6509659626560104,
          0.6482098514605625,
          0.644478949989746,
          0.5599757012307854,
          0.6594449985695839,
          0.6564962269809486,
          0.5392639197691471
         ],
         "y": [
          0.627405111410024,
          0.733681901652724,
          0.6173335117534234,
          0.5989956209071552,
          0.6078481542648462,
          0.596307188252477,
          0.6797066393773065,
          0.6985838903364676,
          0.6509659626560104,
          0.6482098514605625,
          0.644478949989746,
          0.5599757012307854,
          0.6594449985695839,
          0.6564962269809486,
          0.5392639197691471
         ]
        }
       ],
       "layout": {
        "barmode": "overlay",
        "legend": {
         "title": {
          "text": "test"
         },
         "tracegroupgap": 0
        },
        "margin": {
         "t": 60
        },
        "template": {
         "data": {
          "bar": [
           {
            "error_x": {
             "color": "#2a3f5f"
            },
            "error_y": {
             "color": "#2a3f5f"
            },
            "marker": {
             "line": {
              "color": "#E5ECF6",
              "width": 0.5
             },
             "pattern": {
              "fillmode": "overlay",
              "size": 10,
              "solidity": 0.2
             }
            },
            "type": "bar"
           }
          ],
          "barpolar": [
           {
            "marker": {
             "line": {
              "color": "#E5ECF6",
              "width": 0.5
             },
             "pattern": {
              "fillmode": "overlay",
              "size": 10,
              "solidity": 0.2
             }
            },
            "type": "barpolar"
           }
          ],
          "carpet": [
           {
            "aaxis": {
             "endlinecolor": "#2a3f5f",
             "gridcolor": "white",
             "linecolor": "white",
             "minorgridcolor": "white",
             "startlinecolor": "#2a3f5f"
            },
            "baxis": {
             "endlinecolor": "#2a3f5f",
             "gridcolor": "white",
             "linecolor": "white",
             "minorgridcolor": "white",
             "startlinecolor": "#2a3f5f"
            },
            "type": "carpet"
           }
          ],
          "choropleth": [
           {
            "colorbar": {
             "outlinewidth": 0,
             "ticks": ""
            },
            "type": "choropleth"
           }
          ],
          "contour": [
           {
            "colorbar": {
             "outlinewidth": 0,
             "ticks": ""
            },
            "colorscale": [
             [
              0,
              "#0d0887"
             ],
             [
              0.1111111111111111,
              "#46039f"
             ],
             [
              0.2222222222222222,
              "#7201a8"
             ],
             [
              0.3333333333333333,
              "#9c179e"
             ],
             [
              0.4444444444444444,
              "#bd3786"
             ],
             [
              0.5555555555555556,
              "#d8576b"
             ],
             [
              0.6666666666666666,
              "#ed7953"
             ],
             [
              0.7777777777777778,
              "#fb9f3a"
             ],
             [
              0.8888888888888888,
              "#fdca26"
             ],
             [
              1,
              "#f0f921"
             ]
            ],
            "type": "contour"
           }
          ],
          "contourcarpet": [
           {
            "colorbar": {
             "outlinewidth": 0,
             "ticks": ""
            },
            "type": "contourcarpet"
           }
          ],
          "heatmap": [
           {
            "colorbar": {
             "outlinewidth": 0,
             "ticks": ""
            },
            "colorscale": [
             [
              0,
              "#0d0887"
             ],
             [
              0.1111111111111111,
              "#46039f"
             ],
             [
              0.2222222222222222,
              "#7201a8"
             ],
             [
              0.3333333333333333,
              "#9c179e"
             ],
             [
              0.4444444444444444,
              "#bd3786"
             ],
             [
              0.5555555555555556,
              "#d8576b"
             ],
             [
              0.6666666666666666,
              "#ed7953"
             ],
             [
              0.7777777777777778,
              "#fb9f3a"
             ],
             [
              0.8888888888888888,
              "#fdca26"
             ],
             [
              1,
              "#f0f921"
             ]
            ],
            "type": "heatmap"
           }
          ],
          "heatmapgl": [
           {
            "colorbar": {
             "outlinewidth": 0,
             "ticks": ""
            },
            "colorscale": [
             [
              0,
              "#0d0887"
             ],
             [
              0.1111111111111111,
              "#46039f"
             ],
             [
              0.2222222222222222,
              "#7201a8"
             ],
             [
              0.3333333333333333,
              "#9c179e"
             ],
             [
              0.4444444444444444,
              "#bd3786"
             ],
             [
              0.5555555555555556,
              "#d8576b"
             ],
             [
              0.6666666666666666,
              "#ed7953"
             ],
             [
              0.7777777777777778,
              "#fb9f3a"
             ],
             [
              0.8888888888888888,
              "#fdca26"
             ],
             [
              1,
              "#f0f921"
             ]
            ],
            "type": "heatmapgl"
           }
          ],
          "histogram": [
           {
            "marker": {
             "pattern": {
              "fillmode": "overlay",
              "size": 10,
              "solidity": 0.2
             }
            },
            "type": "histogram"
           }
          ],
          "histogram2d": [
           {
            "colorbar": {
             "outlinewidth": 0,
             "ticks": ""
            },
            "colorscale": [
             [
              0,
              "#0d0887"
             ],
             [
              0.1111111111111111,
              "#46039f"
             ],
             [
              0.2222222222222222,
              "#7201a8"
             ],
             [
              0.3333333333333333,
              "#9c179e"
             ],
             [
              0.4444444444444444,
              "#bd3786"
             ],
             [
              0.5555555555555556,
              "#d8576b"
             ],
             [
              0.6666666666666666,
              "#ed7953"
             ],
             [
              0.7777777777777778,
              "#fb9f3a"
             ],
             [
              0.8888888888888888,
              "#fdca26"
             ],
             [
              1,
              "#f0f921"
             ]
            ],
            "type": "histogram2d"
           }
          ],
          "histogram2dcontour": [
           {
            "colorbar": {
             "outlinewidth": 0,
             "ticks": ""
            },
            "colorscale": [
             [
              0,
              "#0d0887"
             ],
             [
              0.1111111111111111,
              "#46039f"
             ],
             [
              0.2222222222222222,
              "#7201a8"
             ],
             [
              0.3333333333333333,
              "#9c179e"
             ],
             [
              0.4444444444444444,
              "#bd3786"
             ],
             [
              0.5555555555555556,
              "#d8576b"
             ],
             [
              0.6666666666666666,
              "#ed7953"
             ],
             [
              0.7777777777777778,
              "#fb9f3a"
             ],
             [
              0.8888888888888888,
              "#fdca26"
             ],
             [
              1,
              "#f0f921"
             ]
            ],
            "type": "histogram2dcontour"
           }
          ],
          "mesh3d": [
           {
            "colorbar": {
             "outlinewidth": 0,
             "ticks": ""
            },
            "type": "mesh3d"
           }
          ],
          "parcoords": [
           {
            "line": {
             "colorbar": {
              "outlinewidth": 0,
              "ticks": ""
             }
            },
            "type": "parcoords"
           }
          ],
          "pie": [
           {
            "automargin": true,
            "type": "pie"
           }
          ],
          "scatter": [
           {
            "fillpattern": {
             "fillmode": "overlay",
             "size": 10,
             "solidity": 0.2
            },
            "type": "scatter"
           }
          ],
          "scatter3d": [
           {
            "line": {
             "colorbar": {
              "outlinewidth": 0,
              "ticks": ""
             }
            },
            "marker": {
             "colorbar": {
              "outlinewidth": 0,
              "ticks": ""
             }
            },
            "type": "scatter3d"
           }
          ],
          "scattercarpet": [
           {
            "marker": {
             "colorbar": {
              "outlinewidth": 0,
              "ticks": ""
             }
            },
            "type": "scattercarpet"
           }
          ],
          "scattergeo": [
           {
            "marker": {
             "colorbar": {
              "outlinewidth": 0,
              "ticks": ""
             }
            },
            "type": "scattergeo"
           }
          ],
          "scattergl": [
           {
            "marker": {
             "colorbar": {
              "outlinewidth": 0,
              "ticks": ""
             }
            },
            "type": "scattergl"
           }
          ],
          "scattermapbox": [
           {
            "marker": {
             "colorbar": {
              "outlinewidth": 0,
              "ticks": ""
             }
            },
            "type": "scattermapbox"
           }
          ],
          "scatterpolar": [
           {
            "marker": {
             "colorbar": {
              "outlinewidth": 0,
              "ticks": ""
             }
            },
            "type": "scatterpolar"
           }
          ],
          "scatterpolargl": [
           {
            "marker": {
             "colorbar": {
              "outlinewidth": 0,
              "ticks": ""
             }
            },
            "type": "scatterpolargl"
           }
          ],
          "scatterternary": [
           {
            "marker": {
             "colorbar": {
              "outlinewidth": 0,
              "ticks": ""
             }
            },
            "type": "scatterternary"
           }
          ],
          "surface": [
           {
            "colorbar": {
             "outlinewidth": 0,
             "ticks": ""
            },
            "colorscale": [
             [
              0,
              "#0d0887"
             ],
             [
              0.1111111111111111,
              "#46039f"
             ],
             [
              0.2222222222222222,
              "#7201a8"
             ],
             [
              0.3333333333333333,
              "#9c179e"
             ],
             [
              0.4444444444444444,
              "#bd3786"
             ],
             [
              0.5555555555555556,
              "#d8576b"
             ],
             [
              0.6666666666666666,
              "#ed7953"
             ],
             [
              0.7777777777777778,
              "#fb9f3a"
             ],
             [
              0.8888888888888888,
              "#fdca26"
             ],
             [
              1,
              "#f0f921"
             ]
            ],
            "type": "surface"
           }
          ],
          "table": [
           {
            "cells": {
             "fill": {
              "color": "#EBF0F8"
             },
             "line": {
              "color": "white"
             }
            },
            "header": {
             "fill": {
              "color": "#C8D4E3"
             },
             "line": {
              "color": "white"
             }
            },
            "type": "table"
           }
          ]
         },
         "layout": {
          "annotationdefaults": {
           "arrowcolor": "#2a3f5f",
           "arrowhead": 0,
           "arrowwidth": 1
          },
          "autotypenumbers": "strict",
          "coloraxis": {
           "colorbar": {
            "outlinewidth": 0,
            "ticks": ""
           }
          },
          "colorscale": {
           "diverging": [
            [
             0,
             "#8e0152"
            ],
            [
             0.1,
             "#c51b7d"
            ],
            [
             0.2,
             "#de77ae"
            ],
            [
             0.3,
             "#f1b6da"
            ],
            [
             0.4,
             "#fde0ef"
            ],
            [
             0.5,
             "#f7f7f7"
            ],
            [
             0.6,
             "#e6f5d0"
            ],
            [
             0.7,
             "#b8e186"
            ],
            [
             0.8,
             "#7fbc41"
            ],
            [
             0.9,
             "#4d9221"
            ],
            [
             1,
             "#276419"
            ]
           ],
           "sequential": [
            [
             0,
             "#0d0887"
            ],
            [
             0.1111111111111111,
             "#46039f"
            ],
            [
             0.2222222222222222,
             "#7201a8"
            ],
            [
             0.3333333333333333,
             "#9c179e"
            ],
            [
             0.4444444444444444,
             "#bd3786"
            ],
            [
             0.5555555555555556,
             "#d8576b"
            ],
            [
             0.6666666666666666,
             "#ed7953"
            ],
            [
             0.7777777777777778,
             "#fb9f3a"
            ],
            [
             0.8888888888888888,
             "#fdca26"
            ],
            [
             1,
             "#f0f921"
            ]
           ],
           "sequentialminus": [
            [
             0,
             "#0d0887"
            ],
            [
             0.1111111111111111,
             "#46039f"
            ],
            [
             0.2222222222222222,
             "#7201a8"
            ],
            [
             0.3333333333333333,
             "#9c179e"
            ],
            [
             0.4444444444444444,
             "#bd3786"
            ],
            [
             0.5555555555555556,
             "#d8576b"
            ],
            [
             0.6666666666666666,
             "#ed7953"
            ],
            [
             0.7777777777777778,
             "#fb9f3a"
            ],
            [
             0.8888888888888888,
             "#fdca26"
            ],
            [
             1,
             "#f0f921"
            ]
           ]
          },
          "colorway": [
           "#636efa",
           "#EF553B",
           "#00cc96",
           "#ab63fa",
           "#FFA15A",
           "#19d3f3",
           "#FF6692",
           "#B6E880",
           "#FF97FF",
           "#FECB52"
          ],
          "font": {
           "color": "#2a3f5f"
          },
          "geo": {
           "bgcolor": "white",
           "lakecolor": "white",
           "landcolor": "#E5ECF6",
           "showlakes": true,
           "showland": true,
           "subunitcolor": "white"
          },
          "hoverlabel": {
           "align": "left"
          },
          "hovermode": "closest",
          "mapbox": {
           "style": "light"
          },
          "paper_bgcolor": "white",
          "plot_bgcolor": "#E5ECF6",
          "polar": {
           "angularaxis": {
            "gridcolor": "white",
            "linecolor": "white",
            "ticks": ""
           },
           "bgcolor": "#E5ECF6",
           "radialaxis": {
            "gridcolor": "white",
            "linecolor": "white",
            "ticks": ""
           }
          },
          "scene": {
           "xaxis": {
            "backgroundcolor": "#E5ECF6",
            "gridcolor": "white",
            "gridwidth": 2,
            "linecolor": "white",
            "showbackground": true,
            "ticks": "",
            "zerolinecolor": "white"
           },
           "yaxis": {
            "backgroundcolor": "#E5ECF6",
            "gridcolor": "white",
            "gridwidth": 2,
            "linecolor": "white",
            "showbackground": true,
            "ticks": "",
            "zerolinecolor": "white"
           },
           "zaxis": {
            "backgroundcolor": "#E5ECF6",
            "gridcolor": "white",
            "gridwidth": 2,
            "linecolor": "white",
            "showbackground": true,
            "ticks": "",
            "zerolinecolor": "white"
           }
          },
          "shapedefaults": {
           "line": {
            "color": "#2a3f5f"
           }
          },
          "ternary": {
           "aaxis": {
            "gridcolor": "white",
            "linecolor": "white",
            "ticks": ""
           },
           "baxis": {
            "gridcolor": "white",
            "linecolor": "white",
            "ticks": ""
           },
           "bgcolor": "#E5ECF6",
           "caxis": {
            "gridcolor": "white",
            "linecolor": "white",
            "ticks": ""
           }
          },
          "title": {
           "x": 0.05
          },
          "xaxis": {
           "automargin": true,
           "gridcolor": "white",
           "linecolor": "white",
           "ticks": "",
           "title": {
            "standoff": 15
           },
           "zerolinecolor": "white",
           "zerolinewidth": 2
          },
          "yaxis": {
           "automargin": true,
           "gridcolor": "white",
           "linecolor": "white",
           "ticks": "",
           "title": {
            "standoff": 15
           },
           "zerolinecolor": "white",
           "zerolinewidth": 2
          }
         }
        },
        "xaxis": {
         "anchor": "y",
         "domain": [
          0,
          0.7363
         ],
         "title": {
          "text": "rawF1"
         }
        },
        "xaxis2": {
         "anchor": "y2",
         "domain": [
          0.7413,
          1
         ],
         "matches": "x2",
         "showgrid": true,
         "showline": false,
         "showticklabels": false,
         "ticks": ""
        },
        "yaxis": {
         "anchor": "x",
         "domain": [
          0,
          1
         ],
         "title": {
          "text": "eventF1"
         }
        },
        "yaxis2": {
         "anchor": "x2",
         "domain": [
          0,
          1
         ],
         "matches": "y",
         "showgrid": true,
         "showticklabels": false
        }
       }
      }
     },
     "metadata": {},
     "output_type": "display_data"
    }
   ],
   "source": [
    "fig=px.scatter(experimentModels,x='rawF1',y='eventF1',color='test',hover_name='modelId', marginal_y=\"histogram\")\n",
    "fig.add_trace(\n",
    "    go.Scatter(x=experimentModels['rawF1'], y=experimentModels['rawF1'], name=\"identity\", mode='lines',fill=\"toself\")\n",
    ")\n",
    "fig.show()"
   ]
  },
  {
   "cell_type": "code",
   "execution_count": 23,
   "metadata": {},
   "outputs": [
    {
     "data": {
      "application/vnd.plotly.v1+json": {
       "config": {
        "plotlyServerURL": "https://plot.ly"
       },
       "data": [
        {
         "hovertemplate": "<b>%{hovertext}</b><br><br>test=0001<br>eventF1=%{x}<br>eventPrecision=%{y}<extra></extra>",
         "hovertext": [
          "d51d037b-304a-48df-970e-58aac592ac87"
         ],
         "legendgroup": "0001",
         "marker": {
          "color": "#636efa",
          "symbol": "circle"
         },
         "mode": "markers",
         "name": "0001",
         "orientation": "v",
         "showlegend": true,
         "type": "scatter",
         "x": [
          0.6781883194278904
         ],
         "xaxis": "x",
         "y": [
          0.8974763406940063
         ],
         "yaxis": "y"
        },
        {
         "alignmentgroup": "True",
         "bingroup": "y",
         "hovertemplate": "test=0001<br>eventPrecision=%{y}<br>count=%{x}<extra></extra>",
         "legendgroup": "0001",
         "marker": {
          "color": "#636efa"
         },
         "name": "0001",
         "offsetgroup": "0001",
         "opacity": 0.5,
         "showlegend": false,
         "type": "histogram",
         "xaxis": "x2",
         "y": [
          0.8974763406940063
         ],
         "yaxis": "y2"
        },
        {
         "hovertemplate": "<b>%{hovertext}</b><br><br>test=0002<br>eventF1=%{x}<br>eventPrecision=%{y}<extra></extra>",
         "hovertext": [
          "50ebd176-f601-4f02-bcd5-e0c07a362a35"
         ],
         "legendgroup": "0002",
         "marker": {
          "color": "#EF553B",
          "symbol": "circle"
         },
         "mode": "markers",
         "name": "0002",
         "orientation": "v",
         "showlegend": true,
         "type": "scatter",
         "x": [
          0.7891491985203453
         ],
         "xaxis": "x",
         "y": [
          0.7441860465116279
         ],
         "yaxis": "y"
        },
        {
         "alignmentgroup": "True",
         "bingroup": "y",
         "hovertemplate": "test=0002<br>eventPrecision=%{y}<br>count=%{x}<extra></extra>",
         "legendgroup": "0002",
         "marker": {
          "color": "#EF553B"
         },
         "name": "0002",
         "offsetgroup": "0002",
         "opacity": 0.5,
         "showlegend": false,
         "type": "histogram",
         "xaxis": "x2",
         "y": [
          0.7441860465116279
         ],
         "yaxis": "y2"
        },
        {
         "hovertemplate": "<b>%{hovertext}</b><br><br>test=0003<br>eventF1=%{x}<br>eventPrecision=%{y}<extra></extra>",
         "hovertext": [
          "ad0e1cc1-5a53-45b1-b13e-ca760e58c787"
         ],
         "legendgroup": "0003",
         "marker": {
          "color": "#00cc96",
          "symbol": "circle"
         },
         "mode": "markers",
         "name": "0003",
         "orientation": "v",
         "showlegend": true,
         "type": "scatter",
         "x": [
          0.6584615384615384
         ],
         "xaxis": "x",
         "y": [
          0.5879120879120879
         ],
         "yaxis": "y"
        },
        {
         "alignmentgroup": "True",
         "bingroup": "y",
         "hovertemplate": "test=0003<br>eventPrecision=%{y}<br>count=%{x}<extra></extra>",
         "legendgroup": "0003",
         "marker": {
          "color": "#00cc96"
         },
         "name": "0003",
         "offsetgroup": "0003",
         "opacity": 0.5,
         "showlegend": false,
         "type": "histogram",
         "xaxis": "x2",
         "y": [
          0.5879120879120879
         ],
         "yaxis": "y2"
        },
        {
         "hovertemplate": "<b>%{hovertext}</b><br><br>test=0005<br>eventF1=%{x}<br>eventPrecision=%{y}<extra></extra>",
         "hovertext": [
          "953522b6-a687-4555-b7bd-64e50323f539"
         ],
         "legendgroup": "0005",
         "marker": {
          "color": "#ab63fa",
          "symbol": "circle"
         },
         "mode": "markers",
         "name": "0005",
         "orientation": "v",
         "showlegend": true,
         "type": "scatter",
         "x": [
          0.6681922196796338
         ],
         "xaxis": "x",
         "y": [
          0.5478424015009381
         ],
         "yaxis": "y"
        },
        {
         "alignmentgroup": "True",
         "bingroup": "y",
         "hovertemplate": "test=0005<br>eventPrecision=%{y}<br>count=%{x}<extra></extra>",
         "legendgroup": "0005",
         "marker": {
          "color": "#ab63fa"
         },
         "name": "0005",
         "offsetgroup": "0005",
         "opacity": 0.5,
         "showlegend": false,
         "type": "histogram",
         "xaxis": "x2",
         "y": [
          0.5478424015009381
         ],
         "yaxis": "y2"
        },
        {
         "hovertemplate": "<b>%{hovertext}</b><br><br>test=0006<br>eventF1=%{x}<br>eventPrecision=%{y}<extra></extra>",
         "hovertext": [
          "fdff7a52-c874-434c-b79a-4652e6521b61"
         ],
         "legendgroup": "0006",
         "marker": {
          "color": "#FFA15A",
          "symbol": "circle"
         },
         "mode": "markers",
         "name": "0006",
         "orientation": "v",
         "showlegend": true,
         "type": "scatter",
         "x": [
          0.6734006734006734
         ],
         "xaxis": "x",
         "y": [
          0.6802721088435374
         ],
         "yaxis": "y"
        },
        {
         "alignmentgroup": "True",
         "bingroup": "y",
         "hovertemplate": "test=0006<br>eventPrecision=%{y}<br>count=%{x}<extra></extra>",
         "legendgroup": "0006",
         "marker": {
          "color": "#FFA15A"
         },
         "name": "0006",
         "offsetgroup": "0006",
         "opacity": 0.5,
         "showlegend": false,
         "type": "histogram",
         "xaxis": "x2",
         "y": [
          0.6802721088435374
         ],
         "yaxis": "y2"
        },
        {
         "hovertemplate": "<b>%{hovertext}</b><br><br>test=0007<br>eventF1=%{x}<br>eventPrecision=%{y}<extra></extra>",
         "hovertext": [
          "a99170bc-4dc5-4b27-84df-f565c6f142c5"
         ],
         "legendgroup": "0007",
         "marker": {
          "color": "#19d3f3",
          "symbol": "circle"
         },
         "mode": "markers",
         "name": "0007",
         "orientation": "v",
         "showlegend": true,
         "type": "scatter",
         "x": [
          0.6407685881370092
         ],
         "xaxis": "x",
         "y": [
          0.5175438596491229
         ],
         "yaxis": "y"
        },
        {
         "alignmentgroup": "True",
         "bingroup": "y",
         "hovertemplate": "test=0007<br>eventPrecision=%{y}<br>count=%{x}<extra></extra>",
         "legendgroup": "0007",
         "marker": {
          "color": "#19d3f3"
         },
         "name": "0007",
         "offsetgroup": "0007",
         "opacity": 0.5,
         "showlegend": false,
         "type": "histogram",
         "xaxis": "x2",
         "y": [
          0.5175438596491229
         ],
         "yaxis": "y2"
        },
        {
         "hovertemplate": "<b>%{hovertext}</b><br><br>test=0009<br>eventF1=%{x}<br>eventPrecision=%{y}<extra></extra>",
         "hovertext": [
          "d4f86014-a983-4a56-940a-a53396539084"
         ],
         "legendgroup": "0009",
         "marker": {
          "color": "#FF6692",
          "symbol": "circle"
         },
         "mode": "markers",
         "name": "0009",
         "orientation": "v",
         "showlegend": true,
         "type": "scatter",
         "x": [
          0.7699468085106383
         ],
         "xaxis": "x",
         "y": [
          0.8391304347826087
         ],
         "yaxis": "y"
        },
        {
         "alignmentgroup": "True",
         "bingroup": "y",
         "hovertemplate": "test=0009<br>eventPrecision=%{y}<br>count=%{x}<extra></extra>",
         "legendgroup": "0009",
         "marker": {
          "color": "#FF6692"
         },
         "name": "0009",
         "offsetgroup": "0009",
         "opacity": 0.5,
         "showlegend": false,
         "type": "histogram",
         "xaxis": "x2",
         "y": [
          0.8391304347826087
         ],
         "yaxis": "y2"
        },
        {
         "hovertemplate": "<b>%{hovertext}</b><br><br>test=0010<br>eventF1=%{x}<br>eventPrecision=%{y}<extra></extra>",
         "hovertext": [
          "b9ba925c-8862-41ae-85ac-87efe667dc99"
         ],
         "legendgroup": "0010",
         "marker": {
          "color": "#B6E880",
          "symbol": "circle"
         },
         "mode": "markers",
         "name": "0010",
         "orientation": "v",
         "showlegend": true,
         "type": "scatter",
         "x": [
          0.7682576193214491
         ],
         "xaxis": "x",
         "y": [
          0.7076271186440678
         ],
         "yaxis": "y"
        },
        {
         "alignmentgroup": "True",
         "bingroup": "y",
         "hovertemplate": "test=0010<br>eventPrecision=%{y}<br>count=%{x}<extra></extra>",
         "legendgroup": "0010",
         "marker": {
          "color": "#B6E880"
         },
         "name": "0010",
         "offsetgroup": "0010",
         "opacity": 0.5,
         "showlegend": false,
         "type": "histogram",
         "xaxis": "x2",
         "y": [
          0.7076271186440678
         ],
         "yaxis": "y2"
        },
        {
         "hovertemplate": "<b>%{hovertext}</b><br><br>test=0011<br>eventF1=%{x}<br>eventPrecision=%{y}<extra></extra>",
         "hovertext": [
          "9a796814-2401-4dbb-811c-695c7c0888bb"
         ],
         "legendgroup": "0011",
         "marker": {
          "color": "#FF97FF",
          "symbol": "circle"
         },
         "mode": "markers",
         "name": "0011",
         "orientation": "v",
         "showlegend": true,
         "type": "scatter",
         "x": [
          0.686819830713422
         ],
         "xaxis": "x",
         "y": [
          0.5419847328244275
         ],
         "yaxis": "y"
        },
        {
         "alignmentgroup": "True",
         "bingroup": "y",
         "hovertemplate": "test=0011<br>eventPrecision=%{y}<br>count=%{x}<extra></extra>",
         "legendgroup": "0011",
         "marker": {
          "color": "#FF97FF"
         },
         "name": "0011",
         "offsetgroup": "0011",
         "opacity": 0.5,
         "showlegend": false,
         "type": "histogram",
         "xaxis": "x2",
         "y": [
          0.5419847328244275
         ],
         "yaxis": "y2"
        },
        {
         "hovertemplate": "<b>%{hovertext}</b><br><br>test=0012<br>eventF1=%{x}<br>eventPrecision=%{y}<extra></extra>",
         "hovertext": [
          "3be685c1-02ea-4a2f-8478-ca265ccc3196"
         ],
         "legendgroup": "0012",
         "marker": {
          "color": "#FECB52",
          "symbol": "circle"
         },
         "mode": "markers",
         "name": "0012",
         "orientation": "v",
         "showlegend": true,
         "type": "scatter",
         "x": [
          0.7257264351523742
         ],
         "xaxis": "x",
         "y": [
          0.7293447293447294
         ],
         "yaxis": "y"
        },
        {
         "alignmentgroup": "True",
         "bingroup": "y",
         "hovertemplate": "test=0012<br>eventPrecision=%{y}<br>count=%{x}<extra></extra>",
         "legendgroup": "0012",
         "marker": {
          "color": "#FECB52"
         },
         "name": "0012",
         "offsetgroup": "0012",
         "opacity": 0.5,
         "showlegend": false,
         "type": "histogram",
         "xaxis": "x2",
         "y": [
          0.7293447293447294
         ],
         "yaxis": "y2"
        },
        {
         "hovertemplate": "<b>%{hovertext}</b><br><br>test=0013<br>eventF1=%{x}<br>eventPrecision=%{y}<extra></extra>",
         "hovertext": [
          "016159f4-e171-4f6e-a510-0e5e140f8929"
         ],
         "legendgroup": "0013",
         "marker": {
          "color": "#636efa",
          "symbol": "circle"
         },
         "mode": "markers",
         "name": "0013",
         "orientation": "v",
         "showlegend": true,
         "type": "scatter",
         "x": [
          0.677319587628866
         ],
         "xaxis": "x",
         "y": [
          0.5289855072463768
         ],
         "yaxis": "y"
        },
        {
         "alignmentgroup": "True",
         "bingroup": "y",
         "hovertemplate": "test=0013<br>eventPrecision=%{y}<br>count=%{x}<extra></extra>",
         "legendgroup": "0013",
         "marker": {
          "color": "#636efa"
         },
         "name": "0013",
         "offsetgroup": "0013",
         "opacity": 0.5,
         "showlegend": false,
         "type": "histogram",
         "xaxis": "x2",
         "y": [
          0.5289855072463768
         ],
         "yaxis": "y2"
        },
        {
         "hovertemplate": "<b>%{hovertext}</b><br><br>test=0014<br>eventF1=%{x}<br>eventPrecision=%{y}<extra></extra>",
         "hovertext": [
          "da40a91f-c09e-4752-899f-0d848fc48c20"
         ],
         "legendgroup": "0014",
         "marker": {
          "color": "#EF553B",
          "symbol": "circle"
         },
         "mode": "markers",
         "name": "0014",
         "orientation": "v",
         "showlegend": true,
         "type": "scatter",
         "x": [
          0.5990338164251208
         ],
         "xaxis": "x",
         "y": [
          0.43578274760383384
         ],
         "yaxis": "y"
        },
        {
         "alignmentgroup": "True",
         "bingroup": "y",
         "hovertemplate": "test=0014<br>eventPrecision=%{y}<br>count=%{x}<extra></extra>",
         "legendgroup": "0014",
         "marker": {
          "color": "#EF553B"
         },
         "name": "0014",
         "offsetgroup": "0014",
         "opacity": 0.5,
         "showlegend": false,
         "type": "histogram",
         "xaxis": "x2",
         "y": [
          0.43578274760383384
         ],
         "yaxis": "y2"
        },
        {
         "hovertemplate": "<b>%{hovertext}</b><br><br>test=0017<br>eventF1=%{x}<br>eventPrecision=%{y}<extra></extra>",
         "hovertext": [
          "c30b34f2-52b8-47af-9309-81c72f52ea3d"
         ],
         "legendgroup": "0017",
         "marker": {
          "color": "#00cc96",
          "symbol": "circle"
         },
         "mode": "markers",
         "name": "0017",
         "orientation": "v",
         "showlegend": true,
         "type": "scatter",
         "x": [
          0.737217598097503
         ],
         "xaxis": "x",
         "y": [
          0.8355795148247979
         ],
         "yaxis": "y"
        },
        {
         "alignmentgroup": "True",
         "bingroup": "y",
         "hovertemplate": "test=0017<br>eventPrecision=%{y}<br>count=%{x}<extra></extra>",
         "legendgroup": "0017",
         "marker": {
          "color": "#00cc96"
         },
         "name": "0017",
         "offsetgroup": "0017",
         "opacity": 0.5,
         "showlegend": false,
         "type": "histogram",
         "xaxis": "x2",
         "y": [
          0.8355795148247979
         ],
         "yaxis": "y2"
        },
        {
         "hovertemplate": "<b>%{hovertext}</b><br><br>test=0018<br>eventF1=%{x}<br>eventPrecision=%{y}<extra></extra>",
         "hovertext": [
          "63920ef1-b7bd-453c-af1b-c87e2c3f9ad0"
         ],
         "legendgroup": "0018",
         "marker": {
          "color": "#ab63fa",
          "symbol": "circle"
         },
         "mode": "markers",
         "name": "0018",
         "orientation": "v",
         "showlegend": true,
         "type": "scatter",
         "x": [
          0.7404172731683649
         ],
         "xaxis": "x",
         "y": [
          0.850613154960981
         ],
         "yaxis": "y"
        },
        {
         "alignmentgroup": "True",
         "bingroup": "y",
         "hovertemplate": "test=0018<br>eventPrecision=%{y}<br>count=%{x}<extra></extra>",
         "legendgroup": "0018",
         "marker": {
          "color": "#ab63fa"
         },
         "name": "0018",
         "offsetgroup": "0018",
         "opacity": 0.5,
         "showlegend": false,
         "type": "histogram",
         "xaxis": "x2",
         "y": [
          0.850613154960981
         ],
         "yaxis": "y2"
        },
        {
         "hovertemplate": "<b>%{hovertext}</b><br><br>test=0019<br>eventF1=%{x}<br>eventPrecision=%{y}<extra></extra>",
         "hovertext": [
          "73a45ddb-cbce-44c1-8ed8-007d5677989f"
         ],
         "legendgroup": "0019",
         "marker": {
          "color": "#FFA15A",
          "symbol": "circle"
         },
         "mode": "markers",
         "name": "0019",
         "orientation": "v",
         "showlegend": true,
         "type": "scatter",
         "x": [
          0.5716911764705882
         ],
         "xaxis": "x",
         "y": [
          0.4023285899094437
         ],
         "yaxis": "y"
        },
        {
         "alignmentgroup": "True",
         "bingroup": "y",
         "hovertemplate": "test=0019<br>eventPrecision=%{y}<br>count=%{x}<extra></extra>",
         "legendgroup": "0019",
         "marker": {
          "color": "#FFA15A"
         },
         "name": "0019",
         "offsetgroup": "0019",
         "opacity": 0.5,
         "showlegend": false,
         "type": "histogram",
         "xaxis": "x2",
         "y": [
          0.4023285899094437
         ],
         "yaxis": "y2"
        },
        {
         "fill": "toself",
         "mode": "lines",
         "name": "identity",
         "type": "scatter",
         "x": [
          0.6781883194278904,
          0.7891491985203453,
          0.6584615384615384,
          0.6681922196796338,
          0.6734006734006734,
          0.6407685881370092,
          0.7699468085106383,
          0.7682576193214491,
          0.686819830713422,
          0.7257264351523742,
          0.677319587628866,
          0.5990338164251208,
          0.737217598097503,
          0.7404172731683649,
          0.5716911764705882
         ],
         "y": [
          0.6781883194278904,
          0.7891491985203453,
          0.6584615384615384,
          0.6681922196796338,
          0.6734006734006734,
          0.6407685881370092,
          0.7699468085106383,
          0.7682576193214491,
          0.686819830713422,
          0.7257264351523742,
          0.677319587628866,
          0.5990338164251208,
          0.737217598097503,
          0.7404172731683649,
          0.5716911764705882
         ]
        }
       ],
       "layout": {
        "barmode": "overlay",
        "legend": {
         "title": {
          "text": "test"
         },
         "tracegroupgap": 0
        },
        "margin": {
         "t": 60
        },
        "template": {
         "data": {
          "bar": [
           {
            "error_x": {
             "color": "#2a3f5f"
            },
            "error_y": {
             "color": "#2a3f5f"
            },
            "marker": {
             "line": {
              "color": "#E5ECF6",
              "width": 0.5
             },
             "pattern": {
              "fillmode": "overlay",
              "size": 10,
              "solidity": 0.2
             }
            },
            "type": "bar"
           }
          ],
          "barpolar": [
           {
            "marker": {
             "line": {
              "color": "#E5ECF6",
              "width": 0.5
             },
             "pattern": {
              "fillmode": "overlay",
              "size": 10,
              "solidity": 0.2
             }
            },
            "type": "barpolar"
           }
          ],
          "carpet": [
           {
            "aaxis": {
             "endlinecolor": "#2a3f5f",
             "gridcolor": "white",
             "linecolor": "white",
             "minorgridcolor": "white",
             "startlinecolor": "#2a3f5f"
            },
            "baxis": {
             "endlinecolor": "#2a3f5f",
             "gridcolor": "white",
             "linecolor": "white",
             "minorgridcolor": "white",
             "startlinecolor": "#2a3f5f"
            },
            "type": "carpet"
           }
          ],
          "choropleth": [
           {
            "colorbar": {
             "outlinewidth": 0,
             "ticks": ""
            },
            "type": "choropleth"
           }
          ],
          "contour": [
           {
            "colorbar": {
             "outlinewidth": 0,
             "ticks": ""
            },
            "colorscale": [
             [
              0,
              "#0d0887"
             ],
             [
              0.1111111111111111,
              "#46039f"
             ],
             [
              0.2222222222222222,
              "#7201a8"
             ],
             [
              0.3333333333333333,
              "#9c179e"
             ],
             [
              0.4444444444444444,
              "#bd3786"
             ],
             [
              0.5555555555555556,
              "#d8576b"
             ],
             [
              0.6666666666666666,
              "#ed7953"
             ],
             [
              0.7777777777777778,
              "#fb9f3a"
             ],
             [
              0.8888888888888888,
              "#fdca26"
             ],
             [
              1,
              "#f0f921"
             ]
            ],
            "type": "contour"
           }
          ],
          "contourcarpet": [
           {
            "colorbar": {
             "outlinewidth": 0,
             "ticks": ""
            },
            "type": "contourcarpet"
           }
          ],
          "heatmap": [
           {
            "colorbar": {
             "outlinewidth": 0,
             "ticks": ""
            },
            "colorscale": [
             [
              0,
              "#0d0887"
             ],
             [
              0.1111111111111111,
              "#46039f"
             ],
             [
              0.2222222222222222,
              "#7201a8"
             ],
             [
              0.3333333333333333,
              "#9c179e"
             ],
             [
              0.4444444444444444,
              "#bd3786"
             ],
             [
              0.5555555555555556,
              "#d8576b"
             ],
             [
              0.6666666666666666,
              "#ed7953"
             ],
             [
              0.7777777777777778,
              "#fb9f3a"
             ],
             [
              0.8888888888888888,
              "#fdca26"
             ],
             [
              1,
              "#f0f921"
             ]
            ],
            "type": "heatmap"
           }
          ],
          "heatmapgl": [
           {
            "colorbar": {
             "outlinewidth": 0,
             "ticks": ""
            },
            "colorscale": [
             [
              0,
              "#0d0887"
             ],
             [
              0.1111111111111111,
              "#46039f"
             ],
             [
              0.2222222222222222,
              "#7201a8"
             ],
             [
              0.3333333333333333,
              "#9c179e"
             ],
             [
              0.4444444444444444,
              "#bd3786"
             ],
             [
              0.5555555555555556,
              "#d8576b"
             ],
             [
              0.6666666666666666,
              "#ed7953"
             ],
             [
              0.7777777777777778,
              "#fb9f3a"
             ],
             [
              0.8888888888888888,
              "#fdca26"
             ],
             [
              1,
              "#f0f921"
             ]
            ],
            "type": "heatmapgl"
           }
          ],
          "histogram": [
           {
            "marker": {
             "pattern": {
              "fillmode": "overlay",
              "size": 10,
              "solidity": 0.2
             }
            },
            "type": "histogram"
           }
          ],
          "histogram2d": [
           {
            "colorbar": {
             "outlinewidth": 0,
             "ticks": ""
            },
            "colorscale": [
             [
              0,
              "#0d0887"
             ],
             [
              0.1111111111111111,
              "#46039f"
             ],
             [
              0.2222222222222222,
              "#7201a8"
             ],
             [
              0.3333333333333333,
              "#9c179e"
             ],
             [
              0.4444444444444444,
              "#bd3786"
             ],
             [
              0.5555555555555556,
              "#d8576b"
             ],
             [
              0.6666666666666666,
              "#ed7953"
             ],
             [
              0.7777777777777778,
              "#fb9f3a"
             ],
             [
              0.8888888888888888,
              "#fdca26"
             ],
             [
              1,
              "#f0f921"
             ]
            ],
            "type": "histogram2d"
           }
          ],
          "histogram2dcontour": [
           {
            "colorbar": {
             "outlinewidth": 0,
             "ticks": ""
            },
            "colorscale": [
             [
              0,
              "#0d0887"
             ],
             [
              0.1111111111111111,
              "#46039f"
             ],
             [
              0.2222222222222222,
              "#7201a8"
             ],
             [
              0.3333333333333333,
              "#9c179e"
             ],
             [
              0.4444444444444444,
              "#bd3786"
             ],
             [
              0.5555555555555556,
              "#d8576b"
             ],
             [
              0.6666666666666666,
              "#ed7953"
             ],
             [
              0.7777777777777778,
              "#fb9f3a"
             ],
             [
              0.8888888888888888,
              "#fdca26"
             ],
             [
              1,
              "#f0f921"
             ]
            ],
            "type": "histogram2dcontour"
           }
          ],
          "mesh3d": [
           {
            "colorbar": {
             "outlinewidth": 0,
             "ticks": ""
            },
            "type": "mesh3d"
           }
          ],
          "parcoords": [
           {
            "line": {
             "colorbar": {
              "outlinewidth": 0,
              "ticks": ""
             }
            },
            "type": "parcoords"
           }
          ],
          "pie": [
           {
            "automargin": true,
            "type": "pie"
           }
          ],
          "scatter": [
           {
            "fillpattern": {
             "fillmode": "overlay",
             "size": 10,
             "solidity": 0.2
            },
            "type": "scatter"
           }
          ],
          "scatter3d": [
           {
            "line": {
             "colorbar": {
              "outlinewidth": 0,
              "ticks": ""
             }
            },
            "marker": {
             "colorbar": {
              "outlinewidth": 0,
              "ticks": ""
             }
            },
            "type": "scatter3d"
           }
          ],
          "scattercarpet": [
           {
            "marker": {
             "colorbar": {
              "outlinewidth": 0,
              "ticks": ""
             }
            },
            "type": "scattercarpet"
           }
          ],
          "scattergeo": [
           {
            "marker": {
             "colorbar": {
              "outlinewidth": 0,
              "ticks": ""
             }
            },
            "type": "scattergeo"
           }
          ],
          "scattergl": [
           {
            "marker": {
             "colorbar": {
              "outlinewidth": 0,
              "ticks": ""
             }
            },
            "type": "scattergl"
           }
          ],
          "scattermapbox": [
           {
            "marker": {
             "colorbar": {
              "outlinewidth": 0,
              "ticks": ""
             }
            },
            "type": "scattermapbox"
           }
          ],
          "scatterpolar": [
           {
            "marker": {
             "colorbar": {
              "outlinewidth": 0,
              "ticks": ""
             }
            },
            "type": "scatterpolar"
           }
          ],
          "scatterpolargl": [
           {
            "marker": {
             "colorbar": {
              "outlinewidth": 0,
              "ticks": ""
             }
            },
            "type": "scatterpolargl"
           }
          ],
          "scatterternary": [
           {
            "marker": {
             "colorbar": {
              "outlinewidth": 0,
              "ticks": ""
             }
            },
            "type": "scatterternary"
           }
          ],
          "surface": [
           {
            "colorbar": {
             "outlinewidth": 0,
             "ticks": ""
            },
            "colorscale": [
             [
              0,
              "#0d0887"
             ],
             [
              0.1111111111111111,
              "#46039f"
             ],
             [
              0.2222222222222222,
              "#7201a8"
             ],
             [
              0.3333333333333333,
              "#9c179e"
             ],
             [
              0.4444444444444444,
              "#bd3786"
             ],
             [
              0.5555555555555556,
              "#d8576b"
             ],
             [
              0.6666666666666666,
              "#ed7953"
             ],
             [
              0.7777777777777778,
              "#fb9f3a"
             ],
             [
              0.8888888888888888,
              "#fdca26"
             ],
             [
              1,
              "#f0f921"
             ]
            ],
            "type": "surface"
           }
          ],
          "table": [
           {
            "cells": {
             "fill": {
              "color": "#EBF0F8"
             },
             "line": {
              "color": "white"
             }
            },
            "header": {
             "fill": {
              "color": "#C8D4E3"
             },
             "line": {
              "color": "white"
             }
            },
            "type": "table"
           }
          ]
         },
         "layout": {
          "annotationdefaults": {
           "arrowcolor": "#2a3f5f",
           "arrowhead": 0,
           "arrowwidth": 1
          },
          "autotypenumbers": "strict",
          "coloraxis": {
           "colorbar": {
            "outlinewidth": 0,
            "ticks": ""
           }
          },
          "colorscale": {
           "diverging": [
            [
             0,
             "#8e0152"
            ],
            [
             0.1,
             "#c51b7d"
            ],
            [
             0.2,
             "#de77ae"
            ],
            [
             0.3,
             "#f1b6da"
            ],
            [
             0.4,
             "#fde0ef"
            ],
            [
             0.5,
             "#f7f7f7"
            ],
            [
             0.6,
             "#e6f5d0"
            ],
            [
             0.7,
             "#b8e186"
            ],
            [
             0.8,
             "#7fbc41"
            ],
            [
             0.9,
             "#4d9221"
            ],
            [
             1,
             "#276419"
            ]
           ],
           "sequential": [
            [
             0,
             "#0d0887"
            ],
            [
             0.1111111111111111,
             "#46039f"
            ],
            [
             0.2222222222222222,
             "#7201a8"
            ],
            [
             0.3333333333333333,
             "#9c179e"
            ],
            [
             0.4444444444444444,
             "#bd3786"
            ],
            [
             0.5555555555555556,
             "#d8576b"
            ],
            [
             0.6666666666666666,
             "#ed7953"
            ],
            [
             0.7777777777777778,
             "#fb9f3a"
            ],
            [
             0.8888888888888888,
             "#fdca26"
            ],
            [
             1,
             "#f0f921"
            ]
           ],
           "sequentialminus": [
            [
             0,
             "#0d0887"
            ],
            [
             0.1111111111111111,
             "#46039f"
            ],
            [
             0.2222222222222222,
             "#7201a8"
            ],
            [
             0.3333333333333333,
             "#9c179e"
            ],
            [
             0.4444444444444444,
             "#bd3786"
            ],
            [
             0.5555555555555556,
             "#d8576b"
            ],
            [
             0.6666666666666666,
             "#ed7953"
            ],
            [
             0.7777777777777778,
             "#fb9f3a"
            ],
            [
             0.8888888888888888,
             "#fdca26"
            ],
            [
             1,
             "#f0f921"
            ]
           ]
          },
          "colorway": [
           "#636efa",
           "#EF553B",
           "#00cc96",
           "#ab63fa",
           "#FFA15A",
           "#19d3f3",
           "#FF6692",
           "#B6E880",
           "#FF97FF",
           "#FECB52"
          ],
          "font": {
           "color": "#2a3f5f"
          },
          "geo": {
           "bgcolor": "white",
           "lakecolor": "white",
           "landcolor": "#E5ECF6",
           "showlakes": true,
           "showland": true,
           "subunitcolor": "white"
          },
          "hoverlabel": {
           "align": "left"
          },
          "hovermode": "closest",
          "mapbox": {
           "style": "light"
          },
          "paper_bgcolor": "white",
          "plot_bgcolor": "#E5ECF6",
          "polar": {
           "angularaxis": {
            "gridcolor": "white",
            "linecolor": "white",
            "ticks": ""
           },
           "bgcolor": "#E5ECF6",
           "radialaxis": {
            "gridcolor": "white",
            "linecolor": "white",
            "ticks": ""
           }
          },
          "scene": {
           "xaxis": {
            "backgroundcolor": "#E5ECF6",
            "gridcolor": "white",
            "gridwidth": 2,
            "linecolor": "white",
            "showbackground": true,
            "ticks": "",
            "zerolinecolor": "white"
           },
           "yaxis": {
            "backgroundcolor": "#E5ECF6",
            "gridcolor": "white",
            "gridwidth": 2,
            "linecolor": "white",
            "showbackground": true,
            "ticks": "",
            "zerolinecolor": "white"
           },
           "zaxis": {
            "backgroundcolor": "#E5ECF6",
            "gridcolor": "white",
            "gridwidth": 2,
            "linecolor": "white",
            "showbackground": true,
            "ticks": "",
            "zerolinecolor": "white"
           }
          },
          "shapedefaults": {
           "line": {
            "color": "#2a3f5f"
           }
          },
          "ternary": {
           "aaxis": {
            "gridcolor": "white",
            "linecolor": "white",
            "ticks": ""
           },
           "baxis": {
            "gridcolor": "white",
            "linecolor": "white",
            "ticks": ""
           },
           "bgcolor": "#E5ECF6",
           "caxis": {
            "gridcolor": "white",
            "linecolor": "white",
            "ticks": ""
           }
          },
          "title": {
           "x": 0.05
          },
          "xaxis": {
           "automargin": true,
           "gridcolor": "white",
           "linecolor": "white",
           "ticks": "",
           "title": {
            "standoff": 15
           },
           "zerolinecolor": "white",
           "zerolinewidth": 2
          },
          "yaxis": {
           "automargin": true,
           "gridcolor": "white",
           "linecolor": "white",
           "ticks": "",
           "title": {
            "standoff": 15
           },
           "zerolinecolor": "white",
           "zerolinewidth": 2
          }
         }
        },
        "xaxis": {
         "anchor": "y",
         "domain": [
          0,
          0.7363
         ],
         "title": {
          "text": "eventF1"
         }
        },
        "xaxis2": {
         "anchor": "y2",
         "domain": [
          0.7413,
          1
         ],
         "matches": "x2",
         "showgrid": true,
         "showline": false,
         "showticklabels": false,
         "ticks": ""
        },
        "yaxis": {
         "anchor": "x",
         "domain": [
          0,
          1
         ],
         "title": {
          "text": "eventPrecision"
         }
        },
        "yaxis2": {
         "anchor": "x2",
         "domain": [
          0,
          1
         ],
         "matches": "y",
         "showgrid": true,
         "showticklabels": false
        }
       }
      }
     },
     "metadata": {},
     "output_type": "display_data"
    }
   ],
   "source": [
    "fig=px.scatter(experimentModels,x='eventF1',y='eventPrecision',color='test',hover_name='modelId', marginal_y=\"histogram\")\n",
    "fig.add_trace(\n",
    "    go.Scatter(x=experimentModels['eventF1'], y=experimentModels['eventF1'], name=\"identity\", mode='lines',fill=\"toself\")\n",
    ")\n",
    "fig.show()"
   ]
  },
  {
   "cell_type": "code",
   "execution_count": 24,
   "metadata": {},
   "outputs": [
    {
     "data": {
      "application/vnd.plotly.v1+json": {
       "config": {
        "plotlyServerURL": "https://plot.ly"
       },
       "data": [
        {
         "hovertemplate": "<b>%{hovertext}</b><br><br>test=0001<br>eventF1=%{x}<br>eventRecall=%{y}<extra></extra>",
         "hovertext": [
          "d51d037b-304a-48df-970e-58aac592ac87"
         ],
         "legendgroup": "0001",
         "marker": {
          "color": "#636efa",
          "symbol": "circle"
         },
         "mode": "markers",
         "name": "0001",
         "orientation": "v",
         "showlegend": true,
         "type": "scatter",
         "x": [
          0.6781883194278904
         ],
         "xaxis": "x",
         "y": [
          0.5450191570881227
         ],
         "yaxis": "y"
        },
        {
         "alignmentgroup": "True",
         "bingroup": "y",
         "hovertemplate": "test=0001<br>eventRecall=%{y}<br>count=%{x}<extra></extra>",
         "legendgroup": "0001",
         "marker": {
          "color": "#636efa"
         },
         "name": "0001",
         "offsetgroup": "0001",
         "opacity": 0.5,
         "showlegend": false,
         "type": "histogram",
         "xaxis": "x2",
         "y": [
          0.5450191570881227
         ],
         "yaxis": "y2"
        },
        {
         "hovertemplate": "<b>%{hovertext}</b><br><br>test=0002<br>eventF1=%{x}<br>eventRecall=%{y}<extra></extra>",
         "hovertext": [
          "50ebd176-f601-4f02-bcd5-e0c07a362a35"
         ],
         "legendgroup": "0002",
         "marker": {
          "color": "#EF553B",
          "symbol": "circle"
         },
         "mode": "markers",
         "name": "0002",
         "orientation": "v",
         "showlegend": true,
         "type": "scatter",
         "x": [
          0.7891491985203453
         ],
         "xaxis": "x",
         "y": [
          0.8398950131233596
         ],
         "yaxis": "y"
        },
        {
         "alignmentgroup": "True",
         "bingroup": "y",
         "hovertemplate": "test=0002<br>eventRecall=%{y}<br>count=%{x}<extra></extra>",
         "legendgroup": "0002",
         "marker": {
          "color": "#EF553B"
         },
         "name": "0002",
         "offsetgroup": "0002",
         "opacity": 0.5,
         "showlegend": false,
         "type": "histogram",
         "xaxis": "x2",
         "y": [
          0.8398950131233596
         ],
         "yaxis": "y2"
        },
        {
         "hovertemplate": "<b>%{hovertext}</b><br><br>test=0003<br>eventF1=%{x}<br>eventRecall=%{y}<extra></extra>",
         "hovertext": [
          "ad0e1cc1-5a53-45b1-b13e-ca760e58c787"
         ],
         "legendgroup": "0003",
         "marker": {
          "color": "#00cc96",
          "symbol": "circle"
         },
         "mode": "markers",
         "name": "0003",
         "orientation": "v",
         "showlegend": true,
         "type": "scatter",
         "x": [
          0.6584615384615384
         ],
         "xaxis": "x",
         "y": [
          0.7482517482517482
         ],
         "yaxis": "y"
        },
        {
         "alignmentgroup": "True",
         "bingroup": "y",
         "hovertemplate": "test=0003<br>eventRecall=%{y}<br>count=%{x}<extra></extra>",
         "legendgroup": "0003",
         "marker": {
          "color": "#00cc96"
         },
         "name": "0003",
         "offsetgroup": "0003",
         "opacity": 0.5,
         "showlegend": false,
         "type": "histogram",
         "xaxis": "x2",
         "y": [
          0.7482517482517482
         ],
         "yaxis": "y2"
        },
        {
         "hovertemplate": "<b>%{hovertext}</b><br><br>test=0005<br>eventF1=%{x}<br>eventRecall=%{y}<extra></extra>",
         "hovertext": [
          "953522b6-a687-4555-b7bd-64e50323f539"
         ],
         "legendgroup": "0005",
         "marker": {
          "color": "#ab63fa",
          "symbol": "circle"
         },
         "mode": "markers",
         "name": "0005",
         "orientation": "v",
         "showlegend": true,
         "type": "scatter",
         "x": [
          0.6681922196796338
         ],
         "xaxis": "x",
         "y": [
          0.8563049853372434
         ],
         "yaxis": "y"
        },
        {
         "alignmentgroup": "True",
         "bingroup": "y",
         "hovertemplate": "test=0005<br>eventRecall=%{y}<br>count=%{x}<extra></extra>",
         "legendgroup": "0005",
         "marker": {
          "color": "#ab63fa"
         },
         "name": "0005",
         "offsetgroup": "0005",
         "opacity": 0.5,
         "showlegend": false,
         "type": "histogram",
         "xaxis": "x2",
         "y": [
          0.8563049853372434
         ],
         "yaxis": "y2"
        },
        {
         "hovertemplate": "<b>%{hovertext}</b><br><br>test=0006<br>eventF1=%{x}<br>eventRecall=%{y}<extra></extra>",
         "hovertext": [
          "fdff7a52-c874-434c-b79a-4652e6521b61"
         ],
         "legendgroup": "0006",
         "marker": {
          "color": "#FFA15A",
          "symbol": "circle"
         },
         "mode": "markers",
         "name": "0006",
         "orientation": "v",
         "showlegend": true,
         "type": "scatter",
         "x": [
          0.6734006734006734
         ],
         "xaxis": "x",
         "y": [
          0.6666666666666666
         ],
         "yaxis": "y"
        },
        {
         "alignmentgroup": "True",
         "bingroup": "y",
         "hovertemplate": "test=0006<br>eventRecall=%{y}<br>count=%{x}<extra></extra>",
         "legendgroup": "0006",
         "marker": {
          "color": "#FFA15A"
         },
         "name": "0006",
         "offsetgroup": "0006",
         "opacity": 0.5,
         "showlegend": false,
         "type": "histogram",
         "xaxis": "x2",
         "y": [
          0.6666666666666666
         ],
         "yaxis": "y2"
        },
        {
         "hovertemplate": "<b>%{hovertext}</b><br><br>test=0007<br>eventF1=%{x}<br>eventRecall=%{y}<extra></extra>",
         "hovertext": [
          "a99170bc-4dc5-4b27-84df-f565c6f142c5"
         ],
         "legendgroup": "0007",
         "marker": {
          "color": "#19d3f3",
          "symbol": "circle"
         },
         "mode": "markers",
         "name": "0007",
         "orientation": "v",
         "showlegend": true,
         "type": "scatter",
         "x": [
          0.6407685881370092
         ],
         "xaxis": "x",
         "y": [
          0.8410087719298246
         ],
         "yaxis": "y"
        },
        {
         "alignmentgroup": "True",
         "bingroup": "y",
         "hovertemplate": "test=0007<br>eventRecall=%{y}<br>count=%{x}<extra></extra>",
         "legendgroup": "0007",
         "marker": {
          "color": "#19d3f3"
         },
         "name": "0007",
         "offsetgroup": "0007",
         "opacity": 0.5,
         "showlegend": false,
         "type": "histogram",
         "xaxis": "x2",
         "y": [
          0.8410087719298246
         ],
         "yaxis": "y2"
        },
        {
         "hovertemplate": "<b>%{hovertext}</b><br><br>test=0009<br>eventF1=%{x}<br>eventRecall=%{y}<extra></extra>",
         "hovertext": [
          "d4f86014-a983-4a56-940a-a53396539084"
         ],
         "legendgroup": "0009",
         "marker": {
          "color": "#FF6692",
          "symbol": "circle"
         },
         "mode": "markers",
         "name": "0009",
         "orientation": "v",
         "showlegend": true,
         "type": "scatter",
         "x": [
          0.7699468085106383
         ],
         "xaxis": "x",
         "y": [
          0.7113022113022113
         ],
         "yaxis": "y"
        },
        {
         "alignmentgroup": "True",
         "bingroup": "y",
         "hovertemplate": "test=0009<br>eventRecall=%{y}<br>count=%{x}<extra></extra>",
         "legendgroup": "0009",
         "marker": {
          "color": "#FF6692"
         },
         "name": "0009",
         "offsetgroup": "0009",
         "opacity": 0.5,
         "showlegend": false,
         "type": "histogram",
         "xaxis": "x2",
         "y": [
          0.7113022113022113
         ],
         "yaxis": "y2"
        },
        {
         "hovertemplate": "<b>%{hovertext}</b><br><br>test=0010<br>eventF1=%{x}<br>eventRecall=%{y}<extra></extra>",
         "hovertext": [
          "b9ba925c-8862-41ae-85ac-87efe667dc99"
         ],
         "legendgroup": "0010",
         "marker": {
          "color": "#B6E880",
          "symbol": "circle"
         },
         "mode": "markers",
         "name": "0010",
         "orientation": "v",
         "showlegend": true,
         "type": "scatter",
         "x": [
          0.7682576193214491
         ],
         "xaxis": "x",
         "y": [
          0.8402515723270441
         ],
         "yaxis": "y"
        },
        {
         "alignmentgroup": "True",
         "bingroup": "y",
         "hovertemplate": "test=0010<br>eventRecall=%{y}<br>count=%{x}<extra></extra>",
         "legendgroup": "0010",
         "marker": {
          "color": "#B6E880"
         },
         "name": "0010",
         "offsetgroup": "0010",
         "opacity": 0.5,
         "showlegend": false,
         "type": "histogram",
         "xaxis": "x2",
         "y": [
          0.8402515723270441
         ],
         "yaxis": "y2"
        },
        {
         "hovertemplate": "<b>%{hovertext}</b><br><br>test=0011<br>eventF1=%{x}<br>eventRecall=%{y}<extra></extra>",
         "hovertext": [
          "9a796814-2401-4dbb-811c-695c7c0888bb"
         ],
         "legendgroup": "0011",
         "marker": {
          "color": "#FF97FF",
          "symbol": "circle"
         },
         "mode": "markers",
         "name": "0011",
         "orientation": "v",
         "showlegend": true,
         "type": "scatter",
         "x": [
          0.686819830713422
         ],
         "xaxis": "x",
         "y": [
          0.9372937293729373
         ],
         "yaxis": "y"
        },
        {
         "alignmentgroup": "True",
         "bingroup": "y",
         "hovertemplate": "test=0011<br>eventRecall=%{y}<br>count=%{x}<extra></extra>",
         "legendgroup": "0011",
         "marker": {
          "color": "#FF97FF"
         },
         "name": "0011",
         "offsetgroup": "0011",
         "opacity": 0.5,
         "showlegend": false,
         "type": "histogram",
         "xaxis": "x2",
         "y": [
          0.9372937293729373
         ],
         "yaxis": "y2"
        },
        {
         "hovertemplate": "<b>%{hovertext}</b><br><br>test=0012<br>eventF1=%{x}<br>eventRecall=%{y}<extra></extra>",
         "hovertext": [
          "3be685c1-02ea-4a2f-8478-ca265ccc3196"
         ],
         "legendgroup": "0012",
         "marker": {
          "color": "#FECB52",
          "symbol": "circle"
         },
         "mode": "markers",
         "name": "0012",
         "orientation": "v",
         "showlegend": true,
         "type": "scatter",
         "x": [
          0.7257264351523742
         ],
         "xaxis": "x",
         "y": [
          0.7221438645980254
         ],
         "yaxis": "y"
        },
        {
         "alignmentgroup": "True",
         "bingroup": "y",
         "hovertemplate": "test=0012<br>eventRecall=%{y}<br>count=%{x}<extra></extra>",
         "legendgroup": "0012",
         "marker": {
          "color": "#FECB52"
         },
         "name": "0012",
         "offsetgroup": "0012",
         "opacity": 0.5,
         "showlegend": false,
         "type": "histogram",
         "xaxis": "x2",
         "y": [
          0.7221438645980254
         ],
         "yaxis": "y2"
        },
        {
         "hovertemplate": "<b>%{hovertext}</b><br><br>test=0013<br>eventF1=%{x}<br>eventRecall=%{y}<extra></extra>",
         "hovertext": [
          "016159f4-e171-4f6e-a510-0e5e140f8929"
         ],
         "legendgroup": "0013",
         "marker": {
          "color": "#636efa",
          "symbol": "circle"
         },
         "mode": "markers",
         "name": "0013",
         "orientation": "v",
         "showlegend": true,
         "type": "scatter",
         "x": [
          0.677319587628866
         ],
         "xaxis": "x",
         "y": [
          0.9412607449856734
         ],
         "yaxis": "y"
        },
        {
         "alignmentgroup": "True",
         "bingroup": "y",
         "hovertemplate": "test=0013<br>eventRecall=%{y}<br>count=%{x}<extra></extra>",
         "legendgroup": "0013",
         "marker": {
          "color": "#636efa"
         },
         "name": "0013",
         "offsetgroup": "0013",
         "opacity": 0.5,
         "showlegend": false,
         "type": "histogram",
         "xaxis": "x2",
         "y": [
          0.9412607449856734
         ],
         "yaxis": "y2"
        },
        {
         "hovertemplate": "<b>%{hovertext}</b><br><br>test=0014<br>eventF1=%{x}<br>eventRecall=%{y}<extra></extra>",
         "hovertext": [
          "da40a91f-c09e-4752-899f-0d848fc48c20"
         ],
         "legendgroup": "0014",
         "marker": {
          "color": "#EF553B",
          "symbol": "circle"
         },
         "mode": "markers",
         "name": "0014",
         "orientation": "v",
         "showlegend": true,
         "type": "scatter",
         "x": [
          0.5990338164251208
         ],
         "xaxis": "x",
         "y": [
          0.9578651685393258
         ],
         "yaxis": "y"
        },
        {
         "alignmentgroup": "True",
         "bingroup": "y",
         "hovertemplate": "test=0014<br>eventRecall=%{y}<br>count=%{x}<extra></extra>",
         "legendgroup": "0014",
         "marker": {
          "color": "#EF553B"
         },
         "name": "0014",
         "offsetgroup": "0014",
         "opacity": 0.5,
         "showlegend": false,
         "type": "histogram",
         "xaxis": "x2",
         "y": [
          0.9578651685393258
         ],
         "yaxis": "y2"
        },
        {
         "hovertemplate": "<b>%{hovertext}</b><br><br>test=0017<br>eventF1=%{x}<br>eventRecall=%{y}<extra></extra>",
         "hovertext": [
          "c30b34f2-52b8-47af-9309-81c72f52ea3d"
         ],
         "legendgroup": "0017",
         "marker": {
          "color": "#00cc96",
          "symbol": "circle"
         },
         "mode": "markers",
         "name": "0017",
         "orientation": "v",
         "showlegend": true,
         "type": "scatter",
         "x": [
          0.737217598097503
         ],
         "xaxis": "x",
         "y": [
          0.6595744680851063
         ],
         "yaxis": "y"
        },
        {
         "alignmentgroup": "True",
         "bingroup": "y",
         "hovertemplate": "test=0017<br>eventRecall=%{y}<br>count=%{x}<extra></extra>",
         "legendgroup": "0017",
         "marker": {
          "color": "#00cc96"
         },
         "name": "0017",
         "offsetgroup": "0017",
         "opacity": 0.5,
         "showlegend": false,
         "type": "histogram",
         "xaxis": "x2",
         "y": [
          0.6595744680851063
         ],
         "yaxis": "y2"
        },
        {
         "hovertemplate": "<b>%{hovertext}</b><br><br>test=0018<br>eventF1=%{x}<br>eventRecall=%{y}<extra></extra>",
         "hovertext": [
          "63920ef1-b7bd-453c-af1b-c87e2c3f9ad0"
         ],
         "legendgroup": "0018",
         "marker": {
          "color": "#ab63fa",
          "symbol": "circle"
         },
         "mode": "markers",
         "name": "0018",
         "orientation": "v",
         "showlegend": true,
         "type": "scatter",
         "x": [
          0.7404172731683649
         ],
         "xaxis": "x",
         "y": [
          0.6554982817869416
         ],
         "yaxis": "y"
        },
        {
         "alignmentgroup": "True",
         "bingroup": "y",
         "hovertemplate": "test=0018<br>eventRecall=%{y}<br>count=%{x}<extra></extra>",
         "legendgroup": "0018",
         "marker": {
          "color": "#ab63fa"
         },
         "name": "0018",
         "offsetgroup": "0018",
         "opacity": 0.5,
         "showlegend": false,
         "type": "histogram",
         "xaxis": "x2",
         "y": [
          0.6554982817869416
         ],
         "yaxis": "y2"
        },
        {
         "hovertemplate": "<b>%{hovertext}</b><br><br>test=0019<br>eventF1=%{x}<br>eventRecall=%{y}<extra></extra>",
         "hovertext": [
          "73a45ddb-cbce-44c1-8ed8-007d5677989f"
         ],
         "legendgroup": "0019",
         "marker": {
          "color": "#FFA15A",
          "symbol": "circle"
         },
         "mode": "markers",
         "name": "0019",
         "orientation": "v",
         "showlegend": true,
         "type": "scatter",
         "x": [
          0.5716911764705882
         ],
         "xaxis": "x",
         "y": [
          0.9873015873015873
         ],
         "yaxis": "y"
        },
        {
         "alignmentgroup": "True",
         "bingroup": "y",
         "hovertemplate": "test=0019<br>eventRecall=%{y}<br>count=%{x}<extra></extra>",
         "legendgroup": "0019",
         "marker": {
          "color": "#FFA15A"
         },
         "name": "0019",
         "offsetgroup": "0019",
         "opacity": 0.5,
         "showlegend": false,
         "type": "histogram",
         "xaxis": "x2",
         "y": [
          0.9873015873015873
         ],
         "yaxis": "y2"
        },
        {
         "fill": "toself",
         "mode": "lines",
         "name": "identity",
         "type": "scatter",
         "x": [
          0.6781883194278904,
          0.7891491985203453,
          0.6584615384615384,
          0.6681922196796338,
          0.6734006734006734,
          0.6407685881370092,
          0.7699468085106383,
          0.7682576193214491,
          0.686819830713422,
          0.7257264351523742,
          0.677319587628866,
          0.5990338164251208,
          0.737217598097503,
          0.7404172731683649,
          0.5716911764705882
         ],
         "y": [
          0.6781883194278904,
          0.7891491985203453,
          0.6584615384615384,
          0.6681922196796338,
          0.6734006734006734,
          0.6407685881370092,
          0.7699468085106383,
          0.7682576193214491,
          0.686819830713422,
          0.7257264351523742,
          0.677319587628866,
          0.5990338164251208,
          0.737217598097503,
          0.7404172731683649,
          0.5716911764705882
         ]
        }
       ],
       "layout": {
        "barmode": "overlay",
        "legend": {
         "title": {
          "text": "test"
         },
         "tracegroupgap": 0
        },
        "margin": {
         "t": 60
        },
        "template": {
         "data": {
          "bar": [
           {
            "error_x": {
             "color": "#2a3f5f"
            },
            "error_y": {
             "color": "#2a3f5f"
            },
            "marker": {
             "line": {
              "color": "#E5ECF6",
              "width": 0.5
             },
             "pattern": {
              "fillmode": "overlay",
              "size": 10,
              "solidity": 0.2
             }
            },
            "type": "bar"
           }
          ],
          "barpolar": [
           {
            "marker": {
             "line": {
              "color": "#E5ECF6",
              "width": 0.5
             },
             "pattern": {
              "fillmode": "overlay",
              "size": 10,
              "solidity": 0.2
             }
            },
            "type": "barpolar"
           }
          ],
          "carpet": [
           {
            "aaxis": {
             "endlinecolor": "#2a3f5f",
             "gridcolor": "white",
             "linecolor": "white",
             "minorgridcolor": "white",
             "startlinecolor": "#2a3f5f"
            },
            "baxis": {
             "endlinecolor": "#2a3f5f",
             "gridcolor": "white",
             "linecolor": "white",
             "minorgridcolor": "white",
             "startlinecolor": "#2a3f5f"
            },
            "type": "carpet"
           }
          ],
          "choropleth": [
           {
            "colorbar": {
             "outlinewidth": 0,
             "ticks": ""
            },
            "type": "choropleth"
           }
          ],
          "contour": [
           {
            "colorbar": {
             "outlinewidth": 0,
             "ticks": ""
            },
            "colorscale": [
             [
              0,
              "#0d0887"
             ],
             [
              0.1111111111111111,
              "#46039f"
             ],
             [
              0.2222222222222222,
              "#7201a8"
             ],
             [
              0.3333333333333333,
              "#9c179e"
             ],
             [
              0.4444444444444444,
              "#bd3786"
             ],
             [
              0.5555555555555556,
              "#d8576b"
             ],
             [
              0.6666666666666666,
              "#ed7953"
             ],
             [
              0.7777777777777778,
              "#fb9f3a"
             ],
             [
              0.8888888888888888,
              "#fdca26"
             ],
             [
              1,
              "#f0f921"
             ]
            ],
            "type": "contour"
           }
          ],
          "contourcarpet": [
           {
            "colorbar": {
             "outlinewidth": 0,
             "ticks": ""
            },
            "type": "contourcarpet"
           }
          ],
          "heatmap": [
           {
            "colorbar": {
             "outlinewidth": 0,
             "ticks": ""
            },
            "colorscale": [
             [
              0,
              "#0d0887"
             ],
             [
              0.1111111111111111,
              "#46039f"
             ],
             [
              0.2222222222222222,
              "#7201a8"
             ],
             [
              0.3333333333333333,
              "#9c179e"
             ],
             [
              0.4444444444444444,
              "#bd3786"
             ],
             [
              0.5555555555555556,
              "#d8576b"
             ],
             [
              0.6666666666666666,
              "#ed7953"
             ],
             [
              0.7777777777777778,
              "#fb9f3a"
             ],
             [
              0.8888888888888888,
              "#fdca26"
             ],
             [
              1,
              "#f0f921"
             ]
            ],
            "type": "heatmap"
           }
          ],
          "heatmapgl": [
           {
            "colorbar": {
             "outlinewidth": 0,
             "ticks": ""
            },
            "colorscale": [
             [
              0,
              "#0d0887"
             ],
             [
              0.1111111111111111,
              "#46039f"
             ],
             [
              0.2222222222222222,
              "#7201a8"
             ],
             [
              0.3333333333333333,
              "#9c179e"
             ],
             [
              0.4444444444444444,
              "#bd3786"
             ],
             [
              0.5555555555555556,
              "#d8576b"
             ],
             [
              0.6666666666666666,
              "#ed7953"
             ],
             [
              0.7777777777777778,
              "#fb9f3a"
             ],
             [
              0.8888888888888888,
              "#fdca26"
             ],
             [
              1,
              "#f0f921"
             ]
            ],
            "type": "heatmapgl"
           }
          ],
          "histogram": [
           {
            "marker": {
             "pattern": {
              "fillmode": "overlay",
              "size": 10,
              "solidity": 0.2
             }
            },
            "type": "histogram"
           }
          ],
          "histogram2d": [
           {
            "colorbar": {
             "outlinewidth": 0,
             "ticks": ""
            },
            "colorscale": [
             [
              0,
              "#0d0887"
             ],
             [
              0.1111111111111111,
              "#46039f"
             ],
             [
              0.2222222222222222,
              "#7201a8"
             ],
             [
              0.3333333333333333,
              "#9c179e"
             ],
             [
              0.4444444444444444,
              "#bd3786"
             ],
             [
              0.5555555555555556,
              "#d8576b"
             ],
             [
              0.6666666666666666,
              "#ed7953"
             ],
             [
              0.7777777777777778,
              "#fb9f3a"
             ],
             [
              0.8888888888888888,
              "#fdca26"
             ],
             [
              1,
              "#f0f921"
             ]
            ],
            "type": "histogram2d"
           }
          ],
          "histogram2dcontour": [
           {
            "colorbar": {
             "outlinewidth": 0,
             "ticks": ""
            },
            "colorscale": [
             [
              0,
              "#0d0887"
             ],
             [
              0.1111111111111111,
              "#46039f"
             ],
             [
              0.2222222222222222,
              "#7201a8"
             ],
             [
              0.3333333333333333,
              "#9c179e"
             ],
             [
              0.4444444444444444,
              "#bd3786"
             ],
             [
              0.5555555555555556,
              "#d8576b"
             ],
             [
              0.6666666666666666,
              "#ed7953"
             ],
             [
              0.7777777777777778,
              "#fb9f3a"
             ],
             [
              0.8888888888888888,
              "#fdca26"
             ],
             [
              1,
              "#f0f921"
             ]
            ],
            "type": "histogram2dcontour"
           }
          ],
          "mesh3d": [
           {
            "colorbar": {
             "outlinewidth": 0,
             "ticks": ""
            },
            "type": "mesh3d"
           }
          ],
          "parcoords": [
           {
            "line": {
             "colorbar": {
              "outlinewidth": 0,
              "ticks": ""
             }
            },
            "type": "parcoords"
           }
          ],
          "pie": [
           {
            "automargin": true,
            "type": "pie"
           }
          ],
          "scatter": [
           {
            "fillpattern": {
             "fillmode": "overlay",
             "size": 10,
             "solidity": 0.2
            },
            "type": "scatter"
           }
          ],
          "scatter3d": [
           {
            "line": {
             "colorbar": {
              "outlinewidth": 0,
              "ticks": ""
             }
            },
            "marker": {
             "colorbar": {
              "outlinewidth": 0,
              "ticks": ""
             }
            },
            "type": "scatter3d"
           }
          ],
          "scattercarpet": [
           {
            "marker": {
             "colorbar": {
              "outlinewidth": 0,
              "ticks": ""
             }
            },
            "type": "scattercarpet"
           }
          ],
          "scattergeo": [
           {
            "marker": {
             "colorbar": {
              "outlinewidth": 0,
              "ticks": ""
             }
            },
            "type": "scattergeo"
           }
          ],
          "scattergl": [
           {
            "marker": {
             "colorbar": {
              "outlinewidth": 0,
              "ticks": ""
             }
            },
            "type": "scattergl"
           }
          ],
          "scattermapbox": [
           {
            "marker": {
             "colorbar": {
              "outlinewidth": 0,
              "ticks": ""
             }
            },
            "type": "scattermapbox"
           }
          ],
          "scatterpolar": [
           {
            "marker": {
             "colorbar": {
              "outlinewidth": 0,
              "ticks": ""
             }
            },
            "type": "scatterpolar"
           }
          ],
          "scatterpolargl": [
           {
            "marker": {
             "colorbar": {
              "outlinewidth": 0,
              "ticks": ""
             }
            },
            "type": "scatterpolargl"
           }
          ],
          "scatterternary": [
           {
            "marker": {
             "colorbar": {
              "outlinewidth": 0,
              "ticks": ""
             }
            },
            "type": "scatterternary"
           }
          ],
          "surface": [
           {
            "colorbar": {
             "outlinewidth": 0,
             "ticks": ""
            },
            "colorscale": [
             [
              0,
              "#0d0887"
             ],
             [
              0.1111111111111111,
              "#46039f"
             ],
             [
              0.2222222222222222,
              "#7201a8"
             ],
             [
              0.3333333333333333,
              "#9c179e"
             ],
             [
              0.4444444444444444,
              "#bd3786"
             ],
             [
              0.5555555555555556,
              "#d8576b"
             ],
             [
              0.6666666666666666,
              "#ed7953"
             ],
             [
              0.7777777777777778,
              "#fb9f3a"
             ],
             [
              0.8888888888888888,
              "#fdca26"
             ],
             [
              1,
              "#f0f921"
             ]
            ],
            "type": "surface"
           }
          ],
          "table": [
           {
            "cells": {
             "fill": {
              "color": "#EBF0F8"
             },
             "line": {
              "color": "white"
             }
            },
            "header": {
             "fill": {
              "color": "#C8D4E3"
             },
             "line": {
              "color": "white"
             }
            },
            "type": "table"
           }
          ]
         },
         "layout": {
          "annotationdefaults": {
           "arrowcolor": "#2a3f5f",
           "arrowhead": 0,
           "arrowwidth": 1
          },
          "autotypenumbers": "strict",
          "coloraxis": {
           "colorbar": {
            "outlinewidth": 0,
            "ticks": ""
           }
          },
          "colorscale": {
           "diverging": [
            [
             0,
             "#8e0152"
            ],
            [
             0.1,
             "#c51b7d"
            ],
            [
             0.2,
             "#de77ae"
            ],
            [
             0.3,
             "#f1b6da"
            ],
            [
             0.4,
             "#fde0ef"
            ],
            [
             0.5,
             "#f7f7f7"
            ],
            [
             0.6,
             "#e6f5d0"
            ],
            [
             0.7,
             "#b8e186"
            ],
            [
             0.8,
             "#7fbc41"
            ],
            [
             0.9,
             "#4d9221"
            ],
            [
             1,
             "#276419"
            ]
           ],
           "sequential": [
            [
             0,
             "#0d0887"
            ],
            [
             0.1111111111111111,
             "#46039f"
            ],
            [
             0.2222222222222222,
             "#7201a8"
            ],
            [
             0.3333333333333333,
             "#9c179e"
            ],
            [
             0.4444444444444444,
             "#bd3786"
            ],
            [
             0.5555555555555556,
             "#d8576b"
            ],
            [
             0.6666666666666666,
             "#ed7953"
            ],
            [
             0.7777777777777778,
             "#fb9f3a"
            ],
            [
             0.8888888888888888,
             "#fdca26"
            ],
            [
             1,
             "#f0f921"
            ]
           ],
           "sequentialminus": [
            [
             0,
             "#0d0887"
            ],
            [
             0.1111111111111111,
             "#46039f"
            ],
            [
             0.2222222222222222,
             "#7201a8"
            ],
            [
             0.3333333333333333,
             "#9c179e"
            ],
            [
             0.4444444444444444,
             "#bd3786"
            ],
            [
             0.5555555555555556,
             "#d8576b"
            ],
            [
             0.6666666666666666,
             "#ed7953"
            ],
            [
             0.7777777777777778,
             "#fb9f3a"
            ],
            [
             0.8888888888888888,
             "#fdca26"
            ],
            [
             1,
             "#f0f921"
            ]
           ]
          },
          "colorway": [
           "#636efa",
           "#EF553B",
           "#00cc96",
           "#ab63fa",
           "#FFA15A",
           "#19d3f3",
           "#FF6692",
           "#B6E880",
           "#FF97FF",
           "#FECB52"
          ],
          "font": {
           "color": "#2a3f5f"
          },
          "geo": {
           "bgcolor": "white",
           "lakecolor": "white",
           "landcolor": "#E5ECF6",
           "showlakes": true,
           "showland": true,
           "subunitcolor": "white"
          },
          "hoverlabel": {
           "align": "left"
          },
          "hovermode": "closest",
          "mapbox": {
           "style": "light"
          },
          "paper_bgcolor": "white",
          "plot_bgcolor": "#E5ECF6",
          "polar": {
           "angularaxis": {
            "gridcolor": "white",
            "linecolor": "white",
            "ticks": ""
           },
           "bgcolor": "#E5ECF6",
           "radialaxis": {
            "gridcolor": "white",
            "linecolor": "white",
            "ticks": ""
           }
          },
          "scene": {
           "xaxis": {
            "backgroundcolor": "#E5ECF6",
            "gridcolor": "white",
            "gridwidth": 2,
            "linecolor": "white",
            "showbackground": true,
            "ticks": "",
            "zerolinecolor": "white"
           },
           "yaxis": {
            "backgroundcolor": "#E5ECF6",
            "gridcolor": "white",
            "gridwidth": 2,
            "linecolor": "white",
            "showbackground": true,
            "ticks": "",
            "zerolinecolor": "white"
           },
           "zaxis": {
            "backgroundcolor": "#E5ECF6",
            "gridcolor": "white",
            "gridwidth": 2,
            "linecolor": "white",
            "showbackground": true,
            "ticks": "",
            "zerolinecolor": "white"
           }
          },
          "shapedefaults": {
           "line": {
            "color": "#2a3f5f"
           }
          },
          "ternary": {
           "aaxis": {
            "gridcolor": "white",
            "linecolor": "white",
            "ticks": ""
           },
           "baxis": {
            "gridcolor": "white",
            "linecolor": "white",
            "ticks": ""
           },
           "bgcolor": "#E5ECF6",
           "caxis": {
            "gridcolor": "white",
            "linecolor": "white",
            "ticks": ""
           }
          },
          "title": {
           "x": 0.05
          },
          "xaxis": {
           "automargin": true,
           "gridcolor": "white",
           "linecolor": "white",
           "ticks": "",
           "title": {
            "standoff": 15
           },
           "zerolinecolor": "white",
           "zerolinewidth": 2
          },
          "yaxis": {
           "automargin": true,
           "gridcolor": "white",
           "linecolor": "white",
           "ticks": "",
           "title": {
            "standoff": 15
           },
           "zerolinecolor": "white",
           "zerolinewidth": 2
          }
         }
        },
        "xaxis": {
         "anchor": "y",
         "domain": [
          0,
          0.7363
         ],
         "title": {
          "text": "eventF1"
         }
        },
        "xaxis2": {
         "anchor": "y2",
         "domain": [
          0.7413,
          1
         ],
         "matches": "x2",
         "showgrid": true,
         "showline": false,
         "showticklabels": false,
         "ticks": ""
        },
        "yaxis": {
         "anchor": "x",
         "domain": [
          0,
          1
         ],
         "title": {
          "text": "eventRecall"
         }
        },
        "yaxis2": {
         "anchor": "x2",
         "domain": [
          0,
          1
         ],
         "matches": "y",
         "showgrid": true,
         "showticklabels": false
        }
       }
      }
     },
     "metadata": {},
     "output_type": "display_data"
    }
   ],
   "source": [
    "fig=px.scatter(experimentModels,x='eventF1',y='eventRecall',color='test',hover_name='modelId', marginal_y=\"histogram\")\n",
    "fig.add_trace(\n",
    "    go.Scatter(x=experimentModels['eventF1'], y=experimentModels['eventF1'], name=\"identity\", mode='lines',fill=\"toself\")\n",
    ")\n",
    "fig.show()"
   ]
  },
  {
   "cell_type": "code",
   "execution_count": 25,
   "metadata": {},
   "outputs": [
    {
     "data": {
      "text/html": [
       "<div>\n",
       "<style scoped>\n",
       "    .dataframe tbody tr th:only-of-type {\n",
       "        vertical-align: middle;\n",
       "    }\n",
       "\n",
       "    .dataframe tbody tr th {\n",
       "        vertical-align: top;\n",
       "    }\n",
       "\n",
       "    .dataframe thead tr th {\n",
       "        text-align: left;\n",
       "    }\n",
       "\n",
       "    .dataframe thead tr:last-of-type th {\n",
       "        text-align: right;\n",
       "    }\n",
       "</style>\n",
       "<table border=\"1\" class=\"dataframe\">\n",
       "  <thead>\n",
       "    <tr>\n",
       "      <th></th>\n",
       "      <th colspan=\"6\" halign=\"left\">eventF1</th>\n",
       "      <th colspan=\"6\" halign=\"left\">eventPrecision</th>\n",
       "      <th colspan=\"6\" halign=\"left\">eventRecall</th>\n",
       "    </tr>\n",
       "    <tr>\n",
       "      <th></th>\n",
       "      <th>count</th>\n",
       "      <th>mean</th>\n",
       "      <th>std</th>\n",
       "      <th>min</th>\n",
       "      <th>50%</th>\n",
       "      <th>max</th>\n",
       "      <th>count</th>\n",
       "      <th>mean</th>\n",
       "      <th>std</th>\n",
       "      <th>min</th>\n",
       "      <th>50%</th>\n",
       "      <th>max</th>\n",
       "      <th>count</th>\n",
       "      <th>mean</th>\n",
       "      <th>std</th>\n",
       "      <th>min</th>\n",
       "      <th>50%</th>\n",
       "      <th>max</th>\n",
       "    </tr>\n",
       "    <tr>\n",
       "      <th>test</th>\n",
       "      <th></th>\n",
       "      <th></th>\n",
       "      <th></th>\n",
       "      <th></th>\n",
       "      <th></th>\n",
       "      <th></th>\n",
       "      <th></th>\n",
       "      <th></th>\n",
       "      <th></th>\n",
       "      <th></th>\n",
       "      <th></th>\n",
       "      <th></th>\n",
       "      <th></th>\n",
       "      <th></th>\n",
       "      <th></th>\n",
       "      <th></th>\n",
       "      <th></th>\n",
       "      <th></th>\n",
       "    </tr>\n",
       "  </thead>\n",
       "  <tbody>\n",
       "    <tr>\n",
       "      <th>0001</th>\n",
       "      <td>1.0</td>\n",
       "      <td>0.678188</td>\n",
       "      <td>NaN</td>\n",
       "      <td>0.678188</td>\n",
       "      <td>0.678188</td>\n",
       "      <td>0.678188</td>\n",
       "      <td>1.0</td>\n",
       "      <td>0.897476</td>\n",
       "      <td>NaN</td>\n",
       "      <td>0.897476</td>\n",
       "      <td>0.897476</td>\n",
       "      <td>0.897476</td>\n",
       "      <td>1.0</td>\n",
       "      <td>0.545019</td>\n",
       "      <td>NaN</td>\n",
       "      <td>0.545019</td>\n",
       "      <td>0.545019</td>\n",
       "      <td>0.545019</td>\n",
       "    </tr>\n",
       "    <tr>\n",
       "      <th>0002</th>\n",
       "      <td>1.0</td>\n",
       "      <td>0.789149</td>\n",
       "      <td>NaN</td>\n",
       "      <td>0.789149</td>\n",
       "      <td>0.789149</td>\n",
       "      <td>0.789149</td>\n",
       "      <td>1.0</td>\n",
       "      <td>0.744186</td>\n",
       "      <td>NaN</td>\n",
       "      <td>0.744186</td>\n",
       "      <td>0.744186</td>\n",
       "      <td>0.744186</td>\n",
       "      <td>1.0</td>\n",
       "      <td>0.839895</td>\n",
       "      <td>NaN</td>\n",
       "      <td>0.839895</td>\n",
       "      <td>0.839895</td>\n",
       "      <td>0.839895</td>\n",
       "    </tr>\n",
       "    <tr>\n",
       "      <th>0003</th>\n",
       "      <td>1.0</td>\n",
       "      <td>0.658462</td>\n",
       "      <td>NaN</td>\n",
       "      <td>0.658462</td>\n",
       "      <td>0.658462</td>\n",
       "      <td>0.658462</td>\n",
       "      <td>1.0</td>\n",
       "      <td>0.587912</td>\n",
       "      <td>NaN</td>\n",
       "      <td>0.587912</td>\n",
       "      <td>0.587912</td>\n",
       "      <td>0.587912</td>\n",
       "      <td>1.0</td>\n",
       "      <td>0.748252</td>\n",
       "      <td>NaN</td>\n",
       "      <td>0.748252</td>\n",
       "      <td>0.748252</td>\n",
       "      <td>0.748252</td>\n",
       "    </tr>\n",
       "    <tr>\n",
       "      <th>0005</th>\n",
       "      <td>1.0</td>\n",
       "      <td>0.668192</td>\n",
       "      <td>NaN</td>\n",
       "      <td>0.668192</td>\n",
       "      <td>0.668192</td>\n",
       "      <td>0.668192</td>\n",
       "      <td>1.0</td>\n",
       "      <td>0.547842</td>\n",
       "      <td>NaN</td>\n",
       "      <td>0.547842</td>\n",
       "      <td>0.547842</td>\n",
       "      <td>0.547842</td>\n",
       "      <td>1.0</td>\n",
       "      <td>0.856305</td>\n",
       "      <td>NaN</td>\n",
       "      <td>0.856305</td>\n",
       "      <td>0.856305</td>\n",
       "      <td>0.856305</td>\n",
       "    </tr>\n",
       "    <tr>\n",
       "      <th>0006</th>\n",
       "      <td>1.0</td>\n",
       "      <td>0.673401</td>\n",
       "      <td>NaN</td>\n",
       "      <td>0.673401</td>\n",
       "      <td>0.673401</td>\n",
       "      <td>0.673401</td>\n",
       "      <td>1.0</td>\n",
       "      <td>0.680272</td>\n",
       "      <td>NaN</td>\n",
       "      <td>0.680272</td>\n",
       "      <td>0.680272</td>\n",
       "      <td>0.680272</td>\n",
       "      <td>1.0</td>\n",
       "      <td>0.666667</td>\n",
       "      <td>NaN</td>\n",
       "      <td>0.666667</td>\n",
       "      <td>0.666667</td>\n",
       "      <td>0.666667</td>\n",
       "    </tr>\n",
       "    <tr>\n",
       "      <th>0007</th>\n",
       "      <td>1.0</td>\n",
       "      <td>0.640769</td>\n",
       "      <td>NaN</td>\n",
       "      <td>0.640769</td>\n",
       "      <td>0.640769</td>\n",
       "      <td>0.640769</td>\n",
       "      <td>1.0</td>\n",
       "      <td>0.517544</td>\n",
       "      <td>NaN</td>\n",
       "      <td>0.517544</td>\n",
       "      <td>0.517544</td>\n",
       "      <td>0.517544</td>\n",
       "      <td>1.0</td>\n",
       "      <td>0.841009</td>\n",
       "      <td>NaN</td>\n",
       "      <td>0.841009</td>\n",
       "      <td>0.841009</td>\n",
       "      <td>0.841009</td>\n",
       "    </tr>\n",
       "    <tr>\n",
       "      <th>0009</th>\n",
       "      <td>1.0</td>\n",
       "      <td>0.769947</td>\n",
       "      <td>NaN</td>\n",
       "      <td>0.769947</td>\n",
       "      <td>0.769947</td>\n",
       "      <td>0.769947</td>\n",
       "      <td>1.0</td>\n",
       "      <td>0.839130</td>\n",
       "      <td>NaN</td>\n",
       "      <td>0.839130</td>\n",
       "      <td>0.839130</td>\n",
       "      <td>0.839130</td>\n",
       "      <td>1.0</td>\n",
       "      <td>0.711302</td>\n",
       "      <td>NaN</td>\n",
       "      <td>0.711302</td>\n",
       "      <td>0.711302</td>\n",
       "      <td>0.711302</td>\n",
       "    </tr>\n",
       "    <tr>\n",
       "      <th>0010</th>\n",
       "      <td>1.0</td>\n",
       "      <td>0.768258</td>\n",
       "      <td>NaN</td>\n",
       "      <td>0.768258</td>\n",
       "      <td>0.768258</td>\n",
       "      <td>0.768258</td>\n",
       "      <td>1.0</td>\n",
       "      <td>0.707627</td>\n",
       "      <td>NaN</td>\n",
       "      <td>0.707627</td>\n",
       "      <td>0.707627</td>\n",
       "      <td>0.707627</td>\n",
       "      <td>1.0</td>\n",
       "      <td>0.840252</td>\n",
       "      <td>NaN</td>\n",
       "      <td>0.840252</td>\n",
       "      <td>0.840252</td>\n",
       "      <td>0.840252</td>\n",
       "    </tr>\n",
       "    <tr>\n",
       "      <th>0011</th>\n",
       "      <td>1.0</td>\n",
       "      <td>0.686820</td>\n",
       "      <td>NaN</td>\n",
       "      <td>0.686820</td>\n",
       "      <td>0.686820</td>\n",
       "      <td>0.686820</td>\n",
       "      <td>1.0</td>\n",
       "      <td>0.541985</td>\n",
       "      <td>NaN</td>\n",
       "      <td>0.541985</td>\n",
       "      <td>0.541985</td>\n",
       "      <td>0.541985</td>\n",
       "      <td>1.0</td>\n",
       "      <td>0.937294</td>\n",
       "      <td>NaN</td>\n",
       "      <td>0.937294</td>\n",
       "      <td>0.937294</td>\n",
       "      <td>0.937294</td>\n",
       "    </tr>\n",
       "    <tr>\n",
       "      <th>0012</th>\n",
       "      <td>1.0</td>\n",
       "      <td>0.725726</td>\n",
       "      <td>NaN</td>\n",
       "      <td>0.725726</td>\n",
       "      <td>0.725726</td>\n",
       "      <td>0.725726</td>\n",
       "      <td>1.0</td>\n",
       "      <td>0.729345</td>\n",
       "      <td>NaN</td>\n",
       "      <td>0.729345</td>\n",
       "      <td>0.729345</td>\n",
       "      <td>0.729345</td>\n",
       "      <td>1.0</td>\n",
       "      <td>0.722144</td>\n",
       "      <td>NaN</td>\n",
       "      <td>0.722144</td>\n",
       "      <td>0.722144</td>\n",
       "      <td>0.722144</td>\n",
       "    </tr>\n",
       "    <tr>\n",
       "      <th>0013</th>\n",
       "      <td>1.0</td>\n",
       "      <td>0.677320</td>\n",
       "      <td>NaN</td>\n",
       "      <td>0.677320</td>\n",
       "      <td>0.677320</td>\n",
       "      <td>0.677320</td>\n",
       "      <td>1.0</td>\n",
       "      <td>0.528986</td>\n",
       "      <td>NaN</td>\n",
       "      <td>0.528986</td>\n",
       "      <td>0.528986</td>\n",
       "      <td>0.528986</td>\n",
       "      <td>1.0</td>\n",
       "      <td>0.941261</td>\n",
       "      <td>NaN</td>\n",
       "      <td>0.941261</td>\n",
       "      <td>0.941261</td>\n",
       "      <td>0.941261</td>\n",
       "    </tr>\n",
       "    <tr>\n",
       "      <th>0014</th>\n",
       "      <td>1.0</td>\n",
       "      <td>0.599034</td>\n",
       "      <td>NaN</td>\n",
       "      <td>0.599034</td>\n",
       "      <td>0.599034</td>\n",
       "      <td>0.599034</td>\n",
       "      <td>1.0</td>\n",
       "      <td>0.435783</td>\n",
       "      <td>NaN</td>\n",
       "      <td>0.435783</td>\n",
       "      <td>0.435783</td>\n",
       "      <td>0.435783</td>\n",
       "      <td>1.0</td>\n",
       "      <td>0.957865</td>\n",
       "      <td>NaN</td>\n",
       "      <td>0.957865</td>\n",
       "      <td>0.957865</td>\n",
       "      <td>0.957865</td>\n",
       "    </tr>\n",
       "    <tr>\n",
       "      <th>0017</th>\n",
       "      <td>1.0</td>\n",
       "      <td>0.737218</td>\n",
       "      <td>NaN</td>\n",
       "      <td>0.737218</td>\n",
       "      <td>0.737218</td>\n",
       "      <td>0.737218</td>\n",
       "      <td>1.0</td>\n",
       "      <td>0.835580</td>\n",
       "      <td>NaN</td>\n",
       "      <td>0.835580</td>\n",
       "      <td>0.835580</td>\n",
       "      <td>0.835580</td>\n",
       "      <td>1.0</td>\n",
       "      <td>0.659574</td>\n",
       "      <td>NaN</td>\n",
       "      <td>0.659574</td>\n",
       "      <td>0.659574</td>\n",
       "      <td>0.659574</td>\n",
       "    </tr>\n",
       "    <tr>\n",
       "      <th>0018</th>\n",
       "      <td>1.0</td>\n",
       "      <td>0.740417</td>\n",
       "      <td>NaN</td>\n",
       "      <td>0.740417</td>\n",
       "      <td>0.740417</td>\n",
       "      <td>0.740417</td>\n",
       "      <td>1.0</td>\n",
       "      <td>0.850613</td>\n",
       "      <td>NaN</td>\n",
       "      <td>0.850613</td>\n",
       "      <td>0.850613</td>\n",
       "      <td>0.850613</td>\n",
       "      <td>1.0</td>\n",
       "      <td>0.655498</td>\n",
       "      <td>NaN</td>\n",
       "      <td>0.655498</td>\n",
       "      <td>0.655498</td>\n",
       "      <td>0.655498</td>\n",
       "    </tr>\n",
       "    <tr>\n",
       "      <th>0019</th>\n",
       "      <td>1.0</td>\n",
       "      <td>0.571691</td>\n",
       "      <td>NaN</td>\n",
       "      <td>0.571691</td>\n",
       "      <td>0.571691</td>\n",
       "      <td>0.571691</td>\n",
       "      <td>1.0</td>\n",
       "      <td>0.402329</td>\n",
       "      <td>NaN</td>\n",
       "      <td>0.402329</td>\n",
       "      <td>0.402329</td>\n",
       "      <td>0.402329</td>\n",
       "      <td>1.0</td>\n",
       "      <td>0.987302</td>\n",
       "      <td>NaN</td>\n",
       "      <td>0.987302</td>\n",
       "      <td>0.987302</td>\n",
       "      <td>0.987302</td>\n",
       "    </tr>\n",
       "  </tbody>\n",
       "</table>\n",
       "</div>"
      ],
      "text/plain": [
       "     eventF1                                             eventPrecision  \\\n",
       "       count      mean std       min       50%       max          count   \n",
       "test                                                                      \n",
       "0001     1.0  0.678188 NaN  0.678188  0.678188  0.678188            1.0   \n",
       "0002     1.0  0.789149 NaN  0.789149  0.789149  0.789149            1.0   \n",
       "0003     1.0  0.658462 NaN  0.658462  0.658462  0.658462            1.0   \n",
       "0005     1.0  0.668192 NaN  0.668192  0.668192  0.668192            1.0   \n",
       "0006     1.0  0.673401 NaN  0.673401  0.673401  0.673401            1.0   \n",
       "0007     1.0  0.640769 NaN  0.640769  0.640769  0.640769            1.0   \n",
       "0009     1.0  0.769947 NaN  0.769947  0.769947  0.769947            1.0   \n",
       "0010     1.0  0.768258 NaN  0.768258  0.768258  0.768258            1.0   \n",
       "0011     1.0  0.686820 NaN  0.686820  0.686820  0.686820            1.0   \n",
       "0012     1.0  0.725726 NaN  0.725726  0.725726  0.725726            1.0   \n",
       "0013     1.0  0.677320 NaN  0.677320  0.677320  0.677320            1.0   \n",
       "0014     1.0  0.599034 NaN  0.599034  0.599034  0.599034            1.0   \n",
       "0017     1.0  0.737218 NaN  0.737218  0.737218  0.737218            1.0   \n",
       "0018     1.0  0.740417 NaN  0.740417  0.740417  0.740417            1.0   \n",
       "0019     1.0  0.571691 NaN  0.571691  0.571691  0.571691            1.0   \n",
       "\n",
       "                                                 eventRecall                \\\n",
       "          mean std       min       50%       max       count      mean std   \n",
       "test                                                                         \n",
       "0001  0.897476 NaN  0.897476  0.897476  0.897476         1.0  0.545019 NaN   \n",
       "0002  0.744186 NaN  0.744186  0.744186  0.744186         1.0  0.839895 NaN   \n",
       "0003  0.587912 NaN  0.587912  0.587912  0.587912         1.0  0.748252 NaN   \n",
       "0005  0.547842 NaN  0.547842  0.547842  0.547842         1.0  0.856305 NaN   \n",
       "0006  0.680272 NaN  0.680272  0.680272  0.680272         1.0  0.666667 NaN   \n",
       "0007  0.517544 NaN  0.517544  0.517544  0.517544         1.0  0.841009 NaN   \n",
       "0009  0.839130 NaN  0.839130  0.839130  0.839130         1.0  0.711302 NaN   \n",
       "0010  0.707627 NaN  0.707627  0.707627  0.707627         1.0  0.840252 NaN   \n",
       "0011  0.541985 NaN  0.541985  0.541985  0.541985         1.0  0.937294 NaN   \n",
       "0012  0.729345 NaN  0.729345  0.729345  0.729345         1.0  0.722144 NaN   \n",
       "0013  0.528986 NaN  0.528986  0.528986  0.528986         1.0  0.941261 NaN   \n",
       "0014  0.435783 NaN  0.435783  0.435783  0.435783         1.0  0.957865 NaN   \n",
       "0017  0.835580 NaN  0.835580  0.835580  0.835580         1.0  0.659574 NaN   \n",
       "0018  0.850613 NaN  0.850613  0.850613  0.850613         1.0  0.655498 NaN   \n",
       "0019  0.402329 NaN  0.402329  0.402329  0.402329         1.0  0.987302 NaN   \n",
       "\n",
       "                                    \n",
       "           min       50%       max  \n",
       "test                                \n",
       "0001  0.545019  0.545019  0.545019  \n",
       "0002  0.839895  0.839895  0.839895  \n",
       "0003  0.748252  0.748252  0.748252  \n",
       "0005  0.856305  0.856305  0.856305  \n",
       "0006  0.666667  0.666667  0.666667  \n",
       "0007  0.841009  0.841009  0.841009  \n",
       "0009  0.711302  0.711302  0.711302  \n",
       "0010  0.840252  0.840252  0.840252  \n",
       "0011  0.937294  0.937294  0.937294  \n",
       "0012  0.722144  0.722144  0.722144  \n",
       "0013  0.941261  0.941261  0.941261  \n",
       "0014  0.957865  0.957865  0.957865  \n",
       "0017  0.659574  0.659574  0.659574  \n",
       "0018  0.655498  0.655498  0.655498  \n",
       "0019  0.987302  0.987302  0.987302  "
      ]
     },
     "execution_count": 25,
     "metadata": {},
     "output_type": "execute_result"
    }
   ],
   "source": [
    "experimentModels[['test','eventF1','eventPrecision','eventRecall']].groupby('test').describe(percentiles=[0.5])"
   ]
  },
  {
   "cell_type": "code",
   "execution_count": 26,
   "metadata": {},
   "outputs": [
    {
     "data": {
      "text/html": [
       "<div>\n",
       "<style scoped>\n",
       "    .dataframe tbody tr th:only-of-type {\n",
       "        vertical-align: middle;\n",
       "    }\n",
       "\n",
       "    .dataframe tbody tr th {\n",
       "        vertical-align: top;\n",
       "    }\n",
       "\n",
       "    .dataframe thead th {\n",
       "        text-align: right;\n",
       "    }\n",
       "</style>\n",
       "<table border=\"1\" class=\"dataframe\">\n",
       "  <thead>\n",
       "    <tr style=\"text-align: right;\">\n",
       "      <th></th>\n",
       "      <th>test</th>\n",
       "      <th>eventF1</th>\n",
       "      <th>eventPrecision</th>\n",
       "      <th>eventRecall</th>\n",
       "    </tr>\n",
       "  </thead>\n",
       "  <tbody>\n",
       "    <tr>\n",
       "      <th>0</th>\n",
       "      <td>0001</td>\n",
       "      <td>0.678188</td>\n",
       "      <td>0.897476</td>\n",
       "      <td>0.545019</td>\n",
       "    </tr>\n",
       "    <tr>\n",
       "      <th>1</th>\n",
       "      <td>0002</td>\n",
       "      <td>0.789149</td>\n",
       "      <td>0.744186</td>\n",
       "      <td>0.839895</td>\n",
       "    </tr>\n",
       "    <tr>\n",
       "      <th>2</th>\n",
       "      <td>0003</td>\n",
       "      <td>0.658462</td>\n",
       "      <td>0.587912</td>\n",
       "      <td>0.748252</td>\n",
       "    </tr>\n",
       "    <tr>\n",
       "      <th>3</th>\n",
       "      <td>0005</td>\n",
       "      <td>0.668192</td>\n",
       "      <td>0.547842</td>\n",
       "      <td>0.856305</td>\n",
       "    </tr>\n",
       "    <tr>\n",
       "      <th>4</th>\n",
       "      <td>0006</td>\n",
       "      <td>0.673401</td>\n",
       "      <td>0.680272</td>\n",
       "      <td>0.666667</td>\n",
       "    </tr>\n",
       "    <tr>\n",
       "      <th>5</th>\n",
       "      <td>0007</td>\n",
       "      <td>0.640769</td>\n",
       "      <td>0.517544</td>\n",
       "      <td>0.841009</td>\n",
       "    </tr>\n",
       "    <tr>\n",
       "      <th>6</th>\n",
       "      <td>0009</td>\n",
       "      <td>0.769947</td>\n",
       "      <td>0.839130</td>\n",
       "      <td>0.711302</td>\n",
       "    </tr>\n",
       "    <tr>\n",
       "      <th>7</th>\n",
       "      <td>0010</td>\n",
       "      <td>0.768258</td>\n",
       "      <td>0.707627</td>\n",
       "      <td>0.840252</td>\n",
       "    </tr>\n",
       "    <tr>\n",
       "      <th>8</th>\n",
       "      <td>0011</td>\n",
       "      <td>0.686820</td>\n",
       "      <td>0.541985</td>\n",
       "      <td>0.937294</td>\n",
       "    </tr>\n",
       "    <tr>\n",
       "      <th>9</th>\n",
       "      <td>0012</td>\n",
       "      <td>0.725726</td>\n",
       "      <td>0.729345</td>\n",
       "      <td>0.722144</td>\n",
       "    </tr>\n",
       "    <tr>\n",
       "      <th>10</th>\n",
       "      <td>0013</td>\n",
       "      <td>0.677320</td>\n",
       "      <td>0.528986</td>\n",
       "      <td>0.941261</td>\n",
       "    </tr>\n",
       "    <tr>\n",
       "      <th>11</th>\n",
       "      <td>0014</td>\n",
       "      <td>0.599034</td>\n",
       "      <td>0.435783</td>\n",
       "      <td>0.957865</td>\n",
       "    </tr>\n",
       "    <tr>\n",
       "      <th>12</th>\n",
       "      <td>0017</td>\n",
       "      <td>0.737218</td>\n",
       "      <td>0.835580</td>\n",
       "      <td>0.659574</td>\n",
       "    </tr>\n",
       "    <tr>\n",
       "      <th>13</th>\n",
       "      <td>0018</td>\n",
       "      <td>0.740417</td>\n",
       "      <td>0.850613</td>\n",
       "      <td>0.655498</td>\n",
       "    </tr>\n",
       "    <tr>\n",
       "      <th>14</th>\n",
       "      <td>0019</td>\n",
       "      <td>0.571691</td>\n",
       "      <td>0.402329</td>\n",
       "      <td>0.987302</td>\n",
       "    </tr>\n",
       "  </tbody>\n",
       "</table>\n",
       "</div>"
      ],
      "text/plain": [
       "    test   eventF1  eventPrecision  eventRecall\n",
       "0   0001  0.678188        0.897476     0.545019\n",
       "1   0002  0.789149        0.744186     0.839895\n",
       "2   0003  0.658462        0.587912     0.748252\n",
       "3   0005  0.668192        0.547842     0.856305\n",
       "4   0006  0.673401        0.680272     0.666667\n",
       "5   0007  0.640769        0.517544     0.841009\n",
       "6   0009  0.769947        0.839130     0.711302\n",
       "7   0010  0.768258        0.707627     0.840252\n",
       "8   0011  0.686820        0.541985     0.937294\n",
       "9   0012  0.725726        0.729345     0.722144\n",
       "10  0013  0.677320        0.528986     0.941261\n",
       "11  0014  0.599034        0.435783     0.957865\n",
       "12  0017  0.737218        0.835580     0.659574\n",
       "13  0018  0.740417        0.850613     0.655498\n",
       "14  0019  0.571691        0.402329     0.987302"
      ]
     },
     "execution_count": 26,
     "metadata": {},
     "output_type": "execute_result"
    }
   ],
   "source": [
    "experimentModels[['test','eventF1','eventPrecision','eventRecall']].groupby('test',as_index=False).mean()"
   ]
  },
  {
   "cell_type": "code",
   "execution_count": 27,
   "metadata": {},
   "outputs": [
    {
     "data": {
      "text/plain": [
       "test              6.668000e+54\n",
       "eventF1           6.923060e-01\n",
       "eventPrecision    6.564406e-01\n",
       "eventRecall       7.939759e-01\n",
       "dtype: float64"
      ]
     },
     "execution_count": 27,
     "metadata": {},
     "output_type": "execute_result"
    }
   ],
   "source": [
    "experimentModels[['test','eventF1','eventPrecision','eventRecall']].groupby('test',as_index=False).mean().mean()"
   ]
  },
  {
   "cell_type": "code",
   "execution_count": 28,
   "metadata": {},
   "outputs": [
    {
     "name": "stderr",
     "output_type": "stream",
     "text": [
      "C:\\Users\\Gurdiel\\AppData\\Local\\Temp\\ipykernel_5776\\2931376690.py:1: FutureWarning:\n",
      "\n",
      "The default value of numeric_only in DataFrame.std is deprecated. In a future version, it will default to False. In addition, specifying 'numeric_only=None' is deprecated. Select only valid columns or specify the value of numeric_only to silence this warning.\n",
      "\n"
     ]
    },
    {
     "data": {
      "text/plain": [
       "eventF1           0.062716\n",
       "eventPrecision    0.159432\n",
       "eventRecall       0.132645\n",
       "dtype: float64"
      ]
     },
     "execution_count": 28,
     "metadata": {},
     "output_type": "execute_result"
    }
   ],
   "source": [
    "experimentModels[['test','eventF1','eventPrecision','eventRecall']].groupby('test',as_index=False).mean().std()"
   ]
  },
  {
   "cell_type": "code",
   "execution_count": 29,
   "metadata": {},
   "outputs": [],
   "source": [
    "auxPrecision=pd.DataFrame({\n",
    "    'metric':'event precision',\n",
    "    'value':experimentModels.eventPrecision,\n",
    "    'event F1':experimentModels.eventF1\n",
    "})\n",
    "\n",
    "auxRecall=pd.DataFrame({\n",
    "    'metric':'event recall',\n",
    "    'value':experimentModels.eventRecall,\n",
    "    'event F1':experimentModels.eventF1\n",
    "})\n",
    "visualTradeoff=pd.concat((auxPrecision,auxRecall))"
   ]
  },
  {
   "cell_type": "code",
   "execution_count": 30,
   "metadata": {},
   "outputs": [
    {
     "data": {
      "application/vnd.plotly.v1+json": {
       "config": {
        "plotlyServerURL": "https://plot.ly"
       },
       "data": [
        {
         "hovertemplate": "metric=event precision<br>event F1=%{x}<br>value=%{y}<extra></extra>",
         "legendgroup": "event precision",
         "marker": {
          "color": "#636efa",
          "symbol": "circle"
         },
         "mode": "markers",
         "name": "event precision",
         "orientation": "v",
         "showlegend": true,
         "type": "scatter",
         "x": [
          0.6781883194278904,
          0.7891491985203453,
          0.6584615384615384,
          0.6681922196796338,
          0.6734006734006734,
          0.6407685881370092,
          0.7699468085106383,
          0.7682576193214491,
          0.686819830713422,
          0.7257264351523742,
          0.677319587628866,
          0.5990338164251208,
          0.737217598097503,
          0.7404172731683649,
          0.5716911764705882
         ],
         "xaxis": "x",
         "y": [
          0.8974763406940063,
          0.7441860465116279,
          0.5879120879120879,
          0.5478424015009381,
          0.6802721088435374,
          0.5175438596491229,
          0.8391304347826087,
          0.7076271186440678,
          0.5419847328244275,
          0.7293447293447294,
          0.5289855072463768,
          0.43578274760383384,
          0.8355795148247979,
          0.850613154960981,
          0.4023285899094437
         ],
         "yaxis": "y"
        },
        {
         "alignmentgroup": "True",
         "bingroup": "y",
         "hovertemplate": "metric=event precision<br>value=%{y}<br>count=%{x}<extra></extra>",
         "legendgroup": "event precision",
         "marker": {
          "color": "#636efa"
         },
         "name": "event precision",
         "offsetgroup": "event precision",
         "opacity": 0.5,
         "showlegend": false,
         "type": "histogram",
         "xaxis": "x2",
         "y": [
          0.8974763406940063,
          0.7441860465116279,
          0.5879120879120879,
          0.5478424015009381,
          0.6802721088435374,
          0.5175438596491229,
          0.8391304347826087,
          0.7076271186440678,
          0.5419847328244275,
          0.7293447293447294,
          0.5289855072463768,
          0.43578274760383384,
          0.8355795148247979,
          0.850613154960981,
          0.4023285899094437
         ],
         "yaxis": "y2"
        },
        {
         "hovertemplate": "metric=event recall<br>event F1=%{x}<br>value=%{y}<extra></extra>",
         "legendgroup": "event recall",
         "marker": {
          "color": "#EF553B",
          "symbol": "circle"
         },
         "mode": "markers",
         "name": "event recall",
         "orientation": "v",
         "showlegend": true,
         "type": "scatter",
         "x": [
          0.6781883194278904,
          0.7891491985203453,
          0.6584615384615384,
          0.6681922196796338,
          0.6734006734006734,
          0.6407685881370092,
          0.7699468085106383,
          0.7682576193214491,
          0.686819830713422,
          0.7257264351523742,
          0.677319587628866,
          0.5990338164251208,
          0.737217598097503,
          0.7404172731683649,
          0.5716911764705882
         ],
         "xaxis": "x",
         "y": [
          0.5450191570881227,
          0.8398950131233596,
          0.7482517482517482,
          0.8563049853372434,
          0.6666666666666666,
          0.8410087719298246,
          0.7113022113022113,
          0.8402515723270441,
          0.9372937293729373,
          0.7221438645980254,
          0.9412607449856734,
          0.9578651685393258,
          0.6595744680851063,
          0.6554982817869416,
          0.9873015873015873
         ],
         "yaxis": "y"
        },
        {
         "alignmentgroup": "True",
         "bingroup": "y",
         "hovertemplate": "metric=event recall<br>value=%{y}<br>count=%{x}<extra></extra>",
         "legendgroup": "event recall",
         "marker": {
          "color": "#EF553B"
         },
         "name": "event recall",
         "offsetgroup": "event recall",
         "opacity": 0.5,
         "showlegend": false,
         "type": "histogram",
         "xaxis": "x2",
         "y": [
          0.5450191570881227,
          0.8398950131233596,
          0.7482517482517482,
          0.8563049853372434,
          0.6666666666666666,
          0.8410087719298246,
          0.7113022113022113,
          0.8402515723270441,
          0.9372937293729373,
          0.7221438645980254,
          0.9412607449856734,
          0.9578651685393258,
          0.6595744680851063,
          0.6554982817869416,
          0.9873015873015873
         ],
         "yaxis": "y2"
        },
        {
         "fill": "toself",
         "mode": "lines",
         "name": "identity",
         "type": "scatter",
         "x": [
          0.6781883194278904,
          0.7891491985203453,
          0.6584615384615384,
          0.6681922196796338,
          0.6734006734006734,
          0.6407685881370092,
          0.7699468085106383,
          0.7682576193214491,
          0.686819830713422,
          0.7257264351523742,
          0.677319587628866,
          0.5990338164251208,
          0.737217598097503,
          0.7404172731683649,
          0.5716911764705882
         ],
         "y": [
          0.6781883194278904,
          0.7891491985203453,
          0.6584615384615384,
          0.6681922196796338,
          0.6734006734006734,
          0.6407685881370092,
          0.7699468085106383,
          0.7682576193214491,
          0.686819830713422,
          0.7257264351523742,
          0.677319587628866,
          0.5990338164251208,
          0.737217598097503,
          0.7404172731683649,
          0.5716911764705882
         ]
        }
       ],
       "layout": {
        "barmode": "overlay",
        "legend": {
         "title": {
          "text": "metric"
         },
         "tracegroupgap": 0
        },
        "margin": {
         "t": 60
        },
        "template": {
         "data": {
          "bar": [
           {
            "error_x": {
             "color": "#2a3f5f"
            },
            "error_y": {
             "color": "#2a3f5f"
            },
            "marker": {
             "line": {
              "color": "#E5ECF6",
              "width": 0.5
             },
             "pattern": {
              "fillmode": "overlay",
              "size": 10,
              "solidity": 0.2
             }
            },
            "type": "bar"
           }
          ],
          "barpolar": [
           {
            "marker": {
             "line": {
              "color": "#E5ECF6",
              "width": 0.5
             },
             "pattern": {
              "fillmode": "overlay",
              "size": 10,
              "solidity": 0.2
             }
            },
            "type": "barpolar"
           }
          ],
          "carpet": [
           {
            "aaxis": {
             "endlinecolor": "#2a3f5f",
             "gridcolor": "white",
             "linecolor": "white",
             "minorgridcolor": "white",
             "startlinecolor": "#2a3f5f"
            },
            "baxis": {
             "endlinecolor": "#2a3f5f",
             "gridcolor": "white",
             "linecolor": "white",
             "minorgridcolor": "white",
             "startlinecolor": "#2a3f5f"
            },
            "type": "carpet"
           }
          ],
          "choropleth": [
           {
            "colorbar": {
             "outlinewidth": 0,
             "ticks": ""
            },
            "type": "choropleth"
           }
          ],
          "contour": [
           {
            "colorbar": {
             "outlinewidth": 0,
             "ticks": ""
            },
            "colorscale": [
             [
              0,
              "#0d0887"
             ],
             [
              0.1111111111111111,
              "#46039f"
             ],
             [
              0.2222222222222222,
              "#7201a8"
             ],
             [
              0.3333333333333333,
              "#9c179e"
             ],
             [
              0.4444444444444444,
              "#bd3786"
             ],
             [
              0.5555555555555556,
              "#d8576b"
             ],
             [
              0.6666666666666666,
              "#ed7953"
             ],
             [
              0.7777777777777778,
              "#fb9f3a"
             ],
             [
              0.8888888888888888,
              "#fdca26"
             ],
             [
              1,
              "#f0f921"
             ]
            ],
            "type": "contour"
           }
          ],
          "contourcarpet": [
           {
            "colorbar": {
             "outlinewidth": 0,
             "ticks": ""
            },
            "type": "contourcarpet"
           }
          ],
          "heatmap": [
           {
            "colorbar": {
             "outlinewidth": 0,
             "ticks": ""
            },
            "colorscale": [
             [
              0,
              "#0d0887"
             ],
             [
              0.1111111111111111,
              "#46039f"
             ],
             [
              0.2222222222222222,
              "#7201a8"
             ],
             [
              0.3333333333333333,
              "#9c179e"
             ],
             [
              0.4444444444444444,
              "#bd3786"
             ],
             [
              0.5555555555555556,
              "#d8576b"
             ],
             [
              0.6666666666666666,
              "#ed7953"
             ],
             [
              0.7777777777777778,
              "#fb9f3a"
             ],
             [
              0.8888888888888888,
              "#fdca26"
             ],
             [
              1,
              "#f0f921"
             ]
            ],
            "type": "heatmap"
           }
          ],
          "heatmapgl": [
           {
            "colorbar": {
             "outlinewidth": 0,
             "ticks": ""
            },
            "colorscale": [
             [
              0,
              "#0d0887"
             ],
             [
              0.1111111111111111,
              "#46039f"
             ],
             [
              0.2222222222222222,
              "#7201a8"
             ],
             [
              0.3333333333333333,
              "#9c179e"
             ],
             [
              0.4444444444444444,
              "#bd3786"
             ],
             [
              0.5555555555555556,
              "#d8576b"
             ],
             [
              0.6666666666666666,
              "#ed7953"
             ],
             [
              0.7777777777777778,
              "#fb9f3a"
             ],
             [
              0.8888888888888888,
              "#fdca26"
             ],
             [
              1,
              "#f0f921"
             ]
            ],
            "type": "heatmapgl"
           }
          ],
          "histogram": [
           {
            "marker": {
             "pattern": {
              "fillmode": "overlay",
              "size": 10,
              "solidity": 0.2
             }
            },
            "type": "histogram"
           }
          ],
          "histogram2d": [
           {
            "colorbar": {
             "outlinewidth": 0,
             "ticks": ""
            },
            "colorscale": [
             [
              0,
              "#0d0887"
             ],
             [
              0.1111111111111111,
              "#46039f"
             ],
             [
              0.2222222222222222,
              "#7201a8"
             ],
             [
              0.3333333333333333,
              "#9c179e"
             ],
             [
              0.4444444444444444,
              "#bd3786"
             ],
             [
              0.5555555555555556,
              "#d8576b"
             ],
             [
              0.6666666666666666,
              "#ed7953"
             ],
             [
              0.7777777777777778,
              "#fb9f3a"
             ],
             [
              0.8888888888888888,
              "#fdca26"
             ],
             [
              1,
              "#f0f921"
             ]
            ],
            "type": "histogram2d"
           }
          ],
          "histogram2dcontour": [
           {
            "colorbar": {
             "outlinewidth": 0,
             "ticks": ""
            },
            "colorscale": [
             [
              0,
              "#0d0887"
             ],
             [
              0.1111111111111111,
              "#46039f"
             ],
             [
              0.2222222222222222,
              "#7201a8"
             ],
             [
              0.3333333333333333,
              "#9c179e"
             ],
             [
              0.4444444444444444,
              "#bd3786"
             ],
             [
              0.5555555555555556,
              "#d8576b"
             ],
             [
              0.6666666666666666,
              "#ed7953"
             ],
             [
              0.7777777777777778,
              "#fb9f3a"
             ],
             [
              0.8888888888888888,
              "#fdca26"
             ],
             [
              1,
              "#f0f921"
             ]
            ],
            "type": "histogram2dcontour"
           }
          ],
          "mesh3d": [
           {
            "colorbar": {
             "outlinewidth": 0,
             "ticks": ""
            },
            "type": "mesh3d"
           }
          ],
          "parcoords": [
           {
            "line": {
             "colorbar": {
              "outlinewidth": 0,
              "ticks": ""
             }
            },
            "type": "parcoords"
           }
          ],
          "pie": [
           {
            "automargin": true,
            "type": "pie"
           }
          ],
          "scatter": [
           {
            "fillpattern": {
             "fillmode": "overlay",
             "size": 10,
             "solidity": 0.2
            },
            "type": "scatter"
           }
          ],
          "scatter3d": [
           {
            "line": {
             "colorbar": {
              "outlinewidth": 0,
              "ticks": ""
             }
            },
            "marker": {
             "colorbar": {
              "outlinewidth": 0,
              "ticks": ""
             }
            },
            "type": "scatter3d"
           }
          ],
          "scattercarpet": [
           {
            "marker": {
             "colorbar": {
              "outlinewidth": 0,
              "ticks": ""
             }
            },
            "type": "scattercarpet"
           }
          ],
          "scattergeo": [
           {
            "marker": {
             "colorbar": {
              "outlinewidth": 0,
              "ticks": ""
             }
            },
            "type": "scattergeo"
           }
          ],
          "scattergl": [
           {
            "marker": {
             "colorbar": {
              "outlinewidth": 0,
              "ticks": ""
             }
            },
            "type": "scattergl"
           }
          ],
          "scattermapbox": [
           {
            "marker": {
             "colorbar": {
              "outlinewidth": 0,
              "ticks": ""
             }
            },
            "type": "scattermapbox"
           }
          ],
          "scatterpolar": [
           {
            "marker": {
             "colorbar": {
              "outlinewidth": 0,
              "ticks": ""
             }
            },
            "type": "scatterpolar"
           }
          ],
          "scatterpolargl": [
           {
            "marker": {
             "colorbar": {
              "outlinewidth": 0,
              "ticks": ""
             }
            },
            "type": "scatterpolargl"
           }
          ],
          "scatterternary": [
           {
            "marker": {
             "colorbar": {
              "outlinewidth": 0,
              "ticks": ""
             }
            },
            "type": "scatterternary"
           }
          ],
          "surface": [
           {
            "colorbar": {
             "outlinewidth": 0,
             "ticks": ""
            },
            "colorscale": [
             [
              0,
              "#0d0887"
             ],
             [
              0.1111111111111111,
              "#46039f"
             ],
             [
              0.2222222222222222,
              "#7201a8"
             ],
             [
              0.3333333333333333,
              "#9c179e"
             ],
             [
              0.4444444444444444,
              "#bd3786"
             ],
             [
              0.5555555555555556,
              "#d8576b"
             ],
             [
              0.6666666666666666,
              "#ed7953"
             ],
             [
              0.7777777777777778,
              "#fb9f3a"
             ],
             [
              0.8888888888888888,
              "#fdca26"
             ],
             [
              1,
              "#f0f921"
             ]
            ],
            "type": "surface"
           }
          ],
          "table": [
           {
            "cells": {
             "fill": {
              "color": "#EBF0F8"
             },
             "line": {
              "color": "white"
             }
            },
            "header": {
             "fill": {
              "color": "#C8D4E3"
             },
             "line": {
              "color": "white"
             }
            },
            "type": "table"
           }
          ]
         },
         "layout": {
          "annotationdefaults": {
           "arrowcolor": "#2a3f5f",
           "arrowhead": 0,
           "arrowwidth": 1
          },
          "autotypenumbers": "strict",
          "coloraxis": {
           "colorbar": {
            "outlinewidth": 0,
            "ticks": ""
           }
          },
          "colorscale": {
           "diverging": [
            [
             0,
             "#8e0152"
            ],
            [
             0.1,
             "#c51b7d"
            ],
            [
             0.2,
             "#de77ae"
            ],
            [
             0.3,
             "#f1b6da"
            ],
            [
             0.4,
             "#fde0ef"
            ],
            [
             0.5,
             "#f7f7f7"
            ],
            [
             0.6,
             "#e6f5d0"
            ],
            [
             0.7,
             "#b8e186"
            ],
            [
             0.8,
             "#7fbc41"
            ],
            [
             0.9,
             "#4d9221"
            ],
            [
             1,
             "#276419"
            ]
           ],
           "sequential": [
            [
             0,
             "#0d0887"
            ],
            [
             0.1111111111111111,
             "#46039f"
            ],
            [
             0.2222222222222222,
             "#7201a8"
            ],
            [
             0.3333333333333333,
             "#9c179e"
            ],
            [
             0.4444444444444444,
             "#bd3786"
            ],
            [
             0.5555555555555556,
             "#d8576b"
            ],
            [
             0.6666666666666666,
             "#ed7953"
            ],
            [
             0.7777777777777778,
             "#fb9f3a"
            ],
            [
             0.8888888888888888,
             "#fdca26"
            ],
            [
             1,
             "#f0f921"
            ]
           ],
           "sequentialminus": [
            [
             0,
             "#0d0887"
            ],
            [
             0.1111111111111111,
             "#46039f"
            ],
            [
             0.2222222222222222,
             "#7201a8"
            ],
            [
             0.3333333333333333,
             "#9c179e"
            ],
            [
             0.4444444444444444,
             "#bd3786"
            ],
            [
             0.5555555555555556,
             "#d8576b"
            ],
            [
             0.6666666666666666,
             "#ed7953"
            ],
            [
             0.7777777777777778,
             "#fb9f3a"
            ],
            [
             0.8888888888888888,
             "#fdca26"
            ],
            [
             1,
             "#f0f921"
            ]
           ]
          },
          "colorway": [
           "#636efa",
           "#EF553B",
           "#00cc96",
           "#ab63fa",
           "#FFA15A",
           "#19d3f3",
           "#FF6692",
           "#B6E880",
           "#FF97FF",
           "#FECB52"
          ],
          "font": {
           "color": "#2a3f5f"
          },
          "geo": {
           "bgcolor": "white",
           "lakecolor": "white",
           "landcolor": "#E5ECF6",
           "showlakes": true,
           "showland": true,
           "subunitcolor": "white"
          },
          "hoverlabel": {
           "align": "left"
          },
          "hovermode": "closest",
          "mapbox": {
           "style": "light"
          },
          "paper_bgcolor": "white",
          "plot_bgcolor": "#E5ECF6",
          "polar": {
           "angularaxis": {
            "gridcolor": "white",
            "linecolor": "white",
            "ticks": ""
           },
           "bgcolor": "#E5ECF6",
           "radialaxis": {
            "gridcolor": "white",
            "linecolor": "white",
            "ticks": ""
           }
          },
          "scene": {
           "xaxis": {
            "backgroundcolor": "#E5ECF6",
            "gridcolor": "white",
            "gridwidth": 2,
            "linecolor": "white",
            "showbackground": true,
            "ticks": "",
            "zerolinecolor": "white"
           },
           "yaxis": {
            "backgroundcolor": "#E5ECF6",
            "gridcolor": "white",
            "gridwidth": 2,
            "linecolor": "white",
            "showbackground": true,
            "ticks": "",
            "zerolinecolor": "white"
           },
           "zaxis": {
            "backgroundcolor": "#E5ECF6",
            "gridcolor": "white",
            "gridwidth": 2,
            "linecolor": "white",
            "showbackground": true,
            "ticks": "",
            "zerolinecolor": "white"
           }
          },
          "shapedefaults": {
           "line": {
            "color": "#2a3f5f"
           }
          },
          "ternary": {
           "aaxis": {
            "gridcolor": "white",
            "linecolor": "white",
            "ticks": ""
           },
           "baxis": {
            "gridcolor": "white",
            "linecolor": "white",
            "ticks": ""
           },
           "bgcolor": "#E5ECF6",
           "caxis": {
            "gridcolor": "white",
            "linecolor": "white",
            "ticks": ""
           }
          },
          "title": {
           "x": 0.05
          },
          "xaxis": {
           "automargin": true,
           "gridcolor": "white",
           "linecolor": "white",
           "ticks": "",
           "title": {
            "standoff": 15
           },
           "zerolinecolor": "white",
           "zerolinewidth": 2
          },
          "yaxis": {
           "automargin": true,
           "gridcolor": "white",
           "linecolor": "white",
           "ticks": "",
           "title": {
            "standoff": 15
           },
           "zerolinecolor": "white",
           "zerolinewidth": 2
          }
         }
        },
        "xaxis": {
         "anchor": "y",
         "domain": [
          0,
          0.7363
         ],
         "title": {
          "text": "event F1"
         }
        },
        "xaxis2": {
         "anchor": "y2",
         "domain": [
          0.7413,
          1
         ],
         "matches": "x2",
         "showgrid": true,
         "showline": false,
         "showticklabels": false,
         "ticks": ""
        },
        "yaxis": {
         "anchor": "x",
         "domain": [
          0,
          1
         ],
         "title": {
          "text": "value"
         }
        },
        "yaxis2": {
         "anchor": "x2",
         "domain": [
          0,
          1
         ],
         "matches": "y",
         "showgrid": true,
         "showticklabels": false
        }
       }
      }
     },
     "metadata": {},
     "output_type": "display_data"
    }
   ],
   "source": [
    "fig=px.scatter(visualTradeoff,x='event F1',y='value',color='metric', marginal_y=\"histogram\")\n",
    "fig.add_trace(\n",
    "    go.Scatter(x=experimentModels['eventF1'], y=experimentModels['eventF1'], name=\"identity\", mode='lines',fill=\"toself\")\n",
    ")\n",
    "fig.show()"
   ]
  },
  {
   "attachments": {},
   "cell_type": "markdown",
   "metadata": {},
   "source": [
    "## Restrict to only N2 stage"
   ]
  },
  {
   "cell_type": "code",
   "execution_count": 31,
   "metadata": {},
   "outputs": [
    {
     "data": {
      "text/html": [
       "<div>\n",
       "<style scoped>\n",
       "    .dataframe tbody tr th:only-of-type {\n",
       "        vertical-align: middle;\n",
       "    }\n",
       "\n",
       "    .dataframe tbody tr th {\n",
       "        vertical-align: top;\n",
       "    }\n",
       "\n",
       "    .dataframe thead th {\n",
       "        text-align: right;\n",
       "    }\n",
       "</style>\n",
       "<table border=\"1\" class=\"dataframe\">\n",
       "  <thead>\n",
       "    <tr style=\"text-align: right;\">\n",
       "      <th></th>\n",
       "      <th>criteriumId</th>\n",
       "      <th>criteriumName</th>\n",
       "      <th>labelerIdList</th>\n",
       "      <th>train</th>\n",
       "      <th>val</th>\n",
       "      <th>test</th>\n",
       "      <th>modelId</th>\n",
       "      <th>spindleTimeRate</th>\n",
       "      <th>rawF1</th>\n",
       "      <th>rawPrecision</th>\n",
       "      <th>rawRecall</th>\n",
       "      <th>f1</th>\n",
       "      <th>precision</th>\n",
       "      <th>recall</th>\n",
       "      <th>eventF1</th>\n",
       "      <th>eventPrecision</th>\n",
       "      <th>eventRecall</th>\n",
       "    </tr>\n",
       "  </thead>\n",
       "  <tbody>\n",
       "    <tr>\n",
       "      <th>0</th>\n",
       "      <td>0001</td>\n",
       "      <td>E1</td>\n",
       "      <td>[0001]</td>\n",
       "      <td>[0003, 0005, 0007, 0009, 0010, 0011, 0012, 001...</td>\n",
       "      <td>[0017, 0002, 0006]</td>\n",
       "      <td>0001</td>\n",
       "      <td>d51d037b-304a-48df-970e-58aac592ac87</td>\n",
       "      <td>0.018639</td>\n",
       "      <td>0.627405</td>\n",
       "      <td>0.841833</td>\n",
       "      <td>0.500038</td>\n",
       "      <td>0.625346</td>\n",
       "      <td>0.845816</td>\n",
       "      <td>0.496047</td>\n",
       "      <td>0.678188</td>\n",
       "      <td>0.897476</td>\n",
       "      <td>0.545019</td>\n",
       "    </tr>\n",
       "    <tr>\n",
       "      <th>1</th>\n",
       "      <td>0001</td>\n",
       "      <td>E1</td>\n",
       "      <td>[0001]</td>\n",
       "      <td>[0001, 0003, 0005, 0007, 0009, 0010, 0011, 001...</td>\n",
       "      <td>[0006, 0013, 0019]</td>\n",
       "      <td>0002</td>\n",
       "      <td>50ebd176-f601-4f02-bcd5-e0c07a362a35</td>\n",
       "      <td>0.020055</td>\n",
       "      <td>0.733682</td>\n",
       "      <td>0.714589</td>\n",
       "      <td>0.753823</td>\n",
       "      <td>0.735542</td>\n",
       "      <td>0.719371</td>\n",
       "      <td>0.752455</td>\n",
       "      <td>0.789149</td>\n",
       "      <td>0.744186</td>\n",
       "      <td>0.839895</td>\n",
       "    </tr>\n",
       "    <tr>\n",
       "      <th>2</th>\n",
       "      <td>0001</td>\n",
       "      <td>E1</td>\n",
       "      <td>[0001]</td>\n",
       "      <td>[0002, 0005, 0007, 0009, 0010, 0011, 0012, 001...</td>\n",
       "      <td>[0013, 0006, 0001]</td>\n",
       "      <td>0003</td>\n",
       "      <td>ad0e1cc1-5a53-45b1-b13e-ca760e58c787</td>\n",
       "      <td>0.021075</td>\n",
       "      <td>0.617334</td>\n",
       "      <td>0.551438</td>\n",
       "      <td>0.701114</td>\n",
       "      <td>0.633646</td>\n",
       "      <td>0.576858</td>\n",
       "      <td>0.702837</td>\n",
       "      <td>0.658462</td>\n",
       "      <td>0.587912</td>\n",
       "      <td>0.748252</td>\n",
       "    </tr>\n",
       "    <tr>\n",
       "      <th>3</th>\n",
       "      <td>0001</td>\n",
       "      <td>E1</td>\n",
       "      <td>[0001]</td>\n",
       "      <td>[0001, 0002, 0003, 0006, 0007, 0009, 0010, 001...</td>\n",
       "      <td>[0018, 0014, 0012]</td>\n",
       "      <td>0005</td>\n",
       "      <td>953522b6-a687-4555-b7bd-64e50323f539</td>\n",
       "      <td>0.018331</td>\n",
       "      <td>0.598996</td>\n",
       "      <td>0.488493</td>\n",
       "      <td>0.774106</td>\n",
       "      <td>0.613069</td>\n",
       "      <td>0.506517</td>\n",
       "      <td>0.776391</td>\n",
       "      <td>0.668192</td>\n",
       "      <td>0.547842</td>\n",
       "      <td>0.856305</td>\n",
       "    </tr>\n",
       "    <tr>\n",
       "      <th>4</th>\n",
       "      <td>0001</td>\n",
       "      <td>E1</td>\n",
       "      <td>[0001]</td>\n",
       "      <td>[0003, 0007, 0009, 0010, 0011, 0012, 0013, 001...</td>\n",
       "      <td>[0005, 0001, 0002]</td>\n",
       "      <td>0006</td>\n",
       "      <td>fdff7a52-c874-434c-b79a-4652e6521b61</td>\n",
       "      <td>0.019222</td>\n",
       "      <td>0.607848</td>\n",
       "      <td>0.648662</td>\n",
       "      <td>0.571866</td>\n",
       "      <td>0.610757</td>\n",
       "      <td>0.669309</td>\n",
       "      <td>0.561625</td>\n",
       "      <td>0.673401</td>\n",
       "      <td>0.680272</td>\n",
       "      <td>0.666667</td>\n",
       "    </tr>\n",
       "  </tbody>\n",
       "</table>\n",
       "</div>"
      ],
      "text/plain": [
       "  criteriumId criteriumName labelerIdList  \\\n",
       "0        0001            E1        [0001]   \n",
       "1        0001            E1        [0001]   \n",
       "2        0001            E1        [0001]   \n",
       "3        0001            E1        [0001]   \n",
       "4        0001            E1        [0001]   \n",
       "\n",
       "                                               train                 val  \\\n",
       "0  [0003, 0005, 0007, 0009, 0010, 0011, 0012, 001...  [0017, 0002, 0006]   \n",
       "1  [0001, 0003, 0005, 0007, 0009, 0010, 0011, 001...  [0006, 0013, 0019]   \n",
       "2  [0002, 0005, 0007, 0009, 0010, 0011, 0012, 001...  [0013, 0006, 0001]   \n",
       "3  [0001, 0002, 0003, 0006, 0007, 0009, 0010, 001...  [0018, 0014, 0012]   \n",
       "4  [0003, 0007, 0009, 0010, 0011, 0012, 0013, 001...  [0005, 0001, 0002]   \n",
       "\n",
       "   test                               modelId  spindleTimeRate     rawF1  \\\n",
       "0  0001  d51d037b-304a-48df-970e-58aac592ac87         0.018639  0.627405   \n",
       "1  0002  50ebd176-f601-4f02-bcd5-e0c07a362a35         0.020055  0.733682   \n",
       "2  0003  ad0e1cc1-5a53-45b1-b13e-ca760e58c787         0.021075  0.617334   \n",
       "3  0005  953522b6-a687-4555-b7bd-64e50323f539         0.018331  0.598996   \n",
       "4  0006  fdff7a52-c874-434c-b79a-4652e6521b61         0.019222  0.607848   \n",
       "\n",
       "   rawPrecision  rawRecall        f1  precision    recall   eventF1  \\\n",
       "0      0.841833   0.500038  0.625346   0.845816  0.496047  0.678188   \n",
       "1      0.714589   0.753823  0.735542   0.719371  0.752455  0.789149   \n",
       "2      0.551438   0.701114  0.633646   0.576858  0.702837  0.658462   \n",
       "3      0.488493   0.774106  0.613069   0.506517  0.776391  0.668192   \n",
       "4      0.648662   0.571866  0.610757   0.669309  0.561625  0.673401   \n",
       "\n",
       "   eventPrecision  eventRecall  \n",
       "0        0.897476     0.545019  \n",
       "1        0.744186     0.839895  \n",
       "2        0.587912     0.748252  \n",
       "3        0.547842     0.856305  \n",
       "4        0.680272     0.666667  "
      ]
     },
     "execution_count": 31,
     "metadata": {},
     "output_type": "execute_result"
    }
   ],
   "source": [
    "experimentModels_N2=experimentModels.copy()\n",
    "experimentModels_N2.head()"
   ]
  },
  {
   "cell_type": "code",
   "execution_count": 32,
   "metadata": {},
   "outputs": [],
   "source": [
    "annotationsN2=pd.read_csv(datapath+'/MASS/annotations/spindlesFilteredN2.csv')\n",
    "annotationsN2['samplerate']=samplerate\n",
    "annotationsN2['subjectId']=annotationsN2.apply(\n",
    "    lambda row: str(row.subjectId).zfill(4),axis=1)\n",
    "annotationsN2['labelerId']=annotationsN2.apply(\n",
    "    lambda row: str(row.labelerId).zfill(4),axis=1)\n",
    "annotationsN2['stopTime']=annotationsN2.apply(\n",
    "    lambda row: row.startTime+row.duration , axis=1)\n",
    "annotationsN2['startInd']=annotationsN2.apply(\n",
    "    lambda row: seconds2index(row.startTime,row.samplerate) , axis=1)\n",
    "annotationsN2['stopInd']=annotationsN2.apply(\n",
    "    lambda row: seconds2index(row.stopTime,row.samplerate) , axis=1)"
   ]
  },
  {
   "cell_type": "code",
   "execution_count": 33,
   "metadata": {},
   "outputs": [],
   "source": [
    "## load hypnograms\n",
    "stagesAnnotations=pd.read_csv(datapath+\"\\MASS\\stages\\stages.csv\")\n",
    "stagesAnnotations['samplerate']=samplerate\n",
    "stagesAnnotations['subjectId']=stagesAnnotations.apply(\n",
    "    lambda row: str(row.subjectId).zfill(4),axis=1)\n",
    "stagesAnnotations['stopTime']=stagesAnnotations.apply(\n",
    "    lambda row: row.startTime+row.duration , axis=1)\n",
    "stagesAnnotations['startInd']=stagesAnnotations.apply(\n",
    "    lambda row: seconds2index(row.startTime,row.samplerate) , axis=1)\n",
    "stagesAnnotations['stopInd']=stagesAnnotations.apply(\n",
    "    lambda row: seconds2index(row.stopTime,row.samplerate) , axis=1)\n",
    "stagesAnnotations.head(5)\n",
    "\n",
    "hypnograms={}\n",
    "for ind, row in signalsMetadata.iterrows():\n",
    "    subjectId=row.subjectId\n",
    "    thisStages=stagesAnnotations[stagesAnnotations.subjectId==subjectId]\n",
    "    excerptDimension=int(row.duration*row.samplerate)\n",
    "    thisHypnogram=np.ones((excerptDimension,))*np.nan\n",
    "    for ind_stg, row_stg in thisStages.iterrows():\n",
    "        thisHypnogram[row_stg.startInd:row_stg.stopInd]=row_stg.value\n",
    "    hypnograms[subjectId]=thisHypnogram   "
   ]
  },
  {
   "cell_type": "code",
   "execution_count": 34,
   "metadata": {},
   "outputs": [
    {
     "name": "stdout",
     "output_type": "stream",
     "text": [
      "*************************\n",
      "1 of 15\n",
      "*************************\n",
      "2 of 15\n",
      "*************************\n",
      "3 of 15\n",
      "*************************\n",
      "4 of 15\n",
      "*************************\n",
      "5 of 15\n",
      "*************************\n",
      "6 of 15\n",
      "*************************\n",
      "7 of 15\n",
      "*************************\n",
      "8 of 15\n",
      "*************************\n",
      "9 of 15\n",
      "*************************\n",
      "10 of 15\n",
      "*************************\n",
      "11 of 15\n",
      "*************************\n",
      "12 of 15\n",
      "*************************\n",
      "13 of 15\n",
      "*************************\n",
      "14 of 15\n",
      "*************************\n",
      "15 of 15\n"
     ]
    }
   ],
   "source": [
    "rawF1s=[]\n",
    "rawPrecisions=[]\n",
    "rawRecalls=[]\n",
    "\n",
    "f1s=[]\n",
    "precisions=[]\n",
    "recalls=[]\n",
    "\n",
    "eventF1s=[]\n",
    "eventPrecisions=[]\n",
    "eventRecalls=[]\n",
    "\n",
    "checks=[]\n",
    "\n",
    "for ind,row in experimentModels_N2.iterrows():\n",
    "    print('*************************')\n",
    "    print(str(ind+1)+' of '+str(len(experimentModels_N2)) )\n",
    "    #load model\n",
    "    model=loadBooster(row.modelId,experimentId,datapath)\n",
    "\n",
    "    testSubjectId=row.test\n",
    "    testHypnogram=hypnograms[testSubjectId]\n",
    "    testN2Mask=testHypnogram==2\n",
    "    #Define annotations criterium\n",
    "    usedAnnotations=annotationsN2[annotationsN2.labelerId.isin(row.labelerIdList)].reset_index(drop=True)\n",
    "    #Load features and labels\n",
    "    testFeatures=loadFeatureMatrix([testSubjectId],featureSelection,signalsMetadata,samplerate,datapath)\n",
    "    testLabels=loadLabelsVector([testSubjectId],usedAnnotations,signalsMetadata,samplerate)\n",
    "\n",
    "    #Predict\n",
    "    testDMatrix=xgb.DMatrix(data=testFeatures)\n",
    "    probabilities=model.predict(testDMatrix,iteration_range=(0,hyperDepth))\n",
    "    rawLabels=probabilities>=hyperThres\n",
    "\n",
    "    #Apply mask ---------------------------------->\n",
    "    rawLabels=rawLabels*testN2Mask\n",
    "    #<---------------------------------------------\n",
    "\n",
    "    #Raw Metrics\n",
    "    rawTp=np.sum(rawLabels*testLabels)\n",
    "    rawFp=np.sum(rawLabels*(1-testLabels))\n",
    "    rawTn=np.sum((1-rawLabels)*(1-testLabels))\n",
    "    rawFn=np.sum((1-rawLabels)*testLabels)\n",
    "    #Raw appends\n",
    "    rawF1s.append(2*rawTp/(2*rawTp+rawFp+rawFn))\n",
    "    rawPrecisions.append(rawTp/(rawTp+rawFp) )\n",
    "    rawRecalls.append(rawTp/(rawTp+rawFn))\n",
    "    #Process\n",
    "    processedLabels=labelingProcess(rawLabels,hyperClose,hyperDuration,samplerate)\n",
    "    #Processed metrics\n",
    "    tp=np.sum(processedLabels*testLabels)\n",
    "    fp=np.sum(processedLabels*(1-testLabels))\n",
    "    tn=np.sum((1-processedLabels)*(1-testLabels))\n",
    "    fn=np.sum((1-processedLabels)*testLabels)\n",
    "    #Processed appends\n",
    "    f1s.append(2*tp/(2*tp+fp+fn))\n",
    "    precisions.append(tp/(tp+fp))\n",
    "    recalls.append(tp/(tp+fn))\n",
    "\n",
    "    #By-event metrics\n",
    "    processedAnnotations=labelVectorToAnnotations(processedLabels,samplerate)\n",
    "    processedAnnotations=processedAnnotations[processedAnnotations.duration<maxDuration]\n",
    "    gtAnnotations=labelVectorToAnnotations(testLabels,samplerate)   #<- or just filter the annotations\n",
    "    f,r,p=annotationPairToMetrics(gtAnnotations,processedAnnotations)\n",
    "\n",
    "    #calculate metrics\n",
    "    eventF1s.append(f)\n",
    "    eventPrecisions.append(p)\n",
    "    eventRecalls.append(r)\n",
    "\n",
    "#include metrics in the dataframe\n",
    "experimentModels_N2['rawF1']=rawF1s\n",
    "experimentModels_N2['rawPrecision']=rawPrecisions\n",
    "experimentModels_N2['rawRecall']=rawRecalls\n",
    "\n",
    "experimentModels_N2['f1']=f1s\n",
    "experimentModels_N2['precision']=precisions\n",
    "experimentModels_N2['recall']=recalls\n",
    "\n",
    "experimentModels_N2['eventF1']=eventF1s\n",
    "experimentModels_N2['eventPrecision']=eventPrecisions\n",
    "experimentModels_N2['eventRecall']=eventRecalls\n"
   ]
  },
  {
   "cell_type": "code",
   "execution_count": 35,
   "metadata": {},
   "outputs": [],
   "source": [
    "dumpPickle('experimentModelsTest_N2_E1_temp.pkl',experimentModels_N2)"
   ]
  },
  {
   "cell_type": "code",
   "execution_count": 36,
   "metadata": {},
   "outputs": [
    {
     "data": {
      "application/vnd.plotly.v1+json": {
       "config": {
        "plotlyServerURL": "https://plot.ly"
       },
       "data": [
        {
         "hovertemplate": "<b>%{hovertext}</b><br><br>test=0001<br>rawF1=%{x}<br>f1=%{y}<extra></extra>",
         "hovertext": [
          "d51d037b-304a-48df-970e-58aac592ac87"
         ],
         "legendgroup": "0001",
         "marker": {
          "color": "#636efa",
          "symbol": "circle"
         },
         "mode": "markers",
         "name": "0001",
         "orientation": "v",
         "showlegend": true,
         "type": "scatter",
         "x": [
          0.6373244405493126
         ],
         "xaxis": "x",
         "y": [
          0.6345109758869583
         ],
         "yaxis": "y"
        },
        {
         "alignmentgroup": "True",
         "bingroup": "y",
         "hovertemplate": "test=0001<br>f1=%{y}<br>count=%{x}<extra></extra>",
         "legendgroup": "0001",
         "marker": {
          "color": "#636efa"
         },
         "name": "0001",
         "offsetgroup": "0001",
         "opacity": 0.5,
         "showlegend": false,
         "type": "histogram",
         "xaxis": "x2",
         "y": [
          0.6345109758869583
         ],
         "yaxis": "y2"
        },
        {
         "hovertemplate": "<b>%{hovertext}</b><br><br>test=0002<br>rawF1=%{x}<br>f1=%{y}<extra></extra>",
         "hovertext": [
          "50ebd176-f601-4f02-bcd5-e0c07a362a35"
         ],
         "legendgroup": "0002",
         "marker": {
          "color": "#EF553B",
          "symbol": "circle"
         },
         "mode": "markers",
         "name": "0002",
         "orientation": "v",
         "showlegend": true,
         "type": "scatter",
         "x": [
          0.7379983985491492
         ],
         "xaxis": "x",
         "y": [
          0.7387905730208023
         ],
         "yaxis": "y"
        },
        {
         "alignmentgroup": "True",
         "bingroup": "y",
         "hovertemplate": "test=0002<br>f1=%{y}<br>count=%{x}<extra></extra>",
         "legendgroup": "0002",
         "marker": {
          "color": "#EF553B"
         },
         "name": "0002",
         "offsetgroup": "0002",
         "opacity": 0.5,
         "showlegend": false,
         "type": "histogram",
         "xaxis": "x2",
         "y": [
          0.7387905730208023
         ],
         "yaxis": "y2"
        },
        {
         "hovertemplate": "<b>%{hovertext}</b><br><br>test=0003<br>rawF1=%{x}<br>f1=%{y}<extra></extra>",
         "hovertext": [
          "ad0e1cc1-5a53-45b1-b13e-ca760e58c787"
         ],
         "legendgroup": "0003",
         "marker": {
          "color": "#00cc96",
          "symbol": "circle"
         },
         "mode": "markers",
         "name": "0003",
         "orientation": "v",
         "showlegend": true,
         "type": "scatter",
         "x": [
          0.6514167372681917
         ],
         "xaxis": "x",
         "y": [
          0.6618485390578414
         ],
         "yaxis": "y"
        },
        {
         "alignmentgroup": "True",
         "bingroup": "y",
         "hovertemplate": "test=0003<br>f1=%{y}<br>count=%{x}<extra></extra>",
         "legendgroup": "0003",
         "marker": {
          "color": "#00cc96"
         },
         "name": "0003",
         "offsetgroup": "0003",
         "opacity": 0.5,
         "showlegend": false,
         "type": "histogram",
         "xaxis": "x2",
         "y": [
          0.6618485390578414
         ],
         "yaxis": "y2"
        },
        {
         "hovertemplate": "<b>%{hovertext}</b><br><br>test=0005<br>rawF1=%{x}<br>f1=%{y}<extra></extra>",
         "hovertext": [
          "953522b6-a687-4555-b7bd-64e50323f539"
         ],
         "legendgroup": "0005",
         "marker": {
          "color": "#ab63fa",
          "symbol": "circle"
         },
         "mode": "markers",
         "name": "0005",
         "orientation": "v",
         "showlegend": true,
         "type": "scatter",
         "x": [
          0.6189175501664604
         ],
         "xaxis": "x",
         "y": [
          0.6313318528400983
         ],
         "yaxis": "y"
        },
        {
         "alignmentgroup": "True",
         "bingroup": "y",
         "hovertemplate": "test=0005<br>f1=%{y}<br>count=%{x}<extra></extra>",
         "legendgroup": "0005",
         "marker": {
          "color": "#ab63fa"
         },
         "name": "0005",
         "offsetgroup": "0005",
         "opacity": 0.5,
         "showlegend": false,
         "type": "histogram",
         "xaxis": "x2",
         "y": [
          0.6313318528400983
         ],
         "yaxis": "y2"
        },
        {
         "hovertemplate": "<b>%{hovertext}</b><br><br>test=0006<br>rawF1=%{x}<br>f1=%{y}<extra></extra>",
         "hovertext": [
          "fdff7a52-c874-434c-b79a-4652e6521b61"
         ],
         "legendgroup": "0006",
         "marker": {
          "color": "#FFA15A",
          "symbol": "circle"
         },
         "mode": "markers",
         "name": "0006",
         "orientation": "v",
         "showlegend": true,
         "type": "scatter",
         "x": [
          0.6298081557890678
         ],
         "xaxis": "x",
         "y": [
          0.6302244487009478
         ],
         "yaxis": "y"
        },
        {
         "alignmentgroup": "True",
         "bingroup": "y",
         "hovertemplate": "test=0006<br>f1=%{y}<br>count=%{x}<extra></extra>",
         "legendgroup": "0006",
         "marker": {
          "color": "#FFA15A"
         },
         "name": "0006",
         "offsetgroup": "0006",
         "opacity": 0.5,
         "showlegend": false,
         "type": "histogram",
         "xaxis": "x2",
         "y": [
          0.6302244487009478
         ],
         "yaxis": "y2"
        },
        {
         "hovertemplate": "<b>%{hovertext}</b><br><br>test=0007<br>rawF1=%{x}<br>f1=%{y}<extra></extra>",
         "hovertext": [
          "a99170bc-4dc5-4b27-84df-f565c6f142c5"
         ],
         "legendgroup": "0007",
         "marker": {
          "color": "#19d3f3",
          "symbol": "circle"
         },
         "mode": "markers",
         "name": "0007",
         "orientation": "v",
         "showlegend": true,
         "type": "scatter",
         "x": [
          0.6665214309942117
         ],
         "xaxis": "x",
         "y": [
          0.667878222106836
         ],
         "yaxis": "y"
        },
        {
         "alignmentgroup": "True",
         "bingroup": "y",
         "hovertemplate": "test=0007<br>f1=%{y}<br>count=%{x}<extra></extra>",
         "legendgroup": "0007",
         "marker": {
          "color": "#19d3f3"
         },
         "name": "0007",
         "offsetgroup": "0007",
         "opacity": 0.5,
         "showlegend": false,
         "type": "histogram",
         "xaxis": "x2",
         "y": [
          0.667878222106836
         ],
         "yaxis": "y2"
        },
        {
         "hovertemplate": "<b>%{hovertext}</b><br><br>test=0009<br>rawF1=%{x}<br>f1=%{y}<extra></extra>",
         "hovertext": [
          "d4f86014-a983-4a56-940a-a53396539084"
         ],
         "legendgroup": "0009",
         "marker": {
          "color": "#FF6692",
          "symbol": "circle"
         },
         "mode": "markers",
         "name": "0009",
         "orientation": "v",
         "showlegend": true,
         "type": "scatter",
         "x": [
          0.686516559195355
         ],
         "xaxis": "x",
         "y": [
          0.6871062216489389
         ],
         "yaxis": "y"
        },
        {
         "alignmentgroup": "True",
         "bingroup": "y",
         "hovertemplate": "test=0009<br>f1=%{y}<br>count=%{x}<extra></extra>",
         "legendgroup": "0009",
         "marker": {
          "color": "#FF6692"
         },
         "name": "0009",
         "offsetgroup": "0009",
         "opacity": 0.5,
         "showlegend": false,
         "type": "histogram",
         "xaxis": "x2",
         "y": [
          0.6871062216489389
         ],
         "yaxis": "y2"
        },
        {
         "hovertemplate": "<b>%{hovertext}</b><br><br>test=0010<br>rawF1=%{x}<br>f1=%{y}<extra></extra>",
         "hovertext": [
          "b9ba925c-8862-41ae-85ac-87efe667dc99"
         ],
         "legendgroup": "0010",
         "marker": {
          "color": "#B6E880",
          "symbol": "circle"
         },
         "mode": "markers",
         "name": "0010",
         "orientation": "v",
         "showlegend": true,
         "type": "scatter",
         "x": [
          0.7441566696436474
         ],
         "xaxis": "x",
         "y": [
          0.7472076202201505
         ],
         "yaxis": "y"
        },
        {
         "alignmentgroup": "True",
         "bingroup": "y",
         "hovertemplate": "test=0010<br>f1=%{y}<br>count=%{x}<extra></extra>",
         "legendgroup": "0010",
         "marker": {
          "color": "#B6E880"
         },
         "name": "0010",
         "offsetgroup": "0010",
         "opacity": 0.5,
         "showlegend": false,
         "type": "histogram",
         "xaxis": "x2",
         "y": [
          0.7472076202201505
         ],
         "yaxis": "y2"
        },
        {
         "hovertemplate": "<b>%{hovertext}</b><br><br>test=0011<br>rawF1=%{x}<br>f1=%{y}<extra></extra>",
         "hovertext": [
          "9a796814-2401-4dbb-811c-695c7c0888bb"
         ],
         "legendgroup": "0011",
         "marker": {
          "color": "#FF97FF",
          "symbol": "circle"
         },
         "mode": "markers",
         "name": "0011",
         "orientation": "v",
         "showlegend": true,
         "type": "scatter",
         "x": [
          0.6686039017239919
         ],
         "xaxis": "x",
         "y": [
          0.6727765786706514
         ],
         "yaxis": "y"
        },
        {
         "alignmentgroup": "True",
         "bingroup": "y",
         "hovertemplate": "test=0011<br>f1=%{y}<br>count=%{x}<extra></extra>",
         "legendgroup": "0011",
         "marker": {
          "color": "#FF97FF"
         },
         "name": "0011",
         "offsetgroup": "0011",
         "opacity": 0.5,
         "showlegend": false,
         "type": "histogram",
         "xaxis": "x2",
         "y": [
          0.6727765786706514
         ],
         "yaxis": "y2"
        },
        {
         "hovertemplate": "<b>%{hovertext}</b><br><br>test=0012<br>rawF1=%{x}<br>f1=%{y}<extra></extra>",
         "hovertext": [
          "3be685c1-02ea-4a2f-8478-ca265ccc3196"
         ],
         "legendgroup": "0012",
         "marker": {
          "color": "#FECB52",
          "symbol": "circle"
         },
         "mode": "markers",
         "name": "0012",
         "orientation": "v",
         "showlegend": true,
         "type": "scatter",
         "x": [
          0.690526884991044
         ],
         "xaxis": "x",
         "y": [
          0.6934651386580352
         ],
         "yaxis": "y"
        },
        {
         "alignmentgroup": "True",
         "bingroup": "y",
         "hovertemplate": "test=0012<br>f1=%{y}<br>count=%{x}<extra></extra>",
         "legendgroup": "0012",
         "marker": {
          "color": "#FECB52"
         },
         "name": "0012",
         "offsetgroup": "0012",
         "opacity": 0.5,
         "showlegend": false,
         "type": "histogram",
         "xaxis": "x2",
         "y": [
          0.6934651386580352
         ],
         "yaxis": "y2"
        },
        {
         "hovertemplate": "<b>%{hovertext}</b><br><br>test=0013<br>rawF1=%{x}<br>f1=%{y}<extra></extra>",
         "hovertext": [
          "016159f4-e171-4f6e-a510-0e5e140f8929"
         ],
         "legendgroup": "0013",
         "marker": {
          "color": "#636efa",
          "symbol": "circle"
         },
         "mode": "markers",
         "name": "0013",
         "orientation": "v",
         "showlegend": true,
         "type": "scatter",
         "x": [
          0.6776281535840488
         ],
         "xaxis": "x",
         "y": [
          0.6808114784901522
         ],
         "yaxis": "y"
        },
        {
         "alignmentgroup": "True",
         "bingroup": "y",
         "hovertemplate": "test=0013<br>f1=%{y}<br>count=%{x}<extra></extra>",
         "legendgroup": "0013",
         "marker": {
          "color": "#636efa"
         },
         "name": "0013",
         "offsetgroup": "0013",
         "opacity": 0.5,
         "showlegend": false,
         "type": "histogram",
         "xaxis": "x2",
         "y": [
          0.6808114784901522
         ],
         "yaxis": "y2"
        },
        {
         "hovertemplate": "<b>%{hovertext}</b><br><br>test=0014<br>rawF1=%{x}<br>f1=%{y}<extra></extra>",
         "hovertext": [
          "da40a91f-c09e-4752-899f-0d848fc48c20"
         ],
         "legendgroup": "0014",
         "marker": {
          "color": "#EF553B",
          "symbol": "circle"
         },
         "mode": "markers",
         "name": "0014",
         "orientation": "v",
         "showlegend": true,
         "type": "scatter",
         "x": [
          0.5727043124755203
         ],
         "xaxis": "x",
         "y": [
          0.5752020734611536
         ],
         "yaxis": "y"
        },
        {
         "alignmentgroup": "True",
         "bingroup": "y",
         "hovertemplate": "test=0014<br>f1=%{y}<br>count=%{x}<extra></extra>",
         "legendgroup": "0014",
         "marker": {
          "color": "#EF553B"
         },
         "name": "0014",
         "offsetgroup": "0014",
         "opacity": 0.5,
         "showlegend": false,
         "type": "histogram",
         "xaxis": "x2",
         "y": [
          0.5752020734611536
         ],
         "yaxis": "y2"
        },
        {
         "hovertemplate": "<b>%{hovertext}</b><br><br>test=0017<br>rawF1=%{x}<br>f1=%{y}<extra></extra>",
         "hovertext": [
          "c30b34f2-52b8-47af-9309-81c72f52ea3d"
         ],
         "legendgroup": "0017",
         "marker": {
          "color": "#00cc96",
          "symbol": "circle"
         },
         "mode": "markers",
         "name": "0017",
         "orientation": "v",
         "showlegend": true,
         "type": "scatter",
         "x": [
          0.6726766517600107
         ],
         "xaxis": "x",
         "y": [
          0.670378353442722
         ],
         "yaxis": "y"
        },
        {
         "alignmentgroup": "True",
         "bingroup": "y",
         "hovertemplate": "test=0017<br>f1=%{y}<br>count=%{x}<extra></extra>",
         "legendgroup": "0017",
         "marker": {
          "color": "#00cc96"
         },
         "name": "0017",
         "offsetgroup": "0017",
         "opacity": 0.5,
         "showlegend": false,
         "type": "histogram",
         "xaxis": "x2",
         "y": [
          0.670378353442722
         ],
         "yaxis": "y2"
        },
        {
         "hovertemplate": "<b>%{hovertext}</b><br><br>test=0018<br>rawF1=%{x}<br>f1=%{y}<extra></extra>",
         "hovertext": [
          "63920ef1-b7bd-453c-af1b-c87e2c3f9ad0"
         ],
         "legendgroup": "0018",
         "marker": {
          "color": "#ab63fa",
          "symbol": "circle"
         },
         "mode": "markers",
         "name": "0018",
         "orientation": "v",
         "showlegend": true,
         "type": "scatter",
         "x": [
          0.6640600342580137
         ],
         "xaxis": "x",
         "y": [
          0.6628697863714041
         ],
         "yaxis": "y"
        },
        {
         "alignmentgroup": "True",
         "bingroup": "y",
         "hovertemplate": "test=0018<br>f1=%{y}<br>count=%{x}<extra></extra>",
         "legendgroup": "0018",
         "marker": {
          "color": "#ab63fa"
         },
         "name": "0018",
         "offsetgroup": "0018",
         "opacity": 0.5,
         "showlegend": false,
         "type": "histogram",
         "xaxis": "x2",
         "y": [
          0.6628697863714041
         ],
         "yaxis": "y2"
        },
        {
         "hovertemplate": "<b>%{hovertext}</b><br><br>test=0019<br>rawF1=%{x}<br>f1=%{y}<extra></extra>",
         "hovertext": [
          "73a45ddb-cbce-44c1-8ed8-007d5677989f"
         ],
         "legendgroup": "0019",
         "marker": {
          "color": "#FFA15A",
          "symbol": "circle"
         },
         "mode": "markers",
         "name": "0019",
         "orientation": "v",
         "showlegend": true,
         "type": "scatter",
         "x": [
          0.5371115703977665
         ],
         "xaxis": "x",
         "y": [
          0.5405602081223507
         ],
         "yaxis": "y"
        },
        {
         "alignmentgroup": "True",
         "bingroup": "y",
         "hovertemplate": "test=0019<br>f1=%{y}<br>count=%{x}<extra></extra>",
         "legendgroup": "0019",
         "marker": {
          "color": "#FFA15A"
         },
         "name": "0019",
         "offsetgroup": "0019",
         "opacity": 0.5,
         "showlegend": false,
         "type": "histogram",
         "xaxis": "x2",
         "y": [
          0.5405602081223507
         ],
         "yaxis": "y2"
        },
        {
         "fill": "toself",
         "mode": "lines",
         "name": "identity",
         "type": "scatter",
         "x": [
          0.6373244405493126,
          0.7379983985491492,
          0.6514167372681917,
          0.6189175501664604,
          0.6298081557890678,
          0.6665214309942117,
          0.686516559195355,
          0.7441566696436474,
          0.6686039017239919,
          0.690526884991044,
          0.6776281535840488,
          0.5727043124755203,
          0.6726766517600107,
          0.6640600342580137,
          0.5371115703977665
         ],
         "y": [
          0.6373244405493126,
          0.7379983985491492,
          0.6514167372681917,
          0.6189175501664604,
          0.6298081557890678,
          0.6665214309942117,
          0.686516559195355,
          0.7441566696436474,
          0.6686039017239919,
          0.690526884991044,
          0.6776281535840488,
          0.5727043124755203,
          0.6726766517600107,
          0.6640600342580137,
          0.5371115703977665
         ]
        }
       ],
       "layout": {
        "barmode": "overlay",
        "legend": {
         "title": {
          "text": "test"
         },
         "tracegroupgap": 0
        },
        "margin": {
         "t": 60
        },
        "template": {
         "data": {
          "bar": [
           {
            "error_x": {
             "color": "#2a3f5f"
            },
            "error_y": {
             "color": "#2a3f5f"
            },
            "marker": {
             "line": {
              "color": "#E5ECF6",
              "width": 0.5
             },
             "pattern": {
              "fillmode": "overlay",
              "size": 10,
              "solidity": 0.2
             }
            },
            "type": "bar"
           }
          ],
          "barpolar": [
           {
            "marker": {
             "line": {
              "color": "#E5ECF6",
              "width": 0.5
             },
             "pattern": {
              "fillmode": "overlay",
              "size": 10,
              "solidity": 0.2
             }
            },
            "type": "barpolar"
           }
          ],
          "carpet": [
           {
            "aaxis": {
             "endlinecolor": "#2a3f5f",
             "gridcolor": "white",
             "linecolor": "white",
             "minorgridcolor": "white",
             "startlinecolor": "#2a3f5f"
            },
            "baxis": {
             "endlinecolor": "#2a3f5f",
             "gridcolor": "white",
             "linecolor": "white",
             "minorgridcolor": "white",
             "startlinecolor": "#2a3f5f"
            },
            "type": "carpet"
           }
          ],
          "choropleth": [
           {
            "colorbar": {
             "outlinewidth": 0,
             "ticks": ""
            },
            "type": "choropleth"
           }
          ],
          "contour": [
           {
            "colorbar": {
             "outlinewidth": 0,
             "ticks": ""
            },
            "colorscale": [
             [
              0,
              "#0d0887"
             ],
             [
              0.1111111111111111,
              "#46039f"
             ],
             [
              0.2222222222222222,
              "#7201a8"
             ],
             [
              0.3333333333333333,
              "#9c179e"
             ],
             [
              0.4444444444444444,
              "#bd3786"
             ],
             [
              0.5555555555555556,
              "#d8576b"
             ],
             [
              0.6666666666666666,
              "#ed7953"
             ],
             [
              0.7777777777777778,
              "#fb9f3a"
             ],
             [
              0.8888888888888888,
              "#fdca26"
             ],
             [
              1,
              "#f0f921"
             ]
            ],
            "type": "contour"
           }
          ],
          "contourcarpet": [
           {
            "colorbar": {
             "outlinewidth": 0,
             "ticks": ""
            },
            "type": "contourcarpet"
           }
          ],
          "heatmap": [
           {
            "colorbar": {
             "outlinewidth": 0,
             "ticks": ""
            },
            "colorscale": [
             [
              0,
              "#0d0887"
             ],
             [
              0.1111111111111111,
              "#46039f"
             ],
             [
              0.2222222222222222,
              "#7201a8"
             ],
             [
              0.3333333333333333,
              "#9c179e"
             ],
             [
              0.4444444444444444,
              "#bd3786"
             ],
             [
              0.5555555555555556,
              "#d8576b"
             ],
             [
              0.6666666666666666,
              "#ed7953"
             ],
             [
              0.7777777777777778,
              "#fb9f3a"
             ],
             [
              0.8888888888888888,
              "#fdca26"
             ],
             [
              1,
              "#f0f921"
             ]
            ],
            "type": "heatmap"
           }
          ],
          "heatmapgl": [
           {
            "colorbar": {
             "outlinewidth": 0,
             "ticks": ""
            },
            "colorscale": [
             [
              0,
              "#0d0887"
             ],
             [
              0.1111111111111111,
              "#46039f"
             ],
             [
              0.2222222222222222,
              "#7201a8"
             ],
             [
              0.3333333333333333,
              "#9c179e"
             ],
             [
              0.4444444444444444,
              "#bd3786"
             ],
             [
              0.5555555555555556,
              "#d8576b"
             ],
             [
              0.6666666666666666,
              "#ed7953"
             ],
             [
              0.7777777777777778,
              "#fb9f3a"
             ],
             [
              0.8888888888888888,
              "#fdca26"
             ],
             [
              1,
              "#f0f921"
             ]
            ],
            "type": "heatmapgl"
           }
          ],
          "histogram": [
           {
            "marker": {
             "pattern": {
              "fillmode": "overlay",
              "size": 10,
              "solidity": 0.2
             }
            },
            "type": "histogram"
           }
          ],
          "histogram2d": [
           {
            "colorbar": {
             "outlinewidth": 0,
             "ticks": ""
            },
            "colorscale": [
             [
              0,
              "#0d0887"
             ],
             [
              0.1111111111111111,
              "#46039f"
             ],
             [
              0.2222222222222222,
              "#7201a8"
             ],
             [
              0.3333333333333333,
              "#9c179e"
             ],
             [
              0.4444444444444444,
              "#bd3786"
             ],
             [
              0.5555555555555556,
              "#d8576b"
             ],
             [
              0.6666666666666666,
              "#ed7953"
             ],
             [
              0.7777777777777778,
              "#fb9f3a"
             ],
             [
              0.8888888888888888,
              "#fdca26"
             ],
             [
              1,
              "#f0f921"
             ]
            ],
            "type": "histogram2d"
           }
          ],
          "histogram2dcontour": [
           {
            "colorbar": {
             "outlinewidth": 0,
             "ticks": ""
            },
            "colorscale": [
             [
              0,
              "#0d0887"
             ],
             [
              0.1111111111111111,
              "#46039f"
             ],
             [
              0.2222222222222222,
              "#7201a8"
             ],
             [
              0.3333333333333333,
              "#9c179e"
             ],
             [
              0.4444444444444444,
              "#bd3786"
             ],
             [
              0.5555555555555556,
              "#d8576b"
             ],
             [
              0.6666666666666666,
              "#ed7953"
             ],
             [
              0.7777777777777778,
              "#fb9f3a"
             ],
             [
              0.8888888888888888,
              "#fdca26"
             ],
             [
              1,
              "#f0f921"
             ]
            ],
            "type": "histogram2dcontour"
           }
          ],
          "mesh3d": [
           {
            "colorbar": {
             "outlinewidth": 0,
             "ticks": ""
            },
            "type": "mesh3d"
           }
          ],
          "parcoords": [
           {
            "line": {
             "colorbar": {
              "outlinewidth": 0,
              "ticks": ""
             }
            },
            "type": "parcoords"
           }
          ],
          "pie": [
           {
            "automargin": true,
            "type": "pie"
           }
          ],
          "scatter": [
           {
            "fillpattern": {
             "fillmode": "overlay",
             "size": 10,
             "solidity": 0.2
            },
            "type": "scatter"
           }
          ],
          "scatter3d": [
           {
            "line": {
             "colorbar": {
              "outlinewidth": 0,
              "ticks": ""
             }
            },
            "marker": {
             "colorbar": {
              "outlinewidth": 0,
              "ticks": ""
             }
            },
            "type": "scatter3d"
           }
          ],
          "scattercarpet": [
           {
            "marker": {
             "colorbar": {
              "outlinewidth": 0,
              "ticks": ""
             }
            },
            "type": "scattercarpet"
           }
          ],
          "scattergeo": [
           {
            "marker": {
             "colorbar": {
              "outlinewidth": 0,
              "ticks": ""
             }
            },
            "type": "scattergeo"
           }
          ],
          "scattergl": [
           {
            "marker": {
             "colorbar": {
              "outlinewidth": 0,
              "ticks": ""
             }
            },
            "type": "scattergl"
           }
          ],
          "scattermapbox": [
           {
            "marker": {
             "colorbar": {
              "outlinewidth": 0,
              "ticks": ""
             }
            },
            "type": "scattermapbox"
           }
          ],
          "scatterpolar": [
           {
            "marker": {
             "colorbar": {
              "outlinewidth": 0,
              "ticks": ""
             }
            },
            "type": "scatterpolar"
           }
          ],
          "scatterpolargl": [
           {
            "marker": {
             "colorbar": {
              "outlinewidth": 0,
              "ticks": ""
             }
            },
            "type": "scatterpolargl"
           }
          ],
          "scatterternary": [
           {
            "marker": {
             "colorbar": {
              "outlinewidth": 0,
              "ticks": ""
             }
            },
            "type": "scatterternary"
           }
          ],
          "surface": [
           {
            "colorbar": {
             "outlinewidth": 0,
             "ticks": ""
            },
            "colorscale": [
             [
              0,
              "#0d0887"
             ],
             [
              0.1111111111111111,
              "#46039f"
             ],
             [
              0.2222222222222222,
              "#7201a8"
             ],
             [
              0.3333333333333333,
              "#9c179e"
             ],
             [
              0.4444444444444444,
              "#bd3786"
             ],
             [
              0.5555555555555556,
              "#d8576b"
             ],
             [
              0.6666666666666666,
              "#ed7953"
             ],
             [
              0.7777777777777778,
              "#fb9f3a"
             ],
             [
              0.8888888888888888,
              "#fdca26"
             ],
             [
              1,
              "#f0f921"
             ]
            ],
            "type": "surface"
           }
          ],
          "table": [
           {
            "cells": {
             "fill": {
              "color": "#EBF0F8"
             },
             "line": {
              "color": "white"
             }
            },
            "header": {
             "fill": {
              "color": "#C8D4E3"
             },
             "line": {
              "color": "white"
             }
            },
            "type": "table"
           }
          ]
         },
         "layout": {
          "annotationdefaults": {
           "arrowcolor": "#2a3f5f",
           "arrowhead": 0,
           "arrowwidth": 1
          },
          "autotypenumbers": "strict",
          "coloraxis": {
           "colorbar": {
            "outlinewidth": 0,
            "ticks": ""
           }
          },
          "colorscale": {
           "diverging": [
            [
             0,
             "#8e0152"
            ],
            [
             0.1,
             "#c51b7d"
            ],
            [
             0.2,
             "#de77ae"
            ],
            [
             0.3,
             "#f1b6da"
            ],
            [
             0.4,
             "#fde0ef"
            ],
            [
             0.5,
             "#f7f7f7"
            ],
            [
             0.6,
             "#e6f5d0"
            ],
            [
             0.7,
             "#b8e186"
            ],
            [
             0.8,
             "#7fbc41"
            ],
            [
             0.9,
             "#4d9221"
            ],
            [
             1,
             "#276419"
            ]
           ],
           "sequential": [
            [
             0,
             "#0d0887"
            ],
            [
             0.1111111111111111,
             "#46039f"
            ],
            [
             0.2222222222222222,
             "#7201a8"
            ],
            [
             0.3333333333333333,
             "#9c179e"
            ],
            [
             0.4444444444444444,
             "#bd3786"
            ],
            [
             0.5555555555555556,
             "#d8576b"
            ],
            [
             0.6666666666666666,
             "#ed7953"
            ],
            [
             0.7777777777777778,
             "#fb9f3a"
            ],
            [
             0.8888888888888888,
             "#fdca26"
            ],
            [
             1,
             "#f0f921"
            ]
           ],
           "sequentialminus": [
            [
             0,
             "#0d0887"
            ],
            [
             0.1111111111111111,
             "#46039f"
            ],
            [
             0.2222222222222222,
             "#7201a8"
            ],
            [
             0.3333333333333333,
             "#9c179e"
            ],
            [
             0.4444444444444444,
             "#bd3786"
            ],
            [
             0.5555555555555556,
             "#d8576b"
            ],
            [
             0.6666666666666666,
             "#ed7953"
            ],
            [
             0.7777777777777778,
             "#fb9f3a"
            ],
            [
             0.8888888888888888,
             "#fdca26"
            ],
            [
             1,
             "#f0f921"
            ]
           ]
          },
          "colorway": [
           "#636efa",
           "#EF553B",
           "#00cc96",
           "#ab63fa",
           "#FFA15A",
           "#19d3f3",
           "#FF6692",
           "#B6E880",
           "#FF97FF",
           "#FECB52"
          ],
          "font": {
           "color": "#2a3f5f"
          },
          "geo": {
           "bgcolor": "white",
           "lakecolor": "white",
           "landcolor": "#E5ECF6",
           "showlakes": true,
           "showland": true,
           "subunitcolor": "white"
          },
          "hoverlabel": {
           "align": "left"
          },
          "hovermode": "closest",
          "mapbox": {
           "style": "light"
          },
          "paper_bgcolor": "white",
          "plot_bgcolor": "#E5ECF6",
          "polar": {
           "angularaxis": {
            "gridcolor": "white",
            "linecolor": "white",
            "ticks": ""
           },
           "bgcolor": "#E5ECF6",
           "radialaxis": {
            "gridcolor": "white",
            "linecolor": "white",
            "ticks": ""
           }
          },
          "scene": {
           "xaxis": {
            "backgroundcolor": "#E5ECF6",
            "gridcolor": "white",
            "gridwidth": 2,
            "linecolor": "white",
            "showbackground": true,
            "ticks": "",
            "zerolinecolor": "white"
           },
           "yaxis": {
            "backgroundcolor": "#E5ECF6",
            "gridcolor": "white",
            "gridwidth": 2,
            "linecolor": "white",
            "showbackground": true,
            "ticks": "",
            "zerolinecolor": "white"
           },
           "zaxis": {
            "backgroundcolor": "#E5ECF6",
            "gridcolor": "white",
            "gridwidth": 2,
            "linecolor": "white",
            "showbackground": true,
            "ticks": "",
            "zerolinecolor": "white"
           }
          },
          "shapedefaults": {
           "line": {
            "color": "#2a3f5f"
           }
          },
          "ternary": {
           "aaxis": {
            "gridcolor": "white",
            "linecolor": "white",
            "ticks": ""
           },
           "baxis": {
            "gridcolor": "white",
            "linecolor": "white",
            "ticks": ""
           },
           "bgcolor": "#E5ECF6",
           "caxis": {
            "gridcolor": "white",
            "linecolor": "white",
            "ticks": ""
           }
          },
          "title": {
           "x": 0.05
          },
          "xaxis": {
           "automargin": true,
           "gridcolor": "white",
           "linecolor": "white",
           "ticks": "",
           "title": {
            "standoff": 15
           },
           "zerolinecolor": "white",
           "zerolinewidth": 2
          },
          "yaxis": {
           "automargin": true,
           "gridcolor": "white",
           "linecolor": "white",
           "ticks": "",
           "title": {
            "standoff": 15
           },
           "zerolinecolor": "white",
           "zerolinewidth": 2
          }
         }
        },
        "xaxis": {
         "anchor": "y",
         "domain": [
          0,
          0.7363
         ],
         "title": {
          "text": "rawF1"
         }
        },
        "xaxis2": {
         "anchor": "y2",
         "domain": [
          0.7413,
          1
         ],
         "matches": "x2",
         "showgrid": true,
         "showline": false,
         "showticklabels": false,
         "ticks": ""
        },
        "yaxis": {
         "anchor": "x",
         "domain": [
          0,
          1
         ],
         "title": {
          "text": "f1"
         }
        },
        "yaxis2": {
         "anchor": "x2",
         "domain": [
          0,
          1
         ],
         "matches": "y",
         "showgrid": true,
         "showticklabels": false
        }
       }
      }
     },
     "metadata": {},
     "output_type": "display_data"
    }
   ],
   "source": [
    "fig=px.scatter(experimentModels_N2,x='rawF1',y='f1',color='test',hover_name='modelId', marginal_y=\"histogram\")\n",
    "fig.add_trace(\n",
    "    go.Scatter(x=experimentModels_N2['rawF1'], y=experimentModels_N2['rawF1'], name=\"identity\", mode='lines',fill=\"toself\")\n",
    ")\n",
    "fig.show()"
   ]
  },
  {
   "cell_type": "code",
   "execution_count": 37,
   "metadata": {},
   "outputs": [
    {
     "data": {
      "application/vnd.plotly.v1+json": {
       "config": {
        "plotlyServerURL": "https://plot.ly"
       },
       "data": [
        {
         "hovertemplate": "<b>%{hovertext}</b><br><br>test=0001<br>rawF1=%{x}<br>eventF1=%{y}<extra></extra>",
         "hovertext": [
          "d51d037b-304a-48df-970e-58aac592ac87"
         ],
         "legendgroup": "0001",
         "marker": {
          "color": "#636efa",
          "symbol": "circle"
         },
         "mode": "markers",
         "name": "0001",
         "orientation": "v",
         "showlegend": true,
         "type": "scatter",
         "x": [
          0.6373244405493126
         ],
         "xaxis": "x",
         "y": [
          0.6905339805825242
         ],
         "yaxis": "y"
        },
        {
         "alignmentgroup": "True",
         "bingroup": "y",
         "hovertemplate": "test=0001<br>eventF1=%{y}<br>count=%{x}<extra></extra>",
         "legendgroup": "0001",
         "marker": {
          "color": "#636efa"
         },
         "name": "0001",
         "offsetgroup": "0001",
         "opacity": 0.5,
         "showlegend": false,
         "type": "histogram",
         "xaxis": "x2",
         "y": [
          0.6905339805825242
         ],
         "yaxis": "y2"
        },
        {
         "hovertemplate": "<b>%{hovertext}</b><br><br>test=0002<br>rawF1=%{x}<br>eventF1=%{y}<extra></extra>",
         "hovertext": [
          "50ebd176-f601-4f02-bcd5-e0c07a362a35"
         ],
         "legendgroup": "0002",
         "marker": {
          "color": "#EF553B",
          "symbol": "circle"
         },
         "mode": "markers",
         "name": "0002",
         "orientation": "v",
         "showlegend": true,
         "type": "scatter",
         "x": [
          0.7379983985491492
         ],
         "xaxis": "x",
         "y": [
          0.7998281786941581
         ],
         "yaxis": "y"
        },
        {
         "alignmentgroup": "True",
         "bingroup": "y",
         "hovertemplate": "test=0002<br>eventF1=%{y}<br>count=%{x}<extra></extra>",
         "legendgroup": "0002",
         "marker": {
          "color": "#EF553B"
         },
         "name": "0002",
         "offsetgroup": "0002",
         "opacity": 0.5,
         "showlegend": false,
         "type": "histogram",
         "xaxis": "x2",
         "y": [
          0.7998281786941581
         ],
         "yaxis": "y2"
        },
        {
         "hovertemplate": "<b>%{hovertext}</b><br><br>test=0003<br>rawF1=%{x}<br>eventF1=%{y}<extra></extra>",
         "hovertext": [
          "ad0e1cc1-5a53-45b1-b13e-ca760e58c787"
         ],
         "legendgroup": "0003",
         "marker": {
          "color": "#00cc96",
          "symbol": "circle"
         },
         "mode": "markers",
         "name": "0003",
         "orientation": "v",
         "showlegend": true,
         "type": "scatter",
         "x": [
          0.6514167372681917
         ],
         "xaxis": "x",
         "y": [
          0.6993464052287581
         ],
         "yaxis": "y"
        },
        {
         "alignmentgroup": "True",
         "bingroup": "y",
         "hovertemplate": "test=0003<br>eventF1=%{y}<br>count=%{x}<extra></extra>",
         "legendgroup": "0003",
         "marker": {
          "color": "#00cc96"
         },
         "name": "0003",
         "offsetgroup": "0003",
         "opacity": 0.5,
         "showlegend": false,
         "type": "histogram",
         "xaxis": "x2",
         "y": [
          0.6993464052287581
         ],
         "yaxis": "y2"
        },
        {
         "hovertemplate": "<b>%{hovertext}</b><br><br>test=0005<br>rawF1=%{x}<br>eventF1=%{y}<extra></extra>",
         "hovertext": [
          "953522b6-a687-4555-b7bd-64e50323f539"
         ],
         "legendgroup": "0005",
         "marker": {
          "color": "#ab63fa",
          "symbol": "circle"
         },
         "mode": "markers",
         "name": "0005",
         "orientation": "v",
         "showlegend": true,
         "type": "scatter",
         "x": [
          0.6189175501664604
         ],
         "xaxis": "x",
         "y": [
          0.6927639383155397
         ],
         "yaxis": "y"
        },
        {
         "alignmentgroup": "True",
         "bingroup": "y",
         "hovertemplate": "test=0005<br>eventF1=%{y}<br>count=%{x}<extra></extra>",
         "legendgroup": "0005",
         "marker": {
          "color": "#ab63fa"
         },
         "name": "0005",
         "offsetgroup": "0005",
         "opacity": 0.5,
         "showlegend": false,
         "type": "histogram",
         "xaxis": "x2",
         "y": [
          0.6927639383155397
         ],
         "yaxis": "y2"
        },
        {
         "hovertemplate": "<b>%{hovertext}</b><br><br>test=0006<br>rawF1=%{x}<br>eventF1=%{y}<extra></extra>",
         "hovertext": [
          "fdff7a52-c874-434c-b79a-4652e6521b61"
         ],
         "legendgroup": "0006",
         "marker": {
          "color": "#FFA15A",
          "symbol": "circle"
         },
         "mode": "markers",
         "name": "0006",
         "orientation": "v",
         "showlegend": true,
         "type": "scatter",
         "x": [
          0.6298081557890678
         ],
         "xaxis": "x",
         "y": [
          0.7017543859649122
         ],
         "yaxis": "y"
        },
        {
         "alignmentgroup": "True",
         "bingroup": "y",
         "hovertemplate": "test=0006<br>eventF1=%{y}<br>count=%{x}<extra></extra>",
         "legendgroup": "0006",
         "marker": {
          "color": "#FFA15A"
         },
         "name": "0006",
         "offsetgroup": "0006",
         "opacity": 0.5,
         "showlegend": false,
         "type": "histogram",
         "xaxis": "x2",
         "y": [
          0.7017543859649122
         ],
         "yaxis": "y2"
        },
        {
         "hovertemplate": "<b>%{hovertext}</b><br><br>test=0007<br>rawF1=%{x}<br>eventF1=%{y}<extra></extra>",
         "hovertext": [
          "a99170bc-4dc5-4b27-84df-f565c6f142c5"
         ],
         "legendgroup": "0007",
         "marker": {
          "color": "#19d3f3",
          "symbol": "circle"
         },
         "mode": "markers",
         "name": "0007",
         "orientation": "v",
         "showlegend": true,
         "type": "scatter",
         "x": [
          0.6665214309942117
         ],
         "xaxis": "x",
         "y": [
          0.7304761904761905
         ],
         "yaxis": "y"
        },
        {
         "alignmentgroup": "True",
         "bingroup": "y",
         "hovertemplate": "test=0007<br>eventF1=%{y}<br>count=%{x}<extra></extra>",
         "legendgroup": "0007",
         "marker": {
          "color": "#19d3f3"
         },
         "name": "0007",
         "offsetgroup": "0007",
         "opacity": 0.5,
         "showlegend": false,
         "type": "histogram",
         "xaxis": "x2",
         "y": [
          0.7304761904761905
         ],
         "yaxis": "y2"
        },
        {
         "hovertemplate": "<b>%{hovertext}</b><br><br>test=0009<br>rawF1=%{x}<br>eventF1=%{y}<extra></extra>",
         "hovertext": [
          "d4f86014-a983-4a56-940a-a53396539084"
         ],
         "legendgroup": "0009",
         "marker": {
          "color": "#FF6692",
          "symbol": "circle"
         },
         "mode": "markers",
         "name": "0009",
         "orientation": "v",
         "showlegend": true,
         "type": "scatter",
         "x": [
          0.686516559195355
         ],
         "xaxis": "x",
         "y": [
          0.7797979797979798
         ],
         "yaxis": "y"
        },
        {
         "alignmentgroup": "True",
         "bingroup": "y",
         "hovertemplate": "test=0009<br>eventF1=%{y}<br>count=%{x}<extra></extra>",
         "legendgroup": "0009",
         "marker": {
          "color": "#FF6692"
         },
         "name": "0009",
         "offsetgroup": "0009",
         "opacity": 0.5,
         "showlegend": false,
         "type": "histogram",
         "xaxis": "x2",
         "y": [
          0.7797979797979798
         ],
         "yaxis": "y2"
        },
        {
         "hovertemplate": "<b>%{hovertext}</b><br><br>test=0010<br>rawF1=%{x}<br>eventF1=%{y}<extra></extra>",
         "hovertext": [
          "b9ba925c-8862-41ae-85ac-87efe667dc99"
         ],
         "legendgroup": "0010",
         "marker": {
          "color": "#B6E880",
          "symbol": "circle"
         },
         "mode": "markers",
         "name": "0010",
         "orientation": "v",
         "showlegend": true,
         "type": "scatter",
         "x": [
          0.7441566696436474
         ],
         "xaxis": "x",
         "y": [
          0.8298136645962733
         ],
         "yaxis": "y"
        },
        {
         "alignmentgroup": "True",
         "bingroup": "y",
         "hovertemplate": "test=0010<br>eventF1=%{y}<br>count=%{x}<extra></extra>",
         "legendgroup": "0010",
         "marker": {
          "color": "#B6E880"
         },
         "name": "0010",
         "offsetgroup": "0010",
         "opacity": 0.5,
         "showlegend": false,
         "type": "histogram",
         "xaxis": "x2",
         "y": [
          0.8298136645962733
         ],
         "yaxis": "y2"
        },
        {
         "hovertemplate": "<b>%{hovertext}</b><br><br>test=0011<br>rawF1=%{x}<br>eventF1=%{y}<extra></extra>",
         "hovertext": [
          "9a796814-2401-4dbb-811c-695c7c0888bb"
         ],
         "legendgroup": "0011",
         "marker": {
          "color": "#FF97FF",
          "symbol": "circle"
         },
         "mode": "markers",
         "name": "0011",
         "orientation": "v",
         "showlegend": true,
         "type": "scatter",
         "x": [
          0.6686039017239919
         ],
         "xaxis": "x",
         "y": [
          0.710828025477707
         ],
         "yaxis": "y"
        },
        {
         "alignmentgroup": "True",
         "bingroup": "y",
         "hovertemplate": "test=0011<br>eventF1=%{y}<br>count=%{x}<extra></extra>",
         "legendgroup": "0011",
         "marker": {
          "color": "#FF97FF"
         },
         "name": "0011",
         "offsetgroup": "0011",
         "opacity": 0.5,
         "showlegend": false,
         "type": "histogram",
         "xaxis": "x2",
         "y": [
          0.710828025477707
         ],
         "yaxis": "y2"
        },
        {
         "hovertemplate": "<b>%{hovertext}</b><br><br>test=0012<br>rawF1=%{x}<br>eventF1=%{y}<extra></extra>",
         "hovertext": [
          "3be685c1-02ea-4a2f-8478-ca265ccc3196"
         ],
         "legendgroup": "0012",
         "marker": {
          "color": "#FECB52",
          "symbol": "circle"
         },
         "mode": "markers",
         "name": "0012",
         "orientation": "v",
         "showlegend": true,
         "type": "scatter",
         "x": [
          0.690526884991044
         ],
         "xaxis": "x",
         "y": [
          0.783410138248848
         ],
         "yaxis": "y"
        },
        {
         "alignmentgroup": "True",
         "bingroup": "y",
         "hovertemplate": "test=0012<br>eventF1=%{y}<br>count=%{x}<extra></extra>",
         "legendgroup": "0012",
         "marker": {
          "color": "#FECB52"
         },
         "name": "0012",
         "offsetgroup": "0012",
         "opacity": 0.5,
         "showlegend": false,
         "type": "histogram",
         "xaxis": "x2",
         "y": [
          0.783410138248848
         ],
         "yaxis": "y2"
        },
        {
         "hovertemplate": "<b>%{hovertext}</b><br><br>test=0013<br>rawF1=%{x}<br>eventF1=%{y}<extra></extra>",
         "hovertext": [
          "016159f4-e171-4f6e-a510-0e5e140f8929"
         ],
         "legendgroup": "0013",
         "marker": {
          "color": "#636efa",
          "symbol": "circle"
         },
         "mode": "markers",
         "name": "0013",
         "orientation": "v",
         "showlegend": true,
         "type": "scatter",
         "x": [
          0.6776281535840488
         ],
         "xaxis": "x",
         "y": [
          0.72
         ],
         "yaxis": "y"
        },
        {
         "alignmentgroup": "True",
         "bingroup": "y",
         "hovertemplate": "test=0013<br>eventF1=%{y}<br>count=%{x}<extra></extra>",
         "legendgroup": "0013",
         "marker": {
          "color": "#636efa"
         },
         "name": "0013",
         "offsetgroup": "0013",
         "opacity": 0.5,
         "showlegend": false,
         "type": "histogram",
         "xaxis": "x2",
         "y": [
          0.72
         ],
         "yaxis": "y2"
        },
        {
         "hovertemplate": "<b>%{hovertext}</b><br><br>test=0014<br>rawF1=%{x}<br>eventF1=%{y}<extra></extra>",
         "hovertext": [
          "da40a91f-c09e-4752-899f-0d848fc48c20"
         ],
         "legendgroup": "0014",
         "marker": {
          "color": "#EF553B",
          "symbol": "circle"
         },
         "mode": "markers",
         "name": "0014",
         "orientation": "v",
         "showlegend": true,
         "type": "scatter",
         "x": [
          0.5727043124755203
         ],
         "xaxis": "x",
         "y": [
          0.6160794941282746
         ],
         "yaxis": "y"
        },
        {
         "alignmentgroup": "True",
         "bingroup": "y",
         "hovertemplate": "test=0014<br>eventF1=%{y}<br>count=%{x}<extra></extra>",
         "legendgroup": "0014",
         "marker": {
          "color": "#EF553B"
         },
         "name": "0014",
         "offsetgroup": "0014",
         "opacity": 0.5,
         "showlegend": false,
         "type": "histogram",
         "xaxis": "x2",
         "y": [
          0.6160794941282746
         ],
         "yaxis": "y2"
        },
        {
         "hovertemplate": "<b>%{hovertext}</b><br><br>test=0017<br>rawF1=%{x}<br>eventF1=%{y}<extra></extra>",
         "hovertext": [
          "c30b34f2-52b8-47af-9309-81c72f52ea3d"
         ],
         "legendgroup": "0017",
         "marker": {
          "color": "#00cc96",
          "symbol": "circle"
         },
         "mode": "markers",
         "name": "0017",
         "orientation": "v",
         "showlegend": true,
         "type": "scatter",
         "x": [
          0.6726766517600107
         ],
         "xaxis": "x",
         "y": [
          0.7551766138855055
         ],
         "yaxis": "y"
        },
        {
         "alignmentgroup": "True",
         "bingroup": "y",
         "hovertemplate": "test=0017<br>eventF1=%{y}<br>count=%{x}<extra></extra>",
         "legendgroup": "0017",
         "marker": {
          "color": "#00cc96"
         },
         "name": "0017",
         "offsetgroup": "0017",
         "opacity": 0.5,
         "showlegend": false,
         "type": "histogram",
         "xaxis": "x2",
         "y": [
          0.7551766138855055
         ],
         "yaxis": "y2"
        },
        {
         "hovertemplate": "<b>%{hovertext}</b><br><br>test=0018<br>rawF1=%{x}<br>eventF1=%{y}<extra></extra>",
         "hovertext": [
          "63920ef1-b7bd-453c-af1b-c87e2c3f9ad0"
         ],
         "legendgroup": "0018",
         "marker": {
          "color": "#ab63fa",
          "symbol": "circle"
         },
         "mode": "markers",
         "name": "0018",
         "orientation": "v",
         "showlegend": true,
         "type": "scatter",
         "x": [
          0.6640600342580137
         ],
         "xaxis": "x",
         "y": [
          0.7502458210422812
         ],
         "yaxis": "y"
        },
        {
         "alignmentgroup": "True",
         "bingroup": "y",
         "hovertemplate": "test=0018<br>eventF1=%{y}<br>count=%{x}<extra></extra>",
         "legendgroup": "0018",
         "marker": {
          "color": "#ab63fa"
         },
         "name": "0018",
         "offsetgroup": "0018",
         "opacity": 0.5,
         "showlegend": false,
         "type": "histogram",
         "xaxis": "x2",
         "y": [
          0.7502458210422812
         ],
         "yaxis": "y2"
        },
        {
         "hovertemplate": "<b>%{hovertext}</b><br><br>test=0019<br>rawF1=%{x}<br>eventF1=%{y}<extra></extra>",
         "hovertext": [
          "73a45ddb-cbce-44c1-8ed8-007d5677989f"
         ],
         "legendgroup": "0019",
         "marker": {
          "color": "#FFA15A",
          "symbol": "circle"
         },
         "mode": "markers",
         "name": "0019",
         "orientation": "v",
         "showlegend": true,
         "type": "scatter",
         "x": [
          0.5371115703977665
         ],
         "xaxis": "x",
         "y": [
          0.5703564727954972
         ],
         "yaxis": "y"
        },
        {
         "alignmentgroup": "True",
         "bingroup": "y",
         "hovertemplate": "test=0019<br>eventF1=%{y}<br>count=%{x}<extra></extra>",
         "legendgroup": "0019",
         "marker": {
          "color": "#FFA15A"
         },
         "name": "0019",
         "offsetgroup": "0019",
         "opacity": 0.5,
         "showlegend": false,
         "type": "histogram",
         "xaxis": "x2",
         "y": [
          0.5703564727954972
         ],
         "yaxis": "y2"
        },
        {
         "fill": "toself",
         "mode": "lines",
         "name": "identity",
         "type": "scatter",
         "x": [
          0.6373244405493126,
          0.7379983985491492,
          0.6514167372681917,
          0.6189175501664604,
          0.6298081557890678,
          0.6665214309942117,
          0.686516559195355,
          0.7441566696436474,
          0.6686039017239919,
          0.690526884991044,
          0.6776281535840488,
          0.5727043124755203,
          0.6726766517600107,
          0.6640600342580137,
          0.5371115703977665
         ],
         "y": [
          0.6373244405493126,
          0.7379983985491492,
          0.6514167372681917,
          0.6189175501664604,
          0.6298081557890678,
          0.6665214309942117,
          0.686516559195355,
          0.7441566696436474,
          0.6686039017239919,
          0.690526884991044,
          0.6776281535840488,
          0.5727043124755203,
          0.6726766517600107,
          0.6640600342580137,
          0.5371115703977665
         ]
        }
       ],
       "layout": {
        "barmode": "overlay",
        "legend": {
         "title": {
          "text": "test"
         },
         "tracegroupgap": 0
        },
        "margin": {
         "t": 60
        },
        "template": {
         "data": {
          "bar": [
           {
            "error_x": {
             "color": "#2a3f5f"
            },
            "error_y": {
             "color": "#2a3f5f"
            },
            "marker": {
             "line": {
              "color": "#E5ECF6",
              "width": 0.5
             },
             "pattern": {
              "fillmode": "overlay",
              "size": 10,
              "solidity": 0.2
             }
            },
            "type": "bar"
           }
          ],
          "barpolar": [
           {
            "marker": {
             "line": {
              "color": "#E5ECF6",
              "width": 0.5
             },
             "pattern": {
              "fillmode": "overlay",
              "size": 10,
              "solidity": 0.2
             }
            },
            "type": "barpolar"
           }
          ],
          "carpet": [
           {
            "aaxis": {
             "endlinecolor": "#2a3f5f",
             "gridcolor": "white",
             "linecolor": "white",
             "minorgridcolor": "white",
             "startlinecolor": "#2a3f5f"
            },
            "baxis": {
             "endlinecolor": "#2a3f5f",
             "gridcolor": "white",
             "linecolor": "white",
             "minorgridcolor": "white",
             "startlinecolor": "#2a3f5f"
            },
            "type": "carpet"
           }
          ],
          "choropleth": [
           {
            "colorbar": {
             "outlinewidth": 0,
             "ticks": ""
            },
            "type": "choropleth"
           }
          ],
          "contour": [
           {
            "colorbar": {
             "outlinewidth": 0,
             "ticks": ""
            },
            "colorscale": [
             [
              0,
              "#0d0887"
             ],
             [
              0.1111111111111111,
              "#46039f"
             ],
             [
              0.2222222222222222,
              "#7201a8"
             ],
             [
              0.3333333333333333,
              "#9c179e"
             ],
             [
              0.4444444444444444,
              "#bd3786"
             ],
             [
              0.5555555555555556,
              "#d8576b"
             ],
             [
              0.6666666666666666,
              "#ed7953"
             ],
             [
              0.7777777777777778,
              "#fb9f3a"
             ],
             [
              0.8888888888888888,
              "#fdca26"
             ],
             [
              1,
              "#f0f921"
             ]
            ],
            "type": "contour"
           }
          ],
          "contourcarpet": [
           {
            "colorbar": {
             "outlinewidth": 0,
             "ticks": ""
            },
            "type": "contourcarpet"
           }
          ],
          "heatmap": [
           {
            "colorbar": {
             "outlinewidth": 0,
             "ticks": ""
            },
            "colorscale": [
             [
              0,
              "#0d0887"
             ],
             [
              0.1111111111111111,
              "#46039f"
             ],
             [
              0.2222222222222222,
              "#7201a8"
             ],
             [
              0.3333333333333333,
              "#9c179e"
             ],
             [
              0.4444444444444444,
              "#bd3786"
             ],
             [
              0.5555555555555556,
              "#d8576b"
             ],
             [
              0.6666666666666666,
              "#ed7953"
             ],
             [
              0.7777777777777778,
              "#fb9f3a"
             ],
             [
              0.8888888888888888,
              "#fdca26"
             ],
             [
              1,
              "#f0f921"
             ]
            ],
            "type": "heatmap"
           }
          ],
          "heatmapgl": [
           {
            "colorbar": {
             "outlinewidth": 0,
             "ticks": ""
            },
            "colorscale": [
             [
              0,
              "#0d0887"
             ],
             [
              0.1111111111111111,
              "#46039f"
             ],
             [
              0.2222222222222222,
              "#7201a8"
             ],
             [
              0.3333333333333333,
              "#9c179e"
             ],
             [
              0.4444444444444444,
              "#bd3786"
             ],
             [
              0.5555555555555556,
              "#d8576b"
             ],
             [
              0.6666666666666666,
              "#ed7953"
             ],
             [
              0.7777777777777778,
              "#fb9f3a"
             ],
             [
              0.8888888888888888,
              "#fdca26"
             ],
             [
              1,
              "#f0f921"
             ]
            ],
            "type": "heatmapgl"
           }
          ],
          "histogram": [
           {
            "marker": {
             "pattern": {
              "fillmode": "overlay",
              "size": 10,
              "solidity": 0.2
             }
            },
            "type": "histogram"
           }
          ],
          "histogram2d": [
           {
            "colorbar": {
             "outlinewidth": 0,
             "ticks": ""
            },
            "colorscale": [
             [
              0,
              "#0d0887"
             ],
             [
              0.1111111111111111,
              "#46039f"
             ],
             [
              0.2222222222222222,
              "#7201a8"
             ],
             [
              0.3333333333333333,
              "#9c179e"
             ],
             [
              0.4444444444444444,
              "#bd3786"
             ],
             [
              0.5555555555555556,
              "#d8576b"
             ],
             [
              0.6666666666666666,
              "#ed7953"
             ],
             [
              0.7777777777777778,
              "#fb9f3a"
             ],
             [
              0.8888888888888888,
              "#fdca26"
             ],
             [
              1,
              "#f0f921"
             ]
            ],
            "type": "histogram2d"
           }
          ],
          "histogram2dcontour": [
           {
            "colorbar": {
             "outlinewidth": 0,
             "ticks": ""
            },
            "colorscale": [
             [
              0,
              "#0d0887"
             ],
             [
              0.1111111111111111,
              "#46039f"
             ],
             [
              0.2222222222222222,
              "#7201a8"
             ],
             [
              0.3333333333333333,
              "#9c179e"
             ],
             [
              0.4444444444444444,
              "#bd3786"
             ],
             [
              0.5555555555555556,
              "#d8576b"
             ],
             [
              0.6666666666666666,
              "#ed7953"
             ],
             [
              0.7777777777777778,
              "#fb9f3a"
             ],
             [
              0.8888888888888888,
              "#fdca26"
             ],
             [
              1,
              "#f0f921"
             ]
            ],
            "type": "histogram2dcontour"
           }
          ],
          "mesh3d": [
           {
            "colorbar": {
             "outlinewidth": 0,
             "ticks": ""
            },
            "type": "mesh3d"
           }
          ],
          "parcoords": [
           {
            "line": {
             "colorbar": {
              "outlinewidth": 0,
              "ticks": ""
             }
            },
            "type": "parcoords"
           }
          ],
          "pie": [
           {
            "automargin": true,
            "type": "pie"
           }
          ],
          "scatter": [
           {
            "fillpattern": {
             "fillmode": "overlay",
             "size": 10,
             "solidity": 0.2
            },
            "type": "scatter"
           }
          ],
          "scatter3d": [
           {
            "line": {
             "colorbar": {
              "outlinewidth": 0,
              "ticks": ""
             }
            },
            "marker": {
             "colorbar": {
              "outlinewidth": 0,
              "ticks": ""
             }
            },
            "type": "scatter3d"
           }
          ],
          "scattercarpet": [
           {
            "marker": {
             "colorbar": {
              "outlinewidth": 0,
              "ticks": ""
             }
            },
            "type": "scattercarpet"
           }
          ],
          "scattergeo": [
           {
            "marker": {
             "colorbar": {
              "outlinewidth": 0,
              "ticks": ""
             }
            },
            "type": "scattergeo"
           }
          ],
          "scattergl": [
           {
            "marker": {
             "colorbar": {
              "outlinewidth": 0,
              "ticks": ""
             }
            },
            "type": "scattergl"
           }
          ],
          "scattermapbox": [
           {
            "marker": {
             "colorbar": {
              "outlinewidth": 0,
              "ticks": ""
             }
            },
            "type": "scattermapbox"
           }
          ],
          "scatterpolar": [
           {
            "marker": {
             "colorbar": {
              "outlinewidth": 0,
              "ticks": ""
             }
            },
            "type": "scatterpolar"
           }
          ],
          "scatterpolargl": [
           {
            "marker": {
             "colorbar": {
              "outlinewidth": 0,
              "ticks": ""
             }
            },
            "type": "scatterpolargl"
           }
          ],
          "scatterternary": [
           {
            "marker": {
             "colorbar": {
              "outlinewidth": 0,
              "ticks": ""
             }
            },
            "type": "scatterternary"
           }
          ],
          "surface": [
           {
            "colorbar": {
             "outlinewidth": 0,
             "ticks": ""
            },
            "colorscale": [
             [
              0,
              "#0d0887"
             ],
             [
              0.1111111111111111,
              "#46039f"
             ],
             [
              0.2222222222222222,
              "#7201a8"
             ],
             [
              0.3333333333333333,
              "#9c179e"
             ],
             [
              0.4444444444444444,
              "#bd3786"
             ],
             [
              0.5555555555555556,
              "#d8576b"
             ],
             [
              0.6666666666666666,
              "#ed7953"
             ],
             [
              0.7777777777777778,
              "#fb9f3a"
             ],
             [
              0.8888888888888888,
              "#fdca26"
             ],
             [
              1,
              "#f0f921"
             ]
            ],
            "type": "surface"
           }
          ],
          "table": [
           {
            "cells": {
             "fill": {
              "color": "#EBF0F8"
             },
             "line": {
              "color": "white"
             }
            },
            "header": {
             "fill": {
              "color": "#C8D4E3"
             },
             "line": {
              "color": "white"
             }
            },
            "type": "table"
           }
          ]
         },
         "layout": {
          "annotationdefaults": {
           "arrowcolor": "#2a3f5f",
           "arrowhead": 0,
           "arrowwidth": 1
          },
          "autotypenumbers": "strict",
          "coloraxis": {
           "colorbar": {
            "outlinewidth": 0,
            "ticks": ""
           }
          },
          "colorscale": {
           "diverging": [
            [
             0,
             "#8e0152"
            ],
            [
             0.1,
             "#c51b7d"
            ],
            [
             0.2,
             "#de77ae"
            ],
            [
             0.3,
             "#f1b6da"
            ],
            [
             0.4,
             "#fde0ef"
            ],
            [
             0.5,
             "#f7f7f7"
            ],
            [
             0.6,
             "#e6f5d0"
            ],
            [
             0.7,
             "#b8e186"
            ],
            [
             0.8,
             "#7fbc41"
            ],
            [
             0.9,
             "#4d9221"
            ],
            [
             1,
             "#276419"
            ]
           ],
           "sequential": [
            [
             0,
             "#0d0887"
            ],
            [
             0.1111111111111111,
             "#46039f"
            ],
            [
             0.2222222222222222,
             "#7201a8"
            ],
            [
             0.3333333333333333,
             "#9c179e"
            ],
            [
             0.4444444444444444,
             "#bd3786"
            ],
            [
             0.5555555555555556,
             "#d8576b"
            ],
            [
             0.6666666666666666,
             "#ed7953"
            ],
            [
             0.7777777777777778,
             "#fb9f3a"
            ],
            [
             0.8888888888888888,
             "#fdca26"
            ],
            [
             1,
             "#f0f921"
            ]
           ],
           "sequentialminus": [
            [
             0,
             "#0d0887"
            ],
            [
             0.1111111111111111,
             "#46039f"
            ],
            [
             0.2222222222222222,
             "#7201a8"
            ],
            [
             0.3333333333333333,
             "#9c179e"
            ],
            [
             0.4444444444444444,
             "#bd3786"
            ],
            [
             0.5555555555555556,
             "#d8576b"
            ],
            [
             0.6666666666666666,
             "#ed7953"
            ],
            [
             0.7777777777777778,
             "#fb9f3a"
            ],
            [
             0.8888888888888888,
             "#fdca26"
            ],
            [
             1,
             "#f0f921"
            ]
           ]
          },
          "colorway": [
           "#636efa",
           "#EF553B",
           "#00cc96",
           "#ab63fa",
           "#FFA15A",
           "#19d3f3",
           "#FF6692",
           "#B6E880",
           "#FF97FF",
           "#FECB52"
          ],
          "font": {
           "color": "#2a3f5f"
          },
          "geo": {
           "bgcolor": "white",
           "lakecolor": "white",
           "landcolor": "#E5ECF6",
           "showlakes": true,
           "showland": true,
           "subunitcolor": "white"
          },
          "hoverlabel": {
           "align": "left"
          },
          "hovermode": "closest",
          "mapbox": {
           "style": "light"
          },
          "paper_bgcolor": "white",
          "plot_bgcolor": "#E5ECF6",
          "polar": {
           "angularaxis": {
            "gridcolor": "white",
            "linecolor": "white",
            "ticks": ""
           },
           "bgcolor": "#E5ECF6",
           "radialaxis": {
            "gridcolor": "white",
            "linecolor": "white",
            "ticks": ""
           }
          },
          "scene": {
           "xaxis": {
            "backgroundcolor": "#E5ECF6",
            "gridcolor": "white",
            "gridwidth": 2,
            "linecolor": "white",
            "showbackground": true,
            "ticks": "",
            "zerolinecolor": "white"
           },
           "yaxis": {
            "backgroundcolor": "#E5ECF6",
            "gridcolor": "white",
            "gridwidth": 2,
            "linecolor": "white",
            "showbackground": true,
            "ticks": "",
            "zerolinecolor": "white"
           },
           "zaxis": {
            "backgroundcolor": "#E5ECF6",
            "gridcolor": "white",
            "gridwidth": 2,
            "linecolor": "white",
            "showbackground": true,
            "ticks": "",
            "zerolinecolor": "white"
           }
          },
          "shapedefaults": {
           "line": {
            "color": "#2a3f5f"
           }
          },
          "ternary": {
           "aaxis": {
            "gridcolor": "white",
            "linecolor": "white",
            "ticks": ""
           },
           "baxis": {
            "gridcolor": "white",
            "linecolor": "white",
            "ticks": ""
           },
           "bgcolor": "#E5ECF6",
           "caxis": {
            "gridcolor": "white",
            "linecolor": "white",
            "ticks": ""
           }
          },
          "title": {
           "x": 0.05
          },
          "xaxis": {
           "automargin": true,
           "gridcolor": "white",
           "linecolor": "white",
           "ticks": "",
           "title": {
            "standoff": 15
           },
           "zerolinecolor": "white",
           "zerolinewidth": 2
          },
          "yaxis": {
           "automargin": true,
           "gridcolor": "white",
           "linecolor": "white",
           "ticks": "",
           "title": {
            "standoff": 15
           },
           "zerolinecolor": "white",
           "zerolinewidth": 2
          }
         }
        },
        "xaxis": {
         "anchor": "y",
         "domain": [
          0,
          0.7363
         ],
         "title": {
          "text": "rawF1"
         }
        },
        "xaxis2": {
         "anchor": "y2",
         "domain": [
          0.7413,
          1
         ],
         "matches": "x2",
         "showgrid": true,
         "showline": false,
         "showticklabels": false,
         "ticks": ""
        },
        "yaxis": {
         "anchor": "x",
         "domain": [
          0,
          1
         ],
         "title": {
          "text": "eventF1"
         }
        },
        "yaxis2": {
         "anchor": "x2",
         "domain": [
          0,
          1
         ],
         "matches": "y",
         "showgrid": true,
         "showticklabels": false
        }
       }
      }
     },
     "metadata": {},
     "output_type": "display_data"
    }
   ],
   "source": [
    "fig=px.scatter(experimentModels_N2,x='rawF1',y='eventF1',color='test',hover_name='modelId', marginal_y=\"histogram\")\n",
    "fig.add_trace(\n",
    "    go.Scatter(x=experimentModels_N2['rawF1'], y=experimentModels_N2['rawF1'], name=\"identity\", mode='lines',fill=\"toself\")\n",
    ")\n",
    "fig.show()"
   ]
  },
  {
   "cell_type": "code",
   "execution_count": 38,
   "metadata": {},
   "outputs": [
    {
     "data": {
      "application/vnd.plotly.v1+json": {
       "config": {
        "plotlyServerURL": "https://plot.ly"
       },
       "data": [
        {
         "hovertemplate": "<b>%{hovertext}</b><br><br>test=0001<br>eventF1=%{x}<br>eventPrecision=%{y}<extra></extra>",
         "hovertext": [
          "d51d037b-304a-48df-970e-58aac592ac87"
         ],
         "legendgroup": "0001",
         "marker": {
          "color": "#636efa",
          "symbol": "circle"
         },
         "mode": "markers",
         "name": "0001",
         "orientation": "v",
         "showlegend": true,
         "type": "scatter",
         "x": [
          0.6905339805825242
         ],
         "xaxis": "x",
         "y": [
          0.9420529801324503
         ],
         "yaxis": "y"
        },
        {
         "alignmentgroup": "True",
         "bingroup": "y",
         "hovertemplate": "test=0001<br>eventPrecision=%{y}<br>count=%{x}<extra></extra>",
         "legendgroup": "0001",
         "marker": {
          "color": "#636efa"
         },
         "name": "0001",
         "offsetgroup": "0001",
         "opacity": 0.5,
         "showlegend": false,
         "type": "histogram",
         "xaxis": "x2",
         "y": [
          0.9420529801324503
         ],
         "yaxis": "y2"
        },
        {
         "hovertemplate": "<b>%{hovertext}</b><br><br>test=0002<br>eventF1=%{x}<br>eventPrecision=%{y}<extra></extra>",
         "hovertext": [
          "50ebd176-f601-4f02-bcd5-e0c07a362a35"
         ],
         "legendgroup": "0002",
         "marker": {
          "color": "#EF553B",
          "symbol": "circle"
         },
         "mode": "markers",
         "name": "0002",
         "orientation": "v",
         "showlegend": true,
         "type": "scatter",
         "x": [
          0.7998281786941581
         ],
         "xaxis": "x",
         "y": [
          0.7649958915365653
         ],
         "yaxis": "y"
        },
        {
         "alignmentgroup": "True",
         "bingroup": "y",
         "hovertemplate": "test=0002<br>eventPrecision=%{y}<br>count=%{x}<extra></extra>",
         "legendgroup": "0002",
         "marker": {
          "color": "#EF553B"
         },
         "name": "0002",
         "offsetgroup": "0002",
         "opacity": 0.5,
         "showlegend": false,
         "type": "histogram",
         "xaxis": "x2",
         "y": [
          0.7649958915365653
         ],
         "yaxis": "y2"
        },
        {
         "hovertemplate": "<b>%{hovertext}</b><br><br>test=0003<br>eventF1=%{x}<br>eventPrecision=%{y}<extra></extra>",
         "hovertext": [
          "ad0e1cc1-5a53-45b1-b13e-ca760e58c787"
         ],
         "legendgroup": "0003",
         "marker": {
          "color": "#00cc96",
          "symbol": "circle"
         },
         "mode": "markers",
         "name": "0003",
         "orientation": "v",
         "showlegend": true,
         "type": "scatter",
         "x": [
          0.6993464052287581
         ],
         "xaxis": "x",
         "y": [
          0.656441717791411
         ],
         "yaxis": "y"
        },
        {
         "alignmentgroup": "True",
         "bingroup": "y",
         "hovertemplate": "test=0003<br>eventPrecision=%{y}<br>count=%{x}<extra></extra>",
         "legendgroup": "0003",
         "marker": {
          "color": "#00cc96"
         },
         "name": "0003",
         "offsetgroup": "0003",
         "opacity": 0.5,
         "showlegend": false,
         "type": "histogram",
         "xaxis": "x2",
         "y": [
          0.656441717791411
         ],
         "yaxis": "y2"
        },
        {
         "hovertemplate": "<b>%{hovertext}</b><br><br>test=0005<br>eventF1=%{x}<br>eventPrecision=%{y}<extra></extra>",
         "hovertext": [
          "953522b6-a687-4555-b7bd-64e50323f539"
         ],
         "legendgroup": "0005",
         "marker": {
          "color": "#ab63fa",
          "symbol": "circle"
         },
         "mode": "markers",
         "name": "0005",
         "orientation": "v",
         "showlegend": true,
         "type": "scatter",
         "x": [
          0.6927639383155397
         ],
         "xaxis": "x",
         "y": [
          0.5816733067729084
         ],
         "yaxis": "y"
        },
        {
         "alignmentgroup": "True",
         "bingroup": "y",
         "hovertemplate": "test=0005<br>eventPrecision=%{y}<br>count=%{x}<extra></extra>",
         "legendgroup": "0005",
         "marker": {
          "color": "#ab63fa"
         },
         "name": "0005",
         "offsetgroup": "0005",
         "opacity": 0.5,
         "showlegend": false,
         "type": "histogram",
         "xaxis": "x2",
         "y": [
          0.5816733067729084
         ],
         "yaxis": "y2"
        },
        {
         "hovertemplate": "<b>%{hovertext}</b><br><br>test=0006<br>eventF1=%{x}<br>eventPrecision=%{y}<extra></extra>",
         "hovertext": [
          "fdff7a52-c874-434c-b79a-4652e6521b61"
         ],
         "legendgroup": "0006",
         "marker": {
          "color": "#FFA15A",
          "symbol": "circle"
         },
         "mode": "markers",
         "name": "0006",
         "orientation": "v",
         "showlegend": true,
         "type": "scatter",
         "x": [
          0.7017543859649122
         ],
         "xaxis": "x",
         "y": [
          0.7407407407407407
         ],
         "yaxis": "y"
        },
        {
         "alignmentgroup": "True",
         "bingroup": "y",
         "hovertemplate": "test=0006<br>eventPrecision=%{y}<br>count=%{x}<extra></extra>",
         "legendgroup": "0006",
         "marker": {
          "color": "#FFA15A"
         },
         "name": "0006",
         "offsetgroup": "0006",
         "opacity": 0.5,
         "showlegend": false,
         "type": "histogram",
         "xaxis": "x2",
         "y": [
          0.7407407407407407
         ],
         "yaxis": "y2"
        },
        {
         "hovertemplate": "<b>%{hovertext}</b><br><br>test=0007<br>eventF1=%{x}<br>eventPrecision=%{y}<extra></extra>",
         "hovertext": [
          "a99170bc-4dc5-4b27-84df-f565c6f142c5"
         ],
         "legendgroup": "0007",
         "marker": {
          "color": "#19d3f3",
          "symbol": "circle"
         },
         "mode": "markers",
         "name": "0007",
         "orientation": "v",
         "showlegend": true,
         "type": "scatter",
         "x": [
          0.7304761904761905
         ],
         "xaxis": "x",
         "y": [
          0.6456228956228957
         ],
         "yaxis": "y"
        },
        {
         "alignmentgroup": "True",
         "bingroup": "y",
         "hovertemplate": "test=0007<br>eventPrecision=%{y}<br>count=%{x}<extra></extra>",
         "legendgroup": "0007",
         "marker": {
          "color": "#19d3f3"
         },
         "name": "0007",
         "offsetgroup": "0007",
         "opacity": 0.5,
         "showlegend": false,
         "type": "histogram",
         "xaxis": "x2",
         "y": [
          0.6456228956228957
         ],
         "yaxis": "y2"
        },
        {
         "hovertemplate": "<b>%{hovertext}</b><br><br>test=0009<br>eventF1=%{x}<br>eventPrecision=%{y}<extra></extra>",
         "hovertext": [
          "d4f86014-a983-4a56-940a-a53396539084"
         ],
         "legendgroup": "0009",
         "marker": {
          "color": "#FF6692",
          "symbol": "circle"
         },
         "mode": "markers",
         "name": "0009",
         "orientation": "v",
         "showlegend": true,
         "type": "scatter",
         "x": [
          0.7797979797979798
         ],
         "xaxis": "x",
         "y": [
          0.8628912071535022
         ],
         "yaxis": "y"
        },
        {
         "alignmentgroup": "True",
         "bingroup": "y",
         "hovertemplate": "test=0009<br>eventPrecision=%{y}<br>count=%{x}<extra></extra>",
         "legendgroup": "0009",
         "marker": {
          "color": "#FF6692"
         },
         "name": "0009",
         "offsetgroup": "0009",
         "opacity": 0.5,
         "showlegend": false,
         "type": "histogram",
         "xaxis": "x2",
         "y": [
          0.8628912071535022
         ],
         "yaxis": "y2"
        },
        {
         "hovertemplate": "<b>%{hovertext}</b><br><br>test=0010<br>eventF1=%{x}<br>eventPrecision=%{y}<extra></extra>",
         "hovertext": [
          "b9ba925c-8862-41ae-85ac-87efe667dc99"
         ],
         "legendgroup": "0010",
         "marker": {
          "color": "#B6E880",
          "symbol": "circle"
         },
         "mode": "markers",
         "name": "0010",
         "orientation": "v",
         "showlegend": true,
         "type": "scatter",
         "x": [
          0.8298136645962733
         ],
         "xaxis": "x",
         "y": [
          0.8196319018404908
         ],
         "yaxis": "y"
        },
        {
         "alignmentgroup": "True",
         "bingroup": "y",
         "hovertemplate": "test=0010<br>eventPrecision=%{y}<br>count=%{x}<extra></extra>",
         "legendgroup": "0010",
         "marker": {
          "color": "#B6E880"
         },
         "name": "0010",
         "offsetgroup": "0010",
         "opacity": 0.5,
         "showlegend": false,
         "type": "histogram",
         "xaxis": "x2",
         "y": [
          0.8196319018404908
         ],
         "yaxis": "y2"
        },
        {
         "hovertemplate": "<b>%{hovertext}</b><br><br>test=0011<br>eventF1=%{x}<br>eventPrecision=%{y}<extra></extra>",
         "hovertext": [
          "9a796814-2401-4dbb-811c-695c7c0888bb"
         ],
         "legendgroup": "0011",
         "marker": {
          "color": "#FF97FF",
          "symbol": "circle"
         },
         "mode": "markers",
         "name": "0011",
         "orientation": "v",
         "showlegend": true,
         "type": "scatter",
         "x": [
          0.710828025477707
         ],
         "xaxis": "x",
         "y": [
          0.5717213114754098
         ],
         "yaxis": "y"
        },
        {
         "alignmentgroup": "True",
         "bingroup": "y",
         "hovertemplate": "test=0011<br>eventPrecision=%{y}<br>count=%{x}<extra></extra>",
         "legendgroup": "0011",
         "marker": {
          "color": "#FF97FF"
         },
         "name": "0011",
         "offsetgroup": "0011",
         "opacity": 0.5,
         "showlegend": false,
         "type": "histogram",
         "xaxis": "x2",
         "y": [
          0.5717213114754098
         ],
         "yaxis": "y2"
        },
        {
         "hovertemplate": "<b>%{hovertext}</b><br><br>test=0012<br>eventF1=%{x}<br>eventPrecision=%{y}<extra></extra>",
         "hovertext": [
          "3be685c1-02ea-4a2f-8478-ca265ccc3196"
         ],
         "legendgroup": "0012",
         "marker": {
          "color": "#FECB52",
          "symbol": "circle"
         },
         "mode": "markers",
         "name": "0012",
         "orientation": "v",
         "showlegend": true,
         "type": "scatter",
         "x": [
          0.783410138248848
         ],
         "xaxis": "x",
         "y": [
          0.8571428571428571
         ],
         "yaxis": "y"
        },
        {
         "alignmentgroup": "True",
         "bingroup": "y",
         "hovertemplate": "test=0012<br>eventPrecision=%{y}<br>count=%{x}<extra></extra>",
         "legendgroup": "0012",
         "marker": {
          "color": "#FECB52"
         },
         "name": "0012",
         "offsetgroup": "0012",
         "opacity": 0.5,
         "showlegend": false,
         "type": "histogram",
         "xaxis": "x2",
         "y": [
          0.8571428571428571
         ],
         "yaxis": "y2"
        },
        {
         "hovertemplate": "<b>%{hovertext}</b><br><br>test=0013<br>eventF1=%{x}<br>eventPrecision=%{y}<extra></extra>",
         "hovertext": [
          "016159f4-e171-4f6e-a510-0e5e140f8929"
         ],
         "legendgroup": "0013",
         "marker": {
          "color": "#636efa",
          "symbol": "circle"
         },
         "mode": "markers",
         "name": "0013",
         "orientation": "v",
         "showlegend": true,
         "type": "scatter",
         "x": [
          0.72
         ],
         "xaxis": "x",
         "y": [
          0.582963620230701
         ],
         "yaxis": "y"
        },
        {
         "alignmentgroup": "True",
         "bingroup": "y",
         "hovertemplate": "test=0013<br>eventPrecision=%{y}<br>count=%{x}<extra></extra>",
         "legendgroup": "0013",
         "marker": {
          "color": "#636efa"
         },
         "name": "0013",
         "offsetgroup": "0013",
         "opacity": 0.5,
         "showlegend": false,
         "type": "histogram",
         "xaxis": "x2",
         "y": [
          0.582963620230701
         ],
         "yaxis": "y2"
        },
        {
         "hovertemplate": "<b>%{hovertext}</b><br><br>test=0014<br>eventF1=%{x}<br>eventPrecision=%{y}<extra></extra>",
         "hovertext": [
          "da40a91f-c09e-4752-899f-0d848fc48c20"
         ],
         "legendgroup": "0014",
         "marker": {
          "color": "#EF553B",
          "symbol": "circle"
         },
         "mode": "markers",
         "name": "0014",
         "orientation": "v",
         "showlegend": true,
         "type": "scatter",
         "x": [
          0.6160794941282746
         ],
         "xaxis": "x",
         "y": [
          0.4540612516644474
         ],
         "yaxis": "y"
        },
        {
         "alignmentgroup": "True",
         "bingroup": "y",
         "hovertemplate": "test=0014<br>eventPrecision=%{y}<br>count=%{x}<extra></extra>",
         "legendgroup": "0014",
         "marker": {
          "color": "#EF553B"
         },
         "name": "0014",
         "offsetgroup": "0014",
         "opacity": 0.5,
         "showlegend": false,
         "type": "histogram",
         "xaxis": "x2",
         "y": [
          0.4540612516644474
         ],
         "yaxis": "y2"
        },
        {
         "hovertemplate": "<b>%{hovertext}</b><br><br>test=0017<br>eventF1=%{x}<br>eventPrecision=%{y}<extra></extra>",
         "hovertext": [
          "c30b34f2-52b8-47af-9309-81c72f52ea3d"
         ],
         "legendgroup": "0017",
         "marker": {
          "color": "#00cc96",
          "symbol": "circle"
         },
         "mode": "markers",
         "name": "0017",
         "orientation": "v",
         "showlegend": true,
         "type": "scatter",
         "x": [
          0.7551766138855055
         ],
         "xaxis": "x",
         "y": [
          0.8831908831908832
         ],
         "yaxis": "y"
        },
        {
         "alignmentgroup": "True",
         "bingroup": "y",
         "hovertemplate": "test=0017<br>eventPrecision=%{y}<br>count=%{x}<extra></extra>",
         "legendgroup": "0017",
         "marker": {
          "color": "#00cc96"
         },
         "name": "0017",
         "offsetgroup": "0017",
         "opacity": 0.5,
         "showlegend": false,
         "type": "histogram",
         "xaxis": "x2",
         "y": [
          0.8831908831908832
         ],
         "yaxis": "y2"
        },
        {
         "hovertemplate": "<b>%{hovertext}</b><br><br>test=0018<br>eventF1=%{x}<br>eventPrecision=%{y}<extra></extra>",
         "hovertext": [
          "63920ef1-b7bd-453c-af1b-c87e2c3f9ad0"
         ],
         "legendgroup": "0018",
         "marker": {
          "color": "#ab63fa",
          "symbol": "circle"
         },
         "mode": "markers",
         "name": "0018",
         "orientation": "v",
         "showlegend": true,
         "type": "scatter",
         "x": [
          0.7502458210422812
         ],
         "xaxis": "x",
         "y": [
          0.8770114942528736
         ],
         "yaxis": "y"
        },
        {
         "alignmentgroup": "True",
         "bingroup": "y",
         "hovertemplate": "test=0018<br>eventPrecision=%{y}<br>count=%{x}<extra></extra>",
         "legendgroup": "0018",
         "marker": {
          "color": "#ab63fa"
         },
         "name": "0018",
         "offsetgroup": "0018",
         "opacity": 0.5,
         "showlegend": false,
         "type": "histogram",
         "xaxis": "x2",
         "y": [
          0.8770114942528736
         ],
         "yaxis": "y2"
        },
        {
         "hovertemplate": "<b>%{hovertext}</b><br><br>test=0019<br>eventF1=%{x}<br>eventPrecision=%{y}<extra></extra>",
         "hovertext": [
          "73a45ddb-cbce-44c1-8ed8-007d5677989f"
         ],
         "legendgroup": "0019",
         "marker": {
          "color": "#FFA15A",
          "symbol": "circle"
         },
         "mode": "markers",
         "name": "0019",
         "orientation": "v",
         "showlegend": true,
         "type": "scatter",
         "x": [
          0.5703564727954972
         ],
         "xaxis": "x",
         "y": [
          0.40105540897097625
         ],
         "yaxis": "y"
        },
        {
         "alignmentgroup": "True",
         "bingroup": "y",
         "hovertemplate": "test=0019<br>eventPrecision=%{y}<br>count=%{x}<extra></extra>",
         "legendgroup": "0019",
         "marker": {
          "color": "#FFA15A"
         },
         "name": "0019",
         "offsetgroup": "0019",
         "opacity": 0.5,
         "showlegend": false,
         "type": "histogram",
         "xaxis": "x2",
         "y": [
          0.40105540897097625
         ],
         "yaxis": "y2"
        },
        {
         "fill": "toself",
         "mode": "lines",
         "name": "identity",
         "type": "scatter",
         "x": [
          0.6905339805825242,
          0.7998281786941581,
          0.6993464052287581,
          0.6927639383155397,
          0.7017543859649122,
          0.7304761904761905,
          0.7797979797979798,
          0.8298136645962733,
          0.710828025477707,
          0.783410138248848,
          0.72,
          0.6160794941282746,
          0.7551766138855055,
          0.7502458210422812,
          0.5703564727954972
         ],
         "y": [
          0.6905339805825242,
          0.7998281786941581,
          0.6993464052287581,
          0.6927639383155397,
          0.7017543859649122,
          0.7304761904761905,
          0.7797979797979798,
          0.8298136645962733,
          0.710828025477707,
          0.783410138248848,
          0.72,
          0.6160794941282746,
          0.7551766138855055,
          0.7502458210422812,
          0.5703564727954972
         ]
        }
       ],
       "layout": {
        "barmode": "overlay",
        "legend": {
         "title": {
          "text": "test"
         },
         "tracegroupgap": 0
        },
        "margin": {
         "t": 60
        },
        "template": {
         "data": {
          "bar": [
           {
            "error_x": {
             "color": "#2a3f5f"
            },
            "error_y": {
             "color": "#2a3f5f"
            },
            "marker": {
             "line": {
              "color": "#E5ECF6",
              "width": 0.5
             },
             "pattern": {
              "fillmode": "overlay",
              "size": 10,
              "solidity": 0.2
             }
            },
            "type": "bar"
           }
          ],
          "barpolar": [
           {
            "marker": {
             "line": {
              "color": "#E5ECF6",
              "width": 0.5
             },
             "pattern": {
              "fillmode": "overlay",
              "size": 10,
              "solidity": 0.2
             }
            },
            "type": "barpolar"
           }
          ],
          "carpet": [
           {
            "aaxis": {
             "endlinecolor": "#2a3f5f",
             "gridcolor": "white",
             "linecolor": "white",
             "minorgridcolor": "white",
             "startlinecolor": "#2a3f5f"
            },
            "baxis": {
             "endlinecolor": "#2a3f5f",
             "gridcolor": "white",
             "linecolor": "white",
             "minorgridcolor": "white",
             "startlinecolor": "#2a3f5f"
            },
            "type": "carpet"
           }
          ],
          "choropleth": [
           {
            "colorbar": {
             "outlinewidth": 0,
             "ticks": ""
            },
            "type": "choropleth"
           }
          ],
          "contour": [
           {
            "colorbar": {
             "outlinewidth": 0,
             "ticks": ""
            },
            "colorscale": [
             [
              0,
              "#0d0887"
             ],
             [
              0.1111111111111111,
              "#46039f"
             ],
             [
              0.2222222222222222,
              "#7201a8"
             ],
             [
              0.3333333333333333,
              "#9c179e"
             ],
             [
              0.4444444444444444,
              "#bd3786"
             ],
             [
              0.5555555555555556,
              "#d8576b"
             ],
             [
              0.6666666666666666,
              "#ed7953"
             ],
             [
              0.7777777777777778,
              "#fb9f3a"
             ],
             [
              0.8888888888888888,
              "#fdca26"
             ],
             [
              1,
              "#f0f921"
             ]
            ],
            "type": "contour"
           }
          ],
          "contourcarpet": [
           {
            "colorbar": {
             "outlinewidth": 0,
             "ticks": ""
            },
            "type": "contourcarpet"
           }
          ],
          "heatmap": [
           {
            "colorbar": {
             "outlinewidth": 0,
             "ticks": ""
            },
            "colorscale": [
             [
              0,
              "#0d0887"
             ],
             [
              0.1111111111111111,
              "#46039f"
             ],
             [
              0.2222222222222222,
              "#7201a8"
             ],
             [
              0.3333333333333333,
              "#9c179e"
             ],
             [
              0.4444444444444444,
              "#bd3786"
             ],
             [
              0.5555555555555556,
              "#d8576b"
             ],
             [
              0.6666666666666666,
              "#ed7953"
             ],
             [
              0.7777777777777778,
              "#fb9f3a"
             ],
             [
              0.8888888888888888,
              "#fdca26"
             ],
             [
              1,
              "#f0f921"
             ]
            ],
            "type": "heatmap"
           }
          ],
          "heatmapgl": [
           {
            "colorbar": {
             "outlinewidth": 0,
             "ticks": ""
            },
            "colorscale": [
             [
              0,
              "#0d0887"
             ],
             [
              0.1111111111111111,
              "#46039f"
             ],
             [
              0.2222222222222222,
              "#7201a8"
             ],
             [
              0.3333333333333333,
              "#9c179e"
             ],
             [
              0.4444444444444444,
              "#bd3786"
             ],
             [
              0.5555555555555556,
              "#d8576b"
             ],
             [
              0.6666666666666666,
              "#ed7953"
             ],
             [
              0.7777777777777778,
              "#fb9f3a"
             ],
             [
              0.8888888888888888,
              "#fdca26"
             ],
             [
              1,
              "#f0f921"
             ]
            ],
            "type": "heatmapgl"
           }
          ],
          "histogram": [
           {
            "marker": {
             "pattern": {
              "fillmode": "overlay",
              "size": 10,
              "solidity": 0.2
             }
            },
            "type": "histogram"
           }
          ],
          "histogram2d": [
           {
            "colorbar": {
             "outlinewidth": 0,
             "ticks": ""
            },
            "colorscale": [
             [
              0,
              "#0d0887"
             ],
             [
              0.1111111111111111,
              "#46039f"
             ],
             [
              0.2222222222222222,
              "#7201a8"
             ],
             [
              0.3333333333333333,
              "#9c179e"
             ],
             [
              0.4444444444444444,
              "#bd3786"
             ],
             [
              0.5555555555555556,
              "#d8576b"
             ],
             [
              0.6666666666666666,
              "#ed7953"
             ],
             [
              0.7777777777777778,
              "#fb9f3a"
             ],
             [
              0.8888888888888888,
              "#fdca26"
             ],
             [
              1,
              "#f0f921"
             ]
            ],
            "type": "histogram2d"
           }
          ],
          "histogram2dcontour": [
           {
            "colorbar": {
             "outlinewidth": 0,
             "ticks": ""
            },
            "colorscale": [
             [
              0,
              "#0d0887"
             ],
             [
              0.1111111111111111,
              "#46039f"
             ],
             [
              0.2222222222222222,
              "#7201a8"
             ],
             [
              0.3333333333333333,
              "#9c179e"
             ],
             [
              0.4444444444444444,
              "#bd3786"
             ],
             [
              0.5555555555555556,
              "#d8576b"
             ],
             [
              0.6666666666666666,
              "#ed7953"
             ],
             [
              0.7777777777777778,
              "#fb9f3a"
             ],
             [
              0.8888888888888888,
              "#fdca26"
             ],
             [
              1,
              "#f0f921"
             ]
            ],
            "type": "histogram2dcontour"
           }
          ],
          "mesh3d": [
           {
            "colorbar": {
             "outlinewidth": 0,
             "ticks": ""
            },
            "type": "mesh3d"
           }
          ],
          "parcoords": [
           {
            "line": {
             "colorbar": {
              "outlinewidth": 0,
              "ticks": ""
             }
            },
            "type": "parcoords"
           }
          ],
          "pie": [
           {
            "automargin": true,
            "type": "pie"
           }
          ],
          "scatter": [
           {
            "fillpattern": {
             "fillmode": "overlay",
             "size": 10,
             "solidity": 0.2
            },
            "type": "scatter"
           }
          ],
          "scatter3d": [
           {
            "line": {
             "colorbar": {
              "outlinewidth": 0,
              "ticks": ""
             }
            },
            "marker": {
             "colorbar": {
              "outlinewidth": 0,
              "ticks": ""
             }
            },
            "type": "scatter3d"
           }
          ],
          "scattercarpet": [
           {
            "marker": {
             "colorbar": {
              "outlinewidth": 0,
              "ticks": ""
             }
            },
            "type": "scattercarpet"
           }
          ],
          "scattergeo": [
           {
            "marker": {
             "colorbar": {
              "outlinewidth": 0,
              "ticks": ""
             }
            },
            "type": "scattergeo"
           }
          ],
          "scattergl": [
           {
            "marker": {
             "colorbar": {
              "outlinewidth": 0,
              "ticks": ""
             }
            },
            "type": "scattergl"
           }
          ],
          "scattermapbox": [
           {
            "marker": {
             "colorbar": {
              "outlinewidth": 0,
              "ticks": ""
             }
            },
            "type": "scattermapbox"
           }
          ],
          "scatterpolar": [
           {
            "marker": {
             "colorbar": {
              "outlinewidth": 0,
              "ticks": ""
             }
            },
            "type": "scatterpolar"
           }
          ],
          "scatterpolargl": [
           {
            "marker": {
             "colorbar": {
              "outlinewidth": 0,
              "ticks": ""
             }
            },
            "type": "scatterpolargl"
           }
          ],
          "scatterternary": [
           {
            "marker": {
             "colorbar": {
              "outlinewidth": 0,
              "ticks": ""
             }
            },
            "type": "scatterternary"
           }
          ],
          "surface": [
           {
            "colorbar": {
             "outlinewidth": 0,
             "ticks": ""
            },
            "colorscale": [
             [
              0,
              "#0d0887"
             ],
             [
              0.1111111111111111,
              "#46039f"
             ],
             [
              0.2222222222222222,
              "#7201a8"
             ],
             [
              0.3333333333333333,
              "#9c179e"
             ],
             [
              0.4444444444444444,
              "#bd3786"
             ],
             [
              0.5555555555555556,
              "#d8576b"
             ],
             [
              0.6666666666666666,
              "#ed7953"
             ],
             [
              0.7777777777777778,
              "#fb9f3a"
             ],
             [
              0.8888888888888888,
              "#fdca26"
             ],
             [
              1,
              "#f0f921"
             ]
            ],
            "type": "surface"
           }
          ],
          "table": [
           {
            "cells": {
             "fill": {
              "color": "#EBF0F8"
             },
             "line": {
              "color": "white"
             }
            },
            "header": {
             "fill": {
              "color": "#C8D4E3"
             },
             "line": {
              "color": "white"
             }
            },
            "type": "table"
           }
          ]
         },
         "layout": {
          "annotationdefaults": {
           "arrowcolor": "#2a3f5f",
           "arrowhead": 0,
           "arrowwidth": 1
          },
          "autotypenumbers": "strict",
          "coloraxis": {
           "colorbar": {
            "outlinewidth": 0,
            "ticks": ""
           }
          },
          "colorscale": {
           "diverging": [
            [
             0,
             "#8e0152"
            ],
            [
             0.1,
             "#c51b7d"
            ],
            [
             0.2,
             "#de77ae"
            ],
            [
             0.3,
             "#f1b6da"
            ],
            [
             0.4,
             "#fde0ef"
            ],
            [
             0.5,
             "#f7f7f7"
            ],
            [
             0.6,
             "#e6f5d0"
            ],
            [
             0.7,
             "#b8e186"
            ],
            [
             0.8,
             "#7fbc41"
            ],
            [
             0.9,
             "#4d9221"
            ],
            [
             1,
             "#276419"
            ]
           ],
           "sequential": [
            [
             0,
             "#0d0887"
            ],
            [
             0.1111111111111111,
             "#46039f"
            ],
            [
             0.2222222222222222,
             "#7201a8"
            ],
            [
             0.3333333333333333,
             "#9c179e"
            ],
            [
             0.4444444444444444,
             "#bd3786"
            ],
            [
             0.5555555555555556,
             "#d8576b"
            ],
            [
             0.6666666666666666,
             "#ed7953"
            ],
            [
             0.7777777777777778,
             "#fb9f3a"
            ],
            [
             0.8888888888888888,
             "#fdca26"
            ],
            [
             1,
             "#f0f921"
            ]
           ],
           "sequentialminus": [
            [
             0,
             "#0d0887"
            ],
            [
             0.1111111111111111,
             "#46039f"
            ],
            [
             0.2222222222222222,
             "#7201a8"
            ],
            [
             0.3333333333333333,
             "#9c179e"
            ],
            [
             0.4444444444444444,
             "#bd3786"
            ],
            [
             0.5555555555555556,
             "#d8576b"
            ],
            [
             0.6666666666666666,
             "#ed7953"
            ],
            [
             0.7777777777777778,
             "#fb9f3a"
            ],
            [
             0.8888888888888888,
             "#fdca26"
            ],
            [
             1,
             "#f0f921"
            ]
           ]
          },
          "colorway": [
           "#636efa",
           "#EF553B",
           "#00cc96",
           "#ab63fa",
           "#FFA15A",
           "#19d3f3",
           "#FF6692",
           "#B6E880",
           "#FF97FF",
           "#FECB52"
          ],
          "font": {
           "color": "#2a3f5f"
          },
          "geo": {
           "bgcolor": "white",
           "lakecolor": "white",
           "landcolor": "#E5ECF6",
           "showlakes": true,
           "showland": true,
           "subunitcolor": "white"
          },
          "hoverlabel": {
           "align": "left"
          },
          "hovermode": "closest",
          "mapbox": {
           "style": "light"
          },
          "paper_bgcolor": "white",
          "plot_bgcolor": "#E5ECF6",
          "polar": {
           "angularaxis": {
            "gridcolor": "white",
            "linecolor": "white",
            "ticks": ""
           },
           "bgcolor": "#E5ECF6",
           "radialaxis": {
            "gridcolor": "white",
            "linecolor": "white",
            "ticks": ""
           }
          },
          "scene": {
           "xaxis": {
            "backgroundcolor": "#E5ECF6",
            "gridcolor": "white",
            "gridwidth": 2,
            "linecolor": "white",
            "showbackground": true,
            "ticks": "",
            "zerolinecolor": "white"
           },
           "yaxis": {
            "backgroundcolor": "#E5ECF6",
            "gridcolor": "white",
            "gridwidth": 2,
            "linecolor": "white",
            "showbackground": true,
            "ticks": "",
            "zerolinecolor": "white"
           },
           "zaxis": {
            "backgroundcolor": "#E5ECF6",
            "gridcolor": "white",
            "gridwidth": 2,
            "linecolor": "white",
            "showbackground": true,
            "ticks": "",
            "zerolinecolor": "white"
           }
          },
          "shapedefaults": {
           "line": {
            "color": "#2a3f5f"
           }
          },
          "ternary": {
           "aaxis": {
            "gridcolor": "white",
            "linecolor": "white",
            "ticks": ""
           },
           "baxis": {
            "gridcolor": "white",
            "linecolor": "white",
            "ticks": ""
           },
           "bgcolor": "#E5ECF6",
           "caxis": {
            "gridcolor": "white",
            "linecolor": "white",
            "ticks": ""
           }
          },
          "title": {
           "x": 0.05
          },
          "xaxis": {
           "automargin": true,
           "gridcolor": "white",
           "linecolor": "white",
           "ticks": "",
           "title": {
            "standoff": 15
           },
           "zerolinecolor": "white",
           "zerolinewidth": 2
          },
          "yaxis": {
           "automargin": true,
           "gridcolor": "white",
           "linecolor": "white",
           "ticks": "",
           "title": {
            "standoff": 15
           },
           "zerolinecolor": "white",
           "zerolinewidth": 2
          }
         }
        },
        "xaxis": {
         "anchor": "y",
         "domain": [
          0,
          0.7363
         ],
         "title": {
          "text": "eventF1"
         }
        },
        "xaxis2": {
         "anchor": "y2",
         "domain": [
          0.7413,
          1
         ],
         "matches": "x2",
         "showgrid": true,
         "showline": false,
         "showticklabels": false,
         "ticks": ""
        },
        "yaxis": {
         "anchor": "x",
         "domain": [
          0,
          1
         ],
         "title": {
          "text": "eventPrecision"
         }
        },
        "yaxis2": {
         "anchor": "x2",
         "domain": [
          0,
          1
         ],
         "matches": "y",
         "showgrid": true,
         "showticklabels": false
        }
       }
      }
     },
     "metadata": {},
     "output_type": "display_data"
    }
   ],
   "source": [
    "fig=px.scatter(experimentModels_N2,x='eventF1',y='eventPrecision',color='test',hover_name='modelId', marginal_y=\"histogram\")\n",
    "fig.add_trace(\n",
    "    go.Scatter(x=experimentModels_N2['eventF1'], y=experimentModels_N2['eventF1'], name=\"identity\", mode='lines',fill=\"toself\")\n",
    ")\n",
    "fig.show()"
   ]
  },
  {
   "cell_type": "code",
   "execution_count": 39,
   "metadata": {},
   "outputs": [
    {
     "data": {
      "application/vnd.plotly.v1+json": {
       "config": {
        "plotlyServerURL": "https://plot.ly"
       },
       "data": [
        {
         "hovertemplate": "<b>%{hovertext}</b><br><br>test=0001<br>eventF1=%{x}<br>eventRecall=%{y}<extra></extra>",
         "hovertext": [
          "d51d037b-304a-48df-970e-58aac592ac87"
         ],
         "legendgroup": "0001",
         "marker": {
          "color": "#636efa",
          "symbol": "circle"
         },
         "mode": "markers",
         "name": "0001",
         "orientation": "v",
         "showlegend": true,
         "type": "scatter",
         "x": [
          0.6905339805825242
         ],
         "xaxis": "x",
         "y": [
          0.5450191570881227
         ],
         "yaxis": "y"
        },
        {
         "alignmentgroup": "True",
         "bingroup": "y",
         "hovertemplate": "test=0001<br>eventRecall=%{y}<br>count=%{x}<extra></extra>",
         "legendgroup": "0001",
         "marker": {
          "color": "#636efa"
         },
         "name": "0001",
         "offsetgroup": "0001",
         "opacity": 0.5,
         "showlegend": false,
         "type": "histogram",
         "xaxis": "x2",
         "y": [
          0.5450191570881227
         ],
         "yaxis": "y2"
        },
        {
         "hovertemplate": "<b>%{hovertext}</b><br><br>test=0002<br>eventF1=%{x}<br>eventRecall=%{y}<extra></extra>",
         "hovertext": [
          "50ebd176-f601-4f02-bcd5-e0c07a362a35"
         ],
         "legendgroup": "0002",
         "marker": {
          "color": "#EF553B",
          "symbol": "circle"
         },
         "mode": "markers",
         "name": "0002",
         "orientation": "v",
         "showlegend": true,
         "type": "scatter",
         "x": [
          0.7998281786941581
         ],
         "xaxis": "x",
         "y": [
          0.8379837983798379
         ],
         "yaxis": "y"
        },
        {
         "alignmentgroup": "True",
         "bingroup": "y",
         "hovertemplate": "test=0002<br>eventRecall=%{y}<br>count=%{x}<extra></extra>",
         "legendgroup": "0002",
         "marker": {
          "color": "#EF553B"
         },
         "name": "0002",
         "offsetgroup": "0002",
         "opacity": 0.5,
         "showlegend": false,
         "type": "histogram",
         "xaxis": "x2",
         "y": [
          0.8379837983798379
         ],
         "yaxis": "y2"
        },
        {
         "hovertemplate": "<b>%{hovertext}</b><br><br>test=0003<br>eventF1=%{x}<br>eventRecall=%{y}<extra></extra>",
         "hovertext": [
          "ad0e1cc1-5a53-45b1-b13e-ca760e58c787"
         ],
         "legendgroup": "0003",
         "marker": {
          "color": "#00cc96",
          "symbol": "circle"
         },
         "mode": "markers",
         "name": "0003",
         "orientation": "v",
         "showlegend": true,
         "type": "scatter",
         "x": [
          0.6993464052287581
         ],
         "xaxis": "x",
         "y": [
          0.7482517482517482
         ],
         "yaxis": "y"
        },
        {
         "alignmentgroup": "True",
         "bingroup": "y",
         "hovertemplate": "test=0003<br>eventRecall=%{y}<br>count=%{x}<extra></extra>",
         "legendgroup": "0003",
         "marker": {
          "color": "#00cc96"
         },
         "name": "0003",
         "offsetgroup": "0003",
         "opacity": 0.5,
         "showlegend": false,
         "type": "histogram",
         "xaxis": "x2",
         "y": [
          0.7482517482517482
         ],
         "yaxis": "y2"
        },
        {
         "hovertemplate": "<b>%{hovertext}</b><br><br>test=0005<br>eventF1=%{x}<br>eventRecall=%{y}<extra></extra>",
         "hovertext": [
          "953522b6-a687-4555-b7bd-64e50323f539"
         ],
         "legendgroup": "0005",
         "marker": {
          "color": "#ab63fa",
          "symbol": "circle"
         },
         "mode": "markers",
         "name": "0005",
         "orientation": "v",
         "showlegend": true,
         "type": "scatter",
         "x": [
          0.6927639383155397
         ],
         "xaxis": "x",
         "y": [
          0.8563049853372434
         ],
         "yaxis": "y"
        },
        {
         "alignmentgroup": "True",
         "bingroup": "y",
         "hovertemplate": "test=0005<br>eventRecall=%{y}<br>count=%{x}<extra></extra>",
         "legendgroup": "0005",
         "marker": {
          "color": "#ab63fa"
         },
         "name": "0005",
         "offsetgroup": "0005",
         "opacity": 0.5,
         "showlegend": false,
         "type": "histogram",
         "xaxis": "x2",
         "y": [
          0.8563049853372434
         ],
         "yaxis": "y2"
        },
        {
         "hovertemplate": "<b>%{hovertext}</b><br><br>test=0006<br>eventF1=%{x}<br>eventRecall=%{y}<extra></extra>",
         "hovertext": [
          "fdff7a52-c874-434c-b79a-4652e6521b61"
         ],
         "legendgroup": "0006",
         "marker": {
          "color": "#FFA15A",
          "symbol": "circle"
         },
         "mode": "markers",
         "name": "0006",
         "orientation": "v",
         "showlegend": true,
         "type": "scatter",
         "x": [
          0.7017543859649122
         ],
         "xaxis": "x",
         "y": [
          0.6666666666666666
         ],
         "yaxis": "y"
        },
        {
         "alignmentgroup": "True",
         "bingroup": "y",
         "hovertemplate": "test=0006<br>eventRecall=%{y}<br>count=%{x}<extra></extra>",
         "legendgroup": "0006",
         "marker": {
          "color": "#FFA15A"
         },
         "name": "0006",
         "offsetgroup": "0006",
         "opacity": 0.5,
         "showlegend": false,
         "type": "histogram",
         "xaxis": "x2",
         "y": [
          0.6666666666666666
         ],
         "yaxis": "y2"
        },
        {
         "hovertemplate": "<b>%{hovertext}</b><br><br>test=0007<br>eventF1=%{x}<br>eventRecall=%{y}<extra></extra>",
         "hovertext": [
          "a99170bc-4dc5-4b27-84df-f565c6f142c5"
         ],
         "legendgroup": "0007",
         "marker": {
          "color": "#19d3f3",
          "symbol": "circle"
         },
         "mode": "markers",
         "name": "0007",
         "orientation": "v",
         "showlegend": true,
         "type": "scatter",
         "x": [
          0.7304761904761905
         ],
         "xaxis": "x",
         "y": [
          0.8410087719298246
         ],
         "yaxis": "y"
        },
        {
         "alignmentgroup": "True",
         "bingroup": "y",
         "hovertemplate": "test=0007<br>eventRecall=%{y}<br>count=%{x}<extra></extra>",
         "legendgroup": "0007",
         "marker": {
          "color": "#19d3f3"
         },
         "name": "0007",
         "offsetgroup": "0007",
         "opacity": 0.5,
         "showlegend": false,
         "type": "histogram",
         "xaxis": "x2",
         "y": [
          0.8410087719298246
         ],
         "yaxis": "y2"
        },
        {
         "hovertemplate": "<b>%{hovertext}</b><br><br>test=0009<br>eventF1=%{x}<br>eventRecall=%{y}<extra></extra>",
         "hovertext": [
          "d4f86014-a983-4a56-940a-a53396539084"
         ],
         "legendgroup": "0009",
         "marker": {
          "color": "#FF6692",
          "symbol": "circle"
         },
         "mode": "markers",
         "name": "0009",
         "orientation": "v",
         "showlegend": true,
         "type": "scatter",
         "x": [
          0.7797979797979798
         ],
         "xaxis": "x",
         "y": [
          0.7113022113022113
         ],
         "yaxis": "y"
        },
        {
         "alignmentgroup": "True",
         "bingroup": "y",
         "hovertemplate": "test=0009<br>eventRecall=%{y}<br>count=%{x}<extra></extra>",
         "legendgroup": "0009",
         "marker": {
          "color": "#FF6692"
         },
         "name": "0009",
         "offsetgroup": "0009",
         "opacity": 0.5,
         "showlegend": false,
         "type": "histogram",
         "xaxis": "x2",
         "y": [
          0.7113022113022113
         ],
         "yaxis": "y2"
        },
        {
         "hovertemplate": "<b>%{hovertext}</b><br><br>test=0010<br>eventF1=%{x}<br>eventRecall=%{y}<extra></extra>",
         "hovertext": [
          "b9ba925c-8862-41ae-85ac-87efe667dc99"
         ],
         "legendgroup": "0010",
         "marker": {
          "color": "#B6E880",
          "symbol": "circle"
         },
         "mode": "markers",
         "name": "0010",
         "orientation": "v",
         "showlegend": true,
         "type": "scatter",
         "x": [
          0.8298136645962733
         ],
         "xaxis": "x",
         "y": [
          0.8402515723270441
         ],
         "yaxis": "y"
        },
        {
         "alignmentgroup": "True",
         "bingroup": "y",
         "hovertemplate": "test=0010<br>eventRecall=%{y}<br>count=%{x}<extra></extra>",
         "legendgroup": "0010",
         "marker": {
          "color": "#B6E880"
         },
         "name": "0010",
         "offsetgroup": "0010",
         "opacity": 0.5,
         "showlegend": false,
         "type": "histogram",
         "xaxis": "x2",
         "y": [
          0.8402515723270441
         ],
         "yaxis": "y2"
        },
        {
         "hovertemplate": "<b>%{hovertext}</b><br><br>test=0011<br>eventF1=%{x}<br>eventRecall=%{y}<extra></extra>",
         "hovertext": [
          "9a796814-2401-4dbb-811c-695c7c0888bb"
         ],
         "legendgroup": "0011",
         "marker": {
          "color": "#FF97FF",
          "symbol": "circle"
         },
         "mode": "markers",
         "name": "0011",
         "orientation": "v",
         "showlegend": true,
         "type": "scatter",
         "x": [
          0.710828025477707
         ],
         "xaxis": "x",
         "y": [
          0.9393939393939394
         ],
         "yaxis": "y"
        },
        {
         "alignmentgroup": "True",
         "bingroup": "y",
         "hovertemplate": "test=0011<br>eventRecall=%{y}<br>count=%{x}<extra></extra>",
         "legendgroup": "0011",
         "marker": {
          "color": "#FF97FF"
         },
         "name": "0011",
         "offsetgroup": "0011",
         "opacity": 0.5,
         "showlegend": false,
         "type": "histogram",
         "xaxis": "x2",
         "y": [
          0.9393939393939394
         ],
         "yaxis": "y2"
        },
        {
         "hovertemplate": "<b>%{hovertext}</b><br><br>test=0012<br>eventF1=%{x}<br>eventRecall=%{y}<extra></extra>",
         "hovertext": [
          "3be685c1-02ea-4a2f-8478-ca265ccc3196"
         ],
         "legendgroup": "0012",
         "marker": {
          "color": "#FECB52",
          "symbol": "circle"
         },
         "mode": "markers",
         "name": "0012",
         "orientation": "v",
         "showlegend": true,
         "type": "scatter",
         "x": [
          0.783410138248848
         ],
         "xaxis": "x",
         "y": [
          0.7213578500707214
         ],
         "yaxis": "y"
        },
        {
         "alignmentgroup": "True",
         "bingroup": "y",
         "hovertemplate": "test=0012<br>eventRecall=%{y}<br>count=%{x}<extra></extra>",
         "legendgroup": "0012",
         "marker": {
          "color": "#FECB52"
         },
         "name": "0012",
         "offsetgroup": "0012",
         "opacity": 0.5,
         "showlegend": false,
         "type": "histogram",
         "xaxis": "x2",
         "y": [
          0.7213578500707214
         ],
         "yaxis": "y2"
        },
        {
         "hovertemplate": "<b>%{hovertext}</b><br><br>test=0013<br>eventF1=%{x}<br>eventRecall=%{y}<extra></extra>",
         "hovertext": [
          "016159f4-e171-4f6e-a510-0e5e140f8929"
         ],
         "legendgroup": "0013",
         "marker": {
          "color": "#636efa",
          "symbol": "circle"
         },
         "mode": "markers",
         "name": "0013",
         "orientation": "v",
         "showlegend": true,
         "type": "scatter",
         "x": [
          0.72
         ],
         "xaxis": "x",
         "y": [
          0.9412607449856734
         ],
         "yaxis": "y"
        },
        {
         "alignmentgroup": "True",
         "bingroup": "y",
         "hovertemplate": "test=0013<br>eventRecall=%{y}<br>count=%{x}<extra></extra>",
         "legendgroup": "0013",
         "marker": {
          "color": "#636efa"
         },
         "name": "0013",
         "offsetgroup": "0013",
         "opacity": 0.5,
         "showlegend": false,
         "type": "histogram",
         "xaxis": "x2",
         "y": [
          0.9412607449856734
         ],
         "yaxis": "y2"
        },
        {
         "hovertemplate": "<b>%{hovertext}</b><br><br>test=0014<br>eventF1=%{x}<br>eventRecall=%{y}<extra></extra>",
         "hovertext": [
          "da40a91f-c09e-4752-899f-0d848fc48c20"
         ],
         "legendgroup": "0014",
         "marker": {
          "color": "#EF553B",
          "symbol": "circle"
         },
         "mode": "markers",
         "name": "0014",
         "orientation": "v",
         "showlegend": true,
         "type": "scatter",
         "x": [
          0.6160794941282746
         ],
         "xaxis": "x",
         "y": [
          0.9578651685393258
         ],
         "yaxis": "y"
        },
        {
         "alignmentgroup": "True",
         "bingroup": "y",
         "hovertemplate": "test=0014<br>eventRecall=%{y}<br>count=%{x}<extra></extra>",
         "legendgroup": "0014",
         "marker": {
          "color": "#EF553B"
         },
         "name": "0014",
         "offsetgroup": "0014",
         "opacity": 0.5,
         "showlegend": false,
         "type": "histogram",
         "xaxis": "x2",
         "y": [
          0.9578651685393258
         ],
         "yaxis": "y2"
        },
        {
         "hovertemplate": "<b>%{hovertext}</b><br><br>test=0017<br>eventF1=%{x}<br>eventRecall=%{y}<extra></extra>",
         "hovertext": [
          "c30b34f2-52b8-47af-9309-81c72f52ea3d"
         ],
         "legendgroup": "0017",
         "marker": {
          "color": "#00cc96",
          "symbol": "circle"
         },
         "mode": "markers",
         "name": "0017",
         "orientation": "v",
         "showlegend": true,
         "type": "scatter",
         "x": [
          0.7551766138855055
         ],
         "xaxis": "x",
         "y": [
          0.6595744680851063
         ],
         "yaxis": "y"
        },
        {
         "alignmentgroup": "True",
         "bingroup": "y",
         "hovertemplate": "test=0017<br>eventRecall=%{y}<br>count=%{x}<extra></extra>",
         "legendgroup": "0017",
         "marker": {
          "color": "#00cc96"
         },
         "name": "0017",
         "offsetgroup": "0017",
         "opacity": 0.5,
         "showlegend": false,
         "type": "histogram",
         "xaxis": "x2",
         "y": [
          0.6595744680851063
         ],
         "yaxis": "y2"
        },
        {
         "hovertemplate": "<b>%{hovertext}</b><br><br>test=0018<br>eventF1=%{x}<br>eventRecall=%{y}<extra></extra>",
         "hovertext": [
          "63920ef1-b7bd-453c-af1b-c87e2c3f9ad0"
         ],
         "legendgroup": "0018",
         "marker": {
          "color": "#ab63fa",
          "symbol": "circle"
         },
         "mode": "markers",
         "name": "0018",
         "orientation": "v",
         "showlegend": true,
         "type": "scatter",
         "x": [
          0.7502458210422812
         ],
         "xaxis": "x",
         "y": [
          0.6554982817869416
         ],
         "yaxis": "y"
        },
        {
         "alignmentgroup": "True",
         "bingroup": "y",
         "hovertemplate": "test=0018<br>eventRecall=%{y}<br>count=%{x}<extra></extra>",
         "legendgroup": "0018",
         "marker": {
          "color": "#ab63fa"
         },
         "name": "0018",
         "offsetgroup": "0018",
         "opacity": 0.5,
         "showlegend": false,
         "type": "histogram",
         "xaxis": "x2",
         "y": [
          0.6554982817869416
         ],
         "yaxis": "y2"
        },
        {
         "hovertemplate": "<b>%{hovertext}</b><br><br>test=0019<br>eventF1=%{x}<br>eventRecall=%{y}<extra></extra>",
         "hovertext": [
          "73a45ddb-cbce-44c1-8ed8-007d5677989f"
         ],
         "legendgroup": "0019",
         "marker": {
          "color": "#FFA15A",
          "symbol": "circle"
         },
         "mode": "markers",
         "name": "0019",
         "orientation": "v",
         "showlegend": true,
         "type": "scatter",
         "x": [
          0.5703564727954972
         ],
         "xaxis": "x",
         "y": [
          0.987012987012987
         ],
         "yaxis": "y"
        },
        {
         "alignmentgroup": "True",
         "bingroup": "y",
         "hovertemplate": "test=0019<br>eventRecall=%{y}<br>count=%{x}<extra></extra>",
         "legendgroup": "0019",
         "marker": {
          "color": "#FFA15A"
         },
         "name": "0019",
         "offsetgroup": "0019",
         "opacity": 0.5,
         "showlegend": false,
         "type": "histogram",
         "xaxis": "x2",
         "y": [
          0.987012987012987
         ],
         "yaxis": "y2"
        },
        {
         "fill": "toself",
         "mode": "lines",
         "name": "identity",
         "type": "scatter",
         "x": [
          0.6905339805825242,
          0.7998281786941581,
          0.6993464052287581,
          0.6927639383155397,
          0.7017543859649122,
          0.7304761904761905,
          0.7797979797979798,
          0.8298136645962733,
          0.710828025477707,
          0.783410138248848,
          0.72,
          0.6160794941282746,
          0.7551766138855055,
          0.7502458210422812,
          0.5703564727954972
         ],
         "y": [
          0.6905339805825242,
          0.7998281786941581,
          0.6993464052287581,
          0.6927639383155397,
          0.7017543859649122,
          0.7304761904761905,
          0.7797979797979798,
          0.8298136645962733,
          0.710828025477707,
          0.783410138248848,
          0.72,
          0.6160794941282746,
          0.7551766138855055,
          0.7502458210422812,
          0.5703564727954972
         ]
        }
       ],
       "layout": {
        "barmode": "overlay",
        "legend": {
         "title": {
          "text": "test"
         },
         "tracegroupgap": 0
        },
        "margin": {
         "t": 60
        },
        "template": {
         "data": {
          "bar": [
           {
            "error_x": {
             "color": "#2a3f5f"
            },
            "error_y": {
             "color": "#2a3f5f"
            },
            "marker": {
             "line": {
              "color": "#E5ECF6",
              "width": 0.5
             },
             "pattern": {
              "fillmode": "overlay",
              "size": 10,
              "solidity": 0.2
             }
            },
            "type": "bar"
           }
          ],
          "barpolar": [
           {
            "marker": {
             "line": {
              "color": "#E5ECF6",
              "width": 0.5
             },
             "pattern": {
              "fillmode": "overlay",
              "size": 10,
              "solidity": 0.2
             }
            },
            "type": "barpolar"
           }
          ],
          "carpet": [
           {
            "aaxis": {
             "endlinecolor": "#2a3f5f",
             "gridcolor": "white",
             "linecolor": "white",
             "minorgridcolor": "white",
             "startlinecolor": "#2a3f5f"
            },
            "baxis": {
             "endlinecolor": "#2a3f5f",
             "gridcolor": "white",
             "linecolor": "white",
             "minorgridcolor": "white",
             "startlinecolor": "#2a3f5f"
            },
            "type": "carpet"
           }
          ],
          "choropleth": [
           {
            "colorbar": {
             "outlinewidth": 0,
             "ticks": ""
            },
            "type": "choropleth"
           }
          ],
          "contour": [
           {
            "colorbar": {
             "outlinewidth": 0,
             "ticks": ""
            },
            "colorscale": [
             [
              0,
              "#0d0887"
             ],
             [
              0.1111111111111111,
              "#46039f"
             ],
             [
              0.2222222222222222,
              "#7201a8"
             ],
             [
              0.3333333333333333,
              "#9c179e"
             ],
             [
              0.4444444444444444,
              "#bd3786"
             ],
             [
              0.5555555555555556,
              "#d8576b"
             ],
             [
              0.6666666666666666,
              "#ed7953"
             ],
             [
              0.7777777777777778,
              "#fb9f3a"
             ],
             [
              0.8888888888888888,
              "#fdca26"
             ],
             [
              1,
              "#f0f921"
             ]
            ],
            "type": "contour"
           }
          ],
          "contourcarpet": [
           {
            "colorbar": {
             "outlinewidth": 0,
             "ticks": ""
            },
            "type": "contourcarpet"
           }
          ],
          "heatmap": [
           {
            "colorbar": {
             "outlinewidth": 0,
             "ticks": ""
            },
            "colorscale": [
             [
              0,
              "#0d0887"
             ],
             [
              0.1111111111111111,
              "#46039f"
             ],
             [
              0.2222222222222222,
              "#7201a8"
             ],
             [
              0.3333333333333333,
              "#9c179e"
             ],
             [
              0.4444444444444444,
              "#bd3786"
             ],
             [
              0.5555555555555556,
              "#d8576b"
             ],
             [
              0.6666666666666666,
              "#ed7953"
             ],
             [
              0.7777777777777778,
              "#fb9f3a"
             ],
             [
              0.8888888888888888,
              "#fdca26"
             ],
             [
              1,
              "#f0f921"
             ]
            ],
            "type": "heatmap"
           }
          ],
          "heatmapgl": [
           {
            "colorbar": {
             "outlinewidth": 0,
             "ticks": ""
            },
            "colorscale": [
             [
              0,
              "#0d0887"
             ],
             [
              0.1111111111111111,
              "#46039f"
             ],
             [
              0.2222222222222222,
              "#7201a8"
             ],
             [
              0.3333333333333333,
              "#9c179e"
             ],
             [
              0.4444444444444444,
              "#bd3786"
             ],
             [
              0.5555555555555556,
              "#d8576b"
             ],
             [
              0.6666666666666666,
              "#ed7953"
             ],
             [
              0.7777777777777778,
              "#fb9f3a"
             ],
             [
              0.8888888888888888,
              "#fdca26"
             ],
             [
              1,
              "#f0f921"
             ]
            ],
            "type": "heatmapgl"
           }
          ],
          "histogram": [
           {
            "marker": {
             "pattern": {
              "fillmode": "overlay",
              "size": 10,
              "solidity": 0.2
             }
            },
            "type": "histogram"
           }
          ],
          "histogram2d": [
           {
            "colorbar": {
             "outlinewidth": 0,
             "ticks": ""
            },
            "colorscale": [
             [
              0,
              "#0d0887"
             ],
             [
              0.1111111111111111,
              "#46039f"
             ],
             [
              0.2222222222222222,
              "#7201a8"
             ],
             [
              0.3333333333333333,
              "#9c179e"
             ],
             [
              0.4444444444444444,
              "#bd3786"
             ],
             [
              0.5555555555555556,
              "#d8576b"
             ],
             [
              0.6666666666666666,
              "#ed7953"
             ],
             [
              0.7777777777777778,
              "#fb9f3a"
             ],
             [
              0.8888888888888888,
              "#fdca26"
             ],
             [
              1,
              "#f0f921"
             ]
            ],
            "type": "histogram2d"
           }
          ],
          "histogram2dcontour": [
           {
            "colorbar": {
             "outlinewidth": 0,
             "ticks": ""
            },
            "colorscale": [
             [
              0,
              "#0d0887"
             ],
             [
              0.1111111111111111,
              "#46039f"
             ],
             [
              0.2222222222222222,
              "#7201a8"
             ],
             [
              0.3333333333333333,
              "#9c179e"
             ],
             [
              0.4444444444444444,
              "#bd3786"
             ],
             [
              0.5555555555555556,
              "#d8576b"
             ],
             [
              0.6666666666666666,
              "#ed7953"
             ],
             [
              0.7777777777777778,
              "#fb9f3a"
             ],
             [
              0.8888888888888888,
              "#fdca26"
             ],
             [
              1,
              "#f0f921"
             ]
            ],
            "type": "histogram2dcontour"
           }
          ],
          "mesh3d": [
           {
            "colorbar": {
             "outlinewidth": 0,
             "ticks": ""
            },
            "type": "mesh3d"
           }
          ],
          "parcoords": [
           {
            "line": {
             "colorbar": {
              "outlinewidth": 0,
              "ticks": ""
             }
            },
            "type": "parcoords"
           }
          ],
          "pie": [
           {
            "automargin": true,
            "type": "pie"
           }
          ],
          "scatter": [
           {
            "fillpattern": {
             "fillmode": "overlay",
             "size": 10,
             "solidity": 0.2
            },
            "type": "scatter"
           }
          ],
          "scatter3d": [
           {
            "line": {
             "colorbar": {
              "outlinewidth": 0,
              "ticks": ""
             }
            },
            "marker": {
             "colorbar": {
              "outlinewidth": 0,
              "ticks": ""
             }
            },
            "type": "scatter3d"
           }
          ],
          "scattercarpet": [
           {
            "marker": {
             "colorbar": {
              "outlinewidth": 0,
              "ticks": ""
             }
            },
            "type": "scattercarpet"
           }
          ],
          "scattergeo": [
           {
            "marker": {
             "colorbar": {
              "outlinewidth": 0,
              "ticks": ""
             }
            },
            "type": "scattergeo"
           }
          ],
          "scattergl": [
           {
            "marker": {
             "colorbar": {
              "outlinewidth": 0,
              "ticks": ""
             }
            },
            "type": "scattergl"
           }
          ],
          "scattermapbox": [
           {
            "marker": {
             "colorbar": {
              "outlinewidth": 0,
              "ticks": ""
             }
            },
            "type": "scattermapbox"
           }
          ],
          "scatterpolar": [
           {
            "marker": {
             "colorbar": {
              "outlinewidth": 0,
              "ticks": ""
             }
            },
            "type": "scatterpolar"
           }
          ],
          "scatterpolargl": [
           {
            "marker": {
             "colorbar": {
              "outlinewidth": 0,
              "ticks": ""
             }
            },
            "type": "scatterpolargl"
           }
          ],
          "scatterternary": [
           {
            "marker": {
             "colorbar": {
              "outlinewidth": 0,
              "ticks": ""
             }
            },
            "type": "scatterternary"
           }
          ],
          "surface": [
           {
            "colorbar": {
             "outlinewidth": 0,
             "ticks": ""
            },
            "colorscale": [
             [
              0,
              "#0d0887"
             ],
             [
              0.1111111111111111,
              "#46039f"
             ],
             [
              0.2222222222222222,
              "#7201a8"
             ],
             [
              0.3333333333333333,
              "#9c179e"
             ],
             [
              0.4444444444444444,
              "#bd3786"
             ],
             [
              0.5555555555555556,
              "#d8576b"
             ],
             [
              0.6666666666666666,
              "#ed7953"
             ],
             [
              0.7777777777777778,
              "#fb9f3a"
             ],
             [
              0.8888888888888888,
              "#fdca26"
             ],
             [
              1,
              "#f0f921"
             ]
            ],
            "type": "surface"
           }
          ],
          "table": [
           {
            "cells": {
             "fill": {
              "color": "#EBF0F8"
             },
             "line": {
              "color": "white"
             }
            },
            "header": {
             "fill": {
              "color": "#C8D4E3"
             },
             "line": {
              "color": "white"
             }
            },
            "type": "table"
           }
          ]
         },
         "layout": {
          "annotationdefaults": {
           "arrowcolor": "#2a3f5f",
           "arrowhead": 0,
           "arrowwidth": 1
          },
          "autotypenumbers": "strict",
          "coloraxis": {
           "colorbar": {
            "outlinewidth": 0,
            "ticks": ""
           }
          },
          "colorscale": {
           "diverging": [
            [
             0,
             "#8e0152"
            ],
            [
             0.1,
             "#c51b7d"
            ],
            [
             0.2,
             "#de77ae"
            ],
            [
             0.3,
             "#f1b6da"
            ],
            [
             0.4,
             "#fde0ef"
            ],
            [
             0.5,
             "#f7f7f7"
            ],
            [
             0.6,
             "#e6f5d0"
            ],
            [
             0.7,
             "#b8e186"
            ],
            [
             0.8,
             "#7fbc41"
            ],
            [
             0.9,
             "#4d9221"
            ],
            [
             1,
             "#276419"
            ]
           ],
           "sequential": [
            [
             0,
             "#0d0887"
            ],
            [
             0.1111111111111111,
             "#46039f"
            ],
            [
             0.2222222222222222,
             "#7201a8"
            ],
            [
             0.3333333333333333,
             "#9c179e"
            ],
            [
             0.4444444444444444,
             "#bd3786"
            ],
            [
             0.5555555555555556,
             "#d8576b"
            ],
            [
             0.6666666666666666,
             "#ed7953"
            ],
            [
             0.7777777777777778,
             "#fb9f3a"
            ],
            [
             0.8888888888888888,
             "#fdca26"
            ],
            [
             1,
             "#f0f921"
            ]
           ],
           "sequentialminus": [
            [
             0,
             "#0d0887"
            ],
            [
             0.1111111111111111,
             "#46039f"
            ],
            [
             0.2222222222222222,
             "#7201a8"
            ],
            [
             0.3333333333333333,
             "#9c179e"
            ],
            [
             0.4444444444444444,
             "#bd3786"
            ],
            [
             0.5555555555555556,
             "#d8576b"
            ],
            [
             0.6666666666666666,
             "#ed7953"
            ],
            [
             0.7777777777777778,
             "#fb9f3a"
            ],
            [
             0.8888888888888888,
             "#fdca26"
            ],
            [
             1,
             "#f0f921"
            ]
           ]
          },
          "colorway": [
           "#636efa",
           "#EF553B",
           "#00cc96",
           "#ab63fa",
           "#FFA15A",
           "#19d3f3",
           "#FF6692",
           "#B6E880",
           "#FF97FF",
           "#FECB52"
          ],
          "font": {
           "color": "#2a3f5f"
          },
          "geo": {
           "bgcolor": "white",
           "lakecolor": "white",
           "landcolor": "#E5ECF6",
           "showlakes": true,
           "showland": true,
           "subunitcolor": "white"
          },
          "hoverlabel": {
           "align": "left"
          },
          "hovermode": "closest",
          "mapbox": {
           "style": "light"
          },
          "paper_bgcolor": "white",
          "plot_bgcolor": "#E5ECF6",
          "polar": {
           "angularaxis": {
            "gridcolor": "white",
            "linecolor": "white",
            "ticks": ""
           },
           "bgcolor": "#E5ECF6",
           "radialaxis": {
            "gridcolor": "white",
            "linecolor": "white",
            "ticks": ""
           }
          },
          "scene": {
           "xaxis": {
            "backgroundcolor": "#E5ECF6",
            "gridcolor": "white",
            "gridwidth": 2,
            "linecolor": "white",
            "showbackground": true,
            "ticks": "",
            "zerolinecolor": "white"
           },
           "yaxis": {
            "backgroundcolor": "#E5ECF6",
            "gridcolor": "white",
            "gridwidth": 2,
            "linecolor": "white",
            "showbackground": true,
            "ticks": "",
            "zerolinecolor": "white"
           },
           "zaxis": {
            "backgroundcolor": "#E5ECF6",
            "gridcolor": "white",
            "gridwidth": 2,
            "linecolor": "white",
            "showbackground": true,
            "ticks": "",
            "zerolinecolor": "white"
           }
          },
          "shapedefaults": {
           "line": {
            "color": "#2a3f5f"
           }
          },
          "ternary": {
           "aaxis": {
            "gridcolor": "white",
            "linecolor": "white",
            "ticks": ""
           },
           "baxis": {
            "gridcolor": "white",
            "linecolor": "white",
            "ticks": ""
           },
           "bgcolor": "#E5ECF6",
           "caxis": {
            "gridcolor": "white",
            "linecolor": "white",
            "ticks": ""
           }
          },
          "title": {
           "x": 0.05
          },
          "xaxis": {
           "automargin": true,
           "gridcolor": "white",
           "linecolor": "white",
           "ticks": "",
           "title": {
            "standoff": 15
           },
           "zerolinecolor": "white",
           "zerolinewidth": 2
          },
          "yaxis": {
           "automargin": true,
           "gridcolor": "white",
           "linecolor": "white",
           "ticks": "",
           "title": {
            "standoff": 15
           },
           "zerolinecolor": "white",
           "zerolinewidth": 2
          }
         }
        },
        "xaxis": {
         "anchor": "y",
         "domain": [
          0,
          0.7363
         ],
         "title": {
          "text": "eventF1"
         }
        },
        "xaxis2": {
         "anchor": "y2",
         "domain": [
          0.7413,
          1
         ],
         "matches": "x2",
         "showgrid": true,
         "showline": false,
         "showticklabels": false,
         "ticks": ""
        },
        "yaxis": {
         "anchor": "x",
         "domain": [
          0,
          1
         ],
         "title": {
          "text": "eventRecall"
         }
        },
        "yaxis2": {
         "anchor": "x2",
         "domain": [
          0,
          1
         ],
         "matches": "y",
         "showgrid": true,
         "showticklabels": false
        }
       }
      }
     },
     "metadata": {},
     "output_type": "display_data"
    }
   ],
   "source": [
    "fig=px.scatter(experimentModels_N2,x='eventF1',y='eventRecall',color='test',hover_name='modelId', marginal_y=\"histogram\")\n",
    "fig.add_trace(\n",
    "    go.Scatter(x=experimentModels_N2['eventF1'], y=experimentModels_N2['eventF1'], name=\"identity\", mode='lines',fill=\"toself\")\n",
    ")\n",
    "fig.show()"
   ]
  },
  {
   "cell_type": "code",
   "execution_count": 40,
   "metadata": {},
   "outputs": [
    {
     "data": {
      "text/html": [
       "<div>\n",
       "<style scoped>\n",
       "    .dataframe tbody tr th:only-of-type {\n",
       "        vertical-align: middle;\n",
       "    }\n",
       "\n",
       "    .dataframe tbody tr th {\n",
       "        vertical-align: top;\n",
       "    }\n",
       "\n",
       "    .dataframe thead tr th {\n",
       "        text-align: left;\n",
       "    }\n",
       "\n",
       "    .dataframe thead tr:last-of-type th {\n",
       "        text-align: right;\n",
       "    }\n",
       "</style>\n",
       "<table border=\"1\" class=\"dataframe\">\n",
       "  <thead>\n",
       "    <tr>\n",
       "      <th></th>\n",
       "      <th colspan=\"6\" halign=\"left\">eventF1</th>\n",
       "      <th colspan=\"6\" halign=\"left\">eventPrecision</th>\n",
       "      <th colspan=\"6\" halign=\"left\">eventRecall</th>\n",
       "    </tr>\n",
       "    <tr>\n",
       "      <th></th>\n",
       "      <th>count</th>\n",
       "      <th>mean</th>\n",
       "      <th>std</th>\n",
       "      <th>min</th>\n",
       "      <th>50%</th>\n",
       "      <th>max</th>\n",
       "      <th>count</th>\n",
       "      <th>mean</th>\n",
       "      <th>std</th>\n",
       "      <th>min</th>\n",
       "      <th>50%</th>\n",
       "      <th>max</th>\n",
       "      <th>count</th>\n",
       "      <th>mean</th>\n",
       "      <th>std</th>\n",
       "      <th>min</th>\n",
       "      <th>50%</th>\n",
       "      <th>max</th>\n",
       "    </tr>\n",
       "    <tr>\n",
       "      <th>test</th>\n",
       "      <th></th>\n",
       "      <th></th>\n",
       "      <th></th>\n",
       "      <th></th>\n",
       "      <th></th>\n",
       "      <th></th>\n",
       "      <th></th>\n",
       "      <th></th>\n",
       "      <th></th>\n",
       "      <th></th>\n",
       "      <th></th>\n",
       "      <th></th>\n",
       "      <th></th>\n",
       "      <th></th>\n",
       "      <th></th>\n",
       "      <th></th>\n",
       "      <th></th>\n",
       "      <th></th>\n",
       "    </tr>\n",
       "  </thead>\n",
       "  <tbody>\n",
       "    <tr>\n",
       "      <th>0001</th>\n",
       "      <td>1.0</td>\n",
       "      <td>0.690534</td>\n",
       "      <td>NaN</td>\n",
       "      <td>0.690534</td>\n",
       "      <td>0.690534</td>\n",
       "      <td>0.690534</td>\n",
       "      <td>1.0</td>\n",
       "      <td>0.942053</td>\n",
       "      <td>NaN</td>\n",
       "      <td>0.942053</td>\n",
       "      <td>0.942053</td>\n",
       "      <td>0.942053</td>\n",
       "      <td>1.0</td>\n",
       "      <td>0.545019</td>\n",
       "      <td>NaN</td>\n",
       "      <td>0.545019</td>\n",
       "      <td>0.545019</td>\n",
       "      <td>0.545019</td>\n",
       "    </tr>\n",
       "    <tr>\n",
       "      <th>0002</th>\n",
       "      <td>1.0</td>\n",
       "      <td>0.799828</td>\n",
       "      <td>NaN</td>\n",
       "      <td>0.799828</td>\n",
       "      <td>0.799828</td>\n",
       "      <td>0.799828</td>\n",
       "      <td>1.0</td>\n",
       "      <td>0.764996</td>\n",
       "      <td>NaN</td>\n",
       "      <td>0.764996</td>\n",
       "      <td>0.764996</td>\n",
       "      <td>0.764996</td>\n",
       "      <td>1.0</td>\n",
       "      <td>0.837984</td>\n",
       "      <td>NaN</td>\n",
       "      <td>0.837984</td>\n",
       "      <td>0.837984</td>\n",
       "      <td>0.837984</td>\n",
       "    </tr>\n",
       "    <tr>\n",
       "      <th>0003</th>\n",
       "      <td>1.0</td>\n",
       "      <td>0.699346</td>\n",
       "      <td>NaN</td>\n",
       "      <td>0.699346</td>\n",
       "      <td>0.699346</td>\n",
       "      <td>0.699346</td>\n",
       "      <td>1.0</td>\n",
       "      <td>0.656442</td>\n",
       "      <td>NaN</td>\n",
       "      <td>0.656442</td>\n",
       "      <td>0.656442</td>\n",
       "      <td>0.656442</td>\n",
       "      <td>1.0</td>\n",
       "      <td>0.748252</td>\n",
       "      <td>NaN</td>\n",
       "      <td>0.748252</td>\n",
       "      <td>0.748252</td>\n",
       "      <td>0.748252</td>\n",
       "    </tr>\n",
       "    <tr>\n",
       "      <th>0005</th>\n",
       "      <td>1.0</td>\n",
       "      <td>0.692764</td>\n",
       "      <td>NaN</td>\n",
       "      <td>0.692764</td>\n",
       "      <td>0.692764</td>\n",
       "      <td>0.692764</td>\n",
       "      <td>1.0</td>\n",
       "      <td>0.581673</td>\n",
       "      <td>NaN</td>\n",
       "      <td>0.581673</td>\n",
       "      <td>0.581673</td>\n",
       "      <td>0.581673</td>\n",
       "      <td>1.0</td>\n",
       "      <td>0.856305</td>\n",
       "      <td>NaN</td>\n",
       "      <td>0.856305</td>\n",
       "      <td>0.856305</td>\n",
       "      <td>0.856305</td>\n",
       "    </tr>\n",
       "    <tr>\n",
       "      <th>0006</th>\n",
       "      <td>1.0</td>\n",
       "      <td>0.701754</td>\n",
       "      <td>NaN</td>\n",
       "      <td>0.701754</td>\n",
       "      <td>0.701754</td>\n",
       "      <td>0.701754</td>\n",
       "      <td>1.0</td>\n",
       "      <td>0.740741</td>\n",
       "      <td>NaN</td>\n",
       "      <td>0.740741</td>\n",
       "      <td>0.740741</td>\n",
       "      <td>0.740741</td>\n",
       "      <td>1.0</td>\n",
       "      <td>0.666667</td>\n",
       "      <td>NaN</td>\n",
       "      <td>0.666667</td>\n",
       "      <td>0.666667</td>\n",
       "      <td>0.666667</td>\n",
       "    </tr>\n",
       "    <tr>\n",
       "      <th>0007</th>\n",
       "      <td>1.0</td>\n",
       "      <td>0.730476</td>\n",
       "      <td>NaN</td>\n",
       "      <td>0.730476</td>\n",
       "      <td>0.730476</td>\n",
       "      <td>0.730476</td>\n",
       "      <td>1.0</td>\n",
       "      <td>0.645623</td>\n",
       "      <td>NaN</td>\n",
       "      <td>0.645623</td>\n",
       "      <td>0.645623</td>\n",
       "      <td>0.645623</td>\n",
       "      <td>1.0</td>\n",
       "      <td>0.841009</td>\n",
       "      <td>NaN</td>\n",
       "      <td>0.841009</td>\n",
       "      <td>0.841009</td>\n",
       "      <td>0.841009</td>\n",
       "    </tr>\n",
       "    <tr>\n",
       "      <th>0009</th>\n",
       "      <td>1.0</td>\n",
       "      <td>0.779798</td>\n",
       "      <td>NaN</td>\n",
       "      <td>0.779798</td>\n",
       "      <td>0.779798</td>\n",
       "      <td>0.779798</td>\n",
       "      <td>1.0</td>\n",
       "      <td>0.862891</td>\n",
       "      <td>NaN</td>\n",
       "      <td>0.862891</td>\n",
       "      <td>0.862891</td>\n",
       "      <td>0.862891</td>\n",
       "      <td>1.0</td>\n",
       "      <td>0.711302</td>\n",
       "      <td>NaN</td>\n",
       "      <td>0.711302</td>\n",
       "      <td>0.711302</td>\n",
       "      <td>0.711302</td>\n",
       "    </tr>\n",
       "    <tr>\n",
       "      <th>0010</th>\n",
       "      <td>1.0</td>\n",
       "      <td>0.829814</td>\n",
       "      <td>NaN</td>\n",
       "      <td>0.829814</td>\n",
       "      <td>0.829814</td>\n",
       "      <td>0.829814</td>\n",
       "      <td>1.0</td>\n",
       "      <td>0.819632</td>\n",
       "      <td>NaN</td>\n",
       "      <td>0.819632</td>\n",
       "      <td>0.819632</td>\n",
       "      <td>0.819632</td>\n",
       "      <td>1.0</td>\n",
       "      <td>0.840252</td>\n",
       "      <td>NaN</td>\n",
       "      <td>0.840252</td>\n",
       "      <td>0.840252</td>\n",
       "      <td>0.840252</td>\n",
       "    </tr>\n",
       "    <tr>\n",
       "      <th>0011</th>\n",
       "      <td>1.0</td>\n",
       "      <td>0.710828</td>\n",
       "      <td>NaN</td>\n",
       "      <td>0.710828</td>\n",
       "      <td>0.710828</td>\n",
       "      <td>0.710828</td>\n",
       "      <td>1.0</td>\n",
       "      <td>0.571721</td>\n",
       "      <td>NaN</td>\n",
       "      <td>0.571721</td>\n",
       "      <td>0.571721</td>\n",
       "      <td>0.571721</td>\n",
       "      <td>1.0</td>\n",
       "      <td>0.939394</td>\n",
       "      <td>NaN</td>\n",
       "      <td>0.939394</td>\n",
       "      <td>0.939394</td>\n",
       "      <td>0.939394</td>\n",
       "    </tr>\n",
       "    <tr>\n",
       "      <th>0012</th>\n",
       "      <td>1.0</td>\n",
       "      <td>0.783410</td>\n",
       "      <td>NaN</td>\n",
       "      <td>0.783410</td>\n",
       "      <td>0.783410</td>\n",
       "      <td>0.783410</td>\n",
       "      <td>1.0</td>\n",
       "      <td>0.857143</td>\n",
       "      <td>NaN</td>\n",
       "      <td>0.857143</td>\n",
       "      <td>0.857143</td>\n",
       "      <td>0.857143</td>\n",
       "      <td>1.0</td>\n",
       "      <td>0.721358</td>\n",
       "      <td>NaN</td>\n",
       "      <td>0.721358</td>\n",
       "      <td>0.721358</td>\n",
       "      <td>0.721358</td>\n",
       "    </tr>\n",
       "    <tr>\n",
       "      <th>0013</th>\n",
       "      <td>1.0</td>\n",
       "      <td>0.720000</td>\n",
       "      <td>NaN</td>\n",
       "      <td>0.720000</td>\n",
       "      <td>0.720000</td>\n",
       "      <td>0.720000</td>\n",
       "      <td>1.0</td>\n",
       "      <td>0.582964</td>\n",
       "      <td>NaN</td>\n",
       "      <td>0.582964</td>\n",
       "      <td>0.582964</td>\n",
       "      <td>0.582964</td>\n",
       "      <td>1.0</td>\n",
       "      <td>0.941261</td>\n",
       "      <td>NaN</td>\n",
       "      <td>0.941261</td>\n",
       "      <td>0.941261</td>\n",
       "      <td>0.941261</td>\n",
       "    </tr>\n",
       "    <tr>\n",
       "      <th>0014</th>\n",
       "      <td>1.0</td>\n",
       "      <td>0.616079</td>\n",
       "      <td>NaN</td>\n",
       "      <td>0.616079</td>\n",
       "      <td>0.616079</td>\n",
       "      <td>0.616079</td>\n",
       "      <td>1.0</td>\n",
       "      <td>0.454061</td>\n",
       "      <td>NaN</td>\n",
       "      <td>0.454061</td>\n",
       "      <td>0.454061</td>\n",
       "      <td>0.454061</td>\n",
       "      <td>1.0</td>\n",
       "      <td>0.957865</td>\n",
       "      <td>NaN</td>\n",
       "      <td>0.957865</td>\n",
       "      <td>0.957865</td>\n",
       "      <td>0.957865</td>\n",
       "    </tr>\n",
       "    <tr>\n",
       "      <th>0017</th>\n",
       "      <td>1.0</td>\n",
       "      <td>0.755177</td>\n",
       "      <td>NaN</td>\n",
       "      <td>0.755177</td>\n",
       "      <td>0.755177</td>\n",
       "      <td>0.755177</td>\n",
       "      <td>1.0</td>\n",
       "      <td>0.883191</td>\n",
       "      <td>NaN</td>\n",
       "      <td>0.883191</td>\n",
       "      <td>0.883191</td>\n",
       "      <td>0.883191</td>\n",
       "      <td>1.0</td>\n",
       "      <td>0.659574</td>\n",
       "      <td>NaN</td>\n",
       "      <td>0.659574</td>\n",
       "      <td>0.659574</td>\n",
       "      <td>0.659574</td>\n",
       "    </tr>\n",
       "    <tr>\n",
       "      <th>0018</th>\n",
       "      <td>1.0</td>\n",
       "      <td>0.750246</td>\n",
       "      <td>NaN</td>\n",
       "      <td>0.750246</td>\n",
       "      <td>0.750246</td>\n",
       "      <td>0.750246</td>\n",
       "      <td>1.0</td>\n",
       "      <td>0.877011</td>\n",
       "      <td>NaN</td>\n",
       "      <td>0.877011</td>\n",
       "      <td>0.877011</td>\n",
       "      <td>0.877011</td>\n",
       "      <td>1.0</td>\n",
       "      <td>0.655498</td>\n",
       "      <td>NaN</td>\n",
       "      <td>0.655498</td>\n",
       "      <td>0.655498</td>\n",
       "      <td>0.655498</td>\n",
       "    </tr>\n",
       "    <tr>\n",
       "      <th>0019</th>\n",
       "      <td>1.0</td>\n",
       "      <td>0.570356</td>\n",
       "      <td>NaN</td>\n",
       "      <td>0.570356</td>\n",
       "      <td>0.570356</td>\n",
       "      <td>0.570356</td>\n",
       "      <td>1.0</td>\n",
       "      <td>0.401055</td>\n",
       "      <td>NaN</td>\n",
       "      <td>0.401055</td>\n",
       "      <td>0.401055</td>\n",
       "      <td>0.401055</td>\n",
       "      <td>1.0</td>\n",
       "      <td>0.987013</td>\n",
       "      <td>NaN</td>\n",
       "      <td>0.987013</td>\n",
       "      <td>0.987013</td>\n",
       "      <td>0.987013</td>\n",
       "    </tr>\n",
       "  </tbody>\n",
       "</table>\n",
       "</div>"
      ],
      "text/plain": [
       "     eventF1                                             eventPrecision  \\\n",
       "       count      mean std       min       50%       max          count   \n",
       "test                                                                      \n",
       "0001     1.0  0.690534 NaN  0.690534  0.690534  0.690534            1.0   \n",
       "0002     1.0  0.799828 NaN  0.799828  0.799828  0.799828            1.0   \n",
       "0003     1.0  0.699346 NaN  0.699346  0.699346  0.699346            1.0   \n",
       "0005     1.0  0.692764 NaN  0.692764  0.692764  0.692764            1.0   \n",
       "0006     1.0  0.701754 NaN  0.701754  0.701754  0.701754            1.0   \n",
       "0007     1.0  0.730476 NaN  0.730476  0.730476  0.730476            1.0   \n",
       "0009     1.0  0.779798 NaN  0.779798  0.779798  0.779798            1.0   \n",
       "0010     1.0  0.829814 NaN  0.829814  0.829814  0.829814            1.0   \n",
       "0011     1.0  0.710828 NaN  0.710828  0.710828  0.710828            1.0   \n",
       "0012     1.0  0.783410 NaN  0.783410  0.783410  0.783410            1.0   \n",
       "0013     1.0  0.720000 NaN  0.720000  0.720000  0.720000            1.0   \n",
       "0014     1.0  0.616079 NaN  0.616079  0.616079  0.616079            1.0   \n",
       "0017     1.0  0.755177 NaN  0.755177  0.755177  0.755177            1.0   \n",
       "0018     1.0  0.750246 NaN  0.750246  0.750246  0.750246            1.0   \n",
       "0019     1.0  0.570356 NaN  0.570356  0.570356  0.570356            1.0   \n",
       "\n",
       "                                                 eventRecall                \\\n",
       "          mean std       min       50%       max       count      mean std   \n",
       "test                                                                         \n",
       "0001  0.942053 NaN  0.942053  0.942053  0.942053         1.0  0.545019 NaN   \n",
       "0002  0.764996 NaN  0.764996  0.764996  0.764996         1.0  0.837984 NaN   \n",
       "0003  0.656442 NaN  0.656442  0.656442  0.656442         1.0  0.748252 NaN   \n",
       "0005  0.581673 NaN  0.581673  0.581673  0.581673         1.0  0.856305 NaN   \n",
       "0006  0.740741 NaN  0.740741  0.740741  0.740741         1.0  0.666667 NaN   \n",
       "0007  0.645623 NaN  0.645623  0.645623  0.645623         1.0  0.841009 NaN   \n",
       "0009  0.862891 NaN  0.862891  0.862891  0.862891         1.0  0.711302 NaN   \n",
       "0010  0.819632 NaN  0.819632  0.819632  0.819632         1.0  0.840252 NaN   \n",
       "0011  0.571721 NaN  0.571721  0.571721  0.571721         1.0  0.939394 NaN   \n",
       "0012  0.857143 NaN  0.857143  0.857143  0.857143         1.0  0.721358 NaN   \n",
       "0013  0.582964 NaN  0.582964  0.582964  0.582964         1.0  0.941261 NaN   \n",
       "0014  0.454061 NaN  0.454061  0.454061  0.454061         1.0  0.957865 NaN   \n",
       "0017  0.883191 NaN  0.883191  0.883191  0.883191         1.0  0.659574 NaN   \n",
       "0018  0.877011 NaN  0.877011  0.877011  0.877011         1.0  0.655498 NaN   \n",
       "0019  0.401055 NaN  0.401055  0.401055  0.401055         1.0  0.987013 NaN   \n",
       "\n",
       "                                    \n",
       "           min       50%       max  \n",
       "test                                \n",
       "0001  0.545019  0.545019  0.545019  \n",
       "0002  0.837984  0.837984  0.837984  \n",
       "0003  0.748252  0.748252  0.748252  \n",
       "0005  0.856305  0.856305  0.856305  \n",
       "0006  0.666667  0.666667  0.666667  \n",
       "0007  0.841009  0.841009  0.841009  \n",
       "0009  0.711302  0.711302  0.711302  \n",
       "0010  0.840252  0.840252  0.840252  \n",
       "0011  0.939394  0.939394  0.939394  \n",
       "0012  0.721358  0.721358  0.721358  \n",
       "0013  0.941261  0.941261  0.941261  \n",
       "0014  0.957865  0.957865  0.957865  \n",
       "0017  0.659574  0.659574  0.659574  \n",
       "0018  0.655498  0.655498  0.655498  \n",
       "0019  0.987013  0.987013  0.987013  "
      ]
     },
     "execution_count": 40,
     "metadata": {},
     "output_type": "execute_result"
    }
   ],
   "source": [
    "experimentModels_N2[['test','eventF1','eventPrecision','eventRecall']].groupby('test').describe(percentiles=[0.5])"
   ]
  },
  {
   "cell_type": "code",
   "execution_count": 41,
   "metadata": {},
   "outputs": [
    {
     "data": {
      "text/html": [
       "<div>\n",
       "<style scoped>\n",
       "    .dataframe tbody tr th:only-of-type {\n",
       "        vertical-align: middle;\n",
       "    }\n",
       "\n",
       "    .dataframe tbody tr th {\n",
       "        vertical-align: top;\n",
       "    }\n",
       "\n",
       "    .dataframe thead th {\n",
       "        text-align: right;\n",
       "    }\n",
       "</style>\n",
       "<table border=\"1\" class=\"dataframe\">\n",
       "  <thead>\n",
       "    <tr style=\"text-align: right;\">\n",
       "      <th></th>\n",
       "      <th>test</th>\n",
       "      <th>eventF1</th>\n",
       "      <th>eventPrecision</th>\n",
       "      <th>eventRecall</th>\n",
       "    </tr>\n",
       "  </thead>\n",
       "  <tbody>\n",
       "    <tr>\n",
       "      <th>0</th>\n",
       "      <td>0001</td>\n",
       "      <td>0.690534</td>\n",
       "      <td>0.942053</td>\n",
       "      <td>0.545019</td>\n",
       "    </tr>\n",
       "    <tr>\n",
       "      <th>1</th>\n",
       "      <td>0002</td>\n",
       "      <td>0.799828</td>\n",
       "      <td>0.764996</td>\n",
       "      <td>0.837984</td>\n",
       "    </tr>\n",
       "    <tr>\n",
       "      <th>2</th>\n",
       "      <td>0003</td>\n",
       "      <td>0.699346</td>\n",
       "      <td>0.656442</td>\n",
       "      <td>0.748252</td>\n",
       "    </tr>\n",
       "    <tr>\n",
       "      <th>3</th>\n",
       "      <td>0005</td>\n",
       "      <td>0.692764</td>\n",
       "      <td>0.581673</td>\n",
       "      <td>0.856305</td>\n",
       "    </tr>\n",
       "    <tr>\n",
       "      <th>4</th>\n",
       "      <td>0006</td>\n",
       "      <td>0.701754</td>\n",
       "      <td>0.740741</td>\n",
       "      <td>0.666667</td>\n",
       "    </tr>\n",
       "    <tr>\n",
       "      <th>5</th>\n",
       "      <td>0007</td>\n",
       "      <td>0.730476</td>\n",
       "      <td>0.645623</td>\n",
       "      <td>0.841009</td>\n",
       "    </tr>\n",
       "    <tr>\n",
       "      <th>6</th>\n",
       "      <td>0009</td>\n",
       "      <td>0.779798</td>\n",
       "      <td>0.862891</td>\n",
       "      <td>0.711302</td>\n",
       "    </tr>\n",
       "    <tr>\n",
       "      <th>7</th>\n",
       "      <td>0010</td>\n",
       "      <td>0.829814</td>\n",
       "      <td>0.819632</td>\n",
       "      <td>0.840252</td>\n",
       "    </tr>\n",
       "    <tr>\n",
       "      <th>8</th>\n",
       "      <td>0011</td>\n",
       "      <td>0.710828</td>\n",
       "      <td>0.571721</td>\n",
       "      <td>0.939394</td>\n",
       "    </tr>\n",
       "    <tr>\n",
       "      <th>9</th>\n",
       "      <td>0012</td>\n",
       "      <td>0.783410</td>\n",
       "      <td>0.857143</td>\n",
       "      <td>0.721358</td>\n",
       "    </tr>\n",
       "    <tr>\n",
       "      <th>10</th>\n",
       "      <td>0013</td>\n",
       "      <td>0.720000</td>\n",
       "      <td>0.582964</td>\n",
       "      <td>0.941261</td>\n",
       "    </tr>\n",
       "    <tr>\n",
       "      <th>11</th>\n",
       "      <td>0014</td>\n",
       "      <td>0.616079</td>\n",
       "      <td>0.454061</td>\n",
       "      <td>0.957865</td>\n",
       "    </tr>\n",
       "    <tr>\n",
       "      <th>12</th>\n",
       "      <td>0017</td>\n",
       "      <td>0.755177</td>\n",
       "      <td>0.883191</td>\n",
       "      <td>0.659574</td>\n",
       "    </tr>\n",
       "    <tr>\n",
       "      <th>13</th>\n",
       "      <td>0018</td>\n",
       "      <td>0.750246</td>\n",
       "      <td>0.877011</td>\n",
       "      <td>0.655498</td>\n",
       "    </tr>\n",
       "    <tr>\n",
       "      <th>14</th>\n",
       "      <td>0019</td>\n",
       "      <td>0.570356</td>\n",
       "      <td>0.401055</td>\n",
       "      <td>0.987013</td>\n",
       "    </tr>\n",
       "  </tbody>\n",
       "</table>\n",
       "</div>"
      ],
      "text/plain": [
       "    test   eventF1  eventPrecision  eventRecall\n",
       "0   0001  0.690534        0.942053     0.545019\n",
       "1   0002  0.799828        0.764996     0.837984\n",
       "2   0003  0.699346        0.656442     0.748252\n",
       "3   0005  0.692764        0.581673     0.856305\n",
       "4   0006  0.701754        0.740741     0.666667\n",
       "5   0007  0.730476        0.645623     0.841009\n",
       "6   0009  0.779798        0.862891     0.711302\n",
       "7   0010  0.829814        0.819632     0.840252\n",
       "8   0011  0.710828        0.571721     0.939394\n",
       "9   0012  0.783410        0.857143     0.721358\n",
       "10  0013  0.720000        0.582964     0.941261\n",
       "11  0014  0.616079        0.454061     0.957865\n",
       "12  0017  0.755177        0.883191     0.659574\n",
       "13  0018  0.750246        0.877011     0.655498\n",
       "14  0019  0.570356        0.401055     0.987013"
      ]
     },
     "execution_count": 41,
     "metadata": {},
     "output_type": "execute_result"
    }
   ],
   "source": [
    "experimentModels_N2[['test','eventF1','eventPrecision','eventRecall']].groupby('test',as_index=False).mean()"
   ]
  },
  {
   "cell_type": "code",
   "execution_count": 42,
   "metadata": {},
   "outputs": [
    {
     "data": {
      "text/plain": [
       "test              6.668000e+54\n",
       "eventF1           7.220274e-01\n",
       "eventPrecision    7.094132e-01\n",
       "eventRecall       7.939168e-01\n",
       "dtype: float64"
      ]
     },
     "execution_count": 42,
     "metadata": {},
     "output_type": "execute_result"
    }
   ],
   "source": [
    "experimentModels_N2[['test','eventF1','eventPrecision','eventRecall']].groupby('test',as_index=False).mean().mean()"
   ]
  },
  {
   "cell_type": "code",
   "execution_count": 43,
   "metadata": {},
   "outputs": [
    {
     "name": "stderr",
     "output_type": "stream",
     "text": [
      "C:\\Users\\Gurdiel\\AppData\\Local\\Temp\\ipykernel_5776\\813125388.py:1: FutureWarning:\n",
      "\n",
      "The default value of numeric_only in DataFrame.std is deprecated. In a future version, it will default to False. In addition, specifying 'numeric_only=None' is deprecated. Select only valid columns or specify the value of numeric_only to silence this warning.\n",
      "\n"
     ]
    },
    {
     "data": {
      "text/plain": [
       "eventF1           0.067546\n",
       "eventPrecision    0.167425\n",
       "eventRecall       0.132763\n",
       "dtype: float64"
      ]
     },
     "execution_count": 43,
     "metadata": {},
     "output_type": "execute_result"
    }
   ],
   "source": [
    "experimentModels_N2[['test','eventF1','eventPrecision','eventRecall']].groupby('test',as_index=False).mean().std()"
   ]
  },
  {
   "cell_type": "code",
   "execution_count": 44,
   "metadata": {},
   "outputs": [],
   "source": [
    "auxPrecision=pd.DataFrame({\n",
    "    'metric':'event precision',\n",
    "    'value':experimentModels_N2.eventPrecision,\n",
    "    'event F1':experimentModels_N2.eventF1\n",
    "})\n",
    "\n",
    "auxRecall=pd.DataFrame({\n",
    "    'metric':'event recall',\n",
    "    'value':experimentModels_N2.eventRecall,\n",
    "    'event F1':experimentModels_N2.eventF1\n",
    "})\n",
    "visualTradeoff=pd.concat((auxPrecision,auxRecall))"
   ]
  },
  {
   "cell_type": "code",
   "execution_count": 45,
   "metadata": {},
   "outputs": [
    {
     "data": {
      "application/vnd.plotly.v1+json": {
       "config": {
        "plotlyServerURL": "https://plot.ly"
       },
       "data": [
        {
         "hovertemplate": "metric=event precision<br>event F1=%{x}<br>value=%{y}<extra></extra>",
         "legendgroup": "event precision",
         "marker": {
          "color": "#636efa",
          "symbol": "circle"
         },
         "mode": "markers",
         "name": "event precision",
         "orientation": "v",
         "showlegend": true,
         "type": "scatter",
         "x": [
          0.6905339805825242,
          0.7998281786941581,
          0.6993464052287581,
          0.6927639383155397,
          0.7017543859649122,
          0.7304761904761905,
          0.7797979797979798,
          0.8298136645962733,
          0.710828025477707,
          0.783410138248848,
          0.72,
          0.6160794941282746,
          0.7551766138855055,
          0.7502458210422812,
          0.5703564727954972
         ],
         "xaxis": "x",
         "y": [
          0.9420529801324503,
          0.7649958915365653,
          0.656441717791411,
          0.5816733067729084,
          0.7407407407407407,
          0.6456228956228957,
          0.8628912071535022,
          0.8196319018404908,
          0.5717213114754098,
          0.8571428571428571,
          0.582963620230701,
          0.4540612516644474,
          0.8831908831908832,
          0.8770114942528736,
          0.40105540897097625
         ],
         "yaxis": "y"
        },
        {
         "alignmentgroup": "True",
         "bingroup": "y",
         "hovertemplate": "metric=event precision<br>value=%{y}<br>count=%{x}<extra></extra>",
         "legendgroup": "event precision",
         "marker": {
          "color": "#636efa"
         },
         "name": "event precision",
         "offsetgroup": "event precision",
         "opacity": 0.5,
         "showlegend": false,
         "type": "histogram",
         "xaxis": "x2",
         "y": [
          0.9420529801324503,
          0.7649958915365653,
          0.656441717791411,
          0.5816733067729084,
          0.7407407407407407,
          0.6456228956228957,
          0.8628912071535022,
          0.8196319018404908,
          0.5717213114754098,
          0.8571428571428571,
          0.582963620230701,
          0.4540612516644474,
          0.8831908831908832,
          0.8770114942528736,
          0.40105540897097625
         ],
         "yaxis": "y2"
        },
        {
         "hovertemplate": "metric=event recall<br>event F1=%{x}<br>value=%{y}<extra></extra>",
         "legendgroup": "event recall",
         "marker": {
          "color": "#EF553B",
          "symbol": "circle"
         },
         "mode": "markers",
         "name": "event recall",
         "orientation": "v",
         "showlegend": true,
         "type": "scatter",
         "x": [
          0.6905339805825242,
          0.7998281786941581,
          0.6993464052287581,
          0.6927639383155397,
          0.7017543859649122,
          0.7304761904761905,
          0.7797979797979798,
          0.8298136645962733,
          0.710828025477707,
          0.783410138248848,
          0.72,
          0.6160794941282746,
          0.7551766138855055,
          0.7502458210422812,
          0.5703564727954972
         ],
         "xaxis": "x",
         "y": [
          0.5450191570881227,
          0.8379837983798379,
          0.7482517482517482,
          0.8563049853372434,
          0.6666666666666666,
          0.8410087719298246,
          0.7113022113022113,
          0.8402515723270441,
          0.9393939393939394,
          0.7213578500707214,
          0.9412607449856734,
          0.9578651685393258,
          0.6595744680851063,
          0.6554982817869416,
          0.987012987012987
         ],
         "yaxis": "y"
        },
        {
         "alignmentgroup": "True",
         "bingroup": "y",
         "hovertemplate": "metric=event recall<br>value=%{y}<br>count=%{x}<extra></extra>",
         "legendgroup": "event recall",
         "marker": {
          "color": "#EF553B"
         },
         "name": "event recall",
         "offsetgroup": "event recall",
         "opacity": 0.5,
         "showlegend": false,
         "type": "histogram",
         "xaxis": "x2",
         "y": [
          0.5450191570881227,
          0.8379837983798379,
          0.7482517482517482,
          0.8563049853372434,
          0.6666666666666666,
          0.8410087719298246,
          0.7113022113022113,
          0.8402515723270441,
          0.9393939393939394,
          0.7213578500707214,
          0.9412607449856734,
          0.9578651685393258,
          0.6595744680851063,
          0.6554982817869416,
          0.987012987012987
         ],
         "yaxis": "y2"
        },
        {
         "fill": "toself",
         "mode": "lines",
         "name": "identity",
         "type": "scatter",
         "x": [
          0.6781883194278904,
          0.7891491985203453,
          0.6584615384615384,
          0.6681922196796338,
          0.6734006734006734,
          0.6407685881370092,
          0.7699468085106383,
          0.7682576193214491,
          0.686819830713422,
          0.7257264351523742,
          0.677319587628866,
          0.5990338164251208,
          0.737217598097503,
          0.7404172731683649,
          0.5716911764705882
         ],
         "y": [
          0.6781883194278904,
          0.7891491985203453,
          0.6584615384615384,
          0.6681922196796338,
          0.6734006734006734,
          0.6407685881370092,
          0.7699468085106383,
          0.7682576193214491,
          0.686819830713422,
          0.7257264351523742,
          0.677319587628866,
          0.5990338164251208,
          0.737217598097503,
          0.7404172731683649,
          0.5716911764705882
         ]
        }
       ],
       "layout": {
        "barmode": "overlay",
        "legend": {
         "title": {
          "text": "metric"
         },
         "tracegroupgap": 0
        },
        "margin": {
         "t": 60
        },
        "template": {
         "data": {
          "bar": [
           {
            "error_x": {
             "color": "#2a3f5f"
            },
            "error_y": {
             "color": "#2a3f5f"
            },
            "marker": {
             "line": {
              "color": "#E5ECF6",
              "width": 0.5
             },
             "pattern": {
              "fillmode": "overlay",
              "size": 10,
              "solidity": 0.2
             }
            },
            "type": "bar"
           }
          ],
          "barpolar": [
           {
            "marker": {
             "line": {
              "color": "#E5ECF6",
              "width": 0.5
             },
             "pattern": {
              "fillmode": "overlay",
              "size": 10,
              "solidity": 0.2
             }
            },
            "type": "barpolar"
           }
          ],
          "carpet": [
           {
            "aaxis": {
             "endlinecolor": "#2a3f5f",
             "gridcolor": "white",
             "linecolor": "white",
             "minorgridcolor": "white",
             "startlinecolor": "#2a3f5f"
            },
            "baxis": {
             "endlinecolor": "#2a3f5f",
             "gridcolor": "white",
             "linecolor": "white",
             "minorgridcolor": "white",
             "startlinecolor": "#2a3f5f"
            },
            "type": "carpet"
           }
          ],
          "choropleth": [
           {
            "colorbar": {
             "outlinewidth": 0,
             "ticks": ""
            },
            "type": "choropleth"
           }
          ],
          "contour": [
           {
            "colorbar": {
             "outlinewidth": 0,
             "ticks": ""
            },
            "colorscale": [
             [
              0,
              "#0d0887"
             ],
             [
              0.1111111111111111,
              "#46039f"
             ],
             [
              0.2222222222222222,
              "#7201a8"
             ],
             [
              0.3333333333333333,
              "#9c179e"
             ],
             [
              0.4444444444444444,
              "#bd3786"
             ],
             [
              0.5555555555555556,
              "#d8576b"
             ],
             [
              0.6666666666666666,
              "#ed7953"
             ],
             [
              0.7777777777777778,
              "#fb9f3a"
             ],
             [
              0.8888888888888888,
              "#fdca26"
             ],
             [
              1,
              "#f0f921"
             ]
            ],
            "type": "contour"
           }
          ],
          "contourcarpet": [
           {
            "colorbar": {
             "outlinewidth": 0,
             "ticks": ""
            },
            "type": "contourcarpet"
           }
          ],
          "heatmap": [
           {
            "colorbar": {
             "outlinewidth": 0,
             "ticks": ""
            },
            "colorscale": [
             [
              0,
              "#0d0887"
             ],
             [
              0.1111111111111111,
              "#46039f"
             ],
             [
              0.2222222222222222,
              "#7201a8"
             ],
             [
              0.3333333333333333,
              "#9c179e"
             ],
             [
              0.4444444444444444,
              "#bd3786"
             ],
             [
              0.5555555555555556,
              "#d8576b"
             ],
             [
              0.6666666666666666,
              "#ed7953"
             ],
             [
              0.7777777777777778,
              "#fb9f3a"
             ],
             [
              0.8888888888888888,
              "#fdca26"
             ],
             [
              1,
              "#f0f921"
             ]
            ],
            "type": "heatmap"
           }
          ],
          "heatmapgl": [
           {
            "colorbar": {
             "outlinewidth": 0,
             "ticks": ""
            },
            "colorscale": [
             [
              0,
              "#0d0887"
             ],
             [
              0.1111111111111111,
              "#46039f"
             ],
             [
              0.2222222222222222,
              "#7201a8"
             ],
             [
              0.3333333333333333,
              "#9c179e"
             ],
             [
              0.4444444444444444,
              "#bd3786"
             ],
             [
              0.5555555555555556,
              "#d8576b"
             ],
             [
              0.6666666666666666,
              "#ed7953"
             ],
             [
              0.7777777777777778,
              "#fb9f3a"
             ],
             [
              0.8888888888888888,
              "#fdca26"
             ],
             [
              1,
              "#f0f921"
             ]
            ],
            "type": "heatmapgl"
           }
          ],
          "histogram": [
           {
            "marker": {
             "pattern": {
              "fillmode": "overlay",
              "size": 10,
              "solidity": 0.2
             }
            },
            "type": "histogram"
           }
          ],
          "histogram2d": [
           {
            "colorbar": {
             "outlinewidth": 0,
             "ticks": ""
            },
            "colorscale": [
             [
              0,
              "#0d0887"
             ],
             [
              0.1111111111111111,
              "#46039f"
             ],
             [
              0.2222222222222222,
              "#7201a8"
             ],
             [
              0.3333333333333333,
              "#9c179e"
             ],
             [
              0.4444444444444444,
              "#bd3786"
             ],
             [
              0.5555555555555556,
              "#d8576b"
             ],
             [
              0.6666666666666666,
              "#ed7953"
             ],
             [
              0.7777777777777778,
              "#fb9f3a"
             ],
             [
              0.8888888888888888,
              "#fdca26"
             ],
             [
              1,
              "#f0f921"
             ]
            ],
            "type": "histogram2d"
           }
          ],
          "histogram2dcontour": [
           {
            "colorbar": {
             "outlinewidth": 0,
             "ticks": ""
            },
            "colorscale": [
             [
              0,
              "#0d0887"
             ],
             [
              0.1111111111111111,
              "#46039f"
             ],
             [
              0.2222222222222222,
              "#7201a8"
             ],
             [
              0.3333333333333333,
              "#9c179e"
             ],
             [
              0.4444444444444444,
              "#bd3786"
             ],
             [
              0.5555555555555556,
              "#d8576b"
             ],
             [
              0.6666666666666666,
              "#ed7953"
             ],
             [
              0.7777777777777778,
              "#fb9f3a"
             ],
             [
              0.8888888888888888,
              "#fdca26"
             ],
             [
              1,
              "#f0f921"
             ]
            ],
            "type": "histogram2dcontour"
           }
          ],
          "mesh3d": [
           {
            "colorbar": {
             "outlinewidth": 0,
             "ticks": ""
            },
            "type": "mesh3d"
           }
          ],
          "parcoords": [
           {
            "line": {
             "colorbar": {
              "outlinewidth": 0,
              "ticks": ""
             }
            },
            "type": "parcoords"
           }
          ],
          "pie": [
           {
            "automargin": true,
            "type": "pie"
           }
          ],
          "scatter": [
           {
            "fillpattern": {
             "fillmode": "overlay",
             "size": 10,
             "solidity": 0.2
            },
            "type": "scatter"
           }
          ],
          "scatter3d": [
           {
            "line": {
             "colorbar": {
              "outlinewidth": 0,
              "ticks": ""
             }
            },
            "marker": {
             "colorbar": {
              "outlinewidth": 0,
              "ticks": ""
             }
            },
            "type": "scatter3d"
           }
          ],
          "scattercarpet": [
           {
            "marker": {
             "colorbar": {
              "outlinewidth": 0,
              "ticks": ""
             }
            },
            "type": "scattercarpet"
           }
          ],
          "scattergeo": [
           {
            "marker": {
             "colorbar": {
              "outlinewidth": 0,
              "ticks": ""
             }
            },
            "type": "scattergeo"
           }
          ],
          "scattergl": [
           {
            "marker": {
             "colorbar": {
              "outlinewidth": 0,
              "ticks": ""
             }
            },
            "type": "scattergl"
           }
          ],
          "scattermapbox": [
           {
            "marker": {
             "colorbar": {
              "outlinewidth": 0,
              "ticks": ""
             }
            },
            "type": "scattermapbox"
           }
          ],
          "scatterpolar": [
           {
            "marker": {
             "colorbar": {
              "outlinewidth": 0,
              "ticks": ""
             }
            },
            "type": "scatterpolar"
           }
          ],
          "scatterpolargl": [
           {
            "marker": {
             "colorbar": {
              "outlinewidth": 0,
              "ticks": ""
             }
            },
            "type": "scatterpolargl"
           }
          ],
          "scatterternary": [
           {
            "marker": {
             "colorbar": {
              "outlinewidth": 0,
              "ticks": ""
             }
            },
            "type": "scatterternary"
           }
          ],
          "surface": [
           {
            "colorbar": {
             "outlinewidth": 0,
             "ticks": ""
            },
            "colorscale": [
             [
              0,
              "#0d0887"
             ],
             [
              0.1111111111111111,
              "#46039f"
             ],
             [
              0.2222222222222222,
              "#7201a8"
             ],
             [
              0.3333333333333333,
              "#9c179e"
             ],
             [
              0.4444444444444444,
              "#bd3786"
             ],
             [
              0.5555555555555556,
              "#d8576b"
             ],
             [
              0.6666666666666666,
              "#ed7953"
             ],
             [
              0.7777777777777778,
              "#fb9f3a"
             ],
             [
              0.8888888888888888,
              "#fdca26"
             ],
             [
              1,
              "#f0f921"
             ]
            ],
            "type": "surface"
           }
          ],
          "table": [
           {
            "cells": {
             "fill": {
              "color": "#EBF0F8"
             },
             "line": {
              "color": "white"
             }
            },
            "header": {
             "fill": {
              "color": "#C8D4E3"
             },
             "line": {
              "color": "white"
             }
            },
            "type": "table"
           }
          ]
         },
         "layout": {
          "annotationdefaults": {
           "arrowcolor": "#2a3f5f",
           "arrowhead": 0,
           "arrowwidth": 1
          },
          "autotypenumbers": "strict",
          "coloraxis": {
           "colorbar": {
            "outlinewidth": 0,
            "ticks": ""
           }
          },
          "colorscale": {
           "diverging": [
            [
             0,
             "#8e0152"
            ],
            [
             0.1,
             "#c51b7d"
            ],
            [
             0.2,
             "#de77ae"
            ],
            [
             0.3,
             "#f1b6da"
            ],
            [
             0.4,
             "#fde0ef"
            ],
            [
             0.5,
             "#f7f7f7"
            ],
            [
             0.6,
             "#e6f5d0"
            ],
            [
             0.7,
             "#b8e186"
            ],
            [
             0.8,
             "#7fbc41"
            ],
            [
             0.9,
             "#4d9221"
            ],
            [
             1,
             "#276419"
            ]
           ],
           "sequential": [
            [
             0,
             "#0d0887"
            ],
            [
             0.1111111111111111,
             "#46039f"
            ],
            [
             0.2222222222222222,
             "#7201a8"
            ],
            [
             0.3333333333333333,
             "#9c179e"
            ],
            [
             0.4444444444444444,
             "#bd3786"
            ],
            [
             0.5555555555555556,
             "#d8576b"
            ],
            [
             0.6666666666666666,
             "#ed7953"
            ],
            [
             0.7777777777777778,
             "#fb9f3a"
            ],
            [
             0.8888888888888888,
             "#fdca26"
            ],
            [
             1,
             "#f0f921"
            ]
           ],
           "sequentialminus": [
            [
             0,
             "#0d0887"
            ],
            [
             0.1111111111111111,
             "#46039f"
            ],
            [
             0.2222222222222222,
             "#7201a8"
            ],
            [
             0.3333333333333333,
             "#9c179e"
            ],
            [
             0.4444444444444444,
             "#bd3786"
            ],
            [
             0.5555555555555556,
             "#d8576b"
            ],
            [
             0.6666666666666666,
             "#ed7953"
            ],
            [
             0.7777777777777778,
             "#fb9f3a"
            ],
            [
             0.8888888888888888,
             "#fdca26"
            ],
            [
             1,
             "#f0f921"
            ]
           ]
          },
          "colorway": [
           "#636efa",
           "#EF553B",
           "#00cc96",
           "#ab63fa",
           "#FFA15A",
           "#19d3f3",
           "#FF6692",
           "#B6E880",
           "#FF97FF",
           "#FECB52"
          ],
          "font": {
           "color": "#2a3f5f"
          },
          "geo": {
           "bgcolor": "white",
           "lakecolor": "white",
           "landcolor": "#E5ECF6",
           "showlakes": true,
           "showland": true,
           "subunitcolor": "white"
          },
          "hoverlabel": {
           "align": "left"
          },
          "hovermode": "closest",
          "mapbox": {
           "style": "light"
          },
          "paper_bgcolor": "white",
          "plot_bgcolor": "#E5ECF6",
          "polar": {
           "angularaxis": {
            "gridcolor": "white",
            "linecolor": "white",
            "ticks": ""
           },
           "bgcolor": "#E5ECF6",
           "radialaxis": {
            "gridcolor": "white",
            "linecolor": "white",
            "ticks": ""
           }
          },
          "scene": {
           "xaxis": {
            "backgroundcolor": "#E5ECF6",
            "gridcolor": "white",
            "gridwidth": 2,
            "linecolor": "white",
            "showbackground": true,
            "ticks": "",
            "zerolinecolor": "white"
           },
           "yaxis": {
            "backgroundcolor": "#E5ECF6",
            "gridcolor": "white",
            "gridwidth": 2,
            "linecolor": "white",
            "showbackground": true,
            "ticks": "",
            "zerolinecolor": "white"
           },
           "zaxis": {
            "backgroundcolor": "#E5ECF6",
            "gridcolor": "white",
            "gridwidth": 2,
            "linecolor": "white",
            "showbackground": true,
            "ticks": "",
            "zerolinecolor": "white"
           }
          },
          "shapedefaults": {
           "line": {
            "color": "#2a3f5f"
           }
          },
          "ternary": {
           "aaxis": {
            "gridcolor": "white",
            "linecolor": "white",
            "ticks": ""
           },
           "baxis": {
            "gridcolor": "white",
            "linecolor": "white",
            "ticks": ""
           },
           "bgcolor": "#E5ECF6",
           "caxis": {
            "gridcolor": "white",
            "linecolor": "white",
            "ticks": ""
           }
          },
          "title": {
           "x": 0.05
          },
          "xaxis": {
           "automargin": true,
           "gridcolor": "white",
           "linecolor": "white",
           "ticks": "",
           "title": {
            "standoff": 15
           },
           "zerolinecolor": "white",
           "zerolinewidth": 2
          },
          "yaxis": {
           "automargin": true,
           "gridcolor": "white",
           "linecolor": "white",
           "ticks": "",
           "title": {
            "standoff": 15
           },
           "zerolinecolor": "white",
           "zerolinewidth": 2
          }
         }
        },
        "xaxis": {
         "anchor": "y",
         "domain": [
          0,
          0.7363
         ],
         "title": {
          "text": "event F1"
         }
        },
        "xaxis2": {
         "anchor": "y2",
         "domain": [
          0.7413,
          1
         ],
         "matches": "x2",
         "showgrid": true,
         "showline": false,
         "showticklabels": false,
         "ticks": ""
        },
        "yaxis": {
         "anchor": "x",
         "domain": [
          0,
          1
         ],
         "title": {
          "text": "value"
         }
        },
        "yaxis2": {
         "anchor": "x2",
         "domain": [
          0,
          1
         ],
         "matches": "y",
         "showgrid": true,
         "showticklabels": false
        }
       }
      }
     },
     "metadata": {},
     "output_type": "display_data"
    }
   ],
   "source": [
    "fig=px.scatter(visualTradeoff,x='event F1',y='value',color='metric', marginal_y=\"histogram\")\n",
    "fig.add_trace(\n",
    "    go.Scatter(x=experimentModels['eventF1'], y=experimentModels['eventF1'], name=\"identity\", mode='lines',fill=\"toself\")\n",
    ")\n",
    "fig.show()"
   ]
  },
  {
   "attachments": {},
   "cell_type": "markdown",
   "metadata": {},
   "source": [
    "### remove outliers"
   ]
  },
  {
   "cell_type": "code",
   "execution_count": 46,
   "metadata": {},
   "outputs": [
    {
     "data": {
      "text/plain": [
       "array(['0001', '0002', '0003', '0005', '0006', '0007', '0009', '0010',\n",
       "       '0011', '0012', '0013', '0017', '0018'], dtype=object)"
      ]
     },
     "execution_count": 46,
     "metadata": {},
     "output_type": "execute_result"
    }
   ],
   "source": [
    "np.setdiff1d(experimentModels_N2.test,['0014','0019'])"
   ]
  },
  {
   "cell_type": "code",
   "execution_count": 47,
   "metadata": {},
   "outputs": [
    {
     "data": {
      "text/plain": [
       "test              1.666917e+43\n",
       "eventF1           7.461201e-01\n",
       "eventPrecision    7.370023e-01\n",
       "eventRecall       7.849046e-01\n",
       "dtype: float64"
      ]
     },
     "execution_count": 47,
     "metadata": {},
     "output_type": "execute_result"
    }
   ],
   "source": [
    "experimentModels_N2[experimentModels_N2.test.isin(np.setdiff1d(experimentModels_N2.test,['0001','0014','0019']))][['test','eventF1','eventPrecision','eventRecall']].groupby('test',as_index=False).mean().mean()"
   ]
  },
  {
   "cell_type": "code",
   "execution_count": 48,
   "metadata": {},
   "outputs": [
    {
     "data": {
      "application/vnd.plotly.v1+json": {
       "config": {
        "plotlyServerURL": "https://plot.ly"
       },
       "data": [
        {
         "customdata": [
          [
           true,
           false,
           null,
           3,
           "out",
           0.6101694915254238,
           0,
           0
          ],
          [
           false,
           true,
           null,
           3,
           "out",
           0,
           "NA",
           1
          ],
          [
           true,
           false,
           null,
           3,
           "out",
           0.43410852713178294,
           1,
           2
          ],
          [
           true,
           false,
           null,
           3,
           "out",
           0.7298850574712644,
           2,
           3
          ],
          [
           false,
           true,
           null,
           3,
           "out",
           0,
           "NA",
           4
          ],
          [
           true,
           false,
           null,
           3,
           "out",
           0.5576923076923077,
           3,
           5
          ],
          [
           true,
           false,
           null,
           3,
           "out",
           0.8640776699029126,
           4,
           6
          ],
          [
           false,
           true,
           null,
           3,
           "out",
           0,
           "NA",
           7
          ],
          [
           false,
           true,
           null,
           3,
           "out",
           0,
           "NA",
           8
          ],
          [
           false,
           true,
           null,
           3,
           "out",
           0,
           "NA",
           9
          ],
          [
           false,
           true,
           null,
           3,
           "out",
           0,
           "NA",
           10
          ],
          [
           true,
           false,
           null,
           3,
           "out",
           0.842741935483871,
           5,
           11
          ],
          [
           false,
           true,
           null,
           3,
           "out",
           0,
           "NA",
           12
          ],
          [
           true,
           false,
           null,
           3,
           "out",
           0.7864077669902912,
           6,
           13
          ],
          [
           false,
           true,
           null,
           3,
           "out",
           0,
           "NA",
           14
          ],
          [
           false,
           true,
           null,
           3,
           "out",
           0,
           "NA",
           15
          ],
          [
           true,
           false,
           null,
           3,
           "out",
           0.6777777777777778,
           7,
           16
          ],
          [
           false,
           true,
           null,
           3,
           "out",
           0,
           "NA",
           17
          ],
          [
           false,
           true,
           null,
           3,
           "out",
           0,
           "NA",
           18
          ],
          [
           true,
           false,
           null,
           3,
           "out",
           0.8270676691729323,
           8,
           19
          ],
          [
           true,
           false,
           null,
           3,
           "out",
           0.8228571428571428,
           9,
           20
          ],
          [
           true,
           false,
           null,
           3,
           "out",
           0.8076923076923077,
           10,
           21
          ],
          [
           true,
           false,
           null,
           3,
           "out",
           0.6829268292682927,
           11,
           22
          ],
          [
           true,
           false,
           null,
           3,
           "out",
           0.4343065693430657,
           12,
           23
          ],
          [
           true,
           false,
           null,
           3,
           "out",
           0.8009259259259259,
           13,
           24
          ],
          [
           false,
           true,
           null,
           3,
           "out",
           0,
           "NA",
           25
          ],
          [
           false,
           true,
           null,
           3,
           "out",
           0,
           "NA",
           26
          ],
          [
           false,
           true,
           null,
           3,
           "out",
           0,
           "NA",
           27
          ],
          [
           true,
           false,
           null,
           3,
           "out",
           0.8651685393258427,
           14,
           28
          ],
          [
           true,
           false,
           null,
           3,
           "out",
           0.7789473684210526,
           15,
           29
          ],
          [
           true,
           false,
           null,
           3,
           "out",
           0.868020304568528,
           16,
           30
          ],
          [
           false,
           true,
           null,
           3,
           "out",
           0,
           "NA",
           31
          ],
          [
           false,
           true,
           null,
           3,
           "out",
           0,
           "NA",
           32
          ],
          [
           false,
           true,
           null,
           3,
           "out",
           0,
           "NA",
           33
          ],
          [
           true,
           false,
           null,
           3,
           "out",
           0.8494623655913979,
           17,
           34
          ],
          [
           true,
           false,
           null,
           3,
           "out",
           0.8587570621468926,
           18,
           35
          ],
          [
           true,
           false,
           null,
           3,
           "out",
           0.7373271889400922,
           19,
           36
          ],
          [
           true,
           false,
           null,
           3,
           "out",
           0.7100371747211895,
           20,
           37
          ],
          [
           false,
           true,
           null,
           3,
           "out",
           0,
           "NA",
           38
          ],
          [
           false,
           true,
           null,
           3,
           "out",
           0,
           "NA",
           39
          ],
          [
           false,
           true,
           null,
           3,
           "out",
           0,
           "NA",
           40
          ],
          [
           false,
           true,
           null,
           3,
           "out",
           0,
           "NA",
           41
          ],
          [
           true,
           false,
           null,
           3,
           "out",
           0.72,
           21,
           42
          ],
          [
           false,
           true,
           null,
           3,
           "out",
           0,
           "NA",
           43
          ],
          [
           false,
           true,
           null,
           3,
           "out",
           0,
           "NA",
           44
          ],
          [
           false,
           true,
           null,
           3,
           "out",
           0,
           "NA",
           45
          ],
          [
           true,
           false,
           null,
           3,
           "out",
           0.7834394904458599,
           22,
           46
          ],
          [
           true,
           false,
           null,
           3,
           "out",
           0.5605381165919282,
           23,
           47
          ],
          [
           false,
           true,
           null,
           3,
           "out",
           0,
           "NA",
           48
          ],
          [
           false,
           true,
           null,
           3,
           "out",
           0,
           "NA",
           49
          ],
          [
           false,
           true,
           null,
           3,
           "out",
           0,
           "NA",
           50
          ],
          [
           false,
           true,
           null,
           3,
           "out",
           0,
           "NA",
           51
          ],
          [
           false,
           true,
           null,
           3,
           "out",
           0,
           "NA",
           52
          ],
          [
           false,
           true,
           null,
           3,
           "out",
           0,
           "NA",
           53
          ],
          [
           true,
           false,
           null,
           3,
           "out",
           0.900523560209424,
           24,
           54
          ],
          [
           true,
           false,
           null,
           3,
           "out",
           0.8615384615384616,
           25,
           55
          ],
          [
           true,
           false,
           null,
           3,
           "out",
           0.6355555555555555,
           26,
           56
          ],
          [
           false,
           true,
           null,
           3,
           "out",
           0,
           "NA",
           57
          ],
          [
           false,
           true,
           null,
           3,
           "out",
           0,
           "NA",
           58
          ],
          [
           true,
           false,
           null,
           3,
           "out",
           0.8588957055214724,
           27,
           59
          ],
          [
           false,
           true,
           null,
           3,
           "out",
           0,
           "NA",
           60
          ],
          [
           false,
           true,
           null,
           3,
           "out",
           0,
           "NA",
           61
          ],
          [
           false,
           true,
           null,
           3,
           "out",
           0,
           "NA",
           62
          ],
          [
           false,
           true,
           null,
           3,
           "out",
           0,
           "NA",
           63
          ],
          [
           true,
           false,
           null,
           3,
           "out",
           0.8241206030150754,
           28,
           64
          ],
          [
           true,
           false,
           null,
           3,
           "out",
           0.810126582278481,
           29,
           65
          ],
          [
           false,
           true,
           null,
           3,
           "out",
           0,
           "NA",
           66
          ],
          [
           false,
           true,
           null,
           3,
           "out",
           0,
           "NA",
           67
          ],
          [
           false,
           true,
           null,
           3,
           "out",
           0,
           "NA",
           68
          ],
          [
           true,
           false,
           null,
           3,
           "out",
           0.7524752475247525,
           30,
           69
          ],
          [
           true,
           false,
           null,
           3,
           "out",
           0.8763440860215054,
           31,
           70
          ],
          [
           true,
           false,
           null,
           3,
           "out",
           0.504,
           32,
           71
          ],
          [
           false,
           true,
           null,
           3,
           "out",
           0,
           "NA",
           72
          ],
          [
           false,
           true,
           null,
           3,
           "out",
           0,
           "NA",
           73
          ],
          [
           true,
           false,
           null,
           3,
           "out",
           0.6484848484848484,
           33,
           74
          ],
          [
           false,
           true,
           null,
           3,
           "out",
           0,
           "NA",
           75
          ],
          [
           false,
           true,
           null,
           3,
           "out",
           0,
           "NA",
           76
          ],
          [
           false,
           true,
           null,
           3,
           "out",
           0,
           "NA",
           77
          ],
          [
           true,
           false,
           null,
           3,
           "out",
           0.4722222222222222,
           34,
           78
          ],
          [
           false,
           true,
           null,
           3,
           "out",
           0,
           "NA",
           79
          ],
          [
           false,
           true,
           null,
           3,
           "out",
           0,
           "NA",
           80
          ],
          [
           false,
           true,
           null,
           3,
           "out",
           0,
           "NA",
           81
          ],
          [
           false,
           true,
           null,
           3,
           "out",
           0,
           "NA",
           82
          ],
          [
           true,
           false,
           null,
           3,
           "out",
           0.7128712871287128,
           35,
           83
          ],
          [
           false,
           true,
           null,
           3,
           "out",
           0,
           "NA",
           84
          ],
          [
           true,
           false,
           null,
           3,
           "out",
           0.7004608294930875,
           36,
           85
          ],
          [
           true,
           false,
           null,
           3,
           "out",
           0.7631578947368421,
           37,
           86
          ],
          [
           false,
           true,
           null,
           3,
           "out",
           0,
           "NA",
           87
          ],
          [
           false,
           true,
           null,
           3,
           "out",
           0,
           "NA",
           88
          ],
          [
           false,
           true,
           null,
           3,
           "out",
           0,
           "NA",
           89
          ],
          [
           false,
           true,
           null,
           3,
           "out",
           0,
           "NA",
           90
          ],
          [
           true,
           false,
           null,
           3,
           "out",
           0.7515923566878981,
           38,
           91
          ],
          [
           true,
           false,
           null,
           3,
           "out",
           0.6619718309859155,
           39,
           92
          ],
          [
           true,
           false,
           null,
           3,
           "out",
           0.4972067039106145,
           40,
           93
          ],
          [
           false,
           true,
           null,
           3,
           "out",
           0,
           "NA",
           94
          ],
          [
           true,
           false,
           null,
           3,
           "out",
           0.7528735632183908,
           41,
           95
          ],
          [
           false,
           true,
           null,
           3,
           "out",
           0,
           "NA",
           96
          ],
          [
           false,
           true,
           null,
           3,
           "out",
           0,
           "NA",
           97
          ],
          [
           false,
           true,
           null,
           3,
           "out",
           0,
           "NA",
           98
          ],
          [
           false,
           true,
           null,
           3,
           "out",
           0,
           "NA",
           99
          ],
          [
           false,
           true,
           null,
           3,
           "out",
           0,
           "NA",
           100
          ],
          [
           true,
           false,
           null,
           3,
           "out",
           0.8342857142857143,
           42,
           101
          ],
          [
           false,
           true,
           null,
           3,
           "out",
           0,
           "NA",
           102
          ],
          [
           false,
           true,
           null,
           3,
           "out",
           0,
           "NA",
           103
          ],
          [
           true,
           false,
           null,
           3,
           "out",
           0.6409090909090909,
           43,
           104
          ],
          [
           false,
           true,
           null,
           3,
           "out",
           0,
           "NA",
           105
          ],
          [
           true,
           false,
           null,
           3,
           "out",
           0.7873563218390804,
           44,
           106
          ],
          [
           false,
           true,
           null,
           3,
           "out",
           0,
           "NA",
           107
          ],
          [
           false,
           true,
           null,
           3,
           "out",
           0,
           "NA",
           108
          ],
          [
           true,
           false,
           null,
           3,
           "out",
           0.719047619047619,
           45,
           109
          ],
          [
           false,
           true,
           null,
           3,
           "out",
           0,
           "NA",
           110
          ],
          [
           true,
           false,
           null,
           3,
           "out",
           0.9126984126984127,
           46,
           111
          ],
          [
           true,
           false,
           null,
           3,
           "out",
           0.8108108108108109,
           47,
           112
          ],
          [
           true,
           false,
           null,
           3,
           "out",
           0.698019801980198,
           48,
           113
          ],
          [
           true,
           false,
           null,
           3,
           "out",
           0.6827956989247311,
           49,
           114
          ],
          [
           true,
           false,
           null,
           3,
           "out",
           0.8910256410256411,
           50,
           115
          ],
          [
           true,
           false,
           null,
           3,
           "out",
           0.8046875,
           51,
           116
          ],
          [
           true,
           false,
           null,
           3,
           "out",
           0.6504854368932039,
           52,
           117
          ],
          [
           false,
           true,
           null,
           3,
           "out",
           0,
           "NA",
           118
          ],
          [
           true,
           false,
           null,
           3,
           "out",
           0.8615384615384616,
           53,
           119
          ],
          [
           true,
           false,
           null,
           3,
           "out",
           0.9662162162162162,
           54,
           120
          ],
          [
           false,
           true,
           null,
           3,
           "out",
           0,
           "NA",
           121
          ],
          [
           true,
           false,
           null,
           3,
           "out",
           0.8851351351351351,
           55,
           122
          ],
          [
           false,
           true,
           null,
           3,
           "out",
           0,
           "NA",
           123
          ],
          [
           false,
           true,
           null,
           3,
           "out",
           0,
           "NA",
           124
          ],
          [
           true,
           false,
           null,
           3,
           "out",
           0.5459459459459459,
           56,
           125
          ],
          [
           true,
           false,
           null,
           3,
           "out",
           0.847953216374269,
           57,
           126
          ],
          [
           false,
           true,
           null,
           3,
           "out",
           0,
           "NA",
           127
          ],
          [
           true,
           false,
           null,
           3,
           "out",
           0.6666666666666666,
           58,
           128
          ],
          [
           true,
           false,
           null,
           3,
           "out",
           0.9347826086956522,
           59,
           129
          ],
          [
           true,
           false,
           null,
           3,
           "out",
           0.7301587301587301,
           61,
           130
          ],
          [
           false,
           true,
           null,
           3,
           "out",
           0,
           "NA",
           131
          ],
          [
           false,
           true,
           null,
           3,
           "out",
           0,
           "NA",
           132
          ],
          [
           false,
           true,
           null,
           3,
           "out",
           0,
           "NA",
           133
          ],
          [
           true,
           false,
           null,
           3,
           "out",
           0.8251121076233184,
           63,
           134
          ],
          [
           false,
           true,
           null,
           3,
           "out",
           0,
           "NA",
           135
          ],
          [
           true,
           false,
           null,
           3,
           "out",
           0.9322033898305084,
           64,
           136
          ],
          [
           true,
           false,
           null,
           3,
           "out",
           0.544,
           65,
           137
          ],
          [
           false,
           true,
           null,
           3,
           "out",
           0,
           "NA",
           138
          ],
          [
           true,
           false,
           null,
           3,
           "out",
           0.7085427135678392,
           66,
           139
          ],
          [
           true,
           false,
           null,
           3,
           "out",
           0.6898148148148148,
           67,
           140
          ],
          [
           false,
           true,
           null,
           3,
           "out",
           0,
           "NA",
           141
          ],
          [
           false,
           true,
           null,
           3,
           "out",
           0,
           "NA",
           142
          ],
          [
           true,
           false,
           null,
           3,
           "out",
           0.8272251308900523,
           68,
           143
          ],
          [
           false,
           true,
           null,
           3,
           "out",
           0,
           "NA",
           144
          ],
          [
           false,
           true,
           null,
           3,
           "out",
           0,
           "NA",
           145
          ],
          [
           false,
           true,
           null,
           3,
           "out",
           0,
           "NA",
           146
          ],
          [
           false,
           true,
           null,
           3,
           "out",
           0,
           "NA",
           147
          ],
          [
           false,
           true,
           null,
           3,
           "out",
           0,
           "NA",
           148
          ],
          [
           true,
           false,
           null,
           3,
           "out",
           0.7265625,
           69,
           149
          ],
          [
           true,
           false,
           null,
           3,
           "out",
           0.9488636363636364,
           70,
           150
          ],
          [
           false,
           true,
           null,
           3,
           "out",
           0,
           "NA",
           151
          ],
          [
           true,
           false,
           null,
           3,
           "out",
           0.8757763975155279,
           71,
           152
          ],
          [
           true,
           false,
           null,
           3,
           "out",
           0.7357142857142858,
           72,
           153
          ],
          [
           false,
           true,
           null,
           3,
           "out",
           0,
           "NA",
           154
          ],
          [
           true,
           false,
           null,
           3,
           "out",
           0.5707547169811321,
           73,
           155
          ],
          [
           true,
           false,
           null,
           3,
           "out",
           0.8904109589041096,
           74,
           156
          ],
          [
           true,
           false,
           null,
           3,
           "out",
           0.7423312883435583,
           75,
           157
          ],
          [
           false,
           true,
           null,
           3,
           "out",
           0,
           "NA",
           158
          ],
          [
           false,
           true,
           null,
           3,
           "out",
           0,
           "NA",
           159
          ],
          [
           true,
           false,
           null,
           3,
           "out",
           0.8921568627450981,
           76,
           160
          ],
          [
           true,
           false,
           null,
           3,
           "out",
           0.7477064220183486,
           77,
           161
          ],
          [
           false,
           true,
           null,
           3,
           "out",
           0,
           "NA",
           162
          ],
          [
           false,
           true,
           null,
           3,
           "out",
           0,
           "NA",
           163
          ],
          [
           false,
           true,
           null,
           3,
           "out",
           0,
           "NA",
           164
          ],
          [
           true,
           false,
           null,
           3,
           "out",
           0.8548387096774194,
           78,
           165
          ],
          [
           false,
           true,
           null,
           3,
           "out",
           0,
           "NA",
           166
          ],
          [
           true,
           false,
           null,
           3,
           "out",
           0.7450980392156863,
           79,
           167
          ],
          [
           true,
           false,
           null,
           3,
           "out",
           0.9209039548022598,
           80,
           168
          ],
          [
           true,
           false,
           null,
           3,
           "out",
           0.838150289017341,
           81,
           169
          ],
          [
           true,
           false,
           null,
           3,
           "out",
           0.6801801801801802,
           82,
           170
          ],
          [
           false,
           true,
           null,
           3,
           "out",
           0,
           "NA",
           171
          ],
          [
           true,
           false,
           null,
           3,
           "out",
           0.9464285714285714,
           83,
           172
          ],
          [
           false,
           true,
           null,
           3,
           "out",
           0,
           "NA",
           173
          ],
          [
           true,
           false,
           null,
           3,
           "out",
           0.8165137614678899,
           84,
           174
          ],
          [
           false,
           true,
           null,
           3,
           "out",
           0,
           "NA",
           175
          ],
          [
           false,
           true,
           null,
           3,
           "out",
           0,
           "NA",
           176
          ],
          [
           false,
           true,
           null,
           3,
           "out",
           0,
           "NA",
           177
          ],
          [
           false,
           true,
           null,
           3,
           "out",
           0,
           "NA",
           178
          ],
          [
           true,
           false,
           null,
           3,
           "out",
           0.7089201877934272,
           85,
           179
          ],
          [
           false,
           true,
           null,
           3,
           "out",
           0,
           "NA",
           180
          ],
          [
           false,
           true,
           null,
           3,
           "out",
           0,
           "NA",
           181
          ],
          [
           false,
           true,
           null,
           3,
           "out",
           0,
           "NA",
           182
          ],
          [
           true,
           false,
           null,
           3,
           "out",
           0.9467455621301775,
           86,
           183
          ],
          [
           true,
           false,
           null,
           3,
           "out",
           0.7562189054726368,
           87,
           184
          ],
          [
           false,
           true,
           null,
           3,
           "out",
           0,
           "NA",
           185
          ],
          [
           true,
           false,
           null,
           3,
           "out",
           0.8855421686746988,
           88,
           186
          ],
          [
           true,
           false,
           null,
           3,
           "out",
           0.745945945945946,
           89,
           187
          ],
          [
           false,
           true,
           null,
           3,
           "out",
           0,
           "NA",
           188
          ],
          [
           false,
           true,
           null,
           3,
           "out",
           0,
           "NA",
           189
          ],
          [
           true,
           false,
           null,
           3,
           "out",
           0.7486033519553073,
           90,
           190
          ],
          [
           false,
           true,
           null,
           3,
           "out",
           0,
           "NA",
           191
          ],
          [
           false,
           true,
           null,
           3,
           "out",
           0,
           "NA",
           192
          ],
          [
           false,
           true,
           null,
           3,
           "out",
           0,
           "NA",
           193
          ],
          [
           false,
           true,
           null,
           3,
           "out",
           0,
           "NA",
           194
          ],
          [
           true,
           false,
           null,
           3,
           "out",
           0.9477611940298507,
           91,
           195
          ],
          [
           false,
           true,
           null,
           3,
           "out",
           0,
           "NA",
           196
          ],
          [
           false,
           true,
           null,
           3,
           "out",
           0,
           "NA",
           197
          ],
          [
           true,
           false,
           null,
           3,
           "out",
           0.8586387434554974,
           92,
           198
          ],
          [
           false,
           true,
           null,
           3,
           "out",
           0,
           "NA",
           199
          ],
          [
           true,
           false,
           null,
           3,
           "out",
           0.8702702702702703,
           93,
           200
          ],
          [
           false,
           true,
           null,
           3,
           "out",
           0,
           "NA",
           201
          ],
          [
           true,
           false,
           null,
           3,
           "out",
           0.6634615384615384,
           94,
           202
          ],
          [
           false,
           true,
           null,
           3,
           "out",
           0,
           "NA",
           203
          ],
          [
           false,
           true,
           null,
           3,
           "out",
           0,
           "NA",
           204
          ],
          [
           false,
           true,
           null,
           3,
           "out",
           0,
           "NA",
           205
          ],
          [
           false,
           true,
           null,
           3,
           "out",
           0,
           "NA",
           206
          ],
          [
           true,
           false,
           null,
           3,
           "out",
           0.8411764705882353,
           95,
           207
          ],
          [
           true,
           false,
           null,
           3,
           "out",
           0.5990566037735849,
           96,
           208
          ],
          [
           true,
           false,
           null,
           3,
           "out",
           0.6496815286624203,
           97,
           209
          ],
          [
           true,
           false,
           null,
           3,
           "out",
           0.7951807228915663,
           98,
           210
          ],
          [
           false,
           true,
           null,
           3,
           "out",
           0,
           "NA",
           211
          ],
          [
           false,
           true,
           null,
           3,
           "out",
           0,
           "NA",
           212
          ],
          [
           false,
           true,
           null,
           3,
           "out",
           0,
           "NA",
           213
          ],
          [
           false,
           true,
           null,
           3,
           "out",
           0,
           "NA",
           214
          ],
          [
           true,
           false,
           null,
           3,
           "out",
           0.8102189781021898,
           99,
           215
          ],
          [
           true,
           false,
           null,
           3,
           "out",
           0.7,
           100,
           216
          ],
          [
           false,
           true,
           null,
           3,
           "out",
           0,
           "NA",
           217
          ],
          [
           false,
           true,
           null,
           3,
           "out",
           0,
           "NA",
           218
          ],
          [
           true,
           false,
           null,
           3,
           "out",
           0.9210526315789473,
           101,
           219
          ],
          [
           false,
           true,
           null,
           3,
           "out",
           0,
           "NA",
           220
          ],
          [
           false,
           true,
           null,
           3,
           "out",
           0,
           "NA",
           221
          ],
          [
           false,
           true,
           null,
           3,
           "out",
           0,
           "NA",
           222
          ],
          [
           false,
           true,
           null,
           3,
           "out",
           0,
           "NA",
           223
          ],
          [
           false,
           true,
           null,
           3,
           "out",
           0,
           "NA",
           224
          ],
          [
           true,
           false,
           null,
           3,
           "out",
           0.9239130434782609,
           102,
           225
          ],
          [
           false,
           true,
           null,
           3,
           "out",
           0,
           "NA",
           226
          ],
          [
           false,
           true,
           null,
           3,
           "out",
           0,
           "NA",
           227
          ],
          [
           true,
           false,
           null,
           3,
           "out",
           0.9319727891156463,
           103,
           228
          ],
          [
           false,
           true,
           null,
           3,
           "out",
           0,
           "NA",
           229
          ],
          [
           false,
           true,
           null,
           3,
           "out",
           0,
           "NA",
           230
          ],
          [
           false,
           true,
           null,
           3,
           "out",
           0,
           "NA",
           231
          ],
          [
           true,
           false,
           null,
           3,
           "out",
           0.5580110497237569,
           104,
           232
          ],
          [
           false,
           true,
           null,
           3,
           "out",
           0,
           "NA",
           233
          ],
          [
           true,
           false,
           null,
           3,
           "out",
           0.8192771084337349,
           105,
           234
          ],
          [
           false,
           true,
           null,
           3,
           "out",
           0,
           "NA",
           235
          ],
          [
           true,
           false,
           null,
           3,
           "out",
           0.40198511166253104,
           106,
           236
          ],
          [
           true,
           false,
           null,
           3,
           "out",
           0.7290322580645161,
           107,
           237
          ],
          [
           true,
           false,
           null,
           3,
           "out",
           0.775,
           108,
           238
          ],
          [
           false,
           true,
           null,
           3,
           "out",
           0,
           "NA",
           239
          ],
          [
           true,
           false,
           null,
           3,
           "out",
           0.9583333333333334,
           109,
           240
          ],
          [
           false,
           true,
           null,
           3,
           "out",
           0,
           "NA",
           241
          ],
          [
           false,
           true,
           null,
           3,
           "out",
           0,
           "NA",
           242
          ],
          [
           false,
           true,
           null,
           3,
           "out",
           0,
           "NA",
           243
          ],
          [
           true,
           false,
           null,
           3,
           "out",
           0.7112299465240641,
           110,
           244
          ],
          [
           true,
           false,
           null,
           3,
           "out",
           0.7485714285714286,
           111,
           245
          ],
          [
           false,
           true,
           null,
           3,
           "out",
           0,
           "NA",
           246
          ],
          [
           false,
           true,
           null,
           3,
           "out",
           0,
           "NA",
           247
          ],
          [
           false,
           true,
           null,
           3,
           "out",
           0,
           "NA",
           248
          ],
          [
           true,
           false,
           null,
           3,
           "out",
           0.7142857142857143,
           112,
           249
          ],
          [
           false,
           true,
           null,
           3,
           "out",
           0,
           "NA",
           250
          ],
          [
           true,
           false,
           null,
           3,
           "out",
           0.943127962085308,
           113,
           251
          ],
          [
           false,
           true,
           null,
           3,
           "out",
           0,
           "NA",
           252
          ],
          [
           true,
           false,
           null,
           3,
           "out",
           0.7426900584795322,
           114,
           253
          ],
          [
           false,
           true,
           null,
           3,
           "out",
           0,
           "NA",
           254
          ],
          [
           false,
           true,
           null,
           3,
           "out",
           0,
           "NA",
           255
          ],
          [
           true,
           false,
           null,
           3,
           "out",
           0.7297297297297297,
           115,
           256
          ],
          [
           false,
           true,
           null,
           3,
           "out",
           0,
           "NA",
           257
          ],
          [
           true,
           false,
           null,
           3,
           "out",
           0.8857142857142857,
           116,
           258
          ],
          [
           true,
           false,
           null,
           3,
           "out",
           0.8382352941176471,
           117,
           259
          ],
          [
           true,
           false,
           null,
           3,
           "out",
           0.76,
           118,
           260
          ],
          [
           false,
           true,
           null,
           3,
           "out",
           0,
           "NA",
           261
          ],
          [
           false,
           true,
           null,
           3,
           "out",
           0,
           "NA",
           262
          ],
          [
           false,
           true,
           null,
           3,
           "out",
           0,
           "NA",
           263
          ],
          [
           true,
           false,
           null,
           3,
           "out",
           0.7745664739884393,
           119,
           264
          ],
          [
           true,
           false,
           null,
           3,
           "out",
           0.8904109589041096,
           120,
           265
          ],
          [
           true,
           false,
           null,
           3,
           "out",
           0.978021978021978,
           121,
           266
          ],
          [
           true,
           false,
           null,
           3,
           "out",
           0.7304347826086957,
           122,
           267
          ],
          [
           false,
           true,
           null,
           3,
           "out",
           0,
           "NA",
           268
          ],
          [
           true,
           false,
           null,
           3,
           "out",
           0.8255813953488372,
           123,
           269
          ],
          [
           true,
           false,
           null,
           3,
           "out",
           0.8079470198675497,
           124,
           270
          ],
          [
           true,
           false,
           null,
           3,
           "out",
           0.6781609195402298,
           125,
           271
          ],
          [
           true,
           false,
           null,
           3,
           "out",
           0.8214285714285714,
           126,
           272
          ],
          [
           true,
           false,
           null,
           3,
           "out",
           0.8525345622119815,
           127,
           273
          ],
          [
           true,
           false,
           null,
           3,
           "out",
           0.8923076923076924,
           128,
           274
          ],
          [
           false,
           true,
           null,
           3,
           "out",
           0,
           "NA",
           275
          ],
          [
           false,
           true,
           null,
           3,
           "out",
           0,
           "NA",
           276
          ],
          [
           false,
           true,
           null,
           3,
           "out",
           0,
           "NA",
           277
          ],
          [
           false,
           true,
           null,
           3,
           "out",
           0,
           "NA",
           278
          ],
          [
           true,
           false,
           null,
           3,
           "out",
           0.8527918781725888,
           129,
           279
          ],
          [
           false,
           true,
           null,
           3,
           "out",
           0,
           "NA",
           280
          ],
          [
           false,
           true,
           null,
           3,
           "out",
           0,
           "NA",
           281
          ],
          [
           true,
           false,
           null,
           3,
           "out",
           0.7659574468085106,
           130,
           282
          ],
          [
           true,
           false,
           null,
           3,
           "out",
           0.7727272727272727,
           131,
           283
          ],
          [
           false,
           true,
           null,
           3,
           "out",
           0,
           "NA",
           284
          ],
          [
           true,
           false,
           null,
           3,
           "out",
           0.904,
           132,
           285
          ],
          [
           true,
           false,
           null,
           3,
           "out",
           0.8455882352941176,
           133,
           286
          ],
          [
           false,
           true,
           null,
           3,
           "out",
           0,
           "NA",
           287
          ],
          [
           true,
           false,
           null,
           3,
           "out",
           0.7169230769230769,
           134,
           288
          ],
          [
           false,
           true,
           null,
           3,
           "out",
           0,
           "NA",
           289
          ],
          [
           false,
           true,
           null,
           3,
           "out",
           0,
           "NA",
           290
          ],
          [
           false,
           true,
           null,
           3,
           "out",
           0,
           "NA",
           291
          ],
          [
           false,
           true,
           null,
           3,
           "out",
           0,
           "NA",
           292
          ],
          [
           false,
           true,
           null,
           3,
           "out",
           0,
           "NA",
           293
          ],
          [
           true,
           false,
           null,
           3,
           "out",
           0.9166666666666666,
           135,
           294
          ],
          [
           false,
           true,
           null,
           3,
           "out",
           0,
           "NA",
           295
          ],
          [
           false,
           true,
           null,
           3,
           "out",
           0,
           "NA",
           296
          ],
          [
           false,
           true,
           null,
           3,
           "out",
           0,
           "NA",
           297
          ],
          [
           false,
           true,
           null,
           3,
           "out",
           0,
           "NA",
           298
          ],
          [
           false,
           true,
           null,
           3,
           "out",
           0,
           "NA",
           299
          ],
          [
           true,
           false,
           null,
           3,
           "out",
           0.6818181818181818,
           136,
           300
          ],
          [
           false,
           true,
           null,
           3,
           "out",
           0,
           "NA",
           301
          ],
          [
           true,
           false,
           null,
           3,
           "out",
           0.9479768786127167,
           137,
           302
          ],
          [
           false,
           true,
           null,
           3,
           "out",
           0,
           "NA",
           303
          ],
          [
           true,
           false,
           null,
           3,
           "out",
           0.7692307692307693,
           138,
           304
          ],
          [
           false,
           true,
           null,
           3,
           "out",
           0,
           "NA",
           305
          ],
          [
           false,
           true,
           null,
           3,
           "out",
           0,
           "NA",
           306
          ],
          [
           false,
           true,
           null,
           3,
           "out",
           0,
           "NA",
           307
          ],
          [
           false,
           true,
           null,
           3,
           "out",
           0,
           "NA",
           308
          ],
          [
           true,
           false,
           null,
           3,
           "out",
           0.35051546391752575,
           139,
           309
          ],
          [
           true,
           false,
           null,
           3,
           "out",
           0.6597938144329897,
           140,
           310
          ],
          [
           true,
           false,
           null,
           3,
           "out",
           0.849624060150376,
           141,
           311
          ],
          [
           true,
           false,
           null,
           3,
           "out",
           0.8671328671328671,
           142,
           312
          ],
          [
           false,
           true,
           null,
           3,
           "out",
           0,
           "NA",
           313
          ],
          [
           false,
           true,
           null,
           3,
           "out",
           0,
           "NA",
           314
          ],
          [
           false,
           true,
           null,
           3,
           "out",
           0,
           "NA",
           315
          ],
          [
           false,
           true,
           null,
           3,
           "out",
           0,
           "NA",
           316
          ],
          [
           true,
           false,
           null,
           3,
           "out",
           0.4716312056737589,
           143,
           317
          ],
          [
           true,
           false,
           null,
           3,
           "out",
           0.8797814207650273,
           144,
           318
          ],
          [
           false,
           true,
           null,
           3,
           "out",
           0,
           "NA",
           319
          ],
          [
           false,
           true,
           null,
           3,
           "out",
           0,
           "NA",
           320
          ],
          [
           true,
           false,
           null,
           3,
           "out",
           0.8707865168539326,
           145,
           321
          ],
          [
           true,
           false,
           null,
           3,
           "out",
           0.6604938271604939,
           146,
           322
          ],
          [
           false,
           true,
           null,
           3,
           "out",
           0,
           "NA",
           323
          ],
          [
           true,
           false,
           null,
           3,
           "out",
           0.7828571428571428,
           147,
           324
          ],
          [
           false,
           true,
           null,
           3,
           "out",
           0,
           "NA",
           325
          ],
          [
           true,
           false,
           null,
           3,
           "out",
           0.6871794871794872,
           148,
           326
          ],
          [
           false,
           true,
           null,
           3,
           "out",
           0,
           "NA",
           327
          ],
          [
           false,
           true,
           null,
           3,
           "out",
           0,
           "NA",
           328
          ],
          [
           false,
           true,
           null,
           3,
           "out",
           0,
           "NA",
           329
          ],
          [
           false,
           true,
           null,
           3,
           "out",
           0,
           "NA",
           330
          ],
          [
           false,
           true,
           null,
           3,
           "out",
           0,
           "NA",
           331
          ],
          [
           false,
           true,
           null,
           3,
           "out",
           0,
           "NA",
           332
          ],
          [
           true,
           false,
           null,
           3,
           "out",
           0.6758241758241759,
           149,
           333
          ],
          [
           true,
           false,
           null,
           3,
           "out",
           0.6431924882629108,
           150,
           334
          ],
          [
           false,
           true,
           null,
           3,
           "out",
           0,
           "NA",
           335
          ],
          [
           true,
           false,
           null,
           3,
           "out",
           0.8894736842105263,
           151,
           336
          ],
          [
           false,
           true,
           null,
           3,
           "out",
           0,
           "NA",
           337
          ],
          [
           true,
           false,
           null,
           3,
           "out",
           0.7184873949579832,
           152,
           338
          ],
          [
           true,
           false,
           null,
           3,
           "out",
           0.8539325842696629,
           153,
           339
          ],
          [
           false,
           true,
           null,
           3,
           "out",
           0,
           "NA",
           340
          ],
          [
           false,
           true,
           null,
           3,
           "out",
           0,
           "NA",
           341
          ],
          [
           true,
           false,
           null,
           3,
           "out",
           0.8043478260869565,
           154,
           342
          ],
          [
           false,
           true,
           null,
           3,
           "out",
           0,
           "NA",
           343
          ],
          [
           false,
           true,
           null,
           3,
           "out",
           0,
           "NA",
           344
          ],
          [
           true,
           false,
           null,
           3,
           "out",
           0.6844444444444444,
           155,
           345
          ],
          [
           true,
           false,
           null,
           3,
           "out",
           0.7485714285714286,
           156,
           346
          ],
          [
           false,
           true,
           null,
           3,
           "out",
           0,
           "NA",
           347
          ],
          [
           false,
           true,
           null,
           3,
           "out",
           0,
           "NA",
           348
          ],
          [
           false,
           true,
           null,
           3,
           "out",
           0,
           "NA",
           349
          ],
          [
           true,
           false,
           null,
           3,
           "out",
           0.9386503067484663,
           157,
           350
          ],
          [
           false,
           true,
           null,
           3,
           "out",
           0,
           "NA",
           351
          ],
          [
           true,
           false,
           null,
           3,
           "out",
           0.900709219858156,
           158,
           352
          ],
          [
           false,
           true,
           null,
           3,
           "out",
           0,
           "NA",
           353
          ],
          [
           false,
           true,
           null,
           3,
           "out",
           0,
           "NA",
           354
          ],
          [
           false,
           true,
           null,
           3,
           "out",
           0,
           "NA",
           355
          ],
          [
           false,
           true,
           null,
           3,
           "out",
           0,
           "NA",
           356
          ],
          [
           true,
           false,
           null,
           3,
           "out",
           0.7204301075268817,
           159,
           357
          ],
          [
           false,
           true,
           null,
           3,
           "out",
           0,
           "NA",
           358
          ],
          [
           false,
           true,
           null,
           3,
           "out",
           0,
           "NA",
           359
          ],
          [
           false,
           true,
           null,
           3,
           "out",
           0,
           "NA",
           360
          ],
          [
           true,
           false,
           null,
           3,
           "out",
           0.639344262295082,
           160,
           361
          ],
          [
           true,
           false,
           null,
           3,
           "out",
           0.7976878612716763,
           161,
           362
          ],
          [
           true,
           false,
           null,
           3,
           "out",
           0.8245614035087719,
           162,
           363
          ],
          [
           true,
           false,
           null,
           3,
           "out",
           0.6728971962616822,
           163,
           364
          ],
          [
           true,
           false,
           null,
           3,
           "out",
           0.7712418300653595,
           164,
           365
          ],
          [
           false,
           true,
           null,
           3,
           "out",
           0,
           "NA",
           366
          ],
          [
           true,
           false,
           null,
           3,
           "out",
           0.8272251308900523,
           165,
           367
          ],
          [
           false,
           true,
           null,
           3,
           "out",
           0,
           "NA",
           368
          ],
          [
           true,
           false,
           null,
           3,
           "out",
           0.8883248730964467,
           166,
           369
          ],
          [
           true,
           false,
           null,
           3,
           "out",
           0.7946428571428571,
           167,
           370
          ],
          [
           true,
           false,
           null,
           3,
           "out",
           0.7467248908296943,
           168,
           371
          ],
          [
           false,
           true,
           null,
           3,
           "out",
           0,
           "NA",
           372
          ],
          [
           true,
           false,
           null,
           3,
           "out",
           0.8387096774193549,
           169,
           373
          ],
          [
           true,
           false,
           null,
           3,
           "out",
           0.7808219178082192,
           170,
           374
          ],
          [
           true,
           false,
           null,
           3,
           "out",
           0.7318181818181818,
           171,
           375
          ],
          [
           true,
           false,
           null,
           3,
           "out",
           0.9323308270676691,
           172,
           376
          ],
          [
           false,
           true,
           null,
           3,
           "out",
           0,
           "NA",
           377
          ],
          [
           false,
           true,
           null,
           3,
           "out",
           0,
           "NA",
           378
          ],
          [
           false,
           true,
           null,
           3,
           "out",
           0,
           "NA",
           379
          ],
          [
           false,
           true,
           null,
           3,
           "out",
           0,
           "NA",
           380
          ],
          [
           true,
           false,
           null,
           3,
           "out",
           0.7702127659574468,
           173,
           381
          ],
          [
           true,
           false,
           null,
           3,
           "out",
           0.6548223350253807,
           174,
           382
          ],
          [
           false,
           true,
           null,
           3,
           "out",
           0,
           "NA",
           383
          ],
          [
           false,
           true,
           null,
           3,
           "out",
           0,
           "NA",
           384
          ],
          [
           false,
           true,
           null,
           3,
           "out",
           0,
           "NA",
           385
          ],
          [
           false,
           true,
           null,
           3,
           "out",
           0,
           "NA",
           386
          ],
          [
           false,
           true,
           null,
           3,
           "out",
           0,
           "NA",
           387
          ],
          [
           false,
           true,
           null,
           3,
           "out",
           0,
           "NA",
           388
          ],
          [
           true,
           false,
           null,
           3,
           "out",
           0.7541899441340782,
           175,
           389
          ],
          [
           false,
           true,
           null,
           3,
           "out",
           0,
           "NA",
           390
          ],
          [
           true,
           false,
           null,
           3,
           "out",
           0.9593023255813954,
           176,
           391
          ],
          [
           true,
           false,
           null,
           3,
           "out",
           0.7359550561797753,
           177,
           392
          ],
          [
           true,
           false,
           null,
           3,
           "out",
           0.903448275862069,
           178,
           393
          ],
          [
           false,
           true,
           null,
           3,
           "out",
           0,
           "NA",
           394
          ],
          [
           true,
           false,
           null,
           3,
           "out",
           0.7819548872180451,
           179,
           395
          ],
          [
           true,
           false,
           null,
           3,
           "out",
           0.6905829596412556,
           180,
           396
          ],
          [
           false,
           true,
           null,
           3,
           "out",
           0,
           "NA",
           397
          ],
          [
           false,
           true,
           null,
           3,
           "out",
           0,
           "NA",
           398
          ],
          [
           true,
           false,
           null,
           3,
           "out",
           0.7132867132867133,
           181,
           399
          ],
          [
           true,
           false,
           null,
           3,
           "out",
           0.9375,
           182,
           400
          ],
          [
           false,
           true,
           null,
           3,
           "out",
           0,
           "NA",
           401
          ],
          [
           false,
           true,
           null,
           3,
           "out",
           0,
           "NA",
           402
          ],
          [
           false,
           true,
           null,
           3,
           "out",
           0,
           "NA",
           403
          ],
          [
           false,
           true,
           null,
           3,
           "out",
           0,
           "NA",
           404
          ],
          [
           false,
           true,
           null,
           3,
           "out",
           0,
           "NA",
           405
          ],
          [
           true,
           false,
           null,
           3,
           "out",
           0.67,
           183,
           406
          ],
          [
           true,
           false,
           null,
           3,
           "out",
           0.889763779527559,
           184,
           407
          ],
          [
           true,
           false,
           null,
           3,
           "out",
           0.8341968911917098,
           185,
           408
          ],
          [
           true,
           false,
           null,
           3,
           "out",
           0.7872340425531915,
           186,
           409
          ],
          [
           true,
           false,
           null,
           3,
           "out",
           0.9415204678362573,
           187,
           410
          ],
          [
           true,
           false,
           null,
           3,
           "out",
           0.6722222222222223,
           188,
           411
          ],
          [
           false,
           true,
           null,
           3,
           "out",
           0,
           "NA",
           412
          ],
          [
           false,
           true,
           null,
           3,
           "out",
           0,
           "NA",
           413
          ],
          [
           false,
           true,
           null,
           3,
           "out",
           0,
           "NA",
           414
          ],
          [
           false,
           true,
           null,
           3,
           "out",
           0,
           "NA",
           415
          ],
          [
           true,
           false,
           null,
           3,
           "out",
           0.7878787878787878,
           189,
           416
          ],
          [
           true,
           false,
           null,
           3,
           "out",
           0.8031088082901554,
           190,
           417
          ],
          [
           false,
           true,
           null,
           3,
           "out",
           0,
           "NA",
           418
          ],
          [
           true,
           false,
           null,
           3,
           "out",
           0.7636363636363637,
           191,
           419
          ],
          [
           false,
           true,
           null,
           3,
           "out",
           0,
           "NA",
           420
          ],
          [
           false,
           true,
           null,
           3,
           "out",
           0,
           "NA",
           421
          ],
          [
           true,
           false,
           null,
           3,
           "out",
           0.9661016949152542,
           192,
           422
          ],
          [
           false,
           true,
           null,
           3,
           "out",
           0,
           "NA",
           423
          ],
          [
           false,
           true,
           null,
           3,
           "out",
           0,
           "NA",
           424
          ],
          [
           true,
           false,
           null,
           3,
           "out",
           0.8255813953488372,
           193,
           425
          ],
          [
           false,
           true,
           null,
           3,
           "out",
           0,
           "NA",
           426
          ],
          [
           true,
           false,
           null,
           3,
           "out",
           0.8722222222222222,
           194,
           427
          ],
          [
           true,
           false,
           null,
           3,
           "out",
           0.5829596412556054,
           195,
           428
          ],
          [
           false,
           true,
           null,
           3,
           "out",
           0,
           "NA",
           429
          ],
          [
           false,
           true,
           null,
           3,
           "out",
           0,
           "NA",
           430
          ],
          [
           true,
           false,
           null,
           3,
           "out",
           0.7953488372093023,
           196,
           431
          ],
          [
           false,
           true,
           null,
           3,
           "out",
           0,
           "NA",
           432
          ],
          [
           true,
           false,
           null,
           3,
           "out",
           0.8960396039603961,
           197,
           433
          ],
          [
           false,
           true,
           null,
           3,
           "out",
           0,
           "NA",
           434
          ],
          [
           false,
           true,
           null,
           3,
           "out",
           0,
           "NA",
           435
          ],
          [
           false,
           true,
           null,
           3,
           "out",
           0,
           "NA",
           436
          ],
          [
           false,
           true,
           null,
           3,
           "out",
           0,
           "NA",
           437
          ],
          [
           true,
           false,
           null,
           3,
           "out",
           0.8197674418604651,
           198,
           438
          ],
          [
           false,
           true,
           null,
           3,
           "out",
           0,
           "NA",
           439
          ],
          [
           false,
           true,
           null,
           3,
           "out",
           0,
           "NA",
           440
          ],
          [
           true,
           false,
           null,
           3,
           "out",
           0.925,
           199,
           441
          ],
          [
           true,
           false,
           null,
           3,
           "out",
           0.935064935064935,
           200,
           442
          ],
          [
           false,
           true,
           null,
           3,
           "out",
           0,
           "NA",
           443
          ],
          [
           true,
           false,
           null,
           3,
           "out",
           0.9109947643979057,
           201,
           444
          ],
          [
           false,
           true,
           null,
           3,
           "out",
           0,
           "NA",
           445
          ],
          [
           false,
           true,
           null,
           3,
           "out",
           0,
           "NA",
           446
          ],
          [
           true,
           false,
           null,
           3,
           "out",
           0.7403846153846154,
           202,
           447
          ],
          [
           true,
           false,
           null,
           3,
           "out",
           0.7368421052631579,
           203,
           448
          ],
          [
           true,
           false,
           null,
           3,
           "out",
           0.6517412935323383,
           204,
           449
          ],
          [
           false,
           true,
           null,
           3,
           "out",
           0,
           "NA",
           450
          ],
          [
           false,
           true,
           null,
           3,
           "out",
           0,
           "NA",
           451
          ],
          [
           true,
           false,
           null,
           3,
           "out",
           0.7900552486187845,
           205,
           452
          ],
          [
           true,
           false,
           null,
           3,
           "out",
           0.8275862068965517,
           206,
           453
          ],
          [
           false,
           true,
           null,
           3,
           "out",
           0,
           "NA",
           454
          ],
          [
           false,
           true,
           null,
           3,
           "out",
           0,
           "NA",
           455
          ],
          [
           true,
           false,
           null,
           3,
           "out",
           0.9337748344370861,
           207,
           456
          ],
          [
           false,
           true,
           null,
           3,
           "out",
           0,
           "NA",
           457
          ],
          [
           false,
           true,
           null,
           3,
           "out",
           0,
           "NA",
           458
          ],
          [
           true,
           false,
           null,
           3,
           "out",
           0.8860759493670886,
           208,
           459
          ],
          [
           true,
           false,
           null,
           3,
           "out",
           0.7891156462585034,
           209,
           460
          ],
          [
           true,
           false,
           null,
           3,
           "out",
           0.7654320987654321,
           210,
           461
          ],
          [
           false,
           true,
           null,
           3,
           "out",
           0,
           "NA",
           462
          ],
          [
           false,
           true,
           null,
           3,
           "out",
           0,
           "NA",
           463
          ],
          [
           false,
           true,
           null,
           3,
           "out",
           0,
           "NA",
           464
          ],
          [
           true,
           false,
           null,
           3,
           "out",
           0.9081081081081082,
           211,
           465
          ],
          [
           false,
           true,
           null,
           3,
           "out",
           0,
           "NA",
           466
          ],
          [
           true,
           false,
           null,
           3,
           "out",
           0.8277511961722488,
           212,
           467
          ],
          [
           false,
           true,
           null,
           3,
           "out",
           0,
           "NA",
           468
          ],
          [
           false,
           true,
           null,
           3,
           "out",
           0,
           "NA",
           469
          ],
          [
           false,
           true,
           null,
           3,
           "out",
           0,
           "NA",
           470
          ],
          [
           false,
           true,
           null,
           3,
           "out",
           0,
           "NA",
           471
          ],
          [
           false,
           true,
           null,
           3,
           "out",
           0,
           "NA",
           472
          ],
          [
           false,
           true,
           null,
           3,
           "out",
           0,
           "NA",
           473
          ],
          [
           false,
           true,
           null,
           3,
           "out",
           0,
           "NA",
           474
          ],
          [
           false,
           true,
           null,
           3,
           "out",
           0,
           "NA",
           475
          ],
          [
           true,
           false,
           null,
           3,
           "out",
           0.7528735632183908,
           213,
           476
          ],
          [
           true,
           false,
           null,
           3,
           "out",
           0.8127853881278538,
           214,
           477
          ],
          [
           true,
           false,
           null,
           3,
           "out",
           0.6521739130434783,
           215,
           478
          ],
          [
           false,
           true,
           null,
           3,
           "out",
           0,
           "NA",
           479
          ],
          [
           false,
           true,
           null,
           3,
           "out",
           0,
           "NA",
           480
          ],
          [
           true,
           false,
           null,
           3,
           "out",
           0.7819905213270142,
           216,
           481
          ],
          [
           false,
           true,
           null,
           3,
           "out",
           0,
           "NA",
           482
          ],
          [
           false,
           true,
           null,
           3,
           "out",
           0,
           "NA",
           483
          ],
          [
           false,
           true,
           null,
           3,
           "out",
           0,
           "NA",
           484
          ],
          [
           false,
           true,
           null,
           3,
           "out",
           0,
           "NA",
           485
          ],
          [
           true,
           false,
           null,
           3,
           "out",
           0.7580645161290323,
           217,
           486
          ],
          [
           true,
           false,
           null,
           3,
           "out",
           0.7914438502673797,
           218,
           487
          ],
          [
           true,
           false,
           null,
           3,
           "out",
           0.94375,
           219,
           488
          ],
          [
           false,
           true,
           null,
           3,
           "out",
           0,
           "NA",
           489
          ],
          [
           false,
           true,
           null,
           3,
           "out",
           0,
           "NA",
           490
          ],
          [
           true,
           false,
           null,
           3,
           "out",
           0.7474226804123711,
           220,
           491
          ],
          [
           true,
           false,
           null,
           3,
           "out",
           0.8470588235294118,
           221,
           492
          ],
          [
           false,
           true,
           null,
           3,
           "out",
           0,
           "NA",
           493
          ],
          [
           false,
           true,
           null,
           3,
           "out",
           0,
           "NA",
           494
          ],
          [
           false,
           true,
           null,
           3,
           "out",
           0,
           "NA",
           495
          ],
          [
           false,
           true,
           null,
           3,
           "out",
           0,
           "NA",
           496
          ],
          [
           true,
           false,
           null,
           3,
           "out",
           0.7877094972067039,
           222,
           497
          ],
          [
           false,
           true,
           null,
           3,
           "out",
           0,
           "NA",
           498
          ],
          [
           true,
           false,
           null,
           3,
           "out",
           0.8188405797101449,
           223,
           499
          ],
          [
           false,
           true,
           null,
           3,
           "out",
           0,
           "NA",
           500
          ],
          [
           false,
           true,
           null,
           3,
           "out",
           0,
           "NA",
           501
          ],
          [
           true,
           false,
           null,
           3,
           "out",
           0.8784530386740331,
           224,
           502
          ],
          [
           false,
           true,
           null,
           3,
           "out",
           0,
           "NA",
           503
          ],
          [
           true,
           false,
           null,
           3,
           "out",
           0.637065637065637,
           225,
           504
          ],
          [
           false,
           true,
           null,
           3,
           "out",
           0,
           "NA",
           505
          ],
          [
           false,
           true,
           null,
           3,
           "out",
           0,
           "NA",
           506
          ],
          [
           false,
           true,
           null,
           3,
           "out",
           0,
           "NA",
           507
          ],
          [
           true,
           false,
           null,
           3,
           "out",
           0.8415841584158416,
           227,
           508
          ],
          [
           false,
           true,
           null,
           3,
           "out",
           0,
           "NA",
           509
          ],
          [
           false,
           true,
           null,
           3,
           "out",
           0,
           "NA",
           510
          ],
          [
           false,
           true,
           null,
           3,
           "out",
           0,
           "NA",
           511
          ],
          [
           false,
           true,
           null,
           3,
           "out",
           0,
           "NA",
           512
          ],
          [
           true,
           false,
           null,
           3,
           "out",
           0.7289156626506024,
           228,
           513
          ],
          [
           true,
           false,
           null,
           3,
           "out",
           0.7796610169491526,
           229,
           514
          ],
          [
           false,
           true,
           null,
           3,
           "out",
           0,
           "NA",
           515
          ],
          [
           false,
           true,
           null,
           3,
           "out",
           0,
           "NA",
           516
          ],
          [
           false,
           true,
           null,
           3,
           "out",
           0,
           "NA",
           517
          ],
          [
           true,
           false,
           null,
           3,
           "out",
           0.6377551020408163,
           230,
           518
          ],
          [
           false,
           true,
           null,
           3,
           "out",
           0,
           "NA",
           519
          ],
          [
           false,
           true,
           null,
           3,
           "out",
           0,
           "NA",
           520
          ],
          [
           false,
           true,
           null,
           3,
           "out",
           0,
           "NA",
           521
          ],
          [
           false,
           true,
           null,
           3,
           "out",
           0,
           "NA",
           522
          ],
          [
           true,
           false,
           null,
           3,
           "out",
           0.8823529411764706,
           231,
           523
          ],
          [
           false,
           true,
           null,
           3,
           "out",
           0,
           "NA",
           524
          ],
          [
           false,
           true,
           null,
           3,
           "out",
           0,
           "NA",
           525
          ],
          [
           false,
           true,
           null,
           3,
           "out",
           0,
           "NA",
           526
          ],
          [
           false,
           true,
           null,
           3,
           "out",
           0,
           "NA",
           527
          ],
          [
           true,
           false,
           null,
           3,
           "out",
           0.81,
           232,
           528
          ],
          [
           false,
           true,
           null,
           3,
           "out",
           0,
           "NA",
           529
          ],
          [
           false,
           true,
           null,
           3,
           "out",
           0,
           "NA",
           530
          ],
          [
           false,
           true,
           null,
           3,
           "out",
           0,
           "NA",
           531
          ],
          [
           true,
           false,
           null,
           3,
           "out",
           0.8693181818181818,
           233,
           532
          ],
          [
           false,
           true,
           null,
           3,
           "out",
           0,
           "NA",
           533
          ],
          [
           false,
           true,
           null,
           3,
           "out",
           0,
           "NA",
           534
          ],
          [
           false,
           true,
           null,
           3,
           "out",
           0,
           "NA",
           535
          ],
          [
           false,
           true,
           null,
           3,
           "out",
           0,
           "NA",
           536
          ],
          [
           false,
           true,
           null,
           3,
           "out",
           0,
           "NA",
           537
          ],
          [
           false,
           true,
           null,
           3,
           "out",
           0,
           "NA",
           538
          ],
          [
           false,
           true,
           null,
           3,
           "out",
           0,
           "NA",
           539
          ],
          [
           false,
           true,
           null,
           3,
           "out",
           0,
           "NA",
           540
          ],
          [
           false,
           true,
           null,
           3,
           "out",
           0,
           "NA",
           541
          ],
          [
           true,
           false,
           null,
           3,
           "out",
           0.7614678899082569,
           234,
           542
          ],
          [
           true,
           false,
           null,
           3,
           "out",
           0.7904191616766467,
           235,
           543
          ],
          [
           true,
           false,
           null,
           3,
           "out",
           0.7404255319148936,
           237,
           544
          ],
          [
           false,
           true,
           null,
           3,
           "out",
           0,
           "NA",
           545
          ],
          [
           true,
           false,
           null,
           3,
           "out",
           0.7764705882352941,
           238,
           546
          ],
          [
           true,
           false,
           null,
           3,
           "out",
           0.8431372549019608,
           239,
           547
          ],
          [
           false,
           true,
           null,
           3,
           "out",
           0,
           "NA",
           548
          ],
          [
           true,
           false,
           null,
           3,
           "out",
           0.7861271676300579,
           240,
           549
          ],
          [
           false,
           true,
           null,
           3,
           "out",
           0,
           "NA",
           550
          ],
          [
           false,
           true,
           null,
           3,
           "out",
           0,
           "NA",
           551
          ],
          [
           false,
           true,
           null,
           3,
           "out",
           0,
           "NA",
           552
          ],
          [
           false,
           true,
           null,
           3,
           "out",
           0,
           "NA",
           553
          ],
          [
           true,
           false,
           null,
           3,
           "out",
           0.6521739130434783,
           241,
           554
          ],
          [
           true,
           false,
           null,
           3,
           "out",
           0.9057591623036649,
           242,
           555
          ],
          [
           true,
           false,
           null,
           3,
           "out",
           0.8088235294117647,
           243,
           556
          ],
          [
           false,
           true,
           null,
           3,
           "out",
           0,
           "NA",
           557
          ],
          [
           false,
           true,
           null,
           3,
           "out",
           0,
           "NA",
           558
          ],
          [
           false,
           true,
           null,
           3,
           "out",
           0,
           "NA",
           559
          ],
          [
           false,
           true,
           null,
           3,
           "out",
           0,
           "NA",
           560
          ],
          [
           true,
           false,
           null,
           3,
           "out",
           0.8394495412844036,
           244,
           561
          ],
          [
           true,
           false,
           null,
           3,
           "out",
           0.7015706806282722,
           245,
           562
          ],
          [
           true,
           false,
           null,
           3,
           "out",
           0.5654008438818565,
           246,
           563
          ],
          [
           true,
           false,
           null,
           3,
           "out",
           0.8172043010752689,
           247,
           564
          ],
          [
           true,
           false,
           null,
           3,
           "out",
           0.6953125,
           248,
           565
          ],
          [
           true,
           false,
           null,
           3,
           "out",
           0.8944444444444445,
           249,
           566
          ],
          [
           false,
           true,
           null,
           3,
           "out",
           0,
           "NA",
           567
          ],
          [
           true,
           false,
           null,
           3,
           "out",
           0.6833333333333333,
           250,
           568
          ],
          [
           false,
           true,
           null,
           3,
           "out",
           0,
           "NA",
           569
          ],
          [
           true,
           false,
           null,
           3,
           "out",
           0.8554913294797688,
           251,
           570
          ],
          [
           true,
           false,
           null,
           3,
           "out",
           0.7848837209302325,
           252,
           571
          ],
          [
           false,
           true,
           null,
           3,
           "out",
           0,
           "NA",
           572
          ],
          [
           false,
           true,
           null,
           3,
           "out",
           0,
           "NA",
           573
          ],
          [
           false,
           true,
           null,
           3,
           "out",
           0,
           "NA",
           574
          ],
          [
           false,
           true,
           null,
           3,
           "out",
           0,
           "NA",
           575
          ],
          [
           true,
           false,
           null,
           3,
           "out",
           0.7586206896551724,
           253,
           576
          ],
          [
           false,
           true,
           null,
           3,
           "out",
           0,
           "NA",
           577
          ],
          [
           false,
           true,
           null,
           3,
           "out",
           0,
           "NA",
           578
          ],
          [
           true,
           false,
           null,
           3,
           "out",
           0.9576719576719577,
           254,
           579
          ],
          [
           true,
           false,
           null,
           3,
           "out",
           0.7419354838709677,
           255,
           580
          ],
          [
           true,
           false,
           null,
           3,
           "out",
           0.8682634730538922,
           256,
           581
          ],
          [
           true,
           false,
           null,
           3,
           "out",
           0.7366071428571429,
           257,
           582
          ],
          [
           false,
           true,
           null,
           3,
           "out",
           0,
           "NA",
           583
          ],
          [
           true,
           false,
           null,
           3,
           "out",
           0.8473684210526315,
           258,
           584
          ],
          [
           true,
           false,
           null,
           3,
           "out",
           0.6807511737089202,
           259,
           585
          ],
          [
           true,
           false,
           null,
           3,
           "out",
           0.7017543859649122,
           260,
           586
          ],
          [
           true,
           false,
           null,
           3,
           "out",
           0.5845410628019324,
           261,
           587
          ],
          [
           false,
           true,
           null,
           3,
           "out",
           0,
           "NA",
           588
          ],
          [
           true,
           false,
           null,
           3,
           "out",
           0.7594339622641509,
           262,
           589
          ],
          [
           true,
           false,
           null,
           3,
           "out",
           0.7854077253218884,
           263,
           590
          ],
          [
           false,
           true,
           null,
           3,
           "out",
           0,
           "NA",
           591
          ],
          [
           false,
           true,
           null,
           3,
           "out",
           0,
           "NA",
           592
          ],
          [
           false,
           true,
           null,
           3,
           "out",
           0,
           "NA",
           593
          ],
          [
           true,
           false,
           null,
           3,
           "out",
           0.7064220183486238,
           264,
           594
          ],
          [
           false,
           true,
           null,
           3,
           "out",
           0,
           "NA",
           595
          ],
          [
           false,
           true,
           null,
           3,
           "out",
           0,
           "NA",
           596
          ],
          [
           true,
           false,
           null,
           3,
           "out",
           0.8082191780821918,
           265,
           597
          ],
          [
           false,
           true,
           null,
           3,
           "out",
           0,
           "NA",
           598
          ],
          [
           false,
           true,
           null,
           3,
           "out",
           0,
           "NA",
           599
          ],
          [
           false,
           true,
           null,
           3,
           "out",
           0,
           "NA",
           600
          ],
          [
           false,
           true,
           null,
           3,
           "out",
           0,
           "NA",
           601
          ],
          [
           true,
           false,
           null,
           3,
           "out",
           0.7857142857142857,
           266,
           602
          ],
          [
           false,
           true,
           null,
           3,
           "out",
           0,
           "NA",
           603
          ],
          [
           false,
           true,
           null,
           3,
           "out",
           0,
           "NA",
           604
          ],
          [
           false,
           true,
           null,
           3,
           "out",
           0,
           "NA",
           605
          ],
          [
           false,
           true,
           null,
           3,
           "out",
           0,
           "NA",
           606
          ],
          [
           false,
           true,
           null,
           3,
           "out",
           0,
           "NA",
           607
          ],
          [
           false,
           true,
           null,
           3,
           "out",
           0,
           "NA",
           608
          ],
          [
           false,
           true,
           null,
           3,
           "out",
           0,
           "NA",
           609
          ],
          [
           true,
           false,
           null,
           3,
           "out",
           0.8055555555555556,
           267,
           610
          ],
          [
           false,
           true,
           null,
           3,
           "out",
           0,
           "NA",
           611
          ],
          [
           true,
           false,
           null,
           3,
           "out",
           0.8888888888888888,
           268,
           612
          ],
          [
           true,
           false,
           null,
           3,
           "out",
           0.8995215311004785,
           269,
           613
          ],
          [
           false,
           true,
           null,
           3,
           "out",
           0,
           "NA",
           614
          ],
          [
           false,
           true,
           null,
           3,
           "out",
           0,
           "NA",
           615
          ],
          [
           false,
           true,
           null,
           3,
           "out",
           0,
           "NA",
           616
          ],
          [
           true,
           false,
           null,
           3,
           "out",
           0.8214285714285714,
           270,
           617
          ],
          [
           false,
           true,
           null,
           3,
           "out",
           0,
           "NA",
           618
          ],
          [
           false,
           true,
           null,
           3,
           "out",
           0,
           "NA",
           619
          ],
          [
           true,
           false,
           null,
           3,
           "out",
           0.616580310880829,
           271,
           620
          ],
          [
           true,
           false,
           null,
           3,
           "out",
           0.8761061946902655,
           272,
           621
          ],
          [
           true,
           false,
           null,
           3,
           "out",
           0.7523364485981309,
           273,
           622
          ],
          [
           false,
           true,
           null,
           3,
           "out",
           0,
           "NA",
           623
          ],
          [
           false,
           true,
           null,
           3,
           "out",
           0,
           "NA",
           624
          ],
          [
           false,
           true,
           null,
           3,
           "out",
           0,
           "NA",
           625
          ],
          [
           false,
           true,
           null,
           3,
           "out",
           0,
           "NA",
           626
          ],
          [
           true,
           false,
           null,
           3,
           "out",
           0.79,
           274,
           627
          ],
          [
           true,
           false,
           null,
           3,
           "out",
           0.7945945945945946,
           275,
           628
          ],
          [
           false,
           true,
           null,
           3,
           "out",
           0,
           "NA",
           629
          ],
          [
           true,
           false,
           null,
           3,
           "out",
           0.577639751552795,
           276,
           630
          ],
          [
           false,
           true,
           null,
           3,
           "out",
           0,
           "NA",
           631
          ],
          [
           true,
           false,
           null,
           3,
           "out",
           0.7850467289719626,
           277,
           632
          ],
          [
           false,
           true,
           null,
           3,
           "out",
           0,
           "NA",
           633
          ],
          [
           false,
           true,
           null,
           3,
           "out",
           0,
           "NA",
           634
          ],
          [
           false,
           true,
           null,
           3,
           "out",
           0,
           "NA",
           635
          ],
          [
           true,
           false,
           null,
           3,
           "out",
           0.8555555555555555,
           278,
           636
          ],
          [
           true,
           false,
           null,
           3,
           "out",
           0.6267942583732058,
           279,
           637
          ],
          [
           false,
           true,
           null,
           3,
           "out",
           0,
           "NA",
           638
          ],
          [
           false,
           true,
           null,
           3,
           "out",
           0,
           "NA",
           639
          ],
          [
           false,
           true,
           null,
           3,
           "out",
           0,
           "NA",
           640
          ],
          [
           true,
           false,
           null,
           3,
           "out",
           0.7069767441860465,
           280,
           641
          ],
          [
           false,
           true,
           null,
           3,
           "out",
           0,
           "NA",
           642
          ],
          [
           false,
           true,
           null,
           3,
           "out",
           0,
           "NA",
           643
          ],
          [
           false,
           true,
           null,
           3,
           "out",
           0,
           "NA",
           644
          ],
          [
           false,
           true,
           null,
           3,
           "out",
           0,
           "NA",
           645
          ],
          [
           false,
           true,
           null,
           3,
           "out",
           0,
           "NA",
           646
          ],
          [
           false,
           true,
           null,
           3,
           "out",
           0,
           "NA",
           647
          ],
          [
           false,
           true,
           null,
           3,
           "out",
           0,
           "NA",
           648
          ],
          [
           false,
           true,
           null,
           3,
           "out",
           0,
           "NA",
           649
          ],
          [
           false,
           true,
           null,
           3,
           "out",
           0,
           "NA",
           650
          ],
          [
           true,
           false,
           null,
           3,
           "out",
           0.7175925925925926,
           281,
           651
          ],
          [
           false,
           true,
           null,
           3,
           "out",
           0,
           "NA",
           652
          ],
          [
           false,
           true,
           null,
           3,
           "out",
           0,
           "NA",
           653
          ],
          [
           false,
           true,
           null,
           3,
           "out",
           0,
           "NA",
           654
          ],
          [
           false,
           true,
           null,
           3,
           "out",
           0,
           "NA",
           655
          ],
          [
           true,
           false,
           null,
           3,
           "out",
           0.7523809523809524,
           282,
           656
          ],
          [
           false,
           true,
           null,
           3,
           "out",
           0,
           "NA",
           657
          ],
          [
           false,
           true,
           null,
           3,
           "out",
           0,
           "NA",
           658
          ],
          [
           true,
           false,
           null,
           3,
           "out",
           0.88125,
           283,
           659
          ],
          [
           false,
           true,
           null,
           3,
           "out",
           0,
           "NA",
           660
          ],
          [
           true,
           false,
           null,
           3,
           "out",
           0.9047619047619048,
           284,
           661
          ],
          [
           true,
           false,
           null,
           3,
           "out",
           0.7910447761194029,
           285,
           662
          ],
          [
           true,
           false,
           null,
           3,
           "out",
           0.7942857142857143,
           286,
           663
          ],
          [
           false,
           true,
           null,
           3,
           "out",
           0,
           "NA",
           664
          ],
          [
           false,
           true,
           null,
           3,
           "out",
           0,
           "NA",
           665
          ],
          [
           false,
           true,
           null,
           3,
           "out",
           0,
           "NA",
           666
          ],
          [
           false,
           true,
           null,
           3,
           "out",
           0,
           "NA",
           667
          ],
          [
           false,
           true,
           null,
           3,
           "out",
           0,
           "NA",
           668
          ],
          [
           true,
           false,
           null,
           3,
           "out",
           0.6618357487922706,
           287,
           669
          ],
          [
           true,
           false,
           null,
           3,
           "out",
           0.89375,
           288,
           670
          ],
          [
           false,
           true,
           null,
           3,
           "out",
           0,
           "NA",
           671
          ],
          [
           false,
           true,
           null,
           3,
           "out",
           0,
           "NA",
           672
          ],
          [
           false,
           true,
           null,
           3,
           "out",
           0,
           "NA",
           673
          ],
          [
           false,
           true,
           null,
           3,
           "out",
           0,
           "NA",
           674
          ],
          [
           true,
           false,
           null,
           3,
           "out",
           0.9085365853658537,
           289,
           675
          ],
          [
           true,
           false,
           null,
           3,
           "out",
           0.8243243243243243,
           290,
           676
          ],
          [
           true,
           false,
           null,
           3,
           "out",
           0.978021978021978,
           291,
           677
          ],
          [
           false,
           true,
           null,
           3,
           "out",
           0,
           "NA",
           678
          ],
          [
           true,
           false,
           null,
           3,
           "out",
           0.9068627450980392,
           292,
           679
          ],
          [
           true,
           false,
           null,
           3,
           "out",
           0.7621359223300971,
           293,
           680
          ],
          [
           false,
           true,
           null,
           3,
           "out",
           0,
           "NA",
           681
          ],
          [
           false,
           true,
           null,
           3,
           "out",
           0,
           "NA",
           682
          ],
          [
           true,
           false,
           null,
           3,
           "out",
           0.56,
           294,
           683
          ],
          [
           false,
           true,
           null,
           3,
           "out",
           0,
           "NA",
           684
          ],
          [
           false,
           true,
           null,
           3,
           "out",
           0,
           "NA",
           685
          ],
          [
           false,
           true,
           null,
           3,
           "out",
           0,
           "NA",
           686
          ],
          [
           false,
           true,
           null,
           3,
           "out",
           0,
           "NA",
           687
          ],
          [
           false,
           true,
           null,
           3,
           "out",
           0,
           "NA",
           688
          ],
          [
           false,
           true,
           null,
           3,
           "out",
           0,
           "NA",
           689
          ],
          [
           false,
           true,
           null,
           3,
           "out",
           0,
           "NA",
           690
          ],
          [
           false,
           true,
           null,
           3,
           "out",
           0,
           "NA",
           691
          ],
          [
           false,
           true,
           null,
           3,
           "out",
           0,
           "NA",
           692
          ],
          [
           false,
           true,
           null,
           3,
           "out",
           0,
           "NA",
           693
          ],
          [
           false,
           true,
           null,
           3,
           "out",
           0,
           "NA",
           694
          ],
          [
           false,
           true,
           null,
           3,
           "out",
           0,
           "NA",
           695
          ],
          [
           false,
           true,
           null,
           3,
           "out",
           0,
           "NA",
           696
          ],
          [
           false,
           true,
           null,
           3,
           "out",
           0,
           "NA",
           697
          ],
          [
           true,
           false,
           null,
           3,
           "out",
           0.7239583333333334,
           295,
           698
          ],
          [
           true,
           false,
           null,
           3,
           "out",
           0.6889952153110048,
           296,
           699
          ],
          [
           true,
           false,
           null,
           3,
           "out",
           0.8383233532934131,
           297,
           700
          ],
          [
           true,
           false,
           null,
           3,
           "out",
           0.7562189054726368,
           298,
           701
          ],
          [
           false,
           true,
           null,
           3,
           "out",
           0,
           "NA",
           702
          ],
          [
           false,
           true,
           null,
           3,
           "out",
           0,
           "NA",
           703
          ],
          [
           false,
           true,
           null,
           3,
           "out",
           0,
           "NA",
           704
          ],
          [
           false,
           true,
           null,
           3,
           "out",
           0,
           "NA",
           705
          ],
          [
           false,
           true,
           null,
           3,
           "out",
           0,
           "NA",
           706
          ],
          [
           false,
           true,
           null,
           3,
           "out",
           0,
           "NA",
           707
          ],
          [
           false,
           true,
           null,
           3,
           "out",
           0,
           "NA",
           708
          ],
          [
           false,
           true,
           null,
           3,
           "out",
           0,
           "NA",
           709
          ],
          [
           false,
           true,
           null,
           3,
           "out",
           0,
           "NA",
           710
          ],
          [
           false,
           true,
           null,
           3,
           "out",
           0,
           "NA",
           711
          ],
          [
           false,
           true,
           null,
           3,
           "out",
           0,
           "NA",
           712
          ],
          [
           false,
           true,
           null,
           3,
           "out",
           0,
           "NA",
           713
          ],
          [
           false,
           true,
           null,
           3,
           "out",
           0,
           "NA",
           714
          ],
          [
           false,
           true,
           null,
           3,
           "out",
           0,
           "NA",
           715
          ],
          [
           false,
           true,
           null,
           3,
           "out",
           0,
           "NA",
           716
          ],
          [
           false,
           true,
           null,
           3,
           "out",
           0,
           "NA",
           717
          ],
          [
           false,
           true,
           null,
           3,
           "out",
           0,
           "NA",
           718
          ],
          [
           false,
           true,
           null,
           3,
           "out",
           0,
           "NA",
           719
          ],
          [
           false,
           true,
           null,
           3,
           "out",
           0,
           "NA",
           720
          ],
          [
           true,
           false,
           null,
           3,
           "out",
           0.7543859649122807,
           299,
           721
          ],
          [
           true,
           false,
           null,
           3,
           "out",
           0.850828729281768,
           300,
           722
          ],
          [
           false,
           true,
           null,
           3,
           "out",
           0,
           "NA",
           723
          ],
          [
           false,
           true,
           null,
           3,
           "out",
           0,
           "NA",
           724
          ],
          [
           false,
           true,
           null,
           3,
           "out",
           0,
           "NA",
           725
          ],
          [
           true,
           false,
           null,
           3,
           "out",
           0.7789473684210526,
           301,
           726
          ],
          [
           true,
           false,
           null,
           3,
           "out",
           0.9289940828402367,
           302,
           727
          ],
          [
           false,
           true,
           null,
           3,
           "out",
           0,
           "NA",
           728
          ],
          [
           false,
           true,
           null,
           3,
           "out",
           0,
           "NA",
           729
          ],
          [
           false,
           true,
           null,
           3,
           "out",
           0,
           "NA",
           730
          ],
          [
           false,
           true,
           null,
           3,
           "out",
           0,
           "NA",
           731
          ],
          [
           false,
           true,
           null,
           3,
           "out",
           0,
           "NA",
           732
          ],
          [
           false,
           true,
           null,
           3,
           "out",
           0,
           "NA",
           733
          ],
          [
           false,
           true,
           null,
           3,
           "out",
           0,
           "NA",
           734
          ],
          [
           false,
           true,
           null,
           3,
           "out",
           0,
           "NA",
           735
          ],
          [
           false,
           true,
           null,
           3,
           "out",
           0,
           "NA",
           736
          ],
          [
           false,
           true,
           null,
           3,
           "out",
           0,
           "NA",
           737
          ],
          [
           true,
           false,
           null,
           3,
           "out",
           0.8277777777777777,
           303,
           738
          ],
          [
           false,
           true,
           null,
           3,
           "out",
           0,
           "NA",
           739
          ],
          [
           false,
           true,
           null,
           3,
           "out",
           0,
           "NA",
           740
          ],
          [
           false,
           true,
           null,
           3,
           "out",
           0,
           "NA",
           741
          ],
          [
           false,
           true,
           null,
           3,
           "out",
           0,
           "NA",
           742
          ],
          [
           true,
           false,
           null,
           3,
           "out",
           0.8896551724137931,
           304,
           743
          ],
          [
           true,
           false,
           null,
           3,
           "out",
           0.9096385542168675,
           305,
           744
          ],
          [
           false,
           true,
           null,
           3,
           "out",
           0,
           "NA",
           745
          ],
          [
           false,
           true,
           null,
           3,
           "out",
           0,
           "NA",
           746
          ],
          [
           false,
           true,
           null,
           3,
           "out",
           0,
           "NA",
           747
          ],
          [
           false,
           true,
           null,
           3,
           "out",
           0,
           "NA",
           748
          ],
          [
           false,
           true,
           null,
           3,
           "out",
           0,
           "NA",
           749
          ],
          [
           false,
           true,
           null,
           3,
           "out",
           0,
           "NA",
           750
          ],
          [
           false,
           true,
           null,
           3,
           "out",
           0,
           "NA",
           751
          ],
          [
           false,
           true,
           null,
           3,
           "out",
           0,
           "NA",
           752
          ],
          [
           false,
           true,
           null,
           3,
           "out",
           0,
           "NA",
           753
          ],
          [
           false,
           true,
           null,
           3,
           "out",
           0,
           "NA",
           754
          ],
          [
           true,
           false,
           null,
           3,
           "out",
           0.8654970760233918,
           306,
           755
          ],
          [
           false,
           true,
           null,
           3,
           "out",
           0,
           "NA",
           756
          ],
          [
           true,
           false,
           null,
           3,
           "out",
           0.7835820895522388,
           307,
           757
          ]
         ],
         "hovertemplate": "iou=%{marker.color:.4f}<br>indexGT=%{customdata[6]}<br>indexOut=%{customdata[7]}<extra></extra>",
         "legendgroup": "out",
         "marker": {
          "color": [
           0.6101694915254238,
           0,
           0.43410852713178294,
           0.7298850574712644,
           0,
           0.5576923076923077,
           0.8640776699029126,
           0,
           0,
           0,
           0,
           0.842741935483871,
           0,
           0.7864077669902912,
           0,
           0,
           0.6777777777777778,
           0,
           0,
           0.8270676691729323,
           0.8228571428571428,
           0.8076923076923077,
           0.6829268292682927,
           0.4343065693430657,
           0.8009259259259259,
           0,
           0,
           0,
           0.8651685393258427,
           0.7789473684210526,
           0.868020304568528,
           0,
           0,
           0,
           0.8494623655913979,
           0.8587570621468926,
           0.7373271889400922,
           0.7100371747211895,
           0,
           0,
           0,
           0,
           0.72,
           0,
           0,
           0,
           0.7834394904458599,
           0.5605381165919282,
           0,
           0,
           0,
           0,
           0,
           0,
           0.900523560209424,
           0.8615384615384616,
           0.6355555555555555,
           0,
           0,
           0.8588957055214724,
           0,
           0,
           0,
           0,
           0.8241206030150754,
           0.810126582278481,
           0,
           0,
           0,
           0.7524752475247525,
           0.8763440860215054,
           0.504,
           0,
           0,
           0.6484848484848484,
           0,
           0,
           0,
           0.4722222222222222,
           0,
           0,
           0,
           0,
           0.7128712871287128,
           0,
           0.7004608294930875,
           0.7631578947368421,
           0,
           0,
           0,
           0,
           0.7515923566878981,
           0.6619718309859155,
           0.4972067039106145,
           0,
           0.7528735632183908,
           0,
           0,
           0,
           0,
           0,
           0.8342857142857143,
           0,
           0,
           0.6409090909090909,
           0,
           0.7873563218390804,
           0,
           0,
           0.719047619047619,
           0,
           0.9126984126984127,
           0.8108108108108109,
           0.698019801980198,
           0.6827956989247311,
           0.8910256410256411,
           0.8046875,
           0.6504854368932039,
           0,
           0.8615384615384616,
           0.9662162162162162,
           0,
           0.8851351351351351,
           0,
           0,
           0.5459459459459459,
           0.847953216374269,
           0,
           0.6666666666666666,
           0.9347826086956522,
           0.7301587301587301,
           0,
           0,
           0,
           0.8251121076233184,
           0,
           0.9322033898305084,
           0.544,
           0,
           0.7085427135678392,
           0.6898148148148148,
           0,
           0,
           0.8272251308900523,
           0,
           0,
           0,
           0,
           0,
           0.7265625,
           0.9488636363636364,
           0,
           0.8757763975155279,
           0.7357142857142858,
           0,
           0.5707547169811321,
           0.8904109589041096,
           0.7423312883435583,
           0,
           0,
           0.8921568627450981,
           0.7477064220183486,
           0,
           0,
           0,
           0.8548387096774194,
           0,
           0.7450980392156863,
           0.9209039548022598,
           0.838150289017341,
           0.6801801801801802,
           0,
           0.9464285714285714,
           0,
           0.8165137614678899,
           0,
           0,
           0,
           0,
           0.7089201877934272,
           0,
           0,
           0,
           0.9467455621301775,
           0.7562189054726368,
           0,
           0.8855421686746988,
           0.745945945945946,
           0,
           0,
           0.7486033519553073,
           0,
           0,
           0,
           0,
           0.9477611940298507,
           0,
           0,
           0.8586387434554974,
           0,
           0.8702702702702703,
           0,
           0.6634615384615384,
           0,
           0,
           0,
           0,
           0.8411764705882353,
           0.5990566037735849,
           0.6496815286624203,
           0.7951807228915663,
           0,
           0,
           0,
           0,
           0.8102189781021898,
           0.7,
           0,
           0,
           0.9210526315789473,
           0,
           0,
           0,
           0,
           0,
           0.9239130434782609,
           0,
           0,
           0.9319727891156463,
           0,
           0,
           0,
           0.5580110497237569,
           0,
           0.8192771084337349,
           0,
           0.40198511166253104,
           0.7290322580645161,
           0.775,
           0,
           0.9583333333333334,
           0,
           0,
           0,
           0.7112299465240641,
           0.7485714285714286,
           0,
           0,
           0,
           0.7142857142857143,
           0,
           0.943127962085308,
           0,
           0.7426900584795322,
           0,
           0,
           0.7297297297297297,
           0,
           0.8857142857142857,
           0.8382352941176471,
           0.76,
           0,
           0,
           0,
           0.7745664739884393,
           0.8904109589041096,
           0.978021978021978,
           0.7304347826086957,
           0,
           0.8255813953488372,
           0.8079470198675497,
           0.6781609195402298,
           0.8214285714285714,
           0.8525345622119815,
           0.8923076923076924,
           0,
           0,
           0,
           0,
           0.8527918781725888,
           0,
           0,
           0.7659574468085106,
           0.7727272727272727,
           0,
           0.904,
           0.8455882352941176,
           0,
           0.7169230769230769,
           0,
           0,
           0,
           0,
           0,
           0.9166666666666666,
           0,
           0,
           0,
           0,
           0,
           0.6818181818181818,
           0,
           0.9479768786127167,
           0,
           0.7692307692307693,
           0,
           0,
           0,
           0,
           0.35051546391752575,
           0.6597938144329897,
           0.849624060150376,
           0.8671328671328671,
           0,
           0,
           0,
           0,
           0.4716312056737589,
           0.8797814207650273,
           0,
           0,
           0.8707865168539326,
           0.6604938271604939,
           0,
           0.7828571428571428,
           0,
           0.6871794871794872,
           0,
           0,
           0,
           0,
           0,
           0,
           0.6758241758241759,
           0.6431924882629108,
           0,
           0.8894736842105263,
           0,
           0.7184873949579832,
           0.8539325842696629,
           0,
           0,
           0.8043478260869565,
           0,
           0,
           0.6844444444444444,
           0.7485714285714286,
           0,
           0,
           0,
           0.9386503067484663,
           0,
           0.900709219858156,
           0,
           0,
           0,
           0,
           0.7204301075268817,
           0,
           0,
           0,
           0.639344262295082,
           0.7976878612716763,
           0.8245614035087719,
           0.6728971962616822,
           0.7712418300653595,
           0,
           0.8272251308900523,
           0,
           0.8883248730964467,
           0.7946428571428571,
           0.7467248908296943,
           0,
           0.8387096774193549,
           0.7808219178082192,
           0.7318181818181818,
           0.9323308270676691,
           0,
           0,
           0,
           0,
           0.7702127659574468,
           0.6548223350253807,
           0,
           0,
           0,
           0,
           0,
           0,
           0.7541899441340782,
           0,
           0.9593023255813954,
           0.7359550561797753,
           0.903448275862069,
           0,
           0.7819548872180451,
           0.6905829596412556,
           0,
           0,
           0.7132867132867133,
           0.9375,
           0,
           0,
           0,
           0,
           0,
           0.67,
           0.889763779527559,
           0.8341968911917098,
           0.7872340425531915,
           0.9415204678362573,
           0.6722222222222223,
           0,
           0,
           0,
           0,
           0.7878787878787878,
           0.8031088082901554,
           0,
           0.7636363636363637,
           0,
           0,
           0.9661016949152542,
           0,
           0,
           0.8255813953488372,
           0,
           0.8722222222222222,
           0.5829596412556054,
           0,
           0,
           0.7953488372093023,
           0,
           0.8960396039603961,
           0,
           0,
           0,
           0,
           0.8197674418604651,
           0,
           0,
           0.925,
           0.935064935064935,
           0,
           0.9109947643979057,
           0,
           0,
           0.7403846153846154,
           0.7368421052631579,
           0.6517412935323383,
           0,
           0,
           0.7900552486187845,
           0.8275862068965517,
           0,
           0,
           0.9337748344370861,
           0,
           0,
           0.8860759493670886,
           0.7891156462585034,
           0.7654320987654321,
           0,
           0,
           0,
           0.9081081081081082,
           0,
           0.8277511961722488,
           0,
           0,
           0,
           0,
           0,
           0,
           0,
           0,
           0.7528735632183908,
           0.8127853881278538,
           0.6521739130434783,
           0,
           0,
           0.7819905213270142,
           0,
           0,
           0,
           0,
           0.7580645161290323,
           0.7914438502673797,
           0.94375,
           0,
           0,
           0.7474226804123711,
           0.8470588235294118,
           0,
           0,
           0,
           0,
           0.7877094972067039,
           0,
           0.8188405797101449,
           0,
           0,
           0.8784530386740331,
           0,
           0.637065637065637,
           0,
           0,
           0,
           0.8415841584158416,
           0,
           0,
           0,
           0,
           0.7289156626506024,
           0.7796610169491526,
           0,
           0,
           0,
           0.6377551020408163,
           0,
           0,
           0,
           0,
           0.8823529411764706,
           0,
           0,
           0,
           0,
           0.81,
           0,
           0,
           0,
           0.8693181818181818,
           0,
           0,
           0,
           0,
           0,
           0,
           0,
           0,
           0,
           0.7614678899082569,
           0.7904191616766467,
           0.7404255319148936,
           0,
           0.7764705882352941,
           0.8431372549019608,
           0,
           0.7861271676300579,
           0,
           0,
           0,
           0,
           0.6521739130434783,
           0.9057591623036649,
           0.8088235294117647,
           0,
           0,
           0,
           0,
           0.8394495412844036,
           0.7015706806282722,
           0.5654008438818565,
           0.8172043010752689,
           0.6953125,
           0.8944444444444445,
           0,
           0.6833333333333333,
           0,
           0.8554913294797688,
           0.7848837209302325,
           0,
           0,
           0,
           0,
           0.7586206896551724,
           0,
           0,
           0.9576719576719577,
           0.7419354838709677,
           0.8682634730538922,
           0.7366071428571429,
           0,
           0.8473684210526315,
           0.6807511737089202,
           0.7017543859649122,
           0.5845410628019324,
           0,
           0.7594339622641509,
           0.7854077253218884,
           0,
           0,
           0,
           0.7064220183486238,
           0,
           0,
           0.8082191780821918,
           0,
           0,
           0,
           0,
           0.7857142857142857,
           0,
           0,
           0,
           0,
           0,
           0,
           0,
           0.8055555555555556,
           0,
           0.8888888888888888,
           0.8995215311004785,
           0,
           0,
           0,
           0.8214285714285714,
           0,
           0,
           0.616580310880829,
           0.8761061946902655,
           0.7523364485981309,
           0,
           0,
           0,
           0,
           0.79,
           0.7945945945945946,
           0,
           0.577639751552795,
           0,
           0.7850467289719626,
           0,
           0,
           0,
           0.8555555555555555,
           0.6267942583732058,
           0,
           0,
           0,
           0.7069767441860465,
           0,
           0,
           0,
           0,
           0,
           0,
           0,
           0,
           0,
           0.7175925925925926,
           0,
           0,
           0,
           0,
           0.7523809523809524,
           0,
           0,
           0.88125,
           0,
           0.9047619047619048,
           0.7910447761194029,
           0.7942857142857143,
           0,
           0,
           0,
           0,
           0,
           0.6618357487922706,
           0.89375,
           0,
           0,
           0,
           0,
           0.9085365853658537,
           0.8243243243243243,
           0.978021978021978,
           0,
           0.9068627450980392,
           0.7621359223300971,
           0,
           0,
           0.56,
           0,
           0,
           0,
           0,
           0,
           0,
           0,
           0,
           0,
           0,
           0,
           0,
           0,
           0,
           0.7239583333333334,
           0.6889952153110048,
           0.8383233532934131,
           0.7562189054726368,
           0,
           0,
           0,
           0,
           0,
           0,
           0,
           0,
           0,
           0,
           0,
           0,
           0,
           0,
           0,
           0,
           0,
           0,
           0,
           0.7543859649122807,
           0.850828729281768,
           0,
           0,
           0,
           0.7789473684210526,
           0.9289940828402367,
           0,
           0,
           0,
           0,
           0,
           0,
           0,
           0,
           0,
           0,
           0.8277777777777777,
           0,
           0,
           0,
           0,
           0.8896551724137931,
           0.9096385542168675,
           0,
           0,
           0,
           0,
           0,
           0,
           0,
           0,
           0,
           0,
           0.8654970760233918,
           0,
           0.7835820895522388
          ],
          "coloraxis": "coloraxis",
          "line": {
           "width": 2
          },
          "opacity": 0.8,
          "size": [
           3,
           3,
           3,
           3,
           3,
           3,
           3,
           3,
           3,
           3,
           3,
           3,
           3,
           3,
           3,
           3,
           3,
           3,
           3,
           3,
           3,
           3,
           3,
           3,
           3,
           3,
           3,
           3,
           3,
           3,
           3,
           3,
           3,
           3,
           3,
           3,
           3,
           3,
           3,
           3,
           3,
           3,
           3,
           3,
           3,
           3,
           3,
           3,
           3,
           3,
           3,
           3,
           3,
           3,
           3,
           3,
           3,
           3,
           3,
           3,
           3,
           3,
           3,
           3,
           3,
           3,
           3,
           3,
           3,
           3,
           3,
           3,
           3,
           3,
           3,
           3,
           3,
           3,
           3,
           3,
           3,
           3,
           3,
           3,
           3,
           3,
           3,
           3,
           3,
           3,
           3,
           3,
           3,
           3,
           3,
           3,
           3,
           3,
           3,
           3,
           3,
           3,
           3,
           3,
           3,
           3,
           3,
           3,
           3,
           3,
           3,
           3,
           3,
           3,
           3,
           3,
           3,
           3,
           3,
           3,
           3,
           3,
           3,
           3,
           3,
           3,
           3,
           3,
           3,
           3,
           3,
           3,
           3,
           3,
           3,
           3,
           3,
           3,
           3,
           3,
           3,
           3,
           3,
           3,
           3,
           3,
           3,
           3,
           3,
           3,
           3,
           3,
           3,
           3,
           3,
           3,
           3,
           3,
           3,
           3,
           3,
           3,
           3,
           3,
           3,
           3,
           3,
           3,
           3,
           3,
           3,
           3,
           3,
           3,
           3,
           3,
           3,
           3,
           3,
           3,
           3,
           3,
           3,
           3,
           3,
           3,
           3,
           3,
           3,
           3,
           3,
           3,
           3,
           3,
           3,
           3,
           3,
           3,
           3,
           3,
           3,
           3,
           3,
           3,
           3,
           3,
           3,
           3,
           3,
           3,
           3,
           3,
           3,
           3,
           3,
           3,
           3,
           3,
           3,
           3,
           3,
           3,
           3,
           3,
           3,
           3,
           3,
           3,
           3,
           3,
           3,
           3,
           3,
           3,
           3,
           3,
           3,
           3,
           3,
           3,
           3,
           3,
           3,
           3,
           3,
           3,
           3,
           3,
           3,
           3,
           3,
           3,
           3,
           3,
           3,
           3,
           3,
           3,
           3,
           3,
           3,
           3,
           3,
           3,
           3,
           3,
           3,
           3,
           3,
           3,
           3,
           3,
           3,
           3,
           3,
           3,
           3,
           3,
           3,
           3,
           3,
           3,
           3,
           3,
           3,
           3,
           3,
           3,
           3,
           3,
           3,
           3,
           3,
           3,
           3,
           3,
           3,
           3,
           3,
           3,
           3,
           3,
           3,
           3,
           3,
           3,
           3,
           3,
           3,
           3,
           3,
           3,
           3,
           3,
           3,
           3,
           3,
           3,
           3,
           3,
           3,
           3,
           3,
           3,
           3,
           3,
           3,
           3,
           3,
           3,
           3,
           3,
           3,
           3,
           3,
           3,
           3,
           3,
           3,
           3,
           3,
           3,
           3,
           3,
           3,
           3,
           3,
           3,
           3,
           3,
           3,
           3,
           3,
           3,
           3,
           3,
           3,
           3,
           3,
           3,
           3,
           3,
           3,
           3,
           3,
           3,
           3,
           3,
           3,
           3,
           3,
           3,
           3,
           3,
           3,
           3,
           3,
           3,
           3,
           3,
           3,
           3,
           3,
           3,
           3,
           3,
           3,
           3,
           3,
           3,
           3,
           3,
           3,
           3,
           3,
           3,
           3,
           3,
           3,
           3,
           3,
           3,
           3,
           3,
           3,
           3,
           3,
           3,
           3,
           3,
           3,
           3,
           3,
           3,
           3,
           3,
           3,
           3,
           3,
           3,
           3,
           3,
           3,
           3,
           3,
           3,
           3,
           3,
           3,
           3,
           3,
           3,
           3,
           3,
           3,
           3,
           3,
           3,
           3,
           3,
           3,
           3,
           3,
           3,
           3,
           3,
           3,
           3,
           3,
           3,
           3,
           3,
           3,
           3,
           3,
           3,
           3,
           3,
           3,
           3,
           3,
           3,
           3,
           3,
           3,
           3,
           3,
           3,
           3,
           3,
           3,
           3,
           3,
           3,
           3,
           3,
           3,
           3,
           3,
           3,
           3,
           3,
           3,
           3,
           3,
           3,
           3,
           3,
           3,
           3,
           3,
           3,
           3,
           3,
           3,
           3,
           3,
           3,
           3,
           3,
           3,
           3,
           3,
           3,
           3,
           3,
           3,
           3,
           3,
           3,
           3,
           3,
           3,
           3,
           3,
           3,
           3,
           3,
           3,
           3,
           3,
           3,
           3,
           3,
           3,
           3,
           3,
           3,
           3,
           3,
           3,
           3,
           3,
           3,
           3,
           3,
           3,
           3,
           3,
           3,
           3,
           3,
           3,
           3,
           3,
           3,
           3,
           3,
           3,
           3,
           3,
           3,
           3,
           3,
           3,
           3,
           3,
           3,
           3,
           3,
           3,
           3,
           3,
           3,
           3,
           3,
           3,
           3,
           3,
           3,
           3,
           3,
           3,
           3,
           3,
           3,
           3,
           3,
           3,
           3,
           3,
           3,
           3,
           3,
           3,
           3,
           3,
           3,
           3,
           3,
           3,
           3,
           3,
           3,
           3,
           3,
           3,
           3,
           3,
           3,
           3,
           3,
           3,
           3,
           3,
           3,
           3,
           3,
           3,
           3,
           3,
           3,
           3,
           3,
           3,
           3,
           3,
           3,
           3,
           3,
           3,
           3,
           3,
           3,
           3,
           3,
           3,
           3,
           3,
           3,
           3,
           3,
           3,
           3,
           3,
           3,
           3,
           3,
           3,
           3,
           3,
           3,
           3,
           3,
           3,
           3,
           3,
           3,
           3,
           3,
           3,
           3,
           3,
           3,
           3,
           3,
           3,
           3,
           3,
           3,
           3,
           3,
           3,
           3,
           3,
           3,
           3,
           3,
           3,
           3,
           3,
           3,
           3,
           3,
           3,
           3,
           3,
           3,
           3,
           3,
           3,
           3,
           3,
           3,
           3,
           3,
           3,
           3,
           3,
           3,
           3,
           3,
           3,
           3,
           3,
           3,
           3,
           3,
           3,
           3,
           3,
           3,
           3,
           3,
           3,
           3,
           3,
           3,
           3,
           3,
           3,
           3,
           3,
           3,
           3,
           3,
           3,
           3,
           3,
           3,
           3,
           3,
           3,
           3,
           3,
           3,
           3,
           3,
           3,
           3,
           3,
           3,
           3,
           3,
           3,
           3,
           3,
           3,
           3,
           3,
           3,
           3,
           3,
           3,
           3,
           3,
           3,
           3,
           3,
           3,
           3,
           3,
           3,
           3,
           3,
           3,
           3,
           3
          ],
          "sizemode": "area",
          "sizeref": 0.0075,
          "symbol": "circle-open"
         },
         "mode": "markers",
         "name": "out",
         "showlegend": true,
         "type": "scattergl",
         "x": [
          0,
          -10,
          1,
          2,
          -10,
          3,
          4,
          -10,
          -10,
          -10,
          -10,
          5,
          -10,
          6,
          -10,
          -10,
          7,
          -10,
          -10,
          8,
          9,
          10,
          11,
          12,
          13,
          -10,
          -10,
          -10,
          14,
          15,
          16,
          -10,
          -10,
          -10,
          17,
          18,
          19,
          20,
          -10,
          -10,
          -10,
          -10,
          21,
          -10,
          -10,
          -10,
          22,
          23,
          -10,
          -10,
          -10,
          -10,
          -10,
          -10,
          24,
          25,
          26,
          -10,
          -10,
          27,
          -10,
          -10,
          -10,
          -10,
          28,
          29,
          -10,
          -10,
          -10,
          30,
          31,
          32,
          -10,
          -10,
          33,
          -10,
          -10,
          -10,
          34,
          -10,
          -10,
          -10,
          -10,
          35,
          -10,
          36,
          37,
          -10,
          -10,
          -10,
          -10,
          38,
          39,
          40,
          -10,
          41,
          -10,
          -10,
          -10,
          -10,
          -10,
          42,
          -10,
          -10,
          43,
          -10,
          44,
          -10,
          -10,
          45,
          -10,
          46,
          47,
          48,
          49,
          50,
          51,
          52,
          -10,
          53,
          54,
          -10,
          55,
          -10,
          -10,
          56,
          57,
          -10,
          58,
          59,
          61,
          -10,
          -10,
          -10,
          63,
          -10,
          64,
          65,
          -10,
          66,
          67,
          -10,
          -10,
          68,
          -10,
          -10,
          -10,
          -10,
          -10,
          69,
          70,
          -10,
          71,
          72,
          -10,
          73,
          74,
          75,
          -10,
          -10,
          76,
          77,
          -10,
          -10,
          -10,
          78,
          -10,
          79,
          80,
          81,
          82,
          -10,
          83,
          -10,
          84,
          -10,
          -10,
          -10,
          -10,
          85,
          -10,
          -10,
          -10,
          86,
          87,
          -10,
          88,
          89,
          -10,
          -10,
          90,
          -10,
          -10,
          -10,
          -10,
          91,
          -10,
          -10,
          92,
          -10,
          93,
          -10,
          94,
          -10,
          -10,
          -10,
          -10,
          95,
          96,
          97,
          98,
          -10,
          -10,
          -10,
          -10,
          99,
          100,
          -10,
          -10,
          101,
          -10,
          -10,
          -10,
          -10,
          -10,
          102,
          -10,
          -10,
          103,
          -10,
          -10,
          -10,
          104,
          -10,
          105,
          -10,
          106,
          107,
          108,
          -10,
          109,
          -10,
          -10,
          -10,
          110,
          111,
          -10,
          -10,
          -10,
          112,
          -10,
          113,
          -10,
          114,
          -10,
          -10,
          115,
          -10,
          116,
          117,
          118,
          -10,
          -10,
          -10,
          119,
          120,
          121,
          122,
          -10,
          123,
          124,
          125,
          126,
          127,
          128,
          -10,
          -10,
          -10,
          -10,
          129,
          -10,
          -10,
          130,
          131,
          -10,
          132,
          133,
          -10,
          134,
          -10,
          -10,
          -10,
          -10,
          -10,
          135,
          -10,
          -10,
          -10,
          -10,
          -10,
          136,
          -10,
          137,
          -10,
          138,
          -10,
          -10,
          -10,
          -10,
          139,
          140,
          141,
          142,
          -10,
          -10,
          -10,
          -10,
          143,
          144,
          -10,
          -10,
          145,
          146,
          -10,
          147,
          -10,
          148,
          -10,
          -10,
          -10,
          -10,
          -10,
          -10,
          149,
          150,
          -10,
          151,
          -10,
          152,
          153,
          -10,
          -10,
          154,
          -10,
          -10,
          155,
          156,
          -10,
          -10,
          -10,
          157,
          -10,
          158,
          -10,
          -10,
          -10,
          -10,
          159,
          -10,
          -10,
          -10,
          160,
          161,
          162,
          163,
          164,
          -10,
          165,
          -10,
          166,
          167,
          168,
          -10,
          169,
          170,
          171,
          172,
          -10,
          -10,
          -10,
          -10,
          173,
          174,
          -10,
          -10,
          -10,
          -10,
          -10,
          -10,
          175,
          -10,
          176,
          177,
          178,
          -10,
          179,
          180,
          -10,
          -10,
          181,
          182,
          -10,
          -10,
          -10,
          -10,
          -10,
          183,
          184,
          185,
          186,
          187,
          188,
          -10,
          -10,
          -10,
          -10,
          189,
          190,
          -10,
          191,
          -10,
          -10,
          192,
          -10,
          -10,
          193,
          -10,
          194,
          195,
          -10,
          -10,
          196,
          -10,
          197,
          -10,
          -10,
          -10,
          -10,
          198,
          -10,
          -10,
          199,
          200,
          -10,
          201,
          -10,
          -10,
          202,
          203,
          204,
          -10,
          -10,
          205,
          206,
          -10,
          -10,
          207,
          -10,
          -10,
          208,
          209,
          210,
          -10,
          -10,
          -10,
          211,
          -10,
          212,
          -10,
          -10,
          -10,
          -10,
          -10,
          -10,
          -10,
          -10,
          213,
          214,
          215,
          -10,
          -10,
          216,
          -10,
          -10,
          -10,
          -10,
          217,
          218,
          219,
          -10,
          -10,
          220,
          221,
          -10,
          -10,
          -10,
          -10,
          222,
          -10,
          223,
          -10,
          -10,
          224,
          -10,
          225,
          -10,
          -10,
          -10,
          227,
          -10,
          -10,
          -10,
          -10,
          228,
          229,
          -10,
          -10,
          -10,
          230,
          -10,
          -10,
          -10,
          -10,
          231,
          -10,
          -10,
          -10,
          -10,
          232,
          -10,
          -10,
          -10,
          233,
          -10,
          -10,
          -10,
          -10,
          -10,
          -10,
          -10,
          -10,
          -10,
          234,
          235,
          237,
          -10,
          238,
          239,
          -10,
          240,
          -10,
          -10,
          -10,
          -10,
          241,
          242,
          243,
          -10,
          -10,
          -10,
          -10,
          244,
          245,
          246,
          247,
          248,
          249,
          -10,
          250,
          -10,
          251,
          252,
          -10,
          -10,
          -10,
          -10,
          253,
          -10,
          -10,
          254,
          255,
          256,
          257,
          -10,
          258,
          259,
          260,
          261,
          -10,
          262,
          263,
          -10,
          -10,
          -10,
          264,
          -10,
          -10,
          265,
          -10,
          -10,
          -10,
          -10,
          266,
          -10,
          -10,
          -10,
          -10,
          -10,
          -10,
          -10,
          267,
          -10,
          268,
          269,
          -10,
          -10,
          -10,
          270,
          -10,
          -10,
          271,
          272,
          273,
          -10,
          -10,
          -10,
          -10,
          274,
          275,
          -10,
          276,
          -10,
          277,
          -10,
          -10,
          -10,
          278,
          279,
          -10,
          -10,
          -10,
          280,
          -10,
          -10,
          -10,
          -10,
          -10,
          -10,
          -10,
          -10,
          -10,
          281,
          -10,
          -10,
          -10,
          -10,
          282,
          -10,
          -10,
          283,
          -10,
          284,
          285,
          286,
          -10,
          -10,
          -10,
          -10,
          -10,
          287,
          288,
          -10,
          -10,
          -10,
          -10,
          289,
          290,
          291,
          -10,
          292,
          293,
          -10,
          -10,
          294,
          -10,
          -10,
          -10,
          -10,
          -10,
          -10,
          -10,
          -10,
          -10,
          -10,
          -10,
          -10,
          -10,
          -10,
          295,
          296,
          297,
          298,
          -10,
          -10,
          -10,
          -10,
          -10,
          -10,
          -10,
          -10,
          -10,
          -10,
          -10,
          -10,
          -10,
          -10,
          -10,
          -10,
          -10,
          -10,
          -10,
          299,
          300,
          -10,
          -10,
          -10,
          301,
          302,
          -10,
          -10,
          -10,
          -10,
          -10,
          -10,
          -10,
          -10,
          -10,
          -10,
          303,
          -10,
          -10,
          -10,
          -10,
          304,
          305,
          -10,
          -10,
          -10,
          -10,
          -10,
          -10,
          -10,
          -10,
          -10,
          -10,
          306,
          -10,
          307
         ],
         "xaxis": "x",
         "y": [
          0,
          1,
          2,
          3,
          4,
          5,
          6,
          7,
          8,
          9,
          10,
          11,
          12,
          13,
          14,
          15,
          16,
          17,
          18,
          19,
          20,
          21,
          22,
          23,
          24,
          25,
          26,
          27,
          28,
          29,
          30,
          31,
          32,
          33,
          34,
          35,
          36,
          37,
          38,
          39,
          40,
          41,
          42,
          43,
          44,
          45,
          46,
          47,
          48,
          49,
          50,
          51,
          52,
          53,
          54,
          55,
          56,
          57,
          58,
          59,
          60,
          61,
          62,
          63,
          64,
          65,
          66,
          67,
          68,
          69,
          70,
          71,
          72,
          73,
          74,
          75,
          76,
          77,
          78,
          79,
          80,
          81,
          82,
          83,
          84,
          85,
          86,
          87,
          88,
          89,
          90,
          91,
          92,
          93,
          94,
          95,
          96,
          97,
          98,
          99,
          100,
          101,
          102,
          103,
          104,
          105,
          106,
          107,
          108,
          109,
          110,
          111,
          112,
          113,
          114,
          115,
          116,
          117,
          118,
          119,
          120,
          121,
          122,
          123,
          124,
          125,
          126,
          127,
          128,
          129,
          130,
          131,
          132,
          133,
          134,
          135,
          136,
          137,
          138,
          139,
          140,
          141,
          142,
          143,
          144,
          145,
          146,
          147,
          148,
          149,
          150,
          151,
          152,
          153,
          154,
          155,
          156,
          157,
          158,
          159,
          160,
          161,
          162,
          163,
          164,
          165,
          166,
          167,
          168,
          169,
          170,
          171,
          172,
          173,
          174,
          175,
          176,
          177,
          178,
          179,
          180,
          181,
          182,
          183,
          184,
          185,
          186,
          187,
          188,
          189,
          190,
          191,
          192,
          193,
          194,
          195,
          196,
          197,
          198,
          199,
          200,
          201,
          202,
          203,
          204,
          205,
          206,
          207,
          208,
          209,
          210,
          211,
          212,
          213,
          214,
          215,
          216,
          217,
          218,
          219,
          220,
          221,
          222,
          223,
          224,
          225,
          226,
          227,
          228,
          229,
          230,
          231,
          232,
          233,
          234,
          235,
          236,
          237,
          238,
          239,
          240,
          241,
          242,
          243,
          244,
          245,
          246,
          247,
          248,
          249,
          250,
          251,
          252,
          253,
          254,
          255,
          256,
          257,
          258,
          259,
          260,
          261,
          262,
          263,
          264,
          265,
          266,
          267,
          268,
          269,
          270,
          271,
          272,
          273,
          274,
          275,
          276,
          277,
          278,
          279,
          280,
          281,
          282,
          283,
          284,
          285,
          286,
          287,
          288,
          289,
          290,
          291,
          292,
          293,
          294,
          295,
          296,
          297,
          298,
          299,
          300,
          301,
          302,
          303,
          304,
          305,
          306,
          307,
          308,
          309,
          310,
          311,
          312,
          313,
          314,
          315,
          316,
          317,
          318,
          319,
          320,
          321,
          322,
          323,
          324,
          325,
          326,
          327,
          328,
          329,
          330,
          331,
          332,
          333,
          334,
          335,
          336,
          337,
          338,
          339,
          340,
          341,
          342,
          343,
          344,
          345,
          346,
          347,
          348,
          349,
          350,
          351,
          352,
          353,
          354,
          355,
          356,
          357,
          358,
          359,
          360,
          361,
          362,
          363,
          364,
          365,
          366,
          367,
          368,
          369,
          370,
          371,
          372,
          373,
          374,
          375,
          376,
          377,
          378,
          379,
          380,
          381,
          382,
          383,
          384,
          385,
          386,
          387,
          388,
          389,
          390,
          391,
          392,
          393,
          394,
          395,
          396,
          397,
          398,
          399,
          400,
          401,
          402,
          403,
          404,
          405,
          406,
          407,
          408,
          409,
          410,
          411,
          412,
          413,
          414,
          415,
          416,
          417,
          418,
          419,
          420,
          421,
          422,
          423,
          424,
          425,
          426,
          427,
          428,
          429,
          430,
          431,
          432,
          433,
          434,
          435,
          436,
          437,
          438,
          439,
          440,
          441,
          442,
          443,
          444,
          445,
          446,
          447,
          448,
          449,
          450,
          451,
          452,
          453,
          454,
          455,
          456,
          457,
          458,
          459,
          460,
          461,
          462,
          463,
          464,
          465,
          466,
          467,
          468,
          469,
          470,
          471,
          472,
          473,
          474,
          475,
          476,
          477,
          478,
          479,
          480,
          481,
          482,
          483,
          484,
          485,
          486,
          487,
          488,
          489,
          490,
          491,
          492,
          493,
          494,
          495,
          496,
          497,
          498,
          499,
          500,
          501,
          502,
          503,
          504,
          505,
          506,
          507,
          508,
          509,
          510,
          511,
          512,
          513,
          514,
          515,
          516,
          517,
          518,
          519,
          520,
          521,
          522,
          523,
          524,
          525,
          526,
          527,
          528,
          529,
          530,
          531,
          532,
          533,
          534,
          535,
          536,
          537,
          538,
          539,
          540,
          541,
          542,
          543,
          544,
          545,
          546,
          547,
          548,
          549,
          550,
          551,
          552,
          553,
          554,
          555,
          556,
          557,
          558,
          559,
          560,
          561,
          562,
          563,
          564,
          565,
          566,
          567,
          568,
          569,
          570,
          571,
          572,
          573,
          574,
          575,
          576,
          577,
          578,
          579,
          580,
          581,
          582,
          583,
          584,
          585,
          586,
          587,
          588,
          589,
          590,
          591,
          592,
          593,
          594,
          595,
          596,
          597,
          598,
          599,
          600,
          601,
          602,
          603,
          604,
          605,
          606,
          607,
          608,
          609,
          610,
          611,
          612,
          613,
          614,
          615,
          616,
          617,
          618,
          619,
          620,
          621,
          622,
          623,
          624,
          625,
          626,
          627,
          628,
          629,
          630,
          631,
          632,
          633,
          634,
          635,
          636,
          637,
          638,
          639,
          640,
          641,
          642,
          643,
          644,
          645,
          646,
          647,
          648,
          649,
          650,
          651,
          652,
          653,
          654,
          655,
          656,
          657,
          658,
          659,
          660,
          661,
          662,
          663,
          664,
          665,
          666,
          667,
          668,
          669,
          670,
          671,
          672,
          673,
          674,
          675,
          676,
          677,
          678,
          679,
          680,
          681,
          682,
          683,
          684,
          685,
          686,
          687,
          688,
          689,
          690,
          691,
          692,
          693,
          694,
          695,
          696,
          697,
          698,
          699,
          700,
          701,
          702,
          703,
          704,
          705,
          706,
          707,
          708,
          709,
          710,
          711,
          712,
          713,
          714,
          715,
          716,
          717,
          718,
          719,
          720,
          721,
          722,
          723,
          724,
          725,
          726,
          727,
          728,
          729,
          730,
          731,
          732,
          733,
          734,
          735,
          736,
          737,
          738,
          739,
          740,
          741,
          742,
          743,
          744,
          745,
          746,
          747,
          748,
          749,
          750,
          751,
          752,
          753,
          754,
          755,
          756,
          757
         ],
         "yaxis": "y"
        },
        {
         "customdata": [
          [
           true,
           null,
           false,
           1,
           "gt",
           0.6101694915254238,
           0,
           0
          ],
          [
           true,
           null,
           false,
           1,
           "gt",
           0.43410852713178294,
           1,
           2
          ],
          [
           true,
           null,
           false,
           1,
           "gt",
           0.7298850574712644,
           2,
           3
          ],
          [
           true,
           null,
           false,
           1,
           "gt",
           0.5576923076923077,
           3,
           5
          ],
          [
           true,
           null,
           false,
           1,
           "gt",
           0.8640776699029126,
           4,
           6
          ],
          [
           true,
           null,
           false,
           1,
           "gt",
           0.842741935483871,
           5,
           11
          ],
          [
           true,
           null,
           false,
           1,
           "gt",
           0.7864077669902912,
           6,
           13
          ],
          [
           true,
           null,
           false,
           1,
           "gt",
           0.6777777777777778,
           7,
           16
          ],
          [
           true,
           null,
           false,
           1,
           "gt",
           0.8270676691729323,
           8,
           19
          ],
          [
           true,
           null,
           false,
           1,
           "gt",
           0.8228571428571428,
           9,
           20
          ],
          [
           true,
           null,
           false,
           1,
           "gt",
           0.8076923076923077,
           10,
           21
          ],
          [
           true,
           null,
           false,
           1,
           "gt",
           0.6829268292682927,
           11,
           22
          ],
          [
           true,
           null,
           false,
           1,
           "gt",
           0.4343065693430657,
           12,
           23
          ],
          [
           true,
           null,
           false,
           1,
           "gt",
           0.8009259259259259,
           13,
           24
          ],
          [
           true,
           null,
           false,
           1,
           "gt",
           0.8651685393258427,
           14,
           28
          ],
          [
           true,
           null,
           false,
           1,
           "gt",
           0.7789473684210526,
           15,
           29
          ],
          [
           true,
           null,
           false,
           1,
           "gt",
           0.868020304568528,
           16,
           30
          ],
          [
           true,
           null,
           false,
           1,
           "gt",
           0.8494623655913979,
           17,
           34
          ],
          [
           true,
           null,
           false,
           1,
           "gt",
           0.8587570621468926,
           18,
           35
          ],
          [
           true,
           null,
           false,
           1,
           "gt",
           0.7373271889400922,
           19,
           36
          ],
          [
           true,
           null,
           false,
           1,
           "gt",
           0.7100371747211895,
           20,
           37
          ],
          [
           true,
           null,
           false,
           1,
           "gt",
           0.72,
           21,
           42
          ],
          [
           true,
           null,
           false,
           1,
           "gt",
           0.7834394904458599,
           22,
           46
          ],
          [
           true,
           null,
           false,
           1,
           "gt",
           0.5605381165919282,
           23,
           47
          ],
          [
           true,
           null,
           false,
           1,
           "gt",
           0.900523560209424,
           24,
           54
          ],
          [
           true,
           null,
           false,
           1,
           "gt",
           0.8615384615384616,
           25,
           55
          ],
          [
           true,
           null,
           false,
           1,
           "gt",
           0.6355555555555555,
           26,
           56
          ],
          [
           true,
           null,
           false,
           1,
           "gt",
           0.8588957055214724,
           27,
           59
          ],
          [
           true,
           null,
           false,
           1,
           "gt",
           0.8241206030150754,
           28,
           64
          ],
          [
           true,
           null,
           false,
           1,
           "gt",
           0.810126582278481,
           29,
           65
          ],
          [
           true,
           null,
           false,
           1,
           "gt",
           0.7524752475247525,
           30,
           69
          ],
          [
           true,
           null,
           false,
           1,
           "gt",
           0.8763440860215054,
           31,
           70
          ],
          [
           true,
           null,
           false,
           1,
           "gt",
           0.504,
           32,
           71
          ],
          [
           true,
           null,
           false,
           1,
           "gt",
           0.6484848484848484,
           33,
           74
          ],
          [
           true,
           null,
           false,
           1,
           "gt",
           0.4722222222222222,
           34,
           78
          ],
          [
           true,
           null,
           false,
           1,
           "gt",
           0.7128712871287128,
           35,
           83
          ],
          [
           true,
           null,
           false,
           1,
           "gt",
           0.7004608294930875,
           36,
           85
          ],
          [
           true,
           null,
           false,
           1,
           "gt",
           0.7631578947368421,
           37,
           86
          ],
          [
           true,
           null,
           false,
           1,
           "gt",
           0.7515923566878981,
           38,
           91
          ],
          [
           true,
           null,
           false,
           1,
           "gt",
           0.6619718309859155,
           39,
           92
          ],
          [
           true,
           null,
           false,
           1,
           "gt",
           0.4972067039106145,
           40,
           93
          ],
          [
           true,
           null,
           false,
           1,
           "gt",
           0.7528735632183908,
           41,
           95
          ],
          [
           true,
           null,
           false,
           1,
           "gt",
           0.8342857142857143,
           42,
           101
          ],
          [
           true,
           null,
           false,
           1,
           "gt",
           0.6409090909090909,
           43,
           104
          ],
          [
           true,
           null,
           false,
           1,
           "gt",
           0.7873563218390804,
           44,
           106
          ],
          [
           true,
           null,
           false,
           1,
           "gt",
           0.719047619047619,
           45,
           109
          ],
          [
           true,
           null,
           false,
           1,
           "gt",
           0.9126984126984127,
           46,
           111
          ],
          [
           true,
           null,
           false,
           1,
           "gt",
           0.8108108108108109,
           47,
           112
          ],
          [
           true,
           null,
           false,
           1,
           "gt",
           0.698019801980198,
           48,
           113
          ],
          [
           true,
           null,
           false,
           1,
           "gt",
           0.6827956989247311,
           49,
           114
          ],
          [
           true,
           null,
           false,
           1,
           "gt",
           0.8910256410256411,
           50,
           115
          ],
          [
           true,
           null,
           false,
           1,
           "gt",
           0.8046875,
           51,
           116
          ],
          [
           true,
           null,
           false,
           1,
           "gt",
           0.6504854368932039,
           52,
           117
          ],
          [
           true,
           null,
           false,
           1,
           "gt",
           0.8615384615384616,
           53,
           119
          ],
          [
           true,
           null,
           false,
           1,
           "gt",
           0.9662162162162162,
           54,
           120
          ],
          [
           true,
           null,
           false,
           1,
           "gt",
           0.8851351351351351,
           55,
           122
          ],
          [
           true,
           null,
           false,
           1,
           "gt",
           0.5459459459459459,
           56,
           125
          ],
          [
           true,
           null,
           false,
           1,
           "gt",
           0.847953216374269,
           57,
           126
          ],
          [
           true,
           null,
           false,
           1,
           "gt",
           0.6666666666666666,
           58,
           128
          ],
          [
           true,
           null,
           false,
           1,
           "gt",
           0.9347826086956522,
           59,
           129
          ],
          [
           false,
           null,
           true,
           1,
           "gt",
           0,
           60,
           "NA"
          ],
          [
           true,
           null,
           false,
           1,
           "gt",
           0.7301587301587301,
           61,
           130
          ],
          [
           false,
           null,
           true,
           1,
           "gt",
           0,
           62,
           "NA"
          ],
          [
           true,
           null,
           false,
           1,
           "gt",
           0.8251121076233184,
           63,
           134
          ],
          [
           true,
           null,
           false,
           1,
           "gt",
           0.9322033898305084,
           64,
           136
          ],
          [
           true,
           null,
           false,
           1,
           "gt",
           0.544,
           65,
           137
          ],
          [
           true,
           null,
           false,
           1,
           "gt",
           0.7085427135678392,
           66,
           139
          ],
          [
           true,
           null,
           false,
           1,
           "gt",
           0.6898148148148148,
           67,
           140
          ],
          [
           true,
           null,
           false,
           1,
           "gt",
           0.8272251308900523,
           68,
           143
          ],
          [
           true,
           null,
           false,
           1,
           "gt",
           0.7265625,
           69,
           149
          ],
          [
           true,
           null,
           false,
           1,
           "gt",
           0.9488636363636364,
           70,
           150
          ],
          [
           true,
           null,
           false,
           1,
           "gt",
           0.8757763975155279,
           71,
           152
          ],
          [
           true,
           null,
           false,
           1,
           "gt",
           0.7357142857142858,
           72,
           153
          ],
          [
           true,
           null,
           false,
           1,
           "gt",
           0.5707547169811321,
           73,
           155
          ],
          [
           true,
           null,
           false,
           1,
           "gt",
           0.8904109589041096,
           74,
           156
          ],
          [
           true,
           null,
           false,
           1,
           "gt",
           0.7423312883435583,
           75,
           157
          ],
          [
           true,
           null,
           false,
           1,
           "gt",
           0.8921568627450981,
           76,
           160
          ],
          [
           true,
           null,
           false,
           1,
           "gt",
           0.7477064220183486,
           77,
           161
          ],
          [
           true,
           null,
           false,
           1,
           "gt",
           0.8548387096774194,
           78,
           165
          ],
          [
           true,
           null,
           false,
           1,
           "gt",
           0.7450980392156863,
           79,
           167
          ],
          [
           true,
           null,
           false,
           1,
           "gt",
           0.9209039548022598,
           80,
           168
          ],
          [
           true,
           null,
           false,
           1,
           "gt",
           0.838150289017341,
           81,
           169
          ],
          [
           true,
           null,
           false,
           1,
           "gt",
           0.6801801801801802,
           82,
           170
          ],
          [
           true,
           null,
           false,
           1,
           "gt",
           0.9464285714285714,
           83,
           172
          ],
          [
           true,
           null,
           false,
           1,
           "gt",
           0.8165137614678899,
           84,
           174
          ],
          [
           true,
           null,
           false,
           1,
           "gt",
           0.7089201877934272,
           85,
           179
          ],
          [
           true,
           null,
           false,
           1,
           "gt",
           0.9467455621301775,
           86,
           183
          ],
          [
           true,
           null,
           false,
           1,
           "gt",
           0.7562189054726368,
           87,
           184
          ],
          [
           true,
           null,
           false,
           1,
           "gt",
           0.8855421686746988,
           88,
           186
          ],
          [
           true,
           null,
           false,
           1,
           "gt",
           0.745945945945946,
           89,
           187
          ],
          [
           true,
           null,
           false,
           1,
           "gt",
           0.7486033519553073,
           90,
           190
          ],
          [
           true,
           null,
           false,
           1,
           "gt",
           0.9477611940298507,
           91,
           195
          ],
          [
           true,
           null,
           false,
           1,
           "gt",
           0.8586387434554974,
           92,
           198
          ],
          [
           true,
           null,
           false,
           1,
           "gt",
           0.8702702702702703,
           93,
           200
          ],
          [
           true,
           null,
           false,
           1,
           "gt",
           0.6634615384615384,
           94,
           202
          ],
          [
           true,
           null,
           false,
           1,
           "gt",
           0.8411764705882353,
           95,
           207
          ],
          [
           true,
           null,
           false,
           1,
           "gt",
           0.5990566037735849,
           96,
           208
          ],
          [
           true,
           null,
           false,
           1,
           "gt",
           0.6496815286624203,
           97,
           209
          ],
          [
           true,
           null,
           false,
           1,
           "gt",
           0.7951807228915663,
           98,
           210
          ],
          [
           true,
           null,
           false,
           1,
           "gt",
           0.8102189781021898,
           99,
           215
          ],
          [
           true,
           null,
           false,
           1,
           "gt",
           0.7,
           100,
           216
          ],
          [
           true,
           null,
           false,
           1,
           "gt",
           0.9210526315789473,
           101,
           219
          ],
          [
           true,
           null,
           false,
           1,
           "gt",
           0.9239130434782609,
           102,
           225
          ],
          [
           true,
           null,
           false,
           1,
           "gt",
           0.9319727891156463,
           103,
           228
          ],
          [
           true,
           null,
           false,
           1,
           "gt",
           0.5580110497237569,
           104,
           232
          ],
          [
           true,
           null,
           false,
           1,
           "gt",
           0.8192771084337349,
           105,
           234
          ],
          [
           true,
           null,
           false,
           1,
           "gt",
           0.40198511166253104,
           106,
           236
          ],
          [
           true,
           null,
           false,
           1,
           "gt",
           0.7290322580645161,
           107,
           237
          ],
          [
           true,
           null,
           false,
           1,
           "gt",
           0.775,
           108,
           238
          ],
          [
           true,
           null,
           false,
           1,
           "gt",
           0.9583333333333334,
           109,
           240
          ],
          [
           true,
           null,
           false,
           1,
           "gt",
           0.7112299465240641,
           110,
           244
          ],
          [
           true,
           null,
           false,
           1,
           "gt",
           0.7485714285714286,
           111,
           245
          ],
          [
           true,
           null,
           false,
           1,
           "gt",
           0.7142857142857143,
           112,
           249
          ],
          [
           true,
           null,
           false,
           1,
           "gt",
           0.943127962085308,
           113,
           251
          ],
          [
           true,
           null,
           false,
           1,
           "gt",
           0.7426900584795322,
           114,
           253
          ],
          [
           true,
           null,
           false,
           1,
           "gt",
           0.7297297297297297,
           115,
           256
          ],
          [
           true,
           null,
           false,
           1,
           "gt",
           0.8857142857142857,
           116,
           258
          ],
          [
           true,
           null,
           false,
           1,
           "gt",
           0.8382352941176471,
           117,
           259
          ],
          [
           true,
           null,
           false,
           1,
           "gt",
           0.76,
           118,
           260
          ],
          [
           true,
           null,
           false,
           1,
           "gt",
           0.7745664739884393,
           119,
           264
          ],
          [
           true,
           null,
           false,
           1,
           "gt",
           0.8904109589041096,
           120,
           265
          ],
          [
           true,
           null,
           false,
           1,
           "gt",
           0.978021978021978,
           121,
           266
          ],
          [
           true,
           null,
           false,
           1,
           "gt",
           0.7304347826086957,
           122,
           267
          ],
          [
           true,
           null,
           false,
           1,
           "gt",
           0.8255813953488372,
           123,
           269
          ],
          [
           true,
           null,
           false,
           1,
           "gt",
           0.8079470198675497,
           124,
           270
          ],
          [
           true,
           null,
           false,
           1,
           "gt",
           0.6781609195402298,
           125,
           271
          ],
          [
           true,
           null,
           false,
           1,
           "gt",
           0.8214285714285714,
           126,
           272
          ],
          [
           true,
           null,
           false,
           1,
           "gt",
           0.8525345622119815,
           127,
           273
          ],
          [
           true,
           null,
           false,
           1,
           "gt",
           0.8923076923076924,
           128,
           274
          ],
          [
           true,
           null,
           false,
           1,
           "gt",
           0.8527918781725888,
           129,
           279
          ],
          [
           true,
           null,
           false,
           1,
           "gt",
           0.7659574468085106,
           130,
           282
          ],
          [
           true,
           null,
           false,
           1,
           "gt",
           0.7727272727272727,
           131,
           283
          ],
          [
           true,
           null,
           false,
           1,
           "gt",
           0.904,
           132,
           285
          ],
          [
           true,
           null,
           false,
           1,
           "gt",
           0.8455882352941176,
           133,
           286
          ],
          [
           true,
           null,
           false,
           1,
           "gt",
           0.7169230769230769,
           134,
           288
          ],
          [
           true,
           null,
           false,
           1,
           "gt",
           0.9166666666666666,
           135,
           294
          ],
          [
           true,
           null,
           false,
           1,
           "gt",
           0.6818181818181818,
           136,
           300
          ],
          [
           true,
           null,
           false,
           1,
           "gt",
           0.9479768786127167,
           137,
           302
          ],
          [
           true,
           null,
           false,
           1,
           "gt",
           0.7692307692307693,
           138,
           304
          ],
          [
           true,
           null,
           false,
           1,
           "gt",
           0.35051546391752575,
           139,
           309
          ],
          [
           true,
           null,
           false,
           1,
           "gt",
           0.6597938144329897,
           140,
           310
          ],
          [
           true,
           null,
           false,
           1,
           "gt",
           0.849624060150376,
           141,
           311
          ],
          [
           true,
           null,
           false,
           1,
           "gt",
           0.8671328671328671,
           142,
           312
          ],
          [
           true,
           null,
           false,
           1,
           "gt",
           0.4716312056737589,
           143,
           317
          ],
          [
           true,
           null,
           false,
           1,
           "gt",
           0.8797814207650273,
           144,
           318
          ],
          [
           true,
           null,
           false,
           1,
           "gt",
           0.8707865168539326,
           145,
           321
          ],
          [
           true,
           null,
           false,
           1,
           "gt",
           0.6604938271604939,
           146,
           322
          ],
          [
           true,
           null,
           false,
           1,
           "gt",
           0.7828571428571428,
           147,
           324
          ],
          [
           true,
           null,
           false,
           1,
           "gt",
           0.6871794871794872,
           148,
           326
          ],
          [
           true,
           null,
           false,
           1,
           "gt",
           0.6758241758241759,
           149,
           333
          ],
          [
           true,
           null,
           false,
           1,
           "gt",
           0.6431924882629108,
           150,
           334
          ],
          [
           true,
           null,
           false,
           1,
           "gt",
           0.8894736842105263,
           151,
           336
          ],
          [
           true,
           null,
           false,
           1,
           "gt",
           0.7184873949579832,
           152,
           338
          ],
          [
           true,
           null,
           false,
           1,
           "gt",
           0.8539325842696629,
           153,
           339
          ],
          [
           true,
           null,
           false,
           1,
           "gt",
           0.8043478260869565,
           154,
           342
          ],
          [
           true,
           null,
           false,
           1,
           "gt",
           0.6844444444444444,
           155,
           345
          ],
          [
           true,
           null,
           false,
           1,
           "gt",
           0.7485714285714286,
           156,
           346
          ],
          [
           true,
           null,
           false,
           1,
           "gt",
           0.9386503067484663,
           157,
           350
          ],
          [
           true,
           null,
           false,
           1,
           "gt",
           0.900709219858156,
           158,
           352
          ],
          [
           true,
           null,
           false,
           1,
           "gt",
           0.7204301075268817,
           159,
           357
          ],
          [
           true,
           null,
           false,
           1,
           "gt",
           0.639344262295082,
           160,
           361
          ],
          [
           true,
           null,
           false,
           1,
           "gt",
           0.7976878612716763,
           161,
           362
          ],
          [
           true,
           null,
           false,
           1,
           "gt",
           0.8245614035087719,
           162,
           363
          ],
          [
           true,
           null,
           false,
           1,
           "gt",
           0.6728971962616822,
           163,
           364
          ],
          [
           true,
           null,
           false,
           1,
           "gt",
           0.7712418300653595,
           164,
           365
          ],
          [
           true,
           null,
           false,
           1,
           "gt",
           0.8272251308900523,
           165,
           367
          ],
          [
           true,
           null,
           false,
           1,
           "gt",
           0.8883248730964467,
           166,
           369
          ],
          [
           true,
           null,
           false,
           1,
           "gt",
           0.7946428571428571,
           167,
           370
          ],
          [
           true,
           null,
           false,
           1,
           "gt",
           0.7467248908296943,
           168,
           371
          ],
          [
           true,
           null,
           false,
           1,
           "gt",
           0.8387096774193549,
           169,
           373
          ],
          [
           true,
           null,
           false,
           1,
           "gt",
           0.7808219178082192,
           170,
           374
          ],
          [
           true,
           null,
           false,
           1,
           "gt",
           0.7318181818181818,
           171,
           375
          ],
          [
           true,
           null,
           false,
           1,
           "gt",
           0.9323308270676691,
           172,
           376
          ],
          [
           true,
           null,
           false,
           1,
           "gt",
           0.7702127659574468,
           173,
           381
          ],
          [
           true,
           null,
           false,
           1,
           "gt",
           0.6548223350253807,
           174,
           382
          ],
          [
           true,
           null,
           false,
           1,
           "gt",
           0.7541899441340782,
           175,
           389
          ],
          [
           true,
           null,
           false,
           1,
           "gt",
           0.9593023255813954,
           176,
           391
          ],
          [
           true,
           null,
           false,
           1,
           "gt",
           0.7359550561797753,
           177,
           392
          ],
          [
           true,
           null,
           false,
           1,
           "gt",
           0.903448275862069,
           178,
           393
          ],
          [
           true,
           null,
           false,
           1,
           "gt",
           0.7819548872180451,
           179,
           395
          ],
          [
           true,
           null,
           false,
           1,
           "gt",
           0.6905829596412556,
           180,
           396
          ],
          [
           true,
           null,
           false,
           1,
           "gt",
           0.7132867132867133,
           181,
           399
          ],
          [
           true,
           null,
           false,
           1,
           "gt",
           0.9375,
           182,
           400
          ],
          [
           true,
           null,
           false,
           1,
           "gt",
           0.67,
           183,
           406
          ],
          [
           true,
           null,
           false,
           1,
           "gt",
           0.889763779527559,
           184,
           407
          ],
          [
           true,
           null,
           false,
           1,
           "gt",
           0.8341968911917098,
           185,
           408
          ],
          [
           true,
           null,
           false,
           1,
           "gt",
           0.7872340425531915,
           186,
           409
          ],
          [
           true,
           null,
           false,
           1,
           "gt",
           0.9415204678362573,
           187,
           410
          ],
          [
           true,
           null,
           false,
           1,
           "gt",
           0.6722222222222223,
           188,
           411
          ],
          [
           true,
           null,
           false,
           1,
           "gt",
           0.7878787878787878,
           189,
           416
          ],
          [
           true,
           null,
           false,
           1,
           "gt",
           0.8031088082901554,
           190,
           417
          ],
          [
           true,
           null,
           false,
           1,
           "gt",
           0.7636363636363637,
           191,
           419
          ],
          [
           true,
           null,
           false,
           1,
           "gt",
           0.9661016949152542,
           192,
           422
          ],
          [
           true,
           null,
           false,
           1,
           "gt",
           0.8255813953488372,
           193,
           425
          ],
          [
           true,
           null,
           false,
           1,
           "gt",
           0.8722222222222222,
           194,
           427
          ],
          [
           true,
           null,
           false,
           1,
           "gt",
           0.5829596412556054,
           195,
           428
          ],
          [
           true,
           null,
           false,
           1,
           "gt",
           0.7953488372093023,
           196,
           431
          ],
          [
           true,
           null,
           false,
           1,
           "gt",
           0.8960396039603961,
           197,
           433
          ],
          [
           true,
           null,
           false,
           1,
           "gt",
           0.8197674418604651,
           198,
           438
          ],
          [
           true,
           null,
           false,
           1,
           "gt",
           0.925,
           199,
           441
          ],
          [
           true,
           null,
           false,
           1,
           "gt",
           0.935064935064935,
           200,
           442
          ],
          [
           true,
           null,
           false,
           1,
           "gt",
           0.9109947643979057,
           201,
           444
          ],
          [
           true,
           null,
           false,
           1,
           "gt",
           0.7403846153846154,
           202,
           447
          ],
          [
           true,
           null,
           false,
           1,
           "gt",
           0.7368421052631579,
           203,
           448
          ],
          [
           true,
           null,
           false,
           1,
           "gt",
           0.6517412935323383,
           204,
           449
          ],
          [
           true,
           null,
           false,
           1,
           "gt",
           0.7900552486187845,
           205,
           452
          ],
          [
           true,
           null,
           false,
           1,
           "gt",
           0.8275862068965517,
           206,
           453
          ],
          [
           true,
           null,
           false,
           1,
           "gt",
           0.9337748344370861,
           207,
           456
          ],
          [
           true,
           null,
           false,
           1,
           "gt",
           0.8860759493670886,
           208,
           459
          ],
          [
           true,
           null,
           false,
           1,
           "gt",
           0.7891156462585034,
           209,
           460
          ],
          [
           true,
           null,
           false,
           1,
           "gt",
           0.7654320987654321,
           210,
           461
          ],
          [
           true,
           null,
           false,
           1,
           "gt",
           0.9081081081081082,
           211,
           465
          ],
          [
           true,
           null,
           false,
           1,
           "gt",
           0.8277511961722488,
           212,
           467
          ],
          [
           true,
           null,
           false,
           1,
           "gt",
           0.7528735632183908,
           213,
           476
          ],
          [
           true,
           null,
           false,
           1,
           "gt",
           0.8127853881278538,
           214,
           477
          ],
          [
           true,
           null,
           false,
           1,
           "gt",
           0.6521739130434783,
           215,
           478
          ],
          [
           true,
           null,
           false,
           1,
           "gt",
           0.7819905213270142,
           216,
           481
          ],
          [
           true,
           null,
           false,
           1,
           "gt",
           0.7580645161290323,
           217,
           486
          ],
          [
           true,
           null,
           false,
           1,
           "gt",
           0.7914438502673797,
           218,
           487
          ],
          [
           true,
           null,
           false,
           1,
           "gt",
           0.94375,
           219,
           488
          ],
          [
           true,
           null,
           false,
           1,
           "gt",
           0.7474226804123711,
           220,
           491
          ],
          [
           true,
           null,
           false,
           1,
           "gt",
           0.8470588235294118,
           221,
           492
          ],
          [
           true,
           null,
           false,
           1,
           "gt",
           0.7877094972067039,
           222,
           497
          ],
          [
           true,
           null,
           false,
           1,
           "gt",
           0.8188405797101449,
           223,
           499
          ],
          [
           true,
           null,
           false,
           1,
           "gt",
           0.8784530386740331,
           224,
           502
          ],
          [
           true,
           null,
           false,
           1,
           "gt",
           0.637065637065637,
           225,
           504
          ],
          [
           false,
           null,
           true,
           1,
           "gt",
           0,
           226,
           "NA"
          ],
          [
           true,
           null,
           false,
           1,
           "gt",
           0.8415841584158416,
           227,
           508
          ],
          [
           true,
           null,
           false,
           1,
           "gt",
           0.7289156626506024,
           228,
           513
          ],
          [
           true,
           null,
           false,
           1,
           "gt",
           0.7796610169491526,
           229,
           514
          ],
          [
           true,
           null,
           false,
           1,
           "gt",
           0.6377551020408163,
           230,
           518
          ],
          [
           true,
           null,
           false,
           1,
           "gt",
           0.8823529411764706,
           231,
           523
          ],
          [
           true,
           null,
           false,
           1,
           "gt",
           0.81,
           232,
           528
          ],
          [
           true,
           null,
           false,
           1,
           "gt",
           0.8693181818181818,
           233,
           532
          ],
          [
           true,
           null,
           false,
           1,
           "gt",
           0.7614678899082569,
           234,
           542
          ],
          [
           true,
           null,
           false,
           1,
           "gt",
           0.7904191616766467,
           235,
           543
          ],
          [
           false,
           null,
           true,
           1,
           "gt",
           0,
           236,
           "NA"
          ],
          [
           true,
           null,
           false,
           1,
           "gt",
           0.7404255319148936,
           237,
           544
          ],
          [
           true,
           null,
           false,
           1,
           "gt",
           0.7764705882352941,
           238,
           546
          ],
          [
           true,
           null,
           false,
           1,
           "gt",
           0.8431372549019608,
           239,
           547
          ],
          [
           true,
           null,
           false,
           1,
           "gt",
           0.7861271676300579,
           240,
           549
          ],
          [
           true,
           null,
           false,
           1,
           "gt",
           0.6521739130434783,
           241,
           554
          ],
          [
           true,
           null,
           false,
           1,
           "gt",
           0.9057591623036649,
           242,
           555
          ],
          [
           true,
           null,
           false,
           1,
           "gt",
           0.8088235294117647,
           243,
           556
          ],
          [
           true,
           null,
           false,
           1,
           "gt",
           0.8394495412844036,
           244,
           561
          ],
          [
           true,
           null,
           false,
           1,
           "gt",
           0.7015706806282722,
           245,
           562
          ],
          [
           true,
           null,
           false,
           1,
           "gt",
           0.5654008438818565,
           246,
           563
          ],
          [
           true,
           null,
           false,
           1,
           "gt",
           0.8172043010752689,
           247,
           564
          ],
          [
           true,
           null,
           false,
           1,
           "gt",
           0.6953125,
           248,
           565
          ],
          [
           true,
           null,
           false,
           1,
           "gt",
           0.8944444444444445,
           249,
           566
          ],
          [
           true,
           null,
           false,
           1,
           "gt",
           0.6833333333333333,
           250,
           568
          ],
          [
           true,
           null,
           false,
           1,
           "gt",
           0.8554913294797688,
           251,
           570
          ],
          [
           true,
           null,
           false,
           1,
           "gt",
           0.7848837209302325,
           252,
           571
          ],
          [
           true,
           null,
           false,
           1,
           "gt",
           0.7586206896551724,
           253,
           576
          ],
          [
           true,
           null,
           false,
           1,
           "gt",
           0.9576719576719577,
           254,
           579
          ],
          [
           true,
           null,
           false,
           1,
           "gt",
           0.7419354838709677,
           255,
           580
          ],
          [
           true,
           null,
           false,
           1,
           "gt",
           0.8682634730538922,
           256,
           581
          ],
          [
           true,
           null,
           false,
           1,
           "gt",
           0.7366071428571429,
           257,
           582
          ],
          [
           true,
           null,
           false,
           1,
           "gt",
           0.8473684210526315,
           258,
           584
          ],
          [
           true,
           null,
           false,
           1,
           "gt",
           0.6807511737089202,
           259,
           585
          ],
          [
           true,
           null,
           false,
           1,
           "gt",
           0.7017543859649122,
           260,
           586
          ],
          [
           true,
           null,
           false,
           1,
           "gt",
           0.5845410628019324,
           261,
           587
          ],
          [
           true,
           null,
           false,
           1,
           "gt",
           0.7594339622641509,
           262,
           589
          ],
          [
           true,
           null,
           false,
           1,
           "gt",
           0.7854077253218884,
           263,
           590
          ],
          [
           true,
           null,
           false,
           1,
           "gt",
           0.7064220183486238,
           264,
           594
          ],
          [
           true,
           null,
           false,
           1,
           "gt",
           0.8082191780821918,
           265,
           597
          ],
          [
           true,
           null,
           false,
           1,
           "gt",
           0.7857142857142857,
           266,
           602
          ],
          [
           true,
           null,
           false,
           1,
           "gt",
           0.8055555555555556,
           267,
           610
          ],
          [
           true,
           null,
           false,
           1,
           "gt",
           0.8888888888888888,
           268,
           612
          ],
          [
           true,
           null,
           false,
           1,
           "gt",
           0.8995215311004785,
           269,
           613
          ],
          [
           true,
           null,
           false,
           1,
           "gt",
           0.8214285714285714,
           270,
           617
          ],
          [
           true,
           null,
           false,
           1,
           "gt",
           0.616580310880829,
           271,
           620
          ],
          [
           true,
           null,
           false,
           1,
           "gt",
           0.8761061946902655,
           272,
           621
          ],
          [
           true,
           null,
           false,
           1,
           "gt",
           0.7523364485981309,
           273,
           622
          ],
          [
           true,
           null,
           false,
           1,
           "gt",
           0.79,
           274,
           627
          ],
          [
           true,
           null,
           false,
           1,
           "gt",
           0.7945945945945946,
           275,
           628
          ],
          [
           true,
           null,
           false,
           1,
           "gt",
           0.577639751552795,
           276,
           630
          ],
          [
           true,
           null,
           false,
           1,
           "gt",
           0.7850467289719626,
           277,
           632
          ],
          [
           true,
           null,
           false,
           1,
           "gt",
           0.8555555555555555,
           278,
           636
          ],
          [
           true,
           null,
           false,
           1,
           "gt",
           0.6267942583732058,
           279,
           637
          ],
          [
           true,
           null,
           false,
           1,
           "gt",
           0.7069767441860465,
           280,
           641
          ],
          [
           true,
           null,
           false,
           1,
           "gt",
           0.7175925925925926,
           281,
           651
          ],
          [
           true,
           null,
           false,
           1,
           "gt",
           0.7523809523809524,
           282,
           656
          ],
          [
           true,
           null,
           false,
           1,
           "gt",
           0.88125,
           283,
           659
          ],
          [
           true,
           null,
           false,
           1,
           "gt",
           0.9047619047619048,
           284,
           661
          ],
          [
           true,
           null,
           false,
           1,
           "gt",
           0.7910447761194029,
           285,
           662
          ],
          [
           true,
           null,
           false,
           1,
           "gt",
           0.7942857142857143,
           286,
           663
          ],
          [
           true,
           null,
           false,
           1,
           "gt",
           0.6618357487922706,
           287,
           669
          ],
          [
           true,
           null,
           false,
           1,
           "gt",
           0.89375,
           288,
           670
          ],
          [
           true,
           null,
           false,
           1,
           "gt",
           0.9085365853658537,
           289,
           675
          ],
          [
           true,
           null,
           false,
           1,
           "gt",
           0.8243243243243243,
           290,
           676
          ],
          [
           true,
           null,
           false,
           1,
           "gt",
           0.978021978021978,
           291,
           677
          ],
          [
           true,
           null,
           false,
           1,
           "gt",
           0.9068627450980392,
           292,
           679
          ],
          [
           true,
           null,
           false,
           1,
           "gt",
           0.7621359223300971,
           293,
           680
          ],
          [
           true,
           null,
           false,
           1,
           "gt",
           0.56,
           294,
           683
          ],
          [
           true,
           null,
           false,
           1,
           "gt",
           0.7239583333333334,
           295,
           698
          ],
          [
           true,
           null,
           false,
           1,
           "gt",
           0.6889952153110048,
           296,
           699
          ],
          [
           true,
           null,
           false,
           1,
           "gt",
           0.8383233532934131,
           297,
           700
          ],
          [
           true,
           null,
           false,
           1,
           "gt",
           0.7562189054726368,
           298,
           701
          ],
          [
           true,
           null,
           false,
           1,
           "gt",
           0.7543859649122807,
           299,
           721
          ],
          [
           true,
           null,
           false,
           1,
           "gt",
           0.850828729281768,
           300,
           722
          ],
          [
           true,
           null,
           false,
           1,
           "gt",
           0.7789473684210526,
           301,
           726
          ],
          [
           true,
           null,
           false,
           1,
           "gt",
           0.9289940828402367,
           302,
           727
          ],
          [
           true,
           null,
           false,
           1,
           "gt",
           0.8277777777777777,
           303,
           738
          ],
          [
           true,
           null,
           false,
           1,
           "gt",
           0.8896551724137931,
           304,
           743
          ],
          [
           true,
           null,
           false,
           1,
           "gt",
           0.9096385542168675,
           305,
           744
          ],
          [
           true,
           null,
           false,
           1,
           "gt",
           0.8654970760233918,
           306,
           755
          ],
          [
           true,
           null,
           false,
           1,
           "gt",
           0.7835820895522388,
           307,
           757
          ]
         ],
         "hovertemplate": "iou=%{marker.color:.4f}<br>indexGT=%{customdata[6]}<br>indexOut=%{customdata[7]}<extra></extra>",
         "legendgroup": "gt",
         "marker": {
          "color": [
           0.6101694915254238,
           0.43410852713178294,
           0.7298850574712644,
           0.5576923076923077,
           0.8640776699029126,
           0.842741935483871,
           0.7864077669902912,
           0.6777777777777778,
           0.8270676691729323,
           0.8228571428571428,
           0.8076923076923077,
           0.6829268292682927,
           0.4343065693430657,
           0.8009259259259259,
           0.8651685393258427,
           0.7789473684210526,
           0.868020304568528,
           0.8494623655913979,
           0.8587570621468926,
           0.7373271889400922,
           0.7100371747211895,
           0.72,
           0.7834394904458599,
           0.5605381165919282,
           0.900523560209424,
           0.8615384615384616,
           0.6355555555555555,
           0.8588957055214724,
           0.8241206030150754,
           0.810126582278481,
           0.7524752475247525,
           0.8763440860215054,
           0.504,
           0.6484848484848484,
           0.4722222222222222,
           0.7128712871287128,
           0.7004608294930875,
           0.7631578947368421,
           0.7515923566878981,
           0.6619718309859155,
           0.4972067039106145,
           0.7528735632183908,
           0.8342857142857143,
           0.6409090909090909,
           0.7873563218390804,
           0.719047619047619,
           0.9126984126984127,
           0.8108108108108109,
           0.698019801980198,
           0.6827956989247311,
           0.8910256410256411,
           0.8046875,
           0.6504854368932039,
           0.8615384615384616,
           0.9662162162162162,
           0.8851351351351351,
           0.5459459459459459,
           0.847953216374269,
           0.6666666666666666,
           0.9347826086956522,
           0,
           0.7301587301587301,
           0,
           0.8251121076233184,
           0.9322033898305084,
           0.544,
           0.7085427135678392,
           0.6898148148148148,
           0.8272251308900523,
           0.7265625,
           0.9488636363636364,
           0.8757763975155279,
           0.7357142857142858,
           0.5707547169811321,
           0.8904109589041096,
           0.7423312883435583,
           0.8921568627450981,
           0.7477064220183486,
           0.8548387096774194,
           0.7450980392156863,
           0.9209039548022598,
           0.838150289017341,
           0.6801801801801802,
           0.9464285714285714,
           0.8165137614678899,
           0.7089201877934272,
           0.9467455621301775,
           0.7562189054726368,
           0.8855421686746988,
           0.745945945945946,
           0.7486033519553073,
           0.9477611940298507,
           0.8586387434554974,
           0.8702702702702703,
           0.6634615384615384,
           0.8411764705882353,
           0.5990566037735849,
           0.6496815286624203,
           0.7951807228915663,
           0.8102189781021898,
           0.7,
           0.9210526315789473,
           0.9239130434782609,
           0.9319727891156463,
           0.5580110497237569,
           0.8192771084337349,
           0.40198511166253104,
           0.7290322580645161,
           0.775,
           0.9583333333333334,
           0.7112299465240641,
           0.7485714285714286,
           0.7142857142857143,
           0.943127962085308,
           0.7426900584795322,
           0.7297297297297297,
           0.8857142857142857,
           0.8382352941176471,
           0.76,
           0.7745664739884393,
           0.8904109589041096,
           0.978021978021978,
           0.7304347826086957,
           0.8255813953488372,
           0.8079470198675497,
           0.6781609195402298,
           0.8214285714285714,
           0.8525345622119815,
           0.8923076923076924,
           0.8527918781725888,
           0.7659574468085106,
           0.7727272727272727,
           0.904,
           0.8455882352941176,
           0.7169230769230769,
           0.9166666666666666,
           0.6818181818181818,
           0.9479768786127167,
           0.7692307692307693,
           0.35051546391752575,
           0.6597938144329897,
           0.849624060150376,
           0.8671328671328671,
           0.4716312056737589,
           0.8797814207650273,
           0.8707865168539326,
           0.6604938271604939,
           0.7828571428571428,
           0.6871794871794872,
           0.6758241758241759,
           0.6431924882629108,
           0.8894736842105263,
           0.7184873949579832,
           0.8539325842696629,
           0.8043478260869565,
           0.6844444444444444,
           0.7485714285714286,
           0.9386503067484663,
           0.900709219858156,
           0.7204301075268817,
           0.639344262295082,
           0.7976878612716763,
           0.8245614035087719,
           0.6728971962616822,
           0.7712418300653595,
           0.8272251308900523,
           0.8883248730964467,
           0.7946428571428571,
           0.7467248908296943,
           0.8387096774193549,
           0.7808219178082192,
           0.7318181818181818,
           0.9323308270676691,
           0.7702127659574468,
           0.6548223350253807,
           0.7541899441340782,
           0.9593023255813954,
           0.7359550561797753,
           0.903448275862069,
           0.7819548872180451,
           0.6905829596412556,
           0.7132867132867133,
           0.9375,
           0.67,
           0.889763779527559,
           0.8341968911917098,
           0.7872340425531915,
           0.9415204678362573,
           0.6722222222222223,
           0.7878787878787878,
           0.8031088082901554,
           0.7636363636363637,
           0.9661016949152542,
           0.8255813953488372,
           0.8722222222222222,
           0.5829596412556054,
           0.7953488372093023,
           0.8960396039603961,
           0.8197674418604651,
           0.925,
           0.935064935064935,
           0.9109947643979057,
           0.7403846153846154,
           0.7368421052631579,
           0.6517412935323383,
           0.7900552486187845,
           0.8275862068965517,
           0.9337748344370861,
           0.8860759493670886,
           0.7891156462585034,
           0.7654320987654321,
           0.9081081081081082,
           0.8277511961722488,
           0.7528735632183908,
           0.8127853881278538,
           0.6521739130434783,
           0.7819905213270142,
           0.7580645161290323,
           0.7914438502673797,
           0.94375,
           0.7474226804123711,
           0.8470588235294118,
           0.7877094972067039,
           0.8188405797101449,
           0.8784530386740331,
           0.637065637065637,
           0,
           0.8415841584158416,
           0.7289156626506024,
           0.7796610169491526,
           0.6377551020408163,
           0.8823529411764706,
           0.81,
           0.8693181818181818,
           0.7614678899082569,
           0.7904191616766467,
           0,
           0.7404255319148936,
           0.7764705882352941,
           0.8431372549019608,
           0.7861271676300579,
           0.6521739130434783,
           0.9057591623036649,
           0.8088235294117647,
           0.8394495412844036,
           0.7015706806282722,
           0.5654008438818565,
           0.8172043010752689,
           0.6953125,
           0.8944444444444445,
           0.6833333333333333,
           0.8554913294797688,
           0.7848837209302325,
           0.7586206896551724,
           0.9576719576719577,
           0.7419354838709677,
           0.8682634730538922,
           0.7366071428571429,
           0.8473684210526315,
           0.6807511737089202,
           0.7017543859649122,
           0.5845410628019324,
           0.7594339622641509,
           0.7854077253218884,
           0.7064220183486238,
           0.8082191780821918,
           0.7857142857142857,
           0.8055555555555556,
           0.8888888888888888,
           0.8995215311004785,
           0.8214285714285714,
           0.616580310880829,
           0.8761061946902655,
           0.7523364485981309,
           0.79,
           0.7945945945945946,
           0.577639751552795,
           0.7850467289719626,
           0.8555555555555555,
           0.6267942583732058,
           0.7069767441860465,
           0.7175925925925926,
           0.7523809523809524,
           0.88125,
           0.9047619047619048,
           0.7910447761194029,
           0.7942857142857143,
           0.6618357487922706,
           0.89375,
           0.9085365853658537,
           0.8243243243243243,
           0.978021978021978,
           0.9068627450980392,
           0.7621359223300971,
           0.56,
           0.7239583333333334,
           0.6889952153110048,
           0.8383233532934131,
           0.7562189054726368,
           0.7543859649122807,
           0.850828729281768,
           0.7789473684210526,
           0.9289940828402367,
           0.8277777777777777,
           0.8896551724137931,
           0.9096385542168675,
           0.8654970760233918,
           0.7835820895522388
          ],
          "coloraxis": "coloraxis",
          "line": {
           "width": 2
          },
          "opacity": 0.8,
          "size": [
           1,
           1,
           1,
           1,
           1,
           1,
           1,
           1,
           1,
           1,
           1,
           1,
           1,
           1,
           1,
           1,
           1,
           1,
           1,
           1,
           1,
           1,
           1,
           1,
           1,
           1,
           1,
           1,
           1,
           1,
           1,
           1,
           1,
           1,
           1,
           1,
           1,
           1,
           1,
           1,
           1,
           1,
           1,
           1,
           1,
           1,
           1,
           1,
           1,
           1,
           1,
           1,
           1,
           1,
           1,
           1,
           1,
           1,
           1,
           1,
           1,
           1,
           1,
           1,
           1,
           1,
           1,
           1,
           1,
           1,
           1,
           1,
           1,
           1,
           1,
           1,
           1,
           1,
           1,
           1,
           1,
           1,
           1,
           1,
           1,
           1,
           1,
           1,
           1,
           1,
           1,
           1,
           1,
           1,
           1,
           1,
           1,
           1,
           1,
           1,
           1,
           1,
           1,
           1,
           1,
           1,
           1,
           1,
           1,
           1,
           1,
           1,
           1,
           1,
           1,
           1,
           1,
           1,
           1,
           1,
           1,
           1,
           1,
           1,
           1,
           1,
           1,
           1,
           1,
           1,
           1,
           1,
           1,
           1,
           1,
           1,
           1,
           1,
           1,
           1,
           1,
           1,
           1,
           1,
           1,
           1,
           1,
           1,
           1,
           1,
           1,
           1,
           1,
           1,
           1,
           1,
           1,
           1,
           1,
           1,
           1,
           1,
           1,
           1,
           1,
           1,
           1,
           1,
           1,
           1,
           1,
           1,
           1,
           1,
           1,
           1,
           1,
           1,
           1,
           1,
           1,
           1,
           1,
           1,
           1,
           1,
           1,
           1,
           1,
           1,
           1,
           1,
           1,
           1,
           1,
           1,
           1,
           1,
           1,
           1,
           1,
           1,
           1,
           1,
           1,
           1,
           1,
           1,
           1,
           1,
           1,
           1,
           1,
           1,
           1,
           1,
           1,
           1,
           1,
           1,
           1,
           1,
           1,
           1,
           1,
           1,
           1,
           1,
           1,
           1,
           1,
           1,
           1,
           1,
           1,
           1,
           1,
           1,
           1,
           1,
           1,
           1,
           1,
           1,
           1,
           1,
           1,
           1,
           1,
           1,
           1,
           1,
           1,
           1,
           1,
           1,
           1,
           1,
           1,
           1,
           1,
           1,
           1,
           1,
           1,
           1,
           1,
           1,
           1,
           1,
           1,
           1,
           1,
           1,
           1,
           1,
           1,
           1,
           1,
           1,
           1,
           1,
           1,
           1,
           1,
           1,
           1,
           1,
           1,
           1,
           1,
           1,
           1,
           1,
           1,
           1,
           1,
           1,
           1,
           1,
           1,
           1,
           1,
           1,
           1,
           1,
           1,
           1
          ],
          "sizemode": "area",
          "sizeref": 0.0075,
          "symbol": "circle"
         },
         "mode": "markers",
         "name": "gt",
         "showlegend": true,
         "type": "scattergl",
         "x": [
          0,
          1,
          2,
          3,
          4,
          5,
          6,
          7,
          8,
          9,
          10,
          11,
          12,
          13,
          14,
          15,
          16,
          17,
          18,
          19,
          20,
          21,
          22,
          23,
          24,
          25,
          26,
          27,
          28,
          29,
          30,
          31,
          32,
          33,
          34,
          35,
          36,
          37,
          38,
          39,
          40,
          41,
          42,
          43,
          44,
          45,
          46,
          47,
          48,
          49,
          50,
          51,
          52,
          53,
          54,
          55,
          56,
          57,
          58,
          59,
          60,
          61,
          62,
          63,
          64,
          65,
          66,
          67,
          68,
          69,
          70,
          71,
          72,
          73,
          74,
          75,
          76,
          77,
          78,
          79,
          80,
          81,
          82,
          83,
          84,
          85,
          86,
          87,
          88,
          89,
          90,
          91,
          92,
          93,
          94,
          95,
          96,
          97,
          98,
          99,
          100,
          101,
          102,
          103,
          104,
          105,
          106,
          107,
          108,
          109,
          110,
          111,
          112,
          113,
          114,
          115,
          116,
          117,
          118,
          119,
          120,
          121,
          122,
          123,
          124,
          125,
          126,
          127,
          128,
          129,
          130,
          131,
          132,
          133,
          134,
          135,
          136,
          137,
          138,
          139,
          140,
          141,
          142,
          143,
          144,
          145,
          146,
          147,
          148,
          149,
          150,
          151,
          152,
          153,
          154,
          155,
          156,
          157,
          158,
          159,
          160,
          161,
          162,
          163,
          164,
          165,
          166,
          167,
          168,
          169,
          170,
          171,
          172,
          173,
          174,
          175,
          176,
          177,
          178,
          179,
          180,
          181,
          182,
          183,
          184,
          185,
          186,
          187,
          188,
          189,
          190,
          191,
          192,
          193,
          194,
          195,
          196,
          197,
          198,
          199,
          200,
          201,
          202,
          203,
          204,
          205,
          206,
          207,
          208,
          209,
          210,
          211,
          212,
          213,
          214,
          215,
          216,
          217,
          218,
          219,
          220,
          221,
          222,
          223,
          224,
          225,
          226,
          227,
          228,
          229,
          230,
          231,
          232,
          233,
          234,
          235,
          236,
          237,
          238,
          239,
          240,
          241,
          242,
          243,
          244,
          245,
          246,
          247,
          248,
          249,
          250,
          251,
          252,
          253,
          254,
          255,
          256,
          257,
          258,
          259,
          260,
          261,
          262,
          263,
          264,
          265,
          266,
          267,
          268,
          269,
          270,
          271,
          272,
          273,
          274,
          275,
          276,
          277,
          278,
          279,
          280,
          281,
          282,
          283,
          284,
          285,
          286,
          287,
          288,
          289,
          290,
          291,
          292,
          293,
          294,
          295,
          296,
          297,
          298,
          299,
          300,
          301,
          302,
          303,
          304,
          305,
          306,
          307
         ],
         "xaxis": "x",
         "y": [
          0,
          2,
          3,
          5,
          6,
          11,
          13,
          16,
          19,
          20,
          21,
          22,
          23,
          24,
          28,
          29,
          30,
          34,
          35,
          36,
          37,
          42,
          46,
          47,
          54,
          55,
          56,
          59,
          64,
          65,
          69,
          70,
          71,
          74,
          78,
          83,
          85,
          86,
          91,
          92,
          93,
          95,
          101,
          104,
          106,
          109,
          111,
          112,
          113,
          114,
          115,
          116,
          117,
          119,
          120,
          122,
          125,
          126,
          128,
          129,
          -10,
          130,
          -10,
          134,
          136,
          137,
          139,
          140,
          143,
          149,
          150,
          152,
          153,
          155,
          156,
          157,
          160,
          161,
          165,
          167,
          168,
          169,
          170,
          172,
          174,
          179,
          183,
          184,
          186,
          187,
          190,
          195,
          198,
          200,
          202,
          207,
          208,
          209,
          210,
          215,
          216,
          219,
          225,
          228,
          232,
          234,
          236,
          237,
          238,
          240,
          244,
          245,
          249,
          251,
          253,
          256,
          258,
          259,
          260,
          264,
          265,
          266,
          267,
          269,
          270,
          271,
          272,
          273,
          274,
          279,
          282,
          283,
          285,
          286,
          288,
          294,
          300,
          302,
          304,
          309,
          310,
          311,
          312,
          317,
          318,
          321,
          322,
          324,
          326,
          333,
          334,
          336,
          338,
          339,
          342,
          345,
          346,
          350,
          352,
          357,
          361,
          362,
          363,
          364,
          365,
          367,
          369,
          370,
          371,
          373,
          374,
          375,
          376,
          381,
          382,
          389,
          391,
          392,
          393,
          395,
          396,
          399,
          400,
          406,
          407,
          408,
          409,
          410,
          411,
          416,
          417,
          419,
          422,
          425,
          427,
          428,
          431,
          433,
          438,
          441,
          442,
          444,
          447,
          448,
          449,
          452,
          453,
          456,
          459,
          460,
          461,
          465,
          467,
          476,
          477,
          478,
          481,
          486,
          487,
          488,
          491,
          492,
          497,
          499,
          502,
          504,
          -10,
          508,
          513,
          514,
          518,
          523,
          528,
          532,
          542,
          543,
          -10,
          544,
          546,
          547,
          549,
          554,
          555,
          556,
          561,
          562,
          563,
          564,
          565,
          566,
          568,
          570,
          571,
          576,
          579,
          580,
          581,
          582,
          584,
          585,
          586,
          587,
          589,
          590,
          594,
          597,
          602,
          610,
          612,
          613,
          617,
          620,
          621,
          622,
          627,
          628,
          630,
          632,
          636,
          637,
          641,
          651,
          656,
          659,
          661,
          662,
          663,
          669,
          670,
          675,
          676,
          677,
          679,
          680,
          683,
          698,
          699,
          700,
          701,
          721,
          722,
          726,
          727,
          738,
          743,
          744,
          755,
          757
         ],
         "yaxis": "y"
        }
       ],
       "layout": {
        "coloraxis": {
         "colorbar": {
          "title": {
           "text": "iou"
          }
         },
         "colorscale": [
          [
           0,
           "rgb(40,40,40)"
          ],
          [
           0.000001,
           "rgb(28,227,255)"
          ],
          [
           0.14,
           "rgb(56,199,255)"
          ],
          [
           0.29,
           "rgb(85,170,255)"
          ],
          [
           0.42,
           "rgb(113,142,255)"
          ],
          [
           0.57,
           "rgb(142,113,255)"
          ],
          [
           0.71,
           "rgb(170,85,255)"
          ],
          [
           0.86,
           "rgb(199,56,255)"
          ],
          [
           1,
           "rgb(227,28,255)"
          ]
         ]
        },
        "legend": {
         "itemsizing": "constant",
         "orientation": "h",
         "title": {
          "text": "type"
         },
         "tracegroupgap": 0
        },
        "shapes": [
         {
          "line": {
           "dash": "dash"
          },
          "type": "line",
          "x0": -5,
          "x1": -5,
          "xref": "x",
          "y0": 0,
          "y1": 1,
          "yref": "y domain"
         },
         {
          "line": {
           "dash": "dash"
          },
          "type": "line",
          "x0": 0,
          "x1": 1,
          "xref": "x domain",
          "y0": -5,
          "y1": -5,
          "yref": "y"
         }
        ],
        "template": {
         "data": {
          "bar": [
           {
            "error_x": {
             "color": "#2a3f5f"
            },
            "error_y": {
             "color": "#2a3f5f"
            },
            "marker": {
             "line": {
              "color": "#E5ECF6",
              "width": 0.5
             },
             "pattern": {
              "fillmode": "overlay",
              "size": 10,
              "solidity": 0.2
             }
            },
            "type": "bar"
           }
          ],
          "barpolar": [
           {
            "marker": {
             "line": {
              "color": "#E5ECF6",
              "width": 0.5
             },
             "pattern": {
              "fillmode": "overlay",
              "size": 10,
              "solidity": 0.2
             }
            },
            "type": "barpolar"
           }
          ],
          "carpet": [
           {
            "aaxis": {
             "endlinecolor": "#2a3f5f",
             "gridcolor": "white",
             "linecolor": "white",
             "minorgridcolor": "white",
             "startlinecolor": "#2a3f5f"
            },
            "baxis": {
             "endlinecolor": "#2a3f5f",
             "gridcolor": "white",
             "linecolor": "white",
             "minorgridcolor": "white",
             "startlinecolor": "#2a3f5f"
            },
            "type": "carpet"
           }
          ],
          "choropleth": [
           {
            "colorbar": {
             "outlinewidth": 0,
             "ticks": ""
            },
            "type": "choropleth"
           }
          ],
          "contour": [
           {
            "colorbar": {
             "outlinewidth": 0,
             "ticks": ""
            },
            "colorscale": [
             [
              0,
              "#0d0887"
             ],
             [
              0.1111111111111111,
              "#46039f"
             ],
             [
              0.2222222222222222,
              "#7201a8"
             ],
             [
              0.3333333333333333,
              "#9c179e"
             ],
             [
              0.4444444444444444,
              "#bd3786"
             ],
             [
              0.5555555555555556,
              "#d8576b"
             ],
             [
              0.6666666666666666,
              "#ed7953"
             ],
             [
              0.7777777777777778,
              "#fb9f3a"
             ],
             [
              0.8888888888888888,
              "#fdca26"
             ],
             [
              1,
              "#f0f921"
             ]
            ],
            "type": "contour"
           }
          ],
          "contourcarpet": [
           {
            "colorbar": {
             "outlinewidth": 0,
             "ticks": ""
            },
            "type": "contourcarpet"
           }
          ],
          "heatmap": [
           {
            "colorbar": {
             "outlinewidth": 0,
             "ticks": ""
            },
            "colorscale": [
             [
              0,
              "#0d0887"
             ],
             [
              0.1111111111111111,
              "#46039f"
             ],
             [
              0.2222222222222222,
              "#7201a8"
             ],
             [
              0.3333333333333333,
              "#9c179e"
             ],
             [
              0.4444444444444444,
              "#bd3786"
             ],
             [
              0.5555555555555556,
              "#d8576b"
             ],
             [
              0.6666666666666666,
              "#ed7953"
             ],
             [
              0.7777777777777778,
              "#fb9f3a"
             ],
             [
              0.8888888888888888,
              "#fdca26"
             ],
             [
              1,
              "#f0f921"
             ]
            ],
            "type": "heatmap"
           }
          ],
          "heatmapgl": [
           {
            "colorbar": {
             "outlinewidth": 0,
             "ticks": ""
            },
            "colorscale": [
             [
              0,
              "#0d0887"
             ],
             [
              0.1111111111111111,
              "#46039f"
             ],
             [
              0.2222222222222222,
              "#7201a8"
             ],
             [
              0.3333333333333333,
              "#9c179e"
             ],
             [
              0.4444444444444444,
              "#bd3786"
             ],
             [
              0.5555555555555556,
              "#d8576b"
             ],
             [
              0.6666666666666666,
              "#ed7953"
             ],
             [
              0.7777777777777778,
              "#fb9f3a"
             ],
             [
              0.8888888888888888,
              "#fdca26"
             ],
             [
              1,
              "#f0f921"
             ]
            ],
            "type": "heatmapgl"
           }
          ],
          "histogram": [
           {
            "marker": {
             "pattern": {
              "fillmode": "overlay",
              "size": 10,
              "solidity": 0.2
             }
            },
            "type": "histogram"
           }
          ],
          "histogram2d": [
           {
            "colorbar": {
             "outlinewidth": 0,
             "ticks": ""
            },
            "colorscale": [
             [
              0,
              "#0d0887"
             ],
             [
              0.1111111111111111,
              "#46039f"
             ],
             [
              0.2222222222222222,
              "#7201a8"
             ],
             [
              0.3333333333333333,
              "#9c179e"
             ],
             [
              0.4444444444444444,
              "#bd3786"
             ],
             [
              0.5555555555555556,
              "#d8576b"
             ],
             [
              0.6666666666666666,
              "#ed7953"
             ],
             [
              0.7777777777777778,
              "#fb9f3a"
             ],
             [
              0.8888888888888888,
              "#fdca26"
             ],
             [
              1,
              "#f0f921"
             ]
            ],
            "type": "histogram2d"
           }
          ],
          "histogram2dcontour": [
           {
            "colorbar": {
             "outlinewidth": 0,
             "ticks": ""
            },
            "colorscale": [
             [
              0,
              "#0d0887"
             ],
             [
              0.1111111111111111,
              "#46039f"
             ],
             [
              0.2222222222222222,
              "#7201a8"
             ],
             [
              0.3333333333333333,
              "#9c179e"
             ],
             [
              0.4444444444444444,
              "#bd3786"
             ],
             [
              0.5555555555555556,
              "#d8576b"
             ],
             [
              0.6666666666666666,
              "#ed7953"
             ],
             [
              0.7777777777777778,
              "#fb9f3a"
             ],
             [
              0.8888888888888888,
              "#fdca26"
             ],
             [
              1,
              "#f0f921"
             ]
            ],
            "type": "histogram2dcontour"
           }
          ],
          "mesh3d": [
           {
            "colorbar": {
             "outlinewidth": 0,
             "ticks": ""
            },
            "type": "mesh3d"
           }
          ],
          "parcoords": [
           {
            "line": {
             "colorbar": {
              "outlinewidth": 0,
              "ticks": ""
             }
            },
            "type": "parcoords"
           }
          ],
          "pie": [
           {
            "automargin": true,
            "type": "pie"
           }
          ],
          "scatter": [
           {
            "fillpattern": {
             "fillmode": "overlay",
             "size": 10,
             "solidity": 0.2
            },
            "type": "scatter"
           }
          ],
          "scatter3d": [
           {
            "line": {
             "colorbar": {
              "outlinewidth": 0,
              "ticks": ""
             }
            },
            "marker": {
             "colorbar": {
              "outlinewidth": 0,
              "ticks": ""
             }
            },
            "type": "scatter3d"
           }
          ],
          "scattercarpet": [
           {
            "marker": {
             "colorbar": {
              "outlinewidth": 0,
              "ticks": ""
             }
            },
            "type": "scattercarpet"
           }
          ],
          "scattergeo": [
           {
            "marker": {
             "colorbar": {
              "outlinewidth": 0,
              "ticks": ""
             }
            },
            "type": "scattergeo"
           }
          ],
          "scattergl": [
           {
            "marker": {
             "colorbar": {
              "outlinewidth": 0,
              "ticks": ""
             }
            },
            "type": "scattergl"
           }
          ],
          "scattermapbox": [
           {
            "marker": {
             "colorbar": {
              "outlinewidth": 0,
              "ticks": ""
             }
            },
            "type": "scattermapbox"
           }
          ],
          "scatterpolar": [
           {
            "marker": {
             "colorbar": {
              "outlinewidth": 0,
              "ticks": ""
             }
            },
            "type": "scatterpolar"
           }
          ],
          "scatterpolargl": [
           {
            "marker": {
             "colorbar": {
              "outlinewidth": 0,
              "ticks": ""
             }
            },
            "type": "scatterpolargl"
           }
          ],
          "scatterternary": [
           {
            "marker": {
             "colorbar": {
              "outlinewidth": 0,
              "ticks": ""
             }
            },
            "type": "scatterternary"
           }
          ],
          "surface": [
           {
            "colorbar": {
             "outlinewidth": 0,
             "ticks": ""
            },
            "colorscale": [
             [
              0,
              "#0d0887"
             ],
             [
              0.1111111111111111,
              "#46039f"
             ],
             [
              0.2222222222222222,
              "#7201a8"
             ],
             [
              0.3333333333333333,
              "#9c179e"
             ],
             [
              0.4444444444444444,
              "#bd3786"
             ],
             [
              0.5555555555555556,
              "#d8576b"
             ],
             [
              0.6666666666666666,
              "#ed7953"
             ],
             [
              0.7777777777777778,
              "#fb9f3a"
             ],
             [
              0.8888888888888888,
              "#fdca26"
             ],
             [
              1,
              "#f0f921"
             ]
            ],
            "type": "surface"
           }
          ],
          "table": [
           {
            "cells": {
             "fill": {
              "color": "#EBF0F8"
             },
             "line": {
              "color": "white"
             }
            },
            "header": {
             "fill": {
              "color": "#C8D4E3"
             },
             "line": {
              "color": "white"
             }
            },
            "type": "table"
           }
          ]
         },
         "layout": {
          "annotationdefaults": {
           "arrowcolor": "#2a3f5f",
           "arrowhead": 0,
           "arrowwidth": 1
          },
          "autotypenumbers": "strict",
          "coloraxis": {
           "colorbar": {
            "outlinewidth": 0,
            "ticks": ""
           }
          },
          "colorscale": {
           "diverging": [
            [
             0,
             "#8e0152"
            ],
            [
             0.1,
             "#c51b7d"
            ],
            [
             0.2,
             "#de77ae"
            ],
            [
             0.3,
             "#f1b6da"
            ],
            [
             0.4,
             "#fde0ef"
            ],
            [
             0.5,
             "#f7f7f7"
            ],
            [
             0.6,
             "#e6f5d0"
            ],
            [
             0.7,
             "#b8e186"
            ],
            [
             0.8,
             "#7fbc41"
            ],
            [
             0.9,
             "#4d9221"
            ],
            [
             1,
             "#276419"
            ]
           ],
           "sequential": [
            [
             0,
             "#0d0887"
            ],
            [
             0.1111111111111111,
             "#46039f"
            ],
            [
             0.2222222222222222,
             "#7201a8"
            ],
            [
             0.3333333333333333,
             "#9c179e"
            ],
            [
             0.4444444444444444,
             "#bd3786"
            ],
            [
             0.5555555555555556,
             "#d8576b"
            ],
            [
             0.6666666666666666,
             "#ed7953"
            ],
            [
             0.7777777777777778,
             "#fb9f3a"
            ],
            [
             0.8888888888888888,
             "#fdca26"
            ],
            [
             1,
             "#f0f921"
            ]
           ],
           "sequentialminus": [
            [
             0,
             "#0d0887"
            ],
            [
             0.1111111111111111,
             "#46039f"
            ],
            [
             0.2222222222222222,
             "#7201a8"
            ],
            [
             0.3333333333333333,
             "#9c179e"
            ],
            [
             0.4444444444444444,
             "#bd3786"
            ],
            [
             0.5555555555555556,
             "#d8576b"
            ],
            [
             0.6666666666666666,
             "#ed7953"
            ],
            [
             0.7777777777777778,
             "#fb9f3a"
            ],
            [
             0.8888888888888888,
             "#fdca26"
            ],
            [
             1,
             "#f0f921"
            ]
           ]
          },
          "colorway": [
           "#636efa",
           "#EF553B",
           "#00cc96",
           "#ab63fa",
           "#FFA15A",
           "#19d3f3",
           "#FF6692",
           "#B6E880",
           "#FF97FF",
           "#FECB52"
          ],
          "font": {
           "color": "#2a3f5f"
          },
          "geo": {
           "bgcolor": "white",
           "lakecolor": "white",
           "landcolor": "#E5ECF6",
           "showlakes": true,
           "showland": true,
           "subunitcolor": "white"
          },
          "hoverlabel": {
           "align": "left"
          },
          "hovermode": "closest",
          "mapbox": {
           "style": "light"
          },
          "paper_bgcolor": "white",
          "plot_bgcolor": "#E5ECF6",
          "polar": {
           "angularaxis": {
            "gridcolor": "white",
            "linecolor": "white",
            "ticks": ""
           },
           "bgcolor": "#E5ECF6",
           "radialaxis": {
            "gridcolor": "white",
            "linecolor": "white",
            "ticks": ""
           }
          },
          "scene": {
           "xaxis": {
            "backgroundcolor": "#E5ECF6",
            "gridcolor": "white",
            "gridwidth": 2,
            "linecolor": "white",
            "showbackground": true,
            "ticks": "",
            "zerolinecolor": "white"
           },
           "yaxis": {
            "backgroundcolor": "#E5ECF6",
            "gridcolor": "white",
            "gridwidth": 2,
            "linecolor": "white",
            "showbackground": true,
            "ticks": "",
            "zerolinecolor": "white"
           },
           "zaxis": {
            "backgroundcolor": "#E5ECF6",
            "gridcolor": "white",
            "gridwidth": 2,
            "linecolor": "white",
            "showbackground": true,
            "ticks": "",
            "zerolinecolor": "white"
           }
          },
          "shapedefaults": {
           "line": {
            "color": "#2a3f5f"
           }
          },
          "ternary": {
           "aaxis": {
            "gridcolor": "white",
            "linecolor": "white",
            "ticks": ""
           },
           "baxis": {
            "gridcolor": "white",
            "linecolor": "white",
            "ticks": ""
           },
           "bgcolor": "#E5ECF6",
           "caxis": {
            "gridcolor": "white",
            "linecolor": "white",
            "ticks": ""
           }
          },
          "title": {
           "x": 0.05
          },
          "xaxis": {
           "automargin": true,
           "gridcolor": "white",
           "linecolor": "white",
           "ticks": "",
           "title": {
            "standoff": 15
           },
           "zerolinecolor": "white",
           "zerolinewidth": 2
          },
          "yaxis": {
           "automargin": true,
           "gridcolor": "white",
           "linecolor": "white",
           "ticks": "",
           "title": {
            "standoff": 15
           },
           "zerolinecolor": "white",
           "zerolinewidth": 2
          }
         }
        },
        "title": {
         "text": "by-Event evaluation summary<br><sup>F1(@IoU>0.3)=0.5704 | minimum TP IoU: 0.3505</sup>"
        },
        "xaxis": {
         "anchor": "y",
         "domain": [
          0,
          1
         ],
         "range": [
          -20,
          318
         ],
         "title": {
          "text": "308 ANNOTATIONS | recall(@IoU>0.3)= 0.987"
         }
        },
        "yaxis": {
         "anchor": "x",
         "domain": [
          0,
          1
         ],
         "range": [
          -20,
          768
         ],
         "title": {
          "text": "758 DETECTIONS | precision(@IoU>0.3)= 0.4011"
         }
        }
       }
      }
     },
     "metadata": {},
     "output_type": "display_data"
    }
   ],
   "source": [
    "annotationPairToGraph(gtAnnotations,processedAnnotations)"
   ]
  }
 ],
 "metadata": {
  "kernelspec": {
   "display_name": "Python 3.10.6 ('venv': venv)",
   "language": "python",
   "name": "python3"
  },
  "language_info": {
   "codemirror_mode": {
    "name": "ipython",
    "version": 3
   },
   "file_extension": ".py",
   "mimetype": "text/x-python",
   "name": "python",
   "nbconvert_exporter": "python",
   "pygments_lexer": "ipython3",
   "version": "3.10.6"
  },
  "orig_nbformat": 4,
  "vscode": {
   "interpreter": {
    "hash": "69eb08d3e713eff25484e90b18c01e15df779e80a0db295f9ddc53faed0455be"
   }
  }
 },
 "nbformat": 4,
 "nbformat_minor": 2
}
