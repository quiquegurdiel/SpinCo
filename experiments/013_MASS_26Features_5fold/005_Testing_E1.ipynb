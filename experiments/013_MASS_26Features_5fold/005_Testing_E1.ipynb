{
 "cells": [
  {
   "attachments": {},
   "cell_type": "markdown",
   "metadata": {},
   "source": [
    "# Testing for E1 - using all spindles, training with all data\n",
    "fistly define the UUID of the experiment to use"
   ]
  },
  {
   "cell_type": "code",
   "execution_count": 1,
   "metadata": {},
   "outputs": [],
   "source": [
    "experimentId=\"953846a1-fd19-4195-904d-79525add579b\""
   ]
  },
  {
   "cell_type": "markdown",
   "metadata": {},
   "source": [
    "-------------------------------------------------------"
   ]
  },
  {
   "cell_type": "code",
   "execution_count": 2,
   "metadata": {},
   "outputs": [],
   "source": [
    "#external libraries\n",
    "import numpy as np\n",
    "import os\n",
    "import matplotlib.pyplot as plt\n",
    "import matplotlib.colors as clt\n",
    "import plotly\n",
    "import plotly.subplots as sb\n",
    "import plotly.express as px\n",
    "import plotly.graph_objects as go\n",
    "import dotenv\n",
    "import pandas as pd\n",
    "import scipy.fft as fft\n",
    "import scipy.signal as sg\n",
    "import scipy.io as sio\n",
    "import pickle as pkl\n",
    "import xgboost as xgb\n",
    "import time\n",
    "import sklearn.metrics as skm\n",
    "\n",
    "#project library\n",
    "from spinco import *\n",
    "\n",
    "#environment variables\n",
    "dotenv.load_dotenv('lab.env')\n",
    "\n",
    "#project variables\n",
    "datapath=os.environ['DATAPATH']\n",
    "cognipath=datapath+\"\\\\COGNITION\"\n",
    "dreamspath=datapath+\"\\\\DREAMS\"\n",
    "masspath=datapath+\"\\\\MASS\"\n"
   ]
  },
  {
   "cell_type": "markdown",
   "metadata": {},
   "source": [
    "## load mass"
   ]
  },
  {
   "cell_type": "code",
   "execution_count": 3,
   "metadata": {},
   "outputs": [],
   "source": [
    "samplerate=200  #Should rethink this"
   ]
  },
  {
   "cell_type": "code",
   "execution_count": 4,
   "metadata": {},
   "outputs": [],
   "source": [
    "annotations, signalsMetadata = loadMASSSpindles(masspath,forceSamplerate=samplerate)"
   ]
  },
  {
   "cell_type": "code",
   "execution_count": 5,
   "metadata": {},
   "outputs": [],
   "source": [
    "#consider to include this in a function\n",
    "minDuration=0.3\n",
    "maxDuration=5\n",
    "annotations=annotations[annotations.type=='spindle']\n",
    "annotations=annotations[annotations.duration>minDuration]\n",
    "annotations=annotations[annotations.duration<maxDuration]\n",
    "annotations=annotations.reset_index(drop=True)"
   ]
  },
  {
   "cell_type": "code",
   "execution_count": 6,
   "metadata": {},
   "outputs": [
    {
     "name": "stdout",
     "output_type": "stream",
     "text": [
      "0.005648873214178951\n"
     ]
    }
   ],
   "source": [
    "#check with EDA results (not needed)\n",
    "print(1-len(annotations)/33458)"
   ]
  },
  {
   "cell_type": "code",
   "execution_count": 7,
   "metadata": {},
   "outputs": [
    {
     "data": {
      "text/html": [
       "<div>\n",
       "<style scoped>\n",
       "    .dataframe tbody tr th:only-of-type {\n",
       "        vertical-align: middle;\n",
       "    }\n",
       "\n",
       "    .dataframe tbody tr th {\n",
       "        vertical-align: top;\n",
       "    }\n",
       "\n",
       "    .dataframe thead th {\n",
       "        text-align: right;\n",
       "    }\n",
       "</style>\n",
       "<table border=\"1\" class=\"dataframe\">\n",
       "  <thead>\n",
       "    <tr style=\"text-align: right;\">\n",
       "      <th></th>\n",
       "      <th>type</th>\n",
       "      <th>expert</th>\n",
       "      <th>subjectId</th>\n",
       "      <th>labelerId</th>\n",
       "      <th>startTime</th>\n",
       "      <th>duration</th>\n",
       "      <th>samplerate</th>\n",
       "      <th>stopTime</th>\n",
       "      <th>startInd</th>\n",
       "      <th>stopInd</th>\n",
       "    </tr>\n",
       "  </thead>\n",
       "  <tbody>\n",
       "    <tr>\n",
       "      <th>0</th>\n",
       "      <td>spindle</td>\n",
       "      <td>E1</td>\n",
       "      <td>0001</td>\n",
       "      <td>0001</td>\n",
       "      <td>888.327805</td>\n",
       "      <td>0.640579</td>\n",
       "      <td>200</td>\n",
       "      <td>888.968384</td>\n",
       "      <td>177666</td>\n",
       "      <td>177794</td>\n",
       "    </tr>\n",
       "    <tr>\n",
       "      <th>1</th>\n",
       "      <td>spindle</td>\n",
       "      <td>E1</td>\n",
       "      <td>0001</td>\n",
       "      <td>0001</td>\n",
       "      <td>905.758061</td>\n",
       "      <td>0.578094</td>\n",
       "      <td>200</td>\n",
       "      <td>906.336155</td>\n",
       "      <td>181152</td>\n",
       "      <td>181267</td>\n",
       "    </tr>\n",
       "    <tr>\n",
       "      <th>2</th>\n",
       "      <td>spindle</td>\n",
       "      <td>E1</td>\n",
       "      <td>0001</td>\n",
       "      <td>0001</td>\n",
       "      <td>917.731574</td>\n",
       "      <td>0.847603</td>\n",
       "      <td>200</td>\n",
       "      <td>918.579177</td>\n",
       "      <td>183546</td>\n",
       "      <td>183716</td>\n",
       "    </tr>\n",
       "    <tr>\n",
       "      <th>3</th>\n",
       "      <td>spindle</td>\n",
       "      <td>E1</td>\n",
       "      <td>0001</td>\n",
       "      <td>0001</td>\n",
       "      <td>922.078189</td>\n",
       "      <td>0.878845</td>\n",
       "      <td>200</td>\n",
       "      <td>922.957034</td>\n",
       "      <td>184416</td>\n",
       "      <td>184591</td>\n",
       "    </tr>\n",
       "    <tr>\n",
       "      <th>4</th>\n",
       "      <td>spindle</td>\n",
       "      <td>E1</td>\n",
       "      <td>0001</td>\n",
       "      <td>0001</td>\n",
       "      <td>939.055445</td>\n",
       "      <td>0.757767</td>\n",
       "      <td>200</td>\n",
       "      <td>939.813212</td>\n",
       "      <td>187811</td>\n",
       "      <td>187963</td>\n",
       "    </tr>\n",
       "  </tbody>\n",
       "</table>\n",
       "</div>"
      ],
      "text/plain": [
       "      type expert subjectId labelerId   startTime  duration  samplerate  \\\n",
       "0  spindle     E1      0001      0001  888.327805  0.640579         200   \n",
       "1  spindle     E1      0001      0001  905.758061  0.578094         200   \n",
       "2  spindle     E1      0001      0001  917.731574  0.847603         200   \n",
       "3  spindle     E1      0001      0001  922.078189  0.878845         200   \n",
       "4  spindle     E1      0001      0001  939.055445  0.757767         200   \n",
       "\n",
       "     stopTime  startInd  stopInd  \n",
       "0  888.968384    177666   177794  \n",
       "1  906.336155    181152   181267  \n",
       "2  918.579177    183546   183716  \n",
       "3  922.957034    184416   184591  \n",
       "4  939.813212    187811   187963  "
      ]
     },
     "execution_count": 7,
     "metadata": {},
     "output_type": "execute_result"
    }
   ],
   "source": [
    "annotations.head()"
   ]
  },
  {
   "cell_type": "code",
   "execution_count": 8,
   "metadata": {},
   "outputs": [
    {
     "data": {
      "text/html": [
       "<div>\n",
       "<style scoped>\n",
       "    .dataframe tbody tr th:only-of-type {\n",
       "        vertical-align: middle;\n",
       "    }\n",
       "\n",
       "    .dataframe tbody tr th {\n",
       "        vertical-align: top;\n",
       "    }\n",
       "\n",
       "    .dataframe thead th {\n",
       "        text-align: right;\n",
       "    }\n",
       "</style>\n",
       "<table border=\"1\" class=\"dataframe\">\n",
       "  <thead>\n",
       "    <tr style=\"text-align: right;\">\n",
       "      <th></th>\n",
       "      <th>subjectId</th>\n",
       "      <th>file</th>\n",
       "      <th>channel</th>\n",
       "      <th>duration</th>\n",
       "      <th>samplerate</th>\n",
       "      <th>isOriginalSamplerate</th>\n",
       "      <th>database</th>\n",
       "    </tr>\n",
       "  </thead>\n",
       "  <tbody>\n",
       "    <tr>\n",
       "      <th>0</th>\n",
       "      <td>0001</td>\n",
       "      <td>MASS_0001.pkl</td>\n",
       "      <td>C3-CLE</td>\n",
       "      <td>28956.0</td>\n",
       "      <td>200</td>\n",
       "      <td>False</td>\n",
       "      <td>MASS</td>\n",
       "    </tr>\n",
       "    <tr>\n",
       "      <th>1</th>\n",
       "      <td>0002</td>\n",
       "      <td>MASS_0002.pkl</td>\n",
       "      <td>C3-CLE</td>\n",
       "      <td>35016.0</td>\n",
       "      <td>200</td>\n",
       "      <td>False</td>\n",
       "      <td>MASS</td>\n",
       "    </tr>\n",
       "    <tr>\n",
       "      <th>2</th>\n",
       "      <td>0003</td>\n",
       "      <td>MASS_0003.pkl</td>\n",
       "      <td>C3-CLE</td>\n",
       "      <td>36760.0</td>\n",
       "      <td>200</td>\n",
       "      <td>False</td>\n",
       "      <td>MASS</td>\n",
       "    </tr>\n",
       "    <tr>\n",
       "      <th>3</th>\n",
       "      <td>0004</td>\n",
       "      <td>MASS_0004.pkl</td>\n",
       "      <td>C3-CLE</td>\n",
       "      <td>28004.0</td>\n",
       "      <td>200</td>\n",
       "      <td>False</td>\n",
       "      <td>MASS</td>\n",
       "    </tr>\n",
       "    <tr>\n",
       "      <th>4</th>\n",
       "      <td>0005</td>\n",
       "      <td>MASS_0005.pkl</td>\n",
       "      <td>C3-CLE</td>\n",
       "      <td>31244.0</td>\n",
       "      <td>200</td>\n",
       "      <td>False</td>\n",
       "      <td>MASS</td>\n",
       "    </tr>\n",
       "  </tbody>\n",
       "</table>\n",
       "</div>"
      ],
      "text/plain": [
       "  subjectId           file channel  duration  samplerate  \\\n",
       "0      0001  MASS_0001.pkl  C3-CLE   28956.0         200   \n",
       "1      0002  MASS_0002.pkl  C3-CLE   35016.0         200   \n",
       "2      0003  MASS_0003.pkl  C3-CLE   36760.0         200   \n",
       "3      0004  MASS_0004.pkl  C3-CLE   28004.0         200   \n",
       "4      0005  MASS_0005.pkl  C3-CLE   31244.0         200   \n",
       "\n",
       "   isOriginalSamplerate database  \n",
       "0                 False     MASS  \n",
       "1                 False     MASS  \n",
       "2                 False     MASS  \n",
       "3                 False     MASS  \n",
       "4                 False     MASS  "
      ]
     },
     "execution_count": 8,
     "metadata": {},
     "output_type": "execute_result"
    }
   ],
   "source": [
    "signalsMetadata.head()"
   ]
  },
  {
   "cell_type": "markdown",
   "metadata": {},
   "source": [
    "## Load experiment results"
   ]
  },
  {
   "cell_type": "code",
   "execution_count": 9,
   "metadata": {},
   "outputs": [],
   "source": [
    "experimentModels, featureSelection = loadExperiment(experimentId,datapath)"
   ]
  },
  {
   "cell_type": "code",
   "execution_count": 10,
   "metadata": {},
   "outputs": [
    {
     "data": {
      "text/html": [
       "<div>\n",
       "<style scoped>\n",
       "    .dataframe tbody tr th:only-of-type {\n",
       "        vertical-align: middle;\n",
       "    }\n",
       "\n",
       "    .dataframe tbody tr th {\n",
       "        vertical-align: top;\n",
       "    }\n",
       "\n",
       "    .dataframe thead th {\n",
       "        text-align: right;\n",
       "    }\n",
       "</style>\n",
       "<table border=\"1\" class=\"dataframe\">\n",
       "  <thead>\n",
       "    <tr style=\"text-align: right;\">\n",
       "      <th></th>\n",
       "      <th>criteriumId</th>\n",
       "      <th>criteriumName</th>\n",
       "      <th>labelerIdList</th>\n",
       "      <th>train</th>\n",
       "      <th>val</th>\n",
       "      <th>test</th>\n",
       "      <th>modelId</th>\n",
       "      <th>spindleTimeRate</th>\n",
       "    </tr>\n",
       "  </thead>\n",
       "  <tbody>\n",
       "    <tr>\n",
       "      <th>0</th>\n",
       "      <td>0001</td>\n",
       "      <td>E1</td>\n",
       "      <td>[0001]</td>\n",
       "      <td>[0001, 0005, 0006, 0009, 0010, 0011, 0012, 001...</td>\n",
       "      <td>[0018, 0017, 0007]</td>\n",
       "      <td>[0013, 0002, 0003]</td>\n",
       "      <td>5c1fbad9-f02b-46f7-8e51-59ddaf0cf4eb</td>\n",
       "      <td>0.017868</td>\n",
       "    </tr>\n",
       "    <tr>\n",
       "      <th>1</th>\n",
       "      <td>0001</td>\n",
       "      <td>E1</td>\n",
       "      <td>[0001]</td>\n",
       "      <td>[0002, 0003, 0006, 0007, 0009, 0013, 0017, 001...</td>\n",
       "      <td>[0011, 0001, 0010]</td>\n",
       "      <td>[0005, 0014, 0012]</td>\n",
       "      <td>f3f5e58f-0068-4046-b0a7-a62694b1fc26</td>\n",
       "      <td>0.017785</td>\n",
       "    </tr>\n",
       "    <tr>\n",
       "      <th>2</th>\n",
       "      <td>0001</td>\n",
       "      <td>E1</td>\n",
       "      <td>[0001]</td>\n",
       "      <td>[0003, 0005, 0007, 0009, 0010, 0012, 0013, 001...</td>\n",
       "      <td>[0001, 0002, 0019]</td>\n",
       "      <td>[0011, 0006, 0018]</td>\n",
       "      <td>919e22eb-bc1e-4601-a070-09b25fe7b52f</td>\n",
       "      <td>0.017121</td>\n",
       "    </tr>\n",
       "    <tr>\n",
       "      <th>3</th>\n",
       "      <td>0001</td>\n",
       "      <td>E1</td>\n",
       "      <td>[0001]</td>\n",
       "      <td>[0002, 0003, 0005, 0006, 0007, 0012, 0013, 001...</td>\n",
       "      <td>[0009, 0011, 0017]</td>\n",
       "      <td>[0019, 0001, 0010]</td>\n",
       "      <td>c2e2175e-cc0c-4536-86b5-c7a6ef28b104</td>\n",
       "      <td>0.017512</td>\n",
       "    </tr>\n",
       "    <tr>\n",
       "      <th>4</th>\n",
       "      <td>0001</td>\n",
       "      <td>E1</td>\n",
       "      <td>[0001]</td>\n",
       "      <td>[0001, 0003, 0005, 0006, 0010, 0011, 0013, 001...</td>\n",
       "      <td>[0014, 0012, 0002]</td>\n",
       "      <td>[0009, 0017, 0007]</td>\n",
       "      <td>0f1d8cd5-f3dc-4419-a46b-69852cdbdadf</td>\n",
       "      <td>0.016249</td>\n",
       "    </tr>\n",
       "    <tr>\n",
       "      <th>5</th>\n",
       "      <td>0002</td>\n",
       "      <td>E2</td>\n",
       "      <td>[0002]</td>\n",
       "      <td>[0001, 0005, 0006, 0009, 0010, 0011, 0012, 001...</td>\n",
       "      <td>[0018, 0017, 0007]</td>\n",
       "      <td>[0013, 0002, 0003]</td>\n",
       "      <td>707edb30-2665-4c58-a31e-dbcc539eb169</td>\n",
       "      <td>0.061583</td>\n",
       "    </tr>\n",
       "    <tr>\n",
       "      <th>6</th>\n",
       "      <td>0002</td>\n",
       "      <td>E2</td>\n",
       "      <td>[0002]</td>\n",
       "      <td>[0002, 0003, 0006, 0007, 0009, 0013, 0017, 001...</td>\n",
       "      <td>[0011, 0001, 0010]</td>\n",
       "      <td>[0005, 0014, 0012]</td>\n",
       "      <td>b302a855-d3de-463c-b23c-53ddf80cbe46</td>\n",
       "      <td>0.053240</td>\n",
       "    </tr>\n",
       "    <tr>\n",
       "      <th>7</th>\n",
       "      <td>0002</td>\n",
       "      <td>E2</td>\n",
       "      <td>[0002]</td>\n",
       "      <td>[0003, 0005, 0007, 0009, 0010, 0012, 0013, 001...</td>\n",
       "      <td>[0001, 0002, 0019]</td>\n",
       "      <td>[0011, 0006, 0018]</td>\n",
       "      <td>cca39540-d753-4b1f-b2f8-6f3e209a0deb</td>\n",
       "      <td>0.056399</td>\n",
       "    </tr>\n",
       "    <tr>\n",
       "      <th>8</th>\n",
       "      <td>0002</td>\n",
       "      <td>E2</td>\n",
       "      <td>[0002]</td>\n",
       "      <td>[0002, 0003, 0005, 0006, 0007, 0012, 0013, 001...</td>\n",
       "      <td>[0009, 0011, 0017]</td>\n",
       "      <td>[0019, 0001, 0010]</td>\n",
       "      <td>4c8b7412-a382-4f84-b66c-acdcca60a4a9</td>\n",
       "      <td>0.051154</td>\n",
       "    </tr>\n",
       "    <tr>\n",
       "      <th>9</th>\n",
       "      <td>0002</td>\n",
       "      <td>E2</td>\n",
       "      <td>[0002]</td>\n",
       "      <td>[0001, 0003, 0005, 0006, 0010, 0011, 0013, 001...</td>\n",
       "      <td>[0014, 0012, 0002]</td>\n",
       "      <td>[0009, 0017, 0007]</td>\n",
       "      <td>cd965d0c-da5d-44f4-b337-5d6385102e27</td>\n",
       "      <td>0.053971</td>\n",
       "    </tr>\n",
       "  </tbody>\n",
       "</table>\n",
       "</div>"
      ],
      "text/plain": [
       "  criteriumId criteriumName labelerIdList  \\\n",
       "0        0001            E1        [0001]   \n",
       "1        0001            E1        [0001]   \n",
       "2        0001            E1        [0001]   \n",
       "3        0001            E1        [0001]   \n",
       "4        0001            E1        [0001]   \n",
       "5        0002            E2        [0002]   \n",
       "6        0002            E2        [0002]   \n",
       "7        0002            E2        [0002]   \n",
       "8        0002            E2        [0002]   \n",
       "9        0002            E2        [0002]   \n",
       "\n",
       "                                               train                 val  \\\n",
       "0  [0001, 0005, 0006, 0009, 0010, 0011, 0012, 001...  [0018, 0017, 0007]   \n",
       "1  [0002, 0003, 0006, 0007, 0009, 0013, 0017, 001...  [0011, 0001, 0010]   \n",
       "2  [0003, 0005, 0007, 0009, 0010, 0012, 0013, 001...  [0001, 0002, 0019]   \n",
       "3  [0002, 0003, 0005, 0006, 0007, 0012, 0013, 001...  [0009, 0011, 0017]   \n",
       "4  [0001, 0003, 0005, 0006, 0010, 0011, 0013, 001...  [0014, 0012, 0002]   \n",
       "5  [0001, 0005, 0006, 0009, 0010, 0011, 0012, 001...  [0018, 0017, 0007]   \n",
       "6  [0002, 0003, 0006, 0007, 0009, 0013, 0017, 001...  [0011, 0001, 0010]   \n",
       "7  [0003, 0005, 0007, 0009, 0010, 0012, 0013, 001...  [0001, 0002, 0019]   \n",
       "8  [0002, 0003, 0005, 0006, 0007, 0012, 0013, 001...  [0009, 0011, 0017]   \n",
       "9  [0001, 0003, 0005, 0006, 0010, 0011, 0013, 001...  [0014, 0012, 0002]   \n",
       "\n",
       "                 test                               modelId  spindleTimeRate  \n",
       "0  [0013, 0002, 0003]  5c1fbad9-f02b-46f7-8e51-59ddaf0cf4eb         0.017868  \n",
       "1  [0005, 0014, 0012]  f3f5e58f-0068-4046-b0a7-a62694b1fc26         0.017785  \n",
       "2  [0011, 0006, 0018]  919e22eb-bc1e-4601-a070-09b25fe7b52f         0.017121  \n",
       "3  [0019, 0001, 0010]  c2e2175e-cc0c-4536-86b5-c7a6ef28b104         0.017512  \n",
       "4  [0009, 0017, 0007]  0f1d8cd5-f3dc-4419-a46b-69852cdbdadf         0.016249  \n",
       "5  [0013, 0002, 0003]  707edb30-2665-4c58-a31e-dbcc539eb169         0.061583  \n",
       "6  [0005, 0014, 0012]  b302a855-d3de-463c-b23c-53ddf80cbe46         0.053240  \n",
       "7  [0011, 0006, 0018]  cca39540-d753-4b1f-b2f8-6f3e209a0deb         0.056399  \n",
       "8  [0019, 0001, 0010]  4c8b7412-a382-4f84-b66c-acdcca60a4a9         0.051154  \n",
       "9  [0009, 0017, 0007]  cd965d0c-da5d-44f4-b337-5d6385102e27         0.053971  "
      ]
     },
     "execution_count": 10,
     "metadata": {},
     "output_type": "execute_result"
    }
   ],
   "source": [
    "experimentModels"
   ]
  },
  {
   "cell_type": "code",
   "execution_count": 11,
   "metadata": {},
   "outputs": [
    {
     "data": {
      "text/html": [
       "<div>\n",
       "<style scoped>\n",
       "    .dataframe tbody tr th:only-of-type {\n",
       "        vertical-align: middle;\n",
       "    }\n",
       "\n",
       "    .dataframe tbody tr th {\n",
       "        vertical-align: top;\n",
       "    }\n",
       "\n",
       "    .dataframe thead tr th {\n",
       "        text-align: left;\n",
       "    }\n",
       "\n",
       "    .dataframe thead tr:last-of-type th {\n",
       "        text-align: right;\n",
       "    }\n",
       "</style>\n",
       "<table border=\"1\" class=\"dataframe\">\n",
       "  <thead>\n",
       "    <tr>\n",
       "      <th></th>\n",
       "      <th colspan=\"8\" halign=\"left\">spindleTimeRate</th>\n",
       "    </tr>\n",
       "    <tr>\n",
       "      <th></th>\n",
       "      <th>count</th>\n",
       "      <th>mean</th>\n",
       "      <th>std</th>\n",
       "      <th>min</th>\n",
       "      <th>25%</th>\n",
       "      <th>50%</th>\n",
       "      <th>75%</th>\n",
       "      <th>max</th>\n",
       "    </tr>\n",
       "    <tr>\n",
       "      <th>criteriumName</th>\n",
       "      <th></th>\n",
       "      <th></th>\n",
       "      <th></th>\n",
       "      <th></th>\n",
       "      <th></th>\n",
       "      <th></th>\n",
       "      <th></th>\n",
       "      <th></th>\n",
       "    </tr>\n",
       "  </thead>\n",
       "  <tbody>\n",
       "    <tr>\n",
       "      <th>E1</th>\n",
       "      <td>5.0</td>\n",
       "      <td>0.017307</td>\n",
       "      <td>0.000659</td>\n",
       "      <td>0.016249</td>\n",
       "      <td>0.017121</td>\n",
       "      <td>0.017512</td>\n",
       "      <td>0.017785</td>\n",
       "      <td>0.017868</td>\n",
       "    </tr>\n",
       "    <tr>\n",
       "      <th>E2</th>\n",
       "      <td>5.0</td>\n",
       "      <td>0.055269</td>\n",
       "      <td>0.003996</td>\n",
       "      <td>0.051154</td>\n",
       "      <td>0.053240</td>\n",
       "      <td>0.053971</td>\n",
       "      <td>0.056399</td>\n",
       "      <td>0.061583</td>\n",
       "    </tr>\n",
       "  </tbody>\n",
       "</table>\n",
       "</div>"
      ],
      "text/plain": [
       "              spindleTimeRate                                          \\\n",
       "                        count      mean       std       min       25%   \n",
       "criteriumName                                                           \n",
       "E1                        5.0  0.017307  0.000659  0.016249  0.017121   \n",
       "E2                        5.0  0.055269  0.003996  0.051154  0.053240   \n",
       "\n",
       "                                             \n",
       "                    50%       75%       max  \n",
       "criteriumName                                \n",
       "E1             0.017512  0.017785  0.017868  \n",
       "E2             0.053971  0.056399  0.061583  "
      ]
     },
     "execution_count": 11,
     "metadata": {},
     "output_type": "execute_result"
    }
   ],
   "source": [
    "#we show the difference in class inbalance for the annotation criteria considered\n",
    "experimentModels[['criteriumName','spindleTimeRate']].groupby('criteriumName').describe()"
   ]
  },
  {
   "cell_type": "code",
   "execution_count": 12,
   "metadata": {},
   "outputs": [
    {
     "data": {
      "text/html": [
       "<div>\n",
       "<style scoped>\n",
       "    .dataframe tbody tr th:only-of-type {\n",
       "        vertical-align: middle;\n",
       "    }\n",
       "\n",
       "    .dataframe tbody tr th {\n",
       "        vertical-align: top;\n",
       "    }\n",
       "\n",
       "    .dataframe thead th {\n",
       "        text-align: right;\n",
       "    }\n",
       "</style>\n",
       "<table border=\"1\" class=\"dataframe\">\n",
       "  <thead>\n",
       "    <tr style=\"text-align: right;\">\n",
       "      <th></th>\n",
       "      <th>window</th>\n",
       "      <th>characteristic</th>\n",
       "      <th>bandName</th>\n",
       "      <th>score</th>\n",
       "    </tr>\n",
       "  </thead>\n",
       "  <tbody>\n",
       "    <tr>\n",
       "      <th>0</th>\n",
       "      <td>2</td>\n",
       "      <td>hjortActivity</td>\n",
       "      <td>beta2</td>\n",
       "      <td>69.0</td>\n",
       "    </tr>\n",
       "    <tr>\n",
       "      <th>1</th>\n",
       "      <td>1</td>\n",
       "      <td>hjortActivity</td>\n",
       "      <td>sigma</td>\n",
       "      <td>63.0</td>\n",
       "    </tr>\n",
       "    <tr>\n",
       "      <th>2</th>\n",
       "      <td>2</td>\n",
       "      <td>hjortActivity</td>\n",
       "      <td>beta1</td>\n",
       "      <td>42.0</td>\n",
       "    </tr>\n",
       "    <tr>\n",
       "      <th>3</th>\n",
       "      <td>2</td>\n",
       "      <td>hjortActivity</td>\n",
       "      <td>delta2</td>\n",
       "      <td>41.0</td>\n",
       "    </tr>\n",
       "    <tr>\n",
       "      <th>4</th>\n",
       "      <td>1.5</td>\n",
       "      <td>sigmaIndex</td>\n",
       "      <td>broadband</td>\n",
       "      <td>39.0</td>\n",
       "    </tr>\n",
       "    <tr>\n",
       "      <th>5</th>\n",
       "      <td>2</td>\n",
       "      <td>sigmaIndex</td>\n",
       "      <td>broadband</td>\n",
       "      <td>39.0</td>\n",
       "    </tr>\n",
       "    <tr>\n",
       "      <th>6</th>\n",
       "      <td>2</td>\n",
       "      <td>hjortActivity</td>\n",
       "      <td>theta</td>\n",
       "      <td>38.0</td>\n",
       "    </tr>\n",
       "    <tr>\n",
       "      <th>7</th>\n",
       "      <td>2</td>\n",
       "      <td>hjortMobility</td>\n",
       "      <td>beta1</td>\n",
       "      <td>37.0</td>\n",
       "    </tr>\n",
       "    <tr>\n",
       "      <th>8</th>\n",
       "      <td>2</td>\n",
       "      <td>hjortActivity</td>\n",
       "      <td>alpha</td>\n",
       "      <td>35.0</td>\n",
       "    </tr>\n",
       "    <tr>\n",
       "      <th>9</th>\n",
       "      <td>1</td>\n",
       "      <td>sigmaIndex</td>\n",
       "      <td>broadband</td>\n",
       "      <td>34.0</td>\n",
       "    </tr>\n",
       "    <tr>\n",
       "      <th>10</th>\n",
       "      <td>2</td>\n",
       "      <td>hjortMobility</td>\n",
       "      <td>sigma</td>\n",
       "      <td>32.0</td>\n",
       "    </tr>\n",
       "    <tr>\n",
       "      <th>11</th>\n",
       "      <td>1.5</td>\n",
       "      <td>hjortActivity</td>\n",
       "      <td>beta2</td>\n",
       "      <td>30.0</td>\n",
       "    </tr>\n",
       "    <tr>\n",
       "      <th>12</th>\n",
       "      <td>2</td>\n",
       "      <td>hjortMobility</td>\n",
       "      <td>beta2</td>\n",
       "      <td>29.0</td>\n",
       "    </tr>\n",
       "    <tr>\n",
       "      <th>13</th>\n",
       "      <td>2</td>\n",
       "      <td>hjortMobility</td>\n",
       "      <td>alpha</td>\n",
       "      <td>28.0</td>\n",
       "    </tr>\n",
       "    <tr>\n",
       "      <th>14</th>\n",
       "      <td>0.5</td>\n",
       "      <td>sigmaIndex</td>\n",
       "      <td>broadband</td>\n",
       "      <td>28.0</td>\n",
       "    </tr>\n",
       "    <tr>\n",
       "      <th>15</th>\n",
       "      <td>2</td>\n",
       "      <td>hjortMobility</td>\n",
       "      <td>delta1</td>\n",
       "      <td>28.0</td>\n",
       "    </tr>\n",
       "    <tr>\n",
       "      <th>16</th>\n",
       "      <td>2</td>\n",
       "      <td>hjortActivity</td>\n",
       "      <td>sigma</td>\n",
       "      <td>27.0</td>\n",
       "    </tr>\n",
       "    <tr>\n",
       "      <th>17</th>\n",
       "      <td>2</td>\n",
       "      <td>petrosian</td>\n",
       "      <td>broadband</td>\n",
       "      <td>27.0</td>\n",
       "    </tr>\n",
       "    <tr>\n",
       "      <th>18</th>\n",
       "      <td>2</td>\n",
       "      <td>hjortActivity</td>\n",
       "      <td>broadband</td>\n",
       "      <td>26.0</td>\n",
       "    </tr>\n",
       "    <tr>\n",
       "      <th>19</th>\n",
       "      <td>1.5</td>\n",
       "      <td>hjortActivity</td>\n",
       "      <td>sigma</td>\n",
       "      <td>26.0</td>\n",
       "    </tr>\n",
       "    <tr>\n",
       "      <th>20</th>\n",
       "      <td>1.5</td>\n",
       "      <td>hjortActivity</td>\n",
       "      <td>alpha</td>\n",
       "      <td>25.0</td>\n",
       "    </tr>\n",
       "    <tr>\n",
       "      <th>21</th>\n",
       "      <td>0.5</td>\n",
       "      <td>hjortActivity</td>\n",
       "      <td>alpha</td>\n",
       "      <td>24.0</td>\n",
       "    </tr>\n",
       "    <tr>\n",
       "      <th>22</th>\n",
       "      <td>1</td>\n",
       "      <td>hjortActivity</td>\n",
       "      <td>theta</td>\n",
       "      <td>23.0</td>\n",
       "    </tr>\n",
       "    <tr>\n",
       "      <th>23</th>\n",
       "      <td>1.5</td>\n",
       "      <td>petrosian</td>\n",
       "      <td>broadband</td>\n",
       "      <td>22.0</td>\n",
       "    </tr>\n",
       "    <tr>\n",
       "      <th>24</th>\n",
       "      <td>2</td>\n",
       "      <td>hjortMobility</td>\n",
       "      <td>broadband</td>\n",
       "      <td>22.0</td>\n",
       "    </tr>\n",
       "    <tr>\n",
       "      <th>25</th>\n",
       "      <td>1.5</td>\n",
       "      <td>hjortActivity</td>\n",
       "      <td>theta</td>\n",
       "      <td>22.0</td>\n",
       "    </tr>\n",
       "  </tbody>\n",
       "</table>\n",
       "</div>"
      ],
      "text/plain": [
       "   window characteristic   bandName  score\n",
       "0       2  hjortActivity      beta2   69.0\n",
       "1       1  hjortActivity      sigma   63.0\n",
       "2       2  hjortActivity      beta1   42.0\n",
       "3       2  hjortActivity     delta2   41.0\n",
       "4     1.5     sigmaIndex  broadband   39.0\n",
       "5       2     sigmaIndex  broadband   39.0\n",
       "6       2  hjortActivity      theta   38.0\n",
       "7       2  hjortMobility      beta1   37.0\n",
       "8       2  hjortActivity      alpha   35.0\n",
       "9       1     sigmaIndex  broadband   34.0\n",
       "10      2  hjortMobility      sigma   32.0\n",
       "11    1.5  hjortActivity      beta2   30.0\n",
       "12      2  hjortMobility      beta2   29.0\n",
       "13      2  hjortMobility      alpha   28.0\n",
       "14    0.5     sigmaIndex  broadband   28.0\n",
       "15      2  hjortMobility     delta1   28.0\n",
       "16      2  hjortActivity      sigma   27.0\n",
       "17      2      petrosian  broadband   27.0\n",
       "18      2  hjortActivity  broadband   26.0\n",
       "19    1.5  hjortActivity      sigma   26.0\n",
       "20    1.5  hjortActivity      alpha   25.0\n",
       "21    0.5  hjortActivity      alpha   24.0\n",
       "22      1  hjortActivity      theta   23.0\n",
       "23    1.5      petrosian  broadband   22.0\n",
       "24      2  hjortMobility  broadband   22.0\n",
       "25    1.5  hjortActivity      theta   22.0"
      ]
     },
     "execution_count": 12,
     "metadata": {},
     "output_type": "execute_result"
    }
   ],
   "source": [
    "featureSelection"
   ]
  },
  {
   "attachments": {},
   "cell_type": "markdown",
   "metadata": {},
   "source": [
    "## Hyperparameter definition\n",
    "this should come from a previous evaluation notebook"
   ]
  },
  {
   "cell_type": "code",
   "execution_count": 13,
   "metadata": {},
   "outputs": [],
   "source": [
    "hyperClose=0.1\n",
    "hyperDuration=minDuration\n",
    "hyperThres=0.3\n",
    "hyperDepth=30"
   ]
  },
  {
   "attachments": {},
   "cell_type": "markdown",
   "metadata": {},
   "source": [
    "## Testing with E1 criterium\n",
    "we test the optimal points for the prediction threshold and number of boost iterations in the different validation groups"
   ]
  },
  {
   "cell_type": "code",
   "execution_count": 14,
   "metadata": {},
   "outputs": [
    {
     "data": {
      "text/html": [
       "<div>\n",
       "<style scoped>\n",
       "    .dataframe tbody tr th:only-of-type {\n",
       "        vertical-align: middle;\n",
       "    }\n",
       "\n",
       "    .dataframe tbody tr th {\n",
       "        vertical-align: top;\n",
       "    }\n",
       "\n",
       "    .dataframe thead th {\n",
       "        text-align: right;\n",
       "    }\n",
       "</style>\n",
       "<table border=\"1\" class=\"dataframe\">\n",
       "  <thead>\n",
       "    <tr style=\"text-align: right;\">\n",
       "      <th></th>\n",
       "      <th>criteriumId</th>\n",
       "      <th>criteriumName</th>\n",
       "      <th>labelerIdList</th>\n",
       "      <th>train</th>\n",
       "      <th>val</th>\n",
       "      <th>test</th>\n",
       "      <th>modelId</th>\n",
       "      <th>spindleTimeRate</th>\n",
       "    </tr>\n",
       "  </thead>\n",
       "  <tbody>\n",
       "    <tr>\n",
       "      <th>0</th>\n",
       "      <td>0001</td>\n",
       "      <td>E1</td>\n",
       "      <td>[0001]</td>\n",
       "      <td>[0001, 0005, 0006, 0009, 0010, 0011, 0012, 001...</td>\n",
       "      <td>[0018, 0017, 0007]</td>\n",
       "      <td>[0013, 0002, 0003]</td>\n",
       "      <td>5c1fbad9-f02b-46f7-8e51-59ddaf0cf4eb</td>\n",
       "      <td>0.017868</td>\n",
       "    </tr>\n",
       "    <tr>\n",
       "      <th>1</th>\n",
       "      <td>0001</td>\n",
       "      <td>E1</td>\n",
       "      <td>[0001]</td>\n",
       "      <td>[0002, 0003, 0006, 0007, 0009, 0013, 0017, 001...</td>\n",
       "      <td>[0011, 0001, 0010]</td>\n",
       "      <td>[0005, 0014, 0012]</td>\n",
       "      <td>f3f5e58f-0068-4046-b0a7-a62694b1fc26</td>\n",
       "      <td>0.017785</td>\n",
       "    </tr>\n",
       "    <tr>\n",
       "      <th>2</th>\n",
       "      <td>0001</td>\n",
       "      <td>E1</td>\n",
       "      <td>[0001]</td>\n",
       "      <td>[0003, 0005, 0007, 0009, 0010, 0012, 0013, 001...</td>\n",
       "      <td>[0001, 0002, 0019]</td>\n",
       "      <td>[0011, 0006, 0018]</td>\n",
       "      <td>919e22eb-bc1e-4601-a070-09b25fe7b52f</td>\n",
       "      <td>0.017121</td>\n",
       "    </tr>\n",
       "    <tr>\n",
       "      <th>3</th>\n",
       "      <td>0001</td>\n",
       "      <td>E1</td>\n",
       "      <td>[0001]</td>\n",
       "      <td>[0002, 0003, 0005, 0006, 0007, 0012, 0013, 001...</td>\n",
       "      <td>[0009, 0011, 0017]</td>\n",
       "      <td>[0019, 0001, 0010]</td>\n",
       "      <td>c2e2175e-cc0c-4536-86b5-c7a6ef28b104</td>\n",
       "      <td>0.017512</td>\n",
       "    </tr>\n",
       "    <tr>\n",
       "      <th>4</th>\n",
       "      <td>0001</td>\n",
       "      <td>E1</td>\n",
       "      <td>[0001]</td>\n",
       "      <td>[0001, 0003, 0005, 0006, 0010, 0011, 0013, 001...</td>\n",
       "      <td>[0014, 0012, 0002]</td>\n",
       "      <td>[0009, 0017, 0007]</td>\n",
       "      <td>0f1d8cd5-f3dc-4419-a46b-69852cdbdadf</td>\n",
       "      <td>0.016249</td>\n",
       "    </tr>\n",
       "  </tbody>\n",
       "</table>\n",
       "</div>"
      ],
      "text/plain": [
       "  criteriumId criteriumName labelerIdList  \\\n",
       "0        0001            E1        [0001]   \n",
       "1        0001            E1        [0001]   \n",
       "2        0001            E1        [0001]   \n",
       "3        0001            E1        [0001]   \n",
       "4        0001            E1        [0001]   \n",
       "\n",
       "                                               train                 val  \\\n",
       "0  [0001, 0005, 0006, 0009, 0010, 0011, 0012, 001...  [0018, 0017, 0007]   \n",
       "1  [0002, 0003, 0006, 0007, 0009, 0013, 0017, 001...  [0011, 0001, 0010]   \n",
       "2  [0003, 0005, 0007, 0009, 0010, 0012, 0013, 001...  [0001, 0002, 0019]   \n",
       "3  [0002, 0003, 0005, 0006, 0007, 0012, 0013, 001...  [0009, 0011, 0017]   \n",
       "4  [0001, 0003, 0005, 0006, 0010, 0011, 0013, 001...  [0014, 0012, 0002]   \n",
       "\n",
       "                 test                               modelId  spindleTimeRate  \n",
       "0  [0013, 0002, 0003]  5c1fbad9-f02b-46f7-8e51-59ddaf0cf4eb         0.017868  \n",
       "1  [0005, 0014, 0012]  f3f5e58f-0068-4046-b0a7-a62694b1fc26         0.017785  \n",
       "2  [0011, 0006, 0018]  919e22eb-bc1e-4601-a070-09b25fe7b52f         0.017121  \n",
       "3  [0019, 0001, 0010]  c2e2175e-cc0c-4536-86b5-c7a6ef28b104         0.017512  \n",
       "4  [0009, 0017, 0007]  0f1d8cd5-f3dc-4419-a46b-69852cdbdadf         0.016249  "
      ]
     },
     "execution_count": 14,
     "metadata": {},
     "output_type": "execute_result"
    }
   ],
   "source": [
    "experimentModels=experimentModels[experimentModels.criteriumName=='E1'].reset_index(drop=True)\n",
    "experimentModels"
   ]
  },
  {
   "cell_type": "code",
   "execution_count": 15,
   "metadata": {},
   "outputs": [
    {
     "name": "stdout",
     "output_type": "stream",
     "text": [
      "*************************\n",
      "1 of 5\n"
     ]
    },
    {
     "name": "stdout",
     "output_type": "stream",
     "text": [
      "*************************\n",
      "2 of 5\n",
      "*************************\n",
      "3 of 5\n",
      "*************************\n",
      "4 of 5\n",
      "*************************\n",
      "5 of 5\n"
     ]
    }
   ],
   "source": [
    "f1s=[]\n",
    "precisions=[]\n",
    "recalls=[]\n",
    "\n",
    "eventF1s=[]\n",
    "eventPrecisions=[]\n",
    "eventRecalls=[]\n",
    "\n",
    "for ind,row in experimentModels.iterrows():\n",
    "    print('*************************')\n",
    "    print(str(ind+1)+' of '+str(len(experimentModels)) )\n",
    "    #load model\n",
    "    model=loadBooster(row.modelId,experimentId,datapath)\n",
    "\n",
    "    #Define annotations criterium\n",
    "    usedAnnotations=annotations[annotations.labelerId.isin(row.labelerIdList)].reset_index(drop=True)\n",
    "\n",
    "    thisF1s=[]\n",
    "    thisPs=[]\n",
    "    thisRs=[]\n",
    "\n",
    "    thisEF1s=[]\n",
    "    thisEPs=[]\n",
    "    thisERs=[]\n",
    "    \n",
    "    for testSubjectId in row.test:\n",
    "\n",
    "        #Load features and labels\n",
    "        testFeatures=loadFeatureMatrix([testSubjectId],featureSelection,signalsMetadata,samplerate,datapath)\n",
    "        testLabels=loadLabelsVector([testSubjectId],usedAnnotations,signalsMetadata,samplerate)\n",
    "\n",
    "        #Predict\n",
    "        testDMatrix=xgb.DMatrix(data=testFeatures)\n",
    "        probabilities=model.predict(testDMatrix,iteration_range=(0,hyperDepth))\n",
    "        rawLabels=probabilities>=hyperThres\n",
    "       \n",
    "        #Process\n",
    "        processedLabels=labelingProcess(rawLabels,hyperClose,hyperDuration,samplerate)\n",
    "        #Processed metrics\n",
    "        tp=np.sum(processedLabels*testLabels)\n",
    "        fp=np.sum(processedLabels*(1-testLabels))\n",
    "        tn=np.sum((1-processedLabels)*(1-testLabels))\n",
    "        fn=np.sum((1-processedLabels)*testLabels)\n",
    "        #Processed appends\n",
    "        thisF1s.append(2*tp/(2*tp+fp+fn))\n",
    "        thisPs.append(tp/(tp+fp))\n",
    "        thisRs.append(tp/(tp+fn))\n",
    "\n",
    "        #By-event metrics\n",
    "        processedAnnotations=labelVectorToAnnotations(processedLabels,samplerate)\n",
    "        processedAnnotations=processedAnnotations[processedAnnotations.duration<maxDuration]\n",
    "        gtAnnotations=labelVectorToAnnotations(testLabels,samplerate)   #<- or just filter the annotations\n",
    "        f,r,p=annotationPairToMetrics(gtAnnotations,processedAnnotations)\n",
    "    \n",
    "        #calculate metrics\n",
    "        thisEF1s.append(f)\n",
    "        thisEPs.append(p)\n",
    "        thisERs.append(r)\n",
    "    \n",
    "    f1s.append(np.mean(thisF1s))\n",
    "    precisions.append(np.mean(thisPs))\n",
    "    recalls.append(np.mean(thisRs))\n",
    "\n",
    "    eventF1s.append(np.mean(thisEF1s))\n",
    "    eventPrecisions.append(np.mean(thisEPs))\n",
    "    eventRecalls.append(np.mean(thisERs))\n",
    "    \n",
    "#include metrics in the dataframe\n",
    "experimentModels['f1']=f1s\n",
    "experimentModels['precision']=precisions\n",
    "experimentModels['recall']=recalls\n",
    "\n",
    "experimentModels['eventF1']=eventF1s\n",
    "experimentModels['eventPrecision']=eventPrecisions\n",
    "experimentModels['eventRecall']=eventRecalls\n"
   ]
  },
  {
   "cell_type": "code",
   "execution_count": 16,
   "metadata": {},
   "outputs": [],
   "source": [
    "dumpPickle('experimentModelsTest_E1_temp.pkl',experimentModels)"
   ]
  },
  {
   "cell_type": "code",
   "execution_count": 17,
   "metadata": {},
   "outputs": [
    {
     "data": {
      "text/plain": [
       "Index(['criteriumId', 'criteriumName', 'labelerIdList', 'train', 'val', 'test',\n",
       "       'modelId', 'spindleTimeRate', 'f1', 'precision', 'recall', 'eventF1',\n",
       "       'eventPrecision', 'eventRecall'],\n",
       "      dtype='object')"
      ]
     },
     "execution_count": 17,
     "metadata": {},
     "output_type": "execute_result"
    }
   ],
   "source": [
    "experimentModels.columns"
   ]
  },
  {
   "cell_type": "code",
   "execution_count": 18,
   "metadata": {},
   "outputs": [
    {
     "data": {
      "application/vnd.plotly.v1+json": {
       "config": {
        "plotlyServerURL": "https://plot.ly"
       },
       "data": [
        {
         "hovertemplate": "<b>%{hovertext}</b><br><br>modelId=5c1fbad9-f02b-46f7-8e51-59ddaf0cf4eb<br>eventF1=%{x}<br>eventPrecision=%{y}<extra></extra>",
         "hovertext": [
          "5c1fbad9-f02b-46f7-8e51-59ddaf0cf4eb"
         ],
         "legendgroup": "5c1fbad9-f02b-46f7-8e51-59ddaf0cf4eb",
         "marker": {
          "color": "#636efa",
          "symbol": "circle"
         },
         "mode": "markers",
         "name": "5c1fbad9-f02b-46f7-8e51-59ddaf0cf4eb",
         "orientation": "v",
         "showlegend": true,
         "type": "scatter",
         "x": [
          0.7135084376261472
         ],
         "xaxis": "x",
         "y": [
          0.64459582796804
         ],
         "yaxis": "y"
        },
        {
         "alignmentgroup": "True",
         "bingroup": "y",
         "hovertemplate": "modelId=5c1fbad9-f02b-46f7-8e51-59ddaf0cf4eb<br>eventPrecision=%{y}<br>count=%{x}<extra></extra>",
         "legendgroup": "5c1fbad9-f02b-46f7-8e51-59ddaf0cf4eb",
         "marker": {
          "color": "#636efa"
         },
         "name": "5c1fbad9-f02b-46f7-8e51-59ddaf0cf4eb",
         "offsetgroup": "5c1fbad9-f02b-46f7-8e51-59ddaf0cf4eb",
         "opacity": 0.5,
         "showlegend": false,
         "type": "histogram",
         "xaxis": "x2",
         "y": [
          0.64459582796804
         ],
         "yaxis": "y2"
        },
        {
         "hovertemplate": "<b>%{hovertext}</b><br><br>modelId=f3f5e58f-0068-4046-b0a7-a62694b1fc26<br>eventF1=%{x}<br>eventPrecision=%{y}<extra></extra>",
         "hovertext": [
          "f3f5e58f-0068-4046-b0a7-a62694b1fc26"
         ],
         "legendgroup": "f3f5e58f-0068-4046-b0a7-a62694b1fc26",
         "marker": {
          "color": "#EF553B",
          "symbol": "circle"
         },
         "mode": "markers",
         "name": "f3f5e58f-0068-4046-b0a7-a62694b1fc26",
         "orientation": "v",
         "showlegend": true,
         "type": "scatter",
         "x": [
          0.674704223481994
         ],
         "xaxis": "x",
         "y": [
          0.5666760999216846
         ],
         "yaxis": "y"
        },
        {
         "alignmentgroup": "True",
         "bingroup": "y",
         "hovertemplate": "modelId=f3f5e58f-0068-4046-b0a7-a62694b1fc26<br>eventPrecision=%{y}<br>count=%{x}<extra></extra>",
         "legendgroup": "f3f5e58f-0068-4046-b0a7-a62694b1fc26",
         "marker": {
          "color": "#EF553B"
         },
         "name": "f3f5e58f-0068-4046-b0a7-a62694b1fc26",
         "offsetgroup": "f3f5e58f-0068-4046-b0a7-a62694b1fc26",
         "opacity": 0.5,
         "showlegend": false,
         "type": "histogram",
         "xaxis": "x2",
         "y": [
          0.5666760999216846
         ],
         "yaxis": "y2"
        },
        {
         "hovertemplate": "<b>%{hovertext}</b><br><br>modelId=919e22eb-bc1e-4601-a070-09b25fe7b52f<br>eventF1=%{x}<br>eventPrecision=%{y}<extra></extra>",
         "hovertext": [
          "919e22eb-bc1e-4601-a070-09b25fe7b52f"
         ],
         "legendgroup": "919e22eb-bc1e-4601-a070-09b25fe7b52f",
         "marker": {
          "color": "#00cc96",
          "symbol": "circle"
         },
         "mode": "markers",
         "name": "919e22eb-bc1e-4601-a070-09b25fe7b52f",
         "orientation": "v",
         "showlegend": true,
         "type": "scatter",
         "x": [
          0.7108475372491854
         ],
         "xaxis": "x",
         "y": [
          0.690502401208442
         ],
         "yaxis": "y"
        },
        {
         "alignmentgroup": "True",
         "bingroup": "y",
         "hovertemplate": "modelId=919e22eb-bc1e-4601-a070-09b25fe7b52f<br>eventPrecision=%{y}<br>count=%{x}<extra></extra>",
         "legendgroup": "919e22eb-bc1e-4601-a070-09b25fe7b52f",
         "marker": {
          "color": "#00cc96"
         },
         "name": "919e22eb-bc1e-4601-a070-09b25fe7b52f",
         "offsetgroup": "919e22eb-bc1e-4601-a070-09b25fe7b52f",
         "opacity": 0.5,
         "showlegend": false,
         "type": "histogram",
         "xaxis": "x2",
         "y": [
          0.690502401208442
         ],
         "yaxis": "y2"
        },
        {
         "hovertemplate": "<b>%{hovertext}</b><br><br>modelId=c2e2175e-cc0c-4536-86b5-c7a6ef28b104<br>eventF1=%{x}<br>eventPrecision=%{y}<extra></extra>",
         "hovertext": [
          "c2e2175e-cc0c-4536-86b5-c7a6ef28b104"
         ],
         "legendgroup": "c2e2175e-cc0c-4536-86b5-c7a6ef28b104",
         "marker": {
          "color": "#ab63fa",
          "symbol": "circle"
         },
         "mode": "markers",
         "name": "c2e2175e-cc0c-4536-86b5-c7a6ef28b104",
         "orientation": "v",
         "showlegend": true,
         "type": "scatter",
         "x": [
          0.6293403854303937
         ],
         "xaxis": "x",
         "y": [
          0.6882440336682438
         ],
         "yaxis": "y"
        },
        {
         "alignmentgroup": "True",
         "bingroup": "y",
         "hovertemplate": "modelId=c2e2175e-cc0c-4536-86b5-c7a6ef28b104<br>eventPrecision=%{y}<br>count=%{x}<extra></extra>",
         "legendgroup": "c2e2175e-cc0c-4536-86b5-c7a6ef28b104",
         "marker": {
          "color": "#ab63fa"
         },
         "name": "c2e2175e-cc0c-4536-86b5-c7a6ef28b104",
         "offsetgroup": "c2e2175e-cc0c-4536-86b5-c7a6ef28b104",
         "opacity": 0.5,
         "showlegend": false,
         "type": "histogram",
         "xaxis": "x2",
         "y": [
          0.6882440336682438
         ],
         "yaxis": "y2"
        },
        {
         "hovertemplate": "<b>%{hovertext}</b><br><br>modelId=0f1d8cd5-f3dc-4419-a46b-69852cdbdadf<br>eventF1=%{x}<br>eventPrecision=%{y}<extra></extra>",
         "hovertext": [
          "0f1d8cd5-f3dc-4419-a46b-69852cdbdadf"
         ],
         "legendgroup": "0f1d8cd5-f3dc-4419-a46b-69852cdbdadf",
         "marker": {
          "color": "#FFA15A",
          "symbol": "circle"
         },
         "mode": "markers",
         "name": "0f1d8cd5-f3dc-4419-a46b-69852cdbdadf",
         "orientation": "v",
         "showlegend": true,
         "type": "scatter",
         "x": [
          0.706120885689908
         ],
         "xaxis": "x",
         "y": [
          0.7326112911984421
         ],
         "yaxis": "y"
        },
        {
         "alignmentgroup": "True",
         "bingroup": "y",
         "hovertemplate": "modelId=0f1d8cd5-f3dc-4419-a46b-69852cdbdadf<br>eventPrecision=%{y}<br>count=%{x}<extra></extra>",
         "legendgroup": "0f1d8cd5-f3dc-4419-a46b-69852cdbdadf",
         "marker": {
          "color": "#FFA15A"
         },
         "name": "0f1d8cd5-f3dc-4419-a46b-69852cdbdadf",
         "offsetgroup": "0f1d8cd5-f3dc-4419-a46b-69852cdbdadf",
         "opacity": 0.5,
         "showlegend": false,
         "type": "histogram",
         "xaxis": "x2",
         "y": [
          0.7326112911984421
         ],
         "yaxis": "y2"
        },
        {
         "fill": "toself",
         "mode": "lines",
         "name": "identity",
         "type": "scatter",
         "x": [
          0.7135084376261472,
          0.674704223481994,
          0.7108475372491854,
          0.6293403854303937,
          0.706120885689908
         ],
         "y": [
          0.7135084376261472,
          0.674704223481994,
          0.7108475372491854,
          0.6293403854303937,
          0.706120885689908
         ]
        }
       ],
       "layout": {
        "barmode": "overlay",
        "legend": {
         "title": {
          "text": "modelId"
         },
         "tracegroupgap": 0
        },
        "margin": {
         "t": 60
        },
        "template": {
         "data": {
          "bar": [
           {
            "error_x": {
             "color": "#2a3f5f"
            },
            "error_y": {
             "color": "#2a3f5f"
            },
            "marker": {
             "line": {
              "color": "#E5ECF6",
              "width": 0.5
             },
             "pattern": {
              "fillmode": "overlay",
              "size": 10,
              "solidity": 0.2
             }
            },
            "type": "bar"
           }
          ],
          "barpolar": [
           {
            "marker": {
             "line": {
              "color": "#E5ECF6",
              "width": 0.5
             },
             "pattern": {
              "fillmode": "overlay",
              "size": 10,
              "solidity": 0.2
             }
            },
            "type": "barpolar"
           }
          ],
          "carpet": [
           {
            "aaxis": {
             "endlinecolor": "#2a3f5f",
             "gridcolor": "white",
             "linecolor": "white",
             "minorgridcolor": "white",
             "startlinecolor": "#2a3f5f"
            },
            "baxis": {
             "endlinecolor": "#2a3f5f",
             "gridcolor": "white",
             "linecolor": "white",
             "minorgridcolor": "white",
             "startlinecolor": "#2a3f5f"
            },
            "type": "carpet"
           }
          ],
          "choropleth": [
           {
            "colorbar": {
             "outlinewidth": 0,
             "ticks": ""
            },
            "type": "choropleth"
           }
          ],
          "contour": [
           {
            "colorbar": {
             "outlinewidth": 0,
             "ticks": ""
            },
            "colorscale": [
             [
              0,
              "#0d0887"
             ],
             [
              0.1111111111111111,
              "#46039f"
             ],
             [
              0.2222222222222222,
              "#7201a8"
             ],
             [
              0.3333333333333333,
              "#9c179e"
             ],
             [
              0.4444444444444444,
              "#bd3786"
             ],
             [
              0.5555555555555556,
              "#d8576b"
             ],
             [
              0.6666666666666666,
              "#ed7953"
             ],
             [
              0.7777777777777778,
              "#fb9f3a"
             ],
             [
              0.8888888888888888,
              "#fdca26"
             ],
             [
              1,
              "#f0f921"
             ]
            ],
            "type": "contour"
           }
          ],
          "contourcarpet": [
           {
            "colorbar": {
             "outlinewidth": 0,
             "ticks": ""
            },
            "type": "contourcarpet"
           }
          ],
          "heatmap": [
           {
            "colorbar": {
             "outlinewidth": 0,
             "ticks": ""
            },
            "colorscale": [
             [
              0,
              "#0d0887"
             ],
             [
              0.1111111111111111,
              "#46039f"
             ],
             [
              0.2222222222222222,
              "#7201a8"
             ],
             [
              0.3333333333333333,
              "#9c179e"
             ],
             [
              0.4444444444444444,
              "#bd3786"
             ],
             [
              0.5555555555555556,
              "#d8576b"
             ],
             [
              0.6666666666666666,
              "#ed7953"
             ],
             [
              0.7777777777777778,
              "#fb9f3a"
             ],
             [
              0.8888888888888888,
              "#fdca26"
             ],
             [
              1,
              "#f0f921"
             ]
            ],
            "type": "heatmap"
           }
          ],
          "heatmapgl": [
           {
            "colorbar": {
             "outlinewidth": 0,
             "ticks": ""
            },
            "colorscale": [
             [
              0,
              "#0d0887"
             ],
             [
              0.1111111111111111,
              "#46039f"
             ],
             [
              0.2222222222222222,
              "#7201a8"
             ],
             [
              0.3333333333333333,
              "#9c179e"
             ],
             [
              0.4444444444444444,
              "#bd3786"
             ],
             [
              0.5555555555555556,
              "#d8576b"
             ],
             [
              0.6666666666666666,
              "#ed7953"
             ],
             [
              0.7777777777777778,
              "#fb9f3a"
             ],
             [
              0.8888888888888888,
              "#fdca26"
             ],
             [
              1,
              "#f0f921"
             ]
            ],
            "type": "heatmapgl"
           }
          ],
          "histogram": [
           {
            "marker": {
             "pattern": {
              "fillmode": "overlay",
              "size": 10,
              "solidity": 0.2
             }
            },
            "type": "histogram"
           }
          ],
          "histogram2d": [
           {
            "colorbar": {
             "outlinewidth": 0,
             "ticks": ""
            },
            "colorscale": [
             [
              0,
              "#0d0887"
             ],
             [
              0.1111111111111111,
              "#46039f"
             ],
             [
              0.2222222222222222,
              "#7201a8"
             ],
             [
              0.3333333333333333,
              "#9c179e"
             ],
             [
              0.4444444444444444,
              "#bd3786"
             ],
             [
              0.5555555555555556,
              "#d8576b"
             ],
             [
              0.6666666666666666,
              "#ed7953"
             ],
             [
              0.7777777777777778,
              "#fb9f3a"
             ],
             [
              0.8888888888888888,
              "#fdca26"
             ],
             [
              1,
              "#f0f921"
             ]
            ],
            "type": "histogram2d"
           }
          ],
          "histogram2dcontour": [
           {
            "colorbar": {
             "outlinewidth": 0,
             "ticks": ""
            },
            "colorscale": [
             [
              0,
              "#0d0887"
             ],
             [
              0.1111111111111111,
              "#46039f"
             ],
             [
              0.2222222222222222,
              "#7201a8"
             ],
             [
              0.3333333333333333,
              "#9c179e"
             ],
             [
              0.4444444444444444,
              "#bd3786"
             ],
             [
              0.5555555555555556,
              "#d8576b"
             ],
             [
              0.6666666666666666,
              "#ed7953"
             ],
             [
              0.7777777777777778,
              "#fb9f3a"
             ],
             [
              0.8888888888888888,
              "#fdca26"
             ],
             [
              1,
              "#f0f921"
             ]
            ],
            "type": "histogram2dcontour"
           }
          ],
          "mesh3d": [
           {
            "colorbar": {
             "outlinewidth": 0,
             "ticks": ""
            },
            "type": "mesh3d"
           }
          ],
          "parcoords": [
           {
            "line": {
             "colorbar": {
              "outlinewidth": 0,
              "ticks": ""
             }
            },
            "type": "parcoords"
           }
          ],
          "pie": [
           {
            "automargin": true,
            "type": "pie"
           }
          ],
          "scatter": [
           {
            "fillpattern": {
             "fillmode": "overlay",
             "size": 10,
             "solidity": 0.2
            },
            "type": "scatter"
           }
          ],
          "scatter3d": [
           {
            "line": {
             "colorbar": {
              "outlinewidth": 0,
              "ticks": ""
             }
            },
            "marker": {
             "colorbar": {
              "outlinewidth": 0,
              "ticks": ""
             }
            },
            "type": "scatter3d"
           }
          ],
          "scattercarpet": [
           {
            "marker": {
             "colorbar": {
              "outlinewidth": 0,
              "ticks": ""
             }
            },
            "type": "scattercarpet"
           }
          ],
          "scattergeo": [
           {
            "marker": {
             "colorbar": {
              "outlinewidth": 0,
              "ticks": ""
             }
            },
            "type": "scattergeo"
           }
          ],
          "scattergl": [
           {
            "marker": {
             "colorbar": {
              "outlinewidth": 0,
              "ticks": ""
             }
            },
            "type": "scattergl"
           }
          ],
          "scattermapbox": [
           {
            "marker": {
             "colorbar": {
              "outlinewidth": 0,
              "ticks": ""
             }
            },
            "type": "scattermapbox"
           }
          ],
          "scatterpolar": [
           {
            "marker": {
             "colorbar": {
              "outlinewidth": 0,
              "ticks": ""
             }
            },
            "type": "scatterpolar"
           }
          ],
          "scatterpolargl": [
           {
            "marker": {
             "colorbar": {
              "outlinewidth": 0,
              "ticks": ""
             }
            },
            "type": "scatterpolargl"
           }
          ],
          "scatterternary": [
           {
            "marker": {
             "colorbar": {
              "outlinewidth": 0,
              "ticks": ""
             }
            },
            "type": "scatterternary"
           }
          ],
          "surface": [
           {
            "colorbar": {
             "outlinewidth": 0,
             "ticks": ""
            },
            "colorscale": [
             [
              0,
              "#0d0887"
             ],
             [
              0.1111111111111111,
              "#46039f"
             ],
             [
              0.2222222222222222,
              "#7201a8"
             ],
             [
              0.3333333333333333,
              "#9c179e"
             ],
             [
              0.4444444444444444,
              "#bd3786"
             ],
             [
              0.5555555555555556,
              "#d8576b"
             ],
             [
              0.6666666666666666,
              "#ed7953"
             ],
             [
              0.7777777777777778,
              "#fb9f3a"
             ],
             [
              0.8888888888888888,
              "#fdca26"
             ],
             [
              1,
              "#f0f921"
             ]
            ],
            "type": "surface"
           }
          ],
          "table": [
           {
            "cells": {
             "fill": {
              "color": "#EBF0F8"
             },
             "line": {
              "color": "white"
             }
            },
            "header": {
             "fill": {
              "color": "#C8D4E3"
             },
             "line": {
              "color": "white"
             }
            },
            "type": "table"
           }
          ]
         },
         "layout": {
          "annotationdefaults": {
           "arrowcolor": "#2a3f5f",
           "arrowhead": 0,
           "arrowwidth": 1
          },
          "autotypenumbers": "strict",
          "coloraxis": {
           "colorbar": {
            "outlinewidth": 0,
            "ticks": ""
           }
          },
          "colorscale": {
           "diverging": [
            [
             0,
             "#8e0152"
            ],
            [
             0.1,
             "#c51b7d"
            ],
            [
             0.2,
             "#de77ae"
            ],
            [
             0.3,
             "#f1b6da"
            ],
            [
             0.4,
             "#fde0ef"
            ],
            [
             0.5,
             "#f7f7f7"
            ],
            [
             0.6,
             "#e6f5d0"
            ],
            [
             0.7,
             "#b8e186"
            ],
            [
             0.8,
             "#7fbc41"
            ],
            [
             0.9,
             "#4d9221"
            ],
            [
             1,
             "#276419"
            ]
           ],
           "sequential": [
            [
             0,
             "#0d0887"
            ],
            [
             0.1111111111111111,
             "#46039f"
            ],
            [
             0.2222222222222222,
             "#7201a8"
            ],
            [
             0.3333333333333333,
             "#9c179e"
            ],
            [
             0.4444444444444444,
             "#bd3786"
            ],
            [
             0.5555555555555556,
             "#d8576b"
            ],
            [
             0.6666666666666666,
             "#ed7953"
            ],
            [
             0.7777777777777778,
             "#fb9f3a"
            ],
            [
             0.8888888888888888,
             "#fdca26"
            ],
            [
             1,
             "#f0f921"
            ]
           ],
           "sequentialminus": [
            [
             0,
             "#0d0887"
            ],
            [
             0.1111111111111111,
             "#46039f"
            ],
            [
             0.2222222222222222,
             "#7201a8"
            ],
            [
             0.3333333333333333,
             "#9c179e"
            ],
            [
             0.4444444444444444,
             "#bd3786"
            ],
            [
             0.5555555555555556,
             "#d8576b"
            ],
            [
             0.6666666666666666,
             "#ed7953"
            ],
            [
             0.7777777777777778,
             "#fb9f3a"
            ],
            [
             0.8888888888888888,
             "#fdca26"
            ],
            [
             1,
             "#f0f921"
            ]
           ]
          },
          "colorway": [
           "#636efa",
           "#EF553B",
           "#00cc96",
           "#ab63fa",
           "#FFA15A",
           "#19d3f3",
           "#FF6692",
           "#B6E880",
           "#FF97FF",
           "#FECB52"
          ],
          "font": {
           "color": "#2a3f5f"
          },
          "geo": {
           "bgcolor": "white",
           "lakecolor": "white",
           "landcolor": "#E5ECF6",
           "showlakes": true,
           "showland": true,
           "subunitcolor": "white"
          },
          "hoverlabel": {
           "align": "left"
          },
          "hovermode": "closest",
          "mapbox": {
           "style": "light"
          },
          "paper_bgcolor": "white",
          "plot_bgcolor": "#E5ECF6",
          "polar": {
           "angularaxis": {
            "gridcolor": "white",
            "linecolor": "white",
            "ticks": ""
           },
           "bgcolor": "#E5ECF6",
           "radialaxis": {
            "gridcolor": "white",
            "linecolor": "white",
            "ticks": ""
           }
          },
          "scene": {
           "xaxis": {
            "backgroundcolor": "#E5ECF6",
            "gridcolor": "white",
            "gridwidth": 2,
            "linecolor": "white",
            "showbackground": true,
            "ticks": "",
            "zerolinecolor": "white"
           },
           "yaxis": {
            "backgroundcolor": "#E5ECF6",
            "gridcolor": "white",
            "gridwidth": 2,
            "linecolor": "white",
            "showbackground": true,
            "ticks": "",
            "zerolinecolor": "white"
           },
           "zaxis": {
            "backgroundcolor": "#E5ECF6",
            "gridcolor": "white",
            "gridwidth": 2,
            "linecolor": "white",
            "showbackground": true,
            "ticks": "",
            "zerolinecolor": "white"
           }
          },
          "shapedefaults": {
           "line": {
            "color": "#2a3f5f"
           }
          },
          "ternary": {
           "aaxis": {
            "gridcolor": "white",
            "linecolor": "white",
            "ticks": ""
           },
           "baxis": {
            "gridcolor": "white",
            "linecolor": "white",
            "ticks": ""
           },
           "bgcolor": "#E5ECF6",
           "caxis": {
            "gridcolor": "white",
            "linecolor": "white",
            "ticks": ""
           }
          },
          "title": {
           "x": 0.05
          },
          "xaxis": {
           "automargin": true,
           "gridcolor": "white",
           "linecolor": "white",
           "ticks": "",
           "title": {
            "standoff": 15
           },
           "zerolinecolor": "white",
           "zerolinewidth": 2
          },
          "yaxis": {
           "automargin": true,
           "gridcolor": "white",
           "linecolor": "white",
           "ticks": "",
           "title": {
            "standoff": 15
           },
           "zerolinecolor": "white",
           "zerolinewidth": 2
          }
         }
        },
        "xaxis": {
         "anchor": "y",
         "domain": [
          0,
          0.7363
         ],
         "title": {
          "text": "eventF1"
         }
        },
        "xaxis2": {
         "anchor": "y2",
         "domain": [
          0.7413,
          1
         ],
         "matches": "x2",
         "showgrid": true,
         "showline": false,
         "showticklabels": false,
         "ticks": ""
        },
        "yaxis": {
         "anchor": "x",
         "domain": [
          0,
          1
         ],
         "title": {
          "text": "eventPrecision"
         }
        },
        "yaxis2": {
         "anchor": "x2",
         "domain": [
          0,
          1
         ],
         "matches": "y",
         "showgrid": true,
         "showticklabels": false
        }
       }
      }
     },
     "metadata": {},
     "output_type": "display_data"
    }
   ],
   "source": [
    "fig=px.scatter(experimentModels,x='eventF1',y='eventPrecision',color='modelId',hover_name='modelId', marginal_y=\"histogram\")\n",
    "fig.add_trace(\n",
    "    go.Scatter(x=experimentModels['eventF1'], y=experimentModels['eventF1'], name=\"identity\", mode='lines',fill=\"toself\")\n",
    ")\n",
    "fig.show()"
   ]
  },
  {
   "cell_type": "code",
   "execution_count": 19,
   "metadata": {},
   "outputs": [
    {
     "data": {
      "application/vnd.plotly.v1+json": {
       "config": {
        "plotlyServerURL": "https://plot.ly"
       },
       "data": [
        {
         "hovertemplate": "<b>%{hovertext}</b><br><br>modelId=5c1fbad9-f02b-46f7-8e51-59ddaf0cf4eb<br>eventF1=%{x}<br>eventRecall=%{y}<extra></extra>",
         "hovertext": [
          "5c1fbad9-f02b-46f7-8e51-59ddaf0cf4eb"
         ],
         "legendgroup": "5c1fbad9-f02b-46f7-8e51-59ddaf0cf4eb",
         "marker": {
          "color": "#636efa",
          "symbol": "circle"
         },
         "mode": "markers",
         "name": "5c1fbad9-f02b-46f7-8e51-59ddaf0cf4eb",
         "orientation": "v",
         "showlegend": true,
         "type": "scatter",
         "x": [
          0.7135084376261472
         ],
         "xaxis": "x",
         "y": [
          0.8166895529213062
         ],
         "yaxis": "y"
        },
        {
         "alignmentgroup": "True",
         "bingroup": "y",
         "hovertemplate": "modelId=5c1fbad9-f02b-46f7-8e51-59ddaf0cf4eb<br>eventRecall=%{y}<br>count=%{x}<extra></extra>",
         "legendgroup": "5c1fbad9-f02b-46f7-8e51-59ddaf0cf4eb",
         "marker": {
          "color": "#636efa"
         },
         "name": "5c1fbad9-f02b-46f7-8e51-59ddaf0cf4eb",
         "offsetgroup": "5c1fbad9-f02b-46f7-8e51-59ddaf0cf4eb",
         "opacity": 0.5,
         "showlegend": false,
         "type": "histogram",
         "xaxis": "x2",
         "y": [
          0.8166895529213062
         ],
         "yaxis": "y2"
        },
        {
         "hovertemplate": "<b>%{hovertext}</b><br><br>modelId=f3f5e58f-0068-4046-b0a7-a62694b1fc26<br>eventF1=%{x}<br>eventRecall=%{y}<extra></extra>",
         "hovertext": [
          "f3f5e58f-0068-4046-b0a7-a62694b1fc26"
         ],
         "legendgroup": "f3f5e58f-0068-4046-b0a7-a62694b1fc26",
         "marker": {
          "color": "#EF553B",
          "symbol": "circle"
         },
         "mode": "markers",
         "name": "f3f5e58f-0068-4046-b0a7-a62694b1fc26",
         "orientation": "v",
         "showlegend": true,
         "type": "scatter",
         "x": [
          0.674704223481994
         ],
         "xaxis": "x",
         "y": [
          0.8681987207493679
         ],
         "yaxis": "y"
        },
        {
         "alignmentgroup": "True",
         "bingroup": "y",
         "hovertemplate": "modelId=f3f5e58f-0068-4046-b0a7-a62694b1fc26<br>eventRecall=%{y}<br>count=%{x}<extra></extra>",
         "legendgroup": "f3f5e58f-0068-4046-b0a7-a62694b1fc26",
         "marker": {
          "color": "#EF553B"
         },
         "name": "f3f5e58f-0068-4046-b0a7-a62694b1fc26",
         "offsetgroup": "f3f5e58f-0068-4046-b0a7-a62694b1fc26",
         "opacity": 0.5,
         "showlegend": false,
         "type": "histogram",
         "xaxis": "x2",
         "y": [
          0.8681987207493679
         ],
         "yaxis": "y2"
        },
        {
         "hovertemplate": "<b>%{hovertext}</b><br><br>modelId=919e22eb-bc1e-4601-a070-09b25fe7b52f<br>eventF1=%{x}<br>eventRecall=%{y}<extra></extra>",
         "hovertext": [
          "919e22eb-bc1e-4601-a070-09b25fe7b52f"
         ],
         "legendgroup": "919e22eb-bc1e-4601-a070-09b25fe7b52f",
         "marker": {
          "color": "#00cc96",
          "symbol": "circle"
         },
         "mode": "markers",
         "name": "919e22eb-bc1e-4601-a070-09b25fe7b52f",
         "orientation": "v",
         "showlegend": true,
         "type": "scatter",
         "x": [
          0.7108475372491854
         ],
         "xaxis": "x",
         "y": [
          0.7704731607181338
         ],
         "yaxis": "y"
        },
        {
         "alignmentgroup": "True",
         "bingroup": "y",
         "hovertemplate": "modelId=919e22eb-bc1e-4601-a070-09b25fe7b52f<br>eventRecall=%{y}<br>count=%{x}<extra></extra>",
         "legendgroup": "919e22eb-bc1e-4601-a070-09b25fe7b52f",
         "marker": {
          "color": "#00cc96"
         },
         "name": "919e22eb-bc1e-4601-a070-09b25fe7b52f",
         "offsetgroup": "919e22eb-bc1e-4601-a070-09b25fe7b52f",
         "opacity": 0.5,
         "showlegend": false,
         "type": "histogram",
         "xaxis": "x2",
         "y": [
          0.7704731607181338
         ],
         "yaxis": "y2"
        },
        {
         "hovertemplate": "<b>%{hovertext}</b><br><br>modelId=c2e2175e-cc0c-4536-86b5-c7a6ef28b104<br>eventF1=%{x}<br>eventRecall=%{y}<extra></extra>",
         "hovertext": [
          "c2e2175e-cc0c-4536-86b5-c7a6ef28b104"
         ],
         "legendgroup": "c2e2175e-cc0c-4536-86b5-c7a6ef28b104",
         "marker": {
          "color": "#ab63fa",
          "symbol": "circle"
         },
         "mode": "markers",
         "name": "c2e2175e-cc0c-4536-86b5-c7a6ef28b104",
         "orientation": "v",
         "showlegend": true,
         "type": "scatter",
         "x": [
          0.6293403854303937
         ],
         "xaxis": "x",
         "y": [
          0.7304108876978104
         ],
         "yaxis": "y"
        },
        {
         "alignmentgroup": "True",
         "bingroup": "y",
         "hovertemplate": "modelId=c2e2175e-cc0c-4536-86b5-c7a6ef28b104<br>eventRecall=%{y}<br>count=%{x}<extra></extra>",
         "legendgroup": "c2e2175e-cc0c-4536-86b5-c7a6ef28b104",
         "marker": {
          "color": "#ab63fa"
         },
         "name": "c2e2175e-cc0c-4536-86b5-c7a6ef28b104",
         "offsetgroup": "c2e2175e-cc0c-4536-86b5-c7a6ef28b104",
         "opacity": 0.5,
         "showlegend": false,
         "type": "histogram",
         "xaxis": "x2",
         "y": [
          0.7304108876978104
         ],
         "yaxis": "y2"
        },
        {
         "hovertemplate": "<b>%{hovertext}</b><br><br>modelId=0f1d8cd5-f3dc-4419-a46b-69852cdbdadf<br>eventF1=%{x}<br>eventRecall=%{y}<extra></extra>",
         "hovertext": [
          "0f1d8cd5-f3dc-4419-a46b-69852cdbdadf"
         ],
         "legendgroup": "0f1d8cd5-f3dc-4419-a46b-69852cdbdadf",
         "marker": {
          "color": "#FFA15A",
          "symbol": "circle"
         },
         "mode": "markers",
         "name": "0f1d8cd5-f3dc-4419-a46b-69852cdbdadf",
         "orientation": "v",
         "showlegend": true,
         "type": "scatter",
         "x": [
          0.706120885689908
         ],
         "xaxis": "x",
         "y": [
          0.7230779924788884
         ],
         "yaxis": "y"
        },
        {
         "alignmentgroup": "True",
         "bingroup": "y",
         "hovertemplate": "modelId=0f1d8cd5-f3dc-4419-a46b-69852cdbdadf<br>eventRecall=%{y}<br>count=%{x}<extra></extra>",
         "legendgroup": "0f1d8cd5-f3dc-4419-a46b-69852cdbdadf",
         "marker": {
          "color": "#FFA15A"
         },
         "name": "0f1d8cd5-f3dc-4419-a46b-69852cdbdadf",
         "offsetgroup": "0f1d8cd5-f3dc-4419-a46b-69852cdbdadf",
         "opacity": 0.5,
         "showlegend": false,
         "type": "histogram",
         "xaxis": "x2",
         "y": [
          0.7230779924788884
         ],
         "yaxis": "y2"
        },
        {
         "fill": "toself",
         "mode": "lines",
         "name": "identity",
         "type": "scatter",
         "x": [
          0.7135084376261472,
          0.674704223481994,
          0.7108475372491854,
          0.6293403854303937,
          0.706120885689908
         ],
         "y": [
          0.7135084376261472,
          0.674704223481994,
          0.7108475372491854,
          0.6293403854303937,
          0.706120885689908
         ]
        }
       ],
       "layout": {
        "barmode": "overlay",
        "legend": {
         "title": {
          "text": "modelId"
         },
         "tracegroupgap": 0
        },
        "margin": {
         "t": 60
        },
        "template": {
         "data": {
          "bar": [
           {
            "error_x": {
             "color": "#2a3f5f"
            },
            "error_y": {
             "color": "#2a3f5f"
            },
            "marker": {
             "line": {
              "color": "#E5ECF6",
              "width": 0.5
             },
             "pattern": {
              "fillmode": "overlay",
              "size": 10,
              "solidity": 0.2
             }
            },
            "type": "bar"
           }
          ],
          "barpolar": [
           {
            "marker": {
             "line": {
              "color": "#E5ECF6",
              "width": 0.5
             },
             "pattern": {
              "fillmode": "overlay",
              "size": 10,
              "solidity": 0.2
             }
            },
            "type": "barpolar"
           }
          ],
          "carpet": [
           {
            "aaxis": {
             "endlinecolor": "#2a3f5f",
             "gridcolor": "white",
             "linecolor": "white",
             "minorgridcolor": "white",
             "startlinecolor": "#2a3f5f"
            },
            "baxis": {
             "endlinecolor": "#2a3f5f",
             "gridcolor": "white",
             "linecolor": "white",
             "minorgridcolor": "white",
             "startlinecolor": "#2a3f5f"
            },
            "type": "carpet"
           }
          ],
          "choropleth": [
           {
            "colorbar": {
             "outlinewidth": 0,
             "ticks": ""
            },
            "type": "choropleth"
           }
          ],
          "contour": [
           {
            "colorbar": {
             "outlinewidth": 0,
             "ticks": ""
            },
            "colorscale": [
             [
              0,
              "#0d0887"
             ],
             [
              0.1111111111111111,
              "#46039f"
             ],
             [
              0.2222222222222222,
              "#7201a8"
             ],
             [
              0.3333333333333333,
              "#9c179e"
             ],
             [
              0.4444444444444444,
              "#bd3786"
             ],
             [
              0.5555555555555556,
              "#d8576b"
             ],
             [
              0.6666666666666666,
              "#ed7953"
             ],
             [
              0.7777777777777778,
              "#fb9f3a"
             ],
             [
              0.8888888888888888,
              "#fdca26"
             ],
             [
              1,
              "#f0f921"
             ]
            ],
            "type": "contour"
           }
          ],
          "contourcarpet": [
           {
            "colorbar": {
             "outlinewidth": 0,
             "ticks": ""
            },
            "type": "contourcarpet"
           }
          ],
          "heatmap": [
           {
            "colorbar": {
             "outlinewidth": 0,
             "ticks": ""
            },
            "colorscale": [
             [
              0,
              "#0d0887"
             ],
             [
              0.1111111111111111,
              "#46039f"
             ],
             [
              0.2222222222222222,
              "#7201a8"
             ],
             [
              0.3333333333333333,
              "#9c179e"
             ],
             [
              0.4444444444444444,
              "#bd3786"
             ],
             [
              0.5555555555555556,
              "#d8576b"
             ],
             [
              0.6666666666666666,
              "#ed7953"
             ],
             [
              0.7777777777777778,
              "#fb9f3a"
             ],
             [
              0.8888888888888888,
              "#fdca26"
             ],
             [
              1,
              "#f0f921"
             ]
            ],
            "type": "heatmap"
           }
          ],
          "heatmapgl": [
           {
            "colorbar": {
             "outlinewidth": 0,
             "ticks": ""
            },
            "colorscale": [
             [
              0,
              "#0d0887"
             ],
             [
              0.1111111111111111,
              "#46039f"
             ],
             [
              0.2222222222222222,
              "#7201a8"
             ],
             [
              0.3333333333333333,
              "#9c179e"
             ],
             [
              0.4444444444444444,
              "#bd3786"
             ],
             [
              0.5555555555555556,
              "#d8576b"
             ],
             [
              0.6666666666666666,
              "#ed7953"
             ],
             [
              0.7777777777777778,
              "#fb9f3a"
             ],
             [
              0.8888888888888888,
              "#fdca26"
             ],
             [
              1,
              "#f0f921"
             ]
            ],
            "type": "heatmapgl"
           }
          ],
          "histogram": [
           {
            "marker": {
             "pattern": {
              "fillmode": "overlay",
              "size": 10,
              "solidity": 0.2
             }
            },
            "type": "histogram"
           }
          ],
          "histogram2d": [
           {
            "colorbar": {
             "outlinewidth": 0,
             "ticks": ""
            },
            "colorscale": [
             [
              0,
              "#0d0887"
             ],
             [
              0.1111111111111111,
              "#46039f"
             ],
             [
              0.2222222222222222,
              "#7201a8"
             ],
             [
              0.3333333333333333,
              "#9c179e"
             ],
             [
              0.4444444444444444,
              "#bd3786"
             ],
             [
              0.5555555555555556,
              "#d8576b"
             ],
             [
              0.6666666666666666,
              "#ed7953"
             ],
             [
              0.7777777777777778,
              "#fb9f3a"
             ],
             [
              0.8888888888888888,
              "#fdca26"
             ],
             [
              1,
              "#f0f921"
             ]
            ],
            "type": "histogram2d"
           }
          ],
          "histogram2dcontour": [
           {
            "colorbar": {
             "outlinewidth": 0,
             "ticks": ""
            },
            "colorscale": [
             [
              0,
              "#0d0887"
             ],
             [
              0.1111111111111111,
              "#46039f"
             ],
             [
              0.2222222222222222,
              "#7201a8"
             ],
             [
              0.3333333333333333,
              "#9c179e"
             ],
             [
              0.4444444444444444,
              "#bd3786"
             ],
             [
              0.5555555555555556,
              "#d8576b"
             ],
             [
              0.6666666666666666,
              "#ed7953"
             ],
             [
              0.7777777777777778,
              "#fb9f3a"
             ],
             [
              0.8888888888888888,
              "#fdca26"
             ],
             [
              1,
              "#f0f921"
             ]
            ],
            "type": "histogram2dcontour"
           }
          ],
          "mesh3d": [
           {
            "colorbar": {
             "outlinewidth": 0,
             "ticks": ""
            },
            "type": "mesh3d"
           }
          ],
          "parcoords": [
           {
            "line": {
             "colorbar": {
              "outlinewidth": 0,
              "ticks": ""
             }
            },
            "type": "parcoords"
           }
          ],
          "pie": [
           {
            "automargin": true,
            "type": "pie"
           }
          ],
          "scatter": [
           {
            "fillpattern": {
             "fillmode": "overlay",
             "size": 10,
             "solidity": 0.2
            },
            "type": "scatter"
           }
          ],
          "scatter3d": [
           {
            "line": {
             "colorbar": {
              "outlinewidth": 0,
              "ticks": ""
             }
            },
            "marker": {
             "colorbar": {
              "outlinewidth": 0,
              "ticks": ""
             }
            },
            "type": "scatter3d"
           }
          ],
          "scattercarpet": [
           {
            "marker": {
             "colorbar": {
              "outlinewidth": 0,
              "ticks": ""
             }
            },
            "type": "scattercarpet"
           }
          ],
          "scattergeo": [
           {
            "marker": {
             "colorbar": {
              "outlinewidth": 0,
              "ticks": ""
             }
            },
            "type": "scattergeo"
           }
          ],
          "scattergl": [
           {
            "marker": {
             "colorbar": {
              "outlinewidth": 0,
              "ticks": ""
             }
            },
            "type": "scattergl"
           }
          ],
          "scattermapbox": [
           {
            "marker": {
             "colorbar": {
              "outlinewidth": 0,
              "ticks": ""
             }
            },
            "type": "scattermapbox"
           }
          ],
          "scatterpolar": [
           {
            "marker": {
             "colorbar": {
              "outlinewidth": 0,
              "ticks": ""
             }
            },
            "type": "scatterpolar"
           }
          ],
          "scatterpolargl": [
           {
            "marker": {
             "colorbar": {
              "outlinewidth": 0,
              "ticks": ""
             }
            },
            "type": "scatterpolargl"
           }
          ],
          "scatterternary": [
           {
            "marker": {
             "colorbar": {
              "outlinewidth": 0,
              "ticks": ""
             }
            },
            "type": "scatterternary"
           }
          ],
          "surface": [
           {
            "colorbar": {
             "outlinewidth": 0,
             "ticks": ""
            },
            "colorscale": [
             [
              0,
              "#0d0887"
             ],
             [
              0.1111111111111111,
              "#46039f"
             ],
             [
              0.2222222222222222,
              "#7201a8"
             ],
             [
              0.3333333333333333,
              "#9c179e"
             ],
             [
              0.4444444444444444,
              "#bd3786"
             ],
             [
              0.5555555555555556,
              "#d8576b"
             ],
             [
              0.6666666666666666,
              "#ed7953"
             ],
             [
              0.7777777777777778,
              "#fb9f3a"
             ],
             [
              0.8888888888888888,
              "#fdca26"
             ],
             [
              1,
              "#f0f921"
             ]
            ],
            "type": "surface"
           }
          ],
          "table": [
           {
            "cells": {
             "fill": {
              "color": "#EBF0F8"
             },
             "line": {
              "color": "white"
             }
            },
            "header": {
             "fill": {
              "color": "#C8D4E3"
             },
             "line": {
              "color": "white"
             }
            },
            "type": "table"
           }
          ]
         },
         "layout": {
          "annotationdefaults": {
           "arrowcolor": "#2a3f5f",
           "arrowhead": 0,
           "arrowwidth": 1
          },
          "autotypenumbers": "strict",
          "coloraxis": {
           "colorbar": {
            "outlinewidth": 0,
            "ticks": ""
           }
          },
          "colorscale": {
           "diverging": [
            [
             0,
             "#8e0152"
            ],
            [
             0.1,
             "#c51b7d"
            ],
            [
             0.2,
             "#de77ae"
            ],
            [
             0.3,
             "#f1b6da"
            ],
            [
             0.4,
             "#fde0ef"
            ],
            [
             0.5,
             "#f7f7f7"
            ],
            [
             0.6,
             "#e6f5d0"
            ],
            [
             0.7,
             "#b8e186"
            ],
            [
             0.8,
             "#7fbc41"
            ],
            [
             0.9,
             "#4d9221"
            ],
            [
             1,
             "#276419"
            ]
           ],
           "sequential": [
            [
             0,
             "#0d0887"
            ],
            [
             0.1111111111111111,
             "#46039f"
            ],
            [
             0.2222222222222222,
             "#7201a8"
            ],
            [
             0.3333333333333333,
             "#9c179e"
            ],
            [
             0.4444444444444444,
             "#bd3786"
            ],
            [
             0.5555555555555556,
             "#d8576b"
            ],
            [
             0.6666666666666666,
             "#ed7953"
            ],
            [
             0.7777777777777778,
             "#fb9f3a"
            ],
            [
             0.8888888888888888,
             "#fdca26"
            ],
            [
             1,
             "#f0f921"
            ]
           ],
           "sequentialminus": [
            [
             0,
             "#0d0887"
            ],
            [
             0.1111111111111111,
             "#46039f"
            ],
            [
             0.2222222222222222,
             "#7201a8"
            ],
            [
             0.3333333333333333,
             "#9c179e"
            ],
            [
             0.4444444444444444,
             "#bd3786"
            ],
            [
             0.5555555555555556,
             "#d8576b"
            ],
            [
             0.6666666666666666,
             "#ed7953"
            ],
            [
             0.7777777777777778,
             "#fb9f3a"
            ],
            [
             0.8888888888888888,
             "#fdca26"
            ],
            [
             1,
             "#f0f921"
            ]
           ]
          },
          "colorway": [
           "#636efa",
           "#EF553B",
           "#00cc96",
           "#ab63fa",
           "#FFA15A",
           "#19d3f3",
           "#FF6692",
           "#B6E880",
           "#FF97FF",
           "#FECB52"
          ],
          "font": {
           "color": "#2a3f5f"
          },
          "geo": {
           "bgcolor": "white",
           "lakecolor": "white",
           "landcolor": "#E5ECF6",
           "showlakes": true,
           "showland": true,
           "subunitcolor": "white"
          },
          "hoverlabel": {
           "align": "left"
          },
          "hovermode": "closest",
          "mapbox": {
           "style": "light"
          },
          "paper_bgcolor": "white",
          "plot_bgcolor": "#E5ECF6",
          "polar": {
           "angularaxis": {
            "gridcolor": "white",
            "linecolor": "white",
            "ticks": ""
           },
           "bgcolor": "#E5ECF6",
           "radialaxis": {
            "gridcolor": "white",
            "linecolor": "white",
            "ticks": ""
           }
          },
          "scene": {
           "xaxis": {
            "backgroundcolor": "#E5ECF6",
            "gridcolor": "white",
            "gridwidth": 2,
            "linecolor": "white",
            "showbackground": true,
            "ticks": "",
            "zerolinecolor": "white"
           },
           "yaxis": {
            "backgroundcolor": "#E5ECF6",
            "gridcolor": "white",
            "gridwidth": 2,
            "linecolor": "white",
            "showbackground": true,
            "ticks": "",
            "zerolinecolor": "white"
           },
           "zaxis": {
            "backgroundcolor": "#E5ECF6",
            "gridcolor": "white",
            "gridwidth": 2,
            "linecolor": "white",
            "showbackground": true,
            "ticks": "",
            "zerolinecolor": "white"
           }
          },
          "shapedefaults": {
           "line": {
            "color": "#2a3f5f"
           }
          },
          "ternary": {
           "aaxis": {
            "gridcolor": "white",
            "linecolor": "white",
            "ticks": ""
           },
           "baxis": {
            "gridcolor": "white",
            "linecolor": "white",
            "ticks": ""
           },
           "bgcolor": "#E5ECF6",
           "caxis": {
            "gridcolor": "white",
            "linecolor": "white",
            "ticks": ""
           }
          },
          "title": {
           "x": 0.05
          },
          "xaxis": {
           "automargin": true,
           "gridcolor": "white",
           "linecolor": "white",
           "ticks": "",
           "title": {
            "standoff": 15
           },
           "zerolinecolor": "white",
           "zerolinewidth": 2
          },
          "yaxis": {
           "automargin": true,
           "gridcolor": "white",
           "linecolor": "white",
           "ticks": "",
           "title": {
            "standoff": 15
           },
           "zerolinecolor": "white",
           "zerolinewidth": 2
          }
         }
        },
        "xaxis": {
         "anchor": "y",
         "domain": [
          0,
          0.7363
         ],
         "title": {
          "text": "eventF1"
         }
        },
        "xaxis2": {
         "anchor": "y2",
         "domain": [
          0.7413,
          1
         ],
         "matches": "x2",
         "showgrid": true,
         "showline": false,
         "showticklabels": false,
         "ticks": ""
        },
        "yaxis": {
         "anchor": "x",
         "domain": [
          0,
          1
         ],
         "title": {
          "text": "eventRecall"
         }
        },
        "yaxis2": {
         "anchor": "x2",
         "domain": [
          0,
          1
         ],
         "matches": "y",
         "showgrid": true,
         "showticklabels": false
        }
       }
      }
     },
     "metadata": {},
     "output_type": "display_data"
    }
   ],
   "source": [
    "fig=px.scatter(experimentModels,x='eventF1',y='eventRecall',color='modelId',hover_name='modelId', marginal_y=\"histogram\")\n",
    "fig.add_trace(\n",
    "    go.Scatter(x=experimentModels['eventF1'], y=experimentModels['eventF1'], name=\"identity\", mode='lines',fill=\"toself\")\n",
    ")\n",
    "fig.show()"
   ]
  },
  {
   "cell_type": "code",
   "execution_count": 20,
   "metadata": {},
   "outputs": [
    {
     "data": {
      "text/html": [
       "<div>\n",
       "<style scoped>\n",
       "    .dataframe tbody tr th:only-of-type {\n",
       "        vertical-align: middle;\n",
       "    }\n",
       "\n",
       "    .dataframe tbody tr th {\n",
       "        vertical-align: top;\n",
       "    }\n",
       "\n",
       "    .dataframe thead tr th {\n",
       "        text-align: left;\n",
       "    }\n",
       "\n",
       "    .dataframe thead tr:last-of-type th {\n",
       "        text-align: right;\n",
       "    }\n",
       "</style>\n",
       "<table border=\"1\" class=\"dataframe\">\n",
       "  <thead>\n",
       "    <tr>\n",
       "      <th></th>\n",
       "      <th colspan=\"6\" halign=\"left\">eventF1</th>\n",
       "      <th colspan=\"6\" halign=\"left\">eventPrecision</th>\n",
       "      <th colspan=\"6\" halign=\"left\">eventRecall</th>\n",
       "    </tr>\n",
       "    <tr>\n",
       "      <th></th>\n",
       "      <th>count</th>\n",
       "      <th>mean</th>\n",
       "      <th>std</th>\n",
       "      <th>min</th>\n",
       "      <th>50%</th>\n",
       "      <th>max</th>\n",
       "      <th>count</th>\n",
       "      <th>mean</th>\n",
       "      <th>std</th>\n",
       "      <th>min</th>\n",
       "      <th>50%</th>\n",
       "      <th>max</th>\n",
       "      <th>count</th>\n",
       "      <th>mean</th>\n",
       "      <th>std</th>\n",
       "      <th>min</th>\n",
       "      <th>50%</th>\n",
       "      <th>max</th>\n",
       "    </tr>\n",
       "    <tr>\n",
       "      <th>modelId</th>\n",
       "      <th></th>\n",
       "      <th></th>\n",
       "      <th></th>\n",
       "      <th></th>\n",
       "      <th></th>\n",
       "      <th></th>\n",
       "      <th></th>\n",
       "      <th></th>\n",
       "      <th></th>\n",
       "      <th></th>\n",
       "      <th></th>\n",
       "      <th></th>\n",
       "      <th></th>\n",
       "      <th></th>\n",
       "      <th></th>\n",
       "      <th></th>\n",
       "      <th></th>\n",
       "      <th></th>\n",
       "    </tr>\n",
       "  </thead>\n",
       "  <tbody>\n",
       "    <tr>\n",
       "      <th>0f1d8cd5-f3dc-4419-a46b-69852cdbdadf</th>\n",
       "      <td>1.0</td>\n",
       "      <td>0.706121</td>\n",
       "      <td>NaN</td>\n",
       "      <td>0.706121</td>\n",
       "      <td>0.706121</td>\n",
       "      <td>0.706121</td>\n",
       "      <td>1.0</td>\n",
       "      <td>0.732611</td>\n",
       "      <td>NaN</td>\n",
       "      <td>0.732611</td>\n",
       "      <td>0.732611</td>\n",
       "      <td>0.732611</td>\n",
       "      <td>1.0</td>\n",
       "      <td>0.723078</td>\n",
       "      <td>NaN</td>\n",
       "      <td>0.723078</td>\n",
       "      <td>0.723078</td>\n",
       "      <td>0.723078</td>\n",
       "    </tr>\n",
       "    <tr>\n",
       "      <th>5c1fbad9-f02b-46f7-8e51-59ddaf0cf4eb</th>\n",
       "      <td>1.0</td>\n",
       "      <td>0.713508</td>\n",
       "      <td>NaN</td>\n",
       "      <td>0.713508</td>\n",
       "      <td>0.713508</td>\n",
       "      <td>0.713508</td>\n",
       "      <td>1.0</td>\n",
       "      <td>0.644596</td>\n",
       "      <td>NaN</td>\n",
       "      <td>0.644596</td>\n",
       "      <td>0.644596</td>\n",
       "      <td>0.644596</td>\n",
       "      <td>1.0</td>\n",
       "      <td>0.816690</td>\n",
       "      <td>NaN</td>\n",
       "      <td>0.816690</td>\n",
       "      <td>0.816690</td>\n",
       "      <td>0.816690</td>\n",
       "    </tr>\n",
       "    <tr>\n",
       "      <th>919e22eb-bc1e-4601-a070-09b25fe7b52f</th>\n",
       "      <td>1.0</td>\n",
       "      <td>0.710848</td>\n",
       "      <td>NaN</td>\n",
       "      <td>0.710848</td>\n",
       "      <td>0.710848</td>\n",
       "      <td>0.710848</td>\n",
       "      <td>1.0</td>\n",
       "      <td>0.690502</td>\n",
       "      <td>NaN</td>\n",
       "      <td>0.690502</td>\n",
       "      <td>0.690502</td>\n",
       "      <td>0.690502</td>\n",
       "      <td>1.0</td>\n",
       "      <td>0.770473</td>\n",
       "      <td>NaN</td>\n",
       "      <td>0.770473</td>\n",
       "      <td>0.770473</td>\n",
       "      <td>0.770473</td>\n",
       "    </tr>\n",
       "    <tr>\n",
       "      <th>c2e2175e-cc0c-4536-86b5-c7a6ef28b104</th>\n",
       "      <td>1.0</td>\n",
       "      <td>0.629340</td>\n",
       "      <td>NaN</td>\n",
       "      <td>0.629340</td>\n",
       "      <td>0.629340</td>\n",
       "      <td>0.629340</td>\n",
       "      <td>1.0</td>\n",
       "      <td>0.688244</td>\n",
       "      <td>NaN</td>\n",
       "      <td>0.688244</td>\n",
       "      <td>0.688244</td>\n",
       "      <td>0.688244</td>\n",
       "      <td>1.0</td>\n",
       "      <td>0.730411</td>\n",
       "      <td>NaN</td>\n",
       "      <td>0.730411</td>\n",
       "      <td>0.730411</td>\n",
       "      <td>0.730411</td>\n",
       "    </tr>\n",
       "    <tr>\n",
       "      <th>f3f5e58f-0068-4046-b0a7-a62694b1fc26</th>\n",
       "      <td>1.0</td>\n",
       "      <td>0.674704</td>\n",
       "      <td>NaN</td>\n",
       "      <td>0.674704</td>\n",
       "      <td>0.674704</td>\n",
       "      <td>0.674704</td>\n",
       "      <td>1.0</td>\n",
       "      <td>0.566676</td>\n",
       "      <td>NaN</td>\n",
       "      <td>0.566676</td>\n",
       "      <td>0.566676</td>\n",
       "      <td>0.566676</td>\n",
       "      <td>1.0</td>\n",
       "      <td>0.868199</td>\n",
       "      <td>NaN</td>\n",
       "      <td>0.868199</td>\n",
       "      <td>0.868199</td>\n",
       "      <td>0.868199</td>\n",
       "    </tr>\n",
       "  </tbody>\n",
       "</table>\n",
       "</div>"
      ],
      "text/plain": [
       "                                     eventF1                          \\\n",
       "                                       count      mean std       min   \n",
       "modelId                                                                \n",
       "0f1d8cd5-f3dc-4419-a46b-69852cdbdadf     1.0  0.706121 NaN  0.706121   \n",
       "5c1fbad9-f02b-46f7-8e51-59ddaf0cf4eb     1.0  0.713508 NaN  0.713508   \n",
       "919e22eb-bc1e-4601-a070-09b25fe7b52f     1.0  0.710848 NaN  0.710848   \n",
       "c2e2175e-cc0c-4536-86b5-c7a6ef28b104     1.0  0.629340 NaN  0.629340   \n",
       "f3f5e58f-0068-4046-b0a7-a62694b1fc26     1.0  0.674704 NaN  0.674704   \n",
       "\n",
       "                                                         eventPrecision  \\\n",
       "                                           50%       max          count   \n",
       "modelId                                                                   \n",
       "0f1d8cd5-f3dc-4419-a46b-69852cdbdadf  0.706121  0.706121            1.0   \n",
       "5c1fbad9-f02b-46f7-8e51-59ddaf0cf4eb  0.713508  0.713508            1.0   \n",
       "919e22eb-bc1e-4601-a070-09b25fe7b52f  0.710848  0.710848            1.0   \n",
       "c2e2175e-cc0c-4536-86b5-c7a6ef28b104  0.629340  0.629340            1.0   \n",
       "f3f5e58f-0068-4046-b0a7-a62694b1fc26  0.674704  0.674704            1.0   \n",
       "\n",
       "                                                                        \\\n",
       "                                          mean std       min       50%   \n",
       "modelId                                                                  \n",
       "0f1d8cd5-f3dc-4419-a46b-69852cdbdadf  0.732611 NaN  0.732611  0.732611   \n",
       "5c1fbad9-f02b-46f7-8e51-59ddaf0cf4eb  0.644596 NaN  0.644596  0.644596   \n",
       "919e22eb-bc1e-4601-a070-09b25fe7b52f  0.690502 NaN  0.690502  0.690502   \n",
       "c2e2175e-cc0c-4536-86b5-c7a6ef28b104  0.688244 NaN  0.688244  0.688244   \n",
       "f3f5e58f-0068-4046-b0a7-a62694b1fc26  0.566676 NaN  0.566676  0.566676   \n",
       "\n",
       "                                               eventRecall                \\\n",
       "                                           max       count      mean std   \n",
       "modelId                                                                    \n",
       "0f1d8cd5-f3dc-4419-a46b-69852cdbdadf  0.732611         1.0  0.723078 NaN   \n",
       "5c1fbad9-f02b-46f7-8e51-59ddaf0cf4eb  0.644596         1.0  0.816690 NaN   \n",
       "919e22eb-bc1e-4601-a070-09b25fe7b52f  0.690502         1.0  0.770473 NaN   \n",
       "c2e2175e-cc0c-4536-86b5-c7a6ef28b104  0.688244         1.0  0.730411 NaN   \n",
       "f3f5e58f-0068-4046-b0a7-a62694b1fc26  0.566676         1.0  0.868199 NaN   \n",
       "\n",
       "                                                                    \n",
       "                                           min       50%       max  \n",
       "modelId                                                             \n",
       "0f1d8cd5-f3dc-4419-a46b-69852cdbdadf  0.723078  0.723078  0.723078  \n",
       "5c1fbad9-f02b-46f7-8e51-59ddaf0cf4eb  0.816690  0.816690  0.816690  \n",
       "919e22eb-bc1e-4601-a070-09b25fe7b52f  0.770473  0.770473  0.770473  \n",
       "c2e2175e-cc0c-4536-86b5-c7a6ef28b104  0.730411  0.730411  0.730411  \n",
       "f3f5e58f-0068-4046-b0a7-a62694b1fc26  0.868199  0.868199  0.868199  "
      ]
     },
     "execution_count": 20,
     "metadata": {},
     "output_type": "execute_result"
    }
   ],
   "source": [
    "experimentModels[['modelId','eventF1','eventPrecision','eventRecall']].groupby('modelId').describe(percentiles=[0.5])"
   ]
  },
  {
   "cell_type": "code",
   "execution_count": 21,
   "metadata": {},
   "outputs": [
    {
     "data": {
      "text/html": [
       "<div>\n",
       "<style scoped>\n",
       "    .dataframe tbody tr th:only-of-type {\n",
       "        vertical-align: middle;\n",
       "    }\n",
       "\n",
       "    .dataframe tbody tr th {\n",
       "        vertical-align: top;\n",
       "    }\n",
       "\n",
       "    .dataframe thead th {\n",
       "        text-align: right;\n",
       "    }\n",
       "</style>\n",
       "<table border=\"1\" class=\"dataframe\">\n",
       "  <thead>\n",
       "    <tr style=\"text-align: right;\">\n",
       "      <th></th>\n",
       "      <th>modelId</th>\n",
       "      <th>eventF1</th>\n",
       "      <th>eventPrecision</th>\n",
       "      <th>eventRecall</th>\n",
       "    </tr>\n",
       "  </thead>\n",
       "  <tbody>\n",
       "    <tr>\n",
       "      <th>0</th>\n",
       "      <td>0f1d8cd5-f3dc-4419-a46b-69852cdbdadf</td>\n",
       "      <td>0.706121</td>\n",
       "      <td>0.732611</td>\n",
       "      <td>0.723078</td>\n",
       "    </tr>\n",
       "    <tr>\n",
       "      <th>1</th>\n",
       "      <td>5c1fbad9-f02b-46f7-8e51-59ddaf0cf4eb</td>\n",
       "      <td>0.713508</td>\n",
       "      <td>0.644596</td>\n",
       "      <td>0.816690</td>\n",
       "    </tr>\n",
       "    <tr>\n",
       "      <th>2</th>\n",
       "      <td>919e22eb-bc1e-4601-a070-09b25fe7b52f</td>\n",
       "      <td>0.710848</td>\n",
       "      <td>0.690502</td>\n",
       "      <td>0.770473</td>\n",
       "    </tr>\n",
       "    <tr>\n",
       "      <th>3</th>\n",
       "      <td>c2e2175e-cc0c-4536-86b5-c7a6ef28b104</td>\n",
       "      <td>0.629340</td>\n",
       "      <td>0.688244</td>\n",
       "      <td>0.730411</td>\n",
       "    </tr>\n",
       "    <tr>\n",
       "      <th>4</th>\n",
       "      <td>f3f5e58f-0068-4046-b0a7-a62694b1fc26</td>\n",
       "      <td>0.674704</td>\n",
       "      <td>0.566676</td>\n",
       "      <td>0.868199</td>\n",
       "    </tr>\n",
       "  </tbody>\n",
       "</table>\n",
       "</div>"
      ],
      "text/plain": [
       "                                modelId   eventF1  eventPrecision  eventRecall\n",
       "0  0f1d8cd5-f3dc-4419-a46b-69852cdbdadf  0.706121        0.732611     0.723078\n",
       "1  5c1fbad9-f02b-46f7-8e51-59ddaf0cf4eb  0.713508        0.644596     0.816690\n",
       "2  919e22eb-bc1e-4601-a070-09b25fe7b52f  0.710848        0.690502     0.770473\n",
       "3  c2e2175e-cc0c-4536-86b5-c7a6ef28b104  0.629340        0.688244     0.730411\n",
       "4  f3f5e58f-0068-4046-b0a7-a62694b1fc26  0.674704        0.566676     0.868199"
      ]
     },
     "execution_count": 21,
     "metadata": {},
     "output_type": "execute_result"
    }
   ],
   "source": [
    "experimentModels[['modelId','eventF1','eventPrecision','eventRecall']].groupby('modelId',as_index=False).mean()"
   ]
  },
  {
   "cell_type": "code",
   "execution_count": 22,
   "metadata": {},
   "outputs": [
    {
     "name": "stderr",
     "output_type": "stream",
     "text": [
      "C:\\Users\\Gurdiel\\AppData\\Local\\Temp\\ipykernel_9992\\3541183823.py:1: FutureWarning:\n",
      "\n",
      "The default value of numeric_only in DataFrame.mean is deprecated. In a future version, it will default to False. In addition, specifying 'numeric_only=None' is deprecated. Select only valid columns or specify the value of numeric_only to silence this warning.\n",
      "\n"
     ]
    },
    {
     "data": {
      "text/plain": [
       "eventF1           0.686904\n",
       "eventPrecision    0.664526\n",
       "eventRecall       0.781770\n",
       "dtype: float64"
      ]
     },
     "execution_count": 22,
     "metadata": {},
     "output_type": "execute_result"
    }
   ],
   "source": [
    "experimentModels[['modelId','eventF1','eventPrecision','eventRecall']].groupby('modelId',as_index=False).mean().mean()"
   ]
  },
  {
   "cell_type": "code",
   "execution_count": 23,
   "metadata": {},
   "outputs": [
    {
     "name": "stderr",
     "output_type": "stream",
     "text": [
      "C:\\Users\\Gurdiel\\AppData\\Local\\Temp\\ipykernel_9992\\376514559.py:1: FutureWarning:\n",
      "\n",
      "The default value of numeric_only in DataFrame.std is deprecated. In a future version, it will default to False. In addition, specifying 'numeric_only=None' is deprecated. Select only valid columns or specify the value of numeric_only to silence this warning.\n",
      "\n"
     ]
    },
    {
     "data": {
      "text/plain": [
       "eventF1           0.035752\n",
       "eventPrecision    0.062938\n",
       "eventRecall       0.061032\n",
       "dtype: float64"
      ]
     },
     "execution_count": 23,
     "metadata": {},
     "output_type": "execute_result"
    }
   ],
   "source": [
    "experimentModels[['modelId','eventF1','eventPrecision','eventRecall']].groupby('modelId',as_index=False).mean().std()"
   ]
  },
  {
   "cell_type": "code",
   "execution_count": 24,
   "metadata": {},
   "outputs": [],
   "source": [
    "auxPrecision=pd.DataFrame({\n",
    "    'metric':'event precision',\n",
    "    'value':experimentModels.eventPrecision,\n",
    "    'event F1':experimentModels.eventF1\n",
    "})\n",
    "\n",
    "auxRecall=pd.DataFrame({\n",
    "    'metric':'event recall',\n",
    "    'value':experimentModels.eventRecall,\n",
    "    'event F1':experimentModels.eventF1\n",
    "})\n",
    "visualTradeoff=pd.concat((auxPrecision,auxRecall))"
   ]
  },
  {
   "cell_type": "code",
   "execution_count": 25,
   "metadata": {},
   "outputs": [
    {
     "data": {
      "application/vnd.plotly.v1+json": {
       "config": {
        "plotlyServerURL": "https://plot.ly"
       },
       "data": [
        {
         "hovertemplate": "metric=event precision<br>event F1=%{x}<br>value=%{y}<extra></extra>",
         "legendgroup": "event precision",
         "marker": {
          "color": "#636efa",
          "symbol": "circle"
         },
         "mode": "markers",
         "name": "event precision",
         "orientation": "v",
         "showlegend": true,
         "type": "scatter",
         "x": [
          0.7135084376261472,
          0.674704223481994,
          0.7108475372491854,
          0.6293403854303937,
          0.706120885689908
         ],
         "xaxis": "x",
         "y": [
          0.64459582796804,
          0.5666760999216846,
          0.690502401208442,
          0.6882440336682438,
          0.7326112911984421
         ],
         "yaxis": "y"
        },
        {
         "alignmentgroup": "True",
         "bingroup": "y",
         "hovertemplate": "metric=event precision<br>value=%{y}<br>count=%{x}<extra></extra>",
         "legendgroup": "event precision",
         "marker": {
          "color": "#636efa"
         },
         "name": "event precision",
         "offsetgroup": "event precision",
         "opacity": 0.5,
         "showlegend": false,
         "type": "histogram",
         "xaxis": "x2",
         "y": [
          0.64459582796804,
          0.5666760999216846,
          0.690502401208442,
          0.6882440336682438,
          0.7326112911984421
         ],
         "yaxis": "y2"
        },
        {
         "hovertemplate": "metric=event recall<br>event F1=%{x}<br>value=%{y}<extra></extra>",
         "legendgroup": "event recall",
         "marker": {
          "color": "#EF553B",
          "symbol": "circle"
         },
         "mode": "markers",
         "name": "event recall",
         "orientation": "v",
         "showlegend": true,
         "type": "scatter",
         "x": [
          0.7135084376261472,
          0.674704223481994,
          0.7108475372491854,
          0.6293403854303937,
          0.706120885689908
         ],
         "xaxis": "x",
         "y": [
          0.8166895529213062,
          0.8681987207493679,
          0.7704731607181338,
          0.7304108876978104,
          0.7230779924788884
         ],
         "yaxis": "y"
        },
        {
         "alignmentgroup": "True",
         "bingroup": "y",
         "hovertemplate": "metric=event recall<br>value=%{y}<br>count=%{x}<extra></extra>",
         "legendgroup": "event recall",
         "marker": {
          "color": "#EF553B"
         },
         "name": "event recall",
         "offsetgroup": "event recall",
         "opacity": 0.5,
         "showlegend": false,
         "type": "histogram",
         "xaxis": "x2",
         "y": [
          0.8166895529213062,
          0.8681987207493679,
          0.7704731607181338,
          0.7304108876978104,
          0.7230779924788884
         ],
         "yaxis": "y2"
        },
        {
         "fill": "toself",
         "mode": "lines",
         "name": "identity",
         "type": "scatter",
         "x": [
          0.7135084376261472,
          0.674704223481994,
          0.7108475372491854,
          0.6293403854303937,
          0.706120885689908
         ],
         "y": [
          0.7135084376261472,
          0.674704223481994,
          0.7108475372491854,
          0.6293403854303937,
          0.706120885689908
         ]
        }
       ],
       "layout": {
        "barmode": "overlay",
        "legend": {
         "title": {
          "text": "metric"
         },
         "tracegroupgap": 0
        },
        "margin": {
         "t": 60
        },
        "template": {
         "data": {
          "bar": [
           {
            "error_x": {
             "color": "#2a3f5f"
            },
            "error_y": {
             "color": "#2a3f5f"
            },
            "marker": {
             "line": {
              "color": "#E5ECF6",
              "width": 0.5
             },
             "pattern": {
              "fillmode": "overlay",
              "size": 10,
              "solidity": 0.2
             }
            },
            "type": "bar"
           }
          ],
          "barpolar": [
           {
            "marker": {
             "line": {
              "color": "#E5ECF6",
              "width": 0.5
             },
             "pattern": {
              "fillmode": "overlay",
              "size": 10,
              "solidity": 0.2
             }
            },
            "type": "barpolar"
           }
          ],
          "carpet": [
           {
            "aaxis": {
             "endlinecolor": "#2a3f5f",
             "gridcolor": "white",
             "linecolor": "white",
             "minorgridcolor": "white",
             "startlinecolor": "#2a3f5f"
            },
            "baxis": {
             "endlinecolor": "#2a3f5f",
             "gridcolor": "white",
             "linecolor": "white",
             "minorgridcolor": "white",
             "startlinecolor": "#2a3f5f"
            },
            "type": "carpet"
           }
          ],
          "choropleth": [
           {
            "colorbar": {
             "outlinewidth": 0,
             "ticks": ""
            },
            "type": "choropleth"
           }
          ],
          "contour": [
           {
            "colorbar": {
             "outlinewidth": 0,
             "ticks": ""
            },
            "colorscale": [
             [
              0,
              "#0d0887"
             ],
             [
              0.1111111111111111,
              "#46039f"
             ],
             [
              0.2222222222222222,
              "#7201a8"
             ],
             [
              0.3333333333333333,
              "#9c179e"
             ],
             [
              0.4444444444444444,
              "#bd3786"
             ],
             [
              0.5555555555555556,
              "#d8576b"
             ],
             [
              0.6666666666666666,
              "#ed7953"
             ],
             [
              0.7777777777777778,
              "#fb9f3a"
             ],
             [
              0.8888888888888888,
              "#fdca26"
             ],
             [
              1,
              "#f0f921"
             ]
            ],
            "type": "contour"
           }
          ],
          "contourcarpet": [
           {
            "colorbar": {
             "outlinewidth": 0,
             "ticks": ""
            },
            "type": "contourcarpet"
           }
          ],
          "heatmap": [
           {
            "colorbar": {
             "outlinewidth": 0,
             "ticks": ""
            },
            "colorscale": [
             [
              0,
              "#0d0887"
             ],
             [
              0.1111111111111111,
              "#46039f"
             ],
             [
              0.2222222222222222,
              "#7201a8"
             ],
             [
              0.3333333333333333,
              "#9c179e"
             ],
             [
              0.4444444444444444,
              "#bd3786"
             ],
             [
              0.5555555555555556,
              "#d8576b"
             ],
             [
              0.6666666666666666,
              "#ed7953"
             ],
             [
              0.7777777777777778,
              "#fb9f3a"
             ],
             [
              0.8888888888888888,
              "#fdca26"
             ],
             [
              1,
              "#f0f921"
             ]
            ],
            "type": "heatmap"
           }
          ],
          "heatmapgl": [
           {
            "colorbar": {
             "outlinewidth": 0,
             "ticks": ""
            },
            "colorscale": [
             [
              0,
              "#0d0887"
             ],
             [
              0.1111111111111111,
              "#46039f"
             ],
             [
              0.2222222222222222,
              "#7201a8"
             ],
             [
              0.3333333333333333,
              "#9c179e"
             ],
             [
              0.4444444444444444,
              "#bd3786"
             ],
             [
              0.5555555555555556,
              "#d8576b"
             ],
             [
              0.6666666666666666,
              "#ed7953"
             ],
             [
              0.7777777777777778,
              "#fb9f3a"
             ],
             [
              0.8888888888888888,
              "#fdca26"
             ],
             [
              1,
              "#f0f921"
             ]
            ],
            "type": "heatmapgl"
           }
          ],
          "histogram": [
           {
            "marker": {
             "pattern": {
              "fillmode": "overlay",
              "size": 10,
              "solidity": 0.2
             }
            },
            "type": "histogram"
           }
          ],
          "histogram2d": [
           {
            "colorbar": {
             "outlinewidth": 0,
             "ticks": ""
            },
            "colorscale": [
             [
              0,
              "#0d0887"
             ],
             [
              0.1111111111111111,
              "#46039f"
             ],
             [
              0.2222222222222222,
              "#7201a8"
             ],
             [
              0.3333333333333333,
              "#9c179e"
             ],
             [
              0.4444444444444444,
              "#bd3786"
             ],
             [
              0.5555555555555556,
              "#d8576b"
             ],
             [
              0.6666666666666666,
              "#ed7953"
             ],
             [
              0.7777777777777778,
              "#fb9f3a"
             ],
             [
              0.8888888888888888,
              "#fdca26"
             ],
             [
              1,
              "#f0f921"
             ]
            ],
            "type": "histogram2d"
           }
          ],
          "histogram2dcontour": [
           {
            "colorbar": {
             "outlinewidth": 0,
             "ticks": ""
            },
            "colorscale": [
             [
              0,
              "#0d0887"
             ],
             [
              0.1111111111111111,
              "#46039f"
             ],
             [
              0.2222222222222222,
              "#7201a8"
             ],
             [
              0.3333333333333333,
              "#9c179e"
             ],
             [
              0.4444444444444444,
              "#bd3786"
             ],
             [
              0.5555555555555556,
              "#d8576b"
             ],
             [
              0.6666666666666666,
              "#ed7953"
             ],
             [
              0.7777777777777778,
              "#fb9f3a"
             ],
             [
              0.8888888888888888,
              "#fdca26"
             ],
             [
              1,
              "#f0f921"
             ]
            ],
            "type": "histogram2dcontour"
           }
          ],
          "mesh3d": [
           {
            "colorbar": {
             "outlinewidth": 0,
             "ticks": ""
            },
            "type": "mesh3d"
           }
          ],
          "parcoords": [
           {
            "line": {
             "colorbar": {
              "outlinewidth": 0,
              "ticks": ""
             }
            },
            "type": "parcoords"
           }
          ],
          "pie": [
           {
            "automargin": true,
            "type": "pie"
           }
          ],
          "scatter": [
           {
            "fillpattern": {
             "fillmode": "overlay",
             "size": 10,
             "solidity": 0.2
            },
            "type": "scatter"
           }
          ],
          "scatter3d": [
           {
            "line": {
             "colorbar": {
              "outlinewidth": 0,
              "ticks": ""
             }
            },
            "marker": {
             "colorbar": {
              "outlinewidth": 0,
              "ticks": ""
             }
            },
            "type": "scatter3d"
           }
          ],
          "scattercarpet": [
           {
            "marker": {
             "colorbar": {
              "outlinewidth": 0,
              "ticks": ""
             }
            },
            "type": "scattercarpet"
           }
          ],
          "scattergeo": [
           {
            "marker": {
             "colorbar": {
              "outlinewidth": 0,
              "ticks": ""
             }
            },
            "type": "scattergeo"
           }
          ],
          "scattergl": [
           {
            "marker": {
             "colorbar": {
              "outlinewidth": 0,
              "ticks": ""
             }
            },
            "type": "scattergl"
           }
          ],
          "scattermapbox": [
           {
            "marker": {
             "colorbar": {
              "outlinewidth": 0,
              "ticks": ""
             }
            },
            "type": "scattermapbox"
           }
          ],
          "scatterpolar": [
           {
            "marker": {
             "colorbar": {
              "outlinewidth": 0,
              "ticks": ""
             }
            },
            "type": "scatterpolar"
           }
          ],
          "scatterpolargl": [
           {
            "marker": {
             "colorbar": {
              "outlinewidth": 0,
              "ticks": ""
             }
            },
            "type": "scatterpolargl"
           }
          ],
          "scatterternary": [
           {
            "marker": {
             "colorbar": {
              "outlinewidth": 0,
              "ticks": ""
             }
            },
            "type": "scatterternary"
           }
          ],
          "surface": [
           {
            "colorbar": {
             "outlinewidth": 0,
             "ticks": ""
            },
            "colorscale": [
             [
              0,
              "#0d0887"
             ],
             [
              0.1111111111111111,
              "#46039f"
             ],
             [
              0.2222222222222222,
              "#7201a8"
             ],
             [
              0.3333333333333333,
              "#9c179e"
             ],
             [
              0.4444444444444444,
              "#bd3786"
             ],
             [
              0.5555555555555556,
              "#d8576b"
             ],
             [
              0.6666666666666666,
              "#ed7953"
             ],
             [
              0.7777777777777778,
              "#fb9f3a"
             ],
             [
              0.8888888888888888,
              "#fdca26"
             ],
             [
              1,
              "#f0f921"
             ]
            ],
            "type": "surface"
           }
          ],
          "table": [
           {
            "cells": {
             "fill": {
              "color": "#EBF0F8"
             },
             "line": {
              "color": "white"
             }
            },
            "header": {
             "fill": {
              "color": "#C8D4E3"
             },
             "line": {
              "color": "white"
             }
            },
            "type": "table"
           }
          ]
         },
         "layout": {
          "annotationdefaults": {
           "arrowcolor": "#2a3f5f",
           "arrowhead": 0,
           "arrowwidth": 1
          },
          "autotypenumbers": "strict",
          "coloraxis": {
           "colorbar": {
            "outlinewidth": 0,
            "ticks": ""
           }
          },
          "colorscale": {
           "diverging": [
            [
             0,
             "#8e0152"
            ],
            [
             0.1,
             "#c51b7d"
            ],
            [
             0.2,
             "#de77ae"
            ],
            [
             0.3,
             "#f1b6da"
            ],
            [
             0.4,
             "#fde0ef"
            ],
            [
             0.5,
             "#f7f7f7"
            ],
            [
             0.6,
             "#e6f5d0"
            ],
            [
             0.7,
             "#b8e186"
            ],
            [
             0.8,
             "#7fbc41"
            ],
            [
             0.9,
             "#4d9221"
            ],
            [
             1,
             "#276419"
            ]
           ],
           "sequential": [
            [
             0,
             "#0d0887"
            ],
            [
             0.1111111111111111,
             "#46039f"
            ],
            [
             0.2222222222222222,
             "#7201a8"
            ],
            [
             0.3333333333333333,
             "#9c179e"
            ],
            [
             0.4444444444444444,
             "#bd3786"
            ],
            [
             0.5555555555555556,
             "#d8576b"
            ],
            [
             0.6666666666666666,
             "#ed7953"
            ],
            [
             0.7777777777777778,
             "#fb9f3a"
            ],
            [
             0.8888888888888888,
             "#fdca26"
            ],
            [
             1,
             "#f0f921"
            ]
           ],
           "sequentialminus": [
            [
             0,
             "#0d0887"
            ],
            [
             0.1111111111111111,
             "#46039f"
            ],
            [
             0.2222222222222222,
             "#7201a8"
            ],
            [
             0.3333333333333333,
             "#9c179e"
            ],
            [
             0.4444444444444444,
             "#bd3786"
            ],
            [
             0.5555555555555556,
             "#d8576b"
            ],
            [
             0.6666666666666666,
             "#ed7953"
            ],
            [
             0.7777777777777778,
             "#fb9f3a"
            ],
            [
             0.8888888888888888,
             "#fdca26"
            ],
            [
             1,
             "#f0f921"
            ]
           ]
          },
          "colorway": [
           "#636efa",
           "#EF553B",
           "#00cc96",
           "#ab63fa",
           "#FFA15A",
           "#19d3f3",
           "#FF6692",
           "#B6E880",
           "#FF97FF",
           "#FECB52"
          ],
          "font": {
           "color": "#2a3f5f"
          },
          "geo": {
           "bgcolor": "white",
           "lakecolor": "white",
           "landcolor": "#E5ECF6",
           "showlakes": true,
           "showland": true,
           "subunitcolor": "white"
          },
          "hoverlabel": {
           "align": "left"
          },
          "hovermode": "closest",
          "mapbox": {
           "style": "light"
          },
          "paper_bgcolor": "white",
          "plot_bgcolor": "#E5ECF6",
          "polar": {
           "angularaxis": {
            "gridcolor": "white",
            "linecolor": "white",
            "ticks": ""
           },
           "bgcolor": "#E5ECF6",
           "radialaxis": {
            "gridcolor": "white",
            "linecolor": "white",
            "ticks": ""
           }
          },
          "scene": {
           "xaxis": {
            "backgroundcolor": "#E5ECF6",
            "gridcolor": "white",
            "gridwidth": 2,
            "linecolor": "white",
            "showbackground": true,
            "ticks": "",
            "zerolinecolor": "white"
           },
           "yaxis": {
            "backgroundcolor": "#E5ECF6",
            "gridcolor": "white",
            "gridwidth": 2,
            "linecolor": "white",
            "showbackground": true,
            "ticks": "",
            "zerolinecolor": "white"
           },
           "zaxis": {
            "backgroundcolor": "#E5ECF6",
            "gridcolor": "white",
            "gridwidth": 2,
            "linecolor": "white",
            "showbackground": true,
            "ticks": "",
            "zerolinecolor": "white"
           }
          },
          "shapedefaults": {
           "line": {
            "color": "#2a3f5f"
           }
          },
          "ternary": {
           "aaxis": {
            "gridcolor": "white",
            "linecolor": "white",
            "ticks": ""
           },
           "baxis": {
            "gridcolor": "white",
            "linecolor": "white",
            "ticks": ""
           },
           "bgcolor": "#E5ECF6",
           "caxis": {
            "gridcolor": "white",
            "linecolor": "white",
            "ticks": ""
           }
          },
          "title": {
           "x": 0.05
          },
          "xaxis": {
           "automargin": true,
           "gridcolor": "white",
           "linecolor": "white",
           "ticks": "",
           "title": {
            "standoff": 15
           },
           "zerolinecolor": "white",
           "zerolinewidth": 2
          },
          "yaxis": {
           "automargin": true,
           "gridcolor": "white",
           "linecolor": "white",
           "ticks": "",
           "title": {
            "standoff": 15
           },
           "zerolinecolor": "white",
           "zerolinewidth": 2
          }
         }
        },
        "xaxis": {
         "anchor": "y",
         "domain": [
          0,
          0.7363
         ],
         "title": {
          "text": "event F1"
         }
        },
        "xaxis2": {
         "anchor": "y2",
         "domain": [
          0.7413,
          1
         ],
         "matches": "x2",
         "showgrid": true,
         "showline": false,
         "showticklabels": false,
         "ticks": ""
        },
        "yaxis": {
         "anchor": "x",
         "domain": [
          0,
          1
         ],
         "title": {
          "text": "value"
         }
        },
        "yaxis2": {
         "anchor": "x2",
         "domain": [
          0,
          1
         ],
         "matches": "y",
         "showgrid": true,
         "showticklabels": false
        }
       }
      }
     },
     "metadata": {},
     "output_type": "display_data"
    }
   ],
   "source": [
    "fig=px.scatter(visualTradeoff,x='event F1',y='value',color='metric', marginal_y=\"histogram\")\n",
    "fig.add_trace(\n",
    "    go.Scatter(x=experimentModels['eventF1'], y=experimentModels['eventF1'], name=\"identity\", mode='lines',fill=\"toself\")\n",
    ")\n",
    "fig.show()"
   ]
  },
  {
   "attachments": {},
   "cell_type": "markdown",
   "metadata": {},
   "source": [
    "## Restrict to only N2 stage"
   ]
  },
  {
   "cell_type": "code",
   "execution_count": 26,
   "metadata": {},
   "outputs": [
    {
     "data": {
      "text/html": [
       "<div>\n",
       "<style scoped>\n",
       "    .dataframe tbody tr th:only-of-type {\n",
       "        vertical-align: middle;\n",
       "    }\n",
       "\n",
       "    .dataframe tbody tr th {\n",
       "        vertical-align: top;\n",
       "    }\n",
       "\n",
       "    .dataframe thead th {\n",
       "        text-align: right;\n",
       "    }\n",
       "</style>\n",
       "<table border=\"1\" class=\"dataframe\">\n",
       "  <thead>\n",
       "    <tr style=\"text-align: right;\">\n",
       "      <th></th>\n",
       "      <th>criteriumId</th>\n",
       "      <th>criteriumName</th>\n",
       "      <th>labelerIdList</th>\n",
       "      <th>train</th>\n",
       "      <th>val</th>\n",
       "      <th>test</th>\n",
       "      <th>modelId</th>\n",
       "      <th>spindleTimeRate</th>\n",
       "      <th>f1</th>\n",
       "      <th>precision</th>\n",
       "      <th>recall</th>\n",
       "      <th>eventF1</th>\n",
       "      <th>eventPrecision</th>\n",
       "      <th>eventRecall</th>\n",
       "    </tr>\n",
       "  </thead>\n",
       "  <tbody>\n",
       "    <tr>\n",
       "      <th>0</th>\n",
       "      <td>0001</td>\n",
       "      <td>E1</td>\n",
       "      <td>[0001]</td>\n",
       "      <td>[0001, 0005, 0006, 0009, 0010, 0011, 0012, 001...</td>\n",
       "      <td>[0018, 0017, 0007]</td>\n",
       "      <td>[0013, 0002, 0003]</td>\n",
       "      <td>5c1fbad9-f02b-46f7-8e51-59ddaf0cf4eb</td>\n",
       "      <td>0.017868</td>\n",
       "      <td>0.667482</td>\n",
       "      <td>0.628758</td>\n",
       "      <td>0.728434</td>\n",
       "      <td>0.713508</td>\n",
       "      <td>0.644596</td>\n",
       "      <td>0.816690</td>\n",
       "    </tr>\n",
       "    <tr>\n",
       "      <th>1</th>\n",
       "      <td>0001</td>\n",
       "      <td>E1</td>\n",
       "      <td>[0001]</td>\n",
       "      <td>[0002, 0003, 0006, 0007, 0009, 0013, 0017, 001...</td>\n",
       "      <td>[0011, 0001, 0010]</td>\n",
       "      <td>[0005, 0014, 0012]</td>\n",
       "      <td>f3f5e58f-0068-4046-b0a7-a62694b1fc26</td>\n",
       "      <td>0.017785</td>\n",
       "      <td>0.618007</td>\n",
       "      <td>0.527793</td>\n",
       "      <td>0.792828</td>\n",
       "      <td>0.674704</td>\n",
       "      <td>0.566676</td>\n",
       "      <td>0.868199</td>\n",
       "    </tr>\n",
       "    <tr>\n",
       "      <th>2</th>\n",
       "      <td>0001</td>\n",
       "      <td>E1</td>\n",
       "      <td>[0001]</td>\n",
       "      <td>[0003, 0005, 0007, 0009, 0010, 0012, 0013, 001...</td>\n",
       "      <td>[0001, 0002, 0019]</td>\n",
       "      <td>[0011, 0006, 0018]</td>\n",
       "      <td>919e22eb-bc1e-4601-a070-09b25fe7b52f</td>\n",
       "      <td>0.017121</td>\n",
       "      <td>0.647533</td>\n",
       "      <td>0.674013</td>\n",
       "      <td>0.657270</td>\n",
       "      <td>0.710848</td>\n",
       "      <td>0.690502</td>\n",
       "      <td>0.770473</td>\n",
       "    </tr>\n",
       "    <tr>\n",
       "      <th>3</th>\n",
       "      <td>0001</td>\n",
       "      <td>E1</td>\n",
       "      <td>[0001]</td>\n",
       "      <td>[0002, 0003, 0005, 0006, 0007, 0012, 0013, 001...</td>\n",
       "      <td>[0009, 0011, 0017]</td>\n",
       "      <td>[0019, 0001, 0010]</td>\n",
       "      <td>c2e2175e-cc0c-4536-86b5-c7a6ef28b104</td>\n",
       "      <td>0.017512</td>\n",
       "      <td>0.580825</td>\n",
       "      <td>0.674347</td>\n",
       "      <td>0.650820</td>\n",
       "      <td>0.629340</td>\n",
       "      <td>0.688244</td>\n",
       "      <td>0.730411</td>\n",
       "    </tr>\n",
       "    <tr>\n",
       "      <th>4</th>\n",
       "      <td>0001</td>\n",
       "      <td>E1</td>\n",
       "      <td>[0001]</td>\n",
       "      <td>[0001, 0003, 0005, 0006, 0010, 0011, 0013, 001...</td>\n",
       "      <td>[0014, 0012, 0002]</td>\n",
       "      <td>[0009, 0017, 0007]</td>\n",
       "      <td>0f1d8cd5-f3dc-4419-a46b-69852cdbdadf</td>\n",
       "      <td>0.016249</td>\n",
       "      <td>0.631782</td>\n",
       "      <td>0.703761</td>\n",
       "      <td>0.617388</td>\n",
       "      <td>0.706121</td>\n",
       "      <td>0.732611</td>\n",
       "      <td>0.723078</td>\n",
       "    </tr>\n",
       "  </tbody>\n",
       "</table>\n",
       "</div>"
      ],
      "text/plain": [
       "  criteriumId criteriumName labelerIdList  \\\n",
       "0        0001            E1        [0001]   \n",
       "1        0001            E1        [0001]   \n",
       "2        0001            E1        [0001]   \n",
       "3        0001            E1        [0001]   \n",
       "4        0001            E1        [0001]   \n",
       "\n",
       "                                               train                 val  \\\n",
       "0  [0001, 0005, 0006, 0009, 0010, 0011, 0012, 001...  [0018, 0017, 0007]   \n",
       "1  [0002, 0003, 0006, 0007, 0009, 0013, 0017, 001...  [0011, 0001, 0010]   \n",
       "2  [0003, 0005, 0007, 0009, 0010, 0012, 0013, 001...  [0001, 0002, 0019]   \n",
       "3  [0002, 0003, 0005, 0006, 0007, 0012, 0013, 001...  [0009, 0011, 0017]   \n",
       "4  [0001, 0003, 0005, 0006, 0010, 0011, 0013, 001...  [0014, 0012, 0002]   \n",
       "\n",
       "                 test                               modelId  spindleTimeRate  \\\n",
       "0  [0013, 0002, 0003]  5c1fbad9-f02b-46f7-8e51-59ddaf0cf4eb         0.017868   \n",
       "1  [0005, 0014, 0012]  f3f5e58f-0068-4046-b0a7-a62694b1fc26         0.017785   \n",
       "2  [0011, 0006, 0018]  919e22eb-bc1e-4601-a070-09b25fe7b52f         0.017121   \n",
       "3  [0019, 0001, 0010]  c2e2175e-cc0c-4536-86b5-c7a6ef28b104         0.017512   \n",
       "4  [0009, 0017, 0007]  0f1d8cd5-f3dc-4419-a46b-69852cdbdadf         0.016249   \n",
       "\n",
       "         f1  precision    recall   eventF1  eventPrecision  eventRecall  \n",
       "0  0.667482   0.628758  0.728434  0.713508        0.644596     0.816690  \n",
       "1  0.618007   0.527793  0.792828  0.674704        0.566676     0.868199  \n",
       "2  0.647533   0.674013  0.657270  0.710848        0.690502     0.770473  \n",
       "3  0.580825   0.674347  0.650820  0.629340        0.688244     0.730411  \n",
       "4  0.631782   0.703761  0.617388  0.706121        0.732611     0.723078  "
      ]
     },
     "execution_count": 26,
     "metadata": {},
     "output_type": "execute_result"
    }
   ],
   "source": [
    "experimentModels_N2=experimentModels.copy()\n",
    "experimentModels_N2.head()"
   ]
  },
  {
   "cell_type": "code",
   "execution_count": 27,
   "metadata": {},
   "outputs": [],
   "source": [
    "annotationsN2=pd.read_csv(datapath+'/MASS/annotations/spindlesFilteredN2.csv')\n",
    "annotationsN2['samplerate']=samplerate\n",
    "annotationsN2['subjectId']=annotationsN2.apply(\n",
    "    lambda row: str(row.subjectId).zfill(4),axis=1)\n",
    "annotationsN2['labelerId']=annotationsN2.apply(\n",
    "    lambda row: str(row.labelerId).zfill(4),axis=1)\n",
    "annotationsN2['stopTime']=annotationsN2.apply(\n",
    "    lambda row: row.startTime+row.duration , axis=1)\n",
    "annotationsN2['startInd']=annotationsN2.apply(\n",
    "    lambda row: seconds2index(row.startTime,row.samplerate) , axis=1)\n",
    "annotationsN2['stopInd']=annotationsN2.apply(\n",
    "    lambda row: seconds2index(row.stopTime,row.samplerate) , axis=1)"
   ]
  },
  {
   "cell_type": "code",
   "execution_count": 28,
   "metadata": {},
   "outputs": [],
   "source": [
    "## load hypnograms\n",
    "stagesAnnotations=pd.read_csv(datapath+\"\\MASS\\stages\\stages.csv\")\n",
    "stagesAnnotations['samplerate']=samplerate\n",
    "stagesAnnotations['subjectId']=stagesAnnotations.apply(\n",
    "    lambda row: str(row.subjectId).zfill(4),axis=1)\n",
    "stagesAnnotations['stopTime']=stagesAnnotations.apply(\n",
    "    lambda row: row.startTime+row.duration , axis=1)\n",
    "stagesAnnotations['startInd']=stagesAnnotations.apply(\n",
    "    lambda row: seconds2index(row.startTime,row.samplerate) , axis=1)\n",
    "stagesAnnotations['stopInd']=stagesAnnotations.apply(\n",
    "    lambda row: seconds2index(row.stopTime,row.samplerate) , axis=1)\n",
    "stagesAnnotations.head(5)\n",
    "\n",
    "hypnograms={}\n",
    "for ind, row in signalsMetadata.iterrows():\n",
    "    subjectId=row.subjectId\n",
    "    thisStages=stagesAnnotations[stagesAnnotations.subjectId==subjectId]\n",
    "    excerptDimension=int(row.duration*row.samplerate)\n",
    "    thisHypnogram=np.ones((excerptDimension,))*np.nan\n",
    "    for ind_stg, row_stg in thisStages.iterrows():\n",
    "        thisHypnogram[row_stg.startInd:row_stg.stopInd]=row_stg.value\n",
    "    hypnograms[subjectId]=thisHypnogram   "
   ]
  },
  {
   "cell_type": "code",
   "execution_count": 29,
   "metadata": {},
   "outputs": [
    {
     "name": "stdout",
     "output_type": "stream",
     "text": [
      "*************************\n",
      "1 of 5\n",
      "*************************\n",
      "2 of 5\n",
      "*************************\n",
      "3 of 5\n",
      "*************************\n",
      "4 of 5\n",
      "*************************\n",
      "5 of 5\n"
     ]
    }
   ],
   "source": [
    "f1s=[]\n",
    "precisions=[]\n",
    "recalls=[]\n",
    "\n",
    "eventF1s=[]\n",
    "eventPrecisions=[]\n",
    "eventRecalls=[]\n",
    "\n",
    "for ind,row in experimentModels_N2.iterrows():\n",
    "    print('*************************')\n",
    "    print(str(ind+1)+' of '+str(len(experimentModels_N2)) )\n",
    "    #load model\n",
    "    model=loadBooster(row.modelId,experimentId,datapath)\n",
    "\n",
    "    #Define annotations criterium\n",
    "    usedAnnotations=annotations[annotations.labelerId.isin(row.labelerIdList)].reset_index(drop=True)\n",
    "\n",
    "    thisF1s=[]\n",
    "    thisPs=[]\n",
    "    thisRs=[]\n",
    "\n",
    "    thisEF1s=[]\n",
    "    thisEPs=[]\n",
    "    thisERs=[]\n",
    "    \n",
    "    for testSubjectId in row.test:\n",
    "        testHypnogram=hypnograms[testSubjectId]\n",
    "        testN2Mask=testHypnogram==2\n",
    "\n",
    "        #Load features and labels\n",
    "        testFeatures=loadFeatureMatrix([testSubjectId],featureSelection,signalsMetadata,samplerate,datapath)\n",
    "        testLabels=loadLabelsVector([testSubjectId],usedAnnotations,signalsMetadata,samplerate)\n",
    "\n",
    "        #Predict\n",
    "        testDMatrix=xgb.DMatrix(data=testFeatures)\n",
    "        probabilities=model.predict(testDMatrix,iteration_range=(0,hyperDepth))\n",
    "        rawLabels=probabilities>=hyperThres\n",
    "\n",
    "        #Apply mask ---------------------------------->\n",
    "        rawLabels=rawLabels*testN2Mask\n",
    "        #<---------------------------------------------\n",
    "       \n",
    "        #Process\n",
    "        processedLabels=labelingProcess(rawLabels,hyperClose,hyperDuration,samplerate)\n",
    "        #Processed metrics\n",
    "        tp=np.sum(processedLabels*testLabels)\n",
    "        fp=np.sum(processedLabels*(1-testLabels))\n",
    "        tn=np.sum((1-processedLabels)*(1-testLabels))\n",
    "        fn=np.sum((1-processedLabels)*testLabels)\n",
    "        #Processed appends\n",
    "        thisF1s.append(2*tp/(2*tp+fp+fn))\n",
    "        thisPs.append(tp/(tp+fp))\n",
    "        thisRs.append(tp/(tp+fn))\n",
    "\n",
    "        #By-event metrics\n",
    "        processedAnnotations=labelVectorToAnnotations(processedLabels,samplerate)\n",
    "        processedAnnotations=processedAnnotations[processedAnnotations.duration<maxDuration]\n",
    "        gtAnnotations=labelVectorToAnnotations(testLabels,samplerate)   #<- or just filter the annotations\n",
    "        f,r,p=annotationPairToMetrics(gtAnnotations,processedAnnotations)\n",
    "    \n",
    "        #calculate metrics\n",
    "        thisEF1s.append(f)\n",
    "        thisEPs.append(p)\n",
    "        thisERs.append(r)\n",
    "    \n",
    "    f1s.append(np.mean(thisF1s))\n",
    "    precisions.append(np.mean(thisPs))\n",
    "    recalls.append(np.mean(thisRs))\n",
    "\n",
    "    eventF1s.append(np.mean(thisEF1s))\n",
    "    eventPrecisions.append(np.mean(thisEPs))\n",
    "    eventRecalls.append(np.mean(thisERs))\n",
    "    \n",
    "#include metrics in the dataframe\n",
    "experimentModels_N2['f1']=f1s\n",
    "experimentModels_N2['precision']=precisions\n",
    "experimentModels_N2['recall']=recalls\n",
    "\n",
    "experimentModels_N2['eventF1']=eventF1s\n",
    "experimentModels_N2['eventPrecision']=eventPrecisions\n",
    "experimentModels_N2['eventRecall']=eventRecalls\n"
   ]
  },
  {
   "cell_type": "code",
   "execution_count": 31,
   "metadata": {},
   "outputs": [],
   "source": [
    "dumpPickle('experimentModelsTest_N2_E1_temp.pkl',experimentModels_N2)"
   ]
  },
  {
   "cell_type": "code",
   "execution_count": 35,
   "metadata": {},
   "outputs": [
    {
     "data": {
      "application/vnd.plotly.v1+json": {
       "config": {
        "plotlyServerURL": "https://plot.ly"
       },
       "data": [
        {
         "hovertemplate": "<b>%{hovertext}</b><br><br>modelId=5c1fbad9-f02b-46f7-8e51-59ddaf0cf4eb<br>eventF1=%{x}<br>eventPrecision=%{y}<extra></extra>",
         "hovertext": [
          "5c1fbad9-f02b-46f7-8e51-59ddaf0cf4eb"
         ],
         "legendgroup": "5c1fbad9-f02b-46f7-8e51-59ddaf0cf4eb",
         "marker": {
          "color": "#636efa",
          "symbol": "circle"
         },
         "mode": "markers",
         "name": "5c1fbad9-f02b-46f7-8e51-59ddaf0cf4eb",
         "orientation": "v",
         "showlegend": true,
         "type": "scatter",
         "x": [
          0.7483738391098695
         ],
         "xaxis": "x",
         "y": [
          0.7017074658275192
         ],
         "yaxis": "y"
        },
        {
         "alignmentgroup": "True",
         "bingroup": "y",
         "hovertemplate": "modelId=5c1fbad9-f02b-46f7-8e51-59ddaf0cf4eb<br>eventPrecision=%{y}<br>count=%{x}<extra></extra>",
         "legendgroup": "5c1fbad9-f02b-46f7-8e51-59ddaf0cf4eb",
         "marker": {
          "color": "#636efa"
         },
         "name": "5c1fbad9-f02b-46f7-8e51-59ddaf0cf4eb",
         "offsetgroup": "5c1fbad9-f02b-46f7-8e51-59ddaf0cf4eb",
         "opacity": 0.5,
         "showlegend": false,
         "type": "histogram",
         "xaxis": "x2",
         "y": [
          0.7017074658275192
         ],
         "yaxis": "y2"
        },
        {
         "hovertemplate": "<b>%{hovertext}</b><br><br>modelId=f3f5e58f-0068-4046-b0a7-a62694b1fc26<br>eventF1=%{x}<br>eventPrecision=%{y}<extra></extra>",
         "hovertext": [
          "f3f5e58f-0068-4046-b0a7-a62694b1fc26"
         ],
         "legendgroup": "f3f5e58f-0068-4046-b0a7-a62694b1fc26",
         "marker": {
          "color": "#EF553B",
          "symbol": "circle"
         },
         "mode": "markers",
         "name": "f3f5e58f-0068-4046-b0a7-a62694b1fc26",
         "orientation": "v",
         "showlegend": true,
         "type": "scatter",
         "x": [
          0.7069859158535629
         ],
         "xaxis": "x",
         "y": [
          0.6202477823270979
         ],
         "yaxis": "y"
        },
        {
         "alignmentgroup": "True",
         "bingroup": "y",
         "hovertemplate": "modelId=f3f5e58f-0068-4046-b0a7-a62694b1fc26<br>eventPrecision=%{y}<br>count=%{x}<extra></extra>",
         "legendgroup": "f3f5e58f-0068-4046-b0a7-a62694b1fc26",
         "marker": {
          "color": "#EF553B"
         },
         "name": "f3f5e58f-0068-4046-b0a7-a62694b1fc26",
         "offsetgroup": "f3f5e58f-0068-4046-b0a7-a62694b1fc26",
         "opacity": 0.5,
         "showlegend": false,
         "type": "histogram",
         "xaxis": "x2",
         "y": [
          0.6202477823270979
         ],
         "yaxis": "y2"
        },
        {
         "hovertemplate": "<b>%{hovertext}</b><br><br>modelId=919e22eb-bc1e-4601-a070-09b25fe7b52f<br>eventF1=%{x}<br>eventPrecision=%{y}<extra></extra>",
         "hovertext": [
          "919e22eb-bc1e-4601-a070-09b25fe7b52f"
         ],
         "legendgroup": "919e22eb-bc1e-4601-a070-09b25fe7b52f",
         "marker": {
          "color": "#00cc96",
          "symbol": "circle"
         },
         "mode": "markers",
         "name": "919e22eb-bc1e-4601-a070-09b25fe7b52f",
         "orientation": "v",
         "showlegend": true,
         "type": "scatter",
         "x": [
          0.7350980837145599
         ],
         "xaxis": "x",
         "y": [
          0.7361583725688857
         ],
         "yaxis": "y"
        },
        {
         "alignmentgroup": "True",
         "bingroup": "y",
         "hovertemplate": "modelId=919e22eb-bc1e-4601-a070-09b25fe7b52f<br>eventPrecision=%{y}<br>count=%{x}<extra></extra>",
         "legendgroup": "919e22eb-bc1e-4601-a070-09b25fe7b52f",
         "marker": {
          "color": "#00cc96"
         },
         "name": "919e22eb-bc1e-4601-a070-09b25fe7b52f",
         "offsetgroup": "919e22eb-bc1e-4601-a070-09b25fe7b52f",
         "opacity": 0.5,
         "showlegend": false,
         "type": "histogram",
         "xaxis": "x2",
         "y": [
          0.7361583725688857
         ],
         "yaxis": "y2"
        },
        {
         "hovertemplate": "<b>%{hovertext}</b><br><br>modelId=c2e2175e-cc0c-4536-86b5-c7a6ef28b104<br>eventF1=%{x}<br>eventPrecision=%{y}<extra></extra>",
         "hovertext": [
          "c2e2175e-cc0c-4536-86b5-c7a6ef28b104"
         ],
         "legendgroup": "c2e2175e-cc0c-4536-86b5-c7a6ef28b104",
         "marker": {
          "color": "#ab63fa",
          "symbol": "circle"
         },
         "mode": "markers",
         "name": "c2e2175e-cc0c-4536-86b5-c7a6ef28b104",
         "orientation": "v",
         "showlegend": true,
         "type": "scatter",
         "x": [
          0.6543185214459583
         ],
         "xaxis": "x",
         "y": [
          0.7384438135284922
         ],
         "yaxis": "y"
        },
        {
         "alignmentgroup": "True",
         "bingroup": "y",
         "hovertemplate": "modelId=c2e2175e-cc0c-4536-86b5-c7a6ef28b104<br>eventPrecision=%{y}<br>count=%{x}<extra></extra>",
         "legendgroup": "c2e2175e-cc0c-4536-86b5-c7a6ef28b104",
         "marker": {
          "color": "#ab63fa"
         },
         "name": "c2e2175e-cc0c-4536-86b5-c7a6ef28b104",
         "offsetgroup": "c2e2175e-cc0c-4536-86b5-c7a6ef28b104",
         "opacity": 0.5,
         "showlegend": false,
         "type": "histogram",
         "xaxis": "x2",
         "y": [
          0.7384438135284922
         ],
         "yaxis": "y2"
        },
        {
         "hovertemplate": "<b>%{hovertext}</b><br><br>modelId=0f1d8cd5-f3dc-4419-a46b-69852cdbdadf<br>eventF1=%{x}<br>eventPrecision=%{y}<extra></extra>",
         "hovertext": [
          "0f1d8cd5-f3dc-4419-a46b-69852cdbdadf"
         ],
         "legendgroup": "0f1d8cd5-f3dc-4419-a46b-69852cdbdadf",
         "marker": {
          "color": "#FFA15A",
          "symbol": "circle"
         },
         "mode": "markers",
         "name": "0f1d8cd5-f3dc-4419-a46b-69852cdbdadf",
         "orientation": "v",
         "showlegend": true,
         "type": "scatter",
         "x": [
          0.7424299839901
         ],
         "xaxis": "x",
         "y": [
          0.792676359990882
         ],
         "yaxis": "y"
        },
        {
         "alignmentgroup": "True",
         "bingroup": "y",
         "hovertemplate": "modelId=0f1d8cd5-f3dc-4419-a46b-69852cdbdadf<br>eventPrecision=%{y}<br>count=%{x}<extra></extra>",
         "legendgroup": "0f1d8cd5-f3dc-4419-a46b-69852cdbdadf",
         "marker": {
          "color": "#FFA15A"
         },
         "name": "0f1d8cd5-f3dc-4419-a46b-69852cdbdadf",
         "offsetgroup": "0f1d8cd5-f3dc-4419-a46b-69852cdbdadf",
         "opacity": 0.5,
         "showlegend": false,
         "type": "histogram",
         "xaxis": "x2",
         "y": [
          0.792676359990882
         ],
         "yaxis": "y2"
        },
        {
         "fill": "toself",
         "mode": "lines",
         "name": "identity",
         "type": "scatter",
         "x": [
          0.7483738391098695,
          0.7069859158535629,
          0.7350980837145599,
          0.6543185214459583,
          0.7424299839901
         ],
         "y": [
          0.7483738391098695,
          0.7069859158535629,
          0.7350980837145599,
          0.6543185214459583,
          0.7424299839901
         ]
        }
       ],
       "layout": {
        "barmode": "overlay",
        "legend": {
         "title": {
          "text": "modelId"
         },
         "tracegroupgap": 0
        },
        "margin": {
         "t": 60
        },
        "template": {
         "data": {
          "bar": [
           {
            "error_x": {
             "color": "#2a3f5f"
            },
            "error_y": {
             "color": "#2a3f5f"
            },
            "marker": {
             "line": {
              "color": "#E5ECF6",
              "width": 0.5
             },
             "pattern": {
              "fillmode": "overlay",
              "size": 10,
              "solidity": 0.2
             }
            },
            "type": "bar"
           }
          ],
          "barpolar": [
           {
            "marker": {
             "line": {
              "color": "#E5ECF6",
              "width": 0.5
             },
             "pattern": {
              "fillmode": "overlay",
              "size": 10,
              "solidity": 0.2
             }
            },
            "type": "barpolar"
           }
          ],
          "carpet": [
           {
            "aaxis": {
             "endlinecolor": "#2a3f5f",
             "gridcolor": "white",
             "linecolor": "white",
             "minorgridcolor": "white",
             "startlinecolor": "#2a3f5f"
            },
            "baxis": {
             "endlinecolor": "#2a3f5f",
             "gridcolor": "white",
             "linecolor": "white",
             "minorgridcolor": "white",
             "startlinecolor": "#2a3f5f"
            },
            "type": "carpet"
           }
          ],
          "choropleth": [
           {
            "colorbar": {
             "outlinewidth": 0,
             "ticks": ""
            },
            "type": "choropleth"
           }
          ],
          "contour": [
           {
            "colorbar": {
             "outlinewidth": 0,
             "ticks": ""
            },
            "colorscale": [
             [
              0,
              "#0d0887"
             ],
             [
              0.1111111111111111,
              "#46039f"
             ],
             [
              0.2222222222222222,
              "#7201a8"
             ],
             [
              0.3333333333333333,
              "#9c179e"
             ],
             [
              0.4444444444444444,
              "#bd3786"
             ],
             [
              0.5555555555555556,
              "#d8576b"
             ],
             [
              0.6666666666666666,
              "#ed7953"
             ],
             [
              0.7777777777777778,
              "#fb9f3a"
             ],
             [
              0.8888888888888888,
              "#fdca26"
             ],
             [
              1,
              "#f0f921"
             ]
            ],
            "type": "contour"
           }
          ],
          "contourcarpet": [
           {
            "colorbar": {
             "outlinewidth": 0,
             "ticks": ""
            },
            "type": "contourcarpet"
           }
          ],
          "heatmap": [
           {
            "colorbar": {
             "outlinewidth": 0,
             "ticks": ""
            },
            "colorscale": [
             [
              0,
              "#0d0887"
             ],
             [
              0.1111111111111111,
              "#46039f"
             ],
             [
              0.2222222222222222,
              "#7201a8"
             ],
             [
              0.3333333333333333,
              "#9c179e"
             ],
             [
              0.4444444444444444,
              "#bd3786"
             ],
             [
              0.5555555555555556,
              "#d8576b"
             ],
             [
              0.6666666666666666,
              "#ed7953"
             ],
             [
              0.7777777777777778,
              "#fb9f3a"
             ],
             [
              0.8888888888888888,
              "#fdca26"
             ],
             [
              1,
              "#f0f921"
             ]
            ],
            "type": "heatmap"
           }
          ],
          "heatmapgl": [
           {
            "colorbar": {
             "outlinewidth": 0,
             "ticks": ""
            },
            "colorscale": [
             [
              0,
              "#0d0887"
             ],
             [
              0.1111111111111111,
              "#46039f"
             ],
             [
              0.2222222222222222,
              "#7201a8"
             ],
             [
              0.3333333333333333,
              "#9c179e"
             ],
             [
              0.4444444444444444,
              "#bd3786"
             ],
             [
              0.5555555555555556,
              "#d8576b"
             ],
             [
              0.6666666666666666,
              "#ed7953"
             ],
             [
              0.7777777777777778,
              "#fb9f3a"
             ],
             [
              0.8888888888888888,
              "#fdca26"
             ],
             [
              1,
              "#f0f921"
             ]
            ],
            "type": "heatmapgl"
           }
          ],
          "histogram": [
           {
            "marker": {
             "pattern": {
              "fillmode": "overlay",
              "size": 10,
              "solidity": 0.2
             }
            },
            "type": "histogram"
           }
          ],
          "histogram2d": [
           {
            "colorbar": {
             "outlinewidth": 0,
             "ticks": ""
            },
            "colorscale": [
             [
              0,
              "#0d0887"
             ],
             [
              0.1111111111111111,
              "#46039f"
             ],
             [
              0.2222222222222222,
              "#7201a8"
             ],
             [
              0.3333333333333333,
              "#9c179e"
             ],
             [
              0.4444444444444444,
              "#bd3786"
             ],
             [
              0.5555555555555556,
              "#d8576b"
             ],
             [
              0.6666666666666666,
              "#ed7953"
             ],
             [
              0.7777777777777778,
              "#fb9f3a"
             ],
             [
              0.8888888888888888,
              "#fdca26"
             ],
             [
              1,
              "#f0f921"
             ]
            ],
            "type": "histogram2d"
           }
          ],
          "histogram2dcontour": [
           {
            "colorbar": {
             "outlinewidth": 0,
             "ticks": ""
            },
            "colorscale": [
             [
              0,
              "#0d0887"
             ],
             [
              0.1111111111111111,
              "#46039f"
             ],
             [
              0.2222222222222222,
              "#7201a8"
             ],
             [
              0.3333333333333333,
              "#9c179e"
             ],
             [
              0.4444444444444444,
              "#bd3786"
             ],
             [
              0.5555555555555556,
              "#d8576b"
             ],
             [
              0.6666666666666666,
              "#ed7953"
             ],
             [
              0.7777777777777778,
              "#fb9f3a"
             ],
             [
              0.8888888888888888,
              "#fdca26"
             ],
             [
              1,
              "#f0f921"
             ]
            ],
            "type": "histogram2dcontour"
           }
          ],
          "mesh3d": [
           {
            "colorbar": {
             "outlinewidth": 0,
             "ticks": ""
            },
            "type": "mesh3d"
           }
          ],
          "parcoords": [
           {
            "line": {
             "colorbar": {
              "outlinewidth": 0,
              "ticks": ""
             }
            },
            "type": "parcoords"
           }
          ],
          "pie": [
           {
            "automargin": true,
            "type": "pie"
           }
          ],
          "scatter": [
           {
            "fillpattern": {
             "fillmode": "overlay",
             "size": 10,
             "solidity": 0.2
            },
            "type": "scatter"
           }
          ],
          "scatter3d": [
           {
            "line": {
             "colorbar": {
              "outlinewidth": 0,
              "ticks": ""
             }
            },
            "marker": {
             "colorbar": {
              "outlinewidth": 0,
              "ticks": ""
             }
            },
            "type": "scatter3d"
           }
          ],
          "scattercarpet": [
           {
            "marker": {
             "colorbar": {
              "outlinewidth": 0,
              "ticks": ""
             }
            },
            "type": "scattercarpet"
           }
          ],
          "scattergeo": [
           {
            "marker": {
             "colorbar": {
              "outlinewidth": 0,
              "ticks": ""
             }
            },
            "type": "scattergeo"
           }
          ],
          "scattergl": [
           {
            "marker": {
             "colorbar": {
              "outlinewidth": 0,
              "ticks": ""
             }
            },
            "type": "scattergl"
           }
          ],
          "scattermapbox": [
           {
            "marker": {
             "colorbar": {
              "outlinewidth": 0,
              "ticks": ""
             }
            },
            "type": "scattermapbox"
           }
          ],
          "scatterpolar": [
           {
            "marker": {
             "colorbar": {
              "outlinewidth": 0,
              "ticks": ""
             }
            },
            "type": "scatterpolar"
           }
          ],
          "scatterpolargl": [
           {
            "marker": {
             "colorbar": {
              "outlinewidth": 0,
              "ticks": ""
             }
            },
            "type": "scatterpolargl"
           }
          ],
          "scatterternary": [
           {
            "marker": {
             "colorbar": {
              "outlinewidth": 0,
              "ticks": ""
             }
            },
            "type": "scatterternary"
           }
          ],
          "surface": [
           {
            "colorbar": {
             "outlinewidth": 0,
             "ticks": ""
            },
            "colorscale": [
             [
              0,
              "#0d0887"
             ],
             [
              0.1111111111111111,
              "#46039f"
             ],
             [
              0.2222222222222222,
              "#7201a8"
             ],
             [
              0.3333333333333333,
              "#9c179e"
             ],
             [
              0.4444444444444444,
              "#bd3786"
             ],
             [
              0.5555555555555556,
              "#d8576b"
             ],
             [
              0.6666666666666666,
              "#ed7953"
             ],
             [
              0.7777777777777778,
              "#fb9f3a"
             ],
             [
              0.8888888888888888,
              "#fdca26"
             ],
             [
              1,
              "#f0f921"
             ]
            ],
            "type": "surface"
           }
          ],
          "table": [
           {
            "cells": {
             "fill": {
              "color": "#EBF0F8"
             },
             "line": {
              "color": "white"
             }
            },
            "header": {
             "fill": {
              "color": "#C8D4E3"
             },
             "line": {
              "color": "white"
             }
            },
            "type": "table"
           }
          ]
         },
         "layout": {
          "annotationdefaults": {
           "arrowcolor": "#2a3f5f",
           "arrowhead": 0,
           "arrowwidth": 1
          },
          "autotypenumbers": "strict",
          "coloraxis": {
           "colorbar": {
            "outlinewidth": 0,
            "ticks": ""
           }
          },
          "colorscale": {
           "diverging": [
            [
             0,
             "#8e0152"
            ],
            [
             0.1,
             "#c51b7d"
            ],
            [
             0.2,
             "#de77ae"
            ],
            [
             0.3,
             "#f1b6da"
            ],
            [
             0.4,
             "#fde0ef"
            ],
            [
             0.5,
             "#f7f7f7"
            ],
            [
             0.6,
             "#e6f5d0"
            ],
            [
             0.7,
             "#b8e186"
            ],
            [
             0.8,
             "#7fbc41"
            ],
            [
             0.9,
             "#4d9221"
            ],
            [
             1,
             "#276419"
            ]
           ],
           "sequential": [
            [
             0,
             "#0d0887"
            ],
            [
             0.1111111111111111,
             "#46039f"
            ],
            [
             0.2222222222222222,
             "#7201a8"
            ],
            [
             0.3333333333333333,
             "#9c179e"
            ],
            [
             0.4444444444444444,
             "#bd3786"
            ],
            [
             0.5555555555555556,
             "#d8576b"
            ],
            [
             0.6666666666666666,
             "#ed7953"
            ],
            [
             0.7777777777777778,
             "#fb9f3a"
            ],
            [
             0.8888888888888888,
             "#fdca26"
            ],
            [
             1,
             "#f0f921"
            ]
           ],
           "sequentialminus": [
            [
             0,
             "#0d0887"
            ],
            [
             0.1111111111111111,
             "#46039f"
            ],
            [
             0.2222222222222222,
             "#7201a8"
            ],
            [
             0.3333333333333333,
             "#9c179e"
            ],
            [
             0.4444444444444444,
             "#bd3786"
            ],
            [
             0.5555555555555556,
             "#d8576b"
            ],
            [
             0.6666666666666666,
             "#ed7953"
            ],
            [
             0.7777777777777778,
             "#fb9f3a"
            ],
            [
             0.8888888888888888,
             "#fdca26"
            ],
            [
             1,
             "#f0f921"
            ]
           ]
          },
          "colorway": [
           "#636efa",
           "#EF553B",
           "#00cc96",
           "#ab63fa",
           "#FFA15A",
           "#19d3f3",
           "#FF6692",
           "#B6E880",
           "#FF97FF",
           "#FECB52"
          ],
          "font": {
           "color": "#2a3f5f"
          },
          "geo": {
           "bgcolor": "white",
           "lakecolor": "white",
           "landcolor": "#E5ECF6",
           "showlakes": true,
           "showland": true,
           "subunitcolor": "white"
          },
          "hoverlabel": {
           "align": "left"
          },
          "hovermode": "closest",
          "mapbox": {
           "style": "light"
          },
          "paper_bgcolor": "white",
          "plot_bgcolor": "#E5ECF6",
          "polar": {
           "angularaxis": {
            "gridcolor": "white",
            "linecolor": "white",
            "ticks": ""
           },
           "bgcolor": "#E5ECF6",
           "radialaxis": {
            "gridcolor": "white",
            "linecolor": "white",
            "ticks": ""
           }
          },
          "scene": {
           "xaxis": {
            "backgroundcolor": "#E5ECF6",
            "gridcolor": "white",
            "gridwidth": 2,
            "linecolor": "white",
            "showbackground": true,
            "ticks": "",
            "zerolinecolor": "white"
           },
           "yaxis": {
            "backgroundcolor": "#E5ECF6",
            "gridcolor": "white",
            "gridwidth": 2,
            "linecolor": "white",
            "showbackground": true,
            "ticks": "",
            "zerolinecolor": "white"
           },
           "zaxis": {
            "backgroundcolor": "#E5ECF6",
            "gridcolor": "white",
            "gridwidth": 2,
            "linecolor": "white",
            "showbackground": true,
            "ticks": "",
            "zerolinecolor": "white"
           }
          },
          "shapedefaults": {
           "line": {
            "color": "#2a3f5f"
           }
          },
          "ternary": {
           "aaxis": {
            "gridcolor": "white",
            "linecolor": "white",
            "ticks": ""
           },
           "baxis": {
            "gridcolor": "white",
            "linecolor": "white",
            "ticks": ""
           },
           "bgcolor": "#E5ECF6",
           "caxis": {
            "gridcolor": "white",
            "linecolor": "white",
            "ticks": ""
           }
          },
          "title": {
           "x": 0.05
          },
          "xaxis": {
           "automargin": true,
           "gridcolor": "white",
           "linecolor": "white",
           "ticks": "",
           "title": {
            "standoff": 15
           },
           "zerolinecolor": "white",
           "zerolinewidth": 2
          },
          "yaxis": {
           "automargin": true,
           "gridcolor": "white",
           "linecolor": "white",
           "ticks": "",
           "title": {
            "standoff": 15
           },
           "zerolinecolor": "white",
           "zerolinewidth": 2
          }
         }
        },
        "xaxis": {
         "anchor": "y",
         "domain": [
          0,
          0.7363
         ],
         "title": {
          "text": "eventF1"
         }
        },
        "xaxis2": {
         "anchor": "y2",
         "domain": [
          0.7413,
          1
         ],
         "matches": "x2",
         "showgrid": true,
         "showline": false,
         "showticklabels": false,
         "ticks": ""
        },
        "yaxis": {
         "anchor": "x",
         "domain": [
          0,
          1
         ],
         "title": {
          "text": "eventPrecision"
         }
        },
        "yaxis2": {
         "anchor": "x2",
         "domain": [
          0,
          1
         ],
         "matches": "y",
         "showgrid": true,
         "showticklabels": false
        }
       }
      }
     },
     "metadata": {},
     "output_type": "display_data"
    }
   ],
   "source": [
    "fig=px.scatter(experimentModels_N2,x='eventF1',y='eventPrecision',color='modelId',hover_name='modelId', marginal_y=\"histogram\")\n",
    "fig.add_trace(\n",
    "    go.Scatter(x=experimentModels_N2['eventF1'], y=experimentModels_N2['eventF1'], name=\"identity\", mode='lines',fill=\"toself\")\n",
    ")\n",
    "fig.show()"
   ]
  },
  {
   "cell_type": "code",
   "execution_count": 36,
   "metadata": {},
   "outputs": [
    {
     "data": {
      "application/vnd.plotly.v1+json": {
       "config": {
        "plotlyServerURL": "https://plot.ly"
       },
       "data": [
        {
         "hovertemplate": "<b>%{hovertext}</b><br><br>modelId=5c1fbad9-f02b-46f7-8e51-59ddaf0cf4eb<br>eventF1=%{x}<br>eventRecall=%{y}<extra></extra>",
         "hovertext": [
          "5c1fbad9-f02b-46f7-8e51-59ddaf0cf4eb"
         ],
         "legendgroup": "5c1fbad9-f02b-46f7-8e51-59ddaf0cf4eb",
         "marker": {
          "color": "#636efa",
          "symbol": "circle"
         },
         "mode": "markers",
         "name": "5c1fbad9-f02b-46f7-8e51-59ddaf0cf4eb",
         "orientation": "v",
         "showlegend": true,
         "type": "scatter",
         "x": [
          0.7483738391098695
         ],
         "xaxis": "x",
         "y": [
          0.8166895529213062
         ],
         "yaxis": "y"
        },
        {
         "alignmentgroup": "True",
         "bingroup": "y",
         "hovertemplate": "modelId=5c1fbad9-f02b-46f7-8e51-59ddaf0cf4eb<br>eventRecall=%{y}<br>count=%{x}<extra></extra>",
         "legendgroup": "5c1fbad9-f02b-46f7-8e51-59ddaf0cf4eb",
         "marker": {
          "color": "#636efa"
         },
         "name": "5c1fbad9-f02b-46f7-8e51-59ddaf0cf4eb",
         "offsetgroup": "5c1fbad9-f02b-46f7-8e51-59ddaf0cf4eb",
         "opacity": 0.5,
         "showlegend": false,
         "type": "histogram",
         "xaxis": "x2",
         "y": [
          0.8166895529213062
         ],
         "yaxis": "y2"
        },
        {
         "hovertemplate": "<b>%{hovertext}</b><br><br>modelId=f3f5e58f-0068-4046-b0a7-a62694b1fc26<br>eventF1=%{x}<br>eventRecall=%{y}<extra></extra>",
         "hovertext": [
          "f3f5e58f-0068-4046-b0a7-a62694b1fc26"
         ],
         "legendgroup": "f3f5e58f-0068-4046-b0a7-a62694b1fc26",
         "marker": {
          "color": "#EF553B",
          "symbol": "circle"
         },
         "mode": "markers",
         "name": "f3f5e58f-0068-4046-b0a7-a62694b1fc26",
         "orientation": "v",
         "showlegend": true,
         "type": "scatter",
         "x": [
          0.7069859158535629
         ],
         "xaxis": "x",
         "y": [
          0.8672584292590059
         ],
         "yaxis": "y"
        },
        {
         "alignmentgroup": "True",
         "bingroup": "y",
         "hovertemplate": "modelId=f3f5e58f-0068-4046-b0a7-a62694b1fc26<br>eventRecall=%{y}<br>count=%{x}<extra></extra>",
         "legendgroup": "f3f5e58f-0068-4046-b0a7-a62694b1fc26",
         "marker": {
          "color": "#EF553B"
         },
         "name": "f3f5e58f-0068-4046-b0a7-a62694b1fc26",
         "offsetgroup": "f3f5e58f-0068-4046-b0a7-a62694b1fc26",
         "opacity": 0.5,
         "showlegend": false,
         "type": "histogram",
         "xaxis": "x2",
         "y": [
          0.8672584292590059
         ],
         "yaxis": "y2"
        },
        {
         "hovertemplate": "<b>%{hovertext}</b><br><br>modelId=919e22eb-bc1e-4601-a070-09b25fe7b52f<br>eventF1=%{x}<br>eventRecall=%{y}<extra></extra>",
         "hovertext": [
          "919e22eb-bc1e-4601-a070-09b25fe7b52f"
         ],
         "legendgroup": "919e22eb-bc1e-4601-a070-09b25fe7b52f",
         "marker": {
          "color": "#00cc96",
          "symbol": "circle"
         },
         "mode": "markers",
         "name": "919e22eb-bc1e-4601-a070-09b25fe7b52f",
         "orientation": "v",
         "showlegend": true,
         "type": "scatter",
         "x": [
          0.7350980837145599
         ],
         "xaxis": "x",
         "y": [
          0.7704731607181338
         ],
         "yaxis": "y"
        },
        {
         "alignmentgroup": "True",
         "bingroup": "y",
         "hovertemplate": "modelId=919e22eb-bc1e-4601-a070-09b25fe7b52f<br>eventRecall=%{y}<br>count=%{x}<extra></extra>",
         "legendgroup": "919e22eb-bc1e-4601-a070-09b25fe7b52f",
         "marker": {
          "color": "#00cc96"
         },
         "name": "919e22eb-bc1e-4601-a070-09b25fe7b52f",
         "offsetgroup": "919e22eb-bc1e-4601-a070-09b25fe7b52f",
         "opacity": 0.5,
         "showlegend": false,
         "type": "histogram",
         "xaxis": "x2",
         "y": [
          0.7704731607181338
         ],
         "yaxis": "y2"
        },
        {
         "hovertemplate": "<b>%{hovertext}</b><br><br>modelId=c2e2175e-cc0c-4536-86b5-c7a6ef28b104<br>eventF1=%{x}<br>eventRecall=%{y}<extra></extra>",
         "hovertext": [
          "c2e2175e-cc0c-4536-86b5-c7a6ef28b104"
         ],
         "legendgroup": "c2e2175e-cc0c-4536-86b5-c7a6ef28b104",
         "marker": {
          "color": "#ab63fa",
          "symbol": "circle"
         },
         "mode": "markers",
         "name": "c2e2175e-cc0c-4536-86b5-c7a6ef28b104",
         "orientation": "v",
         "showlegend": true,
         "type": "scatter",
         "x": [
          0.6543185214459583
         ],
         "xaxis": "x",
         "y": [
          0.7304108876978104
         ],
         "yaxis": "y"
        },
        {
         "alignmentgroup": "True",
         "bingroup": "y",
         "hovertemplate": "modelId=c2e2175e-cc0c-4536-86b5-c7a6ef28b104<br>eventRecall=%{y}<br>count=%{x}<extra></extra>",
         "legendgroup": "c2e2175e-cc0c-4536-86b5-c7a6ef28b104",
         "marker": {
          "color": "#ab63fa"
         },
         "name": "c2e2175e-cc0c-4536-86b5-c7a6ef28b104",
         "offsetgroup": "c2e2175e-cc0c-4536-86b5-c7a6ef28b104",
         "opacity": 0.5,
         "showlegend": false,
         "type": "histogram",
         "xaxis": "x2",
         "y": [
          0.7304108876978104
         ],
         "yaxis": "y2"
        },
        {
         "hovertemplate": "<b>%{hovertext}</b><br><br>modelId=0f1d8cd5-f3dc-4419-a46b-69852cdbdadf<br>eventF1=%{x}<br>eventRecall=%{y}<extra></extra>",
         "hovertext": [
          "0f1d8cd5-f3dc-4419-a46b-69852cdbdadf"
         ],
         "legendgroup": "0f1d8cd5-f3dc-4419-a46b-69852cdbdadf",
         "marker": {
          "color": "#FFA15A",
          "symbol": "circle"
         },
         "mode": "markers",
         "name": "0f1d8cd5-f3dc-4419-a46b-69852cdbdadf",
         "orientation": "v",
         "showlegend": true,
         "type": "scatter",
         "x": [
          0.7424299839901
         ],
         "xaxis": "x",
         "y": [
          0.7230779924788884
         ],
         "yaxis": "y"
        },
        {
         "alignmentgroup": "True",
         "bingroup": "y",
         "hovertemplate": "modelId=0f1d8cd5-f3dc-4419-a46b-69852cdbdadf<br>eventRecall=%{y}<br>count=%{x}<extra></extra>",
         "legendgroup": "0f1d8cd5-f3dc-4419-a46b-69852cdbdadf",
         "marker": {
          "color": "#FFA15A"
         },
         "name": "0f1d8cd5-f3dc-4419-a46b-69852cdbdadf",
         "offsetgroup": "0f1d8cd5-f3dc-4419-a46b-69852cdbdadf",
         "opacity": 0.5,
         "showlegend": false,
         "type": "histogram",
         "xaxis": "x2",
         "y": [
          0.7230779924788884
         ],
         "yaxis": "y2"
        },
        {
         "fill": "toself",
         "mode": "lines",
         "name": "identity",
         "type": "scatter",
         "x": [
          0.7483738391098695,
          0.7069859158535629,
          0.7350980837145599,
          0.6543185214459583,
          0.7424299839901
         ],
         "y": [
          0.7483738391098695,
          0.7069859158535629,
          0.7350980837145599,
          0.6543185214459583,
          0.7424299839901
         ]
        }
       ],
       "layout": {
        "barmode": "overlay",
        "legend": {
         "title": {
          "text": "modelId"
         },
         "tracegroupgap": 0
        },
        "margin": {
         "t": 60
        },
        "template": {
         "data": {
          "bar": [
           {
            "error_x": {
             "color": "#2a3f5f"
            },
            "error_y": {
             "color": "#2a3f5f"
            },
            "marker": {
             "line": {
              "color": "#E5ECF6",
              "width": 0.5
             },
             "pattern": {
              "fillmode": "overlay",
              "size": 10,
              "solidity": 0.2
             }
            },
            "type": "bar"
           }
          ],
          "barpolar": [
           {
            "marker": {
             "line": {
              "color": "#E5ECF6",
              "width": 0.5
             },
             "pattern": {
              "fillmode": "overlay",
              "size": 10,
              "solidity": 0.2
             }
            },
            "type": "barpolar"
           }
          ],
          "carpet": [
           {
            "aaxis": {
             "endlinecolor": "#2a3f5f",
             "gridcolor": "white",
             "linecolor": "white",
             "minorgridcolor": "white",
             "startlinecolor": "#2a3f5f"
            },
            "baxis": {
             "endlinecolor": "#2a3f5f",
             "gridcolor": "white",
             "linecolor": "white",
             "minorgridcolor": "white",
             "startlinecolor": "#2a3f5f"
            },
            "type": "carpet"
           }
          ],
          "choropleth": [
           {
            "colorbar": {
             "outlinewidth": 0,
             "ticks": ""
            },
            "type": "choropleth"
           }
          ],
          "contour": [
           {
            "colorbar": {
             "outlinewidth": 0,
             "ticks": ""
            },
            "colorscale": [
             [
              0,
              "#0d0887"
             ],
             [
              0.1111111111111111,
              "#46039f"
             ],
             [
              0.2222222222222222,
              "#7201a8"
             ],
             [
              0.3333333333333333,
              "#9c179e"
             ],
             [
              0.4444444444444444,
              "#bd3786"
             ],
             [
              0.5555555555555556,
              "#d8576b"
             ],
             [
              0.6666666666666666,
              "#ed7953"
             ],
             [
              0.7777777777777778,
              "#fb9f3a"
             ],
             [
              0.8888888888888888,
              "#fdca26"
             ],
             [
              1,
              "#f0f921"
             ]
            ],
            "type": "contour"
           }
          ],
          "contourcarpet": [
           {
            "colorbar": {
             "outlinewidth": 0,
             "ticks": ""
            },
            "type": "contourcarpet"
           }
          ],
          "heatmap": [
           {
            "colorbar": {
             "outlinewidth": 0,
             "ticks": ""
            },
            "colorscale": [
             [
              0,
              "#0d0887"
             ],
             [
              0.1111111111111111,
              "#46039f"
             ],
             [
              0.2222222222222222,
              "#7201a8"
             ],
             [
              0.3333333333333333,
              "#9c179e"
             ],
             [
              0.4444444444444444,
              "#bd3786"
             ],
             [
              0.5555555555555556,
              "#d8576b"
             ],
             [
              0.6666666666666666,
              "#ed7953"
             ],
             [
              0.7777777777777778,
              "#fb9f3a"
             ],
             [
              0.8888888888888888,
              "#fdca26"
             ],
             [
              1,
              "#f0f921"
             ]
            ],
            "type": "heatmap"
           }
          ],
          "heatmapgl": [
           {
            "colorbar": {
             "outlinewidth": 0,
             "ticks": ""
            },
            "colorscale": [
             [
              0,
              "#0d0887"
             ],
             [
              0.1111111111111111,
              "#46039f"
             ],
             [
              0.2222222222222222,
              "#7201a8"
             ],
             [
              0.3333333333333333,
              "#9c179e"
             ],
             [
              0.4444444444444444,
              "#bd3786"
             ],
             [
              0.5555555555555556,
              "#d8576b"
             ],
             [
              0.6666666666666666,
              "#ed7953"
             ],
             [
              0.7777777777777778,
              "#fb9f3a"
             ],
             [
              0.8888888888888888,
              "#fdca26"
             ],
             [
              1,
              "#f0f921"
             ]
            ],
            "type": "heatmapgl"
           }
          ],
          "histogram": [
           {
            "marker": {
             "pattern": {
              "fillmode": "overlay",
              "size": 10,
              "solidity": 0.2
             }
            },
            "type": "histogram"
           }
          ],
          "histogram2d": [
           {
            "colorbar": {
             "outlinewidth": 0,
             "ticks": ""
            },
            "colorscale": [
             [
              0,
              "#0d0887"
             ],
             [
              0.1111111111111111,
              "#46039f"
             ],
             [
              0.2222222222222222,
              "#7201a8"
             ],
             [
              0.3333333333333333,
              "#9c179e"
             ],
             [
              0.4444444444444444,
              "#bd3786"
             ],
             [
              0.5555555555555556,
              "#d8576b"
             ],
             [
              0.6666666666666666,
              "#ed7953"
             ],
             [
              0.7777777777777778,
              "#fb9f3a"
             ],
             [
              0.8888888888888888,
              "#fdca26"
             ],
             [
              1,
              "#f0f921"
             ]
            ],
            "type": "histogram2d"
           }
          ],
          "histogram2dcontour": [
           {
            "colorbar": {
             "outlinewidth": 0,
             "ticks": ""
            },
            "colorscale": [
             [
              0,
              "#0d0887"
             ],
             [
              0.1111111111111111,
              "#46039f"
             ],
             [
              0.2222222222222222,
              "#7201a8"
             ],
             [
              0.3333333333333333,
              "#9c179e"
             ],
             [
              0.4444444444444444,
              "#bd3786"
             ],
             [
              0.5555555555555556,
              "#d8576b"
             ],
             [
              0.6666666666666666,
              "#ed7953"
             ],
             [
              0.7777777777777778,
              "#fb9f3a"
             ],
             [
              0.8888888888888888,
              "#fdca26"
             ],
             [
              1,
              "#f0f921"
             ]
            ],
            "type": "histogram2dcontour"
           }
          ],
          "mesh3d": [
           {
            "colorbar": {
             "outlinewidth": 0,
             "ticks": ""
            },
            "type": "mesh3d"
           }
          ],
          "parcoords": [
           {
            "line": {
             "colorbar": {
              "outlinewidth": 0,
              "ticks": ""
             }
            },
            "type": "parcoords"
           }
          ],
          "pie": [
           {
            "automargin": true,
            "type": "pie"
           }
          ],
          "scatter": [
           {
            "fillpattern": {
             "fillmode": "overlay",
             "size": 10,
             "solidity": 0.2
            },
            "type": "scatter"
           }
          ],
          "scatter3d": [
           {
            "line": {
             "colorbar": {
              "outlinewidth": 0,
              "ticks": ""
             }
            },
            "marker": {
             "colorbar": {
              "outlinewidth": 0,
              "ticks": ""
             }
            },
            "type": "scatter3d"
           }
          ],
          "scattercarpet": [
           {
            "marker": {
             "colorbar": {
              "outlinewidth": 0,
              "ticks": ""
             }
            },
            "type": "scattercarpet"
           }
          ],
          "scattergeo": [
           {
            "marker": {
             "colorbar": {
              "outlinewidth": 0,
              "ticks": ""
             }
            },
            "type": "scattergeo"
           }
          ],
          "scattergl": [
           {
            "marker": {
             "colorbar": {
              "outlinewidth": 0,
              "ticks": ""
             }
            },
            "type": "scattergl"
           }
          ],
          "scattermapbox": [
           {
            "marker": {
             "colorbar": {
              "outlinewidth": 0,
              "ticks": ""
             }
            },
            "type": "scattermapbox"
           }
          ],
          "scatterpolar": [
           {
            "marker": {
             "colorbar": {
              "outlinewidth": 0,
              "ticks": ""
             }
            },
            "type": "scatterpolar"
           }
          ],
          "scatterpolargl": [
           {
            "marker": {
             "colorbar": {
              "outlinewidth": 0,
              "ticks": ""
             }
            },
            "type": "scatterpolargl"
           }
          ],
          "scatterternary": [
           {
            "marker": {
             "colorbar": {
              "outlinewidth": 0,
              "ticks": ""
             }
            },
            "type": "scatterternary"
           }
          ],
          "surface": [
           {
            "colorbar": {
             "outlinewidth": 0,
             "ticks": ""
            },
            "colorscale": [
             [
              0,
              "#0d0887"
             ],
             [
              0.1111111111111111,
              "#46039f"
             ],
             [
              0.2222222222222222,
              "#7201a8"
             ],
             [
              0.3333333333333333,
              "#9c179e"
             ],
             [
              0.4444444444444444,
              "#bd3786"
             ],
             [
              0.5555555555555556,
              "#d8576b"
             ],
             [
              0.6666666666666666,
              "#ed7953"
             ],
             [
              0.7777777777777778,
              "#fb9f3a"
             ],
             [
              0.8888888888888888,
              "#fdca26"
             ],
             [
              1,
              "#f0f921"
             ]
            ],
            "type": "surface"
           }
          ],
          "table": [
           {
            "cells": {
             "fill": {
              "color": "#EBF0F8"
             },
             "line": {
              "color": "white"
             }
            },
            "header": {
             "fill": {
              "color": "#C8D4E3"
             },
             "line": {
              "color": "white"
             }
            },
            "type": "table"
           }
          ]
         },
         "layout": {
          "annotationdefaults": {
           "arrowcolor": "#2a3f5f",
           "arrowhead": 0,
           "arrowwidth": 1
          },
          "autotypenumbers": "strict",
          "coloraxis": {
           "colorbar": {
            "outlinewidth": 0,
            "ticks": ""
           }
          },
          "colorscale": {
           "diverging": [
            [
             0,
             "#8e0152"
            ],
            [
             0.1,
             "#c51b7d"
            ],
            [
             0.2,
             "#de77ae"
            ],
            [
             0.3,
             "#f1b6da"
            ],
            [
             0.4,
             "#fde0ef"
            ],
            [
             0.5,
             "#f7f7f7"
            ],
            [
             0.6,
             "#e6f5d0"
            ],
            [
             0.7,
             "#b8e186"
            ],
            [
             0.8,
             "#7fbc41"
            ],
            [
             0.9,
             "#4d9221"
            ],
            [
             1,
             "#276419"
            ]
           ],
           "sequential": [
            [
             0,
             "#0d0887"
            ],
            [
             0.1111111111111111,
             "#46039f"
            ],
            [
             0.2222222222222222,
             "#7201a8"
            ],
            [
             0.3333333333333333,
             "#9c179e"
            ],
            [
             0.4444444444444444,
             "#bd3786"
            ],
            [
             0.5555555555555556,
             "#d8576b"
            ],
            [
             0.6666666666666666,
             "#ed7953"
            ],
            [
             0.7777777777777778,
             "#fb9f3a"
            ],
            [
             0.8888888888888888,
             "#fdca26"
            ],
            [
             1,
             "#f0f921"
            ]
           ],
           "sequentialminus": [
            [
             0,
             "#0d0887"
            ],
            [
             0.1111111111111111,
             "#46039f"
            ],
            [
             0.2222222222222222,
             "#7201a8"
            ],
            [
             0.3333333333333333,
             "#9c179e"
            ],
            [
             0.4444444444444444,
             "#bd3786"
            ],
            [
             0.5555555555555556,
             "#d8576b"
            ],
            [
             0.6666666666666666,
             "#ed7953"
            ],
            [
             0.7777777777777778,
             "#fb9f3a"
            ],
            [
             0.8888888888888888,
             "#fdca26"
            ],
            [
             1,
             "#f0f921"
            ]
           ]
          },
          "colorway": [
           "#636efa",
           "#EF553B",
           "#00cc96",
           "#ab63fa",
           "#FFA15A",
           "#19d3f3",
           "#FF6692",
           "#B6E880",
           "#FF97FF",
           "#FECB52"
          ],
          "font": {
           "color": "#2a3f5f"
          },
          "geo": {
           "bgcolor": "white",
           "lakecolor": "white",
           "landcolor": "#E5ECF6",
           "showlakes": true,
           "showland": true,
           "subunitcolor": "white"
          },
          "hoverlabel": {
           "align": "left"
          },
          "hovermode": "closest",
          "mapbox": {
           "style": "light"
          },
          "paper_bgcolor": "white",
          "plot_bgcolor": "#E5ECF6",
          "polar": {
           "angularaxis": {
            "gridcolor": "white",
            "linecolor": "white",
            "ticks": ""
           },
           "bgcolor": "#E5ECF6",
           "radialaxis": {
            "gridcolor": "white",
            "linecolor": "white",
            "ticks": ""
           }
          },
          "scene": {
           "xaxis": {
            "backgroundcolor": "#E5ECF6",
            "gridcolor": "white",
            "gridwidth": 2,
            "linecolor": "white",
            "showbackground": true,
            "ticks": "",
            "zerolinecolor": "white"
           },
           "yaxis": {
            "backgroundcolor": "#E5ECF6",
            "gridcolor": "white",
            "gridwidth": 2,
            "linecolor": "white",
            "showbackground": true,
            "ticks": "",
            "zerolinecolor": "white"
           },
           "zaxis": {
            "backgroundcolor": "#E5ECF6",
            "gridcolor": "white",
            "gridwidth": 2,
            "linecolor": "white",
            "showbackground": true,
            "ticks": "",
            "zerolinecolor": "white"
           }
          },
          "shapedefaults": {
           "line": {
            "color": "#2a3f5f"
           }
          },
          "ternary": {
           "aaxis": {
            "gridcolor": "white",
            "linecolor": "white",
            "ticks": ""
           },
           "baxis": {
            "gridcolor": "white",
            "linecolor": "white",
            "ticks": ""
           },
           "bgcolor": "#E5ECF6",
           "caxis": {
            "gridcolor": "white",
            "linecolor": "white",
            "ticks": ""
           }
          },
          "title": {
           "x": 0.05
          },
          "xaxis": {
           "automargin": true,
           "gridcolor": "white",
           "linecolor": "white",
           "ticks": "",
           "title": {
            "standoff": 15
           },
           "zerolinecolor": "white",
           "zerolinewidth": 2
          },
          "yaxis": {
           "automargin": true,
           "gridcolor": "white",
           "linecolor": "white",
           "ticks": "",
           "title": {
            "standoff": 15
           },
           "zerolinecolor": "white",
           "zerolinewidth": 2
          }
         }
        },
        "xaxis": {
         "anchor": "y",
         "domain": [
          0,
          0.7363
         ],
         "title": {
          "text": "eventF1"
         }
        },
        "xaxis2": {
         "anchor": "y2",
         "domain": [
          0.7413,
          1
         ],
         "matches": "x2",
         "showgrid": true,
         "showline": false,
         "showticklabels": false,
         "ticks": ""
        },
        "yaxis": {
         "anchor": "x",
         "domain": [
          0,
          1
         ],
         "title": {
          "text": "eventRecall"
         }
        },
        "yaxis2": {
         "anchor": "x2",
         "domain": [
          0,
          1
         ],
         "matches": "y",
         "showgrid": true,
         "showticklabels": false
        }
       }
      }
     },
     "metadata": {},
     "output_type": "display_data"
    }
   ],
   "source": [
    "fig=px.scatter(experimentModels_N2,x='eventF1',y='eventRecall',color='modelId',hover_name='modelId', marginal_y=\"histogram\")\n",
    "fig.add_trace(\n",
    "    go.Scatter(x=experimentModels_N2['eventF1'], y=experimentModels_N2['eventF1'], name=\"identity\", mode='lines',fill=\"toself\")\n",
    ")\n",
    "fig.show()"
   ]
  },
  {
   "cell_type": "code",
   "execution_count": 38,
   "metadata": {},
   "outputs": [
    {
     "data": {
      "text/html": [
       "<div>\n",
       "<style scoped>\n",
       "    .dataframe tbody tr th:only-of-type {\n",
       "        vertical-align: middle;\n",
       "    }\n",
       "\n",
       "    .dataframe tbody tr th {\n",
       "        vertical-align: top;\n",
       "    }\n",
       "\n",
       "    .dataframe thead tr th {\n",
       "        text-align: left;\n",
       "    }\n",
       "\n",
       "    .dataframe thead tr:last-of-type th {\n",
       "        text-align: right;\n",
       "    }\n",
       "</style>\n",
       "<table border=\"1\" class=\"dataframe\">\n",
       "  <thead>\n",
       "    <tr>\n",
       "      <th></th>\n",
       "      <th colspan=\"6\" halign=\"left\">eventF1</th>\n",
       "      <th colspan=\"6\" halign=\"left\">eventPrecision</th>\n",
       "      <th colspan=\"6\" halign=\"left\">eventRecall</th>\n",
       "    </tr>\n",
       "    <tr>\n",
       "      <th></th>\n",
       "      <th>count</th>\n",
       "      <th>mean</th>\n",
       "      <th>std</th>\n",
       "      <th>min</th>\n",
       "      <th>50%</th>\n",
       "      <th>max</th>\n",
       "      <th>count</th>\n",
       "      <th>mean</th>\n",
       "      <th>std</th>\n",
       "      <th>min</th>\n",
       "      <th>50%</th>\n",
       "      <th>max</th>\n",
       "      <th>count</th>\n",
       "      <th>mean</th>\n",
       "      <th>std</th>\n",
       "      <th>min</th>\n",
       "      <th>50%</th>\n",
       "      <th>max</th>\n",
       "    </tr>\n",
       "    <tr>\n",
       "      <th>modelId</th>\n",
       "      <th></th>\n",
       "      <th></th>\n",
       "      <th></th>\n",
       "      <th></th>\n",
       "      <th></th>\n",
       "      <th></th>\n",
       "      <th></th>\n",
       "      <th></th>\n",
       "      <th></th>\n",
       "      <th></th>\n",
       "      <th></th>\n",
       "      <th></th>\n",
       "      <th></th>\n",
       "      <th></th>\n",
       "      <th></th>\n",
       "      <th></th>\n",
       "      <th></th>\n",
       "      <th></th>\n",
       "    </tr>\n",
       "  </thead>\n",
       "  <tbody>\n",
       "    <tr>\n",
       "      <th>0f1d8cd5-f3dc-4419-a46b-69852cdbdadf</th>\n",
       "      <td>1.0</td>\n",
       "      <td>0.742430</td>\n",
       "      <td>NaN</td>\n",
       "      <td>0.742430</td>\n",
       "      <td>0.742430</td>\n",
       "      <td>0.742430</td>\n",
       "      <td>1.0</td>\n",
       "      <td>0.792676</td>\n",
       "      <td>NaN</td>\n",
       "      <td>0.792676</td>\n",
       "      <td>0.792676</td>\n",
       "      <td>0.792676</td>\n",
       "      <td>1.0</td>\n",
       "      <td>0.723078</td>\n",
       "      <td>NaN</td>\n",
       "      <td>0.723078</td>\n",
       "      <td>0.723078</td>\n",
       "      <td>0.723078</td>\n",
       "    </tr>\n",
       "    <tr>\n",
       "      <th>5c1fbad9-f02b-46f7-8e51-59ddaf0cf4eb</th>\n",
       "      <td>1.0</td>\n",
       "      <td>0.748374</td>\n",
       "      <td>NaN</td>\n",
       "      <td>0.748374</td>\n",
       "      <td>0.748374</td>\n",
       "      <td>0.748374</td>\n",
       "      <td>1.0</td>\n",
       "      <td>0.701707</td>\n",
       "      <td>NaN</td>\n",
       "      <td>0.701707</td>\n",
       "      <td>0.701707</td>\n",
       "      <td>0.701707</td>\n",
       "      <td>1.0</td>\n",
       "      <td>0.816690</td>\n",
       "      <td>NaN</td>\n",
       "      <td>0.816690</td>\n",
       "      <td>0.816690</td>\n",
       "      <td>0.816690</td>\n",
       "    </tr>\n",
       "    <tr>\n",
       "      <th>919e22eb-bc1e-4601-a070-09b25fe7b52f</th>\n",
       "      <td>1.0</td>\n",
       "      <td>0.735098</td>\n",
       "      <td>NaN</td>\n",
       "      <td>0.735098</td>\n",
       "      <td>0.735098</td>\n",
       "      <td>0.735098</td>\n",
       "      <td>1.0</td>\n",
       "      <td>0.736158</td>\n",
       "      <td>NaN</td>\n",
       "      <td>0.736158</td>\n",
       "      <td>0.736158</td>\n",
       "      <td>0.736158</td>\n",
       "      <td>1.0</td>\n",
       "      <td>0.770473</td>\n",
       "      <td>NaN</td>\n",
       "      <td>0.770473</td>\n",
       "      <td>0.770473</td>\n",
       "      <td>0.770473</td>\n",
       "    </tr>\n",
       "    <tr>\n",
       "      <th>c2e2175e-cc0c-4536-86b5-c7a6ef28b104</th>\n",
       "      <td>1.0</td>\n",
       "      <td>0.654319</td>\n",
       "      <td>NaN</td>\n",
       "      <td>0.654319</td>\n",
       "      <td>0.654319</td>\n",
       "      <td>0.654319</td>\n",
       "      <td>1.0</td>\n",
       "      <td>0.738444</td>\n",
       "      <td>NaN</td>\n",
       "      <td>0.738444</td>\n",
       "      <td>0.738444</td>\n",
       "      <td>0.738444</td>\n",
       "      <td>1.0</td>\n",
       "      <td>0.730411</td>\n",
       "      <td>NaN</td>\n",
       "      <td>0.730411</td>\n",
       "      <td>0.730411</td>\n",
       "      <td>0.730411</td>\n",
       "    </tr>\n",
       "    <tr>\n",
       "      <th>f3f5e58f-0068-4046-b0a7-a62694b1fc26</th>\n",
       "      <td>1.0</td>\n",
       "      <td>0.706986</td>\n",
       "      <td>NaN</td>\n",
       "      <td>0.706986</td>\n",
       "      <td>0.706986</td>\n",
       "      <td>0.706986</td>\n",
       "      <td>1.0</td>\n",
       "      <td>0.620248</td>\n",
       "      <td>NaN</td>\n",
       "      <td>0.620248</td>\n",
       "      <td>0.620248</td>\n",
       "      <td>0.620248</td>\n",
       "      <td>1.0</td>\n",
       "      <td>0.867258</td>\n",
       "      <td>NaN</td>\n",
       "      <td>0.867258</td>\n",
       "      <td>0.867258</td>\n",
       "      <td>0.867258</td>\n",
       "    </tr>\n",
       "  </tbody>\n",
       "</table>\n",
       "</div>"
      ],
      "text/plain": [
       "                                     eventF1                          \\\n",
       "                                       count      mean std       min   \n",
       "modelId                                                                \n",
       "0f1d8cd5-f3dc-4419-a46b-69852cdbdadf     1.0  0.742430 NaN  0.742430   \n",
       "5c1fbad9-f02b-46f7-8e51-59ddaf0cf4eb     1.0  0.748374 NaN  0.748374   \n",
       "919e22eb-bc1e-4601-a070-09b25fe7b52f     1.0  0.735098 NaN  0.735098   \n",
       "c2e2175e-cc0c-4536-86b5-c7a6ef28b104     1.0  0.654319 NaN  0.654319   \n",
       "f3f5e58f-0068-4046-b0a7-a62694b1fc26     1.0  0.706986 NaN  0.706986   \n",
       "\n",
       "                                                         eventPrecision  \\\n",
       "                                           50%       max          count   \n",
       "modelId                                                                   \n",
       "0f1d8cd5-f3dc-4419-a46b-69852cdbdadf  0.742430  0.742430            1.0   \n",
       "5c1fbad9-f02b-46f7-8e51-59ddaf0cf4eb  0.748374  0.748374            1.0   \n",
       "919e22eb-bc1e-4601-a070-09b25fe7b52f  0.735098  0.735098            1.0   \n",
       "c2e2175e-cc0c-4536-86b5-c7a6ef28b104  0.654319  0.654319            1.0   \n",
       "f3f5e58f-0068-4046-b0a7-a62694b1fc26  0.706986  0.706986            1.0   \n",
       "\n",
       "                                                                        \\\n",
       "                                          mean std       min       50%   \n",
       "modelId                                                                  \n",
       "0f1d8cd5-f3dc-4419-a46b-69852cdbdadf  0.792676 NaN  0.792676  0.792676   \n",
       "5c1fbad9-f02b-46f7-8e51-59ddaf0cf4eb  0.701707 NaN  0.701707  0.701707   \n",
       "919e22eb-bc1e-4601-a070-09b25fe7b52f  0.736158 NaN  0.736158  0.736158   \n",
       "c2e2175e-cc0c-4536-86b5-c7a6ef28b104  0.738444 NaN  0.738444  0.738444   \n",
       "f3f5e58f-0068-4046-b0a7-a62694b1fc26  0.620248 NaN  0.620248  0.620248   \n",
       "\n",
       "                                               eventRecall                \\\n",
       "                                           max       count      mean std   \n",
       "modelId                                                                    \n",
       "0f1d8cd5-f3dc-4419-a46b-69852cdbdadf  0.792676         1.0  0.723078 NaN   \n",
       "5c1fbad9-f02b-46f7-8e51-59ddaf0cf4eb  0.701707         1.0  0.816690 NaN   \n",
       "919e22eb-bc1e-4601-a070-09b25fe7b52f  0.736158         1.0  0.770473 NaN   \n",
       "c2e2175e-cc0c-4536-86b5-c7a6ef28b104  0.738444         1.0  0.730411 NaN   \n",
       "f3f5e58f-0068-4046-b0a7-a62694b1fc26  0.620248         1.0  0.867258 NaN   \n",
       "\n",
       "                                                                    \n",
       "                                           min       50%       max  \n",
       "modelId                                                             \n",
       "0f1d8cd5-f3dc-4419-a46b-69852cdbdadf  0.723078  0.723078  0.723078  \n",
       "5c1fbad9-f02b-46f7-8e51-59ddaf0cf4eb  0.816690  0.816690  0.816690  \n",
       "919e22eb-bc1e-4601-a070-09b25fe7b52f  0.770473  0.770473  0.770473  \n",
       "c2e2175e-cc0c-4536-86b5-c7a6ef28b104  0.730411  0.730411  0.730411  \n",
       "f3f5e58f-0068-4046-b0a7-a62694b1fc26  0.867258  0.867258  0.867258  "
      ]
     },
     "execution_count": 38,
     "metadata": {},
     "output_type": "execute_result"
    }
   ],
   "source": [
    "experimentModels_N2[['modelId','eventF1','eventPrecision','eventRecall']].groupby('modelId').describe(percentiles=[0.5])"
   ]
  },
  {
   "cell_type": "code",
   "execution_count": 39,
   "metadata": {},
   "outputs": [
    {
     "data": {
      "text/html": [
       "<div>\n",
       "<style scoped>\n",
       "    .dataframe tbody tr th:only-of-type {\n",
       "        vertical-align: middle;\n",
       "    }\n",
       "\n",
       "    .dataframe tbody tr th {\n",
       "        vertical-align: top;\n",
       "    }\n",
       "\n",
       "    .dataframe thead th {\n",
       "        text-align: right;\n",
       "    }\n",
       "</style>\n",
       "<table border=\"1\" class=\"dataframe\">\n",
       "  <thead>\n",
       "    <tr style=\"text-align: right;\">\n",
       "      <th></th>\n",
       "      <th>modelId</th>\n",
       "      <th>eventF1</th>\n",
       "      <th>eventPrecision</th>\n",
       "      <th>eventRecall</th>\n",
       "    </tr>\n",
       "  </thead>\n",
       "  <tbody>\n",
       "    <tr>\n",
       "      <th>0</th>\n",
       "      <td>0f1d8cd5-f3dc-4419-a46b-69852cdbdadf</td>\n",
       "      <td>0.742430</td>\n",
       "      <td>0.792676</td>\n",
       "      <td>0.723078</td>\n",
       "    </tr>\n",
       "    <tr>\n",
       "      <th>1</th>\n",
       "      <td>5c1fbad9-f02b-46f7-8e51-59ddaf0cf4eb</td>\n",
       "      <td>0.748374</td>\n",
       "      <td>0.701707</td>\n",
       "      <td>0.816690</td>\n",
       "    </tr>\n",
       "    <tr>\n",
       "      <th>2</th>\n",
       "      <td>919e22eb-bc1e-4601-a070-09b25fe7b52f</td>\n",
       "      <td>0.735098</td>\n",
       "      <td>0.736158</td>\n",
       "      <td>0.770473</td>\n",
       "    </tr>\n",
       "    <tr>\n",
       "      <th>3</th>\n",
       "      <td>c2e2175e-cc0c-4536-86b5-c7a6ef28b104</td>\n",
       "      <td>0.654319</td>\n",
       "      <td>0.738444</td>\n",
       "      <td>0.730411</td>\n",
       "    </tr>\n",
       "    <tr>\n",
       "      <th>4</th>\n",
       "      <td>f3f5e58f-0068-4046-b0a7-a62694b1fc26</td>\n",
       "      <td>0.706986</td>\n",
       "      <td>0.620248</td>\n",
       "      <td>0.867258</td>\n",
       "    </tr>\n",
       "  </tbody>\n",
       "</table>\n",
       "</div>"
      ],
      "text/plain": [
       "                                modelId   eventF1  eventPrecision  eventRecall\n",
       "0  0f1d8cd5-f3dc-4419-a46b-69852cdbdadf  0.742430        0.792676     0.723078\n",
       "1  5c1fbad9-f02b-46f7-8e51-59ddaf0cf4eb  0.748374        0.701707     0.816690\n",
       "2  919e22eb-bc1e-4601-a070-09b25fe7b52f  0.735098        0.736158     0.770473\n",
       "3  c2e2175e-cc0c-4536-86b5-c7a6ef28b104  0.654319        0.738444     0.730411\n",
       "4  f3f5e58f-0068-4046-b0a7-a62694b1fc26  0.706986        0.620248     0.867258"
      ]
     },
     "execution_count": 39,
     "metadata": {},
     "output_type": "execute_result"
    }
   ],
   "source": [
    "experimentModels_N2[['modelId','eventF1','eventPrecision','eventRecall']].groupby('modelId',as_index=False).mean()"
   ]
  },
  {
   "cell_type": "code",
   "execution_count": 40,
   "metadata": {},
   "outputs": [
    {
     "name": "stderr",
     "output_type": "stream",
     "text": [
      "C:\\Users\\Gurdiel\\AppData\\Local\\Temp\\ipykernel_9992\\3291470165.py:1: FutureWarning:\n",
      "\n",
      "The default value of numeric_only in DataFrame.mean is deprecated. In a future version, it will default to False. In addition, specifying 'numeric_only=None' is deprecated. Select only valid columns or specify the value of numeric_only to silence this warning.\n",
      "\n"
     ]
    },
    {
     "data": {
      "text/plain": [
       "eventF1           0.717441\n",
       "eventPrecision    0.717847\n",
       "eventRecall       0.781582\n",
       "dtype: float64"
      ]
     },
     "execution_count": 40,
     "metadata": {},
     "output_type": "execute_result"
    }
   ],
   "source": [
    "experimentModels_N2[['modelId','eventF1','eventPrecision','eventRecall']].groupby('modelId',as_index=False).mean().mean()"
   ]
  },
  {
   "cell_type": "code",
   "execution_count": 41,
   "metadata": {},
   "outputs": [
    {
     "name": "stderr",
     "output_type": "stream",
     "text": [
      "C:\\Users\\Gurdiel\\AppData\\Local\\Temp\\ipykernel_9992\\2063147112.py:1: FutureWarning:\n",
      "\n",
      "The default value of numeric_only in DataFrame.std is deprecated. In a future version, it will default to False. In addition, specifying 'numeric_only=None' is deprecated. Select only valid columns or specify the value of numeric_only to silence this warning.\n",
      "\n"
     ]
    },
    {
     "data": {
      "text/plain": [
       "eventF1           0.038687\n",
       "eventPrecision    0.063532\n",
       "eventRecall       0.060699\n",
       "dtype: float64"
      ]
     },
     "execution_count": 41,
     "metadata": {},
     "output_type": "execute_result"
    }
   ],
   "source": [
    "experimentModels_N2[['modelId','eventF1','eventPrecision','eventRecall']].groupby('modelId',as_index=False).mean().std()"
   ]
  },
  {
   "cell_type": "code",
   "execution_count": 42,
   "metadata": {},
   "outputs": [],
   "source": [
    "auxPrecision=pd.DataFrame({\n",
    "    'metric':'event precision',\n",
    "    'value':experimentModels_N2.eventPrecision,\n",
    "    'event F1':experimentModels_N2.eventF1\n",
    "})\n",
    "\n",
    "auxRecall=pd.DataFrame({\n",
    "    'metric':'event recall',\n",
    "    'value':experimentModels_N2.eventRecall,\n",
    "    'event F1':experimentModels_N2.eventF1\n",
    "})\n",
    "visualTradeoff=pd.concat((auxPrecision,auxRecall))"
   ]
  },
  {
   "cell_type": "code",
   "execution_count": 43,
   "metadata": {},
   "outputs": [
    {
     "data": {
      "application/vnd.plotly.v1+json": {
       "config": {
        "plotlyServerURL": "https://plot.ly"
       },
       "data": [
        {
         "hovertemplate": "metric=event precision<br>event F1=%{x}<br>value=%{y}<extra></extra>",
         "legendgroup": "event precision",
         "marker": {
          "color": "#636efa",
          "symbol": "circle"
         },
         "mode": "markers",
         "name": "event precision",
         "orientation": "v",
         "showlegend": true,
         "type": "scatter",
         "x": [
          0.7483738391098695,
          0.7069859158535629,
          0.7350980837145599,
          0.6543185214459583,
          0.7424299839901
         ],
         "xaxis": "x",
         "y": [
          0.7017074658275192,
          0.6202477823270979,
          0.7361583725688857,
          0.7384438135284922,
          0.792676359990882
         ],
         "yaxis": "y"
        },
        {
         "alignmentgroup": "True",
         "bingroup": "y",
         "hovertemplate": "metric=event precision<br>value=%{y}<br>count=%{x}<extra></extra>",
         "legendgroup": "event precision",
         "marker": {
          "color": "#636efa"
         },
         "name": "event precision",
         "offsetgroup": "event precision",
         "opacity": 0.5,
         "showlegend": false,
         "type": "histogram",
         "xaxis": "x2",
         "y": [
          0.7017074658275192,
          0.6202477823270979,
          0.7361583725688857,
          0.7384438135284922,
          0.792676359990882
         ],
         "yaxis": "y2"
        },
        {
         "hovertemplate": "metric=event recall<br>event F1=%{x}<br>value=%{y}<extra></extra>",
         "legendgroup": "event recall",
         "marker": {
          "color": "#EF553B",
          "symbol": "circle"
         },
         "mode": "markers",
         "name": "event recall",
         "orientation": "v",
         "showlegend": true,
         "type": "scatter",
         "x": [
          0.7483738391098695,
          0.7069859158535629,
          0.7350980837145599,
          0.6543185214459583,
          0.7424299839901
         ],
         "xaxis": "x",
         "y": [
          0.8166895529213062,
          0.8672584292590059,
          0.7704731607181338,
          0.7304108876978104,
          0.7230779924788884
         ],
         "yaxis": "y"
        },
        {
         "alignmentgroup": "True",
         "bingroup": "y",
         "hovertemplate": "metric=event recall<br>value=%{y}<br>count=%{x}<extra></extra>",
         "legendgroup": "event recall",
         "marker": {
          "color": "#EF553B"
         },
         "name": "event recall",
         "offsetgroup": "event recall",
         "opacity": 0.5,
         "showlegend": false,
         "type": "histogram",
         "xaxis": "x2",
         "y": [
          0.8166895529213062,
          0.8672584292590059,
          0.7704731607181338,
          0.7304108876978104,
          0.7230779924788884
         ],
         "yaxis": "y2"
        },
        {
         "fill": "toself",
         "mode": "lines",
         "name": "identity",
         "type": "scatter",
         "x": [
          0.7135084376261472,
          0.674704223481994,
          0.7108475372491854,
          0.6293403854303937,
          0.706120885689908
         ],
         "y": [
          0.7135084376261472,
          0.674704223481994,
          0.7108475372491854,
          0.6293403854303937,
          0.706120885689908
         ]
        }
       ],
       "layout": {
        "barmode": "overlay",
        "legend": {
         "title": {
          "text": "metric"
         },
         "tracegroupgap": 0
        },
        "margin": {
         "t": 60
        },
        "template": {
         "data": {
          "bar": [
           {
            "error_x": {
             "color": "#2a3f5f"
            },
            "error_y": {
             "color": "#2a3f5f"
            },
            "marker": {
             "line": {
              "color": "#E5ECF6",
              "width": 0.5
             },
             "pattern": {
              "fillmode": "overlay",
              "size": 10,
              "solidity": 0.2
             }
            },
            "type": "bar"
           }
          ],
          "barpolar": [
           {
            "marker": {
             "line": {
              "color": "#E5ECF6",
              "width": 0.5
             },
             "pattern": {
              "fillmode": "overlay",
              "size": 10,
              "solidity": 0.2
             }
            },
            "type": "barpolar"
           }
          ],
          "carpet": [
           {
            "aaxis": {
             "endlinecolor": "#2a3f5f",
             "gridcolor": "white",
             "linecolor": "white",
             "minorgridcolor": "white",
             "startlinecolor": "#2a3f5f"
            },
            "baxis": {
             "endlinecolor": "#2a3f5f",
             "gridcolor": "white",
             "linecolor": "white",
             "minorgridcolor": "white",
             "startlinecolor": "#2a3f5f"
            },
            "type": "carpet"
           }
          ],
          "choropleth": [
           {
            "colorbar": {
             "outlinewidth": 0,
             "ticks": ""
            },
            "type": "choropleth"
           }
          ],
          "contour": [
           {
            "colorbar": {
             "outlinewidth": 0,
             "ticks": ""
            },
            "colorscale": [
             [
              0,
              "#0d0887"
             ],
             [
              0.1111111111111111,
              "#46039f"
             ],
             [
              0.2222222222222222,
              "#7201a8"
             ],
             [
              0.3333333333333333,
              "#9c179e"
             ],
             [
              0.4444444444444444,
              "#bd3786"
             ],
             [
              0.5555555555555556,
              "#d8576b"
             ],
             [
              0.6666666666666666,
              "#ed7953"
             ],
             [
              0.7777777777777778,
              "#fb9f3a"
             ],
             [
              0.8888888888888888,
              "#fdca26"
             ],
             [
              1,
              "#f0f921"
             ]
            ],
            "type": "contour"
           }
          ],
          "contourcarpet": [
           {
            "colorbar": {
             "outlinewidth": 0,
             "ticks": ""
            },
            "type": "contourcarpet"
           }
          ],
          "heatmap": [
           {
            "colorbar": {
             "outlinewidth": 0,
             "ticks": ""
            },
            "colorscale": [
             [
              0,
              "#0d0887"
             ],
             [
              0.1111111111111111,
              "#46039f"
             ],
             [
              0.2222222222222222,
              "#7201a8"
             ],
             [
              0.3333333333333333,
              "#9c179e"
             ],
             [
              0.4444444444444444,
              "#bd3786"
             ],
             [
              0.5555555555555556,
              "#d8576b"
             ],
             [
              0.6666666666666666,
              "#ed7953"
             ],
             [
              0.7777777777777778,
              "#fb9f3a"
             ],
             [
              0.8888888888888888,
              "#fdca26"
             ],
             [
              1,
              "#f0f921"
             ]
            ],
            "type": "heatmap"
           }
          ],
          "heatmapgl": [
           {
            "colorbar": {
             "outlinewidth": 0,
             "ticks": ""
            },
            "colorscale": [
             [
              0,
              "#0d0887"
             ],
             [
              0.1111111111111111,
              "#46039f"
             ],
             [
              0.2222222222222222,
              "#7201a8"
             ],
             [
              0.3333333333333333,
              "#9c179e"
             ],
             [
              0.4444444444444444,
              "#bd3786"
             ],
             [
              0.5555555555555556,
              "#d8576b"
             ],
             [
              0.6666666666666666,
              "#ed7953"
             ],
             [
              0.7777777777777778,
              "#fb9f3a"
             ],
             [
              0.8888888888888888,
              "#fdca26"
             ],
             [
              1,
              "#f0f921"
             ]
            ],
            "type": "heatmapgl"
           }
          ],
          "histogram": [
           {
            "marker": {
             "pattern": {
              "fillmode": "overlay",
              "size": 10,
              "solidity": 0.2
             }
            },
            "type": "histogram"
           }
          ],
          "histogram2d": [
           {
            "colorbar": {
             "outlinewidth": 0,
             "ticks": ""
            },
            "colorscale": [
             [
              0,
              "#0d0887"
             ],
             [
              0.1111111111111111,
              "#46039f"
             ],
             [
              0.2222222222222222,
              "#7201a8"
             ],
             [
              0.3333333333333333,
              "#9c179e"
             ],
             [
              0.4444444444444444,
              "#bd3786"
             ],
             [
              0.5555555555555556,
              "#d8576b"
             ],
             [
              0.6666666666666666,
              "#ed7953"
             ],
             [
              0.7777777777777778,
              "#fb9f3a"
             ],
             [
              0.8888888888888888,
              "#fdca26"
             ],
             [
              1,
              "#f0f921"
             ]
            ],
            "type": "histogram2d"
           }
          ],
          "histogram2dcontour": [
           {
            "colorbar": {
             "outlinewidth": 0,
             "ticks": ""
            },
            "colorscale": [
             [
              0,
              "#0d0887"
             ],
             [
              0.1111111111111111,
              "#46039f"
             ],
             [
              0.2222222222222222,
              "#7201a8"
             ],
             [
              0.3333333333333333,
              "#9c179e"
             ],
             [
              0.4444444444444444,
              "#bd3786"
             ],
             [
              0.5555555555555556,
              "#d8576b"
             ],
             [
              0.6666666666666666,
              "#ed7953"
             ],
             [
              0.7777777777777778,
              "#fb9f3a"
             ],
             [
              0.8888888888888888,
              "#fdca26"
             ],
             [
              1,
              "#f0f921"
             ]
            ],
            "type": "histogram2dcontour"
           }
          ],
          "mesh3d": [
           {
            "colorbar": {
             "outlinewidth": 0,
             "ticks": ""
            },
            "type": "mesh3d"
           }
          ],
          "parcoords": [
           {
            "line": {
             "colorbar": {
              "outlinewidth": 0,
              "ticks": ""
             }
            },
            "type": "parcoords"
           }
          ],
          "pie": [
           {
            "automargin": true,
            "type": "pie"
           }
          ],
          "scatter": [
           {
            "fillpattern": {
             "fillmode": "overlay",
             "size": 10,
             "solidity": 0.2
            },
            "type": "scatter"
           }
          ],
          "scatter3d": [
           {
            "line": {
             "colorbar": {
              "outlinewidth": 0,
              "ticks": ""
             }
            },
            "marker": {
             "colorbar": {
              "outlinewidth": 0,
              "ticks": ""
             }
            },
            "type": "scatter3d"
           }
          ],
          "scattercarpet": [
           {
            "marker": {
             "colorbar": {
              "outlinewidth": 0,
              "ticks": ""
             }
            },
            "type": "scattercarpet"
           }
          ],
          "scattergeo": [
           {
            "marker": {
             "colorbar": {
              "outlinewidth": 0,
              "ticks": ""
             }
            },
            "type": "scattergeo"
           }
          ],
          "scattergl": [
           {
            "marker": {
             "colorbar": {
              "outlinewidth": 0,
              "ticks": ""
             }
            },
            "type": "scattergl"
           }
          ],
          "scattermapbox": [
           {
            "marker": {
             "colorbar": {
              "outlinewidth": 0,
              "ticks": ""
             }
            },
            "type": "scattermapbox"
           }
          ],
          "scatterpolar": [
           {
            "marker": {
             "colorbar": {
              "outlinewidth": 0,
              "ticks": ""
             }
            },
            "type": "scatterpolar"
           }
          ],
          "scatterpolargl": [
           {
            "marker": {
             "colorbar": {
              "outlinewidth": 0,
              "ticks": ""
             }
            },
            "type": "scatterpolargl"
           }
          ],
          "scatterternary": [
           {
            "marker": {
             "colorbar": {
              "outlinewidth": 0,
              "ticks": ""
             }
            },
            "type": "scatterternary"
           }
          ],
          "surface": [
           {
            "colorbar": {
             "outlinewidth": 0,
             "ticks": ""
            },
            "colorscale": [
             [
              0,
              "#0d0887"
             ],
             [
              0.1111111111111111,
              "#46039f"
             ],
             [
              0.2222222222222222,
              "#7201a8"
             ],
             [
              0.3333333333333333,
              "#9c179e"
             ],
             [
              0.4444444444444444,
              "#bd3786"
             ],
             [
              0.5555555555555556,
              "#d8576b"
             ],
             [
              0.6666666666666666,
              "#ed7953"
             ],
             [
              0.7777777777777778,
              "#fb9f3a"
             ],
             [
              0.8888888888888888,
              "#fdca26"
             ],
             [
              1,
              "#f0f921"
             ]
            ],
            "type": "surface"
           }
          ],
          "table": [
           {
            "cells": {
             "fill": {
              "color": "#EBF0F8"
             },
             "line": {
              "color": "white"
             }
            },
            "header": {
             "fill": {
              "color": "#C8D4E3"
             },
             "line": {
              "color": "white"
             }
            },
            "type": "table"
           }
          ]
         },
         "layout": {
          "annotationdefaults": {
           "arrowcolor": "#2a3f5f",
           "arrowhead": 0,
           "arrowwidth": 1
          },
          "autotypenumbers": "strict",
          "coloraxis": {
           "colorbar": {
            "outlinewidth": 0,
            "ticks": ""
           }
          },
          "colorscale": {
           "diverging": [
            [
             0,
             "#8e0152"
            ],
            [
             0.1,
             "#c51b7d"
            ],
            [
             0.2,
             "#de77ae"
            ],
            [
             0.3,
             "#f1b6da"
            ],
            [
             0.4,
             "#fde0ef"
            ],
            [
             0.5,
             "#f7f7f7"
            ],
            [
             0.6,
             "#e6f5d0"
            ],
            [
             0.7,
             "#b8e186"
            ],
            [
             0.8,
             "#7fbc41"
            ],
            [
             0.9,
             "#4d9221"
            ],
            [
             1,
             "#276419"
            ]
           ],
           "sequential": [
            [
             0,
             "#0d0887"
            ],
            [
             0.1111111111111111,
             "#46039f"
            ],
            [
             0.2222222222222222,
             "#7201a8"
            ],
            [
             0.3333333333333333,
             "#9c179e"
            ],
            [
             0.4444444444444444,
             "#bd3786"
            ],
            [
             0.5555555555555556,
             "#d8576b"
            ],
            [
             0.6666666666666666,
             "#ed7953"
            ],
            [
             0.7777777777777778,
             "#fb9f3a"
            ],
            [
             0.8888888888888888,
             "#fdca26"
            ],
            [
             1,
             "#f0f921"
            ]
           ],
           "sequentialminus": [
            [
             0,
             "#0d0887"
            ],
            [
             0.1111111111111111,
             "#46039f"
            ],
            [
             0.2222222222222222,
             "#7201a8"
            ],
            [
             0.3333333333333333,
             "#9c179e"
            ],
            [
             0.4444444444444444,
             "#bd3786"
            ],
            [
             0.5555555555555556,
             "#d8576b"
            ],
            [
             0.6666666666666666,
             "#ed7953"
            ],
            [
             0.7777777777777778,
             "#fb9f3a"
            ],
            [
             0.8888888888888888,
             "#fdca26"
            ],
            [
             1,
             "#f0f921"
            ]
           ]
          },
          "colorway": [
           "#636efa",
           "#EF553B",
           "#00cc96",
           "#ab63fa",
           "#FFA15A",
           "#19d3f3",
           "#FF6692",
           "#B6E880",
           "#FF97FF",
           "#FECB52"
          ],
          "font": {
           "color": "#2a3f5f"
          },
          "geo": {
           "bgcolor": "white",
           "lakecolor": "white",
           "landcolor": "#E5ECF6",
           "showlakes": true,
           "showland": true,
           "subunitcolor": "white"
          },
          "hoverlabel": {
           "align": "left"
          },
          "hovermode": "closest",
          "mapbox": {
           "style": "light"
          },
          "paper_bgcolor": "white",
          "plot_bgcolor": "#E5ECF6",
          "polar": {
           "angularaxis": {
            "gridcolor": "white",
            "linecolor": "white",
            "ticks": ""
           },
           "bgcolor": "#E5ECF6",
           "radialaxis": {
            "gridcolor": "white",
            "linecolor": "white",
            "ticks": ""
           }
          },
          "scene": {
           "xaxis": {
            "backgroundcolor": "#E5ECF6",
            "gridcolor": "white",
            "gridwidth": 2,
            "linecolor": "white",
            "showbackground": true,
            "ticks": "",
            "zerolinecolor": "white"
           },
           "yaxis": {
            "backgroundcolor": "#E5ECF6",
            "gridcolor": "white",
            "gridwidth": 2,
            "linecolor": "white",
            "showbackground": true,
            "ticks": "",
            "zerolinecolor": "white"
           },
           "zaxis": {
            "backgroundcolor": "#E5ECF6",
            "gridcolor": "white",
            "gridwidth": 2,
            "linecolor": "white",
            "showbackground": true,
            "ticks": "",
            "zerolinecolor": "white"
           }
          },
          "shapedefaults": {
           "line": {
            "color": "#2a3f5f"
           }
          },
          "ternary": {
           "aaxis": {
            "gridcolor": "white",
            "linecolor": "white",
            "ticks": ""
           },
           "baxis": {
            "gridcolor": "white",
            "linecolor": "white",
            "ticks": ""
           },
           "bgcolor": "#E5ECF6",
           "caxis": {
            "gridcolor": "white",
            "linecolor": "white",
            "ticks": ""
           }
          },
          "title": {
           "x": 0.05
          },
          "xaxis": {
           "automargin": true,
           "gridcolor": "white",
           "linecolor": "white",
           "ticks": "",
           "title": {
            "standoff": 15
           },
           "zerolinecolor": "white",
           "zerolinewidth": 2
          },
          "yaxis": {
           "automargin": true,
           "gridcolor": "white",
           "linecolor": "white",
           "ticks": "",
           "title": {
            "standoff": 15
           },
           "zerolinecolor": "white",
           "zerolinewidth": 2
          }
         }
        },
        "xaxis": {
         "anchor": "y",
         "domain": [
          0,
          0.7363
         ],
         "title": {
          "text": "event F1"
         }
        },
        "xaxis2": {
         "anchor": "y2",
         "domain": [
          0.7413,
          1
         ],
         "matches": "x2",
         "showgrid": true,
         "showline": false,
         "showticklabels": false,
         "ticks": ""
        },
        "yaxis": {
         "anchor": "x",
         "domain": [
          0,
          1
         ],
         "title": {
          "text": "value"
         }
        },
        "yaxis2": {
         "anchor": "x2",
         "domain": [
          0,
          1
         ],
         "matches": "y",
         "showgrid": true,
         "showticklabels": false
        }
       }
      }
     },
     "metadata": {},
     "output_type": "display_data"
    }
   ],
   "source": [
    "fig=px.scatter(visualTradeoff,x='event F1',y='value',color='metric', marginal_y=\"histogram\")\n",
    "fig.add_trace(\n",
    "    go.Scatter(x=experimentModels['eventF1'], y=experimentModels['eventF1'], name=\"identity\", mode='lines',fill=\"toself\")\n",
    ")\n",
    "fig.show()"
   ]
  },
  {
   "cell_type": "code",
   "execution_count": 44,
   "metadata": {},
   "outputs": [
    {
     "data": {
      "application/vnd.plotly.v1+json": {
       "config": {
        "plotlyServerURL": "https://plot.ly"
       },
       "data": [
        {
         "customdata": [
          [
           false,
           true,
           null,
           3,
           "out",
           0,
           "NA",
           0
          ],
          [
           true,
           false,
           null,
           3,
           "out",
           0.43333333333333335,
           2,
           1
          ],
          [
           true,
           false,
           null,
           3,
           "out",
           0.4936708860759494,
           6,
           2
          ],
          [
           true,
           false,
           null,
           3,
           "out",
           0.41237113402061853,
           7,
           3
          ],
          [
           true,
           false,
           null,
           3,
           "out",
           0.9020618556701031,
           8,
           4
          ],
          [
           true,
           false,
           null,
           3,
           "out",
           0.7239263803680982,
           9,
           5
          ],
          [
           false,
           true,
           null,
           3,
           "out",
           0,
           "NA",
           6
          ],
          [
           true,
           false,
           null,
           3,
           "out",
           0.3933649289099526,
           10,
           7
          ],
          [
           false,
           true,
           null,
           3,
           "out",
           0,
           "NA",
           8
          ],
          [
           true,
           false,
           null,
           3,
           "out",
           0.7259615384615384,
           11,
           9
          ],
          [
           true,
           false,
           null,
           3,
           "out",
           0.5021834061135371,
           12,
           10
          ],
          [
           true,
           false,
           null,
           3,
           "out",
           0.6801801801801802,
           13,
           11
          ],
          [
           true,
           false,
           null,
           3,
           "out",
           0.36893203883495146,
           14,
           12
          ],
          [
           true,
           false,
           null,
           3,
           "out",
           0.6319702602230484,
           15,
           13
          ],
          [
           true,
           false,
           null,
           3,
           "out",
           0.559228650137741,
           16,
           14
          ],
          [
           true,
           false,
           null,
           3,
           "out",
           0.6209150326797386,
           17,
           15
          ],
          [
           true,
           false,
           null,
           3,
           "out",
           0.48936170212765956,
           18,
           16
          ],
          [
           false,
           true,
           null,
           3,
           "out",
           0.23737373737373738,
           19,
           17
          ],
          [
           true,
           false,
           null,
           3,
           "out",
           0.6401869158878505,
           20,
           18
          ],
          [
           false,
           true,
           null,
           3,
           "out",
           0.15789473684210525,
           21,
           19
          ],
          [
           false,
           true,
           null,
           3,
           "out",
           0,
           "NA",
           20
          ],
          [
           true,
           false,
           null,
           3,
           "out",
           0.8558139534883721,
           23,
           21
          ],
          [
           false,
           true,
           null,
           3,
           "out",
           0,
           "NA",
           22
          ],
          [
           false,
           true,
           null,
           3,
           "out",
           0,
           "NA",
           23
          ],
          [
           true,
           false,
           null,
           3,
           "out",
           0.5951417004048583,
           24,
           24
          ],
          [
           true,
           false,
           null,
           3,
           "out",
           0.6543778801843319,
           25,
           25
          ],
          [
           true,
           false,
           null,
           3,
           "out",
           0.5445544554455446,
           26,
           26
          ],
          [
           true,
           false,
           null,
           3,
           "out",
           0.8371428571428572,
           27,
           27
          ],
          [
           true,
           false,
           null,
           3,
           "out",
           0.823170731707317,
           28,
           28
          ],
          [
           true,
           false,
           null,
           3,
           "out",
           0.5460122699386503,
           29,
           29
          ],
          [
           true,
           false,
           null,
           3,
           "out",
           0.6321070234113713,
           31,
           30
          ],
          [
           false,
           true,
           null,
           3,
           "out",
           0,
           "NA",
           31
          ],
          [
           true,
           false,
           null,
           3,
           "out",
           0.849624060150376,
           32,
           32
          ],
          [
           true,
           false,
           null,
           3,
           "out",
           0.8743718592964824,
           33,
           33
          ],
          [
           true,
           false,
           null,
           3,
           "out",
           0.8023952095808383,
           34,
           34
          ],
          [
           false,
           true,
           null,
           3,
           "out",
           0,
           "NA",
           35
          ],
          [
           false,
           true,
           null,
           3,
           "out",
           0,
           "NA",
           36
          ],
          [
           true,
           false,
           null,
           3,
           "out",
           0.9272151898734177,
           39,
           37
          ],
          [
           true,
           false,
           null,
           3,
           "out",
           0.42105263157894735,
           40,
           38
          ],
          [
           false,
           true,
           null,
           3,
           "out",
           0,
           "NA",
           39
          ],
          [
           true,
           false,
           null,
           3,
           "out",
           0.6341463414634146,
           42,
           40
          ],
          [
           true,
           false,
           null,
           3,
           "out",
           0.9447852760736196,
           43,
           41
          ],
          [
           true,
           false,
           null,
           3,
           "out",
           0.8395061728395061,
           44,
           42
          ],
          [
           true,
           false,
           null,
           3,
           "out",
           0.6721311475409836,
           45,
           43
          ],
          [
           true,
           false,
           null,
           3,
           "out",
           0.4703196347031963,
           46,
           44
          ],
          [
           false,
           true,
           null,
           3,
           "out",
           0,
           "NA",
           45
          ],
          [
           true,
           false,
           null,
           3,
           "out",
           0.625,
           48,
           46
          ],
          [
           true,
           false,
           null,
           3,
           "out",
           0.47808764940239046,
           49,
           47
          ],
          [
           true,
           false,
           null,
           3,
           "out",
           0.9325153374233128,
           50,
           48
          ],
          [
           true,
           false,
           null,
           3,
           "out",
           0.72,
           51,
           49
          ],
          [
           false,
           true,
           null,
           3,
           "out",
           0,
           "NA",
           50
          ],
          [
           true,
           false,
           null,
           3,
           "out",
           0.3657957244655582,
           54,
           51
          ],
          [
           true,
           false,
           null,
           3,
           "out",
           0.9638009049773756,
           55,
           52
          ],
          [
           true,
           false,
           null,
           3,
           "out",
           0.8418604651162791,
           56,
           53
          ],
          [
           true,
           false,
           null,
           3,
           "out",
           0.5665529010238908,
           57,
           54
          ],
          [
           true,
           false,
           null,
           3,
           "out",
           0.5251396648044693,
           58,
           55
          ],
          [
           true,
           false,
           null,
           3,
           "out",
           0.8120805369127517,
           59,
           56
          ],
          [
           true,
           false,
           null,
           3,
           "out",
           0.6521739130434783,
           60,
           57
          ],
          [
           true,
           false,
           null,
           3,
           "out",
           0.7724550898203593,
           61,
           58
          ],
          [
           true,
           false,
           null,
           3,
           "out",
           0.8613861386138614,
           62,
           59
          ],
          [
           true,
           false,
           null,
           3,
           "out",
           0.5273972602739726,
           63,
           60
          ],
          [
           false,
           true,
           null,
           3,
           "out",
           0,
           "NA",
           61
          ],
          [
           true,
           false,
           null,
           3,
           "out",
           0.3079470198675497,
           64,
           62
          ],
          [
           true,
           false,
           null,
           3,
           "out",
           0.6046511627906976,
           65,
           63
          ],
          [
           true,
           false,
           null,
           3,
           "out",
           0.7484076433121019,
           67,
           64
          ],
          [
           true,
           false,
           null,
           3,
           "out",
           0.8914728682170543,
           68,
           65
          ],
          [
           true,
           false,
           null,
           3,
           "out",
           0.7411764705882353,
           69,
           66
          ],
          [
           true,
           false,
           null,
           3,
           "out",
           0.5364963503649635,
           70,
           67
          ],
          [
           true,
           false,
           null,
           3,
           "out",
           0.6967213114754098,
           71,
           68
          ],
          [
           true,
           false,
           null,
           3,
           "out",
           0.6060606060606061,
           72,
           69
          ],
          [
           true,
           false,
           null,
           3,
           "out",
           0.3719512195121951,
           73,
           70
          ],
          [
           true,
           false,
           null,
           3,
           "out",
           0.5944055944055944,
           74,
           71
          ],
          [
           true,
           false,
           null,
           3,
           "out",
           0.8493150684931506,
           75,
           72
          ],
          [
           true,
           false,
           null,
           3,
           "out",
           0.4124293785310734,
           77,
           73
          ],
          [
           true,
           false,
           null,
           3,
           "out",
           0.9848484848484849,
           78,
           74
          ],
          [
           false,
           true,
           null,
           3,
           "out",
           0.0942622950819672,
           80,
           75
          ],
          [
           true,
           false,
           null,
           3,
           "out",
           0.6144578313253012,
           81,
           76
          ],
          [
           true,
           false,
           null,
           3,
           "out",
           0.8116591928251121,
           82,
           77
          ],
          [
           false,
           true,
           null,
           3,
           "out",
           0,
           "NA",
           78
          ],
          [
           true,
           false,
           null,
           3,
           "out",
           0.7941176470588235,
           83,
           79
          ],
          [
           true,
           false,
           null,
           3,
           "out",
           0.45108695652173914,
           84,
           80
          ],
          [
           false,
           true,
           null,
           3,
           "out",
           0,
           "NA",
           81
          ],
          [
           true,
           false,
           null,
           3,
           "out",
           0.7859649122807018,
           85,
           82
          ],
          [
           true,
           false,
           null,
           3,
           "out",
           0.38461538461538464,
           86,
           83
          ],
          [
           true,
           false,
           null,
           3,
           "out",
           0.5214521452145214,
           87,
           84
          ],
          [
           true,
           false,
           null,
           3,
           "out",
           0.888,
           88,
           85
          ],
          [
           true,
           false,
           null,
           3,
           "out",
           0.7732558139534884,
           89,
           86
          ],
          [
           false,
           true,
           null,
           3,
           "out",
           0,
           "NA",
           87
          ],
          [
           true,
           false,
           null,
           3,
           "out",
           0.30603448275862066,
           90,
           88
          ],
          [
           true,
           false,
           null,
           3,
           "out",
           0.8837209302325582,
           91,
           89
          ],
          [
           true,
           false,
           null,
           3,
           "out",
           0.6496815286624203,
           93,
           90
          ],
          [
           true,
           false,
           null,
           3,
           "out",
           0.6438356164383562,
           94,
           91
          ],
          [
           false,
           true,
           null,
           3,
           "out",
           0,
           "NA",
           92
          ],
          [
           false,
           true,
           null,
           3,
           "out",
           0.05263157894736842,
           95,
           93
          ],
          [
           false,
           true,
           null,
           3,
           "out",
           0,
           "NA",
           94
          ],
          [
           true,
           false,
           null,
           3,
           "out",
           0.6888888888888889,
           100,
           95
          ],
          [
           false,
           true,
           null,
           3,
           "out",
           0,
           "NA",
           96
          ],
          [
           true,
           false,
           null,
           3,
           "out",
           0.88,
           101,
           97
          ],
          [
           true,
           false,
           null,
           3,
           "out",
           0.4825174825174825,
           102,
           98
          ],
          [
           true,
           false,
           null,
           3,
           "out",
           0.7131782945736435,
           103,
           99
          ],
          [
           true,
           false,
           null,
           3,
           "out",
           0.8232323232323232,
           105,
           100
          ],
          [
           true,
           false,
           null,
           3,
           "out",
           0.764,
           106,
           101
          ],
          [
           true,
           false,
           null,
           3,
           "out",
           0.6845878136200717,
           107,
           102
          ],
          [
           true,
           false,
           null,
           3,
           "out",
           0.7219512195121951,
           108,
           103
          ],
          [
           true,
           false,
           null,
           3,
           "out",
           0.39759036144578314,
           109,
           104
          ],
          [
           true,
           false,
           null,
           3,
           "out",
           0.3003412969283277,
           110,
           105
          ],
          [
           true,
           false,
           null,
           3,
           "out",
           0.8321678321678322,
           111,
           106
          ],
          [
           false,
           true,
           null,
           3,
           "out",
           0.2084942084942085,
           112,
           107
          ],
          [
           true,
           false,
           null,
           3,
           "out",
           0.4684385382059801,
           112,
           108
          ],
          [
           true,
           false,
           null,
           3,
           "out",
           0.9071428571428571,
           114,
           109
          ],
          [
           false,
           true,
           null,
           3,
           "out",
           0,
           "NA",
           110
          ],
          [
           true,
           false,
           null,
           3,
           "out",
           0.851063829787234,
           115,
           111
          ],
          [
           false,
           true,
           null,
           3,
           "out",
           0,
           "NA",
           112
          ],
          [
           false,
           true,
           null,
           3,
           "out",
           0,
           "NA",
           113
          ],
          [
           false,
           true,
           null,
           3,
           "out",
           0,
           "NA",
           114
          ],
          [
           false,
           true,
           null,
           3,
           "out",
           0,
           "NA",
           115
          ],
          [
           true,
           false,
           null,
           3,
           "out",
           0.7981651376146789,
           117,
           116
          ],
          [
           true,
           false,
           null,
           3,
           "out",
           0.5182926829268293,
           118,
           117
          ],
          [
           true,
           false,
           null,
           3,
           "out",
           0.7278481012658228,
           119,
           118
          ],
          [
           true,
           false,
           null,
           3,
           "out",
           0.7055016181229773,
           120,
           119
          ],
          [
           true,
           false,
           null,
           3,
           "out",
           0.6894409937888198,
           121,
           120
          ],
          [
           true,
           false,
           null,
           3,
           "out",
           0.6493506493506493,
           122,
           121
          ],
          [
           true,
           false,
           null,
           3,
           "out",
           0.4208860759493671,
           123,
           122
          ],
          [
           true,
           false,
           null,
           3,
           "out",
           0.8267477203647416,
           124,
           123
          ],
          [
           true,
           false,
           null,
           3,
           "out",
           0.8083832335329342,
           125,
           124
          ],
          [
           false,
           true,
           null,
           3,
           "out",
           0,
           "NA",
           125
          ],
          [
           true,
           false,
           null,
           3,
           "out",
           0.7098039215686275,
           127,
           126
          ],
          [
           true,
           false,
           null,
           3,
           "out",
           0.7821229050279329,
           128,
           127
          ],
          [
           false,
           true,
           null,
           3,
           "out",
           0,
           "NA",
           128
          ],
          [
           true,
           false,
           null,
           3,
           "out",
           0.8208333333333333,
           129,
           129
          ],
          [
           true,
           false,
           null,
           3,
           "out",
           0.6272189349112426,
           130,
           130
          ],
          [
           true,
           false,
           null,
           3,
           "out",
           0.86875,
           131,
           131
          ],
          [
           true,
           false,
           null,
           3,
           "out",
           0.7272727272727273,
           132,
           132
          ],
          [
           false,
           true,
           null,
           3,
           "out",
           0,
           "NA",
           133
          ],
          [
           false,
           true,
           null,
           3,
           "out",
           0,
           "NA",
           134
          ],
          [
           true,
           false,
           null,
           3,
           "out",
           0.8934010152284264,
           133,
           135
          ],
          [
           false,
           true,
           null,
           3,
           "out",
           0,
           "NA",
           136
          ],
          [
           true,
           false,
           null,
           3,
           "out",
           0.6387434554973822,
           134,
           137
          ],
          [
           true,
           false,
           null,
           3,
           "out",
           0.9424460431654677,
           135,
           138
          ],
          [
           false,
           true,
           null,
           3,
           "out",
           0,
           "NA",
           139
          ],
          [
           false,
           true,
           null,
           3,
           "out",
           0,
           "NA",
           140
          ],
          [
           false,
           true,
           null,
           3,
           "out",
           0,
           "NA",
           141
          ],
          [
           false,
           true,
           null,
           3,
           "out",
           0,
           "NA",
           142
          ],
          [
           true,
           false,
           null,
           3,
           "out",
           0.9711538461538461,
           136,
           143
          ],
          [
           false,
           true,
           null,
           3,
           "out",
           0,
           "NA",
           144
          ],
          [
           false,
           true,
           null,
           3,
           "out",
           0,
           "NA",
           145
          ],
          [
           true,
           false,
           null,
           3,
           "out",
           0.8395061728395061,
           138,
           146
          ],
          [
           true,
           false,
           null,
           3,
           "out",
           0.875,
           139,
           147
          ],
          [
           false,
           true,
           null,
           3,
           "out",
           0,
           "NA",
           148
          ],
          [
           true,
           false,
           null,
           3,
           "out",
           0.6446700507614214,
           140,
           149
          ],
          [
           true,
           false,
           null,
           3,
           "out",
           0.41904761904761906,
           141,
           150
          ],
          [
           true,
           false,
           null,
           3,
           "out",
           0.8377192982456141,
           142,
           151
          ],
          [
           true,
           false,
           null,
           3,
           "out",
           0.9354838709677419,
           143,
           152
          ],
          [
           false,
           true,
           null,
           3,
           "out",
           0,
           "NA",
           153
          ],
          [
           false,
           true,
           null,
           3,
           "out",
           0,
           "NA",
           154
          ],
          [
           true,
           false,
           null,
           3,
           "out",
           0.8114035087719298,
           145,
           155
          ],
          [
           true,
           false,
           null,
           3,
           "out",
           0.664,
           147,
           156
          ],
          [
           true,
           false,
           null,
           3,
           "out",
           0.7183673469387755,
           148,
           157
          ],
          [
           false,
           true,
           null,
           3,
           "out",
           0,
           "NA",
           158
          ],
          [
           true,
           false,
           null,
           3,
           "out",
           0.4844559585492228,
           150,
           159
          ],
          [
           true,
           false,
           null,
           3,
           "out",
           0.5045045045045045,
           151,
           160
          ],
          [
           true,
           false,
           null,
           3,
           "out",
           0.5233333333333333,
           152,
           161
          ],
          [
           false,
           true,
           null,
           3,
           "out",
           0.29380053908355797,
           152,
           162
          ],
          [
           true,
           false,
           null,
           3,
           "out",
           0.6726190476190477,
           153,
           163
          ],
          [
           true,
           false,
           null,
           3,
           "out",
           0.7516778523489933,
           155,
           164
          ],
          [
           true,
           false,
           null,
           3,
           "out",
           0.8053435114503816,
           156,
           165
          ],
          [
           false,
           true,
           null,
           3,
           "out",
           0,
           "NA",
           166
          ],
          [
           true,
           false,
           null,
           3,
           "out",
           0.7391304347826086,
           157,
           167
          ],
          [
           true,
           false,
           null,
           3,
           "out",
           0.7025862068965517,
           158,
           168
          ],
          [
           true,
           false,
           null,
           3,
           "out",
           0.8673469387755102,
           160,
           169
          ],
          [
           true,
           false,
           null,
           3,
           "out",
           0.8202764976958525,
           161,
           170
          ],
          [
           false,
           true,
           null,
           3,
           "out",
           0,
           "NA",
           171
          ],
          [
           true,
           false,
           null,
           3,
           "out",
           0.8128342245989305,
           162,
           172
          ],
          [
           true,
           false,
           null,
           3,
           "out",
           0.6111111111111112,
           163,
           173
          ],
          [
           true,
           false,
           null,
           3,
           "out",
           0.7876447876447876,
           164,
           174
          ],
          [
           true,
           false,
           null,
           3,
           "out",
           0.7635135135135135,
           166,
           175
          ],
          [
           true,
           false,
           null,
           3,
           "out",
           0.7891156462585034,
           167,
           176
          ],
          [
           true,
           false,
           null,
           3,
           "out",
           0.7938931297709924,
           168,
           177
          ],
          [
           false,
           true,
           null,
           3,
           "out",
           0,
           "NA",
           178
          ],
          [
           true,
           false,
           null,
           3,
           "out",
           0.7094017094017094,
           169,
           179
          ],
          [
           true,
           false,
           null,
           3,
           "out",
           0.7674418604651163,
           170,
           180
          ],
          [
           true,
           false,
           null,
           3,
           "out",
           0.6484018264840182,
           171,
           181
          ],
          [
           true,
           false,
           null,
           3,
           "out",
           0.7235023041474654,
           173,
           182
          ],
          [
           false,
           true,
           null,
           3,
           "out",
           0,
           "NA",
           183
          ],
          [
           true,
           false,
           null,
           3,
           "out",
           0.8961937716262975,
           174,
           184
          ],
          [
           false,
           true,
           null,
           3,
           "out",
           0,
           "NA",
           185
          ],
          [
           true,
           false,
           null,
           3,
           "out",
           0.8351648351648352,
           175,
           186
          ],
          [
           true,
           false,
           null,
           3,
           "out",
           0.6681222707423581,
           176,
           187
          ],
          [
           true,
           false,
           null,
           3,
           "out",
           0.34718100890207715,
           177,
           188
          ],
          [
           false,
           true,
           null,
           3,
           "out",
           0,
           "NA",
           189
          ],
          [
           true,
           false,
           null,
           3,
           "out",
           0.8763636363636363,
           179,
           190
          ],
          [
           true,
           false,
           null,
           3,
           "out",
           0.7293577981651376,
           180,
           191
          ],
          [
           false,
           true,
           null,
           3,
           "out",
           0,
           "NA",
           192
          ],
          [
           true,
           false,
           null,
           3,
           "out",
           0.7373737373737373,
           181,
           193
          ],
          [
           true,
           false,
           null,
           3,
           "out",
           0.7336448598130841,
           182,
           194
          ],
          [
           false,
           true,
           null,
           3,
           "out",
           0,
           "NA",
           195
          ],
          [
           true,
           false,
           null,
           3,
           "out",
           0.60625,
           184,
           196
          ],
          [
           true,
           false,
           null,
           3,
           "out",
           0.5930232558139535,
           185,
           197
          ],
          [
           true,
           false,
           null,
           3,
           "out",
           0.5892857142857143,
           187,
           198
          ],
          [
           false,
           true,
           null,
           3,
           "out",
           0,
           "NA",
           199
          ],
          [
           true,
           false,
           null,
           3,
           "out",
           0.6149732620320856,
           189,
           200
          ],
          [
           false,
           true,
           null,
           3,
           "out",
           0,
           "NA",
           201
          ],
          [
           false,
           true,
           null,
           3,
           "out",
           0,
           "NA",
           202
          ],
          [
           false,
           true,
           null,
           3,
           "out",
           0,
           "NA",
           203
          ],
          [
           true,
           false,
           null,
           3,
           "out",
           0.68125,
           190,
           204
          ],
          [
           true,
           false,
           null,
           3,
           "out",
           0.732484076433121,
           191,
           205
          ],
          [
           true,
           false,
           null,
           3,
           "out",
           0.8818897637795275,
           192,
           206
          ],
          [
           true,
           false,
           null,
           3,
           "out",
           0.6115702479338843,
           193,
           207
          ],
          [
           true,
           false,
           null,
           3,
           "out",
           0.7969348659003831,
           194,
           208
          ],
          [
           true,
           false,
           null,
           3,
           "out",
           0.8962264150943396,
           195,
           209
          ],
          [
           false,
           true,
           null,
           3,
           "out",
           0,
           "NA",
           210
          ],
          [
           true,
           false,
           null,
           3,
           "out",
           0.9653465346534653,
           196,
           211
          ],
          [
           false,
           true,
           null,
           3,
           "out",
           0,
           "NA",
           212
          ],
          [
           true,
           false,
           null,
           3,
           "out",
           0.8221153846153846,
           197,
           213
          ],
          [
           true,
           false,
           null,
           3,
           "out",
           0.7839195979899497,
           198,
           214
          ],
          [
           true,
           false,
           null,
           3,
           "out",
           0.9540229885057471,
           199,
           215
          ],
          [
           true,
           false,
           null,
           3,
           "out",
           0.82,
           200,
           216
          ],
          [
           true,
           false,
           null,
           3,
           "out",
           0.6892655367231638,
           201,
           217
          ],
          [
           true,
           false,
           null,
           3,
           "out",
           0.5898305084745763,
           202,
           218
          ],
          [
           true,
           false,
           null,
           3,
           "out",
           0.8382352941176471,
           203,
           219
          ],
          [
           false,
           true,
           null,
           3,
           "out",
           0,
           "NA",
           220
          ],
          [
           false,
           true,
           null,
           3,
           "out",
           0,
           "NA",
           221
          ],
          [
           true,
           false,
           null,
           3,
           "out",
           0.7647058823529411,
           205,
           222
          ],
          [
           true,
           false,
           null,
           3,
           "out",
           0.9244444444444444,
           206,
           223
          ],
          [
           true,
           false,
           null,
           3,
           "out",
           0.5534591194968553,
           207,
           224
          ],
          [
           true,
           false,
           null,
           3,
           "out",
           0.5906432748538012,
           208,
           225
          ],
          [
           true,
           false,
           null,
           3,
           "out",
           0.5689655172413793,
           209,
           226
          ],
          [
           true,
           false,
           null,
           3,
           "out",
           0.632768361581921,
           210,
           227
          ],
          [
           true,
           false,
           null,
           3,
           "out",
           0.7463414634146341,
           211,
           228
          ],
          [
           true,
           false,
           null,
           3,
           "out",
           0.813953488372093,
           212,
           229
          ],
          [
           true,
           false,
           null,
           3,
           "out",
           0.7688442211055276,
           213,
           230
          ],
          [
           true,
           false,
           null,
           3,
           "out",
           0.846820809248555,
           214,
           231
          ],
          [
           true,
           false,
           null,
           3,
           "out",
           0.6958333333333333,
           215,
           232
          ],
          [
           true,
           false,
           null,
           3,
           "out",
           0.8254545454545454,
           216,
           233
          ],
          [
           true,
           false,
           null,
           3,
           "out",
           0.5529801324503312,
           217,
           234
          ],
          [
           true,
           false,
           null,
           3,
           "out",
           0.7596153846153846,
           218,
           235
          ],
          [
           false,
           true,
           null,
           3,
           "out",
           0,
           "NA",
           236
          ],
          [
           true,
           false,
           null,
           3,
           "out",
           0.8141592920353983,
           219,
           237
          ],
          [
           false,
           true,
           null,
           3,
           "out",
           0,
           "NA",
           238
          ],
          [
           false,
           true,
           null,
           3,
           "out",
           0,
           "NA",
           239
          ],
          [
           true,
           false,
           null,
           3,
           "out",
           0.9174757281553398,
           220,
           240
          ],
          [
           true,
           false,
           null,
           3,
           "out",
           0.7861271676300579,
           221,
           241
          ],
          [
           false,
           true,
           null,
           3,
           "out",
           0,
           "NA",
           242
          ],
          [
           true,
           false,
           null,
           3,
           "out",
           0.5223214285714286,
           222,
           243
          ],
          [
           false,
           true,
           null,
           3,
           "out",
           0,
           "NA",
           244
          ],
          [
           true,
           false,
           null,
           3,
           "out",
           0.5869565217391305,
           223,
           245
          ],
          [
           true,
           false,
           null,
           3,
           "out",
           0.8244897959183674,
           224,
           246
          ],
          [
           false,
           true,
           null,
           3,
           "out",
           0,
           "NA",
           247
          ],
          [
           false,
           true,
           null,
           3,
           "out",
           0,
           "NA",
           248
          ],
          [
           false,
           true,
           null,
           3,
           "out",
           0,
           "NA",
           249
          ],
          [
           false,
           true,
           null,
           3,
           "out",
           0,
           "NA",
           250
          ],
          [
           true,
           false,
           null,
           3,
           "out",
           0.8372093023255814,
           225,
           251
          ],
          [
           false,
           true,
           null,
           3,
           "out",
           0,
           "NA",
           252
          ],
          [
           false,
           true,
           null,
           3,
           "out",
           0,
           "NA",
           253
          ],
          [
           true,
           false,
           null,
           3,
           "out",
           0.9301075268817204,
           226,
           254
          ],
          [
           true,
           false,
           null,
           3,
           "out",
           0.8125,
           227,
           255
          ],
          [
           true,
           false,
           null,
           3,
           "out",
           0.3438914027149321,
           228,
           256
          ],
          [
           true,
           false,
           null,
           3,
           "out",
           0.7222222222222222,
           230,
           257
          ],
          [
           true,
           false,
           null,
           3,
           "out",
           0.4336917562724014,
           231,
           258
          ],
          [
           true,
           false,
           null,
           3,
           "out",
           0.6646341463414634,
           232,
           259
          ],
          [
           true,
           false,
           null,
           3,
           "out",
           0.7861271676300579,
           233,
           260
          ],
          [
           true,
           false,
           null,
           3,
           "out",
           0.8181818181818182,
           234,
           261
          ],
          [
           true,
           false,
           null,
           3,
           "out",
           0.904320987654321,
           235,
           262
          ],
          [
           true,
           false,
           null,
           3,
           "out",
           0.7587719298245614,
           236,
           263
          ],
          [
           true,
           false,
           null,
           3,
           "out",
           0.6198347107438017,
           237,
           264
          ],
          [
           false,
           true,
           null,
           3,
           "out",
           0,
           "NA",
           265
          ],
          [
           true,
           false,
           null,
           3,
           "out",
           0.45054945054945056,
           238,
           266
          ],
          [
           true,
           false,
           null,
           3,
           "out",
           0.8878504672897196,
           239,
           267
          ],
          [
           true,
           false,
           null,
           3,
           "out",
           0.8687258687258688,
           240,
           268
          ],
          [
           false,
           true,
           null,
           3,
           "out",
           0,
           "NA",
           269
          ],
          [
           true,
           false,
           null,
           3,
           "out",
           0.8717948717948718,
           242,
           270
          ],
          [
           true,
           false,
           null,
           3,
           "out",
           0.8350515463917526,
           243,
           271
          ],
          [
           true,
           false,
           null,
           3,
           "out",
           0.5771428571428572,
           244,
           272
          ],
          [
           true,
           false,
           null,
           3,
           "out",
           0.7135135135135136,
           245,
           273
          ],
          [
           false,
           true,
           null,
           3,
           "out",
           0,
           "NA",
           274
          ],
          [
           false,
           true,
           null,
           3,
           "out",
           0,
           "NA",
           275
          ],
          [
           true,
           false,
           null,
           3,
           "out",
           0.8742857142857143,
           247,
           276
          ],
          [
           true,
           false,
           null,
           3,
           "out",
           0.6228813559322034,
           248,
           277
          ],
          [
           true,
           false,
           null,
           3,
           "out",
           0.8976744186046511,
           249,
           278
          ],
          [
           true,
           false,
           null,
           3,
           "out",
           0.7121212121212122,
           250,
           279
          ],
          [
           true,
           false,
           null,
           3,
           "out",
           0.8260869565217391,
           251,
           280
          ],
          [
           false,
           true,
           null,
           3,
           "out",
           0,
           "NA",
           281
          ],
          [
           true,
           false,
           null,
           3,
           "out",
           0.8,
           253,
           282
          ],
          [
           true,
           false,
           null,
           3,
           "out",
           0.5081967213114754,
           254,
           283
          ],
          [
           true,
           false,
           null,
           3,
           "out",
           0.8369098712446352,
           255,
           284
          ],
          [
           true,
           false,
           null,
           3,
           "out",
           0.8877005347593583,
           256,
           285
          ],
          [
           true,
           false,
           null,
           3,
           "out",
           0.6790697674418604,
           257,
           286
          ],
          [
           true,
           false,
           null,
           3,
           "out",
           0.567741935483871,
           258,
           287
          ],
          [
           true,
           false,
           null,
           3,
           "out",
           0.8333333333333334,
           259,
           288
          ],
          [
           true,
           false,
           null,
           3,
           "out",
           0.7477477477477478,
           260,
           289
          ],
          [
           false,
           true,
           null,
           3,
           "out",
           0,
           "NA",
           290
          ],
          [
           true,
           false,
           null,
           3,
           "out",
           0.8636363636363636,
           263,
           291
          ],
          [
           true,
           false,
           null,
           3,
           "out",
           0.802547770700637,
           265,
           292
          ],
          [
           true,
           false,
           null,
           3,
           "out",
           0.5924170616113744,
           266,
           293
          ],
          [
           true,
           false,
           null,
           3,
           "out",
           0.8202247191011236,
           268,
           294
          ],
          [
           true,
           false,
           null,
           3,
           "out",
           0.4943820224719101,
           269,
           295
          ],
          [
           false,
           true,
           null,
           3,
           "out",
           0,
           "NA",
           296
          ],
          [
           true,
           false,
           null,
           3,
           "out",
           0.6533333333333333,
           272,
           297
          ],
          [
           true,
           false,
           null,
           3,
           "out",
           0.9132653061224489,
           273,
           298
          ],
          [
           true,
           false,
           null,
           3,
           "out",
           0.6331658291457286,
           274,
           299
          ],
          [
           true,
           false,
           null,
           3,
           "out",
           0.6301369863013698,
           275,
           300
          ],
          [
           true,
           false,
           null,
           3,
           "out",
           0.5104895104895105,
           276,
           301
          ],
          [
           true,
           false,
           null,
           3,
           "out",
           0.8844221105527639,
           278,
           302
          ],
          [
           false,
           true,
           null,
           3,
           "out",
           0,
           "NA",
           303
          ],
          [
           false,
           true,
           null,
           3,
           "out",
           0,
           "NA",
           304
          ],
          [
           true,
           false,
           null,
           3,
           "out",
           0.8208955223880597,
           279,
           305
          ],
          [
           true,
           false,
           null,
           3,
           "out",
           0.7627906976744186,
           280,
           306
          ],
          [
           true,
           false,
           null,
           3,
           "out",
           0.9738562091503268,
           281,
           307
          ],
          [
           true,
           false,
           null,
           3,
           "out",
           0.7403508771929824,
           282,
           308
          ],
          [
           true,
           false,
           null,
           3,
           "out",
           0.7511520737327189,
           283,
           309
          ],
          [
           true,
           false,
           null,
           3,
           "out",
           0.8359375,
           284,
           310
          ],
          [
           false,
           true,
           null,
           3,
           "out",
           0,
           "NA",
           311
          ],
          [
           false,
           true,
           null,
           3,
           "out",
           0,
           "NA",
           312
          ],
          [
           false,
           true,
           null,
           3,
           "out",
           0,
           "NA",
           313
          ],
          [
           true,
           false,
           null,
           3,
           "out",
           0.6196319018404908,
           285,
           314
          ],
          [
           false,
           true,
           null,
           3,
           "out",
           0,
           "NA",
           315
          ],
          [
           false,
           true,
           null,
           3,
           "out",
           0,
           "NA",
           316
          ],
          [
           true,
           false,
           null,
           3,
           "out",
           0.819047619047619,
           286,
           317
          ],
          [
           true,
           false,
           null,
           3,
           "out",
           0.42207792207792205,
           287,
           318
          ],
          [
           false,
           true,
           null,
           3,
           "out",
           0,
           "NA",
           319
          ],
          [
           true,
           false,
           null,
           3,
           "out",
           0.5464285714285714,
           288,
           320
          ],
          [
           true,
           false,
           null,
           3,
           "out",
           0.7005988023952096,
           289,
           321
          ],
          [
           true,
           false,
           null,
           3,
           "out",
           0.9288888888888889,
           290,
           322
          ],
          [
           true,
           false,
           null,
           3,
           "out",
           0.6752136752136753,
           291,
           323
          ],
          [
           true,
           false,
           null,
           3,
           "out",
           0.8088235294117647,
           292,
           324
          ],
          [
           false,
           true,
           null,
           3,
           "out",
           0,
           "NA",
           325
          ],
          [
           false,
           true,
           null,
           3,
           "out",
           0,
           "NA",
           326
          ],
          [
           true,
           false,
           null,
           3,
           "out",
           0.43492063492063493,
           293,
           327
          ],
          [
           true,
           false,
           null,
           3,
           "out",
           0.84,
           294,
           328
          ],
          [
           true,
           false,
           null,
           3,
           "out",
           0.8489583333333334,
           295,
           329
          ],
          [
           true,
           false,
           null,
           3,
           "out",
           0.6722689075630253,
           296,
           330
          ],
          [
           true,
           false,
           null,
           3,
           "out",
           0.8220338983050848,
           297,
           331
          ],
          [
           true,
           false,
           null,
           3,
           "out",
           0.6486486486486487,
           298,
           332
          ],
          [
           false,
           true,
           null,
           3,
           "out",
           0,
           "NA",
           333
          ],
          [
           false,
           true,
           null,
           3,
           "out",
           0,
           "NA",
           334
          ],
          [
           true,
           false,
           null,
           3,
           "out",
           0.5843373493975904,
           299,
           335
          ],
          [
           true,
           false,
           null,
           3,
           "out",
           0.7872340425531915,
           300,
           336
          ],
          [
           false,
           true,
           null,
           3,
           "out",
           0,
           "NA",
           337
          ],
          [
           true,
           false,
           null,
           3,
           "out",
           0.8846153846153846,
           301,
           338
          ],
          [
           false,
           true,
           null,
           3,
           "out",
           0,
           "NA",
           339
          ],
          [
           true,
           false,
           null,
           3,
           "out",
           0.7777777777777778,
           302,
           340
          ],
          [
           true,
           false,
           null,
           3,
           "out",
           0.8369565217391305,
           303,
           341
          ],
          [
           true,
           false,
           null,
           3,
           "out",
           0.38461538461538464,
           304,
           342
          ],
          [
           false,
           true,
           null,
           3,
           "out",
           0,
           "NA",
           343
          ],
          [
           false,
           true,
           null,
           3,
           "out",
           0,
           "NA",
           344
          ],
          [
           false,
           true,
           null,
           3,
           "out",
           0,
           "NA",
           345
          ],
          [
           true,
           false,
           null,
           3,
           "out",
           0.6728624535315985,
           306,
           346
          ],
          [
           true,
           false,
           null,
           3,
           "out",
           0.6,
           307,
           347
          ],
          [
           false,
           true,
           null,
           3,
           "out",
           0,
           "NA",
           348
          ],
          [
           true,
           false,
           null,
           3,
           "out",
           0.6346153846153846,
           308,
           349
          ],
          [
           true,
           false,
           null,
           3,
           "out",
           0.7892376681614349,
           309,
           350
          ],
          [
           true,
           false,
           null,
           3,
           "out",
           0.6728971962616822,
           311,
           351
          ],
          [
           false,
           true,
           null,
           3,
           "out",
           0,
           "NA",
           352
          ],
          [
           false,
           true,
           null,
           3,
           "out",
           0,
           "NA",
           353
          ],
          [
           false,
           true,
           null,
           3,
           "out",
           0,
           "NA",
           354
          ],
          [
           false,
           true,
           null,
           3,
           "out",
           0,
           "NA",
           355
          ],
          [
           true,
           false,
           null,
           3,
           "out",
           0.7843137254901961,
           312,
           356
          ],
          [
           true,
           false,
           null,
           3,
           "out",
           0.9301075268817204,
           313,
           357
          ],
          [
           false,
           true,
           null,
           3,
           "out",
           0,
           "NA",
           358
          ],
          [
           false,
           true,
           null,
           3,
           "out",
           0,
           "NA",
           359
          ],
          [
           true,
           false,
           null,
           3,
           "out",
           0.7590361445783133,
           314,
           360
          ],
          [
           true,
           false,
           null,
           3,
           "out",
           0.8609625668449198,
           315,
           361
          ],
          [
           false,
           true,
           null,
           3,
           "out",
           0,
           "NA",
           362
          ],
          [
           true,
           false,
           null,
           3,
           "out",
           0.5833333333333334,
           316,
           363
          ],
          [
           false,
           true,
           null,
           3,
           "out",
           0,
           "NA",
           364
          ],
          [
           false,
           true,
           null,
           3,
           "out",
           0,
           "NA",
           365
          ],
          [
           false,
           true,
           null,
           3,
           "out",
           0,
           "NA",
           366
          ],
          [
           false,
           true,
           null,
           3,
           "out",
           0,
           "NA",
           367
          ],
          [
           true,
           false,
           null,
           3,
           "out",
           0.9438202247191011,
           317,
           368
          ],
          [
           false,
           true,
           null,
           3,
           "out",
           0,
           "NA",
           369
          ],
          [
           true,
           false,
           null,
           3,
           "out",
           0.7734806629834254,
           318,
           370
          ],
          [
           true,
           false,
           null,
           3,
           "out",
           0.8010204081632653,
           319,
           371
          ],
          [
           false,
           true,
           null,
           3,
           "out",
           0.26996197718631176,
           320,
           372
          ],
          [
           true,
           false,
           null,
           3,
           "out",
           0.673469387755102,
           321,
           373
          ],
          [
           true,
           false,
           null,
           3,
           "out",
           0.4342629482071713,
           322,
           374
          ],
          [
           false,
           true,
           null,
           3,
           "out",
           0,
           "NA",
           375
          ],
          [
           false,
           true,
           null,
           3,
           "out",
           0,
           "NA",
           376
          ],
          [
           false,
           true,
           null,
           3,
           "out",
           0,
           "NA",
           377
          ],
          [
           false,
           true,
           null,
           3,
           "out",
           0,
           "NA",
           378
          ],
          [
           true,
           false,
           null,
           3,
           "out",
           0.8444444444444444,
           324,
           379
          ],
          [
           false,
           true,
           null,
           3,
           "out",
           0,
           "NA",
           380
          ],
          [
           true,
           false,
           null,
           3,
           "out",
           0.7478632478632479,
           325,
           381
          ],
          [
           false,
           true,
           null,
           3,
           "out",
           0,
           "NA",
           382
          ],
          [
           false,
           true,
           null,
           3,
           "out",
           0,
           "NA",
           383
          ],
          [
           true,
           false,
           null,
           3,
           "out",
           0.65,
           326,
           384
          ],
          [
           false,
           true,
           null,
           3,
           "out",
           0,
           "NA",
           385
          ],
          [
           false,
           true,
           null,
           3,
           "out",
           0,
           "NA",
           386
          ],
          [
           false,
           true,
           null,
           3,
           "out",
           0,
           "NA",
           387
          ],
          [
           true,
           false,
           null,
           3,
           "out",
           0.8132780082987552,
           328,
           388
          ],
          [
           false,
           true,
           null,
           3,
           "out",
           0,
           "NA",
           389
          ],
          [
           true,
           false,
           null,
           3,
           "out",
           0.7150537634408602,
           329,
           390
          ],
          [
           false,
           true,
           null,
           3,
           "out",
           0,
           "NA",
           391
          ],
          [
           true,
           false,
           null,
           3,
           "out",
           0.8707865168539326,
           330,
           392
          ],
          [
           true,
           false,
           null,
           3,
           "out",
           0.9503105590062112,
           332,
           393
          ],
          [
           true,
           false,
           null,
           3,
           "out",
           0.6693548387096774,
           333,
           394
          ],
          [
           true,
           false,
           null,
           3,
           "out",
           0.6495327102803738,
           334,
           395
          ],
          [
           false,
           true,
           null,
           3,
           "out",
           0,
           "NA",
           396
          ],
          [
           true,
           false,
           null,
           3,
           "out",
           0.759493670886076,
           335,
           397
          ],
          [
           false,
           true,
           null,
           3,
           "out",
           0,
           "NA",
           398
          ],
          [
           false,
           true,
           null,
           3,
           "out",
           0,
           "NA",
           399
          ],
          [
           true,
           false,
           null,
           3,
           "out",
           0.9,
           337,
           400
          ],
          [
           true,
           false,
           null,
           3,
           "out",
           0.8552631578947368,
           338,
           401
          ],
          [
           false,
           true,
           null,
           3,
           "out",
           0,
           "NA",
           402
          ],
          [
           true,
           false,
           null,
           3,
           "out",
           0.6559633027522935,
           339,
           403
          ],
          [
           false,
           true,
           null,
           3,
           "out",
           0,
           "NA",
           404
          ],
          [
           false,
           true,
           null,
           3,
           "out",
           0,
           "NA",
           405
          ],
          [
           true,
           false,
           null,
           3,
           "out",
           0.8743718592964824,
           340,
           406
          ],
          [
           true,
           false,
           null,
           3,
           "out",
           0.7511520737327189,
           341,
           407
          ],
          [
           false,
           true,
           null,
           3,
           "out",
           0,
           "NA",
           408
          ],
          [
           true,
           false,
           null,
           3,
           "out",
           0.768361581920904,
           342,
           409
          ],
          [
           true,
           false,
           null,
           3,
           "out",
           0.82,
           343,
           410
          ],
          [
           false,
           true,
           null,
           3,
           "out",
           0,
           "NA",
           411
          ],
          [
           true,
           false,
           null,
           3,
           "out",
           0.9265536723163842,
           344,
           412
          ],
          [
           true,
           false,
           null,
           3,
           "out",
           0.8831168831168831,
           345,
           413
          ],
          [
           false,
           true,
           null,
           3,
           "out",
           0,
           "NA",
           414
          ],
          [
           false,
           true,
           null,
           3,
           "out",
           0,
           "NA",
           415
          ],
          [
           true,
           false,
           null,
           3,
           "out",
           0.6242236024844721,
           346,
           416
          ],
          [
           true,
           false,
           null,
           3,
           "out",
           0.7652173913043478,
           347,
           417
          ],
          [
           false,
           true,
           null,
           3,
           "out",
           0,
           "NA",
           418
          ],
          [
           true,
           false,
           null,
           3,
           "out",
           0.7472527472527473,
           348,
           419
          ],
          [
           false,
           true,
           null,
           3,
           "out",
           0,
           "NA",
           420
          ],
          [
           true,
           false,
           null,
           3,
           "out",
           0.8685714285714285,
           349,
           421
          ],
          [
           true,
           false,
           null,
           3,
           "out",
           0.8883495145631068,
           350,
           422
          ],
          [
           true,
           false,
           null,
           3,
           "out",
           0.8549222797927462,
           351,
           423
          ],
          [
           true,
           false,
           null,
           3,
           "out",
           0.75,
           352,
           424
          ],
          [
           false,
           true,
           null,
           3,
           "out",
           0,
           "NA",
           425
          ],
          [
           false,
           true,
           null,
           3,
           "out",
           0,
           "NA",
           426
          ],
          [
           true,
           false,
           null,
           3,
           "out",
           0.9014778325123153,
           353,
           427
          ],
          [
           true,
           false,
           null,
           3,
           "out",
           0.5069767441860465,
           354,
           428
          ],
          [
           true,
           false,
           null,
           3,
           "out",
           0.803030303030303,
           355,
           429
          ],
          [
           true,
           false,
           null,
           3,
           "out",
           0.8803418803418803,
           357,
           430
          ],
          [
           false,
           true,
           null,
           3,
           "out",
           0,
           "NA",
           431
          ],
          [
           true,
           false,
           null,
           3,
           "out",
           0.8807947019867549,
           358,
           432
          ],
          [
           true,
           false,
           null,
           3,
           "out",
           0.7457627118644068,
           359,
           433
          ],
          [
           true,
           false,
           null,
           3,
           "out",
           0.3319327731092437,
           362,
           434
          ],
          [
           true,
           false,
           null,
           3,
           "out",
           0.792,
           363,
           435
          ],
          [
           true,
           false,
           null,
           3,
           "out",
           0.6732673267326733,
           364,
           436
          ],
          [
           true,
           false,
           null,
           3,
           "out",
           0.8482758620689655,
           366,
           437
          ],
          [
           true,
           false,
           null,
           3,
           "out",
           0.6963350785340314,
           367,
           438
          ],
          [
           true,
           false,
           null,
           3,
           "out",
           0.7622377622377622,
           368,
           439
          ],
          [
           true,
           false,
           null,
           3,
           "out",
           0.7531380753138075,
           369,
           440
          ],
          [
           true,
           false,
           null,
           3,
           "out",
           0.6318681318681318,
           370,
           441
          ],
          [
           true,
           false,
           null,
           3,
           "out",
           0.7403314917127072,
           371,
           442
          ],
          [
           true,
           false,
           null,
           3,
           "out",
           0.7639751552795031,
           372,
           443
          ],
          [
           true,
           false,
           null,
           3,
           "out",
           0.9019607843137255,
           373,
           444
          ],
          [
           true,
           false,
           null,
           3,
           "out",
           0.8888888888888888,
           374,
           445
          ],
          [
           true,
           false,
           null,
           3,
           "out",
           0.6923076923076923,
           375,
           446
          ],
          [
           true,
           false,
           null,
           3,
           "out",
           0.6941176470588235,
           376,
           447
          ],
          [
           true,
           false,
           null,
           3,
           "out",
           0.7485029940119761,
           377,
           448
          ],
          [
           true,
           false,
           null,
           3,
           "out",
           0.9292929292929293,
           378,
           449
          ],
          [
           true,
           false,
           null,
           3,
           "out",
           0.7151162790697675,
           379,
           450
          ],
          [
           true,
           false,
           null,
           3,
           "out",
           0.569377990430622,
           380,
           451
          ],
          [
           true,
           false,
           null,
           3,
           "out",
           0.6398305084745762,
           381,
           452
          ],
          [
           true,
           false,
           null,
           3,
           "out",
           0.4634146341463415,
           382,
           453
          ],
          [
           false,
           true,
           null,
           3,
           "out",
           0.2,
           384,
           454
          ],
          [
           true,
           false,
           null,
           3,
           "out",
           0.783410138248848,
           387,
           455
          ],
          [
           true,
           false,
           null,
           3,
           "out",
           0.7643312101910829,
           388,
           456
          ],
          [
           true,
           false,
           null,
           3,
           "out",
           0.7727272727272727,
           389,
           457
          ],
          [
           false,
           true,
           null,
           3,
           "out",
           0,
           "NA",
           458
          ],
          [
           true,
           false,
           null,
           3,
           "out",
           0.8666666666666667,
           391,
           459
          ],
          [
           true,
           false,
           null,
           3,
           "out",
           0.5571428571428572,
           392,
           460
          ],
          [
           true,
           false,
           null,
           3,
           "out",
           0.9452054794520548,
           393,
           461
          ],
          [
           true,
           false,
           null,
           3,
           "out",
           0.7909090909090909,
           394,
           462
          ],
          [
           true,
           false,
           null,
           3,
           "out",
           0.7268041237113402,
           396,
           463
          ],
          [
           true,
           false,
           null,
           3,
           "out",
           0.8893617021276595,
           399,
           464
          ],
          [
           false,
           true,
           null,
           3,
           "out",
           0,
           "NA",
           465
          ],
          [
           false,
           true,
           null,
           3,
           "out",
           0,
           "NA",
           466
          ],
          [
           true,
           false,
           null,
           3,
           "out",
           0.6545454545454545,
           400,
           467
          ],
          [
           true,
           false,
           null,
           3,
           "out",
           0.7867298578199052,
           401,
           468
          ],
          [
           false,
           true,
           null,
           3,
           "out",
           0,
           "NA",
           469
          ],
          [
           false,
           true,
           null,
           3,
           "out",
           0,
           "NA",
           470
          ],
          [
           true,
           false,
           null,
           3,
           "out",
           0.47115384615384615,
           403,
           471
          ],
          [
           true,
           false,
           null,
           3,
           "out",
           0.7509578544061303,
           404,
           472
          ],
          [
           false,
           true,
           null,
           3,
           "out",
           0,
           "NA",
           473
          ],
          [
           false,
           true,
           null,
           3,
           "out",
           0,
           "NA",
           474
          ],
          [
           false,
           true,
           null,
           3,
           "out",
           0,
           "NA",
           475
          ],
          [
           true,
           false,
           null,
           3,
           "out",
           0.8764705882352941,
           405,
           476
          ],
          [
           true,
           false,
           null,
           3,
           "out",
           0.5850622406639004,
           409,
           477
          ],
          [
           false,
           true,
           null,
           3,
           "out",
           0.16558441558441558,
           409,
           478
          ],
          [
           false,
           true,
           null,
           3,
           "out",
           0.05897435897435897,
           410,
           479
          ],
          [
           true,
           false,
           null,
           3,
           "out",
           0.8354430379746836,
           411,
           480
          ],
          [
           true,
           false,
           null,
           3,
           "out",
           0.4642857142857143,
           412,
           481
          ],
          [
           true,
           false,
           null,
           3,
           "out",
           0.7960526315789473,
           415,
           482
          ],
          [
           true,
           false,
           null,
           3,
           "out",
           0.5823863636363636,
           416,
           483
          ],
          [
           true,
           false,
           null,
           3,
           "out",
           0.9151515151515152,
           417,
           484
          ],
          [
           false,
           true,
           null,
           3,
           "out",
           0,
           "NA",
           485
          ],
          [
           true,
           false,
           null,
           3,
           "out",
           0.7647058823529411,
           418,
           486
          ],
          [
           false,
           true,
           null,
           3,
           "out",
           0,
           "NA",
           487
          ],
          [
           true,
           false,
           null,
           3,
           "out",
           0.5694050991501416,
           419,
           488
          ],
          [
           true,
           false,
           null,
           3,
           "out",
           0.8850574712643678,
           420,
           489
          ],
          [
           true,
           false,
           null,
           3,
           "out",
           0.8444444444444444,
           421,
           490
          ],
          [
           false,
           true,
           null,
           3,
           "out",
           0,
           "NA",
           491
          ],
          [
           true,
           false,
           null,
           3,
           "out",
           0.7341772151898734,
           422,
           492
          ],
          [
           false,
           true,
           null,
           3,
           "out",
           0,
           "NA",
           493
          ],
          [
           true,
           false,
           null,
           3,
           "out",
           0.7412587412587412,
           423,
           494
          ],
          [
           true,
           false,
           null,
           3,
           "out",
           0.6203208556149733,
           424,
           495
          ],
          [
           false,
           true,
           null,
           3,
           "out",
           0.16145833333333334,
           425,
           496
          ],
          [
           true,
           false,
           null,
           3,
           "out",
           0.7482993197278912,
           426,
           497
          ],
          [
           true,
           false,
           null,
           3,
           "out",
           0.7555555555555555,
           427,
           498
          ],
          [
           true,
           false,
           null,
           3,
           "out",
           0.7606177606177607,
           428,
           499
          ],
          [
           true,
           false,
           null,
           3,
           "out",
           0.5079365079365079,
           429,
           500
          ],
          [
           false,
           true,
           null,
           3,
           "out",
           0,
           "NA",
           501
          ],
          [
           true,
           false,
           null,
           3,
           "out",
           0.64,
           430,
           502
          ],
          [
           true,
           false,
           null,
           3,
           "out",
           0.8846153846153846,
           431,
           503
          ],
          [
           false,
           true,
           null,
           3,
           "out",
           0,
           "NA",
           504
          ],
          [
           true,
           false,
           null,
           3,
           "out",
           0.7098976109215017,
           432,
           505
          ],
          [
           true,
           false,
           null,
           3,
           "out",
           0.8025210084033614,
           433,
           506
          ],
          [
           true,
           false,
           null,
           3,
           "out",
           0.7136150234741784,
           434,
           507
          ],
          [
           true,
           false,
           null,
           3,
           "out",
           0.7454545454545455,
           436,
           508
          ],
          [
           true,
           false,
           null,
           3,
           "out",
           0.6962457337883959,
           437,
           509
          ],
          [
           false,
           true,
           null,
           3,
           "out",
           0,
           "NA",
           510
          ],
          [
           false,
           true,
           null,
           3,
           "out",
           0,
           "NA",
           511
          ],
          [
           false,
           true,
           null,
           3,
           "out",
           0,
           "NA",
           512
          ],
          [
           false,
           true,
           null,
           3,
           "out",
           0,
           "NA",
           513
          ],
          [
           true,
           false,
           null,
           3,
           "out",
           0.8626373626373627,
           439,
           514
          ],
          [
           false,
           true,
           null,
           3,
           "out",
           0,
           "NA",
           515
          ],
          [
           false,
           true,
           null,
           3,
           "out",
           0,
           "NA",
           516
          ],
          [
           true,
           false,
           null,
           3,
           "out",
           0.9447513812154696,
           440,
           517
          ],
          [
           true,
           false,
           null,
           3,
           "out",
           0.8156862745098039,
           441,
           518
          ],
          [
           false,
           true,
           null,
           3,
           "out",
           0,
           "NA",
           519
          ],
          [
           true,
           false,
           null,
           3,
           "out",
           0.9698795180722891,
           442,
           520
          ],
          [
           false,
           true,
           null,
           3,
           "out",
           0,
           "NA",
           521
          ],
          [
           true,
           false,
           null,
           3,
           "out",
           0.6111111111111112,
           444,
           522
          ],
          [
           true,
           false,
           null,
           3,
           "out",
           0.4272151898734177,
           445,
           523
          ],
          [
           true,
           false,
           null,
           3,
           "out",
           0.6360759493670886,
           446,
           524
          ],
          [
           false,
           true,
           null,
           3,
           "out",
           0,
           "NA",
           525
          ],
          [
           false,
           true,
           null,
           3,
           "out",
           0,
           "NA",
           526
          ],
          [
           false,
           true,
           null,
           3,
           "out",
           0,
           "NA",
           527
          ],
          [
           false,
           true,
           null,
           3,
           "out",
           0,
           "NA",
           528
          ],
          [
           true,
           false,
           null,
           3,
           "out",
           0.795,
           448,
           529
          ],
          [
           false,
           true,
           null,
           3,
           "out",
           0,
           "NA",
           530
          ],
          [
           true,
           false,
           null,
           3,
           "out",
           0.8043478260869565,
           449,
           531
          ],
          [
           true,
           false,
           null,
           3,
           "out",
           0.7982456140350878,
           450,
           532
          ],
          [
           false,
           true,
           null,
           3,
           "out",
           0,
           "NA",
           533
          ],
          [
           true,
           false,
           null,
           3,
           "out",
           0.8166666666666667,
           451,
           534
          ],
          [
           true,
           false,
           null,
           3,
           "out",
           0.8,
           452,
           535
          ],
          [
           true,
           false,
           null,
           3,
           "out",
           0.664576802507837,
           453,
           536
          ],
          [
           true,
           false,
           null,
           3,
           "out",
           0.784688995215311,
           454,
           537
          ],
          [
           true,
           false,
           null,
           3,
           "out",
           0.9139784946236559,
           455,
           538
          ],
          [
           true,
           false,
           null,
           3,
           "out",
           0.6909090909090909,
           456,
           539
          ],
          [
           true,
           false,
           null,
           3,
           "out",
           0.8458781362007168,
           457,
           540
          ],
          [
           true,
           false,
           null,
           3,
           "out",
           0.64,
           458,
           541
          ],
          [
           true,
           false,
           null,
           3,
           "out",
           0.8595505617977528,
           459,
           542
          ],
          [
           true,
           false,
           null,
           3,
           "out",
           0.5642458100558659,
           460,
           543
          ],
          [
           true,
           false,
           null,
           3,
           "out",
           0.7575757575757576,
           461,
           544
          ],
          [
           false,
           true,
           null,
           3,
           "out",
           0,
           "NA",
           545
          ],
          [
           false,
           true,
           null,
           3,
           "out",
           0,
           "NA",
           546
          ],
          [
           true,
           false,
           null,
           3,
           "out",
           0.48534201954397393,
           462,
           547
          ],
          [
           false,
           true,
           null,
           3,
           "out",
           0,
           "NA",
           548
          ],
          [
           false,
           true,
           null,
           3,
           "out",
           0,
           "NA",
           549
          ],
          [
           false,
           true,
           null,
           3,
           "out",
           0,
           "NA",
           550
          ],
          [
           true,
           false,
           null,
           3,
           "out",
           0.8132780082987552,
           463,
           551
          ],
          [
           true,
           false,
           null,
           3,
           "out",
           0.8739837398373984,
           464,
           552
          ],
          [
           true,
           false,
           null,
           3,
           "out",
           0.8118811881188119,
           465,
           553
          ],
          [
           true,
           false,
           null,
           3,
           "out",
           0.3569553805774278,
           467,
           554
          ],
          [
           false,
           true,
           null,
           3,
           "out",
           0,
           "NA",
           555
          ],
          [
           true,
           false,
           null,
           3,
           "out",
           0.7486631016042781,
           468,
           556
          ],
          [
           false,
           true,
           null,
           3,
           "out",
           0,
           "NA",
           557
          ],
          [
           false,
           true,
           null,
           3,
           "out",
           0,
           "NA",
           558
          ],
          [
           true,
           false,
           null,
           3,
           "out",
           0.5645161290322581,
           470,
           559
          ],
          [
           true,
           false,
           null,
           3,
           "out",
           0.7235023041474654,
           471,
           560
          ],
          [
           true,
           false,
           null,
           3,
           "out",
           0.8888888888888888,
           472,
           561
          ],
          [
           false,
           true,
           null,
           3,
           "out",
           0,
           "NA",
           562
          ],
          [
           true,
           false,
           null,
           3,
           "out",
           0.7472527472527473,
           473,
           563
          ],
          [
           true,
           false,
           null,
           3,
           "out",
           0.8625,
           474,
           564
          ],
          [
           true,
           false,
           null,
           3,
           "out",
           0.81875,
           475,
           565
          ],
          [
           true,
           false,
           null,
           3,
           "out",
           0.4979919678714859,
           476,
           566
          ],
          [
           false,
           true,
           null,
           3,
           "out",
           0,
           "NA",
           567
          ],
          [
           true,
           false,
           null,
           3,
           "out",
           0.49361702127659574,
           478,
           568
          ],
          [
           true,
           false,
           null,
           3,
           "out",
           0.8411214953271028,
           479,
           569
          ],
          [
           true,
           false,
           null,
           3,
           "out",
           0.8076923076923077,
           481,
           570
          ],
          [
           false,
           true,
           null,
           3,
           "out",
           0,
           "NA",
           571
          ],
          [
           true,
           false,
           null,
           3,
           "out",
           0.664804469273743,
           482,
           572
          ],
          [
           false,
           true,
           null,
           3,
           "out",
           0,
           "NA",
           573
          ],
          [
           true,
           false,
           null,
           3,
           "out",
           0.6468401486988847,
           483,
           574
          ],
          [
           false,
           true,
           null,
           3,
           "out",
           0,
           "NA",
           575
          ],
          [
           true,
           false,
           null,
           3,
           "out",
           0.8653846153846154,
           484,
           576
          ],
          [
           true,
           false,
           null,
           3,
           "out",
           0.772093023255814,
           485,
           577
          ],
          [
           true,
           false,
           null,
           3,
           "out",
           0.959349593495935,
           486,
           578
          ],
          [
           false,
           true,
           null,
           3,
           "out",
           0,
           "NA",
           579
          ],
          [
           true,
           false,
           null,
           3,
           "out",
           0.8932038834951457,
           487,
           580
          ],
          [
           true,
           false,
           null,
           3,
           "out",
           0.9155555555555556,
           488,
           581
          ],
          [
           false,
           true,
           null,
           3,
           "out",
           0,
           "NA",
           582
          ],
          [
           true,
           false,
           null,
           3,
           "out",
           0.8309859154929577,
           489,
           583
          ],
          [
           true,
           false,
           null,
           3,
           "out",
           0.8733031674208145,
           490,
           584
          ],
          [
           true,
           false,
           null,
           3,
           "out",
           0.8606965174129353,
           491,
           585
          ],
          [
           true,
           false,
           null,
           3,
           "out",
           0.9655172413793104,
           492,
           586
          ],
          [
           true,
           false,
           null,
           3,
           "out",
           0.7657657657657657,
           493,
           587
          ],
          [
           false,
           true,
           null,
           3,
           "out",
           0,
           "NA",
           588
          ],
          [
           true,
           false,
           null,
           3,
           "out",
           0.612565445026178,
           494,
           589
          ],
          [
           false,
           true,
           null,
           3,
           "out",
           0,
           "NA",
           590
          ],
          [
           true,
           false,
           null,
           3,
           "out",
           0.8105263157894737,
           495,
           591
          ],
          [
           true,
           false,
           null,
           3,
           "out",
           0.7681159420289855,
           496,
           592
          ],
          [
           true,
           false,
           null,
           3,
           "out",
           0.5699481865284974,
           497,
           593
          ],
          [
           true,
           false,
           null,
           3,
           "out",
           0.8375,
           498,
           594
          ],
          [
           true,
           false,
           null,
           3,
           "out",
           0.7642857142857142,
           499,
           595
          ],
          [
           true,
           false,
           null,
           3,
           "out",
           0.6396761133603239,
           500,
           596
          ],
          [
           true,
           false,
           null,
           3,
           "out",
           0.696236559139785,
           501,
           597
          ],
          [
           false,
           true,
           null,
           3,
           "out",
           0,
           "NA",
           598
          ],
          [
           true,
           false,
           null,
           3,
           "out",
           0.7522123893805309,
           502,
           599
          ],
          [
           true,
           false,
           null,
           3,
           "out",
           0.6421404682274248,
           503,
           600
          ],
          [
           true,
           false,
           null,
           3,
           "out",
           0.7327586206896551,
           504,
           601
          ],
          [
           true,
           false,
           null,
           3,
           "out",
           0.7401129943502824,
           505,
           602
          ],
          [
           true,
           false,
           null,
           3,
           "out",
           0.8151658767772512,
           506,
           603
          ],
          [
           false,
           true,
           null,
           3,
           "out",
           0,
           "NA",
           604
          ],
          [
           true,
           false,
           null,
           3,
           "out",
           0.8691099476439791,
           508,
           605
          ],
          [
           true,
           false,
           null,
           3,
           "out",
           0.7134146341463414,
           509,
           606
          ],
          [
           true,
           false,
           null,
           3,
           "out",
           0.8679867986798679,
           510,
           607
          ],
          [
           true,
           false,
           null,
           3,
           "out",
           0.8512396694214877,
           511,
           608
          ],
          [
           true,
           false,
           null,
           3,
           "out",
           0.7425742574257426,
           512,
           609
          ],
          [
           false,
           true,
           null,
           3,
           "out",
           0,
           "NA",
           610
          ],
          [
           true,
           false,
           null,
           3,
           "out",
           0.9375,
           513,
           611
          ],
          [
           false,
           true,
           null,
           3,
           "out",
           0,
           "NA",
           612
          ],
          [
           false,
           true,
           null,
           3,
           "out",
           0,
           "NA",
           613
          ],
          [
           false,
           true,
           null,
           3,
           "out",
           0,
           "NA",
           614
          ],
          [
           true,
           false,
           null,
           3,
           "out",
           0.5521472392638037,
           514,
           615
          ],
          [
           true,
           false,
           null,
           3,
           "out",
           0.8814432989690721,
           515,
           616
          ],
          [
           true,
           false,
           null,
           3,
           "out",
           0.8613445378151261,
           516,
           617
          ],
          [
           true,
           false,
           null,
           3,
           "out",
           0.8585365853658536,
           517,
           618
          ],
          [
           true,
           false,
           null,
           3,
           "out",
           0.8421052631578947,
           518,
           619
          ],
          [
           false,
           true,
           null,
           3,
           "out",
           0,
           "NA",
           620
          ],
          [
           true,
           false,
           null,
           3,
           "out",
           0.7937649880095923,
           519,
           621
          ],
          [
           true,
           false,
           null,
           3,
           "out",
           0.8888888888888888,
           520,
           622
          ],
          [
           true,
           false,
           null,
           3,
           "out",
           0.4314606741573034,
           521,
           623
          ],
          [
           true,
           false,
           null,
           3,
           "out",
           0.7569721115537849,
           522,
           624
          ],
          [
           true,
           false,
           null,
           3,
           "out",
           0.6728624535315985,
           523,
           625
          ],
          [
           false,
           true,
           null,
           3,
           "out",
           0,
           "NA",
           626
          ],
          [
           true,
           false,
           null,
           3,
           "out",
           0.7758007117437722,
           524,
           627
          ],
          [
           true,
           false,
           null,
           3,
           "out",
           0.7446153846153846,
           525,
           628
          ],
          [
           true,
           false,
           null,
           3,
           "out",
           0.8194444444444444,
           526,
           629
          ],
          [
           true,
           false,
           null,
           3,
           "out",
           0.8,
           527,
           630
          ],
          [
           false,
           true,
           null,
           3,
           "out",
           0,
           "NA",
           631
          ],
          [
           true,
           false,
           null,
           3,
           "out",
           0.8505154639175257,
           528,
           632
          ],
          [
           true,
           false,
           null,
           3,
           "out",
           0.918918918918919,
           529,
           633
          ],
          [
           true,
           false,
           null,
           3,
           "out",
           0.6701754385964912,
           530,
           634
          ],
          [
           true,
           false,
           null,
           3,
           "out",
           0.8773006134969326,
           531,
           635
          ],
          [
           true,
           false,
           null,
           3,
           "out",
           0.9104477611940298,
           532,
           636
          ],
          [
           true,
           false,
           null,
           3,
           "out",
           0.8018867924528302,
           533,
           637
          ],
          [
           true,
           false,
           null,
           3,
           "out",
           0.8697478991596639,
           534,
           638
          ],
          [
           true,
           false,
           null,
           3,
           "out",
           0.7832167832167832,
           535,
           639
          ],
          [
           false,
           true,
           null,
           3,
           "out",
           0,
           "NA",
           640
          ],
          [
           true,
           false,
           null,
           3,
           "out",
           0.7755102040816326,
           536,
           641
          ],
          [
           true,
           false,
           null,
           3,
           "out",
           0.6970802919708029,
           537,
           642
          ],
          [
           true,
           false,
           null,
           3,
           "out",
           0.5542168674698795,
           538,
           643
          ],
          [
           false,
           true,
           null,
           3,
           "out",
           0,
           "NA",
           644
          ],
          [
           true,
           false,
           null,
           3,
           "out",
           0.7670682730923695,
           539,
           645
          ],
          [
           true,
           false,
           null,
           3,
           "out",
           0.6923076923076923,
           540,
           646
          ],
          [
           true,
           false,
           null,
           3,
           "out",
           0.778393351800554,
           541,
           647
          ],
          [
           true,
           false,
           null,
           3,
           "out",
           0.7380352644836272,
           542,
           648
          ],
          [
           true,
           false,
           null,
           3,
           "out",
           0.8348623853211009,
           543,
           649
          ],
          [
           true,
           false,
           null,
           3,
           "out",
           0.8559322033898306,
           544,
           650
          ],
          [
           false,
           true,
           null,
           3,
           "out",
           0,
           "NA",
           651
          ],
          [
           false,
           true,
           null,
           3,
           "out",
           0,
           "NA",
           652
          ],
          [
           true,
           false,
           null,
           3,
           "out",
           0.7957446808510639,
           546,
           653
          ],
          [
           true,
           false,
           null,
           3,
           "out",
           0.8012232415902141,
           547,
           654
          ],
          [
           true,
           false,
           null,
           3,
           "out",
           0.4944237918215613,
           548,
           655
          ],
          [
           true,
           false,
           null,
           3,
           "out",
           0.3574144486692015,
           549,
           656
          ],
          [
           true,
           false,
           null,
           3,
           "out",
           0.8804347826086957,
           550,
           657
          ],
          [
           true,
           false,
           null,
           3,
           "out",
           0.6289855072463768,
           551,
           658
          ],
          [
           true,
           false,
           null,
           3,
           "out",
           0.5766129032258065,
           552,
           659
          ],
          [
           true,
           false,
           null,
           3,
           "out",
           0.7302904564315352,
           553,
           660
          ],
          [
           true,
           false,
           null,
           3,
           "out",
           0.8565891472868217,
           554,
           661
          ],
          [
           true,
           false,
           null,
           3,
           "out",
           0.7906976744186046,
           555,
           662
          ],
          [
           true,
           false,
           null,
           3,
           "out",
           0.668,
           556,
           663
          ],
          [
           false,
           true,
           null,
           3,
           "out",
           0,
           "NA",
           664
          ],
          [
           false,
           true,
           null,
           3,
           "out",
           0,
           "NA",
           665
          ],
          [
           false,
           true,
           null,
           3,
           "out",
           0,
           "NA",
           666
          ],
          [
           false,
           true,
           null,
           3,
           "out",
           0,
           "NA",
           667
          ],
          [
           false,
           true,
           null,
           3,
           "out",
           0,
           "NA",
           668
          ],
          [
           false,
           true,
           null,
           3,
           "out",
           0,
           "NA",
           669
          ],
          [
           true,
           false,
           null,
           3,
           "out",
           0.9083333333333333,
           557,
           670
          ],
          [
           true,
           false,
           null,
           3,
           "out",
           0.8578947368421053,
           558,
           671
          ],
          [
           true,
           false,
           null,
           3,
           "out",
           0.6711864406779661,
           559,
           672
          ],
          [
           false,
           true,
           null,
           3,
           "out",
           0,
           "NA",
           673
          ],
          [
           true,
           false,
           null,
           3,
           "out",
           0.55625,
           560,
           674
          ],
          [
           true,
           false,
           null,
           3,
           "out",
           0.45387453874538747,
           562,
           675
          ],
          [
           true,
           false,
           null,
           3,
           "out",
           0.32727272727272727,
           563,
           676
          ],
          [
           true,
           false,
           null,
           3,
           "out",
           0.6366666666666667,
           564,
           677
          ],
          [
           true,
           false,
           null,
           3,
           "out",
           0.6512605042016807,
           565,
           678
          ],
          [
           true,
           false,
           null,
           3,
           "out",
           0.8055555555555556,
           566,
           679
          ],
          [
           true,
           false,
           null,
           3,
           "out",
           0.7555555555555555,
           567,
           680
          ],
          [
           false,
           true,
           null,
           3,
           "out",
           0,
           "NA",
           681
          ],
          [
           true,
           false,
           null,
           3,
           "out",
           0.806282722513089,
           568,
           682
          ],
          [
           true,
           false,
           null,
           3,
           "out",
           0.6988636363636364,
           569,
           683
          ],
          [
           true,
           false,
           null,
           3,
           "out",
           0.888235294117647,
           570,
           684
          ],
          [
           false,
           true,
           null,
           3,
           "out",
           0,
           "NA",
           685
          ],
          [
           false,
           true,
           null,
           3,
           "out",
           0,
           "NA",
           686
          ],
          [
           true,
           false,
           null,
           3,
           "out",
           0.7402135231316725,
           571,
           687
          ],
          [
           false,
           true,
           null,
           3,
           "out",
           0,
           "NA",
           688
          ],
          [
           true,
           false,
           null,
           3,
           "out",
           0.6005154639175257,
           572,
           689
          ],
          [
           false,
           true,
           null,
           3,
           "out",
           0.22714681440443213,
           572,
           690
          ],
          [
           true,
           false,
           null,
           3,
           "out",
           0.8878205128205128,
           573,
           691
          ],
          [
           true,
           false,
           null,
           3,
           "out",
           0.505338078291815,
           574,
           692
          ],
          [
           true,
           false,
           null,
           3,
           "out",
           0.9096385542168675,
           575,
           693
          ],
          [
           true,
           false,
           null,
           3,
           "out",
           0.9243697478991597,
           576,
           694
          ],
          [
           true,
           false,
           null,
           3,
           "out",
           0.9066666666666666,
           577,
           695
          ],
          [
           true,
           false,
           null,
           3,
           "out",
           0.7553191489361702,
           578,
           696
          ],
          [
           false,
           true,
           null,
           3,
           "out",
           0,
           "NA",
           697
          ],
          [
           true,
           false,
           null,
           3,
           "out",
           0.921146953405018,
           579,
           698
          ],
          [
           false,
           true,
           null,
           3,
           "out",
           0,
           "NA",
           699
          ],
          [
           true,
           false,
           null,
           3,
           "out",
           0.7831858407079646,
           580,
           700
          ],
          [
           true,
           false,
           null,
           3,
           "out",
           0.8947368421052632,
           581,
           701
          ],
          [
           true,
           false,
           null,
           3,
           "out",
           0.6847290640394089,
           582,
           702
          ],
          [
           false,
           true,
           null,
           3,
           "out",
           0,
           "NA",
           703
          ],
          [
           true,
           false,
           null,
           3,
           "out",
           0.7065868263473054,
           583,
           704
          ],
          [
           true,
           false,
           null,
           3,
           "out",
           0.6698564593301436,
           584,
           705
          ],
          [
           true,
           false,
           null,
           3,
           "out",
           0.6742424242424242,
           585,
           706
          ],
          [
           true,
           false,
           null,
           3,
           "out",
           0.967741935483871,
           586,
           707
          ],
          [
           true,
           false,
           null,
           3,
           "out",
           0.8311688311688312,
           587,
           708
          ],
          [
           false,
           true,
           null,
           3,
           "out",
           0,
           "NA",
           709
          ],
          [
           false,
           true,
           null,
           3,
           "out",
           0,
           "NA",
           710
          ],
          [
           true,
           false,
           null,
           3,
           "out",
           0.6150442477876106,
           588,
           711
          ],
          [
           true,
           false,
           null,
           3,
           "out",
           0.968,
           589,
           712
          ],
          [
           true,
           false,
           null,
           3,
           "out",
           0.8220858895705522,
           591,
           713
          ],
          [
           true,
           false,
           null,
           3,
           "out",
           0.475,
           592,
           714
          ],
          [
           true,
           false,
           null,
           3,
           "out",
           0.5549132947976878,
           593,
           715
          ],
          [
           true,
           false,
           null,
           3,
           "out",
           0.5734767025089605,
           594,
           716
          ],
          [
           false,
           true,
           null,
           3,
           "out",
           0,
           "NA",
           717
          ],
          [
           false,
           true,
           null,
           3,
           "out",
           0,
           "NA",
           718
          ],
          [
           true,
           false,
           null,
           3,
           "out",
           0.8967391304347826,
           595,
           719
          ],
          [
           true,
           false,
           null,
           3,
           "out",
           0.615,
           596,
           720
          ],
          [
           false,
           true,
           null,
           3,
           "out",
           0,
           "NA",
           721
          ],
          [
           false,
           true,
           null,
           3,
           "out",
           0,
           "NA",
           722
          ],
          [
           false,
           true,
           null,
           3,
           "out",
           0,
           "NA",
           723
          ],
          [
           true,
           false,
           null,
           3,
           "out",
           0.8844765342960289,
           597,
           724
          ],
          [
           true,
           false,
           null,
           3,
           "out",
           0.3522012578616352,
           598,
           725
          ],
          [
           true,
           false,
           null,
           3,
           "out",
           0.7508896797153025,
           599,
           726
          ],
          [
           true,
           false,
           null,
           3,
           "out",
           0.6860158311345647,
           600,
           727
          ],
          [
           true,
           false,
           null,
           3,
           "out",
           0.4956896551724138,
           601,
           728
          ],
          [
           true,
           false,
           null,
           3,
           "out",
           0.8697916666666666,
           602,
           729
          ],
          [
           true,
           false,
           null,
           3,
           "out",
           0.8851063829787233,
           603,
           730
          ],
          [
           true,
           false,
           null,
           3,
           "out",
           0.8646288209606987,
           604,
           731
          ],
          [
           true,
           false,
           null,
           3,
           "out",
           0.7272727272727273,
           605,
           732
          ],
          [
           true,
           false,
           null,
           3,
           "out",
           0.6666666666666666,
           606,
           733
          ],
          [
           true,
           false,
           null,
           3,
           "out",
           0.6462264150943396,
           607,
           734
          ],
          [
           true,
           false,
           null,
           3,
           "out",
           0.9254385964912281,
           608,
           735
          ],
          [
           true,
           false,
           null,
           3,
           "out",
           0.6614583333333334,
           609,
           736
          ],
          [
           false,
           true,
           null,
           3,
           "out",
           0,
           "NA",
           737
          ],
          [
           false,
           true,
           null,
           3,
           "out",
           0.06687898089171974,
           610,
           738
          ],
          [
           true,
           false,
           null,
           3,
           "out",
           0.5757575757575758,
           610,
           739
          ],
          [
           true,
           false,
           null,
           3,
           "out",
           0.7253886010362695,
           612,
           740
          ],
          [
           false,
           true,
           null,
           3,
           "out",
           0,
           "NA",
           741
          ],
          [
           true,
           false,
           null,
           3,
           "out",
           0.8553459119496856,
           614,
           742
          ],
          [
           true,
           false,
           null,
           3,
           "out",
           0.6347305389221557,
           615,
           743
          ],
          [
           true,
           false,
           null,
           3,
           "out",
           0.7877094972067039,
           616,
           744
          ],
          [
           true,
           false,
           null,
           3,
           "out",
           0.806282722513089,
           617,
           745
          ],
          [
           true,
           false,
           null,
           3,
           "out",
           0.8416289592760181,
           618,
           746
          ],
          [
           true,
           false,
           null,
           3,
           "out",
           0.7537688442211056,
           619,
           747
          ],
          [
           false,
           true,
           null,
           3,
           "out",
           0,
           "NA",
           748
          ],
          [
           true,
           false,
           null,
           3,
           "out",
           0.8614718614718615,
           620,
           749
          ],
          [
           true,
           false,
           null,
           3,
           "out",
           0.9230769230769231,
           621,
           750
          ],
          [
           false,
           true,
           null,
           3,
           "out",
           0,
           "NA",
           751
          ],
          [
           true,
           false,
           null,
           3,
           "out",
           0.8724489795918368,
           622,
           752
          ],
          [
           false,
           true,
           null,
           3,
           "out",
           0,
           "NA",
           753
          ],
          [
           true,
           false,
           null,
           3,
           "out",
           0.7515923566878981,
           623,
           754
          ],
          [
           false,
           true,
           null,
           3,
           "out",
           0,
           "NA",
           755
          ],
          [
           false,
           true,
           null,
           3,
           "out",
           0,
           "NA",
           756
          ],
          [
           false,
           true,
           null,
           3,
           "out",
           0,
           "NA",
           757
          ],
          [
           true,
           false,
           null,
           3,
           "out",
           0.7653061224489796,
           624,
           758
          ],
          [
           true,
           false,
           null,
           3,
           "out",
           0.6395348837209303,
           625,
           759
          ],
          [
           true,
           false,
           null,
           3,
           "out",
           0.796875,
           626,
           760
          ],
          [
           true,
           false,
           null,
           3,
           "out",
           0.6030534351145038,
           627,
           761
          ],
          [
           true,
           false,
           null,
           3,
           "out",
           0.6827956989247311,
           628,
           762
          ],
          [
           false,
           true,
           null,
           3,
           "out",
           0,
           "NA",
           763
          ],
          [
           true,
           false,
           null,
           3,
           "out",
           0.616580310880829,
           629,
           764
          ],
          [
           true,
           false,
           null,
           3,
           "out",
           0.6607773851590106,
           630,
           765
          ],
          [
           true,
           false,
           null,
           3,
           "out",
           0.8632075471698113,
           631,
           766
          ],
          [
           true,
           false,
           null,
           3,
           "out",
           0.7442922374429224,
           632,
           767
          ],
          [
           true,
           false,
           null,
           3,
           "out",
           0.7222222222222222,
           633,
           768
          ],
          [
           true,
           false,
           null,
           3,
           "out",
           0.6289592760180995,
           634,
           769
          ],
          [
           true,
           false,
           null,
           3,
           "out",
           0.7215189873417721,
           635,
           770
          ],
          [
           false,
           true,
           null,
           3,
           "out",
           0,
           "NA",
           771
          ],
          [
           true,
           false,
           null,
           3,
           "out",
           0.8728070175438597,
           636,
           772
          ],
          [
           true,
           false,
           null,
           3,
           "out",
           0.5607843137254902,
           637,
           773
          ],
          [
           false,
           true,
           null,
           3,
           "out",
           0,
           "NA",
           774
          ],
          [
           true,
           false,
           null,
           3,
           "out",
           0.875,
           638,
           775
          ],
          [
           true,
           false,
           null,
           3,
           "out",
           0.7793103448275862,
           639,
           776
          ],
          [
           false,
           true,
           null,
           3,
           "out",
           0,
           "NA",
           777
          ],
          [
           false,
           true,
           null,
           3,
           "out",
           0,
           "NA",
           778
          ],
          [
           false,
           true,
           null,
           3,
           "out",
           0,
           "NA",
           779
          ],
          [
           false,
           true,
           null,
           3,
           "out",
           0,
           "NA",
           780
          ],
          [
           true,
           false,
           null,
           3,
           "out",
           0.5099009900990099,
           640,
           781
          ],
          [
           true,
           false,
           null,
           3,
           "out",
           0.5835777126099707,
           642,
           782
          ],
          [
           true,
           false,
           null,
           3,
           "out",
           0.8865979381443299,
           643,
           783
          ],
          [
           true,
           false,
           null,
           3,
           "out",
           0.6784313725490196,
           644,
           784
          ],
          [
           true,
           false,
           null,
           3,
           "out",
           0.935064935064935,
           645,
           785
          ],
          [
           true,
           false,
           null,
           3,
           "out",
           0.7857142857142857,
           646,
           786
          ],
          [
           false,
           true,
           null,
           3,
           "out",
           0,
           "NA",
           787
          ],
          [
           true,
           false,
           null,
           3,
           "out",
           0.6035353535353535,
           647,
           788
          ],
          [
           true,
           false,
           null,
           3,
           "out",
           0.9183673469387755,
           648,
           789
          ],
          [
           true,
           false,
           null,
           3,
           "out",
           0.7218934911242604,
           649,
           790
          ],
          [
           true,
           false,
           null,
           3,
           "out",
           0.7634730538922155,
           650,
           791
          ],
          [
           true,
           false,
           null,
           3,
           "out",
           0.5630630630630631,
           651,
           792
          ],
          [
           false,
           true,
           null,
           3,
           "out",
           0,
           "NA",
           793
          ],
          [
           false,
           true,
           null,
           3,
           "out",
           0,
           "NA",
           794
          ],
          [
           false,
           true,
           null,
           3,
           "out",
           0,
           "NA",
           795
          ],
          [
           true,
           false,
           null,
           3,
           "out",
           0.7490494296577946,
           652,
           796
          ],
          [
           true,
           false,
           null,
           3,
           "out",
           0.8415841584158416,
           653,
           797
          ],
          [
           true,
           false,
           null,
           3,
           "out",
           0.7900552486187845,
           654,
           798
          ],
          [
           true,
           false,
           null,
           3,
           "out",
           0.7246376811594203,
           655,
           799
          ],
          [
           false,
           true,
           null,
           3,
           "out",
           0,
           "NA",
           800
          ],
          [
           true,
           false,
           null,
           3,
           "out",
           0.8850574712643678,
           656,
           801
          ],
          [
           true,
           false,
           null,
           3,
           "out",
           0.7104072398190046,
           657,
           802
          ],
          [
           false,
           true,
           null,
           3,
           "out",
           0,
           "NA",
           803
          ],
          [
           true,
           false,
           null,
           3,
           "out",
           0.8916256157635468,
           658,
           804
          ],
          [
           false,
           true,
           null,
           3,
           "out",
           0,
           "NA",
           805
          ],
          [
           true,
           false,
           null,
           3,
           "out",
           0.5209790209790209,
           659,
           806
          ],
          [
           false,
           true,
           null,
           3,
           "out",
           0,
           "NA",
           807
          ],
          [
           true,
           false,
           null,
           3,
           "out",
           0.5071428571428571,
           660,
           808
          ],
          [
           false,
           true,
           null,
           3,
           "out",
           0,
           "NA",
           809
          ],
          [
           false,
           true,
           null,
           3,
           "out",
           0,
           "NA",
           810
          ],
          [
           false,
           true,
           null,
           3,
           "out",
           0,
           "NA",
           811
          ],
          [
           false,
           true,
           null,
           3,
           "out",
           0,
           "NA",
           812
          ],
          [
           true,
           false,
           null,
           3,
           "out",
           0.8362989323843416,
           661,
           813
          ],
          [
           false,
           true,
           null,
           3,
           "out",
           0,
           "NA",
           814
          ],
          [
           true,
           false,
           null,
           3,
           "out",
           0.5824561403508772,
           662,
           815
          ],
          [
           false,
           true,
           null,
           3,
           "out",
           0,
           "NA",
           816
          ],
          [
           true,
           false,
           null,
           3,
           "out",
           0.7556818181818182,
           663,
           817
          ],
          [
           true,
           false,
           null,
           3,
           "out",
           0.8770491803278688,
           664,
           818
          ],
          [
           true,
           false,
           null,
           3,
           "out",
           0.5693950177935944,
           665,
           819
          ],
          [
           true,
           false,
           null,
           3,
           "out",
           0.786096256684492,
           666,
           820
          ],
          [
           true,
           false,
           null,
           3,
           "out",
           0.7925311203319502,
           667,
           821
          ],
          [
           true,
           false,
           null,
           3,
           "out",
           0.9558823529411765,
           668,
           822
          ],
          [
           true,
           false,
           null,
           3,
           "out",
           0.711864406779661,
           669,
           823
          ],
          [
           true,
           false,
           null,
           3,
           "out",
           0.8220338983050848,
           670,
           824
          ],
          [
           true,
           false,
           null,
           3,
           "out",
           0.7605633802816901,
           671,
           825
          ],
          [
           false,
           true,
           null,
           3,
           "out",
           0,
           "NA",
           826
          ],
          [
           true,
           false,
           null,
           3,
           "out",
           0.8925233644859814,
           672,
           827
          ],
          [
           false,
           true,
           null,
           3,
           "out",
           0,
           "NA",
           828
          ],
          [
           false,
           true,
           null,
           3,
           "out",
           0.08074534161490683,
           673,
           829
          ],
          [
           true,
           false,
           null,
           3,
           "out",
           0.6782178217821783,
           673,
           830
          ],
          [
           true,
           false,
           null,
           3,
           "out",
           0.8055555555555556,
           674,
           831
          ],
          [
           true,
           false,
           null,
           3,
           "out",
           0.7526315789473684,
           675,
           832
          ],
          [
           true,
           false,
           null,
           3,
           "out",
           0.7450980392156863,
           676,
           833
          ],
          [
           true,
           false,
           null,
           3,
           "out",
           0.8571428571428571,
           677,
           834
          ],
          [
           true,
           false,
           null,
           3,
           "out",
           0.8131313131313131,
           678,
           835
          ],
          [
           true,
           false,
           null,
           3,
           "out",
           0.7154811715481172,
           679,
           836
          ],
          [
           false,
           true,
           null,
           3,
           "out",
           0,
           "NA",
           837
          ],
          [
           true,
           false,
           null,
           3,
           "out",
           0.47928994082840237,
           680,
           838
          ],
          [
           true,
           false,
           null,
           3,
           "out",
           0.7401574803149606,
           681,
           839
          ],
          [
           false,
           true,
           null,
           3,
           "out",
           0,
           "NA",
           840
          ],
          [
           true,
           false,
           null,
           3,
           "out",
           0.9408866995073891,
           682,
           841
          ],
          [
           false,
           true,
           null,
           3,
           "out",
           0,
           "NA",
           842
          ],
          [
           false,
           true,
           null,
           3,
           "out",
           0,
           "NA",
           843
          ],
          [
           true,
           false,
           null,
           3,
           "out",
           0.903954802259887,
           683,
           844
          ],
          [
           true,
           false,
           null,
           3,
           "out",
           0.5,
           684,
           845
          ],
          [
           true,
           false,
           null,
           3,
           "out",
           0.6526315789473685,
           685,
           846
          ],
          [
           true,
           false,
           null,
           3,
           "out",
           0.6591928251121076,
           686,
           847
          ],
          [
           true,
           false,
           null,
           3,
           "out",
           0.7866666666666666,
           688,
           848
          ],
          [
           false,
           true,
           null,
           3,
           "out",
           0,
           "NA",
           849
          ],
          [
           true,
           false,
           null,
           3,
           "out",
           0.6935483870967742,
           689,
           850
          ],
          [
           false,
           true,
           null,
           3,
           "out",
           0,
           "NA",
           851
          ],
          [
           true,
           false,
           null,
           3,
           "out",
           0.8414634146341463,
           690,
           852
          ],
          [
           false,
           true,
           null,
           3,
           "out",
           0,
           "NA",
           853
          ],
          [
           false,
           true,
           null,
           3,
           "out",
           0,
           "NA",
           854
          ],
          [
           true,
           false,
           null,
           3,
           "out",
           0.34210526315789475,
           691,
           855
          ],
          [
           true,
           false,
           null,
           3,
           "out",
           0.708994708994709,
           692,
           856
          ],
          [
           false,
           true,
           null,
           3,
           "out",
           0,
           "NA",
           857
          ],
          [
           false,
           true,
           null,
           3,
           "out",
           0,
           "NA",
           858
          ],
          [
           false,
           true,
           null,
           3,
           "out",
           0,
           "NA",
           859
          ],
          [
           false,
           true,
           null,
           3,
           "out",
           0,
           "NA",
           860
          ],
          [
           true,
           false,
           null,
           3,
           "out",
           0.7412587412587412,
           693,
           861
          ],
          [
           true,
           false,
           null,
           3,
           "out",
           0.7621951219512195,
           694,
           862
          ],
          [
           true,
           false,
           null,
           3,
           "out",
           0.6746987951807228,
           695,
           863
          ],
          [
           true,
           false,
           null,
           3,
           "out",
           0.7586206896551724,
           696,
           864
          ],
          [
           false,
           true,
           null,
           3,
           "out",
           0,
           "NA",
           865
          ],
          [
           false,
           true,
           null,
           3,
           "out",
           0,
           "NA",
           866
          ],
          [
           true,
           false,
           null,
           3,
           "out",
           0.8715596330275229,
           697,
           867
          ],
          [
           false,
           true,
           null,
           3,
           "out",
           0,
           "NA",
           868
          ],
          [
           true,
           false,
           null,
           3,
           "out",
           0.8311111111111111,
           698,
           869
          ],
          [
           false,
           true,
           null,
           3,
           "out",
           0,
           "NA",
           870
          ],
          [
           true,
           false,
           null,
           3,
           "out",
           0.8546511627906976,
           699,
           871
          ],
          [
           false,
           true,
           null,
           3,
           "out",
           0,
           "NA",
           872
          ],
          [
           true,
           false,
           null,
           3,
           "out",
           0.6977777777777778,
           700,
           873
          ],
          [
           false,
           true,
           null,
           3,
           "out",
           0,
           "NA",
           874
          ],
          [
           true,
           false,
           null,
           3,
           "out",
           0.625,
           701,
           875
          ],
          [
           false,
           true,
           null,
           3,
           "out",
           0,
           "NA",
           876
          ],
          [
           true,
           false,
           null,
           3,
           "out",
           0.7816091954022989,
           702,
           877
          ],
          [
           false,
           true,
           null,
           3,
           "out",
           0,
           "NA",
           878
          ],
          [
           false,
           true,
           null,
           3,
           "out",
           0,
           "NA",
           879
          ],
          [
           true,
           false,
           null,
           3,
           "out",
           0.5847457627118644,
           703,
           880
          ],
          [
           false,
           true,
           null,
           3,
           "out",
           0,
           "NA",
           881
          ],
          [
           false,
           true,
           null,
           3,
           "out",
           0,
           "NA",
           882
          ],
          [
           false,
           true,
           null,
           3,
           "out",
           0,
           "NA",
           883
          ],
          [
           true,
           false,
           null,
           3,
           "out",
           0.75,
           704,
           884
          ],
          [
           true,
           false,
           null,
           3,
           "out",
           0.6062992125984252,
           705,
           885
          ],
          [
           false,
           true,
           null,
           3,
           "out",
           0,
           "NA",
           886
          ],
          [
           true,
           false,
           null,
           3,
           "out",
           0.8155339805825242,
           706,
           887
          ],
          [
           true,
           false,
           null,
           3,
           "out",
           0.6845238095238095,
           707,
           888
          ],
          [
           false,
           true,
           null,
           3,
           "out",
           0,
           "NA",
           889
          ],
          [
           false,
           true,
           null,
           3,
           "out",
           0,
           "NA",
           890
          ],
          [
           true,
           false,
           null,
           3,
           "out",
           0.7924528301886793,
           708,
           891
          ],
          [
           false,
           true,
           null,
           3,
           "out",
           0,
           "NA",
           892
          ],
          [
           false,
           true,
           null,
           3,
           "out",
           0,
           "NA",
           893
          ],
          [
           false,
           true,
           null,
           3,
           "out",
           0,
           "NA",
           894
          ],
          [
           false,
           true,
           null,
           3,
           "out",
           0,
           "NA",
           895
          ],
          [
           false,
           true,
           null,
           3,
           "out",
           0,
           "NA",
           896
          ],
          [
           false,
           true,
           null,
           3,
           "out",
           0,
           "NA",
           897
          ],
          [
           false,
           true,
           null,
           3,
           "out",
           0,
           "NA",
           898
          ],
          [
           true,
           false,
           null,
           3,
           "out",
           0.6059322033898306,
           709,
           899
          ],
          [
           false,
           true,
           null,
           3,
           "out",
           0,
           "NA",
           900
          ],
          [
           true,
           false,
           null,
           3,
           "out",
           0.9624413145539906,
           710,
           901
          ],
          [
           false,
           true,
           null,
           3,
           "out",
           0,
           "NA",
           902
          ],
          [
           true,
           false,
           null,
           3,
           "out",
           0.6283783783783784,
           712,
           903
          ],
          [
           true,
           false,
           null,
           3,
           "out",
           0.826530612244898,
           713,
           904
          ],
          [
           false,
           true,
           null,
           3,
           "out",
           0,
           "NA",
           905
          ],
          [
           false,
           true,
           null,
           3,
           "out",
           0,
           "NA",
           906
          ],
          [
           false,
           true,
           null,
           3,
           "out",
           0,
           "NA",
           907
          ],
          [
           false,
           true,
           null,
           3,
           "out",
           0,
           "NA",
           908
          ],
          [
           true,
           false,
           null,
           3,
           "out",
           0.6590909090909091,
           714,
           909
          ],
          [
           false,
           true,
           null,
           3,
           "out",
           0,
           "NA",
           910
          ],
          [
           true,
           false,
           null,
           3,
           "out",
           0.7068965517241379,
           715,
           911
          ],
          [
           true,
           false,
           null,
           3,
           "out",
           0.9358288770053476,
           716,
           912
          ],
          [
           true,
           false,
           null,
           3,
           "out",
           0.5964912280701754,
           717,
           913
          ],
          [
           false,
           true,
           null,
           3,
           "out",
           0,
           "NA",
           914
          ],
          [
           false,
           true,
           null,
           3,
           "out",
           0,
           "NA",
           915
          ],
          [
           false,
           true,
           null,
           3,
           "out",
           0,
           "NA",
           916
          ],
          [
           true,
           false,
           null,
           3,
           "out",
           0.851063829787234,
           719,
           917
          ],
          [
           false,
           true,
           null,
           3,
           "out",
           0,
           "NA",
           918
          ],
          [
           true,
           false,
           null,
           3,
           "out",
           0.7368421052631579,
           720,
           919
          ],
          [
           true,
           false,
           null,
           3,
           "out",
           0.6622222222222223,
           721,
           920
          ],
          [
           true,
           false,
           null,
           3,
           "out",
           0.7819905213270142,
           722,
           921
          ],
          [
           false,
           true,
           null,
           3,
           "out",
           0,
           "NA",
           922
          ],
          [
           true,
           false,
           null,
           3,
           "out",
           0.6496815286624203,
           723,
           923
          ],
          [
           true,
           false,
           null,
           3,
           "out",
           0.8048780487804879,
           724,
           924
          ],
          [
           false,
           true,
           null,
           3,
           "out",
           0,
           "NA",
           925
          ],
          [
           false,
           true,
           null,
           3,
           "out",
           0,
           "NA",
           926
          ],
          [
           true,
           false,
           null,
           3,
           "out",
           0.7613636363636364,
           728,
           927
          ],
          [
           false,
           true,
           null,
           3,
           "out",
           0,
           "NA",
           928
          ],
          [
           false,
           true,
           null,
           3,
           "out",
           0,
           "NA",
           929
          ],
          [
           true,
           false,
           null,
           3,
           "out",
           0.746268656716418,
           732,
           930
          ],
          [
           true,
           false,
           null,
           3,
           "out",
           0.65625,
           733,
           931
          ],
          [
           false,
           true,
           null,
           3,
           "out",
           0,
           "NA",
           932
          ],
          [
           false,
           true,
           null,
           3,
           "out",
           0,
           "NA",
           933
          ],
          [
           false,
           true,
           null,
           3,
           "out",
           0,
           "NA",
           934
          ],
          [
           false,
           true,
           null,
           3,
           "out",
           0,
           "NA",
           935
          ],
          [
           true,
           false,
           null,
           3,
           "out",
           0.803921568627451,
           735,
           936
          ],
          [
           false,
           true,
           null,
           3,
           "out",
           0,
           "NA",
           937
          ],
          [
           true,
           false,
           null,
           3,
           "out",
           0.8532110091743119,
           737,
           938
          ],
          [
           false,
           true,
           null,
           3,
           "out",
           0,
           "NA",
           939
          ],
          [
           false,
           true,
           null,
           3,
           "out",
           0,
           "NA",
           940
          ],
          [
           false,
           true,
           null,
           3,
           "out",
           0,
           "NA",
           941
          ],
          [
           false,
           true,
           null,
           3,
           "out",
           0,
           "NA",
           942
          ],
          [
           true,
           false,
           null,
           3,
           "out",
           0.6059479553903345,
           738,
           943
          ],
          [
           true,
           false,
           null,
           3,
           "out",
           0.7722419928825622,
           739,
           944
          ],
          [
           false,
           true,
           null,
           3,
           "out",
           0,
           "NA",
           945
          ],
          [
           true,
           false,
           null,
           3,
           "out",
           0.7511737089201878,
           740,
           946
          ],
          [
           true,
           false,
           null,
           3,
           "out",
           0.7925925925925926,
           741,
           947
          ],
          [
           true,
           false,
           null,
           3,
           "out",
           0.5922619047619048,
           742,
           948
          ],
          [
           false,
           true,
           null,
           3,
           "out",
           0,
           "NA",
           949
          ],
          [
           true,
           false,
           null,
           3,
           "out",
           0.7210526315789474,
           743,
           950
          ],
          [
           true,
           false,
           null,
           3,
           "out",
           0.78125,
           744,
           951
          ],
          [
           false,
           true,
           null,
           3,
           "out",
           0.2779552715654952,
           745,
           952
          ],
          [
           false,
           true,
           null,
           3,
           "out",
           0,
           "NA",
           953
          ],
          [
           false,
           true,
           null,
           3,
           "out",
           0,
           "NA",
           954
          ],
          [
           true,
           false,
           null,
           3,
           "out",
           0.8074074074074075,
           746,
           955
          ],
          [
           false,
           true,
           null,
           3,
           "out",
           0,
           "NA",
           956
          ],
          [
           false,
           true,
           null,
           3,
           "out",
           0,
           "NA",
           957
          ],
          [
           false,
           true,
           null,
           3,
           "out",
           0,
           "NA",
           958
          ],
          [
           true,
           false,
           null,
           3,
           "out",
           0.7258883248730964,
           747,
           959
          ],
          [
           true,
           false,
           null,
           3,
           "out",
           0.6986301369863014,
           748,
           960
          ],
          [
           false,
           true,
           null,
           3,
           "out",
           0,
           "NA",
           961
          ],
          [
           false,
           true,
           null,
           3,
           "out",
           0,
           "NA",
           962
          ],
          [
           true,
           false,
           null,
           3,
           "out",
           0.9326923076923077,
           749,
           963
          ],
          [
           true,
           false,
           null,
           3,
           "out",
           0.5791666666666667,
           750,
           964
          ],
          [
           true,
           false,
           null,
           3,
           "out",
           0.5775193798449613,
           751,
           965
          ],
          [
           false,
           true,
           null,
           3,
           "out",
           0,
           "NA",
           966
          ],
          [
           true,
           false,
           null,
           3,
           "out",
           0.7425742574257426,
           752,
           967
          ],
          [
           true,
           false,
           null,
           3,
           "out",
           0.7044334975369458,
           753,
           968
          ],
          [
           false,
           true,
           null,
           3,
           "out",
           0,
           "NA",
           969
          ],
          [
           true,
           false,
           null,
           3,
           "out",
           0.8565022421524664,
           754,
           970
          ],
          [
           true,
           false,
           null,
           3,
           "out",
           0.6436781609195402,
           755,
           971
          ],
          [
           true,
           false,
           null,
           3,
           "out",
           0.5529953917050692,
           756,
           972
          ],
          [
           true,
           false,
           null,
           3,
           "out",
           0.8851063829787233,
           757,
           973
          ],
          [
           false,
           true,
           null,
           3,
           "out",
           0,
           "NA",
           974
          ],
          [
           true,
           false,
           null,
           3,
           "out",
           0.7735849056603774,
           758,
           975
          ],
          [
           true,
           false,
           null,
           3,
           "out",
           0.967032967032967,
           759,
           976
          ],
          [
           true,
           false,
           null,
           3,
           "out",
           0.6342592592592593,
           760,
           977
          ],
          [
           true,
           false,
           null,
           3,
           "out",
           0.5472312703583062,
           761,
           978
          ],
          [
           true,
           false,
           null,
           3,
           "out",
           0.5450643776824035,
           762,
           979
          ],
          [
           true,
           false,
           null,
           3,
           "out",
           0.8163265306122449,
           763,
           980
          ],
          [
           true,
           false,
           null,
           3,
           "out",
           0.7470588235294118,
           764,
           981
          ],
          [
           false,
           true,
           null,
           3,
           "out",
           0,
           "NA",
           982
          ],
          [
           false,
           true,
           null,
           3,
           "out",
           0.08247422680412371,
           765,
           983
          ],
          [
           true,
           false,
           null,
           3,
           "out",
           0.6526946107784432,
           765,
           984
          ],
          [
           false,
           true,
           null,
           3,
           "out",
           0,
           "NA",
           985
          ],
          [
           true,
           false,
           null,
           3,
           "out",
           0.7889447236180904,
           766,
           986
          ],
          [
           true,
           false,
           null,
           3,
           "out",
           0.7916666666666666,
           767,
           987
          ],
          [
           true,
           false,
           null,
           3,
           "out",
           0.7048458149779736,
           768,
           988
          ],
          [
           true,
           false,
           null,
           3,
           "out",
           0.6363636363636364,
           769,
           989
          ],
          [
           true,
           false,
           null,
           3,
           "out",
           0.75,
           770,
           990
          ],
          [
           false,
           true,
           null,
           3,
           "out",
           0,
           "NA",
           991
          ],
          [
           false,
           true,
           null,
           3,
           "out",
           0,
           "NA",
           992
          ],
          [
           false,
           true,
           null,
           3,
           "out",
           0,
           "NA",
           993
          ],
          [
           false,
           true,
           null,
           3,
           "out",
           0,
           "NA",
           994
          ],
          [
           true,
           false,
           null,
           3,
           "out",
           0.646551724137931,
           771,
           995
          ],
          [
           true,
           false,
           null,
           3,
           "out",
           0.896551724137931,
           772,
           996
          ],
          [
           true,
           false,
           null,
           3,
           "out",
           0.7804878048780488,
           773,
           997
          ],
          [
           true,
           false,
           null,
           3,
           "out",
           0.71,
           774,
           998
          ],
          [
           true,
           false,
           null,
           3,
           "out",
           0.8184931506849316,
           775,
           999
          ],
          [
           false,
           true,
           null,
           3,
           "out",
           0,
           "NA",
           1000
          ],
          [
           true,
           false,
           null,
           3,
           "out",
           0.9251700680272109,
           776,
           1001
          ],
          [
           true,
           false,
           null,
           3,
           "out",
           0.8194444444444444,
           777,
           1002
          ],
          [
           true,
           false,
           null,
           3,
           "out",
           0.8341463414634146,
           778,
           1003
          ],
          [
           false,
           true,
           null,
           3,
           "out",
           0,
           "NA",
           1004
          ],
          [
           true,
           false,
           null,
           3,
           "out",
           0.6378600823045267,
           780,
           1005
          ],
          [
           true,
           false,
           null,
           3,
           "out",
           0.7978723404255319,
           781,
           1006
          ],
          [
           true,
           false,
           null,
           3,
           "out",
           0.8097345132743363,
           782,
           1007
          ],
          [
           false,
           true,
           null,
           3,
           "out",
           0,
           "NA",
           1008
          ],
          [
           true,
           false,
           null,
           3,
           "out",
           0.8402061855670103,
           783,
           1009
          ],
          [
           true,
           false,
           null,
           3,
           "out",
           0.768361581920904,
           784,
           1010
          ],
          [
           true,
           false,
           null,
           3,
           "out",
           0.6692913385826772,
           785,
           1011
          ],
          [
           false,
           true,
           null,
           3,
           "out",
           0,
           "NA",
           1012
          ],
          [
           true,
           false,
           null,
           3,
           "out",
           0.612,
           786,
           1013
          ],
          [
           true,
           false,
           null,
           3,
           "out",
           0.8781512605042017,
           787,
           1014
          ],
          [
           false,
           true,
           null,
           3,
           "out",
           0,
           "NA",
           1015
          ],
          [
           false,
           true,
           null,
           3,
           "out",
           0,
           "NA",
           1016
          ],
          [
           true,
           false,
           null,
           3,
           "out",
           0.7073170731707317,
           788,
           1017
          ],
          [
           true,
           false,
           null,
           3,
           "out",
           0.6470588235294118,
           789,
           1018
          ],
          [
           false,
           true,
           null,
           3,
           "out",
           0,
           "NA",
           1019
          ],
          [
           true,
           false,
           null,
           3,
           "out",
           0.6133333333333333,
           790,
           1020
          ],
          [
           true,
           false,
           null,
           3,
           "out",
           0.8921568627450981,
           791,
           1021
          ],
          [
           true,
           false,
           null,
           3,
           "out",
           0.7149532710280374,
           792,
           1022
          ],
          [
           true,
           false,
           null,
           3,
           "out",
           0.6606217616580311,
           793,
           1023
          ],
          [
           false,
           true,
           null,
           3,
           "out",
           0,
           "NA",
           1024
          ],
          [
           false,
           true,
           null,
           3,
           "out",
           0,
           "NA",
           1025
          ],
          [
           true,
           false,
           null,
           3,
           "out",
           0.7318007662835249,
           794,
           1026
          ],
          [
           false,
           true,
           null,
           3,
           "out",
           0,
           "NA",
           1027
          ],
          [
           true,
           false,
           null,
           3,
           "out",
           0.8819672131147541,
           795,
           1028
          ],
          [
           false,
           true,
           null,
           3,
           "out",
           0,
           "NA",
           1029
          ],
          [
           true,
           false,
           null,
           3,
           "out",
           0.888135593220339,
           796,
           1030
          ],
          [
           false,
           true,
           null,
           3,
           "out",
           0,
           "NA",
           1031
          ],
          [
           true,
           false,
           null,
           3,
           "out",
           0.7861635220125787,
           797,
           1032
          ],
          [
           true,
           false,
           null,
           3,
           "out",
           0.9120370370370371,
           798,
           1033
          ],
          [
           true,
           false,
           null,
           3,
           "out",
           0.7358490566037735,
           799,
           1034
          ],
          [
           false,
           true,
           null,
           3,
           "out",
           0,
           "NA",
           1035
          ],
          [
           true,
           false,
           null,
           3,
           "out",
           0.9734513274336283,
           800,
           1036
          ],
          [
           true,
           false,
           null,
           3,
           "out",
           0.812,
           801,
           1037
          ],
          [
           true,
           false,
           null,
           3,
           "out",
           0.5198675496688742,
           802,
           1038
          ],
          [
           false,
           true,
           null,
           3,
           "out",
           0,
           "NA",
           1039
          ],
          [
           true,
           false,
           null,
           3,
           "out",
           0.8249027237354085,
           803,
           1040
          ],
          [
           true,
           false,
           null,
           3,
           "out",
           0.7755102040816326,
           804,
           1041
          ],
          [
           true,
           false,
           null,
           3,
           "out",
           0.7384615384615385,
           805,
           1042
          ],
          [
           true,
           false,
           null,
           3,
           "out",
           0.6593406593406593,
           806,
           1043
          ],
          [
           false,
           true,
           null,
           3,
           "out",
           0,
           "NA",
           1044
          ],
          [
           false,
           true,
           null,
           3,
           "out",
           0,
           "NA",
           1045
          ],
          [
           true,
           false,
           null,
           3,
           "out",
           0.8084112149532711,
           807,
           1046
          ],
          [
           false,
           true,
           null,
           3,
           "out",
           0,
           "NA",
           1047
          ],
          [
           false,
           true,
           null,
           3,
           "out",
           0,
           "NA",
           1048
          ],
          [
           true,
           false,
           null,
           3,
           "out",
           0.722972972972973,
           808,
           1049
          ],
          [
           false,
           true,
           null,
           3,
           "out",
           0,
           "NA",
           1050
          ],
          [
           false,
           true,
           null,
           3,
           "out",
           0,
           "NA",
           1051
          ],
          [
           true,
           false,
           null,
           3,
           "out",
           0.6167400881057269,
           809,
           1052
          ],
          [
           true,
           false,
           null,
           3,
           "out",
           0.807909604519774,
           810,
           1053
          ],
          [
           true,
           false,
           null,
           3,
           "out",
           0.8480392156862745,
           811,
           1054
          ],
          [
           true,
           false,
           null,
           3,
           "out",
           0.7045454545454546,
           812,
           1055
          ],
          [
           true,
           false,
           null,
           3,
           "out",
           0.6412213740458015,
           813,
           1056
          ],
          [
           false,
           true,
           null,
           3,
           "out",
           0,
           "NA",
           1057
          ],
          [
           false,
           true,
           null,
           3,
           "out",
           0,
           "NA",
           1058
          ],
          [
           true,
           false,
           null,
           3,
           "out",
           0.3684210526315789,
           815,
           1059
          ],
          [
           true,
           false,
           null,
           3,
           "out",
           0.9095477386934674,
           816,
           1060
          ],
          [
           true,
           false,
           null,
           3,
           "out",
           0.815,
           817,
           1061
          ],
          [
           true,
           false,
           null,
           3,
           "out",
           0.46195652173913043,
           818,
           1062
          ],
          [
           true,
           false,
           null,
           3,
           "out",
           0.6890459363957597,
           819,
           1063
          ],
          [
           false,
           true,
           null,
           3,
           "out",
           0.2808988764044944,
           820,
           1064
          ],
          [
           true,
           false,
           null,
           3,
           "out",
           0.710691823899371,
           821,
           1065
          ],
          [
           true,
           false,
           null,
           3,
           "out",
           0.8092783505154639,
           823,
           1066
          ],
          [
           true,
           false,
           null,
           3,
           "out",
           0.8387096774193549,
           824,
           1067
          ],
          [
           true,
           false,
           null,
           3,
           "out",
           0.7272727272727273,
           826,
           1068
          ],
          [
           true,
           false,
           null,
           3,
           "out",
           0.8726415094339622,
           827,
           1069
          ],
          [
           true,
           false,
           null,
           3,
           "out",
           0.6878048780487804,
           828,
           1070
          ],
          [
           false,
           true,
           null,
           3,
           "out",
           0.2125,
           829,
           1071
          ],
          [
           false,
           true,
           null,
           3,
           "out",
           0,
           "NA",
           1072
          ],
          [
           true,
           false,
           null,
           3,
           "out",
           0.9285714285714286,
           830,
           1073
          ],
          [
           false,
           true,
           null,
           3,
           "out",
           0,
           "NA",
           1074
          ],
          [
           false,
           true,
           null,
           3,
           "out",
           0,
           "NA",
           1075
          ],
          [
           true,
           false,
           null,
           3,
           "out",
           0.8342857142857143,
           831,
           1076
          ],
          [
           true,
           false,
           null,
           3,
           "out",
           0.6111111111111112,
           832,
           1077
          ],
          [
           true,
           false,
           null,
           3,
           "out",
           0.6143790849673203,
           833,
           1078
          ],
          [
           true,
           false,
           null,
           3,
           "out",
           0.5539568345323741,
           834,
           1079
          ],
          [
           true,
           false,
           null,
           3,
           "out",
           0.9292452830188679,
           835,
           1080
          ],
          [
           true,
           false,
           null,
           3,
           "out",
           0.594059405940594,
           836,
           1081
          ],
          [
           false,
           true,
           null,
           3,
           "out",
           0,
           "NA",
           1082
          ],
          [
           false,
           true,
           null,
           3,
           "out",
           0,
           "NA",
           1083
          ],
          [
           false,
           true,
           null,
           3,
           "out",
           0,
           "NA",
           1084
          ],
          [
           true,
           false,
           null,
           3,
           "out",
           0.6974358974358974,
           837,
           1085
          ],
          [
           false,
           true,
           null,
           3,
           "out",
           0,
           "NA",
           1086
          ],
          [
           true,
           false,
           null,
           3,
           "out",
           0.5,
           838,
           1087
          ],
          [
           true,
           false,
           null,
           3,
           "out",
           0.5285714285714286,
           839,
           1088
          ],
          [
           true,
           false,
           null,
           3,
           "out",
           0.680952380952381,
           840,
           1089
          ],
          [
           true,
           false,
           null,
           3,
           "out",
           0.6486486486486487,
           841,
           1090
          ],
          [
           true,
           false,
           null,
           3,
           "out",
           0.8429319371727748,
           842,
           1091
          ],
          [
           false,
           true,
           null,
           3,
           "out",
           0,
           "NA",
           1092
          ],
          [
           true,
           false,
           null,
           3,
           "out",
           0.7341269841269841,
           843,
           1093
          ],
          [
           false,
           true,
           null,
           3,
           "out",
           0,
           "NA",
           1094
          ],
          [
           true,
           false,
           null,
           3,
           "out",
           0.7222222222222222,
           844,
           1095
          ],
          [
           false,
           true,
           null,
           3,
           "out",
           0,
           "NA",
           1096
          ],
          [
           false,
           true,
           null,
           3,
           "out",
           0,
           "NA",
           1097
          ],
          [
           true,
           false,
           null,
           3,
           "out",
           0.6828193832599119,
           846,
           1098
          ],
          [
           false,
           true,
           null,
           3,
           "out",
           0,
           "NA",
           1099
          ],
          [
           true,
           false,
           null,
           3,
           "out",
           0.7067307692307693,
           847,
           1100
          ],
          [
           false,
           true,
           null,
           3,
           "out",
           0,
           "NA",
           1101
          ],
          [
           false,
           true,
           null,
           3,
           "out",
           0,
           "NA",
           1102
          ],
          [
           false,
           true,
           null,
           3,
           "out",
           0,
           "NA",
           1103
          ],
          [
           true,
           false,
           null,
           3,
           "out",
           0.7784810126582279,
           849,
           1104
          ],
          [
           true,
           false,
           null,
           3,
           "out",
           0.8659217877094972,
           850,
           1105
          ],
          [
           false,
           true,
           null,
           3,
           "out",
           0,
           "NA",
           1106
          ],
          [
           false,
           true,
           null,
           3,
           "out",
           0,
           "NA",
           1107
          ],
          [
           true,
           false,
           null,
           3,
           "out",
           0.8178294573643411,
           851,
           1108
          ],
          [
           false,
           true,
           null,
           3,
           "out",
           0,
           "NA",
           1109
          ],
          [
           false,
           true,
           null,
           3,
           "out",
           0,
           "NA",
           1110
          ],
          [
           false,
           true,
           null,
           3,
           "out",
           0,
           "NA",
           1111
          ],
          [
           true,
           false,
           null,
           3,
           "out",
           0.7531645569620253,
           852,
           1112
          ],
          [
           false,
           true,
           null,
           3,
           "out",
           0,
           "NA",
           1113
          ],
          [
           true,
           false,
           null,
           3,
           "out",
           0.8269230769230769,
           853,
           1114
          ],
          [
           false,
           true,
           null,
           3,
           "out",
           0,
           "NA",
           1115
          ],
          [
           false,
           true,
           null,
           3,
           "out",
           0,
           "NA",
           1116
          ],
          [
           true,
           false,
           null,
           3,
           "out",
           0.5384615384615384,
           854,
           1117
          ],
          [
           true,
           false,
           null,
           3,
           "out",
           0.946969696969697,
           855,
           1118
          ],
          [
           true,
           false,
           null,
           3,
           "out",
           0.8177339901477833,
           856,
           1119
          ],
          [
           false,
           true,
           null,
           3,
           "out",
           0,
           "NA",
           1120
          ],
          [
           true,
           false,
           null,
           3,
           "out",
           0.7518248175182481,
           857,
           1121
          ],
          [
           true,
           false,
           null,
           3,
           "out",
           0.9337349397590361,
           858,
           1122
          ],
          [
           true,
           false,
           null,
           3,
           "out",
           0.83125,
           859,
           1123
          ],
          [
           true,
           false,
           null,
           3,
           "out",
           0.583710407239819,
           860,
           1124
          ],
          [
           true,
           false,
           null,
           3,
           "out",
           0.7754010695187166,
           861,
           1125
          ],
          [
           false,
           true,
           null,
           3,
           "out",
           0,
           "NA",
           1126
          ],
          [
           true,
           false,
           null,
           3,
           "out",
           0.7235772357723578,
           862,
           1127
          ],
          [
           true,
           false,
           null,
           3,
           "out",
           0.9224806201550387,
           863,
           1128
          ],
          [
           false,
           true,
           null,
           3,
           "out",
           0,
           "NA",
           1129
          ],
          [
           true,
           false,
           null,
           3,
           "out",
           0.7279411764705882,
           864,
           1130
          ],
          [
           false,
           true,
           null,
           3,
           "out",
           0,
           "NA",
           1131
          ],
          [
           true,
           false,
           null,
           3,
           "out",
           0.7255813953488373,
           865,
           1132
          ],
          [
           false,
           true,
           null,
           3,
           "out",
           0,
           "NA",
           1133
          ],
          [
           true,
           false,
           null,
           3,
           "out",
           0.6234567901234568,
           866,
           1134
          ],
          [
           true,
           false,
           null,
           3,
           "out",
           0.7,
           867,
           1135
          ],
          [
           true,
           false,
           null,
           3,
           "out",
           0.6893203883495146,
           868,
           1136
          ],
          [
           true,
           false,
           null,
           3,
           "out",
           0.6771653543307087,
           869,
           1137
          ],
          [
           false,
           true,
           null,
           3,
           "out",
           0,
           "NA",
           1138
          ],
          [
           false,
           true,
           null,
           3,
           "out",
           0,
           "NA",
           1139
          ],
          [
           true,
           false,
           null,
           3,
           "out",
           0.6513409961685823,
           870,
           1140
          ],
          [
           true,
           false,
           null,
           3,
           "out",
           0.8192771084337349,
           871,
           1141
          ],
          [
           true,
           false,
           null,
           3,
           "out",
           0.9690721649484536,
           872,
           1142
          ],
          [
           false,
           true,
           null,
           3,
           "out",
           0,
           "NA",
           1143
          ],
          [
           true,
           false,
           null,
           3,
           "out",
           0.8131313131313131,
           873,
           1144
          ],
          [
           false,
           true,
           null,
           3,
           "out",
           0,
           "NA",
           1145
          ],
          [
           false,
           true,
           null,
           3,
           "out",
           0,
           "NA",
           1146
          ],
          [
           true,
           false,
           null,
           3,
           "out",
           0.7738095238095238,
           874,
           1147
          ],
          [
           true,
           false,
           null,
           3,
           "out",
           0.8,
           875,
           1148
          ],
          [
           false,
           true,
           null,
           3,
           "out",
           0,
           "NA",
           1149
          ],
          [
           false,
           true,
           null,
           3,
           "out",
           0,
           "NA",
           1150
          ],
          [
           true,
           false,
           null,
           3,
           "out",
           0.8586956521739131,
           876,
           1151
          ],
          [
           true,
           false,
           null,
           3,
           "out",
           0.8360655737704918,
           877,
           1152
          ],
          [
           true,
           false,
           null,
           3,
           "out",
           0.7815126050420168,
           878,
           1153
          ],
          [
           false,
           true,
           null,
           3,
           "out",
           0,
           "NA",
           1154
          ],
          [
           true,
           false,
           null,
           3,
           "out",
           0.6892655367231638,
           880,
           1155
          ],
          [
           false,
           true,
           null,
           3,
           "out",
           0,
           "NA",
           1156
          ],
          [
           true,
           false,
           null,
           3,
           "out",
           0.3482587064676617,
           881,
           1157
          ],
          [
           true,
           false,
           null,
           3,
           "out",
           0.7857142857142857,
           882,
           1158
          ],
          [
           false,
           true,
           null,
           3,
           "out",
           0,
           "NA",
           1159
          ],
          [
           true,
           false,
           null,
           3,
           "out",
           0.7733990147783252,
           883,
           1160
          ],
          [
           true,
           false,
           null,
           3,
           "out",
           0.8143712574850299,
           885,
           1161
          ],
          [
           false,
           true,
           null,
           3,
           "out",
           0,
           "NA",
           1162
          ],
          [
           true,
           false,
           null,
           3,
           "out",
           0.6777251184834123,
           887,
           1163
          ],
          [
           false,
           true,
           null,
           3,
           "out",
           0,
           "NA",
           1164
          ],
          [
           true,
           false,
           null,
           3,
           "out",
           0.8021390374331551,
           888,
           1165
          ],
          [
           false,
           true,
           null,
           3,
           "out",
           0,
           "NA",
           1166
          ],
          [
           false,
           true,
           null,
           3,
           "out",
           0,
           "NA",
           1167
          ],
          [
           true,
           false,
           null,
           3,
           "out",
           0.8431372549019608,
           890,
           1168
          ],
          [
           false,
           true,
           null,
           3,
           "out",
           0,
           "NA",
           1169
          ],
          [
           false,
           true,
           null,
           3,
           "out",
           0,
           "NA",
           1170
          ],
          [
           true,
           false,
           null,
           3,
           "out",
           0.5336322869955157,
           891,
           1171
          ],
          [
           true,
           false,
           null,
           3,
           "out",
           0.3598233995584989,
           892,
           1172
          ],
          [
           false,
           true,
           null,
           3,
           "out",
           0,
           "NA",
           1173
          ],
          [
           false,
           true,
           null,
           3,
           "out",
           0,
           "NA",
           1174
          ],
          [
           false,
           true,
           null,
           3,
           "out",
           0,
           "NA",
           1175
          ],
          [
           true,
           false,
           null,
           3,
           "out",
           0.3813953488372093,
           894,
           1176
          ],
          [
           false,
           true,
           null,
           3,
           "out",
           0,
           "NA",
           1177
          ],
          [
           false,
           true,
           null,
           3,
           "out",
           0,
           "NA",
           1178
          ],
          [
           true,
           false,
           null,
           3,
           "out",
           0.7725752508361204,
           896,
           1179
          ],
          [
           true,
           false,
           null,
           3,
           "out",
           0.42731277533039647,
           897,
           1180
          ],
          [
           true,
           false,
           null,
           3,
           "out",
           0.797979797979798,
           898,
           1181
          ],
          [
           false,
           true,
           null,
           3,
           "out",
           0,
           "NA",
           1182
          ],
          [
           true,
           false,
           null,
           3,
           "out",
           0.773109243697479,
           899,
           1183
          ],
          [
           false,
           true,
           null,
           3,
           "out",
           0,
           "NA",
           1184
          ],
          [
           true,
           false,
           null,
           3,
           "out",
           0.3542234332425068,
           900,
           1185
          ],
          [
           true,
           false,
           null,
           3,
           "out",
           0.5226586102719033,
           900,
           1186
          ],
          [
           false,
           true,
           null,
           3,
           "out",
           0,
           "NA",
           1187
          ],
          [
           false,
           true,
           null,
           3,
           "out",
           0,
           "NA",
           1188
          ],
          [
           true,
           false,
           null,
           3,
           "out",
           0.8324873096446701,
           901,
           1189
          ],
          [
           true,
           false,
           null,
           3,
           "out",
           0.8274111675126904,
           902,
           1190
          ],
          [
           false,
           true,
           null,
           3,
           "out",
           0,
           "NA",
           1191
          ],
          [
           false,
           true,
           null,
           3,
           "out",
           0,
           "NA",
           1192
          ],
          [
           false,
           true,
           null,
           3,
           "out",
           0,
           "NA",
           1193
          ],
          [
           false,
           true,
           null,
           3,
           "out",
           0,
           "NA",
           1194
          ],
          [
           false,
           true,
           null,
           3,
           "out",
           0,
           "NA",
           1195
          ],
          [
           true,
           false,
           null,
           3,
           "out",
           0.532258064516129,
           903,
           1196
          ],
          [
           true,
           false,
           null,
           3,
           "out",
           0.680327868852459,
           904,
           1197
          ],
          [
           true,
           false,
           null,
           3,
           "out",
           0.8357487922705314,
           905,
           1198
          ],
          [
           false,
           true,
           null,
           3,
           "out",
           0,
           "NA",
           1199
          ],
          [
           false,
           true,
           null,
           3,
           "out",
           0,
           "NA",
           1200
          ],
          [
           false,
           true,
           null,
           3,
           "out",
           0,
           "NA",
           1201
          ],
          [
           false,
           true,
           null,
           3,
           "out",
           0,
           "NA",
           1202
          ],
          [
           true,
           false,
           null,
           3,
           "out",
           0.8092909535452323,
           906,
           1203
          ],
          [
           true,
           false,
           null,
           3,
           "out",
           0.7906976744186046,
           907,
           1204
          ],
          [
           false,
           true,
           null,
           3,
           "out",
           0,
           "NA",
           1205
          ],
          [
           true,
           false,
           null,
           3,
           "out",
           0.5545851528384279,
           908,
           1206
          ],
          [
           true,
           false,
           null,
           3,
           "out",
           0.9440559440559441,
           909,
           1207
          ],
          [
           false,
           true,
           null,
           3,
           "out",
           0,
           "NA",
           1208
          ],
          [
           false,
           true,
           null,
           3,
           "out",
           0,
           "NA",
           1209
          ],
          [
           true,
           false,
           null,
           3,
           "out",
           0.6105769230769231,
           910,
           1210
          ],
          [
           true,
           false,
           null,
           3,
           "out",
           0.5305343511450382,
           911,
           1211
          ],
          [
           false,
           true,
           null,
           3,
           "out",
           0,
           "NA",
           1212
          ],
          [
           false,
           true,
           null,
           3,
           "out",
           0,
           "NA",
           1213
          ],
          [
           false,
           true,
           null,
           3,
           "out",
           0,
           "NA",
           1214
          ],
          [
           false,
           true,
           null,
           3,
           "out",
           0,
           "NA",
           1215
          ],
          [
           false,
           true,
           null,
           3,
           "out",
           0,
           "NA",
           1216
          ]
         ],
         "hovertemplate": "iou=%{marker.color:.4f}<br>indexGT=%{customdata[6]}<br>indexOut=%{customdata[7]}<extra></extra>",
         "legendgroup": "out",
         "marker": {
          "color": [
           0,
           0.43333333333333335,
           0.4936708860759494,
           0.41237113402061853,
           0.9020618556701031,
           0.7239263803680982,
           0,
           0.3933649289099526,
           0,
           0.7259615384615384,
           0.5021834061135371,
           0.6801801801801802,
           0.36893203883495146,
           0.6319702602230484,
           0.559228650137741,
           0.6209150326797386,
           0.48936170212765956,
           0.23737373737373738,
           0.6401869158878505,
           0.15789473684210525,
           0,
           0.8558139534883721,
           0,
           0,
           0.5951417004048583,
           0.6543778801843319,
           0.5445544554455446,
           0.8371428571428572,
           0.823170731707317,
           0.5460122699386503,
           0.6321070234113713,
           0,
           0.849624060150376,
           0.8743718592964824,
           0.8023952095808383,
           0,
           0,
           0.9272151898734177,
           0.42105263157894735,
           0,
           0.6341463414634146,
           0.9447852760736196,
           0.8395061728395061,
           0.6721311475409836,
           0.4703196347031963,
           0,
           0.625,
           0.47808764940239046,
           0.9325153374233128,
           0.72,
           0,
           0.3657957244655582,
           0.9638009049773756,
           0.8418604651162791,
           0.5665529010238908,
           0.5251396648044693,
           0.8120805369127517,
           0.6521739130434783,
           0.7724550898203593,
           0.8613861386138614,
           0.5273972602739726,
           0,
           0.3079470198675497,
           0.6046511627906976,
           0.7484076433121019,
           0.8914728682170543,
           0.7411764705882353,
           0.5364963503649635,
           0.6967213114754098,
           0.6060606060606061,
           0.3719512195121951,
           0.5944055944055944,
           0.8493150684931506,
           0.4124293785310734,
           0.9848484848484849,
           0.0942622950819672,
           0.6144578313253012,
           0.8116591928251121,
           0,
           0.7941176470588235,
           0.45108695652173914,
           0,
           0.7859649122807018,
           0.38461538461538464,
           0.5214521452145214,
           0.888,
           0.7732558139534884,
           0,
           0.30603448275862066,
           0.8837209302325582,
           0.6496815286624203,
           0.6438356164383562,
           0,
           0.05263157894736842,
           0,
           0.6888888888888889,
           0,
           0.88,
           0.4825174825174825,
           0.7131782945736435,
           0.8232323232323232,
           0.764,
           0.6845878136200717,
           0.7219512195121951,
           0.39759036144578314,
           0.3003412969283277,
           0.8321678321678322,
           0.2084942084942085,
           0.4684385382059801,
           0.9071428571428571,
           0,
           0.851063829787234,
           0,
           0,
           0,
           0,
           0.7981651376146789,
           0.5182926829268293,
           0.7278481012658228,
           0.7055016181229773,
           0.6894409937888198,
           0.6493506493506493,
           0.4208860759493671,
           0.8267477203647416,
           0.8083832335329342,
           0,
           0.7098039215686275,
           0.7821229050279329,
           0,
           0.8208333333333333,
           0.6272189349112426,
           0.86875,
           0.7272727272727273,
           0,
           0,
           0.8934010152284264,
           0,
           0.6387434554973822,
           0.9424460431654677,
           0,
           0,
           0,
           0,
           0.9711538461538461,
           0,
           0,
           0.8395061728395061,
           0.875,
           0,
           0.6446700507614214,
           0.41904761904761906,
           0.8377192982456141,
           0.9354838709677419,
           0,
           0,
           0.8114035087719298,
           0.664,
           0.7183673469387755,
           0,
           0.4844559585492228,
           0.5045045045045045,
           0.5233333333333333,
           0.29380053908355797,
           0.6726190476190477,
           0.7516778523489933,
           0.8053435114503816,
           0,
           0.7391304347826086,
           0.7025862068965517,
           0.8673469387755102,
           0.8202764976958525,
           0,
           0.8128342245989305,
           0.6111111111111112,
           0.7876447876447876,
           0.7635135135135135,
           0.7891156462585034,
           0.7938931297709924,
           0,
           0.7094017094017094,
           0.7674418604651163,
           0.6484018264840182,
           0.7235023041474654,
           0,
           0.8961937716262975,
           0,
           0.8351648351648352,
           0.6681222707423581,
           0.34718100890207715,
           0,
           0.8763636363636363,
           0.7293577981651376,
           0,
           0.7373737373737373,
           0.7336448598130841,
           0,
           0.60625,
           0.5930232558139535,
           0.5892857142857143,
           0,
           0.6149732620320856,
           0,
           0,
           0,
           0.68125,
           0.732484076433121,
           0.8818897637795275,
           0.6115702479338843,
           0.7969348659003831,
           0.8962264150943396,
           0,
           0.9653465346534653,
           0,
           0.8221153846153846,
           0.7839195979899497,
           0.9540229885057471,
           0.82,
           0.6892655367231638,
           0.5898305084745763,
           0.8382352941176471,
           0,
           0,
           0.7647058823529411,
           0.9244444444444444,
           0.5534591194968553,
           0.5906432748538012,
           0.5689655172413793,
           0.632768361581921,
           0.7463414634146341,
           0.813953488372093,
           0.7688442211055276,
           0.846820809248555,
           0.6958333333333333,
           0.8254545454545454,
           0.5529801324503312,
           0.7596153846153846,
           0,
           0.8141592920353983,
           0,
           0,
           0.9174757281553398,
           0.7861271676300579,
           0,
           0.5223214285714286,
           0,
           0.5869565217391305,
           0.8244897959183674,
           0,
           0,
           0,
           0,
           0.8372093023255814,
           0,
           0,
           0.9301075268817204,
           0.8125,
           0.3438914027149321,
           0.7222222222222222,
           0.4336917562724014,
           0.6646341463414634,
           0.7861271676300579,
           0.8181818181818182,
           0.904320987654321,
           0.7587719298245614,
           0.6198347107438017,
           0,
           0.45054945054945056,
           0.8878504672897196,
           0.8687258687258688,
           0,
           0.8717948717948718,
           0.8350515463917526,
           0.5771428571428572,
           0.7135135135135136,
           0,
           0,
           0.8742857142857143,
           0.6228813559322034,
           0.8976744186046511,
           0.7121212121212122,
           0.8260869565217391,
           0,
           0.8,
           0.5081967213114754,
           0.8369098712446352,
           0.8877005347593583,
           0.6790697674418604,
           0.567741935483871,
           0.8333333333333334,
           0.7477477477477478,
           0,
           0.8636363636363636,
           0.802547770700637,
           0.5924170616113744,
           0.8202247191011236,
           0.4943820224719101,
           0,
           0.6533333333333333,
           0.9132653061224489,
           0.6331658291457286,
           0.6301369863013698,
           0.5104895104895105,
           0.8844221105527639,
           0,
           0,
           0.8208955223880597,
           0.7627906976744186,
           0.9738562091503268,
           0.7403508771929824,
           0.7511520737327189,
           0.8359375,
           0,
           0,
           0,
           0.6196319018404908,
           0,
           0,
           0.819047619047619,
           0.42207792207792205,
           0,
           0.5464285714285714,
           0.7005988023952096,
           0.9288888888888889,
           0.6752136752136753,
           0.8088235294117647,
           0,
           0,
           0.43492063492063493,
           0.84,
           0.8489583333333334,
           0.6722689075630253,
           0.8220338983050848,
           0.6486486486486487,
           0,
           0,
           0.5843373493975904,
           0.7872340425531915,
           0,
           0.8846153846153846,
           0,
           0.7777777777777778,
           0.8369565217391305,
           0.38461538461538464,
           0,
           0,
           0,
           0.6728624535315985,
           0.6,
           0,
           0.6346153846153846,
           0.7892376681614349,
           0.6728971962616822,
           0,
           0,
           0,
           0,
           0.7843137254901961,
           0.9301075268817204,
           0,
           0,
           0.7590361445783133,
           0.8609625668449198,
           0,
           0.5833333333333334,
           0,
           0,
           0,
           0,
           0.9438202247191011,
           0,
           0.7734806629834254,
           0.8010204081632653,
           0.26996197718631176,
           0.673469387755102,
           0.4342629482071713,
           0,
           0,
           0,
           0,
           0.8444444444444444,
           0,
           0.7478632478632479,
           0,
           0,
           0.65,
           0,
           0,
           0,
           0.8132780082987552,
           0,
           0.7150537634408602,
           0,
           0.8707865168539326,
           0.9503105590062112,
           0.6693548387096774,
           0.6495327102803738,
           0,
           0.759493670886076,
           0,
           0,
           0.9,
           0.8552631578947368,
           0,
           0.6559633027522935,
           0,
           0,
           0.8743718592964824,
           0.7511520737327189,
           0,
           0.768361581920904,
           0.82,
           0,
           0.9265536723163842,
           0.8831168831168831,
           0,
           0,
           0.6242236024844721,
           0.7652173913043478,
           0,
           0.7472527472527473,
           0,
           0.8685714285714285,
           0.8883495145631068,
           0.8549222797927462,
           0.75,
           0,
           0,
           0.9014778325123153,
           0.5069767441860465,
           0.803030303030303,
           0.8803418803418803,
           0,
           0.8807947019867549,
           0.7457627118644068,
           0.3319327731092437,
           0.792,
           0.6732673267326733,
           0.8482758620689655,
           0.6963350785340314,
           0.7622377622377622,
           0.7531380753138075,
           0.6318681318681318,
           0.7403314917127072,
           0.7639751552795031,
           0.9019607843137255,
           0.8888888888888888,
           0.6923076923076923,
           0.6941176470588235,
           0.7485029940119761,
           0.9292929292929293,
           0.7151162790697675,
           0.569377990430622,
           0.6398305084745762,
           0.4634146341463415,
           0.2,
           0.783410138248848,
           0.7643312101910829,
           0.7727272727272727,
           0,
           0.8666666666666667,
           0.5571428571428572,
           0.9452054794520548,
           0.7909090909090909,
           0.7268041237113402,
           0.8893617021276595,
           0,
           0,
           0.6545454545454545,
           0.7867298578199052,
           0,
           0,
           0.47115384615384615,
           0.7509578544061303,
           0,
           0,
           0,
           0.8764705882352941,
           0.5850622406639004,
           0.16558441558441558,
           0.05897435897435897,
           0.8354430379746836,
           0.4642857142857143,
           0.7960526315789473,
           0.5823863636363636,
           0.9151515151515152,
           0,
           0.7647058823529411,
           0,
           0.5694050991501416,
           0.8850574712643678,
           0.8444444444444444,
           0,
           0.7341772151898734,
           0,
           0.7412587412587412,
           0.6203208556149733,
           0.16145833333333334,
           0.7482993197278912,
           0.7555555555555555,
           0.7606177606177607,
           0.5079365079365079,
           0,
           0.64,
           0.8846153846153846,
           0,
           0.7098976109215017,
           0.8025210084033614,
           0.7136150234741784,
           0.7454545454545455,
           0.6962457337883959,
           0,
           0,
           0,
           0,
           0.8626373626373627,
           0,
           0,
           0.9447513812154696,
           0.8156862745098039,
           0,
           0.9698795180722891,
           0,
           0.6111111111111112,
           0.4272151898734177,
           0.6360759493670886,
           0,
           0,
           0,
           0,
           0.795,
           0,
           0.8043478260869565,
           0.7982456140350878,
           0,
           0.8166666666666667,
           0.8,
           0.664576802507837,
           0.784688995215311,
           0.9139784946236559,
           0.6909090909090909,
           0.8458781362007168,
           0.64,
           0.8595505617977528,
           0.5642458100558659,
           0.7575757575757576,
           0,
           0,
           0.48534201954397393,
           0,
           0,
           0,
           0.8132780082987552,
           0.8739837398373984,
           0.8118811881188119,
           0.3569553805774278,
           0,
           0.7486631016042781,
           0,
           0,
           0.5645161290322581,
           0.7235023041474654,
           0.8888888888888888,
           0,
           0.7472527472527473,
           0.8625,
           0.81875,
           0.4979919678714859,
           0,
           0.49361702127659574,
           0.8411214953271028,
           0.8076923076923077,
           0,
           0.664804469273743,
           0,
           0.6468401486988847,
           0,
           0.8653846153846154,
           0.772093023255814,
           0.959349593495935,
           0,
           0.8932038834951457,
           0.9155555555555556,
           0,
           0.8309859154929577,
           0.8733031674208145,
           0.8606965174129353,
           0.9655172413793104,
           0.7657657657657657,
           0,
           0.612565445026178,
           0,
           0.8105263157894737,
           0.7681159420289855,
           0.5699481865284974,
           0.8375,
           0.7642857142857142,
           0.6396761133603239,
           0.696236559139785,
           0,
           0.7522123893805309,
           0.6421404682274248,
           0.7327586206896551,
           0.7401129943502824,
           0.8151658767772512,
           0,
           0.8691099476439791,
           0.7134146341463414,
           0.8679867986798679,
           0.8512396694214877,
           0.7425742574257426,
           0,
           0.9375,
           0,
           0,
           0,
           0.5521472392638037,
           0.8814432989690721,
           0.8613445378151261,
           0.8585365853658536,
           0.8421052631578947,
           0,
           0.7937649880095923,
           0.8888888888888888,
           0.4314606741573034,
           0.7569721115537849,
           0.6728624535315985,
           0,
           0.7758007117437722,
           0.7446153846153846,
           0.8194444444444444,
           0.8,
           0,
           0.8505154639175257,
           0.918918918918919,
           0.6701754385964912,
           0.8773006134969326,
           0.9104477611940298,
           0.8018867924528302,
           0.8697478991596639,
           0.7832167832167832,
           0,
           0.7755102040816326,
           0.6970802919708029,
           0.5542168674698795,
           0,
           0.7670682730923695,
           0.6923076923076923,
           0.778393351800554,
           0.7380352644836272,
           0.8348623853211009,
           0.8559322033898306,
           0,
           0,
           0.7957446808510639,
           0.8012232415902141,
           0.4944237918215613,
           0.3574144486692015,
           0.8804347826086957,
           0.6289855072463768,
           0.5766129032258065,
           0.7302904564315352,
           0.8565891472868217,
           0.7906976744186046,
           0.668,
           0,
           0,
           0,
           0,
           0,
           0,
           0.9083333333333333,
           0.8578947368421053,
           0.6711864406779661,
           0,
           0.55625,
           0.45387453874538747,
           0.32727272727272727,
           0.6366666666666667,
           0.6512605042016807,
           0.8055555555555556,
           0.7555555555555555,
           0,
           0.806282722513089,
           0.6988636363636364,
           0.888235294117647,
           0,
           0,
           0.7402135231316725,
           0,
           0.6005154639175257,
           0.22714681440443213,
           0.8878205128205128,
           0.505338078291815,
           0.9096385542168675,
           0.9243697478991597,
           0.9066666666666666,
           0.7553191489361702,
           0,
           0.921146953405018,
           0,
           0.7831858407079646,
           0.8947368421052632,
           0.6847290640394089,
           0,
           0.7065868263473054,
           0.6698564593301436,
           0.6742424242424242,
           0.967741935483871,
           0.8311688311688312,
           0,
           0,
           0.6150442477876106,
           0.968,
           0.8220858895705522,
           0.475,
           0.5549132947976878,
           0.5734767025089605,
           0,
           0,
           0.8967391304347826,
           0.615,
           0,
           0,
           0,
           0.8844765342960289,
           0.3522012578616352,
           0.7508896797153025,
           0.6860158311345647,
           0.4956896551724138,
           0.8697916666666666,
           0.8851063829787233,
           0.8646288209606987,
           0.7272727272727273,
           0.6666666666666666,
           0.6462264150943396,
           0.9254385964912281,
           0.6614583333333334,
           0,
           0.06687898089171974,
           0.5757575757575758,
           0.7253886010362695,
           0,
           0.8553459119496856,
           0.6347305389221557,
           0.7877094972067039,
           0.806282722513089,
           0.8416289592760181,
           0.7537688442211056,
           0,
           0.8614718614718615,
           0.9230769230769231,
           0,
           0.8724489795918368,
           0,
           0.7515923566878981,
           0,
           0,
           0,
           0.7653061224489796,
           0.6395348837209303,
           0.796875,
           0.6030534351145038,
           0.6827956989247311,
           0,
           0.616580310880829,
           0.6607773851590106,
           0.8632075471698113,
           0.7442922374429224,
           0.7222222222222222,
           0.6289592760180995,
           0.7215189873417721,
           0,
           0.8728070175438597,
           0.5607843137254902,
           0,
           0.875,
           0.7793103448275862,
           0,
           0,
           0,
           0,
           0.5099009900990099,
           0.5835777126099707,
           0.8865979381443299,
           0.6784313725490196,
           0.935064935064935,
           0.7857142857142857,
           0,
           0.6035353535353535,
           0.9183673469387755,
           0.7218934911242604,
           0.7634730538922155,
           0.5630630630630631,
           0,
           0,
           0,
           0.7490494296577946,
           0.8415841584158416,
           0.7900552486187845,
           0.7246376811594203,
           0,
           0.8850574712643678,
           0.7104072398190046,
           0,
           0.8916256157635468,
           0,
           0.5209790209790209,
           0,
           0.5071428571428571,
           0,
           0,
           0,
           0,
           0.8362989323843416,
           0,
           0.5824561403508772,
           0,
           0.7556818181818182,
           0.8770491803278688,
           0.5693950177935944,
           0.786096256684492,
           0.7925311203319502,
           0.9558823529411765,
           0.711864406779661,
           0.8220338983050848,
           0.7605633802816901,
           0,
           0.8925233644859814,
           0,
           0.08074534161490683,
           0.6782178217821783,
           0.8055555555555556,
           0.7526315789473684,
           0.7450980392156863,
           0.8571428571428571,
           0.8131313131313131,
           0.7154811715481172,
           0,
           0.47928994082840237,
           0.7401574803149606,
           0,
           0.9408866995073891,
           0,
           0,
           0.903954802259887,
           0.5,
           0.6526315789473685,
           0.6591928251121076,
           0.7866666666666666,
           0,
           0.6935483870967742,
           0,
           0.8414634146341463,
           0,
           0,
           0.34210526315789475,
           0.708994708994709,
           0,
           0,
           0,
           0,
           0.7412587412587412,
           0.7621951219512195,
           0.6746987951807228,
           0.7586206896551724,
           0,
           0,
           0.8715596330275229,
           0,
           0.8311111111111111,
           0,
           0.8546511627906976,
           0,
           0.6977777777777778,
           0,
           0.625,
           0,
           0.7816091954022989,
           0,
           0,
           0.5847457627118644,
           0,
           0,
           0,
           0.75,
           0.6062992125984252,
           0,
           0.8155339805825242,
           0.6845238095238095,
           0,
           0,
           0.7924528301886793,
           0,
           0,
           0,
           0,
           0,
           0,
           0,
           0.6059322033898306,
           0,
           0.9624413145539906,
           0,
           0.6283783783783784,
           0.826530612244898,
           0,
           0,
           0,
           0,
           0.6590909090909091,
           0,
           0.7068965517241379,
           0.9358288770053476,
           0.5964912280701754,
           0,
           0,
           0,
           0.851063829787234,
           0,
           0.7368421052631579,
           0.6622222222222223,
           0.7819905213270142,
           0,
           0.6496815286624203,
           0.8048780487804879,
           0,
           0,
           0.7613636363636364,
           0,
           0,
           0.746268656716418,
           0.65625,
           0,
           0,
           0,
           0,
           0.803921568627451,
           0,
           0.8532110091743119,
           0,
           0,
           0,
           0,
           0.6059479553903345,
           0.7722419928825622,
           0,
           0.7511737089201878,
           0.7925925925925926,
           0.5922619047619048,
           0,
           0.7210526315789474,
           0.78125,
           0.2779552715654952,
           0,
           0,
           0.8074074074074075,
           0,
           0,
           0,
           0.7258883248730964,
           0.6986301369863014,
           0,
           0,
           0.9326923076923077,
           0.5791666666666667,
           0.5775193798449613,
           0,
           0.7425742574257426,
           0.7044334975369458,
           0,
           0.8565022421524664,
           0.6436781609195402,
           0.5529953917050692,
           0.8851063829787233,
           0,
           0.7735849056603774,
           0.967032967032967,
           0.6342592592592593,
           0.5472312703583062,
           0.5450643776824035,
           0.8163265306122449,
           0.7470588235294118,
           0,
           0.08247422680412371,
           0.6526946107784432,
           0,
           0.7889447236180904,
           0.7916666666666666,
           0.7048458149779736,
           0.6363636363636364,
           0.75,
           0,
           0,
           0,
           0,
           0.646551724137931,
           0.896551724137931,
           0.7804878048780488,
           0.71,
           0.8184931506849316,
           0,
           0.9251700680272109,
           0.8194444444444444,
           0.8341463414634146,
           0,
           0.6378600823045267,
           0.7978723404255319,
           0.8097345132743363,
           0,
           0.8402061855670103,
           0.768361581920904,
           0.6692913385826772,
           0,
           0.612,
           0.8781512605042017,
           0,
           0,
           0.7073170731707317,
           0.6470588235294118,
           0,
           0.6133333333333333,
           0.8921568627450981,
           0.7149532710280374,
           0.6606217616580311,
           0,
           0,
           0.7318007662835249,
           0,
           0.8819672131147541,
           0,
           0.888135593220339,
           0,
           0.7861635220125787,
           0.9120370370370371,
           0.7358490566037735,
           0,
           0.9734513274336283,
           0.812,
           0.5198675496688742,
           0,
           0.8249027237354085,
           0.7755102040816326,
           0.7384615384615385,
           0.6593406593406593,
           0,
           0,
           0.8084112149532711,
           0,
           0,
           0.722972972972973,
           0,
           0,
           0.6167400881057269,
           0.807909604519774,
           0.8480392156862745,
           0.7045454545454546,
           0.6412213740458015,
           0,
           0,
           0.3684210526315789,
           0.9095477386934674,
           0.815,
           0.46195652173913043,
           0.6890459363957597,
           0.2808988764044944,
           0.710691823899371,
           0.8092783505154639,
           0.8387096774193549,
           0.7272727272727273,
           0.8726415094339622,
           0.6878048780487804,
           0.2125,
           0,
           0.9285714285714286,
           0,
           0,
           0.8342857142857143,
           0.6111111111111112,
           0.6143790849673203,
           0.5539568345323741,
           0.9292452830188679,
           0.594059405940594,
           0,
           0,
           0,
           0.6974358974358974,
           0,
           0.5,
           0.5285714285714286,
           0.680952380952381,
           0.6486486486486487,
           0.8429319371727748,
           0,
           0.7341269841269841,
           0,
           0.7222222222222222,
           0,
           0,
           0.6828193832599119,
           0,
           0.7067307692307693,
           0,
           0,
           0,
           0.7784810126582279,
           0.8659217877094972,
           0,
           0,
           0.8178294573643411,
           0,
           0,
           0,
           0.7531645569620253,
           0,
           0.8269230769230769,
           0,
           0,
           0.5384615384615384,
           0.946969696969697,
           0.8177339901477833,
           0,
           0.7518248175182481,
           0.9337349397590361,
           0.83125,
           0.583710407239819,
           0.7754010695187166,
           0,
           0.7235772357723578,
           0.9224806201550387,
           0,
           0.7279411764705882,
           0,
           0.7255813953488373,
           0,
           0.6234567901234568,
           0.7,
           0.6893203883495146,
           0.6771653543307087,
           0,
           0,
           0.6513409961685823,
           0.8192771084337349,
           0.9690721649484536,
           0,
           0.8131313131313131,
           0,
           0,
           0.7738095238095238,
           0.8,
           0,
           0,
           0.8586956521739131,
           0.8360655737704918,
           0.7815126050420168,
           0,
           0.6892655367231638,
           0,
           0.3482587064676617,
           0.7857142857142857,
           0,
           0.7733990147783252,
           0.8143712574850299,
           0,
           0.6777251184834123,
           0,
           0.8021390374331551,
           0,
           0,
           0.8431372549019608,
           0,
           0,
           0.5336322869955157,
           0.3598233995584989,
           0,
           0,
           0,
           0.3813953488372093,
           0,
           0,
           0.7725752508361204,
           0.42731277533039647,
           0.797979797979798,
           0,
           0.773109243697479,
           0,
           0.3542234332425068,
           0.5226586102719033,
           0,
           0,
           0.8324873096446701,
           0.8274111675126904,
           0,
           0,
           0,
           0,
           0,
           0.532258064516129,
           0.680327868852459,
           0.8357487922705314,
           0,
           0,
           0,
           0,
           0.8092909535452323,
           0.7906976744186046,
           0,
           0.5545851528384279,
           0.9440559440559441,
           0,
           0,
           0.6105769230769231,
           0.5305343511450382,
           0,
           0,
           0,
           0,
           0
          ],
          "coloraxis": "coloraxis",
          "line": {
           "width": 2
          },
          "opacity": 0.8,
          "size": [
           3,
           3,
           3,
           3,
           3,
           3,
           3,
           3,
           3,
           3,
           3,
           3,
           3,
           3,
           3,
           3,
           3,
           3,
           3,
           3,
           3,
           3,
           3,
           3,
           3,
           3,
           3,
           3,
           3,
           3,
           3,
           3,
           3,
           3,
           3,
           3,
           3,
           3,
           3,
           3,
           3,
           3,
           3,
           3,
           3,
           3,
           3,
           3,
           3,
           3,
           3,
           3,
           3,
           3,
           3,
           3,
           3,
           3,
           3,
           3,
           3,
           3,
           3,
           3,
           3,
           3,
           3,
           3,
           3,
           3,
           3,
           3,
           3,
           3,
           3,
           3,
           3,
           3,
           3,
           3,
           3,
           3,
           3,
           3,
           3,
           3,
           3,
           3,
           3,
           3,
           3,
           3,
           3,
           3,
           3,
           3,
           3,
           3,
           3,
           3,
           3,
           3,
           3,
           3,
           3,
           3,
           3,
           3,
           3,
           3,
           3,
           3,
           3,
           3,
           3,
           3,
           3,
           3,
           3,
           3,
           3,
           3,
           3,
           3,
           3,
           3,
           3,
           3,
           3,
           3,
           3,
           3,
           3,
           3,
           3,
           3,
           3,
           3,
           3,
           3,
           3,
           3,
           3,
           3,
           3,
           3,
           3,
           3,
           3,
           3,
           3,
           3,
           3,
           3,
           3,
           3,
           3,
           3,
           3,
           3,
           3,
           3,
           3,
           3,
           3,
           3,
           3,
           3,
           3,
           3,
           3,
           3,
           3,
           3,
           3,
           3,
           3,
           3,
           3,
           3,
           3,
           3,
           3,
           3,
           3,
           3,
           3,
           3,
           3,
           3,
           3,
           3,
           3,
           3,
           3,
           3,
           3,
           3,
           3,
           3,
           3,
           3,
           3,
           3,
           3,
           3,
           3,
           3,
           3,
           3,
           3,
           3,
           3,
           3,
           3,
           3,
           3,
           3,
           3,
           3,
           3,
           3,
           3,
           3,
           3,
           3,
           3,
           3,
           3,
           3,
           3,
           3,
           3,
           3,
           3,
           3,
           3,
           3,
           3,
           3,
           3,
           3,
           3,
           3,
           3,
           3,
           3,
           3,
           3,
           3,
           3,
           3,
           3,
           3,
           3,
           3,
           3,
           3,
           3,
           3,
           3,
           3,
           3,
           3,
           3,
           3,
           3,
           3,
           3,
           3,
           3,
           3,
           3,
           3,
           3,
           3,
           3,
           3,
           3,
           3,
           3,
           3,
           3,
           3,
           3,
           3,
           3,
           3,
           3,
           3,
           3,
           3,
           3,
           3,
           3,
           3,
           3,
           3,
           3,
           3,
           3,
           3,
           3,
           3,
           3,
           3,
           3,
           3,
           3,
           3,
           3,
           3,
           3,
           3,
           3,
           3,
           3,
           3,
           3,
           3,
           3,
           3,
           3,
           3,
           3,
           3,
           3,
           3,
           3,
           3,
           3,
           3,
           3,
           3,
           3,
           3,
           3,
           3,
           3,
           3,
           3,
           3,
           3,
           3,
           3,
           3,
           3,
           3,
           3,
           3,
           3,
           3,
           3,
           3,
           3,
           3,
           3,
           3,
           3,
           3,
           3,
           3,
           3,
           3,
           3,
           3,
           3,
           3,
           3,
           3,
           3,
           3,
           3,
           3,
           3,
           3,
           3,
           3,
           3,
           3,
           3,
           3,
           3,
           3,
           3,
           3,
           3,
           3,
           3,
           3,
           3,
           3,
           3,
           3,
           3,
           3,
           3,
           3,
           3,
           3,
           3,
           3,
           3,
           3,
           3,
           3,
           3,
           3,
           3,
           3,
           3,
           3,
           3,
           3,
           3,
           3,
           3,
           3,
           3,
           3,
           3,
           3,
           3,
           3,
           3,
           3,
           3,
           3,
           3,
           3,
           3,
           3,
           3,
           3,
           3,
           3,
           3,
           3,
           3,
           3,
           3,
           3,
           3,
           3,
           3,
           3,
           3,
           3,
           3,
           3,
           3,
           3,
           3,
           3,
           3,
           3,
           3,
           3,
           3,
           3,
           3,
           3,
           3,
           3,
           3,
           3,
           3,
           3,
           3,
           3,
           3,
           3,
           3,
           3,
           3,
           3,
           3,
           3,
           3,
           3,
           3,
           3,
           3,
           3,
           3,
           3,
           3,
           3,
           3,
           3,
           3,
           3,
           3,
           3,
           3,
           3,
           3,
           3,
           3,
           3,
           3,
           3,
           3,
           3,
           3,
           3,
           3,
           3,
           3,
           3,
           3,
           3,
           3,
           3,
           3,
           3,
           3,
           3,
           3,
           3,
           3,
           3,
           3,
           3,
           3,
           3,
           3,
           3,
           3,
           3,
           3,
           3,
           3,
           3,
           3,
           3,
           3,
           3,
           3,
           3,
           3,
           3,
           3,
           3,
           3,
           3,
           3,
           3,
           3,
           3,
           3,
           3,
           3,
           3,
           3,
           3,
           3,
           3,
           3,
           3,
           3,
           3,
           3,
           3,
           3,
           3,
           3,
           3,
           3,
           3,
           3,
           3,
           3,
           3,
           3,
           3,
           3,
           3,
           3,
           3,
           3,
           3,
           3,
           3,
           3,
           3,
           3,
           3,
           3,
           3,
           3,
           3,
           3,
           3,
           3,
           3,
           3,
           3,
           3,
           3,
           3,
           3,
           3,
           3,
           3,
           3,
           3,
           3,
           3,
           3,
           3,
           3,
           3,
           3,
           3,
           3,
           3,
           3,
           3,
           3,
           3,
           3,
           3,
           3,
           3,
           3,
           3,
           3,
           3,
           3,
           3,
           3,
           3,
           3,
           3,
           3,
           3,
           3,
           3,
           3,
           3,
           3,
           3,
           3,
           3,
           3,
           3,
           3,
           3,
           3,
           3,
           3,
           3,
           3,
           3,
           3,
           3,
           3,
           3,
           3,
           3,
           3,
           3,
           3,
           3,
           3,
           3,
           3,
           3,
           3,
           3,
           3,
           3,
           3,
           3,
           3,
           3,
           3,
           3,
           3,
           3,
           3,
           3,
           3,
           3,
           3,
           3,
           3,
           3,
           3,
           3,
           3,
           3,
           3,
           3,
           3,
           3,
           3,
           3,
           3,
           3,
           3,
           3,
           3,
           3,
           3,
           3,
           3,
           3,
           3,
           3,
           3,
           3,
           3,
           3,
           3,
           3,
           3,
           3,
           3,
           3,
           3,
           3,
           3,
           3,
           3,
           3,
           3,
           3,
           3,
           3,
           3,
           3,
           3,
           3,
           3,
           3,
           3,
           3,
           3,
           3,
           3,
           3,
           3,
           3,
           3,
           3,
           3,
           3,
           3,
           3,
           3,
           3,
           3,
           3,
           3,
           3,
           3,
           3,
           3,
           3,
           3,
           3,
           3,
           3,
           3,
           3,
           3,
           3,
           3,
           3,
           3,
           3,
           3,
           3,
           3,
           3,
           3,
           3,
           3,
           3,
           3,
           3,
           3,
           3,
           3,
           3,
           3,
           3,
           3,
           3,
           3,
           3,
           3,
           3,
           3,
           3,
           3,
           3,
           3,
           3,
           3,
           3,
           3,
           3,
           3,
           3,
           3,
           3,
           3,
           3,
           3,
           3,
           3,
           3,
           3,
           3,
           3,
           3,
           3,
           3,
           3,
           3,
           3,
           3,
           3,
           3,
           3,
           3,
           3,
           3,
           3,
           3,
           3,
           3,
           3,
           3,
           3,
           3,
           3,
           3,
           3,
           3,
           3,
           3,
           3,
           3,
           3,
           3,
           3,
           3,
           3,
           3,
           3,
           3,
           3,
           3,
           3,
           3,
           3,
           3,
           3,
           3,
           3,
           3,
           3,
           3,
           3,
           3,
           3,
           3,
           3,
           3,
           3,
           3,
           3,
           3,
           3,
           3,
           3,
           3,
           3,
           3,
           3,
           3,
           3,
           3,
           3,
           3,
           3,
           3,
           3,
           3,
           3,
           3,
           3,
           3,
           3,
           3,
           3,
           3,
           3,
           3,
           3,
           3,
           3,
           3,
           3,
           3,
           3,
           3,
           3,
           3,
           3,
           3,
           3,
           3,
           3,
           3,
           3,
           3,
           3,
           3,
           3,
           3,
           3,
           3,
           3,
           3,
           3,
           3,
           3,
           3,
           3,
           3,
           3,
           3,
           3,
           3,
           3,
           3,
           3,
           3,
           3,
           3,
           3,
           3,
           3,
           3,
           3,
           3,
           3,
           3,
           3,
           3,
           3,
           3,
           3,
           3,
           3,
           3,
           3,
           3,
           3,
           3,
           3,
           3,
           3,
           3,
           3,
           3,
           3,
           3,
           3,
           3,
           3,
           3,
           3,
           3,
           3,
           3,
           3,
           3,
           3,
           3,
           3,
           3,
           3,
           3,
           3,
           3,
           3,
           3,
           3,
           3,
           3,
           3,
           3,
           3,
           3,
           3,
           3,
           3,
           3,
           3,
           3,
           3,
           3,
           3,
           3,
           3,
           3,
           3,
           3,
           3,
           3,
           3,
           3,
           3,
           3,
           3,
           3,
           3,
           3,
           3,
           3,
           3,
           3,
           3,
           3,
           3,
           3,
           3,
           3,
           3,
           3,
           3,
           3,
           3,
           3,
           3,
           3,
           3,
           3,
           3,
           3,
           3,
           3,
           3,
           3,
           3,
           3,
           3,
           3,
           3,
           3,
           3,
           3,
           3,
           3,
           3,
           3,
           3,
           3,
           3,
           3,
           3,
           3,
           3,
           3,
           3,
           3,
           3,
           3,
           3,
           3,
           3,
           3,
           3,
           3,
           3,
           3,
           3,
           3,
           3,
           3,
           3,
           3,
           3,
           3,
           3,
           3,
           3,
           3,
           3,
           3,
           3,
           3,
           3,
           3,
           3,
           3,
           3,
           3,
           3,
           3,
           3,
           3,
           3,
           3,
           3,
           3,
           3,
           3,
           3,
           3,
           3,
           3,
           3,
           3,
           3,
           3,
           3,
           3,
           3,
           3,
           3,
           3,
           3,
           3,
           3,
           3,
           3,
           3,
           3,
           3,
           3,
           3,
           3,
           3,
           3,
           3,
           3,
           3,
           3,
           3,
           3,
           3,
           3,
           3,
           3,
           3,
           3,
           3,
           3,
           3,
           3,
           3,
           3,
           3,
           3,
           3,
           3,
           3,
           3,
           3,
           3,
           3,
           3,
           3,
           3,
           3,
           3,
           3,
           3,
           3,
           3,
           3,
           3,
           3,
           3,
           3,
           3,
           3,
           3,
           3,
           3,
           3,
           3,
           3,
           3,
           3,
           3,
           3,
           3,
           3,
           3,
           3,
           3,
           3,
           3,
           3,
           3,
           3,
           3,
           3,
           3,
           3,
           3,
           3,
           3,
           3,
           3,
           3,
           3,
           3,
           3
          ],
          "sizemode": "area",
          "sizeref": 0.0075,
          "symbol": "circle-open"
         },
         "mode": "markers",
         "name": "out",
         "showlegend": true,
         "type": "scattergl",
         "x": [
          -10,
          2,
          6,
          7,
          8,
          9,
          -10,
          10,
          -10,
          11,
          12,
          13,
          14,
          15,
          16,
          17,
          18,
          -10,
          20,
          -10,
          -10,
          23,
          -10,
          -10,
          24,
          25,
          26,
          27,
          28,
          29,
          31,
          -10,
          32,
          33,
          34,
          -10,
          -10,
          39,
          40,
          -10,
          42,
          43,
          44,
          45,
          46,
          -10,
          48,
          49,
          50,
          51,
          -10,
          54,
          55,
          56,
          57,
          58,
          59,
          60,
          61,
          62,
          63,
          -10,
          64,
          65,
          67,
          68,
          69,
          70,
          71,
          72,
          73,
          74,
          75,
          77,
          78,
          -10,
          81,
          82,
          -10,
          83,
          84,
          -10,
          85,
          86,
          87,
          88,
          89,
          -10,
          90,
          91,
          93,
          94,
          -10,
          -10,
          -10,
          100,
          -10,
          101,
          102,
          103,
          105,
          106,
          107,
          108,
          109,
          110,
          111,
          -10,
          112,
          114,
          -10,
          115,
          -10,
          -10,
          -10,
          -10,
          117,
          118,
          119,
          120,
          121,
          122,
          123,
          124,
          125,
          -10,
          127,
          128,
          -10,
          129,
          130,
          131,
          132,
          -10,
          -10,
          133,
          -10,
          134,
          135,
          -10,
          -10,
          -10,
          -10,
          136,
          -10,
          -10,
          138,
          139,
          -10,
          140,
          141,
          142,
          143,
          -10,
          -10,
          145,
          147,
          148,
          -10,
          150,
          151,
          152,
          -10,
          153,
          155,
          156,
          -10,
          157,
          158,
          160,
          161,
          -10,
          162,
          163,
          164,
          166,
          167,
          168,
          -10,
          169,
          170,
          171,
          173,
          -10,
          174,
          -10,
          175,
          176,
          177,
          -10,
          179,
          180,
          -10,
          181,
          182,
          -10,
          184,
          185,
          187,
          -10,
          189,
          -10,
          -10,
          -10,
          190,
          191,
          192,
          193,
          194,
          195,
          -10,
          196,
          -10,
          197,
          198,
          199,
          200,
          201,
          202,
          203,
          -10,
          -10,
          205,
          206,
          207,
          208,
          209,
          210,
          211,
          212,
          213,
          214,
          215,
          216,
          217,
          218,
          -10,
          219,
          -10,
          -10,
          220,
          221,
          -10,
          222,
          -10,
          223,
          224,
          -10,
          -10,
          -10,
          -10,
          225,
          -10,
          -10,
          226,
          227,
          228,
          230,
          231,
          232,
          233,
          234,
          235,
          236,
          237,
          -10,
          238,
          239,
          240,
          -10,
          242,
          243,
          244,
          245,
          -10,
          -10,
          247,
          248,
          249,
          250,
          251,
          -10,
          253,
          254,
          255,
          256,
          257,
          258,
          259,
          260,
          -10,
          263,
          265,
          266,
          268,
          269,
          -10,
          272,
          273,
          274,
          275,
          276,
          278,
          -10,
          -10,
          279,
          280,
          281,
          282,
          283,
          284,
          -10,
          -10,
          -10,
          285,
          -10,
          -10,
          286,
          287,
          -10,
          288,
          289,
          290,
          291,
          292,
          -10,
          -10,
          293,
          294,
          295,
          296,
          297,
          298,
          -10,
          -10,
          299,
          300,
          -10,
          301,
          -10,
          302,
          303,
          304,
          -10,
          -10,
          -10,
          306,
          307,
          -10,
          308,
          309,
          311,
          -10,
          -10,
          -10,
          -10,
          312,
          313,
          -10,
          -10,
          314,
          315,
          -10,
          316,
          -10,
          -10,
          -10,
          -10,
          317,
          -10,
          318,
          319,
          -10,
          321,
          322,
          -10,
          -10,
          -10,
          -10,
          324,
          -10,
          325,
          -10,
          -10,
          326,
          -10,
          -10,
          -10,
          328,
          -10,
          329,
          -10,
          330,
          332,
          333,
          334,
          -10,
          335,
          -10,
          -10,
          337,
          338,
          -10,
          339,
          -10,
          -10,
          340,
          341,
          -10,
          342,
          343,
          -10,
          344,
          345,
          -10,
          -10,
          346,
          347,
          -10,
          348,
          -10,
          349,
          350,
          351,
          352,
          -10,
          -10,
          353,
          354,
          355,
          357,
          -10,
          358,
          359,
          362,
          363,
          364,
          366,
          367,
          368,
          369,
          370,
          371,
          372,
          373,
          374,
          375,
          376,
          377,
          378,
          379,
          380,
          381,
          382,
          -10,
          387,
          388,
          389,
          -10,
          391,
          392,
          393,
          394,
          396,
          399,
          -10,
          -10,
          400,
          401,
          -10,
          -10,
          403,
          404,
          -10,
          -10,
          -10,
          405,
          409,
          -10,
          -10,
          411,
          412,
          415,
          416,
          417,
          -10,
          418,
          -10,
          419,
          420,
          421,
          -10,
          422,
          -10,
          423,
          424,
          -10,
          426,
          427,
          428,
          429,
          -10,
          430,
          431,
          -10,
          432,
          433,
          434,
          436,
          437,
          -10,
          -10,
          -10,
          -10,
          439,
          -10,
          -10,
          440,
          441,
          -10,
          442,
          -10,
          444,
          445,
          446,
          -10,
          -10,
          -10,
          -10,
          448,
          -10,
          449,
          450,
          -10,
          451,
          452,
          453,
          454,
          455,
          456,
          457,
          458,
          459,
          460,
          461,
          -10,
          -10,
          462,
          -10,
          -10,
          -10,
          463,
          464,
          465,
          467,
          -10,
          468,
          -10,
          -10,
          470,
          471,
          472,
          -10,
          473,
          474,
          475,
          476,
          -10,
          478,
          479,
          481,
          -10,
          482,
          -10,
          483,
          -10,
          484,
          485,
          486,
          -10,
          487,
          488,
          -10,
          489,
          490,
          491,
          492,
          493,
          -10,
          494,
          -10,
          495,
          496,
          497,
          498,
          499,
          500,
          501,
          -10,
          502,
          503,
          504,
          505,
          506,
          -10,
          508,
          509,
          510,
          511,
          512,
          -10,
          513,
          -10,
          -10,
          -10,
          514,
          515,
          516,
          517,
          518,
          -10,
          519,
          520,
          521,
          522,
          523,
          -10,
          524,
          525,
          526,
          527,
          -10,
          528,
          529,
          530,
          531,
          532,
          533,
          534,
          535,
          -10,
          536,
          537,
          538,
          -10,
          539,
          540,
          541,
          542,
          543,
          544,
          -10,
          -10,
          546,
          547,
          548,
          549,
          550,
          551,
          552,
          553,
          554,
          555,
          556,
          -10,
          -10,
          -10,
          -10,
          -10,
          -10,
          557,
          558,
          559,
          -10,
          560,
          562,
          563,
          564,
          565,
          566,
          567,
          -10,
          568,
          569,
          570,
          -10,
          -10,
          571,
          -10,
          572,
          -10,
          573,
          574,
          575,
          576,
          577,
          578,
          -10,
          579,
          -10,
          580,
          581,
          582,
          -10,
          583,
          584,
          585,
          586,
          587,
          -10,
          -10,
          588,
          589,
          591,
          592,
          593,
          594,
          -10,
          -10,
          595,
          596,
          -10,
          -10,
          -10,
          597,
          598,
          599,
          600,
          601,
          602,
          603,
          604,
          605,
          606,
          607,
          608,
          609,
          -10,
          -10,
          610,
          612,
          -10,
          614,
          615,
          616,
          617,
          618,
          619,
          -10,
          620,
          621,
          -10,
          622,
          -10,
          623,
          -10,
          -10,
          -10,
          624,
          625,
          626,
          627,
          628,
          -10,
          629,
          630,
          631,
          632,
          633,
          634,
          635,
          -10,
          636,
          637,
          -10,
          638,
          639,
          -10,
          -10,
          -10,
          -10,
          640,
          642,
          643,
          644,
          645,
          646,
          -10,
          647,
          648,
          649,
          650,
          651,
          -10,
          -10,
          -10,
          652,
          653,
          654,
          655,
          -10,
          656,
          657,
          -10,
          658,
          -10,
          659,
          -10,
          660,
          -10,
          -10,
          -10,
          -10,
          661,
          -10,
          662,
          -10,
          663,
          664,
          665,
          666,
          667,
          668,
          669,
          670,
          671,
          -10,
          672,
          -10,
          -10,
          673,
          674,
          675,
          676,
          677,
          678,
          679,
          -10,
          680,
          681,
          -10,
          682,
          -10,
          -10,
          683,
          684,
          685,
          686,
          688,
          -10,
          689,
          -10,
          690,
          -10,
          -10,
          691,
          692,
          -10,
          -10,
          -10,
          -10,
          693,
          694,
          695,
          696,
          -10,
          -10,
          697,
          -10,
          698,
          -10,
          699,
          -10,
          700,
          -10,
          701,
          -10,
          702,
          -10,
          -10,
          703,
          -10,
          -10,
          -10,
          704,
          705,
          -10,
          706,
          707,
          -10,
          -10,
          708,
          -10,
          -10,
          -10,
          -10,
          -10,
          -10,
          -10,
          709,
          -10,
          710,
          -10,
          712,
          713,
          -10,
          -10,
          -10,
          -10,
          714,
          -10,
          715,
          716,
          717,
          -10,
          -10,
          -10,
          719,
          -10,
          720,
          721,
          722,
          -10,
          723,
          724,
          -10,
          -10,
          728,
          -10,
          -10,
          732,
          733,
          -10,
          -10,
          -10,
          -10,
          735,
          -10,
          737,
          -10,
          -10,
          -10,
          -10,
          738,
          739,
          -10,
          740,
          741,
          742,
          -10,
          743,
          744,
          -10,
          -10,
          -10,
          746,
          -10,
          -10,
          -10,
          747,
          748,
          -10,
          -10,
          749,
          750,
          751,
          -10,
          752,
          753,
          -10,
          754,
          755,
          756,
          757,
          -10,
          758,
          759,
          760,
          761,
          762,
          763,
          764,
          -10,
          -10,
          765,
          -10,
          766,
          767,
          768,
          769,
          770,
          -10,
          -10,
          -10,
          -10,
          771,
          772,
          773,
          774,
          775,
          -10,
          776,
          777,
          778,
          -10,
          780,
          781,
          782,
          -10,
          783,
          784,
          785,
          -10,
          786,
          787,
          -10,
          -10,
          788,
          789,
          -10,
          790,
          791,
          792,
          793,
          -10,
          -10,
          794,
          -10,
          795,
          -10,
          796,
          -10,
          797,
          798,
          799,
          -10,
          800,
          801,
          802,
          -10,
          803,
          804,
          805,
          806,
          -10,
          -10,
          807,
          -10,
          -10,
          808,
          -10,
          -10,
          809,
          810,
          811,
          812,
          813,
          -10,
          -10,
          815,
          816,
          817,
          818,
          819,
          -10,
          821,
          823,
          824,
          826,
          827,
          828,
          -10,
          -10,
          830,
          -10,
          -10,
          831,
          832,
          833,
          834,
          835,
          836,
          -10,
          -10,
          -10,
          837,
          -10,
          838,
          839,
          840,
          841,
          842,
          -10,
          843,
          -10,
          844,
          -10,
          -10,
          846,
          -10,
          847,
          -10,
          -10,
          -10,
          849,
          850,
          -10,
          -10,
          851,
          -10,
          -10,
          -10,
          852,
          -10,
          853,
          -10,
          -10,
          854,
          855,
          856,
          -10,
          857,
          858,
          859,
          860,
          861,
          -10,
          862,
          863,
          -10,
          864,
          -10,
          865,
          -10,
          866,
          867,
          868,
          869,
          -10,
          -10,
          870,
          871,
          872,
          -10,
          873,
          -10,
          -10,
          874,
          875,
          -10,
          -10,
          876,
          877,
          878,
          -10,
          880,
          -10,
          881,
          882,
          -10,
          883,
          885,
          -10,
          887,
          -10,
          888,
          -10,
          -10,
          890,
          -10,
          -10,
          891,
          892,
          -10,
          -10,
          -10,
          894,
          -10,
          -10,
          896,
          897,
          898,
          -10,
          899,
          -10,
          900,
          900,
          -10,
          -10,
          901,
          902,
          -10,
          -10,
          -10,
          -10,
          -10,
          903,
          904,
          905,
          -10,
          -10,
          -10,
          -10,
          906,
          907,
          -10,
          908,
          909,
          -10,
          -10,
          910,
          911,
          -10,
          -10,
          -10,
          -10,
          -10
         ],
         "xaxis": "x",
         "y": [
          0,
          1,
          2,
          3,
          4,
          5,
          6,
          7,
          8,
          9,
          10,
          11,
          12,
          13,
          14,
          15,
          16,
          17,
          18,
          19,
          20,
          21,
          22,
          23,
          24,
          25,
          26,
          27,
          28,
          29,
          30,
          31,
          32,
          33,
          34,
          35,
          36,
          37,
          38,
          39,
          40,
          41,
          42,
          43,
          44,
          45,
          46,
          47,
          48,
          49,
          50,
          51,
          52,
          53,
          54,
          55,
          56,
          57,
          58,
          59,
          60,
          61,
          62,
          63,
          64,
          65,
          66,
          67,
          68,
          69,
          70,
          71,
          72,
          73,
          74,
          75,
          76,
          77,
          78,
          79,
          80,
          81,
          82,
          83,
          84,
          85,
          86,
          87,
          88,
          89,
          90,
          91,
          92,
          93,
          94,
          95,
          96,
          97,
          98,
          99,
          100,
          101,
          102,
          103,
          104,
          105,
          106,
          107,
          108,
          109,
          110,
          111,
          112,
          113,
          114,
          115,
          116,
          117,
          118,
          119,
          120,
          121,
          122,
          123,
          124,
          125,
          126,
          127,
          128,
          129,
          130,
          131,
          132,
          133,
          134,
          135,
          136,
          137,
          138,
          139,
          140,
          141,
          142,
          143,
          144,
          145,
          146,
          147,
          148,
          149,
          150,
          151,
          152,
          153,
          154,
          155,
          156,
          157,
          158,
          159,
          160,
          161,
          162,
          163,
          164,
          165,
          166,
          167,
          168,
          169,
          170,
          171,
          172,
          173,
          174,
          175,
          176,
          177,
          178,
          179,
          180,
          181,
          182,
          183,
          184,
          185,
          186,
          187,
          188,
          189,
          190,
          191,
          192,
          193,
          194,
          195,
          196,
          197,
          198,
          199,
          200,
          201,
          202,
          203,
          204,
          205,
          206,
          207,
          208,
          209,
          210,
          211,
          212,
          213,
          214,
          215,
          216,
          217,
          218,
          219,
          220,
          221,
          222,
          223,
          224,
          225,
          226,
          227,
          228,
          229,
          230,
          231,
          232,
          233,
          234,
          235,
          236,
          237,
          238,
          239,
          240,
          241,
          242,
          243,
          244,
          245,
          246,
          247,
          248,
          249,
          250,
          251,
          252,
          253,
          254,
          255,
          256,
          257,
          258,
          259,
          260,
          261,
          262,
          263,
          264,
          265,
          266,
          267,
          268,
          269,
          270,
          271,
          272,
          273,
          274,
          275,
          276,
          277,
          278,
          279,
          280,
          281,
          282,
          283,
          284,
          285,
          286,
          287,
          288,
          289,
          290,
          291,
          292,
          293,
          294,
          295,
          296,
          297,
          298,
          299,
          300,
          301,
          302,
          303,
          304,
          305,
          306,
          307,
          308,
          309,
          310,
          311,
          312,
          313,
          314,
          315,
          316,
          317,
          318,
          319,
          320,
          321,
          322,
          323,
          324,
          325,
          326,
          327,
          328,
          329,
          330,
          331,
          332,
          333,
          334,
          335,
          336,
          337,
          338,
          339,
          340,
          341,
          342,
          343,
          344,
          345,
          346,
          347,
          348,
          349,
          350,
          351,
          352,
          353,
          354,
          355,
          356,
          357,
          358,
          359,
          360,
          361,
          362,
          363,
          364,
          365,
          366,
          367,
          368,
          369,
          370,
          371,
          372,
          373,
          374,
          375,
          376,
          377,
          378,
          379,
          380,
          381,
          382,
          383,
          384,
          385,
          386,
          387,
          388,
          389,
          390,
          391,
          392,
          393,
          394,
          395,
          396,
          397,
          398,
          399,
          400,
          401,
          402,
          403,
          404,
          405,
          406,
          407,
          408,
          409,
          410,
          411,
          412,
          413,
          414,
          415,
          416,
          417,
          418,
          419,
          420,
          421,
          422,
          423,
          424,
          425,
          426,
          427,
          428,
          429,
          430,
          431,
          432,
          433,
          434,
          435,
          436,
          437,
          438,
          439,
          440,
          441,
          442,
          443,
          444,
          445,
          446,
          447,
          448,
          449,
          450,
          451,
          452,
          453,
          454,
          455,
          456,
          457,
          458,
          459,
          460,
          461,
          462,
          463,
          464,
          465,
          466,
          467,
          468,
          469,
          470,
          471,
          472,
          473,
          474,
          475,
          476,
          477,
          478,
          479,
          480,
          481,
          482,
          483,
          484,
          485,
          486,
          487,
          488,
          489,
          490,
          491,
          492,
          493,
          494,
          495,
          496,
          497,
          498,
          499,
          500,
          501,
          502,
          503,
          504,
          505,
          506,
          507,
          508,
          509,
          510,
          511,
          512,
          513,
          514,
          515,
          516,
          517,
          518,
          519,
          520,
          521,
          522,
          523,
          524,
          525,
          526,
          527,
          528,
          529,
          530,
          531,
          532,
          533,
          534,
          535,
          536,
          537,
          538,
          539,
          540,
          541,
          542,
          543,
          544,
          545,
          546,
          547,
          548,
          549,
          550,
          551,
          552,
          553,
          554,
          555,
          556,
          557,
          558,
          559,
          560,
          561,
          562,
          563,
          564,
          565,
          566,
          567,
          568,
          569,
          570,
          571,
          572,
          573,
          574,
          575,
          576,
          577,
          578,
          579,
          580,
          581,
          582,
          583,
          584,
          585,
          586,
          587,
          588,
          589,
          590,
          591,
          592,
          593,
          594,
          595,
          596,
          597,
          598,
          599,
          600,
          601,
          602,
          603,
          604,
          605,
          606,
          607,
          608,
          609,
          610,
          611,
          612,
          613,
          614,
          615,
          616,
          617,
          618,
          619,
          620,
          621,
          622,
          623,
          624,
          625,
          626,
          627,
          628,
          629,
          630,
          631,
          632,
          633,
          634,
          635,
          636,
          637,
          638,
          639,
          640,
          641,
          642,
          643,
          644,
          645,
          646,
          647,
          648,
          649,
          650,
          651,
          652,
          653,
          654,
          655,
          656,
          657,
          658,
          659,
          660,
          661,
          662,
          663,
          664,
          665,
          666,
          667,
          668,
          669,
          670,
          671,
          672,
          673,
          674,
          675,
          676,
          677,
          678,
          679,
          680,
          681,
          682,
          683,
          684,
          685,
          686,
          687,
          688,
          689,
          690,
          691,
          692,
          693,
          694,
          695,
          696,
          697,
          698,
          699,
          700,
          701,
          702,
          703,
          704,
          705,
          706,
          707,
          708,
          709,
          710,
          711,
          712,
          713,
          714,
          715,
          716,
          717,
          718,
          719,
          720,
          721,
          722,
          723,
          724,
          725,
          726,
          727,
          728,
          729,
          730,
          731,
          732,
          733,
          734,
          735,
          736,
          737,
          738,
          739,
          740,
          741,
          742,
          743,
          744,
          745,
          746,
          747,
          748,
          749,
          750,
          751,
          752,
          753,
          754,
          755,
          756,
          757,
          758,
          759,
          760,
          761,
          762,
          763,
          764,
          765,
          766,
          767,
          768,
          769,
          770,
          771,
          772,
          773,
          774,
          775,
          776,
          777,
          778,
          779,
          780,
          781,
          782,
          783,
          784,
          785,
          786,
          787,
          788,
          789,
          790,
          791,
          792,
          793,
          794,
          795,
          796,
          797,
          798,
          799,
          800,
          801,
          802,
          803,
          804,
          805,
          806,
          807,
          808,
          809,
          810,
          811,
          812,
          813,
          814,
          815,
          816,
          817,
          818,
          819,
          820,
          821,
          822,
          823,
          824,
          825,
          826,
          827,
          828,
          829,
          830,
          831,
          832,
          833,
          834,
          835,
          836,
          837,
          838,
          839,
          840,
          841,
          842,
          843,
          844,
          845,
          846,
          847,
          848,
          849,
          850,
          851,
          852,
          853,
          854,
          855,
          856,
          857,
          858,
          859,
          860,
          861,
          862,
          863,
          864,
          865,
          866,
          867,
          868,
          869,
          870,
          871,
          872,
          873,
          874,
          875,
          876,
          877,
          878,
          879,
          880,
          881,
          882,
          883,
          884,
          885,
          886,
          887,
          888,
          889,
          890,
          891,
          892,
          893,
          894,
          895,
          896,
          897,
          898,
          899,
          900,
          901,
          902,
          903,
          904,
          905,
          906,
          907,
          908,
          909,
          910,
          911,
          912,
          913,
          914,
          915,
          916,
          917,
          918,
          919,
          920,
          921,
          922,
          923,
          924,
          925,
          926,
          927,
          928,
          929,
          930,
          931,
          932,
          933,
          934,
          935,
          936,
          937,
          938,
          939,
          940,
          941,
          942,
          943,
          944,
          945,
          946,
          947,
          948,
          949,
          950,
          951,
          952,
          953,
          954,
          955,
          956,
          957,
          958,
          959,
          960,
          961,
          962,
          963,
          964,
          965,
          966,
          967,
          968,
          969,
          970,
          971,
          972,
          973,
          974,
          975,
          976,
          977,
          978,
          979,
          980,
          981,
          982,
          983,
          984,
          985,
          986,
          987,
          988,
          989,
          990,
          991,
          992,
          993,
          994,
          995,
          996,
          997,
          998,
          999,
          1000,
          1001,
          1002,
          1003,
          1004,
          1005,
          1006,
          1007,
          1008,
          1009,
          1010,
          1011,
          1012,
          1013,
          1014,
          1015,
          1016,
          1017,
          1018,
          1019,
          1020,
          1021,
          1022,
          1023,
          1024,
          1025,
          1026,
          1027,
          1028,
          1029,
          1030,
          1031,
          1032,
          1033,
          1034,
          1035,
          1036,
          1037,
          1038,
          1039,
          1040,
          1041,
          1042,
          1043,
          1044,
          1045,
          1046,
          1047,
          1048,
          1049,
          1050,
          1051,
          1052,
          1053,
          1054,
          1055,
          1056,
          1057,
          1058,
          1059,
          1060,
          1061,
          1062,
          1063,
          1064,
          1065,
          1066,
          1067,
          1068,
          1069,
          1070,
          1071,
          1072,
          1073,
          1074,
          1075,
          1076,
          1077,
          1078,
          1079,
          1080,
          1081,
          1082,
          1083,
          1084,
          1085,
          1086,
          1087,
          1088,
          1089,
          1090,
          1091,
          1092,
          1093,
          1094,
          1095,
          1096,
          1097,
          1098,
          1099,
          1100,
          1101,
          1102,
          1103,
          1104,
          1105,
          1106,
          1107,
          1108,
          1109,
          1110,
          1111,
          1112,
          1113,
          1114,
          1115,
          1116,
          1117,
          1118,
          1119,
          1120,
          1121,
          1122,
          1123,
          1124,
          1125,
          1126,
          1127,
          1128,
          1129,
          1130,
          1131,
          1132,
          1133,
          1134,
          1135,
          1136,
          1137,
          1138,
          1139,
          1140,
          1141,
          1142,
          1143,
          1144,
          1145,
          1146,
          1147,
          1148,
          1149,
          1150,
          1151,
          1152,
          1153,
          1154,
          1155,
          1156,
          1157,
          1158,
          1159,
          1160,
          1161,
          1162,
          1163,
          1164,
          1165,
          1166,
          1167,
          1168,
          1169,
          1170,
          1171,
          1172,
          1173,
          1174,
          1175,
          1176,
          1177,
          1178,
          1179,
          1180,
          1181,
          1182,
          1183,
          1184,
          1185,
          1186,
          1187,
          1188,
          1189,
          1190,
          1191,
          1192,
          1193,
          1194,
          1195,
          1196,
          1197,
          1198,
          1199,
          1200,
          1201,
          1202,
          1203,
          1204,
          1205,
          1206,
          1207,
          1208,
          1209,
          1210,
          1211,
          1212,
          1213,
          1214,
          1215,
          1216
         ],
         "yaxis": "y"
        },
        {
         "customdata": [
          [
           false,
           null,
           true,
           1,
           "gt",
           0,
           0,
           "NA"
          ],
          [
           false,
           null,
           true,
           1,
           "gt",
           0,
           1,
           "NA"
          ],
          [
           true,
           null,
           false,
           1,
           "gt",
           0.43333333333333335,
           2,
           1
          ],
          [
           false,
           null,
           true,
           1,
           "gt",
           0,
           3,
           "NA"
          ],
          [
           false,
           null,
           true,
           1,
           "gt",
           0,
           4,
           "NA"
          ],
          [
           false,
           null,
           true,
           1,
           "gt",
           0,
           5,
           "NA"
          ],
          [
           true,
           null,
           false,
           1,
           "gt",
           0.4936708860759494,
           6,
           2
          ],
          [
           true,
           null,
           false,
           1,
           "gt",
           0.41237113402061853,
           7,
           3
          ],
          [
           true,
           null,
           false,
           1,
           "gt",
           0.9020618556701031,
           8,
           4
          ],
          [
           true,
           null,
           false,
           1,
           "gt",
           0.7239263803680982,
           9,
           5
          ],
          [
           true,
           null,
           false,
           1,
           "gt",
           0.3933649289099526,
           10,
           7
          ],
          [
           true,
           null,
           false,
           1,
           "gt",
           0.7259615384615384,
           11,
           9
          ],
          [
           true,
           null,
           false,
           1,
           "gt",
           0.5021834061135371,
           12,
           10
          ],
          [
           true,
           null,
           false,
           1,
           "gt",
           0.6801801801801802,
           13,
           11
          ],
          [
           true,
           null,
           false,
           1,
           "gt",
           0.36893203883495146,
           14,
           12
          ],
          [
           true,
           null,
           false,
           1,
           "gt",
           0.6319702602230484,
           15,
           13
          ],
          [
           true,
           null,
           false,
           1,
           "gt",
           0.559228650137741,
           16,
           14
          ],
          [
           true,
           null,
           false,
           1,
           "gt",
           0.6209150326797386,
           17,
           15
          ],
          [
           true,
           null,
           false,
           1,
           "gt",
           0.48936170212765956,
           18,
           16
          ],
          [
           false,
           null,
           true,
           1,
           "gt",
           0.23737373737373738,
           19,
           17
          ],
          [
           true,
           null,
           false,
           1,
           "gt",
           0.6401869158878505,
           20,
           18
          ],
          [
           false,
           null,
           true,
           1,
           "gt",
           0.15789473684210525,
           21,
           19
          ],
          [
           false,
           null,
           true,
           1,
           "gt",
           0,
           22,
           "NA"
          ],
          [
           true,
           null,
           false,
           1,
           "gt",
           0.8558139534883721,
           23,
           21
          ],
          [
           true,
           null,
           false,
           1,
           "gt",
           0.5951417004048583,
           24,
           24
          ],
          [
           true,
           null,
           false,
           1,
           "gt",
           0.6543778801843319,
           25,
           25
          ],
          [
           true,
           null,
           false,
           1,
           "gt",
           0.5445544554455446,
           26,
           26
          ],
          [
           true,
           null,
           false,
           1,
           "gt",
           0.8371428571428572,
           27,
           27
          ],
          [
           true,
           null,
           false,
           1,
           "gt",
           0.823170731707317,
           28,
           28
          ],
          [
           true,
           null,
           false,
           1,
           "gt",
           0.5460122699386503,
           29,
           29
          ],
          [
           false,
           null,
           true,
           1,
           "gt",
           0,
           30,
           "NA"
          ],
          [
           true,
           null,
           false,
           1,
           "gt",
           0.6321070234113713,
           31,
           30
          ],
          [
           true,
           null,
           false,
           1,
           "gt",
           0.849624060150376,
           32,
           32
          ],
          [
           true,
           null,
           false,
           1,
           "gt",
           0.8743718592964824,
           33,
           33
          ],
          [
           true,
           null,
           false,
           1,
           "gt",
           0.8023952095808383,
           34,
           34
          ],
          [
           false,
           null,
           true,
           1,
           "gt",
           0,
           35,
           "NA"
          ],
          [
           false,
           null,
           true,
           1,
           "gt",
           0,
           36,
           "NA"
          ],
          [
           false,
           null,
           true,
           1,
           "gt",
           0,
           37,
           "NA"
          ],
          [
           false,
           null,
           true,
           1,
           "gt",
           0,
           38,
           "NA"
          ],
          [
           true,
           null,
           false,
           1,
           "gt",
           0.9272151898734177,
           39,
           37
          ],
          [
           true,
           null,
           false,
           1,
           "gt",
           0.42105263157894735,
           40,
           38
          ],
          [
           true,
           null,
           false,
           1,
           "gt",
           0.34662576687116564,
           41,
           38
          ],
          [
           true,
           null,
           false,
           1,
           "gt",
           0.6341463414634146,
           42,
           40
          ],
          [
           true,
           null,
           false,
           1,
           "gt",
           0.9447852760736196,
           43,
           41
          ],
          [
           true,
           null,
           false,
           1,
           "gt",
           0.8395061728395061,
           44,
           42
          ],
          [
           true,
           null,
           false,
           1,
           "gt",
           0.6721311475409836,
           45,
           43
          ],
          [
           true,
           null,
           false,
           1,
           "gt",
           0.4703196347031963,
           46,
           44
          ],
          [
           false,
           null,
           true,
           1,
           "gt",
           0,
           47,
           "NA"
          ],
          [
           true,
           null,
           false,
           1,
           "gt",
           0.625,
           48,
           46
          ],
          [
           true,
           null,
           false,
           1,
           "gt",
           0.47808764940239046,
           49,
           47
          ],
          [
           true,
           null,
           false,
           1,
           "gt",
           0.9325153374233128,
           50,
           48
          ],
          [
           true,
           null,
           false,
           1,
           "gt",
           0.72,
           51,
           49
          ],
          [
           false,
           null,
           true,
           1,
           "gt",
           0,
           52,
           "NA"
          ],
          [
           false,
           null,
           true,
           1,
           "gt",
           0.2570806100217865,
           53,
           51
          ],
          [
           true,
           null,
           false,
           1,
           "gt",
           0.3657957244655582,
           54,
           51
          ],
          [
           true,
           null,
           false,
           1,
           "gt",
           0.9638009049773756,
           55,
           52
          ],
          [
           true,
           null,
           false,
           1,
           "gt",
           0.8418604651162791,
           56,
           53
          ],
          [
           true,
           null,
           false,
           1,
           "gt",
           0.5665529010238908,
           57,
           54
          ],
          [
           true,
           null,
           false,
           1,
           "gt",
           0.5251396648044693,
           58,
           55
          ],
          [
           true,
           null,
           false,
           1,
           "gt",
           0.8120805369127517,
           59,
           56
          ],
          [
           true,
           null,
           false,
           1,
           "gt",
           0.6521739130434783,
           60,
           57
          ],
          [
           true,
           null,
           false,
           1,
           "gt",
           0.7724550898203593,
           61,
           58
          ],
          [
           true,
           null,
           false,
           1,
           "gt",
           0.8613861386138614,
           62,
           59
          ],
          [
           true,
           null,
           false,
           1,
           "gt",
           0.5273972602739726,
           63,
           60
          ],
          [
           true,
           null,
           false,
           1,
           "gt",
           0.3079470198675497,
           64,
           62
          ],
          [
           true,
           null,
           false,
           1,
           "gt",
           0.6046511627906976,
           65,
           63
          ],
          [
           false,
           null,
           true,
           1,
           "gt",
           0,
           66,
           "NA"
          ],
          [
           true,
           null,
           false,
           1,
           "gt",
           0.7484076433121019,
           67,
           64
          ],
          [
           true,
           null,
           false,
           1,
           "gt",
           0.8914728682170543,
           68,
           65
          ],
          [
           true,
           null,
           false,
           1,
           "gt",
           0.7411764705882353,
           69,
           66
          ],
          [
           true,
           null,
           false,
           1,
           "gt",
           0.5364963503649635,
           70,
           67
          ],
          [
           true,
           null,
           false,
           1,
           "gt",
           0.6967213114754098,
           71,
           68
          ],
          [
           true,
           null,
           false,
           1,
           "gt",
           0.6060606060606061,
           72,
           69
          ],
          [
           true,
           null,
           false,
           1,
           "gt",
           0.3719512195121951,
           73,
           70
          ],
          [
           true,
           null,
           false,
           1,
           "gt",
           0.5944055944055944,
           74,
           71
          ],
          [
           true,
           null,
           false,
           1,
           "gt",
           0.8493150684931506,
           75,
           72
          ],
          [
           false,
           null,
           true,
           1,
           "gt",
           0,
           76,
           "NA"
          ],
          [
           true,
           null,
           false,
           1,
           "gt",
           0.4124293785310734,
           77,
           73
          ],
          [
           true,
           null,
           false,
           1,
           "gt",
           0.9848484848484849,
           78,
           74
          ],
          [
           false,
           null,
           true,
           1,
           "gt",
           0,
           79,
           "NA"
          ],
          [
           false,
           null,
           true,
           1,
           "gt",
           0.0942622950819672,
           80,
           75
          ],
          [
           true,
           null,
           false,
           1,
           "gt",
           0.6144578313253012,
           81,
           76
          ],
          [
           true,
           null,
           false,
           1,
           "gt",
           0.8116591928251121,
           82,
           77
          ],
          [
           true,
           null,
           false,
           1,
           "gt",
           0.7941176470588235,
           83,
           79
          ],
          [
           true,
           null,
           false,
           1,
           "gt",
           0.45108695652173914,
           84,
           80
          ],
          [
           true,
           null,
           false,
           1,
           "gt",
           0.7859649122807018,
           85,
           82
          ],
          [
           true,
           null,
           false,
           1,
           "gt",
           0.38461538461538464,
           86,
           83
          ],
          [
           true,
           null,
           false,
           1,
           "gt",
           0.5214521452145214,
           87,
           84
          ],
          [
           true,
           null,
           false,
           1,
           "gt",
           0.888,
           88,
           85
          ],
          [
           true,
           null,
           false,
           1,
           "gt",
           0.7732558139534884,
           89,
           86
          ],
          [
           true,
           null,
           false,
           1,
           "gt",
           0.30603448275862066,
           90,
           88
          ],
          [
           true,
           null,
           false,
           1,
           "gt",
           0.8837209302325582,
           91,
           89
          ],
          [
           false,
           null,
           true,
           1,
           "gt",
           0,
           92,
           "NA"
          ],
          [
           true,
           null,
           false,
           1,
           "gt",
           0.6496815286624203,
           93,
           90
          ],
          [
           true,
           null,
           false,
           1,
           "gt",
           0.6438356164383562,
           94,
           91
          ],
          [
           false,
           null,
           true,
           1,
           "gt",
           0.05263157894736842,
           95,
           93
          ],
          [
           false,
           null,
           true,
           1,
           "gt",
           0,
           96,
           "NA"
          ],
          [
           false,
           null,
           true,
           1,
           "gt",
           0,
           97,
           "NA"
          ],
          [
           false,
           null,
           true,
           1,
           "gt",
           0,
           98,
           "NA"
          ],
          [
           false,
           null,
           true,
           1,
           "gt",
           0,
           99,
           "NA"
          ],
          [
           true,
           null,
           false,
           1,
           "gt",
           0.6888888888888889,
           100,
           95
          ],
          [
           true,
           null,
           false,
           1,
           "gt",
           0.88,
           101,
           97
          ],
          [
           true,
           null,
           false,
           1,
           "gt",
           0.4825174825174825,
           102,
           98
          ],
          [
           true,
           null,
           false,
           1,
           "gt",
           0.7131782945736435,
           103,
           99
          ],
          [
           false,
           null,
           true,
           1,
           "gt",
           0,
           104,
           "NA"
          ],
          [
           true,
           null,
           false,
           1,
           "gt",
           0.8232323232323232,
           105,
           100
          ],
          [
           true,
           null,
           false,
           1,
           "gt",
           0.764,
           106,
           101
          ],
          [
           true,
           null,
           false,
           1,
           "gt",
           0.6845878136200717,
           107,
           102
          ],
          [
           true,
           null,
           false,
           1,
           "gt",
           0.7219512195121951,
           108,
           103
          ],
          [
           true,
           null,
           false,
           1,
           "gt",
           0.39759036144578314,
           109,
           104
          ],
          [
           true,
           null,
           false,
           1,
           "gt",
           0.3003412969283277,
           110,
           105
          ],
          [
           true,
           null,
           false,
           1,
           "gt",
           0.8321678321678322,
           111,
           106
          ],
          [
           true,
           null,
           false,
           1,
           "gt",
           0.4684385382059801,
           112,
           108
          ],
          [
           false,
           null,
           true,
           1,
           "gt",
           0,
           113,
           "NA"
          ],
          [
           true,
           null,
           false,
           1,
           "gt",
           0.9071428571428571,
           114,
           109
          ],
          [
           true,
           null,
           false,
           1,
           "gt",
           0.851063829787234,
           115,
           111
          ],
          [
           false,
           null,
           true,
           1,
           "gt",
           0,
           116,
           "NA"
          ],
          [
           true,
           null,
           false,
           1,
           "gt",
           0.7981651376146789,
           117,
           116
          ],
          [
           true,
           null,
           false,
           1,
           "gt",
           0.5182926829268293,
           118,
           117
          ],
          [
           true,
           null,
           false,
           1,
           "gt",
           0.7278481012658228,
           119,
           118
          ],
          [
           true,
           null,
           false,
           1,
           "gt",
           0.7055016181229773,
           120,
           119
          ],
          [
           true,
           null,
           false,
           1,
           "gt",
           0.6894409937888198,
           121,
           120
          ],
          [
           true,
           null,
           false,
           1,
           "gt",
           0.6493506493506493,
           122,
           121
          ],
          [
           true,
           null,
           false,
           1,
           "gt",
           0.4208860759493671,
           123,
           122
          ],
          [
           true,
           null,
           false,
           1,
           "gt",
           0.8267477203647416,
           124,
           123
          ],
          [
           true,
           null,
           false,
           1,
           "gt",
           0.8083832335329342,
           125,
           124
          ],
          [
           false,
           null,
           true,
           1,
           "gt",
           0,
           126,
           "NA"
          ],
          [
           true,
           null,
           false,
           1,
           "gt",
           0.7098039215686275,
           127,
           126
          ],
          [
           true,
           null,
           false,
           1,
           "gt",
           0.7821229050279329,
           128,
           127
          ],
          [
           true,
           null,
           false,
           1,
           "gt",
           0.8208333333333333,
           129,
           129
          ],
          [
           true,
           null,
           false,
           1,
           "gt",
           0.6272189349112426,
           130,
           130
          ],
          [
           true,
           null,
           false,
           1,
           "gt",
           0.86875,
           131,
           131
          ],
          [
           true,
           null,
           false,
           1,
           "gt",
           0.7272727272727273,
           132,
           132
          ],
          [
           true,
           null,
           false,
           1,
           "gt",
           0.8934010152284264,
           133,
           135
          ],
          [
           true,
           null,
           false,
           1,
           "gt",
           0.6387434554973822,
           134,
           137
          ],
          [
           true,
           null,
           false,
           1,
           "gt",
           0.9424460431654677,
           135,
           138
          ],
          [
           true,
           null,
           false,
           1,
           "gt",
           0.9711538461538461,
           136,
           143
          ],
          [
           false,
           null,
           true,
           1,
           "gt",
           0,
           137,
           "NA"
          ],
          [
           true,
           null,
           false,
           1,
           "gt",
           0.8395061728395061,
           138,
           146
          ],
          [
           true,
           null,
           false,
           1,
           "gt",
           0.875,
           139,
           147
          ],
          [
           true,
           null,
           false,
           1,
           "gt",
           0.6446700507614214,
           140,
           149
          ],
          [
           true,
           null,
           false,
           1,
           "gt",
           0.41904761904761906,
           141,
           150
          ],
          [
           true,
           null,
           false,
           1,
           "gt",
           0.8377192982456141,
           142,
           151
          ],
          [
           true,
           null,
           false,
           1,
           "gt",
           0.9354838709677419,
           143,
           152
          ],
          [
           false,
           null,
           true,
           1,
           "gt",
           0,
           144,
           "NA"
          ],
          [
           true,
           null,
           false,
           1,
           "gt",
           0.8114035087719298,
           145,
           155
          ],
          [
           false,
           null,
           true,
           1,
           "gt",
           0,
           146,
           "NA"
          ],
          [
           true,
           null,
           false,
           1,
           "gt",
           0.664,
           147,
           156
          ],
          [
           true,
           null,
           false,
           1,
           "gt",
           0.7183673469387755,
           148,
           157
          ],
          [
           false,
           null,
           true,
           1,
           "gt",
           0,
           149,
           "NA"
          ],
          [
           true,
           null,
           false,
           1,
           "gt",
           0.4844559585492228,
           150,
           159
          ],
          [
           true,
           null,
           false,
           1,
           "gt",
           0.5045045045045045,
           151,
           160
          ],
          [
           true,
           null,
           false,
           1,
           "gt",
           0.5233333333333333,
           152,
           161
          ],
          [
           true,
           null,
           false,
           1,
           "gt",
           0.6726190476190477,
           153,
           163
          ],
          [
           false,
           null,
           true,
           1,
           "gt",
           0,
           154,
           "NA"
          ],
          [
           true,
           null,
           false,
           1,
           "gt",
           0.7516778523489933,
           155,
           164
          ],
          [
           true,
           null,
           false,
           1,
           "gt",
           0.8053435114503816,
           156,
           165
          ],
          [
           true,
           null,
           false,
           1,
           "gt",
           0.7391304347826086,
           157,
           167
          ],
          [
           true,
           null,
           false,
           1,
           "gt",
           0.7025862068965517,
           158,
           168
          ],
          [
           false,
           null,
           true,
           1,
           "gt",
           0,
           159,
           "NA"
          ],
          [
           true,
           null,
           false,
           1,
           "gt",
           0.8673469387755102,
           160,
           169
          ],
          [
           true,
           null,
           false,
           1,
           "gt",
           0.8202764976958525,
           161,
           170
          ],
          [
           true,
           null,
           false,
           1,
           "gt",
           0.8128342245989305,
           162,
           172
          ],
          [
           true,
           null,
           false,
           1,
           "gt",
           0.6111111111111112,
           163,
           173
          ],
          [
           true,
           null,
           false,
           1,
           "gt",
           0.7876447876447876,
           164,
           174
          ],
          [
           false,
           null,
           true,
           1,
           "gt",
           0,
           165,
           "NA"
          ],
          [
           true,
           null,
           false,
           1,
           "gt",
           0.7635135135135135,
           166,
           175
          ],
          [
           true,
           null,
           false,
           1,
           "gt",
           0.7891156462585034,
           167,
           176
          ],
          [
           true,
           null,
           false,
           1,
           "gt",
           0.7938931297709924,
           168,
           177
          ],
          [
           true,
           null,
           false,
           1,
           "gt",
           0.7094017094017094,
           169,
           179
          ],
          [
           true,
           null,
           false,
           1,
           "gt",
           0.7674418604651163,
           170,
           180
          ],
          [
           true,
           null,
           false,
           1,
           "gt",
           0.6484018264840182,
           171,
           181
          ],
          [
           false,
           null,
           true,
           1,
           "gt",
           0,
           172,
           "NA"
          ],
          [
           true,
           null,
           false,
           1,
           "gt",
           0.7235023041474654,
           173,
           182
          ],
          [
           true,
           null,
           false,
           1,
           "gt",
           0.8961937716262975,
           174,
           184
          ],
          [
           true,
           null,
           false,
           1,
           "gt",
           0.8351648351648352,
           175,
           186
          ],
          [
           true,
           null,
           false,
           1,
           "gt",
           0.6681222707423581,
           176,
           187
          ],
          [
           true,
           null,
           false,
           1,
           "gt",
           0.34718100890207715,
           177,
           188
          ],
          [
           false,
           null,
           true,
           1,
           "gt",
           0,
           178,
           "NA"
          ],
          [
           true,
           null,
           false,
           1,
           "gt",
           0.8763636363636363,
           179,
           190
          ],
          [
           true,
           null,
           false,
           1,
           "gt",
           0.7293577981651376,
           180,
           191
          ],
          [
           true,
           null,
           false,
           1,
           "gt",
           0.7373737373737373,
           181,
           193
          ],
          [
           true,
           null,
           false,
           1,
           "gt",
           0.7336448598130841,
           182,
           194
          ],
          [
           false,
           null,
           true,
           1,
           "gt",
           0,
           183,
           "NA"
          ],
          [
           true,
           null,
           false,
           1,
           "gt",
           0.60625,
           184,
           196
          ],
          [
           true,
           null,
           false,
           1,
           "gt",
           0.5930232558139535,
           185,
           197
          ],
          [
           false,
           null,
           true,
           1,
           "gt",
           0,
           186,
           "NA"
          ],
          [
           true,
           null,
           false,
           1,
           "gt",
           0.5892857142857143,
           187,
           198
          ],
          [
           false,
           null,
           true,
           1,
           "gt",
           0,
           188,
           "NA"
          ],
          [
           true,
           null,
           false,
           1,
           "gt",
           0.6149732620320856,
           189,
           200
          ],
          [
           true,
           null,
           false,
           1,
           "gt",
           0.68125,
           190,
           204
          ],
          [
           true,
           null,
           false,
           1,
           "gt",
           0.732484076433121,
           191,
           205
          ],
          [
           true,
           null,
           false,
           1,
           "gt",
           0.8818897637795275,
           192,
           206
          ],
          [
           true,
           null,
           false,
           1,
           "gt",
           0.6115702479338843,
           193,
           207
          ],
          [
           true,
           null,
           false,
           1,
           "gt",
           0.7969348659003831,
           194,
           208
          ],
          [
           true,
           null,
           false,
           1,
           "gt",
           0.8962264150943396,
           195,
           209
          ],
          [
           true,
           null,
           false,
           1,
           "gt",
           0.9653465346534653,
           196,
           211
          ],
          [
           true,
           null,
           false,
           1,
           "gt",
           0.8221153846153846,
           197,
           213
          ],
          [
           true,
           null,
           false,
           1,
           "gt",
           0.7839195979899497,
           198,
           214
          ],
          [
           true,
           null,
           false,
           1,
           "gt",
           0.9540229885057471,
           199,
           215
          ],
          [
           true,
           null,
           false,
           1,
           "gt",
           0.82,
           200,
           216
          ],
          [
           true,
           null,
           false,
           1,
           "gt",
           0.6892655367231638,
           201,
           217
          ],
          [
           true,
           null,
           false,
           1,
           "gt",
           0.5898305084745763,
           202,
           218
          ],
          [
           true,
           null,
           false,
           1,
           "gt",
           0.8382352941176471,
           203,
           219
          ],
          [
           false,
           null,
           true,
           1,
           "gt",
           0,
           204,
           "NA"
          ],
          [
           true,
           null,
           false,
           1,
           "gt",
           0.7647058823529411,
           205,
           222
          ],
          [
           true,
           null,
           false,
           1,
           "gt",
           0.9244444444444444,
           206,
           223
          ],
          [
           true,
           null,
           false,
           1,
           "gt",
           0.5534591194968553,
           207,
           224
          ],
          [
           true,
           null,
           false,
           1,
           "gt",
           0.5906432748538012,
           208,
           225
          ],
          [
           true,
           null,
           false,
           1,
           "gt",
           0.5689655172413793,
           209,
           226
          ],
          [
           true,
           null,
           false,
           1,
           "gt",
           0.632768361581921,
           210,
           227
          ],
          [
           true,
           null,
           false,
           1,
           "gt",
           0.7463414634146341,
           211,
           228
          ],
          [
           true,
           null,
           false,
           1,
           "gt",
           0.813953488372093,
           212,
           229
          ],
          [
           true,
           null,
           false,
           1,
           "gt",
           0.7688442211055276,
           213,
           230
          ],
          [
           true,
           null,
           false,
           1,
           "gt",
           0.846820809248555,
           214,
           231
          ],
          [
           true,
           null,
           false,
           1,
           "gt",
           0.6958333333333333,
           215,
           232
          ],
          [
           true,
           null,
           false,
           1,
           "gt",
           0.8254545454545454,
           216,
           233
          ],
          [
           true,
           null,
           false,
           1,
           "gt",
           0.5529801324503312,
           217,
           234
          ],
          [
           true,
           null,
           false,
           1,
           "gt",
           0.7596153846153846,
           218,
           235
          ],
          [
           true,
           null,
           false,
           1,
           "gt",
           0.8141592920353983,
           219,
           237
          ],
          [
           true,
           null,
           false,
           1,
           "gt",
           0.9174757281553398,
           220,
           240
          ],
          [
           true,
           null,
           false,
           1,
           "gt",
           0.7861271676300579,
           221,
           241
          ],
          [
           true,
           null,
           false,
           1,
           "gt",
           0.5223214285714286,
           222,
           243
          ],
          [
           true,
           null,
           false,
           1,
           "gt",
           0.5869565217391305,
           223,
           245
          ],
          [
           true,
           null,
           false,
           1,
           "gt",
           0.8244897959183674,
           224,
           246
          ],
          [
           true,
           null,
           false,
           1,
           "gt",
           0.8372093023255814,
           225,
           251
          ],
          [
           true,
           null,
           false,
           1,
           "gt",
           0.9301075268817204,
           226,
           254
          ],
          [
           true,
           null,
           false,
           1,
           "gt",
           0.8125,
           227,
           255
          ],
          [
           true,
           null,
           false,
           1,
           "gt",
           0.3438914027149321,
           228,
           256
          ],
          [
           false,
           null,
           true,
           1,
           "gt",
           0,
           229,
           "NA"
          ],
          [
           true,
           null,
           false,
           1,
           "gt",
           0.7222222222222222,
           230,
           257
          ],
          [
           true,
           null,
           false,
           1,
           "gt",
           0.4336917562724014,
           231,
           258
          ],
          [
           true,
           null,
           false,
           1,
           "gt",
           0.6646341463414634,
           232,
           259
          ],
          [
           true,
           null,
           false,
           1,
           "gt",
           0.7861271676300579,
           233,
           260
          ],
          [
           true,
           null,
           false,
           1,
           "gt",
           0.8181818181818182,
           234,
           261
          ],
          [
           true,
           null,
           false,
           1,
           "gt",
           0.904320987654321,
           235,
           262
          ],
          [
           true,
           null,
           false,
           1,
           "gt",
           0.7587719298245614,
           236,
           263
          ],
          [
           true,
           null,
           false,
           1,
           "gt",
           0.6198347107438017,
           237,
           264
          ],
          [
           true,
           null,
           false,
           1,
           "gt",
           0.45054945054945056,
           238,
           266
          ],
          [
           true,
           null,
           false,
           1,
           "gt",
           0.8878504672897196,
           239,
           267
          ],
          [
           true,
           null,
           false,
           1,
           "gt",
           0.8687258687258688,
           240,
           268
          ],
          [
           false,
           null,
           true,
           1,
           "gt",
           0,
           241,
           "NA"
          ],
          [
           true,
           null,
           false,
           1,
           "gt",
           0.8717948717948718,
           242,
           270
          ],
          [
           true,
           null,
           false,
           1,
           "gt",
           0.8350515463917526,
           243,
           271
          ],
          [
           true,
           null,
           false,
           1,
           "gt",
           0.5771428571428572,
           244,
           272
          ],
          [
           true,
           null,
           false,
           1,
           "gt",
           0.7135135135135136,
           245,
           273
          ],
          [
           false,
           null,
           true,
           1,
           "gt",
           0,
           246,
           "NA"
          ],
          [
           true,
           null,
           false,
           1,
           "gt",
           0.8742857142857143,
           247,
           276
          ],
          [
           true,
           null,
           false,
           1,
           "gt",
           0.6228813559322034,
           248,
           277
          ],
          [
           true,
           null,
           false,
           1,
           "gt",
           0.8976744186046511,
           249,
           278
          ],
          [
           true,
           null,
           false,
           1,
           "gt",
           0.7121212121212122,
           250,
           279
          ],
          [
           true,
           null,
           false,
           1,
           "gt",
           0.8260869565217391,
           251,
           280
          ],
          [
           false,
           null,
           true,
           1,
           "gt",
           0,
           252,
           "NA"
          ],
          [
           true,
           null,
           false,
           1,
           "gt",
           0.8,
           253,
           282
          ],
          [
           true,
           null,
           false,
           1,
           "gt",
           0.5081967213114754,
           254,
           283
          ],
          [
           true,
           null,
           false,
           1,
           "gt",
           0.8369098712446352,
           255,
           284
          ],
          [
           true,
           null,
           false,
           1,
           "gt",
           0.8877005347593583,
           256,
           285
          ],
          [
           true,
           null,
           false,
           1,
           "gt",
           0.6790697674418604,
           257,
           286
          ],
          [
           true,
           null,
           false,
           1,
           "gt",
           0.567741935483871,
           258,
           287
          ],
          [
           true,
           null,
           false,
           1,
           "gt",
           0.8333333333333334,
           259,
           288
          ],
          [
           true,
           null,
           false,
           1,
           "gt",
           0.7477477477477478,
           260,
           289
          ],
          [
           false,
           null,
           true,
           1,
           "gt",
           0,
           261,
           "NA"
          ],
          [
           false,
           null,
           true,
           1,
           "gt",
           0,
           262,
           "NA"
          ],
          [
           true,
           null,
           false,
           1,
           "gt",
           0.8636363636363636,
           263,
           291
          ],
          [
           false,
           null,
           true,
           1,
           "gt",
           0,
           264,
           "NA"
          ],
          [
           true,
           null,
           false,
           1,
           "gt",
           0.802547770700637,
           265,
           292
          ],
          [
           true,
           null,
           false,
           1,
           "gt",
           0.5924170616113744,
           266,
           293
          ],
          [
           false,
           null,
           true,
           1,
           "gt",
           0,
           267,
           "NA"
          ],
          [
           true,
           null,
           false,
           1,
           "gt",
           0.8202247191011236,
           268,
           294
          ],
          [
           true,
           null,
           false,
           1,
           "gt",
           0.4943820224719101,
           269,
           295
          ],
          [
           false,
           null,
           true,
           1,
           "gt",
           0,
           270,
           "NA"
          ],
          [
           false,
           null,
           true,
           1,
           "gt",
           0,
           271,
           "NA"
          ],
          [
           true,
           null,
           false,
           1,
           "gt",
           0.6533333333333333,
           272,
           297
          ],
          [
           true,
           null,
           false,
           1,
           "gt",
           0.9132653061224489,
           273,
           298
          ],
          [
           true,
           null,
           false,
           1,
           "gt",
           0.6331658291457286,
           274,
           299
          ],
          [
           true,
           null,
           false,
           1,
           "gt",
           0.6301369863013698,
           275,
           300
          ],
          [
           true,
           null,
           false,
           1,
           "gt",
           0.5104895104895105,
           276,
           301
          ],
          [
           false,
           null,
           true,
           1,
           "gt",
           0,
           277,
           "NA"
          ],
          [
           true,
           null,
           false,
           1,
           "gt",
           0.8844221105527639,
           278,
           302
          ],
          [
           true,
           null,
           false,
           1,
           "gt",
           0.8208955223880597,
           279,
           305
          ],
          [
           true,
           null,
           false,
           1,
           "gt",
           0.7627906976744186,
           280,
           306
          ],
          [
           true,
           null,
           false,
           1,
           "gt",
           0.9738562091503268,
           281,
           307
          ],
          [
           true,
           null,
           false,
           1,
           "gt",
           0.7403508771929824,
           282,
           308
          ],
          [
           true,
           null,
           false,
           1,
           "gt",
           0.7511520737327189,
           283,
           309
          ],
          [
           true,
           null,
           false,
           1,
           "gt",
           0.8359375,
           284,
           310
          ],
          [
           true,
           null,
           false,
           1,
           "gt",
           0.6196319018404908,
           285,
           314
          ],
          [
           true,
           null,
           false,
           1,
           "gt",
           0.819047619047619,
           286,
           317
          ],
          [
           true,
           null,
           false,
           1,
           "gt",
           0.42207792207792205,
           287,
           318
          ],
          [
           true,
           null,
           false,
           1,
           "gt",
           0.5464285714285714,
           288,
           320
          ],
          [
           true,
           null,
           false,
           1,
           "gt",
           0.7005988023952096,
           289,
           321
          ],
          [
           true,
           null,
           false,
           1,
           "gt",
           0.9288888888888889,
           290,
           322
          ],
          [
           true,
           null,
           false,
           1,
           "gt",
           0.6752136752136753,
           291,
           323
          ],
          [
           true,
           null,
           false,
           1,
           "gt",
           0.8088235294117647,
           292,
           324
          ],
          [
           true,
           null,
           false,
           1,
           "gt",
           0.43492063492063493,
           293,
           327
          ],
          [
           true,
           null,
           false,
           1,
           "gt",
           0.84,
           294,
           328
          ],
          [
           true,
           null,
           false,
           1,
           "gt",
           0.8489583333333334,
           295,
           329
          ],
          [
           true,
           null,
           false,
           1,
           "gt",
           0.6722689075630253,
           296,
           330
          ],
          [
           true,
           null,
           false,
           1,
           "gt",
           0.8220338983050848,
           297,
           331
          ],
          [
           true,
           null,
           false,
           1,
           "gt",
           0.6486486486486487,
           298,
           332
          ],
          [
           true,
           null,
           false,
           1,
           "gt",
           0.5843373493975904,
           299,
           335
          ],
          [
           true,
           null,
           false,
           1,
           "gt",
           0.7872340425531915,
           300,
           336
          ],
          [
           true,
           null,
           false,
           1,
           "gt",
           0.8846153846153846,
           301,
           338
          ],
          [
           true,
           null,
           false,
           1,
           "gt",
           0.7777777777777778,
           302,
           340
          ],
          [
           true,
           null,
           false,
           1,
           "gt",
           0.8369565217391305,
           303,
           341
          ],
          [
           true,
           null,
           false,
           1,
           "gt",
           0.38461538461538464,
           304,
           342
          ],
          [
           false,
           null,
           true,
           1,
           "gt",
           0,
           305,
           "NA"
          ],
          [
           true,
           null,
           false,
           1,
           "gt",
           0.6728624535315985,
           306,
           346
          ],
          [
           true,
           null,
           false,
           1,
           "gt",
           0.6,
           307,
           347
          ],
          [
           true,
           null,
           false,
           1,
           "gt",
           0.6346153846153846,
           308,
           349
          ],
          [
           true,
           null,
           false,
           1,
           "gt",
           0.7892376681614349,
           309,
           350
          ],
          [
           false,
           null,
           true,
           1,
           "gt",
           0,
           310,
           "NA"
          ],
          [
           true,
           null,
           false,
           1,
           "gt",
           0.6728971962616822,
           311,
           351
          ],
          [
           true,
           null,
           false,
           1,
           "gt",
           0.7843137254901961,
           312,
           356
          ],
          [
           true,
           null,
           false,
           1,
           "gt",
           0.9301075268817204,
           313,
           357
          ],
          [
           true,
           null,
           false,
           1,
           "gt",
           0.7590361445783133,
           314,
           360
          ],
          [
           true,
           null,
           false,
           1,
           "gt",
           0.8609625668449198,
           315,
           361
          ],
          [
           true,
           null,
           false,
           1,
           "gt",
           0.5833333333333334,
           316,
           363
          ],
          [
           true,
           null,
           false,
           1,
           "gt",
           0.9438202247191011,
           317,
           368
          ],
          [
           true,
           null,
           false,
           1,
           "gt",
           0.7734806629834254,
           318,
           370
          ],
          [
           true,
           null,
           false,
           1,
           "gt",
           0.8010204081632653,
           319,
           371
          ],
          [
           false,
           null,
           true,
           1,
           "gt",
           0.26996197718631176,
           320,
           372
          ],
          [
           true,
           null,
           false,
           1,
           "gt",
           0.673469387755102,
           321,
           373
          ],
          [
           true,
           null,
           false,
           1,
           "gt",
           0.4342629482071713,
           322,
           374
          ],
          [
           false,
           null,
           true,
           1,
           "gt",
           0,
           323,
           "NA"
          ],
          [
           true,
           null,
           false,
           1,
           "gt",
           0.8444444444444444,
           324,
           379
          ],
          [
           true,
           null,
           false,
           1,
           "gt",
           0.7478632478632479,
           325,
           381
          ],
          [
           true,
           null,
           false,
           1,
           "gt",
           0.65,
           326,
           384
          ],
          [
           false,
           null,
           true,
           1,
           "gt",
           0,
           327,
           "NA"
          ],
          [
           true,
           null,
           false,
           1,
           "gt",
           0.8132780082987552,
           328,
           388
          ],
          [
           true,
           null,
           false,
           1,
           "gt",
           0.7150537634408602,
           329,
           390
          ],
          [
           true,
           null,
           false,
           1,
           "gt",
           0.8707865168539326,
           330,
           392
          ],
          [
           false,
           null,
           true,
           1,
           "gt",
           0,
           331,
           "NA"
          ],
          [
           true,
           null,
           false,
           1,
           "gt",
           0.9503105590062112,
           332,
           393
          ],
          [
           true,
           null,
           false,
           1,
           "gt",
           0.6693548387096774,
           333,
           394
          ],
          [
           true,
           null,
           false,
           1,
           "gt",
           0.6495327102803738,
           334,
           395
          ],
          [
           true,
           null,
           false,
           1,
           "gt",
           0.759493670886076,
           335,
           397
          ],
          [
           false,
           null,
           true,
           1,
           "gt",
           0,
           336,
           "NA"
          ],
          [
           true,
           null,
           false,
           1,
           "gt",
           0.9,
           337,
           400
          ],
          [
           true,
           null,
           false,
           1,
           "gt",
           0.8552631578947368,
           338,
           401
          ],
          [
           true,
           null,
           false,
           1,
           "gt",
           0.6559633027522935,
           339,
           403
          ],
          [
           true,
           null,
           false,
           1,
           "gt",
           0.8743718592964824,
           340,
           406
          ],
          [
           true,
           null,
           false,
           1,
           "gt",
           0.7511520737327189,
           341,
           407
          ],
          [
           true,
           null,
           false,
           1,
           "gt",
           0.768361581920904,
           342,
           409
          ],
          [
           true,
           null,
           false,
           1,
           "gt",
           0.82,
           343,
           410
          ],
          [
           true,
           null,
           false,
           1,
           "gt",
           0.9265536723163842,
           344,
           412
          ],
          [
           true,
           null,
           false,
           1,
           "gt",
           0.8831168831168831,
           345,
           413
          ],
          [
           true,
           null,
           false,
           1,
           "gt",
           0.6242236024844721,
           346,
           416
          ],
          [
           true,
           null,
           false,
           1,
           "gt",
           0.7652173913043478,
           347,
           417
          ],
          [
           true,
           null,
           false,
           1,
           "gt",
           0.7472527472527473,
           348,
           419
          ],
          [
           true,
           null,
           false,
           1,
           "gt",
           0.8685714285714285,
           349,
           421
          ],
          [
           true,
           null,
           false,
           1,
           "gt",
           0.8883495145631068,
           350,
           422
          ],
          [
           true,
           null,
           false,
           1,
           "gt",
           0.8549222797927462,
           351,
           423
          ],
          [
           true,
           null,
           false,
           1,
           "gt",
           0.75,
           352,
           424
          ],
          [
           true,
           null,
           false,
           1,
           "gt",
           0.9014778325123153,
           353,
           427
          ],
          [
           true,
           null,
           false,
           1,
           "gt",
           0.5069767441860465,
           354,
           428
          ],
          [
           true,
           null,
           false,
           1,
           "gt",
           0.803030303030303,
           355,
           429
          ],
          [
           false,
           null,
           true,
           1,
           "gt",
           0,
           356,
           "NA"
          ],
          [
           true,
           null,
           false,
           1,
           "gt",
           0.8803418803418803,
           357,
           430
          ],
          [
           true,
           null,
           false,
           1,
           "gt",
           0.8807947019867549,
           358,
           432
          ],
          [
           true,
           null,
           false,
           1,
           "gt",
           0.7457627118644068,
           359,
           433
          ],
          [
           false,
           null,
           true,
           1,
           "gt",
           0,
           360,
           "NA"
          ],
          [
           false,
           null,
           true,
           1,
           "gt",
           0,
           361,
           "NA"
          ],
          [
           true,
           null,
           false,
           1,
           "gt",
           0.3319327731092437,
           362,
           434
          ],
          [
           true,
           null,
           false,
           1,
           "gt",
           0.792,
           363,
           435
          ],
          [
           true,
           null,
           false,
           1,
           "gt",
           0.6732673267326733,
           364,
           436
          ],
          [
           false,
           null,
           true,
           1,
           "gt",
           0,
           365,
           "NA"
          ],
          [
           true,
           null,
           false,
           1,
           "gt",
           0.8482758620689655,
           366,
           437
          ],
          [
           true,
           null,
           false,
           1,
           "gt",
           0.6963350785340314,
           367,
           438
          ],
          [
           true,
           null,
           false,
           1,
           "gt",
           0.7622377622377622,
           368,
           439
          ],
          [
           true,
           null,
           false,
           1,
           "gt",
           0.7531380753138075,
           369,
           440
          ],
          [
           true,
           null,
           false,
           1,
           "gt",
           0.6318681318681318,
           370,
           441
          ],
          [
           true,
           null,
           false,
           1,
           "gt",
           0.7403314917127072,
           371,
           442
          ],
          [
           true,
           null,
           false,
           1,
           "gt",
           0.7639751552795031,
           372,
           443
          ],
          [
           true,
           null,
           false,
           1,
           "gt",
           0.9019607843137255,
           373,
           444
          ],
          [
           true,
           null,
           false,
           1,
           "gt",
           0.8888888888888888,
           374,
           445
          ],
          [
           true,
           null,
           false,
           1,
           "gt",
           0.6923076923076923,
           375,
           446
          ],
          [
           true,
           null,
           false,
           1,
           "gt",
           0.6941176470588235,
           376,
           447
          ],
          [
           true,
           null,
           false,
           1,
           "gt",
           0.7485029940119761,
           377,
           448
          ],
          [
           true,
           null,
           false,
           1,
           "gt",
           0.9292929292929293,
           378,
           449
          ],
          [
           true,
           null,
           false,
           1,
           "gt",
           0.7151162790697675,
           379,
           450
          ],
          [
           true,
           null,
           false,
           1,
           "gt",
           0.569377990430622,
           380,
           451
          ],
          [
           true,
           null,
           false,
           1,
           "gt",
           0.6398305084745762,
           381,
           452
          ],
          [
           true,
           null,
           false,
           1,
           "gt",
           0.4634146341463415,
           382,
           453
          ],
          [
           false,
           null,
           true,
           1,
           "gt",
           0,
           383,
           "NA"
          ],
          [
           false,
           null,
           true,
           1,
           "gt",
           0.2,
           384,
           454
          ],
          [
           false,
           null,
           true,
           1,
           "gt",
           0,
           385,
           "NA"
          ],
          [
           false,
           null,
           true,
           1,
           "gt",
           0,
           386,
           "NA"
          ],
          [
           true,
           null,
           false,
           1,
           "gt",
           0.783410138248848,
           387,
           455
          ],
          [
           true,
           null,
           false,
           1,
           "gt",
           0.7643312101910829,
           388,
           456
          ],
          [
           true,
           null,
           false,
           1,
           "gt",
           0.7727272727272727,
           389,
           457
          ],
          [
           false,
           null,
           true,
           1,
           "gt",
           0,
           390,
           "NA"
          ],
          [
           true,
           null,
           false,
           1,
           "gt",
           0.8666666666666667,
           391,
           459
          ],
          [
           true,
           null,
           false,
           1,
           "gt",
           0.5571428571428572,
           392,
           460
          ],
          [
           true,
           null,
           false,
           1,
           "gt",
           0.9452054794520548,
           393,
           461
          ],
          [
           true,
           null,
           false,
           1,
           "gt",
           0.7909090909090909,
           394,
           462
          ],
          [
           false,
           null,
           true,
           1,
           "gt",
           0,
           395,
           "NA"
          ],
          [
           true,
           null,
           false,
           1,
           "gt",
           0.7268041237113402,
           396,
           463
          ],
          [
           false,
           null,
           true,
           1,
           "gt",
           0,
           397,
           "NA"
          ],
          [
           false,
           null,
           true,
           1,
           "gt",
           0,
           398,
           "NA"
          ],
          [
           true,
           null,
           false,
           1,
           "gt",
           0.8893617021276595,
           399,
           464
          ],
          [
           true,
           null,
           false,
           1,
           "gt",
           0.6545454545454545,
           400,
           467
          ],
          [
           true,
           null,
           false,
           1,
           "gt",
           0.7867298578199052,
           401,
           468
          ],
          [
           false,
           null,
           true,
           1,
           "gt",
           0,
           402,
           "NA"
          ],
          [
           true,
           null,
           false,
           1,
           "gt",
           0.47115384615384615,
           403,
           471
          ],
          [
           true,
           null,
           false,
           1,
           "gt",
           0.7509578544061303,
           404,
           472
          ],
          [
           true,
           null,
           false,
           1,
           "gt",
           0.8764705882352941,
           405,
           476
          ],
          [
           false,
           null,
           true,
           1,
           "gt",
           0,
           406,
           "NA"
          ],
          [
           false,
           null,
           true,
           1,
           "gt",
           0,
           407,
           "NA"
          ],
          [
           false,
           null,
           true,
           1,
           "gt",
           0,
           408,
           "NA"
          ],
          [
           true,
           null,
           false,
           1,
           "gt",
           0.5850622406639004,
           409,
           477
          ],
          [
           false,
           null,
           true,
           1,
           "gt",
           0.05897435897435897,
           410,
           479
          ],
          [
           true,
           null,
           false,
           1,
           "gt",
           0.8354430379746836,
           411,
           480
          ],
          [
           true,
           null,
           false,
           1,
           "gt",
           0.4642857142857143,
           412,
           481
          ],
          [
           false,
           null,
           true,
           1,
           "gt",
           0,
           413,
           "NA"
          ],
          [
           false,
           null,
           true,
           1,
           "gt",
           0,
           414,
           "NA"
          ],
          [
           true,
           null,
           false,
           1,
           "gt",
           0.7960526315789473,
           415,
           482
          ],
          [
           true,
           null,
           false,
           1,
           "gt",
           0.5823863636363636,
           416,
           483
          ],
          [
           true,
           null,
           false,
           1,
           "gt",
           0.9151515151515152,
           417,
           484
          ],
          [
           true,
           null,
           false,
           1,
           "gt",
           0.7647058823529411,
           418,
           486
          ],
          [
           true,
           null,
           false,
           1,
           "gt",
           0.5694050991501416,
           419,
           488
          ],
          [
           true,
           null,
           false,
           1,
           "gt",
           0.8850574712643678,
           420,
           489
          ],
          [
           true,
           null,
           false,
           1,
           "gt",
           0.8444444444444444,
           421,
           490
          ],
          [
           true,
           null,
           false,
           1,
           "gt",
           0.7341772151898734,
           422,
           492
          ],
          [
           true,
           null,
           false,
           1,
           "gt",
           0.7412587412587412,
           423,
           494
          ],
          [
           true,
           null,
           false,
           1,
           "gt",
           0.6203208556149733,
           424,
           495
          ],
          [
           false,
           null,
           true,
           1,
           "gt",
           0.16145833333333334,
           425,
           496
          ],
          [
           true,
           null,
           false,
           1,
           "gt",
           0.7482993197278912,
           426,
           497
          ],
          [
           true,
           null,
           false,
           1,
           "gt",
           0.7555555555555555,
           427,
           498
          ],
          [
           true,
           null,
           false,
           1,
           "gt",
           0.7606177606177607,
           428,
           499
          ],
          [
           true,
           null,
           false,
           1,
           "gt",
           0.5079365079365079,
           429,
           500
          ],
          [
           true,
           null,
           false,
           1,
           "gt",
           0.64,
           430,
           502
          ],
          [
           true,
           null,
           false,
           1,
           "gt",
           0.8846153846153846,
           431,
           503
          ],
          [
           true,
           null,
           false,
           1,
           "gt",
           0.7098976109215017,
           432,
           505
          ],
          [
           true,
           null,
           false,
           1,
           "gt",
           0.8025210084033614,
           433,
           506
          ],
          [
           true,
           null,
           false,
           1,
           "gt",
           0.7136150234741784,
           434,
           507
          ],
          [
           false,
           null,
           true,
           1,
           "gt",
           0,
           435,
           "NA"
          ],
          [
           true,
           null,
           false,
           1,
           "gt",
           0.7454545454545455,
           436,
           508
          ],
          [
           true,
           null,
           false,
           1,
           "gt",
           0.6962457337883959,
           437,
           509
          ],
          [
           false,
           null,
           true,
           1,
           "gt",
           0,
           438,
           "NA"
          ],
          [
           true,
           null,
           false,
           1,
           "gt",
           0.8626373626373627,
           439,
           514
          ],
          [
           true,
           null,
           false,
           1,
           "gt",
           0.9447513812154696,
           440,
           517
          ],
          [
           true,
           null,
           false,
           1,
           "gt",
           0.8156862745098039,
           441,
           518
          ],
          [
           true,
           null,
           false,
           1,
           "gt",
           0.9698795180722891,
           442,
           520
          ],
          [
           false,
           null,
           true,
           1,
           "gt",
           0,
           443,
           "NA"
          ],
          [
           true,
           null,
           false,
           1,
           "gt",
           0.6111111111111112,
           444,
           522
          ],
          [
           true,
           null,
           false,
           1,
           "gt",
           0.4272151898734177,
           445,
           523
          ],
          [
           true,
           null,
           false,
           1,
           "gt",
           0.6360759493670886,
           446,
           524
          ],
          [
           false,
           null,
           true,
           1,
           "gt",
           0,
           447,
           "NA"
          ],
          [
           true,
           null,
           false,
           1,
           "gt",
           0.795,
           448,
           529
          ],
          [
           true,
           null,
           false,
           1,
           "gt",
           0.8043478260869565,
           449,
           531
          ],
          [
           true,
           null,
           false,
           1,
           "gt",
           0.7982456140350878,
           450,
           532
          ],
          [
           true,
           null,
           false,
           1,
           "gt",
           0.8166666666666667,
           451,
           534
          ],
          [
           true,
           null,
           false,
           1,
           "gt",
           0.8,
           452,
           535
          ],
          [
           true,
           null,
           false,
           1,
           "gt",
           0.664576802507837,
           453,
           536
          ],
          [
           true,
           null,
           false,
           1,
           "gt",
           0.784688995215311,
           454,
           537
          ],
          [
           true,
           null,
           false,
           1,
           "gt",
           0.9139784946236559,
           455,
           538
          ],
          [
           true,
           null,
           false,
           1,
           "gt",
           0.6909090909090909,
           456,
           539
          ],
          [
           true,
           null,
           false,
           1,
           "gt",
           0.8458781362007168,
           457,
           540
          ],
          [
           true,
           null,
           false,
           1,
           "gt",
           0.64,
           458,
           541
          ],
          [
           true,
           null,
           false,
           1,
           "gt",
           0.8595505617977528,
           459,
           542
          ],
          [
           true,
           null,
           false,
           1,
           "gt",
           0.5642458100558659,
           460,
           543
          ],
          [
           true,
           null,
           false,
           1,
           "gt",
           0.7575757575757576,
           461,
           544
          ],
          [
           true,
           null,
           false,
           1,
           "gt",
           0.48534201954397393,
           462,
           547
          ],
          [
           true,
           null,
           false,
           1,
           "gt",
           0.8132780082987552,
           463,
           551
          ],
          [
           true,
           null,
           false,
           1,
           "gt",
           0.8739837398373984,
           464,
           552
          ],
          [
           true,
           null,
           false,
           1,
           "gt",
           0.8118811881188119,
           465,
           553
          ],
          [
           false,
           null,
           true,
           1,
           "gt",
           0.22330097087378642,
           466,
           554
          ],
          [
           true,
           null,
           false,
           1,
           "gt",
           0.3569553805774278,
           467,
           554
          ],
          [
           true,
           null,
           false,
           1,
           "gt",
           0.7486631016042781,
           468,
           556
          ],
          [
           false,
           null,
           true,
           1,
           "gt",
           0,
           469,
           "NA"
          ],
          [
           true,
           null,
           false,
           1,
           "gt",
           0.5645161290322581,
           470,
           559
          ],
          [
           true,
           null,
           false,
           1,
           "gt",
           0.7235023041474654,
           471,
           560
          ],
          [
           true,
           null,
           false,
           1,
           "gt",
           0.8888888888888888,
           472,
           561
          ],
          [
           true,
           null,
           false,
           1,
           "gt",
           0.7472527472527473,
           473,
           563
          ],
          [
           true,
           null,
           false,
           1,
           "gt",
           0.8625,
           474,
           564
          ],
          [
           true,
           null,
           false,
           1,
           "gt",
           0.81875,
           475,
           565
          ],
          [
           true,
           null,
           false,
           1,
           "gt",
           0.4979919678714859,
           476,
           566
          ],
          [
           false,
           null,
           true,
           1,
           "gt",
           0,
           477,
           "NA"
          ],
          [
           true,
           null,
           false,
           1,
           "gt",
           0.49361702127659574,
           478,
           568
          ],
          [
           true,
           null,
           false,
           1,
           "gt",
           0.8411214953271028,
           479,
           569
          ],
          [
           false,
           null,
           true,
           1,
           "gt",
           0,
           480,
           "NA"
          ],
          [
           true,
           null,
           false,
           1,
           "gt",
           0.8076923076923077,
           481,
           570
          ],
          [
           true,
           null,
           false,
           1,
           "gt",
           0.664804469273743,
           482,
           572
          ],
          [
           true,
           null,
           false,
           1,
           "gt",
           0.6468401486988847,
           483,
           574
          ],
          [
           true,
           null,
           false,
           1,
           "gt",
           0.8653846153846154,
           484,
           576
          ],
          [
           true,
           null,
           false,
           1,
           "gt",
           0.772093023255814,
           485,
           577
          ],
          [
           true,
           null,
           false,
           1,
           "gt",
           0.959349593495935,
           486,
           578
          ],
          [
           true,
           null,
           false,
           1,
           "gt",
           0.8932038834951457,
           487,
           580
          ],
          [
           true,
           null,
           false,
           1,
           "gt",
           0.9155555555555556,
           488,
           581
          ],
          [
           true,
           null,
           false,
           1,
           "gt",
           0.8309859154929577,
           489,
           583
          ],
          [
           true,
           null,
           false,
           1,
           "gt",
           0.8733031674208145,
           490,
           584
          ],
          [
           true,
           null,
           false,
           1,
           "gt",
           0.8606965174129353,
           491,
           585
          ],
          [
           true,
           null,
           false,
           1,
           "gt",
           0.9655172413793104,
           492,
           586
          ],
          [
           true,
           null,
           false,
           1,
           "gt",
           0.7657657657657657,
           493,
           587
          ],
          [
           true,
           null,
           false,
           1,
           "gt",
           0.612565445026178,
           494,
           589
          ],
          [
           true,
           null,
           false,
           1,
           "gt",
           0.8105263157894737,
           495,
           591
          ],
          [
           true,
           null,
           false,
           1,
           "gt",
           0.7681159420289855,
           496,
           592
          ],
          [
           true,
           null,
           false,
           1,
           "gt",
           0.5699481865284974,
           497,
           593
          ],
          [
           true,
           null,
           false,
           1,
           "gt",
           0.8375,
           498,
           594
          ],
          [
           true,
           null,
           false,
           1,
           "gt",
           0.7642857142857142,
           499,
           595
          ],
          [
           true,
           null,
           false,
           1,
           "gt",
           0.6396761133603239,
           500,
           596
          ],
          [
           true,
           null,
           false,
           1,
           "gt",
           0.696236559139785,
           501,
           597
          ],
          [
           true,
           null,
           false,
           1,
           "gt",
           0.7522123893805309,
           502,
           599
          ],
          [
           true,
           null,
           false,
           1,
           "gt",
           0.6421404682274248,
           503,
           600
          ],
          [
           true,
           null,
           false,
           1,
           "gt",
           0.7327586206896551,
           504,
           601
          ],
          [
           true,
           null,
           false,
           1,
           "gt",
           0.7401129943502824,
           505,
           602
          ],
          [
           true,
           null,
           false,
           1,
           "gt",
           0.8151658767772512,
           506,
           603
          ],
          [
           false,
           null,
           true,
           1,
           "gt",
           0,
           507,
           "NA"
          ],
          [
           true,
           null,
           false,
           1,
           "gt",
           0.8691099476439791,
           508,
           605
          ],
          [
           true,
           null,
           false,
           1,
           "gt",
           0.7134146341463414,
           509,
           606
          ],
          [
           true,
           null,
           false,
           1,
           "gt",
           0.8679867986798679,
           510,
           607
          ],
          [
           true,
           null,
           false,
           1,
           "gt",
           0.8512396694214877,
           511,
           608
          ],
          [
           true,
           null,
           false,
           1,
           "gt",
           0.7425742574257426,
           512,
           609
          ],
          [
           true,
           null,
           false,
           1,
           "gt",
           0.9375,
           513,
           611
          ],
          [
           true,
           null,
           false,
           1,
           "gt",
           0.5521472392638037,
           514,
           615
          ],
          [
           true,
           null,
           false,
           1,
           "gt",
           0.8814432989690721,
           515,
           616
          ],
          [
           true,
           null,
           false,
           1,
           "gt",
           0.8613445378151261,
           516,
           617
          ],
          [
           true,
           null,
           false,
           1,
           "gt",
           0.8585365853658536,
           517,
           618
          ],
          [
           true,
           null,
           false,
           1,
           "gt",
           0.8421052631578947,
           518,
           619
          ],
          [
           true,
           null,
           false,
           1,
           "gt",
           0.7937649880095923,
           519,
           621
          ],
          [
           true,
           null,
           false,
           1,
           "gt",
           0.8888888888888888,
           520,
           622
          ],
          [
           true,
           null,
           false,
           1,
           "gt",
           0.4314606741573034,
           521,
           623
          ],
          [
           true,
           null,
           false,
           1,
           "gt",
           0.7569721115537849,
           522,
           624
          ],
          [
           true,
           null,
           false,
           1,
           "gt",
           0.6728624535315985,
           523,
           625
          ],
          [
           true,
           null,
           false,
           1,
           "gt",
           0.7758007117437722,
           524,
           627
          ],
          [
           true,
           null,
           false,
           1,
           "gt",
           0.7446153846153846,
           525,
           628
          ],
          [
           true,
           null,
           false,
           1,
           "gt",
           0.8194444444444444,
           526,
           629
          ],
          [
           true,
           null,
           false,
           1,
           "gt",
           0.8,
           527,
           630
          ],
          [
           true,
           null,
           false,
           1,
           "gt",
           0.8505154639175257,
           528,
           632
          ],
          [
           true,
           null,
           false,
           1,
           "gt",
           0.918918918918919,
           529,
           633
          ],
          [
           true,
           null,
           false,
           1,
           "gt",
           0.6701754385964912,
           530,
           634
          ],
          [
           true,
           null,
           false,
           1,
           "gt",
           0.8773006134969326,
           531,
           635
          ],
          [
           true,
           null,
           false,
           1,
           "gt",
           0.9104477611940298,
           532,
           636
          ],
          [
           true,
           null,
           false,
           1,
           "gt",
           0.8018867924528302,
           533,
           637
          ],
          [
           true,
           null,
           false,
           1,
           "gt",
           0.8697478991596639,
           534,
           638
          ],
          [
           true,
           null,
           false,
           1,
           "gt",
           0.7832167832167832,
           535,
           639
          ],
          [
           true,
           null,
           false,
           1,
           "gt",
           0.7755102040816326,
           536,
           641
          ],
          [
           true,
           null,
           false,
           1,
           "gt",
           0.6970802919708029,
           537,
           642
          ],
          [
           true,
           null,
           false,
           1,
           "gt",
           0.5542168674698795,
           538,
           643
          ],
          [
           true,
           null,
           false,
           1,
           "gt",
           0.7670682730923695,
           539,
           645
          ],
          [
           true,
           null,
           false,
           1,
           "gt",
           0.6923076923076923,
           540,
           646
          ],
          [
           true,
           null,
           false,
           1,
           "gt",
           0.778393351800554,
           541,
           647
          ],
          [
           true,
           null,
           false,
           1,
           "gt",
           0.7380352644836272,
           542,
           648
          ],
          [
           true,
           null,
           false,
           1,
           "gt",
           0.8348623853211009,
           543,
           649
          ],
          [
           true,
           null,
           false,
           1,
           "gt",
           0.8559322033898306,
           544,
           650
          ],
          [
           false,
           null,
           true,
           1,
           "gt",
           0,
           545,
           "NA"
          ],
          [
           true,
           null,
           false,
           1,
           "gt",
           0.7957446808510639,
           546,
           653
          ],
          [
           true,
           null,
           false,
           1,
           "gt",
           0.8012232415902141,
           547,
           654
          ],
          [
           true,
           null,
           false,
           1,
           "gt",
           0.4944237918215613,
           548,
           655
          ],
          [
           true,
           null,
           false,
           1,
           "gt",
           0.3574144486692015,
           549,
           656
          ],
          [
           true,
           null,
           false,
           1,
           "gt",
           0.8804347826086957,
           550,
           657
          ],
          [
           true,
           null,
           false,
           1,
           "gt",
           0.6289855072463768,
           551,
           658
          ],
          [
           true,
           null,
           false,
           1,
           "gt",
           0.5766129032258065,
           552,
           659
          ],
          [
           true,
           null,
           false,
           1,
           "gt",
           0.7302904564315352,
           553,
           660
          ],
          [
           true,
           null,
           false,
           1,
           "gt",
           0.8565891472868217,
           554,
           661
          ],
          [
           true,
           null,
           false,
           1,
           "gt",
           0.7906976744186046,
           555,
           662
          ],
          [
           true,
           null,
           false,
           1,
           "gt",
           0.668,
           556,
           663
          ],
          [
           true,
           null,
           false,
           1,
           "gt",
           0.9083333333333333,
           557,
           670
          ],
          [
           true,
           null,
           false,
           1,
           "gt",
           0.8578947368421053,
           558,
           671
          ],
          [
           true,
           null,
           false,
           1,
           "gt",
           0.6711864406779661,
           559,
           672
          ],
          [
           true,
           null,
           false,
           1,
           "gt",
           0.55625,
           560,
           674
          ],
          [
           false,
           null,
           true,
           1,
           "gt",
           0,
           561,
           "NA"
          ],
          [
           true,
           null,
           false,
           1,
           "gt",
           0.45387453874538747,
           562,
           675
          ],
          [
           true,
           null,
           false,
           1,
           "gt",
           0.32727272727272727,
           563,
           676
          ],
          [
           true,
           null,
           false,
           1,
           "gt",
           0.6366666666666667,
           564,
           677
          ],
          [
           true,
           null,
           false,
           1,
           "gt",
           0.6512605042016807,
           565,
           678
          ],
          [
           true,
           null,
           false,
           1,
           "gt",
           0.8055555555555556,
           566,
           679
          ],
          [
           true,
           null,
           false,
           1,
           "gt",
           0.7555555555555555,
           567,
           680
          ],
          [
           true,
           null,
           false,
           1,
           "gt",
           0.806282722513089,
           568,
           682
          ],
          [
           true,
           null,
           false,
           1,
           "gt",
           0.6988636363636364,
           569,
           683
          ],
          [
           true,
           null,
           false,
           1,
           "gt",
           0.888235294117647,
           570,
           684
          ],
          [
           true,
           null,
           false,
           1,
           "gt",
           0.7402135231316725,
           571,
           687
          ],
          [
           true,
           null,
           false,
           1,
           "gt",
           0.6005154639175257,
           572,
           689
          ],
          [
           true,
           null,
           false,
           1,
           "gt",
           0.8878205128205128,
           573,
           691
          ],
          [
           true,
           null,
           false,
           1,
           "gt",
           0.505338078291815,
           574,
           692
          ],
          [
           true,
           null,
           false,
           1,
           "gt",
           0.9096385542168675,
           575,
           693
          ],
          [
           true,
           null,
           false,
           1,
           "gt",
           0.9243697478991597,
           576,
           694
          ],
          [
           true,
           null,
           false,
           1,
           "gt",
           0.9066666666666666,
           577,
           695
          ],
          [
           true,
           null,
           false,
           1,
           "gt",
           0.7553191489361702,
           578,
           696
          ],
          [
           true,
           null,
           false,
           1,
           "gt",
           0.921146953405018,
           579,
           698
          ],
          [
           true,
           null,
           false,
           1,
           "gt",
           0.7831858407079646,
           580,
           700
          ],
          [
           true,
           null,
           false,
           1,
           "gt",
           0.8947368421052632,
           581,
           701
          ],
          [
           true,
           null,
           false,
           1,
           "gt",
           0.6847290640394089,
           582,
           702
          ],
          [
           true,
           null,
           false,
           1,
           "gt",
           0.7065868263473054,
           583,
           704
          ],
          [
           true,
           null,
           false,
           1,
           "gt",
           0.6698564593301436,
           584,
           705
          ],
          [
           true,
           null,
           false,
           1,
           "gt",
           0.6742424242424242,
           585,
           706
          ],
          [
           true,
           null,
           false,
           1,
           "gt",
           0.967741935483871,
           586,
           707
          ],
          [
           true,
           null,
           false,
           1,
           "gt",
           0.8311688311688312,
           587,
           708
          ],
          [
           true,
           null,
           false,
           1,
           "gt",
           0.6150442477876106,
           588,
           711
          ],
          [
           true,
           null,
           false,
           1,
           "gt",
           0.968,
           589,
           712
          ],
          [
           false,
           null,
           true,
           1,
           "gt",
           0,
           590,
           "NA"
          ],
          [
           true,
           null,
           false,
           1,
           "gt",
           0.8220858895705522,
           591,
           713
          ],
          [
           true,
           null,
           false,
           1,
           "gt",
           0.475,
           592,
           714
          ],
          [
           true,
           null,
           false,
           1,
           "gt",
           0.5549132947976878,
           593,
           715
          ],
          [
           true,
           null,
           false,
           1,
           "gt",
           0.5734767025089605,
           594,
           716
          ],
          [
           true,
           null,
           false,
           1,
           "gt",
           0.8967391304347826,
           595,
           719
          ],
          [
           true,
           null,
           false,
           1,
           "gt",
           0.615,
           596,
           720
          ],
          [
           true,
           null,
           false,
           1,
           "gt",
           0.8844765342960289,
           597,
           724
          ],
          [
           true,
           null,
           false,
           1,
           "gt",
           0.3522012578616352,
           598,
           725
          ],
          [
           true,
           null,
           false,
           1,
           "gt",
           0.7508896797153025,
           599,
           726
          ],
          [
           true,
           null,
           false,
           1,
           "gt",
           0.6860158311345647,
           600,
           727
          ],
          [
           true,
           null,
           false,
           1,
           "gt",
           0.4956896551724138,
           601,
           728
          ],
          [
           true,
           null,
           false,
           1,
           "gt",
           0.8697916666666666,
           602,
           729
          ],
          [
           true,
           null,
           false,
           1,
           "gt",
           0.8851063829787233,
           603,
           730
          ],
          [
           true,
           null,
           false,
           1,
           "gt",
           0.8646288209606987,
           604,
           731
          ],
          [
           true,
           null,
           false,
           1,
           "gt",
           0.7272727272727273,
           605,
           732
          ],
          [
           true,
           null,
           false,
           1,
           "gt",
           0.6666666666666666,
           606,
           733
          ],
          [
           true,
           null,
           false,
           1,
           "gt",
           0.6462264150943396,
           607,
           734
          ],
          [
           true,
           null,
           false,
           1,
           "gt",
           0.9254385964912281,
           608,
           735
          ],
          [
           true,
           null,
           false,
           1,
           "gt",
           0.6614583333333334,
           609,
           736
          ],
          [
           true,
           null,
           false,
           1,
           "gt",
           0.5757575757575758,
           610,
           739
          ],
          [
           false,
           null,
           true,
           1,
           "gt",
           0,
           611,
           "NA"
          ],
          [
           true,
           null,
           false,
           1,
           "gt",
           0.7253886010362695,
           612,
           740
          ],
          [
           false,
           null,
           true,
           1,
           "gt",
           0,
           613,
           "NA"
          ],
          [
           true,
           null,
           false,
           1,
           "gt",
           0.8553459119496856,
           614,
           742
          ],
          [
           true,
           null,
           false,
           1,
           "gt",
           0.6347305389221557,
           615,
           743
          ],
          [
           true,
           null,
           false,
           1,
           "gt",
           0.7877094972067039,
           616,
           744
          ],
          [
           true,
           null,
           false,
           1,
           "gt",
           0.806282722513089,
           617,
           745
          ],
          [
           true,
           null,
           false,
           1,
           "gt",
           0.8416289592760181,
           618,
           746
          ],
          [
           true,
           null,
           false,
           1,
           "gt",
           0.7537688442211056,
           619,
           747
          ],
          [
           true,
           null,
           false,
           1,
           "gt",
           0.8614718614718615,
           620,
           749
          ],
          [
           true,
           null,
           false,
           1,
           "gt",
           0.9230769230769231,
           621,
           750
          ],
          [
           true,
           null,
           false,
           1,
           "gt",
           0.8724489795918368,
           622,
           752
          ],
          [
           true,
           null,
           false,
           1,
           "gt",
           0.7515923566878981,
           623,
           754
          ],
          [
           true,
           null,
           false,
           1,
           "gt",
           0.7653061224489796,
           624,
           758
          ],
          [
           true,
           null,
           false,
           1,
           "gt",
           0.6395348837209303,
           625,
           759
          ],
          [
           true,
           null,
           false,
           1,
           "gt",
           0.796875,
           626,
           760
          ],
          [
           true,
           null,
           false,
           1,
           "gt",
           0.6030534351145038,
           627,
           761
          ],
          [
           true,
           null,
           false,
           1,
           "gt",
           0.6827956989247311,
           628,
           762
          ],
          [
           true,
           null,
           false,
           1,
           "gt",
           0.616580310880829,
           629,
           764
          ],
          [
           true,
           null,
           false,
           1,
           "gt",
           0.6607773851590106,
           630,
           765
          ],
          [
           true,
           null,
           false,
           1,
           "gt",
           0.8632075471698113,
           631,
           766
          ],
          [
           true,
           null,
           false,
           1,
           "gt",
           0.7442922374429224,
           632,
           767
          ],
          [
           true,
           null,
           false,
           1,
           "gt",
           0.7222222222222222,
           633,
           768
          ],
          [
           true,
           null,
           false,
           1,
           "gt",
           0.6289592760180995,
           634,
           769
          ],
          [
           true,
           null,
           false,
           1,
           "gt",
           0.7215189873417721,
           635,
           770
          ],
          [
           true,
           null,
           false,
           1,
           "gt",
           0.8728070175438597,
           636,
           772
          ],
          [
           true,
           null,
           false,
           1,
           "gt",
           0.5607843137254902,
           637,
           773
          ],
          [
           true,
           null,
           false,
           1,
           "gt",
           0.875,
           638,
           775
          ],
          [
           true,
           null,
           false,
           1,
           "gt",
           0.7793103448275862,
           639,
           776
          ],
          [
           true,
           null,
           false,
           1,
           "gt",
           0.5099009900990099,
           640,
           781
          ],
          [
           false,
           null,
           true,
           1,
           "gt",
           0,
           641,
           "NA"
          ],
          [
           true,
           null,
           false,
           1,
           "gt",
           0.5835777126099707,
           642,
           782
          ],
          [
           true,
           null,
           false,
           1,
           "gt",
           0.8865979381443299,
           643,
           783
          ],
          [
           true,
           null,
           false,
           1,
           "gt",
           0.6784313725490196,
           644,
           784
          ],
          [
           true,
           null,
           false,
           1,
           "gt",
           0.935064935064935,
           645,
           785
          ],
          [
           true,
           null,
           false,
           1,
           "gt",
           0.7857142857142857,
           646,
           786
          ],
          [
           true,
           null,
           false,
           1,
           "gt",
           0.6035353535353535,
           647,
           788
          ],
          [
           true,
           null,
           false,
           1,
           "gt",
           0.9183673469387755,
           648,
           789
          ],
          [
           true,
           null,
           false,
           1,
           "gt",
           0.7218934911242604,
           649,
           790
          ],
          [
           true,
           null,
           false,
           1,
           "gt",
           0.7634730538922155,
           650,
           791
          ],
          [
           true,
           null,
           false,
           1,
           "gt",
           0.5630630630630631,
           651,
           792
          ],
          [
           true,
           null,
           false,
           1,
           "gt",
           0.7490494296577946,
           652,
           796
          ],
          [
           true,
           null,
           false,
           1,
           "gt",
           0.8415841584158416,
           653,
           797
          ],
          [
           true,
           null,
           false,
           1,
           "gt",
           0.7900552486187845,
           654,
           798
          ],
          [
           true,
           null,
           false,
           1,
           "gt",
           0.7246376811594203,
           655,
           799
          ],
          [
           true,
           null,
           false,
           1,
           "gt",
           0.8850574712643678,
           656,
           801
          ],
          [
           true,
           null,
           false,
           1,
           "gt",
           0.7104072398190046,
           657,
           802
          ],
          [
           true,
           null,
           false,
           1,
           "gt",
           0.8916256157635468,
           658,
           804
          ],
          [
           true,
           null,
           false,
           1,
           "gt",
           0.5209790209790209,
           659,
           806
          ],
          [
           true,
           null,
           false,
           1,
           "gt",
           0.5071428571428571,
           660,
           808
          ],
          [
           true,
           null,
           false,
           1,
           "gt",
           0.8362989323843416,
           661,
           813
          ],
          [
           true,
           null,
           false,
           1,
           "gt",
           0.5824561403508772,
           662,
           815
          ],
          [
           true,
           null,
           false,
           1,
           "gt",
           0.7556818181818182,
           663,
           817
          ],
          [
           true,
           null,
           false,
           1,
           "gt",
           0.8770491803278688,
           664,
           818
          ],
          [
           true,
           null,
           false,
           1,
           "gt",
           0.5693950177935944,
           665,
           819
          ],
          [
           true,
           null,
           false,
           1,
           "gt",
           0.786096256684492,
           666,
           820
          ],
          [
           true,
           null,
           false,
           1,
           "gt",
           0.7925311203319502,
           667,
           821
          ],
          [
           true,
           null,
           false,
           1,
           "gt",
           0.9558823529411765,
           668,
           822
          ],
          [
           true,
           null,
           false,
           1,
           "gt",
           0.711864406779661,
           669,
           823
          ],
          [
           true,
           null,
           false,
           1,
           "gt",
           0.8220338983050848,
           670,
           824
          ],
          [
           true,
           null,
           false,
           1,
           "gt",
           0.7605633802816901,
           671,
           825
          ],
          [
           true,
           null,
           false,
           1,
           "gt",
           0.8925233644859814,
           672,
           827
          ],
          [
           true,
           null,
           false,
           1,
           "gt",
           0.6782178217821783,
           673,
           830
          ],
          [
           true,
           null,
           false,
           1,
           "gt",
           0.8055555555555556,
           674,
           831
          ],
          [
           true,
           null,
           false,
           1,
           "gt",
           0.7526315789473684,
           675,
           832
          ],
          [
           true,
           null,
           false,
           1,
           "gt",
           0.7450980392156863,
           676,
           833
          ],
          [
           true,
           null,
           false,
           1,
           "gt",
           0.8571428571428571,
           677,
           834
          ],
          [
           true,
           null,
           false,
           1,
           "gt",
           0.8131313131313131,
           678,
           835
          ],
          [
           true,
           null,
           false,
           1,
           "gt",
           0.7154811715481172,
           679,
           836
          ],
          [
           true,
           null,
           false,
           1,
           "gt",
           0.47928994082840237,
           680,
           838
          ],
          [
           true,
           null,
           false,
           1,
           "gt",
           0.7401574803149606,
           681,
           839
          ],
          [
           true,
           null,
           false,
           1,
           "gt",
           0.9408866995073891,
           682,
           841
          ],
          [
           true,
           null,
           false,
           1,
           "gt",
           0.903954802259887,
           683,
           844
          ],
          [
           true,
           null,
           false,
           1,
           "gt",
           0.5,
           684,
           845
          ],
          [
           true,
           null,
           false,
           1,
           "gt",
           0.6526315789473685,
           685,
           846
          ],
          [
           true,
           null,
           false,
           1,
           "gt",
           0.6591928251121076,
           686,
           847
          ],
          [
           false,
           null,
           true,
           1,
           "gt",
           0,
           687,
           "NA"
          ],
          [
           true,
           null,
           false,
           1,
           "gt",
           0.7866666666666666,
           688,
           848
          ],
          [
           true,
           null,
           false,
           1,
           "gt",
           0.6935483870967742,
           689,
           850
          ],
          [
           true,
           null,
           false,
           1,
           "gt",
           0.8414634146341463,
           690,
           852
          ],
          [
           true,
           null,
           false,
           1,
           "gt",
           0.34210526315789475,
           691,
           855
          ],
          [
           true,
           null,
           false,
           1,
           "gt",
           0.708994708994709,
           692,
           856
          ],
          [
           true,
           null,
           false,
           1,
           "gt",
           0.7412587412587412,
           693,
           861
          ],
          [
           true,
           null,
           false,
           1,
           "gt",
           0.7621951219512195,
           694,
           862
          ],
          [
           true,
           null,
           false,
           1,
           "gt",
           0.6746987951807228,
           695,
           863
          ],
          [
           true,
           null,
           false,
           1,
           "gt",
           0.7586206896551724,
           696,
           864
          ],
          [
           true,
           null,
           false,
           1,
           "gt",
           0.8715596330275229,
           697,
           867
          ],
          [
           true,
           null,
           false,
           1,
           "gt",
           0.8311111111111111,
           698,
           869
          ],
          [
           true,
           null,
           false,
           1,
           "gt",
           0.8546511627906976,
           699,
           871
          ],
          [
           true,
           null,
           false,
           1,
           "gt",
           0.6977777777777778,
           700,
           873
          ],
          [
           true,
           null,
           false,
           1,
           "gt",
           0.625,
           701,
           875
          ],
          [
           true,
           null,
           false,
           1,
           "gt",
           0.7816091954022989,
           702,
           877
          ],
          [
           true,
           null,
           false,
           1,
           "gt",
           0.5847457627118644,
           703,
           880
          ],
          [
           true,
           null,
           false,
           1,
           "gt",
           0.75,
           704,
           884
          ],
          [
           true,
           null,
           false,
           1,
           "gt",
           0.6062992125984252,
           705,
           885
          ],
          [
           true,
           null,
           false,
           1,
           "gt",
           0.8155339805825242,
           706,
           887
          ],
          [
           true,
           null,
           false,
           1,
           "gt",
           0.6845238095238095,
           707,
           888
          ],
          [
           true,
           null,
           false,
           1,
           "gt",
           0.7924528301886793,
           708,
           891
          ],
          [
           true,
           null,
           false,
           1,
           "gt",
           0.6059322033898306,
           709,
           899
          ],
          [
           true,
           null,
           false,
           1,
           "gt",
           0.9624413145539906,
           710,
           901
          ],
          [
           false,
           null,
           true,
           1,
           "gt",
           0,
           711,
           "NA"
          ],
          [
           true,
           null,
           false,
           1,
           "gt",
           0.6283783783783784,
           712,
           903
          ],
          [
           true,
           null,
           false,
           1,
           "gt",
           0.826530612244898,
           713,
           904
          ],
          [
           true,
           null,
           false,
           1,
           "gt",
           0.6590909090909091,
           714,
           909
          ],
          [
           true,
           null,
           false,
           1,
           "gt",
           0.7068965517241379,
           715,
           911
          ],
          [
           true,
           null,
           false,
           1,
           "gt",
           0.9358288770053476,
           716,
           912
          ],
          [
           true,
           null,
           false,
           1,
           "gt",
           0.5964912280701754,
           717,
           913
          ],
          [
           false,
           null,
           true,
           1,
           "gt",
           0,
           718,
           "NA"
          ],
          [
           true,
           null,
           false,
           1,
           "gt",
           0.851063829787234,
           719,
           917
          ],
          [
           true,
           null,
           false,
           1,
           "gt",
           0.7368421052631579,
           720,
           919
          ],
          [
           true,
           null,
           false,
           1,
           "gt",
           0.6622222222222223,
           721,
           920
          ],
          [
           true,
           null,
           false,
           1,
           "gt",
           0.7819905213270142,
           722,
           921
          ],
          [
           true,
           null,
           false,
           1,
           "gt",
           0.6496815286624203,
           723,
           923
          ],
          [
           true,
           null,
           false,
           1,
           "gt",
           0.8048780487804879,
           724,
           924
          ],
          [
           false,
           null,
           true,
           1,
           "gt",
           0,
           725,
           "NA"
          ],
          [
           false,
           null,
           true,
           1,
           "gt",
           0,
           726,
           "NA"
          ],
          [
           false,
           null,
           true,
           1,
           "gt",
           0,
           727,
           "NA"
          ],
          [
           true,
           null,
           false,
           1,
           "gt",
           0.7613636363636364,
           728,
           927
          ],
          [
           false,
           null,
           true,
           1,
           "gt",
           0,
           729,
           "NA"
          ],
          [
           false,
           null,
           true,
           1,
           "gt",
           0,
           730,
           "NA"
          ],
          [
           false,
           null,
           true,
           1,
           "gt",
           0,
           731,
           "NA"
          ],
          [
           true,
           null,
           false,
           1,
           "gt",
           0.746268656716418,
           732,
           930
          ],
          [
           true,
           null,
           false,
           1,
           "gt",
           0.65625,
           733,
           931
          ],
          [
           false,
           null,
           true,
           1,
           "gt",
           0,
           734,
           "NA"
          ],
          [
           true,
           null,
           false,
           1,
           "gt",
           0.803921568627451,
           735,
           936
          ],
          [
           false,
           null,
           true,
           1,
           "gt",
           0,
           736,
           "NA"
          ],
          [
           true,
           null,
           false,
           1,
           "gt",
           0.8532110091743119,
           737,
           938
          ],
          [
           true,
           null,
           false,
           1,
           "gt",
           0.6059479553903345,
           738,
           943
          ],
          [
           true,
           null,
           false,
           1,
           "gt",
           0.7722419928825622,
           739,
           944
          ],
          [
           true,
           null,
           false,
           1,
           "gt",
           0.7511737089201878,
           740,
           946
          ],
          [
           true,
           null,
           false,
           1,
           "gt",
           0.7925925925925926,
           741,
           947
          ],
          [
           true,
           null,
           false,
           1,
           "gt",
           0.5922619047619048,
           742,
           948
          ],
          [
           true,
           null,
           false,
           1,
           "gt",
           0.7210526315789474,
           743,
           950
          ],
          [
           true,
           null,
           false,
           1,
           "gt",
           0.78125,
           744,
           951
          ],
          [
           false,
           null,
           true,
           1,
           "gt",
           0.2779552715654952,
           745,
           952
          ],
          [
           true,
           null,
           false,
           1,
           "gt",
           0.8074074074074075,
           746,
           955
          ],
          [
           true,
           null,
           false,
           1,
           "gt",
           0.7258883248730964,
           747,
           959
          ],
          [
           true,
           null,
           false,
           1,
           "gt",
           0.6986301369863014,
           748,
           960
          ],
          [
           true,
           null,
           false,
           1,
           "gt",
           0.9326923076923077,
           749,
           963
          ],
          [
           true,
           null,
           false,
           1,
           "gt",
           0.5791666666666667,
           750,
           964
          ],
          [
           true,
           null,
           false,
           1,
           "gt",
           0.5775193798449613,
           751,
           965
          ],
          [
           true,
           null,
           false,
           1,
           "gt",
           0.7425742574257426,
           752,
           967
          ],
          [
           true,
           null,
           false,
           1,
           "gt",
           0.7044334975369458,
           753,
           968
          ],
          [
           true,
           null,
           false,
           1,
           "gt",
           0.8565022421524664,
           754,
           970
          ],
          [
           true,
           null,
           false,
           1,
           "gt",
           0.6436781609195402,
           755,
           971
          ],
          [
           true,
           null,
           false,
           1,
           "gt",
           0.5529953917050692,
           756,
           972
          ],
          [
           true,
           null,
           false,
           1,
           "gt",
           0.8851063829787233,
           757,
           973
          ],
          [
           true,
           null,
           false,
           1,
           "gt",
           0.7735849056603774,
           758,
           975
          ],
          [
           true,
           null,
           false,
           1,
           "gt",
           0.967032967032967,
           759,
           976
          ],
          [
           true,
           null,
           false,
           1,
           "gt",
           0.6342592592592593,
           760,
           977
          ],
          [
           true,
           null,
           false,
           1,
           "gt",
           0.5472312703583062,
           761,
           978
          ],
          [
           true,
           null,
           false,
           1,
           "gt",
           0.5450643776824035,
           762,
           979
          ],
          [
           true,
           null,
           false,
           1,
           "gt",
           0.8163265306122449,
           763,
           980
          ],
          [
           true,
           null,
           false,
           1,
           "gt",
           0.7470588235294118,
           764,
           981
          ],
          [
           true,
           null,
           false,
           1,
           "gt",
           0.6526946107784432,
           765,
           984
          ],
          [
           true,
           null,
           false,
           1,
           "gt",
           0.7889447236180904,
           766,
           986
          ],
          [
           true,
           null,
           false,
           1,
           "gt",
           0.7916666666666666,
           767,
           987
          ],
          [
           true,
           null,
           false,
           1,
           "gt",
           0.7048458149779736,
           768,
           988
          ],
          [
           true,
           null,
           false,
           1,
           "gt",
           0.6363636363636364,
           769,
           989
          ],
          [
           true,
           null,
           false,
           1,
           "gt",
           0.75,
           770,
           990
          ],
          [
           true,
           null,
           false,
           1,
           "gt",
           0.646551724137931,
           771,
           995
          ],
          [
           true,
           null,
           false,
           1,
           "gt",
           0.896551724137931,
           772,
           996
          ],
          [
           true,
           null,
           false,
           1,
           "gt",
           0.7804878048780488,
           773,
           997
          ],
          [
           true,
           null,
           false,
           1,
           "gt",
           0.71,
           774,
           998
          ],
          [
           true,
           null,
           false,
           1,
           "gt",
           0.8184931506849316,
           775,
           999
          ],
          [
           true,
           null,
           false,
           1,
           "gt",
           0.9251700680272109,
           776,
           1001
          ],
          [
           true,
           null,
           false,
           1,
           "gt",
           0.8194444444444444,
           777,
           1002
          ],
          [
           true,
           null,
           false,
           1,
           "gt",
           0.8341463414634146,
           778,
           1003
          ],
          [
           false,
           null,
           true,
           1,
           "gt",
           0,
           779,
           "NA"
          ],
          [
           true,
           null,
           false,
           1,
           "gt",
           0.6378600823045267,
           780,
           1005
          ],
          [
           true,
           null,
           false,
           1,
           "gt",
           0.7978723404255319,
           781,
           1006
          ],
          [
           true,
           null,
           false,
           1,
           "gt",
           0.8097345132743363,
           782,
           1007
          ],
          [
           true,
           null,
           false,
           1,
           "gt",
           0.8402061855670103,
           783,
           1009
          ],
          [
           true,
           null,
           false,
           1,
           "gt",
           0.768361581920904,
           784,
           1010
          ],
          [
           true,
           null,
           false,
           1,
           "gt",
           0.6692913385826772,
           785,
           1011
          ],
          [
           true,
           null,
           false,
           1,
           "gt",
           0.612,
           786,
           1013
          ],
          [
           true,
           null,
           false,
           1,
           "gt",
           0.8781512605042017,
           787,
           1014
          ],
          [
           true,
           null,
           false,
           1,
           "gt",
           0.7073170731707317,
           788,
           1017
          ],
          [
           true,
           null,
           false,
           1,
           "gt",
           0.6470588235294118,
           789,
           1018
          ],
          [
           true,
           null,
           false,
           1,
           "gt",
           0.6133333333333333,
           790,
           1020
          ],
          [
           true,
           null,
           false,
           1,
           "gt",
           0.8921568627450981,
           791,
           1021
          ],
          [
           true,
           null,
           false,
           1,
           "gt",
           0.7149532710280374,
           792,
           1022
          ],
          [
           true,
           null,
           false,
           1,
           "gt",
           0.6606217616580311,
           793,
           1023
          ],
          [
           true,
           null,
           false,
           1,
           "gt",
           0.7318007662835249,
           794,
           1026
          ],
          [
           true,
           null,
           false,
           1,
           "gt",
           0.8819672131147541,
           795,
           1028
          ],
          [
           true,
           null,
           false,
           1,
           "gt",
           0.888135593220339,
           796,
           1030
          ],
          [
           true,
           null,
           false,
           1,
           "gt",
           0.7861635220125787,
           797,
           1032
          ],
          [
           true,
           null,
           false,
           1,
           "gt",
           0.9120370370370371,
           798,
           1033
          ],
          [
           true,
           null,
           false,
           1,
           "gt",
           0.7358490566037735,
           799,
           1034
          ],
          [
           true,
           null,
           false,
           1,
           "gt",
           0.9734513274336283,
           800,
           1036
          ],
          [
           true,
           null,
           false,
           1,
           "gt",
           0.812,
           801,
           1037
          ],
          [
           true,
           null,
           false,
           1,
           "gt",
           0.5198675496688742,
           802,
           1038
          ],
          [
           true,
           null,
           false,
           1,
           "gt",
           0.8249027237354085,
           803,
           1040
          ],
          [
           true,
           null,
           false,
           1,
           "gt",
           0.7755102040816326,
           804,
           1041
          ],
          [
           true,
           null,
           false,
           1,
           "gt",
           0.7384615384615385,
           805,
           1042
          ],
          [
           true,
           null,
           false,
           1,
           "gt",
           0.6593406593406593,
           806,
           1043
          ],
          [
           true,
           null,
           false,
           1,
           "gt",
           0.8084112149532711,
           807,
           1046
          ],
          [
           true,
           null,
           false,
           1,
           "gt",
           0.722972972972973,
           808,
           1049
          ],
          [
           true,
           null,
           false,
           1,
           "gt",
           0.6167400881057269,
           809,
           1052
          ],
          [
           true,
           null,
           false,
           1,
           "gt",
           0.807909604519774,
           810,
           1053
          ],
          [
           true,
           null,
           false,
           1,
           "gt",
           0.8480392156862745,
           811,
           1054
          ],
          [
           true,
           null,
           false,
           1,
           "gt",
           0.7045454545454546,
           812,
           1055
          ],
          [
           true,
           null,
           false,
           1,
           "gt",
           0.6412213740458015,
           813,
           1056
          ],
          [
           false,
           null,
           true,
           1,
           "gt",
           0,
           814,
           "NA"
          ],
          [
           true,
           null,
           false,
           1,
           "gt",
           0.3684210526315789,
           815,
           1059
          ],
          [
           true,
           null,
           false,
           1,
           "gt",
           0.9095477386934674,
           816,
           1060
          ],
          [
           true,
           null,
           false,
           1,
           "gt",
           0.815,
           817,
           1061
          ],
          [
           true,
           null,
           false,
           1,
           "gt",
           0.46195652173913043,
           818,
           1062
          ],
          [
           true,
           null,
           false,
           1,
           "gt",
           0.6890459363957597,
           819,
           1063
          ],
          [
           false,
           null,
           true,
           1,
           "gt",
           0.2808988764044944,
           820,
           1064
          ],
          [
           true,
           null,
           false,
           1,
           "gt",
           0.710691823899371,
           821,
           1065
          ],
          [
           false,
           null,
           true,
           1,
           "gt",
           0,
           822,
           "NA"
          ],
          [
           true,
           null,
           false,
           1,
           "gt",
           0.8092783505154639,
           823,
           1066
          ],
          [
           true,
           null,
           false,
           1,
           "gt",
           0.8387096774193549,
           824,
           1067
          ],
          [
           false,
           null,
           true,
           1,
           "gt",
           0,
           825,
           "NA"
          ],
          [
           true,
           null,
           false,
           1,
           "gt",
           0.7272727272727273,
           826,
           1068
          ],
          [
           true,
           null,
           false,
           1,
           "gt",
           0.8726415094339622,
           827,
           1069
          ],
          [
           true,
           null,
           false,
           1,
           "gt",
           0.6878048780487804,
           828,
           1070
          ],
          [
           false,
           null,
           true,
           1,
           "gt",
           0.2125,
           829,
           1071
          ],
          [
           true,
           null,
           false,
           1,
           "gt",
           0.9285714285714286,
           830,
           1073
          ],
          [
           true,
           null,
           false,
           1,
           "gt",
           0.8342857142857143,
           831,
           1076
          ],
          [
           true,
           null,
           false,
           1,
           "gt",
           0.6111111111111112,
           832,
           1077
          ],
          [
           true,
           null,
           false,
           1,
           "gt",
           0.6143790849673203,
           833,
           1078
          ],
          [
           true,
           null,
           false,
           1,
           "gt",
           0.5539568345323741,
           834,
           1079
          ],
          [
           true,
           null,
           false,
           1,
           "gt",
           0.9292452830188679,
           835,
           1080
          ],
          [
           true,
           null,
           false,
           1,
           "gt",
           0.594059405940594,
           836,
           1081
          ],
          [
           true,
           null,
           false,
           1,
           "gt",
           0.6974358974358974,
           837,
           1085
          ],
          [
           true,
           null,
           false,
           1,
           "gt",
           0.5,
           838,
           1087
          ],
          [
           true,
           null,
           false,
           1,
           "gt",
           0.5285714285714286,
           839,
           1088
          ],
          [
           true,
           null,
           false,
           1,
           "gt",
           0.680952380952381,
           840,
           1089
          ],
          [
           true,
           null,
           false,
           1,
           "gt",
           0.6486486486486487,
           841,
           1090
          ],
          [
           true,
           null,
           false,
           1,
           "gt",
           0.8429319371727748,
           842,
           1091
          ],
          [
           true,
           null,
           false,
           1,
           "gt",
           0.7341269841269841,
           843,
           1093
          ],
          [
           true,
           null,
           false,
           1,
           "gt",
           0.7222222222222222,
           844,
           1095
          ],
          [
           false,
           null,
           true,
           1,
           "gt",
           0,
           845,
           "NA"
          ],
          [
           true,
           null,
           false,
           1,
           "gt",
           0.6828193832599119,
           846,
           1098
          ],
          [
           true,
           null,
           false,
           1,
           "gt",
           0.7067307692307693,
           847,
           1100
          ],
          [
           false,
           null,
           true,
           1,
           "gt",
           0,
           848,
           "NA"
          ],
          [
           true,
           null,
           false,
           1,
           "gt",
           0.7784810126582279,
           849,
           1104
          ],
          [
           true,
           null,
           false,
           1,
           "gt",
           0.8659217877094972,
           850,
           1105
          ],
          [
           true,
           null,
           false,
           1,
           "gt",
           0.8178294573643411,
           851,
           1108
          ],
          [
           true,
           null,
           false,
           1,
           "gt",
           0.7531645569620253,
           852,
           1112
          ],
          [
           true,
           null,
           false,
           1,
           "gt",
           0.8269230769230769,
           853,
           1114
          ],
          [
           true,
           null,
           false,
           1,
           "gt",
           0.5384615384615384,
           854,
           1117
          ],
          [
           true,
           null,
           false,
           1,
           "gt",
           0.946969696969697,
           855,
           1118
          ],
          [
           true,
           null,
           false,
           1,
           "gt",
           0.8177339901477833,
           856,
           1119
          ],
          [
           true,
           null,
           false,
           1,
           "gt",
           0.7518248175182481,
           857,
           1121
          ],
          [
           true,
           null,
           false,
           1,
           "gt",
           0.9337349397590361,
           858,
           1122
          ],
          [
           true,
           null,
           false,
           1,
           "gt",
           0.83125,
           859,
           1123
          ],
          [
           true,
           null,
           false,
           1,
           "gt",
           0.583710407239819,
           860,
           1124
          ],
          [
           true,
           null,
           false,
           1,
           "gt",
           0.7754010695187166,
           861,
           1125
          ],
          [
           true,
           null,
           false,
           1,
           "gt",
           0.7235772357723578,
           862,
           1127
          ],
          [
           true,
           null,
           false,
           1,
           "gt",
           0.9224806201550387,
           863,
           1128
          ],
          [
           true,
           null,
           false,
           1,
           "gt",
           0.7279411764705882,
           864,
           1130
          ],
          [
           true,
           null,
           false,
           1,
           "gt",
           0.7255813953488373,
           865,
           1132
          ],
          [
           true,
           null,
           false,
           1,
           "gt",
           0.6234567901234568,
           866,
           1134
          ],
          [
           true,
           null,
           false,
           1,
           "gt",
           0.7,
           867,
           1135
          ],
          [
           true,
           null,
           false,
           1,
           "gt",
           0.6893203883495146,
           868,
           1136
          ],
          [
           true,
           null,
           false,
           1,
           "gt",
           0.6771653543307087,
           869,
           1137
          ],
          [
           true,
           null,
           false,
           1,
           "gt",
           0.6513409961685823,
           870,
           1140
          ],
          [
           true,
           null,
           false,
           1,
           "gt",
           0.8192771084337349,
           871,
           1141
          ],
          [
           true,
           null,
           false,
           1,
           "gt",
           0.9690721649484536,
           872,
           1142
          ],
          [
           true,
           null,
           false,
           1,
           "gt",
           0.8131313131313131,
           873,
           1144
          ],
          [
           true,
           null,
           false,
           1,
           "gt",
           0.7738095238095238,
           874,
           1147
          ],
          [
           true,
           null,
           false,
           1,
           "gt",
           0.8,
           875,
           1148
          ],
          [
           true,
           null,
           false,
           1,
           "gt",
           0.8586956521739131,
           876,
           1151
          ],
          [
           true,
           null,
           false,
           1,
           "gt",
           0.8360655737704918,
           877,
           1152
          ],
          [
           true,
           null,
           false,
           1,
           "gt",
           0.7815126050420168,
           878,
           1153
          ],
          [
           false,
           null,
           true,
           1,
           "gt",
           0,
           879,
           "NA"
          ],
          [
           true,
           null,
           false,
           1,
           "gt",
           0.6892655367231638,
           880,
           1155
          ],
          [
           true,
           null,
           false,
           1,
           "gt",
           0.3482587064676617,
           881,
           1157
          ],
          [
           true,
           null,
           false,
           1,
           "gt",
           0.7857142857142857,
           882,
           1158
          ],
          [
           true,
           null,
           false,
           1,
           "gt",
           0.7733990147783252,
           883,
           1160
          ],
          [
           false,
           null,
           true,
           1,
           "gt",
           0,
           884,
           "NA"
          ],
          [
           true,
           null,
           false,
           1,
           "gt",
           0.8143712574850299,
           885,
           1161
          ],
          [
           false,
           null,
           true,
           1,
           "gt",
           0,
           886,
           "NA"
          ],
          [
           true,
           null,
           false,
           1,
           "gt",
           0.6777251184834123,
           887,
           1163
          ],
          [
           true,
           null,
           false,
           1,
           "gt",
           0.8021390374331551,
           888,
           1165
          ],
          [
           false,
           null,
           true,
           1,
           "gt",
           0,
           889,
           "NA"
          ],
          [
           true,
           null,
           false,
           1,
           "gt",
           0.8431372549019608,
           890,
           1168
          ],
          [
           true,
           null,
           false,
           1,
           "gt",
           0.5336322869955157,
           891,
           1171
          ],
          [
           true,
           null,
           false,
           1,
           "gt",
           0.3598233995584989,
           892,
           1172
          ],
          [
           false,
           null,
           true,
           1,
           "gt",
           0,
           893,
           "NA"
          ],
          [
           true,
           null,
           false,
           1,
           "gt",
           0.3813953488372093,
           894,
           1176
          ],
          [
           false,
           null,
           true,
           1,
           "gt",
           0,
           895,
           "NA"
          ],
          [
           true,
           null,
           false,
           1,
           "gt",
           0.7725752508361204,
           896,
           1179
          ],
          [
           true,
           null,
           false,
           1,
           "gt",
           0.42731277533039647,
           897,
           1180
          ],
          [
           true,
           null,
           false,
           1,
           "gt",
           0.797979797979798,
           898,
           1181
          ],
          [
           true,
           null,
           false,
           1,
           "gt",
           0.773109243697479,
           899,
           1183
          ],
          [
           true,
           null,
           false,
           1,
           "gt",
           0.5226586102719033,
           900,
           1186
          ],
          [
           true,
           null,
           false,
           1,
           "gt",
           0.8324873096446701,
           901,
           1189
          ],
          [
           true,
           null,
           false,
           1,
           "gt",
           0.8274111675126904,
           902,
           1190
          ],
          [
           true,
           null,
           false,
           1,
           "gt",
           0.532258064516129,
           903,
           1196
          ],
          [
           true,
           null,
           false,
           1,
           "gt",
           0.680327868852459,
           904,
           1197
          ],
          [
           true,
           null,
           false,
           1,
           "gt",
           0.8357487922705314,
           905,
           1198
          ],
          [
           true,
           null,
           false,
           1,
           "gt",
           0.8092909535452323,
           906,
           1203
          ],
          [
           true,
           null,
           false,
           1,
           "gt",
           0.7906976744186046,
           907,
           1204
          ],
          [
           true,
           null,
           false,
           1,
           "gt",
           0.5545851528384279,
           908,
           1206
          ],
          [
           true,
           null,
           false,
           1,
           "gt",
           0.9440559440559441,
           909,
           1207
          ],
          [
           true,
           null,
           false,
           1,
           "gt",
           0.6105769230769231,
           910,
           1210
          ],
          [
           true,
           null,
           false,
           1,
           "gt",
           0.5305343511450382,
           911,
           1211
          ]
         ],
         "hovertemplate": "iou=%{marker.color:.4f}<br>indexGT=%{customdata[6]}<br>indexOut=%{customdata[7]}<extra></extra>",
         "legendgroup": "gt",
         "marker": {
          "color": [
           0,
           0,
           0.43333333333333335,
           0,
           0,
           0,
           0.4936708860759494,
           0.41237113402061853,
           0.9020618556701031,
           0.7239263803680982,
           0.3933649289099526,
           0.7259615384615384,
           0.5021834061135371,
           0.6801801801801802,
           0.36893203883495146,
           0.6319702602230484,
           0.559228650137741,
           0.6209150326797386,
           0.48936170212765956,
           0.23737373737373738,
           0.6401869158878505,
           0.15789473684210525,
           0,
           0.8558139534883721,
           0.5951417004048583,
           0.6543778801843319,
           0.5445544554455446,
           0.8371428571428572,
           0.823170731707317,
           0.5460122699386503,
           0,
           0.6321070234113713,
           0.849624060150376,
           0.8743718592964824,
           0.8023952095808383,
           0,
           0,
           0,
           0,
           0.9272151898734177,
           0.42105263157894735,
           0.34662576687116564,
           0.6341463414634146,
           0.9447852760736196,
           0.8395061728395061,
           0.6721311475409836,
           0.4703196347031963,
           0,
           0.625,
           0.47808764940239046,
           0.9325153374233128,
           0.72,
           0,
           0.2570806100217865,
           0.3657957244655582,
           0.9638009049773756,
           0.8418604651162791,
           0.5665529010238908,
           0.5251396648044693,
           0.8120805369127517,
           0.6521739130434783,
           0.7724550898203593,
           0.8613861386138614,
           0.5273972602739726,
           0.3079470198675497,
           0.6046511627906976,
           0,
           0.7484076433121019,
           0.8914728682170543,
           0.7411764705882353,
           0.5364963503649635,
           0.6967213114754098,
           0.6060606060606061,
           0.3719512195121951,
           0.5944055944055944,
           0.8493150684931506,
           0,
           0.4124293785310734,
           0.9848484848484849,
           0,
           0.0942622950819672,
           0.6144578313253012,
           0.8116591928251121,
           0.7941176470588235,
           0.45108695652173914,
           0.7859649122807018,
           0.38461538461538464,
           0.5214521452145214,
           0.888,
           0.7732558139534884,
           0.30603448275862066,
           0.8837209302325582,
           0,
           0.6496815286624203,
           0.6438356164383562,
           0.05263157894736842,
           0,
           0,
           0,
           0,
           0.6888888888888889,
           0.88,
           0.4825174825174825,
           0.7131782945736435,
           0,
           0.8232323232323232,
           0.764,
           0.6845878136200717,
           0.7219512195121951,
           0.39759036144578314,
           0.3003412969283277,
           0.8321678321678322,
           0.4684385382059801,
           0,
           0.9071428571428571,
           0.851063829787234,
           0,
           0.7981651376146789,
           0.5182926829268293,
           0.7278481012658228,
           0.7055016181229773,
           0.6894409937888198,
           0.6493506493506493,
           0.4208860759493671,
           0.8267477203647416,
           0.8083832335329342,
           0,
           0.7098039215686275,
           0.7821229050279329,
           0.8208333333333333,
           0.6272189349112426,
           0.86875,
           0.7272727272727273,
           0.8934010152284264,
           0.6387434554973822,
           0.9424460431654677,
           0.9711538461538461,
           0,
           0.8395061728395061,
           0.875,
           0.6446700507614214,
           0.41904761904761906,
           0.8377192982456141,
           0.9354838709677419,
           0,
           0.8114035087719298,
           0,
           0.664,
           0.7183673469387755,
           0,
           0.4844559585492228,
           0.5045045045045045,
           0.5233333333333333,
           0.6726190476190477,
           0,
           0.7516778523489933,
           0.8053435114503816,
           0.7391304347826086,
           0.7025862068965517,
           0,
           0.8673469387755102,
           0.8202764976958525,
           0.8128342245989305,
           0.6111111111111112,
           0.7876447876447876,
           0,
           0.7635135135135135,
           0.7891156462585034,
           0.7938931297709924,
           0.7094017094017094,
           0.7674418604651163,
           0.6484018264840182,
           0,
           0.7235023041474654,
           0.8961937716262975,
           0.8351648351648352,
           0.6681222707423581,
           0.34718100890207715,
           0,
           0.8763636363636363,
           0.7293577981651376,
           0.7373737373737373,
           0.7336448598130841,
           0,
           0.60625,
           0.5930232558139535,
           0,
           0.5892857142857143,
           0,
           0.6149732620320856,
           0.68125,
           0.732484076433121,
           0.8818897637795275,
           0.6115702479338843,
           0.7969348659003831,
           0.8962264150943396,
           0.9653465346534653,
           0.8221153846153846,
           0.7839195979899497,
           0.9540229885057471,
           0.82,
           0.6892655367231638,
           0.5898305084745763,
           0.8382352941176471,
           0,
           0.7647058823529411,
           0.9244444444444444,
           0.5534591194968553,
           0.5906432748538012,
           0.5689655172413793,
           0.632768361581921,
           0.7463414634146341,
           0.813953488372093,
           0.7688442211055276,
           0.846820809248555,
           0.6958333333333333,
           0.8254545454545454,
           0.5529801324503312,
           0.7596153846153846,
           0.8141592920353983,
           0.9174757281553398,
           0.7861271676300579,
           0.5223214285714286,
           0.5869565217391305,
           0.8244897959183674,
           0.8372093023255814,
           0.9301075268817204,
           0.8125,
           0.3438914027149321,
           0,
           0.7222222222222222,
           0.4336917562724014,
           0.6646341463414634,
           0.7861271676300579,
           0.8181818181818182,
           0.904320987654321,
           0.7587719298245614,
           0.6198347107438017,
           0.45054945054945056,
           0.8878504672897196,
           0.8687258687258688,
           0,
           0.8717948717948718,
           0.8350515463917526,
           0.5771428571428572,
           0.7135135135135136,
           0,
           0.8742857142857143,
           0.6228813559322034,
           0.8976744186046511,
           0.7121212121212122,
           0.8260869565217391,
           0,
           0.8,
           0.5081967213114754,
           0.8369098712446352,
           0.8877005347593583,
           0.6790697674418604,
           0.567741935483871,
           0.8333333333333334,
           0.7477477477477478,
           0,
           0,
           0.8636363636363636,
           0,
           0.802547770700637,
           0.5924170616113744,
           0,
           0.8202247191011236,
           0.4943820224719101,
           0,
           0,
           0.6533333333333333,
           0.9132653061224489,
           0.6331658291457286,
           0.6301369863013698,
           0.5104895104895105,
           0,
           0.8844221105527639,
           0.8208955223880597,
           0.7627906976744186,
           0.9738562091503268,
           0.7403508771929824,
           0.7511520737327189,
           0.8359375,
           0.6196319018404908,
           0.819047619047619,
           0.42207792207792205,
           0.5464285714285714,
           0.7005988023952096,
           0.9288888888888889,
           0.6752136752136753,
           0.8088235294117647,
           0.43492063492063493,
           0.84,
           0.8489583333333334,
           0.6722689075630253,
           0.8220338983050848,
           0.6486486486486487,
           0.5843373493975904,
           0.7872340425531915,
           0.8846153846153846,
           0.7777777777777778,
           0.8369565217391305,
           0.38461538461538464,
           0,
           0.6728624535315985,
           0.6,
           0.6346153846153846,
           0.7892376681614349,
           0,
           0.6728971962616822,
           0.7843137254901961,
           0.9301075268817204,
           0.7590361445783133,
           0.8609625668449198,
           0.5833333333333334,
           0.9438202247191011,
           0.7734806629834254,
           0.8010204081632653,
           0.26996197718631176,
           0.673469387755102,
           0.4342629482071713,
           0,
           0.8444444444444444,
           0.7478632478632479,
           0.65,
           0,
           0.8132780082987552,
           0.7150537634408602,
           0.8707865168539326,
           0,
           0.9503105590062112,
           0.6693548387096774,
           0.6495327102803738,
           0.759493670886076,
           0,
           0.9,
           0.8552631578947368,
           0.6559633027522935,
           0.8743718592964824,
           0.7511520737327189,
           0.768361581920904,
           0.82,
           0.9265536723163842,
           0.8831168831168831,
           0.6242236024844721,
           0.7652173913043478,
           0.7472527472527473,
           0.8685714285714285,
           0.8883495145631068,
           0.8549222797927462,
           0.75,
           0.9014778325123153,
           0.5069767441860465,
           0.803030303030303,
           0,
           0.8803418803418803,
           0.8807947019867549,
           0.7457627118644068,
           0,
           0,
           0.3319327731092437,
           0.792,
           0.6732673267326733,
           0,
           0.8482758620689655,
           0.6963350785340314,
           0.7622377622377622,
           0.7531380753138075,
           0.6318681318681318,
           0.7403314917127072,
           0.7639751552795031,
           0.9019607843137255,
           0.8888888888888888,
           0.6923076923076923,
           0.6941176470588235,
           0.7485029940119761,
           0.9292929292929293,
           0.7151162790697675,
           0.569377990430622,
           0.6398305084745762,
           0.4634146341463415,
           0,
           0.2,
           0,
           0,
           0.783410138248848,
           0.7643312101910829,
           0.7727272727272727,
           0,
           0.8666666666666667,
           0.5571428571428572,
           0.9452054794520548,
           0.7909090909090909,
           0,
           0.7268041237113402,
           0,
           0,
           0.8893617021276595,
           0.6545454545454545,
           0.7867298578199052,
           0,
           0.47115384615384615,
           0.7509578544061303,
           0.8764705882352941,
           0,
           0,
           0,
           0.5850622406639004,
           0.05897435897435897,
           0.8354430379746836,
           0.4642857142857143,
           0,
           0,
           0.7960526315789473,
           0.5823863636363636,
           0.9151515151515152,
           0.7647058823529411,
           0.5694050991501416,
           0.8850574712643678,
           0.8444444444444444,
           0.7341772151898734,
           0.7412587412587412,
           0.6203208556149733,
           0.16145833333333334,
           0.7482993197278912,
           0.7555555555555555,
           0.7606177606177607,
           0.5079365079365079,
           0.64,
           0.8846153846153846,
           0.7098976109215017,
           0.8025210084033614,
           0.7136150234741784,
           0,
           0.7454545454545455,
           0.6962457337883959,
           0,
           0.8626373626373627,
           0.9447513812154696,
           0.8156862745098039,
           0.9698795180722891,
           0,
           0.6111111111111112,
           0.4272151898734177,
           0.6360759493670886,
           0,
           0.795,
           0.8043478260869565,
           0.7982456140350878,
           0.8166666666666667,
           0.8,
           0.664576802507837,
           0.784688995215311,
           0.9139784946236559,
           0.6909090909090909,
           0.8458781362007168,
           0.64,
           0.8595505617977528,
           0.5642458100558659,
           0.7575757575757576,
           0.48534201954397393,
           0.8132780082987552,
           0.8739837398373984,
           0.8118811881188119,
           0.22330097087378642,
           0.3569553805774278,
           0.7486631016042781,
           0,
           0.5645161290322581,
           0.7235023041474654,
           0.8888888888888888,
           0.7472527472527473,
           0.8625,
           0.81875,
           0.4979919678714859,
           0,
           0.49361702127659574,
           0.8411214953271028,
           0,
           0.8076923076923077,
           0.664804469273743,
           0.6468401486988847,
           0.8653846153846154,
           0.772093023255814,
           0.959349593495935,
           0.8932038834951457,
           0.9155555555555556,
           0.8309859154929577,
           0.8733031674208145,
           0.8606965174129353,
           0.9655172413793104,
           0.7657657657657657,
           0.612565445026178,
           0.8105263157894737,
           0.7681159420289855,
           0.5699481865284974,
           0.8375,
           0.7642857142857142,
           0.6396761133603239,
           0.696236559139785,
           0.7522123893805309,
           0.6421404682274248,
           0.7327586206896551,
           0.7401129943502824,
           0.8151658767772512,
           0,
           0.8691099476439791,
           0.7134146341463414,
           0.8679867986798679,
           0.8512396694214877,
           0.7425742574257426,
           0.9375,
           0.5521472392638037,
           0.8814432989690721,
           0.8613445378151261,
           0.8585365853658536,
           0.8421052631578947,
           0.7937649880095923,
           0.8888888888888888,
           0.4314606741573034,
           0.7569721115537849,
           0.6728624535315985,
           0.7758007117437722,
           0.7446153846153846,
           0.8194444444444444,
           0.8,
           0.8505154639175257,
           0.918918918918919,
           0.6701754385964912,
           0.8773006134969326,
           0.9104477611940298,
           0.8018867924528302,
           0.8697478991596639,
           0.7832167832167832,
           0.7755102040816326,
           0.6970802919708029,
           0.5542168674698795,
           0.7670682730923695,
           0.6923076923076923,
           0.778393351800554,
           0.7380352644836272,
           0.8348623853211009,
           0.8559322033898306,
           0,
           0.7957446808510639,
           0.8012232415902141,
           0.4944237918215613,
           0.3574144486692015,
           0.8804347826086957,
           0.6289855072463768,
           0.5766129032258065,
           0.7302904564315352,
           0.8565891472868217,
           0.7906976744186046,
           0.668,
           0.9083333333333333,
           0.8578947368421053,
           0.6711864406779661,
           0.55625,
           0,
           0.45387453874538747,
           0.32727272727272727,
           0.6366666666666667,
           0.6512605042016807,
           0.8055555555555556,
           0.7555555555555555,
           0.806282722513089,
           0.6988636363636364,
           0.888235294117647,
           0.7402135231316725,
           0.6005154639175257,
           0.8878205128205128,
           0.505338078291815,
           0.9096385542168675,
           0.9243697478991597,
           0.9066666666666666,
           0.7553191489361702,
           0.921146953405018,
           0.7831858407079646,
           0.8947368421052632,
           0.6847290640394089,
           0.7065868263473054,
           0.6698564593301436,
           0.6742424242424242,
           0.967741935483871,
           0.8311688311688312,
           0.6150442477876106,
           0.968,
           0,
           0.8220858895705522,
           0.475,
           0.5549132947976878,
           0.5734767025089605,
           0.8967391304347826,
           0.615,
           0.8844765342960289,
           0.3522012578616352,
           0.7508896797153025,
           0.6860158311345647,
           0.4956896551724138,
           0.8697916666666666,
           0.8851063829787233,
           0.8646288209606987,
           0.7272727272727273,
           0.6666666666666666,
           0.6462264150943396,
           0.9254385964912281,
           0.6614583333333334,
           0.5757575757575758,
           0,
           0.7253886010362695,
           0,
           0.8553459119496856,
           0.6347305389221557,
           0.7877094972067039,
           0.806282722513089,
           0.8416289592760181,
           0.7537688442211056,
           0.8614718614718615,
           0.9230769230769231,
           0.8724489795918368,
           0.7515923566878981,
           0.7653061224489796,
           0.6395348837209303,
           0.796875,
           0.6030534351145038,
           0.6827956989247311,
           0.616580310880829,
           0.6607773851590106,
           0.8632075471698113,
           0.7442922374429224,
           0.7222222222222222,
           0.6289592760180995,
           0.7215189873417721,
           0.8728070175438597,
           0.5607843137254902,
           0.875,
           0.7793103448275862,
           0.5099009900990099,
           0,
           0.5835777126099707,
           0.8865979381443299,
           0.6784313725490196,
           0.935064935064935,
           0.7857142857142857,
           0.6035353535353535,
           0.9183673469387755,
           0.7218934911242604,
           0.7634730538922155,
           0.5630630630630631,
           0.7490494296577946,
           0.8415841584158416,
           0.7900552486187845,
           0.7246376811594203,
           0.8850574712643678,
           0.7104072398190046,
           0.8916256157635468,
           0.5209790209790209,
           0.5071428571428571,
           0.8362989323843416,
           0.5824561403508772,
           0.7556818181818182,
           0.8770491803278688,
           0.5693950177935944,
           0.786096256684492,
           0.7925311203319502,
           0.9558823529411765,
           0.711864406779661,
           0.8220338983050848,
           0.7605633802816901,
           0.8925233644859814,
           0.6782178217821783,
           0.8055555555555556,
           0.7526315789473684,
           0.7450980392156863,
           0.8571428571428571,
           0.8131313131313131,
           0.7154811715481172,
           0.47928994082840237,
           0.7401574803149606,
           0.9408866995073891,
           0.903954802259887,
           0.5,
           0.6526315789473685,
           0.6591928251121076,
           0,
           0.7866666666666666,
           0.6935483870967742,
           0.8414634146341463,
           0.34210526315789475,
           0.708994708994709,
           0.7412587412587412,
           0.7621951219512195,
           0.6746987951807228,
           0.7586206896551724,
           0.8715596330275229,
           0.8311111111111111,
           0.8546511627906976,
           0.6977777777777778,
           0.625,
           0.7816091954022989,
           0.5847457627118644,
           0.75,
           0.6062992125984252,
           0.8155339805825242,
           0.6845238095238095,
           0.7924528301886793,
           0.6059322033898306,
           0.9624413145539906,
           0,
           0.6283783783783784,
           0.826530612244898,
           0.6590909090909091,
           0.7068965517241379,
           0.9358288770053476,
           0.5964912280701754,
           0,
           0.851063829787234,
           0.7368421052631579,
           0.6622222222222223,
           0.7819905213270142,
           0.6496815286624203,
           0.8048780487804879,
           0,
           0,
           0,
           0.7613636363636364,
           0,
           0,
           0,
           0.746268656716418,
           0.65625,
           0,
           0.803921568627451,
           0,
           0.8532110091743119,
           0.6059479553903345,
           0.7722419928825622,
           0.7511737089201878,
           0.7925925925925926,
           0.5922619047619048,
           0.7210526315789474,
           0.78125,
           0.2779552715654952,
           0.8074074074074075,
           0.7258883248730964,
           0.6986301369863014,
           0.9326923076923077,
           0.5791666666666667,
           0.5775193798449613,
           0.7425742574257426,
           0.7044334975369458,
           0.8565022421524664,
           0.6436781609195402,
           0.5529953917050692,
           0.8851063829787233,
           0.7735849056603774,
           0.967032967032967,
           0.6342592592592593,
           0.5472312703583062,
           0.5450643776824035,
           0.8163265306122449,
           0.7470588235294118,
           0.6526946107784432,
           0.7889447236180904,
           0.7916666666666666,
           0.7048458149779736,
           0.6363636363636364,
           0.75,
           0.646551724137931,
           0.896551724137931,
           0.7804878048780488,
           0.71,
           0.8184931506849316,
           0.9251700680272109,
           0.8194444444444444,
           0.8341463414634146,
           0,
           0.6378600823045267,
           0.7978723404255319,
           0.8097345132743363,
           0.8402061855670103,
           0.768361581920904,
           0.6692913385826772,
           0.612,
           0.8781512605042017,
           0.7073170731707317,
           0.6470588235294118,
           0.6133333333333333,
           0.8921568627450981,
           0.7149532710280374,
           0.6606217616580311,
           0.7318007662835249,
           0.8819672131147541,
           0.888135593220339,
           0.7861635220125787,
           0.9120370370370371,
           0.7358490566037735,
           0.9734513274336283,
           0.812,
           0.5198675496688742,
           0.8249027237354085,
           0.7755102040816326,
           0.7384615384615385,
           0.6593406593406593,
           0.8084112149532711,
           0.722972972972973,
           0.6167400881057269,
           0.807909604519774,
           0.8480392156862745,
           0.7045454545454546,
           0.6412213740458015,
           0,
           0.3684210526315789,
           0.9095477386934674,
           0.815,
           0.46195652173913043,
           0.6890459363957597,
           0.2808988764044944,
           0.710691823899371,
           0,
           0.8092783505154639,
           0.8387096774193549,
           0,
           0.7272727272727273,
           0.8726415094339622,
           0.6878048780487804,
           0.2125,
           0.9285714285714286,
           0.8342857142857143,
           0.6111111111111112,
           0.6143790849673203,
           0.5539568345323741,
           0.9292452830188679,
           0.594059405940594,
           0.6974358974358974,
           0.5,
           0.5285714285714286,
           0.680952380952381,
           0.6486486486486487,
           0.8429319371727748,
           0.7341269841269841,
           0.7222222222222222,
           0,
           0.6828193832599119,
           0.7067307692307693,
           0,
           0.7784810126582279,
           0.8659217877094972,
           0.8178294573643411,
           0.7531645569620253,
           0.8269230769230769,
           0.5384615384615384,
           0.946969696969697,
           0.8177339901477833,
           0.7518248175182481,
           0.9337349397590361,
           0.83125,
           0.583710407239819,
           0.7754010695187166,
           0.7235772357723578,
           0.9224806201550387,
           0.7279411764705882,
           0.7255813953488373,
           0.6234567901234568,
           0.7,
           0.6893203883495146,
           0.6771653543307087,
           0.6513409961685823,
           0.8192771084337349,
           0.9690721649484536,
           0.8131313131313131,
           0.7738095238095238,
           0.8,
           0.8586956521739131,
           0.8360655737704918,
           0.7815126050420168,
           0,
           0.6892655367231638,
           0.3482587064676617,
           0.7857142857142857,
           0.7733990147783252,
           0,
           0.8143712574850299,
           0,
           0.6777251184834123,
           0.8021390374331551,
           0,
           0.8431372549019608,
           0.5336322869955157,
           0.3598233995584989,
           0,
           0.3813953488372093,
           0,
           0.7725752508361204,
           0.42731277533039647,
           0.797979797979798,
           0.773109243697479,
           0.5226586102719033,
           0.8324873096446701,
           0.8274111675126904,
           0.532258064516129,
           0.680327868852459,
           0.8357487922705314,
           0.8092909535452323,
           0.7906976744186046,
           0.5545851528384279,
           0.9440559440559441,
           0.6105769230769231,
           0.5305343511450382
          ],
          "coloraxis": "coloraxis",
          "line": {
           "width": 2
          },
          "opacity": 0.8,
          "size": [
           1,
           1,
           1,
           1,
           1,
           1,
           1,
           1,
           1,
           1,
           1,
           1,
           1,
           1,
           1,
           1,
           1,
           1,
           1,
           1,
           1,
           1,
           1,
           1,
           1,
           1,
           1,
           1,
           1,
           1,
           1,
           1,
           1,
           1,
           1,
           1,
           1,
           1,
           1,
           1,
           1,
           1,
           1,
           1,
           1,
           1,
           1,
           1,
           1,
           1,
           1,
           1,
           1,
           1,
           1,
           1,
           1,
           1,
           1,
           1,
           1,
           1,
           1,
           1,
           1,
           1,
           1,
           1,
           1,
           1,
           1,
           1,
           1,
           1,
           1,
           1,
           1,
           1,
           1,
           1,
           1,
           1,
           1,
           1,
           1,
           1,
           1,
           1,
           1,
           1,
           1,
           1,
           1,
           1,
           1,
           1,
           1,
           1,
           1,
           1,
           1,
           1,
           1,
           1,
           1,
           1,
           1,
           1,
           1,
           1,
           1,
           1,
           1,
           1,
           1,
           1,
           1,
           1,
           1,
           1,
           1,
           1,
           1,
           1,
           1,
           1,
           1,
           1,
           1,
           1,
           1,
           1,
           1,
           1,
           1,
           1,
           1,
           1,
           1,
           1,
           1,
           1,
           1,
           1,
           1,
           1,
           1,
           1,
           1,
           1,
           1,
           1,
           1,
           1,
           1,
           1,
           1,
           1,
           1,
           1,
           1,
           1,
           1,
           1,
           1,
           1,
           1,
           1,
           1,
           1,
           1,
           1,
           1,
           1,
           1,
           1,
           1,
           1,
           1,
           1,
           1,
           1,
           1,
           1,
           1,
           1,
           1,
           1,
           1,
           1,
           1,
           1,
           1,
           1,
           1,
           1,
           1,
           1,
           1,
           1,
           1,
           1,
           1,
           1,
           1,
           1,
           1,
           1,
           1,
           1,
           1,
           1,
           1,
           1,
           1,
           1,
           1,
           1,
           1,
           1,
           1,
           1,
           1,
           1,
           1,
           1,
           1,
           1,
           1,
           1,
           1,
           1,
           1,
           1,
           1,
           1,
           1,
           1,
           1,
           1,
           1,
           1,
           1,
           1,
           1,
           1,
           1,
           1,
           1,
           1,
           1,
           1,
           1,
           1,
           1,
           1,
           1,
           1,
           1,
           1,
           1,
           1,
           1,
           1,
           1,
           1,
           1,
           1,
           1,
           1,
           1,
           1,
           1,
           1,
           1,
           1,
           1,
           1,
           1,
           1,
           1,
           1,
           1,
           1,
           1,
           1,
           1,
           1,
           1,
           1,
           1,
           1,
           1,
           1,
           1,
           1,
           1,
           1,
           1,
           1,
           1,
           1,
           1,
           1,
           1,
           1,
           1,
           1,
           1,
           1,
           1,
           1,
           1,
           1,
           1,
           1,
           1,
           1,
           1,
           1,
           1,
           1,
           1,
           1,
           1,
           1,
           1,
           1,
           1,
           1,
           1,
           1,
           1,
           1,
           1,
           1,
           1,
           1,
           1,
           1,
           1,
           1,
           1,
           1,
           1,
           1,
           1,
           1,
           1,
           1,
           1,
           1,
           1,
           1,
           1,
           1,
           1,
           1,
           1,
           1,
           1,
           1,
           1,
           1,
           1,
           1,
           1,
           1,
           1,
           1,
           1,
           1,
           1,
           1,
           1,
           1,
           1,
           1,
           1,
           1,
           1,
           1,
           1,
           1,
           1,
           1,
           1,
           1,
           1,
           1,
           1,
           1,
           1,
           1,
           1,
           1,
           1,
           1,
           1,
           1,
           1,
           1,
           1,
           1,
           1,
           1,
           1,
           1,
           1,
           1,
           1,
           1,
           1,
           1,
           1,
           1,
           1,
           1,
           1,
           1,
           1,
           1,
           1,
           1,
           1,
           1,
           1,
           1,
           1,
           1,
           1,
           1,
           1,
           1,
           1,
           1,
           1,
           1,
           1,
           1,
           1,
           1,
           1,
           1,
           1,
           1,
           1,
           1,
           1,
           1,
           1,
           1,
           1,
           1,
           1,
           1,
           1,
           1,
           1,
           1,
           1,
           1,
           1,
           1,
           1,
           1,
           1,
           1,
           1,
           1,
           1,
           1,
           1,
           1,
           1,
           1,
           1,
           1,
           1,
           1,
           1,
           1,
           1,
           1,
           1,
           1,
           1,
           1,
           1,
           1,
           1,
           1,
           1,
           1,
           1,
           1,
           1,
           1,
           1,
           1,
           1,
           1,
           1,
           1,
           1,
           1,
           1,
           1,
           1,
           1,
           1,
           1,
           1,
           1,
           1,
           1,
           1,
           1,
           1,
           1,
           1,
           1,
           1,
           1,
           1,
           1,
           1,
           1,
           1,
           1,
           1,
           1,
           1,
           1,
           1,
           1,
           1,
           1,
           1,
           1,
           1,
           1,
           1,
           1,
           1,
           1,
           1,
           1,
           1,
           1,
           1,
           1,
           1,
           1,
           1,
           1,
           1,
           1,
           1,
           1,
           1,
           1,
           1,
           1,
           1,
           1,
           1,
           1,
           1,
           1,
           1,
           1,
           1,
           1,
           1,
           1,
           1,
           1,
           1,
           1,
           1,
           1,
           1,
           1,
           1,
           1,
           1,
           1,
           1,
           1,
           1,
           1,
           1,
           1,
           1,
           1,
           1,
           1,
           1,
           1,
           1,
           1,
           1,
           1,
           1,
           1,
           1,
           1,
           1,
           1,
           1,
           1,
           1,
           1,
           1,
           1,
           1,
           1,
           1,
           1,
           1,
           1,
           1,
           1,
           1,
           1,
           1,
           1,
           1,
           1,
           1,
           1,
           1,
           1,
           1,
           1,
           1,
           1,
           1,
           1,
           1,
           1,
           1,
           1,
           1,
           1,
           1,
           1,
           1,
           1,
           1,
           1,
           1,
           1,
           1,
           1,
           1,
           1,
           1,
           1,
           1,
           1,
           1,
           1,
           1,
           1,
           1,
           1,
           1,
           1,
           1,
           1,
           1,
           1,
           1,
           1,
           1,
           1,
           1,
           1,
           1,
           1,
           1,
           1,
           1,
           1,
           1,
           1,
           1,
           1,
           1,
           1,
           1,
           1,
           1,
           1,
           1,
           1,
           1,
           1,
           1,
           1,
           1,
           1,
           1,
           1,
           1,
           1,
           1,
           1,
           1,
           1,
           1,
           1,
           1,
           1,
           1,
           1,
           1,
           1,
           1,
           1,
           1,
           1,
           1,
           1,
           1,
           1,
           1,
           1,
           1,
           1,
           1,
           1,
           1,
           1,
           1,
           1,
           1,
           1,
           1,
           1,
           1,
           1,
           1,
           1,
           1,
           1,
           1,
           1,
           1,
           1,
           1,
           1,
           1,
           1,
           1,
           1,
           1,
           1,
           1,
           1,
           1,
           1,
           1,
           1,
           1,
           1,
           1,
           1,
           1,
           1,
           1,
           1,
           1,
           1,
           1,
           1,
           1,
           1,
           1,
           1,
           1,
           1,
           1,
           1,
           1,
           1,
           1,
           1,
           1,
           1,
           1,
           1,
           1,
           1,
           1,
           1,
           1,
           1,
           1,
           1,
           1,
           1,
           1,
           1,
           1,
           1,
           1,
           1,
           1,
           1,
           1,
           1,
           1,
           1,
           1,
           1,
           1,
           1,
           1,
           1,
           1,
           1,
           1,
           1,
           1,
           1,
           1,
           1,
           1,
           1,
           1,
           1,
           1,
           1,
           1,
           1,
           1,
           1,
           1,
           1,
           1,
           1,
           1,
           1,
           1,
           1,
           1,
           1,
           1,
           1,
           1,
           1,
           1,
           1,
           1,
           1,
           1,
           1,
           1,
           1,
           1,
           1,
           1,
           1,
           1,
           1,
           1,
           1,
           1,
           1,
           1,
           1,
           1,
           1,
           1,
           1,
           1,
           1,
           1,
           1,
           1,
           1,
           1,
           1,
           1,
           1,
           1,
           1,
           1,
           1,
           1,
           1,
           1,
           1,
           1,
           1,
           1,
           1,
           1,
           1,
           1,
           1,
           1,
           1,
           1,
           1,
           1,
           1,
           1,
           1
          ],
          "sizemode": "area",
          "sizeref": 0.0075,
          "symbol": "circle"
         },
         "mode": "markers",
         "name": "gt",
         "showlegend": true,
         "type": "scattergl",
         "x": [
          0,
          1,
          2,
          3,
          4,
          5,
          6,
          7,
          8,
          9,
          10,
          11,
          12,
          13,
          14,
          15,
          16,
          17,
          18,
          19,
          20,
          21,
          22,
          23,
          24,
          25,
          26,
          27,
          28,
          29,
          30,
          31,
          32,
          33,
          34,
          35,
          36,
          37,
          38,
          39,
          40,
          41,
          42,
          43,
          44,
          45,
          46,
          47,
          48,
          49,
          50,
          51,
          52,
          53,
          54,
          55,
          56,
          57,
          58,
          59,
          60,
          61,
          62,
          63,
          64,
          65,
          66,
          67,
          68,
          69,
          70,
          71,
          72,
          73,
          74,
          75,
          76,
          77,
          78,
          79,
          80,
          81,
          82,
          83,
          84,
          85,
          86,
          87,
          88,
          89,
          90,
          91,
          92,
          93,
          94,
          95,
          96,
          97,
          98,
          99,
          100,
          101,
          102,
          103,
          104,
          105,
          106,
          107,
          108,
          109,
          110,
          111,
          112,
          113,
          114,
          115,
          116,
          117,
          118,
          119,
          120,
          121,
          122,
          123,
          124,
          125,
          126,
          127,
          128,
          129,
          130,
          131,
          132,
          133,
          134,
          135,
          136,
          137,
          138,
          139,
          140,
          141,
          142,
          143,
          144,
          145,
          146,
          147,
          148,
          149,
          150,
          151,
          152,
          153,
          154,
          155,
          156,
          157,
          158,
          159,
          160,
          161,
          162,
          163,
          164,
          165,
          166,
          167,
          168,
          169,
          170,
          171,
          172,
          173,
          174,
          175,
          176,
          177,
          178,
          179,
          180,
          181,
          182,
          183,
          184,
          185,
          186,
          187,
          188,
          189,
          190,
          191,
          192,
          193,
          194,
          195,
          196,
          197,
          198,
          199,
          200,
          201,
          202,
          203,
          204,
          205,
          206,
          207,
          208,
          209,
          210,
          211,
          212,
          213,
          214,
          215,
          216,
          217,
          218,
          219,
          220,
          221,
          222,
          223,
          224,
          225,
          226,
          227,
          228,
          229,
          230,
          231,
          232,
          233,
          234,
          235,
          236,
          237,
          238,
          239,
          240,
          241,
          242,
          243,
          244,
          245,
          246,
          247,
          248,
          249,
          250,
          251,
          252,
          253,
          254,
          255,
          256,
          257,
          258,
          259,
          260,
          261,
          262,
          263,
          264,
          265,
          266,
          267,
          268,
          269,
          270,
          271,
          272,
          273,
          274,
          275,
          276,
          277,
          278,
          279,
          280,
          281,
          282,
          283,
          284,
          285,
          286,
          287,
          288,
          289,
          290,
          291,
          292,
          293,
          294,
          295,
          296,
          297,
          298,
          299,
          300,
          301,
          302,
          303,
          304,
          305,
          306,
          307,
          308,
          309,
          310,
          311,
          312,
          313,
          314,
          315,
          316,
          317,
          318,
          319,
          320,
          321,
          322,
          323,
          324,
          325,
          326,
          327,
          328,
          329,
          330,
          331,
          332,
          333,
          334,
          335,
          336,
          337,
          338,
          339,
          340,
          341,
          342,
          343,
          344,
          345,
          346,
          347,
          348,
          349,
          350,
          351,
          352,
          353,
          354,
          355,
          356,
          357,
          358,
          359,
          360,
          361,
          362,
          363,
          364,
          365,
          366,
          367,
          368,
          369,
          370,
          371,
          372,
          373,
          374,
          375,
          376,
          377,
          378,
          379,
          380,
          381,
          382,
          383,
          384,
          385,
          386,
          387,
          388,
          389,
          390,
          391,
          392,
          393,
          394,
          395,
          396,
          397,
          398,
          399,
          400,
          401,
          402,
          403,
          404,
          405,
          406,
          407,
          408,
          409,
          410,
          411,
          412,
          413,
          414,
          415,
          416,
          417,
          418,
          419,
          420,
          421,
          422,
          423,
          424,
          425,
          426,
          427,
          428,
          429,
          430,
          431,
          432,
          433,
          434,
          435,
          436,
          437,
          438,
          439,
          440,
          441,
          442,
          443,
          444,
          445,
          446,
          447,
          448,
          449,
          450,
          451,
          452,
          453,
          454,
          455,
          456,
          457,
          458,
          459,
          460,
          461,
          462,
          463,
          464,
          465,
          466,
          467,
          468,
          469,
          470,
          471,
          472,
          473,
          474,
          475,
          476,
          477,
          478,
          479,
          480,
          481,
          482,
          483,
          484,
          485,
          486,
          487,
          488,
          489,
          490,
          491,
          492,
          493,
          494,
          495,
          496,
          497,
          498,
          499,
          500,
          501,
          502,
          503,
          504,
          505,
          506,
          507,
          508,
          509,
          510,
          511,
          512,
          513,
          514,
          515,
          516,
          517,
          518,
          519,
          520,
          521,
          522,
          523,
          524,
          525,
          526,
          527,
          528,
          529,
          530,
          531,
          532,
          533,
          534,
          535,
          536,
          537,
          538,
          539,
          540,
          541,
          542,
          543,
          544,
          545,
          546,
          547,
          548,
          549,
          550,
          551,
          552,
          553,
          554,
          555,
          556,
          557,
          558,
          559,
          560,
          561,
          562,
          563,
          564,
          565,
          566,
          567,
          568,
          569,
          570,
          571,
          572,
          573,
          574,
          575,
          576,
          577,
          578,
          579,
          580,
          581,
          582,
          583,
          584,
          585,
          586,
          587,
          588,
          589,
          590,
          591,
          592,
          593,
          594,
          595,
          596,
          597,
          598,
          599,
          600,
          601,
          602,
          603,
          604,
          605,
          606,
          607,
          608,
          609,
          610,
          611,
          612,
          613,
          614,
          615,
          616,
          617,
          618,
          619,
          620,
          621,
          622,
          623,
          624,
          625,
          626,
          627,
          628,
          629,
          630,
          631,
          632,
          633,
          634,
          635,
          636,
          637,
          638,
          639,
          640,
          641,
          642,
          643,
          644,
          645,
          646,
          647,
          648,
          649,
          650,
          651,
          652,
          653,
          654,
          655,
          656,
          657,
          658,
          659,
          660,
          661,
          662,
          663,
          664,
          665,
          666,
          667,
          668,
          669,
          670,
          671,
          672,
          673,
          674,
          675,
          676,
          677,
          678,
          679,
          680,
          681,
          682,
          683,
          684,
          685,
          686,
          687,
          688,
          689,
          690,
          691,
          692,
          693,
          694,
          695,
          696,
          697,
          698,
          699,
          700,
          701,
          702,
          703,
          704,
          705,
          706,
          707,
          708,
          709,
          710,
          711,
          712,
          713,
          714,
          715,
          716,
          717,
          718,
          719,
          720,
          721,
          722,
          723,
          724,
          725,
          726,
          727,
          728,
          729,
          730,
          731,
          732,
          733,
          734,
          735,
          736,
          737,
          738,
          739,
          740,
          741,
          742,
          743,
          744,
          745,
          746,
          747,
          748,
          749,
          750,
          751,
          752,
          753,
          754,
          755,
          756,
          757,
          758,
          759,
          760,
          761,
          762,
          763,
          764,
          765,
          766,
          767,
          768,
          769,
          770,
          771,
          772,
          773,
          774,
          775,
          776,
          777,
          778,
          779,
          780,
          781,
          782,
          783,
          784,
          785,
          786,
          787,
          788,
          789,
          790,
          791,
          792,
          793,
          794,
          795,
          796,
          797,
          798,
          799,
          800,
          801,
          802,
          803,
          804,
          805,
          806,
          807,
          808,
          809,
          810,
          811,
          812,
          813,
          814,
          815,
          816,
          817,
          818,
          819,
          820,
          821,
          822,
          823,
          824,
          825,
          826,
          827,
          828,
          829,
          830,
          831,
          832,
          833,
          834,
          835,
          836,
          837,
          838,
          839,
          840,
          841,
          842,
          843,
          844,
          845,
          846,
          847,
          848,
          849,
          850,
          851,
          852,
          853,
          854,
          855,
          856,
          857,
          858,
          859,
          860,
          861,
          862,
          863,
          864,
          865,
          866,
          867,
          868,
          869,
          870,
          871,
          872,
          873,
          874,
          875,
          876,
          877,
          878,
          879,
          880,
          881,
          882,
          883,
          884,
          885,
          886,
          887,
          888,
          889,
          890,
          891,
          892,
          893,
          894,
          895,
          896,
          897,
          898,
          899,
          900,
          901,
          902,
          903,
          904,
          905,
          906,
          907,
          908,
          909,
          910,
          911
         ],
         "xaxis": "x",
         "y": [
          -10,
          -10,
          1,
          -10,
          -10,
          -10,
          2,
          3,
          4,
          5,
          7,
          9,
          10,
          11,
          12,
          13,
          14,
          15,
          16,
          -10,
          18,
          -10,
          -10,
          21,
          24,
          25,
          26,
          27,
          28,
          29,
          -10,
          30,
          32,
          33,
          34,
          -10,
          -10,
          -10,
          -10,
          37,
          38,
          38,
          40,
          41,
          42,
          43,
          44,
          -10,
          46,
          47,
          48,
          49,
          -10,
          -10,
          51,
          52,
          53,
          54,
          55,
          56,
          57,
          58,
          59,
          60,
          62,
          63,
          -10,
          64,
          65,
          66,
          67,
          68,
          69,
          70,
          71,
          72,
          -10,
          73,
          74,
          -10,
          -10,
          76,
          77,
          79,
          80,
          82,
          83,
          84,
          85,
          86,
          88,
          89,
          -10,
          90,
          91,
          -10,
          -10,
          -10,
          -10,
          -10,
          95,
          97,
          98,
          99,
          -10,
          100,
          101,
          102,
          103,
          104,
          105,
          106,
          108,
          -10,
          109,
          111,
          -10,
          116,
          117,
          118,
          119,
          120,
          121,
          122,
          123,
          124,
          -10,
          126,
          127,
          129,
          130,
          131,
          132,
          135,
          137,
          138,
          143,
          -10,
          146,
          147,
          149,
          150,
          151,
          152,
          -10,
          155,
          -10,
          156,
          157,
          -10,
          159,
          160,
          161,
          163,
          -10,
          164,
          165,
          167,
          168,
          -10,
          169,
          170,
          172,
          173,
          174,
          -10,
          175,
          176,
          177,
          179,
          180,
          181,
          -10,
          182,
          184,
          186,
          187,
          188,
          -10,
          190,
          191,
          193,
          194,
          -10,
          196,
          197,
          -10,
          198,
          -10,
          200,
          204,
          205,
          206,
          207,
          208,
          209,
          211,
          213,
          214,
          215,
          216,
          217,
          218,
          219,
          -10,
          222,
          223,
          224,
          225,
          226,
          227,
          228,
          229,
          230,
          231,
          232,
          233,
          234,
          235,
          237,
          240,
          241,
          243,
          245,
          246,
          251,
          254,
          255,
          256,
          -10,
          257,
          258,
          259,
          260,
          261,
          262,
          263,
          264,
          266,
          267,
          268,
          -10,
          270,
          271,
          272,
          273,
          -10,
          276,
          277,
          278,
          279,
          280,
          -10,
          282,
          283,
          284,
          285,
          286,
          287,
          288,
          289,
          -10,
          -10,
          291,
          -10,
          292,
          293,
          -10,
          294,
          295,
          -10,
          -10,
          297,
          298,
          299,
          300,
          301,
          -10,
          302,
          305,
          306,
          307,
          308,
          309,
          310,
          314,
          317,
          318,
          320,
          321,
          322,
          323,
          324,
          327,
          328,
          329,
          330,
          331,
          332,
          335,
          336,
          338,
          340,
          341,
          342,
          -10,
          346,
          347,
          349,
          350,
          -10,
          351,
          356,
          357,
          360,
          361,
          363,
          368,
          370,
          371,
          -10,
          373,
          374,
          -10,
          379,
          381,
          384,
          -10,
          388,
          390,
          392,
          -10,
          393,
          394,
          395,
          397,
          -10,
          400,
          401,
          403,
          406,
          407,
          409,
          410,
          412,
          413,
          416,
          417,
          419,
          421,
          422,
          423,
          424,
          427,
          428,
          429,
          -10,
          430,
          432,
          433,
          -10,
          -10,
          434,
          435,
          436,
          -10,
          437,
          438,
          439,
          440,
          441,
          442,
          443,
          444,
          445,
          446,
          447,
          448,
          449,
          450,
          451,
          452,
          453,
          -10,
          -10,
          -10,
          -10,
          455,
          456,
          457,
          -10,
          459,
          460,
          461,
          462,
          -10,
          463,
          -10,
          -10,
          464,
          467,
          468,
          -10,
          471,
          472,
          476,
          -10,
          -10,
          -10,
          477,
          -10,
          480,
          481,
          -10,
          -10,
          482,
          483,
          484,
          486,
          488,
          489,
          490,
          492,
          494,
          495,
          -10,
          497,
          498,
          499,
          500,
          502,
          503,
          505,
          506,
          507,
          -10,
          508,
          509,
          -10,
          514,
          517,
          518,
          520,
          -10,
          522,
          523,
          524,
          -10,
          529,
          531,
          532,
          534,
          535,
          536,
          537,
          538,
          539,
          540,
          541,
          542,
          543,
          544,
          547,
          551,
          552,
          553,
          -10,
          554,
          556,
          -10,
          559,
          560,
          561,
          563,
          564,
          565,
          566,
          -10,
          568,
          569,
          -10,
          570,
          572,
          574,
          576,
          577,
          578,
          580,
          581,
          583,
          584,
          585,
          586,
          587,
          589,
          591,
          592,
          593,
          594,
          595,
          596,
          597,
          599,
          600,
          601,
          602,
          603,
          -10,
          605,
          606,
          607,
          608,
          609,
          611,
          615,
          616,
          617,
          618,
          619,
          621,
          622,
          623,
          624,
          625,
          627,
          628,
          629,
          630,
          632,
          633,
          634,
          635,
          636,
          637,
          638,
          639,
          641,
          642,
          643,
          645,
          646,
          647,
          648,
          649,
          650,
          -10,
          653,
          654,
          655,
          656,
          657,
          658,
          659,
          660,
          661,
          662,
          663,
          670,
          671,
          672,
          674,
          -10,
          675,
          676,
          677,
          678,
          679,
          680,
          682,
          683,
          684,
          687,
          689,
          691,
          692,
          693,
          694,
          695,
          696,
          698,
          700,
          701,
          702,
          704,
          705,
          706,
          707,
          708,
          711,
          712,
          -10,
          713,
          714,
          715,
          716,
          719,
          720,
          724,
          725,
          726,
          727,
          728,
          729,
          730,
          731,
          732,
          733,
          734,
          735,
          736,
          739,
          -10,
          740,
          -10,
          742,
          743,
          744,
          745,
          746,
          747,
          749,
          750,
          752,
          754,
          758,
          759,
          760,
          761,
          762,
          764,
          765,
          766,
          767,
          768,
          769,
          770,
          772,
          773,
          775,
          776,
          781,
          -10,
          782,
          783,
          784,
          785,
          786,
          788,
          789,
          790,
          791,
          792,
          796,
          797,
          798,
          799,
          801,
          802,
          804,
          806,
          808,
          813,
          815,
          817,
          818,
          819,
          820,
          821,
          822,
          823,
          824,
          825,
          827,
          830,
          831,
          832,
          833,
          834,
          835,
          836,
          838,
          839,
          841,
          844,
          845,
          846,
          847,
          -10,
          848,
          850,
          852,
          855,
          856,
          861,
          862,
          863,
          864,
          867,
          869,
          871,
          873,
          875,
          877,
          880,
          884,
          885,
          887,
          888,
          891,
          899,
          901,
          -10,
          903,
          904,
          909,
          911,
          912,
          913,
          -10,
          917,
          919,
          920,
          921,
          923,
          924,
          -10,
          -10,
          -10,
          927,
          -10,
          -10,
          -10,
          930,
          931,
          -10,
          936,
          -10,
          938,
          943,
          944,
          946,
          947,
          948,
          950,
          951,
          -10,
          955,
          959,
          960,
          963,
          964,
          965,
          967,
          968,
          970,
          971,
          972,
          973,
          975,
          976,
          977,
          978,
          979,
          980,
          981,
          984,
          986,
          987,
          988,
          989,
          990,
          995,
          996,
          997,
          998,
          999,
          1001,
          1002,
          1003,
          -10,
          1005,
          1006,
          1007,
          1009,
          1010,
          1011,
          1013,
          1014,
          1017,
          1018,
          1020,
          1021,
          1022,
          1023,
          1026,
          1028,
          1030,
          1032,
          1033,
          1034,
          1036,
          1037,
          1038,
          1040,
          1041,
          1042,
          1043,
          1046,
          1049,
          1052,
          1053,
          1054,
          1055,
          1056,
          -10,
          1059,
          1060,
          1061,
          1062,
          1063,
          -10,
          1065,
          -10,
          1066,
          1067,
          -10,
          1068,
          1069,
          1070,
          -10,
          1073,
          1076,
          1077,
          1078,
          1079,
          1080,
          1081,
          1085,
          1087,
          1088,
          1089,
          1090,
          1091,
          1093,
          1095,
          -10,
          1098,
          1100,
          -10,
          1104,
          1105,
          1108,
          1112,
          1114,
          1117,
          1118,
          1119,
          1121,
          1122,
          1123,
          1124,
          1125,
          1127,
          1128,
          1130,
          1132,
          1134,
          1135,
          1136,
          1137,
          1140,
          1141,
          1142,
          1144,
          1147,
          1148,
          1151,
          1152,
          1153,
          -10,
          1155,
          1157,
          1158,
          1160,
          -10,
          1161,
          -10,
          1163,
          1165,
          -10,
          1168,
          1171,
          1172,
          -10,
          1176,
          -10,
          1179,
          1180,
          1181,
          1183,
          1186,
          1189,
          1190,
          1196,
          1197,
          1198,
          1203,
          1204,
          1206,
          1207,
          1210,
          1211
         ],
         "yaxis": "y"
        }
       ],
       "layout": {
        "coloraxis": {
         "colorbar": {
          "title": {
           "text": "iou"
          }
         },
         "colorscale": [
          [
           0,
           "rgb(40,40,40)"
          ],
          [
           0.000001,
           "rgb(28,227,255)"
          ],
          [
           0.14,
           "rgb(56,199,255)"
          ],
          [
           0.29,
           "rgb(85,170,255)"
          ],
          [
           0.42,
           "rgb(113,142,255)"
          ],
          [
           0.57,
           "rgb(142,113,255)"
          ],
          [
           0.71,
           "rgb(170,85,255)"
          ],
          [
           0.86,
           "rgb(199,56,255)"
          ],
          [
           1,
           "rgb(227,28,255)"
          ]
         ]
        },
        "legend": {
         "itemsizing": "constant",
         "orientation": "h",
         "title": {
          "text": "type"
         },
         "tracegroupgap": 0
        },
        "shapes": [
         {
          "line": {
           "dash": "dash"
          },
          "type": "line",
          "x0": -5,
          "x1": -5,
          "xref": "x",
          "y0": 0,
          "y1": 1,
          "yref": "y domain"
         },
         {
          "line": {
           "dash": "dash"
          },
          "type": "line",
          "x0": 0,
          "x1": 1,
          "xref": "x domain",
          "y0": -5,
          "y1": -5,
          "yref": "y"
         }
        ],
        "template": {
         "data": {
          "bar": [
           {
            "error_x": {
             "color": "#2a3f5f"
            },
            "error_y": {
             "color": "#2a3f5f"
            },
            "marker": {
             "line": {
              "color": "#E5ECF6",
              "width": 0.5
             },
             "pattern": {
              "fillmode": "overlay",
              "size": 10,
              "solidity": 0.2
             }
            },
            "type": "bar"
           }
          ],
          "barpolar": [
           {
            "marker": {
             "line": {
              "color": "#E5ECF6",
              "width": 0.5
             },
             "pattern": {
              "fillmode": "overlay",
              "size": 10,
              "solidity": 0.2
             }
            },
            "type": "barpolar"
           }
          ],
          "carpet": [
           {
            "aaxis": {
             "endlinecolor": "#2a3f5f",
             "gridcolor": "white",
             "linecolor": "white",
             "minorgridcolor": "white",
             "startlinecolor": "#2a3f5f"
            },
            "baxis": {
             "endlinecolor": "#2a3f5f",
             "gridcolor": "white",
             "linecolor": "white",
             "minorgridcolor": "white",
             "startlinecolor": "#2a3f5f"
            },
            "type": "carpet"
           }
          ],
          "choropleth": [
           {
            "colorbar": {
             "outlinewidth": 0,
             "ticks": ""
            },
            "type": "choropleth"
           }
          ],
          "contour": [
           {
            "colorbar": {
             "outlinewidth": 0,
             "ticks": ""
            },
            "colorscale": [
             [
              0,
              "#0d0887"
             ],
             [
              0.1111111111111111,
              "#46039f"
             ],
             [
              0.2222222222222222,
              "#7201a8"
             ],
             [
              0.3333333333333333,
              "#9c179e"
             ],
             [
              0.4444444444444444,
              "#bd3786"
             ],
             [
              0.5555555555555556,
              "#d8576b"
             ],
             [
              0.6666666666666666,
              "#ed7953"
             ],
             [
              0.7777777777777778,
              "#fb9f3a"
             ],
             [
              0.8888888888888888,
              "#fdca26"
             ],
             [
              1,
              "#f0f921"
             ]
            ],
            "type": "contour"
           }
          ],
          "contourcarpet": [
           {
            "colorbar": {
             "outlinewidth": 0,
             "ticks": ""
            },
            "type": "contourcarpet"
           }
          ],
          "heatmap": [
           {
            "colorbar": {
             "outlinewidth": 0,
             "ticks": ""
            },
            "colorscale": [
             [
              0,
              "#0d0887"
             ],
             [
              0.1111111111111111,
              "#46039f"
             ],
             [
              0.2222222222222222,
              "#7201a8"
             ],
             [
              0.3333333333333333,
              "#9c179e"
             ],
             [
              0.4444444444444444,
              "#bd3786"
             ],
             [
              0.5555555555555556,
              "#d8576b"
             ],
             [
              0.6666666666666666,
              "#ed7953"
             ],
             [
              0.7777777777777778,
              "#fb9f3a"
             ],
             [
              0.8888888888888888,
              "#fdca26"
             ],
             [
              1,
              "#f0f921"
             ]
            ],
            "type": "heatmap"
           }
          ],
          "heatmapgl": [
           {
            "colorbar": {
             "outlinewidth": 0,
             "ticks": ""
            },
            "colorscale": [
             [
              0,
              "#0d0887"
             ],
             [
              0.1111111111111111,
              "#46039f"
             ],
             [
              0.2222222222222222,
              "#7201a8"
             ],
             [
              0.3333333333333333,
              "#9c179e"
             ],
             [
              0.4444444444444444,
              "#bd3786"
             ],
             [
              0.5555555555555556,
              "#d8576b"
             ],
             [
              0.6666666666666666,
              "#ed7953"
             ],
             [
              0.7777777777777778,
              "#fb9f3a"
             ],
             [
              0.8888888888888888,
              "#fdca26"
             ],
             [
              1,
              "#f0f921"
             ]
            ],
            "type": "heatmapgl"
           }
          ],
          "histogram": [
           {
            "marker": {
             "pattern": {
              "fillmode": "overlay",
              "size": 10,
              "solidity": 0.2
             }
            },
            "type": "histogram"
           }
          ],
          "histogram2d": [
           {
            "colorbar": {
             "outlinewidth": 0,
             "ticks": ""
            },
            "colorscale": [
             [
              0,
              "#0d0887"
             ],
             [
              0.1111111111111111,
              "#46039f"
             ],
             [
              0.2222222222222222,
              "#7201a8"
             ],
             [
              0.3333333333333333,
              "#9c179e"
             ],
             [
              0.4444444444444444,
              "#bd3786"
             ],
             [
              0.5555555555555556,
              "#d8576b"
             ],
             [
              0.6666666666666666,
              "#ed7953"
             ],
             [
              0.7777777777777778,
              "#fb9f3a"
             ],
             [
              0.8888888888888888,
              "#fdca26"
             ],
             [
              1,
              "#f0f921"
             ]
            ],
            "type": "histogram2d"
           }
          ],
          "histogram2dcontour": [
           {
            "colorbar": {
             "outlinewidth": 0,
             "ticks": ""
            },
            "colorscale": [
             [
              0,
              "#0d0887"
             ],
             [
              0.1111111111111111,
              "#46039f"
             ],
             [
              0.2222222222222222,
              "#7201a8"
             ],
             [
              0.3333333333333333,
              "#9c179e"
             ],
             [
              0.4444444444444444,
              "#bd3786"
             ],
             [
              0.5555555555555556,
              "#d8576b"
             ],
             [
              0.6666666666666666,
              "#ed7953"
             ],
             [
              0.7777777777777778,
              "#fb9f3a"
             ],
             [
              0.8888888888888888,
              "#fdca26"
             ],
             [
              1,
              "#f0f921"
             ]
            ],
            "type": "histogram2dcontour"
           }
          ],
          "mesh3d": [
           {
            "colorbar": {
             "outlinewidth": 0,
             "ticks": ""
            },
            "type": "mesh3d"
           }
          ],
          "parcoords": [
           {
            "line": {
             "colorbar": {
              "outlinewidth": 0,
              "ticks": ""
             }
            },
            "type": "parcoords"
           }
          ],
          "pie": [
           {
            "automargin": true,
            "type": "pie"
           }
          ],
          "scatter": [
           {
            "fillpattern": {
             "fillmode": "overlay",
             "size": 10,
             "solidity": 0.2
            },
            "type": "scatter"
           }
          ],
          "scatter3d": [
           {
            "line": {
             "colorbar": {
              "outlinewidth": 0,
              "ticks": ""
             }
            },
            "marker": {
             "colorbar": {
              "outlinewidth": 0,
              "ticks": ""
             }
            },
            "type": "scatter3d"
           }
          ],
          "scattercarpet": [
           {
            "marker": {
             "colorbar": {
              "outlinewidth": 0,
              "ticks": ""
             }
            },
            "type": "scattercarpet"
           }
          ],
          "scattergeo": [
           {
            "marker": {
             "colorbar": {
              "outlinewidth": 0,
              "ticks": ""
             }
            },
            "type": "scattergeo"
           }
          ],
          "scattergl": [
           {
            "marker": {
             "colorbar": {
              "outlinewidth": 0,
              "ticks": ""
             }
            },
            "type": "scattergl"
           }
          ],
          "scattermapbox": [
           {
            "marker": {
             "colorbar": {
              "outlinewidth": 0,
              "ticks": ""
             }
            },
            "type": "scattermapbox"
           }
          ],
          "scatterpolar": [
           {
            "marker": {
             "colorbar": {
              "outlinewidth": 0,
              "ticks": ""
             }
            },
            "type": "scatterpolar"
           }
          ],
          "scatterpolargl": [
           {
            "marker": {
             "colorbar": {
              "outlinewidth": 0,
              "ticks": ""
             }
            },
            "type": "scatterpolargl"
           }
          ],
          "scatterternary": [
           {
            "marker": {
             "colorbar": {
              "outlinewidth": 0,
              "ticks": ""
             }
            },
            "type": "scatterternary"
           }
          ],
          "surface": [
           {
            "colorbar": {
             "outlinewidth": 0,
             "ticks": ""
            },
            "colorscale": [
             [
              0,
              "#0d0887"
             ],
             [
              0.1111111111111111,
              "#46039f"
             ],
             [
              0.2222222222222222,
              "#7201a8"
             ],
             [
              0.3333333333333333,
              "#9c179e"
             ],
             [
              0.4444444444444444,
              "#bd3786"
             ],
             [
              0.5555555555555556,
              "#d8576b"
             ],
             [
              0.6666666666666666,
              "#ed7953"
             ],
             [
              0.7777777777777778,
              "#fb9f3a"
             ],
             [
              0.8888888888888888,
              "#fdca26"
             ],
             [
              1,
              "#f0f921"
             ]
            ],
            "type": "surface"
           }
          ],
          "table": [
           {
            "cells": {
             "fill": {
              "color": "#EBF0F8"
             },
             "line": {
              "color": "white"
             }
            },
            "header": {
             "fill": {
              "color": "#C8D4E3"
             },
             "line": {
              "color": "white"
             }
            },
            "type": "table"
           }
          ]
         },
         "layout": {
          "annotationdefaults": {
           "arrowcolor": "#2a3f5f",
           "arrowhead": 0,
           "arrowwidth": 1
          },
          "autotypenumbers": "strict",
          "coloraxis": {
           "colorbar": {
            "outlinewidth": 0,
            "ticks": ""
           }
          },
          "colorscale": {
           "diverging": [
            [
             0,
             "#8e0152"
            ],
            [
             0.1,
             "#c51b7d"
            ],
            [
             0.2,
             "#de77ae"
            ],
            [
             0.3,
             "#f1b6da"
            ],
            [
             0.4,
             "#fde0ef"
            ],
            [
             0.5,
             "#f7f7f7"
            ],
            [
             0.6,
             "#e6f5d0"
            ],
            [
             0.7,
             "#b8e186"
            ],
            [
             0.8,
             "#7fbc41"
            ],
            [
             0.9,
             "#4d9221"
            ],
            [
             1,
             "#276419"
            ]
           ],
           "sequential": [
            [
             0,
             "#0d0887"
            ],
            [
             0.1111111111111111,
             "#46039f"
            ],
            [
             0.2222222222222222,
             "#7201a8"
            ],
            [
             0.3333333333333333,
             "#9c179e"
            ],
            [
             0.4444444444444444,
             "#bd3786"
            ],
            [
             0.5555555555555556,
             "#d8576b"
            ],
            [
             0.6666666666666666,
             "#ed7953"
            ],
            [
             0.7777777777777778,
             "#fb9f3a"
            ],
            [
             0.8888888888888888,
             "#fdca26"
            ],
            [
             1,
             "#f0f921"
            ]
           ],
           "sequentialminus": [
            [
             0,
             "#0d0887"
            ],
            [
             0.1111111111111111,
             "#46039f"
            ],
            [
             0.2222222222222222,
             "#7201a8"
            ],
            [
             0.3333333333333333,
             "#9c179e"
            ],
            [
             0.4444444444444444,
             "#bd3786"
            ],
            [
             0.5555555555555556,
             "#d8576b"
            ],
            [
             0.6666666666666666,
             "#ed7953"
            ],
            [
             0.7777777777777778,
             "#fb9f3a"
            ],
            [
             0.8888888888888888,
             "#fdca26"
            ],
            [
             1,
             "#f0f921"
            ]
           ]
          },
          "colorway": [
           "#636efa",
           "#EF553B",
           "#00cc96",
           "#ab63fa",
           "#FFA15A",
           "#19d3f3",
           "#FF6692",
           "#B6E880",
           "#FF97FF",
           "#FECB52"
          ],
          "font": {
           "color": "#2a3f5f"
          },
          "geo": {
           "bgcolor": "white",
           "lakecolor": "white",
           "landcolor": "#E5ECF6",
           "showlakes": true,
           "showland": true,
           "subunitcolor": "white"
          },
          "hoverlabel": {
           "align": "left"
          },
          "hovermode": "closest",
          "mapbox": {
           "style": "light"
          },
          "paper_bgcolor": "white",
          "plot_bgcolor": "#E5ECF6",
          "polar": {
           "angularaxis": {
            "gridcolor": "white",
            "linecolor": "white",
            "ticks": ""
           },
           "bgcolor": "#E5ECF6",
           "radialaxis": {
            "gridcolor": "white",
            "linecolor": "white",
            "ticks": ""
           }
          },
          "scene": {
           "xaxis": {
            "backgroundcolor": "#E5ECF6",
            "gridcolor": "white",
            "gridwidth": 2,
            "linecolor": "white",
            "showbackground": true,
            "ticks": "",
            "zerolinecolor": "white"
           },
           "yaxis": {
            "backgroundcolor": "#E5ECF6",
            "gridcolor": "white",
            "gridwidth": 2,
            "linecolor": "white",
            "showbackground": true,
            "ticks": "",
            "zerolinecolor": "white"
           },
           "zaxis": {
            "backgroundcolor": "#E5ECF6",
            "gridcolor": "white",
            "gridwidth": 2,
            "linecolor": "white",
            "showbackground": true,
            "ticks": "",
            "zerolinecolor": "white"
           }
          },
          "shapedefaults": {
           "line": {
            "color": "#2a3f5f"
           }
          },
          "ternary": {
           "aaxis": {
            "gridcolor": "white",
            "linecolor": "white",
            "ticks": ""
           },
           "baxis": {
            "gridcolor": "white",
            "linecolor": "white",
            "ticks": ""
           },
           "bgcolor": "#E5ECF6",
           "caxis": {
            "gridcolor": "white",
            "linecolor": "white",
            "ticks": ""
           }
          },
          "title": {
           "x": 0.05
          },
          "xaxis": {
           "automargin": true,
           "gridcolor": "white",
           "linecolor": "white",
           "ticks": "",
           "title": {
            "standoff": 15
           },
           "zerolinecolor": "white",
           "zerolinewidth": 2
          },
          "yaxis": {
           "automargin": true,
           "gridcolor": "white",
           "linecolor": "white",
           "ticks": "",
           "title": {
            "standoff": 15
           },
           "zerolinecolor": "white",
           "zerolinewidth": 2
          }
         }
        },
        "title": {
         "text": "by-Event evaluation summary<br><sup>F1(@IoU>0.3)=0.7421 | minimum TP IoU: 0.3003</sup>"
        },
        "xaxis": {
         "anchor": "y",
         "domain": [
          0,
          1
         ],
         "range": [
          -20,
          922
         ],
         "title": {
          "text": "912 ANNOTATIONS | recall(@IoU>0.3)= 0.8662"
         }
        },
        "yaxis": {
         "anchor": "x",
         "domain": [
          0,
          1
         ],
         "range": [
          -20,
          1227
         ],
         "title": {
          "text": "1217 DETECTIONS | precision(@IoU>0.3)= 0.6491"
         }
        }
       }
      }
     },
     "metadata": {},
     "output_type": "display_data"
    }
   ],
   "source": [
    "annotationPairToGraph(gtAnnotations,processedAnnotations)"
   ]
  }
 ],
 "metadata": {
  "kernelspec": {
   "display_name": "Python 3.10.6 ('venv': venv)",
   "language": "python",
   "name": "python3"
  },
  "language_info": {
   "codemirror_mode": {
    "name": "ipython",
    "version": 3
   },
   "file_extension": ".py",
   "mimetype": "text/x-python",
   "name": "python",
   "nbconvert_exporter": "python",
   "pygments_lexer": "ipython3",
   "version": "3.10.6"
  },
  "orig_nbformat": 4,
  "vscode": {
   "interpreter": {
    "hash": "69eb08d3e713eff25484e90b18c01e15df779e80a0db295f9ddc53faed0455be"
   }
  }
 },
 "nbformat": 4,
 "nbformat_minor": 2
}
