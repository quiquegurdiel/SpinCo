{
 "cells": [
  {
   "attachments": {},
   "cell_type": "markdown",
   "metadata": {},
   "source": [
    "# Evaluation of experiments - E2\n",
    "fistly define the UUID of the experiment to use"
   ]
  },
  {
   "cell_type": "code",
   "execution_count": 1,
   "metadata": {},
   "outputs": [],
   "source": [
    "experimentId=\"c9524f21-f587-421e-bfc2-23e64ea50911\""
   ]
  },
  {
   "cell_type": "markdown",
   "metadata": {},
   "source": [
    "-------------------------------------------------------"
   ]
  },
  {
   "cell_type": "code",
   "execution_count": 2,
   "metadata": {},
   "outputs": [],
   "source": [
    "#external libraries\n",
    "import numpy as np\n",
    "import os\n",
    "import matplotlib.pyplot as plt\n",
    "import matplotlib.colors as clt\n",
    "import plotly\n",
    "import plotly.subplots as sb\n",
    "import plotly.express as px\n",
    "import plotly.graph_objects as go\n",
    "import dotenv\n",
    "import pandas as pd\n",
    "import scipy.fft as fft\n",
    "import scipy.signal as sg\n",
    "import scipy.io as sio\n",
    "import pickle as pkl\n",
    "import xgboost as xgb\n",
    "import time\n",
    "import sklearn.metrics as skm\n",
    "\n",
    "#project library\n",
    "from spinco import *\n",
    "\n",
    "#environment variables\n",
    "dotenv.load_dotenv('lab.env')\n",
    "\n",
    "#project variables\n",
    "datapath=os.environ['DATAPATH']\n",
    "cognipath=datapath+\"\\\\COGNITION\"\n",
    "dreamspath=datapath+\"\\\\DREAMS\"\n",
    "masspath=datapath+\"\\\\MASS\"\n"
   ]
  },
  {
   "cell_type": "markdown",
   "metadata": {},
   "source": [
    "## load mass"
   ]
  },
  {
   "cell_type": "code",
   "execution_count": 3,
   "metadata": {},
   "outputs": [],
   "source": [
    "samplerate=200  #Should rethink this"
   ]
  },
  {
   "cell_type": "code",
   "execution_count": 4,
   "metadata": {},
   "outputs": [],
   "source": [
    "annotations, signalsMetadata = loadMASSSpindles(masspath,forceSamplerate=samplerate)"
   ]
  },
  {
   "cell_type": "code",
   "execution_count": 5,
   "metadata": {},
   "outputs": [
    {
     "data": {
      "text/plain": [
       "33458"
      ]
     },
     "execution_count": 5,
     "metadata": {},
     "output_type": "execute_result"
    }
   ],
   "source": [
    "annotations=annotations[annotations.type=='spindle'].reset_index(drop=True)\n",
    "len(annotations)"
   ]
  },
  {
   "cell_type": "code",
   "execution_count": 6,
   "metadata": {},
   "outputs": [
    {
     "data": {
      "text/plain": [
       "33269"
      ]
     },
     "execution_count": 6,
     "metadata": {},
     "output_type": "execute_result"
    }
   ],
   "source": [
    "minDuration=0.3\n",
    "maxDuration=5\n",
    "annotations=annotations[annotations.duration>minDuration].reset_index(drop=True)\n",
    "annotations=annotations[annotations.duration<maxDuration].reset_index(drop=True)\n",
    "len(annotations)"
   ]
  },
  {
   "cell_type": "code",
   "execution_count": 7,
   "metadata": {},
   "outputs": [
    {
     "data": {
      "text/html": [
       "<div>\n",
       "<style scoped>\n",
       "    .dataframe tbody tr th:only-of-type {\n",
       "        vertical-align: middle;\n",
       "    }\n",
       "\n",
       "    .dataframe tbody tr th {\n",
       "        vertical-align: top;\n",
       "    }\n",
       "\n",
       "    .dataframe thead th {\n",
       "        text-align: right;\n",
       "    }\n",
       "</style>\n",
       "<table border=\"1\" class=\"dataframe\">\n",
       "  <thead>\n",
       "    <tr style=\"text-align: right;\">\n",
       "      <th></th>\n",
       "      <th>subjectId</th>\n",
       "      <th>file</th>\n",
       "      <th>channel</th>\n",
       "      <th>duration</th>\n",
       "      <th>samplerate</th>\n",
       "      <th>isOriginalSamplerate</th>\n",
       "      <th>database</th>\n",
       "    </tr>\n",
       "  </thead>\n",
       "  <tbody>\n",
       "    <tr>\n",
       "      <th>0</th>\n",
       "      <td>0001</td>\n",
       "      <td>MASS_0001.pkl</td>\n",
       "      <td>C3-CLE</td>\n",
       "      <td>28956.0</td>\n",
       "      <td>200</td>\n",
       "      <td>False</td>\n",
       "      <td>MASS</td>\n",
       "    </tr>\n",
       "    <tr>\n",
       "      <th>1</th>\n",
       "      <td>0002</td>\n",
       "      <td>MASS_0002.pkl</td>\n",
       "      <td>C3-CLE</td>\n",
       "      <td>35016.0</td>\n",
       "      <td>200</td>\n",
       "      <td>False</td>\n",
       "      <td>MASS</td>\n",
       "    </tr>\n",
       "    <tr>\n",
       "      <th>2</th>\n",
       "      <td>0003</td>\n",
       "      <td>MASS_0003.pkl</td>\n",
       "      <td>C3-CLE</td>\n",
       "      <td>36760.0</td>\n",
       "      <td>200</td>\n",
       "      <td>False</td>\n",
       "      <td>MASS</td>\n",
       "    </tr>\n",
       "    <tr>\n",
       "      <th>3</th>\n",
       "      <td>0004</td>\n",
       "      <td>MASS_0004.pkl</td>\n",
       "      <td>C3-CLE</td>\n",
       "      <td>28004.0</td>\n",
       "      <td>200</td>\n",
       "      <td>False</td>\n",
       "      <td>MASS</td>\n",
       "    </tr>\n",
       "    <tr>\n",
       "      <th>4</th>\n",
       "      <td>0005</td>\n",
       "      <td>MASS_0005.pkl</td>\n",
       "      <td>C3-CLE</td>\n",
       "      <td>31244.0</td>\n",
       "      <td>200</td>\n",
       "      <td>False</td>\n",
       "      <td>MASS</td>\n",
       "    </tr>\n",
       "  </tbody>\n",
       "</table>\n",
       "</div>"
      ],
      "text/plain": [
       "  subjectId           file channel  duration  samplerate  \\\n",
       "0      0001  MASS_0001.pkl  C3-CLE   28956.0         200   \n",
       "1      0002  MASS_0002.pkl  C3-CLE   35016.0         200   \n",
       "2      0003  MASS_0003.pkl  C3-CLE   36760.0         200   \n",
       "3      0004  MASS_0004.pkl  C3-CLE   28004.0         200   \n",
       "4      0005  MASS_0005.pkl  C3-CLE   31244.0         200   \n",
       "\n",
       "   isOriginalSamplerate database  \n",
       "0                 False     MASS  \n",
       "1                 False     MASS  \n",
       "2                 False     MASS  \n",
       "3                 False     MASS  \n",
       "4                 False     MASS  "
      ]
     },
     "execution_count": 7,
     "metadata": {},
     "output_type": "execute_result"
    }
   ],
   "source": [
    "signalsMetadata.head()"
   ]
  },
  {
   "cell_type": "markdown",
   "metadata": {},
   "source": [
    "## Load experiment results"
   ]
  },
  {
   "cell_type": "code",
   "execution_count": 8,
   "metadata": {},
   "outputs": [],
   "source": [
    "experimentModels, featureSelection = loadExperiment(experimentId,datapath)"
   ]
  },
  {
   "cell_type": "code",
   "execution_count": 9,
   "metadata": {},
   "outputs": [
    {
     "data": {
      "text/html": [
       "<div>\n",
       "<style scoped>\n",
       "    .dataframe tbody tr th:only-of-type {\n",
       "        vertical-align: middle;\n",
       "    }\n",
       "\n",
       "    .dataframe tbody tr th {\n",
       "        vertical-align: top;\n",
       "    }\n",
       "\n",
       "    .dataframe thead th {\n",
       "        text-align: right;\n",
       "    }\n",
       "</style>\n",
       "<table border=\"1\" class=\"dataframe\">\n",
       "  <thead>\n",
       "    <tr style=\"text-align: right;\">\n",
       "      <th></th>\n",
       "      <th>criteriumId</th>\n",
       "      <th>criteriumName</th>\n",
       "      <th>labelerIdList</th>\n",
       "      <th>train</th>\n",
       "      <th>val</th>\n",
       "      <th>test</th>\n",
       "      <th>modelId</th>\n",
       "      <th>spindleTimeRate</th>\n",
       "    </tr>\n",
       "  </thead>\n",
       "  <tbody>\n",
       "    <tr>\n",
       "      <th>0</th>\n",
       "      <td>0001</td>\n",
       "      <td>E1</td>\n",
       "      <td>[0001]</td>\n",
       "      <td>[0003, 0005, 0006, 0007, 0009, 0010, 0011, 001...</td>\n",
       "      <td>[0003, 0005, 0006, 0007, 0009, 0010, 0011, 001...</td>\n",
       "      <td>[0001, 0002, 0014]</td>\n",
       "      <td>eb21a368-ea1e-437e-8bc9-5f3b7c717a5b</td>\n",
       "      <td>0.016894</td>\n",
       "    </tr>\n",
       "    <tr>\n",
       "      <th>1</th>\n",
       "      <td>0001</td>\n",
       "      <td>E1</td>\n",
       "      <td>[0001]</td>\n",
       "      <td>[0001, 0002, 0003, 0005, 0007, 0011, 0012, 001...</td>\n",
       "      <td>[0001, 0002, 0003, 0005, 0007, 0011, 0012, 001...</td>\n",
       "      <td>[0006, 0010, 0009]</td>\n",
       "      <td>a025f441-a68d-43d3-a521-fb35438037fd</td>\n",
       "      <td>0.018934</td>\n",
       "    </tr>\n",
       "    <tr>\n",
       "      <th>2</th>\n",
       "      <td>0001</td>\n",
       "      <td>E1</td>\n",
       "      <td>[0001]</td>\n",
       "      <td>[0001, 0002, 0003, 0005, 0006, 0007, 0009, 001...</td>\n",
       "      <td>[0001, 0002, 0003, 0005, 0006, 0007, 0009, 001...</td>\n",
       "      <td>[0011, 0017, 0018]</td>\n",
       "      <td>7596519c-99e5-46df-bc33-f2a92c47d406</td>\n",
       "      <td>0.017757</td>\n",
       "    </tr>\n",
       "    <tr>\n",
       "      <th>3</th>\n",
       "      <td>0001</td>\n",
       "      <td>E1</td>\n",
       "      <td>[0001]</td>\n",
       "      <td>[0001, 0002, 0005, 0006, 0009, 0010, 0011, 001...</td>\n",
       "      <td>[0001, 0002, 0005, 0006, 0009, 0010, 0011, 001...</td>\n",
       "      <td>[0003, 0007, 0019]</td>\n",
       "      <td>c80c584e-d2fc-45cf-9afd-bab63dd6c4cc</td>\n",
       "      <td>0.020286</td>\n",
       "    </tr>\n",
       "    <tr>\n",
       "      <th>4</th>\n",
       "      <td>0001</td>\n",
       "      <td>E1</td>\n",
       "      <td>[0001]</td>\n",
       "      <td>[0001, 0002, 0003, 0006, 0007, 0009, 0010, 001...</td>\n",
       "      <td>[0001, 0002, 0003, 0006, 0007, 0009, 0010, 001...</td>\n",
       "      <td>[0005, 0012, 0013]</td>\n",
       "      <td>bfdf80a2-d149-431c-a1d0-dc0e585f5dc9</td>\n",
       "      <td>0.019836</td>\n",
       "    </tr>\n",
       "  </tbody>\n",
       "</table>\n",
       "</div>"
      ],
      "text/plain": [
       "  criteriumId criteriumName labelerIdList  \\\n",
       "0        0001            E1        [0001]   \n",
       "1        0001            E1        [0001]   \n",
       "2        0001            E1        [0001]   \n",
       "3        0001            E1        [0001]   \n",
       "4        0001            E1        [0001]   \n",
       "\n",
       "                                               train  \\\n",
       "0  [0003, 0005, 0006, 0007, 0009, 0010, 0011, 001...   \n",
       "1  [0001, 0002, 0003, 0005, 0007, 0011, 0012, 001...   \n",
       "2  [0001, 0002, 0003, 0005, 0006, 0007, 0009, 001...   \n",
       "3  [0001, 0002, 0005, 0006, 0009, 0010, 0011, 001...   \n",
       "4  [0001, 0002, 0003, 0006, 0007, 0009, 0010, 001...   \n",
       "\n",
       "                                                 val                test  \\\n",
       "0  [0003, 0005, 0006, 0007, 0009, 0010, 0011, 001...  [0001, 0002, 0014]   \n",
       "1  [0001, 0002, 0003, 0005, 0007, 0011, 0012, 001...  [0006, 0010, 0009]   \n",
       "2  [0001, 0002, 0003, 0005, 0006, 0007, 0009, 001...  [0011, 0017, 0018]   \n",
       "3  [0001, 0002, 0005, 0006, 0009, 0010, 0011, 001...  [0003, 0007, 0019]   \n",
       "4  [0001, 0002, 0003, 0006, 0007, 0009, 0010, 001...  [0005, 0012, 0013]   \n",
       "\n",
       "                                modelId  spindleTimeRate  \n",
       "0  eb21a368-ea1e-437e-8bc9-5f3b7c717a5b         0.016894  \n",
       "1  a025f441-a68d-43d3-a521-fb35438037fd         0.018934  \n",
       "2  7596519c-99e5-46df-bc33-f2a92c47d406         0.017757  \n",
       "3  c80c584e-d2fc-45cf-9afd-bab63dd6c4cc         0.020286  \n",
       "4  bfdf80a2-d149-431c-a1d0-dc0e585f5dc9         0.019836  "
      ]
     },
     "execution_count": 9,
     "metadata": {},
     "output_type": "execute_result"
    }
   ],
   "source": [
    "experimentModels.head()"
   ]
  },
  {
   "cell_type": "code",
   "execution_count": 10,
   "metadata": {},
   "outputs": [
    {
     "data": {
      "text/html": [
       "<div>\n",
       "<style scoped>\n",
       "    .dataframe tbody tr th:only-of-type {\n",
       "        vertical-align: middle;\n",
       "    }\n",
       "\n",
       "    .dataframe tbody tr th {\n",
       "        vertical-align: top;\n",
       "    }\n",
       "\n",
       "    .dataframe thead th {\n",
       "        text-align: right;\n",
       "    }\n",
       "</style>\n",
       "<table border=\"1\" class=\"dataframe\">\n",
       "  <thead>\n",
       "    <tr style=\"text-align: right;\">\n",
       "      <th></th>\n",
       "      <th>window</th>\n",
       "      <th>characteristic</th>\n",
       "      <th>bandName</th>\n",
       "      <th>score</th>\n",
       "    </tr>\n",
       "  </thead>\n",
       "  <tbody>\n",
       "    <tr>\n",
       "      <th>0</th>\n",
       "      <td>2</td>\n",
       "      <td>hjortActivity</td>\n",
       "      <td>beta2</td>\n",
       "      <td>69.0</td>\n",
       "    </tr>\n",
       "    <tr>\n",
       "      <th>1</th>\n",
       "      <td>1</td>\n",
       "      <td>hjortActivity</td>\n",
       "      <td>sigma</td>\n",
       "      <td>63.0</td>\n",
       "    </tr>\n",
       "    <tr>\n",
       "      <th>2</th>\n",
       "      <td>2</td>\n",
       "      <td>hjortActivity</td>\n",
       "      <td>beta1</td>\n",
       "      <td>42.0</td>\n",
       "    </tr>\n",
       "    <tr>\n",
       "      <th>3</th>\n",
       "      <td>2</td>\n",
       "      <td>hjortActivity</td>\n",
       "      <td>delta2</td>\n",
       "      <td>41.0</td>\n",
       "    </tr>\n",
       "    <tr>\n",
       "      <th>4</th>\n",
       "      <td>1.5</td>\n",
       "      <td>sigmaIndex</td>\n",
       "      <td>broadband</td>\n",
       "      <td>39.0</td>\n",
       "    </tr>\n",
       "    <tr>\n",
       "      <th>5</th>\n",
       "      <td>2</td>\n",
       "      <td>sigmaIndex</td>\n",
       "      <td>broadband</td>\n",
       "      <td>39.0</td>\n",
       "    </tr>\n",
       "    <tr>\n",
       "      <th>6</th>\n",
       "      <td>2</td>\n",
       "      <td>hjortActivity</td>\n",
       "      <td>theta</td>\n",
       "      <td>38.0</td>\n",
       "    </tr>\n",
       "    <tr>\n",
       "      <th>7</th>\n",
       "      <td>2</td>\n",
       "      <td>hjortMobility</td>\n",
       "      <td>beta1</td>\n",
       "      <td>37.0</td>\n",
       "    </tr>\n",
       "    <tr>\n",
       "      <th>8</th>\n",
       "      <td>2</td>\n",
       "      <td>hjortActivity</td>\n",
       "      <td>alpha</td>\n",
       "      <td>35.0</td>\n",
       "    </tr>\n",
       "    <tr>\n",
       "      <th>9</th>\n",
       "      <td>1</td>\n",
       "      <td>sigmaIndex</td>\n",
       "      <td>broadband</td>\n",
       "      <td>34.0</td>\n",
       "    </tr>\n",
       "    <tr>\n",
       "      <th>10</th>\n",
       "      <td>2</td>\n",
       "      <td>hjortMobility</td>\n",
       "      <td>sigma</td>\n",
       "      <td>32.0</td>\n",
       "    </tr>\n",
       "    <tr>\n",
       "      <th>11</th>\n",
       "      <td>1.5</td>\n",
       "      <td>hjortActivity</td>\n",
       "      <td>beta2</td>\n",
       "      <td>30.0</td>\n",
       "    </tr>\n",
       "    <tr>\n",
       "      <th>12</th>\n",
       "      <td>2</td>\n",
       "      <td>hjortMobility</td>\n",
       "      <td>beta2</td>\n",
       "      <td>29.0</td>\n",
       "    </tr>\n",
       "    <tr>\n",
       "      <th>13</th>\n",
       "      <td>2</td>\n",
       "      <td>hjortMobility</td>\n",
       "      <td>alpha</td>\n",
       "      <td>28.0</td>\n",
       "    </tr>\n",
       "    <tr>\n",
       "      <th>14</th>\n",
       "      <td>0.5</td>\n",
       "      <td>sigmaIndex</td>\n",
       "      <td>broadband</td>\n",
       "      <td>28.0</td>\n",
       "    </tr>\n",
       "    <tr>\n",
       "      <th>15</th>\n",
       "      <td>2</td>\n",
       "      <td>hjortMobility</td>\n",
       "      <td>delta1</td>\n",
       "      <td>28.0</td>\n",
       "    </tr>\n",
       "    <tr>\n",
       "      <th>16</th>\n",
       "      <td>2</td>\n",
       "      <td>hjortActivity</td>\n",
       "      <td>sigma</td>\n",
       "      <td>27.0</td>\n",
       "    </tr>\n",
       "    <tr>\n",
       "      <th>17</th>\n",
       "      <td>2</td>\n",
       "      <td>petrosian</td>\n",
       "      <td>broadband</td>\n",
       "      <td>27.0</td>\n",
       "    </tr>\n",
       "    <tr>\n",
       "      <th>18</th>\n",
       "      <td>2</td>\n",
       "      <td>hjortActivity</td>\n",
       "      <td>broadband</td>\n",
       "      <td>26.0</td>\n",
       "    </tr>\n",
       "    <tr>\n",
       "      <th>19</th>\n",
       "      <td>1.5</td>\n",
       "      <td>hjortActivity</td>\n",
       "      <td>sigma</td>\n",
       "      <td>26.0</td>\n",
       "    </tr>\n",
       "    <tr>\n",
       "      <th>20</th>\n",
       "      <td>1.5</td>\n",
       "      <td>hjortActivity</td>\n",
       "      <td>alpha</td>\n",
       "      <td>25.0</td>\n",
       "    </tr>\n",
       "    <tr>\n",
       "      <th>21</th>\n",
       "      <td>0.5</td>\n",
       "      <td>hjortActivity</td>\n",
       "      <td>alpha</td>\n",
       "      <td>24.0</td>\n",
       "    </tr>\n",
       "    <tr>\n",
       "      <th>22</th>\n",
       "      <td>1</td>\n",
       "      <td>hjortActivity</td>\n",
       "      <td>theta</td>\n",
       "      <td>23.0</td>\n",
       "    </tr>\n",
       "    <tr>\n",
       "      <th>23</th>\n",
       "      <td>1.5</td>\n",
       "      <td>petrosian</td>\n",
       "      <td>broadband</td>\n",
       "      <td>22.0</td>\n",
       "    </tr>\n",
       "    <tr>\n",
       "      <th>24</th>\n",
       "      <td>2</td>\n",
       "      <td>hjortMobility</td>\n",
       "      <td>broadband</td>\n",
       "      <td>22.0</td>\n",
       "    </tr>\n",
       "    <tr>\n",
       "      <th>25</th>\n",
       "      <td>1.5</td>\n",
       "      <td>hjortActivity</td>\n",
       "      <td>theta</td>\n",
       "      <td>22.0</td>\n",
       "    </tr>\n",
       "  </tbody>\n",
       "</table>\n",
       "</div>"
      ],
      "text/plain": [
       "   window characteristic   bandName  score\n",
       "0       2  hjortActivity      beta2   69.0\n",
       "1       1  hjortActivity      sigma   63.0\n",
       "2       2  hjortActivity      beta1   42.0\n",
       "3       2  hjortActivity     delta2   41.0\n",
       "4     1.5     sigmaIndex  broadband   39.0\n",
       "5       2     sigmaIndex  broadband   39.0\n",
       "6       2  hjortActivity      theta   38.0\n",
       "7       2  hjortMobility      beta1   37.0\n",
       "8       2  hjortActivity      alpha   35.0\n",
       "9       1     sigmaIndex  broadband   34.0\n",
       "10      2  hjortMobility      sigma   32.0\n",
       "11    1.5  hjortActivity      beta2   30.0\n",
       "12      2  hjortMobility      beta2   29.0\n",
       "13      2  hjortMobility      alpha   28.0\n",
       "14    0.5     sigmaIndex  broadband   28.0\n",
       "15      2  hjortMobility     delta1   28.0\n",
       "16      2  hjortActivity      sigma   27.0\n",
       "17      2      petrosian  broadband   27.0\n",
       "18      2  hjortActivity  broadband   26.0\n",
       "19    1.5  hjortActivity      sigma   26.0\n",
       "20    1.5  hjortActivity      alpha   25.0\n",
       "21    0.5  hjortActivity      alpha   24.0\n",
       "22      1  hjortActivity      theta   23.0\n",
       "23    1.5      petrosian  broadband   22.0\n",
       "24      2  hjortMobility  broadband   22.0\n",
       "25    1.5  hjortActivity      theta   22.0"
      ]
     },
     "execution_count": 10,
     "metadata": {},
     "output_type": "execute_result"
    }
   ],
   "source": [
    "featureSelection"
   ]
  },
  {
   "attachments": {},
   "cell_type": "markdown",
   "metadata": {},
   "source": [
    "## Optimal hyperparameter estimation with E2 criterium\n",
    "we test the optimal points for the prediction threshold and number of boost iterations in the different validation groups"
   ]
  },
  {
   "cell_type": "code",
   "execution_count": 11,
   "metadata": {},
   "outputs": [
    {
     "data": {
      "text/html": [
       "<div>\n",
       "<style scoped>\n",
       "    .dataframe tbody tr th:only-of-type {\n",
       "        vertical-align: middle;\n",
       "    }\n",
       "\n",
       "    .dataframe tbody tr th {\n",
       "        vertical-align: top;\n",
       "    }\n",
       "\n",
       "    .dataframe thead th {\n",
       "        text-align: right;\n",
       "    }\n",
       "</style>\n",
       "<table border=\"1\" class=\"dataframe\">\n",
       "  <thead>\n",
       "    <tr style=\"text-align: right;\">\n",
       "      <th></th>\n",
       "      <th>criteriumId</th>\n",
       "      <th>criteriumName</th>\n",
       "      <th>labelerIdList</th>\n",
       "      <th>train</th>\n",
       "      <th>val</th>\n",
       "      <th>test</th>\n",
       "      <th>modelId</th>\n",
       "      <th>spindleTimeRate</th>\n",
       "    </tr>\n",
       "  </thead>\n",
       "  <tbody>\n",
       "    <tr>\n",
       "      <th>0</th>\n",
       "      <td>0002</td>\n",
       "      <td>E2</td>\n",
       "      <td>[0002]</td>\n",
       "      <td>[0003, 0005, 0006, 0007, 0009, 0010, 0011, 001...</td>\n",
       "      <td>[0003, 0005, 0006, 0007, 0009, 0010, 0011, 001...</td>\n",
       "      <td>[0001, 0002, 0014]</td>\n",
       "      <td>7436536a-3527-4834-a44b-366fcbe0cd99</td>\n",
       "      <td>0.052974</td>\n",
       "    </tr>\n",
       "    <tr>\n",
       "      <th>1</th>\n",
       "      <td>0002</td>\n",
       "      <td>E2</td>\n",
       "      <td>[0002]</td>\n",
       "      <td>[0001, 0002, 0003, 0005, 0007, 0011, 0012, 001...</td>\n",
       "      <td>[0001, 0002, 0003, 0005, 0007, 0011, 0012, 001...</td>\n",
       "      <td>[0006, 0010, 0009]</td>\n",
       "      <td>5646178b-299e-43f6-a02e-3cba8c85f86a</td>\n",
       "      <td>0.058345</td>\n",
       "    </tr>\n",
       "    <tr>\n",
       "      <th>2</th>\n",
       "      <td>0002</td>\n",
       "      <td>E2</td>\n",
       "      <td>[0002]</td>\n",
       "      <td>[0001, 0002, 0003, 0005, 0006, 0007, 0009, 001...</td>\n",
       "      <td>[0001, 0002, 0003, 0005, 0006, 0007, 0009, 001...</td>\n",
       "      <td>[0011, 0017, 0018]</td>\n",
       "      <td>1ad1098f-696e-423b-b78c-f88499161b60</td>\n",
       "      <td>0.058463</td>\n",
       "    </tr>\n",
       "    <tr>\n",
       "      <th>3</th>\n",
       "      <td>0002</td>\n",
       "      <td>E2</td>\n",
       "      <td>[0002]</td>\n",
       "      <td>[0001, 0002, 0005, 0006, 0009, 0010, 0011, 001...</td>\n",
       "      <td>[0001, 0002, 0005, 0006, 0009, 0010, 0011, 001...</td>\n",
       "      <td>[0003, 0007, 0019]</td>\n",
       "      <td>3986159f-0cca-4e15-bbde-8620684cc08f</td>\n",
       "      <td>0.063501</td>\n",
       "    </tr>\n",
       "    <tr>\n",
       "      <th>4</th>\n",
       "      <td>0002</td>\n",
       "      <td>E2</td>\n",
       "      <td>[0002]</td>\n",
       "      <td>[0001, 0002, 0003, 0006, 0007, 0009, 0010, 001...</td>\n",
       "      <td>[0001, 0002, 0003, 0006, 0007, 0009, 0010, 001...</td>\n",
       "      <td>[0005, 0012, 0013]</td>\n",
       "      <td>caaad152-e392-4ac5-b420-f736af46b943</td>\n",
       "      <td>0.062113</td>\n",
       "    </tr>\n",
       "  </tbody>\n",
       "</table>\n",
       "</div>"
      ],
      "text/plain": [
       "  criteriumId criteriumName labelerIdList  \\\n",
       "0        0002            E2        [0002]   \n",
       "1        0002            E2        [0002]   \n",
       "2        0002            E2        [0002]   \n",
       "3        0002            E2        [0002]   \n",
       "4        0002            E2        [0002]   \n",
       "\n",
       "                                               train  \\\n",
       "0  [0003, 0005, 0006, 0007, 0009, 0010, 0011, 001...   \n",
       "1  [0001, 0002, 0003, 0005, 0007, 0011, 0012, 001...   \n",
       "2  [0001, 0002, 0003, 0005, 0006, 0007, 0009, 001...   \n",
       "3  [0001, 0002, 0005, 0006, 0009, 0010, 0011, 001...   \n",
       "4  [0001, 0002, 0003, 0006, 0007, 0009, 0010, 001...   \n",
       "\n",
       "                                                 val                test  \\\n",
       "0  [0003, 0005, 0006, 0007, 0009, 0010, 0011, 001...  [0001, 0002, 0014]   \n",
       "1  [0001, 0002, 0003, 0005, 0007, 0011, 0012, 001...  [0006, 0010, 0009]   \n",
       "2  [0001, 0002, 0003, 0005, 0006, 0007, 0009, 001...  [0011, 0017, 0018]   \n",
       "3  [0001, 0002, 0005, 0006, 0009, 0010, 0011, 001...  [0003, 0007, 0019]   \n",
       "4  [0001, 0002, 0003, 0006, 0007, 0009, 0010, 001...  [0005, 0012, 0013]   \n",
       "\n",
       "                                modelId  spindleTimeRate  \n",
       "0  7436536a-3527-4834-a44b-366fcbe0cd99         0.052974  \n",
       "1  5646178b-299e-43f6-a02e-3cba8c85f86a         0.058345  \n",
       "2  1ad1098f-696e-423b-b78c-f88499161b60         0.058463  \n",
       "3  3986159f-0cca-4e15-bbde-8620684cc08f         0.063501  \n",
       "4  caaad152-e392-4ac5-b420-f736af46b943         0.062113  "
      ]
     },
     "execution_count": 11,
     "metadata": {},
     "output_type": "execute_result"
    }
   ],
   "source": [
    "experimentModels=experimentModels[experimentModels.criteriumName=='E2'].reset_index(drop=True)\n",
    "experimentModels"
   ]
  },
  {
   "cell_type": "code",
   "execution_count": 12,
   "metadata": {},
   "outputs": [
    {
     "data": {
      "text/html": [
       "<div>\n",
       "<style scoped>\n",
       "    .dataframe tbody tr th:only-of-type {\n",
       "        vertical-align: middle;\n",
       "    }\n",
       "\n",
       "    .dataframe tbody tr th {\n",
       "        vertical-align: top;\n",
       "    }\n",
       "\n",
       "    .dataframe thead th {\n",
       "        text-align: right;\n",
       "    }\n",
       "</style>\n",
       "<table border=\"1\" class=\"dataframe\">\n",
       "  <thead>\n",
       "    <tr style=\"text-align: right;\">\n",
       "      <th></th>\n",
       "      <th>hyperThres</th>\n",
       "      <th>hyperDepth</th>\n",
       "      <th>hyperMinDuration</th>\n",
       "      <th>hyperMaxDuration</th>\n",
       "      <th>hyperClose</th>\n",
       "    </tr>\n",
       "  </thead>\n",
       "  <tbody>\n",
       "    <tr>\n",
       "      <th>0</th>\n",
       "      <td>0.1</td>\n",
       "      <td>10</td>\n",
       "      <td>0.3</td>\n",
       "      <td>5</td>\n",
       "      <td>0.1</td>\n",
       "    </tr>\n",
       "    <tr>\n",
       "      <th>1</th>\n",
       "      <td>0.1</td>\n",
       "      <td>20</td>\n",
       "      <td>0.3</td>\n",
       "      <td>5</td>\n",
       "      <td>0.1</td>\n",
       "    </tr>\n",
       "    <tr>\n",
       "      <th>2</th>\n",
       "      <td>0.1</td>\n",
       "      <td>30</td>\n",
       "      <td>0.3</td>\n",
       "      <td>5</td>\n",
       "      <td>0.1</td>\n",
       "    </tr>\n",
       "    <tr>\n",
       "      <th>3</th>\n",
       "      <td>0.1</td>\n",
       "      <td>40</td>\n",
       "      <td>0.3</td>\n",
       "      <td>5</td>\n",
       "      <td>0.1</td>\n",
       "    </tr>\n",
       "    <tr>\n",
       "      <th>4</th>\n",
       "      <td>0.1</td>\n",
       "      <td>50</td>\n",
       "      <td>0.3</td>\n",
       "      <td>5</td>\n",
       "      <td>0.1</td>\n",
       "    </tr>\n",
       "    <tr>\n",
       "      <th>5</th>\n",
       "      <td>0.1</td>\n",
       "      <td>60</td>\n",
       "      <td>0.3</td>\n",
       "      <td>5</td>\n",
       "      <td>0.1</td>\n",
       "    </tr>\n",
       "    <tr>\n",
       "      <th>6</th>\n",
       "      <td>0.2</td>\n",
       "      <td>10</td>\n",
       "      <td>0.3</td>\n",
       "      <td>5</td>\n",
       "      <td>0.1</td>\n",
       "    </tr>\n",
       "    <tr>\n",
       "      <th>7</th>\n",
       "      <td>0.2</td>\n",
       "      <td>20</td>\n",
       "      <td>0.3</td>\n",
       "      <td>5</td>\n",
       "      <td>0.1</td>\n",
       "    </tr>\n",
       "    <tr>\n",
       "      <th>8</th>\n",
       "      <td>0.2</td>\n",
       "      <td>30</td>\n",
       "      <td>0.3</td>\n",
       "      <td>5</td>\n",
       "      <td>0.1</td>\n",
       "    </tr>\n",
       "    <tr>\n",
       "      <th>9</th>\n",
       "      <td>0.2</td>\n",
       "      <td>40</td>\n",
       "      <td>0.3</td>\n",
       "      <td>5</td>\n",
       "      <td>0.1</td>\n",
       "    </tr>\n",
       "    <tr>\n",
       "      <th>10</th>\n",
       "      <td>0.2</td>\n",
       "      <td>50</td>\n",
       "      <td>0.3</td>\n",
       "      <td>5</td>\n",
       "      <td>0.1</td>\n",
       "    </tr>\n",
       "    <tr>\n",
       "      <th>11</th>\n",
       "      <td>0.2</td>\n",
       "      <td>60</td>\n",
       "      <td>0.3</td>\n",
       "      <td>5</td>\n",
       "      <td>0.1</td>\n",
       "    </tr>\n",
       "    <tr>\n",
       "      <th>12</th>\n",
       "      <td>0.3</td>\n",
       "      <td>10</td>\n",
       "      <td>0.3</td>\n",
       "      <td>5</td>\n",
       "      <td>0.1</td>\n",
       "    </tr>\n",
       "    <tr>\n",
       "      <th>13</th>\n",
       "      <td>0.3</td>\n",
       "      <td>20</td>\n",
       "      <td>0.3</td>\n",
       "      <td>5</td>\n",
       "      <td>0.1</td>\n",
       "    </tr>\n",
       "    <tr>\n",
       "      <th>14</th>\n",
       "      <td>0.3</td>\n",
       "      <td>30</td>\n",
       "      <td>0.3</td>\n",
       "      <td>5</td>\n",
       "      <td>0.1</td>\n",
       "    </tr>\n",
       "    <tr>\n",
       "      <th>15</th>\n",
       "      <td>0.3</td>\n",
       "      <td>40</td>\n",
       "      <td>0.3</td>\n",
       "      <td>5</td>\n",
       "      <td>0.1</td>\n",
       "    </tr>\n",
       "    <tr>\n",
       "      <th>16</th>\n",
       "      <td>0.3</td>\n",
       "      <td>50</td>\n",
       "      <td>0.3</td>\n",
       "      <td>5</td>\n",
       "      <td>0.1</td>\n",
       "    </tr>\n",
       "    <tr>\n",
       "      <th>17</th>\n",
       "      <td>0.3</td>\n",
       "      <td>60</td>\n",
       "      <td>0.3</td>\n",
       "      <td>5</td>\n",
       "      <td>0.1</td>\n",
       "    </tr>\n",
       "    <tr>\n",
       "      <th>18</th>\n",
       "      <td>0.4</td>\n",
       "      <td>10</td>\n",
       "      <td>0.3</td>\n",
       "      <td>5</td>\n",
       "      <td>0.1</td>\n",
       "    </tr>\n",
       "    <tr>\n",
       "      <th>19</th>\n",
       "      <td>0.4</td>\n",
       "      <td>20</td>\n",
       "      <td>0.3</td>\n",
       "      <td>5</td>\n",
       "      <td>0.1</td>\n",
       "    </tr>\n",
       "    <tr>\n",
       "      <th>20</th>\n",
       "      <td>0.4</td>\n",
       "      <td>30</td>\n",
       "      <td>0.3</td>\n",
       "      <td>5</td>\n",
       "      <td>0.1</td>\n",
       "    </tr>\n",
       "    <tr>\n",
       "      <th>21</th>\n",
       "      <td>0.4</td>\n",
       "      <td>40</td>\n",
       "      <td>0.3</td>\n",
       "      <td>5</td>\n",
       "      <td>0.1</td>\n",
       "    </tr>\n",
       "    <tr>\n",
       "      <th>22</th>\n",
       "      <td>0.4</td>\n",
       "      <td>50</td>\n",
       "      <td>0.3</td>\n",
       "      <td>5</td>\n",
       "      <td>0.1</td>\n",
       "    </tr>\n",
       "    <tr>\n",
       "      <th>23</th>\n",
       "      <td>0.4</td>\n",
       "      <td>60</td>\n",
       "      <td>0.3</td>\n",
       "      <td>5</td>\n",
       "      <td>0.1</td>\n",
       "    </tr>\n",
       "    <tr>\n",
       "      <th>24</th>\n",
       "      <td>0.5</td>\n",
       "      <td>10</td>\n",
       "      <td>0.3</td>\n",
       "      <td>5</td>\n",
       "      <td>0.1</td>\n",
       "    </tr>\n",
       "    <tr>\n",
       "      <th>25</th>\n",
       "      <td>0.5</td>\n",
       "      <td>20</td>\n",
       "      <td>0.3</td>\n",
       "      <td>5</td>\n",
       "      <td>0.1</td>\n",
       "    </tr>\n",
       "    <tr>\n",
       "      <th>26</th>\n",
       "      <td>0.5</td>\n",
       "      <td>30</td>\n",
       "      <td>0.3</td>\n",
       "      <td>5</td>\n",
       "      <td>0.1</td>\n",
       "    </tr>\n",
       "    <tr>\n",
       "      <th>27</th>\n",
       "      <td>0.5</td>\n",
       "      <td>40</td>\n",
       "      <td>0.3</td>\n",
       "      <td>5</td>\n",
       "      <td>0.1</td>\n",
       "    </tr>\n",
       "    <tr>\n",
       "      <th>28</th>\n",
       "      <td>0.5</td>\n",
       "      <td>50</td>\n",
       "      <td>0.3</td>\n",
       "      <td>5</td>\n",
       "      <td>0.1</td>\n",
       "    </tr>\n",
       "    <tr>\n",
       "      <th>29</th>\n",
       "      <td>0.5</td>\n",
       "      <td>60</td>\n",
       "      <td>0.3</td>\n",
       "      <td>5</td>\n",
       "      <td>0.1</td>\n",
       "    </tr>\n",
       "    <tr>\n",
       "      <th>30</th>\n",
       "      <td>0.6</td>\n",
       "      <td>10</td>\n",
       "      <td>0.3</td>\n",
       "      <td>5</td>\n",
       "      <td>0.1</td>\n",
       "    </tr>\n",
       "    <tr>\n",
       "      <th>31</th>\n",
       "      <td>0.6</td>\n",
       "      <td>20</td>\n",
       "      <td>0.3</td>\n",
       "      <td>5</td>\n",
       "      <td>0.1</td>\n",
       "    </tr>\n",
       "    <tr>\n",
       "      <th>32</th>\n",
       "      <td>0.6</td>\n",
       "      <td>30</td>\n",
       "      <td>0.3</td>\n",
       "      <td>5</td>\n",
       "      <td>0.1</td>\n",
       "    </tr>\n",
       "    <tr>\n",
       "      <th>33</th>\n",
       "      <td>0.6</td>\n",
       "      <td>40</td>\n",
       "      <td>0.3</td>\n",
       "      <td>5</td>\n",
       "      <td>0.1</td>\n",
       "    </tr>\n",
       "    <tr>\n",
       "      <th>34</th>\n",
       "      <td>0.6</td>\n",
       "      <td>50</td>\n",
       "      <td>0.3</td>\n",
       "      <td>5</td>\n",
       "      <td>0.1</td>\n",
       "    </tr>\n",
       "    <tr>\n",
       "      <th>35</th>\n",
       "      <td>0.6</td>\n",
       "      <td>60</td>\n",
       "      <td>0.3</td>\n",
       "      <td>5</td>\n",
       "      <td>0.1</td>\n",
       "    </tr>\n",
       "  </tbody>\n",
       "</table>\n",
       "</div>"
      ],
      "text/plain": [
       "    hyperThres  hyperDepth  hyperMinDuration  hyperMaxDuration  hyperClose\n",
       "0          0.1          10               0.3                 5         0.1\n",
       "1          0.1          20               0.3                 5         0.1\n",
       "2          0.1          30               0.3                 5         0.1\n",
       "3          0.1          40               0.3                 5         0.1\n",
       "4          0.1          50               0.3                 5         0.1\n",
       "5          0.1          60               0.3                 5         0.1\n",
       "6          0.2          10               0.3                 5         0.1\n",
       "7          0.2          20               0.3                 5         0.1\n",
       "8          0.2          30               0.3                 5         0.1\n",
       "9          0.2          40               0.3                 5         0.1\n",
       "10         0.2          50               0.3                 5         0.1\n",
       "11         0.2          60               0.3                 5         0.1\n",
       "12         0.3          10               0.3                 5         0.1\n",
       "13         0.3          20               0.3                 5         0.1\n",
       "14         0.3          30               0.3                 5         0.1\n",
       "15         0.3          40               0.3                 5         0.1\n",
       "16         0.3          50               0.3                 5         0.1\n",
       "17         0.3          60               0.3                 5         0.1\n",
       "18         0.4          10               0.3                 5         0.1\n",
       "19         0.4          20               0.3                 5         0.1\n",
       "20         0.4          30               0.3                 5         0.1\n",
       "21         0.4          40               0.3                 5         0.1\n",
       "22         0.4          50               0.3                 5         0.1\n",
       "23         0.4          60               0.3                 5         0.1\n",
       "24         0.5          10               0.3                 5         0.1\n",
       "25         0.5          20               0.3                 5         0.1\n",
       "26         0.5          30               0.3                 5         0.1\n",
       "27         0.5          40               0.3                 5         0.1\n",
       "28         0.5          50               0.3                 5         0.1\n",
       "29         0.5          60               0.3                 5         0.1\n",
       "30         0.6          10               0.3                 5         0.1\n",
       "31         0.6          20               0.3                 5         0.1\n",
       "32         0.6          30               0.3                 5         0.1\n",
       "33         0.6          40               0.3                 5         0.1\n",
       "34         0.6          50               0.3                 5         0.1\n",
       "35         0.6          60               0.3                 5         0.1"
      ]
     },
     "execution_count": 12,
     "metadata": {},
     "output_type": "execute_result"
    }
   ],
   "source": [
    "auxThres=pd.DataFrame({\n",
    "    'hyperThres':[0.1,0.2,0.3,0.4,0.5,0.6]\n",
    "})\n",
    "auxDepth=pd.DataFrame({\n",
    "    'hyperDepth':[10,20,30,40,50,60]\n",
    "})\n",
    "auxMinDuration=pd.DataFrame({\n",
    "    'hyperMinDuration':[0.3]\n",
    "})\n",
    "auxMaxDuration=pd.DataFrame({\n",
    "    'hyperMaxDuration':[5]\n",
    "})\n",
    "auxClose=pd.DataFrame({\n",
    "    'hyperClose':[0.1]\n",
    "})\n",
    "\n",
    "\n",
    "hyperParams=pd.merge(auxThres,auxDepth,how='cross')\n",
    "hyperParams=pd.merge(hyperParams,auxMinDuration,how='cross')\n",
    "hyperParams=pd.merge(hyperParams,auxMaxDuration,how='cross')\n",
    "hyperParams=pd.merge(hyperParams,auxClose,how='cross')\n",
    "\n",
    "hyperParams"
   ]
  },
  {
   "cell_type": "code",
   "execution_count": 13,
   "metadata": {},
   "outputs": [
    {
     "name": "stdout",
     "output_type": "stream",
     "text": [
      "0\n",
      "1\n",
      "2\n",
      "3\n",
      "4\n",
      "5\n",
      "6\n",
      "7\n",
      "8\n",
      "9\n",
      "10\n",
      "11\n",
      "12\n",
      "13\n",
      "14\n",
      "15\n",
      "16\n",
      "17\n",
      "18\n",
      "19\n",
      "20\n",
      "21\n",
      "22\n",
      "23\n",
      "24\n",
      "25\n",
      "26\n",
      "27\n",
      "28\n",
      "29\n",
      "30\n",
      "31\n",
      "32\n",
      "33\n",
      "34\n",
      "35\n"
     ]
    }
   ],
   "source": [
    "hyperExperimentModels=[]\n",
    "hyperMeanF1=[]\n",
    "hyperStdF1=[]\n",
    "\n",
    "for ind_hyper,row_hyper in hyperParams.iterrows():\n",
    "    print(ind_hyper)\n",
    "    thisExperimentModels=experimentModels.copy()\n",
    "    hyperThres=row_hyper.hyperThres\n",
    "    hyperDepth=int(row_hyper.hyperDepth)\n",
    "    hyperMinDuration=row_hyper.hyperMinDuration\n",
    "    hyperMaxDuration=row_hyper.hyperMaxDuration\n",
    "    hyperClose=row_hyper.hyperClose\n",
    "    \n",
    "    meanF1=[]\n",
    "    meanPrecision=[]\n",
    "    meanRecall=[]\n",
    "\n",
    "    stdF1=[]\n",
    "    stdPrecision=[]\n",
    "    stdRecall=[]\n",
    "\n",
    "    for ind,row in thisExperimentModels.iterrows():\n",
    "        #load model\n",
    "        model=loadBooster(row.modelId,experimentId,datapath)\n",
    "        #initialise lists\n",
    "        rawF1s=[]\n",
    "        rawPrecisions=[]\n",
    "        rawRecalls=[]\n",
    "\n",
    "        f1s=[]\n",
    "        precisions=[]\n",
    "        recalls=[]\n",
    "\n",
    "        #iterate validation subjects\n",
    "        for valSubjectId in row.val:\n",
    "            #Define annotations criterium\n",
    "            usedAnnotations=annotations[annotations.labelerId.isin(row.labelerIdList)].reset_index(drop=True)\n",
    "            #Load features and labels\n",
    "            valFeatures=loadFeatureMatrix([valSubjectId],featureSelection,signalsMetadata,samplerate,datapath)\n",
    "            valLabels=loadLabelsVector([valSubjectId],usedAnnotations,signalsMetadata,samplerate)\n",
    "            #Predict\n",
    "            valDMatrix=xgb.DMatrix(data=valFeatures)\n",
    "            probabilities=model.predict(valDMatrix,iteration_range=(0,hyperDepth))\n",
    "            raw=probabilities>=hyperThres\n",
    "            #Processed labels\n",
    "            processed=labelingProcess(raw,hyperClose,hyperMinDuration,samplerate)\n",
    "            gtAnnotations=labelVectorToAnnotations(valLabels,samplerate)\n",
    "            detections=labelVectorToAnnotations(processed,samplerate)\n",
    "            detections=detections[detections.duration<hyperMaxDuration]\n",
    "            #Metrics\n",
    "            f,r,p=annotationPairToMetrics(gtAnnotations,detections)\n",
    "            \n",
    "            #Metric appends\n",
    "            f1s.append(f)\n",
    "            precisions.append(p)\n",
    "            recalls.append(r)\n",
    "\n",
    "        #statistics of the metrics over the subjects of the validation set\n",
    "        meanF1.append(np.mean(f1s))\n",
    "        meanPrecision.append(np.mean(precisions))\n",
    "        meanRecall.append(np.mean(recalls))\n",
    "\n",
    "        stdF1.append(np.std(f1s))\n",
    "        stdPrecision.append(np.std(precisions))\n",
    "        stdRecall.append(np.std(recalls))\n",
    "        \n",
    "    thisExperimentModels['meanF1']=meanF1\n",
    "    thisExperimentModels['meanPrecision']=meanPrecision\n",
    "    thisExperimentModels['meanRecall']=meanRecall\n",
    "    \n",
    "    thisExperimentModels['stdF1']=stdF1\n",
    "    thisExperimentModels['stdPrecision']=stdPrecision\n",
    "    thisExperimentModels['stdRecall']=stdRecall\n",
    "\n",
    "    hyperExperimentModels.append(thisExperimentModels)\n",
    "    hyperMeanF1.append(np.mean(thisExperimentModels['meanF1']))\n",
    "    hyperStdF1.append(np.std(thisExperimentModels['meanF1']))\n",
    "    "
   ]
  },
  {
   "cell_type": "code",
   "execution_count": 14,
   "metadata": {},
   "outputs": [],
   "source": [
    "hyperParams['meanMeanF1']=hyperMeanF1\n",
    "hyperParams['stdMeanF1']=hyperStdF1"
   ]
  },
  {
   "cell_type": "code",
   "execution_count": 15,
   "metadata": {},
   "outputs": [
    {
     "name": "stdout",
     "output_type": "stream",
     "text": [
      "maximal mean score at:\n"
     ]
    },
    {
     "data": {
      "text/plain": [
       "hyperThres           0.400000\n",
       "hyperDepth          60.000000\n",
       "hyperMinDuration     0.300000\n",
       "hyperMaxDuration     5.000000\n",
       "hyperClose           0.100000\n",
       "meanMeanF1           0.780015\n",
       "stdMeanF1            0.005323\n",
       "Name: 23, dtype: float64"
      ]
     },
     "execution_count": 15,
     "metadata": {},
     "output_type": "execute_result"
    }
   ],
   "source": [
    "optimalInd=hyperParams[hyperParams.meanMeanF1==np.max(hyperParams.meanMeanF1)].index[0]\n",
    "print(\"maximal mean score at:\")\n",
    "optimal=hyperParams.iloc[optimalInd]\n",
    "optimal"
   ]
  },
  {
   "attachments": {},
   "cell_type": "markdown",
   "metadata": {},
   "source": [
    "## Graphical representation of the optimal point"
   ]
  },
  {
   "cell_type": "code",
   "execution_count": 16,
   "metadata": {},
   "outputs": [
    {
     "data": {
      "application/vnd.plotly.v1+json": {
       "config": {
        "plotlyServerURL": "https://plot.ly"
       },
       "data": [
        {
         "error_y": {
          "array": [
           0.0045276326232112285,
           0.004332781011577298,
           0.004954546757597608,
           0.0053234344662198676,
           0.008339477030530616,
           0.010666964951480798
          ]
         },
         "hovertemplate": "hyperThres=%{x}<br>meanMeanF1=%{y}<extra></extra>",
         "legendgroup": "",
         "marker": {
          "color": "#636efa",
          "symbol": "circle"
         },
         "mode": "markers",
         "name": "",
         "orientation": "v",
         "showlegend": false,
         "type": "scatter",
         "x": [
          0.1,
          0.2,
          0.3,
          0.4,
          0.5,
          0.6
         ],
         "xaxis": "x",
         "y": [
          0.6794190788945411,
          0.7459377765494517,
          0.7734916041947723,
          0.7800151295607748,
          0.7695269464235339,
          0.7400139642246697
         ],
         "yaxis": "y"
        }
       ],
       "layout": {
        "legend": {
         "tracegroupgap": 0
        },
        "margin": {
         "t": 60
        },
        "template": {
         "data": {
          "bar": [
           {
            "error_x": {
             "color": "#2a3f5f"
            },
            "error_y": {
             "color": "#2a3f5f"
            },
            "marker": {
             "line": {
              "color": "#E5ECF6",
              "width": 0.5
             },
             "pattern": {
              "fillmode": "overlay",
              "size": 10,
              "solidity": 0.2
             }
            },
            "type": "bar"
           }
          ],
          "barpolar": [
           {
            "marker": {
             "line": {
              "color": "#E5ECF6",
              "width": 0.5
             },
             "pattern": {
              "fillmode": "overlay",
              "size": 10,
              "solidity": 0.2
             }
            },
            "type": "barpolar"
           }
          ],
          "carpet": [
           {
            "aaxis": {
             "endlinecolor": "#2a3f5f",
             "gridcolor": "white",
             "linecolor": "white",
             "minorgridcolor": "white",
             "startlinecolor": "#2a3f5f"
            },
            "baxis": {
             "endlinecolor": "#2a3f5f",
             "gridcolor": "white",
             "linecolor": "white",
             "minorgridcolor": "white",
             "startlinecolor": "#2a3f5f"
            },
            "type": "carpet"
           }
          ],
          "choropleth": [
           {
            "colorbar": {
             "outlinewidth": 0,
             "ticks": ""
            },
            "type": "choropleth"
           }
          ],
          "contour": [
           {
            "colorbar": {
             "outlinewidth": 0,
             "ticks": ""
            },
            "colorscale": [
             [
              0,
              "#0d0887"
             ],
             [
              0.1111111111111111,
              "#46039f"
             ],
             [
              0.2222222222222222,
              "#7201a8"
             ],
             [
              0.3333333333333333,
              "#9c179e"
             ],
             [
              0.4444444444444444,
              "#bd3786"
             ],
             [
              0.5555555555555556,
              "#d8576b"
             ],
             [
              0.6666666666666666,
              "#ed7953"
             ],
             [
              0.7777777777777778,
              "#fb9f3a"
             ],
             [
              0.8888888888888888,
              "#fdca26"
             ],
             [
              1,
              "#f0f921"
             ]
            ],
            "type": "contour"
           }
          ],
          "contourcarpet": [
           {
            "colorbar": {
             "outlinewidth": 0,
             "ticks": ""
            },
            "type": "contourcarpet"
           }
          ],
          "heatmap": [
           {
            "colorbar": {
             "outlinewidth": 0,
             "ticks": ""
            },
            "colorscale": [
             [
              0,
              "#0d0887"
             ],
             [
              0.1111111111111111,
              "#46039f"
             ],
             [
              0.2222222222222222,
              "#7201a8"
             ],
             [
              0.3333333333333333,
              "#9c179e"
             ],
             [
              0.4444444444444444,
              "#bd3786"
             ],
             [
              0.5555555555555556,
              "#d8576b"
             ],
             [
              0.6666666666666666,
              "#ed7953"
             ],
             [
              0.7777777777777778,
              "#fb9f3a"
             ],
             [
              0.8888888888888888,
              "#fdca26"
             ],
             [
              1,
              "#f0f921"
             ]
            ],
            "type": "heatmap"
           }
          ],
          "heatmapgl": [
           {
            "colorbar": {
             "outlinewidth": 0,
             "ticks": ""
            },
            "colorscale": [
             [
              0,
              "#0d0887"
             ],
             [
              0.1111111111111111,
              "#46039f"
             ],
             [
              0.2222222222222222,
              "#7201a8"
             ],
             [
              0.3333333333333333,
              "#9c179e"
             ],
             [
              0.4444444444444444,
              "#bd3786"
             ],
             [
              0.5555555555555556,
              "#d8576b"
             ],
             [
              0.6666666666666666,
              "#ed7953"
             ],
             [
              0.7777777777777778,
              "#fb9f3a"
             ],
             [
              0.8888888888888888,
              "#fdca26"
             ],
             [
              1,
              "#f0f921"
             ]
            ],
            "type": "heatmapgl"
           }
          ],
          "histogram": [
           {
            "marker": {
             "pattern": {
              "fillmode": "overlay",
              "size": 10,
              "solidity": 0.2
             }
            },
            "type": "histogram"
           }
          ],
          "histogram2d": [
           {
            "colorbar": {
             "outlinewidth": 0,
             "ticks": ""
            },
            "colorscale": [
             [
              0,
              "#0d0887"
             ],
             [
              0.1111111111111111,
              "#46039f"
             ],
             [
              0.2222222222222222,
              "#7201a8"
             ],
             [
              0.3333333333333333,
              "#9c179e"
             ],
             [
              0.4444444444444444,
              "#bd3786"
             ],
             [
              0.5555555555555556,
              "#d8576b"
             ],
             [
              0.6666666666666666,
              "#ed7953"
             ],
             [
              0.7777777777777778,
              "#fb9f3a"
             ],
             [
              0.8888888888888888,
              "#fdca26"
             ],
             [
              1,
              "#f0f921"
             ]
            ],
            "type": "histogram2d"
           }
          ],
          "histogram2dcontour": [
           {
            "colorbar": {
             "outlinewidth": 0,
             "ticks": ""
            },
            "colorscale": [
             [
              0,
              "#0d0887"
             ],
             [
              0.1111111111111111,
              "#46039f"
             ],
             [
              0.2222222222222222,
              "#7201a8"
             ],
             [
              0.3333333333333333,
              "#9c179e"
             ],
             [
              0.4444444444444444,
              "#bd3786"
             ],
             [
              0.5555555555555556,
              "#d8576b"
             ],
             [
              0.6666666666666666,
              "#ed7953"
             ],
             [
              0.7777777777777778,
              "#fb9f3a"
             ],
             [
              0.8888888888888888,
              "#fdca26"
             ],
             [
              1,
              "#f0f921"
             ]
            ],
            "type": "histogram2dcontour"
           }
          ],
          "mesh3d": [
           {
            "colorbar": {
             "outlinewidth": 0,
             "ticks": ""
            },
            "type": "mesh3d"
           }
          ],
          "parcoords": [
           {
            "line": {
             "colorbar": {
              "outlinewidth": 0,
              "ticks": ""
             }
            },
            "type": "parcoords"
           }
          ],
          "pie": [
           {
            "automargin": true,
            "type": "pie"
           }
          ],
          "scatter": [
           {
            "fillpattern": {
             "fillmode": "overlay",
             "size": 10,
             "solidity": 0.2
            },
            "type": "scatter"
           }
          ],
          "scatter3d": [
           {
            "line": {
             "colorbar": {
              "outlinewidth": 0,
              "ticks": ""
             }
            },
            "marker": {
             "colorbar": {
              "outlinewidth": 0,
              "ticks": ""
             }
            },
            "type": "scatter3d"
           }
          ],
          "scattercarpet": [
           {
            "marker": {
             "colorbar": {
              "outlinewidth": 0,
              "ticks": ""
             }
            },
            "type": "scattercarpet"
           }
          ],
          "scattergeo": [
           {
            "marker": {
             "colorbar": {
              "outlinewidth": 0,
              "ticks": ""
             }
            },
            "type": "scattergeo"
           }
          ],
          "scattergl": [
           {
            "marker": {
             "colorbar": {
              "outlinewidth": 0,
              "ticks": ""
             }
            },
            "type": "scattergl"
           }
          ],
          "scattermapbox": [
           {
            "marker": {
             "colorbar": {
              "outlinewidth": 0,
              "ticks": ""
             }
            },
            "type": "scattermapbox"
           }
          ],
          "scatterpolar": [
           {
            "marker": {
             "colorbar": {
              "outlinewidth": 0,
              "ticks": ""
             }
            },
            "type": "scatterpolar"
           }
          ],
          "scatterpolargl": [
           {
            "marker": {
             "colorbar": {
              "outlinewidth": 0,
              "ticks": ""
             }
            },
            "type": "scatterpolargl"
           }
          ],
          "scatterternary": [
           {
            "marker": {
             "colorbar": {
              "outlinewidth": 0,
              "ticks": ""
             }
            },
            "type": "scatterternary"
           }
          ],
          "surface": [
           {
            "colorbar": {
             "outlinewidth": 0,
             "ticks": ""
            },
            "colorscale": [
             [
              0,
              "#0d0887"
             ],
             [
              0.1111111111111111,
              "#46039f"
             ],
             [
              0.2222222222222222,
              "#7201a8"
             ],
             [
              0.3333333333333333,
              "#9c179e"
             ],
             [
              0.4444444444444444,
              "#bd3786"
             ],
             [
              0.5555555555555556,
              "#d8576b"
             ],
             [
              0.6666666666666666,
              "#ed7953"
             ],
             [
              0.7777777777777778,
              "#fb9f3a"
             ],
             [
              0.8888888888888888,
              "#fdca26"
             ],
             [
              1,
              "#f0f921"
             ]
            ],
            "type": "surface"
           }
          ],
          "table": [
           {
            "cells": {
             "fill": {
              "color": "#EBF0F8"
             },
             "line": {
              "color": "white"
             }
            },
            "header": {
             "fill": {
              "color": "#C8D4E3"
             },
             "line": {
              "color": "white"
             }
            },
            "type": "table"
           }
          ]
         },
         "layout": {
          "annotationdefaults": {
           "arrowcolor": "#2a3f5f",
           "arrowhead": 0,
           "arrowwidth": 1
          },
          "autotypenumbers": "strict",
          "coloraxis": {
           "colorbar": {
            "outlinewidth": 0,
            "ticks": ""
           }
          },
          "colorscale": {
           "diverging": [
            [
             0,
             "#8e0152"
            ],
            [
             0.1,
             "#c51b7d"
            ],
            [
             0.2,
             "#de77ae"
            ],
            [
             0.3,
             "#f1b6da"
            ],
            [
             0.4,
             "#fde0ef"
            ],
            [
             0.5,
             "#f7f7f7"
            ],
            [
             0.6,
             "#e6f5d0"
            ],
            [
             0.7,
             "#b8e186"
            ],
            [
             0.8,
             "#7fbc41"
            ],
            [
             0.9,
             "#4d9221"
            ],
            [
             1,
             "#276419"
            ]
           ],
           "sequential": [
            [
             0,
             "#0d0887"
            ],
            [
             0.1111111111111111,
             "#46039f"
            ],
            [
             0.2222222222222222,
             "#7201a8"
            ],
            [
             0.3333333333333333,
             "#9c179e"
            ],
            [
             0.4444444444444444,
             "#bd3786"
            ],
            [
             0.5555555555555556,
             "#d8576b"
            ],
            [
             0.6666666666666666,
             "#ed7953"
            ],
            [
             0.7777777777777778,
             "#fb9f3a"
            ],
            [
             0.8888888888888888,
             "#fdca26"
            ],
            [
             1,
             "#f0f921"
            ]
           ],
           "sequentialminus": [
            [
             0,
             "#0d0887"
            ],
            [
             0.1111111111111111,
             "#46039f"
            ],
            [
             0.2222222222222222,
             "#7201a8"
            ],
            [
             0.3333333333333333,
             "#9c179e"
            ],
            [
             0.4444444444444444,
             "#bd3786"
            ],
            [
             0.5555555555555556,
             "#d8576b"
            ],
            [
             0.6666666666666666,
             "#ed7953"
            ],
            [
             0.7777777777777778,
             "#fb9f3a"
            ],
            [
             0.8888888888888888,
             "#fdca26"
            ],
            [
             1,
             "#f0f921"
            ]
           ]
          },
          "colorway": [
           "#636efa",
           "#EF553B",
           "#00cc96",
           "#ab63fa",
           "#FFA15A",
           "#19d3f3",
           "#FF6692",
           "#B6E880",
           "#FF97FF",
           "#FECB52"
          ],
          "font": {
           "color": "#2a3f5f"
          },
          "geo": {
           "bgcolor": "white",
           "lakecolor": "white",
           "landcolor": "#E5ECF6",
           "showlakes": true,
           "showland": true,
           "subunitcolor": "white"
          },
          "hoverlabel": {
           "align": "left"
          },
          "hovermode": "closest",
          "mapbox": {
           "style": "light"
          },
          "paper_bgcolor": "white",
          "plot_bgcolor": "#E5ECF6",
          "polar": {
           "angularaxis": {
            "gridcolor": "white",
            "linecolor": "white",
            "ticks": ""
           },
           "bgcolor": "#E5ECF6",
           "radialaxis": {
            "gridcolor": "white",
            "linecolor": "white",
            "ticks": ""
           }
          },
          "scene": {
           "xaxis": {
            "backgroundcolor": "#E5ECF6",
            "gridcolor": "white",
            "gridwidth": 2,
            "linecolor": "white",
            "showbackground": true,
            "ticks": "",
            "zerolinecolor": "white"
           },
           "yaxis": {
            "backgroundcolor": "#E5ECF6",
            "gridcolor": "white",
            "gridwidth": 2,
            "linecolor": "white",
            "showbackground": true,
            "ticks": "",
            "zerolinecolor": "white"
           },
           "zaxis": {
            "backgroundcolor": "#E5ECF6",
            "gridcolor": "white",
            "gridwidth": 2,
            "linecolor": "white",
            "showbackground": true,
            "ticks": "",
            "zerolinecolor": "white"
           }
          },
          "shapedefaults": {
           "line": {
            "color": "#2a3f5f"
           }
          },
          "ternary": {
           "aaxis": {
            "gridcolor": "white",
            "linecolor": "white",
            "ticks": ""
           },
           "baxis": {
            "gridcolor": "white",
            "linecolor": "white",
            "ticks": ""
           },
           "bgcolor": "#E5ECF6",
           "caxis": {
            "gridcolor": "white",
            "linecolor": "white",
            "ticks": ""
           }
          },
          "title": {
           "x": 0.05
          },
          "xaxis": {
           "automargin": true,
           "gridcolor": "white",
           "linecolor": "white",
           "ticks": "",
           "title": {
            "standoff": 15
           },
           "zerolinecolor": "white",
           "zerolinewidth": 2
          },
          "yaxis": {
           "automargin": true,
           "gridcolor": "white",
           "linecolor": "white",
           "ticks": "",
           "title": {
            "standoff": 15
           },
           "zerolinecolor": "white",
           "zerolinewidth": 2
          }
         }
        },
        "xaxis": {
         "anchor": "y",
         "domain": [
          0,
          1
         ],
         "title": {
          "text": "hyperThres"
         }
        },
        "yaxis": {
         "anchor": "x",
         "domain": [
          0,
          1
         ],
         "title": {
          "text": "meanMeanF1"
         }
        }
       }
      }
     },
     "metadata": {},
     "output_type": "display_data"
    }
   ],
   "source": [
    "aux=hyperParams[(hyperParams.hyperDepth==optimal.hyperDepth)&(hyperParams.hyperMinDuration==optimal.hyperMinDuration)&\n",
    "                (hyperParams.hyperClose==optimal.hyperClose)&(hyperParams.hyperMaxDuration==optimal.hyperMaxDuration)].reset_index(drop=True)\n",
    "px.scatter(aux,x='hyperThres',y='meanMeanF1',error_y='stdMeanF1')"
   ]
  },
  {
   "cell_type": "code",
   "execution_count": 17,
   "metadata": {},
   "outputs": [
    {
     "data": {
      "application/vnd.plotly.v1+json": {
       "config": {
        "plotlyServerURL": "https://plot.ly"
       },
       "data": [
        {
         "error_y": {
          "array": [
           0.007426645079627116,
           0.007454872001470762,
           0.0061917233687056525,
           0.006022943502266508,
           0.005838817799124177,
           0.0053234344662198676
          ]
         },
         "hovertemplate": "hyperDepth=%{x}<br>meanMeanF1=%{y}<extra></extra>",
         "legendgroup": "",
         "marker": {
          "color": "#636efa",
          "symbol": "circle"
         },
         "mode": "markers",
         "name": "",
         "orientation": "v",
         "showlegend": false,
         "type": "scatter",
         "x": [
          10,
          20,
          30,
          40,
          50,
          60
         ],
         "xaxis": "x",
         "y": [
          0.748948336154358,
          0.7582312809490883,
          0.7651761862898884,
          0.7715680214117764,
          0.7760575846314538,
          0.7800151295607748
         ],
         "yaxis": "y"
        }
       ],
       "layout": {
        "legend": {
         "tracegroupgap": 0
        },
        "margin": {
         "t": 60
        },
        "template": {
         "data": {
          "bar": [
           {
            "error_x": {
             "color": "#2a3f5f"
            },
            "error_y": {
             "color": "#2a3f5f"
            },
            "marker": {
             "line": {
              "color": "#E5ECF6",
              "width": 0.5
             },
             "pattern": {
              "fillmode": "overlay",
              "size": 10,
              "solidity": 0.2
             }
            },
            "type": "bar"
           }
          ],
          "barpolar": [
           {
            "marker": {
             "line": {
              "color": "#E5ECF6",
              "width": 0.5
             },
             "pattern": {
              "fillmode": "overlay",
              "size": 10,
              "solidity": 0.2
             }
            },
            "type": "barpolar"
           }
          ],
          "carpet": [
           {
            "aaxis": {
             "endlinecolor": "#2a3f5f",
             "gridcolor": "white",
             "linecolor": "white",
             "minorgridcolor": "white",
             "startlinecolor": "#2a3f5f"
            },
            "baxis": {
             "endlinecolor": "#2a3f5f",
             "gridcolor": "white",
             "linecolor": "white",
             "minorgridcolor": "white",
             "startlinecolor": "#2a3f5f"
            },
            "type": "carpet"
           }
          ],
          "choropleth": [
           {
            "colorbar": {
             "outlinewidth": 0,
             "ticks": ""
            },
            "type": "choropleth"
           }
          ],
          "contour": [
           {
            "colorbar": {
             "outlinewidth": 0,
             "ticks": ""
            },
            "colorscale": [
             [
              0,
              "#0d0887"
             ],
             [
              0.1111111111111111,
              "#46039f"
             ],
             [
              0.2222222222222222,
              "#7201a8"
             ],
             [
              0.3333333333333333,
              "#9c179e"
             ],
             [
              0.4444444444444444,
              "#bd3786"
             ],
             [
              0.5555555555555556,
              "#d8576b"
             ],
             [
              0.6666666666666666,
              "#ed7953"
             ],
             [
              0.7777777777777778,
              "#fb9f3a"
             ],
             [
              0.8888888888888888,
              "#fdca26"
             ],
             [
              1,
              "#f0f921"
             ]
            ],
            "type": "contour"
           }
          ],
          "contourcarpet": [
           {
            "colorbar": {
             "outlinewidth": 0,
             "ticks": ""
            },
            "type": "contourcarpet"
           }
          ],
          "heatmap": [
           {
            "colorbar": {
             "outlinewidth": 0,
             "ticks": ""
            },
            "colorscale": [
             [
              0,
              "#0d0887"
             ],
             [
              0.1111111111111111,
              "#46039f"
             ],
             [
              0.2222222222222222,
              "#7201a8"
             ],
             [
              0.3333333333333333,
              "#9c179e"
             ],
             [
              0.4444444444444444,
              "#bd3786"
             ],
             [
              0.5555555555555556,
              "#d8576b"
             ],
             [
              0.6666666666666666,
              "#ed7953"
             ],
             [
              0.7777777777777778,
              "#fb9f3a"
             ],
             [
              0.8888888888888888,
              "#fdca26"
             ],
             [
              1,
              "#f0f921"
             ]
            ],
            "type": "heatmap"
           }
          ],
          "heatmapgl": [
           {
            "colorbar": {
             "outlinewidth": 0,
             "ticks": ""
            },
            "colorscale": [
             [
              0,
              "#0d0887"
             ],
             [
              0.1111111111111111,
              "#46039f"
             ],
             [
              0.2222222222222222,
              "#7201a8"
             ],
             [
              0.3333333333333333,
              "#9c179e"
             ],
             [
              0.4444444444444444,
              "#bd3786"
             ],
             [
              0.5555555555555556,
              "#d8576b"
             ],
             [
              0.6666666666666666,
              "#ed7953"
             ],
             [
              0.7777777777777778,
              "#fb9f3a"
             ],
             [
              0.8888888888888888,
              "#fdca26"
             ],
             [
              1,
              "#f0f921"
             ]
            ],
            "type": "heatmapgl"
           }
          ],
          "histogram": [
           {
            "marker": {
             "pattern": {
              "fillmode": "overlay",
              "size": 10,
              "solidity": 0.2
             }
            },
            "type": "histogram"
           }
          ],
          "histogram2d": [
           {
            "colorbar": {
             "outlinewidth": 0,
             "ticks": ""
            },
            "colorscale": [
             [
              0,
              "#0d0887"
             ],
             [
              0.1111111111111111,
              "#46039f"
             ],
             [
              0.2222222222222222,
              "#7201a8"
             ],
             [
              0.3333333333333333,
              "#9c179e"
             ],
             [
              0.4444444444444444,
              "#bd3786"
             ],
             [
              0.5555555555555556,
              "#d8576b"
             ],
             [
              0.6666666666666666,
              "#ed7953"
             ],
             [
              0.7777777777777778,
              "#fb9f3a"
             ],
             [
              0.8888888888888888,
              "#fdca26"
             ],
             [
              1,
              "#f0f921"
             ]
            ],
            "type": "histogram2d"
           }
          ],
          "histogram2dcontour": [
           {
            "colorbar": {
             "outlinewidth": 0,
             "ticks": ""
            },
            "colorscale": [
             [
              0,
              "#0d0887"
             ],
             [
              0.1111111111111111,
              "#46039f"
             ],
             [
              0.2222222222222222,
              "#7201a8"
             ],
             [
              0.3333333333333333,
              "#9c179e"
             ],
             [
              0.4444444444444444,
              "#bd3786"
             ],
             [
              0.5555555555555556,
              "#d8576b"
             ],
             [
              0.6666666666666666,
              "#ed7953"
             ],
             [
              0.7777777777777778,
              "#fb9f3a"
             ],
             [
              0.8888888888888888,
              "#fdca26"
             ],
             [
              1,
              "#f0f921"
             ]
            ],
            "type": "histogram2dcontour"
           }
          ],
          "mesh3d": [
           {
            "colorbar": {
             "outlinewidth": 0,
             "ticks": ""
            },
            "type": "mesh3d"
           }
          ],
          "parcoords": [
           {
            "line": {
             "colorbar": {
              "outlinewidth": 0,
              "ticks": ""
             }
            },
            "type": "parcoords"
           }
          ],
          "pie": [
           {
            "automargin": true,
            "type": "pie"
           }
          ],
          "scatter": [
           {
            "fillpattern": {
             "fillmode": "overlay",
             "size": 10,
             "solidity": 0.2
            },
            "type": "scatter"
           }
          ],
          "scatter3d": [
           {
            "line": {
             "colorbar": {
              "outlinewidth": 0,
              "ticks": ""
             }
            },
            "marker": {
             "colorbar": {
              "outlinewidth": 0,
              "ticks": ""
             }
            },
            "type": "scatter3d"
           }
          ],
          "scattercarpet": [
           {
            "marker": {
             "colorbar": {
              "outlinewidth": 0,
              "ticks": ""
             }
            },
            "type": "scattercarpet"
           }
          ],
          "scattergeo": [
           {
            "marker": {
             "colorbar": {
              "outlinewidth": 0,
              "ticks": ""
             }
            },
            "type": "scattergeo"
           }
          ],
          "scattergl": [
           {
            "marker": {
             "colorbar": {
              "outlinewidth": 0,
              "ticks": ""
             }
            },
            "type": "scattergl"
           }
          ],
          "scattermapbox": [
           {
            "marker": {
             "colorbar": {
              "outlinewidth": 0,
              "ticks": ""
             }
            },
            "type": "scattermapbox"
           }
          ],
          "scatterpolar": [
           {
            "marker": {
             "colorbar": {
              "outlinewidth": 0,
              "ticks": ""
             }
            },
            "type": "scatterpolar"
           }
          ],
          "scatterpolargl": [
           {
            "marker": {
             "colorbar": {
              "outlinewidth": 0,
              "ticks": ""
             }
            },
            "type": "scatterpolargl"
           }
          ],
          "scatterternary": [
           {
            "marker": {
             "colorbar": {
              "outlinewidth": 0,
              "ticks": ""
             }
            },
            "type": "scatterternary"
           }
          ],
          "surface": [
           {
            "colorbar": {
             "outlinewidth": 0,
             "ticks": ""
            },
            "colorscale": [
             [
              0,
              "#0d0887"
             ],
             [
              0.1111111111111111,
              "#46039f"
             ],
             [
              0.2222222222222222,
              "#7201a8"
             ],
             [
              0.3333333333333333,
              "#9c179e"
             ],
             [
              0.4444444444444444,
              "#bd3786"
             ],
             [
              0.5555555555555556,
              "#d8576b"
             ],
             [
              0.6666666666666666,
              "#ed7953"
             ],
             [
              0.7777777777777778,
              "#fb9f3a"
             ],
             [
              0.8888888888888888,
              "#fdca26"
             ],
             [
              1,
              "#f0f921"
             ]
            ],
            "type": "surface"
           }
          ],
          "table": [
           {
            "cells": {
             "fill": {
              "color": "#EBF0F8"
             },
             "line": {
              "color": "white"
             }
            },
            "header": {
             "fill": {
              "color": "#C8D4E3"
             },
             "line": {
              "color": "white"
             }
            },
            "type": "table"
           }
          ]
         },
         "layout": {
          "annotationdefaults": {
           "arrowcolor": "#2a3f5f",
           "arrowhead": 0,
           "arrowwidth": 1
          },
          "autotypenumbers": "strict",
          "coloraxis": {
           "colorbar": {
            "outlinewidth": 0,
            "ticks": ""
           }
          },
          "colorscale": {
           "diverging": [
            [
             0,
             "#8e0152"
            ],
            [
             0.1,
             "#c51b7d"
            ],
            [
             0.2,
             "#de77ae"
            ],
            [
             0.3,
             "#f1b6da"
            ],
            [
             0.4,
             "#fde0ef"
            ],
            [
             0.5,
             "#f7f7f7"
            ],
            [
             0.6,
             "#e6f5d0"
            ],
            [
             0.7,
             "#b8e186"
            ],
            [
             0.8,
             "#7fbc41"
            ],
            [
             0.9,
             "#4d9221"
            ],
            [
             1,
             "#276419"
            ]
           ],
           "sequential": [
            [
             0,
             "#0d0887"
            ],
            [
             0.1111111111111111,
             "#46039f"
            ],
            [
             0.2222222222222222,
             "#7201a8"
            ],
            [
             0.3333333333333333,
             "#9c179e"
            ],
            [
             0.4444444444444444,
             "#bd3786"
            ],
            [
             0.5555555555555556,
             "#d8576b"
            ],
            [
             0.6666666666666666,
             "#ed7953"
            ],
            [
             0.7777777777777778,
             "#fb9f3a"
            ],
            [
             0.8888888888888888,
             "#fdca26"
            ],
            [
             1,
             "#f0f921"
            ]
           ],
           "sequentialminus": [
            [
             0,
             "#0d0887"
            ],
            [
             0.1111111111111111,
             "#46039f"
            ],
            [
             0.2222222222222222,
             "#7201a8"
            ],
            [
             0.3333333333333333,
             "#9c179e"
            ],
            [
             0.4444444444444444,
             "#bd3786"
            ],
            [
             0.5555555555555556,
             "#d8576b"
            ],
            [
             0.6666666666666666,
             "#ed7953"
            ],
            [
             0.7777777777777778,
             "#fb9f3a"
            ],
            [
             0.8888888888888888,
             "#fdca26"
            ],
            [
             1,
             "#f0f921"
            ]
           ]
          },
          "colorway": [
           "#636efa",
           "#EF553B",
           "#00cc96",
           "#ab63fa",
           "#FFA15A",
           "#19d3f3",
           "#FF6692",
           "#B6E880",
           "#FF97FF",
           "#FECB52"
          ],
          "font": {
           "color": "#2a3f5f"
          },
          "geo": {
           "bgcolor": "white",
           "lakecolor": "white",
           "landcolor": "#E5ECF6",
           "showlakes": true,
           "showland": true,
           "subunitcolor": "white"
          },
          "hoverlabel": {
           "align": "left"
          },
          "hovermode": "closest",
          "mapbox": {
           "style": "light"
          },
          "paper_bgcolor": "white",
          "plot_bgcolor": "#E5ECF6",
          "polar": {
           "angularaxis": {
            "gridcolor": "white",
            "linecolor": "white",
            "ticks": ""
           },
           "bgcolor": "#E5ECF6",
           "radialaxis": {
            "gridcolor": "white",
            "linecolor": "white",
            "ticks": ""
           }
          },
          "scene": {
           "xaxis": {
            "backgroundcolor": "#E5ECF6",
            "gridcolor": "white",
            "gridwidth": 2,
            "linecolor": "white",
            "showbackground": true,
            "ticks": "",
            "zerolinecolor": "white"
           },
           "yaxis": {
            "backgroundcolor": "#E5ECF6",
            "gridcolor": "white",
            "gridwidth": 2,
            "linecolor": "white",
            "showbackground": true,
            "ticks": "",
            "zerolinecolor": "white"
           },
           "zaxis": {
            "backgroundcolor": "#E5ECF6",
            "gridcolor": "white",
            "gridwidth": 2,
            "linecolor": "white",
            "showbackground": true,
            "ticks": "",
            "zerolinecolor": "white"
           }
          },
          "shapedefaults": {
           "line": {
            "color": "#2a3f5f"
           }
          },
          "ternary": {
           "aaxis": {
            "gridcolor": "white",
            "linecolor": "white",
            "ticks": ""
           },
           "baxis": {
            "gridcolor": "white",
            "linecolor": "white",
            "ticks": ""
           },
           "bgcolor": "#E5ECF6",
           "caxis": {
            "gridcolor": "white",
            "linecolor": "white",
            "ticks": ""
           }
          },
          "title": {
           "x": 0.05
          },
          "xaxis": {
           "automargin": true,
           "gridcolor": "white",
           "linecolor": "white",
           "ticks": "",
           "title": {
            "standoff": 15
           },
           "zerolinecolor": "white",
           "zerolinewidth": 2
          },
          "yaxis": {
           "automargin": true,
           "gridcolor": "white",
           "linecolor": "white",
           "ticks": "",
           "title": {
            "standoff": 15
           },
           "zerolinecolor": "white",
           "zerolinewidth": 2
          }
         }
        },
        "xaxis": {
         "anchor": "y",
         "domain": [
          0,
          1
         ],
         "title": {
          "text": "hyperDepth"
         }
        },
        "yaxis": {
         "anchor": "x",
         "domain": [
          0,
          1
         ],
         "title": {
          "text": "meanMeanF1"
         }
        }
       }
      }
     },
     "metadata": {},
     "output_type": "display_data"
    }
   ],
   "source": [
    "aux=hyperParams[(hyperParams.hyperThres==optimal.hyperThres)&(hyperParams.hyperMinDuration==optimal.hyperMinDuration)&\n",
    "                (hyperParams.hyperClose==optimal.hyperClose)&(hyperParams.hyperMaxDuration==optimal.hyperMaxDuration)].reset_index(drop=True)\n",
    "px.scatter(aux,x='hyperDepth',y='meanMeanF1',error_y='stdMeanF1')"
   ]
  }
 ],
 "metadata": {
  "kernelspec": {
   "display_name": "Python 3.10.6 ('venv': venv)",
   "language": "python",
   "name": "python3"
  },
  "language_info": {
   "codemirror_mode": {
    "name": "ipython",
    "version": 3
   },
   "file_extension": ".py",
   "mimetype": "text/x-python",
   "name": "python",
   "nbconvert_exporter": "python",
   "pygments_lexer": "ipython3",
   "version": "3.10.6"
  },
  "orig_nbformat": 4,
  "vscode": {
   "interpreter": {
    "hash": "69eb08d3e713eff25484e90b18c01e15df779e80a0db295f9ddc53faed0455be"
   }
  }
 },
 "nbformat": 4,
 "nbformat_minor": 2
}
